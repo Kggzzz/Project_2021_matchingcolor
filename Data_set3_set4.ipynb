{
  "nbformat": 4,
  "nbformat_minor": 0,
  "metadata": {
    "colab": {
      "name": "Data_set3_set4.ipynb",
      "provenance": [],
      "authorship_tag": "ABX9TyNtoue6FcWAtwFY6jJEHdZs",
      "include_colab_link": true
    },
    "kernelspec": {
      "name": "python3",
      "display_name": "Python 3"
    },
    "language_info": {
      "name": "python"
    }
  },
  "cells": [
    {
      "cell_type": "markdown",
      "metadata": {
        "id": "view-in-github",
        "colab_type": "text"
      },
      "source": [
        "<a href=\"https://colab.research.google.com/github/Kggzzz/Project_2021_matchingcolor/blob/main/Data_set3_set4.ipynb\" target=\"_parent\"><img src=\"https://colab.research.google.com/assets/colab-badge.svg\" alt=\"Open In Colab\"/></a>"
      ]
    },
    {
      "cell_type": "code",
      "metadata": {
        "id": "QfJJWz3NE5EF"
      },
      "source": [
        "import pandas as pd"
      ],
      "execution_count": 1,
      "outputs": []
    },
    {
      "cell_type": "code",
      "metadata": {
        "id": "bbhDYuOZFkrI",
        "colab": {
          "base_uri": "https://localhost:8080/"
        },
        "outputId": "18f5e7f1-e72a-4144-8f2e-87f7841f1d2b"
      },
      "source": [
        "from google.colab import drive \n",
        "drive.mount('/content/drive')"
      ],
      "execution_count": 2,
      "outputs": [
        {
          "output_type": "stream",
          "name": "stdout",
          "text": [
            "Mounted at /content/drive\n"
          ]
        }
      ]
    },
    {
      "cell_type": "code",
      "metadata": {
        "id": "gCZ9gB08FlpD"
      },
      "source": [
        "import os"
      ],
      "execution_count": 3,
      "outputs": []
    },
    {
      "cell_type": "code",
      "metadata": {
        "id": "bs4sCMIlFmtN"
      },
      "source": [
        "path = '/content/drive/My Drive/shadeimg'"
      ],
      "execution_count": 4,
      "outputs": []
    },
    {
      "cell_type": "code",
      "metadata": {
        "id": "QXJgJ1ZiFv2C",
        "colab": {
          "base_uri": "https://localhost:8080/"
        },
        "outputId": "5325144a-dcc6-4357-f4e5-37c3458aac05"
      },
      "source": [
        "os.listdir(path)"
      ],
      "execution_count": 5,
      "outputs": [
        {
          "output_type": "execute_result",
          "data": {
            "text/plain": [
              "['9-10 7 2021',\n",
              " 'รูปฟัน07',\n",
              " '11 7 2021',\n",
              " 'ฟันสักอย่างจำวันไม่ได้',\n",
              " '1 teeth .gsheet',\n",
              " '16 8 2021',\n",
              " '17 8 2021',\n",
              " '2 teeth.gsheet',\n",
              " '1 teeth .xlsx',\n",
              " '2 teeth .xlsx']"
            ]
          },
          "metadata": {},
          "execution_count": 5
        }
      ]
    },
    {
      "cell_type": "code",
      "metadata": {
        "id": "hIG_rvGQF-Lh",
        "colab": {
          "base_uri": "https://localhost:8080/"
        },
        "outputId": "71019be0-5775-4a3d-c3e4-7d703f1c916f"
      },
      "source": [
        "file_path = os.path.join(path,'1 teeth .xlsx')\n",
        "print(file_path)"
      ],
      "execution_count": 6,
      "outputs": [
        {
          "output_type": "stream",
          "name": "stdout",
          "text": [
            "/content/drive/My Drive/shadeimg/1 teeth .xlsx\n"
          ]
        }
      ]
    },
    {
      "cell_type": "code",
      "metadata": {
        "id": "WU-47FCzGAhX"
      },
      "source": [
        "table1 = pd.read_excel(file_path)"
      ],
      "execution_count": 7,
      "outputs": []
    },
    {
      "cell_type": "code",
      "metadata": {
        "id": "BQB5ZR4zFsSX",
        "colab": {
          "base_uri": "https://localhost:8080/"
        },
        "outputId": "b04236f9-1775-4f2f-e117-468414521a24"
      },
      "source": [
        "!pip install azure-storage-blob==2.1.0"
      ],
      "execution_count": 8,
      "outputs": [
        {
          "output_type": "stream",
          "name": "stdout",
          "text": [
            "Collecting azure-storage-blob==2.1.0\n",
            "  Downloading azure_storage_blob-2.1.0-py2.py3-none-any.whl (88 kB)\n",
            "\u001b[?25l\r\u001b[K     |███▊                            | 10 kB 22.0 MB/s eta 0:00:01\r\u001b[K     |███████▍                        | 20 kB 12.4 MB/s eta 0:00:01\r\u001b[K     |███████████▏                    | 30 kB 9.6 MB/s eta 0:00:01\r\u001b[K     |██████████████▉                 | 40 kB 8.6 MB/s eta 0:00:01\r\u001b[K     |██████████████████▋             | 51 kB 5.3 MB/s eta 0:00:01\r\u001b[K     |██████████████████████▎         | 61 kB 5.9 MB/s eta 0:00:01\r\u001b[K     |██████████████████████████      | 71 kB 5.2 MB/s eta 0:00:01\r\u001b[K     |█████████████████████████████▊  | 81 kB 5.8 MB/s eta 0:00:01\r\u001b[K     |████████████████████████████████| 88 kB 3.3 MB/s \n",
            "\u001b[?25hCollecting azure-common>=1.1.5\n",
            "  Downloading azure_common-1.1.27-py2.py3-none-any.whl (12 kB)\n",
            "Collecting azure-storage-common~=2.1\n",
            "  Downloading azure_storage_common-2.1.0-py2.py3-none-any.whl (47 kB)\n",
            "\u001b[K     |████████████████████████████████| 47 kB 4.0 MB/s \n",
            "\u001b[?25hCollecting cryptography\n",
            "  Downloading cryptography-35.0.0-cp36-abi3-manylinux_2_24_x86_64.whl (3.5 MB)\n",
            "\u001b[K     |████████████████████████████████| 3.5 MB 20.2 MB/s \n",
            "\u001b[?25hRequirement already satisfied: python-dateutil in /usr/local/lib/python3.7/dist-packages (from azure-storage-common~=2.1->azure-storage-blob==2.1.0) (2.8.2)\n",
            "Requirement already satisfied: requests in /usr/local/lib/python3.7/dist-packages (from azure-storage-common~=2.1->azure-storage-blob==2.1.0) (2.23.0)\n",
            "Requirement already satisfied: cffi>=1.12 in /usr/local/lib/python3.7/dist-packages (from cryptography->azure-storage-common~=2.1->azure-storage-blob==2.1.0) (1.14.6)\n",
            "Requirement already satisfied: pycparser in /usr/local/lib/python3.7/dist-packages (from cffi>=1.12->cryptography->azure-storage-common~=2.1->azure-storage-blob==2.1.0) (2.20)\n",
            "Requirement already satisfied: six>=1.5 in /usr/local/lib/python3.7/dist-packages (from python-dateutil->azure-storage-common~=2.1->azure-storage-blob==2.1.0) (1.15.0)\n",
            "Requirement already satisfied: chardet<4,>=3.0.2 in /usr/local/lib/python3.7/dist-packages (from requests->azure-storage-common~=2.1->azure-storage-blob==2.1.0) (3.0.4)\n",
            "Requirement already satisfied: certifi>=2017.4.17 in /usr/local/lib/python3.7/dist-packages (from requests->azure-storage-common~=2.1->azure-storage-blob==2.1.0) (2021.5.30)\n",
            "Requirement already satisfied: idna<3,>=2.5 in /usr/local/lib/python3.7/dist-packages (from requests->azure-storage-common~=2.1->azure-storage-blob==2.1.0) (2.10)\n",
            "Requirement already satisfied: urllib3!=1.25.0,!=1.25.1,<1.26,>=1.21.1 in /usr/local/lib/python3.7/dist-packages (from requests->azure-storage-common~=2.1->azure-storage-blob==2.1.0) (1.24.3)\n",
            "Installing collected packages: cryptography, azure-common, azure-storage-common, azure-storage-blob\n",
            "Successfully installed azure-common-1.1.27 azure-storage-blob-2.1.0 azure-storage-common-2.1.0 cryptography-35.0.0\n"
          ]
        }
      ]
    },
    {
      "cell_type": "code",
      "metadata": {
        "id": "MmtL3ePjGKNA"
      },
      "source": [
        "from azure.storage.blob import BlockBlobService\n",
        "import os"
      ],
      "execution_count": 9,
      "outputs": []
    },
    {
      "cell_type": "code",
      "metadata": {
        "id": "cBYDeSzyGMrs"
      },
      "source": [
        "blob_service_client = BlockBlobService(account_name='dent01', account_key='CuShY0B4TZJ84TjzPpaHxyrHOpO73aGXeCpdVq7x26OjIlQ1HOz+3DVc9pDEj9BdcEL8odFuTRF0mOAE+aCgiw==')"
      ],
      "execution_count": 10,
      "outputs": []
    },
    {
      "cell_type": "markdown",
      "metadata": {
        "id": "29a1CpssMfaN"
      },
      "source": [
        "1. สร้างตัวแปรเฉดไกด์"
      ]
    },
    {
      "cell_type": "markdown",
      "metadata": {
        "id": "qH8sZh1EJh7h"
      },
      "source": [
        "Set3"
      ]
    },
    {
      "cell_type": "code",
      "metadata": {
        "id": "b7l_Shd1GOxX"
      },
      "source": [
        "A101='34972AB5-CAC7-472C-AC53-FBCA2BD69502.png'\n",
        "A102='C5E078FD-06A3-49DA-B9C1-BCEBDBD10788.png'\n",
        "A201='3912CC41-19EB-4A24-9B63-8EA42B4ABFF8.png'\n",
        "A202='EDC80643-249E-4CEB-B3BB-4F9ADA71E56D.png'\n",
        "A301='46F43447-3902-4C4F-9D4D-551DC883238F.png'\n",
        "A302='94828AE2-2A8C-421A-AFA0-1F9D92912852.png'\n",
        "A3_501='FBDE7226-CE76-40F6-917E-BA1264E5B2CD.png'\n",
        "A3_502='FC451C1A-4D2F-47FB-8A6E-5E1FAF48D4DE.png'\n",
        "A401='0B44AF1E-F65D-4942-B6B3-64ECBDA4A60B.png'\n",
        "A402='EDC28364-ED43-46C3-901C-8ACE42EA5082.png'\n",
        "B101='B90F3580-16C4-47BF-83D4-E414EEE2F393.png'\n",
        "B102='FDC06D55-0618-4824-BF7B-14441E4FCA87.png'\n",
        "B201='ABC9C316-2492-47EC-9EF0-51768BCEF434.png'\n",
        "B202='BFA96731-FB49-4FDA-82E3-4A9EE48B7B1E.png'\n",
        "B301='8F7C5693-8C70-4094-9D36-A83AE1B32BA2.png'\n",
        "B302='C246D95A-BE6E-4A6D-8EC9-EEEEDD107F44.png'\n",
        "B401='0C85F5C4-CCE8-457C-A6AF-35C7B7A3B3D9.png'\n",
        "B402='518F15EB-8780-4C3A-9DA5-35B2ADB3EFE6.png'\n",
        "C101='724DBD50-BB48-4955-9095-19A74F9A3976.png'\n",
        "C102='1CEFBA9C-B2C7-4C29-AF03-77C57C0B1704.png'\n",
        "C201='994AC1C3-AF69-44DF-89E3-F76A0FC0979D.png'\n",
        "C202='37D0878C-EC3C-4B50-8450-531DD778316F.png'\n",
        "C301='7A0E241C-D1CD-4C85-BD7D-391E4A857FD2.png'\n",
        "C302='553CF438-7FCE-451C-93E6-31AAA12DF954.png'\n",
        "C401='1A49CEC9-F331-4786-88AD-6CE5C221922F.png'\n",
        "C402='19DB721A-5C3B-49E3-B48A-FEDDBDA7B9FF.png'\n",
        "D201='9BB631BD-BAEB-476F-882B-2409DD9BFB2F.png'\n",
        "D202='C5E949DC-A7CF-42F7-BBE3-861AED5B7513.png'\n",
        "D301='0EF4A552-C6CC-4962-AFE6-B0A2409520CD.png'\n",
        "D302='18F972FA-43B0-40DF-AABB-8828D0372A5B.png'\n",
        "D401='0AC12D10-17A8-4E11-A73E-F81FA2DDEDA0.png'\n",
        "D402='09176E44-73F6-44C0-A749-2C45508C8420.png'"
      ],
      "execution_count": 11,
      "outputs": []
    },
    {
      "cell_type": "markdown",
      "metadata": {
        "id": "0UvyQY3eJ7Lc"
      },
      "source": [
        "Set4"
      ]
    },
    {
      "cell_type": "code",
      "metadata": {
        "id": "udfq6Zm1KS7f"
      },
      "source": [
        "A103='0EF2FA50-58AC-46C7-8E4F-70C809D07AE7.png'\n",
        "A104='79C2B772-B4F3-4CA0-AF51-1FD5A6257FBB.png'\n",
        "A203='D89E9E66-510A-4AA6-A2D5-D8A69B941525.png'\n",
        "A204='14A9EBE1-2964-4DDF-A655-EEACEA59131B.png'\n",
        "A303='D0E42C32-D5AF-4E29-972A-BF7204DEAF1D.png'\n",
        "A304='49B16829-C303-4D45-B1F5-0976837ACCA7.png'\n",
        "A3_503='B007BE4C-C6BB-43CC-AAE1-2FC4333EB4F2.png'\n",
        "A3_504='819D4B35-E56B-4257-B144-C6B9B2BA01BD.png'\n",
        "A403='D0338CAF-E0F2-40B7-81DC-F61B88759957.png'\n",
        "A404='60B3B668-C929-4BE8-866A-0B9D9121CDA1.png'\n",
        "B103='312612D1-0123-4DC8-A039-C64E419E0D2D.png'\n",
        "B104='74D174BF-EA72-404E-BCD6-B96CEC51C831.png'\n",
        "B203='0375D54F-A0AA-4BA5-8596-166C87F998F2.png'\n",
        "B204='ED430C49-56BE-40CE-8904-74781A03A45B.png'\n",
        "B303='8CD709A3-6E06-4EE9-9364-E3BDB78D2EA5.png'\n",
        "B304='86FB6792-0389-4A0D-A6DA-4C25BD67025F.png'\n",
        "B403='B2EC0F0A-6F4D-4018-81B1-B5C5D6E887C2.png'\n",
        "B404='FE6C4865-F39B-453B-849B-77123700FB49.png'\n",
        "C103='E9023936-6A27-4506-90AA-F590E346BB26.png'\n",
        "C104='CF07B6E7-EFF2-4993-91D1-29F04CB5B384.png'\n",
        "C203='E06F6F87-4C75-469C-B2E9-B275033C86CE.png'\n",
        "C204='EB7A8DD9-800F-482E-B9F9-1ABAF2C4AE47.png'\n",
        "C303='A07BC277-3546-4434-81D4-E0DBF2FAA1B2.png'\n",
        "C304='6E81E16A-B561-4203-AF98-95D98EBFEAEA.png'\n",
        "C403='338CCD1D-9BB1-40A7-BFD2-976F7C17A403.png'\n",
        "C404='B6396F31-087C-4585-A8F4-F19C053F4CC6.png'\n",
        "D203='8D32AA07-9C78-4208-9E57-D410910D19D1.png'\n",
        "D204='F7BA6B12-CF05-4252-B4E6-C1C17E709F0E.png'\n",
        "D303='0CF9A52C-615B-4A08-B907-ABD0718B659D.png'\n",
        "D304='D72B57AE-D8BE-493F-9DFA-F1A1ECFA5B5E.png'\n",
        "D403='F02FD5D4-AFC4-454C-A27B-728EC04C9F98.png'\n",
        "D404='7E19A025-E690-4582-A36B-17CB4CF65520.png'"
      ],
      "execution_count": 12,
      "outputs": []
    },
    {
      "cell_type": "markdown",
      "metadata": {
        "id": "XT9FkL4_qWjU"
      },
      "source": [
        "#2. ดึงรูป"
      ]
    },
    {
      "cell_type": "markdown",
      "metadata": {
        "id": "-2DLN4dU58-w"
      },
      "source": [
        "A1"
      ]
    },
    {
      "cell_type": "code",
      "metadata": {
        "colab": {
          "base_uri": "https://localhost:8080/"
        },
        "id": "89qHiFXiqWjU",
        "outputId": "f3801a8e-1f80-4d8b-eebe-02378afa06fc"
      },
      "source": [
        "full_path_to_file2 = os.path.join(A101) \n",
        "blob_service_client.get_blob_to_path('shadeimg', full_path_to_file2, full_path_to_file2)"
      ],
      "execution_count": 13,
      "outputs": [
        {
          "output_type": "execute_result",
          "data": {
            "text/plain": [
              "<azure.storage.blob.models.Blob at 0x7f19ef0e5e50>"
            ]
          },
          "metadata": {},
          "execution_count": 13
        }
      ]
    },
    {
      "cell_type": "code",
      "metadata": {
        "colab": {
          "base_uri": "https://localhost:8080/"
        },
        "id": "pL_IAC3PqWjV",
        "outputId": "c47750a1-a11f-48c3-db87-24ccb0137487"
      },
      "source": [
        "full_path_to_file2 = os.path.join(A102) \n",
        "blob_service_client.get_blob_to_path('shadeimg', full_path_to_file2, full_path_to_file2)"
      ],
      "execution_count": 14,
      "outputs": [
        {
          "output_type": "execute_result",
          "data": {
            "text/plain": [
              "<azure.storage.blob.models.Blob at 0x7f19ef0dad90>"
            ]
          },
          "metadata": {},
          "execution_count": 14
        }
      ]
    },
    {
      "cell_type": "code",
      "metadata": {
        "colab": {
          "base_uri": "https://localhost:8080/"
        },
        "id": "VNLv6hmmqWjV",
        "outputId": "ceb5fac9-5b31-4a23-b79f-1c7325893517"
      },
      "source": [
        "full_path_to_file2 = os.path.join(A103) \n",
        "blob_service_client.get_blob_to_path('shadeimg', full_path_to_file2, full_path_to_file2)"
      ],
      "execution_count": 15,
      "outputs": [
        {
          "output_type": "execute_result",
          "data": {
            "text/plain": [
              "<azure.storage.blob.models.Blob at 0x7f19ef0f1310>"
            ]
          },
          "metadata": {},
          "execution_count": 15
        }
      ]
    },
    {
      "cell_type": "code",
      "metadata": {
        "colab": {
          "base_uri": "https://localhost:8080/"
        },
        "id": "hFv768OdqWjV",
        "outputId": "3e5392f3-4c5a-44c3-9090-ae002dd78106"
      },
      "source": [
        "full_path_to_file2 = os.path.join(A104) \n",
        "blob_service_client.get_blob_to_path('shadeimg', full_path_to_file2, full_path_to_file2)"
      ],
      "execution_count": 16,
      "outputs": [
        {
          "output_type": "execute_result",
          "data": {
            "text/plain": [
              "<azure.storage.blob.models.Blob at 0x7f19eea7c8d0>"
            ]
          },
          "metadata": {},
          "execution_count": 16
        }
      ]
    },
    {
      "cell_type": "markdown",
      "metadata": {
        "id": "7eSok94g6DY0"
      },
      "source": [
        "A2"
      ]
    },
    {
      "cell_type": "code",
      "metadata": {
        "colab": {
          "base_uri": "https://localhost:8080/"
        },
        "id": "hJNZvwzyqWjV",
        "outputId": "6bb169eb-e6f4-4520-f0ba-ae519b032057"
      },
      "source": [
        "full_path_to_file2 = os.path.join(A201) \n",
        "blob_service_client.get_blob_to_path('shadeimg', full_path_to_file2, full_path_to_file2)"
      ],
      "execution_count": 17,
      "outputs": [
        {
          "output_type": "execute_result",
          "data": {
            "text/plain": [
              "<azure.storage.blob.models.Blob at 0x7f19ef0f5050>"
            ]
          },
          "metadata": {},
          "execution_count": 17
        }
      ]
    },
    {
      "cell_type": "code",
      "metadata": {
        "colab": {
          "base_uri": "https://localhost:8080/"
        },
        "id": "veShstuZqWjV",
        "outputId": "db94f5da-d4ab-43e7-ee85-37d2e9e1cf97"
      },
      "source": [
        "full_path_to_file2 = os.path.join(A202) \n",
        "blob_service_client.get_blob_to_path('shadeimg', full_path_to_file2, full_path_to_file2)"
      ],
      "execution_count": 18,
      "outputs": [
        {
          "output_type": "execute_result",
          "data": {
            "text/plain": [
              "<azure.storage.blob.models.Blob at 0x7f19ef0f5b90>"
            ]
          },
          "metadata": {},
          "execution_count": 18
        }
      ]
    },
    {
      "cell_type": "code",
      "metadata": {
        "colab": {
          "base_uri": "https://localhost:8080/"
        },
        "id": "w9QFztPcqWjV",
        "outputId": "6a94c275-547c-45e1-811f-545205ffaa98"
      },
      "source": [
        "full_path_to_file2 = os.path.join(A203) \n",
        "blob_service_client.get_blob_to_path('shadeimg', full_path_to_file2, full_path_to_file2)"
      ],
      "execution_count": 19,
      "outputs": [
        {
          "output_type": "execute_result",
          "data": {
            "text/plain": [
              "<azure.storage.blob.models.Blob at 0x7f19f39cb450>"
            ]
          },
          "metadata": {},
          "execution_count": 19
        }
      ]
    },
    {
      "cell_type": "code",
      "metadata": {
        "colab": {
          "base_uri": "https://localhost:8080/"
        },
        "id": "kAIQWgACqWjW",
        "outputId": "db8235a5-54b6-4204-b372-0c6ac2a98ff2"
      },
      "source": [
        "full_path_to_file2 = os.path.join(A204) \n",
        "blob_service_client.get_blob_to_path('shadeimg', full_path_to_file2, full_path_to_file2)"
      ],
      "execution_count": 20,
      "outputs": [
        {
          "output_type": "execute_result",
          "data": {
            "text/plain": [
              "<azure.storage.blob.models.Blob at 0x7f19ef0e50d0>"
            ]
          },
          "metadata": {},
          "execution_count": 20
        }
      ]
    },
    {
      "cell_type": "markdown",
      "metadata": {
        "id": "T8ArUP9X6JRK"
      },
      "source": [
        "A3"
      ]
    },
    {
      "cell_type": "code",
      "metadata": {
        "colab": {
          "base_uri": "https://localhost:8080/"
        },
        "id": "VmbjTZ90qWjW",
        "outputId": "4f1bc792-83a2-44a2-8ce3-c7bb9d67a822"
      },
      "source": [
        "full_path_to_file2 = os.path.join(A301) \n",
        "blob_service_client.get_blob_to_path('shadeimg', full_path_to_file2, full_path_to_file2)"
      ],
      "execution_count": 21,
      "outputs": [
        {
          "output_type": "execute_result",
          "data": {
            "text/plain": [
              "<azure.storage.blob.models.Blob at 0x7f19eea7c550>"
            ]
          },
          "metadata": {},
          "execution_count": 21
        }
      ]
    },
    {
      "cell_type": "code",
      "metadata": {
        "colab": {
          "base_uri": "https://localhost:8080/"
        },
        "id": "_I7kJLJ4qWjW",
        "outputId": "077df5dd-8ed3-4d54-c237-93e2f74889a1"
      },
      "source": [
        "full_path_to_file2 = os.path.join(A302) \n",
        "blob_service_client.get_blob_to_path('shadeimg', full_path_to_file2, full_path_to_file2)"
      ],
      "execution_count": 22,
      "outputs": [
        {
          "output_type": "execute_result",
          "data": {
            "text/plain": [
              "<azure.storage.blob.models.Blob at 0x7f19eea79810>"
            ]
          },
          "metadata": {},
          "execution_count": 22
        }
      ]
    },
    {
      "cell_type": "code",
      "metadata": {
        "colab": {
          "base_uri": "https://localhost:8080/"
        },
        "id": "X8nojCv0qWjW",
        "outputId": "846da9fa-85b9-4dee-efc1-cb77288f9fc5"
      },
      "source": [
        "full_path_to_file2 = os.path.join(A303) \n",
        "blob_service_client.get_blob_to_path('shadeimg', full_path_to_file2, full_path_to_file2)"
      ],
      "execution_count": 23,
      "outputs": [
        {
          "output_type": "execute_result",
          "data": {
            "text/plain": [
              "<azure.storage.blob.models.Blob at 0x7f19eea75410>"
            ]
          },
          "metadata": {},
          "execution_count": 23
        }
      ]
    },
    {
      "cell_type": "code",
      "metadata": {
        "colab": {
          "base_uri": "https://localhost:8080/"
        },
        "id": "0CMDlGCiqWjW",
        "outputId": "3506f097-70bf-4873-ad06-37c6e1965e96"
      },
      "source": [
        "full_path_to_file2 = os.path.join(A304) \n",
        "blob_service_client.get_blob_to_path('shadeimg', full_path_to_file2, full_path_to_file2)"
      ],
      "execution_count": 24,
      "outputs": [
        {
          "output_type": "execute_result",
          "data": {
            "text/plain": [
              "<azure.storage.blob.models.Blob at 0x7f19eea81bd0>"
            ]
          },
          "metadata": {},
          "execution_count": 24
        }
      ]
    },
    {
      "cell_type": "markdown",
      "metadata": {
        "id": "Zr5SEMNq6LDo"
      },
      "source": [
        "A3.5"
      ]
    },
    {
      "cell_type": "code",
      "metadata": {
        "colab": {
          "base_uri": "https://localhost:8080/"
        },
        "id": "hf5rehmDqWjX",
        "outputId": "f253b584-4bc9-4fe0-efd0-ae55b6ca411f"
      },
      "source": [
        "full_path_to_file2 = os.path.join(A3_501) \n",
        "blob_service_client.get_blob_to_path('shadeimg', full_path_to_file2, full_path_to_file2)"
      ],
      "execution_count": 25,
      "outputs": [
        {
          "output_type": "execute_result",
          "data": {
            "text/plain": [
              "<azure.storage.blob.models.Blob at 0x7f19eea819d0>"
            ]
          },
          "metadata": {},
          "execution_count": 25
        }
      ]
    },
    {
      "cell_type": "code",
      "metadata": {
        "colab": {
          "base_uri": "https://localhost:8080/"
        },
        "id": "U6NqGSTMqWjX",
        "outputId": "4c2829a9-7c24-4a9a-c6b1-0a695b3497dd"
      },
      "source": [
        "full_path_to_file2 = os.path.join(A3_502) \n",
        "blob_service_client.get_blob_to_path('shadeimg', full_path_to_file2, full_path_to_file2)"
      ],
      "execution_count": 26,
      "outputs": [
        {
          "output_type": "execute_result",
          "data": {
            "text/plain": [
              "<azure.storage.blob.models.Blob at 0x7f19eea94850>"
            ]
          },
          "metadata": {},
          "execution_count": 26
        }
      ]
    },
    {
      "cell_type": "code",
      "metadata": {
        "colab": {
          "base_uri": "https://localhost:8080/"
        },
        "id": "0F9FqMJEqWjX",
        "outputId": "74c04427-6559-42e3-a8f8-b80efd21aff2"
      },
      "source": [
        "full_path_to_file2 = os.path.join(A3_503) \n",
        "blob_service_client.get_blob_to_path('shadeimg', full_path_to_file2, full_path_to_file2)"
      ],
      "execution_count": 27,
      "outputs": [
        {
          "output_type": "execute_result",
          "data": {
            "text/plain": [
              "<azure.storage.blob.models.Blob at 0x7f19ef0f1c10>"
            ]
          },
          "metadata": {},
          "execution_count": 27
        }
      ]
    },
    {
      "cell_type": "code",
      "metadata": {
        "colab": {
          "base_uri": "https://localhost:8080/"
        },
        "id": "Bt9OeaouqWjX",
        "outputId": "db65a35f-0c25-4f96-d6c3-b44384316d4e"
      },
      "source": [
        "full_path_to_file2 = os.path.join(A3_504) \n",
        "blob_service_client.get_blob_to_path('shadeimg', full_path_to_file2, full_path_to_file2)"
      ],
      "execution_count": 28,
      "outputs": [
        {
          "output_type": "execute_result",
          "data": {
            "text/plain": [
              "<azure.storage.blob.models.Blob at 0x7f19eea75ed0>"
            ]
          },
          "metadata": {},
          "execution_count": 28
        }
      ]
    },
    {
      "cell_type": "markdown",
      "metadata": {
        "id": "tb0g_NiJ6YZB"
      },
      "source": [
        "A4"
      ]
    },
    {
      "cell_type": "code",
      "metadata": {
        "colab": {
          "base_uri": "https://localhost:8080/"
        },
        "id": "6A3Z0G-BqWjX",
        "outputId": "b9adb360-6246-48fd-c74b-9f0e4762297c"
      },
      "source": [
        "full_path_to_file2 = os.path.join(A401) \n",
        "blob_service_client.get_blob_to_path('shadeimg', full_path_to_file2, full_path_to_file2)"
      ],
      "execution_count": 29,
      "outputs": [
        {
          "output_type": "execute_result",
          "data": {
            "text/plain": [
              "<azure.storage.blob.models.Blob at 0x7f19eea75c10>"
            ]
          },
          "metadata": {},
          "execution_count": 29
        }
      ]
    },
    {
      "cell_type": "code",
      "metadata": {
        "colab": {
          "base_uri": "https://localhost:8080/"
        },
        "id": "huNllMALqWjX",
        "outputId": "d321d28b-b4d1-4df3-f7c0-27c16fa0362c"
      },
      "source": [
        "full_path_to_file2 = os.path.join(A402) \n",
        "blob_service_client.get_blob_to_path('shadeimg', full_path_to_file2, full_path_to_file2)"
      ],
      "execution_count": 30,
      "outputs": [
        {
          "output_type": "execute_result",
          "data": {
            "text/plain": [
              "<azure.storage.blob.models.Blob at 0x7f19eea9b890>"
            ]
          },
          "metadata": {},
          "execution_count": 30
        }
      ]
    },
    {
      "cell_type": "code",
      "metadata": {
        "colab": {
          "base_uri": "https://localhost:8080/"
        },
        "id": "XRmBCQ8HqWjY",
        "outputId": "98d7fc4f-79f1-427b-c43f-cb00060bc245"
      },
      "source": [
        "full_path_to_file2 = os.path.join(A403) \n",
        "blob_service_client.get_blob_to_path('shadeimg', full_path_to_file2, full_path_to_file2)"
      ],
      "execution_count": 31,
      "outputs": [
        {
          "output_type": "execute_result",
          "data": {
            "text/plain": [
              "<azure.storage.blob.models.Blob at 0x7f19eea94bd0>"
            ]
          },
          "metadata": {},
          "execution_count": 31
        }
      ]
    },
    {
      "cell_type": "code",
      "metadata": {
        "colab": {
          "base_uri": "https://localhost:8080/"
        },
        "id": "VBxfPqd5qWjY",
        "outputId": "f0925f13-ef6d-41cd-8b6f-bc043617616f"
      },
      "source": [
        "full_path_to_file2 = os.path.join(A404) \n",
        "blob_service_client.get_blob_to_path('shadeimg', full_path_to_file2, full_path_to_file2)"
      ],
      "execution_count": 32,
      "outputs": [
        {
          "output_type": "execute_result",
          "data": {
            "text/plain": [
              "<azure.storage.blob.models.Blob at 0x7f19eea74f10>"
            ]
          },
          "metadata": {},
          "execution_count": 32
        }
      ]
    },
    {
      "cell_type": "markdown",
      "metadata": {
        "id": "y3hyi70v6bOe"
      },
      "source": [
        "B1"
      ]
    },
    {
      "cell_type": "code",
      "metadata": {
        "colab": {
          "base_uri": "https://localhost:8080/"
        },
        "id": "xFNoaeKPqWjY",
        "outputId": "8df93995-4af5-474a-95f2-fcf1f1c4dbb6"
      },
      "source": [
        "full_path_to_file2 = os.path.join(B101) \n",
        "blob_service_client.get_blob_to_path('shadeimg', full_path_to_file2, full_path_to_file2)"
      ],
      "execution_count": 33,
      "outputs": [
        {
          "output_type": "execute_result",
          "data": {
            "text/plain": [
              "<azure.storage.blob.models.Blob at 0x7f19eea752d0>"
            ]
          },
          "metadata": {},
          "execution_count": 33
        }
      ]
    },
    {
      "cell_type": "code",
      "metadata": {
        "colab": {
          "base_uri": "https://localhost:8080/"
        },
        "id": "_oCkGuh3qWjY",
        "outputId": "eb75ee7f-6f98-403b-e824-0b50cb08ee88"
      },
      "source": [
        "full_path_to_file2 = os.path.join(B102) \n",
        "blob_service_client.get_blob_to_path('shadeimg', full_path_to_file2, full_path_to_file2)"
      ],
      "execution_count": 34,
      "outputs": [
        {
          "output_type": "execute_result",
          "data": {
            "text/plain": [
              "<azure.storage.blob.models.Blob at 0x7f19eea74b50>"
            ]
          },
          "metadata": {},
          "execution_count": 34
        }
      ]
    },
    {
      "cell_type": "code",
      "metadata": {
        "colab": {
          "base_uri": "https://localhost:8080/"
        },
        "id": "20VPjZkoqWjY",
        "outputId": "a4255b5d-8c41-4e94-9179-b2ebe3fcd7c6"
      },
      "source": [
        "full_path_to_file2 = os.path.join(B103) \n",
        "blob_service_client.get_blob_to_path('shadeimg', full_path_to_file2, full_path_to_file2)"
      ],
      "execution_count": 35,
      "outputs": [
        {
          "output_type": "execute_result",
          "data": {
            "text/plain": [
              "<azure.storage.blob.models.Blob at 0x7f19eea943d0>"
            ]
          },
          "metadata": {},
          "execution_count": 35
        }
      ]
    },
    {
      "cell_type": "code",
      "metadata": {
        "colab": {
          "base_uri": "https://localhost:8080/"
        },
        "id": "4EiBJdqbqWjY",
        "outputId": "0b8ea0ec-7fa8-433b-9000-75327f692b55"
      },
      "source": [
        "full_path_to_file2 = os.path.join(B104) \n",
        "blob_service_client.get_blob_to_path('shadeimg', full_path_to_file2, full_path_to_file2)"
      ],
      "execution_count": 36,
      "outputs": [
        {
          "output_type": "execute_result",
          "data": {
            "text/plain": [
              "<azure.storage.blob.models.Blob at 0x7f19eea7c990>"
            ]
          },
          "metadata": {},
          "execution_count": 36
        }
      ]
    },
    {
      "cell_type": "markdown",
      "metadata": {
        "id": "vFOfNYz-6crs"
      },
      "source": [
        "B2"
      ]
    },
    {
      "cell_type": "code",
      "metadata": {
        "colab": {
          "base_uri": "https://localhost:8080/"
        },
        "id": "XYPmvR_GqWjZ",
        "outputId": "0f494400-baf6-4e07-fa87-37406235d187"
      },
      "source": [
        "full_path_to_file2 = os.path.join(B201) \n",
        "blob_service_client.get_blob_to_path('shadeimg', full_path_to_file2, full_path_to_file2)"
      ],
      "execution_count": 37,
      "outputs": [
        {
          "output_type": "execute_result",
          "data": {
            "text/plain": [
              "<azure.storage.blob.models.Blob at 0x7f19ef0f18d0>"
            ]
          },
          "metadata": {},
          "execution_count": 37
        }
      ]
    },
    {
      "cell_type": "code",
      "metadata": {
        "colab": {
          "base_uri": "https://localhost:8080/"
        },
        "id": "yZ4_16cwqWjZ",
        "outputId": "980c7563-d5ac-4c88-9c3e-dc1949d5a19d"
      },
      "source": [
        "full_path_to_file2 = os.path.join(B202) \n",
        "blob_service_client.get_blob_to_path('shadeimg', full_path_to_file2, full_path_to_file2)"
      ],
      "execution_count": 38,
      "outputs": [
        {
          "output_type": "execute_result",
          "data": {
            "text/plain": [
              "<azure.storage.blob.models.Blob at 0x7f19eeaa3ed0>"
            ]
          },
          "metadata": {},
          "execution_count": 38
        }
      ]
    },
    {
      "cell_type": "code",
      "metadata": {
        "colab": {
          "base_uri": "https://localhost:8080/"
        },
        "id": "_sTONf6NqWjZ",
        "outputId": "9a27f106-b15f-4ccb-9ca3-68fe5c6f8270"
      },
      "source": [
        "full_path_to_file2 = os.path.join(B203) \n",
        "blob_service_client.get_blob_to_path('shadeimg', full_path_to_file2, full_path_to_file2)"
      ],
      "execution_count": 39,
      "outputs": [
        {
          "output_type": "execute_result",
          "data": {
            "text/plain": [
              "<azure.storage.blob.models.Blob at 0x7f19eea27950>"
            ]
          },
          "metadata": {},
          "execution_count": 39
        }
      ]
    },
    {
      "cell_type": "code",
      "metadata": {
        "colab": {
          "base_uri": "https://localhost:8080/"
        },
        "id": "xvhe5i1EqWjZ",
        "outputId": "32d633f2-3881-40eb-8129-bf86c3d652e3"
      },
      "source": [
        "full_path_to_file2 = os.path.join(B204) \n",
        "blob_service_client.get_blob_to_path('shadeimg', full_path_to_file2, full_path_to_file2)"
      ],
      "execution_count": 40,
      "outputs": [
        {
          "output_type": "execute_result",
          "data": {
            "text/plain": [
              "<azure.storage.blob.models.Blob at 0x7f19eea75d10>"
            ]
          },
          "metadata": {},
          "execution_count": 40
        }
      ]
    },
    {
      "cell_type": "markdown",
      "metadata": {
        "id": "Gu5OAhld6dzx"
      },
      "source": [
        "B3"
      ]
    },
    {
      "cell_type": "code",
      "metadata": {
        "colab": {
          "base_uri": "https://localhost:8080/"
        },
        "id": "dtWpKevCqWjZ",
        "outputId": "2ed00835-404c-4c1b-aeb7-cfbf1d5bd07e"
      },
      "source": [
        "full_path_to_file2 = os.path.join(B301) \n",
        "blob_service_client.get_blob_to_path('shadeimg', full_path_to_file2, full_path_to_file2)"
      ],
      "execution_count": 41,
      "outputs": [
        {
          "output_type": "execute_result",
          "data": {
            "text/plain": [
              "<azure.storage.blob.models.Blob at 0x7f19eea94d90>"
            ]
          },
          "metadata": {},
          "execution_count": 41
        }
      ]
    },
    {
      "cell_type": "code",
      "metadata": {
        "colab": {
          "base_uri": "https://localhost:8080/"
        },
        "id": "Iv7GJELjqWjZ",
        "outputId": "0e21b12a-09b1-4014-d915-f9e158884867"
      },
      "source": [
        "full_path_to_file2 = os.path.join(B302) \n",
        "blob_service_client.get_blob_to_path('shadeimg', full_path_to_file2, full_path_to_file2)"
      ],
      "execution_count": 42,
      "outputs": [
        {
          "output_type": "execute_result",
          "data": {
            "text/plain": [
              "<azure.storage.blob.models.Blob at 0x7f19ef0f52d0>"
            ]
          },
          "metadata": {},
          "execution_count": 42
        }
      ]
    },
    {
      "cell_type": "code",
      "metadata": {
        "colab": {
          "base_uri": "https://localhost:8080/"
        },
        "id": "5Y0UireDqWjZ",
        "outputId": "2a81c667-6aea-402b-ae3b-70b3fe6202b2"
      },
      "source": [
        "full_path_to_file2 = os.path.join(B303) \n",
        "blob_service_client.get_blob_to_path('shadeimg', full_path_to_file2, full_path_to_file2)"
      ],
      "execution_count": 43,
      "outputs": [
        {
          "output_type": "execute_result",
          "data": {
            "text/plain": [
              "<azure.storage.blob.models.Blob at 0x7f19eea74410>"
            ]
          },
          "metadata": {},
          "execution_count": 43
        }
      ]
    },
    {
      "cell_type": "code",
      "metadata": {
        "colab": {
          "base_uri": "https://localhost:8080/"
        },
        "id": "ZDVbc9NnqWja",
        "outputId": "99834be5-1495-4229-bf31-ff788f057536"
      },
      "source": [
        "full_path_to_file2 = os.path.join(B304) \n",
        "blob_service_client.get_blob_to_path('shadeimg', full_path_to_file2, full_path_to_file2)"
      ],
      "execution_count": 44,
      "outputs": [
        {
          "output_type": "execute_result",
          "data": {
            "text/plain": [
              "<azure.storage.blob.models.Blob at 0x7f19eea7a790>"
            ]
          },
          "metadata": {},
          "execution_count": 44
        }
      ]
    },
    {
      "cell_type": "markdown",
      "metadata": {
        "id": "z2hzhQXO6gIR"
      },
      "source": [
        "B4"
      ]
    },
    {
      "cell_type": "code",
      "metadata": {
        "colab": {
          "base_uri": "https://localhost:8080/"
        },
        "id": "AUUiD3TCqWja",
        "outputId": "7676e0e6-7a3e-475b-ef91-b92e78d7a93d"
      },
      "source": [
        "full_path_to_file2 = os.path.join(B401) \n",
        "blob_service_client.get_blob_to_path('shadeimg', full_path_to_file2, full_path_to_file2)"
      ],
      "execution_count": 45,
      "outputs": [
        {
          "output_type": "execute_result",
          "data": {
            "text/plain": [
              "<azure.storage.blob.models.Blob at 0x7f19eea7a650>"
            ]
          },
          "metadata": {},
          "execution_count": 45
        }
      ]
    },
    {
      "cell_type": "code",
      "metadata": {
        "colab": {
          "base_uri": "https://localhost:8080/"
        },
        "id": "ozt2aWLeqWja",
        "outputId": "a96688ae-d9e7-4738-e7f1-a96f03c8c89d"
      },
      "source": [
        "full_path_to_file2 = os.path.join(B402) \n",
        "blob_service_client.get_blob_to_path('shadeimg', full_path_to_file2, full_path_to_file2)"
      ],
      "execution_count": 46,
      "outputs": [
        {
          "output_type": "execute_result",
          "data": {
            "text/plain": [
              "<azure.storage.blob.models.Blob at 0x7f19eea7aa50>"
            ]
          },
          "metadata": {},
          "execution_count": 46
        }
      ]
    },
    {
      "cell_type": "code",
      "metadata": {
        "colab": {
          "base_uri": "https://localhost:8080/"
        },
        "id": "sKfFT4biqWja",
        "outputId": "b0e9d906-0587-4679-d3bc-4c5d7cc0a972"
      },
      "source": [
        "full_path_to_file2 = os.path.join(B403) \n",
        "blob_service_client.get_blob_to_path('shadeimg', full_path_to_file2, full_path_to_file2)"
      ],
      "execution_count": 47,
      "outputs": [
        {
          "output_type": "execute_result",
          "data": {
            "text/plain": [
              "<azure.storage.blob.models.Blob at 0x7f19eea81790>"
            ]
          },
          "metadata": {},
          "execution_count": 47
        }
      ]
    },
    {
      "cell_type": "code",
      "metadata": {
        "colab": {
          "base_uri": "https://localhost:8080/"
        },
        "id": "i_QOEeCuqWja",
        "outputId": "5ffc9bdb-b62a-4e94-820b-414e45b13724"
      },
      "source": [
        "full_path_to_file2 = os.path.join(B404) \n",
        "blob_service_client.get_blob_to_path('shadeimg', full_path_to_file2, full_path_to_file2)"
      ],
      "execution_count": 48,
      "outputs": [
        {
          "output_type": "execute_result",
          "data": {
            "text/plain": [
              "<azure.storage.blob.models.Blob at 0x7f19eea74cd0>"
            ]
          },
          "metadata": {},
          "execution_count": 48
        }
      ]
    },
    {
      "cell_type": "markdown",
      "metadata": {
        "id": "x1KIKFLy6h8k"
      },
      "source": [
        "C1"
      ]
    },
    {
      "cell_type": "code",
      "metadata": {
        "colab": {
          "base_uri": "https://localhost:8080/"
        },
        "id": "DVlDe2laqWja",
        "outputId": "8ea5ee8e-24f3-4b2b-90e6-0ca32ac771d5"
      },
      "source": [
        "full_path_to_file2 = os.path.join(C101) \n",
        "blob_service_client.get_blob_to_path('shadeimg', full_path_to_file2, full_path_to_file2)"
      ],
      "execution_count": 49,
      "outputs": [
        {
          "output_type": "execute_result",
          "data": {
            "text/plain": [
              "<azure.storage.blob.models.Blob at 0x7f19eea34590>"
            ]
          },
          "metadata": {},
          "execution_count": 49
        }
      ]
    },
    {
      "cell_type": "code",
      "metadata": {
        "colab": {
          "base_uri": "https://localhost:8080/"
        },
        "id": "PpnxuJZjqWjb",
        "outputId": "79eb5f86-5afd-4ef6-aa81-dced1f3a2640"
      },
      "source": [
        "full_path_to_file2 = os.path.join(C102) \n",
        "blob_service_client.get_blob_to_path('shadeimg', full_path_to_file2, full_path_to_file2)"
      ],
      "execution_count": 50,
      "outputs": [
        {
          "output_type": "execute_result",
          "data": {
            "text/plain": [
              "<azure.storage.blob.models.Blob at 0x7f19eea38410>"
            ]
          },
          "metadata": {},
          "execution_count": 50
        }
      ]
    },
    {
      "cell_type": "code",
      "metadata": {
        "colab": {
          "base_uri": "https://localhost:8080/"
        },
        "id": "upMtdZorqWjb",
        "outputId": "409e2dd1-6fc8-4514-9c87-cec1260fb888"
      },
      "source": [
        "full_path_to_file2 = os.path.join(C103) \n",
        "blob_service_client.get_blob_to_path('shadeimg', full_path_to_file2, full_path_to_file2)"
      ],
      "execution_count": 51,
      "outputs": [
        {
          "output_type": "execute_result",
          "data": {
            "text/plain": [
              "<azure.storage.blob.models.Blob at 0x7f19eea7a210>"
            ]
          },
          "metadata": {},
          "execution_count": 51
        }
      ]
    },
    {
      "cell_type": "code",
      "metadata": {
        "colab": {
          "base_uri": "https://localhost:8080/"
        },
        "id": "ETYki_a8qWjb",
        "outputId": "d51c4883-0a93-4e53-d957-e18806ef9e04"
      },
      "source": [
        "full_path_to_file2 = os.path.join(C104) \n",
        "blob_service_client.get_blob_to_path('shadeimg', full_path_to_file2, full_path_to_file2)"
      ],
      "execution_count": 52,
      "outputs": [
        {
          "output_type": "execute_result",
          "data": {
            "text/plain": [
              "<azure.storage.blob.models.Blob at 0x7f19eea7afd0>"
            ]
          },
          "metadata": {},
          "execution_count": 52
        }
      ]
    },
    {
      "cell_type": "markdown",
      "metadata": {
        "id": "UOfwpXiM6j9h"
      },
      "source": [
        "C2"
      ]
    },
    {
      "cell_type": "code",
      "metadata": {
        "colab": {
          "base_uri": "https://localhost:8080/"
        },
        "id": "QV6-qOJSqWjb",
        "outputId": "e2573b48-7f2c-492b-dd76-4b79e8a552c7"
      },
      "source": [
        "full_path_to_file2 = os.path.join(C201) \n",
        "blob_service_client.get_blob_to_path('shadeimg', full_path_to_file2, full_path_to_file2)"
      ],
      "execution_count": 53,
      "outputs": [
        {
          "output_type": "execute_result",
          "data": {
            "text/plain": [
              "<azure.storage.blob.models.Blob at 0x7f19eeaa36d0>"
            ]
          },
          "metadata": {},
          "execution_count": 53
        }
      ]
    },
    {
      "cell_type": "code",
      "metadata": {
        "colab": {
          "base_uri": "https://localhost:8080/"
        },
        "id": "yiVQsZVuqWjb",
        "outputId": "99ff1615-f3e3-46a8-eac8-54725c393807"
      },
      "source": [
        "full_path_to_file2 = os.path.join(C202) \n",
        "blob_service_client.get_blob_to_path('shadeimg', full_path_to_file2, full_path_to_file2)"
      ],
      "execution_count": 54,
      "outputs": [
        {
          "output_type": "execute_result",
          "data": {
            "text/plain": [
              "<azure.storage.blob.models.Blob at 0x7f19eeaa3050>"
            ]
          },
          "metadata": {},
          "execution_count": 54
        }
      ]
    },
    {
      "cell_type": "code",
      "metadata": {
        "colab": {
          "base_uri": "https://localhost:8080/"
        },
        "id": "hY_rgNf9qWjb",
        "outputId": "fa2b585b-490f-4273-d912-537d87a6bb5e"
      },
      "source": [
        "full_path_to_file2 = os.path.join(C203) \n",
        "blob_service_client.get_blob_to_path('shadeimg', full_path_to_file2, full_path_to_file2)"
      ],
      "execution_count": 55,
      "outputs": [
        {
          "output_type": "execute_result",
          "data": {
            "text/plain": [
              "<azure.storage.blob.models.Blob at 0x7f19eea74c90>"
            ]
          },
          "metadata": {},
          "execution_count": 55
        }
      ]
    },
    {
      "cell_type": "code",
      "metadata": {
        "colab": {
          "base_uri": "https://localhost:8080/"
        },
        "id": "wen5PJfoqWjb",
        "outputId": "6ba2ec92-f07e-40be-adcd-df843d02382f"
      },
      "source": [
        "full_path_to_file2 = os.path.join(C204) \n",
        "blob_service_client.get_blob_to_path('shadeimg', full_path_to_file2, full_path_to_file2)"
      ],
      "execution_count": 56,
      "outputs": [
        {
          "output_type": "execute_result",
          "data": {
            "text/plain": [
              "<azure.storage.blob.models.Blob at 0x7f19ef0f5a90>"
            ]
          },
          "metadata": {},
          "execution_count": 56
        }
      ]
    },
    {
      "cell_type": "markdown",
      "metadata": {
        "id": "Dre9rll26lii"
      },
      "source": [
        "C3"
      ]
    },
    {
      "cell_type": "code",
      "metadata": {
        "colab": {
          "base_uri": "https://localhost:8080/"
        },
        "id": "XxQjkejdqWjc",
        "outputId": "f4f82da9-a842-46e5-eb9f-90ee1e955d23"
      },
      "source": [
        "full_path_to_file2 = os.path.join(C301) \n",
        "blob_service_client.get_blob_to_path('shadeimg', full_path_to_file2, full_path_to_file2)"
      ],
      "execution_count": 57,
      "outputs": [
        {
          "output_type": "execute_result",
          "data": {
            "text/plain": [
              "<azure.storage.blob.models.Blob at 0x7f19eea42850>"
            ]
          },
          "metadata": {},
          "execution_count": 57
        }
      ]
    },
    {
      "cell_type": "code",
      "metadata": {
        "colab": {
          "base_uri": "https://localhost:8080/"
        },
        "id": "hJo8QJcUqWjc",
        "outputId": "34c94329-98b7-42ab-ffb7-3055f9d52808"
      },
      "source": [
        "full_path_to_file2 = os.path.join(C302) \n",
        "blob_service_client.get_blob_to_path('shadeimg', full_path_to_file2, full_path_to_file2)"
      ],
      "execution_count": 58,
      "outputs": [
        {
          "output_type": "execute_result",
          "data": {
            "text/plain": [
              "<azure.storage.blob.models.Blob at 0x7f19eea38e10>"
            ]
          },
          "metadata": {},
          "execution_count": 58
        }
      ]
    },
    {
      "cell_type": "code",
      "metadata": {
        "colab": {
          "base_uri": "https://localhost:8080/"
        },
        "id": "znSCt104qWjc",
        "outputId": "93ebbcf2-8c39-4f26-d286-5f53fe8007ce"
      },
      "source": [
        "full_path_to_file2 = os.path.join(C303) \n",
        "blob_service_client.get_blob_to_path('shadeimg', full_path_to_file2, full_path_to_file2)"
      ],
      "execution_count": 59,
      "outputs": [
        {
          "output_type": "execute_result",
          "data": {
            "text/plain": [
              "<azure.storage.blob.models.Blob at 0x7f19eea42050>"
            ]
          },
          "metadata": {},
          "execution_count": 59
        }
      ]
    },
    {
      "cell_type": "code",
      "metadata": {
        "colab": {
          "base_uri": "https://localhost:8080/"
        },
        "id": "ZNg18ycAqWjc",
        "outputId": "7ed36afe-1206-4f1d-acef-1833e495fa5f"
      },
      "source": [
        "full_path_to_file2 = os.path.join(C304) \n",
        "blob_service_client.get_blob_to_path('shadeimg', full_path_to_file2, full_path_to_file2)"
      ],
      "execution_count": 60,
      "outputs": [
        {
          "output_type": "execute_result",
          "data": {
            "text/plain": [
              "<azure.storage.blob.models.Blob at 0x7f19eea38790>"
            ]
          },
          "metadata": {},
          "execution_count": 60
        }
      ]
    },
    {
      "cell_type": "markdown",
      "metadata": {
        "id": "A89CEXhb6nqF"
      },
      "source": [
        "C4"
      ]
    },
    {
      "cell_type": "code",
      "metadata": {
        "colab": {
          "base_uri": "https://localhost:8080/"
        },
        "id": "ZNp-dUIsqWjc",
        "outputId": "4ef8a63f-aa56-48f3-eea1-a87a09c2072a"
      },
      "source": [
        "full_path_to_file2 = os.path.join(C401) \n",
        "blob_service_client.get_blob_to_path('shadeimg', full_path_to_file2, full_path_to_file2)"
      ],
      "execution_count": 61,
      "outputs": [
        {
          "output_type": "execute_result",
          "data": {
            "text/plain": [
              "<azure.storage.blob.models.Blob at 0x7f19eea48850>"
            ]
          },
          "metadata": {},
          "execution_count": 61
        }
      ]
    },
    {
      "cell_type": "code",
      "metadata": {
        "colab": {
          "base_uri": "https://localhost:8080/"
        },
        "id": "TFshOTHiqWjc",
        "outputId": "1c96419c-8c30-4fa1-f16e-1bcea2efb4a2"
      },
      "source": [
        "full_path_to_file2 = os.path.join(C402) \n",
        "blob_service_client.get_blob_to_path('shadeimg', full_path_to_file2, full_path_to_file2)"
      ],
      "execution_count": 62,
      "outputs": [
        {
          "output_type": "execute_result",
          "data": {
            "text/plain": [
              "<azure.storage.blob.models.Blob at 0x7f19f6257110>"
            ]
          },
          "metadata": {},
          "execution_count": 62
        }
      ]
    },
    {
      "cell_type": "code",
      "metadata": {
        "colab": {
          "base_uri": "https://localhost:8080/"
        },
        "id": "sdDlfp9NqWjd",
        "outputId": "cd263c7f-6b49-44a6-d13f-fd15e64a3fc5"
      },
      "source": [
        "full_path_to_file2 = os.path.join(C403) \n",
        "blob_service_client.get_blob_to_path('shadeimg', full_path_to_file2, full_path_to_file2)"
      ],
      "execution_count": 63,
      "outputs": [
        {
          "output_type": "execute_result",
          "data": {
            "text/plain": [
              "<azure.storage.blob.models.Blob at 0x7f19eea38b90>"
            ]
          },
          "metadata": {},
          "execution_count": 63
        }
      ]
    },
    {
      "cell_type": "code",
      "metadata": {
        "colab": {
          "base_uri": "https://localhost:8080/"
        },
        "id": "_FOfoyRXqWjd",
        "outputId": "296fd1a2-621a-428e-84cc-89ea28ffbf5d"
      },
      "source": [
        "full_path_to_file2 = os.path.join(C404) \n",
        "blob_service_client.get_blob_to_path('shadeimg', full_path_to_file2, full_path_to_file2)"
      ],
      "execution_count": 64,
      "outputs": [
        {
          "output_type": "execute_result",
          "data": {
            "text/plain": [
              "<azure.storage.blob.models.Blob at 0x7f19eea6c250>"
            ]
          },
          "metadata": {},
          "execution_count": 64
        }
      ]
    },
    {
      "cell_type": "markdown",
      "metadata": {
        "id": "2nXnc9S96qZe"
      },
      "source": [
        "D2"
      ]
    },
    {
      "cell_type": "code",
      "metadata": {
        "colab": {
          "base_uri": "https://localhost:8080/"
        },
        "id": "jjb3FLKgqWjd",
        "outputId": "08710788-ed58-4bd1-8227-e194eae405d5"
      },
      "source": [
        "full_path_to_file2 = os.path.join(D201) \n",
        "blob_service_client.get_blob_to_path('shadeimg', full_path_to_file2, full_path_to_file2)"
      ],
      "execution_count": 65,
      "outputs": [
        {
          "output_type": "execute_result",
          "data": {
            "text/plain": [
              "<azure.storage.blob.models.Blob at 0x7f19eea42bd0>"
            ]
          },
          "metadata": {},
          "execution_count": 65
        }
      ]
    },
    {
      "cell_type": "code",
      "metadata": {
        "colab": {
          "base_uri": "https://localhost:8080/"
        },
        "id": "9pWM-aURqWjd",
        "outputId": "9eb0f22c-2db2-4999-a469-9db7429ff065"
      },
      "source": [
        "full_path_to_file2 = os.path.join(D202) \n",
        "blob_service_client.get_blob_to_path('shadeimg', full_path_to_file2, full_path_to_file2)"
      ],
      "execution_count": 66,
      "outputs": [
        {
          "output_type": "execute_result",
          "data": {
            "text/plain": [
              "<azure.storage.blob.models.Blob at 0x7f19eea6c450>"
            ]
          },
          "metadata": {},
          "execution_count": 66
        }
      ]
    },
    {
      "cell_type": "code",
      "metadata": {
        "colab": {
          "base_uri": "https://localhost:8080/"
        },
        "id": "LOd1jz1AqWjd",
        "outputId": "2d26c3c0-265f-4e45-95f2-345c7d5778a0"
      },
      "source": [
        "full_path_to_file2 = os.path.join(D203) \n",
        "blob_service_client.get_blob_to_path('shadeimg', full_path_to_file2, full_path_to_file2)"
      ],
      "execution_count": 67,
      "outputs": [
        {
          "output_type": "execute_result",
          "data": {
            "text/plain": [
              "<azure.storage.blob.models.Blob at 0x7f19eea56150>"
            ]
          },
          "metadata": {},
          "execution_count": 67
        }
      ]
    },
    {
      "cell_type": "code",
      "metadata": {
        "colab": {
          "base_uri": "https://localhost:8080/"
        },
        "id": "2u7Gw9SRqWjd",
        "outputId": "3635703f-727e-4f0e-9ab1-b75c4c00771f"
      },
      "source": [
        "full_path_to_file2 = os.path.join(D204) \n",
        "blob_service_client.get_blob_to_path('shadeimg', full_path_to_file2, full_path_to_file2)"
      ],
      "execution_count": 68,
      "outputs": [
        {
          "output_type": "execute_result",
          "data": {
            "text/plain": [
              "<azure.storage.blob.models.Blob at 0x7f19eea4e910>"
            ]
          },
          "metadata": {},
          "execution_count": 68
        }
      ]
    },
    {
      "cell_type": "markdown",
      "metadata": {
        "id": "84tHGN-56sF3"
      },
      "source": [
        "D3"
      ]
    },
    {
      "cell_type": "code",
      "metadata": {
        "colab": {
          "base_uri": "https://localhost:8080/"
        },
        "id": "1738pW_3qWje",
        "outputId": "cf85a914-8e58-4129-96e9-f9fc36177fec"
      },
      "source": [
        "full_path_to_file2 = os.path.join(D301) \n",
        "blob_service_client.get_blob_to_path('shadeimg', full_path_to_file2, full_path_to_file2)"
      ],
      "execution_count": 69,
      "outputs": [
        {
          "output_type": "execute_result",
          "data": {
            "text/plain": [
              "<azure.storage.blob.models.Blob at 0x7f19ef0da790>"
            ]
          },
          "metadata": {},
          "execution_count": 69
        }
      ]
    },
    {
      "cell_type": "code",
      "metadata": {
        "colab": {
          "base_uri": "https://localhost:8080/"
        },
        "id": "fOWxaJZRqWje",
        "outputId": "df2d61eb-812f-433b-a165-75a4dac76a90"
      },
      "source": [
        "full_path_to_file2 = os.path.join(D302) \n",
        "blob_service_client.get_blob_to_path('shadeimg', full_path_to_file2, full_path_to_file2)"
      ],
      "execution_count": 70,
      "outputs": [
        {
          "output_type": "execute_result",
          "data": {
            "text/plain": [
              "<azure.storage.blob.models.Blob at 0x7f19eea34b10>"
            ]
          },
          "metadata": {},
          "execution_count": 70
        }
      ]
    },
    {
      "cell_type": "code",
      "metadata": {
        "colab": {
          "base_uri": "https://localhost:8080/"
        },
        "id": "0gIgD-pCqWje",
        "outputId": "a7251c1d-0663-43dc-fe26-d4ef283758d0"
      },
      "source": [
        "full_path_to_file2 = os.path.join(D303) \n",
        "blob_service_client.get_blob_to_path('shadeimg', full_path_to_file2, full_path_to_file2)"
      ],
      "execution_count": 71,
      "outputs": [
        {
          "output_type": "execute_result",
          "data": {
            "text/plain": [
              "<azure.storage.blob.models.Blob at 0x7f19eea6c6d0>"
            ]
          },
          "metadata": {},
          "execution_count": 71
        }
      ]
    },
    {
      "cell_type": "code",
      "metadata": {
        "colab": {
          "base_uri": "https://localhost:8080/"
        },
        "id": "vChTjQDpqWje",
        "outputId": "89488fa3-83b8-4b9f-bf7c-66b195e29336"
      },
      "source": [
        "full_path_to_file2 = os.path.join(D304) \n",
        "blob_service_client.get_blob_to_path('shadeimg', full_path_to_file2, full_path_to_file2)"
      ],
      "execution_count": 72,
      "outputs": [
        {
          "output_type": "execute_result",
          "data": {
            "text/plain": [
              "<azure.storage.blob.models.Blob at 0x7f19eea38950>"
            ]
          },
          "metadata": {},
          "execution_count": 72
        }
      ]
    },
    {
      "cell_type": "markdown",
      "metadata": {
        "id": "sc2ondun6taF"
      },
      "source": [
        "D4"
      ]
    },
    {
      "cell_type": "code",
      "metadata": {
        "colab": {
          "base_uri": "https://localhost:8080/"
        },
        "id": "OPqH6s0MqWje",
        "outputId": "eb488f22-72cf-4b27-e3f6-6f48c56dc376"
      },
      "source": [
        "full_path_to_file2 = os.path.join(D401) \n",
        "blob_service_client.get_blob_to_path('shadeimg', full_path_to_file2, full_path_to_file2)"
      ],
      "execution_count": 73,
      "outputs": [
        {
          "output_type": "execute_result",
          "data": {
            "text/plain": [
              "<azure.storage.blob.models.Blob at 0x7f19eea34550>"
            ]
          },
          "metadata": {},
          "execution_count": 73
        }
      ]
    },
    {
      "cell_type": "code",
      "metadata": {
        "colab": {
          "base_uri": "https://localhost:8080/"
        },
        "id": "OHFDg-TYqWje",
        "outputId": "4af832c2-a25e-4a9b-b737-a68c3b32d596"
      },
      "source": [
        "full_path_to_file2 = os.path.join(D402) \n",
        "blob_service_client.get_blob_to_path('shadeimg', full_path_to_file2, full_path_to_file2)"
      ],
      "execution_count": 74,
      "outputs": [
        {
          "output_type": "execute_result",
          "data": {
            "text/plain": [
              "<azure.storage.blob.models.Blob at 0x7f19eea56c50>"
            ]
          },
          "metadata": {},
          "execution_count": 74
        }
      ]
    },
    {
      "cell_type": "code",
      "metadata": {
        "colab": {
          "base_uri": "https://localhost:8080/"
        },
        "id": "IykUWgiiqWje",
        "outputId": "0c29175e-f89e-440c-9847-434ab0ccfa91"
      },
      "source": [
        "full_path_to_file2 = os.path.join(D403) \n",
        "blob_service_client.get_blob_to_path('shadeimg', full_path_to_file2, full_path_to_file2)"
      ],
      "execution_count": 75,
      "outputs": [
        {
          "output_type": "execute_result",
          "data": {
            "text/plain": [
              "<azure.storage.blob.models.Blob at 0x7f19eea5ef10>"
            ]
          },
          "metadata": {},
          "execution_count": 75
        }
      ]
    },
    {
      "cell_type": "code",
      "metadata": {
        "colab": {
          "base_uri": "https://localhost:8080/"
        },
        "id": "mh_GL5A2qWjf",
        "outputId": "ac3a5a25-7dfa-41a1-99eb-98def37d0120"
      },
      "source": [
        "full_path_to_file2 = os.path.join(D404) \n",
        "blob_service_client.get_blob_to_path('shadeimg', full_path_to_file2, full_path_to_file2)"
      ],
      "execution_count": 76,
      "outputs": [
        {
          "output_type": "execute_result",
          "data": {
            "text/plain": [
              "<azure.storage.blob.models.Blob at 0x7f19eea99350>"
            ]
          },
          "metadata": {},
          "execution_count": 76
        }
      ]
    },
    {
      "cell_type": "markdown",
      "metadata": {
        "id": "nxyIUEg7cPsn"
      },
      "source": [
        "#3. BGR to RGB"
      ]
    },
    {
      "cell_type": "code",
      "metadata": {
        "id": "1n-t_Rl_cXK7"
      },
      "source": [
        "import cv2\n",
        "from matplotlib import pyplot as plt #การเรียกใช้คำสั่ง matplotlib เพื่อวาดกราฟ โดยแทนชื่อ matplotlib ด้วย plt\n",
        "import matplotlib"
      ],
      "execution_count": 77,
      "outputs": []
    },
    {
      "cell_type": "markdown",
      "metadata": {
        "id": "P8Vp2fIOb6KG"
      },
      "source": [
        "A1"
      ]
    },
    {
      "cell_type": "code",
      "metadata": {
        "id": "GVOM_S9IaAsm"
      },
      "source": [
        "imgA1_01  = cv2.imread(A101)\n",
        "RGB_imgA1_01= cv2.cvtColor(imgA1_01, cv2.COLOR_BGR2RGB)"
      ],
      "execution_count": 78,
      "outputs": []
    },
    {
      "cell_type": "code",
      "metadata": {
        "id": "hHPm9C2Obbbx"
      },
      "source": [
        "imgA1_02  = cv2.imread(A102)\n",
        "RGB_imgA1_02= cv2.cvtColor(imgA1_02, cv2.COLOR_BGR2RGB)"
      ],
      "execution_count": 79,
      "outputs": []
    },
    {
      "cell_type": "code",
      "metadata": {
        "id": "JSlpvsMEbgK7"
      },
      "source": [
        "imgA1_03  = cv2.imread(A103)\n",
        "RGB_imgA1_03= cv2.cvtColor(imgA1_03, cv2.COLOR_BGR2RGB)"
      ],
      "execution_count": 80,
      "outputs": []
    },
    {
      "cell_type": "code",
      "metadata": {
        "id": "0o9-5ucebgqD"
      },
      "source": [
        "imgA1_04  = cv2.imread(A104)\n",
        "RGB_imgA1_04= cv2.cvtColor(imgA1_04, cv2.COLOR_BGR2RGB)"
      ],
      "execution_count": 81,
      "outputs": []
    },
    {
      "cell_type": "markdown",
      "metadata": {
        "id": "gufTt975b7fS"
      },
      "source": [
        "A2"
      ]
    },
    {
      "cell_type": "code",
      "metadata": {
        "id": "tjSL18omb5R-"
      },
      "source": [
        "imgA2_01  = cv2.imread(A201)\n",
        "RGB_imgA2_01= cv2.cvtColor(imgA2_01, cv2.COLOR_BGR2RGB)"
      ],
      "execution_count": 82,
      "outputs": []
    },
    {
      "cell_type": "code",
      "metadata": {
        "id": "54V3PVGEcKYg"
      },
      "source": [
        "imgA2_02  = cv2.imread(A202)\n",
        "RGB_imgA2_02= cv2.cvtColor(imgA2_02, cv2.COLOR_BGR2RGB)"
      ],
      "execution_count": 83,
      "outputs": []
    },
    {
      "cell_type": "code",
      "metadata": {
        "id": "DVtfJhWscK1x"
      },
      "source": [
        "imgA2_03  = cv2.imread(A203)\n",
        "RGB_imgA2_03= cv2.cvtColor(imgA2_03, cv2.COLOR_BGR2RGB)"
      ],
      "execution_count": 84,
      "outputs": []
    },
    {
      "cell_type": "code",
      "metadata": {
        "id": "8Naz0LU5cLHO"
      },
      "source": [
        "imgA2_04  = cv2.imread(A204)\n",
        "RGB_imgA2_04= cv2.cvtColor(imgA2_04, cv2.COLOR_BGR2RGB)"
      ],
      "execution_count": 85,
      "outputs": []
    },
    {
      "cell_type": "markdown",
      "metadata": {
        "id": "uVEPIS6bcYbA"
      },
      "source": [
        "A3"
      ]
    },
    {
      "cell_type": "code",
      "metadata": {
        "id": "KzcBxc8lck7z"
      },
      "source": [
        "imgA3_01  = cv2.imread(A301)\n",
        "RGB_imgA3_01= cv2.cvtColor(imgA3_01, cv2.COLOR_BGR2RGB)"
      ],
      "execution_count": 86,
      "outputs": []
    },
    {
      "cell_type": "code",
      "metadata": {
        "id": "lORtl17icmhM"
      },
      "source": [
        "imgA3_02  = cv2.imread(A302)\n",
        "RGB_imgA3_02= cv2.cvtColor(imgA3_02, cv2.COLOR_BGR2RGB)"
      ],
      "execution_count": 87,
      "outputs": []
    },
    {
      "cell_type": "code",
      "metadata": {
        "id": "PdrwzlqVcyi1"
      },
      "source": [
        "imgA3_03  = cv2.imread(A303)\n",
        "RGB_imgA3_03= cv2.cvtColor(imgA3_03, cv2.COLOR_BGR2RGB)"
      ],
      "execution_count": 88,
      "outputs": []
    },
    {
      "cell_type": "code",
      "metadata": {
        "id": "sg9Z_KwUc4kR"
      },
      "source": [
        "imgA3_04  = cv2.imread(A304)\n",
        "RGB_imgA3_04= cv2.cvtColor(imgA3_04, cv2.COLOR_BGR2RGB)"
      ],
      "execution_count": 89,
      "outputs": []
    },
    {
      "cell_type": "markdown",
      "metadata": {
        "id": "a_-SKgyLcZWM"
      },
      "source": [
        "A3.5"
      ]
    },
    {
      "cell_type": "code",
      "metadata": {
        "id": "Gf3_D74Fc8S1"
      },
      "source": [
        "imgA3_501  = cv2.imread(A3_501)\n",
        "RGB_imgA3_501= cv2.cvtColor(imgA3_501, cv2.COLOR_BGR2RGB)"
      ],
      "execution_count": 90,
      "outputs": []
    },
    {
      "cell_type": "code",
      "metadata": {
        "id": "GqLh_f0mdBKp"
      },
      "source": [
        "imgA3_502  = cv2.imread(A3_502)\n",
        "RGB_imgA3_502= cv2.cvtColor(imgA3_502, cv2.COLOR_BGR2RGB)"
      ],
      "execution_count": 91,
      "outputs": []
    },
    {
      "cell_type": "code",
      "metadata": {
        "id": "cGBjkxnKdFxn"
      },
      "source": [
        "imgA3_503  = cv2.imread(A3_503)\n",
        "RGB_imgA3_503= cv2.cvtColor(imgA3_503, cv2.COLOR_BGR2RGB)"
      ],
      "execution_count": 92,
      "outputs": []
    },
    {
      "cell_type": "code",
      "metadata": {
        "id": "wVvpke2ZdKe1"
      },
      "source": [
        "imgA3_504  = cv2.imread(A3_504)\n",
        "RGB_imgA3_504= cv2.cvtColor(imgA3_504, cv2.COLOR_BGR2RGB)"
      ],
      "execution_count": 93,
      "outputs": []
    },
    {
      "cell_type": "markdown",
      "metadata": {
        "id": "PEkgGEpUdNrj"
      },
      "source": [
        "A4"
      ]
    },
    {
      "cell_type": "code",
      "metadata": {
        "id": "0iwy2ADPdOyB"
      },
      "source": [
        "imgA4_01  = cv2.imread(A401)\n",
        "RGB_imgA4_01= cv2.cvtColor(imgA4_01, cv2.COLOR_BGR2RGB)"
      ],
      "execution_count": 94,
      "outputs": []
    },
    {
      "cell_type": "code",
      "metadata": {
        "id": "EYuD_CJydQX5"
      },
      "source": [
        "imgA4_02  = cv2.imread(A402)\n",
        "RGB_imgA4_02= cv2.cvtColor(imgA4_02, cv2.COLOR_BGR2RGB)"
      ],
      "execution_count": 95,
      "outputs": []
    },
    {
      "cell_type": "code",
      "metadata": {
        "id": "0nvPOVb6dQsZ"
      },
      "source": [
        "imgA4_03  = cv2.imread(A403)\n",
        "RGB_imgA4_03= cv2.cvtColor(imgA4_03, cv2.COLOR_BGR2RGB)"
      ],
      "execution_count": 96,
      "outputs": []
    },
    {
      "cell_type": "code",
      "metadata": {
        "id": "N-8Nu6NBdQ8d"
      },
      "source": [
        "imgA4_04  = cv2.imread(A404)\n",
        "RGB_imgA4_04= cv2.cvtColor(imgA4_04, cv2.COLOR_BGR2RGB)"
      ],
      "execution_count": 97,
      "outputs": []
    },
    {
      "cell_type": "markdown",
      "metadata": {
        "id": "_ntdqxB5dsok"
      },
      "source": [
        "B1"
      ]
    },
    {
      "cell_type": "code",
      "metadata": {
        "id": "6N74-1BkdxgN"
      },
      "source": [
        "imgB1_01  = cv2.imread(B101)\n",
        "RGB_imgB1_01= cv2.cvtColor(imgB1_01, cv2.COLOR_BGR2RGB)"
      ],
      "execution_count": 98,
      "outputs": []
    },
    {
      "cell_type": "code",
      "metadata": {
        "id": "N8oZlwN0dyGl"
      },
      "source": [
        "imgB1_03  = cv2.imread(B103)\n",
        "RGB_imgB1_03= cv2.cvtColor(imgB1_03, cv2.COLOR_BGR2RGB)"
      ],
      "execution_count": 99,
      "outputs": []
    },
    {
      "cell_type": "code",
      "metadata": {
        "id": "igK3PDK9eCnz"
      },
      "source": [
        "imgB1_02  = cv2.imread(B102)\n",
        "RGB_imgB1_02= cv2.cvtColor(imgB1_02, cv2.COLOR_BGR2RGB)"
      ],
      "execution_count": 100,
      "outputs": []
    },
    {
      "cell_type": "code",
      "metadata": {
        "id": "VrS0M6pAeHIF"
      },
      "source": [
        "imgB1_04  = cv2.imread(B104)\n",
        "RGB_imgB1_04= cv2.cvtColor(imgB1_04, cv2.COLOR_BGR2RGB)"
      ],
      "execution_count": 101,
      "outputs": []
    },
    {
      "cell_type": "markdown",
      "metadata": {
        "id": "1I1KWoCMeObp"
      },
      "source": [
        "B2"
      ]
    },
    {
      "cell_type": "code",
      "metadata": {
        "id": "X-2JLg5feRPH"
      },
      "source": [
        "imgB2_01  = cv2.imread(B201)\n",
        "RGB_imgB2_01= cv2.cvtColor(imgB2_01, cv2.COLOR_BGR2RGB)"
      ],
      "execution_count": 102,
      "outputs": []
    },
    {
      "cell_type": "code",
      "metadata": {
        "id": "B_VstUr5eXwQ"
      },
      "source": [
        "imgB2_03  = cv2.imread(B203)\n",
        "RGB_imgB2_03= cv2.cvtColor(imgB2_03, cv2.COLOR_BGR2RGB)"
      ],
      "execution_count": 103,
      "outputs": []
    },
    {
      "cell_type": "code",
      "metadata": {
        "id": "2CgDr2APedK9"
      },
      "source": [
        "imgB2_04  = cv2.imread(B204)\n",
        "RGB_imgB2_04= cv2.cvtColor(imgB2_04, cv2.COLOR_BGR2RGB)"
      ],
      "execution_count": 104,
      "outputs": []
    },
    {
      "cell_type": "code",
      "metadata": {
        "id": "5xOt0vwDedc_"
      },
      "source": [
        "imgB2_02  = cv2.imread(B202)\n",
        "RGB_imgB2_02= cv2.cvtColor(imgB2_02, cv2.COLOR_BGR2RGB)"
      ],
      "execution_count": 105,
      "outputs": []
    },
    {
      "cell_type": "markdown",
      "metadata": {
        "id": "hUCBVyY7ePqP"
      },
      "source": [
        "B3"
      ]
    },
    {
      "cell_type": "code",
      "metadata": {
        "id": "LtfSY2yieq1m"
      },
      "source": [
        "imgB3_01  = cv2.imread(B301)\n",
        "RGB_imgB3_01= cv2.cvtColor(imgB3_01, cv2.COLOR_BGR2RGB)"
      ],
      "execution_count": 106,
      "outputs": []
    },
    {
      "cell_type": "code",
      "metadata": {
        "id": "794EGsZeevXI"
      },
      "source": [
        "imgB3_04  = cv2.imread(B304)\n",
        "RGB_imgB3_04= cv2.cvtColor(imgB3_04, cv2.COLOR_BGR2RGB)"
      ],
      "execution_count": 107,
      "outputs": []
    },
    {
      "cell_type": "code",
      "metadata": {
        "id": "lTZ_Ukume0_3"
      },
      "source": [
        "imgB3_02  = cv2.imread(B302)\n",
        "RGB_imgB3_02= cv2.cvtColor(imgB3_02, cv2.COLOR_BGR2RGB)"
      ],
      "execution_count": 108,
      "outputs": []
    },
    {
      "cell_type": "code",
      "metadata": {
        "id": "8QEXNswqe6yE"
      },
      "source": [
        "imgB3_03  = cv2.imread(B303)\n",
        "RGB_imgB3_03= cv2.cvtColor(imgB3_03, cv2.COLOR_BGR2RGB)"
      ],
      "execution_count": 109,
      "outputs": []
    },
    {
      "cell_type": "markdown",
      "metadata": {
        "id": "LcXBVCGVeQec"
      },
      "source": [
        "B4"
      ]
    },
    {
      "cell_type": "code",
      "metadata": {
        "id": "6aFTfOU0fKS7"
      },
      "source": [
        "imgB4_02  = cv2.imread(B402)\n",
        "RGB_imgB4_02= cv2.cvtColor(imgB4_02, cv2.COLOR_BGR2RGB)"
      ],
      "execution_count": 110,
      "outputs": []
    },
    {
      "cell_type": "code",
      "metadata": {
        "id": "yIuyXg-Wfh3L"
      },
      "source": [
        "imgB4_03  = cv2.imread(B403)\n",
        "RGB_imgB4_03= cv2.cvtColor(imgB4_03, cv2.COLOR_BGR2RGB)"
      ],
      "execution_count": 111,
      "outputs": []
    },
    {
      "cell_type": "code",
      "metadata": {
        "id": "xXaJJNF3fiG-"
      },
      "source": [
        "imgB4_01  = cv2.imread(B401)\n",
        "RGB_imgB4_01= cv2.cvtColor(imgB4_01, cv2.COLOR_BGR2RGB)"
      ],
      "execution_count": 112,
      "outputs": []
    },
    {
      "cell_type": "code",
      "metadata": {
        "id": "ILAXr3L4fGYz"
      },
      "source": [
        "imgB4_04  = cv2.imread(B404)\n",
        "RGB_imgB4_04= cv2.cvtColor(imgB4_04, cv2.COLOR_BGR2RGB)"
      ],
      "execution_count": 113,
      "outputs": []
    },
    {
      "cell_type": "markdown",
      "metadata": {
        "id": "uubEFQ7qf-tC"
      },
      "source": [
        "C1"
      ]
    },
    {
      "cell_type": "code",
      "metadata": {
        "id": "6-ubqoTsgJPC"
      },
      "source": [
        "imgC1_03  = cv2.imread(C103)\n",
        "RGB_imgC1_03= cv2.cvtColor(imgC1_03, cv2.COLOR_BGR2RGB)"
      ],
      "execution_count": 114,
      "outputs": []
    },
    {
      "cell_type": "code",
      "metadata": {
        "id": "t0KvXNPygJii"
      },
      "source": [
        "imgC1_04  = cv2.imread(C104)\n",
        "RGB_imgC1_04= cv2.cvtColor(imgC1_04, cv2.COLOR_BGR2RGB)"
      ],
      "execution_count": 115,
      "outputs": []
    },
    {
      "cell_type": "code",
      "metadata": {
        "id": "PiE8ZiNOgXXs"
      },
      "source": [
        "imgC1_02  = cv2.imread(C102)\n",
        "RGB_imgC1_02= cv2.cvtColor(imgC1_02, cv2.COLOR_BGR2RGB)"
      ],
      "execution_count": 116,
      "outputs": []
    },
    {
      "cell_type": "code",
      "metadata": {
        "id": "cqOor2j3gWvD"
      },
      "source": [
        "imgC1_01  = cv2.imread(C101)\n",
        "RGB_imgC1_01= cv2.cvtColor(imgC1_01, cv2.COLOR_BGR2RGB)"
      ],
      "execution_count": 117,
      "outputs": []
    },
    {
      "cell_type": "markdown",
      "metadata": {
        "id": "yyI19BAbf_7S"
      },
      "source": [
        "C2"
      ]
    },
    {
      "cell_type": "code",
      "metadata": {
        "id": "TzTzP-M1gmXw"
      },
      "source": [
        "imgC2_01  = cv2.imread(C201)\n",
        "RGB_imgC2_01= cv2.cvtColor(imgC2_01, cv2.COLOR_BGR2RGB)"
      ],
      "execution_count": 118,
      "outputs": []
    },
    {
      "cell_type": "code",
      "metadata": {
        "id": "QJfBlVmAgk3S"
      },
      "source": [
        "imgC2_02  = cv2.imread(C202)\n",
        "RGB_imgC2_02= cv2.cvtColor(imgC2_02, cv2.COLOR_BGR2RGB)"
      ],
      "execution_count": 119,
      "outputs": []
    },
    {
      "cell_type": "code",
      "metadata": {
        "id": "DVeUrQ0agmDP"
      },
      "source": [
        "imgC2_03  = cv2.imread(C203)\n",
        "RGB_imgC2_03= cv2.cvtColor(imgC2_03, cv2.COLOR_BGR2RGB)"
      ],
      "execution_count": 120,
      "outputs": []
    },
    {
      "cell_type": "code",
      "metadata": {
        "id": "XtghPEO2gmp8"
      },
      "source": [
        "imgC2_04  = cv2.imread(C204)\n",
        "RGB_imgC2_04= cv2.cvtColor(imgC2_04, cv2.COLOR_BGR2RGB)"
      ],
      "execution_count": 121,
      "outputs": []
    },
    {
      "cell_type": "markdown",
      "metadata": {
        "id": "vfSCdks7gBFH"
      },
      "source": [
        "C3"
      ]
    },
    {
      "cell_type": "code",
      "metadata": {
        "id": "2FGbyNm0hhmR"
      },
      "source": [
        "imgC3_01  = cv2.imread(C301)\n",
        "RGB_imgC3_01= cv2.cvtColor(imgC3_01, cv2.COLOR_BGR2RGB)"
      ],
      "execution_count": 122,
      "outputs": []
    },
    {
      "cell_type": "code",
      "metadata": {
        "id": "O60-VGAmhh97"
      },
      "source": [
        "imgC3_03  = cv2.imread(C303)\n",
        "RGB_imgC3_03= cv2.cvtColor(imgC3_03, cv2.COLOR_BGR2RGB)"
      ],
      "execution_count": 123,
      "outputs": []
    },
    {
      "cell_type": "code",
      "metadata": {
        "id": "Ic1so8G1hsTe"
      },
      "source": [
        "imgC3_02  = cv2.imread(C302)\n",
        "RGB_imgC3_02= cv2.cvtColor(imgC3_02, cv2.COLOR_BGR2RGB)"
      ],
      "execution_count": 124,
      "outputs": []
    },
    {
      "cell_type": "code",
      "metadata": {
        "id": "YtNRCI-8hsj-"
      },
      "source": [
        "imgC3_04  = cv2.imread(C304)\n",
        "RGB_imgC3_04= cv2.cvtColor(imgC3_04, cv2.COLOR_BGR2RGB)"
      ],
      "execution_count": 125,
      "outputs": []
    },
    {
      "cell_type": "markdown",
      "metadata": {
        "id": "VZuqvN-UgB1x"
      },
      "source": [
        "C4"
      ]
    },
    {
      "cell_type": "code",
      "metadata": {
        "id": "HWO6qM5kirOE"
      },
      "source": [
        "imgC4_02  = cv2.imread(C402)\n",
        "RGB_imgC4_02= cv2.cvtColor(imgC4_02, cv2.COLOR_BGR2RGB)"
      ],
      "execution_count": 126,
      "outputs": []
    },
    {
      "cell_type": "code",
      "metadata": {
        "id": "j4Pja6LViriS"
      },
      "source": [
        "imgC4_01  = cv2.imread(C401)\n",
        "RGB_imgC4_01= cv2.cvtColor(imgC4_01, cv2.COLOR_BGR2RGB)"
      ],
      "execution_count": 127,
      "outputs": []
    },
    {
      "cell_type": "code",
      "metadata": {
        "id": "X3o2PV6virzG"
      },
      "source": [
        "imgC4_03  = cv2.imread(C403)\n",
        "RGB_imgC4_03= cv2.cvtColor(imgC4_03, cv2.COLOR_BGR2RGB)"
      ],
      "execution_count": 128,
      "outputs": []
    },
    {
      "cell_type": "code",
      "metadata": {
        "id": "kPoMLVCdisHc"
      },
      "source": [
        "imgC4_04  = cv2.imread(C404)\n",
        "RGB_imgC4_04= cv2.cvtColor(imgC4_04, cv2.COLOR_BGR2RGB)"
      ],
      "execution_count": 129,
      "outputs": []
    },
    {
      "cell_type": "markdown",
      "metadata": {
        "id": "T9ARw2lYgCjL"
      },
      "source": [
        "D2"
      ]
    },
    {
      "cell_type": "code",
      "metadata": {
        "id": "DFmPhDzCjGWv"
      },
      "source": [
        "imgD2_04  = cv2.imread(D204)\n",
        "RGB_imgD2_04= cv2.cvtColor(imgD2_04, cv2.COLOR_BGR2RGB)"
      ],
      "execution_count": 130,
      "outputs": []
    },
    {
      "cell_type": "code",
      "metadata": {
        "id": "qujyaFlOjGni"
      },
      "source": [
        "imgD2_03  = cv2.imread(D203)\n",
        "RGB_imgD2_03= cv2.cvtColor(imgD2_03, cv2.COLOR_BGR2RGB)"
      ],
      "execution_count": 131,
      "outputs": []
    },
    {
      "cell_type": "code",
      "metadata": {
        "id": "zlPefHERjU-c"
      },
      "source": [
        "imgD2_02  = cv2.imread(D202)\n",
        "RGB_imgD2_02= cv2.cvtColor(imgD2_02, cv2.COLOR_BGR2RGB)"
      ],
      "execution_count": 132,
      "outputs": []
    },
    {
      "cell_type": "code",
      "metadata": {
        "id": "b3i_Rv95jVMQ"
      },
      "source": [
        "imgD2_01  = cv2.imread(D201)\n",
        "RGB_imgD2_01= cv2.cvtColor(imgD2_01, cv2.COLOR_BGR2RGB)"
      ],
      "execution_count": 133,
      "outputs": []
    },
    {
      "cell_type": "markdown",
      "metadata": {
        "id": "bCM2rsMZgDZt"
      },
      "source": [
        "D3"
      ]
    },
    {
      "cell_type": "code",
      "metadata": {
        "id": "543Pftj0jkoi"
      },
      "source": [
        "imgD3_01  = cv2.imread(D301)\n",
        "RGB_imgD3_01= cv2.cvtColor(imgD3_01, cv2.COLOR_BGR2RGB)"
      ],
      "execution_count": 134,
      "outputs": []
    },
    {
      "cell_type": "code",
      "metadata": {
        "id": "se8oOd8IjrIX"
      },
      "source": [
        "imgD3_02  = cv2.imread(D302)\n",
        "RGB_imgD3_02= cv2.cvtColor(imgD3_02, cv2.COLOR_BGR2RGB)"
      ],
      "execution_count": 135,
      "outputs": []
    },
    {
      "cell_type": "code",
      "metadata": {
        "id": "n569gXVKjymi"
      },
      "source": [
        "imgD3_03  = cv2.imread(D303)\n",
        "RGB_imgD3_03= cv2.cvtColor(imgD3_03, cv2.COLOR_BGR2RGB)"
      ],
      "execution_count": 136,
      "outputs": []
    },
    {
      "cell_type": "code",
      "metadata": {
        "id": "zAx3JzOnj4NU"
      },
      "source": [
        "imgD3_04  = cv2.imread(D304)\n",
        "RGB_imgD3_04= cv2.cvtColor(imgD3_04, cv2.COLOR_BGR2RGB)"
      ],
      "execution_count": 137,
      "outputs": []
    },
    {
      "cell_type": "markdown",
      "metadata": {
        "id": "mvMVz8Y9gETm"
      },
      "source": [
        "D4"
      ]
    },
    {
      "cell_type": "code",
      "metadata": {
        "id": "ES2mOiDQj-uU"
      },
      "source": [
        "imgD4_01  = cv2.imread(D401)\n",
        "RGB_imgD4_01= cv2.cvtColor(imgD4_01, cv2.COLOR_BGR2RGB)"
      ],
      "execution_count": 138,
      "outputs": []
    },
    {
      "cell_type": "code",
      "metadata": {
        "id": "68q0SjtIj_Dy"
      },
      "source": [
        "imgD4_02  = cv2.imread(D402)\n",
        "RGB_imgD4_02= cv2.cvtColor(imgD4_02, cv2.COLOR_BGR2RGB)"
      ],
      "execution_count": 139,
      "outputs": []
    },
    {
      "cell_type": "code",
      "metadata": {
        "id": "eZSd-x2GgDEL"
      },
      "source": [
        "imgD4_03  = cv2.imread(D403)\n",
        "RGB_imgD4_03= cv2.cvtColor(imgD4_03, cv2.COLOR_BGR2RGB)"
      ],
      "execution_count": 140,
      "outputs": []
    },
    {
      "cell_type": "code",
      "metadata": {
        "id": "ICINoEfIgDWj"
      },
      "source": [
        "imgD4_04  = cv2.imread(D404)\n",
        "RGB_imgD4_04= cv2.cvtColor(imgD4_04, cv2.COLOR_BGR2RGB)"
      ],
      "execution_count": 141,
      "outputs": []
    },
    {
      "cell_type": "markdown",
      "metadata": {
        "id": "uHfUzwcHhX8R"
      },
      "source": [
        "#4. RGB to LAB"
      ]
    },
    {
      "cell_type": "markdown",
      "metadata": {
        "id": "yBL9utUemWyZ"
      },
      "source": [
        "A1"
      ]
    },
    {
      "cell_type": "code",
      "metadata": {
        "id": "UiTCG8xFntwB"
      },
      "source": [
        "LAB_imgA1_01= cv2.cvtColor(RGB_imgA1_01, cv2.COLOR_RGB2LAB)"
      ],
      "execution_count": 142,
      "outputs": []
    },
    {
      "cell_type": "code",
      "metadata": {
        "id": "ktf3nM4antol"
      },
      "source": [
        "LAB_imgA1_02= cv2.cvtColor(RGB_imgA1_02, cv2.COLOR_RGB2LAB)"
      ],
      "execution_count": 143,
      "outputs": []
    },
    {
      "cell_type": "code",
      "metadata": {
        "id": "u-JFybcBntdc"
      },
      "source": [
        "LAB_imgA1_03= cv2.cvtColor(RGB_imgA1_03, cv2.COLOR_RGB2LAB)"
      ],
      "execution_count": 144,
      "outputs": []
    },
    {
      "cell_type": "code",
      "metadata": {
        "id": "EJ9wLDXenwG4"
      },
      "source": [
        "LAB_imgA1_04= cv2.cvtColor(RGB_imgA1_04, cv2.COLOR_RGB2LAB)"
      ],
      "execution_count": 145,
      "outputs": []
    },
    {
      "cell_type": "markdown",
      "metadata": {
        "id": "8rtewXNCpnBx"
      },
      "source": [
        "A2"
      ]
    },
    {
      "cell_type": "code",
      "metadata": {
        "id": "xsTPAG-gpqXo"
      },
      "source": [
        "LAB_imgA2_01= cv2.cvtColor(RGB_imgA2_01, cv2.COLOR_RGB2LAB)"
      ],
      "execution_count": 146,
      "outputs": []
    },
    {
      "cell_type": "code",
      "metadata": {
        "id": "Ssic_jpRqhqK"
      },
      "source": [
        "LAB_imgA2_02= cv2.cvtColor(RGB_imgA2_02, cv2.COLOR_RGB2LAB)"
      ],
      "execution_count": 147,
      "outputs": []
    },
    {
      "cell_type": "code",
      "metadata": {
        "id": "nYc5fnY9qpBk"
      },
      "source": [
        "LAB_imgA2_03= cv2.cvtColor(RGB_imgA2_03, cv2.COLOR_RGB2LAB)"
      ],
      "execution_count": 148,
      "outputs": []
    },
    {
      "cell_type": "code",
      "metadata": {
        "id": "hzoiKbbRqowx"
      },
      "source": [
        "LAB_imgA2_04= cv2.cvtColor(RGB_imgA2_04, cv2.COLOR_RGB2LAB)"
      ],
      "execution_count": 149,
      "outputs": []
    },
    {
      "cell_type": "markdown",
      "metadata": {
        "id": "aI5xdTY4pn8b"
      },
      "source": [
        "A3"
      ]
    },
    {
      "cell_type": "code",
      "metadata": {
        "id": "pCou6gLsrIwK"
      },
      "source": [
        "LAB_imgA3_01= cv2.cvtColor(RGB_imgA3_01, cv2.COLOR_RGB2LAB)"
      ],
      "execution_count": 150,
      "outputs": []
    },
    {
      "cell_type": "code",
      "metadata": {
        "id": "kVCfCF5OrIf4"
      },
      "source": [
        "LAB_imgA3_02= cv2.cvtColor(RGB_imgA3_02, cv2.COLOR_RGB2LAB)"
      ],
      "execution_count": 151,
      "outputs": []
    },
    {
      "cell_type": "code",
      "metadata": {
        "id": "mG7BAXngrITB"
      },
      "source": [
        "LAB_imgA3_03= cv2.cvtColor(RGB_imgA3_03, cv2.COLOR_RGB2LAB)"
      ],
      "execution_count": 152,
      "outputs": []
    },
    {
      "cell_type": "code",
      "metadata": {
        "id": "qix2SAstrH9-"
      },
      "source": [
        "LAB_imgA3_04= cv2.cvtColor(RGB_imgA3_04, cv2.COLOR_RGB2LAB)"
      ],
      "execution_count": 153,
      "outputs": []
    },
    {
      "cell_type": "markdown",
      "metadata": {
        "id": "cGC5Ray3poxR"
      },
      "source": [
        "A3.5"
      ]
    },
    {
      "cell_type": "code",
      "metadata": {
        "id": "6AkrYYCurpZL"
      },
      "source": [
        "LAB_imgA3_501= cv2.cvtColor(RGB_imgA3_501, cv2.COLOR_RGB2LAB)"
      ],
      "execution_count": 154,
      "outputs": []
    },
    {
      "cell_type": "code",
      "metadata": {
        "id": "JOQI8idOrpRN"
      },
      "source": [
        "LAB_imgA3_502= cv2.cvtColor(RGB_imgA3_502, cv2.COLOR_RGB2LAB)"
      ],
      "execution_count": 155,
      "outputs": []
    },
    {
      "cell_type": "code",
      "metadata": {
        "id": "zkTCbiLJrpIU"
      },
      "source": [
        "LAB_imgA3_503= cv2.cvtColor(RGB_imgA3_503, cv2.COLOR_RGB2LAB)"
      ],
      "execution_count": 156,
      "outputs": []
    },
    {
      "cell_type": "code",
      "metadata": {
        "id": "5LKXlyPProsL"
      },
      "source": [
        "LAB_imgA3_504= cv2.cvtColor(RGB_imgA3_504, cv2.COLOR_RGB2LAB)"
      ],
      "execution_count": 157,
      "outputs": []
    },
    {
      "cell_type": "markdown",
      "metadata": {
        "id": "DkthN7EuppmB"
      },
      "source": [
        "A4"
      ]
    },
    {
      "cell_type": "code",
      "metadata": {
        "id": "bNbHDb-Jr15k"
      },
      "source": [
        "LAB_imgA4_01= cv2.cvtColor(RGB_imgA4_01, cv2.COLOR_RGB2LAB)"
      ],
      "execution_count": 158,
      "outputs": []
    },
    {
      "cell_type": "code",
      "metadata": {
        "id": "1ftcCZIUr2Le"
      },
      "source": [
        "LAB_imgA4_02= cv2.cvtColor(RGB_imgA4_02, cv2.COLOR_RGB2LAB)"
      ],
      "execution_count": 159,
      "outputs": []
    },
    {
      "cell_type": "code",
      "metadata": {
        "id": "woxjbwstr2g6"
      },
      "source": [
        "LAB_imgA4_03= cv2.cvtColor(RGB_imgA4_03, cv2.COLOR_RGB2LAB)"
      ],
      "execution_count": 160,
      "outputs": []
    },
    {
      "cell_type": "code",
      "metadata": {
        "id": "qep6oqGLr2xv"
      },
      "source": [
        "LAB_imgA4_04= cv2.cvtColor(RGB_imgA4_04, cv2.COLOR_RGB2LAB)"
      ],
      "execution_count": 161,
      "outputs": []
    },
    {
      "cell_type": "markdown",
      "metadata": {
        "id": "rrX7vaLpsTz-"
      },
      "source": [
        "B1"
      ]
    },
    {
      "cell_type": "code",
      "metadata": {
        "id": "DNRoFy1wsVF_"
      },
      "source": [
        "LAB_imgB1_01= cv2.cvtColor(RGB_imgB1_01, cv2.COLOR_RGB2LAB)"
      ],
      "execution_count": 162,
      "outputs": []
    },
    {
      "cell_type": "code",
      "metadata": {
        "id": "zp3TpwKRsWvx"
      },
      "source": [
        "LAB_imgB1_02= cv2.cvtColor(RGB_imgB1_02, cv2.COLOR_RGB2LAB)"
      ],
      "execution_count": 163,
      "outputs": []
    },
    {
      "cell_type": "code",
      "metadata": {
        "id": "xrzFoPNVsXI9"
      },
      "source": [
        "LAB_imgB1_03= cv2.cvtColor(RGB_imgB1_03, cv2.COLOR_RGB2LAB)"
      ],
      "execution_count": 164,
      "outputs": []
    },
    {
      "cell_type": "code",
      "metadata": {
        "id": "_qS1zGa4sXZU"
      },
      "source": [
        "LAB_imgB1_04= cv2.cvtColor(RGB_imgB1_04, cv2.COLOR_RGB2LAB)"
      ],
      "execution_count": 165,
      "outputs": []
    },
    {
      "cell_type": "markdown",
      "metadata": {
        "id": "dzo4UhMAsX3I"
      },
      "source": [
        "B2"
      ]
    },
    {
      "cell_type": "code",
      "metadata": {
        "id": "a9bFqn5FsY44"
      },
      "source": [
        "LAB_imgB2_01= cv2.cvtColor(RGB_imgB2_01, cv2.COLOR_RGB2LAB)"
      ],
      "execution_count": 166,
      "outputs": []
    },
    {
      "cell_type": "code",
      "metadata": {
        "id": "xrHo9VfLsZXM"
      },
      "source": [
        "LAB_imgB2_03= cv2.cvtColor(RGB_imgB2_03, cv2.COLOR_RGB2LAB)"
      ],
      "execution_count": 167,
      "outputs": []
    },
    {
      "cell_type": "code",
      "metadata": {
        "id": "oPLazK61sZ1W"
      },
      "source": [
        "LAB_imgB2_04= cv2.cvtColor(RGB_imgB2_04, cv2.COLOR_RGB2LAB)"
      ],
      "execution_count": 168,
      "outputs": []
    },
    {
      "cell_type": "code",
      "metadata": {
        "id": "wAy1CJY8saG6"
      },
      "source": [
        "LAB_imgB2_02= cv2.cvtColor(RGB_imgB2_02, cv2.COLOR_RGB2LAB)"
      ],
      "execution_count": 169,
      "outputs": []
    },
    {
      "cell_type": "markdown",
      "metadata": {
        "id": "TnccqxHJtNzw"
      },
      "source": [
        "B3"
      ]
    },
    {
      "cell_type": "code",
      "metadata": {
        "id": "6UlUYvwltP4E"
      },
      "source": [
        "LAB_imgB3_01= cv2.cvtColor(RGB_imgB3_01, cv2.COLOR_RGB2LAB)"
      ],
      "execution_count": 170,
      "outputs": []
    },
    {
      "cell_type": "code",
      "metadata": {
        "id": "Eq5sKtuNtPw7"
      },
      "source": [
        "LAB_imgB3_04= cv2.cvtColor(RGB_imgB3_04, cv2.COLOR_RGB2LAB)"
      ],
      "execution_count": 171,
      "outputs": []
    },
    {
      "cell_type": "code",
      "metadata": {
        "id": "ut-9sRhptPol"
      },
      "source": [
        "LAB_imgB3_03= cv2.cvtColor(RGB_imgB3_03, cv2.COLOR_RGB2LAB)"
      ],
      "execution_count": 172,
      "outputs": []
    },
    {
      "cell_type": "code",
      "metadata": {
        "id": "jPF5GyyetPU_"
      },
      "source": [
        "LAB_imgB3_02= cv2.cvtColor(RGB_imgB3_02, cv2.COLOR_RGB2LAB)"
      ],
      "execution_count": 173,
      "outputs": []
    },
    {
      "cell_type": "markdown",
      "metadata": {
        "id": "xZINrtsKtOnt"
      },
      "source": [
        "B4"
      ]
    },
    {
      "cell_type": "code",
      "metadata": {
        "id": "SeSRHJjYtpGP"
      },
      "source": [
        "LAB_imgB4_02= cv2.cvtColor(RGB_imgB4_02, cv2.COLOR_RGB2LAB)"
      ],
      "execution_count": 174,
      "outputs": []
    },
    {
      "cell_type": "code",
      "metadata": {
        "id": "R4wpA7bLto3a"
      },
      "source": [
        "LAB_imgB4_03= cv2.cvtColor(RGB_imgB4_03, cv2.COLOR_RGB2LAB)"
      ],
      "execution_count": 175,
      "outputs": []
    },
    {
      "cell_type": "code",
      "metadata": {
        "id": "vD9WSa1VtovA"
      },
      "source": [
        "LAB_imgB4_01= cv2.cvtColor(RGB_imgB4_01, cv2.COLOR_RGB2LAB)"
      ],
      "execution_count": 176,
      "outputs": []
    },
    {
      "cell_type": "code",
      "metadata": {
        "id": "o40LIXDBtonM"
      },
      "source": [
        "LAB_imgB4_04= cv2.cvtColor(RGB_imgB4_04, cv2.COLOR_RGB2LAB)"
      ],
      "execution_count": 177,
      "outputs": []
    },
    {
      "cell_type": "markdown",
      "metadata": {
        "id": "yLHsd5D4t50J"
      },
      "source": [
        "C1"
      ]
    },
    {
      "cell_type": "code",
      "metadata": {
        "id": "2p-LPjykt_yW"
      },
      "source": [
        "LAB_imgC1_03= cv2.cvtColor(RGB_imgC1_03, cv2.COLOR_RGB2LAB)"
      ],
      "execution_count": 178,
      "outputs": []
    },
    {
      "cell_type": "code",
      "metadata": {
        "id": "rdHlj07At_pP"
      },
      "source": [
        "LAB_imgC1_02= cv2.cvtColor(RGB_imgC1_02, cv2.COLOR_RGB2LAB)"
      ],
      "execution_count": 179,
      "outputs": []
    },
    {
      "cell_type": "code",
      "metadata": {
        "id": "fAaBZ-xHt_iB"
      },
      "source": [
        "LAB_imgC1_04= cv2.cvtColor(RGB_imgC1_04, cv2.COLOR_RGB2LAB)"
      ],
      "execution_count": 180,
      "outputs": []
    },
    {
      "cell_type": "code",
      "metadata": {
        "id": "_HTZkwblt_Z0"
      },
      "source": [
        "LAB_imgC1_01= cv2.cvtColor(RGB_imgC1_01, cv2.COLOR_RGB2LAB)"
      ],
      "execution_count": 181,
      "outputs": []
    },
    {
      "cell_type": "markdown",
      "metadata": {
        "id": "JeHYgzj7t7UT"
      },
      "source": [
        "C2"
      ]
    },
    {
      "cell_type": "code",
      "metadata": {
        "id": "EAqFpnsvuTNJ"
      },
      "source": [
        "LAB_imgC2_02= cv2.cvtColor(RGB_imgC2_02, cv2.COLOR_RGB2LAB)"
      ],
      "execution_count": 182,
      "outputs": []
    },
    {
      "cell_type": "code",
      "metadata": {
        "id": "wwTtWI5xuTGB"
      },
      "source": [
        "LAB_imgC2_01= cv2.cvtColor(RGB_imgC2_01, cv2.COLOR_RGB2LAB)"
      ],
      "execution_count": 183,
      "outputs": []
    },
    {
      "cell_type": "code",
      "metadata": {
        "id": "gmglr0e-uS-7"
      },
      "source": [
        "LAB_imgC2_04= cv2.cvtColor(RGB_imgC2_04, cv2.COLOR_RGB2LAB)"
      ],
      "execution_count": 184,
      "outputs": []
    },
    {
      "cell_type": "code",
      "metadata": {
        "id": "XmcUNeqVuS4f"
      },
      "source": [
        "LAB_imgC2_03= cv2.cvtColor(RGB_imgC2_03, cv2.COLOR_RGB2LAB)"
      ],
      "execution_count": 185,
      "outputs": []
    },
    {
      "cell_type": "markdown",
      "metadata": {
        "id": "TWvT9dUft7_0"
      },
      "source": [
        "C3"
      ]
    },
    {
      "cell_type": "code",
      "metadata": {
        "id": "xzI3OKXMuioR"
      },
      "source": [
        "LAB_imgC3_01= cv2.cvtColor(RGB_imgC3_01, cv2.COLOR_RGB2LAB)"
      ],
      "execution_count": 186,
      "outputs": []
    },
    {
      "cell_type": "code",
      "metadata": {
        "id": "G_qoc3spuigB"
      },
      "source": [
        "LAB_imgC3_03= cv2.cvtColor(RGB_imgC3_03, cv2.COLOR_RGB2LAB)"
      ],
      "execution_count": 187,
      "outputs": []
    },
    {
      "cell_type": "code",
      "metadata": {
        "id": "BuyacIypuiZg"
      },
      "source": [
        "LAB_imgC3_04= cv2.cvtColor(RGB_imgC3_04, cv2.COLOR_RGB2LAB)"
      ],
      "execution_count": 188,
      "outputs": []
    },
    {
      "cell_type": "code",
      "metadata": {
        "id": "--fV2onBuiRu"
      },
      "source": [
        "LAB_imgC3_02= cv2.cvtColor(RGB_imgC3_02, cv2.COLOR_RGB2LAB)"
      ],
      "execution_count": 189,
      "outputs": []
    },
    {
      "cell_type": "markdown",
      "metadata": {
        "id": "rfRgDMm7t8qf"
      },
      "source": [
        "C4"
      ]
    },
    {
      "cell_type": "code",
      "metadata": {
        "id": "t15dvQqsuuZo"
      },
      "source": [
        "LAB_imgC4_02= cv2.cvtColor(RGB_imgC4_02, cv2.COLOR_RGB2LAB)"
      ],
      "execution_count": 190,
      "outputs": []
    },
    {
      "cell_type": "code",
      "metadata": {
        "id": "YkkHIM4-uuvj"
      },
      "source": [
        "LAB_imgC4_04= cv2.cvtColor(RGB_imgC4_04, cv2.COLOR_RGB2LAB)"
      ],
      "execution_count": 191,
      "outputs": []
    },
    {
      "cell_type": "code",
      "metadata": {
        "id": "3AyL5cwwuuod"
      },
      "source": [
        "LAB_imgC4_03= cv2.cvtColor(RGB_imgC4_03, cv2.COLOR_RGB2LAB)"
      ],
      "execution_count": 192,
      "outputs": []
    },
    {
      "cell_type": "code",
      "metadata": {
        "id": "RGQ8Mi_3uuhp"
      },
      "source": [
        "LAB_imgC4_01= cv2.cvtColor(RGB_imgC4_01, cv2.COLOR_RGB2LAB)"
      ],
      "execution_count": 193,
      "outputs": []
    },
    {
      "cell_type": "markdown",
      "metadata": {
        "id": "DID5W6jot9pI"
      },
      "source": [
        "D2"
      ]
    },
    {
      "cell_type": "code",
      "metadata": {
        "id": "nlOKN8S1uv5p"
      },
      "source": [
        "LAB_imgD2_04= cv2.cvtColor(RGB_imgD2_04, cv2.COLOR_RGB2LAB)"
      ],
      "execution_count": 194,
      "outputs": []
    },
    {
      "cell_type": "code",
      "metadata": {
        "id": "xapLpqazuvbP"
      },
      "source": [
        "LAB_imgD2_01= cv2.cvtColor(RGB_imgD2_01, cv2.COLOR_RGB2LAB)"
      ],
      "execution_count": 195,
      "outputs": []
    },
    {
      "cell_type": "code",
      "metadata": {
        "id": "jRXzn-LouvVV"
      },
      "source": [
        "LAB_imgD2_02= cv2.cvtColor(RGB_imgD2_02, cv2.COLOR_RGB2LAB)"
      ],
      "execution_count": 196,
      "outputs": []
    },
    {
      "cell_type": "code",
      "metadata": {
        "id": "TPB_PHRbuvOn"
      },
      "source": [
        "LAB_imgD2_03= cv2.cvtColor(RGB_imgD2_03, cv2.COLOR_RGB2LAB)"
      ],
      "execution_count": 197,
      "outputs": []
    },
    {
      "cell_type": "markdown",
      "metadata": {
        "id": "RdzTIOPUt-U9"
      },
      "source": [
        "D3"
      ]
    },
    {
      "cell_type": "code",
      "metadata": {
        "id": "vdzrjvXjuxGq"
      },
      "source": [
        "LAB_imgD3_02= cv2.cvtColor(RGB_imgD3_02, cv2.COLOR_RGB2LAB)"
      ],
      "execution_count": 198,
      "outputs": []
    },
    {
      "cell_type": "code",
      "metadata": {
        "id": "SHeWKMvduw_L"
      },
      "source": [
        "LAB_imgD3_01= cv2.cvtColor(RGB_imgD3_01, cv2.COLOR_RGB2LAB)"
      ],
      "execution_count": 199,
      "outputs": []
    },
    {
      "cell_type": "code",
      "metadata": {
        "id": "jWpHp4wFuw40"
      },
      "source": [
        "LAB_imgD3_03= cv2.cvtColor(RGB_imgD3_03, cv2.COLOR_RGB2LAB)"
      ],
      "execution_count": 200,
      "outputs": []
    },
    {
      "cell_type": "code",
      "metadata": {
        "id": "r7HUVynyuwui"
      },
      "source": [
        "LAB_imgD3_04= cv2.cvtColor(RGB_imgD3_04, cv2.COLOR_RGB2LAB)"
      ],
      "execution_count": 201,
      "outputs": []
    },
    {
      "cell_type": "markdown",
      "metadata": {
        "id": "JcqL8Do5nwjA"
      },
      "source": [
        "D4"
      ]
    },
    {
      "cell_type": "code",
      "metadata": {
        "id": "Ci4XGpanvFmg"
      },
      "source": [
        "LAB_imgD4_01= cv2.cvtColor(RGB_imgD4_01, cv2.COLOR_RGB2LAB)"
      ],
      "execution_count": 202,
      "outputs": []
    },
    {
      "cell_type": "code",
      "metadata": {
        "id": "RPgqKuRSvFcZ"
      },
      "source": [
        "LAB_imgD4_02= cv2.cvtColor(RGB_imgD4_02, cv2.COLOR_RGB2LAB)"
      ],
      "execution_count": 203,
      "outputs": []
    },
    {
      "cell_type": "code",
      "metadata": {
        "id": "6kwiGpRAjboY"
      },
      "source": [
        "LAB_imgD4_03= cv2.cvtColor(RGB_imgD4_03, cv2.COLOR_RGB2LAB)"
      ],
      "execution_count": 204,
      "outputs": []
    },
    {
      "cell_type": "code",
      "metadata": {
        "id": "3J_3qb0bjbTX"
      },
      "source": [
        "LAB_imgD4_04= cv2.cvtColor(RGB_imgD4_04, cv2.COLOR_RGB2LAB)"
      ],
      "execution_count": 205,
      "outputs": []
    },
    {
      "cell_type": "markdown",
      "metadata": {
        "id": "JMrxyeYnwOjD"
      },
      "source": [
        "#5. ดึงสี"
      ]
    },
    {
      "cell_type": "markdown",
      "metadata": {
        "id": "qw2Btv3twaER"
      },
      "source": [
        "A1"
      ]
    },
    {
      "cell_type": "code",
      "metadata": {
        "id": "jwmj6XavwSCz"
      },
      "source": [
        "for i in range(LAB_imgA1_01.shape[0]): #ให้ i รันตาม row หรือ shape[0] คือแถว มีทั้งหมด 4032 แถว ของภาพที่ปรับขนาดมาแล้ว\n",
        "     for j in range(LAB_imgA1_01.shape[1]): #ให้ j รันตาม colum มีทั้งหมด 3024 colum เช่น แถวที่ 1 เข้ามาให้รันครบ 3024colum\n",
        "                if 1769<i<1881 and 2019<j<2131 :#ถ้าค่า i ที่เข้ามาอยู่ระหว่าง 1849 - 2101   ค่า j  ที่เข้ามาอยู่ระหว่าง 1799-2001\n",
        "                   (LAB_imgA1_01[i][j])#ถ้าค่าอยู่ใน ij  จะให้แสดงค่าที่อยู่ตำแหน่งนั้นๆ"
      ],
      "execution_count": 206,
      "outputs": []
    },
    {
      "cell_type": "code",
      "metadata": {
        "id": "xZ-Lxu9-xb0e"
      },
      "source": [
        "for i in range(LAB_imgA1_02.shape[0]): \n",
        "     for j in range(LAB_imgA1_02.shape[1]): \n",
        "                if 1769<i<1881 and 2019<j<2131 :\n",
        "                 (LAB_imgA1_02[i][j])"
      ],
      "execution_count": 207,
      "outputs": []
    },
    {
      "cell_type": "code",
      "metadata": {
        "id": "10vZXOYGx8Zn"
      },
      "source": [
        "for i in range(LAB_imgA1_03.shape[0]):\n",
        "     for j in range(LAB_imgA1_03.shape[1]): \n",
        "                if 1769<i<1881 and 2019<j<2131 :\n",
        "                  (LAB_imgA1_03[i][j])"
      ],
      "execution_count": 208,
      "outputs": []
    },
    {
      "cell_type": "code",
      "metadata": {
        "id": "aiBTb_2_x82I"
      },
      "source": [
        "for i in range(LAB_imgA1_04.shape[0]):\n",
        "     for j in range(LAB_imgA1_04.shape[1]): \n",
        "                if 1769<i<1881 and 2019<j<2131 :\n",
        "                  (LAB_imgA1_04[i][j])"
      ],
      "execution_count": 209,
      "outputs": []
    },
    {
      "cell_type": "markdown",
      "metadata": {
        "id": "jTiRr9XUy_gP"
      },
      "source": [
        "A2"
      ]
    },
    {
      "cell_type": "code",
      "metadata": {
        "id": "eobeeRWAzHNs"
      },
      "source": [
        "for i in range(LAB_imgA2_02.shape[0]): \n",
        "     for j in range(LAB_imgA2_02.shape[1]): \n",
        "                if 1769<i<1881 and 2019<j<2131 :\n",
        "                 (LAB_imgA2_02[i][j])"
      ],
      "execution_count": 210,
      "outputs": []
    },
    {
      "cell_type": "code",
      "metadata": {
        "id": "DyGuQiP2zGpX"
      },
      "source": [
        "for i in range(LAB_imgA2_04.shape[0]): \n",
        "     for j in range(LAB_imgA2_04.shape[1]): \n",
        "                if 1769<i<1881 and 2019<j<2131 :\n",
        "                 (LAB_imgA2_04[i][j])"
      ],
      "execution_count": 211,
      "outputs": []
    },
    {
      "cell_type": "code",
      "metadata": {
        "id": "UMKaPJY5zHFN"
      },
      "source": [
        "for i in range(LAB_imgA2_01.shape[0]): \n",
        "     for j in range(LAB_imgA2_01.shape[1]): \n",
        "                if 1769<i<1881 and 2019<j<2131 :\n",
        "                 (LAB_imgA2_01[i][j])"
      ],
      "execution_count": 212,
      "outputs": []
    },
    {
      "cell_type": "code",
      "metadata": {
        "id": "qqFJ5RUmzG7f"
      },
      "source": [
        "for i in range(LAB_imgA2_03.shape[0]): \n",
        "     for j in range(LAB_imgA2_03.shape[1]): \n",
        "                if 1769<i<1881 and 2019<j<2131 :\n",
        "                 (LAB_imgA2_03[i][j])"
      ],
      "execution_count": 213,
      "outputs": []
    },
    {
      "cell_type": "markdown",
      "metadata": {
        "id": "seWEFP5KzdNo"
      },
      "source": [
        "A3"
      ]
    },
    {
      "cell_type": "code",
      "metadata": {
        "id": "HdhQwqRWz3A-"
      },
      "source": [
        "for i in range(LAB_imgA3_03.shape[0]): \n",
        "     for j in range(LAB_imgA3_03.shape[1]): \n",
        "                if 1769<i<1881 and 2019<j<2131 :\n",
        "                 (LAB_imgA3_03[i][j])"
      ],
      "execution_count": 214,
      "outputs": []
    },
    {
      "cell_type": "code",
      "metadata": {
        "id": "SajdmMwqz24D"
      },
      "source": [
        "for i in range(LAB_imgA3_01.shape[0]): \n",
        "     for j in range(LAB_imgA3_01.shape[1]): \n",
        "                if 1769<i<1881 and 2019<j<2131 :\n",
        "                 (LAB_imgA3_01[i][j])"
      ],
      "execution_count": 215,
      "outputs": []
    },
    {
      "cell_type": "code",
      "metadata": {
        "id": "schK9I44z2up"
      },
      "source": [
        "for i in range(LAB_imgA3_02.shape[0]): \n",
        "     for j in range(LAB_imgA3_02.shape[1]): \n",
        "                if 1769<i<1881 and 2019<j<2131 :\n",
        "                 (LAB_imgA3_02[i][j])"
      ],
      "execution_count": 216,
      "outputs": []
    },
    {
      "cell_type": "code",
      "metadata": {
        "id": "dElzA6B1z2hh"
      },
      "source": [
        "for i in range(LAB_imgA3_04.shape[0]): \n",
        "     for j in range(LAB_imgA3_04.shape[1]): \n",
        "                if 1769<i<1881 and 2019<j<2131 :\n",
        "                 (LAB_imgA3_04[i][j])"
      ],
      "execution_count": 217,
      "outputs": []
    },
    {
      "cell_type": "markdown",
      "metadata": {
        "id": "e-8jafvYzeZh"
      },
      "source": [
        "A3.5"
      ]
    },
    {
      "cell_type": "code",
      "metadata": {
        "id": "St9f7kLX0Qe6"
      },
      "source": [
        "for i in range(LAB_imgA3_501.shape[0]): \n",
        "     for j in range(LAB_imgA3_501.shape[1]): \n",
        "                if 1769<i<1881 and 2019<j<2131 :\n",
        "                 (LAB_imgA3_501[i][j])"
      ],
      "execution_count": 218,
      "outputs": []
    },
    {
      "cell_type": "code",
      "metadata": {
        "id": "SGlKRpF_0Qox"
      },
      "source": [
        "for i in range(LAB_imgA3_502.shape[0]): \n",
        "     for j in range(LAB_imgA3_502.shape[1]): \n",
        "                if 1769<i<1881 and 2019<j<2131 :\n",
        "                 (LAB_imgA3_502[i][j])"
      ],
      "execution_count": 219,
      "outputs": []
    },
    {
      "cell_type": "code",
      "metadata": {
        "id": "2pp1QyLV0QX9"
      },
      "source": [
        "for i in range(LAB_imgA3_503.shape[0]): \n",
        "     for j in range(LAB_imgA3_503.shape[1]): \n",
        "                if 1769<i<1881 and 2019<j<2131 :\n",
        "                 (LAB_imgA3_503[i][j])"
      ],
      "execution_count": 220,
      "outputs": []
    },
    {
      "cell_type": "code",
      "metadata": {
        "id": "HaZuvCEk0QPf"
      },
      "source": [
        "for i in range(LAB_imgA3_504.shape[0]): \n",
        "     for j in range(LAB_imgA3_504.shape[1]): \n",
        "                if 1769<i<1881 and 2019<j<2131 :\n",
        "                 (LAB_imgA3_504[i][j])"
      ],
      "execution_count": 221,
      "outputs": []
    },
    {
      "cell_type": "markdown",
      "metadata": {
        "id": "T8YIrB50zfz-"
      },
      "source": [
        "A4 "
      ]
    },
    {
      "cell_type": "code",
      "metadata": {
        "id": "JtCLy0qR0nAX"
      },
      "source": [
        "for i in range(LAB_imgA4_01.shape[0]): \n",
        "     for j in range(LAB_imgA4_01.shape[1]): \n",
        "                if 1769<i<1881 and 2019<j<2131 :\n",
        "                 (LAB_imgA4_01[i][j])"
      ],
      "execution_count": 222,
      "outputs": []
    },
    {
      "cell_type": "code",
      "metadata": {
        "id": "Hf0JhjSr0m4a"
      },
      "source": [
        "for i in range(LAB_imgA4_04.shape[0]): \n",
        "     for j in range(LAB_imgA4_04.shape[1]): \n",
        "                if 1769<i<1881 and 2019<j<2131 :\n",
        "                 (LAB_imgA4_04[i][j])"
      ],
      "execution_count": 223,
      "outputs": []
    },
    {
      "cell_type": "code",
      "metadata": {
        "id": "lU7qgO730mwt"
      },
      "source": [
        "for i in range(LAB_imgA4_03.shape[0]): \n",
        "     for j in range(LAB_imgA4_03.shape[1]): \n",
        "                if 1769<i<1881 and 2019<j<2131 :\n",
        "                 (LAB_imgA4_03[i][j])"
      ],
      "execution_count": 224,
      "outputs": []
    },
    {
      "cell_type": "code",
      "metadata": {
        "id": "3woTPWZR0moq"
      },
      "source": [
        "for i in range(LAB_imgA4_02.shape[0]): \n",
        "     for j in range(LAB_imgA4_02.shape[1]): \n",
        "                if 1769<i<1881 and 2019<j<2131 :\n",
        "                 (LAB_imgA4_02[i][j])"
      ],
      "execution_count": 225,
      "outputs": []
    },
    {
      "cell_type": "markdown",
      "metadata": {
        "id": "j2qM32H51EnG"
      },
      "source": [
        "B1"
      ]
    },
    {
      "cell_type": "code",
      "metadata": {
        "id": "SWNQW9gi1LCn"
      },
      "source": [
        "for i in range(LAB_imgB1_02.shape[0]): \n",
        "     for j in range(LAB_imgB1_02.shape[1]): \n",
        "                if 1769<i<1881 and 2019<j<2131 :\n",
        "                 (LAB_imgB1_02[i][j])"
      ],
      "execution_count": 226,
      "outputs": []
    },
    {
      "cell_type": "code",
      "metadata": {
        "id": "gCMzRnvw1K4U"
      },
      "source": [
        "for i in range(LAB_imgB1_03.shape[0]): \n",
        "     for j in range(LAB_imgB1_03.shape[1]): \n",
        "                if 1769<i<1881 and 2019<j<2131 :\n",
        "                 (LAB_imgB1_03[i][j])"
      ],
      "execution_count": 227,
      "outputs": []
    },
    {
      "cell_type": "code",
      "metadata": {
        "id": "nnGR1Du_1Kt8"
      },
      "source": [
        "for i in range(LAB_imgB1_01.shape[0]): \n",
        "     for j in range(LAB_imgB1_01.shape[1]): \n",
        "                if 1769<i<1881 and 2019<j<2131 :\n",
        "                 (LAB_imgB1_01[i][j])"
      ],
      "execution_count": 228,
      "outputs": []
    },
    {
      "cell_type": "code",
      "metadata": {
        "id": "XqglTNwE1Keg"
      },
      "source": [
        "for i in range(LAB_imgB1_04.shape[0]): \n",
        "     for j in range(LAB_imgB1_04.shape[1]): \n",
        "                if 1769<i<1881 and 2019<j<2131 :\n",
        "                 (LAB_imgB1_04[i][j])"
      ],
      "execution_count": 229,
      "outputs": []
    },
    {
      "cell_type": "markdown",
      "metadata": {
        "id": "gal2BJDK1HYu"
      },
      "source": [
        "B2"
      ]
    },
    {
      "cell_type": "code",
      "metadata": {
        "id": "asjFneZV1Lzb"
      },
      "source": [
        "for i in range(LAB_imgB2_01.shape[0]): \n",
        "     for j in range(LAB_imgB2_01.shape[1]): \n",
        "                if 1769<i<1881 and 2019<j<2131 :\n",
        "                 (LAB_imgB2_01[i][j])"
      ],
      "execution_count": 230,
      "outputs": []
    },
    {
      "cell_type": "code",
      "metadata": {
        "id": "U3RYMyse1LqV"
      },
      "source": [
        "for i in range(LAB_imgB2_03.shape[0]): \n",
        "     for j in range(LAB_imgB2_03.shape[1]): \n",
        "                if 1769<i<1881 and 2019<j<2131 :\n",
        "                 (LAB_imgB2_03[i][j])"
      ],
      "execution_count": 231,
      "outputs": []
    },
    {
      "cell_type": "code",
      "metadata": {
        "id": "T_9aHkY21Lh9"
      },
      "source": [
        "for i in range(LAB_imgB2_04.shape[0]): \n",
        "     for j in range(LAB_imgB2_04.shape[1]): \n",
        "                if 1769<i<1881 and 2019<j<2131 :\n",
        "                 (LAB_imgB2_04[i][j])"
      ],
      "execution_count": 232,
      "outputs": []
    },
    {
      "cell_type": "code",
      "metadata": {
        "id": "x6JkQZK81LZ2"
      },
      "source": [
        "for i in range(LAB_imgB2_02.shape[0]): \n",
        "     for j in range(LAB_imgB2_02.shape[1]): \n",
        "                if 1769<i<1881 and 2019<j<2131 :\n",
        "                 (LAB_imgB2_02[i][j])"
      ],
      "execution_count": 233,
      "outputs": []
    },
    {
      "cell_type": "markdown",
      "metadata": {
        "id": "63v00LGi1Icj"
      },
      "source": [
        "B3 "
      ]
    },
    {
      "cell_type": "code",
      "metadata": {
        "id": "WYz7s47-1MzR"
      },
      "source": [
        "for i in range(LAB_imgB3_01.shape[0]): \n",
        "     for j in range(LAB_imgB3_01.shape[1]): \n",
        "                if 1769<i<1881 and 2019<j<2131 :\n",
        "                 (LAB_imgB3_01[i][j])"
      ],
      "execution_count": 234,
      "outputs": []
    },
    {
      "cell_type": "code",
      "metadata": {
        "id": "8As_bcue1MrP"
      },
      "source": [
        "for i in range(LAB_imgB3_04.shape[0]): \n",
        "     for j in range(LAB_imgB3_04.shape[1]): \n",
        "                if 1769<i<1881 and 2019<j<2131 :\n",
        "                 (LAB_imgB3_04[i][j])"
      ],
      "execution_count": 235,
      "outputs": []
    },
    {
      "cell_type": "code",
      "metadata": {
        "id": "QDH4UADC1MjD"
      },
      "source": [
        "for i in range(LAB_imgB3_03.shape[0]): \n",
        "     for j in range(LAB_imgB3_03.shape[1]): \n",
        "                if 1769<i<1881 and 2019<j<2131 :\n",
        "                 (LAB_imgB3_03[i][j])"
      ],
      "execution_count": 236,
      "outputs": []
    },
    {
      "cell_type": "code",
      "metadata": {
        "id": "BTDsHyYP1Mbg"
      },
      "source": [
        "for i in range(LAB_imgB3_04.shape[0]): \n",
        "     for j in range(LAB_imgB3_04.shape[1]): \n",
        "                if 1769<i<1881 and 2019<j<2131 :\n",
        "                 (LAB_imgB3_04[i][j])"
      ],
      "execution_count": 237,
      "outputs": []
    },
    {
      "cell_type": "markdown",
      "metadata": {
        "id": "2HAcrkm-1Jbf"
      },
      "source": [
        "B4"
      ]
    },
    {
      "cell_type": "code",
      "metadata": {
        "id": "wVTePsRn1NkQ"
      },
      "source": [
        "for i in range(LAB_imgB4_02.shape[0]): \n",
        "     for j in range(LAB_imgB4_02.shape[1]): \n",
        "                if 1769<i<1881 and 2019<j<2131 :\n",
        "                 (LAB_imgB4_02[i][j])"
      ],
      "execution_count": 238,
      "outputs": []
    },
    {
      "cell_type": "code",
      "metadata": {
        "id": "U9Lh5EoT1NdU"
      },
      "source": [
        "for i in range(LAB_imgB4_01.shape[0]): \n",
        "     for j in range(LAB_imgB4_01.shape[1]): \n",
        "                if 1769<i<1881 and 2019<j<2131 :\n",
        "                 (LAB_imgB4_01[i][j])"
      ],
      "execution_count": 239,
      "outputs": []
    },
    {
      "cell_type": "code",
      "metadata": {
        "id": "G8LjGsjn1NWu"
      },
      "source": [
        "for i in range(LAB_imgB4_03.shape[0]): \n",
        "     for j in range(LAB_imgB4_03.shape[1]): \n",
        "                if 1769<i<1881 and 2019<j<2131 :\n",
        "                 (LAB_imgB4_03[i][j])"
      ],
      "execution_count": 240,
      "outputs": []
    },
    {
      "cell_type": "code",
      "metadata": {
        "id": "3QQyxQQ21NQ8"
      },
      "source": [
        "for i in range(LAB_imgB4_04.shape[0]): \n",
        "     for j in range(LAB_imgB4_04.shape[1]): \n",
        "                if 1769<i<1881 and 2019<j<2131 :\n",
        "                 (LAB_imgB4_04[i][j])"
      ],
      "execution_count": 241,
      "outputs": []
    },
    {
      "cell_type": "markdown",
      "metadata": {
        "id": "LJ5o5oOk5bLC"
      },
      "source": [
        "C1"
      ]
    },
    {
      "cell_type": "code",
      "metadata": {
        "id": "w0ZlIxNQ1c2V"
      },
      "source": [
        "for i in range(LAB_imgC1_03.shape[0]): \n",
        "     for j in range(LAB_imgC1_03.shape[1]): \n",
        "                if 1769<i<1881 and 2019<j<2131 :\n",
        "                 (LAB_imgC1_03[i][j])"
      ],
      "execution_count": 242,
      "outputs": []
    },
    {
      "cell_type": "code",
      "metadata": {
        "id": "UlDQiGQ75i8O"
      },
      "source": [
        "for i in range(LAB_imgC1_01.shape[0]): \n",
        "     for j in range(LAB_imgC1_01.shape[1]): \n",
        "                if 1769<i<1881 and 2019<j<2131 :\n",
        "                 (LAB_imgC1_01[i][j])"
      ],
      "execution_count": 243,
      "outputs": []
    },
    {
      "cell_type": "code",
      "metadata": {
        "id": "gQp5kAYW5oam"
      },
      "source": [
        "for i in range(LAB_imgC1_02.shape[0]): \n",
        "     for j in range(LAB_imgC1_02.shape[1]): \n",
        "                if 1769<i<1881 and 2019<j<2131 :\n",
        "                 (LAB_imgC1_02[i][j])"
      ],
      "execution_count": 244,
      "outputs": []
    },
    {
      "cell_type": "code",
      "metadata": {
        "id": "_fwoBI-O5os6"
      },
      "source": [
        "for i in range(LAB_imgC1_04.shape[0]): \n",
        "     for j in range(LAB_imgC1_04.shape[1]): \n",
        "                if 1769<i<1881 and 2019<j<2131 :\n",
        "                 (LAB_imgC1_04[i][j])"
      ],
      "execution_count": 245,
      "outputs": []
    },
    {
      "cell_type": "markdown",
      "metadata": {
        "id": "veUPceOE5ydW"
      },
      "source": [
        "C2"
      ]
    },
    {
      "cell_type": "code",
      "metadata": {
        "id": "xVd7fTj057Im"
      },
      "source": [
        "for i in range(LAB_imgC2_01.shape[0]): \n",
        "     for j in range(LAB_imgC2_01.shape[1]): \n",
        "                if 1769<i<1881 and 2019<j<2131 :\n",
        "                 (LAB_imgC2_01[i][j])"
      ],
      "execution_count": 246,
      "outputs": []
    },
    {
      "cell_type": "code",
      "metadata": {
        "id": "UITY-FEy578o"
      },
      "source": [
        "for i in range(LAB_imgC2_02.shape[0]): \n",
        "     for j in range(LAB_imgC2_02.shape[1]): \n",
        "                if 1769<i<1881 and 2019<j<2131 :\n",
        "                 (LAB_imgC2_02[i][j])"
      ],
      "execution_count": 247,
      "outputs": []
    },
    {
      "cell_type": "code",
      "metadata": {
        "id": "TumpzuTn58YK"
      },
      "source": [
        "for i in range(LAB_imgC2_03.shape[0]): \n",
        "     for j in range(LAB_imgC2_03.shape[1]): \n",
        "                if 1769<i<1881 and 2019<j<2131 :\n",
        "                 (LAB_imgC2_03[i][j])"
      ],
      "execution_count": 248,
      "outputs": []
    },
    {
      "cell_type": "code",
      "metadata": {
        "id": "7K6gK9PP58Lf"
      },
      "source": [
        "for i in range(LAB_imgC2_04.shape[0]): \n",
        "     for j in range(LAB_imgC2_04.shape[1]): \n",
        "                if 1769<i<1881 and 2019<j<2131 :\n",
        "                 (LAB_imgC2_04[i][j])"
      ],
      "execution_count": 249,
      "outputs": []
    },
    {
      "cell_type": "markdown",
      "metadata": {
        "id": "mwJT5T3x50I-"
      },
      "source": [
        "C3"
      ]
    },
    {
      "cell_type": "code",
      "metadata": {
        "id": "TiQI_20558sA"
      },
      "source": [
        "for i in range(LAB_imgC3_01.shape[0]): \n",
        "     for j in range(LAB_imgC3_01.shape[1]): \n",
        "                if 1769<i<1881 and 2019<j<2131 :\n",
        "                 (LAB_imgC3_01[i][j])"
      ],
      "execution_count": 250,
      "outputs": []
    },
    {
      "cell_type": "code",
      "metadata": {
        "id": "JQbGl3uN57aN"
      },
      "source": [
        "for i in range(LAB_imgC3_02.shape[0]): \n",
        "     for j in range(LAB_imgC3_02.shape[1]): \n",
        "                if 1769<i<1881 and 2019<j<2131 :\n",
        "                 (LAB_imgC3_02[i][j])"
      ],
      "execution_count": 251,
      "outputs": []
    },
    {
      "cell_type": "code",
      "metadata": {
        "id": "F3E6a25Q57pr"
      },
      "source": [
        "for i in range(LAB_imgC3_03.shape[0]): \n",
        "     for j in range(LAB_imgC3_03.shape[1]): \n",
        "                if 1769<i<1881 and 2019<j<2131 :\n",
        "                 (LAB_imgC3_03[i][j])"
      ],
      "execution_count": 252,
      "outputs": []
    },
    {
      "cell_type": "code",
      "metadata": {
        "id": "x8P68K6z59Fc"
      },
      "source": [
        "for i in range(LAB_imgC3_04.shape[0]): \n",
        "     for j in range(LAB_imgC3_04.shape[1]): \n",
        "                if 1769<i<1881 and 2019<j<2131 :\n",
        "                 (LAB_imgC3_04[i][j])"
      ],
      "execution_count": 253,
      "outputs": []
    },
    {
      "cell_type": "markdown",
      "metadata": {
        "id": "T4X8qins59oM"
      },
      "source": [
        "C4"
      ]
    },
    {
      "cell_type": "code",
      "metadata": {
        "id": "mnz4vETI7TII"
      },
      "source": [
        "for i in range(LAB_imgC4_02.shape[0]): \n",
        "     for j in range(LAB_imgC4_02.shape[1]): \n",
        "                if 1769<i<1881 and 2019<j<2131 :\n",
        "                 (LAB_imgC4_02[i][j])"
      ],
      "execution_count": 254,
      "outputs": []
    },
    {
      "cell_type": "code",
      "metadata": {
        "id": "HiU5Y2Yn7TAO"
      },
      "source": [
        "for i in range(LAB_imgC4_03.shape[0]): \n",
        "     for j in range(LAB_imgC4_03.shape[1]): \n",
        "                if 1769<i<1881 and 2019<j<2131 :\n",
        "                 (LAB_imgC4_03[i][j])"
      ],
      "execution_count": 255,
      "outputs": []
    },
    {
      "cell_type": "code",
      "metadata": {
        "id": "rIdOpYAe7S5F"
      },
      "source": [
        "for i in range(LAB_imgC4_01.shape[0]): \n",
        "     for j in range(LAB_imgC4_01.shape[1]): \n",
        "                if 1769<i<1881 and 2019<j<2131 :\n",
        "                 (LAB_imgC4_01[i][j])"
      ],
      "execution_count": 256,
      "outputs": []
    },
    {
      "cell_type": "code",
      "metadata": {
        "id": "v3qJ3zAv7St9"
      },
      "source": [
        "for i in range(LAB_imgC3_04.shape[0]): \n",
        "     for j in range(LAB_imgC3_04.shape[1]): \n",
        "                if 1769<i<1881 and 2019<j<2131 :\n",
        "                 (LAB_imgC3_04[i][j])"
      ],
      "execution_count": 257,
      "outputs": []
    },
    {
      "cell_type": "markdown",
      "metadata": {
        "id": "kRvkJBSH6m8n"
      },
      "source": [
        "D2"
      ]
    },
    {
      "cell_type": "code",
      "metadata": {
        "id": "6ykI1MV0FheQ"
      },
      "source": [
        "for i in range(LAB_imgD2_04.shape[0]): \n",
        "     for j in range(LAB_imgD2_04.shape[1]): \n",
        "                if 1769<i<1881 and 2019<j<2131 :\n",
        "                 (LAB_imgD2_04[i][j])"
      ],
      "execution_count": 258,
      "outputs": []
    },
    {
      "cell_type": "code",
      "metadata": {
        "id": "bSanI_gyFhUS"
      },
      "source": [
        "for i in range(LAB_imgD2_03.shape[0]): \n",
        "     for j in range(LAB_imgD2_03.shape[1]): \n",
        "                if 1769<i<1881 and 2019<j<2131 :\n",
        "                 (LAB_imgD2_03[i][j])"
      ],
      "execution_count": 259,
      "outputs": []
    },
    {
      "cell_type": "code",
      "metadata": {
        "id": "8CQ9PBCjFhOA"
      },
      "source": [
        "for i in range(LAB_imgD2_02.shape[0]): \n",
        "     for j in range(LAB_imgD2_02.shape[1]): \n",
        "                if 1769<i<1881 and 2019<j<2131 :\n",
        "                 (LAB_imgD2_02[i][j])"
      ],
      "execution_count": 260,
      "outputs": []
    },
    {
      "cell_type": "code",
      "metadata": {
        "id": "Dx_PeSbRFhF7"
      },
      "source": [
        "for i in range(LAB_imgD2_01.shape[0]): \n",
        "     for j in range(LAB_imgD2_01.shape[1]): \n",
        "                if 1769<i<1881 and 2019<j<2131 :\n",
        "                 (LAB_imgD2_01[i][j])"
      ],
      "execution_count": 261,
      "outputs": []
    },
    {
      "cell_type": "markdown",
      "metadata": {
        "id": "3dcK05Xv6ptS"
      },
      "source": [
        "D3"
      ]
    },
    {
      "cell_type": "code",
      "metadata": {
        "id": "Lnhgfd7jGKsI"
      },
      "source": [
        "for i in range(LAB_imgD3_02.shape[0]): \n",
        "     for j in range(LAB_imgD3_02.shape[1]): \n",
        "                if 1769<i<1881 and 2019<j<2131 :\n",
        "                 (LAB_imgD3_02[i][j])"
      ],
      "execution_count": 262,
      "outputs": []
    },
    {
      "cell_type": "code",
      "metadata": {
        "id": "6aAeBseNGMW0"
      },
      "source": [
        "for i in range(LAB_imgD3_01.shape[0]): \n",
        "     for j in range(LAB_imgD3_01.shape[1]): \n",
        "                if 1769<i<1881 and 2019<j<2131 :\n",
        "                 (LAB_imgD3_01[i][j])"
      ],
      "execution_count": 263,
      "outputs": []
    },
    {
      "cell_type": "code",
      "metadata": {
        "id": "4tl0YApAGMMk"
      },
      "source": [
        "for i in range(LAB_imgD3_03.shape[0]): \n",
        "     for j in range(LAB_imgD3_03.shape[1]): \n",
        "                if 1769<i<1881 and 2019<j<2131 :\n",
        "                 (LAB_imgD3_03[i][j])"
      ],
      "execution_count": 264,
      "outputs": []
    },
    {
      "cell_type": "code",
      "metadata": {
        "id": "Fs5TavqoGL8H"
      },
      "source": [
        "for i in range(LAB_imgD3_04.shape[0]): \n",
        "     for j in range(LAB_imgD3_04.shape[1]): \n",
        "                if 1769<i<1881 and 2019<j<2131 :\n",
        "                 (LAB_imgD3_04[i][j])"
      ],
      "execution_count": 265,
      "outputs": []
    },
    {
      "cell_type": "markdown",
      "metadata": {
        "id": "0xpFIFxY6sWn"
      },
      "source": [
        "D4"
      ]
    },
    {
      "cell_type": "code",
      "metadata": {
        "id": "gGF-V8maGZ3z"
      },
      "source": [
        "for i in range(LAB_imgD4_01.shape[0]): \n",
        "     for j in range(LAB_imgD4_01.shape[1]): \n",
        "                if 1769<i<1881 and 2019<j<2131 :\n",
        "                 (LAB_imgD4_01[i][j])"
      ],
      "execution_count": 266,
      "outputs": []
    },
    {
      "cell_type": "code",
      "metadata": {
        "id": "S3dZ2uEOGZvl"
      },
      "source": [
        "for i in range(LAB_imgD4_02.shape[0]): \n",
        "     for j in range(LAB_imgD4_02.shape[1]): \n",
        "                if 1769<i<1881 and 2019<j<2131 :\n",
        "                 (LAB_imgD4_02[i][j])"
      ],
      "execution_count": 267,
      "outputs": []
    },
    {
      "cell_type": "code",
      "metadata": {
        "id": "QcmDHneXnWnq"
      },
      "source": [
        "for i in range(LAB_imgD4_03.shape[0]): \n",
        "     for j in range(LAB_imgD4_03.shape[1]): \n",
        "                if 1769<i<1881 and 2019<j<2131 :\n",
        "                 (LAB_imgD4_03[i][j])"
      ],
      "execution_count": 268,
      "outputs": []
    },
    {
      "cell_type": "code",
      "metadata": {
        "id": "DH12fZbmnWWc"
      },
      "source": [
        "for i in range(LAB_imgD4_04.shape[0]): \n",
        "     for j in range(LAB_imgD4_04.shape[1]): \n",
        "                if 1769<i<1881 and 2019<j<2131 :\n",
        "                 (LAB_imgD4_04[i][j])"
      ],
      "execution_count": 269,
      "outputs": []
    },
    {
      "cell_type": "markdown",
      "metadata": {
        "id": "SCtLPtPQGz-p"
      },
      "source": [
        "#6. หาค่า Mean"
      ]
    },
    {
      "cell_type": "code",
      "metadata": {
        "id": "YKFsY16kG1pe"
      },
      "source": [
        "import numpy as np"
      ],
      "execution_count": 270,
      "outputs": []
    },
    {
      "cell_type": "markdown",
      "metadata": {
        "id": "s2VmXvHVHoXc"
      },
      "source": [
        "A1"
      ]
    },
    {
      "cell_type": "code",
      "metadata": {
        "id": "3AGgkqYfG25f",
        "colab": {
          "base_uri": "https://localhost:8080/"
        },
        "outputId": "c432e82c-65c8-4dc1-ede0-1b4b8cd368ca"
      },
      "source": [
        "meanA1_1 = list() \n",
        "for i in range(LAB_imgA1_01.shape[0]): #ให้ i รันตาม row หรือ shape[0] คือแถว มีทั้งหมด 4032 แถว ของภาพที่ปรับขนาดมาแล้ว\n",
        "     for j in range(LAB_imgA1_01.shape[1]): #ให้ j รันตาม colum มีทั้งหมด 3024 colum เช่น แถวที่ 1 เข้ามาให้รันครบ 3024colum\n",
        "                if 1769<i<1881 and 2019<j<2131 :\n",
        "                    meanA1_1.append(LAB_imgA1_01[i][j])\n",
        "meanA1_1 = np.array(meanA1_1)\n",
        "\n",
        "labA1_1 = list()\n",
        "for i in range(3):\n",
        "    labA1_1.append(meanA1_1[:,i].mean())\n",
        "labA1_1 "
      ],
      "execution_count": 271,
      "outputs": [
        {
          "output_type": "execute_result",
          "data": {
            "text/plain": [
              "[230.28642155669183, 126.79287395503611, 131.80099017936857]"
            ]
          },
          "metadata": {},
          "execution_count": 271
        }
      ]
    },
    {
      "cell_type": "code",
      "metadata": {
        "id": "EVLQ59KPntOq",
        "colab": {
          "base_uri": "https://localhost:8080/"
        },
        "outputId": "6dbe5802-7665-4f37-f7a9-4b6e844bee9d"
      },
      "source": [
        "meanA1_2 = list() \n",
        "for i in range(LAB_imgA1_02.shape[0]): #ให้ i รันตาม row หรือ shape[0] คือแถว มีทั้งหมด 4032 แถว ของภาพที่ปรับขนาดมาแล้ว\n",
        "     for j in range(LAB_imgA1_02.shape[1]): #ให้ j รันตาม colum มีทั้งหมด 3024 colum เช่น แถวที่ 1 เข้ามาให้รันครบ 3024colum\n",
        "                if 1769<i<1881 and 2019<j<2131 :\n",
        "                    meanA1_2.append(LAB_imgA1_02[i][j])\n",
        "meanA1_2 = np.array(meanA1_2)\n",
        "\n",
        "labA1_2 = list()\n",
        "for i in range(3):\n",
        "    labA1_2.append(meanA1_2[:,i].mean())\n",
        "labA1_2 "
      ],
      "execution_count": 272,
      "outputs": [
        {
          "output_type": "execute_result",
          "data": {
            "text/plain": [
              "[230.02621540459378, 126.71771771771772, 131.86949111273435]"
            ]
          },
          "metadata": {},
          "execution_count": 272
        }
      ]
    },
    {
      "cell_type": "code",
      "metadata": {
        "id": "EPq1aY8In-MX",
        "colab": {
          "base_uri": "https://localhost:8080/"
        },
        "outputId": "25c894f2-15fb-4682-f7f1-2ba436b15990"
      },
      "source": [
        "meanA1_3 = list() \n",
        "for i in range(LAB_imgA1_03.shape[0]): #ให้ i รันตาม row หรือ shape[0] คือแถว มีทั้งหมด 4032 แถว ของภาพที่ปรับขนาดมาแล้ว\n",
        "     for j in range(LAB_imgA1_03.shape[1]): #ให้ j รันตาม colum มีทั้งหมด 3024 colum เช่น แถวที่ 1 เข้ามาให้รันครบ 3024colum\n",
        "                if 1769<i<1881 and 2019<j<2131 :\n",
        "                    meanA1_3.append(LAB_imgA1_03[i][j])\n",
        "meanA1_3 = np.array(meanA1_3)\n",
        "\n",
        "labA1_3 = list()\n",
        "for i in range(3):\n",
        "    labA1_3.append(meanA1_3[:,i].mean())\n",
        "labA1_3 "
      ],
      "execution_count": 273,
      "outputs": [
        {
          "output_type": "execute_result",
          "data": {
            "text/plain": [
              "[210.19706192679166, 127.1599707815924, 147.01412223033844]"
            ]
          },
          "metadata": {},
          "execution_count": 273
        }
      ]
    },
    {
      "cell_type": "code",
      "metadata": {
        "id": "2G7HqZATo0ee",
        "colab": {
          "base_uri": "https://localhost:8080/"
        },
        "outputId": "74e296cd-71b4-4156-f78e-9a441b24e5e9"
      },
      "source": [
        "meanA1_4 = list() \n",
        "for i in range(LAB_imgA1_04.shape[0]): #ให้ i รันตาม row หรือ shape[0] คือแถว มีทั้งหมด 4032 แถว ของภาพที่ปรับขนาดมาแล้ว\n",
        "     for j in range(LAB_imgA1_04.shape[1]): #ให้ j รันตาม colum มีทั้งหมด 3024 colum เช่น แถวที่ 1 เข้ามาให้รันครบ 3024colum\n",
        "                if 1769<i<1881 and 2019<j<2131 :\n",
        "                    meanA1_4.append(LAB_imgA1_04[i][j])\n",
        "meanA1_4 = np.array(meanA1_4)\n",
        "\n",
        "labA1_4 = list()\n",
        "for i in range(3):\n",
        "    labA1_4.append(meanA1_4[:,i].mean())\n",
        "labA1_4 "
      ],
      "execution_count": 274,
      "outputs": [
        {
          "output_type": "execute_result",
          "data": {
            "text/plain": [
              "[212.34266699131564, 127.07669831994156, 147.15209804398992]"
            ]
          },
          "metadata": {},
          "execution_count": 274
        }
      ]
    },
    {
      "cell_type": "markdown",
      "metadata": {
        "id": "xSasoROaHpzm"
      },
      "source": [
        "A2"
      ]
    },
    {
      "cell_type": "code",
      "metadata": {
        "id": "A13oL-rkHqpJ",
        "colab": {
          "base_uri": "https://localhost:8080/"
        },
        "outputId": "171a0d1a-4cd7-4f5a-f189-b337f3e6bf7e"
      },
      "source": [
        "meanA2_2 = list() \n",
        "for i in range(LAB_imgA2_02.shape[0]): \n",
        "     for j in range(LAB_imgA2_02.shape[1]): \n",
        "                if 1769<i<1881 and 2019<j<2131 :\n",
        "                    meanA2_2.append(LAB_imgA2_02[i][j])\n",
        "meanA2_2 = np.array(meanA2_2)\n",
        "\n",
        "labA2_2 = list()\n",
        "for i in range(3):\n",
        "    labA2_2.append(meanA2_2[:,i].mean())\n",
        "labA2_2"
      ],
      "execution_count": 275,
      "outputs": [
        {
          "output_type": "execute_result",
          "data": {
            "text/plain": [
              "[232.2783864946027, 126.1569677785894, 135.20728836945054]"
            ]
          },
          "metadata": {},
          "execution_count": 275
        }
      ]
    },
    {
      "cell_type": "code",
      "metadata": {
        "id": "is_tzZCLIE8J",
        "colab": {
          "base_uri": "https://localhost:8080/"
        },
        "outputId": "acc12f28-c9e2-4de0-dddf-86da6c5a305d"
      },
      "source": [
        "meanA2_4 = list() \n",
        "for i in range(LAB_imgA2_04.shape[0]): \n",
        "     for j in range(LAB_imgA2_04.shape[1]): \n",
        "                if 1769<i<1881 and 2019<j<2131 :\n",
        "                    meanA2_4.append(LAB_imgA2_04[i][j])\n",
        "meanA2_4 = np.array(meanA2_4)\n",
        "\n",
        "labA2_4 = list()\n",
        "for i in range(3):\n",
        "    labA2_4.append(meanA2_4[:,i].mean())\n",
        "labA2_4"
      ],
      "execution_count": 276,
      "outputs": [
        {
          "output_type": "execute_result",
          "data": {
            "text/plain": [
              "[205.69848226604984, 128.36539241944647, 150.44517490463437]"
            ]
          },
          "metadata": {},
          "execution_count": 276
        }
      ]
    },
    {
      "cell_type": "code",
      "metadata": {
        "id": "Cfq1mvqqIVGB",
        "colab": {
          "base_uri": "https://localhost:8080/"
        },
        "outputId": "140f9f23-385d-4d40-c10a-4348b5afb253"
      },
      "source": [
        "meanA2_1 = list() \n",
        "for i in range(LAB_imgA2_01.shape[0]): \n",
        "     for j in range(LAB_imgA2_01.shape[1]): \n",
        "                if 1769<i<1881 and 2019<j<2131 :\n",
        "                    meanA2_1.append(LAB_imgA2_01[i][j])\n",
        "meanA2_1 = np.array(meanA2_1)\n",
        "\n",
        "labA2_1 = list()\n",
        "for i in range(3):\n",
        "    labA2_1.append(meanA2_1[:,i].mean())\n",
        "labA2_1"
      ],
      "execution_count": 277,
      "outputs": [
        {
          "output_type": "execute_result",
          "data": {
            "text/plain": [
              "[232.836133430728, 126.13188864540216, 135.3165327489652]"
            ]
          },
          "metadata": {},
          "execution_count": 277
        }
      ]
    },
    {
      "cell_type": "code",
      "metadata": {
        "id": "V9AXiSNJIVht",
        "colab": {
          "base_uri": "https://localhost:8080/"
        },
        "outputId": "53ba8dbd-4e9e-495c-b70a-32663f3f6df4"
      },
      "source": [
        "meanA2_3 = list() \n",
        "for i in range(LAB_imgA2_03.shape[0]): \n",
        "     for j in range(LAB_imgA2_03.shape[1]): \n",
        "                if 1769<i<1881 and 2019<j<2131 :\n",
        "                    meanA2_3.append(LAB_imgA2_03[i][j])\n",
        "meanA2_3 = np.array(meanA2_3)\n",
        "\n",
        "labA2_3 = list()\n",
        "for i in range(3):\n",
        "    labA2_3.append(meanA2_3[:,i].mean())\n",
        "labA2_3"
      ],
      "execution_count": 278,
      "outputs": [
        {
          "output_type": "execute_result",
          "data": {
            "text/plain": [
              "[205.42618293969645, 128.5526337147959, 150.9494359224089]"
            ]
          },
          "metadata": {},
          "execution_count": 278
        }
      ]
    },
    {
      "cell_type": "markdown",
      "metadata": {
        "id": "wy0J3KoCIte6"
      },
      "source": [
        "A3"
      ]
    },
    {
      "cell_type": "code",
      "metadata": {
        "id": "CbtyolvQIxRF",
        "colab": {
          "base_uri": "https://localhost:8080/"
        },
        "outputId": "d9782e8e-e854-40dd-c8df-455792d4e969"
      },
      "source": [
        "meanA3_3 = list() \n",
        "for i in range(LAB_imgA3_03.shape[0]): \n",
        "     for j in range(LAB_imgA3_03.shape[1]): \n",
        "                if 1769<i<1881 and 2019<j<2131 :\n",
        "                    meanA3_3.append(LAB_imgA3_03[i][j])\n",
        "meanA3_3 = np.array(meanA3_3)\n",
        "\n",
        "labA3_3 = list()\n",
        "for i in range(3):\n",
        "    labA3_3.append(meanA3_3[:,i].mean())\n",
        "labA3_3"
      ],
      "execution_count": 279,
      "outputs": [
        {
          "output_type": "execute_result",
          "data": {
            "text/plain": [
              "[204.33008684360036, 128.806103400698, 153.79360441522604]"
            ]
          },
          "metadata": {},
          "execution_count": 279
        }
      ]
    },
    {
      "cell_type": "code",
      "metadata": {
        "id": "7mYWr28NI6fk",
        "colab": {
          "base_uri": "https://localhost:8080/"
        },
        "outputId": "8789dbb7-065a-4562-98b8-98b57bfc94f7"
      },
      "source": [
        "meanA3_4 = list() \n",
        "for i in range(LAB_imgA3_04.shape[0]): \n",
        "     for j in range(LAB_imgA3_04.shape[1]): \n",
        "                if 1769<i<1881 and 2019<j<2131 :\n",
        "                    meanA3_4.append(LAB_imgA3_04[i][j])\n",
        "meanA3_4 = np.array(meanA3_4)\n",
        "\n",
        "labA3_4 = list()\n",
        "for i in range(3):\n",
        "    labA3_4.append(meanA3_4[:,i].mean())\n",
        "labA3_4"
      ],
      "execution_count": 280,
      "outputs": [
        {
          "output_type": "execute_result",
          "data": {
            "text/plain": [
              "[204.06168330492656, 128.54654654654655, 154.66260855450045]"
            ]
          },
          "metadata": {},
          "execution_count": 280
        }
      ]
    },
    {
      "cell_type": "code",
      "metadata": {
        "id": "X_oamCB9JCat",
        "colab": {
          "base_uri": "https://localhost:8080/"
        },
        "outputId": "144ab568-6e00-40d3-c706-1b7defc18c39"
      },
      "source": [
        "meanA3_2 = list() \n",
        "for i in range(LAB_imgA3_02.shape[0]): \n",
        "     for j in range(LAB_imgA3_02.shape[1]): \n",
        "                if 1769<i<1881 and 2019<j<2131 :\n",
        "                    meanA3_2.append(LAB_imgA3_02[i][j])\n",
        "meanA3_2 = np.array(meanA3_2)\n",
        "\n",
        "labA3_2 = list()\n",
        "for i in range(3):\n",
        "    labA3_2.append(meanA3_2[:,i].mean())\n",
        "labA3_2"
      ],
      "execution_count": 281,
      "outputs": [
        {
          "output_type": "execute_result",
          "data": {
            "text/plain": [
              "[232.59775992208424, 124.16906095284473, 143.9095852609366]"
            ]
          },
          "metadata": {},
          "execution_count": 281
        }
      ]
    },
    {
      "cell_type": "code",
      "metadata": {
        "id": "6d9vw9fuJMQx",
        "colab": {
          "base_uri": "https://localhost:8080/"
        },
        "outputId": "7d921dce-f0eb-489b-a57c-cdfe4e3de1f9"
      },
      "source": [
        "meanA3_1 = list() \n",
        "for i in range(LAB_imgA3_01.shape[0]): \n",
        "     for j in range(LAB_imgA3_01.shape[1]): \n",
        "                if 1769<i<1881 and 2019<j<2131 :\n",
        "                    meanA3_1.append(LAB_imgA3_01[i][j])\n",
        "meanA3_1 = np.array(meanA3_1)\n",
        "\n",
        "labA3_1 = list()\n",
        "for i in range(3):\n",
        "    labA3_1.append(meanA3_1[:,i].mean())\n",
        "labA3_1"
      ],
      "execution_count": 282,
      "outputs": [
        {
          "output_type": "execute_result",
          "data": {
            "text/plain": [
              "[232.1891891891892, 124.35200064929795, 143.6794903011119]"
            ]
          },
          "metadata": {},
          "execution_count": 282
        }
      ]
    },
    {
      "cell_type": "markdown",
      "metadata": {
        "id": "dsrU_P7rJaQO"
      },
      "source": [
        "A3.5"
      ]
    },
    {
      "cell_type": "code",
      "metadata": {
        "id": "vvJRofAgJZ8F",
        "colab": {
          "base_uri": "https://localhost:8080/"
        },
        "outputId": "70c34367-2149-4cdc-c782-4c9bd98c6ffe"
      },
      "source": [
        "meanA3_501 = list() \n",
        "for i in range(LAB_imgA3_501.shape[0]): \n",
        "     for j in range(LAB_imgA3_501.shape[1]): \n",
        "                if 1769<i<1881 and 2019<j<2131 :\n",
        "                    meanA3_501.append(LAB_imgA3_501[i][j])\n",
        "meanA3_501 = np.array(meanA3_501)\n",
        "\n",
        "labA3_501 = list()\n",
        "for i in range(3):\n",
        "    labA3_501.append(meanA3_501[:,i].mean())\n",
        "labA3_501"
      ],
      "execution_count": 283,
      "outputs": [
        {
          "output_type": "execute_result",
          "data": {
            "text/plain": [
              "[229.39103968833697, 122.50190731271812, 150.64361658956253]"
            ]
          },
          "metadata": {},
          "execution_count": 283
        }
      ]
    },
    {
      "cell_type": "code",
      "metadata": {
        "id": "6GNLN8lUJUTy",
        "colab": {
          "base_uri": "https://localhost:8080/"
        },
        "outputId": "4a090bc7-0a7b-4436-c5b0-d2dca9503d0f"
      },
      "source": [
        "meanA3_502 = list() \n",
        "for i in range(LAB_imgA3_502.shape[0]): \n",
        "     for j in range(LAB_imgA3_502.shape[1]): \n",
        "                if 1769<i<1881 and 2019<j<2131 :\n",
        "                    meanA3_502.append(LAB_imgA3_502[i][j])\n",
        "meanA3_502 = np.array(meanA3_502)\n",
        "\n",
        "labA3_502 = list()\n",
        "for i in range(3):\n",
        "    labA3_502.append(meanA3_502[:,i].mean())\n",
        "labA3_502"
      ],
      "execution_count": 284,
      "outputs": [
        {
          "output_type": "execute_result",
          "data": {
            "text/plain": [
              "[224.83313042772502, 123.16581446311176, 149.6408570732895]"
            ]
          },
          "metadata": {},
          "execution_count": 284
        }
      ]
    },
    {
      "cell_type": "code",
      "metadata": {
        "id": "M3RMSpgKJt0o",
        "colab": {
          "base_uri": "https://localhost:8080/"
        },
        "outputId": "5f0567e1-3b85-40fc-d6b7-4f8d604420bc"
      },
      "source": [
        "meanA3_503 = list() \n",
        "for i in range(LAB_imgA3_503.shape[0]): \n",
        "     for j in range(LAB_imgA3_503.shape[1]): \n",
        "                if 1769<i<1881 and 2019<j<2131 :\n",
        "                    meanA3_503.append(LAB_imgA3_503[i][j])\n",
        "meanA3_503 = np.array(meanA3_503)\n",
        "\n",
        "labA3_503 = list()\n",
        "for i in range(3):\n",
        "    labA3_503.append(meanA3_503[:,i].mean())\n",
        "labA3_503"
      ],
      "execution_count": 285,
      "outputs": [
        {
          "output_type": "execute_result",
          "data": {
            "text/plain": [
              "[195.75164353542732, 131.20542163785407, 158.3012742472202]"
            ]
          },
          "metadata": {},
          "execution_count": 285
        }
      ]
    },
    {
      "cell_type": "code",
      "metadata": {
        "id": "70rg8s3CJ10m",
        "colab": {
          "base_uri": "https://localhost:8080/"
        },
        "outputId": "62ccb27c-ea06-4d68-8254-b76536c3699e"
      },
      "source": [
        "meanA3_504 = list() \n",
        "for i in range(LAB_imgA3_504.shape[0]): \n",
        "     for j in range(LAB_imgA3_504.shape[1]): \n",
        "                if 1769<i<1881 and 2019<j<2131 :\n",
        "                    meanA3_504.append(LAB_imgA3_504[i][j])\n",
        "meanA3_504 = np.array(meanA3_504)\n",
        "\n",
        "labA3_504 = list()\n",
        "for i in range(3):\n",
        "    labA3_504.append(meanA3_504[:,i].mean())\n",
        "labA3_504"
      ],
      "execution_count": 286,
      "outputs": [
        {
          "output_type": "execute_result",
          "data": {
            "text/plain": [
              "[201.6497849200552, 130.53218082947814, 158.04959013067122]"
            ]
          },
          "metadata": {},
          "execution_count": 286
        }
      ]
    },
    {
      "cell_type": "markdown",
      "metadata": {
        "id": "K0Zmn5LbKE-Y"
      },
      "source": [
        "A4"
      ]
    },
    {
      "cell_type": "code",
      "metadata": {
        "id": "pr0j_XxrKKp7",
        "colab": {
          "base_uri": "https://localhost:8080/"
        },
        "outputId": "77b0978d-fe52-4260-953e-5fbff03a5ceb"
      },
      "source": [
        "meanA4_1 = list() \n",
        "for i in range(LAB_imgA4_01.shape[0]): \n",
        "     for j in range(LAB_imgA4_01.shape[1]): \n",
        "                if 1769<i<1881 and 2019<j<2131 :\n",
        "                    meanA4_1.append(LAB_imgA4_01[i][j])\n",
        "meanA4_1 = np.array(meanA4_1)\n",
        "\n",
        "labA4_1 = list()\n",
        "for i in range(3):\n",
        "    labA4_1.append(meanA4_1[:,i].mean())\n",
        "labA4_1"
      ],
      "execution_count": 287,
      "outputs": [
        {
          "output_type": "execute_result",
          "data": {
            "text/plain": [
              "[221.3501339177015, 122.52552552552552, 151.736547358169]"
            ]
          },
          "metadata": {},
          "execution_count": 287
        }
      ]
    },
    {
      "cell_type": "code",
      "metadata": {
        "id": "jGCKxVG5aiCX",
        "colab": {
          "base_uri": "https://localhost:8080/"
        },
        "outputId": "b2fe4f40-f265-450e-ebe8-52dd22b6630f"
      },
      "source": [
        "meanA4_4 = list() \n",
        "for i in range(LAB_imgA4_04.shape[0]): \n",
        "     for j in range(LAB_imgA4_04.shape[1]): \n",
        "                if 1769<i<1881 and 2019<j<2131 :\n",
        "                    meanA4_4.append(LAB_imgA4_04[i][j])\n",
        "meanA4_4 = np.array(meanA4_4)\n",
        "\n",
        "labA4_4 = list()\n",
        "for i in range(3):\n",
        "    labA4_4.append(meanA4_4[:,i].mean())\n",
        "labA4_4"
      ],
      "execution_count": 288,
      "outputs": [
        {
          "output_type": "execute_result",
          "data": {
            "text/plain": [
              "[196.2836620404188, 130.86567648729812, 155.7252658063469]"
            ]
          },
          "metadata": {},
          "execution_count": 288
        }
      ]
    },
    {
      "cell_type": "code",
      "metadata": {
        "id": "aqwHZK5dKkkG",
        "colab": {
          "base_uri": "https://localhost:8080/"
        },
        "outputId": "2414e774-7d05-4100-90fb-fbde4768f55f"
      },
      "source": [
        "meanA4_2 = list() \n",
        "for i in range(LAB_imgA4_02.shape[0]): \n",
        "     for j in range(LAB_imgA4_02.shape[1]): \n",
        "                if 1769<i<1881 and 2019<j<2131 :\n",
        "                    meanA4_2.append(LAB_imgA4_02[i][j])\n",
        "meanA4_2 = np.array(meanA4_2)\n",
        "\n",
        "labA4_2 = list()\n",
        "for i in range(3):\n",
        "    labA4_2.append(meanA4_2[:,i].mean())\n",
        "labA4_2"
      ],
      "execution_count": 289,
      "outputs": [
        {
          "output_type": "execute_result",
          "data": {
            "text/plain": [
              "[220.84562941319697, 122.22003084165246, 151.84075967859752]"
            ]
          },
          "metadata": {},
          "execution_count": 289
        }
      ]
    },
    {
      "cell_type": "code",
      "metadata": {
        "id": "Zw_N6Vx2KymX",
        "colab": {
          "base_uri": "https://localhost:8080/"
        },
        "outputId": "22100e64-48c7-46c0-8e13-95dc664e055e"
      },
      "source": [
        "meanA4_3 = list() \n",
        "for i in range(LAB_imgA4_03.shape[0]): \n",
        "     for j in range(LAB_imgA4_03.shape[1]): \n",
        "                if 1769<i<1881 and 2019<j<2131 :\n",
        "                    meanA4_3.append(LAB_imgA4_03[i][j])\n",
        "meanA4_3 = np.array(meanA4_3)\n",
        "\n",
        "labA4_3 = list()\n",
        "for i in range(3):\n",
        "    labA4_3.append(meanA4_3[:,i].mean())\n",
        "labA4_3"
      ],
      "execution_count": 290,
      "outputs": [
        {
          "output_type": "execute_result",
          "data": {
            "text/plain": [
              "[195.64353542731922, 130.8776073370668, 156.52836620404187]"
            ]
          },
          "metadata": {},
          "execution_count": 290
        }
      ]
    },
    {
      "cell_type": "markdown",
      "metadata": {
        "id": "OAQtt2AILBUb"
      },
      "source": [
        "B1"
      ]
    },
    {
      "cell_type": "code",
      "metadata": {
        "id": "3ufaRQmxK8pb",
        "colab": {
          "base_uri": "https://localhost:8080/"
        },
        "outputId": "955d7340-9eb3-42f5-afbf-437fef5f626d"
      },
      "source": [
        "meanB1_2 = list() \n",
        "for i in range(LAB_imgB1_02.shape[0]): \n",
        "     for j in range(LAB_imgB1_02.shape[1]): \n",
        "                if 1769<i<1881 and 2019<j<2131 :\n",
        "                    meanB1_2.append(LAB_imgB1_02[i][j])\n",
        "meanB1_2 = np.array(meanB1_2)\n",
        "\n",
        "labB1_2 = list()\n",
        "for i in range(3):\n",
        "    labB1_2.append(meanB1_2[:,i].mean())\n",
        "labB1_2"
      ],
      "execution_count": 291,
      "outputs": [
        {
          "output_type": "execute_result",
          "data": {
            "text/plain": [
              "[231.73119065010957, 126.1632984335687, 131.80228877526176]"
            ]
          },
          "metadata": {},
          "execution_count": 291
        }
      ]
    },
    {
      "cell_type": "code",
      "metadata": {
        "id": "JtPJSupiMziF",
        "colab": {
          "base_uri": "https://localhost:8080/"
        },
        "outputId": "a83edcf4-b230-4870-ada7-77a24d9a6b47"
      },
      "source": [
        "meanB1_3 = list() \n",
        "for i in range(LAB_imgB1_03.shape[0]): \n",
        "     for j in range(LAB_imgB1_03.shape[1]): \n",
        "                if 1769<i<1881 and 2019<j<2131 :\n",
        "                    meanB1_3.append(LAB_imgB1_03[i][j])\n",
        "meanB1_3 = np.array(meanB1_3)\n",
        "\n",
        "labB1_3 = list()\n",
        "for i in range(3):\n",
        "    labB1_3.append(meanB1_3[:,i].mean())\n",
        "labB1_3"
      ],
      "execution_count": 292,
      "outputs": [
        {
          "output_type": "execute_result",
          "data": {
            "text/plain": [
              "[206.29534940345752, 127.75700024348673, 143.76779482184887]"
            ]
          },
          "metadata": {},
          "execution_count": 292
        }
      ]
    },
    {
      "cell_type": "code",
      "metadata": {
        "id": "_SALE1tKNOpm",
        "colab": {
          "base_uri": "https://localhost:8080/"
        },
        "outputId": "0ae86015-816e-4322-ea44-2e43b856b555"
      },
      "source": [
        "meanB1_4 = list() \n",
        "for i in range(LAB_imgB1_04.shape[0]): \n",
        "     for j in range(LAB_imgB1_04.shape[1]): \n",
        "                if 1769<i<1881 and 2019<j<2131 :\n",
        "                    meanB1_4.append(LAB_imgB1_04[i][j])\n",
        "meanB1_4 = np.array(meanB1_4)\n",
        "\n",
        "labB1_4 = list()\n",
        "for i in range(3):\n",
        "    labB1_4.append(meanB1_4[:,i].mean())\n",
        "labB1_4 "
      ],
      "execution_count": 293,
      "outputs": [
        {
          "output_type": "execute_result",
          "data": {
            "text/plain": [
              "[206.79993507020535, 127.28358087817547, 145.421313205097]"
            ]
          },
          "metadata": {},
          "execution_count": 293
        }
      ]
    },
    {
      "cell_type": "code",
      "metadata": {
        "id": "vR6O_RooNDiy",
        "colab": {
          "base_uri": "https://localhost:8080/"
        },
        "outputId": "533195c3-7016-4a9c-e232-812e62c2fd71"
      },
      "source": [
        "meanB1_1 = list() \n",
        "for i in range(LAB_imgB1_01.shape[0]): \n",
        "     for j in range(LAB_imgB1_01.shape[1]): \n",
        "                if 1769<i<1881 and 2019<j<2131 :\n",
        "                    meanB1_1.append(LAB_imgB1_01[i][j])\n",
        "meanB1_1 = np.array(meanB1_1)\n",
        "\n",
        "labB1_1 = list()\n",
        "for i in range(3):\n",
        "    labB1_1.append(meanB1_1[:,i].mean())\n",
        "labB1_1"
      ],
      "execution_count": 294,
      "outputs": [
        {
          "output_type": "execute_result",
          "data": {
            "text/plain": [
              "[231.71073776479182, 126.19698076454833, 131.74539404269134]"
            ]
          },
          "metadata": {},
          "execution_count": 294
        }
      ]
    },
    {
      "cell_type": "markdown",
      "metadata": {
        "id": "9VIiGheNOIj8"
      },
      "source": [
        "B2"
      ]
    },
    {
      "cell_type": "code",
      "metadata": {
        "id": "N2MDc6V8OKqr",
        "colab": {
          "base_uri": "https://localhost:8080/"
        },
        "outputId": "50558669-291f-4eb4-f55a-3f6b5c7c115f"
      },
      "source": [
        "meanB2_1 = list() \n",
        "for i in range(LAB_imgB2_01.shape[0]): \n",
        "     for j in range(LAB_imgB2_01.shape[1]): \n",
        "                if 1769<i<1881 and 2019<j<2131 :\n",
        "                    meanB2_1.append(LAB_imgB2_01[i][j])\n",
        "meanB2_1 = np.array(meanB2_1)\n",
        "\n",
        "labB2_1 = list()\n",
        "for i in range(3):\n",
        "    labB2_1.append(meanB2_1[:,i].mean())\n",
        "labB2_1"
      ],
      "execution_count": 295,
      "outputs": [
        {
          "output_type": "execute_result",
          "data": {
            "text/plain": [
              "[234.03067932797663, 125.28195763330899, 134.74612450288126]"
            ]
          },
          "metadata": {},
          "execution_count": 295
        }
      ]
    },
    {
      "cell_type": "code",
      "metadata": {
        "id": "5blnCh0NONhc",
        "colab": {
          "base_uri": "https://localhost:8080/"
        },
        "outputId": "d0d80e51-8ade-4ba2-f5d4-8c2d2d6abf61"
      },
      "source": [
        "meanB2_4 = list() \n",
        "for i in range(LAB_imgB2_04.shape[0]): \n",
        "     for j in range(LAB_imgB2_04.shape[1]): \n",
        "                if 1769<i<1881 and 2019<j<2131 :\n",
        "                    meanB2_4.append(LAB_imgB2_04[i][j])\n",
        "meanB2_4 = np.array(meanB2_4)\n",
        "\n",
        "labB2_4 = list()\n",
        "for i in range(3):\n",
        "    labB2_4.append(meanB2_4[:,i].mean())\n",
        "labB2_4"
      ],
      "execution_count": 296,
      "outputs": [
        {
          "output_type": "execute_result",
          "data": {
            "text/plain": [
              "[210.47236425614804, 127.14122230338447, 151.02605308010715]"
            ]
          },
          "metadata": {},
          "execution_count": 296
        }
      ]
    },
    {
      "cell_type": "code",
      "metadata": {
        "id": "PtXEtBaBONXt",
        "colab": {
          "base_uri": "https://localhost:8080/"
        },
        "outputId": "4ff3a252-ec20-4ab1-ff4e-77e5d60ce539"
      },
      "source": [
        "meanB2_3 = list() \n",
        "for i in range(LAB_imgB2_03.shape[0]): \n",
        "     for j in range(LAB_imgB2_03.shape[1]): \n",
        "                if 1769<i<1881 and 2019<j<2131 :\n",
        "                    meanB2_3.append(LAB_imgB2_03[i][j])\n",
        "meanB2_3 = np.array(meanB2_3)\n",
        "\n",
        "labB2_3 = list()\n",
        "for i in range(3):\n",
        "    labB2_3.append(meanB2_3[:,i].mean())\n",
        "labB2_3"
      ],
      "execution_count": 297,
      "outputs": [
        {
          "output_type": "execute_result",
          "data": {
            "text/plain": [
              "[211.22871520168817, 127.03051700348998, 151.94886778670562]"
            ]
          },
          "metadata": {},
          "execution_count": 297
        }
      ]
    },
    {
      "cell_type": "code",
      "metadata": {
        "id": "lkYUVq43OM9Q",
        "colab": {
          "base_uri": "https://localhost:8080/"
        },
        "outputId": "8e6182d7-c159-4e05-bb3a-3d4a96c701ec"
      },
      "source": [
        "meanB2_2 = list() \n",
        "for i in range(LAB_imgB2_02.shape[0]): \n",
        "     for j in range(LAB_imgB2_02.shape[1]): \n",
        "                if 1769<i<1881 and 2019<j<2131 :\n",
        "                    meanB2_2.append(LAB_imgB2_02[i][j])\n",
        "meanB2_2 = np.array(meanB2_2)\n",
        "\n",
        "labB2_2 = list()\n",
        "for i in range(3):\n",
        "    labB2_2.append(meanB2_2[:,i].mean())\n",
        "labB2_2"
      ],
      "execution_count": 298,
      "outputs": [
        {
          "output_type": "execute_result",
          "data": {
            "text/plain": [
              "[233.6807077347618, 125.50572193815437, 134.62592322051782]"
            ]
          },
          "metadata": {},
          "execution_count": 298
        }
      ]
    },
    {
      "cell_type": "markdown",
      "metadata": {
        "id": "sDpqJ0vsO4pf"
      },
      "source": [
        "B3"
      ]
    },
    {
      "cell_type": "code",
      "metadata": {
        "id": "12x1GgEbO6gG",
        "colab": {
          "base_uri": "https://localhost:8080/"
        },
        "outputId": "8dcbed53-eccd-4789-97da-0a8b46f9bf3f"
      },
      "source": [
        "meanB3_1 = list() \n",
        "for i in range(LAB_imgB3_01.shape[0]): \n",
        "     for j in range(LAB_imgB3_01.shape[1]): \n",
        "                if 1769<i<1881 and 2019<j<2131 :\n",
        "                    meanB3_1.append(LAB_imgB3_01[i][j])\n",
        "meanB3_1 = np.array(meanB3_1)\n",
        "\n",
        "labB3_1 = list()\n",
        "for i in range(3):\n",
        "    labB3_1.append(meanB3_1[:,i].mean())\n",
        "labB3_1"
      ],
      "execution_count": 299,
      "outputs": [
        {
          "output_type": "execute_result",
          "data": {
            "text/plain": [
              "[232.3597922246571, 125.4496388280172, 139.95771447122797]"
            ]
          },
          "metadata": {},
          "execution_count": 299
        }
      ]
    },
    {
      "cell_type": "code",
      "metadata": {
        "id": "Q4ARs8laRJON",
        "colab": {
          "base_uri": "https://localhost:8080/"
        },
        "outputId": "a80fe5db-8ecd-4f2e-88fa-d37dcc1fc27a"
      },
      "source": [
        "meanB3_4 = list() \n",
        "for i in range(LAB_imgB3_04.shape[0]): \n",
        "     for j in range(LAB_imgB3_04.shape[1]): \n",
        "                if 1769<i<1881 and 2019<j<2131 :\n",
        "                    meanB3_4.append(LAB_imgB3_04[i][j])\n",
        "meanB3_4 = np.array(meanB3_4)\n",
        "\n",
        "labB3_4 = list()\n",
        "for i in range(3):\n",
        "    labB3_4.append(meanB3_4[:,i].mean())\n",
        "labB3_4"
      ],
      "execution_count": 300,
      "outputs": [
        {
          "output_type": "execute_result",
          "data": {
            "text/plain": [
              "[204.90909828747667, 128.8763087411736, 156.5590455320185]"
            ]
          },
          "metadata": {},
          "execution_count": 300
        }
      ]
    },
    {
      "cell_type": "code",
      "metadata": {
        "id": "cO0CReiARJrJ",
        "colab": {
          "base_uri": "https://localhost:8080/"
        },
        "outputId": "50743736-37d1-45de-ed22-af3249eff2c3"
      },
      "source": [
        "meanB3_2 = list() \n",
        "for i in range(LAB_imgB3_02.shape[0]): \n",
        "     for j in range(LAB_imgB3_02.shape[1]): \n",
        "                if 1769<i<1881 and 2019<j<2131 :\n",
        "                    meanB3_2.append(LAB_imgB3_02[i][j])\n",
        "meanB3_2 = np.array(meanB3_2)\n",
        "\n",
        "labB3_2 = list()\n",
        "for i in range(3):\n",
        "    labB3_2.append(meanB3_2[:,i].mean())\n",
        "labB3_2"
      ],
      "execution_count": 301,
      "outputs": [
        {
          "output_type": "execute_result",
          "data": {
            "text/plain": [
              "[232.30939047155263, 125.36660985309634, 140.0155831507183]"
            ]
          },
          "metadata": {},
          "execution_count": 301
        }
      ]
    },
    {
      "cell_type": "code",
      "metadata": {
        "id": "_MU7U9bZRKCN",
        "colab": {
          "base_uri": "https://localhost:8080/"
        },
        "outputId": "569f84d2-07a2-4974-87a6-b1edd1930ae2"
      },
      "source": [
        "meanB3_3 = list() \n",
        "for i in range(LAB_imgB3_03.shape[0]): \n",
        "     for j in range(LAB_imgB3_03.shape[1]): \n",
        "                if 1769<i<1881 and 2019<j<2131 :\n",
        "                    meanB3_3.append(LAB_imgB3_03[i][j])\n",
        "meanB3_3 = np.array(meanB3_3)\n",
        "\n",
        "labB3_3 = list()\n",
        "for i in range(3):\n",
        "    labB3_3.append(meanB3_3[:,i].mean())\n",
        "labB3_3"
      ],
      "execution_count": 302,
      "outputs": [
        {
          "output_type": "execute_result",
          "data": {
            "text/plain": [
              "[200.18740361983606, 128.9095852609366, 155.76682087492898]"
            ]
          },
          "metadata": {},
          "execution_count": 302
        }
      ]
    },
    {
      "cell_type": "markdown",
      "metadata": {
        "id": "6K_S-0DGRYPG"
      },
      "source": [
        "B4"
      ]
    },
    {
      "cell_type": "code",
      "metadata": {
        "id": "KQE8feTgRoWm",
        "colab": {
          "base_uri": "https://localhost:8080/"
        },
        "outputId": "910b36d5-0f36-4201-ffdd-d39065429878"
      },
      "source": [
        "meanB4_2 = list() \n",
        "for i in range(LAB_imgB4_02.shape[0]): \n",
        "     for j in range(LAB_imgB4_02.shape[1]): \n",
        "                if 1769<i<1881 and 2019<j<2131 :\n",
        "                    meanB4_2.append(LAB_imgB4_02[i][j])\n",
        "meanB4_2 = np.array(meanB4_2)\n",
        "\n",
        "labB4_2 = list()\n",
        "for i in range(3):\n",
        "    labB4_2.append(meanB4_2[:,i].mean())\n",
        "labB4_2"
      ],
      "execution_count": 303,
      "outputs": [
        {
          "output_type": "execute_result",
          "data": {
            "text/plain": [
              "[231.43478613748883, 124.1373265157049, 144.83751318886453]"
            ]
          },
          "metadata": {},
          "execution_count": 303
        }
      ]
    },
    {
      "cell_type": "code",
      "metadata": {
        "id": "2Otz1VLHRZHL",
        "colab": {
          "base_uri": "https://localhost:8080/"
        },
        "outputId": "da2298b4-9224-4cd8-82ab-1819aa77fbb3"
      },
      "source": [
        "meanB4_3 = list() \n",
        "for i in range(LAB_imgB4_03.shape[0]): \n",
        "     for j in range(LAB_imgB4_03.shape[1]): \n",
        "                if 1769<i<1881 and 2019<j<2131 :\n",
        "                    meanB4_3.append(LAB_imgB4_03[i][j])\n",
        "meanB4_3 = np.array(meanB4_3)\n",
        "\n",
        "labB4_3 = list()\n",
        "for i in range(3):\n",
        "    labB4_3.append(meanB4_3[:,i].mean())\n",
        "labB4_3"
      ],
      "execution_count": 304,
      "outputs": [
        {
          "output_type": "execute_result",
          "data": {
            "text/plain": [
              "[202.19608797987178, 128.96493791088386, 158.1739306874442]"
            ]
          },
          "metadata": {},
          "execution_count": 304
        }
      ]
    },
    {
      "cell_type": "code",
      "metadata": {
        "id": "OPT8bQl1Rz9O",
        "colab": {
          "base_uri": "https://localhost:8080/"
        },
        "outputId": "c148c1a7-dc92-4993-dfbf-f53b797937ff"
      },
      "source": [
        "meanB4_1 = list() \n",
        "for i in range(LAB_imgB4_01.shape[0]): \n",
        "     for j in range(LAB_imgB4_01.shape[1]): \n",
        "                if 1769<i<1881 and 2019<j<2131 :\n",
        "                    meanB4_1.append(LAB_imgB4_01[i][j])\n",
        "meanB4_1 = np.array(meanB4_1)\n",
        "\n",
        "labB4_1 = list()\n",
        "for i in range(3):\n",
        "    labB4_1.append(meanB4_1[:,i].mean())\n",
        "labB4_1"
      ],
      "execution_count": 305,
      "outputs": [
        {
          "output_type": "execute_result",
          "data": {
            "text/plain": [
              "[227.03449395341286, 123.47950653356058, 146.23058193328464]"
            ]
          },
          "metadata": {},
          "execution_count": 305
        }
      ]
    },
    {
      "cell_type": "code",
      "metadata": {
        "id": "jX-vx3sJRu0p",
        "colab": {
          "base_uri": "https://localhost:8080/"
        },
        "outputId": "7de4417c-a022-41de-a982-d4e1b37029d2"
      },
      "source": [
        "meanB4_4 = list() \n",
        "for i in range(LAB_imgB4_04.shape[0]): \n",
        "     for j in range(LAB_imgB4_04.shape[1]): \n",
        "                if 1769<i<1881 and 2019<j<2131 :\n",
        "                    meanB4_4.append(LAB_imgB4_04[i][j])\n",
        "meanB4_4 = np.array(meanB4_4)\n",
        "\n",
        "labB4_4 = list()\n",
        "for i in range(3):\n",
        "    labB4_4.append(meanB4_4[:,i].mean())\n",
        "labB4_4"
      ],
      "execution_count": 308,
      "outputs": [
        {
          "output_type": "execute_result",
          "data": {
            "text/plain": [
              "[197.61537212888564, 129.24283743202662, 158.16118821524228]"
            ]
          },
          "metadata": {},
          "execution_count": 308
        }
      ]
    },
    {
      "cell_type": "markdown",
      "metadata": {
        "id": "0q2eJezyR6sL"
      },
      "source": [
        "C1"
      ]
    },
    {
      "cell_type": "code",
      "metadata": {
        "id": "ya636PpxR-HY",
        "colab": {
          "base_uri": "https://localhost:8080/"
        },
        "outputId": "f781d042-6093-4088-844e-ef97f3783aab"
      },
      "source": [
        "meanC1_3 = list() \n",
        "for i in range(LAB_imgC1_03.shape[0]): \n",
        "     for j in range(LAB_imgC1_03.shape[1]): \n",
        "                if 1769<i<1881 and 2019<j<2131 :\n",
        "                    meanC1_3.append(LAB_imgC1_03[i][j])\n",
        "meanC1_3 = np.array(meanC1_3)\n",
        "\n",
        "labC1_3 = list()\n",
        "for i in range(3):\n",
        "    labC1_3.append(meanC1_3[:,i].mean())\n",
        "labC1_3"
      ],
      "execution_count": 309,
      "outputs": [
        {
          "output_type": "execute_result",
          "data": {
            "text/plain": [
              "[202.44769093417742, 127.44087330573817, 148.83994805616427]"
            ]
          },
          "metadata": {},
          "execution_count": 309
        }
      ]
    },
    {
      "cell_type": "code",
      "metadata": {
        "id": "SxhlA1QRR-dY",
        "colab": {
          "base_uri": "https://localhost:8080/"
        },
        "outputId": "eacc7f6e-371b-47a5-ef97-e56d2921f6a5"
      },
      "source": [
        "meanC1_4 = list() \n",
        "for i in range(LAB_imgC1_04.shape[0]): \n",
        "     for j in range(LAB_imgC1_04.shape[1]): \n",
        "                if 1769<i<1881 and 2019<j<2131 :\n",
        "                    meanC1_4.append(LAB_imgC1_04[i][j])\n",
        "meanC1_4 = np.array(meanC1_4)\n",
        "\n",
        "labC1_4 = list()\n",
        "for i in range(3):\n",
        "    labC1_4.append(meanC1_4[:,i].mean())\n",
        "labC1_4"
      ],
      "execution_count": 310,
      "outputs": [
        {
          "output_type": "execute_result",
          "data": {
            "text/plain": [
              "[203.3531369207045, 128.03952601249898, 148.48299651002353]"
            ]
          },
          "metadata": {},
          "execution_count": 310
        }
      ]
    },
    {
      "cell_type": "code",
      "metadata": {
        "id": "LZSCuqVaSwok",
        "colab": {
          "base_uri": "https://localhost:8080/"
        },
        "outputId": "9b37c992-8651-4fbc-eb0f-805927b9cfb1"
      },
      "source": [
        "meanC1_2 = list() \n",
        "for i in range(LAB_imgC1_02.shape[0]): \n",
        "     for j in range(LAB_imgC1_02.shape[1]): \n",
        "                if 1769<i<1881 and 2019<j<2131 :\n",
        "                    meanC1_2.append(LAB_imgC1_02[i][j])\n",
        "meanC1_2 = np.array(meanC1_2)\n",
        "\n",
        "labC1_2 = list()\n",
        "for i in range(3):\n",
        "    labC1_2.append(meanC1_2[:,i].mean())\n",
        "labC1_2"
      ],
      "execution_count": 311,
      "outputs": [
        {
          "output_type": "execute_result",
          "data": {
            "text/plain": [
              "[235.4835646457268, 126.00470741011281, 133.80464248031817]"
            ]
          },
          "metadata": {},
          "execution_count": 311
        }
      ]
    },
    {
      "cell_type": "code",
      "metadata": {
        "id": "zaEcF9R7S2e9",
        "colab": {
          "base_uri": "https://localhost:8080/"
        },
        "outputId": "f89a4793-4e28-4486-b3e9-66f42d95ebd5"
      },
      "source": [
        "meanC1_1 = list() \n",
        "for i in range(LAB_imgC1_01.shape[0]): \n",
        "     for j in range(LAB_imgC1_01.shape[1]): \n",
        "                if 1769<i<1881 and 2019<j<2131 :\n",
        "                    meanC1_1.append(LAB_imgC1_01[i][j])\n",
        "meanC1_1 = np.array(meanC1_1)\n",
        "\n",
        "labC1_1 = list()\n",
        "for i in range(3):\n",
        "    labC1_1.append(meanC1_1[:,i].mean())\n",
        "labC1_1"
      ],
      "execution_count": 312,
      "outputs": [
        {
          "output_type": "execute_result",
          "data": {
            "text/plain": [
              "[230.88978167356547, 125.89903416930444, 133.49703757811866]"
            ]
          },
          "metadata": {},
          "execution_count": 312
        }
      ]
    },
    {
      "cell_type": "markdown",
      "metadata": {
        "id": "7v0CVQ3eS79F"
      },
      "source": [
        "C2"
      ]
    },
    {
      "cell_type": "code",
      "metadata": {
        "id": "lner_FoXS9Aa",
        "colab": {
          "base_uri": "https://localhost:8080/"
        },
        "outputId": "a79fae64-f769-4952-9278-016b2f6081a0"
      },
      "source": [
        "meanC2_1 = list() \n",
        "for i in range(LAB_imgC2_01.shape[0]): \n",
        "     for j in range(LAB_imgC2_01.shape[1]): \n",
        "                if 1769<i<1881 and 2019<j<2131 :\n",
        "                    meanC2_1.append(LAB_imgC2_01[i][j])\n",
        "meanC2_1 = np.array(meanC2_1)\n",
        "\n",
        "labC2_1 = list()\n",
        "for i in range(3):\n",
        "    labC2_1.append(meanC2_1[:,i].mean())\n",
        "labC2_1"
      ],
      "execution_count": 313,
      "outputs": [
        {
          "output_type": "execute_result",
          "data": {
            "text/plain": [
              "[225.82184887590293, 124.33130427725023, 140.65400535670807]"
            ]
          },
          "metadata": {},
          "execution_count": 313
        }
      ]
    },
    {
      "cell_type": "code",
      "metadata": {
        "id": "ynKP6UMeTIph",
        "colab": {
          "base_uri": "https://localhost:8080/"
        },
        "outputId": "8c30fcee-6fe2-4b9c-b0aa-6c4f05032ba9"
      },
      "source": [
        "meanC2_2 = list() \n",
        "for i in range(LAB_imgC2_02.shape[0]): \n",
        "     for j in range(LAB_imgC2_02.shape[1]): \n",
        "                if 1769<i<1881 and 2019<j<2131 :\n",
        "                    meanC2_2.append(LAB_imgC2_02[i][j])\n",
        "meanC2_2 = np.array(meanC2_2)\n",
        "\n",
        "labC2_2 = list()\n",
        "for i in range(3):\n",
        "    labC2_2.append(meanC2_2[:,i].mean())\n",
        "labC2_2"
      ],
      "execution_count": 314,
      "outputs": [
        {
          "output_type": "execute_result",
          "data": {
            "text/plain": [
              "[231.59987014041067, 124.61805048291535, 139.72153234315397]"
            ]
          },
          "metadata": {},
          "execution_count": 314
        }
      ]
    },
    {
      "cell_type": "code",
      "metadata": {
        "id": "E93hzyazUE1G",
        "colab": {
          "base_uri": "https://localhost:8080/"
        },
        "outputId": "4b5c8365-4041-401d-a064-916bddb415e9"
      },
      "source": [
        "meanC2_3 = list() \n",
        "for i in range(LAB_imgC2_03.shape[0]): \n",
        "     for j in range(LAB_imgC2_03.shape[1]): \n",
        "                if 1769<i<1881 and 2019<j<2131 :\n",
        "                    meanC2_3.append(LAB_imgC2_03[i][j])\n",
        "meanC2_3 = np.array(meanC2_3)\n",
        "\n",
        "labC2_3 = list()\n",
        "for i in range(3):\n",
        "    labC2_3.append(meanC2_3[:,i].mean())\n",
        "labC2_3"
      ],
      "execution_count": 315,
      "outputs": [
        {
          "output_type": "execute_result",
          "data": {
            "text/plain": [
              "[196.07093580066552, 128.90625760896032, 151.35995454914374]"
            ]
          },
          "metadata": {},
          "execution_count": 315
        }
      ]
    },
    {
      "cell_type": "code",
      "metadata": {
        "id": "eQ6z3tyhURGG",
        "colab": {
          "base_uri": "https://localhost:8080/"
        },
        "outputId": "55196421-0075-44ed-f15b-bf3d462d04b8"
      },
      "source": [
        "meanC2_4 = list() \n",
        "for i in range(LAB_imgC2_04.shape[0]): \n",
        "     for j in range(LAB_imgC2_04.shape[1]): \n",
        "                if 1769<i<1881 and 2019<j<2131 :\n",
        "                    meanC2_4.append(LAB_imgC2_04[i][j])\n",
        "meanC2_4 = np.array(meanC2_4)\n",
        "\n",
        "labC2_4 = list()\n",
        "for i in range(3):\n",
        "    labC2_4.append(meanC2_4[:,i].mean())\n",
        "labC2_4"
      ],
      "execution_count": 316,
      "outputs": [
        {
          "output_type": "execute_result",
          "data": {
            "text/plain": [
              "[200.46083921759598, 129.16159402645889, 151.7006736466196]"
            ]
          },
          "metadata": {},
          "execution_count": 316
        }
      ]
    },
    {
      "cell_type": "markdown",
      "metadata": {
        "id": "_gAxAhYBUYIK"
      },
      "source": [
        "C3"
      ]
    },
    {
      "cell_type": "code",
      "metadata": {
        "id": "PnODt_2UUY2N",
        "colab": {
          "base_uri": "https://localhost:8080/"
        },
        "outputId": "43b3e1a6-d579-42be-9b22-94d6d092dd59"
      },
      "source": [
        "meanC3_1 = list() \n",
        "for i in range(LAB_imgC3_01.shape[0]): \n",
        "     for j in range(LAB_imgC3_01.shape[1]): \n",
        "                if 1769<i<1881 and 2019<j<2131 :\n",
        "                    meanC3_1.append(LAB_imgC3_01[i][j])\n",
        "meanC3_1 = np.array(meanC3_1)\n",
        "\n",
        "labC3_1 = list()\n",
        "for i in range(3):\n",
        "    labC3_1.append(meanC3_1[:,i].mean())\n",
        "labC3_1"
      ],
      "execution_count": 317,
      "outputs": [
        {
          "output_type": "execute_result",
          "data": {
            "text/plain": [
              "[229.35898060222385, 124.04334063793523, 145.46579011443876]"
            ]
          },
          "metadata": {},
          "execution_count": 317
        }
      ]
    },
    {
      "cell_type": "code",
      "metadata": {
        "id": "4vYztEifVL9j",
        "colab": {
          "base_uri": "https://localhost:8080/"
        },
        "outputId": "2efe8a9f-f5c9-43d2-c026-99e15272c386"
      },
      "source": [
        "meanC3_3 = list() \n",
        "for i in range(LAB_imgC3_03.shape[0]): \n",
        "     for j in range(LAB_imgC3_03.shape[1]): \n",
        "                if 1769<i<1881 and 2019<j<2131 :\n",
        "                    meanC3_3.append(LAB_imgC3_03[i][j])\n",
        "meanC3_3 = np.array(meanC3_3)\n",
        "\n",
        "labC3_3 = list()\n",
        "for i in range(3):\n",
        "    labC3_3.append(meanC3_3[:,i].mean())\n",
        "labC3_3"
      ],
      "execution_count": 318,
      "outputs": [
        {
          "output_type": "execute_result",
          "data": {
            "text/plain": [
              "[193.22262803343884, 130.01947893839787, 153.8200633065498]"
            ]
          },
          "metadata": {},
          "execution_count": 318
        }
      ]
    },
    {
      "cell_type": "code",
      "metadata": {
        "id": "RgAVjILGVVVi",
        "colab": {
          "base_uri": "https://localhost:8080/"
        },
        "outputId": "383eca2b-c08f-4f19-cd42-e1e6586925f5"
      },
      "source": [
        "meanC3_4 = list() \n",
        "for i in range(LAB_imgC3_04.shape[0]): \n",
        "     for j in range(LAB_imgC3_04.shape[1]): \n",
        "                if 1769<i<1881 and 2019<j<2131 :\n",
        "                    meanC3_4.append(LAB_imgC3_04[i][j])\n",
        "meanC3_4 = np.array(meanC3_4)\n",
        "\n",
        "labC3_4 = list()\n",
        "for i in range(3):\n",
        "    labC3_4.append(meanC3_4[:,i].mean())\n",
        "labC3_4"
      ],
      "execution_count": 319,
      "outputs": [
        {
          "output_type": "execute_result",
          "data": {
            "text/plain": [
              "[196.81917052187322, 129.93872250629008, 153.5417579741904]"
            ]
          },
          "metadata": {},
          "execution_count": 319
        }
      ]
    },
    {
      "cell_type": "code",
      "metadata": {
        "id": "E2A3VnaTVhdF",
        "colab": {
          "base_uri": "https://localhost:8080/"
        },
        "outputId": "cb0cec28-eef8-4c38-8133-92dcfea61325"
      },
      "source": [
        "meanC3_2 = list() \n",
        "for i in range(LAB_imgC3_02.shape[0]): \n",
        "     for j in range(LAB_imgC3_02.shape[1]): \n",
        "                if 1769<i<1881 and 2019<j<2131 :\n",
        "                    meanC3_2.append(LAB_imgC3_02[i][j])\n",
        "meanC3_2 = np.array(meanC3_2)\n",
        "\n",
        "labC3_2 = list()\n",
        "for i in range(3):\n",
        "    labC3_2.append(meanC3_2[:,i].mean())\n",
        "labC3_2"
      ],
      "execution_count": 320,
      "outputs": [
        {
          "output_type": "execute_result",
          "data": {
            "text/plain": [
              "[228.7782647512377, 123.98360522684847, 145.7123610096583]"
            ]
          },
          "metadata": {},
          "execution_count": 320
        }
      ]
    },
    {
      "cell_type": "markdown",
      "metadata": {
        "id": "wozLumwnVpsd"
      },
      "source": [
        "C4"
      ]
    },
    {
      "cell_type": "code",
      "metadata": {
        "id": "L4-leGI1Vpep",
        "colab": {
          "base_uri": "https://localhost:8080/"
        },
        "outputId": "f5991346-db7c-4da0-d02e-ea809d91b37d"
      },
      "source": [
        "meanC4_2 = list() \n",
        "for i in range(LAB_imgC4_02.shape[0]): \n",
        "     for j in range(LAB_imgC4_02.shape[1]): \n",
        "                if 1769<i<1881 and 2019<j<2131 :\n",
        "                    meanC4_2.append(LAB_imgC4_02[i][j])\n",
        "meanC4_2 = np.array(meanC4_2)\n",
        "\n",
        "labC4_2 = list()\n",
        "for i in range(3):\n",
        "    labC4_2.append(meanC4_2[:,i].mean())\n",
        "labC4_2"
      ],
      "execution_count": 321,
      "outputs": [
        {
          "output_type": "execute_result",
          "data": {
            "text/plain": [
              "[228.1097313529746, 122.23342261180099, 150.55182209236264]"
            ]
          },
          "metadata": {},
          "execution_count": 321
        }
      ]
    },
    {
      "cell_type": "code",
      "metadata": {
        "id": "wCstVvzCW3ch",
        "colab": {
          "base_uri": "https://localhost:8080/"
        },
        "outputId": "9ac1ddad-841a-49a7-fdeb-975bae6aa9e9"
      },
      "source": [
        "meanC4_1 = list() \n",
        "for i in range(LAB_imgC4_01.shape[0]): \n",
        "     for j in range(LAB_imgC4_01.shape[1]): \n",
        "                if 1769<i<1881 and 2019<j<2131 :\n",
        "                    meanC4_1.append(LAB_imgC4_01[i][j])\n",
        "meanC4_1 = np.array(meanC4_1)\n",
        "\n",
        "labC4_1 = list()\n",
        "for i in range(3):\n",
        "    labC4_1.append(meanC4_1[:,i].mean())\n",
        "labC4_1"
      ],
      "execution_count": 322,
      "outputs": [
        {
          "output_type": "execute_result",
          "data": {
            "text/plain": [
              "[228.2365067770473, 122.35078321564808, 150.34502069637205]"
            ]
          },
          "metadata": {},
          "execution_count": 322
        }
      ]
    },
    {
      "cell_type": "code",
      "metadata": {
        "id": "oZ5wcP8wW4l-",
        "colab": {
          "base_uri": "https://localhost:8080/"
        },
        "outputId": "07880178-6d36-410d-8c12-a80888b08ab6"
      },
      "source": [
        "meanC4_3 = list() \n",
        "for i in range(LAB_imgC4_03.shape[0]): \n",
        "     for j in range(LAB_imgC4_03.shape[1]): \n",
        "                if 1769<i<1881 and 2019<j<2131 :\n",
        "                    meanC4_3.append(LAB_imgC4_03[i][j])\n",
        "meanC4_3 = np.array(meanC4_3)\n",
        "\n",
        "labC4_3 = list()\n",
        "for i in range(3):\n",
        "    labC4_3.append(meanC4_3[:,i].mean())\n",
        "labC4_3"
      ],
      "execution_count": 323,
      "outputs": [
        {
          "output_type": "execute_result",
          "data": {
            "text/plain": [
              "[181.9926953981008, 130.08457105754403, 155.2208424640857]"
            ]
          },
          "metadata": {},
          "execution_count": 323
        }
      ]
    },
    {
      "cell_type": "code",
      "metadata": {
        "id": "4RbAizT-W5AI",
        "colab": {
          "base_uri": "https://localhost:8080/"
        },
        "outputId": "3258a25c-5080-41c5-eba4-e1ad4adc572e"
      },
      "source": [
        "meanC4_4 = list() \n",
        "for i in range(LAB_imgC4_04.shape[0]): \n",
        "     for j in range(LAB_imgC4_04.shape[1]): \n",
        "                if 1769<i<1881 and 2019<j<2131 :\n",
        "                    meanC4_4.append(LAB_imgC4_04[i][j])\n",
        "meanC4_4 = np.array(meanC4_4)\n",
        "\n",
        "labC4_4 = list()\n",
        "for i in range(3):\n",
        "    labC4_4.append(meanC4_4[:,i].mean())\n",
        "labC4_4"
      ],
      "execution_count": 324,
      "outputs": [
        {
          "output_type": "execute_result",
          "data": {
            "text/plain": [
              "[187.0509698888077, 130.44971999026052, 156.30590049508967]"
            ]
          },
          "metadata": {},
          "execution_count": 324
        }
      ]
    },
    {
      "cell_type": "markdown",
      "metadata": {
        "id": "zKlDyQHQXMFL"
      },
      "source": [
        "D2"
      ]
    },
    {
      "cell_type": "code",
      "metadata": {
        "id": "Ul4cDLOoXL2B",
        "colab": {
          "base_uri": "https://localhost:8080/"
        },
        "outputId": "d01eaa45-eccf-4d1c-c5fe-199eed1ff946"
      },
      "source": [
        "meanD2_4 = list() \n",
        "for i in range(LAB_imgD2_04.shape[0]): \n",
        "     for j in range(LAB_imgD2_04.shape[1]): \n",
        "                if 1769<i<1881 and 2019<j<2131 :\n",
        "                    meanD2_4.append(LAB_imgD2_04[i][j])\n",
        "meanD2_4 = np.array(meanD2_4)\n",
        "\n",
        "labD2_4 = list()\n",
        "for i in range(3):\n",
        "    labD2_4.append(meanD2_4[:,i].mean())\n",
        "labD2_4"
      ],
      "execution_count": 325,
      "outputs": [
        {
          "output_type": "execute_result",
          "data": {
            "text/plain": [
              "[202.04147390633878, 128.3920947975002, 145.89116143170196]"
            ]
          },
          "metadata": {},
          "execution_count": 325
        }
      ]
    },
    {
      "cell_type": "code",
      "metadata": {
        "id": "MPc9VyCaXYAE",
        "colab": {
          "base_uri": "https://localhost:8080/"
        },
        "outputId": "bdc54929-2d37-49a2-9ff6-a65423d8f907"
      },
      "source": [
        "meanD2_1 = list() \n",
        "for i in range(LAB_imgD2_01.shape[0]): \n",
        "     for j in range(LAB_imgD2_01.shape[1]): \n",
        "                if 1769<i<1881 and 2019<j<2131 :\n",
        "                    meanD2_1.append(LAB_imgD2_01[i][j])\n",
        "meanD2_1 = np.array(meanD2_1)\n",
        "\n",
        "labD2_1 = list()\n",
        "for i in range(3):\n",
        "    labD2_1.append(meanD2_1[:,i].mean())\n",
        "labD2_1"
      ],
      "execution_count": 326,
      "outputs": [
        {
          "output_type": "execute_result",
          "data": {
            "text/plain": [
              "[236.88580472364256, 125.77566755945135, 134.30857884911939]"
            ]
          },
          "metadata": {},
          "execution_count": 326
        }
      ]
    },
    {
      "cell_type": "code",
      "metadata": {
        "id": "8C3joajEXZQv",
        "colab": {
          "base_uri": "https://localhost:8080/"
        },
        "outputId": "3744a391-2009-4fc1-d784-a13779172a04"
      },
      "source": [
        "meanD2_2 = list() \n",
        "for i in range(LAB_imgD2_02.shape[0]): \n",
        "     for j in range(LAB_imgD2_02.shape[1]): \n",
        "                if 1769<i<1881 and 2019<j<2131 :\n",
        "                    meanD2_2.append(LAB_imgD2_02[i][j])\n",
        "meanD2_2 = np.array(meanD2_2)\n",
        "\n",
        "labD2_2 = list()\n",
        "for i in range(3):\n",
        "    labD2_2.append(meanD2_2[:,i].mean())\n",
        "labD2_2"
      ],
      "execution_count": 327,
      "outputs": [
        {
          "output_type": "execute_result",
          "data": {
            "text/plain": [
              "[236.51757162567972, 125.88840191542894, 134.15282850417987]"
            ]
          },
          "metadata": {},
          "execution_count": 327
        }
      ]
    },
    {
      "cell_type": "code",
      "metadata": {
        "id": "P7AmF-1OXY3y",
        "colab": {
          "base_uri": "https://localhost:8080/"
        },
        "outputId": "f0d85442-863e-49a9-eff1-7a0f3e384d26"
      },
      "source": [
        "meanD2_3 = list() \n",
        "for i in range(LAB_imgD2_03.shape[0]): \n",
        "     for j in range(LAB_imgD2_03.shape[1]): \n",
        "                if 1769<i<1881 and 2019<j<2131 :\n",
        "                    meanD2_3.append(LAB_imgD2_03[i][j])\n",
        "meanD2_3 = np.array(meanD2_3)\n",
        "\n",
        "labD2_3 = list()\n",
        "for i in range(3):\n",
        "    labD2_3.append(meanD2_3[:,i].mean())\n",
        "labD2_3"
      ],
      "execution_count": 328,
      "outputs": [
        {
          "output_type": "execute_result",
          "data": {
            "text/plain": [
              "[207.5313692070449, 128.587939290642, 145.33763493222952]"
            ]
          },
          "metadata": {},
          "execution_count": 328
        }
      ]
    },
    {
      "cell_type": "markdown",
      "metadata": {
        "id": "iH_Tsc2EXwLf"
      },
      "source": [
        "D3"
      ]
    },
    {
      "cell_type": "code",
      "metadata": {
        "id": "lodYBglRYq8f",
        "colab": {
          "base_uri": "https://localhost:8080/"
        },
        "outputId": "0a503c8a-b499-4c8f-a3ba-bb5ae841d0ab"
      },
      "source": [
        "meanD3_4 = list() \n",
        "for i in range(LAB_imgD3_04.shape[0]): \n",
        "     for j in range(LAB_imgD3_04.shape[1]): \n",
        "                if 1769<i<1881 and 2019<j<2131 :\n",
        "                    meanD3_4.append(LAB_imgD3_04[i][j])\n",
        "meanD3_4 = np.array(meanD3_4)\n",
        "\n",
        "labD3_4 = list()\n",
        "for i in range(3):\n",
        "    labD3_4.append(meanD3_4[:,i].mean())\n",
        "labD3_4"
      ],
      "execution_count": 329,
      "outputs": [
        {
          "output_type": "execute_result",
          "data": {
            "text/plain": [
              "[203.04593782972162, 129.89976462949437, 152.1662202743284]"
            ]
          },
          "metadata": {},
          "execution_count": 329
        }
      ]
    },
    {
      "cell_type": "code",
      "metadata": {
        "id": "4HvoI0ngYv3b",
        "colab": {
          "base_uri": "https://localhost:8080/"
        },
        "outputId": "d802e9b8-1490-438e-fa93-f66dacec53b5"
      },
      "source": [
        "meanD3_2 = list() \n",
        "for i in range(LAB_imgD3_02.shape[0]): \n",
        "     for j in range(LAB_imgD3_02.shape[1]): \n",
        "                if 1769<i<1881 and 2019<j<2131 :\n",
        "                    meanD3_2.append(LAB_imgD3_02[i][j])\n",
        "meanD3_2 = np.array(meanD3_2)\n",
        "\n",
        "labD3_2 = list()\n",
        "for i in range(3):\n",
        "    labD3_2.append(meanD3_2[:,i].mean())\n",
        "labD3_2"
      ],
      "execution_count": 330,
      "outputs": [
        {
          "output_type": "execute_result",
          "data": {
            "text/plain": [
              "[234.56074993912833, 125.896923950978, 137.18074831588345]"
            ]
          },
          "metadata": {},
          "execution_count": 330
        }
      ]
    },
    {
      "cell_type": "code",
      "metadata": {
        "id": "_qFI-tsZXxd7",
        "colab": {
          "base_uri": "https://localhost:8080/"
        },
        "outputId": "58489bfe-0869-46b4-8e11-c215096e7b52"
      },
      "source": [
        "meanD3_1 = list() \n",
        "for i in range(LAB_imgD3_01.shape[0]): \n",
        "     for j in range(LAB_imgD3_01.shape[1]): \n",
        "                if 1769<i<1881 and 2019<j<2131 :\n",
        "                    meanD3_1.append(LAB_imgD3_01[i][j])\n",
        "meanD3_1 = np.array(meanD3_1)\n",
        "\n",
        "labD3_1 = list()\n",
        "for i in range(3):\n",
        "    labD3_1.append(meanD3_1[:,i].mean())\n",
        "labD3_1 "
      ],
      "execution_count": 331,
      "outputs": [
        {
          "output_type": "execute_result",
          "data": {
            "text/plain": [
              "[236.73573573573574, 125.94967940913887, 134.22132943754565]"
            ]
          },
          "metadata": {},
          "execution_count": 331
        }
      ]
    },
    {
      "cell_type": "code",
      "metadata": {
        "id": "GZMjU-UQY0yi",
        "colab": {
          "base_uri": "https://localhost:8080/"
        },
        "outputId": "dafd3e62-8e01-414f-8d4a-ca7d9dcd9125"
      },
      "source": [
        "meanD3_3 = list() \n",
        "for i in range(LAB_imgD3_03.shape[0]): \n",
        "     for j in range(LAB_imgD3_03.shape[1]): \n",
        "                if 1769<i<1881 and 2019<j<2131 :\n",
        "                    meanD3_3.append(LAB_imgD3_03[i][j])\n",
        "meanD3_3 = np.array(meanD3_3)\n",
        "\n",
        "labD3_3 = list()\n",
        "for i in range(3):\n",
        "    labD3_3.append(meanD3_3[:,i].mean())\n",
        "labD3_3"
      ],
      "execution_count": 332,
      "outputs": [
        {
          "output_type": "execute_result",
          "data": {
            "text/plain": [
              "[199.68565863160458, 129.87923058193329, 152.1217433649866]"
            ]
          },
          "metadata": {},
          "execution_count": 332
        }
      ]
    },
    {
      "cell_type": "markdown",
      "metadata": {
        "id": "UrzhmbP9Y5u5"
      },
      "source": [
        "D4 "
      ]
    },
    {
      "cell_type": "code",
      "metadata": {
        "id": "kiQNtAKPY8yy",
        "colab": {
          "base_uri": "https://localhost:8080/"
        },
        "outputId": "34429557-3990-43b2-d12b-b616468aa345"
      },
      "source": [
        "meanD4_1 = list() \n",
        "for i in range(LAB_imgD4_01.shape[0]): \n",
        "     for j in range(LAB_imgD4_01.shape[1]): \n",
        "                if 1769<i<1881 and 2019<j<2131 :\n",
        "                    meanD4_1.append(LAB_imgD4_01[i][j])\n",
        "meanD4_1 = np.array(meanD4_1)\n",
        "\n",
        "labD4_1 = list()\n",
        "for i in range(3):\n",
        "    labD4_1.append(meanD4_1[:,i].mean())\n",
        "labD4_1"
      ],
      "execution_count": 333,
      "outputs": [
        {
          "output_type": "execute_result",
          "data": {
            "text/plain": [
              "[233.23334144955766, 122.72437302167032, 145.82671861050238]"
            ]
          },
          "metadata": {},
          "execution_count": 333
        }
      ]
    },
    {
      "cell_type": "code",
      "metadata": {
        "id": "0kEogEJKY_Ff",
        "colab": {
          "base_uri": "https://localhost:8080/"
        },
        "outputId": "23042944-4a0c-4eef-e45b-514aaa84a230"
      },
      "source": [
        "meanD4_2 = list() \n",
        "for i in range(LAB_imgD4_02.shape[0]): \n",
        "     for j in range(LAB_imgD4_02.shape[1]): \n",
        "                if 1769<i<1881 and 2019<j<2131 :\n",
        "                    meanD4_2.append(LAB_imgD4_02[i][j])\n",
        "meanD4_2 = np.array(meanD4_2)\n",
        "\n",
        "labD4_2 = list()\n",
        "for i in range(3):\n",
        "    labD4_2.append(meanD4_2[:,i].mean())\n",
        "labD4_2"
      ],
      "execution_count": 334,
      "outputs": [
        {
          "output_type": "execute_result",
          "data": {
            "text/plain": [
              "[231.75164353542732, 123.02045288531775, 145.0991802613424]"
            ]
          },
          "metadata": {},
          "execution_count": 334
        }
      ]
    },
    {
      "cell_type": "code",
      "metadata": {
        "id": "qpWzE6RQyObz",
        "colab": {
          "base_uri": "https://localhost:8080/"
        },
        "outputId": "db13fe2a-90ff-4801-a83e-ab4f96a07a9d"
      },
      "source": [
        "meanD4_3 = list() \n",
        "for i in range(LAB_imgD4_03.shape[0]): \n",
        "     for j in range(LAB_imgD4_03.shape[1]): \n",
        "                if 1769<i<1881 and 2019<j<2131 :\n",
        "                    meanD4_3.append(LAB_imgD4_03[i][j])\n",
        "meanD4_3 = np.array(meanD4_3)\n",
        "\n",
        "labD4_3 = list()\n",
        "for i in range(3):\n",
        "    labD4_3.append(meanD4_3[:,i].mean())\n",
        "labD4_3"
      ],
      "execution_count": 335,
      "outputs": [
        {
          "output_type": "execute_result",
          "data": {
            "text/plain": [
              "[199.49874198522846, 128.43543543543544, 155.33731028325622]"
            ]
          },
          "metadata": {},
          "execution_count": 335
        }
      ]
    },
    {
      "cell_type": "code",
      "metadata": {
        "id": "XQknaIrNyPN_",
        "colab": {
          "base_uri": "https://localhost:8080/"
        },
        "outputId": "ce823528-fa88-45f6-b70e-61b31a964aff"
      },
      "source": [
        "meanD4_4 = list() \n",
        "for i in range(LAB_imgD4_04.shape[0]): \n",
        "     for j in range(LAB_imgD4_04.shape[1]): \n",
        "                if 1769<i<1881 and 2019<j<2131 :\n",
        "                    meanD4_4.append(LAB_imgD4_04[i][j])\n",
        "meanD4_4 = np.array(meanD4_4)\n",
        "\n",
        "labD4_4 = list()\n",
        "for i in range(3):\n",
        "    labD4_4.append(meanD4_4[:,i].mean())\n",
        "labD4_4"
      ],
      "execution_count": 336,
      "outputs": [
        {
          "output_type": "execute_result",
          "data": {
            "text/plain": [
              "[190.6657738819901, 128.64572680788896, 154.22571219868516]"
            ]
          },
          "metadata": {},
          "execution_count": 336
        }
      ]
    },
    {
      "cell_type": "markdown",
      "metadata": {
        "id": "IdOvf3XXgumA"
      },
      "source": [
        "#คำนวณระยะห่างระหว่างจุดแบบ Euclidean distance"
      ]
    },
    {
      "cell_type": "code",
      "metadata": {
        "id": "9zPD-56Zgxef"
      },
      "source": [
        "from scipy.spatial import distance"
      ],
      "execution_count": 337,
      "outputs": []
    },
    {
      "cell_type": "markdown",
      "metadata": {
        "id": "fYTcj_FrkWhp"
      },
      "source": [
        "A1"
      ]
    },
    {
      "cell_type": "code",
      "metadata": {
        "id": "7-9sfK9rjy_Y"
      },
      "source": [
        "UA1A1_1 = distance.euclidean(labA1_1,labA1_3)\n",
        "UA1A1_2 = distance.euclidean(labA1_2,labA1_4)\n",
        "UA1A2_1 = distance.euclidean(labA1_1,labA2_3)\n",
        "UA1A2_2 = distance.euclidean(labA1_2,labA2_4)\n",
        "UA1A3_1 = distance.euclidean(labA1_1,labA3_3)\n",
        "UA1A3_2 = distance.euclidean(labA1_2,labA3_4)\n",
        "UA1A3_51 = distance.euclidean(labA1_1,labA3_503) \n",
        "UA1A3_52 = distance.euclidean(labA1_2,labA3_504)\n",
        "UA1A4_1 = distance.euclidean(labA1_1,labA4_3)\n",
        "UA1A4_2 = distance.euclidean(labA1_2,labA4_4)\n",
        "UA1B1_1 = distance.euclidean(labA1_1,labB1_3)\n",
        "UA1B1_2 = distance.euclidean(labA1_2,labB1_4)\n",
        "UA1B2_1 = distance.euclidean(labA1_1,labB2_3)\n",
        "UA1B2_2 = distance.euclidean(labA1_2,labB2_4)\n",
        "UA1B3_1 = distance.euclidean(labA1_1,labB3_3)\n",
        "UA1B3_2 = distance.euclidean(labA1_2,labB3_4)\n",
        "UA1B4_1 = distance.euclidean(labA1_1,labB4_3)\n",
        "UA1B4_2 = distance.euclidean(labA1_2,labB4_4)\n",
        "UA1C1_1 = distance.euclidean(labA1_1,labC1_3)\n",
        "UA1C1_2 = distance.euclidean(labA1_2,labC1_4)\n",
        "UA1C2_1 = distance.euclidean(labA1_1,labC2_3)\n",
        "UA1C2_2 = distance.euclidean(labA1_2,labC2_4)\n",
        "UA1C3_1 = distance.euclidean(labA1_1,labC3_3)\n",
        "UA1C3_2 = distance.euclidean(labA1_2,labC3_4)\n",
        "UA1C4_1 = distance.euclidean(labA1_1,labC4_3)\n",
        "UA1C4_2 = distance.euclidean(labA1_2,labC4_4)\n",
        "UA1D2_1 = distance.euclidean(labA1_1,labD2_3)\n",
        "UA1D2_2 = distance.euclidean(labA1_2,labD2_4)\n",
        "UA1D3_1 = distance.euclidean(labA1_1,labD3_3)\n",
        "UA1D3_2 = distance.euclidean(labA1_2,labD3_4)\n",
        "UA1D4_1 = distance.euclidean(labA1_1,labD4_3)\n",
        "UA1D4_2 = distance.euclidean(labA1_2,labD4_4)"
      ],
      "execution_count": 338,
      "outputs": []
    },
    {
      "cell_type": "code",
      "metadata": {
        "id": "GLlQnt9q5FpU"
      },
      "source": [
        "UA1A1 = (UA1A1_1+UA1A1_2)/2\n",
        "UA1A2 = (UA1A2_1+UA1A2_2)/2\n",
        "UA1A3 = (UA1A3_1+UA1A3_2)/2\n",
        "UA1A3_5 = (UA1A3_51+UA1A3_52)/2\n",
        "UA1A4 = (UA1A4_1+UA1A4_2)/2\n",
        "UA1B1 = (UA1B1_1+UA1B1_2)/2\n",
        "UA1B2 = (UA1B2_1+UA1B2_2)/2\n",
        "UA1B3 = (UA1B3_1+UA1B3_2)/2\n",
        "UA1B4 = (UA1B4_1+UA1B4_2)/2\n",
        "UA1C1 = (UA1C1_1+UA1C1_2)/2\n",
        "UA1C2 = (UA1C2_1+UA1C2_2)/2\n",
        "UA1C3 = (UA1C3_1+UA1C3_2)/2\n",
        "UA1C4 = (UA1C4_1+UA1C4_2)/2\n",
        "UA1D2 = (UA1D2_1+UA1D2_2)/2\n",
        "UA1D3 = (UA1D3_1+UA1D3_2)/2\n",
        "UA1D4 = (UA1D4_1+UA1D4_2)/2"
      ],
      "execution_count": 339,
      "outputs": []
    },
    {
      "cell_type": "markdown",
      "metadata": {
        "id": "A4O7ZP5wANVY"
      },
      "source": [
        "A2"
      ]
    },
    {
      "cell_type": "code",
      "metadata": {
        "id": "qYDLZVQZAOI-"
      },
      "source": [
        "UA2A1_1 = distance.euclidean(labA2_1,labA1_4)\n",
        "UA2A1_2 = distance.euclidean(labA2_2,labA1_3)\n",
        "UA2A2_2 = distance.euclidean(labA2_1,labA2_4)\n",
        "UA2A2_1 = distance.euclidean(labA2_2,labA2_3)\n",
        "UA2A3_1 = distance.euclidean(labA2_1,labA3_4)\n",
        "UA2A3_2 = distance.euclidean(labA2_2,labA3_3)\n",
        "UA2A3_51 = distance.euclidean(labA2_1,labA3_504)\n",
        "UA2A3_52 = distance.euclidean(labA2_2,labA3_503)\n",
        "UA2A4_1 = distance.euclidean(labA2_1,labA4_4)\n",
        "UA2A4_2 = distance.euclidean(labA2_2,labA4_3)\n",
        "UA2B1_1 = distance.euclidean(labA2_1,labB1_4)\n",
        "UA2B1_2 = distance.euclidean(labA2_2,labB1_3)\n",
        "UA2B2_1 = distance.euclidean(labA2_1,labB2_4)\n",
        "UA2B2_2 = distance.euclidean(labA2_2,labB2_3)\n",
        "UA2B3_1 = distance.euclidean(labA2_1,labB3_4)\n",
        "UA2B3_2 = distance.euclidean(labA2_2,labB3_3)\n",
        "UA2B4_1 = distance.euclidean(labA2_1,labB4_4)\n",
        "UA2B4_2 = distance.euclidean(labA2_2,labB4_3)\n",
        "UA2C1_1 = distance.euclidean(labA2_1,labC1_4)\n",
        "UA2C1_2 = distance.euclidean(labA2_2,labC1_3)\n",
        "UA2C2_1 = distance.euclidean(labA2_1,labC2_4)\n",
        "UA2C2_2 = distance.euclidean(labA2_2,labC2_3)\n",
        "UA2C3_1 = distance.euclidean(labA2_1,labC3_4)\n",
        "UA2C3_2 = distance.euclidean(labA2_2,labC3_3)\n",
        "UA2C4_1 = distance.euclidean(labA2_1,labC4_4)\n",
        "UA2C4_2 = distance.euclidean(labA2_2,labC4_3)\n",
        "UA2D2_1 = distance.euclidean(labA2_1,labD2_4)\n",
        "UA2D2_2 = distance.euclidean(labA2_2,labD2_3)\n",
        "UA2D3_1 = distance.euclidean(labA2_1,labD3_4)\n",
        "UA2D3_2 = distance.euclidean(labA2_2,labD3_3)\n",
        "UA2D4_1 = distance.euclidean(labA2_1,labD4_4)\n",
        "UA2D4_2 = distance.euclidean(labA2_2,labD4_3)"
      ],
      "execution_count": 340,
      "outputs": []
    },
    {
      "cell_type": "code",
      "metadata": {
        "id": "0IDzb76_7IfX"
      },
      "source": [
        "UA2A1 = (UA2A1_1+UA2A1_2)/2\n",
        "UA2A2 = (UA2A2_1+UA2A2_2)/2\n",
        "UA2A3 = (UA2A3_1+UA2A3_2)/2\n",
        "UA2A3_5 = (UA2A3_51+UA2A3_52)/2\n",
        "UA2A4 = (UA2A4_1+UA2A4_2)/2\n",
        "UA2B1 = (UA2B1_1+UA2B1_2)/2\n",
        "UA2B2 = (UA2B2_1+UA2B2_2)/2\n",
        "UA2B3 = (UA2B3_1+UA2B3_2)/2\n",
        "UA2B4 = (UA2B4_1+UA2B4_2)/2\n",
        "UA2C1 = (UA2C1_1+UA2C1_2)/2\n",
        "UA2C2 = (UA2C2_1+UA2C2_2)/2\n",
        "UA2C3 = (UA2C3_1+UA2C3_2)/2\n",
        "UA2C4 = (UA2C4_1+UA2C4_2)/2\n",
        "UA2D2 = (UA2D2_1+UA2D2_2)/2\n",
        "UA2D3 = (UA2D3_1+UA2D3_2)/2\n",
        "UA2D4 = (UA2D4_1+UA2D4_2)/2"
      ],
      "execution_count": 341,
      "outputs": []
    },
    {
      "cell_type": "markdown",
      "metadata": {
        "id": "LpSNWcPFEEAC"
      },
      "source": [
        "A3"
      ]
    },
    {
      "cell_type": "code",
      "metadata": {
        "id": "8SB0HIL6EFJn"
      },
      "source": [
        "UA3A1_1 = distance.euclidean(labA3_2,labA1_3)\n",
        "UA3A1_2 = distance.euclidean(labA3_1,labA1_4)\n",
        "UA3A2_1 = distance.euclidean(labA3_2,labA2_3)\n",
        "UA3A2_2 = distance.euclidean(labA3_1,labA2_4)\n",
        "UA3A3_1 = distance.euclidean(labA3_2,labA3_3)\n",
        "UA3A3_2 = distance.euclidean(labA3_1,labA3_4)\n",
        "UA3A3_51 = distance.euclidean(labA3_2,labA3_503)\n",
        "UA3A3_52 = distance.euclidean(labA3_1,labA3_504)\n",
        "UA3A4_1 = distance.euclidean(labA3_2,labA4_3)\n",
        "UA3A4_2 = distance.euclidean(labA3_1,labA4_4)\n",
        "UA3B1_1 = distance.euclidean(labA3_2,labB1_3)\n",
        "UA3B1_2 = distance.euclidean(labA3_1,labB1_4)\n",
        "UA3B2_1 = distance.euclidean(labA3_2,labB2_3)\n",
        "UA3B2_2 = distance.euclidean(labA3_1,labB2_4)\n",
        "UA3B3_1 = distance.euclidean(labA3_2,labB3_3)\n",
        "UA3B3_2 = distance.euclidean(labA3_1,labB3_4)\n",
        "UA3B4_1 = distance.euclidean(labA3_2,labB4_3)\n",
        "UA3B4_2 = distance.euclidean(labA3_1,labB4_4)\n",
        "UA3C1_1 = distance.euclidean(labA3_2,labC1_3)\n",
        "UA3C1_2 = distance.euclidean(labA3_1,labC1_4)\n",
        "UA3C2_1 = distance.euclidean(labA3_2,labC2_3)\n",
        "UA3C2_2 = distance.euclidean(labA3_1,labC2_4)\n",
        "UA3C3_1 = distance.euclidean(labA3_2,labC3_3)\n",
        "UA3C3_2 = distance.euclidean(labA3_1,labC3_4)\n",
        "UA3C4_1 = distance.euclidean(labA3_2,labC4_3)\n",
        "UA3C4_2 = distance.euclidean(labA3_1,labC4_4)\n",
        "UA3D2_1 = distance.euclidean(labA3_2,labD2_3)\n",
        "UA3D2_2 = distance.euclidean(labA3_1,labD2_4)\n",
        "UA3D3_1 = distance.euclidean(labA3_2,labD3_3)\n",
        "UA3D3_2 = distance.euclidean(labA3_1,labD3_4)\n",
        "UA3D4_1 = distance.euclidean(labA3_2,labD4_3)\n",
        "UA3D4_2 = distance.euclidean(labA3_1,labD4_4)"
      ],
      "execution_count": 342,
      "outputs": []
    },
    {
      "cell_type": "code",
      "metadata": {
        "id": "iKwP4vNF7YES"
      },
      "source": [
        "UA3A1 = (UA2A1_1+UA2A1_2)/2\n",
        "UA3A2 = (UA3A2_1+UA3A2_2)/2\n",
        "UA3A3 = (UA3A3_1+UA3A3_2)/2\n",
        "UA3A3_5 = (UA3A3_51+UA3A3_52)/2\n",
        "UA3A4 = (UA3A4_1+UA3A4_2)/2\n",
        "UA3B1 = (UA3B1_1+UA3B1_2)/2\n",
        "UA3B2 = (UA3B2_1+UA3B2_2)/2\n",
        "UA3B3 = (UA3B3_1+UA3B3_2)/2\n",
        "UA3B4 = (UA3B4_1+UA3B4_2)/2\n",
        "UA3C1 = (UA3C1_1+UA3C1_2)/2\n",
        "UA3C2 = (UA3C2_1+UA3C2_2)/2\n",
        "UA3C3 = (UA3C3_1+UA3C3_2)/2\n",
        "UA3C4 = (UA3C4_1+UA3C4_2)/2\n",
        "UA3D2 = (UA3D2_1+UA3D2_2)/2\n",
        "UA3D3 = (UA3D3_1+UA3D3_2)/2\n",
        "UA3D4 = (UA3D4_1+UA3D4_2)/2"
      ],
      "execution_count": 343,
      "outputs": []
    },
    {
      "cell_type": "markdown",
      "metadata": {
        "id": "HOBtYix5HZ4-"
      },
      "source": [
        "A3.5"
      ]
    },
    {
      "cell_type": "code",
      "metadata": {
        "id": "saXBQJkbHbYF"
      },
      "source": [
        "UA3_5A1_1 = distance.euclidean(labA3_501,labA1_3)\n",
        "UA3_5A1_2 = distance.euclidean(labA3_502,labA1_4)\n",
        "UA3_5A2_1 = distance.euclidean(labA3_501,labA2_3)\n",
        "UA3_5A2_2 = distance.euclidean(labA3_502,labA2_4)\n",
        "UA3_5A3_1 = distance.euclidean(labA3_501,labA3_3)\n",
        "UA3_5A3_2 = distance.euclidean(labA3_502,labA3_4)\n",
        "UA3_5A3_51 = distance.euclidean(labA3_501,labA3_503)\n",
        "UA3_5A3_52 = distance.euclidean(labA3_502,labA3_504)\n",
        "UA3_5A4_1 = distance.euclidean(labA3_501,labA4_3)\n",
        "UA3_5A4_2 = distance.euclidean(labA3_502,labA4_4)\n",
        "UA3_5B1_1 = distance.euclidean(labA3_501,labB1_3)\n",
        "UA3_5B1_2 = distance.euclidean(labA3_502,labB1_4)\n",
        "UA3_5B2_1 = distance.euclidean(labA3_501,labB2_3)\n",
        "UA3_5B2_2 = distance.euclidean(labA3_502,labB2_4)\n",
        "UA3_5B3_1 = distance.euclidean(labA3_501,labB3_3)\n",
        "UA3_5B3_2 = distance.euclidean(labA3_502,labB3_4)\n",
        "UA3_5B4_1 = distance.euclidean(labA3_501,labB4_3)\n",
        "UA3_5B4_2 = distance.euclidean(labA3_502,labB4_4)\n",
        "UA3_5C1_1 = distance.euclidean(labA3_501,labC1_3)\n",
        "UA3_5C1_2 = distance.euclidean(labA3_502,labC1_4)\n",
        "UA3_5C2_1 = distance.euclidean(labA3_501,labC2_3)\n",
        "UA3_5C2_2 = distance.euclidean(labA3_502,labC2_4)\n",
        "UA3_5C3_1 = distance.euclidean(labA3_501,labC3_3)\n",
        "UA3_5C3_2 = distance.euclidean(labA3_502,labC3_4)\n",
        "UA3_5C4_1 = distance.euclidean(labA3_501,labC4_3)\n",
        "UA3_5C4_2 = distance.euclidean(labA3_502,labC4_4)\n",
        "UA3_5D2_1 = distance.euclidean(labA3_501,labD2_3)\n",
        "UA3_5D2_2 = distance.euclidean(labA3_502,labD2_4)\n",
        "UA3_5D3_1 = distance.euclidean(labA3_501,labD3_3)\n",
        "UA3_5D3_2 = distance.euclidean(labA3_502,labD3_4)\n",
        "UA3_5D4_1 = distance.euclidean(labA3_501,labD4_3)\n",
        "UA3_5D4_2 = distance.euclidean(labA3_502,labD4_4)"
      ],
      "execution_count": 344,
      "outputs": []
    },
    {
      "cell_type": "code",
      "metadata": {
        "id": "EVTVI4nj72b9"
      },
      "source": [
        "UA3_5A1 = (UA3_5A1_1+UA3_5A1_2)/2\n",
        "UA3_5A2 = (UA3_5A2_1+UA3_5A2_2)/2\n",
        "UA3_5A3 = (UA3_5A3_1+UA3_5A3_2)/2\n",
        "UA3_5A3_5 = (UA3_5A3_51+UA3_5A3_52)/2\n",
        "UA3_5A4 = (UA3_5A4_1+UA3_5A4_2)/2\n",
        "UA3_5B1 = (UA3_5B1_1+UA3_5B1_2)/2\n",
        "UA3_5B2 = (UA3_5B2_1+UA3_5B2_2)/2\n",
        "UA3_5B3 = (UA3_5B3_1+UA3_5B3_2)/2\n",
        "UA3_5B4 = (UA3_5B4_1+UA3_5B4_2)/2\n",
        "UA3_5C1 = (UA3_5C1_1+UA3_5C1_2)/2\n",
        "UA3_5C2 = (UA3_5C2_1+UA3_5C2_2)/2\n",
        "UA3_5C3 = (UA3_5C3_1+UA3_5C3_2)/2\n",
        "UA3_5C4 = (UA3_5C4_1+UA3_5C4_2)/2\n",
        "UA3_5D2 = (UA3_5D2_1+UA3_5D2_2)/2\n",
        "UA3_5D3 = (UA3_5D3_1+UA3_5D3_2)/2\n",
        "UA3_5D4 = (UA3_5D4_1+UA3_5D4_2)/2"
      ],
      "execution_count": 345,
      "outputs": []
    },
    {
      "cell_type": "markdown",
      "metadata": {
        "id": "v85yIzGiJzxT"
      },
      "source": [
        "A4"
      ]
    },
    {
      "cell_type": "code",
      "metadata": {
        "id": "E1b4WXHaJ2In"
      },
      "source": [
        "UA4A1_1 = distance.euclidean(labA4_2,labA1_3)\n",
        "UA4A1_2 = distance.euclidean(labA4_1,labA1_4)\n",
        "UA4A2_1 = distance.euclidean(labA4_2,labA2_3)\n",
        "UA4A2_2 = distance.euclidean(labA4_1,labA2_4)\n",
        "UA4A3_1 = distance.euclidean(labA4_2,labA3_3)\n",
        "UA4A3_2 = distance.euclidean(labA4_1,labA3_4)\n",
        "UA4A3_51 = distance.euclidean(labA4_2,labA3_503)\n",
        "UA4A3_52 = distance.euclidean(labA4_1,labA3_504)\n",
        "UA4A4_1 = distance.euclidean(labA4_2,labA4_3)\n",
        "UA4A4_2 = distance.euclidean(labA4_1,labA4_4)\n",
        "UA4B1_1 = distance.euclidean(labA4_2,labB1_3)\n",
        "UA4B1_2 = distance.euclidean(labA4_1,labB1_4)\n",
        "UA4B2_1 = distance.euclidean(labA4_2,labB2_3)\n",
        "UA4B2_2 = distance.euclidean(labA4_1,labB2_4)\n",
        "UA4B3_1 = distance.euclidean(labA4_2,labB3_3)\n",
        "UA4B3_2 = distance.euclidean(labA4_1,labB3_4)\n",
        "UA4B4_1 = distance.euclidean(labA4_2,labB4_3)\n",
        "UA4B4_2 = distance.euclidean(labA4_1,labB4_4)\n",
        "UA4C1_1 = distance.euclidean(labA4_2,labC1_3)\n",
        "UA4C1_2 = distance.euclidean(labA4_1,labC1_4)\n",
        "UA4C2_1 = distance.euclidean(labA4_2,labC2_3)\n",
        "UA4C2_2 = distance.euclidean(labA4_1,labC2_4)\n",
        "UA4C3_1 = distance.euclidean(labA4_2,labC3_3)\n",
        "UA4C3_2 = distance.euclidean(labA4_1,labC3_4)\n",
        "UA4C4_1 = distance.euclidean(labA4_2,labC4_3)\n",
        "UA4C4_2 = distance.euclidean(labA4_1,labC4_4)\n",
        "UA4D2_1 = distance.euclidean(labA4_2,labD2_3)\n",
        "UA4D2_2 = distance.euclidean(labA4_1,labD2_4)\n",
        "UA4D3_1 = distance.euclidean(labA4_2,labD3_3)\n",
        "UA4D3_2 = distance.euclidean(labA4_1,labD3_4)\n",
        "UA4D4_1 = distance.euclidean(labA4_2,labD4_3)\n",
        "UA4D4_2 = distance.euclidean(labA4_1,labD4_4)"
      ],
      "execution_count": 346,
      "outputs": []
    },
    {
      "cell_type": "code",
      "metadata": {
        "id": "wf4SX3678xN4"
      },
      "source": [
        "UA4A1 = (UA4A1_1+UA4A1_2)/2\n",
        "UA4A2 = (UA4A2_1+UA4A2_2)/2\n",
        "UA4A3 = (UA4A3_1+UA4A3_2)/2\n",
        "UA4A3_5 = (UA4A3_51+UA4A3_52)/2\n",
        "UA4A4 = (UA4A4_1+UA4A4_2)/2\n",
        "UA4B1 = (UA4B1_1+UA4B1_2)/2\n",
        "UA4B2 = (UA4B2_1+UA4B2_2)/2\n",
        "UA4B3 = (UA4B3_1+UA4B3_2)/2\n",
        "UA4B4 = (UA4B4_1+UA4B4_2)/2\n",
        "UA4C1 = (UA4C1_1+UA4C1_2)/2\n",
        "UA4C2 = (UA4C2_1+UA4C2_2)/2\n",
        "UA4C3 = (UA4C3_1+UA4C3_2)/2\n",
        "UA4C4 = (UA4C4_1+UA4C4_2)/2\n",
        "UA4D2 = (UA4D2_1+UA4D2_2)/2\n",
        "UA4D3 = (UA4D3_1+UA4D3_2)/2\n",
        "UA4D4 = (UA4D4_1+UA4D4_2)/2"
      ],
      "execution_count": 347,
      "outputs": []
    },
    {
      "cell_type": "markdown",
      "metadata": {
        "id": "pdArf5nVLut6"
      },
      "source": [
        "B1"
      ]
    },
    {
      "cell_type": "code",
      "metadata": {
        "id": "XrgU5BFvLwqD"
      },
      "source": [
        "UB1A1_1 = distance.euclidean(labB1_2,labA1_3)\n",
        "UB1A1_2 = distance.euclidean(labB1_1,labA1_4)\n",
        "UB1A2_1 = distance.euclidean(labB1_2,labA2_3)\n",
        "UB1A2_2 = distance.euclidean(labB1_1,labA2_4)\n",
        "UB1A3_1 = distance.euclidean(labB1_2,labA3_3)\n",
        "UB1A3_2 = distance.euclidean(labB1_1,labA3_4)\n",
        "UB1A3_51 = distance.euclidean(labB1_2,labA3_503)\n",
        "UB1A3_52 = distance.euclidean(labB1_1,labA3_504)\n",
        "UB1A4_1 = distance.euclidean(labB1_2,labA4_3)\n",
        "UB1A4_2 = distance.euclidean(labB1_1,labA4_4)\n",
        "UB1B1_1 = distance.euclidean(labB1_2,labB1_3)\n",
        "UB1B1_2 = distance.euclidean(labA4_1,labB1_4)\n",
        "UB1B2_1 = distance.euclidean(labB1_2,labB2_3)\n",
        "UB1B2_2 = distance.euclidean(labB1_1,labB2_4)\n",
        "UB1B3_1 = distance.euclidean(labB1_2,labB3_3)\n",
        "UB1B3_2 = distance.euclidean(labB1_1,labB3_4)\n",
        "UB1B4_1 = distance.euclidean(labB1_2,labB4_3)\n",
        "UB1B4_2 = distance.euclidean(labB1_1,labB4_4)\n",
        "UB1C1_1 = distance.euclidean(labB1_2,labC1_3)\n",
        "UB1C1_2 = distance.euclidean(labB1_1,labC1_4)\n",
        "UB1C2_1 = distance.euclidean(labB1_2,labC2_3)\n",
        "UB1C2_2 = distance.euclidean(labB1_1,labC2_4)\n",
        "UB1C3_1 = distance.euclidean(labB1_2,labC3_3)\n",
        "UB1C3_2 = distance.euclidean(labB1_1,labC3_4)\n",
        "UB1C4_1 = distance.euclidean(labB1_2,labC4_3)\n",
        "UB1C4_2 = distance.euclidean(labB1_1,labC4_4)\n",
        "UB1D2_1 = distance.euclidean(labB1_2,labD2_3)\n",
        "UB1D2_2 = distance.euclidean(labB1_1,labD2_4)\n",
        "UB1D3_1 = distance.euclidean(labB1_2,labD3_3)\n",
        "UB1D3_2 = distance.euclidean(labB1_1,labD3_4)\n",
        "UB1D4_1 = distance.euclidean(labB1_2,labD4_3)\n",
        "UB1D4_2 = distance.euclidean(labB1_1,labD4_4)"
      ],
      "execution_count": 348,
      "outputs": []
    },
    {
      "cell_type": "code",
      "metadata": {
        "id": "-bVweXXn9WSK"
      },
      "source": [
        "UB1A1 = (UB1A1_1+UB1A1_2)/2\n",
        "UB1A2 = (UB1A2_1+UB1A2_2)/2\n",
        "UB1A3 = (UB1A3_1+UB1A3_2)/2\n",
        "UB1A3_5 = (UB1A3_51+UB1A3_52)/2\n",
        "UB1A4 = (UB1A4_1+UB1A4_2)/2\n",
        "UB1B1 = (UB1B1_1+UB1B1_2)/2\n",
        "UB1B2 = (UB1B2_1+UB1B2_2)/2\n",
        "UB1B3 = (UB1B3_1+UB1B3_2)/2\n",
        "UB1B4 = (UB1B4_1+UB1B4_2)/2\n",
        "UB1C1 = (UB1C1_1+UB1C1_2)/2\n",
        "UB1C2 = (UB1C2_1+UB1C2_2)/2\n",
        "UB1C3 = (UB1C3_1+UB1C3_2)/2\n",
        "UB1C4 = (UB1C4_1+UB1C4_2)/2\n",
        "UB1D2 = (UB1D2_1+UB1D2_2)/2\n",
        "UB1D3 = (UB1D3_1+UB1D3_2)/2\n",
        "UB1D4 = (UB1D4_1+UB1D4_2)/2"
      ],
      "execution_count": 349,
      "outputs": []
    },
    {
      "cell_type": "markdown",
      "metadata": {
        "id": "QsTUZnxhQfyq"
      },
      "source": [
        "B2"
      ]
    },
    {
      "cell_type": "code",
      "metadata": {
        "id": "rLZXm0gQQiLG"
      },
      "source": [
        "UB2A1_1 = distance.euclidean(labB2_1,labA1_3)\n",
        "UB2A1_2 = distance.euclidean(labB2_2,labA1_4)\n",
        "UB2A2_1 = distance.euclidean(labB2_1,labA2_3)\n",
        "UB2A2_2 = distance.euclidean(labB2_2,labA2_4)\n",
        "UB2A3_1 = distance.euclidean(labB2_1,labA3_3)\n",
        "UB2A3_2 = distance.euclidean(labB2_2,labA3_4)\n",
        "UB2A3_51 = distance.euclidean(labB2_1,labA3_503)\n",
        "UB2A3_52 = distance.euclidean(labB2_2,labA3_504)\n",
        "UB2A4_1 = distance.euclidean(labB2_1,labA4_3)\n",
        "UB2A4_2 = distance.euclidean(labB2_2,labA4_4)\n",
        "UB2B1_1 = distance.euclidean(labB2_1,labB1_3)\n",
        "UB2B1_2 = distance.euclidean(labB2_2,labB1_4)\n",
        "UB2B2_1 = distance.euclidean(labB2_1,labB2_3)\n",
        "UB2B2_2 = distance.euclidean(labB2_2,labB2_4)\n",
        "UB2B3_1 = distance.euclidean(labB2_1,labB3_3)\n",
        "UB2B3_2 = distance.euclidean(labB2_2,labB3_4)\n",
        "UB2B4_1 = distance.euclidean(labB2_1,labB4_3)\n",
        "UB2B4_2 = distance.euclidean(labB2_2,labB4_4)\n",
        "UB2C1_1 = distance.euclidean(labB2_1,labC1_3)\n",
        "UB2C1_2 = distance.euclidean(labB2_2,labC1_4)\n",
        "UB2C2_1 = distance.euclidean(labB2_1,labC2_3)\n",
        "UB2C2_2 = distance.euclidean(labB2_2,labC2_4)\n",
        "UB2C3_1 = distance.euclidean(labB2_1,labC3_3)\n",
        "UB2C3_2 = distance.euclidean(labB2_2,labC3_4)\n",
        "UB2C4_1 = distance.euclidean(labB2_1,labC4_3)\n",
        "UB2C4_2 = distance.euclidean(labB2_2,labC4_4)\n",
        "UB2D2_1 = distance.euclidean(labB2_1,labD2_3)\n",
        "UB2D2_2 = distance.euclidean(labB2_2,labD2_4)\n",
        "UB2D3_1 = distance.euclidean(labB2_1,labD3_3)\n",
        "UB2D3_2 = distance.euclidean(labB2_2,labD3_4)\n",
        "UB2D4_1 = distance.euclidean(labB2_1,labD4_3)\n",
        "UB2D4_2 = distance.euclidean(labB2_2,labD4_4)"
      ],
      "execution_count": 350,
      "outputs": []
    },
    {
      "cell_type": "code",
      "metadata": {
        "id": "KtwDJ-Ue9p0h"
      },
      "source": [
        "UB2A1 = (UB2A1_1+UB2A1_2)/2\n",
        "UB2A2 = (UB2A2_1+UB2A2_2)/2\n",
        "UB2A3 = (UB1A3_1+UB2A3_2)/2\n",
        "UB2A3_5 = (UB2A3_51+UB2A3_52)/2\n",
        "UB2A4 = (UB2A4_1+UB2A4_2)/2\n",
        "UB2B1 = (UB2B1_1+UB2B1_2)/2\n",
        "UB2B2 = (UB2B2_1+UB2B2_2)/2\n",
        "UB2B3 = (UB2B3_1+UB2B3_2)/2\n",
        "UB2B4 = (UB2B4_1+UB2B4_2)/2\n",
        "UB2C1 = (UB2C1_1+UB2C1_2)/2\n",
        "UB2C2 = (UB2C2_1+UB2C2_2)/2\n",
        "UB2C3 = (UB2C3_1+UB2C3_2)/2\n",
        "UB2C4 = (UB2C4_1+UB2C4_2)/2\n",
        "UB2D2 = (UB2D2_1+UB2D2_2)/2\n",
        "UB2D3 = (UB2D3_1+UB2D3_2)/2\n",
        "UB2D4 = (UB2D4_1+UB2D4_2)/2"
      ],
      "execution_count": 351,
      "outputs": []
    },
    {
      "cell_type": "markdown",
      "metadata": {
        "id": "MXY-OV4gUmdw"
      },
      "source": [
        "B3"
      ]
    },
    {
      "cell_type": "code",
      "metadata": {
        "id": "pUUKgK1xUsJo"
      },
      "source": [
        "UB3A1_1 = distance.euclidean(labB3_2,labA1_3)\n",
        "UB3A1_2 = distance.euclidean(labB3_1,labA1_4)\n",
        "UB3A2_1 = distance.euclidean(labB3_2,labA2_3)\n",
        "UB3A2_2 = distance.euclidean(labB3_1,labA2_4)\n",
        "UB3A3_1 = distance.euclidean(labB1_2,labA3_3)\n",
        "UB3A3_2 = distance.euclidean(labB3_1,labA3_4)\n",
        "UB3A3_51 = distance.euclidean(labB3_2,labA3_503)\n",
        "UB3A3_52 = distance.euclidean(labB3_1,labA3_504)\n",
        "UB3A4_1 = distance.euclidean(labB3_2,labA4_3)\n",
        "UB3A4_2 = distance.euclidean(labB3_1,labA4_4)\n",
        "UB3B1_1 = distance.euclidean(labB3_2,labB1_3)\n",
        "UB3B1_2 = distance.euclidean(labB3_1,labB1_4)\n",
        "UB3B2_1 = distance.euclidean(labB3_2,labB2_3)\n",
        "UB3B2_2 = distance.euclidean(labB3_1,labB2_4)\n",
        "UB3B3_1 = distance.euclidean(labB3_2,labB3_3)\n",
        "UB3B3_2 = distance.euclidean(labB3_1,labB3_4)\n",
        "UB3B4_1 = distance.euclidean(labB3_2,labB4_3)\n",
        "UB3B4_2 = distance.euclidean(labB3_1,labB4_4)\n",
        "UB3C1_1 = distance.euclidean(labB3_2,labC1_3)\n",
        "UB3C1_2 = distance.euclidean(labB3_1,labC1_4)\n",
        "UB3C2_1 = distance.euclidean(labB3_2,labC2_3)\n",
        "UB3C2_2 = distance.euclidean(labB3_1,labC2_4)\n",
        "UB3C3_1 = distance.euclidean(labB3_2,labC3_3)\n",
        "UB3C3_2 = distance.euclidean(labB3_1,labC3_4)\n",
        "UB3C4_1 = distance.euclidean(labB3_2,labC4_3)\n",
        "UB3C4_2 = distance.euclidean(labB3_1,labC4_4)\n",
        "UB3D2_1 = distance.euclidean(labB3_2,labD2_3)\n",
        "UB3D2_2 = distance.euclidean(labB3_1,labD2_4)\n",
        "UB3D3_1 = distance.euclidean(labB3_2,labD3_3)\n",
        "UB3D3_2 = distance.euclidean(labB3_1,labD3_4)\n",
        "UB3D4_1 = distance.euclidean(labB3_2,labD4_3)\n",
        "UB3D4_2 = distance.euclidean(labB3_1,labD4_4)"
      ],
      "execution_count": 352,
      "outputs": []
    },
    {
      "cell_type": "code",
      "metadata": {
        "id": "LbWbEIYY-LDk"
      },
      "source": [
        "UB3A1 = (UB3A1_1+UB3A1_2)/2\n",
        "UB3A2 = (UB3A2_1+UB3A2_2)/2\n",
        "UB3A3 = (UB3A3_1+UB3A3_2)/2\n",
        "UB3A3_5 = (UB3A3_51+UB3A3_52)/2\n",
        "UB3A4 = (UB3A4_1+UB3A4_2)/2\n",
        "UB3B1 = (UB3B1_1+UB3B1_2)/2\n",
        "UB3B2 = (UB3B2_1+UB3B2_2)/2\n",
        "UB3B3 = (UB3B3_1+UB3B3_2)/2\n",
        "UB3B4 = (UB3B4_1+UB3B4_2)/2\n",
        "UB3C1 = (UB3C1_1+UB3C1_2)/2\n",
        "UB3C2 = (UB3C2_1+UB3C2_2)/2\n",
        "UB3C3 = (UB3C3_1+UB3C3_2)/2\n",
        "UB3C4 = (UB3C4_1+UB3C4_2)/2\n",
        "UB3D2 = (UB3D2_1+UB3D2_2)/2\n",
        "UB3D3 = (UB3D3_1+UB3D3_2)/2\n",
        "UB3D4 = (UB3D4_1+UB3D4_2)/2"
      ],
      "execution_count": 353,
      "outputs": []
    },
    {
      "cell_type": "markdown",
      "metadata": {
        "id": "iw4iZKK5Un4u"
      },
      "source": [
        "B4"
      ]
    },
    {
      "cell_type": "code",
      "metadata": {
        "id": "gM2lJOfcUsbO"
      },
      "source": [
        "UB4A1_1 = distance.euclidean(labB4_1,labA1_4)\n",
        "UB4A1_2 = distance.euclidean(labB4_2,labA1_3)\n",
        "UB4A2_1 = distance.euclidean(labB4_1,labA2_4)\n",
        "UB4A2_2 = distance.euclidean(labB4_2,labA2_3)\n",
        "UB4A3_1 = distance.euclidean(labB4_1,labA3_4)\n",
        "UB4A3_2 = distance.euclidean(labB4_2,labA3_3)\n",
        "UB4A3_51 = distance.euclidean(labB4_1,labA3_504)\n",
        "UB4A3_52 = distance.euclidean(labB4_2,labA3_503)\n",
        "UB4A4_1 = distance.euclidean(labB4_1,labA4_4)\n",
        "UB4A4_2 = distance.euclidean(labB4_2,labA4_3)\n",
        "UB4B1_1 = distance.euclidean(labB4_1,labB1_4)\n",
        "UB4B1_2 = distance.euclidean(labB4_2,labB1_3)\n",
        "UB4B2_1 = distance.euclidean(labB4_1,labB2_4)\n",
        "UB4B2_2 = distance.euclidean(labB4_2,labB2_3)\n",
        "UB4B3_1 = distance.euclidean(labB4_1,labB3_4)\n",
        "UB4B3_2 = distance.euclidean(labB4_2,labB3_3)\n",
        "UB4B4_1 = distance.euclidean(labB4_1,labB4_4)\n",
        "UB4B4_2 = distance.euclidean(labB4_2,labB4_3)\n",
        "UB4C1_1 = distance.euclidean(labB4_1,labC1_4)\n",
        "UB4C1_2 = distance.euclidean(labB4_2,labC1_3)\n",
        "UB4C2_1 = distance.euclidean(labB4_1,labC2_4)\n",
        "UB4C2_2 = distance.euclidean(labB4_2,labC2_3)\n",
        "UB4C3_1 = distance.euclidean(labB4_1,labC3_4)\n",
        "UB4C3_2 = distance.euclidean(labB4_2,labC3_3)\n",
        "UB4C4_1 = distance.euclidean(labB4_1,labC4_4)\n",
        "UB4C4_2 = distance.euclidean(labB4_2,labC4_3)\n",
        "UB4D2_1 = distance.euclidean(labB4_1,labD2_4)\n",
        "UB4D2_2 = distance.euclidean(labB4_2,labD2_3)\n",
        "UB4D3_1 = distance.euclidean(labB4_1,labD3_4)\n",
        "UB4D3_2 = distance.euclidean(labB4_2,labD3_3)\n",
        "UB4D4_1 = distance.euclidean(labB4_1,labD4_4)\n",
        "UB4D4_2 = distance.euclidean(labB4_2,labD4_3)"
      ],
      "execution_count": 354,
      "outputs": []
    },
    {
      "cell_type": "code",
      "metadata": {
        "id": "IiacfVn_-fE4"
      },
      "source": [
        "UB4A1 = (UB4A1_1+UB4A1_2)/2\n",
        "UB4A2 = (UB4A2_1+UB4A2_2)/2\n",
        "UB4A3 = (UB4A3_1+UB4A3_2)/2\n",
        "UB4A3_5 = (UB4A3_51+UB4A3_52)/2\n",
        "UB4A4 = (UB4A4_1+UB4A4_2)/2\n",
        "UB4B1 = (UB4B1_1+UB4B1_2)/2\n",
        "UB4B2 = (UB4B2_1+UB4B2_2)/2\n",
        "UB4B3 = (UB4B3_1+UB4B3_2)/2\n",
        "UB4B4 = (UB4B4_1+UB4B4_2)/2\n",
        "UB4C1 = (UB4C1_1+UB4C1_2)/2\n",
        "UB4C2 = (UB4C2_1+UB4C2_2)/2\n",
        "UB4C3 = (UB4C3_1+UB4C3_2)/2\n",
        "UB4C4 = (UB4C4_1+UB4C4_2)/2\n",
        "UB4D2 = (UB4D2_1+UB4D2_2)/2\n",
        "UB4D3 = (UB4D3_1+UB4D3_2)/2\n",
        "UB4D4 = (UB4D4_1+UB4D4_2)/2"
      ],
      "execution_count": 355,
      "outputs": []
    },
    {
      "cell_type": "markdown",
      "metadata": {
        "id": "PmgWHgMPUozB"
      },
      "source": [
        "C1"
      ]
    },
    {
      "cell_type": "code",
      "metadata": {
        "id": "rQk8U9jcUszY"
      },
      "source": [
        "UC1A1_1 = distance.euclidean(labC1_1,labA1_3)\n",
        "UC1A1_2 = distance.euclidean(labC1_2,labA1_4)\n",
        "UC1A2_1 = distance.euclidean(labC1_1,labA2_3)\n",
        "UC1A2_2 = distance.euclidean(labC1_2,labA2_4)\n",
        "UC1A3_1 = distance.euclidean(labC1_1,labA3_3)\n",
        "UC1A3_2 = distance.euclidean(labC1_2,labA3_4)\n",
        "UC1A3_51 = distance.euclidean(labC1_1,labA3_503)\n",
        "UC1A3_52 = distance.euclidean(labC1_2,labA3_504)\n",
        "UC1A4_1 = distance.euclidean(labC1_1,labA4_3)\n",
        "UC1A4_2 = distance.euclidean(labC1_2,labA4_4)\n",
        "UC1B1_1 = distance.euclidean(labC1_1,labB1_3)\n",
        "UC1B1_2 = distance.euclidean(labC1_2,labB1_4)\n",
        "UC1B2_1 = distance.euclidean(labC1_1,labB2_3)\n",
        "UC1B2_2 = distance.euclidean(labC1_2,labB2_4)\n",
        "UC1B3_1 = distance.euclidean(labC1_1,labB3_3)\n",
        "UC1B3_2 = distance.euclidean(labC1_2,labB3_4)\n",
        "UC1B4_1 = distance.euclidean(labC1_1,labB4_3)\n",
        "UC1B4_2 = distance.euclidean(labC1_2,labB4_4)\n",
        "UC1C1_1 = distance.euclidean(labC1_1,labC1_3)\n",
        "UC1C1_2 = distance.euclidean(labC1_2,labC1_4)\n",
        "UC1C2_1 = distance.euclidean(labC1_1,labC2_3)\n",
        "UC1C2_2 = distance.euclidean(labC1_2,labC2_4)\n",
        "UC1C3_1 = distance.euclidean(labC1_1,labC3_3)\n",
        "UC1C3_2 = distance.euclidean(labC1_2,labC3_4)\n",
        "UC1C4_1 = distance.euclidean(labC1_1,labC4_3)\n",
        "UC1C4_2 = distance.euclidean(labC1_2,labC4_4)\n",
        "UC1D2_1 = distance.euclidean(labC1_1,labD2_3)\n",
        "UC1D2_2 = distance.euclidean(labC1_2,labD2_4)\n",
        "UC1D3_1 = distance.euclidean(labC1_1,labD3_3)\n",
        "UC1D3_2 = distance.euclidean(labC1_2,labD3_4)\n",
        "UC1D4_1 = distance.euclidean(labC1_1,labD4_3)\n",
        "UC1D4_2 = distance.euclidean(labC1_2,labD4_4)"
      ],
      "execution_count": 356,
      "outputs": []
    },
    {
      "cell_type": "code",
      "metadata": {
        "id": "jorLjOmg_BwS"
      },
      "source": [
        "UC1A1 = (UC1A1_1+UC1A1_2)/2\n",
        "UC1A2 = (UC1A2_1+UC1A2_2)/2\n",
        "UC1A3 = (UC1A3_1+UC1A3_2)/2\n",
        "UC1A3_5 = (UC1A3_51+UC1A3_52)/2\n",
        "UC1A4 = (UC1A4_1+UC1A4_2)/2\n",
        "UC1B1 = (UC1B1_1+UC1B1_2)/2\n",
        "UC1B2 = (UC1B2_1+UC1B2_2)/2\n",
        "UC1B3 = (UC1B3_1+UC1B3_2)/2\n",
        "UC1B4 = (UC1B4_1+UC1B4_2)/2\n",
        "UC1C1 = (UC1C1_1+UC1C1_2)/2\n",
        "UC1C2 = (UC1C2_1+UC1C2_2)/2\n",
        "UC1C3 = (UC1C3_1+UC1C3_2)/2\n",
        "UC1C4 = (UC1C4_1+UC1C4_2)/2\n",
        "UC1D2 = (UC1D2_1+UC1D2_2)/2\n",
        "UC1D3 = (UC1D3_1+UC1D3_2)/2\n",
        "UC1D4 = (UC1D4_1+UC1D4_2)/2"
      ],
      "execution_count": 357,
      "outputs": []
    },
    {
      "cell_type": "markdown",
      "metadata": {
        "id": "lBdF6_flUpoR"
      },
      "source": [
        "C2"
      ]
    },
    {
      "cell_type": "code",
      "metadata": {
        "id": "O_xvI_EAUtNc"
      },
      "source": [
        "UC2A1_1 = distance.euclidean(labC2_1,labA1_3)\n",
        "UC2A1_2 = distance.euclidean(labC2_2,labA1_4)\n",
        "UC2A2_1 = distance.euclidean(labC2_1,labA2_3)\n",
        "UC2A2_2 = distance.euclidean(labC2_2,labA2_4)\n",
        "UC2A3_1 = distance.euclidean(labC2_1,labA3_3)\n",
        "UC2A3_2 = distance.euclidean(labC2_2,labA3_4)\n",
        "UC2A3_51 = distance.euclidean(labC2_1,labA3_503)\n",
        "UC2A3_52 = distance.euclidean(labC2_2,labA3_504)\n",
        "UC2A4_1 = distance.euclidean(labC2_1,labA4_3)\n",
        "UC2A4_2 = distance.euclidean(labC2_2,labA4_4)\n",
        "UC2B1_1 = distance.euclidean(labC2_1,labB1_3)\n",
        "UC2B1_2 = distance.euclidean(labC2_2,labB1_4)\n",
        "UC2B2_1 = distance.euclidean(labC2_1,labB2_3)\n",
        "UC2B2_2 = distance.euclidean(labC2_2,labB2_4)\n",
        "UC2B3_1 = distance.euclidean(labC2_1,labB3_3)\n",
        "UC2B3_2 = distance.euclidean(labC2_2,labB3_4)\n",
        "UC2B4_1 = distance.euclidean(labC2_1,labB4_3)\n",
        "UC2B4_2 = distance.euclidean(labC2_2,labB4_4)\n",
        "UC2C1_1 = distance.euclidean(labC2_1,labC1_3)\n",
        "UC2C1_2 = distance.euclidean(labC2_2,labC1_4)\n",
        "UC2C2_1 = distance.euclidean(labC2_1,labC2_3)\n",
        "UC2C2_2 = distance.euclidean(labC2_2,labC2_4)\n",
        "UC2C3_1 = distance.euclidean(labC2_1,labC3_3)\n",
        "UC2C3_2 = distance.euclidean(labC2_2,labC3_4)\n",
        "UC2C4_1 = distance.euclidean(labC2_1,labC4_3)\n",
        "UC2C4_2 = distance.euclidean(labC2_2,labC4_4)\n",
        "UC2D2_1 = distance.euclidean(labC2_1,labD2_3)\n",
        "UC2D2_2 = distance.euclidean(labC2_2,labD2_4)\n",
        "UC2D3_1 = distance.euclidean(labC2_1,labD3_3)\n",
        "UC2D3_2 = distance.euclidean(labC2_2,labD3_4)\n",
        "UC2D4_1 = distance.euclidean(labC2_1,labD4_3)\n",
        "UC2D4_2 = distance.euclidean(labC2_2,labD4_4)"
      ],
      "execution_count": 358,
      "outputs": []
    },
    {
      "cell_type": "code",
      "metadata": {
        "id": "UUrlUEXB_UY3"
      },
      "source": [
        "UC2A1 = (UC2A1_1+UC2A1_2)/2\n",
        "UC2A2 = (UC2A2_1+UC2A2_2)/2\n",
        "UC2A3 = (UC2A3_1+UC2A3_2)/2\n",
        "UC2A3_5 = (UC1A3_51+UC2A3_52)/2\n",
        "UC2A4 = (UC2A4_1+UC2A4_2)/2\n",
        "UC2B1 = (UC2B1_1+UC2B1_2)/2\n",
        "UC2B2 = (UC2B2_1+UC2B2_2)/2\n",
        "UC2B3 = (UC2B3_1+UC2B3_2)/2\n",
        "UC2B4 = (UC2B4_1+UC2B4_2)/2\n",
        "UC2C1 = (UC2C1_1+UC2C1_2)/2\n",
        "UC2C2 = (UC2C2_1+UC2C2_2)/2\n",
        "UC2C3 = (UC2C3_1+UC2C3_2)/2\n",
        "UC2C4 = (UC2C4_1+UC2C4_2)/2\n",
        "UC2D2 = (UC2D2_1+UC2D2_2)/2\n",
        "UC2D3 = (UC2D3_1+UC2D3_2)/2\n",
        "UC2D4 = (UC2D4_1+UC2D4_2)/2"
      ],
      "execution_count": 359,
      "outputs": []
    },
    {
      "cell_type": "markdown",
      "metadata": {
        "id": "F8Ejgtt3Uqmj"
      },
      "source": [
        "C3"
      ]
    },
    {
      "cell_type": "code",
      "metadata": {
        "id": "38-IdhF0Utwm"
      },
      "source": [
        "UC3A1_1 = distance.euclidean(labC3_1,labA1_3)\n",
        "UC3A1_2 = distance.euclidean(labC3_2,labA1_4)\n",
        "UC3A2_1 = distance.euclidean(labC3_1,labA2_3)\n",
        "UC3A2_2 = distance.euclidean(labC3_2,labA2_4)\n",
        "UC3A3_1 = distance.euclidean(labC3_1,labA3_3)\n",
        "UC3A3_2 = distance.euclidean(labC3_2,labA3_4)\n",
        "UC3A3_51 = distance.euclidean(labC3_1,labA3_503)\n",
        "UC3A3_52 = distance.euclidean(labC3_2,labA3_504)\n",
        "UC3A4_1 = distance.euclidean(labC3_1,labA4_3)\n",
        "UC3A4_2 = distance.euclidean(labC3_2,labA4_4)\n",
        "UC3B1_1 = distance.euclidean(labC3_1,labB1_3)\n",
        "UC3B1_2 = distance.euclidean(labC3_2,labB1_4)\n",
        "UC3B2_1 = distance.euclidean(labC3_1,labB2_3)\n",
        "UC3B2_2 = distance.euclidean(labC3_2,labB2_4)\n",
        "UC3B3_1 = distance.euclidean(labC3_1,labB3_3)\n",
        "UC3B3_2 = distance.euclidean(labC3_2,labB3_4)\n",
        "UC3B4_1 = distance.euclidean(labC3_1,labB4_3)\n",
        "UC3B4_2 = distance.euclidean(labC3_2,labB4_4)\n",
        "UC3C1_1 = distance.euclidean(labC3_1,labC1_3)\n",
        "UC3C1_2 = distance.euclidean(labC3_2,labC1_4)\n",
        "UC3C2_1 = distance.euclidean(labC3_1,labC2_3)\n",
        "UC3C2_2 = distance.euclidean(labC3_2,labC2_4)\n",
        "UC3C3_1 = distance.euclidean(labC3_1,labC3_3)\n",
        "UC3C3_2 = distance.euclidean(labC3_2,labC3_4)\n",
        "UC3C4_1 = distance.euclidean(labC3_1,labC4_3)\n",
        "UC3C4_2 = distance.euclidean(labC3_2,labC4_4)\n",
        "UC3D2_1 = distance.euclidean(labC3_1,labD2_3)\n",
        "UC3D2_2 = distance.euclidean(labC3_2,labD2_4)\n",
        "UC3D3_1 = distance.euclidean(labC3_1,labD3_3)\n",
        "UC3D3_2 = distance.euclidean(labC3_2,labD3_4)\n",
        "UC3D4_1 = distance.euclidean(labC3_1,labD4_3)\n",
        "UC3D4_2 = distance.euclidean(labC3_2,labD4_4)"
      ],
      "execution_count": 360,
      "outputs": []
    },
    {
      "cell_type": "code",
      "metadata": {
        "id": "dqtJNCHDABdO"
      },
      "source": [
        "UC3A1 = (UC3A1_1+UC3A1_2)/2\n",
        "UC3A2 = (UC3A2_1+UC3A2_2)/2\n",
        "UC3A3 = (UC3A3_1+UC3A3_2)/2\n",
        "UC3A3_5 = (UC3A3_51+UC3A3_52)/2\n",
        "UC3A4 = (UC3A4_1+UC3A4_2)/2\n",
        "UC3B1 = (UC3B1_1+UC3B1_2)/2\n",
        "UC3B2 = (UC3B2_1+UC3B2_2)/2\n",
        "UC3B3 = (UC3B3_1+UC3B3_2)/2\n",
        "UC3B4 = (UC3B4_1+UC3B4_2)/2\n",
        "UC3C1 = (UC3C1_1+UC3C1_2)/2\n",
        "UC3C2 = (UC3C2_1+UC3C2_2)/2\n",
        "UC3C3 = (UC3C3_1+UC3C3_2)/2\n",
        "UC3C4 = (UC3C4_1+UC3C4_2)/2\n",
        "UC3D2 = (UC3D2_1+UC3D2_2)/2\n",
        "UC3D3 = (UC3D3_1+UC3D3_2)/2\n",
        "UC3D4 = (UC3D4_1+UC3D4_2)/2"
      ],
      "execution_count": 361,
      "outputs": []
    },
    {
      "cell_type": "markdown",
      "metadata": {
        "id": "5nvt2loHUrVG"
      },
      "source": [
        "C4"
      ]
    },
    {
      "cell_type": "code",
      "metadata": {
        "id": "w1up6legUuR4"
      },
      "source": [
        "UC4A1_1 = distance.euclidean(labC4_2,labA1_4)\n",
        "UC4A1_2 = distance.euclidean(labC4_1,labA1_3)\n",
        "UC4A2_1 = distance.euclidean(labC4_2,labA2_4)\n",
        "UC4A2_2 = distance.euclidean(labC4_1,labA2_3)\n",
        "UC4A3_1 = distance.euclidean(labC4_2,labA3_4)\n",
        "UC4A3_2 = distance.euclidean(labC4_1,labA3_3)\n",
        "UC4A3_51 = distance.euclidean(labC4_2,labA3_504)\n",
        "UC4A3_52 = distance.euclidean(labC4_1,labA3_503)\n",
        "UC4A4_1 = distance.euclidean(labC4_2,labA4_3)\n",
        "UC4A4_2 = distance.euclidean(labC4_1,labA4_4)\n",
        "UC4B1_1 = distance.euclidean(labC4_2,labB1_3)\n",
        "UC4B1_2 = distance.euclidean(labC4_1,labB1_4)\n",
        "UC4B2_1 = distance.euclidean(labC4_2,labB2_3)\n",
        "UC4B2_2 = distance.euclidean(labC4_1,labB2_4)\n",
        "UC4B3_1 = distance.euclidean(labC4_2,labB3_3)\n",
        "UC4B3_2 = distance.euclidean(labC4_1,labB3_4)\n",
        "UC4B4_1 = distance.euclidean(labC4_2,labB4_3)\n",
        "UC4B4_2 = distance.euclidean(labC4_1,labB4_4)\n",
        "UC4C1_1 = distance.euclidean(labC4_2,labC1_3)\n",
        "UC4C1_2 = distance.euclidean(labC4_1,labC1_4)\n",
        "UC4C2_1 = distance.euclidean(labC4_2,labC2_3)\n",
        "UC4C2_2 = distance.euclidean(labC4_1,labC2_4)\n",
        "UC4C3_1 = distance.euclidean(labC4_2,labC3_3)\n",
        "UC4C3_2 = distance.euclidean(labC4_1,labC3_4)\n",
        "UC4C4_1 = distance.euclidean(labC4_2,labC4_3)\n",
        "UC4C4_2 = distance.euclidean(labC4_1,labC4_4)\n",
        "UC4D2_1 = distance.euclidean(labC4_2,labD2_3)\n",
        "UC4D2_2 = distance.euclidean(labC4_1,labD2_4)\n",
        "UC4D3_1 = distance.euclidean(labC4_2,labD3_3)\n",
        "UC4D3_2 = distance.euclidean(labC4_1,labD3_4)\n",
        "UC4D4_1 = distance.euclidean(labC4_2,labD4_3)\n",
        "UC4D4_2 = distance.euclidean(labC4_1,labD4_4)"
      ],
      "execution_count": 362,
      "outputs": []
    },
    {
      "cell_type": "code",
      "metadata": {
        "id": "I1kFapTLAUuW"
      },
      "source": [
        "UC4A1 = (UC4A1_1+UC4A1_2)/2\n",
        "UC4A2 = (UC4A2_1+UC4A2_2)/2\n",
        "UC4A3 = (UC4A3_1+UC4A3_2)/2\n",
        "UC4A3_5 = (UC4A3_51+UC4A3_52)/2\n",
        "UC4A4 = (UC4A4_1+UC4A4_2)/2\n",
        "UC4B1 = (UC4B1_1+UC4B1_2)/2\n",
        "UC4B2 = (UC4B2_1+UC4B2_2)/2\n",
        "UC4B3 = (UC4B3_1+UC4B3_2)/2\n",
        "UC4B4 = (UC4B4_1+UC4B4_2)/2\n",
        "UC4C1 = (UC4C1_1+UC4C1_2)/2\n",
        "UC4C2 = (UC4C2_1+UC4C2_2)/2\n",
        "UC4C3 = (UC4C3_1+UC4C3_2)/2\n",
        "UC4C4 = (UC4C4_1+UC4C4_2)/2\n",
        "UC4D2 = (UC4D2_1+UC4D2_2)/2\n",
        "UC4D3 = (UC4D3_1+UC4D3_2)/2\n",
        "UC4D4 = (UC4D4_1+UC4D4_2)/2"
      ],
      "execution_count": 363,
      "outputs": []
    },
    {
      "cell_type": "markdown",
      "metadata": {
        "id": "inQrkkdTc3mZ"
      },
      "source": [
        "D2"
      ]
    },
    {
      "cell_type": "code",
      "metadata": {
        "id": "q1NczpMZc4kw"
      },
      "source": [
        "UD2A1_1 = distance.euclidean(labD2_1,labA1_4)\n",
        "UD2A1_2 = distance.euclidean(labD2_2,labA1_3)\n",
        "UD2A2_1 = distance.euclidean(labD2_1,labA2_4)\n",
        "UD2A2_2 = distance.euclidean(labD2_2,labA2_3)\n",
        "UD2A3_1 = distance.euclidean(labD2_1,labA3_4)\n",
        "UD2A3_2 = distance.euclidean(labD2_2,labA3_3)\n",
        "UD2A3_51 = distance.euclidean(labD2_1,labA3_504)\n",
        "UD2A3_52 = distance.euclidean(labD2_2,labA3_503)\n",
        "UD2A4_1 = distance.euclidean(labD2_1,labA4_4)\n",
        "UD2A4_2 = distance.euclidean(labD2_2,labA4_3)\n",
        "UD2B1_1 = distance.euclidean(labD2_1,labB1_4)\n",
        "UD2B1_2 = distance.euclidean(labD2_2,labB1_3)\n",
        "UD2B2_1 = distance.euclidean(labD2_1,labB2_4)\n",
        "UD2B2_2 = distance.euclidean(labD2_2,labB2_3)\n",
        "UD2B3_1 = distance.euclidean(labD2_1,labB3_4)\n",
        "UD2B3_2 = distance.euclidean(labD2_2,labB3_3)\n",
        "UD2B4_1 = distance.euclidean(labD2_1,labB4_4)\n",
        "UD2B4_2 = distance.euclidean(labD2_2,labB4_3)\n",
        "UD2C1_1 = distance.euclidean(labD2_1,labC1_4)\n",
        "UD2C1_2 = distance.euclidean(labD2_2,labC1_3)\n",
        "UD2C2_1 = distance.euclidean(labD2_1,labC2_4)\n",
        "UD2C2_2 = distance.euclidean(labD2_2,labC2_3)\n",
        "UD2C3_1 = distance.euclidean(labD2_1,labC3_4)\n",
        "UD2C3_2 = distance.euclidean(labD2_2,labC3_3)\n",
        "UD2C4_1 = distance.euclidean(labD2_1,labC4_4)\n",
        "UD2C4_2 = distance.euclidean(labD2_2,labC4_3)\n",
        "UD2D2_1 = distance.euclidean(labD2_1,labD2_4)\n",
        "UD2D2_2 = distance.euclidean(labD2_2,labD2_3)\n",
        "UD2D3_1 = distance.euclidean(labD2_1,labD3_4)\n",
        "UD2D3_2 = distance.euclidean(labD2_2,labD3_3)\n",
        "UD2D4_1 = distance.euclidean(labD2_1,labD4_4)\n",
        "UD2D4_2 = distance.euclidean(labD2_2,labD4_3)"
      ],
      "execution_count": 364,
      "outputs": []
    },
    {
      "cell_type": "code",
      "metadata": {
        "id": "zXE0HzZhCxFq"
      },
      "source": [
        "UD2A1 = (UD2A1_1+UD2A1_2)/2\n",
        "UD2A2 = (UD2A2_1+UD2A2_2)/2\n",
        "UD2A3 = (UD2A3_1+UD2A3_2)/2\n",
        "UD2A3_5 = (UD2A3_51+UD2A3_52)/2\n",
        "UD2A4 = (UD2A4_1+UD2A4_2)/2\n",
        "UD2B1 = (UD2B1_1+UD2B1_2)/2\n",
        "UD2B2 = (UD2B2_1+UD2B2_2)/2\n",
        "UD2B3 = (UD2B3_1+UD2B3_2)/2\n",
        "UD2B4 = (UD2B4_1+UD2B4_2)/2\n",
        "UD2C1 = (UD2C1_1+UD2C1_2)/2\n",
        "UD2C2 = (UD2C2_1+UD2C2_2)/2\n",
        "UD2C3 = (UD2C3_1+UD2C3_2)/2\n",
        "UD2C4 = (UD2C4_1+UD2C4_2)/2\n",
        "UD2D2 = (UD2D2_1+UD2D2_2)/2\n",
        "UD2D3 = (UD2D3_1+UD2D3_2)/2\n",
        "UD2D4 = (UD2D4_1+UD2D4_2)/2"
      ],
      "execution_count": 365,
      "outputs": []
    },
    {
      "cell_type": "markdown",
      "metadata": {
        "id": "FH21pF-ue9ZD"
      },
      "source": [
        "D3"
      ]
    },
    {
      "cell_type": "code",
      "metadata": {
        "id": "mQT1Tre6e8pz"
      },
      "source": [
        "UD3A1_1 = distance.euclidean(labD3_1,labA1_3)\n",
        "UD3A1_2 = distance.euclidean(labD3_2,labA1_4)\n",
        "UD3A2_1 = distance.euclidean(labD3_1,labA2_3)\n",
        "UD3A2_2 = distance.euclidean(labD3_2,labA2_4)\n",
        "UD3A3_1 = distance.euclidean(labD3_1,labA3_3)\n",
        "UD3A3_2 = distance.euclidean(labD3_2,labA3_4)\n",
        "UD3A3_51 = distance.euclidean(labD3_1,labA3_503)\n",
        "UD3A3_52 = distance.euclidean(labD3_2,labA3_504)\n",
        "UD3A4_1 = distance.euclidean(labD3_1,labA4_3)\n",
        "UD3A4_2 = distance.euclidean(labD3_2,labA4_4)\n",
        "UD3B1_1 = distance.euclidean(labD3_1,labB1_3)\n",
        "UD3B1_2 = distance.euclidean(labD3_2,labB1_4)\n",
        "UD3B2_1 = distance.euclidean(labD3_1,labB2_3)\n",
        "UD3B2_2 = distance.euclidean(labD3_2,labB2_4)\n",
        "UD3B3_1 = distance.euclidean(labD3_1,labB3_3)\n",
        "UD3B3_2 = distance.euclidean(labD3_2,labB3_4)\n",
        "UD3B4_1 = distance.euclidean(labD3_1,labB4_3)\n",
        "UD3B4_2 = distance.euclidean(labD3_2,labB4_4)\n",
        "UD3C1_1 = distance.euclidean(labD3_1,labC1_3)\n",
        "UD3C1_2 = distance.euclidean(labD3_2,labC1_4)\n",
        "UD3C2_1 = distance.euclidean(labD3_1,labC2_3)\n",
        "UD3C2_2 = distance.euclidean(labD3_2,labC2_4)\n",
        "UD3C3_1 = distance.euclidean(labD3_1,labC3_3)\n",
        "UD3C3_2 = distance.euclidean(labD3_2,labC3_4)\n",
        "UD3C4_1 = distance.euclidean(labD3_1,labC4_3)\n",
        "UD3C4_2 = distance.euclidean(labD3_2,labC4_4)\n",
        "UD3D2_1 = distance.euclidean(labD3_1,labD2_3)\n",
        "UD3D2_2 = distance.euclidean(labD3_2,labD2_4)\n",
        "UD3D3_1 = distance.euclidean(labD3_1,labD3_3)\n",
        "UD3D3_2 = distance.euclidean(labD3_2,labD3_4)\n",
        "UD3D4_1 = distance.euclidean(labD3_1,labD4_3)\n",
        "UD3D4_2 = distance.euclidean(labD3_2,labD4_4)"
      ],
      "execution_count": 366,
      "outputs": []
    },
    {
      "cell_type": "code",
      "metadata": {
        "id": "GUNMWbVGDGQt"
      },
      "source": [
        "UD3A1 = (UD3A1_1+UD3A1_2)/2\n",
        "UD3A2 = (UD3A2_1+UD3A2_2)/2\n",
        "UD3A3 = (UD3A3_1+UD3A3_2)/2\n",
        "UD3A3_5 = (UD3A3_51+UD3A3_52)/2\n",
        "UD3A4 = (UD3A4_1+UD3A4_2)/2\n",
        "UD3B1 = (UD3B1_1+UD3B1_2)/2\n",
        "UD3B2 = (UD3B2_1+UD3B2_2)/2\n",
        "UD3B3 = (UD3B3_1+UD3B3_2)/2\n",
        "UD3B4 = (UD3B4_1+UD3B4_2)/2\n",
        "UD3C1 = (UD3C1_1+UD3C1_2)/2\n",
        "UD3C2 = (UD3C2_1+UD3C2_2)/2\n",
        "UD3C3 = (UD3C3_1+UD3C3_2)/2\n",
        "UD3C4 = (UD3C4_1+UD3C4_2)/2\n",
        "UD3D2 = (UD3D2_1+UD3D2_2)/2\n",
        "UD3D3 = (UD3D3_1+UD3D3_2)/2\n",
        "UD3D4 = (UD3D4_1+UD3D4_2)/2"
      ],
      "execution_count": 367,
      "outputs": []
    },
    {
      "cell_type": "markdown",
      "metadata": {
        "id": "VOBr4zvOgPvS"
      },
      "source": [
        "D4"
      ]
    },
    {
      "cell_type": "code",
      "metadata": {
        "id": "4MGLCxSXgQ7g"
      },
      "source": [
        "UD4A1_1 = distance.euclidean(labD4_2,labA1_4)\n",
        "UD4A1_2 = distance.euclidean(labD4_1,labA1_3)\n",
        "UD4A2_1 = distance.euclidean(labD4_2,labA2_4)\n",
        "UD4A2_2 = distance.euclidean(labD4_1,labA2_3)\n",
        "UD4A3_1 = distance.euclidean(labD4_2,labA3_4)\n",
        "UD4A3_2 = distance.euclidean(labD4_1,labA3_3)\n",
        "UD4A3_51 = distance.euclidean(labD4_2,labA3_504)\n",
        "UD4A3_52 = distance.euclidean(labD4_1,labA3_503)\n",
        "UD4A4_1 = distance.euclidean(labD4_2,labA4_4)\n",
        "UD4A4_2 = distance.euclidean(labD4_1,labA4_3)\n",
        "UD4B1_1 = distance.euclidean(labD4_2,labB1_4)\n",
        "UD4B1_2 = distance.euclidean(labD4_1,labB1_3)\n",
        "UD4B2_1 = distance.euclidean(labD4_2,labB2_4)\n",
        "UD4B2_2 = distance.euclidean(labD4_1,labB2_3)\n",
        "UD4B3_1 = distance.euclidean(labD4_2,labB3_4)\n",
        "UD4B3_2 = distance.euclidean(labD4_1,labB3_3)\n",
        "UD4B4_1 = distance.euclidean(labD4_2,labB4_4)\n",
        "UD4B4_2 = distance.euclidean(labD4_1,labB4_3)\n",
        "UD4C1_1 = distance.euclidean(labD4_2,labC1_4)\n",
        "UD4C1_2 = distance.euclidean(labD4_1,labC1_3)\n",
        "UD4C2_1 = distance.euclidean(labD4_2,labC2_4)\n",
        "UD4C2_2 = distance.euclidean(labD4_1,labC2_3)\n",
        "UD4C3_1 = distance.euclidean(labD4_2,labC3_4)\n",
        "UD4C3_2 = distance.euclidean(labD4_1,labC3_3)\n",
        "UD4C4_1 = distance.euclidean(labD4_2,labC4_4)\n",
        "UD4C4_2 = distance.euclidean(labD4_1,labC4_3)\n",
        "UD4D2_1 = distance.euclidean(labD4_2,labD2_4)\n",
        "UD4D2_2 = distance.euclidean(labD4_1,labD2_3)\n",
        "UD4D3_1 = distance.euclidean(labD4_2,labD3_4)\n",
        "UD4D3_2 = distance.euclidean(labD4_1,labD3_3)\n",
        "UD4D4_1 = distance.euclidean(labD4_2,labD4_4)\n",
        "UD4D4_2 = distance.euclidean(labD4_1,labD4_3)"
      ],
      "execution_count": 368,
      "outputs": []
    },
    {
      "cell_type": "code",
      "metadata": {
        "id": "w4PC0cHHDabX"
      },
      "source": [
        "UD4A1 = (UD4A1_1+UD4A1_2)/2\n",
        "UD4A2 = (UD4A2_1+UD4A2_2)/2\n",
        "UD4A3 = (UD4A3_1+UD4A3_2)/2\n",
        "UD4A3_5 = (UD4A3_51+UD4A3_52)/2\n",
        "UD4A4 = (UD4A4_1+UD4A4_2)/2\n",
        "UD4B1 = (UD4B1_1+UD4B1_2)/2\n",
        "UD4B2 = (UD4B2_1+UD4B2_2)/2\n",
        "UD4B3 = (UD4B3_1+UD4B3_2)/2\n",
        "UD4B4 = (UD4B4_1+UD4B4_2)/2\n",
        "UD4C1 = (UD4C1_1+UD4C1_2)/2\n",
        "UD4C2 = (UD4C2_1+UD4C2_2)/2\n",
        "UD4C3 = (UD4C3_1+UD4C3_2)/2\n",
        "UD4C4 = (UD4C4_1+UD4C4_2)/2\n",
        "UD4D2 = (UD4D2_1+UD4D2_2)/2\n",
        "UD4D3 = (UD4D3_1+UD4D3_2)/2\n",
        "UD4D4 = (UD4D4_1+UD4D4_2)/2"
      ],
      "execution_count": 369,
      "outputs": []
    },
    {
      "cell_type": "markdown",
      "metadata": {
        "id": "Yn7JfDL93Two"
      },
      "source": [
        "#สร้างตาราง Set 2 * Set 2"
      ]
    },
    {
      "cell_type": "code",
      "metadata": {
        "colab": {
          "base_uri": "https://localhost:8080/"
        },
        "id": "EUa2mp351eJZ",
        "outputId": "aaea85c6-3000-4439-f9b1-78be911fb764"
      },
      "source": [
        "pip install tabulate"
      ],
      "execution_count": 370,
      "outputs": [
        {
          "output_type": "stream",
          "name": "stdout",
          "text": [
            "Requirement already satisfied: tabulate in /usr/local/lib/python3.7/dist-packages (0.8.9)\n"
          ]
        }
      ]
    },
    {
      "cell_type": "code",
      "metadata": {
        "id": "LLkOT09j1egf"
      },
      "source": [
        "from tabulate import tabulate"
      ],
      "execution_count": 371,
      "outputs": []
    },
    {
      "cell_type": "code",
      "metadata": {
        "id": "jSJ4C9e61YMa"
      },
      "source": [
        "info = {'Shade Guide': ['S3_A1', 'S3_A2', 'S3_A3', 'S3_A3.5', 'S3_A4', 'S3_B1', 'S3_B2', 'S3_B3', 'S3_B4', 'S3_C1', 'S3_C2', 'S3_C3', 'S3_C4', 'S3_D2', 'S3_D3', 'S3_D4']\n",
        "        ,'S4_A1': [UA1A1,UA1A2,UA1A3,UA1A3_5,UA1A4,UA1B1,UA1B2,UA1B3,UA1B4,UA1C1,UA1C2,UA1C3,UA1C4,UA1D2,UA1D3,UA1D4]\n",
        "        ,'S4_A2': [UA2A1,UA2A2,UA2A3,UA2A3_5,UA2A4,UA2B1,UA2B2,UA2B3,UA2B4,UA2C1,UA2C2,UA2C3,UA2C4,UA2D2,UA2D3,UA2D4]\n",
        "        ,'S4_A3': [UA3A1,UA3A2,UA3A3,UA3A3_5,UA3A4,UA3B1,UA3B2,UA3B3,UA3B4,UA3C1,UA3C2,UA3C3,UA3C4,UA3D2,UA3D3,UA3D4]\n",
        "        ,'S4_A3.5': [UA3_5A1,UA3_5A2,UA3_5A3,UA3_5A3_5,UA3_5A4,UA3_5B1,UA3_5B2,UA3_5B3,UA3_5B4,UA3_5C1,UA3_5C2,UA3_5C3,UA3_5C4,UA3_5D2,UA3_5D3,UA3_5D4]\n",
        "        ,'S4_A4': [UA4A1,UA4A2,UA4A3,UA4A3_5,UA4A4,UA4B1,UA4B2,UA4B3,UA4B4,UA4C1,UA4C2,UA4C3,UA4C4,UA4D2,UA4D3,UA4D4]\n",
        "        ,'S4_B1': [UB1A1,UB1A2,UB1A3,UB1A3_5,UB1A4,UB1B1,UB1B2,UB1B3,UB1B4,UB1C1,UB1C2,UB1C3,UB1C4,UB1D2,UB1D3,UB1D4]\n",
        "        ,'S4_B2': [UB2A1,UB2A2,UB2A3,UB2A3_5,UB2A4,UB2B1,UB2B2,UB2B3,UB2B4,UB2C1,UB2C2,UB2C3,UB2C4,UB2D2,UB2D3,UB2D4]\n",
        "        ,'S4_B3': [UB3A1,UB3A2,UB3A3,UB3A3_5,UB3A4,UB3B1,UB3B2,UB3B3,UB3B4,UB3C1,UB3C2,UB3C3,UB3C4,UB3D2,UB3D3,UB3D4]\n",
        "        ,'S4_B4': [UB4A1,UB4A2,UB4A3,UB4A3_5,UB4A4,UB4B1,UB4B2,UB4B3,UB4B4,UB4C1,UB4C2,UB4C3,UB4C4,UB4D2,UB4D3,UB4D4]\n",
        "        ,'S4_C1': [UC1A1,UC1A2,UC1A3,UC1A3_5,UC1A4,UC1B1,UC1B2,UC1B3,UC1B4,UC1C1,UC1C2,UC1C3,UC1C4,UC1D2,UC1D3,UC1D4]\n",
        "        ,'S4_C2': [UC2A1,UC2A2,UC2A3,UC2A3_5,UC2A4,UC2B1,UC2B2,UC2B3,UC2B4,UC2C1,UC2C2,UC2C3,UC2C4,UC2D2,UC2D3,UC2D4]\n",
        "        ,'S4_C3': [UC3A1,UC3A2,UC3A3,UC3A3_5,UC3A4,UC3B1,UC3B2,UC3B3,UC3B4,UC3C1,UC3C2,UC3C3,UC3C4,UC3D2,UC3D3,UC3D4]\n",
        "        ,'S4_C4': [UC4A1,UC4A2,UC4A3,UC4A3_5,UC4A4,UC4B1,UC4B2,UC4B3,UC4B4,UC4C1,UC4C2,UC4C3,UC4C4,UC4D2,UC4D3,UC4D4]\n",
        "        ,'S4_D2': [UD2A1,UD2A2,UD2A3,UD2A3_5,UD2A4,UD2B1,UD2B2,UD2B3,UD2B4,UD2C1,UD2C2,UD2C3,UD2C4,UD2D2,UD2D3,UD2D4]\n",
        "        ,'S4_D3': [UD3A1,UD3A2,UD3A3,UD3A3_5,UD3A4,UD3B1,UD3B2,UD3B3,UD3B4,UD3C1,UD3C2,UD3C3,UD3C4,UD3D2,UD3D3,UD3D4]\n",
        "        ,'S4_D4': [UD4A1,UD4A2,UD4A3,UD4A3_5,UD4A4,UD4B1,UD4B2,UD4B3,UD4B4,UD4C1,UD4C2,UD4C3,UD4C4,UD4D2,UD4D3,UD4D4] }"
      ],
      "execution_count": 372,
      "outputs": []
    },
    {
      "cell_type": "code",
      "metadata": {
        "colab": {
          "base_uri": "https://localhost:8080/"
        },
        "id": "RrQzU6uw3h9h",
        "outputId": "c62df34b-4d57-43c0-85fe-ecc49ba4f303"
      },
      "source": [
        "print(tabulate(info, headers='keys', tablefmt='fancy_grid'))"
      ],
      "execution_count": 373,
      "outputs": [
        {
          "output_type": "stream",
          "name": "stdout",
          "text": [
            "╒═══════════════╤═════════╤═════════╤═════════╤═══════════╤═════════╤═════════╤═════════╤═════════╤═════════╤═════════╤═════════╤═════════╤═════════╤═════════╤═════════╤═════════╕\n",
            "│ Shade Guide   │   S4_A1 │   S4_A2 │   S4_A3 │   S4_A3.5 │   S4_A4 │   S4_B1 │   S4_B2 │   S4_B3 │   S4_B4 │   S4_C1 │   S4_C2 │   S4_C3 │   S4_C4 │   S4_D2 │   S4_D3 │   S4_D4 │\n",
            "╞═══════════════╪═════════╪═════════╪═════════╪═══════════╪═════════╪═════════╪═════════╪═════════╪═════════╪═════════╪═════════╪═════════╪═════════╪═════════╪═════════╪═════════╡\n",
            "│ S3_A1         │ 24.2887 │ 24.3721 │ 24.3721 │   16.7024 │ 11.8883 │ 25.574  │ 25.8321 │ 22.2978 │ 18.3579 │ 25.7422 │ 18.9461 │ 18.1307 │ 17.9026 │ 28.5267 │ 26.9338 │ 21.7119 │\n",
            "├───────────────┼─────────┼─────────┼─────────┼───────────┼─────────┼─────────┼─────────┼─────────┼─────────┼─────────┼─────────┼─────────┼─────────┼─────────┼─────────┼─────────┤\n",
            "│ S3_A2         │ 31.0411 │ 31.1842 │ 28.0215 │   22.2818 │ 16.7242 │ 32.3664 │ 32.6542 │ 28.9969 │ 24.6849 │ 32.5921 │ 25.7582 │ 24.4638 │ 23.4407 │ 35.3243 │ 33.7268 │ 27.9986 │\n",
            "├───────────────┼─────────┼─────────┼─────────┼───────────┼─────────┼─────────┼─────────┼─────────┼─────────┼─────────┼─────────┼─────────┼─────────┼─────────┼─────────┼─────────┤\n",
            "│ S3_A3         │ 34.3391 │ 34.213  │ 30.3942 │   24.0349 │ 18.2133 │ 35.6113 │ 35.5613 │ 33.6373 │ 26.9579 │ 35.6767 │ 28.5801 │ 26.7424 │ 25.101  │ 38.2707 │ 36.6095 │ 30.2017 │\n",
            "├───────────────┼─────────┼─────────┼─────────┼───────────┼─────────┼─────────┼─────────┼─────────┼─────────┼─────────┼─────────┼─────────┼─────────┼─────────┼─────────┼─────────┤\n",
            "│ S3_A3.5       │ 41.2751 │ 41.1757 │ 37.2452 │   30.6594 │ 24.8042 │ 42.5737 │ 42.6667 │ 38.6471 │ 33.832  │ 42.6032 │ 39.4723 │ 33.597  │ 31.6619 │ 45.2161 │ 43.5344 │ 37.0113 │\n",
            "├───────────────┼─────────┼─────────┼─────────┼───────────┼─────────┼─────────┼─────────┼─────────┼─────────┼─────────┼─────────┼─────────┼─────────┼─────────┼─────────┼─────────┤\n",
            "│ S3_A4         │ 42.1448 │ 42.3902 │ 39.0248 │   32.7274 │ 26.8869 │ 43.5165 │ 43.8809 │ 40.1653 │ 35.6354 │ 43.7861 │ 36.9973 │ 35.414  │ 33.8137 │ 46.5249 │ 44.9187 │ 38.8862 │\n",
            "├───────────────┼─────────┼─────────┼─────────┼───────────┼─────────┼─────────┼─────────┼─────────┼─────────┼─────────┼─────────┼─────────┼─────────┼─────────┼─────────┼─────────┤\n",
            "│ S3_B1         │ 26.862  │ 27.6779 │ 26.0818 │   21.8182 │ 17.0484 │ 22.3574 │ 29.1463 │ 26.2966 │ 23.0131 │ 28.8453 │ 22.8267 │ 22.8245 │ 23.0222 │ 31.9389 │ 30.4723 │ 26.3983 │\n",
            "├───────────────┼─────────┼─────────┼─────────┼───────────┼─────────┼─────────┼─────────┼─────────┼─────────┼─────────┼─────────┼─────────┼─────────┼─────────┼─────────┼─────────┤\n",
            "│ S3_B2         │ 27.5557 │ 27.1292 │ 23.0524 │   16.8645 │ 11.2957 │ 28.7288 │ 28.541  │ 24.4331 │ 19.6212 │ 28.6876 │ 21.3721 │ 19.4031 │ 18.0081 │ 31.1165 │ 29.4465 │ 22.8566 │\n",
            "├───────────────┼─────────┼─────────┼─────────┼───────────┼─────────┼─────────┼─────────┼─────────┼─────────┼─────────┼─────────┼─────────┼─────────┼─────────┼─────────┼─────────┤\n",
            "│ S3_B3         │ 36.9095 │ 36.7032 │ 32.6702 │   26.0922 │ 20.1696 │ 38.1662 │ 38.17   │ 34.1069 │ 29.2263 │ 38.1342 │ 30.9759 │ 28.994  │ 27.0932 │ 40.7304 │ 39.0384 │ 32.4133 │\n",
            "├───────────────┼─────────┼─────────┼─────────┼───────────┼─────────┼─────────┼─────────┼─────────┼─────────┼─────────┼─────────┼─────────┼─────────┼─────────┼─────────┼─────────┤\n",
            "│ S3_B4         │ 40.2009 │ 40.0235 │ 35.8622 │   29.0547 │ 23.1542 │ 41.4664 │ 41.4622 │ 37.3776 │ 32.3812 │ 41.5553 │ 34.3581 │ 32.1784 │ 30.0916 │ 44.0414 │ 42.3794 │ 35.5284 │\n",
            "├───────────────┼─────────┼─────────┼─────────┼───────────┼─────────┼─────────┼─────────┼─────────┼─────────┼─────────┼─────────┼─────────┼─────────┼─────────┼─────────┼─────────┤\n",
            "│ S3_C1         │ 32.0487 │ 32.5845 │ 30.0951 │   24.754  │ 19.2301 │ 33.4418 │ 34.0459 │ 30.7758 │ 26.8347 │ 33.8682 │ 27.3661 │ 26.6146 │ 25.9171 │ 36.8045 │ 35.2822 │ 30.1634 │\n",
            "├───────────────┼─────────┼─────────┼─────────┼───────────┼─────────┼─────────┼─────────┼─────────┼─────────┼─────────┼─────────┼─────────┼─────────┼─────────┼─────────┼─────────┤\n",
            "│ S3_C2         │ 37.5761 │ 38.0767 │ 35.3284 │   29.5605 │ 23.7918 │ 38.98   │ 39.562  │ 36.1655 │ 31.9973 │ 39.3528 │ 32.8098 │ 31.7785 │ 30.6835 │ 42.282  │ 40.7169 │ 35.3206 │\n",
            "├───────────────┼─────────┼─────────┼─────────┼───────────┼─────────┼─────────┼─────────┼─────────┼─────────┼─────────┼─────────┼─────────┼─────────┼─────────┼─────────┼─────────┤\n",
            "│ S3_C3         │ 41.5078 │ 41.9905 │ 39.0822 │   33.0808 │ 27.2306 │ 42.9179 │ 43.4811 │ 40.0126 │ 35.7216 │ 43.2932 │ 36.7085 │ 35.5033 │ 34.1864 │ 46.185  │ 44.6149 │ 39.0232 │\n",
            "├───────────────┼─────────┼─────────┼─────────┼───────────┼─────────┼─────────┼─────────┼─────────┼─────────┼─────────┼─────────┼─────────┼─────────┼─────────┼─────────┼─────────┤\n",
            "│ S3_C4         │ 51.6756 │ 52.408  │ 49.728  │   43.6348 │ 37.6414 │ 53.1302 │ 53.8937 │ 50.601  │ 46.3439 │ 53.629  │ 47.2178 │ 46.1351 │ 44.7042 │ 56.639  │ 55.0975 │ 49.6455 │\n",
            "├───────────────┼─────────┼─────────┼─────────┼───────────┼─────────┼─────────┼─────────┼─────────┼─────────┼─────────┼─────────┼─────────┼─────────┼─────────┼─────────┼─────────┤\n",
            "│ S3_D2         │ 28.9418 │ 29.7443 │ 27.9952 │   23.4926 │ 18.5688 │ 30.3879 │ 31.2186 │ 28.2902 │ 24.8964 │ 30.9825 │ 24.8924 │ 24.6972 │ 24.7042 │ 33.9992 │ 32.5588 │ 28.2846 │\n",
            "├───────────────┼─────────┼─────────┼─────────┼───────────┼─────────┼─────────┼─────────┼─────────┼─────────┼─────────┼─────────┼─────────┼─────────┼─────────┼─────────┼─────────┤\n",
            "│ S3_D3         │ 35.3874 │ 35.6703 │ 32.6275 │   26.7935 │ 21.1219 │ 36.7577 │ 37.1685 │ 33.5769 │ 29.3043 │ 37.017  │ 30.3341 │ 29.0733 │ 27.9183 │ 39.8298 │ 38.23   │ 32.6138 │\n",
            "├───────────────┼─────────┼─────────┼─────────┼───────────┼─────────┼─────────┼─────────┼─────────┼─────────┼─────────┼─────────┼─────────┼─────────┼─────────┼─────────┼─────────┤\n",
            "│ S3_D4         │ 42.0479 │ 42.4093 │ 39.1658 │   32.8706 │ 26.9471 │ 43.4185 │ 43.8513 │ 40.2625 │ 35.7426 │ 43.8235 │ 37.0168 │ 35.542  │ 33.9778 │ 46.5692 │ 45.024  │ 38.9867 │\n",
            "╘═══════════════╧═════════╧═════════╧═════════╧═══════════╧═════════╧═════════╧═════════╧═════════╧═════════╧═════════╧═════════╧═════════╧═════════╧═════════╧═════════╧═════════╛\n"
          ]
        }
      ]
    }
  ]
}