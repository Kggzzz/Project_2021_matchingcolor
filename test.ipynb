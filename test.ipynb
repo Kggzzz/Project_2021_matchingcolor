{
  "nbformat": 4,
  "nbformat_minor": 0,
  "metadata": {
    "colab": {
      "name": "test.ipynb",
      "provenance": [],
      "authorship_tag": "ABX9TyNMoU8S5iXIOf8rfqBydj5j",
      "include_colab_link": true
    },
    "kernelspec": {
      "name": "python3",
      "display_name": "Python 3"
    },
    "language_info": {
      "name": "python"
    }
  },
  "cells": [
    {
      "cell_type": "markdown",
      "metadata": {
        "id": "view-in-github",
        "colab_type": "text"
      },
      "source": [
        "<a href=\"https://colab.research.google.com/github/Kggzzz/Project_2021_matchingcolor/blob/main/test.ipynb\" target=\"_parent\"><img src=\"https://colab.research.google.com/assets/colab-badge.svg\" alt=\"Open In Colab\"/></a>"
      ]
    },
    {
      "cell_type": "markdown",
      "source": [
        "##Import"
      ],
      "metadata": {
        "id": "uDFGaFgy6jZn"
      }
    },
    {
      "cell_type": "code",
      "execution_count": 69,
      "metadata": {
        "id": "P4nVlCL95YFc"
      },
      "outputs": [],
      "source": [
        "import numpy as np\n",
        "from sklearn import metrics\n",
        "from sklearn import datasets\n",
        "from sklearn.ensemble import RandomForestClassifier\n",
        "import pandas as pd\n",
        "import pickle"
      ]
    },
    {
      "cell_type": "code",
      "source": [
        "from google.colab import drive \n",
        "drive.mount('/content/drive')"
      ],
      "metadata": {
        "colab": {
          "base_uri": "https://localhost:8080/"
        },
        "id": "EClLZeMW6rEz",
        "outputId": "c749e8da-e199-4d0a-c980-f17c246933e2"
      },
      "execution_count": 36,
      "outputs": [
        {
          "output_type": "stream",
          "name": "stdout",
          "text": [
            "Drive already mounted at /content/drive; to attempt to forcibly remount, call drive.mount(\"/content/drive\", force_remount=True).\n"
          ]
        }
      ]
    },
    {
      "cell_type": "code",
      "source": [
        "import os"
      ],
      "metadata": {
        "id": "Npr_KwCZ6sP2"
      },
      "execution_count": 37,
      "outputs": []
    },
    {
      "cell_type": "markdown",
      "source": [
        "##Prepare data "
      ],
      "metadata": {
        "id": "pfNKwVmC69_8"
      }
    },
    {
      "cell_type": "code",
      "source": [
        "path = '/content/drive/My Drive/shadeimg/SVM shade'"
      ],
      "metadata": {
        "id": "Al3OE2Qm6tNZ"
      },
      "execution_count": 38,
      "outputs": []
    },
    {
      "cell_type": "code",
      "source": [
        "os.listdir(path)"
      ],
      "metadata": {
        "colab": {
          "base_uri": "https://localhost:8080/"
        },
        "id": "zFyXUjOaESuT",
        "outputId": "d19fbc66-79ae-4c4b-b932-3e1078ba4b07"
      },
      "execution_count": 39,
      "outputs": [
        {
          "output_type": "execute_result",
          "data": {
            "text/plain": [
              "['DD.xlsx',\n",
              " 'CC.xlsx',\n",
              " 'BB.xlsx',\n",
              " 'Shade_AA.xlsx',\n",
              " 'Shade_CC.xlsx',\n",
              " 'Shade_DD.xlsx',\n",
              " 'Shade_BB.xlsx',\n",
              " 'AA.xlsx',\n",
              " 'AA_2.xlsx',\n",
              " 'Shad_A.xlsx',\n",
              " 'Shad_B.xlsx',\n",
              " 'Shad_C.xlsx',\n",
              " 'Shad_D.xlsx',\n",
              " 'Setting4.xlsx',\n",
              " 'Color-checkerAA.xlsx',\n",
              " 'Color-checkerBB.xlsx',\n",
              " 'Color-checkerCC.xlsx',\n",
              " 'Setting2.xlsx',\n",
              " 'D3set51.csv',\n",
              " 'Setting1.xlsx',\n",
              " 'CheckerDD.xlsx',\n",
              " 'Setting3.xlsx',\n",
              " 'Setting6.xlsx',\n",
              " 'Setting5.xlsx',\n",
              " 'checkerShad_A .xlsx',\n",
              " 'checkerShad_B.xlsx',\n",
              " 'checkerShad_C.xlsx',\n",
              " 'D3Set5-61.xlsx',\n",
              " 'checkerShad_D.xlsx',\n",
              " 'Color-checkerDD.xlsx',\n",
              " 'Datapoint_1.xlsx',\n",
              " 'Datapoint_2.xlsx',\n",
              " 'Datapoint_3.xlsx',\n",
              " 'Datapoint_4.xlsx',\n",
              " 'Datapoint_6.xlsx',\n",
              " 'Datapoint_5.xlsx']"
            ]
          },
          "metadata": {},
          "execution_count": 39
        }
      ]
    },
    {
      "cell_type": "code",
      "source": [
        "Set1 = os.path.join(path,'Datapoint_1.xlsx')\n",
        "print(Set1)"
      ],
      "metadata": {
        "colab": {
          "base_uri": "https://localhost:8080/"
        },
        "id": "HOF2Yicm6tyw",
        "outputId": "5f116fff-f8f2-4337-a700-e9f4bec220e5"
      },
      "execution_count": 40,
      "outputs": [
        {
          "output_type": "stream",
          "name": "stdout",
          "text": [
            "/content/drive/My Drive/shadeimg/SVM shade/Datapoint_1.xlsx\n"
          ]
        }
      ]
    },
    {
      "cell_type": "code",
      "source": [
        "Set2 = os.path.join(path,'Datapoint_2.xlsx')\n",
        "print(Set2)"
      ],
      "metadata": {
        "colab": {
          "base_uri": "https://localhost:8080/"
        },
        "id": "RZQ7uaBT6vaC",
        "outputId": "45e9bec6-dd35-42f4-b3e2-6beff4bc148f"
      },
      "execution_count": 41,
      "outputs": [
        {
          "output_type": "stream",
          "name": "stdout",
          "text": [
            "/content/drive/My Drive/shadeimg/SVM shade/Datapoint_2.xlsx\n"
          ]
        }
      ]
    },
    {
      "cell_type": "code",
      "source": [
        "Set3 = os.path.join(path,'Datapoint_3.xlsx')\n",
        "print(Set3)"
      ],
      "metadata": {
        "colab": {
          "base_uri": "https://localhost:8080/"
        },
        "id": "nUTukQTS6wdT",
        "outputId": "3df0dcff-7674-4d18-d43c-c7d84f976cfb"
      },
      "execution_count": 42,
      "outputs": [
        {
          "output_type": "stream",
          "name": "stdout",
          "text": [
            "/content/drive/My Drive/shadeimg/SVM shade/Datapoint_3.xlsx\n"
          ]
        }
      ]
    },
    {
      "cell_type": "code",
      "source": [
        "Set4 = os.path.join(path,'Datapoint_4.xlsx')\n",
        "print(Set4)"
      ],
      "metadata": {
        "colab": {
          "base_uri": "https://localhost:8080/"
        },
        "id": "S8lZYEgT6yKr",
        "outputId": "4b6b4f5e-543f-4740-fbbe-3b3fbe550d7d"
      },
      "execution_count": 43,
      "outputs": [
        {
          "output_type": "stream",
          "name": "stdout",
          "text": [
            "/content/drive/My Drive/shadeimg/SVM shade/Datapoint_4.xlsx\n"
          ]
        }
      ]
    },
    {
      "cell_type": "code",
      "source": [
        "Set5 = os.path.join(path,'Datapoint_5.xlsx')\n",
        "print(Set5)"
      ],
      "metadata": {
        "colab": {
          "base_uri": "https://localhost:8080/"
        },
        "id": "z0GBXm_r6zSV",
        "outputId": "d07fe88c-807a-47a6-fe9c-77151ddc6b9f"
      },
      "execution_count": 44,
      "outputs": [
        {
          "output_type": "stream",
          "name": "stdout",
          "text": [
            "/content/drive/My Drive/shadeimg/SVM shade/Datapoint_5.xlsx\n"
          ]
        }
      ]
    },
    {
      "cell_type": "code",
      "source": [
        "Set6 = os.path.join(path,'Datapoint_6.xlsx')\n",
        "print(Set6)"
      ],
      "metadata": {
        "colab": {
          "base_uri": "https://localhost:8080/"
        },
        "id": "p6vwFZ7Y60Gv",
        "outputId": "409763e8-12fd-417f-e1c6-afaa4f888388"
      },
      "execution_count": 45,
      "outputs": [
        {
          "output_type": "stream",
          "name": "stdout",
          "text": [
            "/content/drive/My Drive/shadeimg/SVM shade/Datapoint_6.xlsx\n"
          ]
        }
      ]
    },
    {
      "cell_type": "markdown",
      "source": [
        "##train "
      ],
      "metadata": {
        "id": "3uybiXlB7BXa"
      }
    },
    {
      "cell_type": "code",
      "source": [
        "with open('Model_A2_rgb2.pkl', 'rb') as pickle_file :\n",
        "    new_data = pickle.load(pickle_file)"
      ],
      "metadata": {
        "id": "wOmXcqVHHnB6"
      },
      "execution_count": 70,
      "outputs": []
    },
    {
      "cell_type": "code",
      "source": [
        "table_A2Set1 = pd.read_excel(Set1, sheet_name='A2_1')\n",
        "table_A2Set2 = pd.read_excel(Set2, sheet_name='A2_2')\n",
        "table_A2Set3 = pd.read_excel(Set3, sheet_name='A2_3')\n",
        "table_A2Set4 = pd.read_excel(Set4, sheet_name='A2_4')\n",
        "table_A2Set5 = pd.read_excel(Set5, sheet_name='A2_5')\n",
        "table_A2Set6 = pd.read_excel(Set6, sheet_name='A2_6')"
      ],
      "metadata": {
        "id": "9dodFQw-dhKA"
      },
      "execution_count": 239,
      "outputs": []
    },
    {
      "cell_type": "code",
      "source": [
        "RGB_A2_Set1 = table_A2Set1"
      ],
      "metadata": {
        "id": "cfAUYiwNyasn"
      },
      "execution_count": 159,
      "outputs": []
    },
    {
      "cell_type": "code",
      "source": [
        "RGB_A2_Set2 = table_A2Set2"
      ],
      "metadata": {
        "id": "ixxLBGT_yasn"
      },
      "execution_count": 160,
      "outputs": []
    },
    {
      "cell_type": "code",
      "source": [
        "RGB_A2_Set3 = table_A2Set3"
      ],
      "metadata": {
        "id": "pllJlM8gyasn"
      },
      "execution_count": 161,
      "outputs": []
    },
    {
      "cell_type": "code",
      "source": [
        "RGB_A2_Set4 = table_A2Set4"
      ],
      "metadata": {
        "id": "qOB34lNvyasn"
      },
      "execution_count": 162,
      "outputs": []
    },
    {
      "cell_type": "code",
      "source": [
        "RGB_A2_Set6 = table_A2Set6"
      ],
      "metadata": {
        "id": "abYOLjMwyziQ"
      },
      "execution_count": 163,
      "outputs": []
    },
    {
      "cell_type": "code",
      "source": [
        "RGB_A2_concat = pd.concat([RGB_A2_Set1,RGB_A2_Set2,RGB_A2_Set3,RGB_A2_Set4,RGB_A2_Set6])"
      ],
      "metadata": {
        "id": "zJgq0oldyasn"
      },
      "execution_count": 164,
      "outputs": []
    },
    {
      "cell_type": "code",
      "source": [
        "RGB_A2_concat0 = RGB_A2_concat.drop(['H-ref','S-ref','V-ref','H-Shad','S-Shad','V-Shad','Setting','Ref','Shad','Img'], axis=1)"
      ],
      "metadata": {
        "id": "k6rgbb4-yasn"
      },
      "execution_count": 165,
      "outputs": []
    },
    {
      "cell_type": "code",
      "source": [
        "RGB_A2_s5 = table_A2Set5.drop(['H-ref','S-ref','V-ref','H-Shad','S-Shad','V-Shad','Setting','Ref','Shad','Img'], axis=1)"
      ],
      "metadata": {
        "id": "xTD3aX1kyoHE"
      },
      "execution_count": 166,
      "outputs": []
    },
    {
      "cell_type": "code",
      "source": [
        "X_test_A2_RGB_s5 = np.array(RGB_A2_s5)"
      ],
      "metadata": {
        "id": "yNqsgDIByoHE"
      },
      "execution_count": 167,
      "outputs": []
    },
    {
      "cell_type": "code",
      "source": [
        "y_A2_RGB_s5 =  table_A2Set5.iloc[:,14:15]"
      ],
      "metadata": {
        "id": "i5xt7vcMyoHE"
      },
      "execution_count": 168,
      "outputs": []
    },
    {
      "cell_type": "code",
      "source": [
        "y_test_A2_RGB_s5 = np.array(y_A2_RGB_s5)"
      ],
      "metadata": {
        "id": "9Rfk0NXNyoHF"
      },
      "execution_count": 169,
      "outputs": []
    },
    {
      "cell_type": "code",
      "source": [
        "X_train_A2_RGB_s5 = np.array(RGB_A2_concat0)"
      ],
      "metadata": {
        "id": "yx9h0XfSyoHF"
      },
      "execution_count": 170,
      "outputs": []
    },
    {
      "cell_type": "code",
      "source": [
        "y_train_A2RGB_s5 = RGB_A2_concat.iloc[:,14:15]"
      ],
      "metadata": {
        "id": "2X6UKjcCyoHF"
      },
      "execution_count": 171,
      "outputs": []
    },
    {
      "cell_type": "code",
      "source": [
        "y_train_A2RGB_s5 "
      ],
      "metadata": {
        "colab": {
          "base_uri": "https://localhost:8080/",
          "height": 423
        },
        "id": "4ylPyIBRcrsT",
        "outputId": "58357439-0097-48e3-e0ec-9b1c004a6d33"
      },
      "execution_count": 238,
      "outputs": [
        {
          "output_type": "execute_result",
          "data": {
            "text/plain": [
              "    Shad\n",
              "0     A1\n",
              "1     A1\n",
              "2     A1\n",
              "3     A1\n",
              "4     A1\n",
              "..   ...\n",
              "795   D4\n",
              "796   D4\n",
              "797   D4\n",
              "798   D4\n",
              "799   D4\n",
              "\n",
              "[4050 rows x 1 columns]"
            ],
            "text/html": [
              "\n",
              "  <div id=\"df-d0700ddc-2492-4cf6-8985-fe3b3c58e462\">\n",
              "    <div class=\"colab-df-container\">\n",
              "      <div>\n",
              "<style scoped>\n",
              "    .dataframe tbody tr th:only-of-type {\n",
              "        vertical-align: middle;\n",
              "    }\n",
              "\n",
              "    .dataframe tbody tr th {\n",
              "        vertical-align: top;\n",
              "    }\n",
              "\n",
              "    .dataframe thead th {\n",
              "        text-align: right;\n",
              "    }\n",
              "</style>\n",
              "<table border=\"1\" class=\"dataframe\">\n",
              "  <thead>\n",
              "    <tr style=\"text-align: right;\">\n",
              "      <th></th>\n",
              "      <th>Shad</th>\n",
              "    </tr>\n",
              "  </thead>\n",
              "  <tbody>\n",
              "    <tr>\n",
              "      <th>0</th>\n",
              "      <td>A1</td>\n",
              "    </tr>\n",
              "    <tr>\n",
              "      <th>1</th>\n",
              "      <td>A1</td>\n",
              "    </tr>\n",
              "    <tr>\n",
              "      <th>2</th>\n",
              "      <td>A1</td>\n",
              "    </tr>\n",
              "    <tr>\n",
              "      <th>3</th>\n",
              "      <td>A1</td>\n",
              "    </tr>\n",
              "    <tr>\n",
              "      <th>4</th>\n",
              "      <td>A1</td>\n",
              "    </tr>\n",
              "    <tr>\n",
              "      <th>...</th>\n",
              "      <td>...</td>\n",
              "    </tr>\n",
              "    <tr>\n",
              "      <th>795</th>\n",
              "      <td>D4</td>\n",
              "    </tr>\n",
              "    <tr>\n",
              "      <th>796</th>\n",
              "      <td>D4</td>\n",
              "    </tr>\n",
              "    <tr>\n",
              "      <th>797</th>\n",
              "      <td>D4</td>\n",
              "    </tr>\n",
              "    <tr>\n",
              "      <th>798</th>\n",
              "      <td>D4</td>\n",
              "    </tr>\n",
              "    <tr>\n",
              "      <th>799</th>\n",
              "      <td>D4</td>\n",
              "    </tr>\n",
              "  </tbody>\n",
              "</table>\n",
              "<p>4050 rows × 1 columns</p>\n",
              "</div>\n",
              "      <button class=\"colab-df-convert\" onclick=\"convertToInteractive('df-d0700ddc-2492-4cf6-8985-fe3b3c58e462')\"\n",
              "              title=\"Convert this dataframe to an interactive table.\"\n",
              "              style=\"display:none;\">\n",
              "        \n",
              "  <svg xmlns=\"http://www.w3.org/2000/svg\" height=\"24px\"viewBox=\"0 0 24 24\"\n",
              "       width=\"24px\">\n",
              "    <path d=\"M0 0h24v24H0V0z\" fill=\"none\"/>\n",
              "    <path d=\"M18.56 5.44l.94 2.06.94-2.06 2.06-.94-2.06-.94-.94-2.06-.94 2.06-2.06.94zm-11 1L8.5 8.5l.94-2.06 2.06-.94-2.06-.94L8.5 2.5l-.94 2.06-2.06.94zm10 10l.94 2.06.94-2.06 2.06-.94-2.06-.94-.94-2.06-.94 2.06-2.06.94z\"/><path d=\"M17.41 7.96l-1.37-1.37c-.4-.4-.92-.59-1.43-.59-.52 0-1.04.2-1.43.59L10.3 9.45l-7.72 7.72c-.78.78-.78 2.05 0 2.83L4 21.41c.39.39.9.59 1.41.59.51 0 1.02-.2 1.41-.59l7.78-7.78 2.81-2.81c.8-.78.8-2.07 0-2.86zM5.41 20L4 18.59l7.72-7.72 1.47 1.35L5.41 20z\"/>\n",
              "  </svg>\n",
              "      </button>\n",
              "      \n",
              "  <style>\n",
              "    .colab-df-container {\n",
              "      display:flex;\n",
              "      flex-wrap:wrap;\n",
              "      gap: 12px;\n",
              "    }\n",
              "\n",
              "    .colab-df-convert {\n",
              "      background-color: #E8F0FE;\n",
              "      border: none;\n",
              "      border-radius: 50%;\n",
              "      cursor: pointer;\n",
              "      display: none;\n",
              "      fill: #1967D2;\n",
              "      height: 32px;\n",
              "      padding: 0 0 0 0;\n",
              "      width: 32px;\n",
              "    }\n",
              "\n",
              "    .colab-df-convert:hover {\n",
              "      background-color: #E2EBFA;\n",
              "      box-shadow: 0px 1px 2px rgba(60, 64, 67, 0.3), 0px 1px 3px 1px rgba(60, 64, 67, 0.15);\n",
              "      fill: #174EA6;\n",
              "    }\n",
              "\n",
              "    [theme=dark] .colab-df-convert {\n",
              "      background-color: #3B4455;\n",
              "      fill: #D2E3FC;\n",
              "    }\n",
              "\n",
              "    [theme=dark] .colab-df-convert:hover {\n",
              "      background-color: #434B5C;\n",
              "      box-shadow: 0px 1px 3px 1px rgba(0, 0, 0, 0.15);\n",
              "      filter: drop-shadow(0px 1px 2px rgba(0, 0, 0, 0.3));\n",
              "      fill: #FFFFFF;\n",
              "    }\n",
              "  </style>\n",
              "\n",
              "      <script>\n",
              "        const buttonEl =\n",
              "          document.querySelector('#df-d0700ddc-2492-4cf6-8985-fe3b3c58e462 button.colab-df-convert');\n",
              "        buttonEl.style.display =\n",
              "          google.colab.kernel.accessAllowed ? 'block' : 'none';\n",
              "\n",
              "        async function convertToInteractive(key) {\n",
              "          const element = document.querySelector('#df-d0700ddc-2492-4cf6-8985-fe3b3c58e462');\n",
              "          const dataTable =\n",
              "            await google.colab.kernel.invokeFunction('convertToInteractive',\n",
              "                                                     [key], {});\n",
              "          if (!dataTable) return;\n",
              "\n",
              "          const docLinkHtml = 'Like what you see? Visit the ' +\n",
              "            '<a target=\"_blank\" href=https://colab.research.google.com/notebooks/data_table.ipynb>data table notebook</a>'\n",
              "            + ' to learn more about interactive tables.';\n",
              "          element.innerHTML = '';\n",
              "          dataTable['output_type'] = 'display_data';\n",
              "          await google.colab.output.renderOutput(dataTable, element);\n",
              "          const docLink = document.createElement('div');\n",
              "          docLink.innerHTML = docLinkHtml;\n",
              "          element.appendChild(docLink);\n",
              "        }\n",
              "      </script>\n",
              "    </div>\n",
              "  </div>\n",
              "  "
            ]
          },
          "metadata": {},
          "execution_count": 238
        }
      ]
    },
    {
      "cell_type": "code",
      "source": [
        "y_test_A2_RGB_s5 = np.array(table_A2Set5['Shad']])"
      ],
      "metadata": {
        "id": "PvhwYWtyQbhW"
      },
      "execution_count": 198,
      "outputs": []
    },
    {
      "cell_type": "code",
      "source": [
        "y_test_A2_RGB_s5.shape = (len(y_test_A2_RGB_s5),)   "
      ],
      "metadata": {
        "id": "yBTAoeZXUEH2"
      },
      "execution_count": 199,
      "outputs": []
    },
    {
      "cell_type": "code",
      "source": [
        "le_Dense = LabelEncoder() "
      ],
      "metadata": {
        "id": "IsQD1l1uUF4X"
      },
      "execution_count": 201,
      "outputs": []
    },
    {
      "cell_type": "code",
      "source": [
        "y_test_A2_RGB_s5 = le_Dense.fit_transform(y_test_A2_RGB_s5) "
      ],
      "metadata": {
        "id": "wVT_BQivUKKR"
      },
      "execution_count": 202,
      "outputs": []
    },
    {
      "cell_type": "code",
      "source": [
        "y_test_A2_RGB_s5 = to_categorical(y_test_A2_RGB_s5, num_classes=16)"
      ],
      "metadata": {
        "id": "Fd5wT42aULLg"
      },
      "execution_count": 207,
      "outputs": []
    },
    {
      "cell_type": "code",
      "source": [
        "y_pred_A2_RGB_s5 = new_data.predict(X_test_A2_RGB_s5)"
      ],
      "metadata": {
        "id": "dzerY89EyoHF"
      },
      "execution_count": 227,
      "outputs": []
    },
    {
      "cell_type": "code",
      "source": [
        "y_pred_A2_RGB_s5"
      ],
      "metadata": {
        "colab": {
          "base_uri": "https://localhost:8080/"
        },
        "id": "E_snJngNZ6n3",
        "outputId": "1be52c16-8517-402e-bdfe-2ccd889ccfbc"
      },
      "execution_count": 228,
      "outputs": [
        {
          "output_type": "execute_result",
          "data": {
            "text/plain": [
              "array(['B1', 'B1', 'B1', 'B1', 'B1', 'B1', 'B1', 'B1', 'B1', 'B1', 'C1',\n",
              "       'C1', 'C1', 'C1', 'B2', 'C1', 'B2', 'C1', 'C1', 'B2', 'A2', 'A2',\n",
              "       'B2', 'A3', 'A3', 'A3', 'A2', 'A3', 'B3', 'B3', 'B3', 'D3', 'D3',\n",
              "       'A3.5', 'A3.5', 'B3', 'B3', 'A3.5', 'A3.5', 'B3', 'A4', 'C3', 'A4',\n",
              "       'C3', 'D3', 'A4', 'C3', 'A4', 'A4', 'C3', 'B1', 'B1', 'B1', 'B1',\n",
              "       'B1', 'B1', 'B1', 'B1', 'B1', 'B1', 'B1', 'D3', 'B3', 'C1', 'B3',\n",
              "       'B2', 'C2', 'D3', 'D3', 'D3', 'B3', 'B3', 'B3', 'B3', 'B3', 'B3',\n",
              "       'B3', 'B3', 'A3', 'B3', 'B3', 'B3', 'B3', 'B3', 'B3', 'B3', 'B3',\n",
              "       'B3', 'B3', 'B3', 'C1', 'C1', 'C1', 'C1', 'C1', 'C1', 'B1', 'B1',\n",
              "       'B1', 'B1', 'D2', 'D2', 'D2', 'D2', 'D2', 'D2', 'D2', 'C2', 'D2',\n",
              "       'D2', 'C2', 'C2', 'C2', 'C2', 'C2', 'C2', 'C2', 'C2', 'C2', 'C2',\n",
              "       'A4', 'A4', 'C4', 'A4', 'A4', 'A4', 'A4', 'A4', 'A4', 'A4', 'C1',\n",
              "       'C1', 'C1', 'C1', 'C1', 'C1', 'C1', 'C1', 'C1', 'C1', 'B3', 'B3',\n",
              "       'D3', 'C2', 'D4', 'B3', 'C2', 'D3', 'B3', 'D2', 'B3', 'B3', 'B3',\n",
              "       'B3', 'B3', 'B3', 'C2', 'C2', 'D2', 'B3', 'B1', 'B1', 'B1', 'B1',\n",
              "       'B1', 'B1', 'B1', 'B1', 'B1', 'B1', 'C1', 'C1', 'C1', 'C1', 'C1',\n",
              "       'C1', 'A1', 'C1', 'C1', 'B2', 'A2', 'A2', 'B2', 'A3', 'A3', 'A3',\n",
              "       'A2', 'A3', 'B3', 'B3', 'B3', 'D3', 'D3', 'A3.5', 'A3.5', 'B3',\n",
              "       'B3', 'A3.5', 'A3.5', 'B3', 'A4', 'C3', 'A4', 'C3', 'C3', 'A4',\n",
              "       'C3', 'A4', 'A4', 'C3', 'B1', 'B1', 'B1', 'B1', 'B1', 'B1', 'B1',\n",
              "       'B1', 'B1', 'B1', 'B1', 'D3', 'B3', 'C1', 'B3', 'B2', 'D3', 'D3',\n",
              "       'D3', 'D3', 'A3', 'B3', 'B3', 'B3', 'B3', 'B3', 'B3', 'B3', 'A3',\n",
              "       'B3', 'B3', 'B3', 'B3', 'B3', 'B3', 'B3', 'B3', 'B3', 'B3', 'B3',\n",
              "       'C1', 'C1', 'C1', 'C1', 'C1', 'C1', 'B1', 'B1', 'B1', 'B1', 'D2',\n",
              "       'D2', 'D2', 'D2', 'D2', 'D2', 'D2', 'C2', 'D2', 'D2', 'C2', 'C2',\n",
              "       'C2', 'C2', 'C2', 'C2', 'C2', 'C2', 'C2', 'C2', 'A4', 'A4', 'C4',\n",
              "       'A4', 'A4', 'A4', 'A4', 'A4', 'A4', 'A4', 'C1', 'C1', 'C1', 'C1',\n",
              "       'C1', 'C1', 'C1', 'C1', 'C1', 'C1', 'B3', 'B3', 'C2', 'C2', 'D4',\n",
              "       'B3', 'C2', 'D3', 'B3', 'D2', 'B3', 'D2', 'B3', 'B3', 'B3', 'B3',\n",
              "       'C2', 'C2', 'B3', 'B3', 'B1', 'B1', 'B1', 'B1', 'C1', 'B1', 'B1',\n",
              "       'B1', 'B1', 'B1', 'C1', 'C1', 'C1', 'C1', 'B2', 'C1', 'C1', 'B2',\n",
              "       'C1', 'B2', 'A3', 'A3', 'A3', 'A3', 'A3', 'A3', 'A3', 'A3', 'A3',\n",
              "       'A3', 'B3', 'D3', 'B3', 'A3.5', 'A3.5', 'B3', 'B3', 'A3.5', 'A3.5',\n",
              "       'B3', 'A4', 'A4', 'A4', 'A4', 'A4', 'A4', 'A4', 'A4', 'A4', 'A4',\n",
              "       'B1', 'B1', 'B1', 'B1', 'B1', 'B1', 'B1', 'B1', 'B1', 'B1', 'C1',\n",
              "       'A1', 'B2', 'C1', 'B2', 'B2', 'D3', 'A1', 'A1', 'A1', 'B3', 'B3',\n",
              "       'B3', 'B3', 'B3', 'B3', 'B3', 'B3', 'A3', 'B3', 'B3', 'B3', 'B3',\n",
              "       'B3', 'B4', 'B4', 'B3', 'B3', 'B3', 'B3', 'C1', 'C1', 'C1', 'C1',\n",
              "       'C1', 'C1', 'C1', 'C1', 'C1', 'C1', 'C2', 'C2', 'C2', 'C2', 'C2',\n",
              "       'C2', 'C2', 'C2', 'C2', 'C2', 'C2', 'C2', 'C2', 'C2', 'C2', 'C2',\n",
              "       'C2', 'C2', 'C2', 'C2', 'A4', 'A4', 'C4', 'A4', 'A4', 'A4', 'A4',\n",
              "       'A4', 'A4', 'A4', 'C1', 'C1', 'C1', 'C1', 'C1', 'C1', 'C1', 'C1',\n",
              "       'C1', 'C1', 'D4', 'D4', 'C2', 'C2', 'C2', 'C2', 'C2', 'D3', 'B3',\n",
              "       'B3', 'C2', 'C2', 'C2', 'C2', 'D4', 'C2', 'C2', 'C2', 'C2', 'C2',\n",
              "       'B1', 'B1', 'B1', 'C1', 'C1', 'B1', 'B1', 'B1', 'B1', 'B1', 'C1',\n",
              "       'C1', 'C1', 'C1', 'B2', 'C1', 'B2', 'B2', 'C1', 'A2', 'A3', 'A3',\n",
              "       'A3', 'A3', 'A3', 'A3', 'A3', 'A3', 'A3', 'A3', 'B4', 'B4', 'B4',\n",
              "       'A3.5', 'A3.5', 'B3', 'B3', 'A3.5', 'A3.5', 'B4', 'A4', 'A4', 'A4',\n",
              "       'A4', 'A4', 'A4', 'A4', 'A4', 'A4', 'A4', 'B1', 'B1', 'B1', 'B1',\n",
              "       'B1', 'B1', 'B1', 'B1', 'B1', 'B1', 'C1', 'A1', 'B2', 'C1', 'B2',\n",
              "       'C1', 'A1', 'A1', 'B2', 'A1', 'B3', 'B3', 'B3', 'B3', 'B3', 'B3',\n",
              "       'B3', 'B3', 'B3', 'B3', 'A3.5', 'B3', 'B3', 'B4', 'B4', 'B4', 'B3',\n",
              "       'B4', 'B4', 'B4', 'C1', 'C1', 'C1', 'C1', 'C1', 'C1', 'C1', 'C1',\n",
              "       'C1', 'C1', 'C2', 'C2', 'C2', 'C2', 'C2', 'C2', 'C2', 'C2', 'C2',\n",
              "       'C2', 'C2', 'C2', 'C2', 'C2', 'C2', 'C2', 'C2', 'C2', 'C2', 'C2',\n",
              "       'A4', 'A4', 'A4', 'A4', 'A4', 'C4', 'A4', 'A4', 'A4', 'A4', 'C1',\n",
              "       'C1', 'C1', 'C1', 'C1', 'C1', 'C1', 'C1', 'C1', 'C1', 'C2', 'C2',\n",
              "       'C2', 'C2', 'C2', 'C2', 'C2', 'C2', 'C2', 'C2', 'C2', 'C2', 'C2',\n",
              "       'C2', 'C2', 'C2', 'C2', 'C2', 'C2', 'C2', 'B1', 'C1', 'B1', 'C1',\n",
              "       'C1', 'B1', 'C1', 'B1', 'B1', 'C1', 'B2', 'B2', 'B2', 'B2', 'A3',\n",
              "       'C1', 'C1', 'C1', 'C1', 'A2', 'A3', 'A3', 'A3', 'A3', 'A3', 'A3',\n",
              "       'A3', 'A3', 'A3', 'A3', 'A3.5', 'B4', 'A3.5', 'A3.5', 'A3.5',\n",
              "       'A3.5', 'A3.5', 'A3.5', 'A3.5', 'A3.5', 'A4', 'A4', 'A4', 'A4',\n",
              "       'A4', 'A4', 'A4', 'A4', 'A4', 'A4', 'B1', 'B1', 'B1', 'B1', 'B1',\n",
              "       'B1', 'B1', 'B1', 'B1', 'B1', 'C1', 'C1', 'B2', 'C1', 'B2', 'C1',\n",
              "       'B2', 'C1', 'B2', 'C1', 'B3', 'B3', 'B3', 'B3', 'B3', 'B3', 'A3.5',\n",
              "       'B3', 'B3', 'B3', 'A3.5', 'A3.5', 'A3.5', 'B3', 'A3.5', 'A3.5',\n",
              "       'B3', 'B3', 'A3.5', 'B3', 'C1', 'C1', 'C1', 'C1', 'C1', 'C1', 'C1',\n",
              "       'C1', 'C1', 'C1', 'C2', 'C2', 'C2', 'C2', 'C2', 'C2', 'C2', 'C2',\n",
              "       'C2', 'C2', 'C2', 'C2', 'C2', 'C2', 'C2', 'C2', 'C2', 'C2', 'C2',\n",
              "       'C2', 'C4', 'A4', 'A4', 'A4', 'A4', 'C4', 'A4', 'A4', 'A4', 'A4',\n",
              "       'C1', 'C1', 'C1', 'C1', 'C1', 'C1', 'C1', 'C1', 'C1', 'C1', 'C2',\n",
              "       'C2', 'C2', 'C2', 'C2', 'C2', 'C2', 'C2', 'C2', 'C2', 'C2', 'C2',\n",
              "       'C2', 'C2', 'C2', 'C2', 'C2', 'C2', 'C2', 'C2'], dtype=object)"
            ]
          },
          "metadata": {},
          "execution_count": 228
        }
      ]
    },
    {
      "cell_type": "code",
      "source": [
        "print(\"Accuracy:\", metrics.accuracy_score(y_test_A2_RGB_s5, y_pred_A2_RGB_s5))"
      ],
      "metadata": {
        "colab": {
          "base_uri": "https://localhost:8080/"
        },
        "outputId": "bfcec3ba-49b0-4eeb-ec7f-a9ca3dba0365",
        "id": "X7zhZO_EyoHF"
      },
      "execution_count": 210,
      "outputs": [
        {
          "output_type": "stream",
          "name": "stdout",
          "text": [
            "Accuracy: 0.38125\n"
          ]
        }
      ]
    },
    {
      "cell_type": "code",
      "source": [
        "y_pred2_A2_RGB_s5 = le_Dense.fit_transform(y_pred_A2_RGB_s5) "
      ],
      "metadata": {
        "id": "vgGGdTupWbss"
      },
      "execution_count": 229,
      "outputs": []
    },
    {
      "cell_type": "code",
      "source": [
        "y_pred2_A2_RGB_s5 = to_categorical(y_pred2_A2_RGB_s5, num_classes=16)"
      ],
      "metadata": {
        "id": "op6kgGy3W-bz"
      },
      "execution_count": 230,
      "outputs": []
    },
    {
      "cell_type": "code",
      "source": [
        "from sklearn.preprocessing import LabelEncoder\n",
        "\n",
        "from tensorflow.keras.utils import to_categorical"
      ],
      "metadata": {
        "id": "fJmO1aCPQ9u-"
      },
      "execution_count": 187,
      "outputs": []
    },
    {
      "cell_type": "code",
      "source": [
        "# labels_Dense = np.array(y_A2_RGB_s5)        \n",
        "\n",
        "# labels_Dense.shape = (len(labels_Dense),)   \n",
        "\n",
        "# le_Dense = LabelEncoder()  \n",
        "\n",
        "# labels_Dense = le_Dense.fit_transform(labels_Dense)                                         \n",
        "\n",
        "# labels_Dense = to_categorical(labels_Dense, num_classes=2)   "
      ],
      "metadata": {
        "id": "C74MKCXEPw53"
      },
      "execution_count": null,
      "outputs": []
    },
    {
      "cell_type": "markdown",
      "source": [
        "##confusion"
      ],
      "metadata": {
        "id": "Q-JnUa5cNbYg"
      }
    },
    {
      "cell_type": "code",
      "source": [
        "import matplotlib.pyplot as plt\n",
        "import matplotlib.image as mpimg\n",
        "from matplotlib.pyplot import savefig\n",
        "import itertools\n",
        "from sklearn.metrics import confusion_matrix\n",
        "from sklearn.utils.multiclass import unique_labels"
      ],
      "metadata": {
        "id": "D5DUOB7fNbBi"
      },
      "execution_count": 176,
      "outputs": []
    },
    {
      "cell_type": "code",
      "source": [
        "y_pred2_A2_RGB_s5.ndim"
      ],
      "metadata": {
        "colab": {
          "base_uri": "https://localhost:8080/"
        },
        "id": "rzUDT_w6ZXVi",
        "outputId": "ff0e7026-392c-48de-ccc5-ee591930814d"
      },
      "execution_count": 221,
      "outputs": [
        {
          "output_type": "execute_result",
          "data": {
            "text/plain": [
              "2"
            ]
          },
          "metadata": {},
          "execution_count": 221
        }
      ]
    },
    {
      "cell_type": "code",
      "source": [
        "y_test_A2_RGB_s5.shape = (len(y_test_A2_RGB_s5),1)  "
      ],
      "metadata": {
        "id": "NNi17ckYZpv9"
      },
      "execution_count": 224,
      "outputs": []
    },
    {
      "cell_type": "code",
      "source": [
        "y_test_A2_RGB_s5.ndim"
      ],
      "metadata": {
        "colab": {
          "base_uri": "https://localhost:8080/"
        },
        "id": "LAqVdVX5ZcbW",
        "outputId": "5f1a550a-efdb-4e69-bee4-f1e3ba890da9"
      },
      "execution_count": 225,
      "outputs": [
        {
          "output_type": "execute_result",
          "data": {
            "text/plain": [
              "2"
            ]
          },
          "metadata": {},
          "execution_count": 225
        }
      ]
    },
    {
      "cell_type": "code",
      "source": [
        "y_pred = y_pred2_A2_RGB_s5.argmax(axis=1)          #ค่า predict \n",
        "y_true  = y_test_A2_RGB_s5.argmax(axis=1)\n",
        "y_test = y_test_A2_RGB_s5.argmax(axis=1)\n",
        "class_names = le_Dense.classes_                          # ชื่อคลาสว่ามีไรบ้าง --> ['Abnormal' , 'Normal]\n",
        "\n",
        "\n",
        "def plot_confusion_matrix(y_true, y_pred, classes,\n",
        "                          normalize=False,\n",
        "                          title=None,\n",
        "                          cmap=plt.cm.OrRd):\n",
        "    \"\"\"\n",
        "    This function prints and plots the confusion matrix.\n",
        "    Normalization can be applied by setting normalize=True.\n",
        "    \"\"\"\n",
        "    if not title:\n",
        "        if normalize:\n",
        "            title = 'Normalized confusion matrix'\n",
        "        else:\n",
        "            title = 'Confusion matrix, without normalization'\n",
        "\n",
        "    # Compute confusion matrix\n",
        "    cm = confusion_matrix(y_true, y_pred)\n",
        "    # Only use the labels that appear in the data\n",
        "    classes = classes[unique_labels(y_true, y_pred)]\n",
        "    if normalize:\n",
        "        cm = cm.astype('float') / cm.sum(axis=1)[:, np.newaxis]\n",
        "        print(\"Normalized confusion matrix\")\n",
        "    else:\n",
        "        print('Confusion matrix, without normalization')\n",
        "\n",
        "    print(cm)\n",
        "\n",
        "    fig, ax = plt.subplots()\n",
        "    im = ax.imshow(cm, interpolation='nearest', cmap=cmap)\n",
        "    ax.figure.colorbar(im, ax=ax)\n",
        "    # We want to show all ticks...\n",
        "    ax.set(xticks=np.arange(cm.shape[1]),\n",
        "           yticks=np.arange(cm.shape[0]),\n",
        "           # ... and label them with the respective list entries\n",
        "           xticklabels=classes, yticklabels=classes,\n",
        "           title=title,\n",
        "           ylabel='True label',\n",
        "           xlabel='Predicted label')\n",
        "\n",
        "    # Rotate the tick labels and set their alignment.\n",
        "    plt.setp(ax.get_xticklabels(), rotation=45, ha=\"right\",\n",
        "             rotation_mode=\"anchor\")\n",
        "\n",
        "    # Loop over data dimensions and create text annotations.\n",
        "    fmt = '.2f' if normalize else 'd'\n",
        "    thresh = cm.max() / 2.\n",
        "    for i in range(cm.shape[0]):\n",
        "        for j in range(cm.shape[1]):\n",
        "            ax.text(j, i, format(cm[i, j], fmt),\n",
        "                    ha=\"center\", va=\"center\",\n",
        "                    color=\"white\" if cm[i, j] > thresh else \"black\")\n",
        "    fig.tight_layout()\n",
        "    return ax\n",
        "\n",
        "\n",
        "np.set_printoptions(precision=2)\n",
        "\n",
        "# Plot non-normalized confusion matrix\n",
        "plot_confusion_matrix(y_true, y_pred, classes=class_names,\n",
        "                      title='Confusion matrix, without normalization')\n",
        "\n",
        "# Plot normalized confusion matrix\n",
        "plot_confusion_matrix(y_true, y_pred, classes=class_names, normalize=True,\n",
        "                      title='Normalized confusion matrix')\n",
        "\n",
        "plt.show()"
      ],
      "metadata": {
        "colab": {
          "base_uri": "https://localhost:8080/",
          "height": 1000
        },
        "id": "dTbdkbwZMpDp",
        "outputId": "82067548-db87-4735-f19e-375478c0c525"
      },
      "execution_count": 237,
      "outputs": [
        {
          "output_type": "stream",
          "name": "stdout",
          "text": [
            "Confusion matrix, without normalization\n",
            "[[  9   8  43  33  84 102  28 127  13 145 146   9   6  22  20   5]\n",
            " [  0   0   0   0   0   0   0   0   0   0   0   0   0   0   0   0]\n",
            " [  0   0   0   0   0   0   0   0   0   0   0   0   0   0   0   0]\n",
            " [  0   0   0   0   0   0   0   0   0   0   0   0   0   0   0   0]\n",
            " [  0   0   0   0   0   0   0   0   0   0   0   0   0   0   0   0]\n",
            " [  0   0   0   0   0   0   0   0   0   0   0   0   0   0   0   0]\n",
            " [  0   0   0   0   0   0   0   0   0   0   0   0   0   0   0   0]\n",
            " [  0   0   0   0   0   0   0   0   0   0   0   0   0   0   0   0]\n",
            " [  0   0   0   0   0   0   0   0   0   0   0   0   0   0   0   0]\n",
            " [  0   0   0   0   0   0   0   0   0   0   0   0   0   0   0   0]\n",
            " [  0   0   0   0   0   0   0   0   0   0   0   0   0   0   0   0]\n",
            " [  0   0   0   0   0   0   0   0   0   0   0   0   0   0   0   0]\n",
            " [  0   0   0   0   0   0   0   0   0   0   0   0   0   0   0   0]\n",
            " [  0   0   0   0   0   0   0   0   0   0   0   0   0   0   0   0]\n",
            " [  0   0   0   0   0   0   0   0   0   0   0   0   0   0   0   0]\n",
            " [  0   0   0   0   0   0   0   0   0   0   0   0   0   0   0   0]]\n"
          ]
        },
        {
          "output_type": "stream",
          "name": "stderr",
          "text": [
            "/usr/local/lib/python3.7/dist-packages/ipykernel_launcher.py:26: RuntimeWarning: invalid value encountered in true_divide\n"
          ]
        },
        {
          "output_type": "stream",
          "name": "stdout",
          "text": [
            "Normalized confusion matrix\n",
            "[[0.01 0.01 0.05 0.04 0.1  0.13 0.04 0.16 0.02 0.18 0.18 0.01 0.01 0.03\n",
            "  0.03 0.01]\n",
            " [ nan  nan  nan  nan  nan  nan  nan  nan  nan  nan  nan  nan  nan  nan\n",
            "   nan  nan]\n",
            " [ nan  nan  nan  nan  nan  nan  nan  nan  nan  nan  nan  nan  nan  nan\n",
            "   nan  nan]\n",
            " [ nan  nan  nan  nan  nan  nan  nan  nan  nan  nan  nan  nan  nan  nan\n",
            "   nan  nan]\n",
            " [ nan  nan  nan  nan  nan  nan  nan  nan  nan  nan  nan  nan  nan  nan\n",
            "   nan  nan]\n",
            " [ nan  nan  nan  nan  nan  nan  nan  nan  nan  nan  nan  nan  nan  nan\n",
            "   nan  nan]\n",
            " [ nan  nan  nan  nan  nan  nan  nan  nan  nan  nan  nan  nan  nan  nan\n",
            "   nan  nan]\n",
            " [ nan  nan  nan  nan  nan  nan  nan  nan  nan  nan  nan  nan  nan  nan\n",
            "   nan  nan]\n",
            " [ nan  nan  nan  nan  nan  nan  nan  nan  nan  nan  nan  nan  nan  nan\n",
            "   nan  nan]\n",
            " [ nan  nan  nan  nan  nan  nan  nan  nan  nan  nan  nan  nan  nan  nan\n",
            "   nan  nan]\n",
            " [ nan  nan  nan  nan  nan  nan  nan  nan  nan  nan  nan  nan  nan  nan\n",
            "   nan  nan]\n",
            " [ nan  nan  nan  nan  nan  nan  nan  nan  nan  nan  nan  nan  nan  nan\n",
            "   nan  nan]\n",
            " [ nan  nan  nan  nan  nan  nan  nan  nan  nan  nan  nan  nan  nan  nan\n",
            "   nan  nan]\n",
            " [ nan  nan  nan  nan  nan  nan  nan  nan  nan  nan  nan  nan  nan  nan\n",
            "   nan  nan]\n",
            " [ nan  nan  nan  nan  nan  nan  nan  nan  nan  nan  nan  nan  nan  nan\n",
            "   nan  nan]\n",
            " [ nan  nan  nan  nan  nan  nan  nan  nan  nan  nan  nan  nan  nan  nan\n",
            "   nan  nan]]\n"
          ]
        },
        {
          "output_type": "display_data",
          "data": {
            "text/plain": [
              "<Figure size 432x288 with 2 Axes>"
            ],
            "image/png": "[encoded data removed]"
          },
          "metadata": {
            "needs_background": "light"
          }
        },
        {
          "output_type": "display_data",
          "data": {
            "text/plain": [
              "<Figure size 432x288 with 2 Axes>"
            ],
            "image/png": "[encoded data removed]"
          },
          "metadata": {
            "needs_background": "light"
          }
        }
      ]
    }
  ]
}