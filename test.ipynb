{
  "nbformat": 4,
  "nbformat_minor": 0,
  "metadata": {
    "colab": {
      "name": "test.ipynb",
      "provenance": [],
      "authorship_tag": "ABX9TyPEkNEL/pBfmBZEJVU5YmFa",
      "include_colab_link": true
    },
    "kernelspec": {
      "name": "python3",
      "display_name": "Python 3"
    },
    "language_info": {
      "name": "python"
    }
  },
  "cells": [
    {
      "cell_type": "markdown",
      "metadata": {
        "id": "view-in-github",
        "colab_type": "text"
      },
      "source": [
        "<a href=\"https://colab.research.google.com/github/Kggzzz/Project_2021_matchingcolor/blob/main/test.ipynb\" target=\"_parent\"><img src=\"https://colab.research.google.com/assets/colab-badge.svg\" alt=\"Open In Colab\"/></a>"
      ]
    },
    {
      "cell_type": "markdown",
      "source": [
        "##Import"
      ],
      "metadata": {
        "id": "uDFGaFgy6jZn"
      }
    },
    {
      "cell_type": "code",
      "execution_count": 1,
      "metadata": {
        "id": "P4nVlCL95YFc"
      },
      "outputs": [],
      "source": [
        "import numpy as np\n",
        "from sklearn import metrics\n",
        "from sklearn import datasets\n",
        "from sklearn.ensemble import RandomForestClassifier\n",
        "import pandas as pd\n",
        "import pickle"
      ]
    },
    {
      "cell_type": "code",
      "source": [
        "from sklearn.preprocessing import LabelEncoder\n",
        "\n",
        "from tensorflow.keras.utils import to_categorical"
      ],
      "metadata": {
        "id": "fJmO1aCPQ9u-"
      },
      "execution_count": 36,
      "outputs": []
    },
    {
      "cell_type": "code",
      "source": [
        "from google.colab import drive \n",
        "drive.mount('/content/drive')"
      ],
      "metadata": {
        "colab": {
          "base_uri": "https://localhost:8080/"
        },
        "id": "EClLZeMW6rEz",
        "outputId": "48168f57-5c31-4fdc-915c-0c829566fe1d"
      },
      "execution_count": 2,
      "outputs": [
        {
          "output_type": "stream",
          "name": "stdout",
          "text": [
            "Mounted at /content/drive\n"
          ]
        }
      ]
    },
    {
      "cell_type": "code",
      "source": [
        "import os"
      ],
      "metadata": {
        "id": "Npr_KwCZ6sP2"
      },
      "execution_count": 3,
      "outputs": []
    },
    {
      "cell_type": "markdown",
      "source": [
        "##Prepare data "
      ],
      "metadata": {
        "id": "pfNKwVmC69_8"
      }
    },
    {
      "cell_type": "code",
      "source": [
        "path = '/content/drive/My Drive/shadeimg/SVM shade'"
      ],
      "metadata": {
        "id": "Al3OE2Qm6tNZ"
      },
      "execution_count": 4,
      "outputs": []
    },
    {
      "cell_type": "code",
      "source": [
        "os.listdir(path)"
      ],
      "metadata": {
        "colab": {
          "base_uri": "https://localhost:8080/"
        },
        "id": "zFyXUjOaESuT",
        "outputId": "4fe5a8c1-3a9b-4a53-e404-0e90446cc548"
      },
      "execution_count": 5,
      "outputs": [
        {
          "output_type": "execute_result",
          "data": {
            "text/plain": [
              "['DD.xlsx',\n",
              " 'CC.xlsx',\n",
              " 'BB.xlsx',\n",
              " 'Shade_AA.xlsx',\n",
              " 'Shade_CC.xlsx',\n",
              " 'Shade_DD.xlsx',\n",
              " 'Shade_BB.xlsx',\n",
              " 'AA.xlsx',\n",
              " 'AA_2.xlsx',\n",
              " 'Shad_A.xlsx',\n",
              " 'Shad_B.xlsx',\n",
              " 'Shad_C.xlsx',\n",
              " 'Shad_D.xlsx',\n",
              " 'Setting4.xlsx',\n",
              " 'Color-checkerAA.xlsx',\n",
              " 'Color-checkerBB.xlsx',\n",
              " 'Color-checkerCC.xlsx',\n",
              " 'Setting2.xlsx',\n",
              " 'D3set51.csv',\n",
              " 'Setting1.xlsx',\n",
              " 'CheckerDD.xlsx',\n",
              " 'Setting3.xlsx',\n",
              " 'Setting6.xlsx',\n",
              " 'Setting5.xlsx',\n",
              " 'checkerShad_A .xlsx',\n",
              " 'checkerShad_B.xlsx',\n",
              " 'checkerShad_C.xlsx',\n",
              " 'D3Set5-61.xlsx',\n",
              " 'checkerShad_D.xlsx',\n",
              " 'Color-checkerDD.xlsx',\n",
              " 'Datapoint_1.xlsx',\n",
              " 'Datapoint_2.xlsx',\n",
              " 'Datapoint_3.xlsx',\n",
              " 'Datapoint_4.xlsx',\n",
              " 'Datapoint_6.xlsx',\n",
              " 'Datapoint_5.xlsx']"
            ]
          },
          "metadata": {},
          "execution_count": 5
        }
      ]
    },
    {
      "cell_type": "code",
      "source": [
        "Set1 = os.path.join(path,'Datapoint_1.xlsx')\n",
        "print(Set1)"
      ],
      "metadata": {
        "colab": {
          "base_uri": "https://localhost:8080/"
        },
        "id": "HOF2Yicm6tyw",
        "outputId": "aa21c1c0-d3d5-4abb-c515-85ee9d816e8b"
      },
      "execution_count": 6,
      "outputs": [
        {
          "output_type": "stream",
          "name": "stdout",
          "text": [
            "/content/drive/My Drive/shadeimg/SVM shade/Datapoint_1.xlsx\n"
          ]
        }
      ]
    },
    {
      "cell_type": "code",
      "source": [
        "Set2 = os.path.join(path,'Datapoint_2.xlsx')\n",
        "print(Set2)"
      ],
      "metadata": {
        "colab": {
          "base_uri": "https://localhost:8080/"
        },
        "id": "RZQ7uaBT6vaC",
        "outputId": "81687f84-c7d5-498b-b3a5-86eef6b8ddaa"
      },
      "execution_count": 7,
      "outputs": [
        {
          "output_type": "stream",
          "name": "stdout",
          "text": [
            "/content/drive/My Drive/shadeimg/SVM shade/Datapoint_2.xlsx\n"
          ]
        }
      ]
    },
    {
      "cell_type": "code",
      "source": [
        "Set3 = os.path.join(path,'Datapoint_3.xlsx')\n",
        "print(Set3)"
      ],
      "metadata": {
        "colab": {
          "base_uri": "https://localhost:8080/"
        },
        "id": "nUTukQTS6wdT",
        "outputId": "9d54c7c2-5284-47cf-ef86-af5f23db8185"
      },
      "execution_count": 8,
      "outputs": [
        {
          "output_type": "stream",
          "name": "stdout",
          "text": [
            "/content/drive/My Drive/shadeimg/SVM shade/Datapoint_3.xlsx\n"
          ]
        }
      ]
    },
    {
      "cell_type": "code",
      "source": [
        "Set4 = os.path.join(path,'Datapoint_4.xlsx')\n",
        "print(Set4)"
      ],
      "metadata": {
        "colab": {
          "base_uri": "https://localhost:8080/"
        },
        "id": "S8lZYEgT6yKr",
        "outputId": "db774a80-de26-49a4-e7a6-559a081fb598"
      },
      "execution_count": 9,
      "outputs": [
        {
          "output_type": "stream",
          "name": "stdout",
          "text": [
            "/content/drive/My Drive/shadeimg/SVM shade/Datapoint_4.xlsx\n"
          ]
        }
      ]
    },
    {
      "cell_type": "code",
      "source": [
        "Set5 = os.path.join(path,'Datapoint_5.xlsx')\n",
        "print(Set5)"
      ],
      "metadata": {
        "colab": {
          "base_uri": "https://localhost:8080/"
        },
        "id": "z0GBXm_r6zSV",
        "outputId": "93909bf6-a255-4a8d-ff85-7046cc8972f5"
      },
      "execution_count": 10,
      "outputs": [
        {
          "output_type": "stream",
          "name": "stdout",
          "text": [
            "/content/drive/My Drive/shadeimg/SVM shade/Datapoint_5.xlsx\n"
          ]
        }
      ]
    },
    {
      "cell_type": "code",
      "source": [
        "Set6 = os.path.join(path,'Datapoint_6.xlsx')\n",
        "print(Set6)"
      ],
      "metadata": {
        "colab": {
          "base_uri": "https://localhost:8080/"
        },
        "id": "p6vwFZ7Y60Gv",
        "outputId": "e1be4182-7e91-4146-9171-c33670934cde"
      },
      "execution_count": 11,
      "outputs": [
        {
          "output_type": "stream",
          "name": "stdout",
          "text": [
            "/content/drive/My Drive/shadeimg/SVM shade/Datapoint_6.xlsx\n"
          ]
        }
      ]
    },
    {
      "cell_type": "markdown",
      "source": [
        "##train "
      ],
      "metadata": {
        "id": "3uybiXlB7BXa"
      }
    },
    {
      "cell_type": "code",
      "source": [
        "with open('Model_A2_rgb2.pkl', 'rb') as pickle_file :\n",
        "    new_data = pickle.load(pickle_file)"
      ],
      "metadata": {
        "id": "wOmXcqVHHnB6"
      },
      "execution_count": 13,
      "outputs": []
    },
    {
      "cell_type": "code",
      "source": [
        "table_A2Set1 = pd.read_excel(Set1, sheet_name='A2_1')\n",
        "table_A2Set2 = pd.read_excel(Set2, sheet_name='A2_2')\n",
        "table_A2Set3 = pd.read_excel(Set3, sheet_name='A2_3')\n",
        "table_A2Set4 = pd.read_excel(Set4, sheet_name='A2_4')\n",
        "table_A2Set5 = pd.read_excel(Set5, sheet_name='A2_5')\n",
        "table_A2Set6 = pd.read_excel(Set6, sheet_name='A2_6')"
      ],
      "metadata": {
        "id": "9dodFQw-dhKA"
      },
      "execution_count": 14,
      "outputs": []
    },
    {
      "cell_type": "code",
      "source": [
        "table_A2Set6"
      ],
      "metadata": {
        "colab": {
          "base_uri": "https://localhost:8080/",
          "height": 835
        },
        "id": "t_q04crPHyXZ",
        "outputId": "c84ac722-c054-485e-cf6a-a38379837ea5"
      },
      "execution_count": 59,
      "outputs": [
        {
          "output_type": "execute_result",
          "data": {
            "text/plain": [
              "          R-ref       G-ref       B-ref      R-Shad      G-Shad      B-Shad  \\\n",
              "0    237.162893  234.868679  205.338852  231.399318  233.423667  212.102833   \n",
              "1    236.810243  234.806428  205.561399  231.608879  233.665774  212.158023   \n",
              "2    237.115981  235.015827  205.429348  231.106810  233.214674  211.803506   \n",
              "3    236.954062  234.870546  205.320510  231.426264  233.535427  212.138706   \n",
              "4    236.960961  234.713984  204.943998  231.136434  233.188621  211.709277   \n",
              "..          ...         ...         ...         ...         ...         ...   \n",
              "795  236.582339  233.523253  202.580554  225.683467  224.001217  176.487866   \n",
              "796  237.027352  233.977437  203.106647  226.039688  224.594919  176.743040   \n",
              "797  237.001867  234.153640  203.055921  226.025972  224.720802  176.720315   \n",
              "798  236.741904  233.941076  202.763169  225.862024  224.522847  176.651489   \n",
              "799  236.666586  233.591023  202.741823  225.526581  223.954387  176.237887   \n",
              "\n",
              "         H-ref      S-ref       V-ref     H-Shad     S-Shad      V-Shad  \\\n",
              "0    28.038877  34.378541  237.240484  33.596948  23.320185  233.424154   \n",
              "1    28.296161  33.804480  236.866488  33.760003  23.504505  233.667397   \n",
              "2    28.233341  34.251765  237.209317  33.822823  23.451749  233.215080   \n",
              "3    28.145930  34.203068  237.018262  33.749533  23.382112  233.536077   \n",
              "4    27.960312  34.590780  237.009658  33.632092  23.502557  233.189270   \n",
              "..         ...        ...         ...        ...        ...         ...   \n",
              "795  26.940914  36.718935  236.582339  29.007792  55.599545  225.683467   \n",
              "796  26.950085  36.530963  237.027352  29.059167  55.635013  226.039688   \n",
              "797  27.151773  36.555880  237.001867  29.141547  55.668209  226.025972   \n",
              "798  27.199172  36.626735  236.741904  29.124828  55.600763  225.862187   \n",
              "799  26.924438  36.616995  236.666586  29.054703  55.730704  225.529016   \n",
              "\n",
              "    Setting Ref Shad                                       Img  \n",
              "0      Set6  A2   A1  5E9854E6-E73F-4634-B836-4C9ED89FD883.png  \n",
              "1      Set6  A2   A1  EE39414A-F794-49DA-BF45-8E94A9984753.png  \n",
              "2      Set6  A2   A1  C369F1C9-7A1D-4BBF-8F6B-DA937D120A2B.png  \n",
              "3      Set6  A2   A1  6B5E313E-647E-4399-86AA-359DAB736EDE.png  \n",
              "4      Set6  A2   A1  13216B76-7C70-476E-8151-9CD34B98173D.png  \n",
              "..      ...  ..  ...                                       ...  \n",
              "795    Set6  A2   D4  698DEBFB-68A1-46B1-B404-A689504B9D41.png  \n",
              "796    Set6  A2   D4  402E5CB5-10DD-4C36-B760-CFD2237DD396.png  \n",
              "797    Set6  A2   D4  1D781982-AADE-4B07-ACB8-9ED4B2B81EE3.png  \n",
              "798    Set6  A2   D4  66376937-0F74-4311-8740-03BE69BE6C9F.png  \n",
              "799    Set6  A2   D4  1F9AC0E9-6A21-4384-9FCD-314188F68124.png  \n",
              "\n",
              "[800 rows x 16 columns]"
            ],
            "text/html": [
              "\n",
              "  <div id=\"df-5e6bdacb-891a-4241-8ce6-d2e0d7434ef3\">\n",
              "    <div class=\"colab-df-container\">\n",
              "      <div>\n",
              "<style scoped>\n",
              "    .dataframe tbody tr th:only-of-type {\n",
              "        vertical-align: middle;\n",
              "    }\n",
              "\n",
              "    .dataframe tbody tr th {\n",
              "        vertical-align: top;\n",
              "    }\n",
              "\n",
              "    .dataframe thead th {\n",
              "        text-align: right;\n",
              "    }\n",
              "</style>\n",
              "<table border=\"1\" class=\"dataframe\">\n",
              "  <thead>\n",
              "    <tr style=\"text-align: right;\">\n",
              "      <th></th>\n",
              "      <th>R-ref</th>\n",
              "      <th>G-ref</th>\n",
              "      <th>B-ref</th>\n",
              "      <th>R-Shad</th>\n",
              "      <th>G-Shad</th>\n",
              "      <th>B-Shad</th>\n",
              "      <th>H-ref</th>\n",
              "      <th>S-ref</th>\n",
              "      <th>V-ref</th>\n",
              "      <th>H-Shad</th>\n",
              "      <th>S-Shad</th>\n",
              "      <th>V-Shad</th>\n",
              "      <th>Setting</th>\n",
              "      <th>Ref</th>\n",
              "      <th>Shad</th>\n",
              "      <th>Img</th>\n",
              "    </tr>\n",
              "  </thead>\n",
              "  <tbody>\n",
              "    <tr>\n",
              "      <th>0</th>\n",
              "      <td>237.162893</td>\n",
              "      <td>234.868679</td>\n",
              "      <td>205.338852</td>\n",
              "      <td>231.399318</td>\n",
              "      <td>233.423667</td>\n",
              "      <td>212.102833</td>\n",
              "      <td>28.038877</td>\n",
              "      <td>34.378541</td>\n",
              "      <td>237.240484</td>\n",
              "      <td>33.596948</td>\n",
              "      <td>23.320185</td>\n",
              "      <td>233.424154</td>\n",
              "      <td>Set6</td>\n",
              "      <td>A2</td>\n",
              "      <td>A1</td>\n",
              "      <td>5E9854E6-E73F-4634-B836-4C9ED89FD883.png</td>\n",
              "    </tr>\n",
              "    <tr>\n",
              "      <th>1</th>\n",
              "      <td>236.810243</td>\n",
              "      <td>234.806428</td>\n",
              "      <td>205.561399</td>\n",
              "      <td>231.608879</td>\n",
              "      <td>233.665774</td>\n",
              "      <td>212.158023</td>\n",
              "      <td>28.296161</td>\n",
              "      <td>33.804480</td>\n",
              "      <td>236.866488</td>\n",
              "      <td>33.760003</td>\n",
              "      <td>23.504505</td>\n",
              "      <td>233.667397</td>\n",
              "      <td>Set6</td>\n",
              "      <td>A2</td>\n",
              "      <td>A1</td>\n",
              "      <td>EE39414A-F794-49DA-BF45-8E94A9984753.png</td>\n",
              "    </tr>\n",
              "    <tr>\n",
              "      <th>2</th>\n",
              "      <td>237.115981</td>\n",
              "      <td>235.015827</td>\n",
              "      <td>205.429348</td>\n",
              "      <td>231.106810</td>\n",
              "      <td>233.214674</td>\n",
              "      <td>211.803506</td>\n",
              "      <td>28.233341</td>\n",
              "      <td>34.251765</td>\n",
              "      <td>237.209317</td>\n",
              "      <td>33.822823</td>\n",
              "      <td>23.451749</td>\n",
              "      <td>233.215080</td>\n",
              "      <td>Set6</td>\n",
              "      <td>A2</td>\n",
              "      <td>A1</td>\n",
              "      <td>C369F1C9-7A1D-4BBF-8F6B-DA937D120A2B.png</td>\n",
              "    </tr>\n",
              "    <tr>\n",
              "      <th>3</th>\n",
              "      <td>236.954062</td>\n",
              "      <td>234.870546</td>\n",
              "      <td>205.320510</td>\n",
              "      <td>231.426264</td>\n",
              "      <td>233.535427</td>\n",
              "      <td>212.138706</td>\n",
              "      <td>28.145930</td>\n",
              "      <td>34.203068</td>\n",
              "      <td>237.018262</td>\n",
              "      <td>33.749533</td>\n",
              "      <td>23.382112</td>\n",
              "      <td>233.536077</td>\n",
              "      <td>Set6</td>\n",
              "      <td>A2</td>\n",
              "      <td>A1</td>\n",
              "      <td>6B5E313E-647E-4399-86AA-359DAB736EDE.png</td>\n",
              "    </tr>\n",
              "    <tr>\n",
              "      <th>4</th>\n",
              "      <td>236.960961</td>\n",
              "      <td>234.713984</td>\n",
              "      <td>204.943998</td>\n",
              "      <td>231.136434</td>\n",
              "      <td>233.188621</td>\n",
              "      <td>211.709277</td>\n",
              "      <td>27.960312</td>\n",
              "      <td>34.590780</td>\n",
              "      <td>237.009658</td>\n",
              "      <td>33.632092</td>\n",
              "      <td>23.502557</td>\n",
              "      <td>233.189270</td>\n",
              "      <td>Set6</td>\n",
              "      <td>A2</td>\n",
              "      <td>A1</td>\n",
              "      <td>13216B76-7C70-476E-8151-9CD34B98173D.png</td>\n",
              "    </tr>\n",
              "    <tr>\n",
              "      <th>...</th>\n",
              "      <td>...</td>\n",
              "      <td>...</td>\n",
              "      <td>...</td>\n",
              "      <td>...</td>\n",
              "      <td>...</td>\n",
              "      <td>...</td>\n",
              "      <td>...</td>\n",
              "      <td>...</td>\n",
              "      <td>...</td>\n",
              "      <td>...</td>\n",
              "      <td>...</td>\n",
              "      <td>...</td>\n",
              "      <td>...</td>\n",
              "      <td>...</td>\n",
              "      <td>...</td>\n",
              "      <td>...</td>\n",
              "    </tr>\n",
              "    <tr>\n",
              "      <th>795</th>\n",
              "      <td>236.582339</td>\n",
              "      <td>233.523253</td>\n",
              "      <td>202.580554</td>\n",
              "      <td>225.683467</td>\n",
              "      <td>224.001217</td>\n",
              "      <td>176.487866</td>\n",
              "      <td>26.940914</td>\n",
              "      <td>36.718935</td>\n",
              "      <td>236.582339</td>\n",
              "      <td>29.007792</td>\n",
              "      <td>55.599545</td>\n",
              "      <td>225.683467</td>\n",
              "      <td>Set6</td>\n",
              "      <td>A2</td>\n",
              "      <td>D4</td>\n",
              "      <td>698DEBFB-68A1-46B1-B404-A689504B9D41.png</td>\n",
              "    </tr>\n",
              "    <tr>\n",
              "      <th>796</th>\n",
              "      <td>237.027352</td>\n",
              "      <td>233.977437</td>\n",
              "      <td>203.106647</td>\n",
              "      <td>226.039688</td>\n",
              "      <td>224.594919</td>\n",
              "      <td>176.743040</td>\n",
              "      <td>26.950085</td>\n",
              "      <td>36.530963</td>\n",
              "      <td>237.027352</td>\n",
              "      <td>29.059167</td>\n",
              "      <td>55.635013</td>\n",
              "      <td>226.039688</td>\n",
              "      <td>Set6</td>\n",
              "      <td>A2</td>\n",
              "      <td>D4</td>\n",
              "      <td>402E5CB5-10DD-4C36-B760-CFD2237DD396.png</td>\n",
              "    </tr>\n",
              "    <tr>\n",
              "      <th>797</th>\n",
              "      <td>237.001867</td>\n",
              "      <td>234.153640</td>\n",
              "      <td>203.055921</td>\n",
              "      <td>226.025972</td>\n",
              "      <td>224.720802</td>\n",
              "      <td>176.720315</td>\n",
              "      <td>27.151773</td>\n",
              "      <td>36.555880</td>\n",
              "      <td>237.001867</td>\n",
              "      <td>29.141547</td>\n",
              "      <td>55.668209</td>\n",
              "      <td>226.025972</td>\n",
              "      <td>Set6</td>\n",
              "      <td>A2</td>\n",
              "      <td>D4</td>\n",
              "      <td>1D781982-AADE-4B07-ACB8-9ED4B2B81EE3.png</td>\n",
              "    </tr>\n",
              "    <tr>\n",
              "      <th>798</th>\n",
              "      <td>236.741904</td>\n",
              "      <td>233.941076</td>\n",
              "      <td>202.763169</td>\n",
              "      <td>225.862024</td>\n",
              "      <td>224.522847</td>\n",
              "      <td>176.651489</td>\n",
              "      <td>27.199172</td>\n",
              "      <td>36.626735</td>\n",
              "      <td>236.741904</td>\n",
              "      <td>29.124828</td>\n",
              "      <td>55.600763</td>\n",
              "      <td>225.862187</td>\n",
              "      <td>Set6</td>\n",
              "      <td>A2</td>\n",
              "      <td>D4</td>\n",
              "      <td>66376937-0F74-4311-8740-03BE69BE6C9F.png</td>\n",
              "    </tr>\n",
              "    <tr>\n",
              "      <th>799</th>\n",
              "      <td>236.666586</td>\n",
              "      <td>233.591023</td>\n",
              "      <td>202.741823</td>\n",
              "      <td>225.526581</td>\n",
              "      <td>223.954387</td>\n",
              "      <td>176.237887</td>\n",
              "      <td>26.924438</td>\n",
              "      <td>36.616995</td>\n",
              "      <td>236.666586</td>\n",
              "      <td>29.054703</td>\n",
              "      <td>55.730704</td>\n",
              "      <td>225.529016</td>\n",
              "      <td>Set6</td>\n",
              "      <td>A2</td>\n",
              "      <td>D4</td>\n",
              "      <td>1F9AC0E9-6A21-4384-9FCD-314188F68124.png</td>\n",
              "    </tr>\n",
              "  </tbody>\n",
              "</table>\n",
              "<p>800 rows × 16 columns</p>\n",
              "</div>\n",
              "      <button class=\"colab-df-convert\" onclick=\"convertToInteractive('df-5e6bdacb-891a-4241-8ce6-d2e0d7434ef3')\"\n",
              "              title=\"Convert this dataframe to an interactive table.\"\n",
              "              style=\"display:none;\">\n",
              "        \n",
              "  <svg xmlns=\"http://www.w3.org/2000/svg\" height=\"24px\"viewBox=\"0 0 24 24\"\n",
              "       width=\"24px\">\n",
              "    <path d=\"M0 0h24v24H0V0z\" fill=\"none\"/>\n",
              "    <path d=\"M18.56 5.44l.94 2.06.94-2.06 2.06-.94-2.06-.94-.94-2.06-.94 2.06-2.06.94zm-11 1L8.5 8.5l.94-2.06 2.06-.94-2.06-.94L8.5 2.5l-.94 2.06-2.06.94zm10 10l.94 2.06.94-2.06 2.06-.94-2.06-.94-.94-2.06-.94 2.06-2.06.94z\"/><path d=\"M17.41 7.96l-1.37-1.37c-.4-.4-.92-.59-1.43-.59-.52 0-1.04.2-1.43.59L10.3 9.45l-7.72 7.72c-.78.78-.78 2.05 0 2.83L4 21.41c.39.39.9.59 1.41.59.51 0 1.02-.2 1.41-.59l7.78-7.78 2.81-2.81c.8-.78.8-2.07 0-2.86zM5.41 20L4 18.59l7.72-7.72 1.47 1.35L5.41 20z\"/>\n",
              "  </svg>\n",
              "      </button>\n",
              "      \n",
              "  <style>\n",
              "    .colab-df-container {\n",
              "      display:flex;\n",
              "      flex-wrap:wrap;\n",
              "      gap: 12px;\n",
              "    }\n",
              "\n",
              "    .colab-df-convert {\n",
              "      background-color: #E8F0FE;\n",
              "      border: none;\n",
              "      border-radius: 50%;\n",
              "      cursor: pointer;\n",
              "      display: none;\n",
              "      fill: #1967D2;\n",
              "      height: 32px;\n",
              "      padding: 0 0 0 0;\n",
              "      width: 32px;\n",
              "    }\n",
              "\n",
              "    .colab-df-convert:hover {\n",
              "      background-color: #E2EBFA;\n",
              "      box-shadow: 0px 1px 2px rgba(60, 64, 67, 0.3), 0px 1px 3px 1px rgba(60, 64, 67, 0.15);\n",
              "      fill: #174EA6;\n",
              "    }\n",
              "\n",
              "    [theme=dark] .colab-df-convert {\n",
              "      background-color: #3B4455;\n",
              "      fill: #D2E3FC;\n",
              "    }\n",
              "\n",
              "    [theme=dark] .colab-df-convert:hover {\n",
              "      background-color: #434B5C;\n",
              "      box-shadow: 0px 1px 3px 1px rgba(0, 0, 0, 0.15);\n",
              "      filter: drop-shadow(0px 1px 2px rgba(0, 0, 0, 0.3));\n",
              "      fill: #FFFFFF;\n",
              "    }\n",
              "  </style>\n",
              "\n",
              "      <script>\n",
              "        const buttonEl =\n",
              "          document.querySelector('#df-5e6bdacb-891a-4241-8ce6-d2e0d7434ef3 button.colab-df-convert');\n",
              "        buttonEl.style.display =\n",
              "          google.colab.kernel.accessAllowed ? 'block' : 'none';\n",
              "\n",
              "        async function convertToInteractive(key) {\n",
              "          const element = document.querySelector('#df-5e6bdacb-891a-4241-8ce6-d2e0d7434ef3');\n",
              "          const dataTable =\n",
              "            await google.colab.kernel.invokeFunction('convertToInteractive',\n",
              "                                                     [key], {});\n",
              "          if (!dataTable) return;\n",
              "\n",
              "          const docLinkHtml = 'Like what you see? Visit the ' +\n",
              "            '<a target=\"_blank\" href=https://colab.research.google.com/notebooks/data_table.ipynb>data table notebook</a>'\n",
              "            + ' to learn more about interactive tables.';\n",
              "          element.innerHTML = '';\n",
              "          dataTable['output_type'] = 'display_data';\n",
              "          await google.colab.output.renderOutput(dataTable, element);\n",
              "          const docLink = document.createElement('div');\n",
              "          docLink.innerHTML = docLinkHtml;\n",
              "          element.appendChild(docLink);\n",
              "        }\n",
              "      </script>\n",
              "    </div>\n",
              "  </div>\n",
              "  "
            ]
          },
          "metadata": {},
          "execution_count": 59
        }
      ]
    },
    {
      "cell_type": "code",
      "source": [
        "RGB_A2_Set1 = table_A2Set1"
      ],
      "metadata": {
        "id": "cfAUYiwNyasn"
      },
      "execution_count": 15,
      "outputs": []
    },
    {
      "cell_type": "code",
      "source": [
        "RGB_A2_Set2 = table_A2Set2"
      ],
      "metadata": {
        "id": "ixxLBGT_yasn"
      },
      "execution_count": 16,
      "outputs": []
    },
    {
      "cell_type": "code",
      "source": [
        "RGB_A2_Set3 = table_A2Set3"
      ],
      "metadata": {
        "id": "pllJlM8gyasn"
      },
      "execution_count": 17,
      "outputs": []
    },
    {
      "cell_type": "code",
      "source": [
        "RGB_A2_Set4 = table_A2Set4"
      ],
      "metadata": {
        "id": "qOB34lNvyasn"
      },
      "execution_count": 18,
      "outputs": []
    },
    {
      "cell_type": "code",
      "source": [
        "RGB_A2_Set6 = table_A2Set6"
      ],
      "metadata": {
        "id": "abYOLjMwyziQ"
      },
      "execution_count": 19,
      "outputs": []
    },
    {
      "cell_type": "code",
      "source": [
        "RGB_A2_concat = pd.concat([RGB_A2_Set1,RGB_A2_Set2,RGB_A2_Set3,RGB_A2_Set4,RGB_A2_Set6])"
      ],
      "metadata": {
        "id": "zJgq0oldyasn"
      },
      "execution_count": 20,
      "outputs": []
    },
    {
      "cell_type": "code",
      "source": [
        "RGB_A2_concat0 = RGB_A2_concat.drop(['H-ref','S-ref','V-ref','H-Shad','S-Shad','V-Shad','Setting','Ref','Shad','Img'], axis=1)"
      ],
      "metadata": {
        "id": "k6rgbb4-yasn"
      },
      "execution_count": 21,
      "outputs": []
    },
    {
      "cell_type": "code",
      "source": [
        "RGB_A2_s5 = table_A2Set5.drop(['H-ref','S-ref','V-ref','H-Shad','S-Shad','V-Shad','Setting','Ref','Shad','Img'], axis=1)"
      ],
      "metadata": {
        "id": "xTD3aX1kyoHE"
      },
      "execution_count": 22,
      "outputs": []
    },
    {
      "cell_type": "code",
      "source": [
        "X_test_A2_RGB_s5 = np.array(RGB_A2_s5)"
      ],
      "metadata": {
        "id": "yNqsgDIByoHE"
      },
      "execution_count": 23,
      "outputs": []
    },
    {
      "cell_type": "code",
      "source": [
        "y_A2_RGB_s5 =  table_A2Set5.iloc[:,14:15]"
      ],
      "metadata": {
        "id": "i5xt7vcMyoHE"
      },
      "execution_count": 24,
      "outputs": []
    },
    {
      "cell_type": "code",
      "source": [
        "y_test_A2_RGB_s5 = np.array(y_A2_RGB_s5)"
      ],
      "metadata": {
        "id": "9Rfk0NXNyoHF"
      },
      "execution_count": 25,
      "outputs": []
    },
    {
      "cell_type": "code",
      "source": [
        "y_test = np.array(y_A2_RGB_s5)"
      ],
      "metadata": {
        "id": "DR3pg9zhLIi3"
      },
      "execution_count": 60,
      "outputs": []
    },
    {
      "cell_type": "code",
      "source": [
        "X_train_A2_RGB_s5 = np.array(RGB_A2_concat0)"
      ],
      "metadata": {
        "id": "yx9h0XfSyoHF"
      },
      "execution_count": 26,
      "outputs": []
    },
    {
      "cell_type": "code",
      "source": [
        "y_train_A2RGB_s5 = RGB_A2_concat.iloc[:,14:15]"
      ],
      "metadata": {
        "id": "2X6UKjcCyoHF"
      },
      "execution_count": 27,
      "outputs": []
    },
    {
      "cell_type": "code",
      "source": [
        "y_test_A2_RGB_s5 = np.array(table_A2Set5['Shad'])"
      ],
      "metadata": {
        "id": "PvhwYWtyQbhW"
      },
      "execution_count": 30,
      "outputs": []
    },
    {
      "cell_type": "code",
      "source": [
        "y_test_A2_RGB_s5.shape = (len(y_test_A2_RGB_s5),)   "
      ],
      "metadata": {
        "id": "yBTAoeZXUEH2"
      },
      "execution_count": 31,
      "outputs": []
    },
    {
      "cell_type": "code",
      "source": [
        "le_Dense = LabelEncoder() "
      ],
      "metadata": {
        "id": "IsQD1l1uUF4X"
      },
      "execution_count": 37,
      "outputs": []
    },
    {
      "cell_type": "code",
      "source": [
        "y_test_A2_RGB_s5 = le_Dense.fit_transform(y_test_A2_RGB_s5) "
      ],
      "metadata": {
        "id": "wVT_BQivUKKR"
      },
      "execution_count": 38,
      "outputs": []
    },
    {
      "cell_type": "code",
      "source": [
        "y_test_A2_RGB_s5 = to_categorical(y_test_A2_RGB_s5, num_classes=16)"
      ],
      "metadata": {
        "id": "Fd5wT42aULLg"
      },
      "execution_count": 39,
      "outputs": []
    },
    {
      "cell_type": "code",
      "source": [
        "y_pred_A2_RGB_s5 = new_data.predict(X_test_A2_RGB_s5)"
      ],
      "metadata": {
        "id": "dzerY89EyoHF"
      },
      "execution_count": 41,
      "outputs": []
    },
    {
      "cell_type": "code",
      "source": [
        "y_pred2_A2_RGB_s5 = le_Dense.fit_transform(y_pred_A2_RGB_s5) "
      ],
      "metadata": {
        "id": "vgGGdTupWbss"
      },
      "execution_count": 46,
      "outputs": []
    },
    {
      "cell_type": "code",
      "source": [
        "y_pred2_A2_RGB_s5 = to_categorical(y_pred2_A2_RGB_s5, num_classes=16)"
      ],
      "metadata": {
        "id": "op6kgGy3W-bz"
      },
      "execution_count": 47,
      "outputs": []
    },
    {
      "cell_type": "markdown",
      "source": [
        "##confusion"
      ],
      "metadata": {
        "id": "Q-JnUa5cNbYg"
      }
    },
    {
      "cell_type": "code",
      "source": [
        "import matplotlib.pyplot as plt\n",
        "import matplotlib.image as mpimg\n",
        "from matplotlib.pyplot import savefig\n",
        "import itertools\n",
        "from sklearn.metrics import confusion_matrix\n",
        "from sklearn.utils.multiclass import unique_labels"
      ],
      "metadata": {
        "id": "D5DUOB7fNbBi"
      },
      "execution_count": 35,
      "outputs": []
    },
    {
      "cell_type": "code",
      "source": [
        "y_pred2_A2_RGB_s5.ndim"
      ],
      "metadata": {
        "colab": {
          "base_uri": "https://localhost:8080/"
        },
        "id": "rzUDT_w6ZXVi",
        "outputId": "01080172-06a4-4f69-d11c-4881488c2998"
      },
      "execution_count": 49,
      "outputs": [
        {
          "output_type": "execute_result",
          "data": {
            "text/plain": [
              "2"
            ]
          },
          "metadata": {},
          "execution_count": 49
        }
      ]
    },
    {
      "cell_type": "code",
      "source": [
        "y_test_A2_RGB_s5.shape = (len(y_test_A2_RGB_s5),1)  "
      ],
      "metadata": {
        "id": "NNi17ckYZpv9"
      },
      "execution_count": null,
      "outputs": []
    },
    {
      "cell_type": "code",
      "source": [
        "y_test_A2_RGB_s5.ndim"
      ],
      "metadata": {
        "colab": {
          "base_uri": "https://localhost:8080/"
        },
        "id": "LAqVdVX5ZcbW",
        "outputId": "1595579d-f4a4-4f92-bd6b-a294bfb53982"
      },
      "execution_count": 50,
      "outputs": [
        {
          "output_type": "execute_result",
          "data": {
            "text/plain": [
              "2"
            ]
          },
          "metadata": {},
          "execution_count": 50
        }
      ]
    },
    {
      "cell_type": "code",
      "source": [
        "y_pred = y_pred2_A2_RGB_s5.argmax(axis=1)          #ค่า predict \n",
        "y_true  = y_test_A2_RGB_s5.argmax(axis=1)\n",
        "class_names = le_Dense.classes_                          # ชื่อคลาสว่ามีไรบ้าง --> ['Abnormal' , 'Normal]\n",
        "\n",
        "\n",
        "def plot_confusion_matrix(y_true, y_pred, classes,\n",
        "                          normalize=False,\n",
        "                          title=None,\n",
        "                          cmap=plt.cm.BuPu):\n",
        "    \"\"\"\n",
        "    This function prints and plots the confusion matrix.\n",
        "    Normalization can be applied by setting normalize=True.\n",
        "    \"\"\"\n",
        "    if not title:\n",
        "        if normalize:\n",
        "            title = 'Normalized confusion matrix'\n",
        "        else:\n",
        "            title = 'Confusion matrix, without normalization'\n",
        "\n",
        "    # Compute confusion matrix\n",
        "    cm = confusion_matrix(y_true, y_pred)\n",
        "    # Only use the labels that appear in the data\n",
        "    classes = classes[unique_labels(y_true, y_pred)]\n",
        "    if normalize:\n",
        "        cm = cm.astype('float') / cm.sum(axis=1)[:, np.newaxis]\n",
        "        print(\"Normalized confusion matrix\")\n",
        "    else:\n",
        "        print('Confusion matrix, without normalization')\n",
        "\n",
        "    print(cm)\n",
        "\n",
        "    fig, ax = plt.subplots()\n",
        "    im = ax.imshow(cm, interpolation='nearest', cmap=cmap)\n",
        "    ax.figure.colorbar(im, ax=ax)\n",
        "    # We want to show all ticks...\n",
        "    ax.set(xticks=np.arange(cm.shape[1]),\n",
        "           yticks=np.arange(cm.shape[0]),\n",
        "           # ... and label them with the respective list entries\n",
        "           xticklabels=classes, yticklabels=classes,\n",
        "           title=title,\n",
        "           ylabel='True label',\n",
        "           xlabel='Predicted label')\n",
        "\n",
        "    # Rotate the tick labels and set their alignment.\n",
        "    plt.setp(ax.get_xticklabels(), rotation=45, ha=\"right\",\n",
        "             rotation_mode=\"anchor\")\n",
        "\n",
        "    # Loop over data dimensions and create text annotations.\n",
        "    fmt = '.2f' if normalize else 'd'\n",
        "    thresh = cm.max() / 2.\n",
        "    for i in range(cm.shape[0]):\n",
        "        for j in range(cm.shape[1]):\n",
        "            ax.text(j, i, format(cm[i, j], fmt),\n",
        "                    ha=\"center\", va=\"center\",\n",
        "                    color=\"white\" if cm[i, j] > thresh else \"black\")\n",
        "    fig.tight_layout()\n",
        "    return ax\n",
        "\n",
        "\n",
        "np.set_printoptions(precision=2)\n",
        "\n",
        "# Plot non-normalized confusion matrix\n",
        "plot_confusion_matrix(y_true, y_pred, classes=class_names,\n",
        "                      title='Confusion matrix, without normalization')\n",
        "\n",
        "# Plot normalized confusion matrix\n",
        "plot_confusion_matrix(y_true, y_pred, classes=class_names, normalize=True,\n",
        "                      title='Normalized confusion matrix')\n",
        "\n",
        "plt.show()"
      ],
      "metadata": {
        "colab": {
          "base_uri": "https://localhost:8080/",
          "height": 1000
        },
        "id": "dTbdkbwZMpDp",
        "outputId": "6c210189-ef3f-4546-8cf2-4ec5890949b6"
      },
      "execution_count": 76,
      "outputs": [
        {
          "output_type": "stream",
          "name": "stdout",
          "text": [
            "Confusion matrix, without normalization\n",
            "[[ 0  0  0  0  0 42  0  0  0  8  0  0  0  0  0  0]\n",
            " [ 3  2  3  0  0  0 18  0  0 24  0  0  0  0  0  0]\n",
            " [ 0  5 38  0  0  0  7  0  0  0  0  0  0  0  0  0]\n",
            " [ 0  0  0 20  0  0  0 15  8  0  0  0  0  0  7  0]\n",
            " [ 0  0  0  0 40  0  0  0  0  0  0 10  0  0  0  0]\n",
            " [ 0  0  0  0  0 50  0  0  0  0  0  0  0  0  0  0]\n",
            " [13  0  0  0  0  0 18  2  0  7  0  0  0  0 10  0]\n",
            " [ 0  0  4  1  0  0  0 45  0  0  0  0  0  0  0  0]\n",
            " [ 0  0  0  8  0  0  0 25 13  0  0  0  0  0  4  0]\n",
            " [ 0  0  0  0  0  8  0  0  0 42  0  0  0  0  0  0]\n",
            " [ 0  0  0  0  0  0  0  0  0  0 32  0  0 18  0  0]\n",
            " [ 0  0  0  0  0  0  0  0  0  0 50  0  0  0  0  0]\n",
            " [ 0  0  0  0 41  0  0  0  0  0  0  0  9  0  0  0]\n",
            " [ 0  0  0  0  0  0  0  0  0 50  0  0  0  0  0  0]\n",
            " [ 0  0  0  0  0  0  0  3  0  1 34  0  0 10  1  1]\n",
            " [ 0  0  0  0  4  0  0 12  0  0 34  0  0  0  0  0]]\n",
            "Normalized confusion matrix\n",
            "[[0.   0.   0.   0.   0.   0.84 0.   0.   0.   0.16 0.   0.   0.   0.\n",
            "  0.   0.  ]\n",
            " [0.06 0.04 0.06 0.   0.   0.   0.36 0.   0.   0.48 0.   0.   0.   0.\n",
            "  0.   0.  ]\n",
            " [0.   0.1  0.76 0.   0.   0.   0.14 0.   0.   0.   0.   0.   0.   0.\n",
            "  0.   0.  ]\n",
            " [0.   0.   0.   0.4  0.   0.   0.   0.3  0.16 0.   0.   0.   0.   0.\n",
            "  0.14 0.  ]\n",
            " [0.   0.   0.   0.   0.8  0.   0.   0.   0.   0.   0.   0.2  0.   0.\n",
            "  0.   0.  ]\n",
            " [0.   0.   0.   0.   0.   1.   0.   0.   0.   0.   0.   0.   0.   0.\n",
            "  0.   0.  ]\n",
            " [0.26 0.   0.   0.   0.   0.   0.36 0.04 0.   0.14 0.   0.   0.   0.\n",
            "  0.2  0.  ]\n",
            " [0.   0.   0.08 0.02 0.   0.   0.   0.9  0.   0.   0.   0.   0.   0.\n",
            "  0.   0.  ]\n",
            " [0.   0.   0.   0.16 0.   0.   0.   0.5  0.26 0.   0.   0.   0.   0.\n",
            "  0.08 0.  ]\n",
            " [0.   0.   0.   0.   0.   0.16 0.   0.   0.   0.84 0.   0.   0.   0.\n",
            "  0.   0.  ]\n",
            " [0.   0.   0.   0.   0.   0.   0.   0.   0.   0.   0.64 0.   0.   0.36\n",
            "  0.   0.  ]\n",
            " [0.   0.   0.   0.   0.   0.   0.   0.   0.   0.   1.   0.   0.   0.\n",
            "  0.   0.  ]\n",
            " [0.   0.   0.   0.   0.82 0.   0.   0.   0.   0.   0.   0.   0.18 0.\n",
            "  0.   0.  ]\n",
            " [0.   0.   0.   0.   0.   0.   0.   0.   0.   1.   0.   0.   0.   0.\n",
            "  0.   0.  ]\n",
            " [0.   0.   0.   0.   0.   0.   0.   0.06 0.   0.02 0.68 0.   0.   0.2\n",
            "  0.02 0.02]\n",
            " [0.   0.   0.   0.   0.08 0.   0.   0.24 0.   0.   0.68 0.   0.   0.\n",
            "  0.   0.  ]]\n"
          ]
        },
        {
          "output_type": "display_data",
          "data": {
            "text/plain": [
              "<Figure size 432x288 with 2 Axes>"
            ],
            "image/png": "[encoded data removed]"
          },
          "metadata": {
            "needs_background": "light"
          }
        },
        {
          "output_type": "display_data",
          "data": {
            "text/plain": [
              "<Figure size 432x288 with 2 Axes>"
            ],
            "image/png": "[encoded data removed]"
          },
          "metadata": {
            "needs_background": "light"
          }
        }
      ]
    },
    {
      "cell_type": "code",
      "source": [
        "y_pred = y_pred2_A2_RGB_s5.argmax(axis=1)          #ค่า predict \n",
        "y_true  = y_test_A2_RGB_s5.argmax(axis=1)\n",
        "confusion_matrix(y_true, y_pred)"
      ],
      "metadata": {
        "id": "3RtP9-xlXgIA",
        "outputId": "24514ca1-a9c8-4f63-e006-6c103d539ba1",
        "colab": {
          "base_uri": "https://localhost:8080/"
        }
      },
      "execution_count": 71,
      "outputs": [
        {
          "output_type": "execute_result",
          "data": {
            "text/plain": [
              "array([[ 0,  0,  0,  0,  0, 42,  0,  0,  0,  8,  0,  0,  0,  0,  0,  0],\n",
              "       [ 3,  2,  3,  0,  0,  0, 18,  0,  0, 24,  0,  0,  0,  0,  0,  0],\n",
              "       [ 0,  5, 38,  0,  0,  0,  7,  0,  0,  0,  0,  0,  0,  0,  0,  0],\n",
              "       [ 0,  0,  0, 20,  0,  0,  0, 15,  8,  0,  0,  0,  0,  0,  7,  0],\n",
              "       [ 0,  0,  0,  0, 40,  0,  0,  0,  0,  0,  0, 10,  0,  0,  0,  0],\n",
              "       [ 0,  0,  0,  0,  0, 50,  0,  0,  0,  0,  0,  0,  0,  0,  0,  0],\n",
              "       [13,  0,  0,  0,  0,  0, 18,  2,  0,  7,  0,  0,  0,  0, 10,  0],\n",
              "       [ 0,  0,  4,  1,  0,  0,  0, 45,  0,  0,  0,  0,  0,  0,  0,  0],\n",
              "       [ 0,  0,  0,  8,  0,  0,  0, 25, 13,  0,  0,  0,  0,  0,  4,  0],\n",
              "       [ 0,  0,  0,  0,  0,  8,  0,  0,  0, 42,  0,  0,  0,  0,  0,  0],\n",
              "       [ 0,  0,  0,  0,  0,  0,  0,  0,  0,  0, 32,  0,  0, 18,  0,  0],\n",
              "       [ 0,  0,  0,  0,  0,  0,  0,  0,  0,  0, 50,  0,  0,  0,  0,  0],\n",
              "       [ 0,  0,  0,  0, 41,  0,  0,  0,  0,  0,  0,  0,  9,  0,  0,  0],\n",
              "       [ 0,  0,  0,  0,  0,  0,  0,  0,  0, 50,  0,  0,  0,  0,  0,  0],\n",
              "       [ 0,  0,  0,  0,  0,  0,  0,  3,  0,  1, 34,  0,  0, 10,  1,  1],\n",
              "       [ 0,  0,  0,  0,  4,  0,  0, 12,  0,  0, 34,  0,  0,  0,  0,  0]])"
            ]
          },
          "metadata": {},
          "execution_count": 71
        }
      ]
    }
  ]
}