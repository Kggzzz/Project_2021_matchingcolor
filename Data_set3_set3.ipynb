{
  "nbformat": 4,
  "nbformat_minor": 0,
  "metadata": {
    "colab": {
      "name": "Data_set3_set3.ipynb",
      "provenance": [],
      "authorship_tag": "ABX9TyMCGY9JuTZpQfJOrKq6OBZo",
      "include_colab_link": true
    },
    "kernelspec": {
      "name": "python3",
      "display_name": "Python 3"
    },
    "language_info": {
      "name": "python"
    }
  },
  "cells": [
    {
      "cell_type": "markdown",
      "metadata": {
        "id": "view-in-github",
        "colab_type": "text"
      },
      "source": [
        "<a href=\"https://colab.research.google.com/github/Kggzzz/Project_2021_matchingcolor/blob/main/Data_set3_set3.ipynb\" target=\"_parent\"><img src=\"https://colab.research.google.com/assets/colab-badge.svg\" alt=\"Open In Colab\"/></a>"
      ]
    },
    {
      "cell_type": "code",
      "metadata": {
        "id": "QfJJWz3NE5EF"
      },
      "source": [
        "import pandas as pd"
      ],
      "execution_count": null,
      "outputs": []
    },
    {
      "cell_type": "code",
      "metadata": {
        "id": "bbhDYuOZFkrI"
      },
      "source": [
        "from google.colab import drive \n",
        "drive.mount('/content/drive')"
      ],
      "execution_count": null,
      "outputs": []
    },
    {
      "cell_type": "code",
      "metadata": {
        "id": "gCZ9gB08FlpD"
      },
      "source": [
        "import os"
      ],
      "execution_count": null,
      "outputs": []
    },
    {
      "cell_type": "code",
      "metadata": {
        "id": "bs4sCMIlFmtN"
      },
      "source": [
        "path = '/content/drive/My Drive/shadeimg'"
      ],
      "execution_count": null,
      "outputs": []
    },
    {
      "cell_type": "code",
      "metadata": {
        "id": "QXJgJ1ZiFv2C"
      },
      "source": [
        "os.listdir(path)"
      ],
      "execution_count": null,
      "outputs": []
    },
    {
      "cell_type": "code",
      "metadata": {
        "id": "hIG_rvGQF-Lh"
      },
      "source": [
        "file_path = os.path.join(path,'1 teeth .xlsx')\n",
        "print(file_path)"
      ],
      "execution_count": null,
      "outputs": []
    },
    {
      "cell_type": "code",
      "metadata": {
        "id": "WU-47FCzGAhX"
      },
      "source": [
        "table1 = pd.read_excel(file_path)"
      ],
      "execution_count": null,
      "outputs": []
    },
    {
      "cell_type": "code",
      "metadata": {
        "id": "BQB5ZR4zFsSX"
      },
      "source": [
        "!pip install azure-storage-blob==2.1.0"
      ],
      "execution_count": null,
      "outputs": []
    },
    {
      "cell_type": "code",
      "metadata": {
        "id": "MmtL3ePjGKNA"
      },
      "source": [
        "from azure.storage.blob import BlockBlobService\n",
        "import os"
      ],
      "execution_count": null,
      "outputs": []
    },
    {
      "cell_type": "code",
      "metadata": {
        "id": "cBYDeSzyGMrs"
      },
      "source": [
        "blob_service_client = BlockBlobService(account_name='dent01', account_key='CuShY0B4TZJ84TjzPpaHxyrHOpO73aGXeCpdVq7x26OjIlQ1HOz+3DVc9pDEj9BdcEL8odFuTRF0mOAE+aCgiw==')"
      ],
      "execution_count": null,
      "outputs": []
    },
    {
      "cell_type": "markdown",
      "metadata": {
        "id": "29a1CpssMfaN"
      },
      "source": [
        "1. สร้างตัวแปรเฉดไกด์"
      ]
    },
    {
      "cell_type": "code",
      "metadata": {
        "id": "b7l_Shd1GOxX"
      },
      "source": [
        "A101='34972AB5-CAC7-472C-AC53-FBCA2BD69502.png'\n",
        "A102='C5E078FD-06A3-49DA-B9C1-BCEBDBD10788.png'\n",
        "A105='000407B1-BEB4-4C98-ACA0-D49BFE88F92F.png'\n",
        "A106='4F134202-9E5E-4021-BBE2-5EE1117A2336.png'\n",
        "A202='DB214164-518C-41EF-9865-7A53CD9B0D1B.png'\n",
        "A204='1BFC2072-0428-45EF-9127-6DC43E5D936B.png'\n",
        "A207='3912CC41-19EB-4A24-9B63-8EA42B4ABFF8.png'\n",
        "A208='EDC80643-249E-4CEB-B3BB-4F9ADA71E56D.png'\n",
        "A303='2C45BA2F-7B93-4078-9ED1-F8860E8931F1.png'\n",
        "A307='46F43447-3902-4C4F-9D4D-551DC883238F.png'\n",
        "A308='94828AE2-2A8C-421A-AFA0-1F9D92912852.png'\n",
        "A310='F8B9BF30-8108-4C02-A23E-000D7ECA3EEE.png'\n",
        "A3_501='FC451C1A-4D2F-47FB-8A6E-5E1FAF48D4DE.png'\n",
        "A3_505='AD376F6A-6AEB-4D3D-B8C2-ECAF6ACA176A.png'\n",
        "A3_507='1AC09CEA-5874-4CB8-B945-FACB2CA09508.png'\n",
        "A3_510='FBDE7226-CE76-40F6-917E-BA1264E5B2CD.png'\n",
        "A401='08B3A326-EE90-456C-8638-916221EC0972.png'\n",
        "A404='0B44AF1E-F65D-4942-B6B3-64ECBDA4A60B.png'\n",
        "A405='EDC28364-ED43-46C3-901C-8ACE42EA5082.png'\n",
        "A409='94B468EC-5106-4EC1-ABFD-335476702F26.png'\n",
        "B102='B90F3580-16C4-47BF-83D4-E414EEE2F393.png'\n",
        "B103='FDC06D55-0618-4824-BF7B-14441E4FCA87.png'\n",
        "B105='2716465E-3B74-4E7F-A106-AD7FA3C989EE.png'\n",
        "B107='6B6BD34F-D449-4846-946B-EAAA6A7478B2.png'\n",
        "B201='3918E499-D825-48A9-AF5B-80742BADA24A.png'\n",
        "B203='ABC9C316-2492-47EC-9EF0-51768BCEF434.png'\n",
        "B204='BFA96731-FB49-4FDA-82E3-4A9EE48B7B1E.png'\n",
        "B206='7E1A4DA6-7B07-42EE-8E16-76383030D469.png'\n",
        "B301='1ECFEF58-3657-4D4E-A214-9FD5F14ACCD7.png'\n",
        "B304='3FF70BCD-BD30-4451-9CB7-CB08E67640AA.png'\n",
        "B308='8F7C5693-8C70-4094-9D36-A83AE1B32BA2.png'\n",
        "B309='C246D95A-BE6E-4A6D-8EC9-EEEEDD107F44.png'\n",
        "B402='0C85F5C4-CCE8-457C-A6AF-35C7B7A3B3D9.png'\n",
        "B403='518F15EB-8780-4C3A-9DA5-35B2ADB3EFE6.png'\n",
        "B407='1FC1E8B6-E97C-46A2-9D73-4B614B1FCF92.png'\n",
        "B410='9BC6DEF8-1742-4F43-903B-8AA725F8B056.png'"
      ],
      "execution_count": null,
      "outputs": []
    },
    {
      "cell_type": "code",
      "metadata": {
        "id": "udfq6Zm1KS7f"
      },
      "source": [
        "C103='35DDD494-D4AD-45E3-969F-73F95CE38994.png'\n",
        "C106='724DBD50-BB48-4955-9095-19A74F9A3976.png'\n",
        "C107='1CEFBA9C-B2C7-4C29-AF03-77C57C0B1704.png'\n",
        "C109='53903E93-208F-438B-B14E-A763412F80B4.png'\n",
        "C201='994AC1C3-AF69-44DF-89E3-F76A0FC0979D.png'\n",
        "C202='37D0878C-EC3C-4B50-8450-531DD778316F.png'\n",
        "C205='ECD0751D-9F85-4405-8365-1FFFDC1880D9.png'\n",
        "C210='A8758BCE-B837-4E64-8750-8EF1D9B7BC62.png'\n",
        "C301='553CF438-7FCE-451C-93E6-31AAA12DF954.png'\n",
        "C303='A980D1CC-26DD-49AD-B292-0F1DCB460BD9.png'\n",
        "C306='7A0E241C-D1CD-4C85-BD7D-391E4A857FD2.png'\n",
        "C309='C734FF3D-2054-44D9-9B36-BC5DCFEF56C0.png'\n",
        "C402='94ABA77A-3627-4C04-B491-BFD4242248FD.png'\n",
        "C405='C39354A7-7EC2-4F78-8A52-C61AAD5F2F35.png'\n",
        "C408='1A49CEC9-F331-4786-88AD-6CE5C221922F.png'\n",
        "C409='19DB721A-5C3B-49E3-B48A-FEDDBDA7B9FF.png'\n",
        "D204='E3DA6B12-D22A-44C5-A404-7B16CF5D0175.png'\n",
        "D206='9BB631BD-BAEB-476F-882B-2409DD9BFB2F.png'\n",
        "D207='C5E949DC-A7CF-42F7-BBE3-861AED5B7513.png'\n",
        "D209='4461FF04-3F51-4D18-937C-4EF8B7029512.png'\n",
        "D310='0EF4A552-C6CC-4962-AFE6-B0A2409520CD.png'\n",
        "D302='18F972FA-43B0-40DF-AABB-8828D0372A5B.png'\n",
        "D305='421B4DF0-A6E0-4AE6-9B49-B7F5AC97F2F8.png'\n",
        "D306='FAB4A206-0403-4EF1-BBF3-049C1A1035F5.png'\n",
        "D401='AC2BCA95-462F-4365-95C9-B1970E3A5F18.png'\n",
        "D405='0AC12D10-17A8-4E11-A73E-F81FA2DDEDA0.png'\n",
        "D407='199A9F1C-2BF3-44D2-86E1-75CF031294CD.png'\n",
        "D409='09176E44-73F6-44C0-A749-2C45508C8420.png'"
      ],
      "execution_count": null,
      "outputs": []
    },
    {
      "cell_type": "markdown",
      "metadata": {
        "id": "3TcJcECMMc3N"
      },
      "source": [
        "2. ดึงรูป"
      ]
    },
    {
      "cell_type": "markdown",
      "metadata": {
        "id": "-2DLN4dU58-w"
      },
      "source": [
        "A1"
      ]
    },
    {
      "cell_type": "code",
      "metadata": {
        "id": "dfvpEWdmMa6t"
      },
      "source": [
        "full_path_to_file2 = os.path.join(A101) \n",
        "blob_service_client.get_blob_to_path('shadeimg', full_path_to_file2, full_path_to_file2)"
      ],
      "execution_count": null,
      "outputs": []
    },
    {
      "cell_type": "code",
      "metadata": {
        "id": "K7dLDFbCMpvz"
      },
      "source": [
        "full_path_to_file2 = os.path.join(A102) \n",
        "blob_service_client.get_blob_to_path('shadeimg', full_path_to_file2, full_path_to_file2)"
      ],
      "execution_count": null,
      "outputs": []
    },
    {
      "cell_type": "code",
      "metadata": {
        "id": "ossmoCKeMqXd"
      },
      "source": [
        "full_path_to_file2 = os.path.join(A105) \n",
        "blob_service_client.get_blob_to_path('shadeimg', full_path_to_file2, full_path_to_file2)"
      ],
      "execution_count": null,
      "outputs": []
    },
    {
      "cell_type": "code",
      "metadata": {
        "id": "LWPDqUeuMqr2"
      },
      "source": [
        "full_path_to_file2 = os.path.join(A106) \n",
        "blob_service_client.get_blob_to_path('shadeimg', full_path_to_file2, full_path_to_file2)"
      ],
      "execution_count": null,
      "outputs": []
    },
    {
      "cell_type": "markdown",
      "metadata": {
        "id": "7eSok94g6DY0"
      },
      "source": [
        "A2"
      ]
    },
    {
      "cell_type": "code",
      "metadata": {
        "id": "PyTA7XkHMq9w"
      },
      "source": [
        "full_path_to_file2 = os.path.join(A202) \n",
        "blob_service_client.get_blob_to_path('shadeimg', full_path_to_file2, full_path_to_file2)"
      ],
      "execution_count": null,
      "outputs": []
    },
    {
      "cell_type": "code",
      "metadata": {
        "id": "0Wsi63jYMrNy"
      },
      "source": [
        "full_path_to_file2 = os.path.join(A204) \n",
        "blob_service_client.get_blob_to_path('shadeimg', full_path_to_file2, full_path_to_file2)"
      ],
      "execution_count": null,
      "outputs": []
    },
    {
      "cell_type": "code",
      "metadata": {
        "id": "sRO02lHCMyU8"
      },
      "source": [
        "full_path_to_file2 = os.path.join(A207) \n",
        "blob_service_client.get_blob_to_path('shadeimg', full_path_to_file2, full_path_to_file2)"
      ],
      "execution_count": null,
      "outputs": []
    },
    {
      "cell_type": "code",
      "metadata": {
        "id": "5Ag__xJLMy0n"
      },
      "source": [
        "full_path_to_file2 = os.path.join(A208) \n",
        "blob_service_client.get_blob_to_path('shadeimg', full_path_to_file2, full_path_to_file2)"
      ],
      "execution_count": null,
      "outputs": []
    },
    {
      "cell_type": "markdown",
      "metadata": {
        "id": "T8ArUP9X6JRK"
      },
      "source": [
        "A3"
      ]
    },
    {
      "cell_type": "code",
      "metadata": {
        "id": "hXvuZHdVMzGJ"
      },
      "source": [
        "full_path_to_file2 = os.path.join(A303) \n",
        "blob_service_client.get_blob_to_path('shadeimg', full_path_to_file2, full_path_to_file2)"
      ],
      "execution_count": null,
      "outputs": []
    },
    {
      "cell_type": "code",
      "metadata": {
        "id": "tNBaXgTLMzW1"
      },
      "source": [
        "full_path_to_file2 = os.path.join(A307) \n",
        "blob_service_client.get_blob_to_path('shadeimg', full_path_to_file2, full_path_to_file2)"
      ],
      "execution_count": null,
      "outputs": []
    },
    {
      "cell_type": "code",
      "metadata": {
        "id": "guP0y28iMzlX"
      },
      "source": [
        "full_path_to_file2 = os.path.join(A308) \n",
        "blob_service_client.get_blob_to_path('shadeimg', full_path_to_file2, full_path_to_file2)"
      ],
      "execution_count": null,
      "outputs": []
    },
    {
      "cell_type": "code",
      "metadata": {
        "id": "_tNHaAmmMz4P"
      },
      "source": [
        "full_path_to_file2 = os.path.join(A310) \n",
        "blob_service_client.get_blob_to_path('shadeimg', full_path_to_file2, full_path_to_file2)"
      ],
      "execution_count": null,
      "outputs": []
    },
    {
      "cell_type": "markdown",
      "metadata": {
        "id": "Zr5SEMNq6LDo"
      },
      "source": [
        "A3.5"
      ]
    },
    {
      "cell_type": "code",
      "metadata": {
        "id": "sTyFzeTgM1Kn"
      },
      "source": [
        "full_path_to_file2 = os.path.join(A3_501) \n",
        "blob_service_client.get_blob_to_path('shadeimg', full_path_to_file2, full_path_to_file2)"
      ],
      "execution_count": null,
      "outputs": []
    },
    {
      "cell_type": "code",
      "metadata": {
        "id": "GfOwcLmUM1cV"
      },
      "source": [
        "full_path_to_file2 = os.path.join(A3_505) \n",
        "blob_service_client.get_blob_to_path('shadeimg', full_path_to_file2, full_path_to_file2)"
      ],
      "execution_count": null,
      "outputs": []
    },
    {
      "cell_type": "code",
      "metadata": {
        "id": "McP4ADOjM1sG"
      },
      "source": [
        "full_path_to_file2 = os.path.join(A3_507) \n",
        "blob_service_client.get_blob_to_path('shadeimg', full_path_to_file2, full_path_to_file2)"
      ],
      "execution_count": null,
      "outputs": []
    },
    {
      "cell_type": "code",
      "metadata": {
        "id": "U9Vqt91zM1_7"
      },
      "source": [
        "full_path_to_file2 = os.path.join(A3_510) \n",
        "blob_service_client.get_blob_to_path('shadeimg', full_path_to_file2, full_path_to_file2)"
      ],
      "execution_count": null,
      "outputs": []
    },
    {
      "cell_type": "markdown",
      "metadata": {
        "id": "tb0g_NiJ6YZB"
      },
      "source": [
        "A4"
      ]
    },
    {
      "cell_type": "code",
      "metadata": {
        "id": "p__p689dM2Y4"
      },
      "source": [
        "full_path_to_file2 = os.path.join(A401) \n",
        "blob_service_client.get_blob_to_path('shadeimg', full_path_to_file2, full_path_to_file2)"
      ],
      "execution_count": null,
      "outputs": []
    },
    {
      "cell_type": "code",
      "metadata": {
        "id": "GxnzlcImM2zK"
      },
      "source": [
        "full_path_to_file2 = os.path.join(A404) \n",
        "blob_service_client.get_blob_to_path('shadeimg', full_path_to_file2, full_path_to_file2)"
      ],
      "execution_count": null,
      "outputs": []
    },
    {
      "cell_type": "code",
      "metadata": {
        "id": "Cb0iSM1LM3Fh"
      },
      "source": [
        "full_path_to_file2 = os.path.join(A405) \n",
        "blob_service_client.get_blob_to_path('shadeimg', full_path_to_file2, full_path_to_file2)"
      ],
      "execution_count": null,
      "outputs": []
    },
    {
      "cell_type": "code",
      "metadata": {
        "id": "lw_8lwTjM3Ym"
      },
      "source": [
        "full_path_to_file2 = os.path.join(A409) \n",
        "blob_service_client.get_blob_to_path('shadeimg', full_path_to_file2, full_path_to_file2)"
      ],
      "execution_count": null,
      "outputs": []
    },
    {
      "cell_type": "markdown",
      "metadata": {
        "id": "y3hyi70v6bOe"
      },
      "source": [
        "B1"
      ]
    },
    {
      "cell_type": "code",
      "metadata": {
        "id": "TE6rC95XM3p1"
      },
      "source": [
        "full_path_to_file2 = os.path.join(B102) \n",
        "blob_service_client.get_blob_to_path('shadeimg', full_path_to_file2, full_path_to_file2)"
      ],
      "execution_count": null,
      "outputs": []
    },
    {
      "cell_type": "code",
      "metadata": {
        "id": "LckPT4ofM35k"
      },
      "source": [
        "full_path_to_file2 = os.path.join(B103) \n",
        "blob_service_client.get_blob_to_path('shadeimg', full_path_to_file2, full_path_to_file2)"
      ],
      "execution_count": null,
      "outputs": []
    },
    {
      "cell_type": "code",
      "metadata": {
        "id": "I_0IZTEkM4Rk"
      },
      "source": [
        "full_path_to_file2 = os.path.join(B105) \n",
        "blob_service_client.get_blob_to_path('shadeimg', full_path_to_file2, full_path_to_file2)"
      ],
      "execution_count": null,
      "outputs": []
    },
    {
      "cell_type": "code",
      "metadata": {
        "id": "m6mrMVIfM4f6"
      },
      "source": [
        "full_path_to_file2 = os.path.join(B107) \n",
        "blob_service_client.get_blob_to_path('shadeimg', full_path_to_file2, full_path_to_file2)"
      ],
      "execution_count": null,
      "outputs": []
    },
    {
      "cell_type": "markdown",
      "metadata": {
        "id": "vFOfNYz-6crs"
      },
      "source": [
        "B2"
      ]
    },
    {
      "cell_type": "code",
      "metadata": {
        "id": "sS3PN1dVM4v7"
      },
      "source": [
        "full_path_to_file2 = os.path.join(B201) \n",
        "blob_service_client.get_blob_to_path('shadeimg', full_path_to_file2, full_path_to_file2)"
      ],
      "execution_count": null,
      "outputs": []
    },
    {
      "cell_type": "code",
      "metadata": {
        "id": "0Q_wZqWXM5Ak"
      },
      "source": [
        "full_path_to_file2 = os.path.join(B203) \n",
        "blob_service_client.get_blob_to_path('shadeimg', full_path_to_file2, full_path_to_file2)"
      ],
      "execution_count": null,
      "outputs": []
    },
    {
      "cell_type": "code",
      "metadata": {
        "id": "9TsD8BWYM5PC"
      },
      "source": [
        "full_path_to_file2 = os.path.join(B204) \n",
        "blob_service_client.get_blob_to_path('shadeimg', full_path_to_file2, full_path_to_file2)"
      ],
      "execution_count": null,
      "outputs": []
    },
    {
      "cell_type": "code",
      "metadata": {
        "id": "lkbjr25aM5l2"
      },
      "source": [
        "full_path_to_file2 = os.path.join(B206) \n",
        "blob_service_client.get_blob_to_path('shadeimg', full_path_to_file2, full_path_to_file2)"
      ],
      "execution_count": null,
      "outputs": []
    },
    {
      "cell_type": "markdown",
      "metadata": {
        "id": "Gu5OAhld6dzx"
      },
      "source": [
        "B3"
      ]
    },
    {
      "cell_type": "code",
      "metadata": {
        "id": "pKlOz4Y9M5zI"
      },
      "source": [
        "full_path_to_file2 = os.path.join(B301) \n",
        "blob_service_client.get_blob_to_path('shadeimg', full_path_to_file2, full_path_to_file2)"
      ],
      "execution_count": null,
      "outputs": []
    },
    {
      "cell_type": "code",
      "metadata": {
        "id": "FBXvBSTRM6Ff"
      },
      "source": [
        "full_path_to_file2 = os.path.join(B304) \n",
        "blob_service_client.get_blob_to_path('shadeimg', full_path_to_file2, full_path_to_file2)"
      ],
      "execution_count": null,
      "outputs": []
    },
    {
      "cell_type": "code",
      "metadata": {
        "id": "tOjiOM5WM6VJ"
      },
      "source": [
        "full_path_to_file2 = os.path.join(B308) \n",
        "blob_service_client.get_blob_to_path('shadeimg', full_path_to_file2, full_path_to_file2)"
      ],
      "execution_count": null,
      "outputs": []
    },
    {
      "cell_type": "code",
      "metadata": {
        "id": "sB4eY_m8M6zX"
      },
      "source": [
        "full_path_to_file2 = os.path.join(B309) \n",
        "blob_service_client.get_blob_to_path('shadeimg', full_path_to_file2, full_path_to_file2)"
      ],
      "execution_count": null,
      "outputs": []
    },
    {
      "cell_type": "markdown",
      "metadata": {
        "id": "z2hzhQXO6gIR"
      },
      "source": [
        "B4"
      ]
    },
    {
      "cell_type": "code",
      "metadata": {
        "id": "CrE9IrOKM6_x"
      },
      "source": [
        "full_path_to_file2 = os.path.join(B402) \n",
        "blob_service_client.get_blob_to_path('shadeimg', full_path_to_file2, full_path_to_file2)"
      ],
      "execution_count": null,
      "outputs": []
    },
    {
      "cell_type": "code",
      "metadata": {
        "id": "VI-jWhY7M7Nn"
      },
      "source": [
        "full_path_to_file2 = os.path.join(B403) \n",
        "blob_service_client.get_blob_to_path('shadeimg', full_path_to_file2, full_path_to_file2)"
      ],
      "execution_count": null,
      "outputs": []
    },
    {
      "cell_type": "code",
      "metadata": {
        "id": "u1-1VQHsM7gc"
      },
      "source": [
        "full_path_to_file2 = os.path.join(B407) \n",
        "blob_service_client.get_blob_to_path('shadeimg', full_path_to_file2, full_path_to_file2)"
      ],
      "execution_count": null,
      "outputs": []
    },
    {
      "cell_type": "code",
      "metadata": {
        "id": "sYU6Ee-_M7vh"
      },
      "source": [
        "full_path_to_file2 = os.path.join(B410) \n",
        "blob_service_client.get_blob_to_path('shadeimg', full_path_to_file2, full_path_to_file2)"
      ],
      "execution_count": null,
      "outputs": []
    },
    {
      "cell_type": "markdown",
      "metadata": {
        "id": "x1KIKFLy6h8k"
      },
      "source": [
        "C1"
      ]
    },
    {
      "cell_type": "code",
      "metadata": {
        "id": "ozshiopsM8KV"
      },
      "source": [
        "full_path_to_file2 = os.path.join(C103) \n",
        "blob_service_client.get_blob_to_path('shadeimg', full_path_to_file2, full_path_to_file2)"
      ],
      "execution_count": null,
      "outputs": []
    },
    {
      "cell_type": "code",
      "metadata": {
        "id": "d1NH8nHMM8aw"
      },
      "source": [
        "full_path_to_file2 = os.path.join(C106) \n",
        "blob_service_client.get_blob_to_path('shadeimg', full_path_to_file2, full_path_to_file2)"
      ],
      "execution_count": null,
      "outputs": []
    },
    {
      "cell_type": "code",
      "metadata": {
        "id": "VpSFswEtM8q1"
      },
      "source": [
        "full_path_to_file2 = os.path.join(C107) \n",
        "blob_service_client.get_blob_to_path('shadeimg', full_path_to_file2, full_path_to_file2)"
      ],
      "execution_count": null,
      "outputs": []
    },
    {
      "cell_type": "code",
      "metadata": {
        "id": "WvwLHiKSM84s"
      },
      "source": [
        "full_path_to_file2 = os.path.join(C109) \n",
        "blob_service_client.get_blob_to_path('shadeimg', full_path_to_file2, full_path_to_file2)"
      ],
      "execution_count": null,
      "outputs": []
    },
    {
      "cell_type": "markdown",
      "metadata": {
        "id": "UOfwpXiM6j9h"
      },
      "source": [
        "C2"
      ]
    },
    {
      "cell_type": "code",
      "metadata": {
        "id": "XS24LMqdM9Jz"
      },
      "source": [
        "full_path_to_file2 = os.path.join(C201) \n",
        "blob_service_client.get_blob_to_path('shadeimg', full_path_to_file2, full_path_to_file2)"
      ],
      "execution_count": null,
      "outputs": []
    },
    {
      "cell_type": "code",
      "metadata": {
        "id": "zGEn6v4MM9n7"
      },
      "source": [
        "full_path_to_file2 = os.path.join(C202) \n",
        "blob_service_client.get_blob_to_path('shadeimg', full_path_to_file2, full_path_to_file2)"
      ],
      "execution_count": null,
      "outputs": []
    },
    {
      "cell_type": "code",
      "metadata": {
        "id": "ZYWoqG-PM91q"
      },
      "source": [
        "full_path_to_file2 = os.path.join(C205) \n",
        "blob_service_client.get_blob_to_path('shadeimg', full_path_to_file2, full_path_to_file2)"
      ],
      "execution_count": null,
      "outputs": []
    },
    {
      "cell_type": "code",
      "metadata": {
        "id": "ZaCIgZwuM-F6"
      },
      "source": [
        "full_path_to_file2 = os.path.join(C210) \n",
        "blob_service_client.get_blob_to_path('shadeimg', full_path_to_file2, full_path_to_file2)"
      ],
      "execution_count": null,
      "outputs": []
    },
    {
      "cell_type": "markdown",
      "metadata": {
        "id": "Dre9rll26lii"
      },
      "source": [
        "C3"
      ]
    },
    {
      "cell_type": "code",
      "metadata": {
        "id": "pYM6gQadM-WB"
      },
      "source": [
        "full_path_to_file2 = os.path.join(C301) \n",
        "blob_service_client.get_blob_to_path('shadeimg', full_path_to_file2, full_path_to_file2)"
      ],
      "execution_count": null,
      "outputs": []
    },
    {
      "cell_type": "code",
      "metadata": {
        "id": "ZT2WI6_SM-l1"
      },
      "source": [
        "full_path_to_file2 = os.path.join(C303) \n",
        "blob_service_client.get_blob_to_path('shadeimg', full_path_to_file2, full_path_to_file2)"
      ],
      "execution_count": null,
      "outputs": []
    },
    {
      "cell_type": "code",
      "metadata": {
        "id": "EEeOjowDM-9y"
      },
      "source": [
        "full_path_to_file2 = os.path.join(C306) \n",
        "blob_service_client.get_blob_to_path('shadeimg', full_path_to_file2, full_path_to_file2)"
      ],
      "execution_count": null,
      "outputs": []
    },
    {
      "cell_type": "code",
      "metadata": {
        "id": "xewKWFZOM_Lf"
      },
      "source": [
        "full_path_to_file2 = os.path.join(C309) \n",
        "blob_service_client.get_blob_to_path('shadeimg', full_path_to_file2, full_path_to_file2)"
      ],
      "execution_count": null,
      "outputs": []
    },
    {
      "cell_type": "markdown",
      "metadata": {
        "id": "A89CEXhb6nqF"
      },
      "source": [
        "C4"
      ]
    },
    {
      "cell_type": "code",
      "metadata": {
        "id": "g678A78gM_Zs"
      },
      "source": [
        "full_path_to_file2 = os.path.join(C402) \n",
        "blob_service_client.get_blob_to_path('shadeimg', full_path_to_file2, full_path_to_file2)"
      ],
      "execution_count": null,
      "outputs": []
    },
    {
      "cell_type": "code",
      "metadata": {
        "id": "-VduLUrmM_rU"
      },
      "source": [
        "full_path_to_file2 = os.path.join(C405) \n",
        "blob_service_client.get_blob_to_path('shadeimg', full_path_to_file2, full_path_to_file2)"
      ],
      "execution_count": null,
      "outputs": []
    },
    {
      "cell_type": "code",
      "metadata": {
        "id": "xObkE1AjM_4Y"
      },
      "source": [
        "full_path_to_file2 = os.path.join(C408) \n",
        "blob_service_client.get_blob_to_path('shadeimg', full_path_to_file2, full_path_to_file2)"
      ],
      "execution_count": null,
      "outputs": []
    },
    {
      "cell_type": "code",
      "metadata": {
        "id": "OrsILvN3NANL"
      },
      "source": [
        "full_path_to_file2 = os.path.join(C409) \n",
        "blob_service_client.get_blob_to_path('shadeimg', full_path_to_file2, full_path_to_file2)"
      ],
      "execution_count": null,
      "outputs": []
    },
    {
      "cell_type": "markdown",
      "metadata": {
        "id": "2nXnc9S96qZe"
      },
      "source": [
        "D2"
      ]
    },
    {
      "cell_type": "code",
      "metadata": {
        "id": "FUDIdSfYNAaN"
      },
      "source": [
        "full_path_to_file2 = os.path.join(D204) \n",
        "blob_service_client.get_blob_to_path('shadeimg', full_path_to_file2, full_path_to_file2)"
      ],
      "execution_count": null,
      "outputs": []
    },
    {
      "cell_type": "code",
      "metadata": {
        "id": "raReD8PoNAps"
      },
      "source": [
        "full_path_to_file2 = os.path.join(D206) \n",
        "blob_service_client.get_blob_to_path('shadeimg', full_path_to_file2, full_path_to_file2)"
      ],
      "execution_count": null,
      "outputs": []
    },
    {
      "cell_type": "code",
      "metadata": {
        "id": "DMIe2HlbNA-P"
      },
      "source": [
        "full_path_to_file2 = os.path.join(D207) \n",
        "blob_service_client.get_blob_to_path('shadeimg', full_path_to_file2, full_path_to_file2)"
      ],
      "execution_count": null,
      "outputs": []
    },
    {
      "cell_type": "code",
      "metadata": {
        "id": "t4rYO8AINBX4"
      },
      "source": [
        "full_path_to_file2 = os.path.join(D209) \n",
        "blob_service_client.get_blob_to_path('shadeimg', full_path_to_file2, full_path_to_file2)"
      ],
      "execution_count": null,
      "outputs": []
    },
    {
      "cell_type": "markdown",
      "metadata": {
        "id": "84tHGN-56sF3"
      },
      "source": [
        "D3"
      ]
    },
    {
      "cell_type": "code",
      "metadata": {
        "id": "o9G8c3AvNBzL"
      },
      "source": [
        "full_path_to_file2 = os.path.join(D310) \n",
        "blob_service_client.get_blob_to_path('shadeimg', full_path_to_file2, full_path_to_file2)"
      ],
      "execution_count": null,
      "outputs": []
    },
    {
      "cell_type": "code",
      "metadata": {
        "id": "BD80SXlvNCC9"
      },
      "source": [
        "full_path_to_file2 = os.path.join(D302) \n",
        "blob_service_client.get_blob_to_path('shadeimg', full_path_to_file2, full_path_to_file2)"
      ],
      "execution_count": null,
      "outputs": []
    },
    {
      "cell_type": "code",
      "metadata": {
        "id": "VsPfNZTTNCUr"
      },
      "source": [
        "full_path_to_file2 = os.path.join(D305) \n",
        "blob_service_client.get_blob_to_path('shadeimg', full_path_to_file2, full_path_to_file2)"
      ],
      "execution_count": null,
      "outputs": []
    },
    {
      "cell_type": "code",
      "metadata": {
        "id": "ccQ4bHJDNCkI"
      },
      "source": [
        "full_path_to_file2 = os.path.join(D306) \n",
        "blob_service_client.get_blob_to_path('shadeimg', full_path_to_file2, full_path_to_file2)"
      ],
      "execution_count": null,
      "outputs": []
    },
    {
      "cell_type": "markdown",
      "metadata": {
        "id": "sc2ondun6taF"
      },
      "source": [
        "D4"
      ]
    },
    {
      "cell_type": "code",
      "metadata": {
        "id": "aLFb3BitNCxw"
      },
      "source": [
        "full_path_to_file2 = os.path.join(D401) \n",
        "blob_service_client.get_blob_to_path('shadeimg', full_path_to_file2, full_path_to_file2)"
      ],
      "execution_count": null,
      "outputs": []
    },
    {
      "cell_type": "code",
      "metadata": {
        "id": "llOjueA3NDLD"
      },
      "source": [
        "full_path_to_file2 = os.path.join(D405) \n",
        "blob_service_client.get_blob_to_path('shadeimg', full_path_to_file2, full_path_to_file2)"
      ],
      "execution_count": null,
      "outputs": []
    },
    {
      "cell_type": "code",
      "metadata": {
        "id": "NC-10YE_NDax"
      },
      "source": [
        "full_path_to_file2 = os.path.join(D407) \n",
        "blob_service_client.get_blob_to_path('shadeimg', full_path_to_file2, full_path_to_file2)"
      ],
      "execution_count": null,
      "outputs": []
    },
    {
      "cell_type": "code",
      "metadata": {
        "id": "7mEFraJiNDsj"
      },
      "source": [
        "full_path_to_file2 = os.path.join(D409) \n",
        "blob_service_client.get_blob_to_path('shadeimg', full_path_to_file2, full_path_to_file2)"
      ],
      "execution_count": null,
      "outputs": []
    },
    {
      "cell_type": "code",
      "metadata": {
        "id": "6sOG0KHf44eI"
      },
      "source": [
        "A101 A102 A105 A106 A202 A204 A207 A208 A303 A307 A308 A310 A3_501 A3_505 A3_507 A3_510 A401 A404 A405 A409\n",
        "B102 B103 B105 B107 B201 B203 B204 B206 B301 B304 B308 B309 B402 B403 B407 B410"
      ],
      "execution_count": null,
      "outputs": []
    },
    {
      "cell_type": "code",
      "metadata": {
        "id": "2MaPck1q47KT"
      },
      "source": [
        "C103 C106 C107 C109 C201 C202 C205 C210 C301 C303 C306 C309 \n",
        "C402 C405 C408 C409 D204 D206 D207 D209 D310 D302 D305 D306 D401 D405 D407 D409 "
      ],
      "execution_count": null,
      "outputs": []
    }
  ]
}