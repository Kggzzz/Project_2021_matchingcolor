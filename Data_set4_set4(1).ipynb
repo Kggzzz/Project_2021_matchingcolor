{
  "nbformat": 4,
  "nbformat_minor": 0,
  "metadata": {
    "colab": {
      "name": "Data_set4_set4(1).ipynb",
      "provenance": [],
      "authorship_tag": "ABX9TyNT1gDVfwKX+UdxnfxXyBLv",
      "include_colab_link": true
    },
    "kernelspec": {
      "name": "python3",
      "display_name": "Python 3"
    },
    "language_info": {
      "name": "python"
    }
  },
  "cells": [
    {
      "cell_type": "markdown",
      "metadata": {
        "id": "view-in-github",
        "colab_type": "text"
      },
      "source": [
        "<a href=\"https://colab.research.google.com/github/Kggzzz/Project_2021_matchingcolor/blob/main/Data_set4_set4(1).ipynb\" target=\"_parent\"><img src=\"https://colab.research.google.com/assets/colab-badge.svg\" alt=\"Open In Colab\"/></a>"
      ]
    },
    {
      "cell_type": "code",
      "metadata": {
        "id": "QfJJWz3NE5EF"
      },
      "source": [
        "import pandas as pd"
      ],
      "execution_count": null,
      "outputs": []
    },
    {
      "cell_type": "code",
      "metadata": {
        "id": "bbhDYuOZFkrI"
      },
      "source": [
        "from google.colab import drive \n",
        "drive.mount('/content/drive')"
      ],
      "execution_count": null,
      "outputs": []
    },
    {
      "cell_type": "code",
      "metadata": {
        "id": "gCZ9gB08FlpD"
      },
      "source": [
        "import os"
      ],
      "execution_count": null,
      "outputs": []
    },
    {
      "cell_type": "code",
      "metadata": {
        "id": "bs4sCMIlFmtN"
      },
      "source": [
        "path = '/content/drive/My Drive/shadeimg'"
      ],
      "execution_count": null,
      "outputs": []
    },
    {
      "cell_type": "code",
      "metadata": {
        "id": "QXJgJ1ZiFv2C"
      },
      "source": [
        "os.listdir(path)"
      ],
      "execution_count": null,
      "outputs": []
    },
    {
      "cell_type": "code",
      "metadata": {
        "id": "hIG_rvGQF-Lh"
      },
      "source": [
        "file_path = os.path.join(path,'1 teeth .xlsx')\n",
        "print(file_path)"
      ],
      "execution_count": null,
      "outputs": []
    },
    {
      "cell_type": "code",
      "metadata": {
        "id": "WU-47FCzGAhX"
      },
      "source": [
        "table1 = pd.read_excel(file_path)"
      ],
      "execution_count": null,
      "outputs": []
    },
    {
      "cell_type": "code",
      "metadata": {
        "id": "BQB5ZR4zFsSX"
      },
      "source": [
        "!pip install azure-storage-blob==2.1.0"
      ],
      "execution_count": null,
      "outputs": []
    },
    {
      "cell_type": "code",
      "metadata": {
        "id": "MmtL3ePjGKNA"
      },
      "source": [
        "from azure.storage.blob import BlockBlobService\n",
        "import os"
      ],
      "execution_count": null,
      "outputs": []
    },
    {
      "cell_type": "code",
      "metadata": {
        "id": "cBYDeSzyGMrs"
      },
      "source": [
        "blob_service_client = BlockBlobService(account_name='dent01', account_key='CuShY0B4TZJ84TjzPpaHxyrHOpO73aGXeCpdVq7x26OjIlQ1HOz+3DVc9pDEj9BdcEL8odFuTRF0mOAE+aCgiw==')"
      ],
      "execution_count": null,
      "outputs": []
    },
    {
      "cell_type": "markdown",
      "metadata": {
        "id": "29a1CpssMfaN"
      },
      "source": [
        "1. สร้างตัวแปรเฉดไกด์"
      ]
    },
    {
      "cell_type": "code",
      "metadata": {
        "id": "b7l_Shd1GOxX"
      },
      "source": [
        "A102='0EF2FA50-58AC-46C7-8E4F-70C809D07AE7.png'\n",
        "A104='79C2B772-B4F3-4CA0-AF51-1FD5A6257FBB.png'\n",
        "A105='29BD2FC4-8FC8-4495-8877-989D78A5BF21.png'\n",
        "A110='6AB1C214-8E20-492C-A1E2-20158E982526.png'\n",
        "A201='FC27D594-BBA7-48DA-9236-03264B5BE58E.png'\n",
        "A202='531C3DF6-89F7-4D9E-A764-74BC528C2C29.png'\n",
        "A206='D89E9E66-510A-4AA6-A2D5-D8A69B941525.png'\n",
        "A208='14A9EBE1-2964-4DDF-A655-EEACEA59131B.png'\n",
        "A303='A238EFFE-9FB4-48F4-BBAC-1A0C0DE2A45B.png'\n",
        "A304='49B16829-C303-4D45-B1F5-0976837ACCA7.png'\n",
        "A305='D0E42C32-D5AF-4E29-972A-BF7204DEAF1D.png'\n",
        "A309='9C3934C3-8691-4459-B586-419463244026.png'\n",
        "A3_504='B007BE4C-C6BB-43CC-AAE1-2FC4333EB4F2.png'\n",
        "A3_506='592D0AD9-01FA-425D-B131-D6222E194934.png'\n",
        "A3_507='819D4B35-E56B-4257-B144-C6B9B2BA01BD.png'\n",
        "A3_509='962DECC4-0D43-45A0-B53A-B71670C66E7E.png'\n",
        "A401='2D7FF41F-1D9C-417B-8D31-F345B87A0330.png'\n",
        "A403='D0338CAF-E0F2-40B7-81DC-F61B88759957.png'\n",
        "A406='60B3B668-C929-4BE8-866A-0B9D9121CDA1.png'\n",
        "A409='199DD984-8911-4A3D-A176-AC3421E170DD.png'\n",
        "B101='312612D1-0123-4DC8-A039-C64E419E0D2D.png'\n",
        "B102='74D174BF-EA72-404E-BCD6-B96CEC51C831.png'\n",
        "B105='B960E20E-C94F-45CD-A3D6-9D2BF35B6655.png'\n",
        "B109='76DD518D-E959-4E08-9F58-87523D1E7598.png'\n",
        "B201='3ACE7AB4-B0DE-448E-B863-20A0E327AA87.png'\n",
        "B204='0375D54F-A0AA-4BA5-8596-166C87F998F2.png'\n",
        "B205='ED430C49-56BE-40CE-8904-74781A03A45B.png'\n",
        "B209='58A65E16-93A4-418B-83FB-5A4376D5BF37.png'\n",
        "B302='65762707-B7C7-4372-BD62-774BA0C442DE.png'\n",
        "B305='5096BD5F-2C3B-4C00-AECE-5CDE13362710.png'\n",
        "B308='8CD709A3-6E06-4EE9-9364-E3BDB78D2EA5.png'\n",
        "B310='86FB6792-0389-4A0D-A6DA-4C25BD67025F.png'\n",
        "B405='52092D4D-B855-432A-BC21-A1EEABE3897E.png'\n",
        "B407='4F3D3500-2D1F-493C-8E7E-05A46B96E045.png'\n",
        "B408='B2EC0F0A-6F4D-4018-81B1-B5C5D6E887C2.png'\n",
        "B409='FE6C4865-F39B-453B-849B-77123700FB49.png'"
      ],
      "execution_count": null,
      "outputs": []
    },
    {
      "cell_type": "code",
      "metadata": {
        "id": "udfq6Zm1KS7f"
      },
      "source": [
        "C101='D0656D90-D0F8-4DED-A128-4BC3CC980B62.png'\n",
        "C102='E9023936-6A27-4506-90AA-F590E346BB26.png'\n",
        "C104='CF07B6E7-EFF2-4993-91D1-29F04CB5B384.png'\n",
        "C106='B2AE6860-1DB4-46DB-A99A-D779959C3746.png'\n",
        "C201='E06F6F87-4C75-469C-B2E9-B275033C86CE.png'\n",
        "C203='EB7A8DD9-800F-482E-B9F9-1ABAF2C4AE47.png'\n",
        "C206='EAF9BB05-E688-4D83-9399-722FFA14B95C.png'\n",
        "C209='803D47A1-3B59-451D-8B39-D6490271BF3F.png'\n",
        "C302='6D5946CB-F9CF-4E59-B3C5-044547159834.png'\n",
        "C304='977CD537-AFA6-4351-8A7C-0B13E596BD5A.png'\n",
        "C307='A07BC277-3546-4434-81D4-E0DBF2FAA1B2.png'\n",
        "C308='6E81E16A-B561-4203-AF98-95D98EBFEAEA.png'\n",
        "C401='73A7FC0D-AFED-4868-8094-6427B16C34F9.png'\n",
        "C403='0C66B7A8-2229-472B-A12E-33685831358C.png'\n",
        "C406='338CCD1D-9BB1-40A7-BFD2-976F7C17A403.png'\n",
        "C409='B6396F31-087C-4585-A8F4-F19C053F4CC6.png'\n",
        "D202='9ADD9A6D-CBD2-4A3E-AB00-1BC369ED0F23.png'\n",
        "D204='8D32AA07-9C78-4208-9E57-D410910D19D1.png'\n",
        "D205='F7BA6B12-CF05-4252-B4E6-C1C17E709F0E.png'\n",
        "D208='B2C47E99-F4A8-4B34-80C9-BCD73100490D.png'\n",
        "D301='EAAB2D73-BD7B-4485-BAEF-BEA0696177CE.png'\n",
        "D306='0CF9A52C-615B-4A08-B907-ABD0718B659D.png'\n",
        "D308='D72B57AE-D8BE-493F-9DFA-F1A1ECFA5B5E.png'\n",
        "D310='1DF95439-9E76-4980-9914-663BA483FB6B.png'\n",
        "D402='631354FF-7969-4BFF-AEEF-DBA261F593C9.png'\n",
        "D405='7E19A025-E690-4582-A36B-17CB4CF65520.png'\n",
        "D409='F02FD5D4-AFC4-454C-A27B-728EC04C9F98.png'\n",
        "D410='7A9BD768-FDF6-48E4-B20D-8296635F0257.png'"
      ],
      "execution_count": null,
      "outputs": []
    },
    {
      "cell_type": "markdown",
      "metadata": {
        "id": "3TcJcECMMc3N"
      },
      "source": [
        "2. ดึงรูป"
      ]
    },
    {
      "cell_type": "markdown",
      "metadata": {
        "id": "ykPUTtNF2ONo"
      },
      "source": [
        "A1"
      ]
    },
    {
      "cell_type": "code",
      "metadata": {
        "id": "dfvpEWdmMa6t"
      },
      "source": [
        "full_path_to_file2 = os.path.join(A102) \n",
        "blob_service_client.get_blob_to_path('shadeimg', full_path_to_file2, full_path_to_file2)"
      ],
      "execution_count": null,
      "outputs": []
    },
    {
      "cell_type": "code",
      "metadata": {
        "id": "K7dLDFbCMpvz"
      },
      "source": [
        "full_path_to_file2 = os.path.join(A104) \n",
        "blob_service_client.get_blob_to_path('shadeimg', full_path_to_file2, full_path_to_file2)"
      ],
      "execution_count": null,
      "outputs": []
    },
    {
      "cell_type": "code",
      "metadata": {
        "id": "ossmoCKeMqXd"
      },
      "source": [
        "full_path_to_file2 = os.path.join(A105) \n",
        "blob_service_client.get_blob_to_path('shadeimg', full_path_to_file2, full_path_to_file2)"
      ],
      "execution_count": null,
      "outputs": []
    },
    {
      "cell_type": "code",
      "metadata": {
        "id": "LWPDqUeuMqr2"
      },
      "source": [
        "full_path_to_file2 = os.path.join(A110) \n",
        "blob_service_client.get_blob_to_path('shadeimg', full_path_to_file2, full_path_to_file2)"
      ],
      "execution_count": null,
      "outputs": []
    },
    {
      "cell_type": "markdown",
      "metadata": {
        "id": "AfTsJrk82en6"
      },
      "source": [
        "A2"
      ]
    },
    {
      "cell_type": "code",
      "metadata": {
        "id": "PyTA7XkHMq9w"
      },
      "source": [
        "full_path_to_file2 = os.path.join(A201) \n",
        "blob_service_client.get_blob_to_path('shadeimg', full_path_to_file2, full_path_to_file2)"
      ],
      "execution_count": null,
      "outputs": []
    },
    {
      "cell_type": "code",
      "metadata": {
        "id": "0Wsi63jYMrNy"
      },
      "source": [
        "full_path_to_file2 = os.path.join(A202) \n",
        "blob_service_client.get_blob_to_path('shadeimg', full_path_to_file2, full_path_to_file2)"
      ],
      "execution_count": null,
      "outputs": []
    },
    {
      "cell_type": "code",
      "metadata": {
        "id": "sRO02lHCMyU8"
      },
      "source": [
        "full_path_to_file2 = os.path.join(A206) \n",
        "blob_service_client.get_blob_to_path('shadeimg', full_path_to_file2, full_path_to_file2)"
      ],
      "execution_count": null,
      "outputs": []
    },
    {
      "cell_type": "code",
      "metadata": {
        "id": "5Ag__xJLMy0n"
      },
      "source": [
        "full_path_to_file2 = os.path.join(A208) \n",
        "blob_service_client.get_blob_to_path('shadeimg', full_path_to_file2, full_path_to_file2)"
      ],
      "execution_count": null,
      "outputs": []
    },
    {
      "cell_type": "markdown",
      "metadata": {
        "id": "DvQkEgl52kXQ"
      },
      "source": [
        "A3"
      ]
    },
    {
      "cell_type": "code",
      "metadata": {
        "id": "hXvuZHdVMzGJ"
      },
      "source": [
        "full_path_to_file2 = os.path.join(A303) \n",
        "blob_service_client.get_blob_to_path('shadeimg', full_path_to_file2, full_path_to_file2)"
      ],
      "execution_count": null,
      "outputs": []
    },
    {
      "cell_type": "code",
      "metadata": {
        "id": "tNBaXgTLMzW1"
      },
      "source": [
        "full_path_to_file2 = os.path.join(A304) \n",
        "blob_service_client.get_blob_to_path('shadeimg', full_path_to_file2, full_path_to_file2)"
      ],
      "execution_count": null,
      "outputs": []
    },
    {
      "cell_type": "code",
      "metadata": {
        "id": "guP0y28iMzlX"
      },
      "source": [
        "full_path_to_file2 = os.path.join(A305) \n",
        "blob_service_client.get_blob_to_path('shadeimg', full_path_to_file2, full_path_to_file2)"
      ],
      "execution_count": null,
      "outputs": []
    },
    {
      "cell_type": "code",
      "metadata": {
        "id": "_tNHaAmmMz4P"
      },
      "source": [
        "full_path_to_file2 = os.path.join(A309) \n",
        "blob_service_client.get_blob_to_path('shadeimg', full_path_to_file2, full_path_to_file2)"
      ],
      "execution_count": null,
      "outputs": []
    },
    {
      "cell_type": "markdown",
      "metadata": {
        "id": "lvTfpl_G2nHe"
      },
      "source": [
        "A3.5"
      ]
    },
    {
      "cell_type": "code",
      "metadata": {
        "id": "sTyFzeTgM1Kn"
      },
      "source": [
        "full_path_to_file2 = os.path.join(A3_504) \n",
        "blob_service_client.get_blob_to_path('shadeimg', full_path_to_file2, full_path_to_file2)"
      ],
      "execution_count": null,
      "outputs": []
    },
    {
      "cell_type": "code",
      "metadata": {
        "id": "GfOwcLmUM1cV"
      },
      "source": [
        "full_path_to_file2 = os.path.join(A3_506) \n",
        "blob_service_client.get_blob_to_path('shadeimg', full_path_to_file2, full_path_to_file2)"
      ],
      "execution_count": null,
      "outputs": []
    },
    {
      "cell_type": "code",
      "metadata": {
        "id": "McP4ADOjM1sG"
      },
      "source": [
        "full_path_to_file2 = os.path.join(A3_507) \n",
        "blob_service_client.get_blob_to_path('shadeimg', full_path_to_file2, full_path_to_file2)"
      ],
      "execution_count": null,
      "outputs": []
    },
    {
      "cell_type": "code",
      "metadata": {
        "id": "U9Vqt91zM1_7"
      },
      "source": [
        "full_path_to_file2 = os.path.join(A3_509) \n",
        "blob_service_client.get_blob_to_path('shadeimg', full_path_to_file2, full_path_to_file2)"
      ],
      "execution_count": null,
      "outputs": []
    },
    {
      "cell_type": "markdown",
      "metadata": {
        "id": "E08xKOEm2wBk"
      },
      "source": [
        "A4"
      ]
    },
    {
      "cell_type": "code",
      "metadata": {
        "id": "p__p689dM2Y4"
      },
      "source": [
        "full_path_to_file2 = os.path.join(A401) \n",
        "blob_service_client.get_blob_to_path('shadeimg', full_path_to_file2, full_path_to_file2)"
      ],
      "execution_count": null,
      "outputs": []
    },
    {
      "cell_type": "code",
      "metadata": {
        "id": "GxnzlcImM2zK"
      },
      "source": [
        "full_path_to_file2 = os.path.join(A403) \n",
        "blob_service_client.get_blob_to_path('shadeimg', full_path_to_file2, full_path_to_file2)"
      ],
      "execution_count": null,
      "outputs": []
    },
    {
      "cell_type": "code",
      "metadata": {
        "id": "Cb0iSM1LM3Fh"
      },
      "source": [
        "full_path_to_file2 = os.path.join(A406) \n",
        "blob_service_client.get_blob_to_path('shadeimg', full_path_to_file2, full_path_to_file2)"
      ],
      "execution_count": null,
      "outputs": []
    },
    {
      "cell_type": "code",
      "metadata": {
        "id": "lw_8lwTjM3Ym"
      },
      "source": [
        "full_path_to_file2 = os.path.join(A409) \n",
        "blob_service_client.get_blob_to_path('shadeimg', full_path_to_file2, full_path_to_file2)"
      ],
      "execution_count": null,
      "outputs": []
    },
    {
      "cell_type": "markdown",
      "metadata": {
        "id": "KQogxhel2yEI"
      },
      "source": [
        "B1"
      ]
    },
    {
      "cell_type": "code",
      "metadata": {
        "id": "TE6rC95XM3p1"
      },
      "source": [
        "full_path_to_file2 = os.path.join(B101) \n",
        "blob_service_client.get_blob_to_path('shadeimg', full_path_to_file2, full_path_to_file2)"
      ],
      "execution_count": null,
      "outputs": []
    },
    {
      "cell_type": "code",
      "metadata": {
        "id": "LckPT4ofM35k"
      },
      "source": [
        "full_path_to_file2 = os.path.join(B102) \n",
        "blob_service_client.get_blob_to_path('shadeimg', full_path_to_file2, full_path_to_file2)"
      ],
      "execution_count": null,
      "outputs": []
    },
    {
      "cell_type": "code",
      "metadata": {
        "id": "I_0IZTEkM4Rk"
      },
      "source": [
        "full_path_to_file2 = os.path.join(B105) \n",
        "blob_service_client.get_blob_to_path('shadeimg', full_path_to_file2, full_path_to_file2)"
      ],
      "execution_count": null,
      "outputs": []
    },
    {
      "cell_type": "code",
      "metadata": {
        "id": "m6mrMVIfM4f6"
      },
      "source": [
        "full_path_to_file2 = os.path.join(B109) \n",
        "blob_service_client.get_blob_to_path('shadeimg', full_path_to_file2, full_path_to_file2)"
      ],
      "execution_count": null,
      "outputs": []
    },
    {
      "cell_type": "markdown",
      "metadata": {
        "id": "evKQSc3o2zdI"
      },
      "source": [
        "B2"
      ]
    },
    {
      "cell_type": "code",
      "metadata": {
        "id": "sS3PN1dVM4v7"
      },
      "source": [
        "full_path_to_file2 = os.path.join(B201) \n",
        "blob_service_client.get_blob_to_path('shadeimg', full_path_to_file2, full_path_to_file2)"
      ],
      "execution_count": null,
      "outputs": []
    },
    {
      "cell_type": "code",
      "metadata": {
        "id": "0Q_wZqWXM5Ak"
      },
      "source": [
        "full_path_to_file2 = os.path.join(B204) \n",
        "blob_service_client.get_blob_to_path('shadeimg', full_path_to_file2, full_path_to_file2)"
      ],
      "execution_count": null,
      "outputs": []
    },
    {
      "cell_type": "code",
      "metadata": {
        "id": "9TsD8BWYM5PC"
      },
      "source": [
        "full_path_to_file2 = os.path.join(B205) \n",
        "blob_service_client.get_blob_to_path('shadeimg', full_path_to_file2, full_path_to_file2)"
      ],
      "execution_count": null,
      "outputs": []
    },
    {
      "cell_type": "code",
      "metadata": {
        "id": "lkbjr25aM5l2"
      },
      "source": [
        "full_path_to_file2 = os.path.join(B209) \n",
        "blob_service_client.get_blob_to_path('shadeimg', full_path_to_file2, full_path_to_file2)"
      ],
      "execution_count": null,
      "outputs": []
    },
    {
      "cell_type": "markdown",
      "metadata": {
        "id": "g4TRHo0w21ul"
      },
      "source": [
        "B3"
      ]
    },
    {
      "cell_type": "code",
      "metadata": {
        "id": "pKlOz4Y9M5zI"
      },
      "source": [
        "full_path_to_file2 = os.path.join(B302) \n",
        "blob_service_client.get_blob_to_path('shadeimg', full_path_to_file2, full_path_to_file2)"
      ],
      "execution_count": null,
      "outputs": []
    },
    {
      "cell_type": "code",
      "metadata": {
        "id": "FBXvBSTRM6Ff"
      },
      "source": [
        "full_path_to_file2 = os.path.join(B305) \n",
        "blob_service_client.get_blob_to_path('shadeimg', full_path_to_file2, full_path_to_file2)"
      ],
      "execution_count": null,
      "outputs": []
    },
    {
      "cell_type": "code",
      "metadata": {
        "id": "tOjiOM5WM6VJ"
      },
      "source": [
        "full_path_to_file2 = os.path.join(B308) \n",
        "blob_service_client.get_blob_to_path('shadeimg', full_path_to_file2, full_path_to_file2)"
      ],
      "execution_count": null,
      "outputs": []
    },
    {
      "cell_type": "code",
      "metadata": {
        "id": "sB4eY_m8M6zX"
      },
      "source": [
        "full_path_to_file2 = os.path.join(B310) \n",
        "blob_service_client.get_blob_to_path('shadeimg', full_path_to_file2, full_path_to_file2)"
      ],
      "execution_count": null,
      "outputs": []
    },
    {
      "cell_type": "markdown",
      "metadata": {
        "id": "q8bnflla24CR"
      },
      "source": [
        "B4"
      ]
    },
    {
      "cell_type": "code",
      "metadata": {
        "id": "CrE9IrOKM6_x"
      },
      "source": [
        "full_path_to_file2 = os.path.join(B405) \n",
        "blob_service_client.get_blob_to_path('shadeimg', full_path_to_file2, full_path_to_file2)"
      ],
      "execution_count": null,
      "outputs": []
    },
    {
      "cell_type": "code",
      "metadata": {
        "id": "VI-jWhY7M7Nn"
      },
      "source": [
        "full_path_to_file2 = os.path.join(B407) \n",
        "blob_service_client.get_blob_to_path('shadeimg', full_path_to_file2, full_path_to_file2)"
      ],
      "execution_count": null,
      "outputs": []
    },
    {
      "cell_type": "code",
      "metadata": {
        "id": "u1-1VQHsM7gc"
      },
      "source": [
        "full_path_to_file2 = os.path.join(B408) \n",
        "blob_service_client.get_blob_to_path('shadeimg', full_path_to_file2, full_path_to_file2)"
      ],
      "execution_count": null,
      "outputs": []
    },
    {
      "cell_type": "code",
      "metadata": {
        "id": "sYU6Ee-_M7vh"
      },
      "source": [
        "full_path_to_file2 = os.path.join(B409) \n",
        "blob_service_client.get_blob_to_path('shadeimg', full_path_to_file2, full_path_to_file2)"
      ],
      "execution_count": null,
      "outputs": []
    },
    {
      "cell_type": "markdown",
      "metadata": {
        "id": "oS1Fc47D26xW"
      },
      "source": [
        "C1"
      ]
    },
    {
      "cell_type": "code",
      "metadata": {
        "id": "ozshiopsM8KV"
      },
      "source": [
        "full_path_to_file2 = os.path.join(C101) \n",
        "blob_service_client.get_blob_to_path('shadeimg', full_path_to_file2, full_path_to_file2)"
      ],
      "execution_count": null,
      "outputs": []
    },
    {
      "cell_type": "code",
      "metadata": {
        "id": "d1NH8nHMM8aw"
      },
      "source": [
        "full_path_to_file2 = os.path.join(C102) \n",
        "blob_service_client.get_blob_to_path('shadeimg', full_path_to_file2, full_path_to_file2)"
      ],
      "execution_count": null,
      "outputs": []
    },
    {
      "cell_type": "code",
      "metadata": {
        "id": "VpSFswEtM8q1"
      },
      "source": [
        "full_path_to_file2 = os.path.join(C104) \n",
        "blob_service_client.get_blob_to_path('shadeimg', full_path_to_file2, full_path_to_file2)"
      ],
      "execution_count": null,
      "outputs": []
    },
    {
      "cell_type": "code",
      "metadata": {
        "id": "WvwLHiKSM84s"
      },
      "source": [
        "full_path_to_file2 = os.path.join(C106) \n",
        "blob_service_client.get_blob_to_path('shadeimg', full_path_to_file2, full_path_to_file2)"
      ],
      "execution_count": null,
      "outputs": []
    },
    {
      "cell_type": "markdown",
      "metadata": {
        "id": "ohXzOJl728P2"
      },
      "source": [
        "C2"
      ]
    },
    {
      "cell_type": "code",
      "metadata": {
        "id": "XS24LMqdM9Jz"
      },
      "source": [
        "full_path_to_file2 = os.path.join(C201) \n",
        "blob_service_client.get_blob_to_path('shadeimg', full_path_to_file2, full_path_to_file2)"
      ],
      "execution_count": null,
      "outputs": []
    },
    {
      "cell_type": "code",
      "metadata": {
        "id": "zGEn6v4MM9n7"
      },
      "source": [
        "full_path_to_file2 = os.path.join(C203) \n",
        "blob_service_client.get_blob_to_path('shadeimg', full_path_to_file2, full_path_to_file2)"
      ],
      "execution_count": null,
      "outputs": []
    },
    {
      "cell_type": "code",
      "metadata": {
        "id": "ZYWoqG-PM91q"
      },
      "source": [
        "full_path_to_file2 = os.path.join(C206) \n",
        "blob_service_client.get_blob_to_path('shadeimg', full_path_to_file2, full_path_to_file2)"
      ],
      "execution_count": null,
      "outputs": []
    },
    {
      "cell_type": "code",
      "metadata": {
        "id": "ZaCIgZwuM-F6"
      },
      "source": [
        "full_path_to_file2 = os.path.join(C209) \n",
        "blob_service_client.get_blob_to_path('shadeimg', full_path_to_file2, full_path_to_file2)"
      ],
      "execution_count": null,
      "outputs": []
    },
    {
      "cell_type": "markdown",
      "metadata": {
        "id": "t1Bkz-Q92-KZ"
      },
      "source": [
        "C3"
      ]
    },
    {
      "cell_type": "code",
      "metadata": {
        "id": "pYM6gQadM-WB"
      },
      "source": [
        "full_path_to_file2 = os.path.join(C302) \n",
        "blob_service_client.get_blob_to_path('shadeimg', full_path_to_file2, full_path_to_file2)"
      ],
      "execution_count": null,
      "outputs": []
    },
    {
      "cell_type": "code",
      "metadata": {
        "id": "ZT2WI6_SM-l1"
      },
      "source": [
        "full_path_to_file2 = os.path.join(C304) \n",
        "blob_service_client.get_blob_to_path('shadeimg', full_path_to_file2, full_path_to_file2)"
      ],
      "execution_count": null,
      "outputs": []
    },
    {
      "cell_type": "code",
      "metadata": {
        "id": "EEeOjowDM-9y"
      },
      "source": [
        "full_path_to_file2 = os.path.join(C307) \n",
        "blob_service_client.get_blob_to_path('shadeimg', full_path_to_file2, full_path_to_file2)"
      ],
      "execution_count": null,
      "outputs": []
    },
    {
      "cell_type": "code",
      "metadata": {
        "id": "xewKWFZOM_Lf"
      },
      "source": [
        "full_path_to_file2 = os.path.join(C308) \n",
        "blob_service_client.get_blob_to_path('shadeimg', full_path_to_file2, full_path_to_file2)"
      ],
      "execution_count": null,
      "outputs": []
    },
    {
      "cell_type": "markdown",
      "metadata": {
        "id": "db0H7raA3B2h"
      },
      "source": [
        "C4"
      ]
    },
    {
      "cell_type": "code",
      "metadata": {
        "id": "g678A78gM_Zs"
      },
      "source": [
        "full_path_to_file2 = os.path.join(C401) \n",
        "blob_service_client.get_blob_to_path('shadeimg', full_path_to_file2, full_path_to_file2)"
      ],
      "execution_count": null,
      "outputs": []
    },
    {
      "cell_type": "code",
      "metadata": {
        "id": "-VduLUrmM_rU"
      },
      "source": [
        "full_path_to_file2 = os.path.join(C403) \n",
        "blob_service_client.get_blob_to_path('shadeimg', full_path_to_file2, full_path_to_file2)"
      ],
      "execution_count": null,
      "outputs": []
    },
    {
      "cell_type": "code",
      "metadata": {
        "id": "xObkE1AjM_4Y"
      },
      "source": [
        "full_path_to_file2 = os.path.join(C406) \n",
        "blob_service_client.get_blob_to_path('shadeimg', full_path_to_file2, full_path_to_file2)"
      ],
      "execution_count": null,
      "outputs": []
    },
    {
      "cell_type": "code",
      "metadata": {
        "id": "OrsILvN3NANL"
      },
      "source": [
        "full_path_to_file2 = os.path.join(C409) \n",
        "blob_service_client.get_blob_to_path('shadeimg', full_path_to_file2, full_path_to_file2)"
      ],
      "execution_count": null,
      "outputs": []
    },
    {
      "cell_type": "markdown",
      "metadata": {
        "id": "K7cMD60p3DwQ"
      },
      "source": [
        "D2"
      ]
    },
    {
      "cell_type": "code",
      "metadata": {
        "id": "FUDIdSfYNAaN"
      },
      "source": [
        "full_path_to_file2 = os.path.join(D202) \n",
        "blob_service_client.get_blob_to_path('shadeimg', full_path_to_file2, full_path_to_file2)"
      ],
      "execution_count": null,
      "outputs": []
    },
    {
      "cell_type": "code",
      "metadata": {
        "id": "raReD8PoNAps"
      },
      "source": [
        "full_path_to_file2 = os.path.join(D204) \n",
        "blob_service_client.get_blob_to_path('shadeimg', full_path_to_file2, full_path_to_file2)"
      ],
      "execution_count": null,
      "outputs": []
    },
    {
      "cell_type": "code",
      "metadata": {
        "id": "DMIe2HlbNA-P"
      },
      "source": [
        "full_path_to_file2 = os.path.join(D205) \n",
        "blob_service_client.get_blob_to_path('shadeimg', full_path_to_file2, full_path_to_file2)"
      ],
      "execution_count": null,
      "outputs": []
    },
    {
      "cell_type": "code",
      "metadata": {
        "id": "t4rYO8AINBX4"
      },
      "source": [
        "full_path_to_file2 = os.path.join(D208) \n",
        "blob_service_client.get_blob_to_path('shadeimg', full_path_to_file2, full_path_to_file2)"
      ],
      "execution_count": null,
      "outputs": []
    },
    {
      "cell_type": "markdown",
      "metadata": {
        "id": "-Gl3mlPf3FZv"
      },
      "source": [
        "D3"
      ]
    },
    {
      "cell_type": "code",
      "metadata": {
        "id": "o9G8c3AvNBzL"
      },
      "source": [
        "full_path_to_file2 = os.path.join(D301) \n",
        "blob_service_client.get_blob_to_path('shadeimg', full_path_to_file2, full_path_to_file2)"
      ],
      "execution_count": null,
      "outputs": []
    },
    {
      "cell_type": "code",
      "metadata": {
        "id": "BD80SXlvNCC9"
      },
      "source": [
        "full_path_to_file2 = os.path.join(D306) \n",
        "blob_service_client.get_blob_to_path('shadeimg', full_path_to_file2, full_path_to_file2)"
      ],
      "execution_count": null,
      "outputs": []
    },
    {
      "cell_type": "code",
      "metadata": {
        "id": "VsPfNZTTNCUr"
      },
      "source": [
        "full_path_to_file2 = os.path.join(D308) \n",
        "blob_service_client.get_blob_to_path('shadeimg', full_path_to_file2, full_path_to_file2)"
      ],
      "execution_count": null,
      "outputs": []
    },
    {
      "cell_type": "code",
      "metadata": {
        "id": "ccQ4bHJDNCkI"
      },
      "source": [
        "full_path_to_file2 = os.path.join(D310) \n",
        "blob_service_client.get_blob_to_path('shadeimg', full_path_to_file2, full_path_to_file2)"
      ],
      "execution_count": null,
      "outputs": []
    },
    {
      "cell_type": "markdown",
      "metadata": {
        "id": "z-VaKZm73G5t"
      },
      "source": [
        "D4"
      ]
    },
    {
      "cell_type": "code",
      "metadata": {
        "id": "aLFb3BitNCxw"
      },
      "source": [
        "full_path_to_file2 = os.path.join(D402) \n",
        "blob_service_client.get_blob_to_path('shadeimg', full_path_to_file2, full_path_to_file2)"
      ],
      "execution_count": null,
      "outputs": []
    },
    {
      "cell_type": "code",
      "metadata": {
        "id": "llOjueA3NDLD"
      },
      "source": [
        "full_path_to_file2 = os.path.join(D405) \n",
        "blob_service_client.get_blob_to_path('shadeimg', full_path_to_file2, full_path_to_file2)"
      ],
      "execution_count": null,
      "outputs": []
    },
    {
      "cell_type": "code",
      "metadata": {
        "id": "NC-10YE_NDax"
      },
      "source": [
        "full_path_to_file2 = os.path.join(D409) \n",
        "blob_service_client.get_blob_to_path('shadeimg', full_path_to_file2, full_path_to_file2)"
      ],
      "execution_count": null,
      "outputs": []
    },
    {
      "cell_type": "code",
      "metadata": {
        "id": "7mEFraJiNDsj"
      },
      "source": [
        "full_path_to_file2 = os.path.join(D410) \n",
        "blob_service_client.get_blob_to_path('shadeimg', full_path_to_file2, full_path_to_file2)"
      ],
      "execution_count": null,
      "outputs": []
    },
    {
      "cell_type": "code",
      "metadata": {
        "id": "YwvFLuGg09OX"
      },
      "source": [
        "A102 A104 A105 A110 A201 A202 A206 A208 A303 A304 A305 A309 A3_504 A3_506 A3_507 A3_509 A401 A403 A406 A409 \n",
        "B101 B102 B105 B109 B201 B204 B205 B209 B302 B305 B308 B310 B405 B407 B408 B409"
      ],
      "execution_count": null,
      "outputs": []
    },
    {
      "cell_type": "code",
      "metadata": {
        "id": "IMnO_54608y2"
      },
      "source": [
        "C101 C102 C104 C106 C201 C203 C206 C209 C302 C304 C307 C308 C401 C403 C406 C409 \n",
        "D202 D204 D205 D208 D301 D306 D308 D310 D402 D405 D409 D410"
      ],
      "execution_count": null,
      "outputs": []
    }
  ]
}