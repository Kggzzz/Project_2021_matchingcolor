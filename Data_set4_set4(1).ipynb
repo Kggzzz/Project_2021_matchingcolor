{
  "nbformat": 4,
  "nbformat_minor": 0,
  "metadata": {
    "colab": {
      "name": "Data_set4_set4(1).ipynb",
      "provenance": [],
      "authorship_tag": "ABX9TyNvMg/ePafAhvyOs3sNl+9g",
      "include_colab_link": true
    },
    "kernelspec": {
      "name": "python3",
      "display_name": "Python 3"
    },
    "language_info": {
      "name": "python"
    }
  },
  "cells": [
    {
      "cell_type": "markdown",
      "metadata": {
        "id": "view-in-github",
        "colab_type": "text"
      },
      "source": [
        "<a href=\"https://colab.research.google.com/github/Kggzzz/Project_2021_matchingcolor/blob/main/Data_set4_set4(1).ipynb\" target=\"_parent\"><img src=\"https://colab.research.google.com/assets/colab-badge.svg\" alt=\"Open In Colab\"/></a>"
      ]
    },
    {
      "cell_type": "code",
      "metadata": {
        "id": "QfJJWz3NE5EF"
      },
      "source": [
        "import pandas as pd"
      ],
      "execution_count": null,
      "outputs": []
    },
    {
      "cell_type": "code",
      "metadata": {
        "id": "bbhDYuOZFkrI"
      },
      "source": [
        "from google.colab import drive \n",
        "drive.mount('/content/drive')"
      ],
      "execution_count": null,
      "outputs": []
    },
    {
      "cell_type": "code",
      "metadata": {
        "id": "gCZ9gB08FlpD"
      },
      "source": [
        "import os"
      ],
      "execution_count": null,
      "outputs": []
    },
    {
      "cell_type": "code",
      "metadata": {
        "id": "bs4sCMIlFmtN"
      },
      "source": [
        "path = '/content/drive/My Drive/shadeimg'"
      ],
      "execution_count": null,
      "outputs": []
    },
    {
      "cell_type": "code",
      "metadata": {
        "id": "QXJgJ1ZiFv2C"
      },
      "source": [
        "os.listdir(path)"
      ],
      "execution_count": null,
      "outputs": []
    },
    {
      "cell_type": "code",
      "metadata": {
        "id": "hIG_rvGQF-Lh"
      },
      "source": [
        "file_path = os.path.join(path,'1 teeth .xlsx')\n",
        "print(file_path)"
      ],
      "execution_count": null,
      "outputs": []
    },
    {
      "cell_type": "code",
      "metadata": {
        "id": "WU-47FCzGAhX"
      },
      "source": [
        "table1 = pd.read_excel(file_path)"
      ],
      "execution_count": null,
      "outputs": []
    },
    {
      "cell_type": "code",
      "metadata": {
        "id": "BQB5ZR4zFsSX"
      },
      "source": [
        "!pip install azure-storage-blob==2.1.0"
      ],
      "execution_count": null,
      "outputs": []
    },
    {
      "cell_type": "code",
      "metadata": {
        "id": "MmtL3ePjGKNA"
      },
      "source": [
        "from azure.storage.blob import BlockBlobService\n",
        "import os"
      ],
      "execution_count": null,
      "outputs": []
    },
    {
      "cell_type": "code",
      "metadata": {
        "id": "cBYDeSzyGMrs"
      },
      "source": [
        "blob_service_client = BlockBlobService(account_name='dent01', account_key='CuShY0B4TZJ84TjzPpaHxyrHOpO73aGXeCpdVq7x26OjIlQ1HOz+3DVc9pDEj9BdcEL8odFuTRF0mOAE+aCgiw==')"
      ],
      "execution_count": null,
      "outputs": []
    },
    {
      "cell_type": "markdown",
      "metadata": {
        "id": "29a1CpssMfaN"
      },
      "source": [
        "1. สร้างตัวแปรเฉดไกด์"
      ]
    },
    {
      "cell_type": "code",
      "metadata": {
        "id": "b7l_Shd1GOxX"
      },
      "source": [
        "A102='0EF2FA50-58AC-46C7-8E4F-70C809D07AE7.png'\n",
        "A104='79C2B772-B4F3-4CA0-AF51-1FD5A6257FBB.png'\n",
        "A105='29BD2FC4-8FC8-4495-8877-989D78A5BF21.png'\n",
        "A110='6AB1C214-8E20-492C-A1E2-20158E982526.png'\n",
        "A201='FC27D594-BBA7-48DA-9236-03264B5BE58E.png'\n",
        "A202='531C3DF6-89F7-4D9E-A764-74BC528C2C29.png'\n",
        "A206='D89E9E66-510A-4AA6-A2D5-D8A69B941525.png'\n",
        "A208='14A9EBE1-2964-4DDF-A655-EEACEA59131B.png'\n",
        "A303='A238EFFE-9FB4-48F4-BBAC-1A0C0DE2A45B.png'\n",
        "A304='49B16829-C303-4D45-B1F5-0976837ACCA7.png'\n",
        "A305='D0E42C32-D5AF-4E29-972A-BF7204DEAF1D.png'\n",
        "A309='9C3934C3-8691-4459-B586-419463244026.png'\n",
        "A3_504='B007BE4C-C6BB-43CC-AAE1-2FC4333EB4F2.png'\n",
        "A3_506='592D0AD9-01FA-425D-B131-D6222E194934.png'\n",
        "A3_507='819D4B35-E56B-4257-B144-C6B9B2BA01BD.png'\n",
        "A3_509='962DECC4-0D43-45A0-B53A-B71670C66E7E.png'\n",
        "A401='2D7FF41F-1D9C-417B-8D31-F345B87A0330.png'\n",
        "A403='D0338CAF-E0F2-40B7-81DC-F61B88759957.png'\n",
        "A406='60B3B668-C929-4BE8-866A-0B9D9121CDA1.png'\n",
        "A409='199DD984-8911-4A3D-A176-AC3421E170DD.png'\n",
        "B101='312612D1-0123-4DC8-A039-C64E419E0D2D.png'\n",
        "B102='74D174BF-EA72-404E-BCD6-B96CEC51C831.png'\n",
        "B105='B960E20E-C94F-45CD-A3D6-9D2BF35B6655.png'\n",
        "B109='76DD518D-E959-4E08-9F58-87523D1E7598.png'\n",
        "B201='3ACE7AB4-B0DE-448E-B863-20A0E327AA87.png'\n",
        "B204='0375D54F-A0AA-4BA5-8596-166C87F998F2.png'\n",
        "B205='ED430C49-56BE-40CE-8904-74781A03A45B.png'\n",
        "B209='58A65E16-93A4-418B-83FB-5A4376D5BF37.png'\n",
        "B302='65762707-B7C7-4372-BD62-774BA0C442DE.png'\n",
        "B305='5096BD5F-2C3B-4C00-AECE-5CDE13362710.png'\n",
        "B308='8CD709A3-6E06-4EE9-9364-E3BDB78D2EA5.png'\n",
        "B310='86FB6792-0389-4A0D-A6DA-4C25BD67025F.png'\n",
        "B405='52092D4D-B855-432A-BC21-A1EEABE3897E.png'\n",
        "B407='4F3D3500-2D1F-493C-8E7E-05A46B96E045.png'\n",
        "B408='B2EC0F0A-6F4D-4018-81B1-B5C5D6E887C2.png'\n",
        "B409='FE6C4865-F39B-453B-849B-77123700FB49.png'"
      ],
      "execution_count": null,
      "outputs": []
    },
    {
      "cell_type": "code",
      "metadata": {
        "id": "udfq6Zm1KS7f"
      },
      "source": [
        "C101='D0656D90-D0F8-4DED-A128-4BC3CC980B62.png'\n",
        "C102='E9023936-6A27-4506-90AA-F590E346BB26.png'\n",
        "C104='CF07B6E7-EFF2-4993-91D1-29F04CB5B384.png'\n",
        "C106='B2AE6860-1DB4-46DB-A99A-D779959C3746.png'\n",
        "C201='E06F6F87-4C75-469C-B2E9-B275033C86CE.png'\n",
        "C203='EB7A8DD9-800F-482E-B9F9-1ABAF2C4AE47.png'\n",
        "C206='EAF9BB05-E688-4D83-9399-722FFA14B95C.png'\n",
        "C209='803D47A1-3B59-451D-8B39-D6490271BF3F.png'\n",
        "C302='6D5946CB-F9CF-4E59-B3C5-044547159834.png'\n",
        "C304='977CD537-AFA6-4351-8A7C-0B13E596BD5A.png'\n",
        "C307='A07BC277-3546-4434-81D4-E0DBF2FAA1B2.png'\n",
        "C308='6E81E16A-B561-4203-AF98-95D98EBFEAEA.png'\n",
        "C401='73A7FC0D-AFED-4868-8094-6427B16C34F9.png'\n",
        "C403='0C66B7A8-2229-472B-A12E-33685831358C.png'\n",
        "C406='338CCD1D-9BB1-40A7-BFD2-976F7C17A403.png'\n",
        "C409='B6396F31-087C-4585-A8F4-F19C053F4CC6.png'\n",
        "D202='9ADD9A6D-CBD2-4A3E-AB00-1BC369ED0F23.png'\n",
        "D204='8D32AA07-9C78-4208-9E57-D410910D19D1.png'\n",
        "D205='F7BA6B12-CF05-4252-B4E6-C1C17E709F0E.png'\n",
        "D208='B2C47E99-F4A8-4B34-80C9-BCD73100490D.png'\n",
        "D301='EAAB2D73-BD7B-4485-BAEF-BEA0696177CE.png'\n",
        "D306='0CF9A52C-615B-4A08-B907-ABD0718B659D.png'\n",
        "D308='D72B57AE-D8BE-493F-9DFA-F1A1ECFA5B5E.png'\n",
        "D310='1DF95439-9E76-4980-9914-663BA483FB6B.png'\n",
        "D402='631354FF-7969-4BFF-AEEF-DBA261F593C9.png'\n",
        "D405='7E19A025-E690-4582-A36B-17CB4CF65520.png'\n",
        "D409='F02FD5D4-AFC4-454C-A27B-728EC04C9F98.png'\n",
        "D410='7A9BD768-FDF6-48E4-B20D-8296635F0257.png'"
      ],
      "execution_count": null,
      "outputs": []
    },
    {
      "cell_type": "markdown",
      "metadata": {
        "id": "QhvE9X5SqWjT"
      },
      "source": [
        "#1. สร้างตัวแปรเฉดไกด์"
      ]
    },
    {
      "cell_type": "code",
      "metadata": {
        "id": "P3Kxb63iqWjT"
      },
      "source": [
        "A101='0EF2FA50-58AC-46C7-8E4F-70C809D07AE7.png'\n",
        "A102='79C2B772-B4F3-4CA0-AF51-1FD5A6257FBB.png'\n",
        "A105='29BD2FC4-8FC8-4495-8877-989D78A5BF21.png'\n",
        "A106='6AB1C214-8E20-492C-A1E2-20158E982526.png'\n",
        "A202=''\n",
        "A204=''\n",
        "A207=''\n",
        "A208=''\n",
        "A303=''\n",
        "A307=''\n",
        "A308=''\n",
        "A310=''\n",
        "A3_501=''\n",
        "A3_505=''\n",
        "A3_507=''\n",
        "A3_510=''\n",
        "A401=''\n",
        "A404=''\n",
        "A405=''\n",
        "A409=''\n",
        "B102=''\n",
        "B103=''\n",
        "B105=''\n",
        "B107=''\n",
        "B201=''\n",
        "B203=''\n",
        "B204=''\n",
        "B206=''\n",
        "B301=''\n",
        "B304=''\n",
        "B308=''\n",
        "B309=''\n",
        "B402=''\n",
        "B403=''\n",
        "B407=''\n",
        "B410=''"
      ],
      "execution_count": null,
      "outputs": []
    },
    {
      "cell_type": "code",
      "metadata": {
        "id": "R1DBky2iqWjU"
      },
      "source": [
        "C103=''\n",
        "C106=''\n",
        "C107=''\n",
        "C109=''\n",
        "C201=''\n",
        "C202=''\n",
        "C205=''\n",
        "C210=''\n",
        "C301=''\n",
        "C303=''\n",
        "C306=''\n",
        "C309=''\n",
        "C402''\n",
        "C405=''\n",
        "C408=''\n",
        "C409=''\n",
        "D204=''\n",
        "D206=''\n",
        "D207=''\n",
        "D209=''\n",
        "D310=''\n",
        "D302=''\n",
        "D305=''\n",
        "D306=''\n",
        "D401=''\n",
        "D405=''\n",
        "D407=''\n",
        "D409=''"
      ],
      "execution_count": null,
      "outputs": []
    },
    {
      "cell_type": "markdown",
      "metadata": {
        "id": "XT9FkL4_qWjU"
      },
      "source": [
        "#2. ดึงรูป"
      ]
    },
    {
      "cell_type": "markdown",
      "metadata": {
        "id": "-2DLN4dU58-w"
      },
      "source": [
        "A1"
      ]
    },
    {
      "cell_type": "code",
      "metadata": {
        "colab": {
          "base_uri": "https://localhost:8080/"
        },
        "id": "89qHiFXiqWjU",
        "outputId": "bc56bcac-3998-4c80-d97c-7b1d7c5026b9"
      },
      "source": [
        "full_path_to_file2 = os.path.join(A101) \n",
        "blob_service_client.get_blob_to_path('shadeimg', full_path_to_file2, full_path_to_file2)"
      ],
      "execution_count": null,
      "outputs": [
        {
          "output_type": "execute_result",
          "data": {
            "text/plain": [
              "<azure.storage.blob.models.Blob at 0x7f87b6279f10>"
            ]
          },
          "metadata": {},
          "execution_count": 13
        }
      ]
    },
    {
      "cell_type": "code",
      "metadata": {
        "colab": {
          "base_uri": "https://localhost:8080/"
        },
        "id": "pL_IAC3PqWjV",
        "outputId": "7acb89db-ea8d-4330-bb31-ba6a816d7f6a"
      },
      "source": [
        "full_path_to_file2 = os.path.join(A102) \n",
        "blob_service_client.get_blob_to_path('shadeimg', full_path_to_file2, full_path_to_file2)"
      ],
      "execution_count": null,
      "outputs": [
        {
          "output_type": "execute_result",
          "data": {
            "text/plain": [
              "<azure.storage.blob.models.Blob at 0x7f87b6261310>"
            ]
          },
          "metadata": {},
          "execution_count": 14
        }
      ]
    },
    {
      "cell_type": "code",
      "metadata": {
        "colab": {
          "base_uri": "https://localhost:8080/"
        },
        "id": "VNLv6hmmqWjV",
        "outputId": "59502676-8874-476e-e192-adb537961c5a"
      },
      "source": [
        "full_path_to_file2 = os.path.join(A105) \n",
        "blob_service_client.get_blob_to_path('shadeimg', full_path_to_file2, full_path_to_file2)"
      ],
      "execution_count": null,
      "outputs": [
        {
          "output_type": "execute_result",
          "data": {
            "text/plain": [
              "<azure.storage.blob.models.Blob at 0x7f87b6288350>"
            ]
          },
          "metadata": {},
          "execution_count": 15
        }
      ]
    },
    {
      "cell_type": "code",
      "metadata": {
        "colab": {
          "base_uri": "https://localhost:8080/"
        },
        "id": "hFv768OdqWjV",
        "outputId": "23a6bccc-8896-465b-a28b-40bcc7ab8eb5"
      },
      "source": [
        "full_path_to_file2 = os.path.join(A106) \n",
        "blob_service_client.get_blob_to_path('shadeimg', full_path_to_file2, full_path_to_file2)"
      ],
      "execution_count": null,
      "outputs": [
        {
          "output_type": "execute_result",
          "data": {
            "text/plain": [
              "<azure.storage.blob.models.Blob at 0x7f87b6271a90>"
            ]
          },
          "metadata": {},
          "execution_count": 16
        }
      ]
    },
    {
      "cell_type": "markdown",
      "metadata": {
        "id": "7eSok94g6DY0"
      },
      "source": [
        "A2"
      ]
    },
    {
      "cell_type": "code",
      "metadata": {
        "colab": {
          "base_uri": "https://localhost:8080/"
        },
        "id": "hJNZvwzyqWjV",
        "outputId": "9cdc272a-af4c-4297-83d2-187346afd8c3"
      },
      "source": [
        "full_path_to_file2 = os.path.join(A202) \n",
        "blob_service_client.get_blob_to_path('shadeimg', full_path_to_file2, full_path_to_file2)"
      ],
      "execution_count": null,
      "outputs": [
        {
          "output_type": "execute_result",
          "data": {
            "text/plain": [
              "<azure.storage.blob.models.Blob at 0x7f87b6288e10>"
            ]
          },
          "metadata": {},
          "execution_count": 17
        }
      ]
    },
    {
      "cell_type": "code",
      "metadata": {
        "colab": {
          "base_uri": "https://localhost:8080/"
        },
        "id": "veShstuZqWjV",
        "outputId": "ce1b5a0c-64fc-4be9-83da-23b0596d08f6"
      },
      "source": [
        "full_path_to_file2 = os.path.join(A204) \n",
        "blob_service_client.get_blob_to_path('shadeimg', full_path_to_file2, full_path_to_file2)"
      ],
      "execution_count": null,
      "outputs": [
        {
          "output_type": "execute_result",
          "data": {
            "text/plain": [
              "<azure.storage.blob.models.Blob at 0x7f87b62d2c90>"
            ]
          },
          "metadata": {},
          "execution_count": 18
        }
      ]
    },
    {
      "cell_type": "code",
      "metadata": {
        "colab": {
          "base_uri": "https://localhost:8080/"
        },
        "id": "w9QFztPcqWjV",
        "outputId": "574e616f-edeb-46c4-f064-5f4c4e8353b5"
      },
      "source": [
        "full_path_to_file2 = os.path.join(A207) \n",
        "blob_service_client.get_blob_to_path('shadeimg', full_path_to_file2, full_path_to_file2)"
      ],
      "execution_count": null,
      "outputs": [
        {
          "output_type": "execute_result",
          "data": {
            "text/plain": [
              "<azure.storage.blob.models.Blob at 0x7f87b62884d0>"
            ]
          },
          "metadata": {},
          "execution_count": 19
        }
      ]
    },
    {
      "cell_type": "code",
      "metadata": {
        "colab": {
          "base_uri": "https://localhost:8080/"
        },
        "id": "kAIQWgACqWjW",
        "outputId": "90ed905d-317b-474c-d516-724fbb0b7392"
      },
      "source": [
        "full_path_to_file2 = os.path.join(A208) \n",
        "blob_service_client.get_blob_to_path('shadeimg', full_path_to_file2, full_path_to_file2)"
      ],
      "execution_count": null,
      "outputs": [
        {
          "output_type": "execute_result",
          "data": {
            "text/plain": [
              "<azure.storage.blob.models.Blob at 0x7f87b5c00310>"
            ]
          },
          "metadata": {},
          "execution_count": 20
        }
      ]
    },
    {
      "cell_type": "markdown",
      "metadata": {
        "id": "T8ArUP9X6JRK"
      },
      "source": [
        "A3"
      ]
    },
    {
      "cell_type": "code",
      "metadata": {
        "colab": {
          "base_uri": "https://localhost:8080/"
        },
        "id": "VmbjTZ90qWjW",
        "outputId": "071c9ffc-5762-4247-ba88-7b67af0ce6cb"
      },
      "source": [
        "full_path_to_file2 = os.path.join(A303) \n",
        "blob_service_client.get_blob_to_path('shadeimg', full_path_to_file2, full_path_to_file2)"
      ],
      "execution_count": null,
      "outputs": [
        {
          "output_type": "execute_result",
          "data": {
            "text/plain": [
              "<azure.storage.blob.models.Blob at 0x7f87b5c00610>"
            ]
          },
          "metadata": {},
          "execution_count": 21
        }
      ]
    },
    {
      "cell_type": "code",
      "metadata": {
        "colab": {
          "base_uri": "https://localhost:8080/"
        },
        "id": "_I7kJLJ4qWjW",
        "outputId": "5f0d7f44-d874-4d1f-ff47-2e7a532bba35"
      },
      "source": [
        "full_path_to_file2 = os.path.join(A307) \n",
        "blob_service_client.get_blob_to_path('shadeimg', full_path_to_file2, full_path_to_file2)"
      ],
      "execution_count": null,
      "outputs": [
        {
          "output_type": "execute_result",
          "data": {
            "text/plain": [
              "<azure.storage.blob.models.Blob at 0x7f87b5c00450>"
            ]
          },
          "metadata": {},
          "execution_count": 22
        }
      ]
    },
    {
      "cell_type": "code",
      "metadata": {
        "colab": {
          "base_uri": "https://localhost:8080/"
        },
        "id": "X8nojCv0qWjW",
        "outputId": "b0f924ba-e359-49d5-d045-0db322912761"
      },
      "source": [
        "full_path_to_file2 = os.path.join(A308) \n",
        "blob_service_client.get_blob_to_path('shadeimg', full_path_to_file2, full_path_to_file2)"
      ],
      "execution_count": null,
      "outputs": [
        {
          "output_type": "execute_result",
          "data": {
            "text/plain": [
              "<azure.storage.blob.models.Blob at 0x7f87b5c0ad50>"
            ]
          },
          "metadata": {},
          "execution_count": 23
        }
      ]
    },
    {
      "cell_type": "code",
      "metadata": {
        "colab": {
          "base_uri": "https://localhost:8080/"
        },
        "id": "0CMDlGCiqWjW",
        "outputId": "f2fabb23-b71e-4611-8a58-270a65701cb2"
      },
      "source": [
        "full_path_to_file2 = os.path.join(A310) \n",
        "blob_service_client.get_blob_to_path('shadeimg', full_path_to_file2, full_path_to_file2)"
      ],
      "execution_count": null,
      "outputs": [
        {
          "output_type": "execute_result",
          "data": {
            "text/plain": [
              "<azure.storage.blob.models.Blob at 0x7f87b5c18310>"
            ]
          },
          "metadata": {},
          "execution_count": 24
        }
      ]
    },
    {
      "cell_type": "markdown",
      "metadata": {
        "id": "Zr5SEMNq6LDo"
      },
      "source": [
        "A3.5"
      ]
    },
    {
      "cell_type": "code",
      "metadata": {
        "colab": {
          "base_uri": "https://localhost:8080/"
        },
        "id": "hf5rehmDqWjX",
        "outputId": "6f1c324c-e993-479e-f49d-b54613f3015e"
      },
      "source": [
        "full_path_to_file2 = os.path.join(A3_501) \n",
        "blob_service_client.get_blob_to_path('shadeimg', full_path_to_file2, full_path_to_file2)"
      ],
      "execution_count": null,
      "outputs": [
        {
          "output_type": "execute_result",
          "data": {
            "text/plain": [
              "<azure.storage.blob.models.Blob at 0x7f87b6260d10>"
            ]
          },
          "metadata": {},
          "execution_count": 25
        }
      ]
    },
    {
      "cell_type": "code",
      "metadata": {
        "colab": {
          "base_uri": "https://localhost:8080/"
        },
        "id": "U6NqGSTMqWjX",
        "outputId": "a7667c27-1983-4cea-d88b-a66d45fff462"
      },
      "source": [
        "full_path_to_file2 = os.path.join(A3_505) \n",
        "blob_service_client.get_blob_to_path('shadeimg', full_path_to_file2, full_path_to_file2)"
      ],
      "execution_count": null,
      "outputs": [
        {
          "output_type": "execute_result",
          "data": {
            "text/plain": [
              "<azure.storage.blob.models.Blob at 0x7f87b6271850>"
            ]
          },
          "metadata": {},
          "execution_count": 26
        }
      ]
    },
    {
      "cell_type": "code",
      "metadata": {
        "colab": {
          "base_uri": "https://localhost:8080/"
        },
        "id": "0F9FqMJEqWjX",
        "outputId": "88fafe9d-a304-4997-cdf1-9b63ea207f55"
      },
      "source": [
        "full_path_to_file2 = os.path.join(A3_507) \n",
        "blob_service_client.get_blob_to_path('shadeimg', full_path_to_file2, full_path_to_file2)"
      ],
      "execution_count": null,
      "outputs": [
        {
          "output_type": "execute_result",
          "data": {
            "text/plain": [
              "<azure.storage.blob.models.Blob at 0x7f87b5c002d0>"
            ]
          },
          "metadata": {},
          "execution_count": 27
        }
      ]
    },
    {
      "cell_type": "code",
      "metadata": {
        "colab": {
          "base_uri": "https://localhost:8080/"
        },
        "id": "Bt9OeaouqWjX",
        "outputId": "a351882d-a1ae-4828-96cc-bf1d3739e757"
      },
      "source": [
        "full_path_to_file2 = os.path.join(A3_510) \n",
        "blob_service_client.get_blob_to_path('shadeimg', full_path_to_file2, full_path_to_file2)"
      ],
      "execution_count": null,
      "outputs": [
        {
          "output_type": "execute_result",
          "data": {
            "text/plain": [
              "<azure.storage.blob.models.Blob at 0x7f87b5c0cd50>"
            ]
          },
          "metadata": {},
          "execution_count": 28
        }
      ]
    },
    {
      "cell_type": "markdown",
      "metadata": {
        "id": "tb0g_NiJ6YZB"
      },
      "source": [
        "A4"
      ]
    },
    {
      "cell_type": "code",
      "metadata": {
        "colab": {
          "base_uri": "https://localhost:8080/"
        },
        "id": "6A3Z0G-BqWjX",
        "outputId": "3eceafa9-8a70-494b-e596-7a4eb952c887"
      },
      "source": [
        "full_path_to_file2 = os.path.join(A401) \n",
        "blob_service_client.get_blob_to_path('shadeimg', full_path_to_file2, full_path_to_file2)"
      ],
      "execution_count": null,
      "outputs": [
        {
          "output_type": "execute_result",
          "data": {
            "text/plain": [
              "<azure.storage.blob.models.Blob at 0x7f87b5c13650>"
            ]
          },
          "metadata": {},
          "execution_count": 29
        }
      ]
    },
    {
      "cell_type": "code",
      "metadata": {
        "colab": {
          "base_uri": "https://localhost:8080/"
        },
        "id": "huNllMALqWjX",
        "outputId": "7d31a230-50ef-4d5f-b203-77ac3d223bc5"
      },
      "source": [
        "full_path_to_file2 = os.path.join(A404) \n",
        "blob_service_client.get_blob_to_path('shadeimg', full_path_to_file2, full_path_to_file2)"
      ],
      "execution_count": null,
      "outputs": [
        {
          "output_type": "execute_result",
          "data": {
            "text/plain": [
              "<azure.storage.blob.models.Blob at 0x7f87b5c21e10>"
            ]
          },
          "metadata": {},
          "execution_count": 30
        }
      ]
    },
    {
      "cell_type": "code",
      "metadata": {
        "colab": {
          "base_uri": "https://localhost:8080/"
        },
        "id": "XRmBCQ8HqWjY",
        "outputId": "82797c5a-8c90-4e69-fea1-de745ee0f907"
      },
      "source": [
        "full_path_to_file2 = os.path.join(A405) \n",
        "blob_service_client.get_blob_to_path('shadeimg', full_path_to_file2, full_path_to_file2)"
      ],
      "execution_count": null,
      "outputs": [
        {
          "output_type": "execute_result",
          "data": {
            "text/plain": [
              "<azure.storage.blob.models.Blob at 0x7f87b5c0ccd0>"
            ]
          },
          "metadata": {},
          "execution_count": 31
        }
      ]
    },
    {
      "cell_type": "code",
      "metadata": {
        "colab": {
          "base_uri": "https://localhost:8080/"
        },
        "id": "VBxfPqd5qWjY",
        "outputId": "a7efbdd2-40f4-429c-d008-4dd805d29c2b"
      },
      "source": [
        "full_path_to_file2 = os.path.join(A409) \n",
        "blob_service_client.get_blob_to_path('shadeimg', full_path_to_file2, full_path_to_file2)"
      ],
      "execution_count": null,
      "outputs": [
        {
          "output_type": "execute_result",
          "data": {
            "text/plain": [
              "<azure.storage.blob.models.Blob at 0x7f87b6261450>"
            ]
          },
          "metadata": {},
          "execution_count": 32
        }
      ]
    },
    {
      "cell_type": "markdown",
      "metadata": {
        "id": "y3hyi70v6bOe"
      },
      "source": [
        "B1"
      ]
    },
    {
      "cell_type": "code",
      "metadata": {
        "colab": {
          "base_uri": "https://localhost:8080/"
        },
        "id": "xFNoaeKPqWjY",
        "outputId": "00d15e6d-6764-4c1b-b023-9e81482f480d"
      },
      "source": [
        "full_path_to_file2 = os.path.join(B102) \n",
        "blob_service_client.get_blob_to_path('shadeimg', full_path_to_file2, full_path_to_file2)"
      ],
      "execution_count": null,
      "outputs": [
        {
          "output_type": "execute_result",
          "data": {
            "text/plain": [
              "<azure.storage.blob.models.Blob at 0x7f87b5c18a50>"
            ]
          },
          "metadata": {},
          "execution_count": 33
        }
      ]
    },
    {
      "cell_type": "code",
      "metadata": {
        "colab": {
          "base_uri": "https://localhost:8080/"
        },
        "id": "_oCkGuh3qWjY",
        "outputId": "8bbc2eaa-0a6f-44a3-c872-444a604b2b0f"
      },
      "source": [
        "full_path_to_file2 = os.path.join(B103) \n",
        "blob_service_client.get_blob_to_path('shadeimg', full_path_to_file2, full_path_to_file2)"
      ],
      "execution_count": null,
      "outputs": [
        {
          "output_type": "execute_result",
          "data": {
            "text/plain": [
              "<azure.storage.blob.models.Blob at 0x7f87b5c13a90>"
            ]
          },
          "metadata": {},
          "execution_count": 34
        }
      ]
    },
    {
      "cell_type": "code",
      "metadata": {
        "colab": {
          "base_uri": "https://localhost:8080/"
        },
        "id": "20VPjZkoqWjY",
        "outputId": "9f4b2488-f151-4afc-cbc4-c99a65812620"
      },
      "source": [
        "full_path_to_file2 = os.path.join(B105) \n",
        "blob_service_client.get_blob_to_path('shadeimg', full_path_to_file2, full_path_to_file2)"
      ],
      "execution_count": null,
      "outputs": [
        {
          "output_type": "execute_result",
          "data": {
            "text/plain": [
              "<azure.storage.blob.models.Blob at 0x7f87b5c18c10>"
            ]
          },
          "metadata": {},
          "execution_count": 35
        }
      ]
    },
    {
      "cell_type": "code",
      "metadata": {
        "colab": {
          "base_uri": "https://localhost:8080/"
        },
        "id": "4EiBJdqbqWjY",
        "outputId": "012d6a70-0155-4acb-b60b-9214f2914b85"
      },
      "source": [
        "full_path_to_file2 = os.path.join(B107) \n",
        "blob_service_client.get_blob_to_path('shadeimg', full_path_to_file2, full_path_to_file2)"
      ],
      "execution_count": null,
      "outputs": [
        {
          "output_type": "execute_result",
          "data": {
            "text/plain": [
              "<azure.storage.blob.models.Blob at 0x7f87b5c09a90>"
            ]
          },
          "metadata": {},
          "execution_count": 36
        }
      ]
    },
    {
      "cell_type": "markdown",
      "metadata": {
        "id": "vFOfNYz-6crs"
      },
      "source": [
        "B2"
      ]
    },
    {
      "cell_type": "code",
      "metadata": {
        "colab": {
          "base_uri": "https://localhost:8080/"
        },
        "id": "XYPmvR_GqWjZ",
        "outputId": "2afcebff-3f87-46e3-de4f-873b6c7c8d35"
      },
      "source": [
        "full_path_to_file2 = os.path.join(B201) \n",
        "blob_service_client.get_blob_to_path('shadeimg', full_path_to_file2, full_path_to_file2)"
      ],
      "execution_count": null,
      "outputs": [
        {
          "output_type": "execute_result",
          "data": {
            "text/plain": [
              "<azure.storage.blob.models.Blob at 0x7f87b5c09550>"
            ]
          },
          "metadata": {},
          "execution_count": 37
        }
      ]
    },
    {
      "cell_type": "code",
      "metadata": {
        "colab": {
          "base_uri": "https://localhost:8080/"
        },
        "id": "yZ4_16cwqWjZ",
        "outputId": "0db92a26-9b7b-4422-8dc5-9bff9610f8e0"
      },
      "source": [
        "full_path_to_file2 = os.path.join(B203) \n",
        "blob_service_client.get_blob_to_path('shadeimg', full_path_to_file2, full_path_to_file2)"
      ],
      "execution_count": null,
      "outputs": [
        {
          "output_type": "execute_result",
          "data": {
            "text/plain": [
              "<azure.storage.blob.models.Blob at 0x7f87b5c21090>"
            ]
          },
          "metadata": {},
          "execution_count": 38
        }
      ]
    },
    {
      "cell_type": "code",
      "metadata": {
        "colab": {
          "base_uri": "https://localhost:8080/"
        },
        "id": "_sTONf6NqWjZ",
        "outputId": "33795a14-1525-4979-fe03-be5a9ff791b8"
      },
      "source": [
        "full_path_to_file2 = os.path.join(B204) \n",
        "blob_service_client.get_blob_to_path('shadeimg', full_path_to_file2, full_path_to_file2)"
      ],
      "execution_count": null,
      "outputs": [
        {
          "output_type": "execute_result",
          "data": {
            "text/plain": [
              "<azure.storage.blob.models.Blob at 0x7f87b70341d0>"
            ]
          },
          "metadata": {},
          "execution_count": 39
        }
      ]
    },
    {
      "cell_type": "code",
      "metadata": {
        "colab": {
          "base_uri": "https://localhost:8080/"
        },
        "id": "xvhe5i1EqWjZ",
        "outputId": "d38a9dd0-1709-4ebe-ee15-6f9d72e3be3b"
      },
      "source": [
        "full_path_to_file2 = os.path.join(B206) \n",
        "blob_service_client.get_blob_to_path('shadeimg', full_path_to_file2, full_path_to_file2)"
      ],
      "execution_count": null,
      "outputs": [
        {
          "output_type": "execute_result",
          "data": {
            "text/plain": [
              "<azure.storage.blob.models.Blob at 0x7f87b5c13e50>"
            ]
          },
          "metadata": {},
          "execution_count": 40
        }
      ]
    },
    {
      "cell_type": "markdown",
      "metadata": {
        "id": "Gu5OAhld6dzx"
      },
      "source": [
        "B3"
      ]
    },
    {
      "cell_type": "code",
      "metadata": {
        "colab": {
          "base_uri": "https://localhost:8080/"
        },
        "id": "dtWpKevCqWjZ",
        "outputId": "a71b28a0-2293-45cf-c445-0e2bfd44e085"
      },
      "source": [
        "full_path_to_file2 = os.path.join(B301) \n",
        "blob_service_client.get_blob_to_path('shadeimg', full_path_to_file2, full_path_to_file2)"
      ],
      "execution_count": null,
      "outputs": [
        {
          "output_type": "execute_result",
          "data": {
            "text/plain": [
              "<azure.storage.blob.models.Blob at 0x7f87b5c200d0>"
            ]
          },
          "metadata": {},
          "execution_count": 41
        }
      ]
    },
    {
      "cell_type": "code",
      "metadata": {
        "colab": {
          "base_uri": "https://localhost:8080/"
        },
        "id": "Iv7GJELjqWjZ",
        "outputId": "fe22a3b8-8a75-42b6-f60e-6414ca415f61"
      },
      "source": [
        "full_path_to_file2 = os.path.join(B304) \n",
        "blob_service_client.get_blob_to_path('shadeimg', full_path_to_file2, full_path_to_file2)"
      ],
      "execution_count": null,
      "outputs": [
        {
          "output_type": "execute_result",
          "data": {
            "text/plain": [
              "<azure.storage.blob.models.Blob at 0x7f87b5c20450>"
            ]
          },
          "metadata": {},
          "execution_count": 42
        }
      ]
    },
    {
      "cell_type": "code",
      "metadata": {
        "colab": {
          "base_uri": "https://localhost:8080/"
        },
        "id": "5Y0UireDqWjZ",
        "outputId": "b512224d-b5ff-4e98-eb1b-80261fd23fb4"
      },
      "source": [
        "full_path_to_file2 = os.path.join(B308) \n",
        "blob_service_client.get_blob_to_path('shadeimg', full_path_to_file2, full_path_to_file2)"
      ],
      "execution_count": null,
      "outputs": [
        {
          "output_type": "execute_result",
          "data": {
            "text/plain": [
              "<azure.storage.blob.models.Blob at 0x7f87b5c1d850>"
            ]
          },
          "metadata": {},
          "execution_count": 43
        }
      ]
    },
    {
      "cell_type": "code",
      "metadata": {
        "colab": {
          "base_uri": "https://localhost:8080/"
        },
        "id": "ZDVbc9NnqWja",
        "outputId": "d2bf95c4-21fd-4f4a-f085-aae2efc5f3ca"
      },
      "source": [
        "full_path_to_file2 = os.path.join(B309) \n",
        "blob_service_client.get_blob_to_path('shadeimg', full_path_to_file2, full_path_to_file2)"
      ],
      "execution_count": null,
      "outputs": [
        {
          "output_type": "execute_result",
          "data": {
            "text/plain": [
              "<azure.storage.blob.models.Blob at 0x7f87b5c1d990>"
            ]
          },
          "metadata": {},
          "execution_count": 44
        }
      ]
    },
    {
      "cell_type": "markdown",
      "metadata": {
        "id": "z2hzhQXO6gIR"
      },
      "source": [
        "B4"
      ]
    },
    {
      "cell_type": "code",
      "metadata": {
        "colab": {
          "base_uri": "https://localhost:8080/"
        },
        "id": "AUUiD3TCqWja",
        "outputId": "177a69ea-60e9-4633-eac8-e6ab20625d85"
      },
      "source": [
        "full_path_to_file2 = os.path.join(B402) \n",
        "blob_service_client.get_blob_to_path('shadeimg', full_path_to_file2, full_path_to_file2)"
      ],
      "execution_count": null,
      "outputs": [
        {
          "output_type": "execute_result",
          "data": {
            "text/plain": [
              "<azure.storage.blob.models.Blob at 0x7f87b62d29d0>"
            ]
          },
          "metadata": {},
          "execution_count": 45
        }
      ]
    },
    {
      "cell_type": "code",
      "metadata": {
        "colab": {
          "base_uri": "https://localhost:8080/"
        },
        "id": "ozt2aWLeqWja",
        "outputId": "dfe90fa8-d85b-4886-f815-951073f011f8"
      },
      "source": [
        "full_path_to_file2 = os.path.join(B403) \n",
        "blob_service_client.get_blob_to_path('shadeimg', full_path_to_file2, full_path_to_file2)"
      ],
      "execution_count": null,
      "outputs": [
        {
          "output_type": "execute_result",
          "data": {
            "text/plain": [
              "<azure.storage.blob.models.Blob at 0x7f87b5c0a490>"
            ]
          },
          "metadata": {},
          "execution_count": 46
        }
      ]
    },
    {
      "cell_type": "code",
      "metadata": {
        "colab": {
          "base_uri": "https://localhost:8080/"
        },
        "id": "sKfFT4biqWja",
        "outputId": "9986f9ad-2c4c-453e-a1ce-f11adf8dadf8"
      },
      "source": [
        "full_path_to_file2 = os.path.join(B407) \n",
        "blob_service_client.get_blob_to_path('shadeimg', full_path_to_file2, full_path_to_file2)"
      ],
      "execution_count": null,
      "outputs": [
        {
          "output_type": "execute_result",
          "data": {
            "text/plain": [
              "<azure.storage.blob.models.Blob at 0x7f87b5c21690>"
            ]
          },
          "metadata": {},
          "execution_count": 47
        }
      ]
    },
    {
      "cell_type": "code",
      "metadata": {
        "colab": {
          "base_uri": "https://localhost:8080/"
        },
        "id": "i_QOEeCuqWja",
        "outputId": "fb4568fd-6dc5-433a-ae49-75fce8335a83"
      },
      "source": [
        "full_path_to_file2 = os.path.join(B410) \n",
        "blob_service_client.get_blob_to_path('shadeimg', full_path_to_file2, full_path_to_file2)"
      ],
      "execution_count": null,
      "outputs": [
        {
          "output_type": "execute_result",
          "data": {
            "text/plain": [
              "<azure.storage.blob.models.Blob at 0x7f87b5bb9110>"
            ]
          },
          "metadata": {},
          "execution_count": 48
        }
      ]
    },
    {
      "cell_type": "markdown",
      "metadata": {
        "id": "x1KIKFLy6h8k"
      },
      "source": [
        "C1"
      ]
    },
    {
      "cell_type": "code",
      "metadata": {
        "colab": {
          "base_uri": "https://localhost:8080/"
        },
        "id": "DVlDe2laqWja",
        "outputId": "6666ac55-afa4-4b9c-c933-656cb59eff36"
      },
      "source": [
        "full_path_to_file2 = os.path.join(C103) \n",
        "blob_service_client.get_blob_to_path('shadeimg', full_path_to_file2, full_path_to_file2)"
      ],
      "execution_count": null,
      "outputs": [
        {
          "output_type": "execute_result",
          "data": {
            "text/plain": [
              "<azure.storage.blob.models.Blob at 0x7f87b5c20990>"
            ]
          },
          "metadata": {},
          "execution_count": 49
        }
      ]
    },
    {
      "cell_type": "code",
      "metadata": {
        "colab": {
          "base_uri": "https://localhost:8080/"
        },
        "id": "PpnxuJZjqWjb",
        "outputId": "ef5b58ff-6f28-4ae9-880b-7c0d5bb80320"
      },
      "source": [
        "full_path_to_file2 = os.path.join(C106) \n",
        "blob_service_client.get_blob_to_path('shadeimg', full_path_to_file2, full_path_to_file2)"
      ],
      "execution_count": null,
      "outputs": [
        {
          "output_type": "execute_result",
          "data": {
            "text/plain": [
              "<azure.storage.blob.models.Blob at 0x7f87b5c20290>"
            ]
          },
          "metadata": {},
          "execution_count": 50
        }
      ]
    },
    {
      "cell_type": "code",
      "metadata": {
        "colab": {
          "base_uri": "https://localhost:8080/"
        },
        "id": "upMtdZorqWjb",
        "outputId": "da40cbb1-e734-473d-be4e-5833626f7748"
      },
      "source": [
        "full_path_to_file2 = os.path.join(C107) \n",
        "blob_service_client.get_blob_to_path('shadeimg', full_path_to_file2, full_path_to_file2)"
      ],
      "execution_count": null,
      "outputs": [
        {
          "output_type": "execute_result",
          "data": {
            "text/plain": [
              "<azure.storage.blob.models.Blob at 0x7f87b5badbd0>"
            ]
          },
          "metadata": {},
          "execution_count": 51
        }
      ]
    },
    {
      "cell_type": "code",
      "metadata": {
        "colab": {
          "base_uri": "https://localhost:8080/"
        },
        "id": "ETYki_a8qWjb",
        "outputId": "da4d1057-5d62-4e39-8c7c-c78fa5153dcb"
      },
      "source": [
        "full_path_to_file2 = os.path.join(C109) \n",
        "blob_service_client.get_blob_to_path('shadeimg', full_path_to_file2, full_path_to_file2)"
      ],
      "execution_count": null,
      "outputs": [
        {
          "output_type": "execute_result",
          "data": {
            "text/plain": [
              "<azure.storage.blob.models.Blob at 0x7f87b5bcd710>"
            ]
          },
          "metadata": {},
          "execution_count": 52
        }
      ]
    },
    {
      "cell_type": "markdown",
      "metadata": {
        "id": "UOfwpXiM6j9h"
      },
      "source": [
        "C2"
      ]
    },
    {
      "cell_type": "code",
      "metadata": {
        "colab": {
          "base_uri": "https://localhost:8080/"
        },
        "id": "QV6-qOJSqWjb",
        "outputId": "581d1350-86b9-41ed-f57d-60df838e6344"
      },
      "source": [
        "full_path_to_file2 = os.path.join(C201) \n",
        "blob_service_client.get_blob_to_path('shadeimg', full_path_to_file2, full_path_to_file2)"
      ],
      "execution_count": null,
      "outputs": [
        {
          "output_type": "execute_result",
          "data": {
            "text/plain": [
              "<azure.storage.blob.models.Blob at 0x7f87b5c0af10>"
            ]
          },
          "metadata": {},
          "execution_count": 53
        }
      ]
    },
    {
      "cell_type": "code",
      "metadata": {
        "colab": {
          "base_uri": "https://localhost:8080/"
        },
        "id": "yiVQsZVuqWjb",
        "outputId": "14f12433-843c-46e8-a6ef-2bf63d5eb710"
      },
      "source": [
        "full_path_to_file2 = os.path.join(C202) \n",
        "blob_service_client.get_blob_to_path('shadeimg', full_path_to_file2, full_path_to_file2)"
      ],
      "execution_count": null,
      "outputs": [
        {
          "output_type": "execute_result",
          "data": {
            "text/plain": [
              "<azure.storage.blob.models.Blob at 0x7f87b5bb9490>"
            ]
          },
          "metadata": {},
          "execution_count": 54
        }
      ]
    },
    {
      "cell_type": "code",
      "metadata": {
        "colab": {
          "base_uri": "https://localhost:8080/"
        },
        "id": "hY_rgNf9qWjb",
        "outputId": "f86366f8-ac02-4612-d790-18bb05daff60"
      },
      "source": [
        "full_path_to_file2 = os.path.join(C205) \n",
        "blob_service_client.get_blob_to_path('shadeimg', full_path_to_file2, full_path_to_file2)"
      ],
      "execution_count": null,
      "outputs": [
        {
          "output_type": "execute_result",
          "data": {
            "text/plain": [
              "<azure.storage.blob.models.Blob at 0x7f87b5c202d0>"
            ]
          },
          "metadata": {},
          "execution_count": 55
        }
      ]
    },
    {
      "cell_type": "code",
      "metadata": {
        "colab": {
          "base_uri": "https://localhost:8080/"
        },
        "id": "wen5PJfoqWjb",
        "outputId": "6a61d797-fbf2-46ba-87a9-c49546b18932"
      },
      "source": [
        "full_path_to_file2 = os.path.join(C210) \n",
        "blob_service_client.get_blob_to_path('shadeimg', full_path_to_file2, full_path_to_file2)"
      ],
      "execution_count": null,
      "outputs": [
        {
          "output_type": "execute_result",
          "data": {
            "text/plain": [
              "<azure.storage.blob.models.Blob at 0x7f87b5badb10>"
            ]
          },
          "metadata": {},
          "execution_count": 56
        }
      ]
    },
    {
      "cell_type": "markdown",
      "metadata": {
        "id": "Dre9rll26lii"
      },
      "source": [
        "C3"
      ]
    },
    {
      "cell_type": "code",
      "metadata": {
        "colab": {
          "base_uri": "https://localhost:8080/"
        },
        "id": "XxQjkejdqWjc",
        "outputId": "192ae88f-f77b-4064-d752-27a5108232e7"
      },
      "source": [
        "full_path_to_file2 = os.path.join(C301) \n",
        "blob_service_client.get_blob_to_path('shadeimg', full_path_to_file2, full_path_to_file2)"
      ],
      "execution_count": null,
      "outputs": [
        {
          "output_type": "execute_result",
          "data": {
            "text/plain": [
              "<azure.storage.blob.models.Blob at 0x7f87b5c1dd10>"
            ]
          },
          "metadata": {},
          "execution_count": 57
        }
      ]
    },
    {
      "cell_type": "code",
      "metadata": {
        "colab": {
          "base_uri": "https://localhost:8080/"
        },
        "id": "hJo8QJcUqWjc",
        "outputId": "04a30ed4-3d55-4bc4-9bf1-c6e338c8bba8"
      },
      "source": [
        "full_path_to_file2 = os.path.join(C303) \n",
        "blob_service_client.get_blob_to_path('shadeimg', full_path_to_file2, full_path_to_file2)"
      ],
      "execution_count": null,
      "outputs": [
        {
          "output_type": "execute_result",
          "data": {
            "text/plain": [
              "<azure.storage.blob.models.Blob at 0x7f87b5c0a990>"
            ]
          },
          "metadata": {},
          "execution_count": 58
        }
      ]
    },
    {
      "cell_type": "code",
      "metadata": {
        "colab": {
          "base_uri": "https://localhost:8080/"
        },
        "id": "znSCt104qWjc",
        "outputId": "9ad327d2-35c9-4824-e267-110c513613fb"
      },
      "source": [
        "full_path_to_file2 = os.path.join(C306) \n",
        "blob_service_client.get_blob_to_path('shadeimg', full_path_to_file2, full_path_to_file2)"
      ],
      "execution_count": null,
      "outputs": [
        {
          "output_type": "execute_result",
          "data": {
            "text/plain": [
              "<azure.storage.blob.models.Blob at 0x7f87b5c21610>"
            ]
          },
          "metadata": {},
          "execution_count": 59
        }
      ]
    },
    {
      "cell_type": "code",
      "metadata": {
        "colab": {
          "base_uri": "https://localhost:8080/"
        },
        "id": "ZNg18ycAqWjc",
        "outputId": "2f920996-b5b4-41c4-e383-e3f51e125165"
      },
      "source": [
        "full_path_to_file2 = os.path.join(C309) \n",
        "blob_service_client.get_blob_to_path('shadeimg', full_path_to_file2, full_path_to_file2)"
      ],
      "execution_count": null,
      "outputs": [
        {
          "output_type": "execute_result",
          "data": {
            "text/plain": [
              "<azure.storage.blob.models.Blob at 0x7f87b5c09950>"
            ]
          },
          "metadata": {},
          "execution_count": 60
        }
      ]
    },
    {
      "cell_type": "markdown",
      "metadata": {
        "id": "A89CEXhb6nqF"
      },
      "source": [
        "C4"
      ]
    },
    {
      "cell_type": "code",
      "metadata": {
        "colab": {
          "base_uri": "https://localhost:8080/"
        },
        "id": "ZNp-dUIsqWjc",
        "outputId": "5b94c544-8e03-4466-8ab1-3e3edd4e9dbc"
      },
      "source": [
        "full_path_to_file2 = os.path.join(C402) \n",
        "blob_service_client.get_blob_to_path('shadeimg', full_path_to_file2, full_path_to_file2)"
      ],
      "execution_count": null,
      "outputs": [
        {
          "output_type": "execute_result",
          "data": {
            "text/plain": [
              "<azure.storage.blob.models.Blob at 0x7f87b5bd3dd0>"
            ]
          },
          "metadata": {},
          "execution_count": 61
        }
      ]
    },
    {
      "cell_type": "code",
      "metadata": {
        "colab": {
          "base_uri": "https://localhost:8080/"
        },
        "id": "TFshOTHiqWjc",
        "outputId": "da8973ec-fc91-49ad-9985-2cfcd99c42cf"
      },
      "source": [
        "full_path_to_file2 = os.path.join(C405) \n",
        "blob_service_client.get_blob_to_path('shadeimg', full_path_to_file2, full_path_to_file2)"
      ],
      "execution_count": null,
      "outputs": [
        {
          "output_type": "execute_result",
          "data": {
            "text/plain": [
              "<azure.storage.blob.models.Blob at 0x7f87b5c20e50>"
            ]
          },
          "metadata": {},
          "execution_count": 62
        }
      ]
    },
    {
      "cell_type": "code",
      "metadata": {
        "colab": {
          "base_uri": "https://localhost:8080/"
        },
        "id": "sdDlfp9NqWjd",
        "outputId": "2c3fc7d9-de43-4ff6-d8f7-dabbf5e88acb"
      },
      "source": [
        "full_path_to_file2 = os.path.join(C408) \n",
        "blob_service_client.get_blob_to_path('shadeimg', full_path_to_file2, full_path_to_file2)"
      ],
      "execution_count": null,
      "outputs": [
        {
          "output_type": "execute_result",
          "data": {
            "text/plain": [
              "<azure.storage.blob.models.Blob at 0x7f87b5bd6f50>"
            ]
          },
          "metadata": {},
          "execution_count": 63
        }
      ]
    },
    {
      "cell_type": "code",
      "metadata": {
        "colab": {
          "base_uri": "https://localhost:8080/"
        },
        "id": "_FOfoyRXqWjd",
        "outputId": "61625661-12af-4760-a95a-adda37c82726"
      },
      "source": [
        "full_path_to_file2 = os.path.join(C409) \n",
        "blob_service_client.get_blob_to_path('shadeimg', full_path_to_file2, full_path_to_file2)"
      ],
      "execution_count": null,
      "outputs": [
        {
          "output_type": "execute_result",
          "data": {
            "text/plain": [
              "<azure.storage.blob.models.Blob at 0x7f87b5bc7790>"
            ]
          },
          "metadata": {},
          "execution_count": 64
        }
      ]
    },
    {
      "cell_type": "markdown",
      "metadata": {
        "id": "2nXnc9S96qZe"
      },
      "source": [
        "D2"
      ]
    },
    {
      "cell_type": "code",
      "metadata": {
        "colab": {
          "base_uri": "https://localhost:8080/"
        },
        "id": "jjb3FLKgqWjd",
        "outputId": "30b6ebcc-bdc8-4fb0-ef2e-6b4362ae22f0"
      },
      "source": [
        "full_path_to_file2 = os.path.join(D204) \n",
        "blob_service_client.get_blob_to_path('shadeimg', full_path_to_file2, full_path_to_file2)"
      ],
      "execution_count": null,
      "outputs": [
        {
          "output_type": "execute_result",
          "data": {
            "text/plain": [
              "<azure.storage.blob.models.Blob at 0x7f87b5bd6d50>"
            ]
          },
          "metadata": {},
          "execution_count": 65
        }
      ]
    },
    {
      "cell_type": "code",
      "metadata": {
        "colab": {
          "base_uri": "https://localhost:8080/"
        },
        "id": "9pWM-aURqWjd",
        "outputId": "5408f626-3d35-4f04-f5c8-2ff5b19402e9"
      },
      "source": [
        "full_path_to_file2 = os.path.join(D206) \n",
        "blob_service_client.get_blob_to_path('shadeimg', full_path_to_file2, full_path_to_file2)"
      ],
      "execution_count": null,
      "outputs": [
        {
          "output_type": "execute_result",
          "data": {
            "text/plain": [
              "<azure.storage.blob.models.Blob at 0x7f87b5bdf290>"
            ]
          },
          "metadata": {},
          "execution_count": 66
        }
      ]
    },
    {
      "cell_type": "code",
      "metadata": {
        "colab": {
          "base_uri": "https://localhost:8080/"
        },
        "id": "LOd1jz1AqWjd",
        "outputId": "688c8e45-e5d8-49fe-fdac-84e11c4245f7"
      },
      "source": [
        "full_path_to_file2 = os.path.join(D207) \n",
        "blob_service_client.get_blob_to_path('shadeimg', full_path_to_file2, full_path_to_file2)"
      ],
      "execution_count": null,
      "outputs": [
        {
          "output_type": "execute_result",
          "data": {
            "text/plain": [
              "<azure.storage.blob.models.Blob at 0x7f87b5c21290>"
            ]
          },
          "metadata": {},
          "execution_count": 67
        }
      ]
    },
    {
      "cell_type": "code",
      "metadata": {
        "colab": {
          "base_uri": "https://localhost:8080/"
        },
        "id": "2u7Gw9SRqWjd",
        "outputId": "6f09c444-6803-468a-c09f-0aa94fc0794f"
      },
      "source": [
        "full_path_to_file2 = os.path.join(D209) \n",
        "blob_service_client.get_blob_to_path('shadeimg', full_path_to_file2, full_path_to_file2)"
      ],
      "execution_count": null,
      "outputs": [
        {
          "output_type": "execute_result",
          "data": {
            "text/plain": [
              "<azure.storage.blob.models.Blob at 0x7f87b5bc7450>"
            ]
          },
          "metadata": {},
          "execution_count": 68
        }
      ]
    },
    {
      "cell_type": "markdown",
      "metadata": {
        "id": "84tHGN-56sF3"
      },
      "source": [
        "D3"
      ]
    },
    {
      "cell_type": "code",
      "metadata": {
        "colab": {
          "base_uri": "https://localhost:8080/"
        },
        "id": "1738pW_3qWje",
        "outputId": "652bf6fe-dfd6-43c9-a293-e8efc9eabd9f"
      },
      "source": [
        "full_path_to_file2 = os.path.join(D310) \n",
        "blob_service_client.get_blob_to_path('shadeimg', full_path_to_file2, full_path_to_file2)"
      ],
      "execution_count": null,
      "outputs": [
        {
          "output_type": "execute_result",
          "data": {
            "text/plain": [
              "<azure.storage.blob.models.Blob at 0x7f87b5bb9390>"
            ]
          },
          "metadata": {},
          "execution_count": 69
        }
      ]
    },
    {
      "cell_type": "code",
      "metadata": {
        "colab": {
          "base_uri": "https://localhost:8080/"
        },
        "id": "fOWxaJZRqWje",
        "outputId": "f7f60f85-9038-4eb7-d142-8a3c6e92d6dc"
      },
      "source": [
        "full_path_to_file2 = os.path.join(D302) \n",
        "blob_service_client.get_blob_to_path('shadeimg', full_path_to_file2, full_path_to_file2)"
      ],
      "execution_count": null,
      "outputs": [
        {
          "output_type": "execute_result",
          "data": {
            "text/plain": [
              "<azure.storage.blob.models.Blob at 0x7f87b5bc7910>"
            ]
          },
          "metadata": {},
          "execution_count": 70
        }
      ]
    },
    {
      "cell_type": "code",
      "metadata": {
        "colab": {
          "base_uri": "https://localhost:8080/"
        },
        "id": "0gIgD-pCqWje",
        "outputId": "d7065679-e87d-44c4-ce33-3d33e89d334f"
      },
      "source": [
        "full_path_to_file2 = os.path.join(D305) \n",
        "blob_service_client.get_blob_to_path('shadeimg', full_path_to_file2, full_path_to_file2)"
      ],
      "execution_count": null,
      "outputs": [
        {
          "output_type": "execute_result",
          "data": {
            "text/plain": [
              "<azure.storage.blob.models.Blob at 0x7f87b5bd35d0>"
            ]
          },
          "metadata": {},
          "execution_count": 71
        }
      ]
    },
    {
      "cell_type": "code",
      "metadata": {
        "colab": {
          "base_uri": "https://localhost:8080/"
        },
        "id": "vChTjQDpqWje",
        "outputId": "daabe0aa-cfaa-4a03-fbbb-65788b1191c8"
      },
      "source": [
        "full_path_to_file2 = os.path.join(D306) \n",
        "blob_service_client.get_blob_to_path('shadeimg', full_path_to_file2, full_path_to_file2)"
      ],
      "execution_count": null,
      "outputs": [
        {
          "output_type": "execute_result",
          "data": {
            "text/plain": [
              "<azure.storage.blob.models.Blob at 0x7f87b5c00e90>"
            ]
          },
          "metadata": {},
          "execution_count": 72
        }
      ]
    },
    {
      "cell_type": "markdown",
      "metadata": {
        "id": "sc2ondun6taF"
      },
      "source": [
        "D4"
      ]
    },
    {
      "cell_type": "code",
      "metadata": {
        "colab": {
          "base_uri": "https://localhost:8080/"
        },
        "id": "OPqH6s0MqWje",
        "outputId": "90a58427-3b71-4d39-cf37-8b37f50be346"
      },
      "source": [
        "full_path_to_file2 = os.path.join(D401) \n",
        "blob_service_client.get_blob_to_path('shadeimg', full_path_to_file2, full_path_to_file2)"
      ],
      "execution_count": null,
      "outputs": [
        {
          "output_type": "execute_result",
          "data": {
            "text/plain": [
              "<azure.storage.blob.models.Blob at 0x7f87b5be7ed0>"
            ]
          },
          "metadata": {},
          "execution_count": 73
        }
      ]
    },
    {
      "cell_type": "code",
      "metadata": {
        "colab": {
          "base_uri": "https://localhost:8080/"
        },
        "id": "OHFDg-TYqWje",
        "outputId": "007b6c27-3c45-461d-9a3b-84ee29e289ed"
      },
      "source": [
        "full_path_to_file2 = os.path.join(D405) \n",
        "blob_service_client.get_blob_to_path('shadeimg', full_path_to_file2, full_path_to_file2)"
      ],
      "execution_count": null,
      "outputs": [
        {
          "output_type": "execute_result",
          "data": {
            "text/plain": [
              "<azure.storage.blob.models.Blob at 0x7f87b5c09e10>"
            ]
          },
          "metadata": {},
          "execution_count": 74
        }
      ]
    },
    {
      "cell_type": "code",
      "metadata": {
        "colab": {
          "base_uri": "https://localhost:8080/"
        },
        "id": "IykUWgiiqWje",
        "outputId": "a42be4dc-5c75-4f7e-b51c-ff1e6a1983c1"
      },
      "source": [
        "full_path_to_file2 = os.path.join(D407) \n",
        "blob_service_client.get_blob_to_path('shadeimg', full_path_to_file2, full_path_to_file2)"
      ],
      "execution_count": null,
      "outputs": [
        {
          "output_type": "execute_result",
          "data": {
            "text/plain": [
              "<azure.storage.blob.models.Blob at 0x7f87b6fb30d0>"
            ]
          },
          "metadata": {},
          "execution_count": 75
        }
      ]
    },
    {
      "cell_type": "code",
      "metadata": {
        "colab": {
          "base_uri": "https://localhost:8080/"
        },
        "id": "mh_GL5A2qWjf",
        "outputId": "e6c3c0fc-7e86-4ea2-9158-e1053ac8118a"
      },
      "source": [
        "full_path_to_file2 = os.path.join(D409) \n",
        "blob_service_client.get_blob_to_path('shadeimg', full_path_to_file2, full_path_to_file2)"
      ],
      "execution_count": null,
      "outputs": [
        {
          "output_type": "execute_result",
          "data": {
            "text/plain": [
              "<azure.storage.blob.models.Blob at 0x7f87b5bd6350>"
            ]
          },
          "metadata": {},
          "execution_count": 76
        }
      ]
    },
    {
      "cell_type": "markdown",
      "metadata": {
        "id": "nxyIUEg7cPsn"
      },
      "source": [
        "#3. BGR to RGB"
      ]
    },
    {
      "cell_type": "code",
      "metadata": {
        "id": "1n-t_Rl_cXK7"
      },
      "source": [
        "import cv2\n",
        "from matplotlib import pyplot as plt #การเรียกใช้คำสั่ง matplotlib เพื่อวาดกราฟ โดยแทนชื่อ matplotlib ด้วย plt\n",
        "import matplotlib"
      ],
      "execution_count": null,
      "outputs": []
    },
    {
      "cell_type": "markdown",
      "metadata": {
        "id": "P8Vp2fIOb6KG"
      },
      "source": [
        "A1"
      ]
    },
    {
      "cell_type": "code",
      "metadata": {
        "id": "GVOM_S9IaAsm"
      },
      "source": [
        "imgA1_01  = cv2.imread(A101)\n",
        "RGB_imgA1_01= cv2.cvtColor(imgA1_01, cv2.COLOR_BGR2RGB)"
      ],
      "execution_count": null,
      "outputs": []
    },
    {
      "cell_type": "code",
      "metadata": {
        "id": "hHPm9C2Obbbx"
      },
      "source": [
        "imgA1_02  = cv2.imread(A102)\n",
        "RGB_imgA1_02= cv2.cvtColor(imgA1_02, cv2.COLOR_BGR2RGB)"
      ],
      "execution_count": null,
      "outputs": []
    },
    {
      "cell_type": "code",
      "metadata": {
        "id": "JSlpvsMEbgK7"
      },
      "source": [
        "imgA1_05  = cv2.imread(A105)\n",
        "RGB_imgA1_05= cv2.cvtColor(imgA1_05, cv2.COLOR_BGR2RGB)"
      ],
      "execution_count": null,
      "outputs": []
    },
    {
      "cell_type": "code",
      "metadata": {
        "id": "0o9-5ucebgqD"
      },
      "source": [
        "imgA1_06  = cv2.imread(A106)\n",
        "RGB_imgA1_06= cv2.cvtColor(imgA1_06, cv2.COLOR_BGR2RGB)"
      ],
      "execution_count": null,
      "outputs": []
    },
    {
      "cell_type": "markdown",
      "metadata": {
        "id": "gufTt975b7fS"
      },
      "source": [
        "A2"
      ]
    },
    {
      "cell_type": "code",
      "metadata": {
        "id": "tjSL18omb5R-"
      },
      "source": [
        "imgA2_02  = cv2.imread(A202)\n",
        "RGB_imgA2_02= cv2.cvtColor(imgA2_02, cv2.COLOR_BGR2RGB)"
      ],
      "execution_count": null,
      "outputs": []
    },
    {
      "cell_type": "code",
      "metadata": {
        "id": "54V3PVGEcKYg"
      },
      "source": [
        "imgA2_04  = cv2.imread(A204)\n",
        "RGB_imgA2_04= cv2.cvtColor(imgA2_04, cv2.COLOR_BGR2RGB)"
      ],
      "execution_count": null,
      "outputs": []
    },
    {
      "cell_type": "code",
      "metadata": {
        "id": "DVtfJhWscK1x"
      },
      "source": [
        "imgA2_07  = cv2.imread(A207)\n",
        "RGB_imgA2_07= cv2.cvtColor(imgA2_07, cv2.COLOR_BGR2RGB)"
      ],
      "execution_count": null,
      "outputs": []
    },
    {
      "cell_type": "code",
      "metadata": {
        "id": "8Naz0LU5cLHO"
      },
      "source": [
        "imgA2_08  = cv2.imread(A208)\n",
        "RGB_imgA2_08= cv2.cvtColor(imgA2_08, cv2.COLOR_BGR2RGB)"
      ],
      "execution_count": null,
      "outputs": []
    },
    {
      "cell_type": "markdown",
      "metadata": {
        "id": "uVEPIS6bcYbA"
      },
      "source": [
        "A3"
      ]
    },
    {
      "cell_type": "code",
      "metadata": {
        "id": "KzcBxc8lck7z"
      },
      "source": [
        "imgA3_03  = cv2.imread(A303)\n",
        "RGB_imgA3_03= cv2.cvtColor(imgA3_03, cv2.COLOR_BGR2RGB)"
      ],
      "execution_count": null,
      "outputs": []
    },
    {
      "cell_type": "code",
      "metadata": {
        "id": "lORtl17icmhM"
      },
      "source": [
        "imgA3_07  = cv2.imread(A307)\n",
        "RGB_imgA3_07= cv2.cvtColor(imgA3_07, cv2.COLOR_BGR2RGB)"
      ],
      "execution_count": null,
      "outputs": []
    },
    {
      "cell_type": "code",
      "metadata": {
        "id": "PdrwzlqVcyi1"
      },
      "source": [
        "imgA3_08  = cv2.imread(A308)\n",
        "RGB_imgA3_08= cv2.cvtColor(imgA3_08, cv2.COLOR_BGR2RGB)"
      ],
      "execution_count": null,
      "outputs": []
    },
    {
      "cell_type": "code",
      "metadata": {
        "id": "sg9Z_KwUc4kR"
      },
      "source": [
        "imgA3_10  = cv2.imread(A310)\n",
        "RGB_imgA3_10= cv2.cvtColor(imgA3_10, cv2.COLOR_BGR2RGB)"
      ],
      "execution_count": null,
      "outputs": []
    },
    {
      "cell_type": "markdown",
      "metadata": {
        "id": "a_-SKgyLcZWM"
      },
      "source": [
        "A3.5"
      ]
    },
    {
      "cell_type": "code",
      "metadata": {
        "id": "Gf3_D74Fc8S1"
      },
      "source": [
        "imgA3_501  = cv2.imread(A3_501)\n",
        "RGB_imgA3_501= cv2.cvtColor(imgA3_501, cv2.COLOR_BGR2RGB)"
      ],
      "execution_count": null,
      "outputs": []
    },
    {
      "cell_type": "code",
      "metadata": {
        "id": "GqLh_f0mdBKp"
      },
      "source": [
        "imgA3_505  = cv2.imread(A3_505)\n",
        "RGB_imgA3_505= cv2.cvtColor(imgA3_505, cv2.COLOR_BGR2RGB)"
      ],
      "execution_count": null,
      "outputs": []
    },
    {
      "cell_type": "code",
      "metadata": {
        "id": "cGBjkxnKdFxn"
      },
      "source": [
        "imgA3_507  = cv2.imread(A3_507)\n",
        "RGB_imgA3_507= cv2.cvtColor(imgA3_507, cv2.COLOR_BGR2RGB)"
      ],
      "execution_count": null,
      "outputs": []
    },
    {
      "cell_type": "code",
      "metadata": {
        "id": "wVvpke2ZdKe1"
      },
      "source": [
        "imgA3_510  = cv2.imread(A3_510)\n",
        "RGB_imgA3_510= cv2.cvtColor(imgA3_510, cv2.COLOR_BGR2RGB)"
      ],
      "execution_count": null,
      "outputs": []
    },
    {
      "cell_type": "markdown",
      "metadata": {
        "id": "PEkgGEpUdNrj"
      },
      "source": [
        "A4"
      ]
    },
    {
      "cell_type": "code",
      "metadata": {
        "id": "0iwy2ADPdOyB"
      },
      "source": [
        "imgA4_04  = cv2.imread(A404)\n",
        "RGB_imgA4_04= cv2.cvtColor(imgA4_04, cv2.COLOR_BGR2RGB)"
      ],
      "execution_count": null,
      "outputs": []
    },
    {
      "cell_type": "code",
      "metadata": {
        "id": "EYuD_CJydQX5"
      },
      "source": [
        "imgA4_05  = cv2.imread(A405)\n",
        "RGB_imgA4_05= cv2.cvtColor(imgA4_05, cv2.COLOR_BGR2RGB)"
      ],
      "execution_count": null,
      "outputs": []
    },
    {
      "cell_type": "code",
      "metadata": {
        "id": "0nvPOVb6dQsZ"
      },
      "source": [
        "imgA4_09  = cv2.imread(A409)\n",
        "RGB_imgA4_09= cv2.cvtColor(imgA4_09, cv2.COLOR_BGR2RGB)"
      ],
      "execution_count": null,
      "outputs": []
    },
    {
      "cell_type": "code",
      "metadata": {
        "id": "N-8Nu6NBdQ8d"
      },
      "source": [
        "imgA4_01  = cv2.imread(A401)\n",
        "RGB_imgA4_01= cv2.cvtColor(imgA4_01, cv2.COLOR_BGR2RGB)"
      ],
      "execution_count": null,
      "outputs": []
    },
    {
      "cell_type": "markdown",
      "metadata": {
        "id": "_ntdqxB5dsok"
      },
      "source": [
        "B1"
      ]
    },
    {
      "cell_type": "code",
      "metadata": {
        "id": "6N74-1BkdxgN"
      },
      "source": [
        "imgB1_02  = cv2.imread(B102)\n",
        "RGB_imgB1_02= cv2.cvtColor(imgB1_02, cv2.COLOR_BGR2RGB)"
      ],
      "execution_count": null,
      "outputs": []
    },
    {
      "cell_type": "code",
      "metadata": {
        "id": "N8oZlwN0dyGl"
      },
      "source": [
        "imgB1_03  = cv2.imread(B103)\n",
        "RGB_imgB1_03= cv2.cvtColor(imgB1_03, cv2.COLOR_BGR2RGB)"
      ],
      "execution_count": null,
      "outputs": []
    },
    {
      "cell_type": "code",
      "metadata": {
        "id": "igK3PDK9eCnz"
      },
      "source": [
        "imgB1_05  = cv2.imread(B105)\n",
        "RGB_imgB1_05= cv2.cvtColor(imgB1_05, cv2.COLOR_BGR2RGB)"
      ],
      "execution_count": null,
      "outputs": []
    },
    {
      "cell_type": "code",
      "metadata": {
        "id": "VrS0M6pAeHIF"
      },
      "source": [
        "imgB1_07  = cv2.imread(B107)\n",
        "RGB_imgB1_07= cv2.cvtColor(imgB1_07, cv2.COLOR_BGR2RGB)"
      ],
      "execution_count": null,
      "outputs": []
    },
    {
      "cell_type": "markdown",
      "metadata": {
        "id": "1I1KWoCMeObp"
      },
      "source": [
        "B2"
      ]
    },
    {
      "cell_type": "code",
      "metadata": {
        "id": "X-2JLg5feRPH"
      },
      "source": [
        "imgB2_01  = cv2.imread(B201)\n",
        "RGB_imgB2_01= cv2.cvtColor(imgB2_01, cv2.COLOR_BGR2RGB)"
      ],
      "execution_count": null,
      "outputs": []
    },
    {
      "cell_type": "code",
      "metadata": {
        "id": "B_VstUr5eXwQ"
      },
      "source": [
        "imgB2_03  = cv2.imread(B203)\n",
        "RGB_imgB2_03= cv2.cvtColor(imgB2_03, cv2.COLOR_BGR2RGB)"
      ],
      "execution_count": null,
      "outputs": []
    },
    {
      "cell_type": "code",
      "metadata": {
        "id": "2CgDr2APedK9"
      },
      "source": [
        "imgB2_04  = cv2.imread(B204)\n",
        "RGB_imgB2_04= cv2.cvtColor(imgB2_04, cv2.COLOR_BGR2RGB)"
      ],
      "execution_count": null,
      "outputs": []
    },
    {
      "cell_type": "code",
      "metadata": {
        "id": "5xOt0vwDedc_"
      },
      "source": [
        "imgB2_06  = cv2.imread(B206)\n",
        "RGB_imgB2_06= cv2.cvtColor(imgB2_06, cv2.COLOR_BGR2RGB)"
      ],
      "execution_count": null,
      "outputs": []
    },
    {
      "cell_type": "markdown",
      "metadata": {
        "id": "hUCBVyY7ePqP"
      },
      "source": [
        "B3"
      ]
    },
    {
      "cell_type": "code",
      "metadata": {
        "id": "LtfSY2yieq1m"
      },
      "source": [
        "imgB3_01  = cv2.imread(B301)\n",
        "RGB_imgB3_01= cv2.cvtColor(imgB3_01, cv2.COLOR_BGR2RGB)"
      ],
      "execution_count": null,
      "outputs": []
    },
    {
      "cell_type": "code",
      "metadata": {
        "id": "794EGsZeevXI"
      },
      "source": [
        "imgB3_04  = cv2.imread(B304)\n",
        "RGB_imgB3_04= cv2.cvtColor(imgB3_04, cv2.COLOR_BGR2RGB)"
      ],
      "execution_count": null,
      "outputs": []
    },
    {
      "cell_type": "code",
      "metadata": {
        "id": "lTZ_Ukume0_3"
      },
      "source": [
        "imgB3_08  = cv2.imread(B308)\n",
        "RGB_imgB3_08= cv2.cvtColor(imgB3_08, cv2.COLOR_BGR2RGB)"
      ],
      "execution_count": null,
      "outputs": []
    },
    {
      "cell_type": "code",
      "metadata": {
        "id": "8QEXNswqe6yE"
      },
      "source": [
        "imgB3_09  = cv2.imread(B309)\n",
        "RGB_imgB3_09= cv2.cvtColor(imgB3_09, cv2.COLOR_BGR2RGB)"
      ],
      "execution_count": null,
      "outputs": []
    },
    {
      "cell_type": "markdown",
      "metadata": {
        "id": "LcXBVCGVeQec"
      },
      "source": [
        "B4"
      ]
    },
    {
      "cell_type": "code",
      "metadata": {
        "id": "6aFTfOU0fKS7"
      },
      "source": [
        "imgB4_02  = cv2.imread(B402)\n",
        "RGB_imgB4_02= cv2.cvtColor(imgB4_02, cv2.COLOR_BGR2RGB)"
      ],
      "execution_count": null,
      "outputs": []
    },
    {
      "cell_type": "code",
      "metadata": {
        "id": "yIuyXg-Wfh3L"
      },
      "source": [
        "imgB4_03  = cv2.imread(B403)\n",
        "RGB_imgB4_03= cv2.cvtColor(imgB4_03, cv2.COLOR_BGR2RGB)"
      ],
      "execution_count": null,
      "outputs": []
    },
    {
      "cell_type": "code",
      "metadata": {
        "id": "xXaJJNF3fiG-"
      },
      "source": [
        "imgB4_07  = cv2.imread(B407)\n",
        "RGB_imgB4_07= cv2.cvtColor(imgB4_07, cv2.COLOR_BGR2RGB)"
      ],
      "execution_count": null,
      "outputs": []
    },
    {
      "cell_type": "code",
      "metadata": {
        "id": "ILAXr3L4fGYz"
      },
      "source": [
        "imgB4_10  = cv2.imread(B410)\n",
        "RGB_imgB4_10= cv2.cvtColor(imgB4_10, cv2.COLOR_BGR2RGB)"
      ],
      "execution_count": null,
      "outputs": []
    },
    {
      "cell_type": "markdown",
      "metadata": {
        "id": "uubEFQ7qf-tC"
      },
      "source": [
        "C1"
      ]
    },
    {
      "cell_type": "code",
      "metadata": {
        "id": "6-ubqoTsgJPC"
      },
      "source": [
        "imgC1_03  = cv2.imread(C103)\n",
        "RGB_imgC1_03= cv2.cvtColor(imgC1_03, cv2.COLOR_BGR2RGB)"
      ],
      "execution_count": null,
      "outputs": []
    },
    {
      "cell_type": "code",
      "metadata": {
        "id": "t0KvXNPygJii"
      },
      "source": [
        "imgC1_06  = cv2.imread(C106)\n",
        "RGB_imgC1_06= cv2.cvtColor(imgC1_06, cv2.COLOR_BGR2RGB)"
      ],
      "execution_count": null,
      "outputs": []
    },
    {
      "cell_type": "code",
      "metadata": {
        "id": "PiE8ZiNOgXXs"
      },
      "source": [
        "imgC1_07  = cv2.imread(C107)\n",
        "RGB_imgC1_07= cv2.cvtColor(imgC1_07, cv2.COLOR_BGR2RGB)"
      ],
      "execution_count": null,
      "outputs": []
    },
    {
      "cell_type": "code",
      "metadata": {
        "id": "cqOor2j3gWvD"
      },
      "source": [
        "imgC1_09  = cv2.imread(C109)\n",
        "RGB_imgC1_09= cv2.cvtColor(imgC1_09, cv2.COLOR_BGR2RGB)"
      ],
      "execution_count": null,
      "outputs": []
    },
    {
      "cell_type": "markdown",
      "metadata": {
        "id": "yyI19BAbf_7S"
      },
      "source": [
        "C2"
      ]
    },
    {
      "cell_type": "code",
      "metadata": {
        "id": "TzTzP-M1gmXw"
      },
      "source": [
        "imgC2_01  = cv2.imread(C201)\n",
        "RGB_imgC2_01= cv2.cvtColor(imgC2_01, cv2.COLOR_BGR2RGB)"
      ],
      "execution_count": null,
      "outputs": []
    },
    {
      "cell_type": "code",
      "metadata": {
        "id": "QJfBlVmAgk3S"
      },
      "source": [
        "imgC2_02  = cv2.imread(C202)\n",
        "RGB_imgC2_02= cv2.cvtColor(imgC2_02, cv2.COLOR_BGR2RGB)"
      ],
      "execution_count": null,
      "outputs": []
    },
    {
      "cell_type": "code",
      "metadata": {
        "id": "DVeUrQ0agmDP"
      },
      "source": [
        "imgC2_05  = cv2.imread(C205)\n",
        "RGB_imgC2_05= cv2.cvtColor(imgC2_05, cv2.COLOR_BGR2RGB)"
      ],
      "execution_count": null,
      "outputs": []
    },
    {
      "cell_type": "code",
      "metadata": {
        "id": "XtghPEO2gmp8"
      },
      "source": [
        "imgC2_10  = cv2.imread(C210)\n",
        "RGB_imgC2_10= cv2.cvtColor(imgC2_10, cv2.COLOR_BGR2RGB)"
      ],
      "execution_count": null,
      "outputs": []
    },
    {
      "cell_type": "markdown",
      "metadata": {
        "id": "vfSCdks7gBFH"
      },
      "source": [
        "C3"
      ]
    },
    {
      "cell_type": "code",
      "metadata": {
        "id": "2FGbyNm0hhmR"
      },
      "source": [
        "imgC3_01  = cv2.imread(C301)\n",
        "RGB_imgC3_01= cv2.cvtColor(imgC3_01, cv2.COLOR_BGR2RGB)"
      ],
      "execution_count": null,
      "outputs": []
    },
    {
      "cell_type": "code",
      "metadata": {
        "id": "O60-VGAmhh97"
      },
      "source": [
        "imgC3_03  = cv2.imread(C303)\n",
        "RGB_imgC3_03= cv2.cvtColor(imgC3_03, cv2.COLOR_BGR2RGB)"
      ],
      "execution_count": null,
      "outputs": []
    },
    {
      "cell_type": "code",
      "metadata": {
        "id": "Ic1so8G1hsTe"
      },
      "source": [
        "imgC3_06  = cv2.imread(C306)\n",
        "RGB_imgC3_06= cv2.cvtColor(imgC3_06, cv2.COLOR_BGR2RGB)"
      ],
      "execution_count": null,
      "outputs": []
    },
    {
      "cell_type": "code",
      "metadata": {
        "id": "YtNRCI-8hsj-"
      },
      "source": [
        "imgC3_09  = cv2.imread(C309)\n",
        "RGB_imgC3_09= cv2.cvtColor(imgC3_09, cv2.COLOR_BGR2RGB)"
      ],
      "execution_count": null,
      "outputs": []
    },
    {
      "cell_type": "markdown",
      "metadata": {
        "id": "VZuqvN-UgB1x"
      },
      "source": [
        "C4"
      ]
    },
    {
      "cell_type": "code",
      "metadata": {
        "id": "HWO6qM5kirOE"
      },
      "source": [
        "imgC4_02  = cv2.imread(C402)\n",
        "RGB_imgC4_02= cv2.cvtColor(imgC4_02, cv2.COLOR_BGR2RGB)"
      ],
      "execution_count": null,
      "outputs": []
    },
    {
      "cell_type": "code",
      "metadata": {
        "id": "j4Pja6LViriS"
      },
      "source": [
        "imgC4_05  = cv2.imread(C405)\n",
        "RGB_imgC4_05= cv2.cvtColor(imgC4_05, cv2.COLOR_BGR2RGB)"
      ],
      "execution_count": null,
      "outputs": []
    },
    {
      "cell_type": "code",
      "metadata": {
        "id": "X3o2PV6virzG"
      },
      "source": [
        "imgC4_08  = cv2.imread(C408)\n",
        "RGB_imgC4_08= cv2.cvtColor(imgC4_08, cv2.COLOR_BGR2RGB)"
      ],
      "execution_count": null,
      "outputs": []
    },
    {
      "cell_type": "code",
      "metadata": {
        "id": "kPoMLVCdisHc"
      },
      "source": [
        "imgC4_09  = cv2.imread(C409)\n",
        "RGB_imgC4_09= cv2.cvtColor(imgC4_09, cv2.COLOR_BGR2RGB)"
      ],
      "execution_count": null,
      "outputs": []
    },
    {
      "cell_type": "markdown",
      "metadata": {
        "id": "T9ARw2lYgCjL"
      },
      "source": [
        "D2"
      ]
    },
    {
      "cell_type": "code",
      "metadata": {
        "id": "DFmPhDzCjGWv"
      },
      "source": [
        "imgD2_04  = cv2.imread(D204)\n",
        "RGB_imgD2_04= cv2.cvtColor(imgD2_04, cv2.COLOR_BGR2RGB)"
      ],
      "execution_count": null,
      "outputs": []
    },
    {
      "cell_type": "code",
      "metadata": {
        "id": "qujyaFlOjGni"
      },
      "source": [
        "imgD2_06  = cv2.imread(D206)\n",
        "RGB_imgD2_06= cv2.cvtColor(imgD2_06, cv2.COLOR_BGR2RGB)"
      ],
      "execution_count": null,
      "outputs": []
    },
    {
      "cell_type": "code",
      "metadata": {
        "id": "zlPefHERjU-c"
      },
      "source": [
        "imgD2_07  = cv2.imread(D207)\n",
        "RGB_imgD2_07= cv2.cvtColor(imgD2_07, cv2.COLOR_BGR2RGB)"
      ],
      "execution_count": null,
      "outputs": []
    },
    {
      "cell_type": "code",
      "metadata": {
        "id": "b3i_Rv95jVMQ"
      },
      "source": [
        "imgD2_09  = cv2.imread(D209)\n",
        "RGB_imgD2_09= cv2.cvtColor(imgD2_09, cv2.COLOR_BGR2RGB)"
      ],
      "execution_count": null,
      "outputs": []
    },
    {
      "cell_type": "markdown",
      "metadata": {
        "id": "bCM2rsMZgDZt"
      },
      "source": [
        "D3"
      ]
    },
    {
      "cell_type": "code",
      "metadata": {
        "id": "543Pftj0jkoi"
      },
      "source": [
        "imgD3_10  = cv2.imread(D310)\n",
        "RGB_imgD3_10= cv2.cvtColor(imgD3_10, cv2.COLOR_BGR2RGB)"
      ],
      "execution_count": null,
      "outputs": []
    },
    {
      "cell_type": "code",
      "metadata": {
        "id": "se8oOd8IjrIX"
      },
      "source": [
        "imgD3_02  = cv2.imread(D302)\n",
        "RGB_imgD3_02= cv2.cvtColor(imgD3_02, cv2.COLOR_BGR2RGB)"
      ],
      "execution_count": null,
      "outputs": []
    },
    {
      "cell_type": "code",
      "metadata": {
        "id": "n569gXVKjymi"
      },
      "source": [
        "imgD3_05  = cv2.imread(D305)\n",
        "RGB_imgD3_05= cv2.cvtColor(imgD3_05, cv2.COLOR_BGR2RGB)"
      ],
      "execution_count": null,
      "outputs": []
    },
    {
      "cell_type": "code",
      "metadata": {
        "id": "zAx3JzOnj4NU"
      },
      "source": [
        "imgD3_06  = cv2.imread(D306)\n",
        "RGB_imgD3_06= cv2.cvtColor(imgD3_06, cv2.COLOR_BGR2RGB)"
      ],
      "execution_count": null,
      "outputs": []
    },
    {
      "cell_type": "markdown",
      "metadata": {
        "id": "mvMVz8Y9gETm"
      },
      "source": [
        "D4"
      ]
    },
    {
      "cell_type": "code",
      "metadata": {
        "id": "ES2mOiDQj-uU"
      },
      "source": [
        "imgD4_01  = cv2.imread(D401)\n",
        "RGB_imgD4_01= cv2.cvtColor(imgD4_01, cv2.COLOR_BGR2RGB)"
      ],
      "execution_count": null,
      "outputs": []
    },
    {
      "cell_type": "code",
      "metadata": {
        "id": "68q0SjtIj_Dy"
      },
      "source": [
        "imgD4_05  = cv2.imread(D405)\n",
        "RGB_imgD4_05= cv2.cvtColor(imgD4_05, cv2.COLOR_BGR2RGB)"
      ],
      "execution_count": null,
      "outputs": []
    },
    {
      "cell_type": "code",
      "metadata": {
        "id": "eZSd-x2GgDEL"
      },
      "source": [
        "imgD4_07  = cv2.imread(D407)\n",
        "RGB_imgD4_07= cv2.cvtColor(imgD4_07, cv2.COLOR_BGR2RGB)"
      ],
      "execution_count": null,
      "outputs": []
    },
    {
      "cell_type": "code",
      "metadata": {
        "id": "ICINoEfIgDWj"
      },
      "source": [
        "imgD4_09  = cv2.imread(D409)\n",
        "RGB_imgD4_09= cv2.cvtColor(imgD4_09, cv2.COLOR_BGR2RGB)"
      ],
      "execution_count": null,
      "outputs": []
    },
    {
      "cell_type": "markdown",
      "metadata": {
        "id": "uHfUzwcHhX8R"
      },
      "source": [
        "#4. RGB to LAB"
      ]
    },
    {
      "cell_type": "markdown",
      "metadata": {
        "id": "yBL9utUemWyZ"
      },
      "source": [
        "A1"
      ]
    },
    {
      "cell_type": "code",
      "metadata": {
        "id": "UiTCG8xFntwB"
      },
      "source": [
        "LAB_imgA1_01= cv2.cvtColor(RGB_imgA1_01, cv2.COLOR_RGB2LAB)"
      ],
      "execution_count": null,
      "outputs": []
    },
    {
      "cell_type": "code",
      "metadata": {
        "id": "ktf3nM4antol"
      },
      "source": [
        "LAB_imgA1_02= cv2.cvtColor(RGB_imgA1_02, cv2.COLOR_RGB2LAB)"
      ],
      "execution_count": null,
      "outputs": []
    },
    {
      "cell_type": "code",
      "metadata": {
        "id": "u-JFybcBntdc"
      },
      "source": [
        "LAB_imgA1_05= cv2.cvtColor(RGB_imgA1_05, cv2.COLOR_RGB2LAB)"
      ],
      "execution_count": null,
      "outputs": []
    },
    {
      "cell_type": "code",
      "metadata": {
        "id": "EJ9wLDXenwG4"
      },
      "source": [
        "LAB_imgA1_06= cv2.cvtColor(RGB_imgA1_06, cv2.COLOR_RGB2LAB)"
      ],
      "execution_count": null,
      "outputs": []
    },
    {
      "cell_type": "markdown",
      "metadata": {
        "id": "8rtewXNCpnBx"
      },
      "source": [
        "A2"
      ]
    },
    {
      "cell_type": "code",
      "metadata": {
        "id": "xsTPAG-gpqXo"
      },
      "source": [
        "LAB_imgA2_02= cv2.cvtColor(RGB_imgA2_02, cv2.COLOR_RGB2LAB)"
      ],
      "execution_count": null,
      "outputs": []
    },
    {
      "cell_type": "code",
      "metadata": {
        "id": "Ssic_jpRqhqK"
      },
      "source": [
        "LAB_imgA2_04= cv2.cvtColor(RGB_imgA2_04, cv2.COLOR_RGB2LAB)"
      ],
      "execution_count": null,
      "outputs": []
    },
    {
      "cell_type": "code",
      "metadata": {
        "id": "nYc5fnY9qpBk"
      },
      "source": [
        "LAB_imgA2_07= cv2.cvtColor(RGB_imgA2_07, cv2.COLOR_RGB2LAB)"
      ],
      "execution_count": null,
      "outputs": []
    },
    {
      "cell_type": "code",
      "metadata": {
        "id": "hzoiKbbRqowx"
      },
      "source": [
        "LAB_imgA2_08= cv2.cvtColor(RGB_imgA2_08, cv2.COLOR_RGB2LAB)"
      ],
      "execution_count": null,
      "outputs": []
    },
    {
      "cell_type": "markdown",
      "metadata": {
        "id": "aI5xdTY4pn8b"
      },
      "source": [
        "A3"
      ]
    },
    {
      "cell_type": "code",
      "metadata": {
        "id": "pCou6gLsrIwK"
      },
      "source": [
        "LAB_imgA3_03= cv2.cvtColor(RGB_imgA3_03, cv2.COLOR_RGB2LAB)"
      ],
      "execution_count": null,
      "outputs": []
    },
    {
      "cell_type": "code",
      "metadata": {
        "id": "kVCfCF5OrIf4"
      },
      "source": [
        "LAB_imgA3_07= cv2.cvtColor(RGB_imgA3_07, cv2.COLOR_RGB2LAB)"
      ],
      "execution_count": null,
      "outputs": []
    },
    {
      "cell_type": "code",
      "metadata": {
        "id": "mG7BAXngrITB"
      },
      "source": [
        "LAB_imgA3_08= cv2.cvtColor(RGB_imgA3_08, cv2.COLOR_RGB2LAB)"
      ],
      "execution_count": null,
      "outputs": []
    },
    {
      "cell_type": "code",
      "metadata": {
        "id": "qix2SAstrH9-"
      },
      "source": [
        "LAB_imgA3_10= cv2.cvtColor(RGB_imgA3_10, cv2.COLOR_RGB2LAB)"
      ],
      "execution_count": null,
      "outputs": []
    },
    {
      "cell_type": "markdown",
      "metadata": {
        "id": "cGC5Ray3poxR"
      },
      "source": [
        "A3.5"
      ]
    },
    {
      "cell_type": "code",
      "metadata": {
        "id": "6AkrYYCurpZL"
      },
      "source": [
        "LAB_imgA3_501= cv2.cvtColor(RGB_imgA3_501, cv2.COLOR_RGB2LAB)"
      ],
      "execution_count": null,
      "outputs": []
    },
    {
      "cell_type": "code",
      "metadata": {
        "id": "JOQI8idOrpRN"
      },
      "source": [
        "LAB_imgA3_505= cv2.cvtColor(RGB_imgA3_505, cv2.COLOR_RGB2LAB)"
      ],
      "execution_count": null,
      "outputs": []
    },
    {
      "cell_type": "code",
      "metadata": {
        "id": "zkTCbiLJrpIU"
      },
      "source": [
        "LAB_imgA3_507= cv2.cvtColor(RGB_imgA3_507, cv2.COLOR_RGB2LAB)"
      ],
      "execution_count": null,
      "outputs": []
    },
    {
      "cell_type": "code",
      "metadata": {
        "id": "5LKXlyPProsL"
      },
      "source": [
        "LAB_imgA3_510= cv2.cvtColor(RGB_imgA3_510, cv2.COLOR_RGB2LAB)"
      ],
      "execution_count": null,
      "outputs": []
    },
    {
      "cell_type": "markdown",
      "metadata": {
        "id": "DkthN7EuppmB"
      },
      "source": [
        "A4"
      ]
    },
    {
      "cell_type": "code",
      "metadata": {
        "id": "bNbHDb-Jr15k"
      },
      "source": [
        "LAB_imgA4_01= cv2.cvtColor(RGB_imgA4_01, cv2.COLOR_RGB2LAB)"
      ],
      "execution_count": null,
      "outputs": []
    },
    {
      "cell_type": "code",
      "metadata": {
        "id": "1ftcCZIUr2Le"
      },
      "source": [
        "LAB_imgA4_05= cv2.cvtColor(RGB_imgA4_05, cv2.COLOR_RGB2LAB)"
      ],
      "execution_count": null,
      "outputs": []
    },
    {
      "cell_type": "code",
      "metadata": {
        "id": "woxjbwstr2g6"
      },
      "source": [
        "LAB_imgA4_04= cv2.cvtColor(RGB_imgA4_04, cv2.COLOR_RGB2LAB)"
      ],
      "execution_count": null,
      "outputs": []
    },
    {
      "cell_type": "code",
      "metadata": {
        "id": "qep6oqGLr2xv"
      },
      "source": [
        "LAB_imgA4_09= cv2.cvtColor(RGB_imgA4_09, cv2.COLOR_RGB2LAB)"
      ],
      "execution_count": null,
      "outputs": []
    },
    {
      "cell_type": "markdown",
      "metadata": {
        "id": "rrX7vaLpsTz-"
      },
      "source": [
        "B1"
      ]
    },
    {
      "cell_type": "code",
      "metadata": {
        "id": "DNRoFy1wsVF_"
      },
      "source": [
        "LAB_imgB1_03= cv2.cvtColor(RGB_imgB1_03, cv2.COLOR_RGB2LAB)"
      ],
      "execution_count": null,
      "outputs": []
    },
    {
      "cell_type": "code",
      "metadata": {
        "id": "zp3TpwKRsWvx"
      },
      "source": [
        "LAB_imgB1_02= cv2.cvtColor(RGB_imgB1_02, cv2.COLOR_RGB2LAB)"
      ],
      "execution_count": null,
      "outputs": []
    },
    {
      "cell_type": "code",
      "metadata": {
        "id": "xrzFoPNVsXI9"
      },
      "source": [
        "LAB_imgB1_07= cv2.cvtColor(RGB_imgB1_07, cv2.COLOR_RGB2LAB)"
      ],
      "execution_count": null,
      "outputs": []
    },
    {
      "cell_type": "code",
      "metadata": {
        "id": "_qS1zGa4sXZU"
      },
      "source": [
        "LAB_imgB1_05= cv2.cvtColor(RGB_imgB1_05, cv2.COLOR_RGB2LAB)"
      ],
      "execution_count": null,
      "outputs": []
    },
    {
      "cell_type": "markdown",
      "metadata": {
        "id": "dzo4UhMAsX3I"
      },
      "source": [
        "B2"
      ]
    },
    {
      "cell_type": "code",
      "metadata": {
        "id": "a9bFqn5FsY44"
      },
      "source": [
        "LAB_imgB2_01= cv2.cvtColor(RGB_imgB2_01, cv2.COLOR_RGB2LAB)"
      ],
      "execution_count": null,
      "outputs": []
    },
    {
      "cell_type": "code",
      "metadata": {
        "id": "xrHo9VfLsZXM"
      },
      "source": [
        "LAB_imgB2_03= cv2.cvtColor(RGB_imgB2_03, cv2.COLOR_RGB2LAB)"
      ],
      "execution_count": null,
      "outputs": []
    },
    {
      "cell_type": "code",
      "metadata": {
        "id": "oPLazK61sZ1W"
      },
      "source": [
        "LAB_imgB2_04= cv2.cvtColor(RGB_imgB2_04, cv2.COLOR_RGB2LAB)"
      ],
      "execution_count": null,
      "outputs": []
    },
    {
      "cell_type": "code",
      "metadata": {
        "id": "wAy1CJY8saG6"
      },
      "source": [
        "LAB_imgB2_06= cv2.cvtColor(RGB_imgB2_06, cv2.COLOR_RGB2LAB)"
      ],
      "execution_count": null,
      "outputs": []
    },
    {
      "cell_type": "markdown",
      "metadata": {
        "id": "TnccqxHJtNzw"
      },
      "source": [
        "B3"
      ]
    },
    {
      "cell_type": "code",
      "metadata": {
        "id": "6UlUYvwltP4E"
      },
      "source": [
        "LAB_imgB3_01= cv2.cvtColor(RGB_imgB3_01, cv2.COLOR_RGB2LAB)"
      ],
      "execution_count": null,
      "outputs": []
    },
    {
      "cell_type": "code",
      "metadata": {
        "id": "Eq5sKtuNtPw7"
      },
      "source": [
        "LAB_imgB3_04= cv2.cvtColor(RGB_imgB3_04, cv2.COLOR_RGB2LAB)"
      ],
      "execution_count": null,
      "outputs": []
    },
    {
      "cell_type": "code",
      "metadata": {
        "id": "ut-9sRhptPol"
      },
      "source": [
        "LAB_imgB3_08= cv2.cvtColor(RGB_imgB3_08, cv2.COLOR_RGB2LAB)"
      ],
      "execution_count": null,
      "outputs": []
    },
    {
      "cell_type": "code",
      "metadata": {
        "id": "jPF5GyyetPU_"
      },
      "source": [
        "LAB_imgB3_09= cv2.cvtColor(RGB_imgB3_09, cv2.COLOR_RGB2LAB)"
      ],
      "execution_count": null,
      "outputs": []
    },
    {
      "cell_type": "markdown",
      "metadata": {
        "id": "xZINrtsKtOnt"
      },
      "source": [
        "B4"
      ]
    },
    {
      "cell_type": "code",
      "metadata": {
        "id": "SeSRHJjYtpGP"
      },
      "source": [
        "LAB_imgB4_02= cv2.cvtColor(RGB_imgB4_02, cv2.COLOR_RGB2LAB)"
      ],
      "execution_count": null,
      "outputs": []
    },
    {
      "cell_type": "code",
      "metadata": {
        "id": "R4wpA7bLto3a"
      },
      "source": [
        "LAB_imgB4_03= cv2.cvtColor(RGB_imgB4_03, cv2.COLOR_RGB2LAB)"
      ],
      "execution_count": null,
      "outputs": []
    },
    {
      "cell_type": "code",
      "metadata": {
        "id": "vD9WSa1VtovA"
      },
      "source": [
        "LAB_imgB4_07= cv2.cvtColor(RGB_imgB4_07, cv2.COLOR_RGB2LAB)"
      ],
      "execution_count": null,
      "outputs": []
    },
    {
      "cell_type": "code",
      "metadata": {
        "id": "o40LIXDBtonM"
      },
      "source": [
        "LAB_imgB4_10= cv2.cvtColor(RGB_imgB4_10, cv2.COLOR_RGB2LAB)"
      ],
      "execution_count": null,
      "outputs": []
    },
    {
      "cell_type": "markdown",
      "metadata": {
        "id": "yLHsd5D4t50J"
      },
      "source": [
        "C1"
      ]
    },
    {
      "cell_type": "code",
      "metadata": {
        "id": "2p-LPjykt_yW"
      },
      "source": [
        "LAB_imgC1_03= cv2.cvtColor(RGB_imgC1_03, cv2.COLOR_RGB2LAB)"
      ],
      "execution_count": null,
      "outputs": []
    },
    {
      "cell_type": "code",
      "metadata": {
        "id": "rdHlj07At_pP"
      },
      "source": [
        "LAB_imgC1_06= cv2.cvtColor(RGB_imgC1_06, cv2.COLOR_RGB2LAB)"
      ],
      "execution_count": null,
      "outputs": []
    },
    {
      "cell_type": "code",
      "metadata": {
        "id": "fAaBZ-xHt_iB"
      },
      "source": [
        "LAB_imgC1_07= cv2.cvtColor(RGB_imgC1_07, cv2.COLOR_RGB2LAB)"
      ],
      "execution_count": null,
      "outputs": []
    },
    {
      "cell_type": "code",
      "metadata": {
        "id": "_HTZkwblt_Z0"
      },
      "source": [
        "LAB_imgC1_09= cv2.cvtColor(RGB_imgC1_09, cv2.COLOR_RGB2LAB)"
      ],
      "execution_count": null,
      "outputs": []
    },
    {
      "cell_type": "markdown",
      "metadata": {
        "id": "JeHYgzj7t7UT"
      },
      "source": [
        "C2"
      ]
    },
    {
      "cell_type": "code",
      "metadata": {
        "id": "EAqFpnsvuTNJ"
      },
      "source": [
        "LAB_imgC2_02= cv2.cvtColor(RGB_imgC2_02, cv2.COLOR_RGB2LAB)"
      ],
      "execution_count": null,
      "outputs": []
    },
    {
      "cell_type": "code",
      "metadata": {
        "id": "wwTtWI5xuTGB"
      },
      "source": [
        "LAB_imgC2_01= cv2.cvtColor(RGB_imgC2_01, cv2.COLOR_RGB2LAB)"
      ],
      "execution_count": null,
      "outputs": []
    },
    {
      "cell_type": "code",
      "metadata": {
        "id": "gmglr0e-uS-7"
      },
      "source": [
        "LAB_imgC2_05= cv2.cvtColor(RGB_imgC2_05, cv2.COLOR_RGB2LAB)"
      ],
      "execution_count": null,
      "outputs": []
    },
    {
      "cell_type": "code",
      "metadata": {
        "id": "XmcUNeqVuS4f"
      },
      "source": [
        "LAB_imgC2_10= cv2.cvtColor(RGB_imgC2_10, cv2.COLOR_RGB2LAB)"
      ],
      "execution_count": null,
      "outputs": []
    },
    {
      "cell_type": "markdown",
      "metadata": {
        "id": "TWvT9dUft7_0"
      },
      "source": [
        "C3"
      ]
    },
    {
      "cell_type": "code",
      "metadata": {
        "id": "xzI3OKXMuioR"
      },
      "source": [
        "LAB_imgC3_01= cv2.cvtColor(RGB_imgC3_01, cv2.COLOR_RGB2LAB)"
      ],
      "execution_count": null,
      "outputs": []
    },
    {
      "cell_type": "code",
      "metadata": {
        "id": "G_qoc3spuigB"
      },
      "source": [
        "LAB_imgC3_03= cv2.cvtColor(RGB_imgC3_03, cv2.COLOR_RGB2LAB)"
      ],
      "execution_count": null,
      "outputs": []
    },
    {
      "cell_type": "code",
      "metadata": {
        "id": "BuyacIypuiZg"
      },
      "source": [
        "LAB_imgC3_06= cv2.cvtColor(RGB_imgC3_06, cv2.COLOR_RGB2LAB)"
      ],
      "execution_count": null,
      "outputs": []
    },
    {
      "cell_type": "code",
      "metadata": {
        "id": "--fV2onBuiRu"
      },
      "source": [
        "LAB_imgC3_09= cv2.cvtColor(RGB_imgC3_09, cv2.COLOR_RGB2LAB)"
      ],
      "execution_count": null,
      "outputs": []
    },
    {
      "cell_type": "markdown",
      "metadata": {
        "id": "rfRgDMm7t8qf"
      },
      "source": [
        "C4"
      ]
    },
    {
      "cell_type": "code",
      "metadata": {
        "id": "t15dvQqsuuZo"
      },
      "source": [
        "LAB_imgC4_02= cv2.cvtColor(RGB_imgC4_02, cv2.COLOR_RGB2LAB)"
      ],
      "execution_count": null,
      "outputs": []
    },
    {
      "cell_type": "code",
      "metadata": {
        "id": "YkkHIM4-uuvj"
      },
      "source": [
        "LAB_imgC4_05= cv2.cvtColor(RGB_imgC4_05, cv2.COLOR_RGB2LAB)"
      ],
      "execution_count": null,
      "outputs": []
    },
    {
      "cell_type": "code",
      "metadata": {
        "id": "3AyL5cwwuuod"
      },
      "source": [
        "LAB_imgC4_08= cv2.cvtColor(RGB_imgC4_08, cv2.COLOR_RGB2LAB)"
      ],
      "execution_count": null,
      "outputs": []
    },
    {
      "cell_type": "code",
      "metadata": {
        "id": "RGQ8Mi_3uuhp"
      },
      "source": [
        "LAB_imgC4_09= cv2.cvtColor(RGB_imgC4_09, cv2.COLOR_RGB2LAB)"
      ],
      "execution_count": null,
      "outputs": []
    },
    {
      "cell_type": "markdown",
      "metadata": {
        "id": "DID5W6jot9pI"
      },
      "source": [
        "D2"
      ]
    },
    {
      "cell_type": "code",
      "metadata": {
        "id": "nlOKN8S1uv5p"
      },
      "source": [
        "LAB_imgD2_04= cv2.cvtColor(RGB_imgD2_04, cv2.COLOR_RGB2LAB)"
      ],
      "execution_count": null,
      "outputs": []
    },
    {
      "cell_type": "code",
      "metadata": {
        "id": "xapLpqazuvbP"
      },
      "source": [
        "LAB_imgD2_09= cv2.cvtColor(RGB_imgD2_09, cv2.COLOR_RGB2LAB)"
      ],
      "execution_count": null,
      "outputs": []
    },
    {
      "cell_type": "code",
      "metadata": {
        "id": "jRXzn-LouvVV"
      },
      "source": [
        "LAB_imgD2_06= cv2.cvtColor(RGB_imgD2_06, cv2.COLOR_RGB2LAB)"
      ],
      "execution_count": null,
      "outputs": []
    },
    {
      "cell_type": "code",
      "metadata": {
        "id": "TPB_PHRbuvOn"
      },
      "source": [
        "LAB_imgD2_07= cv2.cvtColor(RGB_imgD2_07, cv2.COLOR_RGB2LAB)"
      ],
      "execution_count": null,
      "outputs": []
    },
    {
      "cell_type": "markdown",
      "metadata": {
        "id": "RdzTIOPUt-U9"
      },
      "source": [
        "D3"
      ]
    },
    {
      "cell_type": "code",
      "metadata": {
        "id": "vdzrjvXjuxGq"
      },
      "source": [
        "LAB_imgD3_02= cv2.cvtColor(RGB_imgD3_02, cv2.COLOR_RGB2LAB)"
      ],
      "execution_count": null,
      "outputs": []
    },
    {
      "cell_type": "code",
      "metadata": {
        "id": "SHeWKMvduw_L"
      },
      "source": [
        "LAB_imgD3_05= cv2.cvtColor(RGB_imgD3_05, cv2.COLOR_RGB2LAB)"
      ],
      "execution_count": null,
      "outputs": []
    },
    {
      "cell_type": "code",
      "metadata": {
        "id": "jWpHp4wFuw40"
      },
      "source": [
        "LAB_imgD3_06= cv2.cvtColor(RGB_imgD3_06, cv2.COLOR_RGB2LAB)"
      ],
      "execution_count": null,
      "outputs": []
    },
    {
      "cell_type": "code",
      "metadata": {
        "id": "r7HUVynyuwui"
      },
      "source": [
        "LAB_imgD3_10= cv2.cvtColor(RGB_imgD3_10, cv2.COLOR_RGB2LAB)"
      ],
      "execution_count": null,
      "outputs": []
    },
    {
      "cell_type": "markdown",
      "metadata": {
        "id": "JcqL8Do5nwjA"
      },
      "source": [
        "D4"
      ]
    },
    {
      "cell_type": "code",
      "metadata": {
        "id": "Ci4XGpanvFmg"
      },
      "source": [
        "LAB_imgD4_01= cv2.cvtColor(RGB_imgD4_01, cv2.COLOR_RGB2LAB)"
      ],
      "execution_count": null,
      "outputs": []
    },
    {
      "cell_type": "code",
      "metadata": {
        "id": "RPgqKuRSvFcZ"
      },
      "source": [
        "LAB_imgD4_05= cv2.cvtColor(RGB_imgD4_05, cv2.COLOR_RGB2LAB)"
      ],
      "execution_count": null,
      "outputs": []
    },
    {
      "cell_type": "code",
      "metadata": {
        "id": "6kwiGpRAjboY"
      },
      "source": [
        "LAB_imgD4_07= cv2.cvtColor(RGB_imgD4_07, cv2.COLOR_RGB2LAB)"
      ],
      "execution_count": null,
      "outputs": []
    },
    {
      "cell_type": "code",
      "metadata": {
        "id": "3J_3qb0bjbTX"
      },
      "source": [
        "LAB_imgD4_09= cv2.cvtColor(RGB_imgD4_09, cv2.COLOR_RGB2LAB)"
      ],
      "execution_count": null,
      "outputs": []
    },
    {
      "cell_type": "markdown",
      "metadata": {
        "id": "JMrxyeYnwOjD"
      },
      "source": [
        "#5. ดึงสี"
      ]
    },
    {
      "cell_type": "markdown",
      "metadata": {
        "id": "qw2Btv3twaER"
      },
      "source": [
        "A1"
      ]
    },
    {
      "cell_type": "code",
      "metadata": {
        "id": "jwmj6XavwSCz"
      },
      "source": [
        "for i in range(LAB_imgA1_01.shape[0]): #ให้ i รันตาม row หรือ shape[0] คือแถว มีทั้งหมด 4032 แถว ของภาพที่ปรับขนาดมาแล้ว\n",
        "     for j in range(LAB_imgA1_01.shape[1]): #ให้ j รันตาม colum มีทั้งหมด 3024 colum เช่น แถวที่ 1 เข้ามาให้รันครบ 3024colum\n",
        "                if 1769<i<1881 and 2019<j<2131 :#ถ้าค่า i ที่เข้ามาอยู่ระหว่าง 1849 - 2101   ค่า j  ที่เข้ามาอยู่ระหว่าง 1799-2001\n",
        "                   (LAB_imgA1_01[i][j])#ถ้าค่าอยู่ใน ij  จะให้แสดงค่าที่อยู่ตำแหน่งนั้นๆ"
      ],
      "execution_count": null,
      "outputs": []
    },
    {
      "cell_type": "code",
      "metadata": {
        "id": "xZ-Lxu9-xb0e"
      },
      "source": [
        "for i in range(LAB_imgA1_02.shape[0]): \n",
        "     for j in range(LAB_imgA1_02.shape[1]): \n",
        "                if 1769<i<1881 and 2019<j<2131 :\n",
        "                 (LAB_imgA1_02[i][j])"
      ],
      "execution_count": null,
      "outputs": []
    },
    {
      "cell_type": "code",
      "metadata": {
        "id": "10vZXOYGx8Zn"
      },
      "source": [
        "for i in range(LAB_imgA1_05.shape[0]):\n",
        "     for j in range(LAB_imgA1_05.shape[1]): \n",
        "                if 1769<i<1881 and 2019<j<2131 :\n",
        "                  (LAB_imgA1_05[i][j])"
      ],
      "execution_count": null,
      "outputs": []
    },
    {
      "cell_type": "code",
      "metadata": {
        "id": "aiBTb_2_x82I"
      },
      "source": [
        "for i in range(LAB_imgA1_06.shape[0]):\n",
        "     for j in range(LAB_imgA1_06.shape[1]): \n",
        "                if 1769<i<1881 and 2019<j<2131 :\n",
        "                  (LAB_imgA1_06[i][j])"
      ],
      "execution_count": null,
      "outputs": []
    },
    {
      "cell_type": "markdown",
      "metadata": {
        "id": "jTiRr9XUy_gP"
      },
      "source": [
        "A2"
      ]
    },
    {
      "cell_type": "code",
      "metadata": {
        "id": "eobeeRWAzHNs"
      },
      "source": [
        "for i in range(LAB_imgA2_02.shape[0]): \n",
        "     for j in range(LAB_imgA2_02.shape[1]): \n",
        "                if 1769<i<1881 and 2019<j<2131 :\n",
        "                 (LAB_imgA2_02[i][j])"
      ],
      "execution_count": null,
      "outputs": []
    },
    {
      "cell_type": "code",
      "metadata": {
        "id": "DyGuQiP2zGpX"
      },
      "source": [
        "for i in range(LAB_imgA2_04.shape[0]): \n",
        "     for j in range(LAB_imgA2_04.shape[1]): \n",
        "                if 1769<i<1881 and 2019<j<2131 :\n",
        "                 (LAB_imgA2_04[i][j])"
      ],
      "execution_count": null,
      "outputs": []
    },
    {
      "cell_type": "code",
      "metadata": {
        "id": "UMKaPJY5zHFN"
      },
      "source": [
        "for i in range(LAB_imgA2_07.shape[0]): \n",
        "     for j in range(LAB_imgA2_07.shape[1]): \n",
        "                if 1769<i<1881 and 2019<j<2131 :\n",
        "                 (LAB_imgA2_07[i][j])"
      ],
      "execution_count": null,
      "outputs": []
    },
    {
      "cell_type": "code",
      "metadata": {
        "id": "qqFJ5RUmzG7f"
      },
      "source": [
        "for i in range(LAB_imgA2_08.shape[0]): \n",
        "     for j in range(LAB_imgA2_08.shape[1]): \n",
        "                if 1769<i<1881 and 2019<j<2131 :\n",
        "                 (LAB_imgA2_08[i][j])"
      ],
      "execution_count": null,
      "outputs": []
    },
    {
      "cell_type": "markdown",
      "metadata": {
        "id": "seWEFP5KzdNo"
      },
      "source": [
        "A3"
      ]
    },
    {
      "cell_type": "code",
      "metadata": {
        "id": "HdhQwqRWz3A-"
      },
      "source": [
        "for i in range(LAB_imgA3_03.shape[0]): \n",
        "     for j in range(LAB_imgA3_03.shape[1]): \n",
        "                if 1769<i<1881 and 2019<j<2131 :\n",
        "                 (LAB_imgA3_03[i][j])"
      ],
      "execution_count": null,
      "outputs": []
    },
    {
      "cell_type": "code",
      "metadata": {
        "id": "SajdmMwqz24D"
      },
      "source": [
        "for i in range(LAB_imgA3_07.shape[0]): \n",
        "     for j in range(LAB_imgA3_07.shape[1]): \n",
        "                if 1769<i<1881 and 2019<j<2131 :\n",
        "                 (LAB_imgA3_07[i][j])"
      ],
      "execution_count": null,
      "outputs": []
    },
    {
      "cell_type": "code",
      "metadata": {
        "id": "schK9I44z2up"
      },
      "source": [
        "for i in range(LAB_imgA3_08.shape[0]): \n",
        "     for j in range(LAB_imgA3_08.shape[1]): \n",
        "                if 1769<i<1881 and 2019<j<2131 :\n",
        "                 (LAB_imgA3_08[i][j])"
      ],
      "execution_count": null,
      "outputs": []
    },
    {
      "cell_type": "code",
      "metadata": {
        "id": "dElzA6B1z2hh"
      },
      "source": [
        "for i in range(LAB_imgA3_10.shape[0]): \n",
        "     for j in range(LAB_imgA3_10.shape[1]): \n",
        "                if 1769<i<1881 and 2019<j<2131 :\n",
        "                 (LAB_imgA3_10[i][j])"
      ],
      "execution_count": null,
      "outputs": []
    },
    {
      "cell_type": "markdown",
      "metadata": {
        "id": "e-8jafvYzeZh"
      },
      "source": [
        "A3.5"
      ]
    },
    {
      "cell_type": "code",
      "metadata": {
        "id": "St9f7kLX0Qe6"
      },
      "source": [
        "for i in range(LAB_imgA3_501.shape[0]): \n",
        "     for j in range(LAB_imgA3_501.shape[1]): \n",
        "                if 1769<i<1881 and 2019<j<2131 :\n",
        "                 (LAB_imgA3_501[i][j])"
      ],
      "execution_count": null,
      "outputs": []
    },
    {
      "cell_type": "code",
      "metadata": {
        "id": "SGlKRpF_0Qox"
      },
      "source": [
        "for i in range(LAB_imgA3_505.shape[0]): \n",
        "     for j in range(LAB_imgA3_505.shape[1]): \n",
        "                if 1769<i<1881 and 2019<j<2131 :\n",
        "                 (LAB_imgA3_505[i][j])"
      ],
      "execution_count": null,
      "outputs": []
    },
    {
      "cell_type": "code",
      "metadata": {
        "id": "2pp1QyLV0QX9"
      },
      "source": [
        "for i in range(LAB_imgA3_507.shape[0]): \n",
        "     for j in range(LAB_imgA3_507.shape[1]): \n",
        "                if 1769<i<1881 and 2019<j<2131 :\n",
        "                 (LAB_imgA3_507[i][j])"
      ],
      "execution_count": null,
      "outputs": []
    },
    {
      "cell_type": "code",
      "metadata": {
        "id": "HaZuvCEk0QPf"
      },
      "source": [
        "for i in range(LAB_imgA3_510.shape[0]): \n",
        "     for j in range(LAB_imgA3_510.shape[1]): \n",
        "                if 1769<i<1881 and 2019<j<2131 :\n",
        "                 (LAB_imgA3_510[i][j])"
      ],
      "execution_count": null,
      "outputs": []
    },
    {
      "cell_type": "markdown",
      "metadata": {
        "id": "T8YIrB50zfz-"
      },
      "source": [
        "A4 "
      ]
    },
    {
      "cell_type": "code",
      "metadata": {
        "id": "JtCLy0qR0nAX"
      },
      "source": [
        "for i in range(LAB_imgA4_01.shape[0]): \n",
        "     for j in range(LAB_imgA4_01.shape[1]): \n",
        "                if 1769<i<1881 and 2019<j<2131 :\n",
        "                 (LAB_imgA4_01[i][j])"
      ],
      "execution_count": null,
      "outputs": []
    },
    {
      "cell_type": "code",
      "metadata": {
        "id": "Hf0JhjSr0m4a"
      },
      "source": [
        "for i in range(LAB_imgA4_04.shape[0]): \n",
        "     for j in range(LAB_imgA4_04.shape[1]): \n",
        "                if 1769<i<1881 and 2019<j<2131 :\n",
        "                 (LAB_imgA4_04[i][j])"
      ],
      "execution_count": null,
      "outputs": []
    },
    {
      "cell_type": "code",
      "metadata": {
        "id": "lU7qgO730mwt"
      },
      "source": [
        "for i in range(LAB_imgA4_05.shape[0]): \n",
        "     for j in range(LAB_imgA4_05.shape[1]): \n",
        "                if 1769<i<1881 and 2019<j<2131 :\n",
        "                 (LAB_imgA4_05[i][j])"
      ],
      "execution_count": null,
      "outputs": []
    },
    {
      "cell_type": "code",
      "metadata": {
        "id": "3woTPWZR0moq"
      },
      "source": [
        "for i in range(LAB_imgA4_09.shape[0]): \n",
        "     for j in range(LAB_imgA4_09.shape[1]): \n",
        "                if 1769<i<1881 and 2019<j<2131 :\n",
        "                 (LAB_imgA4_09[i][j])"
      ],
      "execution_count": null,
      "outputs": []
    },
    {
      "cell_type": "markdown",
      "metadata": {
        "id": "j2qM32H51EnG"
      },
      "source": [
        "B1"
      ]
    },
    {
      "cell_type": "code",
      "metadata": {
        "id": "SWNQW9gi1LCn"
      },
      "source": [
        "for i in range(LAB_imgB1_02.shape[0]): \n",
        "     for j in range(LAB_imgB1_02.shape[1]): \n",
        "                if 1769<i<1881 and 2019<j<2131 :\n",
        "                 (LAB_imgB1_02[i][j])"
      ],
      "execution_count": null,
      "outputs": []
    },
    {
      "cell_type": "code",
      "metadata": {
        "id": "gCMzRnvw1K4U"
      },
      "source": [
        "for i in range(LAB_imgB1_03.shape[0]): \n",
        "     for j in range(LAB_imgB1_03.shape[1]): \n",
        "                if 1769<i<1881 and 2019<j<2131 :\n",
        "                 (LAB_imgB1_03[i][j])"
      ],
      "execution_count": null,
      "outputs": []
    },
    {
      "cell_type": "code",
      "metadata": {
        "id": "nnGR1Du_1Kt8"
      },
      "source": [
        "for i in range(LAB_imgB1_07.shape[0]): \n",
        "     for j in range(LAB_imgB1_07.shape[1]): \n",
        "                if 1769<i<1881 and 2019<j<2131 :\n",
        "                 (LAB_imgB1_07[i][j])"
      ],
      "execution_count": null,
      "outputs": []
    },
    {
      "cell_type": "code",
      "metadata": {
        "id": "XqglTNwE1Keg"
      },
      "source": [
        "for i in range(LAB_imgB1_05.shape[0]): \n",
        "     for j in range(LAB_imgB1_05.shape[1]): \n",
        "                if 1769<i<1881 and 2019<j<2131 :\n",
        "                 (LAB_imgB1_05[i][j])"
      ],
      "execution_count": null,
      "outputs": []
    },
    {
      "cell_type": "markdown",
      "metadata": {
        "id": "gal2BJDK1HYu"
      },
      "source": [
        "B2"
      ]
    },
    {
      "cell_type": "code",
      "metadata": {
        "id": "asjFneZV1Lzb"
      },
      "source": [
        "for i in range(LAB_imgB2_01.shape[0]): \n",
        "     for j in range(LAB_imgB2_01.shape[1]): \n",
        "                if 1769<i<1881 and 2019<j<2131 :\n",
        "                 (LAB_imgB2_01[i][j])"
      ],
      "execution_count": null,
      "outputs": []
    },
    {
      "cell_type": "code",
      "metadata": {
        "id": "U3RYMyse1LqV"
      },
      "source": [
        "for i in range(LAB_imgB2_03.shape[0]): \n",
        "     for j in range(LAB_imgB2_03.shape[1]): \n",
        "                if 1769<i<1881 and 2019<j<2131 :\n",
        "                 (LAB_imgB2_03[i][j])"
      ],
      "execution_count": null,
      "outputs": []
    },
    {
      "cell_type": "code",
      "metadata": {
        "id": "T_9aHkY21Lh9"
      },
      "source": [
        "for i in range(LAB_imgB2_04.shape[0]): \n",
        "     for j in range(LAB_imgB2_04.shape[1]): \n",
        "                if 1769<i<1881 and 2019<j<2131 :\n",
        "                 (LAB_imgB2_04[i][j])"
      ],
      "execution_count": null,
      "outputs": []
    },
    {
      "cell_type": "code",
      "metadata": {
        "id": "x6JkQZK81LZ2"
      },
      "source": [
        "for i in range(LAB_imgB2_06.shape[0]): \n",
        "     for j in range(LAB_imgB2_06.shape[1]): \n",
        "                if 1769<i<1881 and 2019<j<2131 :\n",
        "                 (LAB_imgB2_06[i][j])"
      ],
      "execution_count": null,
      "outputs": []
    },
    {
      "cell_type": "markdown",
      "metadata": {
        "id": "63v00LGi1Icj"
      },
      "source": [
        "B3 "
      ]
    },
    {
      "cell_type": "code",
      "metadata": {
        "id": "WYz7s47-1MzR"
      },
      "source": [
        "for i in range(LAB_imgB3_01.shape[0]): \n",
        "     for j in range(LAB_imgB3_01.shape[1]): \n",
        "                if 1769<i<1881 and 2019<j<2131 :\n",
        "                 (LAB_imgB3_01[i][j])"
      ],
      "execution_count": null,
      "outputs": []
    },
    {
      "cell_type": "code",
      "metadata": {
        "id": "8As_bcue1MrP"
      },
      "source": [
        "for i in range(LAB_imgB3_04.shape[0]): \n",
        "     for j in range(LAB_imgB3_04.shape[1]): \n",
        "                if 1769<i<1881 and 2019<j<2131 :\n",
        "                 (LAB_imgB3_04[i][j])"
      ],
      "execution_count": null,
      "outputs": []
    },
    {
      "cell_type": "code",
      "metadata": {
        "id": "QDH4UADC1MjD"
      },
      "source": [
        "for i in range(LAB_imgB3_08.shape[0]): \n",
        "     for j in range(LAB_imgB3_08.shape[1]): \n",
        "                if 1769<i<1881 and 2019<j<2131 :\n",
        "                 (LAB_imgB3_08[i][j])"
      ],
      "execution_count": null,
      "outputs": []
    },
    {
      "cell_type": "code",
      "metadata": {
        "id": "BTDsHyYP1Mbg"
      },
      "source": [
        "for i in range(LAB_imgB3_09.shape[0]): \n",
        "     for j in range(LAB_imgB3_09.shape[1]): \n",
        "                if 1769<i<1881 and 2019<j<2131 :\n",
        "                 (LAB_imgB3_09[i][j])"
      ],
      "execution_count": null,
      "outputs": []
    },
    {
      "cell_type": "markdown",
      "metadata": {
        "id": "2HAcrkm-1Jbf"
      },
      "source": [
        "B4"
      ]
    },
    {
      "cell_type": "code",
      "metadata": {
        "id": "wVTePsRn1NkQ"
      },
      "source": [
        "for i in range(LAB_imgB4_02.shape[0]): \n",
        "     for j in range(LAB_imgB4_02.shape[1]): \n",
        "                if 1769<i<1881 and 2019<j<2131 :\n",
        "                 (LAB_imgB4_02[i][j])"
      ],
      "execution_count": null,
      "outputs": []
    },
    {
      "cell_type": "code",
      "metadata": {
        "id": "U9Lh5EoT1NdU"
      },
      "source": [
        "for i in range(LAB_imgB4_10.shape[0]): \n",
        "     for j in range(LAB_imgB4_10.shape[1]): \n",
        "                if 1769<i<1881 and 2019<j<2131 :\n",
        "                 (LAB_imgB4_10[i][j])"
      ],
      "execution_count": null,
      "outputs": []
    },
    {
      "cell_type": "code",
      "metadata": {
        "id": "G8LjGsjn1NWu"
      },
      "source": [
        "for i in range(LAB_imgB4_07.shape[0]): \n",
        "     for j in range(LAB_imgB4_07.shape[1]): \n",
        "                if 1769<i<1881 and 2019<j<2131 :\n",
        "                 (LAB_imgB4_07[i][j])"
      ],
      "execution_count": null,
      "outputs": []
    },
    {
      "cell_type": "code",
      "metadata": {
        "id": "3QQyxQQ21NQ8"
      },
      "source": [
        "for i in range(LAB_imgB4_10.shape[0]): \n",
        "     for j in range(LAB_imgB4_10.shape[1]): \n",
        "                if 1769<i<1881 and 2019<j<2131 :\n",
        "                 (LAB_imgB4_10[i][j])"
      ],
      "execution_count": null,
      "outputs": []
    },
    {
      "cell_type": "markdown",
      "metadata": {
        "id": "LJ5o5oOk5bLC"
      },
      "source": [
        "C1"
      ]
    },
    {
      "cell_type": "code",
      "metadata": {
        "id": "w0ZlIxNQ1c2V"
      },
      "source": [
        "for i in range(LAB_imgC1_03.shape[0]): \n",
        "     for j in range(LAB_imgC1_03.shape[1]): \n",
        "                if 1769<i<1881 and 2019<j<2131 :\n",
        "                 (LAB_imgC1_03[i][j])"
      ],
      "execution_count": null,
      "outputs": []
    },
    {
      "cell_type": "code",
      "metadata": {
        "id": "UlDQiGQ75i8O"
      },
      "source": [
        "for i in range(LAB_imgC1_06.shape[0]): \n",
        "     for j in range(LAB_imgC1_06.shape[1]): \n",
        "                if 1769<i<1881 and 2019<j<2131 :\n",
        "                 (LAB_imgC1_06[i][j])"
      ],
      "execution_count": null,
      "outputs": []
    },
    {
      "cell_type": "code",
      "metadata": {
        "id": "gQp5kAYW5oam"
      },
      "source": [
        "for i in range(LAB_imgC1_06.shape[0]): \n",
        "     for j in range(LAB_imgC1_06.shape[1]): \n",
        "                if 1769<i<1881 and 2019<j<2131 :\n",
        "                 (LAB_imgC1_06[i][j])"
      ],
      "execution_count": null,
      "outputs": []
    },
    {
      "cell_type": "code",
      "metadata": {
        "id": "_fwoBI-O5os6"
      },
      "source": [
        "for i in range(LAB_imgC1_07.shape[0]): \n",
        "     for j in range(LAB_imgC1_07.shape[1]): \n",
        "                if 1769<i<1881 and 2019<j<2131 :\n",
        "                 (LAB_imgC1_07[i][j])"
      ],
      "execution_count": null,
      "outputs": []
    },
    {
      "cell_type": "markdown",
      "metadata": {
        "id": "veUPceOE5ydW"
      },
      "source": [
        "C2"
      ]
    },
    {
      "cell_type": "code",
      "metadata": {
        "id": "xVd7fTj057Im"
      },
      "source": [
        "for i in range(LAB_imgC2_01.shape[0]): \n",
        "     for j in range(LAB_imgC2_01.shape[1]): \n",
        "                if 1769<i<1881 and 2019<j<2131 :\n",
        "                 (LAB_imgC2_01[i][j])"
      ],
      "execution_count": null,
      "outputs": []
    },
    {
      "cell_type": "code",
      "metadata": {
        "id": "UITY-FEy578o"
      },
      "source": [
        "for i in range(LAB_imgC2_02.shape[0]): \n",
        "     for j in range(LAB_imgC2_02.shape[1]): \n",
        "                if 1769<i<1881 and 2019<j<2131 :\n",
        "                 (LAB_imgC2_02[i][j])"
      ],
      "execution_count": null,
      "outputs": []
    },
    {
      "cell_type": "code",
      "metadata": {
        "id": "TumpzuTn58YK"
      },
      "source": [
        "for i in range(LAB_imgC2_05.shape[0]): \n",
        "     for j in range(LAB_imgC2_05.shape[1]): \n",
        "                if 1769<i<1881 and 2019<j<2131 :\n",
        "                 (LAB_imgC2_05[i][j])"
      ],
      "execution_count": null,
      "outputs": []
    },
    {
      "cell_type": "code",
      "metadata": {
        "id": "7K6gK9PP58Lf"
      },
      "source": [
        "for i in range(LAB_imgC2_10.shape[0]): \n",
        "     for j in range(LAB_imgC2_10.shape[1]): \n",
        "                if 1769<i<1881 and 2019<j<2131 :\n",
        "                 (LAB_imgC2_10[i][j])"
      ],
      "execution_count": null,
      "outputs": []
    },
    {
      "cell_type": "markdown",
      "metadata": {
        "id": "mwJT5T3x50I-"
      },
      "source": [
        "C3"
      ]
    },
    {
      "cell_type": "code",
      "metadata": {
        "id": "TiQI_20558sA"
      },
      "source": [
        "for i in range(LAB_imgC3_01.shape[0]): \n",
        "     for j in range(LAB_imgC3_01.shape[1]): \n",
        "                if 1769<i<1881 and 2019<j<2131 :\n",
        "                 (LAB_imgC3_01[i][j])"
      ],
      "execution_count": null,
      "outputs": []
    },
    {
      "cell_type": "code",
      "metadata": {
        "id": "JQbGl3uN57aN"
      },
      "source": [
        "for i in range(LAB_imgC3_03.shape[0]): \n",
        "     for j in range(LAB_imgC3_03.shape[1]): \n",
        "                if 1769<i<1881 and 2019<j<2131 :\n",
        "                 (LAB_imgC3_03[i][j])"
      ],
      "execution_count": null,
      "outputs": []
    },
    {
      "cell_type": "code",
      "metadata": {
        "id": "F3E6a25Q57pr"
      },
      "source": [
        "for i in range(LAB_imgC3_06.shape[0]): \n",
        "     for j in range(LAB_imgC3_06.shape[1]): \n",
        "                if 1769<i<1881 and 2019<j<2131 :\n",
        "                 (LAB_imgC3_06[i][j])"
      ],
      "execution_count": null,
      "outputs": []
    },
    {
      "cell_type": "code",
      "metadata": {
        "id": "x8P68K6z59Fc"
      },
      "source": [
        "for i in range(LAB_imgC3_09.shape[0]): \n",
        "     for j in range(LAB_imgC3_09.shape[1]): \n",
        "                if 1769<i<1881 and 2019<j<2131 :\n",
        "                 (LAB_imgC3_09[i][j])"
      ],
      "execution_count": null,
      "outputs": []
    },
    {
      "cell_type": "markdown",
      "metadata": {
        "id": "T4X8qins59oM"
      },
      "source": [
        "C4"
      ]
    },
    {
      "cell_type": "code",
      "metadata": {
        "id": "mnz4vETI7TII"
      },
      "source": [
        "for i in range(LAB_imgC4_02.shape[0]): \n",
        "     for j in range(LAB_imgC4_02.shape[1]): \n",
        "                if 1769<i<1881 and 2019<j<2131 :\n",
        "                 (LAB_imgC4_02[i][j])"
      ],
      "execution_count": null,
      "outputs": []
    },
    {
      "cell_type": "code",
      "metadata": {
        "id": "HiU5Y2Yn7TAO"
      },
      "source": [
        "for i in range(LAB_imgC4_05.shape[0]): \n",
        "     for j in range(LAB_imgC4_05.shape[1]): \n",
        "                if 1769<i<1881 and 2019<j<2131 :\n",
        "                 (LAB_imgC4_05[i][j])"
      ],
      "execution_count": null,
      "outputs": []
    },
    {
      "cell_type": "code",
      "metadata": {
        "id": "rIdOpYAe7S5F"
      },
      "source": [
        "for i in range(LAB_imgC4_08.shape[0]): \n",
        "     for j in range(LAB_imgC4_08.shape[1]): \n",
        "                if 1769<i<1881 and 2019<j<2131 :\n",
        "                 (LAB_imgC4_08[i][j])"
      ],
      "execution_count": null,
      "outputs": []
    },
    {
      "cell_type": "code",
      "metadata": {
        "id": "v3qJ3zAv7St9"
      },
      "source": [
        "for i in range(LAB_imgC3_09.shape[0]): \n",
        "     for j in range(LAB_imgC3_09.shape[1]): \n",
        "                if 1769<i<1881 and 2019<j<2131 :\n",
        "                 (LAB_imgC3_09[i][j])"
      ],
      "execution_count": null,
      "outputs": []
    },
    {
      "cell_type": "markdown",
      "metadata": {
        "id": "kRvkJBSH6m8n"
      },
      "source": [
        "D2"
      ]
    },
    {
      "cell_type": "code",
      "metadata": {
        "id": "6ykI1MV0FheQ"
      },
      "source": [
        "for i in range(LAB_imgD2_04.shape[0]): \n",
        "     for j in range(LAB_imgD2_04.shape[1]): \n",
        "                if 1769<i<1881 and 2019<j<2131 :\n",
        "                 (LAB_imgD2_04[i][j])"
      ],
      "execution_count": null,
      "outputs": []
    },
    {
      "cell_type": "code",
      "metadata": {
        "id": "bSanI_gyFhUS"
      },
      "source": [
        "for i in range(LAB_imgD2_06.shape[0]): \n",
        "     for j in range(LAB_imgD2_06.shape[1]): \n",
        "                if 1769<i<1881 and 2019<j<2131 :\n",
        "                 (LAB_imgD2_06[i][j])"
      ],
      "execution_count": null,
      "outputs": []
    },
    {
      "cell_type": "code",
      "metadata": {
        "id": "8CQ9PBCjFhOA"
      },
      "source": [
        "for i in range(LAB_imgD2_09.shape[0]): \n",
        "     for j in range(LAB_imgD2_09.shape[1]): \n",
        "                if 1769<i<1881 and 2019<j<2131 :\n",
        "                 (LAB_imgD2_09[i][j])"
      ],
      "execution_count": null,
      "outputs": []
    },
    {
      "cell_type": "code",
      "metadata": {
        "id": "Dx_PeSbRFhF7"
      },
      "source": [
        "for i in range(LAB_imgD2_07.shape[0]): \n",
        "     for j in range(LAB_imgD2_07.shape[1]): \n",
        "                if 1769<i<1881 and 2019<j<2131 :\n",
        "                 (LAB_imgD2_07[i][j])"
      ],
      "execution_count": null,
      "outputs": []
    },
    {
      "cell_type": "markdown",
      "metadata": {
        "id": "3dcK05Xv6ptS"
      },
      "source": [
        "D3"
      ]
    },
    {
      "cell_type": "code",
      "metadata": {
        "id": "Lnhgfd7jGKsI"
      },
      "source": [
        "for i in range(LAB_imgD3_02.shape[0]): \n",
        "     for j in range(LAB_imgD3_02.shape[1]): \n",
        "                if 1769<i<1881 and 2019<j<2131 :\n",
        "                 (LAB_imgD3_02[i][j])"
      ],
      "execution_count": null,
      "outputs": []
    },
    {
      "cell_type": "code",
      "metadata": {
        "id": "6aAeBseNGMW0"
      },
      "source": [
        "for i in range(LAB_imgD3_05.shape[0]): \n",
        "     for j in range(LAB_imgD3_05.shape[1]): \n",
        "                if 1769<i<1881 and 2019<j<2131 :\n",
        "                 (LAB_imgD3_05[i][j])"
      ],
      "execution_count": null,
      "outputs": []
    },
    {
      "cell_type": "code",
      "metadata": {
        "id": "4tl0YApAGMMk"
      },
      "source": [
        "for i in range(LAB_imgD3_06.shape[0]): \n",
        "     for j in range(LAB_imgD3_06.shape[1]): \n",
        "                if 1769<i<1881 and 2019<j<2131 :\n",
        "                 (LAB_imgD3_06[i][j])"
      ],
      "execution_count": null,
      "outputs": []
    },
    {
      "cell_type": "code",
      "metadata": {
        "id": "Fs5TavqoGL8H"
      },
      "source": [
        "for i in range(LAB_imgD3_10.shape[0]): \n",
        "     for j in range(LAB_imgD3_10.shape[1]): \n",
        "                if 1769<i<1881 and 2019<j<2131 :\n",
        "                 (LAB_imgD3_10[i][j])"
      ],
      "execution_count": null,
      "outputs": []
    },
    {
      "cell_type": "markdown",
      "metadata": {
        "id": "0xpFIFxY6sWn"
      },
      "source": [
        "D4"
      ]
    },
    {
      "cell_type": "code",
      "metadata": {
        "id": "gGF-V8maGZ3z"
      },
      "source": [
        "for i in range(LAB_imgD4_01.shape[0]): \n",
        "     for j in range(LAB_imgD4_01.shape[1]): \n",
        "                if 1769<i<1881 and 2019<j<2131 :\n",
        "                 (LAB_imgD4_01[i][j])"
      ],
      "execution_count": null,
      "outputs": []
    },
    {
      "cell_type": "code",
      "metadata": {
        "id": "S3dZ2uEOGZvl"
      },
      "source": [
        "for i in range(LAB_imgD4_05.shape[0]): \n",
        "     for j in range(LAB_imgD4_05.shape[1]): \n",
        "                if 1769<i<1881 and 2019<j<2131 :\n",
        "                 (LAB_imgD4_05[i][j])"
      ],
      "execution_count": null,
      "outputs": []
    },
    {
      "cell_type": "code",
      "metadata": {
        "id": "QcmDHneXnWnq"
      },
      "source": [
        "for i in range(LAB_imgD4_07.shape[0]): \n",
        "     for j in range(LAB_imgD4_07.shape[1]): \n",
        "                if 1769<i<1881 and 2019<j<2131 :\n",
        "                 (LAB_imgD4_07[i][j])"
      ],
      "execution_count": null,
      "outputs": []
    },
    {
      "cell_type": "code",
      "metadata": {
        "id": "DH12fZbmnWWc"
      },
      "source": [
        "for i in range(LAB_imgD4_09.shape[0]): \n",
        "     for j in range(LAB_imgD4_09.shape[1]): \n",
        "                if 1769<i<1881 and 2019<j<2131 :\n",
        "                 (LAB_imgD4_09[i][j])"
      ],
      "execution_count": null,
      "outputs": []
    },
    {
      "cell_type": "markdown",
      "metadata": {
        "id": "SCtLPtPQGz-p"
      },
      "source": [
        "#6. หาค่า Mean"
      ]
    },
    {
      "cell_type": "code",
      "metadata": {
        "id": "YKFsY16kG1pe"
      },
      "source": [
        "import numpy as np"
      ],
      "execution_count": null,
      "outputs": []
    },
    {
      "cell_type": "markdown",
      "metadata": {
        "id": "s2VmXvHVHoXc"
      },
      "source": [
        "A1"
      ]
    },
    {
      "cell_type": "code",
      "metadata": {
        "id": "3AGgkqYfG25f",
        "colab": {
          "base_uri": "https://localhost:8080/"
        },
        "outputId": "35bf7105-a527-4440-9763-7886efe36992"
      },
      "source": [
        "meanA1_1 = list() \n",
        "for i in range(LAB_imgA1_01.shape[0]): #ให้ i รันตาม row หรือ shape[0] คือแถว มีทั้งหมด 4032 แถว ของภาพที่ปรับขนาดมาแล้ว\n",
        "     for j in range(LAB_imgA1_01.shape[1]): #ให้ j รันตาม colum มีทั้งหมด 3024 colum เช่น แถวที่ 1 เข้ามาให้รันครบ 3024colum\n",
        "                if 1769<i<1881 and 2019<j<2131 :\n",
        "                    meanA1_1.append(LAB_imgA1_01[i][j])\n",
        "meanA1_1 = np.array(meanA1_1)\n",
        "\n",
        "labA1_1 = list()\n",
        "for i in range(3):\n",
        "    labA1_1.append(meanA1_1[:,i].mean())\n",
        "labA1_1 "
      ],
      "execution_count": null,
      "outputs": [
        {
          "output_type": "execute_result",
          "data": {
            "text/plain": [
              "[230.28642155669183, 126.79287395503611, 131.80099017936857]"
            ]
          },
          "metadata": {},
          "execution_count": 277
        }
      ]
    },
    {
      "cell_type": "code",
      "metadata": {
        "id": "EVLQ59KPntOq",
        "colab": {
          "base_uri": "https://localhost:8080/"
        },
        "outputId": "2fd797af-12d5-441d-b9d6-f9f959f5f018"
      },
      "source": [
        "meanA1_2 = list() \n",
        "for i in range(LAB_imgA1_02.shape[0]): #ให้ i รันตาม row หรือ shape[0] คือแถว มีทั้งหมด 4032 แถว ของภาพที่ปรับขนาดมาแล้ว\n",
        "     for j in range(LAB_imgA1_02.shape[1]): #ให้ j รันตาม colum มีทั้งหมด 3024 colum เช่น แถวที่ 1 เข้ามาให้รันครบ 3024colum\n",
        "                if 1769<i<1881 and 2019<j<2131 :\n",
        "                    meanA1_2.append(LAB_imgA1_02[i][j])\n",
        "meanA1_2 = np.array(meanA1_2)\n",
        "\n",
        "labA1_2 = list()\n",
        "for i in range(3):\n",
        "    labA1_2.append(meanA1_2[:,i].mean())\n",
        "labA1_2 "
      ],
      "execution_count": null,
      "outputs": [
        {
          "output_type": "execute_result",
          "data": {
            "text/plain": [
              "[230.02621540459378, 126.71771771771772, 131.86949111273435]"
            ]
          },
          "metadata": {},
          "execution_count": 278
        }
      ]
    },
    {
      "cell_type": "code",
      "metadata": {
        "id": "EPq1aY8In-MX",
        "colab": {
          "base_uri": "https://localhost:8080/"
        },
        "outputId": "8920b929-3892-4f69-d325-8a61f6b20e15"
      },
      "source": [
        "meanA1_5 = list() \n",
        "for i in range(LAB_imgA1_05.shape[0]): #ให้ i รันตาม row หรือ shape[0] คือแถว มีทั้งหมด 4032 แถว ของภาพที่ปรับขนาดมาแล้ว\n",
        "     for j in range(LAB_imgA1_05.shape[1]): #ให้ j รันตาม colum มีทั้งหมด 3024 colum เช่น แถวที่ 1 เข้ามาให้รันครบ 3024colum\n",
        "                if 1769<i<1881 and 2019<j<2131 :\n",
        "                    meanA1_5.append(LAB_imgA1_05[i][j])\n",
        "meanA1_5 = np.array(meanA1_5)\n",
        "\n",
        "labA1_5 = list()\n",
        "for i in range(3):\n",
        "    labA1_5.append(meanA1_5[:,i].mean())\n",
        "labA1_5 "
      ],
      "execution_count": null,
      "outputs": [
        {
          "output_type": "execute_result",
          "data": {
            "text/plain": [
              "[230.14795876958038, 126.94237480723967, 131.42886129372616]"
            ]
          },
          "metadata": {},
          "execution_count": 279
        }
      ]
    },
    {
      "cell_type": "code",
      "metadata": {
        "id": "2G7HqZATo0ee",
        "colab": {
          "base_uri": "https://localhost:8080/"
        },
        "outputId": "614684ce-3727-498a-9982-53b845c4a9d2"
      },
      "source": [
        "meanA1_6 = list() \n",
        "for i in range(LAB_imgA1_06.shape[0]): #ให้ i รันตาม row หรือ shape[0] คือแถว มีทั้งหมด 4032 แถว ของภาพที่ปรับขนาดมาแล้ว\n",
        "     for j in range(LAB_imgA1_06.shape[1]): #ให้ j รันตาม colum มีทั้งหมด 3024 colum เช่น แถวที่ 1 เข้ามาให้รันครบ 3024colum\n",
        "                if 1769<i<1881 and 2019<j<2131 :\n",
        "                    meanA1_6.append(LAB_imgA1_06[i][j])\n",
        "meanA1_6 = np.array(meanA1_6)\n",
        "\n",
        "labA1_6 = list()\n",
        "for i in range(3):\n",
        "    labA1_6.append(meanA1_6[:,i].mean())\n",
        "labA1_6 "
      ],
      "execution_count": null,
      "outputs": [
        {
          "output_type": "execute_result",
          "data": {
            "text/plain": [
              "[235.13213213213214, 126.66463761058355, 132.31304277250223]"
            ]
          },
          "metadata": {},
          "execution_count": 280
        }
      ]
    },
    {
      "cell_type": "markdown",
      "metadata": {
        "id": "xSasoROaHpzm"
      },
      "source": [
        "A2"
      ]
    },
    {
      "cell_type": "code",
      "metadata": {
        "id": "A13oL-rkHqpJ",
        "colab": {
          "base_uri": "https://localhost:8080/"
        },
        "outputId": "c5cbf1bd-b161-41fd-dfee-8f8fd9c7dbae"
      },
      "source": [
        "meanA2_2 = list() \n",
        "for i in range(LAB_imgA2_02.shape[0]): \n",
        "     for j in range(LAB_imgA2_02.shape[1]): \n",
        "                if 1769<i<1881 and 2019<j<2131 :\n",
        "                    meanA2_2.append(LAB_imgA2_02[i][j])\n",
        "meanA2_2 = np.array(meanA2_2)\n",
        "\n",
        "labA2_2 = list()\n",
        "for i in range(3):\n",
        "    labA2_2.append(meanA2_2[:,i].mean())\n",
        "labA2_2"
      ],
      "execution_count": null,
      "outputs": [
        {
          "output_type": "execute_result",
          "data": {
            "text/plain": [
              "[232.75886697508318, 126.1712523334145, 135.23634445256067]"
            ]
          },
          "metadata": {},
          "execution_count": 281
        }
      ]
    },
    {
      "cell_type": "code",
      "metadata": {
        "id": "is_tzZCLIE8J",
        "colab": {
          "base_uri": "https://localhost:8080/"
        },
        "outputId": "a6b0ac0c-f1a8-4125-cb9f-c52f9b64ca13"
      },
      "source": [
        "meanA2_4 = list() \n",
        "for i in range(LAB_imgA2_04.shape[0]): \n",
        "     for j in range(LAB_imgA2_04.shape[1]): \n",
        "                if 1769<i<1881 and 2019<j<2131 :\n",
        "                    meanA2_4.append(LAB_imgA2_04[i][j])\n",
        "meanA2_4 = np.array(meanA2_4)\n",
        "\n",
        "labA2_4 = list()\n",
        "for i in range(3):\n",
        "    labA2_4.append(meanA2_4[:,i].mean())\n",
        "labA2_4"
      ],
      "execution_count": null,
      "outputs": [
        {
          "output_type": "execute_result",
          "data": {
            "text/plain": [
              "[228.86324161999838, 125.7682006330655, 135.41311581852122]"
            ]
          },
          "metadata": {},
          "execution_count": 282
        }
      ]
    },
    {
      "cell_type": "code",
      "metadata": {
        "id": "Cfq1mvqqIVGB",
        "colab": {
          "base_uri": "https://localhost:8080/"
        },
        "outputId": "8c638142-55a3-48e1-a514-63a78a9dc34e"
      },
      "source": [
        "meanA2_7 = list() \n",
        "for i in range(LAB_imgA2_07.shape[0]): \n",
        "     for j in range(LAB_imgA2_07.shape[1]): \n",
        "                if 1769<i<1881 and 2019<j<2131 :\n",
        "                    meanA2_7.append(LAB_imgA2_07[i][j])\n",
        "meanA2_7 = np.array(meanA2_7)\n",
        "\n",
        "labA2_7 = list()\n",
        "for i in range(3):\n",
        "    labA2_7.append(meanA2_7[:,i].mean())\n",
        "labA2_7"
      ],
      "execution_count": null,
      "outputs": [
        {
          "output_type": "execute_result",
          "data": {
            "text/plain": [
              "[232.836133430728, 126.13188864540216, 135.3165327489652]"
            ]
          },
          "metadata": {},
          "execution_count": 348
        }
      ]
    },
    {
      "cell_type": "code",
      "metadata": {
        "id": "V9AXiSNJIVht",
        "colab": {
          "base_uri": "https://localhost:8080/"
        },
        "outputId": "17922fd1-4fed-46fe-8493-3ff3adc2542c"
      },
      "source": [
        "meanA2_8 = list() \n",
        "for i in range(LAB_imgA2_08.shape[0]): \n",
        "     for j in range(LAB_imgA2_08.shape[1]): \n",
        "                if 1769<i<1881 and 2019<j<2131 :\n",
        "                    meanA2_8.append(LAB_imgA2_08[i][j])\n",
        "meanA2_8 = np.array(meanA2_8)\n",
        "\n",
        "labA2_8 = list()\n",
        "for i in range(3):\n",
        "    labA2_8.append(meanA2_8[:,i].mean())\n",
        "labA2_8"
      ],
      "execution_count": null,
      "outputs": [
        {
          "output_type": "execute_result",
          "data": {
            "text/plain": [
              "[232.2783864946027, 126.1569677785894, 135.20728836945054]"
            ]
          },
          "metadata": {},
          "execution_count": 284
        }
      ]
    },
    {
      "cell_type": "markdown",
      "metadata": {
        "id": "wy0J3KoCIte6"
      },
      "source": [
        "A3"
      ]
    },
    {
      "cell_type": "code",
      "metadata": {
        "id": "CbtyolvQIxRF",
        "colab": {
          "base_uri": "https://localhost:8080/"
        },
        "outputId": "dcabc4a8-e82a-48a1-9861-b5e2d673cc3b"
      },
      "source": [
        "meanA3_3 = list() \n",
        "for i in range(LAB_imgA3_03.shape[0]): \n",
        "     for j in range(LAB_imgA3_03.shape[1]): \n",
        "                if 1769<i<1881 and 2019<j<2131 :\n",
        "                    meanA3_3.append(LAB_imgA3_03[i][j])\n",
        "meanA3_3 = np.array(meanA3_3)\n",
        "\n",
        "labA3_3 = list()\n",
        "for i in range(3):\n",
        "    labA3_3.append(meanA3_3[:,i].mean())\n",
        "labA3_3"
      ],
      "execution_count": null,
      "outputs": [
        {
          "output_type": "execute_result",
          "data": {
            "text/plain": [
              "[232.9368557746936, 124.24064605145686, 143.7266455644834]"
            ]
          },
          "metadata": {},
          "execution_count": 285
        }
      ]
    },
    {
      "cell_type": "code",
      "metadata": {
        "id": "7mYWr28NI6fk",
        "colab": {
          "base_uri": "https://localhost:8080/"
        },
        "outputId": "619764bc-3748-4b69-ac4a-21fdf73c6931"
      },
      "source": [
        "meanA3_7 = list() \n",
        "for i in range(LAB_imgA3_07.shape[0]): \n",
        "     for j in range(LAB_imgA3_07.shape[1]): \n",
        "                if 1769<i<1881 and 2019<j<2131 :\n",
        "                    meanA3_7.append(LAB_imgA3_07[i][j])\n",
        "meanA3_7 = np.array(meanA3_7)\n",
        "\n",
        "labA3_7 = list()\n",
        "for i in range(3):\n",
        "    labA3_7.append(meanA3_7[:,i].mean())\n",
        "labA3_7"
      ],
      "execution_count": null,
      "outputs": [
        {
          "output_type": "execute_result",
          "data": {
            "text/plain": [
              "[232.1891891891892, 124.35200064929795, 143.6794903011119]"
            ]
          },
          "metadata": {},
          "execution_count": 286
        }
      ]
    },
    {
      "cell_type": "code",
      "metadata": {
        "id": "X_oamCB9JCat",
        "colab": {
          "base_uri": "https://localhost:8080/"
        },
        "outputId": "7e690780-2adb-480c-9ecf-8278fd7b943c"
      },
      "source": [
        "meanA3_8 = list() \n",
        "for i in range(LAB_imgA3_08.shape[0]): \n",
        "     for j in range(LAB_imgA3_08.shape[1]): \n",
        "                if 1769<i<1881 and 2019<j<2131 :\n",
        "                    meanA3_8.append(LAB_imgA3_08[i][j])\n",
        "meanA3_8 = np.array(meanA3_8)\n",
        "\n",
        "labA3_8 = list()\n",
        "for i in range(3):\n",
        "    labA3_8.append(meanA3_8[:,i].mean())\n",
        "labA3_8"
      ],
      "execution_count": null,
      "outputs": [
        {
          "output_type": "execute_result",
          "data": {
            "text/plain": [
              "[232.59775992208424, 124.16906095284473, 143.9095852609366]"
            ]
          },
          "metadata": {},
          "execution_count": 287
        }
      ]
    },
    {
      "cell_type": "code",
      "metadata": {
        "id": "6d9vw9fuJMQx",
        "colab": {
          "base_uri": "https://localhost:8080/"
        },
        "outputId": "76b03cc4-bedf-47b1-9393-1dbc0fd85433"
      },
      "source": [
        "meanA3_10 = list() \n",
        "for i in range(LAB_imgA3_10.shape[0]): \n",
        "     for j in range(LAB_imgA3_10.shape[1]): \n",
        "                if 1769<i<1881 and 2019<j<2131 :\n",
        "                    meanA3_10.append(LAB_imgA3_10[i][j])\n",
        "meanA3_10 = np.array(meanA3_10)\n",
        "\n",
        "labA3_10 = list()\n",
        "for i in range(3):\n",
        "    labA3_10.append(meanA3_10[:,i].mean())\n",
        "labA3_10"
      ],
      "execution_count": null,
      "outputs": [
        {
          "output_type": "execute_result",
          "data": {
            "text/plain": [
              "[232.06338771203636, 124.61082704325948, 142.96290885480076]"
            ]
          },
          "metadata": {},
          "execution_count": 288
        }
      ]
    },
    {
      "cell_type": "markdown",
      "metadata": {
        "id": "dsrU_P7rJaQO"
      },
      "source": [
        "A3.5"
      ]
    },
    {
      "cell_type": "code",
      "metadata": {
        "id": "vvJRofAgJZ8F",
        "colab": {
          "base_uri": "https://localhost:8080/"
        },
        "outputId": "bc4f805d-f796-4773-fb26-800790e45957"
      },
      "source": [
        "meanA3_501 = list() \n",
        "for i in range(LAB_imgA3_501.shape[0]): \n",
        "     for j in range(LAB_imgA3_501.shape[1]): \n",
        "                if 1769<i<1881 and 2019<j<2131 :\n",
        "                    meanA3_501.append(LAB_imgA3_501[i][j])\n",
        "meanA3_501 = np.array(meanA3_501)\n",
        "\n",
        "labA3_501 = list()\n",
        "for i in range(3):\n",
        "    labA3_501.append(meanA3_501[:,i].mean())\n",
        "labA3_501"
      ],
      "execution_count": null,
      "outputs": [
        {
          "output_type": "execute_result",
          "data": {
            "text/plain": [
              "[224.83313042772502, 123.16581446311176, 149.6408570732895]"
            ]
          },
          "metadata": {},
          "execution_count": 289
        }
      ]
    },
    {
      "cell_type": "code",
      "metadata": {
        "id": "6GNLN8lUJUTy",
        "colab": {
          "base_uri": "https://localhost:8080/"
        },
        "outputId": "23b646ed-84c2-41fb-ab12-2902caac159a"
      },
      "source": [
        "meanA3_505 = list() \n",
        "for i in range(LAB_imgA3_505.shape[0]): \n",
        "     for j in range(LAB_imgA3_505.shape[1]): \n",
        "                if 1769<i<1881 and 2019<j<2131 :\n",
        "                    meanA3_505.append(LAB_imgA3_505[i][j])\n",
        "meanA3_505 = np.array(meanA3_505)\n",
        "\n",
        "labA3_505 = list()\n",
        "for i in range(3):\n",
        "    labA3_505.append(meanA3_505[:,i].mean())\n",
        "labA3_505"
      ],
      "execution_count": null,
      "outputs": [
        {
          "output_type": "execute_result",
          "data": {
            "text/plain": [
              "[229.95154614073533, 122.66585504423342, 150.3501339177015]"
            ]
          },
          "metadata": {},
          "execution_count": 290
        }
      ]
    },
    {
      "cell_type": "code",
      "metadata": {
        "id": "M3RMSpgKJt0o",
        "colab": {
          "base_uri": "https://localhost:8080/"
        },
        "outputId": "cf9a6602-0b0d-41b1-a2ca-7391e0550e22"
      },
      "source": [
        "meanA3_507 = list() \n",
        "for i in range(LAB_imgA3_507.shape[0]): \n",
        "     for j in range(LAB_imgA3_507.shape[1]): \n",
        "                if 1769<i<1881 and 2019<j<2131 :\n",
        "                    meanA3_507.append(LAB_imgA3_507[i][j])\n",
        "meanA3_507 = np.array(meanA3_507)\n",
        "\n",
        "labA3_507 = list()\n",
        "for i in range(3):\n",
        "    labA3_507.append(meanA3_507[:,i].mean())\n",
        "labA3_507"
      ],
      "execution_count": null,
      "outputs": [
        {
          "output_type": "execute_result",
          "data": {
            "text/plain": [
              "[229.7828098368639, 122.86372859345832, 150.29754078402726]"
            ]
          },
          "metadata": {},
          "execution_count": 291
        }
      ]
    },
    {
      "cell_type": "code",
      "metadata": {
        "id": "70rg8s3CJ10m",
        "colab": {
          "base_uri": "https://localhost:8080/"
        },
        "outputId": "1b4f3772-5073-4566-a018-8045b16d6662"
      },
      "source": [
        "meanA3_510 = list() \n",
        "for i in range(LAB_imgA3_510.shape[0]): \n",
        "     for j in range(LAB_imgA3_510.shape[1]): \n",
        "                if 1769<i<1881 and 2019<j<2131 :\n",
        "                    meanA3_510.append(LAB_imgA3_510[i][j])\n",
        "meanA3_510 = np.array(meanA3_510)\n",
        "\n",
        "labA3_510 = list()\n",
        "for i in range(3):\n",
        "    labA3_510.append(meanA3_510[:,i].mean())\n",
        "labA3_510"
      ],
      "execution_count": null,
      "outputs": [
        {
          "output_type": "execute_result",
          "data": {
            "text/plain": [
              "[229.39103968833697, 122.50190731271812, 150.64361658956253]"
            ]
          },
          "metadata": {},
          "execution_count": 292
        }
      ]
    },
    {
      "cell_type": "markdown",
      "metadata": {
        "id": "K0Zmn5LbKE-Y"
      },
      "source": [
        "A4"
      ]
    },
    {
      "cell_type": "code",
      "metadata": {
        "id": "pr0j_XxrKKp7",
        "colab": {
          "base_uri": "https://localhost:8080/"
        },
        "outputId": "f048b7ba-6829-4d22-cb22-99ed95cf2479"
      },
      "source": [
        "meanA4_1 = list() \n",
        "for i in range(LAB_imgA4_01.shape[0]): \n",
        "     for j in range(LAB_imgA4_01.shape[1]): \n",
        "                if 1769<i<1881 and 2019<j<2131 :\n",
        "                    meanA4_1.append(LAB_imgA4_01[i][j])\n",
        "meanA4_1 = np.array(meanA4_1)\n",
        "\n",
        "labA4_1 = list()\n",
        "for i in range(3):\n",
        "    labA4_1.append(meanA4_1[:,i].mean())\n",
        "labA4_1"
      ],
      "execution_count": null,
      "outputs": [
        {
          "output_type": "execute_result",
          "data": {
            "text/plain": [
              "[220.89976462949437, 122.8084571057544, 151.43981819657495]"
            ]
          },
          "metadata": {},
          "execution_count": 293
        }
      ]
    },
    {
      "cell_type": "code",
      "metadata": {
        "id": "jGCKxVG5aiCX",
        "colab": {
          "base_uri": "https://localhost:8080/"
        },
        "outputId": "fe8aa94f-d4c2-472c-f147-42eba401d127"
      },
      "source": [
        "meanA4_4 = list() \n",
        "for i in range(LAB_imgA4_04.shape[0]): \n",
        "     for j in range(LAB_imgA4_04.shape[1]): \n",
        "                if 1769<i<1881 and 2019<j<2131 :\n",
        "                    meanA4_4.append(LAB_imgA4_04[i][j])\n",
        "meanA4_4 = np.array(meanA4_4)\n",
        "\n",
        "labA4_4 = list()\n",
        "for i in range(3):\n",
        "    labA4_4.append(meanA4_4[:,i].mean())\n",
        "labA4_4"
      ],
      "execution_count": null,
      "outputs": [
        {
          "output_type": "execute_result",
          "data": {
            "text/plain": [
              "[221.3501339177015, 122.52552552552552, 151.736547358169]"
            ]
          },
          "metadata": {},
          "execution_count": 294
        }
      ]
    },
    {
      "cell_type": "code",
      "metadata": {
        "id": "aqwHZK5dKkkG",
        "colab": {
          "base_uri": "https://localhost:8080/"
        },
        "outputId": "706fd0ed-eb41-4810-c445-edcaeb2d1488"
      },
      "source": [
        "meanA4_5 = list() \n",
        "for i in range(LAB_imgA4_05.shape[0]): \n",
        "     for j in range(LAB_imgA4_05.shape[1]): \n",
        "                if 1769<i<1881 and 2019<j<2131 :\n",
        "                    meanA4_5.append(LAB_imgA4_05[i][j])\n",
        "meanA4_5 = np.array(meanA4_5)\n",
        "\n",
        "labA4_5 = list()\n",
        "for i in range(3):\n",
        "    labA4_5.append(meanA4_5[:,i].mean())\n",
        "labA4_5"
      ],
      "execution_count": null,
      "outputs": [
        {
          "output_type": "execute_result",
          "data": {
            "text/plain": [
              "[220.84562941319697, 122.22003084165246, 151.84075967859752]"
            ]
          },
          "metadata": {},
          "execution_count": 295
        }
      ]
    },
    {
      "cell_type": "code",
      "metadata": {
        "id": "Zw_N6Vx2KymX",
        "colab": {
          "base_uri": "https://localhost:8080/"
        },
        "outputId": "8cab1b84-845a-4c85-c53d-1fb5f10b25d6"
      },
      "source": [
        "meanA4_9 = list() \n",
        "for i in range(LAB_imgA4_09.shape[0]): \n",
        "     for j in range(LAB_imgA4_09.shape[1]): \n",
        "                if 1769<i<1881 and 2019<j<2131 :\n",
        "                    meanA4_9.append(LAB_imgA4_09[i][j])\n",
        "meanA4_9 = np.array(meanA4_9)\n",
        "\n",
        "labA4_9 = list()\n",
        "for i in range(3):\n",
        "    labA4_9.append(meanA4_9[:,i].mean())\n",
        "labA4_9"
      ],
      "execution_count": null,
      "outputs": [
        {
          "output_type": "execute_result",
          "data": {
            "text/plain": [
              "[220.9099099099099, 121.67859751643536, 152.2734355977599]"
            ]
          },
          "metadata": {},
          "execution_count": 296
        }
      ]
    },
    {
      "cell_type": "markdown",
      "metadata": {
        "id": "OAQtt2AILBUb"
      },
      "source": [
        "B1"
      ]
    },
    {
      "cell_type": "code",
      "metadata": {
        "id": "3ufaRQmxK8pb",
        "colab": {
          "base_uri": "https://localhost:8080/"
        },
        "outputId": "0799c704-8863-4de2-c3d3-796e7be29679"
      },
      "source": [
        "meanB1_2 = list() \n",
        "for i in range(LAB_imgB1_02.shape[0]): \n",
        "     for j in range(LAB_imgB1_02.shape[1]): \n",
        "                if 1769<i<1881 and 2019<j<2131 :\n",
        "                    meanB1_2.append(LAB_imgB1_02[i][j])\n",
        "meanB1_2 = np.array(meanB1_2)\n",
        "\n",
        "labB1_2 = list()\n",
        "for i in range(3):\n",
        "    labB1_2.append(meanB1_2[:,i].mean())\n",
        "labB1_2"
      ],
      "execution_count": null,
      "outputs": [
        {
          "output_type": "execute_result",
          "data": {
            "text/plain": [
              "[231.71073776479182, 126.19698076454833, 131.74539404269134]"
            ]
          },
          "metadata": {},
          "execution_count": 298
        }
      ]
    },
    {
      "cell_type": "code",
      "metadata": {
        "id": "JtPJSupiMziF",
        "colab": {
          "base_uri": "https://localhost:8080/"
        },
        "outputId": "f28e789f-bbef-49b7-cf49-007094ce7d12"
      },
      "source": [
        "meanB1_3 = list() \n",
        "for i in range(LAB_imgB1_03.shape[0]): \n",
        "     for j in range(LAB_imgB1_03.shape[1]): \n",
        "                if 1769<i<1881 and 2019<j<2131 :\n",
        "                    meanB1_3.append(LAB_imgB1_03[i][j])\n",
        "meanB1_3 = np.array(meanB1_3)\n",
        "\n",
        "labB1_3 = list()\n",
        "for i in range(3):\n",
        "    labB1_3.append(meanB1_3[:,i].mean())\n",
        "labB1_3"
      ],
      "execution_count": null,
      "outputs": [
        {
          "output_type": "execute_result",
          "data": {
            "text/plain": [
              "[231.73119065010957, 126.1632984335687, 131.80228877526176]"
            ]
          },
          "metadata": {},
          "execution_count": 300
        }
      ]
    },
    {
      "cell_type": "code",
      "metadata": {
        "id": "_SALE1tKNOpm",
        "colab": {
          "base_uri": "https://localhost:8080/"
        },
        "outputId": "6380bf96-78c5-4441-a51d-83ce9f271219"
      },
      "source": [
        "meanB1_7 = list() \n",
        "for i in range(LAB_imgB1_07.shape[0]): \n",
        "     for j in range(LAB_imgB1_07.shape[1]): \n",
        "                if 1769<i<1881 and 2019<j<2131 :\n",
        "                    meanB1_7.append(LAB_imgB1_07[i][j])\n",
        "meanB1_7 = np.array(meanB1_7)\n",
        "\n",
        "labB1_7 = list()\n",
        "for i in range(3):\n",
        "    labB1_7.append(meanB1_7[:,i].mean())\n",
        "labB1_7 "
      ],
      "execution_count": null,
      "outputs": [
        {
          "output_type": "execute_result",
          "data": {
            "text/plain": [
              "[235.21572924275628, 123.77826475123773, 133.70627384140897]"
            ]
          },
          "metadata": {},
          "execution_count": 301
        }
      ]
    },
    {
      "cell_type": "code",
      "metadata": {
        "id": "vR6O_RooNDiy",
        "colab": {
          "base_uri": "https://localhost:8080/"
        },
        "outputId": "9f0f3283-1b58-4c87-d2b2-7cdcfe8b7561"
      },
      "source": [
        "meanB1_5 = list() \n",
        "for i in range(LAB_imgB1_05.shape[0]): \n",
        "     for j in range(LAB_imgB1_05.shape[1]): \n",
        "                if 1769<i<1881 and 2019<j<2131 :\n",
        "                    meanB1_5.append(LAB_imgB1_05[i][j])\n",
        "meanB1_5 = np.array(meanB1_5)\n",
        "\n",
        "labB1_5 = list()\n",
        "for i in range(3):\n",
        "    labB1_5.append(meanB1_5[:,i].mean())\n",
        "labB1_5"
      ],
      "execution_count": null,
      "outputs": [
        {
          "output_type": "execute_result",
          "data": {
            "text/plain": [
              "[230.24454183913645, 123.5164353542732, 133.73119065010957]"
            ]
          },
          "metadata": {},
          "execution_count": 302
        }
      ]
    },
    {
      "cell_type": "markdown",
      "metadata": {
        "id": "9VIiGheNOIj8"
      },
      "source": [
        "B2"
      ]
    },
    {
      "cell_type": "code",
      "metadata": {
        "id": "N2MDc6V8OKqr",
        "colab": {
          "base_uri": "https://localhost:8080/"
        },
        "outputId": "7b881bf2-4f99-41de-9a07-88d295a91a25"
      },
      "source": [
        "meanB2_1 = list() \n",
        "for i in range(LAB_imgB2_01.shape[0]): \n",
        "     for j in range(LAB_imgB2_01.shape[1]): \n",
        "                if 1769<i<1881 and 2019<j<2131 :\n",
        "                    meanB2_1.append(LAB_imgB2_01[i][j])\n",
        "meanB2_1 = np.array(meanB2_1)\n",
        "\n",
        "labB2_1 = list()\n",
        "for i in range(3):\n",
        "    labB2_1.append(meanB2_1[:,i].mean())\n",
        "labB2_1"
      ],
      "execution_count": null,
      "outputs": [
        {
          "output_type": "execute_result",
          "data": {
            "text/plain": [
              "[234.21499878256634, 125.4639233828423, 134.59045532018504]"
            ]
          },
          "metadata": {},
          "execution_count": 303
        }
      ]
    },
    {
      "cell_type": "code",
      "metadata": {
        "id": "5blnCh0NONhc",
        "colab": {
          "base_uri": "https://localhost:8080/"
        },
        "outputId": "6602871b-9d56-4290-be32-c81939bccd52"
      },
      "source": [
        "meanB2_6 = list() \n",
        "for i in range(LAB_imgB2_06.shape[0]): \n",
        "     for j in range(LAB_imgB2_06.shape[1]): \n",
        "                if 1769<i<1881 and 2019<j<2131 :\n",
        "                    meanB2_6.append(LAB_imgB2_06[i][j])\n",
        "meanB2_6 = np.array(meanB2_6)\n",
        "\n",
        "labB2_6 = list()\n",
        "for i in range(3):\n",
        "    labB2_6.append(meanB2_6[:,i].mean())\n",
        "labB2_6"
      ],
      "execution_count": null,
      "outputs": [
        {
          "output_type": "execute_result",
          "data": {
            "text/plain": [
              "[228.74880285691097, 125.84351919487055, 134.23731839948056]"
            ]
          },
          "metadata": {},
          "execution_count": 304
        }
      ]
    },
    {
      "cell_type": "code",
      "metadata": {
        "id": "PtXEtBaBONXt",
        "colab": {
          "base_uri": "https://localhost:8080/"
        },
        "outputId": "26fac90e-1759-4eca-d981-0c7bfb8f9853"
      },
      "source": [
        "meanB2_3 = list() \n",
        "for i in range(LAB_imgB2_03.shape[0]): \n",
        "     for j in range(LAB_imgB2_03.shape[1]): \n",
        "                if 1769<i<1881 and 2019<j<2131 :\n",
        "                    meanB2_3.append(LAB_imgB2_03[i][j])\n",
        "meanB2_3 = np.array(meanB2_3)\n",
        "\n",
        "labB2_3 = list()\n",
        "for i in range(3):\n",
        "    labB2_3.append(meanB2_3[:,i].mean())\n",
        "labB2_3"
      ],
      "execution_count": null,
      "outputs": [
        {
          "output_type": "execute_result",
          "data": {
            "text/plain": [
              "[234.03067932797663, 125.28195763330899, 134.74612450288126]"
            ]
          },
          "metadata": {},
          "execution_count": 305
        }
      ]
    },
    {
      "cell_type": "code",
      "metadata": {
        "id": "lkYUVq43OM9Q",
        "colab": {
          "base_uri": "https://localhost:8080/"
        },
        "outputId": "3a34750c-ec5a-40b5-d5eb-dad87bd8ca4c"
      },
      "source": [
        "meanB2_4 = list() \n",
        "for i in range(LAB_imgB2_04.shape[0]): \n",
        "     for j in range(LAB_imgB2_04.shape[1]): \n",
        "                if 1769<i<1881 and 2019<j<2131 :\n",
        "                    meanB2_4.append(LAB_imgB2_04[i][j])\n",
        "meanB2_4 = np.array(meanB2_4)\n",
        "\n",
        "labB2_4 = list()\n",
        "for i in range(3):\n",
        "    labB2_4.append(meanB2_4[:,i].mean())\n",
        "labB2_4"
      ],
      "execution_count": null,
      "outputs": [
        {
          "output_type": "execute_result",
          "data": {
            "text/plain": [
              "[233.6807077347618, 125.50572193815437, 134.62592322051782]"
            ]
          },
          "metadata": {},
          "execution_count": 306
        }
      ]
    },
    {
      "cell_type": "markdown",
      "metadata": {
        "id": "sDpqJ0vsO4pf"
      },
      "source": [
        "B3"
      ]
    },
    {
      "cell_type": "code",
      "metadata": {
        "id": "12x1GgEbO6gG",
        "colab": {
          "base_uri": "https://localhost:8080/"
        },
        "outputId": "b7afa12b-b883-4152-a5f4-359319ae95fc"
      },
      "source": [
        "meanB3_1 = list() \n",
        "for i in range(LAB_imgB3_01.shape[0]): \n",
        "     for j in range(LAB_imgB3_01.shape[1]): \n",
        "                if 1769<i<1881 and 2019<j<2131 :\n",
        "                    meanB3_1.append(LAB_imgB3_01[i][j])\n",
        "meanB3_1 = np.array(meanB3_1)\n",
        "\n",
        "labB3_1 = list()\n",
        "for i in range(3):\n",
        "    labB3_1.append(meanB3_1[:,i].mean())\n",
        "labB3_1"
      ],
      "execution_count": null,
      "outputs": [
        {
          "output_type": "execute_result",
          "data": {
            "text/plain": [
              "[232.35646457268078, 125.17823228634039, 141.22822822822823]"
            ]
          },
          "metadata": {},
          "execution_count": 307
        }
      ]
    },
    {
      "cell_type": "code",
      "metadata": {
        "id": "Q4ARs8laRJON",
        "colab": {
          "base_uri": "https://localhost:8080/"
        },
        "outputId": "82804b12-a20e-4e93-fba4-3e444f8a49c4"
      },
      "source": [
        "meanB3_4 = list() \n",
        "for i in range(LAB_imgB3_04.shape[0]): \n",
        "     for j in range(LAB_imgB3_04.shape[1]): \n",
        "                if 1769<i<1881 and 2019<j<2131 :\n",
        "                    meanB3_4.append(LAB_imgB3_04[i][j])\n",
        "meanB3_4 = np.array(meanB3_4)\n",
        "\n",
        "labB3_4 = list()\n",
        "for i in range(3):\n",
        "    labB3_4.append(meanB3_4[:,i].mean())\n",
        "labB3_4"
      ],
      "execution_count": null,
      "outputs": [
        {
          "output_type": "execute_result",
          "data": {
            "text/plain": [
              "[232.4482590698807, 125.29413196980765, 140.36855774693612]"
            ]
          },
          "metadata": {},
          "execution_count": 308
        }
      ]
    },
    {
      "cell_type": "code",
      "metadata": {
        "id": "cO0CReiARJrJ",
        "colab": {
          "base_uri": "https://localhost:8080/"
        },
        "outputId": "8f94b195-c759-4660-a31b-0abbb337ee8c"
      },
      "source": [
        "meanB3_8 = list() \n",
        "for i in range(LAB_imgB3_08.shape[0]): \n",
        "     for j in range(LAB_imgB3_08.shape[1]): \n",
        "                if 1769<i<1881 and 2019<j<2131 :\n",
        "                    meanB3_8.append(LAB_imgB3_08[i][j])\n",
        "meanB3_8 = np.array(meanB3_8)\n",
        "\n",
        "labB3_8 = list()\n",
        "for i in range(3):\n",
        "    labB3_8.append(meanB3_8[:,i].mean())\n",
        "labB3_8"
      ],
      "execution_count": null,
      "outputs": [
        {
          "output_type": "execute_result",
          "data": {
            "text/plain": [
              "[232.3597922246571, 125.4496388280172, 139.95771447122797]"
            ]
          },
          "metadata": {},
          "execution_count": 309
        }
      ]
    },
    {
      "cell_type": "code",
      "metadata": {
        "id": "_MU7U9bZRKCN",
        "colab": {
          "base_uri": "https://localhost:8080/"
        },
        "outputId": "76089fe7-a498-4932-f261-2fa66ccd9b16"
      },
      "source": [
        "meanB3_9 = list() \n",
        "for i in range(LAB_imgB3_09.shape[0]): \n",
        "     for j in range(LAB_imgB3_09.shape[1]): \n",
        "                if 1769<i<1881 and 2019<j<2131 :\n",
        "                    meanB3_9.append(LAB_imgB3_09[i][j])\n",
        "meanB3_9 = np.array(meanB3_9)\n",
        "\n",
        "labB3_9 = list()\n",
        "for i in range(3):\n",
        "    labB3_9.append(meanB3_9[:,i].mean())\n",
        "labB3_9"
      ],
      "execution_count": null,
      "outputs": [
        {
          "output_type": "execute_result",
          "data": {
            "text/plain": [
              "[232.30939047155263, 125.36660985309634, 140.0155831507183]"
            ]
          },
          "metadata": {},
          "execution_count": 312
        }
      ]
    },
    {
      "cell_type": "markdown",
      "metadata": {
        "id": "6K_S-0DGRYPG"
      },
      "source": [
        "B4"
      ]
    },
    {
      "cell_type": "code",
      "metadata": {
        "id": "KQE8feTgRoWm",
        "colab": {
          "base_uri": "https://localhost:8080/"
        },
        "outputId": "8b901d91-0782-43cf-99c7-afe41f3a269b"
      },
      "source": [
        "meanB4_2 = list() \n",
        "for i in range(LAB_imgB4_02.shape[0]): \n",
        "     for j in range(LAB_imgB4_02.shape[1]): \n",
        "                if 1769<i<1881 and 2019<j<2131 :\n",
        "                    meanB4_2.append(LAB_imgB4_02[i][j])\n",
        "meanB4_2 = np.array(meanB4_2)\n",
        "\n",
        "labB4_2 = list()\n",
        "for i in range(3):\n",
        "    labB4_2.append(meanB4_2[:,i].mean())\n",
        "labB4_2"
      ],
      "execution_count": null,
      "outputs": [
        {
          "output_type": "execute_result",
          "data": {
            "text/plain": [
              "[227.03449395341286, 123.47950653356058, 146.23058193328464]"
            ]
          },
          "metadata": {},
          "execution_count": 313
        }
      ]
    },
    {
      "cell_type": "code",
      "metadata": {
        "id": "2Otz1VLHRZHL",
        "colab": {
          "base_uri": "https://localhost:8080/"
        },
        "outputId": "a88d5390-d9f7-4c71-8093-315c555eac43"
      },
      "source": [
        "meanB4_3 = list() \n",
        "for i in range(LAB_imgB4_03.shape[0]): \n",
        "     for j in range(LAB_imgB4_03.shape[1]): \n",
        "                if 1769<i<1881 and 2019<j<2131 :\n",
        "                    meanB4_3.append(LAB_imgB4_03[i][j])\n",
        "meanB4_3 = np.array(meanB4_3)\n",
        "\n",
        "labB4_3 = list()\n",
        "for i in range(3):\n",
        "    labB4_3.append(meanB4_3[:,i].mean())\n",
        "labB4_3"
      ],
      "execution_count": null,
      "outputs": [
        {
          "output_type": "execute_result",
          "data": {
            "text/plain": [
              "[231.43478613748883, 124.1373265157049, 144.83751318886453]"
            ]
          },
          "metadata": {},
          "execution_count": 314
        }
      ]
    },
    {
      "cell_type": "code",
      "metadata": {
        "id": "OPT8bQl1Rz9O",
        "colab": {
          "base_uri": "https://localhost:8080/"
        },
        "outputId": "043eb7eb-cf5e-4982-cdb0-5443f63c926d"
      },
      "source": [
        "meanB4_7 = list() \n",
        "for i in range(LAB_imgB4_07.shape[0]): \n",
        "     for j in range(LAB_imgB4_07.shape[1]): \n",
        "                if 1769<i<1881 and 2019<j<2131 :\n",
        "                    meanB4_7.append(LAB_imgB4_07[i][j])\n",
        "meanB4_7 = np.array(meanB4_7)\n",
        "\n",
        "labB4_7 = list()\n",
        "for i in range(3):\n",
        "    labB4_7.append(meanB4_7[:,i].mean())\n",
        "labB4_7"
      ],
      "execution_count": null,
      "outputs": [
        {
          "output_type": "execute_result",
          "data": {
            "text/plain": [
              "[231.13156399642887, 124.23650677704732, 144.42829315802288]"
            ]
          },
          "metadata": {},
          "execution_count": 316
        }
      ]
    },
    {
      "cell_type": "code",
      "metadata": {
        "id": "jX-vx3sJRu0p",
        "colab": {
          "base_uri": "https://localhost:8080/"
        },
        "outputId": "7bbe0494-8273-41d4-bca9-90421b18bc39"
      },
      "source": [
        "meanB4_10 = list() \n",
        "for i in range(LAB_imgB4_10.shape[0]): \n",
        "     for j in range(LAB_imgB4_10.shape[1]): \n",
        "                if 1769<i<1881 and 2019<j<2131 :\n",
        "                    meanB4_10.append(LAB_imgB4_10[i][j])\n",
        "meanB4_10 = np.array(meanB4_10)\n",
        "\n",
        "labB4_10 = list()\n",
        "for i in range(3):\n",
        "    labB4_10.append(meanB4_10[:,i].mean())\n",
        "labB4_10"
      ],
      "execution_count": null,
      "outputs": [
        {
          "output_type": "execute_result",
          "data": {
            "text/plain": [
              "[225.31214998782568, 123.59808457105754, 145.58209560912263]"
            ]
          },
          "metadata": {},
          "execution_count": 317
        }
      ]
    },
    {
      "cell_type": "markdown",
      "metadata": {
        "id": "0q2eJezyR6sL"
      },
      "source": [
        "C1"
      ]
    },
    {
      "cell_type": "code",
      "metadata": {
        "id": "ya636PpxR-HY",
        "colab": {
          "base_uri": "https://localhost:8080/"
        },
        "outputId": "4e8500da-3627-4fb5-8c0e-96cf61e4d721"
      },
      "source": [
        "meanC1_3 = list() \n",
        "for i in range(LAB_imgC1_03.shape[0]): \n",
        "     for j in range(LAB_imgC1_03.shape[1]): \n",
        "                if 1769<i<1881 and 2019<j<2131 :\n",
        "                    meanC1_3.append(LAB_imgC1_03[i][j])\n",
        "meanC1_3 = np.array(meanC1_3)\n",
        "\n",
        "labC1_3 = list()\n",
        "for i in range(3):\n",
        "    labC1_3.append(meanC1_3[:,i].mean())\n",
        "labC1_3"
      ],
      "execution_count": null,
      "outputs": [
        {
          "output_type": "execute_result",
          "data": {
            "text/plain": [
              "[236.07661715769825, 126.02418634851067, 133.74344614885155]"
            ]
          },
          "metadata": {},
          "execution_count": 318
        }
      ]
    },
    {
      "cell_type": "code",
      "metadata": {
        "id": "SxhlA1QRR-dY",
        "colab": {
          "base_uri": "https://localhost:8080/"
        },
        "outputId": "de038566-26d2-49eb-ea95-676fcf5fffba"
      },
      "source": [
        "meanC1_6 = list() \n",
        "for i in range(LAB_imgC1_06.shape[0]): \n",
        "     for j in range(LAB_imgC1_06.shape[1]): \n",
        "                if 1769<i<1881 and 2019<j<2131 :\n",
        "                    meanC1_6.append(LAB_imgC1_06[i][j])\n",
        "meanC1_6 = np.array(meanC1_6)\n",
        "\n",
        "labC1_6 = list()\n",
        "for i in range(3):\n",
        "    labC1_6.append(meanC1_6[:,i].mean())\n",
        "labC1_6"
      ],
      "execution_count": null,
      "outputs": [
        {
          "output_type": "execute_result",
          "data": {
            "text/plain": [
              "[230.88978167356547, 125.89903416930444, 133.49703757811866]"
            ]
          },
          "metadata": {},
          "execution_count": 319
        }
      ]
    },
    {
      "cell_type": "code",
      "metadata": {
        "id": "LZSCuqVaSwok",
        "colab": {
          "base_uri": "https://localhost:8080/"
        },
        "outputId": "923f7187-d283-4b3f-c761-dd4f1741e68f"
      },
      "source": [
        "meanC1_7 = list() \n",
        "for i in range(LAB_imgC1_07.shape[0]): \n",
        "     for j in range(LAB_imgC1_07.shape[1]): \n",
        "                if 1769<i<1881 and 2019<j<2131 :\n",
        "                    meanC1_7.append(LAB_imgC1_07[i][j])\n",
        "meanC1_7 = np.array(meanC1_7)\n",
        "\n",
        "labC1_7 = list()\n",
        "for i in range(3):\n",
        "    labC1_7.append(meanC1_7[:,i].mean())\n",
        "labC1_7"
      ],
      "execution_count": null,
      "outputs": [
        {
          "output_type": "execute_result",
          "data": {
            "text/plain": [
              "[235.4835646457268, 126.00470741011281, 133.80464248031817]"
            ]
          },
          "metadata": {},
          "execution_count": 320
        }
      ]
    },
    {
      "cell_type": "code",
      "metadata": {
        "id": "zaEcF9R7S2e9",
        "colab": {
          "base_uri": "https://localhost:8080/"
        },
        "outputId": "ca12084d-45c5-40cd-af9a-a5306698f504"
      },
      "source": [
        "meanC1_9 = list() \n",
        "for i in range(LAB_imgC1_09.shape[0]): \n",
        "     for j in range(LAB_imgC1_09.shape[1]): \n",
        "                if 1769<i<1881 and 2019<j<2131 :\n",
        "                    meanC1_9.append(LAB_imgC1_09[i][j])\n",
        "meanC1_9 = np.array(meanC1_9)\n",
        "\n",
        "labC1_9 = list()\n",
        "for i in range(3):\n",
        "    labC1_9.append(meanC1_9[:,i].mean())\n",
        "labC1_9"
      ],
      "execution_count": null,
      "outputs": [
        {
          "output_type": "execute_result",
          "data": {
            "text/plain": [
              "[236.1329437545654, 126.05178151124097, 133.65790114438764]"
            ]
          },
          "metadata": {},
          "execution_count": 321
        }
      ]
    },
    {
      "cell_type": "markdown",
      "metadata": {
        "id": "7v0CVQ3eS79F"
      },
      "source": [
        "C2"
      ]
    },
    {
      "cell_type": "code",
      "metadata": {
        "id": "lner_FoXS9Aa",
        "colab": {
          "base_uri": "https://localhost:8080/"
        },
        "outputId": "8470eb90-22fc-454c-d822-f3355230d37e"
      },
      "source": [
        "meanC2_1 = list() \n",
        "for i in range(LAB_imgC2_01.shape[0]): \n",
        "     for j in range(LAB_imgC2_01.shape[1]): \n",
        "                if 1769<i<1881 and 2019<j<2131 :\n",
        "                    meanC2_1.append(LAB_imgC2_01[i][j])\n",
        "meanC2_1 = np.array(meanC2_1)\n",
        "\n",
        "labC2_1 = list()\n",
        "for i in range(3):\n",
        "    labC2_1.append(meanC2_1[:,i].mean())\n",
        "labC2_1"
      ],
      "execution_count": null,
      "outputs": [
        {
          "output_type": "execute_result",
          "data": {
            "text/plain": [
              "[225.82184887590293, 124.33130427725023, 140.65400535670807]"
            ]
          },
          "metadata": {},
          "execution_count": 322
        }
      ]
    },
    {
      "cell_type": "code",
      "metadata": {
        "id": "ynKP6UMeTIph",
        "colab": {
          "base_uri": "https://localhost:8080/"
        },
        "outputId": "5af25b1c-9879-42c4-8d52-d1ae93a4b425"
      },
      "source": [
        "meanC2_5 = list() \n",
        "for i in range(LAB_imgC2_05.shape[0]): \n",
        "     for j in range(LAB_imgC2_05.shape[1]): \n",
        "                if 1769<i<1881 and 2019<j<2131 :\n",
        "                    meanC2_5.append(LAB_imgC2_05[i][j])\n",
        "meanC2_5 = np.array(meanC2_5)\n",
        "\n",
        "labC2_5 = list()\n",
        "for i in range(3):\n",
        "    labC2_5.append(meanC2_5[:,i].mean())\n",
        "labC2_5"
      ],
      "execution_count": null,
      "outputs": [
        {
          "output_type": "execute_result",
          "data": {
            "text/plain": [
              "[225.7911695479263, 124.37050564077592, 140.5906176446717]"
            ]
          },
          "metadata": {},
          "execution_count": 323
        }
      ]
    },
    {
      "cell_type": "code",
      "metadata": {
        "id": "E93hzyazUE1G",
        "colab": {
          "base_uri": "https://localhost:8080/"
        },
        "outputId": "b240436e-6188-4f1c-cce7-29636bc4fa27"
      },
      "source": [
        "meanC2_2 = list() \n",
        "for i in range(LAB_imgC2_02.shape[0]): \n",
        "     for j in range(LAB_imgC2_02.shape[1]): \n",
        "                if 1769<i<1881 and 2019<j<2131 :\n",
        "                    meanC2_2.append(LAB_imgC2_02[i][j])\n",
        "meanC2_2 = np.array(meanC2_2)\n",
        "\n",
        "labC2_2 = list()\n",
        "for i in range(3):\n",
        "    labC2_2.append(meanC2_2[:,i].mean())\n",
        "labC2_2"
      ],
      "execution_count": null,
      "outputs": [
        {
          "output_type": "execute_result",
          "data": {
            "text/plain": [
              "[231.59987014041067, 124.61805048291535, 139.72153234315397]"
            ]
          },
          "metadata": {},
          "execution_count": 324
        }
      ]
    },
    {
      "cell_type": "code",
      "metadata": {
        "id": "eQ6z3tyhURGG",
        "colab": {
          "base_uri": "https://localhost:8080/"
        },
        "outputId": "19db91d5-c0a4-4c44-dc6d-9747744b5a6e"
      },
      "source": [
        "meanC2_10 = list() \n",
        "for i in range(LAB_imgC2_10.shape[0]): \n",
        "     for j in range(LAB_imgC2_10.shape[1]): \n",
        "                if 1769<i<1881 and 2019<j<2131 :\n",
        "                    meanC2_10.append(LAB_imgC2_10[i][j])\n",
        "meanC2_10 = np.array(meanC2_10)\n",
        "\n",
        "labC2_10 = list()\n",
        "for i in range(3):\n",
        "    labC2_10.append(meanC2_10[:,i].mean())\n",
        "labC2_10"
      ],
      "execution_count": null,
      "outputs": [
        {
          "output_type": "execute_result",
          "data": {
            "text/plain": [
              "[232.62113464816167, 124.62356951546141, 139.69150231312395]"
            ]
          },
          "metadata": {},
          "execution_count": 325
        }
      ]
    },
    {
      "cell_type": "markdown",
      "metadata": {
        "id": "_gAxAhYBUYIK"
      },
      "source": [
        "C3"
      ]
    },
    {
      "cell_type": "code",
      "metadata": {
        "id": "PnODt_2UUY2N",
        "colab": {
          "base_uri": "https://localhost:8080/"
        },
        "outputId": "0719c531-466d-475a-a2e6-6c8124537e74"
      },
      "source": [
        "meanC3_1 = list() \n",
        "for i in range(LAB_imgC3_01.shape[0]): \n",
        "     for j in range(LAB_imgC3_01.shape[1]): \n",
        "                if 1769<i<1881 and 2019<j<2131 :\n",
        "                    meanC3_1.append(LAB_imgC3_01[i][j])\n",
        "meanC3_1 = np.array(meanC3_1)\n",
        "\n",
        "labC3_1 = list()\n",
        "for i in range(3):\n",
        "    labC3_1.append(meanC3_1[:,i].mean())\n",
        "labC3_1"
      ],
      "execution_count": null,
      "outputs": [
        {
          "output_type": "execute_result",
          "data": {
            "text/plain": [
              "[228.7782647512377, 123.98360522684847, 145.7123610096583]"
            ]
          },
          "metadata": {},
          "execution_count": 326
        }
      ]
    },
    {
      "cell_type": "code",
      "metadata": {
        "id": "4vYztEifVL9j",
        "colab": {
          "base_uri": "https://localhost:8080/"
        },
        "outputId": "5ec11251-a360-49dd-df25-6959a66286f8"
      },
      "source": [
        "meanC3_3 = list() \n",
        "for i in range(LAB_imgC3_03.shape[0]): \n",
        "     for j in range(LAB_imgC3_03.shape[1]): \n",
        "                if 1769<i<1881 and 2019<j<2131 :\n",
        "                    meanC3_3.append(LAB_imgC3_03[i][j])\n",
        "meanC3_3 = np.array(meanC3_3)\n",
        "\n",
        "labC3_3 = list()\n",
        "for i in range(3):\n",
        "    labC3_3.append(meanC3_3[:,i].mean())\n",
        "labC3_3"
      ],
      "execution_count": null,
      "outputs": [
        {
          "output_type": "execute_result",
          "data": {
            "text/plain": [
              "[228.97808619430242, 123.86608229851473, 145.7734761788816]"
            ]
          },
          "metadata": {},
          "execution_count": 327
        }
      ]
    },
    {
      "cell_type": "code",
      "metadata": {
        "id": "RgAVjILGVVVi",
        "colab": {
          "base_uri": "https://localhost:8080/"
        },
        "outputId": "2e289c0f-2fc8-49a7-a0ae-fd744d70a487"
      },
      "source": [
        "meanC3_6 = list() \n",
        "for i in range(LAB_imgC3_06.shape[0]): \n",
        "     for j in range(LAB_imgC3_06.shape[1]): \n",
        "                if 1769<i<1881 and 2019<j<2131 :\n",
        "                    meanC3_6.append(LAB_imgC3_06[i][j])\n",
        "meanC3_6 = np.array(meanC3_6)\n",
        "\n",
        "labC3_6 = list()\n",
        "for i in range(3):\n",
        "    labC3_6.append(meanC3_6[:,i].mean())\n",
        "labC3_6"
      ],
      "execution_count": null,
      "outputs": [
        {
          "output_type": "execute_result",
          "data": {
            "text/plain": [
              "[229.35898060222385, 124.04334063793523, 145.46579011443876]"
            ]
          },
          "metadata": {},
          "execution_count": 328
        }
      ]
    },
    {
      "cell_type": "code",
      "metadata": {
        "id": "E2A3VnaTVhdF",
        "colab": {
          "base_uri": "https://localhost:8080/"
        },
        "outputId": "6ca769f3-14da-47ca-d2af-7688954b875d"
      },
      "source": [
        "meanC3_9 = list() \n",
        "for i in range(LAB_imgC3_09.shape[0]): \n",
        "     for j in range(LAB_imgC3_09.shape[1]): \n",
        "                if 1769<i<1881 and 2019<j<2131 :\n",
        "                    meanC3_9.append(LAB_imgC3_09[i][j])\n",
        "meanC3_9 = np.array(meanC3_9)\n",
        "\n",
        "labC3_9 = list()\n",
        "for i in range(3):\n",
        "    labC3_9.append(meanC3_9[:,i].mean())\n",
        "labC3_9"
      ],
      "execution_count": null,
      "outputs": [
        {
          "output_type": "execute_result",
          "data": {
            "text/plain": [
              "[230.03749695641588, 124.12352893433975, 145.51740930119308]"
            ]
          },
          "metadata": {},
          "execution_count": 329
        }
      ]
    },
    {
      "cell_type": "markdown",
      "metadata": {
        "id": "wozLumwnVpsd"
      },
      "source": [
        "C4"
      ]
    },
    {
      "cell_type": "code",
      "metadata": {
        "id": "L4-leGI1Vpep",
        "colab": {
          "base_uri": "https://localhost:8080/"
        },
        "outputId": "ce7c5007-a582-4d0b-aac0-e2844b498d33"
      },
      "source": [
        "meanC4_2 = list() \n",
        "for i in range(LAB_imgC4_02.shape[0]): \n",
        "     for j in range(LAB_imgC4_02.shape[1]): \n",
        "                if 1769<i<1881 and 2019<j<2131 :\n",
        "                    meanC4_2.append(LAB_imgC4_02[i][j])\n",
        "meanC4_2 = np.array(meanC4_2)\n",
        "\n",
        "labC4_2 = list()\n",
        "for i in range(3):\n",
        "    labC4_2.append(meanC4_2[:,i].mean())\n",
        "labC4_2"
      ],
      "execution_count": null,
      "outputs": [
        {
          "output_type": "execute_result",
          "data": {
            "text/plain": [
              "[225.49306062819576, 123.90138787436085, 145.90828666504342]"
            ]
          },
          "metadata": {},
          "execution_count": 330
        }
      ]
    },
    {
      "cell_type": "code",
      "metadata": {
        "id": "wCstVvzCW3ch",
        "colab": {
          "base_uri": "https://localhost:8080/"
        },
        "outputId": "b764a792-a1bc-4a66-ae54-b7a3406cfc14"
      },
      "source": [
        "meanC4_8 = list() \n",
        "for i in range(LAB_imgC4_08.shape[0]): \n",
        "     for j in range(LAB_imgC4_08.shape[1]): \n",
        "                if 1769<i<1881 and 2019<j<2131 :\n",
        "                    meanC4_8.append(LAB_imgC4_08[i][j])\n",
        "meanC4_8 = np.array(meanC4_8)\n",
        "\n",
        "labC4_8 = list()\n",
        "for i in range(3):\n",
        "    labC4_8.append(meanC4_8[:,i].mean())\n",
        "labC4_8"
      ],
      "execution_count": null,
      "outputs": [
        {
          "output_type": "execute_result",
          "data": {
            "text/plain": [
              "[228.2365067770473, 122.35078321564808, 150.34502069637205]"
            ]
          },
          "metadata": {},
          "execution_count": 331
        }
      ]
    },
    {
      "cell_type": "code",
      "metadata": {
        "id": "oZ5wcP8wW4l-",
        "colab": {
          "base_uri": "https://localhost:8080/"
        },
        "outputId": "00525e9a-03e6-4d0b-937b-c789afc5fde1"
      },
      "source": [
        "meanC4_5 = list() \n",
        "for i in range(LAB_imgC4_05.shape[0]): \n",
        "     for j in range(LAB_imgC4_05.shape[1]): \n",
        "                if 1769<i<1881 and 2019<j<2131 :\n",
        "                    meanC4_5.append(LAB_imgC4_05[i][j])\n",
        "meanC4_5 = np.array(meanC4_5)\n",
        "\n",
        "labC4_5 = list()\n",
        "for i in range(3):\n",
        "    labC4_5.append(meanC4_5[:,i].mean())\n",
        "labC4_5"
      ],
      "execution_count": null,
      "outputs": [
        {
          "output_type": "execute_result",
          "data": {
            "text/plain": [
              "[226.78199821443064, 123.39899358818278, 147.18180342504667]"
            ]
          },
          "metadata": {},
          "execution_count": 332
        }
      ]
    },
    {
      "cell_type": "code",
      "metadata": {
        "id": "4RbAizT-W5AI",
        "colab": {
          "base_uri": "https://localhost:8080/"
        },
        "outputId": "42804c18-f31f-4b89-938d-2cf0d2c1828b"
      },
      "source": [
        "meanC4_9 = list() \n",
        "for i in range(LAB_imgC4_09.shape[0]): \n",
        "     for j in range(LAB_imgC4_09.shape[1]): \n",
        "                if 1769<i<1881 and 2019<j<2131 :\n",
        "                    meanC4_9.append(LAB_imgC4_09[i][j])\n",
        "meanC4_9 = np.array(meanC4_9)\n",
        "\n",
        "labC4_9 = list()\n",
        "for i in range(3):\n",
        "    labC4_9.append(meanC4_9[:,i].mean())\n",
        "labC4_9"
      ],
      "execution_count": null,
      "outputs": [
        {
          "output_type": "execute_result",
          "data": {
            "text/plain": [
              "[228.1097313529746, 122.23342261180099, 150.55182209236264]"
            ]
          },
          "metadata": {},
          "execution_count": 333
        }
      ]
    },
    {
      "cell_type": "markdown",
      "metadata": {
        "id": "zKlDyQHQXMFL"
      },
      "source": [
        "D2"
      ]
    },
    {
      "cell_type": "code",
      "metadata": {
        "id": "Ul4cDLOoXL2B",
        "colab": {
          "base_uri": "https://localhost:8080/"
        },
        "outputId": "160de3e4-2e21-4e2c-e291-17bfef2e6322"
      },
      "source": [
        "meanD2_4 = list() \n",
        "for i in range(LAB_imgD2_04.shape[0]): \n",
        "     for j in range(LAB_imgD2_04.shape[1]): \n",
        "                if 1769<i<1881 and 2019<j<2131 :\n",
        "                    meanD2_4.append(LAB_imgD2_04[i][j])\n",
        "meanD2_4 = np.array(meanD2_4)\n",
        "\n",
        "labD2_4 = list()\n",
        "for i in range(3):\n",
        "    labD2_4.append(meanD2_4[:,i].mean())\n",
        "labD2_4"
      ],
      "execution_count": null,
      "outputs": [
        {
          "output_type": "execute_result",
          "data": {
            "text/plain": [
              "[236.92735979222465, 125.56748640532425, 134.68362957552148]"
            ]
          },
          "metadata": {},
          "execution_count": 334
        }
      ]
    },
    {
      "cell_type": "code",
      "metadata": {
        "id": "MPc9VyCaXYAE",
        "colab": {
          "base_uri": "https://localhost:8080/"
        },
        "outputId": "6d3cba44-3187-4360-fe5b-015e4eadb64d"
      },
      "source": [
        "meanD2_6 = list() \n",
        "for i in range(LAB_imgD2_06.shape[0]): \n",
        "     for j in range(LAB_imgD2_06.shape[1]): \n",
        "                if 1769<i<1881 and 2019<j<2131 :\n",
        "                    meanD2_6.append(LAB_imgD2_06[i][j])\n",
        "meanD2_6 = np.array(meanD2_6)\n",
        "\n",
        "labD2_6 = list()\n",
        "for i in range(3):\n",
        "    labD2_6.append(meanD2_6[:,i].mean())\n",
        "labD2_6"
      ],
      "execution_count": null,
      "outputs": [
        {
          "output_type": "execute_result",
          "data": {
            "text/plain": [
              "[236.88580472364256, 125.77566755945135, 134.30857884911939]"
            ]
          },
          "metadata": {},
          "execution_count": 335
        }
      ]
    },
    {
      "cell_type": "code",
      "metadata": {
        "id": "8C3joajEXZQv",
        "colab": {
          "base_uri": "https://localhost:8080/"
        },
        "outputId": "db417a3c-86cd-425a-f937-87fc72282be6"
      },
      "source": [
        "meanD2_9 = list() \n",
        "for i in range(LAB_imgD2_09.shape[0]): \n",
        "     for j in range(LAB_imgD2_09.shape[1]): \n",
        "                if 1769<i<1881 and 2019<j<2131 :\n",
        "                    meanD2_9.append(LAB_imgD2_09[i][j])\n",
        "meanD2_9 = np.array(meanD2_9)\n",
        "\n",
        "labD2_9 = list()\n",
        "for i in range(3):\n",
        "    labD2_9.append(meanD2_9[:,i].mean())\n",
        "labD2_9"
      ],
      "execution_count": null,
      "outputs": [
        {
          "output_type": "execute_result",
          "data": {
            "text/plain": [
              "[236.78451424397372, 125.72745718691665, 134.38251765278793]"
            ]
          },
          "metadata": {},
          "execution_count": 336
        }
      ]
    },
    {
      "cell_type": "code",
      "metadata": {
        "id": "P7AmF-1OXY3y",
        "colab": {
          "base_uri": "https://localhost:8080/"
        },
        "outputId": "c62e8173-86ee-48a1-906a-a01d503f0285"
      },
      "source": [
        "meanD2_7 = list() \n",
        "for i in range(LAB_imgD2_07.shape[0]): \n",
        "     for j in range(LAB_imgD2_07.shape[1]): \n",
        "                if 1769<i<1881 and 2019<j<2131 :\n",
        "                    meanD2_7.append(LAB_imgD2_07[i][j])\n",
        "meanD2_7 = np.array(meanD2_7)\n",
        "\n",
        "labD2_7 = list()\n",
        "for i in range(3):\n",
        "    labD2_7.append(meanD2_7[:,i].mean())\n",
        "labD2_7"
      ],
      "execution_count": null,
      "outputs": [
        {
          "output_type": "execute_result",
          "data": {
            "text/plain": [
              "[236.51757162567972, 125.88840191542894, 134.15282850417987]"
            ]
          },
          "metadata": {},
          "execution_count": 337
        }
      ]
    },
    {
      "cell_type": "markdown",
      "metadata": {
        "id": "iH_Tsc2EXwLf"
      },
      "source": [
        "D3"
      ]
    },
    {
      "cell_type": "code",
      "metadata": {
        "id": "lodYBglRYq8f",
        "colab": {
          "base_uri": "https://localhost:8080/"
        },
        "outputId": "f9579d32-8b27-4e3f-f7ee-86f4983f15b0"
      },
      "source": [
        "meanD3_10 = list() \n",
        "for i in range(LAB_imgD3_10.shape[0]): \n",
        "     for j in range(LAB_imgD3_10.shape[1]): \n",
        "                if 1769<i<1881 and 2019<j<2131 :\n",
        "                    meanD3_10.append(LAB_imgD3_10[i][j])\n",
        "meanD3_10 = np.array(meanD3_10)\n",
        "\n",
        "labD3_10 = list()\n",
        "for i in range(3):\n",
        "    labD3_10.append(meanD3_10[:,i].mean())\n",
        "labD3_10"
      ],
      "execution_count": null,
      "outputs": [
        {
          "output_type": "execute_result",
          "data": {
            "text/plain": [
              "[236.73573573573574, 125.94967940913887, 134.22132943754565]"
            ]
          },
          "metadata": {},
          "execution_count": 338
        }
      ]
    },
    {
      "cell_type": "code",
      "metadata": {
        "id": "4HvoI0ngYv3b",
        "colab": {
          "base_uri": "https://localhost:8080/"
        },
        "outputId": "66fbf906-2c49-472e-c8a8-102caf04c0cc"
      },
      "source": [
        "meanD3_2 = list() \n",
        "for i in range(LAB_imgD3_02.shape[0]): \n",
        "     for j in range(LAB_imgD3_02.shape[1]): \n",
        "                if 1769<i<1881 and 2019<j<2131 :\n",
        "                    meanD3_2.append(LAB_imgD3_02[i][j])\n",
        "meanD3_2 = np.array(meanD3_2)\n",
        "\n",
        "labD3_2 = list()\n",
        "for i in range(3):\n",
        "    labD3_2.append(meanD3_2[:,i].mean())\n",
        "labD3_2"
      ],
      "execution_count": null,
      "outputs": [
        {
          "output_type": "execute_result",
          "data": {
            "text/plain": [
              "[234.56074993912833, 125.896923950978, 137.18074831588345]"
            ]
          },
          "metadata": {},
          "execution_count": 339
        }
      ]
    },
    {
      "cell_type": "code",
      "metadata": {
        "id": "_qFI-tsZXxd7",
        "colab": {
          "base_uri": "https://localhost:8080/"
        },
        "outputId": "6ecf41f1-05d1-4832-a2a2-4f62fdef480b"
      },
      "source": [
        "meanD3_5 = list() \n",
        "for i in range(LAB_imgD3_05.shape[0]): \n",
        "     for j in range(LAB_imgD3_05.shape[1]): \n",
        "                if 1769<i<1881 and 2019<j<2131 :\n",
        "                    meanD3_5.append(LAB_imgD3_05[i][j])\n",
        "meanD3_5 = np.array(meanD3_5)\n",
        "\n",
        "labD3_5 = list()\n",
        "for i in range(3):\n",
        "    labD3_5.append(meanD3_5[:,i].mean())\n",
        "labD3_5 "
      ],
      "execution_count": null,
      "outputs": [
        {
          "output_type": "execute_result",
          "data": {
            "text/plain": [
              "[234.23098774450125, 125.84895706517328, 137.3153153153153]"
            ]
          },
          "metadata": {},
          "execution_count": 340
        }
      ]
    },
    {
      "cell_type": "code",
      "metadata": {
        "id": "GZMjU-UQY0yi",
        "colab": {
          "base_uri": "https://localhost:8080/"
        },
        "outputId": "6fcf75f5-9df8-4413-acda-25035eaec9b2"
      },
      "source": [
        "meanD3_6 = list() \n",
        "for i in range(LAB_imgD3_06.shape[0]): \n",
        "     for j in range(LAB_imgD3_06.shape[1]): \n",
        "                if 1769<i<1881 and 2019<j<2131 :\n",
        "                    meanD3_6.append(LAB_imgD3_06[i][j])\n",
        "meanD3_6 = np.array(meanD3_6)\n",
        "\n",
        "labD3_6 = list()\n",
        "for i in range(3):\n",
        "    labD3_6.append(meanD3_6[:,i].mean())\n",
        "labD3_6"
      ],
      "execution_count": null,
      "outputs": [
        {
          "output_type": "execute_result",
          "data": {
            "text/plain": [
              "[234.08197386575765, 125.75683791900008, 137.27205583962342]"
            ]
          },
          "metadata": {},
          "execution_count": 341
        }
      ]
    },
    {
      "cell_type": "markdown",
      "metadata": {
        "id": "UrzhmbP9Y5u5"
      },
      "source": [
        "D4 "
      ]
    },
    {
      "cell_type": "code",
      "metadata": {
        "id": "kiQNtAKPY8yy",
        "colab": {
          "base_uri": "https://localhost:8080/"
        },
        "outputId": "0683557f-06fb-409f-c3d5-3f21b769e594"
      },
      "source": [
        "meanD4_1 = list() \n",
        "for i in range(LAB_imgD4_01.shape[0]): \n",
        "     for j in range(LAB_imgD4_01.shape[1]): \n",
        "                if 1769<i<1881 and 2019<j<2131 :\n",
        "                    meanD4_1.append(LAB_imgD4_01[i][j])\n",
        "meanD4_1 = np.array(meanD4_1)\n",
        "\n",
        "labD4_1 = list()\n",
        "for i in range(3):\n",
        "    labD4_1.append(meanD4_1[:,i].mean())\n",
        "labD4_1"
      ],
      "execution_count": null,
      "outputs": [
        {
          "output_type": "execute_result",
          "data": {
            "text/plain": [
              "[233.3418553688824, 123.47350052755458, 143.8487135784433]"
            ]
          },
          "metadata": {},
          "execution_count": 342
        }
      ]
    },
    {
      "cell_type": "code",
      "metadata": {
        "id": "0kEogEJKY_Ff",
        "colab": {
          "base_uri": "https://localhost:8080/"
        },
        "outputId": "c4af0fa0-8172-4cde-9398-726dcc97537c"
      },
      "source": [
        "meanD4_5 = list() \n",
        "for i in range(LAB_imgD4_05.shape[0]): \n",
        "     for j in range(LAB_imgD4_05.shape[1]): \n",
        "                if 1769<i<1881 and 2019<j<2131 :\n",
        "                    meanD4_5.append(LAB_imgD4_05[i][j])\n",
        "meanD4_5 = np.array(meanD4_5)\n",
        "\n",
        "labD4_5 = list()\n",
        "for i in range(3):\n",
        "    labD4_5.append(meanD4_5[:,i].mean())\n",
        "labD4_5"
      ],
      "execution_count": null,
      "outputs": [
        {
          "output_type": "execute_result",
          "data": {
            "text/plain": [
              "[233.23334144955766, 122.72437302167032, 145.82671861050238]"
            ]
          },
          "metadata": {},
          "execution_count": 343
        }
      ]
    },
    {
      "cell_type": "code",
      "metadata": {
        "id": "qpWzE6RQyObz",
        "colab": {
          "base_uri": "https://localhost:8080/"
        },
        "outputId": "557f668e-77eb-415a-8c0b-ef27bcba868b"
      },
      "source": [
        "meanD4_7 = list() \n",
        "for i in range(LAB_imgD4_07.shape[0]): \n",
        "     for j in range(LAB_imgD4_07.shape[1]): \n",
        "                if 1769<i<1881 and 2019<j<2131 :\n",
        "                    meanD4_7.append(LAB_imgD4_07[i][j])\n",
        "meanD4_7 = np.array(meanD4_7)\n",
        "\n",
        "labD4_7 = list()\n",
        "for i in range(3):\n",
        "    labD4_7.append(meanD4_7[:,i].mean())\n",
        "labD4_7"
      ],
      "execution_count": null,
      "outputs": [
        {
          "output_type": "execute_result",
          "data": {
            "text/plain": [
              "[224.26126126126127, 122.91275058842626, 146.00486973459945]"
            ]
          },
          "metadata": {},
          "execution_count": 344
        }
      ]
    },
    {
      "cell_type": "code",
      "metadata": {
        "id": "XQknaIrNyPN_",
        "colab": {
          "base_uri": "https://localhost:8080/"
        },
        "outputId": "ee7216e9-7e56-4724-de28-596589553657"
      },
      "source": [
        "meanD4_9 = list() \n",
        "for i in range(LAB_imgD4_09.shape[0]): \n",
        "     for j in range(LAB_imgD4_09.shape[1]): \n",
        "                if 1769<i<1881 and 2019<j<2131 :\n",
        "                    meanD4_9.append(LAB_imgD4_09[i][j])\n",
        "meanD4_9 = np.array(meanD4_9)\n",
        "\n",
        "labD4_9 = list()\n",
        "for i in range(3):\n",
        "    labD4_9.append(meanD4_9[:,i].mean())\n",
        "labD4_9"
      ],
      "execution_count": null,
      "outputs": [
        {
          "output_type": "execute_result",
          "data": {
            "text/plain": [
              "[231.75164353542732, 123.02045288531775, 145.0991802613424]"
            ]
          },
          "metadata": {},
          "execution_count": 345
        }
      ]
    },
    {
      "cell_type": "markdown",
      "metadata": {
        "id": "IdOvf3XXgumA"
      },
      "source": [
        "#คำนวณระยะห่างระหว่างจุดแบบ Euclidean distance"
      ]
    },
    {
      "cell_type": "code",
      "metadata": {
        "id": "9zPD-56Zgxef"
      },
      "source": [
        "from scipy.spatial import distance"
      ],
      "execution_count": null,
      "outputs": []
    },
    {
      "cell_type": "markdown",
      "metadata": {
        "id": "fYTcj_FrkWhp"
      },
      "source": [
        "A1"
      ]
    },
    {
      "cell_type": "code",
      "metadata": {
        "id": "7-9sfK9rjy_Y"
      },
      "source": [
        "UA1A1_1 = distance.euclidean(labA1_1,labA1_5)\n",
        "UA1A1_2 = distance.euclidean(labA1_2,labA1_6)\n",
        "UA1A2_1 = distance.euclidean(labA1_5,labA2_2)\n",
        "UA1A2_2 = distance.euclidean(labA1_6,labA2_7)\n",
        "UA1A3_1 = distance.euclidean(labA1_1,labA3_10)\n",
        "UA1A3_2 = distance.euclidean(labA1_2,labA3_7)\n",
        "UA1A3_51 = distance.euclidean(labA1_5,labA3_505) \n",
        "UA1A3_52 = distance.euclidean(labA1_6,labA3_510)\n",
        "UA1A4_1 = distance.euclidean(labA1_1,labA4_1)\n",
        "UA1A4_2 = distance.euclidean(labA1_2,labA4_4)\n",
        "UA1B1_1 = distance.euclidean(labA1_5,labB1_2)\n",
        "UA1B1_2 = distance.euclidean(labA1_6,labB1_5)\n",
        "UA1B2_1 = distance.euclidean(labA1_1,labB2_3)\n",
        "UA1B2_2 = distance.euclidean(labA1_2,labB2_6)\n",
        "UA1B3_1 = distance.euclidean(labA1_5,labB3_4)\n",
        "UA1B3_2 = distance.euclidean(labA1_6,labB3_8)\n",
        "UA1B4_1 = distance.euclidean(labA1_1,labB4_2)\n",
        "UA1B4_2 = distance.euclidean(labA1_2,labB4_7)\n",
        "UA1C1_1 = distance.euclidean(labA1_5,labC1_6)\n",
        "UA1C1_2 = distance.euclidean(labA1_6,labC1_9)\n",
        "UA1C2_1 = distance.euclidean(labA1_1,labC2_2)\n",
        "UA1C2_2 = distance.euclidean(labA1_2,labC2_5)\n",
        "UA1C3_1 = distance.euclidean(labA1_5,labC3_6)\n",
        "UA1C3_2 = distance.euclidean(labA1_6,labC3_9)\n",
        "UA1C4_1 = distance.euclidean(labA1_1,labC4_2)\n",
        "UA1C4_2 = distance.euclidean(labA1_2,labC4_8)\n",
        "UA1D2_1 = distance.euclidean(labA1_5,labD2_4)\n",
        "UA1D2_2 = distance.euclidean(labA1_6,labD2_7)\n",
        "UA1D3_1 = distance.euclidean(labA1_1,labD3_10)\n",
        "UA1D3_2 = distance.euclidean(labA1_2,labD3_5)\n",
        "UA1D4_1 = distance.euclidean(labA1_5,labD4_7)\n",
        "UA1D4_2 = distance.euclidean(labA1_6,labD4_1)"
      ],
      "execution_count": null,
      "outputs": []
    },
    {
      "cell_type": "code",
      "metadata": {
        "id": "GLlQnt9q5FpU"
      },
      "source": [
        "UA1A1 = (UA1A1_1+UA1A1_2)/2\n",
        "UA1A2 = (UA1A2_1+UA1A2_2)/2\n",
        "UA1A3 = (UA1A3_1+UA1A3_2)/2\n",
        "UA1A3_5 = (UA1A3_51+UA1A3_52)/2\n",
        "UA1A4 = (UA1A4_1+UA1A4_2)/2\n",
        "UA1B1 = (UA1B1_1+UA1B1_2)/2\n",
        "UA1B2 = (UA1B2_1+UA1B2_2)/2\n",
        "UA1B3 = (UA1B3_1+UA1B3_2)/2\n",
        "UA1B4 = (UA1B4_1+UA1B4_2)/2\n",
        "UA1C1 = (UA1C1_1+UA1C1_2)/2\n",
        "UA1C2 = (UA1C2_1+UA1C2_2)/2\n",
        "UA1C3 = (UA1C3_1+UA1C3_2)/2\n",
        "UA1C4 = (UA1C4_1+UA1C4_2)/2\n",
        "UA1D2 = (UA1D2_1+UA1D2_2)/2\n",
        "UA1D3 = (UA1D3_1+UA1D3_2)/2\n",
        "UA1D4 = (UA1D4_1+UA1D4_2)/2"
      ],
      "execution_count": null,
      "outputs": []
    },
    {
      "cell_type": "markdown",
      "metadata": {
        "id": "A4O7ZP5wANVY"
      },
      "source": [
        "A2"
      ]
    },
    {
      "cell_type": "code",
      "metadata": {
        "id": "qYDLZVQZAOI-"
      },
      "source": [
        "UA2A1_1 = distance.euclidean(labA2_2,labA1_2)\n",
        "UA2A1_2 = distance.euclidean(labA2_4,labA1_6)\n",
        "UA2A2_2 = distance.euclidean(labA2_7,labA2_4)\n",
        "UA2A2_1 = distance.euclidean(labA2_8,labA2_7)\n",
        "UA2A3_1 = distance.euclidean(labA2_2,labA3_3)\n",
        "UA2A3_2 = distance.euclidean(labA2_7,labA3_8)\n",
        "UA2A3_51 = distance.euclidean(labA2_8,labA3_507)\n",
        "UA2A3_52 = distance.euclidean(labA2_8,labA3_510)\n",
        "UA2A4_1 = distance.euclidean(labA2_7,labA4_1)\n",
        "UA2A4_2 = distance.euclidean(labA2_2,labA4_9)\n",
        "UA2B1_1 = distance.euclidean(labA2_4,labB1_3)\n",
        "UA2B1_2 = distance.euclidean(labA2_8,labB1_5)\n",
        "UA2B2_1 = distance.euclidean(labA2_2,labB2_6)\n",
        "UA2B2_2 = distance.euclidean(labA2_4,labB2_4)\n",
        "UA2B3_1 = distance.euclidean(labA2_7,labB3_1)\n",
        "UA2B3_2 = distance.euclidean(labA2_8,labB3_4)\n",
        "UA2B4_1 = distance.euclidean(labA2_7,labB4_3)\n",
        "UA2B4_2 = distance.euclidean(labA2_2,labB4_7)\n",
        "UA2C1_1 = distance.euclidean(labA2_4,labC1_6)\n",
        "UA2C1_2 = distance.euclidean(labA2_8,labC1_9)\n",
        "UA2C2_1 = distance.euclidean(labA2_4,labC2_1)\n",
        "UA2C2_2 = distance.euclidean(labA2_2,labC2_5)\n",
        "UA2C3_1 = distance.euclidean(labA2_7,labC3_6)\n",
        "UA2C3_2 = distance.euclidean(labA2_2,labC3_1)\n",
        "UA2C4_1 = distance.euclidean(labA2_4,labC4_8)\n",
        "UA2C4_2 = distance.euclidean(labA2_8,labC4_9)\n",
        "UA2D2_1 = distance.euclidean(labA2_4,labD2_4)\n",
        "UA2D2_2 = distance.euclidean(labA2_7,labD2_6)\n",
        "UA2D3_1 = distance.euclidean(labA2_4,labD3_10)\n",
        "UA2D3_2 = distance.euclidean(labA2_2,labD3_6)\n",
        "UA2D4_1 = distance.euclidean(labA2_4,labD4_5)\n",
        "UA2D4_2 = distance.euclidean(labA2_8,labD4_7)"
      ],
      "execution_count": null,
      "outputs": []
    },
    {
      "cell_type": "code",
      "metadata": {
        "id": "0IDzb76_7IfX"
      },
      "source": [
        "UA2A1 = (UA2A1_1+UA2A1_2)/2\n",
        "UA2A2 = (UA2A2_1+UA2A2_2)/2\n",
        "UA2A3 = (UA2A3_1+UA2A3_2)/2\n",
        "UA2A3_5 = (UA2A3_51+UA2A3_52)/2\n",
        "UA2A4 = (UA2A4_1+UA2A4_2)/2\n",
        "UA2B1 = (UA2B1_1+UA2B1_2)/2\n",
        "UA2B2 = (UA2B2_1+UA2B2_2)/2\n",
        "UA2B3 = (UA2B3_1+UA2B3_2)/2\n",
        "UA2B4 = (UA2B4_1+UA2B4_2)/2\n",
        "UA2C1 = (UA2C1_1+UA2C1_2)/2\n",
        "UA2C2 = (UA2C2_1+UA2C2_2)/2\n",
        "UA2C3 = (UA2C3_1+UA2C3_2)/2\n",
        "UA2C4 = (UA2C4_1+UA2C4_2)/2\n",
        "UA2D2 = (UA2D2_1+UA2D2_2)/2\n",
        "UA2D3 = (UA2D3_1+UA2D3_2)/2\n",
        "UA2D4 = (UA2D4_1+UA2D4_2)/2"
      ],
      "execution_count": null,
      "outputs": []
    },
    {
      "cell_type": "markdown",
      "metadata": {
        "id": "LpSNWcPFEEAC"
      },
      "source": [
        "A3"
      ]
    },
    {
      "cell_type": "code",
      "metadata": {
        "id": "8SB0HIL6EFJn"
      },
      "source": [
        "UA3A1_1 = distance.euclidean(labA3_3,labA1_1)\n",
        "UA3A1_2 = distance.euclidean(labA3_7,labA1_1)\n",
        "UA3A2_1 = distance.euclidean(labA3_8,labA2_7)\n",
        "UA3A2_2 = distance.euclidean(labA3_10,labA2_4)\n",
        "UA3A3_1 = distance.euclidean(labA3_10,labA3_3)\n",
        "UA3A3_2 = distance.euclidean(labA3_8,labA3_7)\n",
        "UA3A3_51 = distance.euclidean(labA3_7,labA3_501)\n",
        "UA3A3_52 = distance.euclidean(labA3_3,labA3_507)\n",
        "UA3A4_1 = distance.euclidean(labA3_3,labA4_4)\n",
        "UA3A4_2 = distance.euclidean(labA3_7,labA4_4)\n",
        "UA3B1_1 = distance.euclidean(labA3_8,labB1_2)\n",
        "UA3B1_2 = distance.euclidean(labA3_10,labB1_7)\n",
        "UA3B2_1 = distance.euclidean(labA3_10,labB2_6)\n",
        "UA3B2_2 = distance.euclidean(labA3_8,labB2_6)\n",
        "UA3B3_1 = distance.euclidean(labA3_7,labB3_4)\n",
        "UA3B3_2 = distance.euclidean(labA3_3,labB3_9)\n",
        "UA3B4_1 = distance.euclidean(labA3_3,labB4_2)\n",
        "UA3B4_2 = distance.euclidean(labA3_7,labB4_3)\n",
        "UA3C1_1 = distance.euclidean(labA3_8,labC1_6)\n",
        "UA3C1_2 = distance.euclidean(labA3_10,labC1_9)\n",
        "UA3C2_1 = distance.euclidean(labA3_10,labC2_5)\n",
        "UA3C2_2 = distance.euclidean(labA3_8,labC2_10)\n",
        "UA3C3_1 = distance.euclidean(labA3_7,labC3_6)\n",
        "UA3C3_2 = distance.euclidean(labA3_3,labC3_9)\n",
        "UA3C4_1 = distance.euclidean(labA3_3,labC4_5)\n",
        "UA3C4_2 = distance.euclidean(labA3_7,labC4_8)\n",
        "UA3D2_1 = distance.euclidean(labA3_8,labD2_4)\n",
        "UA3D2_2 = distance.euclidean(labA3_10,labD2_7)\n",
        "UA3D3_1 = distance.euclidean(labA3_10,labD3_10)\n",
        "UA3D3_2 = distance.euclidean(labA3_8,labD3_2)\n",
        "UA3D4_1 = distance.euclidean(labA3_7,labD4_9)\n",
        "UA3D4_2 = distance.euclidean(labA3_3,labD4_1)"
      ],
      "execution_count": null,
      "outputs": []
    },
    {
      "cell_type": "code",
      "metadata": {
        "id": "iKwP4vNF7YES"
      },
      "source": [
        "UA3A1 = (UA2A1_1+UA2A1_2)/2\n",
        "UA3A2 = (UA3A2_1+UA3A2_2)/2\n",
        "UA3A3 = (UA3A3_1+UA3A3_2)/2\n",
        "UA3A3_5 = (UA3A3_51+UA3A3_52)/2\n",
        "UA3A4 = (UA3A4_1+UA3A4_2)/2\n",
        "UA3B1 = (UA3B1_1+UA3B1_2)/2\n",
        "UA3B2 = (UA3B2_1+UA3B2_2)/2\n",
        "UA3B3 = (UA3B3_1+UA3B3_2)/2\n",
        "UA3B4 = (UA3B4_1+UA3B4_2)/2\n",
        "UA3C1 = (UA3C1_1+UA3C1_2)/2\n",
        "UA3C2 = (UA3C2_1+UA3C2_2)/2\n",
        "UA3C3 = (UA3C3_1+UA3C3_2)/2\n",
        "UA3C4 = (UA3C4_1+UA3C4_2)/2\n",
        "UA3D2 = (UA3D2_1+UA3D2_2)/2\n",
        "UA3D3 = (UA3D3_1+UA3D3_2)/2\n",
        "UA3D4 = (UA3D4_1+UA3D4_2)/2"
      ],
      "execution_count": null,
      "outputs": []
    },
    {
      "cell_type": "markdown",
      "metadata": {
        "id": "HOBtYix5HZ4-"
      },
      "source": [
        "A3.5"
      ]
    },
    {
      "cell_type": "code",
      "metadata": {
        "id": "saXBQJkbHbYF"
      },
      "source": [
        "UA3_5A1_1 = distance.euclidean(labA3_501,labA1_2)\n",
        "UA3_5A1_2 = distance.euclidean(labA3_505,labA1_6)\n",
        "UA3_5A2_1 = distance.euclidean(labA3_507,labA2_2)\n",
        "UA3_5A2_2 = distance.euclidean(labA3_510,labA2_4)\n",
        "UA3_5A3_1 = distance.euclidean(labA3_501,labA3_3)\n",
        "UA3_5A3_2 = distance.euclidean(labA3_507,labA3_8)\n",
        "UA3_5A3_51 = distance.euclidean(labA3_505,labA3_510)\n",
        "UA3_5A3_52 = distance.euclidean(labA3_501,labA3_507)\n",
        "UA3_5A4_1 = distance.euclidean(labA3_501,labA4_4)\n",
        "UA3_5A4_2 = distance.euclidean(labA3_505,labA4_9)\n",
        "UA3_5B1_1 = distance.euclidean(labA3_507,labB1_2)\n",
        "UA3_5B1_2 = distance.euclidean(labA3_510,labB1_5)\n",
        "UA3_5B2_1 = distance.euclidean(labA3_501,labB2_3)\n",
        "UA3_5B2_2 = distance.euclidean(labA3_505,labB2_4)\n",
        "UA3_5B3_1 = distance.euclidean(labA3_510,labB3_8)\n",
        "UA3_5B3_2 = distance.euclidean(labA3_507,labB3_9)\n",
        "UA3_5B4_1 = distance.euclidean(labA3_501,labB4_2)\n",
        "UA3_5B4_2 = distance.euclidean(labA3_505,labB4_7)\n",
        "UA3_5C1_1 = distance.euclidean(labA3_507,labC1_3)\n",
        "UA3_5C1_2 = distance.euclidean(labA3_510,labC1_6)\n",
        "UA3_5C2_1 = distance.euclidean(labA3_501,labC2_5)\n",
        "UA3_5C2_2 = distance.euclidean(labA3_505,labC2_10)\n",
        "UA3_5C3_1 = distance.euclidean(labA3_510,labC3_1)\n",
        "UA3_5C3_2 = distance.euclidean(labA3_507,labC3_6)\n",
        "UA3_5C4_1 = distance.euclidean(labA3_501,labC4_2)\n",
        "UA3_5C4_2 = distance.euclidean(labA3_505,labC4_8)\n",
        "UA3_5D2_1 = distance.euclidean(labA3_507,labD2_6)\n",
        "UA3_5D2_2 = distance.euclidean(labA3_510,labD2_7)\n",
        "UA3_5D3_1 = distance.euclidean(labA3_501,labD3_5)\n",
        "UA3_5D3_2 = distance.euclidean(labA3_505,labD3_6)\n",
        "UA3_5D4_1 = distance.euclidean(labA3_507,labD4_5)\n",
        "UA3_5D4_2 = distance.euclidean(labA3_507,labD4_9)"
      ],
      "execution_count": null,
      "outputs": []
    },
    {
      "cell_type": "code",
      "metadata": {
        "id": "EVTVI4nj72b9"
      },
      "source": [
        "UA3_5A1 = (UA3_5A1_1+UA3_5A1_2)/2\n",
        "UA3_5A2 = (UA3_5A2_1+UA3_5A2_2)/2\n",
        "UA3_5A3 = (UA3_5A3_1+UA3_5A3_2)/2\n",
        "UA3_5A3_5 = (UA3_5A3_51+UA3_5A3_52)/2\n",
        "UA3_5A4 = (UA3_5A4_1+UA3_5A4_2)/2\n",
        "UA3_5B1 = (UA3_5B1_1+UA3_5B1_2)/2\n",
        "UA3_5B2 = (UA3_5B2_1+UA3_5B2_2)/2\n",
        "UA3_5B3 = (UA3_5B3_1+UA3_5B3_2)/2\n",
        "UA3_5B4 = (UA3_5B4_1+UA3_5B4_2)/2\n",
        "UA3_5C1 = (UA3_5C1_1+UA3_5C1_2)/2\n",
        "UA3_5C2 = (UA3_5C2_1+UA3_5C2_2)/2\n",
        "UA3_5C3 = (UA3_5C3_1+UA3_5C3_2)/2\n",
        "UA3_5C4 = (UA3_5C4_1+UA3_5C4_2)/2\n",
        "UA3_5D2 = (UA3_5D2_1+UA3_5D2_2)/2\n",
        "UA3_5D3 = (UA3_5D3_1+UA3_5D3_2)/2\n",
        "UA3_5D4 = (UA3_5D4_1+UA3_5D4_2)/2"
      ],
      "execution_count": null,
      "outputs": []
    },
    {
      "cell_type": "markdown",
      "metadata": {
        "id": "v85yIzGiJzxT"
      },
      "source": [
        "A4"
      ]
    },
    {
      "cell_type": "code",
      "metadata": {
        "id": "E1b4WXHaJ2In"
      },
      "source": [
        "UA4A1_1 = distance.euclidean(labA4_4,labA1_2)\n",
        "UA4A1_2 = distance.euclidean(labA4_5,labA1_5)\n",
        "UA4A2_1 = distance.euclidean(labA4_4,labA2_2)\n",
        "UA4A2_2 = distance.euclidean(labA4_4,labA2_7)\n",
        "UA4A3_1 = distance.euclidean(labA4_1,labA3_3)\n",
        "UA4A3_2 = distance.euclidean(labA4_5,labA3_10)\n",
        "UA4A3_51 = distance.euclidean(labA4_5,labA3_501)\n",
        "UA4A3_52 = distance.euclidean(labA4_4,labA3_505)\n",
        "UA4A4_1 = distance.euclidean(labA4_5,labA4_4)\n",
        "UA4A4_2 = distance.euclidean(labA4_9,labA4_9)\n",
        "UA4B1_1 = distance.euclidean(labA4_1,labB1_3)\n",
        "UA4B1_2 = distance.euclidean(labA4_5,labB1_5)\n",
        "UA4B2_1 = distance.euclidean(labA4_5,labB2_6)\n",
        "UA4B2_2 = distance.euclidean(labA4_1,labB2_4)\n",
        "UA4B3_1 = distance.euclidean(labA4_9,labB3_4)\n",
        "UA4B3_2 = distance.euclidean(labA4_4,labB3_9)\n",
        "UA4B4_1 = distance.euclidean(labA4_5,labB4_10)\n",
        "UA4B4_2 = distance.euclidean(labA4_1,labB4_3)\n",
        "UA4C1_1 = distance.euclidean(labA4_9,labC1_3)\n",
        "UA4C1_2 = distance.euclidean(labA4_5,labC1_9)\n",
        "UA4C2_1 = distance.euclidean(labA4_4,labC2_2)\n",
        "UA4C2_2 = distance.euclidean(labA4_5,labC2_1)\n",
        "UA4C3_1 = distance.euclidean(labA4_1,labC3_1)\n",
        "UA4C3_2 = distance.euclidean(labA4_4,labC3_9)\n",
        "UA4C4_1 = distance.euclidean(labA4_9,labC4_2)\n",
        "UA4C4_2 = distance.euclidean(labA4_1,labC4_8)\n",
        "UA4D2_1 = distance.euclidean(labA4_1,labD2_6)\n",
        "UA4D2_2 = distance.euclidean(labA4_5,labD2_7)\n",
        "UA4D3_1 = distance.euclidean(labA4_4,labD3_2)\n",
        "UA4D3_2 = distance.euclidean(labA4_9,labD3_6)\n",
        "UA4D4_1 = distance.euclidean(labA4_5,labD4_5)\n",
        "UA4D4_2 = distance.euclidean(labA4_1,labD4_7)"
      ],
      "execution_count": null,
      "outputs": []
    },
    {
      "cell_type": "code",
      "metadata": {
        "id": "wf4SX3678xN4"
      },
      "source": [
        "UA4A1 = (UA4A1_1+UA4A1_2)/2\n",
        "UA4A2 = (UA4A2_1+UA4A2_2)/2\n",
        "UA4A3 = (UA4A3_1+UA4A3_2)/2\n",
        "UA4A3_5 = (UA4A3_51+UA4A3_52)/2\n",
        "UA4A4 = (UA4A4_1+UA4A4_2)/2\n",
        "UA4B1 = (UA4B1_1+UA4B1_2)/2\n",
        "UA4B2 = (UA4B2_1+UA4B2_2)/2\n",
        "UA4B3 = (UA4B3_1+UA4B3_2)/2\n",
        "UA4B4 = (UA4B4_1+UA4B4_2)/2\n",
        "UA4C1 = (UA4C1_1+UA4C1_2)/2\n",
        "UA4C2 = (UA4C2_1+UA4C2_2)/2\n",
        "UA4C3 = (UA4C3_1+UA4C3_2)/2\n",
        "UA4C4 = (UA4C4_1+UA4C4_2)/2\n",
        "UA4D2 = (UA4D2_1+UA4D2_2)/2\n",
        "UA4D3 = (UA4D3_1+UA4D3_2)/2\n",
        "UA4D4 = (UA4D4_1+UA4D4_2)/2"
      ],
      "execution_count": null,
      "outputs": []
    },
    {
      "cell_type": "markdown",
      "metadata": {
        "id": "pdArf5nVLut6"
      },
      "source": [
        "B1"
      ]
    },
    {
      "cell_type": "code",
      "metadata": {
        "id": "XrgU5BFvLwqD"
      },
      "source": [
        "UB1A1_1 = distance.euclidean(labB1_2,labA1_2)\n",
        "UB1A1_2 = distance.euclidean(labB1_3,labA1_5)\n",
        "UB1A2_1 = distance.euclidean(labB1_5,labA2_2)\n",
        "UB1A2_2 = distance.euclidean(labB1_7,labA2_7)\n",
        "UB1A3_1 = distance.euclidean(labB1_2,labA3_3)\n",
        "UB1A3_2 = distance.euclidean(labB1_5,labA3_10)\n",
        "UB1A3_51 = distance.euclidean(labB1_5,labA3_501)\n",
        "UB1A3_52 = distance.euclidean(labB1_3,labA3_505)\n",
        "UB1A4_1 = distance.euclidean(labB1_5,labA4_4)\n",
        "UB1A4_2 = distance.euclidean(labB1_7,labA4_9)\n",
        "UB1B1_1 = distance.euclidean(labB1_2,labB1_3)\n",
        "UB1B1_2 = distance.euclidean(labA4_5,labB1_5)\n",
        "UB1B2_1 = distance.euclidean(labB1_5,labB2_6)\n",
        "UB1B2_2 = distance.euclidean(labB1_2,labB2_4)\n",
        "UB1B3_1 = distance.euclidean(labB1_7,labB3_4)\n",
        "UB1B3_2 = distance.euclidean(labB1_3,labB3_9)\n",
        "UB1B4_1 = distance.euclidean(labB1_5,labB4_10)\n",
        "UB1B4_2 = distance.euclidean(labB1_2,labB4_3)\n",
        "UB1C1_1 = distance.euclidean(labB1_7,labC1_3)\n",
        "UB1C1_2 = distance.euclidean(labB1_5,labC1_9)\n",
        "UB1C2_1 = distance.euclidean(labB1_3,labC2_2)\n",
        "UB1C2_2 = distance.euclidean(labB1_5,labC2_1)\n",
        "UB1C3_1 = distance.euclidean(labB1_3,labC3_1)\n",
        "UB1C3_2 = distance.euclidean(labB1_3,labC3_9)\n",
        "UB1C4_1 = distance.euclidean(labB1_7,labC4_2)\n",
        "UB1C4_2 = distance.euclidean(labB1_2,labC4_8)\n",
        "UB1D2_1 = distance.euclidean(labB1_3,labD2_6)\n",
        "UB1D2_2 = distance.euclidean(labB1_5,labD2_7)\n",
        "UB1D3_1 = distance.euclidean(labB1_3,labD3_2)\n",
        "UB1D3_2 = distance.euclidean(labB1_7,labD3_6)\n",
        "UB1D4_1 = distance.euclidean(labB1_5,labD4_5)\n",
        "UB1D4_2 = distance.euclidean(labB1_2,labD4_7)"
      ],
      "execution_count": null,
      "outputs": []
    },
    {
      "cell_type": "code",
      "metadata": {
        "id": "-bVweXXn9WSK"
      },
      "source": [
        "UB1A1 = (UB1A1_1+UB1A1_2)/2\n",
        "UB1A2 = (UB1A2_1+UB1A2_2)/2\n",
        "UB1A3 = (UB1A3_1+UB1A3_2)/2\n",
        "UB1A3_5 = (UB1A3_51+UB1A3_52)/2\n",
        "UB1A4 = (UB1A4_1+UB1A4_2)/2\n",
        "UB1B1 = (UB1B1_1+UB1B1_2)/2\n",
        "UB1B2 = (UB1B2_1+UB1B2_2)/2\n",
        "UB1B3 = (UB1B3_1+UB1B3_2)/2\n",
        "UB1B4 = (UB1B4_1+UB1B4_2)/2\n",
        "UB1C1 = (UB1C1_1+UB1C1_2)/2\n",
        "UB1C2 = (UB1C2_1+UB1C2_2)/2\n",
        "UB1C3 = (UB1C3_1+UB1C3_2)/2\n",
        "UB1C4 = (UB1C4_1+UB1C4_2)/2\n",
        "UB1D2 = (UB1D2_1+UB1D2_2)/2\n",
        "UB1D3 = (UB1D3_1+UB1D3_2)/2\n",
        "UB1D4 = (UB1D4_1+UB1D4_2)/2"
      ],
      "execution_count": null,
      "outputs": []
    },
    {
      "cell_type": "markdown",
      "metadata": {
        "id": "QsTUZnxhQfyq"
      },
      "source": [
        "B2"
      ]
    },
    {
      "cell_type": "code",
      "metadata": {
        "id": "rLZXm0gQQiLG"
      },
      "source": [
        "UB2A1_1 = distance.euclidean(labB2_1,labA1_2)\n",
        "UB2A1_2 = distance.euclidean(labB2_3,labA1_6)\n",
        "UB2A2_1 = distance.euclidean(labB2_4,labA2_2)\n",
        "UB2A2_2 = distance.euclidean(labB2_6,labA2_4)\n",
        "UB2A3_1 = distance.euclidean(labB2_1,labA3_3)\n",
        "UB2A3_2 = distance.euclidean(labB2_3,labA3_8)\n",
        "UB2A3_51 = distance.euclidean(labB2_4,labA3_501)\n",
        "UB2A3_52 = distance.euclidean(labB2_6,labA3_505)\n",
        "UB2A4_1 = distance.euclidean(labB2_1,labA4_4)\n",
        "UB2A4_2 = distance.euclidean(labB2_4,labA4_9)\n",
        "UB2B1_1 = distance.euclidean(labB2_3,labB1_2)\n",
        "UB2B1_2 = distance.euclidean(labB2_6,labB1_5)\n",
        "UB2B2_1 = distance.euclidean(labB2_1,labB2_3)\n",
        "UB2B2_2 = distance.euclidean(labB2_4,labB2_4)\n",
        "UB2B3_1 = distance.euclidean(labB2_6,labB3_8)\n",
        "UB2B3_2 = distance.euclidean(labB2_3,labB3_9)\n",
        "UB2B4_1 = distance.euclidean(labB2_1,labB4_2)\n",
        "UB2B4_2 = distance.euclidean(labB2_4,labB4_7)\n",
        "UB2C1_1 = distance.euclidean(labB2_3,labC1_3)\n",
        "UB2C1_2 = distance.euclidean(labB2_6,labC1_6)\n",
        "UB2C2_1 = distance.euclidean(labB2_1,labC2_5)\n",
        "UB2C2_2 = distance.euclidean(labB2_4,labC2_10)\n",
        "UB2C3_1 = distance.euclidean(labB2_6,labC3_1)\n",
        "UB2C3_2 = distance.euclidean(labB2_3,labC3_6)\n",
        "UB2C4_1 = distance.euclidean(labB2_1,labC4_2)\n",
        "UB2C4_2 = distance.euclidean(labB2_4,labC4_8)\n",
        "UB2D2_1 = distance.euclidean(labB2_3,labD2_6)\n",
        "UB2D2_2 = distance.euclidean(labB2_6,labD2_7)\n",
        "UB2D3_1 = distance.euclidean(labB2_1,labD3_5)\n",
        "UB2D3_2 = distance.euclidean(labB2_4,labD3_6)\n",
        "UB2D4_1 = distance.euclidean(labB2_3,labD4_5)\n",
        "UB2D4_2 = distance.euclidean(labB2_3,labD4_9)"
      ],
      "execution_count": null,
      "outputs": []
    },
    {
      "cell_type": "code",
      "metadata": {
        "id": "KtwDJ-Ue9p0h"
      },
      "source": [
        "UB2A1 = (UB2A1_1+UB2A1_2)/2\n",
        "UB2A2 = (UB2A2_1+UB2A2_2)/2\n",
        "UB2A3 = (UB1A3_1+UB2A3_2)/2\n",
        "UB2A3_5 = (UB2A3_51+UB2A3_52)/2\n",
        "UB2A4 = (UB2A4_1+UB2A4_2)/2\n",
        "UB2B1 = (UB2B1_1+UB2B1_2)/2\n",
        "UB2B2 = (UB2B2_1+UB2B2_2)/2\n",
        "UB2B3 = (UB2B3_1+UB2B3_2)/2\n",
        "UB2B4 = (UB2B4_1+UB2B4_2)/2\n",
        "UB2C1 = (UB2C1_1+UB2C1_2)/2\n",
        "UB2C2 = (UB2C2_1+UB2C2_2)/2\n",
        "UB2C3 = (UB2C3_1+UB2C3_2)/2\n",
        "UB2C4 = (UB2C4_1+UB2C4_2)/2\n",
        "UB2D2 = (UB2D2_1+UB2D2_2)/2\n",
        "UB2D3 = (UB2D3_1+UB2D3_2)/2\n",
        "UB2D4 = (UB2D4_1+UB2D4_2)/2"
      ],
      "execution_count": null,
      "outputs": []
    },
    {
      "cell_type": "markdown",
      "metadata": {
        "id": "MXY-OV4gUmdw"
      },
      "source": [
        "B3"
      ]
    },
    {
      "cell_type": "code",
      "metadata": {
        "id": "pUUKgK1xUsJo"
      },
      "source": [
        "UB3A1_1 = distance.euclidean(labB3_1,labA1_2)\n",
        "UB3A1_2 = distance.euclidean(labB3_4,labA1_5)\n",
        "UB3A2_1 = distance.euclidean(labB3_8,labA2_2)\n",
        "UB3A2_2 = distance.euclidean(labB3_9,labA2_7)\n",
        "UB3A3_1 = distance.euclidean(labB1_2,labA3_3)\n",
        "UB3A3_2 = distance.euclidean(labB3_1,labA3_10)\n",
        "UB3A3_51 = distance.euclidean(labB3_1,labA3_507)\n",
        "UB3A3_52 = distance.euclidean(labB3_4,labA3_505)\n",
        "UB3A4_1 = distance.euclidean(labB3_1,labA4_4)\n",
        "UB3A4_2 = distance.euclidean(labB3_9,labA4_9)\n",
        "UB3B1_1 = distance.euclidean(labB3_8,labB1_3)\n",
        "UB3B1_2 = distance.euclidean(labB3_9,labB1_5)\n",
        "UB3B2_1 = distance.euclidean(labB3_1,labB2_6)\n",
        "UB3B2_2 = distance.euclidean(labB3_8,labB2_4)\n",
        "UB3B3_1 = distance.euclidean(labB3_9,labB3_4)\n",
        "UB3B3_2 = distance.euclidean(labB3_4,labB3_9)\n",
        "UB3B4_1 = distance.euclidean(labB3_1,labB4_10)\n",
        "UB3B4_2 = distance.euclidean(labB3_8,labB4_3)\n",
        "UB3C1_1 = distance.euclidean(labB3_1,labC1_3)\n",
        "UB3C1_2 = distance.euclidean(labB3_9,labC1_6)\n",
        "UB3C2_1 = distance.euclidean(labB3_4,labC2_2)\n",
        "UB3C2_2 = distance.euclidean(labB3_1,labC2_1)\n",
        "UB3C3_1 = distance.euclidean(labB3_4,labC3_1)\n",
        "UB3C3_2 = distance.euclidean(labB3_4,labC3_9)\n",
        "UB3C4_1 = distance.euclidean(labB3_9,labC4_2)\n",
        "UB3C4_2 = distance.euclidean(labB3_8,labC4_8)\n",
        "UB3D2_1 = distance.euclidean(labB3_4,labD2_6)\n",
        "UB3D2_2 = distance.euclidean(labB3_1,labD2_7)\n",
        "UB3D3_1 = distance.euclidean(labB3_4,labD3_2)\n",
        "UB3D3_2 = distance.euclidean(labB3_9,labD3_6)\n",
        "UB3D4_1 = distance.euclidean(labB3_1,labD4_5)\n",
        "UB3D4_2 = distance.euclidean(labB3_8,labD4_7)"
      ],
      "execution_count": null,
      "outputs": []
    },
    {
      "cell_type": "code",
      "metadata": {
        "id": "LbWbEIYY-LDk"
      },
      "source": [
        "UB3A1 = (UB3A1_1+UB3A1_2)/2\n",
        "UB3A2 = (UB3A2_1+UB3A2_2)/2\n",
        "UB3A3 = (UB3A3_1+UB3A3_2)/2\n",
        "UB3A3_5 = (UB3A3_51+UB3A3_52)/2\n",
        "UB3A4 = (UB3A4_1+UB3A4_2)/2\n",
        "UB3B1 = (UB3B1_1+UB3B1_2)/2\n",
        "UB3B2 = (UB3B2_1+UB3B2_2)/2\n",
        "UB3B3 = (UB3B3_1+UB3B3_2)/2\n",
        "UB3B4 = (UB3B4_1+UB3B4_2)/2\n",
        "UB3C1 = (UB3C1_1+UB3C1_2)/2\n",
        "UB3C2 = (UB3C2_1+UB3C2_2)/2\n",
        "UB3C3 = (UB3C3_1+UB3C3_2)/2\n",
        "UB3C4 = (UB3C4_1+UB3C4_2)/2\n",
        "UB3D2 = (UB3D2_1+UB3D2_2)/2\n",
        "UB3D3 = (UB3D3_1+UB3D3_2)/2\n",
        "UB3D4 = (UB3D4_1+UB3D4_2)/2"
      ],
      "execution_count": null,
      "outputs": []
    },
    {
      "cell_type": "markdown",
      "metadata": {
        "id": "iw4iZKK5Un4u"
      },
      "source": [
        "B4"
      ]
    },
    {
      "cell_type": "code",
      "metadata": {
        "id": "gM2lJOfcUsbO"
      },
      "source": [
        "UB4A1_1 = distance.euclidean(labB4_2,labA1_2)\n",
        "UB4A1_2 = distance.euclidean(labB4_3,labA1_6)\n",
        "UB4A2_1 = distance.euclidean(labB4_7,labA2_2)\n",
        "UB4A2_2 = distance.euclidean(labB4_10,labA2_4)\n",
        "UB4A3_1 = distance.euclidean(labB4_2,labA3_3)\n",
        "UB4A3_2 = distance.euclidean(labB4_3,labA3_8)\n",
        "UB4A3_51 = distance.euclidean(labB4_2,labA3_507)\n",
        "UB4A3_52 = distance.euclidean(labB4_7,labA3_505)\n",
        "UB4A4_1 = distance.euclidean(labB4_2,labA4_4)\n",
        "UB4A4_2 = distance.euclidean(labB4_10,labA4_9)\n",
        "UB4B1_1 = distance.euclidean(labB4_3,labB1_2)\n",
        "UB4B1_2 = distance.euclidean(labB4_7,labB1_5)\n",
        "UB4B2_1 = distance.euclidean(labB4_2,labB2_3)\n",
        "UB4B2_2 = distance.euclidean(labB4_10,labB2_4)\n",
        "UB4B3_1 = distance.euclidean(labB4_7,labB3_8)\n",
        "UB4B3_2 = distance.euclidean(labB4_3,labB3_9)\n",
        "UB4B4_1 = distance.euclidean(labB4_2,labB4_2)\n",
        "UB4B4_2 = distance.euclidean(labB4_10,labB4_7)\n",
        "UB4C1_1 = distance.euclidean(labB4_3,labC1_3)\n",
        "UB4C1_2 = distance.euclidean(labB4_7,labC1_6)\n",
        "UB4C2_1 = distance.euclidean(labB4_2,labC2_5)\n",
        "UB4C2_2 = distance.euclidean(labB4_10,labC2_10)\n",
        "UB4C3_1 = distance.euclidean(labB4_7,labC3_1)\n",
        "UB4C3_2 = distance.euclidean(labB4_3,labC3_6)\n",
        "UB4C4_1 = distance.euclidean(labB4_2,labC4_2)\n",
        "UB4C4_2 = distance.euclidean(labB4_10,labC4_8)\n",
        "UB4D2_1 = distance.euclidean(labB4_3,labD2_6)\n",
        "UB4D2_2 = distance.euclidean(labB4_7,labD2_7)\n",
        "UB4D3_1 = distance.euclidean(labB4_2,labD3_5)\n",
        "UB4D3_2 = distance.euclidean(labB4_10,labD3_6)\n",
        "UB4D4_1 = distance.euclidean(labB4_3,labD4_5)\n",
        "UB4D4_2 = distance.euclidean(labB4_10,labD4_9)"
      ],
      "execution_count": null,
      "outputs": []
    },
    {
      "cell_type": "code",
      "metadata": {
        "id": "IiacfVn_-fE4"
      },
      "source": [
        "UB4A1 = (UB4A1_1+UB4A1_2)/2\n",
        "UB4A2 = (UB4A2_1+UB4A2_2)/2\n",
        "UB4A3 = (UB4A3_1+UB4A3_2)/2\n",
        "UB4A3_5 = (UB4A3_51+UB4A3_52)/2\n",
        "UB4A4 = (UB4A4_1+UB4A4_2)/2\n",
        "UB4B1 = (UB4B1_1+UB4B1_2)/2\n",
        "UB4B2 = (UB4B2_1+UB4B2_2)/2\n",
        "UB4B3 = (UB4B3_1+UB4B3_2)/2\n",
        "UB4B4 = (UB4B4_1+UB4B4_2)/2\n",
        "UB4C1 = (UB4C1_1+UB4C1_2)/2\n",
        "UB4C2 = (UB4C2_1+UB4C2_2)/2\n",
        "UB4C3 = (UB4C3_1+UB4C3_2)/2\n",
        "UB4C4 = (UB4C4_1+UB4C4_2)/2\n",
        "UB4D2 = (UB4D2_1+UB4D2_2)/2\n",
        "UB4D3 = (UB4D3_1+UB4D3_2)/2\n",
        "UB4D4 = (UB4D4_1+UB4D4_2)/2"
      ],
      "execution_count": null,
      "outputs": []
    },
    {
      "cell_type": "markdown",
      "metadata": {
        "id": "PmgWHgMPUozB"
      },
      "source": [
        "C1"
      ]
    },
    {
      "cell_type": "markdown",
      "metadata": {
        "id": "s1IRvmP6qYQJ"
      },
      "source": [
        "A101 A102 A105 A106 A202 A204 A207 A208 A303 A307 A308 A310 A3_501 A3_505 A3_507 A3_510 A401 A404 A405 A409\n",
        "B102 B103 B105 B107 B201 B203 B204 B206 B301 B304 B308 B309 B402 B403 B407 B410"
      ]
    },
    {
      "cell_type": "markdown",
      "metadata": {
        "id": "B0WoP6EYqbCh"
      },
      "source": [
        "C103 C106 C107 C109 C201 C202 C205 C210 C301 C303 C306 C309 \n",
        "C402 C405 C408 C409 D204 D206 D207 D209 D310 D302 D305 D306 D401 D405 D407 D409 "
      ]
    },
    {
      "cell_type": "code",
      "metadata": {
        "id": "rQk8U9jcUszY"
      },
      "source": [
        "UC1A1_1 = distance.euclidean(labC1_3,labA1_2)\n",
        "UC1A1_2 = distance.euclidean(labC1_6,labA1_5)\n",
        "UC1A2_1 = distance.euclidean(labC1_7,labA2_2)\n",
        "UC1A2_2 = distance.euclidean(labC1_9,labA2_7)\n",
        "UC1A3_1 = distance.euclidean(labC1_6,labA3_3)\n",
        "UC1A3_2 = distance.euclidean(labC1_3,labA3_10)\n",
        "UC1A3_51 = distance.euclidean(labC1_3,labA3_501)\n",
        "UC1A3_52 = distance.euclidean(labC1_6,labA3_505)\n",
        "UC1A4_1 = distance.euclidean(labC1_3,labA4_4)\n",
        "UC1A4_2 = distance.euclidean(labC1_9,labA4_9)\n",
        "UC1B1_1 = distance.euclidean(labC1_7,labB1_3)\n",
        "UC1B1_2 = distance.euclidean(labC1_9,labB1_5)\n",
        "UC1B2_1 = distance.euclidean(labC1_3,labB2_6)\n",
        "UC1B2_2 = distance.euclidean(labC1_6,labB2_4)\n",
        "UC1B3_1 = distance.euclidean(labC1_9,labB3_4)\n",
        "UC1B3_2 = distance.euclidean(labC1_6,labB3_9)\n",
        "UC1B4_1 = distance.euclidean(labC1_3,labB4_10)\n",
        "UC1B4_2 = distance.euclidean(labC1_7,labB4_3)\n",
        "UC1C1_1 = distance.euclidean(labC1_3,labC1_6)\n",
        "UC1C1_2 = distance.euclidean(labC1_9,labC1_7)\n",
        "UC1C2_1 = distance.euclidean(labC1_7,labC2_2)\n",
        "UC1C2_2 = distance.euclidean(labC1_3,labC2_1)\n",
        "UC1C3_1 = distance.euclidean(labC1_6,labC3_1)\n",
        "UC1C3_2 = distance.euclidean(labC1_7,labC3_9)\n",
        "UC1C4_1 = distance.euclidean(labC1_9,labC4_2)\n",
        "UC1C4_2 = distance.euclidean(labC1_7,labC4_8)\n",
        "UC1D2_1 = distance.euclidean(labC1_6,labD2_9)\n",
        "UC1D2_2 = distance.euclidean(labC1_3,labD2_7)\n",
        "UC1D3_1 = distance.euclidean(labC1_6,labD3_2)\n",
        "UC1D3_2 = distance.euclidean(labC1_9,labD3_6)\n",
        "UC1D4_1 = distance.euclidean(labC1_3,labD4_5)\n",
        "UC1D4_2 = distance.euclidean(labC1_7,labD4_7)"
      ],
      "execution_count": null,
      "outputs": []
    },
    {
      "cell_type": "code",
      "metadata": {
        "id": "jorLjOmg_BwS"
      },
      "source": [
        "UC1A1 = (UC1A1_1+UC1A1_2)/2\n",
        "UC1A2 = (UC1A2_1+UC1A2_2)/2\n",
        "UC1A3 = (UC1A3_1+UC1A3_2)/2\n",
        "UC1A3_5 = (UC1A3_51+UC1A3_52)/2\n",
        "UC1A4 = (UC1A4_1+UC1A4_2)/2\n",
        "UC1B1 = (UC1B1_1+UC1B1_2)/2\n",
        "UC1B2 = (UC1B2_1+UC1B2_2)/2\n",
        "UC1B3 = (UC1B3_1+UC1B3_2)/2\n",
        "UC1B4 = (UC1B4_1+UC1B4_2)/2\n",
        "UC1C1 = (UC1C1_1+UC1C1_2)/2\n",
        "UC1C2 = (UC1C2_1+UC1C2_2)/2\n",
        "UC1C3 = (UC1C3_1+UC1C3_2)/2\n",
        "UC1C4 = (UC1C4_1+UC1C4_2)/2\n",
        "UC1D2 = (UC1D2_1+UC1D2_2)/2\n",
        "UC1D3 = (UC1D3_1+UC1D3_2)/2\n",
        "UC1D4 = (UC1D4_1+UC1D4_2)/2"
      ],
      "execution_count": null,
      "outputs": []
    },
    {
      "cell_type": "markdown",
      "metadata": {
        "id": "lBdF6_flUpoR"
      },
      "source": [
        "C2"
      ]
    },
    {
      "cell_type": "code",
      "metadata": {
        "id": "O_xvI_EAUtNc"
      },
      "source": [
        "UC2A1_1 = distance.euclidean(labC2_1,labA1_2)\n",
        "UC2A1_2 = distance.euclidean(labC2_2,labA1_6)\n",
        "UC2A2_1 = distance.euclidean(labC2_5,labA2_2)\n",
        "UC2A2_2 = distance.euclidean(labC2_10,labA2_4)\n",
        "UC2A3_1 = distance.euclidean(labC2_1,labA3_3)\n",
        "UC2A3_2 = distance.euclidean(labC2_10,labA3_8)\n",
        "UC2A3_51 = distance.euclidean(labC2_10,labA3_501)\n",
        "UC2A3_52 = distance.euclidean(labC2_5,labA3_505)\n",
        "UC2A4_1 = distance.euclidean(labC2_1,labA4_4)\n",
        "UC2A4_2 = distance.euclidean(labC2_2,labA4_9)\n",
        "UC2B1_1 = distance.euclidean(labC2_10,labB1_2)\n",
        "UC2B1_2 = distance.euclidean(labC2_5,labB1_5)\n",
        "UC2B2_1 = distance.euclidean(labC2_1,labB2_3)\n",
        "UC2B2_2 = distance.euclidean(labC2_2,labB2_4)\n",
        "UC2B3_1 = distance.euclidean(labC2_5,labB3_8)\n",
        "UC2B3_2 = distance.euclidean(labC2_10,labB3_9)\n",
        "UC2B4_1 = distance.euclidean(labC2_1,labB4_2)\n",
        "UC2B4_2 = distance.euclidean(labC2_2,labB4_7)\n",
        "UC2C1_1 = distance.euclidean(labC2_10,labC1_3)\n",
        "UC2C1_2 = distance.euclidean(labC2_5,labC1_6)\n",
        "UC2C2_1 = distance.euclidean(labC2_1,labC2_5)\n",
        "UC2C2_2 = distance.euclidean(labC2_2,labC2_10)\n",
        "UC2C3_1 = distance.euclidean(labC2_5,labC3_1)\n",
        "UC2C3_2 = distance.euclidean(labC2_10,labC3_6)\n",
        "UC2C4_1 = distance.euclidean(labC2_1,labC4_2)\n",
        "UC2C4_2 = distance.euclidean(labC2_2,labC4_8)\n",
        "UC2D2_1 = distance.euclidean(labC2_10,labD2_6)\n",
        "UC2D2_2 = distance.euclidean(labC2_5,labD2_7)\n",
        "UC2D3_1 = distance.euclidean(labC2_1,labD3_5)\n",
        "UC2D3_2 = distance.euclidean(labC2_2,labD3_6)\n",
        "UC2D4_1 = distance.euclidean(labC2_10,labD4_5)\n",
        "UC2D4_2 = distance.euclidean(labC2_2,labD4_9)"
      ],
      "execution_count": null,
      "outputs": []
    },
    {
      "cell_type": "code",
      "metadata": {
        "id": "UUrlUEXB_UY3"
      },
      "source": [
        "UC2A1 = (UC2A1_1+UC2A1_2)/2\n",
        "UC2A2 = (UC2A2_1+UC2A2_2)/2\n",
        "UC2A3 = (UC2A3_1+UC2A3_2)/2\n",
        "UC2A3_5 = (UC1A3_51+UC2A3_52)/2\n",
        "UC2A4 = (UC2A4_1+UC2A4_2)/2\n",
        "UC2B1 = (UC2B1_1+UC2B1_2)/2\n",
        "UC2B2 = (UC2B2_1+UC2B2_2)/2\n",
        "UC2B3 = (UC2B3_1+UC2B3_2)/2\n",
        "UC2B4 = (UC2B4_1+UC2B4_2)/2\n",
        "UC2C1 = (UC2C1_1+UC2C1_2)/2\n",
        "UC2C2 = (UC2C2_1+UC2C2_2)/2\n",
        "UC2C3 = (UC2C3_1+UC2C3_2)/2\n",
        "UC2C4 = (UC2C4_1+UC2C4_2)/2\n",
        "UC2D2 = (UC2D2_1+UC2D2_2)/2\n",
        "UC2D3 = (UC2D3_1+UC2D3_2)/2\n",
        "UC2D4 = (UC2D4_1+UC2D4_2)/2"
      ],
      "execution_count": null,
      "outputs": []
    },
    {
      "cell_type": "markdown",
      "metadata": {
        "id": "F8Ejgtt3Uqmj"
      },
      "source": [
        "C3"
      ]
    },
    {
      "cell_type": "code",
      "metadata": {
        "id": "38-IdhF0Utwm"
      },
      "source": [
        "UC3A1_1 = distance.euclidean(labC3_3,labA1_2)\n",
        "UC3A1_2 = distance.euclidean(labC3_6,labA1_5)\n",
        "UC3A2_1 = distance.euclidean(labC3_1,labA2_2)\n",
        "UC3A2_2 = distance.euclidean(labC3_9,labA2_7)\n",
        "UC3A3_1 = distance.euclidean(labC3_1,labA3_8)\n",
        "UC3A3_2 = distance.euclidean(labC3_3,labA3_10)\n",
        "UC3A3_51 = distance.euclidean(labC3_3,labA3_501)\n",
        "UC3A3_52 = distance.euclidean(labC3_6,labA3_505)\n",
        "UC3A4_1 = distance.euclidean(labC3_3,labA4_4)\n",
        "UC3A4_2 = distance.euclidean(labC3_9,labA4_9)\n",
        "UC3B1_1 = distance.euclidean(labC3_1,labB1_3)\n",
        "UC3B1_2 = distance.euclidean(labC3_9,labB1_5)\n",
        "UC3B2_1 = distance.euclidean(labC3_3,labB2_6)\n",
        "UC3B2_2 = distance.euclidean(labC3_6,labB2_4)\n",
        "UC3B3_1 = distance.euclidean(labC3_9,labB3_4)\n",
        "UC3B3_2 = distance.euclidean(labC3_6,labB3_9)\n",
        "UC3B4_1 = distance.euclidean(labC3_3,labB4_10)\n",
        "UC3B4_2 = distance.euclidean(labC3_1,labB4_3)\n",
        "UC3C1_1 = distance.euclidean(labC3_3,labC1_9)\n",
        "UC3C1_2 = distance.euclidean(labC3_9,labC1_7)\n",
        "UC3C2_1 = distance.euclidean(labC3_1,labC2_2)\n",
        "UC3C2_2 = distance.euclidean(labC3_3,labC2_1)\n",
        "UC3C3_1 = distance.euclidean(labC3_6,labC3_3)\n",
        "UC3C3_2 = distance.euclidean(labC3_1,labC3_9)\n",
        "UC3C4_1 = distance.euclidean(labC3_9,labC4_2)\n",
        "UC3C4_2 = distance.euclidean(labC3_1,labC4_8)\n",
        "UC3D2_1 = distance.euclidean(labC3_1,labD2_6)\n",
        "UC3D2_2 = distance.euclidean(labC3_3,labD2_7)\n",
        "UC3D3_1 = distance.euclidean(labC3_6,labD3_2)\n",
        "UC3D3_2 = distance.euclidean(labC3_9,labD3_6)\n",
        "UC3D4_1 = distance.euclidean(labC3_3,labD4_5)\n",
        "UC3D4_2 = distance.euclidean(labC3_1,labD4_7)"
      ],
      "execution_count": null,
      "outputs": []
    },
    {
      "cell_type": "code",
      "metadata": {
        "id": "dqtJNCHDABdO"
      },
      "source": [
        "UC3A1 = (UC3A1_1+UC3A1_2)/2\n",
        "UC3A2 = (UC3A2_1+UC3A2_2)/2\n",
        "UC3A3 = (UC3A3_1+UC3A3_2)/2\n",
        "UC3A3_5 = (UC3A3_51+UC3A3_52)/2\n",
        "UC3A4 = (UC3A4_1+UC3A4_2)/2\n",
        "UC3B1 = (UC3B1_1+UC3B1_2)/2\n",
        "UC3B2 = (UC3B2_1+UC3B2_2)/2\n",
        "UC3B3 = (UC3B3_1+UC3B3_2)/2\n",
        "UC3B4 = (UC3B4_1+UC3B4_2)/2\n",
        "UC3C1 = (UC3C1_1+UC3C1_2)/2\n",
        "UC3C2 = (UC3C2_1+UC3C2_2)/2\n",
        "UC3C3 = (UC3C3_1+UC3C3_2)/2\n",
        "UC3C4 = (UC3C4_1+UC3C4_2)/2\n",
        "UC3D2 = (UC3D2_1+UC3D2_2)/2\n",
        "UC3D3 = (UC3D3_1+UC3D3_2)/2\n",
        "UC3D4 = (UC3D4_1+UC3D4_2)/2"
      ],
      "execution_count": null,
      "outputs": []
    },
    {
      "cell_type": "markdown",
      "metadata": {
        "id": "5nvt2loHUrVG"
      },
      "source": [
        "C4"
      ]
    },
    {
      "cell_type": "code",
      "metadata": {
        "id": "w1up6legUuR4"
      },
      "source": [
        "UC4A1_1 = distance.euclidean(labC4_8,labA1_2)\n",
        "UC4A1_2 = distance.euclidean(labC4_2,labA1_6)\n",
        "UC4A2_1 = distance.euclidean(labC4_5,labA2_2)\n",
        "UC4A2_2 = distance.euclidean(labC4_9,labA2_4)\n",
        "UC4A3_1 = distance.euclidean(labC4_8,labA3_3)\n",
        "UC4A3_2 = distance.euclidean(labC4_9,labA3_8)\n",
        "UC4A3_51 = distance.euclidean(labC4_2,labA3_501)\n",
        "UC4A3_52 = distance.euclidean(labC4_5,labA3_505)\n",
        "UC4A4_1 = distance.euclidean(labC4_8,labA4_4)\n",
        "UC4A4_2 = distance.euclidean(labC4_2,labA4_9)\n",
        "UC4B1_1 = distance.euclidean(labC4_9,labB1_2)\n",
        "UC4B1_2 = distance.euclidean(labC4_5,labB1_5)\n",
        "UC4B2_1 = distance.euclidean(labC4_8,labB2_3)\n",
        "UC4B2_2 = distance.euclidean(labC4_2,labB2_4)\n",
        "UC4B3_1 = distance.euclidean(labC4_5,labB3_8)\n",
        "UC4B3_2 = distance.euclidean(labC4_9,labB3_9)\n",
        "UC4B4_1 = distance.euclidean(labC4_8,labB4_2)\n",
        "UC4B4_2 = distance.euclidean(labC4_2,labB4_7)\n",
        "UC4C1_1 = distance.euclidean(labC4_9,labC1_3)\n",
        "UC4C1_2 = distance.euclidean(labC4_5,labC1_6)\n",
        "UC4C2_1 = distance.euclidean(labC4_8,labC2_5)\n",
        "UC4C2_2 = distance.euclidean(labC4_2,labC2_10)\n",
        "UC4C3_1 = distance.euclidean(labC4_5,labC3_1)\n",
        "UC4C3_2 = distance.euclidean(labC4_9,labC3_6)\n",
        "UC4C4_1 = distance.euclidean(labC4_8,labC4_2)\n",
        "UC4C4_2 = distance.euclidean(labC4_2,labC4_8)\n",
        "UC4D2_1 = distance.euclidean(labC4_9,labD2_6)\n",
        "UC4D2_2 = distance.euclidean(labC4_5,labD2_7)\n",
        "UC4D3_1 = distance.euclidean(labC4_8,labD3_5)\n",
        "UC4D3_2 = distance.euclidean(labC4_2,labD3_6)\n",
        "UC4D4_1 = distance.euclidean(labC4_9,labD4_5)\n",
        "UC4D4_2 = distance.euclidean(labC4_2,labD4_9)"
      ],
      "execution_count": null,
      "outputs": []
    },
    {
      "cell_type": "code",
      "metadata": {
        "id": "I1kFapTLAUuW"
      },
      "source": [
        "UC4A1 = (UC4A1_1+UC4A1_2)/2\n",
        "UC4A2 = (UC4A2_1+UC4A2_2)/2\n",
        "UC4A3 = (UC4A3_1+UC4A3_2)/2\n",
        "UC4A3_5 = (UC4A3_51+UC4A3_52)/2\n",
        "UC4A4 = (UC4A4_1+UC4A4_2)/2\n",
        "UC4B1 = (UC4B1_1+UC4B1_2)/2\n",
        "UC4B2 = (UC4B2_1+UC4B2_2)/2\n",
        "UC4B3 = (UC4B3_1+UC4B3_2)/2\n",
        "UC4B4 = (UC4B4_1+UC4B4_2)/2\n",
        "UC4C1 = (UC4C1_1+UC4C1_2)/2\n",
        "UC4C2 = (UC4C2_1+UC4C2_2)/2\n",
        "UC4C3 = (UC4C3_1+UC4C3_2)/2\n",
        "UC4C4 = (UC4C4_1+UC4C4_2)/2\n",
        "UC4D2 = (UC4D2_1+UC4D2_2)/2\n",
        "UC4D3 = (UC4D3_1+UC4D3_2)/2\n",
        "UC4D4 = (UC4D4_1+UC4D4_2)/2"
      ],
      "execution_count": null,
      "outputs": []
    },
    {
      "cell_type": "markdown",
      "metadata": {
        "id": "inQrkkdTc3mZ"
      },
      "source": [
        "D2"
      ]
    },
    {
      "cell_type": "code",
      "metadata": {
        "id": "q1NczpMZc4kw"
      },
      "source": [
        "UD2A1_1 = distance.euclidean(labD2_4,labA1_2)\n",
        "UD2A1_2 = distance.euclidean(labD2_6,labA1_5)\n",
        "UD2A2_1 = distance.euclidean(labD2_7,labA2_2)\n",
        "UD2A2_2 = distance.euclidean(labD2_9,labA2_7)\n",
        "UD2A3_1 = distance.euclidean(labD2_4,labA3_3)\n",
        "UD2A3_2 = distance.euclidean(labD2_6,labA3_10)\n",
        "UD2A3_51 = distance.euclidean(labD2_7,labA3_501)\n",
        "UD2A3_52 = distance.euclidean(labD2_6,labA3_505)\n",
        "UD2A4_1 = distance.euclidean(labD2_4,labA4_4)\n",
        "UD2A4_2 = distance.euclidean(labD2_9,labA4_9)\n",
        "UD2B1_1 = distance.euclidean(labD2_4,labB1_3)\n",
        "UD2B1_2 = distance.euclidean(labD2_9,labB1_5)\n",
        "UD2B2_1 = distance.euclidean(labD2_7,labB2_6)\n",
        "UD2B2_2 = distance.euclidean(labD2_6,labB2_4)\n",
        "UD2B3_1 = distance.euclidean(labD2_9,labB3_4)\n",
        "UD2B3_2 = distance.euclidean(labD2_6,labB3_9)\n",
        "UD2B4_1 = distance.euclidean(labD2_7,labB4_10)\n",
        "UD2B4_2 = distance.euclidean(labD2_4,labB4_3)\n",
        "UD2C1_1 = distance.euclidean(labD2_6,labC1_6)\n",
        "UD2C1_2 = distance.euclidean(labD2_9,labC1_3)\n",
        "UD2C2_1 = distance.euclidean(labD2_4,labC2_2)\n",
        "UD2C2_2 = distance.euclidean(labD2_7,labC2_1)\n",
        "UD2C3_1 = distance.euclidean(labD2_6,labC3_3)\n",
        "UD2C3_2 = distance.euclidean(labD2_4,labC3_9)\n",
        "UD2C4_1 = distance.euclidean(labD2_9,labC4_2)\n",
        "UD2C4_2 = distance.euclidean(labD2_7,labC4_8)\n",
        "UD2D2_1 = distance.euclidean(labD2_4,labD2_6)\n",
        "UD2D2_2 = distance.euclidean(labD2_9,labD2_7)\n",
        "UD2D3_1 = distance.euclidean(labD2_6,labD3_2)\n",
        "UD2D3_2 = distance.euclidean(labD2_9,labD3_6)\n",
        "UD2D4_1 = distance.euclidean(labD2_7,labD4_5)\n",
        "UD2D4_2 = distance.euclidean(labD2_4,labD4_7)"
      ],
      "execution_count": null,
      "outputs": []
    },
    {
      "cell_type": "code",
      "metadata": {
        "id": "zXE0HzZhCxFq"
      },
      "source": [
        "UD2A1 = (UD2A1_1+UD2A1_2)/2\n",
        "UD2A2 = (UD2A2_1+UD2A2_2)/2\n",
        "UD2A3 = (UD2A3_1+UD2A3_2)/2\n",
        "UD2A3_5 = (UD2A3_51+UD2A3_52)/2\n",
        "UD2A4 = (UD2A4_1+UD2A4_2)/2\n",
        "UD2B1 = (UD2B1_1+UD2B1_2)/2\n",
        "UD2B2 = (UD2B2_1+UD2B2_2)/2\n",
        "UD2B3 = (UD2B3_1+UD2B3_2)/2\n",
        "UD2B4 = (UD2B4_1+UD2B4_2)/2\n",
        "UD2C1 = (UD2C1_1+UD2C1_2)/2\n",
        "UD2C2 = (UD2C2_1+UD2C2_2)/2\n",
        "UD2C3 = (UD2C3_1+UD2C3_2)/2\n",
        "UD2C4 = (UD2C4_1+UD2C4_2)/2\n",
        "UD2D2 = (UD2D2_1+UD2D2_2)/2\n",
        "UD2D3 = (UD2D3_1+UD2D3_2)/2\n",
        "UD2D4 = (UD2D4_1+UD2D4_2)/2"
      ],
      "execution_count": null,
      "outputs": []
    },
    {
      "cell_type": "markdown",
      "metadata": {
        "id": "FH21pF-ue9ZD"
      },
      "source": [
        "D3"
      ]
    },
    {
      "cell_type": "code",
      "metadata": {
        "id": "mQT1Tre6e8pz"
      },
      "source": [
        "UD3A1_1 = distance.euclidean(labD3_10,labA1_2)\n",
        "UD3A1_2 = distance.euclidean(labD3_2,labA1_6)\n",
        "UD3A2_1 = distance.euclidean(labD3_5,labA2_2)\n",
        "UD3A2_2 = distance.euclidean(labD3_6,labA2_4)\n",
        "UD3A3_1 = distance.euclidean(labD3_10,labA3_3)\n",
        "UD3A3_2 = distance.euclidean(labD3_6,labA3_8)\n",
        "UD3A3_51 = distance.euclidean(labD3_2,labA3_501)\n",
        "UD3A3_52 = distance.euclidean(labD3_5,labA3_505)\n",
        "UD3A4_1 = distance.euclidean(labD3_10,labA4_4)\n",
        "UD3A4_2 = distance.euclidean(labD3_2,labA4_9)\n",
        "UD3B1_1 = distance.euclidean(labD3_6,labB1_2)\n",
        "UD3B1_2 = distance.euclidean(labD3_5,labB1_5)\n",
        "UD3B2_1 = distance.euclidean(labD3_10,labB2_3)\n",
        "UD3B2_2 = distance.euclidean(labD3_2,labB2_4)\n",
        "UD3B3_1 = distance.euclidean(labD3_5,labB3_8)\n",
        "UD3B3_2 = distance.euclidean(labD3_6,labB3_9)\n",
        "UD3B4_1 = distance.euclidean(labD3_10,labB4_2)\n",
        "UD3B4_2 = distance.euclidean(labD3_2,labB4_7)\n",
        "UD3C1_1 = distance.euclidean(labD3_6,labC1_3)\n",
        "UD3C1_2 = distance.euclidean(labD3_5,labC1_6)\n",
        "UD3C2_1 = distance.euclidean(labD3_10,labC2_5)\n",
        "UD3C2_2 = distance.euclidean(labD3_2,labC2_10)\n",
        "UD3C3_1 = distance.euclidean(labD3_5,labC3_1)\n",
        "UD3C3_2 = distance.euclidean(labD3_6,labC3_6)\n",
        "UD3C4_1 = distance.euclidean(labD3_10,labC4_2)\n",
        "UD3C4_2 = distance.euclidean(labD3_2,labC4_8)\n",
        "UD3D2_1 = distance.euclidean(labD3_6,labD2_6)\n",
        "UD3D2_2 = distance.euclidean(labD3_5,labD2_7)\n",
        "UD3D3_1 = distance.euclidean(labD3_10,labD3_5)\n",
        "UD3D3_2 = distance.euclidean(labD3_2,labD3_6)\n",
        "UD3D4_1 = distance.euclidean(labD3_6,labD4_5)\n",
        "UD3D4_2 = distance.euclidean(labD3_2,labD4_9)"
      ],
      "execution_count": null,
      "outputs": []
    },
    {
      "cell_type": "code",
      "metadata": {
        "id": "GUNMWbVGDGQt"
      },
      "source": [
        "UD3A1 = (UD3A1_1+UD3A1_2)/2\n",
        "UD3A2 = (UD3A2_1+UD3A2_2)/2\n",
        "UD3A3 = (UD3A3_1+UD3A3_2)/2\n",
        "UD3A3_5 = (UD3A3_51+UD3A3_52)/2\n",
        "UD3A4 = (UD3A4_1+UD3A4_2)/2\n",
        "UD3B1 = (UD3B1_1+UD3B1_2)/2\n",
        "UD3B2 = (UD3B2_1+UD3B2_2)/2\n",
        "UD3B3 = (UD3B3_1+UD3B3_2)/2\n",
        "UD3B4 = (UD3B4_1+UD3B4_2)/2\n",
        "UD3C1 = (UD3C1_1+UD3C1_2)/2\n",
        "UD3C2 = (UD3C2_1+UD3C2_2)/2\n",
        "UD3C3 = (UD3C3_1+UD3C3_2)/2\n",
        "UD3C4 = (UD3C4_1+UD3C4_2)/2\n",
        "UD3D2 = (UD3D2_1+UD3D2_2)/2\n",
        "UD3D3 = (UD3D3_1+UD3D3_2)/2\n",
        "UD3D4 = (UD3D4_1+UD3D4_2)/2"
      ],
      "execution_count": null,
      "outputs": []
    },
    {
      "cell_type": "markdown",
      "metadata": {
        "id": "VOBr4zvOgPvS"
      },
      "source": [
        "D4"
      ]
    },
    {
      "cell_type": "code",
      "metadata": {
        "id": "4MGLCxSXgQ7g"
      },
      "source": [
        "UD4A1_1 = distance.euclidean(labD4_7,labA1_2)\n",
        "UD4A1_2 = distance.euclidean(labD4_5,labA1_5)\n",
        "UD4A2_1 = distance.euclidean(labD4_1,labA2_2)\n",
        "UD4A2_2 = distance.euclidean(labD4_9,labA2_7)\n",
        "UD4A3_1 = distance.euclidean(labD4_5,labA3_3)\n",
        "UD4A3_2 = distance.euclidean(labD4_1,labA3_10)\n",
        "UD4A3_51 = distance.euclidean(labD4_7,labA3_501)\n",
        "UD4A3_52 = distance.euclidean(labD4_5,labA3_505)\n",
        "UD4A4_1 = distance.euclidean(labD4_7,labA4_4)\n",
        "UD4A4_2 = distance.euclidean(labD4_9,labA4_9)\n",
        "UD4B1_1 = distance.euclidean(labD4_1,labB1_3)\n",
        "UD4B1_2 = distance.euclidean(labD4_9,labB1_5)\n",
        "UD4B2_1 = distance.euclidean(labD4_7,labB2_6)\n",
        "UD4B2_2 = distance.euclidean(labD4_5,labB2_4)\n",
        "UD4B3_1 = distance.euclidean(labD4_9,labB3_4)\n",
        "UD4B3_2 = distance.euclidean(labD4_5,labB3_9)\n",
        "UD4B4_1 = distance.euclidean(labD4_7,labB4_10)\n",
        "UD4B4_2 = distance.euclidean(labD4_1,labB4_3)\n",
        "UD4C1_1 = distance.euclidean(labD4_5,labC1_7)\n",
        "UD4C1_2 = distance.euclidean(labD4_9,labC1_6)\n",
        "UD4C2_1 = distance.euclidean(labD4_1,labC2_2)\n",
        "UD4C2_2 = distance.euclidean(labD4_7,labC2_1)\n",
        "UD4C3_1 = distance.euclidean(labD4_5,labC3_3)\n",
        "UD4C3_2 = distance.euclidean(labD4_1,labC3_9)\n",
        "UD4C4_1 = distance.euclidean(labD4_9,labC4_2)\n",
        "UD4C4_2 = distance.euclidean(labD4_1,labC4_8)\n",
        "UD4D2_1 = distance.euclidean(labD4_5,labD2_6)\n",
        "UD4D2_2 = distance.euclidean(labD4_7,labD2_7)\n",
        "UD4D3_1 = distance.euclidean(labD4_5,labD3_2)\n",
        "UD4D3_2 = distance.euclidean(labD4_9,labD3_6)\n",
        "UD4D4_1 = distance.euclidean(labD4_7,labD4_5)\n",
        "UD4D4_2 = distance.euclidean(labD4_1,labD4_7)"
      ],
      "execution_count": null,
      "outputs": []
    },
    {
      "cell_type": "code",
      "metadata": {
        "id": "w4PC0cHHDabX"
      },
      "source": [
        "UD4A1 = (UD4A1_1+UD4A1_2)/2\n",
        "UD4A2 = (UD4A2_1+UD4A2_2)/2\n",
        "UD4A3 = (UD4A3_1+UD4A3_2)/2\n",
        "UD4A3_5 = (UD4A3_51+UD4A3_52)/2\n",
        "UD4A4 = (UD4A4_1+UD4A4_2)/2\n",
        "UD4B1 = (UD4B1_1+UD4B1_2)/2\n",
        "UD4B2 = (UD4B2_1+UD4B2_2)/2\n",
        "UD4B3 = (UD4B3_1+UD4B3_2)/2\n",
        "UD4B4 = (UD4B4_1+UD4B4_2)/2\n",
        "UD4C1 = (UD4C1_1+UD4C1_2)/2\n",
        "UD4C2 = (UD4C2_1+UD4C2_2)/2\n",
        "UD4C3 = (UD4C3_1+UD4C3_2)/2\n",
        "UD4C4 = (UD4C4_1+UD4C4_2)/2\n",
        "UD4D2 = (UD4D2_1+UD4D2_2)/2\n",
        "UD4D3 = (UD4D3_1+UD4D3_2)/2\n",
        "UD4D4 = (UD4D4_1+UD4D4_2)/2"
      ],
      "execution_count": null,
      "outputs": []
    },
    {
      "cell_type": "markdown",
      "metadata": {
        "id": "Yn7JfDL93Two"
      },
      "source": [
        "#สร้างตาราง Set 2 * Set 2"
      ]
    },
    {
      "cell_type": "code",
      "metadata": {
        "colab": {
          "base_uri": "https://localhost:8080/"
        },
        "id": "EUa2mp351eJZ",
        "outputId": "fe6ceb4e-2b83-4861-82c8-f22c81432306"
      },
      "source": [
        "pip install tabulate"
      ],
      "execution_count": null,
      "outputs": [
        {
          "output_type": "stream",
          "name": "stdout",
          "text": [
            "Requirement already satisfied: tabulate in /usr/local/lib/python3.7/dist-packages (0.8.9)\n"
          ]
        }
      ]
    },
    {
      "cell_type": "code",
      "metadata": {
        "id": "LLkOT09j1egf"
      },
      "source": [
        "from tabulate import tabulate"
      ],
      "execution_count": null,
      "outputs": []
    },
    {
      "cell_type": "code",
      "metadata": {
        "id": "jSJ4C9e61YMa"
      },
      "source": [
        "info = {'Shade Guide': ['A1', 'A2', 'A3', 'A3.5', 'A4', 'B1', 'B2', 'B3', 'B4', 'C1', 'C2', 'C3', 'C4', 'D2', 'D3', 'D4']\n",
        "        ,'A1': [UA1A1,UA1A2,UA1A3,UA1A3_5,UA1A4,UA1B1,UA1B2,UA1B3,UA1B4,UA1C1,UA1C2,UA1C3,UA1C4,UA1D2,UA1D3,UA1D4]\n",
        "        ,'A2': [UA2A1,UA2A2,UA2A3,UA2A3_5,UA2A4,UA2B1,UA2B2,UA2B3,UA2B4,UA2C1,UA2C2,UA2C3,UA2C4,UA2D2,UA2D3,UA2D4]\n",
        "        ,'A3': [UA3A1,UA3A2,UA3A3,UA3A3_5,UA3A4,UA3B1,UA3B2,UA3B3,UA3B4,UA3C1,UA3C2,UA3C3,UA3C4,UA3D2,UA3D3,UA3D4]\n",
        "        ,'A3.5': [UA3_5A1,UA3_5A2,UA3_5A3,UA3_5A3_5,UA3_5A4,UA3_5B1,UA3_5B2,UA3_5B3,UA3_5B4,UA3_5C1,UA3_5C2,UA3_5C3,UA3_5C4,UA3_5D2,UA3_5D3,UA3_5D4]\n",
        "        ,'A4': [UA4A1,UA4A2,UA4A3,UA4A3_5,UA4A4,UA4B1,UA4B2,UA4B3,UA4B4,UA4C1,UA4C2,UA4C3,UA4C4,UA4D2,UA4D3,UA4D4]\n",
        "        ,'B1': [UB1A1,UB1A2,UB1A3,UB1A3_5,UB1A4,UB1B1,UB1B2,UB1B3,UB1B4,UB1C1,UB1C2,UB1C3,UB1C4,UB1D2,UB1D3,UB1D4]\n",
        "        ,'B2': [UB2A1,UB2A2,UB2A3,UB2A3_5,UB2A4,UB2B1,UB2B2,UB2B3,UB2B4,UB2C1,UB2C2,UB2C3,UB2C4,UB2D2,UB2D3,UB2D4]\n",
        "        ,'B3': [UB3A1,UB3A2,UB3A3,UB3A3_5,UB3A4,UB3B1,UB3B2,UB3B3,UB3B4,UB3C1,UB3C2,UB3C3,UB3C4,UB3D2,UB3D3,UB3D4]\n",
        "        ,'B4': [UB4A1,UB4A2,UB4A3,UB4A3_5,UB4A4,UB4B1,UB4B2,UB4B3,UB4B4,UB4C1,UB4C2,UB4C3,UB4C4,UB4D2,UB4D3,UB4D4]\n",
        "        ,'C1': [UC1A1,UC1A2,UC1A3,UC1A3_5,UC1A4,UC1B1,UC1B2,UC1B3,UC1B4,UC1C1,UC1C2,UC1C3,UC1C4,UC1D2,UC1D3,UC1D4]\n",
        "        ,'C2': [UC2A1,UC2A2,UC2A3,UC2A3_5,UC2A4,UC2B1,UC2B2,UC2B3,UC2B4,UC2C1,UC2C2,UC2C3,UC2C4,UC2D2,UC2D3,UC2D4]\n",
        "        ,'C3': [UC3A1,UC3A2,UC3A3,UC3A3_5,UC3A4,UC3B1,UC3B2,UC3B3,UC3B4,UC3C1,UC3C2,UC3C3,UC3C4,UC3D2,UC3D3,UC3D4]\n",
        "        ,'C4': [UC4A1,UC4A2,UC4A3,UC4A3_5,UC4A4,UC4B1,UC4B2,UC4B3,UC4B4,UC4C1,UC4C2,UC4C3,UC4C4,UC4D2,UC4D3,UC4D4]\n",
        "        ,'D2': [UD2A1,UD2A2,UD2A3,UD2A3_5,UD2A4,UD2B1,UD2B2,UD2B3,UD2B4,UD2C1,UD2C2,UD2C3,UD2C4,UD2D2,UD2D3,UD2D4]\n",
        "        ,'D3': [UD3A1,UD3A2,UD3A3,UD3A3_5,UD3A4,UD3B1,UD3B2,UD3B3,UD3B4,UD3C1,UD3C2,UD3C3,UD3C4,UD3D2,UD3D3,UD3D4]\n",
        "        ,'D4': [UD4A1,UD4A2,UD4A3,UD4A3_5,UD4A4,UD4B1,UD4B2,UD4B3,UD4B4,UD4C1,UD4C2,UD4C3,UD4C4,UD4D2,UD4D3,UD4D4] }"
      ],
      "execution_count": null,
      "outputs": []
    },
    {
      "cell_type": "code",
      "metadata": {
        "colab": {
          "base_uri": "https://localhost:8080/"
        },
        "id": "RrQzU6uw3h9h",
        "outputId": "b2f083eb-dd8c-480f-8f9a-1e69f9243ad1"
      },
      "source": [
        "print(tabulate(info, headers='keys', tablefmt='fancy_grid'))"
      ],
      "execution_count": null,
      "outputs": [
        {
          "output_type": "stream",
          "name": "stdout",
          "text": [
            "╒═══════════════╤══════════╤══════════╤═══════════╤══════════╤═══════════╤══════════╤═══════════╤═══════════╤══════════╤══════════╤═══════════╤═══════════╤══════════╤═══════════╤══════════╤══════════╕\n",
            "│ Shade Guide   │       A1 │       A2 │        A3 │     A3.5 │        A4 │       B1 │        B2 │        B3 │       B4 │       C1 │        C2 │        C3 │       C4 │        D2 │       D3 │       D4 │\n",
            "╞═══════════════╪══════════╪══════════╪═══════════╪══════════╪═══════════╪══════════╪═══════════╪═══════════╪══════════╪══════════╪═══════════╪═══════════╪══════════╪═══════════╪══════════╪══════════╡\n",
            "│ A1            │  2.77484 │  5.71065 │  5.71065  │ 19.0199  │ 22.5019   │  1.78558 │  4.07869  │  9.57174  │ 14.1618  │  4.40207 │  9.24286  │ 14.2935   │ 17.981   │  7.48042  │  6.05601 │ 15.5249  │\n",
            "├───────────────┼──────────┼──────────┼───────────┼──────────┼───────────┼──────────┼───────────┼───────────┼──────────┼──────────┼───────────┼───────────┼──────────┼───────────┼──────────┼──────────┤\n",
            "│ A2            │  4.24927 │  2.27979 │  8.54945  │ 15.6452  │ 20.3747   │  3.83416 │  1.23712  │  4.79142  │ 10.2604  │  3.38692 │  7.38913  │ 11.0926   │ 14.603   │  3.99972  │  4.05383 │  9.68324 │\n",
            "├───────────────┼──────────┼──────────┼───────────┼──────────┼───────────┼──────────┼───────────┼───────────┼──────────┼──────────┼───────────┼───────────┼──────────┼───────────┼──────────┼──────────┤\n",
            "│ A3            │ 11.8742  │  8.76323 │  0.860614 │  8.59573 │ 14.436    │ 10.8371  │ 10.7715   │  7.02509  │  3.97234 │ 10.3587  │  5.99661  │  4.23355  │  8.29073 │  9.97424  │  8.68117 │  2.26699 │\n",
            "├───────────────┼──────────┼──────────┼───────────┼──────────┼───────────┼──────────┼───────────┼───────────┼──────────┼──────────┼───────────┼───────────┼──────────┼───────────┼──────────┼──────────┤\n",
            "│ A3.5          │ 19.527   │ 15.8848  │  8.47997  │  2.82788 │  6.68241  │ 17.8834  │ 17.0257   │ 11.0417   │  5.59309 │ 18.4332  │ 15.2128   │  5.4107   │  4.20115 │ 18.671    │ 15.0628  │  4.6391  │\n",
            "├───────────────┼──────────┼──────────┼───────────┼──────────┼───────────┼──────────┼───────────┼───────────┼──────────┼──────────┼───────────┼───────────┼──────────┼───────────┼──────────┼──────────┤\n",
            "│ A4            │ 22.1045  │ 20.7837  │ 13.9092   │  6.70575 │  0.299463 │ 21.8199  │ 21.8768   │ 16.2937   │  8.10372 │ 23.9774  │ 14.4167   │ 10.6953   │  7.59005 │ 23.7773   │ 22.1731  │  9.75491 │\n",
            "├───────────────┼──────────┼──────────┼───────────┼──────────┼───────────┼──────────┼───────────┼───────────┼──────────┼──────────┼───────────┼───────────┼──────────┼───────────┼──────────┼──────────┤\n",
            "│ B1            │  3.87218 │  4.13667 │ 11.089    │ 17.9559  │ 21.5603   │ 10.2568  │  3.35701  │  7.53974  │ 12.007   │  5.3338  │  8.18707  │ 13.0949   │ 16.7218  │  6.45282  │  5.9381  │ 11.9629  │\n",
            "├───────────────┼──────────┼──────────┼───────────┼──────────┼───────────┼──────────┼───────────┼───────────┼──────────┼──────────┼───────────┼───────────┼──────────┼───────────┼──────────┼──────────┤\n",
            "│ B2            │  3.91325 │  4.51701 │  9.97938  │ 17.0205  │ 20.4625   │  3.18489 │  0.151094 │  6.69412  │ 13.7429  │  5.19142 │  7.86678  │ 11.7338   │ 15.4643  │  5.50071  │  2.78278 │ 12.2402  │\n",
            "├───────────────┼──────────┼──────────┼───────────┼──────────┼───────────┼──────────┼───────────┼───────────┼──────────┼──────────┼───────────┼───────────┼──────────┼───────────┼──────────┼──────────┤\n",
            "│ B3            │  8.79951 │  5.62148 │  3.69032  │ 11.1777  │ 16.6323   │  7.82192 │  6.16017  │  0.386172 │  4.92238 │  7.19283 │  3.77761  │  6.0709   │ 10.5608  │  7.36551  │  3.27597 │  5.87242 │\n",
            "├───────────────┼──────────┼──────────┼───────────┼──────────┼───────────┼──────────┼───────────┼───────────┼──────────┼──────────┼───────────┼───────────┼──────────┼───────────┼──────────┼──────────┤\n",
            "│ B4            │ 14.0036  │  9.68068 │  3.9276   │  5.15518 │ 10.1576   │ 13.0463  │ 12.0138   │  6.78388  │  2.98347 │ 14.0417  │  5.25774  │  3.24089  │  5.13584 │ 13.9007   │ 11.9113  │  1.78616 │\n",
            "├───────────────┼──────────┼──────────┼───────────┼──────────┼───────────┼──────────┼───────────┼───────────┼──────────┼──────────┼───────────┼───────────┼──────────┼───────────┼──────────┼──────────┤\n",
            "│ C1            │  2.10861 │  3.47382 │ 10.4751   │ 17.767   │ 24.1996   │  4.4085  │  2.33115  │  7.54678  │ 11.6164  │  2.9308  │  7.94431  │ 13.6463   │ 16.7441  │  3.52537  │  4.56808 │ 12.324   │\n",
            "├───────────────┼──────────┼──────────┼───────────┼──────────┼───────────┼──────────┼───────────┼───────────┼──────────┼──────────┼───────────┼───────────┼──────────┼───────────┼──────────┼──────────┤\n",
            "│ C2            │  9.14659 │  7.59871 │  5.47636  │ 10.1705  │ 14.1777   │  8.16247 │  7.82489  │  3.93869  │  7.6434  │  9.84672 │  0.551159 │  6.34228  │  9.8714  │ 10.0033   │  8.08988 │  5.18756 │\n",
            "├───────────────┼──────────┼──────────┼───────────┼──────────┼───────────┼──────────┼───────────┼───────────┼──────────┼──────────┼───────────┼───────────┼──────────┼───────────┼──────────┼──────────┤\n",
            "│ C3            │ 14.3671  │ 11.174   │  3.3854   │  5.08853 │ 10.3069   │ 14.1776  │ 11.6918   │  6.20918  │  2.43178 │ 12.7984  │  6.29958  │  0.901317 │  4.04396 │ 13.4889   │  9.89793 │  4.08226 │\n",
            "├───────────────┼──────────┼──────────┼───────────┼──────────┼───────────┼──────────┼───────────┼───────────┼──────────┼──────────┼───────────┼───────────┼──────────┼───────────┼──────────┼──────────┤\n",
            "│ C4            │ 17.1231  │ 15.8542  │  7.55599  │  2.80246 │  7.79223  │ 17.4553  │ 15.6528   │ 10.3631   │  3.67841 │ 17.396   │  8.3268   │  4.7542   │  5.44201 │ 17.3829   │ 15.6873  │  7.35507 │\n",
            "├───────────────┼──────────┼──────────┼───────────┼──────────┼───────────┼──────────┼───────────┼───────────┼──────────┼──────────┼───────────┼───────────┼──────────┼───────────┼──────────┼──────────┤\n",
            "│ D2            │  5.03763 │  6.14397 │ 10.1206   │ 18.0088  │ 23.7668   │  6.23223 │  5.34985  │  7.88269  │ 11.8437  │  3.29008 │  9.78265  │ 14.0527   │ 17.6266  │  0.409078 │  3.99122 │ 14.885   │\n",
            "├───────────────┼──────────┼──────────┼───────────┼──────────┼───────────┼──────────┼───────────┼───────────┼──────────┼──────────┼───────────┼───────────┼──────────┼───────────┼──────────┼──────────┤\n",
            "│ D3            │  6.93738 │  5.21364 │  8.61054  │ 14.8945  │ 20.1599   │  5.1579  │  2.72006  │  3.58051  │ 11.9864  │  4.68328 │  6.42127  │  9.64235  │ 13.5418  │  3.8269   │  2.24459 │  8.95887 │\n",
            "├───────────────┼──────────┼──────────┼───────────┼──────────┼───────────┼──────────┼───────────┼───────────┼──────────┼──────────┼───────────┼───────────┼──────────┼───────────┼──────────┼──────────┤\n",
            "│ D4            │ 14.1651  │ 12.7653  │  1.43551  │  5.60508 │ 10.0855   │ 14.4522  │ 11.1197   │  7.85308  │  4.48765 │ 14.8535  │  6.03178  │  4.52874  │  6.67946 │ 14.8637   │  8.99826 │  9.16286 │\n",
            "╘═══════════════╧══════════╧══════════╧═══════════╧══════════╧═══════════╧══════════╧═══════════╧═══════════╧══════════╧══════════╧═══════════╧═══════════╧══════════╧═══════════╧══════════╧══════════╛\n"
          ]
        }
      ]
    }
  ]
}