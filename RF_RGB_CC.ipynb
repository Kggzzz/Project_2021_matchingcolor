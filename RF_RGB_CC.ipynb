{
  "nbformat": 4,
  "nbformat_minor": 0,
  "metadata": {
    "colab": {
      "name": "RF_RGB_CC.ipynb",
      "provenance": [],
      "collapsed_sections": [
        "480etiaejoWu",
        "_IExAm4gjoWx",
        "QtddIFhZmT6y",
        "_QZmNKGToJfj",
        "YmEFu_3tt92a",
        "kFckM1SuxrfW"
      ],
      "include_colab_link": true
    },
    "kernelspec": {
      "name": "python3",
      "display_name": "Python 3"
    },
    "language_info": {
      "name": "python"
    }
  },
  "cells": [
    {
      "cell_type": "markdown",
      "metadata": {
        "id": "view-in-github",
        "colab_type": "text"
      },
      "source": [
        "<a href=\"https://colab.research.google.com/github/Kggzzz/Project_2021_matchingcolor/blob/main/RF_RGB_CC.ipynb\" target=\"_parent\"><img src=\"https://colab.research.google.com/assets/colab-badge.svg\" alt=\"Open In Colab\"/></a>"
      ]
    },
    {
      "cell_type": "code",
      "execution_count": null,
      "metadata": {
        "id": "HKNXe3aNxjrS"
      },
      "outputs": [],
      "source": [
        "import pandas as pd"
      ]
    },
    {
      "cell_type": "code",
      "source": [
        "from google.colab import drive \n",
        "drive.mount('/content/drive')"
      ],
      "metadata": {
        "colab": {
          "base_uri": "https://localhost:8080/"
        },
        "id": "vlUA764exm_B",
        "outputId": "e8fd0b0c-1125-4bae-c1d0-f27d6434fe94"
      },
      "execution_count": null,
      "outputs": [
        {
          "output_type": "stream",
          "name": "stdout",
          "text": [
            "Mounted at /content/drive\n"
          ]
        }
      ]
    },
    {
      "cell_type": "code",
      "source": [
        "import os"
      ],
      "metadata": {
        "id": "0NR2cd8WxtI0"
      },
      "execution_count": null,
      "outputs": []
    },
    {
      "cell_type": "code",
      "source": [
        "path = '/content/drive/My Drive/shadeimg/SVM shade'"
      ],
      "metadata": {
        "id": "CCvM6YiWxv4J"
      },
      "execution_count": null,
      "outputs": []
    },
    {
      "cell_type": "code",
      "source": [
        "os.listdir(path)"
      ],
      "metadata": {
        "colab": {
          "base_uri": "https://localhost:8080/"
        },
        "id": "gEamzWg2xxw0",
        "outputId": "a5e44c91-2d47-459b-e0aa-fd568113b657"
      },
      "execution_count": null,
      "outputs": [
        {
          "output_type": "execute_result",
          "data": {
            "text/plain": [
              "['DD.xlsx',\n",
              " 'CC.xlsx',\n",
              " 'BB.xlsx',\n",
              " 'Shade_AA.xlsx',\n",
              " 'Shade_CC.xlsx',\n",
              " 'Shade_DD.xlsx',\n",
              " 'Shade_BB.xlsx',\n",
              " 'AA.xlsx',\n",
              " 'AA_2.xlsx',\n",
              " 'Shad_A.xlsx',\n",
              " 'Shad_B.xlsx',\n",
              " 'Shad_C.xlsx',\n",
              " 'Shad_D.xlsx',\n",
              " 'Setting1.xlsx',\n",
              " 'Setting3.xlsx',\n",
              " 'Setting4.xlsx',\n",
              " 'CheckerDD.xlsx',\n",
              " 'Color-checkerDD.xlsx',\n",
              " 'Color-checkerAA.xlsx',\n",
              " 'Color-checkerBB.xlsx',\n",
              " 'Color-checkerCC.xlsx',\n",
              " 'Setting5.xlsx',\n",
              " 'Setting6.xlsx',\n",
              " 'Setting2.xlsx',\n",
              " 'D3set51.csv',\n",
              " 'D3Set51.xlsx']"
            ]
          },
          "metadata": {},
          "execution_count": 5
        }
      ]
    },
    {
      "cell_type": "code",
      "source": [
        "CC1 = os.path.join(path,'CheckerDD.xlsx')\n",
        "print(CC1)"
      ],
      "metadata": {
        "colab": {
          "base_uri": "https://localhost:8080/"
        },
        "id": "FGDUM8Yubm3F",
        "outputId": "818d534a-44a3-4580-b17a-d21aa77c337d"
      },
      "execution_count": null,
      "outputs": [
        {
          "output_type": "stream",
          "name": "stdout",
          "text": [
            "/content/drive/My Drive/shadeimg/SVM shade/CheckerDD.xlsx\n"
          ]
        }
      ]
    },
    {
      "cell_type": "code",
      "source": [
        "Set1 = os.path.join(path,'Setting1.xlsx')\n",
        "print(Set1)"
      ],
      "metadata": {
        "colab": {
          "base_uri": "https://localhost:8080/"
        },
        "id": "YnNg2TofxzSg",
        "outputId": "37c87de9-ce0f-4f9c-9ca5-ac645acc1bf4"
      },
      "execution_count": null,
      "outputs": [
        {
          "output_type": "stream",
          "name": "stdout",
          "text": [
            "/content/drive/My Drive/shadeimg/SVM shade/Setting1.xlsx\n"
          ]
        }
      ]
    },
    {
      "cell_type": "code",
      "source": [
        "Set2 = os.path.join(path,'Setting2.xlsx')\n",
        "print(Set2)"
      ],
      "metadata": {
        "id": "9NmuTsKXj8iA",
        "outputId": "7ce7da10-97b0-4084-d429-de501d1509d2",
        "colab": {
          "base_uri": "https://localhost:8080/"
        }
      },
      "execution_count": null,
      "outputs": [
        {
          "output_type": "stream",
          "name": "stdout",
          "text": [
            "/content/drive/My Drive/shadeimg/SVM shade/Setting2.xlsx\n"
          ]
        }
      ]
    },
    {
      "cell_type": "code",
      "source": [
        "Set3 = os.path.join(path,'Setting3.xlsx')\n",
        "print(Set3)"
      ],
      "metadata": {
        "id": "Flpjty_gj80T",
        "outputId": "f8759863-1d51-4a66-9003-c799500b9d28",
        "colab": {
          "base_uri": "https://localhost:8080/"
        }
      },
      "execution_count": null,
      "outputs": [
        {
          "output_type": "stream",
          "name": "stdout",
          "text": [
            "/content/drive/My Drive/shadeimg/SVM shade/Setting3.xlsx\n"
          ]
        }
      ]
    },
    {
      "cell_type": "code",
      "source": [
        "Set4 = os.path.join(path,'Setting4.xlsx')\n",
        "print(Set4)"
      ],
      "metadata": {
        "colab": {
          "base_uri": "https://localhost:8080/"
        },
        "id": "D5_QGRNuj9Hu",
        "outputId": "d8fa5719-458c-4531-cbb1-4d5ea7df7a8a"
      },
      "execution_count": null,
      "outputs": [
        {
          "output_type": "stream",
          "name": "stdout",
          "text": [
            "/content/drive/My Drive/shadeimg/SVM shade/Setting4.xlsx\n"
          ]
        }
      ]
    },
    {
      "cell_type": "code",
      "source": [
        "import numpy as np"
      ],
      "metadata": {
        "id": "8ISBGlPBzzvw"
      },
      "execution_count": null,
      "outputs": []
    },
    {
      "cell_type": "code",
      "source": [
        "from sklearn import metrics"
      ],
      "metadata": {
        "id": "FTwRPXBBzw1v"
      },
      "execution_count": null,
      "outputs": []
    },
    {
      "cell_type": "code",
      "source": [
        "from sklearn import datasets"
      ],
      "metadata": {
        "id": "KR8lVsZXpX9X"
      },
      "execution_count": null,
      "outputs": []
    },
    {
      "cell_type": "code",
      "source": [
        "from sklearn.ensemble import RandomForestClassifier"
      ],
      "metadata": {
        "id": "cfRBaPLCI0vn"
      },
      "execution_count": null,
      "outputs": []
    },
    {
      "cell_type": "code",
      "source": [
        "clf=RandomForestClassifier()"
      ],
      "metadata": {
        "id": "i-IpOEIhnwdR"
      },
      "execution_count": null,
      "outputs": []
    },
    {
      "cell_type": "code",
      "source": [
        "table_D3CC1 = pd.read_excel(CC1 , sheet_name='D3set5')\n",
        "table_D3CC1.head()"
      ],
      "metadata": {
        "colab": {
          "base_uri": "https://localhost:8080/",
          "height": 444
        },
        "id": "vG__NuVXb2Qz",
        "outputId": "77a769f8-cd66-47d9-9d2d-1c3bd8d2b942"
      },
      "execution_count": null,
      "outputs": [
        {
          "output_type": "execute_result",
          "data": {
            "text/html": [
              "\n",
              "  <div id=\"df-f86c8859-d4b9-4d9a-beea-8109b072c72f\">\n",
              "    <div class=\"colab-df-container\">\n",
              "      <div>\n",
              "<style scoped>\n",
              "    .dataframe tbody tr th:only-of-type {\n",
              "        vertical-align: middle;\n",
              "    }\n",
              "\n",
              "    .dataframe tbody tr th {\n",
              "        vertical-align: top;\n",
              "    }\n",
              "\n",
              "    .dataframe thead th {\n",
              "        text-align: right;\n",
              "    }\n",
              "</style>\n",
              "<table border=\"1\" class=\"dataframe\">\n",
              "  <thead>\n",
              "    <tr style=\"text-align: right;\">\n",
              "      <th></th>\n",
              "      <th>R-ref</th>\n",
              "      <th>G-ref</th>\n",
              "      <th>B-ref</th>\n",
              "      <th>R-Shad</th>\n",
              "      <th>G-Shad</th>\n",
              "      <th>B-Shad</th>\n",
              "      <th>H-ref</th>\n",
              "      <th>S-ref</th>\n",
              "      <th>V-ref</th>\n",
              "      <th>H-Shad</th>\n",
              "      <th>S-Shad</th>\n",
              "      <th>V-Shad</th>\n",
              "      <th>Setting</th>\n",
              "      <th>Ref</th>\n",
              "      <th>Shad</th>\n",
              "      <th>Img</th>\n",
              "    </tr>\n",
              "  </thead>\n",
              "  <tbody>\n",
              "    <tr>\n",
              "      <th>0</th>\n",
              "      <td>223.533317</td>\n",
              "      <td>203.558640</td>\n",
              "      <td>165.842302</td>\n",
              "      <td>223.503378</td>\n",
              "      <td>203.455302</td>\n",
              "      <td>165.912097</td>\n",
              "      <td>19.322863</td>\n",
              "      <td>65.793117</td>\n",
              "      <td>223.533317</td>\n",
              "      <td>19.291231</td>\n",
              "      <td>65.688856</td>\n",
              "      <td>223.503378</td>\n",
              "      <td>Set5</td>\n",
              "      <td>D3</td>\n",
              "      <td>A1</td>\n",
              "      <td>D31A6339-9324-4718-8F1D-F9C86FF1CAC1.png</td>\n",
              "    </tr>\n",
              "    <tr>\n",
              "      <th>1</th>\n",
              "      <td>224.624949</td>\n",
              "      <td>202.937586</td>\n",
              "      <td>163.191705</td>\n",
              "      <td>224.517033</td>\n",
              "      <td>202.801650</td>\n",
              "      <td>163.173956</td>\n",
              "      <td>19.452236</td>\n",
              "      <td>69.768525</td>\n",
              "      <td>224.624949</td>\n",
              "      <td>19.420169</td>\n",
              "      <td>69.692483</td>\n",
              "      <td>224.517033</td>\n",
              "      <td>Set5</td>\n",
              "      <td>D3</td>\n",
              "      <td>A1</td>\n",
              "      <td>3AD826D5-B618-4F47-BB57-2052C33EFAAE.png</td>\n",
              "    </tr>\n",
              "    <tr>\n",
              "      <th>2</th>\n",
              "      <td>225.539161</td>\n",
              "      <td>206.125964</td>\n",
              "      <td>167.317020</td>\n",
              "      <td>225.381694</td>\n",
              "      <td>205.911884</td>\n",
              "      <td>167.275798</td>\n",
              "      <td>19.626086</td>\n",
              "      <td>65.814707</td>\n",
              "      <td>225.539161</td>\n",
              "      <td>19.568025</td>\n",
              "      <td>65.723348</td>\n",
              "      <td>225.381694</td>\n",
              "      <td>Set5</td>\n",
              "      <td>D3</td>\n",
              "      <td>A1</td>\n",
              "      <td>14BDB65A-A5B9-48B4-9F79-1C078570A88D.png</td>\n",
              "    </tr>\n",
              "    <tr>\n",
              "      <th>3</th>\n",
              "      <td>224.508644</td>\n",
              "      <td>208.011363</td>\n",
              "      <td>175.946108</td>\n",
              "      <td>224.409075</td>\n",
              "      <td>207.842116</td>\n",
              "      <td>175.782306</td>\n",
              "      <td>19.632010</td>\n",
              "      <td>55.220680</td>\n",
              "      <td>224.508644</td>\n",
              "      <td>19.602660</td>\n",
              "      <td>55.318825</td>\n",
              "      <td>224.409075</td>\n",
              "      <td>Set5</td>\n",
              "      <td>D3</td>\n",
              "      <td>A1</td>\n",
              "      <td>9131592F-9798-4457-ACD3-8109CCA36224.png</td>\n",
              "    </tr>\n",
              "    <tr>\n",
              "      <th>4</th>\n",
              "      <td>225.235127</td>\n",
              "      <td>209.102021</td>\n",
              "      <td>175.769580</td>\n",
              "      <td>225.040893</td>\n",
              "      <td>208.868075</td>\n",
              "      <td>175.555864</td>\n",
              "      <td>19.947407</td>\n",
              "      <td>56.048697</td>\n",
              "      <td>225.235127</td>\n",
              "      <td>19.936989</td>\n",
              "      <td>56.118270</td>\n",
              "      <td>225.040893</td>\n",
              "      <td>Set5</td>\n",
              "      <td>D3</td>\n",
              "      <td>A1</td>\n",
              "      <td>653769F4-F724-4660-A3EE-76C3101A90E5.png</td>\n",
              "    </tr>\n",
              "  </tbody>\n",
              "</table>\n",
              "</div>\n",
              "      <button class=\"colab-df-convert\" onclick=\"convertToInteractive('df-f86c8859-d4b9-4d9a-beea-8109b072c72f')\"\n",
              "              title=\"Convert this dataframe to an interactive table.\"\n",
              "              style=\"display:none;\">\n",
              "        \n",
              "  <svg xmlns=\"http://www.w3.org/2000/svg\" height=\"24px\"viewBox=\"0 0 24 24\"\n",
              "       width=\"24px\">\n",
              "    <path d=\"M0 0h24v24H0V0z\" fill=\"none\"/>\n",
              "    <path d=\"M18.56 5.44l.94 2.06.94-2.06 2.06-.94-2.06-.94-.94-2.06-.94 2.06-2.06.94zm-11 1L8.5 8.5l.94-2.06 2.06-.94-2.06-.94L8.5 2.5l-.94 2.06-2.06.94zm10 10l.94 2.06.94-2.06 2.06-.94-2.06-.94-.94-2.06-.94 2.06-2.06.94z\"/><path d=\"M17.41 7.96l-1.37-1.37c-.4-.4-.92-.59-1.43-.59-.52 0-1.04.2-1.43.59L10.3 9.45l-7.72 7.72c-.78.78-.78 2.05 0 2.83L4 21.41c.39.39.9.59 1.41.59.51 0 1.02-.2 1.41-.59l7.78-7.78 2.81-2.81c.8-.78.8-2.07 0-2.86zM5.41 20L4 18.59l7.72-7.72 1.47 1.35L5.41 20z\"/>\n",
              "  </svg>\n",
              "      </button>\n",
              "      \n",
              "  <style>\n",
              "    .colab-df-container {\n",
              "      display:flex;\n",
              "      flex-wrap:wrap;\n",
              "      gap: 12px;\n",
              "    }\n",
              "\n",
              "    .colab-df-convert {\n",
              "      background-color: #E8F0FE;\n",
              "      border: none;\n",
              "      border-radius: 50%;\n",
              "      cursor: pointer;\n",
              "      display: none;\n",
              "      fill: #1967D2;\n",
              "      height: 32px;\n",
              "      padding: 0 0 0 0;\n",
              "      width: 32px;\n",
              "    }\n",
              "\n",
              "    .colab-df-convert:hover {\n",
              "      background-color: #E2EBFA;\n",
              "      box-shadow: 0px 1px 2px rgba(60, 64, 67, 0.3), 0px 1px 3px 1px rgba(60, 64, 67, 0.15);\n",
              "      fill: #174EA6;\n",
              "    }\n",
              "\n",
              "    [theme=dark] .colab-df-convert {\n",
              "      background-color: #3B4455;\n",
              "      fill: #D2E3FC;\n",
              "    }\n",
              "\n",
              "    [theme=dark] .colab-df-convert:hover {\n",
              "      background-color: #434B5C;\n",
              "      box-shadow: 0px 1px 3px 1px rgba(0, 0, 0, 0.15);\n",
              "      filter: drop-shadow(0px 1px 2px rgba(0, 0, 0, 0.3));\n",
              "      fill: #FFFFFF;\n",
              "    }\n",
              "  </style>\n",
              "\n",
              "      <script>\n",
              "        const buttonEl =\n",
              "          document.querySelector('#df-f86c8859-d4b9-4d9a-beea-8109b072c72f button.colab-df-convert');\n",
              "        buttonEl.style.display =\n",
              "          google.colab.kernel.accessAllowed ? 'block' : 'none';\n",
              "\n",
              "        async function convertToInteractive(key) {\n",
              "          const element = document.querySelector('#df-f86c8859-d4b9-4d9a-beea-8109b072c72f');\n",
              "          const dataTable =\n",
              "            await google.colab.kernel.invokeFunction('convertToInteractive',\n",
              "                                                     [key], {});\n",
              "          if (!dataTable) return;\n",
              "\n",
              "          const docLinkHtml = 'Like what you see? Visit the ' +\n",
              "            '<a target=\"_blank\" href=https://colab.research.google.com/notebooks/data_table.ipynb>data table notebook</a>'\n",
              "            + ' to learn more about interactive tables.';\n",
              "          element.innerHTML = '';\n",
              "          dataTable['output_type'] = 'display_data';\n",
              "          await google.colab.output.renderOutput(dataTable, element);\n",
              "          const docLink = document.createElement('div');\n",
              "          docLink.innerHTML = docLinkHtml;\n",
              "          element.appendChild(docLink);\n",
              "        }\n",
              "      </script>\n",
              "    </div>\n",
              "  </div>\n",
              "  "
            ],
            "text/plain": [
              "        R-ref       G-ref  ...  Shad                                       Img\n",
              "0  223.533317  203.558640  ...    A1  D31A6339-9324-4718-8F1D-F9C86FF1CAC1.png\n",
              "1  224.624949  202.937586  ...    A1  3AD826D5-B618-4F47-BB57-2052C33EFAAE.png\n",
              "2  225.539161  206.125964  ...    A1  14BDB65A-A5B9-48B4-9F79-1C078570A88D.png\n",
              "3  224.508644  208.011363  ...    A1  9131592F-9798-4457-ACD3-8109CCA36224.png\n",
              "4  225.235127  209.102021  ...    A1  653769F4-F724-4660-A3EE-76C3101A90E5.png\n",
              "\n",
              "[5 rows x 16 columns]"
            ]
          },
          "metadata": {},
          "execution_count": 16
        }
      ]
    },
    {
      "cell_type": "code",
      "source": [
        "table_D3CC2 = pd.read_excel(CC1 , sheet_name='D3set6')\n",
        "table_D3CC2.head()"
      ],
      "metadata": {
        "colab": {
          "base_uri": "https://localhost:8080/",
          "height": 444
        },
        "id": "5s0g5iNMRkbq",
        "outputId": "8fb944fd-2e05-47c2-8d15-63fc7a31cd62"
      },
      "execution_count": null,
      "outputs": [
        {
          "output_type": "execute_result",
          "data": {
            "text/html": [
              "\n",
              "  <div id=\"df-e288c482-b681-431b-820f-d28134b980d7\">\n",
              "    <div class=\"colab-df-container\">\n",
              "      <div>\n",
              "<style scoped>\n",
              "    .dataframe tbody tr th:only-of-type {\n",
              "        vertical-align: middle;\n",
              "    }\n",
              "\n",
              "    .dataframe tbody tr th {\n",
              "        vertical-align: top;\n",
              "    }\n",
              "\n",
              "    .dataframe thead th {\n",
              "        text-align: right;\n",
              "    }\n",
              "</style>\n",
              "<table border=\"1\" class=\"dataframe\">\n",
              "  <thead>\n",
              "    <tr style=\"text-align: right;\">\n",
              "      <th></th>\n",
              "      <th>R-ref</th>\n",
              "      <th>G-ref</th>\n",
              "      <th>B-ref</th>\n",
              "      <th>R-Shad</th>\n",
              "      <th>G-Shad</th>\n",
              "      <th>B-Shad</th>\n",
              "      <th>H-ref</th>\n",
              "      <th>S-ref</th>\n",
              "      <th>V-ref</th>\n",
              "      <th>H-Shad</th>\n",
              "      <th>S-Shad</th>\n",
              "      <th>V-Shad</th>\n",
              "      <th>Setting</th>\n",
              "      <th>Ref</th>\n",
              "      <th>Shad</th>\n",
              "      <th>Img</th>\n",
              "    </tr>\n",
              "  </thead>\n",
              "  <tbody>\n",
              "    <tr>\n",
              "      <th>0</th>\n",
              "      <td>216.974434</td>\n",
              "      <td>221.510592</td>\n",
              "      <td>199.688012</td>\n",
              "      <td>216.226726</td>\n",
              "      <td>220.796743</td>\n",
              "      <td>199.027381</td>\n",
              "      <td>36.490626</td>\n",
              "      <td>25.144388</td>\n",
              "      <td>221.510592</td>\n",
              "      <td>36.572363</td>\n",
              "      <td>25.152407</td>\n",
              "      <td>220.796743</td>\n",
              "      <td>Set6</td>\n",
              "      <td>D3</td>\n",
              "      <td>A1</td>\n",
              "      <td>271DC401-D060-44CF-9035-B5163A38C82A.png</td>\n",
              "    </tr>\n",
              "    <tr>\n",
              "      <th>1</th>\n",
              "      <td>224.099505</td>\n",
              "      <td>229.098369</td>\n",
              "      <td>205.000081</td>\n",
              "      <td>223.430553</td>\n",
              "      <td>228.342721</td>\n",
              "      <td>204.197781</td>\n",
              "      <td>36.531856</td>\n",
              "      <td>26.762925</td>\n",
              "      <td>229.098369</td>\n",
              "      <td>36.403741</td>\n",
              "      <td>26.914089</td>\n",
              "      <td>228.342721</td>\n",
              "      <td>Set6</td>\n",
              "      <td>D3</td>\n",
              "      <td>A1</td>\n",
              "      <td>A3DE134D-4B70-47DE-9CEC-140F0D9A2A69.png</td>\n",
              "    </tr>\n",
              "    <tr>\n",
              "      <th>2</th>\n",
              "      <td>223.496388</td>\n",
              "      <td>229.110949</td>\n",
              "      <td>204.149501</td>\n",
              "      <td>222.779319</td>\n",
              "      <td>228.326577</td>\n",
              "      <td>203.311215</td>\n",
              "      <td>36.949355</td>\n",
              "      <td>27.709196</td>\n",
              "      <td>229.110949</td>\n",
              "      <td>36.838632</td>\n",
              "      <td>27.870422</td>\n",
              "      <td>228.326577</td>\n",
              "      <td>Set6</td>\n",
              "      <td>D3</td>\n",
              "      <td>A1</td>\n",
              "      <td>BFE57A76-6444-47E0-8266-3F9240EDE840.png</td>\n",
              "    </tr>\n",
              "    <tr>\n",
              "      <th>3</th>\n",
              "      <td>223.590861</td>\n",
              "      <td>229.145362</td>\n",
              "      <td>204.242919</td>\n",
              "      <td>222.889908</td>\n",
              "      <td>228.361923</td>\n",
              "      <td>203.480549</td>\n",
              "      <td>36.902849</td>\n",
              "      <td>27.656521</td>\n",
              "      <td>229.145362</td>\n",
              "      <td>36.810895</td>\n",
              "      <td>27.735510</td>\n",
              "      <td>228.361923</td>\n",
              "      <td>Set6</td>\n",
              "      <td>D3</td>\n",
              "      <td>A1</td>\n",
              "      <td>FD507C4E-07C8-4DCC-9DCB-F3FB2C76AAB4.png</td>\n",
              "    </tr>\n",
              "    <tr>\n",
              "      <th>4</th>\n",
              "      <td>223.864134</td>\n",
              "      <td>229.322052</td>\n",
              "      <td>204.647188</td>\n",
              "      <td>223.173103</td>\n",
              "      <td>228.538653</td>\n",
              "      <td>203.859185</td>\n",
              "      <td>36.876146</td>\n",
              "      <td>27.371885</td>\n",
              "      <td>229.322052</td>\n",
              "      <td>36.759477</td>\n",
              "      <td>27.478487</td>\n",
              "      <td>228.538653</td>\n",
              "      <td>Set6</td>\n",
              "      <td>D3</td>\n",
              "      <td>A1</td>\n",
              "      <td>10D62DA7-31C9-483A-A627-9AD9F089ECD0.png</td>\n",
              "    </tr>\n",
              "  </tbody>\n",
              "</table>\n",
              "</div>\n",
              "      <button class=\"colab-df-convert\" onclick=\"convertToInteractive('df-e288c482-b681-431b-820f-d28134b980d7')\"\n",
              "              title=\"Convert this dataframe to an interactive table.\"\n",
              "              style=\"display:none;\">\n",
              "        \n",
              "  <svg xmlns=\"http://www.w3.org/2000/svg\" height=\"24px\"viewBox=\"0 0 24 24\"\n",
              "       width=\"24px\">\n",
              "    <path d=\"M0 0h24v24H0V0z\" fill=\"none\"/>\n",
              "    <path d=\"M18.56 5.44l.94 2.06.94-2.06 2.06-.94-2.06-.94-.94-2.06-.94 2.06-2.06.94zm-11 1L8.5 8.5l.94-2.06 2.06-.94-2.06-.94L8.5 2.5l-.94 2.06-2.06.94zm10 10l.94 2.06.94-2.06 2.06-.94-2.06-.94-.94-2.06-.94 2.06-2.06.94z\"/><path d=\"M17.41 7.96l-1.37-1.37c-.4-.4-.92-.59-1.43-.59-.52 0-1.04.2-1.43.59L10.3 9.45l-7.72 7.72c-.78.78-.78 2.05 0 2.83L4 21.41c.39.39.9.59 1.41.59.51 0 1.02-.2 1.41-.59l7.78-7.78 2.81-2.81c.8-.78.8-2.07 0-2.86zM5.41 20L4 18.59l7.72-7.72 1.47 1.35L5.41 20z\"/>\n",
              "  </svg>\n",
              "      </button>\n",
              "      \n",
              "  <style>\n",
              "    .colab-df-container {\n",
              "      display:flex;\n",
              "      flex-wrap:wrap;\n",
              "      gap: 12px;\n",
              "    }\n",
              "\n",
              "    .colab-df-convert {\n",
              "      background-color: #E8F0FE;\n",
              "      border: none;\n",
              "      border-radius: 50%;\n",
              "      cursor: pointer;\n",
              "      display: none;\n",
              "      fill: #1967D2;\n",
              "      height: 32px;\n",
              "      padding: 0 0 0 0;\n",
              "      width: 32px;\n",
              "    }\n",
              "\n",
              "    .colab-df-convert:hover {\n",
              "      background-color: #E2EBFA;\n",
              "      box-shadow: 0px 1px 2px rgba(60, 64, 67, 0.3), 0px 1px 3px 1px rgba(60, 64, 67, 0.15);\n",
              "      fill: #174EA6;\n",
              "    }\n",
              "\n",
              "    [theme=dark] .colab-df-convert {\n",
              "      background-color: #3B4455;\n",
              "      fill: #D2E3FC;\n",
              "    }\n",
              "\n",
              "    [theme=dark] .colab-df-convert:hover {\n",
              "      background-color: #434B5C;\n",
              "      box-shadow: 0px 1px 3px 1px rgba(0, 0, 0, 0.15);\n",
              "      filter: drop-shadow(0px 1px 2px rgba(0, 0, 0, 0.3));\n",
              "      fill: #FFFFFF;\n",
              "    }\n",
              "  </style>\n",
              "\n",
              "      <script>\n",
              "        const buttonEl =\n",
              "          document.querySelector('#df-e288c482-b681-431b-820f-d28134b980d7 button.colab-df-convert');\n",
              "        buttonEl.style.display =\n",
              "          google.colab.kernel.accessAllowed ? 'block' : 'none';\n",
              "\n",
              "        async function convertToInteractive(key) {\n",
              "          const element = document.querySelector('#df-e288c482-b681-431b-820f-d28134b980d7');\n",
              "          const dataTable =\n",
              "            await google.colab.kernel.invokeFunction('convertToInteractive',\n",
              "                                                     [key], {});\n",
              "          if (!dataTable) return;\n",
              "\n",
              "          const docLinkHtml = 'Like what you see? Visit the ' +\n",
              "            '<a target=\"_blank\" href=https://colab.research.google.com/notebooks/data_table.ipynb>data table notebook</a>'\n",
              "            + ' to learn more about interactive tables.';\n",
              "          element.innerHTML = '';\n",
              "          dataTable['output_type'] = 'display_data';\n",
              "          await google.colab.output.renderOutput(dataTable, element);\n",
              "          const docLink = document.createElement('div');\n",
              "          docLink.innerHTML = docLinkHtml;\n",
              "          element.appendChild(docLink);\n",
              "        }\n",
              "      </script>\n",
              "    </div>\n",
              "  </div>\n",
              "  "
            ],
            "text/plain": [
              "        R-ref       G-ref  ...  Shad                                       Img\n",
              "0  216.974434  221.510592  ...    A1  271DC401-D060-44CF-9035-B5163A38C82A.png\n",
              "1  224.099505  229.098369  ...    A1  A3DE134D-4B70-47DE-9CEC-140F0D9A2A69.png\n",
              "2  223.496388  229.110949  ...    A1  BFE57A76-6444-47E0-8266-3F9240EDE840.png\n",
              "3  223.590861  229.145362  ...    A1  FD507C4E-07C8-4DCC-9DCB-F3FB2C76AAB4.png\n",
              "4  223.864134  229.322052  ...    A1  10D62DA7-31C9-483A-A627-9AD9F089ECD0.png\n",
              "\n",
              "[5 rows x 16 columns]"
            ]
          },
          "metadata": {},
          "execution_count": 17
        }
      ]
    },
    {
      "cell_type": "markdown",
      "source": [
        "#DD"
      ],
      "metadata": {
        "id": "kFckM1SuxrfW"
      }
    },
    {
      "cell_type": "markdown",
      "source": [
        "##D3"
      ],
      "metadata": {
        "id": "ntLV6fwAx90V"
      }
    },
    {
      "cell_type": "code",
      "source": [
        "table_D3Set1 = pd.read_excel(Set1 , sheet_name='D3Set1')\n",
        "table_D3Set1.head()"
      ],
      "metadata": {
        "colab": {
          "base_uri": "https://localhost:8080/",
          "height": 444
        },
        "outputId": "2be11982-556f-47d9-f5a6-82b04c0ae7a0",
        "id": "8iTZ6oX0x90V"
      },
      "execution_count": null,
      "outputs": [
        {
          "output_type": "execute_result",
          "data": {
            "text/html": [
              "\n",
              "  <div id=\"df-80cb6b3e-b55a-44ac-8fd2-720c9ef7e8a4\">\n",
              "    <div class=\"colab-df-container\">\n",
              "      <div>\n",
              "<style scoped>\n",
              "    .dataframe tbody tr th:only-of-type {\n",
              "        vertical-align: middle;\n",
              "    }\n",
              "\n",
              "    .dataframe tbody tr th {\n",
              "        vertical-align: top;\n",
              "    }\n",
              "\n",
              "    .dataframe thead th {\n",
              "        text-align: right;\n",
              "    }\n",
              "</style>\n",
              "<table border=\"1\" class=\"dataframe\">\n",
              "  <thead>\n",
              "    <tr style=\"text-align: right;\">\n",
              "      <th></th>\n",
              "      <th>R-ref</th>\n",
              "      <th>G-ref</th>\n",
              "      <th>B-ref</th>\n",
              "      <th>R-Shad</th>\n",
              "      <th>G-Shad</th>\n",
              "      <th>B-Shad</th>\n",
              "      <th>H-ref</th>\n",
              "      <th>S-ref</th>\n",
              "      <th>V-ref</th>\n",
              "      <th>H-Shad</th>\n",
              "      <th>S-Shad</th>\n",
              "      <th>V-Shad</th>\n",
              "      <th>Setting</th>\n",
              "      <th>Ref</th>\n",
              "      <th>Shad</th>\n",
              "      <th>Img</th>\n",
              "    </tr>\n",
              "  </thead>\n",
              "  <tbody>\n",
              "    <tr>\n",
              "      <th>0</th>\n",
              "      <td>233.315883</td>\n",
              "      <td>219.042529</td>\n",
              "      <td>182.521062</td>\n",
              "      <td>233.667093</td>\n",
              "      <td>219.760757</td>\n",
              "      <td>183.891046</td>\n",
              "      <td>21.621378</td>\n",
              "      <td>55.572843</td>\n",
              "      <td>233.315883</td>\n",
              "      <td>21.686509</td>\n",
              "      <td>54.387028</td>\n",
              "      <td>233.667093</td>\n",
              "      <td>Set1</td>\n",
              "      <td>D3</td>\n",
              "      <td>A1</td>\n",
              "      <td>57601EF7-37D5-4783-A278-238D30F60912.png</td>\n",
              "    </tr>\n",
              "    <tr>\n",
              "      <th>1</th>\n",
              "      <td>233.194140</td>\n",
              "      <td>219.034007</td>\n",
              "      <td>182.078484</td>\n",
              "      <td>233.563331</td>\n",
              "      <td>219.768224</td>\n",
              "      <td>183.451248</td>\n",
              "      <td>21.768038</td>\n",
              "      <td>55.961773</td>\n",
              "      <td>233.194140</td>\n",
              "      <td>21.826755</td>\n",
              "      <td>54.788991</td>\n",
              "      <td>233.563331</td>\n",
              "      <td>Set1</td>\n",
              "      <td>D3</td>\n",
              "      <td>A1</td>\n",
              "      <td>5412037F-4AF3-43A2-A4ED-CADFEC0751E7.png</td>\n",
              "    </tr>\n",
              "    <tr>\n",
              "      <th>2</th>\n",
              "      <td>228.266131</td>\n",
              "      <td>215.102914</td>\n",
              "      <td>179.983605</td>\n",
              "      <td>228.810113</td>\n",
              "      <td>215.946590</td>\n",
              "      <td>181.582960</td>\n",
              "      <td>21.894408</td>\n",
              "      <td>54.001299</td>\n",
              "      <td>228.266131</td>\n",
              "      <td>21.907972</td>\n",
              "      <td>52.719863</td>\n",
              "      <td>228.810113</td>\n",
              "      <td>Set1</td>\n",
              "      <td>D3</td>\n",
              "      <td>A1</td>\n",
              "      <td>456A44EC-FCBD-4487-B70C-F0E01333D15C.png</td>\n",
              "    </tr>\n",
              "    <tr>\n",
              "      <th>3</th>\n",
              "      <td>233.271975</td>\n",
              "      <td>219.056732</td>\n",
              "      <td>181.960799</td>\n",
              "      <td>233.632672</td>\n",
              "      <td>219.760828</td>\n",
              "      <td>183.255672</td>\n",
              "      <td>21.744014</td>\n",
              "      <td>56.161351</td>\n",
              "      <td>233.271975</td>\n",
              "      <td>21.790698</td>\n",
              "      <td>55.064434</td>\n",
              "      <td>233.632672</td>\n",
              "      <td>Set1</td>\n",
              "      <td>D3</td>\n",
              "      <td>A1</td>\n",
              "      <td>834A3691-A011-4D07-8652-E2A2C8F1E3F7.png</td>\n",
              "    </tr>\n",
              "    <tr>\n",
              "      <th>4</th>\n",
              "      <td>234.316776</td>\n",
              "      <td>220.035711</td>\n",
              "      <td>183.531856</td>\n",
              "      <td>234.724131</td>\n",
              "      <td>220.744968</td>\n",
              "      <td>184.855985</td>\n",
              "      <td>21.653843</td>\n",
              "      <td>55.306387</td>\n",
              "      <td>234.316776</td>\n",
              "      <td>21.684873</td>\n",
              "      <td>54.232203</td>\n",
              "      <td>234.724131</td>\n",
              "      <td>Set1</td>\n",
              "      <td>D3</td>\n",
              "      <td>A1</td>\n",
              "      <td>714E83ED-391B-480A-85E8-DC4AB8864683.png</td>\n",
              "    </tr>\n",
              "  </tbody>\n",
              "</table>\n",
              "</div>\n",
              "      <button class=\"colab-df-convert\" onclick=\"convertToInteractive('df-80cb6b3e-b55a-44ac-8fd2-720c9ef7e8a4')\"\n",
              "              title=\"Convert this dataframe to an interactive table.\"\n",
              "              style=\"display:none;\">\n",
              "        \n",
              "  <svg xmlns=\"http://www.w3.org/2000/svg\" height=\"24px\"viewBox=\"0 0 24 24\"\n",
              "       width=\"24px\">\n",
              "    <path d=\"M0 0h24v24H0V0z\" fill=\"none\"/>\n",
              "    <path d=\"M18.56 5.44l.94 2.06.94-2.06 2.06-.94-2.06-.94-.94-2.06-.94 2.06-2.06.94zm-11 1L8.5 8.5l.94-2.06 2.06-.94-2.06-.94L8.5 2.5l-.94 2.06-2.06.94zm10 10l.94 2.06.94-2.06 2.06-.94-2.06-.94-.94-2.06-.94 2.06-2.06.94z\"/><path d=\"M17.41 7.96l-1.37-1.37c-.4-.4-.92-.59-1.43-.59-.52 0-1.04.2-1.43.59L10.3 9.45l-7.72 7.72c-.78.78-.78 2.05 0 2.83L4 21.41c.39.39.9.59 1.41.59.51 0 1.02-.2 1.41-.59l7.78-7.78 2.81-2.81c.8-.78.8-2.07 0-2.86zM5.41 20L4 18.59l7.72-7.72 1.47 1.35L5.41 20z\"/>\n",
              "  </svg>\n",
              "      </button>\n",
              "      \n",
              "  <style>\n",
              "    .colab-df-container {\n",
              "      display:flex;\n",
              "      flex-wrap:wrap;\n",
              "      gap: 12px;\n",
              "    }\n",
              "\n",
              "    .colab-df-convert {\n",
              "      background-color: #E8F0FE;\n",
              "      border: none;\n",
              "      border-radius: 50%;\n",
              "      cursor: pointer;\n",
              "      display: none;\n",
              "      fill: #1967D2;\n",
              "      height: 32px;\n",
              "      padding: 0 0 0 0;\n",
              "      width: 32px;\n",
              "    }\n",
              "\n",
              "    .colab-df-convert:hover {\n",
              "      background-color: #E2EBFA;\n",
              "      box-shadow: 0px 1px 2px rgba(60, 64, 67, 0.3), 0px 1px 3px 1px rgba(60, 64, 67, 0.15);\n",
              "      fill: #174EA6;\n",
              "    }\n",
              "\n",
              "    [theme=dark] .colab-df-convert {\n",
              "      background-color: #3B4455;\n",
              "      fill: #D2E3FC;\n",
              "    }\n",
              "\n",
              "    [theme=dark] .colab-df-convert:hover {\n",
              "      background-color: #434B5C;\n",
              "      box-shadow: 0px 1px 3px 1px rgba(0, 0, 0, 0.15);\n",
              "      filter: drop-shadow(0px 1px 2px rgba(0, 0, 0, 0.3));\n",
              "      fill: #FFFFFF;\n",
              "    }\n",
              "  </style>\n",
              "\n",
              "      <script>\n",
              "        const buttonEl =\n",
              "          document.querySelector('#df-80cb6b3e-b55a-44ac-8fd2-720c9ef7e8a4 button.colab-df-convert');\n",
              "        buttonEl.style.display =\n",
              "          google.colab.kernel.accessAllowed ? 'block' : 'none';\n",
              "\n",
              "        async function convertToInteractive(key) {\n",
              "          const element = document.querySelector('#df-80cb6b3e-b55a-44ac-8fd2-720c9ef7e8a4');\n",
              "          const dataTable =\n",
              "            await google.colab.kernel.invokeFunction('convertToInteractive',\n",
              "                                                     [key], {});\n",
              "          if (!dataTable) return;\n",
              "\n",
              "          const docLinkHtml = 'Like what you see? Visit the ' +\n",
              "            '<a target=\"_blank\" href=https://colab.research.google.com/notebooks/data_table.ipynb>data table notebook</a>'\n",
              "            + ' to learn more about interactive tables.';\n",
              "          element.innerHTML = '';\n",
              "          dataTable['output_type'] = 'display_data';\n",
              "          await google.colab.output.renderOutput(dataTable, element);\n",
              "          const docLink = document.createElement('div');\n",
              "          docLink.innerHTML = docLinkHtml;\n",
              "          element.appendChild(docLink);\n",
              "        }\n",
              "      </script>\n",
              "    </div>\n",
              "  </div>\n",
              "  "
            ],
            "text/plain": [
              "        R-ref       G-ref  ...  Shad                                       Img\n",
              "0  233.315883  219.042529  ...    A1  57601EF7-37D5-4783-A278-238D30F60912.png\n",
              "1  233.194140  219.034007  ...    A1  5412037F-4AF3-43A2-A4ED-CADFEC0751E7.png\n",
              "2  228.266131  215.102914  ...    A1  456A44EC-FCBD-4487-B70C-F0E01333D15C.png\n",
              "3  233.271975  219.056732  ...    A1  834A3691-A011-4D07-8652-E2A2C8F1E3F7.png\n",
              "4  234.316776  220.035711  ...    A1  714E83ED-391B-480A-85E8-DC4AB8864683.png\n",
              "\n",
              "[5 rows x 16 columns]"
            ]
          },
          "metadata": {},
          "execution_count": 18
        }
      ]
    },
    {
      "cell_type": "code",
      "source": [
        "table_D3Set2 = pd.read_excel(Set2, sheet_name='D3Set2')\n",
        "table_D3Set2.head()"
      ],
      "metadata": {
        "colab": {
          "base_uri": "https://localhost:8080/",
          "height": 444
        },
        "outputId": "f8a337c5-ed08-4acd-de7e-4b34613546f8",
        "id": "cFakwmd6x90W"
      },
      "execution_count": null,
      "outputs": [
        {
          "output_type": "execute_result",
          "data": {
            "text/html": [
              "\n",
              "  <div id=\"df-beae3103-1722-4a81-bb59-1e064f6e1016\">\n",
              "    <div class=\"colab-df-container\">\n",
              "      <div>\n",
              "<style scoped>\n",
              "    .dataframe tbody tr th:only-of-type {\n",
              "        vertical-align: middle;\n",
              "    }\n",
              "\n",
              "    .dataframe tbody tr th {\n",
              "        vertical-align: top;\n",
              "    }\n",
              "\n",
              "    .dataframe thead th {\n",
              "        text-align: right;\n",
              "    }\n",
              "</style>\n",
              "<table border=\"1\" class=\"dataframe\">\n",
              "  <thead>\n",
              "    <tr style=\"text-align: right;\">\n",
              "      <th></th>\n",
              "      <th>R-ref</th>\n",
              "      <th>G-ref</th>\n",
              "      <th>B-ref</th>\n",
              "      <th>R-Shad</th>\n",
              "      <th>G-Shad</th>\n",
              "      <th>B-Shad</th>\n",
              "      <th>H-ref</th>\n",
              "      <th>S-ref</th>\n",
              "      <th>V-ref</th>\n",
              "      <th>H-Shad</th>\n",
              "      <th>S-Shad</th>\n",
              "      <th>V-Shad</th>\n",
              "      <th>Setting</th>\n",
              "      <th>Ref</th>\n",
              "      <th>Shad</th>\n",
              "      <th>Img</th>\n",
              "    </tr>\n",
              "  </thead>\n",
              "  <tbody>\n",
              "    <tr>\n",
              "      <th>0</th>\n",
              "      <td>233.496795</td>\n",
              "      <td>219.459984</td>\n",
              "      <td>183.541861</td>\n",
              "      <td>226.103698</td>\n",
              "      <td>210.819850</td>\n",
              "      <td>176.733852</td>\n",
              "      <td>21.614122</td>\n",
              "      <td>54.612082</td>\n",
              "      <td>233.496795</td>\n",
              "      <td>20.574275</td>\n",
              "      <td>55.678528</td>\n",
              "      <td>226.103698</td>\n",
              "      <td>Set2</td>\n",
              "      <td>D3</td>\n",
              "      <td>A1</td>\n",
              "      <td>BA355DCE-C148-4BBE-8A48-F96D2DDEB36B.png</td>\n",
              "    </tr>\n",
              "    <tr>\n",
              "      <th>1</th>\n",
              "      <td>233.355381</td>\n",
              "      <td>219.439880</td>\n",
              "      <td>183.049242</td>\n",
              "      <td>226.136225</td>\n",
              "      <td>210.611621</td>\n",
              "      <td>176.276619</td>\n",
              "      <td>21.770688</td>\n",
              "      <td>55.038073</td>\n",
              "      <td>233.355381</td>\n",
              "      <td>20.556946</td>\n",
              "      <td>56.211195</td>\n",
              "      <td>226.136225</td>\n",
              "      <td>Set2</td>\n",
              "      <td>D3</td>\n",
              "      <td>A1</td>\n",
              "      <td>40E1D41D-38C4-42B0-B31F-CA1712DB393E.png</td>\n",
              "    </tr>\n",
              "    <tr>\n",
              "      <th>2</th>\n",
              "      <td>228.504662</td>\n",
              "      <td>215.655983</td>\n",
              "      <td>181.190171</td>\n",
              "      <td>220.799092</td>\n",
              "      <td>205.492077</td>\n",
              "      <td>172.120749</td>\n",
              "      <td>21.929779</td>\n",
              "      <td>52.862374</td>\n",
              "      <td>228.504662</td>\n",
              "      <td>20.366416</td>\n",
              "      <td>56.219998</td>\n",
              "      <td>220.799092</td>\n",
              "      <td>Set2</td>\n",
              "      <td>D3</td>\n",
              "      <td>A1</td>\n",
              "      <td>59338A02-6279-42FF-A2CA-E970BAE29C55.png</td>\n",
              "    </tr>\n",
              "    <tr>\n",
              "      <th>3</th>\n",
              "      <td>233.467172</td>\n",
              "      <td>219.479118</td>\n",
              "      <td>182.892580</td>\n",
              "      <td>226.386711</td>\n",
              "      <td>210.920397</td>\n",
              "      <td>176.047818</td>\n",
              "      <td>21.751943</td>\n",
              "      <td>55.308761</td>\n",
              "      <td>233.467172</td>\n",
              "      <td>20.750811</td>\n",
              "      <td>56.671764</td>\n",
              "      <td>226.386711</td>\n",
              "      <td>Set2</td>\n",
              "      <td>D3</td>\n",
              "      <td>A1</td>\n",
              "      <td>847D87DE-CDA4-49D8-8411-34DFEAD6A06F.png</td>\n",
              "    </tr>\n",
              "    <tr>\n",
              "      <th>4</th>\n",
              "      <td>234.509615</td>\n",
              "      <td>220.490385</td>\n",
              "      <td>184.508256</td>\n",
              "      <td>227.663423</td>\n",
              "      <td>212.284033</td>\n",
              "      <td>178.291261</td>\n",
              "      <td>21.661131</td>\n",
              "      <td>54.405206</td>\n",
              "      <td>234.509615</td>\n",
              "      <td>20.525438</td>\n",
              "      <td>55.283848</td>\n",
              "      <td>227.663423</td>\n",
              "      <td>Set2</td>\n",
              "      <td>D3</td>\n",
              "      <td>A1</td>\n",
              "      <td>836F8028-4744-4B50-BFA8-DD71556DC524.png</td>\n",
              "    </tr>\n",
              "  </tbody>\n",
              "</table>\n",
              "</div>\n",
              "      <button class=\"colab-df-convert\" onclick=\"convertToInteractive('df-beae3103-1722-4a81-bb59-1e064f6e1016')\"\n",
              "              title=\"Convert this dataframe to an interactive table.\"\n",
              "              style=\"display:none;\">\n",
              "        \n",
              "  <svg xmlns=\"http://www.w3.org/2000/svg\" height=\"24px\"viewBox=\"0 0 24 24\"\n",
              "       width=\"24px\">\n",
              "    <path d=\"M0 0h24v24H0V0z\" fill=\"none\"/>\n",
              "    <path d=\"M18.56 5.44l.94 2.06.94-2.06 2.06-.94-2.06-.94-.94-2.06-.94 2.06-2.06.94zm-11 1L8.5 8.5l.94-2.06 2.06-.94-2.06-.94L8.5 2.5l-.94 2.06-2.06.94zm10 10l.94 2.06.94-2.06 2.06-.94-2.06-.94-.94-2.06-.94 2.06-2.06.94z\"/><path d=\"M17.41 7.96l-1.37-1.37c-.4-.4-.92-.59-1.43-.59-.52 0-1.04.2-1.43.59L10.3 9.45l-7.72 7.72c-.78.78-.78 2.05 0 2.83L4 21.41c.39.39.9.59 1.41.59.51 0 1.02-.2 1.41-.59l7.78-7.78 2.81-2.81c.8-.78.8-2.07 0-2.86zM5.41 20L4 18.59l7.72-7.72 1.47 1.35L5.41 20z\"/>\n",
              "  </svg>\n",
              "      </button>\n",
              "      \n",
              "  <style>\n",
              "    .colab-df-container {\n",
              "      display:flex;\n",
              "      flex-wrap:wrap;\n",
              "      gap: 12px;\n",
              "    }\n",
              "\n",
              "    .colab-df-convert {\n",
              "      background-color: #E8F0FE;\n",
              "      border: none;\n",
              "      border-radius: 50%;\n",
              "      cursor: pointer;\n",
              "      display: none;\n",
              "      fill: #1967D2;\n",
              "      height: 32px;\n",
              "      padding: 0 0 0 0;\n",
              "      width: 32px;\n",
              "    }\n",
              "\n",
              "    .colab-df-convert:hover {\n",
              "      background-color: #E2EBFA;\n",
              "      box-shadow: 0px 1px 2px rgba(60, 64, 67, 0.3), 0px 1px 3px 1px rgba(60, 64, 67, 0.15);\n",
              "      fill: #174EA6;\n",
              "    }\n",
              "\n",
              "    [theme=dark] .colab-df-convert {\n",
              "      background-color: #3B4455;\n",
              "      fill: #D2E3FC;\n",
              "    }\n",
              "\n",
              "    [theme=dark] .colab-df-convert:hover {\n",
              "      background-color: #434B5C;\n",
              "      box-shadow: 0px 1px 3px 1px rgba(0, 0, 0, 0.15);\n",
              "      filter: drop-shadow(0px 1px 2px rgba(0, 0, 0, 0.3));\n",
              "      fill: #FFFFFF;\n",
              "    }\n",
              "  </style>\n",
              "\n",
              "      <script>\n",
              "        const buttonEl =\n",
              "          document.querySelector('#df-beae3103-1722-4a81-bb59-1e064f6e1016 button.colab-df-convert');\n",
              "        buttonEl.style.display =\n",
              "          google.colab.kernel.accessAllowed ? 'block' : 'none';\n",
              "\n",
              "        async function convertToInteractive(key) {\n",
              "          const element = document.querySelector('#df-beae3103-1722-4a81-bb59-1e064f6e1016');\n",
              "          const dataTable =\n",
              "            await google.colab.kernel.invokeFunction('convertToInteractive',\n",
              "                                                     [key], {});\n",
              "          if (!dataTable) return;\n",
              "\n",
              "          const docLinkHtml = 'Like what you see? Visit the ' +\n",
              "            '<a target=\"_blank\" href=https://colab.research.google.com/notebooks/data_table.ipynb>data table notebook</a>'\n",
              "            + ' to learn more about interactive tables.';\n",
              "          element.innerHTML = '';\n",
              "          dataTable['output_type'] = 'display_data';\n",
              "          await google.colab.output.renderOutput(dataTable, element);\n",
              "          const docLink = document.createElement('div');\n",
              "          docLink.innerHTML = docLinkHtml;\n",
              "          element.appendChild(docLink);\n",
              "        }\n",
              "      </script>\n",
              "    </div>\n",
              "  </div>\n",
              "  "
            ],
            "text/plain": [
              "        R-ref       G-ref  ...  Shad                                       Img\n",
              "0  233.496795  219.459984  ...    A1  BA355DCE-C148-4BBE-8A48-F96D2DDEB36B.png\n",
              "1  233.355381  219.439880  ...    A1  40E1D41D-38C4-42B0-B31F-CA1712DB393E.png\n",
              "2  228.504662  215.655983  ...    A1  59338A02-6279-42FF-A2CA-E970BAE29C55.png\n",
              "3  233.467172  219.479118  ...    A1  847D87DE-CDA4-49D8-8411-34DFEAD6A06F.png\n",
              "4  234.509615  220.490385  ...    A1  836F8028-4744-4B50-BFA8-DD71556DC524.png\n",
              "\n",
              "[5 rows x 16 columns]"
            ]
          },
          "metadata": {},
          "execution_count": 19
        }
      ]
    },
    {
      "cell_type": "code",
      "source": [
        "table_D3Set3 = pd.read_excel(Set3, sheet_name='D3Set3 ')\n",
        "table_D3Set3.head()"
      ],
      "metadata": {
        "colab": {
          "base_uri": "https://localhost:8080/",
          "height": 444
        },
        "outputId": "b5cc1cfc-7a9e-4275-f9a6-df22b7f3eb55",
        "id": "k_96o6p1x90W"
      },
      "execution_count": null,
      "outputs": [
        {
          "output_type": "execute_result",
          "data": {
            "text/html": [
              "\n",
              "  <div id=\"df-e8a162a5-1dd2-44b5-af1f-8795b7803543\">\n",
              "    <div class=\"colab-df-container\">\n",
              "      <div>\n",
              "<style scoped>\n",
              "    .dataframe tbody tr th:only-of-type {\n",
              "        vertical-align: middle;\n",
              "    }\n",
              "\n",
              "    .dataframe tbody tr th {\n",
              "        vertical-align: top;\n",
              "    }\n",
              "\n",
              "    .dataframe thead th {\n",
              "        text-align: right;\n",
              "    }\n",
              "</style>\n",
              "<table border=\"1\" class=\"dataframe\">\n",
              "  <thead>\n",
              "    <tr style=\"text-align: right;\">\n",
              "      <th></th>\n",
              "      <th>R-ref</th>\n",
              "      <th>G-ref</th>\n",
              "      <th>B-ref</th>\n",
              "      <th>R-Shad</th>\n",
              "      <th>G-Shad</th>\n",
              "      <th>B-Shad</th>\n",
              "      <th>H-ref</th>\n",
              "      <th>S-ref</th>\n",
              "      <th>V-ref</th>\n",
              "      <th>H-Shad</th>\n",
              "      <th>S-Shad</th>\n",
              "      <th>V-Shad</th>\n",
              "      <th>Setting</th>\n",
              "      <th>Ref</th>\n",
              "      <th>Shad</th>\n",
              "      <th>Img</th>\n",
              "    </tr>\n",
              "  </thead>\n",
              "  <tbody>\n",
              "    <tr>\n",
              "      <th>0</th>\n",
              "      <td>233.315883</td>\n",
              "      <td>219.042529</td>\n",
              "      <td>182.521062</td>\n",
              "      <td>233.667093</td>\n",
              "      <td>219.760757</td>\n",
              "      <td>183.891046</td>\n",
              "      <td>21.621378</td>\n",
              "      <td>55.572843</td>\n",
              "      <td>233.315883</td>\n",
              "      <td>21.686509</td>\n",
              "      <td>54.387028</td>\n",
              "      <td>233.667093</td>\n",
              "      <td>Set3</td>\n",
              "      <td>D3</td>\n",
              "      <td>A1</td>\n",
              "      <td>44F32CB2-4AC3-4AA4-B00C-0873A77C39FB.png</td>\n",
              "    </tr>\n",
              "    <tr>\n",
              "      <th>1</th>\n",
              "      <td>233.194140</td>\n",
              "      <td>219.034007</td>\n",
              "      <td>182.078484</td>\n",
              "      <td>233.563331</td>\n",
              "      <td>219.768224</td>\n",
              "      <td>183.451248</td>\n",
              "      <td>21.768038</td>\n",
              "      <td>55.961773</td>\n",
              "      <td>233.194140</td>\n",
              "      <td>21.826755</td>\n",
              "      <td>54.788991</td>\n",
              "      <td>233.563331</td>\n",
              "      <td>Set3</td>\n",
              "      <td>D3</td>\n",
              "      <td>A1</td>\n",
              "      <td>2CDD72C1-95CD-437D-861D-22AF8E89C9CD.png</td>\n",
              "    </tr>\n",
              "    <tr>\n",
              "      <th>2</th>\n",
              "      <td>228.266131</td>\n",
              "      <td>215.102914</td>\n",
              "      <td>179.983605</td>\n",
              "      <td>228.810113</td>\n",
              "      <td>215.946590</td>\n",
              "      <td>181.582960</td>\n",
              "      <td>21.894408</td>\n",
              "      <td>54.001299</td>\n",
              "      <td>228.266131</td>\n",
              "      <td>21.907972</td>\n",
              "      <td>52.719863</td>\n",
              "      <td>228.810113</td>\n",
              "      <td>Set3</td>\n",
              "      <td>D3</td>\n",
              "      <td>A1</td>\n",
              "      <td>CBFB3E49-B585-4DE7-996B-CB1409AD9FBA.png</td>\n",
              "    </tr>\n",
              "    <tr>\n",
              "      <th>3</th>\n",
              "      <td>233.271975</td>\n",
              "      <td>219.056732</td>\n",
              "      <td>181.960799</td>\n",
              "      <td>233.632672</td>\n",
              "      <td>219.760828</td>\n",
              "      <td>183.255672</td>\n",
              "      <td>21.744014</td>\n",
              "      <td>56.161351</td>\n",
              "      <td>233.271975</td>\n",
              "      <td>21.790698</td>\n",
              "      <td>55.064434</td>\n",
              "      <td>233.632672</td>\n",
              "      <td>Set3</td>\n",
              "      <td>D3</td>\n",
              "      <td>A1</td>\n",
              "      <td>74C493A4-A4F6-472E-A771-763A75C24A4F.png</td>\n",
              "    </tr>\n",
              "    <tr>\n",
              "      <th>4</th>\n",
              "      <td>234.316776</td>\n",
              "      <td>220.035711</td>\n",
              "      <td>183.531856</td>\n",
              "      <td>234.724131</td>\n",
              "      <td>220.744968</td>\n",
              "      <td>184.855985</td>\n",
              "      <td>21.653843</td>\n",
              "      <td>55.306387</td>\n",
              "      <td>234.316776</td>\n",
              "      <td>21.684873</td>\n",
              "      <td>54.232203</td>\n",
              "      <td>234.724131</td>\n",
              "      <td>Set3</td>\n",
              "      <td>D3</td>\n",
              "      <td>A1</td>\n",
              "      <td>962C3361-D41F-42C8-B4E2-D58066BB75ED.png</td>\n",
              "    </tr>\n",
              "  </tbody>\n",
              "</table>\n",
              "</div>\n",
              "      <button class=\"colab-df-convert\" onclick=\"convertToInteractive('df-e8a162a5-1dd2-44b5-af1f-8795b7803543')\"\n",
              "              title=\"Convert this dataframe to an interactive table.\"\n",
              "              style=\"display:none;\">\n",
              "        \n",
              "  <svg xmlns=\"http://www.w3.org/2000/svg\" height=\"24px\"viewBox=\"0 0 24 24\"\n",
              "       width=\"24px\">\n",
              "    <path d=\"M0 0h24v24H0V0z\" fill=\"none\"/>\n",
              "    <path d=\"M18.56 5.44l.94 2.06.94-2.06 2.06-.94-2.06-.94-.94-2.06-.94 2.06-2.06.94zm-11 1L8.5 8.5l.94-2.06 2.06-.94-2.06-.94L8.5 2.5l-.94 2.06-2.06.94zm10 10l.94 2.06.94-2.06 2.06-.94-2.06-.94-.94-2.06-.94 2.06-2.06.94z\"/><path d=\"M17.41 7.96l-1.37-1.37c-.4-.4-.92-.59-1.43-.59-.52 0-1.04.2-1.43.59L10.3 9.45l-7.72 7.72c-.78.78-.78 2.05 0 2.83L4 21.41c.39.39.9.59 1.41.59.51 0 1.02-.2 1.41-.59l7.78-7.78 2.81-2.81c.8-.78.8-2.07 0-2.86zM5.41 20L4 18.59l7.72-7.72 1.47 1.35L5.41 20z\"/>\n",
              "  </svg>\n",
              "      </button>\n",
              "      \n",
              "  <style>\n",
              "    .colab-df-container {\n",
              "      display:flex;\n",
              "      flex-wrap:wrap;\n",
              "      gap: 12px;\n",
              "    }\n",
              "\n",
              "    .colab-df-convert {\n",
              "      background-color: #E8F0FE;\n",
              "      border: none;\n",
              "      border-radius: 50%;\n",
              "      cursor: pointer;\n",
              "      display: none;\n",
              "      fill: #1967D2;\n",
              "      height: 32px;\n",
              "      padding: 0 0 0 0;\n",
              "      width: 32px;\n",
              "    }\n",
              "\n",
              "    .colab-df-convert:hover {\n",
              "      background-color: #E2EBFA;\n",
              "      box-shadow: 0px 1px 2px rgba(60, 64, 67, 0.3), 0px 1px 3px 1px rgba(60, 64, 67, 0.15);\n",
              "      fill: #174EA6;\n",
              "    }\n",
              "\n",
              "    [theme=dark] .colab-df-convert {\n",
              "      background-color: #3B4455;\n",
              "      fill: #D2E3FC;\n",
              "    }\n",
              "\n",
              "    [theme=dark] .colab-df-convert:hover {\n",
              "      background-color: #434B5C;\n",
              "      box-shadow: 0px 1px 3px 1px rgba(0, 0, 0, 0.15);\n",
              "      filter: drop-shadow(0px 1px 2px rgba(0, 0, 0, 0.3));\n",
              "      fill: #FFFFFF;\n",
              "    }\n",
              "  </style>\n",
              "\n",
              "      <script>\n",
              "        const buttonEl =\n",
              "          document.querySelector('#df-e8a162a5-1dd2-44b5-af1f-8795b7803543 button.colab-df-convert');\n",
              "        buttonEl.style.display =\n",
              "          google.colab.kernel.accessAllowed ? 'block' : 'none';\n",
              "\n",
              "        async function convertToInteractive(key) {\n",
              "          const element = document.querySelector('#df-e8a162a5-1dd2-44b5-af1f-8795b7803543');\n",
              "          const dataTable =\n",
              "            await google.colab.kernel.invokeFunction('convertToInteractive',\n",
              "                                                     [key], {});\n",
              "          if (!dataTable) return;\n",
              "\n",
              "          const docLinkHtml = 'Like what you see? Visit the ' +\n",
              "            '<a target=\"_blank\" href=https://colab.research.google.com/notebooks/data_table.ipynb>data table notebook</a>'\n",
              "            + ' to learn more about interactive tables.';\n",
              "          element.innerHTML = '';\n",
              "          dataTable['output_type'] = 'display_data';\n",
              "          await google.colab.output.renderOutput(dataTable, element);\n",
              "          const docLink = document.createElement('div');\n",
              "          docLink.innerHTML = docLinkHtml;\n",
              "          element.appendChild(docLink);\n",
              "        }\n",
              "      </script>\n",
              "    </div>\n",
              "  </div>\n",
              "  "
            ],
            "text/plain": [
              "        R-ref       G-ref  ...  Shad                                       Img\n",
              "0  233.315883  219.042529  ...    A1  44F32CB2-4AC3-4AA4-B00C-0873A77C39FB.png\n",
              "1  233.194140  219.034007  ...    A1  2CDD72C1-95CD-437D-861D-22AF8E89C9CD.png\n",
              "2  228.266131  215.102914  ...    A1  CBFB3E49-B585-4DE7-996B-CB1409AD9FBA.png\n",
              "3  233.271975  219.056732  ...    A1  74C493A4-A4F6-472E-A771-763A75C24A4F.png\n",
              "4  234.316776  220.035711  ...    A1  962C3361-D41F-42C8-B4E2-D58066BB75ED.png\n",
              "\n",
              "[5 rows x 16 columns]"
            ]
          },
          "metadata": {},
          "execution_count": 20
        }
      ]
    },
    {
      "cell_type": "code",
      "source": [
        "table_D3Set4 = pd.read_excel(Set4, sheet_name='D3Set4')\n",
        "table_D3Set4.head()"
      ],
      "metadata": {
        "colab": {
          "base_uri": "https://localhost:8080/",
          "height": 444
        },
        "outputId": "6f37c79e-f9e9-4103-9323-708ee9126649",
        "id": "cuqvRlS1x90W"
      },
      "execution_count": null,
      "outputs": [
        {
          "output_type": "execute_result",
          "data": {
            "text/html": [
              "\n",
              "  <div id=\"df-e3b23b8a-a5b4-4987-b3aa-dcfe0f82daec\">\n",
              "    <div class=\"colab-df-container\">\n",
              "      <div>\n",
              "<style scoped>\n",
              "    .dataframe tbody tr th:only-of-type {\n",
              "        vertical-align: middle;\n",
              "    }\n",
              "\n",
              "    .dataframe tbody tr th {\n",
              "        vertical-align: top;\n",
              "    }\n",
              "\n",
              "    .dataframe thead th {\n",
              "        text-align: right;\n",
              "    }\n",
              "</style>\n",
              "<table border=\"1\" class=\"dataframe\">\n",
              "  <thead>\n",
              "    <tr style=\"text-align: right;\">\n",
              "      <th></th>\n",
              "      <th>R-ref</th>\n",
              "      <th>G-ref</th>\n",
              "      <th>B-ref</th>\n",
              "      <th>R-Shad</th>\n",
              "      <th>G-Shad</th>\n",
              "      <th>B-Shad</th>\n",
              "      <th>H-ref</th>\n",
              "      <th>S-ref</th>\n",
              "      <th>V-ref</th>\n",
              "      <th>H-Shad</th>\n",
              "      <th>S-Shad</th>\n",
              "      <th>V-Shad</th>\n",
              "      <th>Setting</th>\n",
              "      <th>Ref</th>\n",
              "      <th>Shad</th>\n",
              "      <th>Img</th>\n",
              "    </tr>\n",
              "  </thead>\n",
              "  <tbody>\n",
              "    <tr>\n",
              "      <th>0</th>\n",
              "      <td>233.496795</td>\n",
              "      <td>219.459984</td>\n",
              "      <td>183.541861</td>\n",
              "      <td>226.103698</td>\n",
              "      <td>210.819850</td>\n",
              "      <td>176.733852</td>\n",
              "      <td>21.614122</td>\n",
              "      <td>54.612082</td>\n",
              "      <td>233.496795</td>\n",
              "      <td>20.574275</td>\n",
              "      <td>55.678528</td>\n",
              "      <td>226.103698</td>\n",
              "      <td>Set4</td>\n",
              "      <td>D3</td>\n",
              "      <td>A1</td>\n",
              "      <td>55D1922F-F23E-42B3-9163-13EDAA8937B9.png</td>\n",
              "    </tr>\n",
              "    <tr>\n",
              "      <th>1</th>\n",
              "      <td>233.355381</td>\n",
              "      <td>219.439880</td>\n",
              "      <td>183.049242</td>\n",
              "      <td>226.136225</td>\n",
              "      <td>210.611621</td>\n",
              "      <td>176.276619</td>\n",
              "      <td>21.770688</td>\n",
              "      <td>55.038073</td>\n",
              "      <td>233.355381</td>\n",
              "      <td>20.556946</td>\n",
              "      <td>56.211195</td>\n",
              "      <td>226.136225</td>\n",
              "      <td>Set4</td>\n",
              "      <td>D3</td>\n",
              "      <td>A1</td>\n",
              "      <td>039D73E5-8D95-487A-9124-4544316E1B0B.png</td>\n",
              "    </tr>\n",
              "    <tr>\n",
              "      <th>2</th>\n",
              "      <td>228.504662</td>\n",
              "      <td>215.655983</td>\n",
              "      <td>181.190171</td>\n",
              "      <td>220.799092</td>\n",
              "      <td>205.492077</td>\n",
              "      <td>172.120749</td>\n",
              "      <td>21.929779</td>\n",
              "      <td>52.862374</td>\n",
              "      <td>228.504662</td>\n",
              "      <td>20.366416</td>\n",
              "      <td>56.219998</td>\n",
              "      <td>220.799092</td>\n",
              "      <td>Set4</td>\n",
              "      <td>D3</td>\n",
              "      <td>A1</td>\n",
              "      <td>FB040BAB-00C0-4A01-963B-59CF94123044.png</td>\n",
              "    </tr>\n",
              "    <tr>\n",
              "      <th>3</th>\n",
              "      <td>233.467172</td>\n",
              "      <td>219.479118</td>\n",
              "      <td>182.892580</td>\n",
              "      <td>226.386711</td>\n",
              "      <td>210.920397</td>\n",
              "      <td>176.047818</td>\n",
              "      <td>21.751943</td>\n",
              "      <td>55.308761</td>\n",
              "      <td>233.467172</td>\n",
              "      <td>20.750811</td>\n",
              "      <td>56.671764</td>\n",
              "      <td>226.386711</td>\n",
              "      <td>Set4</td>\n",
              "      <td>D3</td>\n",
              "      <td>A1</td>\n",
              "      <td>33D7101E-615D-4D53-BBF4-1FFC799B1FAF.png</td>\n",
              "    </tr>\n",
              "    <tr>\n",
              "      <th>4</th>\n",
              "      <td>234.509615</td>\n",
              "      <td>220.490385</td>\n",
              "      <td>184.508256</td>\n",
              "      <td>227.663423</td>\n",
              "      <td>212.284033</td>\n",
              "      <td>178.291261</td>\n",
              "      <td>21.661131</td>\n",
              "      <td>54.405206</td>\n",
              "      <td>234.509615</td>\n",
              "      <td>20.525438</td>\n",
              "      <td>55.283848</td>\n",
              "      <td>227.663423</td>\n",
              "      <td>Set4</td>\n",
              "      <td>D3</td>\n",
              "      <td>A1</td>\n",
              "      <td>89130C74-286A-4614-9CCF-2423B2AC601B.png</td>\n",
              "    </tr>\n",
              "  </tbody>\n",
              "</table>\n",
              "</div>\n",
              "      <button class=\"colab-df-convert\" onclick=\"convertToInteractive('df-e3b23b8a-a5b4-4987-b3aa-dcfe0f82daec')\"\n",
              "              title=\"Convert this dataframe to an interactive table.\"\n",
              "              style=\"display:none;\">\n",
              "        \n",
              "  <svg xmlns=\"http://www.w3.org/2000/svg\" height=\"24px\"viewBox=\"0 0 24 24\"\n",
              "       width=\"24px\">\n",
              "    <path d=\"M0 0h24v24H0V0z\" fill=\"none\"/>\n",
              "    <path d=\"M18.56 5.44l.94 2.06.94-2.06 2.06-.94-2.06-.94-.94-2.06-.94 2.06-2.06.94zm-11 1L8.5 8.5l.94-2.06 2.06-.94-2.06-.94L8.5 2.5l-.94 2.06-2.06.94zm10 10l.94 2.06.94-2.06 2.06-.94-2.06-.94-.94-2.06-.94 2.06-2.06.94z\"/><path d=\"M17.41 7.96l-1.37-1.37c-.4-.4-.92-.59-1.43-.59-.52 0-1.04.2-1.43.59L10.3 9.45l-7.72 7.72c-.78.78-.78 2.05 0 2.83L4 21.41c.39.39.9.59 1.41.59.51 0 1.02-.2 1.41-.59l7.78-7.78 2.81-2.81c.8-.78.8-2.07 0-2.86zM5.41 20L4 18.59l7.72-7.72 1.47 1.35L5.41 20z\"/>\n",
              "  </svg>\n",
              "      </button>\n",
              "      \n",
              "  <style>\n",
              "    .colab-df-container {\n",
              "      display:flex;\n",
              "      flex-wrap:wrap;\n",
              "      gap: 12px;\n",
              "    }\n",
              "\n",
              "    .colab-df-convert {\n",
              "      background-color: #E8F0FE;\n",
              "      border: none;\n",
              "      border-radius: 50%;\n",
              "      cursor: pointer;\n",
              "      display: none;\n",
              "      fill: #1967D2;\n",
              "      height: 32px;\n",
              "      padding: 0 0 0 0;\n",
              "      width: 32px;\n",
              "    }\n",
              "\n",
              "    .colab-df-convert:hover {\n",
              "      background-color: #E2EBFA;\n",
              "      box-shadow: 0px 1px 2px rgba(60, 64, 67, 0.3), 0px 1px 3px 1px rgba(60, 64, 67, 0.15);\n",
              "      fill: #174EA6;\n",
              "    }\n",
              "\n",
              "    [theme=dark] .colab-df-convert {\n",
              "      background-color: #3B4455;\n",
              "      fill: #D2E3FC;\n",
              "    }\n",
              "\n",
              "    [theme=dark] .colab-df-convert:hover {\n",
              "      background-color: #434B5C;\n",
              "      box-shadow: 0px 1px 3px 1px rgba(0, 0, 0, 0.15);\n",
              "      filter: drop-shadow(0px 1px 2px rgba(0, 0, 0, 0.3));\n",
              "      fill: #FFFFFF;\n",
              "    }\n",
              "  </style>\n",
              "\n",
              "      <script>\n",
              "        const buttonEl =\n",
              "          document.querySelector('#df-e3b23b8a-a5b4-4987-b3aa-dcfe0f82daec button.colab-df-convert');\n",
              "        buttonEl.style.display =\n",
              "          google.colab.kernel.accessAllowed ? 'block' : 'none';\n",
              "\n",
              "        async function convertToInteractive(key) {\n",
              "          const element = document.querySelector('#df-e3b23b8a-a5b4-4987-b3aa-dcfe0f82daec');\n",
              "          const dataTable =\n",
              "            await google.colab.kernel.invokeFunction('convertToInteractive',\n",
              "                                                     [key], {});\n",
              "          if (!dataTable) return;\n",
              "\n",
              "          const docLinkHtml = 'Like what you see? Visit the ' +\n",
              "            '<a target=\"_blank\" href=https://colab.research.google.com/notebooks/data_table.ipynb>data table notebook</a>'\n",
              "            + ' to learn more about interactive tables.';\n",
              "          element.innerHTML = '';\n",
              "          dataTable['output_type'] = 'display_data';\n",
              "          await google.colab.output.renderOutput(dataTable, element);\n",
              "          const docLink = document.createElement('div');\n",
              "          docLink.innerHTML = docLinkHtml;\n",
              "          element.appendChild(docLink);\n",
              "        }\n",
              "      </script>\n",
              "    </div>\n",
              "  </div>\n",
              "  "
            ],
            "text/plain": [
              "        R-ref       G-ref  ...  Shad                                       Img\n",
              "0  233.496795  219.459984  ...    A1  55D1922F-F23E-42B3-9163-13EDAA8937B9.png\n",
              "1  233.355381  219.439880  ...    A1  039D73E5-8D95-487A-9124-4544316E1B0B.png\n",
              "2  228.504662  215.655983  ...    A1  FB040BAB-00C0-4A01-963B-59CF94123044.png\n",
              "3  233.467172  219.479118  ...    A1  33D7101E-615D-4D53-BBF4-1FFC799B1FAF.png\n",
              "4  234.509615  220.490385  ...    A1  89130C74-286A-4614-9CCF-2423B2AC601B.png\n",
              "\n",
              "[5 rows x 16 columns]"
            ]
          },
          "metadata": {},
          "execution_count": 21
        }
      ]
    },
    {
      "cell_type": "code",
      "source": [
        "RGB_D3_CC1 = table_D3CC1.drop(['H-ref','S-ref','V-ref','H-Shad','S-Shad','V-Shad','Setting','Ref','Shad','Img'], axis=1)"
      ],
      "metadata": {
        "id": "ZL9SpS_3Qo1o"
      },
      "execution_count": null,
      "outputs": []
    },
    {
      "cell_type": "code",
      "source": [
        "HSV_D3_CC1 = table_D3CC1.drop(['R-ref','G-ref','B-ref','R-Shad','G-Shad','B-Shad','Setting','Ref','Shad','Img'], axis=1)"
      ],
      "metadata": {
        "id": "FDmtDo4sQ2U2"
      },
      "execution_count": null,
      "outputs": []
    },
    {
      "cell_type": "code",
      "source": [
        "RGB_D3_CC2 = table_D3CC2.drop(['H-ref','S-ref','V-ref','H-Shad','S-Shad','V-Shad','Setting','Ref','Shad','Img'], axis=1)"
      ],
      "metadata": {
        "id": "oyhkZz3GRN3e"
      },
      "execution_count": null,
      "outputs": []
    },
    {
      "cell_type": "code",
      "source": [
        "HSV_D3_CC2 = table_D3CC2.drop(['R-ref','G-ref','B-ref','R-Shad','G-Shad','B-Shad','Setting','Ref','Shad','Img'], axis=1)"
      ],
      "metadata": {
        "id": "oxjnbhRcRN3e"
      },
      "execution_count": null,
      "outputs": []
    },
    {
      "cell_type": "markdown",
      "source": [
        "###RGB CC1 train Set1,2,3"
      ],
      "metadata": {
        "id": "CYvwE4PDx90W"
      }
    },
    {
      "cell_type": "code",
      "source": [
        "#ดึงตารางที่ต้องการใช้มาก่อน"
      ],
      "metadata": {
        "id": "zwQ1K_9bmapS"
      },
      "execution_count": null,
      "outputs": []
    },
    {
      "cell_type": "code",
      "source": [
        "RGB_D3_Set4_s1 = table_D3Set4"
      ],
      "metadata": {
        "id": "PlR5iWwRx90W"
      },
      "execution_count": null,
      "outputs": []
    },
    {
      "cell_type": "code",
      "source": [
        "RGB_D3_Set1_s1 = table_D3Set1"
      ],
      "metadata": {
        "id": "blPo4yEex90W"
      },
      "execution_count": null,
      "outputs": []
    },
    {
      "cell_type": "code",
      "source": [
        "RGB_D3_Set2_s1 = table_D3Set2"
      ],
      "metadata": {
        "id": "h-p_12Ffx90W"
      },
      "execution_count": null,
      "outputs": []
    },
    {
      "cell_type": "code",
      "source": [
        "RGB_D3_Set3_s1 = table_D3Set3"
      ],
      "metadata": {
        "id": "_gplnOW-x90X"
      },
      "execution_count": null,
      "outputs": []
    },
    {
      "cell_type": "code",
      "source": [
        "RGB_D3_concat0_s1 = pd.concat([RGB_D3_Set1_s1,RGB_D3_Set2_s1])"
      ],
      "metadata": {
        "id": "P2_3rUpYok-H"
      },
      "execution_count": null,
      "outputs": []
    },
    {
      "cell_type": "code",
      "source": [
        "RGB_D3_concat1_s1 = pd.concat([RGB_D3_concat0_s1,RGB_D3_Set4_s1])\n",
        "#รวมตารางของแต่ละ setting เข้าด้วยกันเพื่อใช้ในการ train ข้อมูล"
      ],
      "metadata": {
        "id": "lS7r_4VVx90X"
      },
      "execution_count": null,
      "outputs": []
    },
    {
      "cell_type": "code",
      "source": [
        "RGB_D3_concat2_s1 = RGB_D3_concat1_s1.drop(['H-ref','S-ref','V-ref','H-Shad','S-Shad','V-Shad','Setting','Ref','Shad','Img'], axis=1)\n",
        "#เอาเฉพาะตัวตารางที่เป็น RGB ออกมา"
      ],
      "metadata": {
        "id": "1yMt6NzXx90X"
      },
      "execution_count": null,
      "outputs": []
    },
    {
      "cell_type": "code",
      "source": [
        "X_test_D3_RGB_s1 = np.array(RGB_D3_CC1)"
      ],
      "metadata": {
        "id": "ufA1_Y1xx90X"
      },
      "execution_count": null,
      "outputs": []
    },
    {
      "cell_type": "code",
      "source": [
        "y_D3_RGB_s1 =  table_D3CC1.iloc[:,14:15]\n",
        "#ใช้เฉพาะ column shad ในการจับคู่"
      ],
      "metadata": {
        "id": "-QW8SDSyx90X"
      },
      "execution_count": null,
      "outputs": []
    },
    {
      "cell_type": "code",
      "source": [
        "y_test_D3_RGB_s1 = np.array(y_D3_RGB_s1)#เปลี่ยนให้ค่าในตารางเป็น array "
      ],
      "metadata": {
        "id": "kL5UDJAUx90X"
      },
      "execution_count": null,
      "outputs": []
    },
    {
      "cell_type": "code",
      "source": [
        "X_train_D3_RGB_s1 = np.array(RGB_D3_concat2_s1)#เปลี่ยนให้ค่าในตารางเป็น array "
      ],
      "metadata": {
        "id": "I-j7R3Tnx90X"
      },
      "execution_count": null,
      "outputs": []
    },
    {
      "cell_type": "code",
      "source": [
        "y_train_D3RGB_s1 = RGB_D3_concat1_s1.iloc[:,14:15]#ใช้เฉพาะ column shad ในการจับคู่"
      ],
      "metadata": {
        "id": "cuBbjTNYx90X"
      },
      "execution_count": null,
      "outputs": []
    },
    {
      "cell_type": "code",
      "source": [
        "y_train_D3_RGB_s1 = np.array(y_train_D3RGB_s1)#เปลี่ยนให้ค่าในตารางเป็น array "
      ],
      "metadata": {
        "id": "gB3TEG8Ox90Y"
      },
      "execution_count": null,
      "outputs": []
    },
    {
      "cell_type": "code",
      "source": [
        "y_train_D3_RGB_s1.shape = (len(y_train_D3_RGB_s1),)"
      ],
      "metadata": {
        "id": "5tlQDp4SG7pp"
      },
      "execution_count": null,
      "outputs": []
    },
    {
      "cell_type": "code",
      "source": [
        "clf.fit(X_train_D3_RGB_s1, y_train_D3_RGB_s1) #หาค่าเฉลี่ยและส่วนเบี่ยงเบนมาตราฐานของ x_train y_train"
      ],
      "metadata": {
        "colab": {
          "base_uri": "https://localhost:8080/"
        },
        "outputId": "257e462f-b3f5-4dd5-f81f-0f7dfd418703",
        "id": "owe-5XSGx90Y"
      },
      "execution_count": null,
      "outputs": [
        {
          "output_type": "stream",
          "name": "stderr",
          "text": [
            "/usr/local/lib/python3.7/dist-packages/ipykernel_launcher.py:1: DataConversionWarning: A column-vector y was passed when a 1d array was expected. Please change the shape of y to (n_samples,), for example using ravel().\n",
            "  \"\"\"Entry point for launching an IPython kernel.\n"
          ]
        },
        {
          "output_type": "execute_result",
          "data": {
            "text/plain": [
              "RandomForestClassifier()"
            ]
          },
          "metadata": {},
          "execution_count": 41
        }
      ]
    },
    {
      "cell_type": "code",
      "source": [
        "y_pred_D3_RGB_s1 = clf.predict(X_test_D3_RGB_s1) #ทำการจับคู่สีฟันด้วยวิธี random forest โดยใช้ X_test"
      ],
      "metadata": {
        "id": "_A7t5UNHx90Y"
      },
      "execution_count": null,
      "outputs": []
    },
    {
      "cell_type": "code",
      "source": [
        "print(\"Accuracy:\", metrics.accuracy_score(y_test_D3_RGB_s1, y_pred_D3_RGB_s1))\n",
        "#หาค่า Accuracy ระหว่าง y_test และ y_pred ว่าฟันสามารถจับคู่กันได้มาที่สุดเท่าไหร่"
      ],
      "metadata": {
        "colab": {
          "base_uri": "https://localhost:8080/"
        },
        "outputId": "81275081-4676-4c93-fde6-7055881eef73",
        "id": "j_-xWLsfx90Y"
      },
      "execution_count": null,
      "outputs": [
        {
          "output_type": "stream",
          "name": "stdout",
          "text": [
            "Accuracy: 0.0775\n"
          ]
        }
      ]
    },
    {
      "cell_type": "markdown",
      "source": [
        "###RGB CC1 train Set2,3,4"
      ],
      "metadata": {
        "id": "NFKcptRKHEUJ"
      }
    },
    {
      "cell_type": "code",
      "source": [
        "#ดึงตารางที่ต้องการใช้มาก่อน"
      ],
      "metadata": {
        "id": "dKavdXG3HEUJ"
      },
      "execution_count": null,
      "outputs": []
    },
    {
      "cell_type": "code",
      "source": [
        "RGB_D3_Set4_s2 = table_D3Set4"
      ],
      "metadata": {
        "id": "imb0jNvUHEUK"
      },
      "execution_count": null,
      "outputs": []
    },
    {
      "cell_type": "code",
      "source": [
        "RGB_D3_Set1_s2 = table_D3Set1"
      ],
      "metadata": {
        "id": "ghP4AK7jHEUK"
      },
      "execution_count": null,
      "outputs": []
    },
    {
      "cell_type": "code",
      "source": [
        "RGB_D3_Set2_s2 = table_D3Set2"
      ],
      "metadata": {
        "id": "z1XiKkkNHEUK"
      },
      "execution_count": null,
      "outputs": []
    },
    {
      "cell_type": "code",
      "source": [
        "RGB_D3_Set3_s2 = table_D3Set3"
      ],
      "metadata": {
        "id": "e5jhAGXKHEUK"
      },
      "execution_count": null,
      "outputs": []
    },
    {
      "cell_type": "code",
      "source": [
        "RGB_D3_concat0_s2 = pd.concat([RGB_D3_Set3_s2,RGB_D3_Set2_s2])"
      ],
      "metadata": {
        "id": "ENf4KWoQHEUK"
      },
      "execution_count": null,
      "outputs": []
    },
    {
      "cell_type": "code",
      "source": [
        "RGB_D3_concat1_s2 = pd.concat([RGB_D3_concat0_s2,RGB_D3_Set4_s2])\n",
        "#รวมตารางของแต่ละ setting เข้าด้วยกันเพื่อใช้ในการ train ข้อมูล"
      ],
      "metadata": {
        "id": "yzXmgl7DHEUK"
      },
      "execution_count": null,
      "outputs": []
    },
    {
      "cell_type": "code",
      "source": [
        "RGB_D3_concat2_s2 = RGB_D3_concat1_s2.drop(['H-ref','S-ref','V-ref','H-Shad','S-Shad','V-Shad','Setting','Ref','Shad','Img'], axis=1)\n",
        "#เอาเฉพาะตัวตารางที่เป็น RGB ออกมา"
      ],
      "metadata": {
        "id": "rkYHgi34HEUK"
      },
      "execution_count": null,
      "outputs": []
    },
    {
      "cell_type": "code",
      "source": [
        "X_test_D3_RGB_s2 = np.array(RGB_D3_CC1)"
      ],
      "metadata": {
        "id": "1SJVmgCEHEUK"
      },
      "execution_count": null,
      "outputs": []
    },
    {
      "cell_type": "code",
      "source": [
        "y_D3_RGB_s2 =  table_D3CC1.iloc[:,14:15]\n",
        "#ใช้เฉพาะ column shad ในการจับคู่"
      ],
      "metadata": {
        "id": "-6q9orBGHEUK"
      },
      "execution_count": null,
      "outputs": []
    },
    {
      "cell_type": "code",
      "source": [
        "y_test_D3_RGB_s2 = np.array(y_D3_RGB_s2)#เปลี่ยนให้ค่าในตารางเป็น array "
      ],
      "metadata": {
        "id": "e5FkkkXbHEUL"
      },
      "execution_count": null,
      "outputs": []
    },
    {
      "cell_type": "code",
      "source": [
        "X_train_D3_RGB_s2 = np.array(RGB_D3_concat2_s2)#เปลี่ยนให้ค่าในตารางเป็น array "
      ],
      "metadata": {
        "id": "xQomiAWoHEUL"
      },
      "execution_count": null,
      "outputs": []
    },
    {
      "cell_type": "code",
      "source": [
        "y_train_D3RGB_s2 = RGB_D3_concat1_s2.iloc[:,14:15]#ใช้เฉพาะ column shad ในการจับคู่"
      ],
      "metadata": {
        "id": "Ysx6S2o_HEUL"
      },
      "execution_count": null,
      "outputs": []
    },
    {
      "cell_type": "code",
      "source": [
        "y_train_D3_RGB_s2 = np.array(y_train_D3RGB_s2)#เปลี่ยนให้ค่าในตารางเป็น array "
      ],
      "metadata": {
        "id": "pBgtjn17HEUL"
      },
      "execution_count": null,
      "outputs": []
    },
    {
      "cell_type": "code",
      "source": [
        "y_train_D3_RGB_s2.shape = (len(y_train_D3_RGB_s2),)"
      ],
      "metadata": {
        "id": "tSHbH0SUHEUL"
      },
      "execution_count": null,
      "outputs": []
    },
    {
      "cell_type": "code",
      "source": [
        "clf.fit(X_train_D3_RGB_s2, y_train_D3_RGB_s2) #หาค่าเฉลี่ยและส่วนเบี่ยงเบนมาตราฐานของ x_train y_train"
      ],
      "metadata": {
        "colab": {
          "base_uri": "https://localhost:8080/"
        },
        "outputId": "257e462f-b3f5-4dd5-f81f-0f7dfd418703",
        "id": "13nAufGnHEUL"
      },
      "execution_count": null,
      "outputs": [
        {
          "output_type": "stream",
          "name": "stderr",
          "text": [
            "/usr/local/lib/python3.7/dist-packages/ipykernel_launcher.py:1: DataConversionWarning: A column-vector y was passed when a 1d array was expected. Please change the shape of y to (n_samples,), for example using ravel().\n",
            "  \"\"\"Entry point for launching an IPython kernel.\n"
          ]
        },
        {
          "output_type": "execute_result",
          "data": {
            "text/plain": [
              "RandomForestClassifier()"
            ]
          },
          "metadata": {},
          "execution_count": 41
        }
      ]
    },
    {
      "cell_type": "code",
      "source": [
        "y_pred_D3_RGB_s2 = clf.predict(X_test_D3_RGB_s2) #ทำการจับคู่สีฟันด้วยวิธี random forest โดยใช้ X_test"
      ],
      "metadata": {
        "id": "4uemVLmkHEUL"
      },
      "execution_count": null,
      "outputs": []
    },
    {
      "cell_type": "code",
      "source": [
        "print(\"Accuracy:\", metrics.accuracy_score(y_test_D3_RGB_s2, y_pred_D3_RGB_s2))\n",
        "#หาค่า Accuracy ระหว่าง y_test และ y_pred ว่าฟันสามารถจับคู่กันได้มาที่สุดเท่าไหร่"
      ],
      "metadata": {
        "colab": {
          "base_uri": "https://localhost:8080/"
        },
        "outputId": "81275081-4676-4c93-fde6-7055881eef73",
        "id": "Hj_ToVrSHEUM"
      },
      "execution_count": null,
      "outputs": [
        {
          "output_type": "stream",
          "name": "stdout",
          "text": [
            "Accuracy: 0.0775\n"
          ]
        }
      ]
    },
    {
      "cell_type": "markdown",
      "source": [
        "###RGB CC1 train Set1,2,4"
      ],
      "metadata": {
        "id": "h8tr6y19HOCh"
      }
    },
    {
      "cell_type": "code",
      "source": [
        "#ดึงตารางที่ต้องการใช้มาก่อน"
      ],
      "metadata": {
        "id": "2BGr-OJrHOCh"
      },
      "execution_count": null,
      "outputs": []
    },
    {
      "cell_type": "code",
      "source": [
        "RGB_D3_Set4_s3 = table_D3Set4"
      ],
      "metadata": {
        "id": "xqwBPjlcHOCh"
      },
      "execution_count": null,
      "outputs": []
    },
    {
      "cell_type": "code",
      "source": [
        "RGB_D3_Set1_s3 = table_D3Set1"
      ],
      "metadata": {
        "id": "RuAWvTkkHOCi"
      },
      "execution_count": null,
      "outputs": []
    },
    {
      "cell_type": "code",
      "source": [
        "RGB_D3_Set2_s3 = table_D3Set2"
      ],
      "metadata": {
        "id": "Mt_6Hy5oHOCi"
      },
      "execution_count": null,
      "outputs": []
    },
    {
      "cell_type": "code",
      "source": [
        "RGB_D3_Set3_s3 = table_D3Set3"
      ],
      "metadata": {
        "id": "coz158JpHOCi"
      },
      "execution_count": null,
      "outputs": []
    },
    {
      "cell_type": "code",
      "source": [
        "RGB_D3_concat0_s3 = pd.concat([RGB_D3_Set1_s3,RGB_D3_Set2_s3])"
      ],
      "metadata": {
        "id": "x0xmPprjHOCi"
      },
      "execution_count": null,
      "outputs": []
    },
    {
      "cell_type": "code",
      "source": [
        "RGB_D3_concat1_s3 = pd.concat([RGB_D3_concat0_s3,RGB_D3_Set4_s3])\n",
        "#รวมตารางของแต่ละ setting เข้าด้วยกันเพื่อใช้ในการ train ข้อมูล"
      ],
      "metadata": {
        "id": "g-3VdJnLHOCi"
      },
      "execution_count": null,
      "outputs": []
    },
    {
      "cell_type": "code",
      "source": [
        "RGB_D3_concat2_s3 = RGB_D3_concat1_s3.drop(['H-ref','S-ref','V-ref','H-Shad','S-Shad','V-Shad','Setting','Ref','Shad','Img'], axis=1)\n",
        "#เอาเฉพาะตัวตารางที่เป็น RGB ออกมา"
      ],
      "metadata": {
        "id": "tiMW2uFnHOCi"
      },
      "execution_count": null,
      "outputs": []
    },
    {
      "cell_type": "code",
      "source": [
        "X_test_D3_RGB_s3 = np.array(RGB_D3_CC1_s3)"
      ],
      "metadata": {
        "id": "eVqbngqWHOCi"
      },
      "execution_count": null,
      "outputs": []
    },
    {
      "cell_type": "code",
      "source": [
        "y_D3_RGB_s3 =  table_D3CC1.iloc[:,14:15]\n",
        "#ใช้เฉพาะ column shad ในการจับคู่"
      ],
      "metadata": {
        "id": "8DTrl2i5HOCi"
      },
      "execution_count": null,
      "outputs": []
    },
    {
      "cell_type": "code",
      "source": [
        "y_test_D3_RGB_s3 = np.array(y_D3_RGB_s3)#เปลี่ยนให้ค่าในตารางเป็น array "
      ],
      "metadata": {
        "id": "xLRY0QMTHOCj"
      },
      "execution_count": null,
      "outputs": []
    },
    {
      "cell_type": "code",
      "source": [
        "X_train_D3_RGB_s3 = np.array(RGB_D3_concat2_s3)#เปลี่ยนให้ค่าในตารางเป็น array "
      ],
      "metadata": {
        "id": "Rypul69MHOCj"
      },
      "execution_count": null,
      "outputs": []
    },
    {
      "cell_type": "code",
      "source": [
        "y_train_D3RGB_s3 = RGB_D3_concat1_s3.iloc[:,14:15]#ใช้เฉพาะ column shad ในการจับคู่"
      ],
      "metadata": {
        "id": "WdsmXhCUHOCj"
      },
      "execution_count": null,
      "outputs": []
    },
    {
      "cell_type": "code",
      "source": [
        "y_train_D3_RGB_s3 = np.array(y_train_D3RGB_s3)#เปลี่ยนให้ค่าในตารางเป็น array "
      ],
      "metadata": {
        "id": "iqC72PZ0HOCj"
      },
      "execution_count": null,
      "outputs": []
    },
    {
      "cell_type": "code",
      "source": [
        "y_train_D3_RGB_s3.shape = (len(y_train_D3_RGB_s3),)"
      ],
      "metadata": {
        "id": "ZopYyrpaHOCj"
      },
      "execution_count": null,
      "outputs": []
    },
    {
      "cell_type": "code",
      "source": [
        "clf.fit(X_train_D3_RGB_s3, y_train_D3_RGB_s3) #หาค่าเฉลี่ยและส่วนเบี่ยงเบนมาตราฐานของ x_train y_train"
      ],
      "metadata": {
        "colab": {
          "base_uri": "https://localhost:8080/"
        },
        "outputId": "257e462f-b3f5-4dd5-f81f-0f7dfd418703",
        "id": "p3NzgCsKHOCj"
      },
      "execution_count": null,
      "outputs": [
        {
          "output_type": "stream",
          "name": "stderr",
          "text": [
            "/usr/local/lib/python3.7/dist-packages/ipykernel_launcher.py:1: DataConversionWarning: A column-vector y was passed when a 1d array was expected. Please change the shape of y to (n_samples,), for example using ravel().\n",
            "  \"\"\"Entry point for launching an IPython kernel.\n"
          ]
        },
        {
          "output_type": "execute_result",
          "data": {
            "text/plain": [
              "RandomForestClassifier()"
            ]
          },
          "metadata": {},
          "execution_count": 41
        }
      ]
    },
    {
      "cell_type": "code",
      "source": [
        "y_pred_D3_RGB_s3 = clf.predict(X_test_D3_RGB_s3) #ทำการจับคู่สีฟันด้วยวิธี random forest โดยใช้ X_test"
      ],
      "metadata": {
        "id": "2nQ5HVPsHOCj"
      },
      "execution_count": null,
      "outputs": []
    },
    {
      "cell_type": "code",
      "source": [
        "print(\"Accuracy:\", metrics.accuracy_score(y_test_D3_RGB_s3, y_pred_D3_RGB_s3))\n",
        "#หาค่า Accuracy ระหว่าง y_test และ y_pred ว่าฟันสามารถจับคู่กันได้มาที่สุดเท่าไหร่"
      ],
      "metadata": {
        "colab": {
          "base_uri": "https://localhost:8080/"
        },
        "outputId": "81275081-4676-4c93-fde6-7055881eef73",
        "id": "mmXT_hUlHOCj"
      },
      "execution_count": null,
      "outputs": [
        {
          "output_type": "stream",
          "name": "stdout",
          "text": [
            "Accuracy: 0.0775\n"
          ]
        }
      ]
    },
    {
      "cell_type": "markdown",
      "source": [
        "###RGB CC1 train Set1,4,3"
      ],
      "metadata": {
        "id": "xDmsdWqkHZ8p"
      }
    },
    {
      "cell_type": "code",
      "source": [
        "#ดึงตารางที่ต้องการใช้มาก่อน"
      ],
      "metadata": {
        "id": "EAlk-9xPHZ8q"
      },
      "execution_count": null,
      "outputs": []
    },
    {
      "cell_type": "code",
      "source": [
        "RGB_D3_Set4_s4 = table_D3Set4"
      ],
      "metadata": {
        "id": "CgkXRC98HZ8q"
      },
      "execution_count": null,
      "outputs": []
    },
    {
      "cell_type": "code",
      "source": [
        "RGB_D3_Set1_s4 = table_D3Set1"
      ],
      "metadata": {
        "id": "yIgMG9ArHZ8q"
      },
      "execution_count": null,
      "outputs": []
    },
    {
      "cell_type": "code",
      "source": [
        "RGB_D3_Set2_s4 = table_D3Set2"
      ],
      "metadata": {
        "id": "0hw84suTHZ8q"
      },
      "execution_count": null,
      "outputs": []
    },
    {
      "cell_type": "code",
      "source": [
        "RGB_D3_Set3_s4 = table_D3Set3"
      ],
      "metadata": {
        "id": "iq4dOR2sHZ8q"
      },
      "execution_count": null,
      "outputs": []
    },
    {
      "cell_type": "code",
      "source": [
        "RGB_D3_concat0_s4 = pd.concat([RGB_D3_Set1_s4,RGB_D3_Set3_s4])"
      ],
      "metadata": {
        "id": "uMjV2CJ0HZ8q"
      },
      "execution_count": null,
      "outputs": []
    },
    {
      "cell_type": "code",
      "source": [
        "RGB_D3_concat1_s4 = pd.concat([RGB_D3_concat0_s4,RGB_D3_Set4])\n",
        "#รวมตารางของแต่ละ setting เข้าด้วยกันเพื่อใช้ในการ train ข้อมูล"
      ],
      "metadata": {
        "id": "Vl61kxWyHZ8q"
      },
      "execution_count": null,
      "outputs": []
    },
    {
      "cell_type": "code",
      "source": [
        "RGB_D3_concat2_s4 = RGB_D3_concat1_s4.drop(['H-ref','S-ref','V-ref','H-Shad','S-Shad','V-Shad','Setting','Ref','Shad','Img'], axis=1)\n",
        "#เอาเฉพาะตัวตารางที่เป็น RGB ออกมา"
      ],
      "metadata": {
        "id": "Z_LgZ2uKHZ8r"
      },
      "execution_count": null,
      "outputs": []
    },
    {
      "cell_type": "code",
      "source": [
        "X_test_D3_RGB_s4 = np.array(RGB_D3_CC1)"
      ],
      "metadata": {
        "id": "cBy7sU-6HZ8r"
      },
      "execution_count": null,
      "outputs": []
    },
    {
      "cell_type": "code",
      "source": [
        "y_D3_RGB_s4 =  table_D3CC1_s4.iloc[:,14:15]\n",
        "#ใช้เฉพาะ column shad ในการจับคู่"
      ],
      "metadata": {
        "id": "P1Mou1ZsHZ8r"
      },
      "execution_count": null,
      "outputs": []
    },
    {
      "cell_type": "code",
      "source": [
        "y_test_D3_RGB_s4 = np.array(y_D3_RGB_s4)#เปลี่ยนให้ค่าในตารางเป็น array "
      ],
      "metadata": {
        "id": "5EXDD_YqHZ8r"
      },
      "execution_count": null,
      "outputs": []
    },
    {
      "cell_type": "code",
      "source": [
        "X_train_D3_RGB_s4 = np.array(RGB_D3_concat2_s4)#เปลี่ยนให้ค่าในตารางเป็น array "
      ],
      "metadata": {
        "id": "pomT7J7-HZ8r"
      },
      "execution_count": null,
      "outputs": []
    },
    {
      "cell_type": "code",
      "source": [
        "y_train_D3RGB_s4 = RGB_D3_concat1_s4.iloc[:,14:15]#ใช้เฉพาะ column shad ในการจับคู่"
      ],
      "metadata": {
        "id": "pqgxO4CDHZ8r"
      },
      "execution_count": null,
      "outputs": []
    },
    {
      "cell_type": "code",
      "source": [
        "y_train_D3_RGB_s4 = np.array(y_train_D3RGB_s4)#เปลี่ยนให้ค่าในตารางเป็น array "
      ],
      "metadata": {
        "id": "hmbCc4hNHZ8r"
      },
      "execution_count": null,
      "outputs": []
    },
    {
      "cell_type": "code",
      "source": [
        "y_train_D3_RGB_s4.shape = (len(y_train_D3_RGB_s4),)"
      ],
      "metadata": {
        "id": "ykzBwYbTHZ8s"
      },
      "execution_count": null,
      "outputs": []
    },
    {
      "cell_type": "code",
      "source": [
        "clf.fit(X_train_D3_RGB_s4, y_train_D3_RGB_s4) #หาค่าเฉลี่ยและส่วนเบี่ยงเบนมาตราฐานของ x_train y_train"
      ],
      "metadata": {
        "colab": {
          "base_uri": "https://localhost:8080/"
        },
        "outputId": "257e462f-b3f5-4dd5-f81f-0f7dfd418703",
        "id": "ebKNfQBPHZ8s"
      },
      "execution_count": null,
      "outputs": [
        {
          "output_type": "stream",
          "name": "stderr",
          "text": [
            "/usr/local/lib/python3.7/dist-packages/ipykernel_launcher.py:1: DataConversionWarning: A column-vector y was passed when a 1d array was expected. Please change the shape of y to (n_samples,), for example using ravel().\n",
            "  \"\"\"Entry point for launching an IPython kernel.\n"
          ]
        },
        {
          "output_type": "execute_result",
          "data": {
            "text/plain": [
              "RandomForestClassifier()"
            ]
          },
          "metadata": {},
          "execution_count": 41
        }
      ]
    },
    {
      "cell_type": "code",
      "source": [
        "y_pred_D3_RGB_s4 = clf.predict(X_test_D3_RGB_s4) #ทำการจับคู่สีฟันด้วยวิธี random forest โดยใช้ X_test"
      ],
      "metadata": {
        "id": "5lySbf0oHZ8s"
      },
      "execution_count": null,
      "outputs": []
    },
    {
      "cell_type": "code",
      "source": [
        "print(\"Accuracy:\", metrics.accuracy_score(y_test_D3_RGB_s4, y_pred_D3_RGB_s4))\n",
        "#หาค่า Accuracy ระหว่าง y_test และ y_pred ว่าฟันสามารถจับคู่กันได้มาที่สุดเท่าไหร่"
      ],
      "metadata": {
        "colab": {
          "base_uri": "https://localhost:8080/"
        },
        "outputId": "81275081-4676-4c93-fde6-7055881eef73",
        "id": "Xet1CE8RHZ8s"
      },
      "execution_count": null,
      "outputs": [
        {
          "output_type": "stream",
          "name": "stdout",
          "text": [
            "Accuracy: 0.0775\n"
          ]
        }
      ]
    },
    {
      "cell_type": "markdown",
      "source": [
        "###RGB CC2 Set1,2,3"
      ],
      "metadata": {
        "id": "DWwgrWqHRN3f"
      }
    },
    {
      "cell_type": "code",
      "source": [
        "RGB_D3_Set4_k1 = table_D3Set4"
      ],
      "metadata": {
        "id": "pT1I1pk6RN3g"
      },
      "execution_count": null,
      "outputs": []
    },
    {
      "cell_type": "code",
      "source": [
        "RGB_D3_Set1_k1 = table_D3Set1"
      ],
      "metadata": {
        "id": "S6krDYZtRN3g"
      },
      "execution_count": null,
      "outputs": []
    },
    {
      "cell_type": "code",
      "source": [
        "RGB_D3_Set2_k1 = table_D3Set2"
      ],
      "metadata": {
        "id": "WKJbzLgpRN3g"
      },
      "execution_count": null,
      "outputs": []
    },
    {
      "cell_type": "code",
      "source": [
        "RGB_D3_Set3_k1 = table_D3Set3"
      ],
      "metadata": {
        "id": "GtZe_etpRN3h"
      },
      "execution_count": null,
      "outputs": []
    },
    {
      "cell_type": "code",
      "source": [
        "RGB_D3_concat0_k1 = pd.concat([RGB_D3_Set1_k1,RGB_D3_Set2_k1])"
      ],
      "metadata": {
        "id": "C0zCBkPNRN3h"
      },
      "execution_count": null,
      "outputs": []
    },
    {
      "cell_type": "code",
      "source": [
        "RGB_D3_concat1_k1 = pd.concat([RGB_D3_concat0_k1,RGB_D3_Set3_k1])"
      ],
      "metadata": {
        "id": "RUKDazh9RN3h"
      },
      "execution_count": null,
      "outputs": []
    },
    {
      "cell_type": "code",
      "source": [
        "RGB_D3_concat2_k1 = RGB_D3_concat1_k1.drop(['H-ref','S-ref','V-ref','H-Shad','S-Shad','V-Shad','Setting','Ref','Shad','Img'], axis=1)"
      ],
      "metadata": {
        "id": "KmSt6qvaRN3k"
      },
      "execution_count": null,
      "outputs": []
    },
    {
      "cell_type": "code",
      "source": [
        "X_test_D3_RGB_k1 = np.array(RGB_D3_CC2)"
      ],
      "metadata": {
        "id": "WGi7uXGlRN3l"
      },
      "execution_count": null,
      "outputs": []
    },
    {
      "cell_type": "code",
      "source": [
        "y_D3_RGB_k1 =  table_D3CC2.iloc[:,14:15]"
      ],
      "metadata": {
        "id": "lKVJxS1RRN3l"
      },
      "execution_count": null,
      "outputs": []
    },
    {
      "cell_type": "code",
      "source": [
        "y_test_D3_RGB_k1 = np.array(y_D3_RGB_k1)"
      ],
      "metadata": {
        "id": "aN4CGKpNRN3m"
      },
      "execution_count": null,
      "outputs": []
    },
    {
      "cell_type": "code",
      "source": [
        "X_train_D3_RGB_k1 = np.array(RGB_D3_concat2_k1)"
      ],
      "metadata": {
        "id": "GeuYrginRN3m"
      },
      "execution_count": null,
      "outputs": []
    },
    {
      "cell_type": "code",
      "source": [
        "y_train_D3RGB_k1 = RGB_D3_concat1_k1.iloc[:,14:15]"
      ],
      "metadata": {
        "id": "e7lLdBchRN3m"
      },
      "execution_count": null,
      "outputs": []
    },
    {
      "cell_type": "code",
      "source": [
        "y_train_D3_RGB_k1 = np.array(y_train_D3RGB_k1)"
      ],
      "metadata": {
        "id": "AgYH5_EcRN3m"
      },
      "execution_count": null,
      "outputs": []
    },
    {
      "cell_type": "code",
      "source": [
        "y_train_D3_RGB_k1.shape = (len(y_train_D3_RGB_k1),)"
      ],
      "metadata": {
        "id": "whbzF6uTJCC7"
      },
      "execution_count": null,
      "outputs": []
    },
    {
      "cell_type": "code",
      "source": [
        "clf.fit(X_train_D3_RGB_k1, y_train_D3_RGB_k1)"
      ],
      "metadata": {
        "colab": {
          "base_uri": "https://localhost:8080/"
        },
        "outputId": "bd358b92-65d4-4e1b-f61f-b331cf63d53e",
        "id": "mDQurUJoRN3n"
      },
      "execution_count": null,
      "outputs": [
        {
          "output_type": "stream",
          "name": "stderr",
          "text": [
            "/usr/local/lib/python3.7/dist-packages/ipykernel_launcher.py:1: DataConversionWarning: A column-vector y was passed when a 1d array was expected. Please change the shape of y to (n_samples,), for example using ravel().\n",
            "  \"\"\"Entry point for launching an IPython kernel.\n"
          ]
        },
        {
          "output_type": "execute_result",
          "data": {
            "text/plain": [
              "RandomForestClassifier()"
            ]
          },
          "metadata": {},
          "execution_count": 68
        }
      ]
    },
    {
      "cell_type": "code",
      "source": [
        "y_pred_D3_RGB_k1 = clf.predict(X_test_D3_RGB_k1)"
      ],
      "metadata": {
        "id": "osnG5kuURN3n"
      },
      "execution_count": null,
      "outputs": []
    },
    {
      "cell_type": "code",
      "source": [
        "print(\"Accuracy:\", metrics.accuracy_score(y_test_D3_RGB_k1, y_pred_D3_RGB_k1))"
      ],
      "metadata": {
        "colab": {
          "base_uri": "https://localhost:8080/"
        },
        "outputId": "83c292c5-7907-4c36-8eab-f18355af9aaf",
        "id": "DGa5CN1ARN3o"
      },
      "execution_count": null,
      "outputs": [
        {
          "output_type": "stream",
          "name": "stdout",
          "text": [
            "Accuracy: 0.06875\n"
          ]
        }
      ]
    },
    {
      "cell_type": "markdown",
      "source": [
        "###RGB CC2 Set1,2,4"
      ],
      "metadata": {
        "id": "UeHsy5ZlJjrb"
      }
    },
    {
      "cell_type": "code",
      "source": [
        "RGB_D3_Set4_k2 = table_D3Set4"
      ],
      "metadata": {
        "id": "4Hrsw6JMJjrb"
      },
      "execution_count": null,
      "outputs": []
    },
    {
      "cell_type": "code",
      "source": [
        "RGB_D3_Set1_k2 = table_D3Set1"
      ],
      "metadata": {
        "id": "9B3QnVQlJjrc"
      },
      "execution_count": null,
      "outputs": []
    },
    {
      "cell_type": "code",
      "source": [
        "RGB_D3_Set2_k2 = table_D3Set2"
      ],
      "metadata": {
        "id": "RMPslOkZJjrc"
      },
      "execution_count": null,
      "outputs": []
    },
    {
      "cell_type": "code",
      "source": [
        "RGB_D3_Set3_k2 = table_D3Set3"
      ],
      "metadata": {
        "id": "HlXv_kgjJjrc"
      },
      "execution_count": null,
      "outputs": []
    },
    {
      "cell_type": "code",
      "source": [
        "RGB_D3_concat0_k2 = pd.concat([RGB_D3_Set1_k2,RGB_D3_Set2_k2])"
      ],
      "metadata": {
        "id": "z4HTCfKAJjrc"
      },
      "execution_count": null,
      "outputs": []
    },
    {
      "cell_type": "code",
      "source": [
        "RGB_D3_concat1_k2 = pd.concat([RGB_D3_concat0_k2,RGB_D3_Set4_k2])"
      ],
      "metadata": {
        "id": "XWCSMectJjrd"
      },
      "execution_count": null,
      "outputs": []
    },
    {
      "cell_type": "code",
      "source": [
        "RGB_D3_concat2_k2 = RGB_D3_concat1_k2.drop(['H-ref','S-ref','V-ref','H-Shad','S-Shad','V-Shad','Setting','Ref','Shad','Img'], axis=1)"
      ],
      "metadata": {
        "id": "884Bk9BuJjrd"
      },
      "execution_count": null,
      "outputs": []
    },
    {
      "cell_type": "code",
      "source": [
        "X_test_D3_RGB_k2 = np.array(RGB_D3_CC2)"
      ],
      "metadata": {
        "id": "CLRocM-cJjrd"
      },
      "execution_count": null,
      "outputs": []
    },
    {
      "cell_type": "code",
      "source": [
        "y_D3_RGB_k2 =  table_D3CC2.iloc[:,14:15]"
      ],
      "metadata": {
        "id": "GcnHgTIxJjre"
      },
      "execution_count": null,
      "outputs": []
    },
    {
      "cell_type": "code",
      "source": [
        "y_test_D3_RGB_k2 = np.array(y_D3_RGB_k2)"
      ],
      "metadata": {
        "id": "b2iJJsUfJjre"
      },
      "execution_count": null,
      "outputs": []
    },
    {
      "cell_type": "code",
      "source": [
        "X_train_D3_RGB_k2 = np.array(RGB_D3_concat2_k2)"
      ],
      "metadata": {
        "id": "BBKMQtt4Jjre"
      },
      "execution_count": null,
      "outputs": []
    },
    {
      "cell_type": "code",
      "source": [
        "y_train_D3RGB_k2 = RGB_D3_concat1_k2.iloc[:,14:15]"
      ],
      "metadata": {
        "id": "8LNuIX6CJjrf"
      },
      "execution_count": null,
      "outputs": []
    },
    {
      "cell_type": "code",
      "source": [
        "y_train_D3_RGB_k2 = np.array(y_train_D3RGB_k2)"
      ],
      "metadata": {
        "id": "AEEsIyZ3Jjrf"
      },
      "execution_count": null,
      "outputs": []
    },
    {
      "cell_type": "code",
      "source": [
        "y_train_D3_RGB_k2.shape = (len(y_train_D3_RGB_k2),)"
      ],
      "metadata": {
        "id": "gRMjjAG5Jjrg"
      },
      "execution_count": null,
      "outputs": []
    },
    {
      "cell_type": "code",
      "source": [
        "clf.fit(X_train_D3_RGB_k2, y_train_D3_RGB_k2)"
      ],
      "metadata": {
        "colab": {
          "base_uri": "https://localhost:8080/"
        },
        "outputId": "bd358b92-65d4-4e1b-f61f-b331cf63d53e",
        "id": "z--8UO7TJjrg"
      },
      "execution_count": null,
      "outputs": [
        {
          "output_type": "stream",
          "name": "stderr",
          "text": [
            "/usr/local/lib/python3.7/dist-packages/ipykernel_launcher.py:1: DataConversionWarning: A column-vector y was passed when a 1d array was expected. Please change the shape of y to (n_samples,), for example using ravel().\n",
            "  \"\"\"Entry point for launching an IPython kernel.\n"
          ]
        },
        {
          "output_type": "execute_result",
          "data": {
            "text/plain": [
              "RandomForestClassifier()"
            ]
          },
          "metadata": {},
          "execution_count": 68
        }
      ]
    },
    {
      "cell_type": "code",
      "source": [
        "y_pred_D3_RGB_k2 = clf.predict(X_test_D3_RGB_k2)"
      ],
      "metadata": {
        "id": "yChWPDW-Jjrh"
      },
      "execution_count": null,
      "outputs": []
    },
    {
      "cell_type": "code",
      "source": [
        "print(\"Accuracy:\", metrics.accuracy_score(y_test_D3_RGB_k2, y_pred_D3_RGB_k2))"
      ],
      "metadata": {
        "colab": {
          "base_uri": "https://localhost:8080/"
        },
        "outputId": "83c292c5-7907-4c36-8eab-f18355af9aaf",
        "id": "i8TsaaMmJjrh"
      },
      "execution_count": null,
      "outputs": [
        {
          "output_type": "stream",
          "name": "stdout",
          "text": [
            "Accuracy: 0.06875\n"
          ]
        }
      ]
    },
    {
      "cell_type": "markdown",
      "source": [
        "###RGB CC2 Set1,3,4"
      ],
      "metadata": {
        "id": "FS3lNqcjJ6Hy"
      }
    },
    {
      "cell_type": "code",
      "source": [
        "RGB_D3_Set4_k3 = table_D3Set4"
      ],
      "metadata": {
        "id": "UOqK9YeYJ6Hy"
      },
      "execution_count": null,
      "outputs": []
    },
    {
      "cell_type": "code",
      "source": [
        "RGB_D3_Set1_k3 = table_D3Set1"
      ],
      "metadata": {
        "id": "9rnqpXCyJ6Hy"
      },
      "execution_count": null,
      "outputs": []
    },
    {
      "cell_type": "code",
      "source": [
        "RGB_D3_Set2_k3 = table_D3Set2"
      ],
      "metadata": {
        "id": "6mi0VL-nJ6Hy"
      },
      "execution_count": null,
      "outputs": []
    },
    {
      "cell_type": "code",
      "source": [
        "RGB_D3_Set3_k3 = table_D3Set3"
      ],
      "metadata": {
        "id": "UBggF4LQJ6Hz"
      },
      "execution_count": null,
      "outputs": []
    },
    {
      "cell_type": "code",
      "source": [
        "RGB_D3_concat0_k3 = pd.concat([RGB_D3_Set1_k3,RGB_D3_Set3_k3])"
      ],
      "metadata": {
        "id": "MhagSu-PJ6Hz"
      },
      "execution_count": null,
      "outputs": []
    },
    {
      "cell_type": "code",
      "source": [
        "RGB_D3_concat1_k3 = pd.concat([RGB_D3_concat0_k3,RGB_D3_Set4_k3])"
      ],
      "metadata": {
        "id": "Yrq-IUfGJ6Hz"
      },
      "execution_count": null,
      "outputs": []
    },
    {
      "cell_type": "code",
      "source": [
        "RGB_D3_concat2_k3 = RGB_D3_concat1_k3.drop(['H-ref','S-ref','V-ref','H-Shad','S-Shad','V-Shad','Setting','Ref','Shad','Img'], axis=1)"
      ],
      "metadata": {
        "id": "KEDzbYKFJ6Hz"
      },
      "execution_count": null,
      "outputs": []
    },
    {
      "cell_type": "code",
      "source": [
        "X_test_D3_RGB_k3 = np.array(RGB_D3_CC2)"
      ],
      "metadata": {
        "id": "P1DfavsOJ6Hz"
      },
      "execution_count": null,
      "outputs": []
    },
    {
      "cell_type": "code",
      "source": [
        "y_D3_RGB_k3 =  table_D3CC2.iloc[:,14:15]"
      ],
      "metadata": {
        "id": "UZ7HEfqRJ6Hz"
      },
      "execution_count": null,
      "outputs": []
    },
    {
      "cell_type": "code",
      "source": [
        "y_test_D3_RGB_k3 = np.array(y_D3_RGB_k3)"
      ],
      "metadata": {
        "id": "joBFbwS1J6Hz"
      },
      "execution_count": null,
      "outputs": []
    },
    {
      "cell_type": "code",
      "source": [
        "X_train_D3_RGB_k3 = np.array(RGB_D3_concat2_k3)"
      ],
      "metadata": {
        "id": "jUyxMjXpJ6Hz"
      },
      "execution_count": null,
      "outputs": []
    },
    {
      "cell_type": "code",
      "source": [
        "y_train_D3RGB_k3 = RGB_D3_concat1_k3.iloc[:,14:15]"
      ],
      "metadata": {
        "id": "EBYwABtAJ6Hz"
      },
      "execution_count": null,
      "outputs": []
    },
    {
      "cell_type": "code",
      "source": [
        "y_train_D3_RGB_k3 = np.array(y_train_D3RGB_k3)"
      ],
      "metadata": {
        "id": "cVcsdibPJ6Hz"
      },
      "execution_count": null,
      "outputs": []
    },
    {
      "cell_type": "code",
      "source": [
        "y_train_D3_RGB_k3.shape = (len(y_train_D3_RGB_k3),)"
      ],
      "metadata": {
        "id": "jnQT_aJHJ6H0"
      },
      "execution_count": null,
      "outputs": []
    },
    {
      "cell_type": "code",
      "source": [
        "clf.fit(X_train_D3_RGB_k3, y_train_D3_RGB_k3)"
      ],
      "metadata": {
        "colab": {
          "base_uri": "https://localhost:8080/"
        },
        "outputId": "bd358b92-65d4-4e1b-f61f-b331cf63d53e",
        "id": "O2yhLmqbJ6H0"
      },
      "execution_count": null,
      "outputs": [
        {
          "output_type": "stream",
          "name": "stderr",
          "text": [
            "/usr/local/lib/python3.7/dist-packages/ipykernel_launcher.py:1: DataConversionWarning: A column-vector y was passed when a 1d array was expected. Please change the shape of y to (n_samples,), for example using ravel().\n",
            "  \"\"\"Entry point for launching an IPython kernel.\n"
          ]
        },
        {
          "output_type": "execute_result",
          "data": {
            "text/plain": [
              "RandomForestClassifier()"
            ]
          },
          "metadata": {},
          "execution_count": 68
        }
      ]
    },
    {
      "cell_type": "code",
      "source": [
        "y_pred_D3_RGB_k3 = clf.predict(X_test_D3_RGB_k3)"
      ],
      "metadata": {
        "id": "KRjWY7DDJ6H0"
      },
      "execution_count": null,
      "outputs": []
    },
    {
      "cell_type": "code",
      "source": [
        "print(\"Accuracy:\", metrics.accuracy_score(y_test_D3_RGB_k3, y_pred_D3_RGB_k3))"
      ],
      "metadata": {
        "colab": {
          "base_uri": "https://localhost:8080/"
        },
        "outputId": "83c292c5-7907-4c36-8eab-f18355af9aaf",
        "id": "_ZEK0CDpJ6H0"
      },
      "execution_count": null,
      "outputs": [
        {
          "output_type": "stream",
          "name": "stdout",
          "text": [
            "Accuracy: 0.06875\n"
          ]
        }
      ]
    },
    {
      "cell_type": "markdown",
      "source": [
        "###RGB CC2 Set2,3,4"
      ],
      "metadata": {
        "id": "t5Slg-BtKQWA"
      }
    },
    {
      "cell_type": "code",
      "source": [
        "RGB_D3_Set4_k4 = table_D3Set4"
      ],
      "metadata": {
        "id": "84ULFyrsKQWA"
      },
      "execution_count": null,
      "outputs": []
    },
    {
      "cell_type": "code",
      "source": [
        "RGB_D3_Set1_k4 = table_D3Set1"
      ],
      "metadata": {
        "id": "fTI9ID7oKQWA"
      },
      "execution_count": null,
      "outputs": []
    },
    {
      "cell_type": "code",
      "source": [
        "RGB_D3_Set2_k4 = table_D3Set2"
      ],
      "metadata": {
        "id": "731yZv_QKQWA"
      },
      "execution_count": null,
      "outputs": []
    },
    {
      "cell_type": "code",
      "source": [
        "RGB_D3_Set3_k4 = table_D3Set3"
      ],
      "metadata": {
        "id": "ArCluCZoKQWA"
      },
      "execution_count": null,
      "outputs": []
    },
    {
      "cell_type": "code",
      "source": [
        "RGB_D3_concat0_k4 = pd.concat([RGB_D3_Set2_k4,RGB_D3_Set3_k4])"
      ],
      "metadata": {
        "id": "S-SzV-oBKQWA"
      },
      "execution_count": null,
      "outputs": []
    },
    {
      "cell_type": "code",
      "source": [
        "RGB_D3_concat1_k4 = pd.concat([RGB_D3_concat0_k3,RGB_D3_Set4_k4])"
      ],
      "metadata": {
        "id": "MwfQdlvQKQWA"
      },
      "execution_count": null,
      "outputs": []
    },
    {
      "cell_type": "code",
      "source": [
        "RGB_D3_concat2_k4 = RGB_D3_concat1_k4.drop(['H-ref','S-ref','V-ref','H-Shad','S-Shad','V-Shad','Setting','Ref','Shad','Img'], axis=1)"
      ],
      "metadata": {
        "id": "6uDeqHgAKQWA"
      },
      "execution_count": null,
      "outputs": []
    },
    {
      "cell_type": "code",
      "source": [
        "X_test_D3_RGB_k4 = np.array(RGB_D3_CC2)"
      ],
      "metadata": {
        "id": "emHFk_mrKQWB"
      },
      "execution_count": null,
      "outputs": []
    },
    {
      "cell_type": "code",
      "source": [
        "y_D3_RGB_k4 =  table_D3CC2.iloc[:,14:15]"
      ],
      "metadata": {
        "id": "498lgsa-KQWB"
      },
      "execution_count": null,
      "outputs": []
    },
    {
      "cell_type": "code",
      "source": [
        "y_test_D3_RGB_k4 = np.array(y_D3_RGB_k4)"
      ],
      "metadata": {
        "id": "1QhCbCy6KQWB"
      },
      "execution_count": null,
      "outputs": []
    },
    {
      "cell_type": "code",
      "source": [
        "X_train_D3_RGB_k4 = np.array(RGB_D3_concat2_k4)"
      ],
      "metadata": {
        "id": "qwMmKjV7KQWB"
      },
      "execution_count": null,
      "outputs": []
    },
    {
      "cell_type": "code",
      "source": [
        "y_train_D3RGB_k4 = RGB_D3_concat1_k4.iloc[:,14:15]"
      ],
      "metadata": {
        "id": "GlJa1OHGKQWB"
      },
      "execution_count": null,
      "outputs": []
    },
    {
      "cell_type": "code",
      "source": [
        "y_train_D3_RGB_k4 = np.array(y_train_D3RGB_k4)"
      ],
      "metadata": {
        "id": "gSneXJZ4KQWB"
      },
      "execution_count": null,
      "outputs": []
    },
    {
      "cell_type": "code",
      "source": [
        "y_train_D3_RGB_k4.shape = (len(y_train_D3_RGB_k4),)"
      ],
      "metadata": {
        "id": "dbjWmWyTKQWB"
      },
      "execution_count": null,
      "outputs": []
    },
    {
      "cell_type": "code",
      "source": [
        "clf.fit(X_train_D3_RGB_k4, y_train_D3_RGB_k4)"
      ],
      "metadata": {
        "colab": {
          "base_uri": "https://localhost:8080/"
        },
        "outputId": "bd358b92-65d4-4e1b-f61f-b331cf63d53e",
        "id": "E3WxQZvOKQWB"
      },
      "execution_count": null,
      "outputs": [
        {
          "output_type": "stream",
          "name": "stderr",
          "text": [
            "/usr/local/lib/python3.7/dist-packages/ipykernel_launcher.py:1: DataConversionWarning: A column-vector y was passed when a 1d array was expected. Please change the shape of y to (n_samples,), for example using ravel().\n",
            "  \"\"\"Entry point for launching an IPython kernel.\n"
          ]
        },
        {
          "output_type": "execute_result",
          "data": {
            "text/plain": [
              "RandomForestClassifier()"
            ]
          },
          "metadata": {},
          "execution_count": 68
        }
      ]
    },
    {
      "cell_type": "code",
      "source": [
        "y_pred_D3_RGB_k4 = clf.predict(X_test_D3_RGB_k4)"
      ],
      "metadata": {
        "id": "v7zybWspKQWC"
      },
      "execution_count": null,
      "outputs": []
    },
    {
      "cell_type": "code",
      "source": [
        "print(\"Accuracy:\", metrics.accuracy_score(y_test_D3_RGB_k4, y_pred_D3_RGB_k4))"
      ],
      "metadata": {
        "colab": {
          "base_uri": "https://localhost:8080/"
        },
        "outputId": "83c292c5-7907-4c36-8eab-f18355af9aaf",
        "id": "Hdi7Wj0GKQWC"
      },
      "execution_count": null,
      "outputs": [
        {
          "output_type": "stream",
          "name": "stdout",
          "text": [
            "Accuracy: 0.06875\n"
          ]
        }
      ]
    },
    {
      "cell_type": "markdown",
      "source": [
        "#Accuracy"
      ],
      "metadata": {
        "id": "DednIna6z9zF"
      }
    },
    {
      "cell_type": "markdown",
      "source": [
        "##RGB"
      ],
      "metadata": {
        "id": "txfn-5vSEQKK"
      }
    },
    {
      "cell_type": "code",
      "source": [
        "print(\"เฉดไกด์อ้างอิง D3 Set5 model1 มี Accuracy เท่ากับ:\", metrics.accuracy_score(y_test_D3_RGB_s1, y_pred_D3_RGB_s1))\n",
        "print(\"เฉดไกด์อ้างอิง D3 Set5 model2 มี Accuracy เท่ากับ:\", metrics.accuracy_score(y_test_D3_RGB_s2, y_pred_D3_RGB_s2))\n",
        "print(\"เฉดไกด์อ้างอิง D3 Set5 model3 มี Accuracy เท่ากับ:\", metrics.accuracy_score(y_test_D3_RGB_s3, y_pred_D3_RGB_s3))\n",
        "print(\"เฉดไกด์อ้างอิง D3 Set5 model4 มี Accuracy เท่ากับ:\", metrics.accuracy_score(y_test_D3_RGB_s4, y_pred_D3_RGB_s4))"
      ],
      "metadata": {
        "id": "NofOkqvcEKnU",
        "outputId": "ac8e4da4-95f2-4613-8b5e-2287952a722d",
        "colab": {
          "base_uri": "https://localhost:8080/"
        }
      },
      "execution_count": null,
      "outputs": [
        {
          "output_type": "stream",
          "name": "stdout",
          "text": [
            "เฉดไกด์อ้างอิง D3 มี Accuracy เท่ากับ: 0.10375\n"
          ]
        }
      ]
    },
    {
      "cell_type": "code",
      "source": [
        "print(\"เฉดไกด์อ้างอิง D3 Set6 model5 มี Accuracy เท่ากับ:\", metrics.accuracy_score(y_test_D3_RGB_k1, y_pred_D3_RGB_k1))\n",
        "print(\"เฉดไกด์อ้างอิง D3 Set6 model6 มี Accuracy เท่ากับ:\", metrics.accuracy_score(y_test_D3_RGB_k1, y_pred_D3_RGB_k1))\n",
        "print(\"เฉดไกด์อ้างอิง D3 Set6 model7 มี Accuracy เท่ากับ:\", metrics.accuracy_score(y_test_D3_RGB_k1, y_pred_D3_RGB_k1))\n",
        "print(\"เฉดไกด์อ้างอิง D3 Set6 model8 มี Accuracy เท่ากับ:\", metrics.accuracy_score(y_test_D3_RGB_k1, y_pred_D3_RGB_k1))"
      ],
      "metadata": {
        "id": "-2RkbdckPm9l",
        "outputId": "8c85cc33-ee7d-4eae-fdd0-b79f2864c879",
        "colab": {
          "base_uri": "https://localhost:8080/"
        }
      },
      "execution_count": null,
      "outputs": [
        {
          "output_type": "stream",
          "name": "stdout",
          "text": [
            "เฉดไกด์อ้างอิง D3 มี Accuracy เท่ากับ: 0.07125\n"
          ]
        }
      ]
    }
  ]
}