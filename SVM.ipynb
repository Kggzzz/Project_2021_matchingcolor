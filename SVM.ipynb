{
  "nbformat": 4,
  "nbformat_minor": 0,
  "metadata": {
    "colab": {
      "name": "SVM.ipynb",
      "provenance": [],
      "include_colab_link": true
    },
    "kernelspec": {
      "name": "python3",
      "display_name": "Python 3"
    },
    "language_info": {
      "name": "python"
    }
  },
  "cells": [
    {
      "cell_type": "markdown",
      "metadata": {
        "id": "view-in-github",
        "colab_type": "text"
      },
      "source": [
        "<a href=\"https://colab.research.google.com/github/Kggzzz/Project_2021_matchingcolor/blob/main/SVM.ipynb\" target=\"_parent\"><img src=\"https://colab.research.google.com/assets/colab-badge.svg\" alt=\"Open In Colab\"/></a>"
      ]
    },
    {
      "cell_type": "markdown",
      "source": [
        "สุ่มดึงมาอย่างละ 80 จุด จากแต่ละสี test \n",
        "\n",
        "อีก 320 จุด เป็น train \n",
        "\n",
        "**random forest\n",
        "\n",
        "วาดำกรอบ 4 เหลี่ยมแต่ละพิกัดมา \n"
      ],
      "metadata": {
        "id": "Z87qLnCYqcfK"
      }
    },
    {
      "cell_type": "code",
      "execution_count": 1,
      "metadata": {
        "id": "HKNXe3aNxjrS"
      },
      "outputs": [],
      "source": [
        "import pandas as pd"
      ]
    },
    {
      "cell_type": "code",
      "source": [
        "from google.colab import drive \n",
        "drive.mount('/content/drive')"
      ],
      "metadata": {
        "colab": {
          "base_uri": "https://localhost:8080/"
        },
        "id": "vlUA764exm_B",
        "outputId": "a2cd6712-8aa9-4a51-aec9-58563ada1c77"
      },
      "execution_count": 2,
      "outputs": [
        {
          "output_type": "stream",
          "name": "stdout",
          "text": [
            "Mounted at /content/drive\n"
          ]
        }
      ]
    },
    {
      "cell_type": "code",
      "source": [
        "import os"
      ],
      "metadata": {
        "id": "0NR2cd8WxtI0"
      },
      "execution_count": 4,
      "outputs": []
    },
    {
      "cell_type": "code",
      "source": [
        "path = '/content/drive/My Drive/shadeimg/SVM shade'"
      ],
      "metadata": {
        "id": "CCvM6YiWxv4J"
      },
      "execution_count": 5,
      "outputs": []
    },
    {
      "cell_type": "code",
      "source": [
        "os.listdir(path)"
      ],
      "metadata": {
        "colab": {
          "base_uri": "https://localhost:8080/"
        },
        "id": "gEamzWg2xxw0",
        "outputId": "b8a968fc-0487-4524-86ac-5b1ad0b3c487"
      },
      "execution_count": 6,
      "outputs": [
        {
          "output_type": "execute_result",
          "data": {
            "text/plain": [
              "['DD.xlsx',\n",
              " 'CC.xlsx',\n",
              " 'BB.xlsx',\n",
              " 'AA.xlsx',\n",
              " 'Shade_AA.xlsx',\n",
              " 'Shade_CC.xlsx',\n",
              " 'Shade_DD.xlsx',\n",
              " 'Shade_BB.xlsx']"
            ]
          },
          "metadata": {},
          "execution_count": 6
        }
      ]
    },
    {
      "cell_type": "code",
      "source": [
        "AA = os.path.join(path,'Shade_AA.xlsx')\n",
        "print(AA)"
      ],
      "metadata": {
        "colab": {
          "base_uri": "https://localhost:8080/"
        },
        "id": "YnNg2TofxzSg",
        "outputId": "33de502f-72f2-4c51-efd9-75cedf34f2c1"
      },
      "execution_count": 7,
      "outputs": [
        {
          "output_type": "stream",
          "name": "stdout",
          "text": [
            "/content/drive/My Drive/shadeimg/SVM shade/Shade_AA.xlsx\n"
          ]
        }
      ]
    },
    {
      "cell_type": "code",
      "source": [
        "BB = os.path.join(path,'Shade_BB.xlsx')\n",
        "print(BB)"
      ],
      "metadata": {
        "id": "9NmuTsKXj8iA",
        "outputId": "2cbd58b1-9005-47ca-e160-ff2c5deaa88b",
        "colab": {
          "base_uri": "https://localhost:8080/"
        }
      },
      "execution_count": 8,
      "outputs": [
        {
          "output_type": "stream",
          "name": "stdout",
          "text": [
            "/content/drive/My Drive/shadeimg/SVM shade/Shade_BB.xlsx\n"
          ]
        }
      ]
    },
    {
      "cell_type": "code",
      "source": [
        "CC = os.path.join(path,'Shade_CC.xlsx')\n",
        "print(CC)"
      ],
      "metadata": {
        "id": "Flpjty_gj80T",
        "outputId": "3426718e-d8a0-4210-90b8-26c1e97d4a02",
        "colab": {
          "base_uri": "https://localhost:8080/"
        }
      },
      "execution_count": 9,
      "outputs": [
        {
          "output_type": "stream",
          "name": "stdout",
          "text": [
            "/content/drive/My Drive/shadeimg/SVM shade/Shade_CC.xlsx\n"
          ]
        }
      ]
    },
    {
      "cell_type": "code",
      "source": [
        "DD = os.path.join(path,'Shade_DD.xlsx')\n",
        "print(DD)"
      ],
      "metadata": {
        "colab": {
          "base_uri": "https://localhost:8080/"
        },
        "id": "D5_QGRNuj9Hu",
        "outputId": "520ffa65-73d2-4402-ba30-4301644825de"
      },
      "execution_count": 10,
      "outputs": [
        {
          "output_type": "stream",
          "name": "stdout",
          "text": [
            "/content/drive/My Drive/shadeimg/SVM shade/Shade_DD.xlsx\n"
          ]
        }
      ]
    },
    {
      "cell_type": "code",
      "source": [
        "import numpy as np"
      ],
      "metadata": {
        "id": "8ISBGlPBzzvw"
      },
      "execution_count": 11,
      "outputs": []
    },
    {
      "cell_type": "code",
      "source": [
        "from sklearn import metrics"
      ],
      "metadata": {
        "id": "FTwRPXBBzw1v"
      },
      "execution_count": 12,
      "outputs": []
    },
    {
      "cell_type": "code",
      "source": [
        "from sklearn import datasets"
      ],
      "metadata": {
        "id": "KR8lVsZXpX9X"
      },
      "execution_count": 13,
      "outputs": []
    },
    {
      "cell_type": "code",
      "source": [
        "from sklearn import svm "
      ],
      "metadata": {
        "id": "4tY9OzJszshA"
      },
      "execution_count": 14,
      "outputs": []
    },
    {
      "cell_type": "code",
      "source": [
        "from sklearn.model_selection import train_test_split"
      ],
      "metadata": {
        "id": "_ny9zPhErDas"
      },
      "execution_count": 15,
      "outputs": []
    },
    {
      "cell_type": "code",
      "source": [
        "clf = svm.SVC(kernel='poly') #poly เยอะสุด"
      ],
      "metadata": {
        "id": "_BpRi0NLzvCC"
      },
      "execution_count": 16,
      "outputs": []
    },
    {
      "cell_type": "markdown",
      "source": [
        "#RGB"
      ],
      "metadata": {
        "id": "0t7-79kR_rI9"
      }
    },
    {
      "cell_type": "markdown",
      "source": [
        "#AA"
      ],
      "metadata": {
        "id": "x94xZxajzUhe"
      }
    },
    {
      "cell_type": "markdown",
      "source": [
        "##A1"
      ],
      "metadata": {
        "id": "sOMENhtQzXas"
      }
    },
    {
      "cell_type": "code",
      "source": [
        "table_A1= pd.read_excel(AA, sheet_name='A1')\n",
        "table_A1"
      ],
      "metadata": {
        "colab": {
          "base_uri": "https://localhost:8080/",
          "height": 0
        },
        "id": "hGoxhzs-x9Qb",
        "outputId": "8dc0b214-7e6f-4b2f-f01d-e4dfce06cb1b"
      },
      "execution_count": 17,
      "outputs": [
        {
          "output_type": "execute_result",
          "data": {
            "text/html": [
              "\n",
              "  <div id=\"df-6b4cf9e5-74f2-4fa9-9d24-46571304854a\">\n",
              "    <div class=\"colab-df-container\">\n",
              "      <div>\n",
              "<style scoped>\n",
              "    .dataframe tbody tr th:only-of-type {\n",
              "        vertical-align: middle;\n",
              "    }\n",
              "\n",
              "    .dataframe tbody tr th {\n",
              "        vertical-align: top;\n",
              "    }\n",
              "\n",
              "    .dataframe thead th {\n",
              "        text-align: right;\n",
              "    }\n",
              "</style>\n",
              "<table border=\"1\" class=\"dataframe\">\n",
              "  <thead>\n",
              "    <tr style=\"text-align: right;\">\n",
              "      <th></th>\n",
              "      <th>R-ref</th>\n",
              "      <th>G-ref</th>\n",
              "      <th>B-ref</th>\n",
              "      <th>R-Shad</th>\n",
              "      <th>G-Shad</th>\n",
              "      <th>B-Shad</th>\n",
              "      <th>H-ref</th>\n",
              "      <th>S-ref</th>\n",
              "      <th>V-ref</th>\n",
              "      <th>H-Shad</th>\n",
              "      <th>S-Shad</th>\n",
              "      <th>V-Shad</th>\n",
              "      <th>Shade-ref</th>\n",
              "      <th>Shade</th>\n",
              "      <th>Setting</th>\n",
              "      <th>Img</th>\n",
              "    </tr>\n",
              "  </thead>\n",
              "  <tbody>\n",
              "    <tr>\n",
              "      <th>0</th>\n",
              "      <td>237.172985</td>\n",
              "      <td>225.596383</td>\n",
              "      <td>191.776924</td>\n",
              "      <td>237.828505</td>\n",
              "      <td>226.460326</td>\n",
              "      <td>193.279482</td>\n",
              "      <td>22.295755</td>\n",
              "      <td>48.938885</td>\n",
              "      <td>237.144469</td>\n",
              "      <td>22.332764</td>\n",
              "      <td>47.917502</td>\n",
              "      <td>237.810967</td>\n",
              "      <td>A1</td>\n",
              "      <td>A1</td>\n",
              "      <td>Set1</td>\n",
              "      <td>219558E6-E67A-4672-9E46-3D084D0D2032.png</td>\n",
              "    </tr>\n",
              "    <tr>\n",
              "      <th>1</th>\n",
              "      <td>239.246246</td>\n",
              "      <td>221.661797</td>\n",
              "      <td>177.409220</td>\n",
              "      <td>239.869853</td>\n",
              "      <td>222.532181</td>\n",
              "      <td>178.897233</td>\n",
              "      <td>22.295755</td>\n",
              "      <td>48.938885</td>\n",
              "      <td>237.144469</td>\n",
              "      <td>22.332764</td>\n",
              "      <td>47.917502</td>\n",
              "      <td>237.810967</td>\n",
              "      <td>A1</td>\n",
              "      <td>A1</td>\n",
              "      <td>Set1</td>\n",
              "      <td>DDC4DC8E-B6F3-4C8E-B168-D77C99A200B0.png</td>\n",
              "    </tr>\n",
              "    <tr>\n",
              "      <th>2</th>\n",
              "      <td>237.328788</td>\n",
              "      <td>211.283256</td>\n",
              "      <td>155.065985</td>\n",
              "      <td>238.087547</td>\n",
              "      <td>212.420596</td>\n",
              "      <td>156.950573</td>\n",
              "      <td>20.723724</td>\n",
              "      <td>88.424560</td>\n",
              "      <td>237.328788</td>\n",
              "      <td>20.721926</td>\n",
              "      <td>86.986061</td>\n",
              "      <td>238.087547</td>\n",
              "      <td>A1</td>\n",
              "      <td>A1</td>\n",
              "      <td>Set1</td>\n",
              "      <td>9C42EB3E-DDE7-43A2-91AE-4DCE60FCDAA9.png</td>\n",
              "    </tr>\n",
              "    <tr>\n",
              "      <th>3</th>\n",
              "      <td>236.773314</td>\n",
              "      <td>209.917864</td>\n",
              "      <td>155.544355</td>\n",
              "      <td>237.385748</td>\n",
              "      <td>210.931939</td>\n",
              "      <td>157.041818</td>\n",
              "      <td>20.189676</td>\n",
              "      <td>87.558072</td>\n",
              "      <td>236.773314</td>\n",
              "      <td>20.244791</td>\n",
              "      <td>86.400541</td>\n",
              "      <td>237.385748</td>\n",
              "      <td>A1</td>\n",
              "      <td>A1</td>\n",
              "      <td>Set1</td>\n",
              "      <td>6305881D-3DFD-4ECE-BD1D-C5376038CD26.png</td>\n",
              "    </tr>\n",
              "    <tr>\n",
              "      <th>4</th>\n",
              "      <td>238.599951</td>\n",
              "      <td>222.450207</td>\n",
              "      <td>177.512702</td>\n",
              "      <td>237.828505</td>\n",
              "      <td>226.460326</td>\n",
              "      <td>193.279482</td>\n",
              "      <td>22.168006</td>\n",
              "      <td>65.331954</td>\n",
              "      <td>238.599951</td>\n",
              "      <td>22.186189</td>\n",
              "      <td>64.179290</td>\n",
              "      <td>239.099139</td>\n",
              "      <td>A1</td>\n",
              "      <td>A1</td>\n",
              "      <td>Set1</td>\n",
              "      <td>07475504-D2B5-4A4F-960A-6AA5AE0EFFCF.png</td>\n",
              "    </tr>\n",
              "    <tr>\n",
              "      <th>...</th>\n",
              "      <td>...</td>\n",
              "      <td>...</td>\n",
              "      <td>...</td>\n",
              "      <td>...</td>\n",
              "      <td>...</td>\n",
              "      <td>...</td>\n",
              "      <td>...</td>\n",
              "      <td>...</td>\n",
              "      <td>...</td>\n",
              "      <td>...</td>\n",
              "      <td>...</td>\n",
              "      <td>...</td>\n",
              "      <td>...</td>\n",
              "      <td>...</td>\n",
              "      <td>...</td>\n",
              "      <td>...</td>\n",
              "    </tr>\n",
              "    <tr>\n",
              "      <th>3195</th>\n",
              "      <td>219.796364</td>\n",
              "      <td>220.248600</td>\n",
              "      <td>203.640370</td>\n",
              "      <td>219.211934</td>\n",
              "      <td>219.766731</td>\n",
              "      <td>203.270322</td>\n",
              "      <td>31.111598</td>\n",
              "      <td>19.560669</td>\n",
              "      <td>220.568055</td>\n",
              "      <td>31.312851</td>\n",
              "      <td>19.433184</td>\n",
              "      <td>220.052343</td>\n",
              "      <td>A1</td>\n",
              "      <td>D4</td>\n",
              "      <td>Set4</td>\n",
              "      <td>95DD0EB2-20EB-404E-BA97-3740D2D0DF96.png</td>\n",
              "    </tr>\n",
              "    <tr>\n",
              "      <th>3196</th>\n",
              "      <td>215.312718</td>\n",
              "      <td>216.245759</td>\n",
              "      <td>196.157455</td>\n",
              "      <td>214.860323</td>\n",
              "      <td>215.754498</td>\n",
              "      <td>195.762108</td>\n",
              "      <td>28.454590</td>\n",
              "      <td>52.051295</td>\n",
              "      <td>221.314991</td>\n",
              "      <td>28.269469</td>\n",
              "      <td>52.384325</td>\n",
              "      <td>220.852002</td>\n",
              "      <td>A1</td>\n",
              "      <td>D4</td>\n",
              "      <td>Set4</td>\n",
              "      <td>2F670532-3760-42FC-A982-1670FEE99E66.png</td>\n",
              "    </tr>\n",
              "    <tr>\n",
              "      <th>3197</th>\n",
              "      <td>215.690610</td>\n",
              "      <td>216.009902</td>\n",
              "      <td>196.406055</td>\n",
              "      <td>215.166773</td>\n",
              "      <td>215.486879</td>\n",
              "      <td>195.933291</td>\n",
              "      <td>30.849525</td>\n",
              "      <td>23.662609</td>\n",
              "      <td>216.485350</td>\n",
              "      <td>30.867293</td>\n",
              "      <td>23.636228</td>\n",
              "      <td>215.959036</td>\n",
              "      <td>A1</td>\n",
              "      <td>D4</td>\n",
              "      <td>Set4</td>\n",
              "      <td>547F5541-94BD-48D5-BD5B-25CBEFA4B8C9.png</td>\n",
              "    </tr>\n",
              "    <tr>\n",
              "      <th>3198</th>\n",
              "      <td>213.749290</td>\n",
              "      <td>210.436328</td>\n",
              "      <td>181.714877</td>\n",
              "      <td>213.046725</td>\n",
              "      <td>209.822132</td>\n",
              "      <td>181.286679</td>\n",
              "      <td>26.683954</td>\n",
              "      <td>38.233260</td>\n",
              "      <td>213.749290</td>\n",
              "      <td>26.767157</td>\n",
              "      <td>38.010668</td>\n",
              "      <td>213.046725</td>\n",
              "      <td>A1</td>\n",
              "      <td>D4</td>\n",
              "      <td>Set4</td>\n",
              "      <td>E9149994-C281-48DA-AF5B-7A13ECD7E307.png</td>\n",
              "    </tr>\n",
              "    <tr>\n",
              "      <th>3199</th>\n",
              "      <td>211.214674</td>\n",
              "      <td>204.185537</td>\n",
              "      <td>158.897330</td>\n",
              "      <td>210.905910</td>\n",
              "      <td>203.783372</td>\n",
              "      <td>158.707275</td>\n",
              "      <td>26.202337</td>\n",
              "      <td>63.120039</td>\n",
              "      <td>211.214674</td>\n",
              "      <td>26.147358</td>\n",
              "      <td>63.070194</td>\n",
              "      <td>210.905910</td>\n",
              "      <td>A1</td>\n",
              "      <td>D4</td>\n",
              "      <td>Set4</td>\n",
              "      <td>D360D9A0-603E-4947-A8FE-72EB861A079A.png</td>\n",
              "    </tr>\n",
              "  </tbody>\n",
              "</table>\n",
              "<p>3200 rows × 16 columns</p>\n",
              "</div>\n",
              "      <button class=\"colab-df-convert\" onclick=\"convertToInteractive('df-6b4cf9e5-74f2-4fa9-9d24-46571304854a')\"\n",
              "              title=\"Convert this dataframe to an interactive table.\"\n",
              "              style=\"display:none;\">\n",
              "        \n",
              "  <svg xmlns=\"http://www.w3.org/2000/svg\" height=\"24px\"viewBox=\"0 0 24 24\"\n",
              "       width=\"24px\">\n",
              "    <path d=\"M0 0h24v24H0V0z\" fill=\"none\"/>\n",
              "    <path d=\"M18.56 5.44l.94 2.06.94-2.06 2.06-.94-2.06-.94-.94-2.06-.94 2.06-2.06.94zm-11 1L8.5 8.5l.94-2.06 2.06-.94-2.06-.94L8.5 2.5l-.94 2.06-2.06.94zm10 10l.94 2.06.94-2.06 2.06-.94-2.06-.94-.94-2.06-.94 2.06-2.06.94z\"/><path d=\"M17.41 7.96l-1.37-1.37c-.4-.4-.92-.59-1.43-.59-.52 0-1.04.2-1.43.59L10.3 9.45l-7.72 7.72c-.78.78-.78 2.05 0 2.83L4 21.41c.39.39.9.59 1.41.59.51 0 1.02-.2 1.41-.59l7.78-7.78 2.81-2.81c.8-.78.8-2.07 0-2.86zM5.41 20L4 18.59l7.72-7.72 1.47 1.35L5.41 20z\"/>\n",
              "  </svg>\n",
              "      </button>\n",
              "      \n",
              "  <style>\n",
              "    .colab-df-container {\n",
              "      display:flex;\n",
              "      flex-wrap:wrap;\n",
              "      gap: 12px;\n",
              "    }\n",
              "\n",
              "    .colab-df-convert {\n",
              "      background-color: #E8F0FE;\n",
              "      border: none;\n",
              "      border-radius: 50%;\n",
              "      cursor: pointer;\n",
              "      display: none;\n",
              "      fill: #1967D2;\n",
              "      height: 32px;\n",
              "      padding: 0 0 0 0;\n",
              "      width: 32px;\n",
              "    }\n",
              "\n",
              "    .colab-df-convert:hover {\n",
              "      background-color: #E2EBFA;\n",
              "      box-shadow: 0px 1px 2px rgba(60, 64, 67, 0.3), 0px 1px 3px 1px rgba(60, 64, 67, 0.15);\n",
              "      fill: #174EA6;\n",
              "    }\n",
              "\n",
              "    [theme=dark] .colab-df-convert {\n",
              "      background-color: #3B4455;\n",
              "      fill: #D2E3FC;\n",
              "    }\n",
              "\n",
              "    [theme=dark] .colab-df-convert:hover {\n",
              "      background-color: #434B5C;\n",
              "      box-shadow: 0px 1px 3px 1px rgba(0, 0, 0, 0.15);\n",
              "      filter: drop-shadow(0px 1px 2px rgba(0, 0, 0, 0.3));\n",
              "      fill: #FFFFFF;\n",
              "    }\n",
              "  </style>\n",
              "\n",
              "      <script>\n",
              "        const buttonEl =\n",
              "          document.querySelector('#df-6b4cf9e5-74f2-4fa9-9d24-46571304854a button.colab-df-convert');\n",
              "        buttonEl.style.display =\n",
              "          google.colab.kernel.accessAllowed ? 'block' : 'none';\n",
              "\n",
              "        async function convertToInteractive(key) {\n",
              "          const element = document.querySelector('#df-6b4cf9e5-74f2-4fa9-9d24-46571304854a');\n",
              "          const dataTable =\n",
              "            await google.colab.kernel.invokeFunction('convertToInteractive',\n",
              "                                                     [key], {});\n",
              "          if (!dataTable) return;\n",
              "\n",
              "          const docLinkHtml = 'Like what you see? Visit the ' +\n",
              "            '<a target=\"_blank\" href=https://colab.research.google.com/notebooks/data_table.ipynb>data table notebook</a>'\n",
              "            + ' to learn more about interactive tables.';\n",
              "          element.innerHTML = '';\n",
              "          dataTable['output_type'] = 'display_data';\n",
              "          await google.colab.output.renderOutput(dataTable, element);\n",
              "          const docLink = document.createElement('div');\n",
              "          docLink.innerHTML = docLinkHtml;\n",
              "          element.appendChild(docLink);\n",
              "        }\n",
              "      </script>\n",
              "    </div>\n",
              "  </div>\n",
              "  "
            ],
            "text/plain": [
              "           R-ref       G-ref  ...  Setting                                       Img\n",
              "0     237.172985  225.596383  ...     Set1  219558E6-E67A-4672-9E46-3D084D0D2032.png\n",
              "1     239.246246  221.661797  ...     Set1  DDC4DC8E-B6F3-4C8E-B168-D77C99A200B0.png\n",
              "2     237.328788  211.283256  ...     Set1  9C42EB3E-DDE7-43A2-91AE-4DCE60FCDAA9.png\n",
              "3     236.773314  209.917864  ...     Set1  6305881D-3DFD-4ECE-BD1D-C5376038CD26.png\n",
              "4     238.599951  222.450207  ...     Set1  07475504-D2B5-4A4F-960A-6AA5AE0EFFCF.png\n",
              "...          ...         ...  ...      ...                                       ...\n",
              "3195  219.796364  220.248600  ...     Set4  95DD0EB2-20EB-404E-BA97-3740D2D0DF96.png\n",
              "3196  215.312718  216.245759  ...     Set4  2F670532-3760-42FC-A982-1670FEE99E66.png\n",
              "3197  215.690610  216.009902  ...     Set4  547F5541-94BD-48D5-BD5B-25CBEFA4B8C9.png\n",
              "3198  213.749290  210.436328  ...     Set4  E9149994-C281-48DA-AF5B-7A13ECD7E307.png\n",
              "3199  211.214674  204.185537  ...     Set4  D360D9A0-603E-4947-A8FE-72EB861A079A.png\n",
              "\n",
              "[3200 rows x 16 columns]"
            ]
          },
          "metadata": {},
          "execution_count": 17
        }
      ]
    },
    {
      "cell_type": "code",
      "source": [
        "RGB_A1 = table_A1.drop(['H-ref','S-ref','V-ref','S-Shad','V-Shad','Shade-ref','Setting','Img','Shade','H-Shad'], axis=1)"
      ],
      "metadata": {
        "id": "RnuwngxIi6x1"
      },
      "execution_count": 18,
      "outputs": []
    },
    {
      "cell_type": "code",
      "source": [
        "X_A1 = np.array(RGB_A1)"
      ],
      "metadata": {
        "id": "b9zh3Bd8n2h0"
      },
      "execution_count": 19,
      "outputs": []
    },
    {
      "cell_type": "code",
      "source": [
        "y_A1 =  table_A1.iloc[:,13:14]"
      ],
      "metadata": {
        "id": "Pxz12HelpHfz"
      },
      "execution_count": 20,
      "outputs": []
    },
    {
      "cell_type": "code",
      "source": [
        "y_A1 = np.array(y_A1)\n",
        "y_A1"
      ],
      "metadata": {
        "id": "OUlNrinDoig4",
        "outputId": "2d0d507d-200b-4276-98c4-27e73570dc21",
        "colab": {
          "base_uri": "https://localhost:8080/"
        }
      },
      "execution_count": 21,
      "outputs": [
        {
          "output_type": "execute_result",
          "data": {
            "text/plain": [
              "array([['A1'],\n",
              "       ['A1'],\n",
              "       ['A1'],\n",
              "       ...,\n",
              "       ['D4'],\n",
              "       ['D4'],\n",
              "       ['D4']], dtype=object)"
            ]
          },
          "metadata": {},
          "execution_count": 21
        }
      ]
    },
    {
      "cell_type": "code",
      "source": [
        "X_test_A1, X_train_A1 , y_test_A1, y_train_A1 = train_test_split(X_A1, y_A1 , test_size=80, train_size=320)"
      ],
      "metadata": {
        "id": "i7rTM8AFpqSK"
      },
      "execution_count": 22,
      "outputs": []
    },
    {
      "cell_type": "code",
      "source": [
        "clf.fit(X_train_A1, y_train_A1)"
      ],
      "metadata": {
        "id": "IUUimpJpteyy",
        "outputId": "346cffdb-eb6e-44d8-c728-28d277566776",
        "colab": {
          "base_uri": "https://localhost:8080/"
        }
      },
      "execution_count": 23,
      "outputs": [
        {
          "output_type": "stream",
          "name": "stderr",
          "text": [
            "/usr/local/lib/python3.7/dist-packages/sklearn/utils/validation.py:985: DataConversionWarning: A column-vector y was passed when a 1d array was expected. Please change the shape of y to (n_samples, ), for example using ravel().\n",
            "  y = column_or_1d(y, warn=True)\n"
          ]
        },
        {
          "output_type": "execute_result",
          "data": {
            "text/plain": [
              "SVC(kernel='poly')"
            ]
          },
          "metadata": {},
          "execution_count": 23
        }
      ]
    },
    {
      "cell_type": "code",
      "source": [
        "y_pred_A1 = clf.predict(X_test_A1)"
      ],
      "metadata": {
        "id": "PM9IM1Z3vP9t"
      },
      "execution_count": 24,
      "outputs": []
    },
    {
      "cell_type": "code",
      "source": [
        "print(\"Accuracy:\", metrics.accuracy_score(y_test_A1, y_pred_A1))"
      ],
      "metadata": {
        "id": "vcsWfTP8vknu",
        "outputId": "171160e3-6286-43ad-da47-ef539a2c0bab",
        "colab": {
          "base_uri": "https://localhost:8080/"
        }
      },
      "execution_count": 25,
      "outputs": [
        {
          "output_type": "stream",
          "name": "stdout",
          "text": [
            "Accuracy: 0.090625\n"
          ]
        }
      ]
    },
    {
      "cell_type": "markdown",
      "source": [
        "##A2"
      ],
      "metadata": {
        "id": "BdY-rssHzaBL"
      }
    },
    {
      "cell_type": "code",
      "source": [
        "table_A2= pd.read_excel(AA, sheet_name='A2')\n",
        "table_A2"
      ],
      "metadata": {
        "colab": {
          "base_uri": "https://localhost:8080/",
          "height": 0
        },
        "id": "LqVCyRRIyp-O",
        "outputId": "d699de47-553d-4abb-e9e4-dec2b212a685"
      },
      "execution_count": 26,
      "outputs": [
        {
          "output_type": "execute_result",
          "data": {
            "text/html": [
              "\n",
              "  <div id=\"df-43f25c88-a0f5-450a-86a1-edafe97bb645\">\n",
              "    <div class=\"colab-df-container\">\n",
              "      <div>\n",
              "<style scoped>\n",
              "    .dataframe tbody tr th:only-of-type {\n",
              "        vertical-align: middle;\n",
              "    }\n",
              "\n",
              "    .dataframe tbody tr th {\n",
              "        vertical-align: top;\n",
              "    }\n",
              "\n",
              "    .dataframe thead th {\n",
              "        text-align: right;\n",
              "    }\n",
              "</style>\n",
              "<table border=\"1\" class=\"dataframe\">\n",
              "  <thead>\n",
              "    <tr style=\"text-align: right;\">\n",
              "      <th></th>\n",
              "      <th>R-ref</th>\n",
              "      <th>G-ref</th>\n",
              "      <th>B-ref</th>\n",
              "      <th>R-Shad</th>\n",
              "      <th>G-Shad</th>\n",
              "      <th>B-Shad</th>\n",
              "      <th>H-ref</th>\n",
              "      <th>S-ref</th>\n",
              "      <th>V-ref</th>\n",
              "      <th>H-Shad</th>\n",
              "      <th>S-Shad</th>\n",
              "      <th>V-Shad</th>\n",
              "      <th>Shade-ref</th>\n",
              "      <th>Shade</th>\n",
              "      <th>Setting</th>\n",
              "      <th>Img</th>\n",
              "    </tr>\n",
              "  </thead>\n",
              "  <tbody>\n",
              "    <tr>\n",
              "      <th>0</th>\n",
              "      <td>232.175960</td>\n",
              "      <td>216.874036</td>\n",
              "      <td>178.708465</td>\n",
              "      <td>232.964654</td>\n",
              "      <td>217.832160</td>\n",
              "      <td>180.185122</td>\n",
              "      <td>21.562292</td>\n",
              "      <td>58.762357</td>\n",
              "      <td>232.175960</td>\n",
              "      <td>21.513975</td>\n",
              "      <td>57.839201</td>\n",
              "      <td>232.964654</td>\n",
              "      <td>A2</td>\n",
              "      <td>A1</td>\n",
              "      <td>Set1</td>\n",
              "      <td>77308B8C-A458-48C0-A0EF-DD05DD0AEA75.png</td>\n",
              "    </tr>\n",
              "    <tr>\n",
              "      <th>1</th>\n",
              "      <td>231.726077</td>\n",
              "      <td>211.455077</td>\n",
              "      <td>167.223440</td>\n",
              "      <td>232.533177</td>\n",
              "      <td>212.551597</td>\n",
              "      <td>168.982505</td>\n",
              "      <td>20.556367</td>\n",
              "      <td>71.019641</td>\n",
              "      <td>231.726077</td>\n",
              "      <td>20.552237</td>\n",
              "      <td>69.773771</td>\n",
              "      <td>232.533177</td>\n",
              "      <td>A2</td>\n",
              "      <td>A1</td>\n",
              "      <td>Set1</td>\n",
              "      <td>DD37E60E-8484-48E3-8FB4-7E94B71553F4.png</td>\n",
              "    </tr>\n",
              "    <tr>\n",
              "      <th>2</th>\n",
              "      <td>226.100641</td>\n",
              "      <td>197.575278</td>\n",
              "      <td>146.748235</td>\n",
              "      <td>226.795889</td>\n",
              "      <td>198.548539</td>\n",
              "      <td>147.966148</td>\n",
              "      <td>19.189595</td>\n",
              "      <td>89.497849</td>\n",
              "      <td>226.100641</td>\n",
              "      <td>19.239457</td>\n",
              "      <td>88.650238</td>\n",
              "      <td>226.795889</td>\n",
              "      <td>A2</td>\n",
              "      <td>A1</td>\n",
              "      <td>Set1</td>\n",
              "      <td>0ED6DB80-7C02-41B3-88E9-CB382B96B37C.png</td>\n",
              "    </tr>\n",
              "    <tr>\n",
              "      <th>3</th>\n",
              "      <td>230.612531</td>\n",
              "      <td>207.562373</td>\n",
              "      <td>164.211752</td>\n",
              "      <td>231.210796</td>\n",
              "      <td>208.351682</td>\n",
              "      <td>165.428561</td>\n",
              "      <td>19.566594</td>\n",
              "      <td>73.461651</td>\n",
              "      <td>230.612531</td>\n",
              "      <td>19.550743</td>\n",
              "      <td>72.606500</td>\n",
              "      <td>231.210796</td>\n",
              "      <td>A2</td>\n",
              "      <td>A1</td>\n",
              "      <td>Set1</td>\n",
              "      <td>8B551D28-1E87-49BD-9E20-8B3F5F08FE8E.png</td>\n",
              "    </tr>\n",
              "    <tr>\n",
              "      <th>4</th>\n",
              "      <td>232.133431</td>\n",
              "      <td>209.823472</td>\n",
              "      <td>160.814707</td>\n",
              "      <td>232.841548</td>\n",
              "      <td>211.054264</td>\n",
              "      <td>163.067989</td>\n",
              "      <td>20.814463</td>\n",
              "      <td>78.373996</td>\n",
              "      <td>232.133431</td>\n",
              "      <td>20.855487</td>\n",
              "      <td>76.523434</td>\n",
              "      <td>232.841832</td>\n",
              "      <td>A2</td>\n",
              "      <td>A1</td>\n",
              "      <td>Set1</td>\n",
              "      <td>C12D1E9C-5BFA-4DD7-9D3F-194378F9673D.png</td>\n",
              "    </tr>\n",
              "    <tr>\n",
              "      <th>...</th>\n",
              "      <td>...</td>\n",
              "      <td>...</td>\n",
              "      <td>...</td>\n",
              "      <td>...</td>\n",
              "      <td>...</td>\n",
              "      <td>...</td>\n",
              "      <td>...</td>\n",
              "      <td>...</td>\n",
              "      <td>...</td>\n",
              "      <td>...</td>\n",
              "      <td>...</td>\n",
              "      <td>...</td>\n",
              "      <td>...</td>\n",
              "      <td>...</td>\n",
              "      <td>...</td>\n",
              "      <td>...</td>\n",
              "    </tr>\n",
              "    <tr>\n",
              "      <th>3195</th>\n",
              "      <td>232.804642</td>\n",
              "      <td>209.441604</td>\n",
              "      <td>164.924357</td>\n",
              "      <td>233.308869</td>\n",
              "      <td>210.109594</td>\n",
              "      <td>166.164853</td>\n",
              "      <td>19.601331</td>\n",
              "      <td>74.376755</td>\n",
              "      <td>232.804642</td>\n",
              "      <td>19.552094</td>\n",
              "      <td>73.433042</td>\n",
              "      <td>233.308869</td>\n",
              "      <td>A2</td>\n",
              "      <td>D4</td>\n",
              "      <td>Set4</td>\n",
              "      <td>NaN</td>\n",
              "    </tr>\n",
              "    <tr>\n",
              "      <th>3196</th>\n",
              "      <td>235.903985</td>\n",
              "      <td>218.940670</td>\n",
              "      <td>179.875741</td>\n",
              "      <td>236.487092</td>\n",
              "      <td>219.666951</td>\n",
              "      <td>181.014864</td>\n",
              "      <td>20.612775</td>\n",
              "      <td>78.169873</td>\n",
              "      <td>229.335768</td>\n",
              "      <td>20.589787</td>\n",
              "      <td>77.092810</td>\n",
              "      <td>229.914515</td>\n",
              "      <td>A2</td>\n",
              "      <td>D4</td>\n",
              "      <td>Set4</td>\n",
              "      <td>NaN</td>\n",
              "    </tr>\n",
              "    <tr>\n",
              "      <th>3197</th>\n",
              "      <td>232.175960</td>\n",
              "      <td>216.874036</td>\n",
              "      <td>178.708465</td>\n",
              "      <td>232.964654</td>\n",
              "      <td>217.832160</td>\n",
              "      <td>180.185122</td>\n",
              "      <td>21.562292</td>\n",
              "      <td>58.762357</td>\n",
              "      <td>232.175960</td>\n",
              "      <td>21.513975</td>\n",
              "      <td>57.839201</td>\n",
              "      <td>232.964654</td>\n",
              "      <td>A2</td>\n",
              "      <td>D4</td>\n",
              "      <td>Set4</td>\n",
              "      <td>NaN</td>\n",
              "    </tr>\n",
              "    <tr>\n",
              "      <th>3198</th>\n",
              "      <td>231.726077</td>\n",
              "      <td>211.455077</td>\n",
              "      <td>167.223440</td>\n",
              "      <td>232.533177</td>\n",
              "      <td>212.551597</td>\n",
              "      <td>168.982505</td>\n",
              "      <td>20.556367</td>\n",
              "      <td>71.019641</td>\n",
              "      <td>231.726077</td>\n",
              "      <td>20.552237</td>\n",
              "      <td>69.773771</td>\n",
              "      <td>232.533177</td>\n",
              "      <td>A2</td>\n",
              "      <td>D4</td>\n",
              "      <td>Set4</td>\n",
              "      <td>NaN</td>\n",
              "    </tr>\n",
              "    <tr>\n",
              "      <th>3199</th>\n",
              "      <td>226.100641</td>\n",
              "      <td>197.575278</td>\n",
              "      <td>146.748235</td>\n",
              "      <td>226.795889</td>\n",
              "      <td>198.548539</td>\n",
              "      <td>147.966148</td>\n",
              "      <td>19.189595</td>\n",
              "      <td>89.497849</td>\n",
              "      <td>226.100641</td>\n",
              "      <td>19.239457</td>\n",
              "      <td>88.650238</td>\n",
              "      <td>226.795889</td>\n",
              "      <td>A2</td>\n",
              "      <td>D4</td>\n",
              "      <td>Set4</td>\n",
              "      <td>NaN</td>\n",
              "    </tr>\n",
              "  </tbody>\n",
              "</table>\n",
              "<p>3200 rows × 16 columns</p>\n",
              "</div>\n",
              "      <button class=\"colab-df-convert\" onclick=\"convertToInteractive('df-43f25c88-a0f5-450a-86a1-edafe97bb645')\"\n",
              "              title=\"Convert this dataframe to an interactive table.\"\n",
              "              style=\"display:none;\">\n",
              "        \n",
              "  <svg xmlns=\"http://www.w3.org/2000/svg\" height=\"24px\"viewBox=\"0 0 24 24\"\n",
              "       width=\"24px\">\n",
              "    <path d=\"M0 0h24v24H0V0z\" fill=\"none\"/>\n",
              "    <path d=\"M18.56 5.44l.94 2.06.94-2.06 2.06-.94-2.06-.94-.94-2.06-.94 2.06-2.06.94zm-11 1L8.5 8.5l.94-2.06 2.06-.94-2.06-.94L8.5 2.5l-.94 2.06-2.06.94zm10 10l.94 2.06.94-2.06 2.06-.94-2.06-.94-.94-2.06-.94 2.06-2.06.94z\"/><path d=\"M17.41 7.96l-1.37-1.37c-.4-.4-.92-.59-1.43-.59-.52 0-1.04.2-1.43.59L10.3 9.45l-7.72 7.72c-.78.78-.78 2.05 0 2.83L4 21.41c.39.39.9.59 1.41.59.51 0 1.02-.2 1.41-.59l7.78-7.78 2.81-2.81c.8-.78.8-2.07 0-2.86zM5.41 20L4 18.59l7.72-7.72 1.47 1.35L5.41 20z\"/>\n",
              "  </svg>\n",
              "      </button>\n",
              "      \n",
              "  <style>\n",
              "    .colab-df-container {\n",
              "      display:flex;\n",
              "      flex-wrap:wrap;\n",
              "      gap: 12px;\n",
              "    }\n",
              "\n",
              "    .colab-df-convert {\n",
              "      background-color: #E8F0FE;\n",
              "      border: none;\n",
              "      border-radius: 50%;\n",
              "      cursor: pointer;\n",
              "      display: none;\n",
              "      fill: #1967D2;\n",
              "      height: 32px;\n",
              "      padding: 0 0 0 0;\n",
              "      width: 32px;\n",
              "    }\n",
              "\n",
              "    .colab-df-convert:hover {\n",
              "      background-color: #E2EBFA;\n",
              "      box-shadow: 0px 1px 2px rgba(60, 64, 67, 0.3), 0px 1px 3px 1px rgba(60, 64, 67, 0.15);\n",
              "      fill: #174EA6;\n",
              "    }\n",
              "\n",
              "    [theme=dark] .colab-df-convert {\n",
              "      background-color: #3B4455;\n",
              "      fill: #D2E3FC;\n",
              "    }\n",
              "\n",
              "    [theme=dark] .colab-df-convert:hover {\n",
              "      background-color: #434B5C;\n",
              "      box-shadow: 0px 1px 3px 1px rgba(0, 0, 0, 0.15);\n",
              "      filter: drop-shadow(0px 1px 2px rgba(0, 0, 0, 0.3));\n",
              "      fill: #FFFFFF;\n",
              "    }\n",
              "  </style>\n",
              "\n",
              "      <script>\n",
              "        const buttonEl =\n",
              "          document.querySelector('#df-43f25c88-a0f5-450a-86a1-edafe97bb645 button.colab-df-convert');\n",
              "        buttonEl.style.display =\n",
              "          google.colab.kernel.accessAllowed ? 'block' : 'none';\n",
              "\n",
              "        async function convertToInteractive(key) {\n",
              "          const element = document.querySelector('#df-43f25c88-a0f5-450a-86a1-edafe97bb645');\n",
              "          const dataTable =\n",
              "            await google.colab.kernel.invokeFunction('convertToInteractive',\n",
              "                                                     [key], {});\n",
              "          if (!dataTable) return;\n",
              "\n",
              "          const docLinkHtml = 'Like what you see? Visit the ' +\n",
              "            '<a target=\"_blank\" href=https://colab.research.google.com/notebooks/data_table.ipynb>data table notebook</a>'\n",
              "            + ' to learn more about interactive tables.';\n",
              "          element.innerHTML = '';\n",
              "          dataTable['output_type'] = 'display_data';\n",
              "          await google.colab.output.renderOutput(dataTable, element);\n",
              "          const docLink = document.createElement('div');\n",
              "          docLink.innerHTML = docLinkHtml;\n",
              "          element.appendChild(docLink);\n",
              "        }\n",
              "      </script>\n",
              "    </div>\n",
              "  </div>\n",
              "  "
            ],
            "text/plain": [
              "           R-ref       G-ref  ...  Setting                                       Img\n",
              "0     232.175960  216.874036  ...     Set1  77308B8C-A458-48C0-A0EF-DD05DD0AEA75.png\n",
              "1     231.726077  211.455077  ...     Set1  DD37E60E-8484-48E3-8FB4-7E94B71553F4.png\n",
              "2     226.100641  197.575278  ...     Set1  0ED6DB80-7C02-41B3-88E9-CB382B96B37C.png\n",
              "3     230.612531  207.562373  ...     Set1  8B551D28-1E87-49BD-9E20-8B3F5F08FE8E.png\n",
              "4     232.133431  209.823472  ...     Set1  C12D1E9C-5BFA-4DD7-9D3F-194378F9673D.png\n",
              "...          ...         ...  ...      ...                                       ...\n",
              "3195  232.804642  209.441604  ...     Set4                                       NaN\n",
              "3196  235.903985  218.940670  ...     Set4                                       NaN\n",
              "3197  232.175960  216.874036  ...     Set4                                       NaN\n",
              "3198  231.726077  211.455077  ...     Set4                                       NaN\n",
              "3199  226.100641  197.575278  ...     Set4                                       NaN\n",
              "\n",
              "[3200 rows x 16 columns]"
            ]
          },
          "metadata": {},
          "execution_count": 26
        }
      ]
    },
    {
      "cell_type": "code",
      "source": [
        "RGB_A2 = table_A2.drop(['H-ref','S-ref','V-ref','S-Shad','V-Shad','Shade-ref','Setting','Img','Shade','H-Shad'], axis=1)"
      ],
      "metadata": {
        "id": "2l5mR7_M1Oxg"
      },
      "execution_count": 27,
      "outputs": []
    },
    {
      "cell_type": "code",
      "source": [
        "X_A2 = np.array(RGB_A2)"
      ],
      "metadata": {
        "id": "jgiRT1qO1Oxg"
      },
      "execution_count": 28,
      "outputs": []
    },
    {
      "cell_type": "code",
      "source": [
        "y_A2 =  table_A1.iloc[:,13:14]"
      ],
      "metadata": {
        "id": "neQfS-Pv1Oxg"
      },
      "execution_count": 29,
      "outputs": []
    },
    {
      "cell_type": "code",
      "source": [
        "y_A2 = np.array(y_A2)\n",
        "y_A2"
      ],
      "metadata": {
        "outputId": "676aea60-0511-4412-fc2d-478bf01fe87d",
        "colab": {
          "base_uri": "https://localhost:8080/"
        },
        "id": "P0tHOVqI1Oxg"
      },
      "execution_count": 30,
      "outputs": [
        {
          "output_type": "execute_result",
          "data": {
            "text/plain": [
              "array([['A1'],\n",
              "       ['A1'],\n",
              "       ['A1'],\n",
              "       ...,\n",
              "       ['D4'],\n",
              "       ['D4'],\n",
              "       ['D4']], dtype=object)"
            ]
          },
          "metadata": {},
          "execution_count": 30
        }
      ]
    },
    {
      "cell_type": "code",
      "source": [
        "X_test_A2, X_train_A2 , y_test_A2, y_train_A2 = train_test_split(X_A2, y_A2 , test_size=80, train_size=320)"
      ],
      "metadata": {
        "id": "84Uys_BQr1XF"
      },
      "execution_count": 31,
      "outputs": []
    },
    {
      "cell_type": "code",
      "source": [
        "clf.fit(X_train_A2, y_train_A2)"
      ],
      "metadata": {
        "outputId": "cc920bf1-feec-4e44-dc13-b749afa715ee",
        "colab": {
          "base_uri": "https://localhost:8080/"
        },
        "id": "uU9cvxYZ1Oxh"
      },
      "execution_count": 32,
      "outputs": [
        {
          "output_type": "stream",
          "name": "stderr",
          "text": [
            "/usr/local/lib/python3.7/dist-packages/sklearn/utils/validation.py:985: DataConversionWarning: A column-vector y was passed when a 1d array was expected. Please change the shape of y to (n_samples, ), for example using ravel().\n",
            "  y = column_or_1d(y, warn=True)\n"
          ]
        },
        {
          "output_type": "execute_result",
          "data": {
            "text/plain": [
              "SVC(kernel='poly')"
            ]
          },
          "metadata": {},
          "execution_count": 32
        }
      ]
    },
    {
      "cell_type": "code",
      "source": [
        "y_pred_A2 = clf.predict(X_test_A2)"
      ],
      "metadata": {
        "id": "aqNY_1A41Oxh"
      },
      "execution_count": 33,
      "outputs": []
    },
    {
      "cell_type": "code",
      "source": [
        "print(\"Accuracy:\", metrics.accuracy_score(y_test_A2, y_pred_A2))"
      ],
      "metadata": {
        "outputId": "03110d9c-bc79-4721-94ac-a2d69ece92cb",
        "colab": {
          "base_uri": "https://localhost:8080/"
        },
        "id": "UJ_YilIL1Oxh"
      },
      "execution_count": 34,
      "outputs": [
        {
          "output_type": "stream",
          "name": "stdout",
          "text": [
            "Accuracy: 0.19375\n"
          ]
        }
      ]
    },
    {
      "cell_type": "markdown",
      "source": [
        "##A3"
      ],
      "metadata": {
        "id": "67NP5TNFzbli"
      }
    },
    {
      "cell_type": "code",
      "source": [
        "table_A3= pd.read_excel(AA, sheet_name='A3')\n",
        "table_A3"
      ],
      "metadata": {
        "colab": {
          "base_uri": "https://localhost:8080/",
          "height": 0
        },
        "id": "_K7tBtcMy04R",
        "outputId": "8942a102-15e2-4c18-fdc1-b0e5238e25be"
      },
      "execution_count": 35,
      "outputs": [
        {
          "output_type": "execute_result",
          "data": {
            "text/html": [
              "\n",
              "  <div id=\"df-a3fe7514-28ef-4071-9e04-8c02f1a6f241\">\n",
              "    <div class=\"colab-df-container\">\n",
              "      <div>\n",
              "<style scoped>\n",
              "    .dataframe tbody tr th:only-of-type {\n",
              "        vertical-align: middle;\n",
              "    }\n",
              "\n",
              "    .dataframe tbody tr th {\n",
              "        vertical-align: top;\n",
              "    }\n",
              "\n",
              "    .dataframe thead th {\n",
              "        text-align: right;\n",
              "    }\n",
              "</style>\n",
              "<table border=\"1\" class=\"dataframe\">\n",
              "  <thead>\n",
              "    <tr style=\"text-align: right;\">\n",
              "      <th></th>\n",
              "      <th>R-ref</th>\n",
              "      <th>G-ref</th>\n",
              "      <th>B-ref</th>\n",
              "      <th>R-Shad</th>\n",
              "      <th>G-Shad</th>\n",
              "      <th>B-Shad</th>\n",
              "      <th>H-ref</th>\n",
              "      <th>S-ref</th>\n",
              "      <th>V-ref</th>\n",
              "      <th>H-Shad</th>\n",
              "      <th>S-Shad</th>\n",
              "      <th>V-Shad</th>\n",
              "      <th>Shade-ref</th>\n",
              "      <th>Shade</th>\n",
              "      <th>Setting</th>\n",
              "      <th>Img</th>\n",
              "    </tr>\n",
              "  </thead>\n",
              "  <tbody>\n",
              "    <tr>\n",
              "      <th>0</th>\n",
              "      <td>240.865271</td>\n",
              "      <td>224.637854</td>\n",
              "      <td>178.549306</td>\n",
              "      <td>241.270820</td>\n",
              "      <td>225.258019</td>\n",
              "      <td>179.527345</td>\n",
              "      <td>22.332441</td>\n",
              "      <td>66.000568</td>\n",
              "      <td>240.865271</td>\n",
              "      <td>22.344499</td>\n",
              "      <td>65.293578</td>\n",
              "      <td>241.270820</td>\n",
              "      <td>A3</td>\n",
              "      <td>A1</td>\n",
              "      <td>Set1</td>\n",
              "      <td>BAD1342F-482E-488F-8241-A393B4779E26.png</td>\n",
              "    </tr>\n",
              "    <tr>\n",
              "      <th>1</th>\n",
              "      <td>234.887834</td>\n",
              "      <td>223.690123</td>\n",
              "      <td>188.796283</td>\n",
              "      <td>235.609061</td>\n",
              "      <td>224.545978</td>\n",
              "      <td>190.322452</td>\n",
              "      <td>22.660093</td>\n",
              "      <td>50.039201</td>\n",
              "      <td>234.887834</td>\n",
              "      <td>22.616101</td>\n",
              "      <td>49.037977</td>\n",
              "      <td>235.609061</td>\n",
              "      <td>A3</td>\n",
              "      <td>A1</td>\n",
              "      <td>Set1</td>\n",
              "      <td>0E4BF624-DA48-45D7-8CEF-1F893F3E36A9.png</td>\n",
              "    </tr>\n",
              "    <tr>\n",
              "      <th>2</th>\n",
              "      <td>237.374726</td>\n",
              "      <td>219.960149</td>\n",
              "      <td>176.637286</td>\n",
              "      <td>237.957613</td>\n",
              "      <td>220.812531</td>\n",
              "      <td>177.951355</td>\n",
              "      <td>21.737359</td>\n",
              "      <td>65.276114</td>\n",
              "      <td>237.374726</td>\n",
              "      <td>21.747173</td>\n",
              "      <td>64.356589</td>\n",
              "      <td>237.957613</td>\n",
              "      <td>A3</td>\n",
              "      <td>A1</td>\n",
              "      <td>Set1</td>\n",
              "      <td>A5A67F7B-D2B1-4729-8A0B-9BE2F2DF55C6.png</td>\n",
              "    </tr>\n",
              "    <tr>\n",
              "      <th>3</th>\n",
              "      <td>240.543706</td>\n",
              "      <td>213.146498</td>\n",
              "      <td>156.376268</td>\n",
              "      <td>241.134485</td>\n",
              "      <td>214.226655</td>\n",
              "      <td>158.206102</td>\n",
              "      <td>20.320672</td>\n",
              "      <td>89.255499</td>\n",
              "      <td>240.543706</td>\n",
              "      <td>20.371097</td>\n",
              "      <td>87.763246</td>\n",
              "      <td>241.134485</td>\n",
              "      <td>A3</td>\n",
              "      <td>A1</td>\n",
              "      <td>Set1</td>\n",
              "      <td>35D1BEA8-E650-4D83-9D61-17AD65EABD39.png</td>\n",
              "    </tr>\n",
              "    <tr>\n",
              "      <th>4</th>\n",
              "      <td>240.498498</td>\n",
              "      <td>229.602062</td>\n",
              "      <td>194.791981</td>\n",
              "      <td>240.924756</td>\n",
              "      <td>230.162577</td>\n",
              "      <td>195.716165</td>\n",
              "      <td>22.651408</td>\n",
              "      <td>48.460271</td>\n",
              "      <td>240.498498</td>\n",
              "      <td>22.683806</td>\n",
              "      <td>47.859327</td>\n",
              "      <td>240.924756</td>\n",
              "      <td>A3</td>\n",
              "      <td>A1</td>\n",
              "      <td>Set1</td>\n",
              "      <td>18FE9FE4-F848-465E-B7FE-7792C8A083CB.png</td>\n",
              "    </tr>\n",
              "    <tr>\n",
              "      <th>...</th>\n",
              "      <td>...</td>\n",
              "      <td>...</td>\n",
              "      <td>...</td>\n",
              "      <td>...</td>\n",
              "      <td>...</td>\n",
              "      <td>...</td>\n",
              "      <td>...</td>\n",
              "      <td>...</td>\n",
              "      <td>...</td>\n",
              "      <td>...</td>\n",
              "      <td>...</td>\n",
              "      <td>...</td>\n",
              "      <td>...</td>\n",
              "      <td>...</td>\n",
              "      <td>...</td>\n",
              "      <td>...</td>\n",
              "    </tr>\n",
              "    <tr>\n",
              "      <th>3195</th>\n",
              "      <td>215.312718</td>\n",
              "      <td>216.245759</td>\n",
              "      <td>196.157455</td>\n",
              "      <td>214.860323</td>\n",
              "      <td>215.754498</td>\n",
              "      <td>195.762108</td>\n",
              "      <td>28.454590</td>\n",
              "      <td>52.051295</td>\n",
              "      <td>221.314991</td>\n",
              "      <td>28.269469</td>\n",
              "      <td>52.384325</td>\n",
              "      <td>220.852002</td>\n",
              "      <td>A3</td>\n",
              "      <td>D4</td>\n",
              "      <td>Set4</td>\n",
              "      <td>B83176D1-07D1-4ED0-AAE9-FCD4574B5C77.png</td>\n",
              "    </tr>\n",
              "    <tr>\n",
              "      <th>3196</th>\n",
              "      <td>215.690610</td>\n",
              "      <td>216.009902</td>\n",
              "      <td>196.406055</td>\n",
              "      <td>215.166773</td>\n",
              "      <td>215.486879</td>\n",
              "      <td>195.933291</td>\n",
              "      <td>30.849525</td>\n",
              "      <td>23.662609</td>\n",
              "      <td>216.485350</td>\n",
              "      <td>30.867293</td>\n",
              "      <td>23.636228</td>\n",
              "      <td>215.959036</td>\n",
              "      <td>A3</td>\n",
              "      <td>D4</td>\n",
              "      <td>Set4</td>\n",
              "      <td>7240B378-683D-473E-892E-7495463896C9.png</td>\n",
              "    </tr>\n",
              "    <tr>\n",
              "      <th>3197</th>\n",
              "      <td>213.749290</td>\n",
              "      <td>210.436328</td>\n",
              "      <td>181.714877</td>\n",
              "      <td>213.046725</td>\n",
              "      <td>209.822132</td>\n",
              "      <td>181.286679</td>\n",
              "      <td>26.683954</td>\n",
              "      <td>38.233260</td>\n",
              "      <td>213.749290</td>\n",
              "      <td>26.767157</td>\n",
              "      <td>38.010668</td>\n",
              "      <td>213.046725</td>\n",
              "      <td>A3</td>\n",
              "      <td>D4</td>\n",
              "      <td>Set4</td>\n",
              "      <td>39327F65-2360-4CAA-96AB-CED449DA5C6F.png</td>\n",
              "    </tr>\n",
              "    <tr>\n",
              "      <th>3198</th>\n",
              "      <td>211.214674</td>\n",
              "      <td>204.185537</td>\n",
              "      <td>158.897330</td>\n",
              "      <td>210.905910</td>\n",
              "      <td>203.783372</td>\n",
              "      <td>158.707275</td>\n",
              "      <td>26.202337</td>\n",
              "      <td>63.120039</td>\n",
              "      <td>211.214674</td>\n",
              "      <td>26.147358</td>\n",
              "      <td>63.070194</td>\n",
              "      <td>210.905910</td>\n",
              "      <td>A3</td>\n",
              "      <td>D4</td>\n",
              "      <td>Set4</td>\n",
              "      <td>B8C1AF4E-061D-4CB7-BFB5-69B3DE73FE89.png</td>\n",
              "    </tr>\n",
              "    <tr>\n",
              "      <th>3199</th>\n",
              "      <td>221.403052</td>\n",
              "      <td>217.426426</td>\n",
              "      <td>188.743933</td>\n",
              "      <td>220.877036</td>\n",
              "      <td>216.910035</td>\n",
              "      <td>188.415191</td>\n",
              "      <td>26.406947</td>\n",
              "      <td>37.572518</td>\n",
              "      <td>221.403052</td>\n",
              "      <td>26.399047</td>\n",
              "      <td>37.439940</td>\n",
              "      <td>220.877036</td>\n",
              "      <td>A3</td>\n",
              "      <td>D4</td>\n",
              "      <td>Set4</td>\n",
              "      <td>7E6D5A19-5AB2-4317-83F1-CC56829025EB.png</td>\n",
              "    </tr>\n",
              "  </tbody>\n",
              "</table>\n",
              "<p>3200 rows × 16 columns</p>\n",
              "</div>\n",
              "      <button class=\"colab-df-convert\" onclick=\"convertToInteractive('df-a3fe7514-28ef-4071-9e04-8c02f1a6f241')\"\n",
              "              title=\"Convert this dataframe to an interactive table.\"\n",
              "              style=\"display:none;\">\n",
              "        \n",
              "  <svg xmlns=\"http://www.w3.org/2000/svg\" height=\"24px\"viewBox=\"0 0 24 24\"\n",
              "       width=\"24px\">\n",
              "    <path d=\"M0 0h24v24H0V0z\" fill=\"none\"/>\n",
              "    <path d=\"M18.56 5.44l.94 2.06.94-2.06 2.06-.94-2.06-.94-.94-2.06-.94 2.06-2.06.94zm-11 1L8.5 8.5l.94-2.06 2.06-.94-2.06-.94L8.5 2.5l-.94 2.06-2.06.94zm10 10l.94 2.06.94-2.06 2.06-.94-2.06-.94-.94-2.06-.94 2.06-2.06.94z\"/><path d=\"M17.41 7.96l-1.37-1.37c-.4-.4-.92-.59-1.43-.59-.52 0-1.04.2-1.43.59L10.3 9.45l-7.72 7.72c-.78.78-.78 2.05 0 2.83L4 21.41c.39.39.9.59 1.41.59.51 0 1.02-.2 1.41-.59l7.78-7.78 2.81-2.81c.8-.78.8-2.07 0-2.86zM5.41 20L4 18.59l7.72-7.72 1.47 1.35L5.41 20z\"/>\n",
              "  </svg>\n",
              "      </button>\n",
              "      \n",
              "  <style>\n",
              "    .colab-df-container {\n",
              "      display:flex;\n",
              "      flex-wrap:wrap;\n",
              "      gap: 12px;\n",
              "    }\n",
              "\n",
              "    .colab-df-convert {\n",
              "      background-color: #E8F0FE;\n",
              "      border: none;\n",
              "      border-radius: 50%;\n",
              "      cursor: pointer;\n",
              "      display: none;\n",
              "      fill: #1967D2;\n",
              "      height: 32px;\n",
              "      padding: 0 0 0 0;\n",
              "      width: 32px;\n",
              "    }\n",
              "\n",
              "    .colab-df-convert:hover {\n",
              "      background-color: #E2EBFA;\n",
              "      box-shadow: 0px 1px 2px rgba(60, 64, 67, 0.3), 0px 1px 3px 1px rgba(60, 64, 67, 0.15);\n",
              "      fill: #174EA6;\n",
              "    }\n",
              "\n",
              "    [theme=dark] .colab-df-convert {\n",
              "      background-color: #3B4455;\n",
              "      fill: #D2E3FC;\n",
              "    }\n",
              "\n",
              "    [theme=dark] .colab-df-convert:hover {\n",
              "      background-color: #434B5C;\n",
              "      box-shadow: 0px 1px 3px 1px rgba(0, 0, 0, 0.15);\n",
              "      filter: drop-shadow(0px 1px 2px rgba(0, 0, 0, 0.3));\n",
              "      fill: #FFFFFF;\n",
              "    }\n",
              "  </style>\n",
              "\n",
              "      <script>\n",
              "        const buttonEl =\n",
              "          document.querySelector('#df-a3fe7514-28ef-4071-9e04-8c02f1a6f241 button.colab-df-convert');\n",
              "        buttonEl.style.display =\n",
              "          google.colab.kernel.accessAllowed ? 'block' : 'none';\n",
              "\n",
              "        async function convertToInteractive(key) {\n",
              "          const element = document.querySelector('#df-a3fe7514-28ef-4071-9e04-8c02f1a6f241');\n",
              "          const dataTable =\n",
              "            await google.colab.kernel.invokeFunction('convertToInteractive',\n",
              "                                                     [key], {});\n",
              "          if (!dataTable) return;\n",
              "\n",
              "          const docLinkHtml = 'Like what you see? Visit the ' +\n",
              "            '<a target=\"_blank\" href=https://colab.research.google.com/notebooks/data_table.ipynb>data table notebook</a>'\n",
              "            + ' to learn more about interactive tables.';\n",
              "          element.innerHTML = '';\n",
              "          dataTable['output_type'] = 'display_data';\n",
              "          await google.colab.output.renderOutput(dataTable, element);\n",
              "          const docLink = document.createElement('div');\n",
              "          docLink.innerHTML = docLinkHtml;\n",
              "          element.appendChild(docLink);\n",
              "        }\n",
              "      </script>\n",
              "    </div>\n",
              "  </div>\n",
              "  "
            ],
            "text/plain": [
              "           R-ref       G-ref  ...  Setting                                       Img\n",
              "0     240.865271  224.637854  ...     Set1  BAD1342F-482E-488F-8241-A393B4779E26.png\n",
              "1     234.887834  223.690123  ...     Set1  0E4BF624-DA48-45D7-8CEF-1F893F3E36A9.png\n",
              "2     237.374726  219.960149  ...     Set1  A5A67F7B-D2B1-4729-8A0B-9BE2F2DF55C6.png\n",
              "3     240.543706  213.146498  ...     Set1  35D1BEA8-E650-4D83-9D61-17AD65EABD39.png\n",
              "4     240.498498  229.602062  ...     Set1  18FE9FE4-F848-465E-B7FE-7792C8A083CB.png\n",
              "...          ...         ...  ...      ...                                       ...\n",
              "3195  215.312718  216.245759  ...     Set4  B83176D1-07D1-4ED0-AAE9-FCD4574B5C77.png\n",
              "3196  215.690610  216.009902  ...     Set4  7240B378-683D-473E-892E-7495463896C9.png\n",
              "3197  213.749290  210.436328  ...     Set4  39327F65-2360-4CAA-96AB-CED449DA5C6F.png\n",
              "3198  211.214674  204.185537  ...     Set4  B8C1AF4E-061D-4CB7-BFB5-69B3DE73FE89.png\n",
              "3199  221.403052  217.426426  ...     Set4  7E6D5A19-5AB2-4317-83F1-CC56829025EB.png\n",
              "\n",
              "[3200 rows x 16 columns]"
            ]
          },
          "metadata": {},
          "execution_count": 35
        }
      ]
    },
    {
      "cell_type": "code",
      "source": [
        "RGB_A3 = table_A3.drop(['H-ref','S-ref','V-ref','S-Shad','V-Shad','Shade-ref','Setting','Img','Shade','H-Shad'], axis=1)"
      ],
      "metadata": {
        "id": "syVzn9291f1f"
      },
      "execution_count": 36,
      "outputs": []
    },
    {
      "cell_type": "code",
      "source": [
        "X_A3 = np.array(RGB_A3)"
      ],
      "metadata": {
        "id": "wpXJyrp41f1g"
      },
      "execution_count": 37,
      "outputs": []
    },
    {
      "cell_type": "code",
      "source": [
        "y_A3 =  table_A3.iloc[:,13:14]"
      ],
      "metadata": {
        "id": "jqbGeJ7r1f1g"
      },
      "execution_count": 38,
      "outputs": []
    },
    {
      "cell_type": "code",
      "source": [
        "y_A3 = np.array(y_A3)\n",
        "y_A3"
      ],
      "metadata": {
        "outputId": "de2b42f2-a82e-4d31-e2d9-8f923ecf2af8",
        "colab": {
          "base_uri": "https://localhost:8080/"
        },
        "id": "48Y5K2PZ1f1g"
      },
      "execution_count": 39,
      "outputs": [
        {
          "output_type": "execute_result",
          "data": {
            "text/plain": [
              "array([['A1'],\n",
              "       ['A1'],\n",
              "       ['A1'],\n",
              "       ...,\n",
              "       ['D4'],\n",
              "       ['D4'],\n",
              "       ['D4']], dtype=object)"
            ]
          },
          "metadata": {},
          "execution_count": 39
        }
      ]
    },
    {
      "cell_type": "code",
      "source": [
        "X_test_A3, X_train_A3 , y_test_A3, y_train_A3 = train_test_split(X_A3, y_A3 , test_size=80, train_size=320)"
      ],
      "metadata": {
        "id": "Clm2NSdMsFHD"
      },
      "execution_count": 40,
      "outputs": []
    },
    {
      "cell_type": "code",
      "source": [
        "clf.fit(X_train_A3, y_train_A3)"
      ],
      "metadata": {
        "outputId": "dcfbb720-3c8c-4e32-f077-9a25580c6ec7",
        "colab": {
          "base_uri": "https://localhost:8080/"
        },
        "id": "wssPckMT1f1i"
      },
      "execution_count": 41,
      "outputs": [
        {
          "output_type": "stream",
          "name": "stderr",
          "text": [
            "/usr/local/lib/python3.7/dist-packages/sklearn/utils/validation.py:985: DataConversionWarning: A column-vector y was passed when a 1d array was expected. Please change the shape of y to (n_samples, ), for example using ravel().\n",
            "  y = column_or_1d(y, warn=True)\n"
          ]
        },
        {
          "output_type": "execute_result",
          "data": {
            "text/plain": [
              "SVC(kernel='poly')"
            ]
          },
          "metadata": {},
          "execution_count": 41
        }
      ]
    },
    {
      "cell_type": "code",
      "source": [
        "y_pred_A3 = clf.predict(X_test_A3)"
      ],
      "metadata": {
        "id": "Y9Wv6uyK1f1i"
      },
      "execution_count": 42,
      "outputs": []
    },
    {
      "cell_type": "code",
      "source": [
        "print(\"Accuracy:\", metrics.accuracy_score(y_test_A3, y_pred_A3))"
      ],
      "metadata": {
        "outputId": "7d880840-f452-4536-9c81-c52a5ee64746",
        "colab": {
          "base_uri": "https://localhost:8080/"
        },
        "id": "VgBeJivE1f1i"
      },
      "execution_count": 43,
      "outputs": [
        {
          "output_type": "stream",
          "name": "stdout",
          "text": [
            "Accuracy: 0.15\n"
          ]
        }
      ]
    },
    {
      "cell_type": "markdown",
      "source": [
        "##A3.5"
      ],
      "metadata": {
        "id": "pX4eKIufzdMQ"
      }
    },
    {
      "cell_type": "code",
      "source": [
        "table_A3_5 = pd.read_excel(AA, sheet_name='A3_5')\n",
        "table_A3_5"
      ],
      "metadata": {
        "colab": {
          "base_uri": "https://localhost:8080/",
          "height": 0
        },
        "id": "c6e8-RT0y6_e",
        "outputId": "1c6b2d66-ed0e-4ee0-f580-2024c7f39e86"
      },
      "execution_count": 44,
      "outputs": [
        {
          "output_type": "execute_result",
          "data": {
            "text/html": [
              "\n",
              "  <div id=\"df-8dda52a4-759a-4c92-9e83-2d183ac7ba21\">\n",
              "    <div class=\"colab-df-container\">\n",
              "      <div>\n",
              "<style scoped>\n",
              "    .dataframe tbody tr th:only-of-type {\n",
              "        vertical-align: middle;\n",
              "    }\n",
              "\n",
              "    .dataframe tbody tr th {\n",
              "        vertical-align: top;\n",
              "    }\n",
              "\n",
              "    .dataframe thead th {\n",
              "        text-align: right;\n",
              "    }\n",
              "</style>\n",
              "<table border=\"1\" class=\"dataframe\">\n",
              "  <thead>\n",
              "    <tr style=\"text-align: right;\">\n",
              "      <th></th>\n",
              "      <th>R-ref</th>\n",
              "      <th>G-ref</th>\n",
              "      <th>B-ref</th>\n",
              "      <th>R-Shad</th>\n",
              "      <th>G-Shad</th>\n",
              "      <th>B-Shad</th>\n",
              "      <th>H-ref</th>\n",
              "      <th>S-ref</th>\n",
              "      <th>V-ref</th>\n",
              "      <th>H-Shad</th>\n",
              "      <th>S-Shad</th>\n",
              "      <th>V-Shad</th>\n",
              "      <th>Shade-ref</th>\n",
              "      <th>Shade</th>\n",
              "      <th>Setting</th>\n",
              "      <th>Img</th>\n",
              "    </tr>\n",
              "  </thead>\n",
              "  <tbody>\n",
              "    <tr>\n",
              "      <th>0</th>\n",
              "      <td>235.799935</td>\n",
              "      <td>224.516030</td>\n",
              "      <td>190.873549</td>\n",
              "      <td>236.478202</td>\n",
              "      <td>225.354384</td>\n",
              "      <td>192.366332</td>\n",
              "      <td>22.539810</td>\n",
              "      <td>48.802938</td>\n",
              "      <td>235.882396</td>\n",
              "      <td>22.513975</td>\n",
              "      <td>47.750871</td>\n",
              "      <td>236.545338</td>\n",
              "      <td>A3.5</td>\n",
              "      <td>A1</td>\n",
              "      <td>Set1</td>\n",
              "      <td>2DD07CB7-0413-41D5-BE23-51CA3C9164F5.png</td>\n",
              "    </tr>\n",
              "    <tr>\n",
              "      <th>1</th>\n",
              "      <td>238.009577</td>\n",
              "      <td>218.146498</td>\n",
              "      <td>168.652788</td>\n",
              "      <td>238.456155</td>\n",
              "      <td>218.892397</td>\n",
              "      <td>169.966219</td>\n",
              "      <td>21.391040</td>\n",
              "      <td>74.313854</td>\n",
              "      <td>238.009577</td>\n",
              "      <td>21.449968</td>\n",
              "      <td>73.265842</td>\n",
              "      <td>238.456155</td>\n",
              "      <td>A3.5</td>\n",
              "      <td>A1</td>\n",
              "      <td>Set1</td>\n",
              "      <td>F28F074F-5B54-424C-8E70-EC56E06FC3E0.png</td>\n",
              "    </tr>\n",
              "    <tr>\n",
              "      <th>2</th>\n",
              "      <td>238.416687</td>\n",
              "      <td>212.713660</td>\n",
              "      <td>158.665693</td>\n",
              "      <td>239.056255</td>\n",
              "      <td>213.774056</td>\n",
              "      <td>160.482754</td>\n",
              "      <td>22.539810</td>\n",
              "      <td>48.802938</td>\n",
              "      <td>235.882396</td>\n",
              "      <td>22.513975</td>\n",
              "      <td>47.750871</td>\n",
              "      <td>236.545338</td>\n",
              "      <td>A3.5</td>\n",
              "      <td>A1</td>\n",
              "      <td>Set1</td>\n",
              "      <td>6ABA4B94-D8B3-48BA-B1FA-6B5A081F40D1.png</td>\n",
              "    </tr>\n",
              "    <tr>\n",
              "      <th>3</th>\n",
              "      <td>239.417986</td>\n",
              "      <td>227.436572</td>\n",
              "      <td>192.575603</td>\n",
              "      <td>239.889624</td>\n",
              "      <td>228.078444</td>\n",
              "      <td>193.459640</td>\n",
              "      <td>22.327571</td>\n",
              "      <td>49.921191</td>\n",
              "      <td>239.417986</td>\n",
              "      <td>22.373160</td>\n",
              "      <td>49.390157</td>\n",
              "      <td>239.889624</td>\n",
              "      <td>A3.5</td>\n",
              "      <td>A1</td>\n",
              "      <td>Set1</td>\n",
              "      <td>6B5870DF-9D32-4295-9D0E-F1DDA4ABD18F.png</td>\n",
              "    </tr>\n",
              "    <tr>\n",
              "      <th>4</th>\n",
              "      <td>239.556448</td>\n",
              "      <td>216.784027</td>\n",
              "      <td>161.199740</td>\n",
              "      <td>240.061944</td>\n",
              "      <td>217.745111</td>\n",
              "      <td>163.031079</td>\n",
              "      <td>21.443146</td>\n",
              "      <td>83.446474</td>\n",
              "      <td>239.556448</td>\n",
              "      <td>21.478060</td>\n",
              "      <td>81.900078</td>\n",
              "      <td>240.062229</td>\n",
              "      <td>A3.5</td>\n",
              "      <td>A1</td>\n",
              "      <td>Set1</td>\n",
              "      <td>9EBCADA0-A39C-4692-B684-A967FE6F59B5.png</td>\n",
              "    </tr>\n",
              "    <tr>\n",
              "      <th>...</th>\n",
              "      <td>...</td>\n",
              "      <td>...</td>\n",
              "      <td>...</td>\n",
              "      <td>...</td>\n",
              "      <td>...</td>\n",
              "      <td>...</td>\n",
              "      <td>...</td>\n",
              "      <td>...</td>\n",
              "      <td>...</td>\n",
              "      <td>...</td>\n",
              "      <td>...</td>\n",
              "      <td>...</td>\n",
              "      <td>...</td>\n",
              "      <td>...</td>\n",
              "      <td>...</td>\n",
              "      <td>...</td>\n",
              "    </tr>\n",
              "    <tr>\n",
              "      <th>3195</th>\n",
              "      <td>219.796364</td>\n",
              "      <td>220.248600</td>\n",
              "      <td>203.640370</td>\n",
              "      <td>219.211934</td>\n",
              "      <td>219.766731</td>\n",
              "      <td>203.270322</td>\n",
              "      <td>31.111598</td>\n",
              "      <td>19.560669</td>\n",
              "      <td>220.568055</td>\n",
              "      <td>31.312851</td>\n",
              "      <td>19.433184</td>\n",
              "      <td>220.052343</td>\n",
              "      <td>A3.5</td>\n",
              "      <td>D4</td>\n",
              "      <td>Set4</td>\n",
              "      <td>3367950A-D8A9-40C8-801E-72E22D395C34.png</td>\n",
              "    </tr>\n",
              "    <tr>\n",
              "      <th>3196</th>\n",
              "      <td>215.312718</td>\n",
              "      <td>216.245759</td>\n",
              "      <td>196.157455</td>\n",
              "      <td>214.860323</td>\n",
              "      <td>215.754498</td>\n",
              "      <td>195.762108</td>\n",
              "      <td>28.454590</td>\n",
              "      <td>52.051295</td>\n",
              "      <td>221.314991</td>\n",
              "      <td>28.269469</td>\n",
              "      <td>52.384325</td>\n",
              "      <td>220.852002</td>\n",
              "      <td>A3.5</td>\n",
              "      <td>D4</td>\n",
              "      <td>Set4</td>\n",
              "      <td>8BF2D842-EF44-47AB-AACC-56808B9B00FA.png</td>\n",
              "    </tr>\n",
              "    <tr>\n",
              "      <th>3197</th>\n",
              "      <td>215.690610</td>\n",
              "      <td>216.009902</td>\n",
              "      <td>196.406055</td>\n",
              "      <td>215.166773</td>\n",
              "      <td>215.486879</td>\n",
              "      <td>195.933291</td>\n",
              "      <td>30.849525</td>\n",
              "      <td>23.662609</td>\n",
              "      <td>216.485350</td>\n",
              "      <td>30.867293</td>\n",
              "      <td>23.636228</td>\n",
              "      <td>215.959036</td>\n",
              "      <td>A3.5</td>\n",
              "      <td>D4</td>\n",
              "      <td>Set4</td>\n",
              "      <td>B9FB43E3-E88F-4DC7-BED4-D118E33499A7.png</td>\n",
              "    </tr>\n",
              "    <tr>\n",
              "      <th>3198</th>\n",
              "      <td>213.749290</td>\n",
              "      <td>210.436328</td>\n",
              "      <td>181.714877</td>\n",
              "      <td>213.046725</td>\n",
              "      <td>209.822132</td>\n",
              "      <td>181.286679</td>\n",
              "      <td>26.683954</td>\n",
              "      <td>38.233260</td>\n",
              "      <td>213.749290</td>\n",
              "      <td>26.767157</td>\n",
              "      <td>38.010668</td>\n",
              "      <td>213.046725</td>\n",
              "      <td>A3.5</td>\n",
              "      <td>D4</td>\n",
              "      <td>Set4</td>\n",
              "      <td>F878BBCC-20A9-4948-A808-241864171B0C.png</td>\n",
              "    </tr>\n",
              "    <tr>\n",
              "      <th>3199</th>\n",
              "      <td>211.214674</td>\n",
              "      <td>204.185537</td>\n",
              "      <td>158.897330</td>\n",
              "      <td>210.905910</td>\n",
              "      <td>203.783372</td>\n",
              "      <td>158.707275</td>\n",
              "      <td>26.202337</td>\n",
              "      <td>63.120039</td>\n",
              "      <td>211.214674</td>\n",
              "      <td>26.147358</td>\n",
              "      <td>63.070194</td>\n",
              "      <td>210.905910</td>\n",
              "      <td>A3.5</td>\n",
              "      <td>D4</td>\n",
              "      <td>Set4</td>\n",
              "      <td>990B353E-3527-4CD2-975B-05FF3A87C10F.png</td>\n",
              "    </tr>\n",
              "  </tbody>\n",
              "</table>\n",
              "<p>3200 rows × 16 columns</p>\n",
              "</div>\n",
              "      <button class=\"colab-df-convert\" onclick=\"convertToInteractive('df-8dda52a4-759a-4c92-9e83-2d183ac7ba21')\"\n",
              "              title=\"Convert this dataframe to an interactive table.\"\n",
              "              style=\"display:none;\">\n",
              "        \n",
              "  <svg xmlns=\"http://www.w3.org/2000/svg\" height=\"24px\"viewBox=\"0 0 24 24\"\n",
              "       width=\"24px\">\n",
              "    <path d=\"M0 0h24v24H0V0z\" fill=\"none\"/>\n",
              "    <path d=\"M18.56 5.44l.94 2.06.94-2.06 2.06-.94-2.06-.94-.94-2.06-.94 2.06-2.06.94zm-11 1L8.5 8.5l.94-2.06 2.06-.94-2.06-.94L8.5 2.5l-.94 2.06-2.06.94zm10 10l.94 2.06.94-2.06 2.06-.94-2.06-.94-.94-2.06-.94 2.06-2.06.94z\"/><path d=\"M17.41 7.96l-1.37-1.37c-.4-.4-.92-.59-1.43-.59-.52 0-1.04.2-1.43.59L10.3 9.45l-7.72 7.72c-.78.78-.78 2.05 0 2.83L4 21.41c.39.39.9.59 1.41.59.51 0 1.02-.2 1.41-.59l7.78-7.78 2.81-2.81c.8-.78.8-2.07 0-2.86zM5.41 20L4 18.59l7.72-7.72 1.47 1.35L5.41 20z\"/>\n",
              "  </svg>\n",
              "      </button>\n",
              "      \n",
              "  <style>\n",
              "    .colab-df-container {\n",
              "      display:flex;\n",
              "      flex-wrap:wrap;\n",
              "      gap: 12px;\n",
              "    }\n",
              "\n",
              "    .colab-df-convert {\n",
              "      background-color: #E8F0FE;\n",
              "      border: none;\n",
              "      border-radius: 50%;\n",
              "      cursor: pointer;\n",
              "      display: none;\n",
              "      fill: #1967D2;\n",
              "      height: 32px;\n",
              "      padding: 0 0 0 0;\n",
              "      width: 32px;\n",
              "    }\n",
              "\n",
              "    .colab-df-convert:hover {\n",
              "      background-color: #E2EBFA;\n",
              "      box-shadow: 0px 1px 2px rgba(60, 64, 67, 0.3), 0px 1px 3px 1px rgba(60, 64, 67, 0.15);\n",
              "      fill: #174EA6;\n",
              "    }\n",
              "\n",
              "    [theme=dark] .colab-df-convert {\n",
              "      background-color: #3B4455;\n",
              "      fill: #D2E3FC;\n",
              "    }\n",
              "\n",
              "    [theme=dark] .colab-df-convert:hover {\n",
              "      background-color: #434B5C;\n",
              "      box-shadow: 0px 1px 3px 1px rgba(0, 0, 0, 0.15);\n",
              "      filter: drop-shadow(0px 1px 2px rgba(0, 0, 0, 0.3));\n",
              "      fill: #FFFFFF;\n",
              "    }\n",
              "  </style>\n",
              "\n",
              "      <script>\n",
              "        const buttonEl =\n",
              "          document.querySelector('#df-8dda52a4-759a-4c92-9e83-2d183ac7ba21 button.colab-df-convert');\n",
              "        buttonEl.style.display =\n",
              "          google.colab.kernel.accessAllowed ? 'block' : 'none';\n",
              "\n",
              "        async function convertToInteractive(key) {\n",
              "          const element = document.querySelector('#df-8dda52a4-759a-4c92-9e83-2d183ac7ba21');\n",
              "          const dataTable =\n",
              "            await google.colab.kernel.invokeFunction('convertToInteractive',\n",
              "                                                     [key], {});\n",
              "          if (!dataTable) return;\n",
              "\n",
              "          const docLinkHtml = 'Like what you see? Visit the ' +\n",
              "            '<a target=\"_blank\" href=https://colab.research.google.com/notebooks/data_table.ipynb>data table notebook</a>'\n",
              "            + ' to learn more about interactive tables.';\n",
              "          element.innerHTML = '';\n",
              "          dataTable['output_type'] = 'display_data';\n",
              "          await google.colab.output.renderOutput(dataTable, element);\n",
              "          const docLink = document.createElement('div');\n",
              "          docLink.innerHTML = docLinkHtml;\n",
              "          element.appendChild(docLink);\n",
              "        }\n",
              "      </script>\n",
              "    </div>\n",
              "  </div>\n",
              "  "
            ],
            "text/plain": [
              "           R-ref       G-ref  ...  Setting                                       Img\n",
              "0     235.799935  224.516030  ...     Set1  2DD07CB7-0413-41D5-BE23-51CA3C9164F5.png\n",
              "1     238.009577  218.146498  ...     Set1  F28F074F-5B54-424C-8E70-EC56E06FC3E0.png\n",
              "2     238.416687  212.713660  ...     Set1  6ABA4B94-D8B3-48BA-B1FA-6B5A081F40D1.png\n",
              "3     239.417986  227.436572  ...     Set1  6B5870DF-9D32-4295-9D0E-F1DDA4ABD18F.png\n",
              "4     239.556448  216.784027  ...     Set1  9EBCADA0-A39C-4692-B684-A967FE6F59B5.png\n",
              "...          ...         ...  ...      ...                                       ...\n",
              "3195  219.796364  220.248600  ...     Set4  3367950A-D8A9-40C8-801E-72E22D395C34.png\n",
              "3196  215.312718  216.245759  ...     Set4  8BF2D842-EF44-47AB-AACC-56808B9B00FA.png\n",
              "3197  215.690610  216.009902  ...     Set4  B9FB43E3-E88F-4DC7-BED4-D118E33499A7.png\n",
              "3198  213.749290  210.436328  ...     Set4  F878BBCC-20A9-4948-A808-241864171B0C.png\n",
              "3199  211.214674  204.185537  ...     Set4  990B353E-3527-4CD2-975B-05FF3A87C10F.png\n",
              "\n",
              "[3200 rows x 16 columns]"
            ]
          },
          "metadata": {},
          "execution_count": 44
        }
      ]
    },
    {
      "cell_type": "code",
      "source": [
        "RGB_A3_5 = table_A3_5.drop(['H-ref','S-ref','V-ref','S-Shad','V-Shad','Shade-ref','Setting','Img','Shade','H-Shad'], axis=1)"
      ],
      "metadata": {
        "id": "GsZxvoEQ1yn7"
      },
      "execution_count": 45,
      "outputs": []
    },
    {
      "cell_type": "code",
      "source": [
        "X_A3_5 = np.array(RGB_A3_5)"
      ],
      "metadata": {
        "id": "bFSEsVtV1yn8"
      },
      "execution_count": 46,
      "outputs": []
    },
    {
      "cell_type": "code",
      "source": [
        "y_A3_5 =  table_A3_5.iloc[:,13:14]"
      ],
      "metadata": {
        "id": "n5yWNCkM1yn8"
      },
      "execution_count": 47,
      "outputs": []
    },
    {
      "cell_type": "code",
      "source": [
        "y_A3_5 = np.array(y_A3_5)\n",
        "y_A3_5"
      ],
      "metadata": {
        "outputId": "de393aad-3b59-4a43-824f-e50d4f96b6fa",
        "colab": {
          "base_uri": "https://localhost:8080/"
        },
        "id": "6Pn0zTU11yn8"
      },
      "execution_count": 48,
      "outputs": [
        {
          "output_type": "execute_result",
          "data": {
            "text/plain": [
              "array([['A1'],\n",
              "       ['A1'],\n",
              "       ['A1'],\n",
              "       ...,\n",
              "       ['D4'],\n",
              "       ['D4'],\n",
              "       ['D4']], dtype=object)"
            ]
          },
          "metadata": {},
          "execution_count": 48
        }
      ]
    },
    {
      "cell_type": "code",
      "source": [
        "X_test_A3_5, X_train_A3_5 , y_test_A3_5, y_train_A3_5 = train_test_split(X_A3_5, y_A3_5 , test_size=80, train_size=320)"
      ],
      "metadata": {
        "id": "UqFJzu4QsLpl"
      },
      "execution_count": 49,
      "outputs": []
    },
    {
      "cell_type": "code",
      "source": [
        "clf.fit(X_train_A3_5, y_train_A3_5)"
      ],
      "metadata": {
        "outputId": "bb1c76a4-9c44-4546-f156-55ed7812849c",
        "colab": {
          "base_uri": "https://localhost:8080/"
        },
        "id": "sLJ0sXPQ1yn8"
      },
      "execution_count": 50,
      "outputs": [
        {
          "output_type": "stream",
          "name": "stderr",
          "text": [
            "/usr/local/lib/python3.7/dist-packages/sklearn/utils/validation.py:985: DataConversionWarning: A column-vector y was passed when a 1d array was expected. Please change the shape of y to (n_samples, ), for example using ravel().\n",
            "  y = column_or_1d(y, warn=True)\n"
          ]
        },
        {
          "output_type": "execute_result",
          "data": {
            "text/plain": [
              "SVC(kernel='poly')"
            ]
          },
          "metadata": {},
          "execution_count": 50
        }
      ]
    },
    {
      "cell_type": "code",
      "source": [
        "y_pred_A3_5 = clf.predict(X_test_A3_5)"
      ],
      "metadata": {
        "id": "w7wa7TIs1yn8"
      },
      "execution_count": 51,
      "outputs": []
    },
    {
      "cell_type": "code",
      "source": [
        "print(\"Accuracy:\", metrics.accuracy_score(y_test_A3_5, y_pred_A3_5))"
      ],
      "metadata": {
        "outputId": "6bd7421f-f78e-42a6-8e92-4fb69a86ec21",
        "colab": {
          "base_uri": "https://localhost:8080/"
        },
        "id": "PiAeVeS11yn9"
      },
      "execution_count": 52,
      "outputs": [
        {
          "output_type": "stream",
          "name": "stdout",
          "text": [
            "Accuracy: 0.109375\n"
          ]
        }
      ]
    },
    {
      "cell_type": "markdown",
      "source": [
        "##A4"
      ],
      "metadata": {
        "id": "hAg5m9KlzenB"
      }
    },
    {
      "cell_type": "code",
      "source": [
        "table_A4 = pd.read_excel(AA, sheet_name='A4')\n",
        "table_A4"
      ],
      "metadata": {
        "colab": {
          "base_uri": "https://localhost:8080/",
          "height": 0
        },
        "id": "lDKJJR9hzO0J",
        "outputId": "610e7212-4b00-4e67-85b0-8308b09f8b77"
      },
      "execution_count": 53,
      "outputs": [
        {
          "output_type": "execute_result",
          "data": {
            "text/html": [
              "\n",
              "  <div id=\"df-bb80d608-8864-4fb5-8f7d-0b0f130d1034\">\n",
              "    <div class=\"colab-df-container\">\n",
              "      <div>\n",
              "<style scoped>\n",
              "    .dataframe tbody tr th:only-of-type {\n",
              "        vertical-align: middle;\n",
              "    }\n",
              "\n",
              "    .dataframe tbody tr th {\n",
              "        vertical-align: top;\n",
              "    }\n",
              "\n",
              "    .dataframe thead th {\n",
              "        text-align: right;\n",
              "    }\n",
              "</style>\n",
              "<table border=\"1\" class=\"dataframe\">\n",
              "  <thead>\n",
              "    <tr style=\"text-align: right;\">\n",
              "      <th></th>\n",
              "      <th>R-ref</th>\n",
              "      <th>G-ref</th>\n",
              "      <th>B-ref</th>\n",
              "      <th>R-Shad</th>\n",
              "      <th>G-Shad</th>\n",
              "      <th>B-Shad</th>\n",
              "      <th>H-ref</th>\n",
              "      <th>S-ref</th>\n",
              "      <th>V-ref</th>\n",
              "      <th>H-Shad</th>\n",
              "      <th>S-Shad</th>\n",
              "      <th>V-Shad</th>\n",
              "      <th>Shade-ref</th>\n",
              "      <th>Shade</th>\n",
              "      <th>Setting</th>\n",
              "      <th>Img</th>\n",
              "    </tr>\n",
              "  </thead>\n",
              "  <tbody>\n",
              "    <tr>\n",
              "      <th>0</th>\n",
              "      <td>232.175960</td>\n",
              "      <td>216.874036</td>\n",
              "      <td>178.708465</td>\n",
              "      <td>232.964654</td>\n",
              "      <td>217.832160</td>\n",
              "      <td>180.185122</td>\n",
              "      <td>21.562292</td>\n",
              "      <td>58.762357</td>\n",
              "      <td>232.175960</td>\n",
              "      <td>21.513975</td>\n",
              "      <td>57.839201</td>\n",
              "      <td>232.964654</td>\n",
              "      <td>A4</td>\n",
              "      <td>A1</td>\n",
              "      <td>Set1</td>\n",
              "      <td>C6D0A6B4-EAD1-4C5F-9E6B-CE5E0923BCF0.png</td>\n",
              "    </tr>\n",
              "    <tr>\n",
              "      <th>1</th>\n",
              "      <td>231.726077</td>\n",
              "      <td>211.455077</td>\n",
              "      <td>167.223440</td>\n",
              "      <td>232.533177</td>\n",
              "      <td>212.551597</td>\n",
              "      <td>168.982505</td>\n",
              "      <td>20.556367</td>\n",
              "      <td>71.019641</td>\n",
              "      <td>231.726077</td>\n",
              "      <td>20.552237</td>\n",
              "      <td>69.773771</td>\n",
              "      <td>232.533177</td>\n",
              "      <td>A4</td>\n",
              "      <td>A1</td>\n",
              "      <td>Set1</td>\n",
              "      <td>A3B3B5C2-1901-4D2C-8309-010408F66705.png</td>\n",
              "    </tr>\n",
              "    <tr>\n",
              "      <th>2</th>\n",
              "      <td>226.100641</td>\n",
              "      <td>197.575278</td>\n",
              "      <td>146.748235</td>\n",
              "      <td>226.795889</td>\n",
              "      <td>198.548539</td>\n",
              "      <td>147.966148</td>\n",
              "      <td>19.189595</td>\n",
              "      <td>89.497849</td>\n",
              "      <td>226.100641</td>\n",
              "      <td>19.239457</td>\n",
              "      <td>88.650238</td>\n",
              "      <td>226.795889</td>\n",
              "      <td>A4</td>\n",
              "      <td>A1</td>\n",
              "      <td>Set1</td>\n",
              "      <td>4C428E15-84C8-4D96-BD24-DC9969741560.png</td>\n",
              "    </tr>\n",
              "    <tr>\n",
              "      <th>3</th>\n",
              "      <td>230.612531</td>\n",
              "      <td>207.562373</td>\n",
              "      <td>164.211752</td>\n",
              "      <td>231.210796</td>\n",
              "      <td>208.351682</td>\n",
              "      <td>165.428561</td>\n",
              "      <td>19.566594</td>\n",
              "      <td>73.461651</td>\n",
              "      <td>230.612531</td>\n",
              "      <td>19.550743</td>\n",
              "      <td>72.606500</td>\n",
              "      <td>231.210796</td>\n",
              "      <td>A4</td>\n",
              "      <td>A1</td>\n",
              "      <td>Set1</td>\n",
              "      <td>91F5B0B5-A4E2-4073-A924-AC7A2ECB236F.png</td>\n",
              "    </tr>\n",
              "    <tr>\n",
              "      <th>4</th>\n",
              "      <td>232.133431</td>\n",
              "      <td>209.823472</td>\n",
              "      <td>160.814707</td>\n",
              "      <td>232.841548</td>\n",
              "      <td>211.054264</td>\n",
              "      <td>163.067989</td>\n",
              "      <td>20.814463</td>\n",
              "      <td>78.373996</td>\n",
              "      <td>232.133431</td>\n",
              "      <td>20.855487</td>\n",
              "      <td>76.523434</td>\n",
              "      <td>232.841832</td>\n",
              "      <td>A4</td>\n",
              "      <td>A1</td>\n",
              "      <td>Set1</td>\n",
              "      <td>606F71D4-DD41-4252-B152-C019C53AE874.png</td>\n",
              "    </tr>\n",
              "    <tr>\n",
              "      <th>...</th>\n",
              "      <td>...</td>\n",
              "      <td>...</td>\n",
              "      <td>...</td>\n",
              "      <td>...</td>\n",
              "      <td>...</td>\n",
              "      <td>...</td>\n",
              "      <td>...</td>\n",
              "      <td>...</td>\n",
              "      <td>...</td>\n",
              "      <td>...</td>\n",
              "      <td>...</td>\n",
              "      <td>...</td>\n",
              "      <td>...</td>\n",
              "      <td>...</td>\n",
              "      <td>...</td>\n",
              "      <td>...</td>\n",
              "    </tr>\n",
              "    <tr>\n",
              "      <th>3195</th>\n",
              "      <td>232.804642</td>\n",
              "      <td>209.441604</td>\n",
              "      <td>164.924357</td>\n",
              "      <td>233.308869</td>\n",
              "      <td>210.109594</td>\n",
              "      <td>166.164853</td>\n",
              "      <td>19.601331</td>\n",
              "      <td>74.376755</td>\n",
              "      <td>232.804642</td>\n",
              "      <td>19.552094</td>\n",
              "      <td>73.433042</td>\n",
              "      <td>233.308869</td>\n",
              "      <td>A4</td>\n",
              "      <td>D4</td>\n",
              "      <td>Set4</td>\n",
              "      <td>CEA54866-3FAA-4D40-ACA2-5E40F032BBEC.png</td>\n",
              "    </tr>\n",
              "    <tr>\n",
              "      <th>3196</th>\n",
              "      <td>235.903985</td>\n",
              "      <td>218.940670</td>\n",
              "      <td>179.875741</td>\n",
              "      <td>236.487092</td>\n",
              "      <td>219.666951</td>\n",
              "      <td>181.014864</td>\n",
              "      <td>20.612775</td>\n",
              "      <td>78.169873</td>\n",
              "      <td>229.335768</td>\n",
              "      <td>20.589787</td>\n",
              "      <td>77.092810</td>\n",
              "      <td>229.914515</td>\n",
              "      <td>A4</td>\n",
              "      <td>D4</td>\n",
              "      <td>Set4</td>\n",
              "      <td>FC5C7CD0-F1BD-4517-AB6B-763F93652B15.png</td>\n",
              "    </tr>\n",
              "    <tr>\n",
              "      <th>3197</th>\n",
              "      <td>232.175960</td>\n",
              "      <td>216.874036</td>\n",
              "      <td>178.708465</td>\n",
              "      <td>232.964654</td>\n",
              "      <td>217.832160</td>\n",
              "      <td>180.185122</td>\n",
              "      <td>21.562292</td>\n",
              "      <td>58.762357</td>\n",
              "      <td>232.175960</td>\n",
              "      <td>21.513975</td>\n",
              "      <td>57.839201</td>\n",
              "      <td>232.964654</td>\n",
              "      <td>A4</td>\n",
              "      <td>D4</td>\n",
              "      <td>Set4</td>\n",
              "      <td>8CBEE509-A7E8-4E5C-86AA-496FABD350EC.png</td>\n",
              "    </tr>\n",
              "    <tr>\n",
              "      <th>3198</th>\n",
              "      <td>231.726077</td>\n",
              "      <td>211.455077</td>\n",
              "      <td>167.223440</td>\n",
              "      <td>232.533177</td>\n",
              "      <td>212.551597</td>\n",
              "      <td>168.982505</td>\n",
              "      <td>20.556367</td>\n",
              "      <td>71.019641</td>\n",
              "      <td>231.726077</td>\n",
              "      <td>20.552237</td>\n",
              "      <td>69.773771</td>\n",
              "      <td>232.533177</td>\n",
              "      <td>A4</td>\n",
              "      <td>D4</td>\n",
              "      <td>Set4</td>\n",
              "      <td>4A3A9795-2840-4478-8A47-89091756F7E2.png</td>\n",
              "    </tr>\n",
              "    <tr>\n",
              "      <th>3199</th>\n",
              "      <td>226.100641</td>\n",
              "      <td>197.575278</td>\n",
              "      <td>146.748235</td>\n",
              "      <td>226.795889</td>\n",
              "      <td>198.548539</td>\n",
              "      <td>147.966148</td>\n",
              "      <td>19.189595</td>\n",
              "      <td>89.497849</td>\n",
              "      <td>226.100641</td>\n",
              "      <td>19.239457</td>\n",
              "      <td>88.650238</td>\n",
              "      <td>226.795889</td>\n",
              "      <td>A4</td>\n",
              "      <td>D4</td>\n",
              "      <td>Set4</td>\n",
              "      <td>254E8DD4-F9A0-4BB8-A160-638EBD8EA693.png</td>\n",
              "    </tr>\n",
              "  </tbody>\n",
              "</table>\n",
              "<p>3200 rows × 16 columns</p>\n",
              "</div>\n",
              "      <button class=\"colab-df-convert\" onclick=\"convertToInteractive('df-bb80d608-8864-4fb5-8f7d-0b0f130d1034')\"\n",
              "              title=\"Convert this dataframe to an interactive table.\"\n",
              "              style=\"display:none;\">\n",
              "        \n",
              "  <svg xmlns=\"http://www.w3.org/2000/svg\" height=\"24px\"viewBox=\"0 0 24 24\"\n",
              "       width=\"24px\">\n",
              "    <path d=\"M0 0h24v24H0V0z\" fill=\"none\"/>\n",
              "    <path d=\"M18.56 5.44l.94 2.06.94-2.06 2.06-.94-2.06-.94-.94-2.06-.94 2.06-2.06.94zm-11 1L8.5 8.5l.94-2.06 2.06-.94-2.06-.94L8.5 2.5l-.94 2.06-2.06.94zm10 10l.94 2.06.94-2.06 2.06-.94-2.06-.94-.94-2.06-.94 2.06-2.06.94z\"/><path d=\"M17.41 7.96l-1.37-1.37c-.4-.4-.92-.59-1.43-.59-.52 0-1.04.2-1.43.59L10.3 9.45l-7.72 7.72c-.78.78-.78 2.05 0 2.83L4 21.41c.39.39.9.59 1.41.59.51 0 1.02-.2 1.41-.59l7.78-7.78 2.81-2.81c.8-.78.8-2.07 0-2.86zM5.41 20L4 18.59l7.72-7.72 1.47 1.35L5.41 20z\"/>\n",
              "  </svg>\n",
              "      </button>\n",
              "      \n",
              "  <style>\n",
              "    .colab-df-container {\n",
              "      display:flex;\n",
              "      flex-wrap:wrap;\n",
              "      gap: 12px;\n",
              "    }\n",
              "\n",
              "    .colab-df-convert {\n",
              "      background-color: #E8F0FE;\n",
              "      border: none;\n",
              "      border-radius: 50%;\n",
              "      cursor: pointer;\n",
              "      display: none;\n",
              "      fill: #1967D2;\n",
              "      height: 32px;\n",
              "      padding: 0 0 0 0;\n",
              "      width: 32px;\n",
              "    }\n",
              "\n",
              "    .colab-df-convert:hover {\n",
              "      background-color: #E2EBFA;\n",
              "      box-shadow: 0px 1px 2px rgba(60, 64, 67, 0.3), 0px 1px 3px 1px rgba(60, 64, 67, 0.15);\n",
              "      fill: #174EA6;\n",
              "    }\n",
              "\n",
              "    [theme=dark] .colab-df-convert {\n",
              "      background-color: #3B4455;\n",
              "      fill: #D2E3FC;\n",
              "    }\n",
              "\n",
              "    [theme=dark] .colab-df-convert:hover {\n",
              "      background-color: #434B5C;\n",
              "      box-shadow: 0px 1px 3px 1px rgba(0, 0, 0, 0.15);\n",
              "      filter: drop-shadow(0px 1px 2px rgba(0, 0, 0, 0.3));\n",
              "      fill: #FFFFFF;\n",
              "    }\n",
              "  </style>\n",
              "\n",
              "      <script>\n",
              "        const buttonEl =\n",
              "          document.querySelector('#df-bb80d608-8864-4fb5-8f7d-0b0f130d1034 button.colab-df-convert');\n",
              "        buttonEl.style.display =\n",
              "          google.colab.kernel.accessAllowed ? 'block' : 'none';\n",
              "\n",
              "        async function convertToInteractive(key) {\n",
              "          const element = document.querySelector('#df-bb80d608-8864-4fb5-8f7d-0b0f130d1034');\n",
              "          const dataTable =\n",
              "            await google.colab.kernel.invokeFunction('convertToInteractive',\n",
              "                                                     [key], {});\n",
              "          if (!dataTable) return;\n",
              "\n",
              "          const docLinkHtml = 'Like what you see? Visit the ' +\n",
              "            '<a target=\"_blank\" href=https://colab.research.google.com/notebooks/data_table.ipynb>data table notebook</a>'\n",
              "            + ' to learn more about interactive tables.';\n",
              "          element.innerHTML = '';\n",
              "          dataTable['output_type'] = 'display_data';\n",
              "          await google.colab.output.renderOutput(dataTable, element);\n",
              "          const docLink = document.createElement('div');\n",
              "          docLink.innerHTML = docLinkHtml;\n",
              "          element.appendChild(docLink);\n",
              "        }\n",
              "      </script>\n",
              "    </div>\n",
              "  </div>\n",
              "  "
            ],
            "text/plain": [
              "           R-ref       G-ref  ...  Setting                                       Img\n",
              "0     232.175960  216.874036  ...     Set1  C6D0A6B4-EAD1-4C5F-9E6B-CE5E0923BCF0.png\n",
              "1     231.726077  211.455077  ...     Set1  A3B3B5C2-1901-4D2C-8309-010408F66705.png\n",
              "2     226.100641  197.575278  ...     Set1  4C428E15-84C8-4D96-BD24-DC9969741560.png\n",
              "3     230.612531  207.562373  ...     Set1  91F5B0B5-A4E2-4073-A924-AC7A2ECB236F.png\n",
              "4     232.133431  209.823472  ...     Set1  606F71D4-DD41-4252-B152-C019C53AE874.png\n",
              "...          ...         ...  ...      ...                                       ...\n",
              "3195  232.804642  209.441604  ...     Set4  CEA54866-3FAA-4D40-ACA2-5E40F032BBEC.png\n",
              "3196  235.903985  218.940670  ...     Set4  FC5C7CD0-F1BD-4517-AB6B-763F93652B15.png\n",
              "3197  232.175960  216.874036  ...     Set4  8CBEE509-A7E8-4E5C-86AA-496FABD350EC.png\n",
              "3198  231.726077  211.455077  ...     Set4  4A3A9795-2840-4478-8A47-89091756F7E2.png\n",
              "3199  226.100641  197.575278  ...     Set4  254E8DD4-F9A0-4BB8-A160-638EBD8EA693.png\n",
              "\n",
              "[3200 rows x 16 columns]"
            ]
          },
          "metadata": {},
          "execution_count": 53
        }
      ]
    },
    {
      "cell_type": "code",
      "source": [
        "RGB_A4 = table_A4.drop(['H-ref','S-ref','V-ref','S-Shad','V-Shad','Shade-ref','Setting','Img','Shade','H-Shad'], axis=1)"
      ],
      "metadata": {
        "id": "0fsV4IEy2G7t"
      },
      "execution_count": 54,
      "outputs": []
    },
    {
      "cell_type": "code",
      "source": [
        "X_A4 = np.array(RGB_A4)"
      ],
      "metadata": {
        "id": "8f7JmYAq2G7t"
      },
      "execution_count": 55,
      "outputs": []
    },
    {
      "cell_type": "code",
      "source": [
        "y_A4 =  table_A4.iloc[:,13:14]"
      ],
      "metadata": {
        "id": "iGBgmW0W2G7t"
      },
      "execution_count": 56,
      "outputs": []
    },
    {
      "cell_type": "code",
      "source": [
        "y_A4 = np.array(y_A4)\n",
        "y_A4"
      ],
      "metadata": {
        "outputId": "fe863cf7-6f34-4c13-f127-08c88f279ead",
        "colab": {
          "base_uri": "https://localhost:8080/"
        },
        "id": "f_KwRRSI2G7t"
      },
      "execution_count": 57,
      "outputs": [
        {
          "output_type": "execute_result",
          "data": {
            "text/plain": [
              "array([['A1'],\n",
              "       ['A1'],\n",
              "       ['A1'],\n",
              "       ...,\n",
              "       ['D4'],\n",
              "       ['D4'],\n",
              "       ['D4']], dtype=object)"
            ]
          },
          "metadata": {},
          "execution_count": 57
        }
      ]
    },
    {
      "cell_type": "code",
      "source": [
        "X_test_A4, X_train_A4 , y_test_A4, y_train_A4 = train_test_split(X_A4, y_A4, test_size=80, train_size=320)"
      ],
      "metadata": {
        "id": "RTaSDG0FsSNE"
      },
      "execution_count": 58,
      "outputs": []
    },
    {
      "cell_type": "code",
      "source": [
        "clf.fit(X_train_A4, y_train_A4)"
      ],
      "metadata": {
        "outputId": "d03b5bff-ce18-42df-85f3-a1ce4b8367c5",
        "colab": {
          "base_uri": "https://localhost:8080/"
        },
        "id": "xaMWnXIj2G7t"
      },
      "execution_count": 59,
      "outputs": [
        {
          "output_type": "stream",
          "name": "stderr",
          "text": [
            "/usr/local/lib/python3.7/dist-packages/sklearn/utils/validation.py:985: DataConversionWarning: A column-vector y was passed when a 1d array was expected. Please change the shape of y to (n_samples, ), for example using ravel().\n",
            "  y = column_or_1d(y, warn=True)\n"
          ]
        },
        {
          "output_type": "execute_result",
          "data": {
            "text/plain": [
              "SVC(kernel='poly')"
            ]
          },
          "metadata": {},
          "execution_count": 59
        }
      ]
    },
    {
      "cell_type": "code",
      "source": [
        "y_pred_A4 = clf.predict(X_test_A4)"
      ],
      "metadata": {
        "id": "ibvUylde2G7t"
      },
      "execution_count": 60,
      "outputs": []
    },
    {
      "cell_type": "code",
      "source": [
        "print(\"Accuracy:\", metrics.accuracy_score(y_test_A4, y_pred_A4))"
      ],
      "metadata": {
        "outputId": "cfa0ddd2-dfbc-4aef-be66-a99aeb94da0e",
        "colab": {
          "base_uri": "https://localhost:8080/"
        },
        "id": "n4gmZ65i2G7u"
      },
      "execution_count": 61,
      "outputs": [
        {
          "output_type": "stream",
          "name": "stdout",
          "text": [
            "Accuracy: 0.196875\n"
          ]
        }
      ]
    },
    {
      "cell_type": "markdown",
      "source": [
        "#BB"
      ],
      "metadata": {
        "id": "d8AFPynMglXO"
      }
    },
    {
      "cell_type": "markdown",
      "source": [
        "##B1"
      ],
      "metadata": {
        "id": "78zKBQr4glXP"
      }
    },
    {
      "cell_type": "code",
      "source": [
        "table_B1= pd.read_excel(BB, sheet_name='B1')\n",
        "table_B1"
      ],
      "metadata": {
        "colab": {
          "base_uri": "https://localhost:8080/",
          "height": 0
        },
        "outputId": "f38ead15-7522-46fb-d00a-6a6bb596bd1d",
        "id": "AMyuR5NTglXP"
      },
      "execution_count": 62,
      "outputs": [
        {
          "output_type": "execute_result",
          "data": {
            "text/html": [
              "\n",
              "  <div id=\"df-81426ce7-a900-4a0c-8889-77d28747848d\">\n",
              "    <div class=\"colab-df-container\">\n",
              "      <div>\n",
              "<style scoped>\n",
              "    .dataframe tbody tr th:only-of-type {\n",
              "        vertical-align: middle;\n",
              "    }\n",
              "\n",
              "    .dataframe tbody tr th {\n",
              "        vertical-align: top;\n",
              "    }\n",
              "\n",
              "    .dataframe thead th {\n",
              "        text-align: right;\n",
              "    }\n",
              "</style>\n",
              "<table border=\"1\" class=\"dataframe\">\n",
              "  <thead>\n",
              "    <tr style=\"text-align: right;\">\n",
              "      <th></th>\n",
              "      <th>R-ref</th>\n",
              "      <th>G-ref</th>\n",
              "      <th>B-ref</th>\n",
              "      <th>R-Shad</th>\n",
              "      <th>G-Shad</th>\n",
              "      <th>B-Shad</th>\n",
              "      <th>H-ref</th>\n",
              "      <th>S-ref</th>\n",
              "      <th>V-ref</th>\n",
              "      <th>H-Shad</th>\n",
              "      <th>S-Shad</th>\n",
              "      <th>V-Shad</th>\n",
              "      <th>Shade-ref</th>\n",
              "      <th>Shade</th>\n",
              "      <th>Setting</th>\n",
              "      <th>Img</th>\n",
              "    </tr>\n",
              "  </thead>\n",
              "  <tbody>\n",
              "    <tr>\n",
              "      <th>0</th>\n",
              "      <td>235.799935</td>\n",
              "      <td>224.516030</td>\n",
              "      <td>190.873549</td>\n",
              "      <td>236.478202</td>\n",
              "      <td>225.354384</td>\n",
              "      <td>192.366332</td>\n",
              "      <td>22.539810</td>\n",
              "      <td>48.802938</td>\n",
              "      <td>235.882396</td>\n",
              "      <td>22.513975</td>\n",
              "      <td>47.750871</td>\n",
              "      <td>236.545338</td>\n",
              "      <td>B1</td>\n",
              "      <td>A1</td>\n",
              "      <td>Set1</td>\n",
              "      <td>1CE4FFAC-5C8A-4C04-8A57-7BB28F25302D.png</td>\n",
              "    </tr>\n",
              "    <tr>\n",
              "      <th>1</th>\n",
              "      <td>238.009577</td>\n",
              "      <td>218.146498</td>\n",
              "      <td>168.652788</td>\n",
              "      <td>238.456155</td>\n",
              "      <td>218.892397</td>\n",
              "      <td>169.966219</td>\n",
              "      <td>21.391040</td>\n",
              "      <td>74.313854</td>\n",
              "      <td>238.009577</td>\n",
              "      <td>21.449968</td>\n",
              "      <td>73.265842</td>\n",
              "      <td>238.456155</td>\n",
              "      <td>B1</td>\n",
              "      <td>A1</td>\n",
              "      <td>Set1</td>\n",
              "      <td>67F8EDAB-A9C7-4B91-B07B-BFADEE915B61.png</td>\n",
              "    </tr>\n",
              "    <tr>\n",
              "      <th>2</th>\n",
              "      <td>238.416687</td>\n",
              "      <td>212.713660</td>\n",
              "      <td>158.665693</td>\n",
              "      <td>239.056255</td>\n",
              "      <td>213.774056</td>\n",
              "      <td>160.482754</td>\n",
              "      <td>22.539810</td>\n",
              "      <td>48.802938</td>\n",
              "      <td>235.882396</td>\n",
              "      <td>22.513975</td>\n",
              "      <td>47.750871</td>\n",
              "      <td>236.545338</td>\n",
              "      <td>B1</td>\n",
              "      <td>A1</td>\n",
              "      <td>Set1</td>\n",
              "      <td>935ACCF9-A4D6-4CB3-A437-6333758D46CD.png</td>\n",
              "    </tr>\n",
              "    <tr>\n",
              "      <th>3</th>\n",
              "      <td>239.417986</td>\n",
              "      <td>227.436572</td>\n",
              "      <td>192.575603</td>\n",
              "      <td>239.889624</td>\n",
              "      <td>228.078444</td>\n",
              "      <td>193.459640</td>\n",
              "      <td>22.327571</td>\n",
              "      <td>49.921191</td>\n",
              "      <td>239.417986</td>\n",
              "      <td>22.373160</td>\n",
              "      <td>49.390157</td>\n",
              "      <td>239.889624</td>\n",
              "      <td>B1</td>\n",
              "      <td>A1</td>\n",
              "      <td>Set1</td>\n",
              "      <td>C7A49040-51EF-4045-9394-5E8F4A17B8A2.png</td>\n",
              "    </tr>\n",
              "    <tr>\n",
              "      <th>4</th>\n",
              "      <td>239.556448</td>\n",
              "      <td>216.784027</td>\n",
              "      <td>161.199740</td>\n",
              "      <td>240.061944</td>\n",
              "      <td>217.745111</td>\n",
              "      <td>163.031079</td>\n",
              "      <td>21.443146</td>\n",
              "      <td>83.446474</td>\n",
              "      <td>239.556448</td>\n",
              "      <td>21.478060</td>\n",
              "      <td>81.900078</td>\n",
              "      <td>240.062229</td>\n",
              "      <td>B1</td>\n",
              "      <td>A1</td>\n",
              "      <td>Set1</td>\n",
              "      <td>EFCB2FF8-FACF-4778-946B-4DFEC0F8EB5D.png</td>\n",
              "    </tr>\n",
              "    <tr>\n",
              "      <th>...</th>\n",
              "      <td>...</td>\n",
              "      <td>...</td>\n",
              "      <td>...</td>\n",
              "      <td>...</td>\n",
              "      <td>...</td>\n",
              "      <td>...</td>\n",
              "      <td>...</td>\n",
              "      <td>...</td>\n",
              "      <td>...</td>\n",
              "      <td>...</td>\n",
              "      <td>...</td>\n",
              "      <td>...</td>\n",
              "      <td>...</td>\n",
              "      <td>...</td>\n",
              "      <td>...</td>\n",
              "      <td>...</td>\n",
              "    </tr>\n",
              "    <tr>\n",
              "      <th>3195</th>\n",
              "      <td>219.796364</td>\n",
              "      <td>220.248600</td>\n",
              "      <td>203.640370</td>\n",
              "      <td>219.211934</td>\n",
              "      <td>219.766731</td>\n",
              "      <td>203.270322</td>\n",
              "      <td>31.111598</td>\n",
              "      <td>19.560669</td>\n",
              "      <td>220.568055</td>\n",
              "      <td>31.312851</td>\n",
              "      <td>19.433184</td>\n",
              "      <td>220.052343</td>\n",
              "      <td>B1</td>\n",
              "      <td>D4</td>\n",
              "      <td>Set4</td>\n",
              "      <td>74703385-5AA7-490D-B51D-AFC0FB7A986C.png</td>\n",
              "    </tr>\n",
              "    <tr>\n",
              "      <th>3196</th>\n",
              "      <td>215.312718</td>\n",
              "      <td>216.245759</td>\n",
              "      <td>196.157455</td>\n",
              "      <td>214.860323</td>\n",
              "      <td>215.754498</td>\n",
              "      <td>195.762108</td>\n",
              "      <td>28.454590</td>\n",
              "      <td>52.051295</td>\n",
              "      <td>221.314991</td>\n",
              "      <td>28.269469</td>\n",
              "      <td>52.384325</td>\n",
              "      <td>220.852002</td>\n",
              "      <td>B1</td>\n",
              "      <td>D4</td>\n",
              "      <td>Set4</td>\n",
              "      <td>3A448ACD-EAB0-4285-AF50-6A6B22782A93.png</td>\n",
              "    </tr>\n",
              "    <tr>\n",
              "      <th>3197</th>\n",
              "      <td>215.690610</td>\n",
              "      <td>216.009902</td>\n",
              "      <td>196.406055</td>\n",
              "      <td>215.166773</td>\n",
              "      <td>215.486879</td>\n",
              "      <td>195.933291</td>\n",
              "      <td>30.849525</td>\n",
              "      <td>23.662609</td>\n",
              "      <td>216.485350</td>\n",
              "      <td>30.867293</td>\n",
              "      <td>23.636228</td>\n",
              "      <td>215.959036</td>\n",
              "      <td>B1</td>\n",
              "      <td>D4</td>\n",
              "      <td>Set4</td>\n",
              "      <td>11372242-96D9-4D23-BC32-C0E8379737A6.png</td>\n",
              "    </tr>\n",
              "    <tr>\n",
              "      <th>3198</th>\n",
              "      <td>213.749290</td>\n",
              "      <td>210.436328</td>\n",
              "      <td>181.714877</td>\n",
              "      <td>213.046725</td>\n",
              "      <td>209.822132</td>\n",
              "      <td>181.286679</td>\n",
              "      <td>26.683954</td>\n",
              "      <td>38.233260</td>\n",
              "      <td>213.749290</td>\n",
              "      <td>26.767157</td>\n",
              "      <td>38.010668</td>\n",
              "      <td>213.046725</td>\n",
              "      <td>B1</td>\n",
              "      <td>D4</td>\n",
              "      <td>Set4</td>\n",
              "      <td>9F910090-FA0A-42A5-86BE-4AEBA5175FC0.png</td>\n",
              "    </tr>\n",
              "    <tr>\n",
              "      <th>3199</th>\n",
              "      <td>211.214674</td>\n",
              "      <td>204.185537</td>\n",
              "      <td>158.897330</td>\n",
              "      <td>210.905910</td>\n",
              "      <td>203.783372</td>\n",
              "      <td>158.707275</td>\n",
              "      <td>26.202337</td>\n",
              "      <td>63.120039</td>\n",
              "      <td>211.214674</td>\n",
              "      <td>26.147358</td>\n",
              "      <td>63.070194</td>\n",
              "      <td>210.905910</td>\n",
              "      <td>B1</td>\n",
              "      <td>D4</td>\n",
              "      <td>Set4</td>\n",
              "      <td>F3A7B984-E4F8-4BF3-BDA6-81CF31EE6D7D.png</td>\n",
              "    </tr>\n",
              "  </tbody>\n",
              "</table>\n",
              "<p>3200 rows × 16 columns</p>\n",
              "</div>\n",
              "      <button class=\"colab-df-convert\" onclick=\"convertToInteractive('df-81426ce7-a900-4a0c-8889-77d28747848d')\"\n",
              "              title=\"Convert this dataframe to an interactive table.\"\n",
              "              style=\"display:none;\">\n",
              "        \n",
              "  <svg xmlns=\"http://www.w3.org/2000/svg\" height=\"24px\"viewBox=\"0 0 24 24\"\n",
              "       width=\"24px\">\n",
              "    <path d=\"M0 0h24v24H0V0z\" fill=\"none\"/>\n",
              "    <path d=\"M18.56 5.44l.94 2.06.94-2.06 2.06-.94-2.06-.94-.94-2.06-.94 2.06-2.06.94zm-11 1L8.5 8.5l.94-2.06 2.06-.94-2.06-.94L8.5 2.5l-.94 2.06-2.06.94zm10 10l.94 2.06.94-2.06 2.06-.94-2.06-.94-.94-2.06-.94 2.06-2.06.94z\"/><path d=\"M17.41 7.96l-1.37-1.37c-.4-.4-.92-.59-1.43-.59-.52 0-1.04.2-1.43.59L10.3 9.45l-7.72 7.72c-.78.78-.78 2.05 0 2.83L4 21.41c.39.39.9.59 1.41.59.51 0 1.02-.2 1.41-.59l7.78-7.78 2.81-2.81c.8-.78.8-2.07 0-2.86zM5.41 20L4 18.59l7.72-7.72 1.47 1.35L5.41 20z\"/>\n",
              "  </svg>\n",
              "      </button>\n",
              "      \n",
              "  <style>\n",
              "    .colab-df-container {\n",
              "      display:flex;\n",
              "      flex-wrap:wrap;\n",
              "      gap: 12px;\n",
              "    }\n",
              "\n",
              "    .colab-df-convert {\n",
              "      background-color: #E8F0FE;\n",
              "      border: none;\n",
              "      border-radius: 50%;\n",
              "      cursor: pointer;\n",
              "      display: none;\n",
              "      fill: #1967D2;\n",
              "      height: 32px;\n",
              "      padding: 0 0 0 0;\n",
              "      width: 32px;\n",
              "    }\n",
              "\n",
              "    .colab-df-convert:hover {\n",
              "      background-color: #E2EBFA;\n",
              "      box-shadow: 0px 1px 2px rgba(60, 64, 67, 0.3), 0px 1px 3px 1px rgba(60, 64, 67, 0.15);\n",
              "      fill: #174EA6;\n",
              "    }\n",
              "\n",
              "    [theme=dark] .colab-df-convert {\n",
              "      background-color: #3B4455;\n",
              "      fill: #D2E3FC;\n",
              "    }\n",
              "\n",
              "    [theme=dark] .colab-df-convert:hover {\n",
              "      background-color: #434B5C;\n",
              "      box-shadow: 0px 1px 3px 1px rgba(0, 0, 0, 0.15);\n",
              "      filter: drop-shadow(0px 1px 2px rgba(0, 0, 0, 0.3));\n",
              "      fill: #FFFFFF;\n",
              "    }\n",
              "  </style>\n",
              "\n",
              "      <script>\n",
              "        const buttonEl =\n",
              "          document.querySelector('#df-81426ce7-a900-4a0c-8889-77d28747848d button.colab-df-convert');\n",
              "        buttonEl.style.display =\n",
              "          google.colab.kernel.accessAllowed ? 'block' : 'none';\n",
              "\n",
              "        async function convertToInteractive(key) {\n",
              "          const element = document.querySelector('#df-81426ce7-a900-4a0c-8889-77d28747848d');\n",
              "          const dataTable =\n",
              "            await google.colab.kernel.invokeFunction('convertToInteractive',\n",
              "                                                     [key], {});\n",
              "          if (!dataTable) return;\n",
              "\n",
              "          const docLinkHtml = 'Like what you see? Visit the ' +\n",
              "            '<a target=\"_blank\" href=https://colab.research.google.com/notebooks/data_table.ipynb>data table notebook</a>'\n",
              "            + ' to learn more about interactive tables.';\n",
              "          element.innerHTML = '';\n",
              "          dataTable['output_type'] = 'display_data';\n",
              "          await google.colab.output.renderOutput(dataTable, element);\n",
              "          const docLink = document.createElement('div');\n",
              "          docLink.innerHTML = docLinkHtml;\n",
              "          element.appendChild(docLink);\n",
              "        }\n",
              "      </script>\n",
              "    </div>\n",
              "  </div>\n",
              "  "
            ],
            "text/plain": [
              "           R-ref       G-ref  ...  Setting                                       Img\n",
              "0     235.799935  224.516030  ...     Set1  1CE4FFAC-5C8A-4C04-8A57-7BB28F25302D.png\n",
              "1     238.009577  218.146498  ...     Set1  67F8EDAB-A9C7-4B91-B07B-BFADEE915B61.png\n",
              "2     238.416687  212.713660  ...     Set1  935ACCF9-A4D6-4CB3-A437-6333758D46CD.png\n",
              "3     239.417986  227.436572  ...     Set1  C7A49040-51EF-4045-9394-5E8F4A17B8A2.png\n",
              "4     239.556448  216.784027  ...     Set1  EFCB2FF8-FACF-4778-946B-4DFEC0F8EB5D.png\n",
              "...          ...         ...  ...      ...                                       ...\n",
              "3195  219.796364  220.248600  ...     Set4  74703385-5AA7-490D-B51D-AFC0FB7A986C.png\n",
              "3196  215.312718  216.245759  ...     Set4  3A448ACD-EAB0-4285-AF50-6A6B22782A93.png\n",
              "3197  215.690610  216.009902  ...     Set4  11372242-96D9-4D23-BC32-C0E8379737A6.png\n",
              "3198  213.749290  210.436328  ...     Set4  9F910090-FA0A-42A5-86BE-4AEBA5175FC0.png\n",
              "3199  211.214674  204.185537  ...     Set4  F3A7B984-E4F8-4BF3-BDA6-81CF31EE6D7D.png\n",
              "\n",
              "[3200 rows x 16 columns]"
            ]
          },
          "metadata": {},
          "execution_count": 62
        }
      ]
    },
    {
      "cell_type": "code",
      "source": [
        "RGB_B1 = table_B1.drop(['H-ref','S-ref','V-ref','S-Shad','V-Shad','Shade-ref','Setting','Img','Shade','H-Shad'], axis=1)"
      ],
      "metadata": {
        "id": "sjtNsyyiglXP"
      },
      "execution_count": 63,
      "outputs": []
    },
    {
      "cell_type": "code",
      "source": [
        "X_B1 = np.array(RGB_B1)"
      ],
      "metadata": {
        "id": "nrEaK_0sglXQ"
      },
      "execution_count": 64,
      "outputs": []
    },
    {
      "cell_type": "code",
      "source": [
        "y_B1 =  table_B1.iloc[:,13:14]"
      ],
      "metadata": {
        "id": "IPhi3MzcglXQ"
      },
      "execution_count": 65,
      "outputs": []
    },
    {
      "cell_type": "code",
      "source": [
        "y_B1 = np.array(y_B1)\n",
        "y_B1"
      ],
      "metadata": {
        "outputId": "986a847b-e29b-4959-ef05-43703443a950",
        "colab": {
          "base_uri": "https://localhost:8080/"
        },
        "id": "8p_WWT9kglXQ"
      },
      "execution_count": 66,
      "outputs": [
        {
          "output_type": "execute_result",
          "data": {
            "text/plain": [
              "array([['A1'],\n",
              "       ['A1'],\n",
              "       ['A1'],\n",
              "       ...,\n",
              "       ['D4'],\n",
              "       ['D4'],\n",
              "       ['D4']], dtype=object)"
            ]
          },
          "metadata": {},
          "execution_count": 66
        }
      ]
    },
    {
      "cell_type": "code",
      "source": [
        "X_test_B1, X_train_B1 , y_test_B1, y_train_B1 = train_test_split(X_B1, y_B1, test_size=80, train_size=320)"
      ],
      "metadata": {
        "id": "jjLWEwWKsaKI"
      },
      "execution_count": 67,
      "outputs": []
    },
    {
      "cell_type": "code",
      "source": [
        "clf.fit(X_train_B1, y_train_B1)"
      ],
      "metadata": {
        "outputId": "009cde55-7f8a-4b50-bef4-c4a773081c69",
        "colab": {
          "base_uri": "https://localhost:8080/"
        },
        "id": "Zy5KrKcbglXR"
      },
      "execution_count": 68,
      "outputs": [
        {
          "output_type": "stream",
          "name": "stderr",
          "text": [
            "/usr/local/lib/python3.7/dist-packages/sklearn/utils/validation.py:985: DataConversionWarning: A column-vector y was passed when a 1d array was expected. Please change the shape of y to (n_samples, ), for example using ravel().\n",
            "  y = column_or_1d(y, warn=True)\n"
          ]
        },
        {
          "output_type": "execute_result",
          "data": {
            "text/plain": [
              "SVC(kernel='poly')"
            ]
          },
          "metadata": {},
          "execution_count": 68
        }
      ]
    },
    {
      "cell_type": "code",
      "source": [
        "y_pred_B1 = clf.predict(X_test_B1)"
      ],
      "metadata": {
        "id": "NApeKfqIglXR"
      },
      "execution_count": 69,
      "outputs": []
    },
    {
      "cell_type": "code",
      "source": [
        "print(\"Accuracy:\", metrics.accuracy_score(y_test_B1, y_pred_B1))"
      ],
      "metadata": {
        "outputId": "fff0638e-c778-4ab0-ec0d-bd2c4142c299",
        "colab": {
          "base_uri": "https://localhost:8080/"
        },
        "id": "zQWxEuo5glXR"
      },
      "execution_count": 70,
      "outputs": [
        {
          "output_type": "stream",
          "name": "stdout",
          "text": [
            "Accuracy: 0.0875\n"
          ]
        }
      ]
    },
    {
      "cell_type": "markdown",
      "source": [
        "##B2"
      ],
      "metadata": {
        "id": "1KAw4tpLglXS"
      }
    },
    {
      "cell_type": "code",
      "source": [
        "table_B2= pd.read_excel(BB, sheet_name='B2')\n",
        "table_B2"
      ],
      "metadata": {
        "colab": {
          "base_uri": "https://localhost:8080/",
          "height": 0
        },
        "outputId": "79b39b3d-8567-439e-c968-59d0d7d7ec29",
        "id": "oJlE3BZtglXS"
      },
      "execution_count": 71,
      "outputs": [
        {
          "output_type": "execute_result",
          "data": {
            "text/html": [
              "\n",
              "  <div id=\"df-4f4de7a2-7370-4342-99c2-9a689aee2c76\">\n",
              "    <div class=\"colab-df-container\">\n",
              "      <div>\n",
              "<style scoped>\n",
              "    .dataframe tbody tr th:only-of-type {\n",
              "        vertical-align: middle;\n",
              "    }\n",
              "\n",
              "    .dataframe tbody tr th {\n",
              "        vertical-align: top;\n",
              "    }\n",
              "\n",
              "    .dataframe thead th {\n",
              "        text-align: right;\n",
              "    }\n",
              "</style>\n",
              "<table border=\"1\" class=\"dataframe\">\n",
              "  <thead>\n",
              "    <tr style=\"text-align: right;\">\n",
              "      <th></th>\n",
              "      <th>R-ref</th>\n",
              "      <th>G-ref</th>\n",
              "      <th>B-ref</th>\n",
              "      <th>R-Shad</th>\n",
              "      <th>G-Shad</th>\n",
              "      <th>B-Shad</th>\n",
              "      <th>H-ref</th>\n",
              "      <th>S-ref</th>\n",
              "      <th>V-ref</th>\n",
              "      <th>H-Shad</th>\n",
              "      <th>S-Shad</th>\n",
              "      <th>V-Shad</th>\n",
              "      <th>Shade-ref</th>\n",
              "      <th>Shade</th>\n",
              "      <th>Setting</th>\n",
              "      <th>Img</th>\n",
              "    </tr>\n",
              "  </thead>\n",
              "  <tbody>\n",
              "    <tr>\n",
              "      <th>0</th>\n",
              "      <td>232.175960</td>\n",
              "      <td>216.874036</td>\n",
              "      <td>178.708465</td>\n",
              "      <td>232.964654</td>\n",
              "      <td>217.832160</td>\n",
              "      <td>180.185122</td>\n",
              "      <td>21.562292</td>\n",
              "      <td>58.762357</td>\n",
              "      <td>232.175960</td>\n",
              "      <td>21.513975</td>\n",
              "      <td>57.839201</td>\n",
              "      <td>232.964654</td>\n",
              "      <td>B2</td>\n",
              "      <td>A1</td>\n",
              "      <td>Set1</td>\n",
              "      <td>8844784E-18F2-4180-BD56-22527F5B506A.png</td>\n",
              "    </tr>\n",
              "    <tr>\n",
              "      <th>1</th>\n",
              "      <td>231.726077</td>\n",
              "      <td>211.455077</td>\n",
              "      <td>167.223440</td>\n",
              "      <td>232.533177</td>\n",
              "      <td>212.551597</td>\n",
              "      <td>168.982505</td>\n",
              "      <td>20.556367</td>\n",
              "      <td>71.019641</td>\n",
              "      <td>231.726077</td>\n",
              "      <td>20.552237</td>\n",
              "      <td>69.773771</td>\n",
              "      <td>232.533177</td>\n",
              "      <td>B2</td>\n",
              "      <td>A1</td>\n",
              "      <td>Set1</td>\n",
              "      <td>9B82482F-3CCB-4D36-88DF-53EE592260BA.png</td>\n",
              "    </tr>\n",
              "    <tr>\n",
              "      <th>2</th>\n",
              "      <td>226.100641</td>\n",
              "      <td>197.575278</td>\n",
              "      <td>146.748235</td>\n",
              "      <td>226.795889</td>\n",
              "      <td>198.548539</td>\n",
              "      <td>147.966148</td>\n",
              "      <td>19.189595</td>\n",
              "      <td>89.497849</td>\n",
              "      <td>226.100641</td>\n",
              "      <td>19.239457</td>\n",
              "      <td>88.650238</td>\n",
              "      <td>226.795889</td>\n",
              "      <td>B2</td>\n",
              "      <td>A1</td>\n",
              "      <td>Set1</td>\n",
              "      <td>EBE10373-8135-4270-894B-9887BE25C44D.png</td>\n",
              "    </tr>\n",
              "    <tr>\n",
              "      <th>3</th>\n",
              "      <td>230.612531</td>\n",
              "      <td>207.562373</td>\n",
              "      <td>164.211752</td>\n",
              "      <td>231.210796</td>\n",
              "      <td>208.351682</td>\n",
              "      <td>165.428561</td>\n",
              "      <td>19.566594</td>\n",
              "      <td>73.461651</td>\n",
              "      <td>230.612531</td>\n",
              "      <td>19.550743</td>\n",
              "      <td>72.606500</td>\n",
              "      <td>231.210796</td>\n",
              "      <td>B2</td>\n",
              "      <td>A1</td>\n",
              "      <td>Set1</td>\n",
              "      <td>E371B8FC-E57F-49E3-8AF4-9DF8FDBFA8F3.png</td>\n",
              "    </tr>\n",
              "    <tr>\n",
              "      <th>4</th>\n",
              "      <td>232.133431</td>\n",
              "      <td>209.823472</td>\n",
              "      <td>160.814707</td>\n",
              "      <td>232.841548</td>\n",
              "      <td>211.054264</td>\n",
              "      <td>163.067989</td>\n",
              "      <td>20.814463</td>\n",
              "      <td>78.373996</td>\n",
              "      <td>232.133431</td>\n",
              "      <td>20.855487</td>\n",
              "      <td>76.523434</td>\n",
              "      <td>232.841832</td>\n",
              "      <td>B2</td>\n",
              "      <td>A1</td>\n",
              "      <td>Set1</td>\n",
              "      <td>238A6F42-0DF6-424E-9279-99FE08A655A8.png</td>\n",
              "    </tr>\n",
              "    <tr>\n",
              "      <th>...</th>\n",
              "      <td>...</td>\n",
              "      <td>...</td>\n",
              "      <td>...</td>\n",
              "      <td>...</td>\n",
              "      <td>...</td>\n",
              "      <td>...</td>\n",
              "      <td>...</td>\n",
              "      <td>...</td>\n",
              "      <td>...</td>\n",
              "      <td>...</td>\n",
              "      <td>...</td>\n",
              "      <td>...</td>\n",
              "      <td>...</td>\n",
              "      <td>...</td>\n",
              "      <td>...</td>\n",
              "      <td>...</td>\n",
              "    </tr>\n",
              "    <tr>\n",
              "      <th>3195</th>\n",
              "      <td>232.804642</td>\n",
              "      <td>209.441604</td>\n",
              "      <td>164.924357</td>\n",
              "      <td>233.308869</td>\n",
              "      <td>210.109594</td>\n",
              "      <td>166.164853</td>\n",
              "      <td>19.601331</td>\n",
              "      <td>74.376755</td>\n",
              "      <td>232.804642</td>\n",
              "      <td>19.552094</td>\n",
              "      <td>73.433042</td>\n",
              "      <td>233.308869</td>\n",
              "      <td>B2</td>\n",
              "      <td>D4</td>\n",
              "      <td>Set4</td>\n",
              "      <td>02517FFF-D929-4E27-ACB8-20C8F13BAE87.png</td>\n",
              "    </tr>\n",
              "    <tr>\n",
              "      <th>3196</th>\n",
              "      <td>235.903985</td>\n",
              "      <td>218.940670</td>\n",
              "      <td>179.875741</td>\n",
              "      <td>236.487092</td>\n",
              "      <td>219.666951</td>\n",
              "      <td>181.014864</td>\n",
              "      <td>20.612775</td>\n",
              "      <td>78.169873</td>\n",
              "      <td>229.335768</td>\n",
              "      <td>20.589787</td>\n",
              "      <td>77.092810</td>\n",
              "      <td>229.914515</td>\n",
              "      <td>B2</td>\n",
              "      <td>D4</td>\n",
              "      <td>Set4</td>\n",
              "      <td>4DF000AA-D32F-40DF-A2DA-318515B01B63.png</td>\n",
              "    </tr>\n",
              "    <tr>\n",
              "      <th>3197</th>\n",
              "      <td>232.175960</td>\n",
              "      <td>216.874036</td>\n",
              "      <td>178.708465</td>\n",
              "      <td>232.964654</td>\n",
              "      <td>217.832160</td>\n",
              "      <td>180.185122</td>\n",
              "      <td>21.562292</td>\n",
              "      <td>58.762357</td>\n",
              "      <td>232.175960</td>\n",
              "      <td>21.513975</td>\n",
              "      <td>57.839201</td>\n",
              "      <td>232.964654</td>\n",
              "      <td>B2</td>\n",
              "      <td>D4</td>\n",
              "      <td>Set4</td>\n",
              "      <td>976D4924-5C2B-4E8D-97B8-B6A27664091A.png</td>\n",
              "    </tr>\n",
              "    <tr>\n",
              "      <th>3198</th>\n",
              "      <td>231.726077</td>\n",
              "      <td>211.455077</td>\n",
              "      <td>167.223440</td>\n",
              "      <td>232.533177</td>\n",
              "      <td>212.551597</td>\n",
              "      <td>168.982505</td>\n",
              "      <td>20.556367</td>\n",
              "      <td>71.019641</td>\n",
              "      <td>231.726077</td>\n",
              "      <td>20.552237</td>\n",
              "      <td>69.773771</td>\n",
              "      <td>232.533177</td>\n",
              "      <td>B2</td>\n",
              "      <td>D4</td>\n",
              "      <td>Set4</td>\n",
              "      <td>CADBBAEF-2109-470B-A58D-7F59A19534CD.png</td>\n",
              "    </tr>\n",
              "    <tr>\n",
              "      <th>3199</th>\n",
              "      <td>226.100641</td>\n",
              "      <td>197.575278</td>\n",
              "      <td>146.748235</td>\n",
              "      <td>226.795889</td>\n",
              "      <td>198.548539</td>\n",
              "      <td>147.966148</td>\n",
              "      <td>19.189595</td>\n",
              "      <td>89.497849</td>\n",
              "      <td>226.100641</td>\n",
              "      <td>19.239457</td>\n",
              "      <td>88.650238</td>\n",
              "      <td>226.795889</td>\n",
              "      <td>B2</td>\n",
              "      <td>D4</td>\n",
              "      <td>Set4</td>\n",
              "      <td>BA693C32-D00A-4AA9-96D8-25720E26157C.png</td>\n",
              "    </tr>\n",
              "  </tbody>\n",
              "</table>\n",
              "<p>3200 rows × 16 columns</p>\n",
              "</div>\n",
              "      <button class=\"colab-df-convert\" onclick=\"convertToInteractive('df-4f4de7a2-7370-4342-99c2-9a689aee2c76')\"\n",
              "              title=\"Convert this dataframe to an interactive table.\"\n",
              "              style=\"display:none;\">\n",
              "        \n",
              "  <svg xmlns=\"http://www.w3.org/2000/svg\" height=\"24px\"viewBox=\"0 0 24 24\"\n",
              "       width=\"24px\">\n",
              "    <path d=\"M0 0h24v24H0V0z\" fill=\"none\"/>\n",
              "    <path d=\"M18.56 5.44l.94 2.06.94-2.06 2.06-.94-2.06-.94-.94-2.06-.94 2.06-2.06.94zm-11 1L8.5 8.5l.94-2.06 2.06-.94-2.06-.94L8.5 2.5l-.94 2.06-2.06.94zm10 10l.94 2.06.94-2.06 2.06-.94-2.06-.94-.94-2.06-.94 2.06-2.06.94z\"/><path d=\"M17.41 7.96l-1.37-1.37c-.4-.4-.92-.59-1.43-.59-.52 0-1.04.2-1.43.59L10.3 9.45l-7.72 7.72c-.78.78-.78 2.05 0 2.83L4 21.41c.39.39.9.59 1.41.59.51 0 1.02-.2 1.41-.59l7.78-7.78 2.81-2.81c.8-.78.8-2.07 0-2.86zM5.41 20L4 18.59l7.72-7.72 1.47 1.35L5.41 20z\"/>\n",
              "  </svg>\n",
              "      </button>\n",
              "      \n",
              "  <style>\n",
              "    .colab-df-container {\n",
              "      display:flex;\n",
              "      flex-wrap:wrap;\n",
              "      gap: 12px;\n",
              "    }\n",
              "\n",
              "    .colab-df-convert {\n",
              "      background-color: #E8F0FE;\n",
              "      border: none;\n",
              "      border-radius: 50%;\n",
              "      cursor: pointer;\n",
              "      display: none;\n",
              "      fill: #1967D2;\n",
              "      height: 32px;\n",
              "      padding: 0 0 0 0;\n",
              "      width: 32px;\n",
              "    }\n",
              "\n",
              "    .colab-df-convert:hover {\n",
              "      background-color: #E2EBFA;\n",
              "      box-shadow: 0px 1px 2px rgba(60, 64, 67, 0.3), 0px 1px 3px 1px rgba(60, 64, 67, 0.15);\n",
              "      fill: #174EA6;\n",
              "    }\n",
              "\n",
              "    [theme=dark] .colab-df-convert {\n",
              "      background-color: #3B4455;\n",
              "      fill: #D2E3FC;\n",
              "    }\n",
              "\n",
              "    [theme=dark] .colab-df-convert:hover {\n",
              "      background-color: #434B5C;\n",
              "      box-shadow: 0px 1px 3px 1px rgba(0, 0, 0, 0.15);\n",
              "      filter: drop-shadow(0px 1px 2px rgba(0, 0, 0, 0.3));\n",
              "      fill: #FFFFFF;\n",
              "    }\n",
              "  </style>\n",
              "\n",
              "      <script>\n",
              "        const buttonEl =\n",
              "          document.querySelector('#df-4f4de7a2-7370-4342-99c2-9a689aee2c76 button.colab-df-convert');\n",
              "        buttonEl.style.display =\n",
              "          google.colab.kernel.accessAllowed ? 'block' : 'none';\n",
              "\n",
              "        async function convertToInteractive(key) {\n",
              "          const element = document.querySelector('#df-4f4de7a2-7370-4342-99c2-9a689aee2c76');\n",
              "          const dataTable =\n",
              "            await google.colab.kernel.invokeFunction('convertToInteractive',\n",
              "                                                     [key], {});\n",
              "          if (!dataTable) return;\n",
              "\n",
              "          const docLinkHtml = 'Like what you see? Visit the ' +\n",
              "            '<a target=\"_blank\" href=https://colab.research.google.com/notebooks/data_table.ipynb>data table notebook</a>'\n",
              "            + ' to learn more about interactive tables.';\n",
              "          element.innerHTML = '';\n",
              "          dataTable['output_type'] = 'display_data';\n",
              "          await google.colab.output.renderOutput(dataTable, element);\n",
              "          const docLink = document.createElement('div');\n",
              "          docLink.innerHTML = docLinkHtml;\n",
              "          element.appendChild(docLink);\n",
              "        }\n",
              "      </script>\n",
              "    </div>\n",
              "  </div>\n",
              "  "
            ],
            "text/plain": [
              "           R-ref       G-ref  ...  Setting                                       Img\n",
              "0     232.175960  216.874036  ...     Set1  8844784E-18F2-4180-BD56-22527F5B506A.png\n",
              "1     231.726077  211.455077  ...     Set1  9B82482F-3CCB-4D36-88DF-53EE592260BA.png\n",
              "2     226.100641  197.575278  ...     Set1  EBE10373-8135-4270-894B-9887BE25C44D.png\n",
              "3     230.612531  207.562373  ...     Set1  E371B8FC-E57F-49E3-8AF4-9DF8FDBFA8F3.png\n",
              "4     232.133431  209.823472  ...     Set1  238A6F42-0DF6-424E-9279-99FE08A655A8.png\n",
              "...          ...         ...  ...      ...                                       ...\n",
              "3195  232.804642  209.441604  ...     Set4  02517FFF-D929-4E27-ACB8-20C8F13BAE87.png\n",
              "3196  235.903985  218.940670  ...     Set4  4DF000AA-D32F-40DF-A2DA-318515B01B63.png\n",
              "3197  232.175960  216.874036  ...     Set4  976D4924-5C2B-4E8D-97B8-B6A27664091A.png\n",
              "3198  231.726077  211.455077  ...     Set4  CADBBAEF-2109-470B-A58D-7F59A19534CD.png\n",
              "3199  226.100641  197.575278  ...     Set4  BA693C32-D00A-4AA9-96D8-25720E26157C.png\n",
              "\n",
              "[3200 rows x 16 columns]"
            ]
          },
          "metadata": {},
          "execution_count": 71
        }
      ]
    },
    {
      "cell_type": "code",
      "source": [
        "RGB_B2 = table_B2.drop(['H-ref','S-ref','V-ref','S-Shad','V-Shad','Shade-ref','Setting','Img','Shade','H-Shad'], axis=1)"
      ],
      "metadata": {
        "id": "kZWM64cUglXS"
      },
      "execution_count": 72,
      "outputs": []
    },
    {
      "cell_type": "code",
      "source": [
        "X_B2 = np.array(RGB_B2)"
      ],
      "metadata": {
        "id": "BrRo9OtFglXS"
      },
      "execution_count": 73,
      "outputs": []
    },
    {
      "cell_type": "code",
      "source": [
        "y_B2 =  table_B2.iloc[:,13:14]"
      ],
      "metadata": {
        "id": "craA0cKDglXS"
      },
      "execution_count": 74,
      "outputs": []
    },
    {
      "cell_type": "code",
      "source": [
        "y_B2 = np.array(y_B2)\n",
        "y_B2"
      ],
      "metadata": {
        "id": "YJ6czTEhglXS",
        "outputId": "883e211c-45f6-4897-c23e-e181ffb01a0f",
        "colab": {
          "base_uri": "https://localhost:8080/"
        }
      },
      "execution_count": 75,
      "outputs": [
        {
          "output_type": "execute_result",
          "data": {
            "text/plain": [
              "array([['A1'],\n",
              "       ['A1'],\n",
              "       ['A1'],\n",
              "       ...,\n",
              "       ['D4'],\n",
              "       ['D4'],\n",
              "       ['D4']], dtype=object)"
            ]
          },
          "metadata": {},
          "execution_count": 75
        }
      ]
    },
    {
      "cell_type": "code",
      "source": [
        "X_test_B2, X_train_B2 , y_test_B2, y_train_B2 = train_test_split(X_B2, y_B2, test_size=80, train_size=320)"
      ],
      "metadata": {
        "id": "50EuIsk1sh0T"
      },
      "execution_count": 76,
      "outputs": []
    },
    {
      "cell_type": "code",
      "source": [
        "clf.fit(X_train_B2, y_train_B2)"
      ],
      "metadata": {
        "outputId": "df2ec901-b1be-41c8-df55-1d6f5c31680d",
        "colab": {
          "base_uri": "https://localhost:8080/"
        },
        "id": "Rpz0pTaXglXT"
      },
      "execution_count": 77,
      "outputs": [
        {
          "output_type": "stream",
          "name": "stderr",
          "text": [
            "/usr/local/lib/python3.7/dist-packages/sklearn/utils/validation.py:985: DataConversionWarning: A column-vector y was passed when a 1d array was expected. Please change the shape of y to (n_samples, ), for example using ravel().\n",
            "  y = column_or_1d(y, warn=True)\n"
          ]
        },
        {
          "output_type": "execute_result",
          "data": {
            "text/plain": [
              "SVC(kernel='poly')"
            ]
          },
          "metadata": {},
          "execution_count": 77
        }
      ]
    },
    {
      "cell_type": "code",
      "source": [
        "y_pred_B2 = clf.predict(X_test_B2)"
      ],
      "metadata": {
        "id": "O04fpt08glXT"
      },
      "execution_count": 78,
      "outputs": []
    },
    {
      "cell_type": "code",
      "source": [
        "print(\"Accuracy:\", metrics.accuracy_score(y_test_B2, y_pred_B2))"
      ],
      "metadata": {
        "outputId": "182da234-5497-4fc5-90e1-48ef1f79e65e",
        "colab": {
          "base_uri": "https://localhost:8080/"
        },
        "id": "rM4kWAKOglXT"
      },
      "execution_count": 79,
      "outputs": [
        {
          "output_type": "stream",
          "name": "stdout",
          "text": [
            "Accuracy: 0.175\n"
          ]
        }
      ]
    },
    {
      "cell_type": "markdown",
      "source": [
        "##B3"
      ],
      "metadata": {
        "id": "YdydtL9YglXT"
      }
    },
    {
      "cell_type": "code",
      "source": [
        "table_B3= pd.read_excel(BB, sheet_name='B3')\n",
        "table_B3"
      ],
      "metadata": {
        "colab": {
          "base_uri": "https://localhost:8080/",
          "height": 0
        },
        "outputId": "dd8c2aed-22a5-4ce1-ed66-b96956a18b8d",
        "id": "AIBX1tgEglXU"
      },
      "execution_count": 80,
      "outputs": [
        {
          "output_type": "execute_result",
          "data": {
            "text/html": [
              "\n",
              "  <div id=\"df-7bedf140-23fd-44dd-a942-c2e362b2b13c\">\n",
              "    <div class=\"colab-df-container\">\n",
              "      <div>\n",
              "<style scoped>\n",
              "    .dataframe tbody tr th:only-of-type {\n",
              "        vertical-align: middle;\n",
              "    }\n",
              "\n",
              "    .dataframe tbody tr th {\n",
              "        vertical-align: top;\n",
              "    }\n",
              "\n",
              "    .dataframe thead th {\n",
              "        text-align: right;\n",
              "    }\n",
              "</style>\n",
              "<table border=\"1\" class=\"dataframe\">\n",
              "  <thead>\n",
              "    <tr style=\"text-align: right;\">\n",
              "      <th></th>\n",
              "      <th>R-ref</th>\n",
              "      <th>G-ref</th>\n",
              "      <th>B-ref</th>\n",
              "      <th>R-Shad</th>\n",
              "      <th>G-Shad</th>\n",
              "      <th>B-Shad</th>\n",
              "      <th>H-ref</th>\n",
              "      <th>S-ref</th>\n",
              "      <th>V-ref</th>\n",
              "      <th>H-Shad</th>\n",
              "      <th>S-Shad</th>\n",
              "      <th>V-Shad</th>\n",
              "      <th>Shade-ref</th>\n",
              "      <th>Shade</th>\n",
              "      <th>Setting</th>\n",
              "      <th>Img</th>\n",
              "    </tr>\n",
              "  </thead>\n",
              "  <tbody>\n",
              "    <tr>\n",
              "      <th>0</th>\n",
              "      <td>232.175960</td>\n",
              "      <td>216.874036</td>\n",
              "      <td>178.708465</td>\n",
              "      <td>232.964654</td>\n",
              "      <td>217.832160</td>\n",
              "      <td>180.185122</td>\n",
              "      <td>21.562292</td>\n",
              "      <td>58.762357</td>\n",
              "      <td>232.175960</td>\n",
              "      <td>21.513975</td>\n",
              "      <td>57.839201</td>\n",
              "      <td>232.964654</td>\n",
              "      <td>B3</td>\n",
              "      <td>A1</td>\n",
              "      <td>Set1</td>\n",
              "      <td>768ECDBF-055D-4AF1-9FB6-59F1D54C18F2.png</td>\n",
              "    </tr>\n",
              "    <tr>\n",
              "      <th>1</th>\n",
              "      <td>231.726077</td>\n",
              "      <td>211.455077</td>\n",
              "      <td>167.223440</td>\n",
              "      <td>232.533177</td>\n",
              "      <td>212.551597</td>\n",
              "      <td>168.982505</td>\n",
              "      <td>20.556367</td>\n",
              "      <td>71.019641</td>\n",
              "      <td>231.726077</td>\n",
              "      <td>20.552237</td>\n",
              "      <td>69.773771</td>\n",
              "      <td>232.533177</td>\n",
              "      <td>B3</td>\n",
              "      <td>A1</td>\n",
              "      <td>Set1</td>\n",
              "      <td>A2B09945-ABB4-4B6C-8880-C0859637306B.png</td>\n",
              "    </tr>\n",
              "    <tr>\n",
              "      <th>2</th>\n",
              "      <td>226.100641</td>\n",
              "      <td>197.575278</td>\n",
              "      <td>146.748235</td>\n",
              "      <td>226.795889</td>\n",
              "      <td>198.548539</td>\n",
              "      <td>147.966148</td>\n",
              "      <td>19.189595</td>\n",
              "      <td>89.497849</td>\n",
              "      <td>226.100641</td>\n",
              "      <td>19.239457</td>\n",
              "      <td>88.650238</td>\n",
              "      <td>226.795889</td>\n",
              "      <td>B3</td>\n",
              "      <td>A1</td>\n",
              "      <td>Set1</td>\n",
              "      <td>5C57C433-024F-4E4A-B661-2A33A270EE9D.png</td>\n",
              "    </tr>\n",
              "    <tr>\n",
              "      <th>3</th>\n",
              "      <td>230.612531</td>\n",
              "      <td>207.562373</td>\n",
              "      <td>164.211752</td>\n",
              "      <td>231.210796</td>\n",
              "      <td>208.351682</td>\n",
              "      <td>165.428561</td>\n",
              "      <td>19.566594</td>\n",
              "      <td>73.461651</td>\n",
              "      <td>230.612531</td>\n",
              "      <td>19.550743</td>\n",
              "      <td>72.606500</td>\n",
              "      <td>231.210796</td>\n",
              "      <td>B3</td>\n",
              "      <td>A1</td>\n",
              "      <td>Set1</td>\n",
              "      <td>6D8E199E-9FF6-46BF-A7CA-D491A179F0EB.png</td>\n",
              "    </tr>\n",
              "    <tr>\n",
              "      <th>4</th>\n",
              "      <td>232.133431</td>\n",
              "      <td>209.823472</td>\n",
              "      <td>160.814707</td>\n",
              "      <td>232.841548</td>\n",
              "      <td>211.054264</td>\n",
              "      <td>163.067989</td>\n",
              "      <td>20.814463</td>\n",
              "      <td>78.373996</td>\n",
              "      <td>232.133431</td>\n",
              "      <td>20.855487</td>\n",
              "      <td>76.523434</td>\n",
              "      <td>232.841832</td>\n",
              "      <td>B3</td>\n",
              "      <td>A1</td>\n",
              "      <td>Set1</td>\n",
              "      <td>09286B35-9904-4EE4-8AF2-92443DF8DA7D.png</td>\n",
              "    </tr>\n",
              "    <tr>\n",
              "      <th>...</th>\n",
              "      <td>...</td>\n",
              "      <td>...</td>\n",
              "      <td>...</td>\n",
              "      <td>...</td>\n",
              "      <td>...</td>\n",
              "      <td>...</td>\n",
              "      <td>...</td>\n",
              "      <td>...</td>\n",
              "      <td>...</td>\n",
              "      <td>...</td>\n",
              "      <td>...</td>\n",
              "      <td>...</td>\n",
              "      <td>...</td>\n",
              "      <td>...</td>\n",
              "      <td>...</td>\n",
              "      <td>...</td>\n",
              "    </tr>\n",
              "    <tr>\n",
              "      <th>3195</th>\n",
              "      <td>232.804642</td>\n",
              "      <td>209.441604</td>\n",
              "      <td>164.924357</td>\n",
              "      <td>233.308869</td>\n",
              "      <td>210.109594</td>\n",
              "      <td>166.164853</td>\n",
              "      <td>19.601331</td>\n",
              "      <td>74.376755</td>\n",
              "      <td>232.804642</td>\n",
              "      <td>19.552094</td>\n",
              "      <td>73.433042</td>\n",
              "      <td>233.308869</td>\n",
              "      <td>B3</td>\n",
              "      <td>D4</td>\n",
              "      <td>Set4</td>\n",
              "      <td>FF51B534-D123-4EDC-9698-512268B65867.png</td>\n",
              "    </tr>\n",
              "    <tr>\n",
              "      <th>3196</th>\n",
              "      <td>235.903985</td>\n",
              "      <td>218.940670</td>\n",
              "      <td>179.875741</td>\n",
              "      <td>236.487092</td>\n",
              "      <td>219.666951</td>\n",
              "      <td>181.014864</td>\n",
              "      <td>20.612775</td>\n",
              "      <td>78.169873</td>\n",
              "      <td>229.335768</td>\n",
              "      <td>20.589787</td>\n",
              "      <td>77.092810</td>\n",
              "      <td>229.914515</td>\n",
              "      <td>B3</td>\n",
              "      <td>D4</td>\n",
              "      <td>Set4</td>\n",
              "      <td>687AE017-A410-496A-9B9B-6A9FD3E326A4.png</td>\n",
              "    </tr>\n",
              "    <tr>\n",
              "      <th>3197</th>\n",
              "      <td>232.175960</td>\n",
              "      <td>216.874036</td>\n",
              "      <td>178.708465</td>\n",
              "      <td>232.964654</td>\n",
              "      <td>217.832160</td>\n",
              "      <td>180.185122</td>\n",
              "      <td>21.562292</td>\n",
              "      <td>58.762357</td>\n",
              "      <td>232.175960</td>\n",
              "      <td>21.513975</td>\n",
              "      <td>57.839201</td>\n",
              "      <td>232.964654</td>\n",
              "      <td>B3</td>\n",
              "      <td>D4</td>\n",
              "      <td>Set4</td>\n",
              "      <td>5ADEE1DD-D8E0-4919-A19D-069AB7914B91.png</td>\n",
              "    </tr>\n",
              "    <tr>\n",
              "      <th>3198</th>\n",
              "      <td>231.726077</td>\n",
              "      <td>211.455077</td>\n",
              "      <td>167.223440</td>\n",
              "      <td>232.533177</td>\n",
              "      <td>212.551597</td>\n",
              "      <td>168.982505</td>\n",
              "      <td>20.556367</td>\n",
              "      <td>71.019641</td>\n",
              "      <td>231.726077</td>\n",
              "      <td>20.552237</td>\n",
              "      <td>69.773771</td>\n",
              "      <td>232.533177</td>\n",
              "      <td>B3</td>\n",
              "      <td>D4</td>\n",
              "      <td>Set4</td>\n",
              "      <td>B1D08D81-83F8-499F-8E19-BB24994B89F1.png</td>\n",
              "    </tr>\n",
              "    <tr>\n",
              "      <th>3199</th>\n",
              "      <td>226.100641</td>\n",
              "      <td>197.575278</td>\n",
              "      <td>146.748235</td>\n",
              "      <td>226.795889</td>\n",
              "      <td>198.548539</td>\n",
              "      <td>147.966148</td>\n",
              "      <td>19.189595</td>\n",
              "      <td>89.497849</td>\n",
              "      <td>226.100641</td>\n",
              "      <td>19.239457</td>\n",
              "      <td>88.650238</td>\n",
              "      <td>226.795889</td>\n",
              "      <td>B3</td>\n",
              "      <td>D4</td>\n",
              "      <td>Set4</td>\n",
              "      <td>48613D2F-02B3-4562-B1E2-D5C16CDE3EE0.png</td>\n",
              "    </tr>\n",
              "  </tbody>\n",
              "</table>\n",
              "<p>3200 rows × 16 columns</p>\n",
              "</div>\n",
              "      <button class=\"colab-df-convert\" onclick=\"convertToInteractive('df-7bedf140-23fd-44dd-a942-c2e362b2b13c')\"\n",
              "              title=\"Convert this dataframe to an interactive table.\"\n",
              "              style=\"display:none;\">\n",
              "        \n",
              "  <svg xmlns=\"http://www.w3.org/2000/svg\" height=\"24px\"viewBox=\"0 0 24 24\"\n",
              "       width=\"24px\">\n",
              "    <path d=\"M0 0h24v24H0V0z\" fill=\"none\"/>\n",
              "    <path d=\"M18.56 5.44l.94 2.06.94-2.06 2.06-.94-2.06-.94-.94-2.06-.94 2.06-2.06.94zm-11 1L8.5 8.5l.94-2.06 2.06-.94-2.06-.94L8.5 2.5l-.94 2.06-2.06.94zm10 10l.94 2.06.94-2.06 2.06-.94-2.06-.94-.94-2.06-.94 2.06-2.06.94z\"/><path d=\"M17.41 7.96l-1.37-1.37c-.4-.4-.92-.59-1.43-.59-.52 0-1.04.2-1.43.59L10.3 9.45l-7.72 7.72c-.78.78-.78 2.05 0 2.83L4 21.41c.39.39.9.59 1.41.59.51 0 1.02-.2 1.41-.59l7.78-7.78 2.81-2.81c.8-.78.8-2.07 0-2.86zM5.41 20L4 18.59l7.72-7.72 1.47 1.35L5.41 20z\"/>\n",
              "  </svg>\n",
              "      </button>\n",
              "      \n",
              "  <style>\n",
              "    .colab-df-container {\n",
              "      display:flex;\n",
              "      flex-wrap:wrap;\n",
              "      gap: 12px;\n",
              "    }\n",
              "\n",
              "    .colab-df-convert {\n",
              "      background-color: #E8F0FE;\n",
              "      border: none;\n",
              "      border-radius: 50%;\n",
              "      cursor: pointer;\n",
              "      display: none;\n",
              "      fill: #1967D2;\n",
              "      height: 32px;\n",
              "      padding: 0 0 0 0;\n",
              "      width: 32px;\n",
              "    }\n",
              "\n",
              "    .colab-df-convert:hover {\n",
              "      background-color: #E2EBFA;\n",
              "      box-shadow: 0px 1px 2px rgba(60, 64, 67, 0.3), 0px 1px 3px 1px rgba(60, 64, 67, 0.15);\n",
              "      fill: #174EA6;\n",
              "    }\n",
              "\n",
              "    [theme=dark] .colab-df-convert {\n",
              "      background-color: #3B4455;\n",
              "      fill: #D2E3FC;\n",
              "    }\n",
              "\n",
              "    [theme=dark] .colab-df-convert:hover {\n",
              "      background-color: #434B5C;\n",
              "      box-shadow: 0px 1px 3px 1px rgba(0, 0, 0, 0.15);\n",
              "      filter: drop-shadow(0px 1px 2px rgba(0, 0, 0, 0.3));\n",
              "      fill: #FFFFFF;\n",
              "    }\n",
              "  </style>\n",
              "\n",
              "      <script>\n",
              "        const buttonEl =\n",
              "          document.querySelector('#df-7bedf140-23fd-44dd-a942-c2e362b2b13c button.colab-df-convert');\n",
              "        buttonEl.style.display =\n",
              "          google.colab.kernel.accessAllowed ? 'block' : 'none';\n",
              "\n",
              "        async function convertToInteractive(key) {\n",
              "          const element = document.querySelector('#df-7bedf140-23fd-44dd-a942-c2e362b2b13c');\n",
              "          const dataTable =\n",
              "            await google.colab.kernel.invokeFunction('convertToInteractive',\n",
              "                                                     [key], {});\n",
              "          if (!dataTable) return;\n",
              "\n",
              "          const docLinkHtml = 'Like what you see? Visit the ' +\n",
              "            '<a target=\"_blank\" href=https://colab.research.google.com/notebooks/data_table.ipynb>data table notebook</a>'\n",
              "            + ' to learn more about interactive tables.';\n",
              "          element.innerHTML = '';\n",
              "          dataTable['output_type'] = 'display_data';\n",
              "          await google.colab.output.renderOutput(dataTable, element);\n",
              "          const docLink = document.createElement('div');\n",
              "          docLink.innerHTML = docLinkHtml;\n",
              "          element.appendChild(docLink);\n",
              "        }\n",
              "      </script>\n",
              "    </div>\n",
              "  </div>\n",
              "  "
            ],
            "text/plain": [
              "           R-ref       G-ref  ...  Setting                                       Img\n",
              "0     232.175960  216.874036  ...     Set1  768ECDBF-055D-4AF1-9FB6-59F1D54C18F2.png\n",
              "1     231.726077  211.455077  ...     Set1  A2B09945-ABB4-4B6C-8880-C0859637306B.png\n",
              "2     226.100641  197.575278  ...     Set1  5C57C433-024F-4E4A-B661-2A33A270EE9D.png\n",
              "3     230.612531  207.562373  ...     Set1  6D8E199E-9FF6-46BF-A7CA-D491A179F0EB.png\n",
              "4     232.133431  209.823472  ...     Set1  09286B35-9904-4EE4-8AF2-92443DF8DA7D.png\n",
              "...          ...         ...  ...      ...                                       ...\n",
              "3195  232.804642  209.441604  ...     Set4  FF51B534-D123-4EDC-9698-512268B65867.png\n",
              "3196  235.903985  218.940670  ...     Set4  687AE017-A410-496A-9B9B-6A9FD3E326A4.png\n",
              "3197  232.175960  216.874036  ...     Set4  5ADEE1DD-D8E0-4919-A19D-069AB7914B91.png\n",
              "3198  231.726077  211.455077  ...     Set4  B1D08D81-83F8-499F-8E19-BB24994B89F1.png\n",
              "3199  226.100641  197.575278  ...     Set4  48613D2F-02B3-4562-B1E2-D5C16CDE3EE0.png\n",
              "\n",
              "[3200 rows x 16 columns]"
            ]
          },
          "metadata": {},
          "execution_count": 80
        }
      ]
    },
    {
      "cell_type": "code",
      "source": [
        "RGB_B3 = table_B3.drop(['H-ref','S-ref','V-ref','S-Shad','V-Shad','Shade-ref','Setting','Img','Shade','H-Shad'], axis=1)"
      ],
      "metadata": {
        "id": "ostSnOpJglXU"
      },
      "execution_count": 81,
      "outputs": []
    },
    {
      "cell_type": "code",
      "source": [
        "X_B3 = np.array(RGB_B3)"
      ],
      "metadata": {
        "id": "zZUFoIDrglXU"
      },
      "execution_count": 82,
      "outputs": []
    },
    {
      "cell_type": "code",
      "source": [
        "y_B3 = table_B3.iloc[:,13:14]"
      ],
      "metadata": {
        "id": "c5AAUqMXglXU"
      },
      "execution_count": 83,
      "outputs": []
    },
    {
      "cell_type": "code",
      "source": [
        "y_B3 = np.array(y_B3)\n",
        "y_B3"
      ],
      "metadata": {
        "outputId": "0e630ed5-d16a-4eec-a2f0-5c5a17a452e9",
        "colab": {
          "base_uri": "https://localhost:8080/"
        },
        "id": "LYXKYT49glXU"
      },
      "execution_count": 84,
      "outputs": [
        {
          "output_type": "execute_result",
          "data": {
            "text/plain": [
              "array([['A1'],\n",
              "       ['A1'],\n",
              "       ['A1'],\n",
              "       ...,\n",
              "       ['D4'],\n",
              "       ['D4'],\n",
              "       ['D4']], dtype=object)"
            ]
          },
          "metadata": {},
          "execution_count": 84
        }
      ]
    },
    {
      "cell_type": "code",
      "source": [
        "X_test_B3, X_train_B3 , y_test_B3, y_train_B3 = train_test_split(X_B3, y_B3, test_size=80, train_size=320)"
      ],
      "metadata": {
        "id": "Bs8trxV1spkc"
      },
      "execution_count": 85,
      "outputs": []
    },
    {
      "cell_type": "code",
      "source": [
        "clf.fit(X_train_B3, y_train_B3)"
      ],
      "metadata": {
        "outputId": "0dffee51-ecee-41fb-b56b-ed0b9b43a839",
        "colab": {
          "base_uri": "https://localhost:8080/"
        },
        "id": "8XypaE38glXV"
      },
      "execution_count": 86,
      "outputs": [
        {
          "output_type": "stream",
          "name": "stderr",
          "text": [
            "/usr/local/lib/python3.7/dist-packages/sklearn/utils/validation.py:985: DataConversionWarning: A column-vector y was passed when a 1d array was expected. Please change the shape of y to (n_samples, ), for example using ravel().\n",
            "  y = column_or_1d(y, warn=True)\n"
          ]
        },
        {
          "output_type": "execute_result",
          "data": {
            "text/plain": [
              "SVC(kernel='poly')"
            ]
          },
          "metadata": {},
          "execution_count": 86
        }
      ]
    },
    {
      "cell_type": "code",
      "source": [
        "y_pred_B3 = clf.predict(X_test_B3)"
      ],
      "metadata": {
        "id": "GCv_31s-glXV"
      },
      "execution_count": 87,
      "outputs": []
    },
    {
      "cell_type": "code",
      "source": [
        "print(\"Accuracy:\", metrics.accuracy_score(y_test_B3, y_pred_B3))"
      ],
      "metadata": {
        "id": "nkQqIR2bglXV",
        "outputId": "a3ff0529-0e22-45b2-e02f-49e79084edee",
        "colab": {
          "base_uri": "https://localhost:8080/"
        }
      },
      "execution_count": 88,
      "outputs": [
        {
          "output_type": "stream",
          "name": "stdout",
          "text": [
            "Accuracy: 0.215625\n"
          ]
        }
      ]
    },
    {
      "cell_type": "markdown",
      "source": [
        "##B4"
      ],
      "metadata": {
        "id": "P3LwJRdeglXX"
      }
    },
    {
      "cell_type": "code",
      "source": [
        "table_B4 = pd.read_excel(BB, sheet_name='B4')\n",
        "table_B4"
      ],
      "metadata": {
        "colab": {
          "base_uri": "https://localhost:8080/",
          "height": 0
        },
        "id": "XA_s6kmrglXX",
        "outputId": "1e2a2dca-18f2-4259-e8f7-bf8bc010817a"
      },
      "execution_count": 89,
      "outputs": [
        {
          "output_type": "execute_result",
          "data": {
            "text/html": [
              "\n",
              "  <div id=\"df-22212834-4c64-469c-a2aa-e14fc76ede40\">\n",
              "    <div class=\"colab-df-container\">\n",
              "      <div>\n",
              "<style scoped>\n",
              "    .dataframe tbody tr th:only-of-type {\n",
              "        vertical-align: middle;\n",
              "    }\n",
              "\n",
              "    .dataframe tbody tr th {\n",
              "        vertical-align: top;\n",
              "    }\n",
              "\n",
              "    .dataframe thead th {\n",
              "        text-align: right;\n",
              "    }\n",
              "</style>\n",
              "<table border=\"1\" class=\"dataframe\">\n",
              "  <thead>\n",
              "    <tr style=\"text-align: right;\">\n",
              "      <th></th>\n",
              "      <th>R-ref</th>\n",
              "      <th>G-ref</th>\n",
              "      <th>B-ref</th>\n",
              "      <th>R-Shad</th>\n",
              "      <th>G-Shad</th>\n",
              "      <th>B-Shad</th>\n",
              "      <th>H-ref</th>\n",
              "      <th>S-ref</th>\n",
              "      <th>V-ref</th>\n",
              "      <th>H-Shad</th>\n",
              "      <th>S-Shad</th>\n",
              "      <th>V-Shad</th>\n",
              "      <th>Shade-ref</th>\n",
              "      <th>Shade</th>\n",
              "      <th>Setting</th>\n",
              "      <th>Img</th>\n",
              "    </tr>\n",
              "  </thead>\n",
              "  <tbody>\n",
              "    <tr>\n",
              "      <th>0</th>\n",
              "      <td>237.172985</td>\n",
              "      <td>225.596383</td>\n",
              "      <td>191.776924</td>\n",
              "      <td>237.828505</td>\n",
              "      <td>226.460326</td>\n",
              "      <td>193.279482</td>\n",
              "      <td>22.295755</td>\n",
              "      <td>48.938885</td>\n",
              "      <td>237.144469</td>\n",
              "      <td>22.332764</td>\n",
              "      <td>47.917502</td>\n",
              "      <td>237.810967</td>\n",
              "      <td>B4</td>\n",
              "      <td>A1</td>\n",
              "      <td>Set1</td>\n",
              "      <td>34B2D0A4-AE20-440B-976D-34704AC67DBF.png</td>\n",
              "    </tr>\n",
              "    <tr>\n",
              "      <th>1</th>\n",
              "      <td>239.246246</td>\n",
              "      <td>221.661797</td>\n",
              "      <td>177.409220</td>\n",
              "      <td>239.869853</td>\n",
              "      <td>222.532181</td>\n",
              "      <td>178.897233</td>\n",
              "      <td>22.295755</td>\n",
              "      <td>48.938885</td>\n",
              "      <td>237.144469</td>\n",
              "      <td>22.332764</td>\n",
              "      <td>47.917502</td>\n",
              "      <td>237.810967</td>\n",
              "      <td>B4</td>\n",
              "      <td>A1</td>\n",
              "      <td>Set1</td>\n",
              "      <td>749D68C6-4CBE-4281-936D-2E903F24C84B.png</td>\n",
              "    </tr>\n",
              "    <tr>\n",
              "      <th>2</th>\n",
              "      <td>237.328788</td>\n",
              "      <td>211.283256</td>\n",
              "      <td>155.065985</td>\n",
              "      <td>238.087547</td>\n",
              "      <td>212.420596</td>\n",
              "      <td>156.950573</td>\n",
              "      <td>20.723724</td>\n",
              "      <td>88.424560</td>\n",
              "      <td>237.328788</td>\n",
              "      <td>20.721926</td>\n",
              "      <td>86.986061</td>\n",
              "      <td>238.087547</td>\n",
              "      <td>B4</td>\n",
              "      <td>A1</td>\n",
              "      <td>Set1</td>\n",
              "      <td>FF438080-DFCE-4992-80C7-BC7FD4258D18.png</td>\n",
              "    </tr>\n",
              "    <tr>\n",
              "      <th>3</th>\n",
              "      <td>236.773314</td>\n",
              "      <td>209.917864</td>\n",
              "      <td>155.544355</td>\n",
              "      <td>237.385748</td>\n",
              "      <td>210.931939</td>\n",
              "      <td>157.041818</td>\n",
              "      <td>20.189676</td>\n",
              "      <td>87.558072</td>\n",
              "      <td>236.773314</td>\n",
              "      <td>20.244791</td>\n",
              "      <td>86.400541</td>\n",
              "      <td>237.385748</td>\n",
              "      <td>B4</td>\n",
              "      <td>A1</td>\n",
              "      <td>Set1</td>\n",
              "      <td>94EA0AEE-7090-4878-B886-C6D839442A90.png</td>\n",
              "    </tr>\n",
              "    <tr>\n",
              "      <th>4</th>\n",
              "      <td>238.599951</td>\n",
              "      <td>222.450207</td>\n",
              "      <td>177.512702</td>\n",
              "      <td>237.828505</td>\n",
              "      <td>226.460326</td>\n",
              "      <td>193.279482</td>\n",
              "      <td>22.168006</td>\n",
              "      <td>65.331954</td>\n",
              "      <td>238.599951</td>\n",
              "      <td>22.186189</td>\n",
              "      <td>64.179290</td>\n",
              "      <td>239.099139</td>\n",
              "      <td>B4</td>\n",
              "      <td>A1</td>\n",
              "      <td>Set1</td>\n",
              "      <td>1F086831-AF5B-4D7E-8E33-15C8CE2CF0B7.png</td>\n",
              "    </tr>\n",
              "    <tr>\n",
              "      <th>...</th>\n",
              "      <td>...</td>\n",
              "      <td>...</td>\n",
              "      <td>...</td>\n",
              "      <td>...</td>\n",
              "      <td>...</td>\n",
              "      <td>...</td>\n",
              "      <td>...</td>\n",
              "      <td>...</td>\n",
              "      <td>...</td>\n",
              "      <td>...</td>\n",
              "      <td>...</td>\n",
              "      <td>...</td>\n",
              "      <td>...</td>\n",
              "      <td>...</td>\n",
              "      <td>...</td>\n",
              "      <td>...</td>\n",
              "    </tr>\n",
              "    <tr>\n",
              "      <th>3195</th>\n",
              "      <td>219.796364</td>\n",
              "      <td>220.248600</td>\n",
              "      <td>203.640370</td>\n",
              "      <td>219.211934</td>\n",
              "      <td>219.766731</td>\n",
              "      <td>203.270322</td>\n",
              "      <td>31.111598</td>\n",
              "      <td>19.560669</td>\n",
              "      <td>220.568055</td>\n",
              "      <td>31.312851</td>\n",
              "      <td>19.433184</td>\n",
              "      <td>220.052343</td>\n",
              "      <td>B4</td>\n",
              "      <td>D4</td>\n",
              "      <td>Set4</td>\n",
              "      <td>E8ED1D38-6C16-42ED-A658-58070626D8F1.png</td>\n",
              "    </tr>\n",
              "    <tr>\n",
              "      <th>3196</th>\n",
              "      <td>215.312718</td>\n",
              "      <td>216.245759</td>\n",
              "      <td>196.157455</td>\n",
              "      <td>214.860323</td>\n",
              "      <td>215.754498</td>\n",
              "      <td>195.762108</td>\n",
              "      <td>28.454590</td>\n",
              "      <td>52.051295</td>\n",
              "      <td>221.314991</td>\n",
              "      <td>28.269469</td>\n",
              "      <td>52.384325</td>\n",
              "      <td>220.852002</td>\n",
              "      <td>B4</td>\n",
              "      <td>D4</td>\n",
              "      <td>Set4</td>\n",
              "      <td>094AD7F5-5108-42D2-83AE-4B037D362173.png</td>\n",
              "    </tr>\n",
              "    <tr>\n",
              "      <th>3197</th>\n",
              "      <td>215.690610</td>\n",
              "      <td>216.009902</td>\n",
              "      <td>196.406055</td>\n",
              "      <td>215.166773</td>\n",
              "      <td>215.486879</td>\n",
              "      <td>195.933291</td>\n",
              "      <td>30.849525</td>\n",
              "      <td>23.662609</td>\n",
              "      <td>216.485350</td>\n",
              "      <td>30.867293</td>\n",
              "      <td>23.636228</td>\n",
              "      <td>215.959036</td>\n",
              "      <td>B4</td>\n",
              "      <td>D4</td>\n",
              "      <td>Set4</td>\n",
              "      <td>1047654A-B1CA-45B5-9EA7-8FDBE1B2C704.png</td>\n",
              "    </tr>\n",
              "    <tr>\n",
              "      <th>3198</th>\n",
              "      <td>213.749290</td>\n",
              "      <td>210.436328</td>\n",
              "      <td>181.714877</td>\n",
              "      <td>213.046725</td>\n",
              "      <td>209.822132</td>\n",
              "      <td>181.286679</td>\n",
              "      <td>26.683954</td>\n",
              "      <td>38.233260</td>\n",
              "      <td>213.749290</td>\n",
              "      <td>26.767157</td>\n",
              "      <td>38.010668</td>\n",
              "      <td>213.046725</td>\n",
              "      <td>B4</td>\n",
              "      <td>D4</td>\n",
              "      <td>Set4</td>\n",
              "      <td>2AC65698-9959-467C-BF00-EC65879EEB15.png</td>\n",
              "    </tr>\n",
              "    <tr>\n",
              "      <th>3199</th>\n",
              "      <td>211.214674</td>\n",
              "      <td>204.185537</td>\n",
              "      <td>158.897330</td>\n",
              "      <td>210.905910</td>\n",
              "      <td>203.783372</td>\n",
              "      <td>158.707275</td>\n",
              "      <td>26.202337</td>\n",
              "      <td>63.120039</td>\n",
              "      <td>211.214674</td>\n",
              "      <td>26.147358</td>\n",
              "      <td>63.070194</td>\n",
              "      <td>210.905910</td>\n",
              "      <td>B4</td>\n",
              "      <td>D4</td>\n",
              "      <td>Set4</td>\n",
              "      <td>B736DF83-AEA3-4E3C-94D7-E81EB850FD08.png</td>\n",
              "    </tr>\n",
              "  </tbody>\n",
              "</table>\n",
              "<p>3200 rows × 16 columns</p>\n",
              "</div>\n",
              "      <button class=\"colab-df-convert\" onclick=\"convertToInteractive('df-22212834-4c64-469c-a2aa-e14fc76ede40')\"\n",
              "              title=\"Convert this dataframe to an interactive table.\"\n",
              "              style=\"display:none;\">\n",
              "        \n",
              "  <svg xmlns=\"http://www.w3.org/2000/svg\" height=\"24px\"viewBox=\"0 0 24 24\"\n",
              "       width=\"24px\">\n",
              "    <path d=\"M0 0h24v24H0V0z\" fill=\"none\"/>\n",
              "    <path d=\"M18.56 5.44l.94 2.06.94-2.06 2.06-.94-2.06-.94-.94-2.06-.94 2.06-2.06.94zm-11 1L8.5 8.5l.94-2.06 2.06-.94-2.06-.94L8.5 2.5l-.94 2.06-2.06.94zm10 10l.94 2.06.94-2.06 2.06-.94-2.06-.94-.94-2.06-.94 2.06-2.06.94z\"/><path d=\"M17.41 7.96l-1.37-1.37c-.4-.4-.92-.59-1.43-.59-.52 0-1.04.2-1.43.59L10.3 9.45l-7.72 7.72c-.78.78-.78 2.05 0 2.83L4 21.41c.39.39.9.59 1.41.59.51 0 1.02-.2 1.41-.59l7.78-7.78 2.81-2.81c.8-.78.8-2.07 0-2.86zM5.41 20L4 18.59l7.72-7.72 1.47 1.35L5.41 20z\"/>\n",
              "  </svg>\n",
              "      </button>\n",
              "      \n",
              "  <style>\n",
              "    .colab-df-container {\n",
              "      display:flex;\n",
              "      flex-wrap:wrap;\n",
              "      gap: 12px;\n",
              "    }\n",
              "\n",
              "    .colab-df-convert {\n",
              "      background-color: #E8F0FE;\n",
              "      border: none;\n",
              "      border-radius: 50%;\n",
              "      cursor: pointer;\n",
              "      display: none;\n",
              "      fill: #1967D2;\n",
              "      height: 32px;\n",
              "      padding: 0 0 0 0;\n",
              "      width: 32px;\n",
              "    }\n",
              "\n",
              "    .colab-df-convert:hover {\n",
              "      background-color: #E2EBFA;\n",
              "      box-shadow: 0px 1px 2px rgba(60, 64, 67, 0.3), 0px 1px 3px 1px rgba(60, 64, 67, 0.15);\n",
              "      fill: #174EA6;\n",
              "    }\n",
              "\n",
              "    [theme=dark] .colab-df-convert {\n",
              "      background-color: #3B4455;\n",
              "      fill: #D2E3FC;\n",
              "    }\n",
              "\n",
              "    [theme=dark] .colab-df-convert:hover {\n",
              "      background-color: #434B5C;\n",
              "      box-shadow: 0px 1px 3px 1px rgba(0, 0, 0, 0.15);\n",
              "      filter: drop-shadow(0px 1px 2px rgba(0, 0, 0, 0.3));\n",
              "      fill: #FFFFFF;\n",
              "    }\n",
              "  </style>\n",
              "\n",
              "      <script>\n",
              "        const buttonEl =\n",
              "          document.querySelector('#df-22212834-4c64-469c-a2aa-e14fc76ede40 button.colab-df-convert');\n",
              "        buttonEl.style.display =\n",
              "          google.colab.kernel.accessAllowed ? 'block' : 'none';\n",
              "\n",
              "        async function convertToInteractive(key) {\n",
              "          const element = document.querySelector('#df-22212834-4c64-469c-a2aa-e14fc76ede40');\n",
              "          const dataTable =\n",
              "            await google.colab.kernel.invokeFunction('convertToInteractive',\n",
              "                                                     [key], {});\n",
              "          if (!dataTable) return;\n",
              "\n",
              "          const docLinkHtml = 'Like what you see? Visit the ' +\n",
              "            '<a target=\"_blank\" href=https://colab.research.google.com/notebooks/data_table.ipynb>data table notebook</a>'\n",
              "            + ' to learn more about interactive tables.';\n",
              "          element.innerHTML = '';\n",
              "          dataTable['output_type'] = 'display_data';\n",
              "          await google.colab.output.renderOutput(dataTable, element);\n",
              "          const docLink = document.createElement('div');\n",
              "          docLink.innerHTML = docLinkHtml;\n",
              "          element.appendChild(docLink);\n",
              "        }\n",
              "      </script>\n",
              "    </div>\n",
              "  </div>\n",
              "  "
            ],
            "text/plain": [
              "           R-ref       G-ref  ...  Setting                                       Img\n",
              "0     237.172985  225.596383  ...     Set1  34B2D0A4-AE20-440B-976D-34704AC67DBF.png\n",
              "1     239.246246  221.661797  ...     Set1  749D68C6-4CBE-4281-936D-2E903F24C84B.png\n",
              "2     237.328788  211.283256  ...     Set1  FF438080-DFCE-4992-80C7-BC7FD4258D18.png\n",
              "3     236.773314  209.917864  ...     Set1  94EA0AEE-7090-4878-B886-C6D839442A90.png\n",
              "4     238.599951  222.450207  ...     Set1  1F086831-AF5B-4D7E-8E33-15C8CE2CF0B7.png\n",
              "...          ...         ...  ...      ...                                       ...\n",
              "3195  219.796364  220.248600  ...     Set4  E8ED1D38-6C16-42ED-A658-58070626D8F1.png\n",
              "3196  215.312718  216.245759  ...     Set4  094AD7F5-5108-42D2-83AE-4B037D362173.png\n",
              "3197  215.690610  216.009902  ...     Set4  1047654A-B1CA-45B5-9EA7-8FDBE1B2C704.png\n",
              "3198  213.749290  210.436328  ...     Set4  2AC65698-9959-467C-BF00-EC65879EEB15.png\n",
              "3199  211.214674  204.185537  ...     Set4  B736DF83-AEA3-4E3C-94D7-E81EB850FD08.png\n",
              "\n",
              "[3200 rows x 16 columns]"
            ]
          },
          "metadata": {},
          "execution_count": 89
        }
      ]
    },
    {
      "cell_type": "code",
      "source": [
        "RGB_B4 = table_B4.drop(['H-ref','S-ref','V-ref','S-Shad','V-Shad','Shade-ref','Setting','Img','Shade','H-Shad'], axis=1)"
      ],
      "metadata": {
        "id": "bTorN1AeglXX"
      },
      "execution_count": 90,
      "outputs": []
    },
    {
      "cell_type": "code",
      "source": [
        "X_B4 = np.array(RGB_B4)"
      ],
      "metadata": {
        "id": "hnRsfeT7glXX"
      },
      "execution_count": 91,
      "outputs": []
    },
    {
      "cell_type": "code",
      "source": [
        "y_B4 =  table_B4.iloc[:,13:14]"
      ],
      "metadata": {
        "id": "1lFFH9ZVglXX"
      },
      "execution_count": 92,
      "outputs": []
    },
    {
      "cell_type": "code",
      "source": [
        "y_B4 = np.array(y_B4)\n",
        "y_B4"
      ],
      "metadata": {
        "colab": {
          "base_uri": "https://localhost:8080/"
        },
        "id": "iS9ITV8HglXY",
        "outputId": "9e77e69a-c9e1-44cc-d534-49e716bc69ce"
      },
      "execution_count": 93,
      "outputs": [
        {
          "output_type": "execute_result",
          "data": {
            "text/plain": [
              "array([['A1'],\n",
              "       ['A1'],\n",
              "       ['A1'],\n",
              "       ...,\n",
              "       ['D4'],\n",
              "       ['D4'],\n",
              "       ['D4']], dtype=object)"
            ]
          },
          "metadata": {},
          "execution_count": 93
        }
      ]
    },
    {
      "cell_type": "code",
      "source": [
        "X_test_B4, X_train_B4 , y_test_B4, y_train_B4 = train_test_split(X_B4, y_B4, test_size=80, train_size=320)"
      ],
      "metadata": {
        "id": "jSYuKeaDsxJd"
      },
      "execution_count": 94,
      "outputs": []
    },
    {
      "cell_type": "code",
      "source": [
        "clf.fit(X_train_B4, y_train_B4)"
      ],
      "metadata": {
        "colab": {
          "base_uri": "https://localhost:8080/"
        },
        "id": "DUYS0GvsglXY",
        "outputId": "162b5163-90c2-4ebf-edaa-fcca32ec8199"
      },
      "execution_count": 95,
      "outputs": [
        {
          "output_type": "stream",
          "name": "stderr",
          "text": [
            "/usr/local/lib/python3.7/dist-packages/sklearn/utils/validation.py:985: DataConversionWarning: A column-vector y was passed when a 1d array was expected. Please change the shape of y to (n_samples, ), for example using ravel().\n",
            "  y = column_or_1d(y, warn=True)\n"
          ]
        },
        {
          "output_type": "execute_result",
          "data": {
            "text/plain": [
              "SVC(kernel='poly')"
            ]
          },
          "metadata": {},
          "execution_count": 95
        }
      ]
    },
    {
      "cell_type": "code",
      "source": [
        "y_pred_B4 = clf.predict(X_test_B4)"
      ],
      "metadata": {
        "id": "_82eYzO8glXY"
      },
      "execution_count": 96,
      "outputs": []
    },
    {
      "cell_type": "code",
      "source": [
        "print(\"Accuracy:\", metrics.accuracy_score(y_test_B4, y_pred_B4))"
      ],
      "metadata": {
        "colab": {
          "base_uri": "https://localhost:8080/"
        },
        "id": "iVJSdzp9glXZ",
        "outputId": "fa92b9ff-3e43-4b07-9737-48c95d903408"
      },
      "execution_count": 97,
      "outputs": [
        {
          "output_type": "stream",
          "name": "stdout",
          "text": [
            "Accuracy: 0.096875\n"
          ]
        }
      ]
    },
    {
      "cell_type": "markdown",
      "source": [
        "#CC"
      ],
      "metadata": {
        "id": "pa2cYmLhh2F6"
      }
    },
    {
      "cell_type": "markdown",
      "source": [
        "##C1"
      ],
      "metadata": {
        "id": "AB7xN5H9h2F7"
      }
    },
    {
      "cell_type": "code",
      "source": [
        "table_C1= pd.read_excel(CC, sheet_name='C1')\n",
        "table_C1"
      ],
      "metadata": {
        "colab": {
          "base_uri": "https://localhost:8080/",
          "height": 832
        },
        "outputId": "4e5aeaf2-436a-4114-e968-9e3e9a39b1d1",
        "id": "xTF8P08bh2F7"
      },
      "execution_count": 98,
      "outputs": [
        {
          "output_type": "execute_result",
          "data": {
            "text/html": [
              "\n",
              "  <div id=\"df-f2ce8b57-60d0-435f-aa76-b629da9f19f3\">\n",
              "    <div class=\"colab-df-container\">\n",
              "      <div>\n",
              "<style scoped>\n",
              "    .dataframe tbody tr th:only-of-type {\n",
              "        vertical-align: middle;\n",
              "    }\n",
              "\n",
              "    .dataframe tbody tr th {\n",
              "        vertical-align: top;\n",
              "    }\n",
              "\n",
              "    .dataframe thead th {\n",
              "        text-align: right;\n",
              "    }\n",
              "</style>\n",
              "<table border=\"1\" class=\"dataframe\">\n",
              "  <thead>\n",
              "    <tr style=\"text-align: right;\">\n",
              "      <th></th>\n",
              "      <th>R-ref</th>\n",
              "      <th>G-ref</th>\n",
              "      <th>B-ref</th>\n",
              "      <th>R-Shad</th>\n",
              "      <th>G-Shad</th>\n",
              "      <th>B-Shad</th>\n",
              "      <th>H-ref</th>\n",
              "      <th>S-ref</th>\n",
              "      <th>V-ref</th>\n",
              "      <th>H-Shad</th>\n",
              "      <th>S-Shad</th>\n",
              "      <th>V-Shad</th>\n",
              "      <th>Shade-ref</th>\n",
              "      <th>Shade</th>\n",
              "      <th>Setting</th>\n",
              "      <th>Img</th>\n",
              "    </tr>\n",
              "  </thead>\n",
              "  <tbody>\n",
              "    <tr>\n",
              "      <th>0</th>\n",
              "      <td>235.799935</td>\n",
              "      <td>224.516030</td>\n",
              "      <td>190.873549</td>\n",
              "      <td>236.478202</td>\n",
              "      <td>225.354384</td>\n",
              "      <td>192.366332</td>\n",
              "      <td>22.539810</td>\n",
              "      <td>48.802938</td>\n",
              "      <td>235.882396</td>\n",
              "      <td>22.513975</td>\n",
              "      <td>47.750871</td>\n",
              "      <td>236.545338</td>\n",
              "      <td>C1</td>\n",
              "      <td>A1</td>\n",
              "      <td>Set1</td>\n",
              "      <td>998EA81C-77D0-4357-9197-D7AEAAAE4F91.png</td>\n",
              "    </tr>\n",
              "    <tr>\n",
              "      <th>1</th>\n",
              "      <td>238.009577</td>\n",
              "      <td>218.146498</td>\n",
              "      <td>168.652788</td>\n",
              "      <td>238.456155</td>\n",
              "      <td>218.892397</td>\n",
              "      <td>169.966219</td>\n",
              "      <td>21.391040</td>\n",
              "      <td>74.313854</td>\n",
              "      <td>238.009577</td>\n",
              "      <td>21.449968</td>\n",
              "      <td>73.265842</td>\n",
              "      <td>238.456155</td>\n",
              "      <td>C1</td>\n",
              "      <td>A1</td>\n",
              "      <td>Set1</td>\n",
              "      <td>C69EF426-D68B-4503-AFC0-A62E37CCB172.png</td>\n",
              "    </tr>\n",
              "    <tr>\n",
              "      <th>2</th>\n",
              "      <td>238.416687</td>\n",
              "      <td>212.713660</td>\n",
              "      <td>158.665693</td>\n",
              "      <td>239.056255</td>\n",
              "      <td>213.774056</td>\n",
              "      <td>160.482754</td>\n",
              "      <td>22.539810</td>\n",
              "      <td>48.802938</td>\n",
              "      <td>235.882396</td>\n",
              "      <td>22.513975</td>\n",
              "      <td>47.750871</td>\n",
              "      <td>236.545338</td>\n",
              "      <td>C1</td>\n",
              "      <td>A1</td>\n",
              "      <td>Set1</td>\n",
              "      <td>95C4078C-AD0D-4394-BCF6-9C2E1E7C2219.png</td>\n",
              "    </tr>\n",
              "    <tr>\n",
              "      <th>3</th>\n",
              "      <td>239.417986</td>\n",
              "      <td>227.436572</td>\n",
              "      <td>192.575603</td>\n",
              "      <td>239.889624</td>\n",
              "      <td>228.078444</td>\n",
              "      <td>193.459640</td>\n",
              "      <td>22.327571</td>\n",
              "      <td>49.921191</td>\n",
              "      <td>239.417986</td>\n",
              "      <td>22.373160</td>\n",
              "      <td>49.390157</td>\n",
              "      <td>239.889624</td>\n",
              "      <td>C1</td>\n",
              "      <td>A1</td>\n",
              "      <td>Set1</td>\n",
              "      <td>770F3E42-0415-48C8-AE28-664827DCDAAE.png</td>\n",
              "    </tr>\n",
              "    <tr>\n",
              "      <th>4</th>\n",
              "      <td>239.556448</td>\n",
              "      <td>216.784027</td>\n",
              "      <td>161.199740</td>\n",
              "      <td>240.061944</td>\n",
              "      <td>217.745111</td>\n",
              "      <td>163.031079</td>\n",
              "      <td>21.443146</td>\n",
              "      <td>83.446474</td>\n",
              "      <td>239.556448</td>\n",
              "      <td>21.478060</td>\n",
              "      <td>81.900078</td>\n",
              "      <td>240.062229</td>\n",
              "      <td>C1</td>\n",
              "      <td>A1</td>\n",
              "      <td>Set1</td>\n",
              "      <td>AFD98982-91EB-4E2A-BEA8-8FDCCC8F33E1.png</td>\n",
              "    </tr>\n",
              "    <tr>\n",
              "      <th>...</th>\n",
              "      <td>...</td>\n",
              "      <td>...</td>\n",
              "      <td>...</td>\n",
              "      <td>...</td>\n",
              "      <td>...</td>\n",
              "      <td>...</td>\n",
              "      <td>...</td>\n",
              "      <td>...</td>\n",
              "      <td>...</td>\n",
              "      <td>...</td>\n",
              "      <td>...</td>\n",
              "      <td>...</td>\n",
              "      <td>...</td>\n",
              "      <td>...</td>\n",
              "      <td>...</td>\n",
              "      <td>...</td>\n",
              "    </tr>\n",
              "    <tr>\n",
              "      <th>3195</th>\n",
              "      <td>219.796364</td>\n",
              "      <td>220.248600</td>\n",
              "      <td>203.640370</td>\n",
              "      <td>219.211934</td>\n",
              "      <td>219.766731</td>\n",
              "      <td>203.270322</td>\n",
              "      <td>31.111598</td>\n",
              "      <td>19.560669</td>\n",
              "      <td>220.568055</td>\n",
              "      <td>31.312851</td>\n",
              "      <td>19.433184</td>\n",
              "      <td>220.052343</td>\n",
              "      <td>C1</td>\n",
              "      <td>D4</td>\n",
              "      <td>Set4</td>\n",
              "      <td>F5353A8F-C3DA-49EB-8703-FE4D5E4FB54D.png</td>\n",
              "    </tr>\n",
              "    <tr>\n",
              "      <th>3196</th>\n",
              "      <td>215.312718</td>\n",
              "      <td>216.245759</td>\n",
              "      <td>196.157455</td>\n",
              "      <td>214.860323</td>\n",
              "      <td>215.754498</td>\n",
              "      <td>195.762108</td>\n",
              "      <td>28.454590</td>\n",
              "      <td>52.051295</td>\n",
              "      <td>221.314991</td>\n",
              "      <td>28.269469</td>\n",
              "      <td>52.384325</td>\n",
              "      <td>220.852002</td>\n",
              "      <td>C1</td>\n",
              "      <td>D4</td>\n",
              "      <td>Set4</td>\n",
              "      <td>E2AE5BAB-42F7-4FEA-B83B-C1BB26EF45AB.png</td>\n",
              "    </tr>\n",
              "    <tr>\n",
              "      <th>3197</th>\n",
              "      <td>215.690610</td>\n",
              "      <td>216.009902</td>\n",
              "      <td>196.406055</td>\n",
              "      <td>215.166773</td>\n",
              "      <td>215.486879</td>\n",
              "      <td>195.933291</td>\n",
              "      <td>30.849525</td>\n",
              "      <td>23.662609</td>\n",
              "      <td>216.485350</td>\n",
              "      <td>30.867293</td>\n",
              "      <td>23.636228</td>\n",
              "      <td>215.959036</td>\n",
              "      <td>C1</td>\n",
              "      <td>D4</td>\n",
              "      <td>Set4</td>\n",
              "      <td>3E52E4A6-956C-4393-A0F0-6856D436D35D.png</td>\n",
              "    </tr>\n",
              "    <tr>\n",
              "      <th>3198</th>\n",
              "      <td>213.749290</td>\n",
              "      <td>210.436328</td>\n",
              "      <td>181.714877</td>\n",
              "      <td>213.046725</td>\n",
              "      <td>209.822132</td>\n",
              "      <td>181.286679</td>\n",
              "      <td>26.683954</td>\n",
              "      <td>38.233260</td>\n",
              "      <td>213.749290</td>\n",
              "      <td>26.767157</td>\n",
              "      <td>38.010668</td>\n",
              "      <td>213.046725</td>\n",
              "      <td>C1</td>\n",
              "      <td>D4</td>\n",
              "      <td>Set4</td>\n",
              "      <td>E214531D-5D8E-4221-B946-5C9CCD1063F7.png</td>\n",
              "    </tr>\n",
              "    <tr>\n",
              "      <th>3199</th>\n",
              "      <td>211.214674</td>\n",
              "      <td>204.185537</td>\n",
              "      <td>158.897330</td>\n",
              "      <td>210.905910</td>\n",
              "      <td>203.783372</td>\n",
              "      <td>158.707275</td>\n",
              "      <td>26.202337</td>\n",
              "      <td>63.120039</td>\n",
              "      <td>211.214674</td>\n",
              "      <td>26.147358</td>\n",
              "      <td>63.070194</td>\n",
              "      <td>210.905910</td>\n",
              "      <td>C1</td>\n",
              "      <td>D4</td>\n",
              "      <td>Set4</td>\n",
              "      <td>3629EEB4-D148-4445-A00D-48AAA98C7F77.png</td>\n",
              "    </tr>\n",
              "  </tbody>\n",
              "</table>\n",
              "<p>3200 rows × 16 columns</p>\n",
              "</div>\n",
              "      <button class=\"colab-df-convert\" onclick=\"convertToInteractive('df-f2ce8b57-60d0-435f-aa76-b629da9f19f3')\"\n",
              "              title=\"Convert this dataframe to an interactive table.\"\n",
              "              style=\"display:none;\">\n",
              "        \n",
              "  <svg xmlns=\"http://www.w3.org/2000/svg\" height=\"24px\"viewBox=\"0 0 24 24\"\n",
              "       width=\"24px\">\n",
              "    <path d=\"M0 0h24v24H0V0z\" fill=\"none\"/>\n",
              "    <path d=\"M18.56 5.44l.94 2.06.94-2.06 2.06-.94-2.06-.94-.94-2.06-.94 2.06-2.06.94zm-11 1L8.5 8.5l.94-2.06 2.06-.94-2.06-.94L8.5 2.5l-.94 2.06-2.06.94zm10 10l.94 2.06.94-2.06 2.06-.94-2.06-.94-.94-2.06-.94 2.06-2.06.94z\"/><path d=\"M17.41 7.96l-1.37-1.37c-.4-.4-.92-.59-1.43-.59-.52 0-1.04.2-1.43.59L10.3 9.45l-7.72 7.72c-.78.78-.78 2.05 0 2.83L4 21.41c.39.39.9.59 1.41.59.51 0 1.02-.2 1.41-.59l7.78-7.78 2.81-2.81c.8-.78.8-2.07 0-2.86zM5.41 20L4 18.59l7.72-7.72 1.47 1.35L5.41 20z\"/>\n",
              "  </svg>\n",
              "      </button>\n",
              "      \n",
              "  <style>\n",
              "    .colab-df-container {\n",
              "      display:flex;\n",
              "      flex-wrap:wrap;\n",
              "      gap: 12px;\n",
              "    }\n",
              "\n",
              "    .colab-df-convert {\n",
              "      background-color: #E8F0FE;\n",
              "      border: none;\n",
              "      border-radius: 50%;\n",
              "      cursor: pointer;\n",
              "      display: none;\n",
              "      fill: #1967D2;\n",
              "      height: 32px;\n",
              "      padding: 0 0 0 0;\n",
              "      width: 32px;\n",
              "    }\n",
              "\n",
              "    .colab-df-convert:hover {\n",
              "      background-color: #E2EBFA;\n",
              "      box-shadow: 0px 1px 2px rgba(60, 64, 67, 0.3), 0px 1px 3px 1px rgba(60, 64, 67, 0.15);\n",
              "      fill: #174EA6;\n",
              "    }\n",
              "\n",
              "    [theme=dark] .colab-df-convert {\n",
              "      background-color: #3B4455;\n",
              "      fill: #D2E3FC;\n",
              "    }\n",
              "\n",
              "    [theme=dark] .colab-df-convert:hover {\n",
              "      background-color: #434B5C;\n",
              "      box-shadow: 0px 1px 3px 1px rgba(0, 0, 0, 0.15);\n",
              "      filter: drop-shadow(0px 1px 2px rgba(0, 0, 0, 0.3));\n",
              "      fill: #FFFFFF;\n",
              "    }\n",
              "  </style>\n",
              "\n",
              "      <script>\n",
              "        const buttonEl =\n",
              "          document.querySelector('#df-f2ce8b57-60d0-435f-aa76-b629da9f19f3 button.colab-df-convert');\n",
              "        buttonEl.style.display =\n",
              "          google.colab.kernel.accessAllowed ? 'block' : 'none';\n",
              "\n",
              "        async function convertToInteractive(key) {\n",
              "          const element = document.querySelector('#df-f2ce8b57-60d0-435f-aa76-b629da9f19f3');\n",
              "          const dataTable =\n",
              "            await google.colab.kernel.invokeFunction('convertToInteractive',\n",
              "                                                     [key], {});\n",
              "          if (!dataTable) return;\n",
              "\n",
              "          const docLinkHtml = 'Like what you see? Visit the ' +\n",
              "            '<a target=\"_blank\" href=https://colab.research.google.com/notebooks/data_table.ipynb>data table notebook</a>'\n",
              "            + ' to learn more about interactive tables.';\n",
              "          element.innerHTML = '';\n",
              "          dataTable['output_type'] = 'display_data';\n",
              "          await google.colab.output.renderOutput(dataTable, element);\n",
              "          const docLink = document.createElement('div');\n",
              "          docLink.innerHTML = docLinkHtml;\n",
              "          element.appendChild(docLink);\n",
              "        }\n",
              "      </script>\n",
              "    </div>\n",
              "  </div>\n",
              "  "
            ],
            "text/plain": [
              "           R-ref       G-ref  ...  Setting                                       Img\n",
              "0     235.799935  224.516030  ...     Set1  998EA81C-77D0-4357-9197-D7AEAAAE4F91.png\n",
              "1     238.009577  218.146498  ...     Set1  C69EF426-D68B-4503-AFC0-A62E37CCB172.png\n",
              "2     238.416687  212.713660  ...     Set1  95C4078C-AD0D-4394-BCF6-9C2E1E7C2219.png\n",
              "3     239.417986  227.436572  ...     Set1  770F3E42-0415-48C8-AE28-664827DCDAAE.png\n",
              "4     239.556448  216.784027  ...     Set1  AFD98982-91EB-4E2A-BEA8-8FDCCC8F33E1.png\n",
              "...          ...         ...  ...      ...                                       ...\n",
              "3195  219.796364  220.248600  ...     Set4  F5353A8F-C3DA-49EB-8703-FE4D5E4FB54D.png\n",
              "3196  215.312718  216.245759  ...     Set4  E2AE5BAB-42F7-4FEA-B83B-C1BB26EF45AB.png\n",
              "3197  215.690610  216.009902  ...     Set4  3E52E4A6-956C-4393-A0F0-6856D436D35D.png\n",
              "3198  213.749290  210.436328  ...     Set4  E214531D-5D8E-4221-B946-5C9CCD1063F7.png\n",
              "3199  211.214674  204.185537  ...     Set4  3629EEB4-D148-4445-A00D-48AAA98C7F77.png\n",
              "\n",
              "[3200 rows x 16 columns]"
            ]
          },
          "metadata": {},
          "execution_count": 98
        }
      ]
    },
    {
      "cell_type": "code",
      "source": [
        "RGB_C1 = table_C1.drop(['H-ref','S-ref','V-ref','S-Shad','V-Shad','Shade-ref','Setting','Img','Shade','H-Shad'], axis=1)"
      ],
      "metadata": {
        "id": "cSFNNKqPh2F7"
      },
      "execution_count": 99,
      "outputs": []
    },
    {
      "cell_type": "code",
      "source": [
        "X_C1 = np.array(RGB_C1)"
      ],
      "metadata": {
        "id": "ukkugqpDh2F7"
      },
      "execution_count": 100,
      "outputs": []
    },
    {
      "cell_type": "code",
      "source": [
        "y_C1 =  table_C1.iloc[:,13:14]"
      ],
      "metadata": {
        "id": "pQKJHlrHh2F7"
      },
      "execution_count": 101,
      "outputs": []
    },
    {
      "cell_type": "code",
      "source": [
        "y_C1 = np.array(y_C1)\n",
        "y_C1"
      ],
      "metadata": {
        "outputId": "a699996b-639b-4156-eb6e-cc6b919d0521",
        "colab": {
          "base_uri": "https://localhost:8080/"
        },
        "id": "hJiuhBLrh2F7"
      },
      "execution_count": 102,
      "outputs": [
        {
          "output_type": "execute_result",
          "data": {
            "text/plain": [
              "array([['A1'],\n",
              "       ['A1'],\n",
              "       ['A1'],\n",
              "       ...,\n",
              "       ['D4'],\n",
              "       ['D4'],\n",
              "       ['D4']], dtype=object)"
            ]
          },
          "metadata": {},
          "execution_count": 102
        }
      ]
    },
    {
      "cell_type": "code",
      "source": [
        "X_test_C1, X_train_C1 , y_test_C1, y_train_C1 = train_test_split(X_C1, y_C1, test_size=80, train_size=320)"
      ],
      "metadata": {
        "id": "XxZKUcpSs6f6"
      },
      "execution_count": 103,
      "outputs": []
    },
    {
      "cell_type": "code",
      "source": [
        "clf.fit(X_train_C1, y_train_C1)"
      ],
      "metadata": {
        "outputId": "877f5414-21f1-454b-bbcf-e1355782243d",
        "colab": {
          "base_uri": "https://localhost:8080/"
        },
        "id": "DyACr8Nxh2F8"
      },
      "execution_count": 104,
      "outputs": [
        {
          "output_type": "stream",
          "name": "stderr",
          "text": [
            "/usr/local/lib/python3.7/dist-packages/sklearn/utils/validation.py:985: DataConversionWarning: A column-vector y was passed when a 1d array was expected. Please change the shape of y to (n_samples, ), for example using ravel().\n",
            "  y = column_or_1d(y, warn=True)\n"
          ]
        },
        {
          "output_type": "execute_result",
          "data": {
            "text/plain": [
              "SVC(kernel='poly')"
            ]
          },
          "metadata": {},
          "execution_count": 104
        }
      ]
    },
    {
      "cell_type": "code",
      "source": [
        "y_pred_C1 = clf.predict(X_test_C1)"
      ],
      "metadata": {
        "id": "LcKXgJpfh2F8"
      },
      "execution_count": 105,
      "outputs": []
    },
    {
      "cell_type": "code",
      "source": [
        "print(\"Accuracy:\", metrics.accuracy_score(y_test_C1, y_pred_C1))"
      ],
      "metadata": {
        "outputId": "5e54b102-4d03-4641-af2b-0d1096cebc90",
        "colab": {
          "base_uri": "https://localhost:8080/"
        },
        "id": "-2dT_KpMh2F8"
      },
      "execution_count": 106,
      "outputs": [
        {
          "output_type": "stream",
          "name": "stdout",
          "text": [
            "Accuracy: 0.115625\n"
          ]
        }
      ]
    },
    {
      "cell_type": "markdown",
      "source": [
        "##C2"
      ],
      "metadata": {
        "id": "MfMRIbk1h2F8"
      }
    },
    {
      "cell_type": "code",
      "source": [
        "table_C2= pd.read_excel(CC, sheet_name='C2')\n",
        "table_C2"
      ],
      "metadata": {
        "colab": {
          "base_uri": "https://localhost:8080/",
          "height": 832
        },
        "outputId": "c4cc7ddb-6329-4e52-ac91-17dbd1523690",
        "id": "Ab4Hfvr7h2F8"
      },
      "execution_count": 107,
      "outputs": [
        {
          "output_type": "execute_result",
          "data": {
            "text/html": [
              "\n",
              "  <div id=\"df-d8e9fbab-6e25-4227-ad08-d8489e5dcb22\">\n",
              "    <div class=\"colab-df-container\">\n",
              "      <div>\n",
              "<style scoped>\n",
              "    .dataframe tbody tr th:only-of-type {\n",
              "        vertical-align: middle;\n",
              "    }\n",
              "\n",
              "    .dataframe tbody tr th {\n",
              "        vertical-align: top;\n",
              "    }\n",
              "\n",
              "    .dataframe thead th {\n",
              "        text-align: right;\n",
              "    }\n",
              "</style>\n",
              "<table border=\"1\" class=\"dataframe\">\n",
              "  <thead>\n",
              "    <tr style=\"text-align: right;\">\n",
              "      <th></th>\n",
              "      <th>R-ref</th>\n",
              "      <th>G-ref</th>\n",
              "      <th>B-ref</th>\n",
              "      <th>R-Shad</th>\n",
              "      <th>G-Shad</th>\n",
              "      <th>B-Shad</th>\n",
              "      <th>H-ref</th>\n",
              "      <th>S-ref</th>\n",
              "      <th>V-ref</th>\n",
              "      <th>H-Shad</th>\n",
              "      <th>S-Shad</th>\n",
              "      <th>V-Shad</th>\n",
              "      <th>Shade-ref</th>\n",
              "      <th>Shade</th>\n",
              "      <th>Setting</th>\n",
              "      <th>Img</th>\n",
              "    </tr>\n",
              "  </thead>\n",
              "  <tbody>\n",
              "    <tr>\n",
              "      <th>0</th>\n",
              "      <td>232.175960</td>\n",
              "      <td>216.874036</td>\n",
              "      <td>178.708465</td>\n",
              "      <td>232.964654</td>\n",
              "      <td>217.832160</td>\n",
              "      <td>180.185122</td>\n",
              "      <td>21.562292</td>\n",
              "      <td>58.762357</td>\n",
              "      <td>232.175960</td>\n",
              "      <td>21.513975</td>\n",
              "      <td>57.839201</td>\n",
              "      <td>232.964654</td>\n",
              "      <td>C2</td>\n",
              "      <td>A1</td>\n",
              "      <td>Set1</td>\n",
              "      <td>94B8BCF4-0790-415E-94D6-F74A6D812F9C.png</td>\n",
              "    </tr>\n",
              "    <tr>\n",
              "      <th>1</th>\n",
              "      <td>231.726077</td>\n",
              "      <td>211.455077</td>\n",
              "      <td>167.223440</td>\n",
              "      <td>232.533177</td>\n",
              "      <td>212.551597</td>\n",
              "      <td>168.982505</td>\n",
              "      <td>20.556367</td>\n",
              "      <td>71.019641</td>\n",
              "      <td>231.726077</td>\n",
              "      <td>20.552237</td>\n",
              "      <td>69.773771</td>\n",
              "      <td>232.533177</td>\n",
              "      <td>C2</td>\n",
              "      <td>A1</td>\n",
              "      <td>Set1</td>\n",
              "      <td>6C2D0804-8381-4BFF-BF38-C0AC1273E618.png</td>\n",
              "    </tr>\n",
              "    <tr>\n",
              "      <th>2</th>\n",
              "      <td>226.100641</td>\n",
              "      <td>197.575278</td>\n",
              "      <td>146.748235</td>\n",
              "      <td>226.795889</td>\n",
              "      <td>198.548539</td>\n",
              "      <td>147.966148</td>\n",
              "      <td>19.189595</td>\n",
              "      <td>89.497849</td>\n",
              "      <td>226.100641</td>\n",
              "      <td>19.239457</td>\n",
              "      <td>88.650238</td>\n",
              "      <td>226.795889</td>\n",
              "      <td>C2</td>\n",
              "      <td>A1</td>\n",
              "      <td>Set1</td>\n",
              "      <td>8BD8561A-0908-4A45-9B23-E1BB2A03640B.png</td>\n",
              "    </tr>\n",
              "    <tr>\n",
              "      <th>3</th>\n",
              "      <td>230.612531</td>\n",
              "      <td>207.562373</td>\n",
              "      <td>164.211752</td>\n",
              "      <td>231.210796</td>\n",
              "      <td>208.351682</td>\n",
              "      <td>165.428561</td>\n",
              "      <td>19.566594</td>\n",
              "      <td>73.461651</td>\n",
              "      <td>230.612531</td>\n",
              "      <td>19.550743</td>\n",
              "      <td>72.606500</td>\n",
              "      <td>231.210796</td>\n",
              "      <td>C2</td>\n",
              "      <td>A1</td>\n",
              "      <td>Set1</td>\n",
              "      <td>6021A5FE-EFB1-4650-84F4-27408DAFC2BA.png</td>\n",
              "    </tr>\n",
              "    <tr>\n",
              "      <th>4</th>\n",
              "      <td>232.133431</td>\n",
              "      <td>209.823472</td>\n",
              "      <td>160.814707</td>\n",
              "      <td>232.841548</td>\n",
              "      <td>211.054264</td>\n",
              "      <td>163.067989</td>\n",
              "      <td>20.814463</td>\n",
              "      <td>78.373996</td>\n",
              "      <td>232.133431</td>\n",
              "      <td>20.855487</td>\n",
              "      <td>76.523434</td>\n",
              "      <td>232.841832</td>\n",
              "      <td>C2</td>\n",
              "      <td>A1</td>\n",
              "      <td>Set1</td>\n",
              "      <td>1D2C4DD2-FF5D-446F-ADC8-BB6C6E19BF79.png</td>\n",
              "    </tr>\n",
              "    <tr>\n",
              "      <th>...</th>\n",
              "      <td>...</td>\n",
              "      <td>...</td>\n",
              "      <td>...</td>\n",
              "      <td>...</td>\n",
              "      <td>...</td>\n",
              "      <td>...</td>\n",
              "      <td>...</td>\n",
              "      <td>...</td>\n",
              "      <td>...</td>\n",
              "      <td>...</td>\n",
              "      <td>...</td>\n",
              "      <td>...</td>\n",
              "      <td>...</td>\n",
              "      <td>...</td>\n",
              "      <td>...</td>\n",
              "      <td>...</td>\n",
              "    </tr>\n",
              "    <tr>\n",
              "      <th>3195</th>\n",
              "      <td>227.208912</td>\n",
              "      <td>204.784677</td>\n",
              "      <td>153.067527</td>\n",
              "      <td>227.125098</td>\n",
              "      <td>204.707844</td>\n",
              "      <td>153.220326</td>\n",
              "      <td>21.013148</td>\n",
              "      <td>83.231394</td>\n",
              "      <td>227.208912</td>\n",
              "      <td>20.985563</td>\n",
              "      <td>82.996017</td>\n",
              "      <td>227.125098</td>\n",
              "      <td>C2</td>\n",
              "      <td>D4</td>\n",
              "      <td>Set4</td>\n",
              "      <td>59EF4224-39B2-41CA-8A14-279C72EAE105.png</td>\n",
              "    </tr>\n",
              "    <tr>\n",
              "      <th>3196</th>\n",
              "      <td>227.348430</td>\n",
              "      <td>209.548413</td>\n",
              "      <td>163.740037</td>\n",
              "      <td>227.223597</td>\n",
              "      <td>209.412062</td>\n",
              "      <td>163.581822</td>\n",
              "      <td>21.552471</td>\n",
              "      <td>92.870627</td>\n",
              "      <td>226.550118</td>\n",
              "      <td>21.542280</td>\n",
              "      <td>92.832302</td>\n",
              "      <td>226.478202</td>\n",
              "      <td>C2</td>\n",
              "      <td>D4</td>\n",
              "      <td>Set4</td>\n",
              "      <td>ADFBFD6B-EDBD-4658-A799-E4CC1524A572.png</td>\n",
              "    </tr>\n",
              "    <tr>\n",
              "      <th>3197</th>\n",
              "      <td>228.715039</td>\n",
              "      <td>210.816573</td>\n",
              "      <td>163.746611</td>\n",
              "      <td>228.637935</td>\n",
              "      <td>210.715241</td>\n",
              "      <td>163.723775</td>\n",
              "      <td>21.996185</td>\n",
              "      <td>72.452480</td>\n",
              "      <td>228.715039</td>\n",
              "      <td>21.988550</td>\n",
              "      <td>72.419387</td>\n",
              "      <td>228.637935</td>\n",
              "      <td>C2</td>\n",
              "      <td>D4</td>\n",
              "      <td>Set4</td>\n",
              "      <td>D919581E-CAD5-4BF6-9DA9-368BA4900F90.png</td>\n",
              "    </tr>\n",
              "    <tr>\n",
              "      <th>3198</th>\n",
              "      <td>219.748641</td>\n",
              "      <td>196.876877</td>\n",
              "      <td>146.418067</td>\n",
              "      <td>219.813456</td>\n",
              "      <td>196.959036</td>\n",
              "      <td>146.619373</td>\n",
              "      <td>20.830290</td>\n",
              "      <td>85.116630</td>\n",
              "      <td>219.748641</td>\n",
              "      <td>20.827324</td>\n",
              "      <td>84.925254</td>\n",
              "      <td>219.813456</td>\n",
              "      <td>C2</td>\n",
              "      <td>D4</td>\n",
              "      <td>Set4</td>\n",
              "      <td>8254092E-E246-4572-81B9-62F1A8C01DC7.png</td>\n",
              "    </tr>\n",
              "    <tr>\n",
              "      <th>3199</th>\n",
              "      <td>216.765685</td>\n",
              "      <td>186.699862</td>\n",
              "      <td>125.861131</td>\n",
              "      <td>217.014153</td>\n",
              "      <td>186.901145</td>\n",
              "      <td>126.071403</td>\n",
              "      <td>20.019804</td>\n",
              "      <td>107.036280</td>\n",
              "      <td>216.765685</td>\n",
              "      <td>20.008534</td>\n",
              "      <td>106.946590</td>\n",
              "      <td>217.014153</td>\n",
              "      <td>C2</td>\n",
              "      <td>D4</td>\n",
              "      <td>Set4</td>\n",
              "      <td>A6E5EDF5-CEF0-4E19-9101-A003BDC0202C.png</td>\n",
              "    </tr>\n",
              "  </tbody>\n",
              "</table>\n",
              "<p>3200 rows × 16 columns</p>\n",
              "</div>\n",
              "      <button class=\"colab-df-convert\" onclick=\"convertToInteractive('df-d8e9fbab-6e25-4227-ad08-d8489e5dcb22')\"\n",
              "              title=\"Convert this dataframe to an interactive table.\"\n",
              "              style=\"display:none;\">\n",
              "        \n",
              "  <svg xmlns=\"http://www.w3.org/2000/svg\" height=\"24px\"viewBox=\"0 0 24 24\"\n",
              "       width=\"24px\">\n",
              "    <path d=\"M0 0h24v24H0V0z\" fill=\"none\"/>\n",
              "    <path d=\"M18.56 5.44l.94 2.06.94-2.06 2.06-.94-2.06-.94-.94-2.06-.94 2.06-2.06.94zm-11 1L8.5 8.5l.94-2.06 2.06-.94-2.06-.94L8.5 2.5l-.94 2.06-2.06.94zm10 10l.94 2.06.94-2.06 2.06-.94-2.06-.94-.94-2.06-.94 2.06-2.06.94z\"/><path d=\"M17.41 7.96l-1.37-1.37c-.4-.4-.92-.59-1.43-.59-.52 0-1.04.2-1.43.59L10.3 9.45l-7.72 7.72c-.78.78-.78 2.05 0 2.83L4 21.41c.39.39.9.59 1.41.59.51 0 1.02-.2 1.41-.59l7.78-7.78 2.81-2.81c.8-.78.8-2.07 0-2.86zM5.41 20L4 18.59l7.72-7.72 1.47 1.35L5.41 20z\"/>\n",
              "  </svg>\n",
              "      </button>\n",
              "      \n",
              "  <style>\n",
              "    .colab-df-container {\n",
              "      display:flex;\n",
              "      flex-wrap:wrap;\n",
              "      gap: 12px;\n",
              "    }\n",
              "\n",
              "    .colab-df-convert {\n",
              "      background-color: #E8F0FE;\n",
              "      border: none;\n",
              "      border-radius: 50%;\n",
              "      cursor: pointer;\n",
              "      display: none;\n",
              "      fill: #1967D2;\n",
              "      height: 32px;\n",
              "      padding: 0 0 0 0;\n",
              "      width: 32px;\n",
              "    }\n",
              "\n",
              "    .colab-df-convert:hover {\n",
              "      background-color: #E2EBFA;\n",
              "      box-shadow: 0px 1px 2px rgba(60, 64, 67, 0.3), 0px 1px 3px 1px rgba(60, 64, 67, 0.15);\n",
              "      fill: #174EA6;\n",
              "    }\n",
              "\n",
              "    [theme=dark] .colab-df-convert {\n",
              "      background-color: #3B4455;\n",
              "      fill: #D2E3FC;\n",
              "    }\n",
              "\n",
              "    [theme=dark] .colab-df-convert:hover {\n",
              "      background-color: #434B5C;\n",
              "      box-shadow: 0px 1px 3px 1px rgba(0, 0, 0, 0.15);\n",
              "      filter: drop-shadow(0px 1px 2px rgba(0, 0, 0, 0.3));\n",
              "      fill: #FFFFFF;\n",
              "    }\n",
              "  </style>\n",
              "\n",
              "      <script>\n",
              "        const buttonEl =\n",
              "          document.querySelector('#df-d8e9fbab-6e25-4227-ad08-d8489e5dcb22 button.colab-df-convert');\n",
              "        buttonEl.style.display =\n",
              "          google.colab.kernel.accessAllowed ? 'block' : 'none';\n",
              "\n",
              "        async function convertToInteractive(key) {\n",
              "          const element = document.querySelector('#df-d8e9fbab-6e25-4227-ad08-d8489e5dcb22');\n",
              "          const dataTable =\n",
              "            await google.colab.kernel.invokeFunction('convertToInteractive',\n",
              "                                                     [key], {});\n",
              "          if (!dataTable) return;\n",
              "\n",
              "          const docLinkHtml = 'Like what you see? Visit the ' +\n",
              "            '<a target=\"_blank\" href=https://colab.research.google.com/notebooks/data_table.ipynb>data table notebook</a>'\n",
              "            + ' to learn more about interactive tables.';\n",
              "          element.innerHTML = '';\n",
              "          dataTable['output_type'] = 'display_data';\n",
              "          await google.colab.output.renderOutput(dataTable, element);\n",
              "          const docLink = document.createElement('div');\n",
              "          docLink.innerHTML = docLinkHtml;\n",
              "          element.appendChild(docLink);\n",
              "        }\n",
              "      </script>\n",
              "    </div>\n",
              "  </div>\n",
              "  "
            ],
            "text/plain": [
              "           R-ref       G-ref  ...  Setting                                       Img\n",
              "0     232.175960  216.874036  ...     Set1  94B8BCF4-0790-415E-94D6-F74A6D812F9C.png\n",
              "1     231.726077  211.455077  ...     Set1  6C2D0804-8381-4BFF-BF38-C0AC1273E618.png\n",
              "2     226.100641  197.575278  ...     Set1  8BD8561A-0908-4A45-9B23-E1BB2A03640B.png\n",
              "3     230.612531  207.562373  ...     Set1  6021A5FE-EFB1-4650-84F4-27408DAFC2BA.png\n",
              "4     232.133431  209.823472  ...     Set1  1D2C4DD2-FF5D-446F-ADC8-BB6C6E19BF79.png\n",
              "...          ...         ...  ...      ...                                       ...\n",
              "3195  227.208912  204.784677  ...     Set4  59EF4224-39B2-41CA-8A14-279C72EAE105.png\n",
              "3196  227.348430  209.548413  ...     Set4  ADFBFD6B-EDBD-4658-A799-E4CC1524A572.png\n",
              "3197  228.715039  210.816573  ...     Set4  D919581E-CAD5-4BF6-9DA9-368BA4900F90.png\n",
              "3198  219.748641  196.876877  ...     Set4  8254092E-E246-4572-81B9-62F1A8C01DC7.png\n",
              "3199  216.765685  186.699862  ...     Set4  A6E5EDF5-CEF0-4E19-9101-A003BDC0202C.png\n",
              "\n",
              "[3200 rows x 16 columns]"
            ]
          },
          "metadata": {},
          "execution_count": 107
        }
      ]
    },
    {
      "cell_type": "code",
      "source": [
        "RGB_C2 = table_C2.drop(['H-ref','S-ref','V-ref','S-Shad','V-Shad','Shade-ref','Setting','Img','Shade','H-Shad'], axis=1)"
      ],
      "metadata": {
        "id": "mZQC9UZ9h2F8"
      },
      "execution_count": 108,
      "outputs": []
    },
    {
      "cell_type": "code",
      "source": [
        "X_C2 = np.array(RGB_C2)"
      ],
      "metadata": {
        "id": "-NwQtrk2h2F8"
      },
      "execution_count": 109,
      "outputs": []
    },
    {
      "cell_type": "code",
      "source": [
        "y_C2 =  table_C1.iloc[:,13:14]"
      ],
      "metadata": {
        "id": "YjdaPe_-DRr-"
      },
      "execution_count": 112,
      "outputs": []
    },
    {
      "cell_type": "code",
      "source": [
        "y_C2= np.array(y_C2)\n",
        "y_C2"
      ],
      "metadata": {
        "outputId": "386ff056-a760-4334-e7f3-5df1580b8745",
        "colab": {
          "base_uri": "https://localhost:8080/"
        },
        "id": "7l6PEq3Lh2F8"
      },
      "execution_count": 113,
      "outputs": [
        {
          "output_type": "execute_result",
          "data": {
            "text/plain": [
              "array([['A1'],\n",
              "       ['A1'],\n",
              "       ['A1'],\n",
              "       ...,\n",
              "       ['D4'],\n",
              "       ['D4'],\n",
              "       ['D4']], dtype=object)"
            ]
          },
          "metadata": {},
          "execution_count": 113
        }
      ]
    },
    {
      "cell_type": "code",
      "source": [
        "X_test_C2, X_train_C2 , y_test_C2, y_train_C2 = train_test_split(X_C2, y_C2, test_size=80, train_size=320)"
      ],
      "metadata": {
        "id": "EIzgQG1bl49I"
      },
      "execution_count": 114,
      "outputs": []
    },
    {
      "cell_type": "code",
      "source": [
        "clf.fit(X_train_C2, y_train_C2)"
      ],
      "metadata": {
        "outputId": "4cd3457c-9f8b-4053-f334-d986be17bef0",
        "colab": {
          "base_uri": "https://localhost:8080/"
        },
        "id": "o1uxF1FBh2F9"
      },
      "execution_count": 115,
      "outputs": [
        {
          "output_type": "stream",
          "name": "stderr",
          "text": [
            "/usr/local/lib/python3.7/dist-packages/sklearn/utils/validation.py:985: DataConversionWarning: A column-vector y was passed when a 1d array was expected. Please change the shape of y to (n_samples, ), for example using ravel().\n",
            "  y = column_or_1d(y, warn=True)\n"
          ]
        },
        {
          "output_type": "execute_result",
          "data": {
            "text/plain": [
              "SVC(kernel='poly')"
            ]
          },
          "metadata": {},
          "execution_count": 115
        }
      ]
    },
    {
      "cell_type": "code",
      "source": [
        "y_pred_C2 = clf.predict(X_test_C2)"
      ],
      "metadata": {
        "id": "U6euJ8tqh2F9"
      },
      "execution_count": 116,
      "outputs": []
    },
    {
      "cell_type": "code",
      "source": [
        "print(\"Accuracy:\", metrics.accuracy_score(y_test_C2, y_pred_C2))"
      ],
      "metadata": {
        "outputId": "5a35cb0f-d087-4332-9382-fac2147deaa4",
        "colab": {
          "base_uri": "https://localhost:8080/"
        },
        "id": "0r4ybFtGh2F9"
      },
      "execution_count": 117,
      "outputs": [
        {
          "output_type": "stream",
          "name": "stdout",
          "text": [
            "Accuracy: 0.1375\n"
          ]
        }
      ]
    },
    {
      "cell_type": "markdown",
      "source": [
        "##C3"
      ],
      "metadata": {
        "id": "R6ktsNUGh2F9"
      }
    },
    {
      "cell_type": "code",
      "source": [
        "table_C3= pd.read_excel(CC, sheet_name='C3')\n",
        "table_C3"
      ],
      "metadata": {
        "colab": {
          "base_uri": "https://localhost:8080/",
          "height": 0
        },
        "outputId": "5bea191e-0e69-4976-8f0c-26219ea26dea",
        "id": "46avtko8h2F9"
      },
      "execution_count": 118,
      "outputs": [
        {
          "output_type": "execute_result",
          "data": {
            "text/html": [
              "\n",
              "  <div id=\"df-b4bd8668-2854-4a1d-926b-2a6b96ee8bc9\">\n",
              "    <div class=\"colab-df-container\">\n",
              "      <div>\n",
              "<style scoped>\n",
              "    .dataframe tbody tr th:only-of-type {\n",
              "        vertical-align: middle;\n",
              "    }\n",
              "\n",
              "    .dataframe tbody tr th {\n",
              "        vertical-align: top;\n",
              "    }\n",
              "\n",
              "    .dataframe thead th {\n",
              "        text-align: right;\n",
              "    }\n",
              "</style>\n",
              "<table border=\"1\" class=\"dataframe\">\n",
              "  <thead>\n",
              "    <tr style=\"text-align: right;\">\n",
              "      <th></th>\n",
              "      <th>R-ref</th>\n",
              "      <th>G-ref</th>\n",
              "      <th>B-ref</th>\n",
              "      <th>R-Shad</th>\n",
              "      <th>G-Shad</th>\n",
              "      <th>B-Shad</th>\n",
              "      <th>H-ref</th>\n",
              "      <th>S-ref</th>\n",
              "      <th>V-ref</th>\n",
              "      <th>H-Shad</th>\n",
              "      <th>S-Shad</th>\n",
              "      <th>V-Shad</th>\n",
              "      <th>Shade-ref</th>\n",
              "      <th>Shade</th>\n",
              "      <th>Setting</th>\n",
              "      <th>Img</th>\n",
              "    </tr>\n",
              "  </thead>\n",
              "  <tbody>\n",
              "    <tr>\n",
              "      <th>0</th>\n",
              "      <td>229.674702</td>\n",
              "      <td>206.699294</td>\n",
              "      <td>151.959338</td>\n",
              "      <td>229.372164</td>\n",
              "      <td>206.348482</td>\n",
              "      <td>151.724628</td>\n",
              "      <td>21.243162</td>\n",
              "      <td>86.251116</td>\n",
              "      <td>229.674702</td>\n",
              "      <td>21.221179</td>\n",
              "      <td>86.286751</td>\n",
              "      <td>229.372164</td>\n",
              "      <td>C3</td>\n",
              "      <td>A1</td>\n",
              "      <td>Set1</td>\n",
              "      <td>8397A717-3D12-4648-BD3F-CE1F787AB8C2.png</td>\n",
              "    </tr>\n",
              "    <tr>\n",
              "      <th>1</th>\n",
              "      <td>226.000406</td>\n",
              "      <td>203.723886</td>\n",
              "      <td>143.303871</td>\n",
              "      <td>225.820923</td>\n",
              "      <td>203.576844</td>\n",
              "      <td>143.258516</td>\n",
              "      <td>22.008116</td>\n",
              "      <td>93.349160</td>\n",
              "      <td>226.000406</td>\n",
              "      <td>22.015291</td>\n",
              "      <td>93.267193</td>\n",
              "      <td>225.820923</td>\n",
              "      <td>C3</td>\n",
              "      <td>A1</td>\n",
              "      <td>Set1</td>\n",
              "      <td>A9FD8AA5-8101-465A-B35F-6E192FDA7776.png</td>\n",
              "    </tr>\n",
              "    <tr>\n",
              "      <th>2</th>\n",
              "      <td>224.442172</td>\n",
              "      <td>206.266618</td>\n",
              "      <td>160.178557</td>\n",
              "      <td>222.176730</td>\n",
              "      <td>203.953275</td>\n",
              "      <td>158.401181</td>\n",
              "      <td>21.786219</td>\n",
              "      <td>73.045126</td>\n",
              "      <td>224.442172</td>\n",
              "      <td>21.750942</td>\n",
              "      <td>73.266908</td>\n",
              "      <td>222.176730</td>\n",
              "      <td>C3</td>\n",
              "      <td>A1</td>\n",
              "      <td>Set1</td>\n",
              "      <td>D8B8E0A9-7FD9-444D-9917-BEC6A0BCA620.png</td>\n",
              "    </tr>\n",
              "    <tr>\n",
              "      <th>3</th>\n",
              "      <td>223.874199</td>\n",
              "      <td>201.225956</td>\n",
              "      <td>149.612613</td>\n",
              "      <td>222.262357</td>\n",
              "      <td>195.465899</td>\n",
              "      <td>140.510063</td>\n",
              "      <td>20.100317</td>\n",
              "      <td>93.927522</td>\n",
              "      <td>222.178557</td>\n",
              "      <td>20.100135</td>\n",
              "      <td>93.801294</td>\n",
              "      <td>222.262357</td>\n",
              "      <td>C3</td>\n",
              "      <td>A1</td>\n",
              "      <td>Set1</td>\n",
              "      <td>B6F793CB-821E-4980-BE99-FEE76D08FC11.png</td>\n",
              "    </tr>\n",
              "    <tr>\n",
              "      <th>4</th>\n",
              "      <td>209.855856</td>\n",
              "      <td>179.533723</td>\n",
              "      <td>121.571869</td>\n",
              "      <td>212.670507</td>\n",
              "      <td>182.227295</td>\n",
              "      <td>125.368110</td>\n",
              "      <td>19.527149</td>\n",
              "      <td>107.243406</td>\n",
              "      <td>209.855856</td>\n",
              "      <td>19.309366</td>\n",
              "      <td>104.611194</td>\n",
              "      <td>212.670507</td>\n",
              "      <td>C3</td>\n",
              "      <td>A1</td>\n",
              "      <td>Set1</td>\n",
              "      <td>DB93C8AE-E996-4EC9-9AD4-DBC68B6E726A.png</td>\n",
              "    </tr>\n",
              "    <tr>\n",
              "      <th>...</th>\n",
              "      <td>...</td>\n",
              "      <td>...</td>\n",
              "      <td>...</td>\n",
              "      <td>...</td>\n",
              "      <td>...</td>\n",
              "      <td>...</td>\n",
              "      <td>...</td>\n",
              "      <td>...</td>\n",
              "      <td>...</td>\n",
              "      <td>...</td>\n",
              "      <td>...</td>\n",
              "      <td>...</td>\n",
              "      <td>...</td>\n",
              "      <td>...</td>\n",
              "      <td>...</td>\n",
              "      <td>...</td>\n",
              "    </tr>\n",
              "    <tr>\n",
              "      <th>3195</th>\n",
              "      <td>232.804642</td>\n",
              "      <td>209.441604</td>\n",
              "      <td>164.924357</td>\n",
              "      <td>233.308869</td>\n",
              "      <td>210.109594</td>\n",
              "      <td>166.164853</td>\n",
              "      <td>19.601331</td>\n",
              "      <td>74.376755</td>\n",
              "      <td>232.804642</td>\n",
              "      <td>19.552094</td>\n",
              "      <td>73.433042</td>\n",
              "      <td>233.308869</td>\n",
              "      <td>C3</td>\n",
              "      <td>D4</td>\n",
              "      <td>Set4</td>\n",
              "      <td>98856006-89F4-4308-AE65-1EFE2F5AF75B.png</td>\n",
              "    </tr>\n",
              "    <tr>\n",
              "      <th>3196</th>\n",
              "      <td>235.903985</td>\n",
              "      <td>218.940670</td>\n",
              "      <td>179.875741</td>\n",
              "      <td>236.487092</td>\n",
              "      <td>219.666951</td>\n",
              "      <td>181.014864</td>\n",
              "      <td>20.612775</td>\n",
              "      <td>78.169873</td>\n",
              "      <td>229.335768</td>\n",
              "      <td>20.589787</td>\n",
              "      <td>77.092810</td>\n",
              "      <td>229.914515</td>\n",
              "      <td>C3</td>\n",
              "      <td>D4</td>\n",
              "      <td>Set4</td>\n",
              "      <td>DF600DAA-CD96-43F9-A4C9-A4624F36BE2A.png</td>\n",
              "    </tr>\n",
              "    <tr>\n",
              "      <th>3197</th>\n",
              "      <td>232.175960</td>\n",
              "      <td>216.874036</td>\n",
              "      <td>178.708465</td>\n",
              "      <td>232.964654</td>\n",
              "      <td>217.832160</td>\n",
              "      <td>180.185122</td>\n",
              "      <td>21.562292</td>\n",
              "      <td>58.762357</td>\n",
              "      <td>232.175960</td>\n",
              "      <td>21.513975</td>\n",
              "      <td>57.839201</td>\n",
              "      <td>232.964654</td>\n",
              "      <td>C3</td>\n",
              "      <td>D4</td>\n",
              "      <td>Set4</td>\n",
              "      <td>7DD857D9-3B5F-4A89-ACEC-40C55B638E29.png</td>\n",
              "    </tr>\n",
              "    <tr>\n",
              "      <th>3198</th>\n",
              "      <td>231.726077</td>\n",
              "      <td>211.455077</td>\n",
              "      <td>167.223440</td>\n",
              "      <td>232.533177</td>\n",
              "      <td>212.551597</td>\n",
              "      <td>168.982505</td>\n",
              "      <td>20.556367</td>\n",
              "      <td>71.019641</td>\n",
              "      <td>231.726077</td>\n",
              "      <td>20.552237</td>\n",
              "      <td>69.773771</td>\n",
              "      <td>232.533177</td>\n",
              "      <td>C3</td>\n",
              "      <td>D4</td>\n",
              "      <td>Set4</td>\n",
              "      <td>5510740D-C9BA-424D-A6C2-B6457D11DF44.png</td>\n",
              "    </tr>\n",
              "    <tr>\n",
              "      <th>3199</th>\n",
              "      <td>226.100641</td>\n",
              "      <td>197.575278</td>\n",
              "      <td>146.748235</td>\n",
              "      <td>226.795889</td>\n",
              "      <td>198.548539</td>\n",
              "      <td>147.966148</td>\n",
              "      <td>19.189595</td>\n",
              "      <td>89.497849</td>\n",
              "      <td>226.100641</td>\n",
              "      <td>19.239457</td>\n",
              "      <td>88.650238</td>\n",
              "      <td>226.795889</td>\n",
              "      <td>C3</td>\n",
              "      <td>D4</td>\n",
              "      <td>Set4</td>\n",
              "      <td>AA66EF79-D604-4A8C-8A95-3D1FB6BCF443.png</td>\n",
              "    </tr>\n",
              "  </tbody>\n",
              "</table>\n",
              "<p>3200 rows × 16 columns</p>\n",
              "</div>\n",
              "      <button class=\"colab-df-convert\" onclick=\"convertToInteractive('df-b4bd8668-2854-4a1d-926b-2a6b96ee8bc9')\"\n",
              "              title=\"Convert this dataframe to an interactive table.\"\n",
              "              style=\"display:none;\">\n",
              "        \n",
              "  <svg xmlns=\"http://www.w3.org/2000/svg\" height=\"24px\"viewBox=\"0 0 24 24\"\n",
              "       width=\"24px\">\n",
              "    <path d=\"M0 0h24v24H0V0z\" fill=\"none\"/>\n",
              "    <path d=\"M18.56 5.44l.94 2.06.94-2.06 2.06-.94-2.06-.94-.94-2.06-.94 2.06-2.06.94zm-11 1L8.5 8.5l.94-2.06 2.06-.94-2.06-.94L8.5 2.5l-.94 2.06-2.06.94zm10 10l.94 2.06.94-2.06 2.06-.94-2.06-.94-.94-2.06-.94 2.06-2.06.94z\"/><path d=\"M17.41 7.96l-1.37-1.37c-.4-.4-.92-.59-1.43-.59-.52 0-1.04.2-1.43.59L10.3 9.45l-7.72 7.72c-.78.78-.78 2.05 0 2.83L4 21.41c.39.39.9.59 1.41.59.51 0 1.02-.2 1.41-.59l7.78-7.78 2.81-2.81c.8-.78.8-2.07 0-2.86zM5.41 20L4 18.59l7.72-7.72 1.47 1.35L5.41 20z\"/>\n",
              "  </svg>\n",
              "      </button>\n",
              "      \n",
              "  <style>\n",
              "    .colab-df-container {\n",
              "      display:flex;\n",
              "      flex-wrap:wrap;\n",
              "      gap: 12px;\n",
              "    }\n",
              "\n",
              "    .colab-df-convert {\n",
              "      background-color: #E8F0FE;\n",
              "      border: none;\n",
              "      border-radius: 50%;\n",
              "      cursor: pointer;\n",
              "      display: none;\n",
              "      fill: #1967D2;\n",
              "      height: 32px;\n",
              "      padding: 0 0 0 0;\n",
              "      width: 32px;\n",
              "    }\n",
              "\n",
              "    .colab-df-convert:hover {\n",
              "      background-color: #E2EBFA;\n",
              "      box-shadow: 0px 1px 2px rgba(60, 64, 67, 0.3), 0px 1px 3px 1px rgba(60, 64, 67, 0.15);\n",
              "      fill: #174EA6;\n",
              "    }\n",
              "\n",
              "    [theme=dark] .colab-df-convert {\n",
              "      background-color: #3B4455;\n",
              "      fill: #D2E3FC;\n",
              "    }\n",
              "\n",
              "    [theme=dark] .colab-df-convert:hover {\n",
              "      background-color: #434B5C;\n",
              "      box-shadow: 0px 1px 3px 1px rgba(0, 0, 0, 0.15);\n",
              "      filter: drop-shadow(0px 1px 2px rgba(0, 0, 0, 0.3));\n",
              "      fill: #FFFFFF;\n",
              "    }\n",
              "  </style>\n",
              "\n",
              "      <script>\n",
              "        const buttonEl =\n",
              "          document.querySelector('#df-b4bd8668-2854-4a1d-926b-2a6b96ee8bc9 button.colab-df-convert');\n",
              "        buttonEl.style.display =\n",
              "          google.colab.kernel.accessAllowed ? 'block' : 'none';\n",
              "\n",
              "        async function convertToInteractive(key) {\n",
              "          const element = document.querySelector('#df-b4bd8668-2854-4a1d-926b-2a6b96ee8bc9');\n",
              "          const dataTable =\n",
              "            await google.colab.kernel.invokeFunction('convertToInteractive',\n",
              "                                                     [key], {});\n",
              "          if (!dataTable) return;\n",
              "\n",
              "          const docLinkHtml = 'Like what you see? Visit the ' +\n",
              "            '<a target=\"_blank\" href=https://colab.research.google.com/notebooks/data_table.ipynb>data table notebook</a>'\n",
              "            + ' to learn more about interactive tables.';\n",
              "          element.innerHTML = '';\n",
              "          dataTable['output_type'] = 'display_data';\n",
              "          await google.colab.output.renderOutput(dataTable, element);\n",
              "          const docLink = document.createElement('div');\n",
              "          docLink.innerHTML = docLinkHtml;\n",
              "          element.appendChild(docLink);\n",
              "        }\n",
              "      </script>\n",
              "    </div>\n",
              "  </div>\n",
              "  "
            ],
            "text/plain": [
              "           R-ref       G-ref  ...  Setting                                       Img\n",
              "0     229.674702  206.699294  ...     Set1  8397A717-3D12-4648-BD3F-CE1F787AB8C2.png\n",
              "1     226.000406  203.723886  ...     Set1  A9FD8AA5-8101-465A-B35F-6E192FDA7776.png\n",
              "2     224.442172  206.266618  ...     Set1  D8B8E0A9-7FD9-444D-9917-BEC6A0BCA620.png\n",
              "3     223.874199  201.225956  ...     Set1  B6F793CB-821E-4980-BE99-FEE76D08FC11.png\n",
              "4     209.855856  179.533723  ...     Set1  DB93C8AE-E996-4EC9-9AD4-DBC68B6E726A.png\n",
              "...          ...         ...  ...      ...                                       ...\n",
              "3195  232.804642  209.441604  ...     Set4  98856006-89F4-4308-AE65-1EFE2F5AF75B.png\n",
              "3196  235.903985  218.940670  ...     Set4  DF600DAA-CD96-43F9-A4C9-A4624F36BE2A.png\n",
              "3197  232.175960  216.874036  ...     Set4  7DD857D9-3B5F-4A89-ACEC-40C55B638E29.png\n",
              "3198  231.726077  211.455077  ...     Set4  5510740D-C9BA-424D-A6C2-B6457D11DF44.png\n",
              "3199  226.100641  197.575278  ...     Set4  AA66EF79-D604-4A8C-8A95-3D1FB6BCF443.png\n",
              "\n",
              "[3200 rows x 16 columns]"
            ]
          },
          "metadata": {},
          "execution_count": 118
        }
      ]
    },
    {
      "cell_type": "code",
      "source": [
        "RGB_C3 = table_C3.drop(['H-ref','S-ref','V-ref','S-Shad','V-Shad','Shade-ref','Setting','Img','Shade','H-Shad'], axis=1)"
      ],
      "metadata": {
        "id": "uEFRsyhmh2F9"
      },
      "execution_count": 119,
      "outputs": []
    },
    {
      "cell_type": "code",
      "source": [
        "X_C3 = np.array(RGB_C3)"
      ],
      "metadata": {
        "id": "GuEu-HtPh2F9"
      },
      "execution_count": 120,
      "outputs": []
    },
    {
      "cell_type": "code",
      "source": [
        "y_C3 =  table_C3.iloc[:,13:14]"
      ],
      "metadata": {
        "id": "CaV1dLgih2F-"
      },
      "execution_count": 121,
      "outputs": []
    },
    {
      "cell_type": "code",
      "source": [
        "y_C3 = np.array(y_C3)\n",
        "y_C3"
      ],
      "metadata": {
        "outputId": "dc469f56-d8a5-41b6-b55d-8cee437a96de",
        "colab": {
          "base_uri": "https://localhost:8080/"
        },
        "id": "g9ZxBndOh2F-"
      },
      "execution_count": 122,
      "outputs": [
        {
          "output_type": "execute_result",
          "data": {
            "text/plain": [
              "array([['A1'],\n",
              "       ['A1'],\n",
              "       ['A1'],\n",
              "       ...,\n",
              "       ['D4'],\n",
              "       ['D4'],\n",
              "       ['D4']], dtype=object)"
            ]
          },
          "metadata": {},
          "execution_count": 122
        }
      ]
    },
    {
      "cell_type": "code",
      "source": [
        "X_test_C3, X_train_C3 , y_test_C3, y_train_C3 = train_test_split(X_C3, y_C3, test_size=80, train_size=320)"
      ],
      "metadata": {
        "id": "25qVaVHttTAY"
      },
      "execution_count": 123,
      "outputs": []
    },
    {
      "cell_type": "code",
      "source": [
        "clf.fit(X_train_C3, y_train_C3)"
      ],
      "metadata": {
        "outputId": "85a9d45c-1fed-4196-9da0-bb775cef6683",
        "colab": {
          "base_uri": "https://localhost:8080/"
        },
        "id": "SnnYOuSdh2F-"
      },
      "execution_count": 124,
      "outputs": [
        {
          "output_type": "stream",
          "name": "stderr",
          "text": [
            "/usr/local/lib/python3.7/dist-packages/sklearn/utils/validation.py:985: DataConversionWarning: A column-vector y was passed when a 1d array was expected. Please change the shape of y to (n_samples, ), for example using ravel().\n",
            "  y = column_or_1d(y, warn=True)\n"
          ]
        },
        {
          "output_type": "execute_result",
          "data": {
            "text/plain": [
              "SVC(kernel='poly')"
            ]
          },
          "metadata": {},
          "execution_count": 124
        }
      ]
    },
    {
      "cell_type": "code",
      "source": [
        "y_pred_C3 = clf.predict(X_test_C3)"
      ],
      "metadata": {
        "id": "VghR33Kzh2F-"
      },
      "execution_count": 125,
      "outputs": []
    },
    {
      "cell_type": "code",
      "source": [
        "print(\"Accuracy:\", metrics.accuracy_score(y_test_C3, y_pred_C3))"
      ],
      "metadata": {
        "outputId": "8c65539b-c9d5-4f36-cd40-55e6f4420430",
        "colab": {
          "base_uri": "https://localhost:8080/"
        },
        "id": "dIm0itPwh2F-"
      },
      "execution_count": 126,
      "outputs": [
        {
          "output_type": "stream",
          "name": "stdout",
          "text": [
            "Accuracy: 0.128125\n"
          ]
        }
      ]
    },
    {
      "cell_type": "markdown",
      "source": [
        "##C4"
      ],
      "metadata": {
        "id": "SscWN7oBh2F-"
      }
    },
    {
      "cell_type": "code",
      "source": [
        "table_C4 = pd.read_excel(CC, sheet_name='C4')\n",
        "table_C4"
      ],
      "metadata": {
        "colab": {
          "base_uri": "https://localhost:8080/",
          "height": 0
        },
        "id": "RC9nm2dPh2F-",
        "outputId": "96f21d72-56ee-49ad-81e5-fb7c6b46fe80"
      },
      "execution_count": 127,
      "outputs": [
        {
          "output_type": "execute_result",
          "data": {
            "text/html": [
              "\n",
              "  <div id=\"df-e6077271-4b9b-49f9-acbd-b912b26c3198\">\n",
              "    <div class=\"colab-df-container\">\n",
              "      <div>\n",
              "<style scoped>\n",
              "    .dataframe tbody tr th:only-of-type {\n",
              "        vertical-align: middle;\n",
              "    }\n",
              "\n",
              "    .dataframe tbody tr th {\n",
              "        vertical-align: top;\n",
              "    }\n",
              "\n",
              "    .dataframe thead th {\n",
              "        text-align: right;\n",
              "    }\n",
              "</style>\n",
              "<table border=\"1\" class=\"dataframe\">\n",
              "  <thead>\n",
              "    <tr style=\"text-align: right;\">\n",
              "      <th></th>\n",
              "      <th>R-ref</th>\n",
              "      <th>G-ref</th>\n",
              "      <th>B-ref</th>\n",
              "      <th>R-Shad</th>\n",
              "      <th>G-Shad</th>\n",
              "      <th>B-Shad</th>\n",
              "      <th>H-ref</th>\n",
              "      <th>S-ref</th>\n",
              "      <th>V-ref</th>\n",
              "      <th>H-Shad</th>\n",
              "      <th>S-Shad</th>\n",
              "      <th>V-Shad</th>\n",
              "      <th>Shade-ref</th>\n",
              "      <th>Shade</th>\n",
              "      <th>Setting</th>\n",
              "      <th>Img</th>\n",
              "    </tr>\n",
              "  </thead>\n",
              "  <tbody>\n",
              "    <tr>\n",
              "      <th>0</th>\n",
              "      <td>232.175960</td>\n",
              "      <td>216.874036</td>\n",
              "      <td>178.708465</td>\n",
              "      <td>232.964654</td>\n",
              "      <td>217.832160</td>\n",
              "      <td>180.185122</td>\n",
              "      <td>21.562292</td>\n",
              "      <td>58.762357</td>\n",
              "      <td>232.175960</td>\n",
              "      <td>21.513975</td>\n",
              "      <td>57.839201</td>\n",
              "      <td>232.964654</td>\n",
              "      <td>C4</td>\n",
              "      <td>A1</td>\n",
              "      <td>Set1</td>\n",
              "      <td>D5D842D5-1273-4723-A726-1A56F4AE5B90.png</td>\n",
              "    </tr>\n",
              "    <tr>\n",
              "      <th>1</th>\n",
              "      <td>231.726077</td>\n",
              "      <td>211.455077</td>\n",
              "      <td>167.223440</td>\n",
              "      <td>232.533177</td>\n",
              "      <td>212.551597</td>\n",
              "      <td>168.982505</td>\n",
              "      <td>20.556367</td>\n",
              "      <td>71.019641</td>\n",
              "      <td>231.726077</td>\n",
              "      <td>20.552237</td>\n",
              "      <td>69.773771</td>\n",
              "      <td>232.533177</td>\n",
              "      <td>C4</td>\n",
              "      <td>A1</td>\n",
              "      <td>Set1</td>\n",
              "      <td>0323B3D5-373A-4B67-8908-4387145AD384.png</td>\n",
              "    </tr>\n",
              "    <tr>\n",
              "      <th>2</th>\n",
              "      <td>226.100641</td>\n",
              "      <td>197.575278</td>\n",
              "      <td>146.748235</td>\n",
              "      <td>226.795889</td>\n",
              "      <td>198.548539</td>\n",
              "      <td>147.966148</td>\n",
              "      <td>19.189595</td>\n",
              "      <td>89.497849</td>\n",
              "      <td>226.100641</td>\n",
              "      <td>19.239457</td>\n",
              "      <td>88.650238</td>\n",
              "      <td>226.795889</td>\n",
              "      <td>C4</td>\n",
              "      <td>A1</td>\n",
              "      <td>Set1</td>\n",
              "      <td>4059EA80-E8B2-4BD1-865B-98C77A4271AD.png</td>\n",
              "    </tr>\n",
              "    <tr>\n",
              "      <th>3</th>\n",
              "      <td>230.612531</td>\n",
              "      <td>207.562373</td>\n",
              "      <td>164.211752</td>\n",
              "      <td>231.210796</td>\n",
              "      <td>208.351682</td>\n",
              "      <td>165.428561</td>\n",
              "      <td>19.566594</td>\n",
              "      <td>73.461651</td>\n",
              "      <td>230.612531</td>\n",
              "      <td>19.550743</td>\n",
              "      <td>72.606500</td>\n",
              "      <td>231.210796</td>\n",
              "      <td>C4</td>\n",
              "      <td>A1</td>\n",
              "      <td>Set1</td>\n",
              "      <td>9DBC26C8-CA9B-4987-AF57-9BAF1BDBCA28.png</td>\n",
              "    </tr>\n",
              "    <tr>\n",
              "      <th>4</th>\n",
              "      <td>232.133431</td>\n",
              "      <td>209.823472</td>\n",
              "      <td>160.814707</td>\n",
              "      <td>232.841548</td>\n",
              "      <td>211.054264</td>\n",
              "      <td>163.067989</td>\n",
              "      <td>20.814463</td>\n",
              "      <td>78.373996</td>\n",
              "      <td>232.133431</td>\n",
              "      <td>20.855487</td>\n",
              "      <td>76.523434</td>\n",
              "      <td>232.841832</td>\n",
              "      <td>C4</td>\n",
              "      <td>A1</td>\n",
              "      <td>Set1</td>\n",
              "      <td>EF49A765-DB1A-4F23-956C-3110E993E4A1.png</td>\n",
              "    </tr>\n",
              "    <tr>\n",
              "      <th>...</th>\n",
              "      <td>...</td>\n",
              "      <td>...</td>\n",
              "      <td>...</td>\n",
              "      <td>...</td>\n",
              "      <td>...</td>\n",
              "      <td>...</td>\n",
              "      <td>...</td>\n",
              "      <td>...</td>\n",
              "      <td>...</td>\n",
              "      <td>...</td>\n",
              "      <td>...</td>\n",
              "      <td>...</td>\n",
              "      <td>...</td>\n",
              "      <td>...</td>\n",
              "      <td>...</td>\n",
              "      <td>...</td>\n",
              "    </tr>\n",
              "    <tr>\n",
              "      <th>3195</th>\n",
              "      <td>232.804642</td>\n",
              "      <td>209.441604</td>\n",
              "      <td>164.924357</td>\n",
              "      <td>233.308869</td>\n",
              "      <td>210.109594</td>\n",
              "      <td>166.164853</td>\n",
              "      <td>19.601331</td>\n",
              "      <td>74.376755</td>\n",
              "      <td>232.804642</td>\n",
              "      <td>19.552094</td>\n",
              "      <td>73.433042</td>\n",
              "      <td>233.308869</td>\n",
              "      <td>C4</td>\n",
              "      <td>D4</td>\n",
              "      <td>Set4</td>\n",
              "      <td>3A4875C4-4B88-4FF9-B801-4DB7423AB6A4.png</td>\n",
              "    </tr>\n",
              "    <tr>\n",
              "      <th>3196</th>\n",
              "      <td>235.903985</td>\n",
              "      <td>218.940670</td>\n",
              "      <td>179.875741</td>\n",
              "      <td>236.487092</td>\n",
              "      <td>219.666951</td>\n",
              "      <td>181.014864</td>\n",
              "      <td>20.612775</td>\n",
              "      <td>78.169873</td>\n",
              "      <td>229.335768</td>\n",
              "      <td>20.589787</td>\n",
              "      <td>77.092810</td>\n",
              "      <td>229.914515</td>\n",
              "      <td>C4</td>\n",
              "      <td>D4</td>\n",
              "      <td>Set4</td>\n",
              "      <td>FA4C9517-6C8B-45B7-A5A5-31166E270623.png</td>\n",
              "    </tr>\n",
              "    <tr>\n",
              "      <th>3197</th>\n",
              "      <td>232.175960</td>\n",
              "      <td>216.874036</td>\n",
              "      <td>178.708465</td>\n",
              "      <td>232.964654</td>\n",
              "      <td>217.832160</td>\n",
              "      <td>180.185122</td>\n",
              "      <td>21.562292</td>\n",
              "      <td>58.762357</td>\n",
              "      <td>232.175960</td>\n",
              "      <td>21.513975</td>\n",
              "      <td>57.839201</td>\n",
              "      <td>232.964654</td>\n",
              "      <td>C4</td>\n",
              "      <td>D4</td>\n",
              "      <td>Set4</td>\n",
              "      <td>155490BC-336A-49B8-8DB0-3E44C79233C8.png</td>\n",
              "    </tr>\n",
              "    <tr>\n",
              "      <th>3198</th>\n",
              "      <td>231.726077</td>\n",
              "      <td>211.455077</td>\n",
              "      <td>167.223440</td>\n",
              "      <td>232.533177</td>\n",
              "      <td>212.551597</td>\n",
              "      <td>168.982505</td>\n",
              "      <td>20.556367</td>\n",
              "      <td>71.019641</td>\n",
              "      <td>231.726077</td>\n",
              "      <td>20.552237</td>\n",
              "      <td>69.773771</td>\n",
              "      <td>232.533177</td>\n",
              "      <td>C4</td>\n",
              "      <td>D4</td>\n",
              "      <td>Set4</td>\n",
              "      <td>040EA918-F713-44A1-915E-B36CD47D9BAD.png</td>\n",
              "    </tr>\n",
              "    <tr>\n",
              "      <th>3199</th>\n",
              "      <td>226.100641</td>\n",
              "      <td>197.575278</td>\n",
              "      <td>146.748235</td>\n",
              "      <td>226.795889</td>\n",
              "      <td>198.548539</td>\n",
              "      <td>147.966148</td>\n",
              "      <td>19.189595</td>\n",
              "      <td>89.497849</td>\n",
              "      <td>226.100641</td>\n",
              "      <td>19.239457</td>\n",
              "      <td>88.650238</td>\n",
              "      <td>226.795889</td>\n",
              "      <td>C4</td>\n",
              "      <td>D4</td>\n",
              "      <td>Set4</td>\n",
              "      <td>E3B87A4E-202B-4EB9-B387-E65384E26706.png</td>\n",
              "    </tr>\n",
              "  </tbody>\n",
              "</table>\n",
              "<p>3200 rows × 16 columns</p>\n",
              "</div>\n",
              "      <button class=\"colab-df-convert\" onclick=\"convertToInteractive('df-e6077271-4b9b-49f9-acbd-b912b26c3198')\"\n",
              "              title=\"Convert this dataframe to an interactive table.\"\n",
              "              style=\"display:none;\">\n",
              "        \n",
              "  <svg xmlns=\"http://www.w3.org/2000/svg\" height=\"24px\"viewBox=\"0 0 24 24\"\n",
              "       width=\"24px\">\n",
              "    <path d=\"M0 0h24v24H0V0z\" fill=\"none\"/>\n",
              "    <path d=\"M18.56 5.44l.94 2.06.94-2.06 2.06-.94-2.06-.94-.94-2.06-.94 2.06-2.06.94zm-11 1L8.5 8.5l.94-2.06 2.06-.94-2.06-.94L8.5 2.5l-.94 2.06-2.06.94zm10 10l.94 2.06.94-2.06 2.06-.94-2.06-.94-.94-2.06-.94 2.06-2.06.94z\"/><path d=\"M17.41 7.96l-1.37-1.37c-.4-.4-.92-.59-1.43-.59-.52 0-1.04.2-1.43.59L10.3 9.45l-7.72 7.72c-.78.78-.78 2.05 0 2.83L4 21.41c.39.39.9.59 1.41.59.51 0 1.02-.2 1.41-.59l7.78-7.78 2.81-2.81c.8-.78.8-2.07 0-2.86zM5.41 20L4 18.59l7.72-7.72 1.47 1.35L5.41 20z\"/>\n",
              "  </svg>\n",
              "      </button>\n",
              "      \n",
              "  <style>\n",
              "    .colab-df-container {\n",
              "      display:flex;\n",
              "      flex-wrap:wrap;\n",
              "      gap: 12px;\n",
              "    }\n",
              "\n",
              "    .colab-df-convert {\n",
              "      background-color: #E8F0FE;\n",
              "      border: none;\n",
              "      border-radius: 50%;\n",
              "      cursor: pointer;\n",
              "      display: none;\n",
              "      fill: #1967D2;\n",
              "      height: 32px;\n",
              "      padding: 0 0 0 0;\n",
              "      width: 32px;\n",
              "    }\n",
              "\n",
              "    .colab-df-convert:hover {\n",
              "      background-color: #E2EBFA;\n",
              "      box-shadow: 0px 1px 2px rgba(60, 64, 67, 0.3), 0px 1px 3px 1px rgba(60, 64, 67, 0.15);\n",
              "      fill: #174EA6;\n",
              "    }\n",
              "\n",
              "    [theme=dark] .colab-df-convert {\n",
              "      background-color: #3B4455;\n",
              "      fill: #D2E3FC;\n",
              "    }\n",
              "\n",
              "    [theme=dark] .colab-df-convert:hover {\n",
              "      background-color: #434B5C;\n",
              "      box-shadow: 0px 1px 3px 1px rgba(0, 0, 0, 0.15);\n",
              "      filter: drop-shadow(0px 1px 2px rgba(0, 0, 0, 0.3));\n",
              "      fill: #FFFFFF;\n",
              "    }\n",
              "  </style>\n",
              "\n",
              "      <script>\n",
              "        const buttonEl =\n",
              "          document.querySelector('#df-e6077271-4b9b-49f9-acbd-b912b26c3198 button.colab-df-convert');\n",
              "        buttonEl.style.display =\n",
              "          google.colab.kernel.accessAllowed ? 'block' : 'none';\n",
              "\n",
              "        async function convertToInteractive(key) {\n",
              "          const element = document.querySelector('#df-e6077271-4b9b-49f9-acbd-b912b26c3198');\n",
              "          const dataTable =\n",
              "            await google.colab.kernel.invokeFunction('convertToInteractive',\n",
              "                                                     [key], {});\n",
              "          if (!dataTable) return;\n",
              "\n",
              "          const docLinkHtml = 'Like what you see? Visit the ' +\n",
              "            '<a target=\"_blank\" href=https://colab.research.google.com/notebooks/data_table.ipynb>data table notebook</a>'\n",
              "            + ' to learn more about interactive tables.';\n",
              "          element.innerHTML = '';\n",
              "          dataTable['output_type'] = 'display_data';\n",
              "          await google.colab.output.renderOutput(dataTable, element);\n",
              "          const docLink = document.createElement('div');\n",
              "          docLink.innerHTML = docLinkHtml;\n",
              "          element.appendChild(docLink);\n",
              "        }\n",
              "      </script>\n",
              "    </div>\n",
              "  </div>\n",
              "  "
            ],
            "text/plain": [
              "           R-ref       G-ref  ...  Setting                                       Img\n",
              "0     232.175960  216.874036  ...     Set1  D5D842D5-1273-4723-A726-1A56F4AE5B90.png\n",
              "1     231.726077  211.455077  ...     Set1  0323B3D5-373A-4B67-8908-4387145AD384.png\n",
              "2     226.100641  197.575278  ...     Set1  4059EA80-E8B2-4BD1-865B-98C77A4271AD.png\n",
              "3     230.612531  207.562373  ...     Set1  9DBC26C8-CA9B-4987-AF57-9BAF1BDBCA28.png\n",
              "4     232.133431  209.823472  ...     Set1  EF49A765-DB1A-4F23-956C-3110E993E4A1.png\n",
              "...          ...         ...  ...      ...                                       ...\n",
              "3195  232.804642  209.441604  ...     Set4  3A4875C4-4B88-4FF9-B801-4DB7423AB6A4.png\n",
              "3196  235.903985  218.940670  ...     Set4  FA4C9517-6C8B-45B7-A5A5-31166E270623.png\n",
              "3197  232.175960  216.874036  ...     Set4  155490BC-336A-49B8-8DB0-3E44C79233C8.png\n",
              "3198  231.726077  211.455077  ...     Set4  040EA918-F713-44A1-915E-B36CD47D9BAD.png\n",
              "3199  226.100641  197.575278  ...     Set4  E3B87A4E-202B-4EB9-B387-E65384E26706.png\n",
              "\n",
              "[3200 rows x 16 columns]"
            ]
          },
          "metadata": {},
          "execution_count": 127
        }
      ]
    },
    {
      "cell_type": "code",
      "source": [
        "RGB_C4 = table_C4.drop(['H-ref','S-ref','V-ref','S-Shad','V-Shad','Shade-ref','Setting','Img','Shade','H-Shad'], axis=1)"
      ],
      "metadata": {
        "id": "H68sYmwyh2F_"
      },
      "execution_count": 128,
      "outputs": []
    },
    {
      "cell_type": "code",
      "source": [
        "X_C4 = np.array(RGB_C4)"
      ],
      "metadata": {
        "id": "IIiRVi2bh2F_"
      },
      "execution_count": 129,
      "outputs": []
    },
    {
      "cell_type": "code",
      "source": [
        "y_C4 =  table_C4.iloc[:,13:14]"
      ],
      "metadata": {
        "id": "-cieMzoeh2F_"
      },
      "execution_count": 130,
      "outputs": []
    },
    {
      "cell_type": "code",
      "source": [
        "y_C4 = np.array(y_C4)\n",
        "y_C4"
      ],
      "metadata": {
        "colab": {
          "base_uri": "https://localhost:8080/"
        },
        "id": "giATREWDh2F_",
        "outputId": "dbd8061a-a216-4475-e324-3bce8fe11b94"
      },
      "execution_count": 131,
      "outputs": [
        {
          "output_type": "execute_result",
          "data": {
            "text/plain": [
              "array([['A1'],\n",
              "       ['A1'],\n",
              "       ['A1'],\n",
              "       ...,\n",
              "       ['D4'],\n",
              "       ['D4'],\n",
              "       ['D4']], dtype=object)"
            ]
          },
          "metadata": {},
          "execution_count": 131
        }
      ]
    },
    {
      "cell_type": "code",
      "source": [
        "X_test_C4, X_train_C4 , y_test_C4, y_train_C4 = train_test_split(X_C4, y_C4, test_size=80, train_size=320)"
      ],
      "metadata": {
        "id": "LiFymQ96taK3"
      },
      "execution_count": 132,
      "outputs": []
    },
    {
      "cell_type": "code",
      "source": [
        "clf.fit(X_train_C4, y_train_C4)"
      ],
      "metadata": {
        "colab": {
          "base_uri": "https://localhost:8080/"
        },
        "id": "f1KI9hLAh2F_",
        "outputId": "86408023-a1bf-48af-826b-4de49962e053"
      },
      "execution_count": 133,
      "outputs": [
        {
          "output_type": "stream",
          "name": "stderr",
          "text": [
            "/usr/local/lib/python3.7/dist-packages/sklearn/utils/validation.py:985: DataConversionWarning: A column-vector y was passed when a 1d array was expected. Please change the shape of y to (n_samples, ), for example using ravel().\n",
            "  y = column_or_1d(y, warn=True)\n"
          ]
        },
        {
          "output_type": "execute_result",
          "data": {
            "text/plain": [
              "SVC(kernel='poly')"
            ]
          },
          "metadata": {},
          "execution_count": 133
        }
      ]
    },
    {
      "cell_type": "code",
      "source": [
        "y_pred_C4 = clf.predict(X_test_C4)"
      ],
      "metadata": {
        "id": "VjrvuLHvh2F_"
      },
      "execution_count": 134,
      "outputs": []
    },
    {
      "cell_type": "code",
      "source": [
        "print(\"Accuracy:\", metrics.accuracy_score(y_test_C4, y_pred_C4))"
      ],
      "metadata": {
        "colab": {
          "base_uri": "https://localhost:8080/"
        },
        "id": "w9mcwVYOh2F_",
        "outputId": "c0d1dad7-cef1-4f82-9c06-0d5f831f1628"
      },
      "execution_count": 135,
      "outputs": [
        {
          "output_type": "stream",
          "name": "stdout",
          "text": [
            "Accuracy: 0.175\n"
          ]
        }
      ]
    },
    {
      "cell_type": "markdown",
      "source": [
        "#DD"
      ],
      "metadata": {
        "id": "wRv6g5_Ei95E"
      }
    },
    {
      "cell_type": "markdown",
      "source": [
        "##D2"
      ],
      "metadata": {
        "id": "ZykxP9L-jEXM"
      }
    },
    {
      "cell_type": "code",
      "source": [
        "table_D2= pd.read_excel(DD, sheet_name='D2')\n",
        "table_D2"
      ],
      "metadata": {
        "colab": {
          "base_uri": "https://localhost:8080/",
          "height": 0
        },
        "outputId": "35d28507-4261-46c3-c639-abd1dca7f915",
        "id": "Lh9THsHEjEXM"
      },
      "execution_count": 136,
      "outputs": [
        {
          "output_type": "execute_result",
          "data": {
            "text/html": [
              "\n",
              "  <div id=\"df-e6399bbf-df74-422f-9b5e-85b07355ce53\">\n",
              "    <div class=\"colab-df-container\">\n",
              "      <div>\n",
              "<style scoped>\n",
              "    .dataframe tbody tr th:only-of-type {\n",
              "        vertical-align: middle;\n",
              "    }\n",
              "\n",
              "    .dataframe tbody tr th {\n",
              "        vertical-align: top;\n",
              "    }\n",
              "\n",
              "    .dataframe thead th {\n",
              "        text-align: right;\n",
              "    }\n",
              "</style>\n",
              "<table border=\"1\" class=\"dataframe\">\n",
              "  <thead>\n",
              "    <tr style=\"text-align: right;\">\n",
              "      <th></th>\n",
              "      <th>R-ref</th>\n",
              "      <th>G-ref</th>\n",
              "      <th>B-ref</th>\n",
              "      <th>R-Shad</th>\n",
              "      <th>G-Shad</th>\n",
              "      <th>B-Shad</th>\n",
              "      <th>H-ref</th>\n",
              "      <th>S-ref</th>\n",
              "      <th>V-ref</th>\n",
              "      <th>H-Shad</th>\n",
              "      <th>S-Shad</th>\n",
              "      <th>V-Shad</th>\n",
              "      <th>Shade-ref</th>\n",
              "      <th>Shade</th>\n",
              "      <th>Setting</th>\n",
              "      <th>Img</th>\n",
              "    </tr>\n",
              "  </thead>\n",
              "  <tbody>\n",
              "    <tr>\n",
              "      <th>0</th>\n",
              "      <td>229.674702</td>\n",
              "      <td>206.699294</td>\n",
              "      <td>151.959338</td>\n",
              "      <td>229.372164</td>\n",
              "      <td>206.348482</td>\n",
              "      <td>151.724628</td>\n",
              "      <td>21.243162</td>\n",
              "      <td>86.251116</td>\n",
              "      <td>229.674702</td>\n",
              "      <td>21.221179</td>\n",
              "      <td>86.286751</td>\n",
              "      <td>229.372164</td>\n",
              "      <td>D2</td>\n",
              "      <td>A1</td>\n",
              "      <td>Set1</td>\n",
              "      <td>BD87D607-5718-45C1-A0DB-D75E63316FD0.png</td>\n",
              "    </tr>\n",
              "    <tr>\n",
              "      <th>1</th>\n",
              "      <td>226.000406</td>\n",
              "      <td>203.723886</td>\n",
              "      <td>143.303871</td>\n",
              "      <td>225.820923</td>\n",
              "      <td>203.576844</td>\n",
              "      <td>143.258516</td>\n",
              "      <td>22.008116</td>\n",
              "      <td>93.349160</td>\n",
              "      <td>226.000406</td>\n",
              "      <td>22.015291</td>\n",
              "      <td>93.267193</td>\n",
              "      <td>225.820923</td>\n",
              "      <td>D2</td>\n",
              "      <td>A1</td>\n",
              "      <td>Set1</td>\n",
              "      <td>FC1BDDC8-C8A7-4C8D-90F6-E6B112FC674F.png</td>\n",
              "    </tr>\n",
              "    <tr>\n",
              "      <th>2</th>\n",
              "      <td>224.442172</td>\n",
              "      <td>206.266618</td>\n",
              "      <td>160.178557</td>\n",
              "      <td>222.176730</td>\n",
              "      <td>203.953275</td>\n",
              "      <td>158.401181</td>\n",
              "      <td>21.786219</td>\n",
              "      <td>73.045126</td>\n",
              "      <td>224.442172</td>\n",
              "      <td>21.750942</td>\n",
              "      <td>73.266908</td>\n",
              "      <td>222.176730</td>\n",
              "      <td>D2</td>\n",
              "      <td>A1</td>\n",
              "      <td>Set1</td>\n",
              "      <td>27DD78A7-D5F3-4BAB-BFE1-8D2D8AB88D29.png</td>\n",
              "    </tr>\n",
              "    <tr>\n",
              "      <th>3</th>\n",
              "      <td>223.874199</td>\n",
              "      <td>201.225956</td>\n",
              "      <td>149.612613</td>\n",
              "      <td>222.262357</td>\n",
              "      <td>195.465899</td>\n",
              "      <td>140.510063</td>\n",
              "      <td>20.100317</td>\n",
              "      <td>93.927522</td>\n",
              "      <td>222.178557</td>\n",
              "      <td>20.100135</td>\n",
              "      <td>93.801294</td>\n",
              "      <td>222.262357</td>\n",
              "      <td>D2</td>\n",
              "      <td>A1</td>\n",
              "      <td>Set1</td>\n",
              "      <td>25A38DEA-0A5E-4502-AE98-BDEB123DF4E5.png</td>\n",
              "    </tr>\n",
              "    <tr>\n",
              "      <th>4</th>\n",
              "      <td>209.855856</td>\n",
              "      <td>179.533723</td>\n",
              "      <td>121.571869</td>\n",
              "      <td>212.670507</td>\n",
              "      <td>182.227295</td>\n",
              "      <td>125.368110</td>\n",
              "      <td>19.527149</td>\n",
              "      <td>107.243406</td>\n",
              "      <td>209.855856</td>\n",
              "      <td>19.309366</td>\n",
              "      <td>104.611194</td>\n",
              "      <td>212.670507</td>\n",
              "      <td>D2</td>\n",
              "      <td>A1</td>\n",
              "      <td>Set1</td>\n",
              "      <td>7396F2FB-8C50-4ED7-AA8C-CDAE1624F900.png</td>\n",
              "    </tr>\n",
              "    <tr>\n",
              "      <th>...</th>\n",
              "      <td>...</td>\n",
              "      <td>...</td>\n",
              "      <td>...</td>\n",
              "      <td>...</td>\n",
              "      <td>...</td>\n",
              "      <td>...</td>\n",
              "      <td>...</td>\n",
              "      <td>...</td>\n",
              "      <td>...</td>\n",
              "      <td>...</td>\n",
              "      <td>...</td>\n",
              "      <td>...</td>\n",
              "      <td>...</td>\n",
              "      <td>...</td>\n",
              "      <td>...</td>\n",
              "      <td>...</td>\n",
              "    </tr>\n",
              "    <tr>\n",
              "      <th>3195</th>\n",
              "      <td>232.804642</td>\n",
              "      <td>209.441604</td>\n",
              "      <td>164.924357</td>\n",
              "      <td>233.308869</td>\n",
              "      <td>210.109594</td>\n",
              "      <td>166.164853</td>\n",
              "      <td>19.601331</td>\n",
              "      <td>74.376755</td>\n",
              "      <td>232.804642</td>\n",
              "      <td>19.552094</td>\n",
              "      <td>73.433042</td>\n",
              "      <td>233.308869</td>\n",
              "      <td>D2</td>\n",
              "      <td>D4</td>\n",
              "      <td>Set4</td>\n",
              "      <td>930BCBF0-9910-4884-8228-F2A135105AD6.png</td>\n",
              "    </tr>\n",
              "    <tr>\n",
              "      <th>3196</th>\n",
              "      <td>235.903985</td>\n",
              "      <td>218.940670</td>\n",
              "      <td>179.875741</td>\n",
              "      <td>236.487092</td>\n",
              "      <td>219.666951</td>\n",
              "      <td>181.014864</td>\n",
              "      <td>20.612775</td>\n",
              "      <td>78.169873</td>\n",
              "      <td>229.335768</td>\n",
              "      <td>20.589787</td>\n",
              "      <td>77.092810</td>\n",
              "      <td>229.914515</td>\n",
              "      <td>D2</td>\n",
              "      <td>D4</td>\n",
              "      <td>Set4</td>\n",
              "      <td>B811B91C-FF15-4F72-AF53-4D0A2346EF9E.png</td>\n",
              "    </tr>\n",
              "    <tr>\n",
              "      <th>3197</th>\n",
              "      <td>232.175960</td>\n",
              "      <td>216.874036</td>\n",
              "      <td>178.708465</td>\n",
              "      <td>232.964654</td>\n",
              "      <td>217.832160</td>\n",
              "      <td>180.185122</td>\n",
              "      <td>21.562292</td>\n",
              "      <td>58.762357</td>\n",
              "      <td>232.175960</td>\n",
              "      <td>21.513975</td>\n",
              "      <td>57.839201</td>\n",
              "      <td>232.964654</td>\n",
              "      <td>D2</td>\n",
              "      <td>D4</td>\n",
              "      <td>Set4</td>\n",
              "      <td>EFCF8DF7-D986-4A84-B87F-B7C96CBEB72C.png</td>\n",
              "    </tr>\n",
              "    <tr>\n",
              "      <th>3198</th>\n",
              "      <td>231.726077</td>\n",
              "      <td>211.455077</td>\n",
              "      <td>167.223440</td>\n",
              "      <td>232.533177</td>\n",
              "      <td>212.551597</td>\n",
              "      <td>168.982505</td>\n",
              "      <td>20.556367</td>\n",
              "      <td>71.019641</td>\n",
              "      <td>231.726077</td>\n",
              "      <td>20.552237</td>\n",
              "      <td>69.773771</td>\n",
              "      <td>232.533177</td>\n",
              "      <td>D2</td>\n",
              "      <td>D4</td>\n",
              "      <td>Set4</td>\n",
              "      <td>F62B2418-6BD9-4E8F-AA84-7F33573893C9.png</td>\n",
              "    </tr>\n",
              "    <tr>\n",
              "      <th>3199</th>\n",
              "      <td>226.100641</td>\n",
              "      <td>197.575278</td>\n",
              "      <td>146.748235</td>\n",
              "      <td>226.795889</td>\n",
              "      <td>198.548539</td>\n",
              "      <td>147.966148</td>\n",
              "      <td>19.189595</td>\n",
              "      <td>89.497849</td>\n",
              "      <td>226.100641</td>\n",
              "      <td>19.239457</td>\n",
              "      <td>88.650238</td>\n",
              "      <td>226.795889</td>\n",
              "      <td>D2</td>\n",
              "      <td>D4</td>\n",
              "      <td>Set4</td>\n",
              "      <td>66E2C493-32D2-491F-854C-A1D9067414F4.png</td>\n",
              "    </tr>\n",
              "  </tbody>\n",
              "</table>\n",
              "<p>3200 rows × 16 columns</p>\n",
              "</div>\n",
              "      <button class=\"colab-df-convert\" onclick=\"convertToInteractive('df-e6399bbf-df74-422f-9b5e-85b07355ce53')\"\n",
              "              title=\"Convert this dataframe to an interactive table.\"\n",
              "              style=\"display:none;\">\n",
              "        \n",
              "  <svg xmlns=\"http://www.w3.org/2000/svg\" height=\"24px\"viewBox=\"0 0 24 24\"\n",
              "       width=\"24px\">\n",
              "    <path d=\"M0 0h24v24H0V0z\" fill=\"none\"/>\n",
              "    <path d=\"M18.56 5.44l.94 2.06.94-2.06 2.06-.94-2.06-.94-.94-2.06-.94 2.06-2.06.94zm-11 1L8.5 8.5l.94-2.06 2.06-.94-2.06-.94L8.5 2.5l-.94 2.06-2.06.94zm10 10l.94 2.06.94-2.06 2.06-.94-2.06-.94-.94-2.06-.94 2.06-2.06.94z\"/><path d=\"M17.41 7.96l-1.37-1.37c-.4-.4-.92-.59-1.43-.59-.52 0-1.04.2-1.43.59L10.3 9.45l-7.72 7.72c-.78.78-.78 2.05 0 2.83L4 21.41c.39.39.9.59 1.41.59.51 0 1.02-.2 1.41-.59l7.78-7.78 2.81-2.81c.8-.78.8-2.07 0-2.86zM5.41 20L4 18.59l7.72-7.72 1.47 1.35L5.41 20z\"/>\n",
              "  </svg>\n",
              "      </button>\n",
              "      \n",
              "  <style>\n",
              "    .colab-df-container {\n",
              "      display:flex;\n",
              "      flex-wrap:wrap;\n",
              "      gap: 12px;\n",
              "    }\n",
              "\n",
              "    .colab-df-convert {\n",
              "      background-color: #E8F0FE;\n",
              "      border: none;\n",
              "      border-radius: 50%;\n",
              "      cursor: pointer;\n",
              "      display: none;\n",
              "      fill: #1967D2;\n",
              "      height: 32px;\n",
              "      padding: 0 0 0 0;\n",
              "      width: 32px;\n",
              "    }\n",
              "\n",
              "    .colab-df-convert:hover {\n",
              "      background-color: #E2EBFA;\n",
              "      box-shadow: 0px 1px 2px rgba(60, 64, 67, 0.3), 0px 1px 3px 1px rgba(60, 64, 67, 0.15);\n",
              "      fill: #174EA6;\n",
              "    }\n",
              "\n",
              "    [theme=dark] .colab-df-convert {\n",
              "      background-color: #3B4455;\n",
              "      fill: #D2E3FC;\n",
              "    }\n",
              "\n",
              "    [theme=dark] .colab-df-convert:hover {\n",
              "      background-color: #434B5C;\n",
              "      box-shadow: 0px 1px 3px 1px rgba(0, 0, 0, 0.15);\n",
              "      filter: drop-shadow(0px 1px 2px rgba(0, 0, 0, 0.3));\n",
              "      fill: #FFFFFF;\n",
              "    }\n",
              "  </style>\n",
              "\n",
              "      <script>\n",
              "        const buttonEl =\n",
              "          document.querySelector('#df-e6399bbf-df74-422f-9b5e-85b07355ce53 button.colab-df-convert');\n",
              "        buttonEl.style.display =\n",
              "          google.colab.kernel.accessAllowed ? 'block' : 'none';\n",
              "\n",
              "        async function convertToInteractive(key) {\n",
              "          const element = document.querySelector('#df-e6399bbf-df74-422f-9b5e-85b07355ce53');\n",
              "          const dataTable =\n",
              "            await google.colab.kernel.invokeFunction('convertToInteractive',\n",
              "                                                     [key], {});\n",
              "          if (!dataTable) return;\n",
              "\n",
              "          const docLinkHtml = 'Like what you see? Visit the ' +\n",
              "            '<a target=\"_blank\" href=https://colab.research.google.com/notebooks/data_table.ipynb>data table notebook</a>'\n",
              "            + ' to learn more about interactive tables.';\n",
              "          element.innerHTML = '';\n",
              "          dataTable['output_type'] = 'display_data';\n",
              "          await google.colab.output.renderOutput(dataTable, element);\n",
              "          const docLink = document.createElement('div');\n",
              "          docLink.innerHTML = docLinkHtml;\n",
              "          element.appendChild(docLink);\n",
              "        }\n",
              "      </script>\n",
              "    </div>\n",
              "  </div>\n",
              "  "
            ],
            "text/plain": [
              "           R-ref       G-ref  ...  Setting                                       Img\n",
              "0     229.674702  206.699294  ...     Set1  BD87D607-5718-45C1-A0DB-D75E63316FD0.png\n",
              "1     226.000406  203.723886  ...     Set1  FC1BDDC8-C8A7-4C8D-90F6-E6B112FC674F.png\n",
              "2     224.442172  206.266618  ...     Set1  27DD78A7-D5F3-4BAB-BFE1-8D2D8AB88D29.png\n",
              "3     223.874199  201.225956  ...     Set1  25A38DEA-0A5E-4502-AE98-BDEB123DF4E5.png\n",
              "4     209.855856  179.533723  ...     Set1  7396F2FB-8C50-4ED7-AA8C-CDAE1624F900.png\n",
              "...          ...         ...  ...      ...                                       ...\n",
              "3195  232.804642  209.441604  ...     Set4  930BCBF0-9910-4884-8228-F2A135105AD6.png\n",
              "3196  235.903985  218.940670  ...     Set4  B811B91C-FF15-4F72-AF53-4D0A2346EF9E.png\n",
              "3197  232.175960  216.874036  ...     Set4  EFCF8DF7-D986-4A84-B87F-B7C96CBEB72C.png\n",
              "3198  231.726077  211.455077  ...     Set4  F62B2418-6BD9-4E8F-AA84-7F33573893C9.png\n",
              "3199  226.100641  197.575278  ...     Set4  66E2C493-32D2-491F-854C-A1D9067414F4.png\n",
              "\n",
              "[3200 rows x 16 columns]"
            ]
          },
          "metadata": {},
          "execution_count": 136
        }
      ]
    },
    {
      "cell_type": "code",
      "source": [
        "RGB_D2 = table_D2.drop(['H-ref','S-ref','V-ref','S-Shad','V-Shad','Shade-ref','Setting','Img','Shade','H-Shad'], axis=1)"
      ],
      "metadata": {
        "id": "ur6MxhejjEXM"
      },
      "execution_count": 137,
      "outputs": []
    },
    {
      "cell_type": "code",
      "source": [
        "X_D2 = np.array(RGB_D2)"
      ],
      "metadata": {
        "id": "zgkL6RdOjEXN"
      },
      "execution_count": 138,
      "outputs": []
    },
    {
      "cell_type": "code",
      "source": [
        "y_D2 =  table_C2.iloc[:,13:14]"
      ],
      "metadata": {
        "id": "SZpwjk7JjEXN"
      },
      "execution_count": 139,
      "outputs": []
    },
    {
      "cell_type": "code",
      "source": [
        "y_D2= np.array(y_D2)\n",
        "y_D2"
      ],
      "metadata": {
        "outputId": "0a4ec003-8cd4-497f-98c8-6f9fad11f66d",
        "colab": {
          "base_uri": "https://localhost:8080/"
        },
        "id": "LwtVvNQ0jEXN"
      },
      "execution_count": 140,
      "outputs": [
        {
          "output_type": "execute_result",
          "data": {
            "text/plain": [
              "array([['A1'],\n",
              "       ['A1'],\n",
              "       ['A1'],\n",
              "       ...,\n",
              "       ['D4'],\n",
              "       ['D4'],\n",
              "       ['D4']], dtype=object)"
            ]
          },
          "metadata": {},
          "execution_count": 140
        }
      ]
    },
    {
      "cell_type": "code",
      "source": [
        "X_test_D2, X_train_D2 , y_test_D2, y_train_D2 = train_test_split(X_D2, y_D2, test_size=80, train_size=320)"
      ],
      "metadata": {
        "id": "DrOURgSvthl9"
      },
      "execution_count": 141,
      "outputs": []
    },
    {
      "cell_type": "code",
      "source": [
        "clf.fit(X_train_D2, y_train_D2)"
      ],
      "metadata": {
        "outputId": "7cae70ab-c68f-4e3c-e862-3cdbbf8f231d",
        "colab": {
          "base_uri": "https://localhost:8080/"
        },
        "id": "yByrwUV8jEXN"
      },
      "execution_count": 142,
      "outputs": [
        {
          "output_type": "stream",
          "name": "stderr",
          "text": [
            "/usr/local/lib/python3.7/dist-packages/sklearn/utils/validation.py:985: DataConversionWarning: A column-vector y was passed when a 1d array was expected. Please change the shape of y to (n_samples, ), for example using ravel().\n",
            "  y = column_or_1d(y, warn=True)\n"
          ]
        },
        {
          "output_type": "execute_result",
          "data": {
            "text/plain": [
              "SVC(kernel='poly')"
            ]
          },
          "metadata": {},
          "execution_count": 142
        }
      ]
    },
    {
      "cell_type": "code",
      "source": [
        "y_pred_D2 = clf.predict(X_test_D2)"
      ],
      "metadata": {
        "id": "_PBkYrfjjEXN"
      },
      "execution_count": 143,
      "outputs": []
    },
    {
      "cell_type": "code",
      "source": [
        "print(\"Accuracy:\", metrics.accuracy_score(y_test_D2, y_pred_D2))"
      ],
      "metadata": {
        "outputId": "f1f157ee-6ec3-4997-bbf9-beed1e9d0f10",
        "colab": {
          "base_uri": "https://localhost:8080/"
        },
        "id": "cEjzkY35jEXN"
      },
      "execution_count": 144,
      "outputs": [
        {
          "output_type": "stream",
          "name": "stdout",
          "text": [
            "Accuracy: 0.10625\n"
          ]
        }
      ]
    },
    {
      "cell_type": "markdown",
      "source": [
        "##D3"
      ],
      "metadata": {
        "id": "5s8VIgpLjEXO"
      }
    },
    {
      "cell_type": "code",
      "source": [
        "table_D3= pd.read_excel(DD, sheet_name='D3')\n",
        "table_D3"
      ],
      "metadata": {
        "colab": {
          "base_uri": "https://localhost:8080/",
          "height": 0
        },
        "outputId": "577059e3-92ec-4005-93ef-38b5940ca91f",
        "id": "_9XjnGG2jEXO"
      },
      "execution_count": 145,
      "outputs": [
        {
          "output_type": "execute_result",
          "data": {
            "text/html": [
              "\n",
              "  <div id=\"df-3f81b05f-8cdb-4de3-95b8-ef1d818da667\">\n",
              "    <div class=\"colab-df-container\">\n",
              "      <div>\n",
              "<style scoped>\n",
              "    .dataframe tbody tr th:only-of-type {\n",
              "        vertical-align: middle;\n",
              "    }\n",
              "\n",
              "    .dataframe tbody tr th {\n",
              "        vertical-align: top;\n",
              "    }\n",
              "\n",
              "    .dataframe thead th {\n",
              "        text-align: right;\n",
              "    }\n",
              "</style>\n",
              "<table border=\"1\" class=\"dataframe\">\n",
              "  <thead>\n",
              "    <tr style=\"text-align: right;\">\n",
              "      <th></th>\n",
              "      <th>R-ref</th>\n",
              "      <th>G-ref</th>\n",
              "      <th>B-ref</th>\n",
              "      <th>R-Shad</th>\n",
              "      <th>G-Shad</th>\n",
              "      <th>B-Shad</th>\n",
              "      <th>H-ref</th>\n",
              "      <th>S-ref</th>\n",
              "      <th>V-ref</th>\n",
              "      <th>H-Shad</th>\n",
              "      <th>S-Shad</th>\n",
              "      <th>V-Shad</th>\n",
              "      <th>Shade-ref</th>\n",
              "      <th>Shade</th>\n",
              "      <th>Setting</th>\n",
              "      <th>Img</th>\n",
              "    </tr>\n",
              "  </thead>\n",
              "  <tbody>\n",
              "    <tr>\n",
              "      <th>0</th>\n",
              "      <td>232.175960</td>\n",
              "      <td>216.874036</td>\n",
              "      <td>178.708465</td>\n",
              "      <td>232.964654</td>\n",
              "      <td>217.832160</td>\n",
              "      <td>180.185122</td>\n",
              "      <td>21.562292</td>\n",
              "      <td>58.762357</td>\n",
              "      <td>232.175960</td>\n",
              "      <td>21.513975</td>\n",
              "      <td>57.839201</td>\n",
              "      <td>232.964654</td>\n",
              "      <td>D3</td>\n",
              "      <td>A1</td>\n",
              "      <td>Set1</td>\n",
              "      <td>57601EF7-37D5-4783-A278-238D30F60912.png</td>\n",
              "    </tr>\n",
              "    <tr>\n",
              "      <th>1</th>\n",
              "      <td>231.726077</td>\n",
              "      <td>211.455077</td>\n",
              "      <td>167.223440</td>\n",
              "      <td>232.533177</td>\n",
              "      <td>212.551597</td>\n",
              "      <td>168.982505</td>\n",
              "      <td>20.556367</td>\n",
              "      <td>71.019641</td>\n",
              "      <td>231.726077</td>\n",
              "      <td>20.552237</td>\n",
              "      <td>69.773771</td>\n",
              "      <td>232.533177</td>\n",
              "      <td>D3</td>\n",
              "      <td>A1</td>\n",
              "      <td>Set1</td>\n",
              "      <td>5412037F-4AF3-43A2-A4ED-CADFEC0751E7.png</td>\n",
              "    </tr>\n",
              "    <tr>\n",
              "      <th>2</th>\n",
              "      <td>226.100641</td>\n",
              "      <td>197.575278</td>\n",
              "      <td>146.748235</td>\n",
              "      <td>226.795889</td>\n",
              "      <td>198.548539</td>\n",
              "      <td>147.966148</td>\n",
              "      <td>19.189595</td>\n",
              "      <td>89.497849</td>\n",
              "      <td>226.100641</td>\n",
              "      <td>19.239457</td>\n",
              "      <td>88.650238</td>\n",
              "      <td>226.795889</td>\n",
              "      <td>D3</td>\n",
              "      <td>A1</td>\n",
              "      <td>Set1</td>\n",
              "      <td>456A44EC-FCBD-4487-B70C-F0E01333D15C.png</td>\n",
              "    </tr>\n",
              "    <tr>\n",
              "      <th>3</th>\n",
              "      <td>230.612531</td>\n",
              "      <td>207.562373</td>\n",
              "      <td>164.211752</td>\n",
              "      <td>231.210796</td>\n",
              "      <td>208.351682</td>\n",
              "      <td>165.428561</td>\n",
              "      <td>19.566594</td>\n",
              "      <td>73.461651</td>\n",
              "      <td>230.612531</td>\n",
              "      <td>19.550743</td>\n",
              "      <td>72.606500</td>\n",
              "      <td>231.210796</td>\n",
              "      <td>D3</td>\n",
              "      <td>A1</td>\n",
              "      <td>Set1</td>\n",
              "      <td>834A3691-A011-4D07-8652-E2A2C8F1E3F7.png</td>\n",
              "    </tr>\n",
              "    <tr>\n",
              "      <th>4</th>\n",
              "      <td>232.133431</td>\n",
              "      <td>209.823472</td>\n",
              "      <td>160.814707</td>\n",
              "      <td>232.841548</td>\n",
              "      <td>211.054264</td>\n",
              "      <td>163.067989</td>\n",
              "      <td>20.814463</td>\n",
              "      <td>78.373996</td>\n",
              "      <td>232.133431</td>\n",
              "      <td>20.855487</td>\n",
              "      <td>76.523434</td>\n",
              "      <td>232.841832</td>\n",
              "      <td>D3</td>\n",
              "      <td>A1</td>\n",
              "      <td>Set1</td>\n",
              "      <td>714E83ED-391B-480A-85E8-DC4AB8864683.png</td>\n",
              "    </tr>\n",
              "    <tr>\n",
              "      <th>...</th>\n",
              "      <td>...</td>\n",
              "      <td>...</td>\n",
              "      <td>...</td>\n",
              "      <td>...</td>\n",
              "      <td>...</td>\n",
              "      <td>...</td>\n",
              "      <td>...</td>\n",
              "      <td>...</td>\n",
              "      <td>...</td>\n",
              "      <td>...</td>\n",
              "      <td>...</td>\n",
              "      <td>...</td>\n",
              "      <td>...</td>\n",
              "      <td>...</td>\n",
              "      <td>...</td>\n",
              "      <td>...</td>\n",
              "    </tr>\n",
              "    <tr>\n",
              "      <th>3195</th>\n",
              "      <td>232.804642</td>\n",
              "      <td>209.441604</td>\n",
              "      <td>164.924357</td>\n",
              "      <td>233.308869</td>\n",
              "      <td>210.109594</td>\n",
              "      <td>166.164853</td>\n",
              "      <td>19.601331</td>\n",
              "      <td>74.376755</td>\n",
              "      <td>232.804642</td>\n",
              "      <td>19.552094</td>\n",
              "      <td>73.433042</td>\n",
              "      <td>233.308869</td>\n",
              "      <td>D3</td>\n",
              "      <td>D4</td>\n",
              "      <td>Set4</td>\n",
              "      <td>10CE35C5-6743-4EEA-98A9-680ECFAEEC9D.png</td>\n",
              "    </tr>\n",
              "    <tr>\n",
              "      <th>3196</th>\n",
              "      <td>235.903985</td>\n",
              "      <td>218.940670</td>\n",
              "      <td>179.875741</td>\n",
              "      <td>236.487092</td>\n",
              "      <td>219.666951</td>\n",
              "      <td>181.014864</td>\n",
              "      <td>20.612775</td>\n",
              "      <td>78.169873</td>\n",
              "      <td>229.335768</td>\n",
              "      <td>20.589787</td>\n",
              "      <td>77.092810</td>\n",
              "      <td>229.914515</td>\n",
              "      <td>D3</td>\n",
              "      <td>D4</td>\n",
              "      <td>Set4</td>\n",
              "      <td>944DB7CA-D69F-4E46-BD49-456D2156BCD0.png</td>\n",
              "    </tr>\n",
              "    <tr>\n",
              "      <th>3197</th>\n",
              "      <td>232.175960</td>\n",
              "      <td>216.874036</td>\n",
              "      <td>178.708465</td>\n",
              "      <td>232.964654</td>\n",
              "      <td>217.832160</td>\n",
              "      <td>180.185122</td>\n",
              "      <td>21.562292</td>\n",
              "      <td>58.762357</td>\n",
              "      <td>232.175960</td>\n",
              "      <td>21.513975</td>\n",
              "      <td>57.839201</td>\n",
              "      <td>232.964654</td>\n",
              "      <td>D3</td>\n",
              "      <td>D4</td>\n",
              "      <td>Set4</td>\n",
              "      <td>A632E1CE-7393-43EB-8D28-77A0DB3FB2FB.png</td>\n",
              "    </tr>\n",
              "    <tr>\n",
              "      <th>3198</th>\n",
              "      <td>231.726077</td>\n",
              "      <td>211.455077</td>\n",
              "      <td>167.223440</td>\n",
              "      <td>232.533177</td>\n",
              "      <td>212.551597</td>\n",
              "      <td>168.982505</td>\n",
              "      <td>20.556367</td>\n",
              "      <td>71.019641</td>\n",
              "      <td>231.726077</td>\n",
              "      <td>20.552237</td>\n",
              "      <td>69.773771</td>\n",
              "      <td>232.533177</td>\n",
              "      <td>D3</td>\n",
              "      <td>D4</td>\n",
              "      <td>Set4</td>\n",
              "      <td>9FBF239E-E5C8-4445-AA48-402EB3B8A4E4.png</td>\n",
              "    </tr>\n",
              "    <tr>\n",
              "      <th>3199</th>\n",
              "      <td>226.100641</td>\n",
              "      <td>197.575278</td>\n",
              "      <td>146.748235</td>\n",
              "      <td>226.795889</td>\n",
              "      <td>198.548539</td>\n",
              "      <td>147.966148</td>\n",
              "      <td>19.189595</td>\n",
              "      <td>89.497849</td>\n",
              "      <td>226.100641</td>\n",
              "      <td>19.239457</td>\n",
              "      <td>88.650238</td>\n",
              "      <td>226.795889</td>\n",
              "      <td>D3</td>\n",
              "      <td>D4</td>\n",
              "      <td>Set4</td>\n",
              "      <td>70F2BDFA-31E1-4B8C-98B7-FD92D3194389.png</td>\n",
              "    </tr>\n",
              "  </tbody>\n",
              "</table>\n",
              "<p>3200 rows × 16 columns</p>\n",
              "</div>\n",
              "      <button class=\"colab-df-convert\" onclick=\"convertToInteractive('df-3f81b05f-8cdb-4de3-95b8-ef1d818da667')\"\n",
              "              title=\"Convert this dataframe to an interactive table.\"\n",
              "              style=\"display:none;\">\n",
              "        \n",
              "  <svg xmlns=\"http://www.w3.org/2000/svg\" height=\"24px\"viewBox=\"0 0 24 24\"\n",
              "       width=\"24px\">\n",
              "    <path d=\"M0 0h24v24H0V0z\" fill=\"none\"/>\n",
              "    <path d=\"M18.56 5.44l.94 2.06.94-2.06 2.06-.94-2.06-.94-.94-2.06-.94 2.06-2.06.94zm-11 1L8.5 8.5l.94-2.06 2.06-.94-2.06-.94L8.5 2.5l-.94 2.06-2.06.94zm10 10l.94 2.06.94-2.06 2.06-.94-2.06-.94-.94-2.06-.94 2.06-2.06.94z\"/><path d=\"M17.41 7.96l-1.37-1.37c-.4-.4-.92-.59-1.43-.59-.52 0-1.04.2-1.43.59L10.3 9.45l-7.72 7.72c-.78.78-.78 2.05 0 2.83L4 21.41c.39.39.9.59 1.41.59.51 0 1.02-.2 1.41-.59l7.78-7.78 2.81-2.81c.8-.78.8-2.07 0-2.86zM5.41 20L4 18.59l7.72-7.72 1.47 1.35L5.41 20z\"/>\n",
              "  </svg>\n",
              "      </button>\n",
              "      \n",
              "  <style>\n",
              "    .colab-df-container {\n",
              "      display:flex;\n",
              "      flex-wrap:wrap;\n",
              "      gap: 12px;\n",
              "    }\n",
              "\n",
              "    .colab-df-convert {\n",
              "      background-color: #E8F0FE;\n",
              "      border: none;\n",
              "      border-radius: 50%;\n",
              "      cursor: pointer;\n",
              "      display: none;\n",
              "      fill: #1967D2;\n",
              "      height: 32px;\n",
              "      padding: 0 0 0 0;\n",
              "      width: 32px;\n",
              "    }\n",
              "\n",
              "    .colab-df-convert:hover {\n",
              "      background-color: #E2EBFA;\n",
              "      box-shadow: 0px 1px 2px rgba(60, 64, 67, 0.3), 0px 1px 3px 1px rgba(60, 64, 67, 0.15);\n",
              "      fill: #174EA6;\n",
              "    }\n",
              "\n",
              "    [theme=dark] .colab-df-convert {\n",
              "      background-color: #3B4455;\n",
              "      fill: #D2E3FC;\n",
              "    }\n",
              "\n",
              "    [theme=dark] .colab-df-convert:hover {\n",
              "      background-color: #434B5C;\n",
              "      box-shadow: 0px 1px 3px 1px rgba(0, 0, 0, 0.15);\n",
              "      filter: drop-shadow(0px 1px 2px rgba(0, 0, 0, 0.3));\n",
              "      fill: #FFFFFF;\n",
              "    }\n",
              "  </style>\n",
              "\n",
              "      <script>\n",
              "        const buttonEl =\n",
              "          document.querySelector('#df-3f81b05f-8cdb-4de3-95b8-ef1d818da667 button.colab-df-convert');\n",
              "        buttonEl.style.display =\n",
              "          google.colab.kernel.accessAllowed ? 'block' : 'none';\n",
              "\n",
              "        async function convertToInteractive(key) {\n",
              "          const element = document.querySelector('#df-3f81b05f-8cdb-4de3-95b8-ef1d818da667');\n",
              "          const dataTable =\n",
              "            await google.colab.kernel.invokeFunction('convertToInteractive',\n",
              "                                                     [key], {});\n",
              "          if (!dataTable) return;\n",
              "\n",
              "          const docLinkHtml = 'Like what you see? Visit the ' +\n",
              "            '<a target=\"_blank\" href=https://colab.research.google.com/notebooks/data_table.ipynb>data table notebook</a>'\n",
              "            + ' to learn more about interactive tables.';\n",
              "          element.innerHTML = '';\n",
              "          dataTable['output_type'] = 'display_data';\n",
              "          await google.colab.output.renderOutput(dataTable, element);\n",
              "          const docLink = document.createElement('div');\n",
              "          docLink.innerHTML = docLinkHtml;\n",
              "          element.appendChild(docLink);\n",
              "        }\n",
              "      </script>\n",
              "    </div>\n",
              "  </div>\n",
              "  "
            ],
            "text/plain": [
              "           R-ref       G-ref  ...  Setting                                       Img\n",
              "0     232.175960  216.874036  ...     Set1  57601EF7-37D5-4783-A278-238D30F60912.png\n",
              "1     231.726077  211.455077  ...     Set1  5412037F-4AF3-43A2-A4ED-CADFEC0751E7.png\n",
              "2     226.100641  197.575278  ...     Set1  456A44EC-FCBD-4487-B70C-F0E01333D15C.png\n",
              "3     230.612531  207.562373  ...     Set1  834A3691-A011-4D07-8652-E2A2C8F1E3F7.png\n",
              "4     232.133431  209.823472  ...     Set1  714E83ED-391B-480A-85E8-DC4AB8864683.png\n",
              "...          ...         ...  ...      ...                                       ...\n",
              "3195  232.804642  209.441604  ...     Set4  10CE35C5-6743-4EEA-98A9-680ECFAEEC9D.png\n",
              "3196  235.903985  218.940670  ...     Set4  944DB7CA-D69F-4E46-BD49-456D2156BCD0.png\n",
              "3197  232.175960  216.874036  ...     Set4  A632E1CE-7393-43EB-8D28-77A0DB3FB2FB.png\n",
              "3198  231.726077  211.455077  ...     Set4  9FBF239E-E5C8-4445-AA48-402EB3B8A4E4.png\n",
              "3199  226.100641  197.575278  ...     Set4  70F2BDFA-31E1-4B8C-98B7-FD92D3194389.png\n",
              "\n",
              "[3200 rows x 16 columns]"
            ]
          },
          "metadata": {},
          "execution_count": 145
        }
      ]
    },
    {
      "cell_type": "code",
      "source": [
        "RGB_D3 = table_D3.drop(['H-ref','S-ref','V-ref','S-Shad','V-Shad','Shade-ref','Setting','Img','Shade','H-Shad'], axis=1)"
      ],
      "metadata": {
        "id": "zJ_KBV3SjEXO"
      },
      "execution_count": 146,
      "outputs": []
    },
    {
      "cell_type": "code",
      "source": [
        "X_D3 = np.array(RGB_D3)"
      ],
      "metadata": {
        "id": "Vwt7o6_RjEXO"
      },
      "execution_count": 147,
      "outputs": []
    },
    {
      "cell_type": "code",
      "source": [
        "y_D3 =  table_D3.iloc[:,13:14]"
      ],
      "metadata": {
        "id": "WkkXzq8rjEXO"
      },
      "execution_count": 148,
      "outputs": []
    },
    {
      "cell_type": "code",
      "source": [
        "y_D3 = np.array(y_D3)\n",
        "y_D3"
      ],
      "metadata": {
        "outputId": "a4f19e3c-b6d2-4cbc-ad08-bcf04f8c5cdb",
        "colab": {
          "base_uri": "https://localhost:8080/"
        },
        "id": "5or-JWTCjEXO"
      },
      "execution_count": 149,
      "outputs": [
        {
          "output_type": "execute_result",
          "data": {
            "text/plain": [
              "array([['A1'],\n",
              "       ['A1'],\n",
              "       ['A1'],\n",
              "       ...,\n",
              "       ['D4'],\n",
              "       ['D4'],\n",
              "       ['D4']], dtype=object)"
            ]
          },
          "metadata": {},
          "execution_count": 149
        }
      ]
    },
    {
      "cell_type": "code",
      "source": [
        "X_test_D3, X_train_D3 , y_test_D3, y_train_D3 = train_test_split(X_D3, y_D3, test_size=80, train_size=320)"
      ],
      "metadata": {
        "id": "1WMLd2TwtrRb"
      },
      "execution_count": 150,
      "outputs": []
    },
    {
      "cell_type": "code",
      "source": [
        "clf.fit(X_train_D3, y_train_D3)"
      ],
      "metadata": {
        "outputId": "40c40261-022c-42e2-ff13-f3ba20d87488",
        "colab": {
          "base_uri": "https://localhost:8080/"
        },
        "id": "xMcAjw9yjEXO"
      },
      "execution_count": 151,
      "outputs": [
        {
          "output_type": "stream",
          "name": "stderr",
          "text": [
            "/usr/local/lib/python3.7/dist-packages/sklearn/utils/validation.py:985: DataConversionWarning: A column-vector y was passed when a 1d array was expected. Please change the shape of y to (n_samples, ), for example using ravel().\n",
            "  y = column_or_1d(y, warn=True)\n"
          ]
        },
        {
          "output_type": "execute_result",
          "data": {
            "text/plain": [
              "SVC(kernel='poly')"
            ]
          },
          "metadata": {},
          "execution_count": 151
        }
      ]
    },
    {
      "cell_type": "code",
      "source": [
        "y_pred_D3 = clf.predict(X_test_D3)"
      ],
      "metadata": {
        "id": "fcC7N9IxjEXP"
      },
      "execution_count": 152,
      "outputs": []
    },
    {
      "cell_type": "code",
      "source": [
        "print(\"Accuracy:\", metrics.accuracy_score(y_test_D3, y_pred_D3))"
      ],
      "metadata": {
        "outputId": "bf98d840-1129-43c7-d78c-daf92c25dc6f",
        "colab": {
          "base_uri": "https://localhost:8080/"
        },
        "id": "XVhqP4MojEXP"
      },
      "execution_count": 153,
      "outputs": [
        {
          "output_type": "stream",
          "name": "stdout",
          "text": [
            "Accuracy: 0.128125\n"
          ]
        }
      ]
    },
    {
      "cell_type": "markdown",
      "source": [
        "##D4"
      ],
      "metadata": {
        "id": "tsnJcGPLjEXP"
      }
    },
    {
      "cell_type": "code",
      "source": [
        "table_D4 = pd.read_excel(DD, sheet_name='D4')\n",
        "table_D4"
      ],
      "metadata": {
        "colab": {
          "base_uri": "https://localhost:8080/",
          "height": 0
        },
        "id": "kGavY6bTjEXP",
        "outputId": "e6d3d5d2-a123-4f4e-9528-1a5181ad2ef4"
      },
      "execution_count": 154,
      "outputs": [
        {
          "output_type": "execute_result",
          "data": {
            "text/html": [
              "\n",
              "  <div id=\"df-5dae6721-458a-428d-bb1d-270167800e09\">\n",
              "    <div class=\"colab-df-container\">\n",
              "      <div>\n",
              "<style scoped>\n",
              "    .dataframe tbody tr th:only-of-type {\n",
              "        vertical-align: middle;\n",
              "    }\n",
              "\n",
              "    .dataframe tbody tr th {\n",
              "        vertical-align: top;\n",
              "    }\n",
              "\n",
              "    .dataframe thead th {\n",
              "        text-align: right;\n",
              "    }\n",
              "</style>\n",
              "<table border=\"1\" class=\"dataframe\">\n",
              "  <thead>\n",
              "    <tr style=\"text-align: right;\">\n",
              "      <th></th>\n",
              "      <th>R-ref</th>\n",
              "      <th>G-ref</th>\n",
              "      <th>B-ref</th>\n",
              "      <th>R-Shad</th>\n",
              "      <th>G-Shad</th>\n",
              "      <th>B-Shad</th>\n",
              "      <th>H-ref</th>\n",
              "      <th>S-ref</th>\n",
              "      <th>V-ref</th>\n",
              "      <th>H-Shad</th>\n",
              "      <th>S-Shad</th>\n",
              "      <th>V-Shad</th>\n",
              "      <th>Shade-ref</th>\n",
              "      <th>Shade</th>\n",
              "      <th>Setting</th>\n",
              "      <th>Img</th>\n",
              "    </tr>\n",
              "  </thead>\n",
              "  <tbody>\n",
              "    <tr>\n",
              "      <th>0</th>\n",
              "      <td>240.865271</td>\n",
              "      <td>224.637854</td>\n",
              "      <td>178.549306</td>\n",
              "      <td>241.270820</td>\n",
              "      <td>225.258019</td>\n",
              "      <td>179.527345</td>\n",
              "      <td>22.332441</td>\n",
              "      <td>66.000568</td>\n",
              "      <td>240.865271</td>\n",
              "      <td>22.344499</td>\n",
              "      <td>65.293578</td>\n",
              "      <td>241.270820</td>\n",
              "      <td>D4</td>\n",
              "      <td>A1</td>\n",
              "      <td>Set1</td>\n",
              "      <td>D47BC759-4BF1-40D8-9D68-52766A1B3358.png</td>\n",
              "    </tr>\n",
              "    <tr>\n",
              "      <th>1</th>\n",
              "      <td>234.887834</td>\n",
              "      <td>223.690123</td>\n",
              "      <td>188.796283</td>\n",
              "      <td>235.609061</td>\n",
              "      <td>224.545978</td>\n",
              "      <td>190.322452</td>\n",
              "      <td>22.660093</td>\n",
              "      <td>50.039201</td>\n",
              "      <td>234.887834</td>\n",
              "      <td>22.616101</td>\n",
              "      <td>49.037977</td>\n",
              "      <td>235.609061</td>\n",
              "      <td>D4</td>\n",
              "      <td>A1</td>\n",
              "      <td>Set1</td>\n",
              "      <td>63D0E875-9DA6-4483-BB03-E54DC1E8BC87.png</td>\n",
              "    </tr>\n",
              "    <tr>\n",
              "      <th>2</th>\n",
              "      <td>237.374726</td>\n",
              "      <td>219.960149</td>\n",
              "      <td>176.637286</td>\n",
              "      <td>237.957613</td>\n",
              "      <td>220.812531</td>\n",
              "      <td>177.951355</td>\n",
              "      <td>21.737359</td>\n",
              "      <td>65.276114</td>\n",
              "      <td>237.374726</td>\n",
              "      <td>21.747173</td>\n",
              "      <td>64.356589</td>\n",
              "      <td>237.957613</td>\n",
              "      <td>D4</td>\n",
              "      <td>A1</td>\n",
              "      <td>Set1</td>\n",
              "      <td>779692A7-DE00-4434-843B-AEB78B8B0AF8.png</td>\n",
              "    </tr>\n",
              "    <tr>\n",
              "      <th>3</th>\n",
              "      <td>240.543706</td>\n",
              "      <td>213.146498</td>\n",
              "      <td>156.376268</td>\n",
              "      <td>241.134485</td>\n",
              "      <td>214.226655</td>\n",
              "      <td>158.206102</td>\n",
              "      <td>20.320672</td>\n",
              "      <td>89.255499</td>\n",
              "      <td>240.543706</td>\n",
              "      <td>20.371097</td>\n",
              "      <td>87.763246</td>\n",
              "      <td>241.134485</td>\n",
              "      <td>D4</td>\n",
              "      <td>A1</td>\n",
              "      <td>Set1</td>\n",
              "      <td>18456DEB-40B5-49F7-B753-562994BE1B43.png</td>\n",
              "    </tr>\n",
              "    <tr>\n",
              "      <th>4</th>\n",
              "      <td>240.498498</td>\n",
              "      <td>229.602062</td>\n",
              "      <td>194.791981</td>\n",
              "      <td>240.924756</td>\n",
              "      <td>230.162577</td>\n",
              "      <td>195.716165</td>\n",
              "      <td>22.651408</td>\n",
              "      <td>48.460271</td>\n",
              "      <td>240.498498</td>\n",
              "      <td>22.683806</td>\n",
              "      <td>47.859327</td>\n",
              "      <td>240.924756</td>\n",
              "      <td>D4</td>\n",
              "      <td>A1</td>\n",
              "      <td>Set1</td>\n",
              "      <td>72376331-D805-4BAC-AE50-7A04A6729880.png</td>\n",
              "    </tr>\n",
              "    <tr>\n",
              "      <th>...</th>\n",
              "      <td>...</td>\n",
              "      <td>...</td>\n",
              "      <td>...</td>\n",
              "      <td>...</td>\n",
              "      <td>...</td>\n",
              "      <td>...</td>\n",
              "      <td>...</td>\n",
              "      <td>...</td>\n",
              "      <td>...</td>\n",
              "      <td>...</td>\n",
              "      <td>...</td>\n",
              "      <td>...</td>\n",
              "      <td>...</td>\n",
              "      <td>...</td>\n",
              "      <td>...</td>\n",
              "      <td>...</td>\n",
              "    </tr>\n",
              "    <tr>\n",
              "      <th>3195</th>\n",
              "      <td>232.804642</td>\n",
              "      <td>209.441604</td>\n",
              "      <td>164.924357</td>\n",
              "      <td>233.308869</td>\n",
              "      <td>210.109594</td>\n",
              "      <td>166.164853</td>\n",
              "      <td>19.601331</td>\n",
              "      <td>74.376755</td>\n",
              "      <td>232.804642</td>\n",
              "      <td>19.552094</td>\n",
              "      <td>73.433042</td>\n",
              "      <td>233.308869</td>\n",
              "      <td>D4</td>\n",
              "      <td>D4</td>\n",
              "      <td>Set4</td>\n",
              "      <td>4B26C027-BBB5-43B7-AD79-12A17199C662.png</td>\n",
              "    </tr>\n",
              "    <tr>\n",
              "      <th>3196</th>\n",
              "      <td>235.903985</td>\n",
              "      <td>218.940670</td>\n",
              "      <td>179.875741</td>\n",
              "      <td>236.487092</td>\n",
              "      <td>219.666951</td>\n",
              "      <td>181.014864</td>\n",
              "      <td>20.612775</td>\n",
              "      <td>78.169873</td>\n",
              "      <td>229.335768</td>\n",
              "      <td>20.589787</td>\n",
              "      <td>77.092810</td>\n",
              "      <td>229.914515</td>\n",
              "      <td>D4</td>\n",
              "      <td>D4</td>\n",
              "      <td>Set4</td>\n",
              "      <td>D0B2410F-4D19-428D-ACAB-853194360AB9.png</td>\n",
              "    </tr>\n",
              "    <tr>\n",
              "      <th>3197</th>\n",
              "      <td>232.175960</td>\n",
              "      <td>216.874036</td>\n",
              "      <td>178.708465</td>\n",
              "      <td>232.964654</td>\n",
              "      <td>217.832160</td>\n",
              "      <td>180.185122</td>\n",
              "      <td>21.562292</td>\n",
              "      <td>58.762357</td>\n",
              "      <td>232.175960</td>\n",
              "      <td>21.513975</td>\n",
              "      <td>57.839201</td>\n",
              "      <td>232.964654</td>\n",
              "      <td>D4</td>\n",
              "      <td>D4</td>\n",
              "      <td>Set4</td>\n",
              "      <td>239381EF-714F-4EC1-9D07-36CEF09D68A1.png</td>\n",
              "    </tr>\n",
              "    <tr>\n",
              "      <th>3198</th>\n",
              "      <td>231.726077</td>\n",
              "      <td>211.455077</td>\n",
              "      <td>167.223440</td>\n",
              "      <td>232.533177</td>\n",
              "      <td>212.551597</td>\n",
              "      <td>168.982505</td>\n",
              "      <td>20.556367</td>\n",
              "      <td>71.019641</td>\n",
              "      <td>231.726077</td>\n",
              "      <td>20.552237</td>\n",
              "      <td>69.773771</td>\n",
              "      <td>232.533177</td>\n",
              "      <td>D4</td>\n",
              "      <td>D4</td>\n",
              "      <td>Set4</td>\n",
              "      <td>CA6B7419-61FE-4110-9EC1-CCD71F2B7962.png</td>\n",
              "    </tr>\n",
              "    <tr>\n",
              "      <th>3199</th>\n",
              "      <td>226.100641</td>\n",
              "      <td>197.575278</td>\n",
              "      <td>146.748235</td>\n",
              "      <td>226.795889</td>\n",
              "      <td>198.548539</td>\n",
              "      <td>147.966148</td>\n",
              "      <td>19.189595</td>\n",
              "      <td>89.497849</td>\n",
              "      <td>226.100641</td>\n",
              "      <td>19.239457</td>\n",
              "      <td>88.650238</td>\n",
              "      <td>226.795889</td>\n",
              "      <td>D4</td>\n",
              "      <td>D4</td>\n",
              "      <td>Set4</td>\n",
              "      <td>B54B3165-ED2D-4BAB-A9A0-CACAC9F50D49.png</td>\n",
              "    </tr>\n",
              "  </tbody>\n",
              "</table>\n",
              "<p>3200 rows × 16 columns</p>\n",
              "</div>\n",
              "      <button class=\"colab-df-convert\" onclick=\"convertToInteractive('df-5dae6721-458a-428d-bb1d-270167800e09')\"\n",
              "              title=\"Convert this dataframe to an interactive table.\"\n",
              "              style=\"display:none;\">\n",
              "        \n",
              "  <svg xmlns=\"http://www.w3.org/2000/svg\" height=\"24px\"viewBox=\"0 0 24 24\"\n",
              "       width=\"24px\">\n",
              "    <path d=\"M0 0h24v24H0V0z\" fill=\"none\"/>\n",
              "    <path d=\"M18.56 5.44l.94 2.06.94-2.06 2.06-.94-2.06-.94-.94-2.06-.94 2.06-2.06.94zm-11 1L8.5 8.5l.94-2.06 2.06-.94-2.06-.94L8.5 2.5l-.94 2.06-2.06.94zm10 10l.94 2.06.94-2.06 2.06-.94-2.06-.94-.94-2.06-.94 2.06-2.06.94z\"/><path d=\"M17.41 7.96l-1.37-1.37c-.4-.4-.92-.59-1.43-.59-.52 0-1.04.2-1.43.59L10.3 9.45l-7.72 7.72c-.78.78-.78 2.05 0 2.83L4 21.41c.39.39.9.59 1.41.59.51 0 1.02-.2 1.41-.59l7.78-7.78 2.81-2.81c.8-.78.8-2.07 0-2.86zM5.41 20L4 18.59l7.72-7.72 1.47 1.35L5.41 20z\"/>\n",
              "  </svg>\n",
              "      </button>\n",
              "      \n",
              "  <style>\n",
              "    .colab-df-container {\n",
              "      display:flex;\n",
              "      flex-wrap:wrap;\n",
              "      gap: 12px;\n",
              "    }\n",
              "\n",
              "    .colab-df-convert {\n",
              "      background-color: #E8F0FE;\n",
              "      border: none;\n",
              "      border-radius: 50%;\n",
              "      cursor: pointer;\n",
              "      display: none;\n",
              "      fill: #1967D2;\n",
              "      height: 32px;\n",
              "      padding: 0 0 0 0;\n",
              "      width: 32px;\n",
              "    }\n",
              "\n",
              "    .colab-df-convert:hover {\n",
              "      background-color: #E2EBFA;\n",
              "      box-shadow: 0px 1px 2px rgba(60, 64, 67, 0.3), 0px 1px 3px 1px rgba(60, 64, 67, 0.15);\n",
              "      fill: #174EA6;\n",
              "    }\n",
              "\n",
              "    [theme=dark] .colab-df-convert {\n",
              "      background-color: #3B4455;\n",
              "      fill: #D2E3FC;\n",
              "    }\n",
              "\n",
              "    [theme=dark] .colab-df-convert:hover {\n",
              "      background-color: #434B5C;\n",
              "      box-shadow: 0px 1px 3px 1px rgba(0, 0, 0, 0.15);\n",
              "      filter: drop-shadow(0px 1px 2px rgba(0, 0, 0, 0.3));\n",
              "      fill: #FFFFFF;\n",
              "    }\n",
              "  </style>\n",
              "\n",
              "      <script>\n",
              "        const buttonEl =\n",
              "          document.querySelector('#df-5dae6721-458a-428d-bb1d-270167800e09 button.colab-df-convert');\n",
              "        buttonEl.style.display =\n",
              "          google.colab.kernel.accessAllowed ? 'block' : 'none';\n",
              "\n",
              "        async function convertToInteractive(key) {\n",
              "          const element = document.querySelector('#df-5dae6721-458a-428d-bb1d-270167800e09');\n",
              "          const dataTable =\n",
              "            await google.colab.kernel.invokeFunction('convertToInteractive',\n",
              "                                                     [key], {});\n",
              "          if (!dataTable) return;\n",
              "\n",
              "          const docLinkHtml = 'Like what you see? Visit the ' +\n",
              "            '<a target=\"_blank\" href=https://colab.research.google.com/notebooks/data_table.ipynb>data table notebook</a>'\n",
              "            + ' to learn more about interactive tables.';\n",
              "          element.innerHTML = '';\n",
              "          dataTable['output_type'] = 'display_data';\n",
              "          await google.colab.output.renderOutput(dataTable, element);\n",
              "          const docLink = document.createElement('div');\n",
              "          docLink.innerHTML = docLinkHtml;\n",
              "          element.appendChild(docLink);\n",
              "        }\n",
              "      </script>\n",
              "    </div>\n",
              "  </div>\n",
              "  "
            ],
            "text/plain": [
              "           R-ref       G-ref  ...  Setting                                       Img\n",
              "0     240.865271  224.637854  ...     Set1  D47BC759-4BF1-40D8-9D68-52766A1B3358.png\n",
              "1     234.887834  223.690123  ...     Set1  63D0E875-9DA6-4483-BB03-E54DC1E8BC87.png\n",
              "2     237.374726  219.960149  ...     Set1  779692A7-DE00-4434-843B-AEB78B8B0AF8.png\n",
              "3     240.543706  213.146498  ...     Set1  18456DEB-40B5-49F7-B753-562994BE1B43.png\n",
              "4     240.498498  229.602062  ...     Set1  72376331-D805-4BAC-AE50-7A04A6729880.png\n",
              "...          ...         ...  ...      ...                                       ...\n",
              "3195  232.804642  209.441604  ...     Set4  4B26C027-BBB5-43B7-AD79-12A17199C662.png\n",
              "3196  235.903985  218.940670  ...     Set4  D0B2410F-4D19-428D-ACAB-853194360AB9.png\n",
              "3197  232.175960  216.874036  ...     Set4  239381EF-714F-4EC1-9D07-36CEF09D68A1.png\n",
              "3198  231.726077  211.455077  ...     Set4  CA6B7419-61FE-4110-9EC1-CCD71F2B7962.png\n",
              "3199  226.100641  197.575278  ...     Set4  B54B3165-ED2D-4BAB-A9A0-CACAC9F50D49.png\n",
              "\n",
              "[3200 rows x 16 columns]"
            ]
          },
          "metadata": {},
          "execution_count": 154
        }
      ]
    },
    {
      "cell_type": "code",
      "source": [
        "RGB_D4 = table_D4.drop(['H-ref','S-ref','V-ref','S-Shad','V-Shad','Shade-ref','Setting','Img','Shade','H-Shad'], axis=1)"
      ],
      "metadata": {
        "id": "WExdapTFjEXP"
      },
      "execution_count": 155,
      "outputs": []
    },
    {
      "cell_type": "code",
      "source": [
        "X_D4 = np.array(RGB_D4)"
      ],
      "metadata": {
        "id": "L3aMVhMgjEXP"
      },
      "execution_count": 156,
      "outputs": []
    },
    {
      "cell_type": "code",
      "source": [
        "y_D4 =  table_D4.iloc[:,13:14]"
      ],
      "metadata": {
        "id": "9ReugJHujEXP"
      },
      "execution_count": 157,
      "outputs": []
    },
    {
      "cell_type": "code",
      "source": [
        "y_D4 = np.array(y_D4)\n",
        "y_D4"
      ],
      "metadata": {
        "colab": {
          "base_uri": "https://localhost:8080/"
        },
        "id": "rRvFs7UjjEXP",
        "outputId": "0d671c86-40d4-4e8d-f80b-09e5544c7c74"
      },
      "execution_count": 158,
      "outputs": [
        {
          "output_type": "execute_result",
          "data": {
            "text/plain": [
              "array([['A1'],\n",
              "       ['A1'],\n",
              "       ['A1'],\n",
              "       ...,\n",
              "       ['D4'],\n",
              "       ['D4'],\n",
              "       ['D4']], dtype=object)"
            ]
          },
          "metadata": {},
          "execution_count": 158
        }
      ]
    },
    {
      "cell_type": "code",
      "source": [
        "X_test_D4, X_train_D4 , y_test_D4, y_train_D4 = train_test_split(X_D4, y_D4, test_size=80, train_size=320)"
      ],
      "metadata": {
        "id": "EcJ1C_cwtxOp"
      },
      "execution_count": 159,
      "outputs": []
    },
    {
      "cell_type": "code",
      "source": [
        "clf.fit(X_train_D4, y_train_D4)"
      ],
      "metadata": {
        "colab": {
          "base_uri": "https://localhost:8080/"
        },
        "id": "pPlBdTQ9jEXQ",
        "outputId": "4f6825b6-6c22-4f24-b71d-2d47f5a93d2c"
      },
      "execution_count": 160,
      "outputs": [
        {
          "output_type": "stream",
          "name": "stderr",
          "text": [
            "/usr/local/lib/python3.7/dist-packages/sklearn/utils/validation.py:985: DataConversionWarning: A column-vector y was passed when a 1d array was expected. Please change the shape of y to (n_samples, ), for example using ravel().\n",
            "  y = column_or_1d(y, warn=True)\n"
          ]
        },
        {
          "output_type": "execute_result",
          "data": {
            "text/plain": [
              "SVC(kernel='poly')"
            ]
          },
          "metadata": {},
          "execution_count": 160
        }
      ]
    },
    {
      "cell_type": "code",
      "source": [
        "y_pred_D4 = clf.predict(X_test_D4)"
      ],
      "metadata": {
        "id": "zBAY0I2FjEXQ"
      },
      "execution_count": 161,
      "outputs": []
    },
    {
      "cell_type": "code",
      "source": [
        "print(\"Accuracy:\", metrics.accuracy_score(y_test_D4, y_pred_D4))"
      ],
      "metadata": {
        "colab": {
          "base_uri": "https://localhost:8080/"
        },
        "id": "jeo7PdLtjEXQ",
        "outputId": "0f260f3d-b734-425a-bb54-4f4624a6f50f"
      },
      "execution_count": 162,
      "outputs": [
        {
          "output_type": "stream",
          "name": "stdout",
          "text": [
            "Accuracy: 0.271875\n"
          ]
        }
      ]
    },
    {
      "cell_type": "markdown",
      "source": [
        "#HSV"
      ],
      "metadata": {
        "id": "cjlJB9SK_uTN"
      }
    },
    {
      "cell_type": "markdown",
      "source": [
        "#AA"
      ],
      "metadata": {
        "id": "-ZAugWr2_wgA"
      }
    },
    {
      "cell_type": "markdown",
      "source": [
        "##A1"
      ],
      "metadata": {
        "id": "6Fkzm3PK_wgA"
      }
    },
    {
      "cell_type": "code",
      "source": [
        "HSV_A1 = table_A1.drop(['H-ref','S-ref','V-ref','S-Shad','V-Shad','Shade-ref','Setting','Img','Shade','H-Shad'], axis=1)"
      ],
      "metadata": {
        "id": "zI8GVltc_wgB"
      },
      "execution_count": 163,
      "outputs": []
    },
    {
      "cell_type": "code",
      "source": [
        "X_A1_HSV = np.array(HSV_A1)"
      ],
      "metadata": {
        "id": "cSD2NI_X_wgB"
      },
      "execution_count": 164,
      "outputs": []
    },
    {
      "cell_type": "code",
      "source": [
        "y_A1_HSV =  table_A1.iloc[:,13:14]"
      ],
      "metadata": {
        "id": "gkqHeGAJ_wgB"
      },
      "execution_count": 165,
      "outputs": []
    },
    {
      "cell_type": "code",
      "source": [
        "y_A1_HSV = np.array(y_A1_HSV)\n",
        "y_A1_HSV"
      ],
      "metadata": {
        "outputId": "3b9f77a4-655f-43c1-a238-fe6fc7df6737",
        "colab": {
          "base_uri": "https://localhost:8080/"
        },
        "id": "A7gbEDG1_wgB"
      },
      "execution_count": 166,
      "outputs": [
        {
          "output_type": "execute_result",
          "data": {
            "text/plain": [
              "array([['A1'],\n",
              "       ['A1'],\n",
              "       ['A1'],\n",
              "       ...,\n",
              "       ['D4'],\n",
              "       ['D4'],\n",
              "       ['D4']], dtype=object)"
            ]
          },
          "metadata": {},
          "execution_count": 166
        }
      ]
    },
    {
      "cell_type": "code",
      "source": [
        "X_test_A1_HSV, X_train_A1_HSV , y_test_A1_HSV, y_train_A1_HSV = train_test_split(X_A1_HSV, y_A1_HSV, test_size=80, train_size=320)"
      ],
      "metadata": {
        "id": "PDCYBOif_wgB"
      },
      "execution_count": 167,
      "outputs": []
    },
    {
      "cell_type": "code",
      "source": [
        "clf.fit(X_train_A1_HSV, y_train_A1_HSV)"
      ],
      "metadata": {
        "outputId": "192aea0d-e749-48c0-d974-7bbee4c88234",
        "colab": {
          "base_uri": "https://localhost:8080/"
        },
        "id": "N8MScloH_wgC"
      },
      "execution_count": 168,
      "outputs": [
        {
          "output_type": "stream",
          "name": "stderr",
          "text": [
            "/usr/local/lib/python3.7/dist-packages/sklearn/utils/validation.py:985: DataConversionWarning: A column-vector y was passed when a 1d array was expected. Please change the shape of y to (n_samples, ), for example using ravel().\n",
            "  y = column_or_1d(y, warn=True)\n"
          ]
        },
        {
          "output_type": "execute_result",
          "data": {
            "text/plain": [
              "SVC(kernel='poly')"
            ]
          },
          "metadata": {},
          "execution_count": 168
        }
      ]
    },
    {
      "cell_type": "code",
      "source": [
        "y_pred_A1_HSV = clf.predict(X_test_A1_HSV)"
      ],
      "metadata": {
        "id": "rP9sHemd_wgC"
      },
      "execution_count": 169,
      "outputs": []
    },
    {
      "cell_type": "code",
      "source": [
        "print(\"Accuracy:\", metrics.accuracy_score(y_test_A1_HSV, y_pred_A1_HSV))"
      ],
      "metadata": {
        "outputId": "5f9ef44d-985e-4f0b-c416-f19bfe5dd3ba",
        "colab": {
          "base_uri": "https://localhost:8080/"
        },
        "id": "-ogQmIum_wgC"
      },
      "execution_count": 170,
      "outputs": [
        {
          "output_type": "stream",
          "name": "stdout",
          "text": [
            "Accuracy: 0.134375\n"
          ]
        }
      ]
    },
    {
      "cell_type": "markdown",
      "source": [
        "##A2"
      ],
      "metadata": {
        "id": "eBsH5JRP_wgC"
      }
    },
    {
      "cell_type": "code",
      "source": [
        "HSV_A2 = table_A2.drop(['H-ref','S-ref','V-ref','S-Shad','V-Shad','Shade-ref','Setting','Img','Shade','H-Shad'], axis=1)"
      ],
      "metadata": {
        "id": "ht0odAyS_wgC"
      },
      "execution_count": 171,
      "outputs": []
    },
    {
      "cell_type": "code",
      "source": [
        "X_A2_HSV = np.array(HSV_A2)"
      ],
      "metadata": {
        "id": "sC5GVAfm_wgC"
      },
      "execution_count": 172,
      "outputs": []
    },
    {
      "cell_type": "code",
      "source": [
        "y_A2_HSV =  table_A2.iloc[:,13:14]"
      ],
      "metadata": {
        "id": "39qizZ5P_wgF"
      },
      "execution_count": 173,
      "outputs": []
    },
    {
      "cell_type": "code",
      "source": [
        "y_A2_HSV = np.array(y_A2_HSV)\n",
        "y_A2_HSV"
      ],
      "metadata": {
        "outputId": "6b6a3515-a181-4031-8036-acea073d25a3",
        "colab": {
          "base_uri": "https://localhost:8080/"
        },
        "id": "i1Cb7BcS_wgF"
      },
      "execution_count": 174,
      "outputs": [
        {
          "output_type": "execute_result",
          "data": {
            "text/plain": [
              "array([['A1'],\n",
              "       ['A1'],\n",
              "       ['A1'],\n",
              "       ...,\n",
              "       ['D4'],\n",
              "       ['D4'],\n",
              "       ['D4']], dtype=object)"
            ]
          },
          "metadata": {},
          "execution_count": 174
        }
      ]
    },
    {
      "cell_type": "code",
      "source": [
        "X_test_A2_HSV, X_train_A2_HSV, y_test_A2_HSV, y_train_A2_HSV = train_test_split(X_A2_HSV, y_A2_HSV, test_size=80, train_size=320)"
      ],
      "metadata": {
        "id": "n5QpL9fA_wgF"
      },
      "execution_count": 175,
      "outputs": []
    },
    {
      "cell_type": "code",
      "source": [
        "clf.fit(X_train_A2_HSV, y_train_A2_HSV)"
      ],
      "metadata": {
        "outputId": "0776774d-cfbc-4bf2-a55a-78dfb4670e91",
        "colab": {
          "base_uri": "https://localhost:8080/"
        },
        "id": "dCoh2TMC_wgF"
      },
      "execution_count": 176,
      "outputs": [
        {
          "output_type": "stream",
          "name": "stderr",
          "text": [
            "/usr/local/lib/python3.7/dist-packages/sklearn/utils/validation.py:985: DataConversionWarning: A column-vector y was passed when a 1d array was expected. Please change the shape of y to (n_samples, ), for example using ravel().\n",
            "  y = column_or_1d(y, warn=True)\n"
          ]
        },
        {
          "output_type": "execute_result",
          "data": {
            "text/plain": [
              "SVC(kernel='poly')"
            ]
          },
          "metadata": {},
          "execution_count": 176
        }
      ]
    },
    {
      "cell_type": "code",
      "source": [
        "y_pred_A2_HSV = clf.predict(X_test_A2_HSV)"
      ],
      "metadata": {
        "id": "7gU1gVDO_wgG"
      },
      "execution_count": 177,
      "outputs": []
    },
    {
      "cell_type": "code",
      "source": [
        "print(\"Accuracy:\", metrics.accuracy_score(y_test_A2_HSV, y_pred_A2_HSV))"
      ],
      "metadata": {
        "outputId": "3debe42f-f894-4c67-d862-2f773976c104",
        "colab": {
          "base_uri": "https://localhost:8080/"
        },
        "id": "bQcT4IhW_wgG"
      },
      "execution_count": 178,
      "outputs": [
        {
          "output_type": "stream",
          "name": "stdout",
          "text": [
            "Accuracy: 0.190625\n"
          ]
        }
      ]
    },
    {
      "cell_type": "markdown",
      "source": [
        "##A3"
      ],
      "metadata": {
        "id": "8wCuPTTg_wgG"
      }
    },
    {
      "cell_type": "code",
      "source": [
        "HSV_A3 = table_A3.drop(['H-ref','S-ref','V-ref','S-Shad','V-Shad','Shade-ref','Setting','Img','Shade','H-Shad'], axis=1)"
      ],
      "metadata": {
        "id": "AnPbGfRY_wgG"
      },
      "execution_count": 179,
      "outputs": []
    },
    {
      "cell_type": "code",
      "source": [
        "X_A3_HSV = np.array(HSV_A3)"
      ],
      "metadata": {
        "id": "Ndu9hdGf_wgG"
      },
      "execution_count": 180,
      "outputs": []
    },
    {
      "cell_type": "code",
      "source": [
        "y_A3_HSV =  table_A3.iloc[:,13:14]"
      ],
      "metadata": {
        "id": "Aul_HyWP_wgG"
      },
      "execution_count": 182,
      "outputs": []
    },
    {
      "cell_type": "code",
      "source": [
        "y_A3_HSV = np.array(y_A3_HSV)\n",
        "y_A3_HSV"
      ],
      "metadata": {
        "outputId": "e9cb054c-95f9-4599-a117-fc52a25ed96f",
        "colab": {
          "base_uri": "https://localhost:8080/"
        },
        "id": "F8jmoxfs_wgG"
      },
      "execution_count": 183,
      "outputs": [
        {
          "output_type": "execute_result",
          "data": {
            "text/plain": [
              "array([['A1'],\n",
              "       ['A1'],\n",
              "       ['A1'],\n",
              "       ...,\n",
              "       ['D4'],\n",
              "       ['D4'],\n",
              "       ['D4']], dtype=object)"
            ]
          },
          "metadata": {},
          "execution_count": 183
        }
      ]
    },
    {
      "cell_type": "code",
      "source": [
        "X_test_A3_HSV, X_train_A3_HSV, y_test_A3_HSV, y_train_A3_HSV = train_test_split(X_A3_HSV, y_A3_HSV, test_size=80, train_size=320)"
      ],
      "metadata": {
        "id": "Ev3hD4lX_wgH"
      },
      "execution_count": 184,
      "outputs": []
    },
    {
      "cell_type": "code",
      "source": [
        "clf.fit(X_train_A3_HSV, y_train_A3_HSV)"
      ],
      "metadata": {
        "outputId": "2f22eea0-647b-4e68-d1da-cdb88a324de0",
        "colab": {
          "base_uri": "https://localhost:8080/"
        },
        "id": "LcTHfxTU_wgH"
      },
      "execution_count": 185,
      "outputs": [
        {
          "output_type": "stream",
          "name": "stderr",
          "text": [
            "/usr/local/lib/python3.7/dist-packages/sklearn/utils/validation.py:985: DataConversionWarning: A column-vector y was passed when a 1d array was expected. Please change the shape of y to (n_samples, ), for example using ravel().\n",
            "  y = column_or_1d(y, warn=True)\n"
          ]
        },
        {
          "output_type": "execute_result",
          "data": {
            "text/plain": [
              "SVC(kernel='poly')"
            ]
          },
          "metadata": {},
          "execution_count": 185
        }
      ]
    },
    {
      "cell_type": "code",
      "source": [
        "y_pred_A3_HSV = clf.predict(X_test_A3_HSV)"
      ],
      "metadata": {
        "id": "agLj1cEd_wgH"
      },
      "execution_count": 186,
      "outputs": []
    },
    {
      "cell_type": "code",
      "source": [
        "print(\"Accuracy:\", metrics.accuracy_score(y_test_A3_HSV, y_pred_A3_HSV))"
      ],
      "metadata": {
        "outputId": "2d099c9b-5783-4c8f-ec6a-5cf6dd931c45",
        "colab": {
          "base_uri": "https://localhost:8080/"
        },
        "id": "iSgPWoLh_wgH"
      },
      "execution_count": 187,
      "outputs": [
        {
          "output_type": "stream",
          "name": "stdout",
          "text": [
            "Accuracy: 0.109375\n"
          ]
        }
      ]
    },
    {
      "cell_type": "markdown",
      "source": [
        "##A3.5"
      ],
      "metadata": {
        "id": "HtNkKFO-_wgH"
      }
    },
    {
      "cell_type": "code",
      "source": [
        "HSV_A3_5 = table_A3_5.drop(['H-ref','S-ref','V-ref','S-Shad','V-Shad','Shade-ref','Setting','Img','Shade','H-Shad'], axis=1)"
      ],
      "metadata": {
        "id": "Ga-goxqg_wgH"
      },
      "execution_count": 188,
      "outputs": []
    },
    {
      "cell_type": "code",
      "source": [
        "X_A3_5_HSV = np.array(HSV_A3_5)"
      ],
      "metadata": {
        "id": "SFgcsAfS_wgI"
      },
      "execution_count": 190,
      "outputs": []
    },
    {
      "cell_type": "code",
      "source": [
        "y_A3_5_HSV =  table_A3_5.iloc[:,13:14]"
      ],
      "metadata": {
        "id": "kbXAftYE_wgI"
      },
      "execution_count": 191,
      "outputs": []
    },
    {
      "cell_type": "code",
      "source": [
        "y_A3_5_HSV = np.array(y_A3_5_HSV)\n",
        "y_A3_5_HSV"
      ],
      "metadata": {
        "outputId": "15ca5cc9-cb71-49a0-ba8a-71339690b4e1",
        "colab": {
          "base_uri": "https://localhost:8080/"
        },
        "id": "3xKNsev3_wgI"
      },
      "execution_count": 192,
      "outputs": [
        {
          "output_type": "execute_result",
          "data": {
            "text/plain": [
              "array([['A1'],\n",
              "       ['A1'],\n",
              "       ['A1'],\n",
              "       ...,\n",
              "       ['D4'],\n",
              "       ['D4'],\n",
              "       ['D4']], dtype=object)"
            ]
          },
          "metadata": {},
          "execution_count": 192
        }
      ]
    },
    {
      "cell_type": "code",
      "source": [
        "X_test_A3_5_HSV, X_train_A3_5_HSV, y_test_A3_5_HSV, y_train_A3_5_HSV = train_test_split(X_A3_5_HSV, y_A3_5_HSV, test_size=80, train_size=320)"
      ],
      "metadata": {
        "id": "kaVvV_7T_wgI"
      },
      "execution_count": 193,
      "outputs": []
    },
    {
      "cell_type": "code",
      "source": [
        "clf.fit(X_train_A3_5_HSV, y_train_A3_5_HSV)"
      ],
      "metadata": {
        "outputId": "95bd9afd-2a05-4644-bfce-21e5cbfb6816",
        "colab": {
          "base_uri": "https://localhost:8080/"
        },
        "id": "e5z2TTg6_wgI"
      },
      "execution_count": 194,
      "outputs": [
        {
          "output_type": "stream",
          "name": "stderr",
          "text": [
            "/usr/local/lib/python3.7/dist-packages/sklearn/utils/validation.py:985: DataConversionWarning: A column-vector y was passed when a 1d array was expected. Please change the shape of y to (n_samples, ), for example using ravel().\n",
            "  y = column_or_1d(y, warn=True)\n"
          ]
        },
        {
          "output_type": "execute_result",
          "data": {
            "text/plain": [
              "SVC(kernel='poly')"
            ]
          },
          "metadata": {},
          "execution_count": 194
        }
      ]
    },
    {
      "cell_type": "code",
      "source": [
        "y_pred_A3_5_HSV = clf.predict(X_test_A3_5_HSV)"
      ],
      "metadata": {
        "id": "QzfLa_bQ_wgI"
      },
      "execution_count": 195,
      "outputs": []
    },
    {
      "cell_type": "code",
      "source": [
        "print(\"Accuracy:\", metrics.accuracy_score(y_test_A3_5_HSV, y_pred_A3_5_HSV))"
      ],
      "metadata": {
        "outputId": "01ad6d19-4346-4c3e-d65e-84c3b60bb32d",
        "colab": {
          "base_uri": "https://localhost:8080/"
        },
        "id": "7qW0OiAN_wgI"
      },
      "execution_count": 196,
      "outputs": [
        {
          "output_type": "stream",
          "name": "stdout",
          "text": [
            "Accuracy: 0.115625\n"
          ]
        }
      ]
    },
    {
      "cell_type": "markdown",
      "source": [
        "##A4"
      ],
      "metadata": {
        "id": "1nXc5wMz_wgI"
      }
    },
    {
      "cell_type": "code",
      "source": [
        "HSV_A4 = table_A4.drop(['H-ref','S-ref','V-ref','S-Shad','V-Shad','Shade-ref','Setting','Img','Shade','H-Shad'], axis=1)"
      ],
      "metadata": {
        "id": "prQBd8JP_wgJ"
      },
      "execution_count": 197,
      "outputs": []
    },
    {
      "cell_type": "code",
      "source": [
        "X_A4_HSV = np.array(HSV_A4)"
      ],
      "metadata": {
        "id": "lvcN3EmB_wgJ"
      },
      "execution_count": 198,
      "outputs": []
    },
    {
      "cell_type": "code",
      "source": [
        "y_A4_HSV =  table_A4.iloc[:,13:14]"
      ],
      "metadata": {
        "id": "MwDChGu0_wgJ"
      },
      "execution_count": 199,
      "outputs": []
    },
    {
      "cell_type": "code",
      "source": [
        "y_A4_HSV = np.array(y_A4_HSV)\n",
        "y_A4_HSV"
      ],
      "metadata": {
        "outputId": "1231fb01-f382-42a3-c7a1-7fe07e7f917b",
        "colab": {
          "base_uri": "https://localhost:8080/"
        },
        "id": "5B9B99pp_wgJ"
      },
      "execution_count": 200,
      "outputs": [
        {
          "output_type": "execute_result",
          "data": {
            "text/plain": [
              "array([['A1'],\n",
              "       ['A1'],\n",
              "       ['A1'],\n",
              "       ...,\n",
              "       ['D4'],\n",
              "       ['D4'],\n",
              "       ['D4']], dtype=object)"
            ]
          },
          "metadata": {},
          "execution_count": 200
        }
      ]
    },
    {
      "cell_type": "code",
      "source": [
        "X_test_A4_HSV, X_train_A4_HSV , y_test_A4_HSV, y_train_A4_HSV = train_test_split(X_A4_HSV, y_A4_HSV, test_size=80, train_size=320)"
      ],
      "metadata": {
        "id": "XYW3Mdke_wgJ"
      },
      "execution_count": 201,
      "outputs": []
    },
    {
      "cell_type": "code",
      "source": [
        "clf.fit(X_train_A4_HSV, y_train_A4_HSV)"
      ],
      "metadata": {
        "outputId": "9caed90d-0cb2-48f9-892d-c2e8912b43cb",
        "colab": {
          "base_uri": "https://localhost:8080/"
        },
        "id": "mY-I9aUG_wgK"
      },
      "execution_count": 202,
      "outputs": [
        {
          "output_type": "stream",
          "name": "stderr",
          "text": [
            "/usr/local/lib/python3.7/dist-packages/sklearn/utils/validation.py:985: DataConversionWarning: A column-vector y was passed when a 1d array was expected. Please change the shape of y to (n_samples, ), for example using ravel().\n",
            "  y = column_or_1d(y, warn=True)\n"
          ]
        },
        {
          "output_type": "execute_result",
          "data": {
            "text/plain": [
              "SVC(kernel='poly')"
            ]
          },
          "metadata": {},
          "execution_count": 202
        }
      ]
    },
    {
      "cell_type": "code",
      "source": [
        "y_pred_A4_HSV = clf.predict(X_test_A4_HSV)"
      ],
      "metadata": {
        "id": "7TqXlzsD_wgK"
      },
      "execution_count": 203,
      "outputs": []
    },
    {
      "cell_type": "code",
      "source": [
        "print(\"Accuracy:\", metrics.accuracy_score(y_test_A4_HSV, y_pred_A4_HSV))"
      ],
      "metadata": {
        "outputId": "739e00c2-3725-497e-c141-30c77e1bdba5",
        "colab": {
          "base_uri": "https://localhost:8080/"
        },
        "id": "CNSh5Y1Q_wgK"
      },
      "execution_count": 204,
      "outputs": [
        {
          "output_type": "stream",
          "name": "stdout",
          "text": [
            "Accuracy: 0.15\n"
          ]
        }
      ]
    },
    {
      "cell_type": "markdown",
      "source": [
        "#BB"
      ],
      "metadata": {
        "id": "7b6zqvuO_wgK"
      }
    },
    {
      "cell_type": "markdown",
      "source": [
        "##B1"
      ],
      "metadata": {
        "id": "sI74kQI__wgK"
      }
    },
    {
      "cell_type": "code",
      "source": [
        "HSV_B1 = table_B1.drop(['H-ref','S-ref','V-ref','S-Shad','V-Shad','Shade-ref','Setting','Img','Shade','H-Shad'], axis=1)"
      ],
      "metadata": {
        "id": "M6_haxME_wgM"
      },
      "execution_count": 205,
      "outputs": []
    },
    {
      "cell_type": "code",
      "source": [
        "X_B1_HSV = np.array(HSV_B1)"
      ],
      "metadata": {
        "id": "2gwg10Jg_wgM"
      },
      "execution_count": 206,
      "outputs": []
    },
    {
      "cell_type": "code",
      "source": [
        "y_B1_HSV =  table_B1.iloc[:,13:14]"
      ],
      "metadata": {
        "id": "ijLVbgRl_wgM"
      },
      "execution_count": 207,
      "outputs": []
    },
    {
      "cell_type": "code",
      "source": [
        "y_B1_HSV = np.array(y_B1_HSV)\n",
        "y_B1_HSV"
      ],
      "metadata": {
        "outputId": "e84c8f32-a12d-4b3c-917d-70b31c1100f8",
        "colab": {
          "base_uri": "https://localhost:8080/"
        },
        "id": "ZQC4FC3g_wgM"
      },
      "execution_count": 208,
      "outputs": [
        {
          "output_type": "execute_result",
          "data": {
            "text/plain": [
              "array([['A1'],\n",
              "       ['A1'],\n",
              "       ['A1'],\n",
              "       ...,\n",
              "       ['D4'],\n",
              "       ['D4'],\n",
              "       ['D4']], dtype=object)"
            ]
          },
          "metadata": {},
          "execution_count": 208
        }
      ]
    },
    {
      "cell_type": "code",
      "source": [
        "X_test_B1_HSV, X_train_B1_HSV , y_test_B1_HSV, y_train_B1_HSV = train_test_split(X_B1_HSV, y_B1_HSV, test_size=80, train_size=320)"
      ],
      "metadata": {
        "id": "kqabXE_L_wgM"
      },
      "execution_count": 209,
      "outputs": []
    },
    {
      "cell_type": "code",
      "source": [
        "clf.fit(X_train_B1_HSV, y_train_B1_HSV)"
      ],
      "metadata": {
        "outputId": "f5ea242f-9360-4c30-835c-0e57ffe66bbc",
        "colab": {
          "base_uri": "https://localhost:8080/"
        },
        "id": "ARl9qmlU_wgN"
      },
      "execution_count": 210,
      "outputs": [
        {
          "output_type": "stream",
          "name": "stderr",
          "text": [
            "/usr/local/lib/python3.7/dist-packages/sklearn/utils/validation.py:985: DataConversionWarning: A column-vector y was passed when a 1d array was expected. Please change the shape of y to (n_samples, ), for example using ravel().\n",
            "  y = column_or_1d(y, warn=True)\n"
          ]
        },
        {
          "output_type": "execute_result",
          "data": {
            "text/plain": [
              "SVC(kernel='poly')"
            ]
          },
          "metadata": {},
          "execution_count": 210
        }
      ]
    },
    {
      "cell_type": "code",
      "source": [
        "y_pred_B1_HSV = clf.predict(X_test_B1_HSV)"
      ],
      "metadata": {
        "id": "im__J9O4_wgN"
      },
      "execution_count": 211,
      "outputs": []
    },
    {
      "cell_type": "code",
      "source": [
        "print(\"Accuracy:\", metrics.accuracy_score(y_test_B1_HSV, y_pred_B1_HSV))"
      ],
      "metadata": {
        "outputId": "65baed13-d414-433f-f3a6-2f524eb1214e",
        "colab": {
          "base_uri": "https://localhost:8080/"
        },
        "id": "Yuao5aTI_wgN"
      },
      "execution_count": 212,
      "outputs": [
        {
          "output_type": "stream",
          "name": "stdout",
          "text": [
            "Accuracy: 0.078125\n"
          ]
        }
      ]
    },
    {
      "cell_type": "markdown",
      "source": [
        "##B2"
      ],
      "metadata": {
        "id": "s4Pxu8kg_wgN"
      }
    },
    {
      "cell_type": "code",
      "source": [
        "HSV_B2 = table_B2.drop(['H-ref','S-ref','V-ref','S-Shad','V-Shad','Shade-ref','Setting','Img','Shade','H-Shad'], axis=1)"
      ],
      "metadata": {
        "id": "fG6ffP75_wgN"
      },
      "execution_count": 213,
      "outputs": []
    },
    {
      "cell_type": "code",
      "source": [
        "X_B2_HSV = np.array(HSV_B2)"
      ],
      "metadata": {
        "id": "X2oRN0Mu_wgN"
      },
      "execution_count": 214,
      "outputs": []
    },
    {
      "cell_type": "code",
      "source": [
        "y_B2_HSV =  table_B2.iloc[:,13:14]"
      ],
      "metadata": {
        "id": "zPFbrZH2_wgN"
      },
      "execution_count": 215,
      "outputs": []
    },
    {
      "cell_type": "code",
      "source": [
        "y_B2_HSV = np.array(y_B2_HSV)\n",
        "y_B2_HSV"
      ],
      "metadata": {
        "outputId": "50528a2d-2b31-48b5-c412-d11cb03a276a",
        "colab": {
          "base_uri": "https://localhost:8080/"
        },
        "id": "8ssvb8Ks_wgO"
      },
      "execution_count": 216,
      "outputs": [
        {
          "output_type": "execute_result",
          "data": {
            "text/plain": [
              "array([['A1'],\n",
              "       ['A1'],\n",
              "       ['A1'],\n",
              "       ...,\n",
              "       ['D4'],\n",
              "       ['D4'],\n",
              "       ['D4']], dtype=object)"
            ]
          },
          "metadata": {},
          "execution_count": 216
        }
      ]
    },
    {
      "cell_type": "code",
      "source": [
        "X_test_B2_HSV, X_train_B2_HSV , y_test_B2_HSV, y_train_B2_HSV = train_test_split(X_B2_HSV, y_B2_HSV, test_size=80, train_size=320)"
      ],
      "metadata": {
        "id": "MldauXW0_wgO"
      },
      "execution_count": 217,
      "outputs": []
    },
    {
      "cell_type": "code",
      "source": [
        "clf.fit(X_train_B2_HSV, y_train_B2_HSV)"
      ],
      "metadata": {
        "outputId": "e533b0dd-ba28-4b65-acbb-3f7a6543514d",
        "colab": {
          "base_uri": "https://localhost:8080/"
        },
        "id": "xDQW5ube_wgO"
      },
      "execution_count": 218,
      "outputs": [
        {
          "output_type": "stream",
          "name": "stderr",
          "text": [
            "/usr/local/lib/python3.7/dist-packages/sklearn/utils/validation.py:985: DataConversionWarning: A column-vector y was passed when a 1d array was expected. Please change the shape of y to (n_samples, ), for example using ravel().\n",
            "  y = column_or_1d(y, warn=True)\n"
          ]
        },
        {
          "output_type": "execute_result",
          "data": {
            "text/plain": [
              "SVC(kernel='poly')"
            ]
          },
          "metadata": {},
          "execution_count": 218
        }
      ]
    },
    {
      "cell_type": "code",
      "source": [
        "y_pred_B2_HSV = clf.predict(X_test_B2_HSV)"
      ],
      "metadata": {
        "id": "ZmsPGoOU_wgO"
      },
      "execution_count": 219,
      "outputs": []
    },
    {
      "cell_type": "code",
      "source": [
        "print(\"Accuracy:\", metrics.accuracy_score(y_test_B2_HSV, y_pred_B2_HSV))"
      ],
      "metadata": {
        "outputId": "82daff34-c601-4b4b-bdcb-cee3efbdf821",
        "colab": {
          "base_uri": "https://localhost:8080/"
        },
        "id": "IZSrvRFR_wgO"
      },
      "execution_count": 220,
      "outputs": [
        {
          "output_type": "stream",
          "name": "stdout",
          "text": [
            "Accuracy: 0.16875\n"
          ]
        }
      ]
    },
    {
      "cell_type": "markdown",
      "source": [
        "##B3"
      ],
      "metadata": {
        "id": "mMGF2FgA_wgO"
      }
    },
    {
      "cell_type": "code",
      "source": [
        "HSV_B3 = table_B3.drop(['H-ref','S-ref','V-ref','S-Shad','V-Shad','Shade-ref','Setting','Img','Shade','H-Shad'], axis=1)"
      ],
      "metadata": {
        "id": "SzQNykgJ_wgP"
      },
      "execution_count": 221,
      "outputs": []
    },
    {
      "cell_type": "code",
      "source": [
        "X_B3_HSV = np.array(HSV_B3)"
      ],
      "metadata": {
        "id": "RSlse9g2_wgP"
      },
      "execution_count": 222,
      "outputs": []
    },
    {
      "cell_type": "code",
      "source": [
        "y_B3_HSV = table_B3.iloc[:,13:14]"
      ],
      "metadata": {
        "id": "is5UUKZm_wgP"
      },
      "execution_count": 223,
      "outputs": []
    },
    {
      "cell_type": "code",
      "source": [
        "y_B3_HSV = np.array(y_B3_HSV)\n",
        "y_B3_HSV"
      ],
      "metadata": {
        "outputId": "b77c1d97-2113-46b2-e167-82cf4808979c",
        "colab": {
          "base_uri": "https://localhost:8080/"
        },
        "id": "9rHcIdwA_wgP"
      },
      "execution_count": 224,
      "outputs": [
        {
          "output_type": "execute_result",
          "data": {
            "text/plain": [
              "array([['A1'],\n",
              "       ['A1'],\n",
              "       ['A1'],\n",
              "       ...,\n",
              "       ['D4'],\n",
              "       ['D4'],\n",
              "       ['D4']], dtype=object)"
            ]
          },
          "metadata": {},
          "execution_count": 224
        }
      ]
    },
    {
      "cell_type": "code",
      "source": [
        "X_test_B3_HSV, X_train_B3_HSV , y_test_B3_HSV, y_train_B3_HSV = train_test_split(X_B3_HSV, y_B3_HSV, test_size=80, train_size=320)"
      ],
      "metadata": {
        "id": "KqNwX9Bd_wgP"
      },
      "execution_count": 225,
      "outputs": []
    },
    {
      "cell_type": "code",
      "source": [
        "clf.fit(X_train_B3_HSV, y_train_B3_HSV)"
      ],
      "metadata": {
        "outputId": "ba4b37e8-a800-4df8-ffc7-9a891d21feb4",
        "colab": {
          "base_uri": "https://localhost:8080/"
        },
        "id": "sigm7UbB_wgP"
      },
      "execution_count": 226,
      "outputs": [
        {
          "output_type": "stream",
          "name": "stderr",
          "text": [
            "/usr/local/lib/python3.7/dist-packages/sklearn/utils/validation.py:985: DataConversionWarning: A column-vector y was passed when a 1d array was expected. Please change the shape of y to (n_samples, ), for example using ravel().\n",
            "  y = column_or_1d(y, warn=True)\n"
          ]
        },
        {
          "output_type": "execute_result",
          "data": {
            "text/plain": [
              "SVC(kernel='poly')"
            ]
          },
          "metadata": {},
          "execution_count": 226
        }
      ]
    },
    {
      "cell_type": "code",
      "source": [
        "y_pred_B3_HSV = clf.predict(X_test_B3_HSV)"
      ],
      "metadata": {
        "id": "CbxZFZoY_wgP"
      },
      "execution_count": 227,
      "outputs": []
    },
    {
      "cell_type": "code",
      "source": [
        "print(\"Accuracy:\", metrics.accuracy_score(y_test_B3_HSV, y_pred_B3_HSV))"
      ],
      "metadata": {
        "outputId": "df2afa4c-5114-4877-b9e3-0aa489e8d23c",
        "colab": {
          "base_uri": "https://localhost:8080/"
        },
        "id": "lbhAygJ5_wgQ"
      },
      "execution_count": 228,
      "outputs": [
        {
          "output_type": "stream",
          "name": "stdout",
          "text": [
            "Accuracy: 0.15\n"
          ]
        }
      ]
    },
    {
      "cell_type": "markdown",
      "source": [
        "##B4"
      ],
      "metadata": {
        "id": "XHyDv3dR_wgQ"
      }
    },
    {
      "cell_type": "code",
      "source": [
        "HSV_B4 = table_B4.drop(['H-ref','S-ref','V-ref','S-Shad','V-Shad','Shade-ref','Setting','Img','Shade','H-Shad'], axis=1)"
      ],
      "metadata": {
        "id": "9ZJqkhuC_wgQ"
      },
      "execution_count": 229,
      "outputs": []
    },
    {
      "cell_type": "code",
      "source": [
        "X_B4_HSV = np.array(HSV_B4)"
      ],
      "metadata": {
        "id": "xiTwE9I0_wgR"
      },
      "execution_count": 230,
      "outputs": []
    },
    {
      "cell_type": "code",
      "source": [
        "y_B4_HSV =  table_B4.iloc[:,13:14]"
      ],
      "metadata": {
        "id": "kOsCqScL_wgR"
      },
      "execution_count": 231,
      "outputs": []
    },
    {
      "cell_type": "code",
      "source": [
        "y_B4_HSV = np.array(y_B4_HSV)\n",
        "y_B4_HSV"
      ],
      "metadata": {
        "colab": {
          "base_uri": "https://localhost:8080/"
        },
        "outputId": "f41fb1c6-51c4-4ef8-becc-23f696f3b333",
        "id": "c4kpZ9eq_wgR"
      },
      "execution_count": 232,
      "outputs": [
        {
          "output_type": "execute_result",
          "data": {
            "text/plain": [
              "array([['A1'],\n",
              "       ['A1'],\n",
              "       ['A1'],\n",
              "       ...,\n",
              "       ['D4'],\n",
              "       ['D4'],\n",
              "       ['D4']], dtype=object)"
            ]
          },
          "metadata": {},
          "execution_count": 232
        }
      ]
    },
    {
      "cell_type": "code",
      "source": [
        "X_test_B4_HSV, X_train_B4_HSV, y_test_B4_HSV, y_train_B4_HSV = train_test_split(X_B4_HSV, y_B4_HSV, test_size=80, train_size=320)"
      ],
      "metadata": {
        "id": "kUDwYzqY_wgR"
      },
      "execution_count": 233,
      "outputs": []
    },
    {
      "cell_type": "code",
      "source": [
        "clf.fit(X_train_B4_HSV, y_train_B4_HSV)"
      ],
      "metadata": {
        "colab": {
          "base_uri": "https://localhost:8080/"
        },
        "outputId": "ee221d25-1871-4d9b-e20d-293d198d1c5f",
        "id": "YzzIDj1E_wgS"
      },
      "execution_count": 234,
      "outputs": [
        {
          "output_type": "stream",
          "name": "stderr",
          "text": [
            "/usr/local/lib/python3.7/dist-packages/sklearn/utils/validation.py:985: DataConversionWarning: A column-vector y was passed when a 1d array was expected. Please change the shape of y to (n_samples, ), for example using ravel().\n",
            "  y = column_or_1d(y, warn=True)\n"
          ]
        },
        {
          "output_type": "execute_result",
          "data": {
            "text/plain": [
              "SVC(kernel='poly')"
            ]
          },
          "metadata": {},
          "execution_count": 234
        }
      ]
    },
    {
      "cell_type": "code",
      "source": [
        "y_pred_B4_HSV = clf.predict(X_test_B4_HSV)"
      ],
      "metadata": {
        "id": "8MtbaGRK_wgS"
      },
      "execution_count": 235,
      "outputs": []
    },
    {
      "cell_type": "code",
      "source": [
        "print(\"Accuracy:\", metrics.accuracy_score(y_test_B4_HSV, y_pred_B4_HSV))"
      ],
      "metadata": {
        "colab": {
          "base_uri": "https://localhost:8080/"
        },
        "outputId": "a266b32c-1747-414d-ce26-7671232e6947",
        "id": "sEZsCLLE_wgS"
      },
      "execution_count": 236,
      "outputs": [
        {
          "output_type": "stream",
          "name": "stdout",
          "text": [
            "Accuracy: 0.1375\n"
          ]
        }
      ]
    },
    {
      "cell_type": "markdown",
      "source": [
        "#CC"
      ],
      "metadata": {
        "id": "l153Wxtx_wgS"
      }
    },
    {
      "cell_type": "markdown",
      "source": [
        "##C1"
      ],
      "metadata": {
        "id": "NUYp-RZU_wgS"
      }
    },
    {
      "cell_type": "code",
      "source": [
        "HSV_C1 = table_C1.drop(['H-ref','S-ref','V-ref','S-Shad','V-Shad','Shade-ref','Setting','Img','Shade','H-Shad'], axis=1)"
      ],
      "metadata": {
        "id": "HUENYaP-_wgT"
      },
      "execution_count": 237,
      "outputs": []
    },
    {
      "cell_type": "code",
      "source": [
        "X_C1_HSV = np.array(HSV_C1)"
      ],
      "metadata": {
        "id": "mLtd6Y2h_wgT"
      },
      "execution_count": 238,
      "outputs": []
    },
    {
      "cell_type": "code",
      "source": [
        "y_C1_HSV =  table_C1.iloc[:,13:14]"
      ],
      "metadata": {
        "id": "XyJgyoOI_wgT"
      },
      "execution_count": 239,
      "outputs": []
    },
    {
      "cell_type": "code",
      "source": [
        "y_C1_HSV = np.array(y_C1_HSV)\n",
        "y_C1_HSV"
      ],
      "metadata": {
        "outputId": "3b91fb96-d2d2-4969-8420-45ccd00185c1",
        "colab": {
          "base_uri": "https://localhost:8080/"
        },
        "id": "nJ_jR2lf_wgT"
      },
      "execution_count": 240,
      "outputs": [
        {
          "output_type": "execute_result",
          "data": {
            "text/plain": [
              "array([['A1'],\n",
              "       ['A1'],\n",
              "       ['A1'],\n",
              "       ...,\n",
              "       ['D4'],\n",
              "       ['D4'],\n",
              "       ['D4']], dtype=object)"
            ]
          },
          "metadata": {},
          "execution_count": 240
        }
      ]
    },
    {
      "cell_type": "code",
      "source": [
        "X_test_C1_HSV, X_train_C1_HSV , y_test_C1_HSV, y_train_C1_HSV = train_test_split(X_C1_HSV, y_C1_HSV, test_size=80, train_size=320)"
      ],
      "metadata": {
        "id": "ZSDs2Dzj_wgT"
      },
      "execution_count": 241,
      "outputs": []
    },
    {
      "cell_type": "code",
      "source": [
        "clf.fit(X_train_C1_HSV, y_train_C1_HSV)"
      ],
      "metadata": {
        "outputId": "ef6f0c13-4222-4823-8f1a-0bc449216af7",
        "colab": {
          "base_uri": "https://localhost:8080/"
        },
        "id": "4rnUy8hP_wgU"
      },
      "execution_count": 242,
      "outputs": [
        {
          "output_type": "stream",
          "name": "stderr",
          "text": [
            "/usr/local/lib/python3.7/dist-packages/sklearn/utils/validation.py:985: DataConversionWarning: A column-vector y was passed when a 1d array was expected. Please change the shape of y to (n_samples, ), for example using ravel().\n",
            "  y = column_or_1d(y, warn=True)\n"
          ]
        },
        {
          "output_type": "execute_result",
          "data": {
            "text/plain": [
              "SVC(kernel='poly')"
            ]
          },
          "metadata": {},
          "execution_count": 242
        }
      ]
    },
    {
      "cell_type": "code",
      "source": [
        "y_pred_C1_HSV = clf.predict(X_test_C1_HSV)"
      ],
      "metadata": {
        "id": "go86c3Tb_wgU"
      },
      "execution_count": 243,
      "outputs": []
    },
    {
      "cell_type": "code",
      "source": [
        "print(\"Accuracy:\", metrics.accuracy_score(y_test_C1_HSV, y_pred_C1_HSV))"
      ],
      "metadata": {
        "outputId": "3d011b91-730a-4614-a5ea-f6baabc360be",
        "colab": {
          "base_uri": "https://localhost:8080/"
        },
        "id": "-TaELIBR_wgV"
      },
      "execution_count": 244,
      "outputs": [
        {
          "output_type": "stream",
          "name": "stdout",
          "text": [
            "Accuracy: 0.090625\n"
          ]
        }
      ]
    },
    {
      "cell_type": "markdown",
      "source": [
        "##C2"
      ],
      "metadata": {
        "id": "f1Jp1HKf_wgV"
      }
    },
    {
      "cell_type": "code",
      "source": [
        "HSV_C2 = table_C2.drop(['H-ref','S-ref','V-ref','S-Shad','V-Shad','Shade-ref','Setting','Img','Shade','H-Shad'], axis=1)"
      ],
      "metadata": {
        "id": "CMR0aXq6_wgV"
      },
      "execution_count": 245,
      "outputs": []
    },
    {
      "cell_type": "code",
      "source": [
        "X_C2_HSV = np.array(HSV_C2)"
      ],
      "metadata": {
        "id": "Bjrsa97F_wgV"
      },
      "execution_count": 246,
      "outputs": []
    },
    {
      "cell_type": "code",
      "source": [
        "y_C2_HSV =  table_C1.iloc[:,13:14]"
      ],
      "metadata": {
        "id": "OLijX3_JDnFH"
      },
      "execution_count": 249,
      "outputs": []
    },
    {
      "cell_type": "code",
      "source": [
        "y_C2_HSV= np.array(y_C2_HSV)\n",
        "y_C2_HSV"
      ],
      "metadata": {
        "outputId": "773f6c45-8b9d-4825-c4c7-bb557844520b",
        "colab": {
          "base_uri": "https://localhost:8080/"
        },
        "id": "3QBEvqoi_wgW"
      },
      "execution_count": 250,
      "outputs": [
        {
          "output_type": "execute_result",
          "data": {
            "text/plain": [
              "array([['A1'],\n",
              "       ['A1'],\n",
              "       ['A1'],\n",
              "       ...,\n",
              "       ['D4'],\n",
              "       ['D4'],\n",
              "       ['D4']], dtype=object)"
            ]
          },
          "metadata": {},
          "execution_count": 250
        }
      ]
    },
    {
      "cell_type": "code",
      "source": [
        "X_test_C2_HSV, X_train_C2_HSV , y_test_C2_HSV, y_train_C2_HSV = train_test_split(X_C2_HSV, y_C2_HSV, test_size=80, train_size=320)"
      ],
      "metadata": {
        "id": "IEjxxgNc_wgW"
      },
      "execution_count": 251,
      "outputs": []
    },
    {
      "cell_type": "code",
      "source": [
        "clf.fit(X_train_C2_HSV, y_train_C2_HSV)"
      ],
      "metadata": {
        "outputId": "dd2e3c2f-b625-4986-adf3-bc81370f9207",
        "colab": {
          "base_uri": "https://localhost:8080/"
        },
        "id": "U1D_NPJp_wgW"
      },
      "execution_count": 252,
      "outputs": [
        {
          "output_type": "stream",
          "name": "stderr",
          "text": [
            "/usr/local/lib/python3.7/dist-packages/sklearn/utils/validation.py:985: DataConversionWarning: A column-vector y was passed when a 1d array was expected. Please change the shape of y to (n_samples, ), for example using ravel().\n",
            "  y = column_or_1d(y, warn=True)\n"
          ]
        },
        {
          "output_type": "execute_result",
          "data": {
            "text/plain": [
              "SVC(kernel='poly')"
            ]
          },
          "metadata": {},
          "execution_count": 252
        }
      ]
    },
    {
      "cell_type": "code",
      "source": [
        "y_pred_C2_HSV = clf.predict(X_test_C2_HSV)"
      ],
      "metadata": {
        "id": "-btluZ_y_wgW"
      },
      "execution_count": 253,
      "outputs": []
    },
    {
      "cell_type": "code",
      "source": [
        "print(\"Accuracy:\", metrics.accuracy_score(y_test_C2_HSV, y_pred_C2_HSV))"
      ],
      "metadata": {
        "outputId": "953d8e73-bfd4-478f-883c-ee245732e1b9",
        "colab": {
          "base_uri": "https://localhost:8080/"
        },
        "id": "WRWi85jL_wgW"
      },
      "execution_count": 254,
      "outputs": [
        {
          "output_type": "stream",
          "name": "stdout",
          "text": [
            "Accuracy: 0.121875\n"
          ]
        }
      ]
    },
    {
      "cell_type": "markdown",
      "source": [
        "##C3"
      ],
      "metadata": {
        "id": "CvLFQ7iK_wgW"
      }
    },
    {
      "cell_type": "code",
      "source": [
        "HSV_C3 = table_C3.drop(['H-ref','S-ref','V-ref','S-Shad','V-Shad','Shade-ref','Setting','Img','Shade','H-Shad'], axis=1)"
      ],
      "metadata": {
        "id": "8tncnrAA_wgX"
      },
      "execution_count": 255,
      "outputs": []
    },
    {
      "cell_type": "code",
      "source": [
        "X_C3_HSV = np.array(HSV_C3)"
      ],
      "metadata": {
        "id": "J-VQesuR_wgX"
      },
      "execution_count": 256,
      "outputs": []
    },
    {
      "cell_type": "code",
      "source": [
        "y_C3_HSV =  table_C3.iloc[:,13:14]"
      ],
      "metadata": {
        "id": "-g5wWI5Z_wgX"
      },
      "execution_count": 257,
      "outputs": []
    },
    {
      "cell_type": "code",
      "source": [
        "y_C3_HSV = np.array(y_C3_HSV)\n",
        "y_C3_HSV"
      ],
      "metadata": {
        "outputId": "fe57725b-214c-4222-fcf4-f43799c786f9",
        "colab": {
          "base_uri": "https://localhost:8080/"
        },
        "id": "lwcW9N2n_wgX"
      },
      "execution_count": 258,
      "outputs": [
        {
          "output_type": "execute_result",
          "data": {
            "text/plain": [
              "array([['A1'],\n",
              "       ['A1'],\n",
              "       ['A1'],\n",
              "       ...,\n",
              "       ['D4'],\n",
              "       ['D4'],\n",
              "       ['D4']], dtype=object)"
            ]
          },
          "metadata": {},
          "execution_count": 258
        }
      ]
    },
    {
      "cell_type": "code",
      "source": [
        "X_test_C3_HSV, X_train_C3_HSV , y_test_C3_HSV, y_train_C3_HSV = train_test_split(X_C3_HSV, y_C3_HSV, test_size=80, train_size=320)"
      ],
      "metadata": {
        "id": "jcJFy7Pf_wgX"
      },
      "execution_count": 259,
      "outputs": []
    },
    {
      "cell_type": "code",
      "source": [
        "clf.fit(X_train_C3_HSV, y_train_C3_HSV)"
      ],
      "metadata": {
        "outputId": "199c63ad-09ad-425b-ac4d-d8872ab3efdc",
        "colab": {
          "base_uri": "https://localhost:8080/"
        },
        "id": "LuDVUHs2_wgX"
      },
      "execution_count": 260,
      "outputs": [
        {
          "output_type": "stream",
          "name": "stderr",
          "text": [
            "/usr/local/lib/python3.7/dist-packages/sklearn/utils/validation.py:985: DataConversionWarning: A column-vector y was passed when a 1d array was expected. Please change the shape of y to (n_samples, ), for example using ravel().\n",
            "  y = column_or_1d(y, warn=True)\n"
          ]
        },
        {
          "output_type": "execute_result",
          "data": {
            "text/plain": [
              "SVC(kernel='poly')"
            ]
          },
          "metadata": {},
          "execution_count": 260
        }
      ]
    },
    {
      "cell_type": "code",
      "source": [
        "y_pred_C3_HSV = clf.predict(X_test_C3_HSV)"
      ],
      "metadata": {
        "id": "rDh1wLwm_wgX"
      },
      "execution_count": 261,
      "outputs": []
    },
    {
      "cell_type": "code",
      "source": [
        "print(\"Accuracy:\", metrics.accuracy_score(y_test_C3_HSV, y_pred_C3_HSV))"
      ],
      "metadata": {
        "outputId": "e1f73ee6-3048-495a-87b9-409de13d32d6",
        "colab": {
          "base_uri": "https://localhost:8080/"
        },
        "id": "zS5VJNvx_wgX"
      },
      "execution_count": 262,
      "outputs": [
        {
          "output_type": "stream",
          "name": "stdout",
          "text": [
            "Accuracy: 0.096875\n"
          ]
        }
      ]
    },
    {
      "cell_type": "markdown",
      "source": [
        "##C4"
      ],
      "metadata": {
        "id": "Ii5xuNxI_wgY"
      }
    },
    {
      "cell_type": "code",
      "source": [
        "HSV_C4 = table_C4.drop(['H-ref','S-ref','V-ref','S-Shad','V-Shad','Shade-ref','Setting','Img','Shade','H-Shad'], axis=1)"
      ],
      "metadata": {
        "id": "u-97CLa4_wgY"
      },
      "execution_count": 263,
      "outputs": []
    },
    {
      "cell_type": "code",
      "source": [
        "X_C4_HSV = np.array(HSV_C4)"
      ],
      "metadata": {
        "id": "LR8MsJJ5_wgY"
      },
      "execution_count": 264,
      "outputs": []
    },
    {
      "cell_type": "code",
      "source": [
        "y_C4_HSV =  table_C4.iloc[:,13:14]"
      ],
      "metadata": {
        "id": "kfHqqz9h_wgY"
      },
      "execution_count": 265,
      "outputs": []
    },
    {
      "cell_type": "code",
      "source": [
        "y_C4_HSV = np.array(y_C4_HSV)\n",
        "y_C4_HSV"
      ],
      "metadata": {
        "colab": {
          "base_uri": "https://localhost:8080/"
        },
        "outputId": "e860cf3f-6916-437f-9071-be3dcc8ab65e",
        "id": "BVJ-Y4g8_wgY"
      },
      "execution_count": 266,
      "outputs": [
        {
          "output_type": "execute_result",
          "data": {
            "text/plain": [
              "array([['A1'],\n",
              "       ['A1'],\n",
              "       ['A1'],\n",
              "       ...,\n",
              "       ['D4'],\n",
              "       ['D4'],\n",
              "       ['D4']], dtype=object)"
            ]
          },
          "metadata": {},
          "execution_count": 266
        }
      ]
    },
    {
      "cell_type": "code",
      "source": [
        "X_test_C4_HSV, X_train_C4_HSV , y_test_C4_HSV, y_train_C4_HSV = train_test_split(X_C4_HSV, y_C4_HSV, test_size=80, train_size=320)"
      ],
      "metadata": {
        "id": "JkXxQOxi_wgZ"
      },
      "execution_count": 267,
      "outputs": []
    },
    {
      "cell_type": "code",
      "source": [
        "clf.fit(X_train_C4_HSV, y_train_C4_HSV)"
      ],
      "metadata": {
        "colab": {
          "base_uri": "https://localhost:8080/"
        },
        "outputId": "e5715646-3942-4163-92ed-18326114aaaf",
        "id": "Pv3HYgWk_wgZ"
      },
      "execution_count": 268,
      "outputs": [
        {
          "output_type": "stream",
          "name": "stderr",
          "text": [
            "/usr/local/lib/python3.7/dist-packages/sklearn/utils/validation.py:985: DataConversionWarning: A column-vector y was passed when a 1d array was expected. Please change the shape of y to (n_samples, ), for example using ravel().\n",
            "  y = column_or_1d(y, warn=True)\n"
          ]
        },
        {
          "output_type": "execute_result",
          "data": {
            "text/plain": [
              "SVC(kernel='poly')"
            ]
          },
          "metadata": {},
          "execution_count": 268
        }
      ]
    },
    {
      "cell_type": "code",
      "source": [
        "y_pred_C4_HSV = clf.predict(X_test_C4_HSV)"
      ],
      "metadata": {
        "id": "k0E9HbHn_wgZ"
      },
      "execution_count": 269,
      "outputs": []
    },
    {
      "cell_type": "code",
      "source": [
        "print(\"Accuracy:\", metrics.accuracy_score(y_test_C4_HSV, y_pred_C4_HSV))"
      ],
      "metadata": {
        "colab": {
          "base_uri": "https://localhost:8080/"
        },
        "outputId": "6b87afa8-c229-4dd6-e6b1-fcc344f4ee8e",
        "id": "Yu6yP1eH_wgZ"
      },
      "execution_count": 270,
      "outputs": [
        {
          "output_type": "stream",
          "name": "stdout",
          "text": [
            "Accuracy: 0.1875\n"
          ]
        }
      ]
    },
    {
      "cell_type": "markdown",
      "source": [
        "#DD"
      ],
      "metadata": {
        "id": "bw7id72A_wga"
      }
    },
    {
      "cell_type": "markdown",
      "source": [
        "##D2"
      ],
      "metadata": {
        "id": "y-CH3FbL_wga"
      }
    },
    {
      "cell_type": "code",
      "source": [
        "HSV_D2 = table_D2.drop(['H-ref','S-ref','V-ref','S-Shad','V-Shad','Shade-ref','Setting','Img','Shade','H-Shad'], axis=1)"
      ],
      "metadata": {
        "id": "UDgSl9EI_wga"
      },
      "execution_count": 271,
      "outputs": []
    },
    {
      "cell_type": "code",
      "source": [
        "X_D2_HSV = np.array(HSV_D2)"
      ],
      "metadata": {
        "id": "SkVpcFxW_wga"
      },
      "execution_count": 272,
      "outputs": []
    },
    {
      "cell_type": "code",
      "source": [
        "y_D2_HSV =  table_C2.iloc[:,13:14]"
      ],
      "metadata": {
        "id": "RRcflj4h_wga"
      },
      "execution_count": 273,
      "outputs": []
    },
    {
      "cell_type": "code",
      "source": [
        "y_D2_HSV= np.array(y_D2)\n",
        "y_D2_HSV"
      ],
      "metadata": {
        "outputId": "fb2eefbd-4897-4a27-9478-423973ffe629",
        "colab": {
          "base_uri": "https://localhost:8080/"
        },
        "id": "dhfQSlxL_wga"
      },
      "execution_count": 274,
      "outputs": [
        {
          "output_type": "execute_result",
          "data": {
            "text/plain": [
              "array([['A1'],\n",
              "       ['A1'],\n",
              "       ['A1'],\n",
              "       ...,\n",
              "       ['D4'],\n",
              "       ['D4'],\n",
              "       ['D4']], dtype=object)"
            ]
          },
          "metadata": {},
          "execution_count": 274
        }
      ]
    },
    {
      "cell_type": "code",
      "source": [
        "X_test_D2_HSV, X_train_D2_HSV , y_test_D2_HSV, y_train_D2_HSV = train_test_split(X_D2_HSV, y_D2_HSV, test_size=80, train_size=320)"
      ],
      "metadata": {
        "id": "0gCxI3if_wga"
      },
      "execution_count": 275,
      "outputs": []
    },
    {
      "cell_type": "code",
      "source": [
        "clf.fit(X_train_D2_HSV, y_train_D2_HSV)"
      ],
      "metadata": {
        "outputId": "1759071c-764d-4c19-fb00-c477d1119f03",
        "colab": {
          "base_uri": "https://localhost:8080/"
        },
        "id": "JeQK3SlL_wgb"
      },
      "execution_count": 276,
      "outputs": [
        {
          "output_type": "stream",
          "name": "stderr",
          "text": [
            "/usr/local/lib/python3.7/dist-packages/sklearn/utils/validation.py:985: DataConversionWarning: A column-vector y was passed when a 1d array was expected. Please change the shape of y to (n_samples, ), for example using ravel().\n",
            "  y = column_or_1d(y, warn=True)\n"
          ]
        },
        {
          "output_type": "execute_result",
          "data": {
            "text/plain": [
              "SVC(kernel='poly')"
            ]
          },
          "metadata": {},
          "execution_count": 276
        }
      ]
    },
    {
      "cell_type": "code",
      "source": [
        "y_pred_D2_HSV = clf.predict(X_test_D2_HSV)"
      ],
      "metadata": {
        "id": "JdwMrmsq_wgb"
      },
      "execution_count": 277,
      "outputs": []
    },
    {
      "cell_type": "code",
      "source": [
        "print(\"Accuracy:\", metrics.accuracy_score(y_test_D2_HSV, y_pred_D2_HSV))"
      ],
      "metadata": {
        "outputId": "b4d981a9-3838-4adb-888b-943d5c27894c",
        "colab": {
          "base_uri": "https://localhost:8080/"
        },
        "id": "fozP2OVJ_wgb"
      },
      "execution_count": 278,
      "outputs": [
        {
          "output_type": "stream",
          "name": "stdout",
          "text": [
            "Accuracy: 0.128125\n"
          ]
        }
      ]
    },
    {
      "cell_type": "markdown",
      "source": [
        "##D3"
      ],
      "metadata": {
        "id": "b6PCilgj_wgb"
      }
    },
    {
      "cell_type": "code",
      "source": [
        "HSV_D3 = table_D3.drop(['H-ref','S-ref','V-ref','S-Shad','V-Shad','Shade-ref','Setting','Img','Shade','H-Shad'], axis=1)"
      ],
      "metadata": {
        "id": "YZfPqM3Y_wgb"
      },
      "execution_count": 279,
      "outputs": []
    },
    {
      "cell_type": "code",
      "source": [
        "X_D3_HSV = np.array(HSV_D3)"
      ],
      "metadata": {
        "id": "grLNQY9__wgb"
      },
      "execution_count": 280,
      "outputs": []
    },
    {
      "cell_type": "code",
      "source": [
        "y_D3_HSV =  table_D3.iloc[:,13:14]"
      ],
      "metadata": {
        "id": "UScLyaBm_wgb"
      },
      "execution_count": 281,
      "outputs": []
    },
    {
      "cell_type": "code",
      "source": [
        "y_D3_HSV = np.array(y_D3_HSV)\n",
        "y_D3_HSV"
      ],
      "metadata": {
        "outputId": "02cf86e7-d46c-48e7-a90e-f4fd9301331b",
        "colab": {
          "base_uri": "https://localhost:8080/"
        },
        "id": "pFZAcvYB_wgc"
      },
      "execution_count": 282,
      "outputs": [
        {
          "output_type": "execute_result",
          "data": {
            "text/plain": [
              "array([['A1'],\n",
              "       ['A1'],\n",
              "       ['A1'],\n",
              "       ...,\n",
              "       ['D4'],\n",
              "       ['D4'],\n",
              "       ['D4']], dtype=object)"
            ]
          },
          "metadata": {},
          "execution_count": 282
        }
      ]
    },
    {
      "cell_type": "code",
      "source": [
        "X_test_D3_HSV, X_train_D3_HSV , y_test_D3_HSV, y_train_D3_HSV = train_test_split(X_D3_HSV, y_D3_HSV, test_size=80, train_size=320)"
      ],
      "metadata": {
        "id": "oHWQyw-0_wgc"
      },
      "execution_count": 283,
      "outputs": []
    },
    {
      "cell_type": "code",
      "source": [
        "clf.fit(X_train_D3_HSV, y_train_D3_HSV)"
      ],
      "metadata": {
        "outputId": "502de33f-7bae-47cb-acd7-baef0d941cf9",
        "colab": {
          "base_uri": "https://localhost:8080/"
        },
        "id": "Mc6QYBlT_wgc"
      },
      "execution_count": 284,
      "outputs": [
        {
          "output_type": "stream",
          "name": "stderr",
          "text": [
            "/usr/local/lib/python3.7/dist-packages/sklearn/utils/validation.py:985: DataConversionWarning: A column-vector y was passed when a 1d array was expected. Please change the shape of y to (n_samples, ), for example using ravel().\n",
            "  y = column_or_1d(y, warn=True)\n"
          ]
        },
        {
          "output_type": "execute_result",
          "data": {
            "text/plain": [
              "SVC(kernel='poly')"
            ]
          },
          "metadata": {},
          "execution_count": 284
        }
      ]
    },
    {
      "cell_type": "code",
      "source": [
        "y_pred_D3_HSV = clf.predict(X_test_D3_HSV)"
      ],
      "metadata": {
        "id": "I8LGv4Rj_wgc"
      },
      "execution_count": 285,
      "outputs": []
    },
    {
      "cell_type": "code",
      "source": [
        "print(\"Accuracy:\", metrics.accuracy_score(y_test_D3_HSV, y_pred_D3_HSV))"
      ],
      "metadata": {
        "outputId": "440a4917-210e-4619-c562-f2fc561633b4",
        "colab": {
          "base_uri": "https://localhost:8080/"
        },
        "id": "moyS-1ot_wgc"
      },
      "execution_count": 286,
      "outputs": [
        {
          "output_type": "stream",
          "name": "stdout",
          "text": [
            "Accuracy: 0.134375\n"
          ]
        }
      ]
    },
    {
      "cell_type": "markdown",
      "source": [
        "##D4"
      ],
      "metadata": {
        "id": "9_cOUbnk_wgc"
      }
    },
    {
      "cell_type": "code",
      "source": [
        "HSV_D4 = table_D4.drop(['H-ref','S-ref','V-ref','S-Shad','V-Shad','Shade-ref','Setting','Img','Shade','H-Shad'], axis=1)"
      ],
      "metadata": {
        "id": "MunwxsDA_wgd"
      },
      "execution_count": 287,
      "outputs": []
    },
    {
      "cell_type": "code",
      "source": [
        "X_D4_HSV = np.array(HSV_D4)"
      ],
      "metadata": {
        "id": "63jieNqm_wgd"
      },
      "execution_count": 288,
      "outputs": []
    },
    {
      "cell_type": "code",
      "source": [
        "y_D4_HSV =  table_D4.iloc[:,13:14]"
      ],
      "metadata": {
        "id": "cBuU9za3_wgd"
      },
      "execution_count": 289,
      "outputs": []
    },
    {
      "cell_type": "code",
      "source": [
        "y_D4_HSV = np.array(y_D4_HSV)\n",
        "y_D4_HSV"
      ],
      "metadata": {
        "colab": {
          "base_uri": "https://localhost:8080/"
        },
        "outputId": "a0f462cf-4ccd-4906-9525-5c84731bee87",
        "id": "aEiVEmRu_wgd"
      },
      "execution_count": 290,
      "outputs": [
        {
          "output_type": "execute_result",
          "data": {
            "text/plain": [
              "array([['A1'],\n",
              "       ['A1'],\n",
              "       ['A1'],\n",
              "       ...,\n",
              "       ['D4'],\n",
              "       ['D4'],\n",
              "       ['D4']], dtype=object)"
            ]
          },
          "metadata": {},
          "execution_count": 290
        }
      ]
    },
    {
      "cell_type": "code",
      "source": [
        "X_test_D4_HSV, X_train_D4_HSV , y_test_D4_HSV, y_train_D4_HSV = train_test_split(X_D4_HSV, y_D4_HSV, test_size=80, train_size=320)"
      ],
      "metadata": {
        "id": "Sad8SzIR_wgd"
      },
      "execution_count": 291,
      "outputs": []
    },
    {
      "cell_type": "code",
      "source": [
        "clf.fit(X_train_D4_HSV, y_train_D4_HSV)"
      ],
      "metadata": {
        "colab": {
          "base_uri": "https://localhost:8080/"
        },
        "outputId": "fd92c284-cde6-4979-f4ea-4448107c65bc",
        "id": "jp5qmDrf_wgd"
      },
      "execution_count": 292,
      "outputs": [
        {
          "output_type": "stream",
          "name": "stderr",
          "text": [
            "/usr/local/lib/python3.7/dist-packages/sklearn/utils/validation.py:985: DataConversionWarning: A column-vector y was passed when a 1d array was expected. Please change the shape of y to (n_samples, ), for example using ravel().\n",
            "  y = column_or_1d(y, warn=True)\n"
          ]
        },
        {
          "output_type": "execute_result",
          "data": {
            "text/plain": [
              "SVC(kernel='poly')"
            ]
          },
          "metadata": {},
          "execution_count": 292
        }
      ]
    },
    {
      "cell_type": "code",
      "source": [
        "y_pred_D4_HSV = clf.predict(X_test_D4_HSV)"
      ],
      "metadata": {
        "id": "ZxjHtFnW_wge"
      },
      "execution_count": 293,
      "outputs": []
    },
    {
      "cell_type": "code",
      "source": [
        "print(\"Accuracy:\", metrics.accuracy_score(y_test_D4_HSV, y_pred_D4_HSV))"
      ],
      "metadata": {
        "colab": {
          "base_uri": "https://localhost:8080/"
        },
        "outputId": "a247054c-8ea5-4f1c-c615-f0642ce168c3",
        "id": "10B3iY31_wge"
      },
      "execution_count": 294,
      "outputs": [
        {
          "output_type": "stream",
          "name": "stdout",
          "text": [
            "Accuracy: 0.19375\n"
          ]
        }
      ]
    },
    {
      "cell_type": "markdown",
      "source": [
        "#สรุปผล"
      ],
      "metadata": {
        "id": "FcsXprrGEH0a"
      }
    },
    {
      "cell_type": "markdown",
      "source": [
        "##RGB"
      ],
      "metadata": {
        "id": "txfn-5vSEQKK"
      }
    },
    {
      "cell_type": "markdown",
      "source": [
        "##HSV"
      ],
      "metadata": {
        "id": "F2CX4hhnEhIA"
      }
    },
    {
      "cell_type": "code",
      "source": [
        "print(\"A1 มี Accuracy เท่ากับ:\", metrics.accuracy_score(y_test_A1_HSV, y_pred_A1_HSV))\n",
        "print(\"A2 มี Accuracy เท่ากับ:\", metrics.accuracy_score(y_test_A2_HSV, y_pred_A2_HSV))\n",
        "print(\"A3 มี Accuracy เท่ากับ:\", metrics.accuracy_score(y_test_A3_HSV, y_pred_A3_HSV))\n",
        "print(\"A3.5 มี Accuracy เท่ากับ:\", metrics.accuracy_score(y_test_A3_5_HSV, y_pred_A3_5_HSV))\n",
        "print(\"A4 มี Accuracy เท่ากับ:\", metrics.accuracy_score(y_test_A4_HSV, y_pred_A4_HSV))\n",
        "print(\"B1 มี Accuracy เท่ากับ:\", metrics.accuracy_score(y_test_B1_HSV, y_pred_B1_HSV))\n",
        "print(\"B2 มี Accuracy เท่ากับ:\", metrics.accuracy_score(y_test_B2_HSV, y_pred_B2_HSV))\n",
        "print(\"B3 มี Accuracy เท่ากับ:\", metrics.accuracy_score(y_test_B3_HSV, y_pred_B3_HSV))\n",
        "print(\"B4 มี Accuracy เท่ากับ:\", metrics.accuracy_score(y_test_B4_HSV, y_pred_B4_HSV))\n",
        "print(\"C1 มี Accuracy เท่ากับ:\", metrics.accuracy_score(y_test_C1_HSV, y_pred_C1_HSV))\n",
        "print(\"C2 มี Accuracy เท่ากับ:\", metrics.accuracy_score(y_test_C2_HSV, y_pred_C2_HSV))\n",
        "print(\"C3 มี Accuracy เท่ากับ:\", metrics.accuracy_score(y_test_C3_HSV, y_pred_C3_HSV))\n",
        "print(\"C4 มี Accuracy เท่ากับ:\", metrics.accuracy_score(y_test_C4_HSV, y_pred_C4_HSV))\n",
        "print(\"D2 มี Accuracy เท่ากับ:\", metrics.accuracy_score(y_test_D2_HSV, y_pred_D2_HSV))\n",
        "print(\"D3 มี Accuracy เท่ากับ:\", metrics.accuracy_score(y_test_D3_HSV, y_pred_D3_HSV))\n",
        "print(\"D4 มี Accuracy เท่ากับ:\", metrics.accuracy_score(y_test_D4_HSV, y_pred_D4_HSV))"
      ],
      "metadata": {
        "id": "NofOkqvcEKnU",
        "outputId": "ca1a0093-4d1b-42d8-d957-4cd9de1ad3ea",
        "colab": {
          "base_uri": "https://localhost:8080/"
        }
      },
      "execution_count": 295,
      "outputs": [
        {
          "output_type": "stream",
          "name": "stdout",
          "text": [
            "A1 มี Accuracy เท่ากับ: 0.134375\n",
            "A2 มี Accuracy เท่ากับ: 0.190625\n",
            "A3 มี Accuracy เท่ากับ: 0.109375\n",
            "A3.5 มี Accuracy เท่ากับ: 0.115625\n",
            "A4 มี Accuracy เท่ากับ: 0.15\n",
            "B1 มี Accuracy เท่ากับ: 0.078125\n",
            "B2 มี Accuracy เท่ากับ: 0.16875\n",
            "B3 มี Accuracy เท่ากับ: 0.15\n",
            "B4 มี Accuracy เท่ากับ: 0.1375\n",
            "C1 มี Accuracy เท่ากับ: 0.090625\n",
            "C2 มี Accuracy เท่ากับ: 0.121875\n",
            "C3 มี Accuracy เท่ากับ: 0.096875\n",
            "C4 มี Accuracy เท่ากับ: 0.1875\n",
            "D2 มี Accuracy เท่ากับ: 0.128125\n",
            "D3 มี Accuracy เท่ากับ: 0.134375\n",
            "D4 มี Accuracy เท่ากับ: 0.19375\n"
          ]
        }
      ]
    }
  ]
}