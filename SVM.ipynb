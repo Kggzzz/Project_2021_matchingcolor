{
  "nbformat": 4,
  "nbformat_minor": 0,
  "metadata": {
    "colab": {
      "name": "SVM.ipynb",
      "provenance": [],
      "authorship_tag": "ABX9TyMmCNZBWxXBBPXmxRPxdK0j",
      "include_colab_link": true
    },
    "kernelspec": {
      "name": "python3",
      "display_name": "Python 3"
    },
    "language_info": {
      "name": "python"
    }
  },
  "cells": [
    {
      "cell_type": "markdown",
      "metadata": {
        "id": "view-in-github",
        "colab_type": "text"
      },
      "source": [
        "<a href=\"https://colab.research.google.com/github/Kggzzz/Project_2021_matchingcolor/blob/main/SVM.ipynb\" target=\"_parent\"><img src=\"https://colab.research.google.com/assets/colab-badge.svg\" alt=\"Open In Colab\"/></a>"
      ]
    },
    {
      "cell_type": "markdown",
      "source": [
        "สุ่มดึงมาอย่างละ 80 จุด จากแต่ละสี test \n",
        "\n",
        "อีก 320 จุด เป็น train \n",
        "\n",
        "**random forest\n",
        "\n",
        "วาดำกรอบ 4 เหลี่ยมแต่ละพิกัดมา \n"
      ],
      "metadata": {
        "id": "Z87qLnCYqcfK"
      }
    },
    {
      "cell_type": "code",
      "execution_count": 1,
      "metadata": {
        "id": "HKNXe3aNxjrS"
      },
      "outputs": [],
      "source": [
        "import pandas as pd"
      ]
    },
    {
      "cell_type": "code",
      "source": [
        "from google.colab import drive \n",
        "drive.mount('/content/drive')"
      ],
      "metadata": {
        "colab": {
          "base_uri": "https://localhost:8080/"
        },
        "id": "vlUA764exm_B",
        "outputId": "0e39478e-6e39-46b8-b860-4dd92df47905"
      },
      "execution_count": 2,
      "outputs": [
        {
          "output_type": "stream",
          "name": "stdout",
          "text": [
            "Mounted at /content/drive\n"
          ]
        }
      ]
    },
    {
      "cell_type": "code",
      "source": [
        "import os"
      ],
      "metadata": {
        "id": "0NR2cd8WxtI0"
      },
      "execution_count": 3,
      "outputs": []
    },
    {
      "cell_type": "code",
      "source": [
        "path = '/content/drive/My Drive/shadeimg/SVM shade'"
      ],
      "metadata": {
        "id": "CCvM6YiWxv4J"
      },
      "execution_count": 4,
      "outputs": []
    },
    {
      "cell_type": "code",
      "source": [
        "os.listdir(path)"
      ],
      "metadata": {
        "colab": {
          "base_uri": "https://localhost:8080/"
        },
        "id": "gEamzWg2xxw0",
        "outputId": "dc66e755-fc33-4ebc-9e4f-a808b9b97030"
      },
      "execution_count": 5,
      "outputs": [
        {
          "output_type": "execute_result",
          "data": {
            "text/plain": [
              "['DD.xlsx',\n",
              " 'CC.xlsx',\n",
              " 'BB.xlsx',\n",
              " 'AA.xlsx',\n",
              " 'Shade_AA.xlsx',\n",
              " 'Shade_BB.xlsx',\n",
              " 'Shade_CC.xlsx',\n",
              " 'Shade_DD.xlsx']"
            ]
          },
          "metadata": {},
          "execution_count": 5
        }
      ]
    },
    {
      "cell_type": "code",
      "source": [
        "AA = os.path.join(path,'Shade_AA.xlsx')\n",
        "print(AA)"
      ],
      "metadata": {
        "colab": {
          "base_uri": "https://localhost:8080/"
        },
        "id": "YnNg2TofxzSg",
        "outputId": "1432a98f-c438-4560-840c-882515ddb41f"
      },
      "execution_count": 6,
      "outputs": [
        {
          "output_type": "stream",
          "name": "stdout",
          "text": [
            "/content/drive/My Drive/shadeimg/SVM shade/Shade_AA.xlsx\n"
          ]
        }
      ]
    },
    {
      "cell_type": "code",
      "source": [
        "BB = os.path.join(path,'Shade_BB.xlsx')\n",
        "print(BB)"
      ],
      "metadata": {
        "id": "9NmuTsKXj8iA"
      },
      "execution_count": null,
      "outputs": []
    },
    {
      "cell_type": "code",
      "source": [
        "CC = os.path.join(path,'Shade_CC.xlsx')\n",
        "print(CC)"
      ],
      "metadata": {
        "id": "Flpjty_gj80T"
      },
      "execution_count": null,
      "outputs": []
    },
    {
      "cell_type": "code",
      "source": [
        "DD = os.path.join(path,'Shade_DD.xlsx')\n",
        "print(DD)"
      ],
      "metadata": {
        "colab": {
          "base_uri": "https://localhost:8080/"
        },
        "id": "D5_QGRNuj9Hu",
        "outputId": "5eea647a-eb24-4c45-86f0-138cb0e03e67"
      },
      "execution_count": 79,
      "outputs": [
        {
          "output_type": "stream",
          "name": "stdout",
          "text": [
            "/content/drive/My Drive/shadeimg/SVM shade/Shade_DD.xlsx\n"
          ]
        }
      ]
    },
    {
      "cell_type": "code",
      "source": [
        "import numpy as np"
      ],
      "metadata": {
        "id": "8ISBGlPBzzvw"
      },
      "execution_count": 7,
      "outputs": []
    },
    {
      "cell_type": "code",
      "source": [
        "from sklearn import metrics"
      ],
      "metadata": {
        "id": "FTwRPXBBzw1v"
      },
      "execution_count": 8,
      "outputs": []
    },
    {
      "cell_type": "code",
      "source": [
        "from sklearn import datasets"
      ],
      "metadata": {
        "id": "KR8lVsZXpX9X"
      },
      "execution_count": 212,
      "outputs": []
    },
    {
      "cell_type": "code",
      "source": [
        "from sklearn import svm "
      ],
      "metadata": {
        "id": "4tY9OzJszshA"
      },
      "execution_count": 9,
      "outputs": []
    },
    {
      "cell_type": "code",
      "source": [
        "from sklearn.model_selection import train_test_split"
      ],
      "metadata": {
        "id": "_ny9zPhErDas"
      },
      "execution_count": 218,
      "outputs": []
    },
    {
      "cell_type": "code",
      "source": [
        "clf = svm.SVC(kernel='poly') #poly เยอะสุด"
      ],
      "metadata": {
        "id": "_BpRi0NLzvCC"
      },
      "execution_count": 23,
      "outputs": []
    },
    {
      "cell_type": "markdown",
      "source": [
        "#AA"
      ],
      "metadata": {
        "id": "x94xZxajzUhe"
      }
    },
    {
      "cell_type": "markdown",
      "source": [
        "##A1"
      ],
      "metadata": {
        "id": "sOMENhtQzXas"
      }
    },
    {
      "cell_type": "code",
      "source": [
        "table_A1= pd.read_excel(AA, sheet_name='A1')\n",
        "table_A1"
      ],
      "metadata": {
        "colab": {
          "base_uri": "https://localhost:8080/",
          "height": 832
        },
        "id": "hGoxhzs-x9Qb",
        "outputId": "0a0dd2af-f0cc-4d9e-b64e-f209a27cd0dd"
      },
      "execution_count": 24,
      "outputs": [
        {
          "output_type": "execute_result",
          "data": {
            "text/html": [
              "\n",
              "  <div id=\"df-7846ddb3-7582-43d1-b0fd-58fd64377ff7\">\n",
              "    <div class=\"colab-df-container\">\n",
              "      <div>\n",
              "<style scoped>\n",
              "    .dataframe tbody tr th:only-of-type {\n",
              "        vertical-align: middle;\n",
              "    }\n",
              "\n",
              "    .dataframe tbody tr th {\n",
              "        vertical-align: top;\n",
              "    }\n",
              "\n",
              "    .dataframe thead th {\n",
              "        text-align: right;\n",
              "    }\n",
              "</style>\n",
              "<table border=\"1\" class=\"dataframe\">\n",
              "  <thead>\n",
              "    <tr style=\"text-align: right;\">\n",
              "      <th></th>\n",
              "      <th>R-ref</th>\n",
              "      <th>G-ref</th>\n",
              "      <th>B-ref</th>\n",
              "      <th>R-Shad</th>\n",
              "      <th>G-Shad</th>\n",
              "      <th>B-Shad</th>\n",
              "      <th>H-ref</th>\n",
              "      <th>S-ref</th>\n",
              "      <th>V-ref</th>\n",
              "      <th>H-Shad</th>\n",
              "      <th>S-Shad</th>\n",
              "      <th>V-Shad</th>\n",
              "      <th>Shade-ref</th>\n",
              "      <th>Shade</th>\n",
              "      <th>Setting</th>\n",
              "      <th>Img</th>\n",
              "    </tr>\n",
              "  </thead>\n",
              "  <tbody>\n",
              "    <tr>\n",
              "      <th>0</th>\n",
              "      <td>237.172985</td>\n",
              "      <td>225.596383</td>\n",
              "      <td>191.776924</td>\n",
              "      <td>237.828505</td>\n",
              "      <td>226.460326</td>\n",
              "      <td>193.279482</td>\n",
              "      <td>22.295755</td>\n",
              "      <td>48.938885</td>\n",
              "      <td>237.144469</td>\n",
              "      <td>22.332764</td>\n",
              "      <td>47.917502</td>\n",
              "      <td>237.810967</td>\n",
              "      <td>A1</td>\n",
              "      <td>A1</td>\n",
              "      <td>Set1</td>\n",
              "      <td>219558E6-E67A-4672-9E46-3D084D0D2032.png</td>\n",
              "    </tr>\n",
              "    <tr>\n",
              "      <th>1</th>\n",
              "      <td>239.246246</td>\n",
              "      <td>221.661797</td>\n",
              "      <td>177.409220</td>\n",
              "      <td>239.869853</td>\n",
              "      <td>222.532181</td>\n",
              "      <td>178.897233</td>\n",
              "      <td>22.295755</td>\n",
              "      <td>48.938885</td>\n",
              "      <td>237.144469</td>\n",
              "      <td>22.332764</td>\n",
              "      <td>47.917502</td>\n",
              "      <td>237.810967</td>\n",
              "      <td>A1</td>\n",
              "      <td>A1</td>\n",
              "      <td>Set1</td>\n",
              "      <td>DDC4DC8E-B6F3-4C8E-B168-D77C99A200B0.png</td>\n",
              "    </tr>\n",
              "    <tr>\n",
              "      <th>2</th>\n",
              "      <td>237.328788</td>\n",
              "      <td>211.283256</td>\n",
              "      <td>155.065985</td>\n",
              "      <td>238.087547</td>\n",
              "      <td>212.420596</td>\n",
              "      <td>156.950573</td>\n",
              "      <td>20.723724</td>\n",
              "      <td>88.424560</td>\n",
              "      <td>237.328788</td>\n",
              "      <td>20.721926</td>\n",
              "      <td>86.986061</td>\n",
              "      <td>238.087547</td>\n",
              "      <td>A1</td>\n",
              "      <td>A1</td>\n",
              "      <td>Set1</td>\n",
              "      <td>9C42EB3E-DDE7-43A2-91AE-4DCE60FCDAA9.png</td>\n",
              "    </tr>\n",
              "    <tr>\n",
              "      <th>3</th>\n",
              "      <td>236.773314</td>\n",
              "      <td>209.917864</td>\n",
              "      <td>155.544355</td>\n",
              "      <td>237.385748</td>\n",
              "      <td>210.931939</td>\n",
              "      <td>157.041818</td>\n",
              "      <td>20.189676</td>\n",
              "      <td>87.558072</td>\n",
              "      <td>236.773314</td>\n",
              "      <td>20.244791</td>\n",
              "      <td>86.400541</td>\n",
              "      <td>237.385748</td>\n",
              "      <td>A1</td>\n",
              "      <td>A1</td>\n",
              "      <td>Set1</td>\n",
              "      <td>6305881D-3DFD-4ECE-BD1D-C5376038CD26.png</td>\n",
              "    </tr>\n",
              "    <tr>\n",
              "      <th>4</th>\n",
              "      <td>238.599951</td>\n",
              "      <td>222.450207</td>\n",
              "      <td>177.512702</td>\n",
              "      <td>237.828505</td>\n",
              "      <td>226.460326</td>\n",
              "      <td>193.279482</td>\n",
              "      <td>22.168006</td>\n",
              "      <td>65.331954</td>\n",
              "      <td>238.599951</td>\n",
              "      <td>22.186189</td>\n",
              "      <td>64.179290</td>\n",
              "      <td>239.099139</td>\n",
              "      <td>A1</td>\n",
              "      <td>A1</td>\n",
              "      <td>Set1</td>\n",
              "      <td>07475504-D2B5-4A4F-960A-6AA5AE0EFFCF.png</td>\n",
              "    </tr>\n",
              "    <tr>\n",
              "      <th>...</th>\n",
              "      <td>...</td>\n",
              "      <td>...</td>\n",
              "      <td>...</td>\n",
              "      <td>...</td>\n",
              "      <td>...</td>\n",
              "      <td>...</td>\n",
              "      <td>...</td>\n",
              "      <td>...</td>\n",
              "      <td>...</td>\n",
              "      <td>...</td>\n",
              "      <td>...</td>\n",
              "      <td>...</td>\n",
              "      <td>...</td>\n",
              "      <td>...</td>\n",
              "      <td>...</td>\n",
              "      <td>...</td>\n",
              "    </tr>\n",
              "    <tr>\n",
              "      <th>3195</th>\n",
              "      <td>219.796364</td>\n",
              "      <td>220.248600</td>\n",
              "      <td>203.640370</td>\n",
              "      <td>219.211934</td>\n",
              "      <td>219.766731</td>\n",
              "      <td>203.270322</td>\n",
              "      <td>31.111598</td>\n",
              "      <td>19.560669</td>\n",
              "      <td>220.568055</td>\n",
              "      <td>31.312851</td>\n",
              "      <td>19.433184</td>\n",
              "      <td>220.052343</td>\n",
              "      <td>A1</td>\n",
              "      <td>D4</td>\n",
              "      <td>Set4</td>\n",
              "      <td>95DD0EB2-20EB-404E-BA97-3740D2D0DF96.png</td>\n",
              "    </tr>\n",
              "    <tr>\n",
              "      <th>3196</th>\n",
              "      <td>215.312718</td>\n",
              "      <td>216.245759</td>\n",
              "      <td>196.157455</td>\n",
              "      <td>214.860323</td>\n",
              "      <td>215.754498</td>\n",
              "      <td>195.762108</td>\n",
              "      <td>28.454590</td>\n",
              "      <td>52.051295</td>\n",
              "      <td>221.314991</td>\n",
              "      <td>28.269469</td>\n",
              "      <td>52.384325</td>\n",
              "      <td>220.852002</td>\n",
              "      <td>A1</td>\n",
              "      <td>D4</td>\n",
              "      <td>Set4</td>\n",
              "      <td>2F670532-3760-42FC-A982-1670FEE99E66.png</td>\n",
              "    </tr>\n",
              "    <tr>\n",
              "      <th>3197</th>\n",
              "      <td>215.690610</td>\n",
              "      <td>216.009902</td>\n",
              "      <td>196.406055</td>\n",
              "      <td>215.166773</td>\n",
              "      <td>215.486879</td>\n",
              "      <td>195.933291</td>\n",
              "      <td>30.849525</td>\n",
              "      <td>23.662609</td>\n",
              "      <td>216.485350</td>\n",
              "      <td>30.867293</td>\n",
              "      <td>23.636228</td>\n",
              "      <td>215.959036</td>\n",
              "      <td>A1</td>\n",
              "      <td>D4</td>\n",
              "      <td>Set4</td>\n",
              "      <td>547F5541-94BD-48D5-BD5B-25CBEFA4B8C9.png</td>\n",
              "    </tr>\n",
              "    <tr>\n",
              "      <th>3198</th>\n",
              "      <td>213.749290</td>\n",
              "      <td>210.436328</td>\n",
              "      <td>181.714877</td>\n",
              "      <td>213.046725</td>\n",
              "      <td>209.822132</td>\n",
              "      <td>181.286679</td>\n",
              "      <td>26.683954</td>\n",
              "      <td>38.233260</td>\n",
              "      <td>213.749290</td>\n",
              "      <td>26.767157</td>\n",
              "      <td>38.010668</td>\n",
              "      <td>213.046725</td>\n",
              "      <td>A1</td>\n",
              "      <td>D4</td>\n",
              "      <td>Set4</td>\n",
              "      <td>E9149994-C281-48DA-AF5B-7A13ECD7E307.png</td>\n",
              "    </tr>\n",
              "    <tr>\n",
              "      <th>3199</th>\n",
              "      <td>211.214674</td>\n",
              "      <td>204.185537</td>\n",
              "      <td>158.897330</td>\n",
              "      <td>210.905910</td>\n",
              "      <td>203.783372</td>\n",
              "      <td>158.707275</td>\n",
              "      <td>26.202337</td>\n",
              "      <td>63.120039</td>\n",
              "      <td>211.214674</td>\n",
              "      <td>26.147358</td>\n",
              "      <td>63.070194</td>\n",
              "      <td>210.905910</td>\n",
              "      <td>A1</td>\n",
              "      <td>D4</td>\n",
              "      <td>Set4</td>\n",
              "      <td>D360D9A0-603E-4947-A8FE-72EB861A079A.png</td>\n",
              "    </tr>\n",
              "  </tbody>\n",
              "</table>\n",
              "<p>3200 rows × 16 columns</p>\n",
              "</div>\n",
              "      <button class=\"colab-df-convert\" onclick=\"convertToInteractive('df-7846ddb3-7582-43d1-b0fd-58fd64377ff7')\"\n",
              "              title=\"Convert this dataframe to an interactive table.\"\n",
              "              style=\"display:none;\">\n",
              "        \n",
              "  <svg xmlns=\"http://www.w3.org/2000/svg\" height=\"24px\"viewBox=\"0 0 24 24\"\n",
              "       width=\"24px\">\n",
              "    <path d=\"M0 0h24v24H0V0z\" fill=\"none\"/>\n",
              "    <path d=\"M18.56 5.44l.94 2.06.94-2.06 2.06-.94-2.06-.94-.94-2.06-.94 2.06-2.06.94zm-11 1L8.5 8.5l.94-2.06 2.06-.94-2.06-.94L8.5 2.5l-.94 2.06-2.06.94zm10 10l.94 2.06.94-2.06 2.06-.94-2.06-.94-.94-2.06-.94 2.06-2.06.94z\"/><path d=\"M17.41 7.96l-1.37-1.37c-.4-.4-.92-.59-1.43-.59-.52 0-1.04.2-1.43.59L10.3 9.45l-7.72 7.72c-.78.78-.78 2.05 0 2.83L4 21.41c.39.39.9.59 1.41.59.51 0 1.02-.2 1.41-.59l7.78-7.78 2.81-2.81c.8-.78.8-2.07 0-2.86zM5.41 20L4 18.59l7.72-7.72 1.47 1.35L5.41 20z\"/>\n",
              "  </svg>\n",
              "      </button>\n",
              "      \n",
              "  <style>\n",
              "    .colab-df-container {\n",
              "      display:flex;\n",
              "      flex-wrap:wrap;\n",
              "      gap: 12px;\n",
              "    }\n",
              "\n",
              "    .colab-df-convert {\n",
              "      background-color: #E8F0FE;\n",
              "      border: none;\n",
              "      border-radius: 50%;\n",
              "      cursor: pointer;\n",
              "      display: none;\n",
              "      fill: #1967D2;\n",
              "      height: 32px;\n",
              "      padding: 0 0 0 0;\n",
              "      width: 32px;\n",
              "    }\n",
              "\n",
              "    .colab-df-convert:hover {\n",
              "      background-color: #E2EBFA;\n",
              "      box-shadow: 0px 1px 2px rgba(60, 64, 67, 0.3), 0px 1px 3px 1px rgba(60, 64, 67, 0.15);\n",
              "      fill: #174EA6;\n",
              "    }\n",
              "\n",
              "    [theme=dark] .colab-df-convert {\n",
              "      background-color: #3B4455;\n",
              "      fill: #D2E3FC;\n",
              "    }\n",
              "\n",
              "    [theme=dark] .colab-df-convert:hover {\n",
              "      background-color: #434B5C;\n",
              "      box-shadow: 0px 1px 3px 1px rgba(0, 0, 0, 0.15);\n",
              "      filter: drop-shadow(0px 1px 2px rgba(0, 0, 0, 0.3));\n",
              "      fill: #FFFFFF;\n",
              "    }\n",
              "  </style>\n",
              "\n",
              "      <script>\n",
              "        const buttonEl =\n",
              "          document.querySelector('#df-7846ddb3-7582-43d1-b0fd-58fd64377ff7 button.colab-df-convert');\n",
              "        buttonEl.style.display =\n",
              "          google.colab.kernel.accessAllowed ? 'block' : 'none';\n",
              "\n",
              "        async function convertToInteractive(key) {\n",
              "          const element = document.querySelector('#df-7846ddb3-7582-43d1-b0fd-58fd64377ff7');\n",
              "          const dataTable =\n",
              "            await google.colab.kernel.invokeFunction('convertToInteractive',\n",
              "                                                     [key], {});\n",
              "          if (!dataTable) return;\n",
              "\n",
              "          const docLinkHtml = 'Like what you see? Visit the ' +\n",
              "            '<a target=\"_blank\" href=https://colab.research.google.com/notebooks/data_table.ipynb>data table notebook</a>'\n",
              "            + ' to learn more about interactive tables.';\n",
              "          element.innerHTML = '';\n",
              "          dataTable['output_type'] = 'display_data';\n",
              "          await google.colab.output.renderOutput(dataTable, element);\n",
              "          const docLink = document.createElement('div');\n",
              "          docLink.innerHTML = docLinkHtml;\n",
              "          element.appendChild(docLink);\n",
              "        }\n",
              "      </script>\n",
              "    </div>\n",
              "  </div>\n",
              "  "
            ],
            "text/plain": [
              "           R-ref       G-ref  ...  Setting                                       Img\n",
              "0     237.172985  225.596383  ...     Set1  219558E6-E67A-4672-9E46-3D084D0D2032.png\n",
              "1     239.246246  221.661797  ...     Set1  DDC4DC8E-B6F3-4C8E-B168-D77C99A200B0.png\n",
              "2     237.328788  211.283256  ...     Set1  9C42EB3E-DDE7-43A2-91AE-4DCE60FCDAA9.png\n",
              "3     236.773314  209.917864  ...     Set1  6305881D-3DFD-4ECE-BD1D-C5376038CD26.png\n",
              "4     238.599951  222.450207  ...     Set1  07475504-D2B5-4A4F-960A-6AA5AE0EFFCF.png\n",
              "...          ...         ...  ...      ...                                       ...\n",
              "3195  219.796364  220.248600  ...     Set4  95DD0EB2-20EB-404E-BA97-3740D2D0DF96.png\n",
              "3196  215.312718  216.245759  ...     Set4  2F670532-3760-42FC-A982-1670FEE99E66.png\n",
              "3197  215.690610  216.009902  ...     Set4  547F5541-94BD-48D5-BD5B-25CBEFA4B8C9.png\n",
              "3198  213.749290  210.436328  ...     Set4  E9149994-C281-48DA-AF5B-7A13ECD7E307.png\n",
              "3199  211.214674  204.185537  ...     Set4  D360D9A0-603E-4947-A8FE-72EB861A079A.png\n",
              "\n",
              "[3200 rows x 16 columns]"
            ]
          },
          "metadata": {},
          "execution_count": 24
        }
      ]
    },
    {
      "cell_type": "code",
      "source": [
        "RGB_A1 = table_A1.drop(['H-ref','S-ref','V-ref','S-Shad','V-Shad','Shade-ref','Setting','Img','Shade','H-Shad'], axis=1)"
      ],
      "metadata": {
        "id": "RnuwngxIi6x1"
      },
      "execution_count": 25,
      "outputs": []
    },
    {
      "cell_type": "code",
      "source": [
        "X_A1 = np.array(RGB_A1)"
      ],
      "metadata": {
        "id": "b9zh3Bd8n2h0"
      },
      "execution_count": 26,
      "outputs": []
    },
    {
      "cell_type": "code",
      "source": [
        "y_A1 =  table_A1.iloc[:,13:14]"
      ],
      "metadata": {
        "id": "Pxz12HelpHfz"
      },
      "execution_count": 27,
      "outputs": []
    },
    {
      "cell_type": "code",
      "source": [
        "y_A1 = np.array(y_A1)\n",
        "y_A1"
      ],
      "metadata": {
        "id": "OUlNrinDoig4",
        "outputId": "23a54405-4ac5-4af9-cf99-3e27f031850e",
        "colab": {
          "base_uri": "https://localhost:8080/"
        }
      },
      "execution_count": 28,
      "outputs": [
        {
          "output_type": "execute_result",
          "data": {
            "text/plain": [
              "array([['A1'],\n",
              "       ['A1'],\n",
              "       ['A1'],\n",
              "       ...,\n",
              "       ['D4'],\n",
              "       ['D4'],\n",
              "       ['D4']], dtype=object)"
            ]
          },
          "metadata": {},
          "execution_count": 28
        }
      ]
    },
    {
      "cell_type": "code",
      "source": [
        "X_test_A1, X_train_A1 , y_test_A1, y_train_A1 = train_test_split(X_A1, y_A1 , test_size=80, train_size=320)"
      ],
      "metadata": {
        "id": "i7rTM8AFpqSK"
      },
      "execution_count": 219,
      "outputs": []
    },
    {
      "cell_type": "code",
      "source": [
        "clf.fit(X_train_A1, y_train_A1)"
      ],
      "metadata": {
        "id": "IUUimpJpteyy",
        "outputId": "046b7dfd-c21a-4296-c301-8b2e0f72eb8b",
        "colab": {
          "base_uri": "https://localhost:8080/"
        }
      },
      "execution_count": 31,
      "outputs": [
        {
          "output_type": "stream",
          "name": "stderr",
          "text": [
            "/usr/local/lib/python3.7/dist-packages/sklearn/utils/validation.py:985: DataConversionWarning: A column-vector y was passed when a 1d array was expected. Please change the shape of y to (n_samples, ), for example using ravel().\n",
            "  y = column_or_1d(y, warn=True)\n"
          ]
        },
        {
          "output_type": "execute_result",
          "data": {
            "text/plain": [
              "SVC(kernel='poly')"
            ]
          },
          "metadata": {},
          "execution_count": 31
        }
      ]
    },
    {
      "cell_type": "code",
      "source": [
        "y_pred_A1 = clf.predict(X_test_A1)"
      ],
      "metadata": {
        "id": "PM9IM1Z3vP9t"
      },
      "execution_count": 32,
      "outputs": []
    },
    {
      "cell_type": "code",
      "source": [
        "print(\"Accuracy:\", metrics.accuracy_score(y_test_A1, y_pred_A1))"
      ],
      "metadata": {
        "id": "vcsWfTP8vknu",
        "outputId": "6bb28e0c-f582-47b3-ae0a-6f85ba3230be",
        "colab": {
          "base_uri": "https://localhost:8080/"
        }
      },
      "execution_count": 33,
      "outputs": [
        {
          "output_type": "stream",
          "name": "stdout",
          "text": [
            "Accuracy: 0.10580357142857143\n"
          ]
        }
      ]
    },
    {
      "cell_type": "markdown",
      "source": [
        "##A2"
      ],
      "metadata": {
        "id": "BdY-rssHzaBL"
      }
    },
    {
      "cell_type": "code",
      "source": [
        "table_A2= pd.read_excel(AA, sheet_name='A2')\n",
        "table_A2"
      ],
      "metadata": {
        "colab": {
          "base_uri": "https://localhost:8080/",
          "height": 658
        },
        "id": "LqVCyRRIyp-O",
        "outputId": "3a19a83c-ca26-4c31-948a-05fdf5c22f4b"
      },
      "execution_count": 34,
      "outputs": [
        {
          "output_type": "execute_result",
          "data": {
            "text/html": [
              "\n",
              "  <div id=\"df-31901f85-cf4f-4958-959e-fb660d8732c3\">\n",
              "    <div class=\"colab-df-container\">\n",
              "      <div>\n",
              "<style scoped>\n",
              "    .dataframe tbody tr th:only-of-type {\n",
              "        vertical-align: middle;\n",
              "    }\n",
              "\n",
              "    .dataframe tbody tr th {\n",
              "        vertical-align: top;\n",
              "    }\n",
              "\n",
              "    .dataframe thead th {\n",
              "        text-align: right;\n",
              "    }\n",
              "</style>\n",
              "<table border=\"1\" class=\"dataframe\">\n",
              "  <thead>\n",
              "    <tr style=\"text-align: right;\">\n",
              "      <th></th>\n",
              "      <th>R-ref</th>\n",
              "      <th>G-ref</th>\n",
              "      <th>B-ref</th>\n",
              "      <th>R-Shad</th>\n",
              "      <th>G-Shad</th>\n",
              "      <th>B-Shad</th>\n",
              "      <th>H-ref</th>\n",
              "      <th>S-ref</th>\n",
              "      <th>V-ref</th>\n",
              "      <th>H-Shad</th>\n",
              "      <th>S-Shad</th>\n",
              "      <th>V-Shad</th>\n",
              "      <th>Shade-ref</th>\n",
              "      <th>Shade</th>\n",
              "      <th>Setting</th>\n",
              "      <th>Img</th>\n",
              "    </tr>\n",
              "  </thead>\n",
              "  <tbody>\n",
              "    <tr>\n",
              "      <th>0</th>\n",
              "      <td>232.175960</td>\n",
              "      <td>216.874036</td>\n",
              "      <td>178.708465</td>\n",
              "      <td>232.964654</td>\n",
              "      <td>217.832160</td>\n",
              "      <td>180.185122</td>\n",
              "      <td>21.562292</td>\n",
              "      <td>58.762357</td>\n",
              "      <td>232.175960</td>\n",
              "      <td>21.513975</td>\n",
              "      <td>57.839201</td>\n",
              "      <td>232.964654</td>\n",
              "      <td>A2</td>\n",
              "      <td>A1</td>\n",
              "      <td>Set1</td>\n",
              "      <td>77308B8C-A458-48C0-A0EF-DD05DD0AEA75.png</td>\n",
              "    </tr>\n",
              "    <tr>\n",
              "      <th>1</th>\n",
              "      <td>231.726077</td>\n",
              "      <td>211.455077</td>\n",
              "      <td>167.223440</td>\n",
              "      <td>232.533177</td>\n",
              "      <td>212.551597</td>\n",
              "      <td>168.982505</td>\n",
              "      <td>20.556367</td>\n",
              "      <td>71.019641</td>\n",
              "      <td>231.726077</td>\n",
              "      <td>20.552237</td>\n",
              "      <td>69.773771</td>\n",
              "      <td>232.533177</td>\n",
              "      <td>A2</td>\n",
              "      <td>A1</td>\n",
              "      <td>Set1</td>\n",
              "      <td>DD37E60E-8484-48E3-8FB4-7E94B71553F4.png</td>\n",
              "    </tr>\n",
              "    <tr>\n",
              "      <th>2</th>\n",
              "      <td>226.100641</td>\n",
              "      <td>197.575278</td>\n",
              "      <td>146.748235</td>\n",
              "      <td>226.795889</td>\n",
              "      <td>198.548539</td>\n",
              "      <td>147.966148</td>\n",
              "      <td>19.189595</td>\n",
              "      <td>89.497849</td>\n",
              "      <td>226.100641</td>\n",
              "      <td>19.239457</td>\n",
              "      <td>88.650238</td>\n",
              "      <td>226.795889</td>\n",
              "      <td>A2</td>\n",
              "      <td>A1</td>\n",
              "      <td>Set1</td>\n",
              "      <td>0ED6DB80-7C02-41B3-88E9-CB382B96B37C.png</td>\n",
              "    </tr>\n",
              "    <tr>\n",
              "      <th>3</th>\n",
              "      <td>230.612531</td>\n",
              "      <td>207.562373</td>\n",
              "      <td>164.211752</td>\n",
              "      <td>231.210796</td>\n",
              "      <td>208.351682</td>\n",
              "      <td>165.428561</td>\n",
              "      <td>19.566594</td>\n",
              "      <td>73.461651</td>\n",
              "      <td>230.612531</td>\n",
              "      <td>19.550743</td>\n",
              "      <td>72.606500</td>\n",
              "      <td>231.210796</td>\n",
              "      <td>A2</td>\n",
              "      <td>A1</td>\n",
              "      <td>Set1</td>\n",
              "      <td>8B551D28-1E87-49BD-9E20-8B3F5F08FE8E.png</td>\n",
              "    </tr>\n",
              "    <tr>\n",
              "      <th>4</th>\n",
              "      <td>232.133431</td>\n",
              "      <td>209.823472</td>\n",
              "      <td>160.814707</td>\n",
              "      <td>232.841548</td>\n",
              "      <td>211.054264</td>\n",
              "      <td>163.067989</td>\n",
              "      <td>20.814463</td>\n",
              "      <td>78.373996</td>\n",
              "      <td>232.133431</td>\n",
              "      <td>20.855487</td>\n",
              "      <td>76.523434</td>\n",
              "      <td>232.841832</td>\n",
              "      <td>A2</td>\n",
              "      <td>A1</td>\n",
              "      <td>Set1</td>\n",
              "      <td>C12D1E9C-5BFA-4DD7-9D3F-194378F9673D.png</td>\n",
              "    </tr>\n",
              "    <tr>\n",
              "      <th>...</th>\n",
              "      <td>...</td>\n",
              "      <td>...</td>\n",
              "      <td>...</td>\n",
              "      <td>...</td>\n",
              "      <td>...</td>\n",
              "      <td>...</td>\n",
              "      <td>...</td>\n",
              "      <td>...</td>\n",
              "      <td>...</td>\n",
              "      <td>...</td>\n",
              "      <td>...</td>\n",
              "      <td>...</td>\n",
              "      <td>...</td>\n",
              "      <td>...</td>\n",
              "      <td>...</td>\n",
              "      <td>...</td>\n",
              "    </tr>\n",
              "    <tr>\n",
              "      <th>3195</th>\n",
              "      <td>232.804642</td>\n",
              "      <td>209.441604</td>\n",
              "      <td>164.924357</td>\n",
              "      <td>233.308869</td>\n",
              "      <td>210.109594</td>\n",
              "      <td>166.164853</td>\n",
              "      <td>19.601331</td>\n",
              "      <td>74.376755</td>\n",
              "      <td>232.804642</td>\n",
              "      <td>19.552094</td>\n",
              "      <td>73.433042</td>\n",
              "      <td>233.308869</td>\n",
              "      <td>A2</td>\n",
              "      <td>D4</td>\n",
              "      <td>Set4</td>\n",
              "      <td>NaN</td>\n",
              "    </tr>\n",
              "    <tr>\n",
              "      <th>3196</th>\n",
              "      <td>235.903985</td>\n",
              "      <td>218.940670</td>\n",
              "      <td>179.875741</td>\n",
              "      <td>236.487092</td>\n",
              "      <td>219.666951</td>\n",
              "      <td>181.014864</td>\n",
              "      <td>20.612775</td>\n",
              "      <td>78.169873</td>\n",
              "      <td>229.335768</td>\n",
              "      <td>20.589787</td>\n",
              "      <td>77.092810</td>\n",
              "      <td>229.914515</td>\n",
              "      <td>A2</td>\n",
              "      <td>D4</td>\n",
              "      <td>Set4</td>\n",
              "      <td>NaN</td>\n",
              "    </tr>\n",
              "    <tr>\n",
              "      <th>3197</th>\n",
              "      <td>232.175960</td>\n",
              "      <td>216.874036</td>\n",
              "      <td>178.708465</td>\n",
              "      <td>232.964654</td>\n",
              "      <td>217.832160</td>\n",
              "      <td>180.185122</td>\n",
              "      <td>21.562292</td>\n",
              "      <td>58.762357</td>\n",
              "      <td>232.175960</td>\n",
              "      <td>21.513975</td>\n",
              "      <td>57.839201</td>\n",
              "      <td>232.964654</td>\n",
              "      <td>A2</td>\n",
              "      <td>D4</td>\n",
              "      <td>Set4</td>\n",
              "      <td>NaN</td>\n",
              "    </tr>\n",
              "    <tr>\n",
              "      <th>3198</th>\n",
              "      <td>231.726077</td>\n",
              "      <td>211.455077</td>\n",
              "      <td>167.223440</td>\n",
              "      <td>232.533177</td>\n",
              "      <td>212.551597</td>\n",
              "      <td>168.982505</td>\n",
              "      <td>20.556367</td>\n",
              "      <td>71.019641</td>\n",
              "      <td>231.726077</td>\n",
              "      <td>20.552237</td>\n",
              "      <td>69.773771</td>\n",
              "      <td>232.533177</td>\n",
              "      <td>A2</td>\n",
              "      <td>D4</td>\n",
              "      <td>Set4</td>\n",
              "      <td>NaN</td>\n",
              "    </tr>\n",
              "    <tr>\n",
              "      <th>3199</th>\n",
              "      <td>226.100641</td>\n",
              "      <td>197.575278</td>\n",
              "      <td>146.748235</td>\n",
              "      <td>226.795889</td>\n",
              "      <td>198.548539</td>\n",
              "      <td>147.966148</td>\n",
              "      <td>19.189595</td>\n",
              "      <td>89.497849</td>\n",
              "      <td>226.100641</td>\n",
              "      <td>19.239457</td>\n",
              "      <td>88.650238</td>\n",
              "      <td>226.795889</td>\n",
              "      <td>A2</td>\n",
              "      <td>D4</td>\n",
              "      <td>Set4</td>\n",
              "      <td>NaN</td>\n",
              "    </tr>\n",
              "  </tbody>\n",
              "</table>\n",
              "<p>3200 rows × 16 columns</p>\n",
              "</div>\n",
              "      <button class=\"colab-df-convert\" onclick=\"convertToInteractive('df-31901f85-cf4f-4958-959e-fb660d8732c3')\"\n",
              "              title=\"Convert this dataframe to an interactive table.\"\n",
              "              style=\"display:none;\">\n",
              "        \n",
              "  <svg xmlns=\"http://www.w3.org/2000/svg\" height=\"24px\"viewBox=\"0 0 24 24\"\n",
              "       width=\"24px\">\n",
              "    <path d=\"M0 0h24v24H0V0z\" fill=\"none\"/>\n",
              "    <path d=\"M18.56 5.44l.94 2.06.94-2.06 2.06-.94-2.06-.94-.94-2.06-.94 2.06-2.06.94zm-11 1L8.5 8.5l.94-2.06 2.06-.94-2.06-.94L8.5 2.5l-.94 2.06-2.06.94zm10 10l.94 2.06.94-2.06 2.06-.94-2.06-.94-.94-2.06-.94 2.06-2.06.94z\"/><path d=\"M17.41 7.96l-1.37-1.37c-.4-.4-.92-.59-1.43-.59-.52 0-1.04.2-1.43.59L10.3 9.45l-7.72 7.72c-.78.78-.78 2.05 0 2.83L4 21.41c.39.39.9.59 1.41.59.51 0 1.02-.2 1.41-.59l7.78-7.78 2.81-2.81c.8-.78.8-2.07 0-2.86zM5.41 20L4 18.59l7.72-7.72 1.47 1.35L5.41 20z\"/>\n",
              "  </svg>\n",
              "      </button>\n",
              "      \n",
              "  <style>\n",
              "    .colab-df-container {\n",
              "      display:flex;\n",
              "      flex-wrap:wrap;\n",
              "      gap: 12px;\n",
              "    }\n",
              "\n",
              "    .colab-df-convert {\n",
              "      background-color: #E8F0FE;\n",
              "      border: none;\n",
              "      border-radius: 50%;\n",
              "      cursor: pointer;\n",
              "      display: none;\n",
              "      fill: #1967D2;\n",
              "      height: 32px;\n",
              "      padding: 0 0 0 0;\n",
              "      width: 32px;\n",
              "    }\n",
              "\n",
              "    .colab-df-convert:hover {\n",
              "      background-color: #E2EBFA;\n",
              "      box-shadow: 0px 1px 2px rgba(60, 64, 67, 0.3), 0px 1px 3px 1px rgba(60, 64, 67, 0.15);\n",
              "      fill: #174EA6;\n",
              "    }\n",
              "\n",
              "    [theme=dark] .colab-df-convert {\n",
              "      background-color: #3B4455;\n",
              "      fill: #D2E3FC;\n",
              "    }\n",
              "\n",
              "    [theme=dark] .colab-df-convert:hover {\n",
              "      background-color: #434B5C;\n",
              "      box-shadow: 0px 1px 3px 1px rgba(0, 0, 0, 0.15);\n",
              "      filter: drop-shadow(0px 1px 2px rgba(0, 0, 0, 0.3));\n",
              "      fill: #FFFFFF;\n",
              "    }\n",
              "  </style>\n",
              "\n",
              "      <script>\n",
              "        const buttonEl =\n",
              "          document.querySelector('#df-31901f85-cf4f-4958-959e-fb660d8732c3 button.colab-df-convert');\n",
              "        buttonEl.style.display =\n",
              "          google.colab.kernel.accessAllowed ? 'block' : 'none';\n",
              "\n",
              "        async function convertToInteractive(key) {\n",
              "          const element = document.querySelector('#df-31901f85-cf4f-4958-959e-fb660d8732c3');\n",
              "          const dataTable =\n",
              "            await google.colab.kernel.invokeFunction('convertToInteractive',\n",
              "                                                     [key], {});\n",
              "          if (!dataTable) return;\n",
              "\n",
              "          const docLinkHtml = 'Like what you see? Visit the ' +\n",
              "            '<a target=\"_blank\" href=https://colab.research.google.com/notebooks/data_table.ipynb>data table notebook</a>'\n",
              "            + ' to learn more about interactive tables.';\n",
              "          element.innerHTML = '';\n",
              "          dataTable['output_type'] = 'display_data';\n",
              "          await google.colab.output.renderOutput(dataTable, element);\n",
              "          const docLink = document.createElement('div');\n",
              "          docLink.innerHTML = docLinkHtml;\n",
              "          element.appendChild(docLink);\n",
              "        }\n",
              "      </script>\n",
              "    </div>\n",
              "  </div>\n",
              "  "
            ],
            "text/plain": [
              "           R-ref       G-ref  ...  Setting                                       Img\n",
              "0     232.175960  216.874036  ...     Set1  77308B8C-A458-48C0-A0EF-DD05DD0AEA75.png\n",
              "1     231.726077  211.455077  ...     Set1  DD37E60E-8484-48E3-8FB4-7E94B71553F4.png\n",
              "2     226.100641  197.575278  ...     Set1  0ED6DB80-7C02-41B3-88E9-CB382B96B37C.png\n",
              "3     230.612531  207.562373  ...     Set1  8B551D28-1E87-49BD-9E20-8B3F5F08FE8E.png\n",
              "4     232.133431  209.823472  ...     Set1  C12D1E9C-5BFA-4DD7-9D3F-194378F9673D.png\n",
              "...          ...         ...  ...      ...                                       ...\n",
              "3195  232.804642  209.441604  ...     Set4                                       NaN\n",
              "3196  235.903985  218.940670  ...     Set4                                       NaN\n",
              "3197  232.175960  216.874036  ...     Set4                                       NaN\n",
              "3198  231.726077  211.455077  ...     Set4                                       NaN\n",
              "3199  226.100641  197.575278  ...     Set4                                       NaN\n",
              "\n",
              "[3200 rows x 16 columns]"
            ]
          },
          "metadata": {},
          "execution_count": 34
        }
      ]
    },
    {
      "cell_type": "code",
      "source": [
        "RGB_A2 = table_A2.drop(['H-ref','S-ref','V-ref','S-Shad','V-Shad','Shade-ref','Setting','Img','Shade','H-Shad'], axis=1)"
      ],
      "metadata": {
        "id": "2l5mR7_M1Oxg"
      },
      "execution_count": 35,
      "outputs": []
    },
    {
      "cell_type": "code",
      "source": [
        "X_A2 = np.array(RGB_A2)"
      ],
      "metadata": {
        "id": "jgiRT1qO1Oxg"
      },
      "execution_count": 36,
      "outputs": []
    },
    {
      "cell_type": "code",
      "source": [
        "y_A2 =  table_A1.iloc[:,13:14]"
      ],
      "metadata": {
        "id": "neQfS-Pv1Oxg"
      },
      "execution_count": 37,
      "outputs": []
    },
    {
      "cell_type": "code",
      "source": [
        "y_A2 = np.array(y_A2)\n",
        "y_A2"
      ],
      "metadata": {
        "outputId": "dbf434f7-4510-4baf-9c78-ea9483986b53",
        "colab": {
          "base_uri": "https://localhost:8080/"
        },
        "id": "P0tHOVqI1Oxg"
      },
      "execution_count": 38,
      "outputs": [
        {
          "output_type": "execute_result",
          "data": {
            "text/plain": [
              "array([['A1'],\n",
              "       ['A1'],\n",
              "       ['A1'],\n",
              "       ...,\n",
              "       ['D4'],\n",
              "       ['D4'],\n",
              "       ['D4']], dtype=object)"
            ]
          },
          "metadata": {},
          "execution_count": 38
        }
      ]
    },
    {
      "cell_type": "code",
      "source": [
        "X_test_A2, X_train_A2 , y_test_A2, y_train_A2 = train_test_split(X_A2, y_A2 , test_size=80, train_size=320)"
      ],
      "metadata": {
        "id": "84Uys_BQr1XF"
      },
      "execution_count": 223,
      "outputs": []
    },
    {
      "cell_type": "code",
      "source": [
        "clf.fit(X_train_A2, y_train_A2)"
      ],
      "metadata": {
        "outputId": "14233b27-66d1-41b8-db3c-872b386e387f",
        "colab": {
          "base_uri": "https://localhost:8080/"
        },
        "id": "uU9cvxYZ1Oxh"
      },
      "execution_count": 224,
      "outputs": [
        {
          "output_type": "stream",
          "name": "stderr",
          "text": [
            "/usr/local/lib/python3.7/dist-packages/sklearn/utils/validation.py:985: DataConversionWarning: A column-vector y was passed when a 1d array was expected. Please change the shape of y to (n_samples, ), for example using ravel().\n",
            "  y = column_or_1d(y, warn=True)\n"
          ]
        },
        {
          "output_type": "execute_result",
          "data": {
            "text/plain": [
              "SVC(kernel='poly')"
            ]
          },
          "metadata": {},
          "execution_count": 224
        }
      ]
    },
    {
      "cell_type": "code",
      "source": [
        "y_pred_A2 = clf.predict(X_test_A2)"
      ],
      "metadata": {
        "id": "aqNY_1A41Oxh"
      },
      "execution_count": 225,
      "outputs": []
    },
    {
      "cell_type": "code",
      "source": [
        "print(\"Accuracy:\", metrics.accuracy_score(y_test_A2, y_pred_A2))"
      ],
      "metadata": {
        "outputId": "a43e8372-27dc-4150-9574-257f18bf4032",
        "colab": {
          "base_uri": "https://localhost:8080/"
        },
        "id": "UJ_YilIL1Oxh"
      },
      "execution_count": 226,
      "outputs": [
        {
          "output_type": "stream",
          "name": "stdout",
          "text": [
            "Accuracy: 0.196875\n"
          ]
        }
      ]
    },
    {
      "cell_type": "markdown",
      "source": [
        "##A3"
      ],
      "metadata": {
        "id": "67NP5TNFzbli"
      }
    },
    {
      "cell_type": "code",
      "source": [
        "table_A3= pd.read_excel(AA, sheet_name='A3')\n",
        "table_A3"
      ],
      "metadata": {
        "colab": {
          "base_uri": "https://localhost:8080/",
          "height": 832
        },
        "id": "_K7tBtcMy04R",
        "outputId": "908f1c50-3703-4a42-e78a-56fc717ad8ec"
      },
      "execution_count": 44,
      "outputs": [
        {
          "output_type": "execute_result",
          "data": {
            "text/html": [
              "\n",
              "  <div id=\"df-59ebe2e6-f963-43f5-a3cf-252dc5438cf8\">\n",
              "    <div class=\"colab-df-container\">\n",
              "      <div>\n",
              "<style scoped>\n",
              "    .dataframe tbody tr th:only-of-type {\n",
              "        vertical-align: middle;\n",
              "    }\n",
              "\n",
              "    .dataframe tbody tr th {\n",
              "        vertical-align: top;\n",
              "    }\n",
              "\n",
              "    .dataframe thead th {\n",
              "        text-align: right;\n",
              "    }\n",
              "</style>\n",
              "<table border=\"1\" class=\"dataframe\">\n",
              "  <thead>\n",
              "    <tr style=\"text-align: right;\">\n",
              "      <th></th>\n",
              "      <th>R-ref</th>\n",
              "      <th>G-ref</th>\n",
              "      <th>B-ref</th>\n",
              "      <th>R-Shad</th>\n",
              "      <th>G-Shad</th>\n",
              "      <th>B-Shad</th>\n",
              "      <th>H-ref</th>\n",
              "      <th>S-ref</th>\n",
              "      <th>V-ref</th>\n",
              "      <th>H-Shad</th>\n",
              "      <th>S-Shad</th>\n",
              "      <th>V-Shad</th>\n",
              "      <th>Shade-ref</th>\n",
              "      <th>Shade</th>\n",
              "      <th>Setting</th>\n",
              "      <th>Img</th>\n",
              "    </tr>\n",
              "  </thead>\n",
              "  <tbody>\n",
              "    <tr>\n",
              "      <th>0</th>\n",
              "      <td>240.865271</td>\n",
              "      <td>224.637854</td>\n",
              "      <td>178.549306</td>\n",
              "      <td>241.270820</td>\n",
              "      <td>225.258019</td>\n",
              "      <td>179.527345</td>\n",
              "      <td>22.332441</td>\n",
              "      <td>66.000568</td>\n",
              "      <td>240.865271</td>\n",
              "      <td>22.344499</td>\n",
              "      <td>65.293578</td>\n",
              "      <td>241.270820</td>\n",
              "      <td>A3</td>\n",
              "      <td>A1</td>\n",
              "      <td>Set1</td>\n",
              "      <td>BAD1342F-482E-488F-8241-A393B4779E26.png</td>\n",
              "    </tr>\n",
              "    <tr>\n",
              "      <th>1</th>\n",
              "      <td>234.887834</td>\n",
              "      <td>223.690123</td>\n",
              "      <td>188.796283</td>\n",
              "      <td>235.609061</td>\n",
              "      <td>224.545978</td>\n",
              "      <td>190.322452</td>\n",
              "      <td>22.660093</td>\n",
              "      <td>50.039201</td>\n",
              "      <td>234.887834</td>\n",
              "      <td>22.616101</td>\n",
              "      <td>49.037977</td>\n",
              "      <td>235.609061</td>\n",
              "      <td>A3</td>\n",
              "      <td>A1</td>\n",
              "      <td>Set1</td>\n",
              "      <td>0E4BF624-DA48-45D7-8CEF-1F893F3E36A9.png</td>\n",
              "    </tr>\n",
              "    <tr>\n",
              "      <th>2</th>\n",
              "      <td>237.374726</td>\n",
              "      <td>219.960149</td>\n",
              "      <td>176.637286</td>\n",
              "      <td>237.957613</td>\n",
              "      <td>220.812531</td>\n",
              "      <td>177.951355</td>\n",
              "      <td>21.737359</td>\n",
              "      <td>65.276114</td>\n",
              "      <td>237.374726</td>\n",
              "      <td>21.747173</td>\n",
              "      <td>64.356589</td>\n",
              "      <td>237.957613</td>\n",
              "      <td>A3</td>\n",
              "      <td>A1</td>\n",
              "      <td>Set1</td>\n",
              "      <td>A5A67F7B-D2B1-4729-8A0B-9BE2F2DF55C6.png</td>\n",
              "    </tr>\n",
              "    <tr>\n",
              "      <th>3</th>\n",
              "      <td>240.543706</td>\n",
              "      <td>213.146498</td>\n",
              "      <td>156.376268</td>\n",
              "      <td>241.134485</td>\n",
              "      <td>214.226655</td>\n",
              "      <td>158.206102</td>\n",
              "      <td>20.320672</td>\n",
              "      <td>89.255499</td>\n",
              "      <td>240.543706</td>\n",
              "      <td>20.371097</td>\n",
              "      <td>87.763246</td>\n",
              "      <td>241.134485</td>\n",
              "      <td>A3</td>\n",
              "      <td>A1</td>\n",
              "      <td>Set1</td>\n",
              "      <td>35D1BEA8-E650-4D83-9D61-17AD65EABD39.png</td>\n",
              "    </tr>\n",
              "    <tr>\n",
              "      <th>4</th>\n",
              "      <td>240.498498</td>\n",
              "      <td>229.602062</td>\n",
              "      <td>194.791981</td>\n",
              "      <td>240.924756</td>\n",
              "      <td>230.162577</td>\n",
              "      <td>195.716165</td>\n",
              "      <td>22.651408</td>\n",
              "      <td>48.460271</td>\n",
              "      <td>240.498498</td>\n",
              "      <td>22.683806</td>\n",
              "      <td>47.859327</td>\n",
              "      <td>240.924756</td>\n",
              "      <td>A3</td>\n",
              "      <td>A1</td>\n",
              "      <td>Set1</td>\n",
              "      <td>18FE9FE4-F848-465E-B7FE-7792C8A083CB.png</td>\n",
              "    </tr>\n",
              "    <tr>\n",
              "      <th>...</th>\n",
              "      <td>...</td>\n",
              "      <td>...</td>\n",
              "      <td>...</td>\n",
              "      <td>...</td>\n",
              "      <td>...</td>\n",
              "      <td>...</td>\n",
              "      <td>...</td>\n",
              "      <td>...</td>\n",
              "      <td>...</td>\n",
              "      <td>...</td>\n",
              "      <td>...</td>\n",
              "      <td>...</td>\n",
              "      <td>...</td>\n",
              "      <td>...</td>\n",
              "      <td>...</td>\n",
              "      <td>...</td>\n",
              "    </tr>\n",
              "    <tr>\n",
              "      <th>3195</th>\n",
              "      <td>215.312718</td>\n",
              "      <td>216.245759</td>\n",
              "      <td>196.157455</td>\n",
              "      <td>214.860323</td>\n",
              "      <td>215.754498</td>\n",
              "      <td>195.762108</td>\n",
              "      <td>28.454590</td>\n",
              "      <td>52.051295</td>\n",
              "      <td>221.314991</td>\n",
              "      <td>28.269469</td>\n",
              "      <td>52.384325</td>\n",
              "      <td>220.852002</td>\n",
              "      <td>A3</td>\n",
              "      <td>D4</td>\n",
              "      <td>Set4</td>\n",
              "      <td>B83176D1-07D1-4ED0-AAE9-FCD4574B5C77.png</td>\n",
              "    </tr>\n",
              "    <tr>\n",
              "      <th>3196</th>\n",
              "      <td>215.690610</td>\n",
              "      <td>216.009902</td>\n",
              "      <td>196.406055</td>\n",
              "      <td>215.166773</td>\n",
              "      <td>215.486879</td>\n",
              "      <td>195.933291</td>\n",
              "      <td>30.849525</td>\n",
              "      <td>23.662609</td>\n",
              "      <td>216.485350</td>\n",
              "      <td>30.867293</td>\n",
              "      <td>23.636228</td>\n",
              "      <td>215.959036</td>\n",
              "      <td>A3</td>\n",
              "      <td>D4</td>\n",
              "      <td>Set4</td>\n",
              "      <td>7240B378-683D-473E-892E-7495463896C9.png</td>\n",
              "    </tr>\n",
              "    <tr>\n",
              "      <th>3197</th>\n",
              "      <td>213.749290</td>\n",
              "      <td>210.436328</td>\n",
              "      <td>181.714877</td>\n",
              "      <td>213.046725</td>\n",
              "      <td>209.822132</td>\n",
              "      <td>181.286679</td>\n",
              "      <td>26.683954</td>\n",
              "      <td>38.233260</td>\n",
              "      <td>213.749290</td>\n",
              "      <td>26.767157</td>\n",
              "      <td>38.010668</td>\n",
              "      <td>213.046725</td>\n",
              "      <td>A3</td>\n",
              "      <td>D4</td>\n",
              "      <td>Set4</td>\n",
              "      <td>39327F65-2360-4CAA-96AB-CED449DA5C6F.png</td>\n",
              "    </tr>\n",
              "    <tr>\n",
              "      <th>3198</th>\n",
              "      <td>211.214674</td>\n",
              "      <td>204.185537</td>\n",
              "      <td>158.897330</td>\n",
              "      <td>210.905910</td>\n",
              "      <td>203.783372</td>\n",
              "      <td>158.707275</td>\n",
              "      <td>26.202337</td>\n",
              "      <td>63.120039</td>\n",
              "      <td>211.214674</td>\n",
              "      <td>26.147358</td>\n",
              "      <td>63.070194</td>\n",
              "      <td>210.905910</td>\n",
              "      <td>A3</td>\n",
              "      <td>D4</td>\n",
              "      <td>Set4</td>\n",
              "      <td>B8C1AF4E-061D-4CB7-BFB5-69B3DE73FE89.png</td>\n",
              "    </tr>\n",
              "    <tr>\n",
              "      <th>3199</th>\n",
              "      <td>221.403052</td>\n",
              "      <td>217.426426</td>\n",
              "      <td>188.743933</td>\n",
              "      <td>220.877036</td>\n",
              "      <td>216.910035</td>\n",
              "      <td>188.415191</td>\n",
              "      <td>26.406947</td>\n",
              "      <td>37.572518</td>\n",
              "      <td>221.403052</td>\n",
              "      <td>26.399047</td>\n",
              "      <td>37.439940</td>\n",
              "      <td>220.877036</td>\n",
              "      <td>A3</td>\n",
              "      <td>D4</td>\n",
              "      <td>Set4</td>\n",
              "      <td>7E6D5A19-5AB2-4317-83F1-CC56829025EB.png</td>\n",
              "    </tr>\n",
              "  </tbody>\n",
              "</table>\n",
              "<p>3200 rows × 16 columns</p>\n",
              "</div>\n",
              "      <button class=\"colab-df-convert\" onclick=\"convertToInteractive('df-59ebe2e6-f963-43f5-a3cf-252dc5438cf8')\"\n",
              "              title=\"Convert this dataframe to an interactive table.\"\n",
              "              style=\"display:none;\">\n",
              "        \n",
              "  <svg xmlns=\"http://www.w3.org/2000/svg\" height=\"24px\"viewBox=\"0 0 24 24\"\n",
              "       width=\"24px\">\n",
              "    <path d=\"M0 0h24v24H0V0z\" fill=\"none\"/>\n",
              "    <path d=\"M18.56 5.44l.94 2.06.94-2.06 2.06-.94-2.06-.94-.94-2.06-.94 2.06-2.06.94zm-11 1L8.5 8.5l.94-2.06 2.06-.94-2.06-.94L8.5 2.5l-.94 2.06-2.06.94zm10 10l.94 2.06.94-2.06 2.06-.94-2.06-.94-.94-2.06-.94 2.06-2.06.94z\"/><path d=\"M17.41 7.96l-1.37-1.37c-.4-.4-.92-.59-1.43-.59-.52 0-1.04.2-1.43.59L10.3 9.45l-7.72 7.72c-.78.78-.78 2.05 0 2.83L4 21.41c.39.39.9.59 1.41.59.51 0 1.02-.2 1.41-.59l7.78-7.78 2.81-2.81c.8-.78.8-2.07 0-2.86zM5.41 20L4 18.59l7.72-7.72 1.47 1.35L5.41 20z\"/>\n",
              "  </svg>\n",
              "      </button>\n",
              "      \n",
              "  <style>\n",
              "    .colab-df-container {\n",
              "      display:flex;\n",
              "      flex-wrap:wrap;\n",
              "      gap: 12px;\n",
              "    }\n",
              "\n",
              "    .colab-df-convert {\n",
              "      background-color: #E8F0FE;\n",
              "      border: none;\n",
              "      border-radius: 50%;\n",
              "      cursor: pointer;\n",
              "      display: none;\n",
              "      fill: #1967D2;\n",
              "      height: 32px;\n",
              "      padding: 0 0 0 0;\n",
              "      width: 32px;\n",
              "    }\n",
              "\n",
              "    .colab-df-convert:hover {\n",
              "      background-color: #E2EBFA;\n",
              "      box-shadow: 0px 1px 2px rgba(60, 64, 67, 0.3), 0px 1px 3px 1px rgba(60, 64, 67, 0.15);\n",
              "      fill: #174EA6;\n",
              "    }\n",
              "\n",
              "    [theme=dark] .colab-df-convert {\n",
              "      background-color: #3B4455;\n",
              "      fill: #D2E3FC;\n",
              "    }\n",
              "\n",
              "    [theme=dark] .colab-df-convert:hover {\n",
              "      background-color: #434B5C;\n",
              "      box-shadow: 0px 1px 3px 1px rgba(0, 0, 0, 0.15);\n",
              "      filter: drop-shadow(0px 1px 2px rgba(0, 0, 0, 0.3));\n",
              "      fill: #FFFFFF;\n",
              "    }\n",
              "  </style>\n",
              "\n",
              "      <script>\n",
              "        const buttonEl =\n",
              "          document.querySelector('#df-59ebe2e6-f963-43f5-a3cf-252dc5438cf8 button.colab-df-convert');\n",
              "        buttonEl.style.display =\n",
              "          google.colab.kernel.accessAllowed ? 'block' : 'none';\n",
              "\n",
              "        async function convertToInteractive(key) {\n",
              "          const element = document.querySelector('#df-59ebe2e6-f963-43f5-a3cf-252dc5438cf8');\n",
              "          const dataTable =\n",
              "            await google.colab.kernel.invokeFunction('convertToInteractive',\n",
              "                                                     [key], {});\n",
              "          if (!dataTable) return;\n",
              "\n",
              "          const docLinkHtml = 'Like what you see? Visit the ' +\n",
              "            '<a target=\"_blank\" href=https://colab.research.google.com/notebooks/data_table.ipynb>data table notebook</a>'\n",
              "            + ' to learn more about interactive tables.';\n",
              "          element.innerHTML = '';\n",
              "          dataTable['output_type'] = 'display_data';\n",
              "          await google.colab.output.renderOutput(dataTable, element);\n",
              "          const docLink = document.createElement('div');\n",
              "          docLink.innerHTML = docLinkHtml;\n",
              "          element.appendChild(docLink);\n",
              "        }\n",
              "      </script>\n",
              "    </div>\n",
              "  </div>\n",
              "  "
            ],
            "text/plain": [
              "           R-ref       G-ref  ...  Setting                                       Img\n",
              "0     240.865271  224.637854  ...     Set1  BAD1342F-482E-488F-8241-A393B4779E26.png\n",
              "1     234.887834  223.690123  ...     Set1  0E4BF624-DA48-45D7-8CEF-1F893F3E36A9.png\n",
              "2     237.374726  219.960149  ...     Set1  A5A67F7B-D2B1-4729-8A0B-9BE2F2DF55C6.png\n",
              "3     240.543706  213.146498  ...     Set1  35D1BEA8-E650-4D83-9D61-17AD65EABD39.png\n",
              "4     240.498498  229.602062  ...     Set1  18FE9FE4-F848-465E-B7FE-7792C8A083CB.png\n",
              "...          ...         ...  ...      ...                                       ...\n",
              "3195  215.312718  216.245759  ...     Set4  B83176D1-07D1-4ED0-AAE9-FCD4574B5C77.png\n",
              "3196  215.690610  216.009902  ...     Set4  7240B378-683D-473E-892E-7495463896C9.png\n",
              "3197  213.749290  210.436328  ...     Set4  39327F65-2360-4CAA-96AB-CED449DA5C6F.png\n",
              "3198  211.214674  204.185537  ...     Set4  B8C1AF4E-061D-4CB7-BFB5-69B3DE73FE89.png\n",
              "3199  221.403052  217.426426  ...     Set4  7E6D5A19-5AB2-4317-83F1-CC56829025EB.png\n",
              "\n",
              "[3200 rows x 16 columns]"
            ]
          },
          "metadata": {},
          "execution_count": 44
        }
      ]
    },
    {
      "cell_type": "code",
      "source": [
        "RGB_A3 = table_A3.drop(['H-ref','S-ref','V-ref','S-Shad','V-Shad','Shade-ref','Setting','Img','Shade','H-Shad'], axis=1)"
      ],
      "metadata": {
        "id": "syVzn9291f1f"
      },
      "execution_count": 45,
      "outputs": []
    },
    {
      "cell_type": "code",
      "source": [
        "X_A3 = np.array(RGB_A3)"
      ],
      "metadata": {
        "id": "wpXJyrp41f1g"
      },
      "execution_count": 46,
      "outputs": []
    },
    {
      "cell_type": "code",
      "source": [
        "y_A3 =  table_A3.iloc[:,13:14]"
      ],
      "metadata": {
        "id": "jqbGeJ7r1f1g"
      },
      "execution_count": 47,
      "outputs": []
    },
    {
      "cell_type": "code",
      "source": [
        "y_A3 = np.array(y_A3)\n",
        "y_A3"
      ],
      "metadata": {
        "outputId": "740be4e6-e2e6-42a3-a429-78819e3f7a66",
        "colab": {
          "base_uri": "https://localhost:8080/"
        },
        "id": "48Y5K2PZ1f1g"
      },
      "execution_count": 48,
      "outputs": [
        {
          "output_type": "execute_result",
          "data": {
            "text/plain": [
              "array([['A1'],\n",
              "       ['A1'],\n",
              "       ['A1'],\n",
              "       ...,\n",
              "       ['D4'],\n",
              "       ['D4'],\n",
              "       ['D4']], dtype=object)"
            ]
          },
          "metadata": {},
          "execution_count": 48
        }
      ]
    },
    {
      "cell_type": "code",
      "source": [
        "X_test_A3, X_train_A3 , y_test_A3, y_train_A3 = train_test_split(X_A3, y_A3 , test_size=80, train_size=320)"
      ],
      "metadata": {
        "id": "Clm2NSdMsFHD"
      },
      "execution_count": 227,
      "outputs": []
    },
    {
      "cell_type": "code",
      "source": [
        "clf.fit(X_train_A3, y_train_A3)"
      ],
      "metadata": {
        "outputId": "37657a22-5d06-44c6-dd42-83f2a70c8347",
        "colab": {
          "base_uri": "https://localhost:8080/"
        },
        "id": "wssPckMT1f1i"
      },
      "execution_count": 228,
      "outputs": [
        {
          "output_type": "stream",
          "name": "stderr",
          "text": [
            "/usr/local/lib/python3.7/dist-packages/sklearn/utils/validation.py:985: DataConversionWarning: A column-vector y was passed when a 1d array was expected. Please change the shape of y to (n_samples, ), for example using ravel().\n",
            "  y = column_or_1d(y, warn=True)\n"
          ]
        },
        {
          "output_type": "execute_result",
          "data": {
            "text/plain": [
              "SVC(kernel='poly')"
            ]
          },
          "metadata": {},
          "execution_count": 228
        }
      ]
    },
    {
      "cell_type": "code",
      "source": [
        "y_pred_A3 = clf.predict(X_test_A3)"
      ],
      "metadata": {
        "id": "Y9Wv6uyK1f1i"
      },
      "execution_count": 229,
      "outputs": []
    },
    {
      "cell_type": "code",
      "source": [
        "print(\"Accuracy:\", metrics.accuracy_score(y_test_A3, y_pred_A3))"
      ],
      "metadata": {
        "outputId": "d4e4f3a0-d91f-444d-b60b-16d273a38029",
        "colab": {
          "base_uri": "https://localhost:8080/"
        },
        "id": "VgBeJivE1f1i"
      },
      "execution_count": 230,
      "outputs": [
        {
          "output_type": "stream",
          "name": "stdout",
          "text": [
            "Accuracy: 0.140625\n"
          ]
        }
      ]
    },
    {
      "cell_type": "markdown",
      "source": [
        "##A3.5"
      ],
      "metadata": {
        "id": "pX4eKIufzdMQ"
      }
    },
    {
      "cell_type": "code",
      "source": [
        "table_A3_5 = pd.read_excel(AA, sheet_name='A3_5')\n",
        "table_A3_5"
      ],
      "metadata": {
        "colab": {
          "base_uri": "https://localhost:8080/",
          "height": 832
        },
        "id": "c6e8-RT0y6_e",
        "outputId": "32cba123-3d29-4169-c66b-b4197c13da78"
      },
      "execution_count": 54,
      "outputs": [
        {
          "output_type": "execute_result",
          "data": {
            "text/html": [
              "\n",
              "  <div id=\"df-a5427cee-368f-4058-bf48-25cc11e028f5\">\n",
              "    <div class=\"colab-df-container\">\n",
              "      <div>\n",
              "<style scoped>\n",
              "    .dataframe tbody tr th:only-of-type {\n",
              "        vertical-align: middle;\n",
              "    }\n",
              "\n",
              "    .dataframe tbody tr th {\n",
              "        vertical-align: top;\n",
              "    }\n",
              "\n",
              "    .dataframe thead th {\n",
              "        text-align: right;\n",
              "    }\n",
              "</style>\n",
              "<table border=\"1\" class=\"dataframe\">\n",
              "  <thead>\n",
              "    <tr style=\"text-align: right;\">\n",
              "      <th></th>\n",
              "      <th>R-ref</th>\n",
              "      <th>G-ref</th>\n",
              "      <th>B-ref</th>\n",
              "      <th>R-Shad</th>\n",
              "      <th>G-Shad</th>\n",
              "      <th>B-Shad</th>\n",
              "      <th>H-ref</th>\n",
              "      <th>S-ref</th>\n",
              "      <th>V-ref</th>\n",
              "      <th>H-Shad</th>\n",
              "      <th>S-Shad</th>\n",
              "      <th>V-Shad</th>\n",
              "      <th>Shade-ref</th>\n",
              "      <th>Shade</th>\n",
              "      <th>Setting</th>\n",
              "      <th>Img</th>\n",
              "    </tr>\n",
              "  </thead>\n",
              "  <tbody>\n",
              "    <tr>\n",
              "      <th>0</th>\n",
              "      <td>235.799935</td>\n",
              "      <td>224.516030</td>\n",
              "      <td>190.873549</td>\n",
              "      <td>236.478202</td>\n",
              "      <td>225.354384</td>\n",
              "      <td>192.366332</td>\n",
              "      <td>22.539810</td>\n",
              "      <td>48.802938</td>\n",
              "      <td>235.882396</td>\n",
              "      <td>22.513975</td>\n",
              "      <td>47.750871</td>\n",
              "      <td>236.545338</td>\n",
              "      <td>A3.5</td>\n",
              "      <td>A1</td>\n",
              "      <td>Set1</td>\n",
              "      <td>2DD07CB7-0413-41D5-BE23-51CA3C9164F5.png</td>\n",
              "    </tr>\n",
              "    <tr>\n",
              "      <th>1</th>\n",
              "      <td>238.009577</td>\n",
              "      <td>218.146498</td>\n",
              "      <td>168.652788</td>\n",
              "      <td>238.456155</td>\n",
              "      <td>218.892397</td>\n",
              "      <td>169.966219</td>\n",
              "      <td>21.391040</td>\n",
              "      <td>74.313854</td>\n",
              "      <td>238.009577</td>\n",
              "      <td>21.449968</td>\n",
              "      <td>73.265842</td>\n",
              "      <td>238.456155</td>\n",
              "      <td>A3.5</td>\n",
              "      <td>A1</td>\n",
              "      <td>Set1</td>\n",
              "      <td>F28F074F-5B54-424C-8E70-EC56E06FC3E0.png</td>\n",
              "    </tr>\n",
              "    <tr>\n",
              "      <th>2</th>\n",
              "      <td>238.416687</td>\n",
              "      <td>212.713660</td>\n",
              "      <td>158.665693</td>\n",
              "      <td>239.056255</td>\n",
              "      <td>213.774056</td>\n",
              "      <td>160.482754</td>\n",
              "      <td>22.539810</td>\n",
              "      <td>48.802938</td>\n",
              "      <td>235.882396</td>\n",
              "      <td>22.513975</td>\n",
              "      <td>47.750871</td>\n",
              "      <td>236.545338</td>\n",
              "      <td>A3.5</td>\n",
              "      <td>A1</td>\n",
              "      <td>Set1</td>\n",
              "      <td>6ABA4B94-D8B3-48BA-B1FA-6B5A081F40D1.png</td>\n",
              "    </tr>\n",
              "    <tr>\n",
              "      <th>3</th>\n",
              "      <td>239.417986</td>\n",
              "      <td>227.436572</td>\n",
              "      <td>192.575603</td>\n",
              "      <td>239.889624</td>\n",
              "      <td>228.078444</td>\n",
              "      <td>193.459640</td>\n",
              "      <td>22.327571</td>\n",
              "      <td>49.921191</td>\n",
              "      <td>239.417986</td>\n",
              "      <td>22.373160</td>\n",
              "      <td>49.390157</td>\n",
              "      <td>239.889624</td>\n",
              "      <td>A3.5</td>\n",
              "      <td>A1</td>\n",
              "      <td>Set1</td>\n",
              "      <td>6B5870DF-9D32-4295-9D0E-F1DDA4ABD18F.png</td>\n",
              "    </tr>\n",
              "    <tr>\n",
              "      <th>4</th>\n",
              "      <td>239.556448</td>\n",
              "      <td>216.784027</td>\n",
              "      <td>161.199740</td>\n",
              "      <td>240.061944</td>\n",
              "      <td>217.745111</td>\n",
              "      <td>163.031079</td>\n",
              "      <td>21.443146</td>\n",
              "      <td>83.446474</td>\n",
              "      <td>239.556448</td>\n",
              "      <td>21.478060</td>\n",
              "      <td>81.900078</td>\n",
              "      <td>240.062229</td>\n",
              "      <td>A3.5</td>\n",
              "      <td>A1</td>\n",
              "      <td>Set1</td>\n",
              "      <td>9EBCADA0-A39C-4692-B684-A967FE6F59B5.png</td>\n",
              "    </tr>\n",
              "    <tr>\n",
              "      <th>...</th>\n",
              "      <td>...</td>\n",
              "      <td>...</td>\n",
              "      <td>...</td>\n",
              "      <td>...</td>\n",
              "      <td>...</td>\n",
              "      <td>...</td>\n",
              "      <td>...</td>\n",
              "      <td>...</td>\n",
              "      <td>...</td>\n",
              "      <td>...</td>\n",
              "      <td>...</td>\n",
              "      <td>...</td>\n",
              "      <td>...</td>\n",
              "      <td>...</td>\n",
              "      <td>...</td>\n",
              "      <td>...</td>\n",
              "    </tr>\n",
              "    <tr>\n",
              "      <th>3195</th>\n",
              "      <td>219.796364</td>\n",
              "      <td>220.248600</td>\n",
              "      <td>203.640370</td>\n",
              "      <td>219.211934</td>\n",
              "      <td>219.766731</td>\n",
              "      <td>203.270322</td>\n",
              "      <td>31.111598</td>\n",
              "      <td>19.560669</td>\n",
              "      <td>220.568055</td>\n",
              "      <td>31.312851</td>\n",
              "      <td>19.433184</td>\n",
              "      <td>220.052343</td>\n",
              "      <td>A3.5</td>\n",
              "      <td>D4</td>\n",
              "      <td>Set4</td>\n",
              "      <td>3367950A-D8A9-40C8-801E-72E22D395C34.png</td>\n",
              "    </tr>\n",
              "    <tr>\n",
              "      <th>3196</th>\n",
              "      <td>215.312718</td>\n",
              "      <td>216.245759</td>\n",
              "      <td>196.157455</td>\n",
              "      <td>214.860323</td>\n",
              "      <td>215.754498</td>\n",
              "      <td>195.762108</td>\n",
              "      <td>28.454590</td>\n",
              "      <td>52.051295</td>\n",
              "      <td>221.314991</td>\n",
              "      <td>28.269469</td>\n",
              "      <td>52.384325</td>\n",
              "      <td>220.852002</td>\n",
              "      <td>A3.5</td>\n",
              "      <td>D4</td>\n",
              "      <td>Set4</td>\n",
              "      <td>8BF2D842-EF44-47AB-AACC-56808B9B00FA.png</td>\n",
              "    </tr>\n",
              "    <tr>\n",
              "      <th>3197</th>\n",
              "      <td>215.690610</td>\n",
              "      <td>216.009902</td>\n",
              "      <td>196.406055</td>\n",
              "      <td>215.166773</td>\n",
              "      <td>215.486879</td>\n",
              "      <td>195.933291</td>\n",
              "      <td>30.849525</td>\n",
              "      <td>23.662609</td>\n",
              "      <td>216.485350</td>\n",
              "      <td>30.867293</td>\n",
              "      <td>23.636228</td>\n",
              "      <td>215.959036</td>\n",
              "      <td>A3.5</td>\n",
              "      <td>D4</td>\n",
              "      <td>Set4</td>\n",
              "      <td>B9FB43E3-E88F-4DC7-BED4-D118E33499A7.png</td>\n",
              "    </tr>\n",
              "    <tr>\n",
              "      <th>3198</th>\n",
              "      <td>213.749290</td>\n",
              "      <td>210.436328</td>\n",
              "      <td>181.714877</td>\n",
              "      <td>213.046725</td>\n",
              "      <td>209.822132</td>\n",
              "      <td>181.286679</td>\n",
              "      <td>26.683954</td>\n",
              "      <td>38.233260</td>\n",
              "      <td>213.749290</td>\n",
              "      <td>26.767157</td>\n",
              "      <td>38.010668</td>\n",
              "      <td>213.046725</td>\n",
              "      <td>A3.5</td>\n",
              "      <td>D4</td>\n",
              "      <td>Set4</td>\n",
              "      <td>F878BBCC-20A9-4948-A808-241864171B0C.png</td>\n",
              "    </tr>\n",
              "    <tr>\n",
              "      <th>3199</th>\n",
              "      <td>211.214674</td>\n",
              "      <td>204.185537</td>\n",
              "      <td>158.897330</td>\n",
              "      <td>210.905910</td>\n",
              "      <td>203.783372</td>\n",
              "      <td>158.707275</td>\n",
              "      <td>26.202337</td>\n",
              "      <td>63.120039</td>\n",
              "      <td>211.214674</td>\n",
              "      <td>26.147358</td>\n",
              "      <td>63.070194</td>\n",
              "      <td>210.905910</td>\n",
              "      <td>A3.5</td>\n",
              "      <td>D4</td>\n",
              "      <td>Set4</td>\n",
              "      <td>990B353E-3527-4CD2-975B-05FF3A87C10F.png</td>\n",
              "    </tr>\n",
              "  </tbody>\n",
              "</table>\n",
              "<p>3200 rows × 16 columns</p>\n",
              "</div>\n",
              "      <button class=\"colab-df-convert\" onclick=\"convertToInteractive('df-a5427cee-368f-4058-bf48-25cc11e028f5')\"\n",
              "              title=\"Convert this dataframe to an interactive table.\"\n",
              "              style=\"display:none;\">\n",
              "        \n",
              "  <svg xmlns=\"http://www.w3.org/2000/svg\" height=\"24px\"viewBox=\"0 0 24 24\"\n",
              "       width=\"24px\">\n",
              "    <path d=\"M0 0h24v24H0V0z\" fill=\"none\"/>\n",
              "    <path d=\"M18.56 5.44l.94 2.06.94-2.06 2.06-.94-2.06-.94-.94-2.06-.94 2.06-2.06.94zm-11 1L8.5 8.5l.94-2.06 2.06-.94-2.06-.94L8.5 2.5l-.94 2.06-2.06.94zm10 10l.94 2.06.94-2.06 2.06-.94-2.06-.94-.94-2.06-.94 2.06-2.06.94z\"/><path d=\"M17.41 7.96l-1.37-1.37c-.4-.4-.92-.59-1.43-.59-.52 0-1.04.2-1.43.59L10.3 9.45l-7.72 7.72c-.78.78-.78 2.05 0 2.83L4 21.41c.39.39.9.59 1.41.59.51 0 1.02-.2 1.41-.59l7.78-7.78 2.81-2.81c.8-.78.8-2.07 0-2.86zM5.41 20L4 18.59l7.72-7.72 1.47 1.35L5.41 20z\"/>\n",
              "  </svg>\n",
              "      </button>\n",
              "      \n",
              "  <style>\n",
              "    .colab-df-container {\n",
              "      display:flex;\n",
              "      flex-wrap:wrap;\n",
              "      gap: 12px;\n",
              "    }\n",
              "\n",
              "    .colab-df-convert {\n",
              "      background-color: #E8F0FE;\n",
              "      border: none;\n",
              "      border-radius: 50%;\n",
              "      cursor: pointer;\n",
              "      display: none;\n",
              "      fill: #1967D2;\n",
              "      height: 32px;\n",
              "      padding: 0 0 0 0;\n",
              "      width: 32px;\n",
              "    }\n",
              "\n",
              "    .colab-df-convert:hover {\n",
              "      background-color: #E2EBFA;\n",
              "      box-shadow: 0px 1px 2px rgba(60, 64, 67, 0.3), 0px 1px 3px 1px rgba(60, 64, 67, 0.15);\n",
              "      fill: #174EA6;\n",
              "    }\n",
              "\n",
              "    [theme=dark] .colab-df-convert {\n",
              "      background-color: #3B4455;\n",
              "      fill: #D2E3FC;\n",
              "    }\n",
              "\n",
              "    [theme=dark] .colab-df-convert:hover {\n",
              "      background-color: #434B5C;\n",
              "      box-shadow: 0px 1px 3px 1px rgba(0, 0, 0, 0.15);\n",
              "      filter: drop-shadow(0px 1px 2px rgba(0, 0, 0, 0.3));\n",
              "      fill: #FFFFFF;\n",
              "    }\n",
              "  </style>\n",
              "\n",
              "      <script>\n",
              "        const buttonEl =\n",
              "          document.querySelector('#df-a5427cee-368f-4058-bf48-25cc11e028f5 button.colab-df-convert');\n",
              "        buttonEl.style.display =\n",
              "          google.colab.kernel.accessAllowed ? 'block' : 'none';\n",
              "\n",
              "        async function convertToInteractive(key) {\n",
              "          const element = document.querySelector('#df-a5427cee-368f-4058-bf48-25cc11e028f5');\n",
              "          const dataTable =\n",
              "            await google.colab.kernel.invokeFunction('convertToInteractive',\n",
              "                                                     [key], {});\n",
              "          if (!dataTable) return;\n",
              "\n",
              "          const docLinkHtml = 'Like what you see? Visit the ' +\n",
              "            '<a target=\"_blank\" href=https://colab.research.google.com/notebooks/data_table.ipynb>data table notebook</a>'\n",
              "            + ' to learn more about interactive tables.';\n",
              "          element.innerHTML = '';\n",
              "          dataTable['output_type'] = 'display_data';\n",
              "          await google.colab.output.renderOutput(dataTable, element);\n",
              "          const docLink = document.createElement('div');\n",
              "          docLink.innerHTML = docLinkHtml;\n",
              "          element.appendChild(docLink);\n",
              "        }\n",
              "      </script>\n",
              "    </div>\n",
              "  </div>\n",
              "  "
            ],
            "text/plain": [
              "           R-ref       G-ref  ...  Setting                                       Img\n",
              "0     235.799935  224.516030  ...     Set1  2DD07CB7-0413-41D5-BE23-51CA3C9164F5.png\n",
              "1     238.009577  218.146498  ...     Set1  F28F074F-5B54-424C-8E70-EC56E06FC3E0.png\n",
              "2     238.416687  212.713660  ...     Set1  6ABA4B94-D8B3-48BA-B1FA-6B5A081F40D1.png\n",
              "3     239.417986  227.436572  ...     Set1  6B5870DF-9D32-4295-9D0E-F1DDA4ABD18F.png\n",
              "4     239.556448  216.784027  ...     Set1  9EBCADA0-A39C-4692-B684-A967FE6F59B5.png\n",
              "...          ...         ...  ...      ...                                       ...\n",
              "3195  219.796364  220.248600  ...     Set4  3367950A-D8A9-40C8-801E-72E22D395C34.png\n",
              "3196  215.312718  216.245759  ...     Set4  8BF2D842-EF44-47AB-AACC-56808B9B00FA.png\n",
              "3197  215.690610  216.009902  ...     Set4  B9FB43E3-E88F-4DC7-BED4-D118E33499A7.png\n",
              "3198  213.749290  210.436328  ...     Set4  F878BBCC-20A9-4948-A808-241864171B0C.png\n",
              "3199  211.214674  204.185537  ...     Set4  990B353E-3527-4CD2-975B-05FF3A87C10F.png\n",
              "\n",
              "[3200 rows x 16 columns]"
            ]
          },
          "metadata": {},
          "execution_count": 54
        }
      ]
    },
    {
      "cell_type": "code",
      "source": [
        "RGB_A3_5 = table_A3_5.drop(['H-ref','S-ref','V-ref','S-Shad','V-Shad','Shade-ref','Setting','Img','Shade','H-Shad'], axis=1)"
      ],
      "metadata": {
        "id": "GsZxvoEQ1yn7"
      },
      "execution_count": 55,
      "outputs": []
    },
    {
      "cell_type": "code",
      "source": [
        "X_A3_5 = np.array(RGB_A3_5)"
      ],
      "metadata": {
        "id": "bFSEsVtV1yn8"
      },
      "execution_count": 56,
      "outputs": []
    },
    {
      "cell_type": "code",
      "source": [
        "y_A3_5 =  table_A3_5.iloc[:,13:14]"
      ],
      "metadata": {
        "id": "n5yWNCkM1yn8"
      },
      "execution_count": 57,
      "outputs": []
    },
    {
      "cell_type": "code",
      "source": [
        "y_A3_5 = np.array(y_A3_5)\n",
        "y_A3_5"
      ],
      "metadata": {
        "outputId": "f667f469-b1aa-4837-b481-5dcbf31398e5",
        "colab": {
          "base_uri": "https://localhost:8080/"
        },
        "id": "6Pn0zTU11yn8"
      },
      "execution_count": 58,
      "outputs": [
        {
          "output_type": "execute_result",
          "data": {
            "text/plain": [
              "array([['A1'],\n",
              "       ['A1'],\n",
              "       ['A1'],\n",
              "       ...,\n",
              "       ['D4'],\n",
              "       ['D4'],\n",
              "       ['D4']], dtype=object)"
            ]
          },
          "metadata": {},
          "execution_count": 58
        }
      ]
    },
    {
      "cell_type": "code",
      "source": [
        "X_test_A3_5, X_train_A3_5 , y_test_A3_5, y_train_A3_5 = train_test_split(X_A3_5, y_A3_5 , test_size=80, train_size=320)"
      ],
      "metadata": {
        "id": "UqFJzu4QsLpl"
      },
      "execution_count": 231,
      "outputs": []
    },
    {
      "cell_type": "code",
      "source": [
        "clf.fit(X_train_A3_5, y_train_A3_5)"
      ],
      "metadata": {
        "outputId": "2b07ddeb-bad5-4ca5-ac67-67047a1aa538",
        "colab": {
          "base_uri": "https://localhost:8080/"
        },
        "id": "sLJ0sXPQ1yn8"
      },
      "execution_count": 61,
      "outputs": [
        {
          "output_type": "stream",
          "name": "stderr",
          "text": [
            "/usr/local/lib/python3.7/dist-packages/sklearn/utils/validation.py:985: DataConversionWarning: A column-vector y was passed when a 1d array was expected. Please change the shape of y to (n_samples, ), for example using ravel().\n",
            "  y = column_or_1d(y, warn=True)\n"
          ]
        },
        {
          "output_type": "execute_result",
          "data": {
            "text/plain": [
              "SVC(kernel='poly')"
            ]
          },
          "metadata": {},
          "execution_count": 61
        }
      ]
    },
    {
      "cell_type": "code",
      "source": [
        "y_pred_A3_5 = clf.predict(X_test_A3_5)"
      ],
      "metadata": {
        "id": "w7wa7TIs1yn8"
      },
      "execution_count": 62,
      "outputs": []
    },
    {
      "cell_type": "code",
      "source": [
        "print(\"Accuracy:\", metrics.accuracy_score(y_test_A3_5, y_pred_A3_5))"
      ],
      "metadata": {
        "outputId": "b95ecdc0-9b81-4063-d31e-375a1ca97dcb",
        "colab": {
          "base_uri": "https://localhost:8080/"
        },
        "id": "PiAeVeS11yn9"
      },
      "execution_count": 63,
      "outputs": [
        {
          "output_type": "stream",
          "name": "stdout",
          "text": [
            "Accuracy: 0.1299107142857143\n"
          ]
        }
      ]
    },
    {
      "cell_type": "markdown",
      "source": [
        "##A4"
      ],
      "metadata": {
        "id": "hAg5m9KlzenB"
      }
    },
    {
      "cell_type": "code",
      "source": [
        "table_A4 = pd.read_excel(AA, sheet_name='A4')\n",
        "table_A4"
      ],
      "metadata": {
        "colab": {
          "base_uri": "https://localhost:8080/",
          "height": 832
        },
        "id": "lDKJJR9hzO0J",
        "outputId": "0341433d-f2c0-46e4-f524-60d081be7e23"
      },
      "execution_count": 64,
      "outputs": [
        {
          "output_type": "execute_result",
          "data": {
            "text/html": [
              "\n",
              "  <div id=\"df-bff7bee0-002b-456d-b603-e56550dd7929\">\n",
              "    <div class=\"colab-df-container\">\n",
              "      <div>\n",
              "<style scoped>\n",
              "    .dataframe tbody tr th:only-of-type {\n",
              "        vertical-align: middle;\n",
              "    }\n",
              "\n",
              "    .dataframe tbody tr th {\n",
              "        vertical-align: top;\n",
              "    }\n",
              "\n",
              "    .dataframe thead th {\n",
              "        text-align: right;\n",
              "    }\n",
              "</style>\n",
              "<table border=\"1\" class=\"dataframe\">\n",
              "  <thead>\n",
              "    <tr style=\"text-align: right;\">\n",
              "      <th></th>\n",
              "      <th>R-ref</th>\n",
              "      <th>G-ref</th>\n",
              "      <th>B-ref</th>\n",
              "      <th>R-Shad</th>\n",
              "      <th>G-Shad</th>\n",
              "      <th>B-Shad</th>\n",
              "      <th>H-ref</th>\n",
              "      <th>S-ref</th>\n",
              "      <th>V-ref</th>\n",
              "      <th>H-Shad</th>\n",
              "      <th>S-Shad</th>\n",
              "      <th>V-Shad</th>\n",
              "      <th>Shade-ref</th>\n",
              "      <th>Shade</th>\n",
              "      <th>Setting</th>\n",
              "      <th>Img</th>\n",
              "    </tr>\n",
              "  </thead>\n",
              "  <tbody>\n",
              "    <tr>\n",
              "      <th>0</th>\n",
              "      <td>232.175960</td>\n",
              "      <td>216.874036</td>\n",
              "      <td>178.708465</td>\n",
              "      <td>232.964654</td>\n",
              "      <td>217.832160</td>\n",
              "      <td>180.185122</td>\n",
              "      <td>21.562292</td>\n",
              "      <td>58.762357</td>\n",
              "      <td>232.175960</td>\n",
              "      <td>21.513975</td>\n",
              "      <td>57.839201</td>\n",
              "      <td>232.964654</td>\n",
              "      <td>A4</td>\n",
              "      <td>A1</td>\n",
              "      <td>Set1</td>\n",
              "      <td>C6D0A6B4-EAD1-4C5F-9E6B-CE5E0923BCF0.png</td>\n",
              "    </tr>\n",
              "    <tr>\n",
              "      <th>1</th>\n",
              "      <td>231.726077</td>\n",
              "      <td>211.455077</td>\n",
              "      <td>167.223440</td>\n",
              "      <td>232.533177</td>\n",
              "      <td>212.551597</td>\n",
              "      <td>168.982505</td>\n",
              "      <td>20.556367</td>\n",
              "      <td>71.019641</td>\n",
              "      <td>231.726077</td>\n",
              "      <td>20.552237</td>\n",
              "      <td>69.773771</td>\n",
              "      <td>232.533177</td>\n",
              "      <td>A4</td>\n",
              "      <td>A1</td>\n",
              "      <td>Set1</td>\n",
              "      <td>A3B3B5C2-1901-4D2C-8309-010408F66705.png</td>\n",
              "    </tr>\n",
              "    <tr>\n",
              "      <th>2</th>\n",
              "      <td>226.100641</td>\n",
              "      <td>197.575278</td>\n",
              "      <td>146.748235</td>\n",
              "      <td>226.795889</td>\n",
              "      <td>198.548539</td>\n",
              "      <td>147.966148</td>\n",
              "      <td>19.189595</td>\n",
              "      <td>89.497849</td>\n",
              "      <td>226.100641</td>\n",
              "      <td>19.239457</td>\n",
              "      <td>88.650238</td>\n",
              "      <td>226.795889</td>\n",
              "      <td>A4</td>\n",
              "      <td>A1</td>\n",
              "      <td>Set1</td>\n",
              "      <td>4C428E15-84C8-4D96-BD24-DC9969741560.png</td>\n",
              "    </tr>\n",
              "    <tr>\n",
              "      <th>3</th>\n",
              "      <td>230.612531</td>\n",
              "      <td>207.562373</td>\n",
              "      <td>164.211752</td>\n",
              "      <td>231.210796</td>\n",
              "      <td>208.351682</td>\n",
              "      <td>165.428561</td>\n",
              "      <td>19.566594</td>\n",
              "      <td>73.461651</td>\n",
              "      <td>230.612531</td>\n",
              "      <td>19.550743</td>\n",
              "      <td>72.606500</td>\n",
              "      <td>231.210796</td>\n",
              "      <td>A4</td>\n",
              "      <td>A1</td>\n",
              "      <td>Set1</td>\n",
              "      <td>91F5B0B5-A4E2-4073-A924-AC7A2ECB236F.png</td>\n",
              "    </tr>\n",
              "    <tr>\n",
              "      <th>4</th>\n",
              "      <td>232.133431</td>\n",
              "      <td>209.823472</td>\n",
              "      <td>160.814707</td>\n",
              "      <td>232.841548</td>\n",
              "      <td>211.054264</td>\n",
              "      <td>163.067989</td>\n",
              "      <td>20.814463</td>\n",
              "      <td>78.373996</td>\n",
              "      <td>232.133431</td>\n",
              "      <td>20.855487</td>\n",
              "      <td>76.523434</td>\n",
              "      <td>232.841832</td>\n",
              "      <td>A4</td>\n",
              "      <td>A1</td>\n",
              "      <td>Set1</td>\n",
              "      <td>606F71D4-DD41-4252-B152-C019C53AE874.png</td>\n",
              "    </tr>\n",
              "    <tr>\n",
              "      <th>...</th>\n",
              "      <td>...</td>\n",
              "      <td>...</td>\n",
              "      <td>...</td>\n",
              "      <td>...</td>\n",
              "      <td>...</td>\n",
              "      <td>...</td>\n",
              "      <td>...</td>\n",
              "      <td>...</td>\n",
              "      <td>...</td>\n",
              "      <td>...</td>\n",
              "      <td>...</td>\n",
              "      <td>...</td>\n",
              "      <td>...</td>\n",
              "      <td>...</td>\n",
              "      <td>...</td>\n",
              "      <td>...</td>\n",
              "    </tr>\n",
              "    <tr>\n",
              "      <th>3195</th>\n",
              "      <td>232.804642</td>\n",
              "      <td>209.441604</td>\n",
              "      <td>164.924357</td>\n",
              "      <td>233.308869</td>\n",
              "      <td>210.109594</td>\n",
              "      <td>166.164853</td>\n",
              "      <td>19.601331</td>\n",
              "      <td>74.376755</td>\n",
              "      <td>232.804642</td>\n",
              "      <td>19.552094</td>\n",
              "      <td>73.433042</td>\n",
              "      <td>233.308869</td>\n",
              "      <td>A4</td>\n",
              "      <td>D4</td>\n",
              "      <td>Set4</td>\n",
              "      <td>CEA54866-3FAA-4D40-ACA2-5E40F032BBEC.png</td>\n",
              "    </tr>\n",
              "    <tr>\n",
              "      <th>3196</th>\n",
              "      <td>235.903985</td>\n",
              "      <td>218.940670</td>\n",
              "      <td>179.875741</td>\n",
              "      <td>236.487092</td>\n",
              "      <td>219.666951</td>\n",
              "      <td>181.014864</td>\n",
              "      <td>20.612775</td>\n",
              "      <td>78.169873</td>\n",
              "      <td>229.335768</td>\n",
              "      <td>20.589787</td>\n",
              "      <td>77.092810</td>\n",
              "      <td>229.914515</td>\n",
              "      <td>A4</td>\n",
              "      <td>D4</td>\n",
              "      <td>Set4</td>\n",
              "      <td>FC5C7CD0-F1BD-4517-AB6B-763F93652B15.png</td>\n",
              "    </tr>\n",
              "    <tr>\n",
              "      <th>3197</th>\n",
              "      <td>232.175960</td>\n",
              "      <td>216.874036</td>\n",
              "      <td>178.708465</td>\n",
              "      <td>232.964654</td>\n",
              "      <td>217.832160</td>\n",
              "      <td>180.185122</td>\n",
              "      <td>21.562292</td>\n",
              "      <td>58.762357</td>\n",
              "      <td>232.175960</td>\n",
              "      <td>21.513975</td>\n",
              "      <td>57.839201</td>\n",
              "      <td>232.964654</td>\n",
              "      <td>A4</td>\n",
              "      <td>D4</td>\n",
              "      <td>Set4</td>\n",
              "      <td>8CBEE509-A7E8-4E5C-86AA-496FABD350EC.png</td>\n",
              "    </tr>\n",
              "    <tr>\n",
              "      <th>3198</th>\n",
              "      <td>231.726077</td>\n",
              "      <td>211.455077</td>\n",
              "      <td>167.223440</td>\n",
              "      <td>232.533177</td>\n",
              "      <td>212.551597</td>\n",
              "      <td>168.982505</td>\n",
              "      <td>20.556367</td>\n",
              "      <td>71.019641</td>\n",
              "      <td>231.726077</td>\n",
              "      <td>20.552237</td>\n",
              "      <td>69.773771</td>\n",
              "      <td>232.533177</td>\n",
              "      <td>A4</td>\n",
              "      <td>D4</td>\n",
              "      <td>Set4</td>\n",
              "      <td>4A3A9795-2840-4478-8A47-89091756F7E2.png</td>\n",
              "    </tr>\n",
              "    <tr>\n",
              "      <th>3199</th>\n",
              "      <td>226.100641</td>\n",
              "      <td>197.575278</td>\n",
              "      <td>146.748235</td>\n",
              "      <td>226.795889</td>\n",
              "      <td>198.548539</td>\n",
              "      <td>147.966148</td>\n",
              "      <td>19.189595</td>\n",
              "      <td>89.497849</td>\n",
              "      <td>226.100641</td>\n",
              "      <td>19.239457</td>\n",
              "      <td>88.650238</td>\n",
              "      <td>226.795889</td>\n",
              "      <td>A4</td>\n",
              "      <td>D4</td>\n",
              "      <td>Set4</td>\n",
              "      <td>254E8DD4-F9A0-4BB8-A160-638EBD8EA693.png</td>\n",
              "    </tr>\n",
              "  </tbody>\n",
              "</table>\n",
              "<p>3200 rows × 16 columns</p>\n",
              "</div>\n",
              "      <button class=\"colab-df-convert\" onclick=\"convertToInteractive('df-bff7bee0-002b-456d-b603-e56550dd7929')\"\n",
              "              title=\"Convert this dataframe to an interactive table.\"\n",
              "              style=\"display:none;\">\n",
              "        \n",
              "  <svg xmlns=\"http://www.w3.org/2000/svg\" height=\"24px\"viewBox=\"0 0 24 24\"\n",
              "       width=\"24px\">\n",
              "    <path d=\"M0 0h24v24H0V0z\" fill=\"none\"/>\n",
              "    <path d=\"M18.56 5.44l.94 2.06.94-2.06 2.06-.94-2.06-.94-.94-2.06-.94 2.06-2.06.94zm-11 1L8.5 8.5l.94-2.06 2.06-.94-2.06-.94L8.5 2.5l-.94 2.06-2.06.94zm10 10l.94 2.06.94-2.06 2.06-.94-2.06-.94-.94-2.06-.94 2.06-2.06.94z\"/><path d=\"M17.41 7.96l-1.37-1.37c-.4-.4-.92-.59-1.43-.59-.52 0-1.04.2-1.43.59L10.3 9.45l-7.72 7.72c-.78.78-.78 2.05 0 2.83L4 21.41c.39.39.9.59 1.41.59.51 0 1.02-.2 1.41-.59l7.78-7.78 2.81-2.81c.8-.78.8-2.07 0-2.86zM5.41 20L4 18.59l7.72-7.72 1.47 1.35L5.41 20z\"/>\n",
              "  </svg>\n",
              "      </button>\n",
              "      \n",
              "  <style>\n",
              "    .colab-df-container {\n",
              "      display:flex;\n",
              "      flex-wrap:wrap;\n",
              "      gap: 12px;\n",
              "    }\n",
              "\n",
              "    .colab-df-convert {\n",
              "      background-color: #E8F0FE;\n",
              "      border: none;\n",
              "      border-radius: 50%;\n",
              "      cursor: pointer;\n",
              "      display: none;\n",
              "      fill: #1967D2;\n",
              "      height: 32px;\n",
              "      padding: 0 0 0 0;\n",
              "      width: 32px;\n",
              "    }\n",
              "\n",
              "    .colab-df-convert:hover {\n",
              "      background-color: #E2EBFA;\n",
              "      box-shadow: 0px 1px 2px rgba(60, 64, 67, 0.3), 0px 1px 3px 1px rgba(60, 64, 67, 0.15);\n",
              "      fill: #174EA6;\n",
              "    }\n",
              "\n",
              "    [theme=dark] .colab-df-convert {\n",
              "      background-color: #3B4455;\n",
              "      fill: #D2E3FC;\n",
              "    }\n",
              "\n",
              "    [theme=dark] .colab-df-convert:hover {\n",
              "      background-color: #434B5C;\n",
              "      box-shadow: 0px 1px 3px 1px rgba(0, 0, 0, 0.15);\n",
              "      filter: drop-shadow(0px 1px 2px rgba(0, 0, 0, 0.3));\n",
              "      fill: #FFFFFF;\n",
              "    }\n",
              "  </style>\n",
              "\n",
              "      <script>\n",
              "        const buttonEl =\n",
              "          document.querySelector('#df-bff7bee0-002b-456d-b603-e56550dd7929 button.colab-df-convert');\n",
              "        buttonEl.style.display =\n",
              "          google.colab.kernel.accessAllowed ? 'block' : 'none';\n",
              "\n",
              "        async function convertToInteractive(key) {\n",
              "          const element = document.querySelector('#df-bff7bee0-002b-456d-b603-e56550dd7929');\n",
              "          const dataTable =\n",
              "            await google.colab.kernel.invokeFunction('convertToInteractive',\n",
              "                                                     [key], {});\n",
              "          if (!dataTable) return;\n",
              "\n",
              "          const docLinkHtml = 'Like what you see? Visit the ' +\n",
              "            '<a target=\"_blank\" href=https://colab.research.google.com/notebooks/data_table.ipynb>data table notebook</a>'\n",
              "            + ' to learn more about interactive tables.';\n",
              "          element.innerHTML = '';\n",
              "          dataTable['output_type'] = 'display_data';\n",
              "          await google.colab.output.renderOutput(dataTable, element);\n",
              "          const docLink = document.createElement('div');\n",
              "          docLink.innerHTML = docLinkHtml;\n",
              "          element.appendChild(docLink);\n",
              "        }\n",
              "      </script>\n",
              "    </div>\n",
              "  </div>\n",
              "  "
            ],
            "text/plain": [
              "           R-ref       G-ref  ...  Setting                                       Img\n",
              "0     232.175960  216.874036  ...     Set1  C6D0A6B4-EAD1-4C5F-9E6B-CE5E0923BCF0.png\n",
              "1     231.726077  211.455077  ...     Set1  A3B3B5C2-1901-4D2C-8309-010408F66705.png\n",
              "2     226.100641  197.575278  ...     Set1  4C428E15-84C8-4D96-BD24-DC9969741560.png\n",
              "3     230.612531  207.562373  ...     Set1  91F5B0B5-A4E2-4073-A924-AC7A2ECB236F.png\n",
              "4     232.133431  209.823472  ...     Set1  606F71D4-DD41-4252-B152-C019C53AE874.png\n",
              "...          ...         ...  ...      ...                                       ...\n",
              "3195  232.804642  209.441604  ...     Set4  CEA54866-3FAA-4D40-ACA2-5E40F032BBEC.png\n",
              "3196  235.903985  218.940670  ...     Set4  FC5C7CD0-F1BD-4517-AB6B-763F93652B15.png\n",
              "3197  232.175960  216.874036  ...     Set4  8CBEE509-A7E8-4E5C-86AA-496FABD350EC.png\n",
              "3198  231.726077  211.455077  ...     Set4  4A3A9795-2840-4478-8A47-89091756F7E2.png\n",
              "3199  226.100641  197.575278  ...     Set4  254E8DD4-F9A0-4BB8-A160-638EBD8EA693.png\n",
              "\n",
              "[3200 rows x 16 columns]"
            ]
          },
          "metadata": {},
          "execution_count": 64
        }
      ]
    },
    {
      "cell_type": "code",
      "source": [
        "RGB_A4 = table_A4.drop(['H-ref','S-ref','V-ref','S-Shad','V-Shad','Shade-ref','Setting','Img','Shade','H-Shad'], axis=1)"
      ],
      "metadata": {
        "id": "0fsV4IEy2G7t"
      },
      "execution_count": 65,
      "outputs": []
    },
    {
      "cell_type": "code",
      "source": [
        "X_A4 = np.array(RGB_A4)"
      ],
      "metadata": {
        "id": "8f7JmYAq2G7t"
      },
      "execution_count": 66,
      "outputs": []
    },
    {
      "cell_type": "code",
      "source": [
        "y_A4 =  table_A4.iloc[:,13:14]"
      ],
      "metadata": {
        "id": "iGBgmW0W2G7t"
      },
      "execution_count": 67,
      "outputs": []
    },
    {
      "cell_type": "code",
      "source": [
        "y_A4 = np.array(y_A4)\n",
        "y_A4"
      ],
      "metadata": {
        "outputId": "2d74567a-f322-4247-8116-63e169a0c6cf",
        "colab": {
          "base_uri": "https://localhost:8080/"
        },
        "id": "f_KwRRSI2G7t"
      },
      "execution_count": 68,
      "outputs": [
        {
          "output_type": "execute_result",
          "data": {
            "text/plain": [
              "array([['A1'],\n",
              "       ['A1'],\n",
              "       ['A1'],\n",
              "       ...,\n",
              "       ['D4'],\n",
              "       ['D4'],\n",
              "       ['D4']], dtype=object)"
            ]
          },
          "metadata": {},
          "execution_count": 68
        }
      ]
    },
    {
      "cell_type": "code",
      "source": [
        "X_test_A4, X_train_A4 , y_test_A4, y_train_A4 = train_test_split(X_A4, y_A4, test_size=80, train_size=320)"
      ],
      "metadata": {
        "id": "RTaSDG0FsSNE"
      },
      "execution_count": 232,
      "outputs": []
    },
    {
      "cell_type": "code",
      "source": [
        "clf.fit(X_train_A4, y_train_A4)"
      ],
      "metadata": {
        "outputId": "06a9d61a-07f2-49d9-8216-8bba24d98c4a",
        "colab": {
          "base_uri": "https://localhost:8080/"
        },
        "id": "xaMWnXIj2G7t"
      },
      "execution_count": 233,
      "outputs": [
        {
          "output_type": "stream",
          "name": "stderr",
          "text": [
            "/usr/local/lib/python3.7/dist-packages/sklearn/utils/validation.py:985: DataConversionWarning: A column-vector y was passed when a 1d array was expected. Please change the shape of y to (n_samples, ), for example using ravel().\n",
            "  y = column_or_1d(y, warn=True)\n"
          ]
        },
        {
          "output_type": "execute_result",
          "data": {
            "text/plain": [
              "SVC(kernel='poly')"
            ]
          },
          "metadata": {},
          "execution_count": 233
        }
      ]
    },
    {
      "cell_type": "code",
      "source": [
        "y_pred_A4 = clf.predict(X_test_A4)"
      ],
      "metadata": {
        "id": "ibvUylde2G7t"
      },
      "execution_count": 234,
      "outputs": []
    },
    {
      "cell_type": "code",
      "source": [
        "print(\"Accuracy:\", metrics.accuracy_score(y_test_A4, y_pred_A4))"
      ],
      "metadata": {
        "outputId": "e1ee72ab-7493-4446-a3c3-7329c288a5a0",
        "colab": {
          "base_uri": "https://localhost:8080/"
        },
        "id": "n4gmZ65i2G7u"
      },
      "execution_count": 235,
      "outputs": [
        {
          "output_type": "stream",
          "name": "stdout",
          "text": [
            "Accuracy: 0.1875\n"
          ]
        }
      ]
    },
    {
      "cell_type": "markdown",
      "source": [
        "#BB"
      ],
      "metadata": {
        "id": "d8AFPynMglXO"
      }
    },
    {
      "cell_type": "markdown",
      "source": [
        "##B1"
      ],
      "metadata": {
        "id": "78zKBQr4glXP"
      }
    },
    {
      "cell_type": "code",
      "source": [
        "table_B1= pd.read_excel(BB, sheet_name='B1')\n",
        "table_B1"
      ],
      "metadata": {
        "colab": {
          "base_uri": "https://localhost:8080/",
          "height": 832
        },
        "outputId": "d685ecc2-d0a6-4574-9d0a-ded9e11bec59",
        "id": "AMyuR5NTglXP"
      },
      "execution_count": 80,
      "outputs": [
        {
          "output_type": "execute_result",
          "data": {
            "text/html": [
              "\n",
              "  <div id=\"df-156ca6d9-f814-4e3a-aceb-35d3d9c3a3e5\">\n",
              "    <div class=\"colab-df-container\">\n",
              "      <div>\n",
              "<style scoped>\n",
              "    .dataframe tbody tr th:only-of-type {\n",
              "        vertical-align: middle;\n",
              "    }\n",
              "\n",
              "    .dataframe tbody tr th {\n",
              "        vertical-align: top;\n",
              "    }\n",
              "\n",
              "    .dataframe thead th {\n",
              "        text-align: right;\n",
              "    }\n",
              "</style>\n",
              "<table border=\"1\" class=\"dataframe\">\n",
              "  <thead>\n",
              "    <tr style=\"text-align: right;\">\n",
              "      <th></th>\n",
              "      <th>R-ref</th>\n",
              "      <th>G-ref</th>\n",
              "      <th>B-ref</th>\n",
              "      <th>R-Shad</th>\n",
              "      <th>G-Shad</th>\n",
              "      <th>B-Shad</th>\n",
              "      <th>H-ref</th>\n",
              "      <th>S-ref</th>\n",
              "      <th>V-ref</th>\n",
              "      <th>H-Shad</th>\n",
              "      <th>S-Shad</th>\n",
              "      <th>V-Shad</th>\n",
              "      <th>Shade-ref</th>\n",
              "      <th>Shade</th>\n",
              "      <th>Setting</th>\n",
              "      <th>Img</th>\n",
              "    </tr>\n",
              "  </thead>\n",
              "  <tbody>\n",
              "    <tr>\n",
              "      <th>0</th>\n",
              "      <td>235.799935</td>\n",
              "      <td>224.516030</td>\n",
              "      <td>190.873549</td>\n",
              "      <td>236.478202</td>\n",
              "      <td>225.354384</td>\n",
              "      <td>192.366332</td>\n",
              "      <td>22.539810</td>\n",
              "      <td>48.802938</td>\n",
              "      <td>235.882396</td>\n",
              "      <td>22.513975</td>\n",
              "      <td>47.750871</td>\n",
              "      <td>236.545338</td>\n",
              "      <td>B1</td>\n",
              "      <td>A1</td>\n",
              "      <td>Set1</td>\n",
              "      <td>1CE4FFAC-5C8A-4C04-8A57-7BB28F25302D.png</td>\n",
              "    </tr>\n",
              "    <tr>\n",
              "      <th>1</th>\n",
              "      <td>238.009577</td>\n",
              "      <td>218.146498</td>\n",
              "      <td>168.652788</td>\n",
              "      <td>238.456155</td>\n",
              "      <td>218.892397</td>\n",
              "      <td>169.966219</td>\n",
              "      <td>21.391040</td>\n",
              "      <td>74.313854</td>\n",
              "      <td>238.009577</td>\n",
              "      <td>21.449968</td>\n",
              "      <td>73.265842</td>\n",
              "      <td>238.456155</td>\n",
              "      <td>B1</td>\n",
              "      <td>A1</td>\n",
              "      <td>Set1</td>\n",
              "      <td>67F8EDAB-A9C7-4B91-B07B-BFADEE915B61.png</td>\n",
              "    </tr>\n",
              "    <tr>\n",
              "      <th>2</th>\n",
              "      <td>238.416687</td>\n",
              "      <td>212.713660</td>\n",
              "      <td>158.665693</td>\n",
              "      <td>239.056255</td>\n",
              "      <td>213.774056</td>\n",
              "      <td>160.482754</td>\n",
              "      <td>22.539810</td>\n",
              "      <td>48.802938</td>\n",
              "      <td>235.882396</td>\n",
              "      <td>22.513975</td>\n",
              "      <td>47.750871</td>\n",
              "      <td>236.545338</td>\n",
              "      <td>B1</td>\n",
              "      <td>A1</td>\n",
              "      <td>Set1</td>\n",
              "      <td>935ACCF9-A4D6-4CB3-A437-6333758D46CD.png</td>\n",
              "    </tr>\n",
              "    <tr>\n",
              "      <th>3</th>\n",
              "      <td>239.417986</td>\n",
              "      <td>227.436572</td>\n",
              "      <td>192.575603</td>\n",
              "      <td>239.889624</td>\n",
              "      <td>228.078444</td>\n",
              "      <td>193.459640</td>\n",
              "      <td>22.327571</td>\n",
              "      <td>49.921191</td>\n",
              "      <td>239.417986</td>\n",
              "      <td>22.373160</td>\n",
              "      <td>49.390157</td>\n",
              "      <td>239.889624</td>\n",
              "      <td>B1</td>\n",
              "      <td>A1</td>\n",
              "      <td>Set1</td>\n",
              "      <td>C7A49040-51EF-4045-9394-5E8F4A17B8A2.png</td>\n",
              "    </tr>\n",
              "    <tr>\n",
              "      <th>4</th>\n",
              "      <td>239.556448</td>\n",
              "      <td>216.784027</td>\n",
              "      <td>161.199740</td>\n",
              "      <td>240.061944</td>\n",
              "      <td>217.745111</td>\n",
              "      <td>163.031079</td>\n",
              "      <td>21.443146</td>\n",
              "      <td>83.446474</td>\n",
              "      <td>239.556448</td>\n",
              "      <td>21.478060</td>\n",
              "      <td>81.900078</td>\n",
              "      <td>240.062229</td>\n",
              "      <td>B1</td>\n",
              "      <td>A1</td>\n",
              "      <td>Set1</td>\n",
              "      <td>EFCB2FF8-FACF-4778-946B-4DFEC0F8EB5D.png</td>\n",
              "    </tr>\n",
              "    <tr>\n",
              "      <th>...</th>\n",
              "      <td>...</td>\n",
              "      <td>...</td>\n",
              "      <td>...</td>\n",
              "      <td>...</td>\n",
              "      <td>...</td>\n",
              "      <td>...</td>\n",
              "      <td>...</td>\n",
              "      <td>...</td>\n",
              "      <td>...</td>\n",
              "      <td>...</td>\n",
              "      <td>...</td>\n",
              "      <td>...</td>\n",
              "      <td>...</td>\n",
              "      <td>...</td>\n",
              "      <td>...</td>\n",
              "      <td>...</td>\n",
              "    </tr>\n",
              "    <tr>\n",
              "      <th>3195</th>\n",
              "      <td>219.796364</td>\n",
              "      <td>220.248600</td>\n",
              "      <td>203.640370</td>\n",
              "      <td>219.211934</td>\n",
              "      <td>219.766731</td>\n",
              "      <td>203.270322</td>\n",
              "      <td>31.111598</td>\n",
              "      <td>19.560669</td>\n",
              "      <td>220.568055</td>\n",
              "      <td>31.312851</td>\n",
              "      <td>19.433184</td>\n",
              "      <td>220.052343</td>\n",
              "      <td>B1</td>\n",
              "      <td>D4</td>\n",
              "      <td>Set4</td>\n",
              "      <td>74703385-5AA7-490D-B51D-AFC0FB7A986C.png</td>\n",
              "    </tr>\n",
              "    <tr>\n",
              "      <th>3196</th>\n",
              "      <td>215.312718</td>\n",
              "      <td>216.245759</td>\n",
              "      <td>196.157455</td>\n",
              "      <td>214.860323</td>\n",
              "      <td>215.754498</td>\n",
              "      <td>195.762108</td>\n",
              "      <td>28.454590</td>\n",
              "      <td>52.051295</td>\n",
              "      <td>221.314991</td>\n",
              "      <td>28.269469</td>\n",
              "      <td>52.384325</td>\n",
              "      <td>220.852002</td>\n",
              "      <td>B1</td>\n",
              "      <td>D4</td>\n",
              "      <td>Set4</td>\n",
              "      <td>3A448ACD-EAB0-4285-AF50-6A6B22782A93.png</td>\n",
              "    </tr>\n",
              "    <tr>\n",
              "      <th>3197</th>\n",
              "      <td>215.690610</td>\n",
              "      <td>216.009902</td>\n",
              "      <td>196.406055</td>\n",
              "      <td>215.166773</td>\n",
              "      <td>215.486879</td>\n",
              "      <td>195.933291</td>\n",
              "      <td>30.849525</td>\n",
              "      <td>23.662609</td>\n",
              "      <td>216.485350</td>\n",
              "      <td>30.867293</td>\n",
              "      <td>23.636228</td>\n",
              "      <td>215.959036</td>\n",
              "      <td>B1</td>\n",
              "      <td>D4</td>\n",
              "      <td>Set4</td>\n",
              "      <td>11372242-96D9-4D23-BC32-C0E8379737A6.png</td>\n",
              "    </tr>\n",
              "    <tr>\n",
              "      <th>3198</th>\n",
              "      <td>213.749290</td>\n",
              "      <td>210.436328</td>\n",
              "      <td>181.714877</td>\n",
              "      <td>213.046725</td>\n",
              "      <td>209.822132</td>\n",
              "      <td>181.286679</td>\n",
              "      <td>26.683954</td>\n",
              "      <td>38.233260</td>\n",
              "      <td>213.749290</td>\n",
              "      <td>26.767157</td>\n",
              "      <td>38.010668</td>\n",
              "      <td>213.046725</td>\n",
              "      <td>B1</td>\n",
              "      <td>D4</td>\n",
              "      <td>Set4</td>\n",
              "      <td>9F910090-FA0A-42A5-86BE-4AEBA5175FC0.png</td>\n",
              "    </tr>\n",
              "    <tr>\n",
              "      <th>3199</th>\n",
              "      <td>211.214674</td>\n",
              "      <td>204.185537</td>\n",
              "      <td>158.897330</td>\n",
              "      <td>210.905910</td>\n",
              "      <td>203.783372</td>\n",
              "      <td>158.707275</td>\n",
              "      <td>26.202337</td>\n",
              "      <td>63.120039</td>\n",
              "      <td>211.214674</td>\n",
              "      <td>26.147358</td>\n",
              "      <td>63.070194</td>\n",
              "      <td>210.905910</td>\n",
              "      <td>B1</td>\n",
              "      <td>D4</td>\n",
              "      <td>Set4</td>\n",
              "      <td>F3A7B984-E4F8-4BF3-BDA6-81CF31EE6D7D.png</td>\n",
              "    </tr>\n",
              "  </tbody>\n",
              "</table>\n",
              "<p>3200 rows × 16 columns</p>\n",
              "</div>\n",
              "      <button class=\"colab-df-convert\" onclick=\"convertToInteractive('df-156ca6d9-f814-4e3a-aceb-35d3d9c3a3e5')\"\n",
              "              title=\"Convert this dataframe to an interactive table.\"\n",
              "              style=\"display:none;\">\n",
              "        \n",
              "  <svg xmlns=\"http://www.w3.org/2000/svg\" height=\"24px\"viewBox=\"0 0 24 24\"\n",
              "       width=\"24px\">\n",
              "    <path d=\"M0 0h24v24H0V0z\" fill=\"none\"/>\n",
              "    <path d=\"M18.56 5.44l.94 2.06.94-2.06 2.06-.94-2.06-.94-.94-2.06-.94 2.06-2.06.94zm-11 1L8.5 8.5l.94-2.06 2.06-.94-2.06-.94L8.5 2.5l-.94 2.06-2.06.94zm10 10l.94 2.06.94-2.06 2.06-.94-2.06-.94-.94-2.06-.94 2.06-2.06.94z\"/><path d=\"M17.41 7.96l-1.37-1.37c-.4-.4-.92-.59-1.43-.59-.52 0-1.04.2-1.43.59L10.3 9.45l-7.72 7.72c-.78.78-.78 2.05 0 2.83L4 21.41c.39.39.9.59 1.41.59.51 0 1.02-.2 1.41-.59l7.78-7.78 2.81-2.81c.8-.78.8-2.07 0-2.86zM5.41 20L4 18.59l7.72-7.72 1.47 1.35L5.41 20z\"/>\n",
              "  </svg>\n",
              "      </button>\n",
              "      \n",
              "  <style>\n",
              "    .colab-df-container {\n",
              "      display:flex;\n",
              "      flex-wrap:wrap;\n",
              "      gap: 12px;\n",
              "    }\n",
              "\n",
              "    .colab-df-convert {\n",
              "      background-color: #E8F0FE;\n",
              "      border: none;\n",
              "      border-radius: 50%;\n",
              "      cursor: pointer;\n",
              "      display: none;\n",
              "      fill: #1967D2;\n",
              "      height: 32px;\n",
              "      padding: 0 0 0 0;\n",
              "      width: 32px;\n",
              "    }\n",
              "\n",
              "    .colab-df-convert:hover {\n",
              "      background-color: #E2EBFA;\n",
              "      box-shadow: 0px 1px 2px rgba(60, 64, 67, 0.3), 0px 1px 3px 1px rgba(60, 64, 67, 0.15);\n",
              "      fill: #174EA6;\n",
              "    }\n",
              "\n",
              "    [theme=dark] .colab-df-convert {\n",
              "      background-color: #3B4455;\n",
              "      fill: #D2E3FC;\n",
              "    }\n",
              "\n",
              "    [theme=dark] .colab-df-convert:hover {\n",
              "      background-color: #434B5C;\n",
              "      box-shadow: 0px 1px 3px 1px rgba(0, 0, 0, 0.15);\n",
              "      filter: drop-shadow(0px 1px 2px rgba(0, 0, 0, 0.3));\n",
              "      fill: #FFFFFF;\n",
              "    }\n",
              "  </style>\n",
              "\n",
              "      <script>\n",
              "        const buttonEl =\n",
              "          document.querySelector('#df-156ca6d9-f814-4e3a-aceb-35d3d9c3a3e5 button.colab-df-convert');\n",
              "        buttonEl.style.display =\n",
              "          google.colab.kernel.accessAllowed ? 'block' : 'none';\n",
              "\n",
              "        async function convertToInteractive(key) {\n",
              "          const element = document.querySelector('#df-156ca6d9-f814-4e3a-aceb-35d3d9c3a3e5');\n",
              "          const dataTable =\n",
              "            await google.colab.kernel.invokeFunction('convertToInteractive',\n",
              "                                                     [key], {});\n",
              "          if (!dataTable) return;\n",
              "\n",
              "          const docLinkHtml = 'Like what you see? Visit the ' +\n",
              "            '<a target=\"_blank\" href=https://colab.research.google.com/notebooks/data_table.ipynb>data table notebook</a>'\n",
              "            + ' to learn more about interactive tables.';\n",
              "          element.innerHTML = '';\n",
              "          dataTable['output_type'] = 'display_data';\n",
              "          await google.colab.output.renderOutput(dataTable, element);\n",
              "          const docLink = document.createElement('div');\n",
              "          docLink.innerHTML = docLinkHtml;\n",
              "          element.appendChild(docLink);\n",
              "        }\n",
              "      </script>\n",
              "    </div>\n",
              "  </div>\n",
              "  "
            ],
            "text/plain": [
              "           R-ref       G-ref  ...  Setting                                       Img\n",
              "0     235.799935  224.516030  ...     Set1  1CE4FFAC-5C8A-4C04-8A57-7BB28F25302D.png\n",
              "1     238.009577  218.146498  ...     Set1  67F8EDAB-A9C7-4B91-B07B-BFADEE915B61.png\n",
              "2     238.416687  212.713660  ...     Set1  935ACCF9-A4D6-4CB3-A437-6333758D46CD.png\n",
              "3     239.417986  227.436572  ...     Set1  C7A49040-51EF-4045-9394-5E8F4A17B8A2.png\n",
              "4     239.556448  216.784027  ...     Set1  EFCB2FF8-FACF-4778-946B-4DFEC0F8EB5D.png\n",
              "...          ...         ...  ...      ...                                       ...\n",
              "3195  219.796364  220.248600  ...     Set4  74703385-5AA7-490D-B51D-AFC0FB7A986C.png\n",
              "3196  215.312718  216.245759  ...     Set4  3A448ACD-EAB0-4285-AF50-6A6B22782A93.png\n",
              "3197  215.690610  216.009902  ...     Set4  11372242-96D9-4D23-BC32-C0E8379737A6.png\n",
              "3198  213.749290  210.436328  ...     Set4  9F910090-FA0A-42A5-86BE-4AEBA5175FC0.png\n",
              "3199  211.214674  204.185537  ...     Set4  F3A7B984-E4F8-4BF3-BDA6-81CF31EE6D7D.png\n",
              "\n",
              "[3200 rows x 16 columns]"
            ]
          },
          "metadata": {},
          "execution_count": 80
        }
      ]
    },
    {
      "cell_type": "code",
      "source": [
        "RGB_B1 = table_B1.drop(['H-ref','S-ref','V-ref','S-Shad','V-Shad','Shade-ref','Setting','Img','Shade','H-Shad'], axis=1)"
      ],
      "metadata": {
        "id": "sjtNsyyiglXP"
      },
      "execution_count": 81,
      "outputs": []
    },
    {
      "cell_type": "code",
      "source": [
        "X_B1 = np.array(RGB_B1)"
      ],
      "metadata": {
        "id": "nrEaK_0sglXQ"
      },
      "execution_count": 82,
      "outputs": []
    },
    {
      "cell_type": "code",
      "source": [
        "y_B1 =  table_B1.iloc[:,13:14]"
      ],
      "metadata": {
        "id": "IPhi3MzcglXQ"
      },
      "execution_count": 83,
      "outputs": []
    },
    {
      "cell_type": "code",
      "source": [
        "y_B1 = np.array(y_B1)\n",
        "y_B1"
      ],
      "metadata": {
        "outputId": "8f0772c3-4d31-4c65-cdb0-c14454743ee5",
        "colab": {
          "base_uri": "https://localhost:8080/"
        },
        "id": "8p_WWT9kglXQ"
      },
      "execution_count": 84,
      "outputs": [
        {
          "output_type": "execute_result",
          "data": {
            "text/plain": [
              "array([['A1'],\n",
              "       ['A1'],\n",
              "       ['A1'],\n",
              "       ...,\n",
              "       ['D4'],\n",
              "       ['D4'],\n",
              "       ['D4']], dtype=object)"
            ]
          },
          "metadata": {},
          "execution_count": 84
        }
      ]
    },
    {
      "cell_type": "code",
      "source": [
        "X_test_B1, X_train_B1 , y_test_B1, y_train_B1 = train_test_split(X_B1, y_B1, test_size=80, train_size=320)"
      ],
      "metadata": {
        "id": "jjLWEwWKsaKI"
      },
      "execution_count": 236,
      "outputs": []
    },
    {
      "cell_type": "code",
      "source": [
        "clf.fit(X_train_B1, y_train_B1)"
      ],
      "metadata": {
        "outputId": "a8de9f01-3f15-41cd-e77b-76693debde0c",
        "colab": {
          "base_uri": "https://localhost:8080/"
        },
        "id": "Zy5KrKcbglXR"
      },
      "execution_count": 237,
      "outputs": [
        {
          "output_type": "stream",
          "name": "stderr",
          "text": [
            "/usr/local/lib/python3.7/dist-packages/sklearn/utils/validation.py:985: DataConversionWarning: A column-vector y was passed when a 1d array was expected. Please change the shape of y to (n_samples, ), for example using ravel().\n",
            "  y = column_or_1d(y, warn=True)\n"
          ]
        },
        {
          "output_type": "execute_result",
          "data": {
            "text/plain": [
              "SVC(kernel='poly')"
            ]
          },
          "metadata": {},
          "execution_count": 237
        }
      ]
    },
    {
      "cell_type": "code",
      "source": [
        "y_pred_B1 = clf.predict(X_test_B1)"
      ],
      "metadata": {
        "id": "NApeKfqIglXR"
      },
      "execution_count": 238,
      "outputs": []
    },
    {
      "cell_type": "code",
      "source": [
        "print(\"Accuracy:\", metrics.accuracy_score(y_test_B1, y_pred_B1))"
      ],
      "metadata": {
        "outputId": "676a986c-25be-4a75-ee7d-3ef465919d90",
        "colab": {
          "base_uri": "https://localhost:8080/"
        },
        "id": "zQWxEuo5glXR"
      },
      "execution_count": 239,
      "outputs": [
        {
          "output_type": "stream",
          "name": "stdout",
          "text": [
            "Accuracy: 0.1125\n"
          ]
        }
      ]
    },
    {
      "cell_type": "markdown",
      "source": [
        "##B2"
      ],
      "metadata": {
        "id": "1KAw4tpLglXS"
      }
    },
    {
      "cell_type": "code",
      "source": [
        "table_B2= pd.read_excel(BB, sheet_name='B2')\n",
        "table_B2"
      ],
      "metadata": {
        "colab": {
          "base_uri": "https://localhost:8080/",
          "height": 832
        },
        "outputId": "63e4b31d-7a5b-4eaf-e4b3-993f3c6df80b",
        "id": "oJlE3BZtglXS"
      },
      "execution_count": 116,
      "outputs": [
        {
          "output_type": "execute_result",
          "data": {
            "text/html": [
              "\n",
              "  <div id=\"df-5b69b170-44e1-4f81-af4f-f5e89e62ac38\">\n",
              "    <div class=\"colab-df-container\">\n",
              "      <div>\n",
              "<style scoped>\n",
              "    .dataframe tbody tr th:only-of-type {\n",
              "        vertical-align: middle;\n",
              "    }\n",
              "\n",
              "    .dataframe tbody tr th {\n",
              "        vertical-align: top;\n",
              "    }\n",
              "\n",
              "    .dataframe thead th {\n",
              "        text-align: right;\n",
              "    }\n",
              "</style>\n",
              "<table border=\"1\" class=\"dataframe\">\n",
              "  <thead>\n",
              "    <tr style=\"text-align: right;\">\n",
              "      <th></th>\n",
              "      <th>R-ref</th>\n",
              "      <th>G-ref</th>\n",
              "      <th>B-ref</th>\n",
              "      <th>R-Shad</th>\n",
              "      <th>G-Shad</th>\n",
              "      <th>B-Shad</th>\n",
              "      <th>H-ref</th>\n",
              "      <th>S-ref</th>\n",
              "      <th>V-ref</th>\n",
              "      <th>H-Shad</th>\n",
              "      <th>S-Shad</th>\n",
              "      <th>V-Shad</th>\n",
              "      <th>Shade-ref</th>\n",
              "      <th>Shade</th>\n",
              "      <th>Setting</th>\n",
              "      <th>Img</th>\n",
              "    </tr>\n",
              "  </thead>\n",
              "  <tbody>\n",
              "    <tr>\n",
              "      <th>0</th>\n",
              "      <td>232.175960</td>\n",
              "      <td>216.874036</td>\n",
              "      <td>178.708465</td>\n",
              "      <td>232.964654</td>\n",
              "      <td>217.832160</td>\n",
              "      <td>180.185122</td>\n",
              "      <td>21.562292</td>\n",
              "      <td>58.762357</td>\n",
              "      <td>232.175960</td>\n",
              "      <td>21.513975</td>\n",
              "      <td>57.839201</td>\n",
              "      <td>232.964654</td>\n",
              "      <td>B2</td>\n",
              "      <td>A1</td>\n",
              "      <td>Set1</td>\n",
              "      <td>8844784E-18F2-4180-BD56-22527F5B506A.png</td>\n",
              "    </tr>\n",
              "    <tr>\n",
              "      <th>1</th>\n",
              "      <td>231.726077</td>\n",
              "      <td>211.455077</td>\n",
              "      <td>167.223440</td>\n",
              "      <td>232.533177</td>\n",
              "      <td>212.551597</td>\n",
              "      <td>168.982505</td>\n",
              "      <td>20.556367</td>\n",
              "      <td>71.019641</td>\n",
              "      <td>231.726077</td>\n",
              "      <td>20.552237</td>\n",
              "      <td>69.773771</td>\n",
              "      <td>232.533177</td>\n",
              "      <td>B2</td>\n",
              "      <td>A1</td>\n",
              "      <td>Set1</td>\n",
              "      <td>9B82482F-3CCB-4D36-88DF-53EE592260BA.png</td>\n",
              "    </tr>\n",
              "    <tr>\n",
              "      <th>2</th>\n",
              "      <td>226.100641</td>\n",
              "      <td>197.575278</td>\n",
              "      <td>146.748235</td>\n",
              "      <td>226.795889</td>\n",
              "      <td>198.548539</td>\n",
              "      <td>147.966148</td>\n",
              "      <td>19.189595</td>\n",
              "      <td>89.497849</td>\n",
              "      <td>226.100641</td>\n",
              "      <td>19.239457</td>\n",
              "      <td>88.650238</td>\n",
              "      <td>226.795889</td>\n",
              "      <td>B2</td>\n",
              "      <td>A1</td>\n",
              "      <td>Set1</td>\n",
              "      <td>EBE10373-8135-4270-894B-9887BE25C44D.png</td>\n",
              "    </tr>\n",
              "    <tr>\n",
              "      <th>3</th>\n",
              "      <td>230.612531</td>\n",
              "      <td>207.562373</td>\n",
              "      <td>164.211752</td>\n",
              "      <td>231.210796</td>\n",
              "      <td>208.351682</td>\n",
              "      <td>165.428561</td>\n",
              "      <td>19.566594</td>\n",
              "      <td>73.461651</td>\n",
              "      <td>230.612531</td>\n",
              "      <td>19.550743</td>\n",
              "      <td>72.606500</td>\n",
              "      <td>231.210796</td>\n",
              "      <td>B2</td>\n",
              "      <td>A1</td>\n",
              "      <td>Set1</td>\n",
              "      <td>E371B8FC-E57F-49E3-8AF4-9DF8FDBFA8F3.png</td>\n",
              "    </tr>\n",
              "    <tr>\n",
              "      <th>4</th>\n",
              "      <td>232.133431</td>\n",
              "      <td>209.823472</td>\n",
              "      <td>160.814707</td>\n",
              "      <td>232.841548</td>\n",
              "      <td>211.054264</td>\n",
              "      <td>163.067989</td>\n",
              "      <td>20.814463</td>\n",
              "      <td>78.373996</td>\n",
              "      <td>232.133431</td>\n",
              "      <td>20.855487</td>\n",
              "      <td>76.523434</td>\n",
              "      <td>232.841832</td>\n",
              "      <td>B2</td>\n",
              "      <td>A1</td>\n",
              "      <td>Set1</td>\n",
              "      <td>238A6F42-0DF6-424E-9279-99FE08A655A8.png</td>\n",
              "    </tr>\n",
              "    <tr>\n",
              "      <th>...</th>\n",
              "      <td>...</td>\n",
              "      <td>...</td>\n",
              "      <td>...</td>\n",
              "      <td>...</td>\n",
              "      <td>...</td>\n",
              "      <td>...</td>\n",
              "      <td>...</td>\n",
              "      <td>...</td>\n",
              "      <td>...</td>\n",
              "      <td>...</td>\n",
              "      <td>...</td>\n",
              "      <td>...</td>\n",
              "      <td>...</td>\n",
              "      <td>...</td>\n",
              "      <td>...</td>\n",
              "      <td>...</td>\n",
              "    </tr>\n",
              "    <tr>\n",
              "      <th>3195</th>\n",
              "      <td>232.804642</td>\n",
              "      <td>209.441604</td>\n",
              "      <td>164.924357</td>\n",
              "      <td>233.308869</td>\n",
              "      <td>210.109594</td>\n",
              "      <td>166.164853</td>\n",
              "      <td>19.601331</td>\n",
              "      <td>74.376755</td>\n",
              "      <td>232.804642</td>\n",
              "      <td>19.552094</td>\n",
              "      <td>73.433042</td>\n",
              "      <td>233.308869</td>\n",
              "      <td>B2</td>\n",
              "      <td>D4</td>\n",
              "      <td>Set4</td>\n",
              "      <td>02517FFF-D929-4E27-ACB8-20C8F13BAE87.png</td>\n",
              "    </tr>\n",
              "    <tr>\n",
              "      <th>3196</th>\n",
              "      <td>235.903985</td>\n",
              "      <td>218.940670</td>\n",
              "      <td>179.875741</td>\n",
              "      <td>236.487092</td>\n",
              "      <td>219.666951</td>\n",
              "      <td>181.014864</td>\n",
              "      <td>20.612775</td>\n",
              "      <td>78.169873</td>\n",
              "      <td>229.335768</td>\n",
              "      <td>20.589787</td>\n",
              "      <td>77.092810</td>\n",
              "      <td>229.914515</td>\n",
              "      <td>B2</td>\n",
              "      <td>D4</td>\n",
              "      <td>Set4</td>\n",
              "      <td>4DF000AA-D32F-40DF-A2DA-318515B01B63.png</td>\n",
              "    </tr>\n",
              "    <tr>\n",
              "      <th>3197</th>\n",
              "      <td>232.175960</td>\n",
              "      <td>216.874036</td>\n",
              "      <td>178.708465</td>\n",
              "      <td>232.964654</td>\n",
              "      <td>217.832160</td>\n",
              "      <td>180.185122</td>\n",
              "      <td>21.562292</td>\n",
              "      <td>58.762357</td>\n",
              "      <td>232.175960</td>\n",
              "      <td>21.513975</td>\n",
              "      <td>57.839201</td>\n",
              "      <td>232.964654</td>\n",
              "      <td>B2</td>\n",
              "      <td>D4</td>\n",
              "      <td>Set4</td>\n",
              "      <td>976D4924-5C2B-4E8D-97B8-B6A27664091A.png</td>\n",
              "    </tr>\n",
              "    <tr>\n",
              "      <th>3198</th>\n",
              "      <td>231.726077</td>\n",
              "      <td>211.455077</td>\n",
              "      <td>167.223440</td>\n",
              "      <td>232.533177</td>\n",
              "      <td>212.551597</td>\n",
              "      <td>168.982505</td>\n",
              "      <td>20.556367</td>\n",
              "      <td>71.019641</td>\n",
              "      <td>231.726077</td>\n",
              "      <td>20.552237</td>\n",
              "      <td>69.773771</td>\n",
              "      <td>232.533177</td>\n",
              "      <td>B2</td>\n",
              "      <td>D4</td>\n",
              "      <td>Set4</td>\n",
              "      <td>CADBBAEF-2109-470B-A58D-7F59A19534CD.png</td>\n",
              "    </tr>\n",
              "    <tr>\n",
              "      <th>3199</th>\n",
              "      <td>226.100641</td>\n",
              "      <td>197.575278</td>\n",
              "      <td>146.748235</td>\n",
              "      <td>226.795889</td>\n",
              "      <td>198.548539</td>\n",
              "      <td>147.966148</td>\n",
              "      <td>19.189595</td>\n",
              "      <td>89.497849</td>\n",
              "      <td>226.100641</td>\n",
              "      <td>19.239457</td>\n",
              "      <td>88.650238</td>\n",
              "      <td>226.795889</td>\n",
              "      <td>B2</td>\n",
              "      <td>D4</td>\n",
              "      <td>Set4</td>\n",
              "      <td>BA693C32-D00A-4AA9-96D8-25720E26157C.png</td>\n",
              "    </tr>\n",
              "  </tbody>\n",
              "</table>\n",
              "<p>3200 rows × 16 columns</p>\n",
              "</div>\n",
              "      <button class=\"colab-df-convert\" onclick=\"convertToInteractive('df-5b69b170-44e1-4f81-af4f-f5e89e62ac38')\"\n",
              "              title=\"Convert this dataframe to an interactive table.\"\n",
              "              style=\"display:none;\">\n",
              "        \n",
              "  <svg xmlns=\"http://www.w3.org/2000/svg\" height=\"24px\"viewBox=\"0 0 24 24\"\n",
              "       width=\"24px\">\n",
              "    <path d=\"M0 0h24v24H0V0z\" fill=\"none\"/>\n",
              "    <path d=\"M18.56 5.44l.94 2.06.94-2.06 2.06-.94-2.06-.94-.94-2.06-.94 2.06-2.06.94zm-11 1L8.5 8.5l.94-2.06 2.06-.94-2.06-.94L8.5 2.5l-.94 2.06-2.06.94zm10 10l.94 2.06.94-2.06 2.06-.94-2.06-.94-.94-2.06-.94 2.06-2.06.94z\"/><path d=\"M17.41 7.96l-1.37-1.37c-.4-.4-.92-.59-1.43-.59-.52 0-1.04.2-1.43.59L10.3 9.45l-7.72 7.72c-.78.78-.78 2.05 0 2.83L4 21.41c.39.39.9.59 1.41.59.51 0 1.02-.2 1.41-.59l7.78-7.78 2.81-2.81c.8-.78.8-2.07 0-2.86zM5.41 20L4 18.59l7.72-7.72 1.47 1.35L5.41 20z\"/>\n",
              "  </svg>\n",
              "      </button>\n",
              "      \n",
              "  <style>\n",
              "    .colab-df-container {\n",
              "      display:flex;\n",
              "      flex-wrap:wrap;\n",
              "      gap: 12px;\n",
              "    }\n",
              "\n",
              "    .colab-df-convert {\n",
              "      background-color: #E8F0FE;\n",
              "      border: none;\n",
              "      border-radius: 50%;\n",
              "      cursor: pointer;\n",
              "      display: none;\n",
              "      fill: #1967D2;\n",
              "      height: 32px;\n",
              "      padding: 0 0 0 0;\n",
              "      width: 32px;\n",
              "    }\n",
              "\n",
              "    .colab-df-convert:hover {\n",
              "      background-color: #E2EBFA;\n",
              "      box-shadow: 0px 1px 2px rgba(60, 64, 67, 0.3), 0px 1px 3px 1px rgba(60, 64, 67, 0.15);\n",
              "      fill: #174EA6;\n",
              "    }\n",
              "\n",
              "    [theme=dark] .colab-df-convert {\n",
              "      background-color: #3B4455;\n",
              "      fill: #D2E3FC;\n",
              "    }\n",
              "\n",
              "    [theme=dark] .colab-df-convert:hover {\n",
              "      background-color: #434B5C;\n",
              "      box-shadow: 0px 1px 3px 1px rgba(0, 0, 0, 0.15);\n",
              "      filter: drop-shadow(0px 1px 2px rgba(0, 0, 0, 0.3));\n",
              "      fill: #FFFFFF;\n",
              "    }\n",
              "  </style>\n",
              "\n",
              "      <script>\n",
              "        const buttonEl =\n",
              "          document.querySelector('#df-5b69b170-44e1-4f81-af4f-f5e89e62ac38 button.colab-df-convert');\n",
              "        buttonEl.style.display =\n",
              "          google.colab.kernel.accessAllowed ? 'block' : 'none';\n",
              "\n",
              "        async function convertToInteractive(key) {\n",
              "          const element = document.querySelector('#df-5b69b170-44e1-4f81-af4f-f5e89e62ac38');\n",
              "          const dataTable =\n",
              "            await google.colab.kernel.invokeFunction('convertToInteractive',\n",
              "                                                     [key], {});\n",
              "          if (!dataTable) return;\n",
              "\n",
              "          const docLinkHtml = 'Like what you see? Visit the ' +\n",
              "            '<a target=\"_blank\" href=https://colab.research.google.com/notebooks/data_table.ipynb>data table notebook</a>'\n",
              "            + ' to learn more about interactive tables.';\n",
              "          element.innerHTML = '';\n",
              "          dataTable['output_type'] = 'display_data';\n",
              "          await google.colab.output.renderOutput(dataTable, element);\n",
              "          const docLink = document.createElement('div');\n",
              "          docLink.innerHTML = docLinkHtml;\n",
              "          element.appendChild(docLink);\n",
              "        }\n",
              "      </script>\n",
              "    </div>\n",
              "  </div>\n",
              "  "
            ],
            "text/plain": [
              "           R-ref       G-ref  ...  Setting                                       Img\n",
              "0     232.175960  216.874036  ...     Set1  8844784E-18F2-4180-BD56-22527F5B506A.png\n",
              "1     231.726077  211.455077  ...     Set1  9B82482F-3CCB-4D36-88DF-53EE592260BA.png\n",
              "2     226.100641  197.575278  ...     Set1  EBE10373-8135-4270-894B-9887BE25C44D.png\n",
              "3     230.612531  207.562373  ...     Set1  E371B8FC-E57F-49E3-8AF4-9DF8FDBFA8F3.png\n",
              "4     232.133431  209.823472  ...     Set1  238A6F42-0DF6-424E-9279-99FE08A655A8.png\n",
              "...          ...         ...  ...      ...                                       ...\n",
              "3195  232.804642  209.441604  ...     Set4  02517FFF-D929-4E27-ACB8-20C8F13BAE87.png\n",
              "3196  235.903985  218.940670  ...     Set4  4DF000AA-D32F-40DF-A2DA-318515B01B63.png\n",
              "3197  232.175960  216.874036  ...     Set4  976D4924-5C2B-4E8D-97B8-B6A27664091A.png\n",
              "3198  231.726077  211.455077  ...     Set4  CADBBAEF-2109-470B-A58D-7F59A19534CD.png\n",
              "3199  226.100641  197.575278  ...     Set4  BA693C32-D00A-4AA9-96D8-25720E26157C.png\n",
              "\n",
              "[3200 rows x 16 columns]"
            ]
          },
          "metadata": {},
          "execution_count": 116
        }
      ]
    },
    {
      "cell_type": "code",
      "source": [
        "RGB_B2 = table_B2.drop(['H-ref','S-ref','V-ref','S-Shad','V-Shad','Shade-ref','Setting','Img','Shade','H-Shad'], axis=1)"
      ],
      "metadata": {
        "id": "kZWM64cUglXS"
      },
      "execution_count": 117,
      "outputs": []
    },
    {
      "cell_type": "code",
      "source": [
        "X_B2 = np.array(RGB_B2)"
      ],
      "metadata": {
        "id": "BrRo9OtFglXS"
      },
      "execution_count": 118,
      "outputs": []
    },
    {
      "cell_type": "code",
      "source": [
        "y_B2 =  table_B2.iloc[:,13:14]"
      ],
      "metadata": {
        "id": "craA0cKDglXS"
      },
      "execution_count": 119,
      "outputs": []
    },
    {
      "cell_type": "code",
      "source": [
        "y_B2 = np.array(y_B2)\n",
        "y_B2"
      ],
      "metadata": {
        "id": "YJ6czTEhglXS"
      },
      "execution_count": null,
      "outputs": []
    },
    {
      "cell_type": "code",
      "source": [
        "X_test_B2, X_train_B2 , y_test_B2, y_train_B2 = train_test_split(X_B2, y_B2, test_size=80, train_size=320)"
      ],
      "metadata": {
        "id": "50EuIsk1sh0T"
      },
      "execution_count": 240,
      "outputs": []
    },
    {
      "cell_type": "code",
      "source": [
        "clf.fit(X_train_B2, y_train_B2)"
      ],
      "metadata": {
        "outputId": "a65454ec-a2e5-4968-a9d7-ecfc8c1db68f",
        "colab": {
          "base_uri": "https://localhost:8080/"
        },
        "id": "Rpz0pTaXglXT"
      },
      "execution_count": 241,
      "outputs": [
        {
          "output_type": "stream",
          "name": "stderr",
          "text": [
            "/usr/local/lib/python3.7/dist-packages/sklearn/utils/validation.py:985: DataConversionWarning: A column-vector y was passed when a 1d array was expected. Please change the shape of y to (n_samples, ), for example using ravel().\n",
            "  y = column_or_1d(y, warn=True)\n"
          ]
        },
        {
          "output_type": "execute_result",
          "data": {
            "text/plain": [
              "SVC(kernel='poly')"
            ]
          },
          "metadata": {},
          "execution_count": 241
        }
      ]
    },
    {
      "cell_type": "code",
      "source": [
        "y_pred_B2 = clf.predict(X_test_B2)"
      ],
      "metadata": {
        "id": "O04fpt08glXT"
      },
      "execution_count": 242,
      "outputs": []
    },
    {
      "cell_type": "code",
      "source": [
        "print(\"Accuracy:\", metrics.accuracy_score(y_test_B2, y_pred_B2))"
      ],
      "metadata": {
        "outputId": "1dfac866-c23d-4d1c-ecee-7f4413a792b4",
        "colab": {
          "base_uri": "https://localhost:8080/"
        },
        "id": "rM4kWAKOglXT"
      },
      "execution_count": 243,
      "outputs": [
        {
          "output_type": "stream",
          "name": "stdout",
          "text": [
            "Accuracy: 0.209375\n"
          ]
        }
      ]
    },
    {
      "cell_type": "markdown",
      "source": [
        "##B3"
      ],
      "metadata": {
        "id": "YdydtL9YglXT"
      }
    },
    {
      "cell_type": "code",
      "source": [
        "table_B3= pd.read_excel(BB, sheet_name='B3')\n",
        "table_B3"
      ],
      "metadata": {
        "colab": {
          "base_uri": "https://localhost:8080/",
          "height": 832
        },
        "outputId": "0305b615-a180-4cf7-96c4-2a2a8163ad5e",
        "id": "AIBX1tgEglXU"
      },
      "execution_count": 100,
      "outputs": [
        {
          "output_type": "execute_result",
          "data": {
            "text/html": [
              "\n",
              "  <div id=\"df-991c17a8-35e5-480f-b6a8-31442326b3f7\">\n",
              "    <div class=\"colab-df-container\">\n",
              "      <div>\n",
              "<style scoped>\n",
              "    .dataframe tbody tr th:only-of-type {\n",
              "        vertical-align: middle;\n",
              "    }\n",
              "\n",
              "    .dataframe tbody tr th {\n",
              "        vertical-align: top;\n",
              "    }\n",
              "\n",
              "    .dataframe thead th {\n",
              "        text-align: right;\n",
              "    }\n",
              "</style>\n",
              "<table border=\"1\" class=\"dataframe\">\n",
              "  <thead>\n",
              "    <tr style=\"text-align: right;\">\n",
              "      <th></th>\n",
              "      <th>R-ref</th>\n",
              "      <th>G-ref</th>\n",
              "      <th>B-ref</th>\n",
              "      <th>R-Shad</th>\n",
              "      <th>G-Shad</th>\n",
              "      <th>B-Shad</th>\n",
              "      <th>H-ref</th>\n",
              "      <th>S-ref</th>\n",
              "      <th>V-ref</th>\n",
              "      <th>H-Shad</th>\n",
              "      <th>S-Shad</th>\n",
              "      <th>V-Shad</th>\n",
              "      <th>Shade-ref</th>\n",
              "      <th>Shade</th>\n",
              "      <th>Setting</th>\n",
              "      <th>Img</th>\n",
              "    </tr>\n",
              "  </thead>\n",
              "  <tbody>\n",
              "    <tr>\n",
              "      <th>0</th>\n",
              "      <td>232.175960</td>\n",
              "      <td>216.874036</td>\n",
              "      <td>178.708465</td>\n",
              "      <td>232.964654</td>\n",
              "      <td>217.832160</td>\n",
              "      <td>180.185122</td>\n",
              "      <td>21.562292</td>\n",
              "      <td>58.762357</td>\n",
              "      <td>232.175960</td>\n",
              "      <td>21.513975</td>\n",
              "      <td>57.839201</td>\n",
              "      <td>232.964654</td>\n",
              "      <td>A4</td>\n",
              "      <td>B3</td>\n",
              "      <td>Set1</td>\n",
              "      <td>768ECDBF-055D-4AF1-9FB6-59F1D54C18F2.png</td>\n",
              "    </tr>\n",
              "    <tr>\n",
              "      <th>1</th>\n",
              "      <td>231.726077</td>\n",
              "      <td>211.455077</td>\n",
              "      <td>167.223440</td>\n",
              "      <td>232.533177</td>\n",
              "      <td>212.551597</td>\n",
              "      <td>168.982505</td>\n",
              "      <td>20.556367</td>\n",
              "      <td>71.019641</td>\n",
              "      <td>231.726077</td>\n",
              "      <td>20.552237</td>\n",
              "      <td>69.773771</td>\n",
              "      <td>232.533177</td>\n",
              "      <td>A4</td>\n",
              "      <td>B3</td>\n",
              "      <td>Set1</td>\n",
              "      <td>A2B09945-ABB4-4B6C-8880-C0859637306B.png</td>\n",
              "    </tr>\n",
              "    <tr>\n",
              "      <th>2</th>\n",
              "      <td>226.100641</td>\n",
              "      <td>197.575278</td>\n",
              "      <td>146.748235</td>\n",
              "      <td>226.795889</td>\n",
              "      <td>198.548539</td>\n",
              "      <td>147.966148</td>\n",
              "      <td>19.189595</td>\n",
              "      <td>89.497849</td>\n",
              "      <td>226.100641</td>\n",
              "      <td>19.239457</td>\n",
              "      <td>88.650238</td>\n",
              "      <td>226.795889</td>\n",
              "      <td>A4</td>\n",
              "      <td>B3</td>\n",
              "      <td>Set1</td>\n",
              "      <td>5C57C433-024F-4E4A-B661-2A33A270EE9D.png</td>\n",
              "    </tr>\n",
              "    <tr>\n",
              "      <th>3</th>\n",
              "      <td>230.612531</td>\n",
              "      <td>207.562373</td>\n",
              "      <td>164.211752</td>\n",
              "      <td>231.210796</td>\n",
              "      <td>208.351682</td>\n",
              "      <td>165.428561</td>\n",
              "      <td>19.566594</td>\n",
              "      <td>73.461651</td>\n",
              "      <td>230.612531</td>\n",
              "      <td>19.550743</td>\n",
              "      <td>72.606500</td>\n",
              "      <td>231.210796</td>\n",
              "      <td>A4</td>\n",
              "      <td>B3</td>\n",
              "      <td>Set1</td>\n",
              "      <td>6D8E199E-9FF6-46BF-A7CA-D491A179F0EB.png</td>\n",
              "    </tr>\n",
              "    <tr>\n",
              "      <th>4</th>\n",
              "      <td>232.133431</td>\n",
              "      <td>209.823472</td>\n",
              "      <td>160.814707</td>\n",
              "      <td>232.841548</td>\n",
              "      <td>211.054264</td>\n",
              "      <td>163.067989</td>\n",
              "      <td>20.814463</td>\n",
              "      <td>78.373996</td>\n",
              "      <td>232.133431</td>\n",
              "      <td>20.855487</td>\n",
              "      <td>76.523434</td>\n",
              "      <td>232.841832</td>\n",
              "      <td>A4</td>\n",
              "      <td>B3</td>\n",
              "      <td>Set1</td>\n",
              "      <td>09286B35-9904-4EE4-8AF2-92443DF8DA7D.png</td>\n",
              "    </tr>\n",
              "    <tr>\n",
              "      <th>...</th>\n",
              "      <td>...</td>\n",
              "      <td>...</td>\n",
              "      <td>...</td>\n",
              "      <td>...</td>\n",
              "      <td>...</td>\n",
              "      <td>...</td>\n",
              "      <td>...</td>\n",
              "      <td>...</td>\n",
              "      <td>...</td>\n",
              "      <td>...</td>\n",
              "      <td>...</td>\n",
              "      <td>...</td>\n",
              "      <td>...</td>\n",
              "      <td>...</td>\n",
              "      <td>...</td>\n",
              "      <td>...</td>\n",
              "    </tr>\n",
              "    <tr>\n",
              "      <th>3195</th>\n",
              "      <td>232.804642</td>\n",
              "      <td>209.441604</td>\n",
              "      <td>164.924357</td>\n",
              "      <td>233.308869</td>\n",
              "      <td>210.109594</td>\n",
              "      <td>166.164853</td>\n",
              "      <td>19.601331</td>\n",
              "      <td>74.376755</td>\n",
              "      <td>232.804642</td>\n",
              "      <td>19.552094</td>\n",
              "      <td>73.433042</td>\n",
              "      <td>233.308869</td>\n",
              "      <td>A4</td>\n",
              "      <td>B3</td>\n",
              "      <td>Set4</td>\n",
              "      <td>FF51B534-D123-4EDC-9698-512268B65867.png</td>\n",
              "    </tr>\n",
              "    <tr>\n",
              "      <th>3196</th>\n",
              "      <td>235.903985</td>\n",
              "      <td>218.940670</td>\n",
              "      <td>179.875741</td>\n",
              "      <td>236.487092</td>\n",
              "      <td>219.666951</td>\n",
              "      <td>181.014864</td>\n",
              "      <td>20.612775</td>\n",
              "      <td>78.169873</td>\n",
              "      <td>229.335768</td>\n",
              "      <td>20.589787</td>\n",
              "      <td>77.092810</td>\n",
              "      <td>229.914515</td>\n",
              "      <td>A4</td>\n",
              "      <td>B3</td>\n",
              "      <td>Set4</td>\n",
              "      <td>687AE017-A410-496A-9B9B-6A9FD3E326A4.png</td>\n",
              "    </tr>\n",
              "    <tr>\n",
              "      <th>3197</th>\n",
              "      <td>232.175960</td>\n",
              "      <td>216.874036</td>\n",
              "      <td>178.708465</td>\n",
              "      <td>232.964654</td>\n",
              "      <td>217.832160</td>\n",
              "      <td>180.185122</td>\n",
              "      <td>21.562292</td>\n",
              "      <td>58.762357</td>\n",
              "      <td>232.175960</td>\n",
              "      <td>21.513975</td>\n",
              "      <td>57.839201</td>\n",
              "      <td>232.964654</td>\n",
              "      <td>A4</td>\n",
              "      <td>B3</td>\n",
              "      <td>Set4</td>\n",
              "      <td>5ADEE1DD-D8E0-4919-A19D-069AB7914B91.png</td>\n",
              "    </tr>\n",
              "    <tr>\n",
              "      <th>3198</th>\n",
              "      <td>231.726077</td>\n",
              "      <td>211.455077</td>\n",
              "      <td>167.223440</td>\n",
              "      <td>232.533177</td>\n",
              "      <td>212.551597</td>\n",
              "      <td>168.982505</td>\n",
              "      <td>20.556367</td>\n",
              "      <td>71.019641</td>\n",
              "      <td>231.726077</td>\n",
              "      <td>20.552237</td>\n",
              "      <td>69.773771</td>\n",
              "      <td>232.533177</td>\n",
              "      <td>A4</td>\n",
              "      <td>B3</td>\n",
              "      <td>Set4</td>\n",
              "      <td>B1D08D81-83F8-499F-8E19-BB24994B89F1.png</td>\n",
              "    </tr>\n",
              "    <tr>\n",
              "      <th>3199</th>\n",
              "      <td>226.100641</td>\n",
              "      <td>197.575278</td>\n",
              "      <td>146.748235</td>\n",
              "      <td>226.795889</td>\n",
              "      <td>198.548539</td>\n",
              "      <td>147.966148</td>\n",
              "      <td>19.189595</td>\n",
              "      <td>89.497849</td>\n",
              "      <td>226.100641</td>\n",
              "      <td>19.239457</td>\n",
              "      <td>88.650238</td>\n",
              "      <td>226.795889</td>\n",
              "      <td>A4</td>\n",
              "      <td>B3</td>\n",
              "      <td>Set4</td>\n",
              "      <td>48613D2F-02B3-4562-B1E2-D5C16CDE3EE0.png</td>\n",
              "    </tr>\n",
              "  </tbody>\n",
              "</table>\n",
              "<p>3200 rows × 16 columns</p>\n",
              "</div>\n",
              "      <button class=\"colab-df-convert\" onclick=\"convertToInteractive('df-991c17a8-35e5-480f-b6a8-31442326b3f7')\"\n",
              "              title=\"Convert this dataframe to an interactive table.\"\n",
              "              style=\"display:none;\">\n",
              "        \n",
              "  <svg xmlns=\"http://www.w3.org/2000/svg\" height=\"24px\"viewBox=\"0 0 24 24\"\n",
              "       width=\"24px\">\n",
              "    <path d=\"M0 0h24v24H0V0z\" fill=\"none\"/>\n",
              "    <path d=\"M18.56 5.44l.94 2.06.94-2.06 2.06-.94-2.06-.94-.94-2.06-.94 2.06-2.06.94zm-11 1L8.5 8.5l.94-2.06 2.06-.94-2.06-.94L8.5 2.5l-.94 2.06-2.06.94zm10 10l.94 2.06.94-2.06 2.06-.94-2.06-.94-.94-2.06-.94 2.06-2.06.94z\"/><path d=\"M17.41 7.96l-1.37-1.37c-.4-.4-.92-.59-1.43-.59-.52 0-1.04.2-1.43.59L10.3 9.45l-7.72 7.72c-.78.78-.78 2.05 0 2.83L4 21.41c.39.39.9.59 1.41.59.51 0 1.02-.2 1.41-.59l7.78-7.78 2.81-2.81c.8-.78.8-2.07 0-2.86zM5.41 20L4 18.59l7.72-7.72 1.47 1.35L5.41 20z\"/>\n",
              "  </svg>\n",
              "      </button>\n",
              "      \n",
              "  <style>\n",
              "    .colab-df-container {\n",
              "      display:flex;\n",
              "      flex-wrap:wrap;\n",
              "      gap: 12px;\n",
              "    }\n",
              "\n",
              "    .colab-df-convert {\n",
              "      background-color: #E8F0FE;\n",
              "      border: none;\n",
              "      border-radius: 50%;\n",
              "      cursor: pointer;\n",
              "      display: none;\n",
              "      fill: #1967D2;\n",
              "      height: 32px;\n",
              "      padding: 0 0 0 0;\n",
              "      width: 32px;\n",
              "    }\n",
              "\n",
              "    .colab-df-convert:hover {\n",
              "      background-color: #E2EBFA;\n",
              "      box-shadow: 0px 1px 2px rgba(60, 64, 67, 0.3), 0px 1px 3px 1px rgba(60, 64, 67, 0.15);\n",
              "      fill: #174EA6;\n",
              "    }\n",
              "\n",
              "    [theme=dark] .colab-df-convert {\n",
              "      background-color: #3B4455;\n",
              "      fill: #D2E3FC;\n",
              "    }\n",
              "\n",
              "    [theme=dark] .colab-df-convert:hover {\n",
              "      background-color: #434B5C;\n",
              "      box-shadow: 0px 1px 3px 1px rgba(0, 0, 0, 0.15);\n",
              "      filter: drop-shadow(0px 1px 2px rgba(0, 0, 0, 0.3));\n",
              "      fill: #FFFFFF;\n",
              "    }\n",
              "  </style>\n",
              "\n",
              "      <script>\n",
              "        const buttonEl =\n",
              "          document.querySelector('#df-991c17a8-35e5-480f-b6a8-31442326b3f7 button.colab-df-convert');\n",
              "        buttonEl.style.display =\n",
              "          google.colab.kernel.accessAllowed ? 'block' : 'none';\n",
              "\n",
              "        async function convertToInteractive(key) {\n",
              "          const element = document.querySelector('#df-991c17a8-35e5-480f-b6a8-31442326b3f7');\n",
              "          const dataTable =\n",
              "            await google.colab.kernel.invokeFunction('convertToInteractive',\n",
              "                                                     [key], {});\n",
              "          if (!dataTable) return;\n",
              "\n",
              "          const docLinkHtml = 'Like what you see? Visit the ' +\n",
              "            '<a target=\"_blank\" href=https://colab.research.google.com/notebooks/data_table.ipynb>data table notebook</a>'\n",
              "            + ' to learn more about interactive tables.';\n",
              "          element.innerHTML = '';\n",
              "          dataTable['output_type'] = 'display_data';\n",
              "          await google.colab.output.renderOutput(dataTable, element);\n",
              "          const docLink = document.createElement('div');\n",
              "          docLink.innerHTML = docLinkHtml;\n",
              "          element.appendChild(docLink);\n",
              "        }\n",
              "      </script>\n",
              "    </div>\n",
              "  </div>\n",
              "  "
            ],
            "text/plain": [
              "           R-ref       G-ref  ...  Setting                                       Img\n",
              "0     232.175960  216.874036  ...     Set1  768ECDBF-055D-4AF1-9FB6-59F1D54C18F2.png\n",
              "1     231.726077  211.455077  ...     Set1  A2B09945-ABB4-4B6C-8880-C0859637306B.png\n",
              "2     226.100641  197.575278  ...     Set1  5C57C433-024F-4E4A-B661-2A33A270EE9D.png\n",
              "3     230.612531  207.562373  ...     Set1  6D8E199E-9FF6-46BF-A7CA-D491A179F0EB.png\n",
              "4     232.133431  209.823472  ...     Set1  09286B35-9904-4EE4-8AF2-92443DF8DA7D.png\n",
              "...          ...         ...  ...      ...                                       ...\n",
              "3195  232.804642  209.441604  ...     Set4  FF51B534-D123-4EDC-9698-512268B65867.png\n",
              "3196  235.903985  218.940670  ...     Set4  687AE017-A410-496A-9B9B-6A9FD3E326A4.png\n",
              "3197  232.175960  216.874036  ...     Set4  5ADEE1DD-D8E0-4919-A19D-069AB7914B91.png\n",
              "3198  231.726077  211.455077  ...     Set4  B1D08D81-83F8-499F-8E19-BB24994B89F1.png\n",
              "3199  226.100641  197.575278  ...     Set4  48613D2F-02B3-4562-B1E2-D5C16CDE3EE0.png\n",
              "\n",
              "[3200 rows x 16 columns]"
            ]
          },
          "metadata": {},
          "execution_count": 100
        }
      ]
    },
    {
      "cell_type": "code",
      "source": [
        "RGB_B3 = table_B3.drop(['H-ref','S-ref','V-ref','S-Shad','V-Shad','Shade-ref','Setting','Img','Shade','H-Shad'], axis=1)"
      ],
      "metadata": {
        "id": "ostSnOpJglXU"
      },
      "execution_count": 101,
      "outputs": []
    },
    {
      "cell_type": "code",
      "source": [
        "X_B3 = np.array(RGB_B3)"
      ],
      "metadata": {
        "id": "zZUFoIDrglXU"
      },
      "execution_count": 102,
      "outputs": []
    },
    {
      "cell_type": "code",
      "source": [
        "y_B3 = table_B3.iloc[:,13:14]"
      ],
      "metadata": {
        "id": "c5AAUqMXglXU"
      },
      "execution_count": 103,
      "outputs": []
    },
    {
      "cell_type": "code",
      "source": [
        "y_B3 = np.array(y_B3)\n",
        "y_B3"
      ],
      "metadata": {
        "outputId": "4f62f771-e52c-45f3-b655-95119568806d",
        "colab": {
          "base_uri": "https://localhost:8080/"
        },
        "id": "LYXKYT49glXU"
      },
      "execution_count": 104,
      "outputs": [
        {
          "output_type": "execute_result",
          "data": {
            "text/plain": [
              "array([['B3'],\n",
              "       ['B3'],\n",
              "       ['B3'],\n",
              "       ...,\n",
              "       ['B3'],\n",
              "       ['B3'],\n",
              "       ['B3']], dtype=object)"
            ]
          },
          "metadata": {},
          "execution_count": 104
        }
      ]
    },
    {
      "cell_type": "code",
      "source": [
        "X_test_B3, X_train_B3 , y_test_B3, y_train_B3 = train_test_split(X_B3, y_B3, test_size=80, train_size=320)"
      ],
      "metadata": {
        "id": "Bs8trxV1spkc"
      },
      "execution_count": 244,
      "outputs": []
    },
    {
      "cell_type": "code",
      "source": [
        "clf.fit(X_train_B3, y_train_B3)"
      ],
      "metadata": {
        "outputId": "755238d3-c841-4b24-9539-2516ce48bc5a",
        "colab": {
          "base_uri": "https://localhost:8080/",
          "height": 366
        },
        "id": "8XypaE38glXV"
      },
      "execution_count": 246,
      "outputs": [
        {
          "output_type": "stream",
          "name": "stderr",
          "text": [
            "/usr/local/lib/python3.7/dist-packages/sklearn/utils/validation.py:985: DataConversionWarning: A column-vector y was passed when a 1d array was expected. Please change the shape of y to (n_samples, ), for example using ravel().\n",
            "  y = column_or_1d(y, warn=True)\n"
          ]
        },
        {
          "output_type": "error",
          "ename": "ValueError",
          "evalue": "ignored",
          "traceback": [
            "\u001b[0;31m---------------------------------------------------------------------------\u001b[0m",
            "\u001b[0;31mValueError\u001b[0m                                Traceback (most recent call last)",
            "\u001b[0;32m<ipython-input-246-d46810e6ec52>\u001b[0m in \u001b[0;36m<module>\u001b[0;34m()\u001b[0m\n\u001b[0;32m----> 1\u001b[0;31m \u001b[0mclf\u001b[0m\u001b[0;34m.\u001b[0m\u001b[0mfit\u001b[0m\u001b[0;34m(\u001b[0m\u001b[0mX_train_B3\u001b[0m\u001b[0;34m,\u001b[0m \u001b[0my_train_B3\u001b[0m\u001b[0;34m)\u001b[0m\u001b[0;34m\u001b[0m\u001b[0;34m\u001b[0m\u001b[0m\n\u001b[0m",
            "\u001b[0;32m/usr/local/lib/python3.7/dist-packages/sklearn/svm/_base.py\u001b[0m in \u001b[0;36mfit\u001b[0;34m(self, X, y, sample_weight)\u001b[0m\n\u001b[1;32m    197\u001b[0m             )\n\u001b[1;32m    198\u001b[0m \u001b[0;34m\u001b[0m\u001b[0m\n\u001b[0;32m--> 199\u001b[0;31m         \u001b[0my\u001b[0m \u001b[0;34m=\u001b[0m \u001b[0mself\u001b[0m\u001b[0;34m.\u001b[0m\u001b[0m_validate_targets\u001b[0m\u001b[0;34m(\u001b[0m\u001b[0my\u001b[0m\u001b[0;34m)\u001b[0m\u001b[0;34m\u001b[0m\u001b[0;34m\u001b[0m\u001b[0m\n\u001b[0m\u001b[1;32m    200\u001b[0m \u001b[0;34m\u001b[0m\u001b[0m\n\u001b[1;32m    201\u001b[0m         sample_weight = np.asarray(\n",
            "\u001b[0;32m/usr/local/lib/python3.7/dist-packages/sklearn/svm/_base.py\u001b[0m in \u001b[0;36m_validate_targets\u001b[0;34m(self, y)\u001b[0m\n\u001b[1;32m    720\u001b[0m             raise ValueError(\n\u001b[1;32m    721\u001b[0m                 \u001b[0;34m\"The number of classes has to be greater than one; got %d class\"\u001b[0m\u001b[0;34m\u001b[0m\u001b[0;34m\u001b[0m\u001b[0m\n\u001b[0;32m--> 722\u001b[0;31m                 \u001b[0;34m%\u001b[0m \u001b[0mlen\u001b[0m\u001b[0;34m(\u001b[0m\u001b[0mcls\u001b[0m\u001b[0;34m)\u001b[0m\u001b[0;34m\u001b[0m\u001b[0;34m\u001b[0m\u001b[0m\n\u001b[0m\u001b[1;32m    723\u001b[0m             )\n\u001b[1;32m    724\u001b[0m \u001b[0;34m\u001b[0m\u001b[0m\n",
            "\u001b[0;31mValueError\u001b[0m: The number of classes has to be greater than one; got 1 class"
          ]
        }
      ]
    },
    {
      "cell_type": "code",
      "source": [
        "y_pred_B3 = clf.predict(X_test_B3)"
      ],
      "metadata": {
        "id": "GCv_31s-glXV"
      },
      "execution_count": null,
      "outputs": []
    },
    {
      "cell_type": "code",
      "source": [
        "print(\"Accuracy:\", metrics.accuracy_score(y_test_B3, y_pred_B3))"
      ],
      "metadata": {
        "id": "nkQqIR2bglXV"
      },
      "execution_count": null,
      "outputs": []
    },
    {
      "cell_type": "markdown",
      "source": [
        "##B4"
      ],
      "metadata": {
        "id": "P3LwJRdeglXX"
      }
    },
    {
      "cell_type": "code",
      "source": [
        "table_B4 = pd.read_excel(BB, sheet_name='B4')\n",
        "table_B4"
      ],
      "metadata": {
        "colab": {
          "base_uri": "https://localhost:8080/",
          "height": 832
        },
        "id": "XA_s6kmrglXX",
        "outputId": "a0fdccd4-83dc-4e43-99b2-b792a85491df"
      },
      "execution_count": 132,
      "outputs": [
        {
          "output_type": "execute_result",
          "data": {
            "text/html": [
              "\n",
              "  <div id=\"df-1b3620f3-ac6f-4df3-829d-acf2aa4b6fca\">\n",
              "    <div class=\"colab-df-container\">\n",
              "      <div>\n",
              "<style scoped>\n",
              "    .dataframe tbody tr th:only-of-type {\n",
              "        vertical-align: middle;\n",
              "    }\n",
              "\n",
              "    .dataframe tbody tr th {\n",
              "        vertical-align: top;\n",
              "    }\n",
              "\n",
              "    .dataframe thead th {\n",
              "        text-align: right;\n",
              "    }\n",
              "</style>\n",
              "<table border=\"1\" class=\"dataframe\">\n",
              "  <thead>\n",
              "    <tr style=\"text-align: right;\">\n",
              "      <th></th>\n",
              "      <th>R-ref</th>\n",
              "      <th>G-ref</th>\n",
              "      <th>B-ref</th>\n",
              "      <th>R-Shad</th>\n",
              "      <th>G-Shad</th>\n",
              "      <th>B-Shad</th>\n",
              "      <th>H-ref</th>\n",
              "      <th>S-ref</th>\n",
              "      <th>V-ref</th>\n",
              "      <th>H-Shad</th>\n",
              "      <th>S-Shad</th>\n",
              "      <th>V-Shad</th>\n",
              "      <th>Shade-ref</th>\n",
              "      <th>Shade</th>\n",
              "      <th>Setting</th>\n",
              "      <th>Img</th>\n",
              "    </tr>\n",
              "  </thead>\n",
              "  <tbody>\n",
              "    <tr>\n",
              "      <th>0</th>\n",
              "      <td>237.172985</td>\n",
              "      <td>225.596383</td>\n",
              "      <td>191.776924</td>\n",
              "      <td>237.828505</td>\n",
              "      <td>226.460326</td>\n",
              "      <td>193.279482</td>\n",
              "      <td>22.295755</td>\n",
              "      <td>48.938885</td>\n",
              "      <td>237.144469</td>\n",
              "      <td>22.332764</td>\n",
              "      <td>47.917502</td>\n",
              "      <td>237.810967</td>\n",
              "      <td>B4</td>\n",
              "      <td>A1</td>\n",
              "      <td>Set1</td>\n",
              "      <td>34B2D0A4-AE20-440B-976D-34704AC67DBF.png</td>\n",
              "    </tr>\n",
              "    <tr>\n",
              "      <th>1</th>\n",
              "      <td>239.246246</td>\n",
              "      <td>221.661797</td>\n",
              "      <td>177.409220</td>\n",
              "      <td>239.869853</td>\n",
              "      <td>222.532181</td>\n",
              "      <td>178.897233</td>\n",
              "      <td>22.295755</td>\n",
              "      <td>48.938885</td>\n",
              "      <td>237.144469</td>\n",
              "      <td>22.332764</td>\n",
              "      <td>47.917502</td>\n",
              "      <td>237.810967</td>\n",
              "      <td>B4</td>\n",
              "      <td>A1</td>\n",
              "      <td>Set1</td>\n",
              "      <td>749D68C6-4CBE-4281-936D-2E903F24C84B.png</td>\n",
              "    </tr>\n",
              "    <tr>\n",
              "      <th>2</th>\n",
              "      <td>237.328788</td>\n",
              "      <td>211.283256</td>\n",
              "      <td>155.065985</td>\n",
              "      <td>238.087547</td>\n",
              "      <td>212.420596</td>\n",
              "      <td>156.950573</td>\n",
              "      <td>20.723724</td>\n",
              "      <td>88.424560</td>\n",
              "      <td>237.328788</td>\n",
              "      <td>20.721926</td>\n",
              "      <td>86.986061</td>\n",
              "      <td>238.087547</td>\n",
              "      <td>B4</td>\n",
              "      <td>A1</td>\n",
              "      <td>Set1</td>\n",
              "      <td>FF438080-DFCE-4992-80C7-BC7FD4258D18.png</td>\n",
              "    </tr>\n",
              "    <tr>\n",
              "      <th>3</th>\n",
              "      <td>236.773314</td>\n",
              "      <td>209.917864</td>\n",
              "      <td>155.544355</td>\n",
              "      <td>237.385748</td>\n",
              "      <td>210.931939</td>\n",
              "      <td>157.041818</td>\n",
              "      <td>20.189676</td>\n",
              "      <td>87.558072</td>\n",
              "      <td>236.773314</td>\n",
              "      <td>20.244791</td>\n",
              "      <td>86.400541</td>\n",
              "      <td>237.385748</td>\n",
              "      <td>B4</td>\n",
              "      <td>A1</td>\n",
              "      <td>Set1</td>\n",
              "      <td>94EA0AEE-7090-4878-B886-C6D839442A90.png</td>\n",
              "    </tr>\n",
              "    <tr>\n",
              "      <th>4</th>\n",
              "      <td>238.599951</td>\n",
              "      <td>222.450207</td>\n",
              "      <td>177.512702</td>\n",
              "      <td>237.828505</td>\n",
              "      <td>226.460326</td>\n",
              "      <td>193.279482</td>\n",
              "      <td>22.168006</td>\n",
              "      <td>65.331954</td>\n",
              "      <td>238.599951</td>\n",
              "      <td>22.186189</td>\n",
              "      <td>64.179290</td>\n",
              "      <td>239.099139</td>\n",
              "      <td>B4</td>\n",
              "      <td>A1</td>\n",
              "      <td>Set1</td>\n",
              "      <td>1F086831-AF5B-4D7E-8E33-15C8CE2CF0B7.png</td>\n",
              "    </tr>\n",
              "    <tr>\n",
              "      <th>...</th>\n",
              "      <td>...</td>\n",
              "      <td>...</td>\n",
              "      <td>...</td>\n",
              "      <td>...</td>\n",
              "      <td>...</td>\n",
              "      <td>...</td>\n",
              "      <td>...</td>\n",
              "      <td>...</td>\n",
              "      <td>...</td>\n",
              "      <td>...</td>\n",
              "      <td>...</td>\n",
              "      <td>...</td>\n",
              "      <td>...</td>\n",
              "      <td>...</td>\n",
              "      <td>...</td>\n",
              "      <td>...</td>\n",
              "    </tr>\n",
              "    <tr>\n",
              "      <th>3195</th>\n",
              "      <td>219.796364</td>\n",
              "      <td>220.248600</td>\n",
              "      <td>203.640370</td>\n",
              "      <td>219.211934</td>\n",
              "      <td>219.766731</td>\n",
              "      <td>203.270322</td>\n",
              "      <td>31.111598</td>\n",
              "      <td>19.560669</td>\n",
              "      <td>220.568055</td>\n",
              "      <td>31.312851</td>\n",
              "      <td>19.433184</td>\n",
              "      <td>220.052343</td>\n",
              "      <td>B4</td>\n",
              "      <td>D4</td>\n",
              "      <td>Set4</td>\n",
              "      <td>E8ED1D38-6C16-42ED-A658-58070626D8F1.png</td>\n",
              "    </tr>\n",
              "    <tr>\n",
              "      <th>3196</th>\n",
              "      <td>215.312718</td>\n",
              "      <td>216.245759</td>\n",
              "      <td>196.157455</td>\n",
              "      <td>214.860323</td>\n",
              "      <td>215.754498</td>\n",
              "      <td>195.762108</td>\n",
              "      <td>28.454590</td>\n",
              "      <td>52.051295</td>\n",
              "      <td>221.314991</td>\n",
              "      <td>28.269469</td>\n",
              "      <td>52.384325</td>\n",
              "      <td>220.852002</td>\n",
              "      <td>B4</td>\n",
              "      <td>D4</td>\n",
              "      <td>Set4</td>\n",
              "      <td>094AD7F5-5108-42D2-83AE-4B037D362173.png</td>\n",
              "    </tr>\n",
              "    <tr>\n",
              "      <th>3197</th>\n",
              "      <td>215.690610</td>\n",
              "      <td>216.009902</td>\n",
              "      <td>196.406055</td>\n",
              "      <td>215.166773</td>\n",
              "      <td>215.486879</td>\n",
              "      <td>195.933291</td>\n",
              "      <td>30.849525</td>\n",
              "      <td>23.662609</td>\n",
              "      <td>216.485350</td>\n",
              "      <td>30.867293</td>\n",
              "      <td>23.636228</td>\n",
              "      <td>215.959036</td>\n",
              "      <td>B4</td>\n",
              "      <td>D4</td>\n",
              "      <td>Set4</td>\n",
              "      <td>1047654A-B1CA-45B5-9EA7-8FDBE1B2C704.png</td>\n",
              "    </tr>\n",
              "    <tr>\n",
              "      <th>3198</th>\n",
              "      <td>213.749290</td>\n",
              "      <td>210.436328</td>\n",
              "      <td>181.714877</td>\n",
              "      <td>213.046725</td>\n",
              "      <td>209.822132</td>\n",
              "      <td>181.286679</td>\n",
              "      <td>26.683954</td>\n",
              "      <td>38.233260</td>\n",
              "      <td>213.749290</td>\n",
              "      <td>26.767157</td>\n",
              "      <td>38.010668</td>\n",
              "      <td>213.046725</td>\n",
              "      <td>B4</td>\n",
              "      <td>D4</td>\n",
              "      <td>Set4</td>\n",
              "      <td>2AC65698-9959-467C-BF00-EC65879EEB15.png</td>\n",
              "    </tr>\n",
              "    <tr>\n",
              "      <th>3199</th>\n",
              "      <td>211.214674</td>\n",
              "      <td>204.185537</td>\n",
              "      <td>158.897330</td>\n",
              "      <td>210.905910</td>\n",
              "      <td>203.783372</td>\n",
              "      <td>158.707275</td>\n",
              "      <td>26.202337</td>\n",
              "      <td>63.120039</td>\n",
              "      <td>211.214674</td>\n",
              "      <td>26.147358</td>\n",
              "      <td>63.070194</td>\n",
              "      <td>210.905910</td>\n",
              "      <td>B4</td>\n",
              "      <td>D4</td>\n",
              "      <td>Set4</td>\n",
              "      <td>B736DF83-AEA3-4E3C-94D7-E81EB850FD08.png</td>\n",
              "    </tr>\n",
              "  </tbody>\n",
              "</table>\n",
              "<p>3200 rows × 16 columns</p>\n",
              "</div>\n",
              "      <button class=\"colab-df-convert\" onclick=\"convertToInteractive('df-1b3620f3-ac6f-4df3-829d-acf2aa4b6fca')\"\n",
              "              title=\"Convert this dataframe to an interactive table.\"\n",
              "              style=\"display:none;\">\n",
              "        \n",
              "  <svg xmlns=\"http://www.w3.org/2000/svg\" height=\"24px\"viewBox=\"0 0 24 24\"\n",
              "       width=\"24px\">\n",
              "    <path d=\"M0 0h24v24H0V0z\" fill=\"none\"/>\n",
              "    <path d=\"M18.56 5.44l.94 2.06.94-2.06 2.06-.94-2.06-.94-.94-2.06-.94 2.06-2.06.94zm-11 1L8.5 8.5l.94-2.06 2.06-.94-2.06-.94L8.5 2.5l-.94 2.06-2.06.94zm10 10l.94 2.06.94-2.06 2.06-.94-2.06-.94-.94-2.06-.94 2.06-2.06.94z\"/><path d=\"M17.41 7.96l-1.37-1.37c-.4-.4-.92-.59-1.43-.59-.52 0-1.04.2-1.43.59L10.3 9.45l-7.72 7.72c-.78.78-.78 2.05 0 2.83L4 21.41c.39.39.9.59 1.41.59.51 0 1.02-.2 1.41-.59l7.78-7.78 2.81-2.81c.8-.78.8-2.07 0-2.86zM5.41 20L4 18.59l7.72-7.72 1.47 1.35L5.41 20z\"/>\n",
              "  </svg>\n",
              "      </button>\n",
              "      \n",
              "  <style>\n",
              "    .colab-df-container {\n",
              "      display:flex;\n",
              "      flex-wrap:wrap;\n",
              "      gap: 12px;\n",
              "    }\n",
              "\n",
              "    .colab-df-convert {\n",
              "      background-color: #E8F0FE;\n",
              "      border: none;\n",
              "      border-radius: 50%;\n",
              "      cursor: pointer;\n",
              "      display: none;\n",
              "      fill: #1967D2;\n",
              "      height: 32px;\n",
              "      padding: 0 0 0 0;\n",
              "      width: 32px;\n",
              "    }\n",
              "\n",
              "    .colab-df-convert:hover {\n",
              "      background-color: #E2EBFA;\n",
              "      box-shadow: 0px 1px 2px rgba(60, 64, 67, 0.3), 0px 1px 3px 1px rgba(60, 64, 67, 0.15);\n",
              "      fill: #174EA6;\n",
              "    }\n",
              "\n",
              "    [theme=dark] .colab-df-convert {\n",
              "      background-color: #3B4455;\n",
              "      fill: #D2E3FC;\n",
              "    }\n",
              "\n",
              "    [theme=dark] .colab-df-convert:hover {\n",
              "      background-color: #434B5C;\n",
              "      box-shadow: 0px 1px 3px 1px rgba(0, 0, 0, 0.15);\n",
              "      filter: drop-shadow(0px 1px 2px rgba(0, 0, 0, 0.3));\n",
              "      fill: #FFFFFF;\n",
              "    }\n",
              "  </style>\n",
              "\n",
              "      <script>\n",
              "        const buttonEl =\n",
              "          document.querySelector('#df-1b3620f3-ac6f-4df3-829d-acf2aa4b6fca button.colab-df-convert');\n",
              "        buttonEl.style.display =\n",
              "          google.colab.kernel.accessAllowed ? 'block' : 'none';\n",
              "\n",
              "        async function convertToInteractive(key) {\n",
              "          const element = document.querySelector('#df-1b3620f3-ac6f-4df3-829d-acf2aa4b6fca');\n",
              "          const dataTable =\n",
              "            await google.colab.kernel.invokeFunction('convertToInteractive',\n",
              "                                                     [key], {});\n",
              "          if (!dataTable) return;\n",
              "\n",
              "          const docLinkHtml = 'Like what you see? Visit the ' +\n",
              "            '<a target=\"_blank\" href=https://colab.research.google.com/notebooks/data_table.ipynb>data table notebook</a>'\n",
              "            + ' to learn more about interactive tables.';\n",
              "          element.innerHTML = '';\n",
              "          dataTable['output_type'] = 'display_data';\n",
              "          await google.colab.output.renderOutput(dataTable, element);\n",
              "          const docLink = document.createElement('div');\n",
              "          docLink.innerHTML = docLinkHtml;\n",
              "          element.appendChild(docLink);\n",
              "        }\n",
              "      </script>\n",
              "    </div>\n",
              "  </div>\n",
              "  "
            ],
            "text/plain": [
              "           R-ref       G-ref  ...  Setting                                       Img\n",
              "0     237.172985  225.596383  ...     Set1  34B2D0A4-AE20-440B-976D-34704AC67DBF.png\n",
              "1     239.246246  221.661797  ...     Set1  749D68C6-4CBE-4281-936D-2E903F24C84B.png\n",
              "2     237.328788  211.283256  ...     Set1  FF438080-DFCE-4992-80C7-BC7FD4258D18.png\n",
              "3     236.773314  209.917864  ...     Set1  94EA0AEE-7090-4878-B886-C6D839442A90.png\n",
              "4     238.599951  222.450207  ...     Set1  1F086831-AF5B-4D7E-8E33-15C8CE2CF0B7.png\n",
              "...          ...         ...  ...      ...                                       ...\n",
              "3195  219.796364  220.248600  ...     Set4  E8ED1D38-6C16-42ED-A658-58070626D8F1.png\n",
              "3196  215.312718  216.245759  ...     Set4  094AD7F5-5108-42D2-83AE-4B037D362173.png\n",
              "3197  215.690610  216.009902  ...     Set4  1047654A-B1CA-45B5-9EA7-8FDBE1B2C704.png\n",
              "3198  213.749290  210.436328  ...     Set4  2AC65698-9959-467C-BF00-EC65879EEB15.png\n",
              "3199  211.214674  204.185537  ...     Set4  B736DF83-AEA3-4E3C-94D7-E81EB850FD08.png\n",
              "\n",
              "[3200 rows x 16 columns]"
            ]
          },
          "metadata": {},
          "execution_count": 132
        }
      ]
    },
    {
      "cell_type": "code",
      "source": [
        "RGB_B4 = table_B4.drop(['H-ref','S-ref','V-ref','S-Shad','V-Shad','Shade-ref','Setting','Img','Shade','H-Shad'], axis=1)"
      ],
      "metadata": {
        "id": "bTorN1AeglXX"
      },
      "execution_count": 133,
      "outputs": []
    },
    {
      "cell_type": "code",
      "source": [
        "X_B4 = np.array(RGB_B4)"
      ],
      "metadata": {
        "id": "hnRsfeT7glXX"
      },
      "execution_count": 134,
      "outputs": []
    },
    {
      "cell_type": "code",
      "source": [
        "y_B4 =  table_B4.iloc[:,13:14]"
      ],
      "metadata": {
        "id": "1lFFH9ZVglXX"
      },
      "execution_count": 135,
      "outputs": []
    },
    {
      "cell_type": "code",
      "source": [
        "y_B4 = np.array(y_B4)\n",
        "y_B4"
      ],
      "metadata": {
        "colab": {
          "base_uri": "https://localhost:8080/"
        },
        "id": "iS9ITV8HglXY",
        "outputId": "13db9a87-2c0e-4fcf-e548-66499603e67e"
      },
      "execution_count": 136,
      "outputs": [
        {
          "output_type": "execute_result",
          "data": {
            "text/plain": [
              "array([['A1'],\n",
              "       ['A1'],\n",
              "       ['A1'],\n",
              "       ...,\n",
              "       ['D4'],\n",
              "       ['D4'],\n",
              "       ['D4']], dtype=object)"
            ]
          },
          "metadata": {},
          "execution_count": 136
        }
      ]
    },
    {
      "cell_type": "code",
      "source": [
        "X_test_B4, X_train_B4 , y_test_B4, y_train_B4 = train_test_split(X_B4, y_B4, test_size=80, train_size=320)"
      ],
      "metadata": {
        "id": "jSYuKeaDsxJd"
      },
      "execution_count": 247,
      "outputs": []
    },
    {
      "cell_type": "code",
      "source": [
        "clf.fit(X_train_B4, y_train_B4)"
      ],
      "metadata": {
        "colab": {
          "base_uri": "https://localhost:8080/"
        },
        "id": "DUYS0GvsglXY",
        "outputId": "bfd28f2c-3ee8-4ef4-efdb-12d81a0a3526"
      },
      "execution_count": 248,
      "outputs": [
        {
          "output_type": "stream",
          "name": "stderr",
          "text": [
            "/usr/local/lib/python3.7/dist-packages/sklearn/utils/validation.py:985: DataConversionWarning: A column-vector y was passed when a 1d array was expected. Please change the shape of y to (n_samples, ), for example using ravel().\n",
            "  y = column_or_1d(y, warn=True)\n"
          ]
        },
        {
          "output_type": "execute_result",
          "data": {
            "text/plain": [
              "SVC(kernel='poly')"
            ]
          },
          "metadata": {},
          "execution_count": 248
        }
      ]
    },
    {
      "cell_type": "code",
      "source": [
        "y_pred_B4 = clf.predict(X_test_B4)"
      ],
      "metadata": {
        "id": "_82eYzO8glXY"
      },
      "execution_count": 249,
      "outputs": []
    },
    {
      "cell_type": "code",
      "source": [
        "print(\"Accuracy:\", metrics.accuracy_score(y_test_B4, y_pred_B4))"
      ],
      "metadata": {
        "colab": {
          "base_uri": "https://localhost:8080/"
        },
        "id": "iVJSdzp9glXZ",
        "outputId": "952a0bee-e280-40eb-fec1-7efe553b8f31"
      },
      "execution_count": 250,
      "outputs": [
        {
          "output_type": "stream",
          "name": "stdout",
          "text": [
            "Accuracy: 0.059375\n"
          ]
        }
      ]
    },
    {
      "cell_type": "markdown",
      "source": [
        "#CC"
      ],
      "metadata": {
        "id": "pa2cYmLhh2F6"
      }
    },
    {
      "cell_type": "markdown",
      "source": [
        "##C1"
      ],
      "metadata": {
        "id": "AB7xN5H9h2F7"
      }
    },
    {
      "cell_type": "code",
      "source": [
        "table_C1= pd.read_excel(CC, sheet_name='C1')\n",
        "table_C1"
      ],
      "metadata": {
        "colab": {
          "base_uri": "https://localhost:8080/",
          "height": 832
        },
        "outputId": "7f67b88e-187d-41cc-90c8-c92553bc3800",
        "id": "xTF8P08bh2F7"
      },
      "execution_count": 142,
      "outputs": [
        {
          "output_type": "execute_result",
          "data": {
            "text/html": [
              "\n",
              "  <div id=\"df-fb9a6ae0-af01-4761-b470-9ecae903555a\">\n",
              "    <div class=\"colab-df-container\">\n",
              "      <div>\n",
              "<style scoped>\n",
              "    .dataframe tbody tr th:only-of-type {\n",
              "        vertical-align: middle;\n",
              "    }\n",
              "\n",
              "    .dataframe tbody tr th {\n",
              "        vertical-align: top;\n",
              "    }\n",
              "\n",
              "    .dataframe thead th {\n",
              "        text-align: right;\n",
              "    }\n",
              "</style>\n",
              "<table border=\"1\" class=\"dataframe\">\n",
              "  <thead>\n",
              "    <tr style=\"text-align: right;\">\n",
              "      <th></th>\n",
              "      <th>R-ref</th>\n",
              "      <th>G-ref</th>\n",
              "      <th>B-ref</th>\n",
              "      <th>R-Shad</th>\n",
              "      <th>G-Shad</th>\n",
              "      <th>B-Shad</th>\n",
              "      <th>H-ref</th>\n",
              "      <th>S-ref</th>\n",
              "      <th>V-ref</th>\n",
              "      <th>H-Shad</th>\n",
              "      <th>S-Shad</th>\n",
              "      <th>V-Shad</th>\n",
              "      <th>Shade-ref</th>\n",
              "      <th>Shade</th>\n",
              "      <th>Setting</th>\n",
              "      <th>Img</th>\n",
              "    </tr>\n",
              "  </thead>\n",
              "  <tbody>\n",
              "    <tr>\n",
              "      <th>0</th>\n",
              "      <td>235.799935</td>\n",
              "      <td>224.516030</td>\n",
              "      <td>190.873549</td>\n",
              "      <td>236.478202</td>\n",
              "      <td>225.354384</td>\n",
              "      <td>192.366332</td>\n",
              "      <td>22.539810</td>\n",
              "      <td>48.802938</td>\n",
              "      <td>235.882396</td>\n",
              "      <td>22.513975</td>\n",
              "      <td>47.750871</td>\n",
              "      <td>236.545338</td>\n",
              "      <td>C1</td>\n",
              "      <td>A1</td>\n",
              "      <td>Set1</td>\n",
              "      <td>998EA81C-77D0-4357-9197-D7AEAAAE4F91.png</td>\n",
              "    </tr>\n",
              "    <tr>\n",
              "      <th>1</th>\n",
              "      <td>238.009577</td>\n",
              "      <td>218.146498</td>\n",
              "      <td>168.652788</td>\n",
              "      <td>238.456155</td>\n",
              "      <td>218.892397</td>\n",
              "      <td>169.966219</td>\n",
              "      <td>21.391040</td>\n",
              "      <td>74.313854</td>\n",
              "      <td>238.009577</td>\n",
              "      <td>21.449968</td>\n",
              "      <td>73.265842</td>\n",
              "      <td>238.456155</td>\n",
              "      <td>C1</td>\n",
              "      <td>A1</td>\n",
              "      <td>Set1</td>\n",
              "      <td>C69EF426-D68B-4503-AFC0-A62E37CCB172.png</td>\n",
              "    </tr>\n",
              "    <tr>\n",
              "      <th>2</th>\n",
              "      <td>238.416687</td>\n",
              "      <td>212.713660</td>\n",
              "      <td>158.665693</td>\n",
              "      <td>239.056255</td>\n",
              "      <td>213.774056</td>\n",
              "      <td>160.482754</td>\n",
              "      <td>22.539810</td>\n",
              "      <td>48.802938</td>\n",
              "      <td>235.882396</td>\n",
              "      <td>22.513975</td>\n",
              "      <td>47.750871</td>\n",
              "      <td>236.545338</td>\n",
              "      <td>C1</td>\n",
              "      <td>A1</td>\n",
              "      <td>Set1</td>\n",
              "      <td>95C4078C-AD0D-4394-BCF6-9C2E1E7C2219.png</td>\n",
              "    </tr>\n",
              "    <tr>\n",
              "      <th>3</th>\n",
              "      <td>239.417986</td>\n",
              "      <td>227.436572</td>\n",
              "      <td>192.575603</td>\n",
              "      <td>239.889624</td>\n",
              "      <td>228.078444</td>\n",
              "      <td>193.459640</td>\n",
              "      <td>22.327571</td>\n",
              "      <td>49.921191</td>\n",
              "      <td>239.417986</td>\n",
              "      <td>22.373160</td>\n",
              "      <td>49.390157</td>\n",
              "      <td>239.889624</td>\n",
              "      <td>C1</td>\n",
              "      <td>A1</td>\n",
              "      <td>Set1</td>\n",
              "      <td>770F3E42-0415-48C8-AE28-664827DCDAAE.png</td>\n",
              "    </tr>\n",
              "    <tr>\n",
              "      <th>4</th>\n",
              "      <td>239.556448</td>\n",
              "      <td>216.784027</td>\n",
              "      <td>161.199740</td>\n",
              "      <td>240.061944</td>\n",
              "      <td>217.745111</td>\n",
              "      <td>163.031079</td>\n",
              "      <td>21.443146</td>\n",
              "      <td>83.446474</td>\n",
              "      <td>239.556448</td>\n",
              "      <td>21.478060</td>\n",
              "      <td>81.900078</td>\n",
              "      <td>240.062229</td>\n",
              "      <td>C1</td>\n",
              "      <td>A1</td>\n",
              "      <td>Set1</td>\n",
              "      <td>AFD98982-91EB-4E2A-BEA8-8FDCCC8F33E1.png</td>\n",
              "    </tr>\n",
              "    <tr>\n",
              "      <th>...</th>\n",
              "      <td>...</td>\n",
              "      <td>...</td>\n",
              "      <td>...</td>\n",
              "      <td>...</td>\n",
              "      <td>...</td>\n",
              "      <td>...</td>\n",
              "      <td>...</td>\n",
              "      <td>...</td>\n",
              "      <td>...</td>\n",
              "      <td>...</td>\n",
              "      <td>...</td>\n",
              "      <td>...</td>\n",
              "      <td>...</td>\n",
              "      <td>...</td>\n",
              "      <td>...</td>\n",
              "      <td>...</td>\n",
              "    </tr>\n",
              "    <tr>\n",
              "      <th>3195</th>\n",
              "      <td>219.796364</td>\n",
              "      <td>220.248600</td>\n",
              "      <td>203.640370</td>\n",
              "      <td>219.211934</td>\n",
              "      <td>219.766731</td>\n",
              "      <td>203.270322</td>\n",
              "      <td>31.111598</td>\n",
              "      <td>19.560669</td>\n",
              "      <td>220.568055</td>\n",
              "      <td>31.312851</td>\n",
              "      <td>19.433184</td>\n",
              "      <td>220.052343</td>\n",
              "      <td>C1</td>\n",
              "      <td>D4</td>\n",
              "      <td>Set4</td>\n",
              "      <td>F5353A8F-C3DA-49EB-8703-FE4D5E4FB54D.png</td>\n",
              "    </tr>\n",
              "    <tr>\n",
              "      <th>3196</th>\n",
              "      <td>215.312718</td>\n",
              "      <td>216.245759</td>\n",
              "      <td>196.157455</td>\n",
              "      <td>214.860323</td>\n",
              "      <td>215.754498</td>\n",
              "      <td>195.762108</td>\n",
              "      <td>28.454590</td>\n",
              "      <td>52.051295</td>\n",
              "      <td>221.314991</td>\n",
              "      <td>28.269469</td>\n",
              "      <td>52.384325</td>\n",
              "      <td>220.852002</td>\n",
              "      <td>C1</td>\n",
              "      <td>D4</td>\n",
              "      <td>Set4</td>\n",
              "      <td>E2AE5BAB-42F7-4FEA-B83B-C1BB26EF45AB.png</td>\n",
              "    </tr>\n",
              "    <tr>\n",
              "      <th>3197</th>\n",
              "      <td>215.690610</td>\n",
              "      <td>216.009902</td>\n",
              "      <td>196.406055</td>\n",
              "      <td>215.166773</td>\n",
              "      <td>215.486879</td>\n",
              "      <td>195.933291</td>\n",
              "      <td>30.849525</td>\n",
              "      <td>23.662609</td>\n",
              "      <td>216.485350</td>\n",
              "      <td>30.867293</td>\n",
              "      <td>23.636228</td>\n",
              "      <td>215.959036</td>\n",
              "      <td>C1</td>\n",
              "      <td>D4</td>\n",
              "      <td>Set4</td>\n",
              "      <td>3E52E4A6-956C-4393-A0F0-6856D436D35D.png</td>\n",
              "    </tr>\n",
              "    <tr>\n",
              "      <th>3198</th>\n",
              "      <td>213.749290</td>\n",
              "      <td>210.436328</td>\n",
              "      <td>181.714877</td>\n",
              "      <td>213.046725</td>\n",
              "      <td>209.822132</td>\n",
              "      <td>181.286679</td>\n",
              "      <td>26.683954</td>\n",
              "      <td>38.233260</td>\n",
              "      <td>213.749290</td>\n",
              "      <td>26.767157</td>\n",
              "      <td>38.010668</td>\n",
              "      <td>213.046725</td>\n",
              "      <td>C1</td>\n",
              "      <td>D4</td>\n",
              "      <td>Set4</td>\n",
              "      <td>E214531D-5D8E-4221-B946-5C9CCD1063F7.png</td>\n",
              "    </tr>\n",
              "    <tr>\n",
              "      <th>3199</th>\n",
              "      <td>211.214674</td>\n",
              "      <td>204.185537</td>\n",
              "      <td>158.897330</td>\n",
              "      <td>210.905910</td>\n",
              "      <td>203.783372</td>\n",
              "      <td>158.707275</td>\n",
              "      <td>26.202337</td>\n",
              "      <td>63.120039</td>\n",
              "      <td>211.214674</td>\n",
              "      <td>26.147358</td>\n",
              "      <td>63.070194</td>\n",
              "      <td>210.905910</td>\n",
              "      <td>C1</td>\n",
              "      <td>D4</td>\n",
              "      <td>Set4</td>\n",
              "      <td>3629EEB4-D148-4445-A00D-48AAA98C7F77.png</td>\n",
              "    </tr>\n",
              "  </tbody>\n",
              "</table>\n",
              "<p>3200 rows × 16 columns</p>\n",
              "</div>\n",
              "      <button class=\"colab-df-convert\" onclick=\"convertToInteractive('df-fb9a6ae0-af01-4761-b470-9ecae903555a')\"\n",
              "              title=\"Convert this dataframe to an interactive table.\"\n",
              "              style=\"display:none;\">\n",
              "        \n",
              "  <svg xmlns=\"http://www.w3.org/2000/svg\" height=\"24px\"viewBox=\"0 0 24 24\"\n",
              "       width=\"24px\">\n",
              "    <path d=\"M0 0h24v24H0V0z\" fill=\"none\"/>\n",
              "    <path d=\"M18.56 5.44l.94 2.06.94-2.06 2.06-.94-2.06-.94-.94-2.06-.94 2.06-2.06.94zm-11 1L8.5 8.5l.94-2.06 2.06-.94-2.06-.94L8.5 2.5l-.94 2.06-2.06.94zm10 10l.94 2.06.94-2.06 2.06-.94-2.06-.94-.94-2.06-.94 2.06-2.06.94z\"/><path d=\"M17.41 7.96l-1.37-1.37c-.4-.4-.92-.59-1.43-.59-.52 0-1.04.2-1.43.59L10.3 9.45l-7.72 7.72c-.78.78-.78 2.05 0 2.83L4 21.41c.39.39.9.59 1.41.59.51 0 1.02-.2 1.41-.59l7.78-7.78 2.81-2.81c.8-.78.8-2.07 0-2.86zM5.41 20L4 18.59l7.72-7.72 1.47 1.35L5.41 20z\"/>\n",
              "  </svg>\n",
              "      </button>\n",
              "      \n",
              "  <style>\n",
              "    .colab-df-container {\n",
              "      display:flex;\n",
              "      flex-wrap:wrap;\n",
              "      gap: 12px;\n",
              "    }\n",
              "\n",
              "    .colab-df-convert {\n",
              "      background-color: #E8F0FE;\n",
              "      border: none;\n",
              "      border-radius: 50%;\n",
              "      cursor: pointer;\n",
              "      display: none;\n",
              "      fill: #1967D2;\n",
              "      height: 32px;\n",
              "      padding: 0 0 0 0;\n",
              "      width: 32px;\n",
              "    }\n",
              "\n",
              "    .colab-df-convert:hover {\n",
              "      background-color: #E2EBFA;\n",
              "      box-shadow: 0px 1px 2px rgba(60, 64, 67, 0.3), 0px 1px 3px 1px rgba(60, 64, 67, 0.15);\n",
              "      fill: #174EA6;\n",
              "    }\n",
              "\n",
              "    [theme=dark] .colab-df-convert {\n",
              "      background-color: #3B4455;\n",
              "      fill: #D2E3FC;\n",
              "    }\n",
              "\n",
              "    [theme=dark] .colab-df-convert:hover {\n",
              "      background-color: #434B5C;\n",
              "      box-shadow: 0px 1px 3px 1px rgba(0, 0, 0, 0.15);\n",
              "      filter: drop-shadow(0px 1px 2px rgba(0, 0, 0, 0.3));\n",
              "      fill: #FFFFFF;\n",
              "    }\n",
              "  </style>\n",
              "\n",
              "      <script>\n",
              "        const buttonEl =\n",
              "          document.querySelector('#df-fb9a6ae0-af01-4761-b470-9ecae903555a button.colab-df-convert');\n",
              "        buttonEl.style.display =\n",
              "          google.colab.kernel.accessAllowed ? 'block' : 'none';\n",
              "\n",
              "        async function convertToInteractive(key) {\n",
              "          const element = document.querySelector('#df-fb9a6ae0-af01-4761-b470-9ecae903555a');\n",
              "          const dataTable =\n",
              "            await google.colab.kernel.invokeFunction('convertToInteractive',\n",
              "                                                     [key], {});\n",
              "          if (!dataTable) return;\n",
              "\n",
              "          const docLinkHtml = 'Like what you see? Visit the ' +\n",
              "            '<a target=\"_blank\" href=https://colab.research.google.com/notebooks/data_table.ipynb>data table notebook</a>'\n",
              "            + ' to learn more about interactive tables.';\n",
              "          element.innerHTML = '';\n",
              "          dataTable['output_type'] = 'display_data';\n",
              "          await google.colab.output.renderOutput(dataTable, element);\n",
              "          const docLink = document.createElement('div');\n",
              "          docLink.innerHTML = docLinkHtml;\n",
              "          element.appendChild(docLink);\n",
              "        }\n",
              "      </script>\n",
              "    </div>\n",
              "  </div>\n",
              "  "
            ],
            "text/plain": [
              "           R-ref       G-ref  ...  Setting                                       Img\n",
              "0     235.799935  224.516030  ...     Set1  998EA81C-77D0-4357-9197-D7AEAAAE4F91.png\n",
              "1     238.009577  218.146498  ...     Set1  C69EF426-D68B-4503-AFC0-A62E37CCB172.png\n",
              "2     238.416687  212.713660  ...     Set1  95C4078C-AD0D-4394-BCF6-9C2E1E7C2219.png\n",
              "3     239.417986  227.436572  ...     Set1  770F3E42-0415-48C8-AE28-664827DCDAAE.png\n",
              "4     239.556448  216.784027  ...     Set1  AFD98982-91EB-4E2A-BEA8-8FDCCC8F33E1.png\n",
              "...          ...         ...  ...      ...                                       ...\n",
              "3195  219.796364  220.248600  ...     Set4  F5353A8F-C3DA-49EB-8703-FE4D5E4FB54D.png\n",
              "3196  215.312718  216.245759  ...     Set4  E2AE5BAB-42F7-4FEA-B83B-C1BB26EF45AB.png\n",
              "3197  215.690610  216.009902  ...     Set4  3E52E4A6-956C-4393-A0F0-6856D436D35D.png\n",
              "3198  213.749290  210.436328  ...     Set4  E214531D-5D8E-4221-B946-5C9CCD1063F7.png\n",
              "3199  211.214674  204.185537  ...     Set4  3629EEB4-D148-4445-A00D-48AAA98C7F77.png\n",
              "\n",
              "[3200 rows x 16 columns]"
            ]
          },
          "metadata": {},
          "execution_count": 142
        }
      ]
    },
    {
      "cell_type": "code",
      "source": [
        "RGB_C1 = table_C1.drop(['H-ref','S-ref','V-ref','S-Shad','V-Shad','Shade-ref','Setting','Img','Shade','H-Shad'], axis=1)"
      ],
      "metadata": {
        "id": "cSFNNKqPh2F7"
      },
      "execution_count": 143,
      "outputs": []
    },
    {
      "cell_type": "code",
      "source": [
        "X_C1 = np.array(RGB_C1)"
      ],
      "metadata": {
        "id": "ukkugqpDh2F7"
      },
      "execution_count": 144,
      "outputs": []
    },
    {
      "cell_type": "code",
      "source": [
        "y_C1 =  table_C1.iloc[:,13:14]"
      ],
      "metadata": {
        "id": "pQKJHlrHh2F7"
      },
      "execution_count": 145,
      "outputs": []
    },
    {
      "cell_type": "code",
      "source": [
        "y_C1 = np.array(y_C1)\n",
        "y_C1"
      ],
      "metadata": {
        "outputId": "d7cd571e-224a-4def-cf9b-2b610b0989b4",
        "colab": {
          "base_uri": "https://localhost:8080/"
        },
        "id": "hJiuhBLrh2F7"
      },
      "execution_count": 146,
      "outputs": [
        {
          "output_type": "execute_result",
          "data": {
            "text/plain": [
              "array([['A1'],\n",
              "       ['A1'],\n",
              "       ['A1'],\n",
              "       ...,\n",
              "       ['D4'],\n",
              "       ['D4'],\n",
              "       ['D4']], dtype=object)"
            ]
          },
          "metadata": {},
          "execution_count": 146
        }
      ]
    },
    {
      "cell_type": "code",
      "source": [
        "X_test_C1, X_train_C1 , y_test_C1, y_train_C1 = train_test_split(X_C1, y_C1, test_size=80, train_size=320)"
      ],
      "metadata": {
        "id": "XxZKUcpSs6f6"
      },
      "execution_count": 251,
      "outputs": []
    },
    {
      "cell_type": "code",
      "source": [
        "clf.fit(X_train_C1, y_train_C1)"
      ],
      "metadata": {
        "outputId": "c18b3530-4f20-42e5-a582-7d9981d71024",
        "colab": {
          "base_uri": "https://localhost:8080/"
        },
        "id": "DyACr8Nxh2F8"
      },
      "execution_count": 252,
      "outputs": [
        {
          "output_type": "stream",
          "name": "stderr",
          "text": [
            "/usr/local/lib/python3.7/dist-packages/sklearn/utils/validation.py:985: DataConversionWarning: A column-vector y was passed when a 1d array was expected. Please change the shape of y to (n_samples, ), for example using ravel().\n",
            "  y = column_or_1d(y, warn=True)\n"
          ]
        },
        {
          "output_type": "execute_result",
          "data": {
            "text/plain": [
              "SVC(kernel='poly')"
            ]
          },
          "metadata": {},
          "execution_count": 252
        }
      ]
    },
    {
      "cell_type": "code",
      "source": [
        "y_pred_C1 = clf.predict(X_test_C1)"
      ],
      "metadata": {
        "id": "LcKXgJpfh2F8"
      },
      "execution_count": 253,
      "outputs": []
    },
    {
      "cell_type": "code",
      "source": [
        "print(\"Accuracy:\", metrics.accuracy_score(y_test_C1, y_pred_C1))"
      ],
      "metadata": {
        "outputId": "5f78a90b-7a37-40d5-d982-fe4885db7f28",
        "colab": {
          "base_uri": "https://localhost:8080/"
        },
        "id": "-2dT_KpMh2F8"
      },
      "execution_count": 254,
      "outputs": [
        {
          "output_type": "stream",
          "name": "stdout",
          "text": [
            "Accuracy: 0.09375\n"
          ]
        }
      ]
    },
    {
      "cell_type": "markdown",
      "source": [
        "##C2"
      ],
      "metadata": {
        "id": "MfMRIbk1h2F8"
      }
    },
    {
      "cell_type": "code",
      "source": [
        "table_C2= pd.read_excel(CC, sheet_name='C2')\n",
        "table_C2"
      ],
      "metadata": {
        "colab": {
          "base_uri": "https://localhost:8080/",
          "height": 832
        },
        "outputId": "397f151e-925b-45f3-8d40-39ffec9aade3",
        "id": "Ab4Hfvr7h2F8"
      },
      "execution_count": 152,
      "outputs": [
        {
          "output_type": "execute_result",
          "data": {
            "text/html": [
              "\n",
              "  <div id=\"df-277656d3-fee3-4932-8c08-0637a32e73bd\">\n",
              "    <div class=\"colab-df-container\">\n",
              "      <div>\n",
              "<style scoped>\n",
              "    .dataframe tbody tr th:only-of-type {\n",
              "        vertical-align: middle;\n",
              "    }\n",
              "\n",
              "    .dataframe tbody tr th {\n",
              "        vertical-align: top;\n",
              "    }\n",
              "\n",
              "    .dataframe thead th {\n",
              "        text-align: right;\n",
              "    }\n",
              "</style>\n",
              "<table border=\"1\" class=\"dataframe\">\n",
              "  <thead>\n",
              "    <tr style=\"text-align: right;\">\n",
              "      <th></th>\n",
              "      <th>R-ref</th>\n",
              "      <th>G-ref</th>\n",
              "      <th>B-ref</th>\n",
              "      <th>R-Shad</th>\n",
              "      <th>G-Shad</th>\n",
              "      <th>B-Shad</th>\n",
              "      <th>H-ref</th>\n",
              "      <th>S-ref</th>\n",
              "      <th>V-ref</th>\n",
              "      <th>H-Shad</th>\n",
              "      <th>S-Shad</th>\n",
              "      <th>V-Shad</th>\n",
              "      <th>Shade-ref</th>\n",
              "      <th>Shade</th>\n",
              "      <th>Setting</th>\n",
              "      <th>Img</th>\n",
              "    </tr>\n",
              "  </thead>\n",
              "  <tbody>\n",
              "    <tr>\n",
              "      <th>0</th>\n",
              "      <td>232.175960</td>\n",
              "      <td>216.874036</td>\n",
              "      <td>178.708465</td>\n",
              "      <td>232.964654</td>\n",
              "      <td>217.832160</td>\n",
              "      <td>180.185122</td>\n",
              "      <td>21.562292</td>\n",
              "      <td>58.762357</td>\n",
              "      <td>232.175960</td>\n",
              "      <td>21.513975</td>\n",
              "      <td>57.839201</td>\n",
              "      <td>232.964654</td>\n",
              "      <td>C2</td>\n",
              "      <td>A1</td>\n",
              "      <td>Set1</td>\n",
              "      <td>94B8BCF4-0790-415E-94D6-F74A6D812F9C.png</td>\n",
              "    </tr>\n",
              "    <tr>\n",
              "      <th>1</th>\n",
              "      <td>231.726077</td>\n",
              "      <td>211.455077</td>\n",
              "      <td>167.223440</td>\n",
              "      <td>232.533177</td>\n",
              "      <td>212.551597</td>\n",
              "      <td>168.982505</td>\n",
              "      <td>20.556367</td>\n",
              "      <td>71.019641</td>\n",
              "      <td>231.726077</td>\n",
              "      <td>20.552237</td>\n",
              "      <td>69.773771</td>\n",
              "      <td>232.533177</td>\n",
              "      <td>C2</td>\n",
              "      <td>A1</td>\n",
              "      <td>Set1</td>\n",
              "      <td>6C2D0804-8381-4BFF-BF38-C0AC1273E618.png</td>\n",
              "    </tr>\n",
              "    <tr>\n",
              "      <th>2</th>\n",
              "      <td>226.100641</td>\n",
              "      <td>197.575278</td>\n",
              "      <td>146.748235</td>\n",
              "      <td>226.795889</td>\n",
              "      <td>198.548539</td>\n",
              "      <td>147.966148</td>\n",
              "      <td>19.189595</td>\n",
              "      <td>89.497849</td>\n",
              "      <td>226.100641</td>\n",
              "      <td>19.239457</td>\n",
              "      <td>88.650238</td>\n",
              "      <td>226.795889</td>\n",
              "      <td>C2</td>\n",
              "      <td>A1</td>\n",
              "      <td>Set1</td>\n",
              "      <td>8BD8561A-0908-4A45-9B23-E1BB2A03640B.png</td>\n",
              "    </tr>\n",
              "    <tr>\n",
              "      <th>3</th>\n",
              "      <td>230.612531</td>\n",
              "      <td>207.562373</td>\n",
              "      <td>164.211752</td>\n",
              "      <td>231.210796</td>\n",
              "      <td>208.351682</td>\n",
              "      <td>165.428561</td>\n",
              "      <td>19.566594</td>\n",
              "      <td>73.461651</td>\n",
              "      <td>230.612531</td>\n",
              "      <td>19.550743</td>\n",
              "      <td>72.606500</td>\n",
              "      <td>231.210796</td>\n",
              "      <td>C2</td>\n",
              "      <td>A1</td>\n",
              "      <td>Set1</td>\n",
              "      <td>6021A5FE-EFB1-4650-84F4-27408DAFC2BA.png</td>\n",
              "    </tr>\n",
              "    <tr>\n",
              "      <th>4</th>\n",
              "      <td>232.133431</td>\n",
              "      <td>209.823472</td>\n",
              "      <td>160.814707</td>\n",
              "      <td>232.841548</td>\n",
              "      <td>211.054264</td>\n",
              "      <td>163.067989</td>\n",
              "      <td>20.814463</td>\n",
              "      <td>78.373996</td>\n",
              "      <td>232.133431</td>\n",
              "      <td>20.855487</td>\n",
              "      <td>76.523434</td>\n",
              "      <td>232.841832</td>\n",
              "      <td>C2</td>\n",
              "      <td>A1</td>\n",
              "      <td>Set1</td>\n",
              "      <td>1D2C4DD2-FF5D-446F-ADC8-BB6C6E19BF79.png</td>\n",
              "    </tr>\n",
              "    <tr>\n",
              "      <th>...</th>\n",
              "      <td>...</td>\n",
              "      <td>...</td>\n",
              "      <td>...</td>\n",
              "      <td>...</td>\n",
              "      <td>...</td>\n",
              "      <td>...</td>\n",
              "      <td>...</td>\n",
              "      <td>...</td>\n",
              "      <td>...</td>\n",
              "      <td>...</td>\n",
              "      <td>...</td>\n",
              "      <td>...</td>\n",
              "      <td>...</td>\n",
              "      <td>...</td>\n",
              "      <td>...</td>\n",
              "      <td>...</td>\n",
              "    </tr>\n",
              "    <tr>\n",
              "      <th>3195</th>\n",
              "      <td>227.208912</td>\n",
              "      <td>204.784677</td>\n",
              "      <td>153.067527</td>\n",
              "      <td>227.125098</td>\n",
              "      <td>204.707844</td>\n",
              "      <td>153.220326</td>\n",
              "      <td>21.013148</td>\n",
              "      <td>83.231394</td>\n",
              "      <td>227.208912</td>\n",
              "      <td>20.985563</td>\n",
              "      <td>82.996017</td>\n",
              "      <td>227.125098</td>\n",
              "      <td>C2</td>\n",
              "      <td>D4</td>\n",
              "      <td>Set4</td>\n",
              "      <td>59EF4224-39B2-41CA-8A14-279C72EAE105.png</td>\n",
              "    </tr>\n",
              "    <tr>\n",
              "      <th>3196</th>\n",
              "      <td>227.348430</td>\n",
              "      <td>209.548413</td>\n",
              "      <td>163.740037</td>\n",
              "      <td>227.223597</td>\n",
              "      <td>209.412062</td>\n",
              "      <td>163.581822</td>\n",
              "      <td>21.552471</td>\n",
              "      <td>92.870627</td>\n",
              "      <td>226.550118</td>\n",
              "      <td>21.542280</td>\n",
              "      <td>92.832302</td>\n",
              "      <td>226.478202</td>\n",
              "      <td>C2</td>\n",
              "      <td>D4</td>\n",
              "      <td>Set4</td>\n",
              "      <td>ADFBFD6B-EDBD-4658-A799-E4CC1524A572.png</td>\n",
              "    </tr>\n",
              "    <tr>\n",
              "      <th>3197</th>\n",
              "      <td>228.715039</td>\n",
              "      <td>210.816573</td>\n",
              "      <td>163.746611</td>\n",
              "      <td>228.637935</td>\n",
              "      <td>210.715241</td>\n",
              "      <td>163.723775</td>\n",
              "      <td>21.996185</td>\n",
              "      <td>72.452480</td>\n",
              "      <td>228.715039</td>\n",
              "      <td>21.988550</td>\n",
              "      <td>72.419387</td>\n",
              "      <td>228.637935</td>\n",
              "      <td>C2</td>\n",
              "      <td>D4</td>\n",
              "      <td>Set4</td>\n",
              "      <td>D919581E-CAD5-4BF6-9DA9-368BA4900F90.png</td>\n",
              "    </tr>\n",
              "    <tr>\n",
              "      <th>3198</th>\n",
              "      <td>219.748641</td>\n",
              "      <td>196.876877</td>\n",
              "      <td>146.418067</td>\n",
              "      <td>219.813456</td>\n",
              "      <td>196.959036</td>\n",
              "      <td>146.619373</td>\n",
              "      <td>20.830290</td>\n",
              "      <td>85.116630</td>\n",
              "      <td>219.748641</td>\n",
              "      <td>20.827324</td>\n",
              "      <td>84.925254</td>\n",
              "      <td>219.813456</td>\n",
              "      <td>C2</td>\n",
              "      <td>D4</td>\n",
              "      <td>Set4</td>\n",
              "      <td>8254092E-E246-4572-81B9-62F1A8C01DC7.png</td>\n",
              "    </tr>\n",
              "    <tr>\n",
              "      <th>3199</th>\n",
              "      <td>216.765685</td>\n",
              "      <td>186.699862</td>\n",
              "      <td>125.861131</td>\n",
              "      <td>217.014153</td>\n",
              "      <td>186.901145</td>\n",
              "      <td>126.071403</td>\n",
              "      <td>20.019804</td>\n",
              "      <td>107.036280</td>\n",
              "      <td>216.765685</td>\n",
              "      <td>20.008534</td>\n",
              "      <td>106.946590</td>\n",
              "      <td>217.014153</td>\n",
              "      <td>C2</td>\n",
              "      <td>D4</td>\n",
              "      <td>Set4</td>\n",
              "      <td>A6E5EDF5-CEF0-4E19-9101-A003BDC0202C.png</td>\n",
              "    </tr>\n",
              "  </tbody>\n",
              "</table>\n",
              "<p>3200 rows × 16 columns</p>\n",
              "</div>\n",
              "      <button class=\"colab-df-convert\" onclick=\"convertToInteractive('df-277656d3-fee3-4932-8c08-0637a32e73bd')\"\n",
              "              title=\"Convert this dataframe to an interactive table.\"\n",
              "              style=\"display:none;\">\n",
              "        \n",
              "  <svg xmlns=\"http://www.w3.org/2000/svg\" height=\"24px\"viewBox=\"0 0 24 24\"\n",
              "       width=\"24px\">\n",
              "    <path d=\"M0 0h24v24H0V0z\" fill=\"none\"/>\n",
              "    <path d=\"M18.56 5.44l.94 2.06.94-2.06 2.06-.94-2.06-.94-.94-2.06-.94 2.06-2.06.94zm-11 1L8.5 8.5l.94-2.06 2.06-.94-2.06-.94L8.5 2.5l-.94 2.06-2.06.94zm10 10l.94 2.06.94-2.06 2.06-.94-2.06-.94-.94-2.06-.94 2.06-2.06.94z\"/><path d=\"M17.41 7.96l-1.37-1.37c-.4-.4-.92-.59-1.43-.59-.52 0-1.04.2-1.43.59L10.3 9.45l-7.72 7.72c-.78.78-.78 2.05 0 2.83L4 21.41c.39.39.9.59 1.41.59.51 0 1.02-.2 1.41-.59l7.78-7.78 2.81-2.81c.8-.78.8-2.07 0-2.86zM5.41 20L4 18.59l7.72-7.72 1.47 1.35L5.41 20z\"/>\n",
              "  </svg>\n",
              "      </button>\n",
              "      \n",
              "  <style>\n",
              "    .colab-df-container {\n",
              "      display:flex;\n",
              "      flex-wrap:wrap;\n",
              "      gap: 12px;\n",
              "    }\n",
              "\n",
              "    .colab-df-convert {\n",
              "      background-color: #E8F0FE;\n",
              "      border: none;\n",
              "      border-radius: 50%;\n",
              "      cursor: pointer;\n",
              "      display: none;\n",
              "      fill: #1967D2;\n",
              "      height: 32px;\n",
              "      padding: 0 0 0 0;\n",
              "      width: 32px;\n",
              "    }\n",
              "\n",
              "    .colab-df-convert:hover {\n",
              "      background-color: #E2EBFA;\n",
              "      box-shadow: 0px 1px 2px rgba(60, 64, 67, 0.3), 0px 1px 3px 1px rgba(60, 64, 67, 0.15);\n",
              "      fill: #174EA6;\n",
              "    }\n",
              "\n",
              "    [theme=dark] .colab-df-convert {\n",
              "      background-color: #3B4455;\n",
              "      fill: #D2E3FC;\n",
              "    }\n",
              "\n",
              "    [theme=dark] .colab-df-convert:hover {\n",
              "      background-color: #434B5C;\n",
              "      box-shadow: 0px 1px 3px 1px rgba(0, 0, 0, 0.15);\n",
              "      filter: drop-shadow(0px 1px 2px rgba(0, 0, 0, 0.3));\n",
              "      fill: #FFFFFF;\n",
              "    }\n",
              "  </style>\n",
              "\n",
              "      <script>\n",
              "        const buttonEl =\n",
              "          document.querySelector('#df-277656d3-fee3-4932-8c08-0637a32e73bd button.colab-df-convert');\n",
              "        buttonEl.style.display =\n",
              "          google.colab.kernel.accessAllowed ? 'block' : 'none';\n",
              "\n",
              "        async function convertToInteractive(key) {\n",
              "          const element = document.querySelector('#df-277656d3-fee3-4932-8c08-0637a32e73bd');\n",
              "          const dataTable =\n",
              "            await google.colab.kernel.invokeFunction('convertToInteractive',\n",
              "                                                     [key], {});\n",
              "          if (!dataTable) return;\n",
              "\n",
              "          const docLinkHtml = 'Like what you see? Visit the ' +\n",
              "            '<a target=\"_blank\" href=https://colab.research.google.com/notebooks/data_table.ipynb>data table notebook</a>'\n",
              "            + ' to learn more about interactive tables.';\n",
              "          element.innerHTML = '';\n",
              "          dataTable['output_type'] = 'display_data';\n",
              "          await google.colab.output.renderOutput(dataTable, element);\n",
              "          const docLink = document.createElement('div');\n",
              "          docLink.innerHTML = docLinkHtml;\n",
              "          element.appendChild(docLink);\n",
              "        }\n",
              "      </script>\n",
              "    </div>\n",
              "  </div>\n",
              "  "
            ],
            "text/plain": [
              "           R-ref       G-ref  ...  Setting                                       Img\n",
              "0     232.175960  216.874036  ...     Set1  94B8BCF4-0790-415E-94D6-F74A6D812F9C.png\n",
              "1     231.726077  211.455077  ...     Set1  6C2D0804-8381-4BFF-BF38-C0AC1273E618.png\n",
              "2     226.100641  197.575278  ...     Set1  8BD8561A-0908-4A45-9B23-E1BB2A03640B.png\n",
              "3     230.612531  207.562373  ...     Set1  6021A5FE-EFB1-4650-84F4-27408DAFC2BA.png\n",
              "4     232.133431  209.823472  ...     Set1  1D2C4DD2-FF5D-446F-ADC8-BB6C6E19BF79.png\n",
              "...          ...         ...  ...      ...                                       ...\n",
              "3195  227.208912  204.784677  ...     Set4  59EF4224-39B2-41CA-8A14-279C72EAE105.png\n",
              "3196  227.348430  209.548413  ...     Set4  ADFBFD6B-EDBD-4658-A799-E4CC1524A572.png\n",
              "3197  228.715039  210.816573  ...     Set4  D919581E-CAD5-4BF6-9DA9-368BA4900F90.png\n",
              "3198  219.748641  196.876877  ...     Set4  8254092E-E246-4572-81B9-62F1A8C01DC7.png\n",
              "3199  216.765685  186.699862  ...     Set4  A6E5EDF5-CEF0-4E19-9101-A003BDC0202C.png\n",
              "\n",
              "[3200 rows x 16 columns]"
            ]
          },
          "metadata": {},
          "execution_count": 152
        }
      ]
    },
    {
      "cell_type": "code",
      "source": [
        "RGB_C2 = table_C2.drop(['H-ref','S-ref','V-ref','S-Shad','V-Shad','Shade-ref','Setting','Img','Shade','H-Shad'], axis=1)"
      ],
      "metadata": {
        "id": "mZQC9UZ9h2F8"
      },
      "execution_count": 153,
      "outputs": []
    },
    {
      "cell_type": "code",
      "source": [
        "X_C2 = np.array(RGB_C2)"
      ],
      "metadata": {
        "id": "-NwQtrk2h2F8"
      },
      "execution_count": 154,
      "outputs": []
    },
    {
      "cell_type": "code",
      "source": [
        "y_C2 =  table_C2.iloc[:,13:14]"
      ],
      "metadata": {
        "id": "hSGy1xe6h2F8"
      },
      "execution_count": 155,
      "outputs": []
    },
    {
      "cell_type": "code",
      "source": [
        "y_C2= np.array(y_C2)\n",
        "y_C2"
      ],
      "metadata": {
        "outputId": "eac91fa4-8537-415d-a350-141f699bc41d",
        "colab": {
          "base_uri": "https://localhost:8080/"
        },
        "id": "7l6PEq3Lh2F8"
      },
      "execution_count": 156,
      "outputs": [
        {
          "output_type": "execute_result",
          "data": {
            "text/plain": [
              "array([['A1'],\n",
              "       ['A1'],\n",
              "       ['A1'],\n",
              "       ...,\n",
              "       ['D4'],\n",
              "       ['D4'],\n",
              "       ['D4']], dtype=object)"
            ]
          },
          "metadata": {},
          "execution_count": 156
        }
      ]
    },
    {
      "cell_type": "code",
      "source": [
        "X_train_C2 = X_C2[:-2240,:]\n",
        "X_test_C2 = X_C2[-2240:,:]"
      ],
      "metadata": {
        "id": "ZuXVwC6Oh2F9"
      },
      "execution_count": 157,
      "outputs": []
    },
    {
      "cell_type": "code",
      "source": [
        "y_train_C2 = y_C2[:-2240:,:]\n",
        "y_test_C2 = y_C2[-2240:,:]"
      ],
      "metadata": {
        "id": "nlpquLSFh2F9"
      },
      "execution_count": 158,
      "outputs": []
    },
    {
      "cell_type": "code",
      "source": [
        "clf.fit(X_train_C2, y_train_C2)"
      ],
      "metadata": {
        "outputId": "807dfbe1-de11-48cd-a735-045c71c9dfc4",
        "colab": {
          "base_uri": "https://localhost:8080/"
        },
        "id": "o1uxF1FBh2F9"
      },
      "execution_count": 159,
      "outputs": [
        {
          "output_type": "stream",
          "name": "stderr",
          "text": [
            "/usr/local/lib/python3.7/dist-packages/sklearn/utils/validation.py:985: DataConversionWarning: A column-vector y was passed when a 1d array was expected. Please change the shape of y to (n_samples, ), for example using ravel().\n",
            "  y = column_or_1d(y, warn=True)\n"
          ]
        },
        {
          "output_type": "execute_result",
          "data": {
            "text/plain": [
              "SVC(kernel='poly')"
            ]
          },
          "metadata": {},
          "execution_count": 159
        }
      ]
    },
    {
      "cell_type": "code",
      "source": [
        "y_pred_C2 = clf.predict(X_test_C2)"
      ],
      "metadata": {
        "id": "U6euJ8tqh2F9"
      },
      "execution_count": 160,
      "outputs": []
    },
    {
      "cell_type": "code",
      "source": [
        "print(\"Accuracy:\", metrics.accuracy_score(y_test_C2, y_pred_C2))"
      ],
      "metadata": {
        "outputId": "1b6a67b2-4e62-482e-815d-07b19ca38b01",
        "colab": {
          "base_uri": "https://localhost:8080/"
        },
        "id": "0r4ybFtGh2F9"
      },
      "execution_count": 161,
      "outputs": [
        {
          "output_type": "stream",
          "name": "stdout",
          "text": [
            "Accuracy: 0.13303571428571428\n"
          ]
        }
      ]
    },
    {
      "cell_type": "markdown",
      "source": [
        "##C3"
      ],
      "metadata": {
        "id": "R6ktsNUGh2F9"
      }
    },
    {
      "cell_type": "code",
      "source": [
        "table_C3= pd.read_excel(CC, sheet_name='C3')\n",
        "table_C3"
      ],
      "metadata": {
        "colab": {
          "base_uri": "https://localhost:8080/",
          "height": 832
        },
        "outputId": "2ecb9402-4d9d-41f8-acbc-621b1eb19045",
        "id": "46avtko8h2F9"
      },
      "execution_count": 162,
      "outputs": [
        {
          "output_type": "execute_result",
          "data": {
            "text/html": [
              "\n",
              "  <div id=\"df-93bce465-93a7-425f-bf45-7461aefa73b2\">\n",
              "    <div class=\"colab-df-container\">\n",
              "      <div>\n",
              "<style scoped>\n",
              "    .dataframe tbody tr th:only-of-type {\n",
              "        vertical-align: middle;\n",
              "    }\n",
              "\n",
              "    .dataframe tbody tr th {\n",
              "        vertical-align: top;\n",
              "    }\n",
              "\n",
              "    .dataframe thead th {\n",
              "        text-align: right;\n",
              "    }\n",
              "</style>\n",
              "<table border=\"1\" class=\"dataframe\">\n",
              "  <thead>\n",
              "    <tr style=\"text-align: right;\">\n",
              "      <th></th>\n",
              "      <th>R-ref</th>\n",
              "      <th>G-ref</th>\n",
              "      <th>B-ref</th>\n",
              "      <th>R-Shad</th>\n",
              "      <th>G-Shad</th>\n",
              "      <th>B-Shad</th>\n",
              "      <th>H-ref</th>\n",
              "      <th>S-ref</th>\n",
              "      <th>V-ref</th>\n",
              "      <th>H-Shad</th>\n",
              "      <th>S-Shad</th>\n",
              "      <th>V-Shad</th>\n",
              "      <th>Shade-ref</th>\n",
              "      <th>Shade</th>\n",
              "      <th>Setting</th>\n",
              "      <th>Img</th>\n",
              "    </tr>\n",
              "  </thead>\n",
              "  <tbody>\n",
              "    <tr>\n",
              "      <th>0</th>\n",
              "      <td>229.674702</td>\n",
              "      <td>206.699294</td>\n",
              "      <td>151.959338</td>\n",
              "      <td>229.372164</td>\n",
              "      <td>206.348482</td>\n",
              "      <td>151.724628</td>\n",
              "      <td>21.243162</td>\n",
              "      <td>86.251116</td>\n",
              "      <td>229.674702</td>\n",
              "      <td>21.221179</td>\n",
              "      <td>86.286751</td>\n",
              "      <td>229.372164</td>\n",
              "      <td>C3</td>\n",
              "      <td>A1</td>\n",
              "      <td>Set1</td>\n",
              "      <td>8397A717-3D12-4648-BD3F-CE1F787AB8C2.png</td>\n",
              "    </tr>\n",
              "    <tr>\n",
              "      <th>1</th>\n",
              "      <td>226.000406</td>\n",
              "      <td>203.723886</td>\n",
              "      <td>143.303871</td>\n",
              "      <td>225.820923</td>\n",
              "      <td>203.576844</td>\n",
              "      <td>143.258516</td>\n",
              "      <td>22.008116</td>\n",
              "      <td>93.349160</td>\n",
              "      <td>226.000406</td>\n",
              "      <td>22.015291</td>\n",
              "      <td>93.267193</td>\n",
              "      <td>225.820923</td>\n",
              "      <td>C3</td>\n",
              "      <td>A1</td>\n",
              "      <td>Set1</td>\n",
              "      <td>A9FD8AA5-8101-465A-B35F-6E192FDA7776.png</td>\n",
              "    </tr>\n",
              "    <tr>\n",
              "      <th>2</th>\n",
              "      <td>224.442172</td>\n",
              "      <td>206.266618</td>\n",
              "      <td>160.178557</td>\n",
              "      <td>222.176730</td>\n",
              "      <td>203.953275</td>\n",
              "      <td>158.401181</td>\n",
              "      <td>21.786219</td>\n",
              "      <td>73.045126</td>\n",
              "      <td>224.442172</td>\n",
              "      <td>21.750942</td>\n",
              "      <td>73.266908</td>\n",
              "      <td>222.176730</td>\n",
              "      <td>C3</td>\n",
              "      <td>A1</td>\n",
              "      <td>Set1</td>\n",
              "      <td>D8B8E0A9-7FD9-444D-9917-BEC6A0BCA620.png</td>\n",
              "    </tr>\n",
              "    <tr>\n",
              "      <th>3</th>\n",
              "      <td>223.874199</td>\n",
              "      <td>201.225956</td>\n",
              "      <td>149.612613</td>\n",
              "      <td>222.262357</td>\n",
              "      <td>195.465899</td>\n",
              "      <td>140.510063</td>\n",
              "      <td>20.100317</td>\n",
              "      <td>93.927522</td>\n",
              "      <td>222.178557</td>\n",
              "      <td>20.100135</td>\n",
              "      <td>93.801294</td>\n",
              "      <td>222.262357</td>\n",
              "      <td>C3</td>\n",
              "      <td>A1</td>\n",
              "      <td>Set1</td>\n",
              "      <td>B6F793CB-821E-4980-BE99-FEE76D08FC11.png</td>\n",
              "    </tr>\n",
              "    <tr>\n",
              "      <th>4</th>\n",
              "      <td>209.855856</td>\n",
              "      <td>179.533723</td>\n",
              "      <td>121.571869</td>\n",
              "      <td>212.670507</td>\n",
              "      <td>182.227295</td>\n",
              "      <td>125.368110</td>\n",
              "      <td>19.527149</td>\n",
              "      <td>107.243406</td>\n",
              "      <td>209.855856</td>\n",
              "      <td>19.309366</td>\n",
              "      <td>104.611194</td>\n",
              "      <td>212.670507</td>\n",
              "      <td>C3</td>\n",
              "      <td>A1</td>\n",
              "      <td>Set1</td>\n",
              "      <td>DB93C8AE-E996-4EC9-9AD4-DBC68B6E726A.png</td>\n",
              "    </tr>\n",
              "    <tr>\n",
              "      <th>...</th>\n",
              "      <td>...</td>\n",
              "      <td>...</td>\n",
              "      <td>...</td>\n",
              "      <td>...</td>\n",
              "      <td>...</td>\n",
              "      <td>...</td>\n",
              "      <td>...</td>\n",
              "      <td>...</td>\n",
              "      <td>...</td>\n",
              "      <td>...</td>\n",
              "      <td>...</td>\n",
              "      <td>...</td>\n",
              "      <td>...</td>\n",
              "      <td>...</td>\n",
              "      <td>...</td>\n",
              "      <td>...</td>\n",
              "    </tr>\n",
              "    <tr>\n",
              "      <th>3195</th>\n",
              "      <td>232.804642</td>\n",
              "      <td>209.441604</td>\n",
              "      <td>164.924357</td>\n",
              "      <td>233.308869</td>\n",
              "      <td>210.109594</td>\n",
              "      <td>166.164853</td>\n",
              "      <td>19.601331</td>\n",
              "      <td>74.376755</td>\n",
              "      <td>232.804642</td>\n",
              "      <td>19.552094</td>\n",
              "      <td>73.433042</td>\n",
              "      <td>233.308869</td>\n",
              "      <td>C3</td>\n",
              "      <td>D4</td>\n",
              "      <td>Set4</td>\n",
              "      <td>98856006-89F4-4308-AE65-1EFE2F5AF75B.png</td>\n",
              "    </tr>\n",
              "    <tr>\n",
              "      <th>3196</th>\n",
              "      <td>235.903985</td>\n",
              "      <td>218.940670</td>\n",
              "      <td>179.875741</td>\n",
              "      <td>236.487092</td>\n",
              "      <td>219.666951</td>\n",
              "      <td>181.014864</td>\n",
              "      <td>20.612775</td>\n",
              "      <td>78.169873</td>\n",
              "      <td>229.335768</td>\n",
              "      <td>20.589787</td>\n",
              "      <td>77.092810</td>\n",
              "      <td>229.914515</td>\n",
              "      <td>C3</td>\n",
              "      <td>D4</td>\n",
              "      <td>Set4</td>\n",
              "      <td>DF600DAA-CD96-43F9-A4C9-A4624F36BE2A.png</td>\n",
              "    </tr>\n",
              "    <tr>\n",
              "      <th>3197</th>\n",
              "      <td>232.175960</td>\n",
              "      <td>216.874036</td>\n",
              "      <td>178.708465</td>\n",
              "      <td>232.964654</td>\n",
              "      <td>217.832160</td>\n",
              "      <td>180.185122</td>\n",
              "      <td>21.562292</td>\n",
              "      <td>58.762357</td>\n",
              "      <td>232.175960</td>\n",
              "      <td>21.513975</td>\n",
              "      <td>57.839201</td>\n",
              "      <td>232.964654</td>\n",
              "      <td>C3</td>\n",
              "      <td>D4</td>\n",
              "      <td>Set4</td>\n",
              "      <td>7DD857D9-3B5F-4A89-ACEC-40C55B638E29.png</td>\n",
              "    </tr>\n",
              "    <tr>\n",
              "      <th>3198</th>\n",
              "      <td>231.726077</td>\n",
              "      <td>211.455077</td>\n",
              "      <td>167.223440</td>\n",
              "      <td>232.533177</td>\n",
              "      <td>212.551597</td>\n",
              "      <td>168.982505</td>\n",
              "      <td>20.556367</td>\n",
              "      <td>71.019641</td>\n",
              "      <td>231.726077</td>\n",
              "      <td>20.552237</td>\n",
              "      <td>69.773771</td>\n",
              "      <td>232.533177</td>\n",
              "      <td>C3</td>\n",
              "      <td>D4</td>\n",
              "      <td>Set4</td>\n",
              "      <td>5510740D-C9BA-424D-A6C2-B6457D11DF44.png</td>\n",
              "    </tr>\n",
              "    <tr>\n",
              "      <th>3199</th>\n",
              "      <td>226.100641</td>\n",
              "      <td>197.575278</td>\n",
              "      <td>146.748235</td>\n",
              "      <td>226.795889</td>\n",
              "      <td>198.548539</td>\n",
              "      <td>147.966148</td>\n",
              "      <td>19.189595</td>\n",
              "      <td>89.497849</td>\n",
              "      <td>226.100641</td>\n",
              "      <td>19.239457</td>\n",
              "      <td>88.650238</td>\n",
              "      <td>226.795889</td>\n",
              "      <td>C3</td>\n",
              "      <td>D4</td>\n",
              "      <td>Set4</td>\n",
              "      <td>AA66EF79-D604-4A8C-8A95-3D1FB6BCF443.png</td>\n",
              "    </tr>\n",
              "  </tbody>\n",
              "</table>\n",
              "<p>3200 rows × 16 columns</p>\n",
              "</div>\n",
              "      <button class=\"colab-df-convert\" onclick=\"convertToInteractive('df-93bce465-93a7-425f-bf45-7461aefa73b2')\"\n",
              "              title=\"Convert this dataframe to an interactive table.\"\n",
              "              style=\"display:none;\">\n",
              "        \n",
              "  <svg xmlns=\"http://www.w3.org/2000/svg\" height=\"24px\"viewBox=\"0 0 24 24\"\n",
              "       width=\"24px\">\n",
              "    <path d=\"M0 0h24v24H0V0z\" fill=\"none\"/>\n",
              "    <path d=\"M18.56 5.44l.94 2.06.94-2.06 2.06-.94-2.06-.94-.94-2.06-.94 2.06-2.06.94zm-11 1L8.5 8.5l.94-2.06 2.06-.94-2.06-.94L8.5 2.5l-.94 2.06-2.06.94zm10 10l.94 2.06.94-2.06 2.06-.94-2.06-.94-.94-2.06-.94 2.06-2.06.94z\"/><path d=\"M17.41 7.96l-1.37-1.37c-.4-.4-.92-.59-1.43-.59-.52 0-1.04.2-1.43.59L10.3 9.45l-7.72 7.72c-.78.78-.78 2.05 0 2.83L4 21.41c.39.39.9.59 1.41.59.51 0 1.02-.2 1.41-.59l7.78-7.78 2.81-2.81c.8-.78.8-2.07 0-2.86zM5.41 20L4 18.59l7.72-7.72 1.47 1.35L5.41 20z\"/>\n",
              "  </svg>\n",
              "      </button>\n",
              "      \n",
              "  <style>\n",
              "    .colab-df-container {\n",
              "      display:flex;\n",
              "      flex-wrap:wrap;\n",
              "      gap: 12px;\n",
              "    }\n",
              "\n",
              "    .colab-df-convert {\n",
              "      background-color: #E8F0FE;\n",
              "      border: none;\n",
              "      border-radius: 50%;\n",
              "      cursor: pointer;\n",
              "      display: none;\n",
              "      fill: #1967D2;\n",
              "      height: 32px;\n",
              "      padding: 0 0 0 0;\n",
              "      width: 32px;\n",
              "    }\n",
              "\n",
              "    .colab-df-convert:hover {\n",
              "      background-color: #E2EBFA;\n",
              "      box-shadow: 0px 1px 2px rgba(60, 64, 67, 0.3), 0px 1px 3px 1px rgba(60, 64, 67, 0.15);\n",
              "      fill: #174EA6;\n",
              "    }\n",
              "\n",
              "    [theme=dark] .colab-df-convert {\n",
              "      background-color: #3B4455;\n",
              "      fill: #D2E3FC;\n",
              "    }\n",
              "\n",
              "    [theme=dark] .colab-df-convert:hover {\n",
              "      background-color: #434B5C;\n",
              "      box-shadow: 0px 1px 3px 1px rgba(0, 0, 0, 0.15);\n",
              "      filter: drop-shadow(0px 1px 2px rgba(0, 0, 0, 0.3));\n",
              "      fill: #FFFFFF;\n",
              "    }\n",
              "  </style>\n",
              "\n",
              "      <script>\n",
              "        const buttonEl =\n",
              "          document.querySelector('#df-93bce465-93a7-425f-bf45-7461aefa73b2 button.colab-df-convert');\n",
              "        buttonEl.style.display =\n",
              "          google.colab.kernel.accessAllowed ? 'block' : 'none';\n",
              "\n",
              "        async function convertToInteractive(key) {\n",
              "          const element = document.querySelector('#df-93bce465-93a7-425f-bf45-7461aefa73b2');\n",
              "          const dataTable =\n",
              "            await google.colab.kernel.invokeFunction('convertToInteractive',\n",
              "                                                     [key], {});\n",
              "          if (!dataTable) return;\n",
              "\n",
              "          const docLinkHtml = 'Like what you see? Visit the ' +\n",
              "            '<a target=\"_blank\" href=https://colab.research.google.com/notebooks/data_table.ipynb>data table notebook</a>'\n",
              "            + ' to learn more about interactive tables.';\n",
              "          element.innerHTML = '';\n",
              "          dataTable['output_type'] = 'display_data';\n",
              "          await google.colab.output.renderOutput(dataTable, element);\n",
              "          const docLink = document.createElement('div');\n",
              "          docLink.innerHTML = docLinkHtml;\n",
              "          element.appendChild(docLink);\n",
              "        }\n",
              "      </script>\n",
              "    </div>\n",
              "  </div>\n",
              "  "
            ],
            "text/plain": [
              "           R-ref       G-ref  ...  Setting                                       Img\n",
              "0     229.674702  206.699294  ...     Set1  8397A717-3D12-4648-BD3F-CE1F787AB8C2.png\n",
              "1     226.000406  203.723886  ...     Set1  A9FD8AA5-8101-465A-B35F-6E192FDA7776.png\n",
              "2     224.442172  206.266618  ...     Set1  D8B8E0A9-7FD9-444D-9917-BEC6A0BCA620.png\n",
              "3     223.874199  201.225956  ...     Set1  B6F793CB-821E-4980-BE99-FEE76D08FC11.png\n",
              "4     209.855856  179.533723  ...     Set1  DB93C8AE-E996-4EC9-9AD4-DBC68B6E726A.png\n",
              "...          ...         ...  ...      ...                                       ...\n",
              "3195  232.804642  209.441604  ...     Set4  98856006-89F4-4308-AE65-1EFE2F5AF75B.png\n",
              "3196  235.903985  218.940670  ...     Set4  DF600DAA-CD96-43F9-A4C9-A4624F36BE2A.png\n",
              "3197  232.175960  216.874036  ...     Set4  7DD857D9-3B5F-4A89-ACEC-40C55B638E29.png\n",
              "3198  231.726077  211.455077  ...     Set4  5510740D-C9BA-424D-A6C2-B6457D11DF44.png\n",
              "3199  226.100641  197.575278  ...     Set4  AA66EF79-D604-4A8C-8A95-3D1FB6BCF443.png\n",
              "\n",
              "[3200 rows x 16 columns]"
            ]
          },
          "metadata": {},
          "execution_count": 162
        }
      ]
    },
    {
      "cell_type": "code",
      "source": [
        "RGB_C3 = table_C3.drop(['H-ref','S-ref','V-ref','S-Shad','V-Shad','Shade-ref','Setting','Img','Shade','H-Shad'], axis=1)"
      ],
      "metadata": {
        "id": "uEFRsyhmh2F9"
      },
      "execution_count": 163,
      "outputs": []
    },
    {
      "cell_type": "code",
      "source": [
        "X_C3 = np.array(RGB_C3)"
      ],
      "metadata": {
        "id": "GuEu-HtPh2F9"
      },
      "execution_count": 164,
      "outputs": []
    },
    {
      "cell_type": "code",
      "source": [
        "y_C3 =  table_C3.iloc[:,13:14]"
      ],
      "metadata": {
        "id": "CaV1dLgih2F-"
      },
      "execution_count": 165,
      "outputs": []
    },
    {
      "cell_type": "code",
      "source": [
        "y_C3 = np.array(y_C3)\n",
        "y_C3"
      ],
      "metadata": {
        "outputId": "bf12f770-af62-4986-d8e9-49e888dc5c9f",
        "colab": {
          "base_uri": "https://localhost:8080/"
        },
        "id": "g9ZxBndOh2F-"
      },
      "execution_count": 166,
      "outputs": [
        {
          "output_type": "execute_result",
          "data": {
            "text/plain": [
              "array([['A1'],\n",
              "       ['A1'],\n",
              "       ['A1'],\n",
              "       ...,\n",
              "       ['D4'],\n",
              "       ['D4'],\n",
              "       ['D4']], dtype=object)"
            ]
          },
          "metadata": {},
          "execution_count": 166
        }
      ]
    },
    {
      "cell_type": "code",
      "source": [
        "X_test_C3, X_train_C3 , y_test_C3, y_train_C3 = train_test_split(X_C3, y_C3, test_size=80, train_size=320)"
      ],
      "metadata": {
        "id": "25qVaVHttTAY"
      },
      "execution_count": 256,
      "outputs": []
    },
    {
      "cell_type": "code",
      "source": [
        "clf.fit(X_train_C3, y_train_C3)"
      ],
      "metadata": {
        "outputId": "9196064e-df51-4124-de25-64199ea88e95",
        "colab": {
          "base_uri": "https://localhost:8080/"
        },
        "id": "SnnYOuSdh2F-"
      },
      "execution_count": 169,
      "outputs": [
        {
          "output_type": "stream",
          "name": "stderr",
          "text": [
            "/usr/local/lib/python3.7/dist-packages/sklearn/utils/validation.py:985: DataConversionWarning: A column-vector y was passed when a 1d array was expected. Please change the shape of y to (n_samples, ), for example using ravel().\n",
            "  y = column_or_1d(y, warn=True)\n"
          ]
        },
        {
          "output_type": "execute_result",
          "data": {
            "text/plain": [
              "SVC(kernel='poly')"
            ]
          },
          "metadata": {},
          "execution_count": 169
        }
      ]
    },
    {
      "cell_type": "code",
      "source": [
        "y_pred_C3 = clf.predict(X_test_C3)"
      ],
      "metadata": {
        "id": "VghR33Kzh2F-"
      },
      "execution_count": 170,
      "outputs": []
    },
    {
      "cell_type": "code",
      "source": [
        "print(\"Accuracy:\", metrics.accuracy_score(y_test_C3, y_pred_C3))"
      ],
      "metadata": {
        "outputId": "ac889403-8e88-460b-8e04-f72461a05eb6",
        "colab": {
          "base_uri": "https://localhost:8080/"
        },
        "id": "dIm0itPwh2F-"
      },
      "execution_count": 171,
      "outputs": [
        {
          "output_type": "stream",
          "name": "stdout",
          "text": [
            "Accuracy: 0.12232142857142857\n"
          ]
        }
      ]
    },
    {
      "cell_type": "markdown",
      "source": [
        "##C4"
      ],
      "metadata": {
        "id": "SscWN7oBh2F-"
      }
    },
    {
      "cell_type": "code",
      "source": [
        "table_C4 = pd.read_excel(CC, sheet_name='C4')\n",
        "table_C4"
      ],
      "metadata": {
        "colab": {
          "base_uri": "https://localhost:8080/",
          "height": 832
        },
        "id": "RC9nm2dPh2F-",
        "outputId": "e26bd659-177e-4957-de83-5129909ead8a"
      },
      "execution_count": 172,
      "outputs": [
        {
          "output_type": "execute_result",
          "data": {
            "text/html": [
              "\n",
              "  <div id=\"df-cb358975-63f0-4368-9b5d-381d40daa6a8\">\n",
              "    <div class=\"colab-df-container\">\n",
              "      <div>\n",
              "<style scoped>\n",
              "    .dataframe tbody tr th:only-of-type {\n",
              "        vertical-align: middle;\n",
              "    }\n",
              "\n",
              "    .dataframe tbody tr th {\n",
              "        vertical-align: top;\n",
              "    }\n",
              "\n",
              "    .dataframe thead th {\n",
              "        text-align: right;\n",
              "    }\n",
              "</style>\n",
              "<table border=\"1\" class=\"dataframe\">\n",
              "  <thead>\n",
              "    <tr style=\"text-align: right;\">\n",
              "      <th></th>\n",
              "      <th>R-ref</th>\n",
              "      <th>G-ref</th>\n",
              "      <th>B-ref</th>\n",
              "      <th>R-Shad</th>\n",
              "      <th>G-Shad</th>\n",
              "      <th>B-Shad</th>\n",
              "      <th>H-ref</th>\n",
              "      <th>S-ref</th>\n",
              "      <th>V-ref</th>\n",
              "      <th>H-Shad</th>\n",
              "      <th>S-Shad</th>\n",
              "      <th>V-Shad</th>\n",
              "      <th>Shade-ref</th>\n",
              "      <th>Shade</th>\n",
              "      <th>Setting</th>\n",
              "      <th>Img</th>\n",
              "    </tr>\n",
              "  </thead>\n",
              "  <tbody>\n",
              "    <tr>\n",
              "      <th>0</th>\n",
              "      <td>232.175960</td>\n",
              "      <td>216.874036</td>\n",
              "      <td>178.708465</td>\n",
              "      <td>232.964654</td>\n",
              "      <td>217.832160</td>\n",
              "      <td>180.185122</td>\n",
              "      <td>21.562292</td>\n",
              "      <td>58.762357</td>\n",
              "      <td>232.175960</td>\n",
              "      <td>21.513975</td>\n",
              "      <td>57.839201</td>\n",
              "      <td>232.964654</td>\n",
              "      <td>C4</td>\n",
              "      <td>A1</td>\n",
              "      <td>Set1</td>\n",
              "      <td>D5D842D5-1273-4723-A726-1A56F4AE5B90.png</td>\n",
              "    </tr>\n",
              "    <tr>\n",
              "      <th>1</th>\n",
              "      <td>231.726077</td>\n",
              "      <td>211.455077</td>\n",
              "      <td>167.223440</td>\n",
              "      <td>232.533177</td>\n",
              "      <td>212.551597</td>\n",
              "      <td>168.982505</td>\n",
              "      <td>20.556367</td>\n",
              "      <td>71.019641</td>\n",
              "      <td>231.726077</td>\n",
              "      <td>20.552237</td>\n",
              "      <td>69.773771</td>\n",
              "      <td>232.533177</td>\n",
              "      <td>C4</td>\n",
              "      <td>A1</td>\n",
              "      <td>Set1</td>\n",
              "      <td>0323B3D5-373A-4B67-8908-4387145AD384.png</td>\n",
              "    </tr>\n",
              "    <tr>\n",
              "      <th>2</th>\n",
              "      <td>226.100641</td>\n",
              "      <td>197.575278</td>\n",
              "      <td>146.748235</td>\n",
              "      <td>226.795889</td>\n",
              "      <td>198.548539</td>\n",
              "      <td>147.966148</td>\n",
              "      <td>19.189595</td>\n",
              "      <td>89.497849</td>\n",
              "      <td>226.100641</td>\n",
              "      <td>19.239457</td>\n",
              "      <td>88.650238</td>\n",
              "      <td>226.795889</td>\n",
              "      <td>C4</td>\n",
              "      <td>A1</td>\n",
              "      <td>Set1</td>\n",
              "      <td>4059EA80-E8B2-4BD1-865B-98C77A4271AD.png</td>\n",
              "    </tr>\n",
              "    <tr>\n",
              "      <th>3</th>\n",
              "      <td>230.612531</td>\n",
              "      <td>207.562373</td>\n",
              "      <td>164.211752</td>\n",
              "      <td>231.210796</td>\n",
              "      <td>208.351682</td>\n",
              "      <td>165.428561</td>\n",
              "      <td>19.566594</td>\n",
              "      <td>73.461651</td>\n",
              "      <td>230.612531</td>\n",
              "      <td>19.550743</td>\n",
              "      <td>72.606500</td>\n",
              "      <td>231.210796</td>\n",
              "      <td>C4</td>\n",
              "      <td>A1</td>\n",
              "      <td>Set1</td>\n",
              "      <td>9DBC26C8-CA9B-4987-AF57-9BAF1BDBCA28.png</td>\n",
              "    </tr>\n",
              "    <tr>\n",
              "      <th>4</th>\n",
              "      <td>232.133431</td>\n",
              "      <td>209.823472</td>\n",
              "      <td>160.814707</td>\n",
              "      <td>232.841548</td>\n",
              "      <td>211.054264</td>\n",
              "      <td>163.067989</td>\n",
              "      <td>20.814463</td>\n",
              "      <td>78.373996</td>\n",
              "      <td>232.133431</td>\n",
              "      <td>20.855487</td>\n",
              "      <td>76.523434</td>\n",
              "      <td>232.841832</td>\n",
              "      <td>C4</td>\n",
              "      <td>A1</td>\n",
              "      <td>Set1</td>\n",
              "      <td>EF49A765-DB1A-4F23-956C-3110E993E4A1.png</td>\n",
              "    </tr>\n",
              "    <tr>\n",
              "      <th>...</th>\n",
              "      <td>...</td>\n",
              "      <td>...</td>\n",
              "      <td>...</td>\n",
              "      <td>...</td>\n",
              "      <td>...</td>\n",
              "      <td>...</td>\n",
              "      <td>...</td>\n",
              "      <td>...</td>\n",
              "      <td>...</td>\n",
              "      <td>...</td>\n",
              "      <td>...</td>\n",
              "      <td>...</td>\n",
              "      <td>...</td>\n",
              "      <td>...</td>\n",
              "      <td>...</td>\n",
              "      <td>...</td>\n",
              "    </tr>\n",
              "    <tr>\n",
              "      <th>3195</th>\n",
              "      <td>232.804642</td>\n",
              "      <td>209.441604</td>\n",
              "      <td>164.924357</td>\n",
              "      <td>233.308869</td>\n",
              "      <td>210.109594</td>\n",
              "      <td>166.164853</td>\n",
              "      <td>19.601331</td>\n",
              "      <td>74.376755</td>\n",
              "      <td>232.804642</td>\n",
              "      <td>19.552094</td>\n",
              "      <td>73.433042</td>\n",
              "      <td>233.308869</td>\n",
              "      <td>C4</td>\n",
              "      <td>D4</td>\n",
              "      <td>Set4</td>\n",
              "      <td>3A4875C4-4B88-4FF9-B801-4DB7423AB6A4.png</td>\n",
              "    </tr>\n",
              "    <tr>\n",
              "      <th>3196</th>\n",
              "      <td>235.903985</td>\n",
              "      <td>218.940670</td>\n",
              "      <td>179.875741</td>\n",
              "      <td>236.487092</td>\n",
              "      <td>219.666951</td>\n",
              "      <td>181.014864</td>\n",
              "      <td>20.612775</td>\n",
              "      <td>78.169873</td>\n",
              "      <td>229.335768</td>\n",
              "      <td>20.589787</td>\n",
              "      <td>77.092810</td>\n",
              "      <td>229.914515</td>\n",
              "      <td>C4</td>\n",
              "      <td>D4</td>\n",
              "      <td>Set4</td>\n",
              "      <td>FA4C9517-6C8B-45B7-A5A5-31166E270623.png</td>\n",
              "    </tr>\n",
              "    <tr>\n",
              "      <th>3197</th>\n",
              "      <td>232.175960</td>\n",
              "      <td>216.874036</td>\n",
              "      <td>178.708465</td>\n",
              "      <td>232.964654</td>\n",
              "      <td>217.832160</td>\n",
              "      <td>180.185122</td>\n",
              "      <td>21.562292</td>\n",
              "      <td>58.762357</td>\n",
              "      <td>232.175960</td>\n",
              "      <td>21.513975</td>\n",
              "      <td>57.839201</td>\n",
              "      <td>232.964654</td>\n",
              "      <td>C4</td>\n",
              "      <td>D4</td>\n",
              "      <td>Set4</td>\n",
              "      <td>155490BC-336A-49B8-8DB0-3E44C79233C8.png</td>\n",
              "    </tr>\n",
              "    <tr>\n",
              "      <th>3198</th>\n",
              "      <td>231.726077</td>\n",
              "      <td>211.455077</td>\n",
              "      <td>167.223440</td>\n",
              "      <td>232.533177</td>\n",
              "      <td>212.551597</td>\n",
              "      <td>168.982505</td>\n",
              "      <td>20.556367</td>\n",
              "      <td>71.019641</td>\n",
              "      <td>231.726077</td>\n",
              "      <td>20.552237</td>\n",
              "      <td>69.773771</td>\n",
              "      <td>232.533177</td>\n",
              "      <td>C4</td>\n",
              "      <td>D4</td>\n",
              "      <td>Set4</td>\n",
              "      <td>040EA918-F713-44A1-915E-B36CD47D9BAD.png</td>\n",
              "    </tr>\n",
              "    <tr>\n",
              "      <th>3199</th>\n",
              "      <td>226.100641</td>\n",
              "      <td>197.575278</td>\n",
              "      <td>146.748235</td>\n",
              "      <td>226.795889</td>\n",
              "      <td>198.548539</td>\n",
              "      <td>147.966148</td>\n",
              "      <td>19.189595</td>\n",
              "      <td>89.497849</td>\n",
              "      <td>226.100641</td>\n",
              "      <td>19.239457</td>\n",
              "      <td>88.650238</td>\n",
              "      <td>226.795889</td>\n",
              "      <td>C4</td>\n",
              "      <td>D4</td>\n",
              "      <td>Set4</td>\n",
              "      <td>E3B87A4E-202B-4EB9-B387-E65384E26706.png</td>\n",
              "    </tr>\n",
              "  </tbody>\n",
              "</table>\n",
              "<p>3200 rows × 16 columns</p>\n",
              "</div>\n",
              "      <button class=\"colab-df-convert\" onclick=\"convertToInteractive('df-cb358975-63f0-4368-9b5d-381d40daa6a8')\"\n",
              "              title=\"Convert this dataframe to an interactive table.\"\n",
              "              style=\"display:none;\">\n",
              "        \n",
              "  <svg xmlns=\"http://www.w3.org/2000/svg\" height=\"24px\"viewBox=\"0 0 24 24\"\n",
              "       width=\"24px\">\n",
              "    <path d=\"M0 0h24v24H0V0z\" fill=\"none\"/>\n",
              "    <path d=\"M18.56 5.44l.94 2.06.94-2.06 2.06-.94-2.06-.94-.94-2.06-.94 2.06-2.06.94zm-11 1L8.5 8.5l.94-2.06 2.06-.94-2.06-.94L8.5 2.5l-.94 2.06-2.06.94zm10 10l.94 2.06.94-2.06 2.06-.94-2.06-.94-.94-2.06-.94 2.06-2.06.94z\"/><path d=\"M17.41 7.96l-1.37-1.37c-.4-.4-.92-.59-1.43-.59-.52 0-1.04.2-1.43.59L10.3 9.45l-7.72 7.72c-.78.78-.78 2.05 0 2.83L4 21.41c.39.39.9.59 1.41.59.51 0 1.02-.2 1.41-.59l7.78-7.78 2.81-2.81c.8-.78.8-2.07 0-2.86zM5.41 20L4 18.59l7.72-7.72 1.47 1.35L5.41 20z\"/>\n",
              "  </svg>\n",
              "      </button>\n",
              "      \n",
              "  <style>\n",
              "    .colab-df-container {\n",
              "      display:flex;\n",
              "      flex-wrap:wrap;\n",
              "      gap: 12px;\n",
              "    }\n",
              "\n",
              "    .colab-df-convert {\n",
              "      background-color: #E8F0FE;\n",
              "      border: none;\n",
              "      border-radius: 50%;\n",
              "      cursor: pointer;\n",
              "      display: none;\n",
              "      fill: #1967D2;\n",
              "      height: 32px;\n",
              "      padding: 0 0 0 0;\n",
              "      width: 32px;\n",
              "    }\n",
              "\n",
              "    .colab-df-convert:hover {\n",
              "      background-color: #E2EBFA;\n",
              "      box-shadow: 0px 1px 2px rgba(60, 64, 67, 0.3), 0px 1px 3px 1px rgba(60, 64, 67, 0.15);\n",
              "      fill: #174EA6;\n",
              "    }\n",
              "\n",
              "    [theme=dark] .colab-df-convert {\n",
              "      background-color: #3B4455;\n",
              "      fill: #D2E3FC;\n",
              "    }\n",
              "\n",
              "    [theme=dark] .colab-df-convert:hover {\n",
              "      background-color: #434B5C;\n",
              "      box-shadow: 0px 1px 3px 1px rgba(0, 0, 0, 0.15);\n",
              "      filter: drop-shadow(0px 1px 2px rgba(0, 0, 0, 0.3));\n",
              "      fill: #FFFFFF;\n",
              "    }\n",
              "  </style>\n",
              "\n",
              "      <script>\n",
              "        const buttonEl =\n",
              "          document.querySelector('#df-cb358975-63f0-4368-9b5d-381d40daa6a8 button.colab-df-convert');\n",
              "        buttonEl.style.display =\n",
              "          google.colab.kernel.accessAllowed ? 'block' : 'none';\n",
              "\n",
              "        async function convertToInteractive(key) {\n",
              "          const element = document.querySelector('#df-cb358975-63f0-4368-9b5d-381d40daa6a8');\n",
              "          const dataTable =\n",
              "            await google.colab.kernel.invokeFunction('convertToInteractive',\n",
              "                                                     [key], {});\n",
              "          if (!dataTable) return;\n",
              "\n",
              "          const docLinkHtml = 'Like what you see? Visit the ' +\n",
              "            '<a target=\"_blank\" href=https://colab.research.google.com/notebooks/data_table.ipynb>data table notebook</a>'\n",
              "            + ' to learn more about interactive tables.';\n",
              "          element.innerHTML = '';\n",
              "          dataTable['output_type'] = 'display_data';\n",
              "          await google.colab.output.renderOutput(dataTable, element);\n",
              "          const docLink = document.createElement('div');\n",
              "          docLink.innerHTML = docLinkHtml;\n",
              "          element.appendChild(docLink);\n",
              "        }\n",
              "      </script>\n",
              "    </div>\n",
              "  </div>\n",
              "  "
            ],
            "text/plain": [
              "           R-ref       G-ref  ...  Setting                                       Img\n",
              "0     232.175960  216.874036  ...     Set1  D5D842D5-1273-4723-A726-1A56F4AE5B90.png\n",
              "1     231.726077  211.455077  ...     Set1  0323B3D5-373A-4B67-8908-4387145AD384.png\n",
              "2     226.100641  197.575278  ...     Set1  4059EA80-E8B2-4BD1-865B-98C77A4271AD.png\n",
              "3     230.612531  207.562373  ...     Set1  9DBC26C8-CA9B-4987-AF57-9BAF1BDBCA28.png\n",
              "4     232.133431  209.823472  ...     Set1  EF49A765-DB1A-4F23-956C-3110E993E4A1.png\n",
              "...          ...         ...  ...      ...                                       ...\n",
              "3195  232.804642  209.441604  ...     Set4  3A4875C4-4B88-4FF9-B801-4DB7423AB6A4.png\n",
              "3196  235.903985  218.940670  ...     Set4  FA4C9517-6C8B-45B7-A5A5-31166E270623.png\n",
              "3197  232.175960  216.874036  ...     Set4  155490BC-336A-49B8-8DB0-3E44C79233C8.png\n",
              "3198  231.726077  211.455077  ...     Set4  040EA918-F713-44A1-915E-B36CD47D9BAD.png\n",
              "3199  226.100641  197.575278  ...     Set4  E3B87A4E-202B-4EB9-B387-E65384E26706.png\n",
              "\n",
              "[3200 rows x 16 columns]"
            ]
          },
          "metadata": {},
          "execution_count": 172
        }
      ]
    },
    {
      "cell_type": "code",
      "source": [
        "RGB_C4 = table_C4.drop(['H-ref','S-ref','V-ref','S-Shad','V-Shad','Shade-ref','Setting','Img','Shade','H-Shad'], axis=1)"
      ],
      "metadata": {
        "id": "H68sYmwyh2F_"
      },
      "execution_count": 173,
      "outputs": []
    },
    {
      "cell_type": "code",
      "source": [
        "X_C4 = np.array(RGB_C4)"
      ],
      "metadata": {
        "id": "IIiRVi2bh2F_"
      },
      "execution_count": 174,
      "outputs": []
    },
    {
      "cell_type": "code",
      "source": [
        "y_C4 =  table_C4.iloc[:,13:14]"
      ],
      "metadata": {
        "id": "-cieMzoeh2F_"
      },
      "execution_count": 175,
      "outputs": []
    },
    {
      "cell_type": "code",
      "source": [
        "y_C4 = np.array(y_C4)\n",
        "y_C4"
      ],
      "metadata": {
        "colab": {
          "base_uri": "https://localhost:8080/"
        },
        "id": "giATREWDh2F_",
        "outputId": "9eb0d2fa-1065-4fe3-9592-b8ee7476e3df"
      },
      "execution_count": 176,
      "outputs": [
        {
          "output_type": "execute_result",
          "data": {
            "text/plain": [
              "array([['A1'],\n",
              "       ['A1'],\n",
              "       ['A1'],\n",
              "       ...,\n",
              "       ['D4'],\n",
              "       ['D4'],\n",
              "       ['D4']], dtype=object)"
            ]
          },
          "metadata": {},
          "execution_count": 176
        }
      ]
    },
    {
      "cell_type": "code",
      "source": [
        "X_test_C4, X_train_C4 , y_test_C4, y_train_C4 = train_test_split(X_C4, y_C4, test_size=80, train_size=320)"
      ],
      "metadata": {
        "id": "LiFymQ96taK3"
      },
      "execution_count": 257,
      "outputs": []
    },
    {
      "cell_type": "code",
      "source": [
        "clf.fit(X_train_C4, y_train_C4)"
      ],
      "metadata": {
        "colab": {
          "base_uri": "https://localhost:8080/"
        },
        "id": "f1KI9hLAh2F_",
        "outputId": "c7f1d0ee-f146-4359-d98e-36183def02a6"
      },
      "execution_count": 258,
      "outputs": [
        {
          "output_type": "stream",
          "name": "stderr",
          "text": [
            "/usr/local/lib/python3.7/dist-packages/sklearn/utils/validation.py:985: DataConversionWarning: A column-vector y was passed when a 1d array was expected. Please change the shape of y to (n_samples, ), for example using ravel().\n",
            "  y = column_or_1d(y, warn=True)\n"
          ]
        },
        {
          "output_type": "execute_result",
          "data": {
            "text/plain": [
              "SVC(kernel='poly')"
            ]
          },
          "metadata": {},
          "execution_count": 258
        }
      ]
    },
    {
      "cell_type": "code",
      "source": [
        "y_pred_C4 = clf.predict(X_test_C4)"
      ],
      "metadata": {
        "id": "VjrvuLHvh2F_"
      },
      "execution_count": 259,
      "outputs": []
    },
    {
      "cell_type": "code",
      "source": [
        "print(\"Accuracy:\", metrics.accuracy_score(y_test_C4, y_pred_C4))"
      ],
      "metadata": {
        "colab": {
          "base_uri": "https://localhost:8080/"
        },
        "id": "w9mcwVYOh2F_",
        "outputId": "5c53cec1-88f4-4fbd-f3e8-b29c27e3fd70"
      },
      "execution_count": 260,
      "outputs": [
        {
          "output_type": "stream",
          "name": "stdout",
          "text": [
            "Accuracy: 0.18125\n"
          ]
        }
      ]
    },
    {
      "cell_type": "markdown",
      "source": [
        "#DD"
      ],
      "metadata": {
        "id": "wRv6g5_Ei95E"
      }
    },
    {
      "cell_type": "markdown",
      "source": [
        "##D2"
      ],
      "metadata": {
        "id": "ZykxP9L-jEXM"
      }
    },
    {
      "cell_type": "code",
      "source": [
        "table_D2= pd.read_excel(DD, sheet_name='D2')\n",
        "table_D2"
      ],
      "metadata": {
        "colab": {
          "base_uri": "https://localhost:8080/",
          "height": 832
        },
        "outputId": "dde6845a-826e-4471-ee16-8be6942a8103",
        "id": "Lh9THsHEjEXM"
      },
      "execution_count": 182,
      "outputs": [
        {
          "output_type": "execute_result",
          "data": {
            "text/html": [
              "\n",
              "  <div id=\"df-5f9d3532-a27d-4841-81bf-978ec8815d1e\">\n",
              "    <div class=\"colab-df-container\">\n",
              "      <div>\n",
              "<style scoped>\n",
              "    .dataframe tbody tr th:only-of-type {\n",
              "        vertical-align: middle;\n",
              "    }\n",
              "\n",
              "    .dataframe tbody tr th {\n",
              "        vertical-align: top;\n",
              "    }\n",
              "\n",
              "    .dataframe thead th {\n",
              "        text-align: right;\n",
              "    }\n",
              "</style>\n",
              "<table border=\"1\" class=\"dataframe\">\n",
              "  <thead>\n",
              "    <tr style=\"text-align: right;\">\n",
              "      <th></th>\n",
              "      <th>R-ref</th>\n",
              "      <th>G-ref</th>\n",
              "      <th>B-ref</th>\n",
              "      <th>R-Shad</th>\n",
              "      <th>G-Shad</th>\n",
              "      <th>B-Shad</th>\n",
              "      <th>H-ref</th>\n",
              "      <th>S-ref</th>\n",
              "      <th>V-ref</th>\n",
              "      <th>H-Shad</th>\n",
              "      <th>S-Shad</th>\n",
              "      <th>V-Shad</th>\n",
              "      <th>Shade-ref</th>\n",
              "      <th>Shade</th>\n",
              "      <th>Setting</th>\n",
              "      <th>Img</th>\n",
              "    </tr>\n",
              "  </thead>\n",
              "  <tbody>\n",
              "    <tr>\n",
              "      <th>0</th>\n",
              "      <td>229.674702</td>\n",
              "      <td>206.699294</td>\n",
              "      <td>151.959338</td>\n",
              "      <td>229.372164</td>\n",
              "      <td>206.348482</td>\n",
              "      <td>151.724628</td>\n",
              "      <td>21.243162</td>\n",
              "      <td>86.251116</td>\n",
              "      <td>229.674702</td>\n",
              "      <td>21.221179</td>\n",
              "      <td>86.286751</td>\n",
              "      <td>229.372164</td>\n",
              "      <td>D2</td>\n",
              "      <td>A1</td>\n",
              "      <td>Set1</td>\n",
              "      <td>BD87D607-5718-45C1-A0DB-D75E63316FD0.png</td>\n",
              "    </tr>\n",
              "    <tr>\n",
              "      <th>1</th>\n",
              "      <td>226.000406</td>\n",
              "      <td>203.723886</td>\n",
              "      <td>143.303871</td>\n",
              "      <td>225.820923</td>\n",
              "      <td>203.576844</td>\n",
              "      <td>143.258516</td>\n",
              "      <td>22.008116</td>\n",
              "      <td>93.349160</td>\n",
              "      <td>226.000406</td>\n",
              "      <td>22.015291</td>\n",
              "      <td>93.267193</td>\n",
              "      <td>225.820923</td>\n",
              "      <td>D2</td>\n",
              "      <td>A1</td>\n",
              "      <td>Set1</td>\n",
              "      <td>FC1BDDC8-C8A7-4C8D-90F6-E6B112FC674F.png</td>\n",
              "    </tr>\n",
              "    <tr>\n",
              "      <th>2</th>\n",
              "      <td>224.442172</td>\n",
              "      <td>206.266618</td>\n",
              "      <td>160.178557</td>\n",
              "      <td>222.176730</td>\n",
              "      <td>203.953275</td>\n",
              "      <td>158.401181</td>\n",
              "      <td>21.786219</td>\n",
              "      <td>73.045126</td>\n",
              "      <td>224.442172</td>\n",
              "      <td>21.750942</td>\n",
              "      <td>73.266908</td>\n",
              "      <td>222.176730</td>\n",
              "      <td>D2</td>\n",
              "      <td>A1</td>\n",
              "      <td>Set1</td>\n",
              "      <td>27DD78A7-D5F3-4BAB-BFE1-8D2D8AB88D29.png</td>\n",
              "    </tr>\n",
              "    <tr>\n",
              "      <th>3</th>\n",
              "      <td>223.874199</td>\n",
              "      <td>201.225956</td>\n",
              "      <td>149.612613</td>\n",
              "      <td>222.262357</td>\n",
              "      <td>195.465899</td>\n",
              "      <td>140.510063</td>\n",
              "      <td>20.100317</td>\n",
              "      <td>93.927522</td>\n",
              "      <td>222.178557</td>\n",
              "      <td>20.100135</td>\n",
              "      <td>93.801294</td>\n",
              "      <td>222.262357</td>\n",
              "      <td>D2</td>\n",
              "      <td>A1</td>\n",
              "      <td>Set1</td>\n",
              "      <td>25A38DEA-0A5E-4502-AE98-BDEB123DF4E5.png</td>\n",
              "    </tr>\n",
              "    <tr>\n",
              "      <th>4</th>\n",
              "      <td>209.855856</td>\n",
              "      <td>179.533723</td>\n",
              "      <td>121.571869</td>\n",
              "      <td>212.670507</td>\n",
              "      <td>182.227295</td>\n",
              "      <td>125.368110</td>\n",
              "      <td>19.527149</td>\n",
              "      <td>107.243406</td>\n",
              "      <td>209.855856</td>\n",
              "      <td>19.309366</td>\n",
              "      <td>104.611194</td>\n",
              "      <td>212.670507</td>\n",
              "      <td>D2</td>\n",
              "      <td>A1</td>\n",
              "      <td>Set1</td>\n",
              "      <td>7396F2FB-8C50-4ED7-AA8C-CDAE1624F900.png</td>\n",
              "    </tr>\n",
              "    <tr>\n",
              "      <th>...</th>\n",
              "      <td>...</td>\n",
              "      <td>...</td>\n",
              "      <td>...</td>\n",
              "      <td>...</td>\n",
              "      <td>...</td>\n",
              "      <td>...</td>\n",
              "      <td>...</td>\n",
              "      <td>...</td>\n",
              "      <td>...</td>\n",
              "      <td>...</td>\n",
              "      <td>...</td>\n",
              "      <td>...</td>\n",
              "      <td>...</td>\n",
              "      <td>...</td>\n",
              "      <td>...</td>\n",
              "      <td>...</td>\n",
              "    </tr>\n",
              "    <tr>\n",
              "      <th>3195</th>\n",
              "      <td>232.804642</td>\n",
              "      <td>209.441604</td>\n",
              "      <td>164.924357</td>\n",
              "      <td>233.308869</td>\n",
              "      <td>210.109594</td>\n",
              "      <td>166.164853</td>\n",
              "      <td>19.601331</td>\n",
              "      <td>74.376755</td>\n",
              "      <td>232.804642</td>\n",
              "      <td>19.552094</td>\n",
              "      <td>73.433042</td>\n",
              "      <td>233.308869</td>\n",
              "      <td>D2</td>\n",
              "      <td>D4</td>\n",
              "      <td>Set4</td>\n",
              "      <td>930BCBF0-9910-4884-8228-F2A135105AD6.png</td>\n",
              "    </tr>\n",
              "    <tr>\n",
              "      <th>3196</th>\n",
              "      <td>235.903985</td>\n",
              "      <td>218.940670</td>\n",
              "      <td>179.875741</td>\n",
              "      <td>236.487092</td>\n",
              "      <td>219.666951</td>\n",
              "      <td>181.014864</td>\n",
              "      <td>20.612775</td>\n",
              "      <td>78.169873</td>\n",
              "      <td>229.335768</td>\n",
              "      <td>20.589787</td>\n",
              "      <td>77.092810</td>\n",
              "      <td>229.914515</td>\n",
              "      <td>D2</td>\n",
              "      <td>D4</td>\n",
              "      <td>Set4</td>\n",
              "      <td>B811B91C-FF15-4F72-AF53-4D0A2346EF9E.png</td>\n",
              "    </tr>\n",
              "    <tr>\n",
              "      <th>3197</th>\n",
              "      <td>232.175960</td>\n",
              "      <td>216.874036</td>\n",
              "      <td>178.708465</td>\n",
              "      <td>232.964654</td>\n",
              "      <td>217.832160</td>\n",
              "      <td>180.185122</td>\n",
              "      <td>21.562292</td>\n",
              "      <td>58.762357</td>\n",
              "      <td>232.175960</td>\n",
              "      <td>21.513975</td>\n",
              "      <td>57.839201</td>\n",
              "      <td>232.964654</td>\n",
              "      <td>D2</td>\n",
              "      <td>D4</td>\n",
              "      <td>Set4</td>\n",
              "      <td>EFCF8DF7-D986-4A84-B87F-B7C96CBEB72C.png</td>\n",
              "    </tr>\n",
              "    <tr>\n",
              "      <th>3198</th>\n",
              "      <td>231.726077</td>\n",
              "      <td>211.455077</td>\n",
              "      <td>167.223440</td>\n",
              "      <td>232.533177</td>\n",
              "      <td>212.551597</td>\n",
              "      <td>168.982505</td>\n",
              "      <td>20.556367</td>\n",
              "      <td>71.019641</td>\n",
              "      <td>231.726077</td>\n",
              "      <td>20.552237</td>\n",
              "      <td>69.773771</td>\n",
              "      <td>232.533177</td>\n",
              "      <td>D2</td>\n",
              "      <td>D4</td>\n",
              "      <td>Set4</td>\n",
              "      <td>F62B2418-6BD9-4E8F-AA84-7F33573893C9.png</td>\n",
              "    </tr>\n",
              "    <tr>\n",
              "      <th>3199</th>\n",
              "      <td>226.100641</td>\n",
              "      <td>197.575278</td>\n",
              "      <td>146.748235</td>\n",
              "      <td>226.795889</td>\n",
              "      <td>198.548539</td>\n",
              "      <td>147.966148</td>\n",
              "      <td>19.189595</td>\n",
              "      <td>89.497849</td>\n",
              "      <td>226.100641</td>\n",
              "      <td>19.239457</td>\n",
              "      <td>88.650238</td>\n",
              "      <td>226.795889</td>\n",
              "      <td>D2</td>\n",
              "      <td>D4</td>\n",
              "      <td>Set4</td>\n",
              "      <td>66E2C493-32D2-491F-854C-A1D9067414F4.png</td>\n",
              "    </tr>\n",
              "  </tbody>\n",
              "</table>\n",
              "<p>3200 rows × 16 columns</p>\n",
              "</div>\n",
              "      <button class=\"colab-df-convert\" onclick=\"convertToInteractive('df-5f9d3532-a27d-4841-81bf-978ec8815d1e')\"\n",
              "              title=\"Convert this dataframe to an interactive table.\"\n",
              "              style=\"display:none;\">\n",
              "        \n",
              "  <svg xmlns=\"http://www.w3.org/2000/svg\" height=\"24px\"viewBox=\"0 0 24 24\"\n",
              "       width=\"24px\">\n",
              "    <path d=\"M0 0h24v24H0V0z\" fill=\"none\"/>\n",
              "    <path d=\"M18.56 5.44l.94 2.06.94-2.06 2.06-.94-2.06-.94-.94-2.06-.94 2.06-2.06.94zm-11 1L8.5 8.5l.94-2.06 2.06-.94-2.06-.94L8.5 2.5l-.94 2.06-2.06.94zm10 10l.94 2.06.94-2.06 2.06-.94-2.06-.94-.94-2.06-.94 2.06-2.06.94z\"/><path d=\"M17.41 7.96l-1.37-1.37c-.4-.4-.92-.59-1.43-.59-.52 0-1.04.2-1.43.59L10.3 9.45l-7.72 7.72c-.78.78-.78 2.05 0 2.83L4 21.41c.39.39.9.59 1.41.59.51 0 1.02-.2 1.41-.59l7.78-7.78 2.81-2.81c.8-.78.8-2.07 0-2.86zM5.41 20L4 18.59l7.72-7.72 1.47 1.35L5.41 20z\"/>\n",
              "  </svg>\n",
              "      </button>\n",
              "      \n",
              "  <style>\n",
              "    .colab-df-container {\n",
              "      display:flex;\n",
              "      flex-wrap:wrap;\n",
              "      gap: 12px;\n",
              "    }\n",
              "\n",
              "    .colab-df-convert {\n",
              "      background-color: #E8F0FE;\n",
              "      border: none;\n",
              "      border-radius: 50%;\n",
              "      cursor: pointer;\n",
              "      display: none;\n",
              "      fill: #1967D2;\n",
              "      height: 32px;\n",
              "      padding: 0 0 0 0;\n",
              "      width: 32px;\n",
              "    }\n",
              "\n",
              "    .colab-df-convert:hover {\n",
              "      background-color: #E2EBFA;\n",
              "      box-shadow: 0px 1px 2px rgba(60, 64, 67, 0.3), 0px 1px 3px 1px rgba(60, 64, 67, 0.15);\n",
              "      fill: #174EA6;\n",
              "    }\n",
              "\n",
              "    [theme=dark] .colab-df-convert {\n",
              "      background-color: #3B4455;\n",
              "      fill: #D2E3FC;\n",
              "    }\n",
              "\n",
              "    [theme=dark] .colab-df-convert:hover {\n",
              "      background-color: #434B5C;\n",
              "      box-shadow: 0px 1px 3px 1px rgba(0, 0, 0, 0.15);\n",
              "      filter: drop-shadow(0px 1px 2px rgba(0, 0, 0, 0.3));\n",
              "      fill: #FFFFFF;\n",
              "    }\n",
              "  </style>\n",
              "\n",
              "      <script>\n",
              "        const buttonEl =\n",
              "          document.querySelector('#df-5f9d3532-a27d-4841-81bf-978ec8815d1e button.colab-df-convert');\n",
              "        buttonEl.style.display =\n",
              "          google.colab.kernel.accessAllowed ? 'block' : 'none';\n",
              "\n",
              "        async function convertToInteractive(key) {\n",
              "          const element = document.querySelector('#df-5f9d3532-a27d-4841-81bf-978ec8815d1e');\n",
              "          const dataTable =\n",
              "            await google.colab.kernel.invokeFunction('convertToInteractive',\n",
              "                                                     [key], {});\n",
              "          if (!dataTable) return;\n",
              "\n",
              "          const docLinkHtml = 'Like what you see? Visit the ' +\n",
              "            '<a target=\"_blank\" href=https://colab.research.google.com/notebooks/data_table.ipynb>data table notebook</a>'\n",
              "            + ' to learn more about interactive tables.';\n",
              "          element.innerHTML = '';\n",
              "          dataTable['output_type'] = 'display_data';\n",
              "          await google.colab.output.renderOutput(dataTable, element);\n",
              "          const docLink = document.createElement('div');\n",
              "          docLink.innerHTML = docLinkHtml;\n",
              "          element.appendChild(docLink);\n",
              "        }\n",
              "      </script>\n",
              "    </div>\n",
              "  </div>\n",
              "  "
            ],
            "text/plain": [
              "           R-ref       G-ref  ...  Setting                                       Img\n",
              "0     229.674702  206.699294  ...     Set1  BD87D607-5718-45C1-A0DB-D75E63316FD0.png\n",
              "1     226.000406  203.723886  ...     Set1  FC1BDDC8-C8A7-4C8D-90F6-E6B112FC674F.png\n",
              "2     224.442172  206.266618  ...     Set1  27DD78A7-D5F3-4BAB-BFE1-8D2D8AB88D29.png\n",
              "3     223.874199  201.225956  ...     Set1  25A38DEA-0A5E-4502-AE98-BDEB123DF4E5.png\n",
              "4     209.855856  179.533723  ...     Set1  7396F2FB-8C50-4ED7-AA8C-CDAE1624F900.png\n",
              "...          ...         ...  ...      ...                                       ...\n",
              "3195  232.804642  209.441604  ...     Set4  930BCBF0-9910-4884-8228-F2A135105AD6.png\n",
              "3196  235.903985  218.940670  ...     Set4  B811B91C-FF15-4F72-AF53-4D0A2346EF9E.png\n",
              "3197  232.175960  216.874036  ...     Set4  EFCF8DF7-D986-4A84-B87F-B7C96CBEB72C.png\n",
              "3198  231.726077  211.455077  ...     Set4  F62B2418-6BD9-4E8F-AA84-7F33573893C9.png\n",
              "3199  226.100641  197.575278  ...     Set4  66E2C493-32D2-491F-854C-A1D9067414F4.png\n",
              "\n",
              "[3200 rows x 16 columns]"
            ]
          },
          "metadata": {},
          "execution_count": 182
        }
      ]
    },
    {
      "cell_type": "code",
      "source": [
        "RGB_D2 = table_D2.drop(['H-ref','S-ref','V-ref','S-Shad','V-Shad','Shade-ref','Setting','Img','Shade','H-Shad'], axis=1)"
      ],
      "metadata": {
        "id": "ur6MxhejjEXM"
      },
      "execution_count": 183,
      "outputs": []
    },
    {
      "cell_type": "code",
      "source": [
        "X_D2 = np.array(RGB_D2)"
      ],
      "metadata": {
        "id": "zgkL6RdOjEXN"
      },
      "execution_count": 184,
      "outputs": []
    },
    {
      "cell_type": "code",
      "source": [
        "y_D2 =  table_C2.iloc[:,13:14]"
      ],
      "metadata": {
        "id": "SZpwjk7JjEXN"
      },
      "execution_count": 185,
      "outputs": []
    },
    {
      "cell_type": "code",
      "source": [
        "y_D2= np.array(y_D2)\n",
        "y_D2"
      ],
      "metadata": {
        "outputId": "7e6fd003-8f47-43d6-c306-d51a3b5dfb2b",
        "colab": {
          "base_uri": "https://localhost:8080/"
        },
        "id": "LwtVvNQ0jEXN"
      },
      "execution_count": 186,
      "outputs": [
        {
          "output_type": "execute_result",
          "data": {
            "text/plain": [
              "array([['A1'],\n",
              "       ['A1'],\n",
              "       ['A1'],\n",
              "       ...,\n",
              "       ['D4'],\n",
              "       ['D4'],\n",
              "       ['D4']], dtype=object)"
            ]
          },
          "metadata": {},
          "execution_count": 186
        }
      ]
    },
    {
      "cell_type": "code",
      "source": [
        "X_test_D2, X_train_D2 , y_test_D2, y_train_D2 = train_test_split(X_D2, y_D2, test_size=80, train_size=320)"
      ],
      "metadata": {
        "id": "DrOURgSvthl9"
      },
      "execution_count": 261,
      "outputs": []
    },
    {
      "cell_type": "code",
      "source": [
        "clf.fit(X_train_D2, y_train_D2)"
      ],
      "metadata": {
        "outputId": "ce76f05f-1648-493d-f151-7a1e9b49b650",
        "colab": {
          "base_uri": "https://localhost:8080/"
        },
        "id": "yByrwUV8jEXN"
      },
      "execution_count": 262,
      "outputs": [
        {
          "output_type": "stream",
          "name": "stderr",
          "text": [
            "/usr/local/lib/python3.7/dist-packages/sklearn/utils/validation.py:985: DataConversionWarning: A column-vector y was passed when a 1d array was expected. Please change the shape of y to (n_samples, ), for example using ravel().\n",
            "  y = column_or_1d(y, warn=True)\n"
          ]
        },
        {
          "output_type": "execute_result",
          "data": {
            "text/plain": [
              "SVC(kernel='poly')"
            ]
          },
          "metadata": {},
          "execution_count": 262
        }
      ]
    },
    {
      "cell_type": "code",
      "source": [
        "y_pred_D2 = clf.predict(X_test_D2)"
      ],
      "metadata": {
        "id": "_PBkYrfjjEXN"
      },
      "execution_count": 263,
      "outputs": []
    },
    {
      "cell_type": "code",
      "source": [
        "print(\"Accuracy:\", metrics.accuracy_score(y_test_D2, y_pred_D2))"
      ],
      "metadata": {
        "outputId": "9318654e-d2d7-4b74-b944-92086187d409",
        "colab": {
          "base_uri": "https://localhost:8080/"
        },
        "id": "cEjzkY35jEXN"
      },
      "execution_count": 264,
      "outputs": [
        {
          "output_type": "stream",
          "name": "stdout",
          "text": [
            "Accuracy: 0.1375\n"
          ]
        }
      ]
    },
    {
      "cell_type": "markdown",
      "source": [
        "##D3"
      ],
      "metadata": {
        "id": "5s8VIgpLjEXO"
      }
    },
    {
      "cell_type": "code",
      "source": [
        "table_D3= pd.read_excel(DD, sheet_name='D3')\n",
        "table_D3"
      ],
      "metadata": {
        "colab": {
          "base_uri": "https://localhost:8080/",
          "height": 832
        },
        "outputId": "3af15169-de9a-4dcb-8d0a-df27c338a8bd",
        "id": "_9XjnGG2jEXO"
      },
      "execution_count": 192,
      "outputs": [
        {
          "output_type": "execute_result",
          "data": {
            "text/html": [
              "\n",
              "  <div id=\"df-5acdccbb-70e0-41f1-b3e7-71b1cac3bd29\">\n",
              "    <div class=\"colab-df-container\">\n",
              "      <div>\n",
              "<style scoped>\n",
              "    .dataframe tbody tr th:only-of-type {\n",
              "        vertical-align: middle;\n",
              "    }\n",
              "\n",
              "    .dataframe tbody tr th {\n",
              "        vertical-align: top;\n",
              "    }\n",
              "\n",
              "    .dataframe thead th {\n",
              "        text-align: right;\n",
              "    }\n",
              "</style>\n",
              "<table border=\"1\" class=\"dataframe\">\n",
              "  <thead>\n",
              "    <tr style=\"text-align: right;\">\n",
              "      <th></th>\n",
              "      <th>R-ref</th>\n",
              "      <th>G-ref</th>\n",
              "      <th>B-ref</th>\n",
              "      <th>R-Shad</th>\n",
              "      <th>G-Shad</th>\n",
              "      <th>B-Shad</th>\n",
              "      <th>H-ref</th>\n",
              "      <th>S-ref</th>\n",
              "      <th>V-ref</th>\n",
              "      <th>H-Shad</th>\n",
              "      <th>S-Shad</th>\n",
              "      <th>V-Shad</th>\n",
              "      <th>Shade-ref</th>\n",
              "      <th>Shade</th>\n",
              "      <th>Setting</th>\n",
              "      <th>Img</th>\n",
              "    </tr>\n",
              "  </thead>\n",
              "  <tbody>\n",
              "    <tr>\n",
              "      <th>0</th>\n",
              "      <td>232.175960</td>\n",
              "      <td>216.874036</td>\n",
              "      <td>178.708465</td>\n",
              "      <td>232.964654</td>\n",
              "      <td>217.832160</td>\n",
              "      <td>180.185122</td>\n",
              "      <td>21.562292</td>\n",
              "      <td>58.762357</td>\n",
              "      <td>232.175960</td>\n",
              "      <td>21.513975</td>\n",
              "      <td>57.839201</td>\n",
              "      <td>232.964654</td>\n",
              "      <td>D3</td>\n",
              "      <td>A1</td>\n",
              "      <td>Set1</td>\n",
              "      <td>57601EF7-37D5-4783-A278-238D30F60912.png</td>\n",
              "    </tr>\n",
              "    <tr>\n",
              "      <th>1</th>\n",
              "      <td>231.726077</td>\n",
              "      <td>211.455077</td>\n",
              "      <td>167.223440</td>\n",
              "      <td>232.533177</td>\n",
              "      <td>212.551597</td>\n",
              "      <td>168.982505</td>\n",
              "      <td>20.556367</td>\n",
              "      <td>71.019641</td>\n",
              "      <td>231.726077</td>\n",
              "      <td>20.552237</td>\n",
              "      <td>69.773771</td>\n",
              "      <td>232.533177</td>\n",
              "      <td>D3</td>\n",
              "      <td>A1</td>\n",
              "      <td>Set1</td>\n",
              "      <td>5412037F-4AF3-43A2-A4ED-CADFEC0751E7.png</td>\n",
              "    </tr>\n",
              "    <tr>\n",
              "      <th>2</th>\n",
              "      <td>226.100641</td>\n",
              "      <td>197.575278</td>\n",
              "      <td>146.748235</td>\n",
              "      <td>226.795889</td>\n",
              "      <td>198.548539</td>\n",
              "      <td>147.966148</td>\n",
              "      <td>19.189595</td>\n",
              "      <td>89.497849</td>\n",
              "      <td>226.100641</td>\n",
              "      <td>19.239457</td>\n",
              "      <td>88.650238</td>\n",
              "      <td>226.795889</td>\n",
              "      <td>D3</td>\n",
              "      <td>A1</td>\n",
              "      <td>Set1</td>\n",
              "      <td>456A44EC-FCBD-4487-B70C-F0E01333D15C.png</td>\n",
              "    </tr>\n",
              "    <tr>\n",
              "      <th>3</th>\n",
              "      <td>230.612531</td>\n",
              "      <td>207.562373</td>\n",
              "      <td>164.211752</td>\n",
              "      <td>231.210796</td>\n",
              "      <td>208.351682</td>\n",
              "      <td>165.428561</td>\n",
              "      <td>19.566594</td>\n",
              "      <td>73.461651</td>\n",
              "      <td>230.612531</td>\n",
              "      <td>19.550743</td>\n",
              "      <td>72.606500</td>\n",
              "      <td>231.210796</td>\n",
              "      <td>D3</td>\n",
              "      <td>A1</td>\n",
              "      <td>Set1</td>\n",
              "      <td>834A3691-A011-4D07-8652-E2A2C8F1E3F7.png</td>\n",
              "    </tr>\n",
              "    <tr>\n",
              "      <th>4</th>\n",
              "      <td>232.133431</td>\n",
              "      <td>209.823472</td>\n",
              "      <td>160.814707</td>\n",
              "      <td>232.841548</td>\n",
              "      <td>211.054264</td>\n",
              "      <td>163.067989</td>\n",
              "      <td>20.814463</td>\n",
              "      <td>78.373996</td>\n",
              "      <td>232.133431</td>\n",
              "      <td>20.855487</td>\n",
              "      <td>76.523434</td>\n",
              "      <td>232.841832</td>\n",
              "      <td>D3</td>\n",
              "      <td>A1</td>\n",
              "      <td>Set1</td>\n",
              "      <td>714E83ED-391B-480A-85E8-DC4AB8864683.png</td>\n",
              "    </tr>\n",
              "    <tr>\n",
              "      <th>...</th>\n",
              "      <td>...</td>\n",
              "      <td>...</td>\n",
              "      <td>...</td>\n",
              "      <td>...</td>\n",
              "      <td>...</td>\n",
              "      <td>...</td>\n",
              "      <td>...</td>\n",
              "      <td>...</td>\n",
              "      <td>...</td>\n",
              "      <td>...</td>\n",
              "      <td>...</td>\n",
              "      <td>...</td>\n",
              "      <td>...</td>\n",
              "      <td>...</td>\n",
              "      <td>...</td>\n",
              "      <td>...</td>\n",
              "    </tr>\n",
              "    <tr>\n",
              "      <th>3195</th>\n",
              "      <td>232.804642</td>\n",
              "      <td>209.441604</td>\n",
              "      <td>164.924357</td>\n",
              "      <td>233.308869</td>\n",
              "      <td>210.109594</td>\n",
              "      <td>166.164853</td>\n",
              "      <td>19.601331</td>\n",
              "      <td>74.376755</td>\n",
              "      <td>232.804642</td>\n",
              "      <td>19.552094</td>\n",
              "      <td>73.433042</td>\n",
              "      <td>233.308869</td>\n",
              "      <td>D3</td>\n",
              "      <td>D4</td>\n",
              "      <td>Set4</td>\n",
              "      <td>10CE35C5-6743-4EEA-98A9-680ECFAEEC9D.png</td>\n",
              "    </tr>\n",
              "    <tr>\n",
              "      <th>3196</th>\n",
              "      <td>235.903985</td>\n",
              "      <td>218.940670</td>\n",
              "      <td>179.875741</td>\n",
              "      <td>236.487092</td>\n",
              "      <td>219.666951</td>\n",
              "      <td>181.014864</td>\n",
              "      <td>20.612775</td>\n",
              "      <td>78.169873</td>\n",
              "      <td>229.335768</td>\n",
              "      <td>20.589787</td>\n",
              "      <td>77.092810</td>\n",
              "      <td>229.914515</td>\n",
              "      <td>D3</td>\n",
              "      <td>D4</td>\n",
              "      <td>Set4</td>\n",
              "      <td>944DB7CA-D69F-4E46-BD49-456D2156BCD0.png</td>\n",
              "    </tr>\n",
              "    <tr>\n",
              "      <th>3197</th>\n",
              "      <td>232.175960</td>\n",
              "      <td>216.874036</td>\n",
              "      <td>178.708465</td>\n",
              "      <td>232.964654</td>\n",
              "      <td>217.832160</td>\n",
              "      <td>180.185122</td>\n",
              "      <td>21.562292</td>\n",
              "      <td>58.762357</td>\n",
              "      <td>232.175960</td>\n",
              "      <td>21.513975</td>\n",
              "      <td>57.839201</td>\n",
              "      <td>232.964654</td>\n",
              "      <td>D3</td>\n",
              "      <td>D4</td>\n",
              "      <td>Set4</td>\n",
              "      <td>A632E1CE-7393-43EB-8D28-77A0DB3FB2FB.png</td>\n",
              "    </tr>\n",
              "    <tr>\n",
              "      <th>3198</th>\n",
              "      <td>231.726077</td>\n",
              "      <td>211.455077</td>\n",
              "      <td>167.223440</td>\n",
              "      <td>232.533177</td>\n",
              "      <td>212.551597</td>\n",
              "      <td>168.982505</td>\n",
              "      <td>20.556367</td>\n",
              "      <td>71.019641</td>\n",
              "      <td>231.726077</td>\n",
              "      <td>20.552237</td>\n",
              "      <td>69.773771</td>\n",
              "      <td>232.533177</td>\n",
              "      <td>D3</td>\n",
              "      <td>D4</td>\n",
              "      <td>Set4</td>\n",
              "      <td>9FBF239E-E5C8-4445-AA48-402EB3B8A4E4.png</td>\n",
              "    </tr>\n",
              "    <tr>\n",
              "      <th>3199</th>\n",
              "      <td>226.100641</td>\n",
              "      <td>197.575278</td>\n",
              "      <td>146.748235</td>\n",
              "      <td>226.795889</td>\n",
              "      <td>198.548539</td>\n",
              "      <td>147.966148</td>\n",
              "      <td>19.189595</td>\n",
              "      <td>89.497849</td>\n",
              "      <td>226.100641</td>\n",
              "      <td>19.239457</td>\n",
              "      <td>88.650238</td>\n",
              "      <td>226.795889</td>\n",
              "      <td>D3</td>\n",
              "      <td>D4</td>\n",
              "      <td>Set4</td>\n",
              "      <td>70F2BDFA-31E1-4B8C-98B7-FD92D3194389.png</td>\n",
              "    </tr>\n",
              "  </tbody>\n",
              "</table>\n",
              "<p>3200 rows × 16 columns</p>\n",
              "</div>\n",
              "      <button class=\"colab-df-convert\" onclick=\"convertToInteractive('df-5acdccbb-70e0-41f1-b3e7-71b1cac3bd29')\"\n",
              "              title=\"Convert this dataframe to an interactive table.\"\n",
              "              style=\"display:none;\">\n",
              "        \n",
              "  <svg xmlns=\"http://www.w3.org/2000/svg\" height=\"24px\"viewBox=\"0 0 24 24\"\n",
              "       width=\"24px\">\n",
              "    <path d=\"M0 0h24v24H0V0z\" fill=\"none\"/>\n",
              "    <path d=\"M18.56 5.44l.94 2.06.94-2.06 2.06-.94-2.06-.94-.94-2.06-.94 2.06-2.06.94zm-11 1L8.5 8.5l.94-2.06 2.06-.94-2.06-.94L8.5 2.5l-.94 2.06-2.06.94zm10 10l.94 2.06.94-2.06 2.06-.94-2.06-.94-.94-2.06-.94 2.06-2.06.94z\"/><path d=\"M17.41 7.96l-1.37-1.37c-.4-.4-.92-.59-1.43-.59-.52 0-1.04.2-1.43.59L10.3 9.45l-7.72 7.72c-.78.78-.78 2.05 0 2.83L4 21.41c.39.39.9.59 1.41.59.51 0 1.02-.2 1.41-.59l7.78-7.78 2.81-2.81c.8-.78.8-2.07 0-2.86zM5.41 20L4 18.59l7.72-7.72 1.47 1.35L5.41 20z\"/>\n",
              "  </svg>\n",
              "      </button>\n",
              "      \n",
              "  <style>\n",
              "    .colab-df-container {\n",
              "      display:flex;\n",
              "      flex-wrap:wrap;\n",
              "      gap: 12px;\n",
              "    }\n",
              "\n",
              "    .colab-df-convert {\n",
              "      background-color: #E8F0FE;\n",
              "      border: none;\n",
              "      border-radius: 50%;\n",
              "      cursor: pointer;\n",
              "      display: none;\n",
              "      fill: #1967D2;\n",
              "      height: 32px;\n",
              "      padding: 0 0 0 0;\n",
              "      width: 32px;\n",
              "    }\n",
              "\n",
              "    .colab-df-convert:hover {\n",
              "      background-color: #E2EBFA;\n",
              "      box-shadow: 0px 1px 2px rgba(60, 64, 67, 0.3), 0px 1px 3px 1px rgba(60, 64, 67, 0.15);\n",
              "      fill: #174EA6;\n",
              "    }\n",
              "\n",
              "    [theme=dark] .colab-df-convert {\n",
              "      background-color: #3B4455;\n",
              "      fill: #D2E3FC;\n",
              "    }\n",
              "\n",
              "    [theme=dark] .colab-df-convert:hover {\n",
              "      background-color: #434B5C;\n",
              "      box-shadow: 0px 1px 3px 1px rgba(0, 0, 0, 0.15);\n",
              "      filter: drop-shadow(0px 1px 2px rgba(0, 0, 0, 0.3));\n",
              "      fill: #FFFFFF;\n",
              "    }\n",
              "  </style>\n",
              "\n",
              "      <script>\n",
              "        const buttonEl =\n",
              "          document.querySelector('#df-5acdccbb-70e0-41f1-b3e7-71b1cac3bd29 button.colab-df-convert');\n",
              "        buttonEl.style.display =\n",
              "          google.colab.kernel.accessAllowed ? 'block' : 'none';\n",
              "\n",
              "        async function convertToInteractive(key) {\n",
              "          const element = document.querySelector('#df-5acdccbb-70e0-41f1-b3e7-71b1cac3bd29');\n",
              "          const dataTable =\n",
              "            await google.colab.kernel.invokeFunction('convertToInteractive',\n",
              "                                                     [key], {});\n",
              "          if (!dataTable) return;\n",
              "\n",
              "          const docLinkHtml = 'Like what you see? Visit the ' +\n",
              "            '<a target=\"_blank\" href=https://colab.research.google.com/notebooks/data_table.ipynb>data table notebook</a>'\n",
              "            + ' to learn more about interactive tables.';\n",
              "          element.innerHTML = '';\n",
              "          dataTable['output_type'] = 'display_data';\n",
              "          await google.colab.output.renderOutput(dataTable, element);\n",
              "          const docLink = document.createElement('div');\n",
              "          docLink.innerHTML = docLinkHtml;\n",
              "          element.appendChild(docLink);\n",
              "        }\n",
              "      </script>\n",
              "    </div>\n",
              "  </div>\n",
              "  "
            ],
            "text/plain": [
              "           R-ref       G-ref  ...  Setting                                       Img\n",
              "0     232.175960  216.874036  ...     Set1  57601EF7-37D5-4783-A278-238D30F60912.png\n",
              "1     231.726077  211.455077  ...     Set1  5412037F-4AF3-43A2-A4ED-CADFEC0751E7.png\n",
              "2     226.100641  197.575278  ...     Set1  456A44EC-FCBD-4487-B70C-F0E01333D15C.png\n",
              "3     230.612531  207.562373  ...     Set1  834A3691-A011-4D07-8652-E2A2C8F1E3F7.png\n",
              "4     232.133431  209.823472  ...     Set1  714E83ED-391B-480A-85E8-DC4AB8864683.png\n",
              "...          ...         ...  ...      ...                                       ...\n",
              "3195  232.804642  209.441604  ...     Set4  10CE35C5-6743-4EEA-98A9-680ECFAEEC9D.png\n",
              "3196  235.903985  218.940670  ...     Set4  944DB7CA-D69F-4E46-BD49-456D2156BCD0.png\n",
              "3197  232.175960  216.874036  ...     Set4  A632E1CE-7393-43EB-8D28-77A0DB3FB2FB.png\n",
              "3198  231.726077  211.455077  ...     Set4  9FBF239E-E5C8-4445-AA48-402EB3B8A4E4.png\n",
              "3199  226.100641  197.575278  ...     Set4  70F2BDFA-31E1-4B8C-98B7-FD92D3194389.png\n",
              "\n",
              "[3200 rows x 16 columns]"
            ]
          },
          "metadata": {},
          "execution_count": 192
        }
      ]
    },
    {
      "cell_type": "code",
      "source": [
        "RGB_D3 = table_D3.drop(['H-ref','S-ref','V-ref','S-Shad','V-Shad','Shade-ref','Setting','Img','Shade','H-Shad'], axis=1)"
      ],
      "metadata": {
        "id": "zJ_KBV3SjEXO"
      },
      "execution_count": 193,
      "outputs": []
    },
    {
      "cell_type": "code",
      "source": [
        "X_D3 = np.array(RGB_D3)"
      ],
      "metadata": {
        "id": "Vwt7o6_RjEXO"
      },
      "execution_count": 194,
      "outputs": []
    },
    {
      "cell_type": "code",
      "source": [
        "y_D3 =  table_D3.iloc[:,13:14]"
      ],
      "metadata": {
        "id": "WkkXzq8rjEXO"
      },
      "execution_count": 195,
      "outputs": []
    },
    {
      "cell_type": "code",
      "source": [
        "y_D3 = np.array(y_D3)\n",
        "y_D3"
      ],
      "metadata": {
        "outputId": "e5fd9009-9bee-4cbe-a257-8fc2baaf5654",
        "colab": {
          "base_uri": "https://localhost:8080/"
        },
        "id": "5or-JWTCjEXO"
      },
      "execution_count": 196,
      "outputs": [
        {
          "output_type": "execute_result",
          "data": {
            "text/plain": [
              "array([['A1'],\n",
              "       ['A1'],\n",
              "       ['A1'],\n",
              "       ...,\n",
              "       ['D4'],\n",
              "       ['D4'],\n",
              "       ['D4']], dtype=object)"
            ]
          },
          "metadata": {},
          "execution_count": 196
        }
      ]
    },
    {
      "cell_type": "code",
      "source": [
        "X_test_D3, X_train_D3 , y_test_D3, y_train_D3 = train_test_split(X_D3, y_D3, test_size=80, train_size=320)"
      ],
      "metadata": {
        "id": "1WMLd2TwtrRb"
      },
      "execution_count": 265,
      "outputs": []
    },
    {
      "cell_type": "code",
      "source": [
        "clf.fit(X_train_D3, y_train_D3)"
      ],
      "metadata": {
        "outputId": "b6c13a99-d641-45b3-a157-9c12ed761d75",
        "colab": {
          "base_uri": "https://localhost:8080/"
        },
        "id": "xMcAjw9yjEXO"
      },
      "execution_count": 199,
      "outputs": [
        {
          "output_type": "stream",
          "name": "stderr",
          "text": [
            "/usr/local/lib/python3.7/dist-packages/sklearn/utils/validation.py:985: DataConversionWarning: A column-vector y was passed when a 1d array was expected. Please change the shape of y to (n_samples, ), for example using ravel().\n",
            "  y = column_or_1d(y, warn=True)\n"
          ]
        },
        {
          "output_type": "execute_result",
          "data": {
            "text/plain": [
              "SVC(kernel='poly')"
            ]
          },
          "metadata": {},
          "execution_count": 199
        }
      ]
    },
    {
      "cell_type": "code",
      "source": [
        "y_pred_D3 = clf.predict(X_test_D3)"
      ],
      "metadata": {
        "id": "fcC7N9IxjEXP"
      },
      "execution_count": 200,
      "outputs": []
    },
    {
      "cell_type": "code",
      "source": [
        "print(\"Accuracy:\", metrics.accuracy_score(y_test_D3, y_pred_D3))"
      ],
      "metadata": {
        "outputId": "5e9f3cf7-ebe4-4ad0-ed4d-a20393cb3608",
        "colab": {
          "base_uri": "https://localhost:8080/"
        },
        "id": "XVhqP4MojEXP"
      },
      "execution_count": 201,
      "outputs": [
        {
          "output_type": "stream",
          "name": "stdout",
          "text": [
            "Accuracy: 0.17098214285714286\n"
          ]
        }
      ]
    },
    {
      "cell_type": "markdown",
      "source": [
        "##D4"
      ],
      "metadata": {
        "id": "tsnJcGPLjEXP"
      }
    },
    {
      "cell_type": "code",
      "source": [
        "table_D4 = pd.read_excel(DD, sheet_name='D4')\n",
        "table_D4"
      ],
      "metadata": {
        "colab": {
          "base_uri": "https://localhost:8080/",
          "height": 832
        },
        "id": "kGavY6bTjEXP",
        "outputId": "69fc195e-8113-4246-83de-f567c924c475"
      },
      "execution_count": 202,
      "outputs": [
        {
          "output_type": "execute_result",
          "data": {
            "text/html": [
              "\n",
              "  <div id=\"df-0abca5bb-9380-47ed-8c7c-dabba0d5cac5\">\n",
              "    <div class=\"colab-df-container\">\n",
              "      <div>\n",
              "<style scoped>\n",
              "    .dataframe tbody tr th:only-of-type {\n",
              "        vertical-align: middle;\n",
              "    }\n",
              "\n",
              "    .dataframe tbody tr th {\n",
              "        vertical-align: top;\n",
              "    }\n",
              "\n",
              "    .dataframe thead th {\n",
              "        text-align: right;\n",
              "    }\n",
              "</style>\n",
              "<table border=\"1\" class=\"dataframe\">\n",
              "  <thead>\n",
              "    <tr style=\"text-align: right;\">\n",
              "      <th></th>\n",
              "      <th>R-ref</th>\n",
              "      <th>G-ref</th>\n",
              "      <th>B-ref</th>\n",
              "      <th>R-Shad</th>\n",
              "      <th>G-Shad</th>\n",
              "      <th>B-Shad</th>\n",
              "      <th>H-ref</th>\n",
              "      <th>S-ref</th>\n",
              "      <th>V-ref</th>\n",
              "      <th>H-Shad</th>\n",
              "      <th>S-Shad</th>\n",
              "      <th>V-Shad</th>\n",
              "      <th>Shade-ref</th>\n",
              "      <th>Shade</th>\n",
              "      <th>Setting</th>\n",
              "      <th>Img</th>\n",
              "    </tr>\n",
              "  </thead>\n",
              "  <tbody>\n",
              "    <tr>\n",
              "      <th>0</th>\n",
              "      <td>240.865271</td>\n",
              "      <td>224.637854</td>\n",
              "      <td>178.549306</td>\n",
              "      <td>241.270820</td>\n",
              "      <td>225.258019</td>\n",
              "      <td>179.527345</td>\n",
              "      <td>22.332441</td>\n",
              "      <td>66.000568</td>\n",
              "      <td>240.865271</td>\n",
              "      <td>22.344499</td>\n",
              "      <td>65.293578</td>\n",
              "      <td>241.270820</td>\n",
              "      <td>D4</td>\n",
              "      <td>A1</td>\n",
              "      <td>Set1</td>\n",
              "      <td>D47BC759-4BF1-40D8-9D68-52766A1B3358.png</td>\n",
              "    </tr>\n",
              "    <tr>\n",
              "      <th>1</th>\n",
              "      <td>234.887834</td>\n",
              "      <td>223.690123</td>\n",
              "      <td>188.796283</td>\n",
              "      <td>235.609061</td>\n",
              "      <td>224.545978</td>\n",
              "      <td>190.322452</td>\n",
              "      <td>22.660093</td>\n",
              "      <td>50.039201</td>\n",
              "      <td>234.887834</td>\n",
              "      <td>22.616101</td>\n",
              "      <td>49.037977</td>\n",
              "      <td>235.609061</td>\n",
              "      <td>D4</td>\n",
              "      <td>A1</td>\n",
              "      <td>Set1</td>\n",
              "      <td>63D0E875-9DA6-4483-BB03-E54DC1E8BC87.png</td>\n",
              "    </tr>\n",
              "    <tr>\n",
              "      <th>2</th>\n",
              "      <td>237.374726</td>\n",
              "      <td>219.960149</td>\n",
              "      <td>176.637286</td>\n",
              "      <td>237.957613</td>\n",
              "      <td>220.812531</td>\n",
              "      <td>177.951355</td>\n",
              "      <td>21.737359</td>\n",
              "      <td>65.276114</td>\n",
              "      <td>237.374726</td>\n",
              "      <td>21.747173</td>\n",
              "      <td>64.356589</td>\n",
              "      <td>237.957613</td>\n",
              "      <td>D4</td>\n",
              "      <td>A1</td>\n",
              "      <td>Set1</td>\n",
              "      <td>779692A7-DE00-4434-843B-AEB78B8B0AF8.png</td>\n",
              "    </tr>\n",
              "    <tr>\n",
              "      <th>3</th>\n",
              "      <td>240.543706</td>\n",
              "      <td>213.146498</td>\n",
              "      <td>156.376268</td>\n",
              "      <td>241.134485</td>\n",
              "      <td>214.226655</td>\n",
              "      <td>158.206102</td>\n",
              "      <td>20.320672</td>\n",
              "      <td>89.255499</td>\n",
              "      <td>240.543706</td>\n",
              "      <td>20.371097</td>\n",
              "      <td>87.763246</td>\n",
              "      <td>241.134485</td>\n",
              "      <td>D4</td>\n",
              "      <td>A1</td>\n",
              "      <td>Set1</td>\n",
              "      <td>18456DEB-40B5-49F7-B753-562994BE1B43.png</td>\n",
              "    </tr>\n",
              "    <tr>\n",
              "      <th>4</th>\n",
              "      <td>240.498498</td>\n",
              "      <td>229.602062</td>\n",
              "      <td>194.791981</td>\n",
              "      <td>240.924756</td>\n",
              "      <td>230.162577</td>\n",
              "      <td>195.716165</td>\n",
              "      <td>22.651408</td>\n",
              "      <td>48.460271</td>\n",
              "      <td>240.498498</td>\n",
              "      <td>22.683806</td>\n",
              "      <td>47.859327</td>\n",
              "      <td>240.924756</td>\n",
              "      <td>D4</td>\n",
              "      <td>A1</td>\n",
              "      <td>Set1</td>\n",
              "      <td>72376331-D805-4BAC-AE50-7A04A6729880.png</td>\n",
              "    </tr>\n",
              "    <tr>\n",
              "      <th>...</th>\n",
              "      <td>...</td>\n",
              "      <td>...</td>\n",
              "      <td>...</td>\n",
              "      <td>...</td>\n",
              "      <td>...</td>\n",
              "      <td>...</td>\n",
              "      <td>...</td>\n",
              "      <td>...</td>\n",
              "      <td>...</td>\n",
              "      <td>...</td>\n",
              "      <td>...</td>\n",
              "      <td>...</td>\n",
              "      <td>...</td>\n",
              "      <td>...</td>\n",
              "      <td>...</td>\n",
              "      <td>...</td>\n",
              "    </tr>\n",
              "    <tr>\n",
              "      <th>3195</th>\n",
              "      <td>232.804642</td>\n",
              "      <td>209.441604</td>\n",
              "      <td>164.924357</td>\n",
              "      <td>233.308869</td>\n",
              "      <td>210.109594</td>\n",
              "      <td>166.164853</td>\n",
              "      <td>19.601331</td>\n",
              "      <td>74.376755</td>\n",
              "      <td>232.804642</td>\n",
              "      <td>19.552094</td>\n",
              "      <td>73.433042</td>\n",
              "      <td>233.308869</td>\n",
              "      <td>D4</td>\n",
              "      <td>D4</td>\n",
              "      <td>Set4</td>\n",
              "      <td>4B26C027-BBB5-43B7-AD79-12A17199C662.png</td>\n",
              "    </tr>\n",
              "    <tr>\n",
              "      <th>3196</th>\n",
              "      <td>235.903985</td>\n",
              "      <td>218.940670</td>\n",
              "      <td>179.875741</td>\n",
              "      <td>236.487092</td>\n",
              "      <td>219.666951</td>\n",
              "      <td>181.014864</td>\n",
              "      <td>20.612775</td>\n",
              "      <td>78.169873</td>\n",
              "      <td>229.335768</td>\n",
              "      <td>20.589787</td>\n",
              "      <td>77.092810</td>\n",
              "      <td>229.914515</td>\n",
              "      <td>D4</td>\n",
              "      <td>D4</td>\n",
              "      <td>Set4</td>\n",
              "      <td>D0B2410F-4D19-428D-ACAB-853194360AB9.png</td>\n",
              "    </tr>\n",
              "    <tr>\n",
              "      <th>3197</th>\n",
              "      <td>232.175960</td>\n",
              "      <td>216.874036</td>\n",
              "      <td>178.708465</td>\n",
              "      <td>232.964654</td>\n",
              "      <td>217.832160</td>\n",
              "      <td>180.185122</td>\n",
              "      <td>21.562292</td>\n",
              "      <td>58.762357</td>\n",
              "      <td>232.175960</td>\n",
              "      <td>21.513975</td>\n",
              "      <td>57.839201</td>\n",
              "      <td>232.964654</td>\n",
              "      <td>D4</td>\n",
              "      <td>D4</td>\n",
              "      <td>Set4</td>\n",
              "      <td>239381EF-714F-4EC1-9D07-36CEF09D68A1.png</td>\n",
              "    </tr>\n",
              "    <tr>\n",
              "      <th>3198</th>\n",
              "      <td>231.726077</td>\n",
              "      <td>211.455077</td>\n",
              "      <td>167.223440</td>\n",
              "      <td>232.533177</td>\n",
              "      <td>212.551597</td>\n",
              "      <td>168.982505</td>\n",
              "      <td>20.556367</td>\n",
              "      <td>71.019641</td>\n",
              "      <td>231.726077</td>\n",
              "      <td>20.552237</td>\n",
              "      <td>69.773771</td>\n",
              "      <td>232.533177</td>\n",
              "      <td>D4</td>\n",
              "      <td>D4</td>\n",
              "      <td>Set4</td>\n",
              "      <td>CA6B7419-61FE-4110-9EC1-CCD71F2B7962.png</td>\n",
              "    </tr>\n",
              "    <tr>\n",
              "      <th>3199</th>\n",
              "      <td>226.100641</td>\n",
              "      <td>197.575278</td>\n",
              "      <td>146.748235</td>\n",
              "      <td>226.795889</td>\n",
              "      <td>198.548539</td>\n",
              "      <td>147.966148</td>\n",
              "      <td>19.189595</td>\n",
              "      <td>89.497849</td>\n",
              "      <td>226.100641</td>\n",
              "      <td>19.239457</td>\n",
              "      <td>88.650238</td>\n",
              "      <td>226.795889</td>\n",
              "      <td>D4</td>\n",
              "      <td>D4</td>\n",
              "      <td>Set4</td>\n",
              "      <td>B54B3165-ED2D-4BAB-A9A0-CACAC9F50D49.png</td>\n",
              "    </tr>\n",
              "  </tbody>\n",
              "</table>\n",
              "<p>3200 rows × 16 columns</p>\n",
              "</div>\n",
              "      <button class=\"colab-df-convert\" onclick=\"convertToInteractive('df-0abca5bb-9380-47ed-8c7c-dabba0d5cac5')\"\n",
              "              title=\"Convert this dataframe to an interactive table.\"\n",
              "              style=\"display:none;\">\n",
              "        \n",
              "  <svg xmlns=\"http://www.w3.org/2000/svg\" height=\"24px\"viewBox=\"0 0 24 24\"\n",
              "       width=\"24px\">\n",
              "    <path d=\"M0 0h24v24H0V0z\" fill=\"none\"/>\n",
              "    <path d=\"M18.56 5.44l.94 2.06.94-2.06 2.06-.94-2.06-.94-.94-2.06-.94 2.06-2.06.94zm-11 1L8.5 8.5l.94-2.06 2.06-.94-2.06-.94L8.5 2.5l-.94 2.06-2.06.94zm10 10l.94 2.06.94-2.06 2.06-.94-2.06-.94-.94-2.06-.94 2.06-2.06.94z\"/><path d=\"M17.41 7.96l-1.37-1.37c-.4-.4-.92-.59-1.43-.59-.52 0-1.04.2-1.43.59L10.3 9.45l-7.72 7.72c-.78.78-.78 2.05 0 2.83L4 21.41c.39.39.9.59 1.41.59.51 0 1.02-.2 1.41-.59l7.78-7.78 2.81-2.81c.8-.78.8-2.07 0-2.86zM5.41 20L4 18.59l7.72-7.72 1.47 1.35L5.41 20z\"/>\n",
              "  </svg>\n",
              "      </button>\n",
              "      \n",
              "  <style>\n",
              "    .colab-df-container {\n",
              "      display:flex;\n",
              "      flex-wrap:wrap;\n",
              "      gap: 12px;\n",
              "    }\n",
              "\n",
              "    .colab-df-convert {\n",
              "      background-color: #E8F0FE;\n",
              "      border: none;\n",
              "      border-radius: 50%;\n",
              "      cursor: pointer;\n",
              "      display: none;\n",
              "      fill: #1967D2;\n",
              "      height: 32px;\n",
              "      padding: 0 0 0 0;\n",
              "      width: 32px;\n",
              "    }\n",
              "\n",
              "    .colab-df-convert:hover {\n",
              "      background-color: #E2EBFA;\n",
              "      box-shadow: 0px 1px 2px rgba(60, 64, 67, 0.3), 0px 1px 3px 1px rgba(60, 64, 67, 0.15);\n",
              "      fill: #174EA6;\n",
              "    }\n",
              "\n",
              "    [theme=dark] .colab-df-convert {\n",
              "      background-color: #3B4455;\n",
              "      fill: #D2E3FC;\n",
              "    }\n",
              "\n",
              "    [theme=dark] .colab-df-convert:hover {\n",
              "      background-color: #434B5C;\n",
              "      box-shadow: 0px 1px 3px 1px rgba(0, 0, 0, 0.15);\n",
              "      filter: drop-shadow(0px 1px 2px rgba(0, 0, 0, 0.3));\n",
              "      fill: #FFFFFF;\n",
              "    }\n",
              "  </style>\n",
              "\n",
              "      <script>\n",
              "        const buttonEl =\n",
              "          document.querySelector('#df-0abca5bb-9380-47ed-8c7c-dabba0d5cac5 button.colab-df-convert');\n",
              "        buttonEl.style.display =\n",
              "          google.colab.kernel.accessAllowed ? 'block' : 'none';\n",
              "\n",
              "        async function convertToInteractive(key) {\n",
              "          const element = document.querySelector('#df-0abca5bb-9380-47ed-8c7c-dabba0d5cac5');\n",
              "          const dataTable =\n",
              "            await google.colab.kernel.invokeFunction('convertToInteractive',\n",
              "                                                     [key], {});\n",
              "          if (!dataTable) return;\n",
              "\n",
              "          const docLinkHtml = 'Like what you see? Visit the ' +\n",
              "            '<a target=\"_blank\" href=https://colab.research.google.com/notebooks/data_table.ipynb>data table notebook</a>'\n",
              "            + ' to learn more about interactive tables.';\n",
              "          element.innerHTML = '';\n",
              "          dataTable['output_type'] = 'display_data';\n",
              "          await google.colab.output.renderOutput(dataTable, element);\n",
              "          const docLink = document.createElement('div');\n",
              "          docLink.innerHTML = docLinkHtml;\n",
              "          element.appendChild(docLink);\n",
              "        }\n",
              "      </script>\n",
              "    </div>\n",
              "  </div>\n",
              "  "
            ],
            "text/plain": [
              "           R-ref       G-ref  ...  Setting                                       Img\n",
              "0     240.865271  224.637854  ...     Set1  D47BC759-4BF1-40D8-9D68-52766A1B3358.png\n",
              "1     234.887834  223.690123  ...     Set1  63D0E875-9DA6-4483-BB03-E54DC1E8BC87.png\n",
              "2     237.374726  219.960149  ...     Set1  779692A7-DE00-4434-843B-AEB78B8B0AF8.png\n",
              "3     240.543706  213.146498  ...     Set1  18456DEB-40B5-49F7-B753-562994BE1B43.png\n",
              "4     240.498498  229.602062  ...     Set1  72376331-D805-4BAC-AE50-7A04A6729880.png\n",
              "...          ...         ...  ...      ...                                       ...\n",
              "3195  232.804642  209.441604  ...     Set4  4B26C027-BBB5-43B7-AD79-12A17199C662.png\n",
              "3196  235.903985  218.940670  ...     Set4  D0B2410F-4D19-428D-ACAB-853194360AB9.png\n",
              "3197  232.175960  216.874036  ...     Set4  239381EF-714F-4EC1-9D07-36CEF09D68A1.png\n",
              "3198  231.726077  211.455077  ...     Set4  CA6B7419-61FE-4110-9EC1-CCD71F2B7962.png\n",
              "3199  226.100641  197.575278  ...     Set4  B54B3165-ED2D-4BAB-A9A0-CACAC9F50D49.png\n",
              "\n",
              "[3200 rows x 16 columns]"
            ]
          },
          "metadata": {},
          "execution_count": 202
        }
      ]
    },
    {
      "cell_type": "code",
      "source": [
        "RGB_D4 = table_D4.drop(['H-ref','S-ref','V-ref','S-Shad','V-Shad','Shade-ref','Setting','Img','Shade','H-Shad'], axis=1)"
      ],
      "metadata": {
        "id": "WExdapTFjEXP"
      },
      "execution_count": 203,
      "outputs": []
    },
    {
      "cell_type": "code",
      "source": [
        "X_D4 = np.array(RGB_D4)"
      ],
      "metadata": {
        "id": "L3aMVhMgjEXP"
      },
      "execution_count": 204,
      "outputs": []
    },
    {
      "cell_type": "code",
      "source": [
        "y_D4 =  table_D4.iloc[:,13:14]"
      ],
      "metadata": {
        "id": "9ReugJHujEXP"
      },
      "execution_count": 205,
      "outputs": []
    },
    {
      "cell_type": "code",
      "source": [
        "y_D4 = np.array(y_D4)\n",
        "y_D4"
      ],
      "metadata": {
        "colab": {
          "base_uri": "https://localhost:8080/"
        },
        "id": "rRvFs7UjjEXP",
        "outputId": "353a3155-dc09-46e1-be21-142b19f2e124"
      },
      "execution_count": 206,
      "outputs": [
        {
          "output_type": "execute_result",
          "data": {
            "text/plain": [
              "array([['A1'],\n",
              "       ['A1'],\n",
              "       ['A1'],\n",
              "       ...,\n",
              "       ['D4'],\n",
              "       ['D4'],\n",
              "       ['D4']], dtype=object)"
            ]
          },
          "metadata": {},
          "execution_count": 206
        }
      ]
    },
    {
      "cell_type": "code",
      "source": [
        "X_test_D4, X_train_D4 , y_test_D4, y_train_D4 = train_test_split(X_D4, y_D4, test_size=80, train_size=320)"
      ],
      "metadata": {
        "id": "EcJ1C_cwtxOp"
      },
      "execution_count": 266,
      "outputs": []
    },
    {
      "cell_type": "code",
      "source": [
        "clf.fit(X_train_D4, y_train_D4)"
      ],
      "metadata": {
        "colab": {
          "base_uri": "https://localhost:8080/"
        },
        "id": "pPlBdTQ9jEXQ",
        "outputId": "70f5d445-0eb5-4b37-dc02-06b347eb7097"
      },
      "execution_count": 267,
      "outputs": [
        {
          "output_type": "stream",
          "name": "stderr",
          "text": [
            "/usr/local/lib/python3.7/dist-packages/sklearn/utils/validation.py:985: DataConversionWarning: A column-vector y was passed when a 1d array was expected. Please change the shape of y to (n_samples, ), for example using ravel().\n",
            "  y = column_or_1d(y, warn=True)\n"
          ]
        },
        {
          "output_type": "execute_result",
          "data": {
            "text/plain": [
              "SVC(kernel='poly')"
            ]
          },
          "metadata": {},
          "execution_count": 267
        }
      ]
    },
    {
      "cell_type": "code",
      "source": [
        "y_pred_D4 = clf.predict(X_test_D4)"
      ],
      "metadata": {
        "id": "zBAY0I2FjEXQ"
      },
      "execution_count": 268,
      "outputs": []
    },
    {
      "cell_type": "code",
      "source": [
        "print(\"Accuracy:\", metrics.accuracy_score(y_test_D4, y_pred_D4))"
      ],
      "metadata": {
        "colab": {
          "base_uri": "https://localhost:8080/"
        },
        "id": "jeo7PdLtjEXQ",
        "outputId": "9abf9ce3-6933-47ae-88af-023cda29d553"
      },
      "execution_count": 269,
      "outputs": [
        {
          "output_type": "stream",
          "name": "stdout",
          "text": [
            "Accuracy: 0.20625\n"
          ]
        }
      ]
    }
  ]
}