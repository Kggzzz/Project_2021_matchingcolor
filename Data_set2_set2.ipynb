{
  "nbformat": 4,
  "nbformat_minor": 0,
  "metadata": {
    "colab": {
      "name": "Data_set2*set2.ipynb",
      "provenance": [],
      "authorship_tag": "ABX9TyP1e7g4Uy9A3982NkgqUxHW",
      "include_colab_link": true
    },
    "kernelspec": {
      "name": "python3",
      "display_name": "Python 3"
    },
    "language_info": {
      "name": "python"
    }
  },
  "cells": [
    {
      "cell_type": "markdown",
      "metadata": {
        "id": "view-in-github",
        "colab_type": "text"
      },
      "source": [
        "<a href=\"https://colab.research.google.com/github/Kggzzz/Project_2021_matchingcolor/blob/main/Data_set2_set2.ipynb\" target=\"_parent\"><img src=\"https://colab.research.google.com/assets/colab-badge.svg\" alt=\"Open In Colab\"/></a>"
      ]
    },
    {
      "cell_type": "code",
      "metadata": {
        "id": "QfJJWz3NE5EF"
      },
      "source": [
        "import pandas as pd"
      ],
      "execution_count": null,
      "outputs": []
    },
    {
      "cell_type": "code",
      "metadata": {
        "colab": {
          "base_uri": "https://localhost:8080/"
        },
        "id": "bbhDYuOZFkrI",
        "outputId": "4fac12e3-d36a-465b-9760-fb0e99886acf"
      },
      "source": [
        " from google.colab import drive \n",
        "drive.mount('/content/drive')"
      ],
      "execution_count": null,
      "outputs": [
        {
          "output_type": "stream",
          "name": "stdout",
          "text": [
            "Mounted at /content/drive\n"
          ]
        }
      ]
    },
    {
      "cell_type": "code",
      "metadata": {
        "id": "gCZ9gB08FlpD"
      },
      "source": [
        "import os"
      ],
      "execution_count": null,
      "outputs": []
    },
    {
      "cell_type": "code",
      "metadata": {
        "id": "bs4sCMIlFmtN"
      },
      "source": [
        "path = '/content/drive/My Drive/shadeimg'"
      ],
      "execution_count": null,
      "outputs": []
    },
    {
      "cell_type": "code",
      "metadata": {
        "colab": {
          "base_uri": "https://localhost:8080/"
        },
        "id": "QXJgJ1ZiFv2C",
        "outputId": "2d4c6768-e862-4ddc-dd02-d14f76017e01"
      },
      "source": [
        "os.listdir(path)"
      ],
      "execution_count": null,
      "outputs": [
        {
          "output_type": "execute_result",
          "data": {
            "text/plain": [
              "['9-10 7 2021',\n",
              " 'รูปฟัน07',\n",
              " '11 7 2021',\n",
              " 'ฟันสักอย่างจำวันไม่ได้',\n",
              " '1 teeth .gsheet',\n",
              " '16 8 2021',\n",
              " '17 8 2021',\n",
              " '2 teeth.gsheet',\n",
              " '1 teeth .xlsx',\n",
              " '2 teeth .xlsx']"
            ]
          },
          "metadata": {},
          "execution_count": 6
        }
      ]
    },
    {
      "cell_type": "code",
      "metadata": {
        "id": "hIG_rvGQF-Lh",
        "colab": {
          "base_uri": "https://localhost:8080/"
        },
        "outputId": "6f267bf7-4e60-4013-d757-e4d1b1824442"
      },
      "source": [
        "file_path = os.path.join(path,'1 teeth .xlsx')\n",
        "print(file_path)"
      ],
      "execution_count": null,
      "outputs": [
        {
          "output_type": "stream",
          "name": "stdout",
          "text": [
            "/content/drive/My Drive/shadeimg/1 teeth .xlsx\n"
          ]
        }
      ]
    },
    {
      "cell_type": "code",
      "metadata": {
        "id": "WU-47FCzGAhX"
      },
      "source": [
        "table1 = pd.read_excel(file_path)"
      ],
      "execution_count": null,
      "outputs": []
    },
    {
      "cell_type": "code",
      "metadata": {
        "colab": {
          "base_uri": "https://localhost:8080/"
        },
        "id": "BQB5ZR4zFsSX",
        "outputId": "af0663a3-76fa-4d90-c367-5364ce8eeb5d"
      },
      "source": [
        "!pip install azure-storage-blob==2.1.0"
      ],
      "execution_count": null,
      "outputs": [
        {
          "output_type": "stream",
          "name": "stdout",
          "text": [
            "Collecting azure-storage-blob==2.1.0\n",
            "  Downloading azure_storage_blob-2.1.0-py2.py3-none-any.whl (88 kB)\n",
            "\u001b[?25l\r\u001b[K     |███▊                            | 10 kB 25.5 MB/s eta 0:00:01\r\u001b[K     |███████▍                        | 20 kB 29.4 MB/s eta 0:00:01\r\u001b[K     |███████████▏                    | 30 kB 22.8 MB/s eta 0:00:01\r\u001b[K     |██████████████▉                 | 40 kB 22.1 MB/s eta 0:00:01\r\u001b[K     |██████████████████▋             | 51 kB 16.7 MB/s eta 0:00:01\r\u001b[K     |██████████████████████▎         | 61 kB 14.4 MB/s eta 0:00:01\r\u001b[K     |██████████████████████████      | 71 kB 14.4 MB/s eta 0:00:01\r\u001b[K     |█████████████████████████████▊  | 81 kB 16.0 MB/s eta 0:00:01\r\u001b[K     |████████████████████████████████| 88 kB 4.9 MB/s \n",
            "\u001b[?25hCollecting azure-storage-common~=2.1\n",
            "  Downloading azure_storage_common-2.1.0-py2.py3-none-any.whl (47 kB)\n",
            "\u001b[?25l\r\u001b[K     |██████▉                         | 10 kB 4.7 MB/s eta 0:00:01\r\u001b[K     |█████████████▊                  | 20 kB 8.5 MB/s eta 0:00:01\r\u001b[K     |████████████████████▋           | 30 kB 10.7 MB/s eta 0:00:01\r\u001b[K     |███████████████████████████▍    | 40 kB 13.5 MB/s eta 0:00:01\r\u001b[K     |████████████████████████████████| 47 kB 3.3 MB/s \n",
            "\u001b[?25hCollecting azure-common>=1.1.5\n",
            "  Downloading azure_common-1.1.27-py2.py3-none-any.whl (12 kB)\n",
            "Requirement already satisfied: python-dateutil in /usr/local/lib/python3.7/dist-packages (from azure-storage-common~=2.1->azure-storage-blob==2.1.0) (2.8.2)\n",
            "Requirement already satisfied: requests in /usr/local/lib/python3.7/dist-packages (from azure-storage-common~=2.1->azure-storage-blob==2.1.0) (2.23.0)\n",
            "Collecting cryptography\n",
            "  Downloading cryptography-35.0.0-cp36-abi3-manylinux_2_24_x86_64.whl (3.5 MB)\n",
            "\u001b[K     |████████████████████████████████| 3.5 MB 85.9 MB/s \n",
            "\u001b[?25hRequirement already satisfied: cffi>=1.12 in /usr/local/lib/python3.7/dist-packages (from cryptography->azure-storage-common~=2.1->azure-storage-blob==2.1.0) (1.14.6)\n",
            "Requirement already satisfied: pycparser in /usr/local/lib/python3.7/dist-packages (from cffi>=1.12->cryptography->azure-storage-common~=2.1->azure-storage-blob==2.1.0) (2.20)\n",
            "Requirement already satisfied: six>=1.5 in /usr/local/lib/python3.7/dist-packages (from python-dateutil->azure-storage-common~=2.1->azure-storage-blob==2.1.0) (1.15.0)\n",
            "Requirement already satisfied: urllib3!=1.25.0,!=1.25.1,<1.26,>=1.21.1 in /usr/local/lib/python3.7/dist-packages (from requests->azure-storage-common~=2.1->azure-storage-blob==2.1.0) (1.24.3)\n",
            "Requirement already satisfied: chardet<4,>=3.0.2 in /usr/local/lib/python3.7/dist-packages (from requests->azure-storage-common~=2.1->azure-storage-blob==2.1.0) (3.0.4)\n",
            "Requirement already satisfied: certifi>=2017.4.17 in /usr/local/lib/python3.7/dist-packages (from requests->azure-storage-common~=2.1->azure-storage-blob==2.1.0) (2021.5.30)\n",
            "Requirement already satisfied: idna<3,>=2.5 in /usr/local/lib/python3.7/dist-packages (from requests->azure-storage-common~=2.1->azure-storage-blob==2.1.0) (2.10)\n",
            "Installing collected packages: cryptography, azure-common, azure-storage-common, azure-storage-blob\n",
            "Successfully installed azure-common-1.1.27 azure-storage-blob-2.1.0 azure-storage-common-2.1.0 cryptography-35.0.0\n"
          ]
        }
      ]
    },
    {
      "cell_type": "code",
      "metadata": {
        "id": "MmtL3ePjGKNA"
      },
      "source": [
        "from azure.storage.blob import BlockBlobService\n",
        "import os"
      ],
      "execution_count": null,
      "outputs": []
    },
    {
      "cell_type": "code",
      "metadata": {
        "id": "cBYDeSzyGMrs"
      },
      "source": [
        "blob_service_client = BlockBlobService(account_name='dent01', account_key='CuShY0B4TZJ84TjzPpaHxyrHOpO73aGXeCpdVq7x26OjIlQ1HOz+3DVc9pDEj9BdcEL8odFuTRF0mOAE+aCgiw==')"
      ],
      "execution_count": null,
      "outputs": []
    },
    {
      "cell_type": "markdown",
      "metadata": {
        "id": "29a1CpssMfaN"
      },
      "source": [
        "#1. สร้างตัวแปรเฉดไกด์"
      ]
    },
    {
      "cell_type": "code",
      "metadata": {
        "id": "b7l_Shd1GOxX"
      },
      "source": [
        "A101='43B3A559-D6CD-4759-863E-1335D3A137E4.png'\n",
        "A104='A515658A-DD83-4F65-8D19-B9581EEA9E7C.png'\n",
        "A107='A7A243F6-2170-4DE1-B69F-3016BF98A5B4.png'\n",
        "A109='5B52031A-CAF2-4322-BFAD-28ED2E3BD0AE.png'\n",
        "A201='C4A19F33-7E34-41A6-B42D-9F9767762069.png'\n",
        "A203='ECA5498A-26EF-4074-A8BB-EE9A6B66AC1B.png'\n",
        "A204='7B4D7A4C-BEEC-4799-B3EC-48F9BDB373E7.png'\n",
        "A206='7391CFDA-993D-4091-84F2-85C67A5912D3.png'\n",
        "A302='AA923257-C4AB-43F2-B002-7820385E53CF.png'\n",
        "A303='5AF22B10-9B03-4285-877A-A3EF32BE18D5.png'\n",
        "A304='5504C37C-EAF2-48FC-AA4F-4E87C24E6036.png'\n",
        "A305='3B746A65-ABF7-49E5-BD52-335B55B395B3.png'\n",
        "A3_502='84D1AC58-D382-4E33-B548-A5054E66D0C4.png'\n",
        "A3_504='943C1E06-35DD-4F21-81BB-9893C10E5A44.png'\n",
        "A3_506='4F33DD14-3576-4F94-AF8B-49FFE29A5BBA.png'\n",
        "A3_507='C0A22982-504C-4FAD-A77D-06A53811F2E9.png'\n",
        "A401='2846A219-71AE-47E5-BA30-864644218F4A.png'\n",
        "A403='C02B911E-D98A-4B76-B407-0B7852E01173.png'\n",
        "A404='E83687FE-A607-4766-9803-8C2DADB68347.png'\n",
        "A406='07ACB327-9436-4E62-A55F-86A29BA278F1.png'\n",
        "B101='F6C182AD-F7FF-431A-96B0-BDAD65AFFD4D.png'\n",
        "B102='BF4B8AED-C3FD-461B-A2AB-2B14EBAF8179.png'\n",
        "B107='89BA0BFE-46E7-450C-9602-BFAA16C91AE8.png'\n",
        "B109='9DF4C294-5F04-4D26-AEC6-D75630BE7EB1.png'\n",
        "B205='0727A73F-127B-4B52-B08F-F6759EA80153.png'\n",
        "B206='2EF995E1-17C8-4B99-9D47-8B4935679A26.png'\n",
        "B207='32708030-314C-4B44-9500-80ED5FD2E0B5.png'\n",
        "B208='A6A13D22-B3F1-4757-9B2C-013D54C54087.png'\n",
        "B301='408B131B-0A06-43EF-BC21-C67943304685.png'\n",
        "B303='0CBEFBBC-97AB-4D84-B856-74EE774039A4.png'\n",
        "B306='42E98AD4-B0AC-4735-8C5C-BADB16DCE4F7.png'\n",
        "B310='8414F346-9244-4926-B14C-A5445D54F4EF.png'\n",
        "B401='87003489-206C-4DA8-B458-C75C17AA147D.png'\n",
        "B402='44E36416-2717-4C4F-A810-0A3C7EDEAE7C.png'\n",
        "B408='619E416B-5297-4496-8D98-883969098E57.png'\n",
        "B410='AC6EA5E1-BD25-4133-816A-D32808366203.png'"
      ],
      "execution_count": null,
      "outputs": []
    },
    {
      "cell_type": "code",
      "metadata": {
        "id": "udfq6Zm1KS7f"
      },
      "source": [
        "C101='2BEE4714-B417-46FD-837D-826954056ED7.png'\n",
        "C102='6AED1D0B-115C-46F2-85FB-9B325662C814.png'\n",
        "C105='E4B51B27-5961-4BA8-87AA-8CD58760BB04.png'\n",
        "C109='0C0B16DD-CD33-471B-8CAF-2641CC5DE142.png'\n",
        "C201='3444FBA1-1D42-4A3A-AF39-C6183BBA28C5.png'\n",
        "C203='D770F731-B4BA-4B57-8E17-C716DEAC8F15.png'\n",
        "C205='0D170EF9-0E0C-45E5-8834-BDC87162DCA6.png'\n",
        "C207='DA16594C-17CC-4E17-884E-3C1E498A3626.png'\n",
        "C302='AC00A73A-5AC0-4E76-BB99-0540B1A2BD10.png'\n",
        "C303='5E93FB85-8CB8-42BE-BAF5-4FF3FAF79ADD.png'\n",
        "C306='A2D317EC-4996-448E-A54C-ACDA199E001E.png'\n",
        "C309='41A71D02-E2ED-4DF4-9764-FF1842AF5A7F.png'\n",
        "C401='0CD9BACA-F94C-42B7-BA88-4C31B616374F.png'\n",
        "C404='8E510656-4C81-49D1-AED9-D4A0977960F1.png'\n",
        "C405='81DD1672-CDC1-4CF8-A908-4442389B1043.png'\n",
        "C406='078E17CC-4C30-44B0-93AE-EB7331A36007.png'\n",
        "D201='9C5DE937-297C-4033-87D3-D5579B8099E7.png'\n",
        "D203='15EB3704-90F7-4C6D-8EAE-94B4C23192B1.png'\n",
        "D206='94C2591B-9CA1-4AA9-823F-45C0F10B7D80.png'\n",
        "D207='A8871138-5A70-4CD2-987A-7BDCDDFCA81C.png'\n",
        "D303='4665809A-7FF4-4281-8E89-5CF58662BC43.png'\n",
        "D304='11323335-0402-46B2-B236-6070FE04D3E0.png'\n",
        "D307='55050DBA-4FCB-47CF-8134-AA3949818F35.png'\n",
        "D308='13EC0B69-756C-4FAD-B907-633D1AC8BD98.png'\n",
        "D402='7E9720AF-F43D-41BD-8D13-ABEDE3E37E84.png'\n",
        "D404='8C5332DA-49E7-4482-A78F-DEBD8ED3466F.png'\n",
        "D407='167E10CD-5FAA-4E04-AE85-F9468800AA08.png'\n",
        "D410='AA827432-B539-4BE6-BDEE-9609BF71DFF1.png'"
      ],
      "execution_count": null,
      "outputs": []
    },
    {
      "cell_type": "markdown",
      "metadata": {
        "id": "3TcJcECMMc3N"
      },
      "source": [
        "#2. ดึงรูป"
      ]
    },
    {
      "cell_type": "markdown",
      "metadata": {
        "id": "IKAOP4WtXUbF"
      },
      "source": [
        "A1"
      ]
    },
    {
      "cell_type": "code",
      "metadata": {
        "colab": {
          "base_uri": "https://localhost:8080/"
        },
        "id": "dfvpEWdmMa6t",
        "outputId": "b0a17777-3ac5-4aa5-c931-7a5520f10cc5"
      },
      "source": [
        "full_path_to_file2 = os.path.join(A101) \n",
        "blob_service_client.get_blob_to_path('shadeimg', full_path_to_file2, full_path_to_file2)"
      ],
      "execution_count": null,
      "outputs": [
        {
          "output_type": "execute_result",
          "data": {
            "text/plain": [
              "<azure.storage.blob.models.Blob at 0x7fc15a7c7d90>"
            ]
          },
          "metadata": {},
          "execution_count": 14
        }
      ]
    },
    {
      "cell_type": "code",
      "metadata": {
        "colab": {
          "base_uri": "https://localhost:8080/"
        },
        "id": "K7dLDFbCMpvz",
        "outputId": "8ed38c25-0e51-444e-ada3-0000d36c74ad"
      },
      "source": [
        "full_path_to_file2 = os.path.join(A104) \n",
        "blob_service_client.get_blob_to_path('shadeimg', full_path_to_file2, full_path_to_file2)"
      ],
      "execution_count": null,
      "outputs": [
        {
          "output_type": "execute_result",
          "data": {
            "text/plain": [
              "<azure.storage.blob.models.Blob at 0x7fc15b654e50>"
            ]
          },
          "metadata": {},
          "execution_count": 15
        }
      ]
    },
    {
      "cell_type": "code",
      "metadata": {
        "colab": {
          "base_uri": "https://localhost:8080/"
        },
        "id": "ossmoCKeMqXd",
        "outputId": "42929933-e513-4861-8e08-4d0e9616847a"
      },
      "source": [
        "full_path_to_file2 = os.path.join(A107) \n",
        "blob_service_client.get_blob_to_path('shadeimg', full_path_to_file2, full_path_to_file2)"
      ],
      "execution_count": null,
      "outputs": [
        {
          "output_type": "execute_result",
          "data": {
            "text/plain": [
              "<azure.storage.blob.models.Blob at 0x7fc15a820910>"
            ]
          },
          "metadata": {},
          "execution_count": 16
        }
      ]
    },
    {
      "cell_type": "code",
      "metadata": {
        "colab": {
          "base_uri": "https://localhost:8080/"
        },
        "id": "LWPDqUeuMqr2",
        "outputId": "d295152f-bd4c-4254-ad0c-a077b6735521"
      },
      "source": [
        "full_path_to_file2 = os.path.join(A109) \n",
        "blob_service_client.get_blob_to_path('shadeimg', full_path_to_file2, full_path_to_file2)"
      ],
      "execution_count": null,
      "outputs": [
        {
          "output_type": "execute_result",
          "data": {
            "text/plain": [
              "<azure.storage.blob.models.Blob at 0x7fc15a7cc3d0>"
            ]
          },
          "metadata": {},
          "execution_count": 17
        }
      ]
    },
    {
      "cell_type": "markdown",
      "metadata": {
        "id": "YPVplDoeXV9g"
      },
      "source": [
        "A2"
      ]
    },
    {
      "cell_type": "code",
      "metadata": {
        "colab": {
          "base_uri": "https://localhost:8080/"
        },
        "id": "PyTA7XkHMq9w",
        "outputId": "e8ded714-aea5-4b8f-a752-ef31348984ef"
      },
      "source": [
        "full_path_to_file2 = os.path.join(A201) \n",
        "blob_service_client.get_blob_to_path('shadeimg', full_path_to_file2, full_path_to_file2)"
      ],
      "execution_count": null,
      "outputs": [
        {
          "output_type": "execute_result",
          "data": {
            "text/plain": [
              "<azure.storage.blob.models.Blob at 0x7fc15a15cfd0>"
            ]
          },
          "metadata": {},
          "execution_count": 18
        }
      ]
    },
    {
      "cell_type": "code",
      "metadata": {
        "colab": {
          "base_uri": "https://localhost:8080/"
        },
        "id": "0Wsi63jYMrNy",
        "outputId": "c43f80ce-c7aa-4875-8978-c5e2c0f3e841"
      },
      "source": [
        "full_path_to_file2 = os.path.join(A203) \n",
        "blob_service_client.get_blob_to_path('shadeimg', full_path_to_file2, full_path_to_file2)"
      ],
      "execution_count": null,
      "outputs": [
        {
          "output_type": "execute_result",
          "data": {
            "text/plain": [
              "<azure.storage.blob.models.Blob at 0x7fc15a7cd110>"
            ]
          },
          "metadata": {},
          "execution_count": 19
        }
      ]
    },
    {
      "cell_type": "code",
      "metadata": {
        "colab": {
          "base_uri": "https://localhost:8080/"
        },
        "id": "sRO02lHCMyU8",
        "outputId": "50d3f7ae-9f59-464a-84f9-4eabf42b84e0"
      },
      "source": [
        "full_path_to_file2 = os.path.join(A204) \n",
        "blob_service_client.get_blob_to_path('shadeimg', full_path_to_file2, full_path_to_file2)"
      ],
      "execution_count": null,
      "outputs": [
        {
          "output_type": "execute_result",
          "data": {
            "text/plain": [
              "<azure.storage.blob.models.Blob at 0x7fc15a15c510>"
            ]
          },
          "metadata": {},
          "execution_count": 20
        }
      ]
    },
    {
      "cell_type": "code",
      "metadata": {
        "colab": {
          "base_uri": "https://localhost:8080/"
        },
        "id": "5Ag__xJLMy0n",
        "outputId": "76a4528f-aa79-4b4d-fd1e-33ca970a36d8"
      },
      "source": [
        "full_path_to_file2 = os.path.join(A206) \n",
        "blob_service_client.get_blob_to_path('shadeimg', full_path_to_file2, full_path_to_file2)"
      ],
      "execution_count": null,
      "outputs": [
        {
          "output_type": "execute_result",
          "data": {
            "text/plain": [
              "<azure.storage.blob.models.Blob at 0x7fc15a7bde10>"
            ]
          },
          "metadata": {},
          "execution_count": 21
        }
      ]
    },
    {
      "cell_type": "markdown",
      "metadata": {
        "id": "bhfGD8iLXXBR"
      },
      "source": [
        "A3"
      ]
    },
    {
      "cell_type": "code",
      "metadata": {
        "colab": {
          "base_uri": "https://localhost:8080/"
        },
        "id": "hXvuZHdVMzGJ",
        "outputId": "a47a916b-9a91-47d8-97b2-927f4a67709b"
      },
      "source": [
        "full_path_to_file2 = os.path.join(A302) \n",
        "blob_service_client.get_blob_to_path('shadeimg', full_path_to_file2, full_path_to_file2)"
      ],
      "execution_count": null,
      "outputs": [
        {
          "output_type": "execute_result",
          "data": {
            "text/plain": [
              "<azure.storage.blob.models.Blob at 0x7fc15a163210>"
            ]
          },
          "metadata": {},
          "execution_count": 22
        }
      ]
    },
    {
      "cell_type": "code",
      "metadata": {
        "colab": {
          "base_uri": "https://localhost:8080/"
        },
        "id": "tNBaXgTLMzW1",
        "outputId": "4e3cc5bb-4ced-4723-cda4-cbe845a96b53"
      },
      "source": [
        "full_path_to_file2 = os.path.join(A303) \n",
        "blob_service_client.get_blob_to_path('shadeimg', full_path_to_file2, full_path_to_file2)"
      ],
      "execution_count": null,
      "outputs": [
        {
          "output_type": "execute_result",
          "data": {
            "text/plain": [
              "<azure.storage.blob.models.Blob at 0x7fc15a7cc510>"
            ]
          },
          "metadata": {},
          "execution_count": 23
        }
      ]
    },
    {
      "cell_type": "code",
      "metadata": {
        "colab": {
          "base_uri": "https://localhost:8080/"
        },
        "id": "guP0y28iMzlX",
        "outputId": "826fe017-349f-44f5-c273-7c490e26a4d7"
      },
      "source": [
        "full_path_to_file2 = os.path.join(A304) \n",
        "blob_service_client.get_blob_to_path('shadeimg', full_path_to_file2, full_path_to_file2)"
      ],
      "execution_count": null,
      "outputs": [
        {
          "output_type": "execute_result",
          "data": {
            "text/plain": [
              "<azure.storage.blob.models.Blob at 0x7fc15a1702d0>"
            ]
          },
          "metadata": {},
          "execution_count": 24
        }
      ]
    },
    {
      "cell_type": "code",
      "metadata": {
        "colab": {
          "base_uri": "https://localhost:8080/"
        },
        "id": "_tNHaAmmMz4P",
        "outputId": "176788e6-d57b-4ea2-c257-8e210f5af007"
      },
      "source": [
        "full_path_to_file2 = os.path.join(A305) \n",
        "blob_service_client.get_blob_to_path('shadeimg', full_path_to_file2, full_path_to_file2)"
      ],
      "execution_count": null,
      "outputs": [
        {
          "output_type": "execute_result",
          "data": {
            "text/plain": [
              "<azure.storage.blob.models.Blob at 0x7fc15a170590>"
            ]
          },
          "metadata": {},
          "execution_count": 25
        }
      ]
    },
    {
      "cell_type": "markdown",
      "metadata": {
        "id": "im2SJdGzXZVb"
      },
      "source": [
        "A3.5"
      ]
    },
    {
      "cell_type": "code",
      "metadata": {
        "colab": {
          "base_uri": "https://localhost:8080/"
        },
        "id": "sTyFzeTgM1Kn",
        "outputId": "a946c184-a66d-4eb2-ce0e-1c3e1550a79c"
      },
      "source": [
        "full_path_to_file2 = os.path.join(A3_502) \n",
        "blob_service_client.get_blob_to_path('shadeimg', full_path_to_file2, full_path_to_file2)"
      ],
      "execution_count": null,
      "outputs": [
        {
          "output_type": "execute_result",
          "data": {
            "text/plain": [
              "<azure.storage.blob.models.Blob at 0x7fc15a1656d0>"
            ]
          },
          "metadata": {},
          "execution_count": 26
        }
      ]
    },
    {
      "cell_type": "code",
      "metadata": {
        "colab": {
          "base_uri": "https://localhost:8080/"
        },
        "id": "GfOwcLmUM1cV",
        "outputId": "f23da7b5-e724-430f-b14e-159eba888dc6"
      },
      "source": [
        "full_path_to_file2 = os.path.join(A3_504) \n",
        "blob_service_client.get_blob_to_path('shadeimg', full_path_to_file2, full_path_to_file2)"
      ],
      "execution_count": null,
      "outputs": [
        {
          "output_type": "execute_result",
          "data": {
            "text/plain": [
              "<azure.storage.blob.models.Blob at 0x7fc15a7cc910>"
            ]
          },
          "metadata": {},
          "execution_count": 27
        }
      ]
    },
    {
      "cell_type": "code",
      "metadata": {
        "colab": {
          "base_uri": "https://localhost:8080/"
        },
        "id": "McP4ADOjM1sG",
        "outputId": "57835e6e-c501-4a94-fd8a-f998562fe26e"
      },
      "source": [
        "full_path_to_file2 = os.path.join(A3_506) \n",
        "blob_service_client.get_blob_to_path('shadeimg', full_path_to_file2, full_path_to_file2)"
      ],
      "execution_count": null,
      "outputs": [
        {
          "output_type": "execute_result",
          "data": {
            "text/plain": [
              "<azure.storage.blob.models.Blob at 0x7fc15a1635d0>"
            ]
          },
          "metadata": {},
          "execution_count": 28
        }
      ]
    },
    {
      "cell_type": "code",
      "metadata": {
        "colab": {
          "base_uri": "https://localhost:8080/"
        },
        "id": "U9Vqt91zM1_7",
        "outputId": "88159799-6406-4b78-9387-7771940613e6"
      },
      "source": [
        "full_path_to_file2 = os.path.join(A3_507) \n",
        "blob_service_client.get_blob_to_path('shadeimg', full_path_to_file2, full_path_to_file2)"
      ],
      "execution_count": null,
      "outputs": [
        {
          "output_type": "execute_result",
          "data": {
            "text/plain": [
              "<azure.storage.blob.models.Blob at 0x7fc15a7bd9d0>"
            ]
          },
          "metadata": {},
          "execution_count": 29
        }
      ]
    },
    {
      "cell_type": "markdown",
      "metadata": {
        "id": "7xemH5AsXai0"
      },
      "source": [
        "A4"
      ]
    },
    {
      "cell_type": "code",
      "metadata": {
        "colab": {
          "base_uri": "https://localhost:8080/"
        },
        "id": "p__p689dM2Y4",
        "outputId": "a947f1e7-3904-49e1-b527-625cb4024055"
      },
      "source": [
        "full_path_to_file2 = os.path.join(A401) \n",
        "blob_service_client.get_blob_to_path('shadeimg', full_path_to_file2, full_path_to_file2)"
      ],
      "execution_count": null,
      "outputs": [
        {
          "output_type": "execute_result",
          "data": {
            "text/plain": [
              "<azure.storage.blob.models.Blob at 0x7fc15a15c690>"
            ]
          },
          "metadata": {},
          "execution_count": 30
        }
      ]
    },
    {
      "cell_type": "code",
      "metadata": {
        "colab": {
          "base_uri": "https://localhost:8080/"
        },
        "id": "GxnzlcImM2zK",
        "outputId": "0fbb53d6-af81-4daf-f93f-b063214046d8"
      },
      "source": [
        "full_path_to_file2 = os.path.join(A403) \n",
        "blob_service_client.get_blob_to_path('shadeimg', full_path_to_file2, full_path_to_file2)"
      ],
      "execution_count": null,
      "outputs": [
        {
          "output_type": "execute_result",
          "data": {
            "text/plain": [
              "<azure.storage.blob.models.Blob at 0x7fc15a14c510>"
            ]
          },
          "metadata": {},
          "execution_count": 31
        }
      ]
    },
    {
      "cell_type": "code",
      "metadata": {
        "colab": {
          "base_uri": "https://localhost:8080/"
        },
        "id": "Cb0iSM1LM3Fh",
        "outputId": "3d28a740-658b-4843-df74-8a97be4ae70e"
      },
      "source": [
        "full_path_to_file2 = os.path.join(A404) \n",
        "blob_service_client.get_blob_to_path('shadeimg', full_path_to_file2, full_path_to_file2)"
      ],
      "execution_count": null,
      "outputs": [
        {
          "output_type": "execute_result",
          "data": {
            "text/plain": [
              "<azure.storage.blob.models.Blob at 0x7fc15a17cad0>"
            ]
          },
          "metadata": {},
          "execution_count": 32
        }
      ]
    },
    {
      "cell_type": "code",
      "metadata": {
        "colab": {
          "base_uri": "https://localhost:8080/"
        },
        "id": "lw_8lwTjM3Ym",
        "outputId": "b656f94c-6be3-4b23-d460-6d2fcb702371"
      },
      "source": [
        "full_path_to_file2 = os.path.join(A406) \n",
        "blob_service_client.get_blob_to_path('shadeimg', full_path_to_file2, full_path_to_file2)"
      ],
      "execution_count": null,
      "outputs": [
        {
          "output_type": "execute_result",
          "data": {
            "text/plain": [
              "<azure.storage.blob.models.Blob at 0x7fc15a1706d0>"
            ]
          },
          "metadata": {},
          "execution_count": 33
        }
      ]
    },
    {
      "cell_type": "markdown",
      "metadata": {
        "id": "C0dMryetXbyu"
      },
      "source": [
        "B1"
      ]
    },
    {
      "cell_type": "code",
      "metadata": {
        "colab": {
          "base_uri": "https://localhost:8080/"
        },
        "id": "TE6rC95XM3p1",
        "outputId": "762ce9cc-4c82-4388-8d3a-5eac8d1c8115"
      },
      "source": [
        "full_path_to_file2 = os.path.join(B101) \n",
        "blob_service_client.get_blob_to_path('shadeimg', full_path_to_file2, full_path_to_file2)"
      ],
      "execution_count": null,
      "outputs": [
        {
          "output_type": "execute_result",
          "data": {
            "text/plain": [
              "<azure.storage.blob.models.Blob at 0x7fc15a820dd0>"
            ]
          },
          "metadata": {},
          "execution_count": 34
        }
      ]
    },
    {
      "cell_type": "code",
      "metadata": {
        "colab": {
          "base_uri": "https://localhost:8080/"
        },
        "id": "LckPT4ofM35k",
        "outputId": "4e94357a-12e9-4728-95bc-274e9dad9bbe"
      },
      "source": [
        "full_path_to_file2 = os.path.join(B102) \n",
        "blob_service_client.get_blob_to_path('shadeimg', full_path_to_file2, full_path_to_file2)"
      ],
      "execution_count": null,
      "outputs": [
        {
          "output_type": "execute_result",
          "data": {
            "text/plain": [
              "<azure.storage.blob.models.Blob at 0x7fc15ac72b10>"
            ]
          },
          "metadata": {},
          "execution_count": 35
        }
      ]
    },
    {
      "cell_type": "code",
      "metadata": {
        "colab": {
          "base_uri": "https://localhost:8080/"
        },
        "id": "I_0IZTEkM4Rk",
        "outputId": "a5581999-7937-4d0b-9723-1e0552beeedf"
      },
      "source": [
        "full_path_to_file2 = os.path.join(B107) \n",
        "blob_service_client.get_blob_to_path('shadeimg', full_path_to_file2, full_path_to_file2)"
      ],
      "execution_count": null,
      "outputs": [
        {
          "output_type": "execute_result",
          "data": {
            "text/plain": [
              "<azure.storage.blob.models.Blob at 0x7fc15a7bdcd0>"
            ]
          },
          "metadata": {},
          "execution_count": 36
        }
      ]
    },
    {
      "cell_type": "code",
      "metadata": {
        "colab": {
          "base_uri": "https://localhost:8080/"
        },
        "id": "m6mrMVIfM4f6",
        "outputId": "e508eb09-2ba3-4849-921b-9129e0557aa9"
      },
      "source": [
        "full_path_to_file2 = os.path.join(B109) \n",
        "blob_service_client.get_blob_to_path('shadeimg', full_path_to_file2, full_path_to_file2)"
      ],
      "execution_count": null,
      "outputs": [
        {
          "output_type": "execute_result",
          "data": {
            "text/plain": [
              "<azure.storage.blob.models.Blob at 0x7fc15a17c090>"
            ]
          },
          "metadata": {},
          "execution_count": 37
        }
      ]
    },
    {
      "cell_type": "markdown",
      "metadata": {
        "id": "eHKao3MSXdRq"
      },
      "source": [
        "B2"
      ]
    },
    {
      "cell_type": "code",
      "metadata": {
        "colab": {
          "base_uri": "https://localhost:8080/"
        },
        "id": "sS3PN1dVM4v7",
        "outputId": "a8b59c23-79cb-477f-8976-0708584faa82"
      },
      "source": [
        "full_path_to_file2 = os.path.join(B205) \n",
        "blob_service_client.get_blob_to_path('shadeimg', full_path_to_file2, full_path_to_file2)"
      ],
      "execution_count": null,
      "outputs": [
        {
          "output_type": "execute_result",
          "data": {
            "text/plain": [
              "<azure.storage.blob.models.Blob at 0x7fc15a104450>"
            ]
          },
          "metadata": {},
          "execution_count": 38
        }
      ]
    },
    {
      "cell_type": "code",
      "metadata": {
        "colab": {
          "base_uri": "https://localhost:8080/"
        },
        "id": "0Q_wZqWXM5Ak",
        "outputId": "8a3ebd8a-2c26-4152-cc5f-9cc4a3a10323"
      },
      "source": [
        "full_path_to_file2 = os.path.join(B206) \n",
        "blob_service_client.get_blob_to_path('shadeimg', full_path_to_file2, full_path_to_file2)"
      ],
      "execution_count": null,
      "outputs": [
        {
          "output_type": "execute_result",
          "data": {
            "text/plain": [
              "<azure.storage.blob.models.Blob at 0x7fc15a17ced0>"
            ]
          },
          "metadata": {},
          "execution_count": 39
        }
      ]
    },
    {
      "cell_type": "code",
      "metadata": {
        "colab": {
          "base_uri": "https://localhost:8080/"
        },
        "id": "9TsD8BWYM5PC",
        "outputId": "98411ff6-97ef-4724-9ae6-bce435b7a9db"
      },
      "source": [
        "full_path_to_file2 = os.path.join(B207) \n",
        "blob_service_client.get_blob_to_path('shadeimg', full_path_to_file2, full_path_to_file2)"
      ],
      "execution_count": null,
      "outputs": [
        {
          "output_type": "execute_result",
          "data": {
            "text/plain": [
              "<azure.storage.blob.models.Blob at 0x7fc15a17c950>"
            ]
          },
          "metadata": {},
          "execution_count": 40
        }
      ]
    },
    {
      "cell_type": "code",
      "metadata": {
        "colab": {
          "base_uri": "https://localhost:8080/"
        },
        "id": "lkbjr25aM5l2",
        "outputId": "402052ab-c4a5-423d-aa2b-28b34e1e314d"
      },
      "source": [
        "full_path_to_file2 = os.path.join(B208) \n",
        "blob_service_client.get_blob_to_path('shadeimg', full_path_to_file2, full_path_to_file2)"
      ],
      "execution_count": null,
      "outputs": [
        {
          "output_type": "execute_result",
          "data": {
            "text/plain": [
              "<azure.storage.blob.models.Blob at 0x7fc15a17bdd0>"
            ]
          },
          "metadata": {},
          "execution_count": 41
        }
      ]
    },
    {
      "cell_type": "markdown",
      "metadata": {
        "id": "TlOGt3ALXej1"
      },
      "source": [
        "B3"
      ]
    },
    {
      "cell_type": "code",
      "metadata": {
        "colab": {
          "base_uri": "https://localhost:8080/"
        },
        "id": "pKlOz4Y9M5zI",
        "outputId": "3372506b-70d7-4a36-8975-6a1ffe3db731"
      },
      "source": [
        "full_path_to_file2 = os.path.join(B301) \n",
        "blob_service_client.get_blob_to_path('shadeimg', full_path_to_file2, full_path_to_file2)"
      ],
      "execution_count": null,
      "outputs": [
        {
          "output_type": "execute_result",
          "data": {
            "text/plain": [
              "<azure.storage.blob.models.Blob at 0x7fc15a17c590>"
            ]
          },
          "metadata": {},
          "execution_count": 42
        }
      ]
    },
    {
      "cell_type": "code",
      "metadata": {
        "colab": {
          "base_uri": "https://localhost:8080/"
        },
        "id": "FBXvBSTRM6Ff",
        "outputId": "cff38c1e-e2cc-4dc2-b634-f69869f25b99"
      },
      "source": [
        "full_path_to_file2 = os.path.join(B303) \n",
        "blob_service_client.get_blob_to_path('shadeimg', full_path_to_file2, full_path_to_file2)"
      ],
      "execution_count": null,
      "outputs": [
        {
          "output_type": "execute_result",
          "data": {
            "text/plain": [
              "<azure.storage.blob.models.Blob at 0x7fc15a17cf10>"
            ]
          },
          "metadata": {},
          "execution_count": 43
        }
      ]
    },
    {
      "cell_type": "code",
      "metadata": {
        "colab": {
          "base_uri": "https://localhost:8080/"
        },
        "id": "tOjiOM5WM6VJ",
        "outputId": "70427479-5906-40bb-ea13-3ef94369f908"
      },
      "source": [
        "full_path_to_file2 = os.path.join(B306) \n",
        "blob_service_client.get_blob_to_path('shadeimg', full_path_to_file2, full_path_to_file2)"
      ],
      "execution_count": null,
      "outputs": [
        {
          "output_type": "execute_result",
          "data": {
            "text/plain": [
              "<azure.storage.blob.models.Blob at 0x7fc15a17b250>"
            ]
          },
          "metadata": {},
          "execution_count": 44
        }
      ]
    },
    {
      "cell_type": "code",
      "metadata": {
        "colab": {
          "base_uri": "https://localhost:8080/"
        },
        "id": "sB4eY_m8M6zX",
        "outputId": "391fc472-c689-4952-9645-2f79620e8556"
      },
      "source": [
        "full_path_to_file2 = os.path.join(B310) \n",
        "blob_service_client.get_blob_to_path('shadeimg', full_path_to_file2, full_path_to_file2)"
      ],
      "execution_count": null,
      "outputs": [
        {
          "output_type": "execute_result",
          "data": {
            "text/plain": [
              "<azure.storage.blob.models.Blob at 0x7fc15a7cc290>"
            ]
          },
          "metadata": {},
          "execution_count": 45
        }
      ]
    },
    {
      "cell_type": "markdown",
      "metadata": {
        "id": "6iLDM6igXg8_"
      },
      "source": [
        "B4"
      ]
    },
    {
      "cell_type": "code",
      "metadata": {
        "colab": {
          "base_uri": "https://localhost:8080/"
        },
        "id": "CrE9IrOKM6_x",
        "outputId": "a130624e-3a6f-48b6-f2aa-dc7141b606fa"
      },
      "source": [
        "full_path_to_file2 = os.path.join(B401) \n",
        "blob_service_client.get_blob_to_path('shadeimg', full_path_to_file2, full_path_to_file2)"
      ],
      "execution_count": null,
      "outputs": [
        {
          "output_type": "execute_result",
          "data": {
            "text/plain": [
              "<azure.storage.blob.models.Blob at 0x7fc15a1103d0>"
            ]
          },
          "metadata": {},
          "execution_count": 46
        }
      ]
    },
    {
      "cell_type": "code",
      "metadata": {
        "colab": {
          "base_uri": "https://localhost:8080/"
        },
        "id": "VI-jWhY7M7Nn",
        "outputId": "6620d14e-bc77-4f22-d9b8-b66355aaff8b"
      },
      "source": [
        "full_path_to_file2 = os.path.join(B402) \n",
        "blob_service_client.get_blob_to_path('shadeimg', full_path_to_file2, full_path_to_file2)"
      ],
      "execution_count": null,
      "outputs": [
        {
          "output_type": "execute_result",
          "data": {
            "text/plain": [
              "<azure.storage.blob.models.Blob at 0x7fc15a153310>"
            ]
          },
          "metadata": {},
          "execution_count": 47
        }
      ]
    },
    {
      "cell_type": "code",
      "metadata": {
        "colab": {
          "base_uri": "https://localhost:8080/"
        },
        "id": "u1-1VQHsM7gc",
        "outputId": "855de2fb-12b7-4979-83c2-974e6339f7f9"
      },
      "source": [
        "full_path_to_file2 = os.path.join(B408) \n",
        "blob_service_client.get_blob_to_path('shadeimg', full_path_to_file2, full_path_to_file2)"
      ],
      "execution_count": null,
      "outputs": [
        {
          "output_type": "execute_result",
          "data": {
            "text/plain": [
              "<azure.storage.blob.models.Blob at 0x7fc15a110d90>"
            ]
          },
          "metadata": {},
          "execution_count": 48
        }
      ]
    },
    {
      "cell_type": "code",
      "metadata": {
        "colab": {
          "base_uri": "https://localhost:8080/"
        },
        "id": "sYU6Ee-_M7vh",
        "outputId": "7192f933-be77-4050-d574-20a0e586c9a7"
      },
      "source": [
        "full_path_to_file2 = os.path.join(B410) \n",
        "blob_service_client.get_blob_to_path('shadeimg', full_path_to_file2, full_path_to_file2)"
      ],
      "execution_count": null,
      "outputs": [
        {
          "output_type": "execute_result",
          "data": {
            "text/plain": [
              "<azure.storage.blob.models.Blob at 0x7fc15a119e50>"
            ]
          },
          "metadata": {},
          "execution_count": 49
        }
      ]
    },
    {
      "cell_type": "markdown",
      "metadata": {
        "id": "yLvRTSqpXiRi"
      },
      "source": [
        "C1"
      ]
    },
    {
      "cell_type": "code",
      "metadata": {
        "colab": {
          "base_uri": "https://localhost:8080/"
        },
        "id": "d1NH8nHMM8aw",
        "outputId": "92ebb915-85b5-4fab-bcc1-b7d2cbbc0316"
      },
      "source": [
        "full_path_to_file2 = os.path.join(C101) \n",
        "blob_service_client.get_blob_to_path('shadeimg', full_path_to_file2, full_path_to_file2)"
      ],
      "execution_count": null,
      "outputs": [
        {
          "output_type": "execute_result",
          "data": {
            "text/plain": [
              "<azure.storage.blob.models.Blob at 0x7fc15a104190>"
            ]
          },
          "metadata": {},
          "execution_count": 50
        }
      ]
    },
    {
      "cell_type": "code",
      "metadata": {
        "colab": {
          "base_uri": "https://localhost:8080/"
        },
        "id": "VpSFswEtM8q1",
        "outputId": "1e0ce21c-5970-4a8a-fb74-1396ca467a4c"
      },
      "source": [
        "full_path_to_file2 = os.path.join(C102) \n",
        "blob_service_client.get_blob_to_path('shadeimg', full_path_to_file2, full_path_to_file2)"
      ],
      "execution_count": null,
      "outputs": [
        {
          "output_type": "execute_result",
          "data": {
            "text/plain": [
              "<azure.storage.blob.models.Blob at 0x7fc15a7ccd90>"
            ]
          },
          "metadata": {},
          "execution_count": 51
        }
      ]
    },
    {
      "cell_type": "code",
      "metadata": {
        "colab": {
          "base_uri": "https://localhost:8080/"
        },
        "id": "ozshiopsM8KV",
        "outputId": "7542174f-75ee-45a5-a76f-2401e22867e6"
      },
      "source": [
        "full_path_to_file2 = os.path.join(C105) \n",
        "blob_service_client.get_blob_to_path('shadeimg', full_path_to_file2, full_path_to_file2)"
      ],
      "execution_count": null,
      "outputs": [
        {
          "output_type": "execute_result",
          "data": {
            "text/plain": [
              "<azure.storage.blob.models.Blob at 0x7fc15a104dd0>"
            ]
          },
          "metadata": {},
          "execution_count": 52
        }
      ]
    },
    {
      "cell_type": "code",
      "metadata": {
        "colab": {
          "base_uri": "https://localhost:8080/"
        },
        "id": "WvwLHiKSM84s",
        "outputId": "196774c3-5ab7-4056-fb2a-87c816e59463"
      },
      "source": [
        "full_path_to_file2 = os.path.join(C109) \n",
        "blob_service_client.get_blob_to_path('shadeimg', full_path_to_file2, full_path_to_file2)"
      ],
      "execution_count": null,
      "outputs": [
        {
          "output_type": "execute_result",
          "data": {
            "text/plain": [
              "<azure.storage.blob.models.Blob at 0x7fc15a1105d0>"
            ]
          },
          "metadata": {},
          "execution_count": 53
        }
      ]
    },
    {
      "cell_type": "markdown",
      "metadata": {
        "id": "jydiPxDiXjrF"
      },
      "source": [
        "C2"
      ]
    },
    {
      "cell_type": "code",
      "metadata": {
        "colab": {
          "base_uri": "https://localhost:8080/"
        },
        "id": "XS24LMqdM9Jz",
        "outputId": "62875df7-d310-4782-8688-9795dd4fac97"
      },
      "source": [
        "full_path_to_file2 = os.path.join(C201) \n",
        "blob_service_client.get_blob_to_path('shadeimg', full_path_to_file2, full_path_to_file2)"
      ],
      "execution_count": null,
      "outputs": [
        {
          "output_type": "execute_result",
          "data": {
            "text/plain": [
              "<azure.storage.blob.models.Blob at 0x7fc15a153290>"
            ]
          },
          "metadata": {},
          "execution_count": 54
        }
      ]
    },
    {
      "cell_type": "code",
      "metadata": {
        "colab": {
          "base_uri": "https://localhost:8080/"
        },
        "id": "zGEn6v4MM9n7",
        "outputId": "456f9825-853e-4aff-98ab-5ee0058e4887"
      },
      "source": [
        "full_path_to_file2 = os.path.join(C203) \n",
        "blob_service_client.get_blob_to_path('shadeimg', full_path_to_file2, full_path_to_file2)"
      ],
      "execution_count": null,
      "outputs": [
        {
          "output_type": "execute_result",
          "data": {
            "text/plain": [
              "<azure.storage.blob.models.Blob at 0x7fc15a117b10>"
            ]
          },
          "metadata": {},
          "execution_count": 55
        }
      ]
    },
    {
      "cell_type": "code",
      "metadata": {
        "colab": {
          "base_uri": "https://localhost:8080/"
        },
        "id": "ZYWoqG-PM91q",
        "outputId": "0534bb69-0009-428c-dae4-8185249c49e0"
      },
      "source": [
        "full_path_to_file2 = os.path.join(C205) \n",
        "blob_service_client.get_blob_to_path('shadeimg', full_path_to_file2, full_path_to_file2)"
      ],
      "execution_count": null,
      "outputs": [
        {
          "output_type": "execute_result",
          "data": {
            "text/plain": [
              "<azure.storage.blob.models.Blob at 0x7fc15a117590>"
            ]
          },
          "metadata": {},
          "execution_count": 56
        }
      ]
    },
    {
      "cell_type": "code",
      "metadata": {
        "colab": {
          "base_uri": "https://localhost:8080/"
        },
        "id": "ZaCIgZwuM-F6",
        "outputId": "e4b6711c-3619-4d85-f205-b53e601c6fad"
      },
      "source": [
        "full_path_to_file2 = os.path.join(C207) \n",
        "blob_service_client.get_blob_to_path('shadeimg', full_path_to_file2, full_path_to_file2)"
      ],
      "execution_count": null,
      "outputs": [
        {
          "output_type": "execute_result",
          "data": {
            "text/plain": [
              "<azure.storage.blob.models.Blob at 0x7fc15a10fed0>"
            ]
          },
          "metadata": {},
          "execution_count": 57
        }
      ]
    },
    {
      "cell_type": "markdown",
      "metadata": {
        "id": "6FH25KL2XkqR"
      },
      "source": [
        "C3"
      ]
    },
    {
      "cell_type": "code",
      "metadata": {
        "colab": {
          "base_uri": "https://localhost:8080/"
        },
        "id": "pYM6gQadM-WB",
        "outputId": "cc79d479-6be6-4c65-b8ee-342037b93198"
      },
      "source": [
        "full_path_to_file2 = os.path.join(C302) \n",
        "blob_service_client.get_blob_to_path('shadeimg', full_path_to_file2, full_path_to_file2)"
      ],
      "execution_count": null,
      "outputs": [
        {
          "output_type": "execute_result",
          "data": {
            "text/plain": [
              "<azure.storage.blob.models.Blob at 0x7fc15a110390>"
            ]
          },
          "metadata": {},
          "execution_count": 58
        }
      ]
    },
    {
      "cell_type": "code",
      "metadata": {
        "colab": {
          "base_uri": "https://localhost:8080/"
        },
        "id": "ZT2WI6_SM-l1",
        "outputId": "de3c9024-317c-4eea-95a9-d01ac9987823"
      },
      "source": [
        "full_path_to_file2 = os.path.join(C303) \n",
        "blob_service_client.get_blob_to_path('shadeimg', full_path_to_file2, full_path_to_file2)"
      ],
      "execution_count": null,
      "outputs": [
        {
          "output_type": "execute_result",
          "data": {
            "text/plain": [
              "<azure.storage.blob.models.Blob at 0x7fc15a7cd250>"
            ]
          },
          "metadata": {},
          "execution_count": 59
        }
      ]
    },
    {
      "cell_type": "code",
      "metadata": {
        "colab": {
          "base_uri": "https://localhost:8080/"
        },
        "id": "EEeOjowDM-9y",
        "outputId": "8972d0ea-2143-4b1e-c0d4-38e62da63ea4"
      },
      "source": [
        "full_path_to_file2 = os.path.join(C306) \n",
        "blob_service_client.get_blob_to_path('shadeimg', full_path_to_file2, full_path_to_file2)"
      ],
      "execution_count": null,
      "outputs": [
        {
          "output_type": "execute_result",
          "data": {
            "text/plain": [
              "<azure.storage.blob.models.Blob at 0x7fc15a10f150>"
            ]
          },
          "metadata": {},
          "execution_count": 60
        }
      ]
    },
    {
      "cell_type": "code",
      "metadata": {
        "colab": {
          "base_uri": "https://localhost:8080/"
        },
        "id": "xewKWFZOM_Lf",
        "outputId": "00ecaded-f059-44a0-da4c-f196413a72f9"
      },
      "source": [
        "full_path_to_file2 = os.path.join(C309) \n",
        "blob_service_client.get_blob_to_path('shadeimg', full_path_to_file2, full_path_to_file2)"
      ],
      "execution_count": null,
      "outputs": [
        {
          "output_type": "execute_result",
          "data": {
            "text/plain": [
              "<azure.storage.blob.models.Blob at 0x7fc15a1652d0>"
            ]
          },
          "metadata": {},
          "execution_count": 61
        }
      ]
    },
    {
      "cell_type": "markdown",
      "metadata": {
        "id": "T5JOfqyQXmco"
      },
      "source": [
        "C4"
      ]
    },
    {
      "cell_type": "code",
      "metadata": {
        "colab": {
          "base_uri": "https://localhost:8080/"
        },
        "id": "g678A78gM_Zs",
        "outputId": "202c010d-a984-4f1c-bc13-9cb706a6c64b"
      },
      "source": [
        "full_path_to_file2 = os.path.join(C401) \n",
        "blob_service_client.get_blob_to_path('shadeimg', full_path_to_file2, full_path_to_file2)"
      ],
      "execution_count": null,
      "outputs": [
        {
          "output_type": "execute_result",
          "data": {
            "text/plain": [
              "<azure.storage.blob.models.Blob at 0x7fc15a1199d0>"
            ]
          },
          "metadata": {},
          "execution_count": 62
        }
      ]
    },
    {
      "cell_type": "code",
      "metadata": {
        "colab": {
          "base_uri": "https://localhost:8080/"
        },
        "id": "-VduLUrmM_rU",
        "outputId": "ba9f5e09-4809-4fdc-ff5d-c8073a322a38"
      },
      "source": [
        "full_path_to_file2 = os.path.join(C404) \n",
        "blob_service_client.get_blob_to_path('shadeimg', full_path_to_file2, full_path_to_file2)"
      ],
      "execution_count": null,
      "outputs": [
        {
          "output_type": "execute_result",
          "data": {
            "text/plain": [
              "<azure.storage.blob.models.Blob at 0x7fc15a117490>"
            ]
          },
          "metadata": {},
          "execution_count": 63
        }
      ]
    },
    {
      "cell_type": "code",
      "metadata": {
        "colab": {
          "base_uri": "https://localhost:8080/"
        },
        "id": "xObkE1AjM_4Y",
        "outputId": "ece5d0b2-7705-4b24-9428-804d01932771"
      },
      "source": [
        "full_path_to_file2 = os.path.join(C405) \n",
        "blob_service_client.get_blob_to_path('shadeimg', full_path_to_file2, full_path_to_file2)"
      ],
      "execution_count": null,
      "outputs": [
        {
          "output_type": "execute_result",
          "data": {
            "text/plain": [
              "<azure.storage.blob.models.Blob at 0x7fc15a134a50>"
            ]
          },
          "metadata": {},
          "execution_count": 64
        }
      ]
    },
    {
      "cell_type": "code",
      "metadata": {
        "colab": {
          "base_uri": "https://localhost:8080/"
        },
        "id": "OrsILvN3NANL",
        "outputId": "073a8edf-6613-4150-9285-9be994bb5dd9"
      },
      "source": [
        "full_path_to_file2 = os.path.join(C406) \n",
        "blob_service_client.get_blob_to_path('shadeimg', full_path_to_file2, full_path_to_file2)"
      ],
      "execution_count": null,
      "outputs": [
        {
          "output_type": "execute_result",
          "data": {
            "text/plain": [
              "<azure.storage.blob.models.Blob at 0x7fc15a13add0>"
            ]
          },
          "metadata": {},
          "execution_count": 65
        }
      ]
    },
    {
      "cell_type": "markdown",
      "metadata": {
        "id": "eysk-fnNXnuy"
      },
      "source": [
        "D2"
      ]
    },
    {
      "cell_type": "code",
      "metadata": {
        "colab": {
          "base_uri": "https://localhost:8080/"
        },
        "id": "FUDIdSfYNAaN",
        "outputId": "2e731918-8201-4ffe-a9e0-fef6203a7048"
      },
      "source": [
        "full_path_to_file2 = os.path.join(D201) \n",
        "blob_service_client.get_blob_to_path('shadeimg', full_path_to_file2, full_path_to_file2)"
      ],
      "execution_count": null,
      "outputs": [
        {
          "output_type": "execute_result",
          "data": {
            "text/plain": [
              "<azure.storage.blob.models.Blob at 0x7fc15a126a50>"
            ]
          },
          "metadata": {},
          "execution_count": 66
        }
      ]
    },
    {
      "cell_type": "code",
      "metadata": {
        "colab": {
          "base_uri": "https://localhost:8080/"
        },
        "id": "raReD8PoNAps",
        "outputId": "bac89a4f-2a88-4461-df75-55588e0bf000"
      },
      "source": [
        "full_path_to_file2 = os.path.join(D203) \n",
        "blob_service_client.get_blob_to_path('shadeimg', full_path_to_file2, full_path_to_file2)"
      ],
      "execution_count": null,
      "outputs": [
        {
          "output_type": "execute_result",
          "data": {
            "text/plain": [
              "<azure.storage.blob.models.Blob at 0x7fc15a1197d0>"
            ]
          },
          "metadata": {},
          "execution_count": 67
        }
      ]
    },
    {
      "cell_type": "code",
      "metadata": {
        "colab": {
          "base_uri": "https://localhost:8080/"
        },
        "id": "DMIe2HlbNA-P",
        "outputId": "e550b932-9673-48fc-b2c5-77b58cb0c964"
      },
      "source": [
        "full_path_to_file2 = os.path.join(D206) \n",
        "blob_service_client.get_blob_to_path('shadeimg', full_path_to_file2, full_path_to_file2)"
      ],
      "execution_count": null,
      "outputs": [
        {
          "output_type": "execute_result",
          "data": {
            "text/plain": [
              "<azure.storage.blob.models.Blob at 0x7fc15a134310>"
            ]
          },
          "metadata": {},
          "execution_count": 68
        }
      ]
    },
    {
      "cell_type": "code",
      "metadata": {
        "colab": {
          "base_uri": "https://localhost:8080/"
        },
        "id": "t4rYO8AINBX4",
        "outputId": "36d6c00d-a230-4e62-ab5f-93ac41150e62"
      },
      "source": [
        "full_path_to_file2 = os.path.join(D207) \n",
        "blob_service_client.get_blob_to_path('shadeimg', full_path_to_file2, full_path_to_file2)"
      ],
      "execution_count": null,
      "outputs": [
        {
          "output_type": "execute_result",
          "data": {
            "text/plain": [
              "<azure.storage.blob.models.Blob at 0x7fc15a15c050>"
            ]
          },
          "metadata": {},
          "execution_count": 69
        }
      ]
    },
    {
      "cell_type": "markdown",
      "metadata": {
        "id": "6J8vM5kRXpWP"
      },
      "source": [
        "D3"
      ]
    },
    {
      "cell_type": "code",
      "metadata": {
        "colab": {
          "base_uri": "https://localhost:8080/"
        },
        "id": "o9G8c3AvNBzL",
        "outputId": "fa1ae92a-1b10-463f-d7e4-f195287a499a"
      },
      "source": [
        "full_path_to_file2 = os.path.join(D303) \n",
        "blob_service_client.get_blob_to_path('shadeimg', full_path_to_file2, full_path_to_file2)"
      ],
      "execution_count": null,
      "outputs": [
        {
          "output_type": "execute_result",
          "data": {
            "text/plain": [
              "<azure.storage.blob.models.Blob at 0x7fc15a13ab90>"
            ]
          },
          "metadata": {},
          "execution_count": 70
        }
      ]
    },
    {
      "cell_type": "code",
      "metadata": {
        "colab": {
          "base_uri": "https://localhost:8080/"
        },
        "id": "BD80SXlvNCC9",
        "outputId": "5263c8d2-9420-429d-f21d-dcc47c10ca6f"
      },
      "source": [
        "full_path_to_file2 = os.path.join(D304) \n",
        "blob_service_client.get_blob_to_path('shadeimg', full_path_to_file2, full_path_to_file2)"
      ],
      "execution_count": null,
      "outputs": [
        {
          "output_type": "execute_result",
          "data": {
            "text/plain": [
              "<azure.storage.blob.models.Blob at 0x7fc15a10f590>"
            ]
          },
          "metadata": {},
          "execution_count": 71
        }
      ]
    },
    {
      "cell_type": "code",
      "metadata": {
        "colab": {
          "base_uri": "https://localhost:8080/"
        },
        "id": "VsPfNZTTNCUr",
        "outputId": "ced329aa-c90c-498d-eaec-5ee960b06370"
      },
      "source": [
        "full_path_to_file2 = os.path.join(D307) \n",
        "blob_service_client.get_blob_to_path('shadeimg', full_path_to_file2, full_path_to_file2)"
      ],
      "execution_count": null,
      "outputs": [
        {
          "output_type": "execute_result",
          "data": {
            "text/plain": [
              "<azure.storage.blob.models.Blob at 0x7fc15a134b50>"
            ]
          },
          "metadata": {},
          "execution_count": 72
        }
      ]
    },
    {
      "cell_type": "code",
      "metadata": {
        "colab": {
          "base_uri": "https://localhost:8080/"
        },
        "id": "ccQ4bHJDNCkI",
        "outputId": "3f2d2cab-d750-4a02-b62c-c2c8b270541a"
      },
      "source": [
        "full_path_to_file2 = os.path.join(D308) \n",
        "blob_service_client.get_blob_to_path('shadeimg', full_path_to_file2, full_path_to_file2)"
      ],
      "execution_count": null,
      "outputs": [
        {
          "output_type": "execute_result",
          "data": {
            "text/plain": [
              "<azure.storage.blob.models.Blob at 0x7fc15a7bd210>"
            ]
          },
          "metadata": {},
          "execution_count": 73
        }
      ]
    },
    {
      "cell_type": "markdown",
      "metadata": {
        "id": "--nqgRbsXqwj"
      },
      "source": [
        "D4"
      ]
    },
    {
      "cell_type": "code",
      "metadata": {
        "colab": {
          "base_uri": "https://localhost:8080/"
        },
        "id": "aLFb3BitNCxw",
        "outputId": "c226792a-2235-4063-8b3a-a30670074310"
      },
      "source": [
        "full_path_to_file2 = os.path.join(D402) \n",
        "blob_service_client.get_blob_to_path('shadeimg', full_path_to_file2, full_path_to_file2)"
      ],
      "execution_count": null,
      "outputs": [
        {
          "output_type": "execute_result",
          "data": {
            "text/plain": [
              "<azure.storage.blob.models.Blob at 0x7fc15a170510>"
            ]
          },
          "metadata": {},
          "execution_count": 74
        }
      ]
    },
    {
      "cell_type": "code",
      "metadata": {
        "colab": {
          "base_uri": "https://localhost:8080/"
        },
        "id": "llOjueA3NDLD",
        "outputId": "a4850171-c05d-4841-eaa1-64996923003b"
      },
      "source": [
        "full_path_to_file2 = os.path.join(D404) \n",
        "blob_service_client.get_blob_to_path('shadeimg', full_path_to_file2, full_path_to_file2)"
      ],
      "execution_count": null,
      "outputs": [
        {
          "output_type": "execute_result",
          "data": {
            "text/plain": [
              "<azure.storage.blob.models.Blob at 0x7fc15a119ed0>"
            ]
          },
          "metadata": {},
          "execution_count": 75
        }
      ]
    },
    {
      "cell_type": "code",
      "metadata": {
        "colab": {
          "base_uri": "https://localhost:8080/"
        },
        "id": "NC-10YE_NDax",
        "outputId": "6c7577aa-fcf6-4f74-b8e1-4fa75a5cf83f"
      },
      "source": [
        "full_path_to_file2 = os.path.join(D407) \n",
        "blob_service_client.get_blob_to_path('shadeimg', full_path_to_file2, full_path_to_file2)"
      ],
      "execution_count": null,
      "outputs": [
        {
          "output_type": "execute_result",
          "data": {
            "text/plain": [
              "<azure.storage.blob.models.Blob at 0x7fc15a1424d0>"
            ]
          },
          "metadata": {},
          "execution_count": 76
        }
      ]
    },
    {
      "cell_type": "code",
      "metadata": {
        "colab": {
          "base_uri": "https://localhost:8080/"
        },
        "id": "7mEFraJiNDsj",
        "outputId": "aca6953d-b800-40ab-8816-5609e398f047"
      },
      "source": [
        "full_path_to_file2 = os.path.join(D410) \n",
        "blob_service_client.get_blob_to_path('shadeimg', full_path_to_file2, full_path_to_file2)"
      ],
      "execution_count": null,
      "outputs": [
        {
          "output_type": "execute_result",
          "data": {
            "text/plain": [
              "<azure.storage.blob.models.Blob at 0x7fc15a126b90>"
            ]
          },
          "metadata": {},
          "execution_count": 77
        }
      ]
    },
    {
      "cell_type": "markdown",
      "metadata": {
        "id": "88tE80PAZ-04"
      },
      "source": [
        "#3. BGR to RGB"
      ]
    },
    {
      "cell_type": "code",
      "metadata": {
        "id": "hOaCQCM-lJPA"
      },
      "source": [
        "import cv2\n",
        "from matplotlib import pyplot as plt #การเรียกใช้คำสั่ง matplotlib เพื่อวาดกราฟ โดยแทนชื่อ matplotlib ด้วย plt\n",
        "import matplotlib"
      ],
      "execution_count": null,
      "outputs": []
    },
    {
      "cell_type": "markdown",
      "metadata": {
        "id": "P8Vp2fIOb6KG"
      },
      "source": [
        "A1"
      ]
    },
    {
      "cell_type": "code",
      "metadata": {
        "colab": {
          "base_uri": "https://localhost:8080/",
          "height": 286
        },
        "id": "GVOM_S9IaAsm",
        "outputId": "b4d31ab0-47dc-4525-d16c-269f2e682b70"
      },
      "source": [
        "imgA1_01  = cv2.imread(A101)\n",
        "RGB_imgA1_01= cv2.cvtColor(imgA1_01, cv2.COLOR_BGR2RGB)\n",
        "plt.imshow(RGB_imgA1_01)"
      ],
      "execution_count": null,
      "outputs": [
        {
          "output_type": "execute_result",
          "data": {
            "text/plain": [
              "<matplotlib.image.AxesImage at 0x7fc15a126e90>"
            ]
          },
          "metadata": {},
          "execution_count": 79
        },
        {
          "output_type": "display_data",
          "data": {
            "image/png": "[encoded data removed]",
            "text/plain": [
              "<Figure size 432x288 with 1 Axes>"
            ]
          },
          "metadata": {
            "needs_background": "light"
          }
        }
      ]
    },
    {
      "cell_type": "code",
      "metadata": {
        "id": "hHPm9C2Obbbx"
      },
      "source": [
        "imgA1_04  = cv2.imread(A104)\n",
        "RGB_imgA1_04= cv2.cvtColor(imgA1_04, cv2.COLOR_BGR2RGB)"
      ],
      "execution_count": null,
      "outputs": []
    },
    {
      "cell_type": "code",
      "metadata": {
        "id": "JSlpvsMEbgK7"
      },
      "source": [
        "imgA1_07  = cv2.imread(A107)\n",
        "RGB_imgA1_07= cv2.cvtColor(imgA1_07, cv2.COLOR_BGR2RGB)"
      ],
      "execution_count": null,
      "outputs": []
    },
    {
      "cell_type": "code",
      "metadata": {
        "id": "0o9-5ucebgqD"
      },
      "source": [
        "imgA1_09  = cv2.imread(A109)\n",
        "RGB_imgA1_09= cv2.cvtColor(imgA1_09, cv2.COLOR_BGR2RGB)"
      ],
      "execution_count": null,
      "outputs": []
    },
    {
      "cell_type": "markdown",
      "metadata": {
        "id": "gufTt975b7fS"
      },
      "source": [
        "A2"
      ]
    },
    {
      "cell_type": "code",
      "metadata": {
        "colab": {
          "base_uri": "https://localhost:8080/",
          "height": 286
        },
        "id": "tjSL18omb5R-",
        "outputId": "41446c88-517c-4e57-b2a4-9007ff9cf148"
      },
      "source": [
        "imgA2_01  = cv2.imread(A201)\n",
        "RGB_imgA2_01= cv2.cvtColor(imgA2_01, cv2.COLOR_BGR2RGB)\n",
        "plt.imshow(RGB_imgA2_01)"
      ],
      "execution_count": null,
      "outputs": [
        {
          "output_type": "execute_result",
          "data": {
            "text/plain": [
              "<matplotlib.image.AxesImage at 0x7fc14f395450>"
            ]
          },
          "metadata": {},
          "execution_count": 83
        },
        {
          "output_type": "display_data",
          "data": {
            "image/png": "[encoded data removed]",
            "text/plain": [
              "<Figure size 432x288 with 1 Axes>"
            ]
          },
          "metadata": {
            "needs_background": "light"
          }
        }
      ]
    },
    {
      "cell_type": "code",
      "metadata": {
        "id": "54V3PVGEcKYg"
      },
      "source": [
        "imgA2_03  = cv2.imread(A203)\n",
        "RGB_imgA2_03= cv2.cvtColor(imgA2_03, cv2.COLOR_BGR2RGB)"
      ],
      "execution_count": null,
      "outputs": []
    },
    {
      "cell_type": "code",
      "metadata": {
        "id": "DVtfJhWscK1x"
      },
      "source": [
        "imgA2_04  = cv2.imread(A204)\n",
        "RGB_imgA2_04= cv2.cvtColor(imgA2_04, cv2.COLOR_BGR2RGB)"
      ],
      "execution_count": null,
      "outputs": []
    },
    {
      "cell_type": "code",
      "metadata": {
        "id": "8Naz0LU5cLHO"
      },
      "source": [
        "imgA2_06  = cv2.imread(A206)\n",
        "RGB_imgA2_06= cv2.cvtColor(imgA2_06, cv2.COLOR_BGR2RGB)"
      ],
      "execution_count": null,
      "outputs": []
    },
    {
      "cell_type": "markdown",
      "metadata": {
        "id": "uVEPIS6bcYbA"
      },
      "source": [
        "A3"
      ]
    },
    {
      "cell_type": "code",
      "metadata": {
        "id": "KzcBxc8lck7z"
      },
      "source": [
        "imgA3_02  = cv2.imread(A302)\n",
        "RGB_imgA3_02= cv2.cvtColor(imgA3_02, cv2.COLOR_BGR2RGB)"
      ],
      "execution_count": null,
      "outputs": []
    },
    {
      "cell_type": "code",
      "metadata": {
        "id": "lORtl17icmhM"
      },
      "source": [
        "imgA3_03  = cv2.imread(A303)\n",
        "RGB_imgA3_03= cv2.cvtColor(imgA3_03, cv2.COLOR_BGR2RGB)"
      ],
      "execution_count": null,
      "outputs": []
    },
    {
      "cell_type": "code",
      "metadata": {
        "id": "PdrwzlqVcyi1"
      },
      "source": [
        "imgA3_04  = cv2.imread(A304)\n",
        "RGB_imgA3_04= cv2.cvtColor(imgA3_04, cv2.COLOR_BGR2RGB)"
      ],
      "execution_count": null,
      "outputs": []
    },
    {
      "cell_type": "code",
      "metadata": {
        "id": "sg9Z_KwUc4kR"
      },
      "source": [
        "imgA3_05  = cv2.imread(A305)\n",
        "RGB_imgA3_05= cv2.cvtColor(imgA3_05, cv2.COLOR_BGR2RGB)"
      ],
      "execution_count": null,
      "outputs": []
    },
    {
      "cell_type": "markdown",
      "metadata": {
        "id": "a_-SKgyLcZWM"
      },
      "source": [
        "A3.5"
      ]
    },
    {
      "cell_type": "code",
      "metadata": {
        "id": "Gf3_D74Fc8S1"
      },
      "source": [
        "imgA3_502  = cv2.imread(A3_502)\n",
        "RGB_imgA3_502= cv2.cvtColor(imgA3_502, cv2.COLOR_BGR2RGB)"
      ],
      "execution_count": null,
      "outputs": []
    },
    {
      "cell_type": "code",
      "metadata": {
        "id": "GqLh_f0mdBKp"
      },
      "source": [
        "imgA3_504  = cv2.imread(A3_504)\n",
        "RGB_imgA3_504= cv2.cvtColor(imgA3_504, cv2.COLOR_BGR2RGB)"
      ],
      "execution_count": null,
      "outputs": []
    },
    {
      "cell_type": "code",
      "metadata": {
        "id": "cGBjkxnKdFxn"
      },
      "source": [
        "imgA3_506  = cv2.imread(A3_506)\n",
        "RGB_imgA3_506= cv2.cvtColor(imgA3_506, cv2.COLOR_BGR2RGB)"
      ],
      "execution_count": null,
      "outputs": []
    },
    {
      "cell_type": "code",
      "metadata": {
        "id": "wVvpke2ZdKe1"
      },
      "source": [
        "imgA3_507  = cv2.imread(A3_507)\n",
        "RGB_imgA3_507= cv2.cvtColor(imgA3_507, cv2.COLOR_BGR2RGB)"
      ],
      "execution_count": null,
      "outputs": []
    },
    {
      "cell_type": "markdown",
      "metadata": {
        "id": "PEkgGEpUdNrj"
      },
      "source": [
        "A4"
      ]
    },
    {
      "cell_type": "code",
      "metadata": {
        "id": "0iwy2ADPdOyB"
      },
      "source": [
        "imgA4_01  = cv2.imread(A401)\n",
        "RGB_imgA4_01= cv2.cvtColor(imgA4_01, cv2.COLOR_BGR2RGB)"
      ],
      "execution_count": null,
      "outputs": []
    },
    {
      "cell_type": "code",
      "metadata": {
        "id": "EYuD_CJydQX5"
      },
      "source": [
        "imgA4_03  = cv2.imread(A403)\n",
        "RGB_imgA4_03= cv2.cvtColor(imgA4_03, cv2.COLOR_BGR2RGB)"
      ],
      "execution_count": null,
      "outputs": []
    },
    {
      "cell_type": "code",
      "metadata": {
        "id": "0nvPOVb6dQsZ"
      },
      "source": [
        "imgA4_04  = cv2.imread(A404)\n",
        "RGB_imgA4_04= cv2.cvtColor(imgA4_04, cv2.COLOR_BGR2RGB)"
      ],
      "execution_count": null,
      "outputs": []
    },
    {
      "cell_type": "code",
      "metadata": {
        "id": "N-8Nu6NBdQ8d"
      },
      "source": [
        "imgA4_06  = cv2.imread(A406)\n",
        "RGB_imgA4_06= cv2.cvtColor(imgA4_06, cv2.COLOR_BGR2RGB)"
      ],
      "execution_count": null,
      "outputs": []
    },
    {
      "cell_type": "markdown",
      "metadata": {
        "id": "_ntdqxB5dsok"
      },
      "source": [
        "B1"
      ]
    },
    {
      "cell_type": "code",
      "metadata": {
        "id": "6N74-1BkdxgN"
      },
      "source": [
        "imgB1_01  = cv2.imread(B101)\n",
        "RGB_imgB1_01= cv2.cvtColor(imgB1_01, cv2.COLOR_BGR2RGB)"
      ],
      "execution_count": null,
      "outputs": []
    },
    {
      "cell_type": "code",
      "metadata": {
        "id": "N8oZlwN0dyGl"
      },
      "source": [
        "imgB1_02  = cv2.imread(B102)\n",
        "RGB_imgB1_02= cv2.cvtColor(imgB1_02, cv2.COLOR_BGR2RGB)"
      ],
      "execution_count": null,
      "outputs": []
    },
    {
      "cell_type": "code",
      "metadata": {
        "id": "igK3PDK9eCnz"
      },
      "source": [
        "imgB1_07  = cv2.imread(B107)\n",
        "RGB_imgB1_07= cv2.cvtColor(imgB1_07, cv2.COLOR_BGR2RGB)"
      ],
      "execution_count": null,
      "outputs": []
    },
    {
      "cell_type": "code",
      "metadata": {
        "id": "VrS0M6pAeHIF"
      },
      "source": [
        "imgB1_09  = cv2.imread(B109)\n",
        "RGB_imgB1_09= cv2.cvtColor(imgB1_09, cv2.COLOR_BGR2RGB)"
      ],
      "execution_count": null,
      "outputs": []
    },
    {
      "cell_type": "markdown",
      "metadata": {
        "id": "1I1KWoCMeObp"
      },
      "source": [
        "B2"
      ]
    },
    {
      "cell_type": "code",
      "metadata": {
        "id": "X-2JLg5feRPH"
      },
      "source": [
        "imgB2_05  = cv2.imread(B205)\n",
        "RGB_imgB2_05= cv2.cvtColor(imgB2_05, cv2.COLOR_BGR2RGB)"
      ],
      "execution_count": null,
      "outputs": []
    },
    {
      "cell_type": "code",
      "metadata": {
        "id": "B_VstUr5eXwQ"
      },
      "source": [
        "imgB2_06  = cv2.imread(B206)\n",
        "RGB_imgB2_06= cv2.cvtColor(imgB2_06, cv2.COLOR_BGR2RGB)"
      ],
      "execution_count": null,
      "outputs": []
    },
    {
      "cell_type": "code",
      "metadata": {
        "id": "2CgDr2APedK9"
      },
      "source": [
        "imgB2_07  = cv2.imread(B207)\n",
        "RGB_imgB2_07= cv2.cvtColor(imgB2_07, cv2.COLOR_BGR2RGB)"
      ],
      "execution_count": null,
      "outputs": []
    },
    {
      "cell_type": "code",
      "metadata": {
        "id": "5xOt0vwDedc_"
      },
      "source": [
        "imgB2_08  = cv2.imread(B208)\n",
        "RGB_imgB2_08= cv2.cvtColor(imgB2_08, cv2.COLOR_BGR2RGB)"
      ],
      "execution_count": null,
      "outputs": []
    },
    {
      "cell_type": "markdown",
      "metadata": {
        "id": "hUCBVyY7ePqP"
      },
      "source": [
        "B3"
      ]
    },
    {
      "cell_type": "code",
      "metadata": {
        "id": "LtfSY2yieq1m"
      },
      "source": [
        "imgB3_01  = cv2.imread(B301)\n",
        "RGB_imgB3_01= cv2.cvtColor(imgB3_01, cv2.COLOR_BGR2RGB)"
      ],
      "execution_count": null,
      "outputs": []
    },
    {
      "cell_type": "code",
      "metadata": {
        "id": "794EGsZeevXI"
      },
      "source": [
        "imgB3_03  = cv2.imread(B303)\n",
        "RGB_imgB3_03= cv2.cvtColor(imgB3_03, cv2.COLOR_BGR2RGB)"
      ],
      "execution_count": null,
      "outputs": []
    },
    {
      "cell_type": "code",
      "metadata": {
        "id": "lTZ_Ukume0_3"
      },
      "source": [
        "imgB3_06  = cv2.imread(B306)\n",
        "RGB_imgB3_06= cv2.cvtColor(imgB3_06, cv2.COLOR_BGR2RGB)"
      ],
      "execution_count": null,
      "outputs": []
    },
    {
      "cell_type": "code",
      "metadata": {
        "id": "8QEXNswqe6yE"
      },
      "source": [
        "imgB3_10  = cv2.imread(B310)\n",
        "RGB_imgB3_10= cv2.cvtColor(imgB3_10, cv2.COLOR_BGR2RGB)"
      ],
      "execution_count": null,
      "outputs": []
    },
    {
      "cell_type": "markdown",
      "metadata": {
        "id": "LcXBVCGVeQec"
      },
      "source": [
        "B4"
      ]
    },
    {
      "cell_type": "code",
      "metadata": {
        "id": "6aFTfOU0fKS7"
      },
      "source": [
        "imgB4_01  = cv2.imread(B401)\n",
        "RGB_imgB4_01= cv2.cvtColor(imgB4_01, cv2.COLOR_BGR2RGB)"
      ],
      "execution_count": null,
      "outputs": []
    },
    {
      "cell_type": "code",
      "metadata": {
        "id": "yIuyXg-Wfh3L"
      },
      "source": [
        "imgB4_02  = cv2.imread(B402)\n",
        "RGB_imgB4_02= cv2.cvtColor(imgB4_02, cv2.COLOR_BGR2RGB)"
      ],
      "execution_count": null,
      "outputs": []
    },
    {
      "cell_type": "code",
      "metadata": {
        "id": "xXaJJNF3fiG-"
      },
      "source": [
        "imgB4_08  = cv2.imread(B408)\n",
        "RGB_imgB4_08= cv2.cvtColor(imgB4_08, cv2.COLOR_BGR2RGB)"
      ],
      "execution_count": null,
      "outputs": []
    },
    {
      "cell_type": "code",
      "metadata": {
        "id": "ILAXr3L4fGYz"
      },
      "source": [
        "imgB4_10  = cv2.imread(B410)\n",
        "RGB_imgB4_10= cv2.cvtColor(imgB4_10, cv2.COLOR_BGR2RGB)"
      ],
      "execution_count": null,
      "outputs": []
    },
    {
      "cell_type": "markdown",
      "metadata": {
        "id": "uubEFQ7qf-tC"
      },
      "source": [
        "C1"
      ]
    },
    {
      "cell_type": "code",
      "metadata": {
        "id": "6-ubqoTsgJPC"
      },
      "source": [
        "imgC1_01  = cv2.imread(C101)\n",
        "RGB_imgC1_01= cv2.cvtColor(imgC1_01, cv2.COLOR_BGR2RGB)"
      ],
      "execution_count": null,
      "outputs": []
    },
    {
      "cell_type": "code",
      "metadata": {
        "id": "t0KvXNPygJii"
      },
      "source": [
        "imgC1_02  = cv2.imread(C102)\n",
        "RGB_imgC1_02= cv2.cvtColor(imgC1_02, cv2.COLOR_BGR2RGB)"
      ],
      "execution_count": null,
      "outputs": []
    },
    {
      "cell_type": "code",
      "metadata": {
        "id": "PiE8ZiNOgXXs"
      },
      "source": [
        "imgC1_05  = cv2.imread(C105)\n",
        "RGB_imgC1_05= cv2.cvtColor(imgC1_05, cv2.COLOR_BGR2RGB)"
      ],
      "execution_count": null,
      "outputs": []
    },
    {
      "cell_type": "code",
      "metadata": {
        "id": "cqOor2j3gWvD"
      },
      "source": [
        "imgC1_09  = cv2.imread(C109)\n",
        "RGB_imgC1_09= cv2.cvtColor(imgC1_09, cv2.COLOR_BGR2RGB)"
      ],
      "execution_count": null,
      "outputs": []
    },
    {
      "cell_type": "markdown",
      "metadata": {
        "id": "yyI19BAbf_7S"
      },
      "source": [
        "C2"
      ]
    },
    {
      "cell_type": "code",
      "metadata": {
        "id": "TzTzP-M1gmXw"
      },
      "source": [
        "imgC2_01  = cv2.imread(C201)\n",
        "RGB_imgC2_01= cv2.cvtColor(imgC2_01, cv2.COLOR_BGR2RGB)"
      ],
      "execution_count": null,
      "outputs": []
    },
    {
      "cell_type": "code",
      "metadata": {
        "id": "QJfBlVmAgk3S"
      },
      "source": [
        "imgC2_03  = cv2.imread(C203)\n",
        "RGB_imgC2_03= cv2.cvtColor(imgC2_03, cv2.COLOR_BGR2RGB)"
      ],
      "execution_count": null,
      "outputs": []
    },
    {
      "cell_type": "code",
      "metadata": {
        "id": "DVeUrQ0agmDP"
      },
      "source": [
        "imgC2_05  = cv2.imread(C205)\n",
        "RGB_imgC2_05= cv2.cvtColor(imgC2_05, cv2.COLOR_BGR2RGB)"
      ],
      "execution_count": null,
      "outputs": []
    },
    {
      "cell_type": "code",
      "metadata": {
        "id": "XtghPEO2gmp8"
      },
      "source": [
        "imgC2_07  = cv2.imread(C207)\n",
        "RGB_imgC2_07= cv2.cvtColor(imgC2_07, cv2.COLOR_BGR2RGB)"
      ],
      "execution_count": null,
      "outputs": []
    },
    {
      "cell_type": "markdown",
      "metadata": {
        "id": "vfSCdks7gBFH"
      },
      "source": [
        "C3"
      ]
    },
    {
      "cell_type": "code",
      "metadata": {
        "id": "2FGbyNm0hhmR"
      },
      "source": [
        "imgC3_02  = cv2.imread(C302)\n",
        "RGB_imgC3_02= cv2.cvtColor(imgC3_02, cv2.COLOR_BGR2RGB)"
      ],
      "execution_count": null,
      "outputs": []
    },
    {
      "cell_type": "code",
      "metadata": {
        "id": "O60-VGAmhh97"
      },
      "source": [
        "imgC3_03  = cv2.imread(C303)\n",
        "RGB_imgC3_03= cv2.cvtColor(imgC3_03, cv2.COLOR_BGR2RGB)"
      ],
      "execution_count": null,
      "outputs": []
    },
    {
      "cell_type": "code",
      "metadata": {
        "id": "Ic1so8G1hsTe"
      },
      "source": [
        "imgC3_06  = cv2.imread(C306)\n",
        "RGB_imgC3_06= cv2.cvtColor(imgC3_06, cv2.COLOR_BGR2RGB)"
      ],
      "execution_count": null,
      "outputs": []
    },
    {
      "cell_type": "code",
      "metadata": {
        "id": "YtNRCI-8hsj-"
      },
      "source": [
        "imgC3_09  = cv2.imread(C309)\n",
        "RGB_imgC3_09= cv2.cvtColor(imgC3_09, cv2.COLOR_BGR2RGB)"
      ],
      "execution_count": null,
      "outputs": []
    },
    {
      "cell_type": "markdown",
      "metadata": {
        "id": "VZuqvN-UgB1x"
      },
      "source": [
        "C4"
      ]
    },
    {
      "cell_type": "code",
      "metadata": {
        "id": "HWO6qM5kirOE"
      },
      "source": [
        "imgC4_01  = cv2.imread(C401)\n",
        "RGB_imgC4_01= cv2.cvtColor(imgC4_01, cv2.COLOR_BGR2RGB)"
      ],
      "execution_count": null,
      "outputs": []
    },
    {
      "cell_type": "code",
      "metadata": {
        "id": "j4Pja6LViriS"
      },
      "source": [
        "imgC4_04  = cv2.imread(C404)\n",
        "RGB_imgC4_04= cv2.cvtColor(imgC4_04, cv2.COLOR_BGR2RGB)"
      ],
      "execution_count": null,
      "outputs": []
    },
    {
      "cell_type": "code",
      "metadata": {
        "id": "X3o2PV6virzG"
      },
      "source": [
        "imgC4_05  = cv2.imread(C405)\n",
        "RGB_imgC4_05= cv2.cvtColor(imgC4_05, cv2.COLOR_BGR2RGB)"
      ],
      "execution_count": null,
      "outputs": []
    },
    {
      "cell_type": "code",
      "metadata": {
        "id": "kPoMLVCdisHc"
      },
      "source": [
        "imgC4_06  = cv2.imread(C406)\n",
        "RGB_imgC4_06= cv2.cvtColor(imgC4_06, cv2.COLOR_BGR2RGB)"
      ],
      "execution_count": null,
      "outputs": []
    },
    {
      "cell_type": "markdown",
      "metadata": {
        "id": "T9ARw2lYgCjL"
      },
      "source": [
        "D2"
      ]
    },
    {
      "cell_type": "code",
      "metadata": {
        "id": "DFmPhDzCjGWv"
      },
      "source": [
        "imgD2_01  = cv2.imread(D201)\n",
        "RGB_imgD2_01= cv2.cvtColor(imgD2_01, cv2.COLOR_BGR2RGB)"
      ],
      "execution_count": null,
      "outputs": []
    },
    {
      "cell_type": "code",
      "metadata": {
        "id": "qujyaFlOjGni"
      },
      "source": [
        "imgD2_03  = cv2.imread(D203)\n",
        "RGB_imgD2_03= cv2.cvtColor(imgD2_03, cv2.COLOR_BGR2RGB)"
      ],
      "execution_count": null,
      "outputs": []
    },
    {
      "cell_type": "code",
      "metadata": {
        "id": "zlPefHERjU-c"
      },
      "source": [
        "imgD2_06  = cv2.imread(D206)\n",
        "RGB_imgD2_06= cv2.cvtColor(imgD2_06, cv2.COLOR_BGR2RGB)"
      ],
      "execution_count": null,
      "outputs": []
    },
    {
      "cell_type": "code",
      "metadata": {
        "id": "b3i_Rv95jVMQ"
      },
      "source": [
        "imgD2_07  = cv2.imread(D207)\n",
        "RGB_imgD2_07= cv2.cvtColor(imgD2_07, cv2.COLOR_BGR2RGB)"
      ],
      "execution_count": null,
      "outputs": []
    },
    {
      "cell_type": "markdown",
      "metadata": {
        "id": "bCM2rsMZgDZt"
      },
      "source": [
        "D3"
      ]
    },
    {
      "cell_type": "code",
      "metadata": {
        "id": "543Pftj0jkoi"
      },
      "source": [
        "imgD3_03  = cv2.imread(D303)\n",
        "RGB_imgD3_03= cv2.cvtColor(imgD3_03, cv2.COLOR_BGR2RGB)"
      ],
      "execution_count": null,
      "outputs": []
    },
    {
      "cell_type": "code",
      "metadata": {
        "id": "se8oOd8IjrIX"
      },
      "source": [
        "imgD3_04  = cv2.imread(D304)\n",
        "RGB_imgD3_04= cv2.cvtColor(imgD3_04, cv2.COLOR_BGR2RGB)"
      ],
      "execution_count": null,
      "outputs": []
    },
    {
      "cell_type": "code",
      "metadata": {
        "id": "n569gXVKjymi"
      },
      "source": [
        "imgD3_07  = cv2.imread(D307)\n",
        "RGB_imgD3_07= cv2.cvtColor(imgD3_07, cv2.COLOR_BGR2RGB)"
      ],
      "execution_count": null,
      "outputs": []
    },
    {
      "cell_type": "code",
      "metadata": {
        "id": "zAx3JzOnj4NU"
      },
      "source": [
        "imgD3_08  = cv2.imread(D308)\n",
        "RGB_imgD3_08= cv2.cvtColor(imgD3_08, cv2.COLOR_BGR2RGB)"
      ],
      "execution_count": null,
      "outputs": []
    },
    {
      "cell_type": "markdown",
      "metadata": {
        "id": "mvMVz8Y9gETm"
      },
      "source": [
        "D4"
      ]
    },
    {
      "cell_type": "code",
      "metadata": {
        "id": "ES2mOiDQj-uU"
      },
      "source": [
        "imgD4_02  = cv2.imread(D402)\n",
        "RGB_imgD4_02= cv2.cvtColor(imgD4_02, cv2.COLOR_BGR2RGB)"
      ],
      "execution_count": null,
      "outputs": []
    },
    {
      "cell_type": "code",
      "metadata": {
        "id": "68q0SjtIj_Dy"
      },
      "source": [
        "imgD4_04  = cv2.imread(D404)\n",
        "RGB_imgD4_04= cv2.cvtColor(imgD4_04, cv2.COLOR_BGR2RGB)"
      ],
      "execution_count": null,
      "outputs": []
    },
    {
      "cell_type": "code",
      "metadata": {
        "id": "qQslb1kSj_Ph"
      },
      "source": [
        "imgD4_07  = cv2.imread(D407)\n",
        "RGB_imgD4_07= cv2.cvtColor(imgD4_07, cv2.COLOR_BGR2RGB)"
      ],
      "execution_count": null,
      "outputs": []
    },
    {
      "cell_type": "code",
      "metadata": {
        "id": "8F52wj5Qj_ek"
      },
      "source": [
        "imgD4_10  = cv2.imread(D410)\n",
        "RGB_imgD4_10 = cv2.cvtColor(imgD4_10, cv2.COLOR_BGR2RGB)"
      ],
      "execution_count": null,
      "outputs": []
    },
    {
      "cell_type": "markdown",
      "metadata": {
        "id": "UxAMEyxvmOsw"
      },
      "source": [
        "#4. RGB to LAB"
      ]
    },
    {
      "cell_type": "markdown",
      "metadata": {
        "id": "yBL9utUemWyZ"
      },
      "source": [
        "A1"
      ]
    },
    {
      "cell_type": "code",
      "metadata": {
        "colab": {
          "base_uri": "https://localhost:8080/"
        },
        "id": "UiTCG8xFntwB",
        "outputId": "331262e2-0317-42a0-b00c-9f71ae3b14e3"
      },
      "source": [
        "LAB_imgA1_01= cv2.cvtColor(RGB_imgA1_01, cv2.COLOR_RGB2LAB)\n",
        "plt.imshow(LAB_imgA1_01)"
      ],
      "execution_count": null,
      "outputs": [
        {
          "output_type": "execute_result",
          "data": {
            "text/plain": [
              "<matplotlib.image.AxesImage at 0x7fc14f1ece10>"
            ]
          },
          "metadata": {},
          "execution_count": 144
        },
        {
          "output_type": "display_data",
          "data": {
            "image/png": "[encoded data removed]",
            "text/plain": [
              "<Figure size 432x288 with 1 Axes>"
            ]
          },
          "metadata": {
            "needs_background": "light"
          }
        }
      ]
    },
    {
      "cell_type": "code",
      "metadata": {
        "id": "ktf3nM4antol"
      },
      "source": [
        "LAB_imgA1_04= cv2.cvtColor(RGB_imgA1_04, cv2.COLOR_RGB2LAB)"
      ],
      "execution_count": null,
      "outputs": []
    },
    {
      "cell_type": "code",
      "metadata": {
        "id": "u-JFybcBntdc"
      },
      "source": [
        "LAB_imgA1_07= cv2.cvtColor(RGB_imgA1_07, cv2.COLOR_RGB2LAB)"
      ],
      "execution_count": null,
      "outputs": []
    },
    {
      "cell_type": "code",
      "metadata": {
        "id": "EJ9wLDXenwG4"
      },
      "source": [
        "LAB_imgA1_09= cv2.cvtColor(RGB_imgA1_09, cv2.COLOR_RGB2LAB)"
      ],
      "execution_count": null,
      "outputs": []
    },
    {
      "cell_type": "markdown",
      "metadata": {
        "id": "8rtewXNCpnBx"
      },
      "source": [
        "A2"
      ]
    },
    {
      "cell_type": "code",
      "metadata": {
        "colab": {
          "base_uri": "https://localhost:8080/"
        },
        "id": "xsTPAG-gpqXo",
        "outputId": "efb0d14c-e2a2-4cce-b333-aa3356b64fe3"
      },
      "source": [
        "LAB_imgA2_01= cv2.cvtColor(RGB_imgA2_01, cv2.COLOR_RGB2LAB)\n",
        "plt.imshow(LAB_imgA2_01)"
      ],
      "execution_count": null,
      "outputs": [
        {
          "output_type": "execute_result",
          "data": {
            "text/plain": [
              "<matplotlib.image.AxesImage at 0x7fc15a17b2d0>"
            ]
          },
          "metadata": {},
          "execution_count": 148
        },
        {
          "output_type": "display_data",
          "data": {
            "image/png": "[encoded data removed]",
            "text/plain": [
              "<Figure size 432x288 with 1 Axes>"
            ]
          },
          "metadata": {
            "needs_background": "light"
          }
        }
      ]
    },
    {
      "cell_type": "code",
      "metadata": {
        "id": "Ssic_jpRqhqK"
      },
      "source": [
        "LAB_imgA2_03= cv2.cvtColor(RGB_imgA2_03, cv2.COLOR_RGB2LAB)"
      ],
      "execution_count": null,
      "outputs": []
    },
    {
      "cell_type": "code",
      "metadata": {
        "id": "nYc5fnY9qpBk"
      },
      "source": [
        "LAB_imgA2_04= cv2.cvtColor(RGB_imgA2_04, cv2.COLOR_RGB2LAB)"
      ],
      "execution_count": null,
      "outputs": []
    },
    {
      "cell_type": "code",
      "metadata": {
        "id": "hzoiKbbRqowx"
      },
      "source": [
        "LAB_imgA2_06= cv2.cvtColor(RGB_imgA2_06, cv2.COLOR_RGB2LAB)"
      ],
      "execution_count": null,
      "outputs": []
    },
    {
      "cell_type": "markdown",
      "metadata": {
        "id": "aI5xdTY4pn8b"
      },
      "source": [
        "A3"
      ]
    },
    {
      "cell_type": "code",
      "metadata": {
        "id": "pCou6gLsrIwK"
      },
      "source": [
        "LAB_imgA3_02= cv2.cvtColor(RGB_imgA3_02, cv2.COLOR_RGB2LAB)"
      ],
      "execution_count": null,
      "outputs": []
    },
    {
      "cell_type": "code",
      "metadata": {
        "id": "kVCfCF5OrIf4"
      },
      "source": [
        "LAB_imgA3_03= cv2.cvtColor(RGB_imgA3_03, cv2.COLOR_RGB2LAB)"
      ],
      "execution_count": null,
      "outputs": []
    },
    {
      "cell_type": "code",
      "metadata": {
        "id": "mG7BAXngrITB"
      },
      "source": [
        "LAB_imgA3_04= cv2.cvtColor(RGB_imgA3_04, cv2.COLOR_RGB2LAB)"
      ],
      "execution_count": null,
      "outputs": []
    },
    {
      "cell_type": "code",
      "metadata": {
        "id": "qix2SAstrH9-"
      },
      "source": [
        "LAB_imgA3_05= cv2.cvtColor(RGB_imgA3_05, cv2.COLOR_RGB2LAB)"
      ],
      "execution_count": null,
      "outputs": []
    },
    {
      "cell_type": "markdown",
      "metadata": {
        "id": "cGC5Ray3poxR"
      },
      "source": [
        "A3.5"
      ]
    },
    {
      "cell_type": "code",
      "metadata": {
        "id": "6AkrYYCurpZL"
      },
      "source": [
        "LAB_imgA3_502= cv2.cvtColor(RGB_imgA3_502, cv2.COLOR_RGB2LAB)"
      ],
      "execution_count": null,
      "outputs": []
    },
    {
      "cell_type": "code",
      "metadata": {
        "id": "JOQI8idOrpRN"
      },
      "source": [
        "LAB_imgA3_504= cv2.cvtColor(RGB_imgA3_504, cv2.COLOR_RGB2LAB)"
      ],
      "execution_count": null,
      "outputs": []
    },
    {
      "cell_type": "code",
      "metadata": {
        "id": "zkTCbiLJrpIU"
      },
      "source": [
        "LAB_imgA3_506= cv2.cvtColor(RGB_imgA3_506, cv2.COLOR_RGB2LAB)"
      ],
      "execution_count": null,
      "outputs": []
    },
    {
      "cell_type": "code",
      "metadata": {
        "id": "5LKXlyPProsL"
      },
      "source": [
        "LAB_imgA3_507= cv2.cvtColor(RGB_imgA3_507, cv2.COLOR_RGB2LAB)"
      ],
      "execution_count": null,
      "outputs": []
    },
    {
      "cell_type": "markdown",
      "metadata": {
        "id": "DkthN7EuppmB"
      },
      "source": [
        "A4"
      ]
    },
    {
      "cell_type": "code",
      "metadata": {
        "id": "bNbHDb-Jr15k"
      },
      "source": [
        "LAB_imgA4_01= cv2.cvtColor(RGB_imgA4_01, cv2.COLOR_RGB2LAB)"
      ],
      "execution_count": null,
      "outputs": []
    },
    {
      "cell_type": "code",
      "metadata": {
        "id": "1ftcCZIUr2Le"
      },
      "source": [
        "LAB_imgA4_03= cv2.cvtColor(RGB_imgA4_03, cv2.COLOR_RGB2LAB)"
      ],
      "execution_count": null,
      "outputs": []
    },
    {
      "cell_type": "code",
      "metadata": {
        "id": "woxjbwstr2g6"
      },
      "source": [
        "LAB_imgA4_04= cv2.cvtColor(RGB_imgA4_04, cv2.COLOR_RGB2LAB)"
      ],
      "execution_count": null,
      "outputs": []
    },
    {
      "cell_type": "code",
      "metadata": {
        "id": "qep6oqGLr2xv"
      },
      "source": [
        "LAB_imgA4_06= cv2.cvtColor(RGB_imgA4_06, cv2.COLOR_RGB2LAB)"
      ],
      "execution_count": null,
      "outputs": []
    },
    {
      "cell_type": "markdown",
      "metadata": {
        "id": "rrX7vaLpsTz-"
      },
      "source": [
        "B1"
      ]
    },
    {
      "cell_type": "code",
      "metadata": {
        "id": "DNRoFy1wsVF_"
      },
      "source": [
        "LAB_imgB1_01= cv2.cvtColor(RGB_imgB1_01, cv2.COLOR_RGB2LAB)"
      ],
      "execution_count": null,
      "outputs": []
    },
    {
      "cell_type": "code",
      "metadata": {
        "id": "zp3TpwKRsWvx"
      },
      "source": [
        "LAB_imgB1_02= cv2.cvtColor(RGB_imgB1_02, cv2.COLOR_RGB2LAB)"
      ],
      "execution_count": null,
      "outputs": []
    },
    {
      "cell_type": "code",
      "metadata": {
        "id": "xrzFoPNVsXI9"
      },
      "source": [
        "LAB_imgB1_07= cv2.cvtColor(RGB_imgB1_07, cv2.COLOR_RGB2LAB)"
      ],
      "execution_count": null,
      "outputs": []
    },
    {
      "cell_type": "code",
      "metadata": {
        "id": "_qS1zGa4sXZU"
      },
      "source": [
        "LAB_imgB1_09= cv2.cvtColor(RGB_imgB1_09, cv2.COLOR_RGB2LAB)"
      ],
      "execution_count": null,
      "outputs": []
    },
    {
      "cell_type": "markdown",
      "metadata": {
        "id": "dzo4UhMAsX3I"
      },
      "source": [
        "B2"
      ]
    },
    {
      "cell_type": "code",
      "metadata": {
        "id": "a9bFqn5FsY44"
      },
      "source": [
        "LAB_imgB2_05= cv2.cvtColor(RGB_imgB2_05, cv2.COLOR_RGB2LAB)"
      ],
      "execution_count": null,
      "outputs": []
    },
    {
      "cell_type": "code",
      "metadata": {
        "id": "xrHo9VfLsZXM"
      },
      "source": [
        "LAB_imgB2_06= cv2.cvtColor(RGB_imgB2_06, cv2.COLOR_RGB2LAB)"
      ],
      "execution_count": null,
      "outputs": []
    },
    {
      "cell_type": "code",
      "metadata": {
        "id": "oPLazK61sZ1W"
      },
      "source": [
        "LAB_imgB2_07= cv2.cvtColor(RGB_imgB2_07, cv2.COLOR_RGB2LAB)"
      ],
      "execution_count": null,
      "outputs": []
    },
    {
      "cell_type": "code",
      "metadata": {
        "id": "wAy1CJY8saG6"
      },
      "source": [
        "LAB_imgB2_08= cv2.cvtColor(RGB_imgB2_08, cv2.COLOR_RGB2LAB)"
      ],
      "execution_count": null,
      "outputs": []
    },
    {
      "cell_type": "markdown",
      "metadata": {
        "id": "TnccqxHJtNzw"
      },
      "source": [
        "B3"
      ]
    },
    {
      "cell_type": "code",
      "metadata": {
        "id": "6UlUYvwltP4E"
      },
      "source": [
        "LAB_imgB3_01= cv2.cvtColor(RGB_imgB3_01, cv2.COLOR_RGB2LAB)"
      ],
      "execution_count": null,
      "outputs": []
    },
    {
      "cell_type": "code",
      "metadata": {
        "id": "Eq5sKtuNtPw7"
      },
      "source": [
        "LAB_imgB3_03= cv2.cvtColor(RGB_imgB3_03, cv2.COLOR_RGB2LAB)"
      ],
      "execution_count": null,
      "outputs": []
    },
    {
      "cell_type": "code",
      "metadata": {
        "id": "ut-9sRhptPol"
      },
      "source": [
        "LAB_imgB3_06= cv2.cvtColor(RGB_imgB3_06, cv2.COLOR_RGB2LAB)"
      ],
      "execution_count": null,
      "outputs": []
    },
    {
      "cell_type": "code",
      "metadata": {
        "id": "jPF5GyyetPU_"
      },
      "source": [
        "LAB_imgB3_10= cv2.cvtColor(RGB_imgB3_10, cv2.COLOR_RGB2LAB)"
      ],
      "execution_count": null,
      "outputs": []
    },
    {
      "cell_type": "markdown",
      "metadata": {
        "id": "xZINrtsKtOnt"
      },
      "source": [
        "B4"
      ]
    },
    {
      "cell_type": "code",
      "metadata": {
        "id": "SeSRHJjYtpGP"
      },
      "source": [
        "LAB_imgB4_01= cv2.cvtColor(RGB_imgB4_01, cv2.COLOR_RGB2LAB)"
      ],
      "execution_count": null,
      "outputs": []
    },
    {
      "cell_type": "code",
      "metadata": {
        "id": "R4wpA7bLto3a"
      },
      "source": [
        "LAB_imgB4_02= cv2.cvtColor(RGB_imgB4_02, cv2.COLOR_RGB2LAB)"
      ],
      "execution_count": null,
      "outputs": []
    },
    {
      "cell_type": "code",
      "metadata": {
        "id": "vD9WSa1VtovA"
      },
      "source": [
        "LAB_imgB4_08= cv2.cvtColor(RGB_imgB4_08, cv2.COLOR_RGB2LAB)"
      ],
      "execution_count": null,
      "outputs": []
    },
    {
      "cell_type": "code",
      "metadata": {
        "id": "o40LIXDBtonM"
      },
      "source": [
        "LAB_imgB4_10= cv2.cvtColor(RGB_imgB4_10, cv2.COLOR_RGB2LAB)"
      ],
      "execution_count": null,
      "outputs": []
    },
    {
      "cell_type": "markdown",
      "metadata": {
        "id": "yLHsd5D4t50J"
      },
      "source": [
        "C1"
      ]
    },
    {
      "cell_type": "code",
      "metadata": {
        "id": "2p-LPjykt_yW"
      },
      "source": [
        "LAB_imgC1_01= cv2.cvtColor(RGB_imgC1_01, cv2.COLOR_RGB2LAB)"
      ],
      "execution_count": null,
      "outputs": []
    },
    {
      "cell_type": "code",
      "metadata": {
        "id": "rdHlj07At_pP"
      },
      "source": [
        "LAB_imgC1_02= cv2.cvtColor(RGB_imgC1_02, cv2.COLOR_RGB2LAB)"
      ],
      "execution_count": null,
      "outputs": []
    },
    {
      "cell_type": "code",
      "metadata": {
        "id": "fAaBZ-xHt_iB"
      },
      "source": [
        "LAB_imgC1_05= cv2.cvtColor(RGB_imgC1_05, cv2.COLOR_RGB2LAB)"
      ],
      "execution_count": null,
      "outputs": []
    },
    {
      "cell_type": "code",
      "metadata": {
        "id": "_HTZkwblt_Z0"
      },
      "source": [
        "LAB_imgC1_09= cv2.cvtColor(RGB_imgC1_09, cv2.COLOR_RGB2LAB)"
      ],
      "execution_count": null,
      "outputs": []
    },
    {
      "cell_type": "markdown",
      "metadata": {
        "id": "JeHYgzj7t7UT"
      },
      "source": [
        "C2"
      ]
    },
    {
      "cell_type": "code",
      "metadata": {
        "id": "EAqFpnsvuTNJ"
      },
      "source": [
        "LAB_imgC2_01= cv2.cvtColor(RGB_imgC2_01, cv2.COLOR_RGB2LAB)"
      ],
      "execution_count": null,
      "outputs": []
    },
    {
      "cell_type": "code",
      "metadata": {
        "id": "wwTtWI5xuTGB"
      },
      "source": [
        "LAB_imgC2_03= cv2.cvtColor(RGB_imgC2_03, cv2.COLOR_RGB2LAB)"
      ],
      "execution_count": null,
      "outputs": []
    },
    {
      "cell_type": "code",
      "metadata": {
        "id": "gmglr0e-uS-7"
      },
      "source": [
        "LAB_imgC2_05= cv2.cvtColor(RGB_imgC2_05, cv2.COLOR_RGB2LAB)"
      ],
      "execution_count": null,
      "outputs": []
    },
    {
      "cell_type": "code",
      "metadata": {
        "id": "XmcUNeqVuS4f"
      },
      "source": [
        "LAB_imgC2_07= cv2.cvtColor(RGB_imgC2_07, cv2.COLOR_RGB2LAB)"
      ],
      "execution_count": null,
      "outputs": []
    },
    {
      "cell_type": "markdown",
      "metadata": {
        "id": "TWvT9dUft7_0"
      },
      "source": [
        "C3"
      ]
    },
    {
      "cell_type": "code",
      "metadata": {
        "id": "xzI3OKXMuioR"
      },
      "source": [
        "LAB_imgC3_02= cv2.cvtColor(RGB_imgC3_02, cv2.COLOR_RGB2LAB)"
      ],
      "execution_count": null,
      "outputs": []
    },
    {
      "cell_type": "code",
      "metadata": {
        "id": "G_qoc3spuigB"
      },
      "source": [
        "LAB_imgC3_03= cv2.cvtColor(RGB_imgC3_03, cv2.COLOR_RGB2LAB)"
      ],
      "execution_count": null,
      "outputs": []
    },
    {
      "cell_type": "code",
      "metadata": {
        "id": "BuyacIypuiZg"
      },
      "source": [
        "LAB_imgC3_06= cv2.cvtColor(RGB_imgC3_06, cv2.COLOR_RGB2LAB)"
      ],
      "execution_count": null,
      "outputs": []
    },
    {
      "cell_type": "code",
      "metadata": {
        "id": "--fV2onBuiRu"
      },
      "source": [
        "LAB_imgC3_09= cv2.cvtColor(RGB_imgC3_09, cv2.COLOR_RGB2LAB)"
      ],
      "execution_count": null,
      "outputs": []
    },
    {
      "cell_type": "markdown",
      "metadata": {
        "id": "rfRgDMm7t8qf"
      },
      "source": [
        "C4"
      ]
    },
    {
      "cell_type": "code",
      "metadata": {
        "id": "t15dvQqsuuZo"
      },
      "source": [
        "LAB_imgC4_01= cv2.cvtColor(RGB_imgC4_01, cv2.COLOR_RGB2LAB)"
      ],
      "execution_count": null,
      "outputs": []
    },
    {
      "cell_type": "code",
      "metadata": {
        "id": "YkkHIM4-uuvj"
      },
      "source": [
        "LAB_imgC4_04= cv2.cvtColor(RGB_imgC4_04, cv2.COLOR_RGB2LAB)"
      ],
      "execution_count": null,
      "outputs": []
    },
    {
      "cell_type": "code",
      "metadata": {
        "id": "3AyL5cwwuuod"
      },
      "source": [
        "LAB_imgC4_05= cv2.cvtColor(RGB_imgC4_05, cv2.COLOR_RGB2LAB)"
      ],
      "execution_count": null,
      "outputs": []
    },
    {
      "cell_type": "code",
      "metadata": {
        "id": "RGQ8Mi_3uuhp"
      },
      "source": [
        "LAB_imgC4_06= cv2.cvtColor(RGB_imgC4_06, cv2.COLOR_RGB2LAB)"
      ],
      "execution_count": null,
      "outputs": []
    },
    {
      "cell_type": "markdown",
      "metadata": {
        "id": "DID5W6jot9pI"
      },
      "source": [
        "D2"
      ]
    },
    {
      "cell_type": "code",
      "metadata": {
        "id": "nlOKN8S1uv5p"
      },
      "source": [
        "LAB_imgD2_01= cv2.cvtColor(RGB_imgD2_01, cv2.COLOR_RGB2LAB)"
      ],
      "execution_count": null,
      "outputs": []
    },
    {
      "cell_type": "code",
      "metadata": {
        "id": "xapLpqazuvbP"
      },
      "source": [
        "LAB_imgD2_03= cv2.cvtColor(RGB_imgD2_03, cv2.COLOR_RGB2LAB)"
      ],
      "execution_count": null,
      "outputs": []
    },
    {
      "cell_type": "code",
      "metadata": {
        "id": "jRXzn-LouvVV"
      },
      "source": [
        "LAB_imgD2_06= cv2.cvtColor(RGB_imgD2_06, cv2.COLOR_RGB2LAB)"
      ],
      "execution_count": null,
      "outputs": []
    },
    {
      "cell_type": "code",
      "metadata": {
        "id": "TPB_PHRbuvOn"
      },
      "source": [
        "LAB_imgD2_07= cv2.cvtColor(RGB_imgD2_07, cv2.COLOR_RGB2LAB)"
      ],
      "execution_count": null,
      "outputs": []
    },
    {
      "cell_type": "markdown",
      "metadata": {
        "id": "RdzTIOPUt-U9"
      },
      "source": [
        "D3"
      ]
    },
    {
      "cell_type": "code",
      "metadata": {
        "id": "vdzrjvXjuxGq"
      },
      "source": [
        "LAB_imgD3_03= cv2.cvtColor(RGB_imgD3_03, cv2.COLOR_RGB2LAB)"
      ],
      "execution_count": null,
      "outputs": []
    },
    {
      "cell_type": "code",
      "metadata": {
        "id": "SHeWKMvduw_L"
      },
      "source": [
        "LAB_imgD3_04= cv2.cvtColor(RGB_imgD3_04, cv2.COLOR_RGB2LAB)"
      ],
      "execution_count": null,
      "outputs": []
    },
    {
      "cell_type": "code",
      "metadata": {
        "id": "jWpHp4wFuw40"
      },
      "source": [
        "LAB_imgD3_07= cv2.cvtColor(RGB_imgD3_07, cv2.COLOR_RGB2LAB)"
      ],
      "execution_count": null,
      "outputs": []
    },
    {
      "cell_type": "code",
      "metadata": {
        "id": "r7HUVynyuwui"
      },
      "source": [
        "LAB_imgD3_08= cv2.cvtColor(RGB_imgD3_08, cv2.COLOR_RGB2LAB)"
      ],
      "execution_count": null,
      "outputs": []
    },
    {
      "cell_type": "markdown",
      "metadata": {
        "id": "JcqL8Do5nwjA"
      },
      "source": [
        "D4"
      ]
    },
    {
      "cell_type": "code",
      "metadata": {
        "id": "Ci4XGpanvFmg"
      },
      "source": [
        "LAB_imgD4_02= cv2.cvtColor(RGB_imgD4_02, cv2.COLOR_RGB2LAB)"
      ],
      "execution_count": null,
      "outputs": []
    },
    {
      "cell_type": "code",
      "metadata": {
        "id": "RPgqKuRSvFcZ"
      },
      "source": [
        "LAB_imgD4_04= cv2.cvtColor(RGB_imgD4_04, cv2.COLOR_RGB2LAB)"
      ],
      "execution_count": null,
      "outputs": []
    },
    {
      "cell_type": "code",
      "metadata": {
        "id": "7as7P-b9vFVA"
      },
      "source": [
        "LAB_imgD4_07= cv2.cvtColor(RGB_imgD4_07, cv2.COLOR_RGB2LAB)"
      ],
      "execution_count": null,
      "outputs": []
    },
    {
      "cell_type": "code",
      "metadata": {
        "id": "QEwY2RNVmRfN"
      },
      "source": [
        "LAB_imgD4_10= cv2.cvtColor(RGB_imgD4_10, cv2.COLOR_RGB2LAB)"
      ],
      "execution_count": null,
      "outputs": []
    },
    {
      "cell_type": "markdown",
      "metadata": {
        "id": "JMrxyeYnwOjD"
      },
      "source": [
        "#5. ดึงสี"
      ]
    },
    {
      "cell_type": "markdown",
      "metadata": {
        "id": "qw2Btv3twaER"
      },
      "source": [
        "A1"
      ]
    },
    {
      "cell_type": "code",
      "metadata": {
        "id": "jwmj6XavwSCz"
      },
      "source": [
        "for i in range(LAB_imgA1_01.shape[0]): #ให้ i รันตาม row หรือ shape[0] คือแถว มีทั้งหมด 4032 แถว ของภาพที่ปรับขนาดมาแล้ว\n",
        "     for j in range(LAB_imgA1_01.shape[1]): #ให้ j รันตาม colum มีทั้งหมด 3024 colum เช่น แถวที่ 1 เข้ามาให้รันครบ 3024colum\n",
        "                if 1769<i<1881 and 2019<j<2131 :#ถ้าค่า i ที่เข้ามาอยู่ระหว่าง 1849 - 2101   ค่า j  ที่เข้ามาอยู่ระหว่าง 1799-2001\n",
        "                   (LAB_imgA1_01[i][j])#ถ้าค่าอยู่ใน ij  จะให้แสดงค่าที่อยู่ตำแหน่งนั้นๆ"
      ],
      "execution_count": null,
      "outputs": []
    },
    {
      "cell_type": "code",
      "metadata": {
        "id": "xZ-Lxu9-xb0e"
      },
      "source": [
        "for i in range(LAB_imgA1_04.shape[0]): \n",
        "     for j in range(LAB_imgA1_04.shape[1]): \n",
        "                if 1769<i<1881 and 2019<j<2131 :\n",
        "                 (LAB_imgA1_04[i][j])"
      ],
      "execution_count": null,
      "outputs": []
    },
    {
      "cell_type": "code",
      "metadata": {
        "id": "10vZXOYGx8Zn"
      },
      "source": [
        "for i in range(LAB_imgA1_07.shape[0]):\n",
        "     for j in range(LAB_imgA1_07.shape[1]): \n",
        "                if 1769<i<1881 and 2019<j<2131 :\n",
        "                  (LAB_imgA1_04[i][j])"
      ],
      "execution_count": null,
      "outputs": []
    },
    {
      "cell_type": "code",
      "metadata": {
        "id": "aiBTb_2_x82I"
      },
      "source": [
        "for i in range(LAB_imgA1_09.shape[0]):\n",
        "     for j in range(LAB_imgA1_09.shape[1]): \n",
        "                if 1769<i<1881 and 2019<j<2131 :\n",
        "                  (LAB_imgA1_09[i][j])"
      ],
      "execution_count": null,
      "outputs": []
    },
    {
      "cell_type": "markdown",
      "metadata": {
        "id": "jTiRr9XUy_gP"
      },
      "source": [
        "A2"
      ]
    },
    {
      "cell_type": "code",
      "metadata": {
        "id": "eobeeRWAzHNs"
      },
      "source": [
        "for i in range(LAB_imgA2_01.shape[0]): \n",
        "     for j in range(LAB_imgA2_01.shape[1]): \n",
        "                if 1769<i<1881 and 2019<j<2131 :\n",
        "                 (LAB_imgA2_01[i][j])"
      ],
      "execution_count": null,
      "outputs": []
    },
    {
      "cell_type": "code",
      "metadata": {
        "id": "DyGuQiP2zGpX"
      },
      "source": [
        "for i in range(LAB_imgA2_03.shape[0]): \n",
        "     for j in range(LAB_imgA2_03.shape[1]): \n",
        "                if 1769<i<1881 and 2019<j<2131 :\n",
        "                 (LAB_imgA2_03[i][j])"
      ],
      "execution_count": null,
      "outputs": []
    },
    {
      "cell_type": "code",
      "metadata": {
        "id": "UMKaPJY5zHFN"
      },
      "source": [
        "for i in range(LAB_imgA2_06.shape[0]): \n",
        "     for j in range(LAB_imgA2_06.shape[1]): \n",
        "                if 1769<i<1881 and 2019<j<2131 :\n",
        "                 (LAB_imgA2_06[i][j])"
      ],
      "execution_count": null,
      "outputs": []
    },
    {
      "cell_type": "code",
      "metadata": {
        "id": "qqFJ5RUmzG7f"
      },
      "source": [
        "for i in range(LAB_imgA2_06.shape[0]): \n",
        "     for j in range(LAB_imgA2_06.shape[1]): \n",
        "                if 1769<i<1881 and 2019<j<2131 :\n",
        "                 (LAB_imgA2_06[i][j])"
      ],
      "execution_count": null,
      "outputs": []
    },
    {
      "cell_type": "markdown",
      "metadata": {
        "id": "seWEFP5KzdNo"
      },
      "source": [
        "A3 A302 A303 A304 A305"
      ]
    },
    {
      "cell_type": "code",
      "metadata": {
        "id": "HdhQwqRWz3A-"
      },
      "source": [
        "for i in range(LAB_imgA3_02.shape[0]): \n",
        "     for j in range(LAB_imgA3_02.shape[1]): \n",
        "                if 1769<i<1881 and 2019<j<2131 :\n",
        "                 (LAB_imgA3_02[i][j])"
      ],
      "execution_count": null,
      "outputs": []
    },
    {
      "cell_type": "code",
      "metadata": {
        "id": "SajdmMwqz24D"
      },
      "source": [
        "for i in range(LAB_imgA3_03.shape[0]): \n",
        "     for j in range(LAB_imgA3_03.shape[1]): \n",
        "                if 1769<i<1881 and 2019<j<2131 :\n",
        "                 (LAB_imgA3_03[i][j])"
      ],
      "execution_count": null,
      "outputs": []
    },
    {
      "cell_type": "code",
      "metadata": {
        "id": "schK9I44z2up"
      },
      "source": [
        "for i in range(LAB_imgA3_04.shape[0]): \n",
        "     for j in range(LAB_imgA3_04.shape[1]): \n",
        "                if 1769<i<1881 and 2019<j<2131 :\n",
        "                 (LAB_imgA3_04[i][j])"
      ],
      "execution_count": null,
      "outputs": []
    },
    {
      "cell_type": "code",
      "metadata": {
        "id": "dElzA6B1z2hh"
      },
      "source": [
        "for i in range(LAB_imgA3_05.shape[0]): \n",
        "     for j in range(LAB_imgA3_05.shape[1]): \n",
        "                if 1769<i<1881 and 2019<j<2131 :\n",
        "                 (LAB_imgA3_05[i][j])"
      ],
      "execution_count": null,
      "outputs": []
    },
    {
      "cell_type": "markdown",
      "metadata": {
        "id": "e-8jafvYzeZh"
      },
      "source": [
        "A3.5 A3_502 A3_504 A3_506 A3_507"
      ]
    },
    {
      "cell_type": "code",
      "metadata": {
        "id": "St9f7kLX0Qe6"
      },
      "source": [
        "for i in range(LAB_imgA3_502.shape[0]): \n",
        "     for j in range(LAB_imgA3_502.shape[1]): \n",
        "                if 1769<i<1881 and 2019<j<2131 :\n",
        "                 (LAB_imgA3_502[i][j])"
      ],
      "execution_count": null,
      "outputs": []
    },
    {
      "cell_type": "code",
      "metadata": {
        "id": "SGlKRpF_0Qox"
      },
      "source": [
        "for i in range(LAB_imgA3_504.shape[0]): \n",
        "     for j in range(LAB_imgA3_504.shape[1]): \n",
        "                if 1769<i<1881 and 2019<j<2131 :\n",
        "                 (LAB_imgA3_504[i][j])"
      ],
      "execution_count": null,
      "outputs": []
    },
    {
      "cell_type": "code",
      "metadata": {
        "id": "2pp1QyLV0QX9"
      },
      "source": [
        "for i in range(LAB_imgA3_506.shape[0]): \n",
        "     for j in range(LAB_imgA3_506.shape[1]): \n",
        "                if 1769<i<1881 and 2019<j<2131 :\n",
        "                 (LAB_imgA3_506[i][j])"
      ],
      "execution_count": null,
      "outputs": []
    },
    {
      "cell_type": "code",
      "metadata": {
        "id": "HaZuvCEk0QPf"
      },
      "source": [
        "for i in range(LAB_imgA3_507.shape[0]): \n",
        "     for j in range(LAB_imgA3_507.shape[1]): \n",
        "                if 1769<i<1881 and 2019<j<2131 :\n",
        "                 (LAB_imgA3_507[i][j])"
      ],
      "execution_count": null,
      "outputs": []
    },
    {
      "cell_type": "markdown",
      "metadata": {
        "id": "T8YIrB50zfz-"
      },
      "source": [
        "A4 A401 A403 A404 A406"
      ]
    },
    {
      "cell_type": "code",
      "metadata": {
        "id": "JtCLy0qR0nAX"
      },
      "source": [
        "for i in range(LAB_imgA4_01.shape[0]): \n",
        "     for j in range(LAB_imgA4_01.shape[1]): \n",
        "                if 1769<i<1881 and 2019<j<2131 :\n",
        "                 (LAB_imgA4_01[i][j])"
      ],
      "execution_count": null,
      "outputs": []
    },
    {
      "cell_type": "code",
      "metadata": {
        "id": "Hf0JhjSr0m4a"
      },
      "source": [
        "for i in range(LAB_imgA4_03.shape[0]): \n",
        "     for j in range(LAB_imgA4_03.shape[1]): \n",
        "                if 1769<i<1881 and 2019<j<2131 :\n",
        "                 (LAB_imgA4_03[i][j])"
      ],
      "execution_count": null,
      "outputs": []
    },
    {
      "cell_type": "code",
      "metadata": {
        "id": "lU7qgO730mwt"
      },
      "source": [
        "for i in range(LAB_imgA4_04.shape[0]): \n",
        "     for j in range(LAB_imgA4_04.shape[1]): \n",
        "                if 1769<i<1881 and 2019<j<2131 :\n",
        "                 (LAB_imgA4_04[i][j])"
      ],
      "execution_count": null,
      "outputs": []
    },
    {
      "cell_type": "code",
      "metadata": {
        "id": "3woTPWZR0moq"
      },
      "source": [
        "for i in range(LAB_imgA4_06.shape[0]): \n",
        "     for j in range(LAB_imgA4_06.shape[1]): \n",
        "                if 1769<i<1881 and 2019<j<2131 :\n",
        "                 (LAB_imgA4_06[i][j])"
      ],
      "execution_count": null,
      "outputs": []
    },
    {
      "cell_type": "markdown",
      "metadata": {
        "id": "j2qM32H51EnG"
      },
      "source": [
        "B1 B101 B102 B107 B109"
      ]
    },
    {
      "cell_type": "code",
      "metadata": {
        "id": "SWNQW9gi1LCn"
      },
      "source": [
        "for i in range(LAB_imgB1_01.shape[0]): \n",
        "     for j in range(LAB_imgB1_01.shape[1]): \n",
        "                if 1769<i<1881 and 2019<j<2131 :\n",
        "                 (LAB_imgB1_01[i][j])"
      ],
      "execution_count": null,
      "outputs": []
    },
    {
      "cell_type": "code",
      "metadata": {
        "id": "gCMzRnvw1K4U"
      },
      "source": [
        "for i in range(LAB_imgB1_02.shape[0]): \n",
        "     for j in range(LAB_imgB1_02.shape[1]): \n",
        "                if 1769<i<1881 and 2019<j<2131 :\n",
        "                 (LAB_imgB1_02[i][j])"
      ],
      "execution_count": null,
      "outputs": []
    },
    {
      "cell_type": "code",
      "metadata": {
        "id": "nnGR1Du_1Kt8"
      },
      "source": [
        "for i in range(LAB_imgB1_07.shape[0]): \n",
        "     for j in range(LAB_imgB1_07.shape[1]): \n",
        "                if 1769<i<1881 and 2019<j<2131 :\n",
        "                 (LAB_imgB1_07[i][j])"
      ],
      "execution_count": null,
      "outputs": []
    },
    {
      "cell_type": "code",
      "metadata": {
        "id": "XqglTNwE1Keg"
      },
      "source": [
        "for i in range(LAB_imgB1_09.shape[0]): \n",
        "     for j in range(LAB_imgB1_09.shape[1]): \n",
        "                if 1769<i<1881 and 2019<j<2131 :\n",
        "                 (LAB_imgB1_09[i][j])"
      ],
      "execution_count": null,
      "outputs": []
    },
    {
      "cell_type": "markdown",
      "metadata": {
        "id": "gal2BJDK1HYu"
      },
      "source": [
        "B2 B205 B206 B207 B208"
      ]
    },
    {
      "cell_type": "code",
      "metadata": {
        "id": "asjFneZV1Lzb"
      },
      "source": [
        "for i in range(LAB_imgB2_05.shape[0]): \n",
        "     for j in range(LAB_imgB2_05.shape[1]): \n",
        "                if 1769<i<1881 and 2019<j<2131 :\n",
        "                 (LAB_imgB2_05[i][j])"
      ],
      "execution_count": null,
      "outputs": []
    },
    {
      "cell_type": "code",
      "metadata": {
        "id": "U3RYMyse1LqV"
      },
      "source": [
        "for i in range(LAB_imgB2_06.shape[0]): \n",
        "     for j in range(LAB_imgB2_06.shape[1]): \n",
        "                if 1769<i<1881 and 2019<j<2131 :\n",
        "                 (LAB_imgB2_06[i][j])"
      ],
      "execution_count": null,
      "outputs": []
    },
    {
      "cell_type": "code",
      "metadata": {
        "id": "T_9aHkY21Lh9"
      },
      "source": [
        "for i in range(LAB_imgB2_07.shape[0]): \n",
        "     for j in range(LAB_imgB2_07.shape[1]): \n",
        "                if 1769<i<1881 and 2019<j<2131 :\n",
        "                 (LAB_imgB2_07[i][j])"
      ],
      "execution_count": null,
      "outputs": []
    },
    {
      "cell_type": "code",
      "metadata": {
        "id": "x6JkQZK81LZ2"
      },
      "source": [
        "for i in range(LAB_imgB2_08.shape[0]): \n",
        "     for j in range(LAB_imgB2_08.shape[1]): \n",
        "                if 1769<i<1881 and 2019<j<2131 :\n",
        "                 (LAB_imgB2_08[i][j])"
      ],
      "execution_count": null,
      "outputs": []
    },
    {
      "cell_type": "markdown",
      "metadata": {
        "id": "63v00LGi1Icj"
      },
      "source": [
        "B3 B301 B303 B306 B310"
      ]
    },
    {
      "cell_type": "code",
      "metadata": {
        "id": "WYz7s47-1MzR"
      },
      "source": [
        "for i in range(LAB_imgB3_01.shape[0]): \n",
        "     for j in range(LAB_imgB3_01.shape[1]): \n",
        "                if 1769<i<1881 and 2019<j<2131 :\n",
        "                 (LAB_imgB3_01[i][j])"
      ],
      "execution_count": null,
      "outputs": []
    },
    {
      "cell_type": "code",
      "metadata": {
        "id": "8As_bcue1MrP"
      },
      "source": [
        "for i in range(LAB_imgB3_03.shape[0]): \n",
        "     for j in range(LAB_imgB3_03.shape[1]): \n",
        "                if 1769<i<1881 and 2019<j<2131 :\n",
        "                 (LAB_imgB3_03[i][j])"
      ],
      "execution_count": null,
      "outputs": []
    },
    {
      "cell_type": "code",
      "metadata": {
        "id": "QDH4UADC1MjD"
      },
      "source": [
        "for i in range(LAB_imgB3_06.shape[0]): \n",
        "     for j in range(LAB_imgB3_06.shape[1]): \n",
        "                if 1769<i<1881 and 2019<j<2131 :\n",
        "                 (LAB_imgB3_06[i][j])"
      ],
      "execution_count": null,
      "outputs": []
    },
    {
      "cell_type": "code",
      "metadata": {
        "id": "BTDsHyYP1Mbg"
      },
      "source": [
        "for i in range(LAB_imgB3_10.shape[0]): \n",
        "     for j in range(LAB_imgB3_10.shape[1]): \n",
        "                if 1769<i<1881 and 2019<j<2131 :\n",
        "                 (LAB_imgB3_10[i][j])"
      ],
      "execution_count": null,
      "outputs": []
    },
    {
      "cell_type": "markdown",
      "metadata": {
        "id": "2HAcrkm-1Jbf"
      },
      "source": [
        "B4 B401 B402 B408 B410"
      ]
    },
    {
      "cell_type": "code",
      "metadata": {
        "id": "wVTePsRn1NkQ"
      },
      "source": [
        "for i in range(LAB_imgB4_01.shape[0]): \n",
        "     for j in range(LAB_imgB4_01.shape[1]): \n",
        "                if 1769<i<1881 and 2019<j<2131 :\n",
        "                 (LAB_imgB4_01[i][j])"
      ],
      "execution_count": null,
      "outputs": []
    },
    {
      "cell_type": "code",
      "metadata": {
        "id": "U9Lh5EoT1NdU"
      },
      "source": [
        "for i in range(LAB_imgB3_10.shape[0]): \n",
        "     for j in range(LAB_imgB3_10.shape[1]): \n",
        "                if 1769<i<1881 and 2019<j<2131 :\n",
        "                 (LAB_imgB3_10[i][j])"
      ],
      "execution_count": null,
      "outputs": []
    },
    {
      "cell_type": "code",
      "metadata": {
        "id": "G8LjGsjn1NWu"
      },
      "source": [
        "for i in range(LAB_imgB4_02.shape[0]): \n",
        "     for j in range(LAB_imgB4_02.shape[1]): \n",
        "                if 1769<i<1881 and 2019<j<2131 :\n",
        "                 (LAB_imgB4_02[i][j])"
      ],
      "execution_count": null,
      "outputs": []
    },
    {
      "cell_type": "code",
      "metadata": {
        "id": "3QQyxQQ21NQ8"
      },
      "source": [
        "for i in range(LAB_imgB4_10.shape[0]): \n",
        "     for j in range(LAB_imgB4_10.shape[1]): \n",
        "                if 1769<i<1881 and 2019<j<2131 :\n",
        "                 (LAB_imgB4_10[i][j])"
      ],
      "execution_count": null,
      "outputs": []
    },
    {
      "cell_type": "markdown",
      "metadata": {
        "id": "LJ5o5oOk5bLC"
      },
      "source": [
        "C1 C101 C102 C105 C109"
      ]
    },
    {
      "cell_type": "code",
      "metadata": {
        "id": "w0ZlIxNQ1c2V"
      },
      "source": [
        "for i in range(LAB_imgC1_01.shape[0]): \n",
        "     for j in range(LAB_imgC1_01.shape[1]): \n",
        "                if 1769<i<1881 and 2019<j<2131 :\n",
        "                 (LAB_imgC1_01[i][j])"
      ],
      "execution_count": null,
      "outputs": []
    },
    {
      "cell_type": "code",
      "metadata": {
        "id": "UlDQiGQ75i8O"
      },
      "source": [
        "for i in range(LAB_imgC1_02.shape[0]): \n",
        "     for j in range(LAB_imgC1_02.shape[1]): \n",
        "                if 1769<i<1881 and 2019<j<2131 :\n",
        "                 (LAB_imgC1_02[i][j])"
      ],
      "execution_count": null,
      "outputs": []
    },
    {
      "cell_type": "code",
      "metadata": {
        "id": "gQp5kAYW5oam"
      },
      "source": [
        "for i in range(LAB_imgC1_05.shape[0]): \n",
        "     for j in range(LAB_imgC1_05.shape[1]): \n",
        "                if 1769<i<1881 and 2019<j<2131 :\n",
        "                 (LAB_imgC1_05[i][j])"
      ],
      "execution_count": null,
      "outputs": []
    },
    {
      "cell_type": "code",
      "metadata": {
        "id": "_fwoBI-O5os6"
      },
      "source": [
        "for i in range(LAB_imgC1_09.shape[0]): \n",
        "     for j in range(LAB_imgC1_09.shape[1]): \n",
        "                if 1769<i<1881 and 2019<j<2131 :\n",
        "                 (LAB_imgC1_09[i][j])"
      ],
      "execution_count": null,
      "outputs": []
    },
    {
      "cell_type": "markdown",
      "metadata": {
        "id": "veUPceOE5ydW"
      },
      "source": [
        "C2 C201 C203 C205 C207"
      ]
    },
    {
      "cell_type": "code",
      "metadata": {
        "id": "xVd7fTj057Im"
      },
      "source": [
        "for i in range(LAB_imgC2_01.shape[0]): \n",
        "     for j in range(LAB_imgC2_01.shape[1]): \n",
        "                if 1769<i<1881 and 2019<j<2131 :\n",
        "                 (LAB_imgC2_01[i][j])"
      ],
      "execution_count": null,
      "outputs": []
    },
    {
      "cell_type": "code",
      "metadata": {
        "id": "UITY-FEy578o"
      },
      "source": [
        "for i in range(LAB_imgC2_03.shape[0]): \n",
        "     for j in range(LAB_imgC2_03.shape[1]): \n",
        "                if 1769<i<1881 and 2019<j<2131 :\n",
        "                 (LAB_imgC2_03[i][j])"
      ],
      "execution_count": null,
      "outputs": []
    },
    {
      "cell_type": "code",
      "metadata": {
        "id": "TumpzuTn58YK"
      },
      "source": [
        "for i in range(LAB_imgC2_05.shape[0]): \n",
        "     for j in range(LAB_imgC2_05.shape[1]): \n",
        "                if 1769<i<1881 and 2019<j<2131 :\n",
        "                 (LAB_imgC2_05[i][j])"
      ],
      "execution_count": null,
      "outputs": []
    },
    {
      "cell_type": "code",
      "metadata": {
        "id": "7K6gK9PP58Lf"
      },
      "source": [
        "for i in range(LAB_imgC2_07.shape[0]): \n",
        "     for j in range(LAB_imgC2_07.shape[1]): \n",
        "                if 1769<i<1881 and 2019<j<2131 :\n",
        "                 (LAB_imgC2_07[i][j])"
      ],
      "execution_count": null,
      "outputs": []
    },
    {
      "cell_type": "markdown",
      "metadata": {
        "id": "mwJT5T3x50I-"
      },
      "source": [
        "C3 C302 C303 C306 C309"
      ]
    },
    {
      "cell_type": "code",
      "metadata": {
        "id": "TiQI_20558sA"
      },
      "source": [
        "for i in range(LAB_imgC3_02.shape[0]): \n",
        "     for j in range(LAB_imgC3_02.shape[1]): \n",
        "                if 1769<i<1881 and 2019<j<2131 :\n",
        "                 (LAB_imgC3_02[i][j])"
      ],
      "execution_count": null,
      "outputs": []
    },
    {
      "cell_type": "code",
      "metadata": {
        "id": "JQbGl3uN57aN"
      },
      "source": [
        "for i in range(LAB_imgC3_03.shape[0]): \n",
        "     for j in range(LAB_imgC3_03.shape[1]): \n",
        "                if 1769<i<1881 and 2019<j<2131 :\n",
        "                 (LAB_imgC3_03[i][j])"
      ],
      "execution_count": null,
      "outputs": []
    },
    {
      "cell_type": "code",
      "metadata": {
        "id": "F3E6a25Q57pr"
      },
      "source": [
        "for i in range(LAB_imgC3_06.shape[0]): \n",
        "     for j in range(LAB_imgC3_06.shape[1]): \n",
        "                if 1769<i<1881 and 2019<j<2131 :\n",
        "                 (LAB_imgC3_06[i][j])"
      ],
      "execution_count": null,
      "outputs": []
    },
    {
      "cell_type": "code",
      "metadata": {
        "id": "x8P68K6z59Fc"
      },
      "source": [
        "for i in range(LAB_imgC3_09.shape[0]): \n",
        "     for j in range(LAB_imgC3_09.shape[1]): \n",
        "                if 1769<i<1881 and 2019<j<2131 :\n",
        "                 (LAB_imgC3_09[i][j])"
      ],
      "execution_count": null,
      "outputs": []
    },
    {
      "cell_type": "markdown",
      "metadata": {
        "id": "T4X8qins59oM"
      },
      "source": [
        "C4 C401 C404 C405 C406"
      ]
    },
    {
      "cell_type": "code",
      "metadata": {
        "id": "mnz4vETI7TII"
      },
      "source": [
        "for i in range(LAB_imgC4_01.shape[0]): \n",
        "     for j in range(LAB_imgC4_01.shape[1]): \n",
        "                if 1769<i<1881 and 2019<j<2131 :\n",
        "                 (LAB_imgC4_01[i][j])"
      ],
      "execution_count": null,
      "outputs": []
    },
    {
      "cell_type": "code",
      "metadata": {
        "id": "HiU5Y2Yn7TAO"
      },
      "source": [
        "for i in range(LAB_imgC4_04.shape[0]): \n",
        "     for j in range(LAB_imgC4_04.shape[1]): \n",
        "                if 1769<i<1881 and 2019<j<2131 :\n",
        "                 (LAB_imgC4_04[i][j])"
      ],
      "execution_count": null,
      "outputs": []
    },
    {
      "cell_type": "code",
      "metadata": {
        "id": "rIdOpYAe7S5F"
      },
      "source": [
        "for i in range(LAB_imgC4_05.shape[0]): \n",
        "     for j in range(LAB_imgC4_05.shape[1]): \n",
        "                if 1769<i<1881 and 2019<j<2131 :\n",
        "                 (LAB_imgC4_05[i][j])"
      ],
      "execution_count": null,
      "outputs": []
    },
    {
      "cell_type": "code",
      "metadata": {
        "id": "v3qJ3zAv7St9"
      },
      "source": [
        "for i in range(LAB_imgC3_09.shape[0]): \n",
        "     for j in range(LAB_imgC3_09.shape[1]): \n",
        "                if 1769<i<1881 and 2019<j<2131 :\n",
        "                 (LAB_imgC3_09[i][j])"
      ],
      "execution_count": null,
      "outputs": []
    },
    {
      "cell_type": "markdown",
      "metadata": {
        "id": "kRvkJBSH6m8n"
      },
      "source": [
        "D2 D201 D203 D206 D207"
      ]
    },
    {
      "cell_type": "code",
      "metadata": {
        "id": "6ykI1MV0FheQ"
      },
      "source": [
        "for i in range(LAB_imgD2_01.shape[0]): \n",
        "     for j in range(LAB_imgD2_01.shape[1]): \n",
        "                if 1769<i<1881 and 2019<j<2131 :\n",
        "                 (LAB_imgD2_01[i][j])"
      ],
      "execution_count": null,
      "outputs": []
    },
    {
      "cell_type": "code",
      "metadata": {
        "id": "bSanI_gyFhUS"
      },
      "source": [
        "for i in range(LAB_imgD2_03.shape[0]): \n",
        "     for j in range(LAB_imgD2_03.shape[1]): \n",
        "                if 1769<i<1881 and 2019<j<2131 :\n",
        "                 (LAB_imgD2_03[i][j])"
      ],
      "execution_count": null,
      "outputs": []
    },
    {
      "cell_type": "code",
      "metadata": {
        "id": "8CQ9PBCjFhOA"
      },
      "source": [
        "for i in range(LAB_imgD2_06.shape[0]): \n",
        "     for j in range(LAB_imgD2_06.shape[1]): \n",
        "                if 1769<i<1881 and 2019<j<2131 :\n",
        "                 (LAB_imgD2_06[i][j])"
      ],
      "execution_count": null,
      "outputs": []
    },
    {
      "cell_type": "code",
      "metadata": {
        "id": "Dx_PeSbRFhF7"
      },
      "source": [
        "for i in range(LAB_imgD2_07.shape[0]): \n",
        "     for j in range(LAB_imgD2_07.shape[1]): \n",
        "                if 1769<i<1881 and 2019<j<2131 :\n",
        "                 (LAB_imgD2_07[i][j])"
      ],
      "execution_count": null,
      "outputs": []
    },
    {
      "cell_type": "markdown",
      "metadata": {
        "id": "3dcK05Xv6ptS"
      },
      "source": [
        "D3 D303 D304 D307 D308"
      ]
    },
    {
      "cell_type": "code",
      "metadata": {
        "id": "Lnhgfd7jGKsI"
      },
      "source": [
        "for i in range(LAB_imgD3_03.shape[0]): \n",
        "     for j in range(LAB_imgD3_03.shape[1]): \n",
        "                if 1769<i<1881 and 2019<j<2131 :\n",
        "                 (LAB_imgD3_03[i][j])"
      ],
      "execution_count": null,
      "outputs": []
    },
    {
      "cell_type": "code",
      "metadata": {
        "id": "6aAeBseNGMW0"
      },
      "source": [
        "for i in range(LAB_imgD3_04.shape[0]): \n",
        "     for j in range(LAB_imgD3_04.shape[1]): \n",
        "                if 1769<i<1881 and 2019<j<2131 :\n",
        "                 (LAB_imgD3_04[i][j])"
      ],
      "execution_count": null,
      "outputs": []
    },
    {
      "cell_type": "code",
      "metadata": {
        "id": "4tl0YApAGMMk"
      },
      "source": [
        "for i in range(LAB_imgD3_07.shape[0]): \n",
        "     for j in range(LAB_imgD3_07.shape[1]): \n",
        "                if 1769<i<1881 and 2019<j<2131 :\n",
        "                 (LAB_imgD3_07[i][j])"
      ],
      "execution_count": null,
      "outputs": []
    },
    {
      "cell_type": "code",
      "metadata": {
        "id": "Fs5TavqoGL8H"
      },
      "source": [
        "for i in range(LAB_imgD3_08.shape[0]): \n",
        "     for j in range(LAB_imgD3_08.shape[1]): \n",
        "                if 1769<i<1881 and 2019<j<2131 :\n",
        "                 (LAB_imgD3_08[i][j])"
      ],
      "execution_count": null,
      "outputs": []
    },
    {
      "cell_type": "markdown",
      "metadata": {
        "id": "0xpFIFxY6sWn"
      },
      "source": [
        "D4 D402 D404 D407 D410"
      ]
    },
    {
      "cell_type": "code",
      "metadata": {
        "id": "gGF-V8maGZ3z"
      },
      "source": [
        "for i in range(LAB_imgD4_02.shape[0]): \n",
        "     for j in range(LAB_imgD4_02.shape[1]): \n",
        "                if 1769<i<1881 and 2019<j<2131 :\n",
        "                 (LAB_imgD4_02[i][j])"
      ],
      "execution_count": null,
      "outputs": []
    },
    {
      "cell_type": "code",
      "metadata": {
        "id": "S3dZ2uEOGZvl"
      },
      "source": [
        "for i in range(LAB_imgD4_04.shape[0]): \n",
        "     for j in range(LAB_imgD4_04.shape[1]): \n",
        "                if 1769<i<1881 and 2019<j<2131 :\n",
        "                 (LAB_imgD4_04[i][j])"
      ],
      "execution_count": null,
      "outputs": []
    },
    {
      "cell_type": "code",
      "metadata": {
        "id": "EQGLxyPKGZpD"
      },
      "source": [
        "for i in range(LAB_imgD4_07.shape[0]): \n",
        "     for j in range(LAB_imgD4_07.shape[1]): \n",
        "                if 1769<i<1881 and 2019<j<2131 :\n",
        "                 (LAB_imgD4_07[i][j])"
      ],
      "execution_count": null,
      "outputs": []
    },
    {
      "cell_type": "code",
      "metadata": {
        "id": "yy96UNx8GZiT"
      },
      "source": [
        "for i in range(LAB_imgD4_10.shape[0]): \n",
        "     for j in range(LAB_imgD4_10.shape[1]): \n",
        "                if 1769<i<1881 and 2019<j<2131 :\n",
        "                 (LAB_imgD4_10[i][j])"
      ],
      "execution_count": null,
      "outputs": []
    },
    {
      "cell_type": "markdown",
      "metadata": {
        "id": "SCtLPtPQGz-p"
      },
      "source": [
        "#6. หาค่า Mean"
      ]
    },
    {
      "cell_type": "code",
      "metadata": {
        "id": "YKFsY16kG1pe"
      },
      "source": [
        "import numpy as np"
      ],
      "execution_count": null,
      "outputs": []
    },
    {
      "cell_type": "markdown",
      "metadata": {
        "id": "s2VmXvHVHoXc"
      },
      "source": [
        "A1"
      ]
    },
    {
      "cell_type": "code",
      "metadata": {
        "id": "3AGgkqYfG25f",
        "colab": {
          "base_uri": "https://localhost:8080/"
        },
        "outputId": "065f989a-222c-40b6-ff50-5973dfa68b0b"
      },
      "source": [
        "meanA1_1 = list() \n",
        "for i in range(LAB_imgA1_01.shape[0]): #ให้ i รันตาม row หรือ shape[0] คือแถว มีทั้งหมด 4032 แถว ของภาพที่ปรับขนาดมาแล้ว\n",
        "     for j in range(LAB_imgA1_01.shape[1]): #ให้ j รันตาม colum มีทั้งหมด 3024 colum เช่น แถวที่ 1 เข้ามาให้รันครบ 3024colum\n",
        "                if 1769<i<1881 and 2019<j<2131 :\n",
        "                    meanA1_1.append(LAB_imgA1_01[i][j])\n",
        "meanA1_1 = np.array(meanA1_1)\n",
        "\n",
        "labA1_1 = list()\n",
        "for i in range(3):\n",
        "    labA1_1.append(meanA1_1[:,i].mean())\n",
        "labA1_1 "
      ],
      "execution_count": null,
      "outputs": [
        {
          "output_type": "execute_result",
          "data": {
            "text/plain": [
              "[193.33300868436004, 126.14528041555069, 152.3710737764792]"
            ]
          },
          "metadata": {},
          "execution_count": 273
        }
      ]
    },
    {
      "cell_type": "markdown",
      "metadata": {
        "id": "xSasoROaHpzm"
      },
      "source": [
        "A2"
      ]
    },
    {
      "cell_type": "code",
      "metadata": {
        "id": "A13oL-rkHqpJ",
        "colab": {
          "base_uri": "https://localhost:8080/"
        },
        "outputId": "b2ea6c62-66fa-438d-e517-97f245a1a9d6"
      },
      "source": [
        "meanA2_1 = list() \n",
        "for i in range(LAB_imgA2_01.shape[0]): \n",
        "     for j in range(LAB_imgA2_01.shape[1]): \n",
        "                if 1769<i<1881 and 2019<j<2131 :\n",
        "                    meanA2_1.append(LAB_imgA2_01[i][j])\n",
        "meanA2_1 = np.array(meanA2_1)\n",
        "\n",
        "labA2_1 = list()\n",
        "for i in range(3):\n",
        "    labA2_1.append(meanA2_1[:,i].mean())\n",
        "labA2_1"
      ],
      "execution_count": null,
      "outputs": [
        {
          "output_type": "execute_result",
          "data": {
            "text/plain": [
              "[187.46010875740606, 127.99569840110381, 153.76511646781918]"
            ]
          },
          "metadata": {},
          "execution_count": 274
        }
      ]
    },
    {
      "cell_type": "code",
      "metadata": {
        "id": "is_tzZCLIE8J",
        "colab": {
          "base_uri": "https://localhost:8080/"
        },
        "outputId": "964c27b3-c632-4edb-c797-97361b529843"
      },
      "source": [
        "meanA2_3 = list() \n",
        "for i in range(LAB_imgA2_03.shape[0]): \n",
        "     for j in range(LAB_imgA2_03.shape[1]): \n",
        "                if 1769<i<1881 and 2019<j<2131 :\n",
        "                    meanA2_3.append(LAB_imgA2_03[i][j])\n",
        "meanA2_3 = np.array(meanA2_3)\n",
        "\n",
        "labA2_3 = list()\n",
        "for i in range(3):\n",
        "    labA2_3.append(meanA2_3[:,i].mean())\n",
        "labA2_3"
      ],
      "execution_count": null,
      "outputs": [
        {
          "output_type": "execute_result",
          "data": {
            "text/plain": [
              "[188.99285772258744, 128.5506858209561, 153.8100803506209]"
            ]
          },
          "metadata": {},
          "execution_count": 275
        }
      ]
    },
    {
      "cell_type": "code",
      "metadata": {
        "id": "Cfq1mvqqIVGB",
        "colab": {
          "base_uri": "https://localhost:8080/"
        },
        "outputId": "e827137e-37cd-411e-8d39-be088995e350"
      },
      "source": [
        "meanA2_4 = list() \n",
        "for i in range(LAB_imgA2_04.shape[0]): \n",
        "     for j in range(LAB_imgA2_04.shape[1]): \n",
        "                if 1769<i<1881 and 2019<j<2131 :\n",
        "                    meanA2_4.append(LAB_imgA2_04[i][j])\n",
        "meanA2_4 = np.array(meanA2_4)\n",
        "\n",
        "labA2_4 = list()\n",
        "for i in range(3):\n",
        "    labA2_4.append(meanA2_4[:,i].mean())\n",
        "labA2_4"
      ],
      "execution_count": null,
      "outputs": [
        {
          "output_type": "execute_result",
          "data": {
            "text/plain": [
              "[190.52357763168575, 127.48737927116305, 154.04536969401835]"
            ]
          },
          "metadata": {},
          "execution_count": 276
        }
      ]
    },
    {
      "cell_type": "code",
      "metadata": {
        "id": "V9AXiSNJIVht",
        "colab": {
          "base_uri": "https://localhost:8080/"
        },
        "outputId": "8a3f0fb4-4d30-4144-a14f-c9806d11f2fd"
      },
      "source": [
        "meanA2_6 = list() \n",
        "for i in range(LAB_imgA2_06.shape[0]): \n",
        "     for j in range(LAB_imgA2_06.shape[1]): \n",
        "                if 1769<i<1881 and 2019<j<2131 :\n",
        "                    meanA2_6.append(LAB_imgA2_06[i][j])\n",
        "meanA2_6 = np.array(meanA2_6)\n",
        "\n",
        "labA2_6 = list()\n",
        "for i in range(3):\n",
        "    labA2_6.append(meanA2_6[:,i].mean())\n",
        "labA2_6"
      ],
      "execution_count": null,
      "outputs": [
        {
          "output_type": "execute_result",
          "data": {
            "text/plain": [
              "[189.5188702215729, 128.22628033438843, 155.19040662283905]"
            ]
          },
          "metadata": {},
          "execution_count": 277
        }
      ]
    },
    {
      "cell_type": "markdown",
      "metadata": {
        "id": "wy0J3KoCIte6"
      },
      "source": [
        "A3"
      ]
    },
    {
      "cell_type": "code",
      "metadata": {
        "id": "CbtyolvQIxRF",
        "colab": {
          "base_uri": "https://localhost:8080/"
        },
        "outputId": "b25cda70-c3ea-4afd-b78e-8d33cf08092c"
      },
      "source": [
        "meanA3_2 = list() \n",
        "for i in range(LAB_imgA3_02.shape[0]): \n",
        "     for j in range(LAB_imgA3_02.shape[1]): \n",
        "                if 1769<i<1881 and 2019<j<2131 :\n",
        "                    meanA3_2.append(LAB_imgA3_02[i][j])\n",
        "meanA3_2 = np.array(meanA3_2)\n",
        "\n",
        "labA3_2 = list()\n",
        "for i in range(3):\n",
        "    labA3_2.append(meanA3_2[:,i].mean())\n",
        "labA3_2"
      ],
      "execution_count": null,
      "outputs": [
        {
          "output_type": "execute_result",
          "data": {
            "text/plain": [
              "[187.7791575359143, 127.68087005924843, 158.98165733300868]"
            ]
          },
          "metadata": {},
          "execution_count": 278
        }
      ]
    },
    {
      "cell_type": "code",
      "metadata": {
        "id": "7mYWr28NI6fk",
        "colab": {
          "base_uri": "https://localhost:8080/"
        },
        "outputId": "c246c61b-ca10-41a8-dccd-fc275954aea5"
      },
      "source": [
        "meanA3_3 = list() \n",
        "for i in range(LAB_imgA3_03.shape[0]): \n",
        "     for j in range(LAB_imgA3_03.shape[1]): \n",
        "                if 1769<i<1881 and 2019<j<2131 :\n",
        "                    meanA3_3.append(LAB_imgA3_03[i][j])\n",
        "meanA3_3 = np.array(meanA3_3)\n",
        "\n",
        "labA3_3 = list()\n",
        "for i in range(3):\n",
        "    labA3_3.append(meanA3_3[:,i].mean())\n",
        "labA3_3"
      ],
      "execution_count": null,
      "outputs": [
        {
          "output_type": "execute_result",
          "data": {
            "text/plain": [
              "[188.4163623082542, 127.63063063063063, 159.10551091632172]"
            ]
          },
          "metadata": {},
          "execution_count": 279
        }
      ]
    },
    {
      "cell_type": "code",
      "metadata": {
        "id": "X_oamCB9JCat",
        "colab": {
          "base_uri": "https://localhost:8080/"
        },
        "outputId": "9bfe12e1-e273-409e-a2f0-0021ab02d90e"
      },
      "source": [
        "meanA3_4 = list() \n",
        "for i in range(LAB_imgA3_04.shape[0]): \n",
        "     for j in range(LAB_imgA3_04.shape[1]): \n",
        "                if 1769<i<1881 and 2019<j<2131 :\n",
        "                    meanA3_4.append(LAB_imgA3_04[i][j])\n",
        "meanA3_4 = np.array(meanA3_4)\n",
        "\n",
        "labA3_4 = list()\n",
        "for i in range(3):\n",
        "    labA3_4.append(meanA3_4[:,i].mean())\n",
        "labA3_4"
      ],
      "execution_count": null,
      "outputs": [
        {
          "output_type": "execute_result",
          "data": {
            "text/plain": [
              "[187.6630955279604, 128.4718772826881, 158.35110786462138]"
            ]
          },
          "metadata": {},
          "execution_count": 280
        }
      ]
    },
    {
      "cell_type": "code",
      "metadata": {
        "id": "6d9vw9fuJMQx",
        "colab": {
          "base_uri": "https://localhost:8080/"
        },
        "outputId": "a194ece7-0bed-4299-8587-982e449ab9a3"
      },
      "source": [
        "meanA3_5 = list() \n",
        "for i in range(LAB_imgA3_05.shape[0]): \n",
        "     for j in range(LAB_imgA3_05.shape[1]): \n",
        "                if 1769<i<1881 and 2019<j<2131 :\n",
        "                    meanA3_5.append(LAB_imgA3_05[i][j])\n",
        "meanA3_5 = np.array(meanA3_5)\n",
        "\n",
        "labA3_5 = list()\n",
        "for i in range(3):\n",
        "    labA3_5.append(meanA3_5[:,i].mean())\n",
        "labA3_5"
      ],
      "execution_count": null,
      "outputs": [
        {
          "output_type": "execute_result",
          "data": {
            "text/plain": [
              "[186.63395828260693, 128.65660254849445, 158.40646051456864]"
            ]
          },
          "metadata": {},
          "execution_count": 281
        }
      ]
    },
    {
      "cell_type": "markdown",
      "metadata": {
        "id": "dsrU_P7rJaQO"
      },
      "source": [
        "A3.5"
      ]
    },
    {
      "cell_type": "code",
      "metadata": {
        "id": "vvJRofAgJZ8F",
        "colab": {
          "base_uri": "https://localhost:8080/"
        },
        "outputId": "4555dcc1-e9b4-4a6f-c1f9-c9f531c7cdf7"
      },
      "source": [
        "meanA3_502 = list() \n",
        "for i in range(LAB_imgA3_502.shape[0]): \n",
        "     for j in range(LAB_imgA3_502.shape[1]): \n",
        "                if 1769<i<1881 and 2019<j<2131 :\n",
        "                    meanA3_502.append(LAB_imgA3_502[i][j])\n",
        "meanA3_502 = np.array(meanA3_502)\n",
        "\n",
        "labA3_502 = list()\n",
        "for i in range(3):\n",
        "    labA3_502.append(meanA3_502[:,i].mean())\n",
        "labA3_502"
      ],
      "execution_count": null,
      "outputs": [
        {
          "output_type": "execute_result",
          "data": {
            "text/plain": [
              "[181.3498092687282, 130.92062332602873, 159.92906419933448]"
            ]
          },
          "metadata": {},
          "execution_count": 282
        }
      ]
    },
    {
      "cell_type": "code",
      "metadata": {
        "id": "6GNLN8lUJUTy",
        "colab": {
          "base_uri": "https://localhost:8080/"
        },
        "outputId": "c51a5a1a-5cd7-4350-ad4b-cb2faed3c660"
      },
      "source": [
        "meanA3_504 = list() \n",
        "for i in range(LAB_imgA3_504.shape[0]): \n",
        "     for j in range(LAB_imgA3_504.shape[1]): \n",
        "                if 1769<i<1881 and 2019<j<2131 :\n",
        "                    meanA3_504.append(LAB_imgA3_504[i][j])\n",
        "meanA3_504 = np.array(meanA3_504)\n",
        "\n",
        "labA3_504 = list()\n",
        "for i in range(3):\n",
        "    labA3_504.append(meanA3_504[:,i].mean())\n",
        "labA3_504"
      ],
      "execution_count": null,
      "outputs": [
        {
          "output_type": "execute_result",
          "data": {
            "text/plain": [
              "[179.74287801314827, 131.10753997240485, 160.39826312799286]"
            ]
          },
          "metadata": {},
          "execution_count": 283
        }
      ]
    },
    {
      "cell_type": "code",
      "metadata": {
        "id": "M3RMSpgKJt0o",
        "colab": {
          "base_uri": "https://localhost:8080/"
        },
        "outputId": "ed66bea0-b965-4895-8f7b-19ce5404ef30"
      },
      "source": [
        "meanA3_506 = list() \n",
        "for i in range(LAB_imgA3_506.shape[0]): \n",
        "     for j in range(LAB_imgA3_506.shape[1]): \n",
        "                if 1769<i<1881 and 2019<j<2131 :\n",
        "                    meanA3_506.append(LAB_imgA3_506[i][j])\n",
        "meanA3_506 = np.array(meanA3_506)\n",
        "\n",
        "labA3_506 = list()\n",
        "for i in range(3):\n",
        "    labA3_506.append(meanA3_506[:,i].mean())\n",
        "labA3_506"
      ],
      "execution_count": null,
      "outputs": [
        {
          "output_type": "execute_result",
          "data": {
            "text/plain": [
              "[180.96006817628438, 131.04959013067122, 160.5829883937992]"
            ]
          },
          "metadata": {},
          "execution_count": 284
        }
      ]
    },
    {
      "cell_type": "code",
      "metadata": {
        "id": "70rg8s3CJ10m",
        "colab": {
          "base_uri": "https://localhost:8080/"
        },
        "outputId": "0ab8fb75-929e-413a-8e93-3b1e7fb23a00"
      },
      "source": [
        "meanA3_507 = list() \n",
        "for i in range(LAB_imgA3_507.shape[0]): \n",
        "     for j in range(LAB_imgA3_507.shape[1]): \n",
        "                if 1769<i<1881 and 2019<j<2131 :\n",
        "                    meanA3_507.append(LAB_imgA3_507[i][j])\n",
        "meanA3_507 = np.array(meanA3_507)\n",
        "\n",
        "labA3_507 = list()\n",
        "for i in range(3):\n",
        "    labA3_507.append(meanA3_507[:,i].mean())\n",
        "labA3_507"
      ],
      "execution_count": null,
      "outputs": [
        {
          "output_type": "execute_result",
          "data": {
            "text/plain": [
              "[182.6128560993426, 131.02231961691422, 161.15761707653598]"
            ]
          },
          "metadata": {},
          "execution_count": 285
        }
      ]
    },
    {
      "cell_type": "markdown",
      "metadata": {
        "id": "K0Zmn5LbKE-Y"
      },
      "source": [
        "A4"
      ]
    },
    {
      "cell_type": "code",
      "metadata": {
        "id": "pr0j_XxrKKp7",
        "colab": {
          "base_uri": "https://localhost:8080/"
        },
        "outputId": "e7489fad-c84a-4113-dff0-3cc3ca1d91c3"
      },
      "source": [
        "meanA4_1 = list() \n",
        "for i in range(LAB_imgA4_01.shape[0]): \n",
        "     for j in range(LAB_imgA4_01.shape[1]): \n",
        "                if 1769<i<1881 and 2019<j<2131 :\n",
        "                    meanA4_1.append(LAB_imgA4_01[i][j])\n",
        "meanA4_1 = np.array(meanA4_1)\n",
        "\n",
        "labA4_1 = list()\n",
        "for i in range(3):\n",
        "    labA4_1.append(meanA4_1[:,i].mean())\n",
        "labA4_1"
      ],
      "execution_count": null,
      "outputs": [
        {
          "output_type": "execute_result",
          "data": {
            "text/plain": [
              "[184.18683548413279, 129.90471552633716, 159.28487947406867]"
            ]
          },
          "metadata": {},
          "execution_count": 286
        }
      ]
    },
    {
      "cell_type": "code",
      "metadata": {
        "id": "jGCKxVG5aiCX",
        "colab": {
          "base_uri": "https://localhost:8080/"
        },
        "outputId": "e350c838-bc05-413a-8313-d63636d6c9f4"
      },
      "source": [
        "meanA4_3 = list() \n",
        "for i in range(LAB_imgA4_03.shape[0]): \n",
        "     for j in range(LAB_imgA4_03.shape[1]): \n",
        "                if 1769<i<1881 and 2019<j<2131 :\n",
        "                    meanA4_3.append(LAB_imgA4_03[i][j])\n",
        "meanA4_3 = np.array(meanA4_3)\n",
        "\n",
        "labA4_3 = list()\n",
        "for i in range(3):\n",
        "    labA4_3.append(meanA4_3[:,i].mean())\n",
        "labA4_3"
      ],
      "execution_count": null,
      "outputs": [
        {
          "output_type": "execute_result",
          "data": {
            "text/plain": [
              "[184.02645889132376, 129.99245191137084, 159.13562210859507]"
            ]
          },
          "metadata": {},
          "execution_count": 350
        }
      ]
    },
    {
      "cell_type": "code",
      "metadata": {
        "id": "aqwHZK5dKkkG",
        "colab": {
          "base_uri": "https://localhost:8080/"
        },
        "outputId": "d12b52eb-870f-43cb-8436-ee2b2668c36a"
      },
      "source": [
        "meanA4_4 = list() \n",
        "for i in range(LAB_imgA4_04.shape[0]): \n",
        "     for j in range(LAB_imgA4_04.shape[1]): \n",
        "                if 1769<i<1881 and 2019<j<2131 :\n",
        "                    meanA4_4.append(LAB_imgA4_04[i][j])\n",
        "meanA4_4 = np.array(meanA4_4)\n",
        "\n",
        "labA4_4 = list()\n",
        "for i in range(3):\n",
        "    labA4_4.append(meanA4_4[:,i].mean())\n",
        "labA4_4"
      ],
      "execution_count": null,
      "outputs": [
        {
          "output_type": "execute_result",
          "data": {
            "text/plain": [
              "[182.36563590617644, 129.52130508887265, 157.64410356302247]"
            ]
          },
          "metadata": {},
          "execution_count": 287
        }
      ]
    },
    {
      "cell_type": "code",
      "metadata": {
        "id": "Zw_N6Vx2KymX",
        "colab": {
          "base_uri": "https://localhost:8080/"
        },
        "outputId": "933f7705-70f8-4982-c5e7-f4c72b2192a6"
      },
      "source": [
        "meanA4_6 = list() \n",
        "for i in range(LAB_imgA4_06.shape[0]): \n",
        "     for j in range(LAB_imgA4_06.shape[1]): \n",
        "                if 1769<i<1881 and 2019<j<2131 :\n",
        "                    meanA4_6.append(LAB_imgA4_06[i][j])\n",
        "meanA4_6 = np.array(meanA4_6)\n",
        "\n",
        "labA4_6 = list()\n",
        "for i in range(3):\n",
        "    labA4_6.append(meanA4_6[:,i].mean())\n",
        "labA4_6"
      ],
      "execution_count": null,
      "outputs": [
        {
          "output_type": "execute_result",
          "data": {
            "text/plain": [
              "[184.97516435354274, 129.89976462949437, 159.45840435029623]"
            ]
          },
          "metadata": {},
          "execution_count": 288
        }
      ]
    },
    {
      "cell_type": "markdown",
      "metadata": {
        "id": "OAQtt2AILBUb"
      },
      "source": [
        "B1"
      ]
    },
    {
      "cell_type": "code",
      "metadata": {
        "id": "3ufaRQmxK8pb",
        "colab": {
          "base_uri": "https://localhost:8080/"
        },
        "outputId": "26bb8afc-672d-443a-89e7-93455206e1c5"
      },
      "source": [
        "meanB1_1 = list() \n",
        "for i in range(LAB_imgB1_01.shape[0]): \n",
        "     for j in range(LAB_imgB1_01.shape[1]): \n",
        "                if 1769<i<1881 and 2019<j<2131 :\n",
        "                    meanB1_1.append(LAB_imgB1_01[i][j])\n",
        "meanB1_1 = np.array(meanB1_1)\n",
        "\n",
        "labB1_1 = list()\n",
        "for i in range(3):\n",
        "    labB1_1.append(meanB1_1[:,i].mean())\n",
        "labB1_1"
      ],
      "execution_count": null,
      "outputs": [
        {
          "output_type": "execute_result",
          "data": {
            "text/plain": [
              "[196.9264670075481, 125.67161756350946, 148.04155506858208]"
            ]
          },
          "metadata": {},
          "execution_count": 289
        }
      ]
    },
    {
      "cell_type": "code",
      "metadata": {
        "id": "JtPJSupiMziF",
        "colab": {
          "base_uri": "https://localhost:8080/"
        },
        "outputId": "df24ba6b-7a23-44a1-c88f-3d8740f66320"
      },
      "source": [
        "meanB1_2 = list() \n",
        "for i in range(LAB_imgB1_02.shape[0]): \n",
        "     for j in range(LAB_imgB1_02.shape[1]): \n",
        "                if 1769<i<1881 and 2019<j<2131 :\n",
        "                    meanB1_2.append(LAB_imgB1_02[i][j])\n",
        "meanB1_2 = np.array(meanB1_2)\n",
        "\n",
        "labB1_2 = list()\n",
        "for i in range(3):\n",
        "    labB1_2.append(meanB1_2[:,i].mean())\n",
        "labB1_2"
      ],
      "execution_count": null,
      "outputs": [
        {
          "output_type": "execute_result",
          "data": {
            "text/plain": [
              "[194.45458972486, 125.22116711305901, 148.0874928983037]"
            ]
          },
          "metadata": {},
          "execution_count": 290
        }
      ]
    },
    {
      "cell_type": "code",
      "metadata": {
        "id": "_SALE1tKNOpm",
        "colab": {
          "base_uri": "https://localhost:8080/"
        },
        "outputId": "985e9911-7a51-45b2-8cb8-6d203facbf8d"
      },
      "source": [
        "meanB1_7 = list() \n",
        "for i in range(LAB_imgB1_07.shape[0]): \n",
        "     for j in range(LAB_imgB1_07.shape[1]): \n",
        "                if 1769<i<1881 and 2019<j<2131 :\n",
        "                    meanB1_7.append(LAB_imgB1_07[i][j])\n",
        "meanB1_7 = np.array(meanB1_7)\n",
        "\n",
        "labB1_7 = list()\n",
        "for i in range(3):\n",
        "    labB1_7.append(meanB1_7[:,i].mean())\n",
        "labB1_7 "
      ],
      "execution_count": null,
      "outputs": [
        {
          "output_type": "execute_result",
          "data": {
            "text/plain": [
              "[197.14714714714714, 125.79254930606282, 148.00446392338284]"
            ]
          },
          "metadata": {},
          "execution_count": 291
        }
      ]
    },
    {
      "cell_type": "code",
      "metadata": {
        "id": "vR6O_RooNDiy",
        "colab": {
          "base_uri": "https://localhost:8080/"
        },
        "outputId": "63e68911-cb6c-4a92-a910-f2b90327056d"
      },
      "source": [
        "meanB1_9 = list() \n",
        "for i in range(LAB_imgB1_09.shape[0]): \n",
        "     for j in range(LAB_imgB1_09.shape[1]): \n",
        "                if 1769<i<1881 and 2019<j<2131 :\n",
        "                    meanB1_9.append(LAB_imgB1_09[i][j])\n",
        "meanB1_9 = np.array(meanB1_9)\n",
        "\n",
        "labB1_9 = list()\n",
        "for i in range(3):\n",
        "    labB1_9.append(meanB1_9[:,i].mean())\n",
        "labB1_9"
      ],
      "execution_count": null,
      "outputs": [
        {
          "output_type": "execute_result",
          "data": {
            "text/plain": [
              "[197.01655709763818, 125.83077672266862, 147.92386981576172]"
            ]
          },
          "metadata": {},
          "execution_count": 292
        }
      ]
    },
    {
      "cell_type": "markdown",
      "metadata": {
        "id": "9VIiGheNOIj8"
      },
      "source": [
        "B2"
      ]
    },
    {
      "cell_type": "code",
      "metadata": {
        "id": "N2MDc6V8OKqr",
        "colab": {
          "base_uri": "https://localhost:8080/"
        },
        "outputId": "44e353b2-8ac4-453a-e8f6-f604ae80c11a"
      },
      "source": [
        "meanB2_5 = list() \n",
        "for i in range(LAB_imgB2_05.shape[0]): \n",
        "     for j in range(LAB_imgB2_05.shape[1]): \n",
        "                if 1769<i<1881 and 2019<j<2131 :\n",
        "                    meanB2_5.append(LAB_imgB2_05[i][j])\n",
        "meanB2_5 = np.array(meanB2_5)\n",
        "\n",
        "labB2_5 = list()\n",
        "for i in range(3):\n",
        "    labB2_5.append(meanB2_5[:,i].mean())\n",
        "labB2_5"
      ],
      "execution_count": null,
      "outputs": [
        {
          "output_type": "execute_result",
          "data": {
            "text/plain": [
              "[192.1203636068501, 125.78654330005682, 155.71244217190164]"
            ]
          },
          "metadata": {},
          "execution_count": 293
        }
      ]
    },
    {
      "cell_type": "code",
      "metadata": {
        "id": "5blnCh0NONhc",
        "colab": {
          "base_uri": "https://localhost:8080/"
        },
        "outputId": "b33b4acc-3eb3-47a0-de0f-07a2b7188bc8"
      },
      "source": [
        "meanB2_6 = list() \n",
        "for i in range(LAB_imgB2_06.shape[0]): \n",
        "     for j in range(LAB_imgB2_06.shape[1]): \n",
        "                if 1769<i<1881 and 2019<j<2131 :\n",
        "                    meanB2_6.append(LAB_imgB2_06[i][j])\n",
        "meanB2_6 = np.array(meanB2_6)\n",
        "\n",
        "labB2_6 = list()\n",
        "for i in range(3):\n",
        "    labB2_6.append(meanB2_6[:,i].mean())\n",
        "labB2_6"
      ],
      "execution_count": null,
      "outputs": [
        {
          "output_type": "execute_result",
          "data": {
            "text/plain": [
              "[192.67121175229283, 125.81089197305414, 155.51432513594676]"
            ]
          },
          "metadata": {},
          "execution_count": 294
        }
      ]
    },
    {
      "cell_type": "code",
      "metadata": {
        "id": "PtXEtBaBONXt",
        "colab": {
          "base_uri": "https://localhost:8080/"
        },
        "outputId": "8ef52f53-bdfb-40b6-fb7f-7fa8525c700f"
      },
      "source": [
        "meanB2_7 = list() \n",
        "for i in range(LAB_imgB2_07.shape[0]): \n",
        "     for j in range(LAB_imgB2_07.shape[1]): \n",
        "                if 1769<i<1881 and 2019<j<2131 :\n",
        "                    meanB2_7.append(LAB_imgB2_07[i][j])\n",
        "meanB2_7 = np.array(meanB2_7)\n",
        "\n",
        "labB2_7 = list()\n",
        "for i in range(3):\n",
        "    labB2_7.append(meanB2_7[:,i].mean())\n",
        "labB2_7"
      ],
      "execution_count": null,
      "outputs": [
        {
          "output_type": "execute_result",
          "data": {
            "text/plain": [
              "[192.36141546952356, 125.92979465952439, 155.48526905283663]"
            ]
          },
          "metadata": {},
          "execution_count": 296
        }
      ]
    },
    {
      "cell_type": "code",
      "metadata": {
        "id": "lkYUVq43OM9Q",
        "colab": {
          "base_uri": "https://localhost:8080/"
        },
        "outputId": "4fe41a2b-3bc9-449d-ff7f-3f79034b395d"
      },
      "source": [
        "meanB2_8 = list() \n",
        "for i in range(LAB_imgB2_08.shape[0]): \n",
        "     for j in range(LAB_imgB2_08.shape[1]): \n",
        "                if 1769<i<1881 and 2019<j<2131 :\n",
        "                    meanB2_8.append(LAB_imgB2_08[i][j])\n",
        "meanB2_8 = np.array(meanB2_8)\n",
        "\n",
        "labB2_8 = list()\n",
        "for i in range(3):\n",
        "    labB2_8.append(meanB2_8[:,i].mean())\n",
        "labB2_8"
      ],
      "execution_count": null,
      "outputs": [
        {
          "output_type": "execute_result",
          "data": {
            "text/plain": [
              "[194.3748072396721, 125.80464248031815, 155.23853583313044]"
            ]
          },
          "metadata": {},
          "execution_count": 297
        }
      ]
    },
    {
      "cell_type": "markdown",
      "metadata": {
        "id": "sDpqJ0vsO4pf"
      },
      "source": [
        "B3"
      ]
    },
    {
      "cell_type": "code",
      "metadata": {
        "id": "12x1GgEbO6gG",
        "colab": {
          "base_uri": "https://localhost:8080/"
        },
        "outputId": "8829616c-3504-4454-90d8-7c930a26d96e"
      },
      "source": [
        "meanB3_1 = list() \n",
        "for i in range(LAB_imgB3_01.shape[0]): \n",
        "     for j in range(LAB_imgB3_01.shape[1]): \n",
        "                if 1769<i<1881 and 2019<j<2131 :\n",
        "                    meanB3_1.append(LAB_imgB3_01[i][j])\n",
        "meanB3_1 = np.array(meanB3_1)\n",
        "\n",
        "labB3_1 = list()\n",
        "for i in range(3):\n",
        "    labB3_1.append(meanB3_1[:,i].mean())\n",
        "labB3_1"
      ],
      "execution_count": null,
      "outputs": [
        {
          "output_type": "execute_result",
          "data": {
            "text/plain": [
              "[189.19073127181235, 127.9331223115007, 160.14341368395424]"
            ]
          },
          "metadata": {},
          "execution_count": 298
        }
      ]
    },
    {
      "cell_type": "code",
      "metadata": {
        "id": "Q4ARs8laRJON",
        "colab": {
          "base_uri": "https://localhost:8080/"
        },
        "outputId": "d521a1cd-36ed-43d6-9d22-ebe10ec056d9"
      },
      "source": [
        "meanB3_3 = list() \n",
        "for i in range(LAB_imgB3_03.shape[0]): \n",
        "     for j in range(LAB_imgB3_03.shape[1]): \n",
        "                if 1769<i<1881 and 2019<j<2131 :\n",
        "                    meanB3_3.append(LAB_imgB3_03[i][j])\n",
        "meanB3_3 = np.array(meanB3_3)\n",
        "\n",
        "labB3_3 = list()\n",
        "for i in range(3):\n",
        "    labB3_3.append(meanB3_3[:,i].mean())\n",
        "labB3_3"
      ],
      "execution_count": null,
      "outputs": [
        {
          "output_type": "execute_result",
          "data": {
            "text/plain": [
              "[189.99610421232043, 127.59800340881422, 159.9820631442253]"
            ]
          },
          "metadata": {},
          "execution_count": 299
        }
      ]
    },
    {
      "cell_type": "code",
      "metadata": {
        "id": "cO0CReiARJrJ",
        "colab": {
          "base_uri": "https://localhost:8080/"
        },
        "outputId": "ce291695-e44a-44cf-d8ba-9f003a7c50d6"
      },
      "source": [
        "meanB3_6 = list() \n",
        "for i in range(LAB_imgB3_06.shape[0]): \n",
        "     for j in range(LAB_imgB3_06.shape[1]): \n",
        "                if 1769<i<1881 and 2019<j<2131 :\n",
        "                    meanB3_6.append(LAB_imgB3_06[i][j])\n",
        "meanB3_6 = np.array(meanB3_6)\n",
        "\n",
        "labB3_6 = list()\n",
        "for i in range(3):\n",
        "    labB3_6.append(meanB3_6[:,i].mean())\n",
        "labB3_6"
      ],
      "execution_count": null,
      "outputs": [
        {
          "output_type": "execute_result",
          "data": {
            "text/plain": [
              "[188.4177420663907, 128.12028244460677, 159.47130914698482]"
            ]
          },
          "metadata": {},
          "execution_count": 300
        }
      ]
    },
    {
      "cell_type": "code",
      "metadata": {
        "id": "_MU7U9bZRKCN",
        "colab": {
          "base_uri": "https://localhost:8080/"
        },
        "outputId": "51b15e11-a4e9-4030-df6a-862626774ab3"
      },
      "source": [
        "meanB3_10 = list() \n",
        "for i in range(LAB_imgB3_10.shape[0]): \n",
        "     for j in range(LAB_imgB3_10.shape[1]): \n",
        "                if 1769<i<1881 and 2019<j<2131 :\n",
        "                    meanB3_10.append(LAB_imgB3_10[i][j])\n",
        "meanB3_10 = np.array(meanB3_10)\n",
        "\n",
        "labB3_10 = list()\n",
        "for i in range(3):\n",
        "    labB3_10.append(meanB3_10[:,i].mean())\n",
        "labB3_10"
      ],
      "execution_count": null,
      "outputs": [
        {
          "output_type": "execute_result",
          "data": {
            "text/plain": [
              "[190.36084733382032, 127.21491762032302, 160.06639071503938]"
            ]
          },
          "metadata": {},
          "execution_count": 301
        }
      ]
    },
    {
      "cell_type": "markdown",
      "metadata": {
        "id": "6K_S-0DGRYPG"
      },
      "source": [
        "B4"
      ]
    },
    {
      "cell_type": "code",
      "metadata": {
        "id": "KQE8feTgRoWm",
        "colab": {
          "base_uri": "https://localhost:8080/"
        },
        "outputId": "8d34dade-f5c0-4988-8f3c-4192447409af"
      },
      "source": [
        "meanB4_1 = list() \n",
        "for i in range(LAB_imgB4_01.shape[0]): \n",
        "     for j in range(LAB_imgB4_01.shape[1]): \n",
        "                if 1769<i<1881 and 2019<j<2131 :\n",
        "                    meanB4_1.append(LAB_imgB4_01[i][j])\n",
        "meanB4_1 = np.array(meanB4_1)\n",
        "\n",
        "labB4_1 = list()\n",
        "for i in range(3):\n",
        "    labB4_1.append(meanB4_1[:,i].mean())\n",
        "labB4_1"
      ],
      "execution_count": null,
      "outputs": [
        {
          "output_type": "execute_result",
          "data": {
            "text/plain": [
              "[227.57284311338364, 125.24632740848958, 163.29770310851393]"
            ]
          },
          "metadata": {},
          "execution_count": 302
        }
      ]
    },
    {
      "cell_type": "code",
      "metadata": {
        "id": "2Otz1VLHRZHL",
        "colab": {
          "base_uri": "https://localhost:8080/"
        },
        "outputId": "af72f13e-197b-4d66-80b7-407aa6fff974"
      },
      "source": [
        "meanB4_2 = list() \n",
        "for i in range(LAB_imgB4_02.shape[0]): \n",
        "     for j in range(LAB_imgB4_02.shape[1]): \n",
        "                if 1769<i<1881 and 2019<j<2131 :\n",
        "                    meanB4_2.append(LAB_imgB4_02[i][j])\n",
        "meanB4_2 = np.array(meanB4_2)\n",
        "\n",
        "labB4_2 = list()\n",
        "for i in range(3):\n",
        "    labB4_2.append(meanB4_2[:,i].mean())\n",
        "labB4_2"
      ],
      "execution_count": null,
      "outputs": [
        {
          "output_type": "execute_result",
          "data": {
            "text/plain": [
              "[233.71008846684524, 124.82826069312556, 161.77777777777777]"
            ]
          },
          "metadata": {},
          "execution_count": 303
        }
      ]
    },
    {
      "cell_type": "code",
      "metadata": {
        "id": "OPT8bQl1Rz9O",
        "colab": {
          "base_uri": "https://localhost:8080/"
        },
        "outputId": "65a417e5-6085-482a-c1a7-23a2f5e8bf2d"
      },
      "source": [
        "meanB4_8 = list() \n",
        "for i in range(LAB_imgB4_08.shape[0]): \n",
        "     for j in range(LAB_imgB4_08.shape[1]): \n",
        "                if 1769<i<1881 and 2019<j<2131 :\n",
        "                    meanB4_8.append(LAB_imgB4_08[i][j])\n",
        "meanB4_8 = np.array(meanB4_8)\n",
        "\n",
        "labB4_8 = list()\n",
        "for i in range(3):\n",
        "    labB4_8.append(meanB4_8[:,i].mean())\n",
        "labB4_8"
      ],
      "execution_count": null,
      "outputs": [
        {
          "output_type": "execute_result",
          "data": {
            "text/plain": [
              "[185.77006736466197, 128.26223520818115, 160.88694099504912]"
            ]
          },
          "metadata": {},
          "execution_count": 304
        }
      ]
    },
    {
      "cell_type": "code",
      "metadata": {
        "id": "jX-vx3sJRu0p",
        "colab": {
          "base_uri": "https://localhost:8080/"
        },
        "outputId": "f3c1b2c4-11c2-44c5-b90a-12fbe5121811"
      },
      "source": [
        "meanB4_10 = list() \n",
        "for i in range(LAB_imgB4_10.shape[0]): \n",
        "     for j in range(LAB_imgB4_10.shape[1]): \n",
        "                if 1769<i<1881 and 2019<j<2131 :\n",
        "                    meanB4_10.append(LAB_imgB4_10[i][j])\n",
        "meanB4_10 = np.array(meanB4_10)\n",
        "\n",
        "labB4_10 = list()\n",
        "for i in range(3):\n",
        "    labB4_10.append(meanB4_10[:,i].mean())\n",
        "labB4_10"
      ],
      "execution_count": null,
      "outputs": [
        {
          "output_type": "execute_result",
          "data": {
            "text/plain": [
              "[187.53266780293808, 128.4239915591267, 160.81202824446066]"
            ]
          },
          "metadata": {},
          "execution_count": 305
        }
      ]
    },
    {
      "cell_type": "markdown",
      "metadata": {
        "id": "0q2eJezyR6sL"
      },
      "source": [
        "C1"
      ]
    },
    {
      "cell_type": "code",
      "metadata": {
        "id": "ya636PpxR-HY",
        "colab": {
          "base_uri": "https://localhost:8080/"
        },
        "outputId": "d606beda-e2e8-477b-c5c0-e4b98e2e1fd0"
      },
      "source": [
        "meanC1_1 = list() \n",
        "for i in range(LAB_imgC1_01.shape[0]): \n",
        "     for j in range(LAB_imgC1_01.shape[1]): \n",
        "                if 1769<i<1881 and 2019<j<2131 :\n",
        "                    meanC1_1.append(LAB_imgC1_01[i][j])\n",
        "meanC1_1 = np.array(meanC1_1)\n",
        "\n",
        "labC1_1 = list()\n",
        "for i in range(3):\n",
        "    labC1_1.append(meanC1_1[:,i].mean())\n",
        "labC1_1"
      ],
      "execution_count": null,
      "outputs": [
        {
          "output_type": "execute_result",
          "data": {
            "text/plain": [
              "[189.67502637772907, 126.11070529989449, 151.9513838162487]"
            ]
          },
          "metadata": {},
          "execution_count": 306
        }
      ]
    },
    {
      "cell_type": "code",
      "metadata": {
        "id": "SxhlA1QRR-dY",
        "colab": {
          "base_uri": "https://localhost:8080/"
        },
        "outputId": "0cbb8499-784e-4c45-a896-41d42b080f11"
      },
      "source": [
        "meanC1_2 = list() \n",
        "for i in range(LAB_imgC1_02.shape[0]): \n",
        "     for j in range(LAB_imgC1_02.shape[1]): \n",
        "                if 1769<i<1881 and 2019<j<2131 :\n",
        "                    meanC1_2.append(LAB_imgC1_02[i][j])\n",
        "meanC1_2 = np.array(meanC1_2)\n",
        "\n",
        "labC1_2 = list()\n",
        "for i in range(3):\n",
        "    labC1_2.append(meanC1_2[:,i].mean())\n",
        "labC1_2"
      ],
      "execution_count": null,
      "outputs": [
        {
          "output_type": "execute_result",
          "data": {
            "text/plain": [
              "[190.38130021913807, 126.06298190081974, 151.68752536320105]"
            ]
          },
          "metadata": {},
          "execution_count": 307
        }
      ]
    },
    {
      "cell_type": "code",
      "metadata": {
        "id": "LZSCuqVaSwok",
        "colab": {
          "base_uri": "https://localhost:8080/"
        },
        "outputId": "0154361c-a67b-4714-e927-4a9557f20685"
      },
      "source": [
        "meanC1_5 = list() \n",
        "for i in range(LAB_imgC1_05.shape[0]): \n",
        "     for j in range(LAB_imgC1_05.shape[1]): \n",
        "                if 1769<i<1881 and 2019<j<2131 :\n",
        "                    meanC1_5.append(LAB_imgC1_05[i][j])\n",
        "meanC1_5 = np.array(meanC1_5)\n",
        "\n",
        "labC1_5 = list()\n",
        "for i in range(3):\n",
        "    labC1_5.append(meanC1_5[:,i].mean())\n",
        "labC1_5"
      ],
      "execution_count": null,
      "outputs": [
        {
          "output_type": "execute_result",
          "data": {
            "text/plain": [
              "[192.70148526905282, 126.00941482022563, 151.7824851878906]"
            ]
          },
          "metadata": {},
          "execution_count": 308
        }
      ]
    },
    {
      "cell_type": "code",
      "metadata": {
        "id": "zaEcF9R7S2e9",
        "colab": {
          "base_uri": "https://localhost:8080/"
        },
        "outputId": "c231cc86-c4d5-43cd-d325-8b53bf3a2860"
      },
      "source": [
        "meanC1_9 = list() \n",
        "for i in range(LAB_imgC1_09.shape[0]): \n",
        "     for j in range(LAB_imgC1_09.shape[1]): \n",
        "                if 1769<i<1881 and 2019<j<2131 :\n",
        "                    meanC1_9.append(LAB_imgC1_09[i][j])\n",
        "meanC1_9 = np.array(meanC1_9)\n",
        "\n",
        "labC1_9 = list()\n",
        "for i in range(3):\n",
        "    labC1_9.append(meanC1_9[:,i].mean())\n",
        "labC1_9"
      ],
      "execution_count": null,
      "outputs": [
        {
          "output_type": "execute_result",
          "data": {
            "text/plain": [
              "[191.98741985228472, 126.05178151124097, 151.59215972729487]"
            ]
          },
          "metadata": {},
          "execution_count": 309
        }
      ]
    },
    {
      "cell_type": "markdown",
      "metadata": {
        "id": "7v0CVQ3eS79F"
      },
      "source": [
        "C2"
      ]
    },
    {
      "cell_type": "code",
      "metadata": {
        "id": "lner_FoXS9Aa",
        "colab": {
          "base_uri": "https://localhost:8080/"
        },
        "outputId": "733138d2-8f39-4d31-bed0-bf77aaed3675"
      },
      "source": [
        "meanC2_1 = list() \n",
        "for i in range(LAB_imgC2_01.shape[0]): \n",
        "     for j in range(LAB_imgC2_01.shape[1]): \n",
        "                if 1769<i<1881 and 2019<j<2131 :\n",
        "                    meanC2_1.append(LAB_imgC2_01[i][j])\n",
        "meanC2_1 = np.array(meanC2_1)\n",
        "\n",
        "labC2_1 = list()\n",
        "for i in range(3):\n",
        "    labC2_1.append(meanC2_1[:,i].mean())\n",
        "labC2_1"
      ],
      "execution_count": null,
      "outputs": [
        {
          "output_type": "execute_result",
          "data": {
            "text/plain": [
              "[184.12377242106973, 127.20063306549793, 153.2132132132132]"
            ]
          },
          "metadata": {},
          "execution_count": 310
        }
      ]
    },
    {
      "cell_type": "code",
      "metadata": {
        "id": "ynKP6UMeTIph",
        "colab": {
          "base_uri": "https://localhost:8080/"
        },
        "outputId": "95af4afd-d981-40fb-94e2-62bd39c839ae"
      },
      "source": [
        "meanC2_3 = list() \n",
        "for i in range(LAB_imgC2_03.shape[0]): \n",
        "     for j in range(LAB_imgC2_03.shape[1]): \n",
        "                if 1769<i<1881 and 2019<j<2131 :\n",
        "                    meanC2_3.append(LAB_imgC2_03[i][j])\n",
        "meanC2_3 = np.array(meanC2_3)\n",
        "\n",
        "labC2_3 = list()\n",
        "for i in range(3):\n",
        "    labC2_3.append(meanC2_3[:,i].mean())\n",
        "labC2_3"
      ],
      "execution_count": null,
      "outputs": [
        {
          "output_type": "execute_result",
          "data": {
            "text/plain": [
              "[186.41717393068745, 127.33430728025323, 153.45840435029623]"
            ]
          },
          "metadata": {},
          "execution_count": 311
        }
      ]
    },
    {
      "cell_type": "code",
      "metadata": {
        "id": "E93hzyazUE1G",
        "colab": {
          "base_uri": "https://localhost:8080/"
        },
        "outputId": "02c17352-3943-4fb0-83de-fa4d11a77746"
      },
      "source": [
        "meanC2_5 = list() \n",
        "for i in range(LAB_imgC2_05.shape[0]): \n",
        "     for j in range(LAB_imgC2_05.shape[1]): \n",
        "                if 1769<i<1881 and 2019<j<2131 :\n",
        "                    meanC2_5.append(LAB_imgC2_05[i][j])\n",
        "meanC2_5 = np.array(meanC2_5)\n",
        "\n",
        "labC2_5 = list()\n",
        "for i in range(3):\n",
        "    labC2_5.append(meanC2_5[:,i].mean())\n",
        "labC2_5"
      ],
      "execution_count": null,
      "outputs": [
        {
          "output_type": "execute_result",
          "data": {
            "text/plain": [
              "[186.01550198847497, 127.43024105186268, 153.83515948380813]"
            ]
          },
          "metadata": {},
          "execution_count": 312
        }
      ]
    },
    {
      "cell_type": "code",
      "metadata": {
        "id": "eQ6z3tyhURGG",
        "colab": {
          "base_uri": "https://localhost:8080/"
        },
        "outputId": "ed7bf341-8a3a-4f82-87a2-3cf454f25abe"
      },
      "source": [
        "meanC2_7 = list() \n",
        "for i in range(LAB_imgC2_07.shape[0]): \n",
        "     for j in range(LAB_imgC2_07.shape[1]): \n",
        "                if 1769<i<1881 and 2019<j<2131 :\n",
        "                    meanC2_7.append(LAB_imgC2_07[i][j])\n",
        "meanC2_7 = np.array(meanC2_7)\n",
        "\n",
        "labC2_7 = list()\n",
        "for i in range(3):\n",
        "    labC2_7.append(meanC2_7[:,i].mean())\n",
        "labC2_7"
      ],
      "execution_count": null,
      "outputs": [
        {
          "output_type": "execute_result",
          "data": {
            "text/plain": [
              "[185.70456943429917, 127.51010469929389, 153.80504829153477]"
            ]
          },
          "metadata": {},
          "execution_count": 313
        }
      ]
    },
    {
      "cell_type": "markdown",
      "metadata": {
        "id": "_gAxAhYBUYIK"
      },
      "source": [
        "C3"
      ]
    },
    {
      "cell_type": "code",
      "metadata": {
        "id": "PnODt_2UUY2N",
        "colab": {
          "base_uri": "https://localhost:8080/"
        },
        "outputId": "16744494-ad33-4b79-c30d-28110f0bb11e"
      },
      "source": [
        "meanC3_2 = list() \n",
        "for i in range(LAB_imgC3_02.shape[0]): \n",
        "     for j in range(LAB_imgC3_02.shape[1]): \n",
        "                if 1769<i<1881 and 2019<j<2131 :\n",
        "                    meanC3_2.append(LAB_imgC3_02[i][j])\n",
        "meanC3_2 = np.array(meanC3_2)\n",
        "\n",
        "labC3_2 = list()\n",
        "for i in range(3):\n",
        "    labC3_2.append(meanC3_2[:,i].mean())\n",
        "labC3_2"
      ],
      "execution_count": null,
      "outputs": [
        {
          "output_type": "execute_result",
          "data": {
            "text/plain": [
              "[184.5417579741904, 129.03830857884913, 155.45734924113302]"
            ]
          },
          "metadata": {},
          "execution_count": 314
        }
      ]
    },
    {
      "cell_type": "code",
      "metadata": {
        "id": "4vYztEifVL9j",
        "colab": {
          "base_uri": "https://localhost:8080/"
        },
        "outputId": "195223b1-b42d-4839-a44f-a8dfc66a9f30"
      },
      "source": [
        "meanC3_3 = list() \n",
        "for i in range(LAB_imgC3_03.shape[0]): \n",
        "     for j in range(LAB_imgC3_03.shape[1]): \n",
        "                if 1769<i<1881 and 2019<j<2131 :\n",
        "                    meanC3_3.append(LAB_imgC3_03[i][j])\n",
        "meanC3_3 = np.array(meanC3_3)\n",
        "\n",
        "labC3_3 = list()\n",
        "for i in range(3):\n",
        "    labC3_3.append(meanC3_3[:,i].mean())\n",
        "labC3_3"
      ],
      "execution_count": null,
      "outputs": [
        {
          "output_type": "execute_result",
          "data": {
            "text/plain": [
              "[183.0215891567243, 128.97597597597598, 155.76195114032953]"
            ]
          },
          "metadata": {},
          "execution_count": 315
        }
      ]
    },
    {
      "cell_type": "code",
      "metadata": {
        "id": "RgAVjILGVVVi",
        "colab": {
          "base_uri": "https://localhost:8080/"
        },
        "outputId": "bef54b16-ea4d-4302-f0a8-28af7060b864"
      },
      "source": [
        "meanC3_6 = list() \n",
        "for i in range(LAB_imgC3_06.shape[0]): \n",
        "     for j in range(LAB_imgC3_06.shape[1]): \n",
        "                if 1769<i<1881 and 2019<j<2131 :\n",
        "                    meanC3_6.append(LAB_imgC3_06[i][j])\n",
        "meanC3_6 = np.array(meanC3_6)\n",
        "\n",
        "labC3_6 = list()\n",
        "for i in range(3):\n",
        "    labC3_6.append(meanC3_6[:,i].mean())\n",
        "labC3_6"
      ],
      "execution_count": null,
      "outputs": [
        {
          "output_type": "execute_result",
          "data": {
            "text/plain": [
              "[185.4626247869491, 129.102832562292, 155.1396802207613]"
            ]
          },
          "metadata": {},
          "execution_count": 316
        }
      ]
    },
    {
      "cell_type": "code",
      "metadata": {
        "id": "E2A3VnaTVhdF",
        "colab": {
          "base_uri": "https://localhost:8080/"
        },
        "outputId": "a287f69e-ee0a-4f2e-eb47-cd68fc6e3fd2"
      },
      "source": [
        "meanC3_9 = list() \n",
        "for i in range(LAB_imgC3_09.shape[0]): \n",
        "     for j in range(LAB_imgC3_09.shape[1]): \n",
        "                if 1769<i<1881 and 2019<j<2131 :\n",
        "                    meanC3_9.append(LAB_imgC3_09[i][j])\n",
        "meanC3_9 = np.array(meanC3_9)\n",
        "\n",
        "labC3_9 = list()\n",
        "for i in range(3):\n",
        "    labC3_9.append(meanC3_9[:,i].mean())\n",
        "labC3_9"
      ],
      "execution_count": null,
      "outputs": [
        {
          "output_type": "execute_result",
          "data": {
            "text/plain": [
              "[185.39923707491275, 129.1835078321565, 155.1585910234559]"
            ]
          },
          "metadata": {},
          "execution_count": 317
        }
      ]
    },
    {
      "cell_type": "markdown",
      "metadata": {
        "id": "wozLumwnVpsd"
      },
      "source": [
        "C4"
      ]
    },
    {
      "cell_type": "code",
      "metadata": {
        "id": "L4-leGI1Vpep",
        "colab": {
          "base_uri": "https://localhost:8080/"
        },
        "outputId": "34edb6d0-3ac4-4f7e-8c43-b99e210f4c4b"
      },
      "source": [
        "meanC4_1 = list() \n",
        "for i in range(LAB_imgC4_01.shape[0]): \n",
        "     for j in range(LAB_imgC4_01.shape[1]): \n",
        "                if 1769<i<1881 and 2019<j<2131 :\n",
        "                    meanC4_1.append(LAB_imgC4_01[i][j])\n",
        "meanC4_1 = np.array(meanC4_1)\n",
        "\n",
        "labC4_1 = list()\n",
        "for i in range(3):\n",
        "    labC4_1.append(meanC4_1[:,i].mean())\n",
        "labC4_1"
      ],
      "execution_count": null,
      "outputs": [
        {
          "output_type": "execute_result",
          "data": {
            "text/plain": [
              "[179.49582014446878, 129.66488109731353, 157.63192922652382]"
            ]
          },
          "metadata": {},
          "execution_count": 318
        }
      ]
    },
    {
      "cell_type": "code",
      "metadata": {
        "id": "wCstVvzCW3ch",
        "colab": {
          "base_uri": "https://localhost:8080/"
        },
        "outputId": "cac12887-171c-4b7e-c418-28160383c3a4"
      },
      "source": [
        "meanC4_4 = list() \n",
        "for i in range(LAB_imgC4_04.shape[0]): \n",
        "     for j in range(LAB_imgC4_04.shape[1]): \n",
        "                if 1769<i<1881 and 2019<j<2131 :\n",
        "                    meanC4_4.append(LAB_imgC4_04[i][j])\n",
        "meanC4_4 = np.array(meanC4_4)\n",
        "\n",
        "labC4_4 = list()\n",
        "for i in range(3):\n",
        "    labC4_4.append(meanC4_4[:,i].mean())\n",
        "labC4_4"
      ],
      "execution_count": null,
      "outputs": [
        {
          "output_type": "execute_result",
          "data": {
            "text/plain": [
              "[180.32115899683467, 129.61082704325946, 157.8779319860401]"
            ]
          },
          "metadata": {},
          "execution_count": 319
        }
      ]
    },
    {
      "cell_type": "code",
      "metadata": {
        "id": "oZ5wcP8wW4l-",
        "colab": {
          "base_uri": "https://localhost:8080/"
        },
        "outputId": "caf4db68-e8cf-492e-8e3c-5187bc09d008"
      },
      "source": [
        "meanC4_5 = list() \n",
        "for i in range(LAB_imgC4_05.shape[0]): \n",
        "     for j in range(LAB_imgC4_05.shape[1]): \n",
        "                if 1769<i<1881 and 2019<j<2131 :\n",
        "                    meanC4_5.append(LAB_imgC4_05[i][j])\n",
        "meanC4_5 = np.array(meanC4_5)\n",
        "\n",
        "labC4_5 = list()\n",
        "for i in range(3):\n",
        "    labC4_5.append(meanC4_5[:,i].mean())\n",
        "labC4_5"
      ],
      "execution_count": null,
      "outputs": [
        {
          "output_type": "execute_result",
          "data": {
            "text/plain": [
              "[177.16086356626897, 129.8463598733869, 157.26889051213377]"
            ]
          },
          "metadata": {},
          "execution_count": 320
        }
      ]
    },
    {
      "cell_type": "code",
      "metadata": {
        "id": "4RbAizT-W5AI",
        "colab": {
          "base_uri": "https://localhost:8080/"
        },
        "outputId": "0f598d14-7dbe-4164-85b8-840327825b7b"
      },
      "source": [
        "meanC4_6 = list() \n",
        "for i in range(LAB_imgC4_06.shape[0]): \n",
        "     for j in range(LAB_imgC4_06.shape[1]): \n",
        "                if 1769<i<1881 and 2019<j<2131 :\n",
        "                    meanC4_6.append(LAB_imgC4_06[i][j])\n",
        "meanC4_6 = np.array(meanC4_6)\n",
        "\n",
        "labC4_6 = list()\n",
        "for i in range(3):\n",
        "    labC4_6.append(meanC4_6[:,i].mean())\n",
        "labC4_6"
      ],
      "execution_count": null,
      "outputs": [
        {
          "output_type": "execute_result",
          "data": {
            "text/plain": [
              "[179.21475529583637, 129.89473257040825, 157.66918269620973]"
            ]
          },
          "metadata": {},
          "execution_count": 321
        }
      ]
    },
    {
      "cell_type": "markdown",
      "metadata": {
        "id": "zKlDyQHQXMFL"
      },
      "source": [
        "D2"
      ]
    },
    {
      "cell_type": "code",
      "metadata": {
        "id": "Ul4cDLOoXL2B",
        "colab": {
          "base_uri": "https://localhost:8080/"
        },
        "outputId": "37583982-3522-4895-b2b5-d7a1be62bcfc"
      },
      "source": [
        "meanD2_1 = list() \n",
        "for i in range(LAB_imgD2_01.shape[0]): \n",
        "     for j in range(LAB_imgD2_01.shape[1]): \n",
        "                if 1769<i<1881 and 2019<j<2131 :\n",
        "                    meanD2_1.append(LAB_imgD2_01[i][j])\n",
        "meanD2_1 = np.array(meanD2_1)\n",
        "\n",
        "labD2_1 = list()\n",
        "for i in range(3):\n",
        "    labD2_1.append(meanD2_1[:,i].mean())\n",
        "labD2_1"
      ],
      "execution_count": null,
      "outputs": [
        {
          "output_type": "execute_result",
          "data": {
            "text/plain": [
              "[190.15209804398992, 127.01087574060547, 149.39168898628358]"
            ]
          },
          "metadata": {},
          "execution_count": 322
        }
      ]
    },
    {
      "cell_type": "code",
      "metadata": {
        "id": "MPc9VyCaXYAE",
        "colab": {
          "base_uri": "https://localhost:8080/"
        },
        "outputId": "652883ff-62ca-4396-faa2-29e69fe2ddb5"
      },
      "source": [
        "meanD2_3 = list() \n",
        "for i in range(LAB_imgD2_03.shape[0]): \n",
        "     for j in range(LAB_imgD2_03.shape[1]): \n",
        "                if 1769<i<1881 and 2019<j<2131 :\n",
        "                    meanD2_3.append(LAB_imgD2_03[i][j])\n",
        "meanD2_3 = np.array(meanD2_3)\n",
        "\n",
        "labD2_3 = list()\n",
        "for i in range(3):\n",
        "    labD2_3.append(meanD2_3[:,i].mean())\n",
        "labD2_3"
      ],
      "execution_count": null,
      "outputs": [
        {
          "output_type": "execute_result",
          "data": {
            "text/plain": [
              "[192.10421232042853, 127.14154695235776, 150.46140735329925]"
            ]
          },
          "metadata": {},
          "execution_count": 323
        }
      ]
    },
    {
      "cell_type": "code",
      "metadata": {
        "id": "8C3joajEXZQv",
        "colab": {
          "base_uri": "https://localhost:8080/"
        },
        "outputId": "ec59c09c-2b1d-4d1c-a61a-6dd0e0f05eb0"
      },
      "source": [
        "meanD2_6 = list() \n",
        "for i in range(LAB_imgD2_06.shape[0]): \n",
        "     for j in range(LAB_imgD2_06.shape[1]): \n",
        "                if 1769<i<1881 and 2019<j<2131 :\n",
        "                    meanD2_6.append(LAB_imgD2_06[i][j])\n",
        "meanD2_6 = np.array(meanD2_6)\n",
        "\n",
        "labD2_6 = list()\n",
        "for i in range(3):\n",
        "    labD2_6.append(meanD2_6[:,i].mean())\n",
        "labD2_6"
      ],
      "execution_count": null,
      "outputs": [
        {
          "output_type": "execute_result",
          "data": {
            "text/plain": [
              "[191.88036685333984, 127.06963720477233, 150.25923220517817]"
            ]
          },
          "metadata": {},
          "execution_count": 324
        }
      ]
    },
    {
      "cell_type": "code",
      "metadata": {
        "id": "P7AmF-1OXY3y",
        "colab": {
          "base_uri": "https://localhost:8080/"
        },
        "outputId": "57a634f4-73c5-403e-9280-cd9ad4d6bdfe"
      },
      "source": [
        "meanD2_7 = list() \n",
        "for i in range(LAB_imgD2_07.shape[0]): \n",
        "     for j in range(LAB_imgD2_07.shape[1]): \n",
        "                if 1769<i<1881 and 2019<j<2131 :\n",
        "                    meanD2_7.append(LAB_imgD2_07[i][j])\n",
        "meanD2_7 = np.array(meanD2_7)\n",
        "\n",
        "labD2_7 = list()\n",
        "for i in range(3):\n",
        "    labD2_7.append(meanD2_7[:,i].mean())\n",
        "labD2_7"
      ],
      "execution_count": null,
      "outputs": [
        {
          "output_type": "execute_result",
          "data": {
            "text/plain": [
              "[191.62373183994805, 127.1652463274085, 150.28382436490546]"
            ]
          },
          "metadata": {},
          "execution_count": 325
        }
      ]
    },
    {
      "cell_type": "markdown",
      "metadata": {
        "id": "iH_Tsc2EXwLf"
      },
      "source": [
        "D3"
      ]
    },
    {
      "cell_type": "code",
      "metadata": {
        "id": "lodYBglRYq8f",
        "colab": {
          "base_uri": "https://localhost:8080/"
        },
        "outputId": "05a9d917-eff4-4ef7-d589-3093d7889fb6"
      },
      "source": [
        "meanD3_3 = list() \n",
        "for i in range(LAB_imgD3_03.shape[0]): \n",
        "     for j in range(LAB_imgD3_03.shape[1]): \n",
        "                if 1769<i<1881 and 2019<j<2131 :\n",
        "                    meanD3_3.append(LAB_imgD3_03[i][j])\n",
        "meanD3_3 = np.array(meanD3_3)\n",
        "\n",
        "labD3_3 = list()\n",
        "for i in range(3):\n",
        "    labD3_3.append(meanD3_3[:,i].mean())\n",
        "labD3_3"
      ],
      "execution_count": null,
      "outputs": [
        {
          "output_type": "execute_result",
          "data": {
            "text/plain": [
              "[187.3222141059979, 128.95917539160783, 153.8190893596299]"
            ]
          },
          "metadata": {},
          "execution_count": 326
        }
      ]
    },
    {
      "cell_type": "code",
      "metadata": {
        "id": "4HvoI0ngYv3b",
        "colab": {
          "base_uri": "https://localhost:8080/"
        },
        "outputId": "c8d6ca68-0564-4875-c0f2-bd30a9cb378d"
      },
      "source": [
        "meanD3_4 = list() \n",
        "for i in range(LAB_imgD3_04.shape[0]): \n",
        "     for j in range(LAB_imgD3_04.shape[1]): \n",
        "                if 1769<i<1881 and 2019<j<2131 :\n",
        "                    meanD3_4.append(LAB_imgD3_04[i][j])\n",
        "meanD3_4 = np.array(meanD3_4)\n",
        "\n",
        "labD3_4 = list()\n",
        "for i in range(3):\n",
        "    labD3_4.append(meanD3_4[:,i].mean())\n",
        "labD3_4"
      ],
      "execution_count": null,
      "outputs": [
        {
          "output_type": "execute_result",
          "data": {
            "text/plain": [
              "[186.2700267835403, 129.46489732976218, 154.1796120444769]"
            ]
          },
          "metadata": {},
          "execution_count": 327
        }
      ]
    },
    {
      "cell_type": "code",
      "metadata": {
        "id": "_qFI-tsZXxd7",
        "colab": {
          "base_uri": "https://localhost:8080/"
        },
        "outputId": "bacc5d4e-97f4-4577-82f4-a719c72ab5df"
      },
      "source": [
        "meanD3_7 = list() \n",
        "for i in range(LAB_imgD3_07.shape[0]): \n",
        "     for j in range(LAB_imgD3_07.shape[1]): \n",
        "                if 1769<i<1881 and 2019<j<2131 :\n",
        "                    meanD3_7.append(LAB_imgD3_07[i][j])\n",
        "meanD3_7 = np.array(meanD3_7)\n",
        "\n",
        "labD3_7 = list()\n",
        "for i in range(3):\n",
        "    labD3_7.append(meanD3_7[:,i].mean())\n",
        "labD3_7 "
      ],
      "execution_count": null,
      "outputs": [
        {
          "output_type": "execute_result",
          "data": {
            "text/plain": [
              "[187.2500608716825, 128.9418066715364, 153.89375862348837]"
            ]
          },
          "metadata": {},
          "execution_count": 328
        }
      ]
    },
    {
      "cell_type": "code",
      "metadata": {
        "id": "GZMjU-UQY0yi",
        "colab": {
          "base_uri": "https://localhost:8080/"
        },
        "outputId": "465ae899-9115-4d78-d93d-6de46704890c"
      },
      "source": [
        "meanD3_8 = list() \n",
        "for i in range(LAB_imgD3_08.shape[0]): \n",
        "     for j in range(LAB_imgD3_08.shape[1]): \n",
        "                if 1769<i<1881 and 2019<j<2131 :\n",
        "                    meanD3_8.append(LAB_imgD3_08[i][j])\n",
        "meanD3_8 = np.array(meanD3_8)\n",
        "\n",
        "labD3_8 = list()\n",
        "for i in range(3):\n",
        "    labD3_8.append(meanD3_8[:,i].mean())\n",
        "labD3_8"
      ],
      "execution_count": null,
      "outputs": [
        {
          "output_type": "execute_result",
          "data": {
            "text/plain": [
              "[187.57479100722344, 129.14787760733708, 153.99772745718693]"
            ]
          },
          "metadata": {},
          "execution_count": 329
        }
      ]
    },
    {
      "cell_type": "markdown",
      "metadata": {
        "id": "UrzhmbP9Y5u5"
      },
      "source": [
        "D4 "
      ]
    },
    {
      "cell_type": "code",
      "metadata": {
        "id": "kiQNtAKPY8yy",
        "colab": {
          "base_uri": "https://localhost:8080/"
        },
        "outputId": "4948e616-ba82-48e8-a44a-05d414a89002"
      },
      "source": [
        "meanD4_2 = list() \n",
        "for i in range(LAB_imgD4_02.shape[0]): \n",
        "     for j in range(LAB_imgD4_02.shape[1]): \n",
        "                if 1769<i<1881 and 2019<j<2131 :\n",
        "                    meanD4_2.append(LAB_imgD4_02[i][j])\n",
        "meanD4_2 = np.array(meanD4_2)\n",
        "\n",
        "labD4_2 = list()\n",
        "for i in range(3):\n",
        "    labD4_2.append(meanD4_2[:,i].mean())\n",
        "labD4_2"
      ],
      "execution_count": null,
      "outputs": [
        {
          "output_type": "execute_result",
          "data": {
            "text/plain": [
              "[179.9487866244623, 128.16889862835808, 156.84579173768364]"
            ]
          },
          "metadata": {},
          "execution_count": 330
        }
      ]
    },
    {
      "cell_type": "code",
      "metadata": {
        "id": "0kEogEJKY_Ff",
        "colab": {
          "base_uri": "https://localhost:8080/"
        },
        "outputId": "2a8e2889-ac63-4fc3-c68f-eee403f73df4"
      },
      "source": [
        "meanD4_4 = list() \n",
        "for i in range(LAB_imgD4_04.shape[0]): \n",
        "     for j in range(LAB_imgD4_04.shape[1]): \n",
        "                if 1769<i<1881 and 2019<j<2131 :\n",
        "                    meanD4_4.append(LAB_imgD4_04[i][j])\n",
        "meanD4_4 = np.array(meanD4_4)\n",
        "\n",
        "labD4_4 = list()\n",
        "for i in range(3):\n",
        "    labD4_4.append(meanD4_4[:,i].mean())\n",
        "labD4_4"
      ],
      "execution_count": null,
      "outputs": [
        {
          "output_type": "execute_result",
          "data": {
            "text/plain": [
              "[235.05405405405406, 124.4845385926467, 158.48039931823715]"
            ]
          },
          "metadata": {},
          "execution_count": 331
        }
      ]
    },
    {
      "cell_type": "code",
      "metadata": {
        "id": "Itw5n7RrY_0m",
        "colab": {
          "base_uri": "https://localhost:8080/"
        },
        "outputId": "a5ad9481-c6ab-480f-f7c5-fa7a72afaa99"
      },
      "source": [
        "meanD4_7 = list() \n",
        "for i in range(LAB_imgD4_07.shape[0]): \n",
        "     for j in range(LAB_imgD4_07.shape[1]): \n",
        "                if 1769<i<1881 and 2019<j<2131 :\n",
        "                    meanD4_7.append(LAB_imgD4_07[i][j])\n",
        "meanD4_7 = np.array(meanD4_7)\n",
        "\n",
        "labD4_7 = list()\n",
        "for i in range(3):\n",
        "    labD4_7.append(meanD4_7[:,i].mean())\n",
        "labD4_7"
      ],
      "execution_count": null,
      "outputs": [
        {
          "output_type": "execute_result",
          "data": {
            "text/plain": [
              "[232.83653924194465, 124.75805535264995, 158.29461894326758]"
            ]
          },
          "metadata": {},
          "execution_count": 332
        }
      ]
    },
    {
      "cell_type": "code",
      "metadata": {
        "id": "yHQP2enmY_aC",
        "colab": {
          "base_uri": "https://localhost:8080/"
        },
        "outputId": "5cc937ff-614a-4b3b-c479-15630e68e455"
      },
      "source": [
        "meanD4_10 = list() \n",
        "for i in range(LAB_imgD4_10.shape[0]): \n",
        "     for j in range(LAB_imgD4_10.shape[1]): \n",
        "                if 1769<i<1881 and 2019<j<2131 :\n",
        "                    meanD4_10.append(LAB_imgD4_10[i][j])\n",
        "meanD4_10 = np.array(meanD4_10)\n",
        "\n",
        "labD4_10 = list()\n",
        "for i in range(3):\n",
        "    labD4_10.append(meanD4_10[:,i].mean())\n",
        "labD4_10"
      ],
      "execution_count": null,
      "outputs": [
        {
          "output_type": "execute_result",
          "data": {
            "text/plain": [
              "[236.17563509455402, 124.2614235857479, 158.01655709763818]"
            ]
          },
          "metadata": {},
          "execution_count": 333
        }
      ]
    },
    {
      "cell_type": "markdown",
      "metadata": {
        "id": "IdOvf3XXgumA"
      },
      "source": [
        "#คำนวณระยะห่างระหว่างจุดแบบ Euclidean distance"
      ]
    },
    {
      "cell_type": "code",
      "metadata": {
        "id": "9zPD-56Zgxef"
      },
      "source": [
        "from scipy.spatial import distance"
      ],
      "execution_count": null,
      "outputs": []
    },
    {
      "cell_type": "markdown",
      "metadata": {
        "id": "fYTcj_FrkWhp"
      },
      "source": [
        "A1"
      ]
    },
    {
      "cell_type": "code",
      "metadata": {
        "id": "7-9sfK9rjy_Y"
      },
      "source": [
        "UA1A1 = distance.euclidean(labA1_1,labA1_1)\n",
        "UA1A2_1 = distance.euclidean(labA1_1,labA2_1)\n",
        "UA1A2_2 = distance.euclidean(labA1_1,labA2_6)\n",
        "UA1A3_1 = distance.euclidean(labA1_1,labA3_3)\n",
        "UA1A3_2 = distance.euclidean(labA1_1,labA3_5)\n",
        "UA1A3_51 = distance.euclidean(labA1_1,labA3_502) \n",
        "UA1A3_52 = distance.euclidean(labA1_1,labA3_506)\n",
        "UA1A4_1 = distance.euclidean(labA1_1,labA4_1)\n",
        "UA1A4_2 = distance.euclidean(labA1_1,labA4_6)\n",
        "UA1B1_1 = distance.euclidean(labA1_1,labB1_2)\n",
        "UA1B1_2 = distance.euclidean(labA1_1,labB1_9)\n",
        "UA1B2_1 = distance.euclidean(labA1_1,labB2_5)\n",
        "UA1B2_2 = distance.euclidean(labA1_1,labB2_8)\n",
        "UA1B3_1 = distance.euclidean(labA1_1,labB3_6)\n",
        "UA1B3_2 = distance.euclidean(labA1_1,labB3_3)\n",
        "UA1B4_1 = distance.euclidean(labA1_1,labB4_2)\n",
        "UA1B4_2 = distance.euclidean(labA1_1,labB4_10)\n",
        "UA1C1_1 = distance.euclidean(labA1_1,labC1_5)\n",
        "UA1C1_2 = distance.euclidean(labA1_1,labC1_9)\n",
        "UA1C2_1 = distance.euclidean(labA1_1,labC2_3)\n",
        "UA1C2_2 = distance.euclidean(labA1_1,labC2_5)\n",
        "UA1C3_1 = distance.euclidean(labA1_1,labC3_6)\n",
        "UA1C3_2 = distance.euclidean(labA1_1,labC3_9)\n",
        "UA1C4_1 = distance.euclidean(labA1_1,labC4_1)\n",
        "UA1C4_2 = distance.euclidean(labA1_1,labC4_5)\n",
        "UA1D2_1 = distance.euclidean(labA1_1,labD2_1)\n",
        "UA1D2_2 = distance.euclidean(labA1_1,labD2_7)\n",
        "UA1D3_1 = distance.euclidean(labA1_1,labD3_4)\n",
        "UA1D3_2 = distance.euclidean(labA1_1,labD3_8)\n",
        "UA1D3_1 = distance.euclidean(labA1_1,labD4_4)\n",
        "UA1D3_2 = distance.euclidean(labA1_1,labD4_10)"
      ],
      "execution_count": null,
      "outputs": []
    },
    {
      "cell_type": "markdown",
      "metadata": {
        "id": "A4O7ZP5wANVY"
      },
      "source": [
        "A2"
      ]
    },
    {
      "cell_type": "code",
      "metadata": {
        "id": "qYDLZVQZAOI-"
      },
      "source": [
        "UA2A1_1 = distance.euclidean(labA2_1,labA1_1)\n",
        "UA2A1_2 = distance.euclidean(labA2_3,labA1_1)\n",
        "UA2A2_2 = distance.euclidean(labA2_6,labA1_1)\n",
        "UA2A2_1 = distance.euclidean(labA2_1,labA2_3)\n",
        "UA2A2_2 = distance.euclidean(labA2_4,labA2_6)\n",
        "UA2A3_1 = distance.euclidean(labA2_3,labA3_2)\n",
        "UA2A3_2 = distance.euclidean(labA2_4,labA3_5)\n",
        "UA2A3_51 = distance.euclidean(labA2_6,labA3_507)\n",
        "UA2A3_52 = distance.euclidean(labA2_3,labA3_504)\n",
        "UA2A3_1 = distance.euclidean(labA2_3,labA3_2)\n",
        "UA2A3_2 = distance.euclidean(labA2_4,labA3_5)\n",
        "UA2A4_1 = distance.euclidean(labA2_1,labA4_4)\n",
        "UA2A4_2 = distance.euclidean(labA2_3,labA4_6)\n",
        "UA2B1_1 = distance.euclidean(labA2_4,labB1_9)\n",
        "UA2B1_2 = distance.euclidean(labA2_3,labB1_7)\n",
        "UA2B2_1 = distance.euclidean(labA2_4,labB2_6)\n",
        "UA2B2_2 = distance.euclidean(labA2_3,labB2_8)\n",
        "UA2B3_1 = distance.euclidean(labA2_4,labB3_1)\n",
        "UA2B3_2 = distance.euclidean(labA2_3,labB3_10)\n",
        "UA2B4_1 = distance.euclidean(labA2_4,labB4_2)\n",
        "UA2B4_2 = distance.euclidean(labA2_3,labB4_8)\n",
        "UA2C1_1 = distance.euclidean(labA2_4,labC1_1)\n",
        "UA2C1_2 = distance.euclidean(labA2_3,labC1_9)\n",
        "UA2C2_1 = distance.euclidean(labA2_4,labC2_3)\n",
        "UA2C2_2 = distance.euclidean(labA2_3,labC2_7)\n",
        "UA2C3_1 = distance.euclidean(labA2_4,labC3_2)\n",
        "UA2C3_2 = distance.euclidean(labA2_3,labC3_9)\n",
        "UA2C4_1 = distance.euclidean(labA2_4,labC4_1)\n",
        "UA2C4_2 = distance.euclidean(labA2_3,labC4_6)\n",
        "UA2D2_1 = distance.euclidean(labA2_4,labD2_1)\n",
        "UA2D2_2 = distance.euclidean(labA2_3,labD2_7)\n",
        "UA2D3_1 = distance.euclidean(labA2_4,labD3_7)\n",
        "UA2D3_2 = distance.euclidean(labA2_3,labD3_8)\n",
        "UA2D4_1 = distance.euclidean(labA2_4,labD4_4)\n",
        "UA2D4_2 = distance.euclidean(labA2_3,labD4_10)"
      ],
      "execution_count": null,
      "outputs": []
    },
    {
      "cell_type": "markdown",
      "metadata": {
        "id": "LpSNWcPFEEAC"
      },
      "source": [
        "A3"
      ]
    },
    {
      "cell_type": "code",
      "metadata": {
        "id": "8SB0HIL6EFJn"
      },
      "source": [
        "UA3A1_1 = distance.euclidean(labA3_2,labA1_1)\n",
        "UA3A1_2 = distance.euclidean(labA3_4,labA1_1)\n",
        "UA3A2_1 = distance.euclidean(labA3_2,labA2_6)\n",
        "UA3A2_2 = distance.euclidean(labA3_4,labA2_4)\n",
        "UA3A3_1 = distance.euclidean(labA3_2,labA3_3)\n",
        "UA3A3_2 = distance.euclidean(labA3_4,labA3_5)\n",
        "UA3A3_51 = distance.euclidean(labA3_2,labA3_504)\n",
        "UA3A3_52 = distance.euclidean(labA3_4,labA3_507)\n",
        "UA3A4_1 = distance.euclidean(labA3_5,labA4_4)\n",
        "UA3A4_2 = distance.euclidean(labA3_4,labA4_4)\n",
        "UA3B1_1 = distance.euclidean(labA3_5,labB1_2)\n",
        "UA3B1_2 = distance.euclidean(labA3_4,labB1_7)\n",
        "UA3B2_1 = distance.euclidean(labA3_5,labB2_6)\n",
        "UA3B2_2 = distance.euclidean(labA3_4,labB2_8)\n",
        "UA3B3_1 = distance.euclidean(labA3_5,labB3_3)\n",
        "UA3B3_2 = distance.euclidean(labA3_2,labB3_10)\n",
        "UA3B4_1 = distance.euclidean(labA3_5,labB4_2)\n",
        "UA3B4_2 = distance.euclidean(labA3_2,labB4_8)\n",
        "UA3C1_1 = distance.euclidean(labA3_5,labC1_2)\n",
        "UA3C1_2 = distance.euclidean(labA3_4,labC1_9)\n",
        "UA3C2_1 = distance.euclidean(labA3_5,labC2_3)\n",
        "UA3C2_2 = distance.euclidean(labA3_4,labC2_7)\n",
        "UA3C3_1 = distance.euclidean(labA3_2,labC3_2)\n",
        "UA3C3_2 = distance.euclidean(labA3_4,labC3_3)\n",
        "UA3C4_1 = distance.euclidean(labA3_2,labC4_5)\n",
        "UA3C4_2 = distance.euclidean(labA3_4,labC4_6)\n",
        "UA3D2_1 = distance.euclidean(labA3_3,labD2_3)\n",
        "UA3D2_2 = distance.euclidean(labA3_4,labD2_1)\n",
        "UA3D3_1 = distance.euclidean(labA3_5,labD3_3)\n",
        "UA3D3_2 = distance.euclidean(labA3_4,labD3_7)\n",
        "UA3D4_1 = distance.euclidean(labA3_5,labD4_2)\n",
        "UA3D4_2 = distance.euclidean(labA3_4,labD4_7)"
      ],
      "execution_count": null,
      "outputs": []
    },
    {
      "cell_type": "markdown",
      "metadata": {
        "id": "HOBtYix5HZ4-"
      },
      "source": [
        "A3.5"
      ]
    },
    {
      "cell_type": "code",
      "metadata": {
        "id": "saXBQJkbHbYF"
      },
      "source": [
        "UA3_5A1_1 = distance.euclidean(labA3_502,labA1_1)\n",
        "UA3_5A1_2 = distance.euclidean(labA3_504,labA1_1)\n",
        "UA3_5A2_1 = distance.euclidean(labA3_506,labA2_1)\n",
        "UA3_5A2_2 = distance.euclidean(labA3_507,labA2_6)\n",
        "UA3_5A3_1 = distance.euclidean(labA3_506,labA3_2)\n",
        "UA3_5A3_2 = distance.euclidean(labA3_504,labA3_5)\n",
        "UA3_5A3_51 = distance.euclidean(labA3_506,labA3_504)\n",
        "UA3_5A3_52 = distance.euclidean(labA3_502,labA3_507)\n",
        "UA3_5A4_1 = distance.euclidean(labA3_502,labA4_4)\n",
        "UA3_5A4_2 = distance.euclidean(labA3_507,labA4_4)\n",
        "UA3_5B1_1 = distance.euclidean(labA3_507,labB1_2)\n",
        "UA3_5B1_2 = distance.euclidean(labA3_504,labB1_7)\n",
        "UA3_5B2_1 = distance.euclidean(labA3_504,labB2_6)\n",
        "UA3_5B2_2 = distance.euclidean(labA3_502,labB2_8)\n",
        "UA3_5B3_1 = distance.euclidean(labA3_502,labB3_3)\n",
        "UA3_5B3_2 = distance.euclidean(labA3_507,labB3_10)\n",
        "UA3_5B4_1 = distance.euclidean(labA3_504,labB4_2)\n",
        "UA3_5B4_2 = distance.euclidean(labA3_506,labB4_8)\n",
        "UA3_5C1_1 = distance.euclidean(labA3_502,labC1_2)\n",
        "UA3_5C1_2 = distance.euclidean(labA3_504,labC1_9)\n",
        "UA3_5C2_1 = distance.euclidean(labA3_506,labC2_3)\n",
        "UA3_5C2_2 = distance.euclidean(labA3_504,labC2_7)\n",
        "UA3_5C3_1 = distance.euclidean(labA3_506,labC3_2)\n",
        "UA3_5C3_2 = distance.euclidean(labA3_507,labC3_3)\n",
        "UA3_5C4_1 = distance.euclidean(labA3_506,labC4_5)\n",
        "UA3_5C4_2 = distance.euclidean(labA3_502,labC4_6)\n",
        "UA3_5D2_1 = distance.euclidean(labA3_507,labD2_3)\n",
        "UA3_5D2_2 = distance.euclidean(labA3_504,labD2_1)\n",
        "UA3_5D3_1 = distance.euclidean(labA3_506,labD3_3)\n",
        "UA3_5D3_2 = distance.euclidean(labA3_502,labD3_7)\n",
        "UA3_5D4_1 = distance.euclidean(labA3_506,labD4_2)\n",
        "UA3_5D4_2 = distance.euclidean(labA3_507,labD4_7)"
      ],
      "execution_count": null,
      "outputs": []
    },
    {
      "cell_type": "markdown",
      "metadata": {
        "id": "v85yIzGiJzxT"
      },
      "source": [
        "A4"
      ]
    },
    {
      "cell_type": "code",
      "metadata": {
        "id": "E1b4WXHaJ2In"
      },
      "source": [
        "UA4A1_1 = distance.euclidean(labA4_4,labA1_1)\n",
        "UA4A1_2 = distance.euclidean(labA4_6,labA1_1)\n",
        "UA4A2_2 = distance.euclidean(labA4_1,labA1_1)\n",
        "UA4A2_1 = distance.euclidean(labA4_4,labA2_3)\n",
        "UA4A2_2 = distance.euclidean(labA4_4,labA2_6)\n",
        "UA4A3_1 = distance.euclidean(labA4_1,labA3_2)\n",
        "UA4A3_2 = distance.euclidean(labA4_6,labA3_5)\n",
        "UA4A3_51 = distance.euclidean(labA4_6,labA3_507)\n",
        "UA4A3_52 = distance.euclidean(labA4_4,labA3_504)\n",
        "UA4A3_1 = distance.euclidean(labA4_1,labA3_2)\n",
        "UA4A3_2 = distance.euclidean(labA4_6,labA3_5)\n",
        "UA4A4_1 = distance.euclidean(labA4_6,labA4_4)\n",
        "UA4A4_2 = distance.euclidean(labA4_3,labA4_6)\n",
        "UA4B1_1 = distance.euclidean(labA4_1,labB1_9)\n",
        "UA4B1_2 = distance.euclidean(labA4_4,labB1_7)\n",
        "UA4B2_1 = distance.euclidean(labA4_6,labB2_6)\n",
        "UA4B2_2 = distance.euclidean(labA4_1,labB2_8)\n",
        "UA4B3_1 = distance.euclidean(labA4_3,labB3_1)\n",
        "UA4B3_2 = distance.euclidean(labA4_4,labB3_10)\n",
        "UA4B4_1 = distance.euclidean(labA4_6,labB4_2)\n",
        "UA4B4_2 = distance.euclidean(labA4_1,labB4_8)\n",
        "UA4C1_1 = distance.euclidean(labA4_3,labC1_1)\n",
        "UA4C1_2 = distance.euclidean(labA4_6,labC1_9)\n",
        "UA4C2_1 = distance.euclidean(labA4_4,labC2_3)\n",
        "UA4C2_2 = distance.euclidean(labA4_6,labC2_7)\n",
        "UA4C3_1 = distance.euclidean(labA4_1,labC3_2)\n",
        "UA4C3_2 = distance.euclidean(labA4_4,labC3_9)\n",
        "UA4C4_1 = distance.euclidean(labA4_3,labC4_1)\n",
        "UA4C4_2 = distance.euclidean(labA4_1,labC4_6)\n",
        "UA4D2_1 = distance.euclidean(labA4_6,labD2_1)\n",
        "UA4D2_2 = distance.euclidean(labA4_6,labD2_7)\n",
        "UA4D3_1 = distance.euclidean(labA4_4,labD3_7)\n",
        "UA4D3_2 = distance.euclidean(labA4_3,labD3_8)\n",
        "UA4D4_1 = distance.euclidean(labA4_6,labD4_4)\n",
        "UA4D4_2 = distance.euclidean(labA4_1,labD4_10)"
      ],
      "execution_count": null,
      "outputs": []
    },
    {
      "cell_type": "markdown",
      "metadata": {
        "id": "pdArf5nVLut6"
      },
      "source": [
        "B1"
      ]
    },
    {
      "cell_type": "code",
      "metadata": {
        "id": "XrgU5BFvLwqD"
      },
      "source": [
        "UB1A1_1 = distance.euclidean(labB1_7,labA1_1)\n",
        "UB1A1_2 = distance.euclidean(labB1_9,labA1_1)\n",
        "UB1A2_1 = distance.euclidean(labB1_1,labA2_1)\n",
        "UB1A2_2 = distance.euclidean(labB1_2,labA2_6)\n",
        "UB1A3_1 = distance.euclidean(labB1_1,labA3_2)\n",
        "UB1A3_2 = distance.euclidean(labB1_2,labA3_5)\n",
        "UB1A3_51 = distance.euclidean(labA4_3,labA3_502)\n",
        "UB1A3_52 = distance.euclidean(labA4_4,labA3_506)\n",
        "UB1A4_1 = distance.euclidean(labB1_2,labA4_4)\n",
        "UB1A4_2 = distance.euclidean(labB1_9,labA4_6)\n",
        "UB1B1_1 = distance.euclidean(labB1_2,labB1_1)\n",
        "UB1B1_2 = distance.euclidean(labB1_7,labB1_2)\n",
        "UB1B2_1 = distance.euclidean(labB1_2,labB2_8)\n",
        "UB1B2_2 = distance.euclidean(labB1_1,labB2_5)\n",
        "UB1B3_1 = distance.euclidean(labB1_7,labB3_1)\n",
        "UB1B3_2 = distance.euclidean(labB1_1,labB3_10)\n",
        "UB1B4_1 = distance.euclidean(labA4_3,labB4_8)\n",
        "UB1B4_2 = distance.euclidean(labB1_9,labB4_2)\n",
        "UB1C1_1 = distance.euclidean(labA4_3,labC1_5)\n",
        "UB1C1_2 = distance.euclidean(labB1_9,labC1_9)\n",
        "UB1C2_1 = distance.euclidean(labA4_3,labC2_3)\n",
        "UB1C2_2 = distance.euclidean(labB1_7,labC2_7)\n",
        "UB1C3_1 = distance.euclidean(labB1_1,labC3_2)\n",
        "UB1C3_2 = distance.euclidean(labB1_9,labC3_9)\n",
        "UB1C4_1 = distance.euclidean(labB1_2,labC4_4)\n",
        "UB1C4_2 = distance.euclidean(labB1_9,labC4_6)\n",
        "UB1D2_1 = distance.euclidean(labB1_2,labD2_6)\n",
        "UB1D2_2 = distance.euclidean(labA4_3,labD2_7)\n",
        "UB1D3_1 = distance.euclidean(labB1_2,labD3_3)\n",
        "UB1D3_2 = distance.euclidean(labA4_3,labD3_7)\n",
        "UB1D4_1 = distance.euclidean(labB1_2,labD4_7)\n",
        "UB1D4_2 = distance.euclidean(labB1_1,labD4_10)"
      ],
      "execution_count": null,
      "outputs": []
    },
    {
      "cell_type": "markdown",
      "metadata": {
        "id": "QsTUZnxhQfyq"
      },
      "source": [
        "B2"
      ]
    },
    {
      "cell_type": "code",
      "metadata": {
        "id": "rLZXm0gQQiLG"
      },
      "source": [
        "UB2A1_1 = distance.euclidean(labB2_5,labA1_1)\n",
        "UB2A1_2 = distance.euclidean(labB2_6,labA1_1)\n",
        "UB2A2_2 = distance.euclidean(labB2_7,labA1_1)\n",
        "UB2A2_1 = distance.euclidean(labB2_8,labA2_3)\n",
        "UB2A2_2 = distance.euclidean(labB2_5,labA2_6)\n",
        "UB2A3_1 = distance.euclidean(labB2_7,labA3_2)\n",
        "UB2A3_2 = distance.euclidean(labB2_8,labA3_5)\n",
        "UB2A3_51 = distance.euclidean(labB2_6,labA3_507)\n",
        "UB2A3_52 = distance.euclidean(labB2_5,labA3_504)\n",
        "UB2A3_1 = distance.euclidean(labB2_8,labA3_2)\n",
        "UB2A3_2 = distance.euclidean(labB2_7,labA3_5)\n",
        "UB2A4_1 = distance.euclidean(labB2_6,labA4_4)\n",
        "UB2A4_2 = distance.euclidean(labB2_5,labA4_6)\n",
        "UB2B1_1 = distance.euclidean(labB2_8,labB1_9)\n",
        "UB2B1_2 = distance.euclidean(labB2_6,labB1_7)\n",
        "UB2B2_1 = distance.euclidean(labB2_7,labB2_6)\n",
        "UB2B2_2 = distance.euclidean(labA2_3,labB2_8)\n",
        "UB2B3_1 = distance.euclidean(labB2_5,labB3_1)\n",
        "UB2B3_2 = distance.euclidean(labB2_7,labB3_10)\n",
        "UB2B4_1 = distance.euclidean(labB2_5,labB4_2)\n",
        "UB2B4_2 = distance.euclidean(labB2_8,labB4_8)\n",
        "UB2C1_1 = distance.euclidean(labB2_8,labC1_1)\n",
        "UB2C1_2 = distance.euclidean(labB2_5,labC1_9)\n",
        "UB2C2_1 = distance.euclidean(labB2_7,labC2_3)\n",
        "UB2C2_2 = distance.euclidean(labB2_6,labC2_7)\n",
        "UB2C3_1 = distance.euclidean(labB2_6,labC3_2)\n",
        "UB2C3_2 = distance.euclidean(labB2_5,labC3_9)\n",
        "UB2C4_1 = distance.euclidean(labB2_7,labC4_1)\n",
        "UB2C4_2 = distance.euclidean(labB2_6,labC4_6)\n",
        "UB2D2_1 = distance.euclidean(labB2_8,labD2_1)\n",
        "UB2D2_2 = distance.euclidean(labB2_7,labD2_7)\n",
        "UB2D3_1 = distance.euclidean(labB2_6,labD3_7)\n",
        "UB2D3_2 = distance.euclidean(labB2_7,labD3_8)\n",
        "UB2D4_1 = distance.euclidean(labB2_5,labD4_4)\n",
        "UB2D4_2 = distance.euclidean(labB2_8,labD4_10)"
      ],
      "execution_count": null,
      "outputs": []
    },
    {
      "cell_type": "markdown",
      "metadata": {
        "id": "MXY-OV4gUmdw"
      },
      "source": [
        "B3"
      ]
    },
    {
      "cell_type": "code",
      "metadata": {
        "id": "pUUKgK1xUsJo"
      },
      "source": [
        "UB3A1_1 = distance.euclidean(labB3_10,labA1_1)\n",
        "UB3A1_2 = distance.euclidean(labB3_1,labA1_1)\n",
        "UB3A2_2 = distance.euclidean(labB3_3,labA1_1)\n",
        "UB3A2_1 = distance.euclidean(labB3_6,labA2_3)\n",
        "UB3A2_2 = distance.euclidean(labB3_6,labA2_6)\n",
        "UB3A3_1 = distance.euclidean(labB3_1,labA3_2)\n",
        "UB3A3_2 = distance.euclidean(labB3_10,labA3_5)\n",
        "UB3A3_51 = distance.euclidean(labB3_1,labA3_507)\n",
        "UB3A3_52 = distance.euclidean(labB3_3,labA3_504)\n",
        "UB3A3_1 = distance.euclidean(labB3_10,labA3_2)\n",
        "UB3A3_2 = distance.euclidean(labB3_1,labA3_5)\n",
        "UB3A4_1 = distance.euclidean(labB3_3,labA4_4)\n",
        "UB3A4_2 = distance.euclidean(labB3_10,labA4_6)\n",
        "UB3B1_1 = distance.euclidean(labB3_6,labB1_9)\n",
        "UB3B1_2 = distance.euclidean(labB3_6,labB1_7)\n",
        "UB3B2_1 = distance.euclidean(labB3_10,labB2_6)\n",
        "UB3B2_2 = distance.euclidean(labB3_3,labB2_8)\n",
        "UB3B3_1 = distance.euclidean(labB3_1,labB3_1)\n",
        "UB3B3_2 = distance.euclidean(labB3_6,labB3_10)\n",
        "UB3B4_1 = distance.euclidean(labB3_10,labB4_2)\n",
        "UB3B4_2 = distance.euclidean(labB3_1,labB4_8)\n",
        "UB3C1_1 = distance.euclidean(labB3_3,labC1_1)\n",
        "UB3C1_2 = distance.euclidean(labB3_6,labC1_9)\n",
        "UB3C2_1 = distance.euclidean(labB3_10,labC2_3)\n",
        "UB3C2_2 = distance.euclidean(labB3_6,labC2_7)\n",
        "UB3C3_1 = distance.euclidean(labB3_3,labC3_2)\n",
        "UB3C3_2 = distance.euclidean(labB3_10,labC3_9)\n",
        "UB3C4_1 = distance.euclidean(labB3_6,labC4_1)\n",
        "UB3C4_2 = distance.euclidean(labB3_1,labC4_6)\n",
        "UB3D2_1 = distance.euclidean(labB3_3,labD2_1)\n",
        "UB3D2_2 = distance.euclidean(labB3_6,labD2_7)\n",
        "UB3D3_1 = distance.euclidean(labB3_10,labD3_7)\n",
        "UB3D3_2 = distance.euclidean(labB3_1,labD3_8)\n",
        "UB3D4_1 = distance.euclidean(labB3_3,labD4_4)\n",
        "UB3D4_2 = distance.euclidean(labB3_10,labD4_10)"
      ],
      "execution_count": null,
      "outputs": []
    },
    {
      "cell_type": "markdown",
      "metadata": {
        "id": "iw4iZKK5Un4u"
      },
      "source": [
        "B4"
      ]
    },
    {
      "cell_type": "code",
      "metadata": {
        "id": "gM2lJOfcUsbO"
      },
      "source": [
        "UB4A1_1 = distance.euclidean(labB4_8,labA1_1)\n",
        "UB4A1_2 = distance.euclidean(labB4_10,labA1_1)\n",
        "UB4A2_2 = distance.euclidean(labB4_1,labA1_1)\n",
        "UB4A2_1 = distance.euclidean(labB4_2,labA2_3)\n",
        "UB4A2_2 = distance.euclidean(labB4_1,labA2_6)\n",
        "UB4A3_1 = distance.euclidean(labB4_8,labA3_2)\n",
        "UB4A3_2 = distance.euclidean(labB4_10,labA3_5)\n",
        "UB4A3_51 = distance.euclidean(labB4_1,labA3_507)\n",
        "UB4A3_52 = distance.euclidean(labB4_2,labA3_504)\n",
        "UB4A3_1 = distance.euclidean(labB4_10,labA3_2)\n",
        "UB4A3_2 = distance.euclidean(labB4_2,labA3_5)\n",
        "UB4A4_1 = distance.euclidean(labB4_10,labA4_4)\n",
        "UB4A4_2 = distance.euclidean(labB4_1,labA4_6)\n",
        "UB4B1_1 = distance.euclidean(labB4_8,labB1_9)\n",
        "UB4B1_2 = distance.euclidean(labB4_2,labB1_7)\n",
        "UB4B2_1 = distance.euclidean(labB4_1,labB2_6)\n",
        "UB4B2_2 = distance.euclidean(labB4_10,labB2_8)\n",
        "UB4B3_1 = distance.euclidean(labB4_8,labB3_1)\n",
        "UB4B3_2 = distance.euclidean(labB4_1,labB3_10)\n",
        "UB4B4_1 = distance.euclidean(labB4_2,labB4_10)\n",
        "UB4B4_2 = distance.euclidean(labB4_1,labB4_8)\n",
        "UB4C1_1 = distance.euclidean(labB4_10,labC1_1)\n",
        "UB4C1_2 = distance.euclidean(labB4_1,labC1_9)\n",
        "UB4C2_1 = distance.euclidean(labB4_2,labC2_3)\n",
        "UB4C2_2 = distance.euclidean(labB4_1,labC2_7)\n",
        "UB4C3_1 = distance.euclidean(labB4_10,labC3_2)\n",
        "UB4C3_2 = distance.euclidean(labB4_10,labC3_9)\n",
        "UB4C4_1 = distance.euclidean(labB4_2,labC4_1)\n",
        "UB4C4_2 = distance.euclidean(labB4_1,labC4_6)\n",
        "UB4D2_1 = distance.euclidean(labBB4_8,labD2_1)\n",
        "UB4D2_2 = distance.euclidean(labB4_10,labD2_7)\n",
        "UB4D3_1 = distance.euclidean(labB4_1,labD3_7)\n",
        "UB4D3_2 = distance.euclidean(labB4_8,labD3_8)\n",
        "UB4D4_1 = distance.euclidean(labB4_2,labD4_4)\n",
        "UB4D4_2 = distance.euclidean(labB4_10,labD4_10)"
      ],
      "execution_count": null,
      "outputs": []
    },
    {
      "cell_type": "markdown",
      "metadata": {
        "id": "PmgWHgMPUozB"
      },
      "source": [
        "C1"
      ]
    },
    {
      "cell_type": "code",
      "metadata": {
        "id": "rQk8U9jcUszY"
      },
      "source": [
        "UC1A1_1 = distance.euclidean(labC1_1,labA1_1)\n",
        "UC1A1_2 = distance.euclidean(labC1_2,labA1_1)\n",
        "UC1A2_2 = distance.euclidean(labC1_5,labA1_1)\n",
        "UC1A2_1 = distance.euclidean(labC1_9,labA2_3)\n",
        "UC1A2_2 = distance.euclidean(labC1_1,labA2_6)\n",
        "UC1A3_1 = distance.euclidean(labC1_2,labA3_2)\n",
        "UC1A3_2 = distance.euclidean(labC1_9,labA3_5)\n",
        "UC1A3_51 = distance.euclidean(labC1_5,labA3_507)\n",
        "UC1A3_52 = distance.euclidean(labC1_2,labA3_504)\n",
        "UC1A3_1 = distance.euclidean(labC1_2,labA3_2)\n",
        "UC1A3_2 = distance.euclidean(labC1_5,labA3_5)\n",
        "UC1A4_1 = distance.euclidean(labC1_9,labA4_4)\n",
        "UC1A4_2 = distance.euclidean(labC1_1,labA4_6)\n",
        "UC1B1_1 = distance.euclidean(labC1_9,labB1_9)\n",
        "UC1B1_2 = distance.euclidean(labC1_2,labB1_7)\n",
        "UC1B2_1 = distance.euclidean(labC1_1,labB2_6)\n",
        "UC1B2_2 = distance.euclidean(labC1_9,labB2_8)\n",
        "UC1B3_1 = distance.euclidean(labC1_1,labB3_1)\n",
        "UC1B3_2 = distance.euclidean(labC1_2,labB3_10)\n",
        "UC1B4_1 = distance.euclidean(labC1_9,labB4_2)\n",
        "UC1B4_2 = distance.euclidean(labC1_1,labB4_8)\n",
        "UC1C1_1 = distance.euclidean(labC1_2,labC1_1)\n",
        "UC1C1_2 = distance.euclidean(labC1_5,labC1_9)\n",
        "UC1C2_1 = distance.euclidean(labC1_5,labC2_3)\n",
        "UC1C2_2 = distance.euclidean(labC1_2,labC2_7)\n",
        "UC1C3_1 = distance.euclidean(labC1_2,labC3_2)\n",
        "UC1C3_2 = distance.euclidean(labC1_9,labC3_9)\n",
        "UC1C4_1 = distance.euclidean(labC1_2,labC4_1)\n",
        "UC1C4_2 = distance.euclidean(labC1_5,labC4_6)\n",
        "UC1D2_1 = distance.euclidean(labC1_5,labD2_1)\n",
        "UC1D2_2 = distance.euclidean(labC1_1,labD2_7)\n",
        "UC1D3_1 = distance.euclidean(labC1_2,labD3_7)\n",
        "UC1D3_2 = distance.euclidean(labC1_9,labD3_8)\n",
        "UC1D4_1 = distance.euclidean(labC1_1,labD4_4)\n",
        "UC1D4_2 = distance.euclidean(labC1_5,labD4_10)"
      ],
      "execution_count": null,
      "outputs": []
    },
    {
      "cell_type": "markdown",
      "metadata": {
        "id": "lBdF6_flUpoR"
      },
      "source": [
        "C2"
      ]
    },
    {
      "cell_type": "code",
      "metadata": {
        "id": "O_xvI_EAUtNc"
      },
      "source": [
        "UC2A1_1 = distance.euclidean(labC2_1,labA1_1)\n",
        "UC2A1_2 = distance.euclidean(labC2_3,labA1_1)\n",
        "UC2A2_1 = distance.euclidean(labC2_5,labA2_1)\n",
        "UC2A2_2 = distance.euclidean(labC2_7,labA2_6)\n",
        "UC2A3_1 = distance.euclidean(labC2_1,labA3_2)\n",
        "UC2A3_2 = distance.euclidean(labC2_3,labA3_5)\n",
        "UC2A3_51 = distance.euclidean(labC2_5,labA3_504)\n",
        "UC2A3_52 = distance.euclidean(labC2_7,labA3_507)\n",
        "UC2A4_1 = distance.euclidean(labC2_1,labA4_4)\n",
        "UC2A4_2 = distance.euclidean(labC2_3,labA4_4)\n",
        "UC2B1_1 = distance.euclidean(labC2_5,labB1_2)\n",
        "UC2B1_2 = distance.euclidean(labC2_7,labB1_7)\n",
        "UC2B2_1 = distance.euclidean(labC2_1,labB2_6)\n",
        "UC2B2_2 = distance.euclidean(labC2_3,labB2_8)\n",
        "UC2B3_1 = distance.euclidean(labC2_5,labB3_3)\n",
        "UC2B3_2 = distance.euclidean(labC2_7,labB3_10)\n",
        "UC2B4_1 = distance.euclidean(labC2_1,labB4_2)\n",
        "UC2B4_2 = distance.euclidean(labC2_3,labB4_8)\n",
        "UC2C1_1 = distance.euclidean(labC2_5,labC1_2)\n",
        "UC2C1_2 = distance.euclidean(labC2_7,labC1_9)\n",
        "UC2C2_1 = distance.euclidean(labC2_1,labC2_5)\n",
        "UC2C2_2 = distance.euclidean(labC2_3,labC2_7)\n",
        "UC2C3_1 = distance.euclidean(labC2_5,labC3_2)\n",
        "UC2C3_2 = distance.euclidean(labC2_7,labC3_3)\n",
        "UC2C4_1 = distance.euclidean(labC2_1,labC4_5)\n",
        "UC2C4_2 = distance.euclidean(labC2_3,labC4_6)\n",
        "UC2D2_1 = distance.euclidean(labC2_5,labD2_3)\n",
        "UC2D2_2 = distance.euclidean(labC2_7,labD2_1)\n",
        "UC2D3_1 = distance.euclidean(labC2_1,labD3_3)\n",
        "UC2D3_2 = distance.euclidean(labC2_3,labD3_7)\n",
        "UC2D4_1 = distance.euclidean(labC2_5,labD4_2)\n",
        "UC2D4_2 = distance.euclidean(labC2_7,labD4_7)"
      ],
      "execution_count": null,
      "outputs": []
    },
    {
      "cell_type": "markdown",
      "metadata": {
        "id": "F8Ejgtt3Uqmj"
      },
      "source": [
        "C3"
      ]
    },
    {
      "cell_type": "code",
      "metadata": {
        "id": "38-IdhF0Utwm"
      },
      "source": [
        "UC3A1_1 = distance.euclidean(labC3_2,labA1_1)\n",
        "UC3A1_2 = distance.euclidean(labC3_3,labA1_1)\n",
        "UC3A2_2 = distance.euclidean(labC3_6,labA1_1)\n",
        "UC3A2_1 = distance.euclidean(labC3_9,labA2_3)\n",
        "UC3A2_2 = distance.euclidean(labC3_9,labA2_6)\n",
        "UC3A3_1 = distance.euclidean(labC3_6,labA3_2)\n",
        "UC3A3_2 = distance.euclidean(labC3_3,labA3_5)\n",
        "UC3A3_51 = distance.euclidean(labC3_2,labA3_507)\n",
        "UC3A3_52 = distance.euclidean(labC3_9,labA3_504)\n",
        "UC3A3_1 = distance.euclidean(labC3_6,labA3_2)\n",
        "UC3A3_2 = distance.euclidean(labC3_3,labA3_5)\n",
        "UC3A4_1 = distance.euclidean(labC3_2,labA4_4)\n",
        "UC3A4_2 = distance.euclidean(labC3_9,labA4_6)\n",
        "UC3B1_1 = distance.euclidean(labC3_6,labB1_9)\n",
        "UC3B1_2 = distance.euclidean(labC3_3,labB1_7)\n",
        "UC3B2_1 = distance.euclidean(labC3_2,labB2_6)\n",
        "UC3B2_2 = distance.euclidean(labC3_9,labB2_8)\n",
        "UC3B3_1 = distance.euclidean(labC3_6,labB3_1)\n",
        "UC3B3_2 = distance.euclidean(labC3_3,labB3_10)\n",
        "UC3B4_1 = distance.euclidean(labC3_2,labB4_2)\n",
        "UC3B4_2 = distance.euclidean(labC3_9,labB4_8)\n",
        "UC3C1_1 = distance.euclidean(labC3_6,labC1_1)\n",
        "UC3C1_2 = distance.euclidean(labC3_3,labC1_9)\n",
        "UC3C2_1 = distance.euclidean(labC3_2,labC2_3)\n",
        "UC3C2_2 = distance.euclidean(labC3_9,labC2_7)\n",
        "UC3C3_1 = distance.euclidean(labC3_6,labC3_2)\n",
        "UC3C3_2 = distance.euclidean(labC3_3,labC3_9)\n",
        "UC3C4_1 = distance.euclidean(labC3_2,labC4_1)\n",
        "UC3C4_2 = distance.euclidean(labC3_9,labC4_6)\n",
        "UC3D2_1 = distance.euclidean(labC3_6,labD2_1)\n",
        "UC3D2_2 = distance.euclidean(labC3_3,labD2_7)\n",
        "UC3D3_1 = distance.euclidean(labC3_9,labD3_7)\n",
        "UC3D3_2 = distance.euclidean(labC3_6,labD3_8)\n",
        "UC3D4_1 = distance.euclidean(labC3_3,labD4_4)\n",
        "UC3D4_2 = distance.euclidean(labC3_2,labD4_10)"
      ],
      "execution_count": null,
      "outputs": []
    },
    {
      "cell_type": "markdown",
      "metadata": {
        "id": "5nvt2loHUrVG"
      },
      "source": [
        "C4"
      ]
    },
    {
      "cell_type": "code",
      "metadata": {
        "id": "w1up6legUuR4"
      },
      "source": [
        "UC4A1_1 = distance.euclidean(labC4_1,labA1_1)\n",
        "UC4A1_2 = distance.euclidean(labC4_4,labA1_1)\n",
        "UC4A2_1 = distance.euclidean(labC4_5,labA2_1)\n",
        "UC4A2_2 = distance.euclidean(labC4_6,labA2_6)\n",
        "UC4A3_1 = distance.euclidean(labC4_1,labA3_2)\n",
        "UC4A3_2 = distance.euclidean(labC4_4,labA3_5)\n",
        "UC4A3_51 = distance.euclidean(labC4_5,labA3_504)\n",
        "UC4A3_52 = distance.euclidean(labC4_6,labA3_507)\n",
        "UC4A4_1 = distance.euclidean(labC4_1,labA4_4)\n",
        "UC4A4_2 = distance.euclidean(labC4_4,labA4_4)\n",
        "UC4B1_1 = distance.euclidean(labC4_5,labB1_2)\n",
        "UC4B1_2 = distance.euclidean(labC4_6,labB1_7)\n",
        "UC4B2_1 = distance.euclidean(labC4_1,labB2_6)\n",
        "UC4B2_2 = distance.euclidean(labC4_4,labB2_8)\n",
        "UC4B3_1 = distance.euclidean(labC4_5,labB3_3)\n",
        "UC4B3_2 = distance.euclidean(labC4_6,labB3_10)\n",
        "UC4B4_1 = distance.euclidean(labC4_1,labB4_2)\n",
        "UC4B4_2 = distance.euclidean(labC4_4,labB4_8)\n",
        "UC4C1_1 = distance.euclidean(labC4_5,labC1_2)\n",
        "UC4C1_2 = distance.euclidean(labC4_6,labC1_9)\n",
        "UC4C2_1 = distance.euclidean(labC4_1,labC2_5)\n",
        "UC4C2_2 = distance.euclidean(labC4_4,labC2_7)\n",
        "UC4C3_1 = distance.euclidean(labC4_5,labC3_2)\n",
        "UC4C3_2 = distance.euclidean(labC4_6,labC3_3)\n",
        "UC4C4_1 = distance.euclidean(labC4_1,labC4_5)\n",
        "UC4C4_2 = distance.euclidean(labC4_4,labC4_6)\n",
        "UC4D2_1 = distance.euclidean(labC4_5,labD2_3)\n",
        "UC4D2_2 = distance.euclidean(labC4_6,labD2_1)\n",
        "UC4D3_1 = distance.euclidean(labC4_1,labD3_3)\n",
        "UC4D3_2 = distance.euclidean(labC4_4,labD3_7)\n",
        "UC4D4_1 = distance.euclidean(labC4_5,labD4_2)\n",
        "UC4D4_2 = distance.euclidean(labC4_6,labD4_7)"
      ],
      "execution_count": null,
      "outputs": []
    },
    {
      "cell_type": "markdown",
      "metadata": {
        "id": "inQrkkdTc3mZ"
      },
      "source": [
        "D2"
      ]
    },
    {
      "cell_type": "code",
      "metadata": {
        "id": "q1NczpMZc4kw"
      },
      "source": [
        "UD2A1_1 = distance.euclidean(labD2_1,labA1_1)\n",
        "UD2A1_2 = distance.euclidean(labD2_3,labA1_1)\n",
        "UD2A2_2 = distance.euclidean(labD2_6,labA1_1)\n",
        "UD2A2_1 = distance.euclidean(labD2_7,labA2_3)\n",
        "UD2A2_2 = distance.euclidean(labD2_7,labA2_6)\n",
        "UD2A3_1 = distance.euclidean(labD2_3,labA3_2)\n",
        "UD2A3_2 = distance.euclidean(labD2_1,labA3_5)\n",
        "UD2A3_51 = distance.euclidean(labD2_6,labA3_507)\n",
        "UD2A3_52 = distance.euclidean(labD2_7,labA3_504)\n",
        "UD2A3_1 = distance.euclidean(labD2_3,labA3_2)\n",
        "UD2A3_2 = distance.euclidean(labD2_1,labA3_5)\n",
        "UD2A4_1 = distance.euclidean(labD2_6,labA4_4)\n",
        "UD2A4_2 = distance.euclidean(labD2_7,labA4_6)\n",
        "UD2B1_1 = distance.euclidean(labD2_3,labB1_9)\n",
        "UD2B1_2 = distance.euclidean(labD2_1,labB1_7)\n",
        "UD2B2_1 = distance.euclidean(labD2_6,labB2_6)\n",
        "UD2B2_2 = distance.euclidean(labD2_7,labB2_8)\n",
        "UD2B3_1 = distance.euclidean(labD2_3,labB3_1)\n",
        "UD2B3_2 = distance.euclidean(labD2_1,labB3_10)\n",
        "UD2B4_1 = distance.euclidean(labD2_6,labB4_2)\n",
        "UD2B4_2 = distance.euclidean(labD2_7,labB4_8)\n",
        "UD2C1_1 = distance.euclidean(labD2_3,labC1_1)\n",
        "UD2C1_2 = distance.euclidean(labD2_1,labC1_9)\n",
        "UD2C2_1 = distance.euclidean(labD2_6,labC2_3)\n",
        "UD2C2_2 = distance.euclidean(labD2_7,labC2_7)\n",
        "UD2C3_1 = distance.euclidean(labD2_3,labC3_2)\n",
        "UD2C3_2 = distance.euclidean(labD2_1,labC3_9)\n",
        "UD2C4_1 = distance.euclidean(labD2_6,labC4_1)\n",
        "UD2C4_2 = distance.euclidean(labD2_7,labC4_6)\n",
        "UD2D2_1 = distance.euclidean(labD2_6,labD2_1)\n",
        "UD2D2_2 = distance.euclidean(labD2_3,labD2_7)\n",
        "UD2D3_1 = distance.euclidean(labD2_7,labD3_7)\n",
        "UD2D3_2 = distance.euclidean(labD2_1,labD3_8)\n",
        "UD2D4_1 = distance.euclidean(labD2_3,labD4_4)\n",
        "UD2D4_2 = distance.euclidean(labD2_6,labD4_10)"
      ],
      "execution_count": null,
      "outputs": []
    },
    {
      "cell_type": "markdown",
      "metadata": {
        "id": "FH21pF-ue9ZD"
      },
      "source": [
        "D3"
      ]
    },
    {
      "cell_type": "code",
      "metadata": {
        "id": "mQT1Tre6e8pz"
      },
      "source": [
        "UD3A1_1 = distance.euclidean(labD3_3,labA1_1)\n",
        "UD3A1_2 = distance.euclidean(labD3_4,labA1_1)\n",
        "UD3A2_2 = distance.euclidean(labD3_7,labA1_1)\n",
        "UD3A2_1 = distance.euclidean(labD3_8,labA2_3)\n",
        "UD3A2_2 = distance.euclidean(labD3_4,labA2_6)\n",
        "UD3A3_1 = distance.euclidean(labD3_8,labA3_2)\n",
        "UD3A3_2 = distance.euclidean(labD3_3,labA3_5)\n",
        "UD3A3_51 = distance.euclidean(labD3_7,labA3_507)\n",
        "UD3A3_52 = distance.euclidean(labD3_4,labA3_504)\n",
        "UD3A3_1 = distance.euclidean(labD3_8,labA3_2)\n",
        "UD3A3_2 = distance.euclidean(labD3_3,labA3_5)\n",
        "UD3A4_1 = distance.euclidean(labD3_7,labA4_4)\n",
        "UD3A4_2 = distance.euclidean(labD3_4,labA4_6)\n",
        "UD3B1_1 = distance.euclidean(labD3_8,labB1_9)\n",
        "UD3B1_2 = distance.euclidean(labD3_3,labB1_7)\n",
        "UD3B2_1 = distance.euclidean(labD3_7,labB2_6)\n",
        "UD3B2_2 = distance.euclidean(labD3_4,labB2_8)\n",
        "UD3B3_1 = distance.euclidean(labD3_8,labB3_1)\n",
        "UD3B3_2 = distance.euclidean(labD3_3,labB3_10)\n",
        "UD3B4_1 = distance.euclidean(labD3_7,labB4_2)\n",
        "UD3B4_2 = distance.euclidean(labD3_4,labB4_8)\n",
        "UD3C1_1 = distance.euclidean(labD3_8,labC1_1)\n",
        "UD3C1_2 = distance.euclidean(labD3_3,labC1_9)\n",
        "UD3C2_1 = distance.euclidean(labD3_7,labC2_3)\n",
        "UD3C2_2 = distance.euclidean(labD3_4,labC2_7)\n",
        "UD3C3_1 = distance.euclidean(labD3_8,labC3_2)\n",
        "UD3C3_2 = distance.euclidean(labD3_3,labC3_9)\n",
        "UD3C4_1 = distance.euclidean(labD3_7,labC4_1)\n",
        "UD3C4_2 = distance.euclidean(labD3_4,labC4_6)\n",
        "UD3D2_1 = distance.euclidean(labD3_7,labD2_1)\n",
        "UD3D2_2 = distance.euclidean(labD3_8,labD2_7)\n",
        "UD3D3_1 = distance.euclidean(labD3_4,labD3_7)\n",
        "UD3D3_2 = distance.euclidean(labD3_3,labD3_8)\n",
        "UD3D4_1 = distance.euclidean(labD3_8,labD4_4)\n",
        "UD3D4_2 = distance.euclidean(labD3_7,labD4_10)"
      ],
      "execution_count": null,
      "outputs": []
    },
    {
      "cell_type": "markdown",
      "metadata": {
        "id": "VOBr4zvOgPvS"
      },
      "source": [
        "D4"
      ]
    },
    {
      "cell_type": "markdown",
      "metadata": {
        "id": "s1IRvmP6qYQJ"
      },
      "source": [
        "A101\n",
        "A104\n",
        "A107\n",
        "A109\n",
        "A201\n",
        "A203\n",
        "A204\n",
        "A206\n",
        "A302\n",
        "A303\n",
        "A304\n",
        "A305\n",
        "A3_502\n",
        "A3_504\n",
        "A3_506\n",
        "A3_507\n",
        "A401\n",
        "A403\n",
        "A404\n",
        "A406\n",
        "B101\n",
        "B102\n",
        "B107\n",
        "B109\n",
        "B205\n",
        "B206\n",
        "B207\n",
        "B208\n",
        "B301\n",
        "B303\n",
        "B306\n",
        "B310\n",
        "B401\n",
        "B402\n",
        "B408\n",
        "B410"
      ]
    },
    {
      "cell_type": "markdown",
      "metadata": {
        "id": "B0WoP6EYqbCh"
      },
      "source": [
        "C101\n",
        "C102\n",
        "C105\n",
        "C109\n",
        "C201\n",
        "C203\n",
        "C205\n",
        "C207\n",
        "C302\n",
        "C303\n",
        "C306\n",
        "C309\n",
        "C401\n",
        "C404\n",
        "C405\n",
        "C406\n",
        "D201\n",
        "D203\n",
        "D206\n",
        "D207\n",
        "D303\n",
        "D304\n",
        "D307\n",
        "D308\n",
        "D402\n",
        "D404\n",
        "D407\n",
        "D410"
      ]
    },
    {
      "cell_type": "code",
      "metadata": {
        "id": "4MGLCxSXgQ7g"
      },
      "source": [
        "UD2A1_1 = distance.euclidean(labD2_1,labA1_1)\n",
        "UD2A1_2 = distance.euclidean(labD2_3,labA1_1)\n",
        "UD2A2_2 = distance.euclidean(labD2_6,labA1_1)\n",
        "UD2A2_1 = distance.euclidean(labD2_7,labA2_3)\n",
        "UD2A2_2 = distance.euclidean(labD2_7,labA2_6)\n",
        "UD2A3_1 = distance.euclidean(labD2_3,labA3_2)\n",
        "UD2A3_2 = distance.euclidean(labD2_1,labA3_5)\n",
        "UD2A3_51 = distance.euclidean(labD2_6,labA3_507)\n",
        "UD2A3_52 = distance.euclidean(labD2_7,labA3_504)\n",
        "UD2A3_1 = distance.euclidean(labD2_3,labA3_2)\n",
        "UD2A3_2 = distance.euclidean(labD2_1,labA3_5)\n",
        "UD2A4_1 = distance.euclidean(labD2_6,labA4_4)\n",
        "UD2A4_2 = distance.euclidean(labD2_7,labA4_6)\n",
        "UD2B1_1 = distance.euclidean(labD2_3,labB1_9)\n",
        "UD2B1_2 = distance.euclidean(labD2_1,labB1_7)\n",
        "UD2B2_1 = distance.euclidean(labD2_6,labB2_6)\n",
        "UD2B2_2 = distance.euclidean(labD2_7,labB2_8)\n",
        "UD2B3_1 = distance.euclidean(labD2_3,labB3_1)\n",
        "UD2B3_2 = distance.euclidean(labD2_1,labB3_10)\n",
        "UD2B4_1 = distance.euclidean(labD2_6,labB4_2)\n",
        "UD2B4_2 = distance.euclidean(labD2_7,labB4_8)\n",
        "UD2C1_1 = distance.euclidean(labD2_3,labC1_1)\n",
        "UD2C1_2 = distance.euclidean(labD2_1,labC1_9)\n",
        "UD2C2_1 = distance.euclidean(labD2_6,labC2_3)\n",
        "UD2C2_2 = distance.euclidean(labD2_7,labC2_7)\n",
        "UD2C3_1 = distance.euclidean(labD2_3,labC3_2)\n",
        "UD2C3_2 = distance.euclidean(labD2_1,labC3_9)\n",
        "UD2C4_1 = distance.euclidean(labD2_6,labC4_1)\n",
        "UD2C4_2 = distance.euclidean(labD2_7,labC4_6)\n",
        "UD2D2_1 = distance.euclidean(labD2_6,labD2_1)\n",
        "UD2D2_2 = distance.euclidean(labD2_3,labD2_7)\n",
        "UD2D3_1 = distance.euclidean(labD2_7,labD3_7)\n",
        "UD2D3_2 = distance.euclidean(labD2_1,labD3_8)\n",
        "UD2D4_1 = distance.euclidean(labD2_3,labD4_4)\n",
        "UD2D4_2 = distance.euclidean(labD2_6,labD4_10)"
      ],
      "execution_count": null,
      "outputs": []
    },
    {
      "cell_type": "code",
      "metadata": {
        "id": "kHSnUoith04f"
      },
      "source": [
        "UD4_7_D4_10 = distance.euclidean(labD4_7,labD4_10)\n",
        "print('Euclidean Distance between', labD4_7 , 'and', labD4_10, 'is: ', UD4_7_D4_10)"
      ],
      "execution_count": null,
      "outputs": []
    }
  ]
}