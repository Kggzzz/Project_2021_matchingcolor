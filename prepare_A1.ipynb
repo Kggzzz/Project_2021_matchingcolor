{
  "nbformat": 4,
  "nbformat_minor": 0,
  "metadata": {
    "colab": {
      "name": "prepare_A1.ipynb",
      "provenance": [],
      "authorship_tag": "ABX9TyPUqSiWkhK+F1KDn5EVON3q",
      "include_colab_link": true
    },
    "kernelspec": {
      "name": "python3",
      "display_name": "Python 3"
    },
    "language_info": {
      "name": "python"
    }
  },
  "cells": [
    {
      "cell_type": "markdown",
      "metadata": {
        "id": "view-in-github",
        "colab_type": "text"
      },
      "source": [
        "<a href=\"https://colab.research.google.com/github/Kggzzz/Project_2021_matchingcolor/blob/main/prepare_A1.ipynb\" target=\"_parent\"><img src=\"https://colab.research.google.com/assets/colab-badge.svg\" alt=\"Open In Colab\"/></a>"
      ]
    },
    {
      "cell_type": "code",
      "metadata": {
        "id": "qnyateeBbpSP"
      },
      "source": [
        "!pip install azure-storage-blob==2.1.0"
      ],
      "execution_count": null,
      "outputs": []
    },
    {
      "cell_type": "code",
      "metadata": {
        "id": "uZRZcO80cxBH"
      },
      "source": [
        "from azure.storage.blob import BlockBlobService\n",
        "import os"
      ],
      "execution_count": null,
      "outputs": []
    },
    {
      "cell_type": "code",
      "metadata": {
        "id": "tJVMV5DMcyJT"
      },
      "source": [
        "blob_service_client = BlockBlobService(account_name='dent01', account_key='CuShY0B4TZJ84TjzPpaHxyrHOpO73aGXeCpdVq7x26OjIlQ1HOz+3DVc9pDEj9BdcEL8odFuTRF0mOAE+aCgiw==')"
      ],
      "execution_count": null,
      "outputs": []
    },
    {
      "cell_type": "markdown",
      "metadata": {
        "id": "nNqTWrPIc2qX"
      },
      "source": [
        "#1.สร้างตัวแปรเฉดไกด์"
      ]
    },
    {
      "cell_type": "markdown",
      "metadata": {
        "id": "Gx-nvNvXdCDu"
      },
      "source": [
        "##Set1"
      ]
    },
    {
      "cell_type": "code",
      "metadata": {
        "id": "PvY9HB-hc96t"
      },
      "source": [
        "S1_doubleA1A1_1 = ''\n",
        "S1_doubleA1A2_1 = ''\n",
        "S1_doubleA1A3_1 = ''\n",
        "S1_doubleA1A3_51 = ''\n",
        "S1_doubleA1A4_1 = ''\n",
        "S1_doubleA1B1_1 = ''\n",
        "S1_doubleA1B2_1 = ''\n",
        "S1_doubleA1B3_1 = ''\n",
        "S1_doubleA1B4_1 = ''\n",
        "S1_doubleA1C1_1 = ''\n",
        "S1_doubleA1C2_1 = ''\n",
        "S1_doubleA1C3_1 = ''\n",
        "S1_doubleA1C4_1 = ''\n",
        "S1_doubleA1D2_1 = ''\n",
        "S1_doubleA1D3_1 = ''\n",
        "S1_doubleA1D4_1 = ''"
      ],
      "execution_count": null,
      "outputs": []
    },
    {
      "cell_type": "markdown",
      "metadata": {
        "id": "Z39xITwsdKL0"
      },
      "source": [
        "##Set2"
      ]
    },
    {
      "cell_type": "code",
      "metadata": {
        "id": "YQD6umVydO-P"
      },
      "source": [
        "S2_doubleA1A1_1 = ''\n",
        "S2_doubleA1A2_1 = ''\n",
        "S2_doubleA1A3_1 = ''\n",
        "S2_doubleA1A3_51 = ''\n",
        "S2_doubleA1A4_1 = ''\n",
        "S2_doubleA1B1_1 = ''\n",
        "S2_doubleA1B2_1 = ''\n",
        "S2_doubleA1B3_1 = ''\n",
        "S2_doubleA1B4_1 = ''\n",
        "S2_doubleA1C1_1 = ''\n",
        "S2_doubleA1C2_1 = ''\n",
        "S2_doubleA1C3_1 = ''\n",
        "S2_doubleA1C4_1 = ''\n",
        "S2_doubleA1D2_1 = ''\n",
        "S2_doubleA1D3_1 = ''\n",
        "S2_doubleA1D4_1 = ''"
      ],
      "execution_count": null,
      "outputs": []
    },
    {
      "cell_type": "markdown",
      "metadata": {
        "id": "EyrDP0cTdMIQ"
      },
      "source": [
        "##Set3"
      ]
    },
    {
      "cell_type": "code",
      "metadata": {
        "id": "umWxebLqdPVY"
      },
      "source": [
        "S3_doubleA1A1_1 = ''\n",
        "S3_doubleA1A2_1 = ''\n",
        "S3_doubleA1A3_1 = ''\n",
        "S3_doubleA1A3_51 = ''\n",
        "S3_doubleA1A4_1 = ''\n",
        "S3_doubleA1B1_1 = ''\n",
        "S3_doubleA1B2_1 = ''\n",
        "S3_doubleA1B3_1 = ''\n",
        "S3_doubleA1B4_1 = ''\n",
        "S3_doubleA1C1_1 = ''\n",
        "S3_doubleA1C2_1 = ''\n",
        "S3_doubleA1C3_1 = ''\n",
        "S3_doubleA1C4_1 = ''\n",
        "S3_doubleA1D2_1 = ''\n",
        "S3_doubleA1D3_1 = ''\n",
        "S3_doubleA1D4_1 = ''"
      ],
      "execution_count": null,
      "outputs": []
    },
    {
      "cell_type": "markdown",
      "metadata": {
        "id": "f6hx_HQxdNkD"
      },
      "source": [
        "##Set4"
      ]
    },
    {
      "cell_type": "code",
      "metadata": {
        "id": "_c365IWxdPwp"
      },
      "source": [
        "S4_doubleA1A1_1 = ''\n",
        "S4_doubleA1A2_1 = ''\n",
        "S4_doubleA1A3_1 = ''\n",
        "S4_doubleA1A3_51 = ''\n",
        "S4_doubleA1A4_1 = ''\n",
        "S4_doubleA1B1_1 = ''\n",
        "S4_doubleA1B2_1 = ''\n",
        "S4_doubleA1B3_1 = ''\n",
        "S4_doubleA1B4_1 = ''\n",
        "S4_doubleA1C1_1 = ''\n",
        "S4_doubleA1C2_1 = ''\n",
        "S4_doubleA1C3_1 = ''\n",
        "S4_doubleA1C4_1 = ''\n",
        "S4_doubleA1D2_1 = ''\n",
        "S4_doubleA1D3_1 = ''\n",
        "S4_doubleA1D4_1 = ''"
      ],
      "execution_count": null,
      "outputs": []
    },
    {
      "cell_type": "markdown",
      "metadata": {
        "id": "Taw1dl5xglaj"
      },
      "source": [
        "#2. ดึงรูป"
      ]
    },
    {
      "cell_type": "markdown",
      "metadata": {
        "id": "7Gl_H8idgnRf"
      },
      "source": [
        "##Set1"
      ]
    },
    {
      "cell_type": "code",
      "metadata": {
        "id": "s7mF6eEHiQ19"
      },
      "source": [
        "full_path_to_file2 = os.path.join(S1_doubleA1A1_1) \n",
        "blob_service_client.get_blob_to_path('shadeimg', full_path_to_file2, full_path_to_file2)"
      ],
      "execution_count": null,
      "outputs": []
    },
    {
      "cell_type": "code",
      "metadata": {
        "id": "kzMKB_OniZY1"
      },
      "source": [
        "full_path_to_file2 = os.path.join(S1_doubleA1A2_1) \n",
        "blob_service_client.get_blob_to_path('shadeimg', full_path_to_file2, full_path_to_file2)"
      ],
      "execution_count": null,
      "outputs": []
    },
    {
      "cell_type": "code",
      "metadata": {
        "id": "IkeC-Fivih3w"
      },
      "source": [
        "full_path_to_file2 = os.path.join(S1_doubleA1A3_1) \n",
        "blob_service_client.get_blob_to_path('shadeimg', full_path_to_file2, full_path_to_file2)"
      ],
      "execution_count": null,
      "outputs": []
    },
    {
      "cell_type": "code",
      "metadata": {
        "id": "3Y9aMJj6ij5n"
      },
      "source": [
        "full_path_to_file2 = os.path.join(S1_doubleA1A3_51) \n",
        "blob_service_client.get_blob_to_path('shadeimg', full_path_to_file2, full_path_to_file2)"
      ],
      "execution_count": null,
      "outputs": []
    },
    {
      "cell_type": "code",
      "metadata": {
        "id": "yrJq8907iuoY"
      },
      "source": [
        "full_path_to_file2 = os.path.join(S1_doubleA1A4_1) \n",
        "blob_service_client.get_blob_to_path('shadeimg', full_path_to_file2, full_path_to_file2)"
      ],
      "execution_count": null,
      "outputs": []
    },
    {
      "cell_type": "code",
      "metadata": {
        "id": "0VJcKHW2i0Ac"
      },
      "source": [
        "full_path_to_file2 = os.path.join(S1_doubleA1B1_1) \n",
        "blob_service_client.get_blob_to_path('shadeimg', full_path_to_file2, full_path_to_file2)"
      ],
      "execution_count": null,
      "outputs": []
    },
    {
      "cell_type": "code",
      "metadata": {
        "id": "hY3AI9RFi0Ad"
      },
      "source": [
        "full_path_to_file2 = os.path.join(S1_doubleA1B2_1) \n",
        "blob_service_client.get_blob_to_path('shadeimg', full_path_to_file2, full_path_to_file2)"
      ],
      "execution_count": null,
      "outputs": []
    },
    {
      "cell_type": "code",
      "metadata": {
        "id": "GApmsAnKi0Ad"
      },
      "source": [
        "full_path_to_file2 = os.path.join(S1_doubleA1B3_1) \n",
        "blob_service_client.get_blob_to_path('shadeimg', full_path_to_file2, full_path_to_file2)"
      ],
      "execution_count": null,
      "outputs": []
    },
    {
      "cell_type": "code",
      "metadata": {
        "id": "O1h96HYqi7cu"
      },
      "source": [
        "full_path_to_file2 = os.path.join(S1_doubleA1B4_1) \n",
        "blob_service_client.get_blob_to_path('shadeimg', full_path_to_file2, full_path_to_file2)"
      ],
      "execution_count": null,
      "outputs": []
    },
    {
      "cell_type": "code",
      "metadata": {
        "id": "RsMHbknqi_fT"
      },
      "source": [
        "full_path_to_file2 = os.path.join(S1_doubleA1C1_1) \n",
        "blob_service_client.get_blob_to_path('shadeimg', full_path_to_file2, full_path_to_file2)"
      ],
      "execution_count": null,
      "outputs": []
    },
    {
      "cell_type": "code",
      "metadata": {
        "id": "wI0oZemgi_fT"
      },
      "source": [
        "full_path_to_file2 = os.path.join(S1_doubleA1C2_1) \n",
        "blob_service_client.get_blob_to_path('shadeimg', full_path_to_file2, full_path_to_file2)"
      ],
      "execution_count": null,
      "outputs": []
    },
    {
      "cell_type": "code",
      "metadata": {
        "id": "6ga7nGGti_fT"
      },
      "source": [
        "full_path_to_file2 = os.path.join(S1_doubleA1C3_1) \n",
        "blob_service_client.get_blob_to_path('shadeimg', full_path_to_file2, full_path_to_file2)"
      ],
      "execution_count": null,
      "outputs": []
    },
    {
      "cell_type": "code",
      "metadata": {
        "id": "nsiPutfEi_fU"
      },
      "source": [
        "full_path_to_file2 = os.path.join(S1_doubleA1C4_1) \n",
        "blob_service_client.get_blob_to_path('shadeimg', full_path_to_file2, full_path_to_file2)"
      ],
      "execution_count": null,
      "outputs": []
    },
    {
      "cell_type": "code",
      "metadata": {
        "id": "IlqllUIljGVj"
      },
      "source": [
        "full_path_to_file2 = os.path.join(S1_doubleA1D2_1) \n",
        "blob_service_client.get_blob_to_path('shadeimg', full_path_to_file2, full_path_to_file2)"
      ],
      "execution_count": null,
      "outputs": []
    },
    {
      "cell_type": "code",
      "metadata": {
        "id": "jXXF16lsjGVj"
      },
      "source": [
        "full_path_to_file2 = os.path.join(S1_doubleA1D3_1) \n",
        "blob_service_client.get_blob_to_path('shadeimg', full_path_to_file2, full_path_to_file2)"
      ],
      "execution_count": null,
      "outputs": []
    },
    {
      "cell_type": "code",
      "metadata": {
        "id": "xRA_M-1PjGVj"
      },
      "source": [
        "full_path_to_file2 = os.path.join(S1_doubleA1D4_1) \n",
        "blob_service_client.get_blob_to_path('shadeimg', full_path_to_file2, full_path_to_file2)"
      ],
      "execution_count": null,
      "outputs": []
    },
    {
      "cell_type": "markdown",
      "metadata": {
        "id": "JmfKq8t7j28g"
      },
      "source": [
        "##Set2"
      ]
    },
    {
      "cell_type": "code",
      "metadata": {
        "id": "YG9ON04Hj7na"
      },
      "source": [
        "full_path_to_file2 = os.path.join(S2_doubleA1A1_1) \n",
        "blob_service_client.get_blob_to_path('shadeimg', full_path_to_file2, full_path_to_file2)"
      ],
      "execution_count": null,
      "outputs": []
    },
    {
      "cell_type": "code",
      "metadata": {
        "id": "fpIQGSx4j7na"
      },
      "source": [
        "full_path_to_file2 = os.path.join(S2_doubleA1A2_1) \n",
        "blob_service_client.get_blob_to_path('shadeimg', full_path_to_file2, full_path_to_file2)"
      ],
      "execution_count": null,
      "outputs": []
    },
    {
      "cell_type": "code",
      "metadata": {
        "id": "0vETkmqzj7na"
      },
      "source": [
        "full_path_to_file2 = os.path.join(S2_doubleA1A3_1) \n",
        "blob_service_client.get_blob_to_path('shadeimg', full_path_to_file2, full_path_to_file2)"
      ],
      "execution_count": null,
      "outputs": []
    },
    {
      "cell_type": "code",
      "metadata": {
        "id": "l1GlwzPqj7nb"
      },
      "source": [
        "full_path_to_file2 = os.path.join(S2_doubleA1A3_51) \n",
        "blob_service_client.get_blob_to_path('shadeimg', full_path_to_file2, full_path_to_file2)"
      ],
      "execution_count": null,
      "outputs": []
    },
    {
      "cell_type": "code",
      "metadata": {
        "id": "qb0jvIuNj7nb"
      },
      "source": [
        "full_path_to_file2 = os.path.join(S2_doubleA1A4_1) \n",
        "blob_service_client.get_blob_to_path('shadeimg', full_path_to_file2, full_path_to_file2)"
      ],
      "execution_count": null,
      "outputs": []
    },
    {
      "cell_type": "code",
      "metadata": {
        "id": "lvYoBM2Lj7nb"
      },
      "source": [
        "full_path_to_file2 = os.path.join(S2_doubleA1B1_1) \n",
        "blob_service_client.get_blob_to_path('shadeimg', full_path_to_file2, full_path_to_file2)"
      ],
      "execution_count": null,
      "outputs": []
    },
    {
      "cell_type": "code",
      "metadata": {
        "id": "cWIIfSkgj7nb"
      },
      "source": [
        "full_path_to_file2 = os.path.join(S2_doubleA1B2_1) \n",
        "blob_service_client.get_blob_to_path('shadeimg', full_path_to_file2, full_path_to_file2)"
      ],
      "execution_count": null,
      "outputs": []
    },
    {
      "cell_type": "code",
      "metadata": {
        "id": "xWiyHdd1j7nb"
      },
      "source": [
        "full_path_to_file2 = os.path.join(S2_doubleA1B3_1) \n",
        "blob_service_client.get_blob_to_path('shadeimg', full_path_to_file2, full_path_to_file2)"
      ],
      "execution_count": null,
      "outputs": []
    },
    {
      "cell_type": "code",
      "metadata": {
        "id": "blRYp5Mmj7nc"
      },
      "source": [
        "full_path_to_file2 = os.path.join(S2_doubleA1B4_1) \n",
        "blob_service_client.get_blob_to_path('shadeimg', full_path_to_file2, full_path_to_file2)"
      ],
      "execution_count": null,
      "outputs": []
    },
    {
      "cell_type": "code",
      "metadata": {
        "id": "BzHII9hsj7nc"
      },
      "source": [
        "full_path_to_file2 = os.path.join(S2_doubleA1C1_1) \n",
        "blob_service_client.get_blob_to_path('shadeimg', full_path_to_file2, full_path_to_file2)"
      ],
      "execution_count": null,
      "outputs": []
    },
    {
      "cell_type": "code",
      "metadata": {
        "id": "86smhxkzj7nc"
      },
      "source": [
        "full_path_to_file2 = os.path.join(S2_doubleA1C2_1) \n",
        "blob_service_client.get_blob_to_path('shadeimg', full_path_to_file2, full_path_to_file2)"
      ],
      "execution_count": null,
      "outputs": []
    },
    {
      "cell_type": "code",
      "metadata": {
        "id": "bUBV2WtFj7nc"
      },
      "source": [
        "full_path_to_file2 = os.path.join(S2_doubleA1C3_1) \n",
        "blob_service_client.get_blob_to_path('shadeimg', full_path_to_file2, full_path_to_file2)"
      ],
      "execution_count": null,
      "outputs": []
    },
    {
      "cell_type": "code",
      "metadata": {
        "id": "FKzepKgNj7nc"
      },
      "source": [
        "full_path_to_file2 = os.path.join(S2_doubleA1C4_1) \n",
        "blob_service_client.get_blob_to_path('shadeimg', full_path_to_file2, full_path_to_file2)"
      ],
      "execution_count": null,
      "outputs": []
    },
    {
      "cell_type": "code",
      "metadata": {
        "id": "YnvzMa_oj7nc"
      },
      "source": [
        "full_path_to_file2 = os.path.join(S2_doubleA1D2_1) \n",
        "blob_service_client.get_blob_to_path('shadeimg', full_path_to_file2, full_path_to_file2)"
      ],
      "execution_count": null,
      "outputs": []
    },
    {
      "cell_type": "code",
      "metadata": {
        "id": "03OpE9BUj7nd"
      },
      "source": [
        "full_path_to_file2 = os.path.join(S2_doubleA1D3_1) \n",
        "blob_service_client.get_blob_to_path('shadeimg', full_path_to_file2, full_path_to_file2)"
      ],
      "execution_count": null,
      "outputs": []
    },
    {
      "cell_type": "code",
      "metadata": {
        "id": "khY3eumjj7nd"
      },
      "source": [
        "full_path_to_file2 = os.path.join(S2_doubleA1D4_1) \n",
        "blob_service_client.get_blob_to_path('shadeimg', full_path_to_file2, full_path_to_file2)"
      ],
      "execution_count": null,
      "outputs": []
    },
    {
      "cell_type": "markdown",
      "metadata": {
        "id": "Q3_Me1CGkKOR"
      },
      "source": [
        "##Set3"
      ]
    },
    {
      "cell_type": "code",
      "metadata": {
        "id": "rEVmkmEHkP6w"
      },
      "source": [
        "full_path_to_file2 = os.path.join(S3_doubleA1A1_1) \n",
        "blob_service_client.get_blob_to_path('shadeimg', full_path_to_file2, full_path_to_file2)"
      ],
      "execution_count": null,
      "outputs": []
    },
    {
      "cell_type": "code",
      "metadata": {
        "id": "E2zB9r0nkP6w"
      },
      "source": [
        "full_path_to_file2 = os.path.join(S3_doubleA1A2_1) \n",
        "blob_service_client.get_blob_to_path('shadeimg', full_path_to_file2, full_path_to_file2)"
      ],
      "execution_count": null,
      "outputs": []
    },
    {
      "cell_type": "code",
      "metadata": {
        "id": "khquyJtfkP6w"
      },
      "source": [
        "full_path_to_file2 = os.path.join(S3_doubleA1A3_1) \n",
        "blob_service_client.get_blob_to_path('shadeimg', full_path_to_file2, full_path_to_file2)"
      ],
      "execution_count": null,
      "outputs": []
    },
    {
      "cell_type": "code",
      "metadata": {
        "id": "g30DpucakP6w"
      },
      "source": [
        "full_path_to_file2 = os.path.join(S3_doubleA1A3_51) \n",
        "blob_service_client.get_blob_to_path('shadeimg', full_path_to_file2, full_path_to_file2)"
      ],
      "execution_count": null,
      "outputs": []
    },
    {
      "cell_type": "code",
      "metadata": {
        "id": "to8VKPf7kP6x"
      },
      "source": [
        "full_path_to_file2 = os.path.join(S3_doubleA1A4_1) \n",
        "blob_service_client.get_blob_to_path('shadeimg', full_path_to_file2, full_path_to_file2)"
      ],
      "execution_count": null,
      "outputs": []
    },
    {
      "cell_type": "code",
      "metadata": {
        "id": "kPdx-IstkP6x"
      },
      "source": [
        "full_path_to_file2 = os.path.join(S3_doubleA1B1_1) \n",
        "blob_service_client.get_blob_to_path('shadeimg', full_path_to_file2, full_path_to_file2)"
      ],
      "execution_count": null,
      "outputs": []
    },
    {
      "cell_type": "code",
      "metadata": {
        "id": "ihyLdsa6kP6x"
      },
      "source": [
        "full_path_to_file2 = os.path.join(S3_doubleA1B2_1) \n",
        "blob_service_client.get_blob_to_path('shadeimg', full_path_to_file2, full_path_to_file2)"
      ],
      "execution_count": null,
      "outputs": []
    },
    {
      "cell_type": "code",
      "metadata": {
        "id": "1SnnyHPPkP6x"
      },
      "source": [
        "full_path_to_file2 = os.path.join(S3_doubleA1B3_1) \n",
        "blob_service_client.get_blob_to_path('shadeimg', full_path_to_file2, full_path_to_file2)"
      ],
      "execution_count": null,
      "outputs": []
    },
    {
      "cell_type": "code",
      "metadata": {
        "id": "GtNbhDGtkP6y"
      },
      "source": [
        "full_path_to_file2 = os.path.join(S3_doubleA1B4_1) \n",
        "blob_service_client.get_blob_to_path('shadeimg', full_path_to_file2, full_path_to_file2)"
      ],
      "execution_count": null,
      "outputs": []
    },
    {
      "cell_type": "code",
      "metadata": {
        "id": "lTqSTkX8kP6y"
      },
      "source": [
        "full_path_to_file2 = os.path.join(S3_doubleA1C1_1) \n",
        "blob_service_client.get_blob_to_path('shadeimg', full_path_to_file2, full_path_to_file2)"
      ],
      "execution_count": null,
      "outputs": []
    },
    {
      "cell_type": "code",
      "metadata": {
        "id": "MFPbxYuSkP6y"
      },
      "source": [
        "full_path_to_file2 = os.path.join(S3_doubleA1C2_1) \n",
        "blob_service_client.get_blob_to_path('shadeimg', full_path_to_file2, full_path_to_file2)"
      ],
      "execution_count": null,
      "outputs": []
    },
    {
      "cell_type": "code",
      "metadata": {
        "id": "v9bYx36OkP6y"
      },
      "source": [
        "full_path_to_file2 = os.path.join(S3_doubleA1C3_1) \n",
        "blob_service_client.get_blob_to_path('shadeimg', full_path_to_file2, full_path_to_file2)"
      ],
      "execution_count": null,
      "outputs": []
    },
    {
      "cell_type": "code",
      "metadata": {
        "id": "RfK5JrGhkP6y"
      },
      "source": [
        "full_path_to_file2 = os.path.join(S3_doubleA1C4_1) \n",
        "blob_service_client.get_blob_to_path('shadeimg', full_path_to_file2, full_path_to_file2)"
      ],
      "execution_count": null,
      "outputs": []
    },
    {
      "cell_type": "code",
      "metadata": {
        "id": "O2jZnO3RkP6y"
      },
      "source": [
        "full_path_to_file2 = os.path.join(S3_doubleA1D2_1) \n",
        "blob_service_client.get_blob_to_path('shadeimg', full_path_to_file2, full_path_to_file2)"
      ],
      "execution_count": null,
      "outputs": []
    },
    {
      "cell_type": "code",
      "metadata": {
        "id": "kFiVo-PUkP6z"
      },
      "source": [
        "full_path_to_file2 = os.path.join(S3_doubleA1D3_1) \n",
        "blob_service_client.get_blob_to_path('shadeimg', full_path_to_file2, full_path_to_file2)"
      ],
      "execution_count": null,
      "outputs": []
    },
    {
      "cell_type": "code",
      "metadata": {
        "id": "b3f1LDx1kP6z"
      },
      "source": [
        "full_path_to_file2 = os.path.join(S3_doubleA1D4_1) \n",
        "blob_service_client.get_blob_to_path('shadeimg', full_path_to_file2, full_path_to_file2)"
      ],
      "execution_count": null,
      "outputs": []
    },
    {
      "cell_type": "markdown",
      "metadata": {
        "id": "2-qqdDCqkLii"
      },
      "source": [
        "##Set4"
      ]
    },
    {
      "cell_type": "code",
      "metadata": {
        "id": "4E1UeuklpZx4"
      },
      "source": [
        "full_path_to_file2 = os.path.join(S4_doubleA1A1_1) \n",
        "blob_service_client.get_blob_to_path('shadeimg', full_path_to_file2, full_path_to_file2)"
      ],
      "execution_count": null,
      "outputs": []
    },
    {
      "cell_type": "code",
      "metadata": {
        "id": "VfaCxfJjpZx5"
      },
      "source": [
        "full_path_to_file2 = os.path.join(S4_doubleA1A2_1) \n",
        "blob_service_client.get_blob_to_path('shadeimg', full_path_to_file2, full_path_to_file2)"
      ],
      "execution_count": null,
      "outputs": []
    },
    {
      "cell_type": "code",
      "metadata": {
        "id": "3zFh2y2IpZx5"
      },
      "source": [
        "full_path_to_file2 = os.path.join(S4_doubleA1A3_1) \n",
        "blob_service_client.get_blob_to_path('shadeimg', full_path_to_file2, full_path_to_file2)"
      ],
      "execution_count": null,
      "outputs": []
    },
    {
      "cell_type": "code",
      "metadata": {
        "id": "X_rktcv8pZx5"
      },
      "source": [
        "full_path_to_file2 = os.path.join(S4_doubleA1A3_51) \n",
        "blob_service_client.get_blob_to_path('shadeimg', full_path_to_file2, full_path_to_file2)"
      ],
      "execution_count": null,
      "outputs": []
    },
    {
      "cell_type": "code",
      "metadata": {
        "id": "m59vf9VfpZx5"
      },
      "source": [
        "full_path_to_file2 = os.path.join(S4_doubleA1A4_1) \n",
        "blob_service_client.get_blob_to_path('shadeimg', full_path_to_file2, full_path_to_file2)"
      ],
      "execution_count": null,
      "outputs": []
    },
    {
      "cell_type": "code",
      "metadata": {
        "id": "D_5Yd3w7pZx6"
      },
      "source": [
        "full_path_to_file2 = os.path.join(S4_doubleA1B1_1) \n",
        "blob_service_client.get_blob_to_path('shadeimg', full_path_to_file2, full_path_to_file2)"
      ],
      "execution_count": null,
      "outputs": []
    },
    {
      "cell_type": "code",
      "metadata": {
        "id": "RHWuivGUpZx6"
      },
      "source": [
        "full_path_to_file2 = os.path.join(S4_doubleA1B2_1) \n",
        "blob_service_client.get_blob_to_path('shadeimg', full_path_to_file2, full_path_to_file2)"
      ],
      "execution_count": null,
      "outputs": []
    },
    {
      "cell_type": "code",
      "metadata": {
        "id": "G5lF8IhzpZx6"
      },
      "source": [
        "full_path_to_file2 = os.path.join(S4_doubleA1B3_1) \n",
        "blob_service_client.get_blob_to_path('shadeimg', full_path_to_file2, full_path_to_file2)"
      ],
      "execution_count": null,
      "outputs": []
    },
    {
      "cell_type": "code",
      "metadata": {
        "id": "N9xFdoP7pZx6"
      },
      "source": [
        "full_path_to_file2 = os.path.join(S4_doubleA1B4_1) \n",
        "blob_service_client.get_blob_to_path('shadeimg', full_path_to_file2, full_path_to_file2)"
      ],
      "execution_count": null,
      "outputs": []
    },
    {
      "cell_type": "code",
      "metadata": {
        "id": "1dH05CslpZx6"
      },
      "source": [
        "full_path_to_file2 = os.path.join(S4_doubleA1C1_1) \n",
        "blob_service_client.get_blob_to_path('shadeimg', full_path_to_file2, full_path_to_file2)"
      ],
      "execution_count": null,
      "outputs": []
    },
    {
      "cell_type": "code",
      "metadata": {
        "id": "BWLm1RmLpZx7"
      },
      "source": [
        "full_path_to_file2 = os.path.join(S4_doubleA1C2_1) \n",
        "blob_service_client.get_blob_to_path('shadeimg', full_path_to_file2, full_path_to_file2)"
      ],
      "execution_count": null,
      "outputs": []
    },
    {
      "cell_type": "code",
      "metadata": {
        "id": "yvYHkKPYpZx7"
      },
      "source": [
        "full_path_to_file2 = os.path.join(S4_doubleA1C3_1) \n",
        "blob_service_client.get_blob_to_path('shadeimg', full_path_to_file2, full_path_to_file2)"
      ],
      "execution_count": null,
      "outputs": []
    },
    {
      "cell_type": "code",
      "metadata": {
        "id": "XCLVoapQpZx7"
      },
      "source": [
        "full_path_to_file2 = os.path.join(S4_doubleA1C4_1) \n",
        "blob_service_client.get_blob_to_path('shadeimg', full_path_to_file2, full_path_to_file2)"
      ],
      "execution_count": null,
      "outputs": []
    },
    {
      "cell_type": "code",
      "metadata": {
        "id": "T99mwTaZpZx7"
      },
      "source": [
        "full_path_to_file2 = os.path.join(S4_doubleA1D2_1) \n",
        "blob_service_client.get_blob_to_path('shadeimg', full_path_to_file2, full_path_to_file2)"
      ],
      "execution_count": null,
      "outputs": []
    },
    {
      "cell_type": "code",
      "metadata": {
        "id": "vf1xxPF3pZx7"
      },
      "source": [
        "full_path_to_file2 = os.path.join(S4_doubleA1D3_1) \n",
        "blob_service_client.get_blob_to_path('shadeimg', full_path_to_file2, full_path_to_file2)"
      ],
      "execution_count": null,
      "outputs": []
    },
    {
      "cell_type": "code",
      "metadata": {
        "id": "ThZA9xm3pZx8"
      },
      "source": [
        "full_path_to_file2 = os.path.join(S4_doubleA1D4_1) \n",
        "blob_service_client.get_blob_to_path('shadeimg', full_path_to_file2, full_path_to_file2)"
      ],
      "execution_count": null,
      "outputs": []
    },
    {
      "cell_type": "markdown",
      "metadata": {
        "id": "MtmXOojtqN4x"
      },
      "source": [
        "#3. BGR to RGB"
      ]
    },
    {
      "cell_type": "code",
      "metadata": {
        "id": "s8SS5YJfrpRC"
      },
      "source": [
        "import cv2\n",
        "from matplotlib import pyplot as plt #การเรียกใช้คำสั่ง matplotlib เพื่อวาดกราฟ โดยแทนชื่อ matplotlib ด้วย plt\n",
        "import matplotlib"
      ],
      "execution_count": null,
      "outputs": []
    },
    {
      "cell_type": "markdown",
      "metadata": {
        "id": "tngQqkwA41EB"
      },
      "source": [
        "##Set1"
      ]
    },
    {
      "cell_type": "code",
      "metadata": {
        "id": "pjV8Jh9u4VyJ"
      },
      "source": [
        "imgS1_A1A1_1  = cv2.imread(S1_doubleA1A1_1)\n",
        "S1RGB_imgA1A1_1= cv2.cvtColor(imgS1_A1A1_1, cv2.COLOR_BGR2RGB)"
      ],
      "execution_count": null,
      "outputs": []
    },
    {
      "cell_type": "code",
      "metadata": {
        "id": "Ixg-SNyU46Lp"
      },
      "source": [
        "imgS1_A1A2_1  = cv2.imread(S1_doubleA1A2_1)\n",
        "S1RGB_imgA1A2_1= cv2.cvtColor(imgS1_A1A2_1, cv2.COLOR_BGR2RGB)"
      ],
      "execution_count": null,
      "outputs": []
    },
    {
      "cell_type": "code",
      "metadata": {
        "id": "a4-_mkF-4-te"
      },
      "source": [
        "imgS1_A1A3_1  = cv2.imread(S1_doubleA1A3_1)\n",
        "S1RGB_imgA1A3_1= cv2.cvtColor(imgS1_A1A3_1, cv2.COLOR_BGR2RGB)"
      ],
      "execution_count": null,
      "outputs": []
    },
    {
      "cell_type": "code",
      "metadata": {
        "id": "uRs18zEK5EM3"
      },
      "source": [
        "imgS1_A1A3_51  = cv2.imread(S1_doubleA1A3_51)\n",
        "S1RGB_imgA1A3_51= cv2.cvtColor(imgS1_A1A3_51, cv2.COLOR_BGR2RGB)"
      ],
      "execution_count": null,
      "outputs": []
    },
    {
      "cell_type": "code",
      "metadata": {
        "id": "LCju5Eai5fV4"
      },
      "source": [
        "imgS1_A1A4_1  = cv2.imread(S1_doubleA1A4_1)\n",
        "S1RGB_imgA1A4_1= cv2.cvtColor(imgS1_A1A4_1, cv2.COLOR_BGR2RGB)"
      ],
      "execution_count": null,
      "outputs": []
    },
    {
      "cell_type": "code",
      "metadata": {
        "id": "sMwRM7yO5llo"
      },
      "source": [
        "imgS1_A1B1_1  = cv2.imread(S1_doubleA1B1_1)\n",
        "S1RGB_imgA1B1_1= cv2.cvtColor(imgS1_A1B1_1, cv2.COLOR_BGR2RGB)"
      ],
      "execution_count": null,
      "outputs": []
    },
    {
      "cell_type": "code",
      "metadata": {
        "id": "B8Efejup5llo"
      },
      "source": [
        "imgS1_A1B2_1  = cv2.imread(S1_doubleA1B2_1)\n",
        "S1RGB_imgA1B2_1= cv2.cvtColor(imgS1_A1B2_1, cv2.COLOR_BGR2RGB)"
      ],
      "execution_count": null,
      "outputs": []
    },
    {
      "cell_type": "code",
      "metadata": {
        "id": "j7fi0Nn95llo"
      },
      "source": [
        "imgS1_A1B3_1  = cv2.imread(S1_doubleA1A3_1)\n",
        "S1RGB_imgA1A3_1= cv2.cvtColor(imgS1_A1A3_1, cv2.COLOR_BGR2RGB)"
      ],
      "execution_count": null,
      "outputs": []
    },
    {
      "cell_type": "code",
      "metadata": {
        "id": "Hxs3fQUU5llp"
      },
      "source": [
        "imgS1_A1B4_1  = cv2.imread(S1_doubleA1B4_1)\n",
        "S1RGB_imgA1B4_1= cv2.cvtColor(imgS1_A1B4_1, cv2.COLOR_BGR2RGB)"
      ],
      "execution_count": null,
      "outputs": []
    },
    {
      "cell_type": "code",
      "metadata": {
        "id": "IaQDpBeS6Oa_"
      },
      "source": [
        "imgS1_A1C1_1  = cv2.imread(S1_doubleA1C1_1)\n",
        "S1RGB_imgA1C1_1= cv2.cvtColor(imgS1_A1C1_1, cv2.COLOR_BGR2RGB)"
      ],
      "execution_count": null,
      "outputs": []
    },
    {
      "cell_type": "code",
      "metadata": {
        "id": "wuQ_nyPB6Oa_"
      },
      "source": [
        "imgS1_A1C2_1  = cv2.imread(S1_doubleA1C2_1)\n",
        "S1RGB_imgA1C2_1= cv2.cvtColor(imgS1_A1C2_1, cv2.COLOR_BGR2RGB)"
      ],
      "execution_count": null,
      "outputs": []
    },
    {
      "cell_type": "code",
      "metadata": {
        "id": "wAdSVg_I6Oa_"
      },
      "source": [
        "imgS1_A1C3_1  = cv2.imread(S1_doubleA1C3_1)\n",
        "S1RGB_imgA1C3_1= cv2.cvtColor(imgS1_A1C3_1, cv2.COLOR_BGR2RGB)"
      ],
      "execution_count": null,
      "outputs": []
    },
    {
      "cell_type": "code",
      "metadata": {
        "id": "XeLavKSo6Oa_"
      },
      "source": [
        "imgS1_A1C4_1  = cv2.imread(S1_doubleA1C4_1)\n",
        "S1RGB_imgA1C4_1= cv2.cvtColor(imgS1_A1C4_1, cv2.COLOR_BGR2RGB)"
      ],
      "execution_count": null,
      "outputs": []
    },
    {
      "cell_type": "code",
      "metadata": {
        "id": "SP6HGOWx6hmP"
      },
      "source": [
        "imgS1_A1D2_1  = cv2.imread(S1_doubleA1D2_1)\n",
        "S1RGB_imgA1D2_1= cv2.cvtColor(imgS1_A1D2_1, cv2.COLOR_BGR2RGB)"
      ],
      "execution_count": null,
      "outputs": []
    },
    {
      "cell_type": "code",
      "metadata": {
        "id": "2d2cV-Ew6hmP"
      },
      "source": [
        "imgS1_A1D3_1  = cv2.imread(S1_doubleA1D3_1)\n",
        "S1RGB_imgA1D3_1= cv2.cvtColor(imgS1_A1D3_1, cv2.COLOR_BGR2RGB)"
      ],
      "execution_count": null,
      "outputs": []
    },
    {
      "cell_type": "code",
      "metadata": {
        "id": "doH48ypZ6hmQ"
      },
      "source": [
        "imgS1_A1D4_1  = cv2.imread(S1_doubleA1D4_1)\n",
        "S1RGB_imgA1D4_1= cv2.cvtColor(imgS1_A1D4_1, cv2.COLOR_BGR2RGB)"
      ],
      "execution_count": null,
      "outputs": []
    },
    {
      "cell_type": "markdown",
      "metadata": {
        "id": "ZVjFEQ3i6sbf"
      },
      "source": [
        "##Set2"
      ]
    },
    {
      "cell_type": "code",
      "metadata": {
        "id": "r2k_MxC66yPx"
      },
      "source": [
        "imgS2_A1A1_1  = cv2.imread(S2_doubleA1A1_1)\n",
        "S2RGB_imgA1A1_1= cv2.cvtColor(imgS2_A1A1_1, cv2.COLOR_BGR2RGB)"
      ],
      "execution_count": null,
      "outputs": []
    },
    {
      "cell_type": "code",
      "metadata": {
        "id": "MHAmt38Z6yPx"
      },
      "source": [
        "imgS2_A1A2_1  = cv2.imread(S2_doubleA1A2_1)\n",
        "S2RGB_imgA1A2_1= cv2.cvtColor(imgS2_A1A2_1, cv2.COLOR_BGR2RGB)"
      ],
      "execution_count": null,
      "outputs": []
    },
    {
      "cell_type": "code",
      "metadata": {
        "id": "6hh_c6Nz6yPx"
      },
      "source": [
        "imgS2_A1A3_1  = cv2.imread(S2_doubleA1A3_1)\n",
        "S2RGB_imgA1A3_1= cv2.cvtColor(imgS2_A1A3_1, cv2.COLOR_BGR2RGB)"
      ],
      "execution_count": null,
      "outputs": []
    },
    {
      "cell_type": "code",
      "metadata": {
        "id": "6yyCk-0x6yPx"
      },
      "source": [
        "imgS1_A1A3_51  = cv2.imread(S1_doubleA1A3_51)\n",
        "S2RGB_imgA1A3_51= cv2.cvtColor(imgS2_A1A3_51, cv2.COLOR_BGR2RGB)"
      ],
      "execution_count": null,
      "outputs": []
    },
    {
      "cell_type": "code",
      "metadata": {
        "id": "t6jh2NW16yPy"
      },
      "source": [
        "imgS2_A1A4_1  = cv2.imread(S2_doubleA1A4_1)\n",
        "S2RGB_imgA1A4_1= cv2.cvtColor(imgS2_A1A4_1, cv2.COLOR_BGR2RGB)"
      ],
      "execution_count": null,
      "outputs": []
    },
    {
      "cell_type": "code",
      "metadata": {
        "id": "lRHgF5pG6yPy"
      },
      "source": [
        "imgS2_A1B1_1  = cv2.imread(S2_doubleA1B1_1)\n",
        "S2RGB_imgA1B1_1= cv2.cvtColor(imgS2_A1B1_1, cv2.COLOR_BGR2RGB)"
      ],
      "execution_count": null,
      "outputs": []
    },
    {
      "cell_type": "code",
      "metadata": {
        "id": "P6XZGW0j6yPy"
      },
      "source": [
        "imgS2_A1B2_1  = cv2.imread(S2_doubleA1B2_1)\n",
        "S2RGB_imgA1B2_1= cv2.cvtColor(imgS2_A1B2_1, cv2.COLOR_BGR2RGB)"
      ],
      "execution_count": null,
      "outputs": []
    },
    {
      "cell_type": "code",
      "metadata": {
        "id": "5i4HMcmU6yPy"
      },
      "source": [
        "imgS2_A1B3_1  = cv2.imread(S2_doubleA1A3_1)\n",
        "S2RGB_imgA1A3_1= cv2.cvtColor(imgS2_A1A3_1, cv2.COLOR_BGR2RGB)"
      ],
      "execution_count": null,
      "outputs": []
    },
    {
      "cell_type": "code",
      "metadata": {
        "id": "DGJT9njO6yPy"
      },
      "source": [
        "imgS2_A1B4_1  = cv2.imread(S2_doubleA1B4_1)\n",
        "S2RGB_imgA1B4_1= cv2.cvtColor(imgS2_A1B4_1, cv2.COLOR_BGR2RGB)"
      ],
      "execution_count": null,
      "outputs": []
    },
    {
      "cell_type": "code",
      "metadata": {
        "id": "sBlmlDZT6yPz"
      },
      "source": [
        "imgS2_A1C1_1  = cv2.imread(S2_doubleA1C1_1)\n",
        "S2RGB_imgA1C1_1= cv2.cvtColor(imgS2_A1C1_1, cv2.COLOR_BGR2RGB)"
      ],
      "execution_count": null,
      "outputs": []
    },
    {
      "cell_type": "code",
      "metadata": {
        "id": "r06WNXcB6yPz"
      },
      "source": [
        "imgS2_A1C2_1  = cv2.imread(S2_doubleA1C2_1)\n",
        "S2RGB_imgA1C2_1= cv2.cvtColor(imgS2_A1C2_1, cv2.COLOR_BGR2RGB)"
      ],
      "execution_count": null,
      "outputs": []
    },
    {
      "cell_type": "code",
      "metadata": {
        "id": "_zK6PC_D6yPz"
      },
      "source": [
        "imgS2_A1C3_1  = cv2.imread(S2_doubleA1C3_1)\n",
        "S2RGB_imgA1C3_1= cv2.cvtColor(imgS2_A1C3_1, cv2.COLOR_BGR2RGB)"
      ],
      "execution_count": null,
      "outputs": []
    },
    {
      "cell_type": "code",
      "metadata": {
        "id": "tY93NDVF6yPz"
      },
      "source": [
        "imgS2_A1C4_1  = cv2.imread(S2_doubleA1C4_1)\n",
        "S2RGB_imgA1C4_1= cv2.cvtColor(imgS2_A1C4_1, cv2.COLOR_BGR2RGB)"
      ],
      "execution_count": null,
      "outputs": []
    },
    {
      "cell_type": "code",
      "metadata": {
        "id": "za8vrXfM6yPz"
      },
      "source": [
        "imgS2_A1D2_1  = cv2.imread(S2_doubleA1D2_1)\n",
        "S2RGB_imgA1D2_1= cv2.cvtColor(imgS2_A1D2_1, cv2.COLOR_BGR2RGB)"
      ],
      "execution_count": null,
      "outputs": []
    },
    {
      "cell_type": "code",
      "metadata": {
        "id": "m1SZS_Nk6yP0"
      },
      "source": [
        "imgS2_A1D3_1  = cv2.imread(S2_doubleA1D3_1)\n",
        "S2RGB_imgA1D3_1= cv2.cvtColor(imgS2_A1D3_1, cv2.COLOR_BGR2RGB)"
      ],
      "execution_count": null,
      "outputs": []
    },
    {
      "cell_type": "code",
      "metadata": {
        "id": "sAzPsG0Z6yP0"
      },
      "source": [
        "imgS2_A1D4_1  = cv2.imread(S2_doubleA1D4_1)\n",
        "S2RGB_imgA1D4_1= cv2.cvtColor(imgS2_A1D4_1, cv2.COLOR_BGR2RGB)"
      ],
      "execution_count": null,
      "outputs": []
    },
    {
      "cell_type": "markdown",
      "metadata": {
        "id": "aoBevWMq8ntk"
      },
      "source": [
        "##Set3"
      ]
    },
    {
      "cell_type": "code",
      "metadata": {
        "id": "9BKFxbGJ8rl3"
      },
      "source": [
        "imgS3_A1A1_1  = cv2.imread(S3_doubleA1A1_1)\n",
        "S3RGB_imgA1A1_1= cv2.cvtColor(imgS3_A1A1_1, cv2.COLOR_BGR2RGB)"
      ],
      "execution_count": null,
      "outputs": []
    },
    {
      "cell_type": "code",
      "metadata": {
        "id": "ulHbLkH_8rl3"
      },
      "source": [
        "imgS3_A1A2_1  = cv2.imread(S3_doubleA1A2_1)\n",
        "S3RGB_imgA1A2_1= cv2.cvtColor(imgS3_A1A2_1, cv2.COLOR_BGR2RGB)"
      ],
      "execution_count": null,
      "outputs": []
    },
    {
      "cell_type": "code",
      "metadata": {
        "id": "J9kRSYe48rl4"
      },
      "source": [
        "imgS3_A1A3_1  = cv2.imread(S3_doubleA1A3_1)\n",
        "S3RGB_imgA1A3_1= cv2.cvtColor(imgS3_A1A3_1, cv2.COLOR_BGR2RGB)"
      ],
      "execution_count": null,
      "outputs": []
    },
    {
      "cell_type": "code",
      "metadata": {
        "id": "Zkx2WQ3O8rl4"
      },
      "source": [
        "imgS3_A1A3_51  = cv2.imread(S3_doubleA1A3_51)\n",
        "S3RGB_imgA1A3_51= cv2.cvtColor(imgS3_A1A3_51, cv2.COLOR_BGR2RGB)"
      ],
      "execution_count": null,
      "outputs": []
    },
    {
      "cell_type": "code",
      "metadata": {
        "id": "C5clyZt98rl4"
      },
      "source": [
        "imgS3_A1A4_1  = cv2.imread(S3_doubleA1A4_1)\n",
        "S3RGB_imgA1A4_1= cv2.cvtColor(imgS3_A1A4_1, cv2.COLOR_BGR2RGB)"
      ],
      "execution_count": null,
      "outputs": []
    },
    {
      "cell_type": "code",
      "metadata": {
        "id": "Mv5JxSQ18rl4"
      },
      "source": [
        "imgS3_A1B1_1  = cv2.imread(S3_doubleA1B1_1)\n",
        "S3RGB_imgA1B1_1= cv2.cvtColor(imgS3_A1B1_1, cv2.COLOR_BGR2RGB)"
      ],
      "execution_count": null,
      "outputs": []
    },
    {
      "cell_type": "code",
      "metadata": {
        "id": "9I3KI-7f8rl4"
      },
      "source": [
        "imgS3_A1B2_1  = cv2.imread(S3_doubleA1B2_1)\n",
        "S3RGB_imgA1B2_1= cv2.cvtColor(imgS3_A1B2_1, cv2.COLOR_BGR2RGB)"
      ],
      "execution_count": null,
      "outputs": []
    },
    {
      "cell_type": "code",
      "metadata": {
        "id": "S4OIG7AO8rl6"
      },
      "source": [
        "imgS3_A1B3_1  = cv2.imread(S3_doubleA1A3_1)\n",
        "S3RGB_imgA1A3_1= cv2.cvtColor(imgS3_A1A3_1, cv2.COLOR_BGR2RGB)"
      ],
      "execution_count": null,
      "outputs": []
    },
    {
      "cell_type": "code",
      "metadata": {
        "id": "rtKhxb5I8rl6"
      },
      "source": [
        "imgS3_A1B4_1  = cv2.imread(S3_doubleA1B4_1)\n",
        "S3RGB_imgA1B4_1= cv2.cvtColor(imgS3_A1B4_1, cv2.COLOR_BGR2RGB)"
      ],
      "execution_count": null,
      "outputs": []
    },
    {
      "cell_type": "code",
      "metadata": {
        "id": "Gtdu3d328rl6"
      },
      "source": [
        "imgS3_A1C1_1  = cv2.imread(S3_doubleA1C1_1)\n",
        "S3RGB_imgA1C1_1= cv2.cvtColor(imgS3_A1C1_1, cv2.COLOR_BGR2RGB)"
      ],
      "execution_count": null,
      "outputs": []
    },
    {
      "cell_type": "code",
      "metadata": {
        "id": "jcn-erZ98rl6"
      },
      "source": [
        "imgS3_A1C2_1  = cv2.imread(S3_doubleA1C2_1)\n",
        "S3RGB_imgA1C2_1= cv2.cvtColor(imgS3_A1C2_1, cv2.COLOR_BGR2RGB)"
      ],
      "execution_count": null,
      "outputs": []
    },
    {
      "cell_type": "code",
      "metadata": {
        "id": "1H550zpJ8rl7"
      },
      "source": [
        "imgS3_A1C3_1  = cv2.imread(S3_doubleA1C3_1)\n",
        "S3RGB_imgA1C3_1= cv2.cvtColor(imgS3_A1C3_1, cv2.COLOR_BGR2RGB)"
      ],
      "execution_count": null,
      "outputs": []
    },
    {
      "cell_type": "code",
      "metadata": {
        "id": "gYysP1eM8rl7"
      },
      "source": [
        "imgS3_A1C4_1  = cv2.imread(S3_doubleA1C4_1)\n",
        "S3RGB_imgA1C4_1= cv2.cvtColor(imgS3_A1C4_1, cv2.COLOR_BGR2RGB)"
      ],
      "execution_count": null,
      "outputs": []
    },
    {
      "cell_type": "code",
      "metadata": {
        "id": "v4ljCwED8rl7"
      },
      "source": [
        "imgS3_A1D2_1  = cv2.imread(S3_doubleA1D2_1)\n",
        "S3RGB_imgA1D2_1= cv2.cvtColor(imgS3_A1D2_1, cv2.COLOR_BGR2RGB)"
      ],
      "execution_count": null,
      "outputs": []
    },
    {
      "cell_type": "code",
      "metadata": {
        "id": "_c2w_0rF8rl7"
      },
      "source": [
        "imgS3_A1D3_1  = cv2.imread(S3_doubleA1D3_1)\n",
        "S3RGB_imgA1D3_1= cv2.cvtColor(imgS3_A1D3_1, cv2.COLOR_BGR2RGB)"
      ],
      "execution_count": null,
      "outputs": []
    },
    {
      "cell_type": "code",
      "metadata": {
        "id": "uqJI2bXz8rl8"
      },
      "source": [
        "imgS3_A1D4_1  = cv2.imread(S3_doubleA1D4_1)\n",
        "S3RGB_imgA1D4_1= cv2.cvtColor(imgS3_A1D4_1, cv2.COLOR_BGR2RGB)"
      ],
      "execution_count": null,
      "outputs": []
    },
    {
      "cell_type": "markdown",
      "metadata": {
        "id": "apeGjiA79pJf"
      },
      "source": [
        "##Set4"
      ]
    },
    {
      "cell_type": "code",
      "metadata": {
        "id": "qYnoDJXh9q2j"
      },
      "source": [
        "imgS4_A1A1_1  = cv2.imread(S4_doubleA1A1_1)\n",
        "S4RGB_imgA1A1_1= cv2.cvtColor(imgS4_A1A1_1, cv2.COLOR_BGR2RGB)"
      ],
      "execution_count": null,
      "outputs": []
    },
    {
      "cell_type": "code",
      "metadata": {
        "id": "0HkjhpAa9q2j"
      },
      "source": [
        "imgS4_A1A2_1  = cv2.imread(S4_doubleA1A2_1)\n",
        "S4RGB_imgA1A2_1= cv2.cvtColor(imgS4_A1A2_1, cv2.COLOR_BGR2RGB)"
      ],
      "execution_count": null,
      "outputs": []
    },
    {
      "cell_type": "code",
      "metadata": {
        "id": "vSFzyH-B9q2j"
      },
      "source": [
        "imgS4_A1A3_1  = cv2.imread(S4_doubleA1A3_1)\n",
        "S4RGB_imgA1A3_1= cv2.cvtColor(imgS4_A1A3_1, cv2.COLOR_BGR2RGB)"
      ],
      "execution_count": null,
      "outputs": []
    },
    {
      "cell_type": "code",
      "metadata": {
        "id": "NaSBU-__9q2j"
      },
      "source": [
        "imgS4_A1A3_51  = cv2.imread(S4_doubleA1A3_51)\n",
        "S4RGB_imgA1A3_51= cv2.cvtColor(imgS4_A1A3_51, cv2.COLOR_BGR2RGB)"
      ],
      "execution_count": null,
      "outputs": []
    },
    {
      "cell_type": "code",
      "metadata": {
        "id": "I5kq2YcL9q2j"
      },
      "source": [
        "imgS4_A1A4_1  = cv2.imread(S4_doubleA1A4_1)\n",
        "S4RGB_imgA1A4_1= cv2.cvtColor(imgS4_A1A4_1, cv2.COLOR_BGR2RGB)"
      ],
      "execution_count": null,
      "outputs": []
    },
    {
      "cell_type": "code",
      "metadata": {
        "id": "WPCZaErZ9q2j"
      },
      "source": [
        "imgS4_A1B1_1  = cv2.imread(S4_doubleA1B1_1)\n",
        "S4RGB_imgA1B1_1= cv2.cvtColor(imgS4_A1B1_1, cv2.COLOR_BGR2RGB)"
      ],
      "execution_count": null,
      "outputs": []
    },
    {
      "cell_type": "code",
      "metadata": {
        "id": "9qoBo-Zb9q2k"
      },
      "source": [
        "imgS4_A1B2_1  = cv2.imread(S4_doubleA1B2_1)\n",
        "S4RGB_imgA1B2_1= cv2.cvtColor(imgS4_A1B2_1, cv2.COLOR_BGR2RGB)"
      ],
      "execution_count": null,
      "outputs": []
    },
    {
      "cell_type": "code",
      "metadata": {
        "id": "kLOZsD239q2k"
      },
      "source": [
        "imgS4_A1B3_1  = cv2.imread(S4_doubleA1A3_1)\n",
        "S4RGB_imgA1A3_1= cv2.cvtColor(imgS4_A1A3_1, cv2.COLOR_BGR2RGB)"
      ],
      "execution_count": null,
      "outputs": []
    },
    {
      "cell_type": "code",
      "metadata": {
        "id": "W-9c6qi39q2k"
      },
      "source": [
        "imgS4_A1B4_1  = cv2.imread(S4_doubleA1B4_1)\n",
        "S4RGB_imgA1B4_1= cv2.cvtColor(imgS4_A1B4_1, cv2.COLOR_BGR2RGB)"
      ],
      "execution_count": null,
      "outputs": []
    },
    {
      "cell_type": "code",
      "metadata": {
        "id": "giX0rFy-9q2k"
      },
      "source": [
        "imgS4_A1C1_1  = cv2.imread(S4_doubleA1C1_1)\n",
        "S4RGB_imgA1C1_1= cv2.cvtColor(imgS4_A1C1_1, cv2.COLOR_BGR2RGB)"
      ],
      "execution_count": null,
      "outputs": []
    },
    {
      "cell_type": "code",
      "metadata": {
        "id": "kqpXGtiz9q2k"
      },
      "source": [
        "imgS4_A1C2_1  = cv2.imread(S4_doubleA1C2_1)\n",
        "S4RGB_imgA1C2_1= cv2.cvtColor(imgS4_A1C2_1, cv2.COLOR_BGR2RGB)"
      ],
      "execution_count": null,
      "outputs": []
    },
    {
      "cell_type": "code",
      "metadata": {
        "id": "rq6q-wS89q2k"
      },
      "source": [
        "imgS4_A1C2_2  = cv2.imread(S4_doubleA1C2_2)\n",
        "S4RGB_imgA1C2_2= cv2.cvtColor(imgS4_A1C2_2, cv2.COLOR_BGR2RGB)"
      ],
      "execution_count": null,
      "outputs": []
    },
    {
      "cell_type": "code",
      "metadata": {
        "id": "4O0PjNu79q2k"
      },
      "source": [
        "imgS4_A1C3_1  = cv2.imread(S4_doubleA1C3_1)\n",
        "S4RGB_imgA1C3_1= cv2.cvtColor(imgS4_A1C3_1, cv2.COLOR_BGR2RGB)"
      ],
      "execution_count": null,
      "outputs": []
    },
    {
      "cell_type": "code",
      "metadata": {
        "id": "J-WaIgA79q2l"
      },
      "source": [
        "imgS4_A1C4_1  = cv2.imread(S4_doubleA1C4_1)\n",
        "S4RGB_imgA1C4_1= cv2.cvtColor(imgS4_A1C4_1, cv2.COLOR_BGR2RGB)"
      ],
      "execution_count": null,
      "outputs": []
    },
    {
      "cell_type": "code",
      "metadata": {
        "id": "vEXqhTbK9q2l"
      },
      "source": [
        "imgS4_A1D2_1  = cv2.imread(S4_doubleA1D2_1)\n",
        "S4RGB_imgA1D2_1= cv2.cvtColor(imgS4_A1D2_1, cv2.COLOR_BGR2RGB)"
      ],
      "execution_count": null,
      "outputs": []
    },
    {
      "cell_type": "code",
      "metadata": {
        "id": "6N-qEwxX9q2l"
      },
      "source": [
        "imgS4_A1D3_1  = cv2.imread(S4_doubleA1D3_1)\n",
        "S4RGB_imgA1D3_1= cv2.cvtColor(imgS4_A1D3_1, cv2.COLOR_BGR2RGB)"
      ],
      "execution_count": null,
      "outputs": []
    },
    {
      "cell_type": "code",
      "metadata": {
        "id": "UxGhWbV89q2l"
      },
      "source": [
        "imgS4_A1D4_1  = cv2.imread(S4_doubleA1D4_1)\n",
        "S4RGB_imgA1D4_1= cv2.cvtColor(imgS4_A1D4_1, cv2.COLOR_BGR2RGB)"
      ],
      "execution_count": null,
      "outputs": []
    },
    {
      "cell_type": "markdown",
      "metadata": {
        "id": "UNtZVBz0CQoq"
      },
      "source": [
        "#5. ดึงสี"
      ]
    },
    {
      "cell_type": "markdown",
      "metadata": {
        "id": "5H65mCxBCwun"
      },
      "source": [
        "##Set1"
      ]
    },
    {
      "cell_type": "code",
      "metadata": {
        "id": "3MeDXa_qCjAo"
      },
      "source": [
        "S1A1_1= list()\n",
        "S1A1_2 = list()\n",
        "for i in range(S1RGB_imgA1A1_1.shape[0]): #ให้ i รันตาม row หรือ shape[0] คือแถว มีทั้งหมด 4032 แถว ของภาพที่ปรับขนาดมาแล้ว\n",
        "     for j in range(S1RGB_imgA1A1_1.shape[1]): #ให้ j รันตาม colum มีทั้งหมด 3024 colum เช่น แถวที่ 1 เข้ามาให้รันครบ 3024colum\n",
        "                if 1770<i<1880 and 1700<j<1830 :\n",
        "                    S1A1_1.append(S1LAB_imgA1A2_1[i][j])\n",
        "                if 1770<i<1880 and 2015<j<2145 :\n",
        "                    S1A2_1.append(S1RGB_imgA1A2_1[i][j])   "
      ],
      "execution_count": null,
      "outputs": []
    },
    {
      "cell_type": "code",
      "metadata": {
        "id": "IY5gPQv-Cy1Q"
      },
      "source": [
        "S1A1_3= list()\n",
        "S1A2_1 = list()\n",
        "for i in range(S1RGB_imgA1A2_1.shape[0]): \n",
        "     for j in range(S1RGB_imgA1A2_1.shape[1]): \n",
        "                if 1770<i<1880 and 1700<j<1830 :\n",
        "                    S1A1_3.append(S1LAB_imgA1A2_1[i][j])\n",
        "                if 1770<i<1880 and 2015<j<2145 :\n",
        "                    S1A2_1.append(S1RGB_imgA1A2_1[i][j])   "
      ],
      "execution_count": null,
      "outputs": []
    },
    {
      "cell_type": "code",
      "metadata": {
        "id": "mig_gz6iC_pn"
      },
      "source": [
        "S1A1_4= list()\n",
        "S1A3_1 = list()\n",
        "for i in range(S1RGB_imgA1A3_1.shape[0]): \n",
        "     for j in range(S1RGB_imgA1A3_1.shape[1]): \n",
        "                if 1770<i<1880 and 1700<j<1830 :\n",
        "                    S1A1_4.append(S1LAB_imgA1A3_1[i][j])\n",
        "                if 1770<i<1880 and 2015<j<2145 :\n",
        "                    S1A3_1.append(S1RGB_imgA1A3_1[i][j])   "
      ],
      "execution_count": null,
      "outputs": []
    },
    {
      "cell_type": "code",
      "metadata": {
        "id": "iu-ny26uDHW1"
      },
      "source": [
        "S1A1_5= list()\n",
        "S1A3_51 = list()\n",
        "for i in range(S1RGB_imgA1A3_51.shape[0]): \n",
        "     for j in range(S1RGB_imgA1A3_51.shape[1]): \n",
        "                if 1770<i<1880 and 1700<j<1830 :\n",
        "                    S1A1_6.append(S1LAB_imgA1A3_51[i][j])\n",
        "                if 1770<i<1880 and 2015<j<2145 :\n",
        "                    S1A3_51.append(S1RGB_imgA1A3_51[i][j])"
      ],
      "execution_count": null,
      "outputs": []
    },
    {
      "cell_type": "code",
      "metadata": {
        "id": "aWV6WsWMDOyh"
      },
      "source": [
        "S1A1_6= list()\n",
        "S1A4_1 = list()\n",
        "for i in range(S1RGB_imgA1A4_1.shape[0]): \n",
        "     for j in range(S1RGB_imgA1A4_1.shape[1]): \n",
        "                if 1770<i<1880 and 1700<j<1830 :\n",
        "                    S1A1_6.append(S1LAB_imgA1A4_1[i][j])\n",
        "                if 1770<i<1880 and 2015<j<2145 :\n",
        "                    S1A4_1.append(S1RGB_imgA1A4_1[i][j])"
      ],
      "execution_count": null,
      "outputs": []
    },
    {
      "cell_type": "code",
      "metadata": {
        "id": "De3kH-OoDYQI"
      },
      "source": [
        "S1A1_7= list()\n",
        "S1B1_1 = list()\n",
        "for i in range(S1RGB_imgA1B1_1.shape[0]): \n",
        "     for j in range(S1RGB_imgA1B1_1.shape[1]): \n",
        "                if 1770<i<1880 and 1700<j<1830 :\n",
        "                    S1A1_7.append(S1LAB_imgA1B1_1[i][j])\n",
        "                if 1770<i<1880 and 2015<j<2145 :\n",
        "                    S1B1_1.append(S1RGB_imgA1B1_1[i][j])"
      ],
      "execution_count": null,
      "outputs": []
    },
    {
      "cell_type": "code",
      "metadata": {
        "id": "gWUovJ6PDioo"
      },
      "source": [
        "S1A1_8= list()\n",
        "S1B2_1 = list()\n",
        "for i in range(S1RGB_imgA1B2_1.shape[0]): \n",
        "     for j in range(S1RGB_imgA1B2_1.shape[1]): \n",
        "                if 1770<i<1880 and 1700<j<1830 :\n",
        "                    S1A1_8.append(S1LAB_imgA1B2_1[i][j])\n",
        "                if 1770<i<1880 and 2015<j<2145 :\n",
        "                    S1B2_1.append(S1RGB_imgA1B2_1[i][j])"
      ],
      "execution_count": null,
      "outputs": []
    },
    {
      "cell_type": "code",
      "metadata": {
        "id": "I4g8iQcMDxjZ"
      },
      "source": [
        "S1A1_9= list()\n",
        "S1B3_1 = list()\n",
        "for i in range(S1RGB_imgA1B3_1.shape[0]): \n",
        "     for j in range(S1RGB_imgA1B3_1.shape[1]): \n",
        "                if 1770<i<1880 and 1700<j<1830 :\n",
        "                    S1A1_9.append(S1LAB_imgA1B3_1[i][j])\n",
        "                if 1770<i<1880 and 2015<j<2145 :\n",
        "                    S1B3_1.append(S1RGB_imgA1B3_1[i][j])"
      ],
      "execution_count": null,
      "outputs": []
    },
    {
      "cell_type": "code",
      "metadata": {
        "id": "Ci0cVh1ND2Hl"
      },
      "source": [
        "S1A1_10= list()\n",
        "S1B4_1 = list()\n",
        "for i in range(S1RGB_imgA1B4_1.shape[0]): \n",
        "     for j in range(S1RGB_imgA1B4_1.shape[1]): \n",
        "                if 1770<i<1880 and 1700<j<1830 :\n",
        "                    S1A1_10.append(S1LAB_imgA1B4_1[i][j])\n",
        "                if 1770<i<1880 and 2015<j<2145 :\n",
        "                    S1B4_1.append(S1RGB_imgA1B4_1[i][j])"
      ],
      "execution_count": null,
      "outputs": []
    },
    {
      "cell_type": "code",
      "metadata": {
        "id": "FwSZ_HixEDkc"
      },
      "source": [
        "S1A1_11= list()\n",
        "S1C1_2 = list()\n",
        "for i in range(S1RGB_imgA1C1_1.shape[0]): \n",
        "     for j in range(S1RGB_imgA1C1_1.shape[1]): \n",
        "                if 1770<i<1880 and 1700<j<1830 :\n",
        "                    S1A1_11.append(S1LAB_imgA1C2_1[i][j])\n",
        "                if 1770<i<1880 and 2015<j<2145 :\n",
        "                    S1C2_1.append(S1RGB_imgA1C2_1[i][j])   "
      ],
      "execution_count": null,
      "outputs": []
    },
    {
      "cell_type": "code",
      "metadata": {
        "id": "DWeSxQyvEDkc"
      },
      "source": [
        "S1A1_12= list()\n",
        "S1C2_1 = list()\n",
        "for i in range(S1RGB_imgA1C2_1.shape[0]): \n",
        "     for j in range(S1RGB_imgA1C2_1.shape[1]): \n",
        "                if 1770<i<1880 and 1700<j<1830 :\n",
        "                    S1A1_12.append(S1LAB_imgA1C2_1[i][j])\n",
        "                if 1770<i<1880 and 2015<j<2145 :\n",
        "                    S1C2_1.append(S1RGB_imgA1C2_1[i][j])   "
      ],
      "execution_count": null,
      "outputs": []
    },
    {
      "cell_type": "code",
      "metadata": {
        "id": "X0Qjr2CGEDkc"
      },
      "source": [
        "S1A1_13= list()\n",
        "S1C3_1 = list()\n",
        "for i in range(S1RGB_imgA1C3_1.shape[0]): \n",
        "     for j in range(S1RGB_imgA1C3_1.shape[1]): \n",
        "                if 1770<i<1880 and 1700<j<1830 :\n",
        "                    S1A1_13.append(S1LAB_imgA1C3_1[i][j])\n",
        "                if 1770<i<1880 and 2015<j<2145 :\n",
        "                    S1C3_1.append(S1RGB_imgA1C3_1[i][j])   "
      ],
      "execution_count": null,
      "outputs": []
    },
    {
      "cell_type": "code",
      "metadata": {
        "id": "aEusPTDaEDkd"
      },
      "source": [
        "S1A1_14= list()\n",
        "S1A4_1 = list()\n",
        "for i in range(S1RGB_imgA1A4_1.shape[0]): \n",
        "     for j in range(S1RGB_imgA1A4_1.shape[1]): \n",
        "                if 1770<i<1880 and 1700<j<1830 :\n",
        "                    S1A1_14.append(S1LAB_imgA1A4_1[i][j])\n",
        "                if 1770<i<1880 and 2015<j<2145 :\n",
        "                    S1A4_1.append(S1RGB_imgA1A4_1[i][j])"
      ],
      "execution_count": null,
      "outputs": []
    },
    {
      "cell_type": "code",
      "metadata": {
        "id": "NNRFIYC5Eo_j"
      },
      "source": [
        "S1A1_15= list()\n",
        "S1D2_1 = list()\n",
        "for i in range(S1RGB_imgA1C2_1.shape[0]): \n",
        "     for j in range(S1RGB_imgA1D2_1.shape[1]): \n",
        "                if 1770<i<1880 and 1700<j<1830 :\n",
        "                    S1A1_15.append(S1LAB_imgA1D2_1[i][j])\n",
        "                if 1770<i<1880 and 2015<j<2145 :\n",
        "                    S1D2_1.append(S1RGB_imgA1D2_1[i][j])   "
      ],
      "execution_count": null,
      "outputs": []
    },
    {
      "cell_type": "code",
      "metadata": {
        "id": "CJbu45bPEo_j"
      },
      "source": [
        "S1A1_16= list()\n",
        "S1D3_1 = list()\n",
        "for i in range(S1RGB_imgA1D3_1.shape[0]): \n",
        "     for j in range(S1RGB_imgA1D3_1.shape[1]): \n",
        "                if 1770<i<1880 and 1700<j<1830 :\n",
        "                    S1A1_16.append(S1LAB_imgA1D3_1[i][j])\n",
        "                if 1770<i<1880 and 2015<j<2145 :\n",
        "                    S1D3_1.append(S1RGB_imgA1D3_1[i][j])   "
      ],
      "execution_count": null,
      "outputs": []
    },
    {
      "cell_type": "code",
      "metadata": {
        "id": "DR9Fo_1cEo_j"
      },
      "source": [
        "S1A1_17= list()\n",
        "S1D4_1 = list()\n",
        "for i in range(S1RGB_imgA1D4_1.shape[0]): \n",
        "     for j in range(S1RGB_imgA1D4_1.shape[1]): \n",
        "                if 1770<i<1880 and 1700<j<1830 :\n",
        "                    S1A1_14.append(S1LAB_imgA1D4_1[i][j])\n",
        "                if 1770<i<1880 and 2015<j<2145 :\n",
        "                    S1D4_1.append(S1RGB_imgA1D4_1[i][j])"
      ],
      "execution_count": null,
      "outputs": []
    },
    {
      "cell_type": "markdown",
      "metadata": {
        "id": "K3aE8wJsE9ve"
      },
      "source": [
        "##Set2"
      ]
    },
    {
      "cell_type": "code",
      "metadata": {
        "id": "khE2o3vOE_KV"
      },
      "source": [
        "S2A1_1= list()\n",
        "S2A1_2 = list()\n",
        "for i in range(S2RGB_imgA1A1_1.shape[0]): \n",
        "     for j in range(S2RGB_imgA1A1_1.shape[1]): \n",
        "                if 1770<i<1880 and 1700<j<1830 :\n",
        "                    S2A1_1.append(S2LAB_imgA1A2_1[i][j])\n",
        "                if 1770<i<1880 and 2015<j<2145 :\n",
        "                    S2A2_1.append(S2RGB_imgA1A2_1[i][j])   "
      ],
      "execution_count": null,
      "outputs": []
    },
    {
      "cell_type": "code",
      "metadata": {
        "id": "4kCdvqwGE_KV"
      },
      "source": [
        "S2A1_3= list()\n",
        "S2A2_1 = list()\n",
        "for i in range(S2RGB_imgA1A2_1.shape[0]): \n",
        "     for j in range(S2RGB_imgA1A2_1.shape[1]): \n",
        "                if 1770<i<1880 and 1700<j<1830 :\n",
        "                    S2A1_3.append(S2LAB_imgA1A2_1[i][j])\n",
        "                if 1770<i<1880 and 2015<j<2145 :\n",
        "                    S2A2_1.append(S2RGB_imgA1A2_1[i][j])   "
      ],
      "execution_count": null,
      "outputs": []
    },
    {
      "cell_type": "code",
      "metadata": {
        "id": "U0X6KhvhE_KV"
      },
      "source": [
        "S2A1_4= list()\n",
        "S2A3_1 = list()\n",
        "for i in range(S2RGB_imgA1A3_1.shape[0]): \n",
        "     for j in range(S2RGB_imgA1A3_1.shape[1]): \n",
        "                if 1770<i<1880 and 1700<j<1830 :\n",
        "                    S2A1_4.append(S2LAB_imgA1A3_1[i][j])\n",
        "                if 1770<i<1880 and 2015<j<2145 :\n",
        "                    S2A3_1.append(S2RGB_imgA1A3_1[i][j])   "
      ],
      "execution_count": null,
      "outputs": []
    },
    {
      "cell_type": "code",
      "metadata": {
        "id": "BLFMGwWaE_KV"
      },
      "source": [
        "S2A1_5= list()\n",
        "S2A3_51 = list()\n",
        "for i in range(S2RGB_imgA1A3_51.shape[0]): \n",
        "     for j in range(S2RGB_imgA1A3_51.shape[1]): \n",
        "                if 1770<i<1880 and 1700<j<1830 :\n",
        "                    S2A1_6.append(S2LAB_imgA1A3_51[i][j])\n",
        "                if 1770<i<1880 and 2015<j<2145 :\n",
        "                    S2A3_51.append(S2RGB_imgA1A3_51[i][j])"
      ],
      "execution_count": null,
      "outputs": []
    },
    {
      "cell_type": "code",
      "metadata": {
        "id": "6628zpddE_KV"
      },
      "source": [
        "S2A1_6= list()\n",
        "S2A4_1 = list()\n",
        "for i in range(S2RGB_imgA1A4_1.shape[0]): \n",
        "     for j in range(S2RGB_imgA1A4_1.shape[1]): \n",
        "                if 1770<i<1880 and 1700<j<1830 :\n",
        "                    S2A1_6.append(S2LAB_imgA1A4_1[i][j])\n",
        "                if 1770<i<1880 and 2015<j<2145 :\n",
        "                    S2A4_1.append(S2RGB_imgA1A4_1[i][j])"
      ],
      "execution_count": null,
      "outputs": []
    },
    {
      "cell_type": "code",
      "metadata": {
        "id": "qi-Bb23SE_KV"
      },
      "source": [
        "S2A1_7= list()\n",
        "S2B1_1 = list()\n",
        "for i in range(S2RGB_imgA1B1_1.shape[0]): \n",
        "     for j in range(S2RGB_imgA1B1_1.shape[1]): \n",
        "                if 1770<i<1880 and 1700<j<1830 :\n",
        "                    S2A1_7.append(S2LAB_imgA1B1_1[i][j])\n",
        "                if 1770<i<1880 and 2015<j<2145 :\n",
        "                    S2B1_1.append(S2RGB_imgA1B1_1[i][j])"
      ],
      "execution_count": null,
      "outputs": []
    },
    {
      "cell_type": "code",
      "metadata": {
        "id": "WdESh-zdE_KV"
      },
      "source": [
        "S2A1_8= list()\n",
        "S2B2_1 = list()\n",
        "for i in range(S2RGB_imgA1B2_1.shape[0]): \n",
        "     for j in range(S2RGB_imgA1B2_1.shape[1]): \n",
        "                if 1770<i<1880 and 1700<j<1830 :\n",
        "                    S2A1_8.append(S2LAB_imgA1B2_1[i][j])\n",
        "                if 1770<i<1880 and 2015<j<2145 :\n",
        "                    S2B2_1.append(S2RGB_imgA1B2_1[i][j])"
      ],
      "execution_count": null,
      "outputs": []
    },
    {
      "cell_type": "code",
      "metadata": {
        "id": "jXnLb-2NE_KW"
      },
      "source": [
        "S2A1_9= list()\n",
        "S2B3_1 = list()\n",
        "for i in range(S2RGB_imgA1B3_1.shape[0]): \n",
        "     for j in range(S2RGB_imgA1B3_1.shape[1]): \n",
        "                if 1770<i<1880 and 1700<j<1830 :\n",
        "                    S2A1_9.append(S2LAB_imgA1B3_1[i][j])\n",
        "                if 1770<i<1880 and 2015<j<2145 :\n",
        "                    S2B3_1.append(S2RGB_imgA1B3_1[i][j])"
      ],
      "execution_count": null,
      "outputs": []
    },
    {
      "cell_type": "code",
      "metadata": {
        "id": "6ISqriBWE_KW"
      },
      "source": [
        "S2A1_10= list()\n",
        "S2B4_1 = list()\n",
        "for i in range(S2RGB_imgA1B4_1.shape[0]): \n",
        "     for j in range(S2RGB_imgA1B4_1.shape[1]): \n",
        "                if 1770<i<1880 and 1700<j<1830 :\n",
        "                    S2A1_10.append(S2LAB_imgA1B4_1[i][j])\n",
        "                if 1770<i<1880 and 2015<j<2145 :\n",
        "                    S2B4_1.append(S2RGB_imgA1B4_1[i][j])"
      ],
      "execution_count": null,
      "outputs": []
    },
    {
      "cell_type": "code",
      "metadata": {
        "id": "RebcKxFxE_KW"
      },
      "source": [
        "S2A1_11= list()\n",
        "S2C1_2 = list()\n",
        "for i in range(S2RGB_imgA1C1_1.shape[0]): \n",
        "     for j in range(S2RGB_imgA1C1_1.shape[1]): \n",
        "                if 1770<i<1880 and 1700<j<1830 :\n",
        "                    S2A1_11.append(S2LAB_imgA1C2_1[i][j])\n",
        "                if 1770<i<1880 and 2015<j<2145 :\n",
        "                    S2C2_1.append(S2RGB_imgA1C2_1[i][j])   "
      ],
      "execution_count": null,
      "outputs": []
    },
    {
      "cell_type": "code",
      "metadata": {
        "id": "rYhPStMmE_KW"
      },
      "source": [
        "S2A1_12= list()\n",
        "S2C2_1 = list()\n",
        "for i in range(S2RGB_imgA1C2_1.shape[0]): \n",
        "     for j in range(S2RGB_imgA1C2_1.shape[1]): \n",
        "                if 1770<i<1880 and 1700<j<1830 :\n",
        "                    S2A1_12.append(S2LAB_imgA1C2_1[i][j])\n",
        "                if 1770<i<1880 and 2015<j<2145 :\n",
        "                    S2C2_1.append(S2RGB_imgA1C2_1[i][j])   "
      ],
      "execution_count": null,
      "outputs": []
    },
    {
      "cell_type": "code",
      "metadata": {
        "id": "h3ox_cTcE_KW"
      },
      "source": [
        "S2A1_13= list()\n",
        "S2C3_1 = list()\n",
        "for i in range(S2RGB_imgA1C3_1.shape[0]): \n",
        "     for j in range(S2RGB_imgA1C3_1.shape[1]): \n",
        "                if 1770<i<1880 and 1700<j<1830 :\n",
        "                    S2A1_13.append(S2LAB_imgA1C3_1[i][j])\n",
        "                if 1770<i<1880 and 2015<j<2145 :\n",
        "                    S2C3_1.append(S2RGB_imgA1C3_1[i][j])   "
      ],
      "execution_count": null,
      "outputs": []
    },
    {
      "cell_type": "code",
      "metadata": {
        "id": "5hciU69HE_KW"
      },
      "source": [
        "S2A1_14= list()\n",
        "S2A4_1 = list()\n",
        "for i in range(S2RGB_imgA1A4_1.shape[0]): \n",
        "     for j in range(S2RGB_imgA1A4_1.shape[1]): \n",
        "                if 1770<i<1880 and 1700<j<1830 :\n",
        "                    S2A1_14.append(S2LAB_imgA1A4_1[i][j])\n",
        "                if 1770<i<1880 and 2015<j<2145 :\n",
        "                    S2A4_1.append(S2RGB_imgA1A4_1[i][j])"
      ],
      "execution_count": null,
      "outputs": []
    },
    {
      "cell_type": "code",
      "metadata": {
        "id": "-PIfd58aE_KW"
      },
      "source": [
        "S2A1_15= list()\n",
        "S2D2_1 = list()\n",
        "for i in range(S2RGB_imgA1C2_1.shape[0]): \n",
        "     for j in range(S2RGB_imgA1D2_1.shape[1]): \n",
        "                if 1770<i<1880 and 1700<j<1830 :\n",
        "                    S2A1_15.append(S2LAB_imgA1D2_1[i][j])\n",
        "                if 1770<i<1880 and 2015<j<2145 :\n",
        "                    S2D2_1.append(S2RGB_imgA1D2_1[i][j])   "
      ],
      "execution_count": null,
      "outputs": []
    },
    {
      "cell_type": "code",
      "metadata": {
        "id": "RWWQk81wE_KW"
      },
      "source": [
        "S2A1_16= list()\n",
        "S2D3_1 = list()\n",
        "for i in range(S2RGB_imgA1D3_1.shape[0]): \n",
        "     for j in range(S2RGB_imgA1D3_1.shape[1]): \n",
        "                if 1770<i<1880 and 1700<j<1830 :\n",
        "                    S2A1_16.append(S2LAB_imgA1D3_1[i][j])\n",
        "                if 1770<i<1880 and 2015<j<2145 :\n",
        "                    S2D3_1.append(S2RGB_imgA1D3_1[i][j])   "
      ],
      "execution_count": null,
      "outputs": []
    },
    {
      "cell_type": "code",
      "metadata": {
        "id": "--ESatmJE_KW"
      },
      "source": [
        "S2A1_17= list()\n",
        "S2D4_1 = list()\n",
        "for i in range(S2RGB_imgA1D4_1.shape[0]): \n",
        "     for j in range(S2RGB_imgA1D4_1.shape[1]): \n",
        "                if 1770<i<1880 and 1700<j<1830 :\n",
        "                    S2A1_14.append(S2LAB_imgA1D4_1[i][j])\n",
        "                if 1770<i<1880 and 2015<j<2145 :\n",
        "                    S2D4_1.append(S2RGB_imgA1D4_1[i][j])"
      ],
      "execution_count": null,
      "outputs": []
    },
    {
      "cell_type": "markdown",
      "metadata": {
        "id": "LdPw_q1gGkV2"
      },
      "source": [
        "##Set3"
      ]
    },
    {
      "cell_type": "code",
      "metadata": {
        "id": "J40PJiI8GmS1"
      },
      "source": [
        "S3A1_1= list()\n",
        "S3A1_2 = list()\n",
        "for i in range(S3RGB_imgA1A1_1.shape[0]): \n",
        "     for j in range(S3RGB_imgA1A1_1.shape[1]): \n",
        "                if 1770<i<1880 and 1700<j<1830 :\n",
        "                    S3A1_1.append(S3LAB_imgA1A2_1[i][j])\n",
        "                if 1770<i<1880 and 2015<j<2145 :\n",
        "                    S3A2_1.append(S3RGB_imgA1A2_1[i][j])   "
      ],
      "execution_count": null,
      "outputs": []
    },
    {
      "cell_type": "code",
      "metadata": {
        "id": "VxYPEX_4GmS1"
      },
      "source": [
        "S3A1_3= list()\n",
        "S3A2_1 = list()\n",
        "for i in range(S3RGB_imgA1A2_1.shape[0]): \n",
        "     for j in range(S3RGB_imgA1A2_1.shape[1]): \n",
        "                if 1770<i<1880 and 1700<j<1830 :\n",
        "                    S3A1_3.append(S3LAB_imgA1A2_1[i][j])\n",
        "                if 1770<i<1880 and 2015<j<2145 :\n",
        "                    S3A2_1.append(S3RGB_imgA1A2_1[i][j])   "
      ],
      "execution_count": null,
      "outputs": []
    },
    {
      "cell_type": "code",
      "metadata": {
        "id": "BVNOg5-cGmS2"
      },
      "source": [
        "S3A1_4= list()\n",
        "S3A3_1 = list()\n",
        "for i in range(S3RGB_imgA1A3_1.shape[0]): \n",
        "     for j in range(S3RGB_imgA1A3_1.shape[1]): \n",
        "                if 1770<i<1880 and 1700<j<1830 :\n",
        "                    S3A1_4.append(S3LAB_imgA1A3_1[i][j])\n",
        "                if 1770<i<1880 and 2015<j<2145 :\n",
        "                    S3A3_1.append(S3RGB_imgA1A3_1[i][j])   "
      ],
      "execution_count": null,
      "outputs": []
    },
    {
      "cell_type": "code",
      "metadata": {
        "id": "hgO-IINpGmS2"
      },
      "source": [
        "S3A1_5= list()\n",
        "S3A3_51 = list()\n",
        "for i in range(S3RGB_imgA1A3_51.shape[0]): \n",
        "     for j in range(S3RGB_imgA1A3_51.shape[1]): \n",
        "                if 1770<i<1880 and 1700<j<1830 :\n",
        "                    S3A1_6.append(S3LAB_imgA1A3_51[i][j])\n",
        "                if 1770<i<1880 and 2015<j<2145 :\n",
        "                    S3A3_51.append(S3RGB_imgA1A3_51[i][j])"
      ],
      "execution_count": null,
      "outputs": []
    },
    {
      "cell_type": "code",
      "metadata": {
        "id": "mhPYG5aWGmS2"
      },
      "source": [
        "S3A1_6= list()\n",
        "S3A4_1 = list()\n",
        "for i in range(S3RGB_imgA1A4_1.shape[0]): \n",
        "     for j in range(S3RGB_imgA1A4_1.shape[1]): \n",
        "                if 1770<i<1880 and 1700<j<1830 :\n",
        "                    S3A1_6.append(S3LAB_imgA1A4_1[i][j])\n",
        "                if 1770<i<1880 and 2015<j<2145 :\n",
        "                    S3A4_1.append(S3RGB_imgA1A4_1[i][j])"
      ],
      "execution_count": null,
      "outputs": []
    },
    {
      "cell_type": "code",
      "metadata": {
        "id": "fEdxgljaGmS2"
      },
      "source": [
        "S3A1_7= list()\n",
        "S3B1_1 = list()\n",
        "for i in range(S3RGB_imgA1B1_1.shape[0]): \n",
        "     for j in range(S3RGB_imgA1B1_1.shape[1]): \n",
        "                if 1770<i<1880 and 1700<j<1830 :\n",
        "                    S3A1_7.append(S3LAB_imgA1B1_1[i][j])\n",
        "                if 1770<i<1880 and 2015<j<2145 :\n",
        "                    S3B1_1.append(S3RGB_imgA1B1_1[i][j])"
      ],
      "execution_count": null,
      "outputs": []
    },
    {
      "cell_type": "code",
      "metadata": {
        "id": "BjYP0W3yGmS4"
      },
      "source": [
        "S3A1_8= list()\n",
        "S3B2_1 = list()\n",
        "for i in range(S3RGB_imgA1B2_1.shape[0]): \n",
        "     for j in range(S3RGB_imgA1B2_1.shape[1]): \n",
        "                if 1770<i<1880 and 1700<j<1830 :\n",
        "                    S3A1_8.append(S3LAB_imgA1B2_1[i][j])\n",
        "                if 1770<i<1880 and 2015<j<2145 :\n",
        "                    S3B2_1.append(S3RGB_imgA1B2_1[i][j])"
      ],
      "execution_count": null,
      "outputs": []
    },
    {
      "cell_type": "code",
      "metadata": {
        "id": "v-ifdKzfGmS4"
      },
      "source": [
        "S3A1_9= list()\n",
        "S3B3_1 = list()\n",
        "for i in range(S3RGB_imgA1B3_1.shape[0]): \n",
        "     for j in range(S3RGB_imgA1B3_1.shape[1]): \n",
        "                if 1770<i<1880 and 1700<j<1830 :\n",
        "                    S3A1_9.append(S3LAB_imgA1B3_1[i][j])\n",
        "                if 1770<i<1880 and 2015<j<2145 :\n",
        "                    S3B3_1.append(S3RGB_imgA1B3_1[i][j])"
      ],
      "execution_count": null,
      "outputs": []
    },
    {
      "cell_type": "code",
      "metadata": {
        "id": "SIYhSOKUGmS4"
      },
      "source": [
        "S3A1_10= list()\n",
        "S3B4_1 = list()\n",
        "for i in range(S3RGB_imgA1B4_1.shape[0]): \n",
        "     for j in range(S3RGB_imgA1B4_1.shape[1]): \n",
        "                if 1770<i<1880 and 1700<j<1830 :\n",
        "                    S3A1_10.append(S3LAB_imgA1B4_1[i][j])\n",
        "                if 1770<i<1880 and 2015<j<2145 :\n",
        "                    S3B4_1.append(S3RGB_imgA1B4_1[i][j])"
      ],
      "execution_count": null,
      "outputs": []
    },
    {
      "cell_type": "code",
      "metadata": {
        "id": "ApnX1-rXGmS4"
      },
      "source": [
        "S3A1_11= list()\n",
        "S3C1_2 = list()\n",
        "for i in range(S3RGB_imgA1C1_1.shape[0]): \n",
        "     for j in range(S3RGB_imgA1C1_1.shape[1]): \n",
        "                if 1770<i<1880 and 1700<j<1830 :\n",
        "                    S3A1_11.append(S3LAB_imgA1C2_1[i][j])\n",
        "                if 1770<i<1880 and 2015<j<2145 :\n",
        "                    S3C2_1.append(S3RGB_imgA1C2_1[i][j])   "
      ],
      "execution_count": null,
      "outputs": []
    },
    {
      "cell_type": "code",
      "metadata": {
        "id": "eJ_c9MBkGmS4"
      },
      "source": [
        "S3A1_12= list()\n",
        "S3C2_1 = list()\n",
        "for i in range(S3RGB_imgA1C2_1.shape[0]): \n",
        "     for j in range(S3RGB_imgA1C2_1.shape[1]): \n",
        "                if 1770<i<1880 and 1700<j<1830 :\n",
        "                    S3A1_12.append(S3LAB_imgA1C2_1[i][j])\n",
        "                if 1770<i<1880 and 2015<j<2145 :\n",
        "                    S3C2_1.append(S3RGB_imgA1C2_1[i][j])   "
      ],
      "execution_count": null,
      "outputs": []
    },
    {
      "cell_type": "code",
      "metadata": {
        "id": "_cOuV9_UGmS4"
      },
      "source": [
        "S3A1_13= list()\n",
        "S3C3_1 = list()\n",
        "for i in range(S3RGB_imgA1C3_1.shape[0]): \n",
        "     for j in range(S3RGB_imgA1C3_1.shape[1]): \n",
        "                if 1770<i<1880 and 1700<j<1830 :\n",
        "                    S3A1_13.append(S3LAB_imgA1C3_1[i][j])\n",
        "                if 1770<i<1880 and 2015<j<2145 :\n",
        "                    S3C3_1.append(S3RGB_imgA1C3_1[i][j])   "
      ],
      "execution_count": null,
      "outputs": []
    },
    {
      "cell_type": "code",
      "metadata": {
        "id": "7kykr3x5GmS5"
      },
      "source": [
        "S3A1_14= list()\n",
        "S3A4_1 = list()\n",
        "for i in range(S3RGB_imgA1A4_1.shape[0]): \n",
        "     for j in range(S3RGB_imgA1A4_1.shape[1]): \n",
        "                if 1770<i<1880 and 1700<j<1830 :\n",
        "                    S3A1_14.append(S3LAB_imgA1A4_1[i][j])\n",
        "                if 1770<i<1880 and 2015<j<2145 :\n",
        "                    S3A4_1.append(S3RGB_imgA1A4_1[i][j])"
      ],
      "execution_count": null,
      "outputs": []
    },
    {
      "cell_type": "code",
      "metadata": {
        "id": "WPHrRVBUGmS5"
      },
      "source": [
        "S3A1_15= list()\n",
        "S3D2_1 = list()\n",
        "for i in range(S3RGB_imgA1C2_1.shape[0]): \n",
        "     for j in range(S3RGB_imgA1D2_1.shape[1]): \n",
        "                if 1770<i<1880 and 1700<j<1830 :\n",
        "                    S3A1_15.append(S3LAB_imgA1D2_1[i][j])\n",
        "                if 1770<i<1880 and 2015<j<2145 :\n",
        "                    S3D2_1.append(S3RGB_imgA1D2_1[i][j])   "
      ],
      "execution_count": null,
      "outputs": []
    },
    {
      "cell_type": "code",
      "metadata": {
        "id": "isJEjHrRGmS5"
      },
      "source": [
        "S3A1_16= list()\n",
        "S3D3_1 = list()\n",
        "for i in range(S3RGB_imgA1D3_1.shape[0]): \n",
        "     for j in range(S3RGB_imgA1D3_1.shape[1]): \n",
        "                if 1770<i<1880 and 1700<j<1830 :\n",
        "                    S3A1_16.append(S3LAB_imgA1D3_1[i][j])\n",
        "                if 1770<i<1880 and 2015<j<2145 :\n",
        "                    S3D3_1.append(S3RGB_imgA1D3_1[i][j])   "
      ],
      "execution_count": null,
      "outputs": []
    },
    {
      "cell_type": "code",
      "metadata": {
        "id": "ps2NBDnOGmS5"
      },
      "source": [
        "S3A1_17= list()\n",
        "S3D4_1 = list()\n",
        "for i in range(S3RGB_imgA1D4_1.shape[0]): \n",
        "     for j in range(S3RGB_imgA1D4_1.shape[1]): \n",
        "                if 1770<i<1880 and 1700<j<1830 :\n",
        "                    S3A1_14.append(S3LAB_imgA1D4_1[i][j])\n",
        "                if 1770<i<1880 and 2015<j<2145 :\n",
        "                    S3D4_1.append(S3RGB_imgA1D4_1[i][j])"
      ],
      "execution_count": null,
      "outputs": []
    },
    {
      "cell_type": "markdown",
      "metadata": {
        "id": "sjUneh4RHb0T"
      },
      "source": [
        "##Set4"
      ]
    },
    {
      "cell_type": "code",
      "metadata": {
        "id": "Q2cfVpmuHf4m"
      },
      "source": [
        "S4A1_1= list()\n",
        "S4A1_2 = list()\n",
        "for i in range(S4RGB_imgA1A1_1.shape[0]): \n",
        "     for j in range(S4RGB_imgA1A1_1.shape[1]): \n",
        "                if 1770<i<1880 and 1700<j<1830 :\n",
        "                    S4A1_1.append(S4LAB_imgA1A2_1[i][j])\n",
        "                if 1770<i<1880 and 2015<j<2145 :\n",
        "                    S4A2_1.append(S4RGB_imgA1A2_1[i][j])   "
      ],
      "execution_count": null,
      "outputs": []
    },
    {
      "cell_type": "code",
      "metadata": {
        "id": "Xz63JWZhHf4m"
      },
      "source": [
        "S4A1_3= list()\n",
        "S4A2_1 = list()\n",
        "for i in range(S4RGB_imgA1A2_1.shape[0]): \n",
        "     for j in range(S4RGB_imgA1A2_1.shape[1]): \n",
        "                if 1770<i<1880 and 1700<j<1830 :\n",
        "                    S4A1_3.append(S4LAB_imgA1A2_1[i][j])\n",
        "                if 1770<i<1880 and 2015<j<2145 :\n",
        "                    S4A2_1.append(S4RGB_imgA1A2_1[i][j])   "
      ],
      "execution_count": null,
      "outputs": []
    },
    {
      "cell_type": "code",
      "metadata": {
        "id": "m0x_EYErHf4m"
      },
      "source": [
        "S4A1_4= list()\n",
        "S4A3_1 = list()\n",
        "for i in range(S4RGB_imgA1A3_1.shape[0]): \n",
        "     for j in range(S4RGB_imgA1A3_1.shape[1]): \n",
        "                if 1770<i<1880 and 1700<j<1830 :\n",
        "                    S4A1_4.append(S4LAB_imgA1A3_1[i][j])\n",
        "                if 1770<i<1880 and 2015<j<2145 :\n",
        "                    S4A3_1.append(S4RGB_imgA1A3_1[i][j])   "
      ],
      "execution_count": null,
      "outputs": []
    },
    {
      "cell_type": "code",
      "metadata": {
        "id": "2fkBODCxHf4n"
      },
      "source": [
        "S4A1_5= list()\n",
        "S4A3_51 = list()\n",
        "for i in range(S4RGB_imgA1A3_51.shape[0]): \n",
        "     for j in range(S4RGB_imgA1A3_51.shape[1]): \n",
        "                if 1770<i<1880 and 1700<j<1830 :\n",
        "                    S4A1_6.append(S4LAB_imgA1A3_51[i][j])\n",
        "                if 1770<i<1880 and 2015<j<2145 :\n",
        "                    S4A3_51.append(S4RGB_imgA1A3_51[i][j])"
      ],
      "execution_count": null,
      "outputs": []
    },
    {
      "cell_type": "code",
      "metadata": {
        "id": "2mpRtq-_Hf4n"
      },
      "source": [
        "S4A1_6= list()\n",
        "S4A4_1 = list()\n",
        "for i in range(S4RGB_imgA1A4_1.shape[0]): \n",
        "     for j in range(S4RGB_imgA1A4_1.shape[1]): \n",
        "                if 1770<i<1880 and 1700<j<1830 :\n",
        "                    S4A1_6.append(S4LAB_imgA1A4_1[i][j])\n",
        "                if 1770<i<1880 and 2015<j<2145 :\n",
        "                    S4A4_1.append(S4RGB_imgA1A4_1[i][j])"
      ],
      "execution_count": null,
      "outputs": []
    },
    {
      "cell_type": "code",
      "metadata": {
        "id": "RA15r3vmHf4n"
      },
      "source": [
        "S4A1_7= list()\n",
        "S4B1_1 = list()\n",
        "for i in range(S4RGB_imgA1B1_1.shape[0]): \n",
        "     for j in range(S4RGB_imgA1B1_1.shape[1]): \n",
        "                if 1770<i<1880 and 1700<j<1830 :\n",
        "                    S4A1_7.append(S4LAB_imgA1B1_1[i][j])\n",
        "                if 1770<i<1880 and 2015<j<2145 :\n",
        "                    S4B1_1.append(S4RGB_imgA1B1_1[i][j])"
      ],
      "execution_count": null,
      "outputs": []
    },
    {
      "cell_type": "code",
      "metadata": {
        "id": "iXmvLR4YHf4n"
      },
      "source": [
        "S4A1_8= list()\n",
        "S4B2_1 = list()\n",
        "for i in range(S4RGB_imgA1B2_1.shape[0]): \n",
        "     for j in range(S4RGB_imgA1B2_1.shape[1]): \n",
        "                if 1770<i<1880 and 1700<j<1830 :\n",
        "                    S4A1_8.append(S4LAB_imgA1B2_1[i][j])\n",
        "                if 1770<i<1880 and 2015<j<2145 :\n",
        "                    S4B2_1.append(S4RGB_imgA1B2_1[i][j])"
      ],
      "execution_count": null,
      "outputs": []
    },
    {
      "cell_type": "code",
      "metadata": {
        "id": "Z3J6vrv5Hf4n"
      },
      "source": [
        "S4A1_9= list()\n",
        "S4B3_1 = list()\n",
        "for i in range(S3RGB_imgA1B3_1.shape[0]): \n",
        "     for j in range(S4RGB_imgA1B3_1.shape[1]): \n",
        "                if 1770<i<1880 and 1700<j<1830 :\n",
        "                    S4A1_9.append(S4LAB_imgA1B3_1[i][j])\n",
        "                if 1770<i<1880 and 2015<j<2145 :\n",
        "                    S4B3_1.append(S4RGB_imgA1B3_1[i][j])"
      ],
      "execution_count": null,
      "outputs": []
    },
    {
      "cell_type": "code",
      "metadata": {
        "id": "mSdkq8vhHf4n"
      },
      "source": [
        "S4A1_10= list()\n",
        "S4B4_1 = list()\n",
        "for i in range(S4RGB_imgA1B4_1.shape[0]): \n",
        "     for j in range(S4RGB_imgA1B4_1.shape[1]): \n",
        "                if 1770<i<1880 and 1700<j<1830 :\n",
        "                    S4A1_10.append(S4LAB_imgA1B4_1[i][j])\n",
        "                if 1770<i<1880 and 2015<j<2145 :\n",
        "                    S4B4_1.append(S4RGB_imgA1B4_1[i][j])"
      ],
      "execution_count": null,
      "outputs": []
    },
    {
      "cell_type": "code",
      "metadata": {
        "id": "-SK3SZSKHf4n"
      },
      "source": [
        "S4A1_11= list()\n",
        "S4C1_2 = list()\n",
        "for i in range(S4RGB_imgA1C1_1.shape[0]): \n",
        "     for j in range(S4RGB_imgA1C1_1.shape[1]): \n",
        "                if 1770<i<1880 and 1700<j<1830 :\n",
        "                    S4A1_11.append(S4LAB_imgA1C2_1[i][j])\n",
        "                if 1770<i<1880 and 2015<j<2145 :\n",
        "                    S4C2_1.append(S4RGB_imgA1C2_1[i][j])   "
      ],
      "execution_count": null,
      "outputs": []
    },
    {
      "cell_type": "code",
      "metadata": {
        "id": "DwlieHawHf4n"
      },
      "source": [
        "S4A1_12= list()\n",
        "S4C2_1 = list()\n",
        "for i in range(S4RGB_imgA1C2_1.shape[0]): \n",
        "     for j in range(S4RGB_imgA1C2_1.shape[1]): \n",
        "                if 1770<i<1880 and 1700<j<1830 :\n",
        "                    S4A1_12.append(S4LAB_imgA1C2_1[i][j])\n",
        "                if 1770<i<1880 and 2015<j<2145 :\n",
        "                    S4C2_1.append(S4RGB_imgA1C2_1[i][j])   "
      ],
      "execution_count": null,
      "outputs": []
    },
    {
      "cell_type": "code",
      "metadata": {
        "id": "U02tWxMMHf4o"
      },
      "source": [
        "S4A1_13= list()\n",
        "S4C3_1 = list()\n",
        "for i in range(S4RGB_imgA1C3_1.shape[0]): \n",
        "     for j in range(S4RGB_imgA1C3_1.shape[1]): \n",
        "                if 1770<i<1880 and 1700<j<1830 :\n",
        "                    S4A1_13.append(S4LAB_imgA1C3_1[i][j])\n",
        "                if 1770<i<1880 and 2015<j<2145 :\n",
        "                    S4C3_1.append(S4RGB_imgA1C3_1[i][j])   "
      ],
      "execution_count": null,
      "outputs": []
    },
    {
      "cell_type": "code",
      "metadata": {
        "id": "pfOn-jLeHf4o"
      },
      "source": [
        "S4A1_14= list()\n",
        "S4A4_1 = list()\n",
        "for i in range(S4RGB_imgA1A4_1.shape[0]): \n",
        "     for j in range(S4RGB_imgA1A4_1.shape[1]): \n",
        "                if 1770<i<1880 and 1700<j<1830 :\n",
        "                    S4A1_14.append(S4LAB_imgA1A4_1[i][j])\n",
        "                if 1770<i<1880 and 2015<j<2145 :\n",
        "                    S4A4_1.append(S4RGB_imgA1A4_1[i][j])"
      ],
      "execution_count": null,
      "outputs": []
    },
    {
      "cell_type": "code",
      "metadata": {
        "id": "AbnmV2_kHf4o"
      },
      "source": [
        "S4A1_15= list()\n",
        "S4D2_1 = list()\n",
        "for i in range(S4RGB_imgA1C2_1.shape[0]): \n",
        "     for j in range(S4RGB_imgA1D2_1.shape[1]): \n",
        "                if 1770<i<1880 and 1700<j<1830 :\n",
        "                    S4A1_15.append(S4LAB_imgA1D2_1[i][j])\n",
        "                if 1770<i<1880 and 2015<j<2145 :\n",
        "                    S4D2_1.append(S4RGB_imgA1D2_1[i][j])   "
      ],
      "execution_count": null,
      "outputs": []
    },
    {
      "cell_type": "code",
      "metadata": {
        "id": "iDlwebCJHf4o"
      },
      "source": [
        "S4A1_16= list()\n",
        "S4D3_1 = list()\n",
        "for i in range(S4RGB_imgA1D3_1.shape[0]): \n",
        "     for j in range(S4RGB_imgA1D3_1.shape[1]): \n",
        "                if 1770<i<1880 and 1700<j<1830 :\n",
        "                    S4A1_16.append(S4LAB_imgA1D3_1[i][j])\n",
        "                if 1770<i<1880 and 2015<j<2145 :\n",
        "                    S4D3_1.append(S4RGB_imgA1D3_1[i][j])   "
      ],
      "execution_count": null,
      "outputs": []
    },
    {
      "cell_type": "code",
      "metadata": {
        "id": "_tnuzvwuHf4o"
      },
      "source": [
        "S4A1_17= list()\n",
        "S4D4_1 = list()\n",
        "for i in range(S4RGB_imgA1D4_1.shape[0]): \n",
        "     for j in range(S4RGB_imgA1D4_1.shape[1]): \n",
        "                if 1770<i<1880 and 1700<j<1830 :\n",
        "                    S4A1_14.append(S4LAB_imgA1D4_1[i][j])\n",
        "                if 1770<i<1880 and 2015<j<2145 :\n",
        "                    S4D4_1.append(S4RGB_imgA1D4_1[i][j])"
      ],
      "execution_count": null,
      "outputs": []
    },
    {
      "cell_type": "markdown",
      "metadata": {
        "id": "7KPqBEcdIXnZ"
      },
      "source": [
        "#6. หาค่า Mean"
      ]
    },
    {
      "cell_type": "code",
      "metadata": {
        "id": "tePep_ujIfg2"
      },
      "source": [
        "import numpy as np"
      ],
      "execution_count": null,
      "outputs": []
    },
    {
      "cell_type": "markdown",
      "metadata": {
        "id": "CkCYreCNIxic"
      },
      "source": [
        "##Set1"
      ]
    },
    {
      "cell_type": "code",
      "metadata": {
        "id": "VLEHrLHLItVX"
      },
      "source": [
        "S1meanrefA1_1 = list()\n",
        "S1meanA1_2 = list()\n",
        "for i in range(S1RGB_imgA1A1_1.shape[0]): #ให้ i รันตาม row หรือ shape[0] คือแถว มีทั้งหมด 4032 แถว ของภาพที่ปรับขนาดมาแล้ว\n",
        "     for j in range(S1RGB_imgA1A1_1.shape[1]): #ให้ j รันตาม colum มีทั้งหมด 3024 colum เช่น แถวที่ 1 เข้ามาให้รันครบ 3024colum\n",
        "                if 1769<i<1881 and 2019<j<2131 :\n",
        "                  S1meanrefA1_1.append(S1RGB_imgA1A1_1[i][j])\n",
        "                if 1770<i<1880 and 2015<j<2145 :\n",
        "                  S1meanA1_2.append(S1RGB_imgA1A1_1[i][j])  \n",
        "S1meanrefA1_1 = np.array(S1meanrefA1_1)\n",
        "S1meanA1_2 = np.array(S1meanA1_2)\n",
        "\n",
        "S1labrefA1_1 = list()\n",
        "S1labA1_2 = list()\n",
        "for i in range(3):\n",
        "    S1labrefA1_1.append(S1meanrefA1_1[:,i].mean())\n",
        "    S1labA1_2.append(S1meanA1_2[:,i].mean())\n",
        "S1labrefA1_1,S1labA1_2 "
      ],
      "execution_count": null,
      "outputs": []
    },
    {
      "cell_type": "code",
      "metadata": {
        "id": "TPULWoc0JT9L"
      },
      "source": [
        "S1meanrefA1_3 = list()\n",
        "S1meanA2_1 = list()\n",
        "for i in range(S1RGB_imgA1A2_1.shape[0]): \n",
        "     for j in range(S1RGB_imgA1A2_1.shape[1]): \n",
        "                if 1769<i<1881 and 2019<j<2131 :\n",
        "                  S1meanrefA1_3.append(S1RGB_imgA1A2_1[i][j])\n",
        "                if 1770<i<1880 and 2015<j<2145 :\n",
        "                  S1meanA2_1.append(S1RGB_imgA1A2_1[i][j])  \n",
        "S1meanrefA1_3 = np.array(S1meanrefA1_3)\n",
        "S1meanA2_1 = np.array(S1meanA2_1)\n",
        "\n",
        "S1labrefA1_3 = list()\n",
        "S1labA2_1 = list()\n",
        "for i in range(3):\n",
        "    S1labrefA1_3.append(S1meanrefA1_3[:,i].mean())\n",
        "    S1labA2_1.append(S1meanA2_1[:,i].mean())"
      ],
      "execution_count": null,
      "outputs": []
    },
    {
      "cell_type": "code",
      "metadata": {
        "id": "jYWdd4U6Kl7f"
      },
      "source": [
        "S1meanrefA1_4 = list()\n",
        "S1meanA3_1 = list()\n",
        "for i in range(S1RGB_imgA1A3_1.shape[0]): \n",
        "     for j in range(S1RGB_imgA1A3_1.shape[1]): \n",
        "                if 1769<i<1881 and 2019<j<2131 :\n",
        "                  S1meanrefA1_4.append(S1RGB_imgA1A3_1[i][j])\n",
        "                if 1770<i<1880 and 2015<j<2145 :\n",
        "                  S1meanA3_1.append(S1RGB_imgA1A3_1[i][j])  \n",
        "S1meanrefA1_4 = np.array(S1meanrefA1_4)\n",
        "S1meanA3_1 = np.array(S1meanA3_1)\n",
        "\n",
        "S1labrefA1_4 = list()\n",
        "S1labA3_1 = list()\n",
        "for i in range(3):\n",
        "    S1labrefA1_4.append(S1meanrefA1_4[:,i].mean())\n",
        "    S1labA3_1.append(S1meanA3_1[:,i].mean())"
      ],
      "execution_count": null,
      "outputs": []
    },
    {
      "cell_type": "code",
      "metadata": {
        "id": "OU2xD0SEK14J"
      },
      "source": [
        "S1meanrefA1_5 = list()\n",
        "S1meanA3_51 = list()\n",
        "for i in range(S1RGB_imgA1A3_51.shape[0]): \n",
        "     for j in range(S1RGB_imgA1A3_51.shape[1]): \n",
        "                if 1769<i<1881 and 2019<j<2131 :\n",
        "                  S1meanrefA1_5.append(S1RGB_imgA1A3_51[i][j])\n",
        "                if 1770<i<1880 and 2015<j<2145 :\n",
        "                  S1meanA3_51.append(S1RGB_imgA1A3_51[i][j])  \n",
        "S1meanrefA1_5 = np.array(S1meanrefA1_5)\n",
        "S1meanA3_51 = np.array(S1meanA3_51)\n",
        "\n",
        "S1labrefA1_5 = list()\n",
        "S1labA3_51 = list()\n",
        "for i in range(3):\n",
        "    S1labrefA1_5.append(S1meanrefA1_51[:,i].mean())\n",
        "    S1labA3_51.append(S1meanA3_51[:,i].mean())"
      ],
      "execution_count": null,
      "outputs": []
    },
    {
      "cell_type": "code",
      "metadata": {
        "id": "vCXxutjOLEb5"
      },
      "source": [
        "S1meanrefA1_6 = list()\n",
        "S1meanA4_1 = list()\n",
        "for i in range(S1RGB_imgA1A4_1.shape[0]): \n",
        "     for j in range(S1RGB_imgA1A4_1.shape[1]): \n",
        "                if 1769<i<1881 and 2019<j<2131 :\n",
        "                  S1meanrefA1_6.append(S1RGB_imgA1A4_1[i][j])\n",
        "                if 1770<i<1880 and 2015<j<2145 :\n",
        "                  S1meanA4_1.append(S1RGB_imgA1A4_1[i][j])  \n",
        "S1meanrefA1_6 = np.array(S1meanrefA1_6)\n",
        "S1meanA4_1 = np.array(S1meanA4_1)\n",
        "\n",
        "S1labrefA1_6 = list()\n",
        "S1labA4_1 = list()\n",
        "for i in range(3):\n",
        "    S1labrefA1_6.append(S1meanrefA1_6[:,i].mean())\n",
        "    S1labA4_1.append(S1meanA4_1[:,i].mean())"
      ],
      "execution_count": null,
      "outputs": []
    },
    {
      "cell_type": "code",
      "metadata": {
        "id": "Te2hqmb4LbG7"
      },
      "source": [
        "S1meanrefA1_7 = list()\n",
        "S1meanB1_1 = list()\n",
        "for i in range(S1RGB_imgA1B1_1.shape[0]): \n",
        "     for j in range(S1RGB_imgA1B1_1.shape[1]): \n",
        "                if 1769<i<1881 and 2019<j<2131 :\n",
        "                  S1meanrefA1_7.append(S1RGB_imgA1B1_1[i][j])\n",
        "                if 1770<i<1880 and 2015<j<2145 :\n",
        "                  S1meanB1_1.append(S1RGB_imgA1B1_1[i][j])  \n",
        "S1meanrefA1_7 = np.array(S1meanrefA1_7)\n",
        "S1meanB1_1 = np.array(S1meanB1_2)\n",
        "\n",
        "S1labrefA1_7 = list()\n",
        "S1labB1_1 = list()\n",
        "for i in range(3):\n",
        "    S1labrefA1_7.append(S1meanrefA1_7[:,i].mean())\n",
        "    S1labB1_1.append(S1meanB1_1[:,i].mean())"
      ],
      "execution_count": null,
      "outputs": []
    },
    {
      "cell_type": "code",
      "metadata": {
        "id": "Q_VEx1q0LbG7"
      },
      "source": [
        "S1meanrefA1_8 = list()\n",
        "S1meanB2_1 = list()\n",
        "for i in range(S1RGB_imgA1B2_1.shape[0]): \n",
        "     for j in range(S1RGB_imgA1B2_1.shape[1]): \n",
        "                if 1769<i<1881 and 2019<j<2131 :\n",
        "                  S1meanrefA1_8.append(S1RGB_imgA1B2_1[i][j])\n",
        "                if 1770<i<1880 and 2015<j<2145 :\n",
        "                  S1meanB2_1.append(S1RGB_imgA1B2_1[i][j])  \n",
        "S1meanrefA1_8 = np.array(S1meanrefA1_8)\n",
        "S1meanB2_1 = np.array(S1meanB2_1)\n",
        "\n",
        "S1labrefA1_8 = list()\n",
        "S1labB2_1 = list()\n",
        "for i in range(3):\n",
        "    S1labrefA1_8.append(S1meanrefA1_8[:,i].mean())\n",
        "    S1labB2_1.append(S1meanB2_1[:,i].mean())"
      ],
      "execution_count": null,
      "outputs": []
    },
    {
      "cell_type": "code",
      "metadata": {
        "id": "6h5EfHY1LbG7"
      },
      "source": [
        "S1meanrefA1_9 = list()\n",
        "S1meanB3_1 = list()\n",
        "for i in range(S1RGB_imgA1B3_1.shape[0]): \n",
        "     for j in range(S1RGB_imgA1B3_1.shape[1]): \n",
        "                if 1769<i<1881 and 2019<j<2131 :\n",
        "                  S1meanrefA1_9.append(S1RGB_imgA1B3_1[i][j])\n",
        "                if 1770<i<1880 and 2015<j<2145 :\n",
        "                  S1meanB3_1.append(S1RGB_imgA1B3_1[i][j])  \n",
        "S1meanrefA1_9 = np.array(S1meanrefA1_9)\n",
        "S1meanB3_1 = np.array(S1meanB3_1)\n",
        "\n",
        "S1labrefA1_9 = list()\n",
        "S1labB3_1 = list()\n",
        "for i in range(3):\n",
        "    S1labrefA1_9.append(S1meanrefA1_9[:,i].mean())\n",
        "    S1labB3_1.append(S1meanB3_1[:,i].mean())"
      ],
      "execution_count": null,
      "outputs": []
    },
    {
      "cell_type": "code",
      "metadata": {
        "id": "TjKejQxXL9Xb"
      },
      "source": [
        "S1meanrefA1_10 = list()\n",
        "S1meanB4_1 = list()\n",
        "for i in range(S1RGB_imgA1B4_1.shape[0]): \n",
        "     for j in range(S1RGB_imgA1B4_1.shape[1]): \n",
        "                if 1769<i<1881 and 2019<j<2131 :\n",
        "                  S1meanrefA1_10.append(S1RGB_imgA1B4_1[i][j])\n",
        "                if 1770<i<1880 and 2015<j<2145 :\n",
        "                  S1meanB4_1.append(S1RGB_imgA1B4_1[i][j])  \n",
        "S1meanrefA1_10 = np.array(S1meanrefA1_10)\n",
        "S1meanB4_1 = np.array(S1meanB4_1)\n",
        "\n",
        "S1labrefA1_10 = list()\n",
        "S1labB4_1 = list()\n",
        "for i in range(3):\n",
        "    S1labrefA1_10.append(S1meanrefA1_10[:,i].mean())\n",
        "    S1labB4_1.append(S1meanB4_1[:,i].mean())"
      ],
      "execution_count": null,
      "outputs": []
    },
    {
      "cell_type": "code",
      "metadata": {
        "id": "Y8X8SmoGMihg"
      },
      "source": [
        "S1meanrefA1_11 = list()\n",
        "S1meanC1_2 = list()\n",
        "for i in range(S1RGB_imgA1C1_1.shape[0]): \n",
        "     for j in range(S1RGB_imgA1C1_1.shape[1]): \n",
        "                if 1769<i<1881 and 2019<j<2131 :\n",
        "                  S1meanrefC1_11.append(S1RGB_imgA1C1_1[i][j])\n",
        "                if 1770<i<1880 and 2015<j<2145 :\n",
        "                  S1meanC1_1.append(S1RGB_imgA1C1_1[i][j])  \n",
        "S1meanrefA1_11 = np.array(S1meanrefA1_11)\n",
        "S1meanC1_1 = np.array(S1meanC1_1)\n",
        "\n",
        "S1labrefA1_11 = list()\n",
        "S1labC1_1 = list()\n",
        "for i in range(3):\n",
        "    S1labrefA1_7.append(S1meanrefA1_11[:,i].mean())\n",
        "    S1labC1_1.append(S1meanC1_1[:,i].mean())"
      ],
      "execution_count": null,
      "outputs": []
    },
    {
      "cell_type": "code",
      "metadata": {
        "id": "Av_eHI6jMihg"
      },
      "source": [
        "S1meanrefA1_12 = list()\n",
        "S1meanC2_1 = list()\n",
        "for i in range(S1RGB_imgA1C2_1.shape[0]): \n",
        "     for j in range(S1RGB_imgA1C2_1.shape[1]): \n",
        "                if 1769<i<1881 and 2019<j<2131 :\n",
        "                  S1meanrefA1_12.append(S1RGB_imgA1C2_1[i][j])\n",
        "                if 1770<i<1880 and 2015<j<2145 :\n",
        "                  S1meanC2_1.append(S1RGB_imgA1C2_1[i][j])  \n",
        "S1meanrefA1_12 = np.array(S1meanrefA1_12)\n",
        "S1meanC2_1 = np.array(S1meanC2_1)\n",
        "\n",
        "S1labrefA1_12 = list()\n",
        "S1labC2_1 = list()\n",
        "for i in range(3):\n",
        "    S1labrefA1_12.append(S1meanrefA1_12[:,i].mean())\n",
        "    S1labC2_1.append(S1meanC2_1[:,i].mean())"
      ],
      "execution_count": null,
      "outputs": []
    },
    {
      "cell_type": "code",
      "metadata": {
        "id": "lOvykBc7Mihg"
      },
      "source": [
        "S1meanrefA1_13 = list()\n",
        "S1meanC3_1 = list()\n",
        "for i in range(S1RGB_imgA1C3_1.shape[0]): \n",
        "     for j in range(S1RGB_imgA1C3_1.shape[1]): \n",
        "                if 1769<i<1881 and 2019<j<2131 :\n",
        "                  S1meanrefA1_13.append(S1RGB_imgA1C3_1[i][j])\n",
        "                if 1770<i<1880 and 2015<j<2145 :\n",
        "                  S1meanC3_1.append(S1RGB_imgA1C3_1[i][j])  \n",
        "S1meanrefA1_13 = np.array(S1meanrefA1_13)\n",
        "S1meanC3_1 = np.array(S1meanC3_1)\n",
        "\n",
        "S1labrefA1_13 = list()\n",
        "S1labC3_1 = list()\n",
        "for i in range(3):\n",
        "    S1labrefA1_13.append(S1meanrefA1_13[:,i].mean())\n",
        "    S1labC3_1.append(S1meanC3_1[:,i].mean())"
      ],
      "execution_count": null,
      "outputs": []
    },
    {
      "cell_type": "code",
      "metadata": {
        "id": "YdNqiN2LMihg"
      },
      "source": [
        "S1meanrefA1_14 = list()\n",
        "S1meanC4_1 = list()\n",
        "for i in range(S1RGB_imgA1C4_1.shape[0]): \n",
        "     for j in range(S1RGB_imgA1C4_1.shape[1]): \n",
        "                if 1769<i<1881 and 2019<j<2131 :\n",
        "                  S1meanrefA1_14.append(S1RGB_imgA1C4_1[i][j])\n",
        "                if 1770<i<1880 and 2015<j<2145 :\n",
        "                  S1meanC4_1.append(S1RGB_imgA1C4_1[i][j])  \n",
        "S1meanrefA1_14 = np.array(S1meanrefA1_14)\n",
        "S1meanC4_1 = np.array(S1meanC4_1)\n",
        "\n",
        "S1labrefA1_14 = list()\n",
        "S1labC4_1 = list()\n",
        "for i in range(3):\n",
        "    S1labrefA1_14.append(S1meanrefA1_14[:,i].mean())\n",
        "    S1labC4_1.append(S1meanC4_1[:,i].mean())"
      ],
      "execution_count": null,
      "outputs": []
    },
    {
      "cell_type": "code",
      "metadata": {
        "id": "U1oHIKdONm_p"
      },
      "source": [
        "S1meanrefA1_15 = list()\n",
        "S1meanD2_1 = list()\n",
        "for i in range(S1RGB_imgA1D2_1.shape[0]): \n",
        "     for j in range(S1RGB_imgA1D2_1.shape[1]): \n",
        "                if 1769<i<1881 and 2019<j<2131 :\n",
        "                  S1meanrefA1_15.append(S1RGB_imgA1D2_1[i][j])\n",
        "                if 1770<i<1880 and 2015<j<2145 :\n",
        "                  S1meanD2_1.append(S1RGB_imgA1D2_1[i][j])  \n",
        "S1meanrefA1_15 = np.array(S1meanrefA1_15)\n",
        "S1meanD2_1 = np.array(S1meanD2_1)\n",
        "\n",
        "S1labrefA1_15 = list()\n",
        "S1labD2_1 = list()\n",
        "for i in range(3):\n",
        "    S1labrefA1_15.append(S1meanrefA1_15[:,i].mean())\n",
        "    S1labD2_1.append(S1meanD2_1[:,i].mean())"
      ],
      "execution_count": null,
      "outputs": []
    },
    {
      "cell_type": "code",
      "metadata": {
        "id": "_O71JLAONm_p"
      },
      "source": [
        "S1meanrefA1_16 = list()\n",
        "S1meanD3_1 = list()\n",
        "for i in range(S1RGB_imgA1D3_1.shape[0]): \n",
        "     for j in range(S1RGB_imgA1D3_1.shape[1]): \n",
        "                if 1769<i<1881 and 2019<j<2131 :\n",
        "                  S1meanrefA1_16.append(S1RGB_imgA1D3_1[i][j])\n",
        "                if 1770<i<1880 and 2015<j<2145 :\n",
        "                  S1meanD3_1.append(S1RGB_imgA1D3_1[i][j])  \n",
        "S1meanrefA1_16 = np.array(S1meanrefA1_16)\n",
        "S1meanD3_1 = np.array(S1meanD3_1)\n",
        "\n",
        "S1labrefA1_16 = list()\n",
        "S1labD3_1 = list()\n",
        "for i in range(3):\n",
        "    S1labrefA1_16.append(S1meanrefA1_16[:,i].mean())\n",
        "    S1labD3_1.append(S1meanD3_1[:,i].mean())"
      ],
      "execution_count": null,
      "outputs": []
    },
    {
      "cell_type": "code",
      "metadata": {
        "id": "U29gI1aKNm_p"
      },
      "source": [
        "S1meanrefA1_17= list()\n",
        "S1meanD4_1 = list()\n",
        "for i in range(S1RGB_imgA1D4_1.shape[0]): \n",
        "     for j in range(S1RGB_imgA1D4_1.shape[1]): \n",
        "                if 1769<i<1881 and 2019<j<2131 :\n",
        "                  S1meanrefA1_17.append(S1RGB_imgA1D4_1[i][j])\n",
        "                if 1770<i<1880 and 2015<j<2145 :\n",
        "                  S1meanC4_1.append(S1RGB_imgA1D4_1[i][j])  \n",
        "S1meanrefA1_17 = np.array(S1meanrefA1_14)\n",
        "S1meanD4_1 = np.array(S1meanD4_1)\n",
        "\n",
        "S1labrefA1_17 = list()\n",
        "S1labD4_1 = list()\n",
        "for i in range(3):\n",
        "    S1labrefA1_17.append(S1meanrefA1_17[:,i].mean())\n",
        "    S1labD4_1.append(S1meanD4_1[:,i].mean())"
      ],
      "execution_count": null,
      "outputs": []
    },
    {
      "cell_type": "markdown",
      "metadata": {
        "id": "kW9nrJkJOI4F"
      },
      "source": [
        "##Set2"
      ]
    },
    {
      "cell_type": "code",
      "metadata": {
        "id": "D6_wAmquOT_h"
      },
      "source": [
        "S2meanrefA1_1 = list()\n",
        "S2meanA1_2 = list()\n",
        "for i in range(S2RGB_imgA1A1_1.shape[0]): #ให้ i รันตาม row หรือ shape[0] คือแถว มีทั้งหมด 4032 แถว ของภาพที่ปรับขนาดมาแล้ว\n",
        "     for j in range(S2RGB_imgA1A1_1.shape[1]): #ให้ j รันตาม colum มีทั้งหมด 3024 colum เช่น แถวที่ 1 เข้ามาให้รันครบ 3024colum\n",
        "                if 1769<i<1881 and 2019<j<2131 :\n",
        "                  S2meanrefA1_1.append(S2RGB_imgA1A1_1[i][j])\n",
        "                if 1770<i<1880 and 2015<j<2145 :\n",
        "                  S2meanA1_2.append(S2RGB_imgA1A1_1[i][j])  \n",
        "S2meanrefA1_1 = np.array(S2meanrefA1_1)\n",
        "S2meanA1_2 = np.array(S2meanA1_2)\n",
        "\n",
        "S2labrefA1_1 = list()\n",
        "S2labA1_2 = list()\n",
        "for i in range(3):\n",
        "    S2labrefA1_1.append(S2meanrefA1_1[:,i].mean())\n",
        "    S2labA1_2.append(S2meanA1_2[:,i].mean()) "
      ],
      "execution_count": null,
      "outputs": []
    },
    {
      "cell_type": "code",
      "metadata": {
        "id": "EJlQhqC7OT_i"
      },
      "source": [
        "S2meanrefA1_3 = list()\n",
        "S2meanA2_1 = list()\n",
        "for i in range(S2RGB_imgA1A2_1.shape[0]): \n",
        "     for j in range(S2RGB_imgA1A2_1.shape[1]): \n",
        "                if 1769<i<1881 and 2019<j<2131 :\n",
        "                  S2meanrefA1_3.append(S2RGB_imgA1A2_1[i][j])\n",
        "                if 1770<i<1880 and 2015<j<2145 :\n",
        "                  S2meanA2_1.append(S2RGB_imgA1A2_1[i][j])  \n",
        "S2meanrefA1_3 = np.array(S2meanrefA1_3)\n",
        "S2meanA2_1 = np.array(S2meanA2_1)\n",
        "\n",
        "S2labrefA1_3 = list()\n",
        "S2labA2_1 = list()\n",
        "for i in range(3):\n",
        "    S2labrefA1_3.append(S2meanrefA1_3[:,i].mean())\n",
        "    S2labA2_1.append(S2meanA2_1[:,i].mean())"
      ],
      "execution_count": null,
      "outputs": []
    },
    {
      "cell_type": "code",
      "metadata": {
        "id": "I_f-AfX0OT_i"
      },
      "source": [
        "S2meanrefA1_4 = list()\n",
        "S2meanA3_1 = list()\n",
        "for i in range(S2RGB_imgA1A3_1.shape[0]): \n",
        "     for j in range(S2RGB_imgA1A3_1.shape[1]): \n",
        "                if 1769<i<1881 and 2019<j<2131 :\n",
        "                  S2meanrefA1_4.append(S2RGB_imgA1A3_1[i][j])\n",
        "                if 1770<i<1880 and 2015<j<2145 :\n",
        "                  S2meanA3_1.append(S2RGB_imgA1A3_1[i][j])  \n",
        "S2meanrefA1_4 = np.array(S2meanrefA1_4)\n",
        "S2meanA3_1 = np.array(S2meanA3_1)\n",
        "\n",
        "S2labrefA1_4 = list()\n",
        "S2labA3_1 = list()\n",
        "for i in range(3):\n",
        "    S2labrefA1_4.append(S2meanrefA1_4[:,i].mean())\n",
        "    S2labA3_1.append(S2meanA3_1[:,i].mean())"
      ],
      "execution_count": null,
      "outputs": []
    },
    {
      "cell_type": "code",
      "metadata": {
        "id": "JG9hcu4-OT_i"
      },
      "source": [
        "S2meanrefA1_5 = list()\n",
        "S2meanA3_51 = list()\n",
        "for i in range(S2RGB_imgA1A3_51.shape[0]): \n",
        "     for j in range(S2RGB_imgA1A3_51.shape[1]): \n",
        "                if 1769<i<1881 and 2019<j<2131 :\n",
        "                  S2meanrefA1_5.append(S2RGB_imgA1A3_51[i][j])\n",
        "                if 1770<i<1880 and 2015<j<2145 :\n",
        "                  S2meanA3_51.append(S2RGB_imgA1A3_51[i][j])  \n",
        "S2meanrefA1_5 = np.array(S2meanrefA1_5)\n",
        "S2meanA3_51 = np.array(S2meanA3_51)\n",
        "\n",
        "S2labrefA1_5 = list()\n",
        "S2labA3_51 = list()\n",
        "for i in range(3):\n",
        "    S2labrefA1_5.append(S2meanrefA1_51[:,i].mean())\n",
        "    S2labA3_51.append(S2meanA3_51[:,i].mean())"
      ],
      "execution_count": null,
      "outputs": []
    },
    {
      "cell_type": "code",
      "metadata": {
        "id": "Mj0RQI7UOT_i"
      },
      "source": [
        "S2meanrefA1_6 = list()\n",
        "S2meanA4_1 = list()\n",
        "for i in range(S2RGB_imgA1A4_1.shape[0]): \n",
        "     for j in range(S2RGB_imgA1A4_1.shape[1]): \n",
        "                if 1769<i<1881 and 2019<j<2131 :\n",
        "                  S2meanrefA1_6.append(S2RGB_imgA1A4_1[i][j])\n",
        "                if 1770<i<1880 and 2015<j<2145 :\n",
        "                  S2meanA4_1.append(S2RGB_imgA1A4_1[i][j])  \n",
        "S2meanrefA1_6 = np.array(S2meanrefA1_6)\n",
        "S2meanA4_1 = np.array(S2meanA4_1)\n",
        "\n",
        "S2labrefA1_6 = list()\n",
        "S2labA4_1 = list()\n",
        "for i in range(3):\n",
        "    S2labrefA1_6.append(S2meanrefA1_6[:,i].mean())\n",
        "    S2labA4_1.append(S2meanA4_1[:,i].mean())"
      ],
      "execution_count": null,
      "outputs": []
    },
    {
      "cell_type": "code",
      "metadata": {
        "id": "Zd07YLK8OT_i"
      },
      "source": [
        "S2meanrefA1_7 = list()\n",
        "S2meanB1_1 = list()\n",
        "for i in range(S2RGB_imgA1B1_1.shape[0]): \n",
        "     for j in range(S2RGB_imgA1B1_1.shape[1]): \n",
        "                if 1769<i<1881 and 2019<j<2131 :\n",
        "                  S2meanrefA1_7.append(S2RGB_imgA1B1_1[i][j])\n",
        "                if 1770<i<1880 and 2015<j<2145 :\n",
        "                  S2meanB1_1.append(S2RGB_imgA1B1_1[i][j])  \n",
        "S2meanrefA1_7 = np.array(S2meanrefA1_7)\n",
        "S2meanB1_1 = np.array(S2meanB1_2)\n",
        "\n",
        "S2labrefA1_7 = list()\n",
        "S2labB1_1 = list()\n",
        "for i in range(3):\n",
        "    S2labrefA1_7.append(S2meanrefA1_7[:,i].mean())\n",
        "    S2labB1_1.append(S2meanB1_1[:,i].mean())"
      ],
      "execution_count": null,
      "outputs": []
    },
    {
      "cell_type": "code",
      "metadata": {
        "id": "pnAhSHoAOT_i"
      },
      "source": [
        "S2meanrefA1_8 = list()\n",
        "S2meanB2_1 = list()\n",
        "for i in range(S2RGB_imgA1B2_1.shape[0]): \n",
        "     for j in range(S2RGB_imgA1B2_1.shape[1]): \n",
        "                if 1769<i<1881 and 2019<j<2131 :\n",
        "                  S2meanrefA1_8.append(S2RGB_imgA1B2_1[i][j])\n",
        "                if 1770<i<1880 and 2015<j<2145 :\n",
        "                  S2meanB2_1.append(S2RGB_imgA1B2_1[i][j])  \n",
        "S2meanrefA1_8 = np.array(S2meanrefA1_8)\n",
        "S2meanB2_1 = np.array(S2meanB2_1)\n",
        "\n",
        "S2labrefA1_8 = list()\n",
        "S2labB2_1 = list()\n",
        "for i in range(3):\n",
        "    S2labrefA1_8.append(S2meanrefA1_8[:,i].mean())\n",
        "    S2labB2_1.append(S2meanB2_1[:,i].mean())"
      ],
      "execution_count": null,
      "outputs": []
    },
    {
      "cell_type": "code",
      "metadata": {
        "id": "EvxR0vtzOT_j"
      },
      "source": [
        "S2meanrefA1_9 = list()\n",
        "S2meanB3_1 = list()\n",
        "for i in range(S2RGB_imgA1B3_1.shape[0]): \n",
        "     for j in range(S2RGB_imgA1B3_1.shape[1]): \n",
        "                if 1769<i<1881 and 2019<j<2131 :\n",
        "                  S2meanrefA1_9.append(S2RGB_imgA1B3_1[i][j])\n",
        "                if 1770<i<1880 and 2015<j<2145 :\n",
        "                  S2meanB3_1.append(S2RGB_imgA1B3_1[i][j])  \n",
        "S2meanrefA1_9 = np.array(S2meanrefA1_9)\n",
        "S2meanB3_1 = np.array(S2meanB3_1)\n",
        "\n",
        "S2labrefA1_9 = list()\n",
        "S2labB3_1 = list()\n",
        "for i in range(3):\n",
        "    S2labrefA1_9.append(S2meanrefA1_9[:,i].mean())\n",
        "    S2labB3_1.append(S2meanB3_1[:,i].mean())"
      ],
      "execution_count": null,
      "outputs": []
    },
    {
      "cell_type": "code",
      "metadata": {
        "id": "UWZfSBsiOT_j"
      },
      "source": [
        "S2meanrefA1_10 = list()\n",
        "S2meanB4_1 = list()\n",
        "for i in range(S2RGB_imgA1B4_1.shape[0]): \n",
        "     for j in range(S2RGB_imgA1B4_1.shape[1]): \n",
        "                if 1769<i<1881 and 2019<j<2131 :\n",
        "                  S2meanrefA1_10.append(S2RGB_imgA1B4_1[i][j])\n",
        "                if 1770<i<1880 and 2015<j<2145 :\n",
        "                  S2meanB4_1.append(S2RGB_imgA1B4_1[i][j])  \n",
        "S2meanrefA1_10 = np.array(S2meanrefA1_10)\n",
        "S2meanB4_1 = np.array(S2meanB4_1)\n",
        "\n",
        "S2labrefA1_10 = list()\n",
        "S2labB4_1 = list()\n",
        "for i in range(3):\n",
        "    S2labrefA1_10.append(S2meanrefA1_10[:,i].mean())\n",
        "    S2labB4_1.append(S2meanB4_1[:,i].mean())"
      ],
      "execution_count": null,
      "outputs": []
    },
    {
      "cell_type": "code",
      "metadata": {
        "id": "E0iL7_rvOT_j"
      },
      "source": [
        "S2meanrefA1_11 = list()\n",
        "S2meanC1_2 = list()\n",
        "for i in range(S2RGB_imgA1C1_1.shape[0]): \n",
        "     for j in range(S2RGB_imgA1C1_1.shape[1]): \n",
        "                if 1769<i<1881 and 2019<j<2131 :\n",
        "                  S2meanrefC1_11.append(S2RGB_imgA1C1_1[i][j])\n",
        "                if 1770<i<1880 and 2015<j<2145 :\n",
        "                  S2meanC1_1.append(S2RGB_imgA1C1_1[i][j])  \n",
        "S2meanrefA1_11 = np.array(S2meanrefA1_11)\n",
        "S2meanC1_1 = np.array(S2meanC1_1)\n",
        "\n",
        "S2labrefA1_11 = list()\n",
        "S2labC1_1 = list()\n",
        "for i in range(3):\n",
        "    S2labrefA1_7.append(S2meanrefA1_11[:,i].mean())\n",
        "    S2labC1_1.append(S2meanC1_1[:,i].mean())"
      ],
      "execution_count": null,
      "outputs": []
    },
    {
      "cell_type": "code",
      "metadata": {
        "id": "xYQ3ccu-OT_j"
      },
      "source": [
        "S2meanrefA1_12 = list()\n",
        "S2meanC2_1 = list()\n",
        "for i in range(S2RGB_imgA1C2_1.shape[0]): \n",
        "     for j in range(S2RGB_imgA1C2_1.shape[1]): \n",
        "                if 1769<i<1881 and 2019<j<2131 :\n",
        "                  S2meanrefA1_12.append(S2RGB_imgA1C2_1[i][j])\n",
        "                if 1770<i<1880 and 2015<j<2145 :\n",
        "                  S2meanC2_1.append(S2RGB_imgA1C2_1[i][j])  \n",
        "S2meanrefA1_12 = np.array(S2meanrefA1_12)\n",
        "S2meanC2_1 = np.array(S2meanC2_1)\n",
        "\n",
        "S2labrefA1_12 = list()\n",
        "S2labC2_1 = list()\n",
        "for i in range(3):\n",
        "    S2labrefA1_12.append(S2meanrefA1_12[:,i].mean())\n",
        "    S2labC2_1.append(S2meanC2_1[:,i].mean())"
      ],
      "execution_count": null,
      "outputs": []
    },
    {
      "cell_type": "code",
      "metadata": {
        "id": "K7ZfvmhMOT_j"
      },
      "source": [
        "S2meanrefA1_13 = list()\n",
        "S2meanC3_1 = list()\n",
        "for i in range(S2RGB_imgA1C3_1.shape[0]): \n",
        "     for j in range(S2RGB_imgA1C3_1.shape[1]): \n",
        "                if 1769<i<1881 and 2019<j<2131 :\n",
        "                  S2meanrefA1_13.append(S2RGB_imgA1C3_1[i][j])\n",
        "                if 1770<i<1880 and 2015<j<2145 :\n",
        "                  S2meanC3_1.append(S2RGB_imgA1C3_1[i][j])  \n",
        "S2meanrefA1_13 = np.array(S2meanrefA1_13)\n",
        "S2meanC3_1 = np.array(S2meanC3_1)\n",
        "\n",
        "S2labrefA1_13 = list()\n",
        "S2labC3_1 = list()\n",
        "for i in range(3):\n",
        "    S2labrefA1_13.append(S2meanrefA1_13[:,i].mean())\n",
        "    S2labC3_1.append(S2meanC3_1[:,i].mean())"
      ],
      "execution_count": null,
      "outputs": []
    },
    {
      "cell_type": "code",
      "metadata": {
        "id": "JnYE-7tIOT_j"
      },
      "source": [
        "S2meanrefA1_14 = list()\n",
        "S2meanC4_1 = list()\n",
        "for i in range(S2RGB_imgA1C4_1.shape[0]): \n",
        "     for j in range(S2RGB_imgA1C4_1.shape[1]): \n",
        "                if 1769<i<1881 and 2019<j<2131 :\n",
        "                  S2meanrefA1_14.append(S2RGB_imgA1C4_1[i][j])\n",
        "                if 1770<i<1880 and 2015<j<2145 :\n",
        "                  S2meanC4_1.append(S2RGB_imgA1C4_1[i][j])  \n",
        "S2meanrefA1_14 = np.array(S2meanrefA1_14)\n",
        "S2meanC4_1 = np.array(S2meanC4_1)\n",
        "\n",
        "S2labrefA1_14 = list()\n",
        "S2labC4_1 = list()\n",
        "for i in range(3):\n",
        "    S2labrefA1_14.append(S2meanrefA1_14[:,i].mean())\n",
        "    S2labC4_1.append(S2meanC4_1[:,i].mean())"
      ],
      "execution_count": null,
      "outputs": []
    },
    {
      "cell_type": "code",
      "metadata": {
        "id": "whwVWrEAOT_j"
      },
      "source": [
        "S2meanrefA1_15 = list()\n",
        "S2meanD2_1 = list()\n",
        "for i in range(S2RGB_imgA1D2_1.shape[0]): \n",
        "     for j in range(S2RGB_imgA1D2_1.shape[1]): \n",
        "                if 1769<i<1881 and 2019<j<2131 :\n",
        "                  S2meanrefA1_15.append(S2RGB_imgA1D2_1[i][j])\n",
        "                if 1770<i<1880 and 2015<j<2145 :\n",
        "                  S2meanD2_1.append(S2RGB_imgA1D2_1[i][j])  \n",
        "S2meanrefA1_15 = np.array(S2meanrefA1_15)\n",
        "S2meanD2_1 = np.array(S2meanD2_1)\n",
        "\n",
        "S2labrefA1_15 = list()\n",
        "S2labD2_1 = list()\n",
        "for i in range(3):\n",
        "    S2labrefA1_15.append(S2meanrefA1_15[:,i].mean())\n",
        "    S2labD2_1.append(S2meanD2_1[:,i].mean())"
      ],
      "execution_count": null,
      "outputs": []
    },
    {
      "cell_type": "code",
      "metadata": {
        "id": "UQ7zahmJOT_j"
      },
      "source": [
        "S2meanrefA1_16 = list()\n",
        "S2meanD3_1 = list()\n",
        "for i in range(S2RGB_imgA1D3_1.shape[0]): \n",
        "     for j in range(S2RGB_imgA1D3_1.shape[1]): \n",
        "                if 1769<i<1881 and 2019<j<2131 :\n",
        "                  S2meanrefA1_16.append(S2RGB_imgA1D3_1[i][j])\n",
        "                if 1770<i<1880 and 2015<j<2145 :\n",
        "                  S2meanD3_1.append(S2RGB_imgA1D3_1[i][j])  \n",
        "S2meanrefA1_16 = np.array(S2meanrefA1_16)\n",
        "S2meanD3_1 = np.array(S2meanD3_1)\n",
        "\n",
        "S2labrefA1_16 = list()\n",
        "S2labD3_1 = list()\n",
        "for i in range(3):\n",
        "    S2labrefA1_16.append(S2meanrefA1_16[:,i].mean())\n",
        "    S2labD3_1.append(S2meanD3_1[:,i].mean())"
      ],
      "execution_count": null,
      "outputs": []
    },
    {
      "cell_type": "code",
      "metadata": {
        "id": "bYnOvjjUOT_k"
      },
      "source": [
        "S2meanrefA1_17= list()\n",
        "S2meanD4_1 = list()\n",
        "for i in range(S2RGB_imgA1D4_1.shape[0]): \n",
        "     for j in range(S2RGB_imgA1D4_1.shape[1]): \n",
        "                if 1769<i<1881 and 2019<j<2131 :\n",
        "                  S2meanrefA1_17.append(S2RGB_imgA1D4_1[i][j])\n",
        "                if 1770<i<1880 and 2015<j<2145 :\n",
        "                  S2meanC4_1.append(S2RGB_imgA1D4_1[i][j])  \n",
        "S2meanrefA1_17 = np.array(S2meanrefA1_14)\n",
        "S2meanD4_1 = np.array(S2meanD4_1)\n",
        "\n",
        "S2labrefA1_17 = list()\n",
        "S2labD4_1 = list()\n",
        "for i in range(3):\n",
        "    S2labrefA1_17.append(S2meanrefA1_17[:,i].mean())\n",
        "    S2labD4_1.append(S2meanD4_1[:,i].mean())"
      ],
      "execution_count": null,
      "outputs": []
    },
    {
      "cell_type": "markdown",
      "metadata": {
        "id": "UyfpA9axOKdX"
      },
      "source": [
        "##Set3"
      ]
    },
    {
      "cell_type": "code",
      "metadata": {
        "id": "vzu7ETU0Q8KG"
      },
      "source": [
        "S3meanrefA1_1 = list()\n",
        "S3meanA1_2 = list()\n",
        "for i in range(S3RGB_imgA1A1_1.shape[0]): #ให้ i รันตาม row หรือ shape[0] คือแถว มีทั้งหมด 4032 แถว ของภาพที่ปรับขนาดมาแล้ว\n",
        "     for j in range(S3RGB_imgA1A1_1.shape[1]): #ให้ j รันตาม colum มีทั้งหมด 3024 colum เช่น แถวที่ 1 เข้ามาให้รันครบ 3024colum\n",
        "                if 1769<i<1881 and 2019<j<2131 :\n",
        "                  S3meanrefA1_1.append(S3RGB_imgA1A1_1[i][j])\n",
        "                if 1770<i<1880 and 2015<j<2145 :\n",
        "                  S3meanA1_2.append(S3RGB_imgA1A1_1[i][j])  \n",
        "S3meanrefA1_1 = np.array(S3meanrefA1_1)\n",
        "S3meanA1_2 = np.array(S3meanA1_2)\n",
        "\n",
        "S3labrefA1_1 = list()\n",
        "S3labA1_2 = list()\n",
        "for i in range(3):\n",
        "    S3labrefA1_1.append(S3meanrefA1_1[:,i].mean())\n",
        "    S3labA1_2.append(S3meanA1_2[:,i].mean()) "
      ],
      "execution_count": null,
      "outputs": []
    },
    {
      "cell_type": "code",
      "metadata": {
        "id": "JcDCL03-Q8KG"
      },
      "source": [
        "S3meanrefA1_3 = list()\n",
        "S3meanA2_1 = list()\n",
        "for i in range(S3RGB_imgA1A2_1.shape[0]): \n",
        "     for j in range(S3RGB_imgA1A2_1.shape[1]): \n",
        "                if 1769<i<1881 and 2019<j<2131 :\n",
        "                  S3meanrefA1_3.append(S3RGB_imgA1A2_1[i][j])\n",
        "                if 1770<i<1880 and 2015<j<2145 :\n",
        "                  S3meanA2_1.append(S3RGB_imgA1A2_1[i][j])  \n",
        "S3meanrefA1_3 = np.array(S3meanrefA1_3)\n",
        "S3meanA2_1 = np.array(S3meanA2_1)\n",
        "\n",
        "S3labrefA1_3 = list()\n",
        "S3labA2_1 = list()\n",
        "for i in range(3):\n",
        "    S3labrefA1_3.append(S3meanrefA1_3[:,i].mean())\n",
        "    S3labA2_1.append(S3meanA2_1[:,i].mean())"
      ],
      "execution_count": null,
      "outputs": []
    },
    {
      "cell_type": "code",
      "metadata": {
        "id": "olk_e71jQ8KG"
      },
      "source": [
        "S3meanrefA1_4 = list()\n",
        "S3meanA3_1 = list()\n",
        "for i in range(S3RGB_imgA1A3_1.shape[0]): \n",
        "     for j in range(S3RGB_imgA1A3_1.shape[1]): \n",
        "                if 1769<i<1881 and 2019<j<2131 :\n",
        "                  S3meanrefA1_4.append(S3RGB_imgA1A3_1[i][j])\n",
        "                if 1770<i<1880 and 2015<j<2145 :\n",
        "                  S3meanA3_1.append(S3RGB_imgA1A3_1[i][j])  \n",
        "S3meanrefA1_4 = np.array(S3meanrefA1_4)\n",
        "S3meanA3_1 = np.array(S3meanA3_1)\n",
        "\n",
        "S3labrefA1_4 = list()\n",
        "S3labA3_1 = list()\n",
        "for i in range(3):\n",
        "    S3labrefA1_4.append(S3meanrefA1_4[:,i].mean())\n",
        "    S3labA3_1.append(S3meanA3_1[:,i].mean())"
      ],
      "execution_count": null,
      "outputs": []
    },
    {
      "cell_type": "code",
      "metadata": {
        "id": "4ubTTwCYQ8KG"
      },
      "source": [
        "S3meanrefA1_5 = list()\n",
        "S3meanA3_51 = list()\n",
        "for i in range(S3RGB_imgA1A3_51.shape[0]): \n",
        "     for j in range(S3RGB_imgA1A3_51.shape[1]): \n",
        "                if 1769<i<1881 and 2019<j<2131 :\n",
        "                  S3meanrefA1_5.append(S3RGB_imgA1A3_51[i][j])\n",
        "                if 1770<i<1880 and 2015<j<2145 :\n",
        "                  S3meanA3_51.append(S3RGB_imgA1A3_51[i][j])  \n",
        "S3meanrefA1_5 = np.array(S3meanrefA1_5)\n",
        "S3meanA3_51 = np.array(S3meanA3_51)\n",
        "\n",
        "S3labrefA1_5 = list()\n",
        "S3labA3_51 = list()\n",
        "for i in range(3):\n",
        "    S3labrefA1_5.append(S3meanrefA1_51[:,i].mean())\n",
        "    S3labA3_51.append(S3meanA3_51[:,i].mean())"
      ],
      "execution_count": null,
      "outputs": []
    },
    {
      "cell_type": "code",
      "metadata": {
        "id": "fxg9nXv8Q8KG"
      },
      "source": [
        "S3meanrefA1_6 = list()\n",
        "S3meanA4_1 = list()\n",
        "for i in range(S3RGB_imgA1A4_1.shape[0]): \n",
        "     for j in range(S3RGB_imgA1A4_1.shape[1]): \n",
        "                if 1769<i<1881 and 2019<j<2131 :\n",
        "                  S3meanrefA1_6.append(S3RGB_imgA1A4_1[i][j])\n",
        "                if 1770<i<1880 and 2015<j<2145 :\n",
        "                  S3meanA4_1.append(S3RGB_imgA1A4_1[i][j])  \n",
        "S3meanrefA1_6 = np.array(S3meanrefA1_6)\n",
        "S3meanA4_1 = np.array(S3meanA4_1)\n",
        "\n",
        "S3labrefA1_6 = list()\n",
        "S3labA4_1 = list()\n",
        "for i in range(3):\n",
        "    S3labrefA1_6.append(S3meanrefA1_6[:,i].mean())\n",
        "    S3labA4_1.append(S3meanA4_1[:,i].mean())"
      ],
      "execution_count": null,
      "outputs": []
    },
    {
      "cell_type": "code",
      "metadata": {
        "id": "EOz8gLLYQ8KG"
      },
      "source": [
        "S3meanrefA1_7 = list()\n",
        "S3meanB1_1 = list()\n",
        "for i in range(S3RGB_imgA1B1_1.shape[0]): \n",
        "     for j in range(S3RGB_imgA1B1_1.shape[1]): \n",
        "                if 1769<i<1881 and 2019<j<2131 :\n",
        "                  S3meanrefA1_7.append(S3RGB_imgA1B1_1[i][j])\n",
        "                if 1770<i<1880 and 2015<j<2145 :\n",
        "                  S3meanB1_1.append(S3RGB_imgA1B1_1[i][j])  \n",
        "S3meanrefA1_7 = np.array(S3meanrefA1_7)\n",
        "S3meanB1_1 = np.array(S3meanB1_2)\n",
        "\n",
        "S3labrefA1_7 = list()\n",
        "S3labB1_1 = list()\n",
        "for i in range(3):\n",
        "    S3labrefA1_7.append(S3meanrefA1_7[:,i].mean())\n",
        "    S3labB1_1.append(S3meanB1_1[:,i].mean())"
      ],
      "execution_count": null,
      "outputs": []
    },
    {
      "cell_type": "code",
      "metadata": {
        "id": "9Hxao6vXQ8KH"
      },
      "source": [
        "S3meanrefA1_8 = list()\n",
        "S3meanB2_1 = list()\n",
        "for i in range(S3RGB_imgA1B2_1.shape[0]): \n",
        "     for j in range(S3RGB_imgA1B2_1.shape[1]): \n",
        "                if 1769<i<1881 and 2019<j<2131 :\n",
        "                  S3meanrefA1_8.append(S3RGB_imgA1B2_1[i][j])\n",
        "                if 1770<i<1880 and 2015<j<2145 :\n",
        "                  S3meanB2_1.append(S3RGB_imgA1B2_1[i][j])  \n",
        "S3meanrefA1_8 = np.array(S3meanrefA1_8)\n",
        "S3meanB2_1 = np.array(S3meanB2_1)\n",
        "\n",
        "S3labrefA1_8 = list()\n",
        "S3labB2_1 = list()\n",
        "for i in range(3):\n",
        "    S3labrefA1_8.append(S3meanrefA1_8[:,i].mean())\n",
        "    S3labB2_1.append(S3meanB2_1[:,i].mean())"
      ],
      "execution_count": null,
      "outputs": []
    },
    {
      "cell_type": "code",
      "metadata": {
        "id": "x3URzi7NQ8KH"
      },
      "source": [
        "S3meanrefA1_9 = list()\n",
        "S3meanB3_1 = list()\n",
        "for i in range(S3RGB_imgA1B3_1.shape[0]): \n",
        "     for j in range(S3RGB_imgA1B3_1.shape[1]): \n",
        "                if 1769<i<1881 and 2019<j<2131 :\n",
        "                  S3meanrefA1_9.append(S3RGB_imgA1B3_1[i][j])\n",
        "                if 1770<i<1880 and 2015<j<2145 :\n",
        "                  S3meanB3_1.append(S3RGB_imgA1B3_1[i][j])  \n",
        "S3meanrefA1_9 = np.array(S3meanrefA1_9)\n",
        "S3meanB3_1 = np.array(S3meanB3_1)\n",
        "\n",
        "S3labrefA1_9 = list()\n",
        "S3labB3_1 = list()\n",
        "for i in range(3):\n",
        "    S3labrefA1_9.append(S3meanrefA1_9[:,i].mean())\n",
        "    S3labB3_1.append(S3meanB3_1[:,i].mean())"
      ],
      "execution_count": null,
      "outputs": []
    },
    {
      "cell_type": "code",
      "metadata": {
        "id": "ll53-jAbQ8KH"
      },
      "source": [
        "S3meanrefA1_10 = list()\n",
        "S3meanB4_1 = list()\n",
        "for i in range(S3RGB_imgA1B4_1.shape[0]): \n",
        "     for j in range(S3RGB_imgA1B4_1.shape[1]): \n",
        "                if 1769<i<1881 and 2019<j<2131 :\n",
        "                  S3meanrefA1_10.append(S3RGB_imgA1B4_1[i][j])\n",
        "                if 1770<i<1880 and 2015<j<2145 :\n",
        "                  S3meanB4_1.append(S3RGB_imgA1B4_1[i][j])  \n",
        "S3meanrefA1_10 = np.array(S3meanrefA1_10)\n",
        "S3meanB4_1 = np.array(S3meanB4_1)\n",
        "\n",
        "S3labrefA1_10 = list()\n",
        "S3labB4_1 = list()\n",
        "for i in range(3):\n",
        "    S3labrefA1_10.append(S3meanrefA1_10[:,i].mean())\n",
        "    S3labB4_1.append(S3meanB4_1[:,i].mean())"
      ],
      "execution_count": null,
      "outputs": []
    },
    {
      "cell_type": "code",
      "metadata": {
        "id": "G0LKXkLIQ8KH"
      },
      "source": [
        "S3meanrefA1_11 = list()\n",
        "S3meanC1_2 = list()\n",
        "for i in range(S3RGB_imgA1C1_1.shape[0]): \n",
        "     for j in range(S3RGB_imgA1C1_1.shape[1]): \n",
        "                if 1769<i<1881 and 2019<j<2131 :\n",
        "                  S3meanrefC1_11.append(S3RGB_imgA1C1_1[i][j])\n",
        "                if 1770<i<1880 and 2015<j<2145 :\n",
        "                  S3meanC1_1.append(S3RGB_imgA1C1_1[i][j])  \n",
        "S3meanrefA1_11 = np.array(S3meanrefA1_11)\n",
        "S3meanC1_1 = np.array(S3meanC1_1)\n",
        "\n",
        "S3labrefA1_11 = list()\n",
        "S3labC1_1 = list()\n",
        "for i in range(3):\n",
        "    S3labrefA1_7.append(S3meanrefA1_11[:,i].mean())\n",
        "    S3labC1_1.append(S3meanC1_1[:,i].mean())"
      ],
      "execution_count": null,
      "outputs": []
    },
    {
      "cell_type": "code",
      "metadata": {
        "id": "JepvVeIBQ8KH"
      },
      "source": [
        "S3meanrefA1_12 = list()\n",
        "S3meanC2_1 = list()\n",
        "for i in range(S3RGB_imgA1C2_1.shape[0]): \n",
        "     for j in range(S3RGB_imgA1C2_1.shape[1]): \n",
        "                if 1769<i<1881 and 2019<j<2131 :\n",
        "                  S3meanrefA1_12.append(S3RGB_imgA1C2_1[i][j])\n",
        "                if 1770<i<1880 and 2015<j<2145 :\n",
        "                  S3meanC2_1.append(S3RGB_imgA1C2_1[i][j])  \n",
        "S3meanrefA1_12 = np.array(S3meanrefA1_12)\n",
        "S3meanC2_1 = np.array(S3meanC2_1)\n",
        "\n",
        "S3labrefA1_12 = list()\n",
        "S3labC2_1 = list()\n",
        "for i in range(3):\n",
        "    S3labrefA1_12.append(S3meanrefA1_12[:,i].mean())\n",
        "    S3labC2_1.append(S3meanC2_1[:,i].mean())"
      ],
      "execution_count": null,
      "outputs": []
    },
    {
      "cell_type": "code",
      "metadata": {
        "id": "IFRuGLFoQ8KH"
      },
      "source": [
        "S3meanrefA1_13 = list()\n",
        "S3meanC3_1 = list()\n",
        "for i in range(S3RGB_imgA1C3_1.shape[0]): \n",
        "     for j in range(S3RGB_imgA1C3_1.shape[1]): \n",
        "                if 1769<i<1881 and 2019<j<2131 :\n",
        "                  S3meanrefA1_13.append(S3RGB_imgA1C3_1[i][j])\n",
        "                if 1770<i<1880 and 2015<j<2145 :\n",
        "                  S3meanC3_1.append(S3RGB_imgA1C3_1[i][j])  \n",
        "S3meanrefA1_13 = np.array(S3meanrefA1_13)\n",
        "S3meanC3_1 = np.array(S3meanC3_1)\n",
        "\n",
        "S3labrefA1_13 = list()\n",
        "S3labC3_1 = list()\n",
        "for i in range(3):\n",
        "    S3labrefA1_13.append(S3meanrefA1_13[:,i].mean())\n",
        "    S3labC3_1.append(S3meanC3_1[:,i].mean())"
      ],
      "execution_count": null,
      "outputs": []
    },
    {
      "cell_type": "code",
      "metadata": {
        "id": "r5vFfCOwQ8KH"
      },
      "source": [
        "S3meanrefA1_14 = list()\n",
        "S3meanC4_1 = list()\n",
        "for i in range(S3RGB_imgA1C4_1.shape[0]): \n",
        "     for j in range(S3RGB_imgA1C4_1.shape[1]): \n",
        "                if 1769<i<1881 and 2019<j<2131 :\n",
        "                  S3meanrefA1_14.append(S3RGB_imgA1C4_1[i][j])\n",
        "                if 1770<i<1880 and 2015<j<2145 :\n",
        "                  S3meanC4_1.append(S3RGB_imgA1C4_1[i][j])  \n",
        "S3meanrefA1_14 = np.array(S3meanrefA1_14)\n",
        "S3meanC4_1 = np.array(S3meanC4_1)\n",
        "\n",
        "S3labrefA1_14 = list()\n",
        "S3labC4_1 = list()\n",
        "for i in range(3):\n",
        "    S3labrefA1_14.append(S3meanrefA1_14[:,i].mean())\n",
        "    S3labC4_1.append(S3meanC4_1[:,i].mean())"
      ],
      "execution_count": null,
      "outputs": []
    },
    {
      "cell_type": "code",
      "metadata": {
        "id": "k8R-0grfQ8KH"
      },
      "source": [
        "S3meanrefA1_15 = list()\n",
        "S3meanD2_1 = list()\n",
        "for i in range(S3RGB_imgA1D2_1.shape[0]): \n",
        "     for j in range(S3RGB_imgA1D2_1.shape[1]): \n",
        "                if 1769<i<1881 and 2019<j<2131 :\n",
        "                  S3meanrefA1_15.append(S3RGB_imgA1D2_1[i][j])\n",
        "                if 1770<i<1880 and 2015<j<2145 :\n",
        "                  S3meanD2_1.append(S3RGB_imgA1D2_1[i][j])  \n",
        "S3meanrefA1_15 = np.array(S2meanrefA1_15)\n",
        "S3meanD2_1 = np.array(S2meanD2_1)\n",
        "\n",
        "S3labrefA1_15 = list()\n",
        "S3labD2_1 = list()\n",
        "for i in range(3):\n",
        "    S3labrefA1_15.append(S3meanrefA1_15[:,i].mean())\n",
        "    S3labD2_1.append(S3meanD2_1[:,i].mean())"
      ],
      "execution_count": null,
      "outputs": []
    },
    {
      "cell_type": "code",
      "metadata": {
        "id": "6QQq38GUQ8KI"
      },
      "source": [
        "S3meanrefA1_16 = list()\n",
        "S3meanD3_1 = list()\n",
        "for i in range(S3RGB_imgA1D3_1.shape[0]): \n",
        "     for j in range(S3RGB_imgA1D3_1.shape[1]): \n",
        "                if 1769<i<1881 and 2019<j<2131 :\n",
        "                  S3meanrefA1_16.append(S3RGB_imgA1D3_1[i][j])\n",
        "                if 1770<i<1880 and 2015<j<2145 :\n",
        "                  S3meanD3_1.append(S3RGB_imgA1D3_1[i][j])  \n",
        "S3meanrefA1_16 = np.array(S3meanrefA1_16)\n",
        "S3meanD3_1 = np.array(S3meanD3_1)\n",
        "\n",
        "S3labrefA1_16 = list()\n",
        "S3labD3_1 = list()\n",
        "for i in range(3):\n",
        "    S3labrefA1_16.append(S3meanrefA1_16[:,i].mean())\n",
        "    S3labD3_1.append(S3meanD3_1[:,i].mean())"
      ],
      "execution_count": null,
      "outputs": []
    },
    {
      "cell_type": "code",
      "metadata": {
        "id": "fC5f7pymQ8KI"
      },
      "source": [
        "S3meanrefA1_17= list()\n",
        "S3meanD4_1 = list()\n",
        "for i in range(S3RGB_imgA1D4_1.shape[0]): \n",
        "     for j in range(S3RGB_imgA1D4_1.shape[1]): \n",
        "                if 1769<i<1881 and 2019<j<2131 :\n",
        "                  S3meanrefA1_17.append(S3RGB_imgA1D4_1[i][j])\n",
        "                if 1770<i<1880 and 2015<j<2145 :\n",
        "                  S3meanC4_1.append(S3RGB_imgA1D4_1[i][j])  \n",
        "S3meanrefA1_17 = np.array(S3meanrefA1_14)\n",
        "S3meanD4_1 = np.array(S3meanD4_1)\n",
        "\n",
        "S3labrefA1_17 = list()\n",
        "S3labD4_1 = list()\n",
        "for i in range(3):\n",
        "    S3labrefA1_17.append(S3meanrefA1_17[:,i].mean())\n",
        "    S3labD4_1.append(S3meanD4_1[:,i].mean())"
      ],
      "execution_count": null,
      "outputs": []
    },
    {
      "cell_type": "markdown",
      "metadata": {
        "id": "W1Nj-675OLxB"
      },
      "source": [
        "##Set4"
      ]
    },
    {
      "cell_type": "code",
      "metadata": {
        "id": "9qe-b3RQTFI1"
      },
      "source": [
        "S4meanrefA1_1 = list()\n",
        "S4meanA1_2 = list()\n",
        "for i in range(S4RGB_imgA1A1_1.shape[0]): #ให้ i รันตาม row หรือ shape[0] คือแถว มีทั้งหมด 4032 แถว ของภาพที่ปรับขนาดมาแล้ว\n",
        "     for j in range(S4RGB_imgA1A1_1.shape[1]): #ให้ j รันตาม colum มีทั้งหมด 3024 colum เช่น แถวที่ 1 เข้ามาให้รันครบ 3024colum\n",
        "                if 1769<i<1881 and 2019<j<2131 :\n",
        "                  S4meanrefA1_1.append(S4RGB_imgA1A1_1[i][j])\n",
        "                if 1770<i<1880 and 2015<j<2145 :\n",
        "                  S4meanA1_2.append(S4RGB_imgA1A1_1[i][j])  \n",
        "S4meanrefA1_1 = np.array(S4meanrefA1_1)\n",
        "S4meanA1_2 = np.array(S4meanA1_2)\n",
        "\n",
        "S4labrefA1_1 = list()\n",
        "S4labA1_2 = list()\n",
        "for i in range(3):\n",
        "    S4labrefA1_1.append(S4meanrefA1_1[:,i].mean())\n",
        "    S4labA1_2.append(S4meanA1_2[:,i].mean()) "
      ],
      "execution_count": null,
      "outputs": []
    },
    {
      "cell_type": "code",
      "metadata": {
        "id": "9PmGY8ytTFI1"
      },
      "source": [
        "S4meanrefA1_3 = list()\n",
        "S4meanA2_1 = list()\n",
        "for i in range(S4RGB_imgA1A2_1.shape[0]): \n",
        "     for j in range(S4RGB_imgA1A2_1.shape[1]): \n",
        "                if 1769<i<1881 and 2019<j<2131 :\n",
        "                  S4meanrefA1_3.append(S4RGB_imgA1A2_1[i][j])\n",
        "                if 1770<i<1880 and 2015<j<2145 :\n",
        "                  S4meanA2_1.append(S4RGB_imgA1A2_1[i][j])  \n",
        "S4meanrefA1_3 = np.array(S4meanrefA1_3)\n",
        "S4meanA2_1 = np.array(S4meanA2_1)\n",
        "\n",
        "S4labrefA1_3 = list()\n",
        "S4labA2_1 = list()\n",
        "for i in range(3):\n",
        "    S4labrefA1_3.append(S4meanrefA1_3[:,i].mean())\n",
        "    S4labA2_1.append(S4meanA2_1[:,i].mean())"
      ],
      "execution_count": null,
      "outputs": []
    },
    {
      "cell_type": "code",
      "metadata": {
        "id": "VkmexGJeTFI2"
      },
      "source": [
        "S4meanrefA1_4 = list()\n",
        "S4meanA3_1 = list()\n",
        "for i in range(S4RGB_imgA1A3_1.shape[0]): \n",
        "     for j in range(S4RGB_imgA1A3_1.shape[1]): \n",
        "                if 1769<i<1881 and 2019<j<2131 :\n",
        "                  S4meanrefA1_4.append(S4RGB_imgA1A3_1[i][j])\n",
        "                if 1770<i<1880 and 2015<j<2145 :\n",
        "                  S4meanA3_1.append(S4RGB_imgA1A3_1[i][j])  \n",
        "S4meanrefA1_4 = np.array(S4meanrefA1_4)\n",
        "S4meanA3_1 = np.array(S4meanA3_1)\n",
        "\n",
        "S4labrefA1_4 = list()\n",
        "S4labA3_1 = list()\n",
        "for i in range(3):\n",
        "    S4labrefA1_4.append(S4meanrefA1_4[:,i].mean())\n",
        "    S4labA3_1.append(S4meanA3_1[:,i].mean())"
      ],
      "execution_count": null,
      "outputs": []
    },
    {
      "cell_type": "code",
      "metadata": {
        "id": "ydYPsKzWTFI2"
      },
      "source": [
        "S4meanrefA1_5 = list()\n",
        "S4meanA3_51 = list()\n",
        "for i in range(S4RGB_imgA1A3_51.shape[0]): \n",
        "     for j in range(S4RGB_imgA1A3_51.shape[1]): \n",
        "                if 1769<i<1881 and 2019<j<2131 :\n",
        "                  S4meanrefA1_5.append(S4RGB_imgA1A3_51[i][j])\n",
        "                if 1770<i<1880 and 2015<j<2145 :\n",
        "                  S4meanA3_51.append(S4RGB_imgA1A3_51[i][j])  \n",
        "S4meanrefA1_5 = np.array(S4meanrefA1_5)\n",
        "S4meanA3_51 = np.array(S4meanA3_51)\n",
        "\n",
        "S4labrefA1_5 = list()\n",
        "S4labA3_51 = list()\n",
        "for i in range(3):\n",
        "    S4labrefA1_5.append(S4meanrefA1_51[:,i].mean())\n",
        "    S4labA3_51.append(S4meanA3_51[:,i].mean())"
      ],
      "execution_count": null,
      "outputs": []
    },
    {
      "cell_type": "code",
      "metadata": {
        "id": "tvR2Ob8sTFI2"
      },
      "source": [
        "S4meanrefA1_6 = list()\n",
        "S4meanA4_1 = list()\n",
        "for i in range(S4RGB_imgA1A4_1.shape[0]): \n",
        "     for j in range(S4RGB_imgA1A4_1.shape[1]): \n",
        "                if 1769<i<1881 and 2019<j<2131 :\n",
        "                  S4meanrefA1_6.append(S4RGB_imgA1A4_1[i][j])\n",
        "                if 1770<i<1880 and 2015<j<2145 :\n",
        "                  S4meanA4_1.append(S4RGB_imgA1A4_1[i][j])  \n",
        "S4meanrefA1_6 = np.array(S4meanrefA1_6)\n",
        "S4meanA4_1 = np.array(S4meanA4_1)\n",
        "\n",
        "S4labrefA1_6 = list()\n",
        "S4labA4_1 = list()\n",
        "for i in range(3):\n",
        "    S4labrefA1_6.append(S4meanrefA1_6[:,i].mean())\n",
        "    S4labA4_1.append(S4meanA4_1[:,i].mean())"
      ],
      "execution_count": null,
      "outputs": []
    },
    {
      "cell_type": "code",
      "metadata": {
        "id": "Ljpq0nVwTFI2"
      },
      "source": [
        "S4meanrefA1_7 = list()\n",
        "S4meanB1_1 = list()\n",
        "for i in range(S4RGB_imgA1B1_1.shape[0]): \n",
        "     for j in range(S4RGB_imgA1B1_1.shape[1]): \n",
        "                if 1769<i<1881 and 2019<j<2131 :\n",
        "                  S4meanrefA1_7.append(S4RGB_imgA1B1_1[i][j])\n",
        "                if 1770<i<1880 and 2015<j<2145 :\n",
        "                  S4meanB1_1.append(S4RGB_imgA1B1_1[i][j])  \n",
        "S4meanrefA1_7 = np.array(S4meanrefA1_7)\n",
        "S4meanB1_1 = np.array(S4meanB1_2)\n",
        "\n",
        "S4labrefA1_7 = list()\n",
        "S4labB1_1 = list()\n",
        "for i in range(3):\n",
        "    S4labrefA1_7.append(S4meanrefA1_7[:,i].mean())\n",
        "    S4labB1_1.append(S4meanB1_1[:,i].mean())"
      ],
      "execution_count": null,
      "outputs": []
    },
    {
      "cell_type": "code",
      "metadata": {
        "id": "Zl5OV1WkTFI2"
      },
      "source": [
        "S4meanrefA1_8 = list()\n",
        "S4meanB2_1 = list()\n",
        "for i in range(S4RGB_imgA1B2_1.shape[0]): \n",
        "     for j in range(S4RGB_imgA1B2_1.shape[1]): \n",
        "                if 1769<i<1881 and 2019<j<2131 :\n",
        "                  S4meanrefA1_8.append(S4RGB_imgA1B2_1[i][j])\n",
        "                if 1770<i<1880 and 2015<j<2145 :\n",
        "                  S4meanB2_1.append(S4RGB_imgA1B2_1[i][j])  \n",
        "S4meanrefA1_8 = np.array(S3meanrefA1_8)\n",
        "S4meanB2_1 = np.array(S3meanB2_1)\n",
        "\n",
        "S4labrefA1_8 = list()\n",
        "S4labB2_1 = list()\n",
        "for i in range(3):\n",
        "    S4labrefA1_8.append(S4meanrefA1_8[:,i].mean())\n",
        "    S4labB2_1.append(S4meanB2_1[:,i].mean())"
      ],
      "execution_count": null,
      "outputs": []
    },
    {
      "cell_type": "code",
      "metadata": {
        "id": "5U29cW4STFI2"
      },
      "source": [
        "S4meanrefA1_9 = list()\n",
        "S4meanB3_1 = list()\n",
        "for i in range(S4RGB_imgA1B3_1.shape[0]): \n",
        "     for j in range(S4RGB_imgA1B3_1.shape[1]): \n",
        "                if 1769<i<1881 and 2019<j<2131 :\n",
        "                  S4meanrefA1_9.append(S3RGB_imgA1B3_1[i][j])\n",
        "                if 1770<i<1880 and 2015<j<2145 :\n",
        "                  S4meanB3_1.append(S3RGB_imgA1B3_1[i][j])  \n",
        "S4meanrefA1_9 = np.array(S4meanrefA1_9)\n",
        "S4meanB3_1 = np.array(S4meanB3_1)\n",
        "\n",
        "S4labrefA1_9 = list()\n",
        "S4labB3_1 = list()\n",
        "for i in range(3):\n",
        "    S4labrefA1_9.append(S4meanrefA1_9[:,i].mean())\n",
        "    S4labB3_1.append(S4meanB3_1[:,i].mean())"
      ],
      "execution_count": null,
      "outputs": []
    },
    {
      "cell_type": "code",
      "metadata": {
        "id": "R2NA3evqTFI2"
      },
      "source": [
        "S4meanrefA1_10 = list()\n",
        "S4meanB4_1 = list()\n",
        "for i in range(S4RGB_imgA1B4_1.shape[0]): \n",
        "     for j in range(S4RGB_imgA1B4_1.shape[1]): \n",
        "                if 1769<i<1881 and 2019<j<2131 :\n",
        "                  S4meanrefA1_10.append(S4RGB_imgA1B4_1[i][j])\n",
        "                if 1770<i<1880 and 2015<j<2145 :\n",
        "                  S4meanB4_1.append(S4RGB_imgA1B4_1[i][j])  \n",
        "S4meanrefA1_10 = np.array(S4meanrefA1_10)\n",
        "S4meanB4_1 = np.array(S4meanB4_1)\n",
        "\n",
        "S4labrefA1_10 = list()\n",
        "S4labB4_1 = list()\n",
        "for i in range(3):\n",
        "    S4labrefA1_10.append(S4meanrefA1_10[:,i].mean())\n",
        "    S4labB4_1.append(S4meanB4_1[:,i].mean())"
      ],
      "execution_count": null,
      "outputs": []
    },
    {
      "cell_type": "code",
      "metadata": {
        "id": "no0v_IJvTFI2"
      },
      "source": [
        "S4meanrefA1_11 = list()\n",
        "S4meanC1_2 = list()\n",
        "for i in range(S4RGB_imgA1C1_1.shape[0]): \n",
        "     for j in range(S4RGB_imgA1C1_1.shape[1]): \n",
        "                if 1769<i<1881 and 2019<j<2131 :\n",
        "                  S4meanrefC1_11.append(S4RGB_imgA1C1_1[i][j])\n",
        "                if 1770<i<1880 and 2015<j<2145 :\n",
        "                  S4meanC1_1.append(S4RGB_imgA1C1_1[i][j])  \n",
        "S4meanrefA1_11 = np.array(S3meanrefA1_11)\n",
        "S4meanC1_1 = np.array(S3meanC1_1)\n",
        "\n",
        "S4labrefA1_11 = list()\n",
        "S4labC1_1 = list()\n",
        "for i in range(3):\n",
        "    S4labrefA1_7.append(S4meanrefA1_11[:,i].mean())\n",
        "    S4labC1_1.append(S4meanC1_1[:,i].mean())"
      ],
      "execution_count": null,
      "outputs": []
    },
    {
      "cell_type": "code",
      "metadata": {
        "id": "tk2Tjx-xTFI2"
      },
      "source": [
        "S4meanrefA1_12 = list()\n",
        "S4meanC2_1 = list()\n",
        "for i in range(S4RGB_imgA1C2_1.shape[0]): \n",
        "     for j in range(S4RGB_imgA1C2_1.shape[1]): \n",
        "                if 1769<i<1881 and 2019<j<2131 :\n",
        "                  S4meanrefA1_12.append(S4RGB_imgA1C2_1[i][j])\n",
        "                if 1770<i<1880 and 2015<j<2145 :\n",
        "                  S4meanC2_1.append(S4RGB_imgA1C2_1[i][j])  \n",
        "S4meanrefA1_12 = np.array(S3meanrefA1_12)\n",
        "S4meanC2_1 = np.array(S3meanC2_1)\n",
        "\n",
        "S4labrefA1_12 = list()\n",
        "S4labC2_1 = list()\n",
        "for i in range(3):\n",
        "    S4labrefA1_12.append(S4meanrefA1_12[:,i].mean())\n",
        "    S4labC2_1.append(S4meanC2_1[:,i].mean())"
      ],
      "execution_count": null,
      "outputs": []
    },
    {
      "cell_type": "code",
      "metadata": {
        "id": "C4OzI5irTFI3"
      },
      "source": [
        "S4meanrefA1_13 = list()\n",
        "S4meanC3_1 = list()\n",
        "for i in range(S4RGB_imgA1C3_1.shape[0]): \n",
        "     for j in range(S4RGB_imgA1C3_1.shape[1]): \n",
        "                if 1769<i<1881 and 2019<j<2131 :\n",
        "                  S4meanrefA1_13.append(S4RGB_imgA1C3_1[i][j])\n",
        "                if 1770<i<1880 and 2015<j<2145 :\n",
        "                  S4meanC3_1.append(S4RGB_imgA1C3_1[i][j])  \n",
        "S4meanrefA1_13 = np.array(S4meanrefA1_13)\n",
        "S4meanC3_1 = np.array(S4meanC3_1)\n",
        "\n",
        "S4labrefA1_13 = list()\n",
        "S4labC3_1 = list()\n",
        "for i in range(3):\n",
        "    S4labrefA1_13.append(S4meanrefA1_13[:,i].mean())\n",
        "    S4labC3_1.append(S4meanC3_1[:,i].mean())"
      ],
      "execution_count": null,
      "outputs": []
    },
    {
      "cell_type": "code",
      "metadata": {
        "id": "rmEhD3fATFI3"
      },
      "source": [
        "S4meanrefA1_14 = list()\n",
        "S4meanC4_1 = list()\n",
        "for i in range(S4RGB_imgA1C4_1.shape[0]): \n",
        "     for j in range(S4RGB_imgA1C4_1.shape[1]): \n",
        "                if 1769<i<1881 and 2019<j<2131 :\n",
        "                  S4meanrefA1_14.append(S4RGB_imgA1C4_1[i][j])\n",
        "                if 1770<i<1880 and 2015<j<2145 :\n",
        "                  S4meanC4_1.append(S4RGB_imgA1C4_1[i][j])  \n",
        "S4meanrefA1_14 = np.array(S4meanrefA1_14)\n",
        "S4meanC4_1 = np.array(S4meanC4_1)\n",
        "\n",
        "S4labrefA1_14 = list()\n",
        "S4labC4_1 = list()\n",
        "for i in range(3):\n",
        "    S4labrefA1_14.append(S4meanrefA1_14[:,i].mean())\n",
        "    S4labC4_1.append(S4meanC4_1[:,i].mean())"
      ],
      "execution_count": null,
      "outputs": []
    },
    {
      "cell_type": "code",
      "metadata": {
        "id": "ZAIAbO_iTFI3"
      },
      "source": [
        "S4meanrefA1_15 = list()\n",
        "S4meanD2_1 = list()\n",
        "for i in range(S4RGB_imgA1D2_1.shape[0]): \n",
        "     for j in range(S4RGB_imgA1D2_1.shape[1]): \n",
        "                if 1769<i<1881 and 2019<j<2131 :\n",
        "                  S4meanrefA1_15.append(S4RGB_imgA1D2_1[i][j])\n",
        "                if 1770<i<1880 and 2015<j<2145 :\n",
        "                  S4meanD2_1.append(S4RGB_imgA1D2_1[i][j])  \n",
        "S4meanrefA1_15 = np.array(S4meanrefA1_15)\n",
        "S4meanD2_1 = np.array(S4meanD2_1)\n",
        "\n",
        "S4labrefA1_15 = list()\n",
        "S3labD2_1 = list()\n",
        "for i in range(3):\n",
        "    S4labrefA1_15.append(S4meanrefA1_15[:,i].mean())\n",
        "    S4labD2_1.append(S4meanD2_1[:,i].mean())"
      ],
      "execution_count": null,
      "outputs": []
    },
    {
      "cell_type": "code",
      "metadata": {
        "id": "hTJKOPrTTFI3"
      },
      "source": [
        "S4meanrefA1_16 = list()\n",
        "S4meanD3_1 = list()\n",
        "for i in range(S4RGB_imgA1D3_1.shape[0]): \n",
        "     for j in range(S4RGB_imgA1D3_1.shape[1]): \n",
        "                if 1769<i<1881 and 2019<j<2131 :\n",
        "                  S4meanrefA1_16.append(S4RGB_imgA1D3_1[i][j])\n",
        "                if 1770<i<1880 and 2015<j<2145 :\n",
        "                  S4meanD3_1.append(S4RGB_imgA1D3_1[i][j])  \n",
        "S4meanrefA1_16 = np.array(S4meanrefA1_16)\n",
        "S4meanD3_1 = np.array(S4meanD3_1)\n",
        "\n",
        "S4labrefA1_16 = list()\n",
        "S4labD3_1 = list()\n",
        "for i in range(3):\n",
        "    S4labrefA1_16.append(S4meanrefA1_16[:,i].mean())\n",
        "    S4labD3_1.append(S4meanD3_1[:,i].mean())"
      ],
      "execution_count": null,
      "outputs": []
    },
    {
      "cell_type": "code",
      "metadata": {
        "id": "Pn4S73yNTFI3"
      },
      "source": [
        "S4meanrefA1_17= list()\n",
        "S4meanD4_1 = list()\n",
        "for i in range(S4RGB_imgA1D4_1.shape[0]): \n",
        "     for j in range(S4RGB_imgA1D4_1.shape[1]): \n",
        "                if 1769<i<1881 and 2019<j<2131 :\n",
        "                  S4meanrefA1_17.append(S4RGB_imgA1D4_1[i][j])\n",
        "                if 1770<i<1880 and 2015<j<2145 :\n",
        "                  S4meanC4_1.append(S4RGB_imgA1D4_1[i][j])  \n",
        "S4meanrefA1_17 = np.array(S4meanrefA1_14)\n",
        "S4meanD4_1 = np.array(S4meanD4_1)\n",
        "\n",
        "S4labrefA1_17 = list()\n",
        "S4labD4_1 = list()\n",
        "for i in range(3):\n",
        "    S4labrefA1_17.append(S4meanrefA1_17[:,i].mean())\n",
        "    S4labD4_1.append(S4meanD4_1[:,i].mean())"
      ],
      "execution_count": null,
      "outputs": []
    }
  ]
}