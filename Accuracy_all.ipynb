{
  "nbformat": 4,
  "nbformat_minor": 0,
  "metadata": {
    "colab": {
      "name": "Accuracy_all.ipynb",
      "provenance": [],
      "authorship_tag": "ABX9TyODxbeowozX2ZMMfCLnipI8",
      "include_colab_link": true
    },
    "kernelspec": {
      "name": "python3",
      "display_name": "Python 3"
    },
    "language_info": {
      "name": "python"
    }
  },
  "cells": [
    {
      "cell_type": "markdown",
      "metadata": {
        "id": "view-in-github",
        "colab_type": "text"
      },
      "source": [
        "<a href=\"https://colab.research.google.com/github/Kggzzz/Project_2021_matchingcolor/blob/main/Accuracy_all.ipynb\" target=\"_parent\"><img src=\"https://colab.research.google.com/assets/colab-badge.svg\" alt=\"Open In Colab\"/></a>"
      ]
    },
    {
      "cell_type": "markdown",
      "source": [
        "#Model "
      ],
      "metadata": {
        "id": "ssvGIa4Py9rG"
      }
    },
    {
      "cell_type": "code",
      "source": [
        "import numpy as np"
      ],
      "metadata": {
        "id": "8ISBGlPBzzvw"
      },
      "execution_count": 1,
      "outputs": []
    },
    {
      "cell_type": "code",
      "source": [
        "from sklearn import metrics"
      ],
      "metadata": {
        "id": "FTwRPXBBzw1v"
      },
      "execution_count": 2,
      "outputs": []
    },
    {
      "cell_type": "code",
      "source": [
        "from sklearn import datasets"
      ],
      "metadata": {
        "id": "KR8lVsZXpX9X"
      },
      "execution_count": 3,
      "outputs": []
    },
    {
      "cell_type": "code",
      "source": [
        "from sklearn.ensemble import RandomForestClassifier"
      ],
      "metadata": {
        "id": "cfRBaPLCI0vn"
      },
      "execution_count": 4,
      "outputs": []
    },
    {
      "cell_type": "code",
      "source": [
        "import xgboost as xgb"
      ],
      "metadata": {
        "id": "h50-WlNzOp3W"
      },
      "execution_count": 5,
      "outputs": []
    },
    {
      "cell_type": "code",
      "source": [
        "from sklearn import svm"
      ],
      "metadata": {
        "id": "wM9lCq5ZOqOc"
      },
      "execution_count": 6,
      "outputs": []
    },
    {
      "cell_type": "code",
      "source": [
        "import pandas as pd"
      ],
      "metadata": {
        "id": "uJm_2vBUP9p2"
      },
      "execution_count": 7,
      "outputs": []
    },
    {
      "cell_type": "code",
      "source": [
        "from google.colab import drive \n",
        "drive.mount('/content/drive')"
      ],
      "metadata": {
        "colab": {
          "base_uri": "https://localhost:8080/"
        },
        "id": "_8KDD0WgQC_c",
        "outputId": "7d8e5f9d-8b30-41bf-da18-480db4dbfddc"
      },
      "execution_count": 8,
      "outputs": [
        {
          "output_type": "stream",
          "name": "stdout",
          "text": [
            "Mounted at /content/drive\n"
          ]
        }
      ]
    },
    {
      "cell_type": "code",
      "source": [
        "import os"
      ],
      "metadata": {
        "id": "-RXgiw8nQEFY"
      },
      "execution_count": 9,
      "outputs": []
    },
    {
      "cell_type": "code",
      "source": [
        "path = '/content/drive/My Drive/shadeimg/SVM shade'"
      ],
      "metadata": {
        "id": "ehxFczjDQFLC"
      },
      "execution_count": 10,
      "outputs": []
    },
    {
      "cell_type": "code",
      "source": [
        "os.listdir(path)"
      ],
      "metadata": {
        "id": "B7dvVcB-QGcE",
        "colab": {
          "base_uri": "https://localhost:8080/"
        },
        "outputId": "274dc2aa-6091-4034-fb4e-613c48d6bc4c"
      },
      "execution_count": 11,
      "outputs": [
        {
          "output_type": "execute_result",
          "data": {
            "text/plain": [
              "['DD.xlsx',\n",
              " 'CC.xlsx',\n",
              " 'BB.xlsx',\n",
              " 'Shade_AA.xlsx',\n",
              " 'Shade_CC.xlsx',\n",
              " 'Shade_DD.xlsx',\n",
              " 'Shade_BB.xlsx',\n",
              " 'AA.xlsx',\n",
              " 'AA_2.xlsx',\n",
              " 'Shad_A.xlsx',\n",
              " 'Shad_B.xlsx',\n",
              " 'Shad_C.xlsx',\n",
              " 'Shad_D.xlsx',\n",
              " 'Setting4.xlsx',\n",
              " 'Color-checkerAA.xlsx',\n",
              " 'Color-checkerBB.xlsx',\n",
              " 'Color-checkerCC.xlsx',\n",
              " 'Setting2.xlsx',\n",
              " 'D3set51.csv',\n",
              " 'Setting1.xlsx',\n",
              " 'CheckerDD.xlsx',\n",
              " 'Setting3.xlsx',\n",
              " 'Setting6.xlsx',\n",
              " 'Setting5.xlsx',\n",
              " 'checkerShad_A .xlsx',\n",
              " 'checkerShad_B.xlsx',\n",
              " 'checkerShad_C.xlsx',\n",
              " 'D3Set5-61.xlsx',\n",
              " 'checkerShad_D.xlsx',\n",
              " 'Color-checkerDD.xlsx',\n",
              " 'Datapoint_1.xlsx',\n",
              " 'Datapoint_2.xlsx',\n",
              " 'Datapoint_3.xlsx',\n",
              " 'Datapoint_4.xlsx',\n",
              " 'Datapoint_6.xlsx',\n",
              " 'Datapoint_5.xlsx']"
            ]
          },
          "metadata": {},
          "execution_count": 11
        }
      ]
    },
    {
      "cell_type": "code",
      "source": [
        "Set1 = os.path.join(path,'Datapoint_1.xlsx')\n",
        "print(Set1)"
      ],
      "metadata": {
        "id": "CMbG8rSdQIaw",
        "colab": {
          "base_uri": "https://localhost:8080/"
        },
        "outputId": "e3dc8e4e-2e30-4e68-98b9-7ce1a287b2a8"
      },
      "execution_count": 12,
      "outputs": [
        {
          "output_type": "stream",
          "name": "stdout",
          "text": [
            "/content/drive/My Drive/shadeimg/SVM shade/Datapoint_1.xlsx\n"
          ]
        }
      ]
    },
    {
      "cell_type": "code",
      "source": [
        "Set2 = os.path.join(path,'Datapoint_2.xlsx')\n",
        "print(Set2)"
      ],
      "metadata": {
        "id": "SwX5IxeQQJk-",
        "colab": {
          "base_uri": "https://localhost:8080/"
        },
        "outputId": "c629ac6a-e64a-4cfb-9a8b-58fbf2d234d6"
      },
      "execution_count": 13,
      "outputs": [
        {
          "output_type": "stream",
          "name": "stdout",
          "text": [
            "/content/drive/My Drive/shadeimg/SVM shade/Datapoint_2.xlsx\n"
          ]
        }
      ]
    },
    {
      "cell_type": "code",
      "source": [
        "Set3 = os.path.join(path,'Datapoint_3.xlsx')\n",
        "print(Set3)"
      ],
      "metadata": {
        "id": "m2BCIcaIQLQK",
        "colab": {
          "base_uri": "https://localhost:8080/"
        },
        "outputId": "20acf925-257e-45cc-a59a-c63a471595e9"
      },
      "execution_count": 14,
      "outputs": [
        {
          "output_type": "stream",
          "name": "stdout",
          "text": [
            "/content/drive/My Drive/shadeimg/SVM shade/Datapoint_3.xlsx\n"
          ]
        }
      ]
    },
    {
      "cell_type": "code",
      "source": [
        "Set4 = os.path.join(path,'Datapoint_4.xlsx')\n",
        "print(Set4)"
      ],
      "metadata": {
        "id": "JjNMYk0fQMha",
        "colab": {
          "base_uri": "https://localhost:8080/"
        },
        "outputId": "9b7b2654-0e0c-4b32-8cf2-1a01bb8a10a2"
      },
      "execution_count": 15,
      "outputs": [
        {
          "output_type": "stream",
          "name": "stdout",
          "text": [
            "/content/drive/My Drive/shadeimg/SVM shade/Datapoint_4.xlsx\n"
          ]
        }
      ]
    },
    {
      "cell_type": "code",
      "source": [
        "Set5 = os.path.join(path,'Datapoint_5.xlsx')\n",
        "print(Set5)"
      ],
      "metadata": {
        "id": "YpXzpzEBQ0oT",
        "colab": {
          "base_uri": "https://localhost:8080/"
        },
        "outputId": "c44a5b2d-e049-467c-bb4e-4e29de018329"
      },
      "execution_count": 16,
      "outputs": [
        {
          "output_type": "stream",
          "name": "stdout",
          "text": [
            "/content/drive/My Drive/shadeimg/SVM shade/Datapoint_5.xlsx\n"
          ]
        }
      ]
    },
    {
      "cell_type": "code",
      "source": [
        "Set6 = os.path.join(path,'Datapoint_6.xlsx')\n",
        "print(Set6)"
      ],
      "metadata": {
        "id": "wd2Y2s-SQ3YD",
        "colab": {
          "base_uri": "https://localhost:8080/"
        },
        "outputId": "a42ac3c8-bc34-4321-e514-7d2a5b10ac20"
      },
      "execution_count": 17,
      "outputs": [
        {
          "output_type": "stream",
          "name": "stdout",
          "text": [
            "/content/drive/My Drive/shadeimg/SVM shade/Datapoint_6.xlsx\n"
          ]
        }
      ]
    },
    {
      "cell_type": "markdown",
      "source": [
        "#Data"
      ],
      "metadata": {
        "id": "MkXd0gi4lAJN"
      }
    },
    {
      "cell_type": "markdown",
      "source": [
        "A2"
      ],
      "metadata": {
        "id": "am5YPcQ-lCHt"
      }
    },
    {
      "cell_type": "code",
      "source": [
        "table_A2Set1 = pd.read_excel(Set1, sheet_name='A2_1')\n",
        "table_A2Set2 = pd.read_excel(Set2, sheet_name='A2_2')\n",
        "table_A2Set3 = pd.read_excel(Set3, sheet_name='A2_3')\n",
        "table_A2Set4 = pd.read_excel(Set4, sheet_name='A2_4')\n",
        "table_A2Set5 = pd.read_excel(Set5, sheet_name='A2_5')\n",
        "table_A2Set6 = pd.read_excel(Set6, sheet_name='A2_6')"
      ],
      "metadata": {
        "id": "ZXIlOdDxk0Zf"
      },
      "execution_count": 18,
      "outputs": []
    },
    {
      "cell_type": "code",
      "source": [
        "RGB_A2_Set1 = table_A2Set1\n",
        "RGB_A2_Set2 = table_A2Set2\n",
        "RGB_A2_Set3 = table_A2Set3\n",
        "RGB_A2_Set4 = table_A2Set4\n",
        "RGB_A2_Set6 = table_A2Set6"
      ],
      "metadata": {
        "id": "O6Tm9r7UlogO"
      },
      "execution_count": 19,
      "outputs": []
    },
    {
      "cell_type": "markdown",
      "source": [
        "A3"
      ],
      "metadata": {
        "id": "nuRUpDoalE1m"
      }
    },
    {
      "cell_type": "code",
      "source": [
        "table_A3Set1 = pd.read_excel(Set1, sheet_name='A3_1')\n",
        "table_A3Set2 = pd.read_excel(Set2, sheet_name='A3_2')\n",
        "table_A3Set3 = pd.read_excel(Set3, sheet_name='A3_3')\n",
        "table_A3Set4 = pd.read_excel(Set4, sheet_name='A3_4')\n",
        "table_A3Set5 = pd.read_excel(Set5, sheet_name='A3_5')\n",
        "table_A3Set6 = pd.read_excel(Set6, sheet_name='A3_6')"
      ],
      "metadata": {
        "id": "7zjYniMHlDZE"
      },
      "execution_count": 20,
      "outputs": []
    },
    {
      "cell_type": "code",
      "source": [
        "RGB_A3_Set1 = table_A3Set1\n",
        "RGB_A3_Set2 = table_A3Set2\n",
        "RGB_A3_Set3 = table_A3Set3\n",
        "RGB_A3_Set4 = table_A3Set4\n",
        "RGB_A3_Set6 = table_A3Set6"
      ],
      "metadata": {
        "id": "TMdizlI8mLjK"
      },
      "execution_count": 21,
      "outputs": []
    },
    {
      "cell_type": "markdown",
      "source": [
        "A4"
      ],
      "metadata": {
        "id": "ESK1pj4GlKQ4"
      }
    },
    {
      "cell_type": "code",
      "source": [
        "table_A4Set1 = pd.read_excel(Set1, sheet_name='A4_1')\n",
        "table_A4Set2 = pd.read_excel(Set2, sheet_name='A4_2')\n",
        "table_A4Set3 = pd.read_excel(Set3, sheet_name='A4_3')\n",
        "table_A4Set4 = pd.read_excel(Set4, sheet_name='A4_4')\n",
        "table_A4Set5 = pd.read_excel(Set5, sheet_name='A4_5')\n",
        "table_A4Set6 = pd.read_excel(Set6, sheet_name='A4_6')"
      ],
      "metadata": {
        "id": "U7ZIO_oplQkN"
      },
      "execution_count": 22,
      "outputs": []
    },
    {
      "cell_type": "code",
      "source": [
        "RGB_A4_Set1 = table_A4Set1\n",
        "RGB_A4_Set2 = table_A4Set2\n",
        "RGB_A4_Set3 = table_A4Set3\n",
        "RGB_A4_Set4 = table_A4Set4\n",
        "RGB_A4_Set6 = table_A4Set6"
      ],
      "metadata": {
        "id": "3HetUP0OmQqn"
      },
      "execution_count": 23,
      "outputs": []
    },
    {
      "cell_type": "markdown",
      "source": [
        "C2"
      ],
      "metadata": {
        "id": "-yLgmo66lWGq"
      }
    },
    {
      "cell_type": "code",
      "source": [
        "table_C2Set1 = pd.read_excel(Set1, sheet_name='C2_1')\n",
        "table_C2Set2 = pd.read_excel(Set2, sheet_name='C2_2')\n",
        "table_C2Set3 = pd.read_excel(Set3, sheet_name='C2_3')\n",
        "table_C2Set4 = pd.read_excel(Set4, sheet_name='C2_4')\n",
        "table_C2Set5 = pd.read_excel(Set5, sheet_name='C2_5')\n",
        "table_C2Set6 = pd.read_excel(Set6, sheet_name='C2_6')"
      ],
      "metadata": {
        "id": "MInP8IS6lXx4"
      },
      "execution_count": 24,
      "outputs": []
    },
    {
      "cell_type": "code",
      "source": [
        "RGB_C2_Set1 = table_C2Set1\n",
        "RGB_C2_Set2 = table_C2Set2\n",
        "RGB_C2_Set3 = table_C2Set3\n",
        "RGB_C2_Set4 = table_C2Set4\n",
        "RGB_C2_Set6 = table_C2Set6"
      ],
      "metadata": {
        "id": "9SuezECzmVQT"
      },
      "execution_count": 25,
      "outputs": []
    },
    {
      "cell_type": "markdown",
      "source": [
        "D4"
      ],
      "metadata": {
        "id": "tu1sRFdllfDe"
      }
    },
    {
      "cell_type": "code",
      "source": [
        "table_D4Set1 = pd.read_excel(Set1, sheet_name='D4_1')\n",
        "table_D4Set2 = pd.read_excel(Set2, sheet_name='D4_2')\n",
        "table_D4Set3 = pd.read_excel(Set3, sheet_name='D4_3')\n",
        "table_D4Set4 = pd.read_excel(Set4, sheet_name='D4_4')\n",
        "table_D4Set5 = pd.read_excel(Set5, sheet_name='D4_5')\n",
        "table_D4Set6 = pd.read_excel(Set6, sheet_name='D4_6')"
      ],
      "metadata": {
        "id": "FvUBT1tJlf3E"
      },
      "execution_count": 26,
      "outputs": []
    },
    {
      "cell_type": "code",
      "source": [
        "RGB_D4_Set1 = table_D4Set1\n",
        "RGB_D4_Set2 = table_D4Set2\n",
        "RGB_D4_Set3 = table_D4Set3\n",
        "RGB_D4_Set4 = table_D4Set4\n",
        "RGB_D4_Set6 = table_D4Set6"
      ],
      "metadata": {
        "id": "JkqODuhSmZPc"
      },
      "execution_count": 27,
      "outputs": []
    },
    {
      "cell_type": "markdown",
      "source": [
        "#RF ref"
      ],
      "metadata": {
        "id": "Hg9Wsid2jkFO"
      }
    },
    {
      "cell_type": "markdown",
      "source": [
        "##RGB A2"
      ],
      "metadata": {
        "id": "k5C-Gdw9jl5w"
      }
    },
    {
      "cell_type": "code",
      "source": [
        "RF1 = RandomForestClassifier()"
      ],
      "metadata": {
        "id": "GSX1Lt1ijcrw"
      },
      "execution_count": 28,
      "outputs": []
    },
    {
      "cell_type": "code",
      "source": [
        "RGB_A2_RF_ref = table_A2Set5"
      ],
      "metadata": {
        "id": "e8d3-PVQl-Jy"
      },
      "execution_count": 29,
      "outputs": []
    },
    {
      "cell_type": "code",
      "source": [
        "RGB_A2_RF_ref = RGB_A2_RF_ref.drop(['H-ref','S-ref','V-ref','H-Shad','S-Shad','V-Shad','Setting','Ref','Shad','Img'], axis=1)"
      ],
      "metadata": {
        "id": "rUX2oMyyo0Ys"
      },
      "execution_count": 30,
      "outputs": []
    },
    {
      "cell_type": "code",
      "source": [
        "RGB_A2_concat = pd.concat([RGB_A2_Set1,RGB_A2_Set2,RGB_A2_Set3,RGB_A2_Set4,RGB_A2_Set6])"
      ],
      "metadata": {
        "id": "BqcjcRdZnzdf"
      },
      "execution_count": 31,
      "outputs": []
    },
    {
      "cell_type": "code",
      "source": [
        "RGB_A2_concat_RF_ref = RGB_A2_concat.drop(['H-ref','S-ref','V-ref','H-Shad','S-Shad','V-Shad','Setting','Ref','Shad','Img'], axis=1)"
      ],
      "metadata": {
        "id": "WD_34cCCoHaA"
      },
      "execution_count": 32,
      "outputs": []
    },
    {
      "cell_type": "code",
      "source": [
        "X_test_RGB_A2_RF_ref = np.array(RGB_A2_RF_ref)"
      ],
      "metadata": {
        "id": "GwsJ3hmqo-CM"
      },
      "execution_count": 33,
      "outputs": []
    },
    {
      "cell_type": "code",
      "source": [
        "y_RGB_A2_RF_ref =  table_A2Set5.iloc[:,14:15]"
      ],
      "metadata": {
        "id": "ggXftwqipJHH"
      },
      "execution_count": 34,
      "outputs": []
    },
    {
      "cell_type": "code",
      "source": [
        "y_test_RGB_A2_RF_ref = np.array(y_RGB_A2_RF_ref)"
      ],
      "metadata": {
        "id": "AO5HO_G9pSLW"
      },
      "execution_count": 35,
      "outputs": []
    },
    {
      "cell_type": "code",
      "source": [
        "X_train_RGB_A2_RF_ref = np.array(RGB_A2_concat_RF_ref)"
      ],
      "metadata": {
        "id": "S-9QkOWopXDQ"
      },
      "execution_count": 36,
      "outputs": []
    },
    {
      "cell_type": "code",
      "source": [
        "y_train_A2RGB_RF_ref = RGB_A2_concat.iloc[:,14:15]"
      ],
      "metadata": {
        "id": "vkrSiHNLpfWD"
      },
      "execution_count": 37,
      "outputs": []
    },
    {
      "cell_type": "code",
      "source": [
        "y_train_A2_RGB_RF_ref = np.array(y_train_A2RGB_RF_ref)"
      ],
      "metadata": {
        "id": "uaWJDnoiphS6"
      },
      "execution_count": 38,
      "outputs": []
    },
    {
      "cell_type": "code",
      "source": [
        "y_train_A2_RGB_RF_ref.shape = (len(y_train_A2_RGB_RF_ref,))"
      ],
      "metadata": {
        "id": "Fyovo7KSpo5d"
      },
      "execution_count": 39,
      "outputs": []
    },
    {
      "cell_type": "code",
      "source": [
        "RF1.fit(X_train_RGB_A2_RF_ref, y_train_A2_RGB_RF_ref)"
      ],
      "metadata": {
        "colab": {
          "base_uri": "https://localhost:8080/"
        },
        "id": "YHWMTRJHptPZ",
        "outputId": "cb4a5741-34d6-436c-f5f1-bfad89b7f503"
      },
      "execution_count": 40,
      "outputs": [
        {
          "output_type": "execute_result",
          "data": {
            "text/plain": [
              "RandomForestClassifier()"
            ]
          },
          "metadata": {},
          "execution_count": 40
        }
      ]
    },
    {
      "cell_type": "code",
      "source": [
        "y_pred_A2_RF_ref = RF1.predict(X_test_RGB_A2_RF_ref)"
      ],
      "metadata": {
        "id": "qjVMNKOmpzD3"
      },
      "execution_count": 41,
      "outputs": []
    },
    {
      "cell_type": "code",
      "source": [
        "AC_RGB_RF_ref = metrics.accuracy_score(y_test_RGB_A2_RF_ref, y_pred_A2_RF_ref)"
      ],
      "metadata": {
        "id": "aBgvP8Fup8x7"
      },
      "execution_count": 42,
      "outputs": []
    },
    {
      "cell_type": "markdown",
      "source": [
        "##HSV A3"
      ],
      "metadata": {
        "id": "_VqMECUnjpAV"
      }
    },
    {
      "cell_type": "code",
      "source": [
        "RF2 = RandomForestClassifier()"
      ],
      "metadata": {
        "id": "iEQoiTS8mfjL"
      },
      "execution_count": 43,
      "outputs": []
    },
    {
      "cell_type": "code",
      "source": [
        "HSV_A3_RF_ref = table_A3Set5"
      ],
      "metadata": {
        "id": "OFPjbxPLklWV"
      },
      "execution_count": 44,
      "outputs": []
    },
    {
      "cell_type": "code",
      "source": [
        "HSV_A3_RF_ref = HSV_A3_RF_ref.drop(['R-ref','G-ref','B-ref','R-Shad','G-Shad','B-Shad','Setting','Ref','Shad','Img'], axis=1)"
      ],
      "metadata": {
        "id": "KIssqW7DoS44"
      },
      "execution_count": 45,
      "outputs": []
    },
    {
      "cell_type": "code",
      "source": [
        "HSV_A3_concat = pd.concat([RGB_A2_Set1,RGB_A2_Set2,RGB_A2_Set3,RGB_A2_Set4,RGB_A2_Set6])"
      ],
      "metadata": {
        "id": "21eKNElAoIqR"
      },
      "execution_count": 46,
      "outputs": []
    },
    {
      "cell_type": "code",
      "source": [
        "HSV_A3_concat_RF_ref = HSV_A3_concat.drop(['R-ref','G-ref','B-ref','R-Shad','G-Shad','B-Shad','Setting','Ref','Shad','Img'], axis=1)"
      ],
      "metadata": {
        "id": "W9TqpxvaoQKV"
      },
      "execution_count": 47,
      "outputs": []
    },
    {
      "cell_type": "code",
      "source": [
        "X_test_HSV_A3_RF_ref = np.array(HSV_A3_RF_ref)"
      ],
      "metadata": {
        "id": "xY04KTE6oxq8"
      },
      "execution_count": 48,
      "outputs": []
    },
    {
      "cell_type": "code",
      "source": [
        "y_HSV_A3_RF_ref =  table_A3Set5.iloc[:,14:15]"
      ],
      "metadata": {
        "id": "6XPcu_ZiqS9f"
      },
      "execution_count": 49,
      "outputs": []
    },
    {
      "cell_type": "code",
      "source": [
        "y_test_HSV_A3_RF_ref = np.array(y_HSV_A3_RF_ref)"
      ],
      "metadata": {
        "id": "E7H1Y3_dqS9g"
      },
      "execution_count": 50,
      "outputs": []
    },
    {
      "cell_type": "code",
      "source": [
        "X_train_HSV_A3_RF_ref = np.array(HSV_A3_concat_RF_ref)"
      ],
      "metadata": {
        "id": "jjLW71RlqS9g"
      },
      "execution_count": 51,
      "outputs": []
    },
    {
      "cell_type": "code",
      "source": [
        "y_train_A3HSV_RF_ref = HSV_A3_concat.iloc[:,14:15]"
      ],
      "metadata": {
        "id": "xcytID3mqS9g"
      },
      "execution_count": 52,
      "outputs": []
    },
    {
      "cell_type": "code",
      "source": [
        "y_train_A3_HSV_RF_ref = np.array(y_train_A3HSV_RF_ref)"
      ],
      "metadata": {
        "id": "XgucPP4lqS9g"
      },
      "execution_count": 53,
      "outputs": []
    },
    {
      "cell_type": "code",
      "source": [
        "y_train_A3_HSV_RF_ref.shape = (len(y_train_A3_HSV_RF_ref,))"
      ],
      "metadata": {
        "id": "IpU9qrpEqS9g"
      },
      "execution_count": 54,
      "outputs": []
    },
    {
      "cell_type": "code",
      "source": [
        "RF2.fit(X_train_HSV_A3_RF_ref, y_train_A3_HSV_RF_ref)"
      ],
      "metadata": {
        "colab": {
          "base_uri": "https://localhost:8080/"
        },
        "id": "iJ2b8N8wqS9h",
        "outputId": "8c9896e5-3603-4a82-9a5b-6fb61e5bcc3a"
      },
      "execution_count": 55,
      "outputs": [
        {
          "output_type": "execute_result",
          "data": {
            "text/plain": [
              "RandomForestClassifier()"
            ]
          },
          "metadata": {},
          "execution_count": 55
        }
      ]
    },
    {
      "cell_type": "code",
      "source": [
        "y_pred_A3_RF_ref = RF2.predict(X_test_HSV_A3_RF_ref)"
      ],
      "metadata": {
        "id": "d6FwLFpOqS9h"
      },
      "execution_count": 56,
      "outputs": []
    },
    {
      "cell_type": "code",
      "source": [
        "AC_HSV_RF_ref = metrics.accuracy_score(y_test_HSV_A3_RF_ref, y_pred_A3_RF_ref)"
      ],
      "metadata": {
        "id": "MKPJyg_2qS9h"
      },
      "execution_count": 57,
      "outputs": []
    },
    {
      "cell_type": "markdown",
      "source": [
        "#RF no ref"
      ],
      "metadata": {
        "id": "WJDkFryBjrL0"
      }
    },
    {
      "cell_type": "markdown",
      "source": [
        "##RGB A2"
      ],
      "metadata": {
        "id": "fpupOfirjs93"
      }
    },
    {
      "cell_type": "code",
      "source": [
        "RF3 = RandomForestClassifier()"
      ],
      "metadata": {
        "id": "bbKqZqL4kl1X"
      },
      "execution_count": 58,
      "outputs": []
    },
    {
      "cell_type": "code",
      "source": [
        "RGB_A2_RF_noref = table_A2Set5"
      ],
      "metadata": {
        "id": "m2jNxbsQmnLo"
      },
      "execution_count": 59,
      "outputs": []
    },
    {
      "cell_type": "code",
      "source": [
        "RGB_A2_RF_noref = RGB_A2_RF_noref.drop(['R-ref','G-ref','B-ref','H-ref','S-ref','V-ref','H-Shad','S-Shad','V-Shad','Setting','Ref','Shad','Img'], axis=1)"
      ],
      "metadata": {
        "id": "t5JZJj8UtPDT"
      },
      "execution_count": 60,
      "outputs": []
    },
    {
      "cell_type": "code",
      "source": [
        "RGB_A2_concat = pd.concat([RGB_A2_Set1,RGB_A2_Set2,RGB_A2_Set3,RGB_A2_Set4,RGB_A2_Set6])"
      ],
      "metadata": {
        "id": "lAEI_PfytPDT"
      },
      "execution_count": 61,
      "outputs": []
    },
    {
      "cell_type": "code",
      "source": [
        "RGB_A2_concat_RF_noref = RGB_A2_concat.drop(['R-ref','G-ref','B-ref','H-ref','S-ref','V-ref','H-Shad','S-Shad','V-Shad','Setting','Ref','Shad','Img'], axis=1)"
      ],
      "metadata": {
        "id": "1J3Wz5SstPDT"
      },
      "execution_count": 62,
      "outputs": []
    },
    {
      "cell_type": "code",
      "source": [
        "X_test_RGB_A2_RF_noref = np.array(RGB_A2_RF_noref)"
      ],
      "metadata": {
        "id": "QXwf6cuKtPDT"
      },
      "execution_count": 63,
      "outputs": []
    },
    {
      "cell_type": "code",
      "source": [
        "y_RGB_A2_RF_noref =  table_A2Set5.iloc[:,14:15]"
      ],
      "metadata": {
        "id": "v6g0-NMEtPDU"
      },
      "execution_count": 64,
      "outputs": []
    },
    {
      "cell_type": "code",
      "source": [
        "y_test_RGB_A2_RF_noref = np.array(y_RGB_A2_RF_noref)"
      ],
      "metadata": {
        "id": "qM9BpqUKtPDU"
      },
      "execution_count": 65,
      "outputs": []
    },
    {
      "cell_type": "code",
      "source": [
        "X_train_RGB_A2_RF_noref = np.array(RGB_A2_concat_RF_noref)"
      ],
      "metadata": {
        "id": "-4RYEqe5tPDU"
      },
      "execution_count": 66,
      "outputs": []
    },
    {
      "cell_type": "code",
      "source": [
        "y_train_A2RGB_RF_noref = RGB_A2_concat.iloc[:,14:15]"
      ],
      "metadata": {
        "id": "KL1HsaaxtPDU"
      },
      "execution_count": 67,
      "outputs": []
    },
    {
      "cell_type": "code",
      "source": [
        "y_train_A2_RGB_RF_noref= np.array(y_train_A2RGB_RF_noref)"
      ],
      "metadata": {
        "id": "6ISqJjA7tPDU"
      },
      "execution_count": 68,
      "outputs": []
    },
    {
      "cell_type": "code",
      "source": [
        "y_train_A2_RGB_RF_noref.shape = (len(y_train_A2_RGB_RF_noref,))"
      ],
      "metadata": {
        "id": "awpqKvR5tPDU"
      },
      "execution_count": 69,
      "outputs": []
    },
    {
      "cell_type": "code",
      "source": [
        "RF3.fit(X_train_RGB_A2_RF_noref, y_train_A2_RGB_RF_noref)"
      ],
      "metadata": {
        "colab": {
          "base_uri": "https://localhost:8080/"
        },
        "id": "nFhsTruTtPDU",
        "outputId": "51ec1433-cb4c-4925-f297-7981f259da1c"
      },
      "execution_count": 70,
      "outputs": [
        {
          "output_type": "execute_result",
          "data": {
            "text/plain": [
              "RandomForestClassifier()"
            ]
          },
          "metadata": {},
          "execution_count": 70
        }
      ]
    },
    {
      "cell_type": "code",
      "source": [
        "y_pred_A2_RF_noref = RF3.predict(X_test_RGB_A2_RF_noref)"
      ],
      "metadata": {
        "id": "qroaUEeUtPDU"
      },
      "execution_count": 71,
      "outputs": []
    },
    {
      "cell_type": "code",
      "source": [
        "AC_RGB_RF_noref = metrics.accuracy_score(y_test_RGB_A2_RF_noref, y_pred_A2_RF_noref)"
      ],
      "metadata": {
        "id": "Airci4IctPDU"
      },
      "execution_count": 72,
      "outputs": []
    },
    {
      "cell_type": "markdown",
      "source": [
        "##HSV A3"
      ],
      "metadata": {
        "id": "W_jzhsfWjums"
      }
    },
    {
      "cell_type": "code",
      "source": [
        "RF4 = RandomForestClassifier()"
      ],
      "metadata": {
        "id": "T26DoYa3kmLl"
      },
      "execution_count": 73,
      "outputs": []
    },
    {
      "cell_type": "code",
      "source": [
        "HSV_A3_RF_noref = table_A3Set5"
      ],
      "metadata": {
        "id": "n1mKORrkmp8q"
      },
      "execution_count": 74,
      "outputs": []
    },
    {
      "cell_type": "code",
      "source": [
        "HSV_A3_RF_noref = HSV_A3_RF_noref.drop(['R-ref','G-ref','B-ref','R-Shad','G-Shad','B-Shad','H-ref','S-ref','V-ref','Setting','Ref','Shad','Img'], axis=1)"
      ],
      "metadata": {
        "id": "zKjLAoBptmWw"
      },
      "execution_count": 75,
      "outputs": []
    },
    {
      "cell_type": "code",
      "source": [
        "HSV_A3_concat = pd.concat([RGB_A3_Set1,RGB_A3_Set2,RGB_A3_Set3,RGB_A3_Set4,RGB_A3_Set6])"
      ],
      "metadata": {
        "id": "iPiOiaIMtmWw"
      },
      "execution_count": 76,
      "outputs": []
    },
    {
      "cell_type": "code",
      "source": [
        "HSV_A3_concat_RF_noref = HSV_A3_concat.drop(['R-ref','G-ref','B-ref','R-Shad','G-Shad','B-Shad','H-ref','S-ref','V-ref','Setting','Ref','Shad','Img'], axis=1)"
      ],
      "metadata": {
        "id": "X7nYHN6AtmWw"
      },
      "execution_count": 77,
      "outputs": []
    },
    {
      "cell_type": "code",
      "source": [
        "X_test_HSV_A3_RF_noref = np.array(HSV_A3_RF_noref)"
      ],
      "metadata": {
        "id": "vof1HrWPtmWw"
      },
      "execution_count": 78,
      "outputs": []
    },
    {
      "cell_type": "code",
      "source": [
        "y_HSV_A3_RF_noref =  table_A3Set5.iloc[:,14:15]"
      ],
      "metadata": {
        "id": "pyQa0XAHtmWx"
      },
      "execution_count": 79,
      "outputs": []
    },
    {
      "cell_type": "code",
      "source": [
        "y_test_HSV_A3_RF_noref = np.array(y_HSV_A3_RF_noref)"
      ],
      "metadata": {
        "id": "5o-XND_7tmWx"
      },
      "execution_count": 80,
      "outputs": []
    },
    {
      "cell_type": "code",
      "source": [
        "X_train_HSV_A3_RF_noref = np.array(HSV_A3_concat_RF_noref)"
      ],
      "metadata": {
        "id": "aEcYwFlNtmWx"
      },
      "execution_count": 81,
      "outputs": []
    },
    {
      "cell_type": "code",
      "source": [
        "y_train_A3HSV_RF_noref = HSV_A3_concat.iloc[:,14:15]"
      ],
      "metadata": {
        "id": "H9Ak1mK0tmWx"
      },
      "execution_count": 82,
      "outputs": []
    },
    {
      "cell_type": "code",
      "source": [
        "y_train_A3_HSV_RF_noref = np.array(y_train_A3HSV_RF_noref)"
      ],
      "metadata": {
        "id": "ysB3qGiWtmWx"
      },
      "execution_count": 83,
      "outputs": []
    },
    {
      "cell_type": "code",
      "source": [
        "y_train_A3_HSV_RF_noref.shape = (len(y_train_A3_HSV_RF_noref,))"
      ],
      "metadata": {
        "id": "Ks53kfZftmWx"
      },
      "execution_count": 84,
      "outputs": []
    },
    {
      "cell_type": "code",
      "source": [
        "RF4.fit(X_train_HSV_A3_RF_noref, y_train_A3_HSV_RF_noref)"
      ],
      "metadata": {
        "colab": {
          "base_uri": "https://localhost:8080/"
        },
        "id": "KocQrf9PtmWx",
        "outputId": "904b0bfb-b446-4cfe-fc74-1452a03b90e4"
      },
      "execution_count": 85,
      "outputs": [
        {
          "output_type": "execute_result",
          "data": {
            "text/plain": [
              "RandomForestClassifier()"
            ]
          },
          "metadata": {},
          "execution_count": 85
        }
      ]
    },
    {
      "cell_type": "code",
      "source": [
        "y_pred_A3_RF_noref = RF4.predict(X_test_HSV_A3_RF_noref)"
      ],
      "metadata": {
        "id": "q0cO18bctmWx"
      },
      "execution_count": 86,
      "outputs": []
    },
    {
      "cell_type": "code",
      "source": [
        "AC_HSV_RF_noref = metrics.accuracy_score(y_test_HSV_A3_RF_noref, y_pred_A3_RF_noref)"
      ],
      "metadata": {
        "id": "BXtH2joEtmWx"
      },
      "execution_count": 87,
      "outputs": []
    },
    {
      "cell_type": "markdown",
      "source": [
        "#SVM ref"
      ],
      "metadata": {
        "id": "qQ6byqlMjzZT"
      }
    },
    {
      "cell_type": "markdown",
      "source": [
        "##RGB C2 "
      ],
      "metadata": {
        "id": "hgGCpu1Fj17W"
      }
    },
    {
      "cell_type": "code",
      "source": [
        "SVM1 = svm.SVC()"
      ],
      "metadata": {
        "id": "dyXkc4lkknK1"
      },
      "execution_count": 88,
      "outputs": []
    },
    {
      "cell_type": "code",
      "source": [
        "RGB_C2_SVM_ref = table_C2Set5"
      ],
      "metadata": {
        "id": "MWaNqKESnK8b"
      },
      "execution_count": 89,
      "outputs": []
    },
    {
      "cell_type": "code",
      "source": [
        "RGB_C2_SVM_ref = RGB_C2_SVM_ref.drop(['H-ref','S-ref','V-ref','H-Shad','S-Shad','V-Shad','Setting','Ref','Shad','Img'], axis=1)"
      ],
      "metadata": {
        "id": "5kJxx63Xq7Xx"
      },
      "execution_count": 90,
      "outputs": []
    },
    {
      "cell_type": "code",
      "source": [
        "RGB_C2_concat = pd.concat([RGB_C2_Set1,RGB_C2_Set2,RGB_C2_Set3,RGB_C2_Set4,RGB_C2_Set6])"
      ],
      "metadata": {
        "id": "sfmqIZHkq7Xy"
      },
      "execution_count": 91,
      "outputs": []
    },
    {
      "cell_type": "code",
      "source": [
        "RGB_C2_concat_SVM_ref = RGB_C2_concat.drop(['H-ref','S-ref','V-ref','H-Shad','S-Shad','V-Shad','Setting','Ref','Shad','Img'], axis=1)"
      ],
      "metadata": {
        "id": "eFfBhWQdq7Xy"
      },
      "execution_count": 92,
      "outputs": []
    },
    {
      "cell_type": "code",
      "source": [
        "X_test_RGB_C2_SVM_ref = np.array(RGB_C2_SVM_ref)"
      ],
      "metadata": {
        "id": "GTVCf3PDq7Xy"
      },
      "execution_count": 93,
      "outputs": []
    },
    {
      "cell_type": "code",
      "source": [
        "y_RGB_C2_SVM_ref =  table_C2Set5.iloc[:,14:15]"
      ],
      "metadata": {
        "id": "r7x1W8E7q7Xy"
      },
      "execution_count": 94,
      "outputs": []
    },
    {
      "cell_type": "code",
      "source": [
        "y_test_RGB_C2_SVM_ref = np.array(y_RGB_C2_SVM_ref)"
      ],
      "metadata": {
        "id": "h626P_acq7Xy"
      },
      "execution_count": 95,
      "outputs": []
    },
    {
      "cell_type": "code",
      "source": [
        "X_train_RGB_C2_SVM_ref = np.array(RGB_C2_concat_SVM_ref)"
      ],
      "metadata": {
        "id": "nEI7ohdHq7Xy"
      },
      "execution_count": 96,
      "outputs": []
    },
    {
      "cell_type": "code",
      "source": [
        "y_train_C2RGB_SVM_ref = RGB_C2_concat.iloc[:,14:15]"
      ],
      "metadata": {
        "id": "FfwZzXEOq7Xy"
      },
      "execution_count": 97,
      "outputs": []
    },
    {
      "cell_type": "code",
      "source": [
        "y_train_C2_RGB_SVM_ref = np.array(y_train_C2RGB_SVM_ref)"
      ],
      "metadata": {
        "id": "G8t3u7LRq7Xy"
      },
      "execution_count": 98,
      "outputs": []
    },
    {
      "cell_type": "code",
      "source": [
        "y_train_C2_RGB_SVM_ref.shape = (len(y_train_C2_RGB_SVM_ref,))"
      ],
      "metadata": {
        "id": "X3MU-q3_q7Xy"
      },
      "execution_count": 99,
      "outputs": []
    },
    {
      "cell_type": "code",
      "source": [
        "SVM1.fit(X_train_RGB_C2_SVM_ref, y_train_C2_RGB_SVM_ref)"
      ],
      "metadata": {
        "colab": {
          "base_uri": "https://localhost:8080/"
        },
        "id": "TcTuTdJPq7Xz",
        "outputId": "dbb66c2d-a763-4635-cf70-101e6bb87ded"
      },
      "execution_count": 100,
      "outputs": [
        {
          "output_type": "execute_result",
          "data": {
            "text/plain": [
              "SVC()"
            ]
          },
          "metadata": {},
          "execution_count": 100
        }
      ]
    },
    {
      "cell_type": "code",
      "source": [
        "y_pred_C2_SVM_ref = SVM1.predict(X_test_RGB_C2_SVM_ref)"
      ],
      "metadata": {
        "id": "C8p9zrk8q7Xz"
      },
      "execution_count": 101,
      "outputs": []
    },
    {
      "cell_type": "code",
      "source": [
        "AC_RGB_SVM_ref = metrics.accuracy_score(y_test_RGB_C2_SVM_ref, y_pred_C2_SVM_ref)"
      ],
      "metadata": {
        "id": "DqbRiGa7q7Xz"
      },
      "execution_count": 102,
      "outputs": []
    },
    {
      "cell_type": "markdown",
      "source": [
        "##HSV A4"
      ],
      "metadata": {
        "id": "_xA_izGRj5_a"
      }
    },
    {
      "cell_type": "code",
      "source": [
        "SVM2 = svm.SVC()"
      ],
      "metadata": {
        "id": "SzKokn3zknuc"
      },
      "execution_count": 103,
      "outputs": []
    },
    {
      "cell_type": "code",
      "source": [
        "HSV_A4_SVM_ref = table_A4Set5"
      ],
      "metadata": {
        "id": "OlgYfQQcnieA"
      },
      "execution_count": 104,
      "outputs": []
    },
    {
      "cell_type": "code",
      "source": [
        "HSV_A4_SVM_ref = HSV_A4_SVM_ref.drop(['R-ref','G-ref','B-ref','R-Shad','G-Shad','B-Shad','Setting','Ref','Shad','Img'], axis=1)"
      ],
      "metadata": {
        "id": "RatGuoGErqu1"
      },
      "execution_count": 105,
      "outputs": []
    },
    {
      "cell_type": "code",
      "source": [
        "HSV_A4_concat = pd.concat([RGB_A4_Set1,RGB_A4_Set2,RGB_A4_Set3,RGB_A4_Set4,RGB_A4_Set6])"
      ],
      "metadata": {
        "id": "_eZ3UhOxrqu1"
      },
      "execution_count": 106,
      "outputs": []
    },
    {
      "cell_type": "code",
      "source": [
        "HSV_A4_concat_SVM_ref = HSV_A4_concat.drop(['R-ref','G-ref','B-ref','R-Shad','G-Shad','B-Shad','Setting','Ref','Shad','Img'], axis=1)"
      ],
      "metadata": {
        "id": "kr8UuVHnrqu1"
      },
      "execution_count": 107,
      "outputs": []
    },
    {
      "cell_type": "code",
      "source": [
        "X_test_HSV_A4_SVM_ref = np.array(HSV_A4_SVM_ref)"
      ],
      "metadata": {
        "id": "YlyUTjU4rqu1"
      },
      "execution_count": 108,
      "outputs": []
    },
    {
      "cell_type": "code",
      "source": [
        "y_HSV_A4_SVM_ref =  table_A4Set5.iloc[:,14:15]"
      ],
      "metadata": {
        "id": "cXXWNi8Zrqu1"
      },
      "execution_count": 109,
      "outputs": []
    },
    {
      "cell_type": "code",
      "source": [
        "y_test_HSV_A4_SVM_ref = np.array(y_HSV_A4_SVM_ref)"
      ],
      "metadata": {
        "id": "VoKQSwHLrqu1"
      },
      "execution_count": 110,
      "outputs": []
    },
    {
      "cell_type": "code",
      "source": [
        "X_train_HSV_A4_SVM_ref = np.array(HSV_A4_concat_SVM_ref)"
      ],
      "metadata": {
        "id": "DuGkGOggrqu1"
      },
      "execution_count": 111,
      "outputs": []
    },
    {
      "cell_type": "code",
      "source": [
        "y_train_A4HSV_SVM_ref = HSV_A4_concat.iloc[:,14:15]"
      ],
      "metadata": {
        "id": "FM6KKH6Xrqu2"
      },
      "execution_count": 112,
      "outputs": []
    },
    {
      "cell_type": "code",
      "source": [
        "y_train_A4_HSV_SVM_ref = np.array(y_train_A4HSV_SVM_ref)"
      ],
      "metadata": {
        "id": "ZJ5TEPCSrqu2"
      },
      "execution_count": 113,
      "outputs": []
    },
    {
      "cell_type": "code",
      "source": [
        "y_train_A4_HSV_SVM_ref.shape = (len(y_train_A4_HSV_SVM_ref,))"
      ],
      "metadata": {
        "id": "OhzoCIu-rqu2"
      },
      "execution_count": 114,
      "outputs": []
    },
    {
      "cell_type": "code",
      "source": [
        "SVM2.fit(X_train_HSV_A4_SVM_ref, y_train_A4_HSV_SVM_ref)"
      ],
      "metadata": {
        "colab": {
          "base_uri": "https://localhost:8080/"
        },
        "id": "BEY2yKfKrqu2",
        "outputId": "015abef5-ed3f-4b40-81fc-0a289ee322c2"
      },
      "execution_count": 115,
      "outputs": [
        {
          "output_type": "execute_result",
          "data": {
            "text/plain": [
              "SVC()"
            ]
          },
          "metadata": {},
          "execution_count": 115
        }
      ]
    },
    {
      "cell_type": "code",
      "source": [
        "y_pred_A4_SVM_ref = SVM2.predict(X_test_HSV_A4_SVM_ref)"
      ],
      "metadata": {
        "id": "hhuOTksGrqu2"
      },
      "execution_count": 116,
      "outputs": []
    },
    {
      "cell_type": "code",
      "source": [
        "AC_HSV_SVM_ref = metrics.accuracy_score(y_test_HSV_A4_SVM_ref, y_pred_A4_SVM_ref)"
      ],
      "metadata": {
        "id": "0_shuopArqu2"
      },
      "execution_count": 117,
      "outputs": []
    },
    {
      "cell_type": "markdown",
      "source": [
        "#SVM no ref"
      ],
      "metadata": {
        "id": "gpSft08Wj8lt"
      }
    },
    {
      "cell_type": "markdown",
      "source": [
        "##RGB C2"
      ],
      "metadata": {
        "id": "D653Sl2Gj_PP"
      }
    },
    {
      "cell_type": "code",
      "source": [
        "SVM3 = svm.SVC()"
      ],
      "metadata": {
        "id": "NnZONbbHkoH2"
      },
      "execution_count": 118,
      "outputs": []
    },
    {
      "cell_type": "code",
      "source": [
        "RGB_C2_SVM_noref = table_C2Set5"
      ],
      "metadata": {
        "id": "WVVqnNKinOeC"
      },
      "execution_count": 119,
      "outputs": []
    },
    {
      "cell_type": "code",
      "source": [
        "RGB_C2_SVM_noref = RGB_C2_SVM_noref.drop(['R-ref','G-ref','B-ref','H-ref','S-ref','V-ref','H-Shad','S-Shad','V-Shad','Setting','Ref','Shad','Img'], axis=1)"
      ],
      "metadata": {
        "id": "stmKGuW7usnh"
      },
      "execution_count": 120,
      "outputs": []
    },
    {
      "cell_type": "code",
      "source": [
        "RGB_C2_concat = pd.concat([RGB_C2_Set1,RGB_C2_Set2,RGB_C2_Set3,RGB_C2_Set4,RGB_C2_Set6])"
      ],
      "metadata": {
        "id": "JnvaD8MNusnh"
      },
      "execution_count": 121,
      "outputs": []
    },
    {
      "cell_type": "code",
      "source": [
        "RGB_C2_concat_SVM_noref = RGB_C2_concat.drop(['R-ref','G-ref','B-ref','H-ref','S-ref','V-ref','H-Shad','S-Shad','V-Shad','Setting','Ref','Shad','Img'], axis=1)"
      ],
      "metadata": {
        "id": "SPH0aNL3usnh"
      },
      "execution_count": 122,
      "outputs": []
    },
    {
      "cell_type": "code",
      "source": [
        "X_test_RGB_C2_SVM_noref = np.array(RGB_C2_SVM_noref)"
      ],
      "metadata": {
        "id": "xSfhKbMSusni"
      },
      "execution_count": 123,
      "outputs": []
    },
    {
      "cell_type": "code",
      "source": [
        "y_RGB_C2_SVM_noref =  table_C2Set5.iloc[:,14:15]"
      ],
      "metadata": {
        "id": "hiqbSmyyusni"
      },
      "execution_count": 124,
      "outputs": []
    },
    {
      "cell_type": "code",
      "source": [
        "y_test_RGB_C2_SVM_noref = np.array(y_RGB_C2_SVM_noref)"
      ],
      "metadata": {
        "id": "35Lekmk8usni"
      },
      "execution_count": 125,
      "outputs": []
    },
    {
      "cell_type": "code",
      "source": [
        "X_train_RGB_C2_SVM_noref = np.array(RGB_C2_concat_SVM_noref)"
      ],
      "metadata": {
        "id": "FwJYXF6Gusni"
      },
      "execution_count": 126,
      "outputs": []
    },
    {
      "cell_type": "code",
      "source": [
        "y_train_C2RGB_SVM_noref = RGB_C2_concat.iloc[:,14:15]"
      ],
      "metadata": {
        "id": "IDJ1XFNPusni"
      },
      "execution_count": 127,
      "outputs": []
    },
    {
      "cell_type": "code",
      "source": [
        "y_train_C2_RGB_SVM_noref= np.array(y_train_C2RGB_SVM_noref)"
      ],
      "metadata": {
        "id": "yiEyKSlQusni"
      },
      "execution_count": 128,
      "outputs": []
    },
    {
      "cell_type": "code",
      "source": [
        "y_train_C2_RGB_SVM_noref.shape = (len(y_train_C2_RGB_SVM_noref,))"
      ],
      "metadata": {
        "id": "Rz-bzAXcusni"
      },
      "execution_count": 129,
      "outputs": []
    },
    {
      "cell_type": "code",
      "source": [
        "SVM3.fit(X_train_RGB_C2_SVM_noref, y_train_C2_RGB_SVM_noref)"
      ],
      "metadata": {
        "colab": {
          "base_uri": "https://localhost:8080/"
        },
        "id": "e8zHDdj0usni",
        "outputId": "e38e3753-87f7-42d9-cb77-f6c0b343d999"
      },
      "execution_count": 130,
      "outputs": [
        {
          "output_type": "execute_result",
          "data": {
            "text/plain": [
              "SVC()"
            ]
          },
          "metadata": {},
          "execution_count": 130
        }
      ]
    },
    {
      "cell_type": "code",
      "source": [
        "y_pred_C2_SVM_noref = SVM3.predict(X_test_RGB_C2_SVM_noref)"
      ],
      "metadata": {
        "id": "znqStewVusni"
      },
      "execution_count": 131,
      "outputs": []
    },
    {
      "cell_type": "code",
      "source": [
        "AC_RGB_SVM_noref = metrics.accuracy_score(y_test_RGB_C2_SVM_noref, y_pred_C2_SVM_noref)"
      ],
      "metadata": {
        "id": "E0CvrpNJusni"
      },
      "execution_count": 132,
      "outputs": []
    },
    {
      "cell_type": "markdown",
      "source": [
        "##HSV A4"
      ],
      "metadata": {
        "id": "AUds1eH2kEua"
      }
    },
    {
      "cell_type": "code",
      "source": [
        "SVM4 = svm.SVC()"
      ],
      "metadata": {
        "id": "lMm_e95Bkoi9"
      },
      "execution_count": 133,
      "outputs": []
    },
    {
      "cell_type": "code",
      "source": [
        "HSV_A4_SVM_noref = table_A4Set5"
      ],
      "metadata": {
        "id": "BTC0uB5vnmYj"
      },
      "execution_count": 134,
      "outputs": []
    },
    {
      "cell_type": "code",
      "source": [
        "HSV_A4_SVM_noref = HSV_A4_SVM_noref.drop(['R-ref','G-ref','B-ref','R-Shad','G-Shad','B-Shad','H-ref','S-ref','V-ref','Setting','Ref','Shad','Img'], axis=1)"
      ],
      "metadata": {
        "id": "-ZCkD1MzuMQM"
      },
      "execution_count": 135,
      "outputs": []
    },
    {
      "cell_type": "code",
      "source": [
        "HSV_A4_concat = pd.concat([RGB_A4_Set1,RGB_A4_Set2,RGB_A4_Set3,RGB_A4_Set4,RGB_A4_Set6])"
      ],
      "metadata": {
        "id": "ZnRsppmouMQM"
      },
      "execution_count": 136,
      "outputs": []
    },
    {
      "cell_type": "code",
      "source": [
        "HSV_A4_concat_SVM_noref = HSV_A4_concat.drop(['R-ref','G-ref','B-ref','R-Shad','G-Shad','B-Shad','H-ref','S-ref','V-ref','Setting','Ref','Shad','Img'], axis=1)"
      ],
      "metadata": {
        "id": "_7HZzLmCuMQM"
      },
      "execution_count": 137,
      "outputs": []
    },
    {
      "cell_type": "code",
      "source": [
        "X_test_HSV_A4_SVM_noref = np.array(HSV_A4_SVM_noref)"
      ],
      "metadata": {
        "id": "rM-qH_MCuMQM"
      },
      "execution_count": 138,
      "outputs": []
    },
    {
      "cell_type": "code",
      "source": [
        "y_HSV_A4_SVM_noref =  table_A4Set5.iloc[:,14:15]"
      ],
      "metadata": {
        "id": "TIyemdU0uMQM"
      },
      "execution_count": 139,
      "outputs": []
    },
    {
      "cell_type": "code",
      "source": [
        "y_test_HSV_A4_SVM_noref = np.array(y_HSV_A4_SVM_noref)"
      ],
      "metadata": {
        "id": "vghzDhaWuMQM"
      },
      "execution_count": 140,
      "outputs": []
    },
    {
      "cell_type": "code",
      "source": [
        "X_train_HSV_A4_SVM_noref = np.array(HSV_A4_concat_SVM_noref)"
      ],
      "metadata": {
        "id": "tsFAyZrOuMQM"
      },
      "execution_count": 141,
      "outputs": []
    },
    {
      "cell_type": "code",
      "source": [
        "y_train_A4HSV_SVM_noref = HSV_A4_concat.iloc[:,14:15]"
      ],
      "metadata": {
        "id": "NCNcBa8OuMQN"
      },
      "execution_count": 142,
      "outputs": []
    },
    {
      "cell_type": "code",
      "source": [
        "y_train_A4_HSV_SVM_noref = np.array(y_train_A4HSV_SVM_noref)"
      ],
      "metadata": {
        "id": "LaKZuHuLuMQN"
      },
      "execution_count": 143,
      "outputs": []
    },
    {
      "cell_type": "code",
      "source": [
        "y_train_A4_HSV_SVM_noref.shape = (len(y_train_A4_HSV_SVM_noref,))"
      ],
      "metadata": {
        "id": "MOztsx-euMQN"
      },
      "execution_count": 144,
      "outputs": []
    },
    {
      "cell_type": "code",
      "source": [
        "SVM4.fit(X_train_HSV_A4_SVM_noref, y_train_A4_HSV_SVM_noref)"
      ],
      "metadata": {
        "colab": {
          "base_uri": "https://localhost:8080/"
        },
        "id": "KIFnlaZuuMQN",
        "outputId": "f152b053-8a9b-470e-eb90-a22f13eee705"
      },
      "execution_count": 145,
      "outputs": [
        {
          "output_type": "execute_result",
          "data": {
            "text/plain": [
              "SVC()"
            ]
          },
          "metadata": {},
          "execution_count": 145
        }
      ]
    },
    {
      "cell_type": "code",
      "source": [
        "y_pred_A4_SVM_noref = SVM4.predict(X_test_HSV_A4_SVM_noref)"
      ],
      "metadata": {
        "id": "F_TCNHBAuMQN"
      },
      "execution_count": 146,
      "outputs": []
    },
    {
      "cell_type": "code",
      "source": [
        "AC_HSV_SVM_noref = metrics.accuracy_score(y_test_HSV_A4_SVM_noref, y_pred_A4_SVM_noref)"
      ],
      "metadata": {
        "id": "qiWklwstuMQN"
      },
      "execution_count": 147,
      "outputs": []
    },
    {
      "cell_type": "markdown",
      "source": [
        "#XGB ref"
      ],
      "metadata": {
        "id": "g1GUXdRfkJ6R"
      }
    },
    {
      "cell_type": "markdown",
      "source": [
        "##RGB A2"
      ],
      "metadata": {
        "id": "ukmFehJ6kN61"
      }
    },
    {
      "cell_type": "code",
      "source": [
        "xgb1 = xgb.XGBClassifier()"
      ],
      "metadata": {
        "id": "SLp4n0pdkpEI"
      },
      "execution_count": 148,
      "outputs": []
    },
    {
      "cell_type": "code",
      "source": [
        "RGB_A2_XGB_ref = table_A2Set5"
      ],
      "metadata": {
        "id": "BqXjzCv3nRBK"
      },
      "execution_count": 149,
      "outputs": []
    },
    {
      "cell_type": "code",
      "source": [
        "RGB_A2_XGB_ref = RGB_A2_XGB_ref.drop(['H-ref','S-ref','V-ref','H-Shad','S-Shad','V-Shad','Setting','Ref','Shad','Img'], axis=1)"
      ],
      "metadata": {
        "id": "H2K3bFJbsXMr"
      },
      "execution_count": 150,
      "outputs": []
    },
    {
      "cell_type": "code",
      "source": [
        "RGB_A2_concat = pd.concat([RGB_A2_Set1,RGB_A2_Set2,RGB_A2_Set3,RGB_A2_Set4,RGB_A2_Set6])"
      ],
      "metadata": {
        "id": "KSqwj1EmsXMr"
      },
      "execution_count": 151,
      "outputs": []
    },
    {
      "cell_type": "code",
      "source": [
        "RGB_A2_concat_XGB_ref = RGB_A2_concat.drop(['H-ref','S-ref','V-ref','H-Shad','S-Shad','V-Shad','Setting','Ref','Shad','Img'], axis=1)"
      ],
      "metadata": {
        "id": "wyRmAvnZsXMr"
      },
      "execution_count": 152,
      "outputs": []
    },
    {
      "cell_type": "code",
      "source": [
        "X_test_RGB_A2_XGB_ref = np.array(RGB_A2_XGB_ref)"
      ],
      "metadata": {
        "id": "63zYhdlIsXMr"
      },
      "execution_count": 153,
      "outputs": []
    },
    {
      "cell_type": "code",
      "source": [
        "y_RGB_A2_XGB_ref =  table_A2Set5.iloc[:,14:15]"
      ],
      "metadata": {
        "id": "AnFPVNCesXMs"
      },
      "execution_count": 154,
      "outputs": []
    },
    {
      "cell_type": "code",
      "source": [
        "y_test_RGB_A2_XGB_ref = np.array(y_RGB_A2_XGB_ref)"
      ],
      "metadata": {
        "id": "_AppRg6EsXMs"
      },
      "execution_count": 155,
      "outputs": []
    },
    {
      "cell_type": "code",
      "source": [
        "X_train_RGB_A2_XGB_ref = np.array(RGB_A2_concat_XGB_ref)"
      ],
      "metadata": {
        "id": "PZDBts6BsXMs"
      },
      "execution_count": 156,
      "outputs": []
    },
    {
      "cell_type": "code",
      "source": [
        "y_train_A2RGB_XGB_ref = RGB_A2_concat.iloc[:,14:15]"
      ],
      "metadata": {
        "id": "sW-y34PusXMs"
      },
      "execution_count": 157,
      "outputs": []
    },
    {
      "cell_type": "code",
      "source": [
        "y_train_A2_RGB_XGB_ref = np.array(y_train_A2RGB_XGB_ref)"
      ],
      "metadata": {
        "id": "oFzNYu1TsXMs"
      },
      "execution_count": 158,
      "outputs": []
    },
    {
      "cell_type": "code",
      "source": [
        "y_train_A2_RGB_XGB_ref.shape = (len(y_train_A2_RGB_XGB_ref,))"
      ],
      "metadata": {
        "id": "8RjeQ4NtsXMs"
      },
      "execution_count": 159,
      "outputs": []
    },
    {
      "cell_type": "code",
      "source": [
        "xgb1.fit(X_train_RGB_A2_XGB_ref, y_train_A2_RGB_XGB_ref)"
      ],
      "metadata": {
        "colab": {
          "base_uri": "https://localhost:8080/"
        },
        "id": "jcLrEwoJsXMs",
        "outputId": "a7d776e4-524b-401e-fc06-59fb6d838c33"
      },
      "execution_count": 160,
      "outputs": [
        {
          "output_type": "execute_result",
          "data": {
            "text/plain": [
              "XGBClassifier(objective='multi:softprob')"
            ]
          },
          "metadata": {},
          "execution_count": 160
        }
      ]
    },
    {
      "cell_type": "code",
      "source": [
        "y_pred_A2_XGB_ref = xgb1.predict(X_test_RGB_A2_XGB_ref)"
      ],
      "metadata": {
        "id": "7cODCMtLsXMs"
      },
      "execution_count": 161,
      "outputs": []
    },
    {
      "cell_type": "code",
      "source": [
        "AC_RGB_XGB_ref = metrics.accuracy_score(y_test_RGB_A2_XGB_ref, y_pred_A2_XGB_ref)"
      ],
      "metadata": {
        "id": "GlADk-X8sXMs"
      },
      "execution_count": 162,
      "outputs": []
    },
    {
      "cell_type": "markdown",
      "source": [
        "##HSV A3"
      ],
      "metadata": {
        "id": "Fwo-wxAVkQgX"
      }
    },
    {
      "cell_type": "code",
      "source": [
        "xgb2 = xgb.XGBClassifier()"
      ],
      "metadata": {
        "id": "Hu2nLIPjkpgS"
      },
      "execution_count": 163,
      "outputs": []
    },
    {
      "cell_type": "code",
      "source": [
        "HSV_A3_XGB_ref = table_A3Set5"
      ],
      "metadata": {
        "id": "80zTcO20nvqJ"
      },
      "execution_count": 164,
      "outputs": []
    },
    {
      "cell_type": "code",
      "source": [
        "HSV_A3_XGB_ref = HSV_A3_XGB_ref.drop(['R-ref','G-ref','B-ref','R-Shad','G-Shad','B-Shad','Setting','Ref','Shad','Img'], axis=1)"
      ],
      "metadata": {
        "id": "dpbuoirPs7n5"
      },
      "execution_count": 165,
      "outputs": []
    },
    {
      "cell_type": "code",
      "source": [
        "HSV_A3_concat = pd.concat([RGB_A3_Set1,RGB_A3_Set2,RGB_A3_Set3,RGB_A3_Set4,RGB_A3_Set6])"
      ],
      "metadata": {
        "id": "nDPOThP6s7n5"
      },
      "execution_count": 166,
      "outputs": []
    },
    {
      "cell_type": "code",
      "source": [
        "HSV_A3_concat_XGB_ref = HSV_A3_concat.drop(['R-ref','G-ref','B-ref','R-Shad','G-Shad','B-Shad','Setting','Ref','Shad','Img'], axis=1)"
      ],
      "metadata": {
        "id": "1qkpcfA6s7n5"
      },
      "execution_count": 167,
      "outputs": []
    },
    {
      "cell_type": "code",
      "source": [
        "X_test_HSV_A3_XGB_ref = np.array(HSV_A3_XGB_ref)"
      ],
      "metadata": {
        "id": "osacyi7Ys7n5"
      },
      "execution_count": 168,
      "outputs": []
    },
    {
      "cell_type": "code",
      "source": [
        "y_HSV_A3_XGB_ref =  table_A3Set5.iloc[:,14:15]"
      ],
      "metadata": {
        "id": "aCAINqMXs7n5"
      },
      "execution_count": 169,
      "outputs": []
    },
    {
      "cell_type": "code",
      "source": [
        "y_test_HSV_A3_XGB_ref = np.array(y_HSV_A3_XGB_ref)"
      ],
      "metadata": {
        "id": "xApzbTGts7n5"
      },
      "execution_count": 170,
      "outputs": []
    },
    {
      "cell_type": "code",
      "source": [
        "X_train_HSV_A3_XGB_ref = np.array(HSV_A3_concat_XGB_ref)"
      ],
      "metadata": {
        "id": "Aex24dZys7n6"
      },
      "execution_count": 171,
      "outputs": []
    },
    {
      "cell_type": "code",
      "source": [
        "y_train_A3HSV_XGB_ref = HSV_A3_concat.iloc[:,14:15]"
      ],
      "metadata": {
        "id": "s3UEEfdOs7n6"
      },
      "execution_count": 172,
      "outputs": []
    },
    {
      "cell_type": "code",
      "source": [
        "y_train_A3_HSV_XGB_ref = np.array(y_train_A3HSV_XGB_ref)"
      ],
      "metadata": {
        "id": "eQiweaq3s7n6"
      },
      "execution_count": 173,
      "outputs": []
    },
    {
      "cell_type": "code",
      "source": [
        "y_train_A3_HSV_XGB_ref.shape = (len(y_train_A3_HSV_XGB_ref,))"
      ],
      "metadata": {
        "id": "FmWMxorUs7n6"
      },
      "execution_count": 174,
      "outputs": []
    },
    {
      "cell_type": "code",
      "source": [
        "xgb2.fit(X_train_HSV_A3_XGB_ref, y_train_A3_HSV_XGB_ref)"
      ],
      "metadata": {
        "colab": {
          "base_uri": "https://localhost:8080/"
        },
        "id": "v61hrEKxs7n6",
        "outputId": "24a6d76c-0491-404b-ea90-49d08b6405db"
      },
      "execution_count": 175,
      "outputs": [
        {
          "output_type": "execute_result",
          "data": {
            "text/plain": [
              "XGBClassifier(objective='multi:softprob')"
            ]
          },
          "metadata": {},
          "execution_count": 175
        }
      ]
    },
    {
      "cell_type": "code",
      "source": [
        "y_pred_A3_XGB_ref = xgb2.predict(X_test_HSV_A3_XGB_ref)"
      ],
      "metadata": {
        "id": "dlen0ijms7n6"
      },
      "execution_count": 176,
      "outputs": []
    },
    {
      "cell_type": "code",
      "source": [
        "AC_HSV_XGB_ref = metrics.accuracy_score(y_test_HSV_A3_XGB_ref, y_pred_A3_XGB_ref)"
      ],
      "metadata": {
        "id": "K4pJKiGgs7n6"
      },
      "execution_count": 177,
      "outputs": []
    },
    {
      "cell_type": "markdown",
      "source": [
        "#XGB no ref "
      ],
      "metadata": {
        "id": "7P0G1T1ekTwF"
      }
    },
    {
      "cell_type": "markdown",
      "source": [
        "##RGB A2"
      ],
      "metadata": {
        "id": "fRnYmWuykV0q"
      }
    },
    {
      "cell_type": "code",
      "source": [
        "xgb3 = xgb.XGBClassifier()"
      ],
      "metadata": {
        "id": "xIHqdKWmkqOC"
      },
      "execution_count": 178,
      "outputs": []
    },
    {
      "cell_type": "code",
      "source": [
        "RGB_A2_XGB_noref = table_A2Set5"
      ],
      "metadata": {
        "id": "Lp8RJ3VMnTeH"
      },
      "execution_count": 179,
      "outputs": []
    },
    {
      "cell_type": "code",
      "source": [
        "RGB_A2_XGB_noref = RGB_A2_XGB_noref.drop(['R-ref','G-ref','B-ref','H-ref','S-ref','V-ref','H-Shad','S-Shad','V-Shad','Setting','Ref','Shad','Img'], axis=1)"
      ],
      "metadata": {
        "id": "_gc4YaS-vZgq"
      },
      "execution_count": 180,
      "outputs": []
    },
    {
      "cell_type": "code",
      "source": [
        "RGB_A2_concat = pd.concat([RGB_A2_Set1,RGB_A2_Set2,RGB_A2_Set3,RGB_A2_Set4,RGB_A2_Set6])"
      ],
      "metadata": {
        "id": "6sObq2MAvZgq"
      },
      "execution_count": 181,
      "outputs": []
    },
    {
      "cell_type": "code",
      "source": [
        "RGB_A2_concat_XGB_noref = RGB_A2_concat.drop(['R-ref','G-ref','B-ref','H-ref','S-ref','V-ref','H-Shad','S-Shad','V-Shad','Setting','Ref','Shad','Img'], axis=1)"
      ],
      "metadata": {
        "id": "rnnnnhS4vZgq"
      },
      "execution_count": 182,
      "outputs": []
    },
    {
      "cell_type": "code",
      "source": [
        "X_test_RGB_A2_XGB_noref = np.array(RGB_A2_XGB_noref)"
      ],
      "metadata": {
        "id": "aEm41dDBvZgq"
      },
      "execution_count": 183,
      "outputs": []
    },
    {
      "cell_type": "code",
      "source": [
        "y_RGB_A2_XGB_noref =  table_A2Set5.iloc[:,14:15]"
      ],
      "metadata": {
        "id": "gRBOkJfXvZgr"
      },
      "execution_count": 184,
      "outputs": []
    },
    {
      "cell_type": "code",
      "source": [
        "y_test_RGB_A2_XGB_noref = np.array(y_RGB_A2_XGB_noref)"
      ],
      "metadata": {
        "id": "83BcM7EPvZgr"
      },
      "execution_count": 185,
      "outputs": []
    },
    {
      "cell_type": "code",
      "source": [
        "X_train_RGB_A2_XGB_noref = np.array(RGB_A2_concat_XGB_noref)"
      ],
      "metadata": {
        "id": "yGBFx7pPvZgr"
      },
      "execution_count": 186,
      "outputs": []
    },
    {
      "cell_type": "code",
      "source": [
        "y_train_A2RGB_XGB_noref = RGB_A2_concat.iloc[:,14:15]"
      ],
      "metadata": {
        "id": "FMBjEDbXvZgr"
      },
      "execution_count": 187,
      "outputs": []
    },
    {
      "cell_type": "code",
      "source": [
        "y_train_A2_RGB_XGB_noref= np.array(y_train_A2RGB_XGB_noref)"
      ],
      "metadata": {
        "id": "Fb3vcY_bvZgr"
      },
      "execution_count": 188,
      "outputs": []
    },
    {
      "cell_type": "code",
      "source": [
        "y_train_A2_RGB_XGB_noref.shape = (len(y_train_A2_RGB_XGB_noref,))"
      ],
      "metadata": {
        "id": "gtcvm8bDvZgr"
      },
      "execution_count": 189,
      "outputs": []
    },
    {
      "cell_type": "code",
      "source": [
        "xgb3.fit(X_train_RGB_A2_XGB_noref, y_train_A2_RGB_XGB_noref)"
      ],
      "metadata": {
        "colab": {
          "base_uri": "https://localhost:8080/"
        },
        "id": "YIxWR-cjvZgr",
        "outputId": "4c869841-0f44-4894-829d-02a35f2f0a83"
      },
      "execution_count": 190,
      "outputs": [
        {
          "output_type": "execute_result",
          "data": {
            "text/plain": [
              "XGBClassifier(objective='multi:softprob')"
            ]
          },
          "metadata": {},
          "execution_count": 190
        }
      ]
    },
    {
      "cell_type": "code",
      "source": [
        "y_pred_A2_XGB_noref = xgb3.predict(X_test_RGB_A2_XGB_noref)"
      ],
      "metadata": {
        "id": "KatJRzAbvZgr"
      },
      "execution_count": 191,
      "outputs": []
    },
    {
      "cell_type": "code",
      "source": [
        "AC_RGB_XGB_noref = metrics.accuracy_score(y_test_RGB_A2_XGB_noref, y_pred_A2_XGB_noref)"
      ],
      "metadata": {
        "id": "eFdF-2_YvZgr"
      },
      "execution_count": 192,
      "outputs": []
    },
    {
      "cell_type": "markdown",
      "source": [
        "##HSV A3"
      ],
      "metadata": {
        "id": "yKrHSeR8kaMg"
      }
    },
    {
      "cell_type": "code",
      "source": [
        "xgb4 = xgb.XGBClassifier()"
      ],
      "metadata": {
        "id": "EQUuyfQtkqoc"
      },
      "execution_count": 193,
      "outputs": []
    },
    {
      "cell_type": "code",
      "source": [
        "HSV_A3_XGB_noref = table_A3Set5"
      ],
      "metadata": {
        "id": "j-uWJUNNnq8z"
      },
      "execution_count": 194,
      "outputs": []
    },
    {
      "cell_type": "code",
      "source": [
        "HSV_A3_XGB_noref = HSV_A3_XGB_noref.drop(['R-ref','G-ref','B-ref','R-Shad','G-Shad','B-Shad','H-ref','S-ref','V-ref','Setting','Ref','Shad','Img'], axis=1)"
      ],
      "metadata": {
        "id": "7zK82EIzwVLq"
      },
      "execution_count": 195,
      "outputs": []
    },
    {
      "cell_type": "code",
      "source": [
        "HSV_A3_concat = pd.concat([RGB_A3_Set1,RGB_A3_Set2,RGB_A3_Set3,RGB_A3_Set4,RGB_A3_Set6])"
      ],
      "metadata": {
        "id": "EhZY0-U2wVLq"
      },
      "execution_count": 196,
      "outputs": []
    },
    {
      "cell_type": "code",
      "source": [
        "HSV_A3_concat_XGB_noref = HSV_A3_concat.drop(['R-ref','G-ref','B-ref','R-Shad','G-Shad','B-Shad','H-ref','S-ref','V-ref','Setting','Ref','Shad','Img'], axis=1)"
      ],
      "metadata": {
        "id": "8B_iC-OXwVLq"
      },
      "execution_count": 197,
      "outputs": []
    },
    {
      "cell_type": "code",
      "source": [
        "X_test_HSV_A3_XGB_noref = np.array(HSV_A3_XGB_noref)"
      ],
      "metadata": {
        "id": "RX1eRwJ2wVLq"
      },
      "execution_count": 198,
      "outputs": []
    },
    {
      "cell_type": "code",
      "source": [
        "y_HSV_A3_XGB_noref =  table_A3Set5.iloc[:,14:15]"
      ],
      "metadata": {
        "id": "ZneRh83-wVLq"
      },
      "execution_count": 199,
      "outputs": []
    },
    {
      "cell_type": "code",
      "source": [
        "y_test_HSV_A3_XGBF_noref = np.array(y_HSV_A3_XGB_noref)"
      ],
      "metadata": {
        "id": "eJPYqUbrwVLr"
      },
      "execution_count": 200,
      "outputs": []
    },
    {
      "cell_type": "code",
      "source": [
        "X_train_HSV_A3_XGB_noref = np.array(HSV_A3_concat_XGB_noref)"
      ],
      "metadata": {
        "id": "1cn3Uw-CwVLr"
      },
      "execution_count": 201,
      "outputs": []
    },
    {
      "cell_type": "code",
      "source": [
        "y_train_A3HSV_XGB_noref = HSV_A3_concat.iloc[:,14:15]"
      ],
      "metadata": {
        "id": "QYR8jGauwVLr"
      },
      "execution_count": 202,
      "outputs": []
    },
    {
      "cell_type": "code",
      "source": [
        "y_train_A3_HSV_XGB_noref = np.array(y_train_A3HSV_XGB_noref)"
      ],
      "metadata": {
        "id": "kSq8PwZXwVLr"
      },
      "execution_count": 203,
      "outputs": []
    },
    {
      "cell_type": "code",
      "source": [
        "y_train_A3_HSV_XGB_noref.shape = (len(y_train_A3_HSV_XGB_noref,))"
      ],
      "metadata": {
        "id": "o72HtpQzwVLr"
      },
      "execution_count": 204,
      "outputs": []
    },
    {
      "cell_type": "code",
      "source": [
        "xgb4.fit(X_train_HSV_A3_XGB_noref, y_train_A3_HSV_XGB_noref)"
      ],
      "metadata": {
        "colab": {
          "base_uri": "https://localhost:8080/"
        },
        "id": "TYhtJqrhwVLr",
        "outputId": "fd402a51-ce37-4a35-efe1-0839ac31798c"
      },
      "execution_count": 205,
      "outputs": [
        {
          "output_type": "execute_result",
          "data": {
            "text/plain": [
              "XGBClassifier(objective='multi:softprob')"
            ]
          },
          "metadata": {},
          "execution_count": 205
        }
      ]
    },
    {
      "cell_type": "code",
      "source": [
        "y_pred_A3_XGB_noref = xgb4.predict(X_test_HSV_A3_XGB_noref)"
      ],
      "metadata": {
        "id": "3pI1OXi0wVLr"
      },
      "execution_count": 206,
      "outputs": []
    },
    {
      "cell_type": "code",
      "source": [
        "AC_HSV_XGB_noref = metrics.accuracy_score(y_test_HSV_A3_XGBF_noref, y_pred_A3_XGB_noref)"
      ],
      "metadata": {
        "id": "ECWofy9CwVLs"
      },
      "execution_count": 207,
      "outputs": []
    },
    {
      "cell_type": "markdown",
      "source": [
        "#All Accuracy"
      ],
      "metadata": {
        "id": "iTHo9hTDkeSk"
      }
    },
    {
      "cell_type": "markdown",
      "source": [
        "RF"
      ],
      "metadata": {
        "id": "yUR12X1HyImK"
      }
    },
    {
      "cell_type": "code",
      "source": [
        "print(\"RF ref Set5 A2 ได้ Accuracy:\", (AC_RGB_RF_ref))\n",
        "print(\"RF ref Set5 A3 ได้ Accuracy:\", (AC_HSV_RF_ref))\n",
        "print(\"RF no_ref Set5 A2 ได้ Accuracy:\", (AC_RGB_RF_noref))\n",
        "print(\"RF no_ref Set5 A3 ได้ Accuracy:\", (AC_HSV_RF_noref))"
      ],
      "metadata": {
        "colab": {
          "base_uri": "https://localhost:8080/"
        },
        "id": "d6IwYu9Wkgwx",
        "outputId": "05c8822d-1bb7-455f-84d7-1f0cb97e094e"
      },
      "execution_count": 208,
      "outputs": [
        {
          "output_type": "stream",
          "name": "stdout",
          "text": [
            "RF ref Set5 A2 ได้ Accuracy: 0.36875\n",
            "RF ref Set5 A3 ได้ Accuracy: 0.355\n",
            "RF no_ref Set5 A2 ได้ Accuracy: 0.18\n",
            "RF no_ref Set5 A3 ได้ Accuracy: 0.31125\n"
          ]
        }
      ]
    },
    {
      "cell_type": "markdown",
      "source": [
        "SVM"
      ],
      "metadata": {
        "id": "wpwiAfguyJzT"
      }
    },
    {
      "cell_type": "code",
      "source": [
        "print(\"SVM ref Set5 C2 ได้ Accuracy:\", (AC_RGB_SVM_ref))\n",
        "print(\"SVM ref Set5 A4 ได้ Accuracy:\", (AC_HSV_SVM_ref))\n",
        "print(\"SVM no_ref Set5 C2 ได้ Accuracy:\", (AC_RGB_SVM_noref))\n",
        "print(\"SVM no_ref Set5 A4 ได้ Accuracy:\", (AC_HSV_SVM_noref))"
      ],
      "metadata": {
        "colab": {
          "base_uri": "https://localhost:8080/"
        },
        "id": "DWcZUXsqyL7t",
        "outputId": "58723c57-ec24-4b64-efc7-a8456768b984"
      },
      "execution_count": 209,
      "outputs": [
        {
          "output_type": "stream",
          "name": "stdout",
          "text": [
            "SVM ref Set5 C2 ได้ Accuracy: 0.56\n",
            "SVM ref Set5 A4 ได้ Accuracy: 0.125\n",
            "SVM no_ref Set5 C2 ได้ Accuracy: 0.12875\n",
            "SVM no_ref Set5 A4 ได้ Accuracy: 0.125\n"
          ]
        }
      ]
    },
    {
      "cell_type": "markdown",
      "source": [
        "XGB"
      ],
      "metadata": {
        "id": "zf0wKZt4yLDO"
      }
    },
    {
      "cell_type": "code",
      "source": [
        "print(\"XGB ref Set5 A2 ได้ Accuracy:\", (AC_RGB_XGB_ref))\n",
        "print(\"XGB ref Set5 A3 ได้ Accuracy:\", (AC_HSV_XGB_ref))\n",
        "print(\"XGB no_ref Set5 A2 ได้ Accuracy:\", (AC_RGB_XGB_noref))\n",
        "print(\"XGB no_ref Set5 A3 ได้ Accuracy:\", (AC_HSV_XGB_noref))"
      ],
      "metadata": {
        "colab": {
          "base_uri": "https://localhost:8080/"
        },
        "id": "tyXdRxfyyNNw",
        "outputId": "cdd8b60f-7344-40d9-b57f-d238e20f138a"
      },
      "execution_count": 210,
      "outputs": [
        {
          "output_type": "stream",
          "name": "stdout",
          "text": [
            "XGB ref Set5 A2 ได้ Accuracy: 0.2875\n",
            "XGB ref Set5 A3 ได้ Accuracy: 0.47625\n",
            "XGB no_ref Set5 A2 ได้ Accuracy: 0.12\n",
            "XGB no_ref Set5 A3 ได้ Accuracy: 0.28375\n"
          ]
        }
      ]
    },
    {
      "cell_type": "markdown",
      "source": [
        "#Save Model"
      ],
      "metadata": {
        "id": "rN1dCcZM12Q6"
      }
    },
    {
      "cell_type": "code",
      "source": [
        "import pickle\n",
        "with open('Model_SVM_C2.pkl', 'wb') as pickle_file :\n",
        "       pickle.dump(SVM1, pickle_file )"
      ],
      "metadata": {
        "id": "FDTfgcNM12EX"
      },
      "execution_count": 211,
      "outputs": []
    },
    {
      "cell_type": "code",
      "source": [
        "import pickle\n",
        "with open('Model_SVM_C2_noref.pkl', 'wb') as pickle_file :\n",
        "       pickle.dump(SVM3, pickle_file )"
      ],
      "metadata": {
        "id": "gQx7aff4VcMb"
      },
      "execution_count": 280,
      "outputs": []
    },
    {
      "cell_type": "markdown",
      "source": [
        "#Confution"
      ],
      "metadata": {
        "id": "tQXMUR4Uy700"
      }
    },
    {
      "cell_type": "code",
      "source": [
        "import numpy as np\n",
        "from sklearn import metrics\n",
        "from sklearn import datasets\n",
        "import pandas as pd\n",
        "import pickle"
      ],
      "metadata": {
        "id": "-9el4i7Py--b"
      },
      "execution_count": 212,
      "outputs": []
    },
    {
      "cell_type": "code",
      "source": [
        "from sklearn.preprocessing import LabelEncoder\n",
        "\n",
        "from tensorflow.keras.utils import to_categorical"
      ],
      "metadata": {
        "id": "OU0KgyoB2W_9"
      },
      "execution_count": 213,
      "outputs": []
    },
    {
      "cell_type": "code",
      "source": [
        "import os"
      ],
      "metadata": {
        "id": "yG7xioj92d0E"
      },
      "execution_count": 214,
      "outputs": []
    },
    {
      "cell_type": "code",
      "source": [
        "with open('Model_SVM_C2.pkl', 'rb') as pickle_file :\n",
        "    new_data = pickle.load(pickle_file)"
      ],
      "metadata": {
        "id": "bQlgR5pb2joL"
      },
      "execution_count": 215,
      "outputs": []
    },
    {
      "cell_type": "code",
      "source": [
        "with open('Model_SVM_C2_noref.pkl', 'rb') as pickle_file :\n",
        "    new_data2 = pickle.load(pickle_file)"
      ],
      "metadata": {
        "id": "0iBvYgW-50Z5"
      },
      "execution_count": 281,
      "outputs": []
    },
    {
      "cell_type": "code",
      "source": [
        "with open('Model_SVM_C2.pkl', 'rb') as pickle_file :\n",
        "    new_data = pickle.load(pickle_file)"
      ],
      "metadata": {
        "id": "58MeFOweVLnY"
      },
      "execution_count": null,
      "outputs": []
    },
    {
      "cell_type": "code",
      "source": [
        "import matplotlib.pyplot as plt\n",
        "import matplotlib.image as mpimg\n",
        "from matplotlib.pyplot import savefig\n",
        "import itertools\n",
        "from sklearn.metrics import confusion_matrix\n",
        "from sklearn.utils.multiclass import unique_labels"
      ],
      "metadata": {
        "id": "pGNaw4bL4jsu"
      },
      "execution_count": 217,
      "outputs": []
    },
    {
      "cell_type": "markdown",
      "source": [
        "##SVM C2 ref"
      ],
      "metadata": {
        "id": "Um3OWUCF2k2g"
      }
    },
    {
      "cell_type": "code",
      "source": [
        "RGB_C2_concat = pd.concat([RGB_C2_Set1,RGB_C2_Set2,RGB_C2_Set3,RGB_C2_Set4,RGB_C2_Set6])"
      ],
      "metadata": {
        "id": "zJgq0oldyasn"
      },
      "execution_count": 218,
      "outputs": []
    },
    {
      "cell_type": "code",
      "source": [
        "RGB_C2_concat0 = RGB_C2_concat.drop(['H-ref','S-ref','V-ref','H-Shad','S-Shad','V-Shad','Setting','Ref','Shad','Img'], axis=1)"
      ],
      "metadata": {
        "id": "k6rgbb4-yasn"
      },
      "execution_count": 219,
      "outputs": []
    },
    {
      "cell_type": "code",
      "source": [
        "RGB_C2_s5 = table_C2Set5.drop(['H-ref','S-ref','V-ref','H-Shad','S-Shad','V-Shad','Setting','Ref','Shad','Img'], axis=1)"
      ],
      "metadata": {
        "id": "xTD3aX1kyoHE"
      },
      "execution_count": 220,
      "outputs": []
    },
    {
      "cell_type": "code",
      "source": [
        "X_test_C2_RGB_s5 = np.array(RGB_C2_s5)"
      ],
      "metadata": {
        "id": "yNqsgDIByoHE"
      },
      "execution_count": 221,
      "outputs": []
    },
    {
      "cell_type": "code",
      "source": [
        "y_C2_RGB_s5 =  table_C2Set5.iloc[:,14:15]"
      ],
      "metadata": {
        "id": "i5xt7vcMyoHE"
      },
      "execution_count": 222,
      "outputs": []
    },
    {
      "cell_type": "code",
      "source": [
        "y_test_C2_RGB_s5 = np.array(y_C2_RGB_s5)"
      ],
      "metadata": {
        "id": "9Rfk0NXNyoHF"
      },
      "execution_count": 223,
      "outputs": []
    },
    {
      "cell_type": "code",
      "source": [
        "y_test = np.array(y_C2_RGB_s5)"
      ],
      "metadata": {
        "id": "DR3pg9zhLIi3"
      },
      "execution_count": 224,
      "outputs": []
    },
    {
      "cell_type": "code",
      "source": [
        "X_train_C2_RGB_s5 = np.array(RGB_C2_concat0)"
      ],
      "metadata": {
        "id": "yx9h0XfSyoHF"
      },
      "execution_count": 225,
      "outputs": []
    },
    {
      "cell_type": "code",
      "source": [
        "y_train_C2RGB_s5 = RGB_C2_concat.iloc[:,14:15]"
      ],
      "metadata": {
        "id": "2X6UKjcCyoHF"
      },
      "execution_count": 226,
      "outputs": []
    },
    {
      "cell_type": "code",
      "source": [
        "le = LabelEncoder()"
      ],
      "metadata": {
        "id": "04PFVj2a2kDJ"
      },
      "execution_count": 227,
      "outputs": []
    },
    {
      "cell_type": "code",
      "source": [
        "y_test_C2_RGB_s5 = np.array(table_C2Set5['Shad'])"
      ],
      "metadata": {
        "id": "PvhwYWtyQbhW"
      },
      "execution_count": 228,
      "outputs": []
    },
    {
      "cell_type": "code",
      "source": [
        "y_test_C2_RGB_s5.shape = (len(y_test_C2_RGB_s5),)   "
      ],
      "metadata": {
        "id": "yBTAoeZXUEH2"
      },
      "execution_count": 229,
      "outputs": []
    },
    {
      "cell_type": "code",
      "source": [
        "np.left_shift = LabelEncoder() "
      ],
      "metadata": {
        "id": "IsQD1l1uUF4X"
      },
      "execution_count": 230,
      "outputs": []
    },
    {
      "cell_type": "code",
      "source": [
        "y_test_C2_RGB_s5 = le.fit_transform(y_test_C2_RGB_s5) "
      ],
      "metadata": {
        "id": "wVT_BQivUKKR"
      },
      "execution_count": 231,
      "outputs": []
    },
    {
      "cell_type": "code",
      "source": [
        "y_test_C2_RGB_s5 = to_categorical(y_test_C2_RGB_s5, num_classes=16)"
      ],
      "metadata": {
        "id": "Fd5wT42aULLg"
      },
      "execution_count": 232,
      "outputs": []
    },
    {
      "cell_type": "code",
      "source": [
        "y_pred_C2_RGB_s5 = new_data.predict(X_test_C2_RGB_s5)"
      ],
      "metadata": {
        "id": "dzerY89EyoHF"
      },
      "execution_count": 233,
      "outputs": []
    },
    {
      "cell_type": "code",
      "source": [
        "y_pred2_C2_RGB_s5 = le.fit_transform(y_pred_C2_RGB_s5) "
      ],
      "metadata": {
        "id": "vgGGdTupWbss"
      },
      "execution_count": 234,
      "outputs": []
    },
    {
      "cell_type": "code",
      "source": [
        "y_pred2_C2_RGB_s5 = to_categorical(y_pred2_C2_RGB_s5, num_classes=16)"
      ],
      "metadata": {
        "id": "op6kgGy3W-bz"
      },
      "execution_count": 235,
      "outputs": []
    },
    {
      "cell_type": "code",
      "source": [
        "y_pred2_C2_RGB_s5.ndim"
      ],
      "metadata": {
        "colab": {
          "base_uri": "https://localhost:8080/"
        },
        "id": "JYsR2u1u4kqv",
        "outputId": "3acc0f27-dc53-4edc-81fc-a2413c3cf016"
      },
      "execution_count": 236,
      "outputs": [
        {
          "output_type": "execute_result",
          "data": {
            "text/plain": [
              "2"
            ]
          },
          "metadata": {},
          "execution_count": 236
        }
      ]
    },
    {
      "cell_type": "code",
      "source": [
        "y_test_C2_RGB_s5.ndim"
      ],
      "metadata": {
        "colab": {
          "base_uri": "https://localhost:8080/"
        },
        "id": "fXjfKWNc4pVm",
        "outputId": "56bd37cb-48d2-44a6-8bb9-3318d79f4906"
      },
      "execution_count": 237,
      "outputs": [
        {
          "output_type": "execute_result",
          "data": {
            "text/plain": [
              "2"
            ]
          },
          "metadata": {},
          "execution_count": 237
        }
      ]
    },
    {
      "cell_type": "code",
      "source": [
        "y_pred = y_pred2_C2_RGB_s5.argmax(axis=1)          #ค่า predict \n",
        "y_true  = y_test_C2_RGB_s5.argmax(axis=1)\n",
        "class_names = le.classes_                          # ชื่อคลาสว่ามีไรบ้าง --> ['Abnormal' , 'Normal]\n",
        "\n",
        "\n",
        "def plot_confusion_matrix(y_true, y_pred, classes,\n",
        "                          normalize=False,\n",
        "                          title=None,\n",
        "                          cmap=plt.cm.RdPu):\n",
        "    \"\"\"\n",
        "    This function prints and plots the confusion matrix.\n",
        "    Normalization can be applied by setting normalize=True.\n",
        "    \"\"\"\n",
        "    if not title:\n",
        "        if normalize:\n",
        "            title = 'Normalized confusion matrix'\n",
        "        else:\n",
        "            title = 'Confusion matrix, without normalization'\n",
        "\n",
        "    # Compute confusion matrix\n",
        "    cm = confusion_matrix(y_true, y_pred)\n",
        "    # Only use the labels that appear in the data\n",
        "    classes = classes[unique_labels(y_true, y_pred)]\n",
        "    if normalize:\n",
        "        cm = cm.astype('float') / cm.sum(axis=1)[:, np.newaxis]\n",
        "        print(\"Normalized confusion matrix\")\n",
        "    else:\n",
        "        print('Confusion matrix, without normalization')\n",
        "\n",
        "    print(cm)\n",
        "\n",
        "    fig, ax = plt.subplots()\n",
        "    im = ax.imshow(cm, interpolation='nearest', cmap=cmap)\n",
        "    ax.figure.colorbar(im, ax=ax)\n",
        "    # We want to show all ticks...\n",
        "    ax.set(xticks=np.arange(cm.shape[1]),\n",
        "           yticks=np.arange(cm.shape[0]),\n",
        "           # ... and label them with the respective list entries\n",
        "           xticklabels=classes, yticklabels=classes,\n",
        "           title=title,\n",
        "           ylabel='True label',\n",
        "           xlabel='Predicted label')\n",
        "\n",
        "    # Rotate the tick labels and set their alignment.\n",
        "    plt.setp(ax.get_xticklabels(), rotation=45, ha=\"right\",\n",
        "             rotation_mode=\"anchor\")\n",
        "\n",
        "    # Loop over data dimensions and create text annotations.\n",
        "    fmt = '.2f' if normalize else 'd'\n",
        "    thresh = cm.max() / 2.\n",
        "    for i in range(cm.shape[0]):\n",
        "        for j in range(cm.shape[1]):\n",
        "            ax.text(j, i, format(cm[i, j], fmt),\n",
        "                    ha=\"center\", va=\"center\",\n",
        "                    color=\"white\" if cm[i, j] > thresh else \"black\")\n",
        "    fig.tight_layout()\n",
        "    return ax\n",
        "\n",
        "\n",
        "np.set_printoptions(precision=2)\n",
        "\n",
        "# Plot non-normalized confusion matrix\n",
        "plot_confusion_matrix(y_true, y_pred, classes=class_names,\n",
        "                      title='Confusion matrix, without normalization')\n",
        "\n",
        "# Plot normalized confusion matrix\n",
        "plot_confusion_matrix(y_true, y_pred, classes=class_names, normalize=True,\n",
        "                      title='Normalized confusion matrix')\n",
        "\n",
        "plt.show() #448"
      ],
      "metadata": {
        "colab": {
          "base_uri": "https://localhost:8080/",
          "height": 1000
        },
        "id": "wStwGWtK4rzm",
        "outputId": "be63d599-5e61-4378-a861-c61adee89176"
      },
      "execution_count": 238,
      "outputs": [
        {
          "output_type": "stream",
          "name": "stdout",
          "text": [
            "Confusion matrix, without normalization\n",
            "[[25 12  0  0  0  0  0  0  0 12  0  0  0  1  0  0]\n",
            " [ 0 38 10  0  0  0  0  0  0  0  2  0  0  0  0  0]\n",
            " [ 0  0 28  0  0  0  0 22  0  0  0  0  0  0  0  0]\n",
            " [ 0  0  0 18  0  0  0  0 32  0  0  0  0  0  0  0]\n",
            " [ 0  0  0  0 34  0  0  0  0  0  0  4 12  0  0  0]\n",
            " [ 8  0  0  0  0 42  0  0  0  0  0  0  0  0  0  0]\n",
            " [ 0 47  2  0  0  0  1  0  0  0  0  0  0  0  0  0]\n",
            " [ 0  0  0  4  0  0  0 46  0  0  0  0  0  0  0  0]\n",
            " [ 0  0  0 19  0  0  0  0 11  0  0  0 20  0  0  0]\n",
            " [ 0 47  0  0  0  0  0  0  0  0  0  0  0  3  0  0]\n",
            " [ 0  0  0  0  0  0  0  0  0  0 26  0  0  0 22  2]\n",
            " [ 0  0  0  0 15  0  0  0  0  0  0 35  0  0  0  0]\n",
            " [ 0  0  0  0  0  0  0  0  0  0  0  0 50  0  0  0]\n",
            " [ 0  0  0  0  0  0  0  0  0  0 16  0  0 34  0  0]\n",
            " [ 0  0  1  0  9  0  0  0  0  0  0  1  0  0 20 19]\n",
            " [ 0  0  0  0  6  0  0  0  0  0  0  4  0  0  0 40]]\n",
            "Normalized confusion matrix\n",
            "[[0.5  0.24 0.   0.   0.   0.   0.   0.   0.   0.24 0.   0.   0.   0.02\n",
            "  0.   0.  ]\n",
            " [0.   0.76 0.2  0.   0.   0.   0.   0.   0.   0.   0.04 0.   0.   0.\n",
            "  0.   0.  ]\n",
            " [0.   0.   0.56 0.   0.   0.   0.   0.44 0.   0.   0.   0.   0.   0.\n",
            "  0.   0.  ]\n",
            " [0.   0.   0.   0.36 0.   0.   0.   0.   0.64 0.   0.   0.   0.   0.\n",
            "  0.   0.  ]\n",
            " [0.   0.   0.   0.   0.68 0.   0.   0.   0.   0.   0.   0.08 0.24 0.\n",
            "  0.   0.  ]\n",
            " [0.16 0.   0.   0.   0.   0.84 0.   0.   0.   0.   0.   0.   0.   0.\n",
            "  0.   0.  ]\n",
            " [0.   0.94 0.04 0.   0.   0.   0.02 0.   0.   0.   0.   0.   0.   0.\n",
            "  0.   0.  ]\n",
            " [0.   0.   0.   0.08 0.   0.   0.   0.92 0.   0.   0.   0.   0.   0.\n",
            "  0.   0.  ]\n",
            " [0.   0.   0.   0.38 0.   0.   0.   0.   0.22 0.   0.   0.   0.4  0.\n",
            "  0.   0.  ]\n",
            " [0.   0.94 0.   0.   0.   0.   0.   0.   0.   0.   0.   0.   0.   0.06\n",
            "  0.   0.  ]\n",
            " [0.   0.   0.   0.   0.   0.   0.   0.   0.   0.   0.52 0.   0.   0.\n",
            "  0.44 0.04]\n",
            " [0.   0.   0.   0.   0.3  0.   0.   0.   0.   0.   0.   0.7  0.   0.\n",
            "  0.   0.  ]\n",
            " [0.   0.   0.   0.   0.   0.   0.   0.   0.   0.   0.   0.   1.   0.\n",
            "  0.   0.  ]\n",
            " [0.   0.   0.   0.   0.   0.   0.   0.   0.   0.   0.32 0.   0.   0.68\n",
            "  0.   0.  ]\n",
            " [0.   0.   0.02 0.   0.18 0.   0.   0.   0.   0.   0.   0.02 0.   0.\n",
            "  0.4  0.38]\n",
            " [0.   0.   0.   0.   0.12 0.   0.   0.   0.   0.   0.   0.08 0.   0.\n",
            "  0.   0.8 ]]\n"
          ]
        },
        {
          "output_type": "display_data",
          "data": {
            "text/plain": [
              "<Figure size 432x288 with 2 Axes>"
            ],
            "image/png": "[encoded data removed]"
          },
          "metadata": {
            "needs_background": "light"
          }
        },
        {
          "output_type": "display_data",
          "data": {
            "text/plain": [
              "<Figure size 432x288 with 2 Axes>"
            ],
            "image/png": "[encoded data removed]"
          },
          "metadata": {
            "needs_background": "light"
          }
        }
      ]
    },
    {
      "cell_type": "markdown",
      "source": [
        "##SVM C2 noref"
      ],
      "metadata": {
        "id": "5gpV2Cb42n_8"
      }
    },
    {
      "cell_type": "code",
      "source": [
        "RGB_C2_concat_noref = pd.concat([RGB_C2_Set1,RGB_C2_Set2,RGB_C2_Set3,RGB_C2_Set4,RGB_C2_Set6])"
      ],
      "metadata": {
        "id": "Ram_-mph49Ad"
      },
      "execution_count": 282,
      "outputs": []
    },
    {
      "cell_type": "code",
      "source": [
        "RGB_C2_concat0_noref = RGB_C2_concat_noref.drop(['R-ref','G-ref','B-ref','H-ref','S-ref','V-ref','H-Shad','S-Shad','V-Shad','Setting','Ref','Shad','Img'], axis=1)"
      ],
      "metadata": {
        "id": "6WoSP_oN49Ad"
      },
      "execution_count": 283,
      "outputs": []
    },
    {
      "cell_type": "code",
      "source": [
        "RGB_C2_s5_noref = table_C2Set5.drop(['R-ref','G-ref','B-ref','H-ref','S-ref','V-ref','H-Shad','S-Shad','V-Shad','Setting','Ref','Shad','Img'], axis=1)"
      ],
      "metadata": {
        "id": "Iq27DoIi49Ad"
      },
      "execution_count": 284,
      "outputs": []
    },
    {
      "cell_type": "code",
      "source": [
        "X_test_C2_RGB_s5_noref = np.array(RGB_C2_s5_noref)"
      ],
      "metadata": {
        "id": "LKGXOn9G49Ad"
      },
      "execution_count": 285,
      "outputs": []
    },
    {
      "cell_type": "code",
      "source": [
        "y_C2_RGB_s5_noref =  table_C2Set5.iloc[:,14:15]"
      ],
      "metadata": {
        "id": "2duqhrhJ49Ad"
      },
      "execution_count": 286,
      "outputs": []
    },
    {
      "cell_type": "code",
      "source": [
        "y_test_C2_RGB_s5_noref = np.array(y_C2_RGB_s5_noref)"
      ],
      "metadata": {
        "id": "5neBCl-C49Ae"
      },
      "execution_count": 287,
      "outputs": []
    },
    {
      "cell_type": "code",
      "source": [
        "y_test_noref = np.array(y_C2_RGB_s5_noref)"
      ],
      "metadata": {
        "id": "MNo7LUfp49Ae"
      },
      "execution_count": 288,
      "outputs": []
    },
    {
      "cell_type": "code",
      "source": [
        "X_train_C2_RGB_s5_noref = np.array(RGB_C2_concat0_noref)"
      ],
      "metadata": {
        "id": "Rz7Yb_aM49Ae"
      },
      "execution_count": 289,
      "outputs": []
    },
    {
      "cell_type": "code",
      "source": [
        "y_train_C2RGB_s5_noref = RGB_C2_concat_noref.iloc[:,14:15]"
      ],
      "metadata": {
        "id": "IjYch-9T49Ae"
      },
      "execution_count": 290,
      "outputs": []
    },
    {
      "cell_type": "code",
      "source": [
        "le2 = LabelEncoder()"
      ],
      "metadata": {
        "id": "_Gb_0WD849Ae"
      },
      "execution_count": 291,
      "outputs": []
    },
    {
      "cell_type": "code",
      "source": [
        "y_test_C2_RGB_s5_noref = np.array(table_C2Set5['Shad'])"
      ],
      "metadata": {
        "id": "0OhS0x1E49Ae"
      },
      "execution_count": 292,
      "outputs": []
    },
    {
      "cell_type": "code",
      "source": [
        "y_test_C2_RGB_s5_noref.shape = (len(y_test_C2_RGB_s5_noref),)   "
      ],
      "metadata": {
        "id": "_1gSqGrP49Ae"
      },
      "execution_count": 293,
      "outputs": []
    },
    {
      "cell_type": "code",
      "source": [
        "np.left_shift = LabelEncoder() "
      ],
      "metadata": {
        "id": "dqhZ6vfq49Ae"
      },
      "execution_count": 294,
      "outputs": []
    },
    {
      "cell_type": "code",
      "source": [
        "y_test_C2_RGB_s5_noref = le2.fit_transform(y_test_C2_RGB_s5_noref) "
      ],
      "metadata": {
        "id": "45D1Dk1Z49Ae"
      },
      "execution_count": 295,
      "outputs": []
    },
    {
      "cell_type": "code",
      "source": [
        "y_test_C2_RGB_s5_noref = to_categorical(y_test_C2_RGB_s5_noref, num_classes=16)"
      ],
      "metadata": {
        "id": "ATXpf2bg49Ae"
      },
      "execution_count": 296,
      "outputs": []
    },
    {
      "cell_type": "code",
      "source": [
        "y_pred_C2_RGB_s5_noref = new_data2.predict(X_test_C2_RGB_s5_noref)"
      ],
      "metadata": {
        "id": "ysM0t9pH49Af"
      },
      "execution_count": 297,
      "outputs": []
    },
    {
      "cell_type": "code",
      "source": [
        "y_pred2_C2_RGB_s5_noref = le.fit_transform(y_pred_C2_RGB_s5_noref) "
      ],
      "metadata": {
        "id": "STS_tfKY49Af"
      },
      "execution_count": 298,
      "outputs": []
    },
    {
      "cell_type": "code",
      "source": [
        "y_pred2_C2_RGB_s5_noref = to_categorical(y_pred2_C2_RGB_s5_noref, num_classes=16)"
      ],
      "metadata": {
        "id": "Z70XsWyE49Af"
      },
      "execution_count": 299,
      "outputs": []
    },
    {
      "cell_type": "code",
      "source": [
        "y_pred2_C2_RGB_s5_noref.ndim"
      ],
      "metadata": {
        "colab": {
          "base_uri": "https://localhost:8080/"
        },
        "id": "uPnSjM2Z49Af",
        "outputId": "51a09960-e317-4685-c584-6399da9e97af"
      },
      "execution_count": 300,
      "outputs": [
        {
          "output_type": "execute_result",
          "data": {
            "text/plain": [
              "2"
            ]
          },
          "metadata": {},
          "execution_count": 300
        }
      ]
    },
    {
      "cell_type": "code",
      "source": [
        "y_test_C2_RGB_s5_noref.ndim"
      ],
      "metadata": {
        "colab": {
          "base_uri": "https://localhost:8080/"
        },
        "id": "2hgkJuuu49Af",
        "outputId": "dd26ecca-2050-4902-b0c0-9ee89e9aee80"
      },
      "execution_count": 301,
      "outputs": [
        {
          "output_type": "execute_result",
          "data": {
            "text/plain": [
              "2"
            ]
          },
          "metadata": {},
          "execution_count": 301
        }
      ]
    },
    {
      "cell_type": "code",
      "source": [
        "y_pred = y_pred2_C2_RGB_s5_noref.argmax(axis=1)          #ค่า predict \n",
        "y_true  = y_test_C2_RGB_s5_noref.argmax(axis=1)\n",
        "class_names = le2.classes_                          # ชื่อคลาสว่ามีไรบ้าง --> ['Abnormal' , 'Normal]\n",
        "\n",
        "\n",
        "def plot_confusion_matrix(y_true, y_pred, classes,\n",
        "                          normalize=False,\n",
        "                          title=None,\n",
        "                          cmap=plt.cm.BuPu):\n",
        "    \"\"\"\n",
        "    This function prints and plots the confusion matrix.\n",
        "    Normalization can be applied by setting normalize=True.\n",
        "    \"\"\"\n",
        "    if not title:\n",
        "        if normalize:\n",
        "            title = 'Normalized confusion matrix'\n",
        "        else:\n",
        "            title = 'Confusion matrix, without normalization'\n",
        "\n",
        "    # Compute confusion matrix\n",
        "    cm = confusion_matrix(y_true, y_pred)\n",
        "    # Only use the labels that appear in the data\n",
        "    classes = classes[unique_labels(y_true, y_pred)]\n",
        "    if normalize:\n",
        "        cm = cm.astype('float') / cm.sum(axis=1)[:, np.newaxis]\n",
        "        print(\"Normalized confusion matrix\")\n",
        "    else:\n",
        "        print('Confusion matrix, without normalization')\n",
        "\n",
        "    print(cm)\n",
        "\n",
        "    fig, ax = plt.subplots()\n",
        "    im = ax.imshow(cm, interpolation='nearest', cmap=cmap)\n",
        "    ax.figure.colorbar(im, ax=ax)\n",
        "    # We want to show all ticks...\n",
        "    ax.set(xticks=np.arange(cm.shape[1]),\n",
        "           yticks=np.arange(cm.shape[0]),\n",
        "           # ... and label them with the respective list entries\n",
        "           xticklabels=classes, yticklabels=classes,\n",
        "           title=title,\n",
        "           ylabel='True label',\n",
        "           xlabel='Predicted label')\n",
        "\n",
        "    # Rotate the tick labels and set their alignment.\n",
        "    plt.setp(ax.get_xticklabels(), rotation=45, ha=\"right\",\n",
        "             rotation_mode=\"anchor\")\n",
        "\n",
        "    # Loop over data dimensions and create text annotations.\n",
        "    fmt = '.2f' if normalize else 'd'\n",
        "    thresh = cm.max() / 2.\n",
        "    for i in range(cm.shape[0]):\n",
        "        for j in range(cm.shape[1]):\n",
        "            ax.text(j, i, format(cm[i, j], fmt),\n",
        "                    ha=\"center\", va=\"center\",\n",
        "                    color=\"white\" if cm[i, j] > thresh else \"black\")\n",
        "    fig.tight_layout()\n",
        "    return ax\n",
        "\n",
        "\n",
        "np.set_printoptions(precision=2)\n",
        "\n",
        "# Plot non-normalized confusion matrix\n",
        "plot_confusion_matrix(y_true, y_pred, classes=class_names,\n",
        "                      title='Confusion matrix, without normalization')\n",
        "\n",
        "# Plot normalized confusion matrix\n",
        "plot_confusion_matrix(y_true, y_pred, classes=class_names, normalize=True,\n",
        "                      title='Normalized confusion matrix')\n",
        "\n",
        "plt.show()"
      ],
      "metadata": {
        "colab": {
          "base_uri": "https://localhost:8080/",
          "height": 1000
        },
        "id": "JUek-ZxP49Af",
        "outputId": "2d9ba8c1-817d-4479-8348-4ae1df64869c"
      },
      "execution_count": 302,
      "outputs": [
        {
          "output_type": "stream",
          "name": "stdout",
          "text": [
            "Confusion matrix, without normalization\n",
            "[[ 0  0 32  0  0  0 18  0  0  0  0  0  0  0  0  0]\n",
            " [ 0 10 40  0  0  0  0  0  0  0  0  0  0  0  0  0]\n",
            " [ 0 43  7  0  0  0  0  0  0  0  0  0  0  0  0  0]\n",
            " [ 0 44  0  6  0  0  0  0  0  0  0  0  0  0  0  0]\n",
            " [ 0 15 32  0  0  3  0  0  0  0  0  0  0  0  0  0]\n",
            " [31  0  0  0  0  0 19  0  0  0  0  0  0  0  0  0]\n",
            " [ 0 20 30  0  0  0  0  0  0  0  0  0  0  0  0  0]\n",
            " [ 0 42  0  8  0  0  0  0  0  0  0  0  0  0  0  0]\n",
            " [ 0 21  6  3 16  4  0  0  0  0  0  0  0  0  0  0]\n",
            " [ 0  0 47  0  0  0  3  0  0  0  0  0  0  0  0  0]\n",
            " [ 0  0 50  0  0  0  0  0  0  0  0  0  0  0  0  0]\n",
            " [ 0  0 49  0  0  1  0  0  0  0  0  0  0  0  0  0]\n",
            " [ 0  0 26  0  0 24  0  0  0  0  0  0  0  0  0  0]\n",
            " [ 0  0 21  0  0  0 29  0  0  0  0  0  0  0  0  0]\n",
            " [ 0  0 50  0  0  0  0  0  0  0  0  0  0  0  0  0]\n",
            " [ 0 16 34  0  0  0  0  0  0  0  0  0  0  0  0  0]]\n",
            "Normalized confusion matrix\n",
            "[[0.   0.   0.64 0.   0.   0.   0.36 0.   0.   0.   0.   0.   0.   0.\n",
            "  0.   0.  ]\n",
            " [0.   0.2  0.8  0.   0.   0.   0.   0.   0.   0.   0.   0.   0.   0.\n",
            "  0.   0.  ]\n",
            " [0.   0.86 0.14 0.   0.   0.   0.   0.   0.   0.   0.   0.   0.   0.\n",
            "  0.   0.  ]\n",
            " [0.   0.88 0.   0.12 0.   0.   0.   0.   0.   0.   0.   0.   0.   0.\n",
            "  0.   0.  ]\n",
            " [0.   0.3  0.64 0.   0.   0.06 0.   0.   0.   0.   0.   0.   0.   0.\n",
            "  0.   0.  ]\n",
            " [0.62 0.   0.   0.   0.   0.   0.38 0.   0.   0.   0.   0.   0.   0.\n",
            "  0.   0.  ]\n",
            " [0.   0.4  0.6  0.   0.   0.   0.   0.   0.   0.   0.   0.   0.   0.\n",
            "  0.   0.  ]\n",
            " [0.   0.84 0.   0.16 0.   0.   0.   0.   0.   0.   0.   0.   0.   0.\n",
            "  0.   0.  ]\n",
            " [0.   0.42 0.12 0.06 0.32 0.08 0.   0.   0.   0.   0.   0.   0.   0.\n",
            "  0.   0.  ]\n",
            " [0.   0.   0.94 0.   0.   0.   0.06 0.   0.   0.   0.   0.   0.   0.\n",
            "  0.   0.  ]\n",
            " [0.   0.   1.   0.   0.   0.   0.   0.   0.   0.   0.   0.   0.   0.\n",
            "  0.   0.  ]\n",
            " [0.   0.   0.98 0.   0.   0.02 0.   0.   0.   0.   0.   0.   0.   0.\n",
            "  0.   0.  ]\n",
            " [0.   0.   0.52 0.   0.   0.48 0.   0.   0.   0.   0.   0.   0.   0.\n",
            "  0.   0.  ]\n",
            " [0.   0.   0.42 0.   0.   0.   0.58 0.   0.   0.   0.   0.   0.   0.\n",
            "  0.   0.  ]\n",
            " [0.   0.   1.   0.   0.   0.   0.   0.   0.   0.   0.   0.   0.   0.\n",
            "  0.   0.  ]\n",
            " [0.   0.32 0.68 0.   0.   0.   0.   0.   0.   0.   0.   0.   0.   0.\n",
            "  0.   0.  ]]\n"
          ]
        },
        {
          "output_type": "display_data",
          "data": {
            "text/plain": [
              "<Figure size 432x288 with 2 Axes>"
            ],
            "image/png": "[encoded data removed]"
          },
          "metadata": {
            "needs_background": "light"
          }
        },
        {
          "output_type": "display_data",
          "data": {
            "text/plain": [
              "<Figure size 432x288 with 2 Axes>"
            ],
            "image/png": "[encoded data removed]"
          },
          "metadata": {
            "needs_background": "light"
          }
        }
      ]
    }
  ]
}