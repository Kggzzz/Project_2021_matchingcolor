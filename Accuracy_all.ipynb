{
  "nbformat": 4,
  "nbformat_minor": 0,
  "metadata": {
    "colab": {
      "name": "Accuracy_all.ipynb",
      "provenance": [],
      "authorship_tag": "ABX9TyO9rBWVMYJWyL5ZsMhQY7c6",
      "include_colab_link": true
    },
    "kernelspec": {
      "name": "python3",
      "display_name": "Python 3"
    },
    "language_info": {
      "name": "python"
    }
  },
  "cells": [
    {
      "cell_type": "markdown",
      "metadata": {
        "id": "view-in-github",
        "colab_type": "text"
      },
      "source": [
        "<a href=\"https://colab.research.google.com/github/Kggzzz/Project_2021_matchingcolor/blob/main/Accuracy_all.ipynb\" target=\"_parent\"><img src=\"https://colab.research.google.com/assets/colab-badge.svg\" alt=\"Open In Colab\"/></a>"
      ]
    },
    {
      "cell_type": "markdown",
      "source": [
        "#Model "
      ],
      "metadata": {
        "id": "ssvGIa4Py9rG"
      }
    },
    {
      "cell_type": "code",
      "source": [
        "import numpy as np"
      ],
      "metadata": {
        "id": "8ISBGlPBzzvw"
      },
      "execution_count": 1,
      "outputs": []
    },
    {
      "cell_type": "code",
      "source": [
        "from sklearn import metrics"
      ],
      "metadata": {
        "id": "FTwRPXBBzw1v"
      },
      "execution_count": 2,
      "outputs": []
    },
    {
      "cell_type": "code",
      "source": [
        "from sklearn import datasets"
      ],
      "metadata": {
        "id": "KR8lVsZXpX9X"
      },
      "execution_count": 3,
      "outputs": []
    },
    {
      "cell_type": "code",
      "source": [
        "from sklearn.ensemble import RandomForestClassifier"
      ],
      "metadata": {
        "id": "cfRBaPLCI0vn"
      },
      "execution_count": 4,
      "outputs": []
    },
    {
      "cell_type": "code",
      "source": [
        "import xgboost as xgb"
      ],
      "metadata": {
        "id": "h50-WlNzOp3W"
      },
      "execution_count": 5,
      "outputs": []
    },
    {
      "cell_type": "code",
      "source": [
        "from sklearn import svm"
      ],
      "metadata": {
        "id": "wM9lCq5ZOqOc"
      },
      "execution_count": 6,
      "outputs": []
    },
    {
      "cell_type": "code",
      "source": [
        "import pandas as pd"
      ],
      "metadata": {
        "id": "uJm_2vBUP9p2"
      },
      "execution_count": 7,
      "outputs": []
    },
    {
      "cell_type": "code",
      "source": [
        "from google.colab import drive \n",
        "drive.mount('/content/drive')"
      ],
      "metadata": {
        "colab": {
          "base_uri": "https://localhost:8080/"
        },
        "id": "_8KDD0WgQC_c",
        "outputId": "2ebd2034-f5e1-4ce0-b6c8-18ee26ee9d27"
      },
      "execution_count": 8,
      "outputs": [
        {
          "output_type": "stream",
          "name": "stdout",
          "text": [
            "Mounted at /content/drive\n"
          ]
        }
      ]
    },
    {
      "cell_type": "code",
      "source": [
        "import os"
      ],
      "metadata": {
        "id": "-RXgiw8nQEFY"
      },
      "execution_count": 9,
      "outputs": []
    },
    {
      "cell_type": "code",
      "source": [
        "path = '/content/drive/My Drive/shadeimg/SVM shade'"
      ],
      "metadata": {
        "id": "ehxFczjDQFLC"
      },
      "execution_count": 10,
      "outputs": []
    },
    {
      "cell_type": "code",
      "source": [
        "os.listdir(path)"
      ],
      "metadata": {
        "id": "B7dvVcB-QGcE",
        "colab": {
          "base_uri": "https://localhost:8080/"
        },
        "outputId": "531e20bc-dd7b-48f2-8bc0-c77f28584530"
      },
      "execution_count": 11,
      "outputs": [
        {
          "output_type": "execute_result",
          "data": {
            "text/plain": [
              "['DD.xlsx',\n",
              " 'CC.xlsx',\n",
              " 'BB.xlsx',\n",
              " 'Shade_AA.xlsx',\n",
              " 'Shade_CC.xlsx',\n",
              " 'Shade_DD.xlsx',\n",
              " 'Shade_BB.xlsx',\n",
              " 'AA.xlsx',\n",
              " 'AA_2.xlsx',\n",
              " 'Shad_A.xlsx',\n",
              " 'Shad_B.xlsx',\n",
              " 'Shad_C.xlsx',\n",
              " 'Shad_D.xlsx',\n",
              " 'Setting4.xlsx',\n",
              " 'Color-checkerAA.xlsx',\n",
              " 'Color-checkerBB.xlsx',\n",
              " 'Color-checkerCC.xlsx',\n",
              " 'Setting2.xlsx',\n",
              " 'D3set51.csv',\n",
              " 'Setting1.xlsx',\n",
              " 'CheckerDD.xlsx',\n",
              " 'Setting3.xlsx',\n",
              " 'Setting6.xlsx',\n",
              " 'Setting5.xlsx',\n",
              " 'checkerShad_A .xlsx',\n",
              " 'checkerShad_B.xlsx',\n",
              " 'checkerShad_C.xlsx',\n",
              " 'D3Set5-61.xlsx',\n",
              " 'checkerShad_D.xlsx',\n",
              " 'Color-checkerDD.xlsx',\n",
              " 'Datapoint_1.xlsx',\n",
              " 'Datapoint_2.xlsx',\n",
              " 'Datapoint_3.xlsx',\n",
              " 'Datapoint_4.xlsx',\n",
              " 'Datapoint_6.xlsx',\n",
              " 'Datapoint_5.xlsx']"
            ]
          },
          "metadata": {},
          "execution_count": 11
        }
      ]
    },
    {
      "cell_type": "code",
      "source": [
        "Set1 = os.path.join(path,'Datapoint_1.xlsx')\n",
        "print(Set1)"
      ],
      "metadata": {
        "id": "CMbG8rSdQIaw",
        "colab": {
          "base_uri": "https://localhost:8080/"
        },
        "outputId": "13540f68-10d0-4dd4-cd20-8e8035fd1b9a"
      },
      "execution_count": 12,
      "outputs": [
        {
          "output_type": "stream",
          "name": "stdout",
          "text": [
            "/content/drive/My Drive/shadeimg/SVM shade/Datapoint_1.xlsx\n"
          ]
        }
      ]
    },
    {
      "cell_type": "code",
      "source": [
        "Set2 = os.path.join(path,'Datapoint_2.xlsx')\n",
        "print(Set2)"
      ],
      "metadata": {
        "id": "SwX5IxeQQJk-",
        "colab": {
          "base_uri": "https://localhost:8080/"
        },
        "outputId": "b08362a0-ff11-4fd7-e45e-9297fad4bd7f"
      },
      "execution_count": 13,
      "outputs": [
        {
          "output_type": "stream",
          "name": "stdout",
          "text": [
            "/content/drive/My Drive/shadeimg/SVM shade/Datapoint_2.xlsx\n"
          ]
        }
      ]
    },
    {
      "cell_type": "code",
      "source": [
        "Set3 = os.path.join(path,'Datapoint_3.xlsx')\n",
        "print(Set3)"
      ],
      "metadata": {
        "id": "m2BCIcaIQLQK",
        "colab": {
          "base_uri": "https://localhost:8080/"
        },
        "outputId": "8c19cdc1-0d45-4d58-d67f-fee518da436f"
      },
      "execution_count": 14,
      "outputs": [
        {
          "output_type": "stream",
          "name": "stdout",
          "text": [
            "/content/drive/My Drive/shadeimg/SVM shade/Datapoint_3.xlsx\n"
          ]
        }
      ]
    },
    {
      "cell_type": "code",
      "source": [
        "Set4 = os.path.join(path,'Datapoint_4.xlsx')\n",
        "print(Set4)"
      ],
      "metadata": {
        "id": "JjNMYk0fQMha",
        "colab": {
          "base_uri": "https://localhost:8080/"
        },
        "outputId": "05bb9222-7626-4a2f-a624-9b7beed87068"
      },
      "execution_count": 15,
      "outputs": [
        {
          "output_type": "stream",
          "name": "stdout",
          "text": [
            "/content/drive/My Drive/shadeimg/SVM shade/Datapoint_4.xlsx\n"
          ]
        }
      ]
    },
    {
      "cell_type": "code",
      "source": [
        "Set5 = os.path.join(path,'Datapoint_5.xlsx')\n",
        "print(Set5)"
      ],
      "metadata": {
        "id": "YpXzpzEBQ0oT",
        "colab": {
          "base_uri": "https://localhost:8080/"
        },
        "outputId": "c58d3c28-c49c-454f-929e-174268b596ca"
      },
      "execution_count": 16,
      "outputs": [
        {
          "output_type": "stream",
          "name": "stdout",
          "text": [
            "/content/drive/My Drive/shadeimg/SVM shade/Datapoint_5.xlsx\n"
          ]
        }
      ]
    },
    {
      "cell_type": "code",
      "source": [
        "Set6 = os.path.join(path,'Datapoint_6.xlsx')\n",
        "print(Set6)"
      ],
      "metadata": {
        "id": "wd2Y2s-SQ3YD",
        "colab": {
          "base_uri": "https://localhost:8080/"
        },
        "outputId": "845e2ed9-c0c5-401a-87cb-59a8c1d4bfe6"
      },
      "execution_count": 17,
      "outputs": [
        {
          "output_type": "stream",
          "name": "stdout",
          "text": [
            "/content/drive/My Drive/shadeimg/SVM shade/Datapoint_6.xlsx\n"
          ]
        }
      ]
    },
    {
      "cell_type": "markdown",
      "source": [
        "#Data"
      ],
      "metadata": {
        "id": "MkXd0gi4lAJN"
      }
    },
    {
      "cell_type": "markdown",
      "source": [
        "A2"
      ],
      "metadata": {
        "id": "am5YPcQ-lCHt"
      }
    },
    {
      "cell_type": "code",
      "source": [
        "table_A2Set1 = pd.read_excel(Set1, sheet_name='A2_1')\n",
        "table_A2Set2 = pd.read_excel(Set2, sheet_name='A2_2')\n",
        "table_A2Set3 = pd.read_excel(Set3, sheet_name='A2_3')\n",
        "table_A2Set4 = pd.read_excel(Set4, sheet_name='A2_4')\n",
        "table_A2Set5 = pd.read_excel(Set5, sheet_name='A2_5')\n",
        "table_A2Set6 = pd.read_excel(Set6, sheet_name='A2_6')"
      ],
      "metadata": {
        "id": "ZXIlOdDxk0Zf"
      },
      "execution_count": 18,
      "outputs": []
    },
    {
      "cell_type": "code",
      "source": [
        "RGB_A2_Set1 = table_A2Set1\n",
        "RGB_A2_Set2 = table_A2Set2\n",
        "RGB_A2_Set3 = table_A2Set3\n",
        "RGB_A2_Set4 = table_A2Set4\n",
        "RGB_A2_Set6 = table_A2Set6"
      ],
      "metadata": {
        "id": "O6Tm9r7UlogO"
      },
      "execution_count": 19,
      "outputs": []
    },
    {
      "cell_type": "markdown",
      "source": [
        "A3"
      ],
      "metadata": {
        "id": "nuRUpDoalE1m"
      }
    },
    {
      "cell_type": "code",
      "source": [
        "table_A3Set1 = pd.read_excel(Set1, sheet_name='A3_1')\n",
        "table_A3Set2 = pd.read_excel(Set2, sheet_name='A3_2')\n",
        "table_A3Set3 = pd.read_excel(Set3, sheet_name='A3_3')\n",
        "table_A3Set4 = pd.read_excel(Set4, sheet_name='A3_4')\n",
        "table_A3Set5 = pd.read_excel(Set5, sheet_name='A3_5')\n",
        "table_A3Set6 = pd.read_excel(Set6, sheet_name='A3_6')"
      ],
      "metadata": {
        "id": "7zjYniMHlDZE"
      },
      "execution_count": 20,
      "outputs": []
    },
    {
      "cell_type": "code",
      "source": [
        "RGB_A3_Set1 = table_A3Set1\n",
        "RGB_A3_Set2 = table_A3Set2\n",
        "RGB_A3_Set3 = table_A3Set3\n",
        "RGB_A3_Set4 = table_A3Set4\n",
        "RGB_A3_Set6 = table_A3Set6"
      ],
      "metadata": {
        "id": "TMdizlI8mLjK"
      },
      "execution_count": 21,
      "outputs": []
    },
    {
      "cell_type": "markdown",
      "source": [
        "A4"
      ],
      "metadata": {
        "id": "ESK1pj4GlKQ4"
      }
    },
    {
      "cell_type": "code",
      "source": [
        "table_A4Set1 = pd.read_excel(Set1, sheet_name='A4_1')\n",
        "table_A4Set2 = pd.read_excel(Set2, sheet_name='A4_2')\n",
        "table_A4Set3 = pd.read_excel(Set3, sheet_name='A4_3')\n",
        "table_A4Set4 = pd.read_excel(Set4, sheet_name='A4_4')\n",
        "table_A4Set5 = pd.read_excel(Set5, sheet_name='A4_5')\n",
        "table_A4Set6 = pd.read_excel(Set6, sheet_name='A4_6')"
      ],
      "metadata": {
        "id": "U7ZIO_oplQkN"
      },
      "execution_count": 22,
      "outputs": []
    },
    {
      "cell_type": "code",
      "source": [
        "RGB_A4_Set1 = table_A4Set1\n",
        "RGB_A4_Set2 = table_A4Set2\n",
        "RGB_A4_Set3 = table_A4Set3\n",
        "RGB_A4_Set4 = table_A4Set4\n",
        "RGB_A4_Set6 = table_A4Set6"
      ],
      "metadata": {
        "id": "3HetUP0OmQqn"
      },
      "execution_count": 23,
      "outputs": []
    },
    {
      "cell_type": "markdown",
      "source": [
        "C2"
      ],
      "metadata": {
        "id": "-yLgmo66lWGq"
      }
    },
    {
      "cell_type": "code",
      "source": [
        "table_C2Set1 = pd.read_excel(Set1, sheet_name='C2_1')\n",
        "table_C2Set2 = pd.read_excel(Set2, sheet_name='C2_2')\n",
        "table_C2Set3 = pd.read_excel(Set3, sheet_name='C2_3')\n",
        "table_C2Set4 = pd.read_excel(Set4, sheet_name='C2_4')\n",
        "table_C2Set5 = pd.read_excel(Set5, sheet_name='C2_5')\n",
        "table_C2Set6 = pd.read_excel(Set6, sheet_name='C2_6')"
      ],
      "metadata": {
        "id": "MInP8IS6lXx4"
      },
      "execution_count": 24,
      "outputs": []
    },
    {
      "cell_type": "code",
      "source": [
        "RGB_C2_Set1 = table_C2Set1\n",
        "RGB_C2_Set2 = table_C2Set2\n",
        "RGB_C2_Set3 = table_C2Set3\n",
        "RGB_C2_Set4 = table_C2Set4\n",
        "RGB_C2_Set6 = table_C2Set6"
      ],
      "metadata": {
        "id": "9SuezECzmVQT"
      },
      "execution_count": 25,
      "outputs": []
    },
    {
      "cell_type": "markdown",
      "source": [
        "D4"
      ],
      "metadata": {
        "id": "tu1sRFdllfDe"
      }
    },
    {
      "cell_type": "code",
      "source": [
        "table_D4Set1 = pd.read_excel(Set1, sheet_name='D4_1')\n",
        "table_D4Set2 = pd.read_excel(Set2, sheet_name='D4_2')\n",
        "table_D4Set3 = pd.read_excel(Set3, sheet_name='D4_3')\n",
        "table_D4Set4 = pd.read_excel(Set4, sheet_name='D4_4')\n",
        "table_D4Set5 = pd.read_excel(Set5, sheet_name='D4_5')\n",
        "table_D4Set6 = pd.read_excel(Set6, sheet_name='D4_6')"
      ],
      "metadata": {
        "id": "FvUBT1tJlf3E"
      },
      "execution_count": 26,
      "outputs": []
    },
    {
      "cell_type": "code",
      "source": [
        "RGB_D4_Set1 = table_D4Set1\n",
        "RGB_D4_Set2 = table_D4Set2\n",
        "RGB_D4_Set3 = table_D4Set3\n",
        "RGB_D4_Set4 = table_D4Set4\n",
        "RGB_D4_Set6 = table_D4Set6"
      ],
      "metadata": {
        "id": "JkqODuhSmZPc"
      },
      "execution_count": 27,
      "outputs": []
    },
    {
      "cell_type": "markdown",
      "source": [
        "#RF ref"
      ],
      "metadata": {
        "id": "Hg9Wsid2jkFO"
      }
    },
    {
      "cell_type": "markdown",
      "source": [
        "##RGB A2"
      ],
      "metadata": {
        "id": "k5C-Gdw9jl5w"
      }
    },
    {
      "cell_type": "code",
      "source": [
        "RF1 = RandomForestClassifier()"
      ],
      "metadata": {
        "id": "GSX1Lt1ijcrw"
      },
      "execution_count": 28,
      "outputs": []
    },
    {
      "cell_type": "code",
      "source": [
        "RGB_A2_RF_ref = table_A2Set5"
      ],
      "metadata": {
        "id": "e8d3-PVQl-Jy"
      },
      "execution_count": 29,
      "outputs": []
    },
    {
      "cell_type": "code",
      "source": [
        "RGB_A2_RF_ref = RGB_A2_RF_ref.drop(['H-ref','S-ref','V-ref','H-Shad','S-Shad','V-Shad','Setting','Ref','Shad','Img'], axis=1)"
      ],
      "metadata": {
        "id": "rUX2oMyyo0Ys"
      },
      "execution_count": 30,
      "outputs": []
    },
    {
      "cell_type": "code",
      "source": [
        "RGB_A2_concat = pd.concat([RGB_A2_Set1,RGB_A2_Set2,RGB_A2_Set3,RGB_A2_Set4,RGB_A2_Set6])"
      ],
      "metadata": {
        "id": "BqcjcRdZnzdf"
      },
      "execution_count": 31,
      "outputs": []
    },
    {
      "cell_type": "code",
      "source": [
        "RGB_A2_concat_RF_ref = RGB_A2_concat.drop(['H-ref','S-ref','V-ref','H-Shad','S-Shad','V-Shad','Setting','Ref','Shad','Img'], axis=1)"
      ],
      "metadata": {
        "id": "WD_34cCCoHaA"
      },
      "execution_count": 32,
      "outputs": []
    },
    {
      "cell_type": "code",
      "source": [
        "X_test_RGB_A2_RF_ref = np.array(RGB_A2_RF_ref)"
      ],
      "metadata": {
        "id": "GwsJ3hmqo-CM"
      },
      "execution_count": 33,
      "outputs": []
    },
    {
      "cell_type": "code",
      "source": [
        "y_RGB_A2_RF_ref =  table_A2Set5.iloc[:,14:15]"
      ],
      "metadata": {
        "id": "ggXftwqipJHH"
      },
      "execution_count": 34,
      "outputs": []
    },
    {
      "cell_type": "code",
      "source": [
        "y_test_RGB_A2_RF_ref = np.array(y_RGB_A2_RF_ref)"
      ],
      "metadata": {
        "id": "AO5HO_G9pSLW"
      },
      "execution_count": 35,
      "outputs": []
    },
    {
      "cell_type": "code",
      "source": [
        "X_train_RGB_A2_RF_ref = np.array(RGB_A2_concat_RF_ref)"
      ],
      "metadata": {
        "id": "S-9QkOWopXDQ"
      },
      "execution_count": 36,
      "outputs": []
    },
    {
      "cell_type": "code",
      "source": [
        "y_train_A2RGB_RF_ref = RGB_A2_concat.iloc[:,14:15]"
      ],
      "metadata": {
        "id": "vkrSiHNLpfWD"
      },
      "execution_count": 37,
      "outputs": []
    },
    {
      "cell_type": "code",
      "source": [
        "y_train_A2_RGB_RF_ref = np.array(y_train_A2RGB_RF_ref)"
      ],
      "metadata": {
        "id": "uaWJDnoiphS6"
      },
      "execution_count": 38,
      "outputs": []
    },
    {
      "cell_type": "code",
      "source": [
        "y_train_A2_RGB_RF_ref.shape = (len(y_train_A2_RGB_RF_ref,))"
      ],
      "metadata": {
        "id": "Fyovo7KSpo5d"
      },
      "execution_count": 39,
      "outputs": []
    },
    {
      "cell_type": "code",
      "source": [
        "RF1.fit(X_train_RGB_A2_RF_ref, y_train_A2_RGB_RF_ref)"
      ],
      "metadata": {
        "colab": {
          "base_uri": "https://localhost:8080/"
        },
        "id": "YHWMTRJHptPZ",
        "outputId": "f3029e30-838b-4e05-8cd8-78ac81ee1522"
      },
      "execution_count": 40,
      "outputs": [
        {
          "output_type": "execute_result",
          "data": {
            "text/plain": [
              "RandomForestClassifier()"
            ]
          },
          "metadata": {},
          "execution_count": 40
        }
      ]
    },
    {
      "cell_type": "code",
      "source": [
        "y_pred_A2_RF_ref = RF1.predict(X_test_RGB_A2_RF_ref)"
      ],
      "metadata": {
        "id": "qjVMNKOmpzD3"
      },
      "execution_count": 41,
      "outputs": []
    },
    {
      "cell_type": "code",
      "source": [
        "AC_RGB_RF_ref = metrics.accuracy_score(y_test_RGB_A2_RF_ref, y_pred_A2_RF_ref)"
      ],
      "metadata": {
        "id": "aBgvP8Fup8x7"
      },
      "execution_count": 42,
      "outputs": []
    },
    {
      "cell_type": "markdown",
      "source": [
        "##HSV A3"
      ],
      "metadata": {
        "id": "_VqMECUnjpAV"
      }
    },
    {
      "cell_type": "code",
      "source": [
        "RF2 = RandomForestClassifier()"
      ],
      "metadata": {
        "id": "iEQoiTS8mfjL"
      },
      "execution_count": 43,
      "outputs": []
    },
    {
      "cell_type": "code",
      "source": [
        "HSV_A3_RF_ref = table_A3Set5"
      ],
      "metadata": {
        "id": "OFPjbxPLklWV"
      },
      "execution_count": 44,
      "outputs": []
    },
    {
      "cell_type": "code",
      "source": [
        "HSV_A3_RF_ref = HSV_A3_RF_ref.drop(['R-ref','G-ref','B-ref','R-Shad','G-Shad','B-Shad','Setting','Ref','Shad','Img'], axis=1)"
      ],
      "metadata": {
        "id": "KIssqW7DoS44"
      },
      "execution_count": 45,
      "outputs": []
    },
    {
      "cell_type": "code",
      "source": [
        "HSV_A3_concat = pd.concat([RGB_A2_Set1,RGB_A2_Set2,RGB_A2_Set3,RGB_A2_Set4,RGB_A2_Set6])"
      ],
      "metadata": {
        "id": "21eKNElAoIqR"
      },
      "execution_count": 46,
      "outputs": []
    },
    {
      "cell_type": "code",
      "source": [
        "HSV_A3_concat_RF_ref = HSV_A3_concat.drop(['R-ref','G-ref','B-ref','R-Shad','G-Shad','B-Shad','Setting','Ref','Shad','Img'], axis=1)"
      ],
      "metadata": {
        "id": "W9TqpxvaoQKV"
      },
      "execution_count": 47,
      "outputs": []
    },
    {
      "cell_type": "code",
      "source": [
        "X_test_HSV_A3_RF_ref = np.array(HSV_A3_RF_ref)"
      ],
      "metadata": {
        "id": "xY04KTE6oxq8"
      },
      "execution_count": 156,
      "outputs": []
    },
    {
      "cell_type": "code",
      "source": [
        "y_HSV_A3_RF_ref =  table_A3Set5.iloc[:,14:15]"
      ],
      "metadata": {
        "id": "6XPcu_ZiqS9f"
      },
      "execution_count": 49,
      "outputs": []
    },
    {
      "cell_type": "code",
      "source": [
        "y_test_HSV_A3_RF_ref = np.array(y_HSV_A3_RF_ref)"
      ],
      "metadata": {
        "id": "E7H1Y3_dqS9g"
      },
      "execution_count": 50,
      "outputs": []
    },
    {
      "cell_type": "code",
      "source": [
        "X_train_HSV_A3_RF_ref = np.array(HSV_A3_concat_RF_ref)"
      ],
      "metadata": {
        "id": "jjLW71RlqS9g"
      },
      "execution_count": 51,
      "outputs": []
    },
    {
      "cell_type": "code",
      "source": [
        "y_train_A3HSV_RF_ref = HSV_A3_concat.iloc[:,14:15]"
      ],
      "metadata": {
        "id": "xcytID3mqS9g"
      },
      "execution_count": 52,
      "outputs": []
    },
    {
      "cell_type": "code",
      "source": [
        "y_train_A3_HSV_RF_ref = np.array(y_train_A3HSV_RF_ref)"
      ],
      "metadata": {
        "id": "XgucPP4lqS9g"
      },
      "execution_count": 53,
      "outputs": []
    },
    {
      "cell_type": "code",
      "source": [
        "y_train_A3_HSV_RF_ref.shape = (len(y_train_A3_HSV_RF_ref,))"
      ],
      "metadata": {
        "id": "IpU9qrpEqS9g"
      },
      "execution_count": 54,
      "outputs": []
    },
    {
      "cell_type": "code",
      "source": [
        "RF2.fit(X_train_HSV_A3_RF_ref, y_train_A3_HSV_RF_ref)"
      ],
      "metadata": {
        "colab": {
          "base_uri": "https://localhost:8080/"
        },
        "id": "iJ2b8N8wqS9h",
        "outputId": "fbec58ef-72f3-43a5-f7c6-3fa2389486d0"
      },
      "execution_count": 55,
      "outputs": [
        {
          "output_type": "execute_result",
          "data": {
            "text/plain": [
              "RandomForestClassifier()"
            ]
          },
          "metadata": {},
          "execution_count": 55
        }
      ]
    },
    {
      "cell_type": "code",
      "source": [
        "y_pred_A3_RF_ref = RF2.predict(X_test_HSV_A3_RF_ref)"
      ],
      "metadata": {
        "id": "d6FwLFpOqS9h"
      },
      "execution_count": 158,
      "outputs": []
    },
    {
      "cell_type": "code",
      "source": [
        "AC_HSV_RF_ref = metrics.accuracy_score(y_test_HSV_A3_RF_ref, y_pred_A3_RF_ref)"
      ],
      "metadata": {
        "id": "MKPJyg_2qS9h"
      },
      "execution_count": 159,
      "outputs": []
    },
    {
      "cell_type": "markdown",
      "source": [
        "#RF no ref"
      ],
      "metadata": {
        "id": "WJDkFryBjrL0"
      }
    },
    {
      "cell_type": "markdown",
      "source": [
        "##RGB A3"
      ],
      "metadata": {
        "id": "fpupOfirjs93"
      }
    },
    {
      "cell_type": "code",
      "source": [
        "RF3 = RandomForestClassifier()"
      ],
      "metadata": {
        "id": "bbKqZqL4kl1X"
      },
      "execution_count": 59,
      "outputs": []
    },
    {
      "cell_type": "code",
      "source": [
        "RGB_A3_RF_noref = table_A3Set5"
      ],
      "metadata": {
        "id": "m2jNxbsQmnLo"
      },
      "execution_count": 60,
      "outputs": []
    },
    {
      "cell_type": "code",
      "source": [
        "RGB_A3_RF_noref = RGB_A3_RF_noref.drop(['R-ref','G-ref','B-ref','H-ref','S-ref','V-ref','H-Shad','S-Shad','V-Shad','Setting','Ref','Shad','Img'], axis=1)"
      ],
      "metadata": {
        "id": "t5JZJj8UtPDT"
      },
      "execution_count": 62,
      "outputs": []
    },
    {
      "cell_type": "code",
      "source": [
        "RGB_A3_concat = pd.concat([RGB_A3_Set1,RGB_A3_Set2,RGB_A3_Set3,RGB_A3_Set4,RGB_A3_Set6])"
      ],
      "metadata": {
        "id": "lAEI_PfytPDT"
      },
      "execution_count": 66,
      "outputs": []
    },
    {
      "cell_type": "code",
      "source": [
        "RGB_A3_concat_RF_noref = RGB_A3_concat.drop(['R-ref','G-ref','B-ref','H-ref','S-ref','V-ref','H-Shad','S-Shad','V-Shad','Setting','Ref','Shad','Img'], axis=1)"
      ],
      "metadata": {
        "id": "1J3Wz5SstPDT"
      },
      "execution_count": 67,
      "outputs": []
    },
    {
      "cell_type": "code",
      "source": [
        "X_test_RGB_A3_RF_noref = np.array(RGB_A3_RF_noref)"
      ],
      "metadata": {
        "id": "QXwf6cuKtPDT"
      },
      "execution_count": 68,
      "outputs": []
    },
    {
      "cell_type": "code",
      "source": [
        "y_RGB_A3_RF_noref =  table_A3Set5.iloc[:,14:15]"
      ],
      "metadata": {
        "id": "v6g0-NMEtPDU"
      },
      "execution_count": 69,
      "outputs": []
    },
    {
      "cell_type": "code",
      "source": [
        "y_test_RGB_A3_RF_noref = np.array(y_RGB_A3_RF_noref)"
      ],
      "metadata": {
        "id": "qM9BpqUKtPDU"
      },
      "execution_count": 70,
      "outputs": []
    },
    {
      "cell_type": "code",
      "source": [
        "X_train_RGB_A3_RF_noref = np.array(RGB_A3_concat_RF_noref)"
      ],
      "metadata": {
        "id": "-4RYEqe5tPDU"
      },
      "execution_count": 71,
      "outputs": []
    },
    {
      "cell_type": "code",
      "source": [
        "y_train_A3RGB_RF_noref = RGB_A3_concat.iloc[:,14:15]"
      ],
      "metadata": {
        "id": "KL1HsaaxtPDU"
      },
      "execution_count": 72,
      "outputs": []
    },
    {
      "cell_type": "code",
      "source": [
        "y_train_A3_RGB_RF_noref= np.array(y_train_A3RGB_RF_noref)"
      ],
      "metadata": {
        "id": "6ISqJjA7tPDU"
      },
      "execution_count": 73,
      "outputs": []
    },
    {
      "cell_type": "code",
      "source": [
        "y_train_A3_RGB_RF_noref.shape = (len(y_train_A3_RGB_RF_noref,))"
      ],
      "metadata": {
        "id": "awpqKvR5tPDU"
      },
      "execution_count": 74,
      "outputs": []
    },
    {
      "cell_type": "code",
      "source": [
        "RF3.fit(X_train_RGB_A3_RF_noref, y_train_A3_RGB_RF_noref)"
      ],
      "metadata": {
        "colab": {
          "base_uri": "https://localhost:8080/"
        },
        "id": "nFhsTruTtPDU",
        "outputId": "a9c9db80-06d2-4b06-b04a-ac4bba1ff74f"
      },
      "execution_count": 75,
      "outputs": [
        {
          "output_type": "execute_result",
          "data": {
            "text/plain": [
              "RandomForestClassifier()"
            ]
          },
          "metadata": {},
          "execution_count": 75
        }
      ]
    },
    {
      "cell_type": "code",
      "source": [
        "y_pred_A3_RF_noref = RF3.predict(X_test_RGB_A3_RF_noref)"
      ],
      "metadata": {
        "id": "qroaUEeUtPDU"
      },
      "execution_count": 76,
      "outputs": []
    },
    {
      "cell_type": "code",
      "source": [
        "AC_RGB_RF_noref = metrics.accuracy_score(y_test_RGB_A3_RF_noref, y_pred_A3_RF_noref)"
      ],
      "metadata": {
        "id": "Airci4IctPDU"
      },
      "execution_count": 77,
      "outputs": []
    },
    {
      "cell_type": "markdown",
      "source": [
        "##HSV A3"
      ],
      "metadata": {
        "id": "W_jzhsfWjums"
      }
    },
    {
      "cell_type": "code",
      "source": [
        "RF4 = RandomForestClassifier()"
      ],
      "metadata": {
        "id": "T26DoYa3kmLl"
      },
      "execution_count": 78,
      "outputs": []
    },
    {
      "cell_type": "code",
      "source": [
        "HSV_A3_RF_noref = table_A3Set5"
      ],
      "metadata": {
        "id": "n1mKORrkmp8q"
      },
      "execution_count": 79,
      "outputs": []
    },
    {
      "cell_type": "code",
      "source": [
        "HSV_A3_RF_noref = HSV_A3_RF_noref.drop(['R-ref','G-ref','B-ref','R-Shad','G-Shad','B-Shad','H-ref','S-ref','V-ref','Setting','Ref','Shad','Img'], axis=1)"
      ],
      "metadata": {
        "id": "zKjLAoBptmWw"
      },
      "execution_count": 80,
      "outputs": []
    },
    {
      "cell_type": "code",
      "source": [
        "HSV_A3_concat = pd.concat([RGB_A3_Set1,RGB_A3_Set2,RGB_A3_Set3,RGB_A3_Set4,RGB_A3_Set6])"
      ],
      "metadata": {
        "id": "iPiOiaIMtmWw"
      },
      "execution_count": 81,
      "outputs": []
    },
    {
      "cell_type": "code",
      "source": [
        "HSV_A3_concat_RF_noref = HSV_A3_concat.drop(['R-ref','G-ref','B-ref','R-Shad','G-Shad','B-Shad','H-ref','S-ref','V-ref','Setting','Ref','Shad','Img'], axis=1)"
      ],
      "metadata": {
        "id": "X7nYHN6AtmWw"
      },
      "execution_count": 82,
      "outputs": []
    },
    {
      "cell_type": "code",
      "source": [
        "X_test_HSV_A3_RF_noref = np.array(HSV_A3_RF_noref)"
      ],
      "metadata": {
        "id": "vof1HrWPtmWw"
      },
      "execution_count": 83,
      "outputs": []
    },
    {
      "cell_type": "code",
      "source": [
        "y_HSV_A3_RF_noref =  table_A3Set5.iloc[:,14:15]"
      ],
      "metadata": {
        "id": "pyQa0XAHtmWx"
      },
      "execution_count": 84,
      "outputs": []
    },
    {
      "cell_type": "code",
      "source": [
        "y_test_HSV_A3_RF_noref = np.array(y_HSV_A3_RF_noref)"
      ],
      "metadata": {
        "id": "5o-XND_7tmWx"
      },
      "execution_count": 85,
      "outputs": []
    },
    {
      "cell_type": "code",
      "source": [
        "X_train_HSV_A3_RF_noref = np.array(HSV_A3_concat_RF_noref)"
      ],
      "metadata": {
        "id": "aEcYwFlNtmWx"
      },
      "execution_count": 86,
      "outputs": []
    },
    {
      "cell_type": "code",
      "source": [
        "y_train_A3HSV_RF_noref = HSV_A3_concat.iloc[:,14:15]"
      ],
      "metadata": {
        "id": "H9Ak1mK0tmWx"
      },
      "execution_count": 87,
      "outputs": []
    },
    {
      "cell_type": "code",
      "source": [
        "y_train_A3_HSV_RF_noref = np.array(y_train_A3HSV_RF_noref)"
      ],
      "metadata": {
        "id": "ysB3qGiWtmWx"
      },
      "execution_count": 88,
      "outputs": []
    },
    {
      "cell_type": "code",
      "source": [
        "y_train_A3_HSV_RF_noref.shape = (len(y_train_A3_HSV_RF_noref,))"
      ],
      "metadata": {
        "id": "Ks53kfZftmWx"
      },
      "execution_count": 89,
      "outputs": []
    },
    {
      "cell_type": "code",
      "source": [
        "RF4.fit(X_train_HSV_A3_RF_noref, y_train_A3_HSV_RF_noref)"
      ],
      "metadata": {
        "colab": {
          "base_uri": "https://localhost:8080/"
        },
        "id": "KocQrf9PtmWx",
        "outputId": "9844b0a5-31d1-4cfe-c292-5ff42e00866a"
      },
      "execution_count": 90,
      "outputs": [
        {
          "output_type": "execute_result",
          "data": {
            "text/plain": [
              "RandomForestClassifier()"
            ]
          },
          "metadata": {},
          "execution_count": 90
        }
      ]
    },
    {
      "cell_type": "code",
      "source": [
        "y_pred_A3_RF_noref = RF4.predict(X_test_HSV_A3_RF_noref)"
      ],
      "metadata": {
        "id": "q0cO18bctmWx"
      },
      "execution_count": 91,
      "outputs": []
    },
    {
      "cell_type": "code",
      "source": [
        "AC_HSV_RF_noref = metrics.accuracy_score(y_test_HSV_A3_RF_noref, y_pred_A3_RF_noref)"
      ],
      "metadata": {
        "id": "BXtH2joEtmWx"
      },
      "execution_count": 92,
      "outputs": []
    },
    {
      "cell_type": "markdown",
      "source": [
        "#SVM ref"
      ],
      "metadata": {
        "id": "qQ6byqlMjzZT"
      }
    },
    {
      "cell_type": "markdown",
      "source": [
        "##RGB C2 "
      ],
      "metadata": {
        "id": "hgGCpu1Fj17W"
      }
    },
    {
      "cell_type": "code",
      "source": [
        "SVM1 = svm.SVC()"
      ],
      "metadata": {
        "id": "dyXkc4lkknK1"
      },
      "execution_count": 331,
      "outputs": []
    },
    {
      "cell_type": "code",
      "source": [
        "RGB_C2_SVM_ref = table_C2Set5"
      ],
      "metadata": {
        "id": "MWaNqKESnK8b"
      },
      "execution_count": 332,
      "outputs": []
    },
    {
      "cell_type": "code",
      "source": [
        "RGB_C2_SVM_ref = RGB_C2_SVM_ref.drop(['H-ref','S-ref','V-ref','H-Shad','S-Shad','V-Shad','Setting','Ref','Shad','Img'], axis=1)"
      ],
      "metadata": {
        "id": "5kJxx63Xq7Xx"
      },
      "execution_count": 333,
      "outputs": []
    },
    {
      "cell_type": "code",
      "source": [
        "RGB_C2_concat = pd.concat([RGB_C2_Set1,RGB_C2_Set2,RGB_C2_Set3,RGB_C2_Set4,RGB_C2_Set6])"
      ],
      "metadata": {
        "id": "sfmqIZHkq7Xy"
      },
      "execution_count": 334,
      "outputs": []
    },
    {
      "cell_type": "code",
      "source": [
        "RGB_C2_concat_SVM_ref = RGB_C2_concat.drop(['H-ref','S-ref','V-ref','H-Shad','S-Shad','V-Shad','Setting','Ref','Shad','Img'], axis=1)"
      ],
      "metadata": {
        "id": "eFfBhWQdq7Xy"
      },
      "execution_count": 335,
      "outputs": []
    },
    {
      "cell_type": "code",
      "source": [
        "X_test_RGB_C2_SVM_ref = np.array(RGB_C2_SVM_ref)"
      ],
      "metadata": {
        "id": "GTVCf3PDq7Xy"
      },
      "execution_count": 336,
      "outputs": []
    },
    {
      "cell_type": "code",
      "source": [
        "y_RGB_C2_SVM_ref =  table_C2Set5.iloc[:,14:15]"
      ],
      "metadata": {
        "id": "r7x1W8E7q7Xy"
      },
      "execution_count": 337,
      "outputs": []
    },
    {
      "cell_type": "code",
      "source": [
        "y_test_RGB_C2_SVM_ref = np.array(y_RGB_C2_SVM_ref)"
      ],
      "metadata": {
        "id": "h626P_acq7Xy"
      },
      "execution_count": 338,
      "outputs": []
    },
    {
      "cell_type": "code",
      "source": [
        "X_train_RGB_C2_SVM_ref = np.array(RGB_C2_concat_SVM_ref)"
      ],
      "metadata": {
        "id": "nEI7ohdHq7Xy"
      },
      "execution_count": 339,
      "outputs": []
    },
    {
      "cell_type": "code",
      "source": [
        "y_train_C2RGB_SVM_ref = RGB_C2_concat.iloc[:,14:15]"
      ],
      "metadata": {
        "id": "FfwZzXEOq7Xy"
      },
      "execution_count": 340,
      "outputs": []
    },
    {
      "cell_type": "code",
      "source": [
        "y_train_C2_RGB_SVM_ref = np.array(y_train_C2RGB_SVM_ref)"
      ],
      "metadata": {
        "id": "G8t3u7LRq7Xy"
      },
      "execution_count": 341,
      "outputs": []
    },
    {
      "cell_type": "code",
      "source": [
        "y_train_C2_RGB_SVM_ref.shape = (len(y_train_C2_RGB_SVM_ref,))"
      ],
      "metadata": {
        "id": "X3MU-q3_q7Xy"
      },
      "execution_count": 342,
      "outputs": []
    },
    {
      "cell_type": "code",
      "source": [
        "SVM1.fit(X_train_RGB_C2_SVM_ref, y_train_C2_RGB_SVM_ref)"
      ],
      "metadata": {
        "colab": {
          "base_uri": "https://localhost:8080/"
        },
        "id": "TcTuTdJPq7Xz",
        "outputId": "4044dab9-86ca-4e22-97f9-f745457ba6a3"
      },
      "execution_count": 343,
      "outputs": [
        {
          "output_type": "execute_result",
          "data": {
            "text/plain": [
              "SVC()"
            ]
          },
          "metadata": {},
          "execution_count": 343
        }
      ]
    },
    {
      "cell_type": "code",
      "source": [
        "y_pred_C2_SVM_ref = SVM1.predict(X_test_RGB_C2_SVM_ref)"
      ],
      "metadata": {
        "id": "C8p9zrk8q7Xz"
      },
      "execution_count": 344,
      "outputs": []
    },
    {
      "cell_type": "code",
      "source": [
        "AC_RGB_SVM_ref = metrics.accuracy_score(y_test_RGB_C2_SVM_ref, y_pred_C2_SVM_ref)"
      ],
      "metadata": {
        "id": "DqbRiGa7q7Xz"
      },
      "execution_count": 345,
      "outputs": []
    },
    {
      "cell_type": "markdown",
      "source": [
        "##HSV A4"
      ],
      "metadata": {
        "id": "_xA_izGRj5_a"
      }
    },
    {
      "cell_type": "code",
      "source": [
        "SVM2 = svm.SVC()"
      ],
      "metadata": {
        "id": "SzKokn3zknuc"
      },
      "execution_count": 346,
      "outputs": []
    },
    {
      "cell_type": "code",
      "source": [
        "HSV_A4_SVM_ref = table_A4Set5"
      ],
      "metadata": {
        "id": "OlgYfQQcnieA"
      },
      "execution_count": 347,
      "outputs": []
    },
    {
      "cell_type": "code",
      "source": [
        "HSV_A4_SVM_ref = HSV_A4_SVM_ref.drop(['R-ref','G-ref','B-ref','R-Shad','G-Shad','B-Shad','Setting','Ref','Shad','Img'], axis=1)"
      ],
      "metadata": {
        "id": "RatGuoGErqu1"
      },
      "execution_count": 348,
      "outputs": []
    },
    {
      "cell_type": "code",
      "source": [
        "HSV_A4_concat = pd.concat([RGB_A4_Set1,RGB_A4_Set2,RGB_A4_Set3,RGB_A4_Set4,RGB_A4_Set6])"
      ],
      "metadata": {
        "id": "_eZ3UhOxrqu1"
      },
      "execution_count": 349,
      "outputs": []
    },
    {
      "cell_type": "code",
      "source": [
        "HSV_A4_concat_SVM_ref = HSV_A4_concat.drop(['R-ref','G-ref','B-ref','R-Shad','G-Shad','B-Shad','Setting','Ref','Shad','Img'], axis=1)"
      ],
      "metadata": {
        "id": "kr8UuVHnrqu1"
      },
      "execution_count": 350,
      "outputs": []
    },
    {
      "cell_type": "code",
      "source": [
        "X_test_HSV_A4_SVM_ref = np.array(HSV_A4_SVM_ref)"
      ],
      "metadata": {
        "id": "YlyUTjU4rqu1"
      },
      "execution_count": 351,
      "outputs": []
    },
    {
      "cell_type": "code",
      "source": [
        "y_HSV_A4_SVM_ref =  table_A4Set5.iloc[:,14:15]"
      ],
      "metadata": {
        "id": "cXXWNi8Zrqu1"
      },
      "execution_count": 352,
      "outputs": []
    },
    {
      "cell_type": "code",
      "source": [
        "y_test_HSV_A4_SVM_ref = np.array(y_HSV_A4_SVM_ref)"
      ],
      "metadata": {
        "id": "VoKQSwHLrqu1"
      },
      "execution_count": 353,
      "outputs": []
    },
    {
      "cell_type": "code",
      "source": [
        "X_train_HSV_A4_SVM_ref = np.array(HSV_A4_concat_SVM_ref)"
      ],
      "metadata": {
        "id": "DuGkGOggrqu1"
      },
      "execution_count": 354,
      "outputs": []
    },
    {
      "cell_type": "code",
      "source": [
        "y_train_A4HSV_SVM_ref = HSV_A4_concat.iloc[:,14:15]"
      ],
      "metadata": {
        "id": "FM6KKH6Xrqu2"
      },
      "execution_count": 355,
      "outputs": []
    },
    {
      "cell_type": "code",
      "source": [
        "y_train_A4_HSV_SVM_ref = np.array(y_train_A4HSV_SVM_ref)"
      ],
      "metadata": {
        "id": "ZJ5TEPCSrqu2"
      },
      "execution_count": 356,
      "outputs": []
    },
    {
      "cell_type": "code",
      "source": [
        "y_train_A4_HSV_SVM_ref.shape = (len(y_train_A4_HSV_SVM_ref,))"
      ],
      "metadata": {
        "id": "OhzoCIu-rqu2"
      },
      "execution_count": 357,
      "outputs": []
    },
    {
      "cell_type": "code",
      "source": [
        "SVM2.fit(X_train_HSV_A4_SVM_ref, y_train_A4_HSV_SVM_ref)"
      ],
      "metadata": {
        "colab": {
          "base_uri": "https://localhost:8080/"
        },
        "id": "BEY2yKfKrqu2",
        "outputId": "1e911a61-2528-41d7-e5f1-dbbee241491b"
      },
      "execution_count": 358,
      "outputs": [
        {
          "output_type": "execute_result",
          "data": {
            "text/plain": [
              "SVC()"
            ]
          },
          "metadata": {},
          "execution_count": 358
        }
      ]
    },
    {
      "cell_type": "code",
      "source": [
        "y_pred_A4_SVM_ref = SVM2.predict(X_test_HSV_A4_SVM_ref)"
      ],
      "metadata": {
        "id": "hhuOTksGrqu2"
      },
      "execution_count": 359,
      "outputs": []
    },
    {
      "cell_type": "code",
      "source": [
        "AC_HSV_SVM_ref = metrics.accuracy_score(y_test_HSV_A4_SVM_ref, y_pred_A4_SVM_ref)"
      ],
      "metadata": {
        "id": "0_shuopArqu2"
      },
      "execution_count": 360,
      "outputs": []
    },
    {
      "cell_type": "markdown",
      "source": [
        "#SVM no ref"
      ],
      "metadata": {
        "id": "gpSft08Wj8lt"
      }
    },
    {
      "cell_type": "markdown",
      "source": [
        "##RGB A3"
      ],
      "metadata": {
        "id": "D653Sl2Gj_PP"
      }
    },
    {
      "cell_type": "code",
      "source": [
        "SVM3 = svm.SVC()"
      ],
      "metadata": {
        "id": "NnZONbbHkoH2"
      },
      "execution_count": 361,
      "outputs": []
    },
    {
      "cell_type": "code",
      "source": [
        "RGB_A3_SVM_noref = table_A3Set5"
      ],
      "metadata": {
        "id": "WVVqnNKinOeC"
      },
      "execution_count": 362,
      "outputs": []
    },
    {
      "cell_type": "code",
      "source": [
        "RGB_A3_SVM_noref = RGB_A3_SVM_noref.drop(['R-ref','G-ref','B-ref','H-ref','S-ref','V-ref','H-Shad','S-Shad','V-Shad','Setting','Ref','Shad','Img'], axis=1)"
      ],
      "metadata": {
        "id": "stmKGuW7usnh"
      },
      "execution_count": 363,
      "outputs": []
    },
    {
      "cell_type": "code",
      "source": [
        "RGB_A3_concat = pd.concat([RGB_A3_Set1,RGB_A3_Set2,RGB_A3_Set3,RGB_A3_Set4,RGB_A3_Set6])"
      ],
      "metadata": {
        "id": "JnvaD8MNusnh"
      },
      "execution_count": 364,
      "outputs": []
    },
    {
      "cell_type": "code",
      "source": [
        "RGB_A3_concat_SVM_noref = RGB_A3_concat.drop(['R-ref','G-ref','B-ref','H-ref','S-ref','V-ref','H-Shad','S-Shad','V-Shad','Setting','Ref','Shad','Img'], axis=1)"
      ],
      "metadata": {
        "id": "SPH0aNL3usnh"
      },
      "execution_count": 365,
      "outputs": []
    },
    {
      "cell_type": "code",
      "source": [
        "X_test_RGB_A3_SVM_noref = np.array(RGB_A3_SVM_noref)"
      ],
      "metadata": {
        "id": "xSfhKbMSusni"
      },
      "execution_count": 366,
      "outputs": []
    },
    {
      "cell_type": "code",
      "source": [
        "y_RGB_A3_SVM_noref =  table_A3Set5.iloc[:,14:15]"
      ],
      "metadata": {
        "id": "hiqbSmyyusni"
      },
      "execution_count": 367,
      "outputs": []
    },
    {
      "cell_type": "code",
      "source": [
        "y_test_RGB_A3_SVM_noref = np.array(y_RGB_A3_SVM_noref)"
      ],
      "metadata": {
        "id": "35Lekmk8usni"
      },
      "execution_count": 368,
      "outputs": []
    },
    {
      "cell_type": "code",
      "source": [
        "X_train_RGB_A3_SVM_noref = np.array(RGB_A3_concat_SVM_noref)"
      ],
      "metadata": {
        "id": "FwJYXF6Gusni"
      },
      "execution_count": 369,
      "outputs": []
    },
    {
      "cell_type": "code",
      "source": [
        "y_train_A3RGB_SVM_noref = RGB_A3_concat.iloc[:,14:15]"
      ],
      "metadata": {
        "id": "IDJ1XFNPusni"
      },
      "execution_count": 370,
      "outputs": []
    },
    {
      "cell_type": "code",
      "source": [
        "y_train_A3_RGB_SVM_noref= np.array(y_train_A3RGB_SVM_noref)"
      ],
      "metadata": {
        "id": "yiEyKSlQusni"
      },
      "execution_count": 371,
      "outputs": []
    },
    {
      "cell_type": "code",
      "source": [
        "y_train_A3_RGB_SVM_noref.shape = (len(y_train_A3_RGB_SVM_noref,))"
      ],
      "metadata": {
        "id": "Rz-bzAXcusni"
      },
      "execution_count": 372,
      "outputs": []
    },
    {
      "cell_type": "code",
      "source": [
        "SVM3.fit(X_train_RGB_A3_SVM_noref, y_train_A3_RGB_SVM_noref)"
      ],
      "metadata": {
        "colab": {
          "base_uri": "https://localhost:8080/"
        },
        "id": "e8zHDdj0usni",
        "outputId": "2fc59998-e794-49cc-a660-270bec9dcc93"
      },
      "execution_count": 373,
      "outputs": [
        {
          "output_type": "execute_result",
          "data": {
            "text/plain": [
              "SVC()"
            ]
          },
          "metadata": {},
          "execution_count": 373
        }
      ]
    },
    {
      "cell_type": "code",
      "source": [
        "y_pred_A3_SVM_noref = SVM3.predict(X_test_RGB_A3_SVM_noref)"
      ],
      "metadata": {
        "id": "znqStewVusni"
      },
      "execution_count": 374,
      "outputs": []
    },
    {
      "cell_type": "code",
      "source": [
        "AC_RGB_SVM_noref = metrics.accuracy_score(y_test_RGB_A3_SVM_noref, y_pred_A3_SVM_noref)"
      ],
      "metadata": {
        "id": "E0CvrpNJusni"
      },
      "execution_count": 375,
      "outputs": []
    },
    {
      "cell_type": "markdown",
      "source": [
        "##HSV A3"
      ],
      "metadata": {
        "id": "AUds1eH2kEua"
      }
    },
    {
      "cell_type": "code",
      "source": [
        "SVM4 = svm.SVC()"
      ],
      "metadata": {
        "id": "lMm_e95Bkoi9"
      },
      "execution_count": 376,
      "outputs": []
    },
    {
      "cell_type": "code",
      "source": [
        "HSV_A3_SVM_noref = table_A3Set5"
      ],
      "metadata": {
        "id": "BTC0uB5vnmYj"
      },
      "execution_count": 377,
      "outputs": []
    },
    {
      "cell_type": "code",
      "source": [
        "HSV_A3_SVM_noref = HSV_A3_SVM_noref.drop(['R-ref','G-ref','B-ref','R-Shad','G-Shad','B-Shad','H-ref','S-ref','V-ref','Setting','Ref','Shad','Img'], axis=1)"
      ],
      "metadata": {
        "id": "-ZCkD1MzuMQM"
      },
      "execution_count": 378,
      "outputs": []
    },
    {
      "cell_type": "code",
      "source": [
        "HSV_A3_concat = pd.concat([RGB_A3_Set1,RGB_A3_Set2,RGB_A3_Set3,RGB_A3_Set4,RGB_A3_Set6])"
      ],
      "metadata": {
        "id": "ZnRsppmouMQM"
      },
      "execution_count": 379,
      "outputs": []
    },
    {
      "cell_type": "code",
      "source": [
        "HSV_A3_concat_SVM_noref = HSV_A3_concat.drop(['R-ref','G-ref','B-ref','R-Shad','G-Shad','B-Shad','H-ref','S-ref','V-ref','Setting','Ref','Shad','Img'], axis=1)"
      ],
      "metadata": {
        "id": "_7HZzLmCuMQM"
      },
      "execution_count": 380,
      "outputs": []
    },
    {
      "cell_type": "code",
      "source": [
        "X_test_HSV_A3_SVM_noref = np.array(HSV_A3_SVM_noref)"
      ],
      "metadata": {
        "id": "rM-qH_MCuMQM"
      },
      "execution_count": 381,
      "outputs": []
    },
    {
      "cell_type": "code",
      "source": [
        "y_HSV_A3_SVM_noref =  table_A3Set5.iloc[:,14:15]"
      ],
      "metadata": {
        "id": "TIyemdU0uMQM"
      },
      "execution_count": 382,
      "outputs": []
    },
    {
      "cell_type": "code",
      "source": [
        "y_test_HSV_A3_SVM_noref = np.array(y_HSV_A3_SVM_noref)"
      ],
      "metadata": {
        "id": "vghzDhaWuMQM"
      },
      "execution_count": 383,
      "outputs": []
    },
    {
      "cell_type": "code",
      "source": [
        "X_train_HSV_A3_SVM_noref = np.array(HSV_A3_concat_SVM_noref)"
      ],
      "metadata": {
        "id": "tsFAyZrOuMQM"
      },
      "execution_count": 384,
      "outputs": []
    },
    {
      "cell_type": "code",
      "source": [
        "y_train_A3HSV_SVM_noref = HSV_A3_concat.iloc[:,14:15]"
      ],
      "metadata": {
        "id": "NCNcBa8OuMQN"
      },
      "execution_count": 385,
      "outputs": []
    },
    {
      "cell_type": "code",
      "source": [
        "y_train_A3_HSV_SVM_noref = np.array(y_train_A3HSV_SVM_noref)"
      ],
      "metadata": {
        "id": "LaKZuHuLuMQN"
      },
      "execution_count": 386,
      "outputs": []
    },
    {
      "cell_type": "code",
      "source": [
        "y_train_A3_HSV_SVM_noref.shape = (len(y_train_A3_HSV_SVM_noref,))"
      ],
      "metadata": {
        "id": "MOztsx-euMQN"
      },
      "execution_count": 387,
      "outputs": []
    },
    {
      "cell_type": "code",
      "source": [
        "SVM4.fit(X_train_HSV_A3_SVM_noref, y_train_A3_HSV_SVM_noref)"
      ],
      "metadata": {
        "colab": {
          "base_uri": "https://localhost:8080/"
        },
        "id": "KIFnlaZuuMQN",
        "outputId": "914af2f2-cc77-4b7f-913b-5ac0ffda1900"
      },
      "execution_count": 388,
      "outputs": [
        {
          "output_type": "execute_result",
          "data": {
            "text/plain": [
              "SVC()"
            ]
          },
          "metadata": {},
          "execution_count": 388
        }
      ]
    },
    {
      "cell_type": "code",
      "source": [
        "y_pred_A3_SVM_noref = SVM4.predict(X_test_HSV_A3_SVM_noref)"
      ],
      "metadata": {
        "id": "F_TCNHBAuMQN"
      },
      "execution_count": 389,
      "outputs": []
    },
    {
      "cell_type": "code",
      "source": [
        "AC_HSV_SVM_noref = metrics.accuracy_score(y_test_HSV_A3_SVM_noref, y_pred_A3_SVM_noref)"
      ],
      "metadata": {
        "id": "qiWklwstuMQN"
      },
      "execution_count": 390,
      "outputs": []
    },
    {
      "cell_type": "markdown",
      "source": [
        "#XGB ref"
      ],
      "metadata": {
        "id": "g1GUXdRfkJ6R"
      }
    },
    {
      "cell_type": "markdown",
      "source": [
        "##RGB A2"
      ],
      "metadata": {
        "id": "ukmFehJ6kN61"
      }
    },
    {
      "cell_type": "code",
      "source": [
        "xgb1 = xgb.XGBClassifier()"
      ],
      "metadata": {
        "id": "SLp4n0pdkpEI"
      },
      "execution_count": 161,
      "outputs": []
    },
    {
      "cell_type": "code",
      "source": [
        "RGB_A2_XGB_ref = table_A2Set5"
      ],
      "metadata": {
        "id": "BqXjzCv3nRBK"
      },
      "execution_count": 162,
      "outputs": []
    },
    {
      "cell_type": "code",
      "source": [
        "RGB_A2_XGB_ref = RGB_A2_XGB_ref.drop(['H-ref','S-ref','V-ref','H-Shad','S-Shad','V-Shad','Setting','Ref','Shad','Img'], axis=1)"
      ],
      "metadata": {
        "id": "H2K3bFJbsXMr"
      },
      "execution_count": 163,
      "outputs": []
    },
    {
      "cell_type": "code",
      "source": [
        "RGB_A2_concat = pd.concat([RGB_A2_Set1,RGB_A2_Set2,RGB_A2_Set3,RGB_A2_Set4,RGB_A2_Set6])"
      ],
      "metadata": {
        "id": "KSqwj1EmsXMr"
      },
      "execution_count": 164,
      "outputs": []
    },
    {
      "cell_type": "code",
      "source": [
        "RGB_A2_concat_XGB_ref = RGB_A2_concat.drop(['H-ref','S-ref','V-ref','H-Shad','S-Shad','V-Shad','Setting','Ref','Shad','Img'], axis=1)"
      ],
      "metadata": {
        "id": "wyRmAvnZsXMr"
      },
      "execution_count": 165,
      "outputs": []
    },
    {
      "cell_type": "code",
      "source": [
        "X_test_RGB_A2_XGB_ref = np.array(RGB_A2_XGB_ref)"
      ],
      "metadata": {
        "id": "63zYhdlIsXMr"
      },
      "execution_count": 166,
      "outputs": []
    },
    {
      "cell_type": "code",
      "source": [
        "y_RGB_A2_XGB_ref =  table_A2Set5.iloc[:,14:15]"
      ],
      "metadata": {
        "id": "AnFPVNCesXMs"
      },
      "execution_count": 167,
      "outputs": []
    },
    {
      "cell_type": "code",
      "source": [
        "y_test_RGB_A2_XGB_ref = np.array(y_RGB_A2_XGB_ref)"
      ],
      "metadata": {
        "id": "_AppRg6EsXMs"
      },
      "execution_count": 168,
      "outputs": []
    },
    {
      "cell_type": "code",
      "source": [
        "X_train_RGB_A2_XGB_ref = np.array(RGB_A2_concat_XGB_ref)"
      ],
      "metadata": {
        "id": "PZDBts6BsXMs"
      },
      "execution_count": 169,
      "outputs": []
    },
    {
      "cell_type": "code",
      "source": [
        "y_train_A2RGB_XGB_ref = RGB_A2_concat.iloc[:,14:15]"
      ],
      "metadata": {
        "id": "sW-y34PusXMs"
      },
      "execution_count": 170,
      "outputs": []
    },
    {
      "cell_type": "code",
      "source": [
        "y_train_A2_RGB_XGB_ref = np.array(y_train_A2RGB_XGB_ref)"
      ],
      "metadata": {
        "id": "oFzNYu1TsXMs"
      },
      "execution_count": 171,
      "outputs": []
    },
    {
      "cell_type": "code",
      "source": [
        "y_train_A2_RGB_XGB_ref.shape = (len(y_train_A2_RGB_XGB_ref,))"
      ],
      "metadata": {
        "id": "8RjeQ4NtsXMs"
      },
      "execution_count": 172,
      "outputs": []
    },
    {
      "cell_type": "code",
      "source": [
        "xgb1.fit(X_train_RGB_A2_XGB_ref, y_train_A2_RGB_XGB_ref)"
      ],
      "metadata": {
        "colab": {
          "base_uri": "https://localhost:8080/"
        },
        "id": "jcLrEwoJsXMs",
        "outputId": "23dc779f-2367-479e-925d-916f1032a7d0"
      },
      "execution_count": 173,
      "outputs": [
        {
          "output_type": "execute_result",
          "data": {
            "text/plain": [
              "XGBClassifier(objective='multi:softprob')"
            ]
          },
          "metadata": {},
          "execution_count": 173
        }
      ]
    },
    {
      "cell_type": "code",
      "source": [
        "y_pred_A2_XGB_ref = xgb1.predict(X_test_RGB_A2_XGB_ref)"
      ],
      "metadata": {
        "id": "7cODCMtLsXMs"
      },
      "execution_count": 174,
      "outputs": []
    },
    {
      "cell_type": "code",
      "source": [
        "AC_RGB_XGB_ref = metrics.accuracy_score(y_test_RGB_A2_XGB_ref, y_pred_A2_XGB_ref)"
      ],
      "metadata": {
        "id": "GlADk-X8sXMs"
      },
      "execution_count": 175,
      "outputs": []
    },
    {
      "cell_type": "markdown",
      "source": [
        "##HSV A3"
      ],
      "metadata": {
        "id": "Fwo-wxAVkQgX"
      }
    },
    {
      "cell_type": "code",
      "source": [
        "xgb2 = xgb.XGBClassifier()"
      ],
      "metadata": {
        "id": "Hu2nLIPjkpgS"
      },
      "execution_count": 176,
      "outputs": []
    },
    {
      "cell_type": "code",
      "source": [
        "HSV_A3_XGB_ref = table_A3Set5"
      ],
      "metadata": {
        "id": "80zTcO20nvqJ"
      },
      "execution_count": 177,
      "outputs": []
    },
    {
      "cell_type": "code",
      "source": [
        "HSV_A3_XGB_ref = HSV_A3_XGB_ref.drop(['R-ref','G-ref','B-ref','R-Shad','G-Shad','B-Shad','Setting','Ref','Shad','Img'], axis=1)"
      ],
      "metadata": {
        "id": "dpbuoirPs7n5"
      },
      "execution_count": 179,
      "outputs": []
    },
    {
      "cell_type": "code",
      "source": [
        "HSV_A3_concat = pd.concat([RGB_A3_Set1,RGB_A3_Set2,RGB_A3_Set3,RGB_A3_Set4,RGB_A3_Set6])"
      ],
      "metadata": {
        "id": "nDPOThP6s7n5"
      },
      "execution_count": 180,
      "outputs": []
    },
    {
      "cell_type": "code",
      "source": [
        "HSV_A3_concat_XGB_ref = HSV_A3_concat.drop(['R-ref','G-ref','B-ref','R-Shad','G-Shad','B-Shad','Setting','Ref','Shad','Img'], axis=1)"
      ],
      "metadata": {
        "id": "1qkpcfA6s7n5"
      },
      "execution_count": 181,
      "outputs": []
    },
    {
      "cell_type": "code",
      "source": [
        "X_test_HSV_A3_XGB_ref = np.array(HSV_A3_XGB_ref)"
      ],
      "metadata": {
        "id": "osacyi7Ys7n5"
      },
      "execution_count": 192,
      "outputs": []
    },
    {
      "cell_type": "code",
      "source": [
        "y_HSV_A3_XGB_ref =  table_A3Set5.iloc[:,14:15]"
      ],
      "metadata": {
        "id": "aCAINqMXs7n5"
      },
      "execution_count": 183,
      "outputs": []
    },
    {
      "cell_type": "code",
      "source": [
        "y_test_HSV_A3_XGB_ref = np.array(y_HSV_A3_XGB_ref)"
      ],
      "metadata": {
        "id": "xApzbTGts7n5"
      },
      "execution_count": 184,
      "outputs": []
    },
    {
      "cell_type": "code",
      "source": [
        "X_train_HSV_A3_XGB_ref = np.array(HSV_A3_concat_XGB_ref)"
      ],
      "metadata": {
        "id": "Aex24dZys7n6"
      },
      "execution_count": 185,
      "outputs": []
    },
    {
      "cell_type": "code",
      "source": [
        "y_train_A3HSV_XGB_ref = HSV_A3_concat.iloc[:,14:15]"
      ],
      "metadata": {
        "id": "s3UEEfdOs7n6"
      },
      "execution_count": 186,
      "outputs": []
    },
    {
      "cell_type": "code",
      "source": [
        "y_train_A3_HSV_XGB_ref = np.array(y_train_A3HSV_XGB_ref)"
      ],
      "metadata": {
        "id": "eQiweaq3s7n6"
      },
      "execution_count": 187,
      "outputs": []
    },
    {
      "cell_type": "code",
      "source": [
        "y_train_A3_HSV_XGB_ref.shape = (len(y_train_A3_HSV_XGB_ref,))"
      ],
      "metadata": {
        "id": "FmWMxorUs7n6"
      },
      "execution_count": 189,
      "outputs": []
    },
    {
      "cell_type": "code",
      "source": [
        "xgb2.fit(X_train_HSV_A3_XGB_ref, y_train_A3_HSV_XGB_ref)"
      ],
      "metadata": {
        "colab": {
          "base_uri": "https://localhost:8080/"
        },
        "id": "v61hrEKxs7n6",
        "outputId": "4ae4663c-fad4-474b-df5e-6e2f42b04cdb"
      },
      "execution_count": 190,
      "outputs": [
        {
          "output_type": "execute_result",
          "data": {
            "text/plain": [
              "XGBClassifier(objective='multi:softprob')"
            ]
          },
          "metadata": {},
          "execution_count": 190
        }
      ]
    },
    {
      "cell_type": "code",
      "source": [
        "y_pred_A3_XGB_ref = xgb2.predict(X_test_HSV_A3_XGB_ref)"
      ],
      "metadata": {
        "id": "dlen0ijms7n6"
      },
      "execution_count": 193,
      "outputs": []
    },
    {
      "cell_type": "code",
      "source": [
        "AC_HSV_XGB_ref = metrics.accuracy_score(y_test_HSV_A3_XGB_ref, y_pred_A3_XGB_ref)"
      ],
      "metadata": {
        "id": "K4pJKiGgs7n6"
      },
      "execution_count": 194,
      "outputs": []
    },
    {
      "cell_type": "markdown",
      "source": [
        "#XGB no ref "
      ],
      "metadata": {
        "id": "7P0G1T1ekTwF"
      }
    },
    {
      "cell_type": "markdown",
      "source": [
        "##RGB D4"
      ],
      "metadata": {
        "id": "fRnYmWuykV0q"
      }
    },
    {
      "cell_type": "code",
      "source": [
        "xgb3 = xgb.XGBClassifier()"
      ],
      "metadata": {
        "id": "xIHqdKWmkqOC"
      },
      "execution_count": 195,
      "outputs": []
    },
    {
      "cell_type": "code",
      "source": [
        "RGB_D4_XGB_noref = table_D4Set5"
      ],
      "metadata": {
        "id": "Lp8RJ3VMnTeH"
      },
      "execution_count": 196,
      "outputs": []
    },
    {
      "cell_type": "code",
      "source": [
        "RGB_D4_XGB_noref = RGB_D4_XGB_noref.drop(['R-ref','G-ref','B-ref','H-ref','S-ref','V-ref','H-Shad','S-Shad','V-Shad','Setting','Ref','Shad','Img'], axis=1)"
      ],
      "metadata": {
        "id": "_gc4YaS-vZgq"
      },
      "execution_count": 225,
      "outputs": []
    },
    {
      "cell_type": "code",
      "source": [
        "RGB_D4_concat = pd.concat([RGB_D4_Set1,RGB_D4_Set2,RGB_D4_Set3,RGB_D4_Set4,RGB_D4_Set6])"
      ],
      "metadata": {
        "id": "6sObq2MAvZgq"
      },
      "execution_count": 226,
      "outputs": []
    },
    {
      "cell_type": "code",
      "source": [
        "RGB_D4_concat_XGB_noref = RGB_D4_concat.drop(['R-ref','G-ref','B-ref','H-ref','S-ref','V-ref','H-Shad','S-Shad','V-Shad','Setting','Ref','Shad','Img'], axis=1)"
      ],
      "metadata": {
        "id": "rnnnnhS4vZgq"
      },
      "execution_count": 227,
      "outputs": []
    },
    {
      "cell_type": "code",
      "source": [
        "X_test_RGB_D4_XGB_noref = np.array(RGB_D4_XGB_noref)"
      ],
      "metadata": {
        "id": "aEm41dDBvZgq"
      },
      "execution_count": 228,
      "outputs": []
    },
    {
      "cell_type": "code",
      "source": [
        "y_RGB_D4_XGB_noref =  table_D4Set5.iloc[:,14:15]"
      ],
      "metadata": {
        "id": "gRBOkJfXvZgr"
      },
      "execution_count": 229,
      "outputs": []
    },
    {
      "cell_type": "code",
      "source": [
        "y_test_RGB_D4_XGB_noref = np.array(y_RGB_D4_XGB_noref)"
      ],
      "metadata": {
        "id": "83BcM7EPvZgr"
      },
      "execution_count": 230,
      "outputs": []
    },
    {
      "cell_type": "code",
      "source": [
        "X_train_RGB_D4_XGB_noref = np.array(RGB_D4_concat_XGB_noref)"
      ],
      "metadata": {
        "id": "yGBFx7pPvZgr"
      },
      "execution_count": 231,
      "outputs": []
    },
    {
      "cell_type": "code",
      "source": [
        "y_train_D4RGB_XGB_noref = RGB_D4_concat.iloc[:,14:15]"
      ],
      "metadata": {
        "id": "FMBjEDbXvZgr"
      },
      "execution_count": 232,
      "outputs": []
    },
    {
      "cell_type": "code",
      "source": [
        "y_train_D4_RGB_XGB_noref= np.array(y_train_D4RGB_XGB_noref)"
      ],
      "metadata": {
        "id": "Fb3vcY_bvZgr"
      },
      "execution_count": 233,
      "outputs": []
    },
    {
      "cell_type": "code",
      "source": [
        "y_train_D4_RGB_XGB_noref.shape = (len(y_train_D4_RGB_XGB_noref,))"
      ],
      "metadata": {
        "id": "gtcvm8bDvZgr"
      },
      "execution_count": 234,
      "outputs": []
    },
    {
      "cell_type": "code",
      "source": [
        "xgb3.fit(X_train_RGB_D4_XGB_noref, y_train_D4_RGB_XGB_noref)"
      ],
      "metadata": {
        "colab": {
          "base_uri": "https://localhost:8080/"
        },
        "id": "YIxWR-cjvZgr",
        "outputId": "f715a389-27ec-41d1-ed1b-7ee177276e9e"
      },
      "execution_count": 235,
      "outputs": [
        {
          "output_type": "execute_result",
          "data": {
            "text/plain": [
              "XGBClassifier(objective='multi:softprob')"
            ]
          },
          "metadata": {},
          "execution_count": 235
        }
      ]
    },
    {
      "cell_type": "code",
      "source": [
        "y_pred_D4_XGB_noref = xgb3.predict(X_test_RGB_D4_XGB_noref)"
      ],
      "metadata": {
        "id": "KatJRzAbvZgr"
      },
      "execution_count": 236,
      "outputs": []
    },
    {
      "cell_type": "code",
      "source": [
        "AC_RGB_XGB_noref = metrics.accuracy_score(y_test_RGB_D4_XGB_noref, y_pred_D4_XGB_noref)"
      ],
      "metadata": {
        "id": "eFdF-2_YvZgr"
      },
      "execution_count": 237,
      "outputs": []
    },
    {
      "cell_type": "markdown",
      "source": [
        "##HSV D4"
      ],
      "metadata": {
        "id": "yKrHSeR8kaMg"
      }
    },
    {
      "cell_type": "code",
      "source": [
        "xgb4 = xgb.XGBClassifier()"
      ],
      "metadata": {
        "id": "EQUuyfQtkqoc"
      },
      "execution_count": 198,
      "outputs": []
    },
    {
      "cell_type": "code",
      "source": [
        "HSV_D4_XGB_noref = table_D4Set5"
      ],
      "metadata": {
        "id": "j-uWJUNNnq8z"
      },
      "execution_count": 199,
      "outputs": []
    },
    {
      "cell_type": "code",
      "source": [
        "HSV_D4_XGB_noref = HSV_D4_XGB_noref.drop(['R-ref','G-ref','B-ref','R-Shad','G-Shad','B-Shad','H-ref','S-ref','V-ref','Setting','Ref','Shad','Img'], axis=1)"
      ],
      "metadata": {
        "id": "7zK82EIzwVLq"
      },
      "execution_count": 200,
      "outputs": []
    },
    {
      "cell_type": "code",
      "source": [
        "HSV_D4_concat = pd.concat([RGB_D4_Set1,RGB_D4_Set2,RGB_D4_Set3,RGB_D4_Set4,RGB_D4_Set6])"
      ],
      "metadata": {
        "id": "EhZY0-U2wVLq"
      },
      "execution_count": 201,
      "outputs": []
    },
    {
      "cell_type": "code",
      "source": [
        "HSV_D4_concat_XGB_noref = HSV_D4_concat.drop(['R-ref','G-ref','B-ref','R-Shad','G-Shad','B-Shad','H-ref','S-ref','V-ref','Setting','Ref','Shad','Img'], axis=1)"
      ],
      "metadata": {
        "id": "8B_iC-OXwVLq"
      },
      "execution_count": 207,
      "outputs": []
    },
    {
      "cell_type": "code",
      "source": [
        "X_test_HSV_D4_XGB_noref = np.array(HSV_D4_XGB_noref)"
      ],
      "metadata": {
        "id": "RX1eRwJ2wVLq"
      },
      "execution_count": 208,
      "outputs": []
    },
    {
      "cell_type": "code",
      "source": [
        "y_HSV_D4_XGB_noref =  table_D4Set5.iloc[:,14:15]"
      ],
      "metadata": {
        "id": "ZneRh83-wVLq"
      },
      "execution_count": 209,
      "outputs": []
    },
    {
      "cell_type": "code",
      "source": [
        "y_test_HSV_D4_XGBF_noref = np.array(y_HSV_D4_XGB_noref)"
      ],
      "metadata": {
        "id": "eJPYqUbrwVLr"
      },
      "execution_count": 210,
      "outputs": []
    },
    {
      "cell_type": "code",
      "source": [
        "X_train_HSV_D4_XGB_noref = np.array(HSV_D4_concat_XGB_noref)"
      ],
      "metadata": {
        "id": "1cn3Uw-CwVLr"
      },
      "execution_count": 211,
      "outputs": []
    },
    {
      "cell_type": "code",
      "source": [
        "y_train_D4HSV_XGB_noref = HSV_D4_concat.iloc[:,14:15]"
      ],
      "metadata": {
        "id": "QYR8jGauwVLr"
      },
      "execution_count": 212,
      "outputs": []
    },
    {
      "cell_type": "code",
      "source": [
        "y_train_D4_HSV_XGB_noref = np.array(y_train_D4HSV_XGB_noref)"
      ],
      "metadata": {
        "id": "kSq8PwZXwVLr"
      },
      "execution_count": 213,
      "outputs": []
    },
    {
      "cell_type": "code",
      "source": [
        "y_train_D4_HSV_XGB_noref.shape = (len(y_train_D4_HSV_XGB_noref,))"
      ],
      "metadata": {
        "id": "o72HtpQzwVLr"
      },
      "execution_count": 214,
      "outputs": []
    },
    {
      "cell_type": "code",
      "source": [
        "xgb4.fit(X_train_HSV_D4_XGB_noref, y_train_D4_HSV_XGB_noref)"
      ],
      "metadata": {
        "colab": {
          "base_uri": "https://localhost:8080/"
        },
        "id": "TYhtJqrhwVLr",
        "outputId": "8a434181-9ca9-4f0d-aef4-743b881ea519"
      },
      "execution_count": 215,
      "outputs": [
        {
          "output_type": "execute_result",
          "data": {
            "text/plain": [
              "XGBClassifier(objective='multi:softprob')"
            ]
          },
          "metadata": {},
          "execution_count": 215
        }
      ]
    },
    {
      "cell_type": "code",
      "source": [
        "y_pred_D4_XGB_noref = xgb4.predict(X_test_HSV_D4_XGB_noref)"
      ],
      "metadata": {
        "id": "3pI1OXi0wVLr"
      },
      "execution_count": 216,
      "outputs": []
    },
    {
      "cell_type": "code",
      "source": [
        "AC_HSV_XGB_noref = metrics.accuracy_score(y_test_HSV_D4_XGBF_noref, y_pred_D4_XGB_noref)"
      ],
      "metadata": {
        "id": "ECWofy9CwVLs"
      },
      "execution_count": 218,
      "outputs": []
    },
    {
      "cell_type": "markdown",
      "source": [
        "#All Accuracy"
      ],
      "metadata": {
        "id": "iTHo9hTDkeSk"
      }
    },
    {
      "cell_type": "markdown",
      "source": [
        "RF"
      ],
      "metadata": {
        "id": "yUR12X1HyImK"
      }
    },
    {
      "cell_type": "code",
      "source": [
        "print(\"RF ref Set5 A2 ได้ Accuracy:\", (AC_RGB_RF_ref))\n",
        "print(\"RF ref Set5 A3 ได้ Accuracy:\", (AC_HSV_RF_ref))\n",
        "print(\"RF no_ref Set5 A3 ได้ Accuracy:\", (AC_RGB_RF_noref))\n",
        "print(\"RF no_ref Set5 A3 ได้ Accuracy:\", (AC_HSV_RF_noref))"
      ],
      "metadata": {
        "colab": {
          "base_uri": "https://localhost:8080/"
        },
        "id": "d6IwYu9Wkgwx",
        "outputId": "7c4308ad-623a-4b8a-bf28-d598c029d9c2"
      },
      "execution_count": 222,
      "outputs": [
        {
          "output_type": "stream",
          "name": "stdout",
          "text": [
            "RF ref Set5 A2 ได้ Accuracy: 0.385\n",
            "RF ref Set5 A3 ได้ Accuracy: 0.335\n",
            "RF no_ref Set5 A3 ได้ Accuracy: 0.4425\n",
            "RF no_ref Set5 A3 ได้ Accuracy: 0.3375\n"
          ]
        }
      ]
    },
    {
      "cell_type": "markdown",
      "source": [
        "SVM"
      ],
      "metadata": {
        "id": "wpwiAfguyJzT"
      }
    },
    {
      "cell_type": "code",
      "source": [
        "print(\"SVM ref Set5 C2 ได้ Accuracy:\", (AC_RGB_SVM_ref))\n",
        "print(\"SVM ref Set5 A4 ได้ Accuracy:\", (AC_HSV_SVM_ref))\n",
        "print(\"SVM no_ref Set5 A3 ได้ Accuracy:\", (AC_RGB_SVM_noref))\n",
        "print(\"SVM no_ref Set5 A3 ได้ Accuracy:\", (AC_HSV_SVM_noref))"
      ],
      "metadata": {
        "colab": {
          "base_uri": "https://localhost:8080/"
        },
        "id": "DWcZUXsqyL7t",
        "outputId": "2128af41-1e9f-41a7-f239-150e214ea41c"
      },
      "execution_count": 391,
      "outputs": [
        {
          "output_type": "stream",
          "name": "stdout",
          "text": [
            "SVM ref Set5 C2 ได้ Accuracy: 0.56\n",
            "SVM ref Set5 A4 ได้ Accuracy: 0.125\n",
            "SVM no_ref Set5 A3 ได้ Accuracy: 0.14\n",
            "SVM no_ref Set5 A3 ได้ Accuracy: 0.12\n"
          ]
        }
      ]
    },
    {
      "cell_type": "markdown",
      "source": [
        "XGB"
      ],
      "metadata": {
        "id": "zf0wKZt4yLDO"
      }
    },
    {
      "cell_type": "code",
      "source": [
        "print(\"XGB ref Set5 A2 ได้ Accuracy:\", (AC_RGB_XGB_ref))\n",
        "print(\"XGB ref Set5 A3 ได้ Accuracy:\", (AC_HSV_XGB_ref))\n",
        "print(\"XGB no_ref Set5 D4 ได้ Accuracy:\", (AC_RGB_XGB_noref))\n",
        "print(\"XGB no_ref Set5 D4 ได้ Accuracy:\", (AC_HSV_XGB_noref))"
      ],
      "metadata": {
        "colab": {
          "base_uri": "https://localhost:8080/"
        },
        "id": "tyXdRxfyyNNw",
        "outputId": "d934f7d6-5f0c-458e-abd2-ee43c1f66864"
      },
      "execution_count": 238,
      "outputs": [
        {
          "output_type": "stream",
          "name": "stdout",
          "text": [
            "XGB ref Set5 A2 ได้ Accuracy: 0.2875\n",
            "XGB ref Set5 A3 ได้ Accuracy: 0.47625\n",
            "XGB no_ref Set5 D4 ได้ Accuracy: 0.2425\n",
            "XGB no_ref Set5 D4 ได้ Accuracy: 0.45625\n"
          ]
        }
      ]
    },
    {
      "cell_type": "markdown",
      "source": [
        "#Save Model"
      ],
      "metadata": {
        "id": "rN1dCcZM12Q6"
      }
    },
    {
      "cell_type": "code",
      "source": [
        "import pickle\n",
        "with open('Model_SVM_C2.pkl', 'wb') as pickle_file :\n",
        "       pickle.dump(SVM1, pickle_file )"
      ],
      "metadata": {
        "id": "FDTfgcNM12EX"
      },
      "execution_count": 392,
      "outputs": []
    },
    {
      "cell_type": "markdown",
      "source": [
        "#Confution"
      ],
      "metadata": {
        "id": "tQXMUR4Uy700"
      }
    },
    {
      "cell_type": "code",
      "source": [
        "import numpy as np\n",
        "from sklearn import metrics\n",
        "from sklearn import datasets\n",
        "import pandas as pd\n",
        "import pickle"
      ],
      "metadata": {
        "id": "-9el4i7Py--b"
      },
      "execution_count": 393,
      "outputs": []
    },
    {
      "cell_type": "code",
      "source": [
        "from sklearn.preprocessing import LabelEncoder\n",
        "\n",
        "from tensorflow.keras.utils import to_categorical"
      ],
      "metadata": {
        "id": "OU0KgyoB2W_9"
      },
      "execution_count": 394,
      "outputs": []
    },
    {
      "cell_type": "code",
      "source": [
        "import os"
      ],
      "metadata": {
        "id": "yG7xioj92d0E"
      },
      "execution_count": 395,
      "outputs": []
    },
    {
      "cell_type": "code",
      "source": [
        "with open('Model_SVM_C2.pkl', 'rb') as pickle_file :\n",
        "    new_data = pickle.load(pickle_file)"
      ],
      "metadata": {
        "id": "bQlgR5pb2joL"
      },
      "execution_count": 397,
      "outputs": []
    },
    {
      "cell_type": "code",
      "source": [
        "with open('Model_SVM_C2.pkl', 'rb') as pickle_file :\n",
        "    new_data2 = pickle.load(pickle_file)"
      ],
      "metadata": {
        "id": "0iBvYgW-50Z5"
      },
      "execution_count": 398,
      "outputs": []
    },
    {
      "cell_type": "code",
      "source": [
        "import matplotlib.pyplot as plt\n",
        "import matplotlib.image as mpimg\n",
        "from matplotlib.pyplot import savefig\n",
        "import itertools\n",
        "from sklearn.metrics import confusion_matrix\n",
        "from sklearn.utils.multiclass import unique_labels"
      ],
      "metadata": {
        "id": "pGNaw4bL4jsu"
      },
      "execution_count": 399,
      "outputs": []
    },
    {
      "cell_type": "markdown",
      "source": [
        "##SVM C2 ref"
      ],
      "metadata": {
        "id": "Um3OWUCF2k2g"
      }
    },
    {
      "cell_type": "code",
      "source": [
        "RGB_C2_concat = pd.concat([RGB_C2_Set1,RGB_C2_Set2,RGB_C2_Set3,RGB_C2_Set4,RGB_C2_Set6])"
      ],
      "metadata": {
        "id": "zJgq0oldyasn"
      },
      "execution_count": 400,
      "outputs": []
    },
    {
      "cell_type": "code",
      "source": [
        "RGB_C2_concat0 = RGB_C2_concat.drop(['H-ref','S-ref','V-ref','H-Shad','S-Shad','V-Shad','Setting','Ref','Shad','Img'], axis=1)"
      ],
      "metadata": {
        "id": "k6rgbb4-yasn"
      },
      "execution_count": 401,
      "outputs": []
    },
    {
      "cell_type": "code",
      "source": [
        "RGB_C2_s5 = table_C2Set5.drop(['H-ref','S-ref','V-ref','H-Shad','S-Shad','V-Shad','Setting','Ref','Shad','Img'], axis=1)"
      ],
      "metadata": {
        "id": "xTD3aX1kyoHE"
      },
      "execution_count": 402,
      "outputs": []
    },
    {
      "cell_type": "code",
      "source": [
        "X_test_C2_RGB_s5 = np.array(RGB_C2_s5)"
      ],
      "metadata": {
        "id": "yNqsgDIByoHE"
      },
      "execution_count": 403,
      "outputs": []
    },
    {
      "cell_type": "code",
      "source": [
        "y_C2_RGB_s5 =  table_C2Set5.iloc[:,14:15]"
      ],
      "metadata": {
        "id": "i5xt7vcMyoHE"
      },
      "execution_count": 404,
      "outputs": []
    },
    {
      "cell_type": "code",
      "source": [
        "y_test_C2_RGB_s5 = np.array(y_C2_RGB_s5)"
      ],
      "metadata": {
        "id": "9Rfk0NXNyoHF"
      },
      "execution_count": 405,
      "outputs": []
    },
    {
      "cell_type": "code",
      "source": [
        "y_test = np.array(y_C2_RGB_s5)"
      ],
      "metadata": {
        "id": "DR3pg9zhLIi3"
      },
      "execution_count": 406,
      "outputs": []
    },
    {
      "cell_type": "code",
      "source": [
        "X_train_C2_RGB_s5 = np.array(RGB_C2_concat0)"
      ],
      "metadata": {
        "id": "yx9h0XfSyoHF"
      },
      "execution_count": 407,
      "outputs": []
    },
    {
      "cell_type": "code",
      "source": [
        "y_train_C2RGB_s5 = RGB_C2_concat.iloc[:,14:15]"
      ],
      "metadata": {
        "id": "2X6UKjcCyoHF"
      },
      "execution_count": 408,
      "outputs": []
    },
    {
      "cell_type": "code",
      "source": [
        "le = LabelEncoder()"
      ],
      "metadata": {
        "id": "04PFVj2a2kDJ"
      },
      "execution_count": 409,
      "outputs": []
    },
    {
      "cell_type": "code",
      "source": [
        "y_test_C2_RGB_s5 = np.array(table_C2Set5['Shad'])"
      ],
      "metadata": {
        "id": "PvhwYWtyQbhW"
      },
      "execution_count": 410,
      "outputs": []
    },
    {
      "cell_type": "code",
      "source": [
        "y_test_C2_RGB_s5.shape = (len(y_test_C2_RGB_s5),)   "
      ],
      "metadata": {
        "id": "yBTAoeZXUEH2"
      },
      "execution_count": 411,
      "outputs": []
    },
    {
      "cell_type": "code",
      "source": [
        "np.left_shift = LabelEncoder() "
      ],
      "metadata": {
        "id": "IsQD1l1uUF4X"
      },
      "execution_count": 412,
      "outputs": []
    },
    {
      "cell_type": "code",
      "source": [
        "y_test_C2_RGB_s5 = le.fit_transform(y_test_C2_RGB_s5) "
      ],
      "metadata": {
        "id": "wVT_BQivUKKR"
      },
      "execution_count": 413,
      "outputs": []
    },
    {
      "cell_type": "code",
      "source": [
        "y_test_C2_RGB_s5 = to_categorical(y_test_C2_RGB_s5, num_classes=16)"
      ],
      "metadata": {
        "id": "Fd5wT42aULLg"
      },
      "execution_count": 414,
      "outputs": []
    },
    {
      "cell_type": "code",
      "source": [
        "y_pred_C2_RGB_s5 = new_data.predict(X_test_C2_RGB_s5)"
      ],
      "metadata": {
        "id": "dzerY89EyoHF"
      },
      "execution_count": 415,
      "outputs": []
    },
    {
      "cell_type": "code",
      "source": [
        "y_pred2_C2_RGB_s5 = le.fit_transform(y_pred_C2_RGB_s5) "
      ],
      "metadata": {
        "id": "vgGGdTupWbss"
      },
      "execution_count": 416,
      "outputs": []
    },
    {
      "cell_type": "code",
      "source": [
        "y_pred2_C2_RGB_s5 = to_categorical(y_pred2_C2_RGB_s5, num_classes=16)"
      ],
      "metadata": {
        "id": "op6kgGy3W-bz"
      },
      "execution_count": 417,
      "outputs": []
    },
    {
      "cell_type": "code",
      "source": [
        "y_pred2_C2_RGB_s5.ndim"
      ],
      "metadata": {
        "colab": {
          "base_uri": "https://localhost:8080/"
        },
        "id": "JYsR2u1u4kqv",
        "outputId": "437bda3c-8406-4cd7-a06d-da0dec738dc7"
      },
      "execution_count": 418,
      "outputs": [
        {
          "output_type": "execute_result",
          "data": {
            "text/plain": [
              "2"
            ]
          },
          "metadata": {},
          "execution_count": 418
        }
      ]
    },
    {
      "cell_type": "code",
      "source": [
        "y_test_C2_RGB_s5.ndim"
      ],
      "metadata": {
        "colab": {
          "base_uri": "https://localhost:8080/"
        },
        "id": "fXjfKWNc4pVm",
        "outputId": "b8c6cad3-1f70-4b27-f2d4-72f0855acfb3"
      },
      "execution_count": 420,
      "outputs": [
        {
          "output_type": "execute_result",
          "data": {
            "text/plain": [
              "2"
            ]
          },
          "metadata": {},
          "execution_count": 420
        }
      ]
    },
    {
      "cell_type": "code",
      "source": [
        "y_pred = y_pred2_C2_RGB_s5.argmax(axis=1)          #ค่า predict \n",
        "y_true  = y_test_C2_RGB_s5.argmax(axis=1)\n",
        "class_names = le.classes_                          # ชื่อคลาสว่ามีไรบ้าง --> ['Abnormal' , 'Normal]\n",
        "\n",
        "\n",
        "def plot_confusion_matrix(y_true, y_pred, classes,\n",
        "                          normalize=False,\n",
        "                          title=None,\n",
        "                          cmap=plt.cm.RdPu):\n",
        "    \"\"\"\n",
        "    This function prints and plots the confusion matrix.\n",
        "    Normalization can be applied by setting normalize=True.\n",
        "    \"\"\"\n",
        "    if not title:\n",
        "        if normalize:\n",
        "            title = 'Normalized confusion matrix'\n",
        "        else:\n",
        "            title = 'Confusion matrix, without normalization'\n",
        "\n",
        "    # Compute confusion matrix\n",
        "    cm = confusion_matrix(y_true, y_pred)\n",
        "    # Only use the labels that appear in the data\n",
        "    classes = classes[unique_labels(y_true, y_pred)]\n",
        "    if normalize:\n",
        "        cm = cm.astype('float') / cm.sum(axis=1)[:, np.newaxis]\n",
        "        print(\"Normalized confusion matrix\")\n",
        "    else:\n",
        "        print('Confusion matrix, without normalization')\n",
        "\n",
        "    print(cm)\n",
        "\n",
        "    fig, ax = plt.subplots()\n",
        "    im = ax.imshow(cm, interpolation='nearest', cmap=cmap)\n",
        "    ax.figure.colorbar(im, ax=ax)\n",
        "    # We want to show all ticks...\n",
        "    ax.set(xticks=np.arange(cm.shape[1]),\n",
        "           yticks=np.arange(cm.shape[0]),\n",
        "           # ... and label them with the respective list entries\n",
        "           xticklabels=classes, yticklabels=classes,\n",
        "           title=title,\n",
        "           ylabel='True label',\n",
        "           xlabel='Predicted label')\n",
        "\n",
        "    # Rotate the tick labels and set their alignment.\n",
        "    plt.setp(ax.get_xticklabels(), rotation=45, ha=\"right\",\n",
        "             rotation_mode=\"anchor\")\n",
        "\n",
        "    # Loop over data dimensions and create text annotations.\n",
        "    fmt = '.2f' if normalize else 'd'\n",
        "    thresh = cm.max() / 2.\n",
        "    for i in range(cm.shape[0]):\n",
        "        for j in range(cm.shape[1]):\n",
        "            ax.text(j, i, format(cm[i, j], fmt),\n",
        "                    ha=\"center\", va=\"center\",\n",
        "                    color=\"white\" if cm[i, j] > thresh else \"black\")\n",
        "    fig.tight_layout()\n",
        "    return ax\n",
        "\n",
        "\n",
        "np.set_printoptions(precision=2)\n",
        "\n",
        "# Plot non-normalized confusion matrix\n",
        "plot_confusion_matrix(y_true, y_pred, classes=class_names,\n",
        "                      title='Confusion matrix, without normalization')\n",
        "\n",
        "# Plot normalized confusion matrix\n",
        "plot_confusion_matrix(y_true, y_pred, classes=class_names, normalize=True,\n",
        "                      title='Normalized confusion matrix')\n",
        "\n",
        "plt.show()"
      ],
      "metadata": {
        "colab": {
          "base_uri": "https://localhost:8080/",
          "height": 1000
        },
        "id": "wStwGWtK4rzm",
        "outputId": "b7537d89-171f-4b10-d455-e28858dda590"
      },
      "execution_count": 421,
      "outputs": [
        {
          "output_type": "stream",
          "name": "stdout",
          "text": [
            "Confusion matrix, without normalization\n",
            "[[25 12  0  0  0  0  0  0  0 12  0  0  0  1  0  0]\n",
            " [ 0 38 10  0  0  0  0  0  0  0  2  0  0  0  0  0]\n",
            " [ 0  0 28  0  0  0  0 22  0  0  0  0  0  0  0  0]\n",
            " [ 0  0  0 18  0  0  0  0 32  0  0  0  0  0  0  0]\n",
            " [ 0  0  0  0 34  0  0  0  0  0  0  4 12  0  0  0]\n",
            " [ 8  0  0  0  0 42  0  0  0  0  0  0  0  0  0  0]\n",
            " [ 0 47  2  0  0  0  1  0  0  0  0  0  0  0  0  0]\n",
            " [ 0  0  0  4  0  0  0 46  0  0  0  0  0  0  0  0]\n",
            " [ 0  0  0 19  0  0  0  0 11  0  0  0 20  0  0  0]\n",
            " [ 0 47  0  0  0  0  0  0  0  0  0  0  0  3  0  0]\n",
            " [ 0  0  0  0  0  0  0  0  0  0 26  0  0  0 22  2]\n",
            " [ 0  0  0  0 15  0  0  0  0  0  0 35  0  0  0  0]\n",
            " [ 0  0  0  0  0  0  0  0  0  0  0  0 50  0  0  0]\n",
            " [ 0  0  0  0  0  0  0  0  0  0 16  0  0 34  0  0]\n",
            " [ 0  0  1  0  9  0  0  0  0  0  0  1  0  0 20 19]\n",
            " [ 0  0  0  0  6  0  0  0  0  0  0  4  0  0  0 40]]\n",
            "Normalized confusion matrix\n",
            "[[0.5  0.24 0.   0.   0.   0.   0.   0.   0.   0.24 0.   0.   0.   0.02\n",
            "  0.   0.  ]\n",
            " [0.   0.76 0.2  0.   0.   0.   0.   0.   0.   0.   0.04 0.   0.   0.\n",
            "  0.   0.  ]\n",
            " [0.   0.   0.56 0.   0.   0.   0.   0.44 0.   0.   0.   0.   0.   0.\n",
            "  0.   0.  ]\n",
            " [0.   0.   0.   0.36 0.   0.   0.   0.   0.64 0.   0.   0.   0.   0.\n",
            "  0.   0.  ]\n",
            " [0.   0.   0.   0.   0.68 0.   0.   0.   0.   0.   0.   0.08 0.24 0.\n",
            "  0.   0.  ]\n",
            " [0.16 0.   0.   0.   0.   0.84 0.   0.   0.   0.   0.   0.   0.   0.\n",
            "  0.   0.  ]\n",
            " [0.   0.94 0.04 0.   0.   0.   0.02 0.   0.   0.   0.   0.   0.   0.\n",
            "  0.   0.  ]\n",
            " [0.   0.   0.   0.08 0.   0.   0.   0.92 0.   0.   0.   0.   0.   0.\n",
            "  0.   0.  ]\n",
            " [0.   0.   0.   0.38 0.   0.   0.   0.   0.22 0.   0.   0.   0.4  0.\n",
            "  0.   0.  ]\n",
            " [0.   0.94 0.   0.   0.   0.   0.   0.   0.   0.   0.   0.   0.   0.06\n",
            "  0.   0.  ]\n",
            " [0.   0.   0.   0.   0.   0.   0.   0.   0.   0.   0.52 0.   0.   0.\n",
            "  0.44 0.04]\n",
            " [0.   0.   0.   0.   0.3  0.   0.   0.   0.   0.   0.   0.7  0.   0.\n",
            "  0.   0.  ]\n",
            " [0.   0.   0.   0.   0.   0.   0.   0.   0.   0.   0.   0.   1.   0.\n",
            "  0.   0.  ]\n",
            " [0.   0.   0.   0.   0.   0.   0.   0.   0.   0.   0.32 0.   0.   0.68\n",
            "  0.   0.  ]\n",
            " [0.   0.   0.02 0.   0.18 0.   0.   0.   0.   0.   0.   0.02 0.   0.\n",
            "  0.4  0.38]\n",
            " [0.   0.   0.   0.   0.12 0.   0.   0.   0.   0.   0.   0.08 0.   0.\n",
            "  0.   0.8 ]]\n"
          ]
        },
        {
          "output_type": "display_data",
          "data": {
            "text/plain": [
              "<Figure size 432x288 with 2 Axes>"
            ],
            "image/png": "[encoded data removed]"
          },
          "metadata": {
            "needs_background": "light"
          }
        },
        {
          "output_type": "display_data",
          "data": {
            "text/plain": [
              "<Figure size 432x288 with 2 Axes>"
            ],
            "image/png": "[encoded data removed]"
          },
          "metadata": {
            "needs_background": "light"
          }
        }
      ]
    },
    {
      "cell_type": "markdown",
      "source": [
        "##SVM C2 noref"
      ],
      "metadata": {
        "id": "5gpV2Cb42n_8"
      }
    },
    {
      "cell_type": "code",
      "source": [
        "RGB_A3_concat = pd.concat([RGB_A3_Set1,RGB_A3_Set2,RGB_A3_Set3,RGB_A3_Set4,RGB_A3_Set6])"
      ],
      "metadata": {
        "id": "Ram_-mph49Ad"
      },
      "execution_count": 422,
      "outputs": []
    },
    {
      "cell_type": "code",
      "source": [
        "RGB_A3_concat0 = RGB_A3_concat.drop(['H-ref','S-ref','V-ref','H-Shad','S-Shad','V-Shad','Setting','Ref','Shad','Img'], axis=1)"
      ],
      "metadata": {
        "id": "6WoSP_oN49Ad"
      },
      "execution_count": 423,
      "outputs": []
    },
    {
      "cell_type": "code",
      "source": [
        "RGB_A3_s5 = table_A3Set5.drop(['H-ref','S-ref','V-ref','H-Shad','S-Shad','V-Shad','Setting','Ref','Shad','Img'], axis=1)"
      ],
      "metadata": {
        "id": "Iq27DoIi49Ad"
      },
      "execution_count": 424,
      "outputs": []
    },
    {
      "cell_type": "code",
      "source": [
        "X_test_A3_RGB_s5 = np.array(RGB_A3_s5)"
      ],
      "metadata": {
        "id": "LKGXOn9G49Ad"
      },
      "execution_count": 425,
      "outputs": []
    },
    {
      "cell_type": "code",
      "source": [
        "y_A3_RGB_s5 =  table_A3Set5.iloc[:,14:15]"
      ],
      "metadata": {
        "id": "2duqhrhJ49Ad"
      },
      "execution_count": 426,
      "outputs": []
    },
    {
      "cell_type": "code",
      "source": [
        "y_test_A3_RGB_s5 = np.array(y_A3_RGB_s5)"
      ],
      "metadata": {
        "id": "5neBCl-C49Ae"
      },
      "execution_count": 427,
      "outputs": []
    },
    {
      "cell_type": "code",
      "source": [
        "y_test = np.array(y_A3_RGB_s5)"
      ],
      "metadata": {
        "id": "MNo7LUfp49Ae"
      },
      "execution_count": 428,
      "outputs": []
    },
    {
      "cell_type": "code",
      "source": [
        "X_train_A3_RGB_s5 = np.array(RGB_A3_concat0)"
      ],
      "metadata": {
        "id": "Rz7Yb_aM49Ae"
      },
      "execution_count": 429,
      "outputs": []
    },
    {
      "cell_type": "code",
      "source": [
        "y_train_A3RGB_s5 = RGB_A3_concat.iloc[:,14:15]"
      ],
      "metadata": {
        "id": "IjYch-9T49Ae"
      },
      "execution_count": 430,
      "outputs": []
    },
    {
      "cell_type": "code",
      "source": [
        "le2 = LabelEncoder()"
      ],
      "metadata": {
        "id": "_Gb_0WD849Ae"
      },
      "execution_count": 431,
      "outputs": []
    },
    {
      "cell_type": "code",
      "source": [
        "y_test_A3_RGB_s5 = np.array(table_A3Set5['Shad'])"
      ],
      "metadata": {
        "id": "0OhS0x1E49Ae"
      },
      "execution_count": 432,
      "outputs": []
    },
    {
      "cell_type": "code",
      "source": [
        "y_test_A3_RGB_s5.shape = (len(y_test_A3_RGB_s5),)   "
      ],
      "metadata": {
        "id": "_1gSqGrP49Ae"
      },
      "execution_count": 433,
      "outputs": []
    },
    {
      "cell_type": "code",
      "source": [
        "np.left_shift = LabelEncoder() "
      ],
      "metadata": {
        "id": "dqhZ6vfq49Ae"
      },
      "execution_count": 434,
      "outputs": []
    },
    {
      "cell_type": "code",
      "source": [
        "y_test_A3_RGB_s5 = le2.fit_transform(y_test_A3_RGB_s5) "
      ],
      "metadata": {
        "id": "45D1Dk1Z49Ae"
      },
      "execution_count": 435,
      "outputs": []
    },
    {
      "cell_type": "code",
      "source": [
        "y_test_A3_RGB_s5 = to_categorical(y_test_A3_RGB_s5, num_classes=16)"
      ],
      "metadata": {
        "id": "ATXpf2bg49Ae"
      },
      "execution_count": 436,
      "outputs": []
    },
    {
      "cell_type": "code",
      "source": [
        "y_pred_A3_RGB_s5 = new_data2.predict(X_test_A3_RGB_s5)"
      ],
      "metadata": {
        "id": "ysM0t9pH49Af"
      },
      "execution_count": 437,
      "outputs": []
    },
    {
      "cell_type": "code",
      "source": [
        "y_pred2_A3_RGB_s5 = le.fit_transform(y_pred_A3_RGB_s5) "
      ],
      "metadata": {
        "id": "STS_tfKY49Af"
      },
      "execution_count": 438,
      "outputs": []
    },
    {
      "cell_type": "code",
      "source": [
        "y_pred2_A3_RGB_s5 = to_categorical(y_pred2_A3_RGB_s5, num_classes=16)"
      ],
      "metadata": {
        "id": "Z70XsWyE49Af"
      },
      "execution_count": 439,
      "outputs": []
    },
    {
      "cell_type": "code",
      "source": [
        "y_pred2_A3_RGB_s5.ndim"
      ],
      "metadata": {
        "colab": {
          "base_uri": "https://localhost:8080/"
        },
        "id": "uPnSjM2Z49Af",
        "outputId": "6eb6fbaa-90e7-40a5-b108-03a0194b27df"
      },
      "execution_count": 440,
      "outputs": [
        {
          "output_type": "execute_result",
          "data": {
            "text/plain": [
              "2"
            ]
          },
          "metadata": {},
          "execution_count": 440
        }
      ]
    },
    {
      "cell_type": "code",
      "source": [
        "y_test_A3_RGB_s5.ndim"
      ],
      "metadata": {
        "colab": {
          "base_uri": "https://localhost:8080/"
        },
        "id": "2hgkJuuu49Af",
        "outputId": "bf328db2-1cc3-4748-b9c4-cb4fed078102"
      },
      "execution_count": 442,
      "outputs": [
        {
          "output_type": "execute_result",
          "data": {
            "text/plain": [
              "2"
            ]
          },
          "metadata": {},
          "execution_count": 442
        }
      ]
    },
    {
      "cell_type": "code",
      "source": [
        "y_pred = y_pred2_A3_RGB_s5.argmax(axis=1)          #ค่า predict \n",
        "y_true  = y_test_A3_RGB_s5.argmax(axis=1)\n",
        "class_names = le2.classes_                          # ชื่อคลาสว่ามีไรบ้าง --> ['Abnormal' , 'Normal]\n",
        "\n",
        "\n",
        "def plot_confusion_matrix(y_true, y_pred, classes,\n",
        "                          normalize=False,\n",
        "                          title=None,\n",
        "                          cmap=plt.cm.BuPu):\n",
        "    \"\"\"\n",
        "    This function prints and plots the confusion matrix.\n",
        "    Normalization can be applied by setting normalize=True.\n",
        "    \"\"\"\n",
        "    if not title:\n",
        "        if normalize:\n",
        "            title = 'Normalized confusion matrix'\n",
        "        else:\n",
        "            title = 'Confusion matrix, without normalization'\n",
        "\n",
        "    # Compute confusion matrix\n",
        "    cm = confusion_matrix(y_true, y_pred)\n",
        "    # Only use the labels that appear in the data\n",
        "    classes = classes[unique_labels(y_true, y_pred)]\n",
        "    if normalize:\n",
        "        cm = cm.astype('float') / cm.sum(axis=1)[:, np.newaxis]\n",
        "        print(\"Normalized confusion matrix\")\n",
        "    else:\n",
        "        print('Confusion matrix, without normalization')\n",
        "\n",
        "    print(cm)\n",
        "\n",
        "    fig, ax = plt.subplots()\n",
        "    im = ax.imshow(cm, interpolation='nearest', cmap=cmap)\n",
        "    ax.figure.colorbar(im, ax=ax)\n",
        "    # We want to show all ticks...\n",
        "    ax.set(xticks=np.arange(cm.shape[1]),\n",
        "           yticks=np.arange(cm.shape[0]),\n",
        "           # ... and label them with the respective list entries\n",
        "           xticklabels=classes, yticklabels=classes,\n",
        "           title=title,\n",
        "           ylabel='True label',\n",
        "           xlabel='Predicted label')\n",
        "\n",
        "    # Rotate the tick labels and set their alignment.\n",
        "    plt.setp(ax.get_xticklabels(), rotation=45, ha=\"right\",\n",
        "             rotation_mode=\"anchor\")\n",
        "\n",
        "    # Loop over data dimensions and create text annotations.\n",
        "    fmt = '.2f' if normalize else 'd'\n",
        "    thresh = cm.max() / 2.\n",
        "    for i in range(cm.shape[0]):\n",
        "        for j in range(cm.shape[1]):\n",
        "            ax.text(j, i, format(cm[i, j], fmt),\n",
        "                    ha=\"center\", va=\"center\",\n",
        "                    color=\"white\" if cm[i, j] > thresh else \"black\")\n",
        "    fig.tight_layout()\n",
        "    return ax\n",
        "\n",
        "\n",
        "np.set_printoptions(precision=2)\n",
        "\n",
        "# Plot non-normalized confusion matrix\n",
        "plot_confusion_matrix(y_true, y_pred, classes=class_names,\n",
        "                      title='Confusion matrix, without normalization')\n",
        "\n",
        "# Plot normalized confusion matrix\n",
        "plot_confusion_matrix(y_true, y_pred, classes=class_names, normalize=True,\n",
        "                      title='Normalized confusion matrix')\n",
        "\n",
        "plt.show()"
      ],
      "metadata": {
        "colab": {
          "base_uri": "https://localhost:8080/",
          "height": 1000
        },
        "id": "JUek-ZxP49Af",
        "outputId": "d7091e6e-ff69-41c9-a83f-40a472155610"
      },
      "execution_count": 443,
      "outputs": [
        {
          "output_type": "stream",
          "name": "stdout",
          "text": [
            "Confusion matrix, without normalization\n",
            "[[ 0  0  0 12  0  0  0 38  0  0  0  0  0  0  0  0]\n",
            " [ 0  0  0  0 50  0  0  0  0  0  0  0  0  0  0  0]\n",
            " [10  0  0  0 40  0  0  0  0  0  0  0  0  0  0  0]\n",
            " [ 0 22  0  0  0  0 28  0  0  0  0  0  0  0  0  0]\n",
            " [ 0  0  0  0  0  0 50  0  0  0  0  0  0  0  0  0]\n",
            " [ 0  0  2  0  0  0  0 48  0  0  0  0  0  0  0  0]\n",
            " [ 0  0  0  0 50  0  0  0  0  0  0  0  0  0  0  0]\n",
            " [ 0  0  0  0  2 47  0  0  1  0  0  0  0  0  0  0]\n",
            " [ 0 12  0  0  0  0 38  0  0  0  0  0  0  0  0  0]\n",
            " [ 0  0  0  0 20  0  0 30  0  0  0  0  0  0  0  0]\n",
            " [ 0  0  0  0  1 49  0  0  0  0  0  0  0  0  0  0]\n",
            " [ 0  0  0  0  0  0 50  0  0  0  0  0  0  0  0  0]\n",
            " [ 0  0  0  0  0  0 50  0  0  0  0  0  0  0  0  0]\n",
            " [ 0  0  0  0 19  0  0 31  0  0  0  0  0  0  0  0]\n",
            " [ 0  0  0  0  0 50  0  0  0  0  0  0  0  0  0  0]\n",
            " [ 0  0  0  0  0 42  8  0  0  0  0  0  0  0  0  0]]\n",
            "Normalized confusion matrix\n",
            "[[0.   0.   0.   0.24 0.   0.   0.   0.76 0.   0.   0.   0.   0.   0.\n",
            "  0.   0.  ]\n",
            " [0.   0.   0.   0.   1.   0.   0.   0.   0.   0.   0.   0.   0.   0.\n",
            "  0.   0.  ]\n",
            " [0.2  0.   0.   0.   0.8  0.   0.   0.   0.   0.   0.   0.   0.   0.\n",
            "  0.   0.  ]\n",
            " [0.   0.44 0.   0.   0.   0.   0.56 0.   0.   0.   0.   0.   0.   0.\n",
            "  0.   0.  ]\n",
            " [0.   0.   0.   0.   0.   0.   1.   0.   0.   0.   0.   0.   0.   0.\n",
            "  0.   0.  ]\n",
            " [0.   0.   0.04 0.   0.   0.   0.   0.96 0.   0.   0.   0.   0.   0.\n",
            "  0.   0.  ]\n",
            " [0.   0.   0.   0.   1.   0.   0.   0.   0.   0.   0.   0.   0.   0.\n",
            "  0.   0.  ]\n",
            " [0.   0.   0.   0.   0.04 0.94 0.   0.   0.02 0.   0.   0.   0.   0.\n",
            "  0.   0.  ]\n",
            " [0.   0.24 0.   0.   0.   0.   0.76 0.   0.   0.   0.   0.   0.   0.\n",
            "  0.   0.  ]\n",
            " [0.   0.   0.   0.   0.4  0.   0.   0.6  0.   0.   0.   0.   0.   0.\n",
            "  0.   0.  ]\n",
            " [0.   0.   0.   0.   0.02 0.98 0.   0.   0.   0.   0.   0.   0.   0.\n",
            "  0.   0.  ]\n",
            " [0.   0.   0.   0.   0.   0.   1.   0.   0.   0.   0.   0.   0.   0.\n",
            "  0.   0.  ]\n",
            " [0.   0.   0.   0.   0.   0.   1.   0.   0.   0.   0.   0.   0.   0.\n",
            "  0.   0.  ]\n",
            " [0.   0.   0.   0.   0.38 0.   0.   0.62 0.   0.   0.   0.   0.   0.\n",
            "  0.   0.  ]\n",
            " [0.   0.   0.   0.   0.   1.   0.   0.   0.   0.   0.   0.   0.   0.\n",
            "  0.   0.  ]\n",
            " [0.   0.   0.   0.   0.   0.84 0.16 0.   0.   0.   0.   0.   0.   0.\n",
            "  0.   0.  ]]\n"
          ]
        },
        {
          "output_type": "display_data",
          "data": {
            "text/plain": [
              "<Figure size 432x288 with 2 Axes>"
            ],
            "image/png": "[encoded data removed]"
          },
          "metadata": {
            "needs_background": "light"
          }
        },
        {
          "output_type": "display_data",
          "data": {
            "text/plain": [
              "<Figure size 432x288 with 2 Axes>"
            ],
            "image/png": "[encoded data removed]"
          },
          "metadata": {
            "needs_background": "light"
          }
        }
      ]
    }
  ]
}