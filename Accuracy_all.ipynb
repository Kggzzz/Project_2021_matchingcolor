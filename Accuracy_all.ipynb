{
  "nbformat": 4,
  "nbformat_minor": 0,
  "metadata": {
    "colab": {
      "name": "Accuracy_all.ipynb",
      "provenance": [],
      "authorship_tag": "ABX9TyMevficYGbD82j+Cg0RpLfm",
      "include_colab_link": true
    },
    "kernelspec": {
      "name": "python3",
      "display_name": "Python 3"
    },
    "language_info": {
      "name": "python"
    }
  },
  "cells": [
    {
      "cell_type": "markdown",
      "metadata": {
        "id": "view-in-github",
        "colab_type": "text"
      },
      "source": [
        "<a href=\"https://colab.research.google.com/github/Kggzzz/Project_2021_matchingcolor/blob/main/Accuracy_all.ipynb\" target=\"_parent\"><img src=\"https://colab.research.google.com/assets/colab-badge.svg\" alt=\"Open In Colab\"/></a>"
      ]
    },
    {
      "cell_type": "markdown",
      "source": [
        "#Model "
      ],
      "metadata": {
        "id": "ssvGIa4Py9rG"
      }
    },
    {
      "cell_type": "code",
      "source": [
        "import numpy as np"
      ],
      "metadata": {
        "id": "8ISBGlPBzzvw"
      },
      "execution_count": null,
      "outputs": []
    },
    {
      "cell_type": "code",
      "source": [
        "from sklearn import metrics"
      ],
      "metadata": {
        "id": "FTwRPXBBzw1v"
      },
      "execution_count": null,
      "outputs": []
    },
    {
      "cell_type": "code",
      "source": [
        "from sklearn import datasets"
      ],
      "metadata": {
        "id": "KR8lVsZXpX9X"
      },
      "execution_count": null,
      "outputs": []
    },
    {
      "cell_type": "code",
      "source": [
        "from sklearn.ensemble import RandomForestClassifier"
      ],
      "metadata": {
        "id": "cfRBaPLCI0vn"
      },
      "execution_count": null,
      "outputs": []
    },
    {
      "cell_type": "code",
      "source": [
        "import xgboost as xgb"
      ],
      "metadata": {
        "id": "h50-WlNzOp3W"
      },
      "execution_count": null,
      "outputs": []
    },
    {
      "cell_type": "code",
      "source": [
        "from sklearn import svm"
      ],
      "metadata": {
        "id": "wM9lCq5ZOqOc"
      },
      "execution_count": null,
      "outputs": []
    },
    {
      "cell_type": "code",
      "source": [
        "import pandas as pd"
      ],
      "metadata": {
        "id": "uJm_2vBUP9p2"
      },
      "execution_count": null,
      "outputs": []
    },
    {
      "cell_type": "code",
      "source": [
        "from google.colab import drive \n",
        "drive.mount('/content/drive')"
      ],
      "metadata": {
        "colab": {
          "base_uri": "https://localhost:8080/"
        },
        "id": "_8KDD0WgQC_c",
        "outputId": "1f407c4a-2669-4ffd-affc-bd2e1c3e83dd"
      },
      "execution_count": null,
      "outputs": [
        {
          "output_type": "stream",
          "name": "stdout",
          "text": [
            "Mounted at /content/drive\n"
          ]
        }
      ]
    },
    {
      "cell_type": "code",
      "source": [
        "import os"
      ],
      "metadata": {
        "id": "-RXgiw8nQEFY"
      },
      "execution_count": null,
      "outputs": []
    },
    {
      "cell_type": "code",
      "source": [
        "path = '/content/drive/My Drive/shadeimg/SVM shade'"
      ],
      "metadata": {
        "id": "ehxFczjDQFLC"
      },
      "execution_count": null,
      "outputs": []
    },
    {
      "cell_type": "code",
      "source": [
        "os.listdir(path)"
      ],
      "metadata": {
        "id": "B7dvVcB-QGcE",
        "colab": {
          "base_uri": "https://localhost:8080/"
        },
        "outputId": "4cf77b8c-b6bc-4370-c096-a2399aa4cb55"
      },
      "execution_count": null,
      "outputs": [
        {
          "output_type": "execute_result",
          "data": {
            "text/plain": [
              "['DD.xlsx',\n",
              " 'CC.xlsx',\n",
              " 'BB.xlsx',\n",
              " 'Shade_AA.xlsx',\n",
              " 'Shade_CC.xlsx',\n",
              " 'Shade_DD.xlsx',\n",
              " 'Shade_BB.xlsx',\n",
              " 'AA.xlsx',\n",
              " 'AA_2.xlsx',\n",
              " 'Shad_A.xlsx',\n",
              " 'Shad_B.xlsx',\n",
              " 'Shad_C.xlsx',\n",
              " 'Shad_D.xlsx',\n",
              " 'Setting4.xlsx',\n",
              " 'Color-checkerAA.xlsx',\n",
              " 'Color-checkerBB.xlsx',\n",
              " 'Color-checkerCC.xlsx',\n",
              " 'Setting2.xlsx',\n",
              " 'D3set51.csv',\n",
              " 'Setting1.xlsx',\n",
              " 'CheckerDD.xlsx',\n",
              " 'Setting3.xlsx',\n",
              " 'Setting6.xlsx',\n",
              " 'Setting5.xlsx',\n",
              " 'checkerShad_A .xlsx',\n",
              " 'checkerShad_B.xlsx',\n",
              " 'checkerShad_C.xlsx',\n",
              " 'D3Set5-61.xlsx',\n",
              " 'checkerShad_D.xlsx',\n",
              " 'Color-checkerDD.xlsx',\n",
              " 'Datapoint_1.xlsx',\n",
              " 'Datapoint_2.xlsx',\n",
              " 'Datapoint_3.xlsx',\n",
              " 'Datapoint_4.xlsx',\n",
              " 'Datapoint_6.xlsx',\n",
              " 'Datapoint_5.xlsx']"
            ]
          },
          "metadata": {},
          "execution_count": 11
        }
      ]
    },
    {
      "cell_type": "code",
      "source": [
        "Set1 = os.path.join(path,'Datapoint_1.xlsx')\n",
        "print(Set1)"
      ],
      "metadata": {
        "id": "CMbG8rSdQIaw",
        "colab": {
          "base_uri": "https://localhost:8080/"
        },
        "outputId": "5cd52481-dd63-4c63-b697-8b3d30ea7704"
      },
      "execution_count": null,
      "outputs": [
        {
          "output_type": "stream",
          "name": "stdout",
          "text": [
            "/content/drive/My Drive/shadeimg/SVM shade/Datapoint_1.xlsx\n"
          ]
        }
      ]
    },
    {
      "cell_type": "code",
      "source": [
        "Set2 = os.path.join(path,'Datapoint_2.xlsx')\n",
        "print(Set2)"
      ],
      "metadata": {
        "id": "SwX5IxeQQJk-",
        "colab": {
          "base_uri": "https://localhost:8080/"
        },
        "outputId": "9cc889fb-3e54-46f0-ea55-ed2924242641"
      },
      "execution_count": null,
      "outputs": [
        {
          "output_type": "stream",
          "name": "stdout",
          "text": [
            "/content/drive/My Drive/shadeimg/SVM shade/Datapoint_2.xlsx\n"
          ]
        }
      ]
    },
    {
      "cell_type": "code",
      "source": [
        "Set3 = os.path.join(path,'Datapoint_3.xlsx')\n",
        "print(Set3)"
      ],
      "metadata": {
        "id": "m2BCIcaIQLQK",
        "colab": {
          "base_uri": "https://localhost:8080/"
        },
        "outputId": "a0d7ce46-79cf-4ec3-ba42-e69b54d496a5"
      },
      "execution_count": null,
      "outputs": [
        {
          "output_type": "stream",
          "name": "stdout",
          "text": [
            "/content/drive/My Drive/shadeimg/SVM shade/Datapoint_3.xlsx\n"
          ]
        }
      ]
    },
    {
      "cell_type": "code",
      "source": [
        "Set4 = os.path.join(path,'Datapoint_4.xlsx')\n",
        "print(Set4)"
      ],
      "metadata": {
        "id": "JjNMYk0fQMha",
        "colab": {
          "base_uri": "https://localhost:8080/"
        },
        "outputId": "2da304d7-d98d-44e3-da23-fe68535f395e"
      },
      "execution_count": null,
      "outputs": [
        {
          "output_type": "stream",
          "name": "stdout",
          "text": [
            "/content/drive/My Drive/shadeimg/SVM shade/Datapoint_4.xlsx\n"
          ]
        }
      ]
    },
    {
      "cell_type": "code",
      "source": [
        "Set5 = os.path.join(path,'Datapoint_5.xlsx')\n",
        "print(Set5)"
      ],
      "metadata": {
        "id": "YpXzpzEBQ0oT",
        "colab": {
          "base_uri": "https://localhost:8080/"
        },
        "outputId": "f6906a2b-174b-4b16-c554-f9aab38fc9b5"
      },
      "execution_count": null,
      "outputs": [
        {
          "output_type": "stream",
          "name": "stdout",
          "text": [
            "/content/drive/My Drive/shadeimg/SVM shade/Datapoint_5.xlsx\n"
          ]
        }
      ]
    },
    {
      "cell_type": "code",
      "source": [
        "Set6 = os.path.join(path,'Datapoint_6.xlsx')\n",
        "print(Set6)"
      ],
      "metadata": {
        "id": "wd2Y2s-SQ3YD",
        "colab": {
          "base_uri": "https://localhost:8080/"
        },
        "outputId": "a3f58be6-fc6a-43e0-8323-de9f07c3b1fa"
      },
      "execution_count": null,
      "outputs": [
        {
          "output_type": "stream",
          "name": "stdout",
          "text": [
            "/content/drive/My Drive/shadeimg/SVM shade/Datapoint_6.xlsx\n"
          ]
        }
      ]
    },
    {
      "cell_type": "markdown",
      "source": [
        "#Data"
      ],
      "metadata": {
        "id": "MkXd0gi4lAJN"
      }
    },
    {
      "cell_type": "markdown",
      "source": [
        "A2"
      ],
      "metadata": {
        "id": "am5YPcQ-lCHt"
      }
    },
    {
      "cell_type": "code",
      "source": [
        "table_A2Set1 = pd.read_excel(Set1, sheet_name='A2_1')\n",
        "table_A2Set2 = pd.read_excel(Set2, sheet_name='A2_2')\n",
        "table_A2Set3 = pd.read_excel(Set3, sheet_name='A2_3')\n",
        "table_A2Set4 = pd.read_excel(Set4, sheet_name='A2_4')\n",
        "table_A2Set5 = pd.read_excel(Set5, sheet_name='A2_5')\n",
        "table_A2Set6 = pd.read_excel(Set6, sheet_name='A2_6')"
      ],
      "metadata": {
        "id": "ZXIlOdDxk0Zf"
      },
      "execution_count": null,
      "outputs": []
    },
    {
      "cell_type": "code",
      "source": [
        "RGB_A2_Set1 = table_A2Set1\n",
        "RGB_A2_Set2 = table_A2Set2\n",
        "RGB_A2_Set3 = table_A2Set3\n",
        "RGB_A2_Set4 = table_A2Set4\n",
        "RGB_A2_Set6 = table_A2Set6"
      ],
      "metadata": {
        "id": "O6Tm9r7UlogO"
      },
      "execution_count": null,
      "outputs": []
    },
    {
      "cell_type": "markdown",
      "source": [
        "A3"
      ],
      "metadata": {
        "id": "nuRUpDoalE1m"
      }
    },
    {
      "cell_type": "code",
      "source": [
        "table_A3Set1 = pd.read_excel(Set1, sheet_name='A3_1')\n",
        "table_A3Set2 = pd.read_excel(Set2, sheet_name='A3_2')\n",
        "table_A3Set3 = pd.read_excel(Set3, sheet_name='A3_3')\n",
        "table_A3Set4 = pd.read_excel(Set4, sheet_name='A3_4')\n",
        "table_A3Set5 = pd.read_excel(Set5, sheet_name='A3_5')\n",
        "table_A3Set6 = pd.read_excel(Set6, sheet_name='A3_6')"
      ],
      "metadata": {
        "id": "7zjYniMHlDZE"
      },
      "execution_count": null,
      "outputs": []
    },
    {
      "cell_type": "code",
      "source": [
        "RGB_A3_Set1 = table_A3Set1\n",
        "RGB_A3_Set2 = table_A3Set2\n",
        "RGB_A3_Set3 = table_A3Set3\n",
        "RGB_A3_Set4 = table_A3Set4\n",
        "RGB_A3_Set6 = table_A3Set6"
      ],
      "metadata": {
        "id": "TMdizlI8mLjK"
      },
      "execution_count": null,
      "outputs": []
    },
    {
      "cell_type": "markdown",
      "source": [
        "A4"
      ],
      "metadata": {
        "id": "ESK1pj4GlKQ4"
      }
    },
    {
      "cell_type": "code",
      "source": [
        "table_A4Set1 = pd.read_excel(Set1, sheet_name='A4_1')\n",
        "table_A4Set2 = pd.read_excel(Set2, sheet_name='A4_2')\n",
        "table_A4Set3 = pd.read_excel(Set3, sheet_name='A4_3')\n",
        "table_A4Set4 = pd.read_excel(Set4, sheet_name='A4_4')\n",
        "table_A4Set5 = pd.read_excel(Set5, sheet_name='A4_5')\n",
        "table_A4Set6 = pd.read_excel(Set6, sheet_name='A4_6')"
      ],
      "metadata": {
        "id": "U7ZIO_oplQkN"
      },
      "execution_count": null,
      "outputs": []
    },
    {
      "cell_type": "code",
      "source": [
        "RGB_A4_Set1 = table_A4Set1\n",
        "RGB_A4_Set2 = table_A4Set2\n",
        "RGB_A4_Set3 = table_A4Set3\n",
        "RGB_A4_Set4 = table_A4Set4\n",
        "RGB_A4_Set6 = table_A4Set6"
      ],
      "metadata": {
        "id": "3HetUP0OmQqn"
      },
      "execution_count": null,
      "outputs": []
    },
    {
      "cell_type": "markdown",
      "source": [
        "C2"
      ],
      "metadata": {
        "id": "-yLgmo66lWGq"
      }
    },
    {
      "cell_type": "code",
      "source": [
        "table_C2Set1 = pd.read_excel(Set1, sheet_name='C2_1')\n",
        "table_C2Set2 = pd.read_excel(Set2, sheet_name='C2_2')\n",
        "table_C2Set3 = pd.read_excel(Set3, sheet_name='C2_3')\n",
        "table_C2Set4 = pd.read_excel(Set4, sheet_name='C2_4')\n",
        "table_C2Set5 = pd.read_excel(Set5, sheet_name='C2_5')\n",
        "table_C2Set6 = pd.read_excel(Set6, sheet_name='C2_6')"
      ],
      "metadata": {
        "id": "MInP8IS6lXx4"
      },
      "execution_count": null,
      "outputs": []
    },
    {
      "cell_type": "code",
      "source": [
        "RGB_C2_Set1 = table_C2Set1\n",
        "RGB_C2_Set2 = table_C2Set2\n",
        "RGB_C2_Set3 = table_C2Set3\n",
        "RGB_C2_Set4 = table_C2Set4\n",
        "RGB_C2_Set6 = table_C2Set6"
      ],
      "metadata": {
        "id": "9SuezECzmVQT"
      },
      "execution_count": null,
      "outputs": []
    },
    {
      "cell_type": "markdown",
      "source": [
        "D4"
      ],
      "metadata": {
        "id": "tu1sRFdllfDe"
      }
    },
    {
      "cell_type": "code",
      "source": [
        "table_D4Set1 = pd.read_excel(Set1, sheet_name='D4_1')\n",
        "table_D4Set2 = pd.read_excel(Set2, sheet_name='D4_2')\n",
        "table_D4Set3 = pd.read_excel(Set3, sheet_name='D4_3')\n",
        "table_D4Set4 = pd.read_excel(Set4, sheet_name='D4_4')\n",
        "table_D4Set5 = pd.read_excel(Set5, sheet_name='D4_5')\n",
        "table_D4Set6 = pd.read_excel(Set6, sheet_name='D4_6')"
      ],
      "metadata": {
        "id": "FvUBT1tJlf3E"
      },
      "execution_count": null,
      "outputs": []
    },
    {
      "cell_type": "code",
      "source": [
        "RGB_D4_Set1 = table_D4Set1\n",
        "RGB_D4_Set2 = table_D4Set2\n",
        "RGB_D4_Set3 = table_D4Set3\n",
        "RGB_D4_Set4 = table_D4Set4\n",
        "RGB_D4_Set6 = table_D4Set6"
      ],
      "metadata": {
        "id": "JkqODuhSmZPc"
      },
      "execution_count": null,
      "outputs": []
    },
    {
      "cell_type": "markdown",
      "source": [
        "#RF ref"
      ],
      "metadata": {
        "id": "Hg9Wsid2jkFO"
      }
    },
    {
      "cell_type": "markdown",
      "source": [
        "##RGB A2"
      ],
      "metadata": {
        "id": "k5C-Gdw9jl5w"
      }
    },
    {
      "cell_type": "code",
      "source": [
        "RF1 = RandomForestClassifier()"
      ],
      "metadata": {
        "id": "GSX1Lt1ijcrw"
      },
      "execution_count": null,
      "outputs": []
    },
    {
      "cell_type": "code",
      "source": [
        "RGB_A2_RF_ref = table_A2Set5"
      ],
      "metadata": {
        "id": "e8d3-PVQl-Jy"
      },
      "execution_count": null,
      "outputs": []
    },
    {
      "cell_type": "code",
      "source": [
        "RGB_A2_RF_ref = RGB_A2_RF_ref.drop(['H-ref','S-ref','V-ref','H-Shad','S-Shad','V-Shad','Setting','Ref','Shad','Img'], axis=1)"
      ],
      "metadata": {
        "id": "rUX2oMyyo0Ys"
      },
      "execution_count": null,
      "outputs": []
    },
    {
      "cell_type": "code",
      "source": [
        "RGB_A2_concat = pd.concat([RGB_A2_Set1,RGB_A2_Set2,RGB_A2_Set3,RGB_A2_Set4,RGB_A2_Set6])"
      ],
      "metadata": {
        "id": "BqcjcRdZnzdf"
      },
      "execution_count": null,
      "outputs": []
    },
    {
      "cell_type": "code",
      "source": [
        "RGB_A2_concat_RF_ref = RGB_A2_concat.drop(['H-ref','S-ref','V-ref','H-Shad','S-Shad','V-Shad','Setting','Ref','Shad','Img'], axis=1)"
      ],
      "metadata": {
        "id": "WD_34cCCoHaA"
      },
      "execution_count": null,
      "outputs": []
    },
    {
      "cell_type": "code",
      "source": [
        "X_test_RGB_A2_RF_ref = np.array(RGB_A2_RF_ref)"
      ],
      "metadata": {
        "id": "GwsJ3hmqo-CM"
      },
      "execution_count": null,
      "outputs": []
    },
    {
      "cell_type": "code",
      "source": [
        "y_RGB_A2_RF_ref =  table_A2Set5.iloc[:,14:15]"
      ],
      "metadata": {
        "id": "ggXftwqipJHH"
      },
      "execution_count": null,
      "outputs": []
    },
    {
      "cell_type": "code",
      "source": [
        "y_test_RGB_A2_RF_ref = np.array(y_RGB_A2_RF_ref)"
      ],
      "metadata": {
        "id": "AO5HO_G9pSLW"
      },
      "execution_count": null,
      "outputs": []
    },
    {
      "cell_type": "code",
      "source": [
        "X_train_RGB_A2_RF_ref = np.array(RGB_A2_concat_RF_ref)"
      ],
      "metadata": {
        "id": "S-9QkOWopXDQ"
      },
      "execution_count": null,
      "outputs": []
    },
    {
      "cell_type": "code",
      "source": [
        "y_train_A2RGB_RF_ref = RGB_A2_concat.iloc[:,14:15]"
      ],
      "metadata": {
        "id": "vkrSiHNLpfWD"
      },
      "execution_count": null,
      "outputs": []
    },
    {
      "cell_type": "code",
      "source": [
        "y_train_A2_RGB_RF_ref = np.array(y_train_A2RGB_RF_ref)"
      ],
      "metadata": {
        "id": "uaWJDnoiphS6"
      },
      "execution_count": null,
      "outputs": []
    },
    {
      "cell_type": "code",
      "source": [
        "y_train_A2_RGB_RF_ref.shape = (len(y_train_A2_RGB_RF_ref,))"
      ],
      "metadata": {
        "id": "Fyovo7KSpo5d"
      },
      "execution_count": null,
      "outputs": []
    },
    {
      "cell_type": "code",
      "source": [
        "RF1.fit(X_train_RGB_A2_RF_ref, y_train_A2_RGB_RF_ref)"
      ],
      "metadata": {
        "id": "YHWMTRJHptPZ"
      },
      "execution_count": null,
      "outputs": []
    },
    {
      "cell_type": "code",
      "source": [
        "y_pred_A2_RF_ref = RF1.predict(X_test_RGB_A2_RF_ref)"
      ],
      "metadata": {
        "id": "qjVMNKOmpzD3"
      },
      "execution_count": null,
      "outputs": []
    },
    {
      "cell_type": "code",
      "source": [
        "AC_RGB_RF_ref = metrics.accuracy_score(y_test_RGB_A2_RF_ref, y_pred_A2_RF_ref)"
      ],
      "metadata": {
        "id": "aBgvP8Fup8x7"
      },
      "execution_count": null,
      "outputs": []
    },
    {
      "cell_type": "markdown",
      "source": [
        "##HSV A3"
      ],
      "metadata": {
        "id": "_VqMECUnjpAV"
      }
    },
    {
      "cell_type": "code",
      "source": [
        "RF2 = RandomForestClassifier()"
      ],
      "metadata": {
        "id": "iEQoiTS8mfjL"
      },
      "execution_count": null,
      "outputs": []
    },
    {
      "cell_type": "code",
      "source": [
        "HSV_A3_RF_ref = table_A3Set5"
      ],
      "metadata": {
        "id": "OFPjbxPLklWV"
      },
      "execution_count": null,
      "outputs": []
    },
    {
      "cell_type": "code",
      "source": [
        "HSV_A3_RF_ref = HSV_A3_RF_ref.drop(['R-ref','G-ref','B-ref','R-Shad','G-Shad','B-Shad','Setting','Ref','Shad','Img'], axis=1)"
      ],
      "metadata": {
        "id": "KIssqW7DoS44"
      },
      "execution_count": null,
      "outputs": []
    },
    {
      "cell_type": "code",
      "source": [
        "HSV_A3_concat = pd.concat([RGB_A2_Set1,RGB_A2_Set2,RGB_A2_Set3,RGB_A2_Set4,RGB_A2_Set6])"
      ],
      "metadata": {
        "id": "21eKNElAoIqR"
      },
      "execution_count": null,
      "outputs": []
    },
    {
      "cell_type": "code",
      "source": [
        "HSV_A3_concat_RF_ref = HSV_A3_concat.drop(['R-ref','G-ref','B-ref','R-Shad','G-Shad','B-Shad','Setting','Ref','Shad','Img'], axis=1)"
      ],
      "metadata": {
        "id": "W9TqpxvaoQKV"
      },
      "execution_count": null,
      "outputs": []
    },
    {
      "cell_type": "code",
      "source": [
        "X_test_HSV_A2_RF_ref = np.array(HSV_A3_RF_ref)"
      ],
      "metadata": {
        "id": "xY04KTE6oxq8"
      },
      "execution_count": null,
      "outputs": []
    },
    {
      "cell_type": "code",
      "source": [
        "y_HSV_A3_RF_ref =  table_A3Set5.iloc[:,14:15]"
      ],
      "metadata": {
        "id": "6XPcu_ZiqS9f"
      },
      "execution_count": null,
      "outputs": []
    },
    {
      "cell_type": "code",
      "source": [
        "y_test_HSV_A3_RF_ref = np.array(y_HSV_A3_RF_ref)"
      ],
      "metadata": {
        "id": "E7H1Y3_dqS9g"
      },
      "execution_count": null,
      "outputs": []
    },
    {
      "cell_type": "code",
      "source": [
        "X_train_HSV_A3_RF_ref = np.array(HSV_A3_concat_RF_ref)"
      ],
      "metadata": {
        "id": "jjLW71RlqS9g"
      },
      "execution_count": null,
      "outputs": []
    },
    {
      "cell_type": "code",
      "source": [
        "y_train_A3HSV_RF_ref = HSV_A3_concat.iloc[:,14:15]"
      ],
      "metadata": {
        "id": "xcytID3mqS9g"
      },
      "execution_count": null,
      "outputs": []
    },
    {
      "cell_type": "code",
      "source": [
        "y_train_A3_HSV_RF_ref = np.array(y_train_A3HSV_RF_ref)"
      ],
      "metadata": {
        "id": "XgucPP4lqS9g"
      },
      "execution_count": null,
      "outputs": []
    },
    {
      "cell_type": "code",
      "source": [
        "y_train_A3_HSV_RF_ref.shape = (len(y_train_A3_HSV_RF_ref,))"
      ],
      "metadata": {
        "id": "IpU9qrpEqS9g"
      },
      "execution_count": null,
      "outputs": []
    },
    {
      "cell_type": "code",
      "source": [
        "RF2.fit(X_train_HSV_A3_RF_ref, y_train_A3_HSV_RF_ref)"
      ],
      "metadata": {
        "id": "iJ2b8N8wqS9h"
      },
      "execution_count": null,
      "outputs": []
    },
    {
      "cell_type": "code",
      "source": [
        "y_pred_A3_RF_ref = RF2.predict(X_test_HSV_A3_RF_ref)"
      ],
      "metadata": {
        "id": "d6FwLFpOqS9h"
      },
      "execution_count": null,
      "outputs": []
    },
    {
      "cell_type": "code",
      "source": [
        "AC_HSV_RF_ref = metrics.accuracy_score(y_test_HSV_A3_RF_ref, y_pred_A3_RF_ref)"
      ],
      "metadata": {
        "id": "MKPJyg_2qS9h"
      },
      "execution_count": null,
      "outputs": []
    },
    {
      "cell_type": "markdown",
      "source": [
        "#RF no ref"
      ],
      "metadata": {
        "id": "WJDkFryBjrL0"
      }
    },
    {
      "cell_type": "markdown",
      "source": [
        "##RGB A3"
      ],
      "metadata": {
        "id": "fpupOfirjs93"
      }
    },
    {
      "cell_type": "code",
      "source": [
        "RF3 = RandomForestClassifier()"
      ],
      "metadata": {
        "id": "bbKqZqL4kl1X"
      },
      "execution_count": null,
      "outputs": []
    },
    {
      "cell_type": "code",
      "source": [
        "RGB_A3_RF_noref = table_A3Set5"
      ],
      "metadata": {
        "id": "m2jNxbsQmnLo"
      },
      "execution_count": null,
      "outputs": []
    },
    {
      "cell_type": "code",
      "source": [
        "RGB_A3_RF_noref = RGB_A3_RF_ref.drop(['R-ref','G-ref','B-ref','H-ref','S-ref','V-ref','H-Shad','S-Shad','V-Shad','Setting','Ref','Shad','Img'], axis=1)"
      ],
      "metadata": {
        "id": "t5JZJj8UtPDT"
      },
      "execution_count": null,
      "outputs": []
    },
    {
      "cell_type": "code",
      "source": [
        "RGB_A2_concat = pd.concat([RGB_A3_Set1,RGB_A3_Set2,RGB_A3_Set3,RGB_A3_Set4,RGB_A3_Set6])"
      ],
      "metadata": {
        "id": "lAEI_PfytPDT"
      },
      "execution_count": null,
      "outputs": []
    },
    {
      "cell_type": "code",
      "source": [
        "RGB_A3_concat_RF_noref = RGB_A3_concat.drop(['R-ref','G-ref','B-ref','H-ref','S-ref','V-ref','H-Shad','S-Shad','V-Shad','Setting','Ref','Shad','Img'], axis=1)"
      ],
      "metadata": {
        "id": "1J3Wz5SstPDT"
      },
      "execution_count": null,
      "outputs": []
    },
    {
      "cell_type": "code",
      "source": [
        "X_test_RGB_A3_RF_noref = np.array(RGB_A3_RF_noref)"
      ],
      "metadata": {
        "id": "QXwf6cuKtPDT"
      },
      "execution_count": null,
      "outputs": []
    },
    {
      "cell_type": "code",
      "source": [
        "y_RGB_A3_RF_noref =  table_A3Set5.iloc[:,14:15]"
      ],
      "metadata": {
        "id": "v6g0-NMEtPDU"
      },
      "execution_count": null,
      "outputs": []
    },
    {
      "cell_type": "code",
      "source": [
        "y_test_RGB_A3_RF_noref = np.array(y_RGB_A3_RF_noref)"
      ],
      "metadata": {
        "id": "qM9BpqUKtPDU"
      },
      "execution_count": null,
      "outputs": []
    },
    {
      "cell_type": "code",
      "source": [
        "X_train_RGB_A3_RF_noref = np.array(RGB_A3_concat_RF_noref)"
      ],
      "metadata": {
        "id": "-4RYEqe5tPDU"
      },
      "execution_count": null,
      "outputs": []
    },
    {
      "cell_type": "code",
      "source": [
        "y_train_A3RGB_RF_noref = RGB_A3_concat.iloc[:,14:15]"
      ],
      "metadata": {
        "id": "KL1HsaaxtPDU"
      },
      "execution_count": null,
      "outputs": []
    },
    {
      "cell_type": "code",
      "source": [
        "y_train_A3_RGB_RF_noref= np.array(y_train_A3RGB_RF_noref)"
      ],
      "metadata": {
        "id": "6ISqJjA7tPDU"
      },
      "execution_count": null,
      "outputs": []
    },
    {
      "cell_type": "code",
      "source": [
        "y_train_A3_RGB_RF_noref.shape = (len(y_train_A3_RGB_RF_noref,))"
      ],
      "metadata": {
        "id": "awpqKvR5tPDU"
      },
      "execution_count": null,
      "outputs": []
    },
    {
      "cell_type": "code",
      "source": [
        "RF3.fit(X_train_RGB_A3_RF_noref, y_train_A3_RGB_RF_noref)"
      ],
      "metadata": {
        "id": "nFhsTruTtPDU"
      },
      "execution_count": null,
      "outputs": []
    },
    {
      "cell_type": "code",
      "source": [
        "y_pred_A3_RF_noref = RF3.predict(X_test_RGB_A3_RF_noref)"
      ],
      "metadata": {
        "id": "qroaUEeUtPDU"
      },
      "execution_count": null,
      "outputs": []
    },
    {
      "cell_type": "code",
      "source": [
        "AC_RGB_RF_noref = metrics.accuracy_score(y_test_RGB_A3_RF_noref, y_pred_A3_RF_noref)"
      ],
      "metadata": {
        "id": "Airci4IctPDU"
      },
      "execution_count": null,
      "outputs": []
    },
    {
      "cell_type": "markdown",
      "source": [
        "##HSV A3"
      ],
      "metadata": {
        "id": "W_jzhsfWjums"
      }
    },
    {
      "cell_type": "code",
      "source": [
        "RF4 = RandomForestClassifier()"
      ],
      "metadata": {
        "id": "T26DoYa3kmLl"
      },
      "execution_count": null,
      "outputs": []
    },
    {
      "cell_type": "code",
      "source": [
        "HSV_A3_RF_noref = table_A3Set5"
      ],
      "metadata": {
        "id": "n1mKORrkmp8q"
      },
      "execution_count": null,
      "outputs": []
    },
    {
      "cell_type": "code",
      "source": [
        "HSV_A3_RF_noref = HSV_A3_RF_noref.drop(['R-ref','G-ref','B-ref','R-Shad','G-Shad','B-Shad','H-ref','S-ref','V-ref','Setting','Ref','Shad','Img'], axis=1)"
      ],
      "metadata": {
        "id": "zKjLAoBptmWw"
      },
      "execution_count": null,
      "outputs": []
    },
    {
      "cell_type": "code",
      "source": [
        "HSV_A3_concat = pd.concat([RGB_A3_Set1,RGB_A3_Set2,RGB_A3_Set3,RGB_A3_Set4,RGB_A3_Set6])"
      ],
      "metadata": {
        "id": "iPiOiaIMtmWw"
      },
      "execution_count": null,
      "outputs": []
    },
    {
      "cell_type": "code",
      "source": [
        "HSV_A3_concat_RF_noref = HSV_A3_concat.drop(['R-ref','G-ref','B-ref','R-Shad','G-Shad','B-Shad','H-ref','S-ref','V-ref','Setting','Ref','Shad','Img'], axis=1)"
      ],
      "metadata": {
        "id": "X7nYHN6AtmWw"
      },
      "execution_count": null,
      "outputs": []
    },
    {
      "cell_type": "code",
      "source": [
        "X_test_HSV_A3_RF_noref = np.array(HSV_A3_RF_noref)"
      ],
      "metadata": {
        "id": "vof1HrWPtmWw"
      },
      "execution_count": null,
      "outputs": []
    },
    {
      "cell_type": "code",
      "source": [
        "y_HSV_A3_RF_noref =  table_A3Set5.iloc[:,14:15]"
      ],
      "metadata": {
        "id": "pyQa0XAHtmWx"
      },
      "execution_count": null,
      "outputs": []
    },
    {
      "cell_type": "code",
      "source": [
        "y_test_HSV_A3_RF_noref = np.array(y_HSV_A3_RF_noref)"
      ],
      "metadata": {
        "id": "5o-XND_7tmWx"
      },
      "execution_count": null,
      "outputs": []
    },
    {
      "cell_type": "code",
      "source": [
        "X_train_HSV_A3_RF_noref = np.array(HSV_A3_concat_RF_noref)"
      ],
      "metadata": {
        "id": "aEcYwFlNtmWx"
      },
      "execution_count": null,
      "outputs": []
    },
    {
      "cell_type": "code",
      "source": [
        "y_train_A3HSV_RF_noref = HSV_A3_concat.iloc[:,14:15]"
      ],
      "metadata": {
        "id": "H9Ak1mK0tmWx"
      },
      "execution_count": null,
      "outputs": []
    },
    {
      "cell_type": "code",
      "source": [
        "y_train_A3_HSV_RF_noref = np.array(y_train_A3HSV_RF_noref)"
      ],
      "metadata": {
        "id": "ysB3qGiWtmWx"
      },
      "execution_count": null,
      "outputs": []
    },
    {
      "cell_type": "code",
      "source": [
        "y_train_A3_HSV_RF_noref.shape = (len(y_train_A3_HSV_RF_noref,))"
      ],
      "metadata": {
        "id": "Ks53kfZftmWx"
      },
      "execution_count": null,
      "outputs": []
    },
    {
      "cell_type": "code",
      "source": [
        "RF4.fit(X_train_HSV_A3_RF_noref, y_train_A3_HSV_RF_noref)"
      ],
      "metadata": {
        "id": "KocQrf9PtmWx"
      },
      "execution_count": null,
      "outputs": []
    },
    {
      "cell_type": "code",
      "source": [
        "y_pred_A3_RF_noref = RF4.predict(X_test_HSV_A3_RF_noref)"
      ],
      "metadata": {
        "id": "q0cO18bctmWx"
      },
      "execution_count": null,
      "outputs": []
    },
    {
      "cell_type": "code",
      "source": [
        "AC_HSV_RF_noref = metrics.accuracy_score(y_test_HSV_A3_RF_noref, y_pred_A3_RF_noref)"
      ],
      "metadata": {
        "id": "BXtH2joEtmWx"
      },
      "execution_count": null,
      "outputs": []
    },
    {
      "cell_type": "markdown",
      "source": [
        "#SVM ref"
      ],
      "metadata": {
        "id": "qQ6byqlMjzZT"
      }
    },
    {
      "cell_type": "markdown",
      "source": [
        "##RGB C2 "
      ],
      "metadata": {
        "id": "hgGCpu1Fj17W"
      }
    },
    {
      "cell_type": "code",
      "source": [
        "SVM1 = svm.SVC()"
      ],
      "metadata": {
        "id": "dyXkc4lkknK1"
      },
      "execution_count": null,
      "outputs": []
    },
    {
      "cell_type": "code",
      "source": [
        "RGB_C2_SVM_ref = table_C2Set5"
      ],
      "metadata": {
        "id": "MWaNqKESnK8b"
      },
      "execution_count": null,
      "outputs": []
    },
    {
      "cell_type": "code",
      "source": [
        "RGB_C2_SVM_ref = RGB_C2_SVM_ref.drop(['H-ref','S-ref','V-ref','H-Shad','S-Shad','V-Shad','Setting','Ref','Shad','Img'], axis=1)"
      ],
      "metadata": {
        "id": "5kJxx63Xq7Xx"
      },
      "execution_count": null,
      "outputs": []
    },
    {
      "cell_type": "code",
      "source": [
        "RGB_C2_concat = pd.concat([RGB_C2_Set1,RGB_C2_Set2,RGB_C2_Set3,RGB_C2_Set4,RGB_C2_Set6])"
      ],
      "metadata": {
        "id": "sfmqIZHkq7Xy"
      },
      "execution_count": null,
      "outputs": []
    },
    {
      "cell_type": "code",
      "source": [
        "RGB_C2_concat_SVM_ref = RGB_C2_concat.drop(['H-ref','S-ref','V-ref','H-Shad','S-Shad','V-Shad','Setting','Ref','Shad','Img'], axis=1)"
      ],
      "metadata": {
        "id": "eFfBhWQdq7Xy"
      },
      "execution_count": null,
      "outputs": []
    },
    {
      "cell_type": "code",
      "source": [
        "X_test_RGB_C2_SVM_ref = np.array(RGB_C2_SVM_ref)"
      ],
      "metadata": {
        "id": "GTVCf3PDq7Xy"
      },
      "execution_count": null,
      "outputs": []
    },
    {
      "cell_type": "code",
      "source": [
        "y_RGB_C2_SVM_ref =  table_C2Set5.iloc[:,14:15]"
      ],
      "metadata": {
        "id": "r7x1W8E7q7Xy"
      },
      "execution_count": null,
      "outputs": []
    },
    {
      "cell_type": "code",
      "source": [
        "y_test_RGB_C2_SVM_ref = np.array(y_RGB_C2_SVM_ref)"
      ],
      "metadata": {
        "id": "h626P_acq7Xy"
      },
      "execution_count": null,
      "outputs": []
    },
    {
      "cell_type": "code",
      "source": [
        "X_train_RGB_C2_SVM_ref = np.array(RGB_C2_concat_SVM_ref)"
      ],
      "metadata": {
        "id": "nEI7ohdHq7Xy"
      },
      "execution_count": null,
      "outputs": []
    },
    {
      "cell_type": "code",
      "source": [
        "y_train_C2RGB_SVM_ref = RGB_C2_concat.iloc[:,14:15]"
      ],
      "metadata": {
        "id": "FfwZzXEOq7Xy"
      },
      "execution_count": null,
      "outputs": []
    },
    {
      "cell_type": "code",
      "source": [
        "y_train_C2_RGB_SVM_ref = np.array(y_train_C2RGB_SVM_ref)"
      ],
      "metadata": {
        "id": "G8t3u7LRq7Xy"
      },
      "execution_count": null,
      "outputs": []
    },
    {
      "cell_type": "code",
      "source": [
        "y_train_C2_RGB_SVM_ref.shape = (len(y_train_C2_RGB_SVM_ref,))"
      ],
      "metadata": {
        "id": "X3MU-q3_q7Xy"
      },
      "execution_count": null,
      "outputs": []
    },
    {
      "cell_type": "code",
      "source": [
        "SVM1.fit(X_train_RGB_C2_SVM_ref, y_train_C2_RGB_SVM_ref)"
      ],
      "metadata": {
        "id": "TcTuTdJPq7Xz"
      },
      "execution_count": null,
      "outputs": []
    },
    {
      "cell_type": "code",
      "source": [
        "y_pred_C2_SVM_ref = SVM1.predict(X_test_RGB_C2_SVM_ref)"
      ],
      "metadata": {
        "id": "C8p9zrk8q7Xz"
      },
      "execution_count": null,
      "outputs": []
    },
    {
      "cell_type": "code",
      "source": [
        "AC_RGB_SVM_ref = metrics.accuracy_score(y_test_RGB_C2_SVM_ref, y_pred_C2_SVM_ref)"
      ],
      "metadata": {
        "id": "DqbRiGa7q7Xz"
      },
      "execution_count": null,
      "outputs": []
    },
    {
      "cell_type": "markdown",
      "source": [
        "##HSV A4"
      ],
      "metadata": {
        "id": "_xA_izGRj5_a"
      }
    },
    {
      "cell_type": "code",
      "source": [
        "SVM2 = svm.SVC()"
      ],
      "metadata": {
        "id": "SzKokn3zknuc"
      },
      "execution_count": null,
      "outputs": []
    },
    {
      "cell_type": "code",
      "source": [
        "HSV_A4_SVM_ref = table_A4Set5"
      ],
      "metadata": {
        "id": "OlgYfQQcnieA"
      },
      "execution_count": null,
      "outputs": []
    },
    {
      "cell_type": "code",
      "source": [
        "HSV_A4_SVM_ref = HSV_A3_SVM_ref.drop(['R-ref','G-ref','B-ref','R-Shad','G-Shad','B-Shad','Setting','Ref','Shad','Img'], axis=1)"
      ],
      "metadata": {
        "id": "RatGuoGErqu1"
      },
      "execution_count": null,
      "outputs": []
    },
    {
      "cell_type": "code",
      "source": [
        "HSV_A4_concat = pd.concat([RGB_A4_Set1,RGB_A4_Set2,RGB_A4_Set3,RGB_A4_Set4,RGB_A4_Set6])"
      ],
      "metadata": {
        "id": "_eZ3UhOxrqu1"
      },
      "execution_count": null,
      "outputs": []
    },
    {
      "cell_type": "code",
      "source": [
        "HSV_A4_concat_SVM_ref = HSV_A4_concat.drop(['R-ref','G-ref','B-ref','R-Shad','G-Shad','B-Shad','Setting','Ref','Shad','Img'], axis=1)"
      ],
      "metadata": {
        "id": "kr8UuVHnrqu1"
      },
      "execution_count": null,
      "outputs": []
    },
    {
      "cell_type": "code",
      "source": [
        "X_test_HSV_A4_SVM_ref = np.array(HSV_A4_SVM_ref)"
      ],
      "metadata": {
        "id": "YlyUTjU4rqu1"
      },
      "execution_count": null,
      "outputs": []
    },
    {
      "cell_type": "code",
      "source": [
        "y_HSV_A4_SVM_ref =  table_A4Set5.iloc[:,14:15]"
      ],
      "metadata": {
        "id": "cXXWNi8Zrqu1"
      },
      "execution_count": null,
      "outputs": []
    },
    {
      "cell_type": "code",
      "source": [
        "y_test_HSV_A4_SVM_ref = np.array(y_HSV_A4_SVM_ref)"
      ],
      "metadata": {
        "id": "VoKQSwHLrqu1"
      },
      "execution_count": null,
      "outputs": []
    },
    {
      "cell_type": "code",
      "source": [
        "X_train_HSV_A4_SVM_ref = np.array(HSV_A4_concat_SVM_ref)"
      ],
      "metadata": {
        "id": "DuGkGOggrqu1"
      },
      "execution_count": null,
      "outputs": []
    },
    {
      "cell_type": "code",
      "source": [
        "y_train_A4HSV_SVM_ref = HSV_A4_concat.iloc[:,14:15]"
      ],
      "metadata": {
        "id": "FM6KKH6Xrqu2"
      },
      "execution_count": null,
      "outputs": []
    },
    {
      "cell_type": "code",
      "source": [
        "y_train_A4_HSV_SVM_ref = np.array(y_train_A4HSV_SVM_ref)"
      ],
      "metadata": {
        "id": "ZJ5TEPCSrqu2"
      },
      "execution_count": null,
      "outputs": []
    },
    {
      "cell_type": "code",
      "source": [
        "y_train_A4_HSV_SVM_ref.shape = (len(y_train_A4_HSV_SVM_ref,))"
      ],
      "metadata": {
        "id": "OhzoCIu-rqu2"
      },
      "execution_count": null,
      "outputs": []
    },
    {
      "cell_type": "code",
      "source": [
        "SVM2.fit(X_train_HSV_A4_SVM_ref, y_train_A4_HSV_SVM_ref)"
      ],
      "metadata": {
        "id": "BEY2yKfKrqu2"
      },
      "execution_count": null,
      "outputs": []
    },
    {
      "cell_type": "code",
      "source": [
        "y_pred_A4_SVM_ref = SVM2.predict(X_test_HSV_A4_SVM_ref)"
      ],
      "metadata": {
        "id": "hhuOTksGrqu2"
      },
      "execution_count": null,
      "outputs": []
    },
    {
      "cell_type": "code",
      "source": [
        "AC_HSV_SVM_ref = metrics.accuracy_score(y_test_HSV_A4_SVM_ref, y_pred_A4_SVM_ref)"
      ],
      "metadata": {
        "id": "0_shuopArqu2"
      },
      "execution_count": null,
      "outputs": []
    },
    {
      "cell_type": "markdown",
      "source": [
        "#SVM no ref"
      ],
      "metadata": {
        "id": "gpSft08Wj8lt"
      }
    },
    {
      "cell_type": "markdown",
      "source": [
        "##RGB A3"
      ],
      "metadata": {
        "id": "D653Sl2Gj_PP"
      }
    },
    {
      "cell_type": "code",
      "source": [
        "SVM3 = svm.SVC()"
      ],
      "metadata": {
        "id": "NnZONbbHkoH2"
      },
      "execution_count": null,
      "outputs": []
    },
    {
      "cell_type": "code",
      "source": [
        "RGB_A3_SVM_noref = table_A3Set5"
      ],
      "metadata": {
        "id": "WVVqnNKinOeC"
      },
      "execution_count": null,
      "outputs": []
    },
    {
      "cell_type": "code",
      "source": [
        "RGB_A3_SVM_noref = RGB_A2_SVM_noref.drop(['R-ref','G-ref','B-ref','H-ref','S-ref','V-ref','H-Shad','S-Shad','V-Shad','Setting','Ref','Shad','Img'], axis=1)"
      ],
      "metadata": {
        "id": "stmKGuW7usnh"
      },
      "execution_count": null,
      "outputs": []
    },
    {
      "cell_type": "code",
      "source": [
        "RGB_A3_concat = pd.concat([RGB_A3_Set1,RGB_A3_Set2,RGB_A3_Set3,RGB_A3_Set4,RGB_A3_Set6])"
      ],
      "metadata": {
        "id": "JnvaD8MNusnh"
      },
      "execution_count": null,
      "outputs": []
    },
    {
      "cell_type": "code",
      "source": [
        "RGB_A3_concat_SVM_noref = RGB_A3_concat.drop(['R-ref','G-ref','B-ref','H-ref','S-ref','V-ref','H-Shad','S-Shad','V-Shad','Setting','Ref','Shad','Img'], axis=1)"
      ],
      "metadata": {
        "id": "SPH0aNL3usnh"
      },
      "execution_count": null,
      "outputs": []
    },
    {
      "cell_type": "code",
      "source": [
        "X_test_RGB_A3_SVM_noref = np.array(RGB_A3_SVM_noref)"
      ],
      "metadata": {
        "id": "xSfhKbMSusni"
      },
      "execution_count": null,
      "outputs": []
    },
    {
      "cell_type": "code",
      "source": [
        "y_RGB_A3_SVM_noref =  table_A3Set5.iloc[:,14:15]"
      ],
      "metadata": {
        "id": "hiqbSmyyusni"
      },
      "execution_count": null,
      "outputs": []
    },
    {
      "cell_type": "code",
      "source": [
        "y_test_RGB_A3_SVM_noref = np.array(y_RGB_A3_SVM_noref)"
      ],
      "metadata": {
        "id": "35Lekmk8usni"
      },
      "execution_count": null,
      "outputs": []
    },
    {
      "cell_type": "code",
      "source": [
        "X_train_RGB_A3_SVM_noref = np.array(RGB_A3_concat_SVM_noref)"
      ],
      "metadata": {
        "id": "FwJYXF6Gusni"
      },
      "execution_count": null,
      "outputs": []
    },
    {
      "cell_type": "code",
      "source": [
        "y_train_A3RGB_SVM_noref = RGB_A3_concat.iloc[:,14:15]"
      ],
      "metadata": {
        "id": "IDJ1XFNPusni"
      },
      "execution_count": null,
      "outputs": []
    },
    {
      "cell_type": "code",
      "source": [
        "y_train_A3_RGB_SVM_noref= np.array(y_train_A3RGB_SVM_noref)"
      ],
      "metadata": {
        "id": "yiEyKSlQusni"
      },
      "execution_count": null,
      "outputs": []
    },
    {
      "cell_type": "code",
      "source": [
        "y_train_A3_RGB_SVM_noref.shape = (len(y_train_A3_RGB_SVM_noref,))"
      ],
      "metadata": {
        "id": "Rz-bzAXcusni"
      },
      "execution_count": null,
      "outputs": []
    },
    {
      "cell_type": "code",
      "source": [
        "SVM3.fit(X_train_RGB_A3_SVM_noref, y_train_A3_RGB_SVM_noref)"
      ],
      "metadata": {
        "id": "e8zHDdj0usni"
      },
      "execution_count": null,
      "outputs": []
    },
    {
      "cell_type": "code",
      "source": [
        "y_pred_A3_SVM_noref = SVM3.predict(X_test_RGB_A3_SVM_noref)"
      ],
      "metadata": {
        "id": "znqStewVusni"
      },
      "execution_count": null,
      "outputs": []
    },
    {
      "cell_type": "code",
      "source": [
        "AC_RGB_SVM_noref = metrics.accuracy_score(y_test_RGB_A3_SVM_noref, y_pred_A3_SVM_noref)"
      ],
      "metadata": {
        "id": "E0CvrpNJusni"
      },
      "execution_count": null,
      "outputs": []
    },
    {
      "cell_type": "markdown",
      "source": [
        "##HSV A3"
      ],
      "metadata": {
        "id": "AUds1eH2kEua"
      }
    },
    {
      "cell_type": "code",
      "source": [
        "SVM4 = svm.SVC()"
      ],
      "metadata": {
        "id": "lMm_e95Bkoi9"
      },
      "execution_count": null,
      "outputs": []
    },
    {
      "cell_type": "code",
      "source": [
        "HSV_A3_SVM_noref = table_A3Set5"
      ],
      "metadata": {
        "id": "BTC0uB5vnmYj"
      },
      "execution_count": null,
      "outputs": []
    },
    {
      "cell_type": "code",
      "source": [
        "HSV_A3_SVM_noref = HSV_A3_SVM_noref.drop(['R-ref','G-ref','B-ref','R-Shad','G-Shad','B-Shad','H-ref','S-ref','V-ref','Setting','Ref','Shad','Img'], axis=1)"
      ],
      "metadata": {
        "id": "-ZCkD1MzuMQM"
      },
      "execution_count": null,
      "outputs": []
    },
    {
      "cell_type": "code",
      "source": [
        "HSV_A3_concat = pd.concat([RGB_A3_Set1,RGB_A3_Set2,RGB_A3_Set3,RGB_A3_Set4,RGB_A3_Set6])"
      ],
      "metadata": {
        "id": "ZnRsppmouMQM"
      },
      "execution_count": null,
      "outputs": []
    },
    {
      "cell_type": "code",
      "source": [
        "HSV_A3_concat_SVM_noref = HSV_A3_concat.drop(['R-ref','G-ref','B-ref','R-Shad','G-Shad','B-Shad','H-ref','S-ref','V-ref','Setting','Ref','Shad','Img'], axis=1)"
      ],
      "metadata": {
        "id": "_7HZzLmCuMQM"
      },
      "execution_count": null,
      "outputs": []
    },
    {
      "cell_type": "code",
      "source": [
        "X_test_HSV_A2_SVM_noref = np.array(HSV_A3_SVM_noref)"
      ],
      "metadata": {
        "id": "rM-qH_MCuMQM"
      },
      "execution_count": null,
      "outputs": []
    },
    {
      "cell_type": "code",
      "source": [
        "y_HSV_A3_SVM_noref =  table_A3Set5.iloc[:,14:15]"
      ],
      "metadata": {
        "id": "TIyemdU0uMQM"
      },
      "execution_count": null,
      "outputs": []
    },
    {
      "cell_type": "code",
      "source": [
        "y_test_HSV_A3_SVM_noref = np.array(y_HSV_A3_SVM_noref)"
      ],
      "metadata": {
        "id": "vghzDhaWuMQM"
      },
      "execution_count": null,
      "outputs": []
    },
    {
      "cell_type": "code",
      "source": [
        "X_train_HSV_A3_SVM_noref = np.array(HSV_A3_concat_SVM_noref)"
      ],
      "metadata": {
        "id": "tsFAyZrOuMQM"
      },
      "execution_count": null,
      "outputs": []
    },
    {
      "cell_type": "code",
      "source": [
        "y_train_A3HSV_SVM_noref = HSV_A3_concat.iloc[:,14:15]"
      ],
      "metadata": {
        "id": "NCNcBa8OuMQN"
      },
      "execution_count": null,
      "outputs": []
    },
    {
      "cell_type": "code",
      "source": [
        "y_train_A3_HSV_SVM_noref = np.array(y_train_A3HSV_SVM_noref)"
      ],
      "metadata": {
        "id": "LaKZuHuLuMQN"
      },
      "execution_count": null,
      "outputs": []
    },
    {
      "cell_type": "code",
      "source": [
        "y_train_A3_HSV_SVM_noref.shape = (len(y_train_A3_HSV_SVM_noref,))"
      ],
      "metadata": {
        "id": "MOztsx-euMQN"
      },
      "execution_count": null,
      "outputs": []
    },
    {
      "cell_type": "code",
      "source": [
        "SVM4.fit(X_train_HSV_A3_SVM_noref, y_train_A3_HSV_SVM_noref)"
      ],
      "metadata": {
        "id": "KIFnlaZuuMQN"
      },
      "execution_count": null,
      "outputs": []
    },
    {
      "cell_type": "code",
      "source": [
        "y_pred_A3_SVM_noref = SVM4.predict(X_test_HSV_A3_SVM_noref)"
      ],
      "metadata": {
        "id": "F_TCNHBAuMQN"
      },
      "execution_count": null,
      "outputs": []
    },
    {
      "cell_type": "code",
      "source": [
        "AC_HSV_SVM_noref = metrics.accuracy_score(y_test_HSV_A3_SVM_noref, y_pred_A3_SVM_noref)"
      ],
      "metadata": {
        "id": "qiWklwstuMQN"
      },
      "execution_count": null,
      "outputs": []
    },
    {
      "cell_type": "markdown",
      "source": [
        "#XGB ref"
      ],
      "metadata": {
        "id": "g1GUXdRfkJ6R"
      }
    },
    {
      "cell_type": "markdown",
      "source": [
        "##RGB A2"
      ],
      "metadata": {
        "id": "ukmFehJ6kN61"
      }
    },
    {
      "cell_type": "code",
      "source": [
        "xgb1 = xgb.XGBClassifier()"
      ],
      "metadata": {
        "id": "SLp4n0pdkpEI"
      },
      "execution_count": null,
      "outputs": []
    },
    {
      "cell_type": "code",
      "source": [
        "RGB_A2_XGB_ref = table_A2Set5"
      ],
      "metadata": {
        "id": "BqXjzCv3nRBK"
      },
      "execution_count": null,
      "outputs": []
    },
    {
      "cell_type": "code",
      "source": [
        "RGB_A2_XGB_ref = RGB_A2_XGB_ref.drop(['H-ref','S-ref','V-ref','H-Shad','S-Shad','V-Shad','Setting','Ref','Shad','Img'], axis=1)"
      ],
      "metadata": {
        "id": "H2K3bFJbsXMr"
      },
      "execution_count": null,
      "outputs": []
    },
    {
      "cell_type": "code",
      "source": [
        "RGB_A2_concat = pd.concat([RGB_A2_Set1,RGB_A2_Set2,RGB_A2_Set3,RGB_A2_Set4,RGB_A2_Set6])"
      ],
      "metadata": {
        "id": "KSqwj1EmsXMr"
      },
      "execution_count": null,
      "outputs": []
    },
    {
      "cell_type": "code",
      "source": [
        "RGB_A2_concat_XGB_ref = RGB_A2_concat.drop(['H-ref','S-ref','V-ref','H-Shad','S-Shad','V-Shad','Setting','Ref','Shad','Img'], axis=1)"
      ],
      "metadata": {
        "id": "wyRmAvnZsXMr"
      },
      "execution_count": null,
      "outputs": []
    },
    {
      "cell_type": "code",
      "source": [
        "X_test_RGB_A2_XGB_ref = np.array(RGB_A2_XGB_ref)"
      ],
      "metadata": {
        "id": "63zYhdlIsXMr"
      },
      "execution_count": null,
      "outputs": []
    },
    {
      "cell_type": "code",
      "source": [
        "y_RGB_A2_XGB_ref =  table_A2Set5.iloc[:,14:15]"
      ],
      "metadata": {
        "id": "AnFPVNCesXMs"
      },
      "execution_count": null,
      "outputs": []
    },
    {
      "cell_type": "code",
      "source": [
        "y_test_RGB_A2_XGB_ref = np.array(y_RGB_A2_XGB_ref)"
      ],
      "metadata": {
        "id": "_AppRg6EsXMs"
      },
      "execution_count": null,
      "outputs": []
    },
    {
      "cell_type": "code",
      "source": [
        "X_train_RGB_A2_XGB_ref = np.array(RGB_A2_concat_XGB_ref)"
      ],
      "metadata": {
        "id": "PZDBts6BsXMs"
      },
      "execution_count": null,
      "outputs": []
    },
    {
      "cell_type": "code",
      "source": [
        "y_train_A2RGB_XGB_ref = RGB_A2_concat.iloc[:,14:15]"
      ],
      "metadata": {
        "id": "sW-y34PusXMs"
      },
      "execution_count": null,
      "outputs": []
    },
    {
      "cell_type": "code",
      "source": [
        "y_train_A2_RGB_XGB_ref = np.array(y_train_A2RGB_XGB_ref)"
      ],
      "metadata": {
        "id": "oFzNYu1TsXMs"
      },
      "execution_count": null,
      "outputs": []
    },
    {
      "cell_type": "code",
      "source": [
        "y_train_A2_RGB_XGB_ref.shape = (len(y_train_A2_RGB_XGB_ref,))"
      ],
      "metadata": {
        "id": "8RjeQ4NtsXMs"
      },
      "execution_count": null,
      "outputs": []
    },
    {
      "cell_type": "code",
      "source": [
        "xgb1.fit(X_train_RGB_A2_XGB_ref, y_train_A2_RGB_XGB_ref)"
      ],
      "metadata": {
        "id": "jcLrEwoJsXMs"
      },
      "execution_count": null,
      "outputs": []
    },
    {
      "cell_type": "code",
      "source": [
        "y_pred_A2_XGB_ref = xgb1.predict(X_test_RGB_A2_XGB_ref)"
      ],
      "metadata": {
        "id": "7cODCMtLsXMs"
      },
      "execution_count": null,
      "outputs": []
    },
    {
      "cell_type": "code",
      "source": [
        "AC_RGB_XGB_ref = metrics.accuracy_score(y_test_RGB_A2_XGB_ref, y_pred_A2_XGB_ref)"
      ],
      "metadata": {
        "id": "GlADk-X8sXMs"
      },
      "execution_count": null,
      "outputs": []
    },
    {
      "cell_type": "markdown",
      "source": [
        "##HSV A3"
      ],
      "metadata": {
        "id": "Fwo-wxAVkQgX"
      }
    },
    {
      "cell_type": "code",
      "source": [
        "xgb2 = xgb.XGBClassifier()"
      ],
      "metadata": {
        "id": "Hu2nLIPjkpgS"
      },
      "execution_count": null,
      "outputs": []
    },
    {
      "cell_type": "code",
      "source": [
        "HSV_A3_XGB_ref = table_A3Set5"
      ],
      "metadata": {
        "id": "80zTcO20nvqJ"
      },
      "execution_count": null,
      "outputs": []
    },
    {
      "cell_type": "code",
      "source": [
        "HSV_A3_XGB_ref = HSV_A3_RF_ref.drop(['R-ref','G-ref','B-ref','R-Shad','G-Shad','B-Shad','Setting','Ref','Shad','Img'], axis=1)"
      ],
      "metadata": {
        "id": "dpbuoirPs7n5"
      },
      "execution_count": null,
      "outputs": []
    },
    {
      "cell_type": "code",
      "source": [
        "HSV_A3_concat = pd.concat([RGB_A3_Set1,RGB_A3_Set2,RGB_A3_Set3,RGB_A3_Set4,RGB_A3_Set6])"
      ],
      "metadata": {
        "id": "nDPOThP6s7n5"
      },
      "execution_count": null,
      "outputs": []
    },
    {
      "cell_type": "code",
      "source": [
        "HSV_A3_concat_XGB_ref = HSV_A3_concat.drop(['R-ref','G-ref','B-ref','R-Shad','G-Shad','B-Shad','Setting','Ref','Shad','Img'], axis=1)"
      ],
      "metadata": {
        "id": "1qkpcfA6s7n5"
      },
      "execution_count": null,
      "outputs": []
    },
    {
      "cell_type": "code",
      "source": [
        "X_test_HSV_A2_XGB_ref = np.array(HSV_A3_XGB_ref)"
      ],
      "metadata": {
        "id": "osacyi7Ys7n5"
      },
      "execution_count": null,
      "outputs": []
    },
    {
      "cell_type": "code",
      "source": [
        "y_HSV_A3_XGB_ref =  table_A3Set5.iloc[:,14:15]"
      ],
      "metadata": {
        "id": "aCAINqMXs7n5"
      },
      "execution_count": null,
      "outputs": []
    },
    {
      "cell_type": "code",
      "source": [
        "y_test_HSV_A3_XGB_ref = np.array(y_HSV_A3_XGB_ref)"
      ],
      "metadata": {
        "id": "xApzbTGts7n5"
      },
      "execution_count": null,
      "outputs": []
    },
    {
      "cell_type": "code",
      "source": [
        "X_train_HSV_A3_XGB_ref = np.array(HSV_A3_concat_XGB_ref)"
      ],
      "metadata": {
        "id": "Aex24dZys7n6"
      },
      "execution_count": null,
      "outputs": []
    },
    {
      "cell_type": "code",
      "source": [
        "y_train_A3HSV_XGB_ref = HSV_A3_concat.iloc[:,14:15]"
      ],
      "metadata": {
        "id": "s3UEEfdOs7n6"
      },
      "execution_count": null,
      "outputs": []
    },
    {
      "cell_type": "code",
      "source": [
        "y_train_A3_HSV_XGB_ref = np.array(y_train_A3HSV_XGB_ref)"
      ],
      "metadata": {
        "id": "eQiweaq3s7n6"
      },
      "execution_count": null,
      "outputs": []
    },
    {
      "cell_type": "code",
      "source": [
        "y_train_A3_HSV_RF_ref.shape = (len(y_train_A3_HSV_XGB_ref,))"
      ],
      "metadata": {
        "id": "FmWMxorUs7n6"
      },
      "execution_count": null,
      "outputs": []
    },
    {
      "cell_type": "code",
      "source": [
        "xgb2.fit(X_train_HSV_A3_XGB_ref, y_train_A3_HSV_XGB_ref)"
      ],
      "metadata": {
        "id": "v61hrEKxs7n6"
      },
      "execution_count": null,
      "outputs": []
    },
    {
      "cell_type": "code",
      "source": [
        "y_pred_A3_XGB_ref = xgb2.predict(X_test_HSV_A3_XGB_ref)"
      ],
      "metadata": {
        "id": "dlen0ijms7n6"
      },
      "execution_count": null,
      "outputs": []
    },
    {
      "cell_type": "code",
      "source": [
        "AC_HSV_XGB_ref = metrics.accuracy_score(y_test_HSV_A3_XGB_ref, y_pred_A3_XGB_ref)"
      ],
      "metadata": {
        "id": "K4pJKiGgs7n6"
      },
      "execution_count": null,
      "outputs": []
    },
    {
      "cell_type": "markdown",
      "source": [
        "#XGB no ref "
      ],
      "metadata": {
        "id": "7P0G1T1ekTwF"
      }
    },
    {
      "cell_type": "markdown",
      "source": [
        "##RGB D4"
      ],
      "metadata": {
        "id": "fRnYmWuykV0q"
      }
    },
    {
      "cell_type": "code",
      "source": [
        "xgb3 = xgb.XGBClassifier()"
      ],
      "metadata": {
        "id": "xIHqdKWmkqOC"
      },
      "execution_count": null,
      "outputs": []
    },
    {
      "cell_type": "code",
      "source": [
        "RGB_D4_XGB_noref = table_D4Set5"
      ],
      "metadata": {
        "id": "Lp8RJ3VMnTeH"
      },
      "execution_count": null,
      "outputs": []
    },
    {
      "cell_type": "code",
      "source": [
        "RGB_D4_XGB_noref = RGB_D4_XGB_ref.drop(['R-ref','G-ref','B-ref','H-ref','S-ref','V-ref','H-Shad','S-Shad','V-Shad','Setting','Ref','Shad','Img'], axis=1)"
      ],
      "metadata": {
        "id": "_gc4YaS-vZgq"
      },
      "execution_count": null,
      "outputs": []
    },
    {
      "cell_type": "code",
      "source": [
        "RGB_D4_concat = pd.concat([RGB_D4_Set1,RGB_D4_Set2,RGB_D4_Set3,RGB_D4_Set4,RGB_D4_Set6])"
      ],
      "metadata": {
        "id": "6sObq2MAvZgq"
      },
      "execution_count": null,
      "outputs": []
    },
    {
      "cell_type": "code",
      "source": [
        "RGB_D4_concat_XGB_noref = RGB_D4_concat.drop(['R-ref','G-ref','B-ref','H-ref','S-ref','V-ref','H-Shad','S-Shad','V-Shad','Setting','Ref','Shad','Img'], axis=1)"
      ],
      "metadata": {
        "id": "rnnnnhS4vZgq"
      },
      "execution_count": null,
      "outputs": []
    },
    {
      "cell_type": "code",
      "source": [
        "X_test_RGB_D4_XGB_noref = np.array(RGB_D4_XGB_noref)"
      ],
      "metadata": {
        "id": "aEm41dDBvZgq"
      },
      "execution_count": null,
      "outputs": []
    },
    {
      "cell_type": "code",
      "source": [
        "y_RGB_D4_XGB_noref =  table_D4Set5.iloc[:,14:15]"
      ],
      "metadata": {
        "id": "gRBOkJfXvZgr"
      },
      "execution_count": null,
      "outputs": []
    },
    {
      "cell_type": "code",
      "source": [
        "y_test_RGB_D4_XGB_noref = np.array(y_RGB_D4_XGB_noref)"
      ],
      "metadata": {
        "id": "83BcM7EPvZgr"
      },
      "execution_count": null,
      "outputs": []
    },
    {
      "cell_type": "code",
      "source": [
        "X_train_RGB_D4_XGB_noref = np.array(RGB_D4_concat_XGB_noref)"
      ],
      "metadata": {
        "id": "yGBFx7pPvZgr"
      },
      "execution_count": null,
      "outputs": []
    },
    {
      "cell_type": "code",
      "source": [
        "y_train_D4RGB_XGB_noref = RGB_D4_concat.iloc[:,14:15]"
      ],
      "metadata": {
        "id": "FMBjEDbXvZgr"
      },
      "execution_count": null,
      "outputs": []
    },
    {
      "cell_type": "code",
      "source": [
        "y_train_D4_RGB_XGB_noref= np.array(y_train_D4RGB_XGB_noref)"
      ],
      "metadata": {
        "id": "Fb3vcY_bvZgr"
      },
      "execution_count": null,
      "outputs": []
    },
    {
      "cell_type": "code",
      "source": [
        "y_train_D4_RGB_XGB_noref.shape = (len(y_train_D4_RGB_XGB_noref,))"
      ],
      "metadata": {
        "id": "gtcvm8bDvZgr"
      },
      "execution_count": null,
      "outputs": []
    },
    {
      "cell_type": "code",
      "source": [
        "xgb3.fit(X_train_RGB_D4_XGB_noref, y_train_D4_RGB_XGB_noref)"
      ],
      "metadata": {
        "id": "YIxWR-cjvZgr"
      },
      "execution_count": null,
      "outputs": []
    },
    {
      "cell_type": "code",
      "source": [
        "y_pred_D4_XGB_noref = xgb3.predict(X_test_RGB_D4_XGB_noref)"
      ],
      "metadata": {
        "id": "KatJRzAbvZgr"
      },
      "execution_count": null,
      "outputs": []
    },
    {
      "cell_type": "code",
      "source": [
        "AC_RGB_XGB_noref = metrics.accuracy_score(y_test_RGB_D4_XGB_noref, y_pred_D4_XGB_noref)"
      ],
      "metadata": {
        "id": "eFdF-2_YvZgr"
      },
      "execution_count": null,
      "outputs": []
    },
    {
      "cell_type": "markdown",
      "source": [
        "##HSV D4"
      ],
      "metadata": {
        "id": "yKrHSeR8kaMg"
      }
    },
    {
      "cell_type": "code",
      "source": [
        "xgb4 = xgb.XGBClassifier()"
      ],
      "metadata": {
        "id": "EQUuyfQtkqoc"
      },
      "execution_count": null,
      "outputs": []
    },
    {
      "cell_type": "code",
      "source": [
        "HSV_D4_XGB_noref = table_D4Set5"
      ],
      "metadata": {
        "id": "j-uWJUNNnq8z"
      },
      "execution_count": null,
      "outputs": []
    },
    {
      "cell_type": "code",
      "source": [
        "HSV_D4_XGB_noref = HSV_D4_XGB_noref.drop(['R-ref','G-ref','B-ref','R-Shad','G-Shad','B-Shad','H-ref','S-ref','V-ref','Setting','Ref','Shad','Img'], axis=1)"
      ],
      "metadata": {
        "id": "7zK82EIzwVLq"
      },
      "execution_count": null,
      "outputs": []
    },
    {
      "cell_type": "code",
      "source": [
        "HSV_D4_concat = pd.concat([RGB_D4_Set1,RGB_D4_Set2,RGB_D4_Set3,RGB_D4_Set4,RGB_D4_Set6])"
      ],
      "metadata": {
        "id": "EhZY0-U2wVLq"
      },
      "execution_count": null,
      "outputs": []
    },
    {
      "cell_type": "code",
      "source": [
        "HSV_A3_concat_XGB_noref = HSV_D4_concat.drop(['R-ref','G-ref','B-ref','R-Shad','G-Shad','B-Shad','H-ref','S-ref','V-ref','Setting','Ref','Shad','Img'], axis=1)"
      ],
      "metadata": {
        "id": "8B_iC-OXwVLq"
      },
      "execution_count": null,
      "outputs": []
    },
    {
      "cell_type": "code",
      "source": [
        "X_test_HSV_D4_XGB_noref = np.array(HSV_D4_XGB_noref)"
      ],
      "metadata": {
        "id": "RX1eRwJ2wVLq"
      },
      "execution_count": null,
      "outputs": []
    },
    {
      "cell_type": "code",
      "source": [
        "y_HSV_D4_XGB_noref =  table_D4Set5.iloc[:,14:15]"
      ],
      "metadata": {
        "id": "ZneRh83-wVLq"
      },
      "execution_count": null,
      "outputs": []
    },
    {
      "cell_type": "code",
      "source": [
        "y_test_HSV_D4_XGBF_noref = np.array(y_HSV_D4_XGB_noref)"
      ],
      "metadata": {
        "id": "eJPYqUbrwVLr"
      },
      "execution_count": null,
      "outputs": []
    },
    {
      "cell_type": "code",
      "source": [
        "X_train_HSV_D4_XGB_noref = np.array(HSV_D4_concat_XGB_noref)"
      ],
      "metadata": {
        "id": "1cn3Uw-CwVLr"
      },
      "execution_count": null,
      "outputs": []
    },
    {
      "cell_type": "code",
      "source": [
        "y_train_D4HSV_XGB_noref = HSV_D4_concat.iloc[:,14:15]"
      ],
      "metadata": {
        "id": "QYR8jGauwVLr"
      },
      "execution_count": null,
      "outputs": []
    },
    {
      "cell_type": "code",
      "source": [
        "y_train_D4_HSV_XGB_noref = np.array(y_train_D4HSV_XGB_noref)"
      ],
      "metadata": {
        "id": "kSq8PwZXwVLr"
      },
      "execution_count": null,
      "outputs": []
    },
    {
      "cell_type": "code",
      "source": [
        "y_train_D4_HSV_XGB_noref.shape = (len(y_train_D4_HSV_XGB_noref,))"
      ],
      "metadata": {
        "id": "o72HtpQzwVLr"
      },
      "execution_count": null,
      "outputs": []
    },
    {
      "cell_type": "code",
      "source": [
        "xgb4.fit(X_train_HSV_D4_XGB_noref, y_train_D4_HSV_XGB_noref)"
      ],
      "metadata": {
        "id": "TYhtJqrhwVLr"
      },
      "execution_count": null,
      "outputs": []
    },
    {
      "cell_type": "code",
      "source": [
        "y_pred_D4_XGB_noref = xgb4.predict(X_test_HSV_D4_XGB_noref)"
      ],
      "metadata": {
        "id": "3pI1OXi0wVLr"
      },
      "execution_count": null,
      "outputs": []
    },
    {
      "cell_type": "code",
      "source": [
        "AC_HSV_XGB_noref = metrics.accuracy_score(y_test_HSV_D4_XGB_noref, y_pred_D4_XGB_noref)"
      ],
      "metadata": {
        "id": "ECWofy9CwVLs"
      },
      "execution_count": null,
      "outputs": []
    },
    {
      "cell_type": "markdown",
      "source": [
        "#All Accuracy"
      ],
      "metadata": {
        "id": "iTHo9hTDkeSk"
      }
    },
    {
      "cell_type": "markdown",
      "source": [
        "RF"
      ],
      "metadata": {
        "id": "yUR12X1HyImK"
      }
    },
    {
      "cell_type": "code",
      "source": [
        "print(\"RF ref Set5 A2 ได้ Accuracy:\", AC_RGB_RF_ref))\n",
        "print(\"RF ref Set5 A3 ได้ Accuracy:\", AC_HSV_RF_ref))\n",
        "print(\"RF no_ref Set5 A3 ได้ Accuracy:\", AC_RGB_RF_noref))\n",
        "print(\"RF no_ref Set5 A3 ได้ Accuracy:\", AC_HSV_RF_noref))"
      ],
      "metadata": {
        "id": "d6IwYu9Wkgwx"
      },
      "execution_count": null,
      "outputs": []
    },
    {
      "cell_type": "markdown",
      "source": [
        "SVM"
      ],
      "metadata": {
        "id": "wpwiAfguyJzT"
      }
    },
    {
      "cell_type": "code",
      "source": [
        "print(\"SVM ref Set5 C2 ได้ Accuracy:\", AC_RGB_SVM_ref))\n",
        "print(\"SVM ref Set5 A4 ได้ Accuracy:\", AC_HSV_SVM_ref))\n",
        "print(\"SVM no_ref Set5 A3 ได้ Accuracy:\", AC_RGB_SVM_noref))\n",
        "print(\"SVM no_ref Set5 A3 ได้ Accuracy:\", AC_HSV_SVM_noref))"
      ],
      "metadata": {
        "id": "DWcZUXsqyL7t"
      },
      "execution_count": null,
      "outputs": []
    },
    {
      "cell_type": "markdown",
      "source": [
        "XGB"
      ],
      "metadata": {
        "id": "zf0wKZt4yLDO"
      }
    },
    {
      "cell_type": "code",
      "source": [
        "print(\"XGB ref Set5 A2 ได้ Accuracy:\", AC_RGB_XGB_ref))\n",
        "print(\"XGB ref Set5 A3 ได้ Accuracy:\", AC_HSV_XGB_ref))\n",
        "print(\"XGB no_ref Set5 D4 ได้ Accuracy:\", AC_RGB_XGB_noref))\n",
        "print(\"XGB no_ref Set5 D4 ได้ Accuracy:\", AC_HSV_XGB_noref))"
      ],
      "metadata": {
        "id": "tyXdRxfyyNNw"
      },
      "execution_count": null,
      "outputs": []
    },
    {
      "cell_type": "markdown",
      "source": [
        "#Confution"
      ],
      "metadata": {
        "id": "tQXMUR4Uy700"
      }
    },
    {
      "cell_type": "code",
      "source": [
        ""
      ],
      "metadata": {
        "id": "-9el4i7Py--b"
      },
      "execution_count": null,
      "outputs": []
    }
  ]
}