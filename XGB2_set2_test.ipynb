{
  "nbformat": 4,
  "nbformat_minor": 0,
  "metadata": {
    "colab": {
      "name": "XGB2_set2_test.ipynb",
      "provenance": [],
      "include_colab_link": true
    },
    "kernelspec": {
      "name": "python3",
      "display_name": "Python 3"
    },
    "language_info": {
      "name": "python"
    }
  },
  "cells": [
    {
      "cell_type": "markdown",
      "metadata": {
        "id": "view-in-github",
        "colab_type": "text"
      },
      "source": [
        "<a href=\"https://colab.research.google.com/github/Kggzzz/Project_2021_matchingcolor/blob/main/XGB2_set2_test.ipynb\" target=\"_parent\"><img src=\"https://colab.research.google.com/assets/colab-badge.svg\" alt=\"Open In Colab\"/></a>"
      ]
    },
    {
      "cell_type": "code",
      "execution_count": 1,
      "metadata": {
        "id": "-cZ0jZK7T4Ai"
      },
      "outputs": [],
      "source": [
        "import pandas as pd"
      ]
    },
    {
      "cell_type": "code",
      "source": [
        "from google.colab import drive \n",
        "drive.mount('/content/drive')"
      ],
      "metadata": {
        "colab": {
          "base_uri": "https://localhost:8080/"
        },
        "id": "Y7V1TPrcZR_T",
        "outputId": "e87246fd-82dc-4fdb-ff57-df9de8698e5e"
      },
      "execution_count": 2,
      "outputs": [
        {
          "output_type": "stream",
          "name": "stdout",
          "text": [
            "Mounted at /content/drive\n"
          ]
        }
      ]
    },
    {
      "cell_type": "code",
      "source": [
        "import os"
      ],
      "metadata": {
        "id": "jya59PReZTM8"
      },
      "execution_count": 3,
      "outputs": []
    },
    {
      "cell_type": "code",
      "source": [
        "path = '/content/drive/My Drive/shadeimg/SVM shade'"
      ],
      "metadata": {
        "id": "cmIn20dmZV1o"
      },
      "execution_count": 4,
      "outputs": []
    },
    {
      "cell_type": "code",
      "source": [
        "os.listdir(path)"
      ],
      "metadata": {
        "colab": {
          "base_uri": "https://localhost:8080/"
        },
        "id": "C8LkZKqkZXU0",
        "outputId": "696fff68-8ef6-4877-eeb0-12c9db4f4398"
      },
      "execution_count": 5,
      "outputs": [
        {
          "output_type": "execute_result",
          "data": {
            "text/plain": [
              "['DD.xlsx',\n",
              " 'CC.xlsx',\n",
              " 'BB.xlsx',\n",
              " 'Shade_AA.xlsx',\n",
              " 'Shade_CC.xlsx',\n",
              " 'Shade_DD.xlsx',\n",
              " 'Shade_BB.xlsx',\n",
              " 'AA.xlsx',\n",
              " 'AA_2.xlsx',\n",
              " 'Shad_A.xlsx',\n",
              " 'Shad_B.xlsx',\n",
              " 'Shad_C.xlsx',\n",
              " 'Shad_D.xlsx',\n",
              " 'Setting4.xlsx',\n",
              " 'Color-checkerAA.xlsx',\n",
              " 'Color-checkerBB.xlsx',\n",
              " 'Color-checkerCC.xlsx',\n",
              " 'Setting2.xlsx',\n",
              " 'D3set51.csv',\n",
              " 'Setting1.xlsx',\n",
              " 'CheckerDD.xlsx',\n",
              " 'Setting3.xlsx',\n",
              " 'Setting6.xlsx',\n",
              " 'Setting5.xlsx',\n",
              " 'checkerShad_A .xlsx',\n",
              " 'checkerShad_B.xlsx',\n",
              " 'checkerShad_C.xlsx',\n",
              " 'D3Set5-61.xlsx',\n",
              " 'checkerShad_D.xlsx',\n",
              " 'Color-checkerDD.xlsx',\n",
              " 'Datapoint_1.xlsx',\n",
              " 'Datapoint_2.xlsx',\n",
              " 'Datapoint_3.xlsx',\n",
              " 'Datapoint_4.xlsx',\n",
              " 'Datapoint_6.xlsx',\n",
              " 'Datapoint_5.xlsx']"
            ]
          },
          "metadata": {},
          "execution_count": 5
        }
      ]
    },
    {
      "cell_type": "code",
      "source": [
        "Set1 = os.path.join(path,'Datapoint_1.xlsx')\n",
        "print(Set1)"
      ],
      "metadata": {
        "colab": {
          "base_uri": "https://localhost:8080/"
        },
        "id": "Ga4foq2ZZX7c",
        "outputId": "fb592b82-2271-4972-9f33-f13bab620656"
      },
      "execution_count": 6,
      "outputs": [
        {
          "output_type": "stream",
          "name": "stdout",
          "text": [
            "/content/drive/My Drive/shadeimg/SVM shade/Datapoint_1.xlsx\n"
          ]
        }
      ]
    },
    {
      "cell_type": "code",
      "source": [
        "Set2 = os.path.join(path,'Datapoint_2.xlsx')\n",
        "print(Set2)"
      ],
      "metadata": {
        "colab": {
          "base_uri": "https://localhost:8080/"
        },
        "id": "gtsVscJ0aFAy",
        "outputId": "d54fd1ac-50ba-46b3-96ce-5dc32eaa522a"
      },
      "execution_count": 7,
      "outputs": [
        {
          "output_type": "stream",
          "name": "stdout",
          "text": [
            "/content/drive/My Drive/shadeimg/SVM shade/Datapoint_2.xlsx\n"
          ]
        }
      ]
    },
    {
      "cell_type": "code",
      "source": [
        "Set3 = os.path.join(path,'Datapoint_3.xlsx')\n",
        "print(Set3)"
      ],
      "metadata": {
        "colab": {
          "base_uri": "https://localhost:8080/"
        },
        "id": "-h9WRjWwaGNz",
        "outputId": "c60d29a3-50d2-4c75-dcd4-bf3ab1e6ff8d"
      },
      "execution_count": 8,
      "outputs": [
        {
          "output_type": "stream",
          "name": "stdout",
          "text": [
            "/content/drive/My Drive/shadeimg/SVM shade/Datapoint_3.xlsx\n"
          ]
        }
      ]
    },
    {
      "cell_type": "code",
      "source": [
        "Set4 = os.path.join(path,'Datapoint_4.xlsx')\n",
        "print(Set4)"
      ],
      "metadata": {
        "colab": {
          "base_uri": "https://localhost:8080/"
        },
        "id": "meqQ3flLaHab",
        "outputId": "1c59dd5c-94dd-4eea-cd3c-4a2947d117fb"
      },
      "execution_count": 9,
      "outputs": [
        {
          "output_type": "stream",
          "name": "stdout",
          "text": [
            "/content/drive/My Drive/shadeimg/SVM shade/Datapoint_4.xlsx\n"
          ]
        }
      ]
    },
    {
      "cell_type": "code",
      "source": [
        "Set6 = os.path.join(path,'Datapoint_6.xlsx')\n",
        "print(Set6)"
      ],
      "metadata": {
        "id": "HZzyzcjm1tVj",
        "outputId": "1f6ca7aa-7e71-46c0-cada-6480520c9328",
        "colab": {
          "base_uri": "https://localhost:8080/"
        }
      },
      "execution_count": 10,
      "outputs": [
        {
          "output_type": "stream",
          "name": "stdout",
          "text": [
            "/content/drive/My Drive/shadeimg/SVM shade/Datapoint_6.xlsx\n"
          ]
        }
      ]
    },
    {
      "cell_type": "code",
      "source": [
        "import numpy as np"
      ],
      "metadata": {
        "id": "Ul_zJOW3aPj3"
      },
      "execution_count": 11,
      "outputs": []
    },
    {
      "cell_type": "code",
      "source": [
        "from sklearn import metrics"
      ],
      "metadata": {
        "id": "A7CIfOAfaQhY"
      },
      "execution_count": 12,
      "outputs": []
    },
    {
      "cell_type": "code",
      "source": [
        "from sklearn import datasets"
      ],
      "metadata": {
        "id": "wnvnwlPaaRxS"
      },
      "execution_count": 13,
      "outputs": []
    },
    {
      "cell_type": "code",
      "source": [
        "import xgboost as xgb"
      ],
      "metadata": {
        "id": "lGa_QPEBaSwA"
      },
      "execution_count": 14,
      "outputs": []
    },
    {
      "cell_type": "markdown",
      "source": [
        "#AA"
      ],
      "metadata": {
        "id": "poM422dmJDh0"
      }
    },
    {
      "cell_type": "markdown",
      "source": [
        "##A1"
      ],
      "metadata": {
        "id": "Cb9iZlIWmt1B"
      }
    },
    {
      "cell_type": "code",
      "source": [
        "table_A1Set1 = pd.read_excel(Set1 , sheet_name='A1_1')\n",
        "\n",
        "table_A1Set2 = pd.read_excel(Set2, sheet_name='A1_2')\n",
        "\n",
        "table_A1Set3 = pd.read_excel(Set3, sheet_name='A1_3')\n",
        "\n",
        "table_A1Set4 = pd.read_excel(Set4, sheet_name='A1_4')\n",
        "\n",
        "table_A1Set6 = pd.read_excel(Set6, sheet_name='A1_6')"
      ],
      "metadata": {
        "id": "4Kf9aT59JKhr"
      },
      "execution_count": 15,
      "outputs": []
    },
    {
      "cell_type": "markdown",
      "source": [
        "###RGB"
      ],
      "metadata": {
        "id": "LxojQbqFpTUM"
      }
    },
    {
      "cell_type": "code",
      "source": [
        "clf1 =xgb.XGBClassifier()"
      ],
      "metadata": {
        "id": "CCYFIj5O2PQW"
      },
      "execution_count": 16,
      "outputs": []
    },
    {
      "cell_type": "code",
      "source": [
        "RGB_A1_Set2 = table_A1Set2.drop(['H-ref','S-ref','V-ref','H-Shad','S-Shad','V-Shad','Setting','Ref','Shad','Img'], axis=1)"
      ],
      "metadata": {
        "id": "uexju8za2St7"
      },
      "execution_count": 17,
      "outputs": []
    },
    {
      "cell_type": "code",
      "source": [
        "RGB_A1_Set1 = table_A1Set1\n",
        "\n",
        "RGB_A1_Set3 = table_A1Set3\n",
        "\n",
        "RGB_A1_Set4 = table_A1Set4\n",
        "\n",
        "RGB_A1_Set6 = table_A1Set6"
      ],
      "metadata": {
        "id": "1pnPSeki2VJf"
      },
      "execution_count": 18,
      "outputs": []
    },
    {
      "cell_type": "code",
      "source": [
        "RGB_A1_concat0 = pd.concat([RGB_A1_Set1,RGB_A1_Set3,RGB_A1_Set4,RGB_A1_Set6])"
      ],
      "metadata": {
        "id": "ish2tjnV2dOn"
      },
      "execution_count": 19,
      "outputs": []
    },
    {
      "cell_type": "code",
      "source": [
        "RGB_A1_concat2 = RGB_A1_concat0.drop(['H-ref','S-ref','V-ref','H-Shad','S-Shad','V-Shad','Setting','Ref','Shad','Img'], axis=1)"
      ],
      "metadata": {
        "id": "hGlrbV602h2u"
      },
      "execution_count": 20,
      "outputs": []
    },
    {
      "cell_type": "code",
      "source": [
        "X_test_A1_RGB = np.array(RGB_A1_Set2)"
      ],
      "metadata": {
        "id": "kf80Bnvx2ksF"
      },
      "execution_count": 21,
      "outputs": []
    },
    {
      "cell_type": "code",
      "source": [
        "y_A1_RGB =  table_A1Set2.iloc[:,14:15]"
      ],
      "metadata": {
        "id": "-taOeLV22muy"
      },
      "execution_count": 22,
      "outputs": []
    },
    {
      "cell_type": "code",
      "source": [
        "y_test_A1_RGB = np.array(y_A1_RGB)"
      ],
      "metadata": {
        "id": "TqnbpbiD2r3V"
      },
      "execution_count": 23,
      "outputs": []
    },
    {
      "cell_type": "code",
      "source": [
        "X_train_A1_RGB = np.array(RGB_A1_concat2)"
      ],
      "metadata": {
        "id": "6reZkxa82uCH"
      },
      "execution_count": 24,
      "outputs": []
    },
    {
      "cell_type": "code",
      "source": [
        "y_train_A1RGB = RGB_A1_concat0.iloc[:,14:15]"
      ],
      "metadata": {
        "id": "VaBz97ae2vAk"
      },
      "execution_count": 25,
      "outputs": []
    },
    {
      "cell_type": "code",
      "source": [
        "y_train_A1_RGB = np.array(y_train_A1RGB)"
      ],
      "metadata": {
        "id": "nlYSktja2v9i"
      },
      "execution_count": 26,
      "outputs": []
    },
    {
      "cell_type": "code",
      "source": [
        "clf1.fit(X_train_A1_RGB, y_train_A1_RGB)"
      ],
      "metadata": {
        "id": "1Q1Dn1542xof",
        "outputId": "1a798408-8f46-4931-8ece-19bcee33169e",
        "colab": {
          "base_uri": "https://localhost:8080/"
        }
      },
      "execution_count": 27,
      "outputs": [
        {
          "output_type": "stream",
          "name": "stderr",
          "text": [
            "/usr/local/lib/python3.7/dist-packages/sklearn/preprocessing/_label.py:98: DataConversionWarning: A column-vector y was passed when a 1d array was expected. Please change the shape of y to (n_samples, ), for example using ravel().\n",
            "  y = column_or_1d(y, warn=True)\n",
            "/usr/local/lib/python3.7/dist-packages/sklearn/preprocessing/_label.py:133: DataConversionWarning: A column-vector y was passed when a 1d array was expected. Please change the shape of y to (n_samples, ), for example using ravel().\n",
            "  y = column_or_1d(y, warn=True)\n"
          ]
        },
        {
          "output_type": "execute_result",
          "data": {
            "text/plain": [
              "XGBClassifier(objective='multi:softprob')"
            ]
          },
          "metadata": {},
          "execution_count": 27
        }
      ]
    },
    {
      "cell_type": "code",
      "source": [
        "y_pred_A1_RGB = clf1.predict(X_test_A1_RGB)"
      ],
      "metadata": {
        "id": "BwZa4xk12ykL"
      },
      "execution_count": 28,
      "outputs": []
    },
    {
      "cell_type": "code",
      "source": [
        "print(\"Accuracy:\", metrics.accuracy_score(y_test_A1_RGB, y_pred_A1_RGB))"
      ],
      "metadata": {
        "id": "fQ2jNCMZ2z0z",
        "outputId": "d49ed9b6-efe9-47d3-ac9f-9847d87c49d2",
        "colab": {
          "base_uri": "https://localhost:8080/"
        }
      },
      "execution_count": 29,
      "outputs": [
        {
          "output_type": "stream",
          "name": "stdout",
          "text": [
            "Accuracy: 0.10807453416149068\n"
          ]
        }
      ]
    },
    {
      "cell_type": "markdown",
      "source": [
        "###HSV"
      ],
      "metadata": {
        "id": "HXG5uLYX23qh"
      }
    },
    {
      "cell_type": "code",
      "source": [
        "clf2 =xgb.XGBClassifier()"
      ],
      "metadata": {
        "id": "eln-0RNM26dh"
      },
      "execution_count": 30,
      "outputs": []
    },
    {
      "cell_type": "code",
      "source": [
        "HSV_A1_Set2 = table_A1Set2.drop(['R-ref','G-ref','B-ref','R-Shad','G-Shad','B-Shad','Setting','Ref','Shad','Img'], axis=1)"
      ],
      "metadata": {
        "id": "ZESO_55R3yxU"
      },
      "execution_count": 31,
      "outputs": []
    },
    {
      "cell_type": "code",
      "source": [
        "HSV_A1_concat2 = RGB_A1_concat0.drop(['R-ref','G-ref','B-ref','R-Shad','G-Shad','B-Shad','Setting','Ref','Shad','Img'], axis=1)"
      ],
      "metadata": {
        "id": "WK0Ir6EI31KV"
      },
      "execution_count": 32,
      "outputs": []
    },
    {
      "cell_type": "code",
      "source": [
        "X_test_A1_HSV = np.array(HSV_A1_Set2)"
      ],
      "metadata": {
        "id": "CI7kEN7835eL"
      },
      "execution_count": 33,
      "outputs": []
    },
    {
      "cell_type": "code",
      "source": [
        "y_A1_HSV =  table_A1Set2.iloc[:,14:15]"
      ],
      "metadata": {
        "id": "g02iJGh936gB"
      },
      "execution_count": 34,
      "outputs": []
    },
    {
      "cell_type": "code",
      "source": [
        "y_test_A1_HSV = np.array(y_A1_RGB)"
      ],
      "metadata": {
        "id": "V--ATMEe37pl"
      },
      "execution_count": 35,
      "outputs": []
    },
    {
      "cell_type": "code",
      "source": [
        "X_train_A1_HSV = np.array(HSV_A1_concat2)"
      ],
      "metadata": {
        "id": "0qJQocVJ38x0"
      },
      "execution_count": 36,
      "outputs": []
    },
    {
      "cell_type": "code",
      "source": [
        "y_train_A1HSV = RGB_A1_concat0.iloc[:,14:15]"
      ],
      "metadata": {
        "id": "rdacruxs390m"
      },
      "execution_count": 37,
      "outputs": []
    },
    {
      "cell_type": "code",
      "source": [
        "y_train_A1_HSV = np.array(y_train_A1HSV)"
      ],
      "metadata": {
        "id": "99KbAwXt3_HW"
      },
      "execution_count": 38,
      "outputs": []
    },
    {
      "cell_type": "code",
      "source": [
        "clf2.fit(X_train_A1_HSV, y_train_A1_HSV)"
      ],
      "metadata": {
        "id": "rcwDgqqz4ANl",
        "outputId": "2bdba966-0a4b-4c31-8fae-719d70df1119",
        "colab": {
          "base_uri": "https://localhost:8080/"
        }
      },
      "execution_count": 39,
      "outputs": [
        {
          "output_type": "stream",
          "name": "stderr",
          "text": [
            "/usr/local/lib/python3.7/dist-packages/sklearn/preprocessing/_label.py:98: DataConversionWarning: A column-vector y was passed when a 1d array was expected. Please change the shape of y to (n_samples, ), for example using ravel().\n",
            "  y = column_or_1d(y, warn=True)\n",
            "/usr/local/lib/python3.7/dist-packages/sklearn/preprocessing/_label.py:133: DataConversionWarning: A column-vector y was passed when a 1d array was expected. Please change the shape of y to (n_samples, ), for example using ravel().\n",
            "  y = column_or_1d(y, warn=True)\n"
          ]
        },
        {
          "output_type": "execute_result",
          "data": {
            "text/plain": [
              "XGBClassifier(objective='multi:softprob')"
            ]
          },
          "metadata": {},
          "execution_count": 39
        }
      ]
    },
    {
      "cell_type": "code",
      "source": [
        "y_pred_A1_HSV = clf2.predict(X_test_A1_HSV)"
      ],
      "metadata": {
        "id": "4o89fBrQ4BLw"
      },
      "execution_count": 40,
      "outputs": []
    },
    {
      "cell_type": "code",
      "source": [
        "print(\"Accuracy:\", metrics.accuracy_score(y_test_A1_HSV, y_pred_A1_HSV))"
      ],
      "metadata": {
        "id": "GdHKAU6T4CJE",
        "outputId": "bfa3506c-7ffa-48df-efb3-87514202bb03",
        "colab": {
          "base_uri": "https://localhost:8080/"
        }
      },
      "execution_count": 41,
      "outputs": [
        {
          "output_type": "stream",
          "name": "stdout",
          "text": [
            "Accuracy: 0.12298136645962733\n"
          ]
        }
      ]
    },
    {
      "cell_type": "markdown",
      "source": [
        "##A2"
      ],
      "metadata": {
        "id": "YiCpdmgVfsgl"
      }
    },
    {
      "cell_type": "code",
      "source": [
        "table_A2Set1 = pd.read_excel(Set1 , sheet_name='A2_1')\n",
        "\n",
        "table_A2Set2 = pd.read_excel(Set2 , sheet_name='A2_2')\n",
        "\n",
        "table_A2Set3 = pd.read_excel(Set3 , sheet_name='A2_3')\n",
        "\n",
        "table_A2Set4 = pd.read_excel(Set4 , sheet_name='A2_4')\n",
        "\n",
        "table_A2Set6 = pd.read_excel(Set6 , sheet_name='A2_6')"
      ],
      "metadata": {
        "id": "cQqaNLeMfsgm"
      },
      "execution_count": 42,
      "outputs": []
    },
    {
      "cell_type": "markdown",
      "source": [
        "###RGB"
      ],
      "metadata": {
        "id": "oRvHAVySfsgn"
      }
    },
    {
      "cell_type": "code",
      "source": [
        "clf3=xgb.XGBClassifier()"
      ],
      "metadata": {
        "id": "AdZjjys8ji8y"
      },
      "execution_count": 43,
      "outputs": []
    },
    {
      "cell_type": "code",
      "source": [
        "RGB_A2_Set2 = table_A2Set2.drop(['H-ref','S-ref','V-ref','H-Shad','S-Shad','V-Shad','Setting','Ref','Shad','Img'], axis=1)"
      ],
      "metadata": {
        "id": "0joCSr_Rfsgn"
      },
      "execution_count": 44,
      "outputs": []
    },
    {
      "cell_type": "code",
      "source": [
        "RGB_A2_Set1 = table_A2Set1\n",
        "\n",
        "RGB_A2_Set3 = table_A2Set3\n",
        "\n",
        "RGB_A2_Set4 = table_A2Set4\n",
        "\n",
        "RGB_A2_Set6 = table_A2Set6"
      ],
      "metadata": {
        "id": "RdIInq3Ifsgo"
      },
      "execution_count": 45,
      "outputs": []
    },
    {
      "cell_type": "code",
      "source": [
        "RGB_A2_concat0 = pd.concat([RGB_A2_Set1,RGB_A2_Set3,RGB_A2_Set4,RGB_A2_Set6])"
      ],
      "metadata": {
        "id": "s4A2Dg3ifsgo"
      },
      "execution_count": 46,
      "outputs": []
    },
    {
      "cell_type": "code",
      "source": [
        "RGB_A2_concat2 = RGB_A2_concat0.drop(['H-ref','S-ref','V-ref','H-Shad','S-Shad','V-Shad','Setting','Ref','Shad','Img'], axis=1)"
      ],
      "metadata": {
        "id": "efAFS1B-fsgo"
      },
      "execution_count": 47,
      "outputs": []
    },
    {
      "cell_type": "code",
      "source": [
        "X_test_A2_RGB = np.array(RGB_A2_Set2)"
      ],
      "metadata": {
        "id": "5L9ie-Cufsgp"
      },
      "execution_count": 48,
      "outputs": []
    },
    {
      "cell_type": "code",
      "source": [
        "y_A2_RGB =  table_A2Set2.iloc[:,14:15]"
      ],
      "metadata": {
        "id": "V1oBKY80fsgp"
      },
      "execution_count": 49,
      "outputs": []
    },
    {
      "cell_type": "code",
      "source": [
        "y_test_A2_RGB = np.array(y_A2_RGB)"
      ],
      "metadata": {
        "id": "b7DmzU6ffsgp"
      },
      "execution_count": 50,
      "outputs": []
    },
    {
      "cell_type": "code",
      "source": [
        "X_train_A2_RGB = np.array(RGB_A2_concat2)"
      ],
      "metadata": {
        "id": "uOykvjBWfsgp"
      },
      "execution_count": 51,
      "outputs": []
    },
    {
      "cell_type": "code",
      "source": [
        "y_train_A2RGB = RGB_A2_concat0.iloc[:,14:15]"
      ],
      "metadata": {
        "id": "u56pkV_xfsgp"
      },
      "execution_count": 52,
      "outputs": []
    },
    {
      "cell_type": "code",
      "source": [
        "y_train_A2_RGB = np.array(y_train_A2RGB)"
      ],
      "metadata": {
        "id": "DdWkKadofsgp"
      },
      "execution_count": 53,
      "outputs": []
    },
    {
      "cell_type": "code",
      "source": [
        "clf3.fit(X_train_A2_RGB, y_train_A2_RGB)"
      ],
      "metadata": {
        "colab": {
          "base_uri": "https://localhost:8080/"
        },
        "outputId": "1e21e63b-f157-41b1-bccb-45c49fd53b2b",
        "id": "nJlXfRCvfsgq"
      },
      "execution_count": 54,
      "outputs": [
        {
          "output_type": "stream",
          "name": "stderr",
          "text": [
            "/usr/local/lib/python3.7/dist-packages/sklearn/preprocessing/_label.py:98: DataConversionWarning: A column-vector y was passed when a 1d array was expected. Please change the shape of y to (n_samples, ), for example using ravel().\n",
            "  y = column_or_1d(y, warn=True)\n",
            "/usr/local/lib/python3.7/dist-packages/sklearn/preprocessing/_label.py:133: DataConversionWarning: A column-vector y was passed when a 1d array was expected. Please change the shape of y to (n_samples, ), for example using ravel().\n",
            "  y = column_or_1d(y, warn=True)\n"
          ]
        },
        {
          "output_type": "execute_result",
          "data": {
            "text/plain": [
              "XGBClassifier(objective='multi:softprob')"
            ]
          },
          "metadata": {},
          "execution_count": 54
        }
      ]
    },
    {
      "cell_type": "code",
      "source": [
        "y_pred_A2_RGB = clf3.predict(X_test_A2_RGB)"
      ],
      "metadata": {
        "id": "Mr4rCcPifsgq"
      },
      "execution_count": 55,
      "outputs": []
    },
    {
      "cell_type": "code",
      "source": [
        "print(\"Accuracy:\", metrics.accuracy_score(y_test_A2_RGB, y_pred_A2_RGB))"
      ],
      "metadata": {
        "colab": {
          "base_uri": "https://localhost:8080/"
        },
        "outputId": "44e3eea4-fb91-43cf-dd60-318d20f6fe6d",
        "id": "BkA5kF5Vfsgq"
      },
      "execution_count": 56,
      "outputs": [
        {
          "output_type": "stream",
          "name": "stdout",
          "text": [
            "Accuracy: 0.08941176470588236\n"
          ]
        }
      ]
    },
    {
      "cell_type": "markdown",
      "source": [
        "###HSV"
      ],
      "metadata": {
        "id": "RZb3Xue3fsgq"
      }
    },
    {
      "cell_type": "code",
      "source": [
        "clf4=xgb.XGBClassifier()"
      ],
      "metadata": {
        "id": "5-WIM94ZjmF7"
      },
      "execution_count": 57,
      "outputs": []
    },
    {
      "cell_type": "code",
      "source": [
        "HSV_A2_Set2 = table_A2Set2.drop(['R-ref','G-ref','B-ref','R-Shad','G-Shad','B-Shad','Setting','Ref','Shad','Img'], axis=1)"
      ],
      "metadata": {
        "id": "UBWdPn2ffsgq"
      },
      "execution_count": 58,
      "outputs": []
    },
    {
      "cell_type": "code",
      "source": [
        "HSV_A2_concat2 = RGB_A2_concat0.drop(['H-ref','S-ref','V-ref','H-Shad','S-Shad','V-Shad','Setting','Ref','Shad','Img'], axis=1)"
      ],
      "metadata": {
        "id": "TOLzHUcIfsgr"
      },
      "execution_count": 59,
      "outputs": []
    },
    {
      "cell_type": "code",
      "source": [
        "X_test_A2_HSV = np.array(HSV_A2_Set2)"
      ],
      "metadata": {
        "id": "jbg9-iKkfsgr"
      },
      "execution_count": 60,
      "outputs": []
    },
    {
      "cell_type": "code",
      "source": [
        "y_A2_HSV =  table_A2Set2.iloc[:,14:15]"
      ],
      "metadata": {
        "id": "XQBJSPXpfsgr"
      },
      "execution_count": 61,
      "outputs": []
    },
    {
      "cell_type": "code",
      "source": [
        "y_test_A2_HSV = np.array(y_A2_RGB)"
      ],
      "metadata": {
        "id": "G0mJHUDtfsgr"
      },
      "execution_count": 62,
      "outputs": []
    },
    {
      "cell_type": "code",
      "source": [
        "X_train_A2_HSV = np.array(HSV_A2_concat2)"
      ],
      "metadata": {
        "id": "MYuphJxqfsgr"
      },
      "execution_count": 63,
      "outputs": []
    },
    {
      "cell_type": "code",
      "source": [
        "y_train_A2HSV = RGB_A2_concat0.iloc[:,14:15]"
      ],
      "metadata": {
        "id": "xldroU3hfsgr"
      },
      "execution_count": 64,
      "outputs": []
    },
    {
      "cell_type": "code",
      "source": [
        "y_train_A2_HSV = np.array(y_train_A2HSV)"
      ],
      "metadata": {
        "id": "Gjz_GGx3fsgr"
      },
      "execution_count": 65,
      "outputs": []
    },
    {
      "cell_type": "code",
      "source": [
        "clf4.fit(X_train_A2_HSV, y_train_A2_HSV)"
      ],
      "metadata": {
        "colab": {
          "base_uri": "https://localhost:8080/"
        },
        "outputId": "d8f595a0-cb4c-4db7-9ba1-dd72fb1bf1c3",
        "id": "_Hd02RyCfsgs"
      },
      "execution_count": 66,
      "outputs": [
        {
          "output_type": "stream",
          "name": "stderr",
          "text": [
            "/usr/local/lib/python3.7/dist-packages/sklearn/preprocessing/_label.py:98: DataConversionWarning: A column-vector y was passed when a 1d array was expected. Please change the shape of y to (n_samples, ), for example using ravel().\n",
            "  y = column_or_1d(y, warn=True)\n",
            "/usr/local/lib/python3.7/dist-packages/sklearn/preprocessing/_label.py:133: DataConversionWarning: A column-vector y was passed when a 1d array was expected. Please change the shape of y to (n_samples, ), for example using ravel().\n",
            "  y = column_or_1d(y, warn=True)\n"
          ]
        },
        {
          "output_type": "execute_result",
          "data": {
            "text/plain": [
              "XGBClassifier(objective='multi:softprob')"
            ]
          },
          "metadata": {},
          "execution_count": 66
        }
      ]
    },
    {
      "cell_type": "code",
      "source": [
        "y_pred_A2_HSV = clf4.predict(X_test_A2_HSV)"
      ],
      "metadata": {
        "id": "mTrqWErPfsgs"
      },
      "execution_count": 67,
      "outputs": []
    },
    {
      "cell_type": "code",
      "source": [
        "print(\"Accuracy:\", metrics.accuracy_score(y_test_A2_HSV, y_pred_A2_HSV))"
      ],
      "metadata": {
        "colab": {
          "base_uri": "https://localhost:8080/"
        },
        "outputId": "8284ac89-28e8-4cd5-d540-a647332eed95",
        "id": "w9a9emMufsgs"
      },
      "execution_count": 68,
      "outputs": [
        {
          "output_type": "stream",
          "name": "stdout",
          "text": [
            "Accuracy: 0.11764705882352941\n"
          ]
        }
      ]
    },
    {
      "cell_type": "markdown",
      "source": [
        "##A3"
      ],
      "metadata": {
        "id": "PHQLHF5yh0le"
      }
    },
    {
      "cell_type": "code",
      "source": [
        "table_A3Set1 = pd.read_excel(Set1 , sheet_name='A3_1')\n",
        "\n",
        "table_A3Set2 = pd.read_excel(Set2 , sheet_name='A3_2')\n",
        "\n",
        "table_A3Set3 = pd.read_excel(Set3 , sheet_name='A3_3')\n",
        "\n",
        "table_A3Set4 = pd.read_excel(Set4 , sheet_name='A3_4')\n",
        "\n",
        "table_A3Set6 = pd.read_excel(Set6 , sheet_name='A3_6')"
      ],
      "metadata": {
        "id": "3XA21fdZh0le"
      },
      "execution_count": 69,
      "outputs": []
    },
    {
      "cell_type": "markdown",
      "source": [
        "###RGB"
      ],
      "metadata": {
        "id": "HoVTXFtnh0lf"
      }
    },
    {
      "cell_type": "code",
      "source": [
        "clf5=xgb.XGBClassifier()"
      ],
      "metadata": {
        "id": "mLXqv-jVjqh8"
      },
      "execution_count": 70,
      "outputs": []
    },
    {
      "cell_type": "code",
      "source": [
        "RGB_A3_Set2 = table_A3Set2.drop(['H-ref','S-ref','V-ref','H-Shad','S-Shad','V-Shad','Setting','Ref','Shad','Img'], axis=1)"
      ],
      "metadata": {
        "id": "Vk9mUgzNh0lf"
      },
      "execution_count": 71,
      "outputs": []
    },
    {
      "cell_type": "code",
      "source": [
        "RGB_A3_Set1 = table_A3Set1\n",
        "\n",
        "RGB_A3_Set3 = table_A3Set3\n",
        "\n",
        "RGB_A3_Set4 = table_A3Set4\n",
        "\n",
        "RGB_A3_Set6 = table_A3Set6"
      ],
      "metadata": {
        "id": "LDbpm3y5h0lf"
      },
      "execution_count": 72,
      "outputs": []
    },
    {
      "cell_type": "code",
      "source": [
        "RGB_A3_concat0 = pd.concat([RGB_A3_Set1,RGB_A3_Set3,RGB_A3_Set4,RGB_A3_Set6])"
      ],
      "metadata": {
        "id": "4pA-hfDZduq-"
      },
      "execution_count": 73,
      "outputs": []
    },
    {
      "cell_type": "code",
      "source": [
        "RGB_A3_concat2 = RGB_A3_concat0.drop(['H-ref','S-ref','V-ref','H-Shad','S-Shad','V-Shad','Setting','Ref','Shad','Img'], axis=1)"
      ],
      "metadata": {
        "id": "giMn7WiRh0lg"
      },
      "execution_count": 74,
      "outputs": []
    },
    {
      "cell_type": "code",
      "source": [
        "X_test_A3_RGB = np.array(RGB_A3_Set2)"
      ],
      "metadata": {
        "id": "t2Oh3U-6h0lg"
      },
      "execution_count": 75,
      "outputs": []
    },
    {
      "cell_type": "code",
      "source": [
        "y_A3_RGB =  table_A3Set2.iloc[:,14:15]"
      ],
      "metadata": {
        "id": "c5mW71sgh0lg"
      },
      "execution_count": 76,
      "outputs": []
    },
    {
      "cell_type": "code",
      "source": [
        "y_test_A3_RGB = np.array(y_A3_RGB)"
      ],
      "metadata": {
        "id": "vFW4TBk2h0lg"
      },
      "execution_count": 77,
      "outputs": []
    },
    {
      "cell_type": "code",
      "source": [
        "X_train_A3_RGB = np.array(RGB_A3_concat2)"
      ],
      "metadata": {
        "id": "FrKDluEmh0lg"
      },
      "execution_count": 78,
      "outputs": []
    },
    {
      "cell_type": "code",
      "source": [
        "y_train_A3RGB = RGB_A3_concat0.iloc[:,14:15]"
      ],
      "metadata": {
        "id": "qhAriA-9h0lg"
      },
      "execution_count": 79,
      "outputs": []
    },
    {
      "cell_type": "code",
      "source": [
        "y_train_A3_RGB = np.array(y_train_A3RGB)"
      ],
      "metadata": {
        "id": "mFmZVCgZh0lg"
      },
      "execution_count": 80,
      "outputs": []
    },
    {
      "cell_type": "code",
      "source": [
        "clf5.fit(X_train_A3_RGB, y_train_A3_RGB)"
      ],
      "metadata": {
        "colab": {
          "base_uri": "https://localhost:8080/"
        },
        "outputId": "b0eb2188-2ea9-4fe1-8b68-d7fe8a3ad72a",
        "id": "tj0T259Ih0lh"
      },
      "execution_count": 81,
      "outputs": [
        {
          "output_type": "stream",
          "name": "stderr",
          "text": [
            "/usr/local/lib/python3.7/dist-packages/sklearn/preprocessing/_label.py:98: DataConversionWarning: A column-vector y was passed when a 1d array was expected. Please change the shape of y to (n_samples, ), for example using ravel().\n",
            "  y = column_or_1d(y, warn=True)\n",
            "/usr/local/lib/python3.7/dist-packages/sklearn/preprocessing/_label.py:133: DataConversionWarning: A column-vector y was passed when a 1d array was expected. Please change the shape of y to (n_samples, ), for example using ravel().\n",
            "  y = column_or_1d(y, warn=True)\n"
          ]
        },
        {
          "output_type": "execute_result",
          "data": {
            "text/plain": [
              "XGBClassifier(objective='multi:softprob')"
            ]
          },
          "metadata": {},
          "execution_count": 81
        }
      ]
    },
    {
      "cell_type": "code",
      "source": [
        "y_pred_A3_RGB = clf5.predict(X_test_A3_RGB)"
      ],
      "metadata": {
        "id": "nFB2J2xSh0lh"
      },
      "execution_count": 82,
      "outputs": []
    },
    {
      "cell_type": "code",
      "source": [
        "print(\"Accuracy:\", metrics.accuracy_score(y_test_A3_RGB, y_pred_A3_RGB))"
      ],
      "metadata": {
        "colab": {
          "base_uri": "https://localhost:8080/"
        },
        "outputId": "155e6711-c516-43c7-ddc8-c0c02c07c4cf",
        "id": "o6T3HmYeh0lh"
      },
      "execution_count": 83,
      "outputs": [
        {
          "output_type": "stream",
          "name": "stdout",
          "text": [
            "Accuracy: 0.09625\n"
          ]
        }
      ]
    },
    {
      "cell_type": "markdown",
      "source": [
        "###HSV"
      ],
      "metadata": {
        "id": "7fRDUIm4h0lh"
      }
    },
    {
      "cell_type": "code",
      "source": [
        "clf6=xgb.XGBClassifier()"
      ],
      "metadata": {
        "id": "rFEahA70jtqt"
      },
      "execution_count": 84,
      "outputs": []
    },
    {
      "cell_type": "code",
      "source": [
        "HSV_A3_Set2 = table_A3Set2.drop(['R-ref','G-ref','B-ref','R-Shad','G-Shad','B-Shad','Setting','Ref','Shad','Img'], axis=1)"
      ],
      "metadata": {
        "id": "9kVGkRzvh0lh"
      },
      "execution_count": 85,
      "outputs": []
    },
    {
      "cell_type": "code",
      "source": [
        "HSV_A3_concat2 = RGB_A3_concat0.drop(['R-ref','G-ref','B-ref','R-Shad','G-Shad','B-Shad','Setting','Ref','Shad','Img'], axis=1)"
      ],
      "metadata": {
        "id": "3dB7gOBuh0li"
      },
      "execution_count": 86,
      "outputs": []
    },
    {
      "cell_type": "code",
      "source": [
        "X_test_A3_HSV = np.array(HSV_A3_Set2)"
      ],
      "metadata": {
        "id": "fyV1KV7eh0li"
      },
      "execution_count": 87,
      "outputs": []
    },
    {
      "cell_type": "code",
      "source": [
        "y_A3_HSV =  table_A3Set2.iloc[:,14:15]"
      ],
      "metadata": {
        "id": "3s_tC7uuh0li"
      },
      "execution_count": 88,
      "outputs": []
    },
    {
      "cell_type": "code",
      "source": [
        "y_test_A3_HSV = np.array(y_A3_RGB)"
      ],
      "metadata": {
        "id": "ee6hCQxLh0li"
      },
      "execution_count": 89,
      "outputs": []
    },
    {
      "cell_type": "code",
      "source": [
        "X_train_A3_HSV = np.array(HSV_A3_concat2)"
      ],
      "metadata": {
        "id": "I4eE7wQBh0li"
      },
      "execution_count": 90,
      "outputs": []
    },
    {
      "cell_type": "code",
      "source": [
        "y_train_A3HSV = RGB_A3_concat0.iloc[:,14:15]"
      ],
      "metadata": {
        "id": "C4FhoMswh0li"
      },
      "execution_count": 91,
      "outputs": []
    },
    {
      "cell_type": "code",
      "source": [
        "y_train_A3_HSV = np.array(y_train_A3HSV)"
      ],
      "metadata": {
        "id": "YLC-DmyLh0li"
      },
      "execution_count": 92,
      "outputs": []
    },
    {
      "cell_type": "code",
      "source": [
        "clf6.fit(X_train_A3_HSV, y_train_A3_HSV)"
      ],
      "metadata": {
        "colab": {
          "base_uri": "https://localhost:8080/"
        },
        "outputId": "deb34e48-18e3-478f-f26d-0e149d3fcf47",
        "id": "ofA6k6FYh0li"
      },
      "execution_count": 93,
      "outputs": [
        {
          "output_type": "stream",
          "name": "stderr",
          "text": [
            "/usr/local/lib/python3.7/dist-packages/sklearn/preprocessing/_label.py:98: DataConversionWarning: A column-vector y was passed when a 1d array was expected. Please change the shape of y to (n_samples, ), for example using ravel().\n",
            "  y = column_or_1d(y, warn=True)\n",
            "/usr/local/lib/python3.7/dist-packages/sklearn/preprocessing/_label.py:133: DataConversionWarning: A column-vector y was passed when a 1d array was expected. Please change the shape of y to (n_samples, ), for example using ravel().\n",
            "  y = column_or_1d(y, warn=True)\n"
          ]
        },
        {
          "output_type": "execute_result",
          "data": {
            "text/plain": [
              "XGBClassifier(objective='multi:softprob')"
            ]
          },
          "metadata": {},
          "execution_count": 93
        }
      ]
    },
    {
      "cell_type": "code",
      "source": [
        "y_pred_A3_HSV = clf6.predict(X_test_A3_HSV)"
      ],
      "metadata": {
        "id": "qKQL86MOh0lj"
      },
      "execution_count": 94,
      "outputs": []
    },
    {
      "cell_type": "code",
      "source": [
        "print(\"Accuracy:\", metrics.accuracy_score(y_test_A3_HSV, y_pred_A3_HSV))"
      ],
      "metadata": {
        "colab": {
          "base_uri": "https://localhost:8080/"
        },
        "outputId": "79eba1a8-0701-47dd-8789-d435d467a06a",
        "id": "2lCd48LPh0lj"
      },
      "execution_count": 95,
      "outputs": [
        {
          "output_type": "stream",
          "name": "stdout",
          "text": [
            "Accuracy: 0.12375\n"
          ]
        }
      ]
    },
    {
      "cell_type": "markdown",
      "source": [
        "##A3.5"
      ],
      "metadata": {
        "id": "480etiaejoWu"
      }
    },
    {
      "cell_type": "code",
      "source": [
        "table_A3_5Set1 = pd.read_excel(Set1 , sheet_name='A3.5_1')\n",
        "\n",
        "table_A3_5Set2 = pd.read_excel(Set2 , sheet_name='A3.5_2')\n",
        "\n",
        "table_A3_5Set3 = pd.read_excel(Set3 , sheet_name='A3.5_3')\n",
        "\n",
        "table_A3_5Set4 = pd.read_excel(Set4 , sheet_name='A3.5_4')\n",
        "\n",
        "table_A3_5Set6 = pd.read_excel(Set6 , sheet_name='A3.5_6')"
      ],
      "metadata": {
        "id": "mXi7Gb9pjoWu"
      },
      "execution_count": 96,
      "outputs": []
    },
    {
      "cell_type": "markdown",
      "source": [
        "###RGB"
      ],
      "metadata": {
        "id": "szqdEZaHjoWv"
      }
    },
    {
      "cell_type": "code",
      "source": [
        "clf7=xgb.XGBClassifier()"
      ],
      "metadata": {
        "id": "MIPTPHf7jw-H"
      },
      "execution_count": 97,
      "outputs": []
    },
    {
      "cell_type": "code",
      "source": [
        "RGB_A3_5_Set2 = table_A3_5Set2.drop(['H-ref','S-ref','V-ref','H-Shad','S-Shad','V-Shad','Setting','Ref','Shad','Img'], axis=1)"
      ],
      "metadata": {
        "id": "k3kvC36YjoWv"
      },
      "execution_count": 98,
      "outputs": []
    },
    {
      "cell_type": "code",
      "source": [
        "RGB_A3_5_Set1 = table_A3_5Set1\n",
        "\n",
        "RGB_A3_5_Set3 = table_A3_5Set3\n",
        "\n",
        "RGB_A3_5_Set4 = table_A3_5Set4\n",
        "\n",
        "RGB_A3_5_Set6 = table_A3_5Set6"
      ],
      "metadata": {
        "id": "gFpr3qLfjoWv"
      },
      "execution_count": 99,
      "outputs": []
    },
    {
      "cell_type": "code",
      "source": [
        "RGB_A3_5_concat0 = pd.concat([RGB_A3_5_Set1,RGB_A3_5_Set3,RGB_A3_5_Set4,RGB_A3_5_Set6])"
      ],
      "metadata": {
        "id": "LBO9ruQPfsDz"
      },
      "execution_count": 100,
      "outputs": []
    },
    {
      "cell_type": "code",
      "source": [
        "RGB_A3_5_concat2 = RGB_A3_5_concat0.drop(['H-ref','S-ref','V-ref','H-Shad','S-Shad','V-Shad','Setting','Ref','Shad','Img'], axis=1)"
      ],
      "metadata": {
        "id": "OIKxmY3pjoWv"
      },
      "execution_count": 101,
      "outputs": []
    },
    {
      "cell_type": "code",
      "source": [
        "X_test_A3_5_RGB = np.array(RGB_A3_5_Set2)"
      ],
      "metadata": {
        "id": "cYD4qo1XjoWw"
      },
      "execution_count": 102,
      "outputs": []
    },
    {
      "cell_type": "code",
      "source": [
        "y_A3_5_RGB =  table_A3_5Set2.iloc[:,14:15]"
      ],
      "metadata": {
        "id": "vJxHOjUkjoWw"
      },
      "execution_count": 103,
      "outputs": []
    },
    {
      "cell_type": "code",
      "source": [
        "y_test_A3_5_RGB = np.array(y_A3_5_RGB)"
      ],
      "metadata": {
        "id": "cobCJjzljoWw"
      },
      "execution_count": 104,
      "outputs": []
    },
    {
      "cell_type": "code",
      "source": [
        "X_train_A3_5_RGB = np.array(RGB_A3_5_concat2)"
      ],
      "metadata": {
        "id": "dfMok11LjoWw"
      },
      "execution_count": 105,
      "outputs": []
    },
    {
      "cell_type": "code",
      "source": [
        "y_train_A3_5RGB = RGB_A3_5_concat0.iloc[:,14:15]"
      ],
      "metadata": {
        "id": "MjjBCpJ4joWw"
      },
      "execution_count": 106,
      "outputs": []
    },
    {
      "cell_type": "code",
      "source": [
        "y_train_A3_5_RGB = np.array(y_train_A3_5RGB)"
      ],
      "metadata": {
        "id": "CmWagAKLjoWw"
      },
      "execution_count": 107,
      "outputs": []
    },
    {
      "cell_type": "code",
      "source": [
        "clf7.fit(X_train_A3_5_RGB, y_train_A3_5_RGB)"
      ],
      "metadata": {
        "colab": {
          "base_uri": "https://localhost:8080/"
        },
        "outputId": "92307fe1-26a2-4b41-bc74-6ed1f8e649f7",
        "id": "9LZJjOA2joWw"
      },
      "execution_count": 108,
      "outputs": [
        {
          "output_type": "stream",
          "name": "stderr",
          "text": [
            "/usr/local/lib/python3.7/dist-packages/sklearn/preprocessing/_label.py:98: DataConversionWarning: A column-vector y was passed when a 1d array was expected. Please change the shape of y to (n_samples, ), for example using ravel().\n",
            "  y = column_or_1d(y, warn=True)\n",
            "/usr/local/lib/python3.7/dist-packages/sklearn/preprocessing/_label.py:133: DataConversionWarning: A column-vector y was passed when a 1d array was expected. Please change the shape of y to (n_samples, ), for example using ravel().\n",
            "  y = column_or_1d(y, warn=True)\n"
          ]
        },
        {
          "output_type": "execute_result",
          "data": {
            "text/plain": [
              "XGBClassifier(objective='multi:softprob')"
            ]
          },
          "metadata": {},
          "execution_count": 108
        }
      ]
    },
    {
      "cell_type": "code",
      "source": [
        "y_pred_A3_5_RGB = clf7.predict(X_test_A3_5_RGB)"
      ],
      "metadata": {
        "id": "XArHxf8ujoWw"
      },
      "execution_count": 109,
      "outputs": []
    },
    {
      "cell_type": "code",
      "source": [
        "print(\"Accuracy:\", metrics.accuracy_score(y_test_A3_5_RGB, y_pred_A3_5_RGB))"
      ],
      "metadata": {
        "colab": {
          "base_uri": "https://localhost:8080/"
        },
        "outputId": "7bdd4e53-3237-48e2-dfc9-9be1cf0b8767",
        "id": "R2MXW1HujoWw"
      },
      "execution_count": 110,
      "outputs": [
        {
          "output_type": "stream",
          "name": "stdout",
          "text": [
            "Accuracy: 0.12625\n"
          ]
        }
      ]
    },
    {
      "cell_type": "markdown",
      "source": [
        "###HSV"
      ],
      "metadata": {
        "id": "_IExAm4gjoWx"
      }
    },
    {
      "cell_type": "code",
      "source": [
        "clf8=xgb.XGBClassifier()"
      ],
      "metadata": {
        "id": "Y7mgJ71tj1JW"
      },
      "execution_count": 111,
      "outputs": []
    },
    {
      "cell_type": "code",
      "source": [
        "HSV_A3_5_Set2 = table_A3_5Set2.drop(['R-ref','G-ref','B-ref','R-Shad','G-Shad','B-Shad','Setting','Ref','Shad','Img'], axis=1)"
      ],
      "metadata": {
        "id": "lhj5PV07joWx"
      },
      "execution_count": 112,
      "outputs": []
    },
    {
      "cell_type": "code",
      "source": [
        "HSV_A3_5_concat2 = RGB_A3_5_concat0.drop(['R-ref','G-ref','B-ref','R-Shad','G-Shad','B-Shad','Setting','Ref','Shad','Img'], axis=1)"
      ],
      "metadata": {
        "id": "8oHPZ7YajoWx"
      },
      "execution_count": 113,
      "outputs": []
    },
    {
      "cell_type": "code",
      "source": [
        "X_test_A3_5_HSV = np.array(HSV_A3_5_Set2)"
      ],
      "metadata": {
        "id": "cZ2L64gojoWx"
      },
      "execution_count": 114,
      "outputs": []
    },
    {
      "cell_type": "code",
      "source": [
        "y_A3_5_HSV =  table_A3_5Set2.iloc[:,14:15]"
      ],
      "metadata": {
        "id": "fKuRKeGXjoWx"
      },
      "execution_count": 115,
      "outputs": []
    },
    {
      "cell_type": "code",
      "source": [
        "y_test_A3_5_HSV = np.array(y_A3_5_RGB)"
      ],
      "metadata": {
        "id": "FA7kZYn2joWx"
      },
      "execution_count": 116,
      "outputs": []
    },
    {
      "cell_type": "code",
      "source": [
        "X_train_A3_5_HSV = np.array(HSV_A3_5_concat2)"
      ],
      "metadata": {
        "id": "Lpr6XTwwjoWx"
      },
      "execution_count": 117,
      "outputs": []
    },
    {
      "cell_type": "code",
      "source": [
        "y_train_A3_5HSV = RGB_A3_5_concat0.iloc[:,14:15]"
      ],
      "metadata": {
        "id": "fU-86S2TjoWx"
      },
      "execution_count": 118,
      "outputs": []
    },
    {
      "cell_type": "code",
      "source": [
        "y_train_A3_5_HSV = np.array(y_train_A3_5HSV)"
      ],
      "metadata": {
        "id": "dLsM5Ta9joWx"
      },
      "execution_count": 119,
      "outputs": []
    },
    {
      "cell_type": "code",
      "source": [
        "clf8.fit(X_train_A3_5_HSV, y_train_A3_5_HSV)"
      ],
      "metadata": {
        "colab": {
          "base_uri": "https://localhost:8080/"
        },
        "outputId": "002817fd-1161-43c4-f1c5-89213cb8125a",
        "id": "YyIuDeUHjoWy"
      },
      "execution_count": 120,
      "outputs": [
        {
          "output_type": "stream",
          "name": "stderr",
          "text": [
            "/usr/local/lib/python3.7/dist-packages/sklearn/preprocessing/_label.py:98: DataConversionWarning: A column-vector y was passed when a 1d array was expected. Please change the shape of y to (n_samples, ), for example using ravel().\n",
            "  y = column_or_1d(y, warn=True)\n",
            "/usr/local/lib/python3.7/dist-packages/sklearn/preprocessing/_label.py:133: DataConversionWarning: A column-vector y was passed when a 1d array was expected. Please change the shape of y to (n_samples, ), for example using ravel().\n",
            "  y = column_or_1d(y, warn=True)\n"
          ]
        },
        {
          "output_type": "execute_result",
          "data": {
            "text/plain": [
              "XGBClassifier(objective='multi:softprob')"
            ]
          },
          "metadata": {},
          "execution_count": 120
        }
      ]
    },
    {
      "cell_type": "code",
      "source": [
        "y_pred_A3_5_HSV = clf8.predict(X_test_A3_5_HSV)"
      ],
      "metadata": {
        "id": "3vwQoGB9joWy"
      },
      "execution_count": 121,
      "outputs": []
    },
    {
      "cell_type": "code",
      "source": [
        "print(\"Accuracy:\", metrics.accuracy_score(y_test_A3_5_HSV, y_pred_A3_5_HSV))"
      ],
      "metadata": {
        "colab": {
          "base_uri": "https://localhost:8080/"
        },
        "outputId": "ce9e3393-e854-4baa-8e62-a31bff91ea74",
        "id": "ztP1KhpfjoWy"
      },
      "execution_count": 122,
      "outputs": [
        {
          "output_type": "stream",
          "name": "stdout",
          "text": [
            "Accuracy: 0.1225\n"
          ]
        }
      ]
    },
    {
      "cell_type": "markdown",
      "source": [
        "##A4"
      ],
      "metadata": {
        "id": "QtddIFhZmT6y"
      }
    },
    {
      "cell_type": "code",
      "source": [
        "table_A4Set1 = pd.read_excel(Set1 , sheet_name='A4_1')\n",
        "\n",
        "table_A4Set2 = pd.read_excel(Set2 , sheet_name='A4_2')\n",
        "\n",
        "table_A4Set3 = pd.read_excel(Set3 , sheet_name='A4_3')\n",
        "\n",
        "table_A4Set4 = pd.read_excel(Set4 , sheet_name='A4_4')\n",
        "\n",
        "table_A4Set6 = pd.read_excel(Set6 , sheet_name='A4_6')"
      ],
      "metadata": {
        "id": "UTdvgDYRmT6y"
      },
      "execution_count": 123,
      "outputs": []
    },
    {
      "cell_type": "markdown",
      "source": [
        "###RGB"
      ],
      "metadata": {
        "id": "xkr8_V_nmT6z"
      }
    },
    {
      "cell_type": "code",
      "source": [
        "clf9=xgb.XGBClassifier()"
      ],
      "metadata": {
        "id": "fJt7HOuBj44J"
      },
      "execution_count": 124,
      "outputs": []
    },
    {
      "cell_type": "code",
      "source": [
        "RGB_A4_Set2 = table_A4Set2.drop(['H-ref','S-ref','V-ref','H-Shad','S-Shad','V-Shad','Setting','Ref','Shad','Img'], axis=1)"
      ],
      "metadata": {
        "id": "72idAyO1mT6z"
      },
      "execution_count": 125,
      "outputs": []
    },
    {
      "cell_type": "code",
      "source": [
        "RGB_A4_Set1 = table_A4Set1\n",
        "\n",
        "RGB_A4_Set3 = table_A4Set3\n",
        "\n",
        "RGB_A4_Set4 = table_A4Set4\n",
        "\n",
        "RGB_A4_Set6 = table_A4Set6"
      ],
      "metadata": {
        "id": "Gl4tUns2mT6z"
      },
      "execution_count": 126,
      "outputs": []
    },
    {
      "cell_type": "code",
      "source": [
        "RGB_A4_concat0 = pd.concat([RGB_A4_Set1,RGB_A4_Set3,RGB_A4_Set4,RGB_A4_Set6])"
      ],
      "metadata": {
        "id": "JZhUVRKzgwC0"
      },
      "execution_count": 127,
      "outputs": []
    },
    {
      "cell_type": "code",
      "source": [
        "RGB_A4_concat2 = RGB_A4_concat0.drop(['H-ref','S-ref','V-ref','H-Shad','S-Shad','V-Shad','Setting','Ref','Shad','Img'], axis=1)"
      ],
      "metadata": {
        "id": "27nGfKormT60"
      },
      "execution_count": 128,
      "outputs": []
    },
    {
      "cell_type": "code",
      "source": [
        "X_test_A4_RGB = np.array(RGB_A4_Set2)"
      ],
      "metadata": {
        "id": "Qc4YS3uHmT60"
      },
      "execution_count": 129,
      "outputs": []
    },
    {
      "cell_type": "code",
      "source": [
        "y_A4_RGB =  table_A4Set2.iloc[:,14:15]"
      ],
      "metadata": {
        "id": "tqo97GyZmT60"
      },
      "execution_count": 130,
      "outputs": []
    },
    {
      "cell_type": "code",
      "source": [
        "y_test_A4_RGB = np.array(y_A4_RGB)"
      ],
      "metadata": {
        "id": "gOFEqZsnmT60"
      },
      "execution_count": 131,
      "outputs": []
    },
    {
      "cell_type": "code",
      "source": [
        "X_train_A4_RGB = np.array(RGB_A4_concat2)"
      ],
      "metadata": {
        "id": "evdsCaIqmT60"
      },
      "execution_count": 132,
      "outputs": []
    },
    {
      "cell_type": "code",
      "source": [
        "y_train_A4_RGB = RGB_A4_concat0.iloc[:,14:15]"
      ],
      "metadata": {
        "id": "UDKVjmV3mT60"
      },
      "execution_count": 133,
      "outputs": []
    },
    {
      "cell_type": "code",
      "source": [
        "y_train_A4_RGB = np.array(y_train_A4_RGB)"
      ],
      "metadata": {
        "id": "HWKuVJsEmT60"
      },
      "execution_count": 134,
      "outputs": []
    },
    {
      "cell_type": "code",
      "source": [
        "clf9.fit(X_train_A4_RGB, y_train_A4_RGB)"
      ],
      "metadata": {
        "colab": {
          "base_uri": "https://localhost:8080/"
        },
        "outputId": "5f3e398d-953a-424b-85e3-33735b08d7af",
        "id": "mKLrfno7mT61"
      },
      "execution_count": 135,
      "outputs": [
        {
          "output_type": "stream",
          "name": "stderr",
          "text": [
            "/usr/local/lib/python3.7/dist-packages/sklearn/preprocessing/_label.py:98: DataConversionWarning: A column-vector y was passed when a 1d array was expected. Please change the shape of y to (n_samples, ), for example using ravel().\n",
            "  y = column_or_1d(y, warn=True)\n",
            "/usr/local/lib/python3.7/dist-packages/sklearn/preprocessing/_label.py:133: DataConversionWarning: A column-vector y was passed when a 1d array was expected. Please change the shape of y to (n_samples, ), for example using ravel().\n",
            "  y = column_or_1d(y, warn=True)\n"
          ]
        },
        {
          "output_type": "execute_result",
          "data": {
            "text/plain": [
              "XGBClassifier(objective='multi:softprob')"
            ]
          },
          "metadata": {},
          "execution_count": 135
        }
      ]
    },
    {
      "cell_type": "code",
      "source": [
        "y_pred_A4_RGB = clf9.predict(X_test_A4_RGB)"
      ],
      "metadata": {
        "id": "Vq3eKt90mT61"
      },
      "execution_count": 136,
      "outputs": []
    },
    {
      "cell_type": "code",
      "source": [
        "print(\"Accuracy:\", metrics.accuracy_score(y_test_A4_RGB, y_pred_A4_RGB))"
      ],
      "metadata": {
        "colab": {
          "base_uri": "https://localhost:8080/"
        },
        "outputId": "68fd6101-df56-402c-87ef-82378222dbfc",
        "id": "7v0zBiIVmT61"
      },
      "execution_count": 137,
      "outputs": [
        {
          "output_type": "stream",
          "name": "stdout",
          "text": [
            "Accuracy: 0.0825\n"
          ]
        }
      ]
    },
    {
      "cell_type": "markdown",
      "source": [
        "###HSV"
      ],
      "metadata": {
        "id": "SFfZqFEqmT61"
      }
    },
    {
      "cell_type": "code",
      "source": [
        "clf10=xgb.XGBClassifier()"
      ],
      "metadata": {
        "id": "eXns4Mnmj9cg"
      },
      "execution_count": 138,
      "outputs": []
    },
    {
      "cell_type": "code",
      "source": [
        "HSV_A4_Set2 = table_A4Set2.drop(['R-ref','G-ref','B-ref','R-Shad','G-Shad','B-Shad','Setting','Ref','Shad','Img'], axis=1)"
      ],
      "metadata": {
        "id": "sicvN6smmT61"
      },
      "execution_count": 139,
      "outputs": []
    },
    {
      "cell_type": "code",
      "source": [
        "HSV_A4_concat2 = RGB_A4_concat0.drop(['R-ref','G-ref','B-ref','R-Shad','G-Shad','B-Shad','Setting','Ref','Shad','Img'], axis=1)"
      ],
      "metadata": {
        "id": "iQDhby-dmT61"
      },
      "execution_count": 140,
      "outputs": []
    },
    {
      "cell_type": "code",
      "source": [
        "X_test_A4_HSV = np.array(HSV_A4_Set2)"
      ],
      "metadata": {
        "id": "gGPuTgHamT62"
      },
      "execution_count": 141,
      "outputs": []
    },
    {
      "cell_type": "code",
      "source": [
        "y_A4_HSV =  table_A4Set2.iloc[:,14:15]"
      ],
      "metadata": {
        "id": "B9OqUKypmT62"
      },
      "execution_count": 142,
      "outputs": []
    },
    {
      "cell_type": "code",
      "source": [
        "y_test_A4_HSV = np.array(y_A4_RGB)"
      ],
      "metadata": {
        "id": "z5Jh7WrlmT62"
      },
      "execution_count": 143,
      "outputs": []
    },
    {
      "cell_type": "code",
      "source": [
        "X_train_A4_HSV = np.array(HSV_A4_concat2)"
      ],
      "metadata": {
        "id": "ZxnVmXUKmT62"
      },
      "execution_count": 144,
      "outputs": []
    },
    {
      "cell_type": "code",
      "source": [
        "y_train_A4HSV = RGB_A4_concat0.iloc[:,14:15]"
      ],
      "metadata": {
        "id": "V6lZEw3jmT62"
      },
      "execution_count": 145,
      "outputs": []
    },
    {
      "cell_type": "code",
      "source": [
        "y_train_A4_HSV = np.array(y_train_A4HSV)"
      ],
      "metadata": {
        "id": "xSFHaFsFmT62"
      },
      "execution_count": 146,
      "outputs": []
    },
    {
      "cell_type": "code",
      "source": [
        "clf10.fit(X_train_A4_HSV, y_train_A4_HSV)"
      ],
      "metadata": {
        "colab": {
          "base_uri": "https://localhost:8080/"
        },
        "outputId": "4d74ab2a-bdb8-4533-e200-3fe3030d0a84",
        "id": "hW7GM7GRmT62"
      },
      "execution_count": 147,
      "outputs": [
        {
          "output_type": "stream",
          "name": "stderr",
          "text": [
            "/usr/local/lib/python3.7/dist-packages/sklearn/preprocessing/_label.py:98: DataConversionWarning: A column-vector y was passed when a 1d array was expected. Please change the shape of y to (n_samples, ), for example using ravel().\n",
            "  y = column_or_1d(y, warn=True)\n",
            "/usr/local/lib/python3.7/dist-packages/sklearn/preprocessing/_label.py:133: DataConversionWarning: A column-vector y was passed when a 1d array was expected. Please change the shape of y to (n_samples, ), for example using ravel().\n",
            "  y = column_or_1d(y, warn=True)\n"
          ]
        },
        {
          "output_type": "execute_result",
          "data": {
            "text/plain": [
              "XGBClassifier(objective='multi:softprob')"
            ]
          },
          "metadata": {},
          "execution_count": 147
        }
      ]
    },
    {
      "cell_type": "code",
      "source": [
        "y_pred_A4_HSV = clf10.predict(X_test_A4_HSV)"
      ],
      "metadata": {
        "id": "HlQR18cxmT62"
      },
      "execution_count": 148,
      "outputs": []
    },
    {
      "cell_type": "code",
      "source": [
        "print(\"Accuracy:\", metrics.accuracy_score(y_test_A4_HSV, y_pred_A4_HSV))"
      ],
      "metadata": {
        "colab": {
          "base_uri": "https://localhost:8080/"
        },
        "outputId": "c9753658-dbe0-4ad6-f2b7-9d4ccbc0caec",
        "id": "_ABaescjmT62"
      },
      "execution_count": 149,
      "outputs": [
        {
          "output_type": "stream",
          "name": "stdout",
          "text": [
            "Accuracy: 0.1275\n"
          ]
        }
      ]
    },
    {
      "cell_type": "markdown",
      "source": [
        "#BB"
      ],
      "metadata": {
        "id": "_QZmNKGToJfj"
      }
    },
    {
      "cell_type": "markdown",
      "source": [
        "##B1"
      ],
      "metadata": {
        "id": "se58n_Qroh-i"
      }
    },
    {
      "cell_type": "code",
      "source": [
        "table_B1Set1 = pd.read_excel(Set1 , sheet_name='B1_1')\n",
        "\n",
        "table_B1Set2 = pd.read_excel(Set2 , sheet_name='B1_2')\n",
        "\n",
        "table_B1Set3 = pd.read_excel(Set3 , sheet_name='B1_3')\n",
        "\n",
        "table_B1Set4 = pd.read_excel(Set4 , sheet_name='B1_4')\n",
        "\n",
        "table_B1Set6 = pd.read_excel(Set6 , sheet_name='B1_6')"
      ],
      "metadata": {
        "id": "ySX9ISTZoh-o"
      },
      "execution_count": 150,
      "outputs": []
    },
    {
      "cell_type": "markdown",
      "source": [
        "###RGB"
      ],
      "metadata": {
        "id": "O_FJgLnHoh-p"
      }
    },
    {
      "cell_type": "code",
      "source": [
        "clf11=xgb.XGBClassifier()"
      ],
      "metadata": {
        "id": "UrOpZjhrkASD"
      },
      "execution_count": 151,
      "outputs": []
    },
    {
      "cell_type": "code",
      "source": [
        "RGB_B1_Set2 = table_B1Set2.drop(['H-ref','S-ref','V-ref','H-Shad','S-Shad','V-Shad','Setting','Ref','Shad','Img'], axis=1)"
      ],
      "metadata": {
        "id": "U6oEjDfooh-p"
      },
      "execution_count": 152,
      "outputs": []
    },
    {
      "cell_type": "code",
      "source": [
        "RGB_B1_Set1 = table_B1Set1\n",
        "\n",
        "RGB_B1_Set3 = table_B1Set3\n",
        "\n",
        "RGB_B1_Set4 = table_B1Set4\n",
        "\n",
        "RGB_B1_Set6 = table_B1Set6"
      ],
      "metadata": {
        "id": "Bb4epOesoh-p"
      },
      "execution_count": 153,
      "outputs": []
    },
    {
      "cell_type": "code",
      "source": [
        "RGB_B1_concat0 = pd.concat([RGB_B1_Set1,RGB_B1_Set3,RGB_B1_Set4,RGB_B1_Set6])"
      ],
      "metadata": {
        "id": "IexWyYFoh0GX"
      },
      "execution_count": 154,
      "outputs": []
    },
    {
      "cell_type": "code",
      "source": [
        "RGB_B1_concat2 = RGB_B1_concat0.drop(['H-ref','S-ref','V-ref','H-Shad','S-Shad','V-Shad','Setting','Ref','Shad','Img'], axis=1)"
      ],
      "metadata": {
        "id": "rFdgV2Gzoh-p"
      },
      "execution_count": 155,
      "outputs": []
    },
    {
      "cell_type": "code",
      "source": [
        "X_test_B1_RGB = np.array(RGB_B1_Set2)"
      ],
      "metadata": {
        "id": "w7GJ9Tckoh-p"
      },
      "execution_count": 156,
      "outputs": []
    },
    {
      "cell_type": "code",
      "source": [
        "y_B1_RGB =  table_B1Set2.iloc[:,14:15]"
      ],
      "metadata": {
        "id": "R1znsRQWoh-p"
      },
      "execution_count": 157,
      "outputs": []
    },
    {
      "cell_type": "code",
      "source": [
        "y_test_B1_RGB = np.array(y_B1_RGB)"
      ],
      "metadata": {
        "id": "jsKRNbKyoh-p"
      },
      "execution_count": 158,
      "outputs": []
    },
    {
      "cell_type": "code",
      "source": [
        "X_train_B1_RGB = np.array(RGB_B1_concat2)"
      ],
      "metadata": {
        "id": "Ts-lXxcnoh-q"
      },
      "execution_count": 159,
      "outputs": []
    },
    {
      "cell_type": "code",
      "source": [
        "y_train_B1RGB = RGB_B1_concat0.iloc[:,14:15]"
      ],
      "metadata": {
        "id": "W4aZ3hAdoh-q"
      },
      "execution_count": 160,
      "outputs": []
    },
    {
      "cell_type": "code",
      "source": [
        "y_train_B1_RGB = np.array(y_train_B1RGB)"
      ],
      "metadata": {
        "id": "ynpJaH-Voh-q"
      },
      "execution_count": 161,
      "outputs": []
    },
    {
      "cell_type": "code",
      "source": [
        "clf11.fit(X_train_B1_RGB, y_train_B1_RGB)"
      ],
      "metadata": {
        "colab": {
          "base_uri": "https://localhost:8080/"
        },
        "outputId": "6b36aea3-ec11-4dbb-9051-1495e546c6df",
        "id": "ID-UOUcfoh-q"
      },
      "execution_count": 162,
      "outputs": [
        {
          "output_type": "stream",
          "name": "stderr",
          "text": [
            "/usr/local/lib/python3.7/dist-packages/sklearn/preprocessing/_label.py:98: DataConversionWarning: A column-vector y was passed when a 1d array was expected. Please change the shape of y to (n_samples, ), for example using ravel().\n",
            "  y = column_or_1d(y, warn=True)\n",
            "/usr/local/lib/python3.7/dist-packages/sklearn/preprocessing/_label.py:133: DataConversionWarning: A column-vector y was passed when a 1d array was expected. Please change the shape of y to (n_samples, ), for example using ravel().\n",
            "  y = column_or_1d(y, warn=True)\n"
          ]
        },
        {
          "output_type": "execute_result",
          "data": {
            "text/plain": [
              "XGBClassifier(objective='multi:softprob')"
            ]
          },
          "metadata": {},
          "execution_count": 162
        }
      ]
    },
    {
      "cell_type": "code",
      "source": [
        "y_pred_B1_RGB = clf11.predict(X_test_B1_RGB)"
      ],
      "metadata": {
        "id": "NaLy2DdCoh-q"
      },
      "execution_count": 163,
      "outputs": []
    },
    {
      "cell_type": "code",
      "source": [
        "print(\"Accuracy:\", metrics.accuracy_score(y_test_B1_RGB, y_pred_B1_RGB))"
      ],
      "metadata": {
        "colab": {
          "base_uri": "https://localhost:8080/"
        },
        "outputId": "73f0dcaa-d460-4de7-b8df-c5d6468273cb",
        "id": "7ODrXbt8oh-q"
      },
      "execution_count": 164,
      "outputs": [
        {
          "output_type": "stream",
          "name": "stdout",
          "text": [
            "Accuracy: 0.1391304347826087\n"
          ]
        }
      ]
    },
    {
      "cell_type": "markdown",
      "source": [
        "###HSV"
      ],
      "metadata": {
        "id": "LqH-Neruoh-q"
      }
    },
    {
      "cell_type": "code",
      "source": [
        "clf12=xgb.XGBClassifier()"
      ],
      "metadata": {
        "id": "KiY6lW0mkDMe"
      },
      "execution_count": 165,
      "outputs": []
    },
    {
      "cell_type": "code",
      "source": [
        "HSV_B1_Set2 = table_B1Set2.drop(['R-ref','G-ref','B-ref','R-Shad','G-Shad','B-Shad','Setting','Ref','Shad','Img'], axis=1)"
      ],
      "metadata": {
        "id": "qRp-RtNMoh-q"
      },
      "execution_count": 166,
      "outputs": []
    },
    {
      "cell_type": "code",
      "source": [
        "HSV_B1_concat2 = RGB_B1_concat0.drop(['R-ref','G-ref','B-ref','R-Shad','G-Shad','B-Shad','Setting','Ref','Shad','Img'], axis=1)"
      ],
      "metadata": {
        "id": "k9OpSll3oh-r"
      },
      "execution_count": 167,
      "outputs": []
    },
    {
      "cell_type": "code",
      "source": [
        "X_test_B1_HSV = np.array(HSV_B1_Set2)"
      ],
      "metadata": {
        "id": "-CETjUEBoh-r"
      },
      "execution_count": 168,
      "outputs": []
    },
    {
      "cell_type": "code",
      "source": [
        "y_B1_HSV =  table_B1Set2.iloc[:,14:15]"
      ],
      "metadata": {
        "id": "PjRR4vyioh-r"
      },
      "execution_count": 169,
      "outputs": []
    },
    {
      "cell_type": "code",
      "source": [
        "y_test_B1_HSV = np.array(y_B1_RGB)"
      ],
      "metadata": {
        "id": "y5RnrM4Ioh-r"
      },
      "execution_count": 170,
      "outputs": []
    },
    {
      "cell_type": "code",
      "source": [
        "X_train_B1_HSV = np.array(HSV_B1_concat2)"
      ],
      "metadata": {
        "id": "wjcX6HYGoh-r"
      },
      "execution_count": 171,
      "outputs": []
    },
    {
      "cell_type": "code",
      "source": [
        "y_train_B1HSV = RGB_B1_concat0.iloc[:,14:15]"
      ],
      "metadata": {
        "id": "dXhgnBj5oh-r"
      },
      "execution_count": 172,
      "outputs": []
    },
    {
      "cell_type": "code",
      "source": [
        "y_train_B1_HSV = np.array(y_train_B1HSV)"
      ],
      "metadata": {
        "id": "HmO2ONBmoh-r"
      },
      "execution_count": 173,
      "outputs": []
    },
    {
      "cell_type": "code",
      "source": [
        "clf12.fit(X_train_B1_HSV, y_train_B1_HSV)"
      ],
      "metadata": {
        "colab": {
          "base_uri": "https://localhost:8080/"
        },
        "outputId": "89c25023-064f-4b29-c2cd-63659b1da5ac",
        "id": "DnC3rvT9oh-r"
      },
      "execution_count": 174,
      "outputs": [
        {
          "output_type": "stream",
          "name": "stderr",
          "text": [
            "/usr/local/lib/python3.7/dist-packages/sklearn/preprocessing/_label.py:98: DataConversionWarning: A column-vector y was passed when a 1d array was expected. Please change the shape of y to (n_samples, ), for example using ravel().\n",
            "  y = column_or_1d(y, warn=True)\n",
            "/usr/local/lib/python3.7/dist-packages/sklearn/preprocessing/_label.py:133: DataConversionWarning: A column-vector y was passed when a 1d array was expected. Please change the shape of y to (n_samples, ), for example using ravel().\n",
            "  y = column_or_1d(y, warn=True)\n"
          ]
        },
        {
          "output_type": "execute_result",
          "data": {
            "text/plain": [
              "XGBClassifier(objective='multi:softprob')"
            ]
          },
          "metadata": {},
          "execution_count": 174
        }
      ]
    },
    {
      "cell_type": "code",
      "source": [
        "y_pred_B1_HSV = clf12.predict(X_test_B1_HSV)"
      ],
      "metadata": {
        "id": "Cg1T4HSdoh-r"
      },
      "execution_count": 175,
      "outputs": []
    },
    {
      "cell_type": "code",
      "source": [
        "print(\"Accuracy:\", metrics.accuracy_score(y_test_B1_HSV, y_pred_B1_HSV))"
      ],
      "metadata": {
        "colab": {
          "base_uri": "https://localhost:8080/"
        },
        "outputId": "a5b46dd4-19e5-4c6a-b030-3f7ac9a4356d",
        "id": "yMBJje_xoh-r"
      },
      "execution_count": 176,
      "outputs": [
        {
          "output_type": "stream",
          "name": "stdout",
          "text": [
            "Accuracy: 0.08322981366459627\n"
          ]
        }
      ]
    },
    {
      "cell_type": "markdown",
      "source": [
        "##B2"
      ],
      "metadata": {
        "id": "9NN_QqeCp0es"
      }
    },
    {
      "cell_type": "code",
      "source": [
        "table_B2Set1 = pd.read_excel(Set1 , sheet_name='B2_1')\n",
        "\n",
        "table_B2Set2 = pd.read_excel(Set2 , sheet_name='B2_2')\n",
        "\n",
        "table_B2Set3 = pd.read_excel(Set3 , sheet_name='B2_3')\n",
        "\n",
        "table_B2Set4 = pd.read_excel(Set4 , sheet_name='B2_4')\n",
        "\n",
        "table_B2Set6 = pd.read_excel(Set6 , sheet_name='B2_6')"
      ],
      "metadata": {
        "id": "doMqM22lp0es"
      },
      "execution_count": 177,
      "outputs": []
    },
    {
      "cell_type": "markdown",
      "source": [
        "###RGB"
      ],
      "metadata": {
        "id": "fISYhQjlp0et"
      }
    },
    {
      "cell_type": "code",
      "source": [
        "clf13=xgb.XGBClassifier()"
      ],
      "metadata": {
        "id": "QK0BkzNJkH-1"
      },
      "execution_count": 178,
      "outputs": []
    },
    {
      "cell_type": "code",
      "source": [
        "RGB_B2_Set2 = table_B2Set2.drop(['H-ref','S-ref','V-ref','H-Shad','S-Shad','V-Shad','Setting','Ref','Shad','Img'], axis=1)"
      ],
      "metadata": {
        "id": "iEZFoIqKp0et"
      },
      "execution_count": 179,
      "outputs": []
    },
    {
      "cell_type": "code",
      "source": [
        "RGB_B2_Set1 = table_B2Set1\n",
        "\n",
        "RGB_B2_Set3 = table_B2Set3\n",
        "\n",
        "RGB_B2_Set4 = table_B2Set4\n",
        "\n",
        "RGB_B2_Set6 = table_B2Set6"
      ],
      "metadata": {
        "id": "OgUJ9Hj2p0et"
      },
      "execution_count": 180,
      "outputs": []
    },
    {
      "cell_type": "code",
      "source": [
        "RGB_B2_concat0 = pd.concat([RGB_B2_Set1,RGB_B2_Set3,RGB_B2_Set4,RGB_B2_Set6])"
      ],
      "metadata": {
        "id": "F62C9WuijEwx"
      },
      "execution_count": 181,
      "outputs": []
    },
    {
      "cell_type": "code",
      "source": [
        "RGB_B2_concat2 = RGB_B2_concat0.drop(['H-ref','S-ref','V-ref','H-Shad','S-Shad','V-Shad','Setting','Ref','Shad','Img'], axis=1)"
      ],
      "metadata": {
        "id": "OGZ1uxtip0eu"
      },
      "execution_count": 182,
      "outputs": []
    },
    {
      "cell_type": "code",
      "source": [
        "X_test_B2_RGB = np.array(RGB_B2_Set2)"
      ],
      "metadata": {
        "id": "rcc7ihUcp0eu"
      },
      "execution_count": 183,
      "outputs": []
    },
    {
      "cell_type": "code",
      "source": [
        "y_B2_RGB =  table_B2Set2.iloc[:,14:15]"
      ],
      "metadata": {
        "id": "xtXVZfgQp0eu"
      },
      "execution_count": 184,
      "outputs": []
    },
    {
      "cell_type": "code",
      "source": [
        "y_test_B2_RGB = np.array(y_B2_RGB)"
      ],
      "metadata": {
        "id": "iDYlulqBp0eu"
      },
      "execution_count": 185,
      "outputs": []
    },
    {
      "cell_type": "code",
      "source": [
        "X_train_B2_RGB = np.array(RGB_B2_concat2)"
      ],
      "metadata": {
        "id": "Uf4RlAP5p0eu"
      },
      "execution_count": 186,
      "outputs": []
    },
    {
      "cell_type": "code",
      "source": [
        "y_train_B2RGB = RGB_B2_concat0.iloc[:,14:15]"
      ],
      "metadata": {
        "id": "-7OL72MSp0ev"
      },
      "execution_count": 187,
      "outputs": []
    },
    {
      "cell_type": "code",
      "source": [
        "y_train_B2_RGB = np.array(y_train_B2RGB)"
      ],
      "metadata": {
        "id": "UOscGSpMp0ev"
      },
      "execution_count": 188,
      "outputs": []
    },
    {
      "cell_type": "code",
      "source": [
        "clf13.fit(X_train_B2_RGB, y_train_B2_RGB)"
      ],
      "metadata": {
        "colab": {
          "base_uri": "https://localhost:8080/"
        },
        "outputId": "cc41723f-a217-4e1e-efc0-576629d67486",
        "id": "a-aOJ6sop0ev"
      },
      "execution_count": 189,
      "outputs": [
        {
          "output_type": "stream",
          "name": "stderr",
          "text": [
            "/usr/local/lib/python3.7/dist-packages/sklearn/preprocessing/_label.py:98: DataConversionWarning: A column-vector y was passed when a 1d array was expected. Please change the shape of y to (n_samples, ), for example using ravel().\n",
            "  y = column_or_1d(y, warn=True)\n",
            "/usr/local/lib/python3.7/dist-packages/sklearn/preprocessing/_label.py:133: DataConversionWarning: A column-vector y was passed when a 1d array was expected. Please change the shape of y to (n_samples, ), for example using ravel().\n",
            "  y = column_or_1d(y, warn=True)\n"
          ]
        },
        {
          "output_type": "execute_result",
          "data": {
            "text/plain": [
              "XGBClassifier(objective='multi:softprob')"
            ]
          },
          "metadata": {},
          "execution_count": 189
        }
      ]
    },
    {
      "cell_type": "code",
      "source": [
        "y_pred_B2_RGB = clf13.predict(X_test_B2_RGB)"
      ],
      "metadata": {
        "id": "bp7PF8XDp0ev"
      },
      "execution_count": 190,
      "outputs": []
    },
    {
      "cell_type": "code",
      "source": [
        "print(\"Accuracy:\", metrics.accuracy_score(y_test_B2_RGB, y_pred_B2_RGB))"
      ],
      "metadata": {
        "colab": {
          "base_uri": "https://localhost:8080/"
        },
        "outputId": "c53e34f0-12b6-412f-f826-00b86721359b",
        "id": "pzqdbkN1p0ev"
      },
      "execution_count": 191,
      "outputs": [
        {
          "output_type": "stream",
          "name": "stdout",
          "text": [
            "Accuracy: 0.084472049689441\n"
          ]
        }
      ]
    },
    {
      "cell_type": "markdown",
      "source": [
        "###HSV"
      ],
      "metadata": {
        "id": "lMLcdIT5p0ev"
      }
    },
    {
      "cell_type": "code",
      "source": [
        "clf14=xgb.XGBClassifier()"
      ],
      "metadata": {
        "id": "vNJMZ4WZkLkX"
      },
      "execution_count": 192,
      "outputs": []
    },
    {
      "cell_type": "code",
      "source": [
        "HSV_B2_Set2 = table_B2Set2.drop(['R-ref','G-ref','B-ref','R-Shad','G-Shad','B-Shad','Setting','Ref','Shad','Img'], axis=1)"
      ],
      "metadata": {
        "id": "2gsI1AQ0p0ev"
      },
      "execution_count": 193,
      "outputs": []
    },
    {
      "cell_type": "code",
      "source": [
        "HSV_B2_concat2 = RGB_B2_concat0.drop(['R-ref','G-ref','B-ref','R-Shad','G-Shad','B-Shad','Setting','Ref','Shad','Img'], axis=1)"
      ],
      "metadata": {
        "id": "pKW0df3rp0ew"
      },
      "execution_count": 194,
      "outputs": []
    },
    {
      "cell_type": "code",
      "source": [
        "X_test_B2_HSV = np.array(HSV_B2_Set2)"
      ],
      "metadata": {
        "id": "QDJKTswfp0ew"
      },
      "execution_count": 195,
      "outputs": []
    },
    {
      "cell_type": "code",
      "source": [
        "y_B2_HSV =  table_B2Set2.iloc[:,14:15]"
      ],
      "metadata": {
        "id": "-YAtMSidp0ew"
      },
      "execution_count": 196,
      "outputs": []
    },
    {
      "cell_type": "code",
      "source": [
        "y_test_B2_HSV = np.array(y_B2_RGB)"
      ],
      "metadata": {
        "id": "MSf7X-qPp0ew"
      },
      "execution_count": 197,
      "outputs": []
    },
    {
      "cell_type": "code",
      "source": [
        "X_train_B2_HSV = np.array(HSV_B2_concat2)"
      ],
      "metadata": {
        "id": "QD_HUbRxp0ew"
      },
      "execution_count": 198,
      "outputs": []
    },
    {
      "cell_type": "code",
      "source": [
        "y_train_B2HSV = RGB_B2_concat0.iloc[:,14:15]"
      ],
      "metadata": {
        "id": "2AHHkeYqp0ew"
      },
      "execution_count": 199,
      "outputs": []
    },
    {
      "cell_type": "code",
      "source": [
        "y_train_B2_HSV = np.array(y_train_B2HSV)"
      ],
      "metadata": {
        "id": "pWE1iXOjp0ew"
      },
      "execution_count": 200,
      "outputs": []
    },
    {
      "cell_type": "code",
      "source": [
        "clf14.fit(X_train_B2_HSV, y_train_B2_HSV)"
      ],
      "metadata": {
        "colab": {
          "base_uri": "https://localhost:8080/"
        },
        "outputId": "97c180eb-afc7-4ff4-f7cf-c01d84fd8e82",
        "id": "y21hMmlHp0ew"
      },
      "execution_count": 201,
      "outputs": [
        {
          "output_type": "stream",
          "name": "stderr",
          "text": [
            "/usr/local/lib/python3.7/dist-packages/sklearn/preprocessing/_label.py:98: DataConversionWarning: A column-vector y was passed when a 1d array was expected. Please change the shape of y to (n_samples, ), for example using ravel().\n",
            "  y = column_or_1d(y, warn=True)\n",
            "/usr/local/lib/python3.7/dist-packages/sklearn/preprocessing/_label.py:133: DataConversionWarning: A column-vector y was passed when a 1d array was expected. Please change the shape of y to (n_samples, ), for example using ravel().\n",
            "  y = column_or_1d(y, warn=True)\n"
          ]
        },
        {
          "output_type": "execute_result",
          "data": {
            "text/plain": [
              "XGBClassifier(objective='multi:softprob')"
            ]
          },
          "metadata": {},
          "execution_count": 201
        }
      ]
    },
    {
      "cell_type": "code",
      "source": [
        "y_pred_B2_HSV = clf14.predict(X_test_B2_HSV)"
      ],
      "metadata": {
        "id": "avnCdEk0p0ex"
      },
      "execution_count": 202,
      "outputs": []
    },
    {
      "cell_type": "code",
      "source": [
        "print(\"Accuracy:\", metrics.accuracy_score(y_test_B2_HSV, y_pred_B2_HSV))"
      ],
      "metadata": {
        "colab": {
          "base_uri": "https://localhost:8080/"
        },
        "outputId": "3079272a-f09c-48ea-acc7-79d4269f965b",
        "id": "U6LBXCvgp0ex"
      },
      "execution_count": 203,
      "outputs": [
        {
          "output_type": "stream",
          "name": "stdout",
          "text": [
            "Accuracy: 0.1267080745341615\n"
          ]
        }
      ]
    },
    {
      "cell_type": "markdown",
      "source": [
        "##B3"
      ],
      "metadata": {
        "id": "fFNlFx5qsHOQ"
      }
    },
    {
      "cell_type": "code",
      "source": [
        "table_B3Set1 = pd.read_excel(Set1 , sheet_name='B3_1')\n",
        "\n",
        "table_B3Set2 = pd.read_excel(Set2 , sheet_name='B3_2')\n",
        "\n",
        "table_B3Set3 = pd.read_excel(Set3 , sheet_name='B3_3')\n",
        "\n",
        "table_B3Set4 = pd.read_excel(Set4 , sheet_name='B3_4')\n",
        "\n",
        "table_B3Set6 = pd.read_excel(Set6 , sheet_name='B3_6')"
      ],
      "metadata": {
        "id": "R3t_fo44sHOR"
      },
      "execution_count": 204,
      "outputs": []
    },
    {
      "cell_type": "markdown",
      "source": [
        "###RGB"
      ],
      "metadata": {
        "id": "4njF_sDtsHOS"
      }
    },
    {
      "cell_type": "code",
      "source": [
        "clf15=xgb.XGBClassifier()"
      ],
      "metadata": {
        "id": "eY-iXIbKkP9k"
      },
      "execution_count": 205,
      "outputs": []
    },
    {
      "cell_type": "code",
      "source": [
        "RGB_B3_Set2 = table_B3Set2.drop(['H-ref','S-ref','V-ref','H-Shad','S-Shad','V-Shad','Setting','Ref','Shad','Img'], axis=1)"
      ],
      "metadata": {
        "id": "yqLZe8yvsHOS"
      },
      "execution_count": 206,
      "outputs": []
    },
    {
      "cell_type": "code",
      "source": [
        "RGB_B3_Set1 = table_B3Set1\n",
        "\n",
        "RGB_B3_Set3 = table_B3Set3\n",
        "\n",
        "RGB_B3_Set4 = table_B3Set4\n",
        "\n",
        "RGB_B3_Set6 = table_B3Set6"
      ],
      "metadata": {
        "id": "QO9PuOA4sHOS"
      },
      "execution_count": 207,
      "outputs": []
    },
    {
      "cell_type": "code",
      "source": [
        "RGB_B3_concat0 = pd.concat([RGB_B3_Set1,RGB_B3_Set3,RGB_B3_Set4,RGB_B3_Set6])"
      ],
      "metadata": {
        "id": "shPvvfFokKV2"
      },
      "execution_count": 208,
      "outputs": []
    },
    {
      "cell_type": "code",
      "source": [
        "RGB_B3_concat2 = RGB_B3_concat0.drop(['H-ref','S-ref','V-ref','H-Shad','S-Shad','V-Shad','Setting','Ref','Shad','Img'], axis=1)"
      ],
      "metadata": {
        "id": "Jb7qyHcKsHOT"
      },
      "execution_count": 209,
      "outputs": []
    },
    {
      "cell_type": "code",
      "source": [
        "X_test_B3_RGB = np.array(RGB_B3_Set2)"
      ],
      "metadata": {
        "id": "YDNP71CEsHOT"
      },
      "execution_count": 210,
      "outputs": []
    },
    {
      "cell_type": "code",
      "source": [
        "y_B3_RGB =  table_B3Set2.iloc[:,14:15]"
      ],
      "metadata": {
        "id": "zXlAvcTbsHOT"
      },
      "execution_count": 211,
      "outputs": []
    },
    {
      "cell_type": "code",
      "source": [
        "y_test_B3_RGB = np.array(y_B3_RGB)"
      ],
      "metadata": {
        "id": "Cp8YOfTIsHOT"
      },
      "execution_count": 212,
      "outputs": []
    },
    {
      "cell_type": "code",
      "source": [
        "X_train_B3_RGB = np.array(RGB_B3_concat2)"
      ],
      "metadata": {
        "id": "oiWh59IVsHOT"
      },
      "execution_count": 213,
      "outputs": []
    },
    {
      "cell_type": "code",
      "source": [
        "y_train_B3RGB = RGB_B3_concat0.iloc[:,14:15]"
      ],
      "metadata": {
        "id": "59dXexhHsHOT"
      },
      "execution_count": 214,
      "outputs": []
    },
    {
      "cell_type": "code",
      "source": [
        "y_train_B3_RGB = np.array(y_train_B3RGB)"
      ],
      "metadata": {
        "id": "QuBse9EysHOT"
      },
      "execution_count": 215,
      "outputs": []
    },
    {
      "cell_type": "code",
      "source": [
        "clf15.fit(X_train_B3_RGB, y_train_B3_RGB)"
      ],
      "metadata": {
        "colab": {
          "base_uri": "https://localhost:8080/"
        },
        "outputId": "22ee9551-3eaf-468c-c2e7-1499d77802bd",
        "id": "dTDGBxEYsHOU"
      },
      "execution_count": 216,
      "outputs": [
        {
          "output_type": "stream",
          "name": "stderr",
          "text": [
            "/usr/local/lib/python3.7/dist-packages/sklearn/preprocessing/_label.py:98: DataConversionWarning: A column-vector y was passed when a 1d array was expected. Please change the shape of y to (n_samples, ), for example using ravel().\n",
            "  y = column_or_1d(y, warn=True)\n",
            "/usr/local/lib/python3.7/dist-packages/sklearn/preprocessing/_label.py:133: DataConversionWarning: A column-vector y was passed when a 1d array was expected. Please change the shape of y to (n_samples, ), for example using ravel().\n",
            "  y = column_or_1d(y, warn=True)\n"
          ]
        },
        {
          "output_type": "execute_result",
          "data": {
            "text/plain": [
              "XGBClassifier(objective='multi:softprob')"
            ]
          },
          "metadata": {},
          "execution_count": 216
        }
      ]
    },
    {
      "cell_type": "code",
      "source": [
        "y_pred_B3_RGB = clf15.predict(X_test_B3_RGB)"
      ],
      "metadata": {
        "id": "zOyhYKUasHOU"
      },
      "execution_count": 217,
      "outputs": []
    },
    {
      "cell_type": "code",
      "source": [
        "print(\"Accuracy:\", metrics.accuracy_score(y_test_B3_RGB, y_pred_B3_RGB))"
      ],
      "metadata": {
        "colab": {
          "base_uri": "https://localhost:8080/"
        },
        "outputId": "8b51ee1b-95c1-4656-8751-0548bf81db75",
        "id": "pUWkHRcxsHOU"
      },
      "execution_count": 218,
      "outputs": [
        {
          "output_type": "stream",
          "name": "stdout",
          "text": [
            "Accuracy: 0.09316770186335403\n"
          ]
        }
      ]
    },
    {
      "cell_type": "markdown",
      "source": [
        "###HSV"
      ],
      "metadata": {
        "id": "a2v2Cu1qsHOU"
      }
    },
    {
      "cell_type": "code",
      "source": [
        "clf16=xgb.XGBClassifier()"
      ],
      "metadata": {
        "id": "H1bZEmYckUZj"
      },
      "execution_count": 219,
      "outputs": []
    },
    {
      "cell_type": "code",
      "source": [
        "HSV_B3_Set2 = table_B3Set2.drop(['R-ref','G-ref','B-ref','R-Shad','G-Shad','B-Shad','Setting','Ref','Shad','Img'], axis=1)"
      ],
      "metadata": {
        "id": "1T1WMuuWsHOU"
      },
      "execution_count": 220,
      "outputs": []
    },
    {
      "cell_type": "code",
      "source": [
        "HSV_B3_concat2 = RGB_B3_concat0.drop(['R-ref','G-ref','B-ref','R-Shad','G-Shad','B-Shad','Setting','Ref','Shad','Img'], axis=1)"
      ],
      "metadata": {
        "id": "aAZsaClWsHOU"
      },
      "execution_count": 221,
      "outputs": []
    },
    {
      "cell_type": "code",
      "source": [
        "X_test_B3_HSV = np.array(HSV_B3_Set2)"
      ],
      "metadata": {
        "id": "WAFnYBGhsHOU"
      },
      "execution_count": 222,
      "outputs": []
    },
    {
      "cell_type": "code",
      "source": [
        "y_B3_HSV =  table_B3Set2.iloc[:,14:15]"
      ],
      "metadata": {
        "id": "5okDH6bvsHOV"
      },
      "execution_count": 223,
      "outputs": []
    },
    {
      "cell_type": "code",
      "source": [
        "y_test_B3_HSV = np.array(y_B3_RGB)"
      ],
      "metadata": {
        "id": "ktvtDkJSsHOV"
      },
      "execution_count": 224,
      "outputs": []
    },
    {
      "cell_type": "code",
      "source": [
        "X_train_B3_HSV = np.array(HSV_B3_concat2)"
      ],
      "metadata": {
        "id": "F-dVwJiQsHOV"
      },
      "execution_count": 225,
      "outputs": []
    },
    {
      "cell_type": "code",
      "source": [
        "y_train_B3HSV = RGB_B3_concat0.iloc[:,14:15]"
      ],
      "metadata": {
        "id": "FDpg1LPbsHOV"
      },
      "execution_count": 226,
      "outputs": []
    },
    {
      "cell_type": "code",
      "source": [
        "y_train_B3_HSV = np.array(y_train_B3HSV)"
      ],
      "metadata": {
        "id": "OmmzdN7OsHOV"
      },
      "execution_count": 227,
      "outputs": []
    },
    {
      "cell_type": "code",
      "source": [
        "clf16.fit(X_train_B3_HSV, y_train_B3_HSV)"
      ],
      "metadata": {
        "colab": {
          "base_uri": "https://localhost:8080/"
        },
        "outputId": "08ecac56-70fb-4bec-ceb5-0596d2acb74a",
        "id": "m2vhHsuwsHOV"
      },
      "execution_count": 228,
      "outputs": [
        {
          "output_type": "stream",
          "name": "stderr",
          "text": [
            "/usr/local/lib/python3.7/dist-packages/sklearn/preprocessing/_label.py:98: DataConversionWarning: A column-vector y was passed when a 1d array was expected. Please change the shape of y to (n_samples, ), for example using ravel().\n",
            "  y = column_or_1d(y, warn=True)\n",
            "/usr/local/lib/python3.7/dist-packages/sklearn/preprocessing/_label.py:133: DataConversionWarning: A column-vector y was passed when a 1d array was expected. Please change the shape of y to (n_samples, ), for example using ravel().\n",
            "  y = column_or_1d(y, warn=True)\n"
          ]
        },
        {
          "output_type": "execute_result",
          "data": {
            "text/plain": [
              "XGBClassifier(objective='multi:softprob')"
            ]
          },
          "metadata": {},
          "execution_count": 228
        }
      ]
    },
    {
      "cell_type": "code",
      "source": [
        "y_pred_B3_HSV = clf16.predict(X_test_B3_HSV)"
      ],
      "metadata": {
        "id": "Ky-ZY420sHOV"
      },
      "execution_count": 229,
      "outputs": []
    },
    {
      "cell_type": "code",
      "source": [
        "print(\"Accuracy:\", metrics.accuracy_score(y_test_B3_HSV, y_pred_B3_HSV))"
      ],
      "metadata": {
        "colab": {
          "base_uri": "https://localhost:8080/"
        },
        "outputId": "d4afe25b-4088-4212-cc6e-8a718b2a433a",
        "id": "V_h7tdPBsHOV"
      },
      "execution_count": 230,
      "outputs": [
        {
          "output_type": "stream",
          "name": "stdout",
          "text": [
            "Accuracy: 0.08571428571428572\n"
          ]
        }
      ]
    },
    {
      "cell_type": "markdown",
      "source": [
        "##B4"
      ],
      "metadata": {
        "id": "Cqdvh1d4tDKz"
      }
    },
    {
      "cell_type": "code",
      "source": [
        "table_B4Set1 = pd.read_excel(Set1 , sheet_name='B4_1')\n",
        "\n",
        "table_B4Set2 = pd.read_excel(Set2 , sheet_name='B4_2')\n",
        "\n",
        "table_B4Set3 = pd.read_excel(Set3 , sheet_name='B4_3')\n",
        "\n",
        "table_B4Set4 = pd.read_excel(Set4 , sheet_name='B4_4')\n",
        "\n",
        "table_B4Set6 = pd.read_excel(Set6 , sheet_name='B4_6')"
      ],
      "metadata": {
        "id": "MMB7W5dmtDK0"
      },
      "execution_count": 231,
      "outputs": []
    },
    {
      "cell_type": "markdown",
      "source": [
        "###RGB"
      ],
      "metadata": {
        "id": "yhLLze51tDK0"
      }
    },
    {
      "cell_type": "code",
      "source": [
        "clf17=xgb.XGBClassifier()"
      ],
      "metadata": {
        "id": "o_GgoFWukX5n"
      },
      "execution_count": 232,
      "outputs": []
    },
    {
      "cell_type": "code",
      "source": [
        "RGB_B4_Set2 = table_B4Set2.drop(['H-ref','S-ref','V-ref','H-Shad','S-Shad','V-Shad','Setting','Ref','Shad','Img'], axis=1)"
      ],
      "metadata": {
        "id": "vRObWfxTtDK0"
      },
      "execution_count": 233,
      "outputs": []
    },
    {
      "cell_type": "code",
      "source": [
        "RGB_B4_Set1 = table_B4Set1\n",
        "\n",
        "RGB_B4_Set3 = table_B4Set3\n",
        "\n",
        "RGB_B4_Set4 = table_B4Set4\n",
        "\n",
        "RGB_B4_Set6 = table_B4Set6"
      ],
      "metadata": {
        "id": "qa5YSX8WtDK1"
      },
      "execution_count": 234,
      "outputs": []
    },
    {
      "cell_type": "code",
      "source": [
        "RGB_B4_concat0 = pd.concat([RGB_B4_Set1,RGB_B4_Set3,RGB_B4_Set4,RGB_B4_Set6])"
      ],
      "metadata": {
        "id": "Bf6RG3akmJb_"
      },
      "execution_count": 235,
      "outputs": []
    },
    {
      "cell_type": "code",
      "source": [
        "RGB_B4_concat2 = RGB_B4_concat0.drop(['H-ref','S-ref','V-ref','H-Shad','S-Shad','V-Shad','Setting','Ref','Shad','Img'], axis=1)"
      ],
      "metadata": {
        "id": "jxqKeWgKtDK1"
      },
      "execution_count": 236,
      "outputs": []
    },
    {
      "cell_type": "code",
      "source": [
        "X_test_B4_RGB = np.array(RGB_B4_Set2)"
      ],
      "metadata": {
        "id": "580vZZA_tDK2"
      },
      "execution_count": 237,
      "outputs": []
    },
    {
      "cell_type": "code",
      "source": [
        "y_B4_RGB =  table_B4Set2.iloc[:,14:15]"
      ],
      "metadata": {
        "id": "_Hdc8Yi_tDK2"
      },
      "execution_count": 238,
      "outputs": []
    },
    {
      "cell_type": "code",
      "source": [
        "y_test_B4_RGB = np.array(y_B4_RGB)"
      ],
      "metadata": {
        "id": "wD0UYgdPtDK2"
      },
      "execution_count": 239,
      "outputs": []
    },
    {
      "cell_type": "code",
      "source": [
        "X_train_B4_RGB = np.array(RGB_B4_concat2)"
      ],
      "metadata": {
        "id": "ozTac6WstDK2"
      },
      "execution_count": 240,
      "outputs": []
    },
    {
      "cell_type": "code",
      "source": [
        "y_train_B4RGB = RGB_B4_concat0.iloc[:,14:15]"
      ],
      "metadata": {
        "id": "HobHEx5ctDK2"
      },
      "execution_count": 241,
      "outputs": []
    },
    {
      "cell_type": "code",
      "source": [
        "y_train_B4_RGB = np.array(y_train_B4RGB)"
      ],
      "metadata": {
        "id": "XZ0quwGvtDK2"
      },
      "execution_count": 242,
      "outputs": []
    },
    {
      "cell_type": "code",
      "source": [
        "clf17.fit(X_train_B4_RGB, y_train_B4_RGB)"
      ],
      "metadata": {
        "colab": {
          "base_uri": "https://localhost:8080/"
        },
        "outputId": "b60226b1-9afe-425c-aca0-80f9574fe542",
        "id": "T_x28SvCtDK2"
      },
      "execution_count": 243,
      "outputs": [
        {
          "output_type": "stream",
          "name": "stderr",
          "text": [
            "/usr/local/lib/python3.7/dist-packages/sklearn/preprocessing/_label.py:98: DataConversionWarning: A column-vector y was passed when a 1d array was expected. Please change the shape of y to (n_samples, ), for example using ravel().\n",
            "  y = column_or_1d(y, warn=True)\n",
            "/usr/local/lib/python3.7/dist-packages/sklearn/preprocessing/_label.py:133: DataConversionWarning: A column-vector y was passed when a 1d array was expected. Please change the shape of y to (n_samples, ), for example using ravel().\n",
            "  y = column_or_1d(y, warn=True)\n"
          ]
        },
        {
          "output_type": "execute_result",
          "data": {
            "text/plain": [
              "XGBClassifier(objective='multi:softprob')"
            ]
          },
          "metadata": {},
          "execution_count": 243
        }
      ]
    },
    {
      "cell_type": "code",
      "source": [
        "y_pred_B4_RGB = clf17.predict(X_test_B4_RGB)"
      ],
      "metadata": {
        "id": "hzIH7DSLtDK2"
      },
      "execution_count": 244,
      "outputs": []
    },
    {
      "cell_type": "code",
      "source": [
        "print(\"Accuracy:\", metrics.accuracy_score(y_test_B4_RGB, y_pred_B4_RGB))"
      ],
      "metadata": {
        "colab": {
          "base_uri": "https://localhost:8080/"
        },
        "outputId": "98c61060-f6a2-417d-daa3-e9a550a43ead",
        "id": "GEEbdpHWtDK2"
      },
      "execution_count": 245,
      "outputs": [
        {
          "output_type": "stream",
          "name": "stdout",
          "text": [
            "Accuracy: 0.062111801242236024\n"
          ]
        }
      ]
    },
    {
      "cell_type": "markdown",
      "source": [
        "###HSV"
      ],
      "metadata": {
        "id": "0uU72QTItDK3"
      }
    },
    {
      "cell_type": "code",
      "source": [
        "clf18=xgb.XGBClassifier()"
      ],
      "metadata": {
        "id": "nWF3QUf6kbQI"
      },
      "execution_count": 246,
      "outputs": []
    },
    {
      "cell_type": "code",
      "source": [
        "HSV_B4_Set2 = table_B4Set2.drop(['R-ref','G-ref','B-ref','R-Shad','G-Shad','B-Shad','Setting','Ref','Shad','Img'], axis=1)"
      ],
      "metadata": {
        "id": "UmeCk7BEtDK3"
      },
      "execution_count": 247,
      "outputs": []
    },
    {
      "cell_type": "code",
      "source": [
        "HSV_B4_concat2 = RGB_B4_concat0.drop(['R-ref','G-ref','B-ref','R-Shad','G-Shad','B-Shad','Setting','Ref','Shad','Img'], axis=1)"
      ],
      "metadata": {
        "id": "ZxnIQOSvtDK3"
      },
      "execution_count": 248,
      "outputs": []
    },
    {
      "cell_type": "code",
      "source": [
        "X_test_B4_HSV = np.array(HSV_B4_Set2)"
      ],
      "metadata": {
        "id": "aSLDyIKBtDK3"
      },
      "execution_count": 249,
      "outputs": []
    },
    {
      "cell_type": "code",
      "source": [
        "y_B4_HSV =  table_B4Set2.iloc[:,14:15]"
      ],
      "metadata": {
        "id": "FTlJFVSLtDK3"
      },
      "execution_count": 250,
      "outputs": []
    },
    {
      "cell_type": "code",
      "source": [
        "y_test_B4_HSV = np.array(y_B4_RGB)"
      ],
      "metadata": {
        "id": "ZEV2tUCttDK3"
      },
      "execution_count": 251,
      "outputs": []
    },
    {
      "cell_type": "code",
      "source": [
        "X_train_B4_HSV = np.array(HSV_B4_concat2)"
      ],
      "metadata": {
        "id": "9JqQWNVCtDK3"
      },
      "execution_count": 252,
      "outputs": []
    },
    {
      "cell_type": "code",
      "source": [
        "y_train_B4HSV = RGB_B4_concat0.iloc[:,14:15]"
      ],
      "metadata": {
        "id": "bpU-fvwMtDK3"
      },
      "execution_count": 253,
      "outputs": []
    },
    {
      "cell_type": "code",
      "source": [
        "y_train_B4_HSV = np.array(y_train_B4HSV)"
      ],
      "metadata": {
        "id": "F_wqNTDBtDK4"
      },
      "execution_count": 254,
      "outputs": []
    },
    {
      "cell_type": "code",
      "source": [
        "clf18.fit(X_train_B4_HSV, y_train_B4_HSV)"
      ],
      "metadata": {
        "colab": {
          "base_uri": "https://localhost:8080/"
        },
        "outputId": "b4863f05-6a37-450a-aa16-4a0f5123f830",
        "id": "T6Pk-fwVtDK4"
      },
      "execution_count": 255,
      "outputs": [
        {
          "output_type": "stream",
          "name": "stderr",
          "text": [
            "/usr/local/lib/python3.7/dist-packages/sklearn/preprocessing/_label.py:98: DataConversionWarning: A column-vector y was passed when a 1d array was expected. Please change the shape of y to (n_samples, ), for example using ravel().\n",
            "  y = column_or_1d(y, warn=True)\n",
            "/usr/local/lib/python3.7/dist-packages/sklearn/preprocessing/_label.py:133: DataConversionWarning: A column-vector y was passed when a 1d array was expected. Please change the shape of y to (n_samples, ), for example using ravel().\n",
            "  y = column_or_1d(y, warn=True)\n"
          ]
        },
        {
          "output_type": "execute_result",
          "data": {
            "text/plain": [
              "XGBClassifier(objective='multi:softprob')"
            ]
          },
          "metadata": {},
          "execution_count": 255
        }
      ]
    },
    {
      "cell_type": "code",
      "source": [
        "y_pred_B4_HSV = clf18.predict(X_test_B4_HSV)"
      ],
      "metadata": {
        "id": "J1JaTO8ztDK4"
      },
      "execution_count": 256,
      "outputs": []
    },
    {
      "cell_type": "code",
      "source": [
        "print(\"Accuracy:\", metrics.accuracy_score(y_test_B4_HSV, y_pred_B4_HSV))"
      ],
      "metadata": {
        "colab": {
          "base_uri": "https://localhost:8080/"
        },
        "outputId": "c0d1c85e-0102-4a95-f360-474b554d4842",
        "id": "ciaeVTHrtDK4"
      },
      "execution_count": 257,
      "outputs": [
        {
          "output_type": "stream",
          "name": "stdout",
          "text": [
            "Accuracy: 0.12049689440993788\n"
          ]
        }
      ]
    },
    {
      "cell_type": "markdown",
      "source": [
        "#CC"
      ],
      "metadata": {
        "id": "YmEFu_3tt92a"
      }
    },
    {
      "cell_type": "markdown",
      "source": [
        "##C1"
      ],
      "metadata": {
        "id": "VmnxrOB3uK8S"
      }
    },
    {
      "cell_type": "code",
      "source": [
        "table_C1Set1 = pd.read_excel(Set1 , sheet_name='C1_1')\n",
        "\n",
        "table_C1Set2 = pd.read_excel(Set2 , sheet_name='C1_2')\n",
        "\n",
        "table_C1Set3 = pd.read_excel(Set3 , sheet_name='C1_3')\n",
        "\n",
        "table_C1Set4 = pd.read_excel(Set4 , sheet_name='C1_4')\n",
        "\n",
        "table_C1Set6 = pd.read_excel(Set6 , sheet_name='C1_6')"
      ],
      "metadata": {
        "id": "DwwAi7JBuK8T"
      },
      "execution_count": 258,
      "outputs": []
    },
    {
      "cell_type": "markdown",
      "source": [
        "###RGB"
      ],
      "metadata": {
        "id": "5keaf1tduK8T"
      }
    },
    {
      "cell_type": "code",
      "source": [
        "clf19=xgb.XGBClassifier()"
      ],
      "metadata": {
        "id": "q0iyRzFJkgqq"
      },
      "execution_count": 259,
      "outputs": []
    },
    {
      "cell_type": "code",
      "source": [
        "RGB_C1_Set2 = table_C1Set2.drop(['H-ref','S-ref','V-ref','H-Shad','S-Shad','V-Shad','Setting','Ref','Shad','Img'], axis=1)"
      ],
      "metadata": {
        "id": "LVBCr4rsuK8U"
      },
      "execution_count": 260,
      "outputs": []
    },
    {
      "cell_type": "code",
      "source": [
        "RGB_C1_Set1 = table_C1Set1\n",
        "\n",
        "RGB_C1_Set3 = table_C1Set3\n",
        "\n",
        "RGB_C1_Set4 = table_C1Set4\n",
        "\n",
        "RGB_C1_Set6 = table_C1Set6"
      ],
      "metadata": {
        "id": "SGDR0saNuK8U"
      },
      "execution_count": 261,
      "outputs": []
    },
    {
      "cell_type": "code",
      "source": [
        "RGB_C1_concat0 = pd.concat([RGB_C1_Set1,RGB_C1_Set3,RGB_C1_Set4,RGB_C1_Set6])"
      ],
      "metadata": {
        "id": "-zjMZ6u1nSIR"
      },
      "execution_count": 262,
      "outputs": []
    },
    {
      "cell_type": "code",
      "source": [
        "RGB_C1_concat2 = RGB_B1_concat0.drop(['H-ref','S-ref','V-ref','H-Shad','S-Shad','V-Shad','Setting','Ref','Shad','Img'], axis=1)"
      ],
      "metadata": {
        "id": "2rTrCnwXuK8U"
      },
      "execution_count": 263,
      "outputs": []
    },
    {
      "cell_type": "code",
      "source": [
        "X_test_C1_RGB = np.array(RGB_C1_Set2)"
      ],
      "metadata": {
        "id": "VEFT7a3ZuK8U"
      },
      "execution_count": 264,
      "outputs": []
    },
    {
      "cell_type": "code",
      "source": [
        "y_C1_RGB =  table_C1Set2.iloc[:,14:15]"
      ],
      "metadata": {
        "id": "1_rvYWFCuK8V"
      },
      "execution_count": 265,
      "outputs": []
    },
    {
      "cell_type": "code",
      "source": [
        "y_test_C1_RGB = np.array(y_C1_RGB)"
      ],
      "metadata": {
        "id": "5iWJSETLuK8V"
      },
      "execution_count": 266,
      "outputs": []
    },
    {
      "cell_type": "code",
      "source": [
        "X_train_C1_RGB = np.array(RGB_C1_concat2)"
      ],
      "metadata": {
        "id": "vdIUmKq1uK8V"
      },
      "execution_count": 267,
      "outputs": []
    },
    {
      "cell_type": "code",
      "source": [
        "y_train_C1RGB = RGB_C1_concat0.iloc[:,14:15]"
      ],
      "metadata": {
        "id": "k1-QsydzuK8V"
      },
      "execution_count": 268,
      "outputs": []
    },
    {
      "cell_type": "code",
      "source": [
        "y_train_C1_RGB = np.array(y_train_C1RGB)"
      ],
      "metadata": {
        "id": "SEOH7fl2uK8V"
      },
      "execution_count": 269,
      "outputs": []
    },
    {
      "cell_type": "code",
      "source": [
        "clf19.fit(X_train_C1_RGB, y_train_C1_RGB)"
      ],
      "metadata": {
        "colab": {
          "base_uri": "https://localhost:8080/"
        },
        "outputId": "fffd3155-2155-4486-d29f-8e0bbc07dea5",
        "id": "wDmlG34luK8V"
      },
      "execution_count": 270,
      "outputs": [
        {
          "output_type": "stream",
          "name": "stderr",
          "text": [
            "/usr/local/lib/python3.7/dist-packages/sklearn/preprocessing/_label.py:98: DataConversionWarning: A column-vector y was passed when a 1d array was expected. Please change the shape of y to (n_samples, ), for example using ravel().\n",
            "  y = column_or_1d(y, warn=True)\n",
            "/usr/local/lib/python3.7/dist-packages/sklearn/preprocessing/_label.py:133: DataConversionWarning: A column-vector y was passed when a 1d array was expected. Please change the shape of y to (n_samples, ), for example using ravel().\n",
            "  y = column_or_1d(y, warn=True)\n"
          ]
        },
        {
          "output_type": "execute_result",
          "data": {
            "text/plain": [
              "XGBClassifier(objective='multi:softprob')"
            ]
          },
          "metadata": {},
          "execution_count": 270
        }
      ]
    },
    {
      "cell_type": "code",
      "source": [
        "y_pred_C1_RGB = clf19.predict(X_test_C1_RGB)"
      ],
      "metadata": {
        "id": "cul6CJoGuK8V"
      },
      "execution_count": 271,
      "outputs": []
    },
    {
      "cell_type": "code",
      "source": [
        "print(\"Accuracy:\", metrics.accuracy_score(y_test_C1_RGB, y_pred_C1_RGB))"
      ],
      "metadata": {
        "colab": {
          "base_uri": "https://localhost:8080/"
        },
        "outputId": "7b78d261-a41c-4e80-b5dd-630607452b85",
        "id": "JgIocA5RuK8V"
      },
      "execution_count": 272,
      "outputs": [
        {
          "output_type": "stream",
          "name": "stdout",
          "text": [
            "Accuracy: 0.12546583850931678\n"
          ]
        }
      ]
    },
    {
      "cell_type": "markdown",
      "source": [
        "###HSV"
      ],
      "metadata": {
        "id": "jqD4u3nkuK8W"
      }
    },
    {
      "cell_type": "code",
      "source": [
        "clf20=xgb.XGBClassifier()"
      ],
      "metadata": {
        "id": "1asqINBakj53"
      },
      "execution_count": 273,
      "outputs": []
    },
    {
      "cell_type": "code",
      "source": [
        "HSV_C1_Set2 = table_C1Set2.drop(['R-ref','G-ref','B-ref','R-Shad','G-Shad','B-Shad','Setting','Ref','Shad','Img'], axis=1)"
      ],
      "metadata": {
        "id": "PPcgRIdPuK8W"
      },
      "execution_count": 274,
      "outputs": []
    },
    {
      "cell_type": "code",
      "source": [
        "HSV_C1_concat2 = RGB_C1_concat0.drop(['R-ref','G-ref','B-ref','R-Shad','G-Shad','B-Shad','Setting','Ref','Shad','Img'], axis=1)"
      ],
      "metadata": {
        "id": "Kuhm-IuSuK8W"
      },
      "execution_count": 275,
      "outputs": []
    },
    {
      "cell_type": "code",
      "source": [
        "X_test_C1_HSV = np.array(HSV_C1_Set2)"
      ],
      "metadata": {
        "id": "jaMGZ-BPuK8W"
      },
      "execution_count": 276,
      "outputs": []
    },
    {
      "cell_type": "code",
      "source": [
        "y_C1_HSV =  table_C1Set2.iloc[:,14:15]"
      ],
      "metadata": {
        "id": "O6w6ncjuuK8W"
      },
      "execution_count": 277,
      "outputs": []
    },
    {
      "cell_type": "code",
      "source": [
        "y_test_C1_HSV = np.array(y_C1_RGB)"
      ],
      "metadata": {
        "id": "7aCdQO7NuK8W"
      },
      "execution_count": 278,
      "outputs": []
    },
    {
      "cell_type": "code",
      "source": [
        "X_train_C1_HSV = np.array(HSV_C1_concat2)"
      ],
      "metadata": {
        "id": "a6Wxd-7suK8W"
      },
      "execution_count": 279,
      "outputs": []
    },
    {
      "cell_type": "code",
      "source": [
        "y_train_C1HSV = RGB_C1_concat0.iloc[:,14:15]"
      ],
      "metadata": {
        "id": "BL1mCT4muK8W"
      },
      "execution_count": 280,
      "outputs": []
    },
    {
      "cell_type": "code",
      "source": [
        "y_train_C1_HSV = np.array(y_train_C1HSV)"
      ],
      "metadata": {
        "id": "ze6vigz-uK8W"
      },
      "execution_count": 281,
      "outputs": []
    },
    {
      "cell_type": "code",
      "source": [
        "clf20.fit(X_train_C1_HSV, y_train_C1_HSV)"
      ],
      "metadata": {
        "colab": {
          "base_uri": "https://localhost:8080/"
        },
        "outputId": "c732a122-7dd5-47e6-e05e-47fbbd28e253",
        "id": "neDKUdhCuK8X"
      },
      "execution_count": 282,
      "outputs": [
        {
          "output_type": "stream",
          "name": "stderr",
          "text": [
            "/usr/local/lib/python3.7/dist-packages/sklearn/preprocessing/_label.py:98: DataConversionWarning: A column-vector y was passed when a 1d array was expected. Please change the shape of y to (n_samples, ), for example using ravel().\n",
            "  y = column_or_1d(y, warn=True)\n",
            "/usr/local/lib/python3.7/dist-packages/sklearn/preprocessing/_label.py:133: DataConversionWarning: A column-vector y was passed when a 1d array was expected. Please change the shape of y to (n_samples, ), for example using ravel().\n",
            "  y = column_or_1d(y, warn=True)\n"
          ]
        },
        {
          "output_type": "execute_result",
          "data": {
            "text/plain": [
              "XGBClassifier(objective='multi:softprob')"
            ]
          },
          "metadata": {},
          "execution_count": 282
        }
      ]
    },
    {
      "cell_type": "code",
      "source": [
        "y_pred_C1_HSV = clf20.predict(X_test_C1_HSV)"
      ],
      "metadata": {
        "id": "sXavKcRZuK8X"
      },
      "execution_count": 283,
      "outputs": []
    },
    {
      "cell_type": "code",
      "source": [
        "print(\"Accuracy:\", metrics.accuracy_score(y_test_C1_HSV, y_pred_C1_HSV))"
      ],
      "metadata": {
        "colab": {
          "base_uri": "https://localhost:8080/"
        },
        "outputId": "3a183e95-6822-4bcd-abbc-e98f71061e70",
        "id": "lV79DUGnuK8X"
      },
      "execution_count": 284,
      "outputs": [
        {
          "output_type": "stream",
          "name": "stdout",
          "text": [
            "Accuracy: 0.07329192546583851\n"
          ]
        }
      ]
    },
    {
      "cell_type": "markdown",
      "source": [
        "##C2"
      ],
      "metadata": {
        "id": "YNY_T-YOuK8X"
      }
    },
    {
      "cell_type": "code",
      "source": [
        "table_C2Set1 = pd.read_excel(Set1 , sheet_name='C2_1')\n",
        "\n",
        "table_C2Set2 = pd.read_excel(Set2 , sheet_name='C2_2')\n",
        "\n",
        "table_C2Set3 = pd.read_excel(Set3 , sheet_name='C2_3')\n",
        "\n",
        "table_C2Set4 = pd.read_excel(Set4 , sheet_name='C2_4')\n",
        "\n",
        "table_C2Set6 = pd.read_excel(Set6 , sheet_name='C2_6')"
      ],
      "metadata": {
        "id": "WMEieFRYuK8X"
      },
      "execution_count": 285,
      "outputs": []
    },
    {
      "cell_type": "markdown",
      "source": [
        "###RGB"
      ],
      "metadata": {
        "id": "14z-y0z0uK8Y"
      }
    },
    {
      "cell_type": "code",
      "source": [
        "clf21=xgb.XGBClassifier()"
      ],
      "metadata": {
        "id": "0zG3r5r5kq61"
      },
      "execution_count": 286,
      "outputs": []
    },
    {
      "cell_type": "code",
      "source": [
        "RGB_C2_Set2 = table_C2Set2.drop(['H-ref','S-ref','V-ref','H-Shad','S-Shad','V-Shad','Setting','Ref','Shad','Img'], axis=1)"
      ],
      "metadata": {
        "id": "N74ITrYGuK8Y"
      },
      "execution_count": 287,
      "outputs": []
    },
    {
      "cell_type": "code",
      "source": [
        "RGB_C2_Set1 = table_C2Set1\n",
        "\n",
        "RGB_C2_Set3 = table_C2Set3\n",
        "\n",
        "RGB_C2_Set4 = table_C2Set4\n",
        "\n",
        "RGB_C2_Set6 = table_C2Set6"
      ],
      "metadata": {
        "id": "FvgfuG53uK8Y"
      },
      "execution_count": 288,
      "outputs": []
    },
    {
      "cell_type": "code",
      "source": [
        "RGB_C2_concat0 = pd.concat([RGB_C2_Set1,RGB_C2_Set3,RGB_C2_Set4,RGB_C2_Set6])"
      ],
      "metadata": {
        "id": "buvgSRoFg5Da"
      },
      "execution_count": 289,
      "outputs": []
    },
    {
      "cell_type": "code",
      "source": [
        "RGB_C2_concat2 = RGB_C2_concat0.drop(['H-ref','S-ref','V-ref','H-Shad','S-Shad','V-Shad','Setting','Ref','Shad','Img'], axis=1)"
      ],
      "metadata": {
        "id": "5QW32NZ1uK8Y"
      },
      "execution_count": 290,
      "outputs": []
    },
    {
      "cell_type": "code",
      "source": [
        "X_test_C2_RGB = np.array(RGB_C2_Set2)"
      ],
      "metadata": {
        "id": "y3HWzyi7uK8Y"
      },
      "execution_count": 291,
      "outputs": []
    },
    {
      "cell_type": "code",
      "source": [
        "y_C2_RGB =  table_C2Set2.iloc[:,14:15]"
      ],
      "metadata": {
        "id": "pvwyv_UjuK8Y"
      },
      "execution_count": 292,
      "outputs": []
    },
    {
      "cell_type": "code",
      "source": [
        "y_test_C2_RGB = np.array(y_B2_RGB)"
      ],
      "metadata": {
        "id": "7AqmxULnuK8Y"
      },
      "execution_count": 293,
      "outputs": []
    },
    {
      "cell_type": "code",
      "source": [
        "X_train_C2_RGB = np.array(RGB_C2_concat2)"
      ],
      "metadata": {
        "id": "kbaCmDQouK8Z"
      },
      "execution_count": 294,
      "outputs": []
    },
    {
      "cell_type": "code",
      "source": [
        "y_train_C2RGB = RGB_C2_concat0.iloc[:,14:15]"
      ],
      "metadata": {
        "id": "QFr7Q2mruK8Z"
      },
      "execution_count": 295,
      "outputs": []
    },
    {
      "cell_type": "code",
      "source": [
        "y_train_C2_RGB = np.array(y_train_C2RGB)"
      ],
      "metadata": {
        "id": "QM4liKsyuK8Z"
      },
      "execution_count": 296,
      "outputs": []
    },
    {
      "cell_type": "code",
      "source": [
        "clf21.fit(X_train_C2_RGB, y_train_C2_RGB)"
      ],
      "metadata": {
        "colab": {
          "base_uri": "https://localhost:8080/"
        },
        "outputId": "6ab52a0b-2e50-443b-f819-9b456b038663",
        "id": "SCZ4Kb9yuK8Z"
      },
      "execution_count": 297,
      "outputs": [
        {
          "output_type": "stream",
          "name": "stderr",
          "text": [
            "/usr/local/lib/python3.7/dist-packages/sklearn/preprocessing/_label.py:98: DataConversionWarning: A column-vector y was passed when a 1d array was expected. Please change the shape of y to (n_samples, ), for example using ravel().\n",
            "  y = column_or_1d(y, warn=True)\n",
            "/usr/local/lib/python3.7/dist-packages/sklearn/preprocessing/_label.py:133: DataConversionWarning: A column-vector y was passed when a 1d array was expected. Please change the shape of y to (n_samples, ), for example using ravel().\n",
            "  y = column_or_1d(y, warn=True)\n"
          ]
        },
        {
          "output_type": "execute_result",
          "data": {
            "text/plain": [
              "XGBClassifier(objective='multi:softprob')"
            ]
          },
          "metadata": {},
          "execution_count": 297
        }
      ]
    },
    {
      "cell_type": "code",
      "source": [
        "y_pred_C2_RGB = clf21.predict(X_test_C2_RGB)"
      ],
      "metadata": {
        "id": "8LGlyJrBuK8Z"
      },
      "execution_count": 298,
      "outputs": []
    },
    {
      "cell_type": "code",
      "source": [
        "print(\"Accuracy:\", metrics.accuracy_score(y_test_C2_RGB, y_pred_C2_RGB))"
      ],
      "metadata": {
        "colab": {
          "base_uri": "https://localhost:8080/"
        },
        "outputId": "eb1c36d3-3333-4408-e738-c14f5309d6f2",
        "id": "O5IintGtuK8Z"
      },
      "execution_count": 299,
      "outputs": [
        {
          "output_type": "stream",
          "name": "stdout",
          "text": [
            "Accuracy: 0.0906832298136646\n"
          ]
        }
      ]
    },
    {
      "cell_type": "markdown",
      "source": [
        "###HSV"
      ],
      "metadata": {
        "id": "m9ZymQUWuK8Z"
      }
    },
    {
      "cell_type": "code",
      "source": [
        "clf22=xgb.XGBClassifier()"
      ],
      "metadata": {
        "id": "Z1b61ok1kt6k"
      },
      "execution_count": 300,
      "outputs": []
    },
    {
      "cell_type": "code",
      "source": [
        "HSV_C2_Set2 = table_C2Set2.drop(['R-ref','G-ref','B-ref','R-Shad','G-Shad','B-Shad','Setting','Ref','Shad','Img'], axis=1)"
      ],
      "metadata": {
        "id": "q5xlUfKquK8Z"
      },
      "execution_count": 301,
      "outputs": []
    },
    {
      "cell_type": "code",
      "source": [
        "HSV_C2_concat2 = RGB_C2_concat0.drop(['R-ref','G-ref','B-ref','R-Shad','G-Shad','B-Shad','Setting','Ref','Shad','Img'], axis=1)"
      ],
      "metadata": {
        "id": "s-viJk-8uK8Z"
      },
      "execution_count": 302,
      "outputs": []
    },
    {
      "cell_type": "code",
      "source": [
        "X_test_C2_HSV = np.array(HSV_C2_Set2)"
      ],
      "metadata": {
        "id": "3bWxFDmTuK8a"
      },
      "execution_count": 303,
      "outputs": []
    },
    {
      "cell_type": "code",
      "source": [
        "y_C2_HSV =  table_C2Set2.iloc[:,14:15]"
      ],
      "metadata": {
        "id": "lpnovtd2uK8a"
      },
      "execution_count": 304,
      "outputs": []
    },
    {
      "cell_type": "code",
      "source": [
        "y_test_C2_HSV = np.array(y_C2_RGB)"
      ],
      "metadata": {
        "id": "6GQ5gtAHuK8a"
      },
      "execution_count": 305,
      "outputs": []
    },
    {
      "cell_type": "code",
      "source": [
        "X_train_C2_HSV = np.array(HSV_C2_concat2)"
      ],
      "metadata": {
        "id": "PGXplz_NuK8a"
      },
      "execution_count": 306,
      "outputs": []
    },
    {
      "cell_type": "code",
      "source": [
        "y_train_C2HSV = RGB_C2_concat0.iloc[:,14:15]"
      ],
      "metadata": {
        "id": "vOmolRtnuK8a"
      },
      "execution_count": 307,
      "outputs": []
    },
    {
      "cell_type": "code",
      "source": [
        "y_train_C2_HSV = np.array(y_train_C2HSV)"
      ],
      "metadata": {
        "id": "DgpIHz4cuK8a"
      },
      "execution_count": 308,
      "outputs": []
    },
    {
      "cell_type": "code",
      "source": [
        "clf22.fit(X_train_C2_HSV, y_train_C2_HSV)"
      ],
      "metadata": {
        "colab": {
          "base_uri": "https://localhost:8080/"
        },
        "outputId": "64f30f52-5ac2-4c9c-f808-add930747c74",
        "id": "2DKI59WsuK8a"
      },
      "execution_count": 309,
      "outputs": [
        {
          "output_type": "stream",
          "name": "stderr",
          "text": [
            "/usr/local/lib/python3.7/dist-packages/sklearn/preprocessing/_label.py:98: DataConversionWarning: A column-vector y was passed when a 1d array was expected. Please change the shape of y to (n_samples, ), for example using ravel().\n",
            "  y = column_or_1d(y, warn=True)\n",
            "/usr/local/lib/python3.7/dist-packages/sklearn/preprocessing/_label.py:133: DataConversionWarning: A column-vector y was passed when a 1d array was expected. Please change the shape of y to (n_samples, ), for example using ravel().\n",
            "  y = column_or_1d(y, warn=True)\n"
          ]
        },
        {
          "output_type": "execute_result",
          "data": {
            "text/plain": [
              "XGBClassifier(objective='multi:softprob')"
            ]
          },
          "metadata": {},
          "execution_count": 309
        }
      ]
    },
    {
      "cell_type": "code",
      "source": [
        "y_pred_C2_HSV = clf22.predict(X_test_C2_HSV)"
      ],
      "metadata": {
        "id": "hwrwDjh7uK8a"
      },
      "execution_count": 310,
      "outputs": []
    },
    {
      "cell_type": "code",
      "source": [
        "print(\"Accuracy:\", metrics.accuracy_score(y_test_C2_HSV, y_pred_C2_HSV))"
      ],
      "metadata": {
        "colab": {
          "base_uri": "https://localhost:8080/"
        },
        "outputId": "da8af7a3-9590-4b67-a7df-1b25cb976cf0",
        "id": "HyFHjL4fuK8a"
      },
      "execution_count": 311,
      "outputs": [
        {
          "output_type": "stream",
          "name": "stdout",
          "text": [
            "Accuracy: 0.1391304347826087\n"
          ]
        }
      ]
    },
    {
      "cell_type": "markdown",
      "source": [
        "##C3"
      ],
      "metadata": {
        "id": "rK-ZJLNyuK8b"
      }
    },
    {
      "cell_type": "code",
      "source": [
        "table_C3Set1 = pd.read_excel(Set1 , sheet_name='C3_1')\n",
        "\n",
        "table_C3Set2 = pd.read_excel(Set2 , sheet_name='C3_2')\n",
        "\n",
        "table_C3Set3 = pd.read_excel(Set3 , sheet_name='C3_3')\n",
        "\n",
        "table_C3Set4 = pd.read_excel(Set4 , sheet_name='C3_4')\n",
        "\n",
        "table_C3Set6 = pd.read_excel(Set6 , sheet_name='C3_6')"
      ],
      "metadata": {
        "id": "q-_w5TrjuK8b"
      },
      "execution_count": 312,
      "outputs": []
    },
    {
      "cell_type": "markdown",
      "source": [
        "###RGB"
      ],
      "metadata": {
        "id": "livhC8UguK8b"
      }
    },
    {
      "cell_type": "code",
      "source": [
        "clf23=xgb.XGBClassifier()"
      ],
      "metadata": {
        "id": "kT5WRZaDkw-h"
      },
      "execution_count": 313,
      "outputs": []
    },
    {
      "cell_type": "code",
      "source": [
        "RGB_C3_Set2 = table_C3Set2.drop(['H-ref','S-ref','V-ref','H-Shad','S-Shad','V-Shad','Setting','Ref','Shad','Img'], axis=1)"
      ],
      "metadata": {
        "id": "ISqB5DK5uK8b"
      },
      "execution_count": 314,
      "outputs": []
    },
    {
      "cell_type": "code",
      "source": [
        "RGB_C3_Set1 = table_C3Set1\n",
        "\n",
        "RGB_C3_Set3 = table_C3Set3\n",
        "\n",
        "RGB_C3_Set4 = table_C3Set4\n",
        "\n",
        "RGB_C3_Set6 = table_C3Set6"
      ],
      "metadata": {
        "id": "94holi5juK8b"
      },
      "execution_count": 315,
      "outputs": []
    },
    {
      "cell_type": "code",
      "source": [
        "RGB_C3_concat0 = pd.concat([RGB_C3_Set1,RGB_C3_Set3,RGB_C3_Set4,RGB_C3_Set6])"
      ],
      "metadata": {
        "id": "PTcRIYkhhKr6"
      },
      "execution_count": 316,
      "outputs": []
    },
    {
      "cell_type": "code",
      "source": [
        "RGB_C3_concat2 = RGB_C3_concat0.drop(['H-ref','S-ref','V-ref','H-Shad','S-Shad','V-Shad','Setting','Ref','Shad','Img'], axis=1)"
      ],
      "metadata": {
        "id": "APEofv4juK8c"
      },
      "execution_count": 317,
      "outputs": []
    },
    {
      "cell_type": "code",
      "source": [
        "X_test_C3_RGB = np.array(RGB_C3_Set2)"
      ],
      "metadata": {
        "id": "BSMKHBOiuK8c"
      },
      "execution_count": 318,
      "outputs": []
    },
    {
      "cell_type": "code",
      "source": [
        "y_C3_RGB =  table_C3Set2.iloc[:,14:15]"
      ],
      "metadata": {
        "id": "6ewQAsdKuK8c"
      },
      "execution_count": 319,
      "outputs": []
    },
    {
      "cell_type": "code",
      "source": [
        "y_test_C3_RGB = np.array(y_C3_RGB)"
      ],
      "metadata": {
        "id": "MzpREteZuK8c"
      },
      "execution_count": 320,
      "outputs": []
    },
    {
      "cell_type": "code",
      "source": [
        "X_train_C3_RGB = np.array(RGB_C3_concat2)"
      ],
      "metadata": {
        "id": "fGl85QjvuK8c"
      },
      "execution_count": 321,
      "outputs": []
    },
    {
      "cell_type": "code",
      "source": [
        "y_train_C3RGB = RGB_C3_concat0.iloc[:,14:15]"
      ],
      "metadata": {
        "id": "fA9e3KQDuK8c"
      },
      "execution_count": 322,
      "outputs": []
    },
    {
      "cell_type": "code",
      "source": [
        "y_train_C3_RGB = np.array(y_train_C3RGB)"
      ],
      "metadata": {
        "id": "A6g2ijSwuK8c"
      },
      "execution_count": 323,
      "outputs": []
    },
    {
      "cell_type": "code",
      "source": [
        "clf23.fit(X_train_C3_RGB, y_train_C3_RGB)"
      ],
      "metadata": {
        "colab": {
          "base_uri": "https://localhost:8080/"
        },
        "outputId": "1096547a-ab15-4d1a-c7f7-de4eb64efd90",
        "id": "2mTRXAEBuK8c"
      },
      "execution_count": 324,
      "outputs": [
        {
          "output_type": "stream",
          "name": "stderr",
          "text": [
            "/usr/local/lib/python3.7/dist-packages/sklearn/preprocessing/_label.py:98: DataConversionWarning: A column-vector y was passed when a 1d array was expected. Please change the shape of y to (n_samples, ), for example using ravel().\n",
            "  y = column_or_1d(y, warn=True)\n",
            "/usr/local/lib/python3.7/dist-packages/sklearn/preprocessing/_label.py:133: DataConversionWarning: A column-vector y was passed when a 1d array was expected. Please change the shape of y to (n_samples, ), for example using ravel().\n",
            "  y = column_or_1d(y, warn=True)\n"
          ]
        },
        {
          "output_type": "execute_result",
          "data": {
            "text/plain": [
              "XGBClassifier(objective='multi:softprob')"
            ]
          },
          "metadata": {},
          "execution_count": 324
        }
      ]
    },
    {
      "cell_type": "code",
      "source": [
        "y_pred_C3_RGB = clf23.predict(X_test_C3_RGB)"
      ],
      "metadata": {
        "id": "zhWYBiVsuK8d"
      },
      "execution_count": 325,
      "outputs": []
    },
    {
      "cell_type": "code",
      "source": [
        "print(\"Accuracy:\", metrics.accuracy_score(y_test_C3_RGB, y_pred_C3_RGB))"
      ],
      "metadata": {
        "colab": {
          "base_uri": "https://localhost:8080/"
        },
        "outputId": "fa7d4406-6902-47c4-fa8b-58aaca0c61ed",
        "id": "QXKAW4-FuK8d"
      },
      "execution_count": 326,
      "outputs": [
        {
          "output_type": "stream",
          "name": "stdout",
          "text": [
            "Accuracy: 0.12422360248447205\n"
          ]
        }
      ]
    },
    {
      "cell_type": "markdown",
      "source": [
        "###HSV"
      ],
      "metadata": {
        "id": "Tcn_9zpPuK8d"
      }
    },
    {
      "cell_type": "code",
      "source": [
        "clf24=xgb.XGBClassifier()"
      ],
      "metadata": {
        "id": "ihddSUGBk0TE"
      },
      "execution_count": 327,
      "outputs": []
    },
    {
      "cell_type": "code",
      "source": [
        "HSV_C3_Set2 = table_C3Set2.drop(['R-ref','G-ref','B-ref','R-Shad','G-Shad','B-Shad','Setting','Ref','Shad','Img'], axis=1)"
      ],
      "metadata": {
        "id": "8YGWOpmUuK8d"
      },
      "execution_count": 328,
      "outputs": []
    },
    {
      "cell_type": "code",
      "source": [
        "HSV_C3_concat2 = RGB_C3_concat0.drop(['R-ref','G-ref','B-ref','R-Shad','G-Shad','B-Shad','Setting','Ref','Shad','Img'], axis=1)"
      ],
      "metadata": {
        "id": "_ffYkSLwuK8d"
      },
      "execution_count": 329,
      "outputs": []
    },
    {
      "cell_type": "code",
      "source": [
        "X_test_C3_HSV = np.array(HSV_C3_Set2)"
      ],
      "metadata": {
        "id": "_V99mUp2uK8d"
      },
      "execution_count": 330,
      "outputs": []
    },
    {
      "cell_type": "code",
      "source": [
        "y_C3_HSV =  table_C3Set2.iloc[:,14:15]"
      ],
      "metadata": {
        "id": "_mqy3vKjuK8d"
      },
      "execution_count": 331,
      "outputs": []
    },
    {
      "cell_type": "code",
      "source": [
        "y_test_C3_HSV = np.array(y_C3_RGB)"
      ],
      "metadata": {
        "id": "nqroCQSCuK8d"
      },
      "execution_count": 332,
      "outputs": []
    },
    {
      "cell_type": "code",
      "source": [
        "X_train_C3_HSV = np.array(HSV_C3_concat2)"
      ],
      "metadata": {
        "id": "eaij-4V_uK8d"
      },
      "execution_count": 333,
      "outputs": []
    },
    {
      "cell_type": "code",
      "source": [
        "y_train_C3HSV = RGB_C3_concat0.iloc[:,14:15]"
      ],
      "metadata": {
        "id": "SNbPbhi0uK8d"
      },
      "execution_count": 334,
      "outputs": []
    },
    {
      "cell_type": "code",
      "source": [
        "y_train_C3_HSV = np.array(y_train_C3HSV)"
      ],
      "metadata": {
        "id": "ymd4fVW3uK8d"
      },
      "execution_count": 335,
      "outputs": []
    },
    {
      "cell_type": "code",
      "source": [
        "clf24.fit(X_train_C3_HSV, y_train_C3_HSV)"
      ],
      "metadata": {
        "colab": {
          "base_uri": "https://localhost:8080/"
        },
        "outputId": "e0e3a328-53f5-43ff-d4cb-aff390cdf7c2",
        "id": "G2xivXIyuK8e"
      },
      "execution_count": 336,
      "outputs": [
        {
          "output_type": "stream",
          "name": "stderr",
          "text": [
            "/usr/local/lib/python3.7/dist-packages/sklearn/preprocessing/_label.py:98: DataConversionWarning: A column-vector y was passed when a 1d array was expected. Please change the shape of y to (n_samples, ), for example using ravel().\n",
            "  y = column_or_1d(y, warn=True)\n",
            "/usr/local/lib/python3.7/dist-packages/sklearn/preprocessing/_label.py:133: DataConversionWarning: A column-vector y was passed when a 1d array was expected. Please change the shape of y to (n_samples, ), for example using ravel().\n",
            "  y = column_or_1d(y, warn=True)\n"
          ]
        },
        {
          "output_type": "execute_result",
          "data": {
            "text/plain": [
              "XGBClassifier(objective='multi:softprob')"
            ]
          },
          "metadata": {},
          "execution_count": 336
        }
      ]
    },
    {
      "cell_type": "code",
      "source": [
        "y_pred_C3_HSV = clf24.predict(X_test_C3_HSV)"
      ],
      "metadata": {
        "id": "_c_42BEKuK8e"
      },
      "execution_count": 337,
      "outputs": []
    },
    {
      "cell_type": "code",
      "source": [
        "print(\"Accuracy:\", metrics.accuracy_score(y_test_C3_HSV, y_pred_C3_HSV))"
      ],
      "metadata": {
        "colab": {
          "base_uri": "https://localhost:8080/"
        },
        "outputId": "d9bca6a6-0ab9-429d-d79b-a0f7d871254a",
        "id": "fnMe2K_VuK8e"
      },
      "execution_count": 338,
      "outputs": [
        {
          "output_type": "stream",
          "name": "stdout",
          "text": [
            "Accuracy: 0.062111801242236024\n"
          ]
        }
      ]
    },
    {
      "cell_type": "markdown",
      "source": [
        "##C4"
      ],
      "metadata": {
        "id": "qWONdRUpuK8e"
      }
    },
    {
      "cell_type": "code",
      "source": [
        "table_C4Set1 = pd.read_excel(Set1 , sheet_name='C4_1')\n",
        "\n",
        "table_C4Set2 = pd.read_excel(Set2 , sheet_name='C4_2')\n",
        "\n",
        "table_C4Set3 = pd.read_excel(Set3 , sheet_name='C4_3')\n",
        "\n",
        "table_C4Set4 = pd.read_excel(Set4 , sheet_name='C4_4')\n",
        "\n",
        "table_C4Set6 = pd.read_excel(Set6 , sheet_name='C4_6')"
      ],
      "metadata": {
        "id": "BtGs5Fi7uK8e"
      },
      "execution_count": 339,
      "outputs": []
    },
    {
      "cell_type": "markdown",
      "source": [
        "###RGB"
      ],
      "metadata": {
        "id": "itC-PgyduK8f"
      }
    },
    {
      "cell_type": "code",
      "source": [
        "clf25=xgb.XGBClassifier()"
      ],
      "metadata": {
        "id": "UT8Yy8wUk3Sg"
      },
      "execution_count": 340,
      "outputs": []
    },
    {
      "cell_type": "code",
      "source": [
        "RGB_C4_Set2 = table_C4Set2.drop(['H-ref','S-ref','V-ref','H-Shad','S-Shad','V-Shad','Setting','Ref','Shad','Img'], axis=1)"
      ],
      "metadata": {
        "id": "2Upie7PbuK8f"
      },
      "execution_count": 341,
      "outputs": []
    },
    {
      "cell_type": "code",
      "source": [
        "RGB_C4_Set1 = table_C4Set1\n",
        "\n",
        "RGB_C4_Set3 = table_C4Set3\n",
        "\n",
        "RGB_C4_Set4 = table_C4Set4\n",
        "\n",
        "RGB_C4_Set6 = table_C4Set6"
      ],
      "metadata": {
        "id": "1MEK29oNuK8f"
      },
      "execution_count": 342,
      "outputs": []
    },
    {
      "cell_type": "code",
      "source": [
        "RGB_C4_concat0 = pd.concat([RGB_C4_Set1,RGB_C4_Set3,RGB_C4_Set4,RGB_C4_Set6])"
      ],
      "metadata": {
        "id": "-_6SQaCbhgE1"
      },
      "execution_count": 343,
      "outputs": []
    },
    {
      "cell_type": "code",
      "source": [
        "RGB_C4_concat2 = RGB_C4_concat0.drop(['H-ref','S-ref','V-ref','H-Shad','S-Shad','V-Shad','Setting','Ref','Shad','Img'], axis=1)"
      ],
      "metadata": {
        "id": "a-gC-GfkuK8f"
      },
      "execution_count": 344,
      "outputs": []
    },
    {
      "cell_type": "code",
      "source": [
        "X_test_C4_RGB = np.array(RGB_C4_Set2)"
      ],
      "metadata": {
        "id": "oybcs3qOuK8f"
      },
      "execution_count": 345,
      "outputs": []
    },
    {
      "cell_type": "code",
      "source": [
        "y_C4_RGB =  table_C4Set2.iloc[:,14:15]"
      ],
      "metadata": {
        "id": "B8JwR0-QuK8f"
      },
      "execution_count": 346,
      "outputs": []
    },
    {
      "cell_type": "code",
      "source": [
        "y_test_C4_RGB = np.array(y_C4_RGB)"
      ],
      "metadata": {
        "id": "4Zr9IHe_uK8g"
      },
      "execution_count": 347,
      "outputs": []
    },
    {
      "cell_type": "code",
      "source": [
        "X_train_C4_RGB = np.array(RGB_C4_concat2)"
      ],
      "metadata": {
        "id": "HW4sce4YuK8g"
      },
      "execution_count": 348,
      "outputs": []
    },
    {
      "cell_type": "code",
      "source": [
        "y_train_C4RGB = RGB_C4_concat0.iloc[:,14:15]"
      ],
      "metadata": {
        "id": "8ZtEorViuK8g"
      },
      "execution_count": 349,
      "outputs": []
    },
    {
      "cell_type": "code",
      "source": [
        "y_train_C4_RGB = np.array(y_train_C4RGB)"
      ],
      "metadata": {
        "id": "06EX8wlduK8g"
      },
      "execution_count": 350,
      "outputs": []
    },
    {
      "cell_type": "code",
      "source": [
        "clf25.fit(X_train_C4_RGB, y_train_C4_RGB)"
      ],
      "metadata": {
        "colab": {
          "base_uri": "https://localhost:8080/"
        },
        "outputId": "14de9333-7275-4cc0-ca21-698b35eea715",
        "id": "xvVKEn4zuK8g"
      },
      "execution_count": 351,
      "outputs": [
        {
          "output_type": "stream",
          "name": "stderr",
          "text": [
            "/usr/local/lib/python3.7/dist-packages/sklearn/preprocessing/_label.py:98: DataConversionWarning: A column-vector y was passed when a 1d array was expected. Please change the shape of y to (n_samples, ), for example using ravel().\n",
            "  y = column_or_1d(y, warn=True)\n",
            "/usr/local/lib/python3.7/dist-packages/sklearn/preprocessing/_label.py:133: DataConversionWarning: A column-vector y was passed when a 1d array was expected. Please change the shape of y to (n_samples, ), for example using ravel().\n",
            "  y = column_or_1d(y, warn=True)\n"
          ]
        },
        {
          "output_type": "execute_result",
          "data": {
            "text/plain": [
              "XGBClassifier(objective='multi:softprob')"
            ]
          },
          "metadata": {},
          "execution_count": 351
        }
      ]
    },
    {
      "cell_type": "code",
      "source": [
        "y_pred_C4_RGB = clf25.predict(X_test_C4_RGB)"
      ],
      "metadata": {
        "id": "gYOIwjY3uK8g"
      },
      "execution_count": 352,
      "outputs": []
    },
    {
      "cell_type": "code",
      "source": [
        "print(\"Accuracy:\", metrics.accuracy_score(y_test_C4_RGB, y_pred_C4_RGB))"
      ],
      "metadata": {
        "colab": {
          "base_uri": "https://localhost:8080/"
        },
        "outputId": "b69ea30c-389a-4372-f4d5-992d70489048",
        "id": "dpge-QlmuK8g"
      },
      "execution_count": 353,
      "outputs": [
        {
          "output_type": "stream",
          "name": "stdout",
          "text": [
            "Accuracy: 0.12919254658385093\n"
          ]
        }
      ]
    },
    {
      "cell_type": "markdown",
      "source": [
        "###HSV"
      ],
      "metadata": {
        "id": "3auzfsaNuK8g"
      }
    },
    {
      "cell_type": "code",
      "source": [
        "clf26=xgb.XGBClassifier()"
      ],
      "metadata": {
        "id": "fpqkGie1k7mI"
      },
      "execution_count": 354,
      "outputs": []
    },
    {
      "cell_type": "code",
      "source": [
        "HSV_C4_Set2 = table_C4Set2.drop(['R-ref','G-ref','B-ref','R-Shad','G-Shad','B-Shad','Setting','Ref','Shad','Img'], axis=1)"
      ],
      "metadata": {
        "id": "79x7fX5RuK8g"
      },
      "execution_count": 355,
      "outputs": []
    },
    {
      "cell_type": "code",
      "source": [
        "HSV_C4_concat2 = RGB_C4_concat0.drop(['R-ref','G-ref','B-ref','R-Shad','G-Shad','B-Shad','Setting','Ref','Shad','Img'], axis=1)"
      ],
      "metadata": {
        "id": "OJtvWMzquK8g"
      },
      "execution_count": 356,
      "outputs": []
    },
    {
      "cell_type": "code",
      "source": [
        "X_test_C4_HSV = np.array(HSV_C4_Set2)"
      ],
      "metadata": {
        "id": "9wwsXAPRuK8g"
      },
      "execution_count": 357,
      "outputs": []
    },
    {
      "cell_type": "code",
      "source": [
        "y_C4_HSV =  table_C4Set2.iloc[:,14:15]"
      ],
      "metadata": {
        "id": "yMXKV4w-uK8h"
      },
      "execution_count": 358,
      "outputs": []
    },
    {
      "cell_type": "code",
      "source": [
        "y_test_C4_HSV = np.array(y_C4_RGB)"
      ],
      "metadata": {
        "id": "vsS0ChHIuK8h"
      },
      "execution_count": 359,
      "outputs": []
    },
    {
      "cell_type": "code",
      "source": [
        "X_train_C4_HSV = np.array(HSV_C4_concat2)"
      ],
      "metadata": {
        "id": "PL9ejspDuK8h"
      },
      "execution_count": 360,
      "outputs": []
    },
    {
      "cell_type": "code",
      "source": [
        "y_train_C4HSV = RGB_C4_concat0.iloc[:,14:15]"
      ],
      "metadata": {
        "id": "FAf1PmlquK8h"
      },
      "execution_count": 361,
      "outputs": []
    },
    {
      "cell_type": "code",
      "source": [
        "y_train_C4_HSV = np.array(y_train_C4HSV)"
      ],
      "metadata": {
        "id": "W0Kf74pWuK8h"
      },
      "execution_count": 362,
      "outputs": []
    },
    {
      "cell_type": "code",
      "source": [
        "clf26.fit(X_train_C4_HSV, y_train_C4_HSV)"
      ],
      "metadata": {
        "colab": {
          "base_uri": "https://localhost:8080/"
        },
        "outputId": "dd0e2625-d61c-4eb7-f748-c41a4fc104b1",
        "id": "7Q7bgyn-uK8h"
      },
      "execution_count": 363,
      "outputs": [
        {
          "output_type": "stream",
          "name": "stderr",
          "text": [
            "/usr/local/lib/python3.7/dist-packages/sklearn/preprocessing/_label.py:98: DataConversionWarning: A column-vector y was passed when a 1d array was expected. Please change the shape of y to (n_samples, ), for example using ravel().\n",
            "  y = column_or_1d(y, warn=True)\n",
            "/usr/local/lib/python3.7/dist-packages/sklearn/preprocessing/_label.py:133: DataConversionWarning: A column-vector y was passed when a 1d array was expected. Please change the shape of y to (n_samples, ), for example using ravel().\n",
            "  y = column_or_1d(y, warn=True)\n"
          ]
        },
        {
          "output_type": "execute_result",
          "data": {
            "text/plain": [
              "XGBClassifier(objective='multi:softprob')"
            ]
          },
          "metadata": {},
          "execution_count": 363
        }
      ]
    },
    {
      "cell_type": "code",
      "source": [
        "y_pred_C4_HSV = clf26.predict(X_test_C4_HSV)"
      ],
      "metadata": {
        "id": "dVZkULXFuK8h"
      },
      "execution_count": 364,
      "outputs": []
    },
    {
      "cell_type": "code",
      "source": [
        "print(\"Accuracy:\", metrics.accuracy_score(y_test_C4_HSV, y_pred_C4_HSV))"
      ],
      "metadata": {
        "colab": {
          "base_uri": "https://localhost:8080/"
        },
        "outputId": "4e828b9a-86e4-4547-d7bf-f92807ddaa31",
        "id": "fNDv3zRluK8h"
      },
      "execution_count": 365,
      "outputs": [
        {
          "output_type": "stream",
          "name": "stdout",
          "text": [
            "Accuracy: 0.06086956521739131\n"
          ]
        }
      ]
    },
    {
      "cell_type": "markdown",
      "source": [
        "#DD"
      ],
      "metadata": {
        "id": "kFckM1SuxrfW"
      }
    },
    {
      "cell_type": "markdown",
      "source": [
        "##D2"
      ],
      "metadata": {
        "id": "Dx0Ujmpqx90R"
      }
    },
    {
      "cell_type": "code",
      "source": [
        "table_D2Set1 = pd.read_excel(Set1 , sheet_name='D2_1')\n",
        "\n",
        "table_D2Set2 = pd.read_excel(Set2 , sheet_name='D2_2')\n",
        "\n",
        "table_D2Set3 = pd.read_excel(Set3 , sheet_name='D2_3')\n",
        "\n",
        "table_D2Set4 = pd.read_excel(Set4 , sheet_name='D2_4')\n",
        "\n",
        "table_D2Set6 = pd.read_excel(Set6 , sheet_name='D2_6')"
      ],
      "metadata": {
        "id": "py_AYnaOx90R"
      },
      "execution_count": 366,
      "outputs": []
    },
    {
      "cell_type": "markdown",
      "source": [
        "###RGB"
      ],
      "metadata": {
        "id": "p_euaG1Sx90S"
      }
    },
    {
      "cell_type": "code",
      "source": [
        "clf27=xgb.XGBClassifier()"
      ],
      "metadata": {
        "id": "0IOX-T0qk_JW"
      },
      "execution_count": 367,
      "outputs": []
    },
    {
      "cell_type": "code",
      "source": [
        "RGB_D2_Set2 = table_D2Set2.drop(['H-ref','S-ref','V-ref','H-Shad','S-Shad','V-Shad','Setting','Ref','Shad','Img'], axis=1)"
      ],
      "metadata": {
        "id": "4S39UT3Rx90S"
      },
      "execution_count": 368,
      "outputs": []
    },
    {
      "cell_type": "code",
      "source": [
        "RGB_D2_Set1 = table_D2Set1\n",
        "\n",
        "RGB_D2_Set3 = table_D2Set3\n",
        "\n",
        "RGB_D2_Set4 = table_D2Set4\n",
        "\n",
        "RGB_D2_Set6 = table_D2Set6"
      ],
      "metadata": {
        "id": "nJh9mta-x90S"
      },
      "execution_count": 369,
      "outputs": []
    },
    {
      "cell_type": "code",
      "source": [
        "RGB_D2_concat0 = pd.concat([RGB_D2_Set1,RGB_D2_Set3,RGB_D2_Set4,RGB_D2_Set6])"
      ],
      "metadata": {
        "id": "CxzZN5qBhyUb"
      },
      "execution_count": 370,
      "outputs": []
    },
    {
      "cell_type": "code",
      "source": [
        "RGB_D2_concat2 = RGB_D2_concat0.drop(['H-ref','S-ref','V-ref','H-Shad','S-Shad','V-Shad','Setting','Ref','Shad','Img'], axis=1)"
      ],
      "metadata": {
        "id": "MAwcNIm2x90T"
      },
      "execution_count": 371,
      "outputs": []
    },
    {
      "cell_type": "code",
      "source": [
        "X_test_D2_RGB = np.array(RGB_D2_Set2)"
      ],
      "metadata": {
        "id": "sp1VXLkox90T"
      },
      "execution_count": 372,
      "outputs": []
    },
    {
      "cell_type": "code",
      "source": [
        "y_D2_RGB =  table_D2Set2.iloc[:,14:15]"
      ],
      "metadata": {
        "id": "HjrkrzQLx90T"
      },
      "execution_count": 373,
      "outputs": []
    },
    {
      "cell_type": "code",
      "source": [
        "y_test_D2_RGB = np.array(y_D2_RGB)"
      ],
      "metadata": {
        "id": "X_yNCUKWx90T"
      },
      "execution_count": 374,
      "outputs": []
    },
    {
      "cell_type": "code",
      "source": [
        "X_train_D2_RGB = np.array(RGB_D2_concat2)"
      ],
      "metadata": {
        "id": "s4tbeuf1x90T"
      },
      "execution_count": 375,
      "outputs": []
    },
    {
      "cell_type": "code",
      "source": [
        "y_train_D2RGB = RGB_D2_concat0.iloc[:,14:15]"
      ],
      "metadata": {
        "id": "YDH_D_rNx90T"
      },
      "execution_count": 376,
      "outputs": []
    },
    {
      "cell_type": "code",
      "source": [
        "y_train_D2_RGB = np.array(y_train_D2RGB)"
      ],
      "metadata": {
        "id": "s0ZuO4mux90T"
      },
      "execution_count": 377,
      "outputs": []
    },
    {
      "cell_type": "code",
      "source": [
        "clf27.fit(X_train_D2_RGB, y_train_D2_RGB)"
      ],
      "metadata": {
        "colab": {
          "base_uri": "https://localhost:8080/"
        },
        "outputId": "a088d1f8-afba-4a35-b1d5-349d3b6ae834",
        "id": "FgepnkAdx90U"
      },
      "execution_count": 378,
      "outputs": [
        {
          "output_type": "stream",
          "name": "stderr",
          "text": [
            "/usr/local/lib/python3.7/dist-packages/sklearn/preprocessing/_label.py:98: DataConversionWarning: A column-vector y was passed when a 1d array was expected. Please change the shape of y to (n_samples, ), for example using ravel().\n",
            "  y = column_or_1d(y, warn=True)\n",
            "/usr/local/lib/python3.7/dist-packages/sklearn/preprocessing/_label.py:133: DataConversionWarning: A column-vector y was passed when a 1d array was expected. Please change the shape of y to (n_samples, ), for example using ravel().\n",
            "  y = column_or_1d(y, warn=True)\n"
          ]
        },
        {
          "output_type": "execute_result",
          "data": {
            "text/plain": [
              "XGBClassifier(objective='multi:softprob')"
            ]
          },
          "metadata": {},
          "execution_count": 378
        }
      ]
    },
    {
      "cell_type": "code",
      "source": [
        "y_pred_D2_RGB = clf27.predict(X_test_D2_RGB)"
      ],
      "metadata": {
        "id": "KqZtbI1yx90U"
      },
      "execution_count": 379,
      "outputs": []
    },
    {
      "cell_type": "code",
      "source": [
        "print(\"Accuracy:\", metrics.accuracy_score(y_test_D2_RGB, y_pred_D2_RGB))"
      ],
      "metadata": {
        "colab": {
          "base_uri": "https://localhost:8080/"
        },
        "outputId": "4d5c8efc-2df6-4504-e7f0-b52139a5a734",
        "id": "wmJTutTAx90U"
      },
      "execution_count": 380,
      "outputs": [
        {
          "output_type": "stream",
          "name": "stdout",
          "text": [
            "Accuracy: 0.1031055900621118\n"
          ]
        }
      ]
    },
    {
      "cell_type": "markdown",
      "source": [
        "###HSV"
      ],
      "metadata": {
        "id": "iTUrHbyjx90U"
      }
    },
    {
      "cell_type": "code",
      "source": [
        "clf28=xgb.XGBClassifier()"
      ],
      "metadata": {
        "id": "kRYW68otlCtS"
      },
      "execution_count": 381,
      "outputs": []
    },
    {
      "cell_type": "code",
      "source": [
        "HSV_D2_Set2 = table_D2Set2.drop(['R-ref','G-ref','B-ref','R-Shad','G-Shad','B-Shad','Setting','Ref','Shad','Img'], axis=1)"
      ],
      "metadata": {
        "id": "3JeaZWnkx90U"
      },
      "execution_count": 382,
      "outputs": []
    },
    {
      "cell_type": "code",
      "source": [
        "HSV_D2_concat2 = RGB_D2_concat0.drop(['R-ref','G-ref','B-ref','R-Shad','G-Shad','B-Shad','Setting','Ref','Shad','Img'], axis=1)"
      ],
      "metadata": {
        "id": "3_2SN1GBx90U"
      },
      "execution_count": 383,
      "outputs": []
    },
    {
      "cell_type": "code",
      "source": [
        "X_test_D2_HSV = np.array(HSV_D2_Set2)"
      ],
      "metadata": {
        "id": "RaBXco4Qx90U"
      },
      "execution_count": 384,
      "outputs": []
    },
    {
      "cell_type": "code",
      "source": [
        "y_D2_HSV =  table_D2Set2.iloc[:,14:15]"
      ],
      "metadata": {
        "id": "G9P57h2qx90U"
      },
      "execution_count": 385,
      "outputs": []
    },
    {
      "cell_type": "code",
      "source": [
        "y_test_D2_HSV = np.array(y_D2_RGB)"
      ],
      "metadata": {
        "id": "Tgk7oFlox90V"
      },
      "execution_count": 386,
      "outputs": []
    },
    {
      "cell_type": "code",
      "source": [
        "X_train_D2_HSV = np.array(HSV_D2_concat2)"
      ],
      "metadata": {
        "id": "9YurdEdJx90V"
      },
      "execution_count": 387,
      "outputs": []
    },
    {
      "cell_type": "code",
      "source": [
        "y_train_D2HSV = RGB_D2_concat0.iloc[:,14:15]"
      ],
      "metadata": {
        "id": "s3A59uQsx90V"
      },
      "execution_count": 388,
      "outputs": []
    },
    {
      "cell_type": "code",
      "source": [
        "y_train_D2_HSV = np.array(y_train_D2HSV)"
      ],
      "metadata": {
        "id": "_Q8KC_jBx90V"
      },
      "execution_count": 389,
      "outputs": []
    },
    {
      "cell_type": "code",
      "source": [
        "clf28.fit(X_train_D2_HSV, y_train_D2_HSV)"
      ],
      "metadata": {
        "colab": {
          "base_uri": "https://localhost:8080/"
        },
        "outputId": "10fc26ba-6740-49ed-8f10-9011074eb09f",
        "id": "hQrQntI1x90V"
      },
      "execution_count": 390,
      "outputs": [
        {
          "output_type": "stream",
          "name": "stderr",
          "text": [
            "/usr/local/lib/python3.7/dist-packages/sklearn/preprocessing/_label.py:98: DataConversionWarning: A column-vector y was passed when a 1d array was expected. Please change the shape of y to (n_samples, ), for example using ravel().\n",
            "  y = column_or_1d(y, warn=True)\n",
            "/usr/local/lib/python3.7/dist-packages/sklearn/preprocessing/_label.py:133: DataConversionWarning: A column-vector y was passed when a 1d array was expected. Please change the shape of y to (n_samples, ), for example using ravel().\n",
            "  y = column_or_1d(y, warn=True)\n"
          ]
        },
        {
          "output_type": "execute_result",
          "data": {
            "text/plain": [
              "XGBClassifier(objective='multi:softprob')"
            ]
          },
          "metadata": {},
          "execution_count": 390
        }
      ]
    },
    {
      "cell_type": "code",
      "source": [
        "y_pred_D2_HSV = clf28.predict(X_test_D2_HSV)"
      ],
      "metadata": {
        "id": "TsH-vaSMx90V"
      },
      "execution_count": 391,
      "outputs": []
    },
    {
      "cell_type": "code",
      "source": [
        "print(\"Accuracy:\", metrics.accuracy_score(y_test_D2_HSV, y_pred_D2_HSV))"
      ],
      "metadata": {
        "colab": {
          "base_uri": "https://localhost:8080/"
        },
        "outputId": "82718c94-d5da-4044-a2bd-b11c0c89efee",
        "id": "5j4gANcdx90V"
      },
      "execution_count": 392,
      "outputs": [
        {
          "output_type": "stream",
          "name": "stdout",
          "text": [
            "Accuracy: 0.13664596273291926\n"
          ]
        }
      ]
    },
    {
      "cell_type": "markdown",
      "source": [
        "##D3"
      ],
      "metadata": {
        "id": "ntLV6fwAx90V"
      }
    },
    {
      "cell_type": "code",
      "source": [
        "table_D3Set1 = pd.read_excel(Set1 , sheet_name='D3_1')\n",
        "\n",
        "table_D3Set2 = pd.read_excel(Set2 , sheet_name='D3_2')\n",
        "\n",
        "table_D3Set3 = pd.read_excel(Set3 , sheet_name='D3_3')\n",
        "\n",
        "table_D3Set4 = pd.read_excel(Set4 , sheet_name='D3_4')\n",
        "\n",
        "table_D3Set6 = pd.read_excel(Set6 , sheet_name='D3_6')"
      ],
      "metadata": {
        "id": "8iTZ6oX0x90V"
      },
      "execution_count": 393,
      "outputs": []
    },
    {
      "cell_type": "markdown",
      "source": [
        "###RGB"
      ],
      "metadata": {
        "id": "CYvwE4PDx90W"
      }
    },
    {
      "cell_type": "code",
      "source": [
        "clf29=xgb.XGBClassifier()"
      ],
      "metadata": {
        "id": "vQwq9BtZlF-z"
      },
      "execution_count": 394,
      "outputs": []
    },
    {
      "cell_type": "code",
      "source": [
        "RGB_D3_Set2 = table_D3Set2.drop(['H-ref','S-ref','V-ref','H-Shad','S-Shad','V-Shad','Setting','Ref','Shad','Img'], axis=1)"
      ],
      "metadata": {
        "id": "PlR5iWwRx90W"
      },
      "execution_count": 395,
      "outputs": []
    },
    {
      "cell_type": "code",
      "source": [
        "RGB_D3_Set1 = table_D3Set1\n",
        "\n",
        "RGB_D3_Set3 = table_D3Set3\n",
        "\n",
        "RGB_D3_Set4 = table_D3Set4\n",
        "\n",
        "RGB_D3_Set6 = table_D3Set6"
      ],
      "metadata": {
        "id": "blPo4yEex90W"
      },
      "execution_count": 396,
      "outputs": []
    },
    {
      "cell_type": "code",
      "source": [
        "RGB_D3_concat0 = pd.concat([RGB_D3_Set1,RGB_D3_Set3,RGB_D3_Set4,RGB_D3_Set6])"
      ],
      "metadata": {
        "id": "bl9iY6xSiIJz"
      },
      "execution_count": 397,
      "outputs": []
    },
    {
      "cell_type": "code",
      "source": [
        "RGB_D3_concat2 = RGB_D3_concat0.drop(['H-ref','S-ref','V-ref','H-Shad','S-Shad','V-Shad','Setting','Ref','Shad','Img'], axis=1)"
      ],
      "metadata": {
        "id": "1yMt6NzXx90X"
      },
      "execution_count": 398,
      "outputs": []
    },
    {
      "cell_type": "code",
      "source": [
        "X_test_D3_RGB = np.array(RGB_D3_Set2)"
      ],
      "metadata": {
        "id": "ufA1_Y1xx90X"
      },
      "execution_count": 399,
      "outputs": []
    },
    {
      "cell_type": "code",
      "source": [
        "y_D3_RGB =  table_D3Set2.iloc[:,14:15]"
      ],
      "metadata": {
        "id": "-QW8SDSyx90X"
      },
      "execution_count": 400,
      "outputs": []
    },
    {
      "cell_type": "code",
      "source": [
        "y_test_D3_RGB = np.array(y_D3_RGB)"
      ],
      "metadata": {
        "id": "kL5UDJAUx90X"
      },
      "execution_count": 401,
      "outputs": []
    },
    {
      "cell_type": "code",
      "source": [
        "X_train_D3_RGB = np.array(RGB_D3_concat2)"
      ],
      "metadata": {
        "id": "I-j7R3Tnx90X"
      },
      "execution_count": 402,
      "outputs": []
    },
    {
      "cell_type": "code",
      "source": [
        "y_train_D3RGB = RGB_D3_concat0.iloc[:,14:15]"
      ],
      "metadata": {
        "id": "cuBbjTNYx90X"
      },
      "execution_count": 403,
      "outputs": []
    },
    {
      "cell_type": "code",
      "source": [
        "y_train_D3_RGB = np.array(y_train_D3RGB)"
      ],
      "metadata": {
        "id": "gB3TEG8Ox90Y"
      },
      "execution_count": 404,
      "outputs": []
    },
    {
      "cell_type": "code",
      "source": [
        "clf29.fit(X_train_D3_RGB, y_train_D3_RGB)"
      ],
      "metadata": {
        "colab": {
          "base_uri": "https://localhost:8080/"
        },
        "outputId": "e1550c60-548c-4a7d-ba40-92ec39804b5b",
        "id": "owe-5XSGx90Y"
      },
      "execution_count": 405,
      "outputs": [
        {
          "output_type": "stream",
          "name": "stderr",
          "text": [
            "/usr/local/lib/python3.7/dist-packages/sklearn/preprocessing/_label.py:98: DataConversionWarning: A column-vector y was passed when a 1d array was expected. Please change the shape of y to (n_samples, ), for example using ravel().\n",
            "  y = column_or_1d(y, warn=True)\n",
            "/usr/local/lib/python3.7/dist-packages/sklearn/preprocessing/_label.py:133: DataConversionWarning: A column-vector y was passed when a 1d array was expected. Please change the shape of y to (n_samples, ), for example using ravel().\n",
            "  y = column_or_1d(y, warn=True)\n"
          ]
        },
        {
          "output_type": "execute_result",
          "data": {
            "text/plain": [
              "XGBClassifier(objective='multi:softprob')"
            ]
          },
          "metadata": {},
          "execution_count": 405
        }
      ]
    },
    {
      "cell_type": "code",
      "source": [
        "y_pred_D3_RGB = clf29.predict(X_test_D3_RGB)"
      ],
      "metadata": {
        "id": "_A7t5UNHx90Y"
      },
      "execution_count": 406,
      "outputs": []
    },
    {
      "cell_type": "code",
      "source": [
        "print(\"Accuracy:\", metrics.accuracy_score(y_test_D3_RGB, y_pred_D3_RGB))"
      ],
      "metadata": {
        "colab": {
          "base_uri": "https://localhost:8080/"
        },
        "outputId": "6702d46f-b41d-4792-c895-e6c558ba4991",
        "id": "j_-xWLsfx90Y"
      },
      "execution_count": 407,
      "outputs": [
        {
          "output_type": "stream",
          "name": "stdout",
          "text": [
            "Accuracy: 0.14285714285714285\n"
          ]
        }
      ]
    },
    {
      "cell_type": "markdown",
      "source": [
        "###HSV"
      ],
      "metadata": {
        "id": "_Bqu-0vjx90Y"
      }
    },
    {
      "cell_type": "code",
      "source": [
        "clf30=xgb.XGBClassifier()"
      ],
      "metadata": {
        "id": "8mshw1E_lJCX"
      },
      "execution_count": 408,
      "outputs": []
    },
    {
      "cell_type": "code",
      "source": [
        "HSV_D3_Set2 = table_D3Set2.drop(['R-ref','G-ref','B-ref','R-Shad','G-Shad','B-Shad','Setting','Ref','Shad','Img'], axis=1)"
      ],
      "metadata": {
        "id": "Ivz7-0R-x90Y"
      },
      "execution_count": 409,
      "outputs": []
    },
    {
      "cell_type": "code",
      "source": [
        "HSV_D3_concat2 = RGB_D3_concat0.drop(['R-ref','G-ref','B-ref','R-Shad','G-Shad','B-Shad','Setting','Ref','Shad','Img'], axis=1)"
      ],
      "metadata": {
        "id": "qtZokQPJx90Y"
      },
      "execution_count": 410,
      "outputs": []
    },
    {
      "cell_type": "code",
      "source": [
        "X_test_D3_HSV = np.array(HSV_D3_Set2)"
      ],
      "metadata": {
        "id": "R3Z14S8Fx90Y"
      },
      "execution_count": 411,
      "outputs": []
    },
    {
      "cell_type": "code",
      "source": [
        "y_D3_HSV =  table_D3Set2.iloc[:,14:15]"
      ],
      "metadata": {
        "id": "kKyPj2eix90Y"
      },
      "execution_count": 412,
      "outputs": []
    },
    {
      "cell_type": "code",
      "source": [
        "y_test_D3_HSV = np.array(y_D3_RGB)"
      ],
      "metadata": {
        "id": "U1QiYDz0x90Y"
      },
      "execution_count": 413,
      "outputs": []
    },
    {
      "cell_type": "code",
      "source": [
        "X_train_D3_HSV = np.array(HSV_D3_concat2)"
      ],
      "metadata": {
        "id": "0e4tbRaOx90Z"
      },
      "execution_count": 414,
      "outputs": []
    },
    {
      "cell_type": "code",
      "source": [
        "y_train_D3HSV = RGB_D3_concat0.iloc[:,14:15]"
      ],
      "metadata": {
        "id": "xT5X846Tx90Z"
      },
      "execution_count": 415,
      "outputs": []
    },
    {
      "cell_type": "code",
      "source": [
        "y_train_D3_HSV = np.array(y_train_D3HSV)"
      ],
      "metadata": {
        "id": "cBdx2NTpx90Z"
      },
      "execution_count": 416,
      "outputs": []
    },
    {
      "cell_type": "code",
      "source": [
        "clf30.fit(X_train_D3_HSV, y_train_D3_HSV)"
      ],
      "metadata": {
        "colab": {
          "base_uri": "https://localhost:8080/"
        },
        "outputId": "314fd6b3-782a-4f76-f9cc-c9a5f0166dc2",
        "id": "0ltb0Lesx90Z"
      },
      "execution_count": 417,
      "outputs": [
        {
          "output_type": "stream",
          "name": "stderr",
          "text": [
            "/usr/local/lib/python3.7/dist-packages/sklearn/preprocessing/_label.py:98: DataConversionWarning: A column-vector y was passed when a 1d array was expected. Please change the shape of y to (n_samples, ), for example using ravel().\n",
            "  y = column_or_1d(y, warn=True)\n",
            "/usr/local/lib/python3.7/dist-packages/sklearn/preprocessing/_label.py:133: DataConversionWarning: A column-vector y was passed when a 1d array was expected. Please change the shape of y to (n_samples, ), for example using ravel().\n",
            "  y = column_or_1d(y, warn=True)\n"
          ]
        },
        {
          "output_type": "execute_result",
          "data": {
            "text/plain": [
              "XGBClassifier(objective='multi:softprob')"
            ]
          },
          "metadata": {},
          "execution_count": 417
        }
      ]
    },
    {
      "cell_type": "code",
      "source": [
        "y_pred_D3_HSV = clf30.predict(X_test_D3_HSV)"
      ],
      "metadata": {
        "id": "wC9RHVBHx90Z"
      },
      "execution_count": 418,
      "outputs": []
    },
    {
      "cell_type": "code",
      "source": [
        "print(\"Accuracy:\", metrics.accuracy_score(y_test_D3_HSV, y_pred_D3_HSV))"
      ],
      "metadata": {
        "colab": {
          "base_uri": "https://localhost:8080/"
        },
        "outputId": "4c0ddd27-2fa4-41d2-93ae-520437dc1806",
        "id": "EtzMQr1Rx90Z"
      },
      "execution_count": 419,
      "outputs": [
        {
          "output_type": "stream",
          "name": "stdout",
          "text": [
            "Accuracy: 0.06583850931677018\n"
          ]
        }
      ]
    },
    {
      "cell_type": "markdown",
      "source": [
        "##D4"
      ],
      "metadata": {
        "id": "WfcEm0A2x90Z"
      }
    },
    {
      "cell_type": "code",
      "source": [
        "table_D4Set1 = pd.read_excel(Set1 , sheet_name='D4_1')\n",
        "\n",
        "table_D4Set2 = pd.read_excel(Set2 , sheet_name='D4_2')\n",
        "\n",
        "table_D4Set3 = pd.read_excel(Set3 , sheet_name='D4_3')\n",
        "\n",
        "table_D4Set4 = pd.read_excel(Set4 , sheet_name='D4_4')\n",
        "\n",
        "table_D4Set6 = pd.read_excel(Set6 , sheet_name='D4_6')"
      ],
      "metadata": {
        "id": "mfacKr9gx90Z"
      },
      "execution_count": 420,
      "outputs": []
    },
    {
      "cell_type": "markdown",
      "source": [
        "###RGB"
      ],
      "metadata": {
        "id": "OkOW14TRx90a"
      }
    },
    {
      "cell_type": "code",
      "source": [
        "clf31=xgb.XGBClassifier()"
      ],
      "metadata": {
        "id": "wXFwMJmllMc5"
      },
      "execution_count": 421,
      "outputs": []
    },
    {
      "cell_type": "code",
      "source": [
        "RGB_D4_Set2 = table_D4Set2.drop(['H-ref','S-ref','V-ref','H-Shad','S-Shad','V-Shad','Setting','Ref','Shad','Img'], axis=1)"
      ],
      "metadata": {
        "id": "UZGgIrXtx90a"
      },
      "execution_count": 422,
      "outputs": []
    },
    {
      "cell_type": "code",
      "source": [
        "RGB_D4_Set1 = table_D4Set1\n",
        "\n",
        "RGB_D4_Set3 = table_D4Set3\n",
        "\n",
        "RGB_D4_Set4 = table_D4Set4\n",
        "\n",
        "RGB_D4_Set6 = table_D4Set6"
      ],
      "metadata": {
        "id": "Db0M9HHEx90a"
      },
      "execution_count": 423,
      "outputs": []
    },
    {
      "cell_type": "code",
      "source": [
        "RGB_D4_concat0 = pd.concat([RGB_D4_Set1,RGB_D4_Set3,RGB_D4_Set4,RGB_D4_Set6])"
      ],
      "metadata": {
        "id": "zNEyj719iaD0"
      },
      "execution_count": 424,
      "outputs": []
    },
    {
      "cell_type": "code",
      "source": [
        "RGB_D4_concat2 = RGB_D4_concat0.drop(['H-ref','S-ref','V-ref','H-Shad','S-Shad','V-Shad','Setting','Ref','Shad','Img'], axis=1)"
      ],
      "metadata": {
        "id": "Qr0VCTbfx90a"
      },
      "execution_count": 425,
      "outputs": []
    },
    {
      "cell_type": "code",
      "source": [
        "X_test_D4_RGB = np.array(RGB_D4_Set2)"
      ],
      "metadata": {
        "id": "qiwNlZdnx90a"
      },
      "execution_count": 426,
      "outputs": []
    },
    {
      "cell_type": "code",
      "source": [
        "y_D4_RGB =  table_D4Set2.iloc[:,14:15]"
      ],
      "metadata": {
        "id": "w_mnKAYqx90b"
      },
      "execution_count": 427,
      "outputs": []
    },
    {
      "cell_type": "code",
      "source": [
        "y_test_D4_RGB = np.array(y_D4_RGB)"
      ],
      "metadata": {
        "id": "UsLaGos7x90b"
      },
      "execution_count": 428,
      "outputs": []
    },
    {
      "cell_type": "code",
      "source": [
        "X_train_D4_RGB = np.array(RGB_D4_concat2)"
      ],
      "metadata": {
        "id": "Oc2f1-qOx90b"
      },
      "execution_count": 429,
      "outputs": []
    },
    {
      "cell_type": "code",
      "source": [
        "y_train_D4RGB = RGB_D4_concat0.iloc[:,14:15]"
      ],
      "metadata": {
        "id": "e8HcPMlLx90b"
      },
      "execution_count": 430,
      "outputs": []
    },
    {
      "cell_type": "code",
      "source": [
        "y_train_D4_RGB = np.array(y_train_D4RGB)"
      ],
      "metadata": {
        "id": "UYIfmfsqx90b"
      },
      "execution_count": 431,
      "outputs": []
    },
    {
      "cell_type": "code",
      "source": [
        "clf31.fit(X_train_D4_RGB, y_train_D4_RGB)"
      ],
      "metadata": {
        "colab": {
          "base_uri": "https://localhost:8080/"
        },
        "outputId": "13f0bf47-5f42-4919-ef97-c1533067041d",
        "id": "RNdH-4qhx90b"
      },
      "execution_count": 432,
      "outputs": [
        {
          "output_type": "stream",
          "name": "stderr",
          "text": [
            "/usr/local/lib/python3.7/dist-packages/sklearn/preprocessing/_label.py:98: DataConversionWarning: A column-vector y was passed when a 1d array was expected. Please change the shape of y to (n_samples, ), for example using ravel().\n",
            "  y = column_or_1d(y, warn=True)\n",
            "/usr/local/lib/python3.7/dist-packages/sklearn/preprocessing/_label.py:133: DataConversionWarning: A column-vector y was passed when a 1d array was expected. Please change the shape of y to (n_samples, ), for example using ravel().\n",
            "  y = column_or_1d(y, warn=True)\n"
          ]
        },
        {
          "output_type": "execute_result",
          "data": {
            "text/plain": [
              "XGBClassifier(objective='multi:softprob')"
            ]
          },
          "metadata": {},
          "execution_count": 432
        }
      ]
    },
    {
      "cell_type": "code",
      "source": [
        "y_pred_D4_RGB = clf31.predict(X_test_D4_RGB)"
      ],
      "metadata": {
        "id": "SJT4eRs7x90b"
      },
      "execution_count": 433,
      "outputs": []
    },
    {
      "cell_type": "code",
      "source": [
        "print(\"Accuracy:\", metrics.accuracy_score(y_test_D4_RGB, y_pred_D4_RGB))"
      ],
      "metadata": {
        "colab": {
          "base_uri": "https://localhost:8080/"
        },
        "outputId": "d21ee8f7-f881-497c-fb45-1546d4c5d602",
        "id": "oRxmkGWix90b"
      },
      "execution_count": 434,
      "outputs": [
        {
          "output_type": "stream",
          "name": "stdout",
          "text": [
            "Accuracy: 0.09888888888888889\n"
          ]
        }
      ]
    },
    {
      "cell_type": "markdown",
      "source": [
        "###HSV"
      ],
      "metadata": {
        "id": "0VkgTMm7x90b"
      }
    },
    {
      "cell_type": "code",
      "source": [
        "clf32=xgb.XGBClassifier()"
      ],
      "metadata": {
        "id": "u7NPha-ulO6j"
      },
      "execution_count": 435,
      "outputs": []
    },
    {
      "cell_type": "code",
      "source": [
        "HSV_D4_Set2 = table_D4Set2.drop(['R-ref','G-ref','B-ref','R-Shad','G-Shad','B-Shad','Setting','Ref','Shad','Img'], axis=1)"
      ],
      "metadata": {
        "id": "tKD0r_mJx90b"
      },
      "execution_count": 436,
      "outputs": []
    },
    {
      "cell_type": "code",
      "source": [
        "HSV_D4_concat2 = RGB_D4_concat0.drop(['R-ref','G-ref','B-ref','R-Shad','G-Shad','B-Shad','Setting','Ref','Shad','Img'], axis=1)"
      ],
      "metadata": {
        "id": "KVO7778mx90b"
      },
      "execution_count": 437,
      "outputs": []
    },
    {
      "cell_type": "code",
      "source": [
        "X_test_D4_HSV = np.array(HSV_D4_Set2)"
      ],
      "metadata": {
        "id": "MaqD7Q0Mx90c"
      },
      "execution_count": 438,
      "outputs": []
    },
    {
      "cell_type": "code",
      "source": [
        "y_D4_HSV =  table_D4Set2.iloc[:,14:15]"
      ],
      "metadata": {
        "id": "dlMZ82Gux90c"
      },
      "execution_count": 439,
      "outputs": []
    },
    {
      "cell_type": "code",
      "source": [
        "y_test_D4_HSV = np.array(y_D4_RGB)"
      ],
      "metadata": {
        "id": "eDET1Ylwx90c"
      },
      "execution_count": 440,
      "outputs": []
    },
    {
      "cell_type": "code",
      "source": [
        "X_train_D4_HSV = np.array(HSV_D4_concat2)"
      ],
      "metadata": {
        "id": "0z1Zhgkyx90c"
      },
      "execution_count": 441,
      "outputs": []
    },
    {
      "cell_type": "code",
      "source": [
        "y_train_D4HSV = RGB_D4_concat0.iloc[:,14:15]"
      ],
      "metadata": {
        "id": "DJhfv_Xyx90c"
      },
      "execution_count": 442,
      "outputs": []
    },
    {
      "cell_type": "code",
      "source": [
        "y_train_D4_HSV = np.array(y_train_D4HSV)"
      ],
      "metadata": {
        "id": "cTxbTKbFx90c"
      },
      "execution_count": 443,
      "outputs": []
    },
    {
      "cell_type": "code",
      "source": [
        "clf32.fit(X_train_D4_HSV, y_train_D4_HSV)"
      ],
      "metadata": {
        "colab": {
          "base_uri": "https://localhost:8080/"
        },
        "outputId": "ab30bff1-f0ce-4e7e-89a5-9253d29b4340",
        "id": "fzoR8Swyx90c"
      },
      "execution_count": 444,
      "outputs": [
        {
          "output_type": "stream",
          "name": "stderr",
          "text": [
            "/usr/local/lib/python3.7/dist-packages/sklearn/preprocessing/_label.py:98: DataConversionWarning: A column-vector y was passed when a 1d array was expected. Please change the shape of y to (n_samples, ), for example using ravel().\n",
            "  y = column_or_1d(y, warn=True)\n",
            "/usr/local/lib/python3.7/dist-packages/sklearn/preprocessing/_label.py:133: DataConversionWarning: A column-vector y was passed when a 1d array was expected. Please change the shape of y to (n_samples, ), for example using ravel().\n",
            "  y = column_or_1d(y, warn=True)\n"
          ]
        },
        {
          "output_type": "execute_result",
          "data": {
            "text/plain": [
              "XGBClassifier(objective='multi:softprob')"
            ]
          },
          "metadata": {},
          "execution_count": 444
        }
      ]
    },
    {
      "cell_type": "code",
      "source": [
        "y_pred_D4_HSV = clf32.predict(X_test_D4_HSV)"
      ],
      "metadata": {
        "id": "3u_OvejMx90c"
      },
      "execution_count": 445,
      "outputs": []
    },
    {
      "cell_type": "code",
      "source": [
        "print(\"Accuracy:\", metrics.accuracy_score(y_test_D4_HSV, y_pred_D4_HSV))"
      ],
      "metadata": {
        "colab": {
          "base_uri": "https://localhost:8080/"
        },
        "outputId": "8ed0e674-5262-4e63-9456-fd1ca111d413",
        "id": "5dgTtQASx90c"
      },
      "execution_count": 446,
      "outputs": [
        {
          "output_type": "stream",
          "name": "stdout",
          "text": [
            "Accuracy: 0.07111111111111111\n"
          ]
        }
      ]
    },
    {
      "cell_type": "markdown",
      "source": [
        "#Accuracy"
      ],
      "metadata": {
        "id": "DednIna6z9zF"
      }
    },
    {
      "cell_type": "markdown",
      "source": [
        "##RGB"
      ],
      "metadata": {
        "id": "txfn-5vSEQKK"
      }
    },
    {
      "cell_type": "code",
      "source": [
        "print(\"A1 มี Accuracy เท่ากับ:\", metrics.accuracy_score(y_test_A1_RGB, y_pred_A1_RGB))\n",
        "print(\"A2 มี Accuracy เท่ากับ:\", metrics.accuracy_score(y_test_A2_RGB, y_pred_A2_RGB))\n",
        "print(\"A3 มี Accuracy เท่ากับ:\", metrics.accuracy_score(y_test_A3_RGB, y_pred_A3_RGB))\n",
        "print(\"A3.5 มี Accuracy เท่ากับ:\", metrics.accuracy_score(y_test_A3_5_RGB, y_pred_A3_5_RGB))\n",
        "print(\"A4 มี Accuracy เท่ากับ:\", metrics.accuracy_score(y_test_A4_RGB, y_pred_A4_RGB))\n",
        "print(\"B1 มี Accuracy เท่ากับ:\", metrics.accuracy_score(y_test_B1_RGB, y_pred_B1_RGB))\n",
        "print(\"B2 มี Accuracy เท่ากับ:\", metrics.accuracy_score(y_test_B2_RGB, y_pred_B2_RGB))\n",
        "print(\"B3 มี Accuracy เท่ากับ:\", metrics.accuracy_score(y_test_B3_RGB, y_pred_B3_RGB))\n",
        "print(\"B4 มี Accuracy เท่ากับ:\", metrics.accuracy_score(y_test_B4_RGB, y_pred_B4_RGB))\n",
        "print(\"C1 มี Accuracy เท่ากับ:\", metrics.accuracy_score(y_test_C1_RGB, y_pred_C1_RGB))\n",
        "print(\"C2 มี Accuracy เท่ากับ:\", metrics.accuracy_score(y_test_C2_RGB, y_pred_C2_RGB))\n",
        "print(\"C3 มี Accuracy เท่ากับ:\", metrics.accuracy_score(y_test_C3_RGB, y_pred_C3_RGB))\n",
        "print(\"C4 มี Accuracy เท่ากับ:\", metrics.accuracy_score(y_test_C4_RGB, y_pred_C4_RGB))\n",
        "print(\"D2 มี Accuracy เท่ากับ:\", metrics.accuracy_score(y_test_D2_RGB, y_pred_D2_RGB))\n",
        "print(\"D3 มี Accuracy เท่ากับ:\", metrics.accuracy_score(y_test_D3_RGB, y_pred_D3_RGB))\n",
        "print(\"D4 มี Accuracy เท่ากับ:\", metrics.accuracy_score(y_test_D4_RGB, y_pred_D4_RGB))"
      ],
      "metadata": {
        "id": "gAmWj0Tl_8ra",
        "outputId": "4acadcc8-0e42-44c0-fdbd-5d5f2c80c77d",
        "colab": {
          "base_uri": "https://localhost:8080/"
        }
      },
      "execution_count": 447,
      "outputs": [
        {
          "output_type": "stream",
          "name": "stdout",
          "text": [
            "A1 มี Accuracy เท่ากับ: 0.10807453416149068\n",
            "A2 มี Accuracy เท่ากับ: 0.08941176470588236\n",
            "A3 มี Accuracy เท่ากับ: 0.09625\n",
            "A3.5 มี Accuracy เท่ากับ: 0.12625\n",
            "A4 มี Accuracy เท่ากับ: 0.0825\n",
            "B1 มี Accuracy เท่ากับ: 0.1391304347826087\n",
            "B2 มี Accuracy เท่ากับ: 0.084472049689441\n",
            "B3 มี Accuracy เท่ากับ: 0.09316770186335403\n",
            "B4 มี Accuracy เท่ากับ: 0.062111801242236024\n",
            "C1 มี Accuracy เท่ากับ: 0.12546583850931678\n",
            "C2 มี Accuracy เท่ากับ: 0.0906832298136646\n",
            "C3 มี Accuracy เท่ากับ: 0.12422360248447205\n",
            "C4 มี Accuracy เท่ากับ: 0.12919254658385093\n",
            "D2 มี Accuracy เท่ากับ: 0.1031055900621118\n",
            "D3 มี Accuracy เท่ากับ: 0.14285714285714285\n",
            "D4 มี Accuracy เท่ากับ: 0.09888888888888889\n"
          ]
        }
      ]
    },
    {
      "cell_type": "code",
      "source": [
        "RGB_AC_A1 = metrics.accuracy_score(y_test_A1_RGB, y_pred_A1_RGB)\n",
        "RGB_AC_A2 = metrics.accuracy_score(y_test_A2_RGB, y_pred_A2_RGB)\n",
        "RGB_AC_A3 = metrics.accuracy_score(y_test_A3_RGB, y_pred_A3_RGB)\n",
        "RGB_AC_A35 = metrics.accuracy_score(y_test_A3_5_RGB, y_pred_A3_5_RGB)\n",
        "RGB_AC_A4 = metrics.accuracy_score(y_test_A4_RGB, y_pred_A4_RGB)\n",
        "RGB_AC_B1 = metrics.accuracy_score(y_test_B1_RGB, y_pred_B1_RGB)\n",
        "RGB_AC_B2 = metrics.accuracy_score(y_test_B2_RGB, y_pred_B2_RGB)\n",
        "RGB_AC_B3 = metrics.accuracy_score(y_test_B3_RGB, y_pred_B3_RGB)\n",
        "RGB_AC_B4 = metrics.accuracy_score(y_test_B4_RGB, y_pred_B4_RGB)\n",
        "RGB_AC_C1 = metrics.accuracy_score(y_test_C1_RGB, y_pred_C1_RGB)\n",
        "RGB_AC_C2 = metrics.accuracy_score(y_test_C2_RGB, y_pred_C2_RGB)\n",
        "RGB_AC_C3 = metrics.accuracy_score(y_test_C3_RGB, y_pred_C3_RGB)\n",
        "RGB_AC_C4 = metrics.accuracy_score(y_test_C4_RGB, y_pred_C4_RGB)\n",
        "RGB_AC_D2 = metrics.accuracy_score(y_test_D2_RGB, y_pred_D2_RGB)\n",
        "RGB_AC_D3 = metrics.accuracy_score(y_test_D3_RGB, y_pred_D3_RGB)\n",
        "RGB_AC_D4 = metrics.accuracy_score(y_test_D4_RGB, y_pred_D4_RGB)"
      ],
      "metadata": {
        "id": "SKekL9nlGV8F"
      },
      "execution_count": 448,
      "outputs": []
    },
    {
      "cell_type": "code",
      "source": [
        "RGB_AC =  (RGB_AC_A1,RGB_AC_A2,RGB_AC_A3,RGB_AC_A35,\n",
        "           RGB_AC_A4,RGB_AC_B1,RGB_AC_B2,RGB_AC_B3,\n",
        "           RGB_AC_B4,RGB_AC_C1,RGB_AC_C2,RGB_AC_C3,\n",
        "           RGB_AC_C4,RGB_AC_D2,RGB_AC_D3,RGB_AC_D4)"
      ],
      "metadata": {
        "id": "jc2gn4qTIzA0"
      },
      "execution_count": 449,
      "outputs": []
    },
    {
      "cell_type": "code",
      "source": [
        "RGB_AC"
      ],
      "metadata": {
        "id": "IvdezR2JJ6Qm",
        "outputId": "d8610df7-8fc5-4785-c5f4-53c391ff7d8a",
        "colab": {
          "base_uri": "https://localhost:8080/"
        }
      },
      "execution_count": 450,
      "outputs": [
        {
          "output_type": "execute_result",
          "data": {
            "text/plain": [
              "(0.10807453416149068,\n",
              " 0.08941176470588236,\n",
              " 0.09625,\n",
              " 0.12625,\n",
              " 0.0825,\n",
              " 0.1391304347826087,\n",
              " 0.084472049689441,\n",
              " 0.09316770186335403,\n",
              " 0.062111801242236024,\n",
              " 0.12546583850931678,\n",
              " 0.0906832298136646,\n",
              " 0.12422360248447205,\n",
              " 0.12919254658385093,\n",
              " 0.1031055900621118,\n",
              " 0.14285714285714285,\n",
              " 0.09888888888888889)"
            ]
          },
          "metadata": {},
          "execution_count": 450
        }
      ]
    },
    {
      "cell_type": "code",
      "source": [
        "list_RGB_AC = list()\n",
        "list_RGB_AC.append(RGB_AC)"
      ],
      "metadata": {
        "id": "bPnGIzXNHJI1"
      },
      "execution_count": 451,
      "outputs": []
    },
    {
      "cell_type": "code",
      "source": [
        "Cols = ['Set2_rgb'] \n",
        "S1_1 = pd.DataFrame(RGB_AC,columns= Cols)\n",
        "S1_1"
      ],
      "metadata": {
        "id": "YcC_W6BVMaip",
        "outputId": "b4d48649-cad5-49fb-cca3-032913638be6",
        "colab": {
          "base_uri": "https://localhost:8080/",
          "height": 0
        }
      },
      "execution_count": 452,
      "outputs": [
        {
          "output_type": "execute_result",
          "data": {
            "text/plain": [
              "    Set2_rgb\n",
              "0   0.108075\n",
              "1   0.089412\n",
              "2   0.096250\n",
              "3   0.126250\n",
              "4   0.082500\n",
              "5   0.139130\n",
              "6   0.084472\n",
              "7   0.093168\n",
              "8   0.062112\n",
              "9   0.125466\n",
              "10  0.090683\n",
              "11  0.124224\n",
              "12  0.129193\n",
              "13  0.103106\n",
              "14  0.142857\n",
              "15  0.098889"
            ],
            "text/html": [
              "\n",
              "  <div id=\"df-b6bb27d1-1c7c-44e0-98f5-56f574a589e9\">\n",
              "    <div class=\"colab-df-container\">\n",
              "      <div>\n",
              "<style scoped>\n",
              "    .dataframe tbody tr th:only-of-type {\n",
              "        vertical-align: middle;\n",
              "    }\n",
              "\n",
              "    .dataframe tbody tr th {\n",
              "        vertical-align: top;\n",
              "    }\n",
              "\n",
              "    .dataframe thead th {\n",
              "        text-align: right;\n",
              "    }\n",
              "</style>\n",
              "<table border=\"1\" class=\"dataframe\">\n",
              "  <thead>\n",
              "    <tr style=\"text-align: right;\">\n",
              "      <th></th>\n",
              "      <th>Set2_rgb</th>\n",
              "    </tr>\n",
              "  </thead>\n",
              "  <tbody>\n",
              "    <tr>\n",
              "      <th>0</th>\n",
              "      <td>0.108075</td>\n",
              "    </tr>\n",
              "    <tr>\n",
              "      <th>1</th>\n",
              "      <td>0.089412</td>\n",
              "    </tr>\n",
              "    <tr>\n",
              "      <th>2</th>\n",
              "      <td>0.096250</td>\n",
              "    </tr>\n",
              "    <tr>\n",
              "      <th>3</th>\n",
              "      <td>0.126250</td>\n",
              "    </tr>\n",
              "    <tr>\n",
              "      <th>4</th>\n",
              "      <td>0.082500</td>\n",
              "    </tr>\n",
              "    <tr>\n",
              "      <th>5</th>\n",
              "      <td>0.139130</td>\n",
              "    </tr>\n",
              "    <tr>\n",
              "      <th>6</th>\n",
              "      <td>0.084472</td>\n",
              "    </tr>\n",
              "    <tr>\n",
              "      <th>7</th>\n",
              "      <td>0.093168</td>\n",
              "    </tr>\n",
              "    <tr>\n",
              "      <th>8</th>\n",
              "      <td>0.062112</td>\n",
              "    </tr>\n",
              "    <tr>\n",
              "      <th>9</th>\n",
              "      <td>0.125466</td>\n",
              "    </tr>\n",
              "    <tr>\n",
              "      <th>10</th>\n",
              "      <td>0.090683</td>\n",
              "    </tr>\n",
              "    <tr>\n",
              "      <th>11</th>\n",
              "      <td>0.124224</td>\n",
              "    </tr>\n",
              "    <tr>\n",
              "      <th>12</th>\n",
              "      <td>0.129193</td>\n",
              "    </tr>\n",
              "    <tr>\n",
              "      <th>13</th>\n",
              "      <td>0.103106</td>\n",
              "    </tr>\n",
              "    <tr>\n",
              "      <th>14</th>\n",
              "      <td>0.142857</td>\n",
              "    </tr>\n",
              "    <tr>\n",
              "      <th>15</th>\n",
              "      <td>0.098889</td>\n",
              "    </tr>\n",
              "  </tbody>\n",
              "</table>\n",
              "</div>\n",
              "      <button class=\"colab-df-convert\" onclick=\"convertToInteractive('df-b6bb27d1-1c7c-44e0-98f5-56f574a589e9')\"\n",
              "              title=\"Convert this dataframe to an interactive table.\"\n",
              "              style=\"display:none;\">\n",
              "        \n",
              "  <svg xmlns=\"http://www.w3.org/2000/svg\" height=\"24px\"viewBox=\"0 0 24 24\"\n",
              "       width=\"24px\">\n",
              "    <path d=\"M0 0h24v24H0V0z\" fill=\"none\"/>\n",
              "    <path d=\"M18.56 5.44l.94 2.06.94-2.06 2.06-.94-2.06-.94-.94-2.06-.94 2.06-2.06.94zm-11 1L8.5 8.5l.94-2.06 2.06-.94-2.06-.94L8.5 2.5l-.94 2.06-2.06.94zm10 10l.94 2.06.94-2.06 2.06-.94-2.06-.94-.94-2.06-.94 2.06-2.06.94z\"/><path d=\"M17.41 7.96l-1.37-1.37c-.4-.4-.92-.59-1.43-.59-.52 0-1.04.2-1.43.59L10.3 9.45l-7.72 7.72c-.78.78-.78 2.05 0 2.83L4 21.41c.39.39.9.59 1.41.59.51 0 1.02-.2 1.41-.59l7.78-7.78 2.81-2.81c.8-.78.8-2.07 0-2.86zM5.41 20L4 18.59l7.72-7.72 1.47 1.35L5.41 20z\"/>\n",
              "  </svg>\n",
              "      </button>\n",
              "      \n",
              "  <style>\n",
              "    .colab-df-container {\n",
              "      display:flex;\n",
              "      flex-wrap:wrap;\n",
              "      gap: 12px;\n",
              "    }\n",
              "\n",
              "    .colab-df-convert {\n",
              "      background-color: #E8F0FE;\n",
              "      border: none;\n",
              "      border-radius: 50%;\n",
              "      cursor: pointer;\n",
              "      display: none;\n",
              "      fill: #1967D2;\n",
              "      height: 32px;\n",
              "      padding: 0 0 0 0;\n",
              "      width: 32px;\n",
              "    }\n",
              "\n",
              "    .colab-df-convert:hover {\n",
              "      background-color: #E2EBFA;\n",
              "      box-shadow: 0px 1px 2px rgba(60, 64, 67, 0.3), 0px 1px 3px 1px rgba(60, 64, 67, 0.15);\n",
              "      fill: #174EA6;\n",
              "    }\n",
              "\n",
              "    [theme=dark] .colab-df-convert {\n",
              "      background-color: #3B4455;\n",
              "      fill: #D2E3FC;\n",
              "    }\n",
              "\n",
              "    [theme=dark] .colab-df-convert:hover {\n",
              "      background-color: #434B5C;\n",
              "      box-shadow: 0px 1px 3px 1px rgba(0, 0, 0, 0.15);\n",
              "      filter: drop-shadow(0px 1px 2px rgba(0, 0, 0, 0.3));\n",
              "      fill: #FFFFFF;\n",
              "    }\n",
              "  </style>\n",
              "\n",
              "      <script>\n",
              "        const buttonEl =\n",
              "          document.querySelector('#df-b6bb27d1-1c7c-44e0-98f5-56f574a589e9 button.colab-df-convert');\n",
              "        buttonEl.style.display =\n",
              "          google.colab.kernel.accessAllowed ? 'block' : 'none';\n",
              "\n",
              "        async function convertToInteractive(key) {\n",
              "          const element = document.querySelector('#df-b6bb27d1-1c7c-44e0-98f5-56f574a589e9');\n",
              "          const dataTable =\n",
              "            await google.colab.kernel.invokeFunction('convertToInteractive',\n",
              "                                                     [key], {});\n",
              "          if (!dataTable) return;\n",
              "\n",
              "          const docLinkHtml = 'Like what you see? Visit the ' +\n",
              "            '<a target=\"_blank\" href=https://colab.research.google.com/notebooks/data_table.ipynb>data table notebook</a>'\n",
              "            + ' to learn more about interactive tables.';\n",
              "          element.innerHTML = '';\n",
              "          dataTable['output_type'] = 'display_data';\n",
              "          await google.colab.output.renderOutput(dataTable, element);\n",
              "          const docLink = document.createElement('div');\n",
              "          docLink.innerHTML = docLinkHtml;\n",
              "          element.appendChild(docLink);\n",
              "        }\n",
              "      </script>\n",
              "    </div>\n",
              "  </div>\n",
              "  "
            ]
          },
          "metadata": {},
          "execution_count": 452
        }
      ]
    },
    {
      "cell_type": "markdown",
      "source": [
        "##HSV"
      ],
      "metadata": {
        "id": "F2CX4hhnEhIA"
      }
    },
    {
      "cell_type": "code",
      "source": [
        "print(\"A1 มี Accuracy เท่ากับ:\", metrics.accuracy_score(y_test_A1_HSV, y_pred_A1_HSV))\n",
        "print(\"A2 มี Accuracy เท่ากับ:\", metrics.accuracy_score(y_test_A2_HSV, y_pred_A2_HSV))\n",
        "print(\"A3 มี Accuracy เท่ากับ:\", metrics.accuracy_score(y_test_A3_HSV, y_pred_A3_HSV))\n",
        "print(\"A3.5 มี Accuracy เท่ากับ:\", metrics.accuracy_score(y_test_A3_5_HSV, y_pred_A3_5_HSV))\n",
        "print(\"A4 มี Accuracy เท่ากับ:\", metrics.accuracy_score(y_test_A4_HSV, y_pred_A4_HSV))\n",
        "print(\"B1 มี Accuracy เท่ากับ:\", metrics.accuracy_score(y_test_B1_HSV, y_pred_B1_HSV))\n",
        "print(\"B2 มี Accuracy เท่ากับ:\", metrics.accuracy_score(y_test_B2_HSV, y_pred_B2_HSV))\n",
        "print(\"B3 มี Accuracy เท่ากับ:\", metrics.accuracy_score(y_test_B3_HSV, y_pred_B3_HSV))\n",
        "print(\"B4 มี Accuracy เท่ากับ:\", metrics.accuracy_score(y_test_B4_HSV, y_pred_B4_HSV))\n",
        "print(\"C1 มี Accuracy เท่ากับ:\", metrics.accuracy_score(y_test_C1_HSV, y_pred_C1_HSV))\n",
        "print(\"C2 มี Accuracy เท่ากับ:\", metrics.accuracy_score(y_test_C2_HSV, y_pred_C2_HSV))\n",
        "print(\"C3 มี Accuracy เท่ากับ:\", metrics.accuracy_score(y_test_C3_HSV, y_pred_C3_HSV))\n",
        "print(\"C4 มี Accuracy เท่ากับ:\", metrics.accuracy_score(y_test_C4_HSV, y_pred_C4_HSV))\n",
        "print(\"D2 มี Accuracy เท่ากับ:\", metrics.accuracy_score(y_test_D2_HSV, y_pred_D2_HSV))\n",
        "print(\"D3 มี Accuracy เท่ากับ:\", metrics.accuracy_score(y_test_D3_HSV, y_pred_D3_HSV))\n",
        "print(\"D4 มี Accuracy เท่ากับ:\", metrics.accuracy_score(y_test_D4_HSV, y_pred_D4_HSV))"
      ],
      "metadata": {
        "id": "NofOkqvcEKnU",
        "outputId": "12541d14-cb87-4d56-b507-6bca26619e40",
        "colab": {
          "base_uri": "https://localhost:8080/"
        }
      },
      "execution_count": 453,
      "outputs": [
        {
          "output_type": "stream",
          "name": "stdout",
          "text": [
            "A1 มี Accuracy เท่ากับ: 0.12298136645962733\n",
            "A2 มี Accuracy เท่ากับ: 0.11764705882352941\n",
            "A3 มี Accuracy เท่ากับ: 0.12375\n",
            "A3.5 มี Accuracy เท่ากับ: 0.1225\n",
            "A4 มี Accuracy เท่ากับ: 0.1275\n",
            "B1 มี Accuracy เท่ากับ: 0.08322981366459627\n",
            "B2 มี Accuracy เท่ากับ: 0.1267080745341615\n",
            "B3 มี Accuracy เท่ากับ: 0.08571428571428572\n",
            "B4 มี Accuracy เท่ากับ: 0.12049689440993788\n",
            "C1 มี Accuracy เท่ากับ: 0.07329192546583851\n",
            "C2 มี Accuracy เท่ากับ: 0.1391304347826087\n",
            "C3 มี Accuracy เท่ากับ: 0.062111801242236024\n",
            "C4 มี Accuracy เท่ากับ: 0.06086956521739131\n",
            "D2 มี Accuracy เท่ากับ: 0.13664596273291926\n",
            "D3 มี Accuracy เท่ากับ: 0.06583850931677018\n",
            "D4 มี Accuracy เท่ากับ: 0.07111111111111111\n"
          ]
        }
      ]
    },
    {
      "cell_type": "code",
      "source": [
        "HSV_AC_A1 = metrics.accuracy_score(y_test_A1_HSV, y_pred_A1_HSV)\n",
        "HSV_AC_A2 = metrics.accuracy_score(y_test_A2_HSV, y_pred_A2_HSV)\n",
        "HSV_AC_A3 = metrics.accuracy_score(y_test_A3_HSV, y_pred_A3_HSV)\n",
        "HSV_AC_A35 = metrics.accuracy_score(y_test_A3_5_HSV, y_pred_A3_5_HSV)\n",
        "HSV_AC_A4 = metrics.accuracy_score(y_test_A4_HSV, y_pred_A4_HSV)\n",
        "HSV_AC_B1 = metrics.accuracy_score(y_test_B1_HSV, y_pred_B1_HSV)\n",
        "HSV_AC_B2 = metrics.accuracy_score(y_test_B2_HSV, y_pred_B2_HSV)\n",
        "HSV_AC_B3 = metrics.accuracy_score(y_test_B3_HSV, y_pred_B3_HSV)\n",
        "HSV_AC_B4 = metrics.accuracy_score(y_test_B4_HSV, y_pred_B4_HSV)\n",
        "HSV_AC_C1 = metrics.accuracy_score(y_test_C1_HSV, y_pred_C1_HSV)\n",
        "HSV_AC_C2 = metrics.accuracy_score(y_test_C2_HSV, y_pred_C2_HSV)\n",
        "HSV_AC_C3 = metrics.accuracy_score(y_test_C3_HSV, y_pred_C3_HSV)\n",
        "HSV_AC_C4 = metrics.accuracy_score(y_test_C4_HSV, y_pred_C4_HSV)\n",
        "HSV_AC_D2 = metrics.accuracy_score(y_test_D2_HSV, y_pred_D2_HSV)\n",
        "HSV_AC_D3 = metrics.accuracy_score(y_test_D3_HSV, y_pred_D3_HSV)\n",
        "HSV_AC_D4 = metrics.accuracy_score(y_test_D4_HSV, y_pred_D4_HSV)"
      ],
      "metadata": {
        "id": "9ZyVXRHMN8Xl"
      },
      "execution_count": 454,
      "outputs": []
    },
    {
      "cell_type": "code",
      "source": [
        "HSV_AC =  (HSV_AC_A1,HSV_AC_A2,HSV_AC_A3,HSV_AC_A35,\n",
        "           HSV_AC_A4,HSV_AC_B1,HSV_AC_B2,HSV_AC_B3,\n",
        "           HSV_AC_B4,HSV_AC_C1,HSV_AC_C2,HSV_AC_C3,\n",
        "           HSV_AC_C4,HSV_AC_D2,HSV_AC_D3,HSV_AC_D4)"
      ],
      "metadata": {
        "id": "rAkegsftOXus"
      },
      "execution_count": 455,
      "outputs": []
    },
    {
      "cell_type": "code",
      "source": [
        "list_HSV_AC = list()\n",
        "list_HSV_AC.append(RGB_AC)"
      ],
      "metadata": {
        "id": "8443LJWwOgpa"
      },
      "execution_count": 456,
      "outputs": []
    },
    {
      "cell_type": "code",
      "source": [
        "Cols = ['Set2_hsv'] \n",
        "S1_2 = pd.DataFrame(HSV_AC,columns= Cols)\n",
        "S1_2"
      ],
      "metadata": {
        "id": "3pnOMEAjOit-",
        "outputId": "50a7e7fe-a672-4267-ed69-450ecd568655",
        "colab": {
          "base_uri": "https://localhost:8080/",
          "height": 0
        }
      },
      "execution_count": 457,
      "outputs": [
        {
          "output_type": "execute_result",
          "data": {
            "text/plain": [
              "    Set2_hsv\n",
              "0   0.122981\n",
              "1   0.117647\n",
              "2   0.123750\n",
              "3   0.122500\n",
              "4   0.127500\n",
              "5   0.083230\n",
              "6   0.126708\n",
              "7   0.085714\n",
              "8   0.120497\n",
              "9   0.073292\n",
              "10  0.139130\n",
              "11  0.062112\n",
              "12  0.060870\n",
              "13  0.136646\n",
              "14  0.065839\n",
              "15  0.071111"
            ],
            "text/html": [
              "\n",
              "  <div id=\"df-74a61466-67bf-4ad2-9437-9b5b9c6b093a\">\n",
              "    <div class=\"colab-df-container\">\n",
              "      <div>\n",
              "<style scoped>\n",
              "    .dataframe tbody tr th:only-of-type {\n",
              "        vertical-align: middle;\n",
              "    }\n",
              "\n",
              "    .dataframe tbody tr th {\n",
              "        vertical-align: top;\n",
              "    }\n",
              "\n",
              "    .dataframe thead th {\n",
              "        text-align: right;\n",
              "    }\n",
              "</style>\n",
              "<table border=\"1\" class=\"dataframe\">\n",
              "  <thead>\n",
              "    <tr style=\"text-align: right;\">\n",
              "      <th></th>\n",
              "      <th>Set2_hsv</th>\n",
              "    </tr>\n",
              "  </thead>\n",
              "  <tbody>\n",
              "    <tr>\n",
              "      <th>0</th>\n",
              "      <td>0.122981</td>\n",
              "    </tr>\n",
              "    <tr>\n",
              "      <th>1</th>\n",
              "      <td>0.117647</td>\n",
              "    </tr>\n",
              "    <tr>\n",
              "      <th>2</th>\n",
              "      <td>0.123750</td>\n",
              "    </tr>\n",
              "    <tr>\n",
              "      <th>3</th>\n",
              "      <td>0.122500</td>\n",
              "    </tr>\n",
              "    <tr>\n",
              "      <th>4</th>\n",
              "      <td>0.127500</td>\n",
              "    </tr>\n",
              "    <tr>\n",
              "      <th>5</th>\n",
              "      <td>0.083230</td>\n",
              "    </tr>\n",
              "    <tr>\n",
              "      <th>6</th>\n",
              "      <td>0.126708</td>\n",
              "    </tr>\n",
              "    <tr>\n",
              "      <th>7</th>\n",
              "      <td>0.085714</td>\n",
              "    </tr>\n",
              "    <tr>\n",
              "      <th>8</th>\n",
              "      <td>0.120497</td>\n",
              "    </tr>\n",
              "    <tr>\n",
              "      <th>9</th>\n",
              "      <td>0.073292</td>\n",
              "    </tr>\n",
              "    <tr>\n",
              "      <th>10</th>\n",
              "      <td>0.139130</td>\n",
              "    </tr>\n",
              "    <tr>\n",
              "      <th>11</th>\n",
              "      <td>0.062112</td>\n",
              "    </tr>\n",
              "    <tr>\n",
              "      <th>12</th>\n",
              "      <td>0.060870</td>\n",
              "    </tr>\n",
              "    <tr>\n",
              "      <th>13</th>\n",
              "      <td>0.136646</td>\n",
              "    </tr>\n",
              "    <tr>\n",
              "      <th>14</th>\n",
              "      <td>0.065839</td>\n",
              "    </tr>\n",
              "    <tr>\n",
              "      <th>15</th>\n",
              "      <td>0.071111</td>\n",
              "    </tr>\n",
              "  </tbody>\n",
              "</table>\n",
              "</div>\n",
              "      <button class=\"colab-df-convert\" onclick=\"convertToInteractive('df-74a61466-67bf-4ad2-9437-9b5b9c6b093a')\"\n",
              "              title=\"Convert this dataframe to an interactive table.\"\n",
              "              style=\"display:none;\">\n",
              "        \n",
              "  <svg xmlns=\"http://www.w3.org/2000/svg\" height=\"24px\"viewBox=\"0 0 24 24\"\n",
              "       width=\"24px\">\n",
              "    <path d=\"M0 0h24v24H0V0z\" fill=\"none\"/>\n",
              "    <path d=\"M18.56 5.44l.94 2.06.94-2.06 2.06-.94-2.06-.94-.94-2.06-.94 2.06-2.06.94zm-11 1L8.5 8.5l.94-2.06 2.06-.94-2.06-.94L8.5 2.5l-.94 2.06-2.06.94zm10 10l.94 2.06.94-2.06 2.06-.94-2.06-.94-.94-2.06-.94 2.06-2.06.94z\"/><path d=\"M17.41 7.96l-1.37-1.37c-.4-.4-.92-.59-1.43-.59-.52 0-1.04.2-1.43.59L10.3 9.45l-7.72 7.72c-.78.78-.78 2.05 0 2.83L4 21.41c.39.39.9.59 1.41.59.51 0 1.02-.2 1.41-.59l7.78-7.78 2.81-2.81c.8-.78.8-2.07 0-2.86zM5.41 20L4 18.59l7.72-7.72 1.47 1.35L5.41 20z\"/>\n",
              "  </svg>\n",
              "      </button>\n",
              "      \n",
              "  <style>\n",
              "    .colab-df-container {\n",
              "      display:flex;\n",
              "      flex-wrap:wrap;\n",
              "      gap: 12px;\n",
              "    }\n",
              "\n",
              "    .colab-df-convert {\n",
              "      background-color: #E8F0FE;\n",
              "      border: none;\n",
              "      border-radius: 50%;\n",
              "      cursor: pointer;\n",
              "      display: none;\n",
              "      fill: #1967D2;\n",
              "      height: 32px;\n",
              "      padding: 0 0 0 0;\n",
              "      width: 32px;\n",
              "    }\n",
              "\n",
              "    .colab-df-convert:hover {\n",
              "      background-color: #E2EBFA;\n",
              "      box-shadow: 0px 1px 2px rgba(60, 64, 67, 0.3), 0px 1px 3px 1px rgba(60, 64, 67, 0.15);\n",
              "      fill: #174EA6;\n",
              "    }\n",
              "\n",
              "    [theme=dark] .colab-df-convert {\n",
              "      background-color: #3B4455;\n",
              "      fill: #D2E3FC;\n",
              "    }\n",
              "\n",
              "    [theme=dark] .colab-df-convert:hover {\n",
              "      background-color: #434B5C;\n",
              "      box-shadow: 0px 1px 3px 1px rgba(0, 0, 0, 0.15);\n",
              "      filter: drop-shadow(0px 1px 2px rgba(0, 0, 0, 0.3));\n",
              "      fill: #FFFFFF;\n",
              "    }\n",
              "  </style>\n",
              "\n",
              "      <script>\n",
              "        const buttonEl =\n",
              "          document.querySelector('#df-74a61466-67bf-4ad2-9437-9b5b9c6b093a button.colab-df-convert');\n",
              "        buttonEl.style.display =\n",
              "          google.colab.kernel.accessAllowed ? 'block' : 'none';\n",
              "\n",
              "        async function convertToInteractive(key) {\n",
              "          const element = document.querySelector('#df-74a61466-67bf-4ad2-9437-9b5b9c6b093a');\n",
              "          const dataTable =\n",
              "            await google.colab.kernel.invokeFunction('convertToInteractive',\n",
              "                                                     [key], {});\n",
              "          if (!dataTable) return;\n",
              "\n",
              "          const docLinkHtml = 'Like what you see? Visit the ' +\n",
              "            '<a target=\"_blank\" href=https://colab.research.google.com/notebooks/data_table.ipynb>data table notebook</a>'\n",
              "            + ' to learn more about interactive tables.';\n",
              "          element.innerHTML = '';\n",
              "          dataTable['output_type'] = 'display_data';\n",
              "          await google.colab.output.renderOutput(dataTable, element);\n",
              "          const docLink = document.createElement('div');\n",
              "          docLink.innerHTML = docLinkHtml;\n",
              "          element.appendChild(docLink);\n",
              "        }\n",
              "      </script>\n",
              "    </div>\n",
              "  </div>\n",
              "  "
            ]
          },
          "metadata": {},
          "execution_count": 457
        }
      ]
    },
    {
      "cell_type": "code",
      "source": [
        "name =  ('A1','A2','A3','A3.5','A4','B1','B2','B3','B4','C1','C2','C3','C4','D2','D3','D4')"
      ],
      "metadata": {
        "id": "RLPR4uP5O8M2"
      },
      "execution_count": 458,
      "outputs": []
    },
    {
      "cell_type": "code",
      "source": [
        "Cols = ['shade'] \n",
        "S1_3 = pd.DataFrame(name,columns= Cols)\n",
        "S1_3"
      ],
      "metadata": {
        "id": "0MbXQK16PW33",
        "outputId": "35a4a15e-2b91-4677-e72b-e26992eeb305",
        "colab": {
          "base_uri": "https://localhost:8080/",
          "height": 0
        }
      },
      "execution_count": 459,
      "outputs": [
        {
          "output_type": "execute_result",
          "data": {
            "text/plain": [
              "   shade\n",
              "0     A1\n",
              "1     A2\n",
              "2     A3\n",
              "3   A3.5\n",
              "4     A4\n",
              "5     B1\n",
              "6     B2\n",
              "7     B3\n",
              "8     B4\n",
              "9     C1\n",
              "10    C2\n",
              "11    C3\n",
              "12    C4\n",
              "13    D2\n",
              "14    D3\n",
              "15    D4"
            ],
            "text/html": [
              "\n",
              "  <div id=\"df-7a74dd4a-b4f5-44fa-80c2-51aaaeb149ef\">\n",
              "    <div class=\"colab-df-container\">\n",
              "      <div>\n",
              "<style scoped>\n",
              "    .dataframe tbody tr th:only-of-type {\n",
              "        vertical-align: middle;\n",
              "    }\n",
              "\n",
              "    .dataframe tbody tr th {\n",
              "        vertical-align: top;\n",
              "    }\n",
              "\n",
              "    .dataframe thead th {\n",
              "        text-align: right;\n",
              "    }\n",
              "</style>\n",
              "<table border=\"1\" class=\"dataframe\">\n",
              "  <thead>\n",
              "    <tr style=\"text-align: right;\">\n",
              "      <th></th>\n",
              "      <th>shade</th>\n",
              "    </tr>\n",
              "  </thead>\n",
              "  <tbody>\n",
              "    <tr>\n",
              "      <th>0</th>\n",
              "      <td>A1</td>\n",
              "    </tr>\n",
              "    <tr>\n",
              "      <th>1</th>\n",
              "      <td>A2</td>\n",
              "    </tr>\n",
              "    <tr>\n",
              "      <th>2</th>\n",
              "      <td>A3</td>\n",
              "    </tr>\n",
              "    <tr>\n",
              "      <th>3</th>\n",
              "      <td>A3.5</td>\n",
              "    </tr>\n",
              "    <tr>\n",
              "      <th>4</th>\n",
              "      <td>A4</td>\n",
              "    </tr>\n",
              "    <tr>\n",
              "      <th>5</th>\n",
              "      <td>B1</td>\n",
              "    </tr>\n",
              "    <tr>\n",
              "      <th>6</th>\n",
              "      <td>B2</td>\n",
              "    </tr>\n",
              "    <tr>\n",
              "      <th>7</th>\n",
              "      <td>B3</td>\n",
              "    </tr>\n",
              "    <tr>\n",
              "      <th>8</th>\n",
              "      <td>B4</td>\n",
              "    </tr>\n",
              "    <tr>\n",
              "      <th>9</th>\n",
              "      <td>C1</td>\n",
              "    </tr>\n",
              "    <tr>\n",
              "      <th>10</th>\n",
              "      <td>C2</td>\n",
              "    </tr>\n",
              "    <tr>\n",
              "      <th>11</th>\n",
              "      <td>C3</td>\n",
              "    </tr>\n",
              "    <tr>\n",
              "      <th>12</th>\n",
              "      <td>C4</td>\n",
              "    </tr>\n",
              "    <tr>\n",
              "      <th>13</th>\n",
              "      <td>D2</td>\n",
              "    </tr>\n",
              "    <tr>\n",
              "      <th>14</th>\n",
              "      <td>D3</td>\n",
              "    </tr>\n",
              "    <tr>\n",
              "      <th>15</th>\n",
              "      <td>D4</td>\n",
              "    </tr>\n",
              "  </tbody>\n",
              "</table>\n",
              "</div>\n",
              "      <button class=\"colab-df-convert\" onclick=\"convertToInteractive('df-7a74dd4a-b4f5-44fa-80c2-51aaaeb149ef')\"\n",
              "              title=\"Convert this dataframe to an interactive table.\"\n",
              "              style=\"display:none;\">\n",
              "        \n",
              "  <svg xmlns=\"http://www.w3.org/2000/svg\" height=\"24px\"viewBox=\"0 0 24 24\"\n",
              "       width=\"24px\">\n",
              "    <path d=\"M0 0h24v24H0V0z\" fill=\"none\"/>\n",
              "    <path d=\"M18.56 5.44l.94 2.06.94-2.06 2.06-.94-2.06-.94-.94-2.06-.94 2.06-2.06.94zm-11 1L8.5 8.5l.94-2.06 2.06-.94-2.06-.94L8.5 2.5l-.94 2.06-2.06.94zm10 10l.94 2.06.94-2.06 2.06-.94-2.06-.94-.94-2.06-.94 2.06-2.06.94z\"/><path d=\"M17.41 7.96l-1.37-1.37c-.4-.4-.92-.59-1.43-.59-.52 0-1.04.2-1.43.59L10.3 9.45l-7.72 7.72c-.78.78-.78 2.05 0 2.83L4 21.41c.39.39.9.59 1.41.59.51 0 1.02-.2 1.41-.59l7.78-7.78 2.81-2.81c.8-.78.8-2.07 0-2.86zM5.41 20L4 18.59l7.72-7.72 1.47 1.35L5.41 20z\"/>\n",
              "  </svg>\n",
              "      </button>\n",
              "      \n",
              "  <style>\n",
              "    .colab-df-container {\n",
              "      display:flex;\n",
              "      flex-wrap:wrap;\n",
              "      gap: 12px;\n",
              "    }\n",
              "\n",
              "    .colab-df-convert {\n",
              "      background-color: #E8F0FE;\n",
              "      border: none;\n",
              "      border-radius: 50%;\n",
              "      cursor: pointer;\n",
              "      display: none;\n",
              "      fill: #1967D2;\n",
              "      height: 32px;\n",
              "      padding: 0 0 0 0;\n",
              "      width: 32px;\n",
              "    }\n",
              "\n",
              "    .colab-df-convert:hover {\n",
              "      background-color: #E2EBFA;\n",
              "      box-shadow: 0px 1px 2px rgba(60, 64, 67, 0.3), 0px 1px 3px 1px rgba(60, 64, 67, 0.15);\n",
              "      fill: #174EA6;\n",
              "    }\n",
              "\n",
              "    [theme=dark] .colab-df-convert {\n",
              "      background-color: #3B4455;\n",
              "      fill: #D2E3FC;\n",
              "    }\n",
              "\n",
              "    [theme=dark] .colab-df-convert:hover {\n",
              "      background-color: #434B5C;\n",
              "      box-shadow: 0px 1px 3px 1px rgba(0, 0, 0, 0.15);\n",
              "      filter: drop-shadow(0px 1px 2px rgba(0, 0, 0, 0.3));\n",
              "      fill: #FFFFFF;\n",
              "    }\n",
              "  </style>\n",
              "\n",
              "      <script>\n",
              "        const buttonEl =\n",
              "          document.querySelector('#df-7a74dd4a-b4f5-44fa-80c2-51aaaeb149ef button.colab-df-convert');\n",
              "        buttonEl.style.display =\n",
              "          google.colab.kernel.accessAllowed ? 'block' : 'none';\n",
              "\n",
              "        async function convertToInteractive(key) {\n",
              "          const element = document.querySelector('#df-7a74dd4a-b4f5-44fa-80c2-51aaaeb149ef');\n",
              "          const dataTable =\n",
              "            await google.colab.kernel.invokeFunction('convertToInteractive',\n",
              "                                                     [key], {});\n",
              "          if (!dataTable) return;\n",
              "\n",
              "          const docLinkHtml = 'Like what you see? Visit the ' +\n",
              "            '<a target=\"_blank\" href=https://colab.research.google.com/notebooks/data_table.ipynb>data table notebook</a>'\n",
              "            + ' to learn more about interactive tables.';\n",
              "          element.innerHTML = '';\n",
              "          dataTable['output_type'] = 'display_data';\n",
              "          await google.colab.output.renderOutput(dataTable, element);\n",
              "          const docLink = document.createElement('div');\n",
              "          docLink.innerHTML = docLinkHtml;\n",
              "          element.appendChild(docLink);\n",
              "        }\n",
              "      </script>\n",
              "    </div>\n",
              "  </div>\n",
              "  "
            ]
          },
          "metadata": {},
          "execution_count": 459
        }
      ]
    },
    {
      "cell_type": "code",
      "source": [
        "Data_RF = pd.concat([S1_3,S1_1,S1_2], axis=1)\n",
        "Data_RF"
      ],
      "metadata": {
        "id": "s_kFJxtYOmdC",
        "outputId": "cf616d2e-648a-4824-fcc3-574c7683195d",
        "colab": {
          "base_uri": "https://localhost:8080/",
          "height": 0
        }
      },
      "execution_count": 460,
      "outputs": [
        {
          "output_type": "execute_result",
          "data": {
            "text/plain": [
              "   shade  Set2_rgb  Set2_hsv\n",
              "0     A1  0.108075  0.122981\n",
              "1     A2  0.089412  0.117647\n",
              "2     A3  0.096250  0.123750\n",
              "3   A3.5  0.126250  0.122500\n",
              "4     A4  0.082500  0.127500\n",
              "5     B1  0.139130  0.083230\n",
              "6     B2  0.084472  0.126708\n",
              "7     B3  0.093168  0.085714\n",
              "8     B4  0.062112  0.120497\n",
              "9     C1  0.125466  0.073292\n",
              "10    C2  0.090683  0.139130\n",
              "11    C3  0.124224  0.062112\n",
              "12    C4  0.129193  0.060870\n",
              "13    D2  0.103106  0.136646\n",
              "14    D3  0.142857  0.065839\n",
              "15    D4  0.098889  0.071111"
            ],
            "text/html": [
              "\n",
              "  <div id=\"df-8f2c6f69-7e4f-4f10-9cb5-75c87b5a0e42\">\n",
              "    <div class=\"colab-df-container\">\n",
              "      <div>\n",
              "<style scoped>\n",
              "    .dataframe tbody tr th:only-of-type {\n",
              "        vertical-align: middle;\n",
              "    }\n",
              "\n",
              "    .dataframe tbody tr th {\n",
              "        vertical-align: top;\n",
              "    }\n",
              "\n",
              "    .dataframe thead th {\n",
              "        text-align: right;\n",
              "    }\n",
              "</style>\n",
              "<table border=\"1\" class=\"dataframe\">\n",
              "  <thead>\n",
              "    <tr style=\"text-align: right;\">\n",
              "      <th></th>\n",
              "      <th>shade</th>\n",
              "      <th>Set2_rgb</th>\n",
              "      <th>Set2_hsv</th>\n",
              "    </tr>\n",
              "  </thead>\n",
              "  <tbody>\n",
              "    <tr>\n",
              "      <th>0</th>\n",
              "      <td>A1</td>\n",
              "      <td>0.108075</td>\n",
              "      <td>0.122981</td>\n",
              "    </tr>\n",
              "    <tr>\n",
              "      <th>1</th>\n",
              "      <td>A2</td>\n",
              "      <td>0.089412</td>\n",
              "      <td>0.117647</td>\n",
              "    </tr>\n",
              "    <tr>\n",
              "      <th>2</th>\n",
              "      <td>A3</td>\n",
              "      <td>0.096250</td>\n",
              "      <td>0.123750</td>\n",
              "    </tr>\n",
              "    <tr>\n",
              "      <th>3</th>\n",
              "      <td>A3.5</td>\n",
              "      <td>0.126250</td>\n",
              "      <td>0.122500</td>\n",
              "    </tr>\n",
              "    <tr>\n",
              "      <th>4</th>\n",
              "      <td>A4</td>\n",
              "      <td>0.082500</td>\n",
              "      <td>0.127500</td>\n",
              "    </tr>\n",
              "    <tr>\n",
              "      <th>5</th>\n",
              "      <td>B1</td>\n",
              "      <td>0.139130</td>\n",
              "      <td>0.083230</td>\n",
              "    </tr>\n",
              "    <tr>\n",
              "      <th>6</th>\n",
              "      <td>B2</td>\n",
              "      <td>0.084472</td>\n",
              "      <td>0.126708</td>\n",
              "    </tr>\n",
              "    <tr>\n",
              "      <th>7</th>\n",
              "      <td>B3</td>\n",
              "      <td>0.093168</td>\n",
              "      <td>0.085714</td>\n",
              "    </tr>\n",
              "    <tr>\n",
              "      <th>8</th>\n",
              "      <td>B4</td>\n",
              "      <td>0.062112</td>\n",
              "      <td>0.120497</td>\n",
              "    </tr>\n",
              "    <tr>\n",
              "      <th>9</th>\n",
              "      <td>C1</td>\n",
              "      <td>0.125466</td>\n",
              "      <td>0.073292</td>\n",
              "    </tr>\n",
              "    <tr>\n",
              "      <th>10</th>\n",
              "      <td>C2</td>\n",
              "      <td>0.090683</td>\n",
              "      <td>0.139130</td>\n",
              "    </tr>\n",
              "    <tr>\n",
              "      <th>11</th>\n",
              "      <td>C3</td>\n",
              "      <td>0.124224</td>\n",
              "      <td>0.062112</td>\n",
              "    </tr>\n",
              "    <tr>\n",
              "      <th>12</th>\n",
              "      <td>C4</td>\n",
              "      <td>0.129193</td>\n",
              "      <td>0.060870</td>\n",
              "    </tr>\n",
              "    <tr>\n",
              "      <th>13</th>\n",
              "      <td>D2</td>\n",
              "      <td>0.103106</td>\n",
              "      <td>0.136646</td>\n",
              "    </tr>\n",
              "    <tr>\n",
              "      <th>14</th>\n",
              "      <td>D3</td>\n",
              "      <td>0.142857</td>\n",
              "      <td>0.065839</td>\n",
              "    </tr>\n",
              "    <tr>\n",
              "      <th>15</th>\n",
              "      <td>D4</td>\n",
              "      <td>0.098889</td>\n",
              "      <td>0.071111</td>\n",
              "    </tr>\n",
              "  </tbody>\n",
              "</table>\n",
              "</div>\n",
              "      <button class=\"colab-df-convert\" onclick=\"convertToInteractive('df-8f2c6f69-7e4f-4f10-9cb5-75c87b5a0e42')\"\n",
              "              title=\"Convert this dataframe to an interactive table.\"\n",
              "              style=\"display:none;\">\n",
              "        \n",
              "  <svg xmlns=\"http://www.w3.org/2000/svg\" height=\"24px\"viewBox=\"0 0 24 24\"\n",
              "       width=\"24px\">\n",
              "    <path d=\"M0 0h24v24H0V0z\" fill=\"none\"/>\n",
              "    <path d=\"M18.56 5.44l.94 2.06.94-2.06 2.06-.94-2.06-.94-.94-2.06-.94 2.06-2.06.94zm-11 1L8.5 8.5l.94-2.06 2.06-.94-2.06-.94L8.5 2.5l-.94 2.06-2.06.94zm10 10l.94 2.06.94-2.06 2.06-.94-2.06-.94-.94-2.06-.94 2.06-2.06.94z\"/><path d=\"M17.41 7.96l-1.37-1.37c-.4-.4-.92-.59-1.43-.59-.52 0-1.04.2-1.43.59L10.3 9.45l-7.72 7.72c-.78.78-.78 2.05 0 2.83L4 21.41c.39.39.9.59 1.41.59.51 0 1.02-.2 1.41-.59l7.78-7.78 2.81-2.81c.8-.78.8-2.07 0-2.86zM5.41 20L4 18.59l7.72-7.72 1.47 1.35L5.41 20z\"/>\n",
              "  </svg>\n",
              "      </button>\n",
              "      \n",
              "  <style>\n",
              "    .colab-df-container {\n",
              "      display:flex;\n",
              "      flex-wrap:wrap;\n",
              "      gap: 12px;\n",
              "    }\n",
              "\n",
              "    .colab-df-convert {\n",
              "      background-color: #E8F0FE;\n",
              "      border: none;\n",
              "      border-radius: 50%;\n",
              "      cursor: pointer;\n",
              "      display: none;\n",
              "      fill: #1967D2;\n",
              "      height: 32px;\n",
              "      padding: 0 0 0 0;\n",
              "      width: 32px;\n",
              "    }\n",
              "\n",
              "    .colab-df-convert:hover {\n",
              "      background-color: #E2EBFA;\n",
              "      box-shadow: 0px 1px 2px rgba(60, 64, 67, 0.3), 0px 1px 3px 1px rgba(60, 64, 67, 0.15);\n",
              "      fill: #174EA6;\n",
              "    }\n",
              "\n",
              "    [theme=dark] .colab-df-convert {\n",
              "      background-color: #3B4455;\n",
              "      fill: #D2E3FC;\n",
              "    }\n",
              "\n",
              "    [theme=dark] .colab-df-convert:hover {\n",
              "      background-color: #434B5C;\n",
              "      box-shadow: 0px 1px 3px 1px rgba(0, 0, 0, 0.15);\n",
              "      filter: drop-shadow(0px 1px 2px rgba(0, 0, 0, 0.3));\n",
              "      fill: #FFFFFF;\n",
              "    }\n",
              "  </style>\n",
              "\n",
              "      <script>\n",
              "        const buttonEl =\n",
              "          document.querySelector('#df-8f2c6f69-7e4f-4f10-9cb5-75c87b5a0e42 button.colab-df-convert');\n",
              "        buttonEl.style.display =\n",
              "          google.colab.kernel.accessAllowed ? 'block' : 'none';\n",
              "\n",
              "        async function convertToInteractive(key) {\n",
              "          const element = document.querySelector('#df-8f2c6f69-7e4f-4f10-9cb5-75c87b5a0e42');\n",
              "          const dataTable =\n",
              "            await google.colab.kernel.invokeFunction('convertToInteractive',\n",
              "                                                     [key], {});\n",
              "          if (!dataTable) return;\n",
              "\n",
              "          const docLinkHtml = 'Like what you see? Visit the ' +\n",
              "            '<a target=\"_blank\" href=https://colab.research.google.com/notebooks/data_table.ipynb>data table notebook</a>'\n",
              "            + ' to learn more about interactive tables.';\n",
              "          element.innerHTML = '';\n",
              "          dataTable['output_type'] = 'display_data';\n",
              "          await google.colab.output.renderOutput(dataTable, element);\n",
              "          const docLink = document.createElement('div');\n",
              "          docLink.innerHTML = docLinkHtml;\n",
              "          element.appendChild(docLink);\n",
              "        }\n",
              "      </script>\n",
              "    </div>\n",
              "  </div>\n",
              "  "
            ]
          },
          "metadata": {},
          "execution_count": 460
        }
      ]
    },
    {
      "cell_type": "code",
      "source": [
        "Data_RF.to_csv('XGB2_set2.csv', index=False)"
      ],
      "metadata": {
        "id": "e4BpK7gqlXki"
      },
      "execution_count": 461,
      "outputs": []
    }
  ]
}