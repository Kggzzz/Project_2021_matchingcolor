{
  "nbformat": 4,
  "nbformat_minor": 0,
  "metadata": {
    "colab": {
      "name": "RDF.ipynb",
      "provenance": [],
      "authorship_tag": "ABX9TyNRQ/yGy/e8FztXO/MYVGV0",
      "include_colab_link": true
    },
    "kernelspec": {
      "name": "python3",
      "display_name": "Python 3"
    },
    "language_info": {
      "name": "python"
    }
  },
  "cells": [
    {
      "cell_type": "markdown",
      "metadata": {
        "id": "view-in-github",
        "colab_type": "text"
      },
      "source": [
        "<a href=\"https://colab.research.google.com/github/Kggzzz/Project_2021_matchingcolor/blob/main/RDF.ipynb\" target=\"_parent\"><img src=\"https://colab.research.google.com/assets/colab-badge.svg\" alt=\"Open In Colab\"/></a>"
      ]
    },
    {
      "cell_type": "code",
      "execution_count": 1,
      "metadata": {
        "id": "HKNXe3aNxjrS"
      },
      "outputs": [],
      "source": [
        "import pandas as pd"
      ]
    },
    {
      "cell_type": "code",
      "source": [
        "from google.colab import drive \n",
        "drive.mount('/content/drive')"
      ],
      "metadata": {
        "colab": {
          "base_uri": "https://localhost:8080/"
        },
        "id": "vlUA764exm_B",
        "outputId": "41667a66-0f29-4252-a739-78a418f68cdb"
      },
      "execution_count": 2,
      "outputs": [
        {
          "output_type": "stream",
          "name": "stdout",
          "text": [
            "Mounted at /content/drive\n"
          ]
        }
      ]
    },
    {
      "cell_type": "code",
      "source": [
        "import os"
      ],
      "metadata": {
        "id": "0NR2cd8WxtI0"
      },
      "execution_count": 3,
      "outputs": []
    },
    {
      "cell_type": "code",
      "source": [
        "path = '/content/drive/My Drive/shadeimg/SVM shade'"
      ],
      "metadata": {
        "id": "CCvM6YiWxv4J"
      },
      "execution_count": 4,
      "outputs": []
    },
    {
      "cell_type": "code",
      "source": [
        "os.listdir(path)"
      ],
      "metadata": {
        "colab": {
          "base_uri": "https://localhost:8080/"
        },
        "id": "gEamzWg2xxw0",
        "outputId": "dfbfe2d4-e2f3-4a3b-e727-7eb63224410b"
      },
      "execution_count": 5,
      "outputs": [
        {
          "output_type": "execute_result",
          "data": {
            "text/plain": [
              "['DD.xlsx',\n",
              " 'CC.xlsx',\n",
              " 'BB.xlsx',\n",
              " 'AA.xlsx',\n",
              " 'Shade_AA.xlsx',\n",
              " 'Shade_CC.xlsx',\n",
              " 'Shade_DD.xlsx',\n",
              " 'Shade_BB.xlsx']"
            ]
          },
          "metadata": {},
          "execution_count": 5
        }
      ]
    },
    {
      "cell_type": "code",
      "source": [
        "AA = os.path.join(path,'Shade_AA.xlsx')\n",
        "print(AA)"
      ],
      "metadata": {
        "colab": {
          "base_uri": "https://localhost:8080/"
        },
        "id": "YnNg2TofxzSg",
        "outputId": "73d6b552-35f5-498b-cea9-436e2c356575"
      },
      "execution_count": 6,
      "outputs": [
        {
          "output_type": "stream",
          "name": "stdout",
          "text": [
            "/content/drive/My Drive/shadeimg/SVM shade/Shade_AA.xlsx\n"
          ]
        }
      ]
    },
    {
      "cell_type": "code",
      "source": [
        "BB = os.path.join(path,'Shade_BB.xlsx')\n",
        "print(BB)"
      ],
      "metadata": {
        "id": "9NmuTsKXj8iA",
        "outputId": "37c5a9d9-f8d9-4fe2-8aa1-56229d33badf",
        "colab": {
          "base_uri": "https://localhost:8080/"
        }
      },
      "execution_count": 7,
      "outputs": [
        {
          "output_type": "stream",
          "name": "stdout",
          "text": [
            "/content/drive/My Drive/shadeimg/SVM shade/Shade_BB.xlsx\n"
          ]
        }
      ]
    },
    {
      "cell_type": "code",
      "source": [
        "CC = os.path.join(path,'Shade_CC.xlsx')\n",
        "print(CC)"
      ],
      "metadata": {
        "id": "Flpjty_gj80T",
        "outputId": "6dca1db3-4e42-4568-c3d7-8d996e223409",
        "colab": {
          "base_uri": "https://localhost:8080/"
        }
      },
      "execution_count": 8,
      "outputs": [
        {
          "output_type": "stream",
          "name": "stdout",
          "text": [
            "/content/drive/My Drive/shadeimg/SVM shade/Shade_CC.xlsx\n"
          ]
        }
      ]
    },
    {
      "cell_type": "code",
      "source": [
        "DD = os.path.join(path,'Shade_DD.xlsx')\n",
        "print(DD)"
      ],
      "metadata": {
        "colab": {
          "base_uri": "https://localhost:8080/"
        },
        "id": "D5_QGRNuj9Hu",
        "outputId": "638c8e98-cdcc-4dc9-9a64-50fb8d4ae5d2"
      },
      "execution_count": 9,
      "outputs": [
        {
          "output_type": "stream",
          "name": "stdout",
          "text": [
            "/content/drive/My Drive/shadeimg/SVM shade/Shade_DD.xlsx\n"
          ]
        }
      ]
    },
    {
      "cell_type": "code",
      "source": [
        "import numpy as np"
      ],
      "metadata": {
        "id": "8ISBGlPBzzvw"
      },
      "execution_count": 10,
      "outputs": []
    },
    {
      "cell_type": "code",
      "source": [
        "from sklearn import metrics"
      ],
      "metadata": {
        "id": "FTwRPXBBzw1v"
      },
      "execution_count": 11,
      "outputs": []
    },
    {
      "cell_type": "code",
      "source": [
        "from sklearn import datasets"
      ],
      "metadata": {
        "id": "KR8lVsZXpX9X"
      },
      "execution_count": 12,
      "outputs": []
    },
    {
      "cell_type": "code",
      "source": [
        "from sklearn.model_selection import train_test_split"
      ],
      "metadata": {
        "id": "dEdqdgv5I0T2"
      },
      "execution_count": 13,
      "outputs": []
    },
    {
      "cell_type": "code",
      "source": [
        "from sklearn.ensemble import RandomForestClassifier"
      ],
      "metadata": {
        "id": "cfRBaPLCI0vn"
      },
      "execution_count": 14,
      "outputs": []
    },
    {
      "cell_type": "code",
      "source": [
        "clf=RandomForestClassifier(n_estimators=100)"
      ],
      "metadata": {
        "id": "i-IpOEIhnwdR"
      },
      "execution_count": 15,
      "outputs": []
    },
    {
      "cell_type": "markdown",
      "source": [
        "#AA"
      ],
      "metadata": {
        "id": "poM422dmJDh0"
      }
    },
    {
      "cell_type": "markdown",
      "source": [
        "##A1"
      ],
      "metadata": {
        "id": "Cb9iZlIWmt1B"
      }
    },
    {
      "cell_type": "code",
      "source": [
        "table_A1= pd.read_excel(AA, sheet_name='A1')\n",
        "table_A1"
      ],
      "metadata": {
        "id": "4Kf9aT59JKhr",
        "colab": {
          "base_uri": "https://localhost:8080/",
          "height": 0
        },
        "outputId": "2c291a12-b690-4d98-8db5-7782405b52f4"
      },
      "execution_count": 16,
      "outputs": [
        {
          "output_type": "execute_result",
          "data": {
            "text/html": [
              "\n",
              "  <div id=\"df-d2af62ca-bc87-4701-b416-c79c7bdebe19\">\n",
              "    <div class=\"colab-df-container\">\n",
              "      <div>\n",
              "<style scoped>\n",
              "    .dataframe tbody tr th:only-of-type {\n",
              "        vertical-align: middle;\n",
              "    }\n",
              "\n",
              "    .dataframe tbody tr th {\n",
              "        vertical-align: top;\n",
              "    }\n",
              "\n",
              "    .dataframe thead th {\n",
              "        text-align: right;\n",
              "    }\n",
              "</style>\n",
              "<table border=\"1\" class=\"dataframe\">\n",
              "  <thead>\n",
              "    <tr style=\"text-align: right;\">\n",
              "      <th></th>\n",
              "      <th>R-ref</th>\n",
              "      <th>G-ref</th>\n",
              "      <th>B-ref</th>\n",
              "      <th>R-Shad</th>\n",
              "      <th>G-Shad</th>\n",
              "      <th>B-Shad</th>\n",
              "      <th>H-ref</th>\n",
              "      <th>S-ref</th>\n",
              "      <th>V-ref</th>\n",
              "      <th>H-Shad</th>\n",
              "      <th>S-Shad</th>\n",
              "      <th>V-Shad</th>\n",
              "      <th>Shade-ref</th>\n",
              "      <th>Shade</th>\n",
              "      <th>Setting</th>\n",
              "      <th>Img</th>\n",
              "    </tr>\n",
              "  </thead>\n",
              "  <tbody>\n",
              "    <tr>\n",
              "      <th>0</th>\n",
              "      <td>237.172985</td>\n",
              "      <td>225.596383</td>\n",
              "      <td>191.776924</td>\n",
              "      <td>237.828505</td>\n",
              "      <td>226.460326</td>\n",
              "      <td>193.279482</td>\n",
              "      <td>22.295755</td>\n",
              "      <td>48.938885</td>\n",
              "      <td>237.144469</td>\n",
              "      <td>22.332764</td>\n",
              "      <td>47.917502</td>\n",
              "      <td>237.810967</td>\n",
              "      <td>A1</td>\n",
              "      <td>A1</td>\n",
              "      <td>Set1</td>\n",
              "      <td>219558E6-E67A-4672-9E46-3D084D0D2032.png</td>\n",
              "    </tr>\n",
              "    <tr>\n",
              "      <th>1</th>\n",
              "      <td>239.246246</td>\n",
              "      <td>221.661797</td>\n",
              "      <td>177.409220</td>\n",
              "      <td>239.869853</td>\n",
              "      <td>222.532181</td>\n",
              "      <td>178.897233</td>\n",
              "      <td>22.295755</td>\n",
              "      <td>48.938885</td>\n",
              "      <td>237.144469</td>\n",
              "      <td>22.332764</td>\n",
              "      <td>47.917502</td>\n",
              "      <td>237.810967</td>\n",
              "      <td>A1</td>\n",
              "      <td>A1</td>\n",
              "      <td>Set1</td>\n",
              "      <td>DDC4DC8E-B6F3-4C8E-B168-D77C99A200B0.png</td>\n",
              "    </tr>\n",
              "    <tr>\n",
              "      <th>2</th>\n",
              "      <td>237.328788</td>\n",
              "      <td>211.283256</td>\n",
              "      <td>155.065985</td>\n",
              "      <td>238.087547</td>\n",
              "      <td>212.420596</td>\n",
              "      <td>156.950573</td>\n",
              "      <td>20.723724</td>\n",
              "      <td>88.424560</td>\n",
              "      <td>237.328788</td>\n",
              "      <td>20.721926</td>\n",
              "      <td>86.986061</td>\n",
              "      <td>238.087547</td>\n",
              "      <td>A1</td>\n",
              "      <td>A1</td>\n",
              "      <td>Set1</td>\n",
              "      <td>9C42EB3E-DDE7-43A2-91AE-4DCE60FCDAA9.png</td>\n",
              "    </tr>\n",
              "    <tr>\n",
              "      <th>3</th>\n",
              "      <td>236.773314</td>\n",
              "      <td>209.917864</td>\n",
              "      <td>155.544355</td>\n",
              "      <td>237.385748</td>\n",
              "      <td>210.931939</td>\n",
              "      <td>157.041818</td>\n",
              "      <td>20.189676</td>\n",
              "      <td>87.558072</td>\n",
              "      <td>236.773314</td>\n",
              "      <td>20.244791</td>\n",
              "      <td>86.400541</td>\n",
              "      <td>237.385748</td>\n",
              "      <td>A1</td>\n",
              "      <td>A1</td>\n",
              "      <td>Set1</td>\n",
              "      <td>6305881D-3DFD-4ECE-BD1D-C5376038CD26.png</td>\n",
              "    </tr>\n",
              "    <tr>\n",
              "      <th>4</th>\n",
              "      <td>238.599951</td>\n",
              "      <td>222.450207</td>\n",
              "      <td>177.512702</td>\n",
              "      <td>237.828505</td>\n",
              "      <td>226.460326</td>\n",
              "      <td>193.279482</td>\n",
              "      <td>22.168006</td>\n",
              "      <td>65.331954</td>\n",
              "      <td>238.599951</td>\n",
              "      <td>22.186189</td>\n",
              "      <td>64.179290</td>\n",
              "      <td>239.099139</td>\n",
              "      <td>A1</td>\n",
              "      <td>A1</td>\n",
              "      <td>Set1</td>\n",
              "      <td>07475504-D2B5-4A4F-960A-6AA5AE0EFFCF.png</td>\n",
              "    </tr>\n",
              "    <tr>\n",
              "      <th>...</th>\n",
              "      <td>...</td>\n",
              "      <td>...</td>\n",
              "      <td>...</td>\n",
              "      <td>...</td>\n",
              "      <td>...</td>\n",
              "      <td>...</td>\n",
              "      <td>...</td>\n",
              "      <td>...</td>\n",
              "      <td>...</td>\n",
              "      <td>...</td>\n",
              "      <td>...</td>\n",
              "      <td>...</td>\n",
              "      <td>...</td>\n",
              "      <td>...</td>\n",
              "      <td>...</td>\n",
              "      <td>...</td>\n",
              "    </tr>\n",
              "    <tr>\n",
              "      <th>3195</th>\n",
              "      <td>219.796364</td>\n",
              "      <td>220.248600</td>\n",
              "      <td>203.640370</td>\n",
              "      <td>219.211934</td>\n",
              "      <td>219.766731</td>\n",
              "      <td>203.270322</td>\n",
              "      <td>31.111598</td>\n",
              "      <td>19.560669</td>\n",
              "      <td>220.568055</td>\n",
              "      <td>31.312851</td>\n",
              "      <td>19.433184</td>\n",
              "      <td>220.052343</td>\n",
              "      <td>A1</td>\n",
              "      <td>D4</td>\n",
              "      <td>Set4</td>\n",
              "      <td>95DD0EB2-20EB-404E-BA97-3740D2D0DF96.png</td>\n",
              "    </tr>\n",
              "    <tr>\n",
              "      <th>3196</th>\n",
              "      <td>215.312718</td>\n",
              "      <td>216.245759</td>\n",
              "      <td>196.157455</td>\n",
              "      <td>214.860323</td>\n",
              "      <td>215.754498</td>\n",
              "      <td>195.762108</td>\n",
              "      <td>28.454590</td>\n",
              "      <td>52.051295</td>\n",
              "      <td>221.314991</td>\n",
              "      <td>28.269469</td>\n",
              "      <td>52.384325</td>\n",
              "      <td>220.852002</td>\n",
              "      <td>A1</td>\n",
              "      <td>D4</td>\n",
              "      <td>Set4</td>\n",
              "      <td>2F670532-3760-42FC-A982-1670FEE99E66.png</td>\n",
              "    </tr>\n",
              "    <tr>\n",
              "      <th>3197</th>\n",
              "      <td>215.690610</td>\n",
              "      <td>216.009902</td>\n",
              "      <td>196.406055</td>\n",
              "      <td>215.166773</td>\n",
              "      <td>215.486879</td>\n",
              "      <td>195.933291</td>\n",
              "      <td>30.849525</td>\n",
              "      <td>23.662609</td>\n",
              "      <td>216.485350</td>\n",
              "      <td>30.867293</td>\n",
              "      <td>23.636228</td>\n",
              "      <td>215.959036</td>\n",
              "      <td>A1</td>\n",
              "      <td>D4</td>\n",
              "      <td>Set4</td>\n",
              "      <td>547F5541-94BD-48D5-BD5B-25CBEFA4B8C9.png</td>\n",
              "    </tr>\n",
              "    <tr>\n",
              "      <th>3198</th>\n",
              "      <td>213.749290</td>\n",
              "      <td>210.436328</td>\n",
              "      <td>181.714877</td>\n",
              "      <td>213.046725</td>\n",
              "      <td>209.822132</td>\n",
              "      <td>181.286679</td>\n",
              "      <td>26.683954</td>\n",
              "      <td>38.233260</td>\n",
              "      <td>213.749290</td>\n",
              "      <td>26.767157</td>\n",
              "      <td>38.010668</td>\n",
              "      <td>213.046725</td>\n",
              "      <td>A1</td>\n",
              "      <td>D4</td>\n",
              "      <td>Set4</td>\n",
              "      <td>E9149994-C281-48DA-AF5B-7A13ECD7E307.png</td>\n",
              "    </tr>\n",
              "    <tr>\n",
              "      <th>3199</th>\n",
              "      <td>211.214674</td>\n",
              "      <td>204.185537</td>\n",
              "      <td>158.897330</td>\n",
              "      <td>210.905910</td>\n",
              "      <td>203.783372</td>\n",
              "      <td>158.707275</td>\n",
              "      <td>26.202337</td>\n",
              "      <td>63.120039</td>\n",
              "      <td>211.214674</td>\n",
              "      <td>26.147358</td>\n",
              "      <td>63.070194</td>\n",
              "      <td>210.905910</td>\n",
              "      <td>A1</td>\n",
              "      <td>D4</td>\n",
              "      <td>Set4</td>\n",
              "      <td>D360D9A0-603E-4947-A8FE-72EB861A079A.png</td>\n",
              "    </tr>\n",
              "  </tbody>\n",
              "</table>\n",
              "<p>3200 rows × 16 columns</p>\n",
              "</div>\n",
              "      <button class=\"colab-df-convert\" onclick=\"convertToInteractive('df-d2af62ca-bc87-4701-b416-c79c7bdebe19')\"\n",
              "              title=\"Convert this dataframe to an interactive table.\"\n",
              "              style=\"display:none;\">\n",
              "        \n",
              "  <svg xmlns=\"http://www.w3.org/2000/svg\" height=\"24px\"viewBox=\"0 0 24 24\"\n",
              "       width=\"24px\">\n",
              "    <path d=\"M0 0h24v24H0V0z\" fill=\"none\"/>\n",
              "    <path d=\"M18.56 5.44l.94 2.06.94-2.06 2.06-.94-2.06-.94-.94-2.06-.94 2.06-2.06.94zm-11 1L8.5 8.5l.94-2.06 2.06-.94-2.06-.94L8.5 2.5l-.94 2.06-2.06.94zm10 10l.94 2.06.94-2.06 2.06-.94-2.06-.94-.94-2.06-.94 2.06-2.06.94z\"/><path d=\"M17.41 7.96l-1.37-1.37c-.4-.4-.92-.59-1.43-.59-.52 0-1.04.2-1.43.59L10.3 9.45l-7.72 7.72c-.78.78-.78 2.05 0 2.83L4 21.41c.39.39.9.59 1.41.59.51 0 1.02-.2 1.41-.59l7.78-7.78 2.81-2.81c.8-.78.8-2.07 0-2.86zM5.41 20L4 18.59l7.72-7.72 1.47 1.35L5.41 20z\"/>\n",
              "  </svg>\n",
              "      </button>\n",
              "      \n",
              "  <style>\n",
              "    .colab-df-container {\n",
              "      display:flex;\n",
              "      flex-wrap:wrap;\n",
              "      gap: 12px;\n",
              "    }\n",
              "\n",
              "    .colab-df-convert {\n",
              "      background-color: #E8F0FE;\n",
              "      border: none;\n",
              "      border-radius: 50%;\n",
              "      cursor: pointer;\n",
              "      display: none;\n",
              "      fill: #1967D2;\n",
              "      height: 32px;\n",
              "      padding: 0 0 0 0;\n",
              "      width: 32px;\n",
              "    }\n",
              "\n",
              "    .colab-df-convert:hover {\n",
              "      background-color: #E2EBFA;\n",
              "      box-shadow: 0px 1px 2px rgba(60, 64, 67, 0.3), 0px 1px 3px 1px rgba(60, 64, 67, 0.15);\n",
              "      fill: #174EA6;\n",
              "    }\n",
              "\n",
              "    [theme=dark] .colab-df-convert {\n",
              "      background-color: #3B4455;\n",
              "      fill: #D2E3FC;\n",
              "    }\n",
              "\n",
              "    [theme=dark] .colab-df-convert:hover {\n",
              "      background-color: #434B5C;\n",
              "      box-shadow: 0px 1px 3px 1px rgba(0, 0, 0, 0.15);\n",
              "      filter: drop-shadow(0px 1px 2px rgba(0, 0, 0, 0.3));\n",
              "      fill: #FFFFFF;\n",
              "    }\n",
              "  </style>\n",
              "\n",
              "      <script>\n",
              "        const buttonEl =\n",
              "          document.querySelector('#df-d2af62ca-bc87-4701-b416-c79c7bdebe19 button.colab-df-convert');\n",
              "        buttonEl.style.display =\n",
              "          google.colab.kernel.accessAllowed ? 'block' : 'none';\n",
              "\n",
              "        async function convertToInteractive(key) {\n",
              "          const element = document.querySelector('#df-d2af62ca-bc87-4701-b416-c79c7bdebe19');\n",
              "          const dataTable =\n",
              "            await google.colab.kernel.invokeFunction('convertToInteractive',\n",
              "                                                     [key], {});\n",
              "          if (!dataTable) return;\n",
              "\n",
              "          const docLinkHtml = 'Like what you see? Visit the ' +\n",
              "            '<a target=\"_blank\" href=https://colab.research.google.com/notebooks/data_table.ipynb>data table notebook</a>'\n",
              "            + ' to learn more about interactive tables.';\n",
              "          element.innerHTML = '';\n",
              "          dataTable['output_type'] = 'display_data';\n",
              "          await google.colab.output.renderOutput(dataTable, element);\n",
              "          const docLink = document.createElement('div');\n",
              "          docLink.innerHTML = docLinkHtml;\n",
              "          element.appendChild(docLink);\n",
              "        }\n",
              "      </script>\n",
              "    </div>\n",
              "  </div>\n",
              "  "
            ],
            "text/plain": [
              "           R-ref       G-ref  ...  Setting                                       Img\n",
              "0     237.172985  225.596383  ...     Set1  219558E6-E67A-4672-9E46-3D084D0D2032.png\n",
              "1     239.246246  221.661797  ...     Set1  DDC4DC8E-B6F3-4C8E-B168-D77C99A200B0.png\n",
              "2     237.328788  211.283256  ...     Set1  9C42EB3E-DDE7-43A2-91AE-4DCE60FCDAA9.png\n",
              "3     236.773314  209.917864  ...     Set1  6305881D-3DFD-4ECE-BD1D-C5376038CD26.png\n",
              "4     238.599951  222.450207  ...     Set1  07475504-D2B5-4A4F-960A-6AA5AE0EFFCF.png\n",
              "...          ...         ...  ...      ...                                       ...\n",
              "3195  219.796364  220.248600  ...     Set4  95DD0EB2-20EB-404E-BA97-3740D2D0DF96.png\n",
              "3196  215.312718  216.245759  ...     Set4  2F670532-3760-42FC-A982-1670FEE99E66.png\n",
              "3197  215.690610  216.009902  ...     Set4  547F5541-94BD-48D5-BD5B-25CBEFA4B8C9.png\n",
              "3198  213.749290  210.436328  ...     Set4  E9149994-C281-48DA-AF5B-7A13ECD7E307.png\n",
              "3199  211.214674  204.185537  ...     Set4  D360D9A0-603E-4947-A8FE-72EB861A079A.png\n",
              "\n",
              "[3200 rows x 16 columns]"
            ]
          },
          "metadata": {},
          "execution_count": 16
        }
      ]
    },
    {
      "cell_type": "markdown",
      "source": [
        "###RGB"
      ],
      "metadata": {
        "id": "LxojQbqFpTUM"
      }
    },
    {
      "cell_type": "code",
      "source": [
        "RGB_A1 = table_A1.drop(['H-ref','S-ref','V-ref','S-Shad','V-Shad','Shade-ref','Setting','Img','Shade','H-Shad'], axis=1)"
      ],
      "metadata": {
        "id": "h0FecxGxmtCy"
      },
      "execution_count": 17,
      "outputs": []
    },
    {
      "cell_type": "code",
      "source": [
        "X_A1_RGB = np.array(RGB_A1)"
      ],
      "metadata": {
        "id": "F-rsrKMgmzB0"
      },
      "execution_count": 18,
      "outputs": []
    },
    {
      "cell_type": "code",
      "source": [
        "y_A1_RGB =  table_A1.iloc[:,13:14]"
      ],
      "metadata": {
        "id": "rKF5S9Avm12o"
      },
      "execution_count": 19,
      "outputs": []
    },
    {
      "cell_type": "code",
      "source": [
        "y_A1_RGB = np.array(y_A1_RGB)"
      ],
      "metadata": {
        "id": "Npm36S98m3rP"
      },
      "execution_count": 20,
      "outputs": []
    },
    {
      "cell_type": "code",
      "source": [
        "X_test_A1_RGB , X_train_A1_RGB , y_test_A1_RGB, y_train_A1_RGB = train_test_split(X_A1_RGB, y_A1_RGB, test_size=80, train_size=320)"
      ],
      "metadata": {
        "id": "iFk1sBDpnQ_z"
      },
      "execution_count": 21,
      "outputs": []
    },
    {
      "cell_type": "code",
      "source": [
        "clf.fit(X_train_A1_RGB, y_train_A1_RGB)"
      ],
      "metadata": {
        "colab": {
          "base_uri": "https://localhost:8080/"
        },
        "id": "T-I2pW10ngfz",
        "outputId": "32184818-a242-4823-9de0-a97a2cf98ef7"
      },
      "execution_count": 22,
      "outputs": [
        {
          "output_type": "stream",
          "name": "stderr",
          "text": [
            "/usr/local/lib/python3.7/dist-packages/ipykernel_launcher.py:1: DataConversionWarning: A column-vector y was passed when a 1d array was expected. Please change the shape of y to (n_samples,), for example using ravel().\n",
            "  \"\"\"Entry point for launching an IPython kernel.\n"
          ]
        },
        {
          "output_type": "execute_result",
          "data": {
            "text/plain": [
              "RandomForestClassifier()"
            ]
          },
          "metadata": {},
          "execution_count": 22
        }
      ]
    },
    {
      "cell_type": "code",
      "source": [
        "y_pred_A1_RGB = clf.predict(X_test_A1_RGB)"
      ],
      "metadata": {
        "id": "LvFH-syKnnsz"
      },
      "execution_count": 23,
      "outputs": []
    },
    {
      "cell_type": "code",
      "source": [
        "print(\"Accuracy:\", metrics.accuracy_score(y_test_A1_RGB, y_pred_A1_RGB))"
      ],
      "metadata": {
        "colab": {
          "base_uri": "https://localhost:8080/"
        },
        "id": "J-QZQZRNnqMX",
        "outputId": "73610cbb-a1f4-4668-fc87-2a7bc4be4da0"
      },
      "execution_count": 24,
      "outputs": [
        {
          "output_type": "stream",
          "name": "stdout",
          "text": [
            "Accuracy: 0.16875\n"
          ]
        }
      ]
    },
    {
      "cell_type": "markdown",
      "source": [
        "###HSV"
      ],
      "metadata": {
        "id": "6wkSA8JTpWNG"
      }
    },
    {
      "cell_type": "code",
      "source": [
        "HSV_A1 = table_A1.drop(['R-ref','G-ref','B-ref','R-Shad','G-Shad','B-Shad','Shade-ref','Setting','Img','Shade'], axis=1)"
      ],
      "metadata": {
        "id": "GwLqFk3BpYGn"
      },
      "execution_count": 25,
      "outputs": []
    },
    {
      "cell_type": "code",
      "source": [
        "X_A1_HSV = np.array(HSV_A1)"
      ],
      "metadata": {
        "id": "zpQKmgR4rT0W"
      },
      "execution_count": 26,
      "outputs": []
    },
    {
      "cell_type": "code",
      "source": [
        "y_A1_HSV =  table_A1.iloc[:,13:14]"
      ],
      "metadata": {
        "id": "kG3jXnEQrXvG"
      },
      "execution_count": 27,
      "outputs": []
    },
    {
      "cell_type": "code",
      "source": [
        "y_A1_HSV = np.array(y_A1_HSV)"
      ],
      "metadata": {
        "id": "GmpYlalUrbaf"
      },
      "execution_count": 28,
      "outputs": []
    },
    {
      "cell_type": "code",
      "source": [
        "X_test_A1_HSV , X_train_A1_HSV , y_test_A1_HSV, y_train_A1_HSV = train_test_split(X_A1_HSV, y_A1_HSV, test_size=80, train_size=320)"
      ],
      "metadata": {
        "id": "_1Yl9GFprfNv"
      },
      "execution_count": 29,
      "outputs": []
    },
    {
      "cell_type": "code",
      "source": [
        "clf.fit(X_train_A1_HSV, y_train_A1_HSV)"
      ],
      "metadata": {
        "colab": {
          "base_uri": "https://localhost:8080/"
        },
        "id": "u4Pktm6brjny",
        "outputId": "448ca923-477b-45ec-b282-543299d0b52c"
      },
      "execution_count": 30,
      "outputs": [
        {
          "output_type": "stream",
          "name": "stderr",
          "text": [
            "/usr/local/lib/python3.7/dist-packages/ipykernel_launcher.py:1: DataConversionWarning: A column-vector y was passed when a 1d array was expected. Please change the shape of y to (n_samples,), for example using ravel().\n",
            "  \"\"\"Entry point for launching an IPython kernel.\n"
          ]
        },
        {
          "output_type": "execute_result",
          "data": {
            "text/plain": [
              "RandomForestClassifier()"
            ]
          },
          "metadata": {},
          "execution_count": 30
        }
      ]
    },
    {
      "cell_type": "code",
      "source": [
        "y_pred_A1_HSV = clf.predict(X_test_A1_HSV)"
      ],
      "metadata": {
        "id": "9jBTV6RPrnsG"
      },
      "execution_count": 31,
      "outputs": []
    },
    {
      "cell_type": "code",
      "source": [
        "print(\"Accuracy:\", metrics.accuracy_score(y_test_A1_HSV, y_pred_A1_HSV))"
      ],
      "metadata": {
        "colab": {
          "base_uri": "https://localhost:8080/"
        },
        "id": "Ftq9wBiYrpLc",
        "outputId": "b6475549-e859-47cd-90d7-c6bff598afeb"
      },
      "execution_count": 32,
      "outputs": [
        {
          "output_type": "stream",
          "name": "stdout",
          "text": [
            "Accuracy: 0.16875\n"
          ]
        }
      ]
    },
    {
      "cell_type": "markdown",
      "source": [
        "##A2"
      ],
      "metadata": {
        "id": "EYornrD_prRA"
      }
    },
    {
      "cell_type": "code",
      "source": [
        "table_A2= pd.read_excel(AA, sheet_name='A2')\n",
        "table_A2"
      ],
      "metadata": {
        "outputId": "29e51148-5736-4b1e-9f50-f65e6e14f06d",
        "colab": {
          "base_uri": "https://localhost:8080/",
          "height": 0
        },
        "id": "KB_kdVCRpx0x"
      },
      "execution_count": 33,
      "outputs": [
        {
          "output_type": "execute_result",
          "data": {
            "text/html": [
              "\n",
              "  <div id=\"df-2323d373-71f7-46c6-94e2-b4ca14f964c9\">\n",
              "    <div class=\"colab-df-container\">\n",
              "      <div>\n",
              "<style scoped>\n",
              "    .dataframe tbody tr th:only-of-type {\n",
              "        vertical-align: middle;\n",
              "    }\n",
              "\n",
              "    .dataframe tbody tr th {\n",
              "        vertical-align: top;\n",
              "    }\n",
              "\n",
              "    .dataframe thead th {\n",
              "        text-align: right;\n",
              "    }\n",
              "</style>\n",
              "<table border=\"1\" class=\"dataframe\">\n",
              "  <thead>\n",
              "    <tr style=\"text-align: right;\">\n",
              "      <th></th>\n",
              "      <th>R-ref</th>\n",
              "      <th>G-ref</th>\n",
              "      <th>B-ref</th>\n",
              "      <th>R-Shad</th>\n",
              "      <th>G-Shad</th>\n",
              "      <th>B-Shad</th>\n",
              "      <th>H-ref</th>\n",
              "      <th>S-ref</th>\n",
              "      <th>V-ref</th>\n",
              "      <th>H-Shad</th>\n",
              "      <th>S-Shad</th>\n",
              "      <th>V-Shad</th>\n",
              "      <th>Shade-ref</th>\n",
              "      <th>Shade</th>\n",
              "      <th>Setting</th>\n",
              "      <th>Img</th>\n",
              "    </tr>\n",
              "  </thead>\n",
              "  <tbody>\n",
              "    <tr>\n",
              "      <th>0</th>\n",
              "      <td>232.175960</td>\n",
              "      <td>216.874036</td>\n",
              "      <td>178.708465</td>\n",
              "      <td>232.964654</td>\n",
              "      <td>217.832160</td>\n",
              "      <td>180.185122</td>\n",
              "      <td>21.562292</td>\n",
              "      <td>58.762357</td>\n",
              "      <td>232.175960</td>\n",
              "      <td>21.513975</td>\n",
              "      <td>57.839201</td>\n",
              "      <td>232.964654</td>\n",
              "      <td>A2</td>\n",
              "      <td>A1</td>\n",
              "      <td>Set1</td>\n",
              "      <td>77308B8C-A458-48C0-A0EF-DD05DD0AEA75.png</td>\n",
              "    </tr>\n",
              "    <tr>\n",
              "      <th>1</th>\n",
              "      <td>231.726077</td>\n",
              "      <td>211.455077</td>\n",
              "      <td>167.223440</td>\n",
              "      <td>232.533177</td>\n",
              "      <td>212.551597</td>\n",
              "      <td>168.982505</td>\n",
              "      <td>20.556367</td>\n",
              "      <td>71.019641</td>\n",
              "      <td>231.726077</td>\n",
              "      <td>20.552237</td>\n",
              "      <td>69.773771</td>\n",
              "      <td>232.533177</td>\n",
              "      <td>A2</td>\n",
              "      <td>A1</td>\n",
              "      <td>Set1</td>\n",
              "      <td>DD37E60E-8484-48E3-8FB4-7E94B71553F4.png</td>\n",
              "    </tr>\n",
              "    <tr>\n",
              "      <th>2</th>\n",
              "      <td>226.100641</td>\n",
              "      <td>197.575278</td>\n",
              "      <td>146.748235</td>\n",
              "      <td>226.795889</td>\n",
              "      <td>198.548539</td>\n",
              "      <td>147.966148</td>\n",
              "      <td>19.189595</td>\n",
              "      <td>89.497849</td>\n",
              "      <td>226.100641</td>\n",
              "      <td>19.239457</td>\n",
              "      <td>88.650238</td>\n",
              "      <td>226.795889</td>\n",
              "      <td>A2</td>\n",
              "      <td>A1</td>\n",
              "      <td>Set1</td>\n",
              "      <td>0ED6DB80-7C02-41B3-88E9-CB382B96B37C.png</td>\n",
              "    </tr>\n",
              "    <tr>\n",
              "      <th>3</th>\n",
              "      <td>230.612531</td>\n",
              "      <td>207.562373</td>\n",
              "      <td>164.211752</td>\n",
              "      <td>231.210796</td>\n",
              "      <td>208.351682</td>\n",
              "      <td>165.428561</td>\n",
              "      <td>19.566594</td>\n",
              "      <td>73.461651</td>\n",
              "      <td>230.612531</td>\n",
              "      <td>19.550743</td>\n",
              "      <td>72.606500</td>\n",
              "      <td>231.210796</td>\n",
              "      <td>A2</td>\n",
              "      <td>A1</td>\n",
              "      <td>Set1</td>\n",
              "      <td>8B551D28-1E87-49BD-9E20-8B3F5F08FE8E.png</td>\n",
              "    </tr>\n",
              "    <tr>\n",
              "      <th>4</th>\n",
              "      <td>232.133431</td>\n",
              "      <td>209.823472</td>\n",
              "      <td>160.814707</td>\n",
              "      <td>232.841548</td>\n",
              "      <td>211.054264</td>\n",
              "      <td>163.067989</td>\n",
              "      <td>20.814463</td>\n",
              "      <td>78.373996</td>\n",
              "      <td>232.133431</td>\n",
              "      <td>20.855487</td>\n",
              "      <td>76.523434</td>\n",
              "      <td>232.841832</td>\n",
              "      <td>A2</td>\n",
              "      <td>A1</td>\n",
              "      <td>Set1</td>\n",
              "      <td>C12D1E9C-5BFA-4DD7-9D3F-194378F9673D.png</td>\n",
              "    </tr>\n",
              "    <tr>\n",
              "      <th>...</th>\n",
              "      <td>...</td>\n",
              "      <td>...</td>\n",
              "      <td>...</td>\n",
              "      <td>...</td>\n",
              "      <td>...</td>\n",
              "      <td>...</td>\n",
              "      <td>...</td>\n",
              "      <td>...</td>\n",
              "      <td>...</td>\n",
              "      <td>...</td>\n",
              "      <td>...</td>\n",
              "      <td>...</td>\n",
              "      <td>...</td>\n",
              "      <td>...</td>\n",
              "      <td>...</td>\n",
              "      <td>...</td>\n",
              "    </tr>\n",
              "    <tr>\n",
              "      <th>3195</th>\n",
              "      <td>232.804642</td>\n",
              "      <td>209.441604</td>\n",
              "      <td>164.924357</td>\n",
              "      <td>233.308869</td>\n",
              "      <td>210.109594</td>\n",
              "      <td>166.164853</td>\n",
              "      <td>19.601331</td>\n",
              "      <td>74.376755</td>\n",
              "      <td>232.804642</td>\n",
              "      <td>19.552094</td>\n",
              "      <td>73.433042</td>\n",
              "      <td>233.308869</td>\n",
              "      <td>A2</td>\n",
              "      <td>D4</td>\n",
              "      <td>Set4</td>\n",
              "      <td>NaN</td>\n",
              "    </tr>\n",
              "    <tr>\n",
              "      <th>3196</th>\n",
              "      <td>235.903985</td>\n",
              "      <td>218.940670</td>\n",
              "      <td>179.875741</td>\n",
              "      <td>236.487092</td>\n",
              "      <td>219.666951</td>\n",
              "      <td>181.014864</td>\n",
              "      <td>20.612775</td>\n",
              "      <td>78.169873</td>\n",
              "      <td>229.335768</td>\n",
              "      <td>20.589787</td>\n",
              "      <td>77.092810</td>\n",
              "      <td>229.914515</td>\n",
              "      <td>A2</td>\n",
              "      <td>D4</td>\n",
              "      <td>Set4</td>\n",
              "      <td>NaN</td>\n",
              "    </tr>\n",
              "    <tr>\n",
              "      <th>3197</th>\n",
              "      <td>232.175960</td>\n",
              "      <td>216.874036</td>\n",
              "      <td>178.708465</td>\n",
              "      <td>232.964654</td>\n",
              "      <td>217.832160</td>\n",
              "      <td>180.185122</td>\n",
              "      <td>21.562292</td>\n",
              "      <td>58.762357</td>\n",
              "      <td>232.175960</td>\n",
              "      <td>21.513975</td>\n",
              "      <td>57.839201</td>\n",
              "      <td>232.964654</td>\n",
              "      <td>A2</td>\n",
              "      <td>D4</td>\n",
              "      <td>Set4</td>\n",
              "      <td>NaN</td>\n",
              "    </tr>\n",
              "    <tr>\n",
              "      <th>3198</th>\n",
              "      <td>231.726077</td>\n",
              "      <td>211.455077</td>\n",
              "      <td>167.223440</td>\n",
              "      <td>232.533177</td>\n",
              "      <td>212.551597</td>\n",
              "      <td>168.982505</td>\n",
              "      <td>20.556367</td>\n",
              "      <td>71.019641</td>\n",
              "      <td>231.726077</td>\n",
              "      <td>20.552237</td>\n",
              "      <td>69.773771</td>\n",
              "      <td>232.533177</td>\n",
              "      <td>A2</td>\n",
              "      <td>D4</td>\n",
              "      <td>Set4</td>\n",
              "      <td>NaN</td>\n",
              "    </tr>\n",
              "    <tr>\n",
              "      <th>3199</th>\n",
              "      <td>226.100641</td>\n",
              "      <td>197.575278</td>\n",
              "      <td>146.748235</td>\n",
              "      <td>226.795889</td>\n",
              "      <td>198.548539</td>\n",
              "      <td>147.966148</td>\n",
              "      <td>19.189595</td>\n",
              "      <td>89.497849</td>\n",
              "      <td>226.100641</td>\n",
              "      <td>19.239457</td>\n",
              "      <td>88.650238</td>\n",
              "      <td>226.795889</td>\n",
              "      <td>A2</td>\n",
              "      <td>D4</td>\n",
              "      <td>Set4</td>\n",
              "      <td>NaN</td>\n",
              "    </tr>\n",
              "  </tbody>\n",
              "</table>\n",
              "<p>3200 rows × 16 columns</p>\n",
              "</div>\n",
              "      <button class=\"colab-df-convert\" onclick=\"convertToInteractive('df-2323d373-71f7-46c6-94e2-b4ca14f964c9')\"\n",
              "              title=\"Convert this dataframe to an interactive table.\"\n",
              "              style=\"display:none;\">\n",
              "        \n",
              "  <svg xmlns=\"http://www.w3.org/2000/svg\" height=\"24px\"viewBox=\"0 0 24 24\"\n",
              "       width=\"24px\">\n",
              "    <path d=\"M0 0h24v24H0V0z\" fill=\"none\"/>\n",
              "    <path d=\"M18.56 5.44l.94 2.06.94-2.06 2.06-.94-2.06-.94-.94-2.06-.94 2.06-2.06.94zm-11 1L8.5 8.5l.94-2.06 2.06-.94-2.06-.94L8.5 2.5l-.94 2.06-2.06.94zm10 10l.94 2.06.94-2.06 2.06-.94-2.06-.94-.94-2.06-.94 2.06-2.06.94z\"/><path d=\"M17.41 7.96l-1.37-1.37c-.4-.4-.92-.59-1.43-.59-.52 0-1.04.2-1.43.59L10.3 9.45l-7.72 7.72c-.78.78-.78 2.05 0 2.83L4 21.41c.39.39.9.59 1.41.59.51 0 1.02-.2 1.41-.59l7.78-7.78 2.81-2.81c.8-.78.8-2.07 0-2.86zM5.41 20L4 18.59l7.72-7.72 1.47 1.35L5.41 20z\"/>\n",
              "  </svg>\n",
              "      </button>\n",
              "      \n",
              "  <style>\n",
              "    .colab-df-container {\n",
              "      display:flex;\n",
              "      flex-wrap:wrap;\n",
              "      gap: 12px;\n",
              "    }\n",
              "\n",
              "    .colab-df-convert {\n",
              "      background-color: #E8F0FE;\n",
              "      border: none;\n",
              "      border-radius: 50%;\n",
              "      cursor: pointer;\n",
              "      display: none;\n",
              "      fill: #1967D2;\n",
              "      height: 32px;\n",
              "      padding: 0 0 0 0;\n",
              "      width: 32px;\n",
              "    }\n",
              "\n",
              "    .colab-df-convert:hover {\n",
              "      background-color: #E2EBFA;\n",
              "      box-shadow: 0px 1px 2px rgba(60, 64, 67, 0.3), 0px 1px 3px 1px rgba(60, 64, 67, 0.15);\n",
              "      fill: #174EA6;\n",
              "    }\n",
              "\n",
              "    [theme=dark] .colab-df-convert {\n",
              "      background-color: #3B4455;\n",
              "      fill: #D2E3FC;\n",
              "    }\n",
              "\n",
              "    [theme=dark] .colab-df-convert:hover {\n",
              "      background-color: #434B5C;\n",
              "      box-shadow: 0px 1px 3px 1px rgba(0, 0, 0, 0.15);\n",
              "      filter: drop-shadow(0px 1px 2px rgba(0, 0, 0, 0.3));\n",
              "      fill: #FFFFFF;\n",
              "    }\n",
              "  </style>\n",
              "\n",
              "      <script>\n",
              "        const buttonEl =\n",
              "          document.querySelector('#df-2323d373-71f7-46c6-94e2-b4ca14f964c9 button.colab-df-convert');\n",
              "        buttonEl.style.display =\n",
              "          google.colab.kernel.accessAllowed ? 'block' : 'none';\n",
              "\n",
              "        async function convertToInteractive(key) {\n",
              "          const element = document.querySelector('#df-2323d373-71f7-46c6-94e2-b4ca14f964c9');\n",
              "          const dataTable =\n",
              "            await google.colab.kernel.invokeFunction('convertToInteractive',\n",
              "                                                     [key], {});\n",
              "          if (!dataTable) return;\n",
              "\n",
              "          const docLinkHtml = 'Like what you see? Visit the ' +\n",
              "            '<a target=\"_blank\" href=https://colab.research.google.com/notebooks/data_table.ipynb>data table notebook</a>'\n",
              "            + ' to learn more about interactive tables.';\n",
              "          element.innerHTML = '';\n",
              "          dataTable['output_type'] = 'display_data';\n",
              "          await google.colab.output.renderOutput(dataTable, element);\n",
              "          const docLink = document.createElement('div');\n",
              "          docLink.innerHTML = docLinkHtml;\n",
              "          element.appendChild(docLink);\n",
              "        }\n",
              "      </script>\n",
              "    </div>\n",
              "  </div>\n",
              "  "
            ],
            "text/plain": [
              "           R-ref       G-ref  ...  Setting                                       Img\n",
              "0     232.175960  216.874036  ...     Set1  77308B8C-A458-48C0-A0EF-DD05DD0AEA75.png\n",
              "1     231.726077  211.455077  ...     Set1  DD37E60E-8484-48E3-8FB4-7E94B71553F4.png\n",
              "2     226.100641  197.575278  ...     Set1  0ED6DB80-7C02-41B3-88E9-CB382B96B37C.png\n",
              "3     230.612531  207.562373  ...     Set1  8B551D28-1E87-49BD-9E20-8B3F5F08FE8E.png\n",
              "4     232.133431  209.823472  ...     Set1  C12D1E9C-5BFA-4DD7-9D3F-194378F9673D.png\n",
              "...          ...         ...  ...      ...                                       ...\n",
              "3195  232.804642  209.441604  ...     Set4                                       NaN\n",
              "3196  235.903985  218.940670  ...     Set4                                       NaN\n",
              "3197  232.175960  216.874036  ...     Set4                                       NaN\n",
              "3198  231.726077  211.455077  ...     Set4                                       NaN\n",
              "3199  226.100641  197.575278  ...     Set4                                       NaN\n",
              "\n",
              "[3200 rows x 16 columns]"
            ]
          },
          "metadata": {},
          "execution_count": 33
        }
      ]
    },
    {
      "cell_type": "markdown",
      "source": [
        "###RGB"
      ],
      "metadata": {
        "id": "XdYZEz6Hp0sY"
      }
    },
    {
      "cell_type": "code",
      "source": [
        "RGB_A2 = table_A2.drop(['H-ref','S-ref','V-ref','S-Shad','V-Shad','Shade-ref','Setting','Img','Shade','H-Shad'], axis=1)"
      ],
      "metadata": {
        "id": "HWG3s4MJpx0y"
      },
      "execution_count": 34,
      "outputs": []
    },
    {
      "cell_type": "code",
      "source": [
        "X_A2_RGB = np.array(RGB_A2)"
      ],
      "metadata": {
        "id": "JJ0YE3sZpx0y"
      },
      "execution_count": 35,
      "outputs": []
    },
    {
      "cell_type": "code",
      "source": [
        "y_A2_RGB =  table_A2.iloc[:,13:14]"
      ],
      "metadata": {
        "id": "26zqJqzOpx0y"
      },
      "execution_count": 36,
      "outputs": []
    },
    {
      "cell_type": "code",
      "source": [
        "y_A2_RGB = np.array(y_A2_RGB)"
      ],
      "metadata": {
        "id": "BLa-RyUMpx0y"
      },
      "execution_count": 37,
      "outputs": []
    },
    {
      "cell_type": "code",
      "source": [
        "X_test_A2_RGB , X_train_A2_RGB , y_test_A2_RGB, y_train_A2_RGB = train_test_split(X_A2_RGB, y_A2_RGB, test_size=80, train_size=320)"
      ],
      "metadata": {
        "id": "RB77Dw91px0z"
      },
      "execution_count": 38,
      "outputs": []
    },
    {
      "cell_type": "code",
      "source": [
        "clf.fit(X_train_A2_RGB, y_train_A2_RGB)"
      ],
      "metadata": {
        "outputId": "2bac130c-2864-44bf-d4d6-348d930d3d2e",
        "colab": {
          "base_uri": "https://localhost:8080/"
        },
        "id": "W8Y9jD58px0z"
      },
      "execution_count": 39,
      "outputs": [
        {
          "output_type": "stream",
          "name": "stderr",
          "text": [
            "/usr/local/lib/python3.7/dist-packages/ipykernel_launcher.py:1: DataConversionWarning: A column-vector y was passed when a 1d array was expected. Please change the shape of y to (n_samples,), for example using ravel().\n",
            "  \"\"\"Entry point for launching an IPython kernel.\n"
          ]
        },
        {
          "output_type": "execute_result",
          "data": {
            "text/plain": [
              "RandomForestClassifier()"
            ]
          },
          "metadata": {},
          "execution_count": 39
        }
      ]
    },
    {
      "cell_type": "code",
      "source": [
        "y_pred_A2_RGB = clf.predict(X_test_A2_RGB)"
      ],
      "metadata": {
        "id": "MJ6xQzbdpx0z"
      },
      "execution_count": 40,
      "outputs": []
    },
    {
      "cell_type": "code",
      "source": [
        "print(\"Accuracy:\", metrics.accuracy_score(y_test_A2_RGB, y_pred_A2_RGB))"
      ],
      "metadata": {
        "outputId": "89cde025-8395-4161-ca5d-9f8817d355ce",
        "colab": {
          "base_uri": "https://localhost:8080/"
        },
        "id": "EEz3ChR7px0z"
      },
      "execution_count": 41,
      "outputs": [
        {
          "output_type": "stream",
          "name": "stdout",
          "text": [
            "Accuracy: 0.29375\n"
          ]
        }
      ]
    },
    {
      "cell_type": "markdown",
      "source": [
        "###HSV"
      ],
      "metadata": {
        "id": "zhwZ6aGhp552"
      }
    },
    {
      "cell_type": "code",
      "source": [
        "HSV_A2 = table_A2.drop(['R-ref','G-ref','B-ref','R-Shad','G-Shad','B-Shad','Shade-ref','Setting','Img','Shade'], axis=1)"
      ],
      "metadata": {
        "id": "1wxQ1RfNryxH"
      },
      "execution_count": 42,
      "outputs": []
    },
    {
      "cell_type": "code",
      "source": [
        "X_A2_HSV = np.array(HSV_A2)"
      ],
      "metadata": {
        "id": "7BsI1tuJryxI"
      },
      "execution_count": 43,
      "outputs": []
    },
    {
      "cell_type": "code",
      "source": [
        "y_A2_HSV =  table_A2.iloc[:,13:14]"
      ],
      "metadata": {
        "id": "mSrPVNiTryxI"
      },
      "execution_count": 44,
      "outputs": []
    },
    {
      "cell_type": "code",
      "source": [
        "y_A2_HSV = np.array(y_A2_HSV)"
      ],
      "metadata": {
        "id": "SwLg6RKBryxI"
      },
      "execution_count": 45,
      "outputs": []
    },
    {
      "cell_type": "code",
      "source": [
        "X_test_A2_HSV , X_train_A2_HSV , y_test_A2_HSV, y_train_A2_HSV = train_test_split(X_A2_HSV, y_A2_HSV, test_size=80, train_size=320)"
      ],
      "metadata": {
        "id": "WfZZp8j-ryxI"
      },
      "execution_count": 46,
      "outputs": []
    },
    {
      "cell_type": "code",
      "source": [
        "clf.fit(X_train_A2_HSV, y_train_A2_HSV)"
      ],
      "metadata": {
        "outputId": "329a6821-6ac3-414f-dd09-ce6f0b004572",
        "colab": {
          "base_uri": "https://localhost:8080/"
        },
        "id": "rVxmp-qYryxI"
      },
      "execution_count": 47,
      "outputs": [
        {
          "output_type": "stream",
          "name": "stderr",
          "text": [
            "/usr/local/lib/python3.7/dist-packages/ipykernel_launcher.py:1: DataConversionWarning: A column-vector y was passed when a 1d array was expected. Please change the shape of y to (n_samples,), for example using ravel().\n",
            "  \"\"\"Entry point for launching an IPython kernel.\n"
          ]
        },
        {
          "output_type": "execute_result",
          "data": {
            "text/plain": [
              "RandomForestClassifier()"
            ]
          },
          "metadata": {},
          "execution_count": 47
        }
      ]
    },
    {
      "cell_type": "code",
      "source": [
        "y_pred_A2_HSV = clf.predict(X_test_A2_HSV)"
      ],
      "metadata": {
        "id": "yjuVoycHryxJ"
      },
      "execution_count": 48,
      "outputs": []
    },
    {
      "cell_type": "code",
      "source": [
        "print(\"Accuracy:\", metrics.accuracy_score(y_test_A2_HSV, y_pred_A2_HSV))"
      ],
      "metadata": {
        "outputId": "a79bfdc9-e246-46b5-d66e-b248d4ea14dd",
        "colab": {
          "base_uri": "https://localhost:8080/"
        },
        "id": "cy-0I5vOryxJ"
      },
      "execution_count": 49,
      "outputs": [
        {
          "output_type": "stream",
          "name": "stdout",
          "text": [
            "Accuracy: 0.384375\n"
          ]
        }
      ]
    },
    {
      "cell_type": "markdown",
      "source": [
        "##A3"
      ],
      "metadata": {
        "id": "gAwwou-Bp7vZ"
      }
    },
    {
      "cell_type": "code",
      "source": [
        "table_A3= pd.read_excel(AA, sheet_name='A3')\n",
        "table_A3"
      ],
      "metadata": {
        "outputId": "07ea5966-70b1-4e2d-8cb6-4d1f903fef60",
        "colab": {
          "base_uri": "https://localhost:8080/",
          "height": 0
        },
        "id": "N0ace1vpqBdl"
      },
      "execution_count": 50,
      "outputs": [
        {
          "output_type": "execute_result",
          "data": {
            "text/html": [
              "\n",
              "  <div id=\"df-e236be82-113a-4a82-8d77-cf179edb54f1\">\n",
              "    <div class=\"colab-df-container\">\n",
              "      <div>\n",
              "<style scoped>\n",
              "    .dataframe tbody tr th:only-of-type {\n",
              "        vertical-align: middle;\n",
              "    }\n",
              "\n",
              "    .dataframe tbody tr th {\n",
              "        vertical-align: top;\n",
              "    }\n",
              "\n",
              "    .dataframe thead th {\n",
              "        text-align: right;\n",
              "    }\n",
              "</style>\n",
              "<table border=\"1\" class=\"dataframe\">\n",
              "  <thead>\n",
              "    <tr style=\"text-align: right;\">\n",
              "      <th></th>\n",
              "      <th>R-ref</th>\n",
              "      <th>G-ref</th>\n",
              "      <th>B-ref</th>\n",
              "      <th>R-Shad</th>\n",
              "      <th>G-Shad</th>\n",
              "      <th>B-Shad</th>\n",
              "      <th>H-ref</th>\n",
              "      <th>S-ref</th>\n",
              "      <th>V-ref</th>\n",
              "      <th>H-Shad</th>\n",
              "      <th>S-Shad</th>\n",
              "      <th>V-Shad</th>\n",
              "      <th>Shade-ref</th>\n",
              "      <th>Shade</th>\n",
              "      <th>Setting</th>\n",
              "      <th>Img</th>\n",
              "    </tr>\n",
              "  </thead>\n",
              "  <tbody>\n",
              "    <tr>\n",
              "      <th>0</th>\n",
              "      <td>240.865271</td>\n",
              "      <td>224.637854</td>\n",
              "      <td>178.549306</td>\n",
              "      <td>241.270820</td>\n",
              "      <td>225.258019</td>\n",
              "      <td>179.527345</td>\n",
              "      <td>22.332441</td>\n",
              "      <td>66.000568</td>\n",
              "      <td>240.865271</td>\n",
              "      <td>22.344499</td>\n",
              "      <td>65.293578</td>\n",
              "      <td>241.270820</td>\n",
              "      <td>A3</td>\n",
              "      <td>A1</td>\n",
              "      <td>Set1</td>\n",
              "      <td>BAD1342F-482E-488F-8241-A393B4779E26.png</td>\n",
              "    </tr>\n",
              "    <tr>\n",
              "      <th>1</th>\n",
              "      <td>234.887834</td>\n",
              "      <td>223.690123</td>\n",
              "      <td>188.796283</td>\n",
              "      <td>235.609061</td>\n",
              "      <td>224.545978</td>\n",
              "      <td>190.322452</td>\n",
              "      <td>22.660093</td>\n",
              "      <td>50.039201</td>\n",
              "      <td>234.887834</td>\n",
              "      <td>22.616101</td>\n",
              "      <td>49.037977</td>\n",
              "      <td>235.609061</td>\n",
              "      <td>A3</td>\n",
              "      <td>A1</td>\n",
              "      <td>Set1</td>\n",
              "      <td>0E4BF624-DA48-45D7-8CEF-1F893F3E36A9.png</td>\n",
              "    </tr>\n",
              "    <tr>\n",
              "      <th>2</th>\n",
              "      <td>237.374726</td>\n",
              "      <td>219.960149</td>\n",
              "      <td>176.637286</td>\n",
              "      <td>237.957613</td>\n",
              "      <td>220.812531</td>\n",
              "      <td>177.951355</td>\n",
              "      <td>21.737359</td>\n",
              "      <td>65.276114</td>\n",
              "      <td>237.374726</td>\n",
              "      <td>21.747173</td>\n",
              "      <td>64.356589</td>\n",
              "      <td>237.957613</td>\n",
              "      <td>A3</td>\n",
              "      <td>A1</td>\n",
              "      <td>Set1</td>\n",
              "      <td>A5A67F7B-D2B1-4729-8A0B-9BE2F2DF55C6.png</td>\n",
              "    </tr>\n",
              "    <tr>\n",
              "      <th>3</th>\n",
              "      <td>240.543706</td>\n",
              "      <td>213.146498</td>\n",
              "      <td>156.376268</td>\n",
              "      <td>241.134485</td>\n",
              "      <td>214.226655</td>\n",
              "      <td>158.206102</td>\n",
              "      <td>20.320672</td>\n",
              "      <td>89.255499</td>\n",
              "      <td>240.543706</td>\n",
              "      <td>20.371097</td>\n",
              "      <td>87.763246</td>\n",
              "      <td>241.134485</td>\n",
              "      <td>A3</td>\n",
              "      <td>A1</td>\n",
              "      <td>Set1</td>\n",
              "      <td>35D1BEA8-E650-4D83-9D61-17AD65EABD39.png</td>\n",
              "    </tr>\n",
              "    <tr>\n",
              "      <th>4</th>\n",
              "      <td>240.498498</td>\n",
              "      <td>229.602062</td>\n",
              "      <td>194.791981</td>\n",
              "      <td>240.924756</td>\n",
              "      <td>230.162577</td>\n",
              "      <td>195.716165</td>\n",
              "      <td>22.651408</td>\n",
              "      <td>48.460271</td>\n",
              "      <td>240.498498</td>\n",
              "      <td>22.683806</td>\n",
              "      <td>47.859327</td>\n",
              "      <td>240.924756</td>\n",
              "      <td>A3</td>\n",
              "      <td>A1</td>\n",
              "      <td>Set1</td>\n",
              "      <td>18FE9FE4-F848-465E-B7FE-7792C8A083CB.png</td>\n",
              "    </tr>\n",
              "    <tr>\n",
              "      <th>...</th>\n",
              "      <td>...</td>\n",
              "      <td>...</td>\n",
              "      <td>...</td>\n",
              "      <td>...</td>\n",
              "      <td>...</td>\n",
              "      <td>...</td>\n",
              "      <td>...</td>\n",
              "      <td>...</td>\n",
              "      <td>...</td>\n",
              "      <td>...</td>\n",
              "      <td>...</td>\n",
              "      <td>...</td>\n",
              "      <td>...</td>\n",
              "      <td>...</td>\n",
              "      <td>...</td>\n",
              "      <td>...</td>\n",
              "    </tr>\n",
              "    <tr>\n",
              "      <th>3195</th>\n",
              "      <td>215.312718</td>\n",
              "      <td>216.245759</td>\n",
              "      <td>196.157455</td>\n",
              "      <td>214.860323</td>\n",
              "      <td>215.754498</td>\n",
              "      <td>195.762108</td>\n",
              "      <td>28.454590</td>\n",
              "      <td>52.051295</td>\n",
              "      <td>221.314991</td>\n",
              "      <td>28.269469</td>\n",
              "      <td>52.384325</td>\n",
              "      <td>220.852002</td>\n",
              "      <td>A3</td>\n",
              "      <td>D4</td>\n",
              "      <td>Set4</td>\n",
              "      <td>B83176D1-07D1-4ED0-AAE9-FCD4574B5C77.png</td>\n",
              "    </tr>\n",
              "    <tr>\n",
              "      <th>3196</th>\n",
              "      <td>215.690610</td>\n",
              "      <td>216.009902</td>\n",
              "      <td>196.406055</td>\n",
              "      <td>215.166773</td>\n",
              "      <td>215.486879</td>\n",
              "      <td>195.933291</td>\n",
              "      <td>30.849525</td>\n",
              "      <td>23.662609</td>\n",
              "      <td>216.485350</td>\n",
              "      <td>30.867293</td>\n",
              "      <td>23.636228</td>\n",
              "      <td>215.959036</td>\n",
              "      <td>A3</td>\n",
              "      <td>D4</td>\n",
              "      <td>Set4</td>\n",
              "      <td>7240B378-683D-473E-892E-7495463896C9.png</td>\n",
              "    </tr>\n",
              "    <tr>\n",
              "      <th>3197</th>\n",
              "      <td>213.749290</td>\n",
              "      <td>210.436328</td>\n",
              "      <td>181.714877</td>\n",
              "      <td>213.046725</td>\n",
              "      <td>209.822132</td>\n",
              "      <td>181.286679</td>\n",
              "      <td>26.683954</td>\n",
              "      <td>38.233260</td>\n",
              "      <td>213.749290</td>\n",
              "      <td>26.767157</td>\n",
              "      <td>38.010668</td>\n",
              "      <td>213.046725</td>\n",
              "      <td>A3</td>\n",
              "      <td>D4</td>\n",
              "      <td>Set4</td>\n",
              "      <td>39327F65-2360-4CAA-96AB-CED449DA5C6F.png</td>\n",
              "    </tr>\n",
              "    <tr>\n",
              "      <th>3198</th>\n",
              "      <td>211.214674</td>\n",
              "      <td>204.185537</td>\n",
              "      <td>158.897330</td>\n",
              "      <td>210.905910</td>\n",
              "      <td>203.783372</td>\n",
              "      <td>158.707275</td>\n",
              "      <td>26.202337</td>\n",
              "      <td>63.120039</td>\n",
              "      <td>211.214674</td>\n",
              "      <td>26.147358</td>\n",
              "      <td>63.070194</td>\n",
              "      <td>210.905910</td>\n",
              "      <td>A3</td>\n",
              "      <td>D4</td>\n",
              "      <td>Set4</td>\n",
              "      <td>B8C1AF4E-061D-4CB7-BFB5-69B3DE73FE89.png</td>\n",
              "    </tr>\n",
              "    <tr>\n",
              "      <th>3199</th>\n",
              "      <td>221.403052</td>\n",
              "      <td>217.426426</td>\n",
              "      <td>188.743933</td>\n",
              "      <td>220.877036</td>\n",
              "      <td>216.910035</td>\n",
              "      <td>188.415191</td>\n",
              "      <td>26.406947</td>\n",
              "      <td>37.572518</td>\n",
              "      <td>221.403052</td>\n",
              "      <td>26.399047</td>\n",
              "      <td>37.439940</td>\n",
              "      <td>220.877036</td>\n",
              "      <td>A3</td>\n",
              "      <td>D4</td>\n",
              "      <td>Set4</td>\n",
              "      <td>7E6D5A19-5AB2-4317-83F1-CC56829025EB.png</td>\n",
              "    </tr>\n",
              "  </tbody>\n",
              "</table>\n",
              "<p>3200 rows × 16 columns</p>\n",
              "</div>\n",
              "      <button class=\"colab-df-convert\" onclick=\"convertToInteractive('df-e236be82-113a-4a82-8d77-cf179edb54f1')\"\n",
              "              title=\"Convert this dataframe to an interactive table.\"\n",
              "              style=\"display:none;\">\n",
              "        \n",
              "  <svg xmlns=\"http://www.w3.org/2000/svg\" height=\"24px\"viewBox=\"0 0 24 24\"\n",
              "       width=\"24px\">\n",
              "    <path d=\"M0 0h24v24H0V0z\" fill=\"none\"/>\n",
              "    <path d=\"M18.56 5.44l.94 2.06.94-2.06 2.06-.94-2.06-.94-.94-2.06-.94 2.06-2.06.94zm-11 1L8.5 8.5l.94-2.06 2.06-.94-2.06-.94L8.5 2.5l-.94 2.06-2.06.94zm10 10l.94 2.06.94-2.06 2.06-.94-2.06-.94-.94-2.06-.94 2.06-2.06.94z\"/><path d=\"M17.41 7.96l-1.37-1.37c-.4-.4-.92-.59-1.43-.59-.52 0-1.04.2-1.43.59L10.3 9.45l-7.72 7.72c-.78.78-.78 2.05 0 2.83L4 21.41c.39.39.9.59 1.41.59.51 0 1.02-.2 1.41-.59l7.78-7.78 2.81-2.81c.8-.78.8-2.07 0-2.86zM5.41 20L4 18.59l7.72-7.72 1.47 1.35L5.41 20z\"/>\n",
              "  </svg>\n",
              "      </button>\n",
              "      \n",
              "  <style>\n",
              "    .colab-df-container {\n",
              "      display:flex;\n",
              "      flex-wrap:wrap;\n",
              "      gap: 12px;\n",
              "    }\n",
              "\n",
              "    .colab-df-convert {\n",
              "      background-color: #E8F0FE;\n",
              "      border: none;\n",
              "      border-radius: 50%;\n",
              "      cursor: pointer;\n",
              "      display: none;\n",
              "      fill: #1967D2;\n",
              "      height: 32px;\n",
              "      padding: 0 0 0 0;\n",
              "      width: 32px;\n",
              "    }\n",
              "\n",
              "    .colab-df-convert:hover {\n",
              "      background-color: #E2EBFA;\n",
              "      box-shadow: 0px 1px 2px rgba(60, 64, 67, 0.3), 0px 1px 3px 1px rgba(60, 64, 67, 0.15);\n",
              "      fill: #174EA6;\n",
              "    }\n",
              "\n",
              "    [theme=dark] .colab-df-convert {\n",
              "      background-color: #3B4455;\n",
              "      fill: #D2E3FC;\n",
              "    }\n",
              "\n",
              "    [theme=dark] .colab-df-convert:hover {\n",
              "      background-color: #434B5C;\n",
              "      box-shadow: 0px 1px 3px 1px rgba(0, 0, 0, 0.15);\n",
              "      filter: drop-shadow(0px 1px 2px rgba(0, 0, 0, 0.3));\n",
              "      fill: #FFFFFF;\n",
              "    }\n",
              "  </style>\n",
              "\n",
              "      <script>\n",
              "        const buttonEl =\n",
              "          document.querySelector('#df-e236be82-113a-4a82-8d77-cf179edb54f1 button.colab-df-convert');\n",
              "        buttonEl.style.display =\n",
              "          google.colab.kernel.accessAllowed ? 'block' : 'none';\n",
              "\n",
              "        async function convertToInteractive(key) {\n",
              "          const element = document.querySelector('#df-e236be82-113a-4a82-8d77-cf179edb54f1');\n",
              "          const dataTable =\n",
              "            await google.colab.kernel.invokeFunction('convertToInteractive',\n",
              "                                                     [key], {});\n",
              "          if (!dataTable) return;\n",
              "\n",
              "          const docLinkHtml = 'Like what you see? Visit the ' +\n",
              "            '<a target=\"_blank\" href=https://colab.research.google.com/notebooks/data_table.ipynb>data table notebook</a>'\n",
              "            + ' to learn more about interactive tables.';\n",
              "          element.innerHTML = '';\n",
              "          dataTable['output_type'] = 'display_data';\n",
              "          await google.colab.output.renderOutput(dataTable, element);\n",
              "          const docLink = document.createElement('div');\n",
              "          docLink.innerHTML = docLinkHtml;\n",
              "          element.appendChild(docLink);\n",
              "        }\n",
              "      </script>\n",
              "    </div>\n",
              "  </div>\n",
              "  "
            ],
            "text/plain": [
              "           R-ref       G-ref  ...  Setting                                       Img\n",
              "0     240.865271  224.637854  ...     Set1  BAD1342F-482E-488F-8241-A393B4779E26.png\n",
              "1     234.887834  223.690123  ...     Set1  0E4BF624-DA48-45D7-8CEF-1F893F3E36A9.png\n",
              "2     237.374726  219.960149  ...     Set1  A5A67F7B-D2B1-4729-8A0B-9BE2F2DF55C6.png\n",
              "3     240.543706  213.146498  ...     Set1  35D1BEA8-E650-4D83-9D61-17AD65EABD39.png\n",
              "4     240.498498  229.602062  ...     Set1  18FE9FE4-F848-465E-B7FE-7792C8A083CB.png\n",
              "...          ...         ...  ...      ...                                       ...\n",
              "3195  215.312718  216.245759  ...     Set4  B83176D1-07D1-4ED0-AAE9-FCD4574B5C77.png\n",
              "3196  215.690610  216.009902  ...     Set4  7240B378-683D-473E-892E-7495463896C9.png\n",
              "3197  213.749290  210.436328  ...     Set4  39327F65-2360-4CAA-96AB-CED449DA5C6F.png\n",
              "3198  211.214674  204.185537  ...     Set4  B8C1AF4E-061D-4CB7-BFB5-69B3DE73FE89.png\n",
              "3199  221.403052  217.426426  ...     Set4  7E6D5A19-5AB2-4317-83F1-CC56829025EB.png\n",
              "\n",
              "[3200 rows x 16 columns]"
            ]
          },
          "metadata": {},
          "execution_count": 50
        }
      ]
    },
    {
      "cell_type": "markdown",
      "source": [
        "###RGB"
      ],
      "metadata": {
        "id": "buWb0qS3sCZj"
      }
    },
    {
      "cell_type": "code",
      "source": [
        "RGB_A3 = table_A3.drop(['H-ref','S-ref','V-ref','S-Shad','V-Shad','Shade-ref','Setting','Img','Shade','H-Shad'], axis=1)"
      ],
      "metadata": {
        "id": "OB4SRhT_qBdl"
      },
      "execution_count": 51,
      "outputs": []
    },
    {
      "cell_type": "code",
      "source": [
        "X_A3_RGB = np.array(RGB_A3)"
      ],
      "metadata": {
        "id": "tAgwo2gPqBdm"
      },
      "execution_count": 52,
      "outputs": []
    },
    {
      "cell_type": "code",
      "source": [
        "y_A3_RGB =  table_A3.iloc[:,13:14]"
      ],
      "metadata": {
        "id": "6WlDtrpLqBdm"
      },
      "execution_count": 53,
      "outputs": []
    },
    {
      "cell_type": "code",
      "source": [
        "y_A3_RGB = np.array(y_A3_RGB)"
      ],
      "metadata": {
        "id": "axMoZHUYqBdm"
      },
      "execution_count": 54,
      "outputs": []
    },
    {
      "cell_type": "code",
      "source": [
        "X_test_A3_RGB , X_train_A3_RGB , y_test_A3_RGB, y_train_A3_RGB = train_test_split(X_A3_RGB, y_A3_RGB, test_size=80, train_size=320)"
      ],
      "metadata": {
        "id": "D-8tQIhWqBdm"
      },
      "execution_count": 55,
      "outputs": []
    },
    {
      "cell_type": "code",
      "source": [
        "clf.fit(X_train_A3_RGB, y_train_A3_RGB)"
      ],
      "metadata": {
        "outputId": "a7240a52-03be-4677-d515-00a844a9ef8f",
        "colab": {
          "base_uri": "https://localhost:8080/"
        },
        "id": "sWIjA4CJqBdm"
      },
      "execution_count": 56,
      "outputs": [
        {
          "output_type": "stream",
          "name": "stderr",
          "text": [
            "/usr/local/lib/python3.7/dist-packages/ipykernel_launcher.py:1: DataConversionWarning: A column-vector y was passed when a 1d array was expected. Please change the shape of y to (n_samples,), for example using ravel().\n",
            "  \"\"\"Entry point for launching an IPython kernel.\n"
          ]
        },
        {
          "output_type": "execute_result",
          "data": {
            "text/plain": [
              "RandomForestClassifier()"
            ]
          },
          "metadata": {},
          "execution_count": 56
        }
      ]
    },
    {
      "cell_type": "code",
      "source": [
        "y_pred_A3_RGB = clf.predict(X_test_A3_RGB)"
      ],
      "metadata": {
        "id": "vwBo8iEoqBdm"
      },
      "execution_count": 57,
      "outputs": []
    },
    {
      "cell_type": "code",
      "source": [
        "print(\"Accuracy:\", metrics.accuracy_score(y_test_A3_RGB, y_pred_A3_RGB))"
      ],
      "metadata": {
        "outputId": "d67a3acd-ff57-4deb-bc24-14567017aa81",
        "colab": {
          "base_uri": "https://localhost:8080/"
        },
        "id": "7FZ1ZPUUqBdm"
      },
      "execution_count": 58,
      "outputs": [
        {
          "output_type": "stream",
          "name": "stdout",
          "text": [
            "Accuracy: 0.1625\n"
          ]
        }
      ]
    },
    {
      "cell_type": "markdown",
      "source": [
        "###HSV"
      ],
      "metadata": {
        "id": "F8m50050qBdm"
      }
    },
    {
      "cell_type": "code",
      "source": [
        "HSV_A3 = table_A3.drop(['R-ref','G-ref','B-ref','R-Shad','G-Shad','B-Shad','Shade-ref','Setting','Img','Shade'], axis=1)"
      ],
      "metadata": {
        "id": "uDnC4Panr_a_"
      },
      "execution_count": 59,
      "outputs": []
    },
    {
      "cell_type": "code",
      "source": [
        "X_A3_HSV = np.array(HSV_A3)"
      ],
      "metadata": {
        "id": "DRzfV1Fcr_a_"
      },
      "execution_count": 60,
      "outputs": []
    },
    {
      "cell_type": "code",
      "source": [
        "y_A3_HSV =  table_A3.iloc[:,13:14]"
      ],
      "metadata": {
        "id": "Xm2lnilkr_a_"
      },
      "execution_count": 61,
      "outputs": []
    },
    {
      "cell_type": "code",
      "source": [
        "y_A3_HSV = np.array(y_A3_HSV)"
      ],
      "metadata": {
        "id": "ofcGXMyLr_bA"
      },
      "execution_count": 62,
      "outputs": []
    },
    {
      "cell_type": "code",
      "source": [
        "X_test_A3_HSV , X_train_A3_HSV , y_test_A3_HSV, y_train_A3_HSV = train_test_split(X_A3_HSV, y_A3_HSV, test_size=80, train_size=320)"
      ],
      "metadata": {
        "id": "igTGBt7Dr_bA"
      },
      "execution_count": 63,
      "outputs": []
    },
    {
      "cell_type": "code",
      "source": [
        "clf.fit(X_train_A3_HSV, y_train_A3_HSV)"
      ],
      "metadata": {
        "outputId": "5de64303-9e35-41fc-956a-6cdfcde8bd6b",
        "colab": {
          "base_uri": "https://localhost:8080/"
        },
        "id": "zqSshqdZr_bA"
      },
      "execution_count": 64,
      "outputs": [
        {
          "output_type": "stream",
          "name": "stderr",
          "text": [
            "/usr/local/lib/python3.7/dist-packages/ipykernel_launcher.py:1: DataConversionWarning: A column-vector y was passed when a 1d array was expected. Please change the shape of y to (n_samples,), for example using ravel().\n",
            "  \"\"\"Entry point for launching an IPython kernel.\n"
          ]
        },
        {
          "output_type": "execute_result",
          "data": {
            "text/plain": [
              "RandomForestClassifier()"
            ]
          },
          "metadata": {},
          "execution_count": 64
        }
      ]
    },
    {
      "cell_type": "code",
      "source": [
        "y_pred_A3_HSV = clf.predict(X_test_A3_HSV)"
      ],
      "metadata": {
        "id": "NNIef-Ulr_bA"
      },
      "execution_count": 65,
      "outputs": []
    },
    {
      "cell_type": "code",
      "source": [
        "print(\"Accuracy:\", metrics.accuracy_score(y_test_A3_HSV, y_pred_A3_HSV))"
      ],
      "metadata": {
        "outputId": "7cb7b70c-0d4d-4208-d110-09860aac3e73",
        "colab": {
          "base_uri": "https://localhost:8080/"
        },
        "id": "YHwSU0LOr_bA"
      },
      "execution_count": 66,
      "outputs": [
        {
          "output_type": "stream",
          "name": "stdout",
          "text": [
            "Accuracy: 0.2\n"
          ]
        }
      ]
    },
    {
      "cell_type": "markdown",
      "source": [
        "##A3.5"
      ],
      "metadata": {
        "id": "fUtd4joVqEJ3"
      }
    },
    {
      "cell_type": "code",
      "source": [
        "table_A3_5= pd.read_excel(AA, sheet_name='A3_5')\n",
        "table_A3_5"
      ],
      "metadata": {
        "outputId": "76577cbf-102c-4a8c-93e1-57d9e64d8ac8",
        "colab": {
          "base_uri": "https://localhost:8080/",
          "height": 0
        },
        "id": "8KKyAo1CqFm7"
      },
      "execution_count": 67,
      "outputs": [
        {
          "output_type": "execute_result",
          "data": {
            "text/html": [
              "\n",
              "  <div id=\"df-6d803a18-1e48-40c4-a5a6-4369af7d306f\">\n",
              "    <div class=\"colab-df-container\">\n",
              "      <div>\n",
              "<style scoped>\n",
              "    .dataframe tbody tr th:only-of-type {\n",
              "        vertical-align: middle;\n",
              "    }\n",
              "\n",
              "    .dataframe tbody tr th {\n",
              "        vertical-align: top;\n",
              "    }\n",
              "\n",
              "    .dataframe thead th {\n",
              "        text-align: right;\n",
              "    }\n",
              "</style>\n",
              "<table border=\"1\" class=\"dataframe\">\n",
              "  <thead>\n",
              "    <tr style=\"text-align: right;\">\n",
              "      <th></th>\n",
              "      <th>R-ref</th>\n",
              "      <th>G-ref</th>\n",
              "      <th>B-ref</th>\n",
              "      <th>R-Shad</th>\n",
              "      <th>G-Shad</th>\n",
              "      <th>B-Shad</th>\n",
              "      <th>H-ref</th>\n",
              "      <th>S-ref</th>\n",
              "      <th>V-ref</th>\n",
              "      <th>H-Shad</th>\n",
              "      <th>S-Shad</th>\n",
              "      <th>V-Shad</th>\n",
              "      <th>Shade-ref</th>\n",
              "      <th>Shade</th>\n",
              "      <th>Setting</th>\n",
              "      <th>Img</th>\n",
              "    </tr>\n",
              "  </thead>\n",
              "  <tbody>\n",
              "    <tr>\n",
              "      <th>0</th>\n",
              "      <td>235.799935</td>\n",
              "      <td>224.516030</td>\n",
              "      <td>190.873549</td>\n",
              "      <td>236.478202</td>\n",
              "      <td>225.354384</td>\n",
              "      <td>192.366332</td>\n",
              "      <td>22.539810</td>\n",
              "      <td>48.802938</td>\n",
              "      <td>235.882396</td>\n",
              "      <td>22.513975</td>\n",
              "      <td>47.750871</td>\n",
              "      <td>236.545338</td>\n",
              "      <td>A3.5</td>\n",
              "      <td>A1</td>\n",
              "      <td>Set1</td>\n",
              "      <td>2DD07CB7-0413-41D5-BE23-51CA3C9164F5.png</td>\n",
              "    </tr>\n",
              "    <tr>\n",
              "      <th>1</th>\n",
              "      <td>238.009577</td>\n",
              "      <td>218.146498</td>\n",
              "      <td>168.652788</td>\n",
              "      <td>238.456155</td>\n",
              "      <td>218.892397</td>\n",
              "      <td>169.966219</td>\n",
              "      <td>21.391040</td>\n",
              "      <td>74.313854</td>\n",
              "      <td>238.009577</td>\n",
              "      <td>21.449968</td>\n",
              "      <td>73.265842</td>\n",
              "      <td>238.456155</td>\n",
              "      <td>A3.5</td>\n",
              "      <td>A1</td>\n",
              "      <td>Set1</td>\n",
              "      <td>F28F074F-5B54-424C-8E70-EC56E06FC3E0.png</td>\n",
              "    </tr>\n",
              "    <tr>\n",
              "      <th>2</th>\n",
              "      <td>238.416687</td>\n",
              "      <td>212.713660</td>\n",
              "      <td>158.665693</td>\n",
              "      <td>239.056255</td>\n",
              "      <td>213.774056</td>\n",
              "      <td>160.482754</td>\n",
              "      <td>22.539810</td>\n",
              "      <td>48.802938</td>\n",
              "      <td>235.882396</td>\n",
              "      <td>22.513975</td>\n",
              "      <td>47.750871</td>\n",
              "      <td>236.545338</td>\n",
              "      <td>A3.5</td>\n",
              "      <td>A1</td>\n",
              "      <td>Set1</td>\n",
              "      <td>6ABA4B94-D8B3-48BA-B1FA-6B5A081F40D1.png</td>\n",
              "    </tr>\n",
              "    <tr>\n",
              "      <th>3</th>\n",
              "      <td>239.417986</td>\n",
              "      <td>227.436572</td>\n",
              "      <td>192.575603</td>\n",
              "      <td>239.889624</td>\n",
              "      <td>228.078444</td>\n",
              "      <td>193.459640</td>\n",
              "      <td>22.327571</td>\n",
              "      <td>49.921191</td>\n",
              "      <td>239.417986</td>\n",
              "      <td>22.373160</td>\n",
              "      <td>49.390157</td>\n",
              "      <td>239.889624</td>\n",
              "      <td>A3.5</td>\n",
              "      <td>A1</td>\n",
              "      <td>Set1</td>\n",
              "      <td>6B5870DF-9D32-4295-9D0E-F1DDA4ABD18F.png</td>\n",
              "    </tr>\n",
              "    <tr>\n",
              "      <th>4</th>\n",
              "      <td>239.556448</td>\n",
              "      <td>216.784027</td>\n",
              "      <td>161.199740</td>\n",
              "      <td>240.061944</td>\n",
              "      <td>217.745111</td>\n",
              "      <td>163.031079</td>\n",
              "      <td>21.443146</td>\n",
              "      <td>83.446474</td>\n",
              "      <td>239.556448</td>\n",
              "      <td>21.478060</td>\n",
              "      <td>81.900078</td>\n",
              "      <td>240.062229</td>\n",
              "      <td>A3.5</td>\n",
              "      <td>A1</td>\n",
              "      <td>Set1</td>\n",
              "      <td>9EBCADA0-A39C-4692-B684-A967FE6F59B5.png</td>\n",
              "    </tr>\n",
              "    <tr>\n",
              "      <th>...</th>\n",
              "      <td>...</td>\n",
              "      <td>...</td>\n",
              "      <td>...</td>\n",
              "      <td>...</td>\n",
              "      <td>...</td>\n",
              "      <td>...</td>\n",
              "      <td>...</td>\n",
              "      <td>...</td>\n",
              "      <td>...</td>\n",
              "      <td>...</td>\n",
              "      <td>...</td>\n",
              "      <td>...</td>\n",
              "      <td>...</td>\n",
              "      <td>...</td>\n",
              "      <td>...</td>\n",
              "      <td>...</td>\n",
              "    </tr>\n",
              "    <tr>\n",
              "      <th>3195</th>\n",
              "      <td>219.796364</td>\n",
              "      <td>220.248600</td>\n",
              "      <td>203.640370</td>\n",
              "      <td>219.211934</td>\n",
              "      <td>219.766731</td>\n",
              "      <td>203.270322</td>\n",
              "      <td>31.111598</td>\n",
              "      <td>19.560669</td>\n",
              "      <td>220.568055</td>\n",
              "      <td>31.312851</td>\n",
              "      <td>19.433184</td>\n",
              "      <td>220.052343</td>\n",
              "      <td>A3.5</td>\n",
              "      <td>D4</td>\n",
              "      <td>Set4</td>\n",
              "      <td>3367950A-D8A9-40C8-801E-72E22D395C34.png</td>\n",
              "    </tr>\n",
              "    <tr>\n",
              "      <th>3196</th>\n",
              "      <td>215.312718</td>\n",
              "      <td>216.245759</td>\n",
              "      <td>196.157455</td>\n",
              "      <td>214.860323</td>\n",
              "      <td>215.754498</td>\n",
              "      <td>195.762108</td>\n",
              "      <td>28.454590</td>\n",
              "      <td>52.051295</td>\n",
              "      <td>221.314991</td>\n",
              "      <td>28.269469</td>\n",
              "      <td>52.384325</td>\n",
              "      <td>220.852002</td>\n",
              "      <td>A3.5</td>\n",
              "      <td>D4</td>\n",
              "      <td>Set4</td>\n",
              "      <td>8BF2D842-EF44-47AB-AACC-56808B9B00FA.png</td>\n",
              "    </tr>\n",
              "    <tr>\n",
              "      <th>3197</th>\n",
              "      <td>215.690610</td>\n",
              "      <td>216.009902</td>\n",
              "      <td>196.406055</td>\n",
              "      <td>215.166773</td>\n",
              "      <td>215.486879</td>\n",
              "      <td>195.933291</td>\n",
              "      <td>30.849525</td>\n",
              "      <td>23.662609</td>\n",
              "      <td>216.485350</td>\n",
              "      <td>30.867293</td>\n",
              "      <td>23.636228</td>\n",
              "      <td>215.959036</td>\n",
              "      <td>A3.5</td>\n",
              "      <td>D4</td>\n",
              "      <td>Set4</td>\n",
              "      <td>B9FB43E3-E88F-4DC7-BED4-D118E33499A7.png</td>\n",
              "    </tr>\n",
              "    <tr>\n",
              "      <th>3198</th>\n",
              "      <td>213.749290</td>\n",
              "      <td>210.436328</td>\n",
              "      <td>181.714877</td>\n",
              "      <td>213.046725</td>\n",
              "      <td>209.822132</td>\n",
              "      <td>181.286679</td>\n",
              "      <td>26.683954</td>\n",
              "      <td>38.233260</td>\n",
              "      <td>213.749290</td>\n",
              "      <td>26.767157</td>\n",
              "      <td>38.010668</td>\n",
              "      <td>213.046725</td>\n",
              "      <td>A3.5</td>\n",
              "      <td>D4</td>\n",
              "      <td>Set4</td>\n",
              "      <td>F878BBCC-20A9-4948-A808-241864171B0C.png</td>\n",
              "    </tr>\n",
              "    <tr>\n",
              "      <th>3199</th>\n",
              "      <td>211.214674</td>\n",
              "      <td>204.185537</td>\n",
              "      <td>158.897330</td>\n",
              "      <td>210.905910</td>\n",
              "      <td>203.783372</td>\n",
              "      <td>158.707275</td>\n",
              "      <td>26.202337</td>\n",
              "      <td>63.120039</td>\n",
              "      <td>211.214674</td>\n",
              "      <td>26.147358</td>\n",
              "      <td>63.070194</td>\n",
              "      <td>210.905910</td>\n",
              "      <td>A3.5</td>\n",
              "      <td>D4</td>\n",
              "      <td>Set4</td>\n",
              "      <td>990B353E-3527-4CD2-975B-05FF3A87C10F.png</td>\n",
              "    </tr>\n",
              "  </tbody>\n",
              "</table>\n",
              "<p>3200 rows × 16 columns</p>\n",
              "</div>\n",
              "      <button class=\"colab-df-convert\" onclick=\"convertToInteractive('df-6d803a18-1e48-40c4-a5a6-4369af7d306f')\"\n",
              "              title=\"Convert this dataframe to an interactive table.\"\n",
              "              style=\"display:none;\">\n",
              "        \n",
              "  <svg xmlns=\"http://www.w3.org/2000/svg\" height=\"24px\"viewBox=\"0 0 24 24\"\n",
              "       width=\"24px\">\n",
              "    <path d=\"M0 0h24v24H0V0z\" fill=\"none\"/>\n",
              "    <path d=\"M18.56 5.44l.94 2.06.94-2.06 2.06-.94-2.06-.94-.94-2.06-.94 2.06-2.06.94zm-11 1L8.5 8.5l.94-2.06 2.06-.94-2.06-.94L8.5 2.5l-.94 2.06-2.06.94zm10 10l.94 2.06.94-2.06 2.06-.94-2.06-.94-.94-2.06-.94 2.06-2.06.94z\"/><path d=\"M17.41 7.96l-1.37-1.37c-.4-.4-.92-.59-1.43-.59-.52 0-1.04.2-1.43.59L10.3 9.45l-7.72 7.72c-.78.78-.78 2.05 0 2.83L4 21.41c.39.39.9.59 1.41.59.51 0 1.02-.2 1.41-.59l7.78-7.78 2.81-2.81c.8-.78.8-2.07 0-2.86zM5.41 20L4 18.59l7.72-7.72 1.47 1.35L5.41 20z\"/>\n",
              "  </svg>\n",
              "      </button>\n",
              "      \n",
              "  <style>\n",
              "    .colab-df-container {\n",
              "      display:flex;\n",
              "      flex-wrap:wrap;\n",
              "      gap: 12px;\n",
              "    }\n",
              "\n",
              "    .colab-df-convert {\n",
              "      background-color: #E8F0FE;\n",
              "      border: none;\n",
              "      border-radius: 50%;\n",
              "      cursor: pointer;\n",
              "      display: none;\n",
              "      fill: #1967D2;\n",
              "      height: 32px;\n",
              "      padding: 0 0 0 0;\n",
              "      width: 32px;\n",
              "    }\n",
              "\n",
              "    .colab-df-convert:hover {\n",
              "      background-color: #E2EBFA;\n",
              "      box-shadow: 0px 1px 2px rgba(60, 64, 67, 0.3), 0px 1px 3px 1px rgba(60, 64, 67, 0.15);\n",
              "      fill: #174EA6;\n",
              "    }\n",
              "\n",
              "    [theme=dark] .colab-df-convert {\n",
              "      background-color: #3B4455;\n",
              "      fill: #D2E3FC;\n",
              "    }\n",
              "\n",
              "    [theme=dark] .colab-df-convert:hover {\n",
              "      background-color: #434B5C;\n",
              "      box-shadow: 0px 1px 3px 1px rgba(0, 0, 0, 0.15);\n",
              "      filter: drop-shadow(0px 1px 2px rgba(0, 0, 0, 0.3));\n",
              "      fill: #FFFFFF;\n",
              "    }\n",
              "  </style>\n",
              "\n",
              "      <script>\n",
              "        const buttonEl =\n",
              "          document.querySelector('#df-6d803a18-1e48-40c4-a5a6-4369af7d306f button.colab-df-convert');\n",
              "        buttonEl.style.display =\n",
              "          google.colab.kernel.accessAllowed ? 'block' : 'none';\n",
              "\n",
              "        async function convertToInteractive(key) {\n",
              "          const element = document.querySelector('#df-6d803a18-1e48-40c4-a5a6-4369af7d306f');\n",
              "          const dataTable =\n",
              "            await google.colab.kernel.invokeFunction('convertToInteractive',\n",
              "                                                     [key], {});\n",
              "          if (!dataTable) return;\n",
              "\n",
              "          const docLinkHtml = 'Like what you see? Visit the ' +\n",
              "            '<a target=\"_blank\" href=https://colab.research.google.com/notebooks/data_table.ipynb>data table notebook</a>'\n",
              "            + ' to learn more about interactive tables.';\n",
              "          element.innerHTML = '';\n",
              "          dataTable['output_type'] = 'display_data';\n",
              "          await google.colab.output.renderOutput(dataTable, element);\n",
              "          const docLink = document.createElement('div');\n",
              "          docLink.innerHTML = docLinkHtml;\n",
              "          element.appendChild(docLink);\n",
              "        }\n",
              "      </script>\n",
              "    </div>\n",
              "  </div>\n",
              "  "
            ],
            "text/plain": [
              "           R-ref       G-ref  ...  Setting                                       Img\n",
              "0     235.799935  224.516030  ...     Set1  2DD07CB7-0413-41D5-BE23-51CA3C9164F5.png\n",
              "1     238.009577  218.146498  ...     Set1  F28F074F-5B54-424C-8E70-EC56E06FC3E0.png\n",
              "2     238.416687  212.713660  ...     Set1  6ABA4B94-D8B3-48BA-B1FA-6B5A081F40D1.png\n",
              "3     239.417986  227.436572  ...     Set1  6B5870DF-9D32-4295-9D0E-F1DDA4ABD18F.png\n",
              "4     239.556448  216.784027  ...     Set1  9EBCADA0-A39C-4692-B684-A967FE6F59B5.png\n",
              "...          ...         ...  ...      ...                                       ...\n",
              "3195  219.796364  220.248600  ...     Set4  3367950A-D8A9-40C8-801E-72E22D395C34.png\n",
              "3196  215.312718  216.245759  ...     Set4  8BF2D842-EF44-47AB-AACC-56808B9B00FA.png\n",
              "3197  215.690610  216.009902  ...     Set4  B9FB43E3-E88F-4DC7-BED4-D118E33499A7.png\n",
              "3198  213.749290  210.436328  ...     Set4  F878BBCC-20A9-4948-A808-241864171B0C.png\n",
              "3199  211.214674  204.185537  ...     Set4  990B353E-3527-4CD2-975B-05FF3A87C10F.png\n",
              "\n",
              "[3200 rows x 16 columns]"
            ]
          },
          "metadata": {},
          "execution_count": 67
        }
      ]
    },
    {
      "cell_type": "markdown",
      "source": [
        "###RGB"
      ],
      "metadata": {
        "id": "i4jLW8jYsF23"
      }
    },
    {
      "cell_type": "code",
      "source": [
        "RGB_A3_5 = table_A3_5.drop(['H-ref','S-ref','V-ref','S-Shad','V-Shad','Shade-ref','Setting','Img','Shade','H-Shad'], axis=1)"
      ],
      "metadata": {
        "id": "g24YeIc4qFm7"
      },
      "execution_count": 68,
      "outputs": []
    },
    {
      "cell_type": "code",
      "source": [
        "X_A3_5_RGB = np.array(RGB_A3_5)"
      ],
      "metadata": {
        "id": "TOKy2qNKqFm7"
      },
      "execution_count": 69,
      "outputs": []
    },
    {
      "cell_type": "code",
      "source": [
        "y_A3_5_RGB =  table_A3_5.iloc[:,13:14]"
      ],
      "metadata": {
        "id": "LWQ_qeyyqFm7"
      },
      "execution_count": 70,
      "outputs": []
    },
    {
      "cell_type": "code",
      "source": [
        "y_A3_5_RGB = np.array(y_A3_5_RGB)"
      ],
      "metadata": {
        "id": "3nOHB2wcqFm7"
      },
      "execution_count": 71,
      "outputs": []
    },
    {
      "cell_type": "code",
      "source": [
        "X_test_A3_5_RGB , X_train_A3_5_RGB , y_test_A3_5_RGB, y_train_A3_5_RGB = train_test_split(X_A3_5_RGB, y_A3_5_RGB, test_size=80, train_size=320)"
      ],
      "metadata": {
        "id": "YXFwHvHMqFm7"
      },
      "execution_count": 72,
      "outputs": []
    },
    {
      "cell_type": "code",
      "source": [
        "clf.fit(X_train_A3_5_RGB, y_train_A3_5_RGB)"
      ],
      "metadata": {
        "outputId": "e6cd17ce-2823-4b96-81a8-ae8dbdb00209",
        "colab": {
          "base_uri": "https://localhost:8080/"
        },
        "id": "TNKNhR8hqFm8"
      },
      "execution_count": 73,
      "outputs": [
        {
          "output_type": "stream",
          "name": "stderr",
          "text": [
            "/usr/local/lib/python3.7/dist-packages/ipykernel_launcher.py:1: DataConversionWarning: A column-vector y was passed when a 1d array was expected. Please change the shape of y to (n_samples,), for example using ravel().\n",
            "  \"\"\"Entry point for launching an IPython kernel.\n"
          ]
        },
        {
          "output_type": "execute_result",
          "data": {
            "text/plain": [
              "RandomForestClassifier()"
            ]
          },
          "metadata": {},
          "execution_count": 73
        }
      ]
    },
    {
      "cell_type": "code",
      "source": [
        "y_pred_A3_5_RGB = clf.predict(X_test_A3_5_RGB)"
      ],
      "metadata": {
        "id": "xXNjYrUJqFm8"
      },
      "execution_count": 74,
      "outputs": []
    },
    {
      "cell_type": "code",
      "source": [
        "print(\"Accuracy:\", metrics.accuracy_score(y_test_A3_5_RGB, y_pred_A3_5_RGB))"
      ],
      "metadata": {
        "outputId": "0d92a377-73db-43d0-acb2-245edef988b7",
        "colab": {
          "base_uri": "https://localhost:8080/"
        },
        "id": "HkNu2BZzqFm8"
      },
      "execution_count": 75,
      "outputs": [
        {
          "output_type": "stream",
          "name": "stdout",
          "text": [
            "Accuracy: 0.159375\n"
          ]
        }
      ]
    },
    {
      "cell_type": "markdown",
      "source": [
        "###HSV"
      ],
      "metadata": {
        "id": "1XgxTVyeqFm8"
      }
    },
    {
      "cell_type": "code",
      "source": [
        "HSV_A3_5 = table_A1.drop(['R-ref','G-ref','B-ref','R-Shad','G-Shad','B-Shad','Shade-ref','Setting','Img','Shade'], axis=1)"
      ],
      "metadata": {
        "id": "C1Ub305WsI1K"
      },
      "execution_count": 76,
      "outputs": []
    },
    {
      "cell_type": "code",
      "source": [
        "X_A3_5_HSV = np.array(HSV_A3_5)"
      ],
      "metadata": {
        "id": "Xia3TBxZsI1K"
      },
      "execution_count": 77,
      "outputs": []
    },
    {
      "cell_type": "code",
      "source": [
        "y_A3_5_HSV =  table_A3_5.iloc[:,13:14]"
      ],
      "metadata": {
        "id": "jITBHvbhsI1K"
      },
      "execution_count": 78,
      "outputs": []
    },
    {
      "cell_type": "code",
      "source": [
        "y_A3_5_HSV = np.array(y_A3_5_HSV)"
      ],
      "metadata": {
        "id": "5iM4VL3xsI1K"
      },
      "execution_count": 79,
      "outputs": []
    },
    {
      "cell_type": "code",
      "source": [
        "X_test_A3_5_HSV , X_train_A3_5_HSV , y_test_A3_5_HSV, y_train_A3_5_HSV = train_test_split(X_A3_5_HSV, y_A3_5_HSV, test_size=80, train_size=320)"
      ],
      "metadata": {
        "id": "-qgubRwEsI1K"
      },
      "execution_count": 80,
      "outputs": []
    },
    {
      "cell_type": "code",
      "source": [
        "clf.fit(X_train_A3_5_HSV, y_train_A3_5_HSV)"
      ],
      "metadata": {
        "outputId": "282a6cd4-dfdc-45dd-f53e-70db64a2cd88",
        "colab": {
          "base_uri": "https://localhost:8080/"
        },
        "id": "DX3rPTFdsI1L"
      },
      "execution_count": 81,
      "outputs": [
        {
          "output_type": "stream",
          "name": "stderr",
          "text": [
            "/usr/local/lib/python3.7/dist-packages/ipykernel_launcher.py:1: DataConversionWarning: A column-vector y was passed when a 1d array was expected. Please change the shape of y to (n_samples,), for example using ravel().\n",
            "  \"\"\"Entry point for launching an IPython kernel.\n"
          ]
        },
        {
          "output_type": "execute_result",
          "data": {
            "text/plain": [
              "RandomForestClassifier()"
            ]
          },
          "metadata": {},
          "execution_count": 81
        }
      ]
    },
    {
      "cell_type": "code",
      "source": [
        "y_pred_A3_5_HSV = clf.predict(X_test_A3_5_HSV)"
      ],
      "metadata": {
        "id": "bgnWDQaosI1L"
      },
      "execution_count": 82,
      "outputs": []
    },
    {
      "cell_type": "code",
      "source": [
        "print(\"Accuracy:\", metrics.accuracy_score(y_test_A3_5_HSV, y_pred_A3_5_HSV))"
      ],
      "metadata": {
        "outputId": "4c8690e6-9ba6-4c40-b9e3-cbc3913dbf0c",
        "colab": {
          "base_uri": "https://localhost:8080/"
        },
        "id": "RGWcB9hNsI1L"
      },
      "execution_count": 83,
      "outputs": [
        {
          "output_type": "stream",
          "name": "stdout",
          "text": [
            "Accuracy: 0.190625\n"
          ]
        }
      ]
    },
    {
      "cell_type": "markdown",
      "source": [
        "##A4"
      ],
      "metadata": {
        "id": "kkUGNZutqGaJ"
      }
    },
    {
      "cell_type": "code",
      "source": [
        "table_A4= pd.read_excel(AA, sheet_name='A4')\n",
        "table_A4"
      ],
      "metadata": {
        "outputId": "721e37e2-3483-4d13-895e-8716c70a641a",
        "colab": {
          "base_uri": "https://localhost:8080/",
          "height": 0
        },
        "id": "E9wMqdkAqIYq"
      },
      "execution_count": 84,
      "outputs": [
        {
          "output_type": "execute_result",
          "data": {
            "text/html": [
              "\n",
              "  <div id=\"df-64c9c221-3d24-428e-93c4-b47c2f678bd3\">\n",
              "    <div class=\"colab-df-container\">\n",
              "      <div>\n",
              "<style scoped>\n",
              "    .dataframe tbody tr th:only-of-type {\n",
              "        vertical-align: middle;\n",
              "    }\n",
              "\n",
              "    .dataframe tbody tr th {\n",
              "        vertical-align: top;\n",
              "    }\n",
              "\n",
              "    .dataframe thead th {\n",
              "        text-align: right;\n",
              "    }\n",
              "</style>\n",
              "<table border=\"1\" class=\"dataframe\">\n",
              "  <thead>\n",
              "    <tr style=\"text-align: right;\">\n",
              "      <th></th>\n",
              "      <th>R-ref</th>\n",
              "      <th>G-ref</th>\n",
              "      <th>B-ref</th>\n",
              "      <th>R-Shad</th>\n",
              "      <th>G-Shad</th>\n",
              "      <th>B-Shad</th>\n",
              "      <th>H-ref</th>\n",
              "      <th>S-ref</th>\n",
              "      <th>V-ref</th>\n",
              "      <th>H-Shad</th>\n",
              "      <th>S-Shad</th>\n",
              "      <th>V-Shad</th>\n",
              "      <th>Shade-ref</th>\n",
              "      <th>Shade</th>\n",
              "      <th>Setting</th>\n",
              "      <th>Img</th>\n",
              "    </tr>\n",
              "  </thead>\n",
              "  <tbody>\n",
              "    <tr>\n",
              "      <th>0</th>\n",
              "      <td>232.175960</td>\n",
              "      <td>216.874036</td>\n",
              "      <td>178.708465</td>\n",
              "      <td>232.964654</td>\n",
              "      <td>217.832160</td>\n",
              "      <td>180.185122</td>\n",
              "      <td>21.562292</td>\n",
              "      <td>58.762357</td>\n",
              "      <td>232.175960</td>\n",
              "      <td>21.513975</td>\n",
              "      <td>57.839201</td>\n",
              "      <td>232.964654</td>\n",
              "      <td>A4</td>\n",
              "      <td>A1</td>\n",
              "      <td>Set1</td>\n",
              "      <td>C6D0A6B4-EAD1-4C5F-9E6B-CE5E0923BCF0.png</td>\n",
              "    </tr>\n",
              "    <tr>\n",
              "      <th>1</th>\n",
              "      <td>231.726077</td>\n",
              "      <td>211.455077</td>\n",
              "      <td>167.223440</td>\n",
              "      <td>232.533177</td>\n",
              "      <td>212.551597</td>\n",
              "      <td>168.982505</td>\n",
              "      <td>20.556367</td>\n",
              "      <td>71.019641</td>\n",
              "      <td>231.726077</td>\n",
              "      <td>20.552237</td>\n",
              "      <td>69.773771</td>\n",
              "      <td>232.533177</td>\n",
              "      <td>A4</td>\n",
              "      <td>A1</td>\n",
              "      <td>Set1</td>\n",
              "      <td>A3B3B5C2-1901-4D2C-8309-010408F66705.png</td>\n",
              "    </tr>\n",
              "    <tr>\n",
              "      <th>2</th>\n",
              "      <td>226.100641</td>\n",
              "      <td>197.575278</td>\n",
              "      <td>146.748235</td>\n",
              "      <td>226.795889</td>\n",
              "      <td>198.548539</td>\n",
              "      <td>147.966148</td>\n",
              "      <td>19.189595</td>\n",
              "      <td>89.497849</td>\n",
              "      <td>226.100641</td>\n",
              "      <td>19.239457</td>\n",
              "      <td>88.650238</td>\n",
              "      <td>226.795889</td>\n",
              "      <td>A4</td>\n",
              "      <td>A1</td>\n",
              "      <td>Set1</td>\n",
              "      <td>4C428E15-84C8-4D96-BD24-DC9969741560.png</td>\n",
              "    </tr>\n",
              "    <tr>\n",
              "      <th>3</th>\n",
              "      <td>230.612531</td>\n",
              "      <td>207.562373</td>\n",
              "      <td>164.211752</td>\n",
              "      <td>231.210796</td>\n",
              "      <td>208.351682</td>\n",
              "      <td>165.428561</td>\n",
              "      <td>19.566594</td>\n",
              "      <td>73.461651</td>\n",
              "      <td>230.612531</td>\n",
              "      <td>19.550743</td>\n",
              "      <td>72.606500</td>\n",
              "      <td>231.210796</td>\n",
              "      <td>A4</td>\n",
              "      <td>A1</td>\n",
              "      <td>Set1</td>\n",
              "      <td>91F5B0B5-A4E2-4073-A924-AC7A2ECB236F.png</td>\n",
              "    </tr>\n",
              "    <tr>\n",
              "      <th>4</th>\n",
              "      <td>232.133431</td>\n",
              "      <td>209.823472</td>\n",
              "      <td>160.814707</td>\n",
              "      <td>232.841548</td>\n",
              "      <td>211.054264</td>\n",
              "      <td>163.067989</td>\n",
              "      <td>20.814463</td>\n",
              "      <td>78.373996</td>\n",
              "      <td>232.133431</td>\n",
              "      <td>20.855487</td>\n",
              "      <td>76.523434</td>\n",
              "      <td>232.841832</td>\n",
              "      <td>A4</td>\n",
              "      <td>A1</td>\n",
              "      <td>Set1</td>\n",
              "      <td>606F71D4-DD41-4252-B152-C019C53AE874.png</td>\n",
              "    </tr>\n",
              "    <tr>\n",
              "      <th>...</th>\n",
              "      <td>...</td>\n",
              "      <td>...</td>\n",
              "      <td>...</td>\n",
              "      <td>...</td>\n",
              "      <td>...</td>\n",
              "      <td>...</td>\n",
              "      <td>...</td>\n",
              "      <td>...</td>\n",
              "      <td>...</td>\n",
              "      <td>...</td>\n",
              "      <td>...</td>\n",
              "      <td>...</td>\n",
              "      <td>...</td>\n",
              "      <td>...</td>\n",
              "      <td>...</td>\n",
              "      <td>...</td>\n",
              "    </tr>\n",
              "    <tr>\n",
              "      <th>3195</th>\n",
              "      <td>232.804642</td>\n",
              "      <td>209.441604</td>\n",
              "      <td>164.924357</td>\n",
              "      <td>233.308869</td>\n",
              "      <td>210.109594</td>\n",
              "      <td>166.164853</td>\n",
              "      <td>19.601331</td>\n",
              "      <td>74.376755</td>\n",
              "      <td>232.804642</td>\n",
              "      <td>19.552094</td>\n",
              "      <td>73.433042</td>\n",
              "      <td>233.308869</td>\n",
              "      <td>A4</td>\n",
              "      <td>D4</td>\n",
              "      <td>Set4</td>\n",
              "      <td>CEA54866-3FAA-4D40-ACA2-5E40F032BBEC.png</td>\n",
              "    </tr>\n",
              "    <tr>\n",
              "      <th>3196</th>\n",
              "      <td>235.903985</td>\n",
              "      <td>218.940670</td>\n",
              "      <td>179.875741</td>\n",
              "      <td>236.487092</td>\n",
              "      <td>219.666951</td>\n",
              "      <td>181.014864</td>\n",
              "      <td>20.612775</td>\n",
              "      <td>78.169873</td>\n",
              "      <td>229.335768</td>\n",
              "      <td>20.589787</td>\n",
              "      <td>77.092810</td>\n",
              "      <td>229.914515</td>\n",
              "      <td>A4</td>\n",
              "      <td>D4</td>\n",
              "      <td>Set4</td>\n",
              "      <td>FC5C7CD0-F1BD-4517-AB6B-763F93652B15.png</td>\n",
              "    </tr>\n",
              "    <tr>\n",
              "      <th>3197</th>\n",
              "      <td>232.175960</td>\n",
              "      <td>216.874036</td>\n",
              "      <td>178.708465</td>\n",
              "      <td>232.964654</td>\n",
              "      <td>217.832160</td>\n",
              "      <td>180.185122</td>\n",
              "      <td>21.562292</td>\n",
              "      <td>58.762357</td>\n",
              "      <td>232.175960</td>\n",
              "      <td>21.513975</td>\n",
              "      <td>57.839201</td>\n",
              "      <td>232.964654</td>\n",
              "      <td>A4</td>\n",
              "      <td>D4</td>\n",
              "      <td>Set4</td>\n",
              "      <td>8CBEE509-A7E8-4E5C-86AA-496FABD350EC.png</td>\n",
              "    </tr>\n",
              "    <tr>\n",
              "      <th>3198</th>\n",
              "      <td>231.726077</td>\n",
              "      <td>211.455077</td>\n",
              "      <td>167.223440</td>\n",
              "      <td>232.533177</td>\n",
              "      <td>212.551597</td>\n",
              "      <td>168.982505</td>\n",
              "      <td>20.556367</td>\n",
              "      <td>71.019641</td>\n",
              "      <td>231.726077</td>\n",
              "      <td>20.552237</td>\n",
              "      <td>69.773771</td>\n",
              "      <td>232.533177</td>\n",
              "      <td>A4</td>\n",
              "      <td>D4</td>\n",
              "      <td>Set4</td>\n",
              "      <td>4A3A9795-2840-4478-8A47-89091756F7E2.png</td>\n",
              "    </tr>\n",
              "    <tr>\n",
              "      <th>3199</th>\n",
              "      <td>226.100641</td>\n",
              "      <td>197.575278</td>\n",
              "      <td>146.748235</td>\n",
              "      <td>226.795889</td>\n",
              "      <td>198.548539</td>\n",
              "      <td>147.966148</td>\n",
              "      <td>19.189595</td>\n",
              "      <td>89.497849</td>\n",
              "      <td>226.100641</td>\n",
              "      <td>19.239457</td>\n",
              "      <td>88.650238</td>\n",
              "      <td>226.795889</td>\n",
              "      <td>A4</td>\n",
              "      <td>D4</td>\n",
              "      <td>Set4</td>\n",
              "      <td>254E8DD4-F9A0-4BB8-A160-638EBD8EA693.png</td>\n",
              "    </tr>\n",
              "  </tbody>\n",
              "</table>\n",
              "<p>3200 rows × 16 columns</p>\n",
              "</div>\n",
              "      <button class=\"colab-df-convert\" onclick=\"convertToInteractive('df-64c9c221-3d24-428e-93c4-b47c2f678bd3')\"\n",
              "              title=\"Convert this dataframe to an interactive table.\"\n",
              "              style=\"display:none;\">\n",
              "        \n",
              "  <svg xmlns=\"http://www.w3.org/2000/svg\" height=\"24px\"viewBox=\"0 0 24 24\"\n",
              "       width=\"24px\">\n",
              "    <path d=\"M0 0h24v24H0V0z\" fill=\"none\"/>\n",
              "    <path d=\"M18.56 5.44l.94 2.06.94-2.06 2.06-.94-2.06-.94-.94-2.06-.94 2.06-2.06.94zm-11 1L8.5 8.5l.94-2.06 2.06-.94-2.06-.94L8.5 2.5l-.94 2.06-2.06.94zm10 10l.94 2.06.94-2.06 2.06-.94-2.06-.94-.94-2.06-.94 2.06-2.06.94z\"/><path d=\"M17.41 7.96l-1.37-1.37c-.4-.4-.92-.59-1.43-.59-.52 0-1.04.2-1.43.59L10.3 9.45l-7.72 7.72c-.78.78-.78 2.05 0 2.83L4 21.41c.39.39.9.59 1.41.59.51 0 1.02-.2 1.41-.59l7.78-7.78 2.81-2.81c.8-.78.8-2.07 0-2.86zM5.41 20L4 18.59l7.72-7.72 1.47 1.35L5.41 20z\"/>\n",
              "  </svg>\n",
              "      </button>\n",
              "      \n",
              "  <style>\n",
              "    .colab-df-container {\n",
              "      display:flex;\n",
              "      flex-wrap:wrap;\n",
              "      gap: 12px;\n",
              "    }\n",
              "\n",
              "    .colab-df-convert {\n",
              "      background-color: #E8F0FE;\n",
              "      border: none;\n",
              "      border-radius: 50%;\n",
              "      cursor: pointer;\n",
              "      display: none;\n",
              "      fill: #1967D2;\n",
              "      height: 32px;\n",
              "      padding: 0 0 0 0;\n",
              "      width: 32px;\n",
              "    }\n",
              "\n",
              "    .colab-df-convert:hover {\n",
              "      background-color: #E2EBFA;\n",
              "      box-shadow: 0px 1px 2px rgba(60, 64, 67, 0.3), 0px 1px 3px 1px rgba(60, 64, 67, 0.15);\n",
              "      fill: #174EA6;\n",
              "    }\n",
              "\n",
              "    [theme=dark] .colab-df-convert {\n",
              "      background-color: #3B4455;\n",
              "      fill: #D2E3FC;\n",
              "    }\n",
              "\n",
              "    [theme=dark] .colab-df-convert:hover {\n",
              "      background-color: #434B5C;\n",
              "      box-shadow: 0px 1px 3px 1px rgba(0, 0, 0, 0.15);\n",
              "      filter: drop-shadow(0px 1px 2px rgba(0, 0, 0, 0.3));\n",
              "      fill: #FFFFFF;\n",
              "    }\n",
              "  </style>\n",
              "\n",
              "      <script>\n",
              "        const buttonEl =\n",
              "          document.querySelector('#df-64c9c221-3d24-428e-93c4-b47c2f678bd3 button.colab-df-convert');\n",
              "        buttonEl.style.display =\n",
              "          google.colab.kernel.accessAllowed ? 'block' : 'none';\n",
              "\n",
              "        async function convertToInteractive(key) {\n",
              "          const element = document.querySelector('#df-64c9c221-3d24-428e-93c4-b47c2f678bd3');\n",
              "          const dataTable =\n",
              "            await google.colab.kernel.invokeFunction('convertToInteractive',\n",
              "                                                     [key], {});\n",
              "          if (!dataTable) return;\n",
              "\n",
              "          const docLinkHtml = 'Like what you see? Visit the ' +\n",
              "            '<a target=\"_blank\" href=https://colab.research.google.com/notebooks/data_table.ipynb>data table notebook</a>'\n",
              "            + ' to learn more about interactive tables.';\n",
              "          element.innerHTML = '';\n",
              "          dataTable['output_type'] = 'display_data';\n",
              "          await google.colab.output.renderOutput(dataTable, element);\n",
              "          const docLink = document.createElement('div');\n",
              "          docLink.innerHTML = docLinkHtml;\n",
              "          element.appendChild(docLink);\n",
              "        }\n",
              "      </script>\n",
              "    </div>\n",
              "  </div>\n",
              "  "
            ],
            "text/plain": [
              "           R-ref       G-ref  ...  Setting                                       Img\n",
              "0     232.175960  216.874036  ...     Set1  C6D0A6B4-EAD1-4C5F-9E6B-CE5E0923BCF0.png\n",
              "1     231.726077  211.455077  ...     Set1  A3B3B5C2-1901-4D2C-8309-010408F66705.png\n",
              "2     226.100641  197.575278  ...     Set1  4C428E15-84C8-4D96-BD24-DC9969741560.png\n",
              "3     230.612531  207.562373  ...     Set1  91F5B0B5-A4E2-4073-A924-AC7A2ECB236F.png\n",
              "4     232.133431  209.823472  ...     Set1  606F71D4-DD41-4252-B152-C019C53AE874.png\n",
              "...          ...         ...  ...      ...                                       ...\n",
              "3195  232.804642  209.441604  ...     Set4  CEA54866-3FAA-4D40-ACA2-5E40F032BBEC.png\n",
              "3196  235.903985  218.940670  ...     Set4  FC5C7CD0-F1BD-4517-AB6B-763F93652B15.png\n",
              "3197  232.175960  216.874036  ...     Set4  8CBEE509-A7E8-4E5C-86AA-496FABD350EC.png\n",
              "3198  231.726077  211.455077  ...     Set4  4A3A9795-2840-4478-8A47-89091756F7E2.png\n",
              "3199  226.100641  197.575278  ...     Set4  254E8DD4-F9A0-4BB8-A160-638EBD8EA693.png\n",
              "\n",
              "[3200 rows x 16 columns]"
            ]
          },
          "metadata": {},
          "execution_count": 84
        }
      ]
    },
    {
      "cell_type": "markdown",
      "source": [
        "###RGB"
      ],
      "metadata": {
        "id": "8FFIUIaXskrF"
      }
    },
    {
      "cell_type": "code",
      "source": [
        "RGB_A4 = table_A4.drop(['H-ref','S-ref','V-ref','S-Shad','V-Shad','Shade-ref','Setting','Img','Shade','H-Shad'], axis=1)"
      ],
      "metadata": {
        "id": "q-zluOijqIYr"
      },
      "execution_count": 85,
      "outputs": []
    },
    {
      "cell_type": "code",
      "source": [
        "X_A4_RGB = np.array(RGB_A4)"
      ],
      "metadata": {
        "id": "8sgpW3s8qIYr"
      },
      "execution_count": 86,
      "outputs": []
    },
    {
      "cell_type": "code",
      "source": [
        "y_A4_RGB =  table_A4.iloc[:,13:14]"
      ],
      "metadata": {
        "id": "GUL7URbYqIYr"
      },
      "execution_count": 87,
      "outputs": []
    },
    {
      "cell_type": "code",
      "source": [
        "y_A4_RGB = np.array(y_A4_RGB)"
      ],
      "metadata": {
        "id": "0uk-uAInqIYr"
      },
      "execution_count": 88,
      "outputs": []
    },
    {
      "cell_type": "code",
      "source": [
        "X_test_A4_RGB , X_train_A4_RGB , y_test_A4_RGB, y_train_A4_RGB = train_test_split(X_A4_RGB, y_A4_RGB, test_size=80, train_size=320)"
      ],
      "metadata": {
        "id": "Gc27GcdPqIYr"
      },
      "execution_count": 89,
      "outputs": []
    },
    {
      "cell_type": "code",
      "source": [
        "clf.fit(X_train_A4_RGB, y_train_A4_RGB)"
      ],
      "metadata": {
        "outputId": "4f500452-73ee-479c-bc23-e296ff1370a4",
        "colab": {
          "base_uri": "https://localhost:8080/"
        },
        "id": "zkCTw3QqqIYs"
      },
      "execution_count": 90,
      "outputs": [
        {
          "output_type": "stream",
          "name": "stderr",
          "text": [
            "/usr/local/lib/python3.7/dist-packages/ipykernel_launcher.py:1: DataConversionWarning: A column-vector y was passed when a 1d array was expected. Please change the shape of y to (n_samples,), for example using ravel().\n",
            "  \"\"\"Entry point for launching an IPython kernel.\n"
          ]
        },
        {
          "output_type": "execute_result",
          "data": {
            "text/plain": [
              "RandomForestClassifier()"
            ]
          },
          "metadata": {},
          "execution_count": 90
        }
      ]
    },
    {
      "cell_type": "code",
      "source": [
        "y_pred_A4_RGB = clf.predict(X_test_A4_RGB)"
      ],
      "metadata": {
        "id": "G9Eeg1aMqIYs"
      },
      "execution_count": 91,
      "outputs": []
    },
    {
      "cell_type": "code",
      "source": [
        "print(\"Accuracy:\", metrics.accuracy_score(y_test_A4_RGB, y_pred_A4_RGB))"
      ],
      "metadata": {
        "outputId": "7f759ef7-c58b-41aa-feec-8e929f7ce1f0",
        "colab": {
          "base_uri": "https://localhost:8080/"
        },
        "id": "vSTNY9c9qIYs"
      },
      "execution_count": 92,
      "outputs": [
        {
          "output_type": "stream",
          "name": "stdout",
          "text": [
            "Accuracy: 0.34375\n"
          ]
        }
      ]
    },
    {
      "cell_type": "markdown",
      "source": [
        "###HSV"
      ],
      "metadata": {
        "id": "ucD8KIdzqIYs"
      }
    },
    {
      "cell_type": "code",
      "source": [
        "HSV_A4 = table_A4.drop(['R-ref','G-ref','B-ref','R-Shad','G-Shad','B-Shad','Shade-ref','Setting','Img','Shade'], axis=1)"
      ],
      "metadata": {
        "id": "LzbL2mb_spzn"
      },
      "execution_count": 93,
      "outputs": []
    },
    {
      "cell_type": "code",
      "source": [
        "X_A4_HSV = np.array(HSV_A4)"
      ],
      "metadata": {
        "id": "PJn8nNjCspzn"
      },
      "execution_count": 94,
      "outputs": []
    },
    {
      "cell_type": "code",
      "source": [
        "y_A4_HSV =  table_A4.iloc[:,13:14]"
      ],
      "metadata": {
        "id": "D4H66ytVspzn"
      },
      "execution_count": 95,
      "outputs": []
    },
    {
      "cell_type": "code",
      "source": [
        "y_A4_HSV = np.array(y_A4_HSV)"
      ],
      "metadata": {
        "id": "3LGcJ5onspzn"
      },
      "execution_count": 96,
      "outputs": []
    },
    {
      "cell_type": "code",
      "source": [
        "X_test_A4_HSV , X_train_A4_HSV , y_test_A4_HSV, y_train_A4_HSV = train_test_split(X_A4_HSV, y_A4_HSV, test_size=80, train_size=320)"
      ],
      "metadata": {
        "id": "LGQfiw1lspzo"
      },
      "execution_count": 97,
      "outputs": []
    },
    {
      "cell_type": "code",
      "source": [
        "clf.fit(X_train_A4_HSV, y_train_A4_HSV)"
      ],
      "metadata": {
        "outputId": "06c2b7e2-c98b-42e1-cec5-a8f9602365da",
        "colab": {
          "base_uri": "https://localhost:8080/"
        },
        "id": "5xv5TNVHspzo"
      },
      "execution_count": 98,
      "outputs": [
        {
          "output_type": "stream",
          "name": "stderr",
          "text": [
            "/usr/local/lib/python3.7/dist-packages/ipykernel_launcher.py:1: DataConversionWarning: A column-vector y was passed when a 1d array was expected. Please change the shape of y to (n_samples,), for example using ravel().\n",
            "  \"\"\"Entry point for launching an IPython kernel.\n"
          ]
        },
        {
          "output_type": "execute_result",
          "data": {
            "text/plain": [
              "RandomForestClassifier()"
            ]
          },
          "metadata": {},
          "execution_count": 98
        }
      ]
    },
    {
      "cell_type": "code",
      "source": [
        "y_pred_A4_HSV = clf.predict(X_test_A4_HSV)"
      ],
      "metadata": {
        "id": "mXW7w5T3spzo"
      },
      "execution_count": 99,
      "outputs": []
    },
    {
      "cell_type": "code",
      "source": [
        "print(\"Accuracy:\", metrics.accuracy_score(y_test_A4_HSV, y_pred_A4_HSV))"
      ],
      "metadata": {
        "outputId": "de05a16a-54f3-4aa5-cb18-62b22ede028e",
        "colab": {
          "base_uri": "https://localhost:8080/"
        },
        "id": "nDuMeY2jspzo"
      },
      "execution_count": 100,
      "outputs": [
        {
          "output_type": "stream",
          "name": "stdout",
          "text": [
            "Accuracy: 0.4125\n"
          ]
        }
      ]
    },
    {
      "cell_type": "markdown",
      "source": [
        "#BB"
      ],
      "metadata": {
        "id": "l7EEl_71JFP1"
      }
    },
    {
      "cell_type": "markdown",
      "source": [
        "##B1"
      ],
      "metadata": {
        "id": "O40UR6ans8uU"
      }
    },
    {
      "cell_type": "code",
      "source": [
        "table_B1= pd.read_excel(BB, sheet_name='B1')\n",
        "table_B1"
      ],
      "metadata": {
        "colab": {
          "base_uri": "https://localhost:8080/",
          "height": 0
        },
        "outputId": "c4c24e5d-bb33-4044-8b51-4d9efd94af1c",
        "id": "VbK38qdps8uU"
      },
      "execution_count": 101,
      "outputs": [
        {
          "output_type": "execute_result",
          "data": {
            "text/html": [
              "\n",
              "  <div id=\"df-e4512439-3d24-49ce-a1bf-bbae17704617\">\n",
              "    <div class=\"colab-df-container\">\n",
              "      <div>\n",
              "<style scoped>\n",
              "    .dataframe tbody tr th:only-of-type {\n",
              "        vertical-align: middle;\n",
              "    }\n",
              "\n",
              "    .dataframe tbody tr th {\n",
              "        vertical-align: top;\n",
              "    }\n",
              "\n",
              "    .dataframe thead th {\n",
              "        text-align: right;\n",
              "    }\n",
              "</style>\n",
              "<table border=\"1\" class=\"dataframe\">\n",
              "  <thead>\n",
              "    <tr style=\"text-align: right;\">\n",
              "      <th></th>\n",
              "      <th>R-ref</th>\n",
              "      <th>G-ref</th>\n",
              "      <th>B-ref</th>\n",
              "      <th>R-Shad</th>\n",
              "      <th>G-Shad</th>\n",
              "      <th>B-Shad</th>\n",
              "      <th>H-ref</th>\n",
              "      <th>S-ref</th>\n",
              "      <th>V-ref</th>\n",
              "      <th>H-Shad</th>\n",
              "      <th>S-Shad</th>\n",
              "      <th>V-Shad</th>\n",
              "      <th>Shade-ref</th>\n",
              "      <th>Shade</th>\n",
              "      <th>Setting</th>\n",
              "      <th>Img</th>\n",
              "    </tr>\n",
              "  </thead>\n",
              "  <tbody>\n",
              "    <tr>\n",
              "      <th>0</th>\n",
              "      <td>235.799935</td>\n",
              "      <td>224.516030</td>\n",
              "      <td>190.873549</td>\n",
              "      <td>236.478202</td>\n",
              "      <td>225.354384</td>\n",
              "      <td>192.366332</td>\n",
              "      <td>22.539810</td>\n",
              "      <td>48.802938</td>\n",
              "      <td>235.882396</td>\n",
              "      <td>22.513975</td>\n",
              "      <td>47.750871</td>\n",
              "      <td>236.545338</td>\n",
              "      <td>B1</td>\n",
              "      <td>A1</td>\n",
              "      <td>Set1</td>\n",
              "      <td>1CE4FFAC-5C8A-4C04-8A57-7BB28F25302D.png</td>\n",
              "    </tr>\n",
              "    <tr>\n",
              "      <th>1</th>\n",
              "      <td>238.009577</td>\n",
              "      <td>218.146498</td>\n",
              "      <td>168.652788</td>\n",
              "      <td>238.456155</td>\n",
              "      <td>218.892397</td>\n",
              "      <td>169.966219</td>\n",
              "      <td>21.391040</td>\n",
              "      <td>74.313854</td>\n",
              "      <td>238.009577</td>\n",
              "      <td>21.449968</td>\n",
              "      <td>73.265842</td>\n",
              "      <td>238.456155</td>\n",
              "      <td>B1</td>\n",
              "      <td>A1</td>\n",
              "      <td>Set1</td>\n",
              "      <td>67F8EDAB-A9C7-4B91-B07B-BFADEE915B61.png</td>\n",
              "    </tr>\n",
              "    <tr>\n",
              "      <th>2</th>\n",
              "      <td>238.416687</td>\n",
              "      <td>212.713660</td>\n",
              "      <td>158.665693</td>\n",
              "      <td>239.056255</td>\n",
              "      <td>213.774056</td>\n",
              "      <td>160.482754</td>\n",
              "      <td>22.539810</td>\n",
              "      <td>48.802938</td>\n",
              "      <td>235.882396</td>\n",
              "      <td>22.513975</td>\n",
              "      <td>47.750871</td>\n",
              "      <td>236.545338</td>\n",
              "      <td>B1</td>\n",
              "      <td>A1</td>\n",
              "      <td>Set1</td>\n",
              "      <td>935ACCF9-A4D6-4CB3-A437-6333758D46CD.png</td>\n",
              "    </tr>\n",
              "    <tr>\n",
              "      <th>3</th>\n",
              "      <td>239.417986</td>\n",
              "      <td>227.436572</td>\n",
              "      <td>192.575603</td>\n",
              "      <td>239.889624</td>\n",
              "      <td>228.078444</td>\n",
              "      <td>193.459640</td>\n",
              "      <td>22.327571</td>\n",
              "      <td>49.921191</td>\n",
              "      <td>239.417986</td>\n",
              "      <td>22.373160</td>\n",
              "      <td>49.390157</td>\n",
              "      <td>239.889624</td>\n",
              "      <td>B1</td>\n",
              "      <td>A1</td>\n",
              "      <td>Set1</td>\n",
              "      <td>C7A49040-51EF-4045-9394-5E8F4A17B8A2.png</td>\n",
              "    </tr>\n",
              "    <tr>\n",
              "      <th>4</th>\n",
              "      <td>239.556448</td>\n",
              "      <td>216.784027</td>\n",
              "      <td>161.199740</td>\n",
              "      <td>240.061944</td>\n",
              "      <td>217.745111</td>\n",
              "      <td>163.031079</td>\n",
              "      <td>21.443146</td>\n",
              "      <td>83.446474</td>\n",
              "      <td>239.556448</td>\n",
              "      <td>21.478060</td>\n",
              "      <td>81.900078</td>\n",
              "      <td>240.062229</td>\n",
              "      <td>B1</td>\n",
              "      <td>A1</td>\n",
              "      <td>Set1</td>\n",
              "      <td>EFCB2FF8-FACF-4778-946B-4DFEC0F8EB5D.png</td>\n",
              "    </tr>\n",
              "    <tr>\n",
              "      <th>...</th>\n",
              "      <td>...</td>\n",
              "      <td>...</td>\n",
              "      <td>...</td>\n",
              "      <td>...</td>\n",
              "      <td>...</td>\n",
              "      <td>...</td>\n",
              "      <td>...</td>\n",
              "      <td>...</td>\n",
              "      <td>...</td>\n",
              "      <td>...</td>\n",
              "      <td>...</td>\n",
              "      <td>...</td>\n",
              "      <td>...</td>\n",
              "      <td>...</td>\n",
              "      <td>...</td>\n",
              "      <td>...</td>\n",
              "    </tr>\n",
              "    <tr>\n",
              "      <th>3195</th>\n",
              "      <td>219.796364</td>\n",
              "      <td>220.248600</td>\n",
              "      <td>203.640370</td>\n",
              "      <td>219.211934</td>\n",
              "      <td>219.766731</td>\n",
              "      <td>203.270322</td>\n",
              "      <td>31.111598</td>\n",
              "      <td>19.560669</td>\n",
              "      <td>220.568055</td>\n",
              "      <td>31.312851</td>\n",
              "      <td>19.433184</td>\n",
              "      <td>220.052343</td>\n",
              "      <td>B1</td>\n",
              "      <td>D4</td>\n",
              "      <td>Set4</td>\n",
              "      <td>74703385-5AA7-490D-B51D-AFC0FB7A986C.png</td>\n",
              "    </tr>\n",
              "    <tr>\n",
              "      <th>3196</th>\n",
              "      <td>215.312718</td>\n",
              "      <td>216.245759</td>\n",
              "      <td>196.157455</td>\n",
              "      <td>214.860323</td>\n",
              "      <td>215.754498</td>\n",
              "      <td>195.762108</td>\n",
              "      <td>28.454590</td>\n",
              "      <td>52.051295</td>\n",
              "      <td>221.314991</td>\n",
              "      <td>28.269469</td>\n",
              "      <td>52.384325</td>\n",
              "      <td>220.852002</td>\n",
              "      <td>B1</td>\n",
              "      <td>D4</td>\n",
              "      <td>Set4</td>\n",
              "      <td>3A448ACD-EAB0-4285-AF50-6A6B22782A93.png</td>\n",
              "    </tr>\n",
              "    <tr>\n",
              "      <th>3197</th>\n",
              "      <td>215.690610</td>\n",
              "      <td>216.009902</td>\n",
              "      <td>196.406055</td>\n",
              "      <td>215.166773</td>\n",
              "      <td>215.486879</td>\n",
              "      <td>195.933291</td>\n",
              "      <td>30.849525</td>\n",
              "      <td>23.662609</td>\n",
              "      <td>216.485350</td>\n",
              "      <td>30.867293</td>\n",
              "      <td>23.636228</td>\n",
              "      <td>215.959036</td>\n",
              "      <td>B1</td>\n",
              "      <td>D4</td>\n",
              "      <td>Set4</td>\n",
              "      <td>11372242-96D9-4D23-BC32-C0E8379737A6.png</td>\n",
              "    </tr>\n",
              "    <tr>\n",
              "      <th>3198</th>\n",
              "      <td>213.749290</td>\n",
              "      <td>210.436328</td>\n",
              "      <td>181.714877</td>\n",
              "      <td>213.046725</td>\n",
              "      <td>209.822132</td>\n",
              "      <td>181.286679</td>\n",
              "      <td>26.683954</td>\n",
              "      <td>38.233260</td>\n",
              "      <td>213.749290</td>\n",
              "      <td>26.767157</td>\n",
              "      <td>38.010668</td>\n",
              "      <td>213.046725</td>\n",
              "      <td>B1</td>\n",
              "      <td>D4</td>\n",
              "      <td>Set4</td>\n",
              "      <td>9F910090-FA0A-42A5-86BE-4AEBA5175FC0.png</td>\n",
              "    </tr>\n",
              "    <tr>\n",
              "      <th>3199</th>\n",
              "      <td>211.214674</td>\n",
              "      <td>204.185537</td>\n",
              "      <td>158.897330</td>\n",
              "      <td>210.905910</td>\n",
              "      <td>203.783372</td>\n",
              "      <td>158.707275</td>\n",
              "      <td>26.202337</td>\n",
              "      <td>63.120039</td>\n",
              "      <td>211.214674</td>\n",
              "      <td>26.147358</td>\n",
              "      <td>63.070194</td>\n",
              "      <td>210.905910</td>\n",
              "      <td>B1</td>\n",
              "      <td>D4</td>\n",
              "      <td>Set4</td>\n",
              "      <td>F3A7B984-E4F8-4BF3-BDA6-81CF31EE6D7D.png</td>\n",
              "    </tr>\n",
              "  </tbody>\n",
              "</table>\n",
              "<p>3200 rows × 16 columns</p>\n",
              "</div>\n",
              "      <button class=\"colab-df-convert\" onclick=\"convertToInteractive('df-e4512439-3d24-49ce-a1bf-bbae17704617')\"\n",
              "              title=\"Convert this dataframe to an interactive table.\"\n",
              "              style=\"display:none;\">\n",
              "        \n",
              "  <svg xmlns=\"http://www.w3.org/2000/svg\" height=\"24px\"viewBox=\"0 0 24 24\"\n",
              "       width=\"24px\">\n",
              "    <path d=\"M0 0h24v24H0V0z\" fill=\"none\"/>\n",
              "    <path d=\"M18.56 5.44l.94 2.06.94-2.06 2.06-.94-2.06-.94-.94-2.06-.94 2.06-2.06.94zm-11 1L8.5 8.5l.94-2.06 2.06-.94-2.06-.94L8.5 2.5l-.94 2.06-2.06.94zm10 10l.94 2.06.94-2.06 2.06-.94-2.06-.94-.94-2.06-.94 2.06-2.06.94z\"/><path d=\"M17.41 7.96l-1.37-1.37c-.4-.4-.92-.59-1.43-.59-.52 0-1.04.2-1.43.59L10.3 9.45l-7.72 7.72c-.78.78-.78 2.05 0 2.83L4 21.41c.39.39.9.59 1.41.59.51 0 1.02-.2 1.41-.59l7.78-7.78 2.81-2.81c.8-.78.8-2.07 0-2.86zM5.41 20L4 18.59l7.72-7.72 1.47 1.35L5.41 20z\"/>\n",
              "  </svg>\n",
              "      </button>\n",
              "      \n",
              "  <style>\n",
              "    .colab-df-container {\n",
              "      display:flex;\n",
              "      flex-wrap:wrap;\n",
              "      gap: 12px;\n",
              "    }\n",
              "\n",
              "    .colab-df-convert {\n",
              "      background-color: #E8F0FE;\n",
              "      border: none;\n",
              "      border-radius: 50%;\n",
              "      cursor: pointer;\n",
              "      display: none;\n",
              "      fill: #1967D2;\n",
              "      height: 32px;\n",
              "      padding: 0 0 0 0;\n",
              "      width: 32px;\n",
              "    }\n",
              "\n",
              "    .colab-df-convert:hover {\n",
              "      background-color: #E2EBFA;\n",
              "      box-shadow: 0px 1px 2px rgba(60, 64, 67, 0.3), 0px 1px 3px 1px rgba(60, 64, 67, 0.15);\n",
              "      fill: #174EA6;\n",
              "    }\n",
              "\n",
              "    [theme=dark] .colab-df-convert {\n",
              "      background-color: #3B4455;\n",
              "      fill: #D2E3FC;\n",
              "    }\n",
              "\n",
              "    [theme=dark] .colab-df-convert:hover {\n",
              "      background-color: #434B5C;\n",
              "      box-shadow: 0px 1px 3px 1px rgba(0, 0, 0, 0.15);\n",
              "      filter: drop-shadow(0px 1px 2px rgba(0, 0, 0, 0.3));\n",
              "      fill: #FFFFFF;\n",
              "    }\n",
              "  </style>\n",
              "\n",
              "      <script>\n",
              "        const buttonEl =\n",
              "          document.querySelector('#df-e4512439-3d24-49ce-a1bf-bbae17704617 button.colab-df-convert');\n",
              "        buttonEl.style.display =\n",
              "          google.colab.kernel.accessAllowed ? 'block' : 'none';\n",
              "\n",
              "        async function convertToInteractive(key) {\n",
              "          const element = document.querySelector('#df-e4512439-3d24-49ce-a1bf-bbae17704617');\n",
              "          const dataTable =\n",
              "            await google.colab.kernel.invokeFunction('convertToInteractive',\n",
              "                                                     [key], {});\n",
              "          if (!dataTable) return;\n",
              "\n",
              "          const docLinkHtml = 'Like what you see? Visit the ' +\n",
              "            '<a target=\"_blank\" href=https://colab.research.google.com/notebooks/data_table.ipynb>data table notebook</a>'\n",
              "            + ' to learn more about interactive tables.';\n",
              "          element.innerHTML = '';\n",
              "          dataTable['output_type'] = 'display_data';\n",
              "          await google.colab.output.renderOutput(dataTable, element);\n",
              "          const docLink = document.createElement('div');\n",
              "          docLink.innerHTML = docLinkHtml;\n",
              "          element.appendChild(docLink);\n",
              "        }\n",
              "      </script>\n",
              "    </div>\n",
              "  </div>\n",
              "  "
            ],
            "text/plain": [
              "           R-ref       G-ref  ...  Setting                                       Img\n",
              "0     235.799935  224.516030  ...     Set1  1CE4FFAC-5C8A-4C04-8A57-7BB28F25302D.png\n",
              "1     238.009577  218.146498  ...     Set1  67F8EDAB-A9C7-4B91-B07B-BFADEE915B61.png\n",
              "2     238.416687  212.713660  ...     Set1  935ACCF9-A4D6-4CB3-A437-6333758D46CD.png\n",
              "3     239.417986  227.436572  ...     Set1  C7A49040-51EF-4045-9394-5E8F4A17B8A2.png\n",
              "4     239.556448  216.784027  ...     Set1  EFCB2FF8-FACF-4778-946B-4DFEC0F8EB5D.png\n",
              "...          ...         ...  ...      ...                                       ...\n",
              "3195  219.796364  220.248600  ...     Set4  74703385-5AA7-490D-B51D-AFC0FB7A986C.png\n",
              "3196  215.312718  216.245759  ...     Set4  3A448ACD-EAB0-4285-AF50-6A6B22782A93.png\n",
              "3197  215.690610  216.009902  ...     Set4  11372242-96D9-4D23-BC32-C0E8379737A6.png\n",
              "3198  213.749290  210.436328  ...     Set4  9F910090-FA0A-42A5-86BE-4AEBA5175FC0.png\n",
              "3199  211.214674  204.185537  ...     Set4  F3A7B984-E4F8-4BF3-BDA6-81CF31EE6D7D.png\n",
              "\n",
              "[3200 rows x 16 columns]"
            ]
          },
          "metadata": {},
          "execution_count": 101
        }
      ]
    },
    {
      "cell_type": "markdown",
      "source": [
        "###RGB"
      ],
      "metadata": {
        "id": "yzNHsI78s8uV"
      }
    },
    {
      "cell_type": "code",
      "source": [
        "RGB_B1 = table_B1.drop(['H-ref','S-ref','V-ref','S-Shad','V-Shad','Shade-ref','Setting','Img','Shade','H-Shad'], axis=1)"
      ],
      "metadata": {
        "id": "pSUQgx3ms8uV"
      },
      "execution_count": 102,
      "outputs": []
    },
    {
      "cell_type": "code",
      "source": [
        "X_B1_RGB = np.array(RGB_B1)"
      ],
      "metadata": {
        "id": "1xGk9kSCs8uV"
      },
      "execution_count": 103,
      "outputs": []
    },
    {
      "cell_type": "code",
      "source": [
        "y_B1_RGB =  table_B1.iloc[:,13:14]"
      ],
      "metadata": {
        "id": "tNj1LYhEs8uV"
      },
      "execution_count": 104,
      "outputs": []
    },
    {
      "cell_type": "code",
      "source": [
        "y_B1_RGB = np.array(y_B1_RGB)"
      ],
      "metadata": {
        "id": "GmoSbd8us8uV"
      },
      "execution_count": 105,
      "outputs": []
    },
    {
      "cell_type": "code",
      "source": [
        "X_test_B1_RGB , X_train_B1_RGB , y_test_B1_RGB, y_train_B1_RGB = train_test_split(X_B1_RGB, y_B1_RGB, test_size=80, train_size=320)"
      ],
      "metadata": {
        "id": "TGSQY-P4s8uV"
      },
      "execution_count": 106,
      "outputs": []
    },
    {
      "cell_type": "code",
      "source": [
        "clf.fit(X_train_B1_RGB, y_train_B1_RGB)"
      ],
      "metadata": {
        "colab": {
          "base_uri": "https://localhost:8080/"
        },
        "outputId": "c4b186b5-379b-489a-c794-2c08a8662ccd",
        "id": "I__cRPfks8uV"
      },
      "execution_count": 107,
      "outputs": [
        {
          "output_type": "stream",
          "name": "stderr",
          "text": [
            "/usr/local/lib/python3.7/dist-packages/ipykernel_launcher.py:1: DataConversionWarning: A column-vector y was passed when a 1d array was expected. Please change the shape of y to (n_samples,), for example using ravel().\n",
            "  \"\"\"Entry point for launching an IPython kernel.\n"
          ]
        },
        {
          "output_type": "execute_result",
          "data": {
            "text/plain": [
              "RandomForestClassifier()"
            ]
          },
          "metadata": {},
          "execution_count": 107
        }
      ]
    },
    {
      "cell_type": "code",
      "source": [
        "y_pred_B1_RGB = clf.predict(X_test_B1_RGB)"
      ],
      "metadata": {
        "id": "FBL_Lvm2s8uV"
      },
      "execution_count": 108,
      "outputs": []
    },
    {
      "cell_type": "code",
      "source": [
        "print(\"Accuracy:\", metrics.accuracy_score(y_test_B1_RGB, y_pred_B1_RGB))"
      ],
      "metadata": {
        "colab": {
          "base_uri": "https://localhost:8080/"
        },
        "outputId": "f57eb430-fbce-48e2-d1b5-ed58d814572a",
        "id": "Mkcs3ygYs8uV"
      },
      "execution_count": 109,
      "outputs": [
        {
          "output_type": "stream",
          "name": "stdout",
          "text": [
            "Accuracy: 0.146875\n"
          ]
        }
      ]
    },
    {
      "cell_type": "markdown",
      "source": [
        "###HSV"
      ],
      "metadata": {
        "id": "ACrWCKrJs8uW"
      }
    },
    {
      "cell_type": "code",
      "source": [
        "HSV_B1 = table_B1.drop(['R-ref','G-ref','B-ref','R-Shad','G-Shad','B-Shad','Shade-ref','Setting','Img','Shade'], axis=1)"
      ],
      "metadata": {
        "id": "DEbgtfgns8uW"
      },
      "execution_count": 110,
      "outputs": []
    },
    {
      "cell_type": "code",
      "source": [
        "X_B1_HSV = np.array(HSV_B1)"
      ],
      "metadata": {
        "id": "Uob9XGjJs8uW"
      },
      "execution_count": 111,
      "outputs": []
    },
    {
      "cell_type": "code",
      "source": [
        "y_B1_HSV =  table_B1.iloc[:,13:14]"
      ],
      "metadata": {
        "id": "IMVSrY1Ds8uW"
      },
      "execution_count": 112,
      "outputs": []
    },
    {
      "cell_type": "code",
      "source": [
        "y_B1_HSV = np.array(y_B1_HSV)"
      ],
      "metadata": {
        "id": "_ZtUd4Y5s8uW"
      },
      "execution_count": 113,
      "outputs": []
    },
    {
      "cell_type": "code",
      "source": [
        "X_test_B1_HSV , X_train_B1_HSV , y_test_B1_HSV, y_train_B1_HSV = train_test_split(X_B1_HSV, y_B1_HSV, test_size=80, train_size=320)"
      ],
      "metadata": {
        "id": "zSCf5X4rs8uW"
      },
      "execution_count": 114,
      "outputs": []
    },
    {
      "cell_type": "code",
      "source": [
        "clf.fit(X_train_B1_HSV, y_train_B1_HSV)"
      ],
      "metadata": {
        "colab": {
          "base_uri": "https://localhost:8080/"
        },
        "outputId": "e4d7a348-e4c5-4499-822a-56020571b171",
        "id": "4zQ4FkChs8uW"
      },
      "execution_count": 115,
      "outputs": [
        {
          "output_type": "stream",
          "name": "stderr",
          "text": [
            "/usr/local/lib/python3.7/dist-packages/ipykernel_launcher.py:1: DataConversionWarning: A column-vector y was passed when a 1d array was expected. Please change the shape of y to (n_samples,), for example using ravel().\n",
            "  \"\"\"Entry point for launching an IPython kernel.\n"
          ]
        },
        {
          "output_type": "execute_result",
          "data": {
            "text/plain": [
              "RandomForestClassifier()"
            ]
          },
          "metadata": {},
          "execution_count": 115
        }
      ]
    },
    {
      "cell_type": "code",
      "source": [
        "y_pred_B1_HSV = clf.predict(X_test_B1_HSV)"
      ],
      "metadata": {
        "id": "Dqk8TBkIs8uW"
      },
      "execution_count": 116,
      "outputs": []
    },
    {
      "cell_type": "code",
      "source": [
        "print(\"Accuracy:\", metrics.accuracy_score(y_test_B1_HSV, y_pred_B1_HSV))"
      ],
      "metadata": {
        "colab": {
          "base_uri": "https://localhost:8080/"
        },
        "outputId": "32dcc067-081a-4f47-b5ba-2d17ca813a1a",
        "id": "P7wBQGnas8uW"
      },
      "execution_count": 117,
      "outputs": [
        {
          "output_type": "stream",
          "name": "stdout",
          "text": [
            "Accuracy: 0.146875\n"
          ]
        }
      ]
    },
    {
      "cell_type": "markdown",
      "source": [
        "##B2"
      ],
      "metadata": {
        "id": "Y4T47fJes8uX"
      }
    },
    {
      "cell_type": "code",
      "source": [
        "table_B2= pd.read_excel(BB, sheet_name='B2')\n",
        "table_B2"
      ],
      "metadata": {
        "outputId": "51bb3b96-bb8b-48c3-b02e-63b9e845b0bc",
        "colab": {
          "base_uri": "https://localhost:8080/",
          "height": 832
        },
        "id": "OnAGDbzcs8uX"
      },
      "execution_count": 118,
      "outputs": [
        {
          "output_type": "execute_result",
          "data": {
            "text/html": [
              "\n",
              "  <div id=\"df-14e6a5d4-46d1-4271-944c-ecdfc32f7993\">\n",
              "    <div class=\"colab-df-container\">\n",
              "      <div>\n",
              "<style scoped>\n",
              "    .dataframe tbody tr th:only-of-type {\n",
              "        vertical-align: middle;\n",
              "    }\n",
              "\n",
              "    .dataframe tbody tr th {\n",
              "        vertical-align: top;\n",
              "    }\n",
              "\n",
              "    .dataframe thead th {\n",
              "        text-align: right;\n",
              "    }\n",
              "</style>\n",
              "<table border=\"1\" class=\"dataframe\">\n",
              "  <thead>\n",
              "    <tr style=\"text-align: right;\">\n",
              "      <th></th>\n",
              "      <th>R-ref</th>\n",
              "      <th>G-ref</th>\n",
              "      <th>B-ref</th>\n",
              "      <th>R-Shad</th>\n",
              "      <th>G-Shad</th>\n",
              "      <th>B-Shad</th>\n",
              "      <th>H-ref</th>\n",
              "      <th>S-ref</th>\n",
              "      <th>V-ref</th>\n",
              "      <th>H-Shad</th>\n",
              "      <th>S-Shad</th>\n",
              "      <th>V-Shad</th>\n",
              "      <th>Shade-ref</th>\n",
              "      <th>Shade</th>\n",
              "      <th>Setting</th>\n",
              "      <th>Img</th>\n",
              "    </tr>\n",
              "  </thead>\n",
              "  <tbody>\n",
              "    <tr>\n",
              "      <th>0</th>\n",
              "      <td>232.175960</td>\n",
              "      <td>216.874036</td>\n",
              "      <td>178.708465</td>\n",
              "      <td>232.964654</td>\n",
              "      <td>217.832160</td>\n",
              "      <td>180.185122</td>\n",
              "      <td>21.562292</td>\n",
              "      <td>58.762357</td>\n",
              "      <td>232.175960</td>\n",
              "      <td>21.513975</td>\n",
              "      <td>57.839201</td>\n",
              "      <td>232.964654</td>\n",
              "      <td>B2</td>\n",
              "      <td>A1</td>\n",
              "      <td>Set1</td>\n",
              "      <td>8844784E-18F2-4180-BD56-22527F5B506A.png</td>\n",
              "    </tr>\n",
              "    <tr>\n",
              "      <th>1</th>\n",
              "      <td>231.726077</td>\n",
              "      <td>211.455077</td>\n",
              "      <td>167.223440</td>\n",
              "      <td>232.533177</td>\n",
              "      <td>212.551597</td>\n",
              "      <td>168.982505</td>\n",
              "      <td>20.556367</td>\n",
              "      <td>71.019641</td>\n",
              "      <td>231.726077</td>\n",
              "      <td>20.552237</td>\n",
              "      <td>69.773771</td>\n",
              "      <td>232.533177</td>\n",
              "      <td>B2</td>\n",
              "      <td>A1</td>\n",
              "      <td>Set1</td>\n",
              "      <td>9B82482F-3CCB-4D36-88DF-53EE592260BA.png</td>\n",
              "    </tr>\n",
              "    <tr>\n",
              "      <th>2</th>\n",
              "      <td>226.100641</td>\n",
              "      <td>197.575278</td>\n",
              "      <td>146.748235</td>\n",
              "      <td>226.795889</td>\n",
              "      <td>198.548539</td>\n",
              "      <td>147.966148</td>\n",
              "      <td>19.189595</td>\n",
              "      <td>89.497849</td>\n",
              "      <td>226.100641</td>\n",
              "      <td>19.239457</td>\n",
              "      <td>88.650238</td>\n",
              "      <td>226.795889</td>\n",
              "      <td>B2</td>\n",
              "      <td>A1</td>\n",
              "      <td>Set1</td>\n",
              "      <td>EBE10373-8135-4270-894B-9887BE25C44D.png</td>\n",
              "    </tr>\n",
              "    <tr>\n",
              "      <th>3</th>\n",
              "      <td>230.612531</td>\n",
              "      <td>207.562373</td>\n",
              "      <td>164.211752</td>\n",
              "      <td>231.210796</td>\n",
              "      <td>208.351682</td>\n",
              "      <td>165.428561</td>\n",
              "      <td>19.566594</td>\n",
              "      <td>73.461651</td>\n",
              "      <td>230.612531</td>\n",
              "      <td>19.550743</td>\n",
              "      <td>72.606500</td>\n",
              "      <td>231.210796</td>\n",
              "      <td>B2</td>\n",
              "      <td>A1</td>\n",
              "      <td>Set1</td>\n",
              "      <td>E371B8FC-E57F-49E3-8AF4-9DF8FDBFA8F3.png</td>\n",
              "    </tr>\n",
              "    <tr>\n",
              "      <th>4</th>\n",
              "      <td>232.133431</td>\n",
              "      <td>209.823472</td>\n",
              "      <td>160.814707</td>\n",
              "      <td>232.841548</td>\n",
              "      <td>211.054264</td>\n",
              "      <td>163.067989</td>\n",
              "      <td>20.814463</td>\n",
              "      <td>78.373996</td>\n",
              "      <td>232.133431</td>\n",
              "      <td>20.855487</td>\n",
              "      <td>76.523434</td>\n",
              "      <td>232.841832</td>\n",
              "      <td>B2</td>\n",
              "      <td>A1</td>\n",
              "      <td>Set1</td>\n",
              "      <td>238A6F42-0DF6-424E-9279-99FE08A655A8.png</td>\n",
              "    </tr>\n",
              "    <tr>\n",
              "      <th>...</th>\n",
              "      <td>...</td>\n",
              "      <td>...</td>\n",
              "      <td>...</td>\n",
              "      <td>...</td>\n",
              "      <td>...</td>\n",
              "      <td>...</td>\n",
              "      <td>...</td>\n",
              "      <td>...</td>\n",
              "      <td>...</td>\n",
              "      <td>...</td>\n",
              "      <td>...</td>\n",
              "      <td>...</td>\n",
              "      <td>...</td>\n",
              "      <td>...</td>\n",
              "      <td>...</td>\n",
              "      <td>...</td>\n",
              "    </tr>\n",
              "    <tr>\n",
              "      <th>3195</th>\n",
              "      <td>232.804642</td>\n",
              "      <td>209.441604</td>\n",
              "      <td>164.924357</td>\n",
              "      <td>233.308869</td>\n",
              "      <td>210.109594</td>\n",
              "      <td>166.164853</td>\n",
              "      <td>19.601331</td>\n",
              "      <td>74.376755</td>\n",
              "      <td>232.804642</td>\n",
              "      <td>19.552094</td>\n",
              "      <td>73.433042</td>\n",
              "      <td>233.308869</td>\n",
              "      <td>B2</td>\n",
              "      <td>D4</td>\n",
              "      <td>Set4</td>\n",
              "      <td>02517FFF-D929-4E27-ACB8-20C8F13BAE87.png</td>\n",
              "    </tr>\n",
              "    <tr>\n",
              "      <th>3196</th>\n",
              "      <td>235.903985</td>\n",
              "      <td>218.940670</td>\n",
              "      <td>179.875741</td>\n",
              "      <td>236.487092</td>\n",
              "      <td>219.666951</td>\n",
              "      <td>181.014864</td>\n",
              "      <td>20.612775</td>\n",
              "      <td>78.169873</td>\n",
              "      <td>229.335768</td>\n",
              "      <td>20.589787</td>\n",
              "      <td>77.092810</td>\n",
              "      <td>229.914515</td>\n",
              "      <td>B2</td>\n",
              "      <td>D4</td>\n",
              "      <td>Set4</td>\n",
              "      <td>4DF000AA-D32F-40DF-A2DA-318515B01B63.png</td>\n",
              "    </tr>\n",
              "    <tr>\n",
              "      <th>3197</th>\n",
              "      <td>232.175960</td>\n",
              "      <td>216.874036</td>\n",
              "      <td>178.708465</td>\n",
              "      <td>232.964654</td>\n",
              "      <td>217.832160</td>\n",
              "      <td>180.185122</td>\n",
              "      <td>21.562292</td>\n",
              "      <td>58.762357</td>\n",
              "      <td>232.175960</td>\n",
              "      <td>21.513975</td>\n",
              "      <td>57.839201</td>\n",
              "      <td>232.964654</td>\n",
              "      <td>B2</td>\n",
              "      <td>D4</td>\n",
              "      <td>Set4</td>\n",
              "      <td>976D4924-5C2B-4E8D-97B8-B6A27664091A.png</td>\n",
              "    </tr>\n",
              "    <tr>\n",
              "      <th>3198</th>\n",
              "      <td>231.726077</td>\n",
              "      <td>211.455077</td>\n",
              "      <td>167.223440</td>\n",
              "      <td>232.533177</td>\n",
              "      <td>212.551597</td>\n",
              "      <td>168.982505</td>\n",
              "      <td>20.556367</td>\n",
              "      <td>71.019641</td>\n",
              "      <td>231.726077</td>\n",
              "      <td>20.552237</td>\n",
              "      <td>69.773771</td>\n",
              "      <td>232.533177</td>\n",
              "      <td>B2</td>\n",
              "      <td>D4</td>\n",
              "      <td>Set4</td>\n",
              "      <td>CADBBAEF-2109-470B-A58D-7F59A19534CD.png</td>\n",
              "    </tr>\n",
              "    <tr>\n",
              "      <th>3199</th>\n",
              "      <td>226.100641</td>\n",
              "      <td>197.575278</td>\n",
              "      <td>146.748235</td>\n",
              "      <td>226.795889</td>\n",
              "      <td>198.548539</td>\n",
              "      <td>147.966148</td>\n",
              "      <td>19.189595</td>\n",
              "      <td>89.497849</td>\n",
              "      <td>226.100641</td>\n",
              "      <td>19.239457</td>\n",
              "      <td>88.650238</td>\n",
              "      <td>226.795889</td>\n",
              "      <td>B2</td>\n",
              "      <td>D4</td>\n",
              "      <td>Set4</td>\n",
              "      <td>BA693C32-D00A-4AA9-96D8-25720E26157C.png</td>\n",
              "    </tr>\n",
              "  </tbody>\n",
              "</table>\n",
              "<p>3200 rows × 16 columns</p>\n",
              "</div>\n",
              "      <button class=\"colab-df-convert\" onclick=\"convertToInteractive('df-14e6a5d4-46d1-4271-944c-ecdfc32f7993')\"\n",
              "              title=\"Convert this dataframe to an interactive table.\"\n",
              "              style=\"display:none;\">\n",
              "        \n",
              "  <svg xmlns=\"http://www.w3.org/2000/svg\" height=\"24px\"viewBox=\"0 0 24 24\"\n",
              "       width=\"24px\">\n",
              "    <path d=\"M0 0h24v24H0V0z\" fill=\"none\"/>\n",
              "    <path d=\"M18.56 5.44l.94 2.06.94-2.06 2.06-.94-2.06-.94-.94-2.06-.94 2.06-2.06.94zm-11 1L8.5 8.5l.94-2.06 2.06-.94-2.06-.94L8.5 2.5l-.94 2.06-2.06.94zm10 10l.94 2.06.94-2.06 2.06-.94-2.06-.94-.94-2.06-.94 2.06-2.06.94z\"/><path d=\"M17.41 7.96l-1.37-1.37c-.4-.4-.92-.59-1.43-.59-.52 0-1.04.2-1.43.59L10.3 9.45l-7.72 7.72c-.78.78-.78 2.05 0 2.83L4 21.41c.39.39.9.59 1.41.59.51 0 1.02-.2 1.41-.59l7.78-7.78 2.81-2.81c.8-.78.8-2.07 0-2.86zM5.41 20L4 18.59l7.72-7.72 1.47 1.35L5.41 20z\"/>\n",
              "  </svg>\n",
              "      </button>\n",
              "      \n",
              "  <style>\n",
              "    .colab-df-container {\n",
              "      display:flex;\n",
              "      flex-wrap:wrap;\n",
              "      gap: 12px;\n",
              "    }\n",
              "\n",
              "    .colab-df-convert {\n",
              "      background-color: #E8F0FE;\n",
              "      border: none;\n",
              "      border-radius: 50%;\n",
              "      cursor: pointer;\n",
              "      display: none;\n",
              "      fill: #1967D2;\n",
              "      height: 32px;\n",
              "      padding: 0 0 0 0;\n",
              "      width: 32px;\n",
              "    }\n",
              "\n",
              "    .colab-df-convert:hover {\n",
              "      background-color: #E2EBFA;\n",
              "      box-shadow: 0px 1px 2px rgba(60, 64, 67, 0.3), 0px 1px 3px 1px rgba(60, 64, 67, 0.15);\n",
              "      fill: #174EA6;\n",
              "    }\n",
              "\n",
              "    [theme=dark] .colab-df-convert {\n",
              "      background-color: #3B4455;\n",
              "      fill: #D2E3FC;\n",
              "    }\n",
              "\n",
              "    [theme=dark] .colab-df-convert:hover {\n",
              "      background-color: #434B5C;\n",
              "      box-shadow: 0px 1px 3px 1px rgba(0, 0, 0, 0.15);\n",
              "      filter: drop-shadow(0px 1px 2px rgba(0, 0, 0, 0.3));\n",
              "      fill: #FFFFFF;\n",
              "    }\n",
              "  </style>\n",
              "\n",
              "      <script>\n",
              "        const buttonEl =\n",
              "          document.querySelector('#df-14e6a5d4-46d1-4271-944c-ecdfc32f7993 button.colab-df-convert');\n",
              "        buttonEl.style.display =\n",
              "          google.colab.kernel.accessAllowed ? 'block' : 'none';\n",
              "\n",
              "        async function convertToInteractive(key) {\n",
              "          const element = document.querySelector('#df-14e6a5d4-46d1-4271-944c-ecdfc32f7993');\n",
              "          const dataTable =\n",
              "            await google.colab.kernel.invokeFunction('convertToInteractive',\n",
              "                                                     [key], {});\n",
              "          if (!dataTable) return;\n",
              "\n",
              "          const docLinkHtml = 'Like what you see? Visit the ' +\n",
              "            '<a target=\"_blank\" href=https://colab.research.google.com/notebooks/data_table.ipynb>data table notebook</a>'\n",
              "            + ' to learn more about interactive tables.';\n",
              "          element.innerHTML = '';\n",
              "          dataTable['output_type'] = 'display_data';\n",
              "          await google.colab.output.renderOutput(dataTable, element);\n",
              "          const docLink = document.createElement('div');\n",
              "          docLink.innerHTML = docLinkHtml;\n",
              "          element.appendChild(docLink);\n",
              "        }\n",
              "      </script>\n",
              "    </div>\n",
              "  </div>\n",
              "  "
            ],
            "text/plain": [
              "           R-ref       G-ref  ...  Setting                                       Img\n",
              "0     232.175960  216.874036  ...     Set1  8844784E-18F2-4180-BD56-22527F5B506A.png\n",
              "1     231.726077  211.455077  ...     Set1  9B82482F-3CCB-4D36-88DF-53EE592260BA.png\n",
              "2     226.100641  197.575278  ...     Set1  EBE10373-8135-4270-894B-9887BE25C44D.png\n",
              "3     230.612531  207.562373  ...     Set1  E371B8FC-E57F-49E3-8AF4-9DF8FDBFA8F3.png\n",
              "4     232.133431  209.823472  ...     Set1  238A6F42-0DF6-424E-9279-99FE08A655A8.png\n",
              "...          ...         ...  ...      ...                                       ...\n",
              "3195  232.804642  209.441604  ...     Set4  02517FFF-D929-4E27-ACB8-20C8F13BAE87.png\n",
              "3196  235.903985  218.940670  ...     Set4  4DF000AA-D32F-40DF-A2DA-318515B01B63.png\n",
              "3197  232.175960  216.874036  ...     Set4  976D4924-5C2B-4E8D-97B8-B6A27664091A.png\n",
              "3198  231.726077  211.455077  ...     Set4  CADBBAEF-2109-470B-A58D-7F59A19534CD.png\n",
              "3199  226.100641  197.575278  ...     Set4  BA693C32-D00A-4AA9-96D8-25720E26157C.png\n",
              "\n",
              "[3200 rows x 16 columns]"
            ]
          },
          "metadata": {},
          "execution_count": 118
        }
      ]
    },
    {
      "cell_type": "markdown",
      "source": [
        "###RGB"
      ],
      "metadata": {
        "id": "lYaMbNo4s8uX"
      }
    },
    {
      "cell_type": "code",
      "source": [
        "RGB_B2 = table_B2.drop(['H-ref','S-ref','V-ref','S-Shad','V-Shad','Shade-ref','Setting','Img','Shade','H-Shad'], axis=1)"
      ],
      "metadata": {
        "id": "sFO3ej7Us8uX"
      },
      "execution_count": 119,
      "outputs": []
    },
    {
      "cell_type": "code",
      "source": [
        "X_B2_RGB = np.array(RGB_B2)"
      ],
      "metadata": {
        "id": "1EHm44CAs8uX"
      },
      "execution_count": 120,
      "outputs": []
    },
    {
      "cell_type": "code",
      "source": [
        "y_B2_RGB =  table_B2.iloc[:,13:14]"
      ],
      "metadata": {
        "id": "mGXV1wY2s8uX"
      },
      "execution_count": 121,
      "outputs": []
    },
    {
      "cell_type": "code",
      "source": [
        "y_B2_RGB = np.array(y_B2_RGB)"
      ],
      "metadata": {
        "id": "7xTIc3drs8uX"
      },
      "execution_count": 122,
      "outputs": []
    },
    {
      "cell_type": "code",
      "source": [
        "X_test_B2_RGB , X_train_B2_RGB , y_test_B2_RGB, y_train_B2_RGB = train_test_split(X_B2_RGB, y_B2_RGB, test_size=80, train_size=320)"
      ],
      "metadata": {
        "id": "9Qyb0ppls8uX"
      },
      "execution_count": 123,
      "outputs": []
    },
    {
      "cell_type": "code",
      "source": [
        "clf.fit(X_train_B2_RGB, y_train_B2_RGB)"
      ],
      "metadata": {
        "outputId": "84dad2a4-47ac-45ad-aaa0-c8392ff4c9ce",
        "colab": {
          "base_uri": "https://localhost:8080/"
        },
        "id": "5TvnE44ss8uX"
      },
      "execution_count": 124,
      "outputs": [
        {
          "output_type": "stream",
          "name": "stderr",
          "text": [
            "/usr/local/lib/python3.7/dist-packages/ipykernel_launcher.py:1: DataConversionWarning: A column-vector y was passed when a 1d array was expected. Please change the shape of y to (n_samples,), for example using ravel().\n",
            "  \"\"\"Entry point for launching an IPython kernel.\n"
          ]
        },
        {
          "output_type": "execute_result",
          "data": {
            "text/plain": [
              "RandomForestClassifier()"
            ]
          },
          "metadata": {},
          "execution_count": 124
        }
      ]
    },
    {
      "cell_type": "code",
      "source": [
        "y_pred_B2_RGB = clf.predict(X_test_B2_RGB)"
      ],
      "metadata": {
        "id": "UsnKKfgos8uY"
      },
      "execution_count": 125,
      "outputs": []
    },
    {
      "cell_type": "code",
      "source": [
        "print(\"Accuracy:\", metrics.accuracy_score(y_test_B2_RGB, y_pred_B2_RGB))"
      ],
      "metadata": {
        "outputId": "6d35a601-e5d4-42c2-d7b6-ba41826f50c6",
        "colab": {
          "base_uri": "https://localhost:8080/"
        },
        "id": "refQRRyzs8uY"
      },
      "execution_count": 126,
      "outputs": [
        {
          "output_type": "stream",
          "name": "stdout",
          "text": [
            "Accuracy: 0.31875\n"
          ]
        }
      ]
    },
    {
      "cell_type": "markdown",
      "source": [
        "###HSV"
      ],
      "metadata": {
        "id": "roDUk8tys8uY"
      }
    },
    {
      "cell_type": "code",
      "source": [
        "HSV_B2 = table_B2.drop(['R-ref','G-ref','B-ref','R-Shad','G-Shad','B-Shad','Shade-ref','Setting','Img','Shade'], axis=1)"
      ],
      "metadata": {
        "id": "KcHcyIWKs8uY"
      },
      "execution_count": 127,
      "outputs": []
    },
    {
      "cell_type": "code",
      "source": [
        "X_B2_HSV = np.array(HSV_B2)"
      ],
      "metadata": {
        "id": "OH_f_ih-s8uY"
      },
      "execution_count": 128,
      "outputs": []
    },
    {
      "cell_type": "code",
      "source": [
        "y_B2_HSV =  table_B2.iloc[:,13:14]"
      ],
      "metadata": {
        "id": "2qEvUUJps8uY"
      },
      "execution_count": 129,
      "outputs": []
    },
    {
      "cell_type": "code",
      "source": [
        "y_B2_HSV = np.array(y_B2_HSV)"
      ],
      "metadata": {
        "id": "mmSG4Lb1s8uY"
      },
      "execution_count": 130,
      "outputs": []
    },
    {
      "cell_type": "code",
      "source": [
        "X_test_B2_HSV , X_train_B2_HSV , y_test_B2_HSV, y_train_B2_HSV = train_test_split(X_B2_HSV, y_B2_HSV, test_size=80, train_size=320)"
      ],
      "metadata": {
        "id": "weMhwqiQs8uY"
      },
      "execution_count": 131,
      "outputs": []
    },
    {
      "cell_type": "code",
      "source": [
        "clf.fit(X_train_B2_HSV, y_train_B2_HSV)"
      ],
      "metadata": {
        "outputId": "0e6280fb-d6be-4def-cb54-796545038523",
        "colab": {
          "base_uri": "https://localhost:8080/"
        },
        "id": "6Y3tzNWzs8uY"
      },
      "execution_count": 132,
      "outputs": [
        {
          "output_type": "stream",
          "name": "stderr",
          "text": [
            "/usr/local/lib/python3.7/dist-packages/ipykernel_launcher.py:1: DataConversionWarning: A column-vector y was passed when a 1d array was expected. Please change the shape of y to (n_samples,), for example using ravel().\n",
            "  \"\"\"Entry point for launching an IPython kernel.\n"
          ]
        },
        {
          "output_type": "execute_result",
          "data": {
            "text/plain": [
              "RandomForestClassifier()"
            ]
          },
          "metadata": {},
          "execution_count": 132
        }
      ]
    },
    {
      "cell_type": "code",
      "source": [
        "y_pred_B2_HSV = clf.predict(X_test_B2_HSV)"
      ],
      "metadata": {
        "id": "yLrCE4GSs8uZ"
      },
      "execution_count": 290,
      "outputs": []
    },
    {
      "cell_type": "code",
      "source": [
        "print(\"Accuracy:\", metrics.accuracy_score(y_test_B2_HSV, y_pred_B2_HSV))"
      ],
      "metadata": {
        "outputId": "fcc76338-0be0-4e71-9857-f4d7d2353b2c",
        "colab": {
          "base_uri": "https://localhost:8080/"
        },
        "id": "xWymcaJts8uZ"
      },
      "execution_count": 291,
      "outputs": [
        {
          "output_type": "stream",
          "name": "stdout",
          "text": [
            "Accuracy: 0.325\n"
          ]
        }
      ]
    },
    {
      "cell_type": "markdown",
      "source": [
        "##B3"
      ],
      "metadata": {
        "id": "s1qqSaMrs8uZ"
      }
    },
    {
      "cell_type": "code",
      "source": [
        "table_B3= pd.read_excel(BB, sheet_name='B3')\n",
        "table_B3"
      ],
      "metadata": {
        "outputId": "85aa2105-cc95-4033-98f7-e83ba87eb37c",
        "colab": {
          "base_uri": "https://localhost:8080/",
          "height": 0
        },
        "id": "M8vARG6Es8uZ"
      },
      "execution_count": 135,
      "outputs": [
        {
          "output_type": "execute_result",
          "data": {
            "text/html": [
              "\n",
              "  <div id=\"df-1fa9c400-e2b9-4f88-938d-3294e61559a4\">\n",
              "    <div class=\"colab-df-container\">\n",
              "      <div>\n",
              "<style scoped>\n",
              "    .dataframe tbody tr th:only-of-type {\n",
              "        vertical-align: middle;\n",
              "    }\n",
              "\n",
              "    .dataframe tbody tr th {\n",
              "        vertical-align: top;\n",
              "    }\n",
              "\n",
              "    .dataframe thead th {\n",
              "        text-align: right;\n",
              "    }\n",
              "</style>\n",
              "<table border=\"1\" class=\"dataframe\">\n",
              "  <thead>\n",
              "    <tr style=\"text-align: right;\">\n",
              "      <th></th>\n",
              "      <th>R-ref</th>\n",
              "      <th>G-ref</th>\n",
              "      <th>B-ref</th>\n",
              "      <th>R-Shad</th>\n",
              "      <th>G-Shad</th>\n",
              "      <th>B-Shad</th>\n",
              "      <th>H-ref</th>\n",
              "      <th>S-ref</th>\n",
              "      <th>V-ref</th>\n",
              "      <th>H-Shad</th>\n",
              "      <th>S-Shad</th>\n",
              "      <th>V-Shad</th>\n",
              "      <th>Shade-ref</th>\n",
              "      <th>Shade</th>\n",
              "      <th>Setting</th>\n",
              "      <th>Img</th>\n",
              "    </tr>\n",
              "  </thead>\n",
              "  <tbody>\n",
              "    <tr>\n",
              "      <th>0</th>\n",
              "      <td>232.175960</td>\n",
              "      <td>216.874036</td>\n",
              "      <td>178.708465</td>\n",
              "      <td>232.964654</td>\n",
              "      <td>217.832160</td>\n",
              "      <td>180.185122</td>\n",
              "      <td>21.562292</td>\n",
              "      <td>58.762357</td>\n",
              "      <td>232.175960</td>\n",
              "      <td>21.513975</td>\n",
              "      <td>57.839201</td>\n",
              "      <td>232.964654</td>\n",
              "      <td>B3</td>\n",
              "      <td>A1</td>\n",
              "      <td>Set1</td>\n",
              "      <td>768ECDBF-055D-4AF1-9FB6-59F1D54C18F2.png</td>\n",
              "    </tr>\n",
              "    <tr>\n",
              "      <th>1</th>\n",
              "      <td>231.726077</td>\n",
              "      <td>211.455077</td>\n",
              "      <td>167.223440</td>\n",
              "      <td>232.533177</td>\n",
              "      <td>212.551597</td>\n",
              "      <td>168.982505</td>\n",
              "      <td>20.556367</td>\n",
              "      <td>71.019641</td>\n",
              "      <td>231.726077</td>\n",
              "      <td>20.552237</td>\n",
              "      <td>69.773771</td>\n",
              "      <td>232.533177</td>\n",
              "      <td>B3</td>\n",
              "      <td>A1</td>\n",
              "      <td>Set1</td>\n",
              "      <td>A2B09945-ABB4-4B6C-8880-C0859637306B.png</td>\n",
              "    </tr>\n",
              "    <tr>\n",
              "      <th>2</th>\n",
              "      <td>226.100641</td>\n",
              "      <td>197.575278</td>\n",
              "      <td>146.748235</td>\n",
              "      <td>226.795889</td>\n",
              "      <td>198.548539</td>\n",
              "      <td>147.966148</td>\n",
              "      <td>19.189595</td>\n",
              "      <td>89.497849</td>\n",
              "      <td>226.100641</td>\n",
              "      <td>19.239457</td>\n",
              "      <td>88.650238</td>\n",
              "      <td>226.795889</td>\n",
              "      <td>B3</td>\n",
              "      <td>A1</td>\n",
              "      <td>Set1</td>\n",
              "      <td>5C57C433-024F-4E4A-B661-2A33A270EE9D.png</td>\n",
              "    </tr>\n",
              "    <tr>\n",
              "      <th>3</th>\n",
              "      <td>230.612531</td>\n",
              "      <td>207.562373</td>\n",
              "      <td>164.211752</td>\n",
              "      <td>231.210796</td>\n",
              "      <td>208.351682</td>\n",
              "      <td>165.428561</td>\n",
              "      <td>19.566594</td>\n",
              "      <td>73.461651</td>\n",
              "      <td>230.612531</td>\n",
              "      <td>19.550743</td>\n",
              "      <td>72.606500</td>\n",
              "      <td>231.210796</td>\n",
              "      <td>B3</td>\n",
              "      <td>A1</td>\n",
              "      <td>Set1</td>\n",
              "      <td>6D8E199E-9FF6-46BF-A7CA-D491A179F0EB.png</td>\n",
              "    </tr>\n",
              "    <tr>\n",
              "      <th>4</th>\n",
              "      <td>232.133431</td>\n",
              "      <td>209.823472</td>\n",
              "      <td>160.814707</td>\n",
              "      <td>232.841548</td>\n",
              "      <td>211.054264</td>\n",
              "      <td>163.067989</td>\n",
              "      <td>20.814463</td>\n",
              "      <td>78.373996</td>\n",
              "      <td>232.133431</td>\n",
              "      <td>20.855487</td>\n",
              "      <td>76.523434</td>\n",
              "      <td>232.841832</td>\n",
              "      <td>B3</td>\n",
              "      <td>A1</td>\n",
              "      <td>Set1</td>\n",
              "      <td>09286B35-9904-4EE4-8AF2-92443DF8DA7D.png</td>\n",
              "    </tr>\n",
              "    <tr>\n",
              "      <th>...</th>\n",
              "      <td>...</td>\n",
              "      <td>...</td>\n",
              "      <td>...</td>\n",
              "      <td>...</td>\n",
              "      <td>...</td>\n",
              "      <td>...</td>\n",
              "      <td>...</td>\n",
              "      <td>...</td>\n",
              "      <td>...</td>\n",
              "      <td>...</td>\n",
              "      <td>...</td>\n",
              "      <td>...</td>\n",
              "      <td>...</td>\n",
              "      <td>...</td>\n",
              "      <td>...</td>\n",
              "      <td>...</td>\n",
              "    </tr>\n",
              "    <tr>\n",
              "      <th>3195</th>\n",
              "      <td>232.804642</td>\n",
              "      <td>209.441604</td>\n",
              "      <td>164.924357</td>\n",
              "      <td>233.308869</td>\n",
              "      <td>210.109594</td>\n",
              "      <td>166.164853</td>\n",
              "      <td>19.601331</td>\n",
              "      <td>74.376755</td>\n",
              "      <td>232.804642</td>\n",
              "      <td>19.552094</td>\n",
              "      <td>73.433042</td>\n",
              "      <td>233.308869</td>\n",
              "      <td>B3</td>\n",
              "      <td>D4</td>\n",
              "      <td>Set4</td>\n",
              "      <td>FF51B534-D123-4EDC-9698-512268B65867.png</td>\n",
              "    </tr>\n",
              "    <tr>\n",
              "      <th>3196</th>\n",
              "      <td>235.903985</td>\n",
              "      <td>218.940670</td>\n",
              "      <td>179.875741</td>\n",
              "      <td>236.487092</td>\n",
              "      <td>219.666951</td>\n",
              "      <td>181.014864</td>\n",
              "      <td>20.612775</td>\n",
              "      <td>78.169873</td>\n",
              "      <td>229.335768</td>\n",
              "      <td>20.589787</td>\n",
              "      <td>77.092810</td>\n",
              "      <td>229.914515</td>\n",
              "      <td>B3</td>\n",
              "      <td>D4</td>\n",
              "      <td>Set4</td>\n",
              "      <td>687AE017-A410-496A-9B9B-6A9FD3E326A4.png</td>\n",
              "    </tr>\n",
              "    <tr>\n",
              "      <th>3197</th>\n",
              "      <td>232.175960</td>\n",
              "      <td>216.874036</td>\n",
              "      <td>178.708465</td>\n",
              "      <td>232.964654</td>\n",
              "      <td>217.832160</td>\n",
              "      <td>180.185122</td>\n",
              "      <td>21.562292</td>\n",
              "      <td>58.762357</td>\n",
              "      <td>232.175960</td>\n",
              "      <td>21.513975</td>\n",
              "      <td>57.839201</td>\n",
              "      <td>232.964654</td>\n",
              "      <td>B3</td>\n",
              "      <td>D4</td>\n",
              "      <td>Set4</td>\n",
              "      <td>5ADEE1DD-D8E0-4919-A19D-069AB7914B91.png</td>\n",
              "    </tr>\n",
              "    <tr>\n",
              "      <th>3198</th>\n",
              "      <td>231.726077</td>\n",
              "      <td>211.455077</td>\n",
              "      <td>167.223440</td>\n",
              "      <td>232.533177</td>\n",
              "      <td>212.551597</td>\n",
              "      <td>168.982505</td>\n",
              "      <td>20.556367</td>\n",
              "      <td>71.019641</td>\n",
              "      <td>231.726077</td>\n",
              "      <td>20.552237</td>\n",
              "      <td>69.773771</td>\n",
              "      <td>232.533177</td>\n",
              "      <td>B3</td>\n",
              "      <td>D4</td>\n",
              "      <td>Set4</td>\n",
              "      <td>B1D08D81-83F8-499F-8E19-BB24994B89F1.png</td>\n",
              "    </tr>\n",
              "    <tr>\n",
              "      <th>3199</th>\n",
              "      <td>226.100641</td>\n",
              "      <td>197.575278</td>\n",
              "      <td>146.748235</td>\n",
              "      <td>226.795889</td>\n",
              "      <td>198.548539</td>\n",
              "      <td>147.966148</td>\n",
              "      <td>19.189595</td>\n",
              "      <td>89.497849</td>\n",
              "      <td>226.100641</td>\n",
              "      <td>19.239457</td>\n",
              "      <td>88.650238</td>\n",
              "      <td>226.795889</td>\n",
              "      <td>B3</td>\n",
              "      <td>D4</td>\n",
              "      <td>Set4</td>\n",
              "      <td>48613D2F-02B3-4562-B1E2-D5C16CDE3EE0.png</td>\n",
              "    </tr>\n",
              "  </tbody>\n",
              "</table>\n",
              "<p>3200 rows × 16 columns</p>\n",
              "</div>\n",
              "      <button class=\"colab-df-convert\" onclick=\"convertToInteractive('df-1fa9c400-e2b9-4f88-938d-3294e61559a4')\"\n",
              "              title=\"Convert this dataframe to an interactive table.\"\n",
              "              style=\"display:none;\">\n",
              "        \n",
              "  <svg xmlns=\"http://www.w3.org/2000/svg\" height=\"24px\"viewBox=\"0 0 24 24\"\n",
              "       width=\"24px\">\n",
              "    <path d=\"M0 0h24v24H0V0z\" fill=\"none\"/>\n",
              "    <path d=\"M18.56 5.44l.94 2.06.94-2.06 2.06-.94-2.06-.94-.94-2.06-.94 2.06-2.06.94zm-11 1L8.5 8.5l.94-2.06 2.06-.94-2.06-.94L8.5 2.5l-.94 2.06-2.06.94zm10 10l.94 2.06.94-2.06 2.06-.94-2.06-.94-.94-2.06-.94 2.06-2.06.94z\"/><path d=\"M17.41 7.96l-1.37-1.37c-.4-.4-.92-.59-1.43-.59-.52 0-1.04.2-1.43.59L10.3 9.45l-7.72 7.72c-.78.78-.78 2.05 0 2.83L4 21.41c.39.39.9.59 1.41.59.51 0 1.02-.2 1.41-.59l7.78-7.78 2.81-2.81c.8-.78.8-2.07 0-2.86zM5.41 20L4 18.59l7.72-7.72 1.47 1.35L5.41 20z\"/>\n",
              "  </svg>\n",
              "      </button>\n",
              "      \n",
              "  <style>\n",
              "    .colab-df-container {\n",
              "      display:flex;\n",
              "      flex-wrap:wrap;\n",
              "      gap: 12px;\n",
              "    }\n",
              "\n",
              "    .colab-df-convert {\n",
              "      background-color: #E8F0FE;\n",
              "      border: none;\n",
              "      border-radius: 50%;\n",
              "      cursor: pointer;\n",
              "      display: none;\n",
              "      fill: #1967D2;\n",
              "      height: 32px;\n",
              "      padding: 0 0 0 0;\n",
              "      width: 32px;\n",
              "    }\n",
              "\n",
              "    .colab-df-convert:hover {\n",
              "      background-color: #E2EBFA;\n",
              "      box-shadow: 0px 1px 2px rgba(60, 64, 67, 0.3), 0px 1px 3px 1px rgba(60, 64, 67, 0.15);\n",
              "      fill: #174EA6;\n",
              "    }\n",
              "\n",
              "    [theme=dark] .colab-df-convert {\n",
              "      background-color: #3B4455;\n",
              "      fill: #D2E3FC;\n",
              "    }\n",
              "\n",
              "    [theme=dark] .colab-df-convert:hover {\n",
              "      background-color: #434B5C;\n",
              "      box-shadow: 0px 1px 3px 1px rgba(0, 0, 0, 0.15);\n",
              "      filter: drop-shadow(0px 1px 2px rgba(0, 0, 0, 0.3));\n",
              "      fill: #FFFFFF;\n",
              "    }\n",
              "  </style>\n",
              "\n",
              "      <script>\n",
              "        const buttonEl =\n",
              "          document.querySelector('#df-1fa9c400-e2b9-4f88-938d-3294e61559a4 button.colab-df-convert');\n",
              "        buttonEl.style.display =\n",
              "          google.colab.kernel.accessAllowed ? 'block' : 'none';\n",
              "\n",
              "        async function convertToInteractive(key) {\n",
              "          const element = document.querySelector('#df-1fa9c400-e2b9-4f88-938d-3294e61559a4');\n",
              "          const dataTable =\n",
              "            await google.colab.kernel.invokeFunction('convertToInteractive',\n",
              "                                                     [key], {});\n",
              "          if (!dataTable) return;\n",
              "\n",
              "          const docLinkHtml = 'Like what you see? Visit the ' +\n",
              "            '<a target=\"_blank\" href=https://colab.research.google.com/notebooks/data_table.ipynb>data table notebook</a>'\n",
              "            + ' to learn more about interactive tables.';\n",
              "          element.innerHTML = '';\n",
              "          dataTable['output_type'] = 'display_data';\n",
              "          await google.colab.output.renderOutput(dataTable, element);\n",
              "          const docLink = document.createElement('div');\n",
              "          docLink.innerHTML = docLinkHtml;\n",
              "          element.appendChild(docLink);\n",
              "        }\n",
              "      </script>\n",
              "    </div>\n",
              "  </div>\n",
              "  "
            ],
            "text/plain": [
              "           R-ref       G-ref  ...  Setting                                       Img\n",
              "0     232.175960  216.874036  ...     Set1  768ECDBF-055D-4AF1-9FB6-59F1D54C18F2.png\n",
              "1     231.726077  211.455077  ...     Set1  A2B09945-ABB4-4B6C-8880-C0859637306B.png\n",
              "2     226.100641  197.575278  ...     Set1  5C57C433-024F-4E4A-B661-2A33A270EE9D.png\n",
              "3     230.612531  207.562373  ...     Set1  6D8E199E-9FF6-46BF-A7CA-D491A179F0EB.png\n",
              "4     232.133431  209.823472  ...     Set1  09286B35-9904-4EE4-8AF2-92443DF8DA7D.png\n",
              "...          ...         ...  ...      ...                                       ...\n",
              "3195  232.804642  209.441604  ...     Set4  FF51B534-D123-4EDC-9698-512268B65867.png\n",
              "3196  235.903985  218.940670  ...     Set4  687AE017-A410-496A-9B9B-6A9FD3E326A4.png\n",
              "3197  232.175960  216.874036  ...     Set4  5ADEE1DD-D8E0-4919-A19D-069AB7914B91.png\n",
              "3198  231.726077  211.455077  ...     Set4  B1D08D81-83F8-499F-8E19-BB24994B89F1.png\n",
              "3199  226.100641  197.575278  ...     Set4  48613D2F-02B3-4562-B1E2-D5C16CDE3EE0.png\n",
              "\n",
              "[3200 rows x 16 columns]"
            ]
          },
          "metadata": {},
          "execution_count": 135
        }
      ]
    },
    {
      "cell_type": "markdown",
      "source": [
        "###RGB"
      ],
      "metadata": {
        "id": "GGKMFGvQs8uZ"
      }
    },
    {
      "cell_type": "code",
      "source": [
        "RGB_B3 = table_B3.drop(['H-ref','S-ref','V-ref','S-Shad','V-Shad','Shade-ref','Setting','Img','Shade','H-Shad'], axis=1)"
      ],
      "metadata": {
        "id": "fL2TFgH1s8uZ"
      },
      "execution_count": 136,
      "outputs": []
    },
    {
      "cell_type": "code",
      "source": [
        "X_B3_RGB = np.array(RGB_B3)"
      ],
      "metadata": {
        "id": "oUiT9TYTs8uZ"
      },
      "execution_count": 137,
      "outputs": []
    },
    {
      "cell_type": "code",
      "source": [
        "y_B3_RGB =  table_B3.iloc[:,13:14]"
      ],
      "metadata": {
        "id": "0z215N95s8uZ"
      },
      "execution_count": 138,
      "outputs": []
    },
    {
      "cell_type": "code",
      "source": [
        "y_B3_RGB = np.array(y_B3_RGB)"
      ],
      "metadata": {
        "id": "lkeTrlyzs8uZ"
      },
      "execution_count": 139,
      "outputs": []
    },
    {
      "cell_type": "code",
      "source": [
        "X_test_B3_RGB , X_train_B3_RGB , y_test_B3_RGB, y_train_B3_RGB = train_test_split(X_B3_RGB, y_A3_RGB, test_size=80, train_size=320)"
      ],
      "metadata": {
        "id": "75vsXwtys8uZ"
      },
      "execution_count": 140,
      "outputs": []
    },
    {
      "cell_type": "code",
      "source": [
        "clf.fit(X_train_B3_RGB, y_train_B3_RGB)"
      ],
      "metadata": {
        "outputId": "74d9ae7f-c52b-46b8-d6f9-7c90c1ed3bfd",
        "colab": {
          "base_uri": "https://localhost:8080/"
        },
        "id": "MRTcAcXRs8ua"
      },
      "execution_count": 141,
      "outputs": [
        {
          "output_type": "stream",
          "name": "stderr",
          "text": [
            "/usr/local/lib/python3.7/dist-packages/ipykernel_launcher.py:1: DataConversionWarning: A column-vector y was passed when a 1d array was expected. Please change the shape of y to (n_samples,), for example using ravel().\n",
            "  \"\"\"Entry point for launching an IPython kernel.\n"
          ]
        },
        {
          "output_type": "execute_result",
          "data": {
            "text/plain": [
              "RandomForestClassifier()"
            ]
          },
          "metadata": {},
          "execution_count": 141
        }
      ]
    },
    {
      "cell_type": "code",
      "source": [
        "y_pred_B3_RGB = clf.predict(X_test_B3_RGB)"
      ],
      "metadata": {
        "id": "CWe1vU-ws8ua"
      },
      "execution_count": 142,
      "outputs": []
    },
    {
      "cell_type": "code",
      "source": [
        "print(\"Accuracy:\", metrics.accuracy_score(y_test_B3_RGB, y_pred_B3_RGB))"
      ],
      "metadata": {
        "outputId": "c8851cfd-2526-4c2f-ee72-6af927efd983",
        "colab": {
          "base_uri": "https://localhost:8080/"
        },
        "id": "bgJ_8AhBs8ua"
      },
      "execution_count": 143,
      "outputs": [
        {
          "output_type": "stream",
          "name": "stdout",
          "text": [
            "Accuracy: 0.346875\n"
          ]
        }
      ]
    },
    {
      "cell_type": "markdown",
      "source": [
        "###HSV"
      ],
      "metadata": {
        "id": "WA4MXCB8s8ua"
      }
    },
    {
      "cell_type": "code",
      "source": [
        "HSV_B3 = table_B3.drop(['R-ref','G-ref','B-ref','R-Shad','G-Shad','B-Shad','Shade-ref','Setting','Img','Shade'], axis=1)"
      ],
      "metadata": {
        "id": "CGxKFx11s8ua"
      },
      "execution_count": 144,
      "outputs": []
    },
    {
      "cell_type": "code",
      "source": [
        "X_B3_HSV = np.array(HSV_B3)"
      ],
      "metadata": {
        "id": "B7XunbnKs8ua"
      },
      "execution_count": 145,
      "outputs": []
    },
    {
      "cell_type": "code",
      "source": [
        "y_B3_HSV =  table_B3.iloc[:,13:14]"
      ],
      "metadata": {
        "id": "_POybcF8s8ua"
      },
      "execution_count": 146,
      "outputs": []
    },
    {
      "cell_type": "code",
      "source": [
        "y_B3_HSV = np.array(y_B3_HSV)"
      ],
      "metadata": {
        "id": "bf8U3cHYs8ua"
      },
      "execution_count": 147,
      "outputs": []
    },
    {
      "cell_type": "code",
      "source": [
        "X_test_B3_HSV , X_train_B3_HSV , y_test_B3_HSV, y_train_B3_HSV = train_test_split(X_B3_HSV, y_B3_HSV, test_size=80, train_size=320)"
      ],
      "metadata": {
        "id": "RogAmwTws8ua"
      },
      "execution_count": 148,
      "outputs": []
    },
    {
      "cell_type": "code",
      "source": [
        "clf.fit(X_train_B3_HSV, y_train_B3_HSV)"
      ],
      "metadata": {
        "outputId": "5e2b80e4-a398-49ae-9d9d-285fb7e7caae",
        "colab": {
          "base_uri": "https://localhost:8080/"
        },
        "id": "9jYW09uks8ua"
      },
      "execution_count": 149,
      "outputs": [
        {
          "output_type": "stream",
          "name": "stderr",
          "text": [
            "/usr/local/lib/python3.7/dist-packages/ipykernel_launcher.py:1: DataConversionWarning: A column-vector y was passed when a 1d array was expected. Please change the shape of y to (n_samples,), for example using ravel().\n",
            "  \"\"\"Entry point for launching an IPython kernel.\n"
          ]
        },
        {
          "output_type": "execute_result",
          "data": {
            "text/plain": [
              "RandomForestClassifier()"
            ]
          },
          "metadata": {},
          "execution_count": 149
        }
      ]
    },
    {
      "cell_type": "code",
      "source": [
        "y_pred_B3_HSV = clf.predict(X_test_B3_HSV)"
      ],
      "metadata": {
        "id": "JfgtH55Vs8ua"
      },
      "execution_count": 150,
      "outputs": []
    },
    {
      "cell_type": "code",
      "source": [
        "print(\"Accuracy:\", metrics.accuracy_score(y_test_B3_HSV, y_pred_B3_HSV))"
      ],
      "metadata": {
        "outputId": "e9e2cab1-fac1-4c19-822b-af9f64349090",
        "colab": {
          "base_uri": "https://localhost:8080/"
        },
        "id": "EysSXL8Is8ub"
      },
      "execution_count": 151,
      "outputs": [
        {
          "output_type": "stream",
          "name": "stdout",
          "text": [
            "Accuracy: 0.3125\n"
          ]
        }
      ]
    },
    {
      "cell_type": "markdown",
      "source": [
        "##B4"
      ],
      "metadata": {
        "id": "W-UVd9jRs8ud"
      }
    },
    {
      "cell_type": "code",
      "source": [
        "table_B4= pd.read_excel(BB, sheet_name='B4')\n",
        "table_B4"
      ],
      "metadata": {
        "outputId": "b3e3358e-6fc1-4b53-f2e0-3c3a32b14db1",
        "colab": {
          "base_uri": "https://localhost:8080/",
          "height": 0
        },
        "id": "-QwMpOhps8ud"
      },
      "execution_count": 152,
      "outputs": [
        {
          "output_type": "execute_result",
          "data": {
            "text/html": [
              "\n",
              "  <div id=\"df-0cb601b6-f2af-4709-a625-074e81c79ade\">\n",
              "    <div class=\"colab-df-container\">\n",
              "      <div>\n",
              "<style scoped>\n",
              "    .dataframe tbody tr th:only-of-type {\n",
              "        vertical-align: middle;\n",
              "    }\n",
              "\n",
              "    .dataframe tbody tr th {\n",
              "        vertical-align: top;\n",
              "    }\n",
              "\n",
              "    .dataframe thead th {\n",
              "        text-align: right;\n",
              "    }\n",
              "</style>\n",
              "<table border=\"1\" class=\"dataframe\">\n",
              "  <thead>\n",
              "    <tr style=\"text-align: right;\">\n",
              "      <th></th>\n",
              "      <th>R-ref</th>\n",
              "      <th>G-ref</th>\n",
              "      <th>B-ref</th>\n",
              "      <th>R-Shad</th>\n",
              "      <th>G-Shad</th>\n",
              "      <th>B-Shad</th>\n",
              "      <th>H-ref</th>\n",
              "      <th>S-ref</th>\n",
              "      <th>V-ref</th>\n",
              "      <th>H-Shad</th>\n",
              "      <th>S-Shad</th>\n",
              "      <th>V-Shad</th>\n",
              "      <th>Shade-ref</th>\n",
              "      <th>Shade</th>\n",
              "      <th>Setting</th>\n",
              "      <th>Img</th>\n",
              "    </tr>\n",
              "  </thead>\n",
              "  <tbody>\n",
              "    <tr>\n",
              "      <th>0</th>\n",
              "      <td>237.172985</td>\n",
              "      <td>225.596383</td>\n",
              "      <td>191.776924</td>\n",
              "      <td>237.828505</td>\n",
              "      <td>226.460326</td>\n",
              "      <td>193.279482</td>\n",
              "      <td>22.295755</td>\n",
              "      <td>48.938885</td>\n",
              "      <td>237.144469</td>\n",
              "      <td>22.332764</td>\n",
              "      <td>47.917502</td>\n",
              "      <td>237.810967</td>\n",
              "      <td>B4</td>\n",
              "      <td>A1</td>\n",
              "      <td>Set1</td>\n",
              "      <td>34B2D0A4-AE20-440B-976D-34704AC67DBF.png</td>\n",
              "    </tr>\n",
              "    <tr>\n",
              "      <th>1</th>\n",
              "      <td>239.246246</td>\n",
              "      <td>221.661797</td>\n",
              "      <td>177.409220</td>\n",
              "      <td>239.869853</td>\n",
              "      <td>222.532181</td>\n",
              "      <td>178.897233</td>\n",
              "      <td>22.295755</td>\n",
              "      <td>48.938885</td>\n",
              "      <td>237.144469</td>\n",
              "      <td>22.332764</td>\n",
              "      <td>47.917502</td>\n",
              "      <td>237.810967</td>\n",
              "      <td>B4</td>\n",
              "      <td>A1</td>\n",
              "      <td>Set1</td>\n",
              "      <td>749D68C6-4CBE-4281-936D-2E903F24C84B.png</td>\n",
              "    </tr>\n",
              "    <tr>\n",
              "      <th>2</th>\n",
              "      <td>237.328788</td>\n",
              "      <td>211.283256</td>\n",
              "      <td>155.065985</td>\n",
              "      <td>238.087547</td>\n",
              "      <td>212.420596</td>\n",
              "      <td>156.950573</td>\n",
              "      <td>20.723724</td>\n",
              "      <td>88.424560</td>\n",
              "      <td>237.328788</td>\n",
              "      <td>20.721926</td>\n",
              "      <td>86.986061</td>\n",
              "      <td>238.087547</td>\n",
              "      <td>B4</td>\n",
              "      <td>A1</td>\n",
              "      <td>Set1</td>\n",
              "      <td>FF438080-DFCE-4992-80C7-BC7FD4258D18.png</td>\n",
              "    </tr>\n",
              "    <tr>\n",
              "      <th>3</th>\n",
              "      <td>236.773314</td>\n",
              "      <td>209.917864</td>\n",
              "      <td>155.544355</td>\n",
              "      <td>237.385748</td>\n",
              "      <td>210.931939</td>\n",
              "      <td>157.041818</td>\n",
              "      <td>20.189676</td>\n",
              "      <td>87.558072</td>\n",
              "      <td>236.773314</td>\n",
              "      <td>20.244791</td>\n",
              "      <td>86.400541</td>\n",
              "      <td>237.385748</td>\n",
              "      <td>B4</td>\n",
              "      <td>A1</td>\n",
              "      <td>Set1</td>\n",
              "      <td>94EA0AEE-7090-4878-B886-C6D839442A90.png</td>\n",
              "    </tr>\n",
              "    <tr>\n",
              "      <th>4</th>\n",
              "      <td>238.599951</td>\n",
              "      <td>222.450207</td>\n",
              "      <td>177.512702</td>\n",
              "      <td>237.828505</td>\n",
              "      <td>226.460326</td>\n",
              "      <td>193.279482</td>\n",
              "      <td>22.168006</td>\n",
              "      <td>65.331954</td>\n",
              "      <td>238.599951</td>\n",
              "      <td>22.186189</td>\n",
              "      <td>64.179290</td>\n",
              "      <td>239.099139</td>\n",
              "      <td>B4</td>\n",
              "      <td>A1</td>\n",
              "      <td>Set1</td>\n",
              "      <td>1F086831-AF5B-4D7E-8E33-15C8CE2CF0B7.png</td>\n",
              "    </tr>\n",
              "    <tr>\n",
              "      <th>...</th>\n",
              "      <td>...</td>\n",
              "      <td>...</td>\n",
              "      <td>...</td>\n",
              "      <td>...</td>\n",
              "      <td>...</td>\n",
              "      <td>...</td>\n",
              "      <td>...</td>\n",
              "      <td>...</td>\n",
              "      <td>...</td>\n",
              "      <td>...</td>\n",
              "      <td>...</td>\n",
              "      <td>...</td>\n",
              "      <td>...</td>\n",
              "      <td>...</td>\n",
              "      <td>...</td>\n",
              "      <td>...</td>\n",
              "    </tr>\n",
              "    <tr>\n",
              "      <th>3195</th>\n",
              "      <td>219.796364</td>\n",
              "      <td>220.248600</td>\n",
              "      <td>203.640370</td>\n",
              "      <td>219.211934</td>\n",
              "      <td>219.766731</td>\n",
              "      <td>203.270322</td>\n",
              "      <td>31.111598</td>\n",
              "      <td>19.560669</td>\n",
              "      <td>220.568055</td>\n",
              "      <td>31.312851</td>\n",
              "      <td>19.433184</td>\n",
              "      <td>220.052343</td>\n",
              "      <td>B4</td>\n",
              "      <td>D4</td>\n",
              "      <td>Set4</td>\n",
              "      <td>E8ED1D38-6C16-42ED-A658-58070626D8F1.png</td>\n",
              "    </tr>\n",
              "    <tr>\n",
              "      <th>3196</th>\n",
              "      <td>215.312718</td>\n",
              "      <td>216.245759</td>\n",
              "      <td>196.157455</td>\n",
              "      <td>214.860323</td>\n",
              "      <td>215.754498</td>\n",
              "      <td>195.762108</td>\n",
              "      <td>28.454590</td>\n",
              "      <td>52.051295</td>\n",
              "      <td>221.314991</td>\n",
              "      <td>28.269469</td>\n",
              "      <td>52.384325</td>\n",
              "      <td>220.852002</td>\n",
              "      <td>B4</td>\n",
              "      <td>D4</td>\n",
              "      <td>Set4</td>\n",
              "      <td>094AD7F5-5108-42D2-83AE-4B037D362173.png</td>\n",
              "    </tr>\n",
              "    <tr>\n",
              "      <th>3197</th>\n",
              "      <td>215.690610</td>\n",
              "      <td>216.009902</td>\n",
              "      <td>196.406055</td>\n",
              "      <td>215.166773</td>\n",
              "      <td>215.486879</td>\n",
              "      <td>195.933291</td>\n",
              "      <td>30.849525</td>\n",
              "      <td>23.662609</td>\n",
              "      <td>216.485350</td>\n",
              "      <td>30.867293</td>\n",
              "      <td>23.636228</td>\n",
              "      <td>215.959036</td>\n",
              "      <td>B4</td>\n",
              "      <td>D4</td>\n",
              "      <td>Set4</td>\n",
              "      <td>1047654A-B1CA-45B5-9EA7-8FDBE1B2C704.png</td>\n",
              "    </tr>\n",
              "    <tr>\n",
              "      <th>3198</th>\n",
              "      <td>213.749290</td>\n",
              "      <td>210.436328</td>\n",
              "      <td>181.714877</td>\n",
              "      <td>213.046725</td>\n",
              "      <td>209.822132</td>\n",
              "      <td>181.286679</td>\n",
              "      <td>26.683954</td>\n",
              "      <td>38.233260</td>\n",
              "      <td>213.749290</td>\n",
              "      <td>26.767157</td>\n",
              "      <td>38.010668</td>\n",
              "      <td>213.046725</td>\n",
              "      <td>B4</td>\n",
              "      <td>D4</td>\n",
              "      <td>Set4</td>\n",
              "      <td>2AC65698-9959-467C-BF00-EC65879EEB15.png</td>\n",
              "    </tr>\n",
              "    <tr>\n",
              "      <th>3199</th>\n",
              "      <td>211.214674</td>\n",
              "      <td>204.185537</td>\n",
              "      <td>158.897330</td>\n",
              "      <td>210.905910</td>\n",
              "      <td>203.783372</td>\n",
              "      <td>158.707275</td>\n",
              "      <td>26.202337</td>\n",
              "      <td>63.120039</td>\n",
              "      <td>211.214674</td>\n",
              "      <td>26.147358</td>\n",
              "      <td>63.070194</td>\n",
              "      <td>210.905910</td>\n",
              "      <td>B4</td>\n",
              "      <td>D4</td>\n",
              "      <td>Set4</td>\n",
              "      <td>B736DF83-AEA3-4E3C-94D7-E81EB850FD08.png</td>\n",
              "    </tr>\n",
              "  </tbody>\n",
              "</table>\n",
              "<p>3200 rows × 16 columns</p>\n",
              "</div>\n",
              "      <button class=\"colab-df-convert\" onclick=\"convertToInteractive('df-0cb601b6-f2af-4709-a625-074e81c79ade')\"\n",
              "              title=\"Convert this dataframe to an interactive table.\"\n",
              "              style=\"display:none;\">\n",
              "        \n",
              "  <svg xmlns=\"http://www.w3.org/2000/svg\" height=\"24px\"viewBox=\"0 0 24 24\"\n",
              "       width=\"24px\">\n",
              "    <path d=\"M0 0h24v24H0V0z\" fill=\"none\"/>\n",
              "    <path d=\"M18.56 5.44l.94 2.06.94-2.06 2.06-.94-2.06-.94-.94-2.06-.94 2.06-2.06.94zm-11 1L8.5 8.5l.94-2.06 2.06-.94-2.06-.94L8.5 2.5l-.94 2.06-2.06.94zm10 10l.94 2.06.94-2.06 2.06-.94-2.06-.94-.94-2.06-.94 2.06-2.06.94z\"/><path d=\"M17.41 7.96l-1.37-1.37c-.4-.4-.92-.59-1.43-.59-.52 0-1.04.2-1.43.59L10.3 9.45l-7.72 7.72c-.78.78-.78 2.05 0 2.83L4 21.41c.39.39.9.59 1.41.59.51 0 1.02-.2 1.41-.59l7.78-7.78 2.81-2.81c.8-.78.8-2.07 0-2.86zM5.41 20L4 18.59l7.72-7.72 1.47 1.35L5.41 20z\"/>\n",
              "  </svg>\n",
              "      </button>\n",
              "      \n",
              "  <style>\n",
              "    .colab-df-container {\n",
              "      display:flex;\n",
              "      flex-wrap:wrap;\n",
              "      gap: 12px;\n",
              "    }\n",
              "\n",
              "    .colab-df-convert {\n",
              "      background-color: #E8F0FE;\n",
              "      border: none;\n",
              "      border-radius: 50%;\n",
              "      cursor: pointer;\n",
              "      display: none;\n",
              "      fill: #1967D2;\n",
              "      height: 32px;\n",
              "      padding: 0 0 0 0;\n",
              "      width: 32px;\n",
              "    }\n",
              "\n",
              "    .colab-df-convert:hover {\n",
              "      background-color: #E2EBFA;\n",
              "      box-shadow: 0px 1px 2px rgba(60, 64, 67, 0.3), 0px 1px 3px 1px rgba(60, 64, 67, 0.15);\n",
              "      fill: #174EA6;\n",
              "    }\n",
              "\n",
              "    [theme=dark] .colab-df-convert {\n",
              "      background-color: #3B4455;\n",
              "      fill: #D2E3FC;\n",
              "    }\n",
              "\n",
              "    [theme=dark] .colab-df-convert:hover {\n",
              "      background-color: #434B5C;\n",
              "      box-shadow: 0px 1px 3px 1px rgba(0, 0, 0, 0.15);\n",
              "      filter: drop-shadow(0px 1px 2px rgba(0, 0, 0, 0.3));\n",
              "      fill: #FFFFFF;\n",
              "    }\n",
              "  </style>\n",
              "\n",
              "      <script>\n",
              "        const buttonEl =\n",
              "          document.querySelector('#df-0cb601b6-f2af-4709-a625-074e81c79ade button.colab-df-convert');\n",
              "        buttonEl.style.display =\n",
              "          google.colab.kernel.accessAllowed ? 'block' : 'none';\n",
              "\n",
              "        async function convertToInteractive(key) {\n",
              "          const element = document.querySelector('#df-0cb601b6-f2af-4709-a625-074e81c79ade');\n",
              "          const dataTable =\n",
              "            await google.colab.kernel.invokeFunction('convertToInteractive',\n",
              "                                                     [key], {});\n",
              "          if (!dataTable) return;\n",
              "\n",
              "          const docLinkHtml = 'Like what you see? Visit the ' +\n",
              "            '<a target=\"_blank\" href=https://colab.research.google.com/notebooks/data_table.ipynb>data table notebook</a>'\n",
              "            + ' to learn more about interactive tables.';\n",
              "          element.innerHTML = '';\n",
              "          dataTable['output_type'] = 'display_data';\n",
              "          await google.colab.output.renderOutput(dataTable, element);\n",
              "          const docLink = document.createElement('div');\n",
              "          docLink.innerHTML = docLinkHtml;\n",
              "          element.appendChild(docLink);\n",
              "        }\n",
              "      </script>\n",
              "    </div>\n",
              "  </div>\n",
              "  "
            ],
            "text/plain": [
              "           R-ref       G-ref  ...  Setting                                       Img\n",
              "0     237.172985  225.596383  ...     Set1  34B2D0A4-AE20-440B-976D-34704AC67DBF.png\n",
              "1     239.246246  221.661797  ...     Set1  749D68C6-4CBE-4281-936D-2E903F24C84B.png\n",
              "2     237.328788  211.283256  ...     Set1  FF438080-DFCE-4992-80C7-BC7FD4258D18.png\n",
              "3     236.773314  209.917864  ...     Set1  94EA0AEE-7090-4878-B886-C6D839442A90.png\n",
              "4     238.599951  222.450207  ...     Set1  1F086831-AF5B-4D7E-8E33-15C8CE2CF0B7.png\n",
              "...          ...         ...  ...      ...                                       ...\n",
              "3195  219.796364  220.248600  ...     Set4  E8ED1D38-6C16-42ED-A658-58070626D8F1.png\n",
              "3196  215.312718  216.245759  ...     Set4  094AD7F5-5108-42D2-83AE-4B037D362173.png\n",
              "3197  215.690610  216.009902  ...     Set4  1047654A-B1CA-45B5-9EA7-8FDBE1B2C704.png\n",
              "3198  213.749290  210.436328  ...     Set4  2AC65698-9959-467C-BF00-EC65879EEB15.png\n",
              "3199  211.214674  204.185537  ...     Set4  B736DF83-AEA3-4E3C-94D7-E81EB850FD08.png\n",
              "\n",
              "[3200 rows x 16 columns]"
            ]
          },
          "metadata": {},
          "execution_count": 152
        }
      ]
    },
    {
      "cell_type": "markdown",
      "source": [
        "###RGB"
      ],
      "metadata": {
        "id": "peEny29Ys8ud"
      }
    },
    {
      "cell_type": "code",
      "source": [
        "RGB_B4 = table_B4.drop(['H-ref','S-ref','V-ref','S-Shad','V-Shad','Shade-ref','Setting','Img','Shade','H-Shad'], axis=1)"
      ],
      "metadata": {
        "id": "OGjEJU1Zs8ud"
      },
      "execution_count": 153,
      "outputs": []
    },
    {
      "cell_type": "code",
      "source": [
        "X_B4_RGB = np.array(RGB_B4)"
      ],
      "metadata": {
        "id": "PyUQ_k-Fs8ud"
      },
      "execution_count": 154,
      "outputs": []
    },
    {
      "cell_type": "code",
      "source": [
        "y_B4_RGB =  table_B4.iloc[:,13:14]"
      ],
      "metadata": {
        "id": "oAXRSqKXs8ud"
      },
      "execution_count": 155,
      "outputs": []
    },
    {
      "cell_type": "code",
      "source": [
        "y_B4_RGB = np.array(y_B4_RGB)"
      ],
      "metadata": {
        "id": "OJ7nnePVs8ud"
      },
      "execution_count": 156,
      "outputs": []
    },
    {
      "cell_type": "code",
      "source": [
        "X_test_B4_RGB , X_train_B4_RGB , y_test_B4_RGB, y_train_B4_RGB = train_test_split(X_B4_RGB, y_B4_RGB, test_size=80, train_size=320)"
      ],
      "metadata": {
        "id": "ga4Xa6Jrs8ud"
      },
      "execution_count": 157,
      "outputs": []
    },
    {
      "cell_type": "code",
      "source": [
        "clf.fit(X_train_B4_RGB, y_train_B4_RGB)"
      ],
      "metadata": {
        "outputId": "f865c255-8a66-4d5f-d27c-cf669d349037",
        "colab": {
          "base_uri": "https://localhost:8080/"
        },
        "id": "0fp4cX4Bs8ue"
      },
      "execution_count": 158,
      "outputs": [
        {
          "output_type": "stream",
          "name": "stderr",
          "text": [
            "/usr/local/lib/python3.7/dist-packages/ipykernel_launcher.py:1: DataConversionWarning: A column-vector y was passed when a 1d array was expected. Please change the shape of y to (n_samples,), for example using ravel().\n",
            "  \"\"\"Entry point for launching an IPython kernel.\n"
          ]
        },
        {
          "output_type": "execute_result",
          "data": {
            "text/plain": [
              "RandomForestClassifier()"
            ]
          },
          "metadata": {},
          "execution_count": 158
        }
      ]
    },
    {
      "cell_type": "code",
      "source": [
        "y_pred_B4_RGB = clf.predict(X_test_B4_RGB)"
      ],
      "metadata": {
        "id": "31CRT678s8ue"
      },
      "execution_count": 159,
      "outputs": []
    },
    {
      "cell_type": "code",
      "source": [
        "print(\"Accuracy:\", metrics.accuracy_score(y_test_B4_RGB, y_pred_B4_RGB))"
      ],
      "metadata": {
        "outputId": "c1c70577-048a-4ed0-af04-7036aecf155d",
        "colab": {
          "base_uri": "https://localhost:8080/"
        },
        "id": "e7RpxQzqs8ue"
      },
      "execution_count": 160,
      "outputs": [
        {
          "output_type": "stream",
          "name": "stdout",
          "text": [
            "Accuracy: 0.16875\n"
          ]
        }
      ]
    },
    {
      "cell_type": "markdown",
      "source": [
        "###HSV"
      ],
      "metadata": {
        "id": "06Sr5hMVs8ue"
      }
    },
    {
      "cell_type": "code",
      "source": [
        "HSV_B4 = table_B4.drop(['R-ref','G-ref','B-ref','R-Shad','G-Shad','B-Shad','Shade-ref','Setting','Img','Shade'], axis=1)"
      ],
      "metadata": {
        "id": "UgkU8_MPs8ue"
      },
      "execution_count": 161,
      "outputs": []
    },
    {
      "cell_type": "code",
      "source": [
        "X_B4_HSV = np.array(HSV_B4)"
      ],
      "metadata": {
        "id": "LvDNKSJHs8ue"
      },
      "execution_count": 162,
      "outputs": []
    },
    {
      "cell_type": "code",
      "source": [
        "y_B4_HSV =  table_B4.iloc[:,13:14]"
      ],
      "metadata": {
        "id": "JLlk3jgUs8ue"
      },
      "execution_count": 163,
      "outputs": []
    },
    {
      "cell_type": "code",
      "source": [
        "y_B4_HSV = np.array(y_B4_HSV)"
      ],
      "metadata": {
        "id": "q3U3LAeas8ue"
      },
      "execution_count": 164,
      "outputs": []
    },
    {
      "cell_type": "code",
      "source": [
        "X_test_B4_HSV , X_train_B4_HSV , y_test_B4_HSV, y_train_B4_HSV = train_test_split(X_B4_HSV, y_B4_HSV, test_size=80, train_size=320)"
      ],
      "metadata": {
        "id": "GayzAAils8ue"
      },
      "execution_count": 165,
      "outputs": []
    },
    {
      "cell_type": "code",
      "source": [
        "clf.fit(X_train_B4_HSV, y_train_B4_HSV)"
      ],
      "metadata": {
        "outputId": "a2a75882-f9eb-4115-9a92-5be205a1c377",
        "colab": {
          "base_uri": "https://localhost:8080/"
        },
        "id": "l5iw5-TZs8ue"
      },
      "execution_count": 166,
      "outputs": [
        {
          "output_type": "stream",
          "name": "stderr",
          "text": [
            "/usr/local/lib/python3.7/dist-packages/ipykernel_launcher.py:1: DataConversionWarning: A column-vector y was passed when a 1d array was expected. Please change the shape of y to (n_samples,), for example using ravel().\n",
            "  \"\"\"Entry point for launching an IPython kernel.\n"
          ]
        },
        {
          "output_type": "execute_result",
          "data": {
            "text/plain": [
              "RandomForestClassifier()"
            ]
          },
          "metadata": {},
          "execution_count": 166
        }
      ]
    },
    {
      "cell_type": "code",
      "source": [
        "y_pred_B4_HSV = clf.predict(X_test_B4_HSV)"
      ],
      "metadata": {
        "id": "FCtEHRBts8ue"
      },
      "execution_count": 167,
      "outputs": []
    },
    {
      "cell_type": "code",
      "source": [
        "print(\"Accuracy:\", metrics.accuracy_score(y_test_B4_HSV, y_pred_B4_HSV))"
      ],
      "metadata": {
        "outputId": "7eef5818-5fa5-4786-8759-60b355c0fdad",
        "colab": {
          "base_uri": "https://localhost:8080/"
        },
        "id": "50Z79K1is8uf"
      },
      "execution_count": 168,
      "outputs": [
        {
          "output_type": "stream",
          "name": "stdout",
          "text": [
            "Accuracy: 0.21875\n"
          ]
        }
      ]
    },
    {
      "cell_type": "markdown",
      "source": [
        "#CC"
      ],
      "metadata": {
        "id": "hKcH1UR8JGeL"
      }
    },
    {
      "cell_type": "markdown",
      "source": [
        "##C1"
      ],
      "metadata": {
        "id": "PamCo-U-wSgF"
      }
    },
    {
      "cell_type": "code",
      "source": [
        "table_C1= pd.read_excel(CC, sheet_name='C1')\n",
        "table_C1"
      ],
      "metadata": {
        "colab": {
          "base_uri": "https://localhost:8080/",
          "height": 0
        },
        "outputId": "9f87e25c-f968-4b8d-c7df-6d305fa0d914",
        "id": "9JPhwwadwSgL"
      },
      "execution_count": 169,
      "outputs": [
        {
          "output_type": "execute_result",
          "data": {
            "text/html": [
              "\n",
              "  <div id=\"df-8aeb0395-644d-4b67-a0c0-a5fe30c54f11\">\n",
              "    <div class=\"colab-df-container\">\n",
              "      <div>\n",
              "<style scoped>\n",
              "    .dataframe tbody tr th:only-of-type {\n",
              "        vertical-align: middle;\n",
              "    }\n",
              "\n",
              "    .dataframe tbody tr th {\n",
              "        vertical-align: top;\n",
              "    }\n",
              "\n",
              "    .dataframe thead th {\n",
              "        text-align: right;\n",
              "    }\n",
              "</style>\n",
              "<table border=\"1\" class=\"dataframe\">\n",
              "  <thead>\n",
              "    <tr style=\"text-align: right;\">\n",
              "      <th></th>\n",
              "      <th>R-ref</th>\n",
              "      <th>G-ref</th>\n",
              "      <th>B-ref</th>\n",
              "      <th>R-Shad</th>\n",
              "      <th>G-Shad</th>\n",
              "      <th>B-Shad</th>\n",
              "      <th>H-ref</th>\n",
              "      <th>S-ref</th>\n",
              "      <th>V-ref</th>\n",
              "      <th>H-Shad</th>\n",
              "      <th>S-Shad</th>\n",
              "      <th>V-Shad</th>\n",
              "      <th>Shade-ref</th>\n",
              "      <th>Shade</th>\n",
              "      <th>Setting</th>\n",
              "      <th>Img</th>\n",
              "    </tr>\n",
              "  </thead>\n",
              "  <tbody>\n",
              "    <tr>\n",
              "      <th>0</th>\n",
              "      <td>235.799935</td>\n",
              "      <td>224.516030</td>\n",
              "      <td>190.873549</td>\n",
              "      <td>236.478202</td>\n",
              "      <td>225.354384</td>\n",
              "      <td>192.366332</td>\n",
              "      <td>22.539810</td>\n",
              "      <td>48.802938</td>\n",
              "      <td>235.882396</td>\n",
              "      <td>22.513975</td>\n",
              "      <td>47.750871</td>\n",
              "      <td>236.545338</td>\n",
              "      <td>C1</td>\n",
              "      <td>A1</td>\n",
              "      <td>Set1</td>\n",
              "      <td>998EA81C-77D0-4357-9197-D7AEAAAE4F91.png</td>\n",
              "    </tr>\n",
              "    <tr>\n",
              "      <th>1</th>\n",
              "      <td>238.009577</td>\n",
              "      <td>218.146498</td>\n",
              "      <td>168.652788</td>\n",
              "      <td>238.456155</td>\n",
              "      <td>218.892397</td>\n",
              "      <td>169.966219</td>\n",
              "      <td>21.391040</td>\n",
              "      <td>74.313854</td>\n",
              "      <td>238.009577</td>\n",
              "      <td>21.449968</td>\n",
              "      <td>73.265842</td>\n",
              "      <td>238.456155</td>\n",
              "      <td>C1</td>\n",
              "      <td>A1</td>\n",
              "      <td>Set1</td>\n",
              "      <td>C69EF426-D68B-4503-AFC0-A62E37CCB172.png</td>\n",
              "    </tr>\n",
              "    <tr>\n",
              "      <th>2</th>\n",
              "      <td>238.416687</td>\n",
              "      <td>212.713660</td>\n",
              "      <td>158.665693</td>\n",
              "      <td>239.056255</td>\n",
              "      <td>213.774056</td>\n",
              "      <td>160.482754</td>\n",
              "      <td>22.539810</td>\n",
              "      <td>48.802938</td>\n",
              "      <td>235.882396</td>\n",
              "      <td>22.513975</td>\n",
              "      <td>47.750871</td>\n",
              "      <td>236.545338</td>\n",
              "      <td>C1</td>\n",
              "      <td>A1</td>\n",
              "      <td>Set1</td>\n",
              "      <td>95C4078C-AD0D-4394-BCF6-9C2E1E7C2219.png</td>\n",
              "    </tr>\n",
              "    <tr>\n",
              "      <th>3</th>\n",
              "      <td>239.417986</td>\n",
              "      <td>227.436572</td>\n",
              "      <td>192.575603</td>\n",
              "      <td>239.889624</td>\n",
              "      <td>228.078444</td>\n",
              "      <td>193.459640</td>\n",
              "      <td>22.327571</td>\n",
              "      <td>49.921191</td>\n",
              "      <td>239.417986</td>\n",
              "      <td>22.373160</td>\n",
              "      <td>49.390157</td>\n",
              "      <td>239.889624</td>\n",
              "      <td>C1</td>\n",
              "      <td>A1</td>\n",
              "      <td>Set1</td>\n",
              "      <td>770F3E42-0415-48C8-AE28-664827DCDAAE.png</td>\n",
              "    </tr>\n",
              "    <tr>\n",
              "      <th>4</th>\n",
              "      <td>239.556448</td>\n",
              "      <td>216.784027</td>\n",
              "      <td>161.199740</td>\n",
              "      <td>240.061944</td>\n",
              "      <td>217.745111</td>\n",
              "      <td>163.031079</td>\n",
              "      <td>21.443146</td>\n",
              "      <td>83.446474</td>\n",
              "      <td>239.556448</td>\n",
              "      <td>21.478060</td>\n",
              "      <td>81.900078</td>\n",
              "      <td>240.062229</td>\n",
              "      <td>C1</td>\n",
              "      <td>A1</td>\n",
              "      <td>Set1</td>\n",
              "      <td>AFD98982-91EB-4E2A-BEA8-8FDCCC8F33E1.png</td>\n",
              "    </tr>\n",
              "    <tr>\n",
              "      <th>...</th>\n",
              "      <td>...</td>\n",
              "      <td>...</td>\n",
              "      <td>...</td>\n",
              "      <td>...</td>\n",
              "      <td>...</td>\n",
              "      <td>...</td>\n",
              "      <td>...</td>\n",
              "      <td>...</td>\n",
              "      <td>...</td>\n",
              "      <td>...</td>\n",
              "      <td>...</td>\n",
              "      <td>...</td>\n",
              "      <td>...</td>\n",
              "      <td>...</td>\n",
              "      <td>...</td>\n",
              "      <td>...</td>\n",
              "    </tr>\n",
              "    <tr>\n",
              "      <th>3195</th>\n",
              "      <td>219.796364</td>\n",
              "      <td>220.248600</td>\n",
              "      <td>203.640370</td>\n",
              "      <td>219.211934</td>\n",
              "      <td>219.766731</td>\n",
              "      <td>203.270322</td>\n",
              "      <td>31.111598</td>\n",
              "      <td>19.560669</td>\n",
              "      <td>220.568055</td>\n",
              "      <td>31.312851</td>\n",
              "      <td>19.433184</td>\n",
              "      <td>220.052343</td>\n",
              "      <td>C1</td>\n",
              "      <td>D4</td>\n",
              "      <td>Set4</td>\n",
              "      <td>F5353A8F-C3DA-49EB-8703-FE4D5E4FB54D.png</td>\n",
              "    </tr>\n",
              "    <tr>\n",
              "      <th>3196</th>\n",
              "      <td>215.312718</td>\n",
              "      <td>216.245759</td>\n",
              "      <td>196.157455</td>\n",
              "      <td>214.860323</td>\n",
              "      <td>215.754498</td>\n",
              "      <td>195.762108</td>\n",
              "      <td>28.454590</td>\n",
              "      <td>52.051295</td>\n",
              "      <td>221.314991</td>\n",
              "      <td>28.269469</td>\n",
              "      <td>52.384325</td>\n",
              "      <td>220.852002</td>\n",
              "      <td>C1</td>\n",
              "      <td>D4</td>\n",
              "      <td>Set4</td>\n",
              "      <td>E2AE5BAB-42F7-4FEA-B83B-C1BB26EF45AB.png</td>\n",
              "    </tr>\n",
              "    <tr>\n",
              "      <th>3197</th>\n",
              "      <td>215.690610</td>\n",
              "      <td>216.009902</td>\n",
              "      <td>196.406055</td>\n",
              "      <td>215.166773</td>\n",
              "      <td>215.486879</td>\n",
              "      <td>195.933291</td>\n",
              "      <td>30.849525</td>\n",
              "      <td>23.662609</td>\n",
              "      <td>216.485350</td>\n",
              "      <td>30.867293</td>\n",
              "      <td>23.636228</td>\n",
              "      <td>215.959036</td>\n",
              "      <td>C1</td>\n",
              "      <td>D4</td>\n",
              "      <td>Set4</td>\n",
              "      <td>3E52E4A6-956C-4393-A0F0-6856D436D35D.png</td>\n",
              "    </tr>\n",
              "    <tr>\n",
              "      <th>3198</th>\n",
              "      <td>213.749290</td>\n",
              "      <td>210.436328</td>\n",
              "      <td>181.714877</td>\n",
              "      <td>213.046725</td>\n",
              "      <td>209.822132</td>\n",
              "      <td>181.286679</td>\n",
              "      <td>26.683954</td>\n",
              "      <td>38.233260</td>\n",
              "      <td>213.749290</td>\n",
              "      <td>26.767157</td>\n",
              "      <td>38.010668</td>\n",
              "      <td>213.046725</td>\n",
              "      <td>C1</td>\n",
              "      <td>D4</td>\n",
              "      <td>Set4</td>\n",
              "      <td>E214531D-5D8E-4221-B946-5C9CCD1063F7.png</td>\n",
              "    </tr>\n",
              "    <tr>\n",
              "      <th>3199</th>\n",
              "      <td>211.214674</td>\n",
              "      <td>204.185537</td>\n",
              "      <td>158.897330</td>\n",
              "      <td>210.905910</td>\n",
              "      <td>203.783372</td>\n",
              "      <td>158.707275</td>\n",
              "      <td>26.202337</td>\n",
              "      <td>63.120039</td>\n",
              "      <td>211.214674</td>\n",
              "      <td>26.147358</td>\n",
              "      <td>63.070194</td>\n",
              "      <td>210.905910</td>\n",
              "      <td>C1</td>\n",
              "      <td>D4</td>\n",
              "      <td>Set4</td>\n",
              "      <td>3629EEB4-D148-4445-A00D-48AAA98C7F77.png</td>\n",
              "    </tr>\n",
              "  </tbody>\n",
              "</table>\n",
              "<p>3200 rows × 16 columns</p>\n",
              "</div>\n",
              "      <button class=\"colab-df-convert\" onclick=\"convertToInteractive('df-8aeb0395-644d-4b67-a0c0-a5fe30c54f11')\"\n",
              "              title=\"Convert this dataframe to an interactive table.\"\n",
              "              style=\"display:none;\">\n",
              "        \n",
              "  <svg xmlns=\"http://www.w3.org/2000/svg\" height=\"24px\"viewBox=\"0 0 24 24\"\n",
              "       width=\"24px\">\n",
              "    <path d=\"M0 0h24v24H0V0z\" fill=\"none\"/>\n",
              "    <path d=\"M18.56 5.44l.94 2.06.94-2.06 2.06-.94-2.06-.94-.94-2.06-.94 2.06-2.06.94zm-11 1L8.5 8.5l.94-2.06 2.06-.94-2.06-.94L8.5 2.5l-.94 2.06-2.06.94zm10 10l.94 2.06.94-2.06 2.06-.94-2.06-.94-.94-2.06-.94 2.06-2.06.94z\"/><path d=\"M17.41 7.96l-1.37-1.37c-.4-.4-.92-.59-1.43-.59-.52 0-1.04.2-1.43.59L10.3 9.45l-7.72 7.72c-.78.78-.78 2.05 0 2.83L4 21.41c.39.39.9.59 1.41.59.51 0 1.02-.2 1.41-.59l7.78-7.78 2.81-2.81c.8-.78.8-2.07 0-2.86zM5.41 20L4 18.59l7.72-7.72 1.47 1.35L5.41 20z\"/>\n",
              "  </svg>\n",
              "      </button>\n",
              "      \n",
              "  <style>\n",
              "    .colab-df-container {\n",
              "      display:flex;\n",
              "      flex-wrap:wrap;\n",
              "      gap: 12px;\n",
              "    }\n",
              "\n",
              "    .colab-df-convert {\n",
              "      background-color: #E8F0FE;\n",
              "      border: none;\n",
              "      border-radius: 50%;\n",
              "      cursor: pointer;\n",
              "      display: none;\n",
              "      fill: #1967D2;\n",
              "      height: 32px;\n",
              "      padding: 0 0 0 0;\n",
              "      width: 32px;\n",
              "    }\n",
              "\n",
              "    .colab-df-convert:hover {\n",
              "      background-color: #E2EBFA;\n",
              "      box-shadow: 0px 1px 2px rgba(60, 64, 67, 0.3), 0px 1px 3px 1px rgba(60, 64, 67, 0.15);\n",
              "      fill: #174EA6;\n",
              "    }\n",
              "\n",
              "    [theme=dark] .colab-df-convert {\n",
              "      background-color: #3B4455;\n",
              "      fill: #D2E3FC;\n",
              "    }\n",
              "\n",
              "    [theme=dark] .colab-df-convert:hover {\n",
              "      background-color: #434B5C;\n",
              "      box-shadow: 0px 1px 3px 1px rgba(0, 0, 0, 0.15);\n",
              "      filter: drop-shadow(0px 1px 2px rgba(0, 0, 0, 0.3));\n",
              "      fill: #FFFFFF;\n",
              "    }\n",
              "  </style>\n",
              "\n",
              "      <script>\n",
              "        const buttonEl =\n",
              "          document.querySelector('#df-8aeb0395-644d-4b67-a0c0-a5fe30c54f11 button.colab-df-convert');\n",
              "        buttonEl.style.display =\n",
              "          google.colab.kernel.accessAllowed ? 'block' : 'none';\n",
              "\n",
              "        async function convertToInteractive(key) {\n",
              "          const element = document.querySelector('#df-8aeb0395-644d-4b67-a0c0-a5fe30c54f11');\n",
              "          const dataTable =\n",
              "            await google.colab.kernel.invokeFunction('convertToInteractive',\n",
              "                                                     [key], {});\n",
              "          if (!dataTable) return;\n",
              "\n",
              "          const docLinkHtml = 'Like what you see? Visit the ' +\n",
              "            '<a target=\"_blank\" href=https://colab.research.google.com/notebooks/data_table.ipynb>data table notebook</a>'\n",
              "            + ' to learn more about interactive tables.';\n",
              "          element.innerHTML = '';\n",
              "          dataTable['output_type'] = 'display_data';\n",
              "          await google.colab.output.renderOutput(dataTable, element);\n",
              "          const docLink = document.createElement('div');\n",
              "          docLink.innerHTML = docLinkHtml;\n",
              "          element.appendChild(docLink);\n",
              "        }\n",
              "      </script>\n",
              "    </div>\n",
              "  </div>\n",
              "  "
            ],
            "text/plain": [
              "           R-ref       G-ref  ...  Setting                                       Img\n",
              "0     235.799935  224.516030  ...     Set1  998EA81C-77D0-4357-9197-D7AEAAAE4F91.png\n",
              "1     238.009577  218.146498  ...     Set1  C69EF426-D68B-4503-AFC0-A62E37CCB172.png\n",
              "2     238.416687  212.713660  ...     Set1  95C4078C-AD0D-4394-BCF6-9C2E1E7C2219.png\n",
              "3     239.417986  227.436572  ...     Set1  770F3E42-0415-48C8-AE28-664827DCDAAE.png\n",
              "4     239.556448  216.784027  ...     Set1  AFD98982-91EB-4E2A-BEA8-8FDCCC8F33E1.png\n",
              "...          ...         ...  ...      ...                                       ...\n",
              "3195  219.796364  220.248600  ...     Set4  F5353A8F-C3DA-49EB-8703-FE4D5E4FB54D.png\n",
              "3196  215.312718  216.245759  ...     Set4  E2AE5BAB-42F7-4FEA-B83B-C1BB26EF45AB.png\n",
              "3197  215.690610  216.009902  ...     Set4  3E52E4A6-956C-4393-A0F0-6856D436D35D.png\n",
              "3198  213.749290  210.436328  ...     Set4  E214531D-5D8E-4221-B946-5C9CCD1063F7.png\n",
              "3199  211.214674  204.185537  ...     Set4  3629EEB4-D148-4445-A00D-48AAA98C7F77.png\n",
              "\n",
              "[3200 rows x 16 columns]"
            ]
          },
          "metadata": {},
          "execution_count": 169
        }
      ]
    },
    {
      "cell_type": "markdown",
      "source": [
        "###RGB"
      ],
      "metadata": {
        "id": "B6drfWNawSgL"
      }
    },
    {
      "cell_type": "code",
      "source": [
        "RGB_C1 = table_B1.drop(['H-ref','S-ref','V-ref','S-Shad','V-Shad','Shade-ref','Setting','Img','Shade','H-Shad'], axis=1)"
      ],
      "metadata": {
        "id": "qv6D2Ec4wSgM"
      },
      "execution_count": 170,
      "outputs": []
    },
    {
      "cell_type": "code",
      "source": [
        "X_C1_RGB = np.array(RGB_C1)"
      ],
      "metadata": {
        "id": "LIMFEct8wSgM"
      },
      "execution_count": 171,
      "outputs": []
    },
    {
      "cell_type": "code",
      "source": [
        "y_C1_RGB =  table_C1.iloc[:,13:14]"
      ],
      "metadata": {
        "id": "dk6tndzUwSgM"
      },
      "execution_count": 172,
      "outputs": []
    },
    {
      "cell_type": "code",
      "source": [
        "y_C1_RGB = np.array(y_C1_RGB)"
      ],
      "metadata": {
        "id": "AkyGiPvXwSgM"
      },
      "execution_count": 173,
      "outputs": []
    },
    {
      "cell_type": "code",
      "source": [
        "X_test_C1_RGB , X_train_C1_RGB , y_test_C1_RGB, y_train_C1_RGB = train_test_split(X_C1_RGB, y_C1_RGB, test_size=80, train_size=320)"
      ],
      "metadata": {
        "id": "S0ByAJpEwSgM"
      },
      "execution_count": 174,
      "outputs": []
    },
    {
      "cell_type": "code",
      "source": [
        "clf.fit(X_train_C1_RGB, y_train_C1_RGB)"
      ],
      "metadata": {
        "colab": {
          "base_uri": "https://localhost:8080/"
        },
        "outputId": "8ab98d88-b25a-4eb7-dc3c-cf789b211bdf",
        "id": "6GjB481bwSgM"
      },
      "execution_count": 175,
      "outputs": [
        {
          "output_type": "stream",
          "name": "stderr",
          "text": [
            "/usr/local/lib/python3.7/dist-packages/ipykernel_launcher.py:1: DataConversionWarning: A column-vector y was passed when a 1d array was expected. Please change the shape of y to (n_samples,), for example using ravel().\n",
            "  \"\"\"Entry point for launching an IPython kernel.\n"
          ]
        },
        {
          "output_type": "execute_result",
          "data": {
            "text/plain": [
              "RandomForestClassifier()"
            ]
          },
          "metadata": {},
          "execution_count": 175
        }
      ]
    },
    {
      "cell_type": "code",
      "source": [
        "y_pred_C1_RGB = clf.predict(X_test_C1_RGB)"
      ],
      "metadata": {
        "id": "0UFyfNEuwSgN"
      },
      "execution_count": 176,
      "outputs": []
    },
    {
      "cell_type": "code",
      "source": [
        "print(\"Accuracy:\", metrics.accuracy_score(y_test_C1_RGB, y_pred_C1_RGB))"
      ],
      "metadata": {
        "colab": {
          "base_uri": "https://localhost:8080/"
        },
        "outputId": "54f04378-71de-47b3-ffec-8fe6630d65a8",
        "id": "VD3w-eUzwSgN"
      },
      "execution_count": 177,
      "outputs": [
        {
          "output_type": "stream",
          "name": "stdout",
          "text": [
            "Accuracy: 0.178125\n"
          ]
        }
      ]
    },
    {
      "cell_type": "markdown",
      "source": [
        "###HSV"
      ],
      "metadata": {
        "id": "Egf1JYndwSgN"
      }
    },
    {
      "cell_type": "code",
      "source": [
        "HSV_C1 = table_C1.drop(['R-ref','G-ref','B-ref','R-Shad','G-Shad','B-Shad','Shade-ref','Setting','Img','Shade'], axis=1)"
      ],
      "metadata": {
        "id": "vF3oCH9UwSgN"
      },
      "execution_count": 178,
      "outputs": []
    },
    {
      "cell_type": "code",
      "source": [
        "X_C1_HSV = np.array(HSV_C1)"
      ],
      "metadata": {
        "id": "A9gS99SswSgN"
      },
      "execution_count": 179,
      "outputs": []
    },
    {
      "cell_type": "code",
      "source": [
        "y_C1_HSV =  table_C1.iloc[:,13:14]"
      ],
      "metadata": {
        "id": "gdbj26_3wSgN"
      },
      "execution_count": 180,
      "outputs": []
    },
    {
      "cell_type": "code",
      "source": [
        "y_C1_HSV = np.array(y_C1_HSV)"
      ],
      "metadata": {
        "id": "M0_Hj3tJwSgN"
      },
      "execution_count": 181,
      "outputs": []
    },
    {
      "cell_type": "code",
      "source": [
        "X_test_C1_HSV , X_train_C1_HSV , y_test_C1_HSV, y_train_C1_HSV = train_test_split(X_C1_HSV, y_C1_HSV, test_size=80, train_size=320)"
      ],
      "metadata": {
        "id": "K5Z4p-IDwSgO"
      },
      "execution_count": 182,
      "outputs": []
    },
    {
      "cell_type": "code",
      "source": [
        "clf.fit(X_train_C1_HSV, y_train_C1_HSV)"
      ],
      "metadata": {
        "colab": {
          "base_uri": "https://localhost:8080/"
        },
        "outputId": "e1cec883-296c-4a0f-f87f-f94fc08a2a66",
        "id": "LSJmvLTwwSgO"
      },
      "execution_count": 183,
      "outputs": [
        {
          "output_type": "stream",
          "name": "stderr",
          "text": [
            "/usr/local/lib/python3.7/dist-packages/ipykernel_launcher.py:1: DataConversionWarning: A column-vector y was passed when a 1d array was expected. Please change the shape of y to (n_samples,), for example using ravel().\n",
            "  \"\"\"Entry point for launching an IPython kernel.\n"
          ]
        },
        {
          "output_type": "execute_result",
          "data": {
            "text/plain": [
              "RandomForestClassifier()"
            ]
          },
          "metadata": {},
          "execution_count": 183
        }
      ]
    },
    {
      "cell_type": "code",
      "source": [
        "y_pred_C1_HSV = clf.predict(X_test_C1_HSV)"
      ],
      "metadata": {
        "id": "BxLDXEyywSgO"
      },
      "execution_count": 184,
      "outputs": []
    },
    {
      "cell_type": "code",
      "source": [
        "print(\"Accuracy:\", metrics.accuracy_score(y_test_C1_HSV, y_pred_C1_HSV))"
      ],
      "metadata": {
        "colab": {
          "base_uri": "https://localhost:8080/"
        },
        "outputId": "c01015e4-293c-45c8-f7b6-7714309f2bb1",
        "id": "TK46OgMxwSgO"
      },
      "execution_count": 185,
      "outputs": [
        {
          "output_type": "stream",
          "name": "stdout",
          "text": [
            "Accuracy: 0.1625\n"
          ]
        }
      ]
    },
    {
      "cell_type": "markdown",
      "source": [
        "##C2"
      ],
      "metadata": {
        "id": "au-9HK2twSgO"
      }
    },
    {
      "cell_type": "code",
      "source": [
        "table_C2= pd.read_excel(CC, sheet_name='C2')\n",
        "table_C2"
      ],
      "metadata": {
        "outputId": "87b17cf8-77b6-416c-a686-8fd65c959618",
        "colab": {
          "base_uri": "https://localhost:8080/",
          "height": 0
        },
        "id": "fJv8nKNGwSgP"
      },
      "execution_count": 186,
      "outputs": [
        {
          "output_type": "execute_result",
          "data": {
            "text/html": [
              "\n",
              "  <div id=\"df-e4835bbd-f1dd-4745-95e1-77e031979a2f\">\n",
              "    <div class=\"colab-df-container\">\n",
              "      <div>\n",
              "<style scoped>\n",
              "    .dataframe tbody tr th:only-of-type {\n",
              "        vertical-align: middle;\n",
              "    }\n",
              "\n",
              "    .dataframe tbody tr th {\n",
              "        vertical-align: top;\n",
              "    }\n",
              "\n",
              "    .dataframe thead th {\n",
              "        text-align: right;\n",
              "    }\n",
              "</style>\n",
              "<table border=\"1\" class=\"dataframe\">\n",
              "  <thead>\n",
              "    <tr style=\"text-align: right;\">\n",
              "      <th></th>\n",
              "      <th>R-ref</th>\n",
              "      <th>G-ref</th>\n",
              "      <th>B-ref</th>\n",
              "      <th>R-Shad</th>\n",
              "      <th>G-Shad</th>\n",
              "      <th>B-Shad</th>\n",
              "      <th>H-ref</th>\n",
              "      <th>S-ref</th>\n",
              "      <th>V-ref</th>\n",
              "      <th>H-Shad</th>\n",
              "      <th>S-Shad</th>\n",
              "      <th>V-Shad</th>\n",
              "      <th>Shade-ref</th>\n",
              "      <th>Shade</th>\n",
              "      <th>Setting</th>\n",
              "      <th>Img</th>\n",
              "    </tr>\n",
              "  </thead>\n",
              "  <tbody>\n",
              "    <tr>\n",
              "      <th>0</th>\n",
              "      <td>232.175960</td>\n",
              "      <td>216.874036</td>\n",
              "      <td>178.708465</td>\n",
              "      <td>232.964654</td>\n",
              "      <td>217.832160</td>\n",
              "      <td>180.185122</td>\n",
              "      <td>21.562292</td>\n",
              "      <td>58.762357</td>\n",
              "      <td>232.175960</td>\n",
              "      <td>21.513975</td>\n",
              "      <td>57.839201</td>\n",
              "      <td>232.964654</td>\n",
              "      <td>C2</td>\n",
              "      <td>A1</td>\n",
              "      <td>Set1</td>\n",
              "      <td>94B8BCF4-0790-415E-94D6-F74A6D812F9C.png</td>\n",
              "    </tr>\n",
              "    <tr>\n",
              "      <th>1</th>\n",
              "      <td>231.726077</td>\n",
              "      <td>211.455077</td>\n",
              "      <td>167.223440</td>\n",
              "      <td>232.533177</td>\n",
              "      <td>212.551597</td>\n",
              "      <td>168.982505</td>\n",
              "      <td>20.556367</td>\n",
              "      <td>71.019641</td>\n",
              "      <td>231.726077</td>\n",
              "      <td>20.552237</td>\n",
              "      <td>69.773771</td>\n",
              "      <td>232.533177</td>\n",
              "      <td>C2</td>\n",
              "      <td>A1</td>\n",
              "      <td>Set1</td>\n",
              "      <td>6C2D0804-8381-4BFF-BF38-C0AC1273E618.png</td>\n",
              "    </tr>\n",
              "    <tr>\n",
              "      <th>2</th>\n",
              "      <td>226.100641</td>\n",
              "      <td>197.575278</td>\n",
              "      <td>146.748235</td>\n",
              "      <td>226.795889</td>\n",
              "      <td>198.548539</td>\n",
              "      <td>147.966148</td>\n",
              "      <td>19.189595</td>\n",
              "      <td>89.497849</td>\n",
              "      <td>226.100641</td>\n",
              "      <td>19.239457</td>\n",
              "      <td>88.650238</td>\n",
              "      <td>226.795889</td>\n",
              "      <td>C2</td>\n",
              "      <td>A1</td>\n",
              "      <td>Set1</td>\n",
              "      <td>8BD8561A-0908-4A45-9B23-E1BB2A03640B.png</td>\n",
              "    </tr>\n",
              "    <tr>\n",
              "      <th>3</th>\n",
              "      <td>230.612531</td>\n",
              "      <td>207.562373</td>\n",
              "      <td>164.211752</td>\n",
              "      <td>231.210796</td>\n",
              "      <td>208.351682</td>\n",
              "      <td>165.428561</td>\n",
              "      <td>19.566594</td>\n",
              "      <td>73.461651</td>\n",
              "      <td>230.612531</td>\n",
              "      <td>19.550743</td>\n",
              "      <td>72.606500</td>\n",
              "      <td>231.210796</td>\n",
              "      <td>C2</td>\n",
              "      <td>A1</td>\n",
              "      <td>Set1</td>\n",
              "      <td>6021A5FE-EFB1-4650-84F4-27408DAFC2BA.png</td>\n",
              "    </tr>\n",
              "    <tr>\n",
              "      <th>4</th>\n",
              "      <td>232.133431</td>\n",
              "      <td>209.823472</td>\n",
              "      <td>160.814707</td>\n",
              "      <td>232.841548</td>\n",
              "      <td>211.054264</td>\n",
              "      <td>163.067989</td>\n",
              "      <td>20.814463</td>\n",
              "      <td>78.373996</td>\n",
              "      <td>232.133431</td>\n",
              "      <td>20.855487</td>\n",
              "      <td>76.523434</td>\n",
              "      <td>232.841832</td>\n",
              "      <td>C2</td>\n",
              "      <td>A1</td>\n",
              "      <td>Set1</td>\n",
              "      <td>1D2C4DD2-FF5D-446F-ADC8-BB6C6E19BF79.png</td>\n",
              "    </tr>\n",
              "    <tr>\n",
              "      <th>...</th>\n",
              "      <td>...</td>\n",
              "      <td>...</td>\n",
              "      <td>...</td>\n",
              "      <td>...</td>\n",
              "      <td>...</td>\n",
              "      <td>...</td>\n",
              "      <td>...</td>\n",
              "      <td>...</td>\n",
              "      <td>...</td>\n",
              "      <td>...</td>\n",
              "      <td>...</td>\n",
              "      <td>...</td>\n",
              "      <td>...</td>\n",
              "      <td>...</td>\n",
              "      <td>...</td>\n",
              "      <td>...</td>\n",
              "    </tr>\n",
              "    <tr>\n",
              "      <th>3195</th>\n",
              "      <td>227.208912</td>\n",
              "      <td>204.784677</td>\n",
              "      <td>153.067527</td>\n",
              "      <td>227.125098</td>\n",
              "      <td>204.707844</td>\n",
              "      <td>153.220326</td>\n",
              "      <td>21.013148</td>\n",
              "      <td>83.231394</td>\n",
              "      <td>227.208912</td>\n",
              "      <td>20.985563</td>\n",
              "      <td>82.996017</td>\n",
              "      <td>227.125098</td>\n",
              "      <td>C2</td>\n",
              "      <td>D4</td>\n",
              "      <td>Set4</td>\n",
              "      <td>59EF4224-39B2-41CA-8A14-279C72EAE105.png</td>\n",
              "    </tr>\n",
              "    <tr>\n",
              "      <th>3196</th>\n",
              "      <td>227.348430</td>\n",
              "      <td>209.548413</td>\n",
              "      <td>163.740037</td>\n",
              "      <td>227.223597</td>\n",
              "      <td>209.412062</td>\n",
              "      <td>163.581822</td>\n",
              "      <td>21.552471</td>\n",
              "      <td>92.870627</td>\n",
              "      <td>226.550118</td>\n",
              "      <td>21.542280</td>\n",
              "      <td>92.832302</td>\n",
              "      <td>226.478202</td>\n",
              "      <td>C2</td>\n",
              "      <td>D4</td>\n",
              "      <td>Set4</td>\n",
              "      <td>ADFBFD6B-EDBD-4658-A799-E4CC1524A572.png</td>\n",
              "    </tr>\n",
              "    <tr>\n",
              "      <th>3197</th>\n",
              "      <td>228.715039</td>\n",
              "      <td>210.816573</td>\n",
              "      <td>163.746611</td>\n",
              "      <td>228.637935</td>\n",
              "      <td>210.715241</td>\n",
              "      <td>163.723775</td>\n",
              "      <td>21.996185</td>\n",
              "      <td>72.452480</td>\n",
              "      <td>228.715039</td>\n",
              "      <td>21.988550</td>\n",
              "      <td>72.419387</td>\n",
              "      <td>228.637935</td>\n",
              "      <td>C2</td>\n",
              "      <td>D4</td>\n",
              "      <td>Set4</td>\n",
              "      <td>D919581E-CAD5-4BF6-9DA9-368BA4900F90.png</td>\n",
              "    </tr>\n",
              "    <tr>\n",
              "      <th>3198</th>\n",
              "      <td>219.748641</td>\n",
              "      <td>196.876877</td>\n",
              "      <td>146.418067</td>\n",
              "      <td>219.813456</td>\n",
              "      <td>196.959036</td>\n",
              "      <td>146.619373</td>\n",
              "      <td>20.830290</td>\n",
              "      <td>85.116630</td>\n",
              "      <td>219.748641</td>\n",
              "      <td>20.827324</td>\n",
              "      <td>84.925254</td>\n",
              "      <td>219.813456</td>\n",
              "      <td>C2</td>\n",
              "      <td>D4</td>\n",
              "      <td>Set4</td>\n",
              "      <td>8254092E-E246-4572-81B9-62F1A8C01DC7.png</td>\n",
              "    </tr>\n",
              "    <tr>\n",
              "      <th>3199</th>\n",
              "      <td>216.765685</td>\n",
              "      <td>186.699862</td>\n",
              "      <td>125.861131</td>\n",
              "      <td>217.014153</td>\n",
              "      <td>186.901145</td>\n",
              "      <td>126.071403</td>\n",
              "      <td>20.019804</td>\n",
              "      <td>107.036280</td>\n",
              "      <td>216.765685</td>\n",
              "      <td>20.008534</td>\n",
              "      <td>106.946590</td>\n",
              "      <td>217.014153</td>\n",
              "      <td>C2</td>\n",
              "      <td>D4</td>\n",
              "      <td>Set4</td>\n",
              "      <td>A6E5EDF5-CEF0-4E19-9101-A003BDC0202C.png</td>\n",
              "    </tr>\n",
              "  </tbody>\n",
              "</table>\n",
              "<p>3200 rows × 16 columns</p>\n",
              "</div>\n",
              "      <button class=\"colab-df-convert\" onclick=\"convertToInteractive('df-e4835bbd-f1dd-4745-95e1-77e031979a2f')\"\n",
              "              title=\"Convert this dataframe to an interactive table.\"\n",
              "              style=\"display:none;\">\n",
              "        \n",
              "  <svg xmlns=\"http://www.w3.org/2000/svg\" height=\"24px\"viewBox=\"0 0 24 24\"\n",
              "       width=\"24px\">\n",
              "    <path d=\"M0 0h24v24H0V0z\" fill=\"none\"/>\n",
              "    <path d=\"M18.56 5.44l.94 2.06.94-2.06 2.06-.94-2.06-.94-.94-2.06-.94 2.06-2.06.94zm-11 1L8.5 8.5l.94-2.06 2.06-.94-2.06-.94L8.5 2.5l-.94 2.06-2.06.94zm10 10l.94 2.06.94-2.06 2.06-.94-2.06-.94-.94-2.06-.94 2.06-2.06.94z\"/><path d=\"M17.41 7.96l-1.37-1.37c-.4-.4-.92-.59-1.43-.59-.52 0-1.04.2-1.43.59L10.3 9.45l-7.72 7.72c-.78.78-.78 2.05 0 2.83L4 21.41c.39.39.9.59 1.41.59.51 0 1.02-.2 1.41-.59l7.78-7.78 2.81-2.81c.8-.78.8-2.07 0-2.86zM5.41 20L4 18.59l7.72-7.72 1.47 1.35L5.41 20z\"/>\n",
              "  </svg>\n",
              "      </button>\n",
              "      \n",
              "  <style>\n",
              "    .colab-df-container {\n",
              "      display:flex;\n",
              "      flex-wrap:wrap;\n",
              "      gap: 12px;\n",
              "    }\n",
              "\n",
              "    .colab-df-convert {\n",
              "      background-color: #E8F0FE;\n",
              "      border: none;\n",
              "      border-radius: 50%;\n",
              "      cursor: pointer;\n",
              "      display: none;\n",
              "      fill: #1967D2;\n",
              "      height: 32px;\n",
              "      padding: 0 0 0 0;\n",
              "      width: 32px;\n",
              "    }\n",
              "\n",
              "    .colab-df-convert:hover {\n",
              "      background-color: #E2EBFA;\n",
              "      box-shadow: 0px 1px 2px rgba(60, 64, 67, 0.3), 0px 1px 3px 1px rgba(60, 64, 67, 0.15);\n",
              "      fill: #174EA6;\n",
              "    }\n",
              "\n",
              "    [theme=dark] .colab-df-convert {\n",
              "      background-color: #3B4455;\n",
              "      fill: #D2E3FC;\n",
              "    }\n",
              "\n",
              "    [theme=dark] .colab-df-convert:hover {\n",
              "      background-color: #434B5C;\n",
              "      box-shadow: 0px 1px 3px 1px rgba(0, 0, 0, 0.15);\n",
              "      filter: drop-shadow(0px 1px 2px rgba(0, 0, 0, 0.3));\n",
              "      fill: #FFFFFF;\n",
              "    }\n",
              "  </style>\n",
              "\n",
              "      <script>\n",
              "        const buttonEl =\n",
              "          document.querySelector('#df-e4835bbd-f1dd-4745-95e1-77e031979a2f button.colab-df-convert');\n",
              "        buttonEl.style.display =\n",
              "          google.colab.kernel.accessAllowed ? 'block' : 'none';\n",
              "\n",
              "        async function convertToInteractive(key) {\n",
              "          const element = document.querySelector('#df-e4835bbd-f1dd-4745-95e1-77e031979a2f');\n",
              "          const dataTable =\n",
              "            await google.colab.kernel.invokeFunction('convertToInteractive',\n",
              "                                                     [key], {});\n",
              "          if (!dataTable) return;\n",
              "\n",
              "          const docLinkHtml = 'Like what you see? Visit the ' +\n",
              "            '<a target=\"_blank\" href=https://colab.research.google.com/notebooks/data_table.ipynb>data table notebook</a>'\n",
              "            + ' to learn more about interactive tables.';\n",
              "          element.innerHTML = '';\n",
              "          dataTable['output_type'] = 'display_data';\n",
              "          await google.colab.output.renderOutput(dataTable, element);\n",
              "          const docLink = document.createElement('div');\n",
              "          docLink.innerHTML = docLinkHtml;\n",
              "          element.appendChild(docLink);\n",
              "        }\n",
              "      </script>\n",
              "    </div>\n",
              "  </div>\n",
              "  "
            ],
            "text/plain": [
              "           R-ref       G-ref  ...  Setting                                       Img\n",
              "0     232.175960  216.874036  ...     Set1  94B8BCF4-0790-415E-94D6-F74A6D812F9C.png\n",
              "1     231.726077  211.455077  ...     Set1  6C2D0804-8381-4BFF-BF38-C0AC1273E618.png\n",
              "2     226.100641  197.575278  ...     Set1  8BD8561A-0908-4A45-9B23-E1BB2A03640B.png\n",
              "3     230.612531  207.562373  ...     Set1  6021A5FE-EFB1-4650-84F4-27408DAFC2BA.png\n",
              "4     232.133431  209.823472  ...     Set1  1D2C4DD2-FF5D-446F-ADC8-BB6C6E19BF79.png\n",
              "...          ...         ...  ...      ...                                       ...\n",
              "3195  227.208912  204.784677  ...     Set4  59EF4224-39B2-41CA-8A14-279C72EAE105.png\n",
              "3196  227.348430  209.548413  ...     Set4  ADFBFD6B-EDBD-4658-A799-E4CC1524A572.png\n",
              "3197  228.715039  210.816573  ...     Set4  D919581E-CAD5-4BF6-9DA9-368BA4900F90.png\n",
              "3198  219.748641  196.876877  ...     Set4  8254092E-E246-4572-81B9-62F1A8C01DC7.png\n",
              "3199  216.765685  186.699862  ...     Set4  A6E5EDF5-CEF0-4E19-9101-A003BDC0202C.png\n",
              "\n",
              "[3200 rows x 16 columns]"
            ]
          },
          "metadata": {},
          "execution_count": 186
        }
      ]
    },
    {
      "cell_type": "markdown",
      "source": [
        "###RGB"
      ],
      "metadata": {
        "id": "FcsKuYGDwSgP"
      }
    },
    {
      "cell_type": "code",
      "source": [
        "RGB_C2 = table_C2.drop(['H-ref','S-ref','V-ref','S-Shad','V-Shad','Shade-ref','Setting','Img','Shade','H-Shad'], axis=1)"
      ],
      "metadata": {
        "id": "1sAi6VLFwSgP"
      },
      "execution_count": 187,
      "outputs": []
    },
    {
      "cell_type": "code",
      "source": [
        "X_C2_RGB = np.array(RGB_C2)"
      ],
      "metadata": {
        "id": "lsOUUESewSgP"
      },
      "execution_count": 188,
      "outputs": []
    },
    {
      "cell_type": "code",
      "source": [
        "y_C2_RGB =  table_C2.iloc[:,13:14]"
      ],
      "metadata": {
        "id": "Q7_UxIwnwSgQ"
      },
      "execution_count": 189,
      "outputs": []
    },
    {
      "cell_type": "code",
      "source": [
        "y_C2_RGB = np.array(y_C2_RGB)"
      ],
      "metadata": {
        "id": "3v0QiOVowSgQ"
      },
      "execution_count": 190,
      "outputs": []
    },
    {
      "cell_type": "code",
      "source": [
        "X_test_C2_RGB , X_train_C2_RGB , y_test_C2_RGB, y_train_C2_RGB = train_test_split(X_C2_RGB, y_C2_RGB, test_size=80, train_size=320)"
      ],
      "metadata": {
        "id": "5MK0ZXdVwSgQ"
      },
      "execution_count": 191,
      "outputs": []
    },
    {
      "cell_type": "code",
      "source": [
        "clf.fit(X_train_C2_RGB, y_train_C2_RGB)"
      ],
      "metadata": {
        "outputId": "538b88c4-7fdf-4ccc-c262-3e76a16b116f",
        "colab": {
          "base_uri": "https://localhost:8080/"
        },
        "id": "3EwH7EetwSgQ"
      },
      "execution_count": 192,
      "outputs": [
        {
          "output_type": "stream",
          "name": "stderr",
          "text": [
            "/usr/local/lib/python3.7/dist-packages/ipykernel_launcher.py:1: DataConversionWarning: A column-vector y was passed when a 1d array was expected. Please change the shape of y to (n_samples,), for example using ravel().\n",
            "  \"\"\"Entry point for launching an IPython kernel.\n"
          ]
        },
        {
          "output_type": "execute_result",
          "data": {
            "text/plain": [
              "RandomForestClassifier()"
            ]
          },
          "metadata": {},
          "execution_count": 192
        }
      ]
    },
    {
      "cell_type": "code",
      "source": [
        "y_pred_C2_RGB = clf.predict(X_test_C2_RGB)"
      ],
      "metadata": {
        "id": "Bnyf9nbWwSgQ"
      },
      "execution_count": 193,
      "outputs": []
    },
    {
      "cell_type": "code",
      "source": [
        "print(\"Accuracy:\", metrics.accuracy_score(y_test_C2_RGB, y_pred_C2_RGB))"
      ],
      "metadata": {
        "outputId": "4a7f5a4c-30e2-47d2-c839-8f980120237f",
        "colab": {
          "base_uri": "https://localhost:8080/"
        },
        "id": "gdeSD1QYwSgR"
      },
      "execution_count": 194,
      "outputs": [
        {
          "output_type": "stream",
          "name": "stdout",
          "text": [
            "Accuracy: 0.165625\n"
          ]
        }
      ]
    },
    {
      "cell_type": "markdown",
      "source": [
        "###HSV"
      ],
      "metadata": {
        "id": "W2gkw2lNwSgR"
      }
    },
    {
      "cell_type": "code",
      "source": [
        "HSV_C2 = table_C2.drop(['R-ref','G-ref','B-ref','R-Shad','G-Shad','B-Shad','Shade-ref','Setting','Img','Shade'], axis=1)"
      ],
      "metadata": {
        "id": "Lj_uOCFfwSgR"
      },
      "execution_count": 195,
      "outputs": []
    },
    {
      "cell_type": "code",
      "source": [
        "X_C2_HSV = np.array(HSV_C2)"
      ],
      "metadata": {
        "id": "f-R17auFwSgR"
      },
      "execution_count": 196,
      "outputs": []
    },
    {
      "cell_type": "code",
      "source": [
        "y_C2_HSV =  table_C2.iloc[:,13:14]"
      ],
      "metadata": {
        "id": "nsv9HpShwSgR"
      },
      "execution_count": 197,
      "outputs": []
    },
    {
      "cell_type": "code",
      "source": [
        "y_C2_HSV = np.array(y_C2_HSV)"
      ],
      "metadata": {
        "id": "_vVnLUPQwSgR"
      },
      "execution_count": 198,
      "outputs": []
    },
    {
      "cell_type": "code",
      "source": [
        "X_test_C2_HSV , X_train_C2_HSV , y_test_C2_HSV, y_train_C2_HSV = train_test_split(X_C2_HSV, y_C2_HSV, test_size=80, train_size=320)"
      ],
      "metadata": {
        "id": "gD8tgm8hwSgS"
      },
      "execution_count": 199,
      "outputs": []
    },
    {
      "cell_type": "code",
      "source": [
        "clf.fit(X_train_C2_HSV, y_train_C2_HSV)"
      ],
      "metadata": {
        "outputId": "8f46e8e1-f2af-49c0-eacc-598795ddf534",
        "colab": {
          "base_uri": "https://localhost:8080/"
        },
        "id": "4yYIcf9iwSgS"
      },
      "execution_count": 200,
      "outputs": [
        {
          "output_type": "stream",
          "name": "stderr",
          "text": [
            "/usr/local/lib/python3.7/dist-packages/ipykernel_launcher.py:1: DataConversionWarning: A column-vector y was passed when a 1d array was expected. Please change the shape of y to (n_samples,), for example using ravel().\n",
            "  \"\"\"Entry point for launching an IPython kernel.\n"
          ]
        },
        {
          "output_type": "execute_result",
          "data": {
            "text/plain": [
              "RandomForestClassifier()"
            ]
          },
          "metadata": {},
          "execution_count": 200
        }
      ]
    },
    {
      "cell_type": "code",
      "source": [
        "y_pred_C2_HSV = clf.predict(X_test_C2_HSV)"
      ],
      "metadata": {
        "id": "Ck9_ktRTwSgS"
      },
      "execution_count": 201,
      "outputs": []
    },
    {
      "cell_type": "code",
      "source": [
        "print(\"Accuracy:\", metrics.accuracy_score(y_test_C2_HSV, y_pred_C2_HSV))"
      ],
      "metadata": {
        "outputId": "a94b18ca-7bbf-432e-cd17-babb4a9a3aa8",
        "colab": {
          "base_uri": "https://localhost:8080/"
        },
        "id": "WaxsaTWVwSgS"
      },
      "execution_count": 202,
      "outputs": [
        {
          "output_type": "stream",
          "name": "stdout",
          "text": [
            "Accuracy: 0.190625\n"
          ]
        }
      ]
    },
    {
      "cell_type": "markdown",
      "source": [
        "##C3"
      ],
      "metadata": {
        "id": "NVMsW_5rwSgS"
      }
    },
    {
      "cell_type": "code",
      "source": [
        "table_C3= pd.read_excel(CC, sheet_name='C3')\n",
        "table_C3"
      ],
      "metadata": {
        "outputId": "8369cc64-895e-46e6-aa24-51c904024f0e",
        "colab": {
          "base_uri": "https://localhost:8080/",
          "height": 0
        },
        "id": "qqreuMdHwSgS"
      },
      "execution_count": 203,
      "outputs": [
        {
          "output_type": "execute_result",
          "data": {
            "text/html": [
              "\n",
              "  <div id=\"df-fa5cd99f-362e-4410-873e-55c91b68a2c3\">\n",
              "    <div class=\"colab-df-container\">\n",
              "      <div>\n",
              "<style scoped>\n",
              "    .dataframe tbody tr th:only-of-type {\n",
              "        vertical-align: middle;\n",
              "    }\n",
              "\n",
              "    .dataframe tbody tr th {\n",
              "        vertical-align: top;\n",
              "    }\n",
              "\n",
              "    .dataframe thead th {\n",
              "        text-align: right;\n",
              "    }\n",
              "</style>\n",
              "<table border=\"1\" class=\"dataframe\">\n",
              "  <thead>\n",
              "    <tr style=\"text-align: right;\">\n",
              "      <th></th>\n",
              "      <th>R-ref</th>\n",
              "      <th>G-ref</th>\n",
              "      <th>B-ref</th>\n",
              "      <th>R-Shad</th>\n",
              "      <th>G-Shad</th>\n",
              "      <th>B-Shad</th>\n",
              "      <th>H-ref</th>\n",
              "      <th>S-ref</th>\n",
              "      <th>V-ref</th>\n",
              "      <th>H-Shad</th>\n",
              "      <th>S-Shad</th>\n",
              "      <th>V-Shad</th>\n",
              "      <th>Shade-ref</th>\n",
              "      <th>Shade</th>\n",
              "      <th>Setting</th>\n",
              "      <th>Img</th>\n",
              "    </tr>\n",
              "  </thead>\n",
              "  <tbody>\n",
              "    <tr>\n",
              "      <th>0</th>\n",
              "      <td>229.674702</td>\n",
              "      <td>206.699294</td>\n",
              "      <td>151.959338</td>\n",
              "      <td>229.372164</td>\n",
              "      <td>206.348482</td>\n",
              "      <td>151.724628</td>\n",
              "      <td>21.243162</td>\n",
              "      <td>86.251116</td>\n",
              "      <td>229.674702</td>\n",
              "      <td>21.221179</td>\n",
              "      <td>86.286751</td>\n",
              "      <td>229.372164</td>\n",
              "      <td>C3</td>\n",
              "      <td>A1</td>\n",
              "      <td>Set1</td>\n",
              "      <td>8397A717-3D12-4648-BD3F-CE1F787AB8C2.png</td>\n",
              "    </tr>\n",
              "    <tr>\n",
              "      <th>1</th>\n",
              "      <td>226.000406</td>\n",
              "      <td>203.723886</td>\n",
              "      <td>143.303871</td>\n",
              "      <td>225.820923</td>\n",
              "      <td>203.576844</td>\n",
              "      <td>143.258516</td>\n",
              "      <td>22.008116</td>\n",
              "      <td>93.349160</td>\n",
              "      <td>226.000406</td>\n",
              "      <td>22.015291</td>\n",
              "      <td>93.267193</td>\n",
              "      <td>225.820923</td>\n",
              "      <td>C3</td>\n",
              "      <td>A1</td>\n",
              "      <td>Set1</td>\n",
              "      <td>A9FD8AA5-8101-465A-B35F-6E192FDA7776.png</td>\n",
              "    </tr>\n",
              "    <tr>\n",
              "      <th>2</th>\n",
              "      <td>224.442172</td>\n",
              "      <td>206.266618</td>\n",
              "      <td>160.178557</td>\n",
              "      <td>222.176730</td>\n",
              "      <td>203.953275</td>\n",
              "      <td>158.401181</td>\n",
              "      <td>21.786219</td>\n",
              "      <td>73.045126</td>\n",
              "      <td>224.442172</td>\n",
              "      <td>21.750942</td>\n",
              "      <td>73.266908</td>\n",
              "      <td>222.176730</td>\n",
              "      <td>C3</td>\n",
              "      <td>A1</td>\n",
              "      <td>Set1</td>\n",
              "      <td>D8B8E0A9-7FD9-444D-9917-BEC6A0BCA620.png</td>\n",
              "    </tr>\n",
              "    <tr>\n",
              "      <th>3</th>\n",
              "      <td>223.874199</td>\n",
              "      <td>201.225956</td>\n",
              "      <td>149.612613</td>\n",
              "      <td>222.262357</td>\n",
              "      <td>195.465899</td>\n",
              "      <td>140.510063</td>\n",
              "      <td>20.100317</td>\n",
              "      <td>93.927522</td>\n",
              "      <td>222.178557</td>\n",
              "      <td>20.100135</td>\n",
              "      <td>93.801294</td>\n",
              "      <td>222.262357</td>\n",
              "      <td>C3</td>\n",
              "      <td>A1</td>\n",
              "      <td>Set1</td>\n",
              "      <td>B6F793CB-821E-4980-BE99-FEE76D08FC11.png</td>\n",
              "    </tr>\n",
              "    <tr>\n",
              "      <th>4</th>\n",
              "      <td>209.855856</td>\n",
              "      <td>179.533723</td>\n",
              "      <td>121.571869</td>\n",
              "      <td>212.670507</td>\n",
              "      <td>182.227295</td>\n",
              "      <td>125.368110</td>\n",
              "      <td>19.527149</td>\n",
              "      <td>107.243406</td>\n",
              "      <td>209.855856</td>\n",
              "      <td>19.309366</td>\n",
              "      <td>104.611194</td>\n",
              "      <td>212.670507</td>\n",
              "      <td>C3</td>\n",
              "      <td>A1</td>\n",
              "      <td>Set1</td>\n",
              "      <td>DB93C8AE-E996-4EC9-9AD4-DBC68B6E726A.png</td>\n",
              "    </tr>\n",
              "    <tr>\n",
              "      <th>...</th>\n",
              "      <td>...</td>\n",
              "      <td>...</td>\n",
              "      <td>...</td>\n",
              "      <td>...</td>\n",
              "      <td>...</td>\n",
              "      <td>...</td>\n",
              "      <td>...</td>\n",
              "      <td>...</td>\n",
              "      <td>...</td>\n",
              "      <td>...</td>\n",
              "      <td>...</td>\n",
              "      <td>...</td>\n",
              "      <td>...</td>\n",
              "      <td>...</td>\n",
              "      <td>...</td>\n",
              "      <td>...</td>\n",
              "    </tr>\n",
              "    <tr>\n",
              "      <th>3195</th>\n",
              "      <td>232.804642</td>\n",
              "      <td>209.441604</td>\n",
              "      <td>164.924357</td>\n",
              "      <td>233.308869</td>\n",
              "      <td>210.109594</td>\n",
              "      <td>166.164853</td>\n",
              "      <td>19.601331</td>\n",
              "      <td>74.376755</td>\n",
              "      <td>232.804642</td>\n",
              "      <td>19.552094</td>\n",
              "      <td>73.433042</td>\n",
              "      <td>233.308869</td>\n",
              "      <td>C3</td>\n",
              "      <td>D4</td>\n",
              "      <td>Set4</td>\n",
              "      <td>98856006-89F4-4308-AE65-1EFE2F5AF75B.png</td>\n",
              "    </tr>\n",
              "    <tr>\n",
              "      <th>3196</th>\n",
              "      <td>235.903985</td>\n",
              "      <td>218.940670</td>\n",
              "      <td>179.875741</td>\n",
              "      <td>236.487092</td>\n",
              "      <td>219.666951</td>\n",
              "      <td>181.014864</td>\n",
              "      <td>20.612775</td>\n",
              "      <td>78.169873</td>\n",
              "      <td>229.335768</td>\n",
              "      <td>20.589787</td>\n",
              "      <td>77.092810</td>\n",
              "      <td>229.914515</td>\n",
              "      <td>C3</td>\n",
              "      <td>D4</td>\n",
              "      <td>Set4</td>\n",
              "      <td>DF600DAA-CD96-43F9-A4C9-A4624F36BE2A.png</td>\n",
              "    </tr>\n",
              "    <tr>\n",
              "      <th>3197</th>\n",
              "      <td>232.175960</td>\n",
              "      <td>216.874036</td>\n",
              "      <td>178.708465</td>\n",
              "      <td>232.964654</td>\n",
              "      <td>217.832160</td>\n",
              "      <td>180.185122</td>\n",
              "      <td>21.562292</td>\n",
              "      <td>58.762357</td>\n",
              "      <td>232.175960</td>\n",
              "      <td>21.513975</td>\n",
              "      <td>57.839201</td>\n",
              "      <td>232.964654</td>\n",
              "      <td>C3</td>\n",
              "      <td>D4</td>\n",
              "      <td>Set4</td>\n",
              "      <td>7DD857D9-3B5F-4A89-ACEC-40C55B638E29.png</td>\n",
              "    </tr>\n",
              "    <tr>\n",
              "      <th>3198</th>\n",
              "      <td>231.726077</td>\n",
              "      <td>211.455077</td>\n",
              "      <td>167.223440</td>\n",
              "      <td>232.533177</td>\n",
              "      <td>212.551597</td>\n",
              "      <td>168.982505</td>\n",
              "      <td>20.556367</td>\n",
              "      <td>71.019641</td>\n",
              "      <td>231.726077</td>\n",
              "      <td>20.552237</td>\n",
              "      <td>69.773771</td>\n",
              "      <td>232.533177</td>\n",
              "      <td>C3</td>\n",
              "      <td>D4</td>\n",
              "      <td>Set4</td>\n",
              "      <td>5510740D-C9BA-424D-A6C2-B6457D11DF44.png</td>\n",
              "    </tr>\n",
              "    <tr>\n",
              "      <th>3199</th>\n",
              "      <td>226.100641</td>\n",
              "      <td>197.575278</td>\n",
              "      <td>146.748235</td>\n",
              "      <td>226.795889</td>\n",
              "      <td>198.548539</td>\n",
              "      <td>147.966148</td>\n",
              "      <td>19.189595</td>\n",
              "      <td>89.497849</td>\n",
              "      <td>226.100641</td>\n",
              "      <td>19.239457</td>\n",
              "      <td>88.650238</td>\n",
              "      <td>226.795889</td>\n",
              "      <td>C3</td>\n",
              "      <td>D4</td>\n",
              "      <td>Set4</td>\n",
              "      <td>AA66EF79-D604-4A8C-8A95-3D1FB6BCF443.png</td>\n",
              "    </tr>\n",
              "  </tbody>\n",
              "</table>\n",
              "<p>3200 rows × 16 columns</p>\n",
              "</div>\n",
              "      <button class=\"colab-df-convert\" onclick=\"convertToInteractive('df-fa5cd99f-362e-4410-873e-55c91b68a2c3')\"\n",
              "              title=\"Convert this dataframe to an interactive table.\"\n",
              "              style=\"display:none;\">\n",
              "        \n",
              "  <svg xmlns=\"http://www.w3.org/2000/svg\" height=\"24px\"viewBox=\"0 0 24 24\"\n",
              "       width=\"24px\">\n",
              "    <path d=\"M0 0h24v24H0V0z\" fill=\"none\"/>\n",
              "    <path d=\"M18.56 5.44l.94 2.06.94-2.06 2.06-.94-2.06-.94-.94-2.06-.94 2.06-2.06.94zm-11 1L8.5 8.5l.94-2.06 2.06-.94-2.06-.94L8.5 2.5l-.94 2.06-2.06.94zm10 10l.94 2.06.94-2.06 2.06-.94-2.06-.94-.94-2.06-.94 2.06-2.06.94z\"/><path d=\"M17.41 7.96l-1.37-1.37c-.4-.4-.92-.59-1.43-.59-.52 0-1.04.2-1.43.59L10.3 9.45l-7.72 7.72c-.78.78-.78 2.05 0 2.83L4 21.41c.39.39.9.59 1.41.59.51 0 1.02-.2 1.41-.59l7.78-7.78 2.81-2.81c.8-.78.8-2.07 0-2.86zM5.41 20L4 18.59l7.72-7.72 1.47 1.35L5.41 20z\"/>\n",
              "  </svg>\n",
              "      </button>\n",
              "      \n",
              "  <style>\n",
              "    .colab-df-container {\n",
              "      display:flex;\n",
              "      flex-wrap:wrap;\n",
              "      gap: 12px;\n",
              "    }\n",
              "\n",
              "    .colab-df-convert {\n",
              "      background-color: #E8F0FE;\n",
              "      border: none;\n",
              "      border-radius: 50%;\n",
              "      cursor: pointer;\n",
              "      display: none;\n",
              "      fill: #1967D2;\n",
              "      height: 32px;\n",
              "      padding: 0 0 0 0;\n",
              "      width: 32px;\n",
              "    }\n",
              "\n",
              "    .colab-df-convert:hover {\n",
              "      background-color: #E2EBFA;\n",
              "      box-shadow: 0px 1px 2px rgba(60, 64, 67, 0.3), 0px 1px 3px 1px rgba(60, 64, 67, 0.15);\n",
              "      fill: #174EA6;\n",
              "    }\n",
              "\n",
              "    [theme=dark] .colab-df-convert {\n",
              "      background-color: #3B4455;\n",
              "      fill: #D2E3FC;\n",
              "    }\n",
              "\n",
              "    [theme=dark] .colab-df-convert:hover {\n",
              "      background-color: #434B5C;\n",
              "      box-shadow: 0px 1px 3px 1px rgba(0, 0, 0, 0.15);\n",
              "      filter: drop-shadow(0px 1px 2px rgba(0, 0, 0, 0.3));\n",
              "      fill: #FFFFFF;\n",
              "    }\n",
              "  </style>\n",
              "\n",
              "      <script>\n",
              "        const buttonEl =\n",
              "          document.querySelector('#df-fa5cd99f-362e-4410-873e-55c91b68a2c3 button.colab-df-convert');\n",
              "        buttonEl.style.display =\n",
              "          google.colab.kernel.accessAllowed ? 'block' : 'none';\n",
              "\n",
              "        async function convertToInteractive(key) {\n",
              "          const element = document.querySelector('#df-fa5cd99f-362e-4410-873e-55c91b68a2c3');\n",
              "          const dataTable =\n",
              "            await google.colab.kernel.invokeFunction('convertToInteractive',\n",
              "                                                     [key], {});\n",
              "          if (!dataTable) return;\n",
              "\n",
              "          const docLinkHtml = 'Like what you see? Visit the ' +\n",
              "            '<a target=\"_blank\" href=https://colab.research.google.com/notebooks/data_table.ipynb>data table notebook</a>'\n",
              "            + ' to learn more about interactive tables.';\n",
              "          element.innerHTML = '';\n",
              "          dataTable['output_type'] = 'display_data';\n",
              "          await google.colab.output.renderOutput(dataTable, element);\n",
              "          const docLink = document.createElement('div');\n",
              "          docLink.innerHTML = docLinkHtml;\n",
              "          element.appendChild(docLink);\n",
              "        }\n",
              "      </script>\n",
              "    </div>\n",
              "  </div>\n",
              "  "
            ],
            "text/plain": [
              "           R-ref       G-ref  ...  Setting                                       Img\n",
              "0     229.674702  206.699294  ...     Set1  8397A717-3D12-4648-BD3F-CE1F787AB8C2.png\n",
              "1     226.000406  203.723886  ...     Set1  A9FD8AA5-8101-465A-B35F-6E192FDA7776.png\n",
              "2     224.442172  206.266618  ...     Set1  D8B8E0A9-7FD9-444D-9917-BEC6A0BCA620.png\n",
              "3     223.874199  201.225956  ...     Set1  B6F793CB-821E-4980-BE99-FEE76D08FC11.png\n",
              "4     209.855856  179.533723  ...     Set1  DB93C8AE-E996-4EC9-9AD4-DBC68B6E726A.png\n",
              "...          ...         ...  ...      ...                                       ...\n",
              "3195  232.804642  209.441604  ...     Set4  98856006-89F4-4308-AE65-1EFE2F5AF75B.png\n",
              "3196  235.903985  218.940670  ...     Set4  DF600DAA-CD96-43F9-A4C9-A4624F36BE2A.png\n",
              "3197  232.175960  216.874036  ...     Set4  7DD857D9-3B5F-4A89-ACEC-40C55B638E29.png\n",
              "3198  231.726077  211.455077  ...     Set4  5510740D-C9BA-424D-A6C2-B6457D11DF44.png\n",
              "3199  226.100641  197.575278  ...     Set4  AA66EF79-D604-4A8C-8A95-3D1FB6BCF443.png\n",
              "\n",
              "[3200 rows x 16 columns]"
            ]
          },
          "metadata": {},
          "execution_count": 203
        }
      ]
    },
    {
      "cell_type": "markdown",
      "source": [
        "###RGB"
      ],
      "metadata": {
        "id": "0OF-KbzrwSgS"
      }
    },
    {
      "cell_type": "code",
      "source": [
        "RGB_C3 = table_C3.drop(['H-ref','S-ref','V-ref','S-Shad','V-Shad','Shade-ref','Setting','Img','Shade','H-Shad'], axis=1)"
      ],
      "metadata": {
        "id": "rx67ThHmwSgT"
      },
      "execution_count": 204,
      "outputs": []
    },
    {
      "cell_type": "code",
      "source": [
        "X_C3_RGB = np.array(RGB_C3)"
      ],
      "metadata": {
        "id": "aXDTTiLpwSgT"
      },
      "execution_count": 205,
      "outputs": []
    },
    {
      "cell_type": "code",
      "source": [
        "y_C3_RGB =  table_C3.iloc[:,13:14]"
      ],
      "metadata": {
        "id": "B9zaCfWMwSgT"
      },
      "execution_count": 206,
      "outputs": []
    },
    {
      "cell_type": "code",
      "source": [
        "y_C3_RGB = np.array(y_C3_RGB)"
      ],
      "metadata": {
        "id": "MYWty5fgwSgT"
      },
      "execution_count": 207,
      "outputs": []
    },
    {
      "cell_type": "code",
      "source": [
        "X_test_C3_RGB , X_train_C3_RGB , y_test_C3_RGB, y_train_C3_RGB = train_test_split(X_C3_RGB, y_C3_RGB, test_size=80, train_size=320)"
      ],
      "metadata": {
        "id": "BKSt-9yswSgT"
      },
      "execution_count": 208,
      "outputs": []
    },
    {
      "cell_type": "code",
      "source": [
        "clf.fit(X_train_C3_RGB, y_train_C3_RGB)"
      ],
      "metadata": {
        "outputId": "caa0e5d7-c98e-41c1-c4a7-cd9efbff40c6",
        "colab": {
          "base_uri": "https://localhost:8080/"
        },
        "id": "rFJNrBp_wSgT"
      },
      "execution_count": 209,
      "outputs": [
        {
          "output_type": "stream",
          "name": "stderr",
          "text": [
            "/usr/local/lib/python3.7/dist-packages/ipykernel_launcher.py:1: DataConversionWarning: A column-vector y was passed when a 1d array was expected. Please change the shape of y to (n_samples,), for example using ravel().\n",
            "  \"\"\"Entry point for launching an IPython kernel.\n"
          ]
        },
        {
          "output_type": "execute_result",
          "data": {
            "text/plain": [
              "RandomForestClassifier()"
            ]
          },
          "metadata": {},
          "execution_count": 209
        }
      ]
    },
    {
      "cell_type": "code",
      "source": [
        "y_pred_C3_RGB = clf.predict(X_test_C3_RGB)"
      ],
      "metadata": {
        "id": "fcaWc6AkwSgT"
      },
      "execution_count": 210,
      "outputs": []
    },
    {
      "cell_type": "code",
      "source": [
        "print(\"Accuracy:\", metrics.accuracy_score(y_test_C3_RGB, y_pred_C3_RGB))"
      ],
      "metadata": {
        "outputId": "e0b91a44-dc05-4beb-a967-ca6a8ac10942",
        "colab": {
          "base_uri": "https://localhost:8080/"
        },
        "id": "OGpFYm6mwSgU"
      },
      "execution_count": 211,
      "outputs": [
        {
          "output_type": "stream",
          "name": "stdout",
          "text": [
            "Accuracy: 0.165625\n"
          ]
        }
      ]
    },
    {
      "cell_type": "markdown",
      "source": [
        "###HSV"
      ],
      "metadata": {
        "id": "ln0KV6azwSgU"
      }
    },
    {
      "cell_type": "code",
      "source": [
        "HSV_C3 = table_C3.drop(['R-ref','G-ref','B-ref','R-Shad','G-Shad','B-Shad','Shade-ref','Setting','Img','Shade'], axis=1)"
      ],
      "metadata": {
        "id": "G0YV6AZawSgU"
      },
      "execution_count": 212,
      "outputs": []
    },
    {
      "cell_type": "code",
      "source": [
        "X_C3_HSV = np.array(HSV_C3)"
      ],
      "metadata": {
        "id": "FGXcrRXIwSgU"
      },
      "execution_count": 213,
      "outputs": []
    },
    {
      "cell_type": "code",
      "source": [
        "y_C3_HSV =  table_C3.iloc[:,13:14]"
      ],
      "metadata": {
        "id": "0yaZa4vLwSgU"
      },
      "execution_count": 214,
      "outputs": []
    },
    {
      "cell_type": "code",
      "source": [
        "y_C3_HSV = np.array(y_C3_HSV)"
      ],
      "metadata": {
        "id": "sh3mdUUXwSgU"
      },
      "execution_count": 215,
      "outputs": []
    },
    {
      "cell_type": "code",
      "source": [
        "X_test_C3_HSV , X_train_C3_HSV , y_test_C3_HSV, y_train_C3_HSV = train_test_split(X_C3_HSV, y_C3_HSV, test_size=80, train_size=320)"
      ],
      "metadata": {
        "id": "I6oPLDbtwSgU"
      },
      "execution_count": 216,
      "outputs": []
    },
    {
      "cell_type": "code",
      "source": [
        "clf.fit(X_train_C3_HSV, y_train_C3_HSV)"
      ],
      "metadata": {
        "outputId": "a4a5154f-1f78-443c-c7e1-9ee934435d90",
        "colab": {
          "base_uri": "https://localhost:8080/"
        },
        "id": "yXd1qznZwSgV"
      },
      "execution_count": 217,
      "outputs": [
        {
          "output_type": "stream",
          "name": "stderr",
          "text": [
            "/usr/local/lib/python3.7/dist-packages/ipykernel_launcher.py:1: DataConversionWarning: A column-vector y was passed when a 1d array was expected. Please change the shape of y to (n_samples,), for example using ravel().\n",
            "  \"\"\"Entry point for launching an IPython kernel.\n"
          ]
        },
        {
          "output_type": "execute_result",
          "data": {
            "text/plain": [
              "RandomForestClassifier()"
            ]
          },
          "metadata": {},
          "execution_count": 217
        }
      ]
    },
    {
      "cell_type": "code",
      "source": [
        "y_pred_C3_HSV = clf.predict(X_test_C3_HSV)"
      ],
      "metadata": {
        "id": "89nwj2TvwSgV"
      },
      "execution_count": 218,
      "outputs": []
    },
    {
      "cell_type": "code",
      "source": [
        "print(\"Accuracy:\", metrics.accuracy_score(y_test_C3_HSV, y_pred_C3_HSV))"
      ],
      "metadata": {
        "outputId": "64478f0e-815e-414f-c882-f8e1ea7be3d5",
        "colab": {
          "base_uri": "https://localhost:8080/"
        },
        "id": "U_5hU5E0wSgV"
      },
      "execution_count": 219,
      "outputs": [
        {
          "output_type": "stream",
          "name": "stdout",
          "text": [
            "Accuracy: 0.240625\n"
          ]
        }
      ]
    },
    {
      "cell_type": "markdown",
      "source": [
        "##C4"
      ],
      "metadata": {
        "id": "rnVJYcyrwSgV"
      }
    },
    {
      "cell_type": "code",
      "source": [
        "table_C4= pd.read_excel(CC, sheet_name='C4')\n",
        "table_C4"
      ],
      "metadata": {
        "outputId": "7d87ca2a-efd9-4cce-f0b2-c7a591a57d5f",
        "colab": {
          "base_uri": "https://localhost:8080/",
          "height": 0
        },
        "id": "wjSLlsfHwSgV"
      },
      "execution_count": 220,
      "outputs": [
        {
          "output_type": "execute_result",
          "data": {
            "text/html": [
              "\n",
              "  <div id=\"df-83ce7a0a-f819-4dce-934b-5a72b42b5b84\">\n",
              "    <div class=\"colab-df-container\">\n",
              "      <div>\n",
              "<style scoped>\n",
              "    .dataframe tbody tr th:only-of-type {\n",
              "        vertical-align: middle;\n",
              "    }\n",
              "\n",
              "    .dataframe tbody tr th {\n",
              "        vertical-align: top;\n",
              "    }\n",
              "\n",
              "    .dataframe thead th {\n",
              "        text-align: right;\n",
              "    }\n",
              "</style>\n",
              "<table border=\"1\" class=\"dataframe\">\n",
              "  <thead>\n",
              "    <tr style=\"text-align: right;\">\n",
              "      <th></th>\n",
              "      <th>R-ref</th>\n",
              "      <th>G-ref</th>\n",
              "      <th>B-ref</th>\n",
              "      <th>R-Shad</th>\n",
              "      <th>G-Shad</th>\n",
              "      <th>B-Shad</th>\n",
              "      <th>H-ref</th>\n",
              "      <th>S-ref</th>\n",
              "      <th>V-ref</th>\n",
              "      <th>H-Shad</th>\n",
              "      <th>S-Shad</th>\n",
              "      <th>V-Shad</th>\n",
              "      <th>Shade-ref</th>\n",
              "      <th>Shade</th>\n",
              "      <th>Setting</th>\n",
              "      <th>Img</th>\n",
              "    </tr>\n",
              "  </thead>\n",
              "  <tbody>\n",
              "    <tr>\n",
              "      <th>0</th>\n",
              "      <td>232.175960</td>\n",
              "      <td>216.874036</td>\n",
              "      <td>178.708465</td>\n",
              "      <td>232.964654</td>\n",
              "      <td>217.832160</td>\n",
              "      <td>180.185122</td>\n",
              "      <td>21.562292</td>\n",
              "      <td>58.762357</td>\n",
              "      <td>232.175960</td>\n",
              "      <td>21.513975</td>\n",
              "      <td>57.839201</td>\n",
              "      <td>232.964654</td>\n",
              "      <td>C4</td>\n",
              "      <td>A1</td>\n",
              "      <td>Set1</td>\n",
              "      <td>D5D842D5-1273-4723-A726-1A56F4AE5B90.png</td>\n",
              "    </tr>\n",
              "    <tr>\n",
              "      <th>1</th>\n",
              "      <td>231.726077</td>\n",
              "      <td>211.455077</td>\n",
              "      <td>167.223440</td>\n",
              "      <td>232.533177</td>\n",
              "      <td>212.551597</td>\n",
              "      <td>168.982505</td>\n",
              "      <td>20.556367</td>\n",
              "      <td>71.019641</td>\n",
              "      <td>231.726077</td>\n",
              "      <td>20.552237</td>\n",
              "      <td>69.773771</td>\n",
              "      <td>232.533177</td>\n",
              "      <td>C4</td>\n",
              "      <td>A1</td>\n",
              "      <td>Set1</td>\n",
              "      <td>0323B3D5-373A-4B67-8908-4387145AD384.png</td>\n",
              "    </tr>\n",
              "    <tr>\n",
              "      <th>2</th>\n",
              "      <td>226.100641</td>\n",
              "      <td>197.575278</td>\n",
              "      <td>146.748235</td>\n",
              "      <td>226.795889</td>\n",
              "      <td>198.548539</td>\n",
              "      <td>147.966148</td>\n",
              "      <td>19.189595</td>\n",
              "      <td>89.497849</td>\n",
              "      <td>226.100641</td>\n",
              "      <td>19.239457</td>\n",
              "      <td>88.650238</td>\n",
              "      <td>226.795889</td>\n",
              "      <td>C4</td>\n",
              "      <td>A1</td>\n",
              "      <td>Set1</td>\n",
              "      <td>4059EA80-E8B2-4BD1-865B-98C77A4271AD.png</td>\n",
              "    </tr>\n",
              "    <tr>\n",
              "      <th>3</th>\n",
              "      <td>230.612531</td>\n",
              "      <td>207.562373</td>\n",
              "      <td>164.211752</td>\n",
              "      <td>231.210796</td>\n",
              "      <td>208.351682</td>\n",
              "      <td>165.428561</td>\n",
              "      <td>19.566594</td>\n",
              "      <td>73.461651</td>\n",
              "      <td>230.612531</td>\n",
              "      <td>19.550743</td>\n",
              "      <td>72.606500</td>\n",
              "      <td>231.210796</td>\n",
              "      <td>C4</td>\n",
              "      <td>A1</td>\n",
              "      <td>Set1</td>\n",
              "      <td>9DBC26C8-CA9B-4987-AF57-9BAF1BDBCA28.png</td>\n",
              "    </tr>\n",
              "    <tr>\n",
              "      <th>4</th>\n",
              "      <td>232.133431</td>\n",
              "      <td>209.823472</td>\n",
              "      <td>160.814707</td>\n",
              "      <td>232.841548</td>\n",
              "      <td>211.054264</td>\n",
              "      <td>163.067989</td>\n",
              "      <td>20.814463</td>\n",
              "      <td>78.373996</td>\n",
              "      <td>232.133431</td>\n",
              "      <td>20.855487</td>\n",
              "      <td>76.523434</td>\n",
              "      <td>232.841832</td>\n",
              "      <td>C4</td>\n",
              "      <td>A1</td>\n",
              "      <td>Set1</td>\n",
              "      <td>EF49A765-DB1A-4F23-956C-3110E993E4A1.png</td>\n",
              "    </tr>\n",
              "    <tr>\n",
              "      <th>...</th>\n",
              "      <td>...</td>\n",
              "      <td>...</td>\n",
              "      <td>...</td>\n",
              "      <td>...</td>\n",
              "      <td>...</td>\n",
              "      <td>...</td>\n",
              "      <td>...</td>\n",
              "      <td>...</td>\n",
              "      <td>...</td>\n",
              "      <td>...</td>\n",
              "      <td>...</td>\n",
              "      <td>...</td>\n",
              "      <td>...</td>\n",
              "      <td>...</td>\n",
              "      <td>...</td>\n",
              "      <td>...</td>\n",
              "    </tr>\n",
              "    <tr>\n",
              "      <th>3195</th>\n",
              "      <td>232.804642</td>\n",
              "      <td>209.441604</td>\n",
              "      <td>164.924357</td>\n",
              "      <td>233.308869</td>\n",
              "      <td>210.109594</td>\n",
              "      <td>166.164853</td>\n",
              "      <td>19.601331</td>\n",
              "      <td>74.376755</td>\n",
              "      <td>232.804642</td>\n",
              "      <td>19.552094</td>\n",
              "      <td>73.433042</td>\n",
              "      <td>233.308869</td>\n",
              "      <td>C4</td>\n",
              "      <td>D4</td>\n",
              "      <td>Set4</td>\n",
              "      <td>3A4875C4-4B88-4FF9-B801-4DB7423AB6A4.png</td>\n",
              "    </tr>\n",
              "    <tr>\n",
              "      <th>3196</th>\n",
              "      <td>235.903985</td>\n",
              "      <td>218.940670</td>\n",
              "      <td>179.875741</td>\n",
              "      <td>236.487092</td>\n",
              "      <td>219.666951</td>\n",
              "      <td>181.014864</td>\n",
              "      <td>20.612775</td>\n",
              "      <td>78.169873</td>\n",
              "      <td>229.335768</td>\n",
              "      <td>20.589787</td>\n",
              "      <td>77.092810</td>\n",
              "      <td>229.914515</td>\n",
              "      <td>C4</td>\n",
              "      <td>D4</td>\n",
              "      <td>Set4</td>\n",
              "      <td>FA4C9517-6C8B-45B7-A5A5-31166E270623.png</td>\n",
              "    </tr>\n",
              "    <tr>\n",
              "      <th>3197</th>\n",
              "      <td>232.175960</td>\n",
              "      <td>216.874036</td>\n",
              "      <td>178.708465</td>\n",
              "      <td>232.964654</td>\n",
              "      <td>217.832160</td>\n",
              "      <td>180.185122</td>\n",
              "      <td>21.562292</td>\n",
              "      <td>58.762357</td>\n",
              "      <td>232.175960</td>\n",
              "      <td>21.513975</td>\n",
              "      <td>57.839201</td>\n",
              "      <td>232.964654</td>\n",
              "      <td>C4</td>\n",
              "      <td>D4</td>\n",
              "      <td>Set4</td>\n",
              "      <td>155490BC-336A-49B8-8DB0-3E44C79233C8.png</td>\n",
              "    </tr>\n",
              "    <tr>\n",
              "      <th>3198</th>\n",
              "      <td>231.726077</td>\n",
              "      <td>211.455077</td>\n",
              "      <td>167.223440</td>\n",
              "      <td>232.533177</td>\n",
              "      <td>212.551597</td>\n",
              "      <td>168.982505</td>\n",
              "      <td>20.556367</td>\n",
              "      <td>71.019641</td>\n",
              "      <td>231.726077</td>\n",
              "      <td>20.552237</td>\n",
              "      <td>69.773771</td>\n",
              "      <td>232.533177</td>\n",
              "      <td>C4</td>\n",
              "      <td>D4</td>\n",
              "      <td>Set4</td>\n",
              "      <td>040EA918-F713-44A1-915E-B36CD47D9BAD.png</td>\n",
              "    </tr>\n",
              "    <tr>\n",
              "      <th>3199</th>\n",
              "      <td>226.100641</td>\n",
              "      <td>197.575278</td>\n",
              "      <td>146.748235</td>\n",
              "      <td>226.795889</td>\n",
              "      <td>198.548539</td>\n",
              "      <td>147.966148</td>\n",
              "      <td>19.189595</td>\n",
              "      <td>89.497849</td>\n",
              "      <td>226.100641</td>\n",
              "      <td>19.239457</td>\n",
              "      <td>88.650238</td>\n",
              "      <td>226.795889</td>\n",
              "      <td>C4</td>\n",
              "      <td>D4</td>\n",
              "      <td>Set4</td>\n",
              "      <td>E3B87A4E-202B-4EB9-B387-E65384E26706.png</td>\n",
              "    </tr>\n",
              "  </tbody>\n",
              "</table>\n",
              "<p>3200 rows × 16 columns</p>\n",
              "</div>\n",
              "      <button class=\"colab-df-convert\" onclick=\"convertToInteractive('df-83ce7a0a-f819-4dce-934b-5a72b42b5b84')\"\n",
              "              title=\"Convert this dataframe to an interactive table.\"\n",
              "              style=\"display:none;\">\n",
              "        \n",
              "  <svg xmlns=\"http://www.w3.org/2000/svg\" height=\"24px\"viewBox=\"0 0 24 24\"\n",
              "       width=\"24px\">\n",
              "    <path d=\"M0 0h24v24H0V0z\" fill=\"none\"/>\n",
              "    <path d=\"M18.56 5.44l.94 2.06.94-2.06 2.06-.94-2.06-.94-.94-2.06-.94 2.06-2.06.94zm-11 1L8.5 8.5l.94-2.06 2.06-.94-2.06-.94L8.5 2.5l-.94 2.06-2.06.94zm10 10l.94 2.06.94-2.06 2.06-.94-2.06-.94-.94-2.06-.94 2.06-2.06.94z\"/><path d=\"M17.41 7.96l-1.37-1.37c-.4-.4-.92-.59-1.43-.59-.52 0-1.04.2-1.43.59L10.3 9.45l-7.72 7.72c-.78.78-.78 2.05 0 2.83L4 21.41c.39.39.9.59 1.41.59.51 0 1.02-.2 1.41-.59l7.78-7.78 2.81-2.81c.8-.78.8-2.07 0-2.86zM5.41 20L4 18.59l7.72-7.72 1.47 1.35L5.41 20z\"/>\n",
              "  </svg>\n",
              "      </button>\n",
              "      \n",
              "  <style>\n",
              "    .colab-df-container {\n",
              "      display:flex;\n",
              "      flex-wrap:wrap;\n",
              "      gap: 12px;\n",
              "    }\n",
              "\n",
              "    .colab-df-convert {\n",
              "      background-color: #E8F0FE;\n",
              "      border: none;\n",
              "      border-radius: 50%;\n",
              "      cursor: pointer;\n",
              "      display: none;\n",
              "      fill: #1967D2;\n",
              "      height: 32px;\n",
              "      padding: 0 0 0 0;\n",
              "      width: 32px;\n",
              "    }\n",
              "\n",
              "    .colab-df-convert:hover {\n",
              "      background-color: #E2EBFA;\n",
              "      box-shadow: 0px 1px 2px rgba(60, 64, 67, 0.3), 0px 1px 3px 1px rgba(60, 64, 67, 0.15);\n",
              "      fill: #174EA6;\n",
              "    }\n",
              "\n",
              "    [theme=dark] .colab-df-convert {\n",
              "      background-color: #3B4455;\n",
              "      fill: #D2E3FC;\n",
              "    }\n",
              "\n",
              "    [theme=dark] .colab-df-convert:hover {\n",
              "      background-color: #434B5C;\n",
              "      box-shadow: 0px 1px 3px 1px rgba(0, 0, 0, 0.15);\n",
              "      filter: drop-shadow(0px 1px 2px rgba(0, 0, 0, 0.3));\n",
              "      fill: #FFFFFF;\n",
              "    }\n",
              "  </style>\n",
              "\n",
              "      <script>\n",
              "        const buttonEl =\n",
              "          document.querySelector('#df-83ce7a0a-f819-4dce-934b-5a72b42b5b84 button.colab-df-convert');\n",
              "        buttonEl.style.display =\n",
              "          google.colab.kernel.accessAllowed ? 'block' : 'none';\n",
              "\n",
              "        async function convertToInteractive(key) {\n",
              "          const element = document.querySelector('#df-83ce7a0a-f819-4dce-934b-5a72b42b5b84');\n",
              "          const dataTable =\n",
              "            await google.colab.kernel.invokeFunction('convertToInteractive',\n",
              "                                                     [key], {});\n",
              "          if (!dataTable) return;\n",
              "\n",
              "          const docLinkHtml = 'Like what you see? Visit the ' +\n",
              "            '<a target=\"_blank\" href=https://colab.research.google.com/notebooks/data_table.ipynb>data table notebook</a>'\n",
              "            + ' to learn more about interactive tables.';\n",
              "          element.innerHTML = '';\n",
              "          dataTable['output_type'] = 'display_data';\n",
              "          await google.colab.output.renderOutput(dataTable, element);\n",
              "          const docLink = document.createElement('div');\n",
              "          docLink.innerHTML = docLinkHtml;\n",
              "          element.appendChild(docLink);\n",
              "        }\n",
              "      </script>\n",
              "    </div>\n",
              "  </div>\n",
              "  "
            ],
            "text/plain": [
              "           R-ref       G-ref  ...  Setting                                       Img\n",
              "0     232.175960  216.874036  ...     Set1  D5D842D5-1273-4723-A726-1A56F4AE5B90.png\n",
              "1     231.726077  211.455077  ...     Set1  0323B3D5-373A-4B67-8908-4387145AD384.png\n",
              "2     226.100641  197.575278  ...     Set1  4059EA80-E8B2-4BD1-865B-98C77A4271AD.png\n",
              "3     230.612531  207.562373  ...     Set1  9DBC26C8-CA9B-4987-AF57-9BAF1BDBCA28.png\n",
              "4     232.133431  209.823472  ...     Set1  EF49A765-DB1A-4F23-956C-3110E993E4A1.png\n",
              "...          ...         ...  ...      ...                                       ...\n",
              "3195  232.804642  209.441604  ...     Set4  3A4875C4-4B88-4FF9-B801-4DB7423AB6A4.png\n",
              "3196  235.903985  218.940670  ...     Set4  FA4C9517-6C8B-45B7-A5A5-31166E270623.png\n",
              "3197  232.175960  216.874036  ...     Set4  155490BC-336A-49B8-8DB0-3E44C79233C8.png\n",
              "3198  231.726077  211.455077  ...     Set4  040EA918-F713-44A1-915E-B36CD47D9BAD.png\n",
              "3199  226.100641  197.575278  ...     Set4  E3B87A4E-202B-4EB9-B387-E65384E26706.png\n",
              "\n",
              "[3200 rows x 16 columns]"
            ]
          },
          "metadata": {},
          "execution_count": 220
        }
      ]
    },
    {
      "cell_type": "markdown",
      "source": [
        "###RGB"
      ],
      "metadata": {
        "id": "z15gd_6vwSgV"
      }
    },
    {
      "cell_type": "code",
      "source": [
        "RGB_C4 = table_C4.drop(['H-ref','S-ref','V-ref','S-Shad','V-Shad','Shade-ref','Setting','Img','Shade','H-Shad'], axis=1)"
      ],
      "metadata": {
        "id": "80Wz1p1TwSgV"
      },
      "execution_count": 221,
      "outputs": []
    },
    {
      "cell_type": "code",
      "source": [
        "X_C4_RGB = np.array(RGB_C4)"
      ],
      "metadata": {
        "id": "BPWb5GhLwSgV"
      },
      "execution_count": 222,
      "outputs": []
    },
    {
      "cell_type": "code",
      "source": [
        "y_C4_RGB =  table_C4.iloc[:,13:14]"
      ],
      "metadata": {
        "id": "eR3hhZn4wSgV"
      },
      "execution_count": 223,
      "outputs": []
    },
    {
      "cell_type": "code",
      "source": [
        "y_C4_RGB = np.array(y_C4_RGB)"
      ],
      "metadata": {
        "id": "iBeNUxxMwSgW"
      },
      "execution_count": 224,
      "outputs": []
    },
    {
      "cell_type": "code",
      "source": [
        "X_test_C4_RGB , X_train_C4_RGB , y_test_C4_RGB, y_train_C4_RGB = train_test_split(X_C4_RGB, y_C4_RGB, test_size=80, train_size=320)"
      ],
      "metadata": {
        "id": "gr7WJnNzwSgW"
      },
      "execution_count": 225,
      "outputs": []
    },
    {
      "cell_type": "code",
      "source": [
        "clf.fit(X_train_C4_RGB, y_train_C4_RGB)"
      ],
      "metadata": {
        "outputId": "5ea468a3-8703-4d2a-c0d9-1fd69cc603a7",
        "colab": {
          "base_uri": "https://localhost:8080/"
        },
        "id": "29OaZF7hwSgW"
      },
      "execution_count": 226,
      "outputs": [
        {
          "output_type": "stream",
          "name": "stderr",
          "text": [
            "/usr/local/lib/python3.7/dist-packages/ipykernel_launcher.py:1: DataConversionWarning: A column-vector y was passed when a 1d array was expected. Please change the shape of y to (n_samples,), for example using ravel().\n",
            "  \"\"\"Entry point for launching an IPython kernel.\n"
          ]
        },
        {
          "output_type": "execute_result",
          "data": {
            "text/plain": [
              "RandomForestClassifier()"
            ]
          },
          "metadata": {},
          "execution_count": 226
        }
      ]
    },
    {
      "cell_type": "code",
      "source": [
        "y_pred_C4_RGB = clf.predict(X_test_C4_RGB)"
      ],
      "metadata": {
        "id": "GPWd5md-wSgW"
      },
      "execution_count": 227,
      "outputs": []
    },
    {
      "cell_type": "code",
      "source": [
        "print(\"Accuracy:\", metrics.accuracy_score(y_test_C4_RGB, y_pred_C4_RGB))"
      ],
      "metadata": {
        "outputId": "1dddc839-7e6c-425d-ca3d-05c59fe58e96",
        "colab": {
          "base_uri": "https://localhost:8080/"
        },
        "id": "lH_CreDGwSgW"
      },
      "execution_count": 228,
      "outputs": [
        {
          "output_type": "stream",
          "name": "stdout",
          "text": [
            "Accuracy: 0.396875\n"
          ]
        }
      ]
    },
    {
      "cell_type": "markdown",
      "source": [
        "###HSV"
      ],
      "metadata": {
        "id": "n9E2peVZwSgW"
      }
    },
    {
      "cell_type": "code",
      "source": [
        "HSV_C4 = table_C4.drop(['R-ref','G-ref','B-ref','R-Shad','G-Shad','B-Shad','Shade-ref','Setting','Img','Shade'], axis=1)"
      ],
      "metadata": {
        "id": "3hhtBYrfwSgW"
      },
      "execution_count": 229,
      "outputs": []
    },
    {
      "cell_type": "code",
      "source": [
        "X_C4_HSV = np.array(HSV_C4)"
      ],
      "metadata": {
        "id": "ZonVZhymwSgW"
      },
      "execution_count": 230,
      "outputs": []
    },
    {
      "cell_type": "code",
      "source": [
        "y_C4_HSV =  table_C4.iloc[:,13:14]"
      ],
      "metadata": {
        "id": "NLwmfJwAwSgW"
      },
      "execution_count": 231,
      "outputs": []
    },
    {
      "cell_type": "code",
      "source": [
        "y_C4_HSV = np.array(y_C4_HSV)"
      ],
      "metadata": {
        "id": "m5ycZnqZwSgW"
      },
      "execution_count": 232,
      "outputs": []
    },
    {
      "cell_type": "code",
      "source": [
        "X_test_C4_HSV , X_train_C4_HSV , y_test_C4_HSV, y_train_C4_HSV = train_test_split(X_C4_HSV, y_C4_HSV, test_size=80, train_size=320)"
      ],
      "metadata": {
        "id": "wp797J1JwSgX"
      },
      "execution_count": 233,
      "outputs": []
    },
    {
      "cell_type": "code",
      "source": [
        "clf.fit(X_train_C4_HSV, y_train_C4_HSV)"
      ],
      "metadata": {
        "outputId": "8d8ccd81-d54b-49bb-d027-5f05e89a2057",
        "colab": {
          "base_uri": "https://localhost:8080/"
        },
        "id": "B9J6TqAswSgX"
      },
      "execution_count": 234,
      "outputs": [
        {
          "output_type": "stream",
          "name": "stderr",
          "text": [
            "/usr/local/lib/python3.7/dist-packages/ipykernel_launcher.py:1: DataConversionWarning: A column-vector y was passed when a 1d array was expected. Please change the shape of y to (n_samples,), for example using ravel().\n",
            "  \"\"\"Entry point for launching an IPython kernel.\n"
          ]
        },
        {
          "output_type": "execute_result",
          "data": {
            "text/plain": [
              "RandomForestClassifier()"
            ]
          },
          "metadata": {},
          "execution_count": 234
        }
      ]
    },
    {
      "cell_type": "code",
      "source": [
        "y_pred_C4_HSV = clf.predict(X_test_C4_HSV)"
      ],
      "metadata": {
        "id": "WONHhZqSwSgX"
      },
      "execution_count": 235,
      "outputs": []
    },
    {
      "cell_type": "code",
      "source": [
        "print(\"Accuracy:\", metrics.accuracy_score(y_test_C4_HSV, y_pred_C4_HSV))"
      ],
      "metadata": {
        "outputId": "12552c2b-05a4-4c93-986e-e026cd10c5b0",
        "colab": {
          "base_uri": "https://localhost:8080/"
        },
        "id": "JRLvNhZKwSgX"
      },
      "execution_count": 236,
      "outputs": [
        {
          "output_type": "stream",
          "name": "stdout",
          "text": [
            "Accuracy: 0.371875\n"
          ]
        }
      ]
    },
    {
      "cell_type": "markdown",
      "source": [
        "#DD"
      ],
      "metadata": {
        "id": "yfSaOc7_JIB7"
      }
    },
    {
      "cell_type": "markdown",
      "source": [
        "##D2"
      ],
      "metadata": {
        "id": "xBpQJyNozTVO"
      }
    },
    {
      "cell_type": "code",
      "source": [
        "table_D2= pd.read_excel(DD, sheet_name='D2')\n",
        "table_D2"
      ],
      "metadata": {
        "outputId": "37dd8290-b852-4d0c-8b7e-ec103d5932f3",
        "colab": {
          "base_uri": "https://localhost:8080/",
          "height": 0
        },
        "id": "g_e9ezrBzTVV"
      },
      "execution_count": 237,
      "outputs": [
        {
          "output_type": "execute_result",
          "data": {
            "text/html": [
              "\n",
              "  <div id=\"df-7afeb2d0-e448-4370-9260-0a3061d3421a\">\n",
              "    <div class=\"colab-df-container\">\n",
              "      <div>\n",
              "<style scoped>\n",
              "    .dataframe tbody tr th:only-of-type {\n",
              "        vertical-align: middle;\n",
              "    }\n",
              "\n",
              "    .dataframe tbody tr th {\n",
              "        vertical-align: top;\n",
              "    }\n",
              "\n",
              "    .dataframe thead th {\n",
              "        text-align: right;\n",
              "    }\n",
              "</style>\n",
              "<table border=\"1\" class=\"dataframe\">\n",
              "  <thead>\n",
              "    <tr style=\"text-align: right;\">\n",
              "      <th></th>\n",
              "      <th>R-ref</th>\n",
              "      <th>G-ref</th>\n",
              "      <th>B-ref</th>\n",
              "      <th>R-Shad</th>\n",
              "      <th>G-Shad</th>\n",
              "      <th>B-Shad</th>\n",
              "      <th>H-ref</th>\n",
              "      <th>S-ref</th>\n",
              "      <th>V-ref</th>\n",
              "      <th>H-Shad</th>\n",
              "      <th>S-Shad</th>\n",
              "      <th>V-Shad</th>\n",
              "      <th>Shade-ref</th>\n",
              "      <th>Shade</th>\n",
              "      <th>Setting</th>\n",
              "      <th>Img</th>\n",
              "    </tr>\n",
              "  </thead>\n",
              "  <tbody>\n",
              "    <tr>\n",
              "      <th>0</th>\n",
              "      <td>229.674702</td>\n",
              "      <td>206.699294</td>\n",
              "      <td>151.959338</td>\n",
              "      <td>229.372164</td>\n",
              "      <td>206.348482</td>\n",
              "      <td>151.724628</td>\n",
              "      <td>21.243162</td>\n",
              "      <td>86.251116</td>\n",
              "      <td>229.674702</td>\n",
              "      <td>21.221179</td>\n",
              "      <td>86.286751</td>\n",
              "      <td>229.372164</td>\n",
              "      <td>D2</td>\n",
              "      <td>A1</td>\n",
              "      <td>Set1</td>\n",
              "      <td>BD87D607-5718-45C1-A0DB-D75E63316FD0.png</td>\n",
              "    </tr>\n",
              "    <tr>\n",
              "      <th>1</th>\n",
              "      <td>226.000406</td>\n",
              "      <td>203.723886</td>\n",
              "      <td>143.303871</td>\n",
              "      <td>225.820923</td>\n",
              "      <td>203.576844</td>\n",
              "      <td>143.258516</td>\n",
              "      <td>22.008116</td>\n",
              "      <td>93.349160</td>\n",
              "      <td>226.000406</td>\n",
              "      <td>22.015291</td>\n",
              "      <td>93.267193</td>\n",
              "      <td>225.820923</td>\n",
              "      <td>D2</td>\n",
              "      <td>A1</td>\n",
              "      <td>Set1</td>\n",
              "      <td>FC1BDDC8-C8A7-4C8D-90F6-E6B112FC674F.png</td>\n",
              "    </tr>\n",
              "    <tr>\n",
              "      <th>2</th>\n",
              "      <td>224.442172</td>\n",
              "      <td>206.266618</td>\n",
              "      <td>160.178557</td>\n",
              "      <td>222.176730</td>\n",
              "      <td>203.953275</td>\n",
              "      <td>158.401181</td>\n",
              "      <td>21.786219</td>\n",
              "      <td>73.045126</td>\n",
              "      <td>224.442172</td>\n",
              "      <td>21.750942</td>\n",
              "      <td>73.266908</td>\n",
              "      <td>222.176730</td>\n",
              "      <td>D2</td>\n",
              "      <td>A1</td>\n",
              "      <td>Set1</td>\n",
              "      <td>27DD78A7-D5F3-4BAB-BFE1-8D2D8AB88D29.png</td>\n",
              "    </tr>\n",
              "    <tr>\n",
              "      <th>3</th>\n",
              "      <td>223.874199</td>\n",
              "      <td>201.225956</td>\n",
              "      <td>149.612613</td>\n",
              "      <td>222.262357</td>\n",
              "      <td>195.465899</td>\n",
              "      <td>140.510063</td>\n",
              "      <td>20.100317</td>\n",
              "      <td>93.927522</td>\n",
              "      <td>222.178557</td>\n",
              "      <td>20.100135</td>\n",
              "      <td>93.801294</td>\n",
              "      <td>222.262357</td>\n",
              "      <td>D2</td>\n",
              "      <td>A1</td>\n",
              "      <td>Set1</td>\n",
              "      <td>25A38DEA-0A5E-4502-AE98-BDEB123DF4E5.png</td>\n",
              "    </tr>\n",
              "    <tr>\n",
              "      <th>4</th>\n",
              "      <td>209.855856</td>\n",
              "      <td>179.533723</td>\n",
              "      <td>121.571869</td>\n",
              "      <td>212.670507</td>\n",
              "      <td>182.227295</td>\n",
              "      <td>125.368110</td>\n",
              "      <td>19.527149</td>\n",
              "      <td>107.243406</td>\n",
              "      <td>209.855856</td>\n",
              "      <td>19.309366</td>\n",
              "      <td>104.611194</td>\n",
              "      <td>212.670507</td>\n",
              "      <td>D2</td>\n",
              "      <td>A1</td>\n",
              "      <td>Set1</td>\n",
              "      <td>7396F2FB-8C50-4ED7-AA8C-CDAE1624F900.png</td>\n",
              "    </tr>\n",
              "    <tr>\n",
              "      <th>...</th>\n",
              "      <td>...</td>\n",
              "      <td>...</td>\n",
              "      <td>...</td>\n",
              "      <td>...</td>\n",
              "      <td>...</td>\n",
              "      <td>...</td>\n",
              "      <td>...</td>\n",
              "      <td>...</td>\n",
              "      <td>...</td>\n",
              "      <td>...</td>\n",
              "      <td>...</td>\n",
              "      <td>...</td>\n",
              "      <td>...</td>\n",
              "      <td>...</td>\n",
              "      <td>...</td>\n",
              "      <td>...</td>\n",
              "    </tr>\n",
              "    <tr>\n",
              "      <th>3195</th>\n",
              "      <td>232.804642</td>\n",
              "      <td>209.441604</td>\n",
              "      <td>164.924357</td>\n",
              "      <td>233.308869</td>\n",
              "      <td>210.109594</td>\n",
              "      <td>166.164853</td>\n",
              "      <td>19.601331</td>\n",
              "      <td>74.376755</td>\n",
              "      <td>232.804642</td>\n",
              "      <td>19.552094</td>\n",
              "      <td>73.433042</td>\n",
              "      <td>233.308869</td>\n",
              "      <td>D2</td>\n",
              "      <td>D4</td>\n",
              "      <td>Set4</td>\n",
              "      <td>930BCBF0-9910-4884-8228-F2A135105AD6.png</td>\n",
              "    </tr>\n",
              "    <tr>\n",
              "      <th>3196</th>\n",
              "      <td>235.903985</td>\n",
              "      <td>218.940670</td>\n",
              "      <td>179.875741</td>\n",
              "      <td>236.487092</td>\n",
              "      <td>219.666951</td>\n",
              "      <td>181.014864</td>\n",
              "      <td>20.612775</td>\n",
              "      <td>78.169873</td>\n",
              "      <td>229.335768</td>\n",
              "      <td>20.589787</td>\n",
              "      <td>77.092810</td>\n",
              "      <td>229.914515</td>\n",
              "      <td>D2</td>\n",
              "      <td>D4</td>\n",
              "      <td>Set4</td>\n",
              "      <td>B811B91C-FF15-4F72-AF53-4D0A2346EF9E.png</td>\n",
              "    </tr>\n",
              "    <tr>\n",
              "      <th>3197</th>\n",
              "      <td>232.175960</td>\n",
              "      <td>216.874036</td>\n",
              "      <td>178.708465</td>\n",
              "      <td>232.964654</td>\n",
              "      <td>217.832160</td>\n",
              "      <td>180.185122</td>\n",
              "      <td>21.562292</td>\n",
              "      <td>58.762357</td>\n",
              "      <td>232.175960</td>\n",
              "      <td>21.513975</td>\n",
              "      <td>57.839201</td>\n",
              "      <td>232.964654</td>\n",
              "      <td>D2</td>\n",
              "      <td>D4</td>\n",
              "      <td>Set4</td>\n",
              "      <td>EFCF8DF7-D986-4A84-B87F-B7C96CBEB72C.png</td>\n",
              "    </tr>\n",
              "    <tr>\n",
              "      <th>3198</th>\n",
              "      <td>231.726077</td>\n",
              "      <td>211.455077</td>\n",
              "      <td>167.223440</td>\n",
              "      <td>232.533177</td>\n",
              "      <td>212.551597</td>\n",
              "      <td>168.982505</td>\n",
              "      <td>20.556367</td>\n",
              "      <td>71.019641</td>\n",
              "      <td>231.726077</td>\n",
              "      <td>20.552237</td>\n",
              "      <td>69.773771</td>\n",
              "      <td>232.533177</td>\n",
              "      <td>D2</td>\n",
              "      <td>D4</td>\n",
              "      <td>Set4</td>\n",
              "      <td>F62B2418-6BD9-4E8F-AA84-7F33573893C9.png</td>\n",
              "    </tr>\n",
              "    <tr>\n",
              "      <th>3199</th>\n",
              "      <td>226.100641</td>\n",
              "      <td>197.575278</td>\n",
              "      <td>146.748235</td>\n",
              "      <td>226.795889</td>\n",
              "      <td>198.548539</td>\n",
              "      <td>147.966148</td>\n",
              "      <td>19.189595</td>\n",
              "      <td>89.497849</td>\n",
              "      <td>226.100641</td>\n",
              "      <td>19.239457</td>\n",
              "      <td>88.650238</td>\n",
              "      <td>226.795889</td>\n",
              "      <td>D2</td>\n",
              "      <td>D4</td>\n",
              "      <td>Set4</td>\n",
              "      <td>66E2C493-32D2-491F-854C-A1D9067414F4.png</td>\n",
              "    </tr>\n",
              "  </tbody>\n",
              "</table>\n",
              "<p>3200 rows × 16 columns</p>\n",
              "</div>\n",
              "      <button class=\"colab-df-convert\" onclick=\"convertToInteractive('df-7afeb2d0-e448-4370-9260-0a3061d3421a')\"\n",
              "              title=\"Convert this dataframe to an interactive table.\"\n",
              "              style=\"display:none;\">\n",
              "        \n",
              "  <svg xmlns=\"http://www.w3.org/2000/svg\" height=\"24px\"viewBox=\"0 0 24 24\"\n",
              "       width=\"24px\">\n",
              "    <path d=\"M0 0h24v24H0V0z\" fill=\"none\"/>\n",
              "    <path d=\"M18.56 5.44l.94 2.06.94-2.06 2.06-.94-2.06-.94-.94-2.06-.94 2.06-2.06.94zm-11 1L8.5 8.5l.94-2.06 2.06-.94-2.06-.94L8.5 2.5l-.94 2.06-2.06.94zm10 10l.94 2.06.94-2.06 2.06-.94-2.06-.94-.94-2.06-.94 2.06-2.06.94z\"/><path d=\"M17.41 7.96l-1.37-1.37c-.4-.4-.92-.59-1.43-.59-.52 0-1.04.2-1.43.59L10.3 9.45l-7.72 7.72c-.78.78-.78 2.05 0 2.83L4 21.41c.39.39.9.59 1.41.59.51 0 1.02-.2 1.41-.59l7.78-7.78 2.81-2.81c.8-.78.8-2.07 0-2.86zM5.41 20L4 18.59l7.72-7.72 1.47 1.35L5.41 20z\"/>\n",
              "  </svg>\n",
              "      </button>\n",
              "      \n",
              "  <style>\n",
              "    .colab-df-container {\n",
              "      display:flex;\n",
              "      flex-wrap:wrap;\n",
              "      gap: 12px;\n",
              "    }\n",
              "\n",
              "    .colab-df-convert {\n",
              "      background-color: #E8F0FE;\n",
              "      border: none;\n",
              "      border-radius: 50%;\n",
              "      cursor: pointer;\n",
              "      display: none;\n",
              "      fill: #1967D2;\n",
              "      height: 32px;\n",
              "      padding: 0 0 0 0;\n",
              "      width: 32px;\n",
              "    }\n",
              "\n",
              "    .colab-df-convert:hover {\n",
              "      background-color: #E2EBFA;\n",
              "      box-shadow: 0px 1px 2px rgba(60, 64, 67, 0.3), 0px 1px 3px 1px rgba(60, 64, 67, 0.15);\n",
              "      fill: #174EA6;\n",
              "    }\n",
              "\n",
              "    [theme=dark] .colab-df-convert {\n",
              "      background-color: #3B4455;\n",
              "      fill: #D2E3FC;\n",
              "    }\n",
              "\n",
              "    [theme=dark] .colab-df-convert:hover {\n",
              "      background-color: #434B5C;\n",
              "      box-shadow: 0px 1px 3px 1px rgba(0, 0, 0, 0.15);\n",
              "      filter: drop-shadow(0px 1px 2px rgba(0, 0, 0, 0.3));\n",
              "      fill: #FFFFFF;\n",
              "    }\n",
              "  </style>\n",
              "\n",
              "      <script>\n",
              "        const buttonEl =\n",
              "          document.querySelector('#df-7afeb2d0-e448-4370-9260-0a3061d3421a button.colab-df-convert');\n",
              "        buttonEl.style.display =\n",
              "          google.colab.kernel.accessAllowed ? 'block' : 'none';\n",
              "\n",
              "        async function convertToInteractive(key) {\n",
              "          const element = document.querySelector('#df-7afeb2d0-e448-4370-9260-0a3061d3421a');\n",
              "          const dataTable =\n",
              "            await google.colab.kernel.invokeFunction('convertToInteractive',\n",
              "                                                     [key], {});\n",
              "          if (!dataTable) return;\n",
              "\n",
              "          const docLinkHtml = 'Like what you see? Visit the ' +\n",
              "            '<a target=\"_blank\" href=https://colab.research.google.com/notebooks/data_table.ipynb>data table notebook</a>'\n",
              "            + ' to learn more about interactive tables.';\n",
              "          element.innerHTML = '';\n",
              "          dataTable['output_type'] = 'display_data';\n",
              "          await google.colab.output.renderOutput(dataTable, element);\n",
              "          const docLink = document.createElement('div');\n",
              "          docLink.innerHTML = docLinkHtml;\n",
              "          element.appendChild(docLink);\n",
              "        }\n",
              "      </script>\n",
              "    </div>\n",
              "  </div>\n",
              "  "
            ],
            "text/plain": [
              "           R-ref       G-ref  ...  Setting                                       Img\n",
              "0     229.674702  206.699294  ...     Set1  BD87D607-5718-45C1-A0DB-D75E63316FD0.png\n",
              "1     226.000406  203.723886  ...     Set1  FC1BDDC8-C8A7-4C8D-90F6-E6B112FC674F.png\n",
              "2     224.442172  206.266618  ...     Set1  27DD78A7-D5F3-4BAB-BFE1-8D2D8AB88D29.png\n",
              "3     223.874199  201.225956  ...     Set1  25A38DEA-0A5E-4502-AE98-BDEB123DF4E5.png\n",
              "4     209.855856  179.533723  ...     Set1  7396F2FB-8C50-4ED7-AA8C-CDAE1624F900.png\n",
              "...          ...         ...  ...      ...                                       ...\n",
              "3195  232.804642  209.441604  ...     Set4  930BCBF0-9910-4884-8228-F2A135105AD6.png\n",
              "3196  235.903985  218.940670  ...     Set4  B811B91C-FF15-4F72-AF53-4D0A2346EF9E.png\n",
              "3197  232.175960  216.874036  ...     Set4  EFCF8DF7-D986-4A84-B87F-B7C96CBEB72C.png\n",
              "3198  231.726077  211.455077  ...     Set4  F62B2418-6BD9-4E8F-AA84-7F33573893C9.png\n",
              "3199  226.100641  197.575278  ...     Set4  66E2C493-32D2-491F-854C-A1D9067414F4.png\n",
              "\n",
              "[3200 rows x 16 columns]"
            ]
          },
          "metadata": {},
          "execution_count": 237
        }
      ]
    },
    {
      "cell_type": "markdown",
      "source": [
        "###RGB"
      ],
      "metadata": {
        "id": "PYcX9IRvzTVV"
      }
    },
    {
      "cell_type": "code",
      "source": [
        "RGB_D2 = table_D2.drop(['H-ref','S-ref','V-ref','S-Shad','V-Shad','Shade-ref','Setting','Img','Shade','H-Shad'], axis=1)"
      ],
      "metadata": {
        "id": "BhpzYr9BzTVV"
      },
      "execution_count": 238,
      "outputs": []
    },
    {
      "cell_type": "code",
      "source": [
        "X_D2_RGB = np.array(RGB_D2)"
      ],
      "metadata": {
        "id": "iYKp6obtzTVV"
      },
      "execution_count": 239,
      "outputs": []
    },
    {
      "cell_type": "code",
      "source": [
        "y_D2_RGB =  table_D2.iloc[:,13:14]"
      ],
      "metadata": {
        "id": "W5XY23yGzTVV"
      },
      "execution_count": 240,
      "outputs": []
    },
    {
      "cell_type": "code",
      "source": [
        "y_D2_RGB = np.array(y_D2_RGB)"
      ],
      "metadata": {
        "id": "PGHQ_aoqzTVV"
      },
      "execution_count": 241,
      "outputs": []
    },
    {
      "cell_type": "code",
      "source": [
        "X_test_D2_RGB , X_train_D2_RGB , y_test_D2_RGB, y_train_D2_RGB = train_test_split(X_D2_RGB, y_D2_RGB, test_size=80, train_size=320)"
      ],
      "metadata": {
        "id": "W-uGuV-NzTVW"
      },
      "execution_count": 242,
      "outputs": []
    },
    {
      "cell_type": "code",
      "source": [
        "clf.fit(X_train_D2_RGB, y_train_D2_RGB)"
      ],
      "metadata": {
        "outputId": "f9c5c569-c513-4bb6-d7ce-05db5b33fa9d",
        "colab": {
          "base_uri": "https://localhost:8080/"
        },
        "id": "7lW7SGXBzTVW"
      },
      "execution_count": 243,
      "outputs": [
        {
          "output_type": "stream",
          "name": "stderr",
          "text": [
            "/usr/local/lib/python3.7/dist-packages/ipykernel_launcher.py:1: DataConversionWarning: A column-vector y was passed when a 1d array was expected. Please change the shape of y to (n_samples,), for example using ravel().\n",
            "  \"\"\"Entry point for launching an IPython kernel.\n"
          ]
        },
        {
          "output_type": "execute_result",
          "data": {
            "text/plain": [
              "RandomForestClassifier()"
            ]
          },
          "metadata": {},
          "execution_count": 243
        }
      ]
    },
    {
      "cell_type": "code",
      "source": [
        "y_pred_D2_RGB = clf.predict(X_test_D2_RGB)"
      ],
      "metadata": {
        "id": "CNKVIGH2zTVW"
      },
      "execution_count": 244,
      "outputs": []
    },
    {
      "cell_type": "code",
      "source": [
        "print(\"Accuracy:\", metrics.accuracy_score(y_test_D2_RGB, y_pred_D2_RGB))"
      ],
      "metadata": {
        "outputId": "956b2292-92bd-409d-ddc4-d9769b627e72",
        "colab": {
          "base_uri": "https://localhost:8080/"
        },
        "id": "5uUt5EcozTVW"
      },
      "execution_count": 245,
      "outputs": [
        {
          "output_type": "stream",
          "name": "stdout",
          "text": [
            "Accuracy: 0.1875\n"
          ]
        }
      ]
    },
    {
      "cell_type": "markdown",
      "source": [
        "###HSV"
      ],
      "metadata": {
        "id": "pC-28mhVzTVW"
      }
    },
    {
      "cell_type": "code",
      "source": [
        "HSV_D2 = table_D2.drop(['R-ref','G-ref','B-ref','R-Shad','G-Shad','B-Shad','Shade-ref','Setting','Img','Shade'], axis=1)"
      ],
      "metadata": {
        "id": "BYghbY7qzTVW"
      },
      "execution_count": 246,
      "outputs": []
    },
    {
      "cell_type": "code",
      "source": [
        "X_D2_HSV = np.array(HSV_D2)"
      ],
      "metadata": {
        "id": "szdEaEWhzTVW"
      },
      "execution_count": 247,
      "outputs": []
    },
    {
      "cell_type": "code",
      "source": [
        "y_D2_HSV =  table_D2.iloc[:,13:14]"
      ],
      "metadata": {
        "id": "3w5Scb5JzTVW"
      },
      "execution_count": 248,
      "outputs": []
    },
    {
      "cell_type": "code",
      "source": [
        "y_D2_HSV = np.array(y_D2_HSV)"
      ],
      "metadata": {
        "id": "mtKeg6ICzTVW"
      },
      "execution_count": 249,
      "outputs": []
    },
    {
      "cell_type": "code",
      "source": [
        "X_test_D2_HSV , X_train_D2_HSV , y_test_D2_HSV, y_train_D2_HSV = train_test_split(X_D2_HSV, y_D2_HSV, test_size=80, train_size=320)"
      ],
      "metadata": {
        "id": "Vcs1XNLuzTVW"
      },
      "execution_count": 250,
      "outputs": []
    },
    {
      "cell_type": "code",
      "source": [
        "clf.fit(X_train_D2_HSV, y_train_D2_HSV)"
      ],
      "metadata": {
        "outputId": "ada5f504-30b9-416c-dc4c-55dd8b4bf07a",
        "colab": {
          "base_uri": "https://localhost:8080/"
        },
        "id": "t8xV7kx_zTVX"
      },
      "execution_count": 251,
      "outputs": [
        {
          "output_type": "stream",
          "name": "stderr",
          "text": [
            "/usr/local/lib/python3.7/dist-packages/ipykernel_launcher.py:1: DataConversionWarning: A column-vector y was passed when a 1d array was expected. Please change the shape of y to (n_samples,), for example using ravel().\n",
            "  \"\"\"Entry point for launching an IPython kernel.\n"
          ]
        },
        {
          "output_type": "execute_result",
          "data": {
            "text/plain": [
              "RandomForestClassifier()"
            ]
          },
          "metadata": {},
          "execution_count": 251
        }
      ]
    },
    {
      "cell_type": "code",
      "source": [
        "y_pred_D2_HSV = clf.predict(X_test_D2_HSV)"
      ],
      "metadata": {
        "id": "zVLrnAAwzTVX"
      },
      "execution_count": 252,
      "outputs": []
    },
    {
      "cell_type": "code",
      "source": [
        "print(\"Accuracy:\", metrics.accuracy_score(y_test_D2_HSV, y_pred_D2_HSV))"
      ],
      "metadata": {
        "outputId": "e10a8fde-cde6-4f50-a4b0-107d1a24c8e0",
        "colab": {
          "base_uri": "https://localhost:8080/"
        },
        "id": "lQmVjOUKzTVX"
      },
      "execution_count": 253,
      "outputs": [
        {
          "output_type": "stream",
          "name": "stdout",
          "text": [
            "Accuracy: 0.228125\n"
          ]
        }
      ]
    },
    {
      "cell_type": "markdown",
      "source": [
        "##D3"
      ],
      "metadata": {
        "id": "ojlpYGHXzTVX"
      }
    },
    {
      "cell_type": "code",
      "source": [
        "table_D3= pd.read_excel(DD, sheet_name='D3')\n",
        "table_D3"
      ],
      "metadata": {
        "outputId": "6f57a94e-8540-4358-8729-f6c0a3ac5a52",
        "colab": {
          "base_uri": "https://localhost:8080/",
          "height": 0
        },
        "id": "H69R71zrzTVX"
      },
      "execution_count": 254,
      "outputs": [
        {
          "output_type": "execute_result",
          "data": {
            "text/html": [
              "\n",
              "  <div id=\"df-db089629-4892-49a3-b7ce-891cea72fb02\">\n",
              "    <div class=\"colab-df-container\">\n",
              "      <div>\n",
              "<style scoped>\n",
              "    .dataframe tbody tr th:only-of-type {\n",
              "        vertical-align: middle;\n",
              "    }\n",
              "\n",
              "    .dataframe tbody tr th {\n",
              "        vertical-align: top;\n",
              "    }\n",
              "\n",
              "    .dataframe thead th {\n",
              "        text-align: right;\n",
              "    }\n",
              "</style>\n",
              "<table border=\"1\" class=\"dataframe\">\n",
              "  <thead>\n",
              "    <tr style=\"text-align: right;\">\n",
              "      <th></th>\n",
              "      <th>R-ref</th>\n",
              "      <th>G-ref</th>\n",
              "      <th>B-ref</th>\n",
              "      <th>R-Shad</th>\n",
              "      <th>G-Shad</th>\n",
              "      <th>B-Shad</th>\n",
              "      <th>H-ref</th>\n",
              "      <th>S-ref</th>\n",
              "      <th>V-ref</th>\n",
              "      <th>H-Shad</th>\n",
              "      <th>S-Shad</th>\n",
              "      <th>V-Shad</th>\n",
              "      <th>Shade-ref</th>\n",
              "      <th>Shade</th>\n",
              "      <th>Setting</th>\n",
              "      <th>Img</th>\n",
              "    </tr>\n",
              "  </thead>\n",
              "  <tbody>\n",
              "    <tr>\n",
              "      <th>0</th>\n",
              "      <td>232.175960</td>\n",
              "      <td>216.874036</td>\n",
              "      <td>178.708465</td>\n",
              "      <td>232.964654</td>\n",
              "      <td>217.832160</td>\n",
              "      <td>180.185122</td>\n",
              "      <td>21.562292</td>\n",
              "      <td>58.762357</td>\n",
              "      <td>232.175960</td>\n",
              "      <td>21.513975</td>\n",
              "      <td>57.839201</td>\n",
              "      <td>232.964654</td>\n",
              "      <td>D3</td>\n",
              "      <td>A1</td>\n",
              "      <td>Set1</td>\n",
              "      <td>57601EF7-37D5-4783-A278-238D30F60912.png</td>\n",
              "    </tr>\n",
              "    <tr>\n",
              "      <th>1</th>\n",
              "      <td>231.726077</td>\n",
              "      <td>211.455077</td>\n",
              "      <td>167.223440</td>\n",
              "      <td>232.533177</td>\n",
              "      <td>212.551597</td>\n",
              "      <td>168.982505</td>\n",
              "      <td>20.556367</td>\n",
              "      <td>71.019641</td>\n",
              "      <td>231.726077</td>\n",
              "      <td>20.552237</td>\n",
              "      <td>69.773771</td>\n",
              "      <td>232.533177</td>\n",
              "      <td>D3</td>\n",
              "      <td>A1</td>\n",
              "      <td>Set1</td>\n",
              "      <td>5412037F-4AF3-43A2-A4ED-CADFEC0751E7.png</td>\n",
              "    </tr>\n",
              "    <tr>\n",
              "      <th>2</th>\n",
              "      <td>226.100641</td>\n",
              "      <td>197.575278</td>\n",
              "      <td>146.748235</td>\n",
              "      <td>226.795889</td>\n",
              "      <td>198.548539</td>\n",
              "      <td>147.966148</td>\n",
              "      <td>19.189595</td>\n",
              "      <td>89.497849</td>\n",
              "      <td>226.100641</td>\n",
              "      <td>19.239457</td>\n",
              "      <td>88.650238</td>\n",
              "      <td>226.795889</td>\n",
              "      <td>D3</td>\n",
              "      <td>A1</td>\n",
              "      <td>Set1</td>\n",
              "      <td>456A44EC-FCBD-4487-B70C-F0E01333D15C.png</td>\n",
              "    </tr>\n",
              "    <tr>\n",
              "      <th>3</th>\n",
              "      <td>230.612531</td>\n",
              "      <td>207.562373</td>\n",
              "      <td>164.211752</td>\n",
              "      <td>231.210796</td>\n",
              "      <td>208.351682</td>\n",
              "      <td>165.428561</td>\n",
              "      <td>19.566594</td>\n",
              "      <td>73.461651</td>\n",
              "      <td>230.612531</td>\n",
              "      <td>19.550743</td>\n",
              "      <td>72.606500</td>\n",
              "      <td>231.210796</td>\n",
              "      <td>D3</td>\n",
              "      <td>A1</td>\n",
              "      <td>Set1</td>\n",
              "      <td>834A3691-A011-4D07-8652-E2A2C8F1E3F7.png</td>\n",
              "    </tr>\n",
              "    <tr>\n",
              "      <th>4</th>\n",
              "      <td>232.133431</td>\n",
              "      <td>209.823472</td>\n",
              "      <td>160.814707</td>\n",
              "      <td>232.841548</td>\n",
              "      <td>211.054264</td>\n",
              "      <td>163.067989</td>\n",
              "      <td>20.814463</td>\n",
              "      <td>78.373996</td>\n",
              "      <td>232.133431</td>\n",
              "      <td>20.855487</td>\n",
              "      <td>76.523434</td>\n",
              "      <td>232.841832</td>\n",
              "      <td>D3</td>\n",
              "      <td>A1</td>\n",
              "      <td>Set1</td>\n",
              "      <td>714E83ED-391B-480A-85E8-DC4AB8864683.png</td>\n",
              "    </tr>\n",
              "    <tr>\n",
              "      <th>...</th>\n",
              "      <td>...</td>\n",
              "      <td>...</td>\n",
              "      <td>...</td>\n",
              "      <td>...</td>\n",
              "      <td>...</td>\n",
              "      <td>...</td>\n",
              "      <td>...</td>\n",
              "      <td>...</td>\n",
              "      <td>...</td>\n",
              "      <td>...</td>\n",
              "      <td>...</td>\n",
              "      <td>...</td>\n",
              "      <td>...</td>\n",
              "      <td>...</td>\n",
              "      <td>...</td>\n",
              "      <td>...</td>\n",
              "    </tr>\n",
              "    <tr>\n",
              "      <th>3195</th>\n",
              "      <td>232.804642</td>\n",
              "      <td>209.441604</td>\n",
              "      <td>164.924357</td>\n",
              "      <td>233.308869</td>\n",
              "      <td>210.109594</td>\n",
              "      <td>166.164853</td>\n",
              "      <td>19.601331</td>\n",
              "      <td>74.376755</td>\n",
              "      <td>232.804642</td>\n",
              "      <td>19.552094</td>\n",
              "      <td>73.433042</td>\n",
              "      <td>233.308869</td>\n",
              "      <td>D3</td>\n",
              "      <td>D4</td>\n",
              "      <td>Set4</td>\n",
              "      <td>10CE35C5-6743-4EEA-98A9-680ECFAEEC9D.png</td>\n",
              "    </tr>\n",
              "    <tr>\n",
              "      <th>3196</th>\n",
              "      <td>235.903985</td>\n",
              "      <td>218.940670</td>\n",
              "      <td>179.875741</td>\n",
              "      <td>236.487092</td>\n",
              "      <td>219.666951</td>\n",
              "      <td>181.014864</td>\n",
              "      <td>20.612775</td>\n",
              "      <td>78.169873</td>\n",
              "      <td>229.335768</td>\n",
              "      <td>20.589787</td>\n",
              "      <td>77.092810</td>\n",
              "      <td>229.914515</td>\n",
              "      <td>D3</td>\n",
              "      <td>D4</td>\n",
              "      <td>Set4</td>\n",
              "      <td>944DB7CA-D69F-4E46-BD49-456D2156BCD0.png</td>\n",
              "    </tr>\n",
              "    <tr>\n",
              "      <th>3197</th>\n",
              "      <td>232.175960</td>\n",
              "      <td>216.874036</td>\n",
              "      <td>178.708465</td>\n",
              "      <td>232.964654</td>\n",
              "      <td>217.832160</td>\n",
              "      <td>180.185122</td>\n",
              "      <td>21.562292</td>\n",
              "      <td>58.762357</td>\n",
              "      <td>232.175960</td>\n",
              "      <td>21.513975</td>\n",
              "      <td>57.839201</td>\n",
              "      <td>232.964654</td>\n",
              "      <td>D3</td>\n",
              "      <td>D4</td>\n",
              "      <td>Set4</td>\n",
              "      <td>A632E1CE-7393-43EB-8D28-77A0DB3FB2FB.png</td>\n",
              "    </tr>\n",
              "    <tr>\n",
              "      <th>3198</th>\n",
              "      <td>231.726077</td>\n",
              "      <td>211.455077</td>\n",
              "      <td>167.223440</td>\n",
              "      <td>232.533177</td>\n",
              "      <td>212.551597</td>\n",
              "      <td>168.982505</td>\n",
              "      <td>20.556367</td>\n",
              "      <td>71.019641</td>\n",
              "      <td>231.726077</td>\n",
              "      <td>20.552237</td>\n",
              "      <td>69.773771</td>\n",
              "      <td>232.533177</td>\n",
              "      <td>D3</td>\n",
              "      <td>D4</td>\n",
              "      <td>Set4</td>\n",
              "      <td>9FBF239E-E5C8-4445-AA48-402EB3B8A4E4.png</td>\n",
              "    </tr>\n",
              "    <tr>\n",
              "      <th>3199</th>\n",
              "      <td>226.100641</td>\n",
              "      <td>197.575278</td>\n",
              "      <td>146.748235</td>\n",
              "      <td>226.795889</td>\n",
              "      <td>198.548539</td>\n",
              "      <td>147.966148</td>\n",
              "      <td>19.189595</td>\n",
              "      <td>89.497849</td>\n",
              "      <td>226.100641</td>\n",
              "      <td>19.239457</td>\n",
              "      <td>88.650238</td>\n",
              "      <td>226.795889</td>\n",
              "      <td>D3</td>\n",
              "      <td>D4</td>\n",
              "      <td>Set4</td>\n",
              "      <td>70F2BDFA-31E1-4B8C-98B7-FD92D3194389.png</td>\n",
              "    </tr>\n",
              "  </tbody>\n",
              "</table>\n",
              "<p>3200 rows × 16 columns</p>\n",
              "</div>\n",
              "      <button class=\"colab-df-convert\" onclick=\"convertToInteractive('df-db089629-4892-49a3-b7ce-891cea72fb02')\"\n",
              "              title=\"Convert this dataframe to an interactive table.\"\n",
              "              style=\"display:none;\">\n",
              "        \n",
              "  <svg xmlns=\"http://www.w3.org/2000/svg\" height=\"24px\"viewBox=\"0 0 24 24\"\n",
              "       width=\"24px\">\n",
              "    <path d=\"M0 0h24v24H0V0z\" fill=\"none\"/>\n",
              "    <path d=\"M18.56 5.44l.94 2.06.94-2.06 2.06-.94-2.06-.94-.94-2.06-.94 2.06-2.06.94zm-11 1L8.5 8.5l.94-2.06 2.06-.94-2.06-.94L8.5 2.5l-.94 2.06-2.06.94zm10 10l.94 2.06.94-2.06 2.06-.94-2.06-.94-.94-2.06-.94 2.06-2.06.94z\"/><path d=\"M17.41 7.96l-1.37-1.37c-.4-.4-.92-.59-1.43-.59-.52 0-1.04.2-1.43.59L10.3 9.45l-7.72 7.72c-.78.78-.78 2.05 0 2.83L4 21.41c.39.39.9.59 1.41.59.51 0 1.02-.2 1.41-.59l7.78-7.78 2.81-2.81c.8-.78.8-2.07 0-2.86zM5.41 20L4 18.59l7.72-7.72 1.47 1.35L5.41 20z\"/>\n",
              "  </svg>\n",
              "      </button>\n",
              "      \n",
              "  <style>\n",
              "    .colab-df-container {\n",
              "      display:flex;\n",
              "      flex-wrap:wrap;\n",
              "      gap: 12px;\n",
              "    }\n",
              "\n",
              "    .colab-df-convert {\n",
              "      background-color: #E8F0FE;\n",
              "      border: none;\n",
              "      border-radius: 50%;\n",
              "      cursor: pointer;\n",
              "      display: none;\n",
              "      fill: #1967D2;\n",
              "      height: 32px;\n",
              "      padding: 0 0 0 0;\n",
              "      width: 32px;\n",
              "    }\n",
              "\n",
              "    .colab-df-convert:hover {\n",
              "      background-color: #E2EBFA;\n",
              "      box-shadow: 0px 1px 2px rgba(60, 64, 67, 0.3), 0px 1px 3px 1px rgba(60, 64, 67, 0.15);\n",
              "      fill: #174EA6;\n",
              "    }\n",
              "\n",
              "    [theme=dark] .colab-df-convert {\n",
              "      background-color: #3B4455;\n",
              "      fill: #D2E3FC;\n",
              "    }\n",
              "\n",
              "    [theme=dark] .colab-df-convert:hover {\n",
              "      background-color: #434B5C;\n",
              "      box-shadow: 0px 1px 3px 1px rgba(0, 0, 0, 0.15);\n",
              "      filter: drop-shadow(0px 1px 2px rgba(0, 0, 0, 0.3));\n",
              "      fill: #FFFFFF;\n",
              "    }\n",
              "  </style>\n",
              "\n",
              "      <script>\n",
              "        const buttonEl =\n",
              "          document.querySelector('#df-db089629-4892-49a3-b7ce-891cea72fb02 button.colab-df-convert');\n",
              "        buttonEl.style.display =\n",
              "          google.colab.kernel.accessAllowed ? 'block' : 'none';\n",
              "\n",
              "        async function convertToInteractive(key) {\n",
              "          const element = document.querySelector('#df-db089629-4892-49a3-b7ce-891cea72fb02');\n",
              "          const dataTable =\n",
              "            await google.colab.kernel.invokeFunction('convertToInteractive',\n",
              "                                                     [key], {});\n",
              "          if (!dataTable) return;\n",
              "\n",
              "          const docLinkHtml = 'Like what you see? Visit the ' +\n",
              "            '<a target=\"_blank\" href=https://colab.research.google.com/notebooks/data_table.ipynb>data table notebook</a>'\n",
              "            + ' to learn more about interactive tables.';\n",
              "          element.innerHTML = '';\n",
              "          dataTable['output_type'] = 'display_data';\n",
              "          await google.colab.output.renderOutput(dataTable, element);\n",
              "          const docLink = document.createElement('div');\n",
              "          docLink.innerHTML = docLinkHtml;\n",
              "          element.appendChild(docLink);\n",
              "        }\n",
              "      </script>\n",
              "    </div>\n",
              "  </div>\n",
              "  "
            ],
            "text/plain": [
              "           R-ref       G-ref  ...  Setting                                       Img\n",
              "0     232.175960  216.874036  ...     Set1  57601EF7-37D5-4783-A278-238D30F60912.png\n",
              "1     231.726077  211.455077  ...     Set1  5412037F-4AF3-43A2-A4ED-CADFEC0751E7.png\n",
              "2     226.100641  197.575278  ...     Set1  456A44EC-FCBD-4487-B70C-F0E01333D15C.png\n",
              "3     230.612531  207.562373  ...     Set1  834A3691-A011-4D07-8652-E2A2C8F1E3F7.png\n",
              "4     232.133431  209.823472  ...     Set1  714E83ED-391B-480A-85E8-DC4AB8864683.png\n",
              "...          ...         ...  ...      ...                                       ...\n",
              "3195  232.804642  209.441604  ...     Set4  10CE35C5-6743-4EEA-98A9-680ECFAEEC9D.png\n",
              "3196  235.903985  218.940670  ...     Set4  944DB7CA-D69F-4E46-BD49-456D2156BCD0.png\n",
              "3197  232.175960  216.874036  ...     Set4  A632E1CE-7393-43EB-8D28-77A0DB3FB2FB.png\n",
              "3198  231.726077  211.455077  ...     Set4  9FBF239E-E5C8-4445-AA48-402EB3B8A4E4.png\n",
              "3199  226.100641  197.575278  ...     Set4  70F2BDFA-31E1-4B8C-98B7-FD92D3194389.png\n",
              "\n",
              "[3200 rows x 16 columns]"
            ]
          },
          "metadata": {},
          "execution_count": 254
        }
      ]
    },
    {
      "cell_type": "markdown",
      "source": [
        "###RGB"
      ],
      "metadata": {
        "id": "YED4W-KezTVX"
      }
    },
    {
      "cell_type": "code",
      "source": [
        "RGB_D3 = table_D3.drop(['H-ref','S-ref','V-ref','S-Shad','V-Shad','Shade-ref','Setting','Img','Shade','H-Shad'], axis=1)"
      ],
      "metadata": {
        "id": "z5cWb9t-zTVX"
      },
      "execution_count": 255,
      "outputs": []
    },
    {
      "cell_type": "code",
      "source": [
        "X_D3_RGB = np.array(RGB_D3)"
      ],
      "metadata": {
        "id": "nl4SfurHzTVX"
      },
      "execution_count": 256,
      "outputs": []
    },
    {
      "cell_type": "code",
      "source": [
        "y_D3_RGB =  table_D3.iloc[:,13:14]"
      ],
      "metadata": {
        "id": "ZNHQWgjjzTVX"
      },
      "execution_count": 257,
      "outputs": []
    },
    {
      "cell_type": "code",
      "source": [
        "y_D3_RGB = np.array(y_D3_RGB)"
      ],
      "metadata": {
        "id": "Xi-tqTnkzTVX"
      },
      "execution_count": 258,
      "outputs": []
    },
    {
      "cell_type": "code",
      "source": [
        "X_test_D3_RGB , X_train_D3_RGB , y_test_D3_RGB, y_train_D3_RGB = train_test_split(X_D3_RGB, y_D3_RGB, test_size=80, train_size=320)"
      ],
      "metadata": {
        "id": "5BvsrQ9AzTVY"
      },
      "execution_count": 259,
      "outputs": []
    },
    {
      "cell_type": "code",
      "source": [
        "clf.fit(X_train_D3_RGB, y_train_D3_RGB)"
      ],
      "metadata": {
        "outputId": "a8dd7979-d264-477f-8523-d79dbe129b1b",
        "colab": {
          "base_uri": "https://localhost:8080/"
        },
        "id": "n9WLSHfRzTVY"
      },
      "execution_count": 260,
      "outputs": [
        {
          "output_type": "stream",
          "name": "stderr",
          "text": [
            "/usr/local/lib/python3.7/dist-packages/ipykernel_launcher.py:1: DataConversionWarning: A column-vector y was passed when a 1d array was expected. Please change the shape of y to (n_samples,), for example using ravel().\n",
            "  \"\"\"Entry point for launching an IPython kernel.\n"
          ]
        },
        {
          "output_type": "execute_result",
          "data": {
            "text/plain": [
              "RandomForestClassifier()"
            ]
          },
          "metadata": {},
          "execution_count": 260
        }
      ]
    },
    {
      "cell_type": "code",
      "source": [
        "y_pred_D3_RGB = clf.predict(X_test_D3_RGB)"
      ],
      "metadata": {
        "id": "j7qiGCSUzTVY"
      },
      "execution_count": 261,
      "outputs": []
    },
    {
      "cell_type": "code",
      "source": [
        "print(\"Accuracy:\", metrics.accuracy_score(y_test_D3_RGB, y_pred_D3_RGB))"
      ],
      "metadata": {
        "outputId": "7b91eafe-2f37-4a95-afda-f8c47af9430e",
        "colab": {
          "base_uri": "https://localhost:8080/"
        },
        "id": "Pvu3Q6GZzTVY"
      },
      "execution_count": 262,
      "outputs": [
        {
          "output_type": "stream",
          "name": "stdout",
          "text": [
            "Accuracy: 0.25\n"
          ]
        }
      ]
    },
    {
      "cell_type": "markdown",
      "source": [
        "###HSV"
      ],
      "metadata": {
        "id": "d4OmuNvyzTVY"
      }
    },
    {
      "cell_type": "code",
      "source": [
        "HSV_D3 = table_D3.drop(['R-ref','G-ref','B-ref','R-Shad','G-Shad','B-Shad','Shade-ref','Setting','Img','Shade'], axis=1)"
      ],
      "metadata": {
        "id": "uzoImrCnzTVY"
      },
      "execution_count": 263,
      "outputs": []
    },
    {
      "cell_type": "code",
      "source": [
        "X_D3_HSV = np.array(HSV_D3)"
      ],
      "metadata": {
        "id": "mJJD_w8lzTVY"
      },
      "execution_count": 264,
      "outputs": []
    },
    {
      "cell_type": "code",
      "source": [
        "y_D3_HSV =  table_D3.iloc[:,13:14]"
      ],
      "metadata": {
        "id": "BIrcs4E3zTVY"
      },
      "execution_count": 265,
      "outputs": []
    },
    {
      "cell_type": "code",
      "source": [
        "y_D3_HSV = np.array(y_D3_HSV)"
      ],
      "metadata": {
        "id": "b10NnGxczTVY"
      },
      "execution_count": 266,
      "outputs": []
    },
    {
      "cell_type": "code",
      "source": [
        "X_test_D3_HSV , X_train_D3_HSV , y_test_D3_HSV, y_train_D3_HSV = train_test_split(X_D3_HSV, y_D3_HSV, test_size=80, train_size=320)"
      ],
      "metadata": {
        "id": "q8PP1ewWzTVZ"
      },
      "execution_count": 267,
      "outputs": []
    },
    {
      "cell_type": "code",
      "source": [
        "clf.fit(X_train_D3_HSV, y_train_D3_HSV)"
      ],
      "metadata": {
        "outputId": "76c88498-3527-44dd-92cd-11f6edfae975",
        "colab": {
          "base_uri": "https://localhost:8080/"
        },
        "id": "it7IGAHGzTVZ"
      },
      "execution_count": 268,
      "outputs": [
        {
          "output_type": "stream",
          "name": "stderr",
          "text": [
            "/usr/local/lib/python3.7/dist-packages/ipykernel_launcher.py:1: DataConversionWarning: A column-vector y was passed when a 1d array was expected. Please change the shape of y to (n_samples,), for example using ravel().\n",
            "  \"\"\"Entry point for launching an IPython kernel.\n"
          ]
        },
        {
          "output_type": "execute_result",
          "data": {
            "text/plain": [
              "RandomForestClassifier()"
            ]
          },
          "metadata": {},
          "execution_count": 268
        }
      ]
    },
    {
      "cell_type": "code",
      "source": [
        "y_pred_D3_HSV = clf.predict(X_test_D3_HSV)"
      ],
      "metadata": {
        "id": "vGfixcwmzTVZ"
      },
      "execution_count": 269,
      "outputs": []
    },
    {
      "cell_type": "code",
      "source": [
        "print(\"Accuracy:\", metrics.accuracy_score(y_test_D3_HSV, y_pred_D3_HSV))"
      ],
      "metadata": {
        "outputId": "0a0e7353-1acb-4607-e8a6-328e13980a93",
        "colab": {
          "base_uri": "https://localhost:8080/"
        },
        "id": "yxcFrcm7zTVZ"
      },
      "execution_count": 270,
      "outputs": [
        {
          "output_type": "stream",
          "name": "stdout",
          "text": [
            "Accuracy: 0.275\n"
          ]
        }
      ]
    },
    {
      "cell_type": "markdown",
      "source": [
        "##D4"
      ],
      "metadata": {
        "id": "HT4i2XuOzTVZ"
      }
    },
    {
      "cell_type": "code",
      "source": [
        "table_D4= pd.read_excel(DD, sheet_name='D4')\n",
        "table_D4"
      ],
      "metadata": {
        "outputId": "e3d23c50-8458-46c5-8b05-eed8542a7db8",
        "colab": {
          "base_uri": "https://localhost:8080/",
          "height": 832
        },
        "id": "lrPU5dzYzTVZ"
      },
      "execution_count": 271,
      "outputs": [
        {
          "output_type": "execute_result",
          "data": {
            "text/html": [
              "\n",
              "  <div id=\"df-183c256d-6627-4b49-83cb-9d199ca7c87b\">\n",
              "    <div class=\"colab-df-container\">\n",
              "      <div>\n",
              "<style scoped>\n",
              "    .dataframe tbody tr th:only-of-type {\n",
              "        vertical-align: middle;\n",
              "    }\n",
              "\n",
              "    .dataframe tbody tr th {\n",
              "        vertical-align: top;\n",
              "    }\n",
              "\n",
              "    .dataframe thead th {\n",
              "        text-align: right;\n",
              "    }\n",
              "</style>\n",
              "<table border=\"1\" class=\"dataframe\">\n",
              "  <thead>\n",
              "    <tr style=\"text-align: right;\">\n",
              "      <th></th>\n",
              "      <th>R-ref</th>\n",
              "      <th>G-ref</th>\n",
              "      <th>B-ref</th>\n",
              "      <th>R-Shad</th>\n",
              "      <th>G-Shad</th>\n",
              "      <th>B-Shad</th>\n",
              "      <th>H-ref</th>\n",
              "      <th>S-ref</th>\n",
              "      <th>V-ref</th>\n",
              "      <th>H-Shad</th>\n",
              "      <th>S-Shad</th>\n",
              "      <th>V-Shad</th>\n",
              "      <th>Shade-ref</th>\n",
              "      <th>Shade</th>\n",
              "      <th>Setting</th>\n",
              "      <th>Img</th>\n",
              "    </tr>\n",
              "  </thead>\n",
              "  <tbody>\n",
              "    <tr>\n",
              "      <th>0</th>\n",
              "      <td>240.865271</td>\n",
              "      <td>224.637854</td>\n",
              "      <td>178.549306</td>\n",
              "      <td>241.270820</td>\n",
              "      <td>225.258019</td>\n",
              "      <td>179.527345</td>\n",
              "      <td>22.332441</td>\n",
              "      <td>66.000568</td>\n",
              "      <td>240.865271</td>\n",
              "      <td>22.344499</td>\n",
              "      <td>65.293578</td>\n",
              "      <td>241.270820</td>\n",
              "      <td>D4</td>\n",
              "      <td>A1</td>\n",
              "      <td>Set1</td>\n",
              "      <td>D47BC759-4BF1-40D8-9D68-52766A1B3358.png</td>\n",
              "    </tr>\n",
              "    <tr>\n",
              "      <th>1</th>\n",
              "      <td>234.887834</td>\n",
              "      <td>223.690123</td>\n",
              "      <td>188.796283</td>\n",
              "      <td>235.609061</td>\n",
              "      <td>224.545978</td>\n",
              "      <td>190.322452</td>\n",
              "      <td>22.660093</td>\n",
              "      <td>50.039201</td>\n",
              "      <td>234.887834</td>\n",
              "      <td>22.616101</td>\n",
              "      <td>49.037977</td>\n",
              "      <td>235.609061</td>\n",
              "      <td>D4</td>\n",
              "      <td>A1</td>\n",
              "      <td>Set1</td>\n",
              "      <td>63D0E875-9DA6-4483-BB03-E54DC1E8BC87.png</td>\n",
              "    </tr>\n",
              "    <tr>\n",
              "      <th>2</th>\n",
              "      <td>237.374726</td>\n",
              "      <td>219.960149</td>\n",
              "      <td>176.637286</td>\n",
              "      <td>237.957613</td>\n",
              "      <td>220.812531</td>\n",
              "      <td>177.951355</td>\n",
              "      <td>21.737359</td>\n",
              "      <td>65.276114</td>\n",
              "      <td>237.374726</td>\n",
              "      <td>21.747173</td>\n",
              "      <td>64.356589</td>\n",
              "      <td>237.957613</td>\n",
              "      <td>D4</td>\n",
              "      <td>A1</td>\n",
              "      <td>Set1</td>\n",
              "      <td>779692A7-DE00-4434-843B-AEB78B8B0AF8.png</td>\n",
              "    </tr>\n",
              "    <tr>\n",
              "      <th>3</th>\n",
              "      <td>240.543706</td>\n",
              "      <td>213.146498</td>\n",
              "      <td>156.376268</td>\n",
              "      <td>241.134485</td>\n",
              "      <td>214.226655</td>\n",
              "      <td>158.206102</td>\n",
              "      <td>20.320672</td>\n",
              "      <td>89.255499</td>\n",
              "      <td>240.543706</td>\n",
              "      <td>20.371097</td>\n",
              "      <td>87.763246</td>\n",
              "      <td>241.134485</td>\n",
              "      <td>D4</td>\n",
              "      <td>A1</td>\n",
              "      <td>Set1</td>\n",
              "      <td>18456DEB-40B5-49F7-B753-562994BE1B43.png</td>\n",
              "    </tr>\n",
              "    <tr>\n",
              "      <th>4</th>\n",
              "      <td>240.498498</td>\n",
              "      <td>229.602062</td>\n",
              "      <td>194.791981</td>\n",
              "      <td>240.924756</td>\n",
              "      <td>230.162577</td>\n",
              "      <td>195.716165</td>\n",
              "      <td>22.651408</td>\n",
              "      <td>48.460271</td>\n",
              "      <td>240.498498</td>\n",
              "      <td>22.683806</td>\n",
              "      <td>47.859327</td>\n",
              "      <td>240.924756</td>\n",
              "      <td>D4</td>\n",
              "      <td>A1</td>\n",
              "      <td>Set1</td>\n",
              "      <td>72376331-D805-4BAC-AE50-7A04A6729880.png</td>\n",
              "    </tr>\n",
              "    <tr>\n",
              "      <th>...</th>\n",
              "      <td>...</td>\n",
              "      <td>...</td>\n",
              "      <td>...</td>\n",
              "      <td>...</td>\n",
              "      <td>...</td>\n",
              "      <td>...</td>\n",
              "      <td>...</td>\n",
              "      <td>...</td>\n",
              "      <td>...</td>\n",
              "      <td>...</td>\n",
              "      <td>...</td>\n",
              "      <td>...</td>\n",
              "      <td>...</td>\n",
              "      <td>...</td>\n",
              "      <td>...</td>\n",
              "      <td>...</td>\n",
              "    </tr>\n",
              "    <tr>\n",
              "      <th>3195</th>\n",
              "      <td>232.804642</td>\n",
              "      <td>209.441604</td>\n",
              "      <td>164.924357</td>\n",
              "      <td>233.308869</td>\n",
              "      <td>210.109594</td>\n",
              "      <td>166.164853</td>\n",
              "      <td>19.601331</td>\n",
              "      <td>74.376755</td>\n",
              "      <td>232.804642</td>\n",
              "      <td>19.552094</td>\n",
              "      <td>73.433042</td>\n",
              "      <td>233.308869</td>\n",
              "      <td>D4</td>\n",
              "      <td>D4</td>\n",
              "      <td>Set4</td>\n",
              "      <td>4B26C027-BBB5-43B7-AD79-12A17199C662.png</td>\n",
              "    </tr>\n",
              "    <tr>\n",
              "      <th>3196</th>\n",
              "      <td>235.903985</td>\n",
              "      <td>218.940670</td>\n",
              "      <td>179.875741</td>\n",
              "      <td>236.487092</td>\n",
              "      <td>219.666951</td>\n",
              "      <td>181.014864</td>\n",
              "      <td>20.612775</td>\n",
              "      <td>78.169873</td>\n",
              "      <td>229.335768</td>\n",
              "      <td>20.589787</td>\n",
              "      <td>77.092810</td>\n",
              "      <td>229.914515</td>\n",
              "      <td>D4</td>\n",
              "      <td>D4</td>\n",
              "      <td>Set4</td>\n",
              "      <td>D0B2410F-4D19-428D-ACAB-853194360AB9.png</td>\n",
              "    </tr>\n",
              "    <tr>\n",
              "      <th>3197</th>\n",
              "      <td>232.175960</td>\n",
              "      <td>216.874036</td>\n",
              "      <td>178.708465</td>\n",
              "      <td>232.964654</td>\n",
              "      <td>217.832160</td>\n",
              "      <td>180.185122</td>\n",
              "      <td>21.562292</td>\n",
              "      <td>58.762357</td>\n",
              "      <td>232.175960</td>\n",
              "      <td>21.513975</td>\n",
              "      <td>57.839201</td>\n",
              "      <td>232.964654</td>\n",
              "      <td>D4</td>\n",
              "      <td>D4</td>\n",
              "      <td>Set4</td>\n",
              "      <td>239381EF-714F-4EC1-9D07-36CEF09D68A1.png</td>\n",
              "    </tr>\n",
              "    <tr>\n",
              "      <th>3198</th>\n",
              "      <td>231.726077</td>\n",
              "      <td>211.455077</td>\n",
              "      <td>167.223440</td>\n",
              "      <td>232.533177</td>\n",
              "      <td>212.551597</td>\n",
              "      <td>168.982505</td>\n",
              "      <td>20.556367</td>\n",
              "      <td>71.019641</td>\n",
              "      <td>231.726077</td>\n",
              "      <td>20.552237</td>\n",
              "      <td>69.773771</td>\n",
              "      <td>232.533177</td>\n",
              "      <td>D4</td>\n",
              "      <td>D4</td>\n",
              "      <td>Set4</td>\n",
              "      <td>CA6B7419-61FE-4110-9EC1-CCD71F2B7962.png</td>\n",
              "    </tr>\n",
              "    <tr>\n",
              "      <th>3199</th>\n",
              "      <td>226.100641</td>\n",
              "      <td>197.575278</td>\n",
              "      <td>146.748235</td>\n",
              "      <td>226.795889</td>\n",
              "      <td>198.548539</td>\n",
              "      <td>147.966148</td>\n",
              "      <td>19.189595</td>\n",
              "      <td>89.497849</td>\n",
              "      <td>226.100641</td>\n",
              "      <td>19.239457</td>\n",
              "      <td>88.650238</td>\n",
              "      <td>226.795889</td>\n",
              "      <td>D4</td>\n",
              "      <td>D4</td>\n",
              "      <td>Set4</td>\n",
              "      <td>B54B3165-ED2D-4BAB-A9A0-CACAC9F50D49.png</td>\n",
              "    </tr>\n",
              "  </tbody>\n",
              "</table>\n",
              "<p>3200 rows × 16 columns</p>\n",
              "</div>\n",
              "      <button class=\"colab-df-convert\" onclick=\"convertToInteractive('df-183c256d-6627-4b49-83cb-9d199ca7c87b')\"\n",
              "              title=\"Convert this dataframe to an interactive table.\"\n",
              "              style=\"display:none;\">\n",
              "        \n",
              "  <svg xmlns=\"http://www.w3.org/2000/svg\" height=\"24px\"viewBox=\"0 0 24 24\"\n",
              "       width=\"24px\">\n",
              "    <path d=\"M0 0h24v24H0V0z\" fill=\"none\"/>\n",
              "    <path d=\"M18.56 5.44l.94 2.06.94-2.06 2.06-.94-2.06-.94-.94-2.06-.94 2.06-2.06.94zm-11 1L8.5 8.5l.94-2.06 2.06-.94-2.06-.94L8.5 2.5l-.94 2.06-2.06.94zm10 10l.94 2.06.94-2.06 2.06-.94-2.06-.94-.94-2.06-.94 2.06-2.06.94z\"/><path d=\"M17.41 7.96l-1.37-1.37c-.4-.4-.92-.59-1.43-.59-.52 0-1.04.2-1.43.59L10.3 9.45l-7.72 7.72c-.78.78-.78 2.05 0 2.83L4 21.41c.39.39.9.59 1.41.59.51 0 1.02-.2 1.41-.59l7.78-7.78 2.81-2.81c.8-.78.8-2.07 0-2.86zM5.41 20L4 18.59l7.72-7.72 1.47 1.35L5.41 20z\"/>\n",
              "  </svg>\n",
              "      </button>\n",
              "      \n",
              "  <style>\n",
              "    .colab-df-container {\n",
              "      display:flex;\n",
              "      flex-wrap:wrap;\n",
              "      gap: 12px;\n",
              "    }\n",
              "\n",
              "    .colab-df-convert {\n",
              "      background-color: #E8F0FE;\n",
              "      border: none;\n",
              "      border-radius: 50%;\n",
              "      cursor: pointer;\n",
              "      display: none;\n",
              "      fill: #1967D2;\n",
              "      height: 32px;\n",
              "      padding: 0 0 0 0;\n",
              "      width: 32px;\n",
              "    }\n",
              "\n",
              "    .colab-df-convert:hover {\n",
              "      background-color: #E2EBFA;\n",
              "      box-shadow: 0px 1px 2px rgba(60, 64, 67, 0.3), 0px 1px 3px 1px rgba(60, 64, 67, 0.15);\n",
              "      fill: #174EA6;\n",
              "    }\n",
              "\n",
              "    [theme=dark] .colab-df-convert {\n",
              "      background-color: #3B4455;\n",
              "      fill: #D2E3FC;\n",
              "    }\n",
              "\n",
              "    [theme=dark] .colab-df-convert:hover {\n",
              "      background-color: #434B5C;\n",
              "      box-shadow: 0px 1px 3px 1px rgba(0, 0, 0, 0.15);\n",
              "      filter: drop-shadow(0px 1px 2px rgba(0, 0, 0, 0.3));\n",
              "      fill: #FFFFFF;\n",
              "    }\n",
              "  </style>\n",
              "\n",
              "      <script>\n",
              "        const buttonEl =\n",
              "          document.querySelector('#df-183c256d-6627-4b49-83cb-9d199ca7c87b button.colab-df-convert');\n",
              "        buttonEl.style.display =\n",
              "          google.colab.kernel.accessAllowed ? 'block' : 'none';\n",
              "\n",
              "        async function convertToInteractive(key) {\n",
              "          const element = document.querySelector('#df-183c256d-6627-4b49-83cb-9d199ca7c87b');\n",
              "          const dataTable =\n",
              "            await google.colab.kernel.invokeFunction('convertToInteractive',\n",
              "                                                     [key], {});\n",
              "          if (!dataTable) return;\n",
              "\n",
              "          const docLinkHtml = 'Like what you see? Visit the ' +\n",
              "            '<a target=\"_blank\" href=https://colab.research.google.com/notebooks/data_table.ipynb>data table notebook</a>'\n",
              "            + ' to learn more about interactive tables.';\n",
              "          element.innerHTML = '';\n",
              "          dataTable['output_type'] = 'display_data';\n",
              "          await google.colab.output.renderOutput(dataTable, element);\n",
              "          const docLink = document.createElement('div');\n",
              "          docLink.innerHTML = docLinkHtml;\n",
              "          element.appendChild(docLink);\n",
              "        }\n",
              "      </script>\n",
              "    </div>\n",
              "  </div>\n",
              "  "
            ],
            "text/plain": [
              "           R-ref       G-ref  ...  Setting                                       Img\n",
              "0     240.865271  224.637854  ...     Set1  D47BC759-4BF1-40D8-9D68-52766A1B3358.png\n",
              "1     234.887834  223.690123  ...     Set1  63D0E875-9DA6-4483-BB03-E54DC1E8BC87.png\n",
              "2     237.374726  219.960149  ...     Set1  779692A7-DE00-4434-843B-AEB78B8B0AF8.png\n",
              "3     240.543706  213.146498  ...     Set1  18456DEB-40B5-49F7-B753-562994BE1B43.png\n",
              "4     240.498498  229.602062  ...     Set1  72376331-D805-4BAC-AE50-7A04A6729880.png\n",
              "...          ...         ...  ...      ...                                       ...\n",
              "3195  232.804642  209.441604  ...     Set4  4B26C027-BBB5-43B7-AD79-12A17199C662.png\n",
              "3196  235.903985  218.940670  ...     Set4  D0B2410F-4D19-428D-ACAB-853194360AB9.png\n",
              "3197  232.175960  216.874036  ...     Set4  239381EF-714F-4EC1-9D07-36CEF09D68A1.png\n",
              "3198  231.726077  211.455077  ...     Set4  CA6B7419-61FE-4110-9EC1-CCD71F2B7962.png\n",
              "3199  226.100641  197.575278  ...     Set4  B54B3165-ED2D-4BAB-A9A0-CACAC9F50D49.png\n",
              "\n",
              "[3200 rows x 16 columns]"
            ]
          },
          "metadata": {},
          "execution_count": 271
        }
      ]
    },
    {
      "cell_type": "markdown",
      "source": [
        "###RGB"
      ],
      "metadata": {
        "id": "d1jKg2OFzTVZ"
      }
    },
    {
      "cell_type": "code",
      "source": [
        "RGB_D4 = table_D4.drop(['H-ref','S-ref','V-ref','S-Shad','V-Shad','Shade-ref','Setting','Img','Shade','H-Shad'], axis=1)"
      ],
      "metadata": {
        "id": "Qhvl8tg3zTVZ"
      },
      "execution_count": 272,
      "outputs": []
    },
    {
      "cell_type": "code",
      "source": [
        "X_D4_RGB = np.array(RGB_D4)"
      ],
      "metadata": {
        "id": "MvmVnXyKzTVZ"
      },
      "execution_count": 273,
      "outputs": []
    },
    {
      "cell_type": "code",
      "source": [
        "y_D4_RGB =  table_D4.iloc[:,13:14]"
      ],
      "metadata": {
        "id": "xg0Z2hyozTVa"
      },
      "execution_count": 274,
      "outputs": []
    },
    {
      "cell_type": "code",
      "source": [
        "y_D4_RGB = np.array(y_D4_RGB)"
      ],
      "metadata": {
        "id": "ugKSEQ7hzTVa"
      },
      "execution_count": 275,
      "outputs": []
    },
    {
      "cell_type": "code",
      "source": [
        "X_test_D4_RGB , X_train_D4_RGB , y_test_D4_RGB, y_train_D4_RGB = train_test_split(X_D4_RGB, y_D4_RGB, test_size=80, train_size=320)"
      ],
      "metadata": {
        "id": "-I_dngx2zTVa"
      },
      "execution_count": 276,
      "outputs": []
    },
    {
      "cell_type": "code",
      "source": [
        "clf.fit(X_train_D4_RGB, y_train_D4_RGB)"
      ],
      "metadata": {
        "outputId": "0d5c891f-d765-41fd-9f3d-e7bebbcda572",
        "colab": {
          "base_uri": "https://localhost:8080/"
        },
        "id": "HHq8o-rBzTVa"
      },
      "execution_count": 277,
      "outputs": [
        {
          "output_type": "stream",
          "name": "stderr",
          "text": [
            "/usr/local/lib/python3.7/dist-packages/ipykernel_launcher.py:1: DataConversionWarning: A column-vector y was passed when a 1d array was expected. Please change the shape of y to (n_samples,), for example using ravel().\n",
            "  \"\"\"Entry point for launching an IPython kernel.\n"
          ]
        },
        {
          "output_type": "execute_result",
          "data": {
            "text/plain": [
              "RandomForestClassifier()"
            ]
          },
          "metadata": {},
          "execution_count": 277
        }
      ]
    },
    {
      "cell_type": "code",
      "source": [
        "y_pred_D4_RGB = clf.predict(X_test_D4_RGB)"
      ],
      "metadata": {
        "id": "pOzZl8vHzTVa"
      },
      "execution_count": 278,
      "outputs": []
    },
    {
      "cell_type": "code",
      "source": [
        "print(\"Accuracy:\", metrics.accuracy_score(y_test_D4_RGB, y_pred_D4_RGB))"
      ],
      "metadata": {
        "outputId": "2e27a03a-6b3d-4722-b9d6-97f711c81256",
        "colab": {
          "base_uri": "https://localhost:8080/"
        },
        "id": "UXM8m5vPzTVa"
      },
      "execution_count": 279,
      "outputs": [
        {
          "output_type": "stream",
          "name": "stdout",
          "text": [
            "Accuracy: 0.340625\n"
          ]
        }
      ]
    },
    {
      "cell_type": "markdown",
      "source": [
        "###HSV"
      ],
      "metadata": {
        "id": "yedLfdOYzTVa"
      }
    },
    {
      "cell_type": "code",
      "source": [
        "HSV_D4 = table_D4.drop(['R-ref','G-ref','B-ref','R-Shad','G-Shad','B-Shad','Shade-ref','Setting','Img','Shade'], axis=1)"
      ],
      "metadata": {
        "id": "Fl65OL8-zTVa"
      },
      "execution_count": 280,
      "outputs": []
    },
    {
      "cell_type": "code",
      "source": [
        "X_D4_HSV = np.array(HSV_D4)"
      ],
      "metadata": {
        "id": "CdbIPjjUzTVa"
      },
      "execution_count": 281,
      "outputs": []
    },
    {
      "cell_type": "code",
      "source": [
        "y_D4_HSV =  table_D4.iloc[:,13:14]"
      ],
      "metadata": {
        "id": "BxTXAXxAzTVa"
      },
      "execution_count": 282,
      "outputs": []
    },
    {
      "cell_type": "code",
      "source": [
        "y_D4_HSV = np.array(y_D4_HSV)"
      ],
      "metadata": {
        "id": "AgPntKqEzTVa"
      },
      "execution_count": 283,
      "outputs": []
    },
    {
      "cell_type": "code",
      "source": [
        "X_test_D4_HSV , X_train_D4_HSV , y_test_D4_HSV, y_train_D4_HSV = train_test_split(X_D4_HSV, y_D4_HSV, test_size=80, train_size=320)"
      ],
      "metadata": {
        "id": "9h91YzXUzTVb"
      },
      "execution_count": 284,
      "outputs": []
    },
    {
      "cell_type": "code",
      "source": [
        "clf.fit(X_train_D4_HSV, y_train_D4_HSV)"
      ],
      "metadata": {
        "outputId": "f551adc1-d57d-4733-9fdf-400d8272ba00",
        "colab": {
          "base_uri": "https://localhost:8080/"
        },
        "id": "gH-4H5LHzTVb"
      },
      "execution_count": 285,
      "outputs": [
        {
          "output_type": "stream",
          "name": "stderr",
          "text": [
            "/usr/local/lib/python3.7/dist-packages/ipykernel_launcher.py:1: DataConversionWarning: A column-vector y was passed when a 1d array was expected. Please change the shape of y to (n_samples,), for example using ravel().\n",
            "  \"\"\"Entry point for launching an IPython kernel.\n"
          ]
        },
        {
          "output_type": "execute_result",
          "data": {
            "text/plain": [
              "RandomForestClassifier()"
            ]
          },
          "metadata": {},
          "execution_count": 285
        }
      ]
    },
    {
      "cell_type": "code",
      "source": [
        "y_pred_D4_HSV = clf.predict(X_test_D4_HSV)"
      ],
      "metadata": {
        "id": "Nb9kW6HAzTVb"
      },
      "execution_count": 286,
      "outputs": []
    },
    {
      "cell_type": "code",
      "source": [
        "print(\"Accuracy:\", metrics.accuracy_score(y_test_D4_HSV, y_pred_D4_HSV))"
      ],
      "metadata": {
        "outputId": "483008c9-e392-418c-8911-f5ccbce3abf0",
        "colab": {
          "base_uri": "https://localhost:8080/"
        },
        "id": "EvCM9RcczTVb"
      },
      "execution_count": 287,
      "outputs": [
        {
          "output_type": "stream",
          "name": "stdout",
          "text": [
            "Accuracy: 0.34375\n"
          ]
        }
      ]
    },
    {
      "cell_type": "markdown",
      "source": [
        "#สรุปผล"
      ],
      "metadata": {
        "id": "FcsXprrGEH0a"
      }
    },
    {
      "cell_type": "markdown",
      "source": [
        "##RGB"
      ],
      "metadata": {
        "id": "txfn-5vSEQKK"
      }
    },
    {
      "cell_type": "code",
      "source": [
        "print(\"A1 มี Accuracy เท่ากับ:\", metrics.accuracy_score(y_test_A1_RGB, y_pred_A1_RGB))\n",
        "print(\"A2 มี Accuracy เท่ากับ:\", metrics.accuracy_score(y_test_A2_RGB, y_pred_A2_RGB))\n",
        "print(\"A3 มี Accuracy เท่ากับ:\", metrics.accuracy_score(y_test_A3_RGB, y_pred_A3_RGB))\n",
        "print(\"A3.5 มี Accuracy เท่ากับ:\", metrics.accuracy_score(y_test_A3_5_RGB, y_pred_A3_5_RGB))\n",
        "print(\"A4 มี Accuracy เท่ากับ:\", metrics.accuracy_score(y_test_A4_RGB, y_pred_A4_RGB))\n",
        "print(\"B1 มี Accuracy เท่ากับ:\", metrics.accuracy_score(y_test_B1_RGB, y_pred_B1_RGB))\n",
        "print(\"B2 มี Accuracy เท่ากับ:\", metrics.accuracy_score(y_test_B2_RGB, y_pred_B2_RGB))\n",
        "print(\"B3 มี Accuracy เท่ากับ:\", metrics.accuracy_score(y_test_B3_RGB, y_pred_B3_RGB))\n",
        "print(\"B4 มี Accuracy เท่ากับ:\", metrics.accuracy_score(y_test_B4_RGB, y_pred_B4_RGB))\n",
        "print(\"C1 มี Accuracy เท่ากับ:\", metrics.accuracy_score(y_test_C1_RGB, y_pred_C1_RGB))\n",
        "print(\"C2 มี Accuracy เท่ากับ:\", metrics.accuracy_score(y_test_C2_RGB, y_pred_C2_RGB))\n",
        "print(\"C3 มี Accuracy เท่ากับ:\", metrics.accuracy_score(y_test_C3_RGB, y_pred_C3_RGB))\n",
        "print(\"C4 มี Accuracy เท่ากับ:\", metrics.accuracy_score(y_test_C4_RGB, y_pred_C4_RGB))\n",
        "print(\"D2 มี Accuracy เท่ากับ:\", metrics.accuracy_score(y_test_D2_RGB, y_pred_D2_RGB))\n",
        "print(\"D3 มี Accuracy เท่ากับ:\", metrics.accuracy_score(y_test_D3_RGB, y_pred_D3_RGB))\n",
        "print(\"D4 มี Accuracy เท่ากับ:\", metrics.accuracy_score(y_test_D4_RGB, y_pred_D4_RGB))"
      ],
      "metadata": {
        "id": "gAmWj0Tl_8ra",
        "outputId": "f8dc47f5-66bc-4e52-8582-ee438642b68f",
        "colab": {
          "base_uri": "https://localhost:8080/"
        }
      },
      "execution_count": 288,
      "outputs": [
        {
          "output_type": "stream",
          "name": "stdout",
          "text": [
            "A1 มี Accuracy เท่ากับ: 0.16875\n",
            "A2 มี Accuracy เท่ากับ: 0.29375\n",
            "A3 มี Accuracy เท่ากับ: 0.1625\n",
            "A3.5 มี Accuracy เท่ากับ: 0.159375\n",
            "A4 มี Accuracy เท่ากับ: 0.34375\n",
            "B1 มี Accuracy เท่ากับ: 0.146875\n",
            "B2 มี Accuracy เท่ากับ: 0.31875\n",
            "B3 มี Accuracy เท่ากับ: 0.346875\n",
            "B4 มี Accuracy เท่ากับ: 0.16875\n",
            "C1 มี Accuracy เท่ากับ: 0.178125\n",
            "C2 มี Accuracy เท่ากับ: 0.165625\n",
            "C3 มี Accuracy เท่ากับ: 0.165625\n",
            "C4 มี Accuracy เท่ากับ: 0.396875\n",
            "D2 มี Accuracy เท่ากับ: 0.1875\n",
            "D3 มี Accuracy เท่ากับ: 0.25\n",
            "D4 มี Accuracy เท่ากับ: 0.340625\n"
          ]
        }
      ]
    },
    {
      "cell_type": "markdown",
      "source": [
        "##HSV"
      ],
      "metadata": {
        "id": "F2CX4hhnEhIA"
      }
    },
    {
      "cell_type": "code",
      "source": [
        "print(\"A1 มี Accuracy เท่ากับ:\", metrics.accuracy_score(y_test_A1_HSV, y_pred_A1_HSV))\n",
        "print(\"A2 มี Accuracy เท่ากับ:\", metrics.accuracy_score(y_test_A2_HSV, y_pred_A2_HSV))\n",
        "print(\"A3 มี Accuracy เท่ากับ:\", metrics.accuracy_score(y_test_A3_HSV, y_pred_A3_HSV))\n",
        "print(\"A3.5 มี Accuracy เท่ากับ:\", metrics.accuracy_score(y_test_A3_5_HSV, y_pred_A3_5_HSV))\n",
        "print(\"A4 มี Accuracy เท่ากับ:\", metrics.accuracy_score(y_test_A4_HSV, y_pred_A4_HSV))\n",
        "print(\"B1 มี Accuracy เท่ากับ:\", metrics.accuracy_score(y_test_B1_HSV, y_pred_B1_HSV))\n",
        "print(\"B2 มี Accuracy เท่ากับ:\", metrics.accuracy_score(y_test_B2_HSV, y_pred_B2_HSV))\n",
        "print(\"B3 มี Accuracy เท่ากับ:\", metrics.accuracy_score(y_test_B3_HSV, y_pred_B3_HSV))\n",
        "print(\"B4 มี Accuracy เท่ากับ:\", metrics.accuracy_score(y_test_B4_HSV, y_pred_B4_HSV))\n",
        "print(\"C1 มี Accuracy เท่ากับ:\", metrics.accuracy_score(y_test_C1_HSV, y_pred_C1_HSV))\n",
        "print(\"C2 มี Accuracy เท่ากับ:\", metrics.accuracy_score(y_test_C2_HSV, y_pred_C2_HSV))\n",
        "print(\"C3 มี Accuracy เท่ากับ:\", metrics.accuracy_score(y_test_C3_HSV, y_pred_C3_HSV))\n",
        "print(\"C4 มี Accuracy เท่ากับ:\", metrics.accuracy_score(y_test_C4_HSV, y_pred_C4_HSV))\n",
        "print(\"D2 มี Accuracy เท่ากับ:\", metrics.accuracy_score(y_test_D2_HSV, y_pred_D2_HSV))\n",
        "print(\"D3 มี Accuracy เท่ากับ:\", metrics.accuracy_score(y_test_D3_HSV, y_pred_D3_HSV))\n",
        "print(\"D4 มี Accuracy เท่ากับ:\", metrics.accuracy_score(y_test_D4_HSV, y_pred_D4_HSV))"
      ],
      "metadata": {
        "id": "NofOkqvcEKnU",
        "outputId": "d6779e1a-11da-4484-d441-96e2b2eda4ab",
        "colab": {
          "base_uri": "https://localhost:8080/"
        }
      },
      "execution_count": 292,
      "outputs": [
        {
          "output_type": "stream",
          "name": "stdout",
          "text": [
            "A1 มี Accuracy เท่ากับ: 0.16875\n",
            "A2 มี Accuracy เท่ากับ: 0.459375\n",
            "A3 มี Accuracy เท่ากับ: 0.2\n",
            "A3.5 มี Accuracy เท่ากับ: 0.190625\n",
            "A4 มี Accuracy เท่ากับ: 0.4125\n",
            "B1 มี Accuracy เท่ากับ: 0.146875\n",
            "B2 มี Accuracy เท่ากับ: 0.325\n",
            "B3 มี Accuracy เท่ากับ: 0.3125\n",
            "B4 มี Accuracy เท่ากับ: 0.21875\n",
            "C1 มี Accuracy เท่ากับ: 0.1625\n",
            "C2 มี Accuracy เท่ากับ: 0.190625\n",
            "C3 มี Accuracy เท่ากับ: 0.240625\n",
            "C4 มี Accuracy เท่ากับ: 0.371875\n",
            "D2 มี Accuracy เท่ากับ: 0.228125\n",
            "D3 มี Accuracy เท่ากับ: 0.275\n",
            "D4 มี Accuracy เท่ากับ: 0.34375\n"
          ]
        }
      ]
    }
  ]
}