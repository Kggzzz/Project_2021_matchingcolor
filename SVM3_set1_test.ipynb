{
  "nbformat": 4,
  "nbformat_minor": 0,
  "metadata": {
    "colab": {
      "name": "SVM3_set1_test.ipynb",
      "provenance": [],
      "authorship_tag": "ABX9TyP7A6GYLoRHOhLtOJrxl6H9",
      "include_colab_link": true
    },
    "kernelspec": {
      "name": "python3",
      "display_name": "Python 3"
    },
    "language_info": {
      "name": "python"
    }
  },
  "cells": [
    {
      "cell_type": "markdown",
      "metadata": {
        "id": "view-in-github",
        "colab_type": "text"
      },
      "source": [
        "<a href=\"https://colab.research.google.com/github/Kggzzz/Project_2021_matchingcolor/blob/main/SVM3_set1_test.ipynb\" target=\"_parent\"><img src=\"https://colab.research.google.com/assets/colab-badge.svg\" alt=\"Open In Colab\"/></a>"
      ]
    },
    {
      "cell_type": "code",
      "execution_count": 1,
      "metadata": {
        "id": "-cZ0jZK7T4Ai"
      },
      "outputs": [],
      "source": [
        "import pandas as pd"
      ]
    },
    {
      "cell_type": "code",
      "source": [
        "from google.colab import drive \n",
        "drive.mount('/content/drive')"
      ],
      "metadata": {
        "colab": {
          "base_uri": "https://localhost:8080/"
        },
        "id": "Y7V1TPrcZR_T",
        "outputId": "7da045e1-ccd3-4760-a233-2c46e1aebdfa"
      },
      "execution_count": 2,
      "outputs": [
        {
          "output_type": "stream",
          "name": "stdout",
          "text": [
            "Mounted at /content/drive\n"
          ]
        }
      ]
    },
    {
      "cell_type": "code",
      "source": [
        "import os"
      ],
      "metadata": {
        "id": "jya59PReZTM8"
      },
      "execution_count": 3,
      "outputs": []
    },
    {
      "cell_type": "code",
      "source": [
        "path = '/content/drive/My Drive/shadeimg/SVM shade'"
      ],
      "metadata": {
        "id": "cmIn20dmZV1o"
      },
      "execution_count": 4,
      "outputs": []
    },
    {
      "cell_type": "code",
      "source": [
        "os.listdir(path)"
      ],
      "metadata": {
        "colab": {
          "base_uri": "https://localhost:8080/"
        },
        "id": "C8LkZKqkZXU0",
        "outputId": "f18e655f-2576-4978-8479-fd4bda77cab8"
      },
      "execution_count": 5,
      "outputs": [
        {
          "output_type": "execute_result",
          "data": {
            "text/plain": [
              "['DD.xlsx',\n",
              " 'CC.xlsx',\n",
              " 'BB.xlsx',\n",
              " 'Shade_AA.xlsx',\n",
              " 'Shade_CC.xlsx',\n",
              " 'Shade_DD.xlsx',\n",
              " 'Shade_BB.xlsx',\n",
              " 'AA.xlsx',\n",
              " 'AA_2.xlsx',\n",
              " 'Shad_A.xlsx',\n",
              " 'Shad_B.xlsx',\n",
              " 'Shad_C.xlsx',\n",
              " 'Shad_D.xlsx',\n",
              " 'Setting4.xlsx',\n",
              " 'Color-checkerAA.xlsx',\n",
              " 'Color-checkerBB.xlsx',\n",
              " 'Color-checkerCC.xlsx',\n",
              " 'Setting2.xlsx',\n",
              " 'D3set51.csv',\n",
              " 'Setting1.xlsx',\n",
              " 'CheckerDD.xlsx',\n",
              " 'Setting3.xlsx',\n",
              " 'Setting6.xlsx',\n",
              " 'Setting5.xlsx',\n",
              " 'checkerShad_A .xlsx',\n",
              " 'checkerShad_B.xlsx',\n",
              " 'checkerShad_C.xlsx',\n",
              " 'D3Set5-61.xlsx',\n",
              " 'checkerShad_D.xlsx',\n",
              " 'Color-checkerDD.xlsx',\n",
              " 'Datapoint_1.xlsx',\n",
              " 'Datapoint_2.xlsx',\n",
              " 'Datapoint_3.xlsx',\n",
              " 'Datapoint_4.xlsx',\n",
              " 'Datapoint_6.xlsx',\n",
              " 'Datapoint_5.xlsx']"
            ]
          },
          "metadata": {},
          "execution_count": 5
        }
      ]
    },
    {
      "cell_type": "code",
      "source": [
        "Set1 = os.path.join(path,'Datapoint_1.xlsx')\n",
        "print(Set1)"
      ],
      "metadata": {
        "colab": {
          "base_uri": "https://localhost:8080/"
        },
        "id": "Ga4foq2ZZX7c",
        "outputId": "6793bccf-a64e-4b45-ed56-f17c7947404b"
      },
      "execution_count": 6,
      "outputs": [
        {
          "output_type": "stream",
          "name": "stdout",
          "text": [
            "/content/drive/My Drive/shadeimg/SVM shade/Datapoint_1.xlsx\n"
          ]
        }
      ]
    },
    {
      "cell_type": "code",
      "source": [
        "Set2 = os.path.join(path,'Datapoint_2.xlsx')\n",
        "print(Set2)"
      ],
      "metadata": {
        "colab": {
          "base_uri": "https://localhost:8080/"
        },
        "id": "gtsVscJ0aFAy",
        "outputId": "991a5109-4faf-4da1-b093-d8c715106aa4"
      },
      "execution_count": 7,
      "outputs": [
        {
          "output_type": "stream",
          "name": "stdout",
          "text": [
            "/content/drive/My Drive/shadeimg/SVM shade/Datapoint_2.xlsx\n"
          ]
        }
      ]
    },
    {
      "cell_type": "code",
      "source": [
        "Set3 = os.path.join(path,'Datapoint_3.xlsx')\n",
        "print(Set3)"
      ],
      "metadata": {
        "colab": {
          "base_uri": "https://localhost:8080/"
        },
        "id": "-h9WRjWwaGNz",
        "outputId": "ba42cb63-7e8b-4284-8a52-659ab51bc743"
      },
      "execution_count": 8,
      "outputs": [
        {
          "output_type": "stream",
          "name": "stdout",
          "text": [
            "/content/drive/My Drive/shadeimg/SVM shade/Datapoint_3.xlsx\n"
          ]
        }
      ]
    },
    {
      "cell_type": "code",
      "source": [
        "Set4 = os.path.join(path,'Datapoint_4.xlsx')\n",
        "print(Set4)"
      ],
      "metadata": {
        "colab": {
          "base_uri": "https://localhost:8080/"
        },
        "id": "meqQ3flLaHab",
        "outputId": "85732412-9b86-4de5-b5ce-bd86cff8825a"
      },
      "execution_count": 9,
      "outputs": [
        {
          "output_type": "stream",
          "name": "stdout",
          "text": [
            "/content/drive/My Drive/shadeimg/SVM shade/Datapoint_4.xlsx\n"
          ]
        }
      ]
    },
    {
      "cell_type": "code",
      "source": [
        "Set6 = os.path.join(path,'Datapoint_6.xlsx')\n",
        "print(Set6)"
      ],
      "metadata": {
        "colab": {
          "base_uri": "https://localhost:8080/"
        },
        "id": "HZzyzcjm1tVj",
        "outputId": "133aee26-a5c0-441a-84e7-44410e09b6ad"
      },
      "execution_count": 10,
      "outputs": [
        {
          "output_type": "stream",
          "name": "stdout",
          "text": [
            "/content/drive/My Drive/shadeimg/SVM shade/Datapoint_6.xlsx\n"
          ]
        }
      ]
    },
    {
      "cell_type": "code",
      "source": [
        "import numpy as np"
      ],
      "metadata": {
        "id": "Ul_zJOW3aPj3"
      },
      "execution_count": 11,
      "outputs": []
    },
    {
      "cell_type": "code",
      "source": [
        "from sklearn import metrics"
      ],
      "metadata": {
        "id": "A7CIfOAfaQhY"
      },
      "execution_count": 12,
      "outputs": []
    },
    {
      "cell_type": "code",
      "source": [
        "from sklearn import datasets"
      ],
      "metadata": {
        "id": "wnvnwlPaaRxS"
      },
      "execution_count": 13,
      "outputs": []
    },
    {
      "cell_type": "code",
      "source": [
        "from sklearn import svm"
      ],
      "metadata": {
        "id": "lGa_QPEBaSwA"
      },
      "execution_count": 14,
      "outputs": []
    },
    {
      "cell_type": "markdown",
      "source": [
        "#AA"
      ],
      "metadata": {
        "id": "poM422dmJDh0"
      }
    },
    {
      "cell_type": "markdown",
      "source": [
        "##A1"
      ],
      "metadata": {
        "id": "Cb9iZlIWmt1B"
      }
    },
    {
      "cell_type": "code",
      "source": [
        "table_A1Set1 = pd.read_excel(Set1 , sheet_name='A1_1')\n",
        "\n",
        "table_A1Set2 = pd.read_excel(Set2, sheet_name='A1_2')\n",
        "\n",
        "table_A1Set3 = pd.read_excel(Set3, sheet_name='A1_3')\n",
        "\n",
        "table_A1Set4 = pd.read_excel(Set4, sheet_name='A1_4')\n",
        "\n",
        "table_A1Set6 = pd.read_excel(Set6, sheet_name='A1_6')"
      ],
      "metadata": {
        "id": "4Kf9aT59JKhr"
      },
      "execution_count": 31,
      "outputs": []
    },
    {
      "cell_type": "markdown",
      "source": [
        "###RGB"
      ],
      "metadata": {
        "id": "LxojQbqFpTUM"
      }
    },
    {
      "cell_type": "code",
      "source": [
        "clf1 =svm.SVC()"
      ],
      "metadata": {
        "id": "CCYFIj5O2PQW"
      },
      "execution_count": 32,
      "outputs": []
    },
    {
      "cell_type": "code",
      "source": [
        "RGB_A1_Set1 = table_A1Set1.drop(['H-ref','S-ref','V-ref','H-Shad','S-Shad','V-Shad','Setting','Ref','Shad','Img'], axis=1)"
      ],
      "metadata": {
        "id": "uexju8za2St7"
      },
      "execution_count": 33,
      "outputs": []
    },
    {
      "cell_type": "code",
      "source": [
        "RGB_A1_Set2 = table_A1Set2\n",
        "\n",
        "RGB_A1_Set3 = table_A1Set3\n",
        "\n",
        "RGB_A1_Set4 = table_A1Set4\n",
        "\n",
        "RGB_A1_Set6 = table_A1Set6"
      ],
      "metadata": {
        "id": "1pnPSeki2VJf"
      },
      "execution_count": 34,
      "outputs": []
    },
    {
      "cell_type": "code",
      "source": [
        "RGB_A1_concat0 = pd.concat([RGB_A1_Set2,RGB_A1_Set3,RGB_A1_Set4,RGB_A1_Set6])"
      ],
      "metadata": {
        "id": "ish2tjnV2dOn"
      },
      "execution_count": 35,
      "outputs": []
    },
    {
      "cell_type": "code",
      "source": [
        "RGB_A1_concat2 = RGB_A1_concat0.drop(['H-ref','S-ref','V-ref','H-Shad','S-Shad','V-Shad','Setting','Ref','Shad','Img'], axis=1)"
      ],
      "metadata": {
        "id": "hGlrbV602h2u"
      },
      "execution_count": 36,
      "outputs": []
    },
    {
      "cell_type": "code",
      "source": [
        "X_test_A1_RGB = np.array(RGB_A1_Set1)"
      ],
      "metadata": {
        "id": "kf80Bnvx2ksF"
      },
      "execution_count": 37,
      "outputs": []
    },
    {
      "cell_type": "code",
      "source": [
        "y_A1_RGB =  table_A1Set1.iloc[:,14:15]"
      ],
      "metadata": {
        "id": "-taOeLV22muy"
      },
      "execution_count": 38,
      "outputs": []
    },
    {
      "cell_type": "code",
      "source": [
        "y_test_A1_RGB = np.array(y_A1_RGB)"
      ],
      "metadata": {
        "id": "TqnbpbiD2r3V"
      },
      "execution_count": 39,
      "outputs": []
    },
    {
      "cell_type": "code",
      "source": [
        "X_train_A1_RGB = np.array(RGB_A1_concat2)"
      ],
      "metadata": {
        "id": "6reZkxa82uCH"
      },
      "execution_count": 40,
      "outputs": []
    },
    {
      "cell_type": "code",
      "source": [
        "y_train_A1RGB = RGB_A1_concat0.iloc[:,14:15]"
      ],
      "metadata": {
        "id": "VaBz97ae2vAk"
      },
      "execution_count": 41,
      "outputs": []
    },
    {
      "cell_type": "code",
      "source": [
        "y_train_A1_RGB = np.array(y_train_A1RGB)"
      ],
      "metadata": {
        "id": "nlYSktja2v9i"
      },
      "execution_count": 42,
      "outputs": []
    },
    {
      "cell_type": "code",
      "source": [
        "y_train_A1_RGB.shape = (len(y_train_A1_RGB,))"
      ],
      "metadata": {
        "id": "7trCPjsGVq5w"
      },
      "execution_count": 43,
      "outputs": []
    },
    {
      "cell_type": "code",
      "source": [
        "clf1.fit(X_train_A1_RGB, y_train_A1_RGB)"
      ],
      "metadata": {
        "colab": {
          "base_uri": "https://localhost:8080/"
        },
        "id": "1Q1Dn1542xof",
        "outputId": "9dbb108d-5e9c-416c-c30c-952cbb549f5b"
      },
      "execution_count": 44,
      "outputs": [
        {
          "output_type": "execute_result",
          "data": {
            "text/plain": [
              "SVC()"
            ]
          },
          "metadata": {},
          "execution_count": 44
        }
      ]
    },
    {
      "cell_type": "code",
      "source": [
        "y_pred_A1_RGB = clf1.predict(X_test_A1_RGB)"
      ],
      "metadata": {
        "id": "BwZa4xk12ykL"
      },
      "execution_count": 45,
      "outputs": []
    },
    {
      "cell_type": "code",
      "source": [
        "print(\"Accuracy:\", metrics.accuracy_score(y_test_A1_RGB, y_pred_A1_RGB))"
      ],
      "metadata": {
        "colab": {
          "base_uri": "https://localhost:8080/"
        },
        "id": "fQ2jNCMZ2z0z",
        "outputId": "15eb04cc-aa84-488f-995e-e985694c27cf"
      },
      "execution_count": 46,
      "outputs": [
        {
          "output_type": "stream",
          "name": "stdout",
          "text": [
            "Accuracy: 0.2475\n"
          ]
        }
      ]
    },
    {
      "cell_type": "markdown",
      "source": [
        "###HSV"
      ],
      "metadata": {
        "id": "HXG5uLYX23qh"
      }
    },
    {
      "cell_type": "code",
      "source": [
        "clf2 =svm.SVC()"
      ],
      "metadata": {
        "id": "eln-0RNM26dh"
      },
      "execution_count": 47,
      "outputs": []
    },
    {
      "cell_type": "code",
      "source": [
        "HSV_A1_Set1 = table_A1Set1.drop(['R-ref','G-ref','B-ref','R-Shad','G-Shad','B-Shad','Setting','Ref','Shad','Img'], axis=1)"
      ],
      "metadata": {
        "id": "ZESO_55R3yxU"
      },
      "execution_count": 48,
      "outputs": []
    },
    {
      "cell_type": "code",
      "source": [
        "HSV_A1_concat2 = RGB_A1_concat0.drop(['R-ref','G-ref','B-ref','R-Shad','G-Shad','B-Shad','Setting','Ref','Shad','Img'], axis=1)"
      ],
      "metadata": {
        "id": "WK0Ir6EI31KV"
      },
      "execution_count": 49,
      "outputs": []
    },
    {
      "cell_type": "code",
      "source": [
        "X_test_A1_HSV = np.array(HSV_A1_Set1)"
      ],
      "metadata": {
        "id": "CI7kEN7835eL"
      },
      "execution_count": 50,
      "outputs": []
    },
    {
      "cell_type": "code",
      "source": [
        "y_A1_HSV =  table_A1Set1.iloc[:,14:15]"
      ],
      "metadata": {
        "id": "g02iJGh936gB"
      },
      "execution_count": 51,
      "outputs": []
    },
    {
      "cell_type": "code",
      "source": [
        "y_test_A1_HSV = np.array(y_A1_RGB)"
      ],
      "metadata": {
        "id": "V--ATMEe37pl"
      },
      "execution_count": 52,
      "outputs": []
    },
    {
      "cell_type": "code",
      "source": [
        "X_train_A1_HSV = np.array(HSV_A1_concat2)"
      ],
      "metadata": {
        "id": "0qJQocVJ38x0"
      },
      "execution_count": 53,
      "outputs": []
    },
    {
      "cell_type": "code",
      "source": [
        "y_train_A1HSV = RGB_A1_concat0.iloc[:,14:15]"
      ],
      "metadata": {
        "id": "rdacruxs390m"
      },
      "execution_count": 54,
      "outputs": []
    },
    {
      "cell_type": "code",
      "source": [
        "y_train_A1_HSV = np.array(y_train_A1HSV)"
      ],
      "metadata": {
        "id": "99KbAwXt3_HW"
      },
      "execution_count": 55,
      "outputs": []
    },
    {
      "cell_type": "code",
      "source": [
        "y_train_A1_HSV.shape = (len(y_train_A1_HSV,))"
      ],
      "metadata": {
        "id": "9ovJ81mkVvFG"
      },
      "execution_count": 56,
      "outputs": []
    },
    {
      "cell_type": "code",
      "source": [
        "clf2.fit(X_train_A1_HSV, y_train_A1_HSV)"
      ],
      "metadata": {
        "colab": {
          "base_uri": "https://localhost:8080/"
        },
        "id": "rcwDgqqz4ANl",
        "outputId": "6afc954b-686f-44ac-a6fe-0542549709ee"
      },
      "execution_count": 57,
      "outputs": [
        {
          "output_type": "execute_result",
          "data": {
            "text/plain": [
              "SVC()"
            ]
          },
          "metadata": {},
          "execution_count": 57
        }
      ]
    },
    {
      "cell_type": "code",
      "source": [
        "y_pred_A1_HSV = clf2.predict(X_test_A1_HSV)"
      ],
      "metadata": {
        "id": "4o89fBrQ4BLw"
      },
      "execution_count": 58,
      "outputs": []
    },
    {
      "cell_type": "code",
      "source": [
        "print(\"Accuracy:\", metrics.accuracy_score(y_test_A1_HSV, y_pred_A1_HSV))"
      ],
      "metadata": {
        "colab": {
          "base_uri": "https://localhost:8080/"
        },
        "id": "GdHKAU6T4CJE",
        "outputId": "3ed81101-01d3-4219-caae-089956fd7277"
      },
      "execution_count": 59,
      "outputs": [
        {
          "output_type": "stream",
          "name": "stdout",
          "text": [
            "Accuracy: 0.2675\n"
          ]
        }
      ]
    },
    {
      "cell_type": "markdown",
      "source": [
        "##A2"
      ],
      "metadata": {
        "id": "YiCpdmgVfsgl"
      }
    },
    {
      "cell_type": "code",
      "source": [
        "table_A2Set1 = pd.read_excel(Set1 , sheet_name='A2_1')\n",
        "\n",
        "table_A2Set2 = pd.read_excel(Set2 , sheet_name='A2_2')\n",
        "\n",
        "table_A2Set3 = pd.read_excel(Set3 , sheet_name='A2_3')\n",
        "\n",
        "table_A2Set4 = pd.read_excel(Set4 , sheet_name='A2_4')\n",
        "\n",
        "table_A2Set6 = pd.read_excel(Set6 , sheet_name='A2_6')"
      ],
      "metadata": {
        "id": "cQqaNLeMfsgm"
      },
      "execution_count": 60,
      "outputs": []
    },
    {
      "cell_type": "markdown",
      "source": [
        "###RGB"
      ],
      "metadata": {
        "id": "oRvHAVySfsgn"
      }
    },
    {
      "cell_type": "code",
      "source": [
        "clf3=svm.SVC()"
      ],
      "metadata": {
        "id": "AdZjjys8ji8y"
      },
      "execution_count": 61,
      "outputs": []
    },
    {
      "cell_type": "code",
      "source": [
        "RGB_A2_Set1 = table_A2Set1.drop(['H-ref','S-ref','V-ref','H-Shad','S-Shad','V-Shad','Setting','Ref','Shad','Img'], axis=1)"
      ],
      "metadata": {
        "id": "0joCSr_Rfsgn"
      },
      "execution_count": 62,
      "outputs": []
    },
    {
      "cell_type": "code",
      "source": [
        "RGB_A2_Set2 = table_A2Set2\n",
        "\n",
        "RGB_A2_Set3 = table_A2Set3\n",
        "\n",
        "RGB_A2_Set4 = table_A2Set4\n",
        "\n",
        "RGB_A2_Set6 = table_A2Set6"
      ],
      "metadata": {
        "id": "RdIInq3Ifsgo"
      },
      "execution_count": 63,
      "outputs": []
    },
    {
      "cell_type": "code",
      "source": [
        "RGB_A2_concat0 = pd.concat([RGB_A2_Set2,RGB_A2_Set3,RGB_A2_Set4,RGB_A2_Set6])"
      ],
      "metadata": {
        "id": "s4A2Dg3ifsgo"
      },
      "execution_count": 64,
      "outputs": []
    },
    {
      "cell_type": "code",
      "source": [
        "RGB_A2_concat2 = RGB_A2_concat0.drop(['H-ref','S-ref','V-ref','H-Shad','S-Shad','V-Shad','Setting','Ref','Shad','Img'], axis=1)"
      ],
      "metadata": {
        "id": "efAFS1B-fsgo"
      },
      "execution_count": 65,
      "outputs": []
    },
    {
      "cell_type": "code",
      "source": [
        "X_test_A2_RGB = np.array(RGB_A2_Set1)"
      ],
      "metadata": {
        "id": "5L9ie-Cufsgp"
      },
      "execution_count": 66,
      "outputs": []
    },
    {
      "cell_type": "code",
      "source": [
        "y_A2_RGB =  table_A2Set1.iloc[:,14:15]"
      ],
      "metadata": {
        "id": "V1oBKY80fsgp"
      },
      "execution_count": 67,
      "outputs": []
    },
    {
      "cell_type": "code",
      "source": [
        "y_test_A2_RGB = np.array(y_A2_RGB)"
      ],
      "metadata": {
        "id": "b7DmzU6ffsgp"
      },
      "execution_count": 68,
      "outputs": []
    },
    {
      "cell_type": "code",
      "source": [
        "X_train_A2_RGB = np.array(RGB_A2_concat2)"
      ],
      "metadata": {
        "id": "uOykvjBWfsgp"
      },
      "execution_count": 69,
      "outputs": []
    },
    {
      "cell_type": "code",
      "source": [
        "y_train_A2RGB = RGB_A2_concat0.iloc[:,14:15]"
      ],
      "metadata": {
        "id": "u56pkV_xfsgp"
      },
      "execution_count": 70,
      "outputs": []
    },
    {
      "cell_type": "code",
      "source": [
        "y_train_A2_RGB = np.array(y_train_A2RGB)"
      ],
      "metadata": {
        "id": "DdWkKadofsgp"
      },
      "execution_count": 71,
      "outputs": []
    },
    {
      "cell_type": "code",
      "source": [
        "y_train_A2_RGB.shape = (len(y_train_A2_RGB,))"
      ],
      "metadata": {
        "id": "2cUTOy0uVyUx"
      },
      "execution_count": 72,
      "outputs": []
    },
    {
      "cell_type": "code",
      "source": [
        "clf3.fit(X_train_A2_RGB, y_train_A2_RGB)"
      ],
      "metadata": {
        "colab": {
          "base_uri": "https://localhost:8080/"
        },
        "outputId": "8bdca5fa-b138-4024-9a87-b66efc47ab1f",
        "id": "nJlXfRCvfsgq"
      },
      "execution_count": 73,
      "outputs": [
        {
          "output_type": "execute_result",
          "data": {
            "text/plain": [
              "SVC()"
            ]
          },
          "metadata": {},
          "execution_count": 73
        }
      ]
    },
    {
      "cell_type": "code",
      "source": [
        "y_pred_A2_RGB = clf3.predict(X_test_A2_RGB)"
      ],
      "metadata": {
        "id": "Mr4rCcPifsgq"
      },
      "execution_count": 74,
      "outputs": []
    },
    {
      "cell_type": "code",
      "source": [
        "print(\"Accuracy:\", metrics.accuracy_score(y_test_A2_RGB, y_pred_A2_RGB))"
      ],
      "metadata": {
        "colab": {
          "base_uri": "https://localhost:8080/"
        },
        "outputId": "d2984d1e-3ec2-47cd-cfde-563d2dfdfdcd",
        "id": "BkA5kF5Vfsgq"
      },
      "execution_count": 75,
      "outputs": [
        {
          "output_type": "stream",
          "name": "stdout",
          "text": [
            "Accuracy: 0.2025\n"
          ]
        }
      ]
    },
    {
      "cell_type": "markdown",
      "source": [
        "###HSV"
      ],
      "metadata": {
        "id": "RZb3Xue3fsgq"
      }
    },
    {
      "cell_type": "code",
      "source": [
        "clf4=svm.SVC()"
      ],
      "metadata": {
        "id": "5-WIM94ZjmF7"
      },
      "execution_count": 76,
      "outputs": []
    },
    {
      "cell_type": "code",
      "source": [
        "HSV_A2_Set1 = table_A2Set1.drop(['R-ref','G-ref','B-ref','R-Shad','G-Shad','B-Shad','Setting','Ref','Shad','Img'], axis=1)"
      ],
      "metadata": {
        "id": "UBWdPn2ffsgq"
      },
      "execution_count": 77,
      "outputs": []
    },
    {
      "cell_type": "code",
      "source": [
        "HSV_A2_concat2 = RGB_A2_concat0.drop(['H-ref','S-ref','V-ref','H-Shad','S-Shad','V-Shad','Setting','Ref','Shad','Img'], axis=1)"
      ],
      "metadata": {
        "id": "TOLzHUcIfsgr"
      },
      "execution_count": 78,
      "outputs": []
    },
    {
      "cell_type": "code",
      "source": [
        "X_test_A2_HSV = np.array(HSV_A2_Set1)"
      ],
      "metadata": {
        "id": "jbg9-iKkfsgr"
      },
      "execution_count": 79,
      "outputs": []
    },
    {
      "cell_type": "code",
      "source": [
        "y_A2_HSV =  table_A2Set1.iloc[:,14:15]"
      ],
      "metadata": {
        "id": "XQBJSPXpfsgr"
      },
      "execution_count": 80,
      "outputs": []
    },
    {
      "cell_type": "code",
      "source": [
        "y_test_A2_HSV = np.array(y_A2_RGB)"
      ],
      "metadata": {
        "id": "G0mJHUDtfsgr"
      },
      "execution_count": 81,
      "outputs": []
    },
    {
      "cell_type": "code",
      "source": [
        "X_train_A2_HSV = np.array(HSV_A2_concat2)"
      ],
      "metadata": {
        "id": "MYuphJxqfsgr"
      },
      "execution_count": 82,
      "outputs": []
    },
    {
      "cell_type": "code",
      "source": [
        "y_train_A2HSV = RGB_A2_concat0.iloc[:,14:15]"
      ],
      "metadata": {
        "id": "xldroU3hfsgr"
      },
      "execution_count": 83,
      "outputs": []
    },
    {
      "cell_type": "code",
      "source": [
        "y_train_A2_HSV = np.array(y_train_A2HSV)"
      ],
      "metadata": {
        "id": "Gjz_GGx3fsgr"
      },
      "execution_count": 84,
      "outputs": []
    },
    {
      "cell_type": "code",
      "source": [
        "y_train_A2_HSV.shape = (len(y_train_A2_HSV,))"
      ],
      "metadata": {
        "id": "lgddGcnhV1KP"
      },
      "execution_count": 85,
      "outputs": []
    },
    {
      "cell_type": "code",
      "source": [
        "clf4.fit(X_train_A2_HSV, y_train_A2_HSV)"
      ],
      "metadata": {
        "colab": {
          "base_uri": "https://localhost:8080/"
        },
        "outputId": "3f8c826a-35d7-4a25-a70d-b7b381d2a745",
        "id": "_Hd02RyCfsgs"
      },
      "execution_count": 86,
      "outputs": [
        {
          "output_type": "execute_result",
          "data": {
            "text/plain": [
              "SVC()"
            ]
          },
          "metadata": {},
          "execution_count": 86
        }
      ]
    },
    {
      "cell_type": "code",
      "source": [
        "y_pred_A2_HSV = clf4.predict(X_test_A2_HSV)"
      ],
      "metadata": {
        "id": "mTrqWErPfsgs"
      },
      "execution_count": 87,
      "outputs": []
    },
    {
      "cell_type": "code",
      "source": [
        "print(\"Accuracy:\", metrics.accuracy_score(y_test_A2_HSV, y_pred_A2_HSV))"
      ],
      "metadata": {
        "colab": {
          "base_uri": "https://localhost:8080/"
        },
        "outputId": "ef01f2f9-dbbd-446d-f1ac-dd6567ec92a7",
        "id": "w9a9emMufsgs"
      },
      "execution_count": 88,
      "outputs": [
        {
          "output_type": "stream",
          "name": "stdout",
          "text": [
            "Accuracy: 0.0625\n"
          ]
        }
      ]
    },
    {
      "cell_type": "markdown",
      "source": [
        "##A3"
      ],
      "metadata": {
        "id": "PHQLHF5yh0le"
      }
    },
    {
      "cell_type": "code",
      "source": [
        "table_A3Set1 = pd.read_excel(Set1 , sheet_name='A3_1')\n",
        "\n",
        "table_A3Set2 = pd.read_excel(Set2 , sheet_name='A3_2')\n",
        "\n",
        "table_A3Set3 = pd.read_excel(Set3 , sheet_name='A3_3')\n",
        "\n",
        "table_A3Set4 = pd.read_excel(Set4 , sheet_name='A3_4')\n",
        "\n",
        "table_A3Set6 = pd.read_excel(Set6 , sheet_name='A3_6')"
      ],
      "metadata": {
        "id": "3XA21fdZh0le"
      },
      "execution_count": 89,
      "outputs": []
    },
    {
      "cell_type": "markdown",
      "source": [
        "###RGB"
      ],
      "metadata": {
        "id": "HoVTXFtnh0lf"
      }
    },
    {
      "cell_type": "code",
      "source": [
        "clf5=svm.SVC()"
      ],
      "metadata": {
        "id": "mLXqv-jVjqh8"
      },
      "execution_count": 90,
      "outputs": []
    },
    {
      "cell_type": "code",
      "source": [
        "RGB_A3_Set1 = table_A3Set1.drop(['H-ref','S-ref','V-ref','H-Shad','S-Shad','V-Shad','Setting','Ref','Shad','Img'], axis=1)"
      ],
      "metadata": {
        "id": "Vk9mUgzNh0lf"
      },
      "execution_count": 91,
      "outputs": []
    },
    {
      "cell_type": "code",
      "source": [
        "RGB_A3_Set2 = table_A3Set2\n",
        "\n",
        "RGB_A3_Set3 = table_A3Set3\n",
        "\n",
        "RGB_A3_Set4 = table_A3Set4\n",
        "\n",
        "RGB_A3_Set6 = table_A3Set6"
      ],
      "metadata": {
        "id": "LDbpm3y5h0lf"
      },
      "execution_count": 92,
      "outputs": []
    },
    {
      "cell_type": "code",
      "source": [
        "RGB_A3_concat0 = pd.concat([RGB_A3_Set2,RGB_A3_Set3,RGB_A3_Set4,RGB_A3_Set6])"
      ],
      "metadata": {
        "id": "4pA-hfDZduq-"
      },
      "execution_count": 93,
      "outputs": []
    },
    {
      "cell_type": "code",
      "source": [
        "RGB_A3_concat2 = RGB_A3_concat0.drop(['H-ref','S-ref','V-ref','H-Shad','S-Shad','V-Shad','Setting','Ref','Shad','Img'], axis=1)"
      ],
      "metadata": {
        "id": "giMn7WiRh0lg"
      },
      "execution_count": 94,
      "outputs": []
    },
    {
      "cell_type": "code",
      "source": [
        "X_test_A3_RGB = np.array(RGB_A3_Set1)"
      ],
      "metadata": {
        "id": "t2Oh3U-6h0lg"
      },
      "execution_count": 95,
      "outputs": []
    },
    {
      "cell_type": "code",
      "source": [
        "y_A3_RGB =  table_A3Set1.iloc[:,14:15]"
      ],
      "metadata": {
        "id": "c5mW71sgh0lg"
      },
      "execution_count": 96,
      "outputs": []
    },
    {
      "cell_type": "code",
      "source": [
        "y_test_A3_RGB = np.array(y_A3_RGB)"
      ],
      "metadata": {
        "id": "vFW4TBk2h0lg"
      },
      "execution_count": 97,
      "outputs": []
    },
    {
      "cell_type": "code",
      "source": [
        "X_train_A3_RGB = np.array(RGB_A3_concat2)"
      ],
      "metadata": {
        "id": "FrKDluEmh0lg"
      },
      "execution_count": 98,
      "outputs": []
    },
    {
      "cell_type": "code",
      "source": [
        "y_train_A3RGB = RGB_A3_concat0.iloc[:,14:15]"
      ],
      "metadata": {
        "id": "qhAriA-9h0lg"
      },
      "execution_count": 99,
      "outputs": []
    },
    {
      "cell_type": "code",
      "source": [
        "y_train_A3_RGB = np.array(y_train_A3RGB)"
      ],
      "metadata": {
        "id": "mFmZVCgZh0lg"
      },
      "execution_count": 100,
      "outputs": []
    },
    {
      "cell_type": "code",
      "source": [
        "y_train_A3_RGB.shape = (len(y_train_A3_RGB,))"
      ],
      "metadata": {
        "id": "4U3PwWf4V4k7"
      },
      "execution_count": 101,
      "outputs": []
    },
    {
      "cell_type": "code",
      "source": [
        "clf5.fit(X_train_A3_RGB, y_train_A3_RGB)"
      ],
      "metadata": {
        "colab": {
          "base_uri": "https://localhost:8080/"
        },
        "outputId": "5bd523a6-d9b2-45e1-d184-0956a832ed6d",
        "id": "tj0T259Ih0lh"
      },
      "execution_count": 102,
      "outputs": [
        {
          "output_type": "execute_result",
          "data": {
            "text/plain": [
              "SVC()"
            ]
          },
          "metadata": {},
          "execution_count": 102
        }
      ]
    },
    {
      "cell_type": "code",
      "source": [
        "y_pred_A3_RGB = clf5.predict(X_test_A3_RGB)"
      ],
      "metadata": {
        "id": "nFB2J2xSh0lh"
      },
      "execution_count": 103,
      "outputs": []
    },
    {
      "cell_type": "code",
      "source": [
        "print(\"Accuracy:\", metrics.accuracy_score(y_test_A3_RGB, y_pred_A3_RGB))"
      ],
      "metadata": {
        "colab": {
          "base_uri": "https://localhost:8080/"
        },
        "outputId": "3db03efc-4637-4c8d-fa5c-064f00c6392e",
        "id": "o6T3HmYeh0lh"
      },
      "execution_count": 104,
      "outputs": [
        {
          "output_type": "stream",
          "name": "stdout",
          "text": [
            "Accuracy: 0.2275\n"
          ]
        }
      ]
    },
    {
      "cell_type": "markdown",
      "source": [
        "###HSV"
      ],
      "metadata": {
        "id": "7fRDUIm4h0lh"
      }
    },
    {
      "cell_type": "code",
      "source": [
        "clf6=svm.SVC()"
      ],
      "metadata": {
        "id": "rFEahA70jtqt"
      },
      "execution_count": 105,
      "outputs": []
    },
    {
      "cell_type": "code",
      "source": [
        "HSV_A3_Set1 = table_A3Set1.drop(['R-ref','G-ref','B-ref','R-Shad','G-Shad','B-Shad','Setting','Ref','Shad','Img'], axis=1)"
      ],
      "metadata": {
        "id": "9kVGkRzvh0lh"
      },
      "execution_count": 106,
      "outputs": []
    },
    {
      "cell_type": "code",
      "source": [
        "HSV_A3_concat2 = RGB_A3_concat0.drop(['R-ref','G-ref','B-ref','R-Shad','G-Shad','B-Shad','Setting','Ref','Shad','Img'], axis=1)"
      ],
      "metadata": {
        "id": "3dB7gOBuh0li"
      },
      "execution_count": 107,
      "outputs": []
    },
    {
      "cell_type": "code",
      "source": [
        "X_test_A3_HSV = np.array(HSV_A3_Set1)"
      ],
      "metadata": {
        "id": "fyV1KV7eh0li"
      },
      "execution_count": 108,
      "outputs": []
    },
    {
      "cell_type": "code",
      "source": [
        "y_A3_HSV =  table_A3Set1.iloc[:,14:15]"
      ],
      "metadata": {
        "id": "3s_tC7uuh0li"
      },
      "execution_count": 109,
      "outputs": []
    },
    {
      "cell_type": "code",
      "source": [
        "y_test_A3_HSV = np.array(y_A3_RGB)"
      ],
      "metadata": {
        "id": "ee6hCQxLh0li"
      },
      "execution_count": 110,
      "outputs": []
    },
    {
      "cell_type": "code",
      "source": [
        "X_train_A3_HSV = np.array(HSV_A3_concat2)"
      ],
      "metadata": {
        "id": "I4eE7wQBh0li"
      },
      "execution_count": 111,
      "outputs": []
    },
    {
      "cell_type": "code",
      "source": [
        "y_train_A3HSV = RGB_A3_concat0.iloc[:,14:15]"
      ],
      "metadata": {
        "id": "C4FhoMswh0li"
      },
      "execution_count": 112,
      "outputs": []
    },
    {
      "cell_type": "code",
      "source": [
        "y_train_A3_HSV = np.array(y_train_A3HSV)"
      ],
      "metadata": {
        "id": "YLC-DmyLh0li"
      },
      "execution_count": 113,
      "outputs": []
    },
    {
      "cell_type": "code",
      "source": [
        "y_train_A3_HSV.shape = (len(y_train_A3_HSV,))"
      ],
      "metadata": {
        "id": "sUVwW76JV7Eb"
      },
      "execution_count": 114,
      "outputs": []
    },
    {
      "cell_type": "code",
      "source": [
        "clf6.fit(X_train_A3_HSV, y_train_A3_HSV)"
      ],
      "metadata": {
        "colab": {
          "base_uri": "https://localhost:8080/"
        },
        "outputId": "fd98d9f1-8e3d-418e-afd2-91020391350b",
        "id": "ofA6k6FYh0li"
      },
      "execution_count": 115,
      "outputs": [
        {
          "output_type": "execute_result",
          "data": {
            "text/plain": [
              "SVC()"
            ]
          },
          "metadata": {},
          "execution_count": 115
        }
      ]
    },
    {
      "cell_type": "code",
      "source": [
        "y_pred_A3_HSV = clf6.predict(X_test_A3_HSV)"
      ],
      "metadata": {
        "id": "qKQL86MOh0lj"
      },
      "execution_count": 116,
      "outputs": []
    },
    {
      "cell_type": "code",
      "source": [
        "print(\"Accuracy:\", metrics.accuracy_score(y_test_A3_HSV, y_pred_A3_HSV))"
      ],
      "metadata": {
        "colab": {
          "base_uri": "https://localhost:8080/"
        },
        "outputId": "613b6833-c810-4d98-988f-0e70a0aee4ae",
        "id": "2lCd48LPh0lj"
      },
      "execution_count": 117,
      "outputs": [
        {
          "output_type": "stream",
          "name": "stdout",
          "text": [
            "Accuracy: 0.23625\n"
          ]
        }
      ]
    },
    {
      "cell_type": "markdown",
      "source": [
        "##A3.5"
      ],
      "metadata": {
        "id": "480etiaejoWu"
      }
    },
    {
      "cell_type": "code",
      "source": [
        "clf7=svm.SVC()"
      ],
      "metadata": {
        "id": "MIPTPHf7jw-H"
      },
      "execution_count": 118,
      "outputs": []
    },
    {
      "cell_type": "code",
      "source": [
        "table_A3_5Set1 = pd.read_excel(Set1 , sheet_name='A3.5_1')\n",
        "\n",
        "table_A3_5Set2 = pd.read_excel(Set2 , sheet_name='A3.5_2')\n",
        "\n",
        "table_A3_5Set3 = pd.read_excel(Set3 , sheet_name='A3.5_3')\n",
        "\n",
        "table_A3_5Set4 = pd.read_excel(Set4 , sheet_name='A3.5_4')\n",
        "\n",
        "table_A3_5Set6 = pd.read_excel(Set6 , sheet_name='A3.5_6')"
      ],
      "metadata": {
        "id": "mXi7Gb9pjoWu"
      },
      "execution_count": 119,
      "outputs": []
    },
    {
      "cell_type": "markdown",
      "source": [
        "###RGB"
      ],
      "metadata": {
        "id": "szqdEZaHjoWv"
      }
    },
    {
      "cell_type": "code",
      "source": [
        "RGB_A3_5_Set1 = table_A3_5Set1.drop(['H-ref','S-ref','V-ref','H-Shad','S-Shad','V-Shad','Setting','Ref','Shad','Img'], axis=1)"
      ],
      "metadata": {
        "id": "k3kvC36YjoWv"
      },
      "execution_count": 120,
      "outputs": []
    },
    {
      "cell_type": "code",
      "source": [
        "RGB_A3_5_Set2 = table_A3_5Set2\n",
        "\n",
        "RGB_A3_5_Set3 = table_A3_5Set3\n",
        "\n",
        "RGB_A3_5_Set4 = table_A3_5Set4\n",
        "\n",
        "RGB_A3_5_Set6 = table_A3_5Set6"
      ],
      "metadata": {
        "id": "gFpr3qLfjoWv"
      },
      "execution_count": 121,
      "outputs": []
    },
    {
      "cell_type": "code",
      "source": [
        "RGB_A3_5_concat0 = pd.concat([RGB_A3_5_Set2,RGB_A3_5_Set3,RGB_A3_5_Set4,RGB_A3_5_Set6])"
      ],
      "metadata": {
        "id": "LBO9ruQPfsDz"
      },
      "execution_count": 122,
      "outputs": []
    },
    {
      "cell_type": "code",
      "source": [
        "RGB_A3_5_concat2 = RGB_A3_5_concat0.drop(['H-ref','S-ref','V-ref','H-Shad','S-Shad','V-Shad','Setting','Ref','Shad','Img'], axis=1)"
      ],
      "metadata": {
        "id": "OIKxmY3pjoWv"
      },
      "execution_count": 123,
      "outputs": []
    },
    {
      "cell_type": "code",
      "source": [
        "X_test_A3_5_RGB = np.array(RGB_A3_5_Set1)"
      ],
      "metadata": {
        "id": "cYD4qo1XjoWw"
      },
      "execution_count": 124,
      "outputs": []
    },
    {
      "cell_type": "code",
      "source": [
        "y_A3_5_RGB =  table_A3_5Set1.iloc[:,14:15]"
      ],
      "metadata": {
        "id": "vJxHOjUkjoWw"
      },
      "execution_count": 125,
      "outputs": []
    },
    {
      "cell_type": "code",
      "source": [
        "y_test_A3_5_RGB = np.array(y_A3_5_RGB)"
      ],
      "metadata": {
        "id": "cobCJjzljoWw"
      },
      "execution_count": 126,
      "outputs": []
    },
    {
      "cell_type": "code",
      "source": [
        "X_train_A3_5_RGB = np.array(RGB_A3_5_concat2)"
      ],
      "metadata": {
        "id": "dfMok11LjoWw"
      },
      "execution_count": 127,
      "outputs": []
    },
    {
      "cell_type": "code",
      "source": [
        "y_train_A3_5RGB = RGB_A3_5_concat0.iloc[:,14:15]"
      ],
      "metadata": {
        "id": "MjjBCpJ4joWw"
      },
      "execution_count": 128,
      "outputs": []
    },
    {
      "cell_type": "code",
      "source": [
        "y_train_A3_5_RGB = np.array(y_train_A3_5RGB)"
      ],
      "metadata": {
        "id": "CmWagAKLjoWw"
      },
      "execution_count": 129,
      "outputs": []
    },
    {
      "cell_type": "code",
      "source": [
        "y_train_A3_5_RGB.shape = (len(y_train_A3_5_RGB,))"
      ],
      "metadata": {
        "id": "6AAoNr_0V_zM"
      },
      "execution_count": 130,
      "outputs": []
    },
    {
      "cell_type": "code",
      "source": [
        "clf7.fit(X_train_A3_5_RGB, y_train_A3_5_RGB)"
      ],
      "metadata": {
        "colab": {
          "base_uri": "https://localhost:8080/"
        },
        "outputId": "c7c937af-032f-4281-dd31-15e3c57b12af",
        "id": "9LZJjOA2joWw"
      },
      "execution_count": 131,
      "outputs": [
        {
          "output_type": "execute_result",
          "data": {
            "text/plain": [
              "SVC()"
            ]
          },
          "metadata": {},
          "execution_count": 131
        }
      ]
    },
    {
      "cell_type": "code",
      "source": [
        "y_pred_A3_5_RGB = clf7.predict(X_test_A3_5_RGB)"
      ],
      "metadata": {
        "id": "XArHxf8ujoWw"
      },
      "execution_count": 132,
      "outputs": []
    },
    {
      "cell_type": "code",
      "source": [
        "print(\"Accuracy:\", metrics.accuracy_score(y_test_A3_5_RGB, y_pred_A3_5_RGB))"
      ],
      "metadata": {
        "colab": {
          "base_uri": "https://localhost:8080/"
        },
        "outputId": "2c3d9510-ba05-4ac1-f004-8abf232a61e6",
        "id": "R2MXW1HujoWw"
      },
      "execution_count": 133,
      "outputs": [
        {
          "output_type": "stream",
          "name": "stdout",
          "text": [
            "Accuracy: 0.1575\n"
          ]
        }
      ]
    },
    {
      "cell_type": "markdown",
      "source": [
        "###HSV"
      ],
      "metadata": {
        "id": "_IExAm4gjoWx"
      }
    },
    {
      "cell_type": "code",
      "source": [
        "clf8=svm.SVC()"
      ],
      "metadata": {
        "id": "Y7mgJ71tj1JW"
      },
      "execution_count": 134,
      "outputs": []
    },
    {
      "cell_type": "code",
      "source": [
        "HSV_A3_5_Set1 = table_A3_5Set1.drop(['R-ref','G-ref','B-ref','R-Shad','G-Shad','B-Shad','Setting','Ref','Shad','Img'], axis=1)"
      ],
      "metadata": {
        "id": "lhj5PV07joWx"
      },
      "execution_count": 135,
      "outputs": []
    },
    {
      "cell_type": "code",
      "source": [
        "HSV_A3_5_concat2 = RGB_A3_5_concat0.drop(['R-ref','G-ref','B-ref','R-Shad','G-Shad','B-Shad','Setting','Ref','Shad','Img'], axis=1)"
      ],
      "metadata": {
        "id": "8oHPZ7YajoWx"
      },
      "execution_count": 136,
      "outputs": []
    },
    {
      "cell_type": "code",
      "source": [
        "X_test_A3_5_HSV = np.array(HSV_A3_5_Set1)"
      ],
      "metadata": {
        "id": "cZ2L64gojoWx"
      },
      "execution_count": 137,
      "outputs": []
    },
    {
      "cell_type": "code",
      "source": [
        "y_A3_5_HSV =  table_A3_5Set1.iloc[:,14:15]"
      ],
      "metadata": {
        "id": "fKuRKeGXjoWx"
      },
      "execution_count": 138,
      "outputs": []
    },
    {
      "cell_type": "code",
      "source": [
        "y_test_A3_5_HSV = np.array(y_A3_5_RGB)"
      ],
      "metadata": {
        "id": "FA7kZYn2joWx"
      },
      "execution_count": 139,
      "outputs": []
    },
    {
      "cell_type": "code",
      "source": [
        "X_train_A3_5_HSV = np.array(HSV_A3_5_concat2)"
      ],
      "metadata": {
        "id": "Lpr6XTwwjoWx"
      },
      "execution_count": 140,
      "outputs": []
    },
    {
      "cell_type": "code",
      "source": [
        "y_train_A3_5HSV = RGB_A3_5_concat0.iloc[:,14:15]"
      ],
      "metadata": {
        "id": "fU-86S2TjoWx"
      },
      "execution_count": 141,
      "outputs": []
    },
    {
      "cell_type": "code",
      "source": [
        "y_train_A3_5_HSV = np.array(y_train_A3_5HSV)"
      ],
      "metadata": {
        "id": "dLsM5Ta9joWx"
      },
      "execution_count": 142,
      "outputs": []
    },
    {
      "cell_type": "code",
      "source": [
        "y_train_A3_5_HSV.shape = (len(y_train_A3_5_HSV,))"
      ],
      "metadata": {
        "id": "XZXqNpNpWBj2"
      },
      "execution_count": 143,
      "outputs": []
    },
    {
      "cell_type": "code",
      "source": [
        "clf8.fit(X_train_A3_5_HSV, y_train_A3_5_HSV)"
      ],
      "metadata": {
        "colab": {
          "base_uri": "https://localhost:8080/"
        },
        "outputId": "4951e424-a294-485c-e76d-cf4a621be57f",
        "id": "YyIuDeUHjoWy"
      },
      "execution_count": 144,
      "outputs": [
        {
          "output_type": "execute_result",
          "data": {
            "text/plain": [
              "SVC()"
            ]
          },
          "metadata": {},
          "execution_count": 144
        }
      ]
    },
    {
      "cell_type": "code",
      "source": [
        "y_pred_A3_5_HSV = clf8.predict(X_test_A3_5_HSV)"
      ],
      "metadata": {
        "id": "3vwQoGB9joWy"
      },
      "execution_count": 145,
      "outputs": []
    },
    {
      "cell_type": "code",
      "source": [
        "print(\"Accuracy:\", metrics.accuracy_score(y_test_A3_5_HSV, y_pred_A3_5_HSV))"
      ],
      "metadata": {
        "colab": {
          "base_uri": "https://localhost:8080/"
        },
        "outputId": "c2b0089c-35f3-424b-f991-df326cfa0f54",
        "id": "ztP1KhpfjoWy"
      },
      "execution_count": 146,
      "outputs": [
        {
          "output_type": "stream",
          "name": "stdout",
          "text": [
            "Accuracy: 0.1075\n"
          ]
        }
      ]
    },
    {
      "cell_type": "markdown",
      "source": [
        "##A4"
      ],
      "metadata": {
        "id": "QtddIFhZmT6y"
      }
    },
    {
      "cell_type": "code",
      "source": [
        "table_A4Set1 = pd.read_excel(Set1 , sheet_name='A4_1')\n",
        "\n",
        "table_A4Set2 = pd.read_excel(Set2 , sheet_name='A4_2')\n",
        "\n",
        "table_A4Set3 = pd.read_excel(Set3 , sheet_name='A4_3')\n",
        "\n",
        "table_A4Set4 = pd.read_excel(Set4 , sheet_name='A4_4')\n",
        "\n",
        "table_A4Set6 = pd.read_excel(Set6 , sheet_name='A4_6')"
      ],
      "metadata": {
        "id": "UTdvgDYRmT6y"
      },
      "execution_count": 15,
      "outputs": []
    },
    {
      "cell_type": "markdown",
      "source": [
        "###RGB"
      ],
      "metadata": {
        "id": "xkr8_V_nmT6z"
      }
    },
    {
      "cell_type": "code",
      "source": [
        "clf9=svm.SVC()"
      ],
      "metadata": {
        "id": "fJt7HOuBj44J"
      },
      "execution_count": 16,
      "outputs": []
    },
    {
      "cell_type": "code",
      "source": [
        "RGB_A4_Set1 = table_A4Set1.drop(['H-ref','S-ref','V-ref','H-Shad','S-Shad','V-Shad','Setting','Ref','Shad','Img'], axis=1)"
      ],
      "metadata": {
        "id": "72idAyO1mT6z"
      },
      "execution_count": 17,
      "outputs": []
    },
    {
      "cell_type": "code",
      "source": [
        "RGB_A4_Set2 = table_A4Set2\n",
        "\n",
        "RGB_A4_Set3 = table_A4Set3\n",
        "\n",
        "RGB_A4_Set4 = table_A4Set4\n",
        "\n",
        "RGB_A4_Set6 = table_A4Set6"
      ],
      "metadata": {
        "id": "Gl4tUns2mT6z"
      },
      "execution_count": 18,
      "outputs": []
    },
    {
      "cell_type": "code",
      "source": [
        "RGB_A4_concat0 = pd.concat([RGB_A4_Set2,RGB_A4_Set3,RGB_A4_Set4,RGB_A4_Set6])"
      ],
      "metadata": {
        "id": "JZhUVRKzgwC0"
      },
      "execution_count": 19,
      "outputs": []
    },
    {
      "cell_type": "code",
      "source": [
        "RGB_A4_concat2 = RGB_A4_concat0.drop(['H-ref','S-ref','V-ref','H-Shad','S-Shad','V-Shad','Setting','Ref','Shad','Img'], axis=1)"
      ],
      "metadata": {
        "id": "27nGfKormT60"
      },
      "execution_count": 20,
      "outputs": []
    },
    {
      "cell_type": "code",
      "source": [
        "X_test_A4_RGB = np.array(RGB_A4_Set1)"
      ],
      "metadata": {
        "id": "Qc4YS3uHmT60"
      },
      "execution_count": 21,
      "outputs": []
    },
    {
      "cell_type": "code",
      "source": [
        "y_A4_RGB =  table_A4Set1.iloc[:,14:15]"
      ],
      "metadata": {
        "id": "tqo97GyZmT60"
      },
      "execution_count": 22,
      "outputs": []
    },
    {
      "cell_type": "code",
      "source": [
        "y_test_A4_RGB = np.array(y_A4_RGB)"
      ],
      "metadata": {
        "id": "gOFEqZsnmT60"
      },
      "execution_count": 23,
      "outputs": []
    },
    {
      "cell_type": "code",
      "source": [
        "X_train_A4_RGB = np.array(RGB_A4_concat2)"
      ],
      "metadata": {
        "id": "evdsCaIqmT60"
      },
      "execution_count": 24,
      "outputs": []
    },
    {
      "cell_type": "code",
      "source": [
        "y_train_A4_RGB = RGB_A4_concat0.iloc[:,14:15]"
      ],
      "metadata": {
        "id": "UDKVjmV3mT60"
      },
      "execution_count": 25,
      "outputs": []
    },
    {
      "cell_type": "code",
      "source": [
        "y_train_A4_RGB = np.array(y_train_A4_RGB)"
      ],
      "metadata": {
        "id": "HWKuVJsEmT60"
      },
      "execution_count": 26,
      "outputs": []
    },
    {
      "cell_type": "code",
      "source": [
        "y_train_A4_RGB.shape = (len(y_train_A4_RGB,))"
      ],
      "metadata": {
        "id": "o2TyRaOlVfct"
      },
      "execution_count": 27,
      "outputs": []
    },
    {
      "cell_type": "code",
      "source": [
        "clf9.fit(X_train_A4_RGB, y_train_A4_RGB)"
      ],
      "metadata": {
        "colab": {
          "base_uri": "https://localhost:8080/"
        },
        "outputId": "d102a9cf-00c1-4244-9a77-9677c1f719dd",
        "id": "mKLrfno7mT61"
      },
      "execution_count": 28,
      "outputs": [
        {
          "output_type": "execute_result",
          "data": {
            "text/plain": [
              "SVC()"
            ]
          },
          "metadata": {},
          "execution_count": 28
        }
      ]
    },
    {
      "cell_type": "code",
      "source": [
        "y_pred_A4_RGB = clf9.predict(X_test_A4_RGB)"
      ],
      "metadata": {
        "id": "Vq3eKt90mT61"
      },
      "execution_count": 29,
      "outputs": []
    },
    {
      "cell_type": "code",
      "source": [
        "print(\"Accuracy:\", metrics.accuracy_score(y_test_A4_RGB, y_pred_A4_RGB))"
      ],
      "metadata": {
        "colab": {
          "base_uri": "https://localhost:8080/"
        },
        "outputId": "b3039cfb-c02e-49f0-9c95-5f5e55a49459",
        "id": "7v0zBiIVmT61"
      },
      "execution_count": 30,
      "outputs": [
        {
          "output_type": "stream",
          "name": "stdout",
          "text": [
            "Accuracy: 0.19\n"
          ]
        }
      ]
    },
    {
      "cell_type": "markdown",
      "source": [
        "###HSV"
      ],
      "metadata": {
        "id": "SFfZqFEqmT61"
      }
    },
    {
      "cell_type": "code",
      "source": [
        "clf10=svm.SVC(kernel='poly')"
      ],
      "metadata": {
        "id": "eXns4Mnmj9cg"
      },
      "execution_count": 473,
      "outputs": []
    },
    {
      "cell_type": "code",
      "source": [
        "HSV_A4_Set1 = table_A4Set1.drop(['R-ref','G-ref','B-ref','R-Shad','G-Shad','B-Shad','Setting','Ref','Shad','Img'], axis=1)"
      ],
      "metadata": {
        "id": "sicvN6smmT61"
      },
      "execution_count": 474,
      "outputs": []
    },
    {
      "cell_type": "code",
      "source": [
        "HSV_A4_concat2 = RGB_A4_concat0.drop(['R-ref','G-ref','B-ref','R-Shad','G-Shad','B-Shad','Setting','Ref','Shad','Img'], axis=1)"
      ],
      "metadata": {
        "id": "iQDhby-dmT61"
      },
      "execution_count": 475,
      "outputs": []
    },
    {
      "cell_type": "code",
      "source": [
        "X_test_A4_HSV = np.array(HSV_A4_Set1)"
      ],
      "metadata": {
        "id": "gGPuTgHamT62"
      },
      "execution_count": 476,
      "outputs": []
    },
    {
      "cell_type": "code",
      "source": [
        "y_A4_HSV =  table_A4Set1.iloc[:,14:15]"
      ],
      "metadata": {
        "id": "B9OqUKypmT62"
      },
      "execution_count": 477,
      "outputs": []
    },
    {
      "cell_type": "code",
      "source": [
        "y_test_A4_HSV = np.array(y_A4_RGB)"
      ],
      "metadata": {
        "id": "z5Jh7WrlmT62"
      },
      "execution_count": 478,
      "outputs": []
    },
    {
      "cell_type": "code",
      "source": [
        "X_train_A4_HSV = np.array(HSV_A4_concat2)"
      ],
      "metadata": {
        "id": "ZxnVmXUKmT62"
      },
      "execution_count": 479,
      "outputs": []
    },
    {
      "cell_type": "code",
      "source": [
        "y_train_A4HSV = RGB_A4_concat0.iloc[:,14:15]"
      ],
      "metadata": {
        "id": "V6lZEw3jmT62"
      },
      "execution_count": 480,
      "outputs": []
    },
    {
      "cell_type": "code",
      "source": [
        "y_train_A4_HSV = np.array(y_train_A4HSV)"
      ],
      "metadata": {
        "id": "xSFHaFsFmT62"
      },
      "execution_count": 481,
      "outputs": []
    },
    {
      "cell_type": "code",
      "source": [
        "clf10.fit(X_train_A4_HSV, y_train_A4_HSV)"
      ],
      "metadata": {
        "colab": {
          "base_uri": "https://localhost:8080/"
        },
        "outputId": "d069aeac-9dc8-431c-a9fb-24c801dbef2e",
        "id": "hW7GM7GRmT62"
      },
      "execution_count": 482,
      "outputs": [
        {
          "output_type": "stream",
          "name": "stderr",
          "text": [
            "/usr/local/lib/python3.7/dist-packages/sklearn/utils/validation.py:993: DataConversionWarning: A column-vector y was passed when a 1d array was expected. Please change the shape of y to (n_samples, ), for example using ravel().\n",
            "  y = column_or_1d(y, warn=True)\n"
          ]
        },
        {
          "output_type": "execute_result",
          "data": {
            "text/plain": [
              "SVC(kernel='poly')"
            ]
          },
          "metadata": {},
          "execution_count": 482
        }
      ]
    },
    {
      "cell_type": "code",
      "source": [
        "y_pred_A4_HSV = clf10.predict(X_test_A4_HSV)"
      ],
      "metadata": {
        "id": "HlQR18cxmT62"
      },
      "execution_count": 483,
      "outputs": []
    },
    {
      "cell_type": "code",
      "source": [
        "print(\"Accuracy:\", metrics.accuracy_score(y_test_A4_HSV, y_pred_A4_HSV))"
      ],
      "metadata": {
        "colab": {
          "base_uri": "https://localhost:8080/"
        },
        "outputId": "1c3d81ac-9d34-4b3b-947d-f0031e7e4d68",
        "id": "_ABaescjmT62"
      },
      "execution_count": 484,
      "outputs": [
        {
          "output_type": "stream",
          "name": "stdout",
          "text": [
            "Accuracy: 0.34875\n"
          ]
        }
      ]
    },
    {
      "cell_type": "markdown",
      "source": [
        "#BB"
      ],
      "metadata": {
        "id": "_QZmNKGToJfj"
      }
    },
    {
      "cell_type": "markdown",
      "source": [
        "##B1"
      ],
      "metadata": {
        "id": "se58n_Qroh-i"
      }
    },
    {
      "cell_type": "code",
      "source": [
        "table_B1Set1 = pd.read_excel(Set1 , sheet_name='B1_1')\n",
        "\n",
        "table_B1Set2 = pd.read_excel(Set2 , sheet_name='B1_2')\n",
        "\n",
        "table_B1Set3 = pd.read_excel(Set3 , sheet_name='B1_3')\n",
        "\n",
        "table_B1Set4 = pd.read_excel(Set4 , sheet_name='B1_4')\n",
        "\n",
        "table_B1Set6 = pd.read_excel(Set6 , sheet_name='B1_6')"
      ],
      "metadata": {
        "id": "ySX9ISTZoh-o"
      },
      "execution_count": 147,
      "outputs": []
    },
    {
      "cell_type": "markdown",
      "source": [
        "###RGB"
      ],
      "metadata": {
        "id": "O_FJgLnHoh-p"
      }
    },
    {
      "cell_type": "code",
      "source": [
        "clf11=svm.SVC()"
      ],
      "metadata": {
        "id": "UrOpZjhrkASD"
      },
      "execution_count": 148,
      "outputs": []
    },
    {
      "cell_type": "code",
      "source": [
        "RGB_B1_Set1 = table_B1Set1.drop(['H-ref','S-ref','V-ref','H-Shad','S-Shad','V-Shad','Setting','Ref','Shad','Img'], axis=1)"
      ],
      "metadata": {
        "id": "U6oEjDfooh-p"
      },
      "execution_count": 149,
      "outputs": []
    },
    {
      "cell_type": "code",
      "source": [
        "RGB_B1_Set2 = table_B1Set2\n",
        "\n",
        "RGB_B1_Set3 = table_B1Set3\n",
        "\n",
        "RGB_B1_Set4 = table_B1Set4\n",
        "\n",
        "RGB_B1_Set6 = table_B1Set6"
      ],
      "metadata": {
        "id": "Bb4epOesoh-p"
      },
      "execution_count": 150,
      "outputs": []
    },
    {
      "cell_type": "code",
      "source": [
        "RGB_B1_concat0 = pd.concat([RGB_B1_Set2,RGB_B1_Set3,RGB_B1_Set4,RGB_B1_Set6])"
      ],
      "metadata": {
        "id": "IexWyYFoh0GX"
      },
      "execution_count": 151,
      "outputs": []
    },
    {
      "cell_type": "code",
      "source": [
        "RGB_B1_concat2 = RGB_B1_concat0.drop(['H-ref','S-ref','V-ref','H-Shad','S-Shad','V-Shad','Setting','Ref','Shad','Img'], axis=1)"
      ],
      "metadata": {
        "id": "rFdgV2Gzoh-p"
      },
      "execution_count": 152,
      "outputs": []
    },
    {
      "cell_type": "code",
      "source": [
        "X_test_B1_RGB = np.array(RGB_B1_Set1)"
      ],
      "metadata": {
        "id": "w7GJ9Tckoh-p"
      },
      "execution_count": 153,
      "outputs": []
    },
    {
      "cell_type": "code",
      "source": [
        "y_B1_RGB =  table_B1Set1.iloc[:,14:15]"
      ],
      "metadata": {
        "id": "R1znsRQWoh-p"
      },
      "execution_count": 154,
      "outputs": []
    },
    {
      "cell_type": "code",
      "source": [
        "y_test_B1_RGB = np.array(y_B1_RGB)"
      ],
      "metadata": {
        "id": "jsKRNbKyoh-p"
      },
      "execution_count": 155,
      "outputs": []
    },
    {
      "cell_type": "code",
      "source": [
        "X_train_B1_RGB = np.array(RGB_B1_concat2)"
      ],
      "metadata": {
        "id": "Ts-lXxcnoh-q"
      },
      "execution_count": 156,
      "outputs": []
    },
    {
      "cell_type": "code",
      "source": [
        "y_train_B1RGB = RGB_B1_concat0.iloc[:,14:15]"
      ],
      "metadata": {
        "id": "W4aZ3hAdoh-q"
      },
      "execution_count": 157,
      "outputs": []
    },
    {
      "cell_type": "code",
      "source": [
        "y_train_B1_RGB = np.array(y_train_B1RGB)"
      ],
      "metadata": {
        "id": "ynpJaH-Voh-q"
      },
      "execution_count": 158,
      "outputs": []
    },
    {
      "cell_type": "code",
      "source": [
        "y_train_B1_RGB.shape = (len(y_train_B1_RGB,))"
      ],
      "metadata": {
        "id": "iL-QtoEYWLJT"
      },
      "execution_count": 159,
      "outputs": []
    },
    {
      "cell_type": "code",
      "source": [
        "clf11.fit(X_train_B1_RGB, y_train_B1_RGB)"
      ],
      "metadata": {
        "colab": {
          "base_uri": "https://localhost:8080/"
        },
        "outputId": "e750e417-082c-4409-e174-f71799acfa5e",
        "id": "ID-UOUcfoh-q"
      },
      "execution_count": 160,
      "outputs": [
        {
          "output_type": "execute_result",
          "data": {
            "text/plain": [
              "SVC()"
            ]
          },
          "metadata": {},
          "execution_count": 160
        }
      ]
    },
    {
      "cell_type": "code",
      "source": [
        "y_pred_B1_RGB = clf11.predict(X_test_B1_RGB)"
      ],
      "metadata": {
        "id": "NaLy2DdCoh-q"
      },
      "execution_count": 161,
      "outputs": []
    },
    {
      "cell_type": "code",
      "source": [
        "print(\"Accuracy:\", metrics.accuracy_score(y_test_B1_RGB, y_pred_B1_RGB))"
      ],
      "metadata": {
        "colab": {
          "base_uri": "https://localhost:8080/"
        },
        "outputId": "6960396c-4df1-4ae3-e9e8-0208600ae91d",
        "id": "7ODrXbt8oh-q"
      },
      "execution_count": 162,
      "outputs": [
        {
          "output_type": "stream",
          "name": "stdout",
          "text": [
            "Accuracy: 0.115527950310559\n"
          ]
        }
      ]
    },
    {
      "cell_type": "markdown",
      "source": [
        "###HSV"
      ],
      "metadata": {
        "id": "LqH-Neruoh-q"
      }
    },
    {
      "cell_type": "code",
      "source": [
        "clf12=svm.SVC()"
      ],
      "metadata": {
        "id": "KiY6lW0mkDMe"
      },
      "execution_count": 163,
      "outputs": []
    },
    {
      "cell_type": "code",
      "source": [
        "HSV_B1_Set1 = table_B1Set1.drop(['R-ref','G-ref','B-ref','R-Shad','G-Shad','B-Shad','Setting','Ref','Shad','Img'], axis=1)"
      ],
      "metadata": {
        "id": "qRp-RtNMoh-q"
      },
      "execution_count": 164,
      "outputs": []
    },
    {
      "cell_type": "code",
      "source": [
        "HSV_B1_concat2 = RGB_B1_concat0.drop(['R-ref','G-ref','B-ref','R-Shad','G-Shad','B-Shad','Setting','Ref','Shad','Img'], axis=1)"
      ],
      "metadata": {
        "id": "k9OpSll3oh-r"
      },
      "execution_count": 165,
      "outputs": []
    },
    {
      "cell_type": "code",
      "source": [
        "X_test_B1_HSV = np.array(HSV_B1_Set1)"
      ],
      "metadata": {
        "id": "-CETjUEBoh-r"
      },
      "execution_count": 166,
      "outputs": []
    },
    {
      "cell_type": "code",
      "source": [
        "y_B1_HSV =  table_B1Set1.iloc[:,14:15]"
      ],
      "metadata": {
        "id": "PjRR4vyioh-r"
      },
      "execution_count": 167,
      "outputs": []
    },
    {
      "cell_type": "code",
      "source": [
        "y_test_B1_HSV = np.array(y_B1_RGB)"
      ],
      "metadata": {
        "id": "y5RnrM4Ioh-r"
      },
      "execution_count": 168,
      "outputs": []
    },
    {
      "cell_type": "code",
      "source": [
        "X_train_B1_HSV = np.array(HSV_B1_concat2)"
      ],
      "metadata": {
        "id": "wjcX6HYGoh-r"
      },
      "execution_count": 169,
      "outputs": []
    },
    {
      "cell_type": "code",
      "source": [
        "y_train_B1HSV = RGB_B1_concat0.iloc[:,14:15]"
      ],
      "metadata": {
        "id": "dXhgnBj5oh-r"
      },
      "execution_count": 170,
      "outputs": []
    },
    {
      "cell_type": "code",
      "source": [
        "y_train_B1_HSV = np.array(y_train_B1HSV)"
      ],
      "metadata": {
        "id": "HmO2ONBmoh-r"
      },
      "execution_count": 171,
      "outputs": []
    },
    {
      "cell_type": "code",
      "source": [
        "y_train_B1_HSV.shape = (len(y_train_B1_HSV,))"
      ],
      "metadata": {
        "id": "OYO-9pLrWPZ2"
      },
      "execution_count": 172,
      "outputs": []
    },
    {
      "cell_type": "code",
      "source": [
        "clf12.fit(X_train_B1_HSV, y_train_B1_HSV)"
      ],
      "metadata": {
        "colab": {
          "base_uri": "https://localhost:8080/"
        },
        "outputId": "403c26f3-b511-4079-9bce-e51caec3c1c5",
        "id": "DnC3rvT9oh-r"
      },
      "execution_count": 173,
      "outputs": [
        {
          "output_type": "execute_result",
          "data": {
            "text/plain": [
              "SVC()"
            ]
          },
          "metadata": {},
          "execution_count": 173
        }
      ]
    },
    {
      "cell_type": "code",
      "source": [
        "y_pred_B1_HSV = clf12.predict(X_test_B1_HSV)"
      ],
      "metadata": {
        "id": "Cg1T4HSdoh-r"
      },
      "execution_count": 174,
      "outputs": []
    },
    {
      "cell_type": "code",
      "source": [
        "print(\"Accuracy:\", metrics.accuracy_score(y_test_B1_HSV, y_pred_B1_HSV))"
      ],
      "metadata": {
        "colab": {
          "base_uri": "https://localhost:8080/"
        },
        "outputId": "cd94861e-83fe-4e9d-a236-5318bd11d496",
        "id": "yMBJje_xoh-r"
      },
      "execution_count": 175,
      "outputs": [
        {
          "output_type": "stream",
          "name": "stdout",
          "text": [
            "Accuracy: 0.1937888198757764\n"
          ]
        }
      ]
    },
    {
      "cell_type": "markdown",
      "source": [
        "##B2"
      ],
      "metadata": {
        "id": "9NN_QqeCp0es"
      }
    },
    {
      "cell_type": "code",
      "source": [
        "table_B2Set1 = pd.read_excel(Set1 , sheet_name='B2_1')\n",
        "\n",
        "table_B2Set2 = pd.read_excel(Set2 , sheet_name='B2_2')\n",
        "\n",
        "table_B2Set3 = pd.read_excel(Set3 , sheet_name='B2_3')\n",
        "\n",
        "table_B2Set4 = pd.read_excel(Set4 , sheet_name='B2_4')\n",
        "\n",
        "table_B2Set6 = pd.read_excel(Set6 , sheet_name='B2_6')"
      ],
      "metadata": {
        "id": "doMqM22lp0es"
      },
      "execution_count": 176,
      "outputs": []
    },
    {
      "cell_type": "markdown",
      "source": [
        "###RGB"
      ],
      "metadata": {
        "id": "fISYhQjlp0et"
      }
    },
    {
      "cell_type": "code",
      "source": [
        "clf13=svm.SVC()"
      ],
      "metadata": {
        "id": "QK0BkzNJkH-1"
      },
      "execution_count": 177,
      "outputs": []
    },
    {
      "cell_type": "code",
      "source": [
        "RGB_B2_Set1 = table_B2Set1.drop(['H-ref','S-ref','V-ref','H-Shad','S-Shad','V-Shad','Setting','Ref','Shad','Img'], axis=1)"
      ],
      "metadata": {
        "id": "iEZFoIqKp0et"
      },
      "execution_count": 178,
      "outputs": []
    },
    {
      "cell_type": "code",
      "source": [
        "RGB_B2_Set2 = table_B2Set2\n",
        "\n",
        "RGB_B2_Set3 = table_B2Set3\n",
        "\n",
        "RGB_B2_Set4 = table_B2Set4\n",
        "\n",
        "RGB_B2_Set6 = table_B2Set6"
      ],
      "metadata": {
        "id": "OgUJ9Hj2p0et"
      },
      "execution_count": 179,
      "outputs": []
    },
    {
      "cell_type": "code",
      "source": [
        "RGB_B2_concat0 = pd.concat([RGB_B2_Set2,RGB_B2_Set3,RGB_B2_Set4,RGB_B2_Set6])"
      ],
      "metadata": {
        "id": "F62C9WuijEwx"
      },
      "execution_count": 180,
      "outputs": []
    },
    {
      "cell_type": "code",
      "source": [
        "RGB_B2_concat2 = RGB_B2_concat0.drop(['H-ref','S-ref','V-ref','H-Shad','S-Shad','V-Shad','Setting','Ref','Shad','Img'], axis=1)"
      ],
      "metadata": {
        "id": "OGZ1uxtip0eu"
      },
      "execution_count": 181,
      "outputs": []
    },
    {
      "cell_type": "code",
      "source": [
        "X_test_B2_RGB = np.array(RGB_B2_Set1)"
      ],
      "metadata": {
        "id": "rcc7ihUcp0eu"
      },
      "execution_count": 182,
      "outputs": []
    },
    {
      "cell_type": "code",
      "source": [
        "y_B2_RGB =  table_B2Set1.iloc[:,14:15]"
      ],
      "metadata": {
        "id": "xtXVZfgQp0eu"
      },
      "execution_count": 183,
      "outputs": []
    },
    {
      "cell_type": "code",
      "source": [
        "y_test_B2_RGB = np.array(y_B2_RGB)"
      ],
      "metadata": {
        "id": "iDYlulqBp0eu"
      },
      "execution_count": 184,
      "outputs": []
    },
    {
      "cell_type": "code",
      "source": [
        "X_train_B2_RGB = np.array(RGB_B2_concat2)"
      ],
      "metadata": {
        "id": "Uf4RlAP5p0eu"
      },
      "execution_count": 185,
      "outputs": []
    },
    {
      "cell_type": "code",
      "source": [
        "y_train_B2RGB = RGB_B2_concat0.iloc[:,14:15]"
      ],
      "metadata": {
        "id": "-7OL72MSp0ev"
      },
      "execution_count": 186,
      "outputs": []
    },
    {
      "cell_type": "code",
      "source": [
        "y_train_B2_RGB = np.array(y_train_B2RGB)"
      ],
      "metadata": {
        "id": "UOscGSpMp0ev"
      },
      "execution_count": 187,
      "outputs": []
    },
    {
      "cell_type": "code",
      "source": [
        "y_train_B2_RGB.shape = (len(y_train_B2_RGB,))"
      ],
      "metadata": {
        "id": "TVvu0JX4WSj3"
      },
      "execution_count": 188,
      "outputs": []
    },
    {
      "cell_type": "code",
      "source": [
        "clf13.fit(X_train_B2_RGB, y_train_B2_RGB)"
      ],
      "metadata": {
        "colab": {
          "base_uri": "https://localhost:8080/"
        },
        "outputId": "f176f49b-8d44-457a-b8d6-d269a83ed912",
        "id": "a-aOJ6sop0ev"
      },
      "execution_count": 189,
      "outputs": [
        {
          "output_type": "execute_result",
          "data": {
            "text/plain": [
              "SVC()"
            ]
          },
          "metadata": {},
          "execution_count": 189
        }
      ]
    },
    {
      "cell_type": "code",
      "source": [
        "y_pred_B2_RGB = clf13.predict(X_test_B2_RGB)"
      ],
      "metadata": {
        "id": "bp7PF8XDp0ev"
      },
      "execution_count": 190,
      "outputs": []
    },
    {
      "cell_type": "code",
      "source": [
        "print(\"Accuracy:\", metrics.accuracy_score(y_test_B2_RGB, y_pred_B2_RGB))"
      ],
      "metadata": {
        "colab": {
          "base_uri": "https://localhost:8080/"
        },
        "outputId": "bef98a2b-9b5c-4ac1-8307-e8e2b1d62fd8",
        "id": "pzqdbkN1p0ev"
      },
      "execution_count": 191,
      "outputs": [
        {
          "output_type": "stream",
          "name": "stdout",
          "text": [
            "Accuracy: 0.11801242236024845\n"
          ]
        }
      ]
    },
    {
      "cell_type": "markdown",
      "source": [
        "###HSV"
      ],
      "metadata": {
        "id": "lMLcdIT5p0ev"
      }
    },
    {
      "cell_type": "code",
      "source": [
        "clf14=svm.SVC()"
      ],
      "metadata": {
        "id": "vNJMZ4WZkLkX"
      },
      "execution_count": 192,
      "outputs": []
    },
    {
      "cell_type": "code",
      "source": [
        "HSV_B2_Set1 = table_B2Set1.drop(['R-ref','G-ref','B-ref','R-Shad','G-Shad','B-Shad','Setting','Ref','Shad','Img'], axis=1)"
      ],
      "metadata": {
        "id": "2gsI1AQ0p0ev"
      },
      "execution_count": 193,
      "outputs": []
    },
    {
      "cell_type": "code",
      "source": [
        "HSV_B2_concat2 = RGB_B2_concat0.drop(['R-ref','G-ref','B-ref','R-Shad','G-Shad','B-Shad','Setting','Ref','Shad','Img'], axis=1)"
      ],
      "metadata": {
        "id": "pKW0df3rp0ew"
      },
      "execution_count": 194,
      "outputs": []
    },
    {
      "cell_type": "code",
      "source": [
        "X_test_B2_HSV = np.array(HSV_B2_Set1)"
      ],
      "metadata": {
        "id": "QDJKTswfp0ew"
      },
      "execution_count": 195,
      "outputs": []
    },
    {
      "cell_type": "code",
      "source": [
        "y_B2_HSV =  table_B2Set1.iloc[:,14:15]"
      ],
      "metadata": {
        "id": "-YAtMSidp0ew"
      },
      "execution_count": 196,
      "outputs": []
    },
    {
      "cell_type": "code",
      "source": [
        "y_test_B2_HSV = np.array(y_B2_RGB)"
      ],
      "metadata": {
        "id": "MSf7X-qPp0ew"
      },
      "execution_count": 197,
      "outputs": []
    },
    {
      "cell_type": "code",
      "source": [
        "X_train_B2_HSV = np.array(HSV_B2_concat2)"
      ],
      "metadata": {
        "id": "QD_HUbRxp0ew"
      },
      "execution_count": 198,
      "outputs": []
    },
    {
      "cell_type": "code",
      "source": [
        "y_train_B2HSV = RGB_B2_concat0.iloc[:,14:15]"
      ],
      "metadata": {
        "id": "2AHHkeYqp0ew"
      },
      "execution_count": 199,
      "outputs": []
    },
    {
      "cell_type": "code",
      "source": [
        "y_train_B2_HSV = np.array(y_train_B2HSV)"
      ],
      "metadata": {
        "id": "pWE1iXOjp0ew"
      },
      "execution_count": 200,
      "outputs": []
    },
    {
      "cell_type": "code",
      "source": [
        "y_train_B2_HSV.shape = (len(y_train_B2_HSV,))"
      ],
      "metadata": {
        "id": "RfEijB4lWVH3"
      },
      "execution_count": 201,
      "outputs": []
    },
    {
      "cell_type": "code",
      "source": [
        "clf14.fit(X_train_B2_HSV, y_train_B2_HSV)"
      ],
      "metadata": {
        "colab": {
          "base_uri": "https://localhost:8080/"
        },
        "outputId": "c9e7251a-3b7f-4089-996e-b5f25b969060",
        "id": "y21hMmlHp0ew"
      },
      "execution_count": 202,
      "outputs": [
        {
          "output_type": "execute_result",
          "data": {
            "text/plain": [
              "SVC()"
            ]
          },
          "metadata": {},
          "execution_count": 202
        }
      ]
    },
    {
      "cell_type": "code",
      "source": [
        "y_pred_B2_HSV = clf14.predict(X_test_B2_HSV)"
      ],
      "metadata": {
        "id": "avnCdEk0p0ex"
      },
      "execution_count": 203,
      "outputs": []
    },
    {
      "cell_type": "code",
      "source": [
        "print(\"Accuracy:\", metrics.accuracy_score(y_test_B2_HSV, y_pred_B2_HSV))"
      ],
      "metadata": {
        "colab": {
          "base_uri": "https://localhost:8080/"
        },
        "outputId": "18e2e5a9-7ff1-475d-e8ec-379b642c9b79",
        "id": "U6LBXCvgp0ex"
      },
      "execution_count": 204,
      "outputs": [
        {
          "output_type": "stream",
          "name": "stdout",
          "text": [
            "Accuracy: 0.1937888198757764\n"
          ]
        }
      ]
    },
    {
      "cell_type": "markdown",
      "source": [
        "##B3"
      ],
      "metadata": {
        "id": "fFNlFx5qsHOQ"
      }
    },
    {
      "cell_type": "code",
      "source": [
        "table_B3Set1 = pd.read_excel(Set1 , sheet_name='B3_1')\n",
        "\n",
        "table_B3Set2 = pd.read_excel(Set2 , sheet_name='B3_2')\n",
        "\n",
        "table_B3Set3 = pd.read_excel(Set3 , sheet_name='B3_3')\n",
        "\n",
        "table_B3Set4 = pd.read_excel(Set4 , sheet_name='B3_4')\n",
        "\n",
        "table_B3Set6 = pd.read_excel(Set6 , sheet_name='B3_6')"
      ],
      "metadata": {
        "id": "R3t_fo44sHOR"
      },
      "execution_count": 205,
      "outputs": []
    },
    {
      "cell_type": "markdown",
      "source": [
        "###RGB"
      ],
      "metadata": {
        "id": "4njF_sDtsHOS"
      }
    },
    {
      "cell_type": "code",
      "source": [
        "clf15=svm.SVC()"
      ],
      "metadata": {
        "id": "eY-iXIbKkP9k"
      },
      "execution_count": 206,
      "outputs": []
    },
    {
      "cell_type": "code",
      "source": [
        "RGB_B3_Set1 = table_B3Set1.drop(['H-ref','S-ref','V-ref','H-Shad','S-Shad','V-Shad','Setting','Ref','Shad','Img'], axis=1)"
      ],
      "metadata": {
        "id": "yqLZe8yvsHOS"
      },
      "execution_count": 207,
      "outputs": []
    },
    {
      "cell_type": "code",
      "source": [
        "RGB_B3_Set2 = table_B3Set2\n",
        "\n",
        "RGB_B3_Set3 = table_B3Set3\n",
        "\n",
        "RGB_B3_Set4 = table_B3Set4\n",
        "\n",
        "RGB_B3_Set6 = table_B3Set6"
      ],
      "metadata": {
        "id": "QO9PuOA4sHOS"
      },
      "execution_count": 208,
      "outputs": []
    },
    {
      "cell_type": "code",
      "source": [
        "RGB_B3_concat0 = pd.concat([RGB_B3_Set2,RGB_B3_Set3,RGB_B3_Set4,RGB_B3_Set6])"
      ],
      "metadata": {
        "id": "shPvvfFokKV2"
      },
      "execution_count": 209,
      "outputs": []
    },
    {
      "cell_type": "code",
      "source": [
        "RGB_B3_concat2 = RGB_B3_concat0.drop(['H-ref','S-ref','V-ref','H-Shad','S-Shad','V-Shad','Setting','Ref','Shad','Img'], axis=1)"
      ],
      "metadata": {
        "id": "Jb7qyHcKsHOT"
      },
      "execution_count": 210,
      "outputs": []
    },
    {
      "cell_type": "code",
      "source": [
        "X_test_B3_RGB = np.array(RGB_B3_Set1)"
      ],
      "metadata": {
        "id": "YDNP71CEsHOT"
      },
      "execution_count": 211,
      "outputs": []
    },
    {
      "cell_type": "code",
      "source": [
        "y_B3_RGB =  table_B3Set1.iloc[:,14:15]"
      ],
      "metadata": {
        "id": "zXlAvcTbsHOT"
      },
      "execution_count": 212,
      "outputs": []
    },
    {
      "cell_type": "code",
      "source": [
        "y_test_B3_RGB = np.array(y_B3_RGB)"
      ],
      "metadata": {
        "id": "Cp8YOfTIsHOT"
      },
      "execution_count": 213,
      "outputs": []
    },
    {
      "cell_type": "code",
      "source": [
        "X_train_B3_RGB = np.array(RGB_B3_concat2)"
      ],
      "metadata": {
        "id": "oiWh59IVsHOT"
      },
      "execution_count": 214,
      "outputs": []
    },
    {
      "cell_type": "code",
      "source": [
        "y_train_B3RGB = RGB_B3_concat0.iloc[:,14:15]"
      ],
      "metadata": {
        "id": "59dXexhHsHOT"
      },
      "execution_count": 215,
      "outputs": []
    },
    {
      "cell_type": "code",
      "source": [
        "y_train_B3_RGB = np.array(y_train_B3RGB)"
      ],
      "metadata": {
        "id": "QuBse9EysHOT"
      },
      "execution_count": 216,
      "outputs": []
    },
    {
      "cell_type": "code",
      "source": [
        "y_train_B3_RGB.shape = (len(y_train_B3_RGB,))"
      ],
      "metadata": {
        "id": "S8YLSstHWYFA"
      },
      "execution_count": 217,
      "outputs": []
    },
    {
      "cell_type": "code",
      "source": [
        "clf15.fit(X_train_B3_RGB, y_train_B3_RGB)"
      ],
      "metadata": {
        "colab": {
          "base_uri": "https://localhost:8080/"
        },
        "outputId": "95ed4618-84cb-478a-df9f-13038b59231e",
        "id": "dTDGBxEYsHOU"
      },
      "execution_count": 218,
      "outputs": [
        {
          "output_type": "execute_result",
          "data": {
            "text/plain": [
              "SVC()"
            ]
          },
          "metadata": {},
          "execution_count": 218
        }
      ]
    },
    {
      "cell_type": "code",
      "source": [
        "y_pred_B3_RGB = clf15.predict(X_test_B3_RGB)"
      ],
      "metadata": {
        "id": "zOyhYKUasHOU"
      },
      "execution_count": 219,
      "outputs": []
    },
    {
      "cell_type": "code",
      "source": [
        "print(\"Accuracy:\", metrics.accuracy_score(y_test_B3_RGB, y_pred_B3_RGB))"
      ],
      "metadata": {
        "colab": {
          "base_uri": "https://localhost:8080/"
        },
        "outputId": "4a4fa8b6-6acb-46fd-98f6-d987e3983800",
        "id": "pUWkHRcxsHOU"
      },
      "execution_count": 220,
      "outputs": [
        {
          "output_type": "stream",
          "name": "stdout",
          "text": [
            "Accuracy: 0.062111801242236024\n"
          ]
        }
      ]
    },
    {
      "cell_type": "markdown",
      "source": [
        "###HSV"
      ],
      "metadata": {
        "id": "a2v2Cu1qsHOU"
      }
    },
    {
      "cell_type": "code",
      "source": [
        "clf16=svm.SVC()"
      ],
      "metadata": {
        "id": "H1bZEmYckUZj"
      },
      "execution_count": 221,
      "outputs": []
    },
    {
      "cell_type": "code",
      "source": [
        "HSV_B3_Set1 = table_B3Set1.drop(['R-ref','G-ref','B-ref','R-Shad','G-Shad','B-Shad','Setting','Ref','Shad','Img'], axis=1)"
      ],
      "metadata": {
        "id": "1T1WMuuWsHOU"
      },
      "execution_count": 222,
      "outputs": []
    },
    {
      "cell_type": "code",
      "source": [
        "HSV_B3_concat2 = RGB_B3_concat0.drop(['R-ref','G-ref','B-ref','R-Shad','G-Shad','B-Shad','Setting','Ref','Shad','Img'], axis=1)"
      ],
      "metadata": {
        "id": "aAZsaClWsHOU"
      },
      "execution_count": 223,
      "outputs": []
    },
    {
      "cell_type": "code",
      "source": [
        "X_test_B3_HSV = np.array(HSV_B3_Set1)"
      ],
      "metadata": {
        "id": "WAFnYBGhsHOU"
      },
      "execution_count": 224,
      "outputs": []
    },
    {
      "cell_type": "code",
      "source": [
        "y_B3_HSV =  table_B3Set1.iloc[:,14:15]"
      ],
      "metadata": {
        "id": "5okDH6bvsHOV"
      },
      "execution_count": 225,
      "outputs": []
    },
    {
      "cell_type": "code",
      "source": [
        "y_test_B3_HSV = np.array(y_B3_RGB)"
      ],
      "metadata": {
        "id": "ktvtDkJSsHOV"
      },
      "execution_count": 226,
      "outputs": []
    },
    {
      "cell_type": "code",
      "source": [
        "X_train_B3_HSV = np.array(HSV_B3_concat2)"
      ],
      "metadata": {
        "id": "F-dVwJiQsHOV"
      },
      "execution_count": 227,
      "outputs": []
    },
    {
      "cell_type": "code",
      "source": [
        "y_train_B3HSV = RGB_B3_concat0.iloc[:,14:15]"
      ],
      "metadata": {
        "id": "FDpg1LPbsHOV"
      },
      "execution_count": 228,
      "outputs": []
    },
    {
      "cell_type": "code",
      "source": [
        "y_train_B3_HSV = np.array(y_train_B3HSV)"
      ],
      "metadata": {
        "id": "OmmzdN7OsHOV"
      },
      "execution_count": 229,
      "outputs": []
    },
    {
      "cell_type": "code",
      "source": [
        "y_train_B3_HSV.shape = (len(y_train_B3_HSV,))"
      ],
      "metadata": {
        "id": "Uqa6-tPLWbC4"
      },
      "execution_count": 230,
      "outputs": []
    },
    {
      "cell_type": "code",
      "source": [
        "clf16.fit(X_train_B3_HSV, y_train_B3_HSV)"
      ],
      "metadata": {
        "colab": {
          "base_uri": "https://localhost:8080/"
        },
        "outputId": "1bcb508b-517c-4fdb-f1e3-158791f34227",
        "id": "m2vhHsuwsHOV"
      },
      "execution_count": 231,
      "outputs": [
        {
          "output_type": "execute_result",
          "data": {
            "text/plain": [
              "SVC()"
            ]
          },
          "metadata": {},
          "execution_count": 231
        }
      ]
    },
    {
      "cell_type": "code",
      "source": [
        "y_pred_B3_HSV = clf16.predict(X_test_B3_HSV)"
      ],
      "metadata": {
        "id": "Ky-ZY420sHOV"
      },
      "execution_count": 232,
      "outputs": []
    },
    {
      "cell_type": "code",
      "source": [
        "print(\"Accuracy:\", metrics.accuracy_score(y_test_B3_HSV, y_pred_B3_HSV))"
      ],
      "metadata": {
        "colab": {
          "base_uri": "https://localhost:8080/"
        },
        "outputId": "65cb0904-6ac8-4200-8d60-020c7b84d7c1",
        "id": "V_h7tdPBsHOV"
      },
      "execution_count": 233,
      "outputs": [
        {
          "output_type": "stream",
          "name": "stdout",
          "text": [
            "Accuracy: 0.2062111801242236\n"
          ]
        }
      ]
    },
    {
      "cell_type": "markdown",
      "source": [
        "##B4"
      ],
      "metadata": {
        "id": "Cqdvh1d4tDKz"
      }
    },
    {
      "cell_type": "code",
      "source": [
        "table_B4Set1 = pd.read_excel(Set1 , sheet_name='B4_1')\n",
        "\n",
        "table_B4Set2 = pd.read_excel(Set2 , sheet_name='B4_2')\n",
        "\n",
        "table_B4Set3 = pd.read_excel(Set3 , sheet_name='B4_3')\n",
        "\n",
        "table_B4Set4 = pd.read_excel(Set4 , sheet_name='B4_4')\n",
        "\n",
        "table_B4Set6 = pd.read_excel(Set6 , sheet_name='B4_6')"
      ],
      "metadata": {
        "id": "MMB7W5dmtDK0"
      },
      "execution_count": 234,
      "outputs": []
    },
    {
      "cell_type": "markdown",
      "source": [
        "###RGB"
      ],
      "metadata": {
        "id": "yhLLze51tDK0"
      }
    },
    {
      "cell_type": "code",
      "source": [
        "clf17=svm.SVC()"
      ],
      "metadata": {
        "id": "o_GgoFWukX5n"
      },
      "execution_count": 235,
      "outputs": []
    },
    {
      "cell_type": "code",
      "source": [
        "RGB_B4_Set1 = table_B4Set1.drop(['H-ref','S-ref','V-ref','H-Shad','S-Shad','V-Shad','Setting','Ref','Shad','Img'], axis=1)"
      ],
      "metadata": {
        "id": "vRObWfxTtDK0"
      },
      "execution_count": 236,
      "outputs": []
    },
    {
      "cell_type": "code",
      "source": [
        "RGB_B4_Set2 = table_B4Set2\n",
        "\n",
        "RGB_B4_Set3 = table_B4Set3\n",
        "\n",
        "RGB_B4_Set4 = table_B4Set4\n",
        "\n",
        "RGB_B4_Set6 = table_B4Set6"
      ],
      "metadata": {
        "id": "qa5YSX8WtDK1"
      },
      "execution_count": 237,
      "outputs": []
    },
    {
      "cell_type": "code",
      "source": [
        "RGB_B4_concat0 = pd.concat([RGB_B4_Set2,RGB_B4_Set3,RGB_B4_Set4,RGB_B4_Set6])"
      ],
      "metadata": {
        "id": "Bf6RG3akmJb_"
      },
      "execution_count": 238,
      "outputs": []
    },
    {
      "cell_type": "code",
      "source": [
        "RGB_B4_concat2 = RGB_B4_concat0.drop(['H-ref','S-ref','V-ref','H-Shad','S-Shad','V-Shad','Setting','Ref','Shad','Img'], axis=1)"
      ],
      "metadata": {
        "id": "jxqKeWgKtDK1"
      },
      "execution_count": 239,
      "outputs": []
    },
    {
      "cell_type": "code",
      "source": [
        "X_test_B4_RGB = np.array(RGB_B4_Set1)"
      ],
      "metadata": {
        "id": "580vZZA_tDK2"
      },
      "execution_count": 240,
      "outputs": []
    },
    {
      "cell_type": "code",
      "source": [
        "y_B4_RGB =  table_B4Set1.iloc[:,14:15]"
      ],
      "metadata": {
        "id": "_Hdc8Yi_tDK2"
      },
      "execution_count": 241,
      "outputs": []
    },
    {
      "cell_type": "code",
      "source": [
        "y_test_B4_RGB = np.array(y_B4_RGB)"
      ],
      "metadata": {
        "id": "wD0UYgdPtDK2"
      },
      "execution_count": 242,
      "outputs": []
    },
    {
      "cell_type": "code",
      "source": [
        "X_train_B4_RGB = np.array(RGB_B4_concat2)"
      ],
      "metadata": {
        "id": "ozTac6WstDK2"
      },
      "execution_count": 243,
      "outputs": []
    },
    {
      "cell_type": "code",
      "source": [
        "y_train_B4RGB = RGB_B4_concat0.iloc[:,14:15]"
      ],
      "metadata": {
        "id": "HobHEx5ctDK2"
      },
      "execution_count": 244,
      "outputs": []
    },
    {
      "cell_type": "code",
      "source": [
        "y_train_B4_RGB = np.array(y_train_B4RGB)"
      ],
      "metadata": {
        "id": "XZ0quwGvtDK2"
      },
      "execution_count": 245,
      "outputs": []
    },
    {
      "cell_type": "code",
      "source": [
        "y_train_B4_RGB.shape = (len(y_train_B4_RGB,))"
      ],
      "metadata": {
        "id": "ODIzkVHwWeJF"
      },
      "execution_count": 246,
      "outputs": []
    },
    {
      "cell_type": "code",
      "source": [
        "clf17.fit(X_train_B4_RGB, y_train_B4_RGB)"
      ],
      "metadata": {
        "colab": {
          "base_uri": "https://localhost:8080/"
        },
        "outputId": "9b6e8193-631d-4b9d-aebc-8440f03ea894",
        "id": "T_x28SvCtDK2"
      },
      "execution_count": 247,
      "outputs": [
        {
          "output_type": "execute_result",
          "data": {
            "text/plain": [
              "SVC()"
            ]
          },
          "metadata": {},
          "execution_count": 247
        }
      ]
    },
    {
      "cell_type": "code",
      "source": [
        "y_pred_B4_RGB = clf17.predict(X_test_B4_RGB)"
      ],
      "metadata": {
        "id": "hzIH7DSLtDK2"
      },
      "execution_count": 248,
      "outputs": []
    },
    {
      "cell_type": "code",
      "source": [
        "print(\"Accuracy:\", metrics.accuracy_score(y_test_B4_RGB, y_pred_B4_RGB))"
      ],
      "metadata": {
        "colab": {
          "base_uri": "https://localhost:8080/"
        },
        "outputId": "f73f8c16-f39d-4950-8ce7-17e28114fbcf",
        "id": "GEEbdpHWtDK2"
      },
      "execution_count": 249,
      "outputs": [
        {
          "output_type": "stream",
          "name": "stdout",
          "text": [
            "Accuracy: 0.15403726708074533\n"
          ]
        }
      ]
    },
    {
      "cell_type": "markdown",
      "source": [
        "###HSV"
      ],
      "metadata": {
        "id": "0uU72QTItDK3"
      }
    },
    {
      "cell_type": "code",
      "source": [
        "clf18=svm.SVC()"
      ],
      "metadata": {
        "id": "nWF3QUf6kbQI"
      },
      "execution_count": 250,
      "outputs": []
    },
    {
      "cell_type": "code",
      "source": [
        "HSV_B4_Set1 = table_B4Set1.drop(['R-ref','G-ref','B-ref','R-Shad','G-Shad','B-Shad','Setting','Ref','Shad','Img'], axis=1)"
      ],
      "metadata": {
        "id": "UmeCk7BEtDK3"
      },
      "execution_count": 251,
      "outputs": []
    },
    {
      "cell_type": "code",
      "source": [
        "HSV_B4_concat2 = RGB_B4_concat0.drop(['R-ref','G-ref','B-ref','R-Shad','G-Shad','B-Shad','Setting','Ref','Shad','Img'], axis=1)"
      ],
      "metadata": {
        "id": "ZxnIQOSvtDK3"
      },
      "execution_count": 252,
      "outputs": []
    },
    {
      "cell_type": "code",
      "source": [
        "X_test_B4_HSV = np.array(HSV_B4_Set1)"
      ],
      "metadata": {
        "id": "aSLDyIKBtDK3"
      },
      "execution_count": 253,
      "outputs": []
    },
    {
      "cell_type": "code",
      "source": [
        "y_B4_HSV =  table_B4Set1.iloc[:,14:15]"
      ],
      "metadata": {
        "id": "FTlJFVSLtDK3"
      },
      "execution_count": 254,
      "outputs": []
    },
    {
      "cell_type": "code",
      "source": [
        "y_test_B4_HSV = np.array(y_B4_RGB)"
      ],
      "metadata": {
        "id": "ZEV2tUCttDK3"
      },
      "execution_count": 255,
      "outputs": []
    },
    {
      "cell_type": "code",
      "source": [
        "X_train_B4_HSV = np.array(HSV_B4_concat2)"
      ],
      "metadata": {
        "id": "9JqQWNVCtDK3"
      },
      "execution_count": 256,
      "outputs": []
    },
    {
      "cell_type": "code",
      "source": [
        "y_train_B4HSV = RGB_B4_concat0.iloc[:,14:15]"
      ],
      "metadata": {
        "id": "bpU-fvwMtDK3"
      },
      "execution_count": 257,
      "outputs": []
    },
    {
      "cell_type": "code",
      "source": [
        "y_train_B4_HSV = np.array(y_train_B4HSV)"
      ],
      "metadata": {
        "id": "F_wqNTDBtDK4"
      },
      "execution_count": 258,
      "outputs": []
    },
    {
      "cell_type": "code",
      "source": [
        "y_train_B4_HSV.shape = (len(y_train_B4_HSV,))"
      ],
      "metadata": {
        "id": "0Jpib_mFWhPc"
      },
      "execution_count": 259,
      "outputs": []
    },
    {
      "cell_type": "code",
      "source": [
        "clf18.fit(X_train_B4_HSV, y_train_B4_HSV)"
      ],
      "metadata": {
        "colab": {
          "base_uri": "https://localhost:8080/"
        },
        "outputId": "c6aeccb5-d7e1-4ce3-adbe-cd94b16079bb",
        "id": "T6Pk-fwVtDK4"
      },
      "execution_count": 260,
      "outputs": [
        {
          "output_type": "execute_result",
          "data": {
            "text/plain": [
              "SVC()"
            ]
          },
          "metadata": {},
          "execution_count": 260
        }
      ]
    },
    {
      "cell_type": "code",
      "source": [
        "y_pred_B4_HSV = clf18.predict(X_test_B4_HSV)"
      ],
      "metadata": {
        "id": "J1JaTO8ztDK4"
      },
      "execution_count": 261,
      "outputs": []
    },
    {
      "cell_type": "code",
      "source": [
        "print(\"Accuracy:\", metrics.accuracy_score(y_test_B4_HSV, y_pred_B4_HSV))"
      ],
      "metadata": {
        "colab": {
          "base_uri": "https://localhost:8080/"
        },
        "outputId": "184cc5a7-f191-4aaf-e1e1-962c881ce15d",
        "id": "ciaeVTHrtDK4"
      },
      "execution_count": 262,
      "outputs": [
        {
          "output_type": "stream",
          "name": "stdout",
          "text": [
            "Accuracy: 0.14782608695652175\n"
          ]
        }
      ]
    },
    {
      "cell_type": "markdown",
      "source": [
        "#CC"
      ],
      "metadata": {
        "id": "YmEFu_3tt92a"
      }
    },
    {
      "cell_type": "markdown",
      "source": [
        "##C1"
      ],
      "metadata": {
        "id": "VmnxrOB3uK8S"
      }
    },
    {
      "cell_type": "code",
      "source": [
        "table_C1Set1 = pd.read_excel(Set1 , sheet_name='C1_1')\n",
        "\n",
        "table_C1Set2 = pd.read_excel(Set2 , sheet_name='C1_2')\n",
        "\n",
        "table_C1Set3 = pd.read_excel(Set3 , sheet_name='C1_3')\n",
        "\n",
        "table_C1Set4 = pd.read_excel(Set4 , sheet_name='C1_4')\n",
        "\n",
        "table_C1Set6 = pd.read_excel(Set6 , sheet_name='C1_6')"
      ],
      "metadata": {
        "id": "DwwAi7JBuK8T"
      },
      "execution_count": 263,
      "outputs": []
    },
    {
      "cell_type": "markdown",
      "source": [
        "###RGB"
      ],
      "metadata": {
        "id": "5keaf1tduK8T"
      }
    },
    {
      "cell_type": "code",
      "source": [
        "clf19=svm.SVC()"
      ],
      "metadata": {
        "id": "q0iyRzFJkgqq"
      },
      "execution_count": 264,
      "outputs": []
    },
    {
      "cell_type": "code",
      "source": [
        "RGB_C1_Set1 = table_C1Set1.drop(['H-ref','S-ref','V-ref','H-Shad','S-Shad','V-Shad','Setting','Ref','Shad','Img'], axis=1)"
      ],
      "metadata": {
        "id": "LVBCr4rsuK8U"
      },
      "execution_count": 265,
      "outputs": []
    },
    {
      "cell_type": "code",
      "source": [
        "RGB_C1_Set2 = table_C1Set2\n",
        "\n",
        "RGB_C1_Set3 = table_C1Set3\n",
        "\n",
        "RGB_C1_Set4 = table_C1Set4\n",
        "\n",
        "RGB_C1_Set6 = table_C1Set6"
      ],
      "metadata": {
        "id": "SGDR0saNuK8U"
      },
      "execution_count": 266,
      "outputs": []
    },
    {
      "cell_type": "code",
      "source": [
        "RGB_C1_concat0 = pd.concat([RGB_C1_Set2,RGB_C1_Set3,RGB_C1_Set4,RGB_C1_Set6])"
      ],
      "metadata": {
        "id": "-zjMZ6u1nSIR"
      },
      "execution_count": 267,
      "outputs": []
    },
    {
      "cell_type": "code",
      "source": [
        "RGB_C1_concat2 = RGB_B1_concat0.drop(['H-ref','S-ref','V-ref','H-Shad','S-Shad','V-Shad','Setting','Ref','Shad','Img'], axis=1)"
      ],
      "metadata": {
        "id": "2rTrCnwXuK8U"
      },
      "execution_count": 268,
      "outputs": []
    },
    {
      "cell_type": "code",
      "source": [
        "X_test_C1_RGB = np.array(RGB_C1_Set1)"
      ],
      "metadata": {
        "id": "VEFT7a3ZuK8U"
      },
      "execution_count": 269,
      "outputs": []
    },
    {
      "cell_type": "code",
      "source": [
        "y_C1_RGB =  table_C1Set1.iloc[:,14:15]"
      ],
      "metadata": {
        "id": "1_rvYWFCuK8V"
      },
      "execution_count": 270,
      "outputs": []
    },
    {
      "cell_type": "code",
      "source": [
        "y_test_C1_RGB = np.array(y_C1_RGB)"
      ],
      "metadata": {
        "id": "5iWJSETLuK8V"
      },
      "execution_count": 271,
      "outputs": []
    },
    {
      "cell_type": "code",
      "source": [
        "X_train_C1_RGB = np.array(RGB_C1_concat2)"
      ],
      "metadata": {
        "id": "vdIUmKq1uK8V"
      },
      "execution_count": 272,
      "outputs": []
    },
    {
      "cell_type": "code",
      "source": [
        "y_train_C1RGB = RGB_C1_concat0.iloc[:,14:15]"
      ],
      "metadata": {
        "id": "k1-QsydzuK8V"
      },
      "execution_count": 273,
      "outputs": []
    },
    {
      "cell_type": "code",
      "source": [
        "y_train_C1_RGB = np.array(y_train_C1RGB)"
      ],
      "metadata": {
        "id": "SEOH7fl2uK8V"
      },
      "execution_count": 274,
      "outputs": []
    },
    {
      "cell_type": "code",
      "source": [
        "y_train_C1_RGB.shape = (len(y_train_C1_RGB,))"
      ],
      "metadata": {
        "id": "tcfI7jpbWkaT"
      },
      "execution_count": 275,
      "outputs": []
    },
    {
      "cell_type": "code",
      "source": [
        "clf19.fit(X_train_C1_RGB, y_train_C1_RGB)"
      ],
      "metadata": {
        "colab": {
          "base_uri": "https://localhost:8080/"
        },
        "outputId": "20eb3fe2-ebc3-476d-947d-343ba5f90be0",
        "id": "wDmlG34luK8V"
      },
      "execution_count": 276,
      "outputs": [
        {
          "output_type": "execute_result",
          "data": {
            "text/plain": [
              "SVC()"
            ]
          },
          "metadata": {},
          "execution_count": 276
        }
      ]
    },
    {
      "cell_type": "code",
      "source": [
        "y_pred_C1_RGB = clf19.predict(X_test_C1_RGB)"
      ],
      "metadata": {
        "id": "cul6CJoGuK8V"
      },
      "execution_count": 277,
      "outputs": []
    },
    {
      "cell_type": "code",
      "source": [
        "print(\"Accuracy:\", metrics.accuracy_score(y_test_C1_RGB, y_pred_C1_RGB))"
      ],
      "metadata": {
        "colab": {
          "base_uri": "https://localhost:8080/"
        },
        "outputId": "03342807-f00e-4883-d4da-f0cf189c7d69",
        "id": "JgIocA5RuK8V"
      },
      "execution_count": 278,
      "outputs": [
        {
          "output_type": "stream",
          "name": "stdout",
          "text": [
            "Accuracy: 0.062111801242236024\n"
          ]
        }
      ]
    },
    {
      "cell_type": "markdown",
      "source": [
        "###HSV"
      ],
      "metadata": {
        "id": "jqD4u3nkuK8W"
      }
    },
    {
      "cell_type": "code",
      "source": [
        "clf20=svm.SVC()"
      ],
      "metadata": {
        "id": "1asqINBakj53"
      },
      "execution_count": 279,
      "outputs": []
    },
    {
      "cell_type": "code",
      "source": [
        "HSV_C1_Set1 = table_C1Set1.drop(['R-ref','G-ref','B-ref','R-Shad','G-Shad','B-Shad','Setting','Ref','Shad','Img'], axis=1)"
      ],
      "metadata": {
        "id": "PPcgRIdPuK8W"
      },
      "execution_count": 280,
      "outputs": []
    },
    {
      "cell_type": "code",
      "source": [
        "HSV_C1_concat2 = RGB_C1_concat0.drop(['R-ref','G-ref','B-ref','R-Shad','G-Shad','B-Shad','Setting','Ref','Shad','Img'], axis=1)"
      ],
      "metadata": {
        "id": "Kuhm-IuSuK8W"
      },
      "execution_count": 281,
      "outputs": []
    },
    {
      "cell_type": "code",
      "source": [
        "X_test_C1_HSV = np.array(HSV_C1_Set1)"
      ],
      "metadata": {
        "id": "jaMGZ-BPuK8W"
      },
      "execution_count": 282,
      "outputs": []
    },
    {
      "cell_type": "code",
      "source": [
        "y_C1_HSV =  table_C1Set1.iloc[:,14:15]"
      ],
      "metadata": {
        "id": "O6w6ncjuuK8W"
      },
      "execution_count": 283,
      "outputs": []
    },
    {
      "cell_type": "code",
      "source": [
        "y_test_C1_HSV = np.array(y_C1_RGB)"
      ],
      "metadata": {
        "id": "7aCdQO7NuK8W"
      },
      "execution_count": 284,
      "outputs": []
    },
    {
      "cell_type": "code",
      "source": [
        "X_train_C1_HSV = np.array(HSV_C1_concat2)"
      ],
      "metadata": {
        "id": "a6Wxd-7suK8W"
      },
      "execution_count": 285,
      "outputs": []
    },
    {
      "cell_type": "code",
      "source": [
        "y_train_C1HSV = RGB_C1_concat0.iloc[:,14:15]"
      ],
      "metadata": {
        "id": "BL1mCT4muK8W"
      },
      "execution_count": 286,
      "outputs": []
    },
    {
      "cell_type": "code",
      "source": [
        "y_train_C1_HSV = np.array(y_train_C1HSV)"
      ],
      "metadata": {
        "id": "ze6vigz-uK8W"
      },
      "execution_count": 287,
      "outputs": []
    },
    {
      "cell_type": "code",
      "source": [
        "y_train_C1_HSV.shape = (len(y_train_C1_HSV,))"
      ],
      "metadata": {
        "id": "AezQGguyWnKc"
      },
      "execution_count": 288,
      "outputs": []
    },
    {
      "cell_type": "code",
      "source": [
        "clf20.fit(X_train_C1_HSV, y_train_C1_HSV)"
      ],
      "metadata": {
        "colab": {
          "base_uri": "https://localhost:8080/"
        },
        "outputId": "961f4905-2d18-4063-df34-79320ecb1d7f",
        "id": "neDKUdhCuK8X"
      },
      "execution_count": 289,
      "outputs": [
        {
          "output_type": "execute_result",
          "data": {
            "text/plain": [
              "SVC()"
            ]
          },
          "metadata": {},
          "execution_count": 289
        }
      ]
    },
    {
      "cell_type": "code",
      "source": [
        "y_pred_C1_HSV = clf20.predict(X_test_C1_HSV)"
      ],
      "metadata": {
        "id": "sXavKcRZuK8X"
      },
      "execution_count": 290,
      "outputs": []
    },
    {
      "cell_type": "code",
      "source": [
        "print(\"Accuracy:\", metrics.accuracy_score(y_test_C1_HSV, y_pred_C1_HSV))"
      ],
      "metadata": {
        "colab": {
          "base_uri": "https://localhost:8080/"
        },
        "outputId": "a772063b-5e01-4d04-f016-3f3a1803eec2",
        "id": "lV79DUGnuK8X"
      },
      "execution_count": 291,
      "outputs": [
        {
          "output_type": "stream",
          "name": "stdout",
          "text": [
            "Accuracy: 0.3105590062111801\n"
          ]
        }
      ]
    },
    {
      "cell_type": "markdown",
      "source": [
        "##C2"
      ],
      "metadata": {
        "id": "YNY_T-YOuK8X"
      }
    },
    {
      "cell_type": "code",
      "source": [
        "table_C2Set1 = pd.read_excel(Set1 , sheet_name='C2_1')\n",
        "\n",
        "table_C2Set2 = pd.read_excel(Set2 , sheet_name='C2_2')\n",
        "\n",
        "table_C2Set3 = pd.read_excel(Set3 , sheet_name='C2_3')\n",
        "\n",
        "table_C2Set4 = pd.read_excel(Set4 , sheet_name='C2_4')\n",
        "\n",
        "table_C2Set6 = pd.read_excel(Set6 , sheet_name='C2_6')"
      ],
      "metadata": {
        "id": "WMEieFRYuK8X"
      },
      "execution_count": 292,
      "outputs": []
    },
    {
      "cell_type": "markdown",
      "source": [
        "###RGB"
      ],
      "metadata": {
        "id": "14z-y0z0uK8Y"
      }
    },
    {
      "cell_type": "code",
      "source": [
        "clf21=svm.SVC()"
      ],
      "metadata": {
        "id": "0zG3r5r5kq61"
      },
      "execution_count": 293,
      "outputs": []
    },
    {
      "cell_type": "code",
      "source": [
        "RGB_C2_Set1 = table_C2Set1.drop(['H-ref','S-ref','V-ref','H-Shad','S-Shad','V-Shad','Setting','Ref','Shad','Img'], axis=1)"
      ],
      "metadata": {
        "id": "N74ITrYGuK8Y"
      },
      "execution_count": 294,
      "outputs": []
    },
    {
      "cell_type": "code",
      "source": [
        "RGB_C2_Set2 = table_C2Set2\n",
        "\n",
        "RGB_C2_Set3 = table_C2Set3\n",
        "\n",
        "RGB_C2_Set4 = table_C2Set4\n",
        "\n",
        "RGB_C2_Set6 = table_C2Set6"
      ],
      "metadata": {
        "id": "FvgfuG53uK8Y"
      },
      "execution_count": 295,
      "outputs": []
    },
    {
      "cell_type": "code",
      "source": [
        "RGB_C2_concat0 = pd.concat([RGB_C2_Set2,RGB_C2_Set3,RGB_C2_Set4,RGB_C2_Set6])"
      ],
      "metadata": {
        "id": "buvgSRoFg5Da"
      },
      "execution_count": 296,
      "outputs": []
    },
    {
      "cell_type": "code",
      "source": [
        "RGB_C2_concat2 = RGB_C2_concat0.drop(['H-ref','S-ref','V-ref','H-Shad','S-Shad','V-Shad','Setting','Ref','Shad','Img'], axis=1)"
      ],
      "metadata": {
        "id": "5QW32NZ1uK8Y"
      },
      "execution_count": 297,
      "outputs": []
    },
    {
      "cell_type": "code",
      "source": [
        "X_test_C2_RGB = np.array(RGB_C2_Set1)"
      ],
      "metadata": {
        "id": "y3HWzyi7uK8Y"
      },
      "execution_count": 298,
      "outputs": []
    },
    {
      "cell_type": "code",
      "source": [
        "y_C2_RGB =  table_C2Set1.iloc[:,14:15]"
      ],
      "metadata": {
        "id": "pvwyv_UjuK8Y"
      },
      "execution_count": 299,
      "outputs": []
    },
    {
      "cell_type": "code",
      "source": [
        "y_test_C2_RGB = np.array(y_B2_RGB)"
      ],
      "metadata": {
        "id": "7AqmxULnuK8Y"
      },
      "execution_count": 300,
      "outputs": []
    },
    {
      "cell_type": "code",
      "source": [
        "X_train_C2_RGB = np.array(RGB_C2_concat2)"
      ],
      "metadata": {
        "id": "kbaCmDQouK8Z"
      },
      "execution_count": 301,
      "outputs": []
    },
    {
      "cell_type": "code",
      "source": [
        "y_train_C2RGB = RGB_C2_concat0.iloc[:,14:15]"
      ],
      "metadata": {
        "id": "QFr7Q2mruK8Z"
      },
      "execution_count": 302,
      "outputs": []
    },
    {
      "cell_type": "code",
      "source": [
        "y_train_C2_RGB = np.array(y_train_C2RGB)"
      ],
      "metadata": {
        "id": "QM4liKsyuK8Z"
      },
      "execution_count": 303,
      "outputs": []
    },
    {
      "cell_type": "code",
      "source": [
        "y_train_C2_RGB.shape = (len(y_train_C2_RGB,))"
      ],
      "metadata": {
        "id": "zXrWTMu4WqAR"
      },
      "execution_count": 304,
      "outputs": []
    },
    {
      "cell_type": "code",
      "source": [
        "clf21.fit(X_train_C2_RGB, y_train_C2_RGB)"
      ],
      "metadata": {
        "colab": {
          "base_uri": "https://localhost:8080/"
        },
        "outputId": "44c93d42-4f51-40f7-b087-c7be0aa3c684",
        "id": "SCZ4Kb9yuK8Z"
      },
      "execution_count": 305,
      "outputs": [
        {
          "output_type": "execute_result",
          "data": {
            "text/plain": [
              "SVC()"
            ]
          },
          "metadata": {},
          "execution_count": 305
        }
      ]
    },
    {
      "cell_type": "code",
      "source": [
        "y_pred_C2_RGB = clf21.predict(X_test_C2_RGB)"
      ],
      "metadata": {
        "id": "8LGlyJrBuK8Z"
      },
      "execution_count": 306,
      "outputs": []
    },
    {
      "cell_type": "code",
      "source": [
        "print(\"Accuracy:\", metrics.accuracy_score(y_test_C2_RGB, y_pred_C2_RGB))"
      ],
      "metadata": {
        "colab": {
          "base_uri": "https://localhost:8080/"
        },
        "outputId": "087effab-e28f-47d3-abb9-6848d449fc2a",
        "id": "O5IintGtuK8Z"
      },
      "execution_count": 307,
      "outputs": [
        {
          "output_type": "stream",
          "name": "stdout",
          "text": [
            "Accuracy: 0.18757763975155278\n"
          ]
        }
      ]
    },
    {
      "cell_type": "markdown",
      "source": [
        "###HSV"
      ],
      "metadata": {
        "id": "m9ZymQUWuK8Z"
      }
    },
    {
      "cell_type": "code",
      "source": [
        "clf22=svm.SVC()"
      ],
      "metadata": {
        "id": "Z1b61ok1kt6k"
      },
      "execution_count": 308,
      "outputs": []
    },
    {
      "cell_type": "code",
      "source": [
        "HSV_C2_Set1 = table_C2Set1.drop(['R-ref','G-ref','B-ref','R-Shad','G-Shad','B-Shad','Setting','Ref','Shad','Img'], axis=1)"
      ],
      "metadata": {
        "id": "q5xlUfKquK8Z"
      },
      "execution_count": 309,
      "outputs": []
    },
    {
      "cell_type": "code",
      "source": [
        "HSV_C2_concat2 = RGB_C2_concat0.drop(['R-ref','G-ref','B-ref','R-Shad','G-Shad','B-Shad','Setting','Ref','Shad','Img'], axis=1)"
      ],
      "metadata": {
        "id": "s-viJk-8uK8Z"
      },
      "execution_count": 310,
      "outputs": []
    },
    {
      "cell_type": "code",
      "source": [
        "X_test_C2_HSV = np.array(HSV_C2_Set1)"
      ],
      "metadata": {
        "id": "3bWxFDmTuK8a"
      },
      "execution_count": 311,
      "outputs": []
    },
    {
      "cell_type": "code",
      "source": [
        "y_C2_HSV =  table_C2Set1.iloc[:,14:15]"
      ],
      "metadata": {
        "id": "lpnovtd2uK8a"
      },
      "execution_count": 312,
      "outputs": []
    },
    {
      "cell_type": "code",
      "source": [
        "y_test_C2_HSV = np.array(y_C2_RGB)"
      ],
      "metadata": {
        "id": "6GQ5gtAHuK8a"
      },
      "execution_count": 313,
      "outputs": []
    },
    {
      "cell_type": "code",
      "source": [
        "X_train_C2_HSV = np.array(HSV_C2_concat2)"
      ],
      "metadata": {
        "id": "PGXplz_NuK8a"
      },
      "execution_count": 314,
      "outputs": []
    },
    {
      "cell_type": "code",
      "source": [
        "y_train_C2HSV = RGB_C2_concat0.iloc[:,14:15]"
      ],
      "metadata": {
        "id": "vOmolRtnuK8a"
      },
      "execution_count": 315,
      "outputs": []
    },
    {
      "cell_type": "code",
      "source": [
        "y_train_C2_HSV = np.array(y_train_C2HSV)"
      ],
      "metadata": {
        "id": "DgpIHz4cuK8a"
      },
      "execution_count": 316,
      "outputs": []
    },
    {
      "cell_type": "code",
      "source": [
        "y_train_C2_HSV.shape = (len(y_train_C2_HSV,))"
      ],
      "metadata": {
        "id": "3em2WobNWsZD"
      },
      "execution_count": 317,
      "outputs": []
    },
    {
      "cell_type": "code",
      "source": [
        "clf22.fit(X_train_C2_HSV, y_train_C2_HSV)"
      ],
      "metadata": {
        "colab": {
          "base_uri": "https://localhost:8080/"
        },
        "outputId": "e8937688-c204-4bce-cf9e-69ada9a16de5",
        "id": "2DKI59WsuK8a"
      },
      "execution_count": 318,
      "outputs": [
        {
          "output_type": "execute_result",
          "data": {
            "text/plain": [
              "SVC()"
            ]
          },
          "metadata": {},
          "execution_count": 318
        }
      ]
    },
    {
      "cell_type": "code",
      "source": [
        "y_pred_C2_HSV = clf22.predict(X_test_C2_HSV)"
      ],
      "metadata": {
        "id": "hwrwDjh7uK8a"
      },
      "execution_count": 319,
      "outputs": []
    },
    {
      "cell_type": "code",
      "source": [
        "print(\"Accuracy:\", metrics.accuracy_score(y_test_C2_HSV, y_pred_C2_HSV))"
      ],
      "metadata": {
        "colab": {
          "base_uri": "https://localhost:8080/"
        },
        "outputId": "b4ef163f-a53f-4cb5-8f8b-9e98b2d91a0a",
        "id": "HyFHjL4fuK8a"
      },
      "execution_count": 320,
      "outputs": [
        {
          "output_type": "stream",
          "name": "stdout",
          "text": [
            "Accuracy: 0.3515527950310559\n"
          ]
        }
      ]
    },
    {
      "cell_type": "markdown",
      "source": [
        "##C3"
      ],
      "metadata": {
        "id": "rK-ZJLNyuK8b"
      }
    },
    {
      "cell_type": "code",
      "source": [
        "table_C3Set1 = pd.read_excel(Set1 , sheet_name='C3_1')\n",
        "\n",
        "table_C3Set2 = pd.read_excel(Set2 , sheet_name='C3_2')\n",
        "\n",
        "table_C3Set3 = pd.read_excel(Set3 , sheet_name='C3_3')\n",
        "\n",
        "table_C3Set4 = pd.read_excel(Set4 , sheet_name='C3_4')\n",
        "\n",
        "table_C3Set6 = pd.read_excel(Set6 , sheet_name='C3_6')"
      ],
      "metadata": {
        "id": "q-_w5TrjuK8b"
      },
      "execution_count": 321,
      "outputs": []
    },
    {
      "cell_type": "markdown",
      "source": [
        "###RGB"
      ],
      "metadata": {
        "id": "livhC8UguK8b"
      }
    },
    {
      "cell_type": "code",
      "source": [
        "clf23=svm.SVC()"
      ],
      "metadata": {
        "id": "kT5WRZaDkw-h"
      },
      "execution_count": 322,
      "outputs": []
    },
    {
      "cell_type": "code",
      "source": [
        "RGB_C3_Set1 = table_C3Set1.drop(['H-ref','S-ref','V-ref','H-Shad','S-Shad','V-Shad','Setting','Ref','Shad','Img'], axis=1)"
      ],
      "metadata": {
        "id": "ISqB5DK5uK8b"
      },
      "execution_count": 323,
      "outputs": []
    },
    {
      "cell_type": "code",
      "source": [
        "RGB_C3_Set2 = table_C3Set2\n",
        "\n",
        "RGB_C3_Set3 = table_C3Set3\n",
        "\n",
        "RGB_C3_Set4 = table_C3Set4\n",
        "\n",
        "RGB_C3_Set6 = table_C3Set6"
      ],
      "metadata": {
        "id": "94holi5juK8b"
      },
      "execution_count": 324,
      "outputs": []
    },
    {
      "cell_type": "code",
      "source": [
        "RGB_C3_concat0 = pd.concat([RGB_C3_Set2,RGB_C3_Set3,RGB_C3_Set4,RGB_C3_Set6])"
      ],
      "metadata": {
        "id": "PTcRIYkhhKr6"
      },
      "execution_count": 325,
      "outputs": []
    },
    {
      "cell_type": "code",
      "source": [
        "RGB_C3_concat2 = RGB_C3_concat0.drop(['H-ref','S-ref','V-ref','H-Shad','S-Shad','V-Shad','Setting','Ref','Shad','Img'], axis=1)"
      ],
      "metadata": {
        "id": "APEofv4juK8c"
      },
      "execution_count": 326,
      "outputs": []
    },
    {
      "cell_type": "code",
      "source": [
        "X_test_C3_RGB = np.array(RGB_C3_Set1)"
      ],
      "metadata": {
        "id": "BSMKHBOiuK8c"
      },
      "execution_count": 327,
      "outputs": []
    },
    {
      "cell_type": "code",
      "source": [
        "y_C3_RGB =  table_C3Set1.iloc[:,14:15]"
      ],
      "metadata": {
        "id": "6ewQAsdKuK8c"
      },
      "execution_count": 328,
      "outputs": []
    },
    {
      "cell_type": "code",
      "source": [
        "y_test_C3_RGB = np.array(y_C3_RGB)"
      ],
      "metadata": {
        "id": "MzpREteZuK8c"
      },
      "execution_count": 329,
      "outputs": []
    },
    {
      "cell_type": "code",
      "source": [
        "X_train_C3_RGB = np.array(RGB_C3_concat2)"
      ],
      "metadata": {
        "id": "fGl85QjvuK8c"
      },
      "execution_count": 330,
      "outputs": []
    },
    {
      "cell_type": "code",
      "source": [
        "y_train_C3RGB = RGB_C3_concat0.iloc[:,14:15]"
      ],
      "metadata": {
        "id": "fA9e3KQDuK8c"
      },
      "execution_count": 331,
      "outputs": []
    },
    {
      "cell_type": "code",
      "source": [
        "y_train_C3_RGB = np.array(y_train_C3RGB)"
      ],
      "metadata": {
        "id": "A6g2ijSwuK8c"
      },
      "execution_count": 332,
      "outputs": []
    },
    {
      "cell_type": "code",
      "source": [
        "y_train_C3_RGB.shape = (len(y_train_C3_RGB,))"
      ],
      "metadata": {
        "id": "wT0kU8WmWvbR"
      },
      "execution_count": 333,
      "outputs": []
    },
    {
      "cell_type": "code",
      "source": [
        "clf23.fit(X_train_C3_RGB, y_train_C3_RGB)"
      ],
      "metadata": {
        "colab": {
          "base_uri": "https://localhost:8080/"
        },
        "outputId": "3543076b-932e-459b-cd91-beed8b531d82",
        "id": "2mTRXAEBuK8c"
      },
      "execution_count": 334,
      "outputs": [
        {
          "output_type": "execute_result",
          "data": {
            "text/plain": [
              "SVC()"
            ]
          },
          "metadata": {},
          "execution_count": 334
        }
      ]
    },
    {
      "cell_type": "code",
      "source": [
        "y_pred_C3_RGB = clf23.predict(X_test_C3_RGB)"
      ],
      "metadata": {
        "id": "zhWYBiVsuK8d"
      },
      "execution_count": 335,
      "outputs": []
    },
    {
      "cell_type": "code",
      "source": [
        "print(\"Accuracy:\", metrics.accuracy_score(y_test_C3_RGB, y_pred_C3_RGB))"
      ],
      "metadata": {
        "colab": {
          "base_uri": "https://localhost:8080/"
        },
        "outputId": "6ab79844-ab42-458f-d1ac-66bae93165fd",
        "id": "QXKAW4-FuK8d"
      },
      "execution_count": 336,
      "outputs": [
        {
          "output_type": "stream",
          "name": "stdout",
          "text": [
            "Accuracy: 0.4645962732919255\n"
          ]
        }
      ]
    },
    {
      "cell_type": "markdown",
      "source": [
        "###HSV"
      ],
      "metadata": {
        "id": "Tcn_9zpPuK8d"
      }
    },
    {
      "cell_type": "code",
      "source": [
        "clf24=svm.SVC()"
      ],
      "metadata": {
        "id": "ihddSUGBk0TE"
      },
      "execution_count": 337,
      "outputs": []
    },
    {
      "cell_type": "code",
      "source": [
        "HSV_C3_Set1 = table_C3Set1.drop(['R-ref','G-ref','B-ref','R-Shad','G-Shad','B-Shad','Setting','Ref','Shad','Img'], axis=1)"
      ],
      "metadata": {
        "id": "8YGWOpmUuK8d"
      },
      "execution_count": 338,
      "outputs": []
    },
    {
      "cell_type": "code",
      "source": [
        "HSV_C3_concat2 = RGB_C3_concat0.drop(['R-ref','G-ref','B-ref','R-Shad','G-Shad','B-Shad','Setting','Ref','Shad','Img'], axis=1)"
      ],
      "metadata": {
        "id": "_ffYkSLwuK8d"
      },
      "execution_count": 339,
      "outputs": []
    },
    {
      "cell_type": "code",
      "source": [
        "X_test_C3_HSV = np.array(HSV_C3_Set1)"
      ],
      "metadata": {
        "id": "_V99mUp2uK8d"
      },
      "execution_count": 340,
      "outputs": []
    },
    {
      "cell_type": "code",
      "source": [
        "y_C3_HSV =  table_C3Set1.iloc[:,14:15]"
      ],
      "metadata": {
        "id": "_mqy3vKjuK8d"
      },
      "execution_count": 341,
      "outputs": []
    },
    {
      "cell_type": "code",
      "source": [
        "y_test_C3_HSV = np.array(y_C3_RGB)"
      ],
      "metadata": {
        "id": "nqroCQSCuK8d"
      },
      "execution_count": 342,
      "outputs": []
    },
    {
      "cell_type": "code",
      "source": [
        "X_train_C3_HSV = np.array(HSV_C3_concat2)"
      ],
      "metadata": {
        "id": "eaij-4V_uK8d"
      },
      "execution_count": 343,
      "outputs": []
    },
    {
      "cell_type": "code",
      "source": [
        "y_train_C3HSV = RGB_C3_concat0.iloc[:,14:15]"
      ],
      "metadata": {
        "id": "SNbPbhi0uK8d"
      },
      "execution_count": 344,
      "outputs": []
    },
    {
      "cell_type": "code",
      "source": [
        "y_train_C3_HSV = np.array(y_train_C3HSV)"
      ],
      "metadata": {
        "id": "ymd4fVW3uK8d"
      },
      "execution_count": 345,
      "outputs": []
    },
    {
      "cell_type": "code",
      "source": [
        "y_train_C3_HSV.shape = (len(y_train_C3_HSV,))"
      ],
      "metadata": {
        "id": "_QIr8mj5WyNW"
      },
      "execution_count": 346,
      "outputs": []
    },
    {
      "cell_type": "code",
      "source": [
        "clf24.fit(X_train_C3_HSV, y_train_C3_HSV)"
      ],
      "metadata": {
        "colab": {
          "base_uri": "https://localhost:8080/"
        },
        "outputId": "ce9781a1-628b-4256-9abd-b221c71fde69",
        "id": "G2xivXIyuK8e"
      },
      "execution_count": 347,
      "outputs": [
        {
          "output_type": "execute_result",
          "data": {
            "text/plain": [
              "SVC()"
            ]
          },
          "metadata": {},
          "execution_count": 347
        }
      ]
    },
    {
      "cell_type": "code",
      "source": [
        "y_pred_C3_HSV = clf24.predict(X_test_C3_HSV)"
      ],
      "metadata": {
        "id": "_c_42BEKuK8e"
      },
      "execution_count": 348,
      "outputs": []
    },
    {
      "cell_type": "code",
      "source": [
        "print(\"Accuracy:\", metrics.accuracy_score(y_test_C3_HSV, y_pred_C3_HSV))"
      ],
      "metadata": {
        "colab": {
          "base_uri": "https://localhost:8080/"
        },
        "outputId": "8a1211a9-b62d-42c6-fa9a-fa7b420dffe4",
        "id": "fnMe2K_VuK8e"
      },
      "execution_count": 349,
      "outputs": [
        {
          "output_type": "stream",
          "name": "stdout",
          "text": [
            "Accuracy: 0.23354037267080746\n"
          ]
        }
      ]
    },
    {
      "cell_type": "markdown",
      "source": [
        "##C4"
      ],
      "metadata": {
        "id": "qWONdRUpuK8e"
      }
    },
    {
      "cell_type": "code",
      "source": [
        "table_C4Set1 = pd.read_excel(Set1 , sheet_name='C4_1')\n",
        "\n",
        "table_C4Set2 = pd.read_excel(Set2 , sheet_name='C4_2')\n",
        "\n",
        "table_C4Set3 = pd.read_excel(Set3 , sheet_name='C4_3')\n",
        "\n",
        "table_C4Set4 = pd.read_excel(Set4 , sheet_name='C4_4')\n",
        "\n",
        "table_C4Set6 = pd.read_excel(Set6 , sheet_name='C4_6')"
      ],
      "metadata": {
        "id": "BtGs5Fi7uK8e"
      },
      "execution_count": 350,
      "outputs": []
    },
    {
      "cell_type": "markdown",
      "source": [
        "###RGB"
      ],
      "metadata": {
        "id": "itC-PgyduK8f"
      }
    },
    {
      "cell_type": "code",
      "source": [
        "clf25=svm.SVC()"
      ],
      "metadata": {
        "id": "UT8Yy8wUk3Sg"
      },
      "execution_count": 351,
      "outputs": []
    },
    {
      "cell_type": "code",
      "source": [
        "RGB_C4_Set1 = table_C4Set1.drop(['H-ref','S-ref','V-ref','H-Shad','S-Shad','V-Shad','Setting','Ref','Shad','Img'], axis=1)"
      ],
      "metadata": {
        "id": "2Upie7PbuK8f"
      },
      "execution_count": 352,
      "outputs": []
    },
    {
      "cell_type": "code",
      "source": [
        "RGB_C4_Set2 = table_C4Set2\n",
        "\n",
        "RGB_C4_Set3 = table_C4Set3\n",
        "\n",
        "RGB_C4_Set4 = table_C4Set4\n",
        "\n",
        "RGB_C4_Set6 = table_C4Set6"
      ],
      "metadata": {
        "id": "1MEK29oNuK8f"
      },
      "execution_count": 353,
      "outputs": []
    },
    {
      "cell_type": "code",
      "source": [
        "RGB_C4_concat0 = pd.concat([RGB_C4_Set2,RGB_C4_Set3,RGB_C4_Set4,RGB_C4_Set6])"
      ],
      "metadata": {
        "id": "-_6SQaCbhgE1"
      },
      "execution_count": 354,
      "outputs": []
    },
    {
      "cell_type": "code",
      "source": [
        "RGB_C4_concat2 = RGB_C4_concat0.drop(['H-ref','S-ref','V-ref','H-Shad','S-Shad','V-Shad','Setting','Ref','Shad','Img'], axis=1)"
      ],
      "metadata": {
        "id": "a-gC-GfkuK8f"
      },
      "execution_count": 355,
      "outputs": []
    },
    {
      "cell_type": "code",
      "source": [
        "X_test_C4_RGB = np.array(RGB_C4_Set1)"
      ],
      "metadata": {
        "id": "oybcs3qOuK8f"
      },
      "execution_count": 356,
      "outputs": []
    },
    {
      "cell_type": "code",
      "source": [
        "y_C4_RGB =  table_C4Set1.iloc[:,14:15]"
      ],
      "metadata": {
        "id": "B8JwR0-QuK8f"
      },
      "execution_count": 357,
      "outputs": []
    },
    {
      "cell_type": "code",
      "source": [
        "y_test_C4_RGB = np.array(y_C4_RGB)"
      ],
      "metadata": {
        "id": "4Zr9IHe_uK8g"
      },
      "execution_count": 358,
      "outputs": []
    },
    {
      "cell_type": "code",
      "source": [
        "X_train_C4_RGB = np.array(RGB_C4_concat2)"
      ],
      "metadata": {
        "id": "HW4sce4YuK8g"
      },
      "execution_count": 359,
      "outputs": []
    },
    {
      "cell_type": "code",
      "source": [
        "y_train_C4RGB = RGB_C4_concat0.iloc[:,14:15]"
      ],
      "metadata": {
        "id": "8ZtEorViuK8g"
      },
      "execution_count": 360,
      "outputs": []
    },
    {
      "cell_type": "code",
      "source": [
        "y_train_C4_RGB = np.array(y_train_C4RGB)"
      ],
      "metadata": {
        "id": "06EX8wlduK8g"
      },
      "execution_count": 361,
      "outputs": []
    },
    {
      "cell_type": "code",
      "source": [
        "y_train_C4_RGB.shape = (len(y_train_C4_RGB,))"
      ],
      "metadata": {
        "id": "M5mtCCw1W1-f"
      },
      "execution_count": 362,
      "outputs": []
    },
    {
      "cell_type": "code",
      "source": [
        "clf25.fit(X_train_C4_RGB, y_train_C4_RGB)"
      ],
      "metadata": {
        "colab": {
          "base_uri": "https://localhost:8080/"
        },
        "outputId": "25ecb6b2-5e82-45af-ac45-a37dee077ffe",
        "id": "xvVKEn4zuK8g"
      },
      "execution_count": 363,
      "outputs": [
        {
          "output_type": "execute_result",
          "data": {
            "text/plain": [
              "SVC()"
            ]
          },
          "metadata": {},
          "execution_count": 363
        }
      ]
    },
    {
      "cell_type": "code",
      "source": [
        "y_pred_C4_RGB = clf25.predict(X_test_C4_RGB)"
      ],
      "metadata": {
        "id": "gYOIwjY3uK8g"
      },
      "execution_count": 364,
      "outputs": []
    },
    {
      "cell_type": "code",
      "source": [
        "print(\"Accuracy:\", metrics.accuracy_score(y_test_C4_RGB, y_pred_C4_RGB))"
      ],
      "metadata": {
        "colab": {
          "base_uri": "https://localhost:8080/"
        },
        "outputId": "ae81e4b3-98ba-4c4a-8e49-e7bfac8043b8",
        "id": "dpge-QlmuK8g"
      },
      "execution_count": 365,
      "outputs": [
        {
          "output_type": "stream",
          "name": "stdout",
          "text": [
            "Accuracy: 0.36770186335403726\n"
          ]
        }
      ]
    },
    {
      "cell_type": "markdown",
      "source": [
        "###HSV"
      ],
      "metadata": {
        "id": "3auzfsaNuK8g"
      }
    },
    {
      "cell_type": "code",
      "source": [
        "clf26=svm.SVC()"
      ],
      "metadata": {
        "id": "fpqkGie1k7mI"
      },
      "execution_count": 366,
      "outputs": []
    },
    {
      "cell_type": "code",
      "source": [
        "HSV_C4_Set1 = table_C4Set1.drop(['R-ref','G-ref','B-ref','R-Shad','G-Shad','B-Shad','Setting','Ref','Shad','Img'], axis=1)"
      ],
      "metadata": {
        "id": "79x7fX5RuK8g"
      },
      "execution_count": 367,
      "outputs": []
    },
    {
      "cell_type": "code",
      "source": [
        "HSV_C4_concat2 = RGB_C4_concat0.drop(['R-ref','G-ref','B-ref','R-Shad','G-Shad','B-Shad','Setting','Ref','Shad','Img'], axis=1)"
      ],
      "metadata": {
        "id": "OJtvWMzquK8g"
      },
      "execution_count": 368,
      "outputs": []
    },
    {
      "cell_type": "code",
      "source": [
        "X_test_C4_HSV = np.array(HSV_C4_Set1)"
      ],
      "metadata": {
        "id": "9wwsXAPRuK8g"
      },
      "execution_count": 369,
      "outputs": []
    },
    {
      "cell_type": "code",
      "source": [
        "y_C4_HSV =  table_C4Set1.iloc[:,14:15]"
      ],
      "metadata": {
        "id": "yMXKV4w-uK8h"
      },
      "execution_count": 370,
      "outputs": []
    },
    {
      "cell_type": "code",
      "source": [
        "y_test_C4_HSV = np.array(y_C4_RGB)"
      ],
      "metadata": {
        "id": "vsS0ChHIuK8h"
      },
      "execution_count": 371,
      "outputs": []
    },
    {
      "cell_type": "code",
      "source": [
        "X_train_C4_HSV = np.array(HSV_C4_concat2)"
      ],
      "metadata": {
        "id": "PL9ejspDuK8h"
      },
      "execution_count": 372,
      "outputs": []
    },
    {
      "cell_type": "code",
      "source": [
        "y_train_C4HSV = RGB_C4_concat0.iloc[:,14:15]"
      ],
      "metadata": {
        "id": "FAf1PmlquK8h"
      },
      "execution_count": 373,
      "outputs": []
    },
    {
      "cell_type": "code",
      "source": [
        "y_train_C4_HSV = np.array(y_train_C4HSV)"
      ],
      "metadata": {
        "id": "W0Kf74pWuK8h"
      },
      "execution_count": 374,
      "outputs": []
    },
    {
      "cell_type": "code",
      "source": [
        "y_train_C4_HSV.shape = (len(y_train_C4_HSV,))"
      ],
      "metadata": {
        "id": "MZHZ7zTyW5DS"
      },
      "execution_count": 375,
      "outputs": []
    },
    {
      "cell_type": "code",
      "source": [
        "clf26.fit(X_train_C4_HSV, y_train_C4_HSV)"
      ],
      "metadata": {
        "colab": {
          "base_uri": "https://localhost:8080/"
        },
        "outputId": "7b1efb13-ae6d-4bc8-8b2c-793e44b6a600",
        "id": "7Q7bgyn-uK8h"
      },
      "execution_count": 376,
      "outputs": [
        {
          "output_type": "execute_result",
          "data": {
            "text/plain": [
              "SVC()"
            ]
          },
          "metadata": {},
          "execution_count": 376
        }
      ]
    },
    {
      "cell_type": "code",
      "source": [
        "y_pred_C4_HSV = clf26.predict(X_test_C4_HSV)"
      ],
      "metadata": {
        "id": "dVZkULXFuK8h"
      },
      "execution_count": 377,
      "outputs": []
    },
    {
      "cell_type": "code",
      "source": [
        "print(\"Accuracy:\", metrics.accuracy_score(y_test_C4_HSV, y_pred_C4_HSV))"
      ],
      "metadata": {
        "colab": {
          "base_uri": "https://localhost:8080/"
        },
        "outputId": "84412440-0c53-418a-8304-ce593ea530e8",
        "id": "fNDv3zRluK8h"
      },
      "execution_count": 378,
      "outputs": [
        {
          "output_type": "stream",
          "name": "stdout",
          "text": [
            "Accuracy: 0.3018633540372671\n"
          ]
        }
      ]
    },
    {
      "cell_type": "markdown",
      "source": [
        "#DD"
      ],
      "metadata": {
        "id": "kFckM1SuxrfW"
      }
    },
    {
      "cell_type": "markdown",
      "source": [
        "##D2"
      ],
      "metadata": {
        "id": "Dx0Ujmpqx90R"
      }
    },
    {
      "cell_type": "code",
      "source": [
        "table_D2Set1 = pd.read_excel(Set1 , sheet_name='D2_1')\n",
        "\n",
        "table_D2Set2 = pd.read_excel(Set2 , sheet_name='D2_2')\n",
        "\n",
        "table_D2Set3 = pd.read_excel(Set3 , sheet_name='D2_3')\n",
        "\n",
        "table_D2Set4 = pd.read_excel(Set4 , sheet_name='D2_4')\n",
        "\n",
        "table_D2Set6 = pd.read_excel(Set6 , sheet_name='D2_6')"
      ],
      "metadata": {
        "id": "py_AYnaOx90R"
      },
      "execution_count": 379,
      "outputs": []
    },
    {
      "cell_type": "markdown",
      "source": [
        "###RGB"
      ],
      "metadata": {
        "id": "p_euaG1Sx90S"
      }
    },
    {
      "cell_type": "code",
      "source": [
        "clf27=svm.SVC()"
      ],
      "metadata": {
        "id": "0IOX-T0qk_JW"
      },
      "execution_count": 380,
      "outputs": []
    },
    {
      "cell_type": "code",
      "source": [
        "RGB_D2_Set1 = table_D2Set1.drop(['H-ref','S-ref','V-ref','H-Shad','S-Shad','V-Shad','Setting','Ref','Shad','Img'], axis=1)"
      ],
      "metadata": {
        "id": "4S39UT3Rx90S"
      },
      "execution_count": 381,
      "outputs": []
    },
    {
      "cell_type": "code",
      "source": [
        "RGB_D2_Set2 = table_D2Set2\n",
        "\n",
        "RGB_D2_Set3 = table_D2Set3\n",
        "\n",
        "RGB_D2_Set4 = table_D2Set4\n",
        "\n",
        "RGB_D2_Set6 = table_D2Set6"
      ],
      "metadata": {
        "id": "nJh9mta-x90S"
      },
      "execution_count": 382,
      "outputs": []
    },
    {
      "cell_type": "code",
      "source": [
        "RGB_D2_concat0 = pd.concat([RGB_D2_Set2,RGB_D2_Set3,RGB_D2_Set4,RGB_D2_Set6])"
      ],
      "metadata": {
        "id": "CxzZN5qBhyUb"
      },
      "execution_count": 383,
      "outputs": []
    },
    {
      "cell_type": "code",
      "source": [
        "RGB_D2_concat2 = RGB_D2_concat0.drop(['H-ref','S-ref','V-ref','H-Shad','S-Shad','V-Shad','Setting','Ref','Shad','Img'], axis=1)"
      ],
      "metadata": {
        "id": "MAwcNIm2x90T"
      },
      "execution_count": 384,
      "outputs": []
    },
    {
      "cell_type": "code",
      "source": [
        "X_test_D2_RGB = np.array(RGB_D2_Set1)"
      ],
      "metadata": {
        "id": "sp1VXLkox90T"
      },
      "execution_count": 385,
      "outputs": []
    },
    {
      "cell_type": "code",
      "source": [
        "y_D2_RGB =  table_D2Set1.iloc[:,14:15]"
      ],
      "metadata": {
        "id": "HjrkrzQLx90T"
      },
      "execution_count": 386,
      "outputs": []
    },
    {
      "cell_type": "code",
      "source": [
        "y_test_D2_RGB = np.array(y_D2_RGB)"
      ],
      "metadata": {
        "id": "X_yNCUKWx90T"
      },
      "execution_count": 387,
      "outputs": []
    },
    {
      "cell_type": "code",
      "source": [
        "X_train_D2_RGB = np.array(RGB_D2_concat2)"
      ],
      "metadata": {
        "id": "s4tbeuf1x90T"
      },
      "execution_count": 388,
      "outputs": []
    },
    {
      "cell_type": "code",
      "source": [
        "y_train_D2RGB = RGB_D2_concat0.iloc[:,14:15]"
      ],
      "metadata": {
        "id": "YDH_D_rNx90T"
      },
      "execution_count": 389,
      "outputs": []
    },
    {
      "cell_type": "code",
      "source": [
        "y_train_D2_RGB = np.array(y_train_D2RGB)"
      ],
      "metadata": {
        "id": "s0ZuO4mux90T"
      },
      "execution_count": 390,
      "outputs": []
    },
    {
      "cell_type": "code",
      "source": [
        "y_train_D2_RGB.shape = (len(y_train_D2_RGB,))"
      ],
      "metadata": {
        "id": "MfbhXo16W8i6"
      },
      "execution_count": 391,
      "outputs": []
    },
    {
      "cell_type": "code",
      "source": [
        "clf27.fit(X_train_D2_RGB, y_train_D2_RGB)"
      ],
      "metadata": {
        "colab": {
          "base_uri": "https://localhost:8080/"
        },
        "outputId": "5ac64a7c-c428-45da-fe19-440631247e54",
        "id": "FgepnkAdx90U"
      },
      "execution_count": 392,
      "outputs": [
        {
          "output_type": "execute_result",
          "data": {
            "text/plain": [
              "SVC()"
            ]
          },
          "metadata": {},
          "execution_count": 392
        }
      ]
    },
    {
      "cell_type": "code",
      "source": [
        "y_pred_D2_RGB = clf27.predict(X_test_D2_RGB)"
      ],
      "metadata": {
        "id": "KqZtbI1yx90U"
      },
      "execution_count": 393,
      "outputs": []
    },
    {
      "cell_type": "code",
      "source": [
        "print(\"Accuracy:\", metrics.accuracy_score(y_test_D2_RGB, y_pred_D2_RGB))"
      ],
      "metadata": {
        "colab": {
          "base_uri": "https://localhost:8080/"
        },
        "outputId": "79d88607-34fe-4225-e680-1661375f689e",
        "id": "wmJTutTAx90U"
      },
      "execution_count": 394,
      "outputs": [
        {
          "output_type": "stream",
          "name": "stdout",
          "text": [
            "Accuracy: 0.29440993788819875\n"
          ]
        }
      ]
    },
    {
      "cell_type": "markdown",
      "source": [
        "###HSV"
      ],
      "metadata": {
        "id": "iTUrHbyjx90U"
      }
    },
    {
      "cell_type": "code",
      "source": [
        "clf28=svm.SVC()"
      ],
      "metadata": {
        "id": "kRYW68otlCtS"
      },
      "execution_count": 395,
      "outputs": []
    },
    {
      "cell_type": "code",
      "source": [
        "HSV_D2_Set1 = table_D2Set1.drop(['R-ref','G-ref','B-ref','R-Shad','G-Shad','B-Shad','Setting','Ref','Shad','Img'], axis=1)"
      ],
      "metadata": {
        "id": "3JeaZWnkx90U"
      },
      "execution_count": 396,
      "outputs": []
    },
    {
      "cell_type": "code",
      "source": [
        "HSV_D2_concat2 = RGB_D2_concat0.drop(['R-ref','G-ref','B-ref','R-Shad','G-Shad','B-Shad','Setting','Ref','Shad','Img'], axis=1)"
      ],
      "metadata": {
        "id": "3_2SN1GBx90U"
      },
      "execution_count": 397,
      "outputs": []
    },
    {
      "cell_type": "code",
      "source": [
        "X_test_D2_HSV = np.array(HSV_D2_Set1)"
      ],
      "metadata": {
        "id": "RaBXco4Qx90U"
      },
      "execution_count": 398,
      "outputs": []
    },
    {
      "cell_type": "code",
      "source": [
        "y_D2_HSV =  table_D2Set1.iloc[:,14:15]"
      ],
      "metadata": {
        "id": "G9P57h2qx90U"
      },
      "execution_count": 399,
      "outputs": []
    },
    {
      "cell_type": "code",
      "source": [
        "y_test_D2_HSV = np.array(y_D2_RGB)"
      ],
      "metadata": {
        "id": "Tgk7oFlox90V"
      },
      "execution_count": 400,
      "outputs": []
    },
    {
      "cell_type": "code",
      "source": [
        "X_train_D2_HSV = np.array(HSV_D2_concat2)"
      ],
      "metadata": {
        "id": "9YurdEdJx90V"
      },
      "execution_count": 401,
      "outputs": []
    },
    {
      "cell_type": "code",
      "source": [
        "y_train_D2HSV = RGB_D2_concat0.iloc[:,14:15]"
      ],
      "metadata": {
        "id": "s3A59uQsx90V"
      },
      "execution_count": 402,
      "outputs": []
    },
    {
      "cell_type": "code",
      "source": [
        "y_train_D2_HSV = np.array(y_train_D2HSV)"
      ],
      "metadata": {
        "id": "_Q8KC_jBx90V"
      },
      "execution_count": 403,
      "outputs": []
    },
    {
      "cell_type": "code",
      "source": [
        "y_train_D2_HSV.shape = (len(y_train_D2_HSV,))"
      ],
      "metadata": {
        "id": "Vs0IzLaFW_EI"
      },
      "execution_count": 404,
      "outputs": []
    },
    {
      "cell_type": "code",
      "source": [
        "clf28.fit(X_train_D2_HSV, y_train_D2_HSV)"
      ],
      "metadata": {
        "colab": {
          "base_uri": "https://localhost:8080/"
        },
        "outputId": "dd2aec95-673c-4162-e6bc-0998ec5acc50",
        "id": "hQrQntI1x90V"
      },
      "execution_count": 405,
      "outputs": [
        {
          "output_type": "execute_result",
          "data": {
            "text/plain": [
              "SVC()"
            ]
          },
          "metadata": {},
          "execution_count": 405
        }
      ]
    },
    {
      "cell_type": "code",
      "source": [
        "y_pred_D2_HSV = clf28.predict(X_test_D2_HSV)"
      ],
      "metadata": {
        "id": "TsH-vaSMx90V"
      },
      "execution_count": 406,
      "outputs": []
    },
    {
      "cell_type": "code",
      "source": [
        "print(\"Accuracy:\", metrics.accuracy_score(y_test_D2_HSV, y_pred_D2_HSV))"
      ],
      "metadata": {
        "colab": {
          "base_uri": "https://localhost:8080/"
        },
        "outputId": "50caf9a7-6df6-46ff-cb01-93e1742d4ff4",
        "id": "5j4gANcdx90V"
      },
      "execution_count": 407,
      "outputs": [
        {
          "output_type": "stream",
          "name": "stdout",
          "text": [
            "Accuracy: 0.19875776397515527\n"
          ]
        }
      ]
    },
    {
      "cell_type": "markdown",
      "source": [
        "##D3"
      ],
      "metadata": {
        "id": "ntLV6fwAx90V"
      }
    },
    {
      "cell_type": "code",
      "source": [
        "table_D3Set1 = pd.read_excel(Set1 , sheet_name='D3_1')\n",
        "\n",
        "table_D3Set2 = pd.read_excel(Set2 , sheet_name='D3_2')\n",
        "\n",
        "table_D3Set3 = pd.read_excel(Set3 , sheet_name='D3_3')\n",
        "\n",
        "table_D3Set4 = pd.read_excel(Set4 , sheet_name='D3_4')\n",
        "\n",
        "table_D3Set6 = pd.read_excel(Set6 , sheet_name='D3_6')"
      ],
      "metadata": {
        "id": "8iTZ6oX0x90V"
      },
      "execution_count": 408,
      "outputs": []
    },
    {
      "cell_type": "markdown",
      "source": [
        "###RGB"
      ],
      "metadata": {
        "id": "CYvwE4PDx90W"
      }
    },
    {
      "cell_type": "code",
      "source": [
        "clf29=svm.SVC()"
      ],
      "metadata": {
        "id": "vQwq9BtZlF-z"
      },
      "execution_count": 409,
      "outputs": []
    },
    {
      "cell_type": "code",
      "source": [
        "RGB_D3_Set1 = table_D3Set1.drop(['H-ref','S-ref','V-ref','H-Shad','S-Shad','V-Shad','Setting','Ref','Shad','Img'], axis=1)"
      ],
      "metadata": {
        "id": "PlR5iWwRx90W"
      },
      "execution_count": 410,
      "outputs": []
    },
    {
      "cell_type": "code",
      "source": [
        "RGB_D3_Set2 = table_D3Set2\n",
        "\n",
        "RGB_D3_Set3 = table_D3Set3\n",
        "\n",
        "RGB_D3_Set4 = table_D3Set4\n",
        "\n",
        "RGB_D3_Set6 = table_D3Set6"
      ],
      "metadata": {
        "id": "blPo4yEex90W"
      },
      "execution_count": 411,
      "outputs": []
    },
    {
      "cell_type": "code",
      "source": [
        "RGB_D3_concat0 = pd.concat([RGB_D3_Set2,RGB_D3_Set3,RGB_D3_Set4])"
      ],
      "metadata": {
        "id": "bl9iY6xSiIJz"
      },
      "execution_count": 412,
      "outputs": []
    },
    {
      "cell_type": "code",
      "source": [
        "RGB_D3_concat2 = RGB_D3_concat0.drop(['H-ref','S-ref','V-ref','H-Shad','S-Shad','V-Shad','Setting','Ref','Shad','Img'], axis=1)"
      ],
      "metadata": {
        "id": "1yMt6NzXx90X"
      },
      "execution_count": 413,
      "outputs": []
    },
    {
      "cell_type": "code",
      "source": [
        "X_test_D3_RGB = np.array(RGB_D3_Set1)"
      ],
      "metadata": {
        "id": "ufA1_Y1xx90X"
      },
      "execution_count": 414,
      "outputs": []
    },
    {
      "cell_type": "code",
      "source": [
        "y_D3_RGB =  table_D3Set1.iloc[:,14:15]"
      ],
      "metadata": {
        "id": "-QW8SDSyx90X"
      },
      "execution_count": 415,
      "outputs": []
    },
    {
      "cell_type": "code",
      "source": [
        "y_test_D3_RGB = np.array(y_D3_RGB)"
      ],
      "metadata": {
        "id": "kL5UDJAUx90X"
      },
      "execution_count": 416,
      "outputs": []
    },
    {
      "cell_type": "code",
      "source": [
        "X_train_D3_RGB = np.array(RGB_D3_concat2)"
      ],
      "metadata": {
        "id": "I-j7R3Tnx90X"
      },
      "execution_count": 417,
      "outputs": []
    },
    {
      "cell_type": "code",
      "source": [
        "y_train_D3RGB = RGB_D3_concat0.iloc[:,14:15]"
      ],
      "metadata": {
        "id": "cuBbjTNYx90X"
      },
      "execution_count": 418,
      "outputs": []
    },
    {
      "cell_type": "code",
      "source": [
        "y_train_D3_RGB = np.array(y_train_D3RGB)"
      ],
      "metadata": {
        "id": "gB3TEG8Ox90Y"
      },
      "execution_count": 419,
      "outputs": []
    },
    {
      "cell_type": "code",
      "source": [
        "y_train_D3_RGB.shape = (len(y_train_D3_RGB,))"
      ],
      "metadata": {
        "id": "kyPLt67BXCmo"
      },
      "execution_count": 420,
      "outputs": []
    },
    {
      "cell_type": "code",
      "source": [
        "clf29.fit(X_train_D3_RGB, y_train_D3_RGB)"
      ],
      "metadata": {
        "colab": {
          "base_uri": "https://localhost:8080/"
        },
        "outputId": "2da79dd6-4f14-41dd-9b15-03f467b99661",
        "id": "owe-5XSGx90Y"
      },
      "execution_count": 421,
      "outputs": [
        {
          "output_type": "execute_result",
          "data": {
            "text/plain": [
              "SVC()"
            ]
          },
          "metadata": {},
          "execution_count": 421
        }
      ]
    },
    {
      "cell_type": "code",
      "source": [
        "y_pred_D3_RGB = clf29.predict(X_test_D3_RGB)"
      ],
      "metadata": {
        "id": "_A7t5UNHx90Y"
      },
      "execution_count": 422,
      "outputs": []
    },
    {
      "cell_type": "code",
      "source": [
        "print(\"Accuracy:\", metrics.accuracy_score(y_test_D3_RGB, y_pred_D3_RGB))"
      ],
      "metadata": {
        "colab": {
          "base_uri": "https://localhost:8080/"
        },
        "outputId": "3842e00b-c92d-48d9-baaa-44cc7f9e0e69",
        "id": "j_-xWLsfx90Y"
      },
      "execution_count": 423,
      "outputs": [
        {
          "output_type": "stream",
          "name": "stdout",
          "text": [
            "Accuracy: 0.1826086956521739\n"
          ]
        }
      ]
    },
    {
      "cell_type": "markdown",
      "source": [
        "###HSV"
      ],
      "metadata": {
        "id": "_Bqu-0vjx90Y"
      }
    },
    {
      "cell_type": "code",
      "source": [
        "clf30=svm.SVC()"
      ],
      "metadata": {
        "id": "8mshw1E_lJCX"
      },
      "execution_count": 424,
      "outputs": []
    },
    {
      "cell_type": "code",
      "source": [
        "HSV_D3_Set1 = table_D3Set1.drop(['R-ref','G-ref','B-ref','R-Shad','G-Shad','B-Shad','Setting','Ref','Shad','Img'], axis=1)"
      ],
      "metadata": {
        "id": "Ivz7-0R-x90Y"
      },
      "execution_count": 425,
      "outputs": []
    },
    {
      "cell_type": "code",
      "source": [
        "HSV_D3_concat2 = RGB_D3_concat0.drop(['R-ref','G-ref','B-ref','R-Shad','G-Shad','B-Shad','Setting','Ref','Shad','Img'], axis=1)"
      ],
      "metadata": {
        "id": "qtZokQPJx90Y"
      },
      "execution_count": 426,
      "outputs": []
    },
    {
      "cell_type": "code",
      "source": [
        "X_test_D3_HSV = np.array(HSV_D3_Set1)"
      ],
      "metadata": {
        "id": "R3Z14S8Fx90Y"
      },
      "execution_count": 427,
      "outputs": []
    },
    {
      "cell_type": "code",
      "source": [
        "y_D3_HSV =  table_D3Set1.iloc[:,14:15]"
      ],
      "metadata": {
        "id": "kKyPj2eix90Y"
      },
      "execution_count": 428,
      "outputs": []
    },
    {
      "cell_type": "code",
      "source": [
        "y_test_D3_HSV = np.array(y_D3_RGB)"
      ],
      "metadata": {
        "id": "U1QiYDz0x90Y"
      },
      "execution_count": 429,
      "outputs": []
    },
    {
      "cell_type": "code",
      "source": [
        "X_train_D3_HSV = np.array(HSV_D3_concat2)"
      ],
      "metadata": {
        "id": "0e4tbRaOx90Z"
      },
      "execution_count": 430,
      "outputs": []
    },
    {
      "cell_type": "code",
      "source": [
        "y_train_D3HSV = RGB_D3_concat0.iloc[:,14:15]"
      ],
      "metadata": {
        "id": "xT5X846Tx90Z"
      },
      "execution_count": 431,
      "outputs": []
    },
    {
      "cell_type": "code",
      "source": [
        "y_train_D3_HSV = np.array(y_train_D3HSV)"
      ],
      "metadata": {
        "id": "cBdx2NTpx90Z"
      },
      "execution_count": 432,
      "outputs": []
    },
    {
      "cell_type": "code",
      "source": [
        "y_train_D3_HSV.shape = (len(y_train_D3_HSV,))"
      ],
      "metadata": {
        "id": "uMQZFUVWXFdH"
      },
      "execution_count": 433,
      "outputs": []
    },
    {
      "cell_type": "code",
      "source": [
        "clf30.fit(X_train_D3_HSV, y_train_D3_HSV)"
      ],
      "metadata": {
        "colab": {
          "base_uri": "https://localhost:8080/"
        },
        "outputId": "9b358264-1f44-4fa4-9916-98276f51e9c0",
        "id": "0ltb0Lesx90Z"
      },
      "execution_count": 434,
      "outputs": [
        {
          "output_type": "execute_result",
          "data": {
            "text/plain": [
              "SVC()"
            ]
          },
          "metadata": {},
          "execution_count": 434
        }
      ]
    },
    {
      "cell_type": "code",
      "source": [
        "y_pred_D3_HSV = clf30.predict(X_test_D3_HSV)"
      ],
      "metadata": {
        "id": "wC9RHVBHx90Z"
      },
      "execution_count": 435,
      "outputs": []
    },
    {
      "cell_type": "code",
      "source": [
        "print(\"Accuracy:\", metrics.accuracy_score(y_test_D3_HSV, y_pred_D3_HSV))"
      ],
      "metadata": {
        "colab": {
          "base_uri": "https://localhost:8080/"
        },
        "outputId": "73a83472-20e1-4302-a696-ca8ce326f4b6",
        "id": "EtzMQr1Rx90Z"
      },
      "execution_count": 436,
      "outputs": [
        {
          "output_type": "stream",
          "name": "stdout",
          "text": [
            "Accuracy: 0.19130434782608696\n"
          ]
        }
      ]
    },
    {
      "cell_type": "markdown",
      "source": [
        "##D4"
      ],
      "metadata": {
        "id": "WfcEm0A2x90Z"
      }
    },
    {
      "cell_type": "code",
      "source": [
        "table_D4Set1 = pd.read_excel(Set1 , sheet_name='D4_1')\n",
        "\n",
        "table_D4Set2 = pd.read_excel(Set2 , sheet_name='D4_2')\n",
        "\n",
        "table_D4Set3 = pd.read_excel(Set3 , sheet_name='D4_3')\n",
        "\n",
        "table_D4Set4 = pd.read_excel(Set4 , sheet_name='D4_4')\n",
        "\n",
        "table_D4Set6 = pd.read_excel(Set6 , sheet_name='D4_6')"
      ],
      "metadata": {
        "id": "mfacKr9gx90Z"
      },
      "execution_count": 437,
      "outputs": []
    },
    {
      "cell_type": "markdown",
      "source": [
        "###RGB"
      ],
      "metadata": {
        "id": "OkOW14TRx90a"
      }
    },
    {
      "cell_type": "code",
      "source": [
        "clf31=svm.SVC()"
      ],
      "metadata": {
        "id": "wXFwMJmllMc5"
      },
      "execution_count": 438,
      "outputs": []
    },
    {
      "cell_type": "code",
      "source": [
        "RGB_D4_Set1 = table_D4Set1.drop(['H-ref','S-ref','V-ref','H-Shad','S-Shad','V-Shad','Setting','Ref','Shad','Img'], axis=1)"
      ],
      "metadata": {
        "id": "UZGgIrXtx90a"
      },
      "execution_count": 439,
      "outputs": []
    },
    {
      "cell_type": "code",
      "source": [
        "RGB_D4_Set2 = table_D4Set2\n",
        "\n",
        "RGB_D4_Set3 = table_D4Set3\n",
        "\n",
        "RGB_D4_Set4 = table_D4Set4\n",
        "\n",
        "RGB_D4_Set6 = table_D4Set6"
      ],
      "metadata": {
        "id": "Db0M9HHEx90a"
      },
      "execution_count": 440,
      "outputs": []
    },
    {
      "cell_type": "code",
      "source": [
        "RGB_D4_concat0 = pd.concat([RGB_D4_Set2,RGB_D4_Set3,RGB_D4_Set4,RGB_D4_Set6])"
      ],
      "metadata": {
        "id": "zNEyj719iaD0"
      },
      "execution_count": 441,
      "outputs": []
    },
    {
      "cell_type": "code",
      "source": [
        "RGB_D4_concat2 = RGB_D4_concat0.drop(['H-ref','S-ref','V-ref','H-Shad','S-Shad','V-Shad','Setting','Ref','Shad','Img'], axis=1)"
      ],
      "metadata": {
        "id": "Qr0VCTbfx90a"
      },
      "execution_count": 442,
      "outputs": []
    },
    {
      "cell_type": "code",
      "source": [
        "X_test_D4_RGB = np.array(RGB_D4_Set1)"
      ],
      "metadata": {
        "id": "qiwNlZdnx90a"
      },
      "execution_count": 443,
      "outputs": []
    },
    {
      "cell_type": "code",
      "source": [
        "y_D4_RGB =  table_D4Set1.iloc[:,14:15]"
      ],
      "metadata": {
        "id": "w_mnKAYqx90b"
      },
      "execution_count": 444,
      "outputs": []
    },
    {
      "cell_type": "code",
      "source": [
        "y_test_D4_RGB = np.array(y_D4_RGB)"
      ],
      "metadata": {
        "id": "UsLaGos7x90b"
      },
      "execution_count": 445,
      "outputs": []
    },
    {
      "cell_type": "code",
      "source": [
        "X_train_D4_RGB = np.array(RGB_D4_concat2)"
      ],
      "metadata": {
        "id": "Oc2f1-qOx90b"
      },
      "execution_count": 446,
      "outputs": []
    },
    {
      "cell_type": "code",
      "source": [
        "y_train_D4RGB = RGB_D4_concat0.iloc[:,14:15]"
      ],
      "metadata": {
        "id": "e8HcPMlLx90b"
      },
      "execution_count": 447,
      "outputs": []
    },
    {
      "cell_type": "code",
      "source": [
        "y_train_D4_RGB = np.array(y_train_D4RGB)"
      ],
      "metadata": {
        "id": "UYIfmfsqx90b"
      },
      "execution_count": 448,
      "outputs": []
    },
    {
      "cell_type": "code",
      "source": [
        "y_train_D4_RGB.shape = (len(y_train_D4_RGB,))"
      ],
      "metadata": {
        "id": "dCu_Dgy8XIy_"
      },
      "execution_count": 449,
      "outputs": []
    },
    {
      "cell_type": "code",
      "source": [
        "clf31.fit(X_train_D4_RGB, y_train_D4_RGB)"
      ],
      "metadata": {
        "colab": {
          "base_uri": "https://localhost:8080/"
        },
        "outputId": "d9ce4509-dfc4-48e9-fb12-21e6284ff994",
        "id": "RNdH-4qhx90b"
      },
      "execution_count": 450,
      "outputs": [
        {
          "output_type": "execute_result",
          "data": {
            "text/plain": [
              "SVC()"
            ]
          },
          "metadata": {},
          "execution_count": 450
        }
      ]
    },
    {
      "cell_type": "code",
      "source": [
        "y_pred_D4_RGB = clf31.predict(X_test_D4_RGB)"
      ],
      "metadata": {
        "id": "SJT4eRs7x90b"
      },
      "execution_count": 451,
      "outputs": []
    },
    {
      "cell_type": "code",
      "source": [
        "print(\"Accuracy:\", metrics.accuracy_score(y_test_D4_RGB, y_pred_D4_RGB))"
      ],
      "metadata": {
        "colab": {
          "base_uri": "https://localhost:8080/"
        },
        "outputId": "efa737a4-1ddc-43ba-b5d7-fd31e27966bf",
        "id": "oRxmkGWix90b"
      },
      "execution_count": 452,
      "outputs": [
        {
          "output_type": "stream",
          "name": "stdout",
          "text": [
            "Accuracy: 0.4161490683229814\n"
          ]
        }
      ]
    },
    {
      "cell_type": "markdown",
      "source": [
        "###HSV"
      ],
      "metadata": {
        "id": "0VkgTMm7x90b"
      }
    },
    {
      "cell_type": "code",
      "source": [
        "clf32=svm.SVC()"
      ],
      "metadata": {
        "id": "u7NPha-ulO6j"
      },
      "execution_count": 453,
      "outputs": []
    },
    {
      "cell_type": "code",
      "source": [
        "HSV_D4_Set1 = table_D4Set1.drop(['R-ref','G-ref','B-ref','R-Shad','G-Shad','B-Shad','Setting','Ref','Shad','Img'], axis=1)"
      ],
      "metadata": {
        "id": "tKD0r_mJx90b"
      },
      "execution_count": 454,
      "outputs": []
    },
    {
      "cell_type": "code",
      "source": [
        "HSV_D4_concat2 = RGB_D4_concat0.drop(['R-ref','G-ref','B-ref','R-Shad','G-Shad','B-Shad','Setting','Ref','Shad','Img'], axis=1)"
      ],
      "metadata": {
        "id": "KVO7778mx90b"
      },
      "execution_count": 455,
      "outputs": []
    },
    {
      "cell_type": "code",
      "source": [
        "X_test_D4_HSV = np.array(HSV_D4_Set1)"
      ],
      "metadata": {
        "id": "MaqD7Q0Mx90c"
      },
      "execution_count": 456,
      "outputs": []
    },
    {
      "cell_type": "code",
      "source": [
        "y_D4_HSV =  table_D4Set1.iloc[:,14:15]"
      ],
      "metadata": {
        "id": "dlMZ82Gux90c"
      },
      "execution_count": 457,
      "outputs": []
    },
    {
      "cell_type": "code",
      "source": [
        "y_test_D4_HSV = np.array(y_D4_RGB)"
      ],
      "metadata": {
        "id": "eDET1Ylwx90c"
      },
      "execution_count": 458,
      "outputs": []
    },
    {
      "cell_type": "code",
      "source": [
        "X_train_D4_HSV = np.array(HSV_D4_concat2)"
      ],
      "metadata": {
        "id": "0z1Zhgkyx90c"
      },
      "execution_count": 459,
      "outputs": []
    },
    {
      "cell_type": "code",
      "source": [
        "y_train_D4HSV = RGB_D4_concat0.iloc[:,14:15]"
      ],
      "metadata": {
        "id": "DJhfv_Xyx90c"
      },
      "execution_count": 460,
      "outputs": []
    },
    {
      "cell_type": "code",
      "source": [
        "y_train_D4_HSV = np.array(y_train_D4HSV)"
      ],
      "metadata": {
        "id": "cTxbTKbFx90c"
      },
      "execution_count": 461,
      "outputs": []
    },
    {
      "cell_type": "code",
      "source": [
        "y_train_D4_HSV.shape = (len(y_train_D4_HSV,))"
      ],
      "metadata": {
        "id": "Z9JvxXzeXLJ7"
      },
      "execution_count": 462,
      "outputs": []
    },
    {
      "cell_type": "code",
      "source": [
        "clf32.fit(X_train_D4_HSV, y_train_D4_HSV)"
      ],
      "metadata": {
        "colab": {
          "base_uri": "https://localhost:8080/"
        },
        "outputId": "8f62ee31-fb12-4559-ed46-3f52de009dfa",
        "id": "fzoR8Swyx90c"
      },
      "execution_count": 463,
      "outputs": [
        {
          "output_type": "execute_result",
          "data": {
            "text/plain": [
              "SVC()"
            ]
          },
          "metadata": {},
          "execution_count": 463
        }
      ]
    },
    {
      "cell_type": "code",
      "source": [
        "y_pred_D4_HSV = clf32.predict(X_test_D4_HSV)"
      ],
      "metadata": {
        "id": "3u_OvejMx90c"
      },
      "execution_count": 464,
      "outputs": []
    },
    {
      "cell_type": "code",
      "source": [
        "print(\"Accuracy:\", metrics.accuracy_score(y_test_D4_HSV, y_pred_D4_HSV))"
      ],
      "metadata": {
        "colab": {
          "base_uri": "https://localhost:8080/"
        },
        "outputId": "e7c12b78-ec9e-45e7-bab9-5c9f104932cf",
        "id": "5dgTtQASx90c"
      },
      "execution_count": 465,
      "outputs": [
        {
          "output_type": "stream",
          "name": "stdout",
          "text": [
            "Accuracy: 0.28322981366459626\n"
          ]
        }
      ]
    },
    {
      "cell_type": "markdown",
      "source": [
        "#Accuracy"
      ],
      "metadata": {
        "id": "DednIna6z9zF"
      }
    },
    {
      "cell_type": "markdown",
      "source": [
        "##RGB"
      ],
      "metadata": {
        "id": "txfn-5vSEQKK"
      }
    },
    {
      "cell_type": "code",
      "source": [
        "print(\"A1 มี Accuracy เท่ากับ:\", metrics.accuracy_score(y_test_A1_RGB, y_pred_A1_RGB))\n",
        "print(\"A2 มี Accuracy เท่ากับ:\", metrics.accuracy_score(y_test_A2_RGB, y_pred_A2_RGB))\n",
        "print(\"A3 มี Accuracy เท่ากับ:\", metrics.accuracy_score(y_test_A3_RGB, y_pred_A3_RGB))\n",
        "print(\"A3.5 มี Accuracy เท่ากับ:\", metrics.accuracy_score(y_test_A3_5_RGB, y_pred_A3_5_RGB))\n",
        "print(\"A4 มี Accuracy เท่ากับ:\", metrics.accuracy_score(y_test_A4_RGB, y_pred_A4_RGB))\n",
        "print(\"B1 มี Accuracy เท่ากับ:\", metrics.accuracy_score(y_test_B1_RGB, y_pred_B1_RGB))\n",
        "print(\"B2 มี Accuracy เท่ากับ:\", metrics.accuracy_score(y_test_B2_RGB, y_pred_B2_RGB))\n",
        "print(\"B3 มี Accuracy เท่ากับ:\", metrics.accuracy_score(y_test_B3_RGB, y_pred_B3_RGB))\n",
        "print(\"B4 มี Accuracy เท่ากับ:\", metrics.accuracy_score(y_test_B4_RGB, y_pred_B4_RGB))\n",
        "print(\"C1 มี Accuracy เท่ากับ:\", metrics.accuracy_score(y_test_C1_RGB, y_pred_C1_RGB))\n",
        "print(\"C2 มี Accuracy เท่ากับ:\", metrics.accuracy_score(y_test_C2_RGB, y_pred_C2_RGB))\n",
        "print(\"C3 มี Accuracy เท่ากับ:\", metrics.accuracy_score(y_test_C3_RGB, y_pred_C3_RGB))\n",
        "print(\"C4 มี Accuracy เท่ากับ:\", metrics.accuracy_score(y_test_C4_RGB, y_pred_C4_RGB))\n",
        "print(\"D2 มี Accuracy เท่ากับ:\", metrics.accuracy_score(y_test_D2_RGB, y_pred_D2_RGB))\n",
        "print(\"D3 มี Accuracy เท่ากับ:\", metrics.accuracy_score(y_test_D3_RGB, y_pred_D3_RGB))\n",
        "print(\"D4 มี Accuracy เท่ากับ:\", metrics.accuracy_score(y_test_D4_RGB, y_pred_D4_RGB))"
      ],
      "metadata": {
        "id": "gAmWj0Tl_8ra",
        "outputId": "1e2f9a05-a8e6-4cf2-fa40-2413c3dfca54",
        "colab": {
          "base_uri": "https://localhost:8080/"
        }
      },
      "execution_count": 466,
      "outputs": [
        {
          "output_type": "stream",
          "name": "stdout",
          "text": [
            "A1 มี Accuracy เท่ากับ: 0.2475\n",
            "A2 มี Accuracy เท่ากับ: 0.2025\n",
            "A3 มี Accuracy เท่ากับ: 0.2275\n",
            "A3.5 มี Accuracy เท่ากับ: 0.1575\n",
            "A4 มี Accuracy เท่ากับ: 0.19\n",
            "B1 มี Accuracy เท่ากับ: 0.115527950310559\n",
            "B2 มี Accuracy เท่ากับ: 0.11801242236024845\n",
            "B3 มี Accuracy เท่ากับ: 0.062111801242236024\n",
            "B4 มี Accuracy เท่ากับ: 0.15403726708074533\n",
            "C1 มี Accuracy เท่ากับ: 0.062111801242236024\n",
            "C2 มี Accuracy เท่ากับ: 0.18757763975155278\n",
            "C3 มี Accuracy เท่ากับ: 0.4645962732919255\n",
            "C4 มี Accuracy เท่ากับ: 0.36770186335403726\n",
            "D2 มี Accuracy เท่ากับ: 0.29440993788819875\n",
            "D3 มี Accuracy เท่ากับ: 0.1826086956521739\n",
            "D4 มี Accuracy เท่ากับ: 0.4161490683229814\n"
          ]
        }
      ]
    },
    {
      "cell_type": "code",
      "source": [
        "RGB_AC_A1 = metrics.accuracy_score(y_test_A1_RGB, y_pred_A1_RGB)\n",
        "RGB_AC_A2 = metrics.accuracy_score(y_test_A2_RGB, y_pred_A2_RGB)\n",
        "RGB_AC_A3 = metrics.accuracy_score(y_test_A3_RGB, y_pred_A3_RGB)\n",
        "RGB_AC_A35 = metrics.accuracy_score(y_test_A3_5_RGB, y_pred_A3_5_RGB)\n",
        "RGB_AC_A4 = metrics.accuracy_score(y_test_A4_RGB, y_pred_A4_RGB)\n",
        "RGB_AC_B1 = metrics.accuracy_score(y_test_B1_RGB, y_pred_B1_RGB)\n",
        "RGB_AC_B2 = metrics.accuracy_score(y_test_B2_RGB, y_pred_B2_RGB)\n",
        "RGB_AC_B3 = metrics.accuracy_score(y_test_B3_RGB, y_pred_B3_RGB)\n",
        "RGB_AC_B4 = metrics.accuracy_score(y_test_B4_RGB, y_pred_B4_RGB)\n",
        "RGB_AC_C1 = metrics.accuracy_score(y_test_C1_RGB, y_pred_C1_RGB)\n",
        "RGB_AC_C2 = metrics.accuracy_score(y_test_C2_RGB, y_pred_C2_RGB)\n",
        "RGB_AC_C3 = metrics.accuracy_score(y_test_C3_RGB, y_pred_C3_RGB)\n",
        "RGB_AC_C4 = metrics.accuracy_score(y_test_C4_RGB, y_pred_C4_RGB)\n",
        "RGB_AC_D2 = metrics.accuracy_score(y_test_D2_RGB, y_pred_D2_RGB)\n",
        "RGB_AC_D3 = metrics.accuracy_score(y_test_D3_RGB, y_pred_D3_RGB)\n",
        "RGB_AC_D4 = metrics.accuracy_score(y_test_D4_RGB, y_pred_D4_RGB)"
      ],
      "metadata": {
        "id": "SKekL9nlGV8F"
      },
      "execution_count": 467,
      "outputs": []
    },
    {
      "cell_type": "code",
      "source": [
        "RGB_AC =  (RGB_AC_A1,RGB_AC_A2,RGB_AC_A3,RGB_AC_A35,\n",
        "           RGB_AC_A4,RGB_AC_B1,RGB_AC_B2,RGB_AC_B3,\n",
        "           RGB_AC_B4,RGB_AC_C1,RGB_AC_C2,RGB_AC_C3,\n",
        "           RGB_AC_C4,RGB_AC_D2,RGB_AC_D3,RGB_AC_D4)"
      ],
      "metadata": {
        "id": "jc2gn4qTIzA0"
      },
      "execution_count": 468,
      "outputs": []
    },
    {
      "cell_type": "code",
      "source": [
        "RGB_AC"
      ],
      "metadata": {
        "id": "IvdezR2JJ6Qm",
        "outputId": "829ab271-eea4-441f-c9a7-7ffd2fdda2c5",
        "colab": {
          "base_uri": "https://localhost:8080/"
        }
      },
      "execution_count": 469,
      "outputs": [
        {
          "output_type": "execute_result",
          "data": {
            "text/plain": [
              "(0.2475,\n",
              " 0.2025,\n",
              " 0.2275,\n",
              " 0.1575,\n",
              " 0.19,\n",
              " 0.115527950310559,\n",
              " 0.11801242236024845,\n",
              " 0.062111801242236024,\n",
              " 0.15403726708074533,\n",
              " 0.062111801242236024,\n",
              " 0.18757763975155278,\n",
              " 0.4645962732919255,\n",
              " 0.36770186335403726,\n",
              " 0.29440993788819875,\n",
              " 0.1826086956521739,\n",
              " 0.4161490683229814)"
            ]
          },
          "metadata": {},
          "execution_count": 469
        }
      ]
    },
    {
      "cell_type": "code",
      "source": [
        "list_RGB_AC = list()\n",
        "list_RGB_AC.append(RGB_AC)"
      ],
      "metadata": {
        "id": "bPnGIzXNHJI1"
      },
      "execution_count": 470,
      "outputs": []
    },
    {
      "cell_type": "code",
      "source": [
        "Cols = ['Set1_rgb'] \n",
        "S1_1 = pd.DataFrame(RGB_AC,columns= Cols)\n",
        "S1_1"
      ],
      "metadata": {
        "id": "YcC_W6BVMaip",
        "outputId": "f7b01398-2ac5-4720-9444-2b3498cf12ec",
        "colab": {
          "base_uri": "https://localhost:8080/",
          "height": 0
        }
      },
      "execution_count": 471,
      "outputs": [
        {
          "output_type": "execute_result",
          "data": {
            "text/plain": [
              "    Set1_rgb\n",
              "0   0.247500\n",
              "1   0.202500\n",
              "2   0.227500\n",
              "3   0.157500\n",
              "4   0.190000\n",
              "5   0.115528\n",
              "6   0.118012\n",
              "7   0.062112\n",
              "8   0.154037\n",
              "9   0.062112\n",
              "10  0.187578\n",
              "11  0.464596\n",
              "12  0.367702\n",
              "13  0.294410\n",
              "14  0.182609\n",
              "15  0.416149"
            ],
            "text/html": [
              "\n",
              "  <div id=\"df-76c65d7a-05bc-4aae-ab6d-33ce235199bc\">\n",
              "    <div class=\"colab-df-container\">\n",
              "      <div>\n",
              "<style scoped>\n",
              "    .dataframe tbody tr th:only-of-type {\n",
              "        vertical-align: middle;\n",
              "    }\n",
              "\n",
              "    .dataframe tbody tr th {\n",
              "        vertical-align: top;\n",
              "    }\n",
              "\n",
              "    .dataframe thead th {\n",
              "        text-align: right;\n",
              "    }\n",
              "</style>\n",
              "<table border=\"1\" class=\"dataframe\">\n",
              "  <thead>\n",
              "    <tr style=\"text-align: right;\">\n",
              "      <th></th>\n",
              "      <th>Set1_rgb</th>\n",
              "    </tr>\n",
              "  </thead>\n",
              "  <tbody>\n",
              "    <tr>\n",
              "      <th>0</th>\n",
              "      <td>0.247500</td>\n",
              "    </tr>\n",
              "    <tr>\n",
              "      <th>1</th>\n",
              "      <td>0.202500</td>\n",
              "    </tr>\n",
              "    <tr>\n",
              "      <th>2</th>\n",
              "      <td>0.227500</td>\n",
              "    </tr>\n",
              "    <tr>\n",
              "      <th>3</th>\n",
              "      <td>0.157500</td>\n",
              "    </tr>\n",
              "    <tr>\n",
              "      <th>4</th>\n",
              "      <td>0.190000</td>\n",
              "    </tr>\n",
              "    <tr>\n",
              "      <th>5</th>\n",
              "      <td>0.115528</td>\n",
              "    </tr>\n",
              "    <tr>\n",
              "      <th>6</th>\n",
              "      <td>0.118012</td>\n",
              "    </tr>\n",
              "    <tr>\n",
              "      <th>7</th>\n",
              "      <td>0.062112</td>\n",
              "    </tr>\n",
              "    <tr>\n",
              "      <th>8</th>\n",
              "      <td>0.154037</td>\n",
              "    </tr>\n",
              "    <tr>\n",
              "      <th>9</th>\n",
              "      <td>0.062112</td>\n",
              "    </tr>\n",
              "    <tr>\n",
              "      <th>10</th>\n",
              "      <td>0.187578</td>\n",
              "    </tr>\n",
              "    <tr>\n",
              "      <th>11</th>\n",
              "      <td>0.464596</td>\n",
              "    </tr>\n",
              "    <tr>\n",
              "      <th>12</th>\n",
              "      <td>0.367702</td>\n",
              "    </tr>\n",
              "    <tr>\n",
              "      <th>13</th>\n",
              "      <td>0.294410</td>\n",
              "    </tr>\n",
              "    <tr>\n",
              "      <th>14</th>\n",
              "      <td>0.182609</td>\n",
              "    </tr>\n",
              "    <tr>\n",
              "      <th>15</th>\n",
              "      <td>0.416149</td>\n",
              "    </tr>\n",
              "  </tbody>\n",
              "</table>\n",
              "</div>\n",
              "      <button class=\"colab-df-convert\" onclick=\"convertToInteractive('df-76c65d7a-05bc-4aae-ab6d-33ce235199bc')\"\n",
              "              title=\"Convert this dataframe to an interactive table.\"\n",
              "              style=\"display:none;\">\n",
              "        \n",
              "  <svg xmlns=\"http://www.w3.org/2000/svg\" height=\"24px\"viewBox=\"0 0 24 24\"\n",
              "       width=\"24px\">\n",
              "    <path d=\"M0 0h24v24H0V0z\" fill=\"none\"/>\n",
              "    <path d=\"M18.56 5.44l.94 2.06.94-2.06 2.06-.94-2.06-.94-.94-2.06-.94 2.06-2.06.94zm-11 1L8.5 8.5l.94-2.06 2.06-.94-2.06-.94L8.5 2.5l-.94 2.06-2.06.94zm10 10l.94 2.06.94-2.06 2.06-.94-2.06-.94-.94-2.06-.94 2.06-2.06.94z\"/><path d=\"M17.41 7.96l-1.37-1.37c-.4-.4-.92-.59-1.43-.59-.52 0-1.04.2-1.43.59L10.3 9.45l-7.72 7.72c-.78.78-.78 2.05 0 2.83L4 21.41c.39.39.9.59 1.41.59.51 0 1.02-.2 1.41-.59l7.78-7.78 2.81-2.81c.8-.78.8-2.07 0-2.86zM5.41 20L4 18.59l7.72-7.72 1.47 1.35L5.41 20z\"/>\n",
              "  </svg>\n",
              "      </button>\n",
              "      \n",
              "  <style>\n",
              "    .colab-df-container {\n",
              "      display:flex;\n",
              "      flex-wrap:wrap;\n",
              "      gap: 12px;\n",
              "    }\n",
              "\n",
              "    .colab-df-convert {\n",
              "      background-color: #E8F0FE;\n",
              "      border: none;\n",
              "      border-radius: 50%;\n",
              "      cursor: pointer;\n",
              "      display: none;\n",
              "      fill: #1967D2;\n",
              "      height: 32px;\n",
              "      padding: 0 0 0 0;\n",
              "      width: 32px;\n",
              "    }\n",
              "\n",
              "    .colab-df-convert:hover {\n",
              "      background-color: #E2EBFA;\n",
              "      box-shadow: 0px 1px 2px rgba(60, 64, 67, 0.3), 0px 1px 3px 1px rgba(60, 64, 67, 0.15);\n",
              "      fill: #174EA6;\n",
              "    }\n",
              "\n",
              "    [theme=dark] .colab-df-convert {\n",
              "      background-color: #3B4455;\n",
              "      fill: #D2E3FC;\n",
              "    }\n",
              "\n",
              "    [theme=dark] .colab-df-convert:hover {\n",
              "      background-color: #434B5C;\n",
              "      box-shadow: 0px 1px 3px 1px rgba(0, 0, 0, 0.15);\n",
              "      filter: drop-shadow(0px 1px 2px rgba(0, 0, 0, 0.3));\n",
              "      fill: #FFFFFF;\n",
              "    }\n",
              "  </style>\n",
              "\n",
              "      <script>\n",
              "        const buttonEl =\n",
              "          document.querySelector('#df-76c65d7a-05bc-4aae-ab6d-33ce235199bc button.colab-df-convert');\n",
              "        buttonEl.style.display =\n",
              "          google.colab.kernel.accessAllowed ? 'block' : 'none';\n",
              "\n",
              "        async function convertToInteractive(key) {\n",
              "          const element = document.querySelector('#df-76c65d7a-05bc-4aae-ab6d-33ce235199bc');\n",
              "          const dataTable =\n",
              "            await google.colab.kernel.invokeFunction('convertToInteractive',\n",
              "                                                     [key], {});\n",
              "          if (!dataTable) return;\n",
              "\n",
              "          const docLinkHtml = 'Like what you see? Visit the ' +\n",
              "            '<a target=\"_blank\" href=https://colab.research.google.com/notebooks/data_table.ipynb>data table notebook</a>'\n",
              "            + ' to learn more about interactive tables.';\n",
              "          element.innerHTML = '';\n",
              "          dataTable['output_type'] = 'display_data';\n",
              "          await google.colab.output.renderOutput(dataTable, element);\n",
              "          const docLink = document.createElement('div');\n",
              "          docLink.innerHTML = docLinkHtml;\n",
              "          element.appendChild(docLink);\n",
              "        }\n",
              "      </script>\n",
              "    </div>\n",
              "  </div>\n",
              "  "
            ]
          },
          "metadata": {},
          "execution_count": 471
        }
      ]
    },
    {
      "cell_type": "markdown",
      "source": [
        "##HSV"
      ],
      "metadata": {
        "id": "F2CX4hhnEhIA"
      }
    },
    {
      "cell_type": "code",
      "source": [
        "print(\"A1 มี Accuracy เท่ากับ:\", metrics.accuracy_score(y_test_A1_HSV, y_pred_A1_HSV))\n",
        "print(\"A2 มี Accuracy เท่ากับ:\", metrics.accuracy_score(y_test_A2_HSV, y_pred_A2_HSV))\n",
        "print(\"A3 มี Accuracy เท่ากับ:\", metrics.accuracy_score(y_test_A3_HSV, y_pred_A3_HSV))\n",
        "print(\"A3.5 มี Accuracy เท่ากับ:\", metrics.accuracy_score(y_test_A3_5_HSV, y_pred_A3_5_HSV))\n",
        "print(\"A4 มี Accuracy เท่ากับ:\", metrics.accuracy_score(y_test_A4_HSV, y_pred_A4_HSV))\n",
        "print(\"B1 มี Accuracy เท่ากับ:\", metrics.accuracy_score(y_test_B1_HSV, y_pred_B1_HSV))\n",
        "print(\"B2 มี Accuracy เท่ากับ:\", metrics.accuracy_score(y_test_B2_HSV, y_pred_B2_HSV))\n",
        "print(\"B3 มี Accuracy เท่ากับ:\", metrics.accuracy_score(y_test_B3_HSV, y_pred_B3_HSV))\n",
        "print(\"B4 มี Accuracy เท่ากับ:\", metrics.accuracy_score(y_test_B4_HSV, y_pred_B4_HSV))\n",
        "print(\"C1 มี Accuracy เท่ากับ:\", metrics.accuracy_score(y_test_C1_HSV, y_pred_C1_HSV))\n",
        "print(\"C2 มี Accuracy เท่ากับ:\", metrics.accuracy_score(y_test_C2_HSV, y_pred_C2_HSV))\n",
        "print(\"C3 มี Accuracy เท่ากับ:\", metrics.accuracy_score(y_test_C3_HSV, y_pred_C3_HSV))\n",
        "print(\"C4 มี Accuracy เท่ากับ:\", metrics.accuracy_score(y_test_C4_HSV, y_pred_C4_HSV))\n",
        "print(\"D2 มี Accuracy เท่ากับ:\", metrics.accuracy_score(y_test_D2_HSV, y_pred_D2_HSV))\n",
        "print(\"D3 มี Accuracy เท่ากับ:\", metrics.accuracy_score(y_test_D3_HSV, y_pred_D3_HSV))\n",
        "print(\"D4 มี Accuracy เท่ากับ:\", metrics.accuracy_score(y_test_D4_HSV, y_pred_D4_HSV))"
      ],
      "metadata": {
        "id": "NofOkqvcEKnU",
        "outputId": "de6b5a28-cd01-4d23-a374-60491b22acff",
        "colab": {
          "base_uri": "https://localhost:8080/"
        }
      },
      "execution_count": 485,
      "outputs": [
        {
          "output_type": "stream",
          "name": "stdout",
          "text": [
            "A1 มี Accuracy เท่ากับ: 0.2675\n",
            "A2 มี Accuracy เท่ากับ: 0.0625\n",
            "A3 มี Accuracy เท่ากับ: 0.23625\n",
            "A3.5 มี Accuracy เท่ากับ: 0.1075\n",
            "A4 มี Accuracy เท่ากับ: 0.34875\n",
            "B1 มี Accuracy เท่ากับ: 0.1937888198757764\n",
            "B2 มี Accuracy เท่ากับ: 0.1937888198757764\n",
            "B3 มี Accuracy เท่ากับ: 0.2062111801242236\n",
            "B4 มี Accuracy เท่ากับ: 0.14782608695652175\n",
            "C1 มี Accuracy เท่ากับ: 0.3105590062111801\n",
            "C2 มี Accuracy เท่ากับ: 0.3515527950310559\n",
            "C3 มี Accuracy เท่ากับ: 0.23354037267080746\n",
            "C4 มี Accuracy เท่ากับ: 0.3018633540372671\n",
            "D2 มี Accuracy เท่ากับ: 0.19875776397515527\n",
            "D3 มี Accuracy เท่ากับ: 0.19130434782608696\n",
            "D4 มี Accuracy เท่ากับ: 0.28322981366459626\n"
          ]
        }
      ]
    },
    {
      "cell_type": "code",
      "source": [
        "HSV_AC_A1 = metrics.accuracy_score(y_test_A1_HSV, y_pred_A1_HSV)\n",
        "HSV_AC_A2 = metrics.accuracy_score(y_test_A2_HSV, y_pred_A2_HSV)\n",
        "HSV_AC_A3 = metrics.accuracy_score(y_test_A3_HSV, y_pred_A3_HSV)\n",
        "HSV_AC_A35 = metrics.accuracy_score(y_test_A3_5_HSV, y_pred_A3_5_HSV)\n",
        "HSV_AC_A4 = metrics.accuracy_score(y_test_A4_HSV, y_pred_A4_HSV)\n",
        "HSV_AC_B1 = metrics.accuracy_score(y_test_B1_HSV, y_pred_B1_HSV)\n",
        "HSV_AC_B2 = metrics.accuracy_score(y_test_B2_HSV, y_pred_B2_HSV)\n",
        "HSV_AC_B3 = metrics.accuracy_score(y_test_B3_HSV, y_pred_B3_HSV)\n",
        "HSV_AC_B4 = metrics.accuracy_score(y_test_B4_HSV, y_pred_B4_HSV)\n",
        "HSV_AC_C1 = metrics.accuracy_score(y_test_C1_HSV, y_pred_C1_HSV)\n",
        "HSV_AC_C2 = metrics.accuracy_score(y_test_C2_HSV, y_pred_C2_HSV)\n",
        "HSV_AC_C3 = metrics.accuracy_score(y_test_C3_HSV, y_pred_C3_HSV)\n",
        "HSV_AC_C4 = metrics.accuracy_score(y_test_C4_HSV, y_pred_C4_HSV)\n",
        "HSV_AC_D2 = metrics.accuracy_score(y_test_D2_HSV, y_pred_D2_HSV)\n",
        "HSV_AC_D3 = metrics.accuracy_score(y_test_D3_HSV, y_pred_D3_HSV)\n",
        "HSV_AC_D4 = metrics.accuracy_score(y_test_D4_HSV, y_pred_D4_HSV)"
      ],
      "metadata": {
        "id": "9ZyVXRHMN8Xl"
      },
      "execution_count": 486,
      "outputs": []
    },
    {
      "cell_type": "code",
      "source": [
        "HSV_AC =  (HSV_AC_A1,HSV_AC_A2,HSV_AC_A3,HSV_AC_A35,\n",
        "           HSV_AC_A4,HSV_AC_B1,HSV_AC_B2,HSV_AC_B3,\n",
        "           HSV_AC_B4,HSV_AC_C1,HSV_AC_C2,HSV_AC_C3,\n",
        "           HSV_AC_C4,HSV_AC_D2,HSV_AC_D3,HSV_AC_D4)"
      ],
      "metadata": {
        "id": "rAkegsftOXus"
      },
      "execution_count": 487,
      "outputs": []
    },
    {
      "cell_type": "code",
      "source": [
        "list_HSV_AC = list()\n",
        "list_HSV_AC.append(RGB_AC)"
      ],
      "metadata": {
        "id": "8443LJWwOgpa"
      },
      "execution_count": 488,
      "outputs": []
    },
    {
      "cell_type": "code",
      "source": [
        "Cols = ['Set1_hsv'] \n",
        "S1_2 = pd.DataFrame(HSV_AC,columns= Cols)\n",
        "S1_2"
      ],
      "metadata": {
        "id": "3pnOMEAjOit-",
        "outputId": "b1b97ab6-0d84-4c4f-ba2e-f865d537b02f",
        "colab": {
          "base_uri": "https://localhost:8080/",
          "height": 551
        }
      },
      "execution_count": 489,
      "outputs": [
        {
          "output_type": "execute_result",
          "data": {
            "text/plain": [
              "    Set1_hsv\n",
              "0   0.267500\n",
              "1   0.062500\n",
              "2   0.236250\n",
              "3   0.107500\n",
              "4   0.348750\n",
              "5   0.193789\n",
              "6   0.193789\n",
              "7   0.206211\n",
              "8   0.147826\n",
              "9   0.310559\n",
              "10  0.351553\n",
              "11  0.233540\n",
              "12  0.301863\n",
              "13  0.198758\n",
              "14  0.191304\n",
              "15  0.283230"
            ],
            "text/html": [
              "\n",
              "  <div id=\"df-5cf44cba-50f6-4423-a86d-8ad00c45f1c4\">\n",
              "    <div class=\"colab-df-container\">\n",
              "      <div>\n",
              "<style scoped>\n",
              "    .dataframe tbody tr th:only-of-type {\n",
              "        vertical-align: middle;\n",
              "    }\n",
              "\n",
              "    .dataframe tbody tr th {\n",
              "        vertical-align: top;\n",
              "    }\n",
              "\n",
              "    .dataframe thead th {\n",
              "        text-align: right;\n",
              "    }\n",
              "</style>\n",
              "<table border=\"1\" class=\"dataframe\">\n",
              "  <thead>\n",
              "    <tr style=\"text-align: right;\">\n",
              "      <th></th>\n",
              "      <th>Set1_hsv</th>\n",
              "    </tr>\n",
              "  </thead>\n",
              "  <tbody>\n",
              "    <tr>\n",
              "      <th>0</th>\n",
              "      <td>0.267500</td>\n",
              "    </tr>\n",
              "    <tr>\n",
              "      <th>1</th>\n",
              "      <td>0.062500</td>\n",
              "    </tr>\n",
              "    <tr>\n",
              "      <th>2</th>\n",
              "      <td>0.236250</td>\n",
              "    </tr>\n",
              "    <tr>\n",
              "      <th>3</th>\n",
              "      <td>0.107500</td>\n",
              "    </tr>\n",
              "    <tr>\n",
              "      <th>4</th>\n",
              "      <td>0.348750</td>\n",
              "    </tr>\n",
              "    <tr>\n",
              "      <th>5</th>\n",
              "      <td>0.193789</td>\n",
              "    </tr>\n",
              "    <tr>\n",
              "      <th>6</th>\n",
              "      <td>0.193789</td>\n",
              "    </tr>\n",
              "    <tr>\n",
              "      <th>7</th>\n",
              "      <td>0.206211</td>\n",
              "    </tr>\n",
              "    <tr>\n",
              "      <th>8</th>\n",
              "      <td>0.147826</td>\n",
              "    </tr>\n",
              "    <tr>\n",
              "      <th>9</th>\n",
              "      <td>0.310559</td>\n",
              "    </tr>\n",
              "    <tr>\n",
              "      <th>10</th>\n",
              "      <td>0.351553</td>\n",
              "    </tr>\n",
              "    <tr>\n",
              "      <th>11</th>\n",
              "      <td>0.233540</td>\n",
              "    </tr>\n",
              "    <tr>\n",
              "      <th>12</th>\n",
              "      <td>0.301863</td>\n",
              "    </tr>\n",
              "    <tr>\n",
              "      <th>13</th>\n",
              "      <td>0.198758</td>\n",
              "    </tr>\n",
              "    <tr>\n",
              "      <th>14</th>\n",
              "      <td>0.191304</td>\n",
              "    </tr>\n",
              "    <tr>\n",
              "      <th>15</th>\n",
              "      <td>0.283230</td>\n",
              "    </tr>\n",
              "  </tbody>\n",
              "</table>\n",
              "</div>\n",
              "      <button class=\"colab-df-convert\" onclick=\"convertToInteractive('df-5cf44cba-50f6-4423-a86d-8ad00c45f1c4')\"\n",
              "              title=\"Convert this dataframe to an interactive table.\"\n",
              "              style=\"display:none;\">\n",
              "        \n",
              "  <svg xmlns=\"http://www.w3.org/2000/svg\" height=\"24px\"viewBox=\"0 0 24 24\"\n",
              "       width=\"24px\">\n",
              "    <path d=\"M0 0h24v24H0V0z\" fill=\"none\"/>\n",
              "    <path d=\"M18.56 5.44l.94 2.06.94-2.06 2.06-.94-2.06-.94-.94-2.06-.94 2.06-2.06.94zm-11 1L8.5 8.5l.94-2.06 2.06-.94-2.06-.94L8.5 2.5l-.94 2.06-2.06.94zm10 10l.94 2.06.94-2.06 2.06-.94-2.06-.94-.94-2.06-.94 2.06-2.06.94z\"/><path d=\"M17.41 7.96l-1.37-1.37c-.4-.4-.92-.59-1.43-.59-.52 0-1.04.2-1.43.59L10.3 9.45l-7.72 7.72c-.78.78-.78 2.05 0 2.83L4 21.41c.39.39.9.59 1.41.59.51 0 1.02-.2 1.41-.59l7.78-7.78 2.81-2.81c.8-.78.8-2.07 0-2.86zM5.41 20L4 18.59l7.72-7.72 1.47 1.35L5.41 20z\"/>\n",
              "  </svg>\n",
              "      </button>\n",
              "      \n",
              "  <style>\n",
              "    .colab-df-container {\n",
              "      display:flex;\n",
              "      flex-wrap:wrap;\n",
              "      gap: 12px;\n",
              "    }\n",
              "\n",
              "    .colab-df-convert {\n",
              "      background-color: #E8F0FE;\n",
              "      border: none;\n",
              "      border-radius: 50%;\n",
              "      cursor: pointer;\n",
              "      display: none;\n",
              "      fill: #1967D2;\n",
              "      height: 32px;\n",
              "      padding: 0 0 0 0;\n",
              "      width: 32px;\n",
              "    }\n",
              "\n",
              "    .colab-df-convert:hover {\n",
              "      background-color: #E2EBFA;\n",
              "      box-shadow: 0px 1px 2px rgba(60, 64, 67, 0.3), 0px 1px 3px 1px rgba(60, 64, 67, 0.15);\n",
              "      fill: #174EA6;\n",
              "    }\n",
              "\n",
              "    [theme=dark] .colab-df-convert {\n",
              "      background-color: #3B4455;\n",
              "      fill: #D2E3FC;\n",
              "    }\n",
              "\n",
              "    [theme=dark] .colab-df-convert:hover {\n",
              "      background-color: #434B5C;\n",
              "      box-shadow: 0px 1px 3px 1px rgba(0, 0, 0, 0.15);\n",
              "      filter: drop-shadow(0px 1px 2px rgba(0, 0, 0, 0.3));\n",
              "      fill: #FFFFFF;\n",
              "    }\n",
              "  </style>\n",
              "\n",
              "      <script>\n",
              "        const buttonEl =\n",
              "          document.querySelector('#df-5cf44cba-50f6-4423-a86d-8ad00c45f1c4 button.colab-df-convert');\n",
              "        buttonEl.style.display =\n",
              "          google.colab.kernel.accessAllowed ? 'block' : 'none';\n",
              "\n",
              "        async function convertToInteractive(key) {\n",
              "          const element = document.querySelector('#df-5cf44cba-50f6-4423-a86d-8ad00c45f1c4');\n",
              "          const dataTable =\n",
              "            await google.colab.kernel.invokeFunction('convertToInteractive',\n",
              "                                                     [key], {});\n",
              "          if (!dataTable) return;\n",
              "\n",
              "          const docLinkHtml = 'Like what you see? Visit the ' +\n",
              "            '<a target=\"_blank\" href=https://colab.research.google.com/notebooks/data_table.ipynb>data table notebook</a>'\n",
              "            + ' to learn more about interactive tables.';\n",
              "          element.innerHTML = '';\n",
              "          dataTable['output_type'] = 'display_data';\n",
              "          await google.colab.output.renderOutput(dataTable, element);\n",
              "          const docLink = document.createElement('div');\n",
              "          docLink.innerHTML = docLinkHtml;\n",
              "          element.appendChild(docLink);\n",
              "        }\n",
              "      </script>\n",
              "    </div>\n",
              "  </div>\n",
              "  "
            ]
          },
          "metadata": {},
          "execution_count": 489
        }
      ]
    },
    {
      "cell_type": "code",
      "source": [
        "name =  ('A1','A2','A3','A3.5','A4','B1','B2','B3','B4','C1','C2','C3','C4','D2','D3','D4')"
      ],
      "metadata": {
        "id": "RLPR4uP5O8M2"
      },
      "execution_count": 490,
      "outputs": []
    },
    {
      "cell_type": "code",
      "source": [
        "Cols = ['shade'] \n",
        "S1_3 = pd.DataFrame(name,columns= Cols)\n",
        "S1_3"
      ],
      "metadata": {
        "id": "0MbXQK16PW33",
        "outputId": "04ef5e97-74de-441b-ba4e-472890cbe71d",
        "colab": {
          "base_uri": "https://localhost:8080/",
          "height": 551
        }
      },
      "execution_count": 491,
      "outputs": [
        {
          "output_type": "execute_result",
          "data": {
            "text/plain": [
              "   shade\n",
              "0     A1\n",
              "1     A2\n",
              "2     A3\n",
              "3   A3.5\n",
              "4     A4\n",
              "5     B1\n",
              "6     B2\n",
              "7     B3\n",
              "8     B4\n",
              "9     C1\n",
              "10    C2\n",
              "11    C3\n",
              "12    C4\n",
              "13    D2\n",
              "14    D3\n",
              "15    D4"
            ],
            "text/html": [
              "\n",
              "  <div id=\"df-1130fc56-08ca-426a-aa65-b3b418f5c05f\">\n",
              "    <div class=\"colab-df-container\">\n",
              "      <div>\n",
              "<style scoped>\n",
              "    .dataframe tbody tr th:only-of-type {\n",
              "        vertical-align: middle;\n",
              "    }\n",
              "\n",
              "    .dataframe tbody tr th {\n",
              "        vertical-align: top;\n",
              "    }\n",
              "\n",
              "    .dataframe thead th {\n",
              "        text-align: right;\n",
              "    }\n",
              "</style>\n",
              "<table border=\"1\" class=\"dataframe\">\n",
              "  <thead>\n",
              "    <tr style=\"text-align: right;\">\n",
              "      <th></th>\n",
              "      <th>shade</th>\n",
              "    </tr>\n",
              "  </thead>\n",
              "  <tbody>\n",
              "    <tr>\n",
              "      <th>0</th>\n",
              "      <td>A1</td>\n",
              "    </tr>\n",
              "    <tr>\n",
              "      <th>1</th>\n",
              "      <td>A2</td>\n",
              "    </tr>\n",
              "    <tr>\n",
              "      <th>2</th>\n",
              "      <td>A3</td>\n",
              "    </tr>\n",
              "    <tr>\n",
              "      <th>3</th>\n",
              "      <td>A3.5</td>\n",
              "    </tr>\n",
              "    <tr>\n",
              "      <th>4</th>\n",
              "      <td>A4</td>\n",
              "    </tr>\n",
              "    <tr>\n",
              "      <th>5</th>\n",
              "      <td>B1</td>\n",
              "    </tr>\n",
              "    <tr>\n",
              "      <th>6</th>\n",
              "      <td>B2</td>\n",
              "    </tr>\n",
              "    <tr>\n",
              "      <th>7</th>\n",
              "      <td>B3</td>\n",
              "    </tr>\n",
              "    <tr>\n",
              "      <th>8</th>\n",
              "      <td>B4</td>\n",
              "    </tr>\n",
              "    <tr>\n",
              "      <th>9</th>\n",
              "      <td>C1</td>\n",
              "    </tr>\n",
              "    <tr>\n",
              "      <th>10</th>\n",
              "      <td>C2</td>\n",
              "    </tr>\n",
              "    <tr>\n",
              "      <th>11</th>\n",
              "      <td>C3</td>\n",
              "    </tr>\n",
              "    <tr>\n",
              "      <th>12</th>\n",
              "      <td>C4</td>\n",
              "    </tr>\n",
              "    <tr>\n",
              "      <th>13</th>\n",
              "      <td>D2</td>\n",
              "    </tr>\n",
              "    <tr>\n",
              "      <th>14</th>\n",
              "      <td>D3</td>\n",
              "    </tr>\n",
              "    <tr>\n",
              "      <th>15</th>\n",
              "      <td>D4</td>\n",
              "    </tr>\n",
              "  </tbody>\n",
              "</table>\n",
              "</div>\n",
              "      <button class=\"colab-df-convert\" onclick=\"convertToInteractive('df-1130fc56-08ca-426a-aa65-b3b418f5c05f')\"\n",
              "              title=\"Convert this dataframe to an interactive table.\"\n",
              "              style=\"display:none;\">\n",
              "        \n",
              "  <svg xmlns=\"http://www.w3.org/2000/svg\" height=\"24px\"viewBox=\"0 0 24 24\"\n",
              "       width=\"24px\">\n",
              "    <path d=\"M0 0h24v24H0V0z\" fill=\"none\"/>\n",
              "    <path d=\"M18.56 5.44l.94 2.06.94-2.06 2.06-.94-2.06-.94-.94-2.06-.94 2.06-2.06.94zm-11 1L8.5 8.5l.94-2.06 2.06-.94-2.06-.94L8.5 2.5l-.94 2.06-2.06.94zm10 10l.94 2.06.94-2.06 2.06-.94-2.06-.94-.94-2.06-.94 2.06-2.06.94z\"/><path d=\"M17.41 7.96l-1.37-1.37c-.4-.4-.92-.59-1.43-.59-.52 0-1.04.2-1.43.59L10.3 9.45l-7.72 7.72c-.78.78-.78 2.05 0 2.83L4 21.41c.39.39.9.59 1.41.59.51 0 1.02-.2 1.41-.59l7.78-7.78 2.81-2.81c.8-.78.8-2.07 0-2.86zM5.41 20L4 18.59l7.72-7.72 1.47 1.35L5.41 20z\"/>\n",
              "  </svg>\n",
              "      </button>\n",
              "      \n",
              "  <style>\n",
              "    .colab-df-container {\n",
              "      display:flex;\n",
              "      flex-wrap:wrap;\n",
              "      gap: 12px;\n",
              "    }\n",
              "\n",
              "    .colab-df-convert {\n",
              "      background-color: #E8F0FE;\n",
              "      border: none;\n",
              "      border-radius: 50%;\n",
              "      cursor: pointer;\n",
              "      display: none;\n",
              "      fill: #1967D2;\n",
              "      height: 32px;\n",
              "      padding: 0 0 0 0;\n",
              "      width: 32px;\n",
              "    }\n",
              "\n",
              "    .colab-df-convert:hover {\n",
              "      background-color: #E2EBFA;\n",
              "      box-shadow: 0px 1px 2px rgba(60, 64, 67, 0.3), 0px 1px 3px 1px rgba(60, 64, 67, 0.15);\n",
              "      fill: #174EA6;\n",
              "    }\n",
              "\n",
              "    [theme=dark] .colab-df-convert {\n",
              "      background-color: #3B4455;\n",
              "      fill: #D2E3FC;\n",
              "    }\n",
              "\n",
              "    [theme=dark] .colab-df-convert:hover {\n",
              "      background-color: #434B5C;\n",
              "      box-shadow: 0px 1px 3px 1px rgba(0, 0, 0, 0.15);\n",
              "      filter: drop-shadow(0px 1px 2px rgba(0, 0, 0, 0.3));\n",
              "      fill: #FFFFFF;\n",
              "    }\n",
              "  </style>\n",
              "\n",
              "      <script>\n",
              "        const buttonEl =\n",
              "          document.querySelector('#df-1130fc56-08ca-426a-aa65-b3b418f5c05f button.colab-df-convert');\n",
              "        buttonEl.style.display =\n",
              "          google.colab.kernel.accessAllowed ? 'block' : 'none';\n",
              "\n",
              "        async function convertToInteractive(key) {\n",
              "          const element = document.querySelector('#df-1130fc56-08ca-426a-aa65-b3b418f5c05f');\n",
              "          const dataTable =\n",
              "            await google.colab.kernel.invokeFunction('convertToInteractive',\n",
              "                                                     [key], {});\n",
              "          if (!dataTable) return;\n",
              "\n",
              "          const docLinkHtml = 'Like what you see? Visit the ' +\n",
              "            '<a target=\"_blank\" href=https://colab.research.google.com/notebooks/data_table.ipynb>data table notebook</a>'\n",
              "            + ' to learn more about interactive tables.';\n",
              "          element.innerHTML = '';\n",
              "          dataTable['output_type'] = 'display_data';\n",
              "          await google.colab.output.renderOutput(dataTable, element);\n",
              "          const docLink = document.createElement('div');\n",
              "          docLink.innerHTML = docLinkHtml;\n",
              "          element.appendChild(docLink);\n",
              "        }\n",
              "      </script>\n",
              "    </div>\n",
              "  </div>\n",
              "  "
            ]
          },
          "metadata": {},
          "execution_count": 491
        }
      ]
    },
    {
      "cell_type": "code",
      "source": [
        "Data_RF = pd.concat([S1_3,S1_1,S1_2], axis=1)\n",
        "Data_RF"
      ],
      "metadata": {
        "id": "s_kFJxtYOmdC",
        "outputId": "b38fe9ce-70dc-4e6e-a2c6-666c59b27ca3",
        "colab": {
          "base_uri": "https://localhost:8080/",
          "height": 551
        }
      },
      "execution_count": 492,
      "outputs": [
        {
          "output_type": "execute_result",
          "data": {
            "text/plain": [
              "   shade  Set1_rgb  Set1_hsv\n",
              "0     A1  0.247500  0.267500\n",
              "1     A2  0.202500  0.062500\n",
              "2     A3  0.227500  0.236250\n",
              "3   A3.5  0.157500  0.107500\n",
              "4     A4  0.190000  0.348750\n",
              "5     B1  0.115528  0.193789\n",
              "6     B2  0.118012  0.193789\n",
              "7     B3  0.062112  0.206211\n",
              "8     B4  0.154037  0.147826\n",
              "9     C1  0.062112  0.310559\n",
              "10    C2  0.187578  0.351553\n",
              "11    C3  0.464596  0.233540\n",
              "12    C4  0.367702  0.301863\n",
              "13    D2  0.294410  0.198758\n",
              "14    D3  0.182609  0.191304\n",
              "15    D4  0.416149  0.283230"
            ],
            "text/html": [
              "\n",
              "  <div id=\"df-585ecdcd-f24d-4bad-881e-56dbae27d556\">\n",
              "    <div class=\"colab-df-container\">\n",
              "      <div>\n",
              "<style scoped>\n",
              "    .dataframe tbody tr th:only-of-type {\n",
              "        vertical-align: middle;\n",
              "    }\n",
              "\n",
              "    .dataframe tbody tr th {\n",
              "        vertical-align: top;\n",
              "    }\n",
              "\n",
              "    .dataframe thead th {\n",
              "        text-align: right;\n",
              "    }\n",
              "</style>\n",
              "<table border=\"1\" class=\"dataframe\">\n",
              "  <thead>\n",
              "    <tr style=\"text-align: right;\">\n",
              "      <th></th>\n",
              "      <th>shade</th>\n",
              "      <th>Set1_rgb</th>\n",
              "      <th>Set1_hsv</th>\n",
              "    </tr>\n",
              "  </thead>\n",
              "  <tbody>\n",
              "    <tr>\n",
              "      <th>0</th>\n",
              "      <td>A1</td>\n",
              "      <td>0.247500</td>\n",
              "      <td>0.267500</td>\n",
              "    </tr>\n",
              "    <tr>\n",
              "      <th>1</th>\n",
              "      <td>A2</td>\n",
              "      <td>0.202500</td>\n",
              "      <td>0.062500</td>\n",
              "    </tr>\n",
              "    <tr>\n",
              "      <th>2</th>\n",
              "      <td>A3</td>\n",
              "      <td>0.227500</td>\n",
              "      <td>0.236250</td>\n",
              "    </tr>\n",
              "    <tr>\n",
              "      <th>3</th>\n",
              "      <td>A3.5</td>\n",
              "      <td>0.157500</td>\n",
              "      <td>0.107500</td>\n",
              "    </tr>\n",
              "    <tr>\n",
              "      <th>4</th>\n",
              "      <td>A4</td>\n",
              "      <td>0.190000</td>\n",
              "      <td>0.348750</td>\n",
              "    </tr>\n",
              "    <tr>\n",
              "      <th>5</th>\n",
              "      <td>B1</td>\n",
              "      <td>0.115528</td>\n",
              "      <td>0.193789</td>\n",
              "    </tr>\n",
              "    <tr>\n",
              "      <th>6</th>\n",
              "      <td>B2</td>\n",
              "      <td>0.118012</td>\n",
              "      <td>0.193789</td>\n",
              "    </tr>\n",
              "    <tr>\n",
              "      <th>7</th>\n",
              "      <td>B3</td>\n",
              "      <td>0.062112</td>\n",
              "      <td>0.206211</td>\n",
              "    </tr>\n",
              "    <tr>\n",
              "      <th>8</th>\n",
              "      <td>B4</td>\n",
              "      <td>0.154037</td>\n",
              "      <td>0.147826</td>\n",
              "    </tr>\n",
              "    <tr>\n",
              "      <th>9</th>\n",
              "      <td>C1</td>\n",
              "      <td>0.062112</td>\n",
              "      <td>0.310559</td>\n",
              "    </tr>\n",
              "    <tr>\n",
              "      <th>10</th>\n",
              "      <td>C2</td>\n",
              "      <td>0.187578</td>\n",
              "      <td>0.351553</td>\n",
              "    </tr>\n",
              "    <tr>\n",
              "      <th>11</th>\n",
              "      <td>C3</td>\n",
              "      <td>0.464596</td>\n",
              "      <td>0.233540</td>\n",
              "    </tr>\n",
              "    <tr>\n",
              "      <th>12</th>\n",
              "      <td>C4</td>\n",
              "      <td>0.367702</td>\n",
              "      <td>0.301863</td>\n",
              "    </tr>\n",
              "    <tr>\n",
              "      <th>13</th>\n",
              "      <td>D2</td>\n",
              "      <td>0.294410</td>\n",
              "      <td>0.198758</td>\n",
              "    </tr>\n",
              "    <tr>\n",
              "      <th>14</th>\n",
              "      <td>D3</td>\n",
              "      <td>0.182609</td>\n",
              "      <td>0.191304</td>\n",
              "    </tr>\n",
              "    <tr>\n",
              "      <th>15</th>\n",
              "      <td>D4</td>\n",
              "      <td>0.416149</td>\n",
              "      <td>0.283230</td>\n",
              "    </tr>\n",
              "  </tbody>\n",
              "</table>\n",
              "</div>\n",
              "      <button class=\"colab-df-convert\" onclick=\"convertToInteractive('df-585ecdcd-f24d-4bad-881e-56dbae27d556')\"\n",
              "              title=\"Convert this dataframe to an interactive table.\"\n",
              "              style=\"display:none;\">\n",
              "        \n",
              "  <svg xmlns=\"http://www.w3.org/2000/svg\" height=\"24px\"viewBox=\"0 0 24 24\"\n",
              "       width=\"24px\">\n",
              "    <path d=\"M0 0h24v24H0V0z\" fill=\"none\"/>\n",
              "    <path d=\"M18.56 5.44l.94 2.06.94-2.06 2.06-.94-2.06-.94-.94-2.06-.94 2.06-2.06.94zm-11 1L8.5 8.5l.94-2.06 2.06-.94-2.06-.94L8.5 2.5l-.94 2.06-2.06.94zm10 10l.94 2.06.94-2.06 2.06-.94-2.06-.94-.94-2.06-.94 2.06-2.06.94z\"/><path d=\"M17.41 7.96l-1.37-1.37c-.4-.4-.92-.59-1.43-.59-.52 0-1.04.2-1.43.59L10.3 9.45l-7.72 7.72c-.78.78-.78 2.05 0 2.83L4 21.41c.39.39.9.59 1.41.59.51 0 1.02-.2 1.41-.59l7.78-7.78 2.81-2.81c.8-.78.8-2.07 0-2.86zM5.41 20L4 18.59l7.72-7.72 1.47 1.35L5.41 20z\"/>\n",
              "  </svg>\n",
              "      </button>\n",
              "      \n",
              "  <style>\n",
              "    .colab-df-container {\n",
              "      display:flex;\n",
              "      flex-wrap:wrap;\n",
              "      gap: 12px;\n",
              "    }\n",
              "\n",
              "    .colab-df-convert {\n",
              "      background-color: #E8F0FE;\n",
              "      border: none;\n",
              "      border-radius: 50%;\n",
              "      cursor: pointer;\n",
              "      display: none;\n",
              "      fill: #1967D2;\n",
              "      height: 32px;\n",
              "      padding: 0 0 0 0;\n",
              "      width: 32px;\n",
              "    }\n",
              "\n",
              "    .colab-df-convert:hover {\n",
              "      background-color: #E2EBFA;\n",
              "      box-shadow: 0px 1px 2px rgba(60, 64, 67, 0.3), 0px 1px 3px 1px rgba(60, 64, 67, 0.15);\n",
              "      fill: #174EA6;\n",
              "    }\n",
              "\n",
              "    [theme=dark] .colab-df-convert {\n",
              "      background-color: #3B4455;\n",
              "      fill: #D2E3FC;\n",
              "    }\n",
              "\n",
              "    [theme=dark] .colab-df-convert:hover {\n",
              "      background-color: #434B5C;\n",
              "      box-shadow: 0px 1px 3px 1px rgba(0, 0, 0, 0.15);\n",
              "      filter: drop-shadow(0px 1px 2px rgba(0, 0, 0, 0.3));\n",
              "      fill: #FFFFFF;\n",
              "    }\n",
              "  </style>\n",
              "\n",
              "      <script>\n",
              "        const buttonEl =\n",
              "          document.querySelector('#df-585ecdcd-f24d-4bad-881e-56dbae27d556 button.colab-df-convert');\n",
              "        buttonEl.style.display =\n",
              "          google.colab.kernel.accessAllowed ? 'block' : 'none';\n",
              "\n",
              "        async function convertToInteractive(key) {\n",
              "          const element = document.querySelector('#df-585ecdcd-f24d-4bad-881e-56dbae27d556');\n",
              "          const dataTable =\n",
              "            await google.colab.kernel.invokeFunction('convertToInteractive',\n",
              "                                                     [key], {});\n",
              "          if (!dataTable) return;\n",
              "\n",
              "          const docLinkHtml = 'Like what you see? Visit the ' +\n",
              "            '<a target=\"_blank\" href=https://colab.research.google.com/notebooks/data_table.ipynb>data table notebook</a>'\n",
              "            + ' to learn more about interactive tables.';\n",
              "          element.innerHTML = '';\n",
              "          dataTable['output_type'] = 'display_data';\n",
              "          await google.colab.output.renderOutput(dataTable, element);\n",
              "          const docLink = document.createElement('div');\n",
              "          docLink.innerHTML = docLinkHtml;\n",
              "          element.appendChild(docLink);\n",
              "        }\n",
              "      </script>\n",
              "    </div>\n",
              "  </div>\n",
              "  "
            ]
          },
          "metadata": {},
          "execution_count": 492
        }
      ]
    },
    {
      "cell_type": "code",
      "source": [
        "Data_RF.to_csv('SVM2_set1.csv', index=False)"
      ],
      "metadata": {
        "id": "e4BpK7gqlXki"
      },
      "execution_count": 493,
      "outputs": []
    }
  ]
}