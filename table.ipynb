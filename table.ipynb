{
  "nbformat": 4,
  "nbformat_minor": 0,
  "metadata": {
    "colab": {
      "name": "table",
      "provenance": [],
      "authorship_tag": "ABX9TyMy1DgBHVUxViO4yYjSjVW1",
      "include_colab_link": true
    },
    "kernelspec": {
      "name": "python3",
      "display_name": "Python 3"
    },
    "language_info": {
      "name": "python"
    }
  },
  "cells": [
    {
      "cell_type": "markdown",
      "metadata": {
        "id": "view-in-github",
        "colab_type": "text"
      },
      "source": [
        "<a href=\"https://colab.research.google.com/github/Kggzzz/Project_2021_matchingcolor/blob/main/table.ipynb\" target=\"_parent\"><img src=\"https://colab.research.google.com/assets/colab-badge.svg\" alt=\"Open In Colab\"/></a>"
      ]
    },
    {
      "cell_type": "code",
      "metadata": {
        "id": "EC1XdeC4aphT"
      },
      "source": [
        "import pandas as pd"
      ],
      "execution_count": 1,
      "outputs": []
    },
    {
      "cell_type": "code",
      "metadata": {
        "colab": {
          "base_uri": "https://localhost:8080/"
        },
        "id": "kPfRvKpVbmd1",
        "outputId": "41c560f4-70db-4716-fbaf-aa52cc3af44e"
      },
      "source": [
        "from google.colab import drive \n",
        "drive.mount('/content/drive')"
      ],
      "execution_count": 2,
      "outputs": [
        {
          "output_type": "stream",
          "text": [
            "Mounted at /content/drive\n"
          ],
          "name": "stdout"
        }
      ]
    },
    {
      "cell_type": "code",
      "metadata": {
        "id": "dVnF70JHbnhc"
      },
      "source": [
        "import os"
      ],
      "execution_count": 3,
      "outputs": []
    },
    {
      "cell_type": "code",
      "metadata": {
        "id": "02VhNsS7bo2N"
      },
      "source": [
        "path = '/content/drive/My Drive/shadeimg'"
      ],
      "execution_count": 4,
      "outputs": []
    },
    {
      "cell_type": "code",
      "metadata": {
        "colab": {
          "base_uri": "https://localhost:8080/"
        },
        "id": "SeVTyP9qb3MD",
        "outputId": "534fa151-f5f8-4203-cde0-1a5584d74bbc"
      },
      "source": [
        "os.listdir(path)"
      ],
      "execution_count": 5,
      "outputs": [
        {
          "output_type": "execute_result",
          "data": {
            "text/plain": [
              "['9-10 7 2021',\n",
              " 'รูปฟัน07',\n",
              " '11 7 2021',\n",
              " 'ฟันสักอย่างจำวันไม่ได้',\n",
              " '1 teeth .gsheet',\n",
              " '16 8 2021',\n",
              " '17 8 2021',\n",
              " '2 teeth.gsheet',\n",
              " '2 teeth.xlsx',\n",
              " '1 teeth .xlsx']"
            ]
          },
          "metadata": {},
          "execution_count": 5
        }
      ]
    },
    {
      "cell_type": "code",
      "metadata": {
        "colab": {
          "base_uri": "https://localhost:8080/"
        },
        "id": "8Q1jBW7vcRWf",
        "outputId": "19824583-6ee5-4b54-93ce-40afbb2b2197"
      },
      "source": [
        "file_path = os.path.join(path,'1 teeth .xlsx')\n",
        "print(file_path)"
      ],
      "execution_count": 6,
      "outputs": [
        {
          "output_type": "stream",
          "text": [
            "/content/drive/My Drive/shadeimg/1 teeth .xlsx\n"
          ],
          "name": "stdout"
        }
      ]
    },
    {
      "cell_type": "code",
      "metadata": {
        "id": "DG_9J66bcjb-"
      },
      "source": [
        "table1 = pd.read_excel(file_path)"
      ],
      "execution_count": 7,
      "outputs": []
    },
    {
      "cell_type": "code",
      "metadata": {
        "colab": {
          "base_uri": "https://localhost:8080/",
          "height": 644
        },
        "id": "1mTL4SaBdqVw",
        "outputId": "ac8a456b-b9ab-4424-d02e-fc3d72a73c30"
      },
      "source": [
        "table1"
      ],
      "execution_count": 8,
      "outputs": [
        {
          "output_type": "execute_result",
          "data": {
            "text/html": [
              "<div>\n",
              "<style scoped>\n",
              "    .dataframe tbody tr th:only-of-type {\n",
              "        vertical-align: middle;\n",
              "    }\n",
              "\n",
              "    .dataframe tbody tr th {\n",
              "        vertical-align: top;\n",
              "    }\n",
              "\n",
              "    .dataframe thead th {\n",
              "        text-align: right;\n",
              "    }\n",
              "</style>\n",
              "<table border=\"1\" class=\"dataframe\">\n",
              "  <thead>\n",
              "    <tr style=\"text-align: right;\">\n",
              "      <th></th>\n",
              "      <th>ชื่อไฟล์ข้อมูล</th>\n",
              "      <th>รหัสเฉดไกด์</th>\n",
              "      <th>ชนิดกล้องถ่ายรูป</th>\n",
              "      <th>แสงที่ใช้</th>\n",
              "      <th>ฉากหลัง</th>\n",
              "    </tr>\n",
              "  </thead>\n",
              "  <tbody>\n",
              "    <tr>\n",
              "      <th>0</th>\n",
              "      <td>8158D745-0A6C-46A1-AA5B-EB9276AFC4C0.png</td>\n",
              "      <td>A1</td>\n",
              "      <td>iphone 11</td>\n",
              "      <td>ไฟโคมไฟสีขาว และไฟนีออนในห้อง</td>\n",
              "      <td>สีดำ</td>\n",
              "    </tr>\n",
              "    <tr>\n",
              "      <th>1</th>\n",
              "      <td>47651682-0468-459F-92BC-B79B324E9A20.png</td>\n",
              "      <td>A1</td>\n",
              "      <td>iphone 11</td>\n",
              "      <td>ไฟโคมไฟสีขาว และไฟนีออนในห้อง</td>\n",
              "      <td>สีดำ</td>\n",
              "    </tr>\n",
              "    <tr>\n",
              "      <th>2</th>\n",
              "      <td>B19786D4-3705-4F6C-B485-9473BE11AFDF.png</td>\n",
              "      <td>A1</td>\n",
              "      <td>iphone 11</td>\n",
              "      <td>ไฟโคมไฟสีขาว และไฟนีออนในห้อง</td>\n",
              "      <td>สีดำ</td>\n",
              "    </tr>\n",
              "    <tr>\n",
              "      <th>3</th>\n",
              "      <td>1BA57134-5CDE-4E3F-B766-1870428477F8.png</td>\n",
              "      <td>A1</td>\n",
              "      <td>iphone 11</td>\n",
              "      <td>ไฟโคมไฟสีขาว และไฟนีออนในห้อง</td>\n",
              "      <td>สีดำ</td>\n",
              "    </tr>\n",
              "    <tr>\n",
              "      <th>4</th>\n",
              "      <td>14C1EED0-BE16-4524-8D52-94F4FE77FEC0.png</td>\n",
              "      <td>A1</td>\n",
              "      <td>iphone 11</td>\n",
              "      <td>ไฟโคมไฟสีขาว และไฟนีออนในห้อง</td>\n",
              "      <td>สีดำ</td>\n",
              "    </tr>\n",
              "    <tr>\n",
              "      <th>5</th>\n",
              "      <td>E90ED8DA-4E26-4B91-8C17-76EFCA43D72F.png</td>\n",
              "      <td>A1</td>\n",
              "      <td>iphone 11</td>\n",
              "      <td>ไฟโคมไฟสีขาว และไฟนีออนในห้อง</td>\n",
              "      <td>สีดำ</td>\n",
              "    </tr>\n",
              "    <tr>\n",
              "      <th>6</th>\n",
              "      <td>03F73619-45CD-4219-B5F3-A91A68A37261.png</td>\n",
              "      <td>A1</td>\n",
              "      <td>iphone 11</td>\n",
              "      <td>ไฟโคมไฟสีขาว และไฟนีออนในห้อง</td>\n",
              "      <td>สีดำ</td>\n",
              "    </tr>\n",
              "    <tr>\n",
              "      <th>7</th>\n",
              "      <td>7C801EA2-7D50-45BD-8DF2-516D06F2129D.png</td>\n",
              "      <td>A1</td>\n",
              "      <td>iphone 11</td>\n",
              "      <td>ไฟโคมไฟสีขาว และไฟนีออนในห้อง</td>\n",
              "      <td>สีดำ</td>\n",
              "    </tr>\n",
              "    <tr>\n",
              "      <th>8</th>\n",
              "      <td>7BDCFCB2-E8BF-4C7D-A2E4-1FA647E814A9.png</td>\n",
              "      <td>A1</td>\n",
              "      <td>iphone 11</td>\n",
              "      <td>ไฟโคมไฟสีขาว และไฟนีออนในห้อง</td>\n",
              "      <td>สีดำ</td>\n",
              "    </tr>\n",
              "    <tr>\n",
              "      <th>9</th>\n",
              "      <td>BDA3ADFD-3FB2-4FB9-905C-0E3A232F669B.png</td>\n",
              "      <td>A1</td>\n",
              "      <td>iphone 11</td>\n",
              "      <td>ไฟโคมไฟสีขาว และไฟนีออนในห้อง</td>\n",
              "      <td>สีดำ</td>\n",
              "    </tr>\n",
              "    <tr>\n",
              "      <th>10</th>\n",
              "      <td>48B05535-5315-4B7C-9283-7ACBD853B5F2.png</td>\n",
              "      <td>A1</td>\n",
              "      <td>iphone 11</td>\n",
              "      <td>ไฟโคมไฟสีขาว และไฟนีออนในห้อง</td>\n",
              "      <td>สีดำ</td>\n",
              "    </tr>\n",
              "    <tr>\n",
              "      <th>11</th>\n",
              "      <td>43B15911-2EAB-46F9-84E8-040DB98B8D52.png</td>\n",
              "      <td>A1</td>\n",
              "      <td>iphone 11</td>\n",
              "      <td>ไฟโคมไฟสีขาว และไฟนีออนในห้อง</td>\n",
              "      <td>สีดำ</td>\n",
              "    </tr>\n",
              "    <tr>\n",
              "      <th>12</th>\n",
              "      <td>318B1141-0848-4816-A402-1E2E81525917.png</td>\n",
              "      <td>A1</td>\n",
              "      <td>iphone 11</td>\n",
              "      <td>ไฟโคมไฟสีขาว และไฟนีออนในห้อง</td>\n",
              "      <td>สีดำ</td>\n",
              "    </tr>\n",
              "    <tr>\n",
              "      <th>13</th>\n",
              "      <td>49336DA1-728B-4916-B4A7-2BFA5095005E.png</td>\n",
              "      <td>A1</td>\n",
              "      <td>iphone 11</td>\n",
              "      <td>ไฟโคมไฟสีขาว และไฟนีออนในห้อง</td>\n",
              "      <td>สีดำ</td>\n",
              "    </tr>\n",
              "    <tr>\n",
              "      <th>14</th>\n",
              "      <td>8C751D6E-48F9-4E05-9BA3-E3FD448700CC.png</td>\n",
              "      <td>A1</td>\n",
              "      <td>iphone 11</td>\n",
              "      <td>ไฟโคมไฟสีขาว และไฟนีออนในห้อง</td>\n",
              "      <td>สีดำ</td>\n",
              "    </tr>\n",
              "    <tr>\n",
              "      <th>15</th>\n",
              "      <td>690A1C78-0EFE-4B8C-94E1-33B2561123E1.png</td>\n",
              "      <td>A1</td>\n",
              "      <td>iphone 11</td>\n",
              "      <td>ไฟโคมไฟสีขาว และไฟนีออนในห้อง</td>\n",
              "      <td>สีดำ</td>\n",
              "    </tr>\n",
              "    <tr>\n",
              "      <th>16</th>\n",
              "      <td>9E8E357B-E413-44DE-B126-2DE85A70272C.png</td>\n",
              "      <td>A1</td>\n",
              "      <td>iphone 11</td>\n",
              "      <td>ไฟโคมไฟสีขาว และไฟนีออนในห้อง</td>\n",
              "      <td>สีดำ</td>\n",
              "    </tr>\n",
              "    <tr>\n",
              "      <th>17</th>\n",
              "      <td>85BD1513-ADAD-474F-B297-323E88AA4B2A.png</td>\n",
              "      <td>A1</td>\n",
              "      <td>iphone 11</td>\n",
              "      <td>ไฟโคมไฟสีขาว และไฟนีออนในห้อง</td>\n",
              "      <td>สีดำ</td>\n",
              "    </tr>\n",
              "    <tr>\n",
              "      <th>18</th>\n",
              "      <td>1B090D2C-A4DB-4C67-8EE8-B0968968C6B7.png</td>\n",
              "      <td>A1</td>\n",
              "      <td>iphone 11</td>\n",
              "      <td>ไฟโคมไฟสีขาว และไฟนีออนในห้อง</td>\n",
              "      <td>สีดำ</td>\n",
              "    </tr>\n",
              "  </tbody>\n",
              "</table>\n",
              "</div>"
            ],
            "text/plain": [
              "                              ชื่อไฟล์ข้อมูล  ... ฉากหลัง\n",
              "0   8158D745-0A6C-46A1-AA5B-EB9276AFC4C0.png  ...    สีดำ\n",
              "1   47651682-0468-459F-92BC-B79B324E9A20.png  ...    สีดำ\n",
              "2   B19786D4-3705-4F6C-B485-9473BE11AFDF.png  ...    สีดำ\n",
              "3   1BA57134-5CDE-4E3F-B766-1870428477F8.png  ...    สีดำ\n",
              "4   14C1EED0-BE16-4524-8D52-94F4FE77FEC0.png  ...    สีดำ\n",
              "5   E90ED8DA-4E26-4B91-8C17-76EFCA43D72F.png  ...    สีดำ\n",
              "6   03F73619-45CD-4219-B5F3-A91A68A37261.png  ...    สีดำ\n",
              "7   7C801EA2-7D50-45BD-8DF2-516D06F2129D.png  ...    สีดำ\n",
              "8   7BDCFCB2-E8BF-4C7D-A2E4-1FA647E814A9.png  ...    สีดำ\n",
              "9   BDA3ADFD-3FB2-4FB9-905C-0E3A232F669B.png  ...    สีดำ\n",
              "10  48B05535-5315-4B7C-9283-7ACBD853B5F2.png  ...    สีดำ\n",
              "11  43B15911-2EAB-46F9-84E8-040DB98B8D52.png  ...    สีดำ\n",
              "12  318B1141-0848-4816-A402-1E2E81525917.png  ...    สีดำ\n",
              "13  49336DA1-728B-4916-B4A7-2BFA5095005E.png  ...    สีดำ\n",
              "14  8C751D6E-48F9-4E05-9BA3-E3FD448700CC.png  ...    สีดำ\n",
              "15  690A1C78-0EFE-4B8C-94E1-33B2561123E1.png  ...    สีดำ\n",
              "16  9E8E357B-E413-44DE-B126-2DE85A70272C.png  ...    สีดำ\n",
              "17  85BD1513-ADAD-474F-B297-323E88AA4B2A.png  ...    สีดำ\n",
              "18  1B090D2C-A4DB-4C67-8EE8-B0968968C6B7.png  ...    สีดำ\n",
              "\n",
              "[19 rows x 5 columns]"
            ]
          },
          "metadata": {},
          "execution_count": 8
        }
      ]
    },
    {
      "cell_type": "code",
      "metadata": {
        "id": "c1zzyn23dsYH"
      },
      "source": [
        ""
      ],
      "execution_count": null,
      "outputs": []
    }
  ]
}