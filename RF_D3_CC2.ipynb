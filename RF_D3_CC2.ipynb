{
  "nbformat": 4,
  "nbformat_minor": 0,
  "metadata": {
    "colab": {
      "name": "RF_D3_CC2.ipynb",
      "provenance": [],
      "collapsed_sections": [
        "480etiaejoWu",
        "_IExAm4gjoWx",
        "QtddIFhZmT6y",
        "_QZmNKGToJfj",
        "YmEFu_3tt92a",
        "kFckM1SuxrfW"
      ],
      "authorship_tag": "ABX9TyP7PMGlPeoSbhUD8fl64MSg",
      "include_colab_link": true
    },
    "kernelspec": {
      "name": "python3",
      "display_name": "Python 3"
    },
    "language_info": {
      "name": "python"
    }
  },
  "cells": [
    {
      "cell_type": "markdown",
      "metadata": {
        "id": "view-in-github",
        "colab_type": "text"
      },
      "source": [
        "<a href=\"https://colab.research.google.com/github/Kggzzz/Project_2021_matchingcolor/blob/main/RF_D3_CC2.ipynb\" target=\"_parent\"><img src=\"https://colab.research.google.com/assets/colab-badge.svg\" alt=\"Open In Colab\"/></a>"
      ]
    },
    {
      "cell_type": "code",
      "execution_count": 1,
      "metadata": {
        "id": "HKNXe3aNxjrS"
      },
      "outputs": [],
      "source": [
        "import pandas as pd"
      ]
    },
    {
      "cell_type": "code",
      "source": [
        "from google.colab import drive \n",
        "drive.mount('/content/drive')"
      ],
      "metadata": {
        "colab": {
          "base_uri": "https://localhost:8080/"
        },
        "id": "vlUA764exm_B",
        "outputId": "0afeacde-e8bf-4328-c8bf-62423fe48c0b"
      },
      "execution_count": 2,
      "outputs": [
        {
          "output_type": "stream",
          "name": "stdout",
          "text": [
            "Mounted at /content/drive\n"
          ]
        }
      ]
    },
    {
      "cell_type": "code",
      "source": [
        "import os"
      ],
      "metadata": {
        "id": "0NR2cd8WxtI0"
      },
      "execution_count": 3,
      "outputs": []
    },
    {
      "cell_type": "code",
      "source": [
        "path = '/content/drive/My Drive/shadeimg/SVM shade'"
      ],
      "metadata": {
        "id": "CCvM6YiWxv4J"
      },
      "execution_count": 5,
      "outputs": []
    },
    {
      "cell_type": "code",
      "source": [
        "os.listdir(path)"
      ],
      "metadata": {
        "colab": {
          "base_uri": "https://localhost:8080/"
        },
        "id": "gEamzWg2xxw0",
        "outputId": "059d30a0-209f-4a39-b88e-aac96b699323"
      },
      "execution_count": 6,
      "outputs": [
        {
          "output_type": "execute_result",
          "data": {
            "text/plain": [
              "['DD.xlsx',\n",
              " 'CC.xlsx',\n",
              " 'BB.xlsx',\n",
              " 'Shade_AA.xlsx',\n",
              " 'Shade_CC.xlsx',\n",
              " 'Shade_DD.xlsx',\n",
              " 'Shade_BB.xlsx',\n",
              " 'AA.xlsx',\n",
              " 'AA_2.xlsx',\n",
              " 'Shad_A.xlsx',\n",
              " 'Shad_B.xlsx',\n",
              " 'Shad_C.xlsx',\n",
              " 'Shad_D.xlsx',\n",
              " 'Setting1.xlsx',\n",
              " 'Setting2.xlsx',\n",
              " 'Setting3.xlsx',\n",
              " 'Setting4.xlsx',\n",
              " 'Color-checkerBB.xlsx',\n",
              " 'Color-checkerCC.xlsx',\n",
              " 'Color-checkerAA.xlsx',\n",
              " 'Color-checkerDD.xlsx',\n",
              " 'CheckerDD.xlsx']"
            ]
          },
          "metadata": {},
          "execution_count": 6
        }
      ]
    },
    {
      "cell_type": "code",
      "source": [
        "CC1 = os.path.join(path,'CheckerDD.xlsx')\n",
        "print(CC1)"
      ],
      "metadata": {
        "colab": {
          "base_uri": "https://localhost:8080/"
        },
        "id": "FGDUM8Yubm3F",
        "outputId": "3ab40593-efc1-4519-810d-c6f8531e5ddd"
      },
      "execution_count": 7,
      "outputs": [
        {
          "output_type": "stream",
          "name": "stdout",
          "text": [
            "/content/drive/My Drive/shadeimg/SVM shade/CheckerDD.xlsx\n"
          ]
        }
      ]
    },
    {
      "cell_type": "code",
      "source": [
        "Set1 = os.path.join(path,'Setting1.xlsx')\n",
        "print(Set1)"
      ],
      "metadata": {
        "colab": {
          "base_uri": "https://localhost:8080/"
        },
        "id": "YnNg2TofxzSg",
        "outputId": "dd14120c-5945-4fdc-e5ac-2bd2e29f95b3"
      },
      "execution_count": 8,
      "outputs": [
        {
          "output_type": "stream",
          "name": "stdout",
          "text": [
            "/content/drive/My Drive/shadeimg/SVM shade/Setting1.xlsx\n"
          ]
        }
      ]
    },
    {
      "cell_type": "code",
      "source": [
        "Set2 = os.path.join(path,'Setting2.xlsx')\n",
        "print(Set2)"
      ],
      "metadata": {
        "id": "9NmuTsKXj8iA",
        "outputId": "b02b73bc-3baa-4650-ec29-30ff2c5eabfd",
        "colab": {
          "base_uri": "https://localhost:8080/"
        }
      },
      "execution_count": 9,
      "outputs": [
        {
          "output_type": "stream",
          "name": "stdout",
          "text": [
            "/content/drive/My Drive/shadeimg/SVM shade/Setting2.xlsx\n"
          ]
        }
      ]
    },
    {
      "cell_type": "code",
      "source": [
        "Set3 = os.path.join(path,'Setting3.xlsx')\n",
        "print(Set3)"
      ],
      "metadata": {
        "id": "Flpjty_gj80T",
        "outputId": "fdc8c213-76b3-492e-e863-34ba29b40fc6",
        "colab": {
          "base_uri": "https://localhost:8080/"
        }
      },
      "execution_count": 10,
      "outputs": [
        {
          "output_type": "stream",
          "name": "stdout",
          "text": [
            "/content/drive/My Drive/shadeimg/SVM shade/Setting3.xlsx\n"
          ]
        }
      ]
    },
    {
      "cell_type": "code",
      "source": [
        "Set4 = os.path.join(path,'Setting4.xlsx')\n",
        "print(Set4)"
      ],
      "metadata": {
        "colab": {
          "base_uri": "https://localhost:8080/"
        },
        "id": "D5_QGRNuj9Hu",
        "outputId": "6d2d9de2-da4e-4514-8cb3-96ad9e2849c7"
      },
      "execution_count": 11,
      "outputs": [
        {
          "output_type": "stream",
          "name": "stdout",
          "text": [
            "/content/drive/My Drive/shadeimg/SVM shade/Setting4.xlsx\n"
          ]
        }
      ]
    },
    {
      "cell_type": "code",
      "source": [
        "import numpy as np"
      ],
      "metadata": {
        "id": "8ISBGlPBzzvw"
      },
      "execution_count": 12,
      "outputs": []
    },
    {
      "cell_type": "code",
      "source": [
        "from sklearn import metrics"
      ],
      "metadata": {
        "id": "FTwRPXBBzw1v"
      },
      "execution_count": 13,
      "outputs": []
    },
    {
      "cell_type": "code",
      "source": [
        "from sklearn import datasets"
      ],
      "metadata": {
        "id": "KR8lVsZXpX9X"
      },
      "execution_count": 14,
      "outputs": []
    },
    {
      "cell_type": "code",
      "source": [
        "from sklearn.ensemble import RandomForestClassifier"
      ],
      "metadata": {
        "id": "cfRBaPLCI0vn"
      },
      "execution_count": 15,
      "outputs": []
    },
    {
      "cell_type": "code",
      "source": [
        "clf=RandomForestClassifier()"
      ],
      "metadata": {
        "id": "i-IpOEIhnwdR"
      },
      "execution_count": 16,
      "outputs": []
    },
    {
      "cell_type": "code",
      "source": [
        "table_D3CC1 = pd.read_excel(CC1 , sheet_name='D3set6')\n",
        "table_D3CC1.head()"
      ],
      "metadata": {
        "colab": {
          "base_uri": "https://localhost:8080/",
          "height": 337
        },
        "id": "vG__NuVXb2Qz",
        "outputId": "9aab726b-2941-43b0-a3bf-6f1dd252acaa"
      },
      "execution_count": 17,
      "outputs": [
        {
          "output_type": "execute_result",
          "data": {
            "text/html": [
              "\n",
              "  <div id=\"df-6b402be6-b415-4839-8bea-ba6a418d6ebf\">\n",
              "    <div class=\"colab-df-container\">\n",
              "      <div>\n",
              "<style scoped>\n",
              "    .dataframe tbody tr th:only-of-type {\n",
              "        vertical-align: middle;\n",
              "    }\n",
              "\n",
              "    .dataframe tbody tr th {\n",
              "        vertical-align: top;\n",
              "    }\n",
              "\n",
              "    .dataframe thead th {\n",
              "        text-align: right;\n",
              "    }\n",
              "</style>\n",
              "<table border=\"1\" class=\"dataframe\">\n",
              "  <thead>\n",
              "    <tr style=\"text-align: right;\">\n",
              "      <th></th>\n",
              "      <th>R-ref</th>\n",
              "      <th>G-ref</th>\n",
              "      <th>B-ref</th>\n",
              "      <th>R-Shad</th>\n",
              "      <th>G-Shad</th>\n",
              "      <th>B-Shad</th>\n",
              "      <th>H-ref</th>\n",
              "      <th>S-ref</th>\n",
              "      <th>V-ref</th>\n",
              "      <th>H-Shad</th>\n",
              "      <th>S-Shad</th>\n",
              "      <th>V-Shad</th>\n",
              "      <th>Setting</th>\n",
              "      <th>Ref</th>\n",
              "      <th>Shad</th>\n",
              "      <th>Img</th>\n",
              "    </tr>\n",
              "  </thead>\n",
              "  <tbody>\n",
              "    <tr>\n",
              "      <th>0</th>\n",
              "      <td>216.974434</td>\n",
              "      <td>221.510592</td>\n",
              "      <td>199.688012</td>\n",
              "      <td>216.226726</td>\n",
              "      <td>220.796743</td>\n",
              "      <td>199.027381</td>\n",
              "      <td>36.490626</td>\n",
              "      <td>25.144388</td>\n",
              "      <td>221.510592</td>\n",
              "      <td>36.572363</td>\n",
              "      <td>25.152407</td>\n",
              "      <td>220.796743</td>\n",
              "      <td>Set6</td>\n",
              "      <td>D3</td>\n",
              "      <td>A1</td>\n",
              "      <td>271DC401-D060-44CF-9035-B5163A38C82A.png</td>\n",
              "    </tr>\n",
              "    <tr>\n",
              "      <th>1</th>\n",
              "      <td>224.099505</td>\n",
              "      <td>229.098369</td>\n",
              "      <td>205.000081</td>\n",
              "      <td>223.430553</td>\n",
              "      <td>228.342721</td>\n",
              "      <td>204.197781</td>\n",
              "      <td>36.531856</td>\n",
              "      <td>26.762925</td>\n",
              "      <td>229.098369</td>\n",
              "      <td>36.403741</td>\n",
              "      <td>26.914089</td>\n",
              "      <td>228.342721</td>\n",
              "      <td>Set6</td>\n",
              "      <td>D3</td>\n",
              "      <td>A1</td>\n",
              "      <td>A3DE134D-4B70-47DE-9CEC-140F0D9A2A69.png</td>\n",
              "    </tr>\n",
              "    <tr>\n",
              "      <th>2</th>\n",
              "      <td>223.496388</td>\n",
              "      <td>229.110949</td>\n",
              "      <td>204.149501</td>\n",
              "      <td>222.779319</td>\n",
              "      <td>228.326577</td>\n",
              "      <td>203.311215</td>\n",
              "      <td>36.949355</td>\n",
              "      <td>27.709196</td>\n",
              "      <td>229.110949</td>\n",
              "      <td>36.838632</td>\n",
              "      <td>27.870422</td>\n",
              "      <td>228.326577</td>\n",
              "      <td>Set6</td>\n",
              "      <td>D3</td>\n",
              "      <td>A1</td>\n",
              "      <td>BFE57A76-6444-47E0-8266-3F9240EDE840.png</td>\n",
              "    </tr>\n",
              "    <tr>\n",
              "      <th>3</th>\n",
              "      <td>223.590861</td>\n",
              "      <td>229.145362</td>\n",
              "      <td>204.242919</td>\n",
              "      <td>222.889908</td>\n",
              "      <td>228.361923</td>\n",
              "      <td>203.480549</td>\n",
              "      <td>36.902849</td>\n",
              "      <td>27.656521</td>\n",
              "      <td>229.145362</td>\n",
              "      <td>36.810895</td>\n",
              "      <td>27.735510</td>\n",
              "      <td>228.361923</td>\n",
              "      <td>Set6</td>\n",
              "      <td>D3</td>\n",
              "      <td>A1</td>\n",
              "      <td>FD507C4E-07C8-4DCC-9DCB-F3FB2C76AAB4.png</td>\n",
              "    </tr>\n",
              "    <tr>\n",
              "      <th>4</th>\n",
              "      <td>223.864134</td>\n",
              "      <td>229.322052</td>\n",
              "      <td>204.647188</td>\n",
              "      <td>223.173103</td>\n",
              "      <td>228.538653</td>\n",
              "      <td>203.859185</td>\n",
              "      <td>36.876146</td>\n",
              "      <td>27.371885</td>\n",
              "      <td>229.322052</td>\n",
              "      <td>36.759477</td>\n",
              "      <td>27.478487</td>\n",
              "      <td>228.538653</td>\n",
              "      <td>Set6</td>\n",
              "      <td>D3</td>\n",
              "      <td>A1</td>\n",
              "      <td>10D62DA7-31C9-483A-A627-9AD9F089ECD0.png</td>\n",
              "    </tr>\n",
              "  </tbody>\n",
              "</table>\n",
              "</div>\n",
              "      <button class=\"colab-df-convert\" onclick=\"convertToInteractive('df-6b402be6-b415-4839-8bea-ba6a418d6ebf')\"\n",
              "              title=\"Convert this dataframe to an interactive table.\"\n",
              "              style=\"display:none;\">\n",
              "        \n",
              "  <svg xmlns=\"http://www.w3.org/2000/svg\" height=\"24px\"viewBox=\"0 0 24 24\"\n",
              "       width=\"24px\">\n",
              "    <path d=\"M0 0h24v24H0V0z\" fill=\"none\"/>\n",
              "    <path d=\"M18.56 5.44l.94 2.06.94-2.06 2.06-.94-2.06-.94-.94-2.06-.94 2.06-2.06.94zm-11 1L8.5 8.5l.94-2.06 2.06-.94-2.06-.94L8.5 2.5l-.94 2.06-2.06.94zm10 10l.94 2.06.94-2.06 2.06-.94-2.06-.94-.94-2.06-.94 2.06-2.06.94z\"/><path d=\"M17.41 7.96l-1.37-1.37c-.4-.4-.92-.59-1.43-.59-.52 0-1.04.2-1.43.59L10.3 9.45l-7.72 7.72c-.78.78-.78 2.05 0 2.83L4 21.41c.39.39.9.59 1.41.59.51 0 1.02-.2 1.41-.59l7.78-7.78 2.81-2.81c.8-.78.8-2.07 0-2.86zM5.41 20L4 18.59l7.72-7.72 1.47 1.35L5.41 20z\"/>\n",
              "  </svg>\n",
              "      </button>\n",
              "      \n",
              "  <style>\n",
              "    .colab-df-container {\n",
              "      display:flex;\n",
              "      flex-wrap:wrap;\n",
              "      gap: 12px;\n",
              "    }\n",
              "\n",
              "    .colab-df-convert {\n",
              "      background-color: #E8F0FE;\n",
              "      border: none;\n",
              "      border-radius: 50%;\n",
              "      cursor: pointer;\n",
              "      display: none;\n",
              "      fill: #1967D2;\n",
              "      height: 32px;\n",
              "      padding: 0 0 0 0;\n",
              "      width: 32px;\n",
              "    }\n",
              "\n",
              "    .colab-df-convert:hover {\n",
              "      background-color: #E2EBFA;\n",
              "      box-shadow: 0px 1px 2px rgba(60, 64, 67, 0.3), 0px 1px 3px 1px rgba(60, 64, 67, 0.15);\n",
              "      fill: #174EA6;\n",
              "    }\n",
              "\n",
              "    [theme=dark] .colab-df-convert {\n",
              "      background-color: #3B4455;\n",
              "      fill: #D2E3FC;\n",
              "    }\n",
              "\n",
              "    [theme=dark] .colab-df-convert:hover {\n",
              "      background-color: #434B5C;\n",
              "      box-shadow: 0px 1px 3px 1px rgba(0, 0, 0, 0.15);\n",
              "      filter: drop-shadow(0px 1px 2px rgba(0, 0, 0, 0.3));\n",
              "      fill: #FFFFFF;\n",
              "    }\n",
              "  </style>\n",
              "\n",
              "      <script>\n",
              "        const buttonEl =\n",
              "          document.querySelector('#df-6b402be6-b415-4839-8bea-ba6a418d6ebf button.colab-df-convert');\n",
              "        buttonEl.style.display =\n",
              "          google.colab.kernel.accessAllowed ? 'block' : 'none';\n",
              "\n",
              "        async function convertToInteractive(key) {\n",
              "          const element = document.querySelector('#df-6b402be6-b415-4839-8bea-ba6a418d6ebf');\n",
              "          const dataTable =\n",
              "            await google.colab.kernel.invokeFunction('convertToInteractive',\n",
              "                                                     [key], {});\n",
              "          if (!dataTable) return;\n",
              "\n",
              "          const docLinkHtml = 'Like what you see? Visit the ' +\n",
              "            '<a target=\"_blank\" href=https://colab.research.google.com/notebooks/data_table.ipynb>data table notebook</a>'\n",
              "            + ' to learn more about interactive tables.';\n",
              "          element.innerHTML = '';\n",
              "          dataTable['output_type'] = 'display_data';\n",
              "          await google.colab.output.renderOutput(dataTable, element);\n",
              "          const docLink = document.createElement('div');\n",
              "          docLink.innerHTML = docLinkHtml;\n",
              "          element.appendChild(docLink);\n",
              "        }\n",
              "      </script>\n",
              "    </div>\n",
              "  </div>\n",
              "  "
            ],
            "text/plain": [
              "        R-ref       G-ref  ...  Shad                                       Img\n",
              "0  216.974434  221.510592  ...    A1  271DC401-D060-44CF-9035-B5163A38C82A.png\n",
              "1  224.099505  229.098369  ...    A1  A3DE134D-4B70-47DE-9CEC-140F0D9A2A69.png\n",
              "2  223.496388  229.110949  ...    A1  BFE57A76-6444-47E0-8266-3F9240EDE840.png\n",
              "3  223.590861  229.145362  ...    A1  FD507C4E-07C8-4DCC-9DCB-F3FB2C76AAB4.png\n",
              "4  223.864134  229.322052  ...    A1  10D62DA7-31C9-483A-A627-9AD9F089ECD0.png\n",
              "\n",
              "[5 rows x 16 columns]"
            ]
          },
          "metadata": {},
          "execution_count": 17
        }
      ]
    },
    {
      "cell_type": "markdown",
      "source": [
        "#AA"
      ],
      "metadata": {
        "id": "poM422dmJDh0"
      }
    },
    {
      "cell_type": "markdown",
      "source": [
        "##A1"
      ],
      "metadata": {
        "id": "Cb9iZlIWmt1B"
      }
    },
    {
      "cell_type": "code",
      "source": [
        "table_A1Set1 = pd.read_excel(Set1 , sheet_name='A1Set1 ')\n",
        "table_A1Set1.head()"
      ],
      "metadata": {
        "id": "4Kf9aT59JKhr",
        "colab": {
          "base_uri": "https://localhost:8080/",
          "height": 337
        },
        "outputId": "ac13c76b-1053-4da8-fd4d-66c302c54899"
      },
      "execution_count": 18,
      "outputs": [
        {
          "output_type": "execute_result",
          "data": {
            "text/html": [
              "\n",
              "  <div id=\"df-f1bdba40-16e4-4573-a0ec-691d776834bf\">\n",
              "    <div class=\"colab-df-container\">\n",
              "      <div>\n",
              "<style scoped>\n",
              "    .dataframe tbody tr th:only-of-type {\n",
              "        vertical-align: middle;\n",
              "    }\n",
              "\n",
              "    .dataframe tbody tr th {\n",
              "        vertical-align: top;\n",
              "    }\n",
              "\n",
              "    .dataframe thead th {\n",
              "        text-align: right;\n",
              "    }\n",
              "</style>\n",
              "<table border=\"1\" class=\"dataframe\">\n",
              "  <thead>\n",
              "    <tr style=\"text-align: right;\">\n",
              "      <th></th>\n",
              "      <th>R-ref</th>\n",
              "      <th>G-ref</th>\n",
              "      <th>B-ref</th>\n",
              "      <th>R-Shad</th>\n",
              "      <th>G-Shad</th>\n",
              "      <th>B-Shad</th>\n",
              "      <th>H-ref</th>\n",
              "      <th>S-ref</th>\n",
              "      <th>V-ref</th>\n",
              "      <th>H-Shad</th>\n",
              "      <th>S-Shad</th>\n",
              "      <th>V-Shad</th>\n",
              "      <th>Setting</th>\n",
              "      <th>Ref</th>\n",
              "      <th>Shad</th>\n",
              "      <th>Img</th>\n",
              "    </tr>\n",
              "  </thead>\n",
              "  <tbody>\n",
              "    <tr>\n",
              "      <th>0</th>\n",
              "      <td>239.261911</td>\n",
              "      <td>226.772178</td>\n",
              "      <td>193.540054</td>\n",
              "      <td>239.680321</td>\n",
              "      <td>227.425574</td>\n",
              "      <td>194.950928</td>\n",
              "      <td>21.848389</td>\n",
              "      <td>48.820144</td>\n",
              "      <td>239.261911</td>\n",
              "      <td>21.788351</td>\n",
              "      <td>47.702439</td>\n",
              "      <td>239.680321</td>\n",
              "      <td>Set1</td>\n",
              "      <td>A1</td>\n",
              "      <td>A1</td>\n",
              "      <td>1665B5AE-934F-4116-AE19-3369544A125F.png</td>\n",
              "    </tr>\n",
              "    <tr>\n",
              "      <th>1</th>\n",
              "      <td>238.432676</td>\n",
              "      <td>226.124909</td>\n",
              "      <td>192.415551</td>\n",
              "      <td>238.840410</td>\n",
              "      <td>226.726477</td>\n",
              "      <td>193.791053</td>\n",
              "      <td>22.034413</td>\n",
              "      <td>49.293320</td>\n",
              "      <td>238.432676</td>\n",
              "      <td>21.958893</td>\n",
              "      <td>48.209231</td>\n",
              "      <td>238.840410</td>\n",
              "      <td>Set1</td>\n",
              "      <td>A1</td>\n",
              "      <td>A1</td>\n",
              "      <td>47C127AF-8872-4A1E-9F72-082F72252B3F.png</td>\n",
              "    </tr>\n",
              "    <tr>\n",
              "      <th>2</th>\n",
              "      <td>238.783134</td>\n",
              "      <td>226.525201</td>\n",
              "      <td>193.025485</td>\n",
              "      <td>239.209800</td>\n",
              "      <td>227.131072</td>\n",
              "      <td>194.443994</td>\n",
              "      <td>21.989205</td>\n",
              "      <td>48.946108</td>\n",
              "      <td>238.783134</td>\n",
              "      <td>21.892611</td>\n",
              "      <td>47.829457</td>\n",
              "      <td>239.209800</td>\n",
              "      <td>Set1</td>\n",
              "      <td>A1</td>\n",
              "      <td>A1</td>\n",
              "      <td>15991304-7501-4377-BE6E-1B9AF5258FC1.png</td>\n",
              "    </tr>\n",
              "    <tr>\n",
              "      <th>3</th>\n",
              "      <td>238.943430</td>\n",
              "      <td>226.796039</td>\n",
              "      <td>192.905771</td>\n",
              "      <td>239.369177</td>\n",
              "      <td>227.383188</td>\n",
              "      <td>194.241875</td>\n",
              "      <td>22.138219</td>\n",
              "      <td>49.229040</td>\n",
              "      <td>238.943430</td>\n",
              "      <td>22.057108</td>\n",
              "      <td>48.200412</td>\n",
              "      <td>239.369177</td>\n",
              "      <td>Set1</td>\n",
              "      <td>A1</td>\n",
              "      <td>A1</td>\n",
              "      <td>5CE2CB9A-C765-4240-B3D3-E352B1581A1B.png</td>\n",
              "    </tr>\n",
              "    <tr>\n",
              "      <th>4</th>\n",
              "      <td>238.848145</td>\n",
              "      <td>226.354679</td>\n",
              "      <td>192.963720</td>\n",
              "      <td>239.291942</td>\n",
              "      <td>226.985207</td>\n",
              "      <td>194.387952</td>\n",
              "      <td>21.893109</td>\n",
              "      <td>49.072234</td>\n",
              "      <td>238.848145</td>\n",
              "      <td>21.792831</td>\n",
              "      <td>47.962023</td>\n",
              "      <td>239.291942</td>\n",
              "      <td>Set1</td>\n",
              "      <td>A1</td>\n",
              "      <td>A1</td>\n",
              "      <td>26A32C19-6890-4999-A7F2-D8399A56E3B5.png</td>\n",
              "    </tr>\n",
              "  </tbody>\n",
              "</table>\n",
              "</div>\n",
              "      <button class=\"colab-df-convert\" onclick=\"convertToInteractive('df-f1bdba40-16e4-4573-a0ec-691d776834bf')\"\n",
              "              title=\"Convert this dataframe to an interactive table.\"\n",
              "              style=\"display:none;\">\n",
              "        \n",
              "  <svg xmlns=\"http://www.w3.org/2000/svg\" height=\"24px\"viewBox=\"0 0 24 24\"\n",
              "       width=\"24px\">\n",
              "    <path d=\"M0 0h24v24H0V0z\" fill=\"none\"/>\n",
              "    <path d=\"M18.56 5.44l.94 2.06.94-2.06 2.06-.94-2.06-.94-.94-2.06-.94 2.06-2.06.94zm-11 1L8.5 8.5l.94-2.06 2.06-.94-2.06-.94L8.5 2.5l-.94 2.06-2.06.94zm10 10l.94 2.06.94-2.06 2.06-.94-2.06-.94-.94-2.06-.94 2.06-2.06.94z\"/><path d=\"M17.41 7.96l-1.37-1.37c-.4-.4-.92-.59-1.43-.59-.52 0-1.04.2-1.43.59L10.3 9.45l-7.72 7.72c-.78.78-.78 2.05 0 2.83L4 21.41c.39.39.9.59 1.41.59.51 0 1.02-.2 1.41-.59l7.78-7.78 2.81-2.81c.8-.78.8-2.07 0-2.86zM5.41 20L4 18.59l7.72-7.72 1.47 1.35L5.41 20z\"/>\n",
              "  </svg>\n",
              "      </button>\n",
              "      \n",
              "  <style>\n",
              "    .colab-df-container {\n",
              "      display:flex;\n",
              "      flex-wrap:wrap;\n",
              "      gap: 12px;\n",
              "    }\n",
              "\n",
              "    .colab-df-convert {\n",
              "      background-color: #E8F0FE;\n",
              "      border: none;\n",
              "      border-radius: 50%;\n",
              "      cursor: pointer;\n",
              "      display: none;\n",
              "      fill: #1967D2;\n",
              "      height: 32px;\n",
              "      padding: 0 0 0 0;\n",
              "      width: 32px;\n",
              "    }\n",
              "\n",
              "    .colab-df-convert:hover {\n",
              "      background-color: #E2EBFA;\n",
              "      box-shadow: 0px 1px 2px rgba(60, 64, 67, 0.3), 0px 1px 3px 1px rgba(60, 64, 67, 0.15);\n",
              "      fill: #174EA6;\n",
              "    }\n",
              "\n",
              "    [theme=dark] .colab-df-convert {\n",
              "      background-color: #3B4455;\n",
              "      fill: #D2E3FC;\n",
              "    }\n",
              "\n",
              "    [theme=dark] .colab-df-convert:hover {\n",
              "      background-color: #434B5C;\n",
              "      box-shadow: 0px 1px 3px 1px rgba(0, 0, 0, 0.15);\n",
              "      filter: drop-shadow(0px 1px 2px rgba(0, 0, 0, 0.3));\n",
              "      fill: #FFFFFF;\n",
              "    }\n",
              "  </style>\n",
              "\n",
              "      <script>\n",
              "        const buttonEl =\n",
              "          document.querySelector('#df-f1bdba40-16e4-4573-a0ec-691d776834bf button.colab-df-convert');\n",
              "        buttonEl.style.display =\n",
              "          google.colab.kernel.accessAllowed ? 'block' : 'none';\n",
              "\n",
              "        async function convertToInteractive(key) {\n",
              "          const element = document.querySelector('#df-f1bdba40-16e4-4573-a0ec-691d776834bf');\n",
              "          const dataTable =\n",
              "            await google.colab.kernel.invokeFunction('convertToInteractive',\n",
              "                                                     [key], {});\n",
              "          if (!dataTable) return;\n",
              "\n",
              "          const docLinkHtml = 'Like what you see? Visit the ' +\n",
              "            '<a target=\"_blank\" href=https://colab.research.google.com/notebooks/data_table.ipynb>data table notebook</a>'\n",
              "            + ' to learn more about interactive tables.';\n",
              "          element.innerHTML = '';\n",
              "          dataTable['output_type'] = 'display_data';\n",
              "          await google.colab.output.renderOutput(dataTable, element);\n",
              "          const docLink = document.createElement('div');\n",
              "          docLink.innerHTML = docLinkHtml;\n",
              "          element.appendChild(docLink);\n",
              "        }\n",
              "      </script>\n",
              "    </div>\n",
              "  </div>\n",
              "  "
            ],
            "text/plain": [
              "        R-ref       G-ref  ...  Shad                                       Img\n",
              "0  239.261911  226.772178  ...    A1  1665B5AE-934F-4116-AE19-3369544A125F.png\n",
              "1  238.432676  226.124909  ...    A1  47C127AF-8872-4A1E-9F72-082F72252B3F.png\n",
              "2  238.783134  226.525201  ...    A1  15991304-7501-4377-BE6E-1B9AF5258FC1.png\n",
              "3  238.943430  226.796039  ...    A1  5CE2CB9A-C765-4240-B3D3-E352B1581A1B.png\n",
              "4  238.848145  226.354679  ...    A1  26A32C19-6890-4999-A7F2-D8399A56E3B5.png\n",
              "\n",
              "[5 rows x 16 columns]"
            ]
          },
          "metadata": {},
          "execution_count": 18
        }
      ]
    },
    {
      "cell_type": "code",
      "source": [
        "table_A1Set2 = pd.read_excel(Set2, sheet_name='A1Set2 ')\n",
        "table_A1Set2.head()"
      ],
      "metadata": {
        "colab": {
          "base_uri": "https://localhost:8080/",
          "height": 337
        },
        "id": "0TfhE7XnOv5u",
        "outputId": "4d19ab53-003b-45e2-a090-f78c7d336684"
      },
      "execution_count": 19,
      "outputs": [
        {
          "output_type": "execute_result",
          "data": {
            "text/html": [
              "\n",
              "  <div id=\"df-ce38a46b-526c-4807-9230-7f39f82f6172\">\n",
              "    <div class=\"colab-df-container\">\n",
              "      <div>\n",
              "<style scoped>\n",
              "    .dataframe tbody tr th:only-of-type {\n",
              "        vertical-align: middle;\n",
              "    }\n",
              "\n",
              "    .dataframe tbody tr th {\n",
              "        vertical-align: top;\n",
              "    }\n",
              "\n",
              "    .dataframe thead th {\n",
              "        text-align: right;\n",
              "    }\n",
              "</style>\n",
              "<table border=\"1\" class=\"dataframe\">\n",
              "  <thead>\n",
              "    <tr style=\"text-align: right;\">\n",
              "      <th></th>\n",
              "      <th>R-ref</th>\n",
              "      <th>G-ref</th>\n",
              "      <th>B-ref</th>\n",
              "      <th>R-Shad</th>\n",
              "      <th>G-Shad</th>\n",
              "      <th>B-Shad</th>\n",
              "      <th>H-ref</th>\n",
              "      <th>S-ref</th>\n",
              "      <th>V-ref</th>\n",
              "      <th>H-Shad</th>\n",
              "      <th>S-Shad</th>\n",
              "      <th>V-Shad</th>\n",
              "      <th>Setting</th>\n",
              "      <th>Ref</th>\n",
              "      <th>Shad</th>\n",
              "      <th>Img</th>\n",
              "    </tr>\n",
              "  </thead>\n",
              "  <tbody>\n",
              "    <tr>\n",
              "      <th>0</th>\n",
              "      <td>239.261911</td>\n",
              "      <td>226.772178</td>\n",
              "      <td>193.540054</td>\n",
              "      <td>239.680321</td>\n",
              "      <td>227.425574</td>\n",
              "      <td>194.950928</td>\n",
              "      <td>21.848389</td>\n",
              "      <td>48.820144</td>\n",
              "      <td>239.261911</td>\n",
              "      <td>21.788351</td>\n",
              "      <td>47.702439</td>\n",
              "      <td>239.680321</td>\n",
              "      <td>Set1</td>\n",
              "      <td>A1</td>\n",
              "      <td>A1</td>\n",
              "      <td>1665B5AE-934F-4116-AE19-3369544A125F.png</td>\n",
              "    </tr>\n",
              "    <tr>\n",
              "      <th>1</th>\n",
              "      <td>238.432676</td>\n",
              "      <td>226.124909</td>\n",
              "      <td>192.415551</td>\n",
              "      <td>238.840410</td>\n",
              "      <td>226.726477</td>\n",
              "      <td>193.791053</td>\n",
              "      <td>22.034413</td>\n",
              "      <td>49.293320</td>\n",
              "      <td>238.432676</td>\n",
              "      <td>21.958893</td>\n",
              "      <td>48.209231</td>\n",
              "      <td>238.840410</td>\n",
              "      <td>Set1</td>\n",
              "      <td>A1</td>\n",
              "      <td>A1</td>\n",
              "      <td>47C127AF-8872-4A1E-9F72-082F72252B3F.png</td>\n",
              "    </tr>\n",
              "    <tr>\n",
              "      <th>2</th>\n",
              "      <td>238.783134</td>\n",
              "      <td>226.525201</td>\n",
              "      <td>193.025485</td>\n",
              "      <td>239.209800</td>\n",
              "      <td>227.131072</td>\n",
              "      <td>194.443994</td>\n",
              "      <td>21.989205</td>\n",
              "      <td>48.946108</td>\n",
              "      <td>238.783134</td>\n",
              "      <td>21.892611</td>\n",
              "      <td>47.829457</td>\n",
              "      <td>239.209800</td>\n",
              "      <td>Set1</td>\n",
              "      <td>A1</td>\n",
              "      <td>A1</td>\n",
              "      <td>15991304-7501-4377-BE6E-1B9AF5258FC1.png</td>\n",
              "    </tr>\n",
              "    <tr>\n",
              "      <th>3</th>\n",
              "      <td>238.943430</td>\n",
              "      <td>226.796039</td>\n",
              "      <td>192.905771</td>\n",
              "      <td>239.369177</td>\n",
              "      <td>227.383188</td>\n",
              "      <td>194.241875</td>\n",
              "      <td>22.138219</td>\n",
              "      <td>49.229040</td>\n",
              "      <td>238.943430</td>\n",
              "      <td>22.057108</td>\n",
              "      <td>48.200412</td>\n",
              "      <td>239.369177</td>\n",
              "      <td>Set1</td>\n",
              "      <td>A1</td>\n",
              "      <td>A1</td>\n",
              "      <td>5CE2CB9A-C765-4240-B3D3-E352B1581A1B.png</td>\n",
              "    </tr>\n",
              "    <tr>\n",
              "      <th>4</th>\n",
              "      <td>238.848145</td>\n",
              "      <td>226.354679</td>\n",
              "      <td>192.963720</td>\n",
              "      <td>239.291942</td>\n",
              "      <td>226.985207</td>\n",
              "      <td>194.387952</td>\n",
              "      <td>21.893109</td>\n",
              "      <td>49.072234</td>\n",
              "      <td>238.848145</td>\n",
              "      <td>21.792831</td>\n",
              "      <td>47.962023</td>\n",
              "      <td>239.291942</td>\n",
              "      <td>Set1</td>\n",
              "      <td>A1</td>\n",
              "      <td>A1</td>\n",
              "      <td>26A32C19-6890-4999-A7F2-D8399A56E3B5.png</td>\n",
              "    </tr>\n",
              "  </tbody>\n",
              "</table>\n",
              "</div>\n",
              "      <button class=\"colab-df-convert\" onclick=\"convertToInteractive('df-ce38a46b-526c-4807-9230-7f39f82f6172')\"\n",
              "              title=\"Convert this dataframe to an interactive table.\"\n",
              "              style=\"display:none;\">\n",
              "        \n",
              "  <svg xmlns=\"http://www.w3.org/2000/svg\" height=\"24px\"viewBox=\"0 0 24 24\"\n",
              "       width=\"24px\">\n",
              "    <path d=\"M0 0h24v24H0V0z\" fill=\"none\"/>\n",
              "    <path d=\"M18.56 5.44l.94 2.06.94-2.06 2.06-.94-2.06-.94-.94-2.06-.94 2.06-2.06.94zm-11 1L8.5 8.5l.94-2.06 2.06-.94-2.06-.94L8.5 2.5l-.94 2.06-2.06.94zm10 10l.94 2.06.94-2.06 2.06-.94-2.06-.94-.94-2.06-.94 2.06-2.06.94z\"/><path d=\"M17.41 7.96l-1.37-1.37c-.4-.4-.92-.59-1.43-.59-.52 0-1.04.2-1.43.59L10.3 9.45l-7.72 7.72c-.78.78-.78 2.05 0 2.83L4 21.41c.39.39.9.59 1.41.59.51 0 1.02-.2 1.41-.59l7.78-7.78 2.81-2.81c.8-.78.8-2.07 0-2.86zM5.41 20L4 18.59l7.72-7.72 1.47 1.35L5.41 20z\"/>\n",
              "  </svg>\n",
              "      </button>\n",
              "      \n",
              "  <style>\n",
              "    .colab-df-container {\n",
              "      display:flex;\n",
              "      flex-wrap:wrap;\n",
              "      gap: 12px;\n",
              "    }\n",
              "\n",
              "    .colab-df-convert {\n",
              "      background-color: #E8F0FE;\n",
              "      border: none;\n",
              "      border-radius: 50%;\n",
              "      cursor: pointer;\n",
              "      display: none;\n",
              "      fill: #1967D2;\n",
              "      height: 32px;\n",
              "      padding: 0 0 0 0;\n",
              "      width: 32px;\n",
              "    }\n",
              "\n",
              "    .colab-df-convert:hover {\n",
              "      background-color: #E2EBFA;\n",
              "      box-shadow: 0px 1px 2px rgba(60, 64, 67, 0.3), 0px 1px 3px 1px rgba(60, 64, 67, 0.15);\n",
              "      fill: #174EA6;\n",
              "    }\n",
              "\n",
              "    [theme=dark] .colab-df-convert {\n",
              "      background-color: #3B4455;\n",
              "      fill: #D2E3FC;\n",
              "    }\n",
              "\n",
              "    [theme=dark] .colab-df-convert:hover {\n",
              "      background-color: #434B5C;\n",
              "      box-shadow: 0px 1px 3px 1px rgba(0, 0, 0, 0.15);\n",
              "      filter: drop-shadow(0px 1px 2px rgba(0, 0, 0, 0.3));\n",
              "      fill: #FFFFFF;\n",
              "    }\n",
              "  </style>\n",
              "\n",
              "      <script>\n",
              "        const buttonEl =\n",
              "          document.querySelector('#df-ce38a46b-526c-4807-9230-7f39f82f6172 button.colab-df-convert');\n",
              "        buttonEl.style.display =\n",
              "          google.colab.kernel.accessAllowed ? 'block' : 'none';\n",
              "\n",
              "        async function convertToInteractive(key) {\n",
              "          const element = document.querySelector('#df-ce38a46b-526c-4807-9230-7f39f82f6172');\n",
              "          const dataTable =\n",
              "            await google.colab.kernel.invokeFunction('convertToInteractive',\n",
              "                                                     [key], {});\n",
              "          if (!dataTable) return;\n",
              "\n",
              "          const docLinkHtml = 'Like what you see? Visit the ' +\n",
              "            '<a target=\"_blank\" href=https://colab.research.google.com/notebooks/data_table.ipynb>data table notebook</a>'\n",
              "            + ' to learn more about interactive tables.';\n",
              "          element.innerHTML = '';\n",
              "          dataTable['output_type'] = 'display_data';\n",
              "          await google.colab.output.renderOutput(dataTable, element);\n",
              "          const docLink = document.createElement('div');\n",
              "          docLink.innerHTML = docLinkHtml;\n",
              "          element.appendChild(docLink);\n",
              "        }\n",
              "      </script>\n",
              "    </div>\n",
              "  </div>\n",
              "  "
            ],
            "text/plain": [
              "        R-ref       G-ref  ...  Shad                                       Img\n",
              "0  239.261911  226.772178  ...    A1  1665B5AE-934F-4116-AE19-3369544A125F.png\n",
              "1  238.432676  226.124909  ...    A1  47C127AF-8872-4A1E-9F72-082F72252B3F.png\n",
              "2  238.783134  226.525201  ...    A1  15991304-7501-4377-BE6E-1B9AF5258FC1.png\n",
              "3  238.943430  226.796039  ...    A1  5CE2CB9A-C765-4240-B3D3-E352B1581A1B.png\n",
              "4  238.848145  226.354679  ...    A1  26A32C19-6890-4999-A7F2-D8399A56E3B5.png\n",
              "\n",
              "[5 rows x 16 columns]"
            ]
          },
          "metadata": {},
          "execution_count": 19
        }
      ]
    },
    {
      "cell_type": "code",
      "source": [
        "table_A1Set3 = pd.read_excel(Set3, sheet_name='A1Set3 ')\n",
        "table_A1Set3.head()"
      ],
      "metadata": {
        "colab": {
          "base_uri": "https://localhost:8080/",
          "height": 337
        },
        "id": "iiyvO6Q0OzrT",
        "outputId": "2e3dac4e-7552-4813-89f7-9b9c1310e690"
      },
      "execution_count": 20,
      "outputs": [
        {
          "output_type": "execute_result",
          "data": {
            "text/html": [
              "\n",
              "  <div id=\"df-a5703bb5-6605-4d00-a2d9-19c46b5a4593\">\n",
              "    <div class=\"colab-df-container\">\n",
              "      <div>\n",
              "<style scoped>\n",
              "    .dataframe tbody tr th:only-of-type {\n",
              "        vertical-align: middle;\n",
              "    }\n",
              "\n",
              "    .dataframe tbody tr th {\n",
              "        vertical-align: top;\n",
              "    }\n",
              "\n",
              "    .dataframe thead th {\n",
              "        text-align: right;\n",
              "    }\n",
              "</style>\n",
              "<table border=\"1\" class=\"dataframe\">\n",
              "  <thead>\n",
              "    <tr style=\"text-align: right;\">\n",
              "      <th></th>\n",
              "      <th>R-ref</th>\n",
              "      <th>G-ref</th>\n",
              "      <th>B-ref</th>\n",
              "      <th>R-Shad</th>\n",
              "      <th>G-Shad</th>\n",
              "      <th>B-Shad</th>\n",
              "      <th>H-ref</th>\n",
              "      <th>S-ref</th>\n",
              "      <th>V-ref</th>\n",
              "      <th>H-Shad</th>\n",
              "      <th>S-Shad</th>\n",
              "      <th>V-Shad</th>\n",
              "      <th>Setting</th>\n",
              "      <th>Ref</th>\n",
              "      <th>Shad</th>\n",
              "      <th>Img</th>\n",
              "    </tr>\n",
              "  </thead>\n",
              "  <tbody>\n",
              "    <tr>\n",
              "      <th>0</th>\n",
              "      <td>242.097708</td>\n",
              "      <td>230.045066</td>\n",
              "      <td>197.752525</td>\n",
              "      <td>237.360393</td>\n",
              "      <td>224.253915</td>\n",
              "      <td>190.496432</td>\n",
              "      <td>21.867618</td>\n",
              "      <td>46.779526</td>\n",
              "      <td>242.097708</td>\n",
              "      <td>21.487073</td>\n",
              "      <td>50.394959</td>\n",
              "      <td>237.360393</td>\n",
              "      <td>Set3</td>\n",
              "      <td>A1</td>\n",
              "      <td>A1</td>\n",
              "      <td>6CF2D4E8-1C13-4476-96FB-D618BCB119B7.png</td>\n",
              "    </tr>\n",
              "    <tr>\n",
              "      <th>1</th>\n",
              "      <td>241.384713</td>\n",
              "      <td>229.412879</td>\n",
              "      <td>196.570027</td>\n",
              "      <td>236.735798</td>\n",
              "      <td>223.657956</td>\n",
              "      <td>190.002873</td>\n",
              "      <td>22.034674</td>\n",
              "      <td>47.431527</td>\n",
              "      <td>241.384713</td>\n",
              "      <td>21.471967</td>\n",
              "      <td>50.415439</td>\n",
              "      <td>236.735798</td>\n",
              "      <td>Set3</td>\n",
              "      <td>A1</td>\n",
              "      <td>A1</td>\n",
              "      <td>787BE769-CA68-44C2-8899-D23018025CD8.png</td>\n",
              "    </tr>\n",
              "    <tr>\n",
              "      <th>2</th>\n",
              "      <td>241.642094</td>\n",
              "      <td>229.601301</td>\n",
              "      <td>197.312646</td>\n",
              "      <td>236.987304</td>\n",
              "      <td>224.070336</td>\n",
              "      <td>190.256417</td>\n",
              "      <td>21.848776</td>\n",
              "      <td>46.843046</td>\n",
              "      <td>241.642094</td>\n",
              "      <td>21.583449</td>\n",
              "      <td>50.356408</td>\n",
              "      <td>236.987304</td>\n",
              "      <td>Set3</td>\n",
              "      <td>A1</td>\n",
              "      <td>A1</td>\n",
              "      <td>E6125B9A-16C0-48C4-8EDD-9B488919BCCF.png</td>\n",
              "    </tr>\n",
              "    <tr>\n",
              "      <th>3</th>\n",
              "      <td>241.836053</td>\n",
              "      <td>229.881216</td>\n",
              "      <td>196.987665</td>\n",
              "      <td>236.912890</td>\n",
              "      <td>224.278936</td>\n",
              "      <td>189.873784</td>\n",
              "      <td>22.060703</td>\n",
              "      <td>47.367618</td>\n",
              "      <td>241.836053</td>\n",
              "      <td>21.928737</td>\n",
              "      <td>50.654249</td>\n",
              "      <td>236.912890</td>\n",
              "      <td>Set3</td>\n",
              "      <td>A1</td>\n",
              "      <td>A1</td>\n",
              "      <td>116812E7-7A6A-414F-876F-107C8BEF7D33.png</td>\n",
              "    </tr>\n",
              "    <tr>\n",
              "      <th>4</th>\n",
              "      <td>241.718434</td>\n",
              "      <td>229.483100</td>\n",
              "      <td>197.120144</td>\n",
              "      <td>236.738393</td>\n",
              "      <td>223.628209</td>\n",
              "      <td>190.118895</td>\n",
              "      <td>21.825369</td>\n",
              "      <td>47.105089</td>\n",
              "      <td>241.718434</td>\n",
              "      <td>21.482254</td>\n",
              "      <td>50.271986</td>\n",
              "      <td>236.738393</td>\n",
              "      <td>Set3</td>\n",
              "      <td>A1</td>\n",
              "      <td>A1</td>\n",
              "      <td>EF1A70C0-9B72-43EF-9272-24C3A1D0BFA8.png</td>\n",
              "    </tr>\n",
              "  </tbody>\n",
              "</table>\n",
              "</div>\n",
              "      <button class=\"colab-df-convert\" onclick=\"convertToInteractive('df-a5703bb5-6605-4d00-a2d9-19c46b5a4593')\"\n",
              "              title=\"Convert this dataframe to an interactive table.\"\n",
              "              style=\"display:none;\">\n",
              "        \n",
              "  <svg xmlns=\"http://www.w3.org/2000/svg\" height=\"24px\"viewBox=\"0 0 24 24\"\n",
              "       width=\"24px\">\n",
              "    <path d=\"M0 0h24v24H0V0z\" fill=\"none\"/>\n",
              "    <path d=\"M18.56 5.44l.94 2.06.94-2.06 2.06-.94-2.06-.94-.94-2.06-.94 2.06-2.06.94zm-11 1L8.5 8.5l.94-2.06 2.06-.94-2.06-.94L8.5 2.5l-.94 2.06-2.06.94zm10 10l.94 2.06.94-2.06 2.06-.94-2.06-.94-.94-2.06-.94 2.06-2.06.94z\"/><path d=\"M17.41 7.96l-1.37-1.37c-.4-.4-.92-.59-1.43-.59-.52 0-1.04.2-1.43.59L10.3 9.45l-7.72 7.72c-.78.78-.78 2.05 0 2.83L4 21.41c.39.39.9.59 1.41.59.51 0 1.02-.2 1.41-.59l7.78-7.78 2.81-2.81c.8-.78.8-2.07 0-2.86zM5.41 20L4 18.59l7.72-7.72 1.47 1.35L5.41 20z\"/>\n",
              "  </svg>\n",
              "      </button>\n",
              "      \n",
              "  <style>\n",
              "    .colab-df-container {\n",
              "      display:flex;\n",
              "      flex-wrap:wrap;\n",
              "      gap: 12px;\n",
              "    }\n",
              "\n",
              "    .colab-df-convert {\n",
              "      background-color: #E8F0FE;\n",
              "      border: none;\n",
              "      border-radius: 50%;\n",
              "      cursor: pointer;\n",
              "      display: none;\n",
              "      fill: #1967D2;\n",
              "      height: 32px;\n",
              "      padding: 0 0 0 0;\n",
              "      width: 32px;\n",
              "    }\n",
              "\n",
              "    .colab-df-convert:hover {\n",
              "      background-color: #E2EBFA;\n",
              "      box-shadow: 0px 1px 2px rgba(60, 64, 67, 0.3), 0px 1px 3px 1px rgba(60, 64, 67, 0.15);\n",
              "      fill: #174EA6;\n",
              "    }\n",
              "\n",
              "    [theme=dark] .colab-df-convert {\n",
              "      background-color: #3B4455;\n",
              "      fill: #D2E3FC;\n",
              "    }\n",
              "\n",
              "    [theme=dark] .colab-df-convert:hover {\n",
              "      background-color: #434B5C;\n",
              "      box-shadow: 0px 1px 3px 1px rgba(0, 0, 0, 0.15);\n",
              "      filter: drop-shadow(0px 1px 2px rgba(0, 0, 0, 0.3));\n",
              "      fill: #FFFFFF;\n",
              "    }\n",
              "  </style>\n",
              "\n",
              "      <script>\n",
              "        const buttonEl =\n",
              "          document.querySelector('#df-a5703bb5-6605-4d00-a2d9-19c46b5a4593 button.colab-df-convert');\n",
              "        buttonEl.style.display =\n",
              "          google.colab.kernel.accessAllowed ? 'block' : 'none';\n",
              "\n",
              "        async function convertToInteractive(key) {\n",
              "          const element = document.querySelector('#df-a5703bb5-6605-4d00-a2d9-19c46b5a4593');\n",
              "          const dataTable =\n",
              "            await google.colab.kernel.invokeFunction('convertToInteractive',\n",
              "                                                     [key], {});\n",
              "          if (!dataTable) return;\n",
              "\n",
              "          const docLinkHtml = 'Like what you see? Visit the ' +\n",
              "            '<a target=\"_blank\" href=https://colab.research.google.com/notebooks/data_table.ipynb>data table notebook</a>'\n",
              "            + ' to learn more about interactive tables.';\n",
              "          element.innerHTML = '';\n",
              "          dataTable['output_type'] = 'display_data';\n",
              "          await google.colab.output.renderOutput(dataTable, element);\n",
              "          const docLink = document.createElement('div');\n",
              "          docLink.innerHTML = docLinkHtml;\n",
              "          element.appendChild(docLink);\n",
              "        }\n",
              "      </script>\n",
              "    </div>\n",
              "  </div>\n",
              "  "
            ],
            "text/plain": [
              "        R-ref       G-ref  ...  Shad                                       Img\n",
              "0  242.097708  230.045066  ...    A1  6CF2D4E8-1C13-4476-96FB-D618BCB119B7.png\n",
              "1  241.384713  229.412879  ...    A1  787BE769-CA68-44C2-8899-D23018025CD8.png\n",
              "2  241.642094  229.601301  ...    A1  E6125B9A-16C0-48C4-8EDD-9B488919BCCF.png\n",
              "3  241.836053  229.881216  ...    A1  116812E7-7A6A-414F-876F-107C8BEF7D33.png\n",
              "4  241.718434  229.483100  ...    A1  EF1A70C0-9B72-43EF-9272-24C3A1D0BFA8.png\n",
              "\n",
              "[5 rows x 16 columns]"
            ]
          },
          "metadata": {},
          "execution_count": 20
        }
      ]
    },
    {
      "cell_type": "code",
      "source": [
        "table_A1Set4 = pd.read_excel(Set4, sheet_name='A1Set4 ')\n",
        "table_A1Set4.head()"
      ],
      "metadata": {
        "colab": {
          "base_uri": "https://localhost:8080/",
          "height": 337
        },
        "id": "s-S1lyySO0aw",
        "outputId": "7dd98c16-3631-4420-9d6e-3b041d6f9ff6"
      },
      "execution_count": 21,
      "outputs": [
        {
          "output_type": "execute_result",
          "data": {
            "text/html": [
              "\n",
              "  <div id=\"df-d0320a98-658a-4589-86c9-57a1d3631876\">\n",
              "    <div class=\"colab-df-container\">\n",
              "      <div>\n",
              "<style scoped>\n",
              "    .dataframe tbody tr th:only-of-type {\n",
              "        vertical-align: middle;\n",
              "    }\n",
              "\n",
              "    .dataframe tbody tr th {\n",
              "        vertical-align: top;\n",
              "    }\n",
              "\n",
              "    .dataframe thead th {\n",
              "        text-align: right;\n",
              "    }\n",
              "</style>\n",
              "<table border=\"1\" class=\"dataframe\">\n",
              "  <thead>\n",
              "    <tr style=\"text-align: right;\">\n",
              "      <th></th>\n",
              "      <th>R-ref</th>\n",
              "      <th>G-ref</th>\n",
              "      <th>B-ref</th>\n",
              "      <th>R-Shad</th>\n",
              "      <th>G-Shad</th>\n",
              "      <th>B-Shad</th>\n",
              "      <th>H-ref</th>\n",
              "      <th>S-ref</th>\n",
              "      <th>V-ref</th>\n",
              "      <th>H-Shad</th>\n",
              "      <th>S-Shad</th>\n",
              "      <th>V-Shad</th>\n",
              "      <th>Setting</th>\n",
              "      <th>Ref</th>\n",
              "      <th>Shad</th>\n",
              "      <th>Img</th>\n",
              "    </tr>\n",
              "  </thead>\n",
              "  <tbody>\n",
              "    <tr>\n",
              "      <th>0</th>\n",
              "      <td>231.203768</td>\n",
              "      <td>214.152486</td>\n",
              "      <td>170.072455</td>\n",
              "      <td>228.758132</td>\n",
              "      <td>211.784079</td>\n",
              "      <td>168.495320</td>\n",
              "      <td>22.000000</td>\n",
              "      <td>67.438034</td>\n",
              "      <td>231.203768</td>\n",
              "      <td>22.000000</td>\n",
              "      <td>67.199889</td>\n",
              "      <td>228.758132</td>\n",
              "      <td>Set4</td>\n",
              "      <td>A1</td>\n",
              "      <td>A1</td>\n",
              "      <td>C3752024-70F6-407B-B596-E214E55D43EB.png</td>\n",
              "    </tr>\n",
              "    <tr>\n",
              "      <th>1</th>\n",
              "      <td>226.316628</td>\n",
              "      <td>208.979118</td>\n",
              "      <td>164.679681</td>\n",
              "      <td>224.092021</td>\n",
              "      <td>206.864053</td>\n",
              "      <td>164.404504</td>\n",
              "      <td>21.849068</td>\n",
              "      <td>69.458819</td>\n",
              "      <td>226.316628</td>\n",
              "      <td>21.675841</td>\n",
              "      <td>67.943008</td>\n",
              "      <td>224.092021</td>\n",
              "      <td>Set4</td>\n",
              "      <td>A1</td>\n",
              "      <td>A1</td>\n",
              "      <td>3251DE85-8D7F-4AED-B90C-7B20C3559811.png</td>\n",
              "    </tr>\n",
              "    <tr>\n",
              "      <th>2</th>\n",
              "      <td>231.688520</td>\n",
              "      <td>213.571581</td>\n",
              "      <td>169.254565</td>\n",
              "      <td>229.496896</td>\n",
              "      <td>212.441294</td>\n",
              "      <td>168.527940</td>\n",
              "      <td>21.598485</td>\n",
              "      <td>68.691919</td>\n",
              "      <td>231.688520</td>\n",
              "      <td>21.972199</td>\n",
              "      <td>67.759614</td>\n",
              "      <td>229.496896</td>\n",
              "      <td>Set4</td>\n",
              "      <td>A1</td>\n",
              "      <td>A1</td>\n",
              "      <td>CA4551E2-6E87-4618-9646-2F81E76E705B.png</td>\n",
              "    </tr>\n",
              "    <tr>\n",
              "      <th>3</th>\n",
              "      <td>232.097902</td>\n",
              "      <td>213.545843</td>\n",
              "      <td>169.568959</td>\n",
              "      <td>229.993698</td>\n",
              "      <td>211.219535</td>\n",
              "      <td>168.097025</td>\n",
              "      <td>21.372378</td>\n",
              "      <td>68.709207</td>\n",
              "      <td>232.097902</td>\n",
              "      <td>21.121583</td>\n",
              "      <td>68.644055</td>\n",
              "      <td>229.993698</td>\n",
              "      <td>Set4</td>\n",
              "      <td>A1</td>\n",
              "      <td>A1</td>\n",
              "      <td>56C5CD77-8D8E-4098-84F3-E1EAE1DB9B01.png</td>\n",
              "    </tr>\n",
              "    <tr>\n",
              "      <th>4</th>\n",
              "      <td>231.566045</td>\n",
              "      <td>212.888889</td>\n",
              "      <td>169.670940</td>\n",
              "      <td>229.052914</td>\n",
              "      <td>211.865351</td>\n",
              "      <td>168.813085</td>\n",
              "      <td>21.175796</td>\n",
              "      <td>68.169483</td>\n",
              "      <td>231.566045</td>\n",
              "      <td>21.906218</td>\n",
              "      <td>67.109814</td>\n",
              "      <td>229.052914</td>\n",
              "      <td>Set4</td>\n",
              "      <td>A1</td>\n",
              "      <td>A1</td>\n",
              "      <td>FBB7194F-AE4D-4A46-81F5-FCEB5994D3C5.png</td>\n",
              "    </tr>\n",
              "  </tbody>\n",
              "</table>\n",
              "</div>\n",
              "      <button class=\"colab-df-convert\" onclick=\"convertToInteractive('df-d0320a98-658a-4589-86c9-57a1d3631876')\"\n",
              "              title=\"Convert this dataframe to an interactive table.\"\n",
              "              style=\"display:none;\">\n",
              "        \n",
              "  <svg xmlns=\"http://www.w3.org/2000/svg\" height=\"24px\"viewBox=\"0 0 24 24\"\n",
              "       width=\"24px\">\n",
              "    <path d=\"M0 0h24v24H0V0z\" fill=\"none\"/>\n",
              "    <path d=\"M18.56 5.44l.94 2.06.94-2.06 2.06-.94-2.06-.94-.94-2.06-.94 2.06-2.06.94zm-11 1L8.5 8.5l.94-2.06 2.06-.94-2.06-.94L8.5 2.5l-.94 2.06-2.06.94zm10 10l.94 2.06.94-2.06 2.06-.94-2.06-.94-.94-2.06-.94 2.06-2.06.94z\"/><path d=\"M17.41 7.96l-1.37-1.37c-.4-.4-.92-.59-1.43-.59-.52 0-1.04.2-1.43.59L10.3 9.45l-7.72 7.72c-.78.78-.78 2.05 0 2.83L4 21.41c.39.39.9.59 1.41.59.51 0 1.02-.2 1.41-.59l7.78-7.78 2.81-2.81c.8-.78.8-2.07 0-2.86zM5.41 20L4 18.59l7.72-7.72 1.47 1.35L5.41 20z\"/>\n",
              "  </svg>\n",
              "      </button>\n",
              "      \n",
              "  <style>\n",
              "    .colab-df-container {\n",
              "      display:flex;\n",
              "      flex-wrap:wrap;\n",
              "      gap: 12px;\n",
              "    }\n",
              "\n",
              "    .colab-df-convert {\n",
              "      background-color: #E8F0FE;\n",
              "      border: none;\n",
              "      border-radius: 50%;\n",
              "      cursor: pointer;\n",
              "      display: none;\n",
              "      fill: #1967D2;\n",
              "      height: 32px;\n",
              "      padding: 0 0 0 0;\n",
              "      width: 32px;\n",
              "    }\n",
              "\n",
              "    .colab-df-convert:hover {\n",
              "      background-color: #E2EBFA;\n",
              "      box-shadow: 0px 1px 2px rgba(60, 64, 67, 0.3), 0px 1px 3px 1px rgba(60, 64, 67, 0.15);\n",
              "      fill: #174EA6;\n",
              "    }\n",
              "\n",
              "    [theme=dark] .colab-df-convert {\n",
              "      background-color: #3B4455;\n",
              "      fill: #D2E3FC;\n",
              "    }\n",
              "\n",
              "    [theme=dark] .colab-df-convert:hover {\n",
              "      background-color: #434B5C;\n",
              "      box-shadow: 0px 1px 3px 1px rgba(0, 0, 0, 0.15);\n",
              "      filter: drop-shadow(0px 1px 2px rgba(0, 0, 0, 0.3));\n",
              "      fill: #FFFFFF;\n",
              "    }\n",
              "  </style>\n",
              "\n",
              "      <script>\n",
              "        const buttonEl =\n",
              "          document.querySelector('#df-d0320a98-658a-4589-86c9-57a1d3631876 button.colab-df-convert');\n",
              "        buttonEl.style.display =\n",
              "          google.colab.kernel.accessAllowed ? 'block' : 'none';\n",
              "\n",
              "        async function convertToInteractive(key) {\n",
              "          const element = document.querySelector('#df-d0320a98-658a-4589-86c9-57a1d3631876');\n",
              "          const dataTable =\n",
              "            await google.colab.kernel.invokeFunction('convertToInteractive',\n",
              "                                                     [key], {});\n",
              "          if (!dataTable) return;\n",
              "\n",
              "          const docLinkHtml = 'Like what you see? Visit the ' +\n",
              "            '<a target=\"_blank\" href=https://colab.research.google.com/notebooks/data_table.ipynb>data table notebook</a>'\n",
              "            + ' to learn more about interactive tables.';\n",
              "          element.innerHTML = '';\n",
              "          dataTable['output_type'] = 'display_data';\n",
              "          await google.colab.output.renderOutput(dataTable, element);\n",
              "          const docLink = document.createElement('div');\n",
              "          docLink.innerHTML = docLinkHtml;\n",
              "          element.appendChild(docLink);\n",
              "        }\n",
              "      </script>\n",
              "    </div>\n",
              "  </div>\n",
              "  "
            ],
            "text/plain": [
              "        R-ref       G-ref  ...  Shad                                       Img\n",
              "0  231.203768  214.152486  ...    A1  C3752024-70F6-407B-B596-E214E55D43EB.png\n",
              "1  226.316628  208.979118  ...    A1  3251DE85-8D7F-4AED-B90C-7B20C3559811.png\n",
              "2  231.688520  213.571581  ...    A1  CA4551E2-6E87-4618-9646-2F81E76E705B.png\n",
              "3  232.097902  213.545843  ...    A1  56C5CD77-8D8E-4098-84F3-E1EAE1DB9B01.png\n",
              "4  231.566045  212.888889  ...    A1  FBB7194F-AE4D-4A46-81F5-FCEB5994D3C5.png\n",
              "\n",
              "[5 rows x 16 columns]"
            ]
          },
          "metadata": {},
          "execution_count": 21
        }
      ]
    },
    {
      "cell_type": "markdown",
      "source": [
        "###RGB"
      ],
      "metadata": {
        "id": "LxojQbqFpTUM"
      }
    },
    {
      "cell_type": "code",
      "source": [
        "RGB_D3_CC1 = table_D3CC1.drop(['H-ref','S-ref','V-ref','H-Shad','S-Shad','V-Shad','Setting','Ref','Shad','Img'], axis=1)"
      ],
      "metadata": {
        "id": "h0FecxGxmtCy"
      },
      "execution_count": 22,
      "outputs": []
    },
    {
      "cell_type": "code",
      "source": [
        "RGB_A1_Set1 = table_A1Set1"
      ],
      "metadata": {
        "id": "D9h9n4jkdL1r"
      },
      "execution_count": 23,
      "outputs": []
    },
    {
      "cell_type": "code",
      "source": [
        "RGB_A1_Set2 = table_A1Set2"
      ],
      "metadata": {
        "id": "Y2qWZWDIdRRI"
      },
      "execution_count": 24,
      "outputs": []
    },
    {
      "cell_type": "code",
      "source": [
        "RGB_A1_Set3 = table_A1Set3"
      ],
      "metadata": {
        "id": "a6ElSw7hdSPA"
      },
      "execution_count": 25,
      "outputs": []
    },
    {
      "cell_type": "code",
      "source": [
        "RGB_A1_Set4 = table_A1Set4"
      ],
      "metadata": {
        "id": "9AJR33TPbSxu"
      },
      "execution_count": 26,
      "outputs": []
    },
    {
      "cell_type": "code",
      "source": [
        "RGB_A1_concat = pd.concat([RGB_A1_Set1,RGB_A1_Set2])"
      ],
      "metadata": {
        "id": "QmWFPGWBa9Yy"
      },
      "execution_count": 27,
      "outputs": []
    },
    {
      "cell_type": "code",
      "source": [
        "RGB_A1_concat0 = pd.concat([RGB_A1_concat,RGB_A1_Set4])"
      ],
      "metadata": {
        "id": "ZK-usnpxTLLA"
      },
      "execution_count": 28,
      "outputs": []
    },
    {
      "cell_type": "code",
      "source": [
        "RGB_A1_concat1 = pd.concat([RGB_A1_concat0,RGB_A1_Set3])"
      ],
      "metadata": {
        "id": "b3sI_ty5Tjy8"
      },
      "execution_count": 29,
      "outputs": []
    },
    {
      "cell_type": "code",
      "source": [
        "RGB_A1_concat2 = RGB_A1_concat1.drop(['H-ref','S-ref','V-ref','H-Shad','S-Shad','V-Shad','Setting','Ref','Shad','Img'], axis=1)"
      ],
      "metadata": {
        "id": "95ONqxerdBWi"
      },
      "execution_count": 30,
      "outputs": []
    },
    {
      "cell_type": "code",
      "source": [
        "X_test_A1_RGB = np.array(RGB_D3_CC1)"
      ],
      "metadata": {
        "id": "F-rsrKMgmzB0"
      },
      "execution_count": 31,
      "outputs": []
    },
    {
      "cell_type": "code",
      "source": [
        "y_A1_RGB =  table_D3CC1.iloc[:,14:15]"
      ],
      "metadata": {
        "id": "rKF5S9Avm12o"
      },
      "execution_count": 32,
      "outputs": []
    },
    {
      "cell_type": "code",
      "source": [
        "y_test_A1_RGB = np.array(y_A1_RGB)"
      ],
      "metadata": {
        "id": "Npm36S98m3rP"
      },
      "execution_count": 33,
      "outputs": []
    },
    {
      "cell_type": "code",
      "source": [
        "X_train_A1_RGB = np.array(RGB_A1_concat2)"
      ],
      "metadata": {
        "id": "YEMNVxBuRY91"
      },
      "execution_count": 34,
      "outputs": []
    },
    {
      "cell_type": "code",
      "source": [
        "y_train_A1RGB = RGB_A1_concat1.iloc[:,14:15]"
      ],
      "metadata": {
        "id": "26eEjR0NST9_"
      },
      "execution_count": 35,
      "outputs": []
    },
    {
      "cell_type": "code",
      "source": [
        "y_train_A1_RGB = np.array(y_train_A1RGB)"
      ],
      "metadata": {
        "id": "tfS8S3YoWhP0"
      },
      "execution_count": 36,
      "outputs": []
    },
    {
      "cell_type": "code",
      "source": [
        "X_train_A1_RGB.shape"
      ],
      "metadata": {
        "colab": {
          "base_uri": "https://localhost:8080/"
        },
        "id": "yyMDPdekbSFm",
        "outputId": "4e62db91-25ce-4522-8979-7dd4f5175626"
      },
      "execution_count": 37,
      "outputs": [
        {
          "output_type": "execute_result",
          "data": {
            "text/plain": [
              "(3200, 6)"
            ]
          },
          "metadata": {},
          "execution_count": 37
        }
      ]
    },
    {
      "cell_type": "code",
      "source": [
        "y_train_A1_RGB.shape"
      ],
      "metadata": {
        "colab": {
          "base_uri": "https://localhost:8080/"
        },
        "id": "W5AYoIAObUwV",
        "outputId": "85ebf32b-b95f-436e-8ba2-e05f7adb93fa"
      },
      "execution_count": 38,
      "outputs": [
        {
          "output_type": "execute_result",
          "data": {
            "text/plain": [
              "(3200, 1)"
            ]
          },
          "metadata": {},
          "execution_count": 38
        }
      ]
    },
    {
      "cell_type": "code",
      "source": [
        "clf.fit(X_train_A1_RGB, y_train_A1_RGB)"
      ],
      "metadata": {
        "colab": {
          "base_uri": "https://localhost:8080/"
        },
        "id": "T-I2pW10ngfz",
        "outputId": "aeafb087-d5f8-4d77-981a-e9be8705181e"
      },
      "execution_count": 39,
      "outputs": [
        {
          "output_type": "stream",
          "name": "stderr",
          "text": [
            "/usr/local/lib/python3.7/dist-packages/ipykernel_launcher.py:1: DataConversionWarning: A column-vector y was passed when a 1d array was expected. Please change the shape of y to (n_samples,), for example using ravel().\n",
            "  \"\"\"Entry point for launching an IPython kernel.\n"
          ]
        },
        {
          "output_type": "execute_result",
          "data": {
            "text/plain": [
              "RandomForestClassifier()"
            ]
          },
          "metadata": {},
          "execution_count": 39
        }
      ]
    },
    {
      "cell_type": "code",
      "source": [
        "y_pred_A1_RGB = clf.predict(X_test_A1_RGB)"
      ],
      "metadata": {
        "id": "LvFH-syKnnsz"
      },
      "execution_count": 40,
      "outputs": []
    },
    {
      "cell_type": "code",
      "source": [
        "print(\"Accuracy:\", metrics.accuracy_score(y_test_A1_RGB, y_pred_A1_RGB))"
      ],
      "metadata": {
        "colab": {
          "base_uri": "https://localhost:8080/"
        },
        "id": "J-QZQZRNnqMX",
        "outputId": "aea1da50-7fbd-432c-90ef-a3a65dde569c"
      },
      "execution_count": 41,
      "outputs": [
        {
          "output_type": "stream",
          "name": "stdout",
          "text": [
            "Accuracy: 0.0975\n"
          ]
        }
      ]
    },
    {
      "cell_type": "markdown",
      "source": [
        "###HSV"
      ],
      "metadata": {
        "id": "6wkSA8JTpWNG"
      }
    },
    {
      "cell_type": "code",
      "source": [
        "HSV_D3_CC1 = table_D3CC1.drop(['R-ref','G-ref','B-ref','R-Shad','G-Shad','B-Shad','Setting','Ref','Shad','Img'], axis=1)"
      ],
      "metadata": {
        "id": "GwLqFk3BpYGn"
      },
      "execution_count": 42,
      "outputs": []
    },
    {
      "cell_type": "code",
      "source": [
        "HSV_A1_concat2 = RGB_A1_concat1.drop(['R-ref','G-ref','B-ref','R-Shad','G-Shad','B-Shad','Setting','Ref','Shad','Img'], axis=1)"
      ],
      "metadata": {
        "id": "zXSdWKdcfBug"
      },
      "execution_count": 43,
      "outputs": []
    },
    {
      "cell_type": "code",
      "source": [
        "X_test_A1_HSV = np.array(HSV_D3_CC1)"
      ],
      "metadata": {
        "id": "DezEsJCOfBug"
      },
      "execution_count": 44,
      "outputs": []
    },
    {
      "cell_type": "code",
      "source": [
        "y_A1_HSV =  table_D3CC1.iloc[:,14:15]"
      ],
      "metadata": {
        "id": "a1R8xdYMfBuh"
      },
      "execution_count": 45,
      "outputs": []
    },
    {
      "cell_type": "code",
      "source": [
        "y_test_A1_HSV = np.array(y_A1_RGB)"
      ],
      "metadata": {
        "id": "138f1Z13fBuh"
      },
      "execution_count": 46,
      "outputs": []
    },
    {
      "cell_type": "code",
      "source": [
        "X_train_A1_HSV = np.array(HSV_A1_concat2)"
      ],
      "metadata": {
        "id": "K7ExFh6MfBuh"
      },
      "execution_count": 47,
      "outputs": []
    },
    {
      "cell_type": "code",
      "source": [
        "y_train_A1HSV = RGB_A1_concat1.iloc[:,14:15]"
      ],
      "metadata": {
        "id": "ZgMS56ESfBuh"
      },
      "execution_count": 48,
      "outputs": []
    },
    {
      "cell_type": "code",
      "source": [
        "y_train_A1_HSV = np.array(y_train_A1HSV)"
      ],
      "metadata": {
        "id": "8sl2Ia6qfBuh"
      },
      "execution_count": 49,
      "outputs": []
    },
    {
      "cell_type": "code",
      "source": [
        "clf.fit(X_train_A1_HSV, y_train_A1_HSV)"
      ],
      "metadata": {
        "id": "FUI3dQ0pfBui",
        "outputId": "62089bd9-f501-4d9c-94da-e40de2c16e88",
        "colab": {
          "base_uri": "https://localhost:8080/"
        }
      },
      "execution_count": 50,
      "outputs": [
        {
          "output_type": "stream",
          "name": "stderr",
          "text": [
            "/usr/local/lib/python3.7/dist-packages/ipykernel_launcher.py:1: DataConversionWarning: A column-vector y was passed when a 1d array was expected. Please change the shape of y to (n_samples,), for example using ravel().\n",
            "  \"\"\"Entry point for launching an IPython kernel.\n"
          ]
        },
        {
          "output_type": "execute_result",
          "data": {
            "text/plain": [
              "RandomForestClassifier()"
            ]
          },
          "metadata": {},
          "execution_count": 50
        }
      ]
    },
    {
      "cell_type": "code",
      "source": [
        "y_pred_A1_HSV = clf.predict(X_test_A1_HSV)"
      ],
      "metadata": {
        "id": "t7dNTf5WfBui"
      },
      "execution_count": 51,
      "outputs": []
    },
    {
      "cell_type": "code",
      "source": [
        "print(\"Accuracy:\", metrics.accuracy_score(y_test_A1_HSV, y_pred_A1_HSV))"
      ],
      "metadata": {
        "colab": {
          "base_uri": "https://localhost:8080/"
        },
        "outputId": "05674cd6-0b9d-4454-d173-41d2570bcf79",
        "id": "bsklFwLqfBui"
      },
      "execution_count": 52,
      "outputs": [
        {
          "output_type": "stream",
          "name": "stdout",
          "text": [
            "Accuracy: 0.07125\n"
          ]
        }
      ]
    },
    {
      "cell_type": "markdown",
      "source": [
        "##A2"
      ],
      "metadata": {
        "id": "YiCpdmgVfsgl"
      }
    },
    {
      "cell_type": "code",
      "source": [
        "table_A2Set1 = pd.read_excel(Set1 , sheet_name='A2Set1')\n",
        "table_A2Set1.head()"
      ],
      "metadata": {
        "colab": {
          "base_uri": "https://localhost:8080/",
          "height": 337
        },
        "outputId": "8747913f-7c64-4567-952a-1b13d7cf9f85",
        "id": "cQqaNLeMfsgm"
      },
      "execution_count": 53,
      "outputs": [
        {
          "output_type": "execute_result",
          "data": {
            "text/html": [
              "\n",
              "  <div id=\"df-8f8c6b6a-8eff-4021-9fee-2294e7ccbad4\">\n",
              "    <div class=\"colab-df-container\">\n",
              "      <div>\n",
              "<style scoped>\n",
              "    .dataframe tbody tr th:only-of-type {\n",
              "        vertical-align: middle;\n",
              "    }\n",
              "\n",
              "    .dataframe tbody tr th {\n",
              "        vertical-align: top;\n",
              "    }\n",
              "\n",
              "    .dataframe thead th {\n",
              "        text-align: right;\n",
              "    }\n",
              "</style>\n",
              "<table border=\"1\" class=\"dataframe\">\n",
              "  <thead>\n",
              "    <tr style=\"text-align: right;\">\n",
              "      <th></th>\n",
              "      <th>R-ref</th>\n",
              "      <th>G-ref</th>\n",
              "      <th>B-ref</th>\n",
              "      <th>R-Shad</th>\n",
              "      <th>G-Shad</th>\n",
              "      <th>B-Shad</th>\n",
              "      <th>H-ref</th>\n",
              "      <th>S-ref</th>\n",
              "      <th>V-ref</th>\n",
              "      <th>H-Shad</th>\n",
              "      <th>S-Shad</th>\n",
              "      <th>V-Shad</th>\n",
              "      <th>Setting</th>\n",
              "      <th>Ref</th>\n",
              "      <th>Shad</th>\n",
              "      <th>Img</th>\n",
              "    </tr>\n",
              "  </thead>\n",
              "  <tbody>\n",
              "    <tr>\n",
              "      <th>0</th>\n",
              "      <td>240.776127</td>\n",
              "      <td>228.569056</td>\n",
              "      <td>196.092172</td>\n",
              "      <td>235.796034</td>\n",
              "      <td>222.578816</td>\n",
              "      <td>188.819387</td>\n",
              "      <td>21.822941</td>\n",
              "      <td>47.398116</td>\n",
              "      <td>240.776127</td>\n",
              "      <td>21.450931</td>\n",
              "      <td>50.859976</td>\n",
              "      <td>235.796034</td>\n",
              "      <td>Set1</td>\n",
              "      <td>A2</td>\n",
              "      <td>A1</td>\n",
              "      <td>77308B8C-A458-48C0-A0EF-DD05DD0AEA75.png</td>\n",
              "    </tr>\n",
              "    <tr>\n",
              "      <th>1</th>\n",
              "      <td>240.009518</td>\n",
              "      <td>227.942113</td>\n",
              "      <td>194.954643</td>\n",
              "      <td>235.117969</td>\n",
              "      <td>222.016403</td>\n",
              "      <td>188.172644</td>\n",
              "      <td>22.010004</td>\n",
              "      <td>47.944639</td>\n",
              "      <td>240.009518</td>\n",
              "      <td>21.528589</td>\n",
              "      <td>50.992216</td>\n",
              "      <td>235.117969</td>\n",
              "      <td>Set1</td>\n",
              "      <td>A2</td>\n",
              "      <td>A1</td>\n",
              "      <td>DD37E60E-8484-48E3-8FB4-7E94B71553F4.png</td>\n",
              "    </tr>\n",
              "    <tr>\n",
              "      <th>2</th>\n",
              "      <td>240.346445</td>\n",
              "      <td>228.310120</td>\n",
              "      <td>195.661131</td>\n",
              "      <td>235.338338</td>\n",
              "      <td>222.423594</td>\n",
              "      <td>188.336669</td>\n",
              "      <td>21.910645</td>\n",
              "      <td>47.472125</td>\n",
              "      <td>240.346445</td>\n",
              "      <td>21.669539</td>\n",
              "      <td>51.015105</td>\n",
              "      <td>235.338338</td>\n",
              "      <td>Set1</td>\n",
              "      <td>A2</td>\n",
              "      <td>A1</td>\n",
              "      <td>0ED6DB80-7C02-41B3-88E9-CB382B96B37C.png</td>\n",
              "    </tr>\n",
              "    <tr>\n",
              "      <th>3</th>\n",
              "      <td>240.529040</td>\n",
              "      <td>228.597708</td>\n",
              "      <td>195.432692</td>\n",
              "      <td>235.186544</td>\n",
              "      <td>222.619683</td>\n",
              "      <td>188.066908</td>\n",
              "      <td>22.094600</td>\n",
              "      <td>47.893454</td>\n",
              "      <td>240.529040</td>\n",
              "      <td>21.995367</td>\n",
              "      <td>51.136503</td>\n",
              "      <td>235.186544</td>\n",
              "      <td>Set1</td>\n",
              "      <td>A2</td>\n",
              "      <td>A1</td>\n",
              "      <td>8B551D28-1E87-49BD-9E20-8B3F5F08FE8E.png</td>\n",
              "    </tr>\n",
              "    <tr>\n",
              "      <th>4</th>\n",
              "      <td>240.453768</td>\n",
              "      <td>228.207459</td>\n",
              "      <td>195.588287</td>\n",
              "      <td>234.982485</td>\n",
              "      <td>221.887499</td>\n",
              "      <td>188.143268</td>\n",
              "      <td>21.861985</td>\n",
              "      <td>47.644522</td>\n",
              "      <td>240.453768</td>\n",
              "      <td>21.579279</td>\n",
              "      <td>50.881290</td>\n",
              "      <td>234.982485</td>\n",
              "      <td>Set1</td>\n",
              "      <td>A2</td>\n",
              "      <td>A1</td>\n",
              "      <td>C12D1E9C-5BFA-4DD7-9D3F-194378F9673D.png</td>\n",
              "    </tr>\n",
              "  </tbody>\n",
              "</table>\n",
              "</div>\n",
              "      <button class=\"colab-df-convert\" onclick=\"convertToInteractive('df-8f8c6b6a-8eff-4021-9fee-2294e7ccbad4')\"\n",
              "              title=\"Convert this dataframe to an interactive table.\"\n",
              "              style=\"display:none;\">\n",
              "        \n",
              "  <svg xmlns=\"http://www.w3.org/2000/svg\" height=\"24px\"viewBox=\"0 0 24 24\"\n",
              "       width=\"24px\">\n",
              "    <path d=\"M0 0h24v24H0V0z\" fill=\"none\"/>\n",
              "    <path d=\"M18.56 5.44l.94 2.06.94-2.06 2.06-.94-2.06-.94-.94-2.06-.94 2.06-2.06.94zm-11 1L8.5 8.5l.94-2.06 2.06-.94-2.06-.94L8.5 2.5l-.94 2.06-2.06.94zm10 10l.94 2.06.94-2.06 2.06-.94-2.06-.94-.94-2.06-.94 2.06-2.06.94z\"/><path d=\"M17.41 7.96l-1.37-1.37c-.4-.4-.92-.59-1.43-.59-.52 0-1.04.2-1.43.59L10.3 9.45l-7.72 7.72c-.78.78-.78 2.05 0 2.83L4 21.41c.39.39.9.59 1.41.59.51 0 1.02-.2 1.41-.59l7.78-7.78 2.81-2.81c.8-.78.8-2.07 0-2.86zM5.41 20L4 18.59l7.72-7.72 1.47 1.35L5.41 20z\"/>\n",
              "  </svg>\n",
              "      </button>\n",
              "      \n",
              "  <style>\n",
              "    .colab-df-container {\n",
              "      display:flex;\n",
              "      flex-wrap:wrap;\n",
              "      gap: 12px;\n",
              "    }\n",
              "\n",
              "    .colab-df-convert {\n",
              "      background-color: #E8F0FE;\n",
              "      border: none;\n",
              "      border-radius: 50%;\n",
              "      cursor: pointer;\n",
              "      display: none;\n",
              "      fill: #1967D2;\n",
              "      height: 32px;\n",
              "      padding: 0 0 0 0;\n",
              "      width: 32px;\n",
              "    }\n",
              "\n",
              "    .colab-df-convert:hover {\n",
              "      background-color: #E2EBFA;\n",
              "      box-shadow: 0px 1px 2px rgba(60, 64, 67, 0.3), 0px 1px 3px 1px rgba(60, 64, 67, 0.15);\n",
              "      fill: #174EA6;\n",
              "    }\n",
              "\n",
              "    [theme=dark] .colab-df-convert {\n",
              "      background-color: #3B4455;\n",
              "      fill: #D2E3FC;\n",
              "    }\n",
              "\n",
              "    [theme=dark] .colab-df-convert:hover {\n",
              "      background-color: #434B5C;\n",
              "      box-shadow: 0px 1px 3px 1px rgba(0, 0, 0, 0.15);\n",
              "      filter: drop-shadow(0px 1px 2px rgba(0, 0, 0, 0.3));\n",
              "      fill: #FFFFFF;\n",
              "    }\n",
              "  </style>\n",
              "\n",
              "      <script>\n",
              "        const buttonEl =\n",
              "          document.querySelector('#df-8f8c6b6a-8eff-4021-9fee-2294e7ccbad4 button.colab-df-convert');\n",
              "        buttonEl.style.display =\n",
              "          google.colab.kernel.accessAllowed ? 'block' : 'none';\n",
              "\n",
              "        async function convertToInteractive(key) {\n",
              "          const element = document.querySelector('#df-8f8c6b6a-8eff-4021-9fee-2294e7ccbad4');\n",
              "          const dataTable =\n",
              "            await google.colab.kernel.invokeFunction('convertToInteractive',\n",
              "                                                     [key], {});\n",
              "          if (!dataTable) return;\n",
              "\n",
              "          const docLinkHtml = 'Like what you see? Visit the ' +\n",
              "            '<a target=\"_blank\" href=https://colab.research.google.com/notebooks/data_table.ipynb>data table notebook</a>'\n",
              "            + ' to learn more about interactive tables.';\n",
              "          element.innerHTML = '';\n",
              "          dataTable['output_type'] = 'display_data';\n",
              "          await google.colab.output.renderOutput(dataTable, element);\n",
              "          const docLink = document.createElement('div');\n",
              "          docLink.innerHTML = docLinkHtml;\n",
              "          element.appendChild(docLink);\n",
              "        }\n",
              "      </script>\n",
              "    </div>\n",
              "  </div>\n",
              "  "
            ],
            "text/plain": [
              "        R-ref       G-ref  ...  Shad                                       Img\n",
              "0  240.776127  228.569056  ...    A1  77308B8C-A458-48C0-A0EF-DD05DD0AEA75.png\n",
              "1  240.009518  227.942113  ...    A1  DD37E60E-8484-48E3-8FB4-7E94B71553F4.png\n",
              "2  240.346445  228.310120  ...    A1  0ED6DB80-7C02-41B3-88E9-CB382B96B37C.png\n",
              "3  240.529040  228.597708  ...    A1  8B551D28-1E87-49BD-9E20-8B3F5F08FE8E.png\n",
              "4  240.453768  228.207459  ...    A1  C12D1E9C-5BFA-4DD7-9D3F-194378F9673D.png\n",
              "\n",
              "[5 rows x 16 columns]"
            ]
          },
          "metadata": {},
          "execution_count": 53
        }
      ]
    },
    {
      "cell_type": "code",
      "source": [
        "table_A2Set2 = pd.read_excel(Set2, sheet_name='A2Set2')\n",
        "table_A2Set2.head()"
      ],
      "metadata": {
        "colab": {
          "base_uri": "https://localhost:8080/",
          "height": 337
        },
        "outputId": "29af7e10-ac4f-497d-d8f6-1a0bfc333213",
        "id": "TY1IFciafsgm"
      },
      "execution_count": 54,
      "outputs": [
        {
          "output_type": "execute_result",
          "data": {
            "text/html": [
              "\n",
              "  <div id=\"df-ddd9532b-60fc-44bd-92f3-d0197eaeea59\">\n",
              "    <div class=\"colab-df-container\">\n",
              "      <div>\n",
              "<style scoped>\n",
              "    .dataframe tbody tr th:only-of-type {\n",
              "        vertical-align: middle;\n",
              "    }\n",
              "\n",
              "    .dataframe tbody tr th {\n",
              "        vertical-align: top;\n",
              "    }\n",
              "\n",
              "    .dataframe thead th {\n",
              "        text-align: right;\n",
              "    }\n",
              "</style>\n",
              "<table border=\"1\" class=\"dataframe\">\n",
              "  <thead>\n",
              "    <tr style=\"text-align: right;\">\n",
              "      <th></th>\n",
              "      <th>R-ref</th>\n",
              "      <th>G-ref</th>\n",
              "      <th>B-ref</th>\n",
              "      <th>R-Shad</th>\n",
              "      <th>G-Shad</th>\n",
              "      <th>B-Shad</th>\n",
              "      <th>H-ref</th>\n",
              "      <th>S-ref</th>\n",
              "      <th>V-ref</th>\n",
              "      <th>H-Shad</th>\n",
              "      <th>S-Shad</th>\n",
              "      <th>V-Shad</th>\n",
              "      <th>Setting</th>\n",
              "      <th>Ref</th>\n",
              "      <th>Shad</th>\n",
              "      <th>Img</th>\n",
              "    </tr>\n",
              "  </thead>\n",
              "  <tbody>\n",
              "    <tr>\n",
              "      <th>0</th>\n",
              "      <td>242.097708</td>\n",
              "      <td>230.045066</td>\n",
              "      <td>197.752525</td>\n",
              "      <td>237.360393</td>\n",
              "      <td>224.253915</td>\n",
              "      <td>190.496432</td>\n",
              "      <td>21.867618</td>\n",
              "      <td>46.779526</td>\n",
              "      <td>242.097708</td>\n",
              "      <td>21.487073</td>\n",
              "      <td>50.394959</td>\n",
              "      <td>237.360393</td>\n",
              "      <td>Set2</td>\n",
              "      <td>A2</td>\n",
              "      <td>A1</td>\n",
              "      <td>498C8AAA-DF5D-452F-A34B-1BE1778A67FB.png</td>\n",
              "    </tr>\n",
              "    <tr>\n",
              "      <th>1</th>\n",
              "      <td>241.384713</td>\n",
              "      <td>229.412879</td>\n",
              "      <td>196.570027</td>\n",
              "      <td>236.735798</td>\n",
              "      <td>223.657956</td>\n",
              "      <td>190.002873</td>\n",
              "      <td>22.034674</td>\n",
              "      <td>47.431527</td>\n",
              "      <td>241.384713</td>\n",
              "      <td>21.471967</td>\n",
              "      <td>50.415439</td>\n",
              "      <td>236.735798</td>\n",
              "      <td>Set2</td>\n",
              "      <td>A2</td>\n",
              "      <td>A1</td>\n",
              "      <td>B6610BED-38BC-4978-B8A1-991530002FFD.png</td>\n",
              "    </tr>\n",
              "    <tr>\n",
              "      <th>2</th>\n",
              "      <td>241.642094</td>\n",
              "      <td>229.601301</td>\n",
              "      <td>197.312646</td>\n",
              "      <td>236.987304</td>\n",
              "      <td>224.070336</td>\n",
              "      <td>190.256417</td>\n",
              "      <td>21.848776</td>\n",
              "      <td>46.843046</td>\n",
              "      <td>241.642094</td>\n",
              "      <td>21.583449</td>\n",
              "      <td>50.356408</td>\n",
              "      <td>236.987304</td>\n",
              "      <td>Set2</td>\n",
              "      <td>A2</td>\n",
              "      <td>A1</td>\n",
              "      <td>FB80505B-1B14-48B6-9D07-03D0B6E36E03.png</td>\n",
              "    </tr>\n",
              "    <tr>\n",
              "      <th>3</th>\n",
              "      <td>241.836053</td>\n",
              "      <td>229.881216</td>\n",
              "      <td>196.987665</td>\n",
              "      <td>236.912890</td>\n",
              "      <td>224.278936</td>\n",
              "      <td>189.873784</td>\n",
              "      <td>22.060703</td>\n",
              "      <td>47.367618</td>\n",
              "      <td>241.836053</td>\n",
              "      <td>21.928737</td>\n",
              "      <td>50.654249</td>\n",
              "      <td>236.912890</td>\n",
              "      <td>Set2</td>\n",
              "      <td>A2</td>\n",
              "      <td>A1</td>\n",
              "      <td>7B8A2CF0-D4CF-40A3-B74E-B1AA9E33011E.png</td>\n",
              "    </tr>\n",
              "    <tr>\n",
              "      <th>4</th>\n",
              "      <td>241.718434</td>\n",
              "      <td>229.483100</td>\n",
              "      <td>197.120144</td>\n",
              "      <td>236.738393</td>\n",
              "      <td>223.628209</td>\n",
              "      <td>190.118895</td>\n",
              "      <td>21.825369</td>\n",
              "      <td>47.105089</td>\n",
              "      <td>241.718434</td>\n",
              "      <td>21.482254</td>\n",
              "      <td>50.271986</td>\n",
              "      <td>236.738393</td>\n",
              "      <td>Set2</td>\n",
              "      <td>A2</td>\n",
              "      <td>A1</td>\n",
              "      <td>E2D4FFA2-090A-4B46-B8C8-57E88EBAD5D2.png</td>\n",
              "    </tr>\n",
              "  </tbody>\n",
              "</table>\n",
              "</div>\n",
              "      <button class=\"colab-df-convert\" onclick=\"convertToInteractive('df-ddd9532b-60fc-44bd-92f3-d0197eaeea59')\"\n",
              "              title=\"Convert this dataframe to an interactive table.\"\n",
              "              style=\"display:none;\">\n",
              "        \n",
              "  <svg xmlns=\"http://www.w3.org/2000/svg\" height=\"24px\"viewBox=\"0 0 24 24\"\n",
              "       width=\"24px\">\n",
              "    <path d=\"M0 0h24v24H0V0z\" fill=\"none\"/>\n",
              "    <path d=\"M18.56 5.44l.94 2.06.94-2.06 2.06-.94-2.06-.94-.94-2.06-.94 2.06-2.06.94zm-11 1L8.5 8.5l.94-2.06 2.06-.94-2.06-.94L8.5 2.5l-.94 2.06-2.06.94zm10 10l.94 2.06.94-2.06 2.06-.94-2.06-.94-.94-2.06-.94 2.06-2.06.94z\"/><path d=\"M17.41 7.96l-1.37-1.37c-.4-.4-.92-.59-1.43-.59-.52 0-1.04.2-1.43.59L10.3 9.45l-7.72 7.72c-.78.78-.78 2.05 0 2.83L4 21.41c.39.39.9.59 1.41.59.51 0 1.02-.2 1.41-.59l7.78-7.78 2.81-2.81c.8-.78.8-2.07 0-2.86zM5.41 20L4 18.59l7.72-7.72 1.47 1.35L5.41 20z\"/>\n",
              "  </svg>\n",
              "      </button>\n",
              "      \n",
              "  <style>\n",
              "    .colab-df-container {\n",
              "      display:flex;\n",
              "      flex-wrap:wrap;\n",
              "      gap: 12px;\n",
              "    }\n",
              "\n",
              "    .colab-df-convert {\n",
              "      background-color: #E8F0FE;\n",
              "      border: none;\n",
              "      border-radius: 50%;\n",
              "      cursor: pointer;\n",
              "      display: none;\n",
              "      fill: #1967D2;\n",
              "      height: 32px;\n",
              "      padding: 0 0 0 0;\n",
              "      width: 32px;\n",
              "    }\n",
              "\n",
              "    .colab-df-convert:hover {\n",
              "      background-color: #E2EBFA;\n",
              "      box-shadow: 0px 1px 2px rgba(60, 64, 67, 0.3), 0px 1px 3px 1px rgba(60, 64, 67, 0.15);\n",
              "      fill: #174EA6;\n",
              "    }\n",
              "\n",
              "    [theme=dark] .colab-df-convert {\n",
              "      background-color: #3B4455;\n",
              "      fill: #D2E3FC;\n",
              "    }\n",
              "\n",
              "    [theme=dark] .colab-df-convert:hover {\n",
              "      background-color: #434B5C;\n",
              "      box-shadow: 0px 1px 3px 1px rgba(0, 0, 0, 0.15);\n",
              "      filter: drop-shadow(0px 1px 2px rgba(0, 0, 0, 0.3));\n",
              "      fill: #FFFFFF;\n",
              "    }\n",
              "  </style>\n",
              "\n",
              "      <script>\n",
              "        const buttonEl =\n",
              "          document.querySelector('#df-ddd9532b-60fc-44bd-92f3-d0197eaeea59 button.colab-df-convert');\n",
              "        buttonEl.style.display =\n",
              "          google.colab.kernel.accessAllowed ? 'block' : 'none';\n",
              "\n",
              "        async function convertToInteractive(key) {\n",
              "          const element = document.querySelector('#df-ddd9532b-60fc-44bd-92f3-d0197eaeea59');\n",
              "          const dataTable =\n",
              "            await google.colab.kernel.invokeFunction('convertToInteractive',\n",
              "                                                     [key], {});\n",
              "          if (!dataTable) return;\n",
              "\n",
              "          const docLinkHtml = 'Like what you see? Visit the ' +\n",
              "            '<a target=\"_blank\" href=https://colab.research.google.com/notebooks/data_table.ipynb>data table notebook</a>'\n",
              "            + ' to learn more about interactive tables.';\n",
              "          element.innerHTML = '';\n",
              "          dataTable['output_type'] = 'display_data';\n",
              "          await google.colab.output.renderOutput(dataTable, element);\n",
              "          const docLink = document.createElement('div');\n",
              "          docLink.innerHTML = docLinkHtml;\n",
              "          element.appendChild(docLink);\n",
              "        }\n",
              "      </script>\n",
              "    </div>\n",
              "  </div>\n",
              "  "
            ],
            "text/plain": [
              "        R-ref       G-ref  ...  Shad                                       Img\n",
              "0  242.097708  230.045066  ...    A1  498C8AAA-DF5D-452F-A34B-1BE1778A67FB.png\n",
              "1  241.384713  229.412879  ...    A1  B6610BED-38BC-4978-B8A1-991530002FFD.png\n",
              "2  241.642094  229.601301  ...    A1  FB80505B-1B14-48B6-9D07-03D0B6E36E03.png\n",
              "3  241.836053  229.881216  ...    A1  7B8A2CF0-D4CF-40A3-B74E-B1AA9E33011E.png\n",
              "4  241.718434  229.483100  ...    A1  E2D4FFA2-090A-4B46-B8C8-57E88EBAD5D2.png\n",
              "\n",
              "[5 rows x 16 columns]"
            ]
          },
          "metadata": {},
          "execution_count": 54
        }
      ]
    },
    {
      "cell_type": "code",
      "source": [
        "table_A2Set3 = pd.read_excel(Set3, sheet_name='A2Set3 ')\n",
        "table_A2Set3.head()"
      ],
      "metadata": {
        "colab": {
          "base_uri": "https://localhost:8080/",
          "height": 337
        },
        "outputId": "f8e169ce-7951-4e3a-f773-a74b1ce5a246",
        "id": "qgCNCkMxfsgm"
      },
      "execution_count": 55,
      "outputs": [
        {
          "output_type": "execute_result",
          "data": {
            "text/html": [
              "\n",
              "  <div id=\"df-6f566425-7432-4f25-80d0-a58b2a8482e5\">\n",
              "    <div class=\"colab-df-container\">\n",
              "      <div>\n",
              "<style scoped>\n",
              "    .dataframe tbody tr th:only-of-type {\n",
              "        vertical-align: middle;\n",
              "    }\n",
              "\n",
              "    .dataframe tbody tr th {\n",
              "        vertical-align: top;\n",
              "    }\n",
              "\n",
              "    .dataframe thead th {\n",
              "        text-align: right;\n",
              "    }\n",
              "</style>\n",
              "<table border=\"1\" class=\"dataframe\">\n",
              "  <thead>\n",
              "    <tr style=\"text-align: right;\">\n",
              "      <th></th>\n",
              "      <th>R-ref</th>\n",
              "      <th>G-ref</th>\n",
              "      <th>B-ref</th>\n",
              "      <th>R-Shad</th>\n",
              "      <th>G-Shad</th>\n",
              "      <th>B-Shad</th>\n",
              "      <th>H-ref</th>\n",
              "      <th>S-ref</th>\n",
              "      <th>V-ref</th>\n",
              "      <th>H-Shad</th>\n",
              "      <th>S-Shad</th>\n",
              "      <th>V-Shad</th>\n",
              "      <th>Setting</th>\n",
              "      <th>Ref</th>\n",
              "      <th>Shad</th>\n",
              "      <th>Img</th>\n",
              "    </tr>\n",
              "  </thead>\n",
              "  <tbody>\n",
              "    <tr>\n",
              "      <th>0</th>\n",
              "      <td>239.261911</td>\n",
              "      <td>226.772178</td>\n",
              "      <td>193.540054</td>\n",
              "      <td>239.680321</td>\n",
              "      <td>227.425574</td>\n",
              "      <td>194.950928</td>\n",
              "      <td>21.848389</td>\n",
              "      <td>48.820144</td>\n",
              "      <td>239.261911</td>\n",
              "      <td>21.788351</td>\n",
              "      <td>47.702439</td>\n",
              "      <td>239.680321</td>\n",
              "      <td>Set3</td>\n",
              "      <td>A2</td>\n",
              "      <td>A1</td>\n",
              "      <td>3055D600-52FE-426B-8FB7-F22AD0D97955.png</td>\n",
              "    </tr>\n",
              "    <tr>\n",
              "      <th>1</th>\n",
              "      <td>238.432676</td>\n",
              "      <td>226.124909</td>\n",
              "      <td>192.415551</td>\n",
              "      <td>238.840410</td>\n",
              "      <td>226.726477</td>\n",
              "      <td>193.791053</td>\n",
              "      <td>22.034413</td>\n",
              "      <td>49.293320</td>\n",
              "      <td>238.432676</td>\n",
              "      <td>21.958893</td>\n",
              "      <td>48.209231</td>\n",
              "      <td>238.840410</td>\n",
              "      <td>Set3</td>\n",
              "      <td>A2</td>\n",
              "      <td>A1</td>\n",
              "      <td>94BB667C-3B1E-4BA5-AE10-E00383CAD122.png</td>\n",
              "    </tr>\n",
              "    <tr>\n",
              "      <th>2</th>\n",
              "      <td>238.783134</td>\n",
              "      <td>226.525201</td>\n",
              "      <td>193.025485</td>\n",
              "      <td>239.209800</td>\n",
              "      <td>227.131072</td>\n",
              "      <td>194.443994</td>\n",
              "      <td>21.989205</td>\n",
              "      <td>48.946108</td>\n",
              "      <td>238.783134</td>\n",
              "      <td>21.892611</td>\n",
              "      <td>47.829457</td>\n",
              "      <td>239.209800</td>\n",
              "      <td>Set3</td>\n",
              "      <td>A2</td>\n",
              "      <td>A1</td>\n",
              "      <td>61347A1C-5E5B-48EE-BB2D-AA9068046272.png</td>\n",
              "    </tr>\n",
              "    <tr>\n",
              "      <th>3</th>\n",
              "      <td>238.943430</td>\n",
              "      <td>226.796039</td>\n",
              "      <td>192.905771</td>\n",
              "      <td>239.369177</td>\n",
              "      <td>227.383188</td>\n",
              "      <td>194.241875</td>\n",
              "      <td>22.138219</td>\n",
              "      <td>49.229040</td>\n",
              "      <td>238.943430</td>\n",
              "      <td>22.057108</td>\n",
              "      <td>48.200412</td>\n",
              "      <td>239.369177</td>\n",
              "      <td>Set3</td>\n",
              "      <td>A2</td>\n",
              "      <td>A1</td>\n",
              "      <td>65C3FBE9-9D9F-4123-BB24-B798E9A2DF43.png</td>\n",
              "    </tr>\n",
              "    <tr>\n",
              "      <th>4</th>\n",
              "      <td>238.848145</td>\n",
              "      <td>226.354679</td>\n",
              "      <td>192.963720</td>\n",
              "      <td>239.291942</td>\n",
              "      <td>226.985207</td>\n",
              "      <td>194.387952</td>\n",
              "      <td>21.893109</td>\n",
              "      <td>49.072234</td>\n",
              "      <td>238.848145</td>\n",
              "      <td>21.792831</td>\n",
              "      <td>47.962023</td>\n",
              "      <td>239.291942</td>\n",
              "      <td>Set3</td>\n",
              "      <td>A2</td>\n",
              "      <td>A1</td>\n",
              "      <td>86927B90-BCE2-4CA1-8556-398BF4B5A60E.png</td>\n",
              "    </tr>\n",
              "  </tbody>\n",
              "</table>\n",
              "</div>\n",
              "      <button class=\"colab-df-convert\" onclick=\"convertToInteractive('df-6f566425-7432-4f25-80d0-a58b2a8482e5')\"\n",
              "              title=\"Convert this dataframe to an interactive table.\"\n",
              "              style=\"display:none;\">\n",
              "        \n",
              "  <svg xmlns=\"http://www.w3.org/2000/svg\" height=\"24px\"viewBox=\"0 0 24 24\"\n",
              "       width=\"24px\">\n",
              "    <path d=\"M0 0h24v24H0V0z\" fill=\"none\"/>\n",
              "    <path d=\"M18.56 5.44l.94 2.06.94-2.06 2.06-.94-2.06-.94-.94-2.06-.94 2.06-2.06.94zm-11 1L8.5 8.5l.94-2.06 2.06-.94-2.06-.94L8.5 2.5l-.94 2.06-2.06.94zm10 10l.94 2.06.94-2.06 2.06-.94-2.06-.94-.94-2.06-.94 2.06-2.06.94z\"/><path d=\"M17.41 7.96l-1.37-1.37c-.4-.4-.92-.59-1.43-.59-.52 0-1.04.2-1.43.59L10.3 9.45l-7.72 7.72c-.78.78-.78 2.05 0 2.83L4 21.41c.39.39.9.59 1.41.59.51 0 1.02-.2 1.41-.59l7.78-7.78 2.81-2.81c.8-.78.8-2.07 0-2.86zM5.41 20L4 18.59l7.72-7.72 1.47 1.35L5.41 20z\"/>\n",
              "  </svg>\n",
              "      </button>\n",
              "      \n",
              "  <style>\n",
              "    .colab-df-container {\n",
              "      display:flex;\n",
              "      flex-wrap:wrap;\n",
              "      gap: 12px;\n",
              "    }\n",
              "\n",
              "    .colab-df-convert {\n",
              "      background-color: #E8F0FE;\n",
              "      border: none;\n",
              "      border-radius: 50%;\n",
              "      cursor: pointer;\n",
              "      display: none;\n",
              "      fill: #1967D2;\n",
              "      height: 32px;\n",
              "      padding: 0 0 0 0;\n",
              "      width: 32px;\n",
              "    }\n",
              "\n",
              "    .colab-df-convert:hover {\n",
              "      background-color: #E2EBFA;\n",
              "      box-shadow: 0px 1px 2px rgba(60, 64, 67, 0.3), 0px 1px 3px 1px rgba(60, 64, 67, 0.15);\n",
              "      fill: #174EA6;\n",
              "    }\n",
              "\n",
              "    [theme=dark] .colab-df-convert {\n",
              "      background-color: #3B4455;\n",
              "      fill: #D2E3FC;\n",
              "    }\n",
              "\n",
              "    [theme=dark] .colab-df-convert:hover {\n",
              "      background-color: #434B5C;\n",
              "      box-shadow: 0px 1px 3px 1px rgba(0, 0, 0, 0.15);\n",
              "      filter: drop-shadow(0px 1px 2px rgba(0, 0, 0, 0.3));\n",
              "      fill: #FFFFFF;\n",
              "    }\n",
              "  </style>\n",
              "\n",
              "      <script>\n",
              "        const buttonEl =\n",
              "          document.querySelector('#df-6f566425-7432-4f25-80d0-a58b2a8482e5 button.colab-df-convert');\n",
              "        buttonEl.style.display =\n",
              "          google.colab.kernel.accessAllowed ? 'block' : 'none';\n",
              "\n",
              "        async function convertToInteractive(key) {\n",
              "          const element = document.querySelector('#df-6f566425-7432-4f25-80d0-a58b2a8482e5');\n",
              "          const dataTable =\n",
              "            await google.colab.kernel.invokeFunction('convertToInteractive',\n",
              "                                                     [key], {});\n",
              "          if (!dataTable) return;\n",
              "\n",
              "          const docLinkHtml = 'Like what you see? Visit the ' +\n",
              "            '<a target=\"_blank\" href=https://colab.research.google.com/notebooks/data_table.ipynb>data table notebook</a>'\n",
              "            + ' to learn more about interactive tables.';\n",
              "          element.innerHTML = '';\n",
              "          dataTable['output_type'] = 'display_data';\n",
              "          await google.colab.output.renderOutput(dataTable, element);\n",
              "          const docLink = document.createElement('div');\n",
              "          docLink.innerHTML = docLinkHtml;\n",
              "          element.appendChild(docLink);\n",
              "        }\n",
              "      </script>\n",
              "    </div>\n",
              "  </div>\n",
              "  "
            ],
            "text/plain": [
              "        R-ref       G-ref  ...  Shad                                       Img\n",
              "0  239.261911  226.772178  ...    A1  3055D600-52FE-426B-8FB7-F22AD0D97955.png\n",
              "1  238.432676  226.124909  ...    A1  94BB667C-3B1E-4BA5-AE10-E00383CAD122.png\n",
              "2  238.783134  226.525201  ...    A1  61347A1C-5E5B-48EE-BB2D-AA9068046272.png\n",
              "3  238.943430  226.796039  ...    A1  65C3FBE9-9D9F-4123-BB24-B798E9A2DF43.png\n",
              "4  238.848145  226.354679  ...    A1  86927B90-BCE2-4CA1-8556-398BF4B5A60E.png\n",
              "\n",
              "[5 rows x 16 columns]"
            ]
          },
          "metadata": {},
          "execution_count": 55
        }
      ]
    },
    {
      "cell_type": "code",
      "source": [
        "table_A2Set4 = pd.read_excel(Set4, sheet_name='A2Set4')\n",
        "table_A2Set4.head()"
      ],
      "metadata": {
        "colab": {
          "base_uri": "https://localhost:8080/",
          "height": 337
        },
        "outputId": "034111c5-0bb3-4477-df9f-a4018f80ec7f",
        "id": "jNNx5Buafsgn"
      },
      "execution_count": 56,
      "outputs": [
        {
          "output_type": "execute_result",
          "data": {
            "text/html": [
              "\n",
              "  <div id=\"df-ee599b35-5146-4e08-bc48-f0311582248d\">\n",
              "    <div class=\"colab-df-container\">\n",
              "      <div>\n",
              "<style scoped>\n",
              "    .dataframe tbody tr th:only-of-type {\n",
              "        vertical-align: middle;\n",
              "    }\n",
              "\n",
              "    .dataframe tbody tr th {\n",
              "        vertical-align: top;\n",
              "    }\n",
              "\n",
              "    .dataframe thead th {\n",
              "        text-align: right;\n",
              "    }\n",
              "</style>\n",
              "<table border=\"1\" class=\"dataframe\">\n",
              "  <thead>\n",
              "    <tr style=\"text-align: right;\">\n",
              "      <th></th>\n",
              "      <th>R-ref</th>\n",
              "      <th>G-ref</th>\n",
              "      <th>B-ref</th>\n",
              "      <th>R-Shad</th>\n",
              "      <th>G-Shad</th>\n",
              "      <th>B-Shad</th>\n",
              "      <th>H-ref</th>\n",
              "      <th>S-ref</th>\n",
              "      <th>V-ref</th>\n",
              "      <th>H-Shad</th>\n",
              "      <th>S-Shad</th>\n",
              "      <th>V-Shad</th>\n",
              "      <th>Set4</th>\n",
              "      <th>Ref</th>\n",
              "      <th>Shad</th>\n",
              "      <th>Img</th>\n",
              "    </tr>\n",
              "  </thead>\n",
              "  <tbody>\n",
              "    <tr>\n",
              "      <th>0</th>\n",
              "      <td>231.203768</td>\n",
              "      <td>214.152486</td>\n",
              "      <td>170.072455</td>\n",
              "      <td>228.758132</td>\n",
              "      <td>211.784079</td>\n",
              "      <td>168.495320</td>\n",
              "      <td>22.000000</td>\n",
              "      <td>67.438034</td>\n",
              "      <td>231.203768</td>\n",
              "      <td>22.000000</td>\n",
              "      <td>67.199889</td>\n",
              "      <td>228.758132</td>\n",
              "      <td>Set4</td>\n",
              "      <td>A2</td>\n",
              "      <td>A1</td>\n",
              "      <td>FE70379B-BE7C-4C2F-8F6B-BEC1809BF9B3.png</td>\n",
              "    </tr>\n",
              "    <tr>\n",
              "      <th>1</th>\n",
              "      <td>226.316628</td>\n",
              "      <td>208.979118</td>\n",
              "      <td>164.679681</td>\n",
              "      <td>224.092021</td>\n",
              "      <td>206.864053</td>\n",
              "      <td>164.404504</td>\n",
              "      <td>21.849068</td>\n",
              "      <td>69.458819</td>\n",
              "      <td>226.316628</td>\n",
              "      <td>21.675841</td>\n",
              "      <td>67.943008</td>\n",
              "      <td>224.092021</td>\n",
              "      <td>Set4</td>\n",
              "      <td>A2</td>\n",
              "      <td>A1</td>\n",
              "      <td>BA3AFF8D-AAA7-4A26-A99D-58E7730257A4.png</td>\n",
              "    </tr>\n",
              "    <tr>\n",
              "      <th>2</th>\n",
              "      <td>231.688520</td>\n",
              "      <td>213.571581</td>\n",
              "      <td>169.254565</td>\n",
              "      <td>229.496896</td>\n",
              "      <td>212.441294</td>\n",
              "      <td>168.527940</td>\n",
              "      <td>21.598485</td>\n",
              "      <td>68.691919</td>\n",
              "      <td>231.688520</td>\n",
              "      <td>21.972199</td>\n",
              "      <td>67.759614</td>\n",
              "      <td>229.496896</td>\n",
              "      <td>Set4</td>\n",
              "      <td>A2</td>\n",
              "      <td>A1</td>\n",
              "      <td>0F941597-744A-4ADE-973D-21AB168D1129.png</td>\n",
              "    </tr>\n",
              "    <tr>\n",
              "      <th>3</th>\n",
              "      <td>232.097902</td>\n",
              "      <td>213.545843</td>\n",
              "      <td>169.568959</td>\n",
              "      <td>229.993698</td>\n",
              "      <td>211.219535</td>\n",
              "      <td>168.097025</td>\n",
              "      <td>21.372378</td>\n",
              "      <td>68.709207</td>\n",
              "      <td>232.097902</td>\n",
              "      <td>21.121583</td>\n",
              "      <td>68.644055</td>\n",
              "      <td>229.993698</td>\n",
              "      <td>Set4</td>\n",
              "      <td>A2</td>\n",
              "      <td>A1</td>\n",
              "      <td>A63282AB-FC26-4DE4-8787-9276F2B800C0.png</td>\n",
              "    </tr>\n",
              "    <tr>\n",
              "      <th>4</th>\n",
              "      <td>231.566045</td>\n",
              "      <td>212.888889</td>\n",
              "      <td>169.670940</td>\n",
              "      <td>229.052914</td>\n",
              "      <td>211.865351</td>\n",
              "      <td>168.813085</td>\n",
              "      <td>21.175796</td>\n",
              "      <td>68.169483</td>\n",
              "      <td>231.566045</td>\n",
              "      <td>21.906218</td>\n",
              "      <td>67.109814</td>\n",
              "      <td>229.052914</td>\n",
              "      <td>Set4</td>\n",
              "      <td>A2</td>\n",
              "      <td>A1</td>\n",
              "      <td>D5F0E3B1-E9A0-4496-8806-ABEB0B70C533.png</td>\n",
              "    </tr>\n",
              "  </tbody>\n",
              "</table>\n",
              "</div>\n",
              "      <button class=\"colab-df-convert\" onclick=\"convertToInteractive('df-ee599b35-5146-4e08-bc48-f0311582248d')\"\n",
              "              title=\"Convert this dataframe to an interactive table.\"\n",
              "              style=\"display:none;\">\n",
              "        \n",
              "  <svg xmlns=\"http://www.w3.org/2000/svg\" height=\"24px\"viewBox=\"0 0 24 24\"\n",
              "       width=\"24px\">\n",
              "    <path d=\"M0 0h24v24H0V0z\" fill=\"none\"/>\n",
              "    <path d=\"M18.56 5.44l.94 2.06.94-2.06 2.06-.94-2.06-.94-.94-2.06-.94 2.06-2.06.94zm-11 1L8.5 8.5l.94-2.06 2.06-.94-2.06-.94L8.5 2.5l-.94 2.06-2.06.94zm10 10l.94 2.06.94-2.06 2.06-.94-2.06-.94-.94-2.06-.94 2.06-2.06.94z\"/><path d=\"M17.41 7.96l-1.37-1.37c-.4-.4-.92-.59-1.43-.59-.52 0-1.04.2-1.43.59L10.3 9.45l-7.72 7.72c-.78.78-.78 2.05 0 2.83L4 21.41c.39.39.9.59 1.41.59.51 0 1.02-.2 1.41-.59l7.78-7.78 2.81-2.81c.8-.78.8-2.07 0-2.86zM5.41 20L4 18.59l7.72-7.72 1.47 1.35L5.41 20z\"/>\n",
              "  </svg>\n",
              "      </button>\n",
              "      \n",
              "  <style>\n",
              "    .colab-df-container {\n",
              "      display:flex;\n",
              "      flex-wrap:wrap;\n",
              "      gap: 12px;\n",
              "    }\n",
              "\n",
              "    .colab-df-convert {\n",
              "      background-color: #E8F0FE;\n",
              "      border: none;\n",
              "      border-radius: 50%;\n",
              "      cursor: pointer;\n",
              "      display: none;\n",
              "      fill: #1967D2;\n",
              "      height: 32px;\n",
              "      padding: 0 0 0 0;\n",
              "      width: 32px;\n",
              "    }\n",
              "\n",
              "    .colab-df-convert:hover {\n",
              "      background-color: #E2EBFA;\n",
              "      box-shadow: 0px 1px 2px rgba(60, 64, 67, 0.3), 0px 1px 3px 1px rgba(60, 64, 67, 0.15);\n",
              "      fill: #174EA6;\n",
              "    }\n",
              "\n",
              "    [theme=dark] .colab-df-convert {\n",
              "      background-color: #3B4455;\n",
              "      fill: #D2E3FC;\n",
              "    }\n",
              "\n",
              "    [theme=dark] .colab-df-convert:hover {\n",
              "      background-color: #434B5C;\n",
              "      box-shadow: 0px 1px 3px 1px rgba(0, 0, 0, 0.15);\n",
              "      filter: drop-shadow(0px 1px 2px rgba(0, 0, 0, 0.3));\n",
              "      fill: #FFFFFF;\n",
              "    }\n",
              "  </style>\n",
              "\n",
              "      <script>\n",
              "        const buttonEl =\n",
              "          document.querySelector('#df-ee599b35-5146-4e08-bc48-f0311582248d button.colab-df-convert');\n",
              "        buttonEl.style.display =\n",
              "          google.colab.kernel.accessAllowed ? 'block' : 'none';\n",
              "\n",
              "        async function convertToInteractive(key) {\n",
              "          const element = document.querySelector('#df-ee599b35-5146-4e08-bc48-f0311582248d');\n",
              "          const dataTable =\n",
              "            await google.colab.kernel.invokeFunction('convertToInteractive',\n",
              "                                                     [key], {});\n",
              "          if (!dataTable) return;\n",
              "\n",
              "          const docLinkHtml = 'Like what you see? Visit the ' +\n",
              "            '<a target=\"_blank\" href=https://colab.research.google.com/notebooks/data_table.ipynb>data table notebook</a>'\n",
              "            + ' to learn more about interactive tables.';\n",
              "          element.innerHTML = '';\n",
              "          dataTable['output_type'] = 'display_data';\n",
              "          await google.colab.output.renderOutput(dataTable, element);\n",
              "          const docLink = document.createElement('div');\n",
              "          docLink.innerHTML = docLinkHtml;\n",
              "          element.appendChild(docLink);\n",
              "        }\n",
              "      </script>\n",
              "    </div>\n",
              "  </div>\n",
              "  "
            ],
            "text/plain": [
              "        R-ref       G-ref  ...  Shad                                       Img\n",
              "0  231.203768  214.152486  ...    A1  FE70379B-BE7C-4C2F-8F6B-BEC1809BF9B3.png\n",
              "1  226.316628  208.979118  ...    A1  BA3AFF8D-AAA7-4A26-A99D-58E7730257A4.png\n",
              "2  231.688520  213.571581  ...    A1  0F941597-744A-4ADE-973D-21AB168D1129.png\n",
              "3  232.097902  213.545843  ...    A1  A63282AB-FC26-4DE4-8787-9276F2B800C0.png\n",
              "4  231.566045  212.888889  ...    A1  D5F0E3B1-E9A0-4496-8806-ABEB0B70C533.png\n",
              "\n",
              "[5 rows x 16 columns]"
            ]
          },
          "metadata": {},
          "execution_count": 56
        }
      ]
    },
    {
      "cell_type": "markdown",
      "source": [
        "###RGB"
      ],
      "metadata": {
        "id": "oRvHAVySfsgn"
      }
    },
    {
      "cell_type": "code",
      "source": [
        "RGB_A2_Set1 = table_A2Set1"
      ],
      "metadata": {
        "id": "RdIInq3Ifsgo"
      },
      "execution_count": 57,
      "outputs": []
    },
    {
      "cell_type": "code",
      "source": [
        "RGB_A2_Set2 = table_A2Set2"
      ],
      "metadata": {
        "id": "gug7sAQwfsgo"
      },
      "execution_count": 58,
      "outputs": []
    },
    {
      "cell_type": "code",
      "source": [
        "RGB_A2_Set3 = table_A2Set3"
      ],
      "metadata": {
        "id": "JwQs8ralfsgo"
      },
      "execution_count": 59,
      "outputs": []
    },
    {
      "cell_type": "code",
      "source": [
        "RGB_A2_Set4 = table_A2Set4"
      ],
      "metadata": {
        "id": "vWmJH3Z6jD-O"
      },
      "execution_count": 60,
      "outputs": []
    },
    {
      "cell_type": "code",
      "source": [
        "RGB_A2_concat = pd.concat([RGB_A2_Set1,RGB_A2_Set2])"
      ],
      "metadata": {
        "id": "oHJumW3AjLzH"
      },
      "execution_count": 61,
      "outputs": []
    },
    {
      "cell_type": "code",
      "source": [
        "RGB_A2_concat0 = pd.concat([RGB_A2_concat,RGB_A2_Set4])"
      ],
      "metadata": {
        "id": "s4A2Dg3ifsgo"
      },
      "execution_count": 62,
      "outputs": []
    },
    {
      "cell_type": "code",
      "source": [
        "RGB_A2_concat1 = pd.concat([RGB_A2_concat0,RGB_A2_Set3])"
      ],
      "metadata": {
        "id": "zI_39vCDfsgo"
      },
      "execution_count": 63,
      "outputs": []
    },
    {
      "cell_type": "code",
      "source": [
        "RGB_A2_concat2 = RGB_A2_concat1.drop(['H-ref','S-ref','V-ref','H-Shad','S-Shad','V-Shad','Ref','Shad','Img','Setting','Set4'], axis=1)"
      ],
      "metadata": {
        "id": "efAFS1B-fsgo"
      },
      "execution_count": 64,
      "outputs": []
    },
    {
      "cell_type": "code",
      "source": [
        "X_test_A2_RGB = np.array(RGB_D3_CC1)"
      ],
      "metadata": {
        "id": "5L9ie-Cufsgp"
      },
      "execution_count": 65,
      "outputs": []
    },
    {
      "cell_type": "code",
      "source": [
        "y_A2_RGB =  table_D3CC1.iloc[:,14:15]"
      ],
      "metadata": {
        "id": "V1oBKY80fsgp"
      },
      "execution_count": 66,
      "outputs": []
    },
    {
      "cell_type": "code",
      "source": [
        "y_test_A2_RGB = np.array(y_A2_RGB)"
      ],
      "metadata": {
        "id": "b7DmzU6ffsgp"
      },
      "execution_count": 67,
      "outputs": []
    },
    {
      "cell_type": "code",
      "source": [
        "X_train_A2_RGB = np.array(RGB_A2_concat2)"
      ],
      "metadata": {
        "id": "uOykvjBWfsgp"
      },
      "execution_count": 68,
      "outputs": []
    },
    {
      "cell_type": "code",
      "source": [
        "y_train_A2RGB = RGB_A2_concat1.iloc[:,14:15]"
      ],
      "metadata": {
        "id": "u56pkV_xfsgp"
      },
      "execution_count": 69,
      "outputs": []
    },
    {
      "cell_type": "code",
      "source": [
        "y_train_A2_RGB = np.array(y_train_A2RGB)"
      ],
      "metadata": {
        "id": "DdWkKadofsgp"
      },
      "execution_count": 70,
      "outputs": []
    },
    {
      "cell_type": "code",
      "source": [
        "clf.fit(X_train_A2_RGB, y_train_A2_RGB)"
      ],
      "metadata": {
        "colab": {
          "base_uri": "https://localhost:8080/"
        },
        "outputId": "61bcff5e-0571-4fa4-e81b-916994866f48",
        "id": "nJlXfRCvfsgq"
      },
      "execution_count": 71,
      "outputs": [
        {
          "output_type": "stream",
          "name": "stderr",
          "text": [
            "/usr/local/lib/python3.7/dist-packages/ipykernel_launcher.py:1: DataConversionWarning: A column-vector y was passed when a 1d array was expected. Please change the shape of y to (n_samples,), for example using ravel().\n",
            "  \"\"\"Entry point for launching an IPython kernel.\n"
          ]
        },
        {
          "output_type": "execute_result",
          "data": {
            "text/plain": [
              "RandomForestClassifier()"
            ]
          },
          "metadata": {},
          "execution_count": 71
        }
      ]
    },
    {
      "cell_type": "code",
      "source": [
        "y_pred_A2_RGB = clf.predict(X_test_A2_RGB)"
      ],
      "metadata": {
        "id": "Mr4rCcPifsgq"
      },
      "execution_count": 72,
      "outputs": []
    },
    {
      "cell_type": "code",
      "source": [
        "print(\"Accuracy:\", metrics.accuracy_score(y_test_A2_RGB, y_pred_A2_RGB))"
      ],
      "metadata": {
        "colab": {
          "base_uri": "https://localhost:8080/"
        },
        "outputId": "164fc78f-f2c8-4902-8149-0eecfb06d637",
        "id": "BkA5kF5Vfsgq"
      },
      "execution_count": 73,
      "outputs": [
        {
          "output_type": "stream",
          "name": "stdout",
          "text": [
            "Accuracy: 0.095\n"
          ]
        }
      ]
    },
    {
      "cell_type": "markdown",
      "source": [
        "###HSV"
      ],
      "metadata": {
        "id": "RZb3Xue3fsgq"
      }
    },
    {
      "cell_type": "code",
      "source": [
        "HSV_A2_concat2 = RGB_A2_concat1.drop(['R-ref','G-ref','B-ref','R-Shad','G-Shad','B-Shad','Ref','Shad','Img','Setting','Set4'], axis=1)"
      ],
      "metadata": {
        "id": "0r26BKOZlVxd"
      },
      "execution_count": 74,
      "outputs": []
    },
    {
      "cell_type": "code",
      "source": [
        "X_test_A2_HSV = np.array(HSV_D3_CC1)"
      ],
      "metadata": {
        "id": "jbg9-iKkfsgr"
      },
      "execution_count": 75,
      "outputs": []
    },
    {
      "cell_type": "code",
      "source": [
        "y_A2_HSV =  table_D3CC1.iloc[:,14:15]"
      ],
      "metadata": {
        "id": "XQBJSPXpfsgr"
      },
      "execution_count": 76,
      "outputs": []
    },
    {
      "cell_type": "code",
      "source": [
        "y_test_A2_HSV = np.array(y_A2_RGB)"
      ],
      "metadata": {
        "id": "G0mJHUDtfsgr"
      },
      "execution_count": 77,
      "outputs": []
    },
    {
      "cell_type": "code",
      "source": [
        "X_train_A2_HSV = np.array(HSV_A2_concat2)"
      ],
      "metadata": {
        "id": "MYuphJxqfsgr"
      },
      "execution_count": 78,
      "outputs": []
    },
    {
      "cell_type": "code",
      "source": [
        "y_train_A2HSV = RGB_A2_concat1.iloc[:,14:15]"
      ],
      "metadata": {
        "id": "xldroU3hfsgr"
      },
      "execution_count": 79,
      "outputs": []
    },
    {
      "cell_type": "code",
      "source": [
        "y_train_A2_HSV = np.array(y_train_A2HSV)"
      ],
      "metadata": {
        "id": "Gjz_GGx3fsgr"
      },
      "execution_count": 80,
      "outputs": []
    },
    {
      "cell_type": "code",
      "source": [
        "clf.fit(X_train_A2_HSV, y_train_A2_HSV)"
      ],
      "metadata": {
        "id": "_Hd02RyCfsgs",
        "outputId": "6cf42df8-983c-4daf-ce36-cfd102d5d3ba",
        "colab": {
          "base_uri": "https://localhost:8080/"
        }
      },
      "execution_count": 81,
      "outputs": [
        {
          "output_type": "stream",
          "name": "stderr",
          "text": [
            "/usr/local/lib/python3.7/dist-packages/ipykernel_launcher.py:1: DataConversionWarning: A column-vector y was passed when a 1d array was expected. Please change the shape of y to (n_samples,), for example using ravel().\n",
            "  \"\"\"Entry point for launching an IPython kernel.\n"
          ]
        },
        {
          "output_type": "execute_result",
          "data": {
            "text/plain": [
              "RandomForestClassifier()"
            ]
          },
          "metadata": {},
          "execution_count": 81
        }
      ]
    },
    {
      "cell_type": "code",
      "source": [
        "y_pred_A2_HSV = clf.predict(X_test_A2_HSV)"
      ],
      "metadata": {
        "id": "mTrqWErPfsgs"
      },
      "execution_count": 82,
      "outputs": []
    },
    {
      "cell_type": "code",
      "source": [
        "print(\"Accuracy:\", metrics.accuracy_score(y_test_A2_HSV, y_pred_A2_HSV))"
      ],
      "metadata": {
        "id": "w9a9emMufsgs",
        "outputId": "893a37ba-7a68-43b6-e92f-ddb525fe7409",
        "colab": {
          "base_uri": "https://localhost:8080/"
        }
      },
      "execution_count": 83,
      "outputs": [
        {
          "output_type": "stream",
          "name": "stdout",
          "text": [
            "Accuracy: 0.0625\n"
          ]
        }
      ]
    },
    {
      "cell_type": "markdown",
      "source": [
        "##A3"
      ],
      "metadata": {
        "id": "PHQLHF5yh0le"
      }
    },
    {
      "cell_type": "code",
      "source": [
        "table_A3Set1 = pd.read_excel(Set1 , sheet_name='A3Set1 ')\n",
        "table_A3Set1.head()"
      ],
      "metadata": {
        "id": "3XA21fdZh0le",
        "outputId": "deebf865-4e35-4434-952d-3aedd7918457",
        "colab": {
          "base_uri": "https://localhost:8080/",
          "height": 337
        }
      },
      "execution_count": 84,
      "outputs": [
        {
          "output_type": "execute_result",
          "data": {
            "text/html": [
              "\n",
              "  <div id=\"df-9f3162ff-55e5-4cdc-b86d-04455d7a3eaa\">\n",
              "    <div class=\"colab-df-container\">\n",
              "      <div>\n",
              "<style scoped>\n",
              "    .dataframe tbody tr th:only-of-type {\n",
              "        vertical-align: middle;\n",
              "    }\n",
              "\n",
              "    .dataframe tbody tr th {\n",
              "        vertical-align: top;\n",
              "    }\n",
              "\n",
              "    .dataframe thead th {\n",
              "        text-align: right;\n",
              "    }\n",
              "</style>\n",
              "<table border=\"1\" class=\"dataframe\">\n",
              "  <thead>\n",
              "    <tr style=\"text-align: right;\">\n",
              "      <th></th>\n",
              "      <th>R-ref</th>\n",
              "      <th>G-ref</th>\n",
              "      <th>B-ref</th>\n",
              "      <th>R-Shad</th>\n",
              "      <th>G-Shad</th>\n",
              "      <th>B-Shad</th>\n",
              "      <th>H-ref</th>\n",
              "      <th>S-ref</th>\n",
              "      <th>V-ref</th>\n",
              "      <th>H-Shad</th>\n",
              "      <th>S-Shad</th>\n",
              "      <th>V-Shad</th>\n",
              "      <th>Setting</th>\n",
              "      <th>Ref</th>\n",
              "      <th>Shad</th>\n",
              "      <th>Img</th>\n",
              "    </tr>\n",
              "  </thead>\n",
              "  <tbody>\n",
              "    <tr>\n",
              "      <th>0</th>\n",
              "      <td>242.097708</td>\n",
              "      <td>230.045066</td>\n",
              "      <td>197.752525</td>\n",
              "      <td>237.360393</td>\n",
              "      <td>224.253915</td>\n",
              "      <td>190.496432</td>\n",
              "      <td>21.867618</td>\n",
              "      <td>46.779526</td>\n",
              "      <td>242.097708</td>\n",
              "      <td>21.487073</td>\n",
              "      <td>50.394959</td>\n",
              "      <td>237.360393</td>\n",
              "      <td>Set1</td>\n",
              "      <td>A3</td>\n",
              "      <td>A1</td>\n",
              "      <td>BAD1342F-482E-488F-8241-A393B4779E26.png</td>\n",
              "    </tr>\n",
              "    <tr>\n",
              "      <th>1</th>\n",
              "      <td>241.384713</td>\n",
              "      <td>229.412879</td>\n",
              "      <td>196.570027</td>\n",
              "      <td>236.735798</td>\n",
              "      <td>223.657956</td>\n",
              "      <td>190.002873</td>\n",
              "      <td>22.034674</td>\n",
              "      <td>47.431527</td>\n",
              "      <td>241.384713</td>\n",
              "      <td>21.471967</td>\n",
              "      <td>50.415439</td>\n",
              "      <td>236.735798</td>\n",
              "      <td>Set1</td>\n",
              "      <td>A3</td>\n",
              "      <td>A1</td>\n",
              "      <td>0E4BF624-DA48-45D7-8CEF-1F893F3E36A9.png</td>\n",
              "    </tr>\n",
              "    <tr>\n",
              "      <th>2</th>\n",
              "      <td>241.642094</td>\n",
              "      <td>229.601301</td>\n",
              "      <td>197.312646</td>\n",
              "      <td>236.987304</td>\n",
              "      <td>224.070336</td>\n",
              "      <td>190.256417</td>\n",
              "      <td>21.848776</td>\n",
              "      <td>46.843046</td>\n",
              "      <td>241.642094</td>\n",
              "      <td>21.583449</td>\n",
              "      <td>50.356408</td>\n",
              "      <td>236.987304</td>\n",
              "      <td>Set1</td>\n",
              "      <td>A3</td>\n",
              "      <td>A1</td>\n",
              "      <td>A5A67F7B-D2B1-4729-8A0B-9BE2F2DF55C6.png</td>\n",
              "    </tr>\n",
              "    <tr>\n",
              "      <th>3</th>\n",
              "      <td>241.836053</td>\n",
              "      <td>229.881216</td>\n",
              "      <td>196.987665</td>\n",
              "      <td>236.912890</td>\n",
              "      <td>224.278936</td>\n",
              "      <td>189.873784</td>\n",
              "      <td>22.060703</td>\n",
              "      <td>47.367618</td>\n",
              "      <td>241.836053</td>\n",
              "      <td>21.928737</td>\n",
              "      <td>50.654249</td>\n",
              "      <td>236.912890</td>\n",
              "      <td>Set1</td>\n",
              "      <td>A3</td>\n",
              "      <td>A1</td>\n",
              "      <td>35D1BEA8-E650-4D83-9D61-17AD65EABD39.png</td>\n",
              "    </tr>\n",
              "    <tr>\n",
              "      <th>4</th>\n",
              "      <td>241.718434</td>\n",
              "      <td>229.483100</td>\n",
              "      <td>197.120144</td>\n",
              "      <td>236.738393</td>\n",
              "      <td>223.628209</td>\n",
              "      <td>190.118895</td>\n",
              "      <td>21.825369</td>\n",
              "      <td>47.105089</td>\n",
              "      <td>241.718434</td>\n",
              "      <td>21.482254</td>\n",
              "      <td>50.271986</td>\n",
              "      <td>236.738393</td>\n",
              "      <td>Set1</td>\n",
              "      <td>A3</td>\n",
              "      <td>A1</td>\n",
              "      <td>18FE9FE4-F848-465E-B7FE-7792C8A083CB.png</td>\n",
              "    </tr>\n",
              "  </tbody>\n",
              "</table>\n",
              "</div>\n",
              "      <button class=\"colab-df-convert\" onclick=\"convertToInteractive('df-9f3162ff-55e5-4cdc-b86d-04455d7a3eaa')\"\n",
              "              title=\"Convert this dataframe to an interactive table.\"\n",
              "              style=\"display:none;\">\n",
              "        \n",
              "  <svg xmlns=\"http://www.w3.org/2000/svg\" height=\"24px\"viewBox=\"0 0 24 24\"\n",
              "       width=\"24px\">\n",
              "    <path d=\"M0 0h24v24H0V0z\" fill=\"none\"/>\n",
              "    <path d=\"M18.56 5.44l.94 2.06.94-2.06 2.06-.94-2.06-.94-.94-2.06-.94 2.06-2.06.94zm-11 1L8.5 8.5l.94-2.06 2.06-.94-2.06-.94L8.5 2.5l-.94 2.06-2.06.94zm10 10l.94 2.06.94-2.06 2.06-.94-2.06-.94-.94-2.06-.94 2.06-2.06.94z\"/><path d=\"M17.41 7.96l-1.37-1.37c-.4-.4-.92-.59-1.43-.59-.52 0-1.04.2-1.43.59L10.3 9.45l-7.72 7.72c-.78.78-.78 2.05 0 2.83L4 21.41c.39.39.9.59 1.41.59.51 0 1.02-.2 1.41-.59l7.78-7.78 2.81-2.81c.8-.78.8-2.07 0-2.86zM5.41 20L4 18.59l7.72-7.72 1.47 1.35L5.41 20z\"/>\n",
              "  </svg>\n",
              "      </button>\n",
              "      \n",
              "  <style>\n",
              "    .colab-df-container {\n",
              "      display:flex;\n",
              "      flex-wrap:wrap;\n",
              "      gap: 12px;\n",
              "    }\n",
              "\n",
              "    .colab-df-convert {\n",
              "      background-color: #E8F0FE;\n",
              "      border: none;\n",
              "      border-radius: 50%;\n",
              "      cursor: pointer;\n",
              "      display: none;\n",
              "      fill: #1967D2;\n",
              "      height: 32px;\n",
              "      padding: 0 0 0 0;\n",
              "      width: 32px;\n",
              "    }\n",
              "\n",
              "    .colab-df-convert:hover {\n",
              "      background-color: #E2EBFA;\n",
              "      box-shadow: 0px 1px 2px rgba(60, 64, 67, 0.3), 0px 1px 3px 1px rgba(60, 64, 67, 0.15);\n",
              "      fill: #174EA6;\n",
              "    }\n",
              "\n",
              "    [theme=dark] .colab-df-convert {\n",
              "      background-color: #3B4455;\n",
              "      fill: #D2E3FC;\n",
              "    }\n",
              "\n",
              "    [theme=dark] .colab-df-convert:hover {\n",
              "      background-color: #434B5C;\n",
              "      box-shadow: 0px 1px 3px 1px rgba(0, 0, 0, 0.15);\n",
              "      filter: drop-shadow(0px 1px 2px rgba(0, 0, 0, 0.3));\n",
              "      fill: #FFFFFF;\n",
              "    }\n",
              "  </style>\n",
              "\n",
              "      <script>\n",
              "        const buttonEl =\n",
              "          document.querySelector('#df-9f3162ff-55e5-4cdc-b86d-04455d7a3eaa button.colab-df-convert');\n",
              "        buttonEl.style.display =\n",
              "          google.colab.kernel.accessAllowed ? 'block' : 'none';\n",
              "\n",
              "        async function convertToInteractive(key) {\n",
              "          const element = document.querySelector('#df-9f3162ff-55e5-4cdc-b86d-04455d7a3eaa');\n",
              "          const dataTable =\n",
              "            await google.colab.kernel.invokeFunction('convertToInteractive',\n",
              "                                                     [key], {});\n",
              "          if (!dataTable) return;\n",
              "\n",
              "          const docLinkHtml = 'Like what you see? Visit the ' +\n",
              "            '<a target=\"_blank\" href=https://colab.research.google.com/notebooks/data_table.ipynb>data table notebook</a>'\n",
              "            + ' to learn more about interactive tables.';\n",
              "          element.innerHTML = '';\n",
              "          dataTable['output_type'] = 'display_data';\n",
              "          await google.colab.output.renderOutput(dataTable, element);\n",
              "          const docLink = document.createElement('div');\n",
              "          docLink.innerHTML = docLinkHtml;\n",
              "          element.appendChild(docLink);\n",
              "        }\n",
              "      </script>\n",
              "    </div>\n",
              "  </div>\n",
              "  "
            ],
            "text/plain": [
              "        R-ref       G-ref  ...  Shad                                       Img\n",
              "0  242.097708  230.045066  ...    A1  BAD1342F-482E-488F-8241-A393B4779E26.png\n",
              "1  241.384713  229.412879  ...    A1  0E4BF624-DA48-45D7-8CEF-1F893F3E36A9.png\n",
              "2  241.642094  229.601301  ...    A1  A5A67F7B-D2B1-4729-8A0B-9BE2F2DF55C6.png\n",
              "3  241.836053  229.881216  ...    A1  35D1BEA8-E650-4D83-9D61-17AD65EABD39.png\n",
              "4  241.718434  229.483100  ...    A1  18FE9FE4-F848-465E-B7FE-7792C8A083CB.png\n",
              "\n",
              "[5 rows x 16 columns]"
            ]
          },
          "metadata": {},
          "execution_count": 84
        }
      ]
    },
    {
      "cell_type": "code",
      "source": [
        "table_A3Set2 = pd.read_excel(Set2, sheet_name='A3Set2 ')\n",
        "table_A3Set2.head()"
      ],
      "metadata": {
        "id": "E5iCzyKxh0lf",
        "outputId": "ac822190-d352-4745-b766-8f7ef10f9c23",
        "colab": {
          "base_uri": "https://localhost:8080/",
          "height": 337
        }
      },
      "execution_count": 85,
      "outputs": [
        {
          "output_type": "execute_result",
          "data": {
            "text/html": [
              "\n",
              "  <div id=\"df-8cdc8120-dfd0-45f0-bad2-4b8f5f343375\">\n",
              "    <div class=\"colab-df-container\">\n",
              "      <div>\n",
              "<style scoped>\n",
              "    .dataframe tbody tr th:only-of-type {\n",
              "        vertical-align: middle;\n",
              "    }\n",
              "\n",
              "    .dataframe tbody tr th {\n",
              "        vertical-align: top;\n",
              "    }\n",
              "\n",
              "    .dataframe thead th {\n",
              "        text-align: right;\n",
              "    }\n",
              "</style>\n",
              "<table border=\"1\" class=\"dataframe\">\n",
              "  <thead>\n",
              "    <tr style=\"text-align: right;\">\n",
              "      <th></th>\n",
              "      <th>R-ref</th>\n",
              "      <th>G-ref</th>\n",
              "      <th>B-ref</th>\n",
              "      <th>R-Shad</th>\n",
              "      <th>G-Shad</th>\n",
              "      <th>B-Shad</th>\n",
              "      <th>H-ref</th>\n",
              "      <th>S-ref</th>\n",
              "      <th>V-ref</th>\n",
              "      <th>H-Shad</th>\n",
              "      <th>S-Shad</th>\n",
              "      <th>V-Shad</th>\n",
              "      <th>Setting</th>\n",
              "      <th>Ref</th>\n",
              "      <th>Shad</th>\n",
              "      <th>Img</th>\n",
              "    </tr>\n",
              "  </thead>\n",
              "  <tbody>\n",
              "    <tr>\n",
              "      <th>0</th>\n",
              "      <td>234.103730</td>\n",
              "      <td>217.411713</td>\n",
              "      <td>174.726399</td>\n",
              "      <td>231.440460</td>\n",
              "      <td>215.125382</td>\n",
              "      <td>172.431285</td>\n",
              "      <td>21.989899</td>\n",
              "      <td>64.771853</td>\n",
              "      <td>234.104798</td>\n",
              "      <td>22.003707</td>\n",
              "      <td>65.072004</td>\n",
              "      <td>231.440460</td>\n",
              "      <td>Set2</td>\n",
              "      <td>A3</td>\n",
              "      <td>A1</td>\n",
              "      <td>DF15ABDE-6706-4DBF-B915-3A5A55675BE9.png</td>\n",
              "    </tr>\n",
              "    <tr>\n",
              "      <th>1</th>\n",
              "      <td>231.010587</td>\n",
              "      <td>213.546620</td>\n",
              "      <td>168.885198</td>\n",
              "      <td>228.600130</td>\n",
              "      <td>211.602724</td>\n",
              "      <td>168.084886</td>\n",
              "      <td>21.813714</td>\n",
              "      <td>68.579545</td>\n",
              "      <td>231.010587</td>\n",
              "      <td>21.992216</td>\n",
              "      <td>67.520248</td>\n",
              "      <td>228.600130</td>\n",
              "      <td>Set2</td>\n",
              "      <td>A3</td>\n",
              "      <td>A1</td>\n",
              "      <td>03CE5312-9117-494B-A20A-C13DED940437.png</td>\n",
              "    </tr>\n",
              "    <tr>\n",
              "      <th>2</th>\n",
              "      <td>234.168706</td>\n",
              "      <td>216.933664</td>\n",
              "      <td>173.458625</td>\n",
              "      <td>232.836067</td>\n",
              "      <td>215.902233</td>\n",
              "      <td>172.368733</td>\n",
              "      <td>21.868687</td>\n",
              "      <td>66.170455</td>\n",
              "      <td>234.172494</td>\n",
              "      <td>21.993235</td>\n",
              "      <td>66.237976</td>\n",
              "      <td>232.836530</td>\n",
              "      <td>Set2</td>\n",
              "      <td>A3</td>\n",
              "      <td>A1</td>\n",
              "      <td>9B833AEA-985E-456A-9772-D946B2ED95FF.png</td>\n",
              "    </tr>\n",
              "    <tr>\n",
              "      <th>3</th>\n",
              "      <td>234.541472</td>\n",
              "      <td>216.721251</td>\n",
              "      <td>173.680847</td>\n",
              "      <td>233.326939</td>\n",
              "      <td>215.266889</td>\n",
              "      <td>172.293115</td>\n",
              "      <td>21.552545</td>\n",
              "      <td>66.236305</td>\n",
              "      <td>234.543415</td>\n",
              "      <td>21.434251</td>\n",
              "      <td>66.747845</td>\n",
              "      <td>233.327032</td>\n",
              "      <td>Set2</td>\n",
              "      <td>A3</td>\n",
              "      <td>A1</td>\n",
              "      <td>D252705C-04AF-4E1A-8A27-F9EC7B5B9877.png</td>\n",
              "    </tr>\n",
              "    <tr>\n",
              "      <th>4</th>\n",
              "      <td>234.573524</td>\n",
              "      <td>216.957168</td>\n",
              "      <td>174.561383</td>\n",
              "      <td>232.678065</td>\n",
              "      <td>215.740895</td>\n",
              "      <td>173.239644</td>\n",
              "      <td>21.469697</td>\n",
              "      <td>65.323524</td>\n",
              "      <td>234.573524</td>\n",
              "      <td>21.896580</td>\n",
              "      <td>65.207766</td>\n",
              "      <td>232.678065</td>\n",
              "      <td>Set2</td>\n",
              "      <td>A3</td>\n",
              "      <td>A1</td>\n",
              "      <td>F93D031B-458C-4AC3-88ED-14FB49A9A804.png</td>\n",
              "    </tr>\n",
              "  </tbody>\n",
              "</table>\n",
              "</div>\n",
              "      <button class=\"colab-df-convert\" onclick=\"convertToInteractive('df-8cdc8120-dfd0-45f0-bad2-4b8f5f343375')\"\n",
              "              title=\"Convert this dataframe to an interactive table.\"\n",
              "              style=\"display:none;\">\n",
              "        \n",
              "  <svg xmlns=\"http://www.w3.org/2000/svg\" height=\"24px\"viewBox=\"0 0 24 24\"\n",
              "       width=\"24px\">\n",
              "    <path d=\"M0 0h24v24H0V0z\" fill=\"none\"/>\n",
              "    <path d=\"M18.56 5.44l.94 2.06.94-2.06 2.06-.94-2.06-.94-.94-2.06-.94 2.06-2.06.94zm-11 1L8.5 8.5l.94-2.06 2.06-.94-2.06-.94L8.5 2.5l-.94 2.06-2.06.94zm10 10l.94 2.06.94-2.06 2.06-.94-2.06-.94-.94-2.06-.94 2.06-2.06.94z\"/><path d=\"M17.41 7.96l-1.37-1.37c-.4-.4-.92-.59-1.43-.59-.52 0-1.04.2-1.43.59L10.3 9.45l-7.72 7.72c-.78.78-.78 2.05 0 2.83L4 21.41c.39.39.9.59 1.41.59.51 0 1.02-.2 1.41-.59l7.78-7.78 2.81-2.81c.8-.78.8-2.07 0-2.86zM5.41 20L4 18.59l7.72-7.72 1.47 1.35L5.41 20z\"/>\n",
              "  </svg>\n",
              "      </button>\n",
              "      \n",
              "  <style>\n",
              "    .colab-df-container {\n",
              "      display:flex;\n",
              "      flex-wrap:wrap;\n",
              "      gap: 12px;\n",
              "    }\n",
              "\n",
              "    .colab-df-convert {\n",
              "      background-color: #E8F0FE;\n",
              "      border: none;\n",
              "      border-radius: 50%;\n",
              "      cursor: pointer;\n",
              "      display: none;\n",
              "      fill: #1967D2;\n",
              "      height: 32px;\n",
              "      padding: 0 0 0 0;\n",
              "      width: 32px;\n",
              "    }\n",
              "\n",
              "    .colab-df-convert:hover {\n",
              "      background-color: #E2EBFA;\n",
              "      box-shadow: 0px 1px 2px rgba(60, 64, 67, 0.3), 0px 1px 3px 1px rgba(60, 64, 67, 0.15);\n",
              "      fill: #174EA6;\n",
              "    }\n",
              "\n",
              "    [theme=dark] .colab-df-convert {\n",
              "      background-color: #3B4455;\n",
              "      fill: #D2E3FC;\n",
              "    }\n",
              "\n",
              "    [theme=dark] .colab-df-convert:hover {\n",
              "      background-color: #434B5C;\n",
              "      box-shadow: 0px 1px 3px 1px rgba(0, 0, 0, 0.15);\n",
              "      filter: drop-shadow(0px 1px 2px rgba(0, 0, 0, 0.3));\n",
              "      fill: #FFFFFF;\n",
              "    }\n",
              "  </style>\n",
              "\n",
              "      <script>\n",
              "        const buttonEl =\n",
              "          document.querySelector('#df-8cdc8120-dfd0-45f0-bad2-4b8f5f343375 button.colab-df-convert');\n",
              "        buttonEl.style.display =\n",
              "          google.colab.kernel.accessAllowed ? 'block' : 'none';\n",
              "\n",
              "        async function convertToInteractive(key) {\n",
              "          const element = document.querySelector('#df-8cdc8120-dfd0-45f0-bad2-4b8f5f343375');\n",
              "          const dataTable =\n",
              "            await google.colab.kernel.invokeFunction('convertToInteractive',\n",
              "                                                     [key], {});\n",
              "          if (!dataTable) return;\n",
              "\n",
              "          const docLinkHtml = 'Like what you see? Visit the ' +\n",
              "            '<a target=\"_blank\" href=https://colab.research.google.com/notebooks/data_table.ipynb>data table notebook</a>'\n",
              "            + ' to learn more about interactive tables.';\n",
              "          element.innerHTML = '';\n",
              "          dataTable['output_type'] = 'display_data';\n",
              "          await google.colab.output.renderOutput(dataTable, element);\n",
              "          const docLink = document.createElement('div');\n",
              "          docLink.innerHTML = docLinkHtml;\n",
              "          element.appendChild(docLink);\n",
              "        }\n",
              "      </script>\n",
              "    </div>\n",
              "  </div>\n",
              "  "
            ],
            "text/plain": [
              "        R-ref       G-ref  ...  Shad                                       Img\n",
              "0  234.103730  217.411713  ...    A1  DF15ABDE-6706-4DBF-B915-3A5A55675BE9.png\n",
              "1  231.010587  213.546620  ...    A1  03CE5312-9117-494B-A20A-C13DED940437.png\n",
              "2  234.168706  216.933664  ...    A1  9B833AEA-985E-456A-9772-D946B2ED95FF.png\n",
              "3  234.541472  216.721251  ...    A1  D252705C-04AF-4E1A-8A27-F9EC7B5B9877.png\n",
              "4  234.573524  216.957168  ...    A1  F93D031B-458C-4AC3-88ED-14FB49A9A804.png\n",
              "\n",
              "[5 rows x 16 columns]"
            ]
          },
          "metadata": {},
          "execution_count": 85
        }
      ]
    },
    {
      "cell_type": "code",
      "source": [
        "table_A3Set3 = pd.read_excel(Set3, sheet_name='A3Set3 ')\n",
        "table_A3Set3.head()"
      ],
      "metadata": {
        "id": "agdBpgZ-h0lf",
        "outputId": "4a2c6cea-0d6e-4ec8-bd92-7b4897214eb3",
        "colab": {
          "base_uri": "https://localhost:8080/",
          "height": 337
        }
      },
      "execution_count": 86,
      "outputs": [
        {
          "output_type": "execute_result",
          "data": {
            "text/html": [
              "\n",
              "  <div id=\"df-7b68a995-361a-4f42-bba4-4dd824ba8577\">\n",
              "    <div class=\"colab-df-container\">\n",
              "      <div>\n",
              "<style scoped>\n",
              "    .dataframe tbody tr th:only-of-type {\n",
              "        vertical-align: middle;\n",
              "    }\n",
              "\n",
              "    .dataframe tbody tr th {\n",
              "        vertical-align: top;\n",
              "    }\n",
              "\n",
              "    .dataframe thead th {\n",
              "        text-align: right;\n",
              "    }\n",
              "</style>\n",
              "<table border=\"1\" class=\"dataframe\">\n",
              "  <thead>\n",
              "    <tr style=\"text-align: right;\">\n",
              "      <th></th>\n",
              "      <th>R-ref</th>\n",
              "      <th>G-ref</th>\n",
              "      <th>B-ref</th>\n",
              "      <th>R-Shad</th>\n",
              "      <th>G-Shad</th>\n",
              "      <th>B-Shad</th>\n",
              "      <th>H-ref</th>\n",
              "      <th>S-ref</th>\n",
              "      <th>V-ref</th>\n",
              "      <th>H-Shad</th>\n",
              "      <th>S-Shad</th>\n",
              "      <th>V-Shad</th>\n",
              "      <th>Setting</th>\n",
              "      <th>Ref</th>\n",
              "      <th>Shad</th>\n",
              "      <th>Img</th>\n",
              "    </tr>\n",
              "  </thead>\n",
              "  <tbody>\n",
              "    <tr>\n",
              "      <th>0</th>\n",
              "      <td>243.562937</td>\n",
              "      <td>231.555264</td>\n",
              "      <td>199.463967</td>\n",
              "      <td>238.943657</td>\n",
              "      <td>225.964044</td>\n",
              "      <td>192.240386</td>\n",
              "      <td>21.546474</td>\n",
              "      <td>49.878232</td>\n",
              "      <td>238.943657</td>\n",
              "      <td>21.546474</td>\n",
              "      <td>49.878232</td>\n",
              "      <td>238.943657</td>\n",
              "      <td>Set3</td>\n",
              "      <td>A3</td>\n",
              "      <td>A1</td>\n",
              "      <td>66373A06-43CB-4E73-84DA-6B504F4F1C45.png</td>\n",
              "    </tr>\n",
              "    <tr>\n",
              "      <th>1</th>\n",
              "      <td>242.855769</td>\n",
              "      <td>230.894619</td>\n",
              "      <td>198.359460</td>\n",
              "      <td>238.431285</td>\n",
              "      <td>225.416829</td>\n",
              "      <td>191.849504</td>\n",
              "      <td>21.482995</td>\n",
              "      <td>49.884533</td>\n",
              "      <td>238.431285</td>\n",
              "      <td>21.482995</td>\n",
              "      <td>49.884533</td>\n",
              "      <td>238.431285</td>\n",
              "      <td>Set3</td>\n",
              "      <td>A3</td>\n",
              "      <td>A1</td>\n",
              "      <td>F87BFB23-54A6-48EC-95AB-B690B56F7934.png</td>\n",
              "    </tr>\n",
              "    <tr>\n",
              "      <th>2</th>\n",
              "      <td>243.108197</td>\n",
              "      <td>231.144231</td>\n",
              "      <td>199.196775</td>\n",
              "      <td>238.676768</td>\n",
              "      <td>225.718006</td>\n",
              "      <td>192.151700</td>\n",
              "      <td>21.513391</td>\n",
              "      <td>49.759244</td>\n",
              "      <td>238.676768</td>\n",
              "      <td>21.513391</td>\n",
              "      <td>49.759244</td>\n",
              "      <td>238.676768</td>\n",
              "      <td>Set3</td>\n",
              "      <td>A3</td>\n",
              "      <td>A1</td>\n",
              "      <td>67DEF170-ED6C-468A-AC90-9DF1ED4C4091.png</td>\n",
              "    </tr>\n",
              "    <tr>\n",
              "      <th>3</th>\n",
              "      <td>243.268454</td>\n",
              "      <td>231.407828</td>\n",
              "      <td>198.849165</td>\n",
              "      <td>238.443332</td>\n",
              "      <td>225.841442</td>\n",
              "      <td>191.568807</td>\n",
              "      <td>21.917339</td>\n",
              "      <td>50.123251</td>\n",
              "      <td>238.443332</td>\n",
              "      <td>21.917339</td>\n",
              "      <td>50.123251</td>\n",
              "      <td>238.443332</td>\n",
              "      <td>Set3</td>\n",
              "      <td>A3</td>\n",
              "      <td>A1</td>\n",
              "      <td>861A0A06-2BEB-4C2D-9ECD-F753ACF6F036.png</td>\n",
              "    </tr>\n",
              "    <tr>\n",
              "      <th>4</th>\n",
              "      <td>243.186869</td>\n",
              "      <td>231.041278</td>\n",
              "      <td>198.913753</td>\n",
              "      <td>238.348161</td>\n",
              "      <td>225.244741</td>\n",
              "      <td>191.956723</td>\n",
              "      <td>21.428598</td>\n",
              "      <td>49.685386</td>\n",
              "      <td>238.348161</td>\n",
              "      <td>21.428598</td>\n",
              "      <td>49.685386</td>\n",
              "      <td>238.348161</td>\n",
              "      <td>Set3</td>\n",
              "      <td>A3</td>\n",
              "      <td>A1</td>\n",
              "      <td>BC54DA9B-E07D-4E21-8DB1-CC714427C684.png</td>\n",
              "    </tr>\n",
              "  </tbody>\n",
              "</table>\n",
              "</div>\n",
              "      <button class=\"colab-df-convert\" onclick=\"convertToInteractive('df-7b68a995-361a-4f42-bba4-4dd824ba8577')\"\n",
              "              title=\"Convert this dataframe to an interactive table.\"\n",
              "              style=\"display:none;\">\n",
              "        \n",
              "  <svg xmlns=\"http://www.w3.org/2000/svg\" height=\"24px\"viewBox=\"0 0 24 24\"\n",
              "       width=\"24px\">\n",
              "    <path d=\"M0 0h24v24H0V0z\" fill=\"none\"/>\n",
              "    <path d=\"M18.56 5.44l.94 2.06.94-2.06 2.06-.94-2.06-.94-.94-2.06-.94 2.06-2.06.94zm-11 1L8.5 8.5l.94-2.06 2.06-.94-2.06-.94L8.5 2.5l-.94 2.06-2.06.94zm10 10l.94 2.06.94-2.06 2.06-.94-2.06-.94-.94-2.06-.94 2.06-2.06.94z\"/><path d=\"M17.41 7.96l-1.37-1.37c-.4-.4-.92-.59-1.43-.59-.52 0-1.04.2-1.43.59L10.3 9.45l-7.72 7.72c-.78.78-.78 2.05 0 2.83L4 21.41c.39.39.9.59 1.41.59.51 0 1.02-.2 1.41-.59l7.78-7.78 2.81-2.81c.8-.78.8-2.07 0-2.86zM5.41 20L4 18.59l7.72-7.72 1.47 1.35L5.41 20z\"/>\n",
              "  </svg>\n",
              "      </button>\n",
              "      \n",
              "  <style>\n",
              "    .colab-df-container {\n",
              "      display:flex;\n",
              "      flex-wrap:wrap;\n",
              "      gap: 12px;\n",
              "    }\n",
              "\n",
              "    .colab-df-convert {\n",
              "      background-color: #E8F0FE;\n",
              "      border: none;\n",
              "      border-radius: 50%;\n",
              "      cursor: pointer;\n",
              "      display: none;\n",
              "      fill: #1967D2;\n",
              "      height: 32px;\n",
              "      padding: 0 0 0 0;\n",
              "      width: 32px;\n",
              "    }\n",
              "\n",
              "    .colab-df-convert:hover {\n",
              "      background-color: #E2EBFA;\n",
              "      box-shadow: 0px 1px 2px rgba(60, 64, 67, 0.3), 0px 1px 3px 1px rgba(60, 64, 67, 0.15);\n",
              "      fill: #174EA6;\n",
              "    }\n",
              "\n",
              "    [theme=dark] .colab-df-convert {\n",
              "      background-color: #3B4455;\n",
              "      fill: #D2E3FC;\n",
              "    }\n",
              "\n",
              "    [theme=dark] .colab-df-convert:hover {\n",
              "      background-color: #434B5C;\n",
              "      box-shadow: 0px 1px 3px 1px rgba(0, 0, 0, 0.15);\n",
              "      filter: drop-shadow(0px 1px 2px rgba(0, 0, 0, 0.3));\n",
              "      fill: #FFFFFF;\n",
              "    }\n",
              "  </style>\n",
              "\n",
              "      <script>\n",
              "        const buttonEl =\n",
              "          document.querySelector('#df-7b68a995-361a-4f42-bba4-4dd824ba8577 button.colab-df-convert');\n",
              "        buttonEl.style.display =\n",
              "          google.colab.kernel.accessAllowed ? 'block' : 'none';\n",
              "\n",
              "        async function convertToInteractive(key) {\n",
              "          const element = document.querySelector('#df-7b68a995-361a-4f42-bba4-4dd824ba8577');\n",
              "          const dataTable =\n",
              "            await google.colab.kernel.invokeFunction('convertToInteractive',\n",
              "                                                     [key], {});\n",
              "          if (!dataTable) return;\n",
              "\n",
              "          const docLinkHtml = 'Like what you see? Visit the ' +\n",
              "            '<a target=\"_blank\" href=https://colab.research.google.com/notebooks/data_table.ipynb>data table notebook</a>'\n",
              "            + ' to learn more about interactive tables.';\n",
              "          element.innerHTML = '';\n",
              "          dataTable['output_type'] = 'display_data';\n",
              "          await google.colab.output.renderOutput(dataTable, element);\n",
              "          const docLink = document.createElement('div');\n",
              "          docLink.innerHTML = docLinkHtml;\n",
              "          element.appendChild(docLink);\n",
              "        }\n",
              "      </script>\n",
              "    </div>\n",
              "  </div>\n",
              "  "
            ],
            "text/plain": [
              "        R-ref       G-ref  ...  Shad                                       Img\n",
              "0  243.562937  231.555264  ...    A1  66373A06-43CB-4E73-84DA-6B504F4F1C45.png\n",
              "1  242.855769  230.894619  ...    A1  F87BFB23-54A6-48EC-95AB-B690B56F7934.png\n",
              "2  243.108197  231.144231  ...    A1  67DEF170-ED6C-468A-AC90-9DF1ED4C4091.png\n",
              "3  243.268454  231.407828  ...    A1  861A0A06-2BEB-4C2D-9ECD-F753ACF6F036.png\n",
              "4  243.186869  231.041278  ...    A1  BC54DA9B-E07D-4E21-8DB1-CC714427C684.png\n",
              "\n",
              "[5 rows x 16 columns]"
            ]
          },
          "metadata": {},
          "execution_count": 86
        }
      ]
    },
    {
      "cell_type": "code",
      "source": [
        "table_A3Set4 = pd.read_excel(Set4, sheet_name='A3Set4')\n",
        "table_A3Set4.head()"
      ],
      "metadata": {
        "id": "xIyAZBAZh0lf",
        "outputId": "16781cf7-78b9-4dd1-8e2c-c081464261f9",
        "colab": {
          "base_uri": "https://localhost:8080/",
          "height": 337
        }
      },
      "execution_count": 87,
      "outputs": [
        {
          "output_type": "execute_result",
          "data": {
            "text/html": [
              "\n",
              "  <div id=\"df-0685b5c9-6aa7-4d16-9421-93690d5d7ffd\">\n",
              "    <div class=\"colab-df-container\">\n",
              "      <div>\n",
              "<style scoped>\n",
              "    .dataframe tbody tr th:only-of-type {\n",
              "        vertical-align: middle;\n",
              "    }\n",
              "\n",
              "    .dataframe tbody tr th {\n",
              "        vertical-align: top;\n",
              "    }\n",
              "\n",
              "    .dataframe thead th {\n",
              "        text-align: right;\n",
              "    }\n",
              "</style>\n",
              "<table border=\"1\" class=\"dataframe\">\n",
              "  <thead>\n",
              "    <tr style=\"text-align: right;\">\n",
              "      <th></th>\n",
              "      <th>R-ref</th>\n",
              "      <th>G-ref</th>\n",
              "      <th>B-ref</th>\n",
              "      <th>R-Shad</th>\n",
              "      <th>G-Shad</th>\n",
              "      <th>B-Shad</th>\n",
              "      <th>H-ref</th>\n",
              "      <th>S-ref</th>\n",
              "      <th>V-ref</th>\n",
              "      <th>H-Shad</th>\n",
              "      <th>S-Shad</th>\n",
              "      <th>V-Shad</th>\n",
              "      <th>Set4</th>\n",
              "      <th>Ref</th>\n",
              "      <th>Shad</th>\n",
              "      <th>Img</th>\n",
              "    </tr>\n",
              "  </thead>\n",
              "  <tbody>\n",
              "    <tr>\n",
              "      <th>0</th>\n",
              "      <td>228.077603</td>\n",
              "      <td>204.519328</td>\n",
              "      <td>144.416764</td>\n",
              "      <td>235.611528</td>\n",
              "      <td>218.485497</td>\n",
              "      <td>174.603744</td>\n",
              "      <td>21.423368</td>\n",
              "      <td>93.584887</td>\n",
              "      <td>228.077603</td>\n",
              "      <td>21.936985</td>\n",
              "      <td>66.010564</td>\n",
              "      <td>235.611528</td>\n",
              "      <td>Set4</td>\n",
              "      <td>A3</td>\n",
              "      <td>A1</td>\n",
              "      <td>DC980AD2-81DD-4EAE-80D5-0CDDA83B06E7.png</td>\n",
              "    </tr>\n",
              "    <tr>\n",
              "      <th>1</th>\n",
              "      <td>231.544599</td>\n",
              "      <td>214.478370</td>\n",
              "      <td>170.378622</td>\n",
              "      <td>231.217125</td>\n",
              "      <td>214.152265</td>\n",
              "      <td>170.137330</td>\n",
              "      <td>22.000000</td>\n",
              "      <td>67.372778</td>\n",
              "      <td>231.544599</td>\n",
              "      <td>21.998009</td>\n",
              "      <td>67.377996</td>\n",
              "      <td>231.217125</td>\n",
              "      <td>Set4</td>\n",
              "      <td>A3</td>\n",
              "      <td>A1</td>\n",
              "      <td>5D10BAC5-8F2F-4EAC-86CE-FBA2AB6F50DD.png</td>\n",
              "    </tr>\n",
              "    <tr>\n",
              "      <th>2</th>\n",
              "      <td>226.812191</td>\n",
              "      <td>209.496226</td>\n",
              "      <td>165.074669</td>\n",
              "      <td>226.556859</td>\n",
              "      <td>209.166702</td>\n",
              "      <td>164.849442</td>\n",
              "      <td>21.868193</td>\n",
              "      <td>69.416930</td>\n",
              "      <td>226.812191</td>\n",
              "      <td>21.831591</td>\n",
              "      <td>69.466325</td>\n",
              "      <td>226.556859</td>\n",
              "      <td>Set4</td>\n",
              "      <td>A3</td>\n",
              "      <td>A1</td>\n",
              "      <td>E974AE96-AD14-4660-857A-2B63C16E8EB1.png</td>\n",
              "    </tr>\n",
              "    <tr>\n",
              "      <th>3</th>\n",
              "      <td>232.169223</td>\n",
              "      <td>214.141790</td>\n",
              "      <td>169.744664</td>\n",
              "      <td>231.777114</td>\n",
              "      <td>213.747244</td>\n",
              "      <td>169.416827</td>\n",
              "      <td>21.652707</td>\n",
              "      <td>68.546060</td>\n",
              "      <td>232.169223</td>\n",
              "      <td>21.642060</td>\n",
              "      <td>68.596188</td>\n",
              "      <td>231.777114</td>\n",
              "      <td>Set4</td>\n",
              "      <td>A3</td>\n",
              "      <td>A1</td>\n",
              "      <td>16DB511D-570A-4F94-808B-93F9C47B4CE9.png</td>\n",
              "    </tr>\n",
              "    <tr>\n",
              "      <th>4</th>\n",
              "      <td>232.451830</td>\n",
              "      <td>213.986852</td>\n",
              "      <td>169.900333</td>\n",
              "      <td>232.075172</td>\n",
              "      <td>213.621933</td>\n",
              "      <td>169.580684</td>\n",
              "      <td>21.427157</td>\n",
              "      <td>68.629738</td>\n",
              "      <td>232.451830</td>\n",
              "      <td>21.422658</td>\n",
              "      <td>68.680037</td>\n",
              "      <td>232.075172</td>\n",
              "      <td>Set4</td>\n",
              "      <td>A3</td>\n",
              "      <td>A1</td>\n",
              "      <td>1035897E-D1B4-4245-BE07-6C461520AF33.png</td>\n",
              "    </tr>\n",
              "  </tbody>\n",
              "</table>\n",
              "</div>\n",
              "      <button class=\"colab-df-convert\" onclick=\"convertToInteractive('df-0685b5c9-6aa7-4d16-9421-93690d5d7ffd')\"\n",
              "              title=\"Convert this dataframe to an interactive table.\"\n",
              "              style=\"display:none;\">\n",
              "        \n",
              "  <svg xmlns=\"http://www.w3.org/2000/svg\" height=\"24px\"viewBox=\"0 0 24 24\"\n",
              "       width=\"24px\">\n",
              "    <path d=\"M0 0h24v24H0V0z\" fill=\"none\"/>\n",
              "    <path d=\"M18.56 5.44l.94 2.06.94-2.06 2.06-.94-2.06-.94-.94-2.06-.94 2.06-2.06.94zm-11 1L8.5 8.5l.94-2.06 2.06-.94-2.06-.94L8.5 2.5l-.94 2.06-2.06.94zm10 10l.94 2.06.94-2.06 2.06-.94-2.06-.94-.94-2.06-.94 2.06-2.06.94z\"/><path d=\"M17.41 7.96l-1.37-1.37c-.4-.4-.92-.59-1.43-.59-.52 0-1.04.2-1.43.59L10.3 9.45l-7.72 7.72c-.78.78-.78 2.05 0 2.83L4 21.41c.39.39.9.59 1.41.59.51 0 1.02-.2 1.41-.59l7.78-7.78 2.81-2.81c.8-.78.8-2.07 0-2.86zM5.41 20L4 18.59l7.72-7.72 1.47 1.35L5.41 20z\"/>\n",
              "  </svg>\n",
              "      </button>\n",
              "      \n",
              "  <style>\n",
              "    .colab-df-container {\n",
              "      display:flex;\n",
              "      flex-wrap:wrap;\n",
              "      gap: 12px;\n",
              "    }\n",
              "\n",
              "    .colab-df-convert {\n",
              "      background-color: #E8F0FE;\n",
              "      border: none;\n",
              "      border-radius: 50%;\n",
              "      cursor: pointer;\n",
              "      display: none;\n",
              "      fill: #1967D2;\n",
              "      height: 32px;\n",
              "      padding: 0 0 0 0;\n",
              "      width: 32px;\n",
              "    }\n",
              "\n",
              "    .colab-df-convert:hover {\n",
              "      background-color: #E2EBFA;\n",
              "      box-shadow: 0px 1px 2px rgba(60, 64, 67, 0.3), 0px 1px 3px 1px rgba(60, 64, 67, 0.15);\n",
              "      fill: #174EA6;\n",
              "    }\n",
              "\n",
              "    [theme=dark] .colab-df-convert {\n",
              "      background-color: #3B4455;\n",
              "      fill: #D2E3FC;\n",
              "    }\n",
              "\n",
              "    [theme=dark] .colab-df-convert:hover {\n",
              "      background-color: #434B5C;\n",
              "      box-shadow: 0px 1px 3px 1px rgba(0, 0, 0, 0.15);\n",
              "      filter: drop-shadow(0px 1px 2px rgba(0, 0, 0, 0.3));\n",
              "      fill: #FFFFFF;\n",
              "    }\n",
              "  </style>\n",
              "\n",
              "      <script>\n",
              "        const buttonEl =\n",
              "          document.querySelector('#df-0685b5c9-6aa7-4d16-9421-93690d5d7ffd button.colab-df-convert');\n",
              "        buttonEl.style.display =\n",
              "          google.colab.kernel.accessAllowed ? 'block' : 'none';\n",
              "\n",
              "        async function convertToInteractive(key) {\n",
              "          const element = document.querySelector('#df-0685b5c9-6aa7-4d16-9421-93690d5d7ffd');\n",
              "          const dataTable =\n",
              "            await google.colab.kernel.invokeFunction('convertToInteractive',\n",
              "                                                     [key], {});\n",
              "          if (!dataTable) return;\n",
              "\n",
              "          const docLinkHtml = 'Like what you see? Visit the ' +\n",
              "            '<a target=\"_blank\" href=https://colab.research.google.com/notebooks/data_table.ipynb>data table notebook</a>'\n",
              "            + ' to learn more about interactive tables.';\n",
              "          element.innerHTML = '';\n",
              "          dataTable['output_type'] = 'display_data';\n",
              "          await google.colab.output.renderOutput(dataTable, element);\n",
              "          const docLink = document.createElement('div');\n",
              "          docLink.innerHTML = docLinkHtml;\n",
              "          element.appendChild(docLink);\n",
              "        }\n",
              "      </script>\n",
              "    </div>\n",
              "  </div>\n",
              "  "
            ],
            "text/plain": [
              "        R-ref       G-ref  ...  Shad                                       Img\n",
              "0  228.077603  204.519328  ...    A1  DC980AD2-81DD-4EAE-80D5-0CDDA83B06E7.png\n",
              "1  231.544599  214.478370  ...    A1  5D10BAC5-8F2F-4EAC-86CE-FBA2AB6F50DD.png\n",
              "2  226.812191  209.496226  ...    A1  E974AE96-AD14-4660-857A-2B63C16E8EB1.png\n",
              "3  232.169223  214.141790  ...    A1  16DB511D-570A-4F94-808B-93F9C47B4CE9.png\n",
              "4  232.451830  213.986852  ...    A1  1035897E-D1B4-4245-BE07-6C461520AF33.png\n",
              "\n",
              "[5 rows x 16 columns]"
            ]
          },
          "metadata": {},
          "execution_count": 87
        }
      ]
    },
    {
      "cell_type": "markdown",
      "source": [
        "###RGB"
      ],
      "metadata": {
        "id": "HoVTXFtnh0lf"
      }
    },
    {
      "cell_type": "code",
      "source": [
        "RGB_A3_Set4 = table_A3Set4"
      ],
      "metadata": {
        "id": "lQ8OpvzEmQH-"
      },
      "execution_count": 88,
      "outputs": []
    },
    {
      "cell_type": "code",
      "source": [
        "RGB_A3_Set1 = table_A3Set1"
      ],
      "metadata": {
        "id": "LDbpm3y5h0lf"
      },
      "execution_count": 89,
      "outputs": []
    },
    {
      "cell_type": "code",
      "source": [
        "RGB_A3_Set2 = table_A3Set2"
      ],
      "metadata": {
        "id": "NMWz_zI0h0lf"
      },
      "execution_count": 90,
      "outputs": []
    },
    {
      "cell_type": "code",
      "source": [
        "RGB_A3_Set3 = table_A3Set3"
      ],
      "metadata": {
        "id": "cfWy2gTYh0lg"
      },
      "execution_count": 91,
      "outputs": []
    },
    {
      "cell_type": "code",
      "source": [
        "RGB_A3_concat = pd.concat([RGB_A3_Set1,RGB_A3_Set2])"
      ],
      "metadata": {
        "id": "k7aUPhUXmU4j"
      },
      "execution_count": 92,
      "outputs": []
    },
    {
      "cell_type": "code",
      "source": [
        "RGB_A3_concat0 = pd.concat([RGB_A3_concat,RGB_A3_Set4])"
      ],
      "metadata": {
        "id": "JFtU4ULCh0lg"
      },
      "execution_count": 93,
      "outputs": []
    },
    {
      "cell_type": "code",
      "source": [
        "RGB_A3_concat1 = pd.concat([RGB_A3_concat0,RGB_A3_Set3])"
      ],
      "metadata": {
        "id": "jLZT-LMch0lg"
      },
      "execution_count": 94,
      "outputs": []
    },
    {
      "cell_type": "code",
      "source": [
        "RGB_A3_concat2 = RGB_A3_concat1.drop(['H-ref','S-ref','V-ref','H-Shad','S-Shad','V-Shad','Setting','Ref','Shad','Img','Setting','Set4'], axis=1)"
      ],
      "metadata": {
        "id": "giMn7WiRh0lg"
      },
      "execution_count": 95,
      "outputs": []
    },
    {
      "cell_type": "code",
      "source": [
        "X_test_A3_RGB = np.array(RGB_D3_CC1)"
      ],
      "metadata": {
        "id": "t2Oh3U-6h0lg"
      },
      "execution_count": 96,
      "outputs": []
    },
    {
      "cell_type": "code",
      "source": [
        "y_A3_RGB =  table_D3CC1.iloc[:,14:15]"
      ],
      "metadata": {
        "id": "c5mW71sgh0lg"
      },
      "execution_count": 97,
      "outputs": []
    },
    {
      "cell_type": "code",
      "source": [
        "y_test_A3_RGB = np.array(y_A3_RGB)"
      ],
      "metadata": {
        "id": "vFW4TBk2h0lg"
      },
      "execution_count": 98,
      "outputs": []
    },
    {
      "cell_type": "code",
      "source": [
        "X_train_A3_RGB = np.array(RGB_A3_concat2)"
      ],
      "metadata": {
        "id": "FrKDluEmh0lg"
      },
      "execution_count": 99,
      "outputs": []
    },
    {
      "cell_type": "code",
      "source": [
        "y_train_A3RGB = RGB_A3_concat1.iloc[:,14:15]"
      ],
      "metadata": {
        "id": "qhAriA-9h0lg"
      },
      "execution_count": 100,
      "outputs": []
    },
    {
      "cell_type": "code",
      "source": [
        "y_train_A3_RGB = np.array(y_train_A3RGB)"
      ],
      "metadata": {
        "id": "mFmZVCgZh0lg"
      },
      "execution_count": 101,
      "outputs": []
    },
    {
      "cell_type": "code",
      "source": [
        "clf.fit(X_train_A3_RGB, y_train_A3_RGB)"
      ],
      "metadata": {
        "id": "tj0T259Ih0lh",
        "outputId": "30fe853b-656f-41ba-901b-1296622013f9",
        "colab": {
          "base_uri": "https://localhost:8080/"
        }
      },
      "execution_count": 102,
      "outputs": [
        {
          "output_type": "stream",
          "name": "stderr",
          "text": [
            "/usr/local/lib/python3.7/dist-packages/ipykernel_launcher.py:1: DataConversionWarning: A column-vector y was passed when a 1d array was expected. Please change the shape of y to (n_samples,), for example using ravel().\n",
            "  \"\"\"Entry point for launching an IPython kernel.\n"
          ]
        },
        {
          "output_type": "execute_result",
          "data": {
            "text/plain": [
              "RandomForestClassifier()"
            ]
          },
          "metadata": {},
          "execution_count": 102
        }
      ]
    },
    {
      "cell_type": "code",
      "source": [
        "y_pred_A3_RGB = clf.predict(X_test_A3_RGB)"
      ],
      "metadata": {
        "id": "nFB2J2xSh0lh"
      },
      "execution_count": 103,
      "outputs": []
    },
    {
      "cell_type": "code",
      "source": [
        "print(\"Accuracy:\", metrics.accuracy_score(y_test_A3_RGB, y_pred_A3_RGB))"
      ],
      "metadata": {
        "id": "o6T3HmYeh0lh",
        "outputId": "5d3b39b7-0926-4098-e78b-8c18d33bdcbe",
        "colab": {
          "base_uri": "https://localhost:8080/"
        }
      },
      "execution_count": 104,
      "outputs": [
        {
          "output_type": "stream",
          "name": "stdout",
          "text": [
            "Accuracy: 0.1\n"
          ]
        }
      ]
    },
    {
      "cell_type": "markdown",
      "source": [
        "###HSV"
      ],
      "metadata": {
        "id": "7fRDUIm4h0lh"
      }
    },
    {
      "cell_type": "code",
      "source": [
        "HSV_A3_concat2 = RGB_A3_concat1.drop(['R-ref','G-ref','B-ref','R-Shad','G-Shad','B-Shad','Setting','Ref','Shad','Img','Set4'], axis=1)"
      ],
      "metadata": {
        "id": "3dB7gOBuh0li"
      },
      "execution_count": 105,
      "outputs": []
    },
    {
      "cell_type": "code",
      "source": [
        "X_test_A3_HSV = np.array(HSV_D3_CC1)"
      ],
      "metadata": {
        "id": "fyV1KV7eh0li"
      },
      "execution_count": 106,
      "outputs": []
    },
    {
      "cell_type": "code",
      "source": [
        "y_A3_HSV =  table_D3CC1.iloc[:,14:15]"
      ],
      "metadata": {
        "id": "3s_tC7uuh0li"
      },
      "execution_count": 107,
      "outputs": []
    },
    {
      "cell_type": "code",
      "source": [
        "y_test_A3_HSV = np.array(y_A3_RGB)"
      ],
      "metadata": {
        "id": "ee6hCQxLh0li"
      },
      "execution_count": 108,
      "outputs": []
    },
    {
      "cell_type": "code",
      "source": [
        "X_train_A3_HSV = np.array(HSV_A3_concat2)"
      ],
      "metadata": {
        "id": "I4eE7wQBh0li"
      },
      "execution_count": 109,
      "outputs": []
    },
    {
      "cell_type": "code",
      "source": [
        "y_train_A3HSV = RGB_A3_concat1.iloc[:,14:15]"
      ],
      "metadata": {
        "id": "C4FhoMswh0li"
      },
      "execution_count": 110,
      "outputs": []
    },
    {
      "cell_type": "code",
      "source": [
        "y_train_A3_HSV = np.array(y_train_A3HSV)"
      ],
      "metadata": {
        "id": "YLC-DmyLh0li"
      },
      "execution_count": 111,
      "outputs": []
    },
    {
      "cell_type": "code",
      "source": [
        "clf.fit(X_train_A3_HSV, y_train_A3_HSV)"
      ],
      "metadata": {
        "id": "ofA6k6FYh0li",
        "outputId": "24bfb296-2af5-427c-98a1-5b7b73aecf1d",
        "colab": {
          "base_uri": "https://localhost:8080/"
        }
      },
      "execution_count": 112,
      "outputs": [
        {
          "output_type": "stream",
          "name": "stderr",
          "text": [
            "/usr/local/lib/python3.7/dist-packages/ipykernel_launcher.py:1: DataConversionWarning: A column-vector y was passed when a 1d array was expected. Please change the shape of y to (n_samples,), for example using ravel().\n",
            "  \"\"\"Entry point for launching an IPython kernel.\n"
          ]
        },
        {
          "output_type": "execute_result",
          "data": {
            "text/plain": [
              "RandomForestClassifier()"
            ]
          },
          "metadata": {},
          "execution_count": 112
        }
      ]
    },
    {
      "cell_type": "code",
      "source": [
        "y_pred_A3_HSV = clf.predict(X_test_A3_HSV)"
      ],
      "metadata": {
        "id": "qKQL86MOh0lj"
      },
      "execution_count": 113,
      "outputs": []
    },
    {
      "cell_type": "code",
      "source": [
        "print(\"Accuracy:\", metrics.accuracy_score(y_test_A3_HSV, y_pred_A3_HSV))"
      ],
      "metadata": {
        "id": "2lCd48LPh0lj",
        "outputId": "f2d7eba7-0bde-4f32-96f7-eeed97b15598",
        "colab": {
          "base_uri": "https://localhost:8080/"
        }
      },
      "execution_count": 114,
      "outputs": [
        {
          "output_type": "stream",
          "name": "stdout",
          "text": [
            "Accuracy: 0.07125\n"
          ]
        }
      ]
    },
    {
      "cell_type": "markdown",
      "source": [
        "##A3.5"
      ],
      "metadata": {
        "id": "480etiaejoWu"
      }
    },
    {
      "cell_type": "code",
      "source": [
        "table_A3_5Set1 = pd.read_excel(Set1 , sheet_name='A3.5Set1 ')\n",
        "table_A3_5Set1.head()"
      ],
      "metadata": {
        "id": "mXi7Gb9pjoWu",
        "outputId": "eb6930db-2254-4038-8593-232ec7706c46",
        "colab": {
          "base_uri": "https://localhost:8080/",
          "height": 0
        }
      },
      "execution_count": 115,
      "outputs": [
        {
          "output_type": "execute_result",
          "data": {
            "text/html": [
              "\n",
              "  <div id=\"df-7549adea-705e-440d-8d8d-7c7e8b3563f7\">\n",
              "    <div class=\"colab-df-container\">\n",
              "      <div>\n",
              "<style scoped>\n",
              "    .dataframe tbody tr th:only-of-type {\n",
              "        vertical-align: middle;\n",
              "    }\n",
              "\n",
              "    .dataframe tbody tr th {\n",
              "        vertical-align: top;\n",
              "    }\n",
              "\n",
              "    .dataframe thead th {\n",
              "        text-align: right;\n",
              "    }\n",
              "</style>\n",
              "<table border=\"1\" class=\"dataframe\">\n",
              "  <thead>\n",
              "    <tr style=\"text-align: right;\">\n",
              "      <th></th>\n",
              "      <th>R-ref</th>\n",
              "      <th>G-ref</th>\n",
              "      <th>B-ref</th>\n",
              "      <th>R-Shad</th>\n",
              "      <th>G-Shad</th>\n",
              "      <th>B-Shad</th>\n",
              "      <th>H-ref</th>\n",
              "      <th>S-ref</th>\n",
              "      <th>V-ref</th>\n",
              "      <th>H-Shad</th>\n",
              "      <th>S-Shad</th>\n",
              "      <th>V-Shad</th>\n",
              "      <th>Setting</th>\n",
              "      <th>Ref</th>\n",
              "      <th>Shad</th>\n",
              "      <th>Img</th>\n",
              "    </tr>\n",
              "  </thead>\n",
              "  <tbody>\n",
              "    <tr>\n",
              "      <th>0</th>\n",
              "      <td>235.604172</td>\n",
              "      <td>216.610178</td>\n",
              "      <td>164.848389</td>\n",
              "      <td>235.976958</td>\n",
              "      <td>217.403599</td>\n",
              "      <td>166.420454</td>\n",
              "      <td>22.115332</td>\n",
              "      <td>76.688256</td>\n",
              "      <td>235.604172</td>\n",
              "      <td>22.152194</td>\n",
              "      <td>75.288457</td>\n",
              "      <td>235.976958</td>\n",
              "      <td>Set1</td>\n",
              "      <td>A3.5</td>\n",
              "      <td>A1</td>\n",
              "      <td>2DD07CB7-0413-41D5-BE23-51CA3C9164F5.png</td>\n",
              "    </tr>\n",
              "    <tr>\n",
              "      <th>1</th>\n",
              "      <td>243.562937</td>\n",
              "      <td>231.555264</td>\n",
              "      <td>199.463967</td>\n",
              "      <td>238.943657</td>\n",
              "      <td>225.964044</td>\n",
              "      <td>192.240386</td>\n",
              "      <td>21.546474</td>\n",
              "      <td>49.878232</td>\n",
              "      <td>238.943657</td>\n",
              "      <td>21.546474</td>\n",
              "      <td>49.878232</td>\n",
              "      <td>238.943657</td>\n",
              "      <td>Set1</td>\n",
              "      <td>A3.5</td>\n",
              "      <td>A1</td>\n",
              "      <td>F28F074F-5B54-424C-8E70-EC56E06FC3E0.png</td>\n",
              "    </tr>\n",
              "    <tr>\n",
              "      <th>2</th>\n",
              "      <td>242.855769</td>\n",
              "      <td>230.894619</td>\n",
              "      <td>198.359460</td>\n",
              "      <td>238.431285</td>\n",
              "      <td>225.416829</td>\n",
              "      <td>191.849504</td>\n",
              "      <td>21.482995</td>\n",
              "      <td>49.884533</td>\n",
              "      <td>238.431285</td>\n",
              "      <td>21.482995</td>\n",
              "      <td>49.884533</td>\n",
              "      <td>238.431285</td>\n",
              "      <td>Set1</td>\n",
              "      <td>A3.5</td>\n",
              "      <td>A1</td>\n",
              "      <td>6ABA4B94-D8B3-48BA-B1FA-6B5A081F40D1.png</td>\n",
              "    </tr>\n",
              "    <tr>\n",
              "      <th>3</th>\n",
              "      <td>243.108197</td>\n",
              "      <td>231.144231</td>\n",
              "      <td>199.196775</td>\n",
              "      <td>238.676768</td>\n",
              "      <td>225.718006</td>\n",
              "      <td>192.151700</td>\n",
              "      <td>21.513391</td>\n",
              "      <td>49.759244</td>\n",
              "      <td>238.676768</td>\n",
              "      <td>21.513391</td>\n",
              "      <td>49.759244</td>\n",
              "      <td>238.676768</td>\n",
              "      <td>Set1</td>\n",
              "      <td>A3.5</td>\n",
              "      <td>A1</td>\n",
              "      <td>6B5870DF-9D32-4295-9D0E-F1DDA4ABD18F.png</td>\n",
              "    </tr>\n",
              "    <tr>\n",
              "      <th>4</th>\n",
              "      <td>243.268454</td>\n",
              "      <td>231.407828</td>\n",
              "      <td>198.849165</td>\n",
              "      <td>238.443332</td>\n",
              "      <td>225.841442</td>\n",
              "      <td>191.568807</td>\n",
              "      <td>21.917339</td>\n",
              "      <td>50.123251</td>\n",
              "      <td>238.443332</td>\n",
              "      <td>21.917339</td>\n",
              "      <td>50.123251</td>\n",
              "      <td>238.443332</td>\n",
              "      <td>Set1</td>\n",
              "      <td>A3.5</td>\n",
              "      <td>A1</td>\n",
              "      <td>9EBCADA0-A39C-4692-B684-A967FE6F59B5.png</td>\n",
              "    </tr>\n",
              "  </tbody>\n",
              "</table>\n",
              "</div>\n",
              "      <button class=\"colab-df-convert\" onclick=\"convertToInteractive('df-7549adea-705e-440d-8d8d-7c7e8b3563f7')\"\n",
              "              title=\"Convert this dataframe to an interactive table.\"\n",
              "              style=\"display:none;\">\n",
              "        \n",
              "  <svg xmlns=\"http://www.w3.org/2000/svg\" height=\"24px\"viewBox=\"0 0 24 24\"\n",
              "       width=\"24px\">\n",
              "    <path d=\"M0 0h24v24H0V0z\" fill=\"none\"/>\n",
              "    <path d=\"M18.56 5.44l.94 2.06.94-2.06 2.06-.94-2.06-.94-.94-2.06-.94 2.06-2.06.94zm-11 1L8.5 8.5l.94-2.06 2.06-.94-2.06-.94L8.5 2.5l-.94 2.06-2.06.94zm10 10l.94 2.06.94-2.06 2.06-.94-2.06-.94-.94-2.06-.94 2.06-2.06.94z\"/><path d=\"M17.41 7.96l-1.37-1.37c-.4-.4-.92-.59-1.43-.59-.52 0-1.04.2-1.43.59L10.3 9.45l-7.72 7.72c-.78.78-.78 2.05 0 2.83L4 21.41c.39.39.9.59 1.41.59.51 0 1.02-.2 1.41-.59l7.78-7.78 2.81-2.81c.8-.78.8-2.07 0-2.86zM5.41 20L4 18.59l7.72-7.72 1.47 1.35L5.41 20z\"/>\n",
              "  </svg>\n",
              "      </button>\n",
              "      \n",
              "  <style>\n",
              "    .colab-df-container {\n",
              "      display:flex;\n",
              "      flex-wrap:wrap;\n",
              "      gap: 12px;\n",
              "    }\n",
              "\n",
              "    .colab-df-convert {\n",
              "      background-color: #E8F0FE;\n",
              "      border: none;\n",
              "      border-radius: 50%;\n",
              "      cursor: pointer;\n",
              "      display: none;\n",
              "      fill: #1967D2;\n",
              "      height: 32px;\n",
              "      padding: 0 0 0 0;\n",
              "      width: 32px;\n",
              "    }\n",
              "\n",
              "    .colab-df-convert:hover {\n",
              "      background-color: #E2EBFA;\n",
              "      box-shadow: 0px 1px 2px rgba(60, 64, 67, 0.3), 0px 1px 3px 1px rgba(60, 64, 67, 0.15);\n",
              "      fill: #174EA6;\n",
              "    }\n",
              "\n",
              "    [theme=dark] .colab-df-convert {\n",
              "      background-color: #3B4455;\n",
              "      fill: #D2E3FC;\n",
              "    }\n",
              "\n",
              "    [theme=dark] .colab-df-convert:hover {\n",
              "      background-color: #434B5C;\n",
              "      box-shadow: 0px 1px 3px 1px rgba(0, 0, 0, 0.15);\n",
              "      filter: drop-shadow(0px 1px 2px rgba(0, 0, 0, 0.3));\n",
              "      fill: #FFFFFF;\n",
              "    }\n",
              "  </style>\n",
              "\n",
              "      <script>\n",
              "        const buttonEl =\n",
              "          document.querySelector('#df-7549adea-705e-440d-8d8d-7c7e8b3563f7 button.colab-df-convert');\n",
              "        buttonEl.style.display =\n",
              "          google.colab.kernel.accessAllowed ? 'block' : 'none';\n",
              "\n",
              "        async function convertToInteractive(key) {\n",
              "          const element = document.querySelector('#df-7549adea-705e-440d-8d8d-7c7e8b3563f7');\n",
              "          const dataTable =\n",
              "            await google.colab.kernel.invokeFunction('convertToInteractive',\n",
              "                                                     [key], {});\n",
              "          if (!dataTable) return;\n",
              "\n",
              "          const docLinkHtml = 'Like what you see? Visit the ' +\n",
              "            '<a target=\"_blank\" href=https://colab.research.google.com/notebooks/data_table.ipynb>data table notebook</a>'\n",
              "            + ' to learn more about interactive tables.';\n",
              "          element.innerHTML = '';\n",
              "          dataTable['output_type'] = 'display_data';\n",
              "          await google.colab.output.renderOutput(dataTable, element);\n",
              "          const docLink = document.createElement('div');\n",
              "          docLink.innerHTML = docLinkHtml;\n",
              "          element.appendChild(docLink);\n",
              "        }\n",
              "      </script>\n",
              "    </div>\n",
              "  </div>\n",
              "  "
            ],
            "text/plain": [
              "        R-ref       G-ref  ...  Shad                                       Img\n",
              "0  235.604172  216.610178  ...    A1  2DD07CB7-0413-41D5-BE23-51CA3C9164F5.png\n",
              "1  243.562937  231.555264  ...    A1  F28F074F-5B54-424C-8E70-EC56E06FC3E0.png\n",
              "2  242.855769  230.894619  ...    A1  6ABA4B94-D8B3-48BA-B1FA-6B5A081F40D1.png\n",
              "3  243.108197  231.144231  ...    A1  6B5870DF-9D32-4295-9D0E-F1DDA4ABD18F.png\n",
              "4  243.268454  231.407828  ...    A1  9EBCADA0-A39C-4692-B684-A967FE6F59B5.png\n",
              "\n",
              "[5 rows x 16 columns]"
            ]
          },
          "metadata": {},
          "execution_count": 115
        }
      ]
    },
    {
      "cell_type": "code",
      "source": [
        "table_A3_5Set2 = pd.read_excel(Set2, sheet_name='A3.5Set2 ')\n",
        "table_A3_5Set2.head()"
      ],
      "metadata": {
        "id": "VRLDuDVJjoWu",
        "outputId": "704bb926-4780-4f03-914e-99d434c7ca3d",
        "colab": {
          "base_uri": "https://localhost:8080/",
          "height": 0
        }
      },
      "execution_count": 116,
      "outputs": [
        {
          "output_type": "execute_result",
          "data": {
            "text/html": [
              "\n",
              "  <div id=\"df-99503dc5-c464-4254-8fbe-00576280628f\">\n",
              "    <div class=\"colab-df-container\">\n",
              "      <div>\n",
              "<style scoped>\n",
              "    .dataframe tbody tr th:only-of-type {\n",
              "        vertical-align: middle;\n",
              "    }\n",
              "\n",
              "    .dataframe tbody tr th {\n",
              "        vertical-align: top;\n",
              "    }\n",
              "\n",
              "    .dataframe thead th {\n",
              "        text-align: right;\n",
              "    }\n",
              "</style>\n",
              "<table border=\"1\" class=\"dataframe\">\n",
              "  <thead>\n",
              "    <tr style=\"text-align: right;\">\n",
              "      <th></th>\n",
              "      <th>R-ref</th>\n",
              "      <th>G-ref</th>\n",
              "      <th>B-ref</th>\n",
              "      <th>R-Shad</th>\n",
              "      <th>G-Shad</th>\n",
              "      <th>B-Shad</th>\n",
              "      <th>H-ref</th>\n",
              "      <th>S-ref</th>\n",
              "      <th>V-ref</th>\n",
              "      <th>H-Shad</th>\n",
              "      <th>S-Shad</th>\n",
              "      <th>V-Shad</th>\n",
              "      <th>Setting</th>\n",
              "      <th>Ref</th>\n",
              "      <th>Shad</th>\n",
              "      <th>Img</th>\n",
              "    </tr>\n",
              "  </thead>\n",
              "  <tbody>\n",
              "    <tr>\n",
              "      <th>0</th>\n",
              "      <td>237.548368</td>\n",
              "      <td>219.008547</td>\n",
              "      <td>168.220474</td>\n",
              "      <td>238.538319</td>\n",
              "      <td>224.430451</td>\n",
              "      <td>191.026596</td>\n",
              "      <td>22.140443</td>\n",
              "      <td>74.503399</td>\n",
              "      <td>237.548368</td>\n",
              "      <td>21.031600</td>\n",
              "      <td>50.821518</td>\n",
              "      <td>238.538319</td>\n",
              "      <td>Set2</td>\n",
              "      <td>A3.5</td>\n",
              "      <td>A1</td>\n",
              "      <td>59331E47-9409-4752-859C-BD69B64F2FC6.png</td>\n",
              "    </tr>\n",
              "    <tr>\n",
              "      <th>1</th>\n",
              "      <td>239.642580</td>\n",
              "      <td>227.445610</td>\n",
              "      <td>194.934926</td>\n",
              "      <td>234.158836</td>\n",
              "      <td>220.850246</td>\n",
              "      <td>186.944676</td>\n",
              "      <td>21.829643</td>\n",
              "      <td>47.655109</td>\n",
              "      <td>239.642580</td>\n",
              "      <td>21.499583</td>\n",
              "      <td>51.475396</td>\n",
              "      <td>234.158836</td>\n",
              "      <td>Set2</td>\n",
              "      <td>A3.5</td>\n",
              "      <td>A1</td>\n",
              "      <td>271B26B6-1BC4-4A50-9198-127569C8BF3D.png</td>\n",
              "    </tr>\n",
              "    <tr>\n",
              "      <th>2</th>\n",
              "      <td>238.823135</td>\n",
              "      <td>226.798660</td>\n",
              "      <td>193.746601</td>\n",
              "      <td>233.357705</td>\n",
              "      <td>220.292651</td>\n",
              "      <td>186.297655</td>\n",
              "      <td>22.030497</td>\n",
              "      <td>48.196873</td>\n",
              "      <td>238.823135</td>\n",
              "      <td>21.590307</td>\n",
              "      <td>51.477620</td>\n",
              "      <td>233.357705</td>\n",
              "      <td>Set2</td>\n",
              "      <td>A3.5</td>\n",
              "      <td>A1</td>\n",
              "      <td>101CF038-4C3A-400E-9C2C-6CC2F63DEEEF.png</td>\n",
              "    </tr>\n",
              "    <tr>\n",
              "      <th>3</th>\n",
              "      <td>239.165016</td>\n",
              "      <td>227.221057</td>\n",
              "      <td>194.371406</td>\n",
              "      <td>233.603003</td>\n",
              "      <td>220.727365</td>\n",
              "      <td>186.331758</td>\n",
              "      <td>21.986597</td>\n",
              "      <td>47.819347</td>\n",
              "      <td>239.165016</td>\n",
              "      <td>21.767306</td>\n",
              "      <td>51.688351</td>\n",
              "      <td>233.603003</td>\n",
              "      <td>Set2</td>\n",
              "      <td>A3.5</td>\n",
              "      <td>A1</td>\n",
              "      <td>4CA308BF-F5D3-47CB-A3C0-4D0D3CBD97AA.png</td>\n",
              "    </tr>\n",
              "    <tr>\n",
              "      <th>4</th>\n",
              "      <td>239.322261</td>\n",
              "      <td>227.482032</td>\n",
              "      <td>194.230575</td>\n",
              "      <td>233.431193</td>\n",
              "      <td>220.957001</td>\n",
              "      <td>186.217403</td>\n",
              "      <td>22.143551</td>\n",
              "      <td>48.131410</td>\n",
              "      <td>239.322261</td>\n",
              "      <td>22.081735</td>\n",
              "      <td>51.639978</td>\n",
              "      <td>233.431193</td>\n",
              "      <td>Set2</td>\n",
              "      <td>A3.5</td>\n",
              "      <td>A1</td>\n",
              "      <td>C05E2226-6B18-40E3-966D-02DE782F3404.png</td>\n",
              "    </tr>\n",
              "  </tbody>\n",
              "</table>\n",
              "</div>\n",
              "      <button class=\"colab-df-convert\" onclick=\"convertToInteractive('df-99503dc5-c464-4254-8fbe-00576280628f')\"\n",
              "              title=\"Convert this dataframe to an interactive table.\"\n",
              "              style=\"display:none;\">\n",
              "        \n",
              "  <svg xmlns=\"http://www.w3.org/2000/svg\" height=\"24px\"viewBox=\"0 0 24 24\"\n",
              "       width=\"24px\">\n",
              "    <path d=\"M0 0h24v24H0V0z\" fill=\"none\"/>\n",
              "    <path d=\"M18.56 5.44l.94 2.06.94-2.06 2.06-.94-2.06-.94-.94-2.06-.94 2.06-2.06.94zm-11 1L8.5 8.5l.94-2.06 2.06-.94-2.06-.94L8.5 2.5l-.94 2.06-2.06.94zm10 10l.94 2.06.94-2.06 2.06-.94-2.06-.94-.94-2.06-.94 2.06-2.06.94z\"/><path d=\"M17.41 7.96l-1.37-1.37c-.4-.4-.92-.59-1.43-.59-.52 0-1.04.2-1.43.59L10.3 9.45l-7.72 7.72c-.78.78-.78 2.05 0 2.83L4 21.41c.39.39.9.59 1.41.59.51 0 1.02-.2 1.41-.59l7.78-7.78 2.81-2.81c.8-.78.8-2.07 0-2.86zM5.41 20L4 18.59l7.72-7.72 1.47 1.35L5.41 20z\"/>\n",
              "  </svg>\n",
              "      </button>\n",
              "      \n",
              "  <style>\n",
              "    .colab-df-container {\n",
              "      display:flex;\n",
              "      flex-wrap:wrap;\n",
              "      gap: 12px;\n",
              "    }\n",
              "\n",
              "    .colab-df-convert {\n",
              "      background-color: #E8F0FE;\n",
              "      border: none;\n",
              "      border-radius: 50%;\n",
              "      cursor: pointer;\n",
              "      display: none;\n",
              "      fill: #1967D2;\n",
              "      height: 32px;\n",
              "      padding: 0 0 0 0;\n",
              "      width: 32px;\n",
              "    }\n",
              "\n",
              "    .colab-df-convert:hover {\n",
              "      background-color: #E2EBFA;\n",
              "      box-shadow: 0px 1px 2px rgba(60, 64, 67, 0.3), 0px 1px 3px 1px rgba(60, 64, 67, 0.15);\n",
              "      fill: #174EA6;\n",
              "    }\n",
              "\n",
              "    [theme=dark] .colab-df-convert {\n",
              "      background-color: #3B4455;\n",
              "      fill: #D2E3FC;\n",
              "    }\n",
              "\n",
              "    [theme=dark] .colab-df-convert:hover {\n",
              "      background-color: #434B5C;\n",
              "      box-shadow: 0px 1px 3px 1px rgba(0, 0, 0, 0.15);\n",
              "      filter: drop-shadow(0px 1px 2px rgba(0, 0, 0, 0.3));\n",
              "      fill: #FFFFFF;\n",
              "    }\n",
              "  </style>\n",
              "\n",
              "      <script>\n",
              "        const buttonEl =\n",
              "          document.querySelector('#df-99503dc5-c464-4254-8fbe-00576280628f button.colab-df-convert');\n",
              "        buttonEl.style.display =\n",
              "          google.colab.kernel.accessAllowed ? 'block' : 'none';\n",
              "\n",
              "        async function convertToInteractive(key) {\n",
              "          const element = document.querySelector('#df-99503dc5-c464-4254-8fbe-00576280628f');\n",
              "          const dataTable =\n",
              "            await google.colab.kernel.invokeFunction('convertToInteractive',\n",
              "                                                     [key], {});\n",
              "          if (!dataTable) return;\n",
              "\n",
              "          const docLinkHtml = 'Like what you see? Visit the ' +\n",
              "            '<a target=\"_blank\" href=https://colab.research.google.com/notebooks/data_table.ipynb>data table notebook</a>'\n",
              "            + ' to learn more about interactive tables.';\n",
              "          element.innerHTML = '';\n",
              "          dataTable['output_type'] = 'display_data';\n",
              "          await google.colab.output.renderOutput(dataTable, element);\n",
              "          const docLink = document.createElement('div');\n",
              "          docLink.innerHTML = docLinkHtml;\n",
              "          element.appendChild(docLink);\n",
              "        }\n",
              "      </script>\n",
              "    </div>\n",
              "  </div>\n",
              "  "
            ],
            "text/plain": [
              "        R-ref       G-ref  ...  Shad                                       Img\n",
              "0  237.548368  219.008547  ...    A1  59331E47-9409-4752-859C-BD69B64F2FC6.png\n",
              "1  239.642580  227.445610  ...    A1  271B26B6-1BC4-4A50-9198-127569C8BF3D.png\n",
              "2  238.823135  226.798660  ...    A1  101CF038-4C3A-400E-9C2C-6CC2F63DEEEF.png\n",
              "3  239.165016  227.221057  ...    A1  4CA308BF-F5D3-47CB-A3C0-4D0D3CBD97AA.png\n",
              "4  239.322261  227.482032  ...    A1  C05E2226-6B18-40E3-966D-02DE782F3404.png\n",
              "\n",
              "[5 rows x 16 columns]"
            ]
          },
          "metadata": {},
          "execution_count": 116
        }
      ]
    },
    {
      "cell_type": "code",
      "source": [
        "table_A3_5Set3 = pd.read_excel(Set3, sheet_name='A3.5Set3  ')\n",
        "table_A3_5Set3.head()"
      ],
      "metadata": {
        "id": "TkVKUMmpjoWu",
        "outputId": "3b050f12-5f35-4df7-d110-ddf9413eeaf1",
        "colab": {
          "base_uri": "https://localhost:8080/",
          "height": 0
        }
      },
      "execution_count": 117,
      "outputs": [
        {
          "output_type": "execute_result",
          "data": {
            "text/html": [
              "\n",
              "  <div id=\"df-1df97421-4299-4205-a779-a2de209327ef\">\n",
              "    <div class=\"colab-df-container\">\n",
              "      <div>\n",
              "<style scoped>\n",
              "    .dataframe tbody tr th:only-of-type {\n",
              "        vertical-align: middle;\n",
              "    }\n",
              "\n",
              "    .dataframe tbody tr th {\n",
              "        vertical-align: top;\n",
              "    }\n",
              "\n",
              "    .dataframe thead th {\n",
              "        text-align: right;\n",
              "    }\n",
              "</style>\n",
              "<table border=\"1\" class=\"dataframe\">\n",
              "  <thead>\n",
              "    <tr style=\"text-align: right;\">\n",
              "      <th></th>\n",
              "      <th>R-ref</th>\n",
              "      <th>G-ref</th>\n",
              "      <th>B-ref</th>\n",
              "      <th>R-Shad</th>\n",
              "      <th>G-Shad</th>\n",
              "      <th>B-Shad</th>\n",
              "      <th>H-ref</th>\n",
              "      <th>S-ref</th>\n",
              "      <th>V-ref</th>\n",
              "      <th>H-Shad</th>\n",
              "      <th>S-Shad</th>\n",
              "      <th>V-Shad</th>\n",
              "      <th>Setting</th>\n",
              "      <th>Ref</th>\n",
              "      <th>Shad</th>\n",
              "      <th>Img</th>\n",
              "    </tr>\n",
              "  </thead>\n",
              "  <tbody>\n",
              "    <tr>\n",
              "      <th>0</th>\n",
              "      <td>232.491259</td>\n",
              "      <td>215.427253</td>\n",
              "      <td>171.519328</td>\n",
              "      <td>230.019553</td>\n",
              "      <td>213.264665</td>\n",
              "      <td>170.068390</td>\n",
              "      <td>21.993007</td>\n",
              "      <td>66.885975</td>\n",
              "      <td>232.491259</td>\n",
              "      <td>21.990826</td>\n",
              "      <td>66.480122</td>\n",
              "      <td>230.019553</td>\n",
              "      <td>Set3</td>\n",
              "      <td>A3.5</td>\n",
              "      <td>A1</td>\n",
              "      <td>DD92C3DE-FED4-405C-A9BE-F6CB3CC67D3C.png</td>\n",
              "    </tr>\n",
              "    <tr>\n",
              "      <th>1</th>\n",
              "      <td>229.007673</td>\n",
              "      <td>211.568959</td>\n",
              "      <td>167.013792</td>\n",
              "      <td>226.595404</td>\n",
              "      <td>209.552683</td>\n",
              "      <td>166.097303</td>\n",
              "      <td>21.824009</td>\n",
              "      <td>69.038073</td>\n",
              "      <td>229.007673</td>\n",
              "      <td>21.959503</td>\n",
              "      <td>68.103976</td>\n",
              "      <td>226.595404</td>\n",
              "      <td>Set3</td>\n",
              "      <td>A3.5</td>\n",
              "      <td>A1</td>\n",
              "      <td>475DD7D4-D0A4-4875-8A88-515EC0BE2FEA.png</td>\n",
              "    </tr>\n",
              "    <tr>\n",
              "      <th>2</th>\n",
              "      <td>232.717852</td>\n",
              "      <td>214.911616</td>\n",
              "      <td>170.554390</td>\n",
              "      <td>231.051710</td>\n",
              "      <td>213.996108</td>\n",
              "      <td>170.108238</td>\n",
              "      <td>21.732032</td>\n",
              "      <td>68.092269</td>\n",
              "      <td>232.717852</td>\n",
              "      <td>21.972199</td>\n",
              "      <td>67.258085</td>\n",
              "      <td>231.051710</td>\n",
              "      <td>Set3</td>\n",
              "      <td>A3.5</td>\n",
              "      <td>A1</td>\n",
              "      <td>6A134D80-DECF-4205-B3F2-0FC7F87D6F47.png</td>\n",
              "    </tr>\n",
              "    <tr>\n",
              "      <th>3</th>\n",
              "      <td>233.155497</td>\n",
              "      <td>214.801573</td>\n",
              "      <td>170.941239</td>\n",
              "      <td>231.553146</td>\n",
              "      <td>213.022055</td>\n",
              "      <td>169.864887</td>\n",
              "      <td>21.428613</td>\n",
              "      <td>68.041278</td>\n",
              "      <td>233.155497</td>\n",
              "      <td>21.240386</td>\n",
              "      <td>67.943379</td>\n",
              "      <td>231.553146</td>\n",
              "      <td>Set3</td>\n",
              "      <td>A3.5</td>\n",
              "      <td>A1</td>\n",
              "      <td>3AF27BD7-16A3-47B3-A9D2-6F28AB0A73D4.png</td>\n",
              "    </tr>\n",
              "    <tr>\n",
              "      <th>4</th>\n",
              "      <td>233.052253</td>\n",
              "      <td>214.682595</td>\n",
              "      <td>171.406954</td>\n",
              "      <td>230.845056</td>\n",
              "      <td>213.666759</td>\n",
              "      <td>170.622185</td>\n",
              "      <td>21.316336</td>\n",
              "      <td>67.456099</td>\n",
              "      <td>233.052253</td>\n",
              "      <td>21.903438</td>\n",
              "      <td>66.561116</td>\n",
              "      <td>230.845056</td>\n",
              "      <td>Set3</td>\n",
              "      <td>A3.5</td>\n",
              "      <td>A1</td>\n",
              "      <td>F1DEE804-F5D7-48D6-A2AF-FB7B10C7C006.png</td>\n",
              "    </tr>\n",
              "  </tbody>\n",
              "</table>\n",
              "</div>\n",
              "      <button class=\"colab-df-convert\" onclick=\"convertToInteractive('df-1df97421-4299-4205-a779-a2de209327ef')\"\n",
              "              title=\"Convert this dataframe to an interactive table.\"\n",
              "              style=\"display:none;\">\n",
              "        \n",
              "  <svg xmlns=\"http://www.w3.org/2000/svg\" height=\"24px\"viewBox=\"0 0 24 24\"\n",
              "       width=\"24px\">\n",
              "    <path d=\"M0 0h24v24H0V0z\" fill=\"none\"/>\n",
              "    <path d=\"M18.56 5.44l.94 2.06.94-2.06 2.06-.94-2.06-.94-.94-2.06-.94 2.06-2.06.94zm-11 1L8.5 8.5l.94-2.06 2.06-.94-2.06-.94L8.5 2.5l-.94 2.06-2.06.94zm10 10l.94 2.06.94-2.06 2.06-.94-2.06-.94-.94-2.06-.94 2.06-2.06.94z\"/><path d=\"M17.41 7.96l-1.37-1.37c-.4-.4-.92-.59-1.43-.59-.52 0-1.04.2-1.43.59L10.3 9.45l-7.72 7.72c-.78.78-.78 2.05 0 2.83L4 21.41c.39.39.9.59 1.41.59.51 0 1.02-.2 1.41-.59l7.78-7.78 2.81-2.81c.8-.78.8-2.07 0-2.86zM5.41 20L4 18.59l7.72-7.72 1.47 1.35L5.41 20z\"/>\n",
              "  </svg>\n",
              "      </button>\n",
              "      \n",
              "  <style>\n",
              "    .colab-df-container {\n",
              "      display:flex;\n",
              "      flex-wrap:wrap;\n",
              "      gap: 12px;\n",
              "    }\n",
              "\n",
              "    .colab-df-convert {\n",
              "      background-color: #E8F0FE;\n",
              "      border: none;\n",
              "      border-radius: 50%;\n",
              "      cursor: pointer;\n",
              "      display: none;\n",
              "      fill: #1967D2;\n",
              "      height: 32px;\n",
              "      padding: 0 0 0 0;\n",
              "      width: 32px;\n",
              "    }\n",
              "\n",
              "    .colab-df-convert:hover {\n",
              "      background-color: #E2EBFA;\n",
              "      box-shadow: 0px 1px 2px rgba(60, 64, 67, 0.3), 0px 1px 3px 1px rgba(60, 64, 67, 0.15);\n",
              "      fill: #174EA6;\n",
              "    }\n",
              "\n",
              "    [theme=dark] .colab-df-convert {\n",
              "      background-color: #3B4455;\n",
              "      fill: #D2E3FC;\n",
              "    }\n",
              "\n",
              "    [theme=dark] .colab-df-convert:hover {\n",
              "      background-color: #434B5C;\n",
              "      box-shadow: 0px 1px 3px 1px rgba(0, 0, 0, 0.15);\n",
              "      filter: drop-shadow(0px 1px 2px rgba(0, 0, 0, 0.3));\n",
              "      fill: #FFFFFF;\n",
              "    }\n",
              "  </style>\n",
              "\n",
              "      <script>\n",
              "        const buttonEl =\n",
              "          document.querySelector('#df-1df97421-4299-4205-a779-a2de209327ef button.colab-df-convert');\n",
              "        buttonEl.style.display =\n",
              "          google.colab.kernel.accessAllowed ? 'block' : 'none';\n",
              "\n",
              "        async function convertToInteractive(key) {\n",
              "          const element = document.querySelector('#df-1df97421-4299-4205-a779-a2de209327ef');\n",
              "          const dataTable =\n",
              "            await google.colab.kernel.invokeFunction('convertToInteractive',\n",
              "                                                     [key], {});\n",
              "          if (!dataTable) return;\n",
              "\n",
              "          const docLinkHtml = 'Like what you see? Visit the ' +\n",
              "            '<a target=\"_blank\" href=https://colab.research.google.com/notebooks/data_table.ipynb>data table notebook</a>'\n",
              "            + ' to learn more about interactive tables.';\n",
              "          element.innerHTML = '';\n",
              "          dataTable['output_type'] = 'display_data';\n",
              "          await google.colab.output.renderOutput(dataTable, element);\n",
              "          const docLink = document.createElement('div');\n",
              "          docLink.innerHTML = docLinkHtml;\n",
              "          element.appendChild(docLink);\n",
              "        }\n",
              "      </script>\n",
              "    </div>\n",
              "  </div>\n",
              "  "
            ],
            "text/plain": [
              "        R-ref       G-ref  ...  Shad                                       Img\n",
              "0  232.491259  215.427253  ...    A1  DD92C3DE-FED4-405C-A9BE-F6CB3CC67D3C.png\n",
              "1  229.007673  211.568959  ...    A1  475DD7D4-D0A4-4875-8A88-515EC0BE2FEA.png\n",
              "2  232.717852  214.911616  ...    A1  6A134D80-DECF-4205-B3F2-0FC7F87D6F47.png\n",
              "3  233.155497  214.801573  ...    A1  3AF27BD7-16A3-47B3-A9D2-6F28AB0A73D4.png\n",
              "4  233.052253  214.682595  ...    A1  F1DEE804-F5D7-48D6-A2AF-FB7B10C7C006.png\n",
              "\n",
              "[5 rows x 16 columns]"
            ]
          },
          "metadata": {},
          "execution_count": 117
        }
      ]
    },
    {
      "cell_type": "code",
      "source": [
        "table_A3_5Set4 = pd.read_excel(Set4, sheet_name='A3.5Set4')\n",
        "table_A3_5Set4.head()"
      ],
      "metadata": {
        "id": "9_p2g-cPjoWv",
        "outputId": "b40cbeff-dd11-43e7-bc0b-b8048972aff9",
        "colab": {
          "base_uri": "https://localhost:8080/",
          "height": 0
        }
      },
      "execution_count": 118,
      "outputs": [
        {
          "output_type": "execute_result",
          "data": {
            "text/html": [
              "\n",
              "  <div id=\"df-4228607d-61da-4ef9-9a3b-e4e4289540a2\">\n",
              "    <div class=\"colab-df-container\">\n",
              "      <div>\n",
              "<style scoped>\n",
              "    .dataframe tbody tr th:only-of-type {\n",
              "        vertical-align: middle;\n",
              "    }\n",
              "\n",
              "    .dataframe tbody tr th {\n",
              "        vertical-align: top;\n",
              "    }\n",
              "\n",
              "    .dataframe thead th {\n",
              "        text-align: right;\n",
              "    }\n",
              "</style>\n",
              "<table border=\"1\" class=\"dataframe\">\n",
              "  <thead>\n",
              "    <tr style=\"text-align: right;\">\n",
              "      <th></th>\n",
              "      <th>R-ref</th>\n",
              "      <th>G-ref</th>\n",
              "      <th>B-ref</th>\n",
              "      <th>R-Shad</th>\n",
              "      <th>G-Shad</th>\n",
              "      <th>B-Shad</th>\n",
              "      <th>H-ref</th>\n",
              "      <th>S-ref</th>\n",
              "      <th>V-ref</th>\n",
              "      <th>H-Shad</th>\n",
              "      <th>S-Shad</th>\n",
              "      <th>V-Shad</th>\n",
              "      <th>Set4</th>\n",
              "      <th>Ref</th>\n",
              "      <th>Shad</th>\n",
              "      <th>Img</th>\n",
              "    </tr>\n",
              "  </thead>\n",
              "  <tbody>\n",
              "    <tr>\n",
              "      <th>0</th>\n",
              "      <td>228.276520</td>\n",
              "      <td>204.980440</td>\n",
              "      <td>144.768769</td>\n",
              "      <td>228.051632</td>\n",
              "      <td>204.716663</td>\n",
              "      <td>144.671574</td>\n",
              "      <td>21.541839</td>\n",
              "      <td>93.335849</td>\n",
              "      <td>228.276520</td>\n",
              "      <td>21.527985</td>\n",
              "      <td>93.286751</td>\n",
              "      <td>228.051632</td>\n",
              "      <td>Set4</td>\n",
              "      <td>A3.5</td>\n",
              "      <td>A1</td>\n",
              "      <td>EA18B729-21CA-4CBD-9CD9-87A230B62A73.png</td>\n",
              "    </tr>\n",
              "    <tr>\n",
              "      <th>1</th>\n",
              "      <td>235.425991</td>\n",
              "      <td>219.263695</td>\n",
              "      <td>177.827214</td>\n",
              "      <td>232.931795</td>\n",
              "      <td>217.058567</td>\n",
              "      <td>174.902604</td>\n",
              "      <td>22.025484</td>\n",
              "      <td>63.614864</td>\n",
              "      <td>232.931795</td>\n",
              "      <td>22.025484</td>\n",
              "      <td>63.614864</td>\n",
              "      <td>232.931795</td>\n",
              "      <td>Set4</td>\n",
              "      <td>A3.5</td>\n",
              "      <td>A1</td>\n",
              "      <td>6F63F3BD-AD91-4D05-A01E-F262738EC089.png</td>\n",
              "    </tr>\n",
              "    <tr>\n",
              "      <th>2</th>\n",
              "      <td>232.456488</td>\n",
              "      <td>215.038753</td>\n",
              "      <td>170.408508</td>\n",
              "      <td>230.343712</td>\n",
              "      <td>213.313502</td>\n",
              "      <td>169.960430</td>\n",
              "      <td>21.939765</td>\n",
              "      <td>66.862015</td>\n",
              "      <td>230.343712</td>\n",
              "      <td>21.939765</td>\n",
              "      <td>66.862015</td>\n",
              "      <td>230.343712</td>\n",
              "      <td>Set4</td>\n",
              "      <td>A3.5</td>\n",
              "      <td>A1</td>\n",
              "      <td>C25C23A8-8D33-471D-9F99-1D7F0A5A2256.png</td>\n",
              "    </tr>\n",
              "    <tr>\n",
              "      <th>3</th>\n",
              "      <td>235.684538</td>\n",
              "      <td>218.972611</td>\n",
              "      <td>176.287296</td>\n",
              "      <td>234.455472</td>\n",
              "      <td>217.714206</td>\n",
              "      <td>174.414883</td>\n",
              "      <td>22.017793</td>\n",
              "      <td>65.316931</td>\n",
              "      <td>234.455936</td>\n",
              "      <td>22.017793</td>\n",
              "      <td>65.316931</td>\n",
              "      <td>234.455936</td>\n",
              "      <td>Set4</td>\n",
              "      <td>A3.5</td>\n",
              "      <td>A1</td>\n",
              "      <td>C7840948-E4E4-4326-9CA7-7249FD51E66F.png</td>\n",
              "    </tr>\n",
              "    <tr>\n",
              "      <th>4</th>\n",
              "      <td>235.963481</td>\n",
              "      <td>218.680458</td>\n",
              "      <td>176.613928</td>\n",
              "      <td>234.775183</td>\n",
              "      <td>217.157631</td>\n",
              "      <td>174.290242</td>\n",
              "      <td>21.605505</td>\n",
              "      <td>65.759336</td>\n",
              "      <td>234.775276</td>\n",
              "      <td>21.605505</td>\n",
              "      <td>65.759336</td>\n",
              "      <td>234.775276</td>\n",
              "      <td>Set4</td>\n",
              "      <td>A3.5</td>\n",
              "      <td>A1</td>\n",
              "      <td>6D2686E5-1F1E-46F5-8307-2588684AE288.png</td>\n",
              "    </tr>\n",
              "  </tbody>\n",
              "</table>\n",
              "</div>\n",
              "      <button class=\"colab-df-convert\" onclick=\"convertToInteractive('df-4228607d-61da-4ef9-9a3b-e4e4289540a2')\"\n",
              "              title=\"Convert this dataframe to an interactive table.\"\n",
              "              style=\"display:none;\">\n",
              "        \n",
              "  <svg xmlns=\"http://www.w3.org/2000/svg\" height=\"24px\"viewBox=\"0 0 24 24\"\n",
              "       width=\"24px\">\n",
              "    <path d=\"M0 0h24v24H0V0z\" fill=\"none\"/>\n",
              "    <path d=\"M18.56 5.44l.94 2.06.94-2.06 2.06-.94-2.06-.94-.94-2.06-.94 2.06-2.06.94zm-11 1L8.5 8.5l.94-2.06 2.06-.94-2.06-.94L8.5 2.5l-.94 2.06-2.06.94zm10 10l.94 2.06.94-2.06 2.06-.94-2.06-.94-.94-2.06-.94 2.06-2.06.94z\"/><path d=\"M17.41 7.96l-1.37-1.37c-.4-.4-.92-.59-1.43-.59-.52 0-1.04.2-1.43.59L10.3 9.45l-7.72 7.72c-.78.78-.78 2.05 0 2.83L4 21.41c.39.39.9.59 1.41.59.51 0 1.02-.2 1.41-.59l7.78-7.78 2.81-2.81c.8-.78.8-2.07 0-2.86zM5.41 20L4 18.59l7.72-7.72 1.47 1.35L5.41 20z\"/>\n",
              "  </svg>\n",
              "      </button>\n",
              "      \n",
              "  <style>\n",
              "    .colab-df-container {\n",
              "      display:flex;\n",
              "      flex-wrap:wrap;\n",
              "      gap: 12px;\n",
              "    }\n",
              "\n",
              "    .colab-df-convert {\n",
              "      background-color: #E8F0FE;\n",
              "      border: none;\n",
              "      border-radius: 50%;\n",
              "      cursor: pointer;\n",
              "      display: none;\n",
              "      fill: #1967D2;\n",
              "      height: 32px;\n",
              "      padding: 0 0 0 0;\n",
              "      width: 32px;\n",
              "    }\n",
              "\n",
              "    .colab-df-convert:hover {\n",
              "      background-color: #E2EBFA;\n",
              "      box-shadow: 0px 1px 2px rgba(60, 64, 67, 0.3), 0px 1px 3px 1px rgba(60, 64, 67, 0.15);\n",
              "      fill: #174EA6;\n",
              "    }\n",
              "\n",
              "    [theme=dark] .colab-df-convert {\n",
              "      background-color: #3B4455;\n",
              "      fill: #D2E3FC;\n",
              "    }\n",
              "\n",
              "    [theme=dark] .colab-df-convert:hover {\n",
              "      background-color: #434B5C;\n",
              "      box-shadow: 0px 1px 3px 1px rgba(0, 0, 0, 0.15);\n",
              "      filter: drop-shadow(0px 1px 2px rgba(0, 0, 0, 0.3));\n",
              "      fill: #FFFFFF;\n",
              "    }\n",
              "  </style>\n",
              "\n",
              "      <script>\n",
              "        const buttonEl =\n",
              "          document.querySelector('#df-4228607d-61da-4ef9-9a3b-e4e4289540a2 button.colab-df-convert');\n",
              "        buttonEl.style.display =\n",
              "          google.colab.kernel.accessAllowed ? 'block' : 'none';\n",
              "\n",
              "        async function convertToInteractive(key) {\n",
              "          const element = document.querySelector('#df-4228607d-61da-4ef9-9a3b-e4e4289540a2');\n",
              "          const dataTable =\n",
              "            await google.colab.kernel.invokeFunction('convertToInteractive',\n",
              "                                                     [key], {});\n",
              "          if (!dataTable) return;\n",
              "\n",
              "          const docLinkHtml = 'Like what you see? Visit the ' +\n",
              "            '<a target=\"_blank\" href=https://colab.research.google.com/notebooks/data_table.ipynb>data table notebook</a>'\n",
              "            + ' to learn more about interactive tables.';\n",
              "          element.innerHTML = '';\n",
              "          dataTable['output_type'] = 'display_data';\n",
              "          await google.colab.output.renderOutput(dataTable, element);\n",
              "          const docLink = document.createElement('div');\n",
              "          docLink.innerHTML = docLinkHtml;\n",
              "          element.appendChild(docLink);\n",
              "        }\n",
              "      </script>\n",
              "    </div>\n",
              "  </div>\n",
              "  "
            ],
            "text/plain": [
              "        R-ref       G-ref  ...  Shad                                       Img\n",
              "0  228.276520  204.980440  ...    A1  EA18B729-21CA-4CBD-9CD9-87A230B62A73.png\n",
              "1  235.425991  219.263695  ...    A1  6F63F3BD-AD91-4D05-A01E-F262738EC089.png\n",
              "2  232.456488  215.038753  ...    A1  C25C23A8-8D33-471D-9F99-1D7F0A5A2256.png\n",
              "3  235.684538  218.972611  ...    A1  C7840948-E4E4-4326-9CA7-7249FD51E66F.png\n",
              "4  235.963481  218.680458  ...    A1  6D2686E5-1F1E-46F5-8307-2588684AE288.png\n",
              "\n",
              "[5 rows x 16 columns]"
            ]
          },
          "metadata": {},
          "execution_count": 118
        }
      ]
    },
    {
      "cell_type": "markdown",
      "source": [
        "###RGB"
      ],
      "metadata": {
        "id": "szqdEZaHjoWv"
      }
    },
    {
      "cell_type": "code",
      "source": [
        "RGB_A3_5_Set4 = table_A3_5Set4"
      ],
      "metadata": {
        "id": "k3kvC36YjoWv"
      },
      "execution_count": 119,
      "outputs": []
    },
    {
      "cell_type": "code",
      "source": [
        "RGB_A3_5_Set1 = table_A3_5Set1"
      ],
      "metadata": {
        "id": "gFpr3qLfjoWv"
      },
      "execution_count": 120,
      "outputs": []
    },
    {
      "cell_type": "code",
      "source": [
        "RGB_A3_5_Set2 = table_A3_5Set2"
      ],
      "metadata": {
        "id": "fiDM7F5XjoWv"
      },
      "execution_count": 121,
      "outputs": []
    },
    {
      "cell_type": "code",
      "source": [
        "RGB_A3_5_Set3 = table_A3_5Set3"
      ],
      "metadata": {
        "id": "LGWSiKq2joWv"
      },
      "execution_count": 122,
      "outputs": []
    },
    {
      "cell_type": "code",
      "source": [
        "RGB_A3_5_concat = pd.concat([RGB_A3_5_Set1,RGB_A3_5_Set2])"
      ],
      "metadata": {
        "id": "WqJs4BpWnJaO"
      },
      "execution_count": 123,
      "outputs": []
    },
    {
      "cell_type": "code",
      "source": [
        "RGB_A3_5_concat0 = pd.concat([RGB_A3_5_concat,RGB_A3_5_Set4])"
      ],
      "metadata": {
        "id": "mv4DzxV_joWv"
      },
      "execution_count": 124,
      "outputs": []
    },
    {
      "cell_type": "code",
      "source": [
        "RGB_A3_5_concat1 = pd.concat([RGB_A3_5_concat0,RGB_A3_5_Set3])"
      ],
      "metadata": {
        "id": "wXMoDBs2joWv"
      },
      "execution_count": 125,
      "outputs": []
    },
    {
      "cell_type": "code",
      "source": [
        "RGB_A3_5_concat2 = RGB_A3_5_concat1.drop(['H-ref','S-ref','V-ref','H-Shad','S-Shad','V-Shad','Setting','Ref','Shad','Img','Set4'], axis=1)"
      ],
      "metadata": {
        "id": "OIKxmY3pjoWv"
      },
      "execution_count": 126,
      "outputs": []
    },
    {
      "cell_type": "code",
      "source": [
        "X_test_A3_5_RGB = np.array(RGB_D3_CC1)"
      ],
      "metadata": {
        "id": "cYD4qo1XjoWw"
      },
      "execution_count": 127,
      "outputs": []
    },
    {
      "cell_type": "code",
      "source": [
        "y_A3_5_RGB =  table_D3CC1.iloc[:,14:15]"
      ],
      "metadata": {
        "id": "vJxHOjUkjoWw"
      },
      "execution_count": 128,
      "outputs": []
    },
    {
      "cell_type": "code",
      "source": [
        "y_test_A3_5_RGB = np.array(y_A3_5_RGB)"
      ],
      "metadata": {
        "id": "cobCJjzljoWw"
      },
      "execution_count": 129,
      "outputs": []
    },
    {
      "cell_type": "code",
      "source": [
        "X_train_A3_5_RGB = np.array(RGB_A3_5_concat2)"
      ],
      "metadata": {
        "id": "dfMok11LjoWw"
      },
      "execution_count": 130,
      "outputs": []
    },
    {
      "cell_type": "code",
      "source": [
        "y_train_A3_5RGB = RGB_A3_5_concat1.iloc[:,14:15]"
      ],
      "metadata": {
        "id": "MjjBCpJ4joWw"
      },
      "execution_count": 131,
      "outputs": []
    },
    {
      "cell_type": "code",
      "source": [
        "y_train_A3_5_RGB = np.array(y_train_A3_5RGB)"
      ],
      "metadata": {
        "id": "CmWagAKLjoWw"
      },
      "execution_count": 132,
      "outputs": []
    },
    {
      "cell_type": "code",
      "source": [
        "clf.fit(X_train_A3_5_RGB, y_train_A3_5_RGB)"
      ],
      "metadata": {
        "id": "9LZJjOA2joWw",
        "outputId": "c96bb3eb-f2e9-464c-a1fc-ca35fddea5c1",
        "colab": {
          "base_uri": "https://localhost:8080/"
        }
      },
      "execution_count": 133,
      "outputs": [
        {
          "output_type": "stream",
          "name": "stderr",
          "text": [
            "/usr/local/lib/python3.7/dist-packages/ipykernel_launcher.py:1: DataConversionWarning: A column-vector y was passed when a 1d array was expected. Please change the shape of y to (n_samples,), for example using ravel().\n",
            "  \"\"\"Entry point for launching an IPython kernel.\n"
          ]
        },
        {
          "output_type": "execute_result",
          "data": {
            "text/plain": [
              "RandomForestClassifier()"
            ]
          },
          "metadata": {},
          "execution_count": 133
        }
      ]
    },
    {
      "cell_type": "code",
      "source": [
        "y_pred_A3_5_RGB = clf.predict(X_test_A3_5_RGB)"
      ],
      "metadata": {
        "id": "XArHxf8ujoWw"
      },
      "execution_count": 134,
      "outputs": []
    },
    {
      "cell_type": "code",
      "source": [
        "print(\"Accuracy:\", metrics.accuracy_score(y_test_A3_5_RGB, y_pred_A3_5_RGB))"
      ],
      "metadata": {
        "id": "R2MXW1HujoWw",
        "outputId": "d47d7831-1ce0-4be6-e5dd-792c325eade6",
        "colab": {
          "base_uri": "https://localhost:8080/"
        }
      },
      "execution_count": 135,
      "outputs": [
        {
          "output_type": "stream",
          "name": "stdout",
          "text": [
            "Accuracy: 0.12625\n"
          ]
        }
      ]
    },
    {
      "cell_type": "markdown",
      "source": [
        "###HSV"
      ],
      "metadata": {
        "id": "_IExAm4gjoWx"
      }
    },
    {
      "cell_type": "code",
      "source": [
        "HSV_A3_5_concat2 = RGB_A3_5_concat1.drop(['R-ref','G-ref','B-ref','R-Shad','G-Shad','B-Shad','Setting','Ref','Shad','Img','Set4'], axis=1)"
      ],
      "metadata": {
        "id": "8oHPZ7YajoWx"
      },
      "execution_count": 136,
      "outputs": []
    },
    {
      "cell_type": "code",
      "source": [
        "X_test_A3_5_HSV = np.array(HSV_D3_CC1)"
      ],
      "metadata": {
        "id": "cZ2L64gojoWx"
      },
      "execution_count": 137,
      "outputs": []
    },
    {
      "cell_type": "code",
      "source": [
        "y_A3_5_HSV =  table_D3CC1.iloc[:,14:15]"
      ],
      "metadata": {
        "id": "fKuRKeGXjoWx"
      },
      "execution_count": 138,
      "outputs": []
    },
    {
      "cell_type": "code",
      "source": [
        "y_test_A3_5_HSV = np.array(y_A3_5_RGB)"
      ],
      "metadata": {
        "id": "FA7kZYn2joWx"
      },
      "execution_count": 139,
      "outputs": []
    },
    {
      "cell_type": "code",
      "source": [
        "X_train_A3_5_HSV = np.array(HSV_A3_5_concat2)"
      ],
      "metadata": {
        "id": "Lpr6XTwwjoWx"
      },
      "execution_count": 140,
      "outputs": []
    },
    {
      "cell_type": "code",
      "source": [
        "y_train_A3_5HSV = RGB_A3_5_concat1.iloc[:,14:15]"
      ],
      "metadata": {
        "id": "fU-86S2TjoWx"
      },
      "execution_count": 141,
      "outputs": []
    },
    {
      "cell_type": "code",
      "source": [
        "y_train_A3_5_HSV = np.array(y_train_A3_5HSV)"
      ],
      "metadata": {
        "id": "dLsM5Ta9joWx"
      },
      "execution_count": 142,
      "outputs": []
    },
    {
      "cell_type": "code",
      "source": [
        "clf.fit(X_train_A3_5_HSV, y_train_A3_5_HSV)"
      ],
      "metadata": {
        "id": "YyIuDeUHjoWy",
        "outputId": "8988f86e-74db-4136-df28-a48355225713",
        "colab": {
          "base_uri": "https://localhost:8080/"
        }
      },
      "execution_count": 143,
      "outputs": [
        {
          "output_type": "stream",
          "name": "stderr",
          "text": [
            "/usr/local/lib/python3.7/dist-packages/ipykernel_launcher.py:1: DataConversionWarning: A column-vector y was passed when a 1d array was expected. Please change the shape of y to (n_samples,), for example using ravel().\n",
            "  \"\"\"Entry point for launching an IPython kernel.\n"
          ]
        },
        {
          "output_type": "execute_result",
          "data": {
            "text/plain": [
              "RandomForestClassifier()"
            ]
          },
          "metadata": {},
          "execution_count": 143
        }
      ]
    },
    {
      "cell_type": "code",
      "source": [
        "y_pred_A3_5_HSV = clf.predict(X_test_A3_5_HSV)"
      ],
      "metadata": {
        "id": "3vwQoGB9joWy"
      },
      "execution_count": 144,
      "outputs": []
    },
    {
      "cell_type": "code",
      "source": [
        "print(\"Accuracy:\", metrics.accuracy_score(y_test_A3_5_HSV, y_pred_A3_5_HSV))"
      ],
      "metadata": {
        "id": "ztP1KhpfjoWy",
        "outputId": "4b636b62-48ed-4378-f074-1f41068c79c4",
        "colab": {
          "base_uri": "https://localhost:8080/"
        }
      },
      "execution_count": 145,
      "outputs": [
        {
          "output_type": "stream",
          "name": "stdout",
          "text": [
            "Accuracy: 0.06125\n"
          ]
        }
      ]
    },
    {
      "cell_type": "markdown",
      "source": [
        "##A4"
      ],
      "metadata": {
        "id": "QtddIFhZmT6y"
      }
    },
    {
      "cell_type": "code",
      "source": [
        "table_A4Set1 = pd.read_excel(Set1 , sheet_name='A4Set1 ')\n",
        "table_A4Set1.head()"
      ],
      "metadata": {
        "id": "UTdvgDYRmT6y",
        "outputId": "6a7f6d00-e2ef-4600-8208-ca6883a0d5a8",
        "colab": {
          "base_uri": "https://localhost:8080/",
          "height": 0
        }
      },
      "execution_count": 146,
      "outputs": [
        {
          "output_type": "execute_result",
          "data": {
            "text/html": [
              "\n",
              "  <div id=\"df-4aedf866-3772-4b34-bf5b-f6bffbdf0c54\">\n",
              "    <div class=\"colab-df-container\">\n",
              "      <div>\n",
              "<style scoped>\n",
              "    .dataframe tbody tr th:only-of-type {\n",
              "        vertical-align: middle;\n",
              "    }\n",
              "\n",
              "    .dataframe tbody tr th {\n",
              "        vertical-align: top;\n",
              "    }\n",
              "\n",
              "    .dataframe thead th {\n",
              "        text-align: right;\n",
              "    }\n",
              "</style>\n",
              "<table border=\"1\" class=\"dataframe\">\n",
              "  <thead>\n",
              "    <tr style=\"text-align: right;\">\n",
              "      <th></th>\n",
              "      <th>R-ref</th>\n",
              "      <th>G-ref</th>\n",
              "      <th>B-ref</th>\n",
              "      <th>R-Shad</th>\n",
              "      <th>G-Shad</th>\n",
              "      <th>B-Shad</th>\n",
              "      <th>H-ref</th>\n",
              "      <th>S-ref</th>\n",
              "      <th>V-ref</th>\n",
              "      <th>H-Shad</th>\n",
              "      <th>S-Shad</th>\n",
              "      <th>V-Shad</th>\n",
              "      <th>Setting</th>\n",
              "      <th>Ref</th>\n",
              "      <th>Shad</th>\n",
              "      <th>Img</th>\n",
              "    </tr>\n",
              "  </thead>\n",
              "  <tbody>\n",
              "    <tr>\n",
              "      <th>0</th>\n",
              "      <td>232.491259</td>\n",
              "      <td>215.427253</td>\n",
              "      <td>171.519328</td>\n",
              "      <td>230.019553</td>\n",
              "      <td>213.264665</td>\n",
              "      <td>170.068390</td>\n",
              "      <td>21.993007</td>\n",
              "      <td>66.885975</td>\n",
              "      <td>232.491259</td>\n",
              "      <td>21.990826</td>\n",
              "      <td>66.480122</td>\n",
              "      <td>230.019553</td>\n",
              "      <td>Set1</td>\n",
              "      <td>A4</td>\n",
              "      <td>A1</td>\n",
              "      <td>C6D0A6B4-EAD1-4C5F-9E6B-CE5E0923BCF0.png</td>\n",
              "    </tr>\n",
              "    <tr>\n",
              "      <th>1</th>\n",
              "      <td>229.007673</td>\n",
              "      <td>211.568959</td>\n",
              "      <td>167.013792</td>\n",
              "      <td>226.595404</td>\n",
              "      <td>209.552683</td>\n",
              "      <td>166.097303</td>\n",
              "      <td>21.824009</td>\n",
              "      <td>69.038073</td>\n",
              "      <td>229.007673</td>\n",
              "      <td>21.959503</td>\n",
              "      <td>68.103976</td>\n",
              "      <td>226.595404</td>\n",
              "      <td>Set1</td>\n",
              "      <td>A4</td>\n",
              "      <td>A1</td>\n",
              "      <td>A3B3B5C2-1901-4D2C-8309-010408F66705.png</td>\n",
              "    </tr>\n",
              "    <tr>\n",
              "      <th>2</th>\n",
              "      <td>232.717852</td>\n",
              "      <td>214.911616</td>\n",
              "      <td>170.554390</td>\n",
              "      <td>231.051710</td>\n",
              "      <td>213.996108</td>\n",
              "      <td>170.108238</td>\n",
              "      <td>21.732032</td>\n",
              "      <td>68.092269</td>\n",
              "      <td>232.717852</td>\n",
              "      <td>21.972199</td>\n",
              "      <td>67.258085</td>\n",
              "      <td>231.051710</td>\n",
              "      <td>Set1</td>\n",
              "      <td>A4</td>\n",
              "      <td>A1</td>\n",
              "      <td>4C428E15-84C8-4D96-BD24-DC9969741560.png</td>\n",
              "    </tr>\n",
              "    <tr>\n",
              "      <th>3</th>\n",
              "      <td>233.155497</td>\n",
              "      <td>214.801573</td>\n",
              "      <td>170.941239</td>\n",
              "      <td>231.553146</td>\n",
              "      <td>213.022055</td>\n",
              "      <td>169.864887</td>\n",
              "      <td>21.428613</td>\n",
              "      <td>68.041278</td>\n",
              "      <td>233.155497</td>\n",
              "      <td>21.240386</td>\n",
              "      <td>67.943379</td>\n",
              "      <td>231.553146</td>\n",
              "      <td>Set1</td>\n",
              "      <td>A4</td>\n",
              "      <td>A1</td>\n",
              "      <td>91F5B0B5-A4E2-4073-A924-AC7A2ECB236F.png</td>\n",
              "    </tr>\n",
              "    <tr>\n",
              "      <th>4</th>\n",
              "      <td>233.052253</td>\n",
              "      <td>214.682595</td>\n",
              "      <td>171.406954</td>\n",
              "      <td>230.845056</td>\n",
              "      <td>213.666759</td>\n",
              "      <td>170.622185</td>\n",
              "      <td>21.316336</td>\n",
              "      <td>67.456099</td>\n",
              "      <td>233.052253</td>\n",
              "      <td>21.903438</td>\n",
              "      <td>66.561116</td>\n",
              "      <td>230.845056</td>\n",
              "      <td>Set1</td>\n",
              "      <td>A4</td>\n",
              "      <td>A1</td>\n",
              "      <td>606F71D4-DD41-4252-B152-C019C53AE874.png</td>\n",
              "    </tr>\n",
              "  </tbody>\n",
              "</table>\n",
              "</div>\n",
              "      <button class=\"colab-df-convert\" onclick=\"convertToInteractive('df-4aedf866-3772-4b34-bf5b-f6bffbdf0c54')\"\n",
              "              title=\"Convert this dataframe to an interactive table.\"\n",
              "              style=\"display:none;\">\n",
              "        \n",
              "  <svg xmlns=\"http://www.w3.org/2000/svg\" height=\"24px\"viewBox=\"0 0 24 24\"\n",
              "       width=\"24px\">\n",
              "    <path d=\"M0 0h24v24H0V0z\" fill=\"none\"/>\n",
              "    <path d=\"M18.56 5.44l.94 2.06.94-2.06 2.06-.94-2.06-.94-.94-2.06-.94 2.06-2.06.94zm-11 1L8.5 8.5l.94-2.06 2.06-.94-2.06-.94L8.5 2.5l-.94 2.06-2.06.94zm10 10l.94 2.06.94-2.06 2.06-.94-2.06-.94-.94-2.06-.94 2.06-2.06.94z\"/><path d=\"M17.41 7.96l-1.37-1.37c-.4-.4-.92-.59-1.43-.59-.52 0-1.04.2-1.43.59L10.3 9.45l-7.72 7.72c-.78.78-.78 2.05 0 2.83L4 21.41c.39.39.9.59 1.41.59.51 0 1.02-.2 1.41-.59l7.78-7.78 2.81-2.81c.8-.78.8-2.07 0-2.86zM5.41 20L4 18.59l7.72-7.72 1.47 1.35L5.41 20z\"/>\n",
              "  </svg>\n",
              "      </button>\n",
              "      \n",
              "  <style>\n",
              "    .colab-df-container {\n",
              "      display:flex;\n",
              "      flex-wrap:wrap;\n",
              "      gap: 12px;\n",
              "    }\n",
              "\n",
              "    .colab-df-convert {\n",
              "      background-color: #E8F0FE;\n",
              "      border: none;\n",
              "      border-radius: 50%;\n",
              "      cursor: pointer;\n",
              "      display: none;\n",
              "      fill: #1967D2;\n",
              "      height: 32px;\n",
              "      padding: 0 0 0 0;\n",
              "      width: 32px;\n",
              "    }\n",
              "\n",
              "    .colab-df-convert:hover {\n",
              "      background-color: #E2EBFA;\n",
              "      box-shadow: 0px 1px 2px rgba(60, 64, 67, 0.3), 0px 1px 3px 1px rgba(60, 64, 67, 0.15);\n",
              "      fill: #174EA6;\n",
              "    }\n",
              "\n",
              "    [theme=dark] .colab-df-convert {\n",
              "      background-color: #3B4455;\n",
              "      fill: #D2E3FC;\n",
              "    }\n",
              "\n",
              "    [theme=dark] .colab-df-convert:hover {\n",
              "      background-color: #434B5C;\n",
              "      box-shadow: 0px 1px 3px 1px rgba(0, 0, 0, 0.15);\n",
              "      filter: drop-shadow(0px 1px 2px rgba(0, 0, 0, 0.3));\n",
              "      fill: #FFFFFF;\n",
              "    }\n",
              "  </style>\n",
              "\n",
              "      <script>\n",
              "        const buttonEl =\n",
              "          document.querySelector('#df-4aedf866-3772-4b34-bf5b-f6bffbdf0c54 button.colab-df-convert');\n",
              "        buttonEl.style.display =\n",
              "          google.colab.kernel.accessAllowed ? 'block' : 'none';\n",
              "\n",
              "        async function convertToInteractive(key) {\n",
              "          const element = document.querySelector('#df-4aedf866-3772-4b34-bf5b-f6bffbdf0c54');\n",
              "          const dataTable =\n",
              "            await google.colab.kernel.invokeFunction('convertToInteractive',\n",
              "                                                     [key], {});\n",
              "          if (!dataTable) return;\n",
              "\n",
              "          const docLinkHtml = 'Like what you see? Visit the ' +\n",
              "            '<a target=\"_blank\" href=https://colab.research.google.com/notebooks/data_table.ipynb>data table notebook</a>'\n",
              "            + ' to learn more about interactive tables.';\n",
              "          element.innerHTML = '';\n",
              "          dataTable['output_type'] = 'display_data';\n",
              "          await google.colab.output.renderOutput(dataTable, element);\n",
              "          const docLink = document.createElement('div');\n",
              "          docLink.innerHTML = docLinkHtml;\n",
              "          element.appendChild(docLink);\n",
              "        }\n",
              "      </script>\n",
              "    </div>\n",
              "  </div>\n",
              "  "
            ],
            "text/plain": [
              "        R-ref       G-ref  ...  Shad                                       Img\n",
              "0  232.491259  215.427253  ...    A1  C6D0A6B4-EAD1-4C5F-9E6B-CE5E0923BCF0.png\n",
              "1  229.007673  211.568959  ...    A1  A3B3B5C2-1901-4D2C-8309-010408F66705.png\n",
              "2  232.717852  214.911616  ...    A1  4C428E15-84C8-4D96-BD24-DC9969741560.png\n",
              "3  233.155497  214.801573  ...    A1  91F5B0B5-A4E2-4073-A924-AC7A2ECB236F.png\n",
              "4  233.052253  214.682595  ...    A1  606F71D4-DD41-4252-B152-C019C53AE874.png\n",
              "\n",
              "[5 rows x 16 columns]"
            ]
          },
          "metadata": {},
          "execution_count": 146
        }
      ]
    },
    {
      "cell_type": "code",
      "source": [
        "table_A4Set2 = pd.read_excel(Set2, sheet_name='A4Set2 ')\n",
        "table_A4Set2.head()"
      ],
      "metadata": {
        "id": "N53xh7ZomT6y",
        "outputId": "17f2775b-3089-470f-c14a-2d49e38f9eb3",
        "colab": {
          "base_uri": "https://localhost:8080/",
          "height": 0
        }
      },
      "execution_count": 147,
      "outputs": [
        {
          "output_type": "execute_result",
          "data": {
            "text/html": [
              "\n",
              "  <div id=\"df-dc2fd520-a5cd-41a6-963c-e04e029a5f30\">\n",
              "    <div class=\"colab-df-container\">\n",
              "      <div>\n",
              "<style scoped>\n",
              "    .dataframe tbody tr th:only-of-type {\n",
              "        vertical-align: middle;\n",
              "    }\n",
              "\n",
              "    .dataframe tbody tr th {\n",
              "        vertical-align: top;\n",
              "    }\n",
              "\n",
              "    .dataframe thead th {\n",
              "        text-align: right;\n",
              "    }\n",
              "</style>\n",
              "<table border=\"1\" class=\"dataframe\">\n",
              "  <thead>\n",
              "    <tr style=\"text-align: right;\">\n",
              "      <th></th>\n",
              "      <th>R-ref</th>\n",
              "      <th>G-ref</th>\n",
              "      <th>B-ref</th>\n",
              "      <th>R-Shad</th>\n",
              "      <th>G-Shad</th>\n",
              "      <th>B-Shad</th>\n",
              "      <th>H-ref</th>\n",
              "      <th>S-ref</th>\n",
              "      <th>V-ref</th>\n",
              "      <th>H-Shad</th>\n",
              "      <th>S-Shad</th>\n",
              "      <th>V-Shad</th>\n",
              "      <th>Setting</th>\n",
              "      <th>Ref</th>\n",
              "      <th>Shad</th>\n",
              "      <th>Img</th>\n",
              "    </tr>\n",
              "  </thead>\n",
              "  <tbody>\n",
              "    <tr>\n",
              "      <th>0</th>\n",
              "      <td>230.051476</td>\n",
              "      <td>207.380148</td>\n",
              "      <td>147.098873</td>\n",
              "      <td>238.036605</td>\n",
              "      <td>220.879993</td>\n",
              "      <td>177.372069</td>\n",
              "      <td>21.817502</td>\n",
              "      <td>92.056041</td>\n",
              "      <td>230.051671</td>\n",
              "      <td>21.887870</td>\n",
              "      <td>64.992216</td>\n",
              "      <td>238.036605</td>\n",
              "      <td>Set2</td>\n",
              "      <td>A4</td>\n",
              "      <td>A1</td>\n",
              "      <td>E5CB5D38-826C-40B3-A02B-ADDE7D87BED2.png</td>\n",
              "    </tr>\n",
              "    <tr>\n",
              "      <th>1</th>\n",
              "      <td>227.640929</td>\n",
              "      <td>204.685800</td>\n",
              "      <td>145.241939</td>\n",
              "      <td>236.059401</td>\n",
              "      <td>219.155500</td>\n",
              "      <td>175.303772</td>\n",
              "      <td>21.618881</td>\n",
              "      <td>92.380828</td>\n",
              "      <td>227.640929</td>\n",
              "      <td>21.967936</td>\n",
              "      <td>65.625243</td>\n",
              "      <td>236.059401</td>\n",
              "      <td>Set2</td>\n",
              "      <td>A4</td>\n",
              "      <td>A1</td>\n",
              "      <td>9EBB65E8-F0D7-49DE-827B-2CE7EA7683A4.png</td>\n",
              "    </tr>\n",
              "    <tr>\n",
              "      <th>2</th>\n",
              "      <td>227.260198</td>\n",
              "      <td>205.114608</td>\n",
              "      <td>144.443570</td>\n",
              "      <td>236.278380</td>\n",
              "      <td>218.675378</td>\n",
              "      <td>174.917802</td>\n",
              "      <td>22.044483</td>\n",
              "      <td>93.000291</td>\n",
              "      <td>227.260198</td>\n",
              "      <td>21.702530</td>\n",
              "      <td>66.248355</td>\n",
              "      <td>236.278658</td>\n",
              "      <td>Set2</td>\n",
              "      <td>A4</td>\n",
              "      <td>A1</td>\n",
              "      <td>29B58A5F-59B3-4324-9F06-7C1267ED3E4F.png</td>\n",
              "    </tr>\n",
              "    <tr>\n",
              "      <th>3</th>\n",
              "      <td>227.652098</td>\n",
              "      <td>206.428419</td>\n",
              "      <td>145.085373</td>\n",
              "      <td>236.430822</td>\n",
              "      <td>219.815494</td>\n",
              "      <td>175.940321</td>\n",
              "      <td>22.556527</td>\n",
              "      <td>92.554099</td>\n",
              "      <td>227.652098</td>\n",
              "      <td>22.055231</td>\n",
              "      <td>65.213419</td>\n",
              "      <td>236.430822</td>\n",
              "      <td>Set2</td>\n",
              "      <td>A4</td>\n",
              "      <td>A1</td>\n",
              "      <td>7747C1F9-E3F2-4D88-974B-850F771E6B3B.png</td>\n",
              "    </tr>\n",
              "    <tr>\n",
              "      <th>4</th>\n",
              "      <td>229.170357</td>\n",
              "      <td>206.154526</td>\n",
              "      <td>145.839549</td>\n",
              "      <td>237.162914</td>\n",
              "      <td>220.166342</td>\n",
              "      <td>176.483366</td>\n",
              "      <td>21.633353</td>\n",
              "      <td>92.788267</td>\n",
              "      <td>229.170357</td>\n",
              "      <td>21.964137</td>\n",
              "      <td>65.242795</td>\n",
              "      <td>237.162914</td>\n",
              "      <td>Set2</td>\n",
              "      <td>A4</td>\n",
              "      <td>A1</td>\n",
              "      <td>31FD7994-9AAE-4CA3-8909-E63E70D1D59B.png</td>\n",
              "    </tr>\n",
              "  </tbody>\n",
              "</table>\n",
              "</div>\n",
              "      <button class=\"colab-df-convert\" onclick=\"convertToInteractive('df-dc2fd520-a5cd-41a6-963c-e04e029a5f30')\"\n",
              "              title=\"Convert this dataframe to an interactive table.\"\n",
              "              style=\"display:none;\">\n",
              "        \n",
              "  <svg xmlns=\"http://www.w3.org/2000/svg\" height=\"24px\"viewBox=\"0 0 24 24\"\n",
              "       width=\"24px\">\n",
              "    <path d=\"M0 0h24v24H0V0z\" fill=\"none\"/>\n",
              "    <path d=\"M18.56 5.44l.94 2.06.94-2.06 2.06-.94-2.06-.94-.94-2.06-.94 2.06-2.06.94zm-11 1L8.5 8.5l.94-2.06 2.06-.94-2.06-.94L8.5 2.5l-.94 2.06-2.06.94zm10 10l.94 2.06.94-2.06 2.06-.94-2.06-.94-.94-2.06-.94 2.06-2.06.94z\"/><path d=\"M17.41 7.96l-1.37-1.37c-.4-.4-.92-.59-1.43-.59-.52 0-1.04.2-1.43.59L10.3 9.45l-7.72 7.72c-.78.78-.78 2.05 0 2.83L4 21.41c.39.39.9.59 1.41.59.51 0 1.02-.2 1.41-.59l7.78-7.78 2.81-2.81c.8-.78.8-2.07 0-2.86zM5.41 20L4 18.59l7.72-7.72 1.47 1.35L5.41 20z\"/>\n",
              "  </svg>\n",
              "      </button>\n",
              "      \n",
              "  <style>\n",
              "    .colab-df-container {\n",
              "      display:flex;\n",
              "      flex-wrap:wrap;\n",
              "      gap: 12px;\n",
              "    }\n",
              "\n",
              "    .colab-df-convert {\n",
              "      background-color: #E8F0FE;\n",
              "      border: none;\n",
              "      border-radius: 50%;\n",
              "      cursor: pointer;\n",
              "      display: none;\n",
              "      fill: #1967D2;\n",
              "      height: 32px;\n",
              "      padding: 0 0 0 0;\n",
              "      width: 32px;\n",
              "    }\n",
              "\n",
              "    .colab-df-convert:hover {\n",
              "      background-color: #E2EBFA;\n",
              "      box-shadow: 0px 1px 2px rgba(60, 64, 67, 0.3), 0px 1px 3px 1px rgba(60, 64, 67, 0.15);\n",
              "      fill: #174EA6;\n",
              "    }\n",
              "\n",
              "    [theme=dark] .colab-df-convert {\n",
              "      background-color: #3B4455;\n",
              "      fill: #D2E3FC;\n",
              "    }\n",
              "\n",
              "    [theme=dark] .colab-df-convert:hover {\n",
              "      background-color: #434B5C;\n",
              "      box-shadow: 0px 1px 3px 1px rgba(0, 0, 0, 0.15);\n",
              "      filter: drop-shadow(0px 1px 2px rgba(0, 0, 0, 0.3));\n",
              "      fill: #FFFFFF;\n",
              "    }\n",
              "  </style>\n",
              "\n",
              "      <script>\n",
              "        const buttonEl =\n",
              "          document.querySelector('#df-dc2fd520-a5cd-41a6-963c-e04e029a5f30 button.colab-df-convert');\n",
              "        buttonEl.style.display =\n",
              "          google.colab.kernel.accessAllowed ? 'block' : 'none';\n",
              "\n",
              "        async function convertToInteractive(key) {\n",
              "          const element = document.querySelector('#df-dc2fd520-a5cd-41a6-963c-e04e029a5f30');\n",
              "          const dataTable =\n",
              "            await google.colab.kernel.invokeFunction('convertToInteractive',\n",
              "                                                     [key], {});\n",
              "          if (!dataTable) return;\n",
              "\n",
              "          const docLinkHtml = 'Like what you see? Visit the ' +\n",
              "            '<a target=\"_blank\" href=https://colab.research.google.com/notebooks/data_table.ipynb>data table notebook</a>'\n",
              "            + ' to learn more about interactive tables.';\n",
              "          element.innerHTML = '';\n",
              "          dataTable['output_type'] = 'display_data';\n",
              "          await google.colab.output.renderOutput(dataTable, element);\n",
              "          const docLink = document.createElement('div');\n",
              "          docLink.innerHTML = docLinkHtml;\n",
              "          element.appendChild(docLink);\n",
              "        }\n",
              "      </script>\n",
              "    </div>\n",
              "  </div>\n",
              "  "
            ],
            "text/plain": [
              "        R-ref       G-ref  ...  Shad                                       Img\n",
              "0  230.051476  207.380148  ...    A1  E5CB5D38-826C-40B3-A02B-ADDE7D87BED2.png\n",
              "1  227.640929  204.685800  ...    A1  9EBB65E8-F0D7-49DE-827B-2CE7EA7683A4.png\n",
              "2  227.260198  205.114608  ...    A1  29B58A5F-59B3-4324-9F06-7C1267ED3E4F.png\n",
              "3  227.652098  206.428419  ...    A1  7747C1F9-E3F2-4D88-974B-850F771E6B3B.png\n",
              "4  229.170357  206.154526  ...    A1  31FD7994-9AAE-4CA3-8909-E63E70D1D59B.png\n",
              "\n",
              "[5 rows x 16 columns]"
            ]
          },
          "metadata": {},
          "execution_count": 147
        }
      ]
    },
    {
      "cell_type": "code",
      "source": [
        "table_A4Set3 = pd.read_excel(Set3, sheet_name='A4Set3 ')\n",
        "table_A4Set3.head()"
      ],
      "metadata": {
        "id": "qf-GU9camT6z",
        "outputId": "e11ef8b1-05e6-4b32-9e1c-68895de25b13",
        "colab": {
          "base_uri": "https://localhost:8080/",
          "height": 0
        }
      },
      "execution_count": 148,
      "outputs": [
        {
          "output_type": "execute_result",
          "data": {
            "text/html": [
              "\n",
              "  <div id=\"df-b5f77972-9c39-4872-89cb-bd072d790ed5\">\n",
              "    <div class=\"colab-df-container\">\n",
              "      <div>\n",
              "<style scoped>\n",
              "    .dataframe tbody tr th:only-of-type {\n",
              "        vertical-align: middle;\n",
              "    }\n",
              "\n",
              "    .dataframe tbody tr th {\n",
              "        vertical-align: top;\n",
              "    }\n",
              "\n",
              "    .dataframe thead th {\n",
              "        text-align: right;\n",
              "    }\n",
              "</style>\n",
              "<table border=\"1\" class=\"dataframe\">\n",
              "  <thead>\n",
              "    <tr style=\"text-align: right;\">\n",
              "      <th></th>\n",
              "      <th>R-ref</th>\n",
              "      <th>G-ref</th>\n",
              "      <th>B-ref</th>\n",
              "      <th>R-Shad</th>\n",
              "      <th>G-Shad</th>\n",
              "      <th>B-Shad</th>\n",
              "      <th>H-ref</th>\n",
              "      <th>S-ref</th>\n",
              "      <th>V-ref</th>\n",
              "      <th>H-Shad</th>\n",
              "      <th>S-Shad</th>\n",
              "      <th>V-Shad</th>\n",
              "      <th>Setting</th>\n",
              "      <th>Ref</th>\n",
              "      <th>Shad</th>\n",
              "      <th>Img</th>\n",
              "    </tr>\n",
              "  </thead>\n",
              "  <tbody>\n",
              "    <tr>\n",
              "      <th>0</th>\n",
              "      <td>226.000406</td>\n",
              "      <td>203.723886</td>\n",
              "      <td>143.303871</td>\n",
              "      <td>225.820923</td>\n",
              "      <td>203.576844</td>\n",
              "      <td>143.258516</td>\n",
              "      <td>22.008116</td>\n",
              "      <td>93.349160</td>\n",
              "      <td>226.000406</td>\n",
              "      <td>22.015291</td>\n",
              "      <td>93.267193</td>\n",
              "      <td>225.820923</td>\n",
              "      <td>Set3</td>\n",
              "      <td>A4</td>\n",
              "      <td>A1</td>\n",
              "      <td>F712701E-BE7E-4095-A77E-B995819EFFFD.png</td>\n",
              "    </tr>\n",
              "    <tr>\n",
              "      <th>1</th>\n",
              "      <td>226.466845</td>\n",
              "      <td>205.043665</td>\n",
              "      <td>143.904716</td>\n",
              "      <td>226.374511</td>\n",
              "      <td>204.893393</td>\n",
              "      <td>143.898158</td>\n",
              "      <td>22.463842</td>\n",
              "      <td>93.011769</td>\n",
              "      <td>226.466845</td>\n",
              "      <td>22.419102</td>\n",
              "      <td>92.950075</td>\n",
              "      <td>226.374511</td>\n",
              "      <td>Set3</td>\n",
              "      <td>A4</td>\n",
              "      <td>A1</td>\n",
              "      <td>CECCAFE3-FE35-40E3-A23C-E30AC0ED7305.png</td>\n",
              "    </tr>\n",
              "    <tr>\n",
              "      <th>2</th>\n",
              "      <td>228.276520</td>\n",
              "      <td>204.980440</td>\n",
              "      <td>144.768769</td>\n",
              "      <td>228.051632</td>\n",
              "      <td>204.716663</td>\n",
              "      <td>144.671574</td>\n",
              "      <td>21.541839</td>\n",
              "      <td>93.335849</td>\n",
              "      <td>228.276520</td>\n",
              "      <td>21.527985</td>\n",
              "      <td>93.286751</td>\n",
              "      <td>228.051632</td>\n",
              "      <td>Set3</td>\n",
              "      <td>A4</td>\n",
              "      <td>A1</td>\n",
              "      <td>030A48A3-45A8-46B5-BA6E-40DBF7924561.png</td>\n",
              "    </tr>\n",
              "    <tr>\n",
              "      <th>3</th>\n",
              "      <td>235.425991</td>\n",
              "      <td>219.263695</td>\n",
              "      <td>177.827214</td>\n",
              "      <td>232.931795</td>\n",
              "      <td>217.058567</td>\n",
              "      <td>174.902604</td>\n",
              "      <td>22.025484</td>\n",
              "      <td>63.614864</td>\n",
              "      <td>232.931795</td>\n",
              "      <td>22.025484</td>\n",
              "      <td>63.614864</td>\n",
              "      <td>232.931795</td>\n",
              "      <td>Set3</td>\n",
              "      <td>A4</td>\n",
              "      <td>A1</td>\n",
              "      <td>56F3B9ED-032B-4568-94F8-A20F8E7C590B.png</td>\n",
              "    </tr>\n",
              "    <tr>\n",
              "      <th>4</th>\n",
              "      <td>232.456488</td>\n",
              "      <td>215.038753</td>\n",
              "      <td>170.408508</td>\n",
              "      <td>230.343712</td>\n",
              "      <td>213.313502</td>\n",
              "      <td>169.960430</td>\n",
              "      <td>21.939765</td>\n",
              "      <td>66.862015</td>\n",
              "      <td>230.343712</td>\n",
              "      <td>21.939765</td>\n",
              "      <td>66.862015</td>\n",
              "      <td>230.343712</td>\n",
              "      <td>Set3</td>\n",
              "      <td>A4</td>\n",
              "      <td>A1</td>\n",
              "      <td>B39AAD6D-AA02-4E9A-9387-6545DE9848CE.png</td>\n",
              "    </tr>\n",
              "  </tbody>\n",
              "</table>\n",
              "</div>\n",
              "      <button class=\"colab-df-convert\" onclick=\"convertToInteractive('df-b5f77972-9c39-4872-89cb-bd072d790ed5')\"\n",
              "              title=\"Convert this dataframe to an interactive table.\"\n",
              "              style=\"display:none;\">\n",
              "        \n",
              "  <svg xmlns=\"http://www.w3.org/2000/svg\" height=\"24px\"viewBox=\"0 0 24 24\"\n",
              "       width=\"24px\">\n",
              "    <path d=\"M0 0h24v24H0V0z\" fill=\"none\"/>\n",
              "    <path d=\"M18.56 5.44l.94 2.06.94-2.06 2.06-.94-2.06-.94-.94-2.06-.94 2.06-2.06.94zm-11 1L8.5 8.5l.94-2.06 2.06-.94-2.06-.94L8.5 2.5l-.94 2.06-2.06.94zm10 10l.94 2.06.94-2.06 2.06-.94-2.06-.94-.94-2.06-.94 2.06-2.06.94z\"/><path d=\"M17.41 7.96l-1.37-1.37c-.4-.4-.92-.59-1.43-.59-.52 0-1.04.2-1.43.59L10.3 9.45l-7.72 7.72c-.78.78-.78 2.05 0 2.83L4 21.41c.39.39.9.59 1.41.59.51 0 1.02-.2 1.41-.59l7.78-7.78 2.81-2.81c.8-.78.8-2.07 0-2.86zM5.41 20L4 18.59l7.72-7.72 1.47 1.35L5.41 20z\"/>\n",
              "  </svg>\n",
              "      </button>\n",
              "      \n",
              "  <style>\n",
              "    .colab-df-container {\n",
              "      display:flex;\n",
              "      flex-wrap:wrap;\n",
              "      gap: 12px;\n",
              "    }\n",
              "\n",
              "    .colab-df-convert {\n",
              "      background-color: #E8F0FE;\n",
              "      border: none;\n",
              "      border-radius: 50%;\n",
              "      cursor: pointer;\n",
              "      display: none;\n",
              "      fill: #1967D2;\n",
              "      height: 32px;\n",
              "      padding: 0 0 0 0;\n",
              "      width: 32px;\n",
              "    }\n",
              "\n",
              "    .colab-df-convert:hover {\n",
              "      background-color: #E2EBFA;\n",
              "      box-shadow: 0px 1px 2px rgba(60, 64, 67, 0.3), 0px 1px 3px 1px rgba(60, 64, 67, 0.15);\n",
              "      fill: #174EA6;\n",
              "    }\n",
              "\n",
              "    [theme=dark] .colab-df-convert {\n",
              "      background-color: #3B4455;\n",
              "      fill: #D2E3FC;\n",
              "    }\n",
              "\n",
              "    [theme=dark] .colab-df-convert:hover {\n",
              "      background-color: #434B5C;\n",
              "      box-shadow: 0px 1px 3px 1px rgba(0, 0, 0, 0.15);\n",
              "      filter: drop-shadow(0px 1px 2px rgba(0, 0, 0, 0.3));\n",
              "      fill: #FFFFFF;\n",
              "    }\n",
              "  </style>\n",
              "\n",
              "      <script>\n",
              "        const buttonEl =\n",
              "          document.querySelector('#df-b5f77972-9c39-4872-89cb-bd072d790ed5 button.colab-df-convert');\n",
              "        buttonEl.style.display =\n",
              "          google.colab.kernel.accessAllowed ? 'block' : 'none';\n",
              "\n",
              "        async function convertToInteractive(key) {\n",
              "          const element = document.querySelector('#df-b5f77972-9c39-4872-89cb-bd072d790ed5');\n",
              "          const dataTable =\n",
              "            await google.colab.kernel.invokeFunction('convertToInteractive',\n",
              "                                                     [key], {});\n",
              "          if (!dataTable) return;\n",
              "\n",
              "          const docLinkHtml = 'Like what you see? Visit the ' +\n",
              "            '<a target=\"_blank\" href=https://colab.research.google.com/notebooks/data_table.ipynb>data table notebook</a>'\n",
              "            + ' to learn more about interactive tables.';\n",
              "          element.innerHTML = '';\n",
              "          dataTable['output_type'] = 'display_data';\n",
              "          await google.colab.output.renderOutput(dataTable, element);\n",
              "          const docLink = document.createElement('div');\n",
              "          docLink.innerHTML = docLinkHtml;\n",
              "          element.appendChild(docLink);\n",
              "        }\n",
              "      </script>\n",
              "    </div>\n",
              "  </div>\n",
              "  "
            ],
            "text/plain": [
              "        R-ref       G-ref  ...  Shad                                       Img\n",
              "0  226.000406  203.723886  ...    A1  F712701E-BE7E-4095-A77E-B995819EFFFD.png\n",
              "1  226.466845  205.043665  ...    A1  CECCAFE3-FE35-40E3-A23C-E30AC0ED7305.png\n",
              "2  228.276520  204.980440  ...    A1  030A48A3-45A8-46B5-BA6E-40DBF7924561.png\n",
              "3  235.425991  219.263695  ...    A1  56F3B9ED-032B-4568-94F8-A20F8E7C590B.png\n",
              "4  232.456488  215.038753  ...    A1  B39AAD6D-AA02-4E9A-9387-6545DE9848CE.png\n",
              "\n",
              "[5 rows x 16 columns]"
            ]
          },
          "metadata": {},
          "execution_count": 148
        }
      ]
    },
    {
      "cell_type": "code",
      "source": [
        "table_A4Set4 = pd.read_excel(Set4, sheet_name='A4Set4')\n",
        "table_A4Set4.head()"
      ],
      "metadata": {
        "id": "rVnu0c2qmT6z",
        "outputId": "e6d3a737-2dfd-4ca1-dbbd-e2268d3d8fb4",
        "colab": {
          "base_uri": "https://localhost:8080/",
          "height": 0
        }
      },
      "execution_count": 149,
      "outputs": [
        {
          "output_type": "execute_result",
          "data": {
            "text/html": [
              "\n",
              "  <div id=\"df-b5653567-3ec6-45c9-abe6-f2e8a74254c8\">\n",
              "    <div class=\"colab-df-container\">\n",
              "      <div>\n",
              "<style scoped>\n",
              "    .dataframe tbody tr th:only-of-type {\n",
              "        vertical-align: middle;\n",
              "    }\n",
              "\n",
              "    .dataframe tbody tr th {\n",
              "        vertical-align: top;\n",
              "    }\n",
              "\n",
              "    .dataframe thead th {\n",
              "        text-align: right;\n",
              "    }\n",
              "</style>\n",
              "<table border=\"1\" class=\"dataframe\">\n",
              "  <thead>\n",
              "    <tr style=\"text-align: right;\">\n",
              "      <th></th>\n",
              "      <th>R-ref</th>\n",
              "      <th>G-ref</th>\n",
              "      <th>B-ref</th>\n",
              "      <th>R-Shad</th>\n",
              "      <th>G-Shad</th>\n",
              "      <th>B-Shad</th>\n",
              "      <th>H-ref</th>\n",
              "      <th>S-ref</th>\n",
              "      <th>V-ref</th>\n",
              "      <th>H-Shad</th>\n",
              "      <th>S-Shad</th>\n",
              "      <th>V-Shad</th>\n",
              "      <th>Set4</th>\n",
              "      <th>Ref</th>\n",
              "      <th>Shad</th>\n",
              "      <th>Img</th>\n",
              "    </tr>\n",
              "  </thead>\n",
              "  <tbody>\n",
              "    <tr>\n",
              "      <th>0</th>\n",
              "      <td>226.825466</td>\n",
              "      <td>208.749223</td>\n",
              "      <td>161.988054</td>\n",
              "      <td>232.323325</td>\n",
              "      <td>213.395051</td>\n",
              "      <td>170.344083</td>\n",
              "      <td>21.923757</td>\n",
              "      <td>72.929584</td>\n",
              "      <td>226.825466</td>\n",
              "      <td>21.051617</td>\n",
              "      <td>68.033361</td>\n",
              "      <td>232.323325</td>\n",
              "      <td>Set4</td>\n",
              "      <td>A4</td>\n",
              "      <td>A1</td>\n",
              "      <td>E3173A1F-D34A-4D28-928B-E1C32CF79872.png</td>\n",
              "    </tr>\n",
              "    <tr>\n",
              "      <th>1</th>\n",
              "      <td>229.180847</td>\n",
              "      <td>211.616647</td>\n",
              "      <td>166.279817</td>\n",
              "      <td>233.790474</td>\n",
              "      <td>216.370123</td>\n",
              "      <td>173.496525</td>\n",
              "      <td>21.985237</td>\n",
              "      <td>70.087801</td>\n",
              "      <td>229.180847</td>\n",
              "      <td>21.733018</td>\n",
              "      <td>65.776758</td>\n",
              "      <td>233.790659</td>\n",
              "      <td>Set4</td>\n",
              "      <td>A4</td>\n",
              "      <td>A1</td>\n",
              "      <td>013F1BC6-5EF5-4A49-8F01-69FB54E775C3.png</td>\n",
              "    </tr>\n",
              "    <tr>\n",
              "      <th>2</th>\n",
              "      <td>230.488636</td>\n",
              "      <td>212.745241</td>\n",
              "      <td>166.180458</td>\n",
              "      <td>234.697711</td>\n",
              "      <td>217.193958</td>\n",
              "      <td>172.815124</td>\n",
              "      <td>21.994172</td>\n",
              "      <td>71.185606</td>\n",
              "      <td>230.488636</td>\n",
              "      <td>21.823093</td>\n",
              "      <td>67.233713</td>\n",
              "      <td>234.697711</td>\n",
              "      <td>Set4</td>\n",
              "      <td>A4</td>\n",
              "      <td>A1</td>\n",
              "      <td>0F4BD91E-9F4C-408D-BD77-1A2D48FD0758.png</td>\n",
              "    </tr>\n",
              "    <tr>\n",
              "      <th>3</th>\n",
              "      <td>224.159091</td>\n",
              "      <td>206.104895</td>\n",
              "      <td>159.543318</td>\n",
              "      <td>230.902141</td>\n",
              "      <td>211.956445</td>\n",
              "      <td>168.941062</td>\n",
              "      <td>21.945804</td>\n",
              "      <td>73.547300</td>\n",
              "      <td>224.159091</td>\n",
              "      <td>21.033639</td>\n",
              "      <td>68.442128</td>\n",
              "      <td>230.902141</td>\n",
              "      <td>Set4</td>\n",
              "      <td>A4</td>\n",
              "      <td>A1</td>\n",
              "      <td>C3FDAEEA-FA70-4C39-AF06-F3A68D515336.png</td>\n",
              "    </tr>\n",
              "    <tr>\n",
              "      <th>4</th>\n",
              "      <td>225.504759</td>\n",
              "      <td>207.478341</td>\n",
              "      <td>161.543609</td>\n",
              "      <td>230.740803</td>\n",
              "      <td>212.300714</td>\n",
              "      <td>169.826985</td>\n",
              "      <td>21.973582</td>\n",
              "      <td>72.460179</td>\n",
              "      <td>225.504759</td>\n",
              "      <td>21.272079</td>\n",
              "      <td>67.326568</td>\n",
              "      <td>230.740803</td>\n",
              "      <td>Set4</td>\n",
              "      <td>A4</td>\n",
              "      <td>A1</td>\n",
              "      <td>9C8F8D57-3A59-4F0F-8F7E-9F81D3456B62.png</td>\n",
              "    </tr>\n",
              "  </tbody>\n",
              "</table>\n",
              "</div>\n",
              "      <button class=\"colab-df-convert\" onclick=\"convertToInteractive('df-b5653567-3ec6-45c9-abe6-f2e8a74254c8')\"\n",
              "              title=\"Convert this dataframe to an interactive table.\"\n",
              "              style=\"display:none;\">\n",
              "        \n",
              "  <svg xmlns=\"http://www.w3.org/2000/svg\" height=\"24px\"viewBox=\"0 0 24 24\"\n",
              "       width=\"24px\">\n",
              "    <path d=\"M0 0h24v24H0V0z\" fill=\"none\"/>\n",
              "    <path d=\"M18.56 5.44l.94 2.06.94-2.06 2.06-.94-2.06-.94-.94-2.06-.94 2.06-2.06.94zm-11 1L8.5 8.5l.94-2.06 2.06-.94-2.06-.94L8.5 2.5l-.94 2.06-2.06.94zm10 10l.94 2.06.94-2.06 2.06-.94-2.06-.94-.94-2.06-.94 2.06-2.06.94z\"/><path d=\"M17.41 7.96l-1.37-1.37c-.4-.4-.92-.59-1.43-.59-.52 0-1.04.2-1.43.59L10.3 9.45l-7.72 7.72c-.78.78-.78 2.05 0 2.83L4 21.41c.39.39.9.59 1.41.59.51 0 1.02-.2 1.41-.59l7.78-7.78 2.81-2.81c.8-.78.8-2.07 0-2.86zM5.41 20L4 18.59l7.72-7.72 1.47 1.35L5.41 20z\"/>\n",
              "  </svg>\n",
              "      </button>\n",
              "      \n",
              "  <style>\n",
              "    .colab-df-container {\n",
              "      display:flex;\n",
              "      flex-wrap:wrap;\n",
              "      gap: 12px;\n",
              "    }\n",
              "\n",
              "    .colab-df-convert {\n",
              "      background-color: #E8F0FE;\n",
              "      border: none;\n",
              "      border-radius: 50%;\n",
              "      cursor: pointer;\n",
              "      display: none;\n",
              "      fill: #1967D2;\n",
              "      height: 32px;\n",
              "      padding: 0 0 0 0;\n",
              "      width: 32px;\n",
              "    }\n",
              "\n",
              "    .colab-df-convert:hover {\n",
              "      background-color: #E2EBFA;\n",
              "      box-shadow: 0px 1px 2px rgba(60, 64, 67, 0.3), 0px 1px 3px 1px rgba(60, 64, 67, 0.15);\n",
              "      fill: #174EA6;\n",
              "    }\n",
              "\n",
              "    [theme=dark] .colab-df-convert {\n",
              "      background-color: #3B4455;\n",
              "      fill: #D2E3FC;\n",
              "    }\n",
              "\n",
              "    [theme=dark] .colab-df-convert:hover {\n",
              "      background-color: #434B5C;\n",
              "      box-shadow: 0px 1px 3px 1px rgba(0, 0, 0, 0.15);\n",
              "      filter: drop-shadow(0px 1px 2px rgba(0, 0, 0, 0.3));\n",
              "      fill: #FFFFFF;\n",
              "    }\n",
              "  </style>\n",
              "\n",
              "      <script>\n",
              "        const buttonEl =\n",
              "          document.querySelector('#df-b5653567-3ec6-45c9-abe6-f2e8a74254c8 button.colab-df-convert');\n",
              "        buttonEl.style.display =\n",
              "          google.colab.kernel.accessAllowed ? 'block' : 'none';\n",
              "\n",
              "        async function convertToInteractive(key) {\n",
              "          const element = document.querySelector('#df-b5653567-3ec6-45c9-abe6-f2e8a74254c8');\n",
              "          const dataTable =\n",
              "            await google.colab.kernel.invokeFunction('convertToInteractive',\n",
              "                                                     [key], {});\n",
              "          if (!dataTable) return;\n",
              "\n",
              "          const docLinkHtml = 'Like what you see? Visit the ' +\n",
              "            '<a target=\"_blank\" href=https://colab.research.google.com/notebooks/data_table.ipynb>data table notebook</a>'\n",
              "            + ' to learn more about interactive tables.';\n",
              "          element.innerHTML = '';\n",
              "          dataTable['output_type'] = 'display_data';\n",
              "          await google.colab.output.renderOutput(dataTable, element);\n",
              "          const docLink = document.createElement('div');\n",
              "          docLink.innerHTML = docLinkHtml;\n",
              "          element.appendChild(docLink);\n",
              "        }\n",
              "      </script>\n",
              "    </div>\n",
              "  </div>\n",
              "  "
            ],
            "text/plain": [
              "        R-ref       G-ref  ...  Shad                                       Img\n",
              "0  226.825466  208.749223  ...    A1  E3173A1F-D34A-4D28-928B-E1C32CF79872.png\n",
              "1  229.180847  211.616647  ...    A1  013F1BC6-5EF5-4A49-8F01-69FB54E775C3.png\n",
              "2  230.488636  212.745241  ...    A1  0F4BD91E-9F4C-408D-BD77-1A2D48FD0758.png\n",
              "3  224.159091  206.104895  ...    A1  C3FDAEEA-FA70-4C39-AF06-F3A68D515336.png\n",
              "4  225.504759  207.478341  ...    A1  9C8F8D57-3A59-4F0F-8F7E-9F81D3456B62.png\n",
              "\n",
              "[5 rows x 16 columns]"
            ]
          },
          "metadata": {},
          "execution_count": 149
        }
      ]
    },
    {
      "cell_type": "markdown",
      "source": [
        "###RGB"
      ],
      "metadata": {
        "id": "xkr8_V_nmT6z"
      }
    },
    {
      "cell_type": "code",
      "source": [
        "RGB_A4_Set4 = table_A4Set4"
      ],
      "metadata": {
        "id": "72idAyO1mT6z"
      },
      "execution_count": 150,
      "outputs": []
    },
    {
      "cell_type": "code",
      "source": [
        "RGB_A4_Set1 = table_A4Set1"
      ],
      "metadata": {
        "id": "Gl4tUns2mT6z"
      },
      "execution_count": 151,
      "outputs": []
    },
    {
      "cell_type": "code",
      "source": [
        "RGB_A4_Set2 = table_A4Set2"
      ],
      "metadata": {
        "id": "qP4jsJZMmT6z"
      },
      "execution_count": 152,
      "outputs": []
    },
    {
      "cell_type": "code",
      "source": [
        "RGB_A4_Set3 = table_A4Set3"
      ],
      "metadata": {
        "id": "yZeEMAppmT6z"
      },
      "execution_count": 153,
      "outputs": []
    },
    {
      "cell_type": "code",
      "source": [
        "RGB_A4_concat = pd.concat([RGB_A4_Set1,RGB_A4_Set2])"
      ],
      "metadata": {
        "id": "cleEY7-8pTn7"
      },
      "execution_count": 154,
      "outputs": []
    },
    {
      "cell_type": "code",
      "source": [
        "RGB_A4_concat0 = pd.concat([RGB_A4_concat,RGB_A4_Set4])"
      ],
      "metadata": {
        "id": "b2xqjcjgmT6z"
      },
      "execution_count": 155,
      "outputs": []
    },
    {
      "cell_type": "code",
      "source": [
        "RGB_A4_concat1 = pd.concat([RGB_A4_concat0,RGB_A4_Set3])"
      ],
      "metadata": {
        "id": "w0kOUiqUmT60"
      },
      "execution_count": 156,
      "outputs": []
    },
    {
      "cell_type": "code",
      "source": [
        "RGB_A4_concat2 = RGB_A4_concat1.drop(['H-ref','S-ref','V-ref','H-Shad','S-Shad','V-Shad','Setting','Ref','Shad','Img','Set4'], axis=1)"
      ],
      "metadata": {
        "id": "27nGfKormT60"
      },
      "execution_count": 157,
      "outputs": []
    },
    {
      "cell_type": "code",
      "source": [
        "X_test_A4_RGB = np.array(RGB_D3_CC1)"
      ],
      "metadata": {
        "id": "Qc4YS3uHmT60"
      },
      "execution_count": 158,
      "outputs": []
    },
    {
      "cell_type": "code",
      "source": [
        "y_A4_RGB =  table_D3CC1.iloc[:,14:15]"
      ],
      "metadata": {
        "id": "tqo97GyZmT60"
      },
      "execution_count": 159,
      "outputs": []
    },
    {
      "cell_type": "code",
      "source": [
        "y_test_A4_RGB = np.array(y_A4_RGB)"
      ],
      "metadata": {
        "id": "gOFEqZsnmT60"
      },
      "execution_count": 160,
      "outputs": []
    },
    {
      "cell_type": "code",
      "source": [
        "X_train_A4_RGB = np.array(RGB_A4_concat2)"
      ],
      "metadata": {
        "id": "evdsCaIqmT60"
      },
      "execution_count": 161,
      "outputs": []
    },
    {
      "cell_type": "code",
      "source": [
        "y_train_A4_RGB = RGB_A4_concat1.iloc[:,14:15]"
      ],
      "metadata": {
        "id": "UDKVjmV3mT60"
      },
      "execution_count": 162,
      "outputs": []
    },
    {
      "cell_type": "code",
      "source": [
        "y_train_A4_RGB = np.array(y_train_A4_RGB)"
      ],
      "metadata": {
        "id": "HWKuVJsEmT60"
      },
      "execution_count": 163,
      "outputs": []
    },
    {
      "cell_type": "code",
      "source": [
        "clf.fit(X_train_A4_RGB, y_train_A4_RGB)"
      ],
      "metadata": {
        "id": "mKLrfno7mT61",
        "outputId": "5c7f83ae-649a-463a-f9e5-67232c592c79",
        "colab": {
          "base_uri": "https://localhost:8080/"
        }
      },
      "execution_count": 164,
      "outputs": [
        {
          "output_type": "stream",
          "name": "stderr",
          "text": [
            "/usr/local/lib/python3.7/dist-packages/ipykernel_launcher.py:1: DataConversionWarning: A column-vector y was passed when a 1d array was expected. Please change the shape of y to (n_samples,), for example using ravel().\n",
            "  \"\"\"Entry point for launching an IPython kernel.\n"
          ]
        },
        {
          "output_type": "execute_result",
          "data": {
            "text/plain": [
              "RandomForestClassifier()"
            ]
          },
          "metadata": {},
          "execution_count": 164
        }
      ]
    },
    {
      "cell_type": "code",
      "source": [
        "y_pred_A4_RGB = clf.predict(X_test_A4_RGB)"
      ],
      "metadata": {
        "id": "Vq3eKt90mT61"
      },
      "execution_count": 165,
      "outputs": []
    },
    {
      "cell_type": "code",
      "source": [
        "print(\"Accuracy:\", metrics.accuracy_score(y_test_A4_RGB, y_pred_A4_RGB))"
      ],
      "metadata": {
        "id": "7v0zBiIVmT61",
        "outputId": "c1a37695-9389-4880-fbe5-d7f5b002e426",
        "colab": {
          "base_uri": "https://localhost:8080/"
        }
      },
      "execution_count": 166,
      "outputs": [
        {
          "output_type": "stream",
          "name": "stdout",
          "text": [
            "Accuracy: 0.01\n"
          ]
        }
      ]
    },
    {
      "cell_type": "markdown",
      "source": [
        "###HSV"
      ],
      "metadata": {
        "id": "SFfZqFEqmT61"
      }
    },
    {
      "cell_type": "code",
      "source": [
        "HSV_A4_concat2 = RGB_A4_concat1.drop(['R-ref','G-ref','B-ref','R-Shad','G-Shad','B-Shad','Setting','Ref','Shad','Img','Set4'], axis=1)"
      ],
      "metadata": {
        "id": "iQDhby-dmT61"
      },
      "execution_count": 167,
      "outputs": []
    },
    {
      "cell_type": "code",
      "source": [
        "X_test_A4_HSV = np.array(HSV_D3_CC1)"
      ],
      "metadata": {
        "id": "gGPuTgHamT62"
      },
      "execution_count": 168,
      "outputs": []
    },
    {
      "cell_type": "code",
      "source": [
        "y_A4_HSV =  table_D3CC1.iloc[:,14:15]"
      ],
      "metadata": {
        "id": "B9OqUKypmT62"
      },
      "execution_count": 169,
      "outputs": []
    },
    {
      "cell_type": "code",
      "source": [
        "y_test_A4_HSV = np.array(y_A4_RGB)"
      ],
      "metadata": {
        "id": "z5Jh7WrlmT62"
      },
      "execution_count": 170,
      "outputs": []
    },
    {
      "cell_type": "code",
      "source": [
        "X_train_A4_HSV = np.array(HSV_A4_concat2)"
      ],
      "metadata": {
        "id": "ZxnVmXUKmT62"
      },
      "execution_count": 171,
      "outputs": []
    },
    {
      "cell_type": "code",
      "source": [
        "y_train_A4HSV = RGB_A4_concat1.iloc[:,14:15]"
      ],
      "metadata": {
        "id": "V6lZEw3jmT62"
      },
      "execution_count": 172,
      "outputs": []
    },
    {
      "cell_type": "code",
      "source": [
        "y_train_A4_HSV = np.array(y_train_A4HSV)"
      ],
      "metadata": {
        "id": "xSFHaFsFmT62"
      },
      "execution_count": 173,
      "outputs": []
    },
    {
      "cell_type": "code",
      "source": [
        "clf.fit(X_train_A4_HSV, y_train_A4_HSV)"
      ],
      "metadata": {
        "id": "hW7GM7GRmT62",
        "outputId": "335b39dd-0fc8-4190-d18e-ef6bd6988641",
        "colab": {
          "base_uri": "https://localhost:8080/"
        }
      },
      "execution_count": 174,
      "outputs": [
        {
          "output_type": "stream",
          "name": "stderr",
          "text": [
            "/usr/local/lib/python3.7/dist-packages/ipykernel_launcher.py:1: DataConversionWarning: A column-vector y was passed when a 1d array was expected. Please change the shape of y to (n_samples,), for example using ravel().\n",
            "  \"\"\"Entry point for launching an IPython kernel.\n"
          ]
        },
        {
          "output_type": "execute_result",
          "data": {
            "text/plain": [
              "RandomForestClassifier()"
            ]
          },
          "metadata": {},
          "execution_count": 174
        }
      ]
    },
    {
      "cell_type": "code",
      "source": [
        "y_pred_A4_HSV = clf.predict(X_test_A4_HSV)"
      ],
      "metadata": {
        "id": "HlQR18cxmT62"
      },
      "execution_count": 175,
      "outputs": []
    },
    {
      "cell_type": "code",
      "source": [
        "print(\"Accuracy:\", metrics.accuracy_score(y_test_A4_HSV, y_pred_A4_HSV))"
      ],
      "metadata": {
        "id": "_ABaescjmT62",
        "outputId": "75f8a28c-21bb-45df-f58f-fdf898b5dfaf",
        "colab": {
          "base_uri": "https://localhost:8080/"
        }
      },
      "execution_count": 176,
      "outputs": [
        {
          "output_type": "stream",
          "name": "stdout",
          "text": [
            "Accuracy: 0.08\n"
          ]
        }
      ]
    },
    {
      "cell_type": "markdown",
      "source": [
        "#BB"
      ],
      "metadata": {
        "id": "_QZmNKGToJfj"
      }
    },
    {
      "cell_type": "markdown",
      "source": [
        "##B1"
      ],
      "metadata": {
        "id": "se58n_Qroh-i"
      }
    },
    {
      "cell_type": "code",
      "source": [
        "table_B1Set1 = pd.read_excel(Set1 , sheet_name='B1Set1 ')\n",
        "table_B1Set1.head()"
      ],
      "metadata": {
        "id": "ySX9ISTZoh-o",
        "outputId": "26e3e5a1-4cbb-42d3-bf62-12588555cbf2",
        "colab": {
          "base_uri": "https://localhost:8080/",
          "height": 0
        }
      },
      "execution_count": 177,
      "outputs": [
        {
          "output_type": "execute_result",
          "data": {
            "text/html": [
              "\n",
              "  <div id=\"df-e185da98-d87d-44ca-85b6-b9f567fefef1\">\n",
              "    <div class=\"colab-df-container\">\n",
              "      <div>\n",
              "<style scoped>\n",
              "    .dataframe tbody tr th:only-of-type {\n",
              "        vertical-align: middle;\n",
              "    }\n",
              "\n",
              "    .dataframe tbody tr th {\n",
              "        vertical-align: top;\n",
              "    }\n",
              "\n",
              "    .dataframe thead th {\n",
              "        text-align: right;\n",
              "    }\n",
              "</style>\n",
              "<table border=\"1\" class=\"dataframe\">\n",
              "  <thead>\n",
              "    <tr style=\"text-align: right;\">\n",
              "      <th></th>\n",
              "      <th>R-ref</th>\n",
              "      <th>G-ref</th>\n",
              "      <th>B-ref</th>\n",
              "      <th>R-Shad</th>\n",
              "      <th>G-Shad</th>\n",
              "      <th>B-Shad</th>\n",
              "      <th>H-ref</th>\n",
              "      <th>S-ref</th>\n",
              "      <th>V-ref</th>\n",
              "      <th>H-Shad</th>\n",
              "      <th>S-Shad</th>\n",
              "      <th>V-Shad</th>\n",
              "      <th>Setting</th>\n",
              "      <th>Ref</th>\n",
              "      <th>Shad</th>\n",
              "      <th>Img</th>\n",
              "    </tr>\n",
              "  </thead>\n",
              "  <tbody>\n",
              "    <tr>\n",
              "      <th>0</th>\n",
              "      <td>239.313326</td>\n",
              "      <td>216.689200</td>\n",
              "      <td>159.936189</td>\n",
              "      <td>238.952924</td>\n",
              "      <td>224.485497</td>\n",
              "      <td>187.712816</td>\n",
              "      <td>21.514180</td>\n",
              "      <td>84.670746</td>\n",
              "      <td>239.313326</td>\n",
              "      <td>21.714206</td>\n",
              "      <td>53.877212</td>\n",
              "      <td>240.478176</td>\n",
              "      <td>Set1</td>\n",
              "      <td>B1</td>\n",
              "      <td>A1</td>\n",
              "      <td>1CE4FFAC-5C8A-4C04-8A57-7BB28F25302D.png</td>\n",
              "    </tr>\n",
              "    <tr>\n",
              "      <th>1</th>\n",
              "      <td>236.874709</td>\n",
              "      <td>224.246018</td>\n",
              "      <td>189.226204</td>\n",
              "      <td>230.156056</td>\n",
              "      <td>219.555185</td>\n",
              "      <td>186.043740</td>\n",
              "      <td>22.082653</td>\n",
              "      <td>51.388403</td>\n",
              "      <td>236.874709</td>\n",
              "      <td>22.706700</td>\n",
              "      <td>48.897415</td>\n",
              "      <td>230.156056</td>\n",
              "      <td>Set1</td>\n",
              "      <td>B1</td>\n",
              "      <td>A1</td>\n",
              "      <td>67F8EDAB-A9C7-4B91-B07B-BFADEE915B61.png</td>\n",
              "    </tr>\n",
              "    <tr>\n",
              "      <th>2</th>\n",
              "      <td>233.620047</td>\n",
              "      <td>221.292735</td>\n",
              "      <td>185.655789</td>\n",
              "      <td>226.263831</td>\n",
              "      <td>214.966732</td>\n",
              "      <td>180.068854</td>\n",
              "      <td>22.295552</td>\n",
              "      <td>52.415695</td>\n",
              "      <td>233.620047</td>\n",
              "      <td>22.698360</td>\n",
              "      <td>52.072004</td>\n",
              "      <td>226.263831</td>\n",
              "      <td>Set1</td>\n",
              "      <td>B1</td>\n",
              "      <td>A1</td>\n",
              "      <td>935ACCF9-A4D6-4CB3-A437-6333758D46CD.png</td>\n",
              "    </tr>\n",
              "    <tr>\n",
              "      <th>3</th>\n",
              "      <td>237.811480</td>\n",
              "      <td>225.270882</td>\n",
              "      <td>190.323718</td>\n",
              "      <td>231.649152</td>\n",
              "      <td>220.802891</td>\n",
              "      <td>187.113799</td>\n",
              "      <td>22.090909</td>\n",
              "      <td>51.023116</td>\n",
              "      <td>237.811480</td>\n",
              "      <td>22.639236</td>\n",
              "      <td>49.034844</td>\n",
              "      <td>231.649152</td>\n",
              "      <td>Set1</td>\n",
              "      <td>B1</td>\n",
              "      <td>A1</td>\n",
              "      <td>C7A49040-51EF-4045-9394-5E8F4A17B8A2.png</td>\n",
              "    </tr>\n",
              "    <tr>\n",
              "      <th>4</th>\n",
              "      <td>236.552836</td>\n",
              "      <td>224.011752</td>\n",
              "      <td>188.282051</td>\n",
              "      <td>231.108331</td>\n",
              "      <td>219.994996</td>\n",
              "      <td>185.944213</td>\n",
              "      <td>22.189103</td>\n",
              "      <td>52.109751</td>\n",
              "      <td>236.552836</td>\n",
              "      <td>22.645538</td>\n",
              "      <td>49.851543</td>\n",
              "      <td>231.108331</td>\n",
              "      <td>Set1</td>\n",
              "      <td>B1</td>\n",
              "      <td>A1</td>\n",
              "      <td>EFCB2FF8-FACF-4778-946B-4DFEC0F8EB5D.png</td>\n",
              "    </tr>\n",
              "  </tbody>\n",
              "</table>\n",
              "</div>\n",
              "      <button class=\"colab-df-convert\" onclick=\"convertToInteractive('df-e185da98-d87d-44ca-85b6-b9f567fefef1')\"\n",
              "              title=\"Convert this dataframe to an interactive table.\"\n",
              "              style=\"display:none;\">\n",
              "        \n",
              "  <svg xmlns=\"http://www.w3.org/2000/svg\" height=\"24px\"viewBox=\"0 0 24 24\"\n",
              "       width=\"24px\">\n",
              "    <path d=\"M0 0h24v24H0V0z\" fill=\"none\"/>\n",
              "    <path d=\"M18.56 5.44l.94 2.06.94-2.06 2.06-.94-2.06-.94-.94-2.06-.94 2.06-2.06.94zm-11 1L8.5 8.5l.94-2.06 2.06-.94-2.06-.94L8.5 2.5l-.94 2.06-2.06.94zm10 10l.94 2.06.94-2.06 2.06-.94-2.06-.94-.94-2.06-.94 2.06-2.06.94z\"/><path d=\"M17.41 7.96l-1.37-1.37c-.4-.4-.92-.59-1.43-.59-.52 0-1.04.2-1.43.59L10.3 9.45l-7.72 7.72c-.78.78-.78 2.05 0 2.83L4 21.41c.39.39.9.59 1.41.59.51 0 1.02-.2 1.41-.59l7.78-7.78 2.81-2.81c.8-.78.8-2.07 0-2.86zM5.41 20L4 18.59l7.72-7.72 1.47 1.35L5.41 20z\"/>\n",
              "  </svg>\n",
              "      </button>\n",
              "      \n",
              "  <style>\n",
              "    .colab-df-container {\n",
              "      display:flex;\n",
              "      flex-wrap:wrap;\n",
              "      gap: 12px;\n",
              "    }\n",
              "\n",
              "    .colab-df-convert {\n",
              "      background-color: #E8F0FE;\n",
              "      border: none;\n",
              "      border-radius: 50%;\n",
              "      cursor: pointer;\n",
              "      display: none;\n",
              "      fill: #1967D2;\n",
              "      height: 32px;\n",
              "      padding: 0 0 0 0;\n",
              "      width: 32px;\n",
              "    }\n",
              "\n",
              "    .colab-df-convert:hover {\n",
              "      background-color: #E2EBFA;\n",
              "      box-shadow: 0px 1px 2px rgba(60, 64, 67, 0.3), 0px 1px 3px 1px rgba(60, 64, 67, 0.15);\n",
              "      fill: #174EA6;\n",
              "    }\n",
              "\n",
              "    [theme=dark] .colab-df-convert {\n",
              "      background-color: #3B4455;\n",
              "      fill: #D2E3FC;\n",
              "    }\n",
              "\n",
              "    [theme=dark] .colab-df-convert:hover {\n",
              "      background-color: #434B5C;\n",
              "      box-shadow: 0px 1px 3px 1px rgba(0, 0, 0, 0.15);\n",
              "      filter: drop-shadow(0px 1px 2px rgba(0, 0, 0, 0.3));\n",
              "      fill: #FFFFFF;\n",
              "    }\n",
              "  </style>\n",
              "\n",
              "      <script>\n",
              "        const buttonEl =\n",
              "          document.querySelector('#df-e185da98-d87d-44ca-85b6-b9f567fefef1 button.colab-df-convert');\n",
              "        buttonEl.style.display =\n",
              "          google.colab.kernel.accessAllowed ? 'block' : 'none';\n",
              "\n",
              "        async function convertToInteractive(key) {\n",
              "          const element = document.querySelector('#df-e185da98-d87d-44ca-85b6-b9f567fefef1');\n",
              "          const dataTable =\n",
              "            await google.colab.kernel.invokeFunction('convertToInteractive',\n",
              "                                                     [key], {});\n",
              "          if (!dataTable) return;\n",
              "\n",
              "          const docLinkHtml = 'Like what you see? Visit the ' +\n",
              "            '<a target=\"_blank\" href=https://colab.research.google.com/notebooks/data_table.ipynb>data table notebook</a>'\n",
              "            + ' to learn more about interactive tables.';\n",
              "          element.innerHTML = '';\n",
              "          dataTable['output_type'] = 'display_data';\n",
              "          await google.colab.output.renderOutput(dataTable, element);\n",
              "          const docLink = document.createElement('div');\n",
              "          docLink.innerHTML = docLinkHtml;\n",
              "          element.appendChild(docLink);\n",
              "        }\n",
              "      </script>\n",
              "    </div>\n",
              "  </div>\n",
              "  "
            ],
            "text/plain": [
              "        R-ref       G-ref  ...  Shad                                       Img\n",
              "0  239.313326  216.689200  ...    A1  1CE4FFAC-5C8A-4C04-8A57-7BB28F25302D.png\n",
              "1  236.874709  224.246018  ...    A1  67F8EDAB-A9C7-4B91-B07B-BFADEE915B61.png\n",
              "2  233.620047  221.292735  ...    A1  935ACCF9-A4D6-4CB3-A437-6333758D46CD.png\n",
              "3  237.811480  225.270882  ...    A1  C7A49040-51EF-4045-9394-5E8F4A17B8A2.png\n",
              "4  236.552836  224.011752  ...    A1  EFCB2FF8-FACF-4778-946B-4DFEC0F8EB5D.png\n",
              "\n",
              "[5 rows x 16 columns]"
            ]
          },
          "metadata": {},
          "execution_count": 177
        }
      ]
    },
    {
      "cell_type": "code",
      "source": [
        "table_B1Set2 = pd.read_excel(Set2, sheet_name='B1Set2')\n",
        "table_B1Set2.head()"
      ],
      "metadata": {
        "id": "Zpk8QEaYoh-o",
        "outputId": "9a329e0a-4f5f-437f-8fa0-367ae3c895b9",
        "colab": {
          "base_uri": "https://localhost:8080/",
          "height": 0
        }
      },
      "execution_count": 178,
      "outputs": [
        {
          "output_type": "execute_result",
          "data": {
            "text/html": [
              "\n",
              "  <div id=\"df-493c6b65-3522-4a41-bc2e-47f289f68eab\">\n",
              "    <div class=\"colab-df-container\">\n",
              "      <div>\n",
              "<style scoped>\n",
              "    .dataframe tbody tr th:only-of-type {\n",
              "        vertical-align: middle;\n",
              "    }\n",
              "\n",
              "    .dataframe tbody tr th {\n",
              "        vertical-align: top;\n",
              "    }\n",
              "\n",
              "    .dataframe thead th {\n",
              "        text-align: right;\n",
              "    }\n",
              "</style>\n",
              "<table border=\"1\" class=\"dataframe\">\n",
              "  <thead>\n",
              "    <tr style=\"text-align: right;\">\n",
              "      <th></th>\n",
              "      <th>R-ref</th>\n",
              "      <th>G-ref</th>\n",
              "      <th>B-ref</th>\n",
              "      <th>R-Shad</th>\n",
              "      <th>G-Shad</th>\n",
              "      <th>B-Shad</th>\n",
              "      <th>H-ref</th>\n",
              "      <th>S-ref</th>\n",
              "      <th>V-ref</th>\n",
              "      <th>H-Shad</th>\n",
              "      <th>S-Shad</th>\n",
              "      <th>V-Shad</th>\n",
              "      <th>Setting</th>\n",
              "      <th>Ref</th>\n",
              "      <th>Shad</th>\n",
              "      <th>Img</th>\n",
              "    </tr>\n",
              "  </thead>\n",
              "  <tbody>\n",
              "    <tr>\n",
              "      <th>0</th>\n",
              "      <td>234.815031</td>\n",
              "      <td>217.558477</td>\n",
              "      <td>176.138625</td>\n",
              "      <td>234.785079</td>\n",
              "      <td>217.582035</td>\n",
              "      <td>176.231207</td>\n",
              "      <td>21.535184</td>\n",
              "      <td>63.733382</td>\n",
              "      <td>234.815031</td>\n",
              "      <td>21.532964</td>\n",
              "      <td>63.610696</td>\n",
              "      <td>234.785079</td>\n",
              "      <td>Set2</td>\n",
              "      <td>B1</td>\n",
              "      <td>A1</td>\n",
              "      <td>AEF34645-B125-4481-B378-9F740119E34B.png</td>\n",
              "    </tr>\n",
              "    <tr>\n",
              "      <th>1</th>\n",
              "      <td>232.727620</td>\n",
              "      <td>216.042529</td>\n",
              "      <td>174.417742</td>\n",
              "      <td>232.590499</td>\n",
              "      <td>215.900220</td>\n",
              "      <td>174.397482</td>\n",
              "      <td>21.670968</td>\n",
              "      <td>63.910153</td>\n",
              "      <td>232.727620</td>\n",
              "      <td>21.642557</td>\n",
              "      <td>63.816300</td>\n",
              "      <td>232.590499</td>\n",
              "      <td>Set2</td>\n",
              "      <td>B1</td>\n",
              "      <td>A1</td>\n",
              "      <td>7B786FDA-1147-419F-870D-48EE311B41A7.png</td>\n",
              "    </tr>\n",
              "    <tr>\n",
              "      <th>2</th>\n",
              "      <td>226.770067</td>\n",
              "      <td>210.563347</td>\n",
              "      <td>170.603522</td>\n",
              "      <td>226.835005</td>\n",
              "      <td>210.685229</td>\n",
              "      <td>170.845246</td>\n",
              "      <td>21.581284</td>\n",
              "      <td>63.122393</td>\n",
              "      <td>226.770067</td>\n",
              "      <td>21.579262</td>\n",
              "      <td>62.906479</td>\n",
              "      <td>226.835005</td>\n",
              "      <td>Set2</td>\n",
              "      <td>B1</td>\n",
              "      <td>A1</td>\n",
              "      <td>14C23018-F05B-47AF-ADC6-277F5B8227F2.png</td>\n",
              "    </tr>\n",
              "    <tr>\n",
              "      <th>3</th>\n",
              "      <td>225.828017</td>\n",
              "      <td>205.090171</td>\n",
              "      <td>161.716581</td>\n",
              "      <td>225.956973</td>\n",
              "      <td>205.274020</td>\n",
              "      <td>162.008179</td>\n",
              "      <td>20.171252</td>\n",
              "      <td>72.425047</td>\n",
              "      <td>225.828017</td>\n",
              "      <td>20.198635</td>\n",
              "      <td>72.194652</td>\n",
              "      <td>225.956973</td>\n",
              "      <td>Set2</td>\n",
              "      <td>B1</td>\n",
              "      <td>A1</td>\n",
              "      <td>03F30AE6-EE62-4EB0-9349-3BAA28F5E850.png</td>\n",
              "    </tr>\n",
              "    <tr>\n",
              "      <th>4</th>\n",
              "      <td>224.204123</td>\n",
              "      <td>203.246003</td>\n",
              "      <td>160.220274</td>\n",
              "      <td>224.318825</td>\n",
              "      <td>203.394851</td>\n",
              "      <td>160.420667</td>\n",
              "      <td>20.013879</td>\n",
              "      <td>72.803993</td>\n",
              "      <td>224.204123</td>\n",
              "      <td>20.018633</td>\n",
              "      <td>72.672001</td>\n",
              "      <td>224.318825</td>\n",
              "      <td>Set2</td>\n",
              "      <td>B1</td>\n",
              "      <td>A1</td>\n",
              "      <td>E58BEC6B-47E4-4F24-A845-6C7065F6286F.png</td>\n",
              "    </tr>\n",
              "  </tbody>\n",
              "</table>\n",
              "</div>\n",
              "      <button class=\"colab-df-convert\" onclick=\"convertToInteractive('df-493c6b65-3522-4a41-bc2e-47f289f68eab')\"\n",
              "              title=\"Convert this dataframe to an interactive table.\"\n",
              "              style=\"display:none;\">\n",
              "        \n",
              "  <svg xmlns=\"http://www.w3.org/2000/svg\" height=\"24px\"viewBox=\"0 0 24 24\"\n",
              "       width=\"24px\">\n",
              "    <path d=\"M0 0h24v24H0V0z\" fill=\"none\"/>\n",
              "    <path d=\"M18.56 5.44l.94 2.06.94-2.06 2.06-.94-2.06-.94-.94-2.06-.94 2.06-2.06.94zm-11 1L8.5 8.5l.94-2.06 2.06-.94-2.06-.94L8.5 2.5l-.94 2.06-2.06.94zm10 10l.94 2.06.94-2.06 2.06-.94-2.06-.94-.94-2.06-.94 2.06-2.06.94z\"/><path d=\"M17.41 7.96l-1.37-1.37c-.4-.4-.92-.59-1.43-.59-.52 0-1.04.2-1.43.59L10.3 9.45l-7.72 7.72c-.78.78-.78 2.05 0 2.83L4 21.41c.39.39.9.59 1.41.59.51 0 1.02-.2 1.41-.59l7.78-7.78 2.81-2.81c.8-.78.8-2.07 0-2.86zM5.41 20L4 18.59l7.72-7.72 1.47 1.35L5.41 20z\"/>\n",
              "  </svg>\n",
              "      </button>\n",
              "      \n",
              "  <style>\n",
              "    .colab-df-container {\n",
              "      display:flex;\n",
              "      flex-wrap:wrap;\n",
              "      gap: 12px;\n",
              "    }\n",
              "\n",
              "    .colab-df-convert {\n",
              "      background-color: #E8F0FE;\n",
              "      border: none;\n",
              "      border-radius: 50%;\n",
              "      cursor: pointer;\n",
              "      display: none;\n",
              "      fill: #1967D2;\n",
              "      height: 32px;\n",
              "      padding: 0 0 0 0;\n",
              "      width: 32px;\n",
              "    }\n",
              "\n",
              "    .colab-df-convert:hover {\n",
              "      background-color: #E2EBFA;\n",
              "      box-shadow: 0px 1px 2px rgba(60, 64, 67, 0.3), 0px 1px 3px 1px rgba(60, 64, 67, 0.15);\n",
              "      fill: #174EA6;\n",
              "    }\n",
              "\n",
              "    [theme=dark] .colab-df-convert {\n",
              "      background-color: #3B4455;\n",
              "      fill: #D2E3FC;\n",
              "    }\n",
              "\n",
              "    [theme=dark] .colab-df-convert:hover {\n",
              "      background-color: #434B5C;\n",
              "      box-shadow: 0px 1px 3px 1px rgba(0, 0, 0, 0.15);\n",
              "      filter: drop-shadow(0px 1px 2px rgba(0, 0, 0, 0.3));\n",
              "      fill: #FFFFFF;\n",
              "    }\n",
              "  </style>\n",
              "\n",
              "      <script>\n",
              "        const buttonEl =\n",
              "          document.querySelector('#df-493c6b65-3522-4a41-bc2e-47f289f68eab button.colab-df-convert');\n",
              "        buttonEl.style.display =\n",
              "          google.colab.kernel.accessAllowed ? 'block' : 'none';\n",
              "\n",
              "        async function convertToInteractive(key) {\n",
              "          const element = document.querySelector('#df-493c6b65-3522-4a41-bc2e-47f289f68eab');\n",
              "          const dataTable =\n",
              "            await google.colab.kernel.invokeFunction('convertToInteractive',\n",
              "                                                     [key], {});\n",
              "          if (!dataTable) return;\n",
              "\n",
              "          const docLinkHtml = 'Like what you see? Visit the ' +\n",
              "            '<a target=\"_blank\" href=https://colab.research.google.com/notebooks/data_table.ipynb>data table notebook</a>'\n",
              "            + ' to learn more about interactive tables.';\n",
              "          element.innerHTML = '';\n",
              "          dataTable['output_type'] = 'display_data';\n",
              "          await google.colab.output.renderOutput(dataTable, element);\n",
              "          const docLink = document.createElement('div');\n",
              "          docLink.innerHTML = docLinkHtml;\n",
              "          element.appendChild(docLink);\n",
              "        }\n",
              "      </script>\n",
              "    </div>\n",
              "  </div>\n",
              "  "
            ],
            "text/plain": [
              "        R-ref       G-ref  ...  Shad                                       Img\n",
              "0  234.815031  217.558477  ...    A1  AEF34645-B125-4481-B378-9F740119E34B.png\n",
              "1  232.727620  216.042529  ...    A1  7B786FDA-1147-419F-870D-48EE311B41A7.png\n",
              "2  226.770067  210.563347  ...    A1  14C23018-F05B-47AF-ADC6-277F5B8227F2.png\n",
              "3  225.828017  205.090171  ...    A1  03F30AE6-EE62-4EB0-9349-3BAA28F5E850.png\n",
              "4  224.204123  203.246003  ...    A1  E58BEC6B-47E4-4F24-A845-6C7065F6286F.png\n",
              "\n",
              "[5 rows x 16 columns]"
            ]
          },
          "metadata": {},
          "execution_count": 178
        }
      ]
    },
    {
      "cell_type": "code",
      "source": [
        "table_B1Set3 = pd.read_excel(Set3, sheet_name='B1Set3 ')\n",
        "table_B1Set3.head()"
      ],
      "metadata": {
        "id": "cIaaLB30oh-o",
        "outputId": "ec6dfd0a-ae72-426f-c7a5-d85e3a8f2dbb",
        "colab": {
          "base_uri": "https://localhost:8080/",
          "height": 0
        }
      },
      "execution_count": 179,
      "outputs": [
        {
          "output_type": "execute_result",
          "data": {
            "text/html": [
              "\n",
              "  <div id=\"df-e94f4276-0848-4dfc-aaab-0c3bf46d0ce4\">\n",
              "    <div class=\"colab-df-container\">\n",
              "      <div>\n",
              "<style scoped>\n",
              "    .dataframe tbody tr th:only-of-type {\n",
              "        vertical-align: middle;\n",
              "    }\n",
              "\n",
              "    .dataframe tbody tr th {\n",
              "        vertical-align: top;\n",
              "    }\n",
              "\n",
              "    .dataframe thead th {\n",
              "        text-align: right;\n",
              "    }\n",
              "</style>\n",
              "<table border=\"1\" class=\"dataframe\">\n",
              "  <thead>\n",
              "    <tr style=\"text-align: right;\">\n",
              "      <th></th>\n",
              "      <th>R-ref</th>\n",
              "      <th>G-ref</th>\n",
              "      <th>B-ref</th>\n",
              "      <th>R-Shad</th>\n",
              "      <th>G-Shad</th>\n",
              "      <th>B-Shad</th>\n",
              "      <th>H-ref</th>\n",
              "      <th>S-ref</th>\n",
              "      <th>V-ref</th>\n",
              "      <th>H-Shad</th>\n",
              "      <th>S-Shad</th>\n",
              "      <th>V-Shad</th>\n",
              "      <th>Setting</th>\n",
              "      <th>Ref</th>\n",
              "      <th>Shad</th>\n",
              "      <th>Img</th>\n",
              "    </tr>\n",
              "  </thead>\n",
              "  <tbody>\n",
              "    <tr>\n",
              "      <th>0</th>\n",
              "      <td>236.874709</td>\n",
              "      <td>224.246018</td>\n",
              "      <td>189.226204</td>\n",
              "      <td>230.156056</td>\n",
              "      <td>219.555185</td>\n",
              "      <td>186.043740</td>\n",
              "      <td>22.082653</td>\n",
              "      <td>51.388403</td>\n",
              "      <td>236.874709</td>\n",
              "      <td>22.723659</td>\n",
              "      <td>48.229636</td>\n",
              "      <td>231.396997</td>\n",
              "      <td>Set3</td>\n",
              "      <td>B1</td>\n",
              "      <td>A1</td>\n",
              "      <td>36131F69-AE53-43F0-9393-320FE9F7F062.png</td>\n",
              "    </tr>\n",
              "    <tr>\n",
              "      <th>1</th>\n",
              "      <td>233.620047</td>\n",
              "      <td>221.292735</td>\n",
              "      <td>185.655789</td>\n",
              "      <td>226.263831</td>\n",
              "      <td>214.966732</td>\n",
              "      <td>180.068854</td>\n",
              "      <td>22.295552</td>\n",
              "      <td>52.415695</td>\n",
              "      <td>233.620047</td>\n",
              "      <td>22.702715</td>\n",
              "      <td>52.081549</td>\n",
              "      <td>227.834121</td>\n",
              "      <td>Set3</td>\n",
              "      <td>B1</td>\n",
              "      <td>A1</td>\n",
              "      <td>3E662E98-64FE-4DAE-9C23-6B9B46AFF938.png</td>\n",
              "    </tr>\n",
              "    <tr>\n",
              "      <th>2</th>\n",
              "      <td>237.811480</td>\n",
              "      <td>225.270882</td>\n",
              "      <td>190.323718</td>\n",
              "      <td>231.649152</td>\n",
              "      <td>220.802891</td>\n",
              "      <td>187.113799</td>\n",
              "      <td>22.090909</td>\n",
              "      <td>51.023116</td>\n",
              "      <td>237.811480</td>\n",
              "      <td>22.720971</td>\n",
              "      <td>48.397554</td>\n",
              "      <td>232.762117</td>\n",
              "      <td>Set3</td>\n",
              "      <td>B1</td>\n",
              "      <td>A1</td>\n",
              "      <td>13BDAEBC-84BE-4B57-BD10-B3BEBEC55479.png</td>\n",
              "    </tr>\n",
              "    <tr>\n",
              "      <th>3</th>\n",
              "      <td>236.552836</td>\n",
              "      <td>224.011752</td>\n",
              "      <td>188.282051</td>\n",
              "      <td>231.108331</td>\n",
              "      <td>219.994996</td>\n",
              "      <td>185.944213</td>\n",
              "      <td>22.189103</td>\n",
              "      <td>52.109751</td>\n",
              "      <td>236.552836</td>\n",
              "      <td>22.714948</td>\n",
              "      <td>49.161616</td>\n",
              "      <td>232.234362</td>\n",
              "      <td>Set3</td>\n",
              "      <td>B1</td>\n",
              "      <td>A1</td>\n",
              "      <td>73D24887-262D-44DF-BC51-1E2A687A29A0.png</td>\n",
              "    </tr>\n",
              "    <tr>\n",
              "      <th>4</th>\n",
              "      <td>233.531080</td>\n",
              "      <td>221.732129</td>\n",
              "      <td>188.679779</td>\n",
              "      <td>226.969882</td>\n",
              "      <td>216.026782</td>\n",
              "      <td>182.714577</td>\n",
              "      <td>22.118395</td>\n",
              "      <td>49.023601</td>\n",
              "      <td>233.531080</td>\n",
              "      <td>22.632564</td>\n",
              "      <td>49.847002</td>\n",
              "      <td>228.466963</td>\n",
              "      <td>Set3</td>\n",
              "      <td>B1</td>\n",
              "      <td>A1</td>\n",
              "      <td>59AB53AF-BFB4-4E7C-8C9A-5235F7B20C49.png</td>\n",
              "    </tr>\n",
              "  </tbody>\n",
              "</table>\n",
              "</div>\n",
              "      <button class=\"colab-df-convert\" onclick=\"convertToInteractive('df-e94f4276-0848-4dfc-aaab-0c3bf46d0ce4')\"\n",
              "              title=\"Convert this dataframe to an interactive table.\"\n",
              "              style=\"display:none;\">\n",
              "        \n",
              "  <svg xmlns=\"http://www.w3.org/2000/svg\" height=\"24px\"viewBox=\"0 0 24 24\"\n",
              "       width=\"24px\">\n",
              "    <path d=\"M0 0h24v24H0V0z\" fill=\"none\"/>\n",
              "    <path d=\"M18.56 5.44l.94 2.06.94-2.06 2.06-.94-2.06-.94-.94-2.06-.94 2.06-2.06.94zm-11 1L8.5 8.5l.94-2.06 2.06-.94-2.06-.94L8.5 2.5l-.94 2.06-2.06.94zm10 10l.94 2.06.94-2.06 2.06-.94-2.06-.94-.94-2.06-.94 2.06-2.06.94z\"/><path d=\"M17.41 7.96l-1.37-1.37c-.4-.4-.92-.59-1.43-.59-.52 0-1.04.2-1.43.59L10.3 9.45l-7.72 7.72c-.78.78-.78 2.05 0 2.83L4 21.41c.39.39.9.59 1.41.59.51 0 1.02-.2 1.41-.59l7.78-7.78 2.81-2.81c.8-.78.8-2.07 0-2.86zM5.41 20L4 18.59l7.72-7.72 1.47 1.35L5.41 20z\"/>\n",
              "  </svg>\n",
              "      </button>\n",
              "      \n",
              "  <style>\n",
              "    .colab-df-container {\n",
              "      display:flex;\n",
              "      flex-wrap:wrap;\n",
              "      gap: 12px;\n",
              "    }\n",
              "\n",
              "    .colab-df-convert {\n",
              "      background-color: #E8F0FE;\n",
              "      border: none;\n",
              "      border-radius: 50%;\n",
              "      cursor: pointer;\n",
              "      display: none;\n",
              "      fill: #1967D2;\n",
              "      height: 32px;\n",
              "      padding: 0 0 0 0;\n",
              "      width: 32px;\n",
              "    }\n",
              "\n",
              "    .colab-df-convert:hover {\n",
              "      background-color: #E2EBFA;\n",
              "      box-shadow: 0px 1px 2px rgba(60, 64, 67, 0.3), 0px 1px 3px 1px rgba(60, 64, 67, 0.15);\n",
              "      fill: #174EA6;\n",
              "    }\n",
              "\n",
              "    [theme=dark] .colab-df-convert {\n",
              "      background-color: #3B4455;\n",
              "      fill: #D2E3FC;\n",
              "    }\n",
              "\n",
              "    [theme=dark] .colab-df-convert:hover {\n",
              "      background-color: #434B5C;\n",
              "      box-shadow: 0px 1px 3px 1px rgba(0, 0, 0, 0.15);\n",
              "      filter: drop-shadow(0px 1px 2px rgba(0, 0, 0, 0.3));\n",
              "      fill: #FFFFFF;\n",
              "    }\n",
              "  </style>\n",
              "\n",
              "      <script>\n",
              "        const buttonEl =\n",
              "          document.querySelector('#df-e94f4276-0848-4dfc-aaab-0c3bf46d0ce4 button.colab-df-convert');\n",
              "        buttonEl.style.display =\n",
              "          google.colab.kernel.accessAllowed ? 'block' : 'none';\n",
              "\n",
              "        async function convertToInteractive(key) {\n",
              "          const element = document.querySelector('#df-e94f4276-0848-4dfc-aaab-0c3bf46d0ce4');\n",
              "          const dataTable =\n",
              "            await google.colab.kernel.invokeFunction('convertToInteractive',\n",
              "                                                     [key], {});\n",
              "          if (!dataTable) return;\n",
              "\n",
              "          const docLinkHtml = 'Like what you see? Visit the ' +\n",
              "            '<a target=\"_blank\" href=https://colab.research.google.com/notebooks/data_table.ipynb>data table notebook</a>'\n",
              "            + ' to learn more about interactive tables.';\n",
              "          element.innerHTML = '';\n",
              "          dataTable['output_type'] = 'display_data';\n",
              "          await google.colab.output.renderOutput(dataTable, element);\n",
              "          const docLink = document.createElement('div');\n",
              "          docLink.innerHTML = docLinkHtml;\n",
              "          element.appendChild(docLink);\n",
              "        }\n",
              "      </script>\n",
              "    </div>\n",
              "  </div>\n",
              "  "
            ],
            "text/plain": [
              "        R-ref       G-ref  ...  Shad                                       Img\n",
              "0  236.874709  224.246018  ...    A1  36131F69-AE53-43F0-9393-320FE9F7F062.png\n",
              "1  233.620047  221.292735  ...    A1  3E662E98-64FE-4DAE-9C23-6B9B46AFF938.png\n",
              "2  237.811480  225.270882  ...    A1  13BDAEBC-84BE-4B57-BD10-B3BEBEC55479.png\n",
              "3  236.552836  224.011752  ...    A1  73D24887-262D-44DF-BC51-1E2A687A29A0.png\n",
              "4  233.531080  221.732129  ...    A1  59AB53AF-BFB4-4E7C-8C9A-5235F7B20C49.png\n",
              "\n",
              "[5 rows x 16 columns]"
            ]
          },
          "metadata": {},
          "execution_count": 179
        }
      ]
    },
    {
      "cell_type": "code",
      "source": [
        "table_B1Set4 = pd.read_excel(Set4, sheet_name='B1Set4')\n",
        "table_B1Set4.head()"
      ],
      "metadata": {
        "id": "HbW0qS6eoh-o",
        "outputId": "ef97b0e5-3fe2-4476-fc70-47f37137fe44",
        "colab": {
          "base_uri": "https://localhost:8080/",
          "height": 0
        }
      },
      "execution_count": 180,
      "outputs": [
        {
          "output_type": "execute_result",
          "data": {
            "text/html": [
              "\n",
              "  <div id=\"df-c27681f4-a6ea-4573-aa89-b5f75cfb917c\">\n",
              "    <div class=\"colab-df-container\">\n",
              "      <div>\n",
              "<style scoped>\n",
              "    .dataframe tbody tr th:only-of-type {\n",
              "        vertical-align: middle;\n",
              "    }\n",
              "\n",
              "    .dataframe tbody tr th {\n",
              "        vertical-align: top;\n",
              "    }\n",
              "\n",
              "    .dataframe thead th {\n",
              "        text-align: right;\n",
              "    }\n",
              "</style>\n",
              "<table border=\"1\" class=\"dataframe\">\n",
              "  <thead>\n",
              "    <tr style=\"text-align: right;\">\n",
              "      <th></th>\n",
              "      <th>R-ref</th>\n",
              "      <th>G-ref</th>\n",
              "      <th>B-ref</th>\n",
              "      <th>R-Shad</th>\n",
              "      <th>G-Shad</th>\n",
              "      <th>B-Shad</th>\n",
              "      <th>H-ref</th>\n",
              "      <th>S-ref</th>\n",
              "      <th>V-ref</th>\n",
              "      <th>H-Shad</th>\n",
              "      <th>S-Shad</th>\n",
              "      <th>V-Shad</th>\n",
              "      <th>Setting</th>\n",
              "      <th>Ref</th>\n",
              "      <th>Shad</th>\n",
              "      <th>Img</th>\n",
              "    </tr>\n",
              "  </thead>\n",
              "  <tbody>\n",
              "    <tr>\n",
              "      <th>0</th>\n",
              "      <td>238.081682</td>\n",
              "      <td>221.755051</td>\n",
              "      <td>181.142385</td>\n",
              "      <td>235.877861</td>\n",
              "      <td>223.403206</td>\n",
              "      <td>188.274488</td>\n",
              "      <td>21.704351</td>\n",
              "      <td>61.046814</td>\n",
              "      <td>238.081682</td>\n",
              "      <td>22.198221</td>\n",
              "      <td>51.493281</td>\n",
              "      <td>235.877861</td>\n",
              "      <td>Set4</td>\n",
              "      <td>B1</td>\n",
              "      <td>A1</td>\n",
              "      <td>FE8C5C61-E1C3-43CD-89CA-1CC9F2F64918.png</td>\n",
              "    </tr>\n",
              "    <tr>\n",
              "      <th>1</th>\n",
              "      <td>235.952117</td>\n",
              "      <td>219.916764</td>\n",
              "      <td>179.500291</td>\n",
              "      <td>234.624780</td>\n",
              "      <td>222.123251</td>\n",
              "      <td>187.442591</td>\n",
              "      <td>21.683955</td>\n",
              "      <td>61.045940</td>\n",
              "      <td>235.952117</td>\n",
              "      <td>22.059587</td>\n",
              "      <td>51.317765</td>\n",
              "      <td>234.624780</td>\n",
              "      <td>Set4</td>\n",
              "      <td>B1</td>\n",
              "      <td>A1</td>\n",
              "      <td>D3A831B0-6702-4ED8-BCD2-DF3E93AE96AA.png</td>\n",
              "    </tr>\n",
              "    <tr>\n",
              "      <th>2</th>\n",
              "      <td>232.103632</td>\n",
              "      <td>215.131022</td>\n",
              "      <td>174.147533</td>\n",
              "      <td>230.502548</td>\n",
              "      <td>216.921416</td>\n",
              "      <td>181.024928</td>\n",
              "      <td>21.521950</td>\n",
              "      <td>63.663559</td>\n",
              "      <td>232.103632</td>\n",
              "      <td>21.845149</td>\n",
              "      <td>54.783060</td>\n",
              "      <td>230.502548</td>\n",
              "      <td>Set4</td>\n",
              "      <td>B1</td>\n",
              "      <td>A1</td>\n",
              "      <td>8A8341B2-51DF-4C76-9E21-423D884578F9.png</td>\n",
              "    </tr>\n",
              "    <tr>\n",
              "      <th>3</th>\n",
              "      <td>229.841492</td>\n",
              "      <td>209.444444</td>\n",
              "      <td>165.517483</td>\n",
              "      <td>228.251135</td>\n",
              "      <td>210.763414</td>\n",
              "      <td>169.306274</td>\n",
              "      <td>20.311189</td>\n",
              "      <td>71.366647</td>\n",
              "      <td>229.841492</td>\n",
              "      <td>21.484292</td>\n",
              "      <td>65.896673</td>\n",
              "      <td>228.251135</td>\n",
              "      <td>Set4</td>\n",
              "      <td>B1</td>\n",
              "      <td>A1</td>\n",
              "      <td>73445C43-E3BF-421B-9A97-1F1182DFFF9A.png</td>\n",
              "    </tr>\n",
              "    <tr>\n",
              "      <th>4</th>\n",
              "      <td>228.368395</td>\n",
              "      <td>207.523019</td>\n",
              "      <td>163.672980</td>\n",
              "      <td>227.025021</td>\n",
              "      <td>209.357891</td>\n",
              "      <td>169.048559</td>\n",
              "      <td>20.087024</td>\n",
              "      <td>72.279138</td>\n",
              "      <td>228.368395</td>\n",
              "      <td>21.155407</td>\n",
              "      <td>65.139561</td>\n",
              "      <td>227.025021</td>\n",
              "      <td>Set4</td>\n",
              "      <td>B1</td>\n",
              "      <td>A1</td>\n",
              "      <td>56FEB49F-EF2D-4F39-A5BC-CCD039F7C855.png</td>\n",
              "    </tr>\n",
              "  </tbody>\n",
              "</table>\n",
              "</div>\n",
              "      <button class=\"colab-df-convert\" onclick=\"convertToInteractive('df-c27681f4-a6ea-4573-aa89-b5f75cfb917c')\"\n",
              "              title=\"Convert this dataframe to an interactive table.\"\n",
              "              style=\"display:none;\">\n",
              "        \n",
              "  <svg xmlns=\"http://www.w3.org/2000/svg\" height=\"24px\"viewBox=\"0 0 24 24\"\n",
              "       width=\"24px\">\n",
              "    <path d=\"M0 0h24v24H0V0z\" fill=\"none\"/>\n",
              "    <path d=\"M18.56 5.44l.94 2.06.94-2.06 2.06-.94-2.06-.94-.94-2.06-.94 2.06-2.06.94zm-11 1L8.5 8.5l.94-2.06 2.06-.94-2.06-.94L8.5 2.5l-.94 2.06-2.06.94zm10 10l.94 2.06.94-2.06 2.06-.94-2.06-.94-.94-2.06-.94 2.06-2.06.94z\"/><path d=\"M17.41 7.96l-1.37-1.37c-.4-.4-.92-.59-1.43-.59-.52 0-1.04.2-1.43.59L10.3 9.45l-7.72 7.72c-.78.78-.78 2.05 0 2.83L4 21.41c.39.39.9.59 1.41.59.51 0 1.02-.2 1.41-.59l7.78-7.78 2.81-2.81c.8-.78.8-2.07 0-2.86zM5.41 20L4 18.59l7.72-7.72 1.47 1.35L5.41 20z\"/>\n",
              "  </svg>\n",
              "      </button>\n",
              "      \n",
              "  <style>\n",
              "    .colab-df-container {\n",
              "      display:flex;\n",
              "      flex-wrap:wrap;\n",
              "      gap: 12px;\n",
              "    }\n",
              "\n",
              "    .colab-df-convert {\n",
              "      background-color: #E8F0FE;\n",
              "      border: none;\n",
              "      border-radius: 50%;\n",
              "      cursor: pointer;\n",
              "      display: none;\n",
              "      fill: #1967D2;\n",
              "      height: 32px;\n",
              "      padding: 0 0 0 0;\n",
              "      width: 32px;\n",
              "    }\n",
              "\n",
              "    .colab-df-convert:hover {\n",
              "      background-color: #E2EBFA;\n",
              "      box-shadow: 0px 1px 2px rgba(60, 64, 67, 0.3), 0px 1px 3px 1px rgba(60, 64, 67, 0.15);\n",
              "      fill: #174EA6;\n",
              "    }\n",
              "\n",
              "    [theme=dark] .colab-df-convert {\n",
              "      background-color: #3B4455;\n",
              "      fill: #D2E3FC;\n",
              "    }\n",
              "\n",
              "    [theme=dark] .colab-df-convert:hover {\n",
              "      background-color: #434B5C;\n",
              "      box-shadow: 0px 1px 3px 1px rgba(0, 0, 0, 0.15);\n",
              "      filter: drop-shadow(0px 1px 2px rgba(0, 0, 0, 0.3));\n",
              "      fill: #FFFFFF;\n",
              "    }\n",
              "  </style>\n",
              "\n",
              "      <script>\n",
              "        const buttonEl =\n",
              "          document.querySelector('#df-c27681f4-a6ea-4573-aa89-b5f75cfb917c button.colab-df-convert');\n",
              "        buttonEl.style.display =\n",
              "          google.colab.kernel.accessAllowed ? 'block' : 'none';\n",
              "\n",
              "        async function convertToInteractive(key) {\n",
              "          const element = document.querySelector('#df-c27681f4-a6ea-4573-aa89-b5f75cfb917c');\n",
              "          const dataTable =\n",
              "            await google.colab.kernel.invokeFunction('convertToInteractive',\n",
              "                                                     [key], {});\n",
              "          if (!dataTable) return;\n",
              "\n",
              "          const docLinkHtml = 'Like what you see? Visit the ' +\n",
              "            '<a target=\"_blank\" href=https://colab.research.google.com/notebooks/data_table.ipynb>data table notebook</a>'\n",
              "            + ' to learn more about interactive tables.';\n",
              "          element.innerHTML = '';\n",
              "          dataTable['output_type'] = 'display_data';\n",
              "          await google.colab.output.renderOutput(dataTable, element);\n",
              "          const docLink = document.createElement('div');\n",
              "          docLink.innerHTML = docLinkHtml;\n",
              "          element.appendChild(docLink);\n",
              "        }\n",
              "      </script>\n",
              "    </div>\n",
              "  </div>\n",
              "  "
            ],
            "text/plain": [
              "        R-ref       G-ref  ...  Shad                                       Img\n",
              "0  238.081682  221.755051  ...    A1  FE8C5C61-E1C3-43CD-89CA-1CC9F2F64918.png\n",
              "1  235.952117  219.916764  ...    A1  D3A831B0-6702-4ED8-BCD2-DF3E93AE96AA.png\n",
              "2  232.103632  215.131022  ...    A1  8A8341B2-51DF-4C76-9E21-423D884578F9.png\n",
              "3  229.841492  209.444444  ...    A1  73445C43-E3BF-421B-9A97-1F1182DFFF9A.png\n",
              "4  228.368395  207.523019  ...    A1  56FEB49F-EF2D-4F39-A5BC-CCD039F7C855.png\n",
              "\n",
              "[5 rows x 16 columns]"
            ]
          },
          "metadata": {},
          "execution_count": 180
        }
      ]
    },
    {
      "cell_type": "markdown",
      "source": [
        "###RGB"
      ],
      "metadata": {
        "id": "O_FJgLnHoh-p"
      }
    },
    {
      "cell_type": "code",
      "source": [
        "RGB_B1_Set1 = table_B1Set1"
      ],
      "metadata": {
        "id": "Bb4epOesoh-p"
      },
      "execution_count": 181,
      "outputs": []
    },
    {
      "cell_type": "code",
      "source": [
        "RGB_B1_Set2 = table_B1Set2"
      ],
      "metadata": {
        "id": "qy8kp3Nboh-p"
      },
      "execution_count": 182,
      "outputs": []
    },
    {
      "cell_type": "code",
      "source": [
        "RGB_B1_Set3 = table_B1Set3"
      ],
      "metadata": {
        "id": "XlcTxMVgoh-p"
      },
      "execution_count": 183,
      "outputs": []
    },
    {
      "cell_type": "code",
      "source": [
        "RGB_B1_Set4 = table_B1Set4"
      ],
      "metadata": {
        "id": "-X5lw3urpqhW"
      },
      "execution_count": 184,
      "outputs": []
    },
    {
      "cell_type": "code",
      "source": [
        "RGB_B1_concat = pd.concat([RGB_B1_Set1,RGB_B1_Set2])"
      ],
      "metadata": {
        "id": "Nu7g6933psid"
      },
      "execution_count": 185,
      "outputs": []
    },
    {
      "cell_type": "code",
      "source": [
        "RGB_B1_concat0 = pd.concat([RGB_B1_concat,RGB_B1_Set4])"
      ],
      "metadata": {
        "id": "KWbr2Cl0oh-p"
      },
      "execution_count": 186,
      "outputs": []
    },
    {
      "cell_type": "code",
      "source": [
        "RGB_B1_concat1 = pd.concat([RGB_B1_concat0,RGB_B1_Set3])"
      ],
      "metadata": {
        "id": "2TWJYS5toh-p"
      },
      "execution_count": 187,
      "outputs": []
    },
    {
      "cell_type": "code",
      "source": [
        "RGB_B1_concat2 = RGB_B1_concat1.drop(['H-ref','S-ref','V-ref','H-Shad','S-Shad','V-Shad','Setting','Ref','Shad','Img'], axis=1)"
      ],
      "metadata": {
        "id": "rFdgV2Gzoh-p"
      },
      "execution_count": 188,
      "outputs": []
    },
    {
      "cell_type": "code",
      "source": [
        "X_test_B1_RGB = np.array(RGB_D3_CC1)"
      ],
      "metadata": {
        "id": "w7GJ9Tckoh-p"
      },
      "execution_count": 189,
      "outputs": []
    },
    {
      "cell_type": "code",
      "source": [
        "y_B1_RGB =  table_D3CC1.iloc[:,14:15]"
      ],
      "metadata": {
        "id": "R1znsRQWoh-p"
      },
      "execution_count": 190,
      "outputs": []
    },
    {
      "cell_type": "code",
      "source": [
        "y_test_B1_RGB = np.array(y_B1_RGB)"
      ],
      "metadata": {
        "id": "jsKRNbKyoh-p"
      },
      "execution_count": 191,
      "outputs": []
    },
    {
      "cell_type": "code",
      "source": [
        "X_train_B1_RGB = np.array(RGB_B1_concat2)"
      ],
      "metadata": {
        "id": "Ts-lXxcnoh-q"
      },
      "execution_count": 192,
      "outputs": []
    },
    {
      "cell_type": "code",
      "source": [
        "y_train_B1RGB = RGB_B1_concat1.iloc[:,14:15]"
      ],
      "metadata": {
        "id": "W4aZ3hAdoh-q"
      },
      "execution_count": 193,
      "outputs": []
    },
    {
      "cell_type": "code",
      "source": [
        "y_train_B1_RGB = np.array(y_train_B1RGB)"
      ],
      "metadata": {
        "id": "ynpJaH-Voh-q"
      },
      "execution_count": 194,
      "outputs": []
    },
    {
      "cell_type": "code",
      "source": [
        "clf.fit(X_train_B1_RGB, y_train_B1_RGB)"
      ],
      "metadata": {
        "id": "ID-UOUcfoh-q",
        "outputId": "b03fe384-11e5-4df9-d208-1776368f9839",
        "colab": {
          "base_uri": "https://localhost:8080/"
        }
      },
      "execution_count": 195,
      "outputs": [
        {
          "output_type": "stream",
          "name": "stderr",
          "text": [
            "/usr/local/lib/python3.7/dist-packages/ipykernel_launcher.py:1: DataConversionWarning: A column-vector y was passed when a 1d array was expected. Please change the shape of y to (n_samples,), for example using ravel().\n",
            "  \"\"\"Entry point for launching an IPython kernel.\n"
          ]
        },
        {
          "output_type": "execute_result",
          "data": {
            "text/plain": [
              "RandomForestClassifier()"
            ]
          },
          "metadata": {},
          "execution_count": 195
        }
      ]
    },
    {
      "cell_type": "code",
      "source": [
        "y_pred_B1_RGB = clf.predict(X_test_B1_RGB)"
      ],
      "metadata": {
        "id": "NaLy2DdCoh-q"
      },
      "execution_count": 196,
      "outputs": []
    },
    {
      "cell_type": "code",
      "source": [
        "print(\"Accuracy:\", metrics.accuracy_score(y_test_B1_RGB, y_pred_B1_RGB))"
      ],
      "metadata": {
        "id": "7ODrXbt8oh-q",
        "outputId": "76824531-db42-40d7-e069-42809a0c6835",
        "colab": {
          "base_uri": "https://localhost:8080/"
        }
      },
      "execution_count": 197,
      "outputs": [
        {
          "output_type": "stream",
          "name": "stdout",
          "text": [
            "Accuracy: 0.09\n"
          ]
        }
      ]
    },
    {
      "cell_type": "markdown",
      "source": [
        "###HSV"
      ],
      "metadata": {
        "id": "LqH-Neruoh-q"
      }
    },
    {
      "cell_type": "code",
      "source": [
        "HSV_B1_concat2 = RGB_B1_concat1.drop(['R-ref','G-ref','B-ref','R-Shad','G-Shad','B-Shad','Setting','Ref','Shad','Img'], axis=1)"
      ],
      "metadata": {
        "id": "k9OpSll3oh-r"
      },
      "execution_count": 198,
      "outputs": []
    },
    {
      "cell_type": "code",
      "source": [
        "X_test_B1_HSV = np.array(HSV_D3_CC1)"
      ],
      "metadata": {
        "id": "-CETjUEBoh-r"
      },
      "execution_count": 199,
      "outputs": []
    },
    {
      "cell_type": "code",
      "source": [
        "y_B1_HSV =  table_D3CC1.iloc[:,14:15]"
      ],
      "metadata": {
        "id": "PjRR4vyioh-r"
      },
      "execution_count": 200,
      "outputs": []
    },
    {
      "cell_type": "code",
      "source": [
        "y_test_B1_HSV = np.array(y_B1_RGB)"
      ],
      "metadata": {
        "id": "y5RnrM4Ioh-r"
      },
      "execution_count": 201,
      "outputs": []
    },
    {
      "cell_type": "code",
      "source": [
        "X_train_B1_HSV = np.array(HSV_B1_concat2)"
      ],
      "metadata": {
        "id": "wjcX6HYGoh-r"
      },
      "execution_count": 202,
      "outputs": []
    },
    {
      "cell_type": "code",
      "source": [
        "y_train_B1HSV = RGB_B1_concat1.iloc[:,14:15]"
      ],
      "metadata": {
        "id": "dXhgnBj5oh-r"
      },
      "execution_count": 203,
      "outputs": []
    },
    {
      "cell_type": "code",
      "source": [
        "y_train_B1_HSV = np.array(y_train_B1HSV)"
      ],
      "metadata": {
        "id": "HmO2ONBmoh-r"
      },
      "execution_count": 204,
      "outputs": []
    },
    {
      "cell_type": "code",
      "source": [
        "clf.fit(X_train_B1_HSV, y_train_B1_HSV)"
      ],
      "metadata": {
        "id": "DnC3rvT9oh-r",
        "outputId": "5d45b499-797d-40ad-a800-eaf5b8da2d08",
        "colab": {
          "base_uri": "https://localhost:8080/"
        }
      },
      "execution_count": 205,
      "outputs": [
        {
          "output_type": "stream",
          "name": "stderr",
          "text": [
            "/usr/local/lib/python3.7/dist-packages/ipykernel_launcher.py:1: DataConversionWarning: A column-vector y was passed when a 1d array was expected. Please change the shape of y to (n_samples,), for example using ravel().\n",
            "  \"\"\"Entry point for launching an IPython kernel.\n"
          ]
        },
        {
          "output_type": "execute_result",
          "data": {
            "text/plain": [
              "RandomForestClassifier()"
            ]
          },
          "metadata": {},
          "execution_count": 205
        }
      ]
    },
    {
      "cell_type": "code",
      "source": [
        "y_pred_B1_HSV = clf.predict(X_test_B1_HSV)"
      ],
      "metadata": {
        "id": "Cg1T4HSdoh-r"
      },
      "execution_count": 206,
      "outputs": []
    },
    {
      "cell_type": "code",
      "source": [
        "print(\"Accuracy:\", metrics.accuracy_score(y_test_B1_HSV, y_pred_B1_HSV))"
      ],
      "metadata": {
        "id": "yMBJje_xoh-r",
        "outputId": "e3f04726-4a16-4bef-e79e-caa6b268aa06",
        "colab": {
          "base_uri": "https://localhost:8080/"
        }
      },
      "execution_count": 207,
      "outputs": [
        {
          "output_type": "stream",
          "name": "stdout",
          "text": [
            "Accuracy: 0.0625\n"
          ]
        }
      ]
    },
    {
      "cell_type": "markdown",
      "source": [
        "##B2"
      ],
      "metadata": {
        "id": "9NN_QqeCp0es"
      }
    },
    {
      "cell_type": "code",
      "source": [
        "table_B2Set1 = pd.read_excel(Set1 , sheet_name='B2Set1 ')\n",
        "table_B2Set1.head()"
      ],
      "metadata": {
        "id": "doMqM22lp0es",
        "outputId": "6ad06062-4e9b-4303-bd60-94865fcedc32",
        "colab": {
          "base_uri": "https://localhost:8080/",
          "height": 0
        }
      },
      "execution_count": 208,
      "outputs": [
        {
          "output_type": "execute_result",
          "data": {
            "text/html": [
              "\n",
              "  <div id=\"df-d5ad2077-9984-4915-b11b-31c99e221542\">\n",
              "    <div class=\"colab-df-container\">\n",
              "      <div>\n",
              "<style scoped>\n",
              "    .dataframe tbody tr th:only-of-type {\n",
              "        vertical-align: middle;\n",
              "    }\n",
              "\n",
              "    .dataframe tbody tr th {\n",
              "        vertical-align: top;\n",
              "    }\n",
              "\n",
              "    .dataframe thead th {\n",
              "        text-align: right;\n",
              "    }\n",
              "</style>\n",
              "<table border=\"1\" class=\"dataframe\">\n",
              "  <thead>\n",
              "    <tr style=\"text-align: right;\">\n",
              "      <th></th>\n",
              "      <th>R-ref</th>\n",
              "      <th>G-ref</th>\n",
              "      <th>B-ref</th>\n",
              "      <th>R-Shad</th>\n",
              "      <th>G-Shad</th>\n",
              "      <th>B-Shad</th>\n",
              "      <th>H-ref</th>\n",
              "      <th>S-ref</th>\n",
              "      <th>V-ref</th>\n",
              "      <th>H-Shad</th>\n",
              "      <th>S-Shad</th>\n",
              "      <th>V-Shad</th>\n",
              "      <th>Setting</th>\n",
              "      <th>Ref</th>\n",
              "      <th>Shad</th>\n",
              "      <th>Img</th>\n",
              "    </tr>\n",
              "  </thead>\n",
              "  <tbody>\n",
              "    <tr>\n",
              "      <th>0</th>\n",
              "      <td>236.874709</td>\n",
              "      <td>224.246018</td>\n",
              "      <td>189.226204</td>\n",
              "      <td>230.156056</td>\n",
              "      <td>219.555185</td>\n",
              "      <td>186.043740</td>\n",
              "      <td>22.082653</td>\n",
              "      <td>51.388403</td>\n",
              "      <td>236.874709</td>\n",
              "      <td>22.631823</td>\n",
              "      <td>46.133908</td>\n",
              "      <td>234.095172</td>\n",
              "      <td>Set1</td>\n",
              "      <td>B2</td>\n",
              "      <td>A1</td>\n",
              "      <td>8844784E-18F2-4180-BD56-22527F5B506A.png</td>\n",
              "    </tr>\n",
              "    <tr>\n",
              "      <th>1</th>\n",
              "      <td>233.620047</td>\n",
              "      <td>221.292735</td>\n",
              "      <td>185.655789</td>\n",
              "      <td>226.263831</td>\n",
              "      <td>214.966732</td>\n",
              "      <td>180.068854</td>\n",
              "      <td>22.295552</td>\n",
              "      <td>52.415695</td>\n",
              "      <td>233.620047</td>\n",
              "      <td>22.735242</td>\n",
              "      <td>51.034659</td>\n",
              "      <td>230.566213</td>\n",
              "      <td>Set1</td>\n",
              "      <td>B2</td>\n",
              "      <td>A1</td>\n",
              "      <td>9B82482F-3CCB-4D36-88DF-53EE592260BA.png</td>\n",
              "    </tr>\n",
              "    <tr>\n",
              "      <th>2</th>\n",
              "      <td>237.811480</td>\n",
              "      <td>225.270882</td>\n",
              "      <td>190.323718</td>\n",
              "      <td>231.649152</td>\n",
              "      <td>220.802891</td>\n",
              "      <td>187.113799</td>\n",
              "      <td>22.090909</td>\n",
              "      <td>51.023116</td>\n",
              "      <td>237.811480</td>\n",
              "      <td>22.742934</td>\n",
              "      <td>46.486331</td>\n",
              "      <td>235.363266</td>\n",
              "      <td>Set1</td>\n",
              "      <td>B2</td>\n",
              "      <td>A1</td>\n",
              "      <td>EBE10373-8135-4270-894B-9887BE25C44D.png</td>\n",
              "    </tr>\n",
              "    <tr>\n",
              "      <th>3</th>\n",
              "      <td>236.552836</td>\n",
              "      <td>224.011752</td>\n",
              "      <td>188.282051</td>\n",
              "      <td>231.108331</td>\n",
              "      <td>219.994996</td>\n",
              "      <td>185.944213</td>\n",
              "      <td>22.189103</td>\n",
              "      <td>52.109751</td>\n",
              "      <td>236.552836</td>\n",
              "      <td>22.749884</td>\n",
              "      <td>47.167362</td>\n",
              "      <td>234.583727</td>\n",
              "      <td>Set1</td>\n",
              "      <td>B2</td>\n",
              "      <td>A1</td>\n",
              "      <td>E371B8FC-E57F-49E3-8AF4-9DF8FDBFA8F3.png</td>\n",
              "    </tr>\n",
              "    <tr>\n",
              "      <th>4</th>\n",
              "      <td>233.531080</td>\n",
              "      <td>221.732129</td>\n",
              "      <td>188.679779</td>\n",
              "      <td>226.969882</td>\n",
              "      <td>216.026782</td>\n",
              "      <td>182.714577</td>\n",
              "      <td>22.118395</td>\n",
              "      <td>49.023601</td>\n",
              "      <td>233.531080</td>\n",
              "      <td>22.805579</td>\n",
              "      <td>48.684089</td>\n",
              "      <td>230.967844</td>\n",
              "      <td>Set1</td>\n",
              "      <td>B2</td>\n",
              "      <td>A1</td>\n",
              "      <td>238A6F42-0DF6-424E-9279-99FE08A655A8.png</td>\n",
              "    </tr>\n",
              "  </tbody>\n",
              "</table>\n",
              "</div>\n",
              "      <button class=\"colab-df-convert\" onclick=\"convertToInteractive('df-d5ad2077-9984-4915-b11b-31c99e221542')\"\n",
              "              title=\"Convert this dataframe to an interactive table.\"\n",
              "              style=\"display:none;\">\n",
              "        \n",
              "  <svg xmlns=\"http://www.w3.org/2000/svg\" height=\"24px\"viewBox=\"0 0 24 24\"\n",
              "       width=\"24px\">\n",
              "    <path d=\"M0 0h24v24H0V0z\" fill=\"none\"/>\n",
              "    <path d=\"M18.56 5.44l.94 2.06.94-2.06 2.06-.94-2.06-.94-.94-2.06-.94 2.06-2.06.94zm-11 1L8.5 8.5l.94-2.06 2.06-.94-2.06-.94L8.5 2.5l-.94 2.06-2.06.94zm10 10l.94 2.06.94-2.06 2.06-.94-2.06-.94-.94-2.06-.94 2.06-2.06.94z\"/><path d=\"M17.41 7.96l-1.37-1.37c-.4-.4-.92-.59-1.43-.59-.52 0-1.04.2-1.43.59L10.3 9.45l-7.72 7.72c-.78.78-.78 2.05 0 2.83L4 21.41c.39.39.9.59 1.41.59.51 0 1.02-.2 1.41-.59l7.78-7.78 2.81-2.81c.8-.78.8-2.07 0-2.86zM5.41 20L4 18.59l7.72-7.72 1.47 1.35L5.41 20z\"/>\n",
              "  </svg>\n",
              "      </button>\n",
              "      \n",
              "  <style>\n",
              "    .colab-df-container {\n",
              "      display:flex;\n",
              "      flex-wrap:wrap;\n",
              "      gap: 12px;\n",
              "    }\n",
              "\n",
              "    .colab-df-convert {\n",
              "      background-color: #E8F0FE;\n",
              "      border: none;\n",
              "      border-radius: 50%;\n",
              "      cursor: pointer;\n",
              "      display: none;\n",
              "      fill: #1967D2;\n",
              "      height: 32px;\n",
              "      padding: 0 0 0 0;\n",
              "      width: 32px;\n",
              "    }\n",
              "\n",
              "    .colab-df-convert:hover {\n",
              "      background-color: #E2EBFA;\n",
              "      box-shadow: 0px 1px 2px rgba(60, 64, 67, 0.3), 0px 1px 3px 1px rgba(60, 64, 67, 0.15);\n",
              "      fill: #174EA6;\n",
              "    }\n",
              "\n",
              "    [theme=dark] .colab-df-convert {\n",
              "      background-color: #3B4455;\n",
              "      fill: #D2E3FC;\n",
              "    }\n",
              "\n",
              "    [theme=dark] .colab-df-convert:hover {\n",
              "      background-color: #434B5C;\n",
              "      box-shadow: 0px 1px 3px 1px rgba(0, 0, 0, 0.15);\n",
              "      filter: drop-shadow(0px 1px 2px rgba(0, 0, 0, 0.3));\n",
              "      fill: #FFFFFF;\n",
              "    }\n",
              "  </style>\n",
              "\n",
              "      <script>\n",
              "        const buttonEl =\n",
              "          document.querySelector('#df-d5ad2077-9984-4915-b11b-31c99e221542 button.colab-df-convert');\n",
              "        buttonEl.style.display =\n",
              "          google.colab.kernel.accessAllowed ? 'block' : 'none';\n",
              "\n",
              "        async function convertToInteractive(key) {\n",
              "          const element = document.querySelector('#df-d5ad2077-9984-4915-b11b-31c99e221542');\n",
              "          const dataTable =\n",
              "            await google.colab.kernel.invokeFunction('convertToInteractive',\n",
              "                                                     [key], {});\n",
              "          if (!dataTable) return;\n",
              "\n",
              "          const docLinkHtml = 'Like what you see? Visit the ' +\n",
              "            '<a target=\"_blank\" href=https://colab.research.google.com/notebooks/data_table.ipynb>data table notebook</a>'\n",
              "            + ' to learn more about interactive tables.';\n",
              "          element.innerHTML = '';\n",
              "          dataTable['output_type'] = 'display_data';\n",
              "          await google.colab.output.renderOutput(dataTable, element);\n",
              "          const docLink = document.createElement('div');\n",
              "          docLink.innerHTML = docLinkHtml;\n",
              "          element.appendChild(docLink);\n",
              "        }\n",
              "      </script>\n",
              "    </div>\n",
              "  </div>\n",
              "  "
            ],
            "text/plain": [
              "        R-ref       G-ref  ...  Shad                                       Img\n",
              "0  236.874709  224.246018  ...    A1  8844784E-18F2-4180-BD56-22527F5B506A.png\n",
              "1  233.620047  221.292735  ...    A1  9B82482F-3CCB-4D36-88DF-53EE592260BA.png\n",
              "2  237.811480  225.270882  ...    A1  EBE10373-8135-4270-894B-9887BE25C44D.png\n",
              "3  236.552836  224.011752  ...    A1  E371B8FC-E57F-49E3-8AF4-9DF8FDBFA8F3.png\n",
              "4  233.531080  221.732129  ...    A1  238A6F42-0DF6-424E-9279-99FE08A655A8.png\n",
              "\n",
              "[5 rows x 16 columns]"
            ]
          },
          "metadata": {},
          "execution_count": 208
        }
      ]
    },
    {
      "cell_type": "code",
      "source": [
        "table_B2Set2 = pd.read_excel(Set2, sheet_name='B2Set2 ')\n",
        "table_B2Set2.head()"
      ],
      "metadata": {
        "id": "AQDou87Bp0et",
        "outputId": "ac6cdf87-9632-4787-fe71-1099edf388a9",
        "colab": {
          "base_uri": "https://localhost:8080/",
          "height": 0
        }
      },
      "execution_count": 209,
      "outputs": [
        {
          "output_type": "execute_result",
          "data": {
            "text/html": [
              "\n",
              "  <div id=\"df-5dde4d88-dd7f-4937-9d6c-deaa9f2610cc\">\n",
              "    <div class=\"colab-df-container\">\n",
              "      <div>\n",
              "<style scoped>\n",
              "    .dataframe tbody tr th:only-of-type {\n",
              "        vertical-align: middle;\n",
              "    }\n",
              "\n",
              "    .dataframe tbody tr th {\n",
              "        vertical-align: top;\n",
              "    }\n",
              "\n",
              "    .dataframe thead th {\n",
              "        text-align: right;\n",
              "    }\n",
              "</style>\n",
              "<table border=\"1\" class=\"dataframe\">\n",
              "  <thead>\n",
              "    <tr style=\"text-align: right;\">\n",
              "      <th></th>\n",
              "      <th>R-ref</th>\n",
              "      <th>G-ref</th>\n",
              "      <th>B-ref</th>\n",
              "      <th>R-Shad</th>\n",
              "      <th>G-Shad</th>\n",
              "      <th>B-Shad</th>\n",
              "      <th>H-ref</th>\n",
              "      <th>S-ref</th>\n",
              "      <th>V-ref</th>\n",
              "      <th>H-Shad</th>\n",
              "      <th>S-Shad</th>\n",
              "      <th>V-Shad</th>\n",
              "      <th>Setting</th>\n",
              "      <th>Ref</th>\n",
              "      <th>Shad</th>\n",
              "      <th>Img</th>\n",
              "    </tr>\n",
              "  </thead>\n",
              "  <tbody>\n",
              "    <tr>\n",
              "      <th>0</th>\n",
              "      <td>236.874709</td>\n",
              "      <td>224.246018</td>\n",
              "      <td>189.226204</td>\n",
              "      <td>230.156056</td>\n",
              "      <td>219.555185</td>\n",
              "      <td>186.043740</td>\n",
              "      <td>22.082653</td>\n",
              "      <td>51.388403</td>\n",
              "      <td>236.874709</td>\n",
              "      <td>22.723659</td>\n",
              "      <td>48.229636</td>\n",
              "      <td>231.396997</td>\n",
              "      <td>Set2</td>\n",
              "      <td>B2</td>\n",
              "      <td>A1</td>\n",
              "      <td>B1DA559A-D9F1-4AF3-8AF2-1244D61DE126.png</td>\n",
              "    </tr>\n",
              "    <tr>\n",
              "      <th>1</th>\n",
              "      <td>233.620047</td>\n",
              "      <td>221.292735</td>\n",
              "      <td>185.655789</td>\n",
              "      <td>226.263831</td>\n",
              "      <td>214.966732</td>\n",
              "      <td>180.068854</td>\n",
              "      <td>22.295552</td>\n",
              "      <td>52.415695</td>\n",
              "      <td>233.620047</td>\n",
              "      <td>22.702715</td>\n",
              "      <td>52.081549</td>\n",
              "      <td>227.834121</td>\n",
              "      <td>Set2</td>\n",
              "      <td>B2</td>\n",
              "      <td>A1</td>\n",
              "      <td>A92BD83A-0BC5-475A-806D-12AED89C8F25.png</td>\n",
              "    </tr>\n",
              "    <tr>\n",
              "      <th>2</th>\n",
              "      <td>237.811480</td>\n",
              "      <td>225.270882</td>\n",
              "      <td>190.323718</td>\n",
              "      <td>231.649152</td>\n",
              "      <td>220.802891</td>\n",
              "      <td>187.113799</td>\n",
              "      <td>22.090909</td>\n",
              "      <td>51.023116</td>\n",
              "      <td>237.811480</td>\n",
              "      <td>22.720971</td>\n",
              "      <td>48.397554</td>\n",
              "      <td>232.762117</td>\n",
              "      <td>Set2</td>\n",
              "      <td>B2</td>\n",
              "      <td>A1</td>\n",
              "      <td>3A2804B8-CBAC-40D4-9EC0-8EF3D3C52A9D.png</td>\n",
              "    </tr>\n",
              "    <tr>\n",
              "      <th>3</th>\n",
              "      <td>236.552836</td>\n",
              "      <td>224.011752</td>\n",
              "      <td>188.282051</td>\n",
              "      <td>231.108331</td>\n",
              "      <td>219.994996</td>\n",
              "      <td>185.944213</td>\n",
              "      <td>22.189103</td>\n",
              "      <td>52.109751</td>\n",
              "      <td>236.552836</td>\n",
              "      <td>22.714948</td>\n",
              "      <td>49.161616</td>\n",
              "      <td>232.234362</td>\n",
              "      <td>Set2</td>\n",
              "      <td>B2</td>\n",
              "      <td>A1</td>\n",
              "      <td>CFB4F284-CE02-4550-B81A-53E093EE4FBA.png</td>\n",
              "    </tr>\n",
              "    <tr>\n",
              "      <th>4</th>\n",
              "      <td>233.531080</td>\n",
              "      <td>221.732129</td>\n",
              "      <td>188.679779</td>\n",
              "      <td>226.969882</td>\n",
              "      <td>216.026782</td>\n",
              "      <td>182.714577</td>\n",
              "      <td>22.118395</td>\n",
              "      <td>49.023601</td>\n",
              "      <td>233.531080</td>\n",
              "      <td>22.632564</td>\n",
              "      <td>49.847002</td>\n",
              "      <td>228.466963</td>\n",
              "      <td>Set2</td>\n",
              "      <td>B2</td>\n",
              "      <td>A1</td>\n",
              "      <td>1A61C771-989D-4734-8138-2EC30D0E65DC.png</td>\n",
              "    </tr>\n",
              "  </tbody>\n",
              "</table>\n",
              "</div>\n",
              "      <button class=\"colab-df-convert\" onclick=\"convertToInteractive('df-5dde4d88-dd7f-4937-9d6c-deaa9f2610cc')\"\n",
              "              title=\"Convert this dataframe to an interactive table.\"\n",
              "              style=\"display:none;\">\n",
              "        \n",
              "  <svg xmlns=\"http://www.w3.org/2000/svg\" height=\"24px\"viewBox=\"0 0 24 24\"\n",
              "       width=\"24px\">\n",
              "    <path d=\"M0 0h24v24H0V0z\" fill=\"none\"/>\n",
              "    <path d=\"M18.56 5.44l.94 2.06.94-2.06 2.06-.94-2.06-.94-.94-2.06-.94 2.06-2.06.94zm-11 1L8.5 8.5l.94-2.06 2.06-.94-2.06-.94L8.5 2.5l-.94 2.06-2.06.94zm10 10l.94 2.06.94-2.06 2.06-.94-2.06-.94-.94-2.06-.94 2.06-2.06.94z\"/><path d=\"M17.41 7.96l-1.37-1.37c-.4-.4-.92-.59-1.43-.59-.52 0-1.04.2-1.43.59L10.3 9.45l-7.72 7.72c-.78.78-.78 2.05 0 2.83L4 21.41c.39.39.9.59 1.41.59.51 0 1.02-.2 1.41-.59l7.78-7.78 2.81-2.81c.8-.78.8-2.07 0-2.86zM5.41 20L4 18.59l7.72-7.72 1.47 1.35L5.41 20z\"/>\n",
              "  </svg>\n",
              "      </button>\n",
              "      \n",
              "  <style>\n",
              "    .colab-df-container {\n",
              "      display:flex;\n",
              "      flex-wrap:wrap;\n",
              "      gap: 12px;\n",
              "    }\n",
              "\n",
              "    .colab-df-convert {\n",
              "      background-color: #E8F0FE;\n",
              "      border: none;\n",
              "      border-radius: 50%;\n",
              "      cursor: pointer;\n",
              "      display: none;\n",
              "      fill: #1967D2;\n",
              "      height: 32px;\n",
              "      padding: 0 0 0 0;\n",
              "      width: 32px;\n",
              "    }\n",
              "\n",
              "    .colab-df-convert:hover {\n",
              "      background-color: #E2EBFA;\n",
              "      box-shadow: 0px 1px 2px rgba(60, 64, 67, 0.3), 0px 1px 3px 1px rgba(60, 64, 67, 0.15);\n",
              "      fill: #174EA6;\n",
              "    }\n",
              "\n",
              "    [theme=dark] .colab-df-convert {\n",
              "      background-color: #3B4455;\n",
              "      fill: #D2E3FC;\n",
              "    }\n",
              "\n",
              "    [theme=dark] .colab-df-convert:hover {\n",
              "      background-color: #434B5C;\n",
              "      box-shadow: 0px 1px 3px 1px rgba(0, 0, 0, 0.15);\n",
              "      filter: drop-shadow(0px 1px 2px rgba(0, 0, 0, 0.3));\n",
              "      fill: #FFFFFF;\n",
              "    }\n",
              "  </style>\n",
              "\n",
              "      <script>\n",
              "        const buttonEl =\n",
              "          document.querySelector('#df-5dde4d88-dd7f-4937-9d6c-deaa9f2610cc button.colab-df-convert');\n",
              "        buttonEl.style.display =\n",
              "          google.colab.kernel.accessAllowed ? 'block' : 'none';\n",
              "\n",
              "        async function convertToInteractive(key) {\n",
              "          const element = document.querySelector('#df-5dde4d88-dd7f-4937-9d6c-deaa9f2610cc');\n",
              "          const dataTable =\n",
              "            await google.colab.kernel.invokeFunction('convertToInteractive',\n",
              "                                                     [key], {});\n",
              "          if (!dataTable) return;\n",
              "\n",
              "          const docLinkHtml = 'Like what you see? Visit the ' +\n",
              "            '<a target=\"_blank\" href=https://colab.research.google.com/notebooks/data_table.ipynb>data table notebook</a>'\n",
              "            + ' to learn more about interactive tables.';\n",
              "          element.innerHTML = '';\n",
              "          dataTable['output_type'] = 'display_data';\n",
              "          await google.colab.output.renderOutput(dataTable, element);\n",
              "          const docLink = document.createElement('div');\n",
              "          docLink.innerHTML = docLinkHtml;\n",
              "          element.appendChild(docLink);\n",
              "        }\n",
              "      </script>\n",
              "    </div>\n",
              "  </div>\n",
              "  "
            ],
            "text/plain": [
              "        R-ref       G-ref  ...  Shad                                       Img\n",
              "0  236.874709  224.246018  ...    A1  B1DA559A-D9F1-4AF3-8AF2-1244D61DE126.png\n",
              "1  233.620047  221.292735  ...    A1  A92BD83A-0BC5-475A-806D-12AED89C8F25.png\n",
              "2  237.811480  225.270882  ...    A1  3A2804B8-CBAC-40D4-9EC0-8EF3D3C52A9D.png\n",
              "3  236.552836  224.011752  ...    A1  CFB4F284-CE02-4550-B81A-53E093EE4FBA.png\n",
              "4  233.531080  221.732129  ...    A1  1A61C771-989D-4734-8138-2EC30D0E65DC.png\n",
              "\n",
              "[5 rows x 16 columns]"
            ]
          },
          "metadata": {},
          "execution_count": 209
        }
      ]
    },
    {
      "cell_type": "code",
      "source": [
        "table_B2Set3 = pd.read_excel(Set3, sheet_name='B2Set3  ')\n",
        "table_B2Set3.head()"
      ],
      "metadata": {
        "id": "JMQjlJBOp0et",
        "outputId": "ec7f4e78-0b1e-4077-aeff-185197d96a6c",
        "colab": {
          "base_uri": "https://localhost:8080/",
          "height": 0
        }
      },
      "execution_count": 210,
      "outputs": [
        {
          "output_type": "execute_result",
          "data": {
            "text/html": [
              "\n",
              "  <div id=\"df-db6cefce-3cbf-49a0-ac5e-73b4fd686ff2\">\n",
              "    <div class=\"colab-df-container\">\n",
              "      <div>\n",
              "<style scoped>\n",
              "    .dataframe tbody tr th:only-of-type {\n",
              "        vertical-align: middle;\n",
              "    }\n",
              "\n",
              "    .dataframe tbody tr th {\n",
              "        vertical-align: top;\n",
              "    }\n",
              "\n",
              "    .dataframe thead th {\n",
              "        text-align: right;\n",
              "    }\n",
              "</style>\n",
              "<table border=\"1\" class=\"dataframe\">\n",
              "  <thead>\n",
              "    <tr style=\"text-align: right;\">\n",
              "      <th></th>\n",
              "      <th>R-ref</th>\n",
              "      <th>G-ref</th>\n",
              "      <th>B-ref</th>\n",
              "      <th>R-Shad</th>\n",
              "      <th>G-Shad</th>\n",
              "      <th>B-Shad</th>\n",
              "      <th>H-ref</th>\n",
              "      <th>S-ref</th>\n",
              "      <th>V-ref</th>\n",
              "      <th>H-Shad</th>\n",
              "      <th>S-Shad</th>\n",
              "      <th>V-Shad</th>\n",
              "      <th>Setting</th>\n",
              "      <th>Ref</th>\n",
              "      <th>Shad</th>\n",
              "      <th>Img</th>\n",
              "    </tr>\n",
              "  </thead>\n",
              "  <tbody>\n",
              "    <tr>\n",
              "      <th>0</th>\n",
              "      <td>236.874709</td>\n",
              "      <td>224.246018</td>\n",
              "      <td>189.226204</td>\n",
              "      <td>230.156056</td>\n",
              "      <td>219.555185</td>\n",
              "      <td>186.043740</td>\n",
              "      <td>22.082653</td>\n",
              "      <td>51.388403</td>\n",
              "      <td>236.874709</td>\n",
              "      <td>22.043738</td>\n",
              "      <td>51.351611</td>\n",
              "      <td>236.877178</td>\n",
              "      <td>Set3</td>\n",
              "      <td>B2</td>\n",
              "      <td>A1</td>\n",
              "      <td>250FC647-07B6-4795-B3EF-E2E97F609E10.png</td>\n",
              "    </tr>\n",
              "    <tr>\n",
              "      <th>1</th>\n",
              "      <td>233.620047</td>\n",
              "      <td>221.292735</td>\n",
              "      <td>185.655789</td>\n",
              "      <td>226.263831</td>\n",
              "      <td>214.966732</td>\n",
              "      <td>180.068854</td>\n",
              "      <td>22.295552</td>\n",
              "      <td>52.415695</td>\n",
              "      <td>233.620047</td>\n",
              "      <td>22.205675</td>\n",
              "      <td>52.463907</td>\n",
              "      <td>233.870279</td>\n",
              "      <td>Set3</td>\n",
              "      <td>B2</td>\n",
              "      <td>A1</td>\n",
              "      <td>829D716F-ABCB-494F-942F-92D985E969FC.png</td>\n",
              "    </tr>\n",
              "    <tr>\n",
              "      <th>2</th>\n",
              "      <td>237.811480</td>\n",
              "      <td>225.270882</td>\n",
              "      <td>190.323718</td>\n",
              "      <td>231.649152</td>\n",
              "      <td>220.802891</td>\n",
              "      <td>187.113799</td>\n",
              "      <td>22.090909</td>\n",
              "      <td>51.023116</td>\n",
              "      <td>237.811480</td>\n",
              "      <td>22.124102</td>\n",
              "      <td>50.998151</td>\n",
              "      <td>237.948368</td>\n",
              "      <td>Set3</td>\n",
              "      <td>B2</td>\n",
              "      <td>A1</td>\n",
              "      <td>31E84E1C-8996-478A-8C5B-DEB651BD8B7B.png</td>\n",
              "    </tr>\n",
              "    <tr>\n",
              "      <th>3</th>\n",
              "      <td>236.552836</td>\n",
              "      <td>224.011752</td>\n",
              "      <td>188.282051</td>\n",
              "      <td>231.108331</td>\n",
              "      <td>219.994996</td>\n",
              "      <td>185.944213</td>\n",
              "      <td>22.189103</td>\n",
              "      <td>52.109751</td>\n",
              "      <td>236.552836</td>\n",
              "      <td>22.157172</td>\n",
              "      <td>52.162151</td>\n",
              "      <td>236.561553</td>\n",
              "      <td>Set3</td>\n",
              "      <td>B2</td>\n",
              "      <td>A1</td>\n",
              "      <td>1096FB39-AC69-47B0-A58C-D5EAF4178133.png</td>\n",
              "    </tr>\n",
              "    <tr>\n",
              "      <th>4</th>\n",
              "      <td>233.531080</td>\n",
              "      <td>221.732129</td>\n",
              "      <td>188.679779</td>\n",
              "      <td>226.969882</td>\n",
              "      <td>216.026782</td>\n",
              "      <td>182.714577</td>\n",
              "      <td>22.118395</td>\n",
              "      <td>49.023601</td>\n",
              "      <td>233.531080</td>\n",
              "      <td>22.067847</td>\n",
              "      <td>49.073181</td>\n",
              "      <td>233.713676</td>\n",
              "      <td>Set3</td>\n",
              "      <td>B2</td>\n",
              "      <td>A1</td>\n",
              "      <td>561D36AA-0D94-45A1-88BE-C705DA5140C7.png</td>\n",
              "    </tr>\n",
              "  </tbody>\n",
              "</table>\n",
              "</div>\n",
              "      <button class=\"colab-df-convert\" onclick=\"convertToInteractive('df-db6cefce-3cbf-49a0-ac5e-73b4fd686ff2')\"\n",
              "              title=\"Convert this dataframe to an interactive table.\"\n",
              "              style=\"display:none;\">\n",
              "        \n",
              "  <svg xmlns=\"http://www.w3.org/2000/svg\" height=\"24px\"viewBox=\"0 0 24 24\"\n",
              "       width=\"24px\">\n",
              "    <path d=\"M0 0h24v24H0V0z\" fill=\"none\"/>\n",
              "    <path d=\"M18.56 5.44l.94 2.06.94-2.06 2.06-.94-2.06-.94-.94-2.06-.94 2.06-2.06.94zm-11 1L8.5 8.5l.94-2.06 2.06-.94-2.06-.94L8.5 2.5l-.94 2.06-2.06.94zm10 10l.94 2.06.94-2.06 2.06-.94-2.06-.94-.94-2.06-.94 2.06-2.06.94z\"/><path d=\"M17.41 7.96l-1.37-1.37c-.4-.4-.92-.59-1.43-.59-.52 0-1.04.2-1.43.59L10.3 9.45l-7.72 7.72c-.78.78-.78 2.05 0 2.83L4 21.41c.39.39.9.59 1.41.59.51 0 1.02-.2 1.41-.59l7.78-7.78 2.81-2.81c.8-.78.8-2.07 0-2.86zM5.41 20L4 18.59l7.72-7.72 1.47 1.35L5.41 20z\"/>\n",
              "  </svg>\n",
              "      </button>\n",
              "      \n",
              "  <style>\n",
              "    .colab-df-container {\n",
              "      display:flex;\n",
              "      flex-wrap:wrap;\n",
              "      gap: 12px;\n",
              "    }\n",
              "\n",
              "    .colab-df-convert {\n",
              "      background-color: #E8F0FE;\n",
              "      border: none;\n",
              "      border-radius: 50%;\n",
              "      cursor: pointer;\n",
              "      display: none;\n",
              "      fill: #1967D2;\n",
              "      height: 32px;\n",
              "      padding: 0 0 0 0;\n",
              "      width: 32px;\n",
              "    }\n",
              "\n",
              "    .colab-df-convert:hover {\n",
              "      background-color: #E2EBFA;\n",
              "      box-shadow: 0px 1px 2px rgba(60, 64, 67, 0.3), 0px 1px 3px 1px rgba(60, 64, 67, 0.15);\n",
              "      fill: #174EA6;\n",
              "    }\n",
              "\n",
              "    [theme=dark] .colab-df-convert {\n",
              "      background-color: #3B4455;\n",
              "      fill: #D2E3FC;\n",
              "    }\n",
              "\n",
              "    [theme=dark] .colab-df-convert:hover {\n",
              "      background-color: #434B5C;\n",
              "      box-shadow: 0px 1px 3px 1px rgba(0, 0, 0, 0.15);\n",
              "      filter: drop-shadow(0px 1px 2px rgba(0, 0, 0, 0.3));\n",
              "      fill: #FFFFFF;\n",
              "    }\n",
              "  </style>\n",
              "\n",
              "      <script>\n",
              "        const buttonEl =\n",
              "          document.querySelector('#df-db6cefce-3cbf-49a0-ac5e-73b4fd686ff2 button.colab-df-convert');\n",
              "        buttonEl.style.display =\n",
              "          google.colab.kernel.accessAllowed ? 'block' : 'none';\n",
              "\n",
              "        async function convertToInteractive(key) {\n",
              "          const element = document.querySelector('#df-db6cefce-3cbf-49a0-ac5e-73b4fd686ff2');\n",
              "          const dataTable =\n",
              "            await google.colab.kernel.invokeFunction('convertToInteractive',\n",
              "                                                     [key], {});\n",
              "          if (!dataTable) return;\n",
              "\n",
              "          const docLinkHtml = 'Like what you see? Visit the ' +\n",
              "            '<a target=\"_blank\" href=https://colab.research.google.com/notebooks/data_table.ipynb>data table notebook</a>'\n",
              "            + ' to learn more about interactive tables.';\n",
              "          element.innerHTML = '';\n",
              "          dataTable['output_type'] = 'display_data';\n",
              "          await google.colab.output.renderOutput(dataTable, element);\n",
              "          const docLink = document.createElement('div');\n",
              "          docLink.innerHTML = docLinkHtml;\n",
              "          element.appendChild(docLink);\n",
              "        }\n",
              "      </script>\n",
              "    </div>\n",
              "  </div>\n",
              "  "
            ],
            "text/plain": [
              "        R-ref       G-ref  ...  Shad                                       Img\n",
              "0  236.874709  224.246018  ...    A1  250FC647-07B6-4795-B3EF-E2E97F609E10.png\n",
              "1  233.620047  221.292735  ...    A1  829D716F-ABCB-494F-942F-92D985E969FC.png\n",
              "2  237.811480  225.270882  ...    A1  31E84E1C-8996-478A-8C5B-DEB651BD8B7B.png\n",
              "3  236.552836  224.011752  ...    A1  1096FB39-AC69-47B0-A58C-D5EAF4178133.png\n",
              "4  233.531080  221.732129  ...    A1  561D36AA-0D94-45A1-88BE-C705DA5140C7.png\n",
              "\n",
              "[5 rows x 16 columns]"
            ]
          },
          "metadata": {},
          "execution_count": 210
        }
      ]
    },
    {
      "cell_type": "code",
      "source": [
        "table_B2Set4 = pd.read_excel(Set4, sheet_name='B2Set4')\n",
        "table_B2Set4.head()"
      ],
      "metadata": {
        "id": "4-9tbmKWp0et",
        "outputId": "c332f35d-a6ef-48a1-b7f9-605fd2afb807",
        "colab": {
          "base_uri": "https://localhost:8080/",
          "height": 0
        }
      },
      "execution_count": 211,
      "outputs": [
        {
          "output_type": "execute_result",
          "data": {
            "text/html": [
              "\n",
              "  <div id=\"df-8141cfc7-5dc8-4ed0-82d6-4423c8cebdb7\">\n",
              "    <div class=\"colab-df-container\">\n",
              "      <div>\n",
              "<style scoped>\n",
              "    .dataframe tbody tr th:only-of-type {\n",
              "        vertical-align: middle;\n",
              "    }\n",
              "\n",
              "    .dataframe tbody tr th {\n",
              "        vertical-align: top;\n",
              "    }\n",
              "\n",
              "    .dataframe thead th {\n",
              "        text-align: right;\n",
              "    }\n",
              "</style>\n",
              "<table border=\"1\" class=\"dataframe\">\n",
              "  <thead>\n",
              "    <tr style=\"text-align: right;\">\n",
              "      <th></th>\n",
              "      <th>R-ref</th>\n",
              "      <th>G-ref</th>\n",
              "      <th>B-ref</th>\n",
              "      <th>R-Shad</th>\n",
              "      <th>G-Shad</th>\n",
              "      <th>B-Shad</th>\n",
              "      <th>H-ref</th>\n",
              "      <th>S-ref</th>\n",
              "      <th>V-ref</th>\n",
              "      <th>H-Shad</th>\n",
              "      <th>S-Shad</th>\n",
              "      <th>V-Shad</th>\n",
              "      <th>Setting</th>\n",
              "      <th>Ref</th>\n",
              "      <th>Shad</th>\n",
              "      <th>Img</th>\n",
              "    </tr>\n",
              "  </thead>\n",
              "  <tbody>\n",
              "    <tr>\n",
              "      <th>0</th>\n",
              "      <td>234.592366</td>\n",
              "      <td>217.212024</td>\n",
              "      <td>175.886849</td>\n",
              "      <td>232.226022</td>\n",
              "      <td>218.809656</td>\n",
              "      <td>182.976925</td>\n",
              "      <td>21.482517</td>\n",
              "      <td>63.817113</td>\n",
              "      <td>234.592366</td>\n",
              "      <td>21.863219</td>\n",
              "      <td>54.122509</td>\n",
              "      <td>232.226022</td>\n",
              "      <td>Set4</td>\n",
              "      <td>B2</td>\n",
              "      <td>A1</td>\n",
              "      <td>5B0F9488-7F08-4BCE-A32E-55154984960A.png</td>\n",
              "    </tr>\n",
              "    <tr>\n",
              "      <th>1</th>\n",
              "      <td>232.555458</td>\n",
              "      <td>215.691822</td>\n",
              "      <td>174.076049</td>\n",
              "      <td>230.797887</td>\n",
              "      <td>217.391530</td>\n",
              "      <td>182.127606</td>\n",
              "      <td>21.618881</td>\n",
              "      <td>64.125389</td>\n",
              "      <td>232.555458</td>\n",
              "      <td>21.750070</td>\n",
              "      <td>53.808637</td>\n",
              "      <td>230.797887</td>\n",
              "      <td>Set4</td>\n",
              "      <td>B2</td>\n",
              "      <td>A1</td>\n",
              "      <td>0E6453D8-FF6B-407E-97CD-CD738C98FDF2.png</td>\n",
              "    </tr>\n",
              "    <tr>\n",
              "      <th>2</th>\n",
              "      <td>226.305750</td>\n",
              "      <td>210.198524</td>\n",
              "      <td>170.470960</td>\n",
              "      <td>225.185525</td>\n",
              "      <td>211.633584</td>\n",
              "      <td>175.871004</td>\n",
              "      <td>21.575855</td>\n",
              "      <td>62.879079</td>\n",
              "      <td>226.305750</td>\n",
              "      <td>21.810583</td>\n",
              "      <td>55.883236</td>\n",
              "      <td>225.185525</td>\n",
              "      <td>Set4</td>\n",
              "      <td>B2</td>\n",
              "      <td>A1</td>\n",
              "      <td>080A292F-0B63-4933-A09A-199874BA4870.png</td>\n",
              "    </tr>\n",
              "    <tr>\n",
              "      <th>3</th>\n",
              "      <td>225.616841</td>\n",
              "      <td>204.899087</td>\n",
              "      <td>161.657246</td>\n",
              "      <td>223.299787</td>\n",
              "      <td>205.777129</td>\n",
              "      <td>164.705403</td>\n",
              "      <td>20.190754</td>\n",
              "      <td>72.329157</td>\n",
              "      <td>225.616841</td>\n",
              "      <td>21.345380</td>\n",
              "      <td>66.961542</td>\n",
              "      <td>223.299787</td>\n",
              "      <td>Set4</td>\n",
              "      <td>B2</td>\n",
              "      <td>A1</td>\n",
              "      <td>3638FEC4-42D0-4824-AD26-F7E587220698.png</td>\n",
              "    </tr>\n",
              "    <tr>\n",
              "      <th>4</th>\n",
              "      <td>224.022339</td>\n",
              "      <td>203.058372</td>\n",
              "      <td>160.139277</td>\n",
              "      <td>222.210175</td>\n",
              "      <td>204.329256</td>\n",
              "      <td>164.973774</td>\n",
              "      <td>20.025253</td>\n",
              "      <td>72.760684</td>\n",
              "      <td>224.022339</td>\n",
              "      <td>20.790937</td>\n",
              "      <td>65.722269</td>\n",
              "      <td>222.210175</td>\n",
              "      <td>Set4</td>\n",
              "      <td>B2</td>\n",
              "      <td>A1</td>\n",
              "      <td>8D6E4CD1-034D-487B-80CB-3AE03EE1D093.png</td>\n",
              "    </tr>\n",
              "  </tbody>\n",
              "</table>\n",
              "</div>\n",
              "      <button class=\"colab-df-convert\" onclick=\"convertToInteractive('df-8141cfc7-5dc8-4ed0-82d6-4423c8cebdb7')\"\n",
              "              title=\"Convert this dataframe to an interactive table.\"\n",
              "              style=\"display:none;\">\n",
              "        \n",
              "  <svg xmlns=\"http://www.w3.org/2000/svg\" height=\"24px\"viewBox=\"0 0 24 24\"\n",
              "       width=\"24px\">\n",
              "    <path d=\"M0 0h24v24H0V0z\" fill=\"none\"/>\n",
              "    <path d=\"M18.56 5.44l.94 2.06.94-2.06 2.06-.94-2.06-.94-.94-2.06-.94 2.06-2.06.94zm-11 1L8.5 8.5l.94-2.06 2.06-.94-2.06-.94L8.5 2.5l-.94 2.06-2.06.94zm10 10l.94 2.06.94-2.06 2.06-.94-2.06-.94-.94-2.06-.94 2.06-2.06.94z\"/><path d=\"M17.41 7.96l-1.37-1.37c-.4-.4-.92-.59-1.43-.59-.52 0-1.04.2-1.43.59L10.3 9.45l-7.72 7.72c-.78.78-.78 2.05 0 2.83L4 21.41c.39.39.9.59 1.41.59.51 0 1.02-.2 1.41-.59l7.78-7.78 2.81-2.81c.8-.78.8-2.07 0-2.86zM5.41 20L4 18.59l7.72-7.72 1.47 1.35L5.41 20z\"/>\n",
              "  </svg>\n",
              "      </button>\n",
              "      \n",
              "  <style>\n",
              "    .colab-df-container {\n",
              "      display:flex;\n",
              "      flex-wrap:wrap;\n",
              "      gap: 12px;\n",
              "    }\n",
              "\n",
              "    .colab-df-convert {\n",
              "      background-color: #E8F0FE;\n",
              "      border: none;\n",
              "      border-radius: 50%;\n",
              "      cursor: pointer;\n",
              "      display: none;\n",
              "      fill: #1967D2;\n",
              "      height: 32px;\n",
              "      padding: 0 0 0 0;\n",
              "      width: 32px;\n",
              "    }\n",
              "\n",
              "    .colab-df-convert:hover {\n",
              "      background-color: #E2EBFA;\n",
              "      box-shadow: 0px 1px 2px rgba(60, 64, 67, 0.3), 0px 1px 3px 1px rgba(60, 64, 67, 0.15);\n",
              "      fill: #174EA6;\n",
              "    }\n",
              "\n",
              "    [theme=dark] .colab-df-convert {\n",
              "      background-color: #3B4455;\n",
              "      fill: #D2E3FC;\n",
              "    }\n",
              "\n",
              "    [theme=dark] .colab-df-convert:hover {\n",
              "      background-color: #434B5C;\n",
              "      box-shadow: 0px 1px 3px 1px rgba(0, 0, 0, 0.15);\n",
              "      filter: drop-shadow(0px 1px 2px rgba(0, 0, 0, 0.3));\n",
              "      fill: #FFFFFF;\n",
              "    }\n",
              "  </style>\n",
              "\n",
              "      <script>\n",
              "        const buttonEl =\n",
              "          document.querySelector('#df-8141cfc7-5dc8-4ed0-82d6-4423c8cebdb7 button.colab-df-convert');\n",
              "        buttonEl.style.display =\n",
              "          google.colab.kernel.accessAllowed ? 'block' : 'none';\n",
              "\n",
              "        async function convertToInteractive(key) {\n",
              "          const element = document.querySelector('#df-8141cfc7-5dc8-4ed0-82d6-4423c8cebdb7');\n",
              "          const dataTable =\n",
              "            await google.colab.kernel.invokeFunction('convertToInteractive',\n",
              "                                                     [key], {});\n",
              "          if (!dataTable) return;\n",
              "\n",
              "          const docLinkHtml = 'Like what you see? Visit the ' +\n",
              "            '<a target=\"_blank\" href=https://colab.research.google.com/notebooks/data_table.ipynb>data table notebook</a>'\n",
              "            + ' to learn more about interactive tables.';\n",
              "          element.innerHTML = '';\n",
              "          dataTable['output_type'] = 'display_data';\n",
              "          await google.colab.output.renderOutput(dataTable, element);\n",
              "          const docLink = document.createElement('div');\n",
              "          docLink.innerHTML = docLinkHtml;\n",
              "          element.appendChild(docLink);\n",
              "        }\n",
              "      </script>\n",
              "    </div>\n",
              "  </div>\n",
              "  "
            ],
            "text/plain": [
              "        R-ref       G-ref  ...  Shad                                       Img\n",
              "0  234.592366  217.212024  ...    A1  5B0F9488-7F08-4BCE-A32E-55154984960A.png\n",
              "1  232.555458  215.691822  ...    A1  0E6453D8-FF6B-407E-97CD-CD738C98FDF2.png\n",
              "2  226.305750  210.198524  ...    A1  080A292F-0B63-4933-A09A-199874BA4870.png\n",
              "3  225.616841  204.899087  ...    A1  3638FEC4-42D0-4824-AD26-F7E587220698.png\n",
              "4  224.022339  203.058372  ...    A1  8D6E4CD1-034D-487B-80CB-3AE03EE1D093.png\n",
              "\n",
              "[5 rows x 16 columns]"
            ]
          },
          "metadata": {},
          "execution_count": 211
        }
      ]
    },
    {
      "cell_type": "markdown",
      "source": [
        "###RGB"
      ],
      "metadata": {
        "id": "fISYhQjlp0et"
      }
    },
    {
      "cell_type": "code",
      "source": [
        "RGB_B2_Set4 = table_B2Set4"
      ],
      "metadata": {
        "id": "iEZFoIqKp0et"
      },
      "execution_count": 212,
      "outputs": []
    },
    {
      "cell_type": "code",
      "source": [
        "RGB_B2_Set1 = table_B2Set1"
      ],
      "metadata": {
        "id": "OgUJ9Hj2p0et"
      },
      "execution_count": 213,
      "outputs": []
    },
    {
      "cell_type": "code",
      "source": [
        "RGB_B2_Set2 = table_B2Set2"
      ],
      "metadata": {
        "id": "w1xCq6LHp0et"
      },
      "execution_count": 214,
      "outputs": []
    },
    {
      "cell_type": "code",
      "source": [
        "RGB_B2_Set3 = table_B2Set3"
      ],
      "metadata": {
        "id": "qpA1UW7dp0eu"
      },
      "execution_count": 215,
      "outputs": []
    },
    {
      "cell_type": "code",
      "source": [
        "RGB_B2_concat = pd.concat([RGB_B2_Set1,RGB_B2_Set2])"
      ],
      "metadata": {
        "id": "ZW8u86QeqCVW"
      },
      "execution_count": 216,
      "outputs": []
    },
    {
      "cell_type": "code",
      "source": [
        "RGB_B2_concat0 = pd.concat([RGB_B2_concat,RGB_B2_Set4])"
      ],
      "metadata": {
        "id": "oNGucrNap0eu"
      },
      "execution_count": 217,
      "outputs": []
    },
    {
      "cell_type": "code",
      "source": [
        "RGB_B2_concat1 = pd.concat([RGB_B2_concat0,RGB_B2_Set3])"
      ],
      "metadata": {
        "id": "Q7J_i4Vfp0eu"
      },
      "execution_count": 218,
      "outputs": []
    },
    {
      "cell_type": "code",
      "source": [
        "RGB_B2_concat2 = RGB_B2_concat1.drop(['H-ref','S-ref','V-ref','H-Shad','S-Shad','V-Shad','Setting','Ref','Shad','Img'], axis=1)"
      ],
      "metadata": {
        "id": "OGZ1uxtip0eu"
      },
      "execution_count": 219,
      "outputs": []
    },
    {
      "cell_type": "code",
      "source": [
        "X_test_B2_RGB = np.array(RGB_D3_CC1)"
      ],
      "metadata": {
        "id": "rcc7ihUcp0eu"
      },
      "execution_count": 220,
      "outputs": []
    },
    {
      "cell_type": "code",
      "source": [
        "y_B2_RGB =  table_D3CC1.iloc[:,14:15]"
      ],
      "metadata": {
        "id": "xtXVZfgQp0eu"
      },
      "execution_count": 221,
      "outputs": []
    },
    {
      "cell_type": "code",
      "source": [
        "y_test_B2_RGB = np.array(y_B2_RGB)"
      ],
      "metadata": {
        "id": "iDYlulqBp0eu"
      },
      "execution_count": 222,
      "outputs": []
    },
    {
      "cell_type": "code",
      "source": [
        "X_train_B2_RGB = np.array(RGB_B2_concat2)"
      ],
      "metadata": {
        "id": "Uf4RlAP5p0eu"
      },
      "execution_count": 223,
      "outputs": []
    },
    {
      "cell_type": "code",
      "source": [
        "y_train_B2RGB = RGB_B2_concat1.iloc[:,14:15]"
      ],
      "metadata": {
        "id": "-7OL72MSp0ev"
      },
      "execution_count": 224,
      "outputs": []
    },
    {
      "cell_type": "code",
      "source": [
        "y_train_B2_RGB = np.array(y_train_B2RGB)"
      ],
      "metadata": {
        "id": "UOscGSpMp0ev"
      },
      "execution_count": 225,
      "outputs": []
    },
    {
      "cell_type": "code",
      "source": [
        "clf.fit(X_train_B2_RGB, y_train_B2_RGB)"
      ],
      "metadata": {
        "id": "a-aOJ6sop0ev",
        "outputId": "813356e5-9050-41c9-93ad-2eebcf795f44",
        "colab": {
          "base_uri": "https://localhost:8080/"
        }
      },
      "execution_count": 226,
      "outputs": [
        {
          "output_type": "stream",
          "name": "stderr",
          "text": [
            "/usr/local/lib/python3.7/dist-packages/ipykernel_launcher.py:1: DataConversionWarning: A column-vector y was passed when a 1d array was expected. Please change the shape of y to (n_samples,), for example using ravel().\n",
            "  \"\"\"Entry point for launching an IPython kernel.\n"
          ]
        },
        {
          "output_type": "execute_result",
          "data": {
            "text/plain": [
              "RandomForestClassifier()"
            ]
          },
          "metadata": {},
          "execution_count": 226
        }
      ]
    },
    {
      "cell_type": "code",
      "source": [
        "y_pred_B2_RGB = clf.predict(X_test_B2_RGB)"
      ],
      "metadata": {
        "id": "bp7PF8XDp0ev"
      },
      "execution_count": 227,
      "outputs": []
    },
    {
      "cell_type": "code",
      "source": [
        "print(\"Accuracy:\", metrics.accuracy_score(y_test_B2_RGB, y_pred_B2_RGB))"
      ],
      "metadata": {
        "id": "pzqdbkN1p0ev",
        "outputId": "4acbb92e-6686-4796-d11c-384384d75eac",
        "colab": {
          "base_uri": "https://localhost:8080/"
        }
      },
      "execution_count": 228,
      "outputs": [
        {
          "output_type": "stream",
          "name": "stdout",
          "text": [
            "Accuracy: 0.08625\n"
          ]
        }
      ]
    },
    {
      "cell_type": "markdown",
      "source": [
        "###HSV"
      ],
      "metadata": {
        "id": "lMLcdIT5p0ev"
      }
    },
    {
      "cell_type": "code",
      "source": [
        "HSV_B2_concat2 = RGB_B2_concat1.drop(['R-ref','G-ref','B-ref','R-Shad','G-Shad','B-Shad','Setting','Ref','Shad','Img'], axis=1)"
      ],
      "metadata": {
        "id": "pKW0df3rp0ew"
      },
      "execution_count": 229,
      "outputs": []
    },
    {
      "cell_type": "code",
      "source": [
        "X_test_B2_HSV = np.array(HSV_D3_CC1)"
      ],
      "metadata": {
        "id": "QDJKTswfp0ew"
      },
      "execution_count": 230,
      "outputs": []
    },
    {
      "cell_type": "code",
      "source": [
        "y_B2_HSV =  table_D3CC1.iloc[:,14:15]"
      ],
      "metadata": {
        "id": "-YAtMSidp0ew"
      },
      "execution_count": 231,
      "outputs": []
    },
    {
      "cell_type": "code",
      "source": [
        "y_test_B2_HSV = np.array(y_B2_RGB)"
      ],
      "metadata": {
        "id": "MSf7X-qPp0ew"
      },
      "execution_count": 232,
      "outputs": []
    },
    {
      "cell_type": "code",
      "source": [
        "X_train_B2_HSV = np.array(HSV_B2_concat2)"
      ],
      "metadata": {
        "id": "QD_HUbRxp0ew"
      },
      "execution_count": 233,
      "outputs": []
    },
    {
      "cell_type": "code",
      "source": [
        "y_train_B2HSV = RGB_B2_concat1.iloc[:,14:15]"
      ],
      "metadata": {
        "id": "2AHHkeYqp0ew"
      },
      "execution_count": 234,
      "outputs": []
    },
    {
      "cell_type": "code",
      "source": [
        "y_train_B2_HSV = np.array(y_train_B2HSV)"
      ],
      "metadata": {
        "id": "pWE1iXOjp0ew"
      },
      "execution_count": 235,
      "outputs": []
    },
    {
      "cell_type": "code",
      "source": [
        "clf.fit(X_train_B2_HSV, y_train_B2_HSV)"
      ],
      "metadata": {
        "id": "y21hMmlHp0ew",
        "outputId": "db383fb4-f794-4bac-dc50-38f6bd879524",
        "colab": {
          "base_uri": "https://localhost:8080/"
        }
      },
      "execution_count": 236,
      "outputs": [
        {
          "output_type": "stream",
          "name": "stderr",
          "text": [
            "/usr/local/lib/python3.7/dist-packages/ipykernel_launcher.py:1: DataConversionWarning: A column-vector y was passed when a 1d array was expected. Please change the shape of y to (n_samples,), for example using ravel().\n",
            "  \"\"\"Entry point for launching an IPython kernel.\n"
          ]
        },
        {
          "output_type": "execute_result",
          "data": {
            "text/plain": [
              "RandomForestClassifier()"
            ]
          },
          "metadata": {},
          "execution_count": 236
        }
      ]
    },
    {
      "cell_type": "code",
      "source": [
        "y_pred_B2_HSV = clf.predict(X_test_B2_HSV)"
      ],
      "metadata": {
        "id": "avnCdEk0p0ex"
      },
      "execution_count": 237,
      "outputs": []
    },
    {
      "cell_type": "code",
      "source": [
        "print(\"Accuracy:\", metrics.accuracy_score(y_test_B2_HSV, y_pred_B2_HSV))"
      ],
      "metadata": {
        "id": "U6LBXCvgp0ex",
        "outputId": "252f7095-60ae-4b68-bd09-9fa91c116035",
        "colab": {
          "base_uri": "https://localhost:8080/"
        }
      },
      "execution_count": 238,
      "outputs": [
        {
          "output_type": "stream",
          "name": "stdout",
          "text": [
            "Accuracy: 0.0625\n"
          ]
        }
      ]
    },
    {
      "cell_type": "markdown",
      "source": [
        "##B3"
      ],
      "metadata": {
        "id": "fFNlFx5qsHOQ"
      }
    },
    {
      "cell_type": "code",
      "source": [
        "table_B3Set1 = pd.read_excel(Set1 , sheet_name='B3Set1 ')\n",
        "table_B3Set1.head()"
      ],
      "metadata": {
        "id": "R3t_fo44sHOR",
        "outputId": "317a9efe-61ad-4c39-855f-c1d85d536990",
        "colab": {
          "base_uri": "https://localhost:8080/",
          "height": 0
        }
      },
      "execution_count": 239,
      "outputs": [
        {
          "output_type": "execute_result",
          "data": {
            "text/html": [
              "\n",
              "  <div id=\"df-ea8d357a-3993-44b2-8d50-7e6e6affe273\">\n",
              "    <div class=\"colab-df-container\">\n",
              "      <div>\n",
              "<style scoped>\n",
              "    .dataframe tbody tr th:only-of-type {\n",
              "        vertical-align: middle;\n",
              "    }\n",
              "\n",
              "    .dataframe tbody tr th {\n",
              "        vertical-align: top;\n",
              "    }\n",
              "\n",
              "    .dataframe thead th {\n",
              "        text-align: right;\n",
              "    }\n",
              "</style>\n",
              "<table border=\"1\" class=\"dataframe\">\n",
              "  <thead>\n",
              "    <tr style=\"text-align: right;\">\n",
              "      <th></th>\n",
              "      <th>R-ref</th>\n",
              "      <th>G-ref</th>\n",
              "      <th>B-ref</th>\n",
              "      <th>R-Shad</th>\n",
              "      <th>G-Shad</th>\n",
              "      <th>B-Shad</th>\n",
              "      <th>H-ref</th>\n",
              "      <th>S-ref</th>\n",
              "      <th>V-ref</th>\n",
              "      <th>H-Shad</th>\n",
              "      <th>S-Shad</th>\n",
              "      <th>V-Shad</th>\n",
              "      <th>Setting</th>\n",
              "      <th>Ref</th>\n",
              "      <th>Shad</th>\n",
              "      <th>Img</th>\n",
              "    </tr>\n",
              "  </thead>\n",
              "  <tbody>\n",
              "    <tr>\n",
              "      <th>0</th>\n",
              "      <td>236.874709</td>\n",
              "      <td>224.246018</td>\n",
              "      <td>189.226204</td>\n",
              "      <td>230.156056</td>\n",
              "      <td>219.555185</td>\n",
              "      <td>186.043740</td>\n",
              "      <td>22.082653</td>\n",
              "      <td>51.388403</td>\n",
              "      <td>236.874709</td>\n",
              "      <td>22.702345</td>\n",
              "      <td>47.224076</td>\n",
              "      <td>232.799926</td>\n",
              "      <td>Set1</td>\n",
              "      <td>B3</td>\n",
              "      <td>A1</td>\n",
              "      <td>768ECDBF-055D-4AF1-9FB6-59F1D54C18F2.png</td>\n",
              "    </tr>\n",
              "    <tr>\n",
              "      <th>1</th>\n",
              "      <td>233.620047</td>\n",
              "      <td>221.292735</td>\n",
              "      <td>185.655789</td>\n",
              "      <td>226.263831</td>\n",
              "      <td>214.966732</td>\n",
              "      <td>180.068854</td>\n",
              "      <td>22.295552</td>\n",
              "      <td>52.415695</td>\n",
              "      <td>233.620047</td>\n",
              "      <td>22.704383</td>\n",
              "      <td>51.548698</td>\n",
              "      <td>229.251877</td>\n",
              "      <td>Set1</td>\n",
              "      <td>B3</td>\n",
              "      <td>A1</td>\n",
              "      <td>A2B09945-ABB4-4B6C-8880-C0859637306B.png</td>\n",
              "    </tr>\n",
              "    <tr>\n",
              "      <th>2</th>\n",
              "      <td>237.811480</td>\n",
              "      <td>225.270882</td>\n",
              "      <td>190.323718</td>\n",
              "      <td>231.649152</td>\n",
              "      <td>220.802891</td>\n",
              "      <td>187.113799</td>\n",
              "      <td>22.090909</td>\n",
              "      <td>51.023116</td>\n",
              "      <td>237.811480</td>\n",
              "      <td>22.767028</td>\n",
              "      <td>47.479474</td>\n",
              "      <td>234.022889</td>\n",
              "      <td>Set1</td>\n",
              "      <td>B3</td>\n",
              "      <td>A1</td>\n",
              "      <td>5C57C433-024F-4E4A-B661-2A33A270EE9D.png</td>\n",
              "    </tr>\n",
              "    <tr>\n",
              "      <th>3</th>\n",
              "      <td>236.552836</td>\n",
              "      <td>224.011752</td>\n",
              "      <td>188.282051</td>\n",
              "      <td>231.108331</td>\n",
              "      <td>219.994996</td>\n",
              "      <td>185.944213</td>\n",
              "      <td>22.189103</td>\n",
              "      <td>52.109751</td>\n",
              "      <td>236.552836</td>\n",
              "      <td>22.746826</td>\n",
              "      <td>48.227597</td>\n",
              "      <td>233.444166</td>\n",
              "      <td>Set1</td>\n",
              "      <td>B3</td>\n",
              "      <td>A1</td>\n",
              "      <td>6D8E199E-9FF6-46BF-A7CA-D491A179F0EB.png</td>\n",
              "    </tr>\n",
              "    <tr>\n",
              "      <th>4</th>\n",
              "      <td>233.531080</td>\n",
              "      <td>221.732129</td>\n",
              "      <td>188.679779</td>\n",
              "      <td>226.969882</td>\n",
              "      <td>216.026782</td>\n",
              "      <td>182.714577</td>\n",
              "      <td>22.118395</td>\n",
              "      <td>49.023601</td>\n",
              "      <td>233.531080</td>\n",
              "      <td>22.723659</td>\n",
              "      <td>49.397090</td>\n",
              "      <td>229.778241</td>\n",
              "      <td>Set1</td>\n",
              "      <td>B3</td>\n",
              "      <td>A1</td>\n",
              "      <td>09286B35-9904-4EE4-8AF2-92443DF8DA7D.png</td>\n",
              "    </tr>\n",
              "  </tbody>\n",
              "</table>\n",
              "</div>\n",
              "      <button class=\"colab-df-convert\" onclick=\"convertToInteractive('df-ea8d357a-3993-44b2-8d50-7e6e6affe273')\"\n",
              "              title=\"Convert this dataframe to an interactive table.\"\n",
              "              style=\"display:none;\">\n",
              "        \n",
              "  <svg xmlns=\"http://www.w3.org/2000/svg\" height=\"24px\"viewBox=\"0 0 24 24\"\n",
              "       width=\"24px\">\n",
              "    <path d=\"M0 0h24v24H0V0z\" fill=\"none\"/>\n",
              "    <path d=\"M18.56 5.44l.94 2.06.94-2.06 2.06-.94-2.06-.94-.94-2.06-.94 2.06-2.06.94zm-11 1L8.5 8.5l.94-2.06 2.06-.94-2.06-.94L8.5 2.5l-.94 2.06-2.06.94zm10 10l.94 2.06.94-2.06 2.06-.94-2.06-.94-.94-2.06-.94 2.06-2.06.94z\"/><path d=\"M17.41 7.96l-1.37-1.37c-.4-.4-.92-.59-1.43-.59-.52 0-1.04.2-1.43.59L10.3 9.45l-7.72 7.72c-.78.78-.78 2.05 0 2.83L4 21.41c.39.39.9.59 1.41.59.51 0 1.02-.2 1.41-.59l7.78-7.78 2.81-2.81c.8-.78.8-2.07 0-2.86zM5.41 20L4 18.59l7.72-7.72 1.47 1.35L5.41 20z\"/>\n",
              "  </svg>\n",
              "      </button>\n",
              "      \n",
              "  <style>\n",
              "    .colab-df-container {\n",
              "      display:flex;\n",
              "      flex-wrap:wrap;\n",
              "      gap: 12px;\n",
              "    }\n",
              "\n",
              "    .colab-df-convert {\n",
              "      background-color: #E8F0FE;\n",
              "      border: none;\n",
              "      border-radius: 50%;\n",
              "      cursor: pointer;\n",
              "      display: none;\n",
              "      fill: #1967D2;\n",
              "      height: 32px;\n",
              "      padding: 0 0 0 0;\n",
              "      width: 32px;\n",
              "    }\n",
              "\n",
              "    .colab-df-convert:hover {\n",
              "      background-color: #E2EBFA;\n",
              "      box-shadow: 0px 1px 2px rgba(60, 64, 67, 0.3), 0px 1px 3px 1px rgba(60, 64, 67, 0.15);\n",
              "      fill: #174EA6;\n",
              "    }\n",
              "\n",
              "    [theme=dark] .colab-df-convert {\n",
              "      background-color: #3B4455;\n",
              "      fill: #D2E3FC;\n",
              "    }\n",
              "\n",
              "    [theme=dark] .colab-df-convert:hover {\n",
              "      background-color: #434B5C;\n",
              "      box-shadow: 0px 1px 3px 1px rgba(0, 0, 0, 0.15);\n",
              "      filter: drop-shadow(0px 1px 2px rgba(0, 0, 0, 0.3));\n",
              "      fill: #FFFFFF;\n",
              "    }\n",
              "  </style>\n",
              "\n",
              "      <script>\n",
              "        const buttonEl =\n",
              "          document.querySelector('#df-ea8d357a-3993-44b2-8d50-7e6e6affe273 button.colab-df-convert');\n",
              "        buttonEl.style.display =\n",
              "          google.colab.kernel.accessAllowed ? 'block' : 'none';\n",
              "\n",
              "        async function convertToInteractive(key) {\n",
              "          const element = document.querySelector('#df-ea8d357a-3993-44b2-8d50-7e6e6affe273');\n",
              "          const dataTable =\n",
              "            await google.colab.kernel.invokeFunction('convertToInteractive',\n",
              "                                                     [key], {});\n",
              "          if (!dataTable) return;\n",
              "\n",
              "          const docLinkHtml = 'Like what you see? Visit the ' +\n",
              "            '<a target=\"_blank\" href=https://colab.research.google.com/notebooks/data_table.ipynb>data table notebook</a>'\n",
              "            + ' to learn more about interactive tables.';\n",
              "          element.innerHTML = '';\n",
              "          dataTable['output_type'] = 'display_data';\n",
              "          await google.colab.output.renderOutput(dataTable, element);\n",
              "          const docLink = document.createElement('div');\n",
              "          docLink.innerHTML = docLinkHtml;\n",
              "          element.appendChild(docLink);\n",
              "        }\n",
              "      </script>\n",
              "    </div>\n",
              "  </div>\n",
              "  "
            ],
            "text/plain": [
              "        R-ref       G-ref  ...  Shad                                       Img\n",
              "0  236.874709  224.246018  ...    A1  768ECDBF-055D-4AF1-9FB6-59F1D54C18F2.png\n",
              "1  233.620047  221.292735  ...    A1  A2B09945-ABB4-4B6C-8880-C0859637306B.png\n",
              "2  237.811480  225.270882  ...    A1  5C57C433-024F-4E4A-B661-2A33A270EE9D.png\n",
              "3  236.552836  224.011752  ...    A1  6D8E199E-9FF6-46BF-A7CA-D491A179F0EB.png\n",
              "4  233.531080  221.732129  ...    A1  09286B35-9904-4EE4-8AF2-92443DF8DA7D.png\n",
              "\n",
              "[5 rows x 16 columns]"
            ]
          },
          "metadata": {},
          "execution_count": 239
        }
      ]
    },
    {
      "cell_type": "code",
      "source": [
        "table_B3Set2 = pd.read_excel(Set2, sheet_name='B3Set2')\n",
        "table_B3Set2.head()"
      ],
      "metadata": {
        "id": "Vzq7-CbHsHOR",
        "outputId": "fc5d999d-40a2-48f4-9b14-fc6326e3d6d1",
        "colab": {
          "base_uri": "https://localhost:8080/",
          "height": 0
        }
      },
      "execution_count": 240,
      "outputs": [
        {
          "output_type": "execute_result",
          "data": {
            "text/html": [
              "\n",
              "  <div id=\"df-4750a5ca-34a8-4f61-b8ca-f47d36ed7282\">\n",
              "    <div class=\"colab-df-container\">\n",
              "      <div>\n",
              "<style scoped>\n",
              "    .dataframe tbody tr th:only-of-type {\n",
              "        vertical-align: middle;\n",
              "    }\n",
              "\n",
              "    .dataframe tbody tr th {\n",
              "        vertical-align: top;\n",
              "    }\n",
              "\n",
              "    .dataframe thead th {\n",
              "        text-align: right;\n",
              "    }\n",
              "</style>\n",
              "<table border=\"1\" class=\"dataframe\">\n",
              "  <thead>\n",
              "    <tr style=\"text-align: right;\">\n",
              "      <th></th>\n",
              "      <th>R-ref</th>\n",
              "      <th>G-ref</th>\n",
              "      <th>B-ref</th>\n",
              "      <th>R-Shad</th>\n",
              "      <th>G-Shad</th>\n",
              "      <th>B-Shad</th>\n",
              "      <th>H-ref</th>\n",
              "      <th>S-ref</th>\n",
              "      <th>V-ref</th>\n",
              "      <th>H-Shad</th>\n",
              "      <th>S-Shad</th>\n",
              "      <th>V-Shad</th>\n",
              "      <th>Setting</th>\n",
              "      <th>Ref</th>\n",
              "      <th>Shad</th>\n",
              "      <th>Img</th>\n",
              "    </tr>\n",
              "  </thead>\n",
              "  <tbody>\n",
              "    <tr>\n",
              "      <th>0</th>\n",
              "      <td>239.881605</td>\n",
              "      <td>224.382867</td>\n",
              "      <td>184.782343</td>\n",
              "      <td>237.870726</td>\n",
              "      <td>226.047169</td>\n",
              "      <td>191.662311</td>\n",
              "      <td>22.350848</td>\n",
              "      <td>49.578816</td>\n",
              "      <td>237.870911</td>\n",
              "      <td>22.350848</td>\n",
              "      <td>49.578816</td>\n",
              "      <td>237.870911</td>\n",
              "      <td>Set2</td>\n",
              "      <td>B3</td>\n",
              "      <td>A1</td>\n",
              "      <td>8E815009-4D5A-4F6E-B73E-3F02EEDF518E.png</td>\n",
              "    </tr>\n",
              "    <tr>\n",
              "      <th>1</th>\n",
              "      <td>238.117716</td>\n",
              "      <td>222.694736</td>\n",
              "      <td>183.378011</td>\n",
              "      <td>236.545455</td>\n",
              "      <td>224.692707</td>\n",
              "      <td>190.628209</td>\n",
              "      <td>22.235103</td>\n",
              "      <td>49.552312</td>\n",
              "      <td>236.545640</td>\n",
              "      <td>22.235103</td>\n",
              "      <td>49.552312</td>\n",
              "      <td>236.545640</td>\n",
              "      <td>Set2</td>\n",
              "      <td>B3</td>\n",
              "      <td>A1</td>\n",
              "      <td>71FB6161-2220-4F52-9DB9-988BEA1E6318.png</td>\n",
              "    </tr>\n",
              "    <tr>\n",
              "      <th>2</th>\n",
              "      <td>233.842075</td>\n",
              "      <td>216.756216</td>\n",
              "      <td>175.541764</td>\n",
              "      <td>232.444908</td>\n",
              "      <td>218.966268</td>\n",
              "      <td>183.376703</td>\n",
              "      <td>21.850802</td>\n",
              "      <td>53.875452</td>\n",
              "      <td>232.444908</td>\n",
              "      <td>21.850802</td>\n",
              "      <td>53.875452</td>\n",
              "      <td>232.444908</td>\n",
              "      <td>Set2</td>\n",
              "      <td>B3</td>\n",
              "      <td>A1</td>\n",
              "      <td>CE22D8CA-7FD1-4E9E-9A9A-6C3591E3B041.png</td>\n",
              "    </tr>\n",
              "    <tr>\n",
              "      <th>3</th>\n",
              "      <td>231.565365</td>\n",
              "      <td>211.148407</td>\n",
              "      <td>167.135198</td>\n",
              "      <td>230.084515</td>\n",
              "      <td>212.845890</td>\n",
              "      <td>171.679362</td>\n",
              "      <td>21.521731</td>\n",
              "      <td>64.779631</td>\n",
              "      <td>230.084515</td>\n",
              "      <td>21.521731</td>\n",
              "      <td>64.779631</td>\n",
              "      <td>230.084515</td>\n",
              "      <td>Set2</td>\n",
              "      <td>B3</td>\n",
              "      <td>A1</td>\n",
              "      <td>9311AA58-DD49-4827-BE81-DE9122D40F36.png</td>\n",
              "    </tr>\n",
              "    <tr>\n",
              "      <th>4</th>\n",
              "      <td>230.061772</td>\n",
              "      <td>209.351593</td>\n",
              "      <td>165.364413</td>\n",
              "      <td>228.915392</td>\n",
              "      <td>211.588917</td>\n",
              "      <td>171.301270</td>\n",
              "      <td>21.296358</td>\n",
              "      <td>64.190529</td>\n",
              "      <td>228.915392</td>\n",
              "      <td>21.296358</td>\n",
              "      <td>64.190529</td>\n",
              "      <td>228.915392</td>\n",
              "      <td>Set2</td>\n",
              "      <td>B3</td>\n",
              "      <td>A1</td>\n",
              "      <td>706F5A48-1CDB-468B-A380-D9DBE49855CB.png</td>\n",
              "    </tr>\n",
              "  </tbody>\n",
              "</table>\n",
              "</div>\n",
              "      <button class=\"colab-df-convert\" onclick=\"convertToInteractive('df-4750a5ca-34a8-4f61-b8ca-f47d36ed7282')\"\n",
              "              title=\"Convert this dataframe to an interactive table.\"\n",
              "              style=\"display:none;\">\n",
              "        \n",
              "  <svg xmlns=\"http://www.w3.org/2000/svg\" height=\"24px\"viewBox=\"0 0 24 24\"\n",
              "       width=\"24px\">\n",
              "    <path d=\"M0 0h24v24H0V0z\" fill=\"none\"/>\n",
              "    <path d=\"M18.56 5.44l.94 2.06.94-2.06 2.06-.94-2.06-.94-.94-2.06-.94 2.06-2.06.94zm-11 1L8.5 8.5l.94-2.06 2.06-.94-2.06-.94L8.5 2.5l-.94 2.06-2.06.94zm10 10l.94 2.06.94-2.06 2.06-.94-2.06-.94-.94-2.06-.94 2.06-2.06.94z\"/><path d=\"M17.41 7.96l-1.37-1.37c-.4-.4-.92-.59-1.43-.59-.52 0-1.04.2-1.43.59L10.3 9.45l-7.72 7.72c-.78.78-.78 2.05 0 2.83L4 21.41c.39.39.9.59 1.41.59.51 0 1.02-.2 1.41-.59l7.78-7.78 2.81-2.81c.8-.78.8-2.07 0-2.86zM5.41 20L4 18.59l7.72-7.72 1.47 1.35L5.41 20z\"/>\n",
              "  </svg>\n",
              "      </button>\n",
              "      \n",
              "  <style>\n",
              "    .colab-df-container {\n",
              "      display:flex;\n",
              "      flex-wrap:wrap;\n",
              "      gap: 12px;\n",
              "    }\n",
              "\n",
              "    .colab-df-convert {\n",
              "      background-color: #E8F0FE;\n",
              "      border: none;\n",
              "      border-radius: 50%;\n",
              "      cursor: pointer;\n",
              "      display: none;\n",
              "      fill: #1967D2;\n",
              "      height: 32px;\n",
              "      padding: 0 0 0 0;\n",
              "      width: 32px;\n",
              "    }\n",
              "\n",
              "    .colab-df-convert:hover {\n",
              "      background-color: #E2EBFA;\n",
              "      box-shadow: 0px 1px 2px rgba(60, 64, 67, 0.3), 0px 1px 3px 1px rgba(60, 64, 67, 0.15);\n",
              "      fill: #174EA6;\n",
              "    }\n",
              "\n",
              "    [theme=dark] .colab-df-convert {\n",
              "      background-color: #3B4455;\n",
              "      fill: #D2E3FC;\n",
              "    }\n",
              "\n",
              "    [theme=dark] .colab-df-convert:hover {\n",
              "      background-color: #434B5C;\n",
              "      box-shadow: 0px 1px 3px 1px rgba(0, 0, 0, 0.15);\n",
              "      filter: drop-shadow(0px 1px 2px rgba(0, 0, 0, 0.3));\n",
              "      fill: #FFFFFF;\n",
              "    }\n",
              "  </style>\n",
              "\n",
              "      <script>\n",
              "        const buttonEl =\n",
              "          document.querySelector('#df-4750a5ca-34a8-4f61-b8ca-f47d36ed7282 button.colab-df-convert');\n",
              "        buttonEl.style.display =\n",
              "          google.colab.kernel.accessAllowed ? 'block' : 'none';\n",
              "\n",
              "        async function convertToInteractive(key) {\n",
              "          const element = document.querySelector('#df-4750a5ca-34a8-4f61-b8ca-f47d36ed7282');\n",
              "          const dataTable =\n",
              "            await google.colab.kernel.invokeFunction('convertToInteractive',\n",
              "                                                     [key], {});\n",
              "          if (!dataTable) return;\n",
              "\n",
              "          const docLinkHtml = 'Like what you see? Visit the ' +\n",
              "            '<a target=\"_blank\" href=https://colab.research.google.com/notebooks/data_table.ipynb>data table notebook</a>'\n",
              "            + ' to learn more about interactive tables.';\n",
              "          element.innerHTML = '';\n",
              "          dataTable['output_type'] = 'display_data';\n",
              "          await google.colab.output.renderOutput(dataTable, element);\n",
              "          const docLink = document.createElement('div');\n",
              "          docLink.innerHTML = docLinkHtml;\n",
              "          element.appendChild(docLink);\n",
              "        }\n",
              "      </script>\n",
              "    </div>\n",
              "  </div>\n",
              "  "
            ],
            "text/plain": [
              "        R-ref       G-ref  ...  Shad                                       Img\n",
              "0  239.881605  224.382867  ...    A1  8E815009-4D5A-4F6E-B73E-3F02EEDF518E.png\n",
              "1  238.117716  222.694736  ...    A1  71FB6161-2220-4F52-9DB9-988BEA1E6318.png\n",
              "2  233.842075  216.756216  ...    A1  CE22D8CA-7FD1-4E9E-9A9A-6C3591E3B041.png\n",
              "3  231.565365  211.148407  ...    A1  9311AA58-DD49-4827-BE81-DE9122D40F36.png\n",
              "4  230.061772  209.351593  ...    A1  706F5A48-1CDB-468B-A380-D9DBE49855CB.png\n",
              "\n",
              "[5 rows x 16 columns]"
            ]
          },
          "metadata": {},
          "execution_count": 240
        }
      ]
    },
    {
      "cell_type": "code",
      "source": [
        "table_B3Set3 = pd.read_excel(Set3, sheet_name='B3Set3 ')\n",
        "table_B3Set3.head()"
      ],
      "metadata": {
        "id": "jUvh9gV0sHOR",
        "outputId": "b69e81f2-1e2a-4f21-e8c2-4697ea836b24",
        "colab": {
          "base_uri": "https://localhost:8080/",
          "height": 0
        }
      },
      "execution_count": 241,
      "outputs": [
        {
          "output_type": "execute_result",
          "data": {
            "text/html": [
              "\n",
              "  <div id=\"df-1e722fe6-ec3e-49f8-8a47-e5bf70f02c70\">\n",
              "    <div class=\"colab-df-container\">\n",
              "      <div>\n",
              "<style scoped>\n",
              "    .dataframe tbody tr th:only-of-type {\n",
              "        vertical-align: middle;\n",
              "    }\n",
              "\n",
              "    .dataframe tbody tr th {\n",
              "        vertical-align: top;\n",
              "    }\n",
              "\n",
              "    .dataframe thead th {\n",
              "        text-align: right;\n",
              "    }\n",
              "</style>\n",
              "<table border=\"1\" class=\"dataframe\">\n",
              "  <thead>\n",
              "    <tr style=\"text-align: right;\">\n",
              "      <th></th>\n",
              "      <th>R-ref</th>\n",
              "      <th>G-ref</th>\n",
              "      <th>B-ref</th>\n",
              "      <th>R-Shad</th>\n",
              "      <th>G-Shad</th>\n",
              "      <th>B-Shad</th>\n",
              "      <th>H-ref</th>\n",
              "      <th>S-ref</th>\n",
              "      <th>V-ref</th>\n",
              "      <th>H-Shad</th>\n",
              "      <th>S-Shad</th>\n",
              "      <th>V-Shad</th>\n",
              "      <th>Setting</th>\n",
              "      <th>Ref</th>\n",
              "      <th>Shad</th>\n",
              "      <th>Img</th>\n",
              "    </tr>\n",
              "  </thead>\n",
              "  <tbody>\n",
              "    <tr>\n",
              "      <th>0</th>\n",
              "      <td>239.730963</td>\n",
              "      <td>217.195319</td>\n",
              "      <td>159.489316</td>\n",
              "      <td>238.907886</td>\n",
              "      <td>224.672134</td>\n",
              "      <td>187.271986</td>\n",
              "      <td>21.541861</td>\n",
              "      <td>85.462121</td>\n",
              "      <td>239.730963</td>\n",
              "      <td>21.959411</td>\n",
              "      <td>53.125568</td>\n",
              "      <td>241.811788</td>\n",
              "      <td>Set3</td>\n",
              "      <td>B3</td>\n",
              "      <td>A1</td>\n",
              "      <td>D30CE1BD-7348-4D4B-8B2A-9CF508F40709.png</td>\n",
              "    </tr>\n",
              "    <tr>\n",
              "      <th>1</th>\n",
              "      <td>239.266414</td>\n",
              "      <td>216.745435</td>\n",
              "      <td>159.436772</td>\n",
              "      <td>238.759985</td>\n",
              "      <td>224.603373</td>\n",
              "      <td>187.611528</td>\n",
              "      <td>21.558372</td>\n",
              "      <td>85.166570</td>\n",
              "      <td>239.266414</td>\n",
              "      <td>21.871467</td>\n",
              "      <td>52.937911</td>\n",
              "      <td>241.746548</td>\n",
              "      <td>Set3</td>\n",
              "      <td>B3</td>\n",
              "      <td>A1</td>\n",
              "      <td>A3174F21-0003-438F-AB9B-C9E9E4403930.png</td>\n",
              "    </tr>\n",
              "    <tr>\n",
              "      <th>2</th>\n",
              "      <td>239.713869</td>\n",
              "      <td>217.283508</td>\n",
              "      <td>160.377137</td>\n",
              "      <td>238.615698</td>\n",
              "      <td>224.651839</td>\n",
              "      <td>187.685664</td>\n",
              "      <td>21.545843</td>\n",
              "      <td>84.513403</td>\n",
              "      <td>239.713869</td>\n",
              "      <td>21.955426</td>\n",
              "      <td>52.692614</td>\n",
              "      <td>241.606246</td>\n",
              "      <td>Set3</td>\n",
              "      <td>B3</td>\n",
              "      <td>A1</td>\n",
              "      <td>F6329A93-CE40-40BD-82AD-EE38250C7659.png</td>\n",
              "    </tr>\n",
              "    <tr>\n",
              "      <th>3</th>\n",
              "      <td>239.313326</td>\n",
              "      <td>216.689200</td>\n",
              "      <td>159.936189</td>\n",
              "      <td>238.952924</td>\n",
              "      <td>224.485497</td>\n",
              "      <td>187.712816</td>\n",
              "      <td>21.514180</td>\n",
              "      <td>84.670746</td>\n",
              "      <td>239.313326</td>\n",
              "      <td>21.837642</td>\n",
              "      <td>52.838569</td>\n",
              "      <td>241.901492</td>\n",
              "      <td>Set3</td>\n",
              "      <td>B3</td>\n",
              "      <td>A1</td>\n",
              "      <td>0EA3962C-C625-411B-83E6-FE457309A3FA.png</td>\n",
              "    </tr>\n",
              "    <tr>\n",
              "      <th>4</th>\n",
              "      <td>236.874709</td>\n",
              "      <td>224.246018</td>\n",
              "      <td>189.226204</td>\n",
              "      <td>230.156056</td>\n",
              "      <td>219.555185</td>\n",
              "      <td>186.043740</td>\n",
              "      <td>22.082653</td>\n",
              "      <td>51.388403</td>\n",
              "      <td>236.874709</td>\n",
              "      <td>22.723659</td>\n",
              "      <td>48.229636</td>\n",
              "      <td>231.396997</td>\n",
              "      <td>Set3</td>\n",
              "      <td>B3</td>\n",
              "      <td>A1</td>\n",
              "      <td>EC8C9E12-CC68-4397-BBD7-6F464DD8A7F6.png</td>\n",
              "    </tr>\n",
              "  </tbody>\n",
              "</table>\n",
              "</div>\n",
              "      <button class=\"colab-df-convert\" onclick=\"convertToInteractive('df-1e722fe6-ec3e-49f8-8a47-e5bf70f02c70')\"\n",
              "              title=\"Convert this dataframe to an interactive table.\"\n",
              "              style=\"display:none;\">\n",
              "        \n",
              "  <svg xmlns=\"http://www.w3.org/2000/svg\" height=\"24px\"viewBox=\"0 0 24 24\"\n",
              "       width=\"24px\">\n",
              "    <path d=\"M0 0h24v24H0V0z\" fill=\"none\"/>\n",
              "    <path d=\"M18.56 5.44l.94 2.06.94-2.06 2.06-.94-2.06-.94-.94-2.06-.94 2.06-2.06.94zm-11 1L8.5 8.5l.94-2.06 2.06-.94-2.06-.94L8.5 2.5l-.94 2.06-2.06.94zm10 10l.94 2.06.94-2.06 2.06-.94-2.06-.94-.94-2.06-.94 2.06-2.06.94z\"/><path d=\"M17.41 7.96l-1.37-1.37c-.4-.4-.92-.59-1.43-.59-.52 0-1.04.2-1.43.59L10.3 9.45l-7.72 7.72c-.78.78-.78 2.05 0 2.83L4 21.41c.39.39.9.59 1.41.59.51 0 1.02-.2 1.41-.59l7.78-7.78 2.81-2.81c.8-.78.8-2.07 0-2.86zM5.41 20L4 18.59l7.72-7.72 1.47 1.35L5.41 20z\"/>\n",
              "  </svg>\n",
              "      </button>\n",
              "      \n",
              "  <style>\n",
              "    .colab-df-container {\n",
              "      display:flex;\n",
              "      flex-wrap:wrap;\n",
              "      gap: 12px;\n",
              "    }\n",
              "\n",
              "    .colab-df-convert {\n",
              "      background-color: #E8F0FE;\n",
              "      border: none;\n",
              "      border-radius: 50%;\n",
              "      cursor: pointer;\n",
              "      display: none;\n",
              "      fill: #1967D2;\n",
              "      height: 32px;\n",
              "      padding: 0 0 0 0;\n",
              "      width: 32px;\n",
              "    }\n",
              "\n",
              "    .colab-df-convert:hover {\n",
              "      background-color: #E2EBFA;\n",
              "      box-shadow: 0px 1px 2px rgba(60, 64, 67, 0.3), 0px 1px 3px 1px rgba(60, 64, 67, 0.15);\n",
              "      fill: #174EA6;\n",
              "    }\n",
              "\n",
              "    [theme=dark] .colab-df-convert {\n",
              "      background-color: #3B4455;\n",
              "      fill: #D2E3FC;\n",
              "    }\n",
              "\n",
              "    [theme=dark] .colab-df-convert:hover {\n",
              "      background-color: #434B5C;\n",
              "      box-shadow: 0px 1px 3px 1px rgba(0, 0, 0, 0.15);\n",
              "      filter: drop-shadow(0px 1px 2px rgba(0, 0, 0, 0.3));\n",
              "      fill: #FFFFFF;\n",
              "    }\n",
              "  </style>\n",
              "\n",
              "      <script>\n",
              "        const buttonEl =\n",
              "          document.querySelector('#df-1e722fe6-ec3e-49f8-8a47-e5bf70f02c70 button.colab-df-convert');\n",
              "        buttonEl.style.display =\n",
              "          google.colab.kernel.accessAllowed ? 'block' : 'none';\n",
              "\n",
              "        async function convertToInteractive(key) {\n",
              "          const element = document.querySelector('#df-1e722fe6-ec3e-49f8-8a47-e5bf70f02c70');\n",
              "          const dataTable =\n",
              "            await google.colab.kernel.invokeFunction('convertToInteractive',\n",
              "                                                     [key], {});\n",
              "          if (!dataTable) return;\n",
              "\n",
              "          const docLinkHtml = 'Like what you see? Visit the ' +\n",
              "            '<a target=\"_blank\" href=https://colab.research.google.com/notebooks/data_table.ipynb>data table notebook</a>'\n",
              "            + ' to learn more about interactive tables.';\n",
              "          element.innerHTML = '';\n",
              "          dataTable['output_type'] = 'display_data';\n",
              "          await google.colab.output.renderOutput(dataTable, element);\n",
              "          const docLink = document.createElement('div');\n",
              "          docLink.innerHTML = docLinkHtml;\n",
              "          element.appendChild(docLink);\n",
              "        }\n",
              "      </script>\n",
              "    </div>\n",
              "  </div>\n",
              "  "
            ],
            "text/plain": [
              "        R-ref       G-ref  ...  Shad                                       Img\n",
              "0  239.730963  217.195319  ...    A1  D30CE1BD-7348-4D4B-8B2A-9CF508F40709.png\n",
              "1  239.266414  216.745435  ...    A1  A3174F21-0003-438F-AB9B-C9E9E4403930.png\n",
              "2  239.713869  217.283508  ...    A1  F6329A93-CE40-40BD-82AD-EE38250C7659.png\n",
              "3  239.313326  216.689200  ...    A1  0EA3962C-C625-411B-83E6-FE457309A3FA.png\n",
              "4  236.874709  224.246018  ...    A1  EC8C9E12-CC68-4397-BBD7-6F464DD8A7F6.png\n",
              "\n",
              "[5 rows x 16 columns]"
            ]
          },
          "metadata": {},
          "execution_count": 241
        }
      ]
    },
    {
      "cell_type": "code",
      "source": [
        "table_B3Set4 = pd.read_excel(Set4, sheet_name='B3Set4')\n",
        "table_B3Set4.head()"
      ],
      "metadata": {
        "id": "6VAhat_7sHOS",
        "outputId": "3f6250b7-74ec-4521-99c3-b6e16c4543ed",
        "colab": {
          "base_uri": "https://localhost:8080/",
          "height": 0
        }
      },
      "execution_count": 242,
      "outputs": [
        {
          "output_type": "execute_result",
          "data": {
            "text/html": [
              "\n",
              "  <div id=\"df-52b67415-ee8e-47dc-bfbc-6e15b3222df9\">\n",
              "    <div class=\"colab-df-container\">\n",
              "      <div>\n",
              "<style scoped>\n",
              "    .dataframe tbody tr th:only-of-type {\n",
              "        vertical-align: middle;\n",
              "    }\n",
              "\n",
              "    .dataframe tbody tr th {\n",
              "        vertical-align: top;\n",
              "    }\n",
              "\n",
              "    .dataframe thead th {\n",
              "        text-align: right;\n",
              "    }\n",
              "</style>\n",
              "<table border=\"1\" class=\"dataframe\">\n",
              "  <thead>\n",
              "    <tr style=\"text-align: right;\">\n",
              "      <th></th>\n",
              "      <th>R-ref</th>\n",
              "      <th>G-ref</th>\n",
              "      <th>B-ref</th>\n",
              "      <th>R-Shad</th>\n",
              "      <th>G-Shad</th>\n",
              "      <th>B-Shad</th>\n",
              "      <th>H-ref</th>\n",
              "      <th>S-ref</th>\n",
              "      <th>V-ref</th>\n",
              "      <th>H-Shad</th>\n",
              "      <th>S-Shad</th>\n",
              "      <th>V-Shad</th>\n",
              "      <th>Setting</th>\n",
              "      <th>Ref</th>\n",
              "      <th>Shad</th>\n",
              "      <th>Img</th>\n",
              "    </tr>\n",
              "  </thead>\n",
              "  <tbody>\n",
              "    <tr>\n",
              "      <th>0</th>\n",
              "      <td>238.081682</td>\n",
              "      <td>221.755051</td>\n",
              "      <td>181.142385</td>\n",
              "      <td>235.877861</td>\n",
              "      <td>223.403206</td>\n",
              "      <td>188.274488</td>\n",
              "      <td>21.704351</td>\n",
              "      <td>61.046814</td>\n",
              "      <td>238.081682</td>\n",
              "      <td>22.198221</td>\n",
              "      <td>51.493281</td>\n",
              "      <td>235.877861</td>\n",
              "      <td>Set4</td>\n",
              "      <td>B3</td>\n",
              "      <td>A1</td>\n",
              "      <td>5C22556A-CB1C-49A8-B0F9-3013F60CF097.png</td>\n",
              "    </tr>\n",
              "    <tr>\n",
              "      <th>1</th>\n",
              "      <td>235.952117</td>\n",
              "      <td>219.916764</td>\n",
              "      <td>179.500291</td>\n",
              "      <td>234.624780</td>\n",
              "      <td>222.123251</td>\n",
              "      <td>187.442591</td>\n",
              "      <td>21.683955</td>\n",
              "      <td>61.045940</td>\n",
              "      <td>235.952117</td>\n",
              "      <td>22.059587</td>\n",
              "      <td>51.317765</td>\n",
              "      <td>234.624780</td>\n",
              "      <td>Set4</td>\n",
              "      <td>B3</td>\n",
              "      <td>A1</td>\n",
              "      <td>AEB14259-1749-43ED-901D-F78CF34D6098.png</td>\n",
              "    </tr>\n",
              "    <tr>\n",
              "      <th>2</th>\n",
              "      <td>232.103632</td>\n",
              "      <td>215.131022</td>\n",
              "      <td>174.147533</td>\n",
              "      <td>230.502548</td>\n",
              "      <td>216.921416</td>\n",
              "      <td>181.024928</td>\n",
              "      <td>21.521950</td>\n",
              "      <td>63.663559</td>\n",
              "      <td>232.103632</td>\n",
              "      <td>21.845149</td>\n",
              "      <td>54.783060</td>\n",
              "      <td>230.502548</td>\n",
              "      <td>Set4</td>\n",
              "      <td>B3</td>\n",
              "      <td>A1</td>\n",
              "      <td>0D6EAE6C-73F2-4F11-86DF-9A77825BE847.png</td>\n",
              "    </tr>\n",
              "    <tr>\n",
              "      <th>3</th>\n",
              "      <td>229.841492</td>\n",
              "      <td>209.444444</td>\n",
              "      <td>165.517483</td>\n",
              "      <td>228.251135</td>\n",
              "      <td>210.763414</td>\n",
              "      <td>169.306274</td>\n",
              "      <td>20.311189</td>\n",
              "      <td>71.366647</td>\n",
              "      <td>229.841492</td>\n",
              "      <td>21.484292</td>\n",
              "      <td>65.896673</td>\n",
              "      <td>228.251135</td>\n",
              "      <td>Set4</td>\n",
              "      <td>B3</td>\n",
              "      <td>A1</td>\n",
              "      <td>214213DB-44A4-43C8-8270-BDECBDE6838F.png</td>\n",
              "    </tr>\n",
              "    <tr>\n",
              "      <th>4</th>\n",
              "      <td>228.368395</td>\n",
              "      <td>207.523019</td>\n",
              "      <td>163.672980</td>\n",
              "      <td>227.025021</td>\n",
              "      <td>209.357891</td>\n",
              "      <td>169.048559</td>\n",
              "      <td>20.087024</td>\n",
              "      <td>72.279138</td>\n",
              "      <td>228.368395</td>\n",
              "      <td>21.155407</td>\n",
              "      <td>65.139561</td>\n",
              "      <td>227.025021</td>\n",
              "      <td>Set4</td>\n",
              "      <td>B3</td>\n",
              "      <td>A1</td>\n",
              "      <td>28A87DF6-4327-4573-AB9A-73CB7077ED8E.png</td>\n",
              "    </tr>\n",
              "  </tbody>\n",
              "</table>\n",
              "</div>\n",
              "      <button class=\"colab-df-convert\" onclick=\"convertToInteractive('df-52b67415-ee8e-47dc-bfbc-6e15b3222df9')\"\n",
              "              title=\"Convert this dataframe to an interactive table.\"\n",
              "              style=\"display:none;\">\n",
              "        \n",
              "  <svg xmlns=\"http://www.w3.org/2000/svg\" height=\"24px\"viewBox=\"0 0 24 24\"\n",
              "       width=\"24px\">\n",
              "    <path d=\"M0 0h24v24H0V0z\" fill=\"none\"/>\n",
              "    <path d=\"M18.56 5.44l.94 2.06.94-2.06 2.06-.94-2.06-.94-.94-2.06-.94 2.06-2.06.94zm-11 1L8.5 8.5l.94-2.06 2.06-.94-2.06-.94L8.5 2.5l-.94 2.06-2.06.94zm10 10l.94 2.06.94-2.06 2.06-.94-2.06-.94-.94-2.06-.94 2.06-2.06.94z\"/><path d=\"M17.41 7.96l-1.37-1.37c-.4-.4-.92-.59-1.43-.59-.52 0-1.04.2-1.43.59L10.3 9.45l-7.72 7.72c-.78.78-.78 2.05 0 2.83L4 21.41c.39.39.9.59 1.41.59.51 0 1.02-.2 1.41-.59l7.78-7.78 2.81-2.81c.8-.78.8-2.07 0-2.86zM5.41 20L4 18.59l7.72-7.72 1.47 1.35L5.41 20z\"/>\n",
              "  </svg>\n",
              "      </button>\n",
              "      \n",
              "  <style>\n",
              "    .colab-df-container {\n",
              "      display:flex;\n",
              "      flex-wrap:wrap;\n",
              "      gap: 12px;\n",
              "    }\n",
              "\n",
              "    .colab-df-convert {\n",
              "      background-color: #E8F0FE;\n",
              "      border: none;\n",
              "      border-radius: 50%;\n",
              "      cursor: pointer;\n",
              "      display: none;\n",
              "      fill: #1967D2;\n",
              "      height: 32px;\n",
              "      padding: 0 0 0 0;\n",
              "      width: 32px;\n",
              "    }\n",
              "\n",
              "    .colab-df-convert:hover {\n",
              "      background-color: #E2EBFA;\n",
              "      box-shadow: 0px 1px 2px rgba(60, 64, 67, 0.3), 0px 1px 3px 1px rgba(60, 64, 67, 0.15);\n",
              "      fill: #174EA6;\n",
              "    }\n",
              "\n",
              "    [theme=dark] .colab-df-convert {\n",
              "      background-color: #3B4455;\n",
              "      fill: #D2E3FC;\n",
              "    }\n",
              "\n",
              "    [theme=dark] .colab-df-convert:hover {\n",
              "      background-color: #434B5C;\n",
              "      box-shadow: 0px 1px 3px 1px rgba(0, 0, 0, 0.15);\n",
              "      filter: drop-shadow(0px 1px 2px rgba(0, 0, 0, 0.3));\n",
              "      fill: #FFFFFF;\n",
              "    }\n",
              "  </style>\n",
              "\n",
              "      <script>\n",
              "        const buttonEl =\n",
              "          document.querySelector('#df-52b67415-ee8e-47dc-bfbc-6e15b3222df9 button.colab-df-convert');\n",
              "        buttonEl.style.display =\n",
              "          google.colab.kernel.accessAllowed ? 'block' : 'none';\n",
              "\n",
              "        async function convertToInteractive(key) {\n",
              "          const element = document.querySelector('#df-52b67415-ee8e-47dc-bfbc-6e15b3222df9');\n",
              "          const dataTable =\n",
              "            await google.colab.kernel.invokeFunction('convertToInteractive',\n",
              "                                                     [key], {});\n",
              "          if (!dataTable) return;\n",
              "\n",
              "          const docLinkHtml = 'Like what you see? Visit the ' +\n",
              "            '<a target=\"_blank\" href=https://colab.research.google.com/notebooks/data_table.ipynb>data table notebook</a>'\n",
              "            + ' to learn more about interactive tables.';\n",
              "          element.innerHTML = '';\n",
              "          dataTable['output_type'] = 'display_data';\n",
              "          await google.colab.output.renderOutput(dataTable, element);\n",
              "          const docLink = document.createElement('div');\n",
              "          docLink.innerHTML = docLinkHtml;\n",
              "          element.appendChild(docLink);\n",
              "        }\n",
              "      </script>\n",
              "    </div>\n",
              "  </div>\n",
              "  "
            ],
            "text/plain": [
              "        R-ref       G-ref  ...  Shad                                       Img\n",
              "0  238.081682  221.755051  ...    A1  5C22556A-CB1C-49A8-B0F9-3013F60CF097.png\n",
              "1  235.952117  219.916764  ...    A1  AEB14259-1749-43ED-901D-F78CF34D6098.png\n",
              "2  232.103632  215.131022  ...    A1  0D6EAE6C-73F2-4F11-86DF-9A77825BE847.png\n",
              "3  229.841492  209.444444  ...    A1  214213DB-44A4-43C8-8270-BDECBDE6838F.png\n",
              "4  228.368395  207.523019  ...    A1  28A87DF6-4327-4573-AB9A-73CB7077ED8E.png\n",
              "\n",
              "[5 rows x 16 columns]"
            ]
          },
          "metadata": {},
          "execution_count": 242
        }
      ]
    },
    {
      "cell_type": "markdown",
      "source": [
        "###RGB"
      ],
      "metadata": {
        "id": "4njF_sDtsHOS"
      }
    },
    {
      "cell_type": "code",
      "source": [
        "RGB_B3_Set4 = table_B3Set4"
      ],
      "metadata": {
        "id": "yqLZe8yvsHOS"
      },
      "execution_count": 243,
      "outputs": []
    },
    {
      "cell_type": "code",
      "source": [
        "RGB_B3_Set1 = table_B3Set1"
      ],
      "metadata": {
        "id": "QO9PuOA4sHOS"
      },
      "execution_count": 244,
      "outputs": []
    },
    {
      "cell_type": "code",
      "source": [
        "RGB_B3_Set2 = table_B3Set2"
      ],
      "metadata": {
        "id": "gzmOvHbXsHOS"
      },
      "execution_count": 245,
      "outputs": []
    },
    {
      "cell_type": "code",
      "source": [
        "RGB_B3_Set3 = table_B3Set3"
      ],
      "metadata": {
        "id": "NtEoW8ersHOS"
      },
      "execution_count": 246,
      "outputs": []
    },
    {
      "cell_type": "code",
      "source": [
        "RGB_B3_concat = pd.concat([RGB_B3_Set1,RGB_B3_Set2])"
      ],
      "metadata": {
        "id": "FZnkRIifqZl-"
      },
      "execution_count": 247,
      "outputs": []
    },
    {
      "cell_type": "code",
      "source": [
        "RGB_B3_concat0 = pd.concat([RGB_B3_concat,RGB_B3_Set4])"
      ],
      "metadata": {
        "id": "oJIOMQPxsHOS"
      },
      "execution_count": 248,
      "outputs": []
    },
    {
      "cell_type": "code",
      "source": [
        "RGB_B3_concat1 = pd.concat([RGB_B3_concat0,RGB_B3_Set3])"
      ],
      "metadata": {
        "id": "UhP38-hgsHOS"
      },
      "execution_count": 249,
      "outputs": []
    },
    {
      "cell_type": "code",
      "source": [
        "RGB_B3_concat2 = RGB_B3_concat1.drop(['H-ref','S-ref','V-ref','H-Shad','S-Shad','V-Shad','Setting','Ref','Shad','Img'], axis=1)"
      ],
      "metadata": {
        "id": "Jb7qyHcKsHOT"
      },
      "execution_count": 250,
      "outputs": []
    },
    {
      "cell_type": "code",
      "source": [
        "X_test_B3_RGB = np.array(RGB_D3_CC1)"
      ],
      "metadata": {
        "id": "YDNP71CEsHOT"
      },
      "execution_count": 251,
      "outputs": []
    },
    {
      "cell_type": "code",
      "source": [
        "y_B3_RGB =  table_D3CC1.iloc[:,14:15]"
      ],
      "metadata": {
        "id": "zXlAvcTbsHOT"
      },
      "execution_count": 252,
      "outputs": []
    },
    {
      "cell_type": "code",
      "source": [
        "y_test_B3_RGB = np.array(y_B3_RGB)"
      ],
      "metadata": {
        "id": "Cp8YOfTIsHOT"
      },
      "execution_count": 253,
      "outputs": []
    },
    {
      "cell_type": "code",
      "source": [
        "X_train_B3_RGB = np.array(RGB_B3_concat2)"
      ],
      "metadata": {
        "id": "oiWh59IVsHOT"
      },
      "execution_count": 254,
      "outputs": []
    },
    {
      "cell_type": "code",
      "source": [
        "y_train_B3RGB = RGB_B3_concat1.iloc[:,14:15]"
      ],
      "metadata": {
        "id": "59dXexhHsHOT"
      },
      "execution_count": 255,
      "outputs": []
    },
    {
      "cell_type": "code",
      "source": [
        "y_train_B3_RGB = np.array(y_train_B3RGB)"
      ],
      "metadata": {
        "id": "QuBse9EysHOT"
      },
      "execution_count": 256,
      "outputs": []
    },
    {
      "cell_type": "code",
      "source": [
        "clf.fit(X_train_B3_RGB, y_train_B3_RGB)"
      ],
      "metadata": {
        "id": "dTDGBxEYsHOU",
        "outputId": "a9863d55-b8dd-4f76-aa3b-55d9b204a97d",
        "colab": {
          "base_uri": "https://localhost:8080/"
        }
      },
      "execution_count": 257,
      "outputs": [
        {
          "output_type": "stream",
          "name": "stderr",
          "text": [
            "/usr/local/lib/python3.7/dist-packages/ipykernel_launcher.py:1: DataConversionWarning: A column-vector y was passed when a 1d array was expected. Please change the shape of y to (n_samples,), for example using ravel().\n",
            "  \"\"\"Entry point for launching an IPython kernel.\n"
          ]
        },
        {
          "output_type": "execute_result",
          "data": {
            "text/plain": [
              "RandomForestClassifier()"
            ]
          },
          "metadata": {},
          "execution_count": 257
        }
      ]
    },
    {
      "cell_type": "code",
      "source": [
        "y_pred_B3_RGB = clf.predict(X_test_B3_RGB)"
      ],
      "metadata": {
        "id": "zOyhYKUasHOU"
      },
      "execution_count": 258,
      "outputs": []
    },
    {
      "cell_type": "code",
      "source": [
        "print(\"Accuracy:\", metrics.accuracy_score(y_test_B3_RGB, y_pred_B3_RGB))"
      ],
      "metadata": {
        "id": "pUWkHRcxsHOU",
        "outputId": "4f63cfe0-7e97-452c-9dad-29ea991ccdf9",
        "colab": {
          "base_uri": "https://localhost:8080/"
        }
      },
      "execution_count": 259,
      "outputs": [
        {
          "output_type": "stream",
          "name": "stdout",
          "text": [
            "Accuracy: 0.0725\n"
          ]
        }
      ]
    },
    {
      "cell_type": "markdown",
      "source": [
        "###HSV"
      ],
      "metadata": {
        "id": "a2v2Cu1qsHOU"
      }
    },
    {
      "cell_type": "code",
      "source": [
        "HSV_B3_concat2 = RGB_B3_concat1.drop(['R-ref','G-ref','B-ref','R-Shad','G-Shad','B-Shad','Setting','Ref','Shad','Img'], axis=1)"
      ],
      "metadata": {
        "id": "aAZsaClWsHOU"
      },
      "execution_count": 260,
      "outputs": []
    },
    {
      "cell_type": "code",
      "source": [
        "X_test_B3_HSV = np.array(HSV_D3_CC1)"
      ],
      "metadata": {
        "id": "WAFnYBGhsHOU"
      },
      "execution_count": 261,
      "outputs": []
    },
    {
      "cell_type": "code",
      "source": [
        "y_B3_HSV =  table_D3CC1.iloc[:,14:15]"
      ],
      "metadata": {
        "id": "5okDH6bvsHOV"
      },
      "execution_count": 262,
      "outputs": []
    },
    {
      "cell_type": "code",
      "source": [
        "y_test_B3_HSV = np.array(y_B3_RGB)"
      ],
      "metadata": {
        "id": "ktvtDkJSsHOV"
      },
      "execution_count": 263,
      "outputs": []
    },
    {
      "cell_type": "code",
      "source": [
        "X_train_B3_HSV = np.array(HSV_B3_concat2)"
      ],
      "metadata": {
        "id": "F-dVwJiQsHOV"
      },
      "execution_count": 264,
      "outputs": []
    },
    {
      "cell_type": "code",
      "source": [
        "y_train_B3HSV = RGB_B3_concat1.iloc[:,14:15]"
      ],
      "metadata": {
        "id": "FDpg1LPbsHOV"
      },
      "execution_count": 265,
      "outputs": []
    },
    {
      "cell_type": "code",
      "source": [
        "y_train_B3_HSV = np.array(y_train_B3HSV)"
      ],
      "metadata": {
        "id": "OmmzdN7OsHOV"
      },
      "execution_count": 266,
      "outputs": []
    },
    {
      "cell_type": "code",
      "source": [
        "clf.fit(X_train_B3_HSV, y_train_B3_HSV)"
      ],
      "metadata": {
        "id": "m2vhHsuwsHOV",
        "outputId": "df3b3158-9e33-47db-c63c-e0b0b46338e8",
        "colab": {
          "base_uri": "https://localhost:8080/"
        }
      },
      "execution_count": 267,
      "outputs": [
        {
          "output_type": "stream",
          "name": "stderr",
          "text": [
            "/usr/local/lib/python3.7/dist-packages/ipykernel_launcher.py:1: DataConversionWarning: A column-vector y was passed when a 1d array was expected. Please change the shape of y to (n_samples,), for example using ravel().\n",
            "  \"\"\"Entry point for launching an IPython kernel.\n"
          ]
        },
        {
          "output_type": "execute_result",
          "data": {
            "text/plain": [
              "RandomForestClassifier()"
            ]
          },
          "metadata": {},
          "execution_count": 267
        }
      ]
    },
    {
      "cell_type": "code",
      "source": [
        "y_pred_B3_HSV = clf.predict(X_test_B3_HSV)"
      ],
      "metadata": {
        "id": "Ky-ZY420sHOV"
      },
      "execution_count": 268,
      "outputs": []
    },
    {
      "cell_type": "code",
      "source": [
        "print(\"Accuracy:\", metrics.accuracy_score(y_test_B3_HSV, y_pred_B3_HSV))"
      ],
      "metadata": {
        "id": "V_h7tdPBsHOV",
        "outputId": "c3075fa7-e738-4d2b-c094-4b0340fce90d",
        "colab": {
          "base_uri": "https://localhost:8080/"
        }
      },
      "execution_count": 269,
      "outputs": [
        {
          "output_type": "stream",
          "name": "stdout",
          "text": [
            "Accuracy: 0.0625\n"
          ]
        }
      ]
    },
    {
      "cell_type": "markdown",
      "source": [
        "##B4"
      ],
      "metadata": {
        "id": "Cqdvh1d4tDKz"
      }
    },
    {
      "cell_type": "code",
      "source": [
        "table_B4Set1 = pd.read_excel(Set1 , sheet_name='B4Set1 ')\n",
        "table_B4Set1.head()"
      ],
      "metadata": {
        "id": "MMB7W5dmtDK0",
        "outputId": "0ce15b84-3500-431d-d041-f7d00c51e992",
        "colab": {
          "base_uri": "https://localhost:8080/",
          "height": 0
        }
      },
      "execution_count": 270,
      "outputs": [
        {
          "output_type": "execute_result",
          "data": {
            "text/html": [
              "\n",
              "  <div id=\"df-d986ed8c-6c66-43a1-b128-d88f4d06ca96\">\n",
              "    <div class=\"colab-df-container\">\n",
              "      <div>\n",
              "<style scoped>\n",
              "    .dataframe tbody tr th:only-of-type {\n",
              "        vertical-align: middle;\n",
              "    }\n",
              "\n",
              "    .dataframe tbody tr th {\n",
              "        vertical-align: top;\n",
              "    }\n",
              "\n",
              "    .dataframe thead th {\n",
              "        text-align: right;\n",
              "    }\n",
              "</style>\n",
              "<table border=\"1\" class=\"dataframe\">\n",
              "  <thead>\n",
              "    <tr style=\"text-align: right;\">\n",
              "      <th></th>\n",
              "      <th>R-ref</th>\n",
              "      <th>G-ref</th>\n",
              "      <th>B-ref</th>\n",
              "      <th>R-Shad</th>\n",
              "      <th>G-Shad</th>\n",
              "      <th>B-Shad</th>\n",
              "      <th>H-ref</th>\n",
              "      <th>S-ref</th>\n",
              "      <th>V-ref</th>\n",
              "      <th>H-Shad</th>\n",
              "      <th>S-Shad</th>\n",
              "      <th>V-Shad</th>\n",
              "      <th>Setting</th>\n",
              "      <th>Ref</th>\n",
              "      <th>Shad</th>\n",
              "      <th>Img</th>\n",
              "    </tr>\n",
              "  </thead>\n",
              "  <tbody>\n",
              "    <tr>\n",
              "      <th>0</th>\n",
              "      <td>239.266414</td>\n",
              "      <td>216.745435</td>\n",
              "      <td>159.436772</td>\n",
              "      <td>238.759985</td>\n",
              "      <td>224.603373</td>\n",
              "      <td>187.611528</td>\n",
              "      <td>21.558372</td>\n",
              "      <td>85.166570</td>\n",
              "      <td>239.266414</td>\n",
              "      <td>21.903067</td>\n",
              "      <td>52.209990</td>\n",
              "      <td>243.005375</td>\n",
              "      <td>Set1</td>\n",
              "      <td>B4</td>\n",
              "      <td>A1</td>\n",
              "      <td>34B2D0A4-AE20-440B-976D-34704AC67DBF.png</td>\n",
              "    </tr>\n",
              "    <tr>\n",
              "      <th>1</th>\n",
              "      <td>239.713869</td>\n",
              "      <td>217.283508</td>\n",
              "      <td>160.377137</td>\n",
              "      <td>238.615698</td>\n",
              "      <td>224.651839</td>\n",
              "      <td>187.685664</td>\n",
              "      <td>21.545843</td>\n",
              "      <td>84.513403</td>\n",
              "      <td>239.713869</td>\n",
              "      <td>21.977759</td>\n",
              "      <td>52.034566</td>\n",
              "      <td>242.949958</td>\n",
              "      <td>Set1</td>\n",
              "      <td>B4</td>\n",
              "      <td>A1</td>\n",
              "      <td>749D68C6-4CBE-4281-936D-2E903F24C84B.png</td>\n",
              "    </tr>\n",
              "    <tr>\n",
              "      <th>2</th>\n",
              "      <td>239.313326</td>\n",
              "      <td>216.689200</td>\n",
              "      <td>159.936189</td>\n",
              "      <td>238.952924</td>\n",
              "      <td>224.485497</td>\n",
              "      <td>187.712816</td>\n",
              "      <td>21.514180</td>\n",
              "      <td>84.670746</td>\n",
              "      <td>239.313326</td>\n",
              "      <td>21.899824</td>\n",
              "      <td>52.143082</td>\n",
              "      <td>243.209248</td>\n",
              "      <td>Set1</td>\n",
              "      <td>B4</td>\n",
              "      <td>A1</td>\n",
              "      <td>FF438080-DFCE-4992-80C7-BC7FD4258D18.png</td>\n",
              "    </tr>\n",
              "    <tr>\n",
              "      <th>3</th>\n",
              "      <td>236.874709</td>\n",
              "      <td>224.246018</td>\n",
              "      <td>189.226204</td>\n",
              "      <td>230.156056</td>\n",
              "      <td>219.555185</td>\n",
              "      <td>186.043740</td>\n",
              "      <td>22.082653</td>\n",
              "      <td>51.388403</td>\n",
              "      <td>236.874709</td>\n",
              "      <td>22.702345</td>\n",
              "      <td>47.224076</td>\n",
              "      <td>232.799926</td>\n",
              "      <td>Set1</td>\n",
              "      <td>B4</td>\n",
              "      <td>A1</td>\n",
              "      <td>94EA0AEE-7090-4878-B886-C6D839442A90.png</td>\n",
              "    </tr>\n",
              "    <tr>\n",
              "      <th>4</th>\n",
              "      <td>233.620047</td>\n",
              "      <td>221.292735</td>\n",
              "      <td>185.655789</td>\n",
              "      <td>226.263831</td>\n",
              "      <td>214.966732</td>\n",
              "      <td>180.068854</td>\n",
              "      <td>22.295552</td>\n",
              "      <td>52.415695</td>\n",
              "      <td>233.620047</td>\n",
              "      <td>22.704383</td>\n",
              "      <td>51.548698</td>\n",
              "      <td>229.251877</td>\n",
              "      <td>Set1</td>\n",
              "      <td>B4</td>\n",
              "      <td>A1</td>\n",
              "      <td>1F086831-AF5B-4D7E-8E33-15C8CE2CF0B7.png</td>\n",
              "    </tr>\n",
              "  </tbody>\n",
              "</table>\n",
              "</div>\n",
              "      <button class=\"colab-df-convert\" onclick=\"convertToInteractive('df-d986ed8c-6c66-43a1-b128-d88f4d06ca96')\"\n",
              "              title=\"Convert this dataframe to an interactive table.\"\n",
              "              style=\"display:none;\">\n",
              "        \n",
              "  <svg xmlns=\"http://www.w3.org/2000/svg\" height=\"24px\"viewBox=\"0 0 24 24\"\n",
              "       width=\"24px\">\n",
              "    <path d=\"M0 0h24v24H0V0z\" fill=\"none\"/>\n",
              "    <path d=\"M18.56 5.44l.94 2.06.94-2.06 2.06-.94-2.06-.94-.94-2.06-.94 2.06-2.06.94zm-11 1L8.5 8.5l.94-2.06 2.06-.94-2.06-.94L8.5 2.5l-.94 2.06-2.06.94zm10 10l.94 2.06.94-2.06 2.06-.94-2.06-.94-.94-2.06-.94 2.06-2.06.94z\"/><path d=\"M17.41 7.96l-1.37-1.37c-.4-.4-.92-.59-1.43-.59-.52 0-1.04.2-1.43.59L10.3 9.45l-7.72 7.72c-.78.78-.78 2.05 0 2.83L4 21.41c.39.39.9.59 1.41.59.51 0 1.02-.2 1.41-.59l7.78-7.78 2.81-2.81c.8-.78.8-2.07 0-2.86zM5.41 20L4 18.59l7.72-7.72 1.47 1.35L5.41 20z\"/>\n",
              "  </svg>\n",
              "      </button>\n",
              "      \n",
              "  <style>\n",
              "    .colab-df-container {\n",
              "      display:flex;\n",
              "      flex-wrap:wrap;\n",
              "      gap: 12px;\n",
              "    }\n",
              "\n",
              "    .colab-df-convert {\n",
              "      background-color: #E8F0FE;\n",
              "      border: none;\n",
              "      border-radius: 50%;\n",
              "      cursor: pointer;\n",
              "      display: none;\n",
              "      fill: #1967D2;\n",
              "      height: 32px;\n",
              "      padding: 0 0 0 0;\n",
              "      width: 32px;\n",
              "    }\n",
              "\n",
              "    .colab-df-convert:hover {\n",
              "      background-color: #E2EBFA;\n",
              "      box-shadow: 0px 1px 2px rgba(60, 64, 67, 0.3), 0px 1px 3px 1px rgba(60, 64, 67, 0.15);\n",
              "      fill: #174EA6;\n",
              "    }\n",
              "\n",
              "    [theme=dark] .colab-df-convert {\n",
              "      background-color: #3B4455;\n",
              "      fill: #D2E3FC;\n",
              "    }\n",
              "\n",
              "    [theme=dark] .colab-df-convert:hover {\n",
              "      background-color: #434B5C;\n",
              "      box-shadow: 0px 1px 3px 1px rgba(0, 0, 0, 0.15);\n",
              "      filter: drop-shadow(0px 1px 2px rgba(0, 0, 0, 0.3));\n",
              "      fill: #FFFFFF;\n",
              "    }\n",
              "  </style>\n",
              "\n",
              "      <script>\n",
              "        const buttonEl =\n",
              "          document.querySelector('#df-d986ed8c-6c66-43a1-b128-d88f4d06ca96 button.colab-df-convert');\n",
              "        buttonEl.style.display =\n",
              "          google.colab.kernel.accessAllowed ? 'block' : 'none';\n",
              "\n",
              "        async function convertToInteractive(key) {\n",
              "          const element = document.querySelector('#df-d986ed8c-6c66-43a1-b128-d88f4d06ca96');\n",
              "          const dataTable =\n",
              "            await google.colab.kernel.invokeFunction('convertToInteractive',\n",
              "                                                     [key], {});\n",
              "          if (!dataTable) return;\n",
              "\n",
              "          const docLinkHtml = 'Like what you see? Visit the ' +\n",
              "            '<a target=\"_blank\" href=https://colab.research.google.com/notebooks/data_table.ipynb>data table notebook</a>'\n",
              "            + ' to learn more about interactive tables.';\n",
              "          element.innerHTML = '';\n",
              "          dataTable['output_type'] = 'display_data';\n",
              "          await google.colab.output.renderOutput(dataTable, element);\n",
              "          const docLink = document.createElement('div');\n",
              "          docLink.innerHTML = docLinkHtml;\n",
              "          element.appendChild(docLink);\n",
              "        }\n",
              "      </script>\n",
              "    </div>\n",
              "  </div>\n",
              "  "
            ],
            "text/plain": [
              "        R-ref       G-ref  ...  Shad                                       Img\n",
              "0  239.266414  216.745435  ...    A1  34B2D0A4-AE20-440B-976D-34704AC67DBF.png\n",
              "1  239.713869  217.283508  ...    A1  749D68C6-4CBE-4281-936D-2E903F24C84B.png\n",
              "2  239.313326  216.689200  ...    A1  FF438080-DFCE-4992-80C7-BC7FD4258D18.png\n",
              "3  236.874709  224.246018  ...    A1  94EA0AEE-7090-4878-B886-C6D839442A90.png\n",
              "4  233.620047  221.292735  ...    A1  1F086831-AF5B-4D7E-8E33-15C8CE2CF0B7.png\n",
              "\n",
              "[5 rows x 16 columns]"
            ]
          },
          "metadata": {},
          "execution_count": 270
        }
      ]
    },
    {
      "cell_type": "code",
      "source": [
        "table_B4Set2 = pd.read_excel(Set2, sheet_name='B4Set2 ')\n",
        "table_B4Set2.head()"
      ],
      "metadata": {
        "id": "36yod91StDK0",
        "outputId": "7e6a44ca-df82-41c0-cada-c0f2984ba126",
        "colab": {
          "base_uri": "https://localhost:8080/",
          "height": 0
        }
      },
      "execution_count": 271,
      "outputs": [
        {
          "output_type": "execute_result",
          "data": {
            "text/html": [
              "\n",
              "  <div id=\"df-2eb81b9f-c1bb-47f9-a23e-3a83d072a107\">\n",
              "    <div class=\"colab-df-container\">\n",
              "      <div>\n",
              "<style scoped>\n",
              "    .dataframe tbody tr th:only-of-type {\n",
              "        vertical-align: middle;\n",
              "    }\n",
              "\n",
              "    .dataframe tbody tr th {\n",
              "        vertical-align: top;\n",
              "    }\n",
              "\n",
              "    .dataframe thead th {\n",
              "        text-align: right;\n",
              "    }\n",
              "</style>\n",
              "<table border=\"1\" class=\"dataframe\">\n",
              "  <thead>\n",
              "    <tr style=\"text-align: right;\">\n",
              "      <th></th>\n",
              "      <th>R-ref</th>\n",
              "      <th>G-ref</th>\n",
              "      <th>B-ref</th>\n",
              "      <th>R-Shad</th>\n",
              "      <th>G-Shad</th>\n",
              "      <th>B-Shad</th>\n",
              "      <th>H-ref</th>\n",
              "      <th>S-ref</th>\n",
              "      <th>V-ref</th>\n",
              "      <th>H-Shad</th>\n",
              "      <th>S-Shad</th>\n",
              "      <th>V-Shad</th>\n",
              "      <th>Setting</th>\n",
              "      <th>Ref</th>\n",
              "      <th>Shad</th>\n",
              "      <th>Img</th>\n",
              "    </tr>\n",
              "  </thead>\n",
              "  <tbody>\n",
              "    <tr>\n",
              "      <th>0</th>\n",
              "      <td>238.081682</td>\n",
              "      <td>221.755051</td>\n",
              "      <td>181.142385</td>\n",
              "      <td>235.877861</td>\n",
              "      <td>223.403206</td>\n",
              "      <td>188.274488</td>\n",
              "      <td>21.704351</td>\n",
              "      <td>61.046814</td>\n",
              "      <td>238.081682</td>\n",
              "      <td>22.198221</td>\n",
              "      <td>51.493281</td>\n",
              "      <td>235.877861</td>\n",
              "      <td>Set2</td>\n",
              "      <td>B4</td>\n",
              "      <td>A1</td>\n",
              "      <td>CEFE92E4-E005-4DDF-BB31-F3105F314593.png</td>\n",
              "    </tr>\n",
              "    <tr>\n",
              "      <th>1</th>\n",
              "      <td>235.952117</td>\n",
              "      <td>219.916764</td>\n",
              "      <td>179.500291</td>\n",
              "      <td>234.624780</td>\n",
              "      <td>222.123251</td>\n",
              "      <td>187.442591</td>\n",
              "      <td>21.683955</td>\n",
              "      <td>61.045940</td>\n",
              "      <td>235.952117</td>\n",
              "      <td>22.059587</td>\n",
              "      <td>51.317765</td>\n",
              "      <td>234.624780</td>\n",
              "      <td>Set2</td>\n",
              "      <td>B4</td>\n",
              "      <td>A1</td>\n",
              "      <td>6CDF7A1D-59D6-42B3-8E72-D6D4A8079980.png</td>\n",
              "    </tr>\n",
              "    <tr>\n",
              "      <th>2</th>\n",
              "      <td>232.103632</td>\n",
              "      <td>215.131022</td>\n",
              "      <td>174.147533</td>\n",
              "      <td>230.502548</td>\n",
              "      <td>216.921416</td>\n",
              "      <td>181.024928</td>\n",
              "      <td>21.521950</td>\n",
              "      <td>63.663559</td>\n",
              "      <td>232.103632</td>\n",
              "      <td>21.845149</td>\n",
              "      <td>54.783060</td>\n",
              "      <td>230.502548</td>\n",
              "      <td>Set2</td>\n",
              "      <td>B4</td>\n",
              "      <td>A1</td>\n",
              "      <td>0FA330C4-7EAC-4F6B-9169-ADD778255E24.png</td>\n",
              "    </tr>\n",
              "    <tr>\n",
              "      <th>3</th>\n",
              "      <td>229.841492</td>\n",
              "      <td>209.444444</td>\n",
              "      <td>165.517483</td>\n",
              "      <td>228.251135</td>\n",
              "      <td>210.763414</td>\n",
              "      <td>169.306274</td>\n",
              "      <td>20.311189</td>\n",
              "      <td>71.366647</td>\n",
              "      <td>229.841492</td>\n",
              "      <td>21.484292</td>\n",
              "      <td>65.896673</td>\n",
              "      <td>228.251135</td>\n",
              "      <td>Set2</td>\n",
              "      <td>B4</td>\n",
              "      <td>A1</td>\n",
              "      <td>FD0E58A7-5CD5-42AB-984D-17E1C2695D0F.png</td>\n",
              "    </tr>\n",
              "    <tr>\n",
              "      <th>4</th>\n",
              "      <td>228.368395</td>\n",
              "      <td>207.523019</td>\n",
              "      <td>163.672980</td>\n",
              "      <td>227.025021</td>\n",
              "      <td>209.357891</td>\n",
              "      <td>169.048559</td>\n",
              "      <td>20.087024</td>\n",
              "      <td>72.279138</td>\n",
              "      <td>228.368395</td>\n",
              "      <td>21.155407</td>\n",
              "      <td>65.139561</td>\n",
              "      <td>227.025021</td>\n",
              "      <td>Set2</td>\n",
              "      <td>B4</td>\n",
              "      <td>A1</td>\n",
              "      <td>E331F1F9-905A-4866-8928-26AEF36EAFF7.png</td>\n",
              "    </tr>\n",
              "  </tbody>\n",
              "</table>\n",
              "</div>\n",
              "      <button class=\"colab-df-convert\" onclick=\"convertToInteractive('df-2eb81b9f-c1bb-47f9-a23e-3a83d072a107')\"\n",
              "              title=\"Convert this dataframe to an interactive table.\"\n",
              "              style=\"display:none;\">\n",
              "        \n",
              "  <svg xmlns=\"http://www.w3.org/2000/svg\" height=\"24px\"viewBox=\"0 0 24 24\"\n",
              "       width=\"24px\">\n",
              "    <path d=\"M0 0h24v24H0V0z\" fill=\"none\"/>\n",
              "    <path d=\"M18.56 5.44l.94 2.06.94-2.06 2.06-.94-2.06-.94-.94-2.06-.94 2.06-2.06.94zm-11 1L8.5 8.5l.94-2.06 2.06-.94-2.06-.94L8.5 2.5l-.94 2.06-2.06.94zm10 10l.94 2.06.94-2.06 2.06-.94-2.06-.94-.94-2.06-.94 2.06-2.06.94z\"/><path d=\"M17.41 7.96l-1.37-1.37c-.4-.4-.92-.59-1.43-.59-.52 0-1.04.2-1.43.59L10.3 9.45l-7.72 7.72c-.78.78-.78 2.05 0 2.83L4 21.41c.39.39.9.59 1.41.59.51 0 1.02-.2 1.41-.59l7.78-7.78 2.81-2.81c.8-.78.8-2.07 0-2.86zM5.41 20L4 18.59l7.72-7.72 1.47 1.35L5.41 20z\"/>\n",
              "  </svg>\n",
              "      </button>\n",
              "      \n",
              "  <style>\n",
              "    .colab-df-container {\n",
              "      display:flex;\n",
              "      flex-wrap:wrap;\n",
              "      gap: 12px;\n",
              "    }\n",
              "\n",
              "    .colab-df-convert {\n",
              "      background-color: #E8F0FE;\n",
              "      border: none;\n",
              "      border-radius: 50%;\n",
              "      cursor: pointer;\n",
              "      display: none;\n",
              "      fill: #1967D2;\n",
              "      height: 32px;\n",
              "      padding: 0 0 0 0;\n",
              "      width: 32px;\n",
              "    }\n",
              "\n",
              "    .colab-df-convert:hover {\n",
              "      background-color: #E2EBFA;\n",
              "      box-shadow: 0px 1px 2px rgba(60, 64, 67, 0.3), 0px 1px 3px 1px rgba(60, 64, 67, 0.15);\n",
              "      fill: #174EA6;\n",
              "    }\n",
              "\n",
              "    [theme=dark] .colab-df-convert {\n",
              "      background-color: #3B4455;\n",
              "      fill: #D2E3FC;\n",
              "    }\n",
              "\n",
              "    [theme=dark] .colab-df-convert:hover {\n",
              "      background-color: #434B5C;\n",
              "      box-shadow: 0px 1px 3px 1px rgba(0, 0, 0, 0.15);\n",
              "      filter: drop-shadow(0px 1px 2px rgba(0, 0, 0, 0.3));\n",
              "      fill: #FFFFFF;\n",
              "    }\n",
              "  </style>\n",
              "\n",
              "      <script>\n",
              "        const buttonEl =\n",
              "          document.querySelector('#df-2eb81b9f-c1bb-47f9-a23e-3a83d072a107 button.colab-df-convert');\n",
              "        buttonEl.style.display =\n",
              "          google.colab.kernel.accessAllowed ? 'block' : 'none';\n",
              "\n",
              "        async function convertToInteractive(key) {\n",
              "          const element = document.querySelector('#df-2eb81b9f-c1bb-47f9-a23e-3a83d072a107');\n",
              "          const dataTable =\n",
              "            await google.colab.kernel.invokeFunction('convertToInteractive',\n",
              "                                                     [key], {});\n",
              "          if (!dataTable) return;\n",
              "\n",
              "          const docLinkHtml = 'Like what you see? Visit the ' +\n",
              "            '<a target=\"_blank\" href=https://colab.research.google.com/notebooks/data_table.ipynb>data table notebook</a>'\n",
              "            + ' to learn more about interactive tables.';\n",
              "          element.innerHTML = '';\n",
              "          dataTable['output_type'] = 'display_data';\n",
              "          await google.colab.output.renderOutput(dataTable, element);\n",
              "          const docLink = document.createElement('div');\n",
              "          docLink.innerHTML = docLinkHtml;\n",
              "          element.appendChild(docLink);\n",
              "        }\n",
              "      </script>\n",
              "    </div>\n",
              "  </div>\n",
              "  "
            ],
            "text/plain": [
              "        R-ref       G-ref  ...  Shad                                       Img\n",
              "0  238.081682  221.755051  ...    A1  CEFE92E4-E005-4DDF-BB31-F3105F314593.png\n",
              "1  235.952117  219.916764  ...    A1  6CDF7A1D-59D6-42B3-8E72-D6D4A8079980.png\n",
              "2  232.103632  215.131022  ...    A1  0FA330C4-7EAC-4F6B-9169-ADD778255E24.png\n",
              "3  229.841492  209.444444  ...    A1  FD0E58A7-5CD5-42AB-984D-17E1C2695D0F.png\n",
              "4  228.368395  207.523019  ...    A1  E331F1F9-905A-4866-8928-26AEF36EAFF7.png\n",
              "\n",
              "[5 rows x 16 columns]"
            ]
          },
          "metadata": {},
          "execution_count": 271
        }
      ]
    },
    {
      "cell_type": "code",
      "source": [
        "table_B4Set3 = pd.read_excel(Set3, sheet_name='B4Set3 ')\n",
        "table_B4Set3.head()"
      ],
      "metadata": {
        "id": "hVlYI5xOtDK0",
        "outputId": "aca8c5bd-e340-4a5c-d243-271dfb504a27",
        "colab": {
          "base_uri": "https://localhost:8080/",
          "height": 0
        }
      },
      "execution_count": 272,
      "outputs": [
        {
          "output_type": "execute_result",
          "data": {
            "text/html": [
              "\n",
              "  <div id=\"df-3e3704d3-a6f8-4a1e-9cc9-f18a2088ce5d\">\n",
              "    <div class=\"colab-df-container\">\n",
              "      <div>\n",
              "<style scoped>\n",
              "    .dataframe tbody tr th:only-of-type {\n",
              "        vertical-align: middle;\n",
              "    }\n",
              "\n",
              "    .dataframe tbody tr th {\n",
              "        vertical-align: top;\n",
              "    }\n",
              "\n",
              "    .dataframe thead th {\n",
              "        text-align: right;\n",
              "    }\n",
              "</style>\n",
              "<table border=\"1\" class=\"dataframe\">\n",
              "  <thead>\n",
              "    <tr style=\"text-align: right;\">\n",
              "      <th></th>\n",
              "      <th>R-ref</th>\n",
              "      <th>G-ref</th>\n",
              "      <th>B-ref</th>\n",
              "      <th>R-Shad</th>\n",
              "      <th>G-Shad</th>\n",
              "      <th>B-Shad</th>\n",
              "      <th>H-ref</th>\n",
              "      <th>S-ref</th>\n",
              "      <th>V-ref</th>\n",
              "      <th>H-Shad</th>\n",
              "      <th>S-Shad</th>\n",
              "      <th>V-Shad</th>\n",
              "      <th>Setting</th>\n",
              "      <th>Ref</th>\n",
              "      <th>Shad</th>\n",
              "      <th>Img</th>\n",
              "    </tr>\n",
              "  </thead>\n",
              "  <tbody>\n",
              "    <tr>\n",
              "      <th>0</th>\n",
              "      <td>239.313326</td>\n",
              "      <td>216.689200</td>\n",
              "      <td>159.936189</td>\n",
              "      <td>238.952924</td>\n",
              "      <td>224.485497</td>\n",
              "      <td>187.712816</td>\n",
              "      <td>21.514180</td>\n",
              "      <td>84.670746</td>\n",
              "      <td>239.313326</td>\n",
              "      <td>21.714206</td>\n",
              "      <td>53.877212</td>\n",
              "      <td>240.478176</td>\n",
              "      <td>Set3</td>\n",
              "      <td>B4</td>\n",
              "      <td>A1</td>\n",
              "      <td>15CF7C81-C401-4F9B-A9D6-BFF17DD5A41E.png</td>\n",
              "    </tr>\n",
              "    <tr>\n",
              "      <th>1</th>\n",
              "      <td>236.874709</td>\n",
              "      <td>224.246018</td>\n",
              "      <td>189.226204</td>\n",
              "      <td>230.156056</td>\n",
              "      <td>219.555185</td>\n",
              "      <td>186.043740</td>\n",
              "      <td>22.082653</td>\n",
              "      <td>51.388403</td>\n",
              "      <td>236.874709</td>\n",
              "      <td>22.706700</td>\n",
              "      <td>48.897415</td>\n",
              "      <td>230.156056</td>\n",
              "      <td>Set3</td>\n",
              "      <td>B4</td>\n",
              "      <td>A1</td>\n",
              "      <td>BB30E369-CADD-4E81-BE42-6B37C089DFDF.png</td>\n",
              "    </tr>\n",
              "    <tr>\n",
              "      <th>2</th>\n",
              "      <td>233.620047</td>\n",
              "      <td>221.292735</td>\n",
              "      <td>185.655789</td>\n",
              "      <td>226.263831</td>\n",
              "      <td>214.966732</td>\n",
              "      <td>180.068854</td>\n",
              "      <td>22.295552</td>\n",
              "      <td>52.415695</td>\n",
              "      <td>233.620047</td>\n",
              "      <td>22.698360</td>\n",
              "      <td>52.072004</td>\n",
              "      <td>226.263831</td>\n",
              "      <td>Set3</td>\n",
              "      <td>B4</td>\n",
              "      <td>A1</td>\n",
              "      <td>41EAF1E9-C9E9-4D7E-968E-75700ECAA674.png</td>\n",
              "    </tr>\n",
              "    <tr>\n",
              "      <th>3</th>\n",
              "      <td>237.811480</td>\n",
              "      <td>225.270882</td>\n",
              "      <td>190.323718</td>\n",
              "      <td>231.649152</td>\n",
              "      <td>220.802891</td>\n",
              "      <td>187.113799</td>\n",
              "      <td>22.090909</td>\n",
              "      <td>51.023116</td>\n",
              "      <td>237.811480</td>\n",
              "      <td>22.639236</td>\n",
              "      <td>49.034844</td>\n",
              "      <td>231.649152</td>\n",
              "      <td>Set3</td>\n",
              "      <td>B4</td>\n",
              "      <td>A1</td>\n",
              "      <td>C637E1DF-0ECB-4622-A3DD-67CDD073DACD.png</td>\n",
              "    </tr>\n",
              "    <tr>\n",
              "      <th>4</th>\n",
              "      <td>236.552836</td>\n",
              "      <td>224.011752</td>\n",
              "      <td>188.282051</td>\n",
              "      <td>231.108331</td>\n",
              "      <td>219.994996</td>\n",
              "      <td>185.944213</td>\n",
              "      <td>22.189103</td>\n",
              "      <td>52.109751</td>\n",
              "      <td>236.552836</td>\n",
              "      <td>22.645538</td>\n",
              "      <td>49.851543</td>\n",
              "      <td>231.108331</td>\n",
              "      <td>Set3</td>\n",
              "      <td>B4</td>\n",
              "      <td>A1</td>\n",
              "      <td>CD93A518-E887-42EC-8254-4B50FE6F9E71.png</td>\n",
              "    </tr>\n",
              "  </tbody>\n",
              "</table>\n",
              "</div>\n",
              "      <button class=\"colab-df-convert\" onclick=\"convertToInteractive('df-3e3704d3-a6f8-4a1e-9cc9-f18a2088ce5d')\"\n",
              "              title=\"Convert this dataframe to an interactive table.\"\n",
              "              style=\"display:none;\">\n",
              "        \n",
              "  <svg xmlns=\"http://www.w3.org/2000/svg\" height=\"24px\"viewBox=\"0 0 24 24\"\n",
              "       width=\"24px\">\n",
              "    <path d=\"M0 0h24v24H0V0z\" fill=\"none\"/>\n",
              "    <path d=\"M18.56 5.44l.94 2.06.94-2.06 2.06-.94-2.06-.94-.94-2.06-.94 2.06-2.06.94zm-11 1L8.5 8.5l.94-2.06 2.06-.94-2.06-.94L8.5 2.5l-.94 2.06-2.06.94zm10 10l.94 2.06.94-2.06 2.06-.94-2.06-.94-.94-2.06-.94 2.06-2.06.94z\"/><path d=\"M17.41 7.96l-1.37-1.37c-.4-.4-.92-.59-1.43-.59-.52 0-1.04.2-1.43.59L10.3 9.45l-7.72 7.72c-.78.78-.78 2.05 0 2.83L4 21.41c.39.39.9.59 1.41.59.51 0 1.02-.2 1.41-.59l7.78-7.78 2.81-2.81c.8-.78.8-2.07 0-2.86zM5.41 20L4 18.59l7.72-7.72 1.47 1.35L5.41 20z\"/>\n",
              "  </svg>\n",
              "      </button>\n",
              "      \n",
              "  <style>\n",
              "    .colab-df-container {\n",
              "      display:flex;\n",
              "      flex-wrap:wrap;\n",
              "      gap: 12px;\n",
              "    }\n",
              "\n",
              "    .colab-df-convert {\n",
              "      background-color: #E8F0FE;\n",
              "      border: none;\n",
              "      border-radius: 50%;\n",
              "      cursor: pointer;\n",
              "      display: none;\n",
              "      fill: #1967D2;\n",
              "      height: 32px;\n",
              "      padding: 0 0 0 0;\n",
              "      width: 32px;\n",
              "    }\n",
              "\n",
              "    .colab-df-convert:hover {\n",
              "      background-color: #E2EBFA;\n",
              "      box-shadow: 0px 1px 2px rgba(60, 64, 67, 0.3), 0px 1px 3px 1px rgba(60, 64, 67, 0.15);\n",
              "      fill: #174EA6;\n",
              "    }\n",
              "\n",
              "    [theme=dark] .colab-df-convert {\n",
              "      background-color: #3B4455;\n",
              "      fill: #D2E3FC;\n",
              "    }\n",
              "\n",
              "    [theme=dark] .colab-df-convert:hover {\n",
              "      background-color: #434B5C;\n",
              "      box-shadow: 0px 1px 3px 1px rgba(0, 0, 0, 0.15);\n",
              "      filter: drop-shadow(0px 1px 2px rgba(0, 0, 0, 0.3));\n",
              "      fill: #FFFFFF;\n",
              "    }\n",
              "  </style>\n",
              "\n",
              "      <script>\n",
              "        const buttonEl =\n",
              "          document.querySelector('#df-3e3704d3-a6f8-4a1e-9cc9-f18a2088ce5d button.colab-df-convert');\n",
              "        buttonEl.style.display =\n",
              "          google.colab.kernel.accessAllowed ? 'block' : 'none';\n",
              "\n",
              "        async function convertToInteractive(key) {\n",
              "          const element = document.querySelector('#df-3e3704d3-a6f8-4a1e-9cc9-f18a2088ce5d');\n",
              "          const dataTable =\n",
              "            await google.colab.kernel.invokeFunction('convertToInteractive',\n",
              "                                                     [key], {});\n",
              "          if (!dataTable) return;\n",
              "\n",
              "          const docLinkHtml = 'Like what you see? Visit the ' +\n",
              "            '<a target=\"_blank\" href=https://colab.research.google.com/notebooks/data_table.ipynb>data table notebook</a>'\n",
              "            + ' to learn more about interactive tables.';\n",
              "          element.innerHTML = '';\n",
              "          dataTable['output_type'] = 'display_data';\n",
              "          await google.colab.output.renderOutput(dataTable, element);\n",
              "          const docLink = document.createElement('div');\n",
              "          docLink.innerHTML = docLinkHtml;\n",
              "          element.appendChild(docLink);\n",
              "        }\n",
              "      </script>\n",
              "    </div>\n",
              "  </div>\n",
              "  "
            ],
            "text/plain": [
              "        R-ref       G-ref  ...  Shad                                       Img\n",
              "0  239.313326  216.689200  ...    A1  15CF7C81-C401-4F9B-A9D6-BFF17DD5A41E.png\n",
              "1  236.874709  224.246018  ...    A1  BB30E369-CADD-4E81-BE42-6B37C089DFDF.png\n",
              "2  233.620047  221.292735  ...    A1  41EAF1E9-C9E9-4D7E-968E-75700ECAA674.png\n",
              "3  237.811480  225.270882  ...    A1  C637E1DF-0ECB-4622-A3DD-67CDD073DACD.png\n",
              "4  236.552836  224.011752  ...    A1  CD93A518-E887-42EC-8254-4B50FE6F9E71.png\n",
              "\n",
              "[5 rows x 16 columns]"
            ]
          },
          "metadata": {},
          "execution_count": 272
        }
      ]
    },
    {
      "cell_type": "code",
      "source": [
        "table_B4Set4 = pd.read_excel(Set4, sheet_name='B4Set4')\n",
        "table_B4Set4.head()"
      ],
      "metadata": {
        "id": "YqNbQ4zntDK0",
        "outputId": "8648b244-d2d4-40f9-9175-6fba0d47ac6b",
        "colab": {
          "base_uri": "https://localhost:8080/",
          "height": 0
        }
      },
      "execution_count": 273,
      "outputs": [
        {
          "output_type": "execute_result",
          "data": {
            "text/html": [
              "\n",
              "  <div id=\"df-9357e08e-9c6e-43f1-a6b2-e8ce87d055c7\">\n",
              "    <div class=\"colab-df-container\">\n",
              "      <div>\n",
              "<style scoped>\n",
              "    .dataframe tbody tr th:only-of-type {\n",
              "        vertical-align: middle;\n",
              "    }\n",
              "\n",
              "    .dataframe tbody tr th {\n",
              "        vertical-align: top;\n",
              "    }\n",
              "\n",
              "    .dataframe thead th {\n",
              "        text-align: right;\n",
              "    }\n",
              "</style>\n",
              "<table border=\"1\" class=\"dataframe\">\n",
              "  <thead>\n",
              "    <tr style=\"text-align: right;\">\n",
              "      <th></th>\n",
              "      <th>R-ref</th>\n",
              "      <th>G-ref</th>\n",
              "      <th>B-ref</th>\n",
              "      <th>R-Shad</th>\n",
              "      <th>G-Shad</th>\n",
              "      <th>B-Shad</th>\n",
              "      <th>H-ref</th>\n",
              "      <th>S-ref</th>\n",
              "      <th>V-ref</th>\n",
              "      <th>H-Shad</th>\n",
              "      <th>S-Shad</th>\n",
              "      <th>V-Shad</th>\n",
              "      <th>Setting</th>\n",
              "      <th>Ref</th>\n",
              "      <th>Shad</th>\n",
              "      <th>Img</th>\n",
              "    </tr>\n",
              "  </thead>\n",
              "  <tbody>\n",
              "    <tr>\n",
              "      <th>0</th>\n",
              "      <td>236.372863</td>\n",
              "      <td>219.322844</td>\n",
              "      <td>177.911131</td>\n",
              "      <td>234.147067</td>\n",
              "      <td>220.985729</td>\n",
              "      <td>185.437680</td>\n",
              "      <td>21.590618</td>\n",
              "      <td>63.091783</td>\n",
              "      <td>236.372863</td>\n",
              "      <td>21.989992</td>\n",
              "      <td>53.083032</td>\n",
              "      <td>234.147067</td>\n",
              "      <td>Set4</td>\n",
              "      <td>B4</td>\n",
              "      <td>A1</td>\n",
              "      <td>E6FD1E47-41F1-4FC7-8EDA-377E52421795.png</td>\n",
              "    </tr>\n",
              "    <tr>\n",
              "      <th>1</th>\n",
              "      <td>233.941239</td>\n",
              "      <td>217.435800</td>\n",
              "      <td>176.092754</td>\n",
              "      <td>232.728292</td>\n",
              "      <td>219.556019</td>\n",
              "      <td>184.555278</td>\n",
              "      <td>21.679099</td>\n",
              "      <td>63.068182</td>\n",
              "      <td>233.941239</td>\n",
              "      <td>21.852099</td>\n",
              "      <td>52.817996</td>\n",
              "      <td>232.728292</td>\n",
              "      <td>Set4</td>\n",
              "      <td>B4</td>\n",
              "      <td>A1</td>\n",
              "      <td>51A8D5DF-0265-4137-A97C-204933D83A2B.png</td>\n",
              "    </tr>\n",
              "    <tr>\n",
              "      <th>2</th>\n",
              "      <td>229.438908</td>\n",
              "      <td>212.935606</td>\n",
              "      <td>172.304681</td>\n",
              "      <td>228.053470</td>\n",
              "      <td>214.411732</td>\n",
              "      <td>178.521731</td>\n",
              "      <td>21.622766</td>\n",
              "      <td>63.472416</td>\n",
              "      <td>229.438908</td>\n",
              "      <td>21.778241</td>\n",
              "      <td>55.435363</td>\n",
              "      <td>228.053470</td>\n",
              "      <td>Set4</td>\n",
              "      <td>B4</td>\n",
              "      <td>A1</td>\n",
              "      <td>4EEEE682-6A3A-4EA2-B0E8-F661EFF8F851.png</td>\n",
              "    </tr>\n",
              "    <tr>\n",
              "      <th>3</th>\n",
              "      <td>227.790890</td>\n",
              "      <td>207.271659</td>\n",
              "      <td>163.585179</td>\n",
              "      <td>225.770642</td>\n",
              "      <td>208.319526</td>\n",
              "      <td>166.695672</td>\n",
              "      <td>20.269231</td>\n",
              "      <td>71.893162</td>\n",
              "      <td>227.790890</td>\n",
              "      <td>21.529237</td>\n",
              "      <td>66.783060</td>\n",
              "      <td>225.770642</td>\n",
              "      <td>Set4</td>\n",
              "      <td>B4</td>\n",
              "      <td>A1</td>\n",
              "      <td>98C975EE-4F1C-4322-BE68-D0362677051C.png</td>\n",
              "    </tr>\n",
              "    <tr>\n",
              "      <th>4</th>\n",
              "      <td>226.350816</td>\n",
              "      <td>205.394134</td>\n",
              "      <td>161.782051</td>\n",
              "      <td>224.728477</td>\n",
              "      <td>206.874896</td>\n",
              "      <td>166.727365</td>\n",
              "      <td>20.044872</td>\n",
              "      <td>72.792735</td>\n",
              "      <td>226.350816</td>\n",
              "      <td>21.021685</td>\n",
              "      <td>65.858771</td>\n",
              "      <td>224.728477</td>\n",
              "      <td>Set4</td>\n",
              "      <td>B4</td>\n",
              "      <td>A1</td>\n",
              "      <td>154F666F-3A72-4532-BC86-922DEC7A5986.png</td>\n",
              "    </tr>\n",
              "  </tbody>\n",
              "</table>\n",
              "</div>\n",
              "      <button class=\"colab-df-convert\" onclick=\"convertToInteractive('df-9357e08e-9c6e-43f1-a6b2-e8ce87d055c7')\"\n",
              "              title=\"Convert this dataframe to an interactive table.\"\n",
              "              style=\"display:none;\">\n",
              "        \n",
              "  <svg xmlns=\"http://www.w3.org/2000/svg\" height=\"24px\"viewBox=\"0 0 24 24\"\n",
              "       width=\"24px\">\n",
              "    <path d=\"M0 0h24v24H0V0z\" fill=\"none\"/>\n",
              "    <path d=\"M18.56 5.44l.94 2.06.94-2.06 2.06-.94-2.06-.94-.94-2.06-.94 2.06-2.06.94zm-11 1L8.5 8.5l.94-2.06 2.06-.94-2.06-.94L8.5 2.5l-.94 2.06-2.06.94zm10 10l.94 2.06.94-2.06 2.06-.94-2.06-.94-.94-2.06-.94 2.06-2.06.94z\"/><path d=\"M17.41 7.96l-1.37-1.37c-.4-.4-.92-.59-1.43-.59-.52 0-1.04.2-1.43.59L10.3 9.45l-7.72 7.72c-.78.78-.78 2.05 0 2.83L4 21.41c.39.39.9.59 1.41.59.51 0 1.02-.2 1.41-.59l7.78-7.78 2.81-2.81c.8-.78.8-2.07 0-2.86zM5.41 20L4 18.59l7.72-7.72 1.47 1.35L5.41 20z\"/>\n",
              "  </svg>\n",
              "      </button>\n",
              "      \n",
              "  <style>\n",
              "    .colab-df-container {\n",
              "      display:flex;\n",
              "      flex-wrap:wrap;\n",
              "      gap: 12px;\n",
              "    }\n",
              "\n",
              "    .colab-df-convert {\n",
              "      background-color: #E8F0FE;\n",
              "      border: none;\n",
              "      border-radius: 50%;\n",
              "      cursor: pointer;\n",
              "      display: none;\n",
              "      fill: #1967D2;\n",
              "      height: 32px;\n",
              "      padding: 0 0 0 0;\n",
              "      width: 32px;\n",
              "    }\n",
              "\n",
              "    .colab-df-convert:hover {\n",
              "      background-color: #E2EBFA;\n",
              "      box-shadow: 0px 1px 2px rgba(60, 64, 67, 0.3), 0px 1px 3px 1px rgba(60, 64, 67, 0.15);\n",
              "      fill: #174EA6;\n",
              "    }\n",
              "\n",
              "    [theme=dark] .colab-df-convert {\n",
              "      background-color: #3B4455;\n",
              "      fill: #D2E3FC;\n",
              "    }\n",
              "\n",
              "    [theme=dark] .colab-df-convert:hover {\n",
              "      background-color: #434B5C;\n",
              "      box-shadow: 0px 1px 3px 1px rgba(0, 0, 0, 0.15);\n",
              "      filter: drop-shadow(0px 1px 2px rgba(0, 0, 0, 0.3));\n",
              "      fill: #FFFFFF;\n",
              "    }\n",
              "  </style>\n",
              "\n",
              "      <script>\n",
              "        const buttonEl =\n",
              "          document.querySelector('#df-9357e08e-9c6e-43f1-a6b2-e8ce87d055c7 button.colab-df-convert');\n",
              "        buttonEl.style.display =\n",
              "          google.colab.kernel.accessAllowed ? 'block' : 'none';\n",
              "\n",
              "        async function convertToInteractive(key) {\n",
              "          const element = document.querySelector('#df-9357e08e-9c6e-43f1-a6b2-e8ce87d055c7');\n",
              "          const dataTable =\n",
              "            await google.colab.kernel.invokeFunction('convertToInteractive',\n",
              "                                                     [key], {});\n",
              "          if (!dataTable) return;\n",
              "\n",
              "          const docLinkHtml = 'Like what you see? Visit the ' +\n",
              "            '<a target=\"_blank\" href=https://colab.research.google.com/notebooks/data_table.ipynb>data table notebook</a>'\n",
              "            + ' to learn more about interactive tables.';\n",
              "          element.innerHTML = '';\n",
              "          dataTable['output_type'] = 'display_data';\n",
              "          await google.colab.output.renderOutput(dataTable, element);\n",
              "          const docLink = document.createElement('div');\n",
              "          docLink.innerHTML = docLinkHtml;\n",
              "          element.appendChild(docLink);\n",
              "        }\n",
              "      </script>\n",
              "    </div>\n",
              "  </div>\n",
              "  "
            ],
            "text/plain": [
              "        R-ref       G-ref  ...  Shad                                       Img\n",
              "0  236.372863  219.322844  ...    A1  E6FD1E47-41F1-4FC7-8EDA-377E52421795.png\n",
              "1  233.941239  217.435800  ...    A1  51A8D5DF-0265-4137-A97C-204933D83A2B.png\n",
              "2  229.438908  212.935606  ...    A1  4EEEE682-6A3A-4EA2-B0E8-F661EFF8F851.png\n",
              "3  227.790890  207.271659  ...    A1  98C975EE-4F1C-4322-BE68-D0362677051C.png\n",
              "4  226.350816  205.394134  ...    A1  154F666F-3A72-4532-BC86-922DEC7A5986.png\n",
              "\n",
              "[5 rows x 16 columns]"
            ]
          },
          "metadata": {},
          "execution_count": 273
        }
      ]
    },
    {
      "cell_type": "markdown",
      "source": [
        "###RGB"
      ],
      "metadata": {
        "id": "yhLLze51tDK0"
      }
    },
    {
      "cell_type": "code",
      "source": [
        "RGB_B4_Set4 = table_B4Set4"
      ],
      "metadata": {
        "id": "vRObWfxTtDK0"
      },
      "execution_count": 274,
      "outputs": []
    },
    {
      "cell_type": "code",
      "source": [
        "RGB_B4_Set1 = table_B4Set1"
      ],
      "metadata": {
        "id": "qa5YSX8WtDK1"
      },
      "execution_count": 275,
      "outputs": []
    },
    {
      "cell_type": "code",
      "source": [
        "RGB_B4_Set2 = table_B4Set2"
      ],
      "metadata": {
        "id": "Vz1GzOGctDK1"
      },
      "execution_count": 276,
      "outputs": []
    },
    {
      "cell_type": "code",
      "source": [
        "RGB_B4_Set3 = table_B4Set3"
      ],
      "metadata": {
        "id": "fQbfCpNhtDK1"
      },
      "execution_count": 277,
      "outputs": []
    },
    {
      "cell_type": "code",
      "source": [
        "RGB_B4_concat = pd.concat([RGB_B4_Set1,RGB_B4_Set2])"
      ],
      "metadata": {
        "id": "820tYKYHq04a"
      },
      "execution_count": 278,
      "outputs": []
    },
    {
      "cell_type": "code",
      "source": [
        "RGB_B4_concat0 = pd.concat([RGB_B4_concat,RGB_B4_Set4])"
      ],
      "metadata": {
        "id": "SfY27ryCtDK1"
      },
      "execution_count": 279,
      "outputs": []
    },
    {
      "cell_type": "code",
      "source": [
        "RGB_B4_concat1 = pd.concat([RGB_B4_concat0,RGB_B4_Set3])"
      ],
      "metadata": {
        "id": "qZIK7VPWtDK1"
      },
      "execution_count": 280,
      "outputs": []
    },
    {
      "cell_type": "code",
      "source": [
        "RGB_B4_concat2 = RGB_B4_concat1.drop(['H-ref','S-ref','V-ref','H-Shad','S-Shad','V-Shad','Setting','Ref','Shad','Img'], axis=1)"
      ],
      "metadata": {
        "id": "jxqKeWgKtDK1"
      },
      "execution_count": 281,
      "outputs": []
    },
    {
      "cell_type": "code",
      "source": [
        "X_test_B4_RGB = np.array(RGB_D3_CC1)"
      ],
      "metadata": {
        "id": "580vZZA_tDK2"
      },
      "execution_count": 282,
      "outputs": []
    },
    {
      "cell_type": "code",
      "source": [
        "y_B4_RGB =  table_D3CC1.iloc[:,14:15]"
      ],
      "metadata": {
        "id": "_Hdc8Yi_tDK2"
      },
      "execution_count": 283,
      "outputs": []
    },
    {
      "cell_type": "code",
      "source": [
        "y_test_B4_RGB = np.array(y_B4_RGB)"
      ],
      "metadata": {
        "id": "wD0UYgdPtDK2"
      },
      "execution_count": 284,
      "outputs": []
    },
    {
      "cell_type": "code",
      "source": [
        "X_train_B4_RGB = np.array(RGB_B4_concat2)"
      ],
      "metadata": {
        "id": "ozTac6WstDK2"
      },
      "execution_count": 285,
      "outputs": []
    },
    {
      "cell_type": "code",
      "source": [
        "y_train_B4RGB = RGB_B4_concat1.iloc[:,14:15]"
      ],
      "metadata": {
        "id": "HobHEx5ctDK2"
      },
      "execution_count": 286,
      "outputs": []
    },
    {
      "cell_type": "code",
      "source": [
        "y_train_B4_RGB = np.array(y_train_B4RGB)"
      ],
      "metadata": {
        "id": "XZ0quwGvtDK2"
      },
      "execution_count": 287,
      "outputs": []
    },
    {
      "cell_type": "code",
      "source": [
        "clf.fit(X_train_B4_RGB, y_train_B4_RGB)"
      ],
      "metadata": {
        "id": "T_x28SvCtDK2",
        "outputId": "8859e056-78f8-4d82-8a1e-62a6e5af5a3f",
        "colab": {
          "base_uri": "https://localhost:8080/"
        }
      },
      "execution_count": 288,
      "outputs": [
        {
          "output_type": "stream",
          "name": "stderr",
          "text": [
            "/usr/local/lib/python3.7/dist-packages/ipykernel_launcher.py:1: DataConversionWarning: A column-vector y was passed when a 1d array was expected. Please change the shape of y to (n_samples,), for example using ravel().\n",
            "  \"\"\"Entry point for launching an IPython kernel.\n"
          ]
        },
        {
          "output_type": "execute_result",
          "data": {
            "text/plain": [
              "RandomForestClassifier()"
            ]
          },
          "metadata": {},
          "execution_count": 288
        }
      ]
    },
    {
      "cell_type": "code",
      "source": [
        "y_pred_B4_RGB = clf.predict(X_test_B4_RGB)"
      ],
      "metadata": {
        "id": "hzIH7DSLtDK2"
      },
      "execution_count": 289,
      "outputs": []
    },
    {
      "cell_type": "code",
      "source": [
        "print(\"Accuracy:\", metrics.accuracy_score(y_test_B4_RGB, y_pred_B4_RGB))"
      ],
      "metadata": {
        "id": "GEEbdpHWtDK2",
        "outputId": "abb6119e-245f-497c-ba90-2f9e615c1f1c",
        "colab": {
          "base_uri": "https://localhost:8080/"
        }
      },
      "execution_count": 290,
      "outputs": [
        {
          "output_type": "stream",
          "name": "stdout",
          "text": [
            "Accuracy: 0.07125\n"
          ]
        }
      ]
    },
    {
      "cell_type": "markdown",
      "source": [
        "###HSV"
      ],
      "metadata": {
        "id": "0uU72QTItDK3"
      }
    },
    {
      "cell_type": "code",
      "source": [
        "HSV_B4_concat2 = RGB_B4_concat1.drop(['R-ref','G-ref','B-ref','R-Shad','G-Shad','B-Shad','Setting','Ref','Shad','Img'], axis=1)"
      ],
      "metadata": {
        "id": "ZxnIQOSvtDK3"
      },
      "execution_count": 291,
      "outputs": []
    },
    {
      "cell_type": "code",
      "source": [
        "X_test_B4_HSV = np.array(HSV_D3_CC1)"
      ],
      "metadata": {
        "id": "aSLDyIKBtDK3"
      },
      "execution_count": 292,
      "outputs": []
    },
    {
      "cell_type": "code",
      "source": [
        "y_B4_HSV =  table_D3CC1.iloc[:,14:15]"
      ],
      "metadata": {
        "id": "FTlJFVSLtDK3"
      },
      "execution_count": 293,
      "outputs": []
    },
    {
      "cell_type": "code",
      "source": [
        "y_test_B4_HSV = np.array(y_B4_RGB)"
      ],
      "metadata": {
        "id": "ZEV2tUCttDK3"
      },
      "execution_count": 294,
      "outputs": []
    },
    {
      "cell_type": "code",
      "source": [
        "X_train_B4_HSV = np.array(HSV_B4_concat2)"
      ],
      "metadata": {
        "id": "9JqQWNVCtDK3"
      },
      "execution_count": 295,
      "outputs": []
    },
    {
      "cell_type": "code",
      "source": [
        "y_train_B4HSV = RGB_B4_concat1.iloc[:,14:15]"
      ],
      "metadata": {
        "id": "bpU-fvwMtDK3"
      },
      "execution_count": 296,
      "outputs": []
    },
    {
      "cell_type": "code",
      "source": [
        "y_train_B4_HSV = np.array(y_train_B4HSV)"
      ],
      "metadata": {
        "id": "F_wqNTDBtDK4"
      },
      "execution_count": 297,
      "outputs": []
    },
    {
      "cell_type": "code",
      "source": [
        "clf.fit(X_train_B4_HSV, y_train_B4_HSV)"
      ],
      "metadata": {
        "id": "T6Pk-fwVtDK4",
        "outputId": "b3dded92-0b54-42d8-994d-b4d9a22013da",
        "colab": {
          "base_uri": "https://localhost:8080/"
        }
      },
      "execution_count": 298,
      "outputs": [
        {
          "output_type": "stream",
          "name": "stderr",
          "text": [
            "/usr/local/lib/python3.7/dist-packages/ipykernel_launcher.py:1: DataConversionWarning: A column-vector y was passed when a 1d array was expected. Please change the shape of y to (n_samples,), for example using ravel().\n",
            "  \"\"\"Entry point for launching an IPython kernel.\n"
          ]
        },
        {
          "output_type": "execute_result",
          "data": {
            "text/plain": [
              "RandomForestClassifier()"
            ]
          },
          "metadata": {},
          "execution_count": 298
        }
      ]
    },
    {
      "cell_type": "code",
      "source": [
        "y_pred_B4_HSV = clf.predict(X_test_B4_HSV)"
      ],
      "metadata": {
        "id": "J1JaTO8ztDK4"
      },
      "execution_count": 299,
      "outputs": []
    },
    {
      "cell_type": "code",
      "source": [
        "print(\"Accuracy:\", metrics.accuracy_score(y_test_B4_HSV, y_pred_B4_HSV))"
      ],
      "metadata": {
        "id": "ciaeVTHrtDK4",
        "outputId": "1c1295a1-5b20-40da-b1ab-d5dae0da97db",
        "colab": {
          "base_uri": "https://localhost:8080/"
        }
      },
      "execution_count": 300,
      "outputs": [
        {
          "output_type": "stream",
          "name": "stdout",
          "text": [
            "Accuracy: 0.0625\n"
          ]
        }
      ]
    },
    {
      "cell_type": "markdown",
      "source": [
        "#CC"
      ],
      "metadata": {
        "id": "YmEFu_3tt92a"
      }
    },
    {
      "cell_type": "markdown",
      "source": [
        "##C1"
      ],
      "metadata": {
        "id": "VmnxrOB3uK8S"
      }
    },
    {
      "cell_type": "code",
      "source": [
        "table_C1Set1 = pd.read_excel(Set1 , sheet_name='C1Set1 ')\n",
        "table_C1Set1.head()"
      ],
      "metadata": {
        "id": "DwwAi7JBuK8T",
        "outputId": "c71c21e1-e76e-4568-c996-be79694a2e9d",
        "colab": {
          "base_uri": "https://localhost:8080/",
          "height": 0
        }
      },
      "execution_count": 301,
      "outputs": [
        {
          "output_type": "execute_result",
          "data": {
            "text/html": [
              "\n",
              "  <div id=\"df-729228ed-1c1e-4871-9c30-53b80d58ba83\">\n",
              "    <div class=\"colab-df-container\">\n",
              "      <div>\n",
              "<style scoped>\n",
              "    .dataframe tbody tr th:only-of-type {\n",
              "        vertical-align: middle;\n",
              "    }\n",
              "\n",
              "    .dataframe tbody tr th {\n",
              "        vertical-align: top;\n",
              "    }\n",
              "\n",
              "    .dataframe thead th {\n",
              "        text-align: right;\n",
              "    }\n",
              "</style>\n",
              "<table border=\"1\" class=\"dataframe\">\n",
              "  <thead>\n",
              "    <tr style=\"text-align: right;\">\n",
              "      <th></th>\n",
              "      <th>R-ref</th>\n",
              "      <th>G-ref</th>\n",
              "      <th>B-ref</th>\n",
              "      <th>R-Shad</th>\n",
              "      <th>G-Shad</th>\n",
              "      <th>B-Shad</th>\n",
              "      <th>H-ref</th>\n",
              "      <th>S-ref</th>\n",
              "      <th>V-ref</th>\n",
              "      <th>H-Shad</th>\n",
              "      <th>S-Shad</th>\n",
              "      <th>V-Shad</th>\n",
              "      <th>Setting</th>\n",
              "      <th>Ref</th>\n",
              "      <th>Shad</th>\n",
              "      <th>Img</th>\n",
              "    </tr>\n",
              "  </thead>\n",
              "  <tbody>\n",
              "    <tr>\n",
              "      <th>0</th>\n",
              "      <td>238.821037</td>\n",
              "      <td>225.705543</td>\n",
              "      <td>190.281389</td>\n",
              "      <td>239.471161</td>\n",
              "      <td>226.830738</td>\n",
              "      <td>192.584525</td>\n",
              "      <td>22.002110</td>\n",
              "      <td>51.950004</td>\n",
              "      <td>238.821037</td>\n",
              "      <td>22.136619</td>\n",
              "      <td>50.134841</td>\n",
              "      <td>239.480976</td>\n",
              "      <td>Set1</td>\n",
              "      <td>C1</td>\n",
              "      <td>A1</td>\n",
              "      <td>998EA81C-77D0-4357-9197-D7AEAAAE4F91.png</td>\n",
              "    </tr>\n",
              "    <tr>\n",
              "      <th>1</th>\n",
              "      <td>239.015096</td>\n",
              "      <td>225.933366</td>\n",
              "      <td>189.813814</td>\n",
              "      <td>239.661831</td>\n",
              "      <td>227.036128</td>\n",
              "      <td>192.028376</td>\n",
              "      <td>22.160701</td>\n",
              "      <td>52.631442</td>\n",
              "      <td>239.015096</td>\n",
              "      <td>22.305099</td>\n",
              "      <td>50.899580</td>\n",
              "      <td>239.668587</td>\n",
              "      <td>Set1</td>\n",
              "      <td>C1</td>\n",
              "      <td>A1</td>\n",
              "      <td>C69EF426-D68B-4503-AFC0-A62E37CCB172.png</td>\n",
              "    </tr>\n",
              "    <tr>\n",
              "      <th>2</th>\n",
              "      <td>239.849931</td>\n",
              "      <td>227.537051</td>\n",
              "      <td>193.802045</td>\n",
              "      <td>240.594268</td>\n",
              "      <td>228.924187</td>\n",
              "      <td>196.427779</td>\n",
              "      <td>22.082299</td>\n",
              "      <td>49.090252</td>\n",
              "      <td>239.850986</td>\n",
              "      <td>22.455160</td>\n",
              "      <td>47.039400</td>\n",
              "      <td>240.609558</td>\n",
              "      <td>Set1</td>\n",
              "      <td>C1</td>\n",
              "      <td>A1</td>\n",
              "      <td>95C4078C-AD0D-4394-BCF6-9C2E1E7C2219.png</td>\n",
              "    </tr>\n",
              "    <tr>\n",
              "      <th>3</th>\n",
              "      <td>239.325785</td>\n",
              "      <td>226.816573</td>\n",
              "      <td>192.238942</td>\n",
              "      <td>239.886139</td>\n",
              "      <td>227.853140</td>\n",
              "      <td>194.250551</td>\n",
              "      <td>22.134648</td>\n",
              "      <td>50.271894</td>\n",
              "      <td>239.325785</td>\n",
              "      <td>22.290520</td>\n",
              "      <td>48.668445</td>\n",
              "      <td>239.892326</td>\n",
              "      <td>Set1</td>\n",
              "      <td>C1</td>\n",
              "      <td>A1</td>\n",
              "      <td>770F3E42-0415-48C8-AE28-664827DCDAAE.png</td>\n",
              "    </tr>\n",
              "    <tr>\n",
              "      <th>4</th>\n",
              "      <td>236.398182</td>\n",
              "      <td>225.056083</td>\n",
              "      <td>193.174742</td>\n",
              "      <td>237.114572</td>\n",
              "      <td>226.267051</td>\n",
              "      <td>195.376574</td>\n",
              "      <td>22.216297</td>\n",
              "      <td>46.713984</td>\n",
              "      <td>236.398182</td>\n",
              "      <td>22.447692</td>\n",
              "      <td>45.052699</td>\n",
              "      <td>237.122395</td>\n",
              "      <td>Set1</td>\n",
              "      <td>C1</td>\n",
              "      <td>A1</td>\n",
              "      <td>AFD98982-91EB-4E2A-BEA8-8FDCCC8F33E1.png</td>\n",
              "    </tr>\n",
              "  </tbody>\n",
              "</table>\n",
              "</div>\n",
              "      <button class=\"colab-df-convert\" onclick=\"convertToInteractive('df-729228ed-1c1e-4871-9c30-53b80d58ba83')\"\n",
              "              title=\"Convert this dataframe to an interactive table.\"\n",
              "              style=\"display:none;\">\n",
              "        \n",
              "  <svg xmlns=\"http://www.w3.org/2000/svg\" height=\"24px\"viewBox=\"0 0 24 24\"\n",
              "       width=\"24px\">\n",
              "    <path d=\"M0 0h24v24H0V0z\" fill=\"none\"/>\n",
              "    <path d=\"M18.56 5.44l.94 2.06.94-2.06 2.06-.94-2.06-.94-.94-2.06-.94 2.06-2.06.94zm-11 1L8.5 8.5l.94-2.06 2.06-.94-2.06-.94L8.5 2.5l-.94 2.06-2.06.94zm10 10l.94 2.06.94-2.06 2.06-.94-2.06-.94-.94-2.06-.94 2.06-2.06.94z\"/><path d=\"M17.41 7.96l-1.37-1.37c-.4-.4-.92-.59-1.43-.59-.52 0-1.04.2-1.43.59L10.3 9.45l-7.72 7.72c-.78.78-.78 2.05 0 2.83L4 21.41c.39.39.9.59 1.41.59.51 0 1.02-.2 1.41-.59l7.78-7.78 2.81-2.81c.8-.78.8-2.07 0-2.86zM5.41 20L4 18.59l7.72-7.72 1.47 1.35L5.41 20z\"/>\n",
              "  </svg>\n",
              "      </button>\n",
              "      \n",
              "  <style>\n",
              "    .colab-df-container {\n",
              "      display:flex;\n",
              "      flex-wrap:wrap;\n",
              "      gap: 12px;\n",
              "    }\n",
              "\n",
              "    .colab-df-convert {\n",
              "      background-color: #E8F0FE;\n",
              "      border: none;\n",
              "      border-radius: 50%;\n",
              "      cursor: pointer;\n",
              "      display: none;\n",
              "      fill: #1967D2;\n",
              "      height: 32px;\n",
              "      padding: 0 0 0 0;\n",
              "      width: 32px;\n",
              "    }\n",
              "\n",
              "    .colab-df-convert:hover {\n",
              "      background-color: #E2EBFA;\n",
              "      box-shadow: 0px 1px 2px rgba(60, 64, 67, 0.3), 0px 1px 3px 1px rgba(60, 64, 67, 0.15);\n",
              "      fill: #174EA6;\n",
              "    }\n",
              "\n",
              "    [theme=dark] .colab-df-convert {\n",
              "      background-color: #3B4455;\n",
              "      fill: #D2E3FC;\n",
              "    }\n",
              "\n",
              "    [theme=dark] .colab-df-convert:hover {\n",
              "      background-color: #434B5C;\n",
              "      box-shadow: 0px 1px 3px 1px rgba(0, 0, 0, 0.15);\n",
              "      filter: drop-shadow(0px 1px 2px rgba(0, 0, 0, 0.3));\n",
              "      fill: #FFFFFF;\n",
              "    }\n",
              "  </style>\n",
              "\n",
              "      <script>\n",
              "        const buttonEl =\n",
              "          document.querySelector('#df-729228ed-1c1e-4871-9c30-53b80d58ba83 button.colab-df-convert');\n",
              "        buttonEl.style.display =\n",
              "          google.colab.kernel.accessAllowed ? 'block' : 'none';\n",
              "\n",
              "        async function convertToInteractive(key) {\n",
              "          const element = document.querySelector('#df-729228ed-1c1e-4871-9c30-53b80d58ba83');\n",
              "          const dataTable =\n",
              "            await google.colab.kernel.invokeFunction('convertToInteractive',\n",
              "                                                     [key], {});\n",
              "          if (!dataTable) return;\n",
              "\n",
              "          const docLinkHtml = 'Like what you see? Visit the ' +\n",
              "            '<a target=\"_blank\" href=https://colab.research.google.com/notebooks/data_table.ipynb>data table notebook</a>'\n",
              "            + ' to learn more about interactive tables.';\n",
              "          element.innerHTML = '';\n",
              "          dataTable['output_type'] = 'display_data';\n",
              "          await google.colab.output.renderOutput(dataTable, element);\n",
              "          const docLink = document.createElement('div');\n",
              "          docLink.innerHTML = docLinkHtml;\n",
              "          element.appendChild(docLink);\n",
              "        }\n",
              "      </script>\n",
              "    </div>\n",
              "  </div>\n",
              "  "
            ],
            "text/plain": [
              "        R-ref       G-ref  ...  Shad                                       Img\n",
              "0  238.821037  225.705543  ...    A1  998EA81C-77D0-4357-9197-D7AEAAAE4F91.png\n",
              "1  239.015096  225.933366  ...    A1  C69EF426-D68B-4503-AFC0-A62E37CCB172.png\n",
              "2  239.849931  227.537051  ...    A1  95C4078C-AD0D-4394-BCF6-9C2E1E7C2219.png\n",
              "3  239.325785  226.816573  ...    A1  770F3E42-0415-48C8-AE28-664827DCDAAE.png\n",
              "4  236.398182  225.056083  ...    A1  AFD98982-91EB-4E2A-BEA8-8FDCCC8F33E1.png\n",
              "\n",
              "[5 rows x 16 columns]"
            ]
          },
          "metadata": {},
          "execution_count": 301
        }
      ]
    },
    {
      "cell_type": "code",
      "source": [
        "table_C1Set2 = pd.read_excel(Set2, sheet_name='C1Set2')\n",
        "table_C1Set2.head()"
      ],
      "metadata": {
        "id": "9fs_Q3NUuK8T",
        "outputId": "250f940e-636c-49ac-a9bc-9c4681d55446",
        "colab": {
          "base_uri": "https://localhost:8080/",
          "height": 0
        }
      },
      "execution_count": 302,
      "outputs": [
        {
          "output_type": "execute_result",
          "data": {
            "text/html": [
              "\n",
              "  <div id=\"df-73bb2e6d-9dd9-4248-a7a3-6cc18a9e0adc\">\n",
              "    <div class=\"colab-df-container\">\n",
              "      <div>\n",
              "<style scoped>\n",
              "    .dataframe tbody tr th:only-of-type {\n",
              "        vertical-align: middle;\n",
              "    }\n",
              "\n",
              "    .dataframe tbody tr th {\n",
              "        vertical-align: top;\n",
              "    }\n",
              "\n",
              "    .dataframe thead th {\n",
              "        text-align: right;\n",
              "    }\n",
              "</style>\n",
              "<table border=\"1\" class=\"dataframe\">\n",
              "  <thead>\n",
              "    <tr style=\"text-align: right;\">\n",
              "      <th></th>\n",
              "      <th>R-ref</th>\n",
              "      <th>G-ref</th>\n",
              "      <th>B-ref</th>\n",
              "      <th>R-Shad</th>\n",
              "      <th>G-Shad</th>\n",
              "      <th>B-Shad</th>\n",
              "      <th>H-ref</th>\n",
              "      <th>S-ref</th>\n",
              "      <th>V-ref</th>\n",
              "      <th>H-Shad</th>\n",
              "      <th>S-Shad</th>\n",
              "      <th>V-Shad</th>\n",
              "      <th>Setting</th>\n",
              "      <th>Ref</th>\n",
              "      <th>Shad</th>\n",
              "      <th>Img</th>\n",
              "    </tr>\n",
              "  </thead>\n",
              "  <tbody>\n",
              "    <tr>\n",
              "      <th>0</th>\n",
              "      <td>237.518454</td>\n",
              "      <td>218.775253</td>\n",
              "      <td>168.165016</td>\n",
              "      <td>236.046891</td>\n",
              "      <td>220.360671</td>\n",
              "      <td>182.475489</td>\n",
              "      <td>21.988151</td>\n",
              "      <td>74.531371</td>\n",
              "      <td>237.518454</td>\n",
              "      <td>21.336021</td>\n",
              "      <td>57.959040</td>\n",
              "      <td>236.046891</td>\n",
              "      <td>Set2</td>\n",
              "      <td>C1</td>\n",
              "      <td>A1</td>\n",
              "      <td>B89A222A-3234-4967-A308-F5A62CCCD364.png</td>\n",
              "    </tr>\n",
              "    <tr>\n",
              "      <th>1</th>\n",
              "      <td>239.236500</td>\n",
              "      <td>226.574106</td>\n",
              "      <td>192.074883</td>\n",
              "      <td>229.881753</td>\n",
              "      <td>212.417756</td>\n",
              "      <td>171.454267</td>\n",
              "      <td>22.014277</td>\n",
              "      <td>50.377622</td>\n",
              "      <td>239.236500</td>\n",
              "      <td>21.245390</td>\n",
              "      <td>64.893522</td>\n",
              "      <td>229.881753</td>\n",
              "      <td>Set2</td>\n",
              "      <td>C1</td>\n",
              "      <td>A1</td>\n",
              "      <td>41955A6C-4962-4CEC-B8F3-08A956E916B4.png</td>\n",
              "    </tr>\n",
              "    <tr>\n",
              "      <th>2</th>\n",
              "      <td>239.455614</td>\n",
              "      <td>226.906080</td>\n",
              "      <td>191.725427</td>\n",
              "      <td>229.586322</td>\n",
              "      <td>211.631637</td>\n",
              "      <td>169.314151</td>\n",
              "      <td>22.211053</td>\n",
              "      <td>50.957459</td>\n",
              "      <td>239.455614</td>\n",
              "      <td>21.135947</td>\n",
              "      <td>66.991382</td>\n",
              "      <td>229.586322</td>\n",
              "      <td>Set2</td>\n",
              "      <td>C1</td>\n",
              "      <td>A1</td>\n",
              "      <td>F65D6CFE-5C0F-4985-AC65-FF4C1D51EC64.png</td>\n",
              "    </tr>\n",
              "    <tr>\n",
              "      <th>3</th>\n",
              "      <td>240.266900</td>\n",
              "      <td>228.472222</td>\n",
              "      <td>195.808858</td>\n",
              "      <td>231.276063</td>\n",
              "      <td>214.568437</td>\n",
              "      <td>174.635530</td>\n",
              "      <td>22.128788</td>\n",
              "      <td>47.320027</td>\n",
              "      <td>240.269134</td>\n",
              "      <td>21.363451</td>\n",
              "      <td>62.501622</td>\n",
              "      <td>231.276063</td>\n",
              "      <td>Set2</td>\n",
              "      <td>C1</td>\n",
              "      <td>A1</td>\n",
              "      <td>03A1BF92-0BE6-4C5B-8E26-255D6E691A45.png</td>\n",
              "    </tr>\n",
              "    <tr>\n",
              "      <th>4</th>\n",
              "      <td>239.647145</td>\n",
              "      <td>227.612568</td>\n",
              "      <td>193.990579</td>\n",
              "      <td>231.185340</td>\n",
              "      <td>214.659902</td>\n",
              "      <td>174.247521</td>\n",
              "      <td>22.146465</td>\n",
              "      <td>48.670455</td>\n",
              "      <td>239.647145</td>\n",
              "      <td>21.524140</td>\n",
              "      <td>62.850338</td>\n",
              "      <td>231.185340</td>\n",
              "      <td>Set2</td>\n",
              "      <td>C1</td>\n",
              "      <td>A1</td>\n",
              "      <td>9690DDF5-C1FC-48E2-8B04-80FECD22D7AD.png</td>\n",
              "    </tr>\n",
              "  </tbody>\n",
              "</table>\n",
              "</div>\n",
              "      <button class=\"colab-df-convert\" onclick=\"convertToInteractive('df-73bb2e6d-9dd9-4248-a7a3-6cc18a9e0adc')\"\n",
              "              title=\"Convert this dataframe to an interactive table.\"\n",
              "              style=\"display:none;\">\n",
              "        \n",
              "  <svg xmlns=\"http://www.w3.org/2000/svg\" height=\"24px\"viewBox=\"0 0 24 24\"\n",
              "       width=\"24px\">\n",
              "    <path d=\"M0 0h24v24H0V0z\" fill=\"none\"/>\n",
              "    <path d=\"M18.56 5.44l.94 2.06.94-2.06 2.06-.94-2.06-.94-.94-2.06-.94 2.06-2.06.94zm-11 1L8.5 8.5l.94-2.06 2.06-.94-2.06-.94L8.5 2.5l-.94 2.06-2.06.94zm10 10l.94 2.06.94-2.06 2.06-.94-2.06-.94-.94-2.06-.94 2.06-2.06.94z\"/><path d=\"M17.41 7.96l-1.37-1.37c-.4-.4-.92-.59-1.43-.59-.52 0-1.04.2-1.43.59L10.3 9.45l-7.72 7.72c-.78.78-.78 2.05 0 2.83L4 21.41c.39.39.9.59 1.41.59.51 0 1.02-.2 1.41-.59l7.78-7.78 2.81-2.81c.8-.78.8-2.07 0-2.86zM5.41 20L4 18.59l7.72-7.72 1.47 1.35L5.41 20z\"/>\n",
              "  </svg>\n",
              "      </button>\n",
              "      \n",
              "  <style>\n",
              "    .colab-df-container {\n",
              "      display:flex;\n",
              "      flex-wrap:wrap;\n",
              "      gap: 12px;\n",
              "    }\n",
              "\n",
              "    .colab-df-convert {\n",
              "      background-color: #E8F0FE;\n",
              "      border: none;\n",
              "      border-radius: 50%;\n",
              "      cursor: pointer;\n",
              "      display: none;\n",
              "      fill: #1967D2;\n",
              "      height: 32px;\n",
              "      padding: 0 0 0 0;\n",
              "      width: 32px;\n",
              "    }\n",
              "\n",
              "    .colab-df-convert:hover {\n",
              "      background-color: #E2EBFA;\n",
              "      box-shadow: 0px 1px 2px rgba(60, 64, 67, 0.3), 0px 1px 3px 1px rgba(60, 64, 67, 0.15);\n",
              "      fill: #174EA6;\n",
              "    }\n",
              "\n",
              "    [theme=dark] .colab-df-convert {\n",
              "      background-color: #3B4455;\n",
              "      fill: #D2E3FC;\n",
              "    }\n",
              "\n",
              "    [theme=dark] .colab-df-convert:hover {\n",
              "      background-color: #434B5C;\n",
              "      box-shadow: 0px 1px 3px 1px rgba(0, 0, 0, 0.15);\n",
              "      filter: drop-shadow(0px 1px 2px rgba(0, 0, 0, 0.3));\n",
              "      fill: #FFFFFF;\n",
              "    }\n",
              "  </style>\n",
              "\n",
              "      <script>\n",
              "        const buttonEl =\n",
              "          document.querySelector('#df-73bb2e6d-9dd9-4248-a7a3-6cc18a9e0adc button.colab-df-convert');\n",
              "        buttonEl.style.display =\n",
              "          google.colab.kernel.accessAllowed ? 'block' : 'none';\n",
              "\n",
              "        async function convertToInteractive(key) {\n",
              "          const element = document.querySelector('#df-73bb2e6d-9dd9-4248-a7a3-6cc18a9e0adc');\n",
              "          const dataTable =\n",
              "            await google.colab.kernel.invokeFunction('convertToInteractive',\n",
              "                                                     [key], {});\n",
              "          if (!dataTable) return;\n",
              "\n",
              "          const docLinkHtml = 'Like what you see? Visit the ' +\n",
              "            '<a target=\"_blank\" href=https://colab.research.google.com/notebooks/data_table.ipynb>data table notebook</a>'\n",
              "            + ' to learn more about interactive tables.';\n",
              "          element.innerHTML = '';\n",
              "          dataTable['output_type'] = 'display_data';\n",
              "          await google.colab.output.renderOutput(dataTable, element);\n",
              "          const docLink = document.createElement('div');\n",
              "          docLink.innerHTML = docLinkHtml;\n",
              "          element.appendChild(docLink);\n",
              "        }\n",
              "      </script>\n",
              "    </div>\n",
              "  </div>\n",
              "  "
            ],
            "text/plain": [
              "        R-ref       G-ref  ...  Shad                                       Img\n",
              "0  237.518454  218.775253  ...    A1  B89A222A-3234-4967-A308-F5A62CCCD364.png\n",
              "1  239.236500  226.574106  ...    A1  41955A6C-4962-4CEC-B8F3-08A956E916B4.png\n",
              "2  239.455614  226.906080  ...    A1  F65D6CFE-5C0F-4985-AC65-FF4C1D51EC64.png\n",
              "3  240.266900  228.472222  ...    A1  03A1BF92-0BE6-4C5B-8E26-255D6E691A45.png\n",
              "4  239.647145  227.612568  ...    A1  9690DDF5-C1FC-48E2-8B04-80FECD22D7AD.png\n",
              "\n",
              "[5 rows x 16 columns]"
            ]
          },
          "metadata": {},
          "execution_count": 302
        }
      ]
    },
    {
      "cell_type": "code",
      "source": [
        "table_C1Set3 = pd.read_excel(Set3, sheet_name='C1Set3 ')\n",
        "table_C1Set3.head()"
      ],
      "metadata": {
        "id": "b1AARJT9uK8T",
        "outputId": "97c35968-0f9e-44bd-fb2d-e82f263b6083",
        "colab": {
          "base_uri": "https://localhost:8080/",
          "height": 0
        }
      },
      "execution_count": 303,
      "outputs": [
        {
          "output_type": "execute_result",
          "data": {
            "text/html": [
              "\n",
              "  <div id=\"df-22dd0649-2d06-49c7-a3c9-3280631f612b\">\n",
              "    <div class=\"colab-df-container\">\n",
              "      <div>\n",
              "<style scoped>\n",
              "    .dataframe tbody tr th:only-of-type {\n",
              "        vertical-align: middle;\n",
              "    }\n",
              "\n",
              "    .dataframe tbody tr th {\n",
              "        vertical-align: top;\n",
              "    }\n",
              "\n",
              "    .dataframe thead th {\n",
              "        text-align: right;\n",
              "    }\n",
              "</style>\n",
              "<table border=\"1\" class=\"dataframe\">\n",
              "  <thead>\n",
              "    <tr style=\"text-align: right;\">\n",
              "      <th></th>\n",
              "      <th>R-ref</th>\n",
              "      <th>G-ref</th>\n",
              "      <th>B-ref</th>\n",
              "      <th>R-Shad</th>\n",
              "      <th>G-Shad</th>\n",
              "      <th>B-Shad</th>\n",
              "      <th>H-ref</th>\n",
              "      <th>S-ref</th>\n",
              "      <th>V-ref</th>\n",
              "      <th>H-Shad</th>\n",
              "      <th>S-Shad</th>\n",
              "      <th>V-Shad</th>\n",
              "      <th>Setting</th>\n",
              "      <th>Ref</th>\n",
              "      <th>Shad</th>\n",
              "      <th>Img</th>\n",
              "    </tr>\n",
              "  </thead>\n",
              "  <tbody>\n",
              "    <tr>\n",
              "      <th>0</th>\n",
              "      <td>237.518454</td>\n",
              "      <td>218.775253</td>\n",
              "      <td>168.165016</td>\n",
              "      <td>236.046891</td>\n",
              "      <td>220.360671</td>\n",
              "      <td>182.475489</td>\n",
              "      <td>21.988151</td>\n",
              "      <td>74.531371</td>\n",
              "      <td>237.518454</td>\n",
              "      <td>21.336021</td>\n",
              "      <td>57.959040</td>\n",
              "      <td>236.046891</td>\n",
              "      <td>Set3</td>\n",
              "      <td>C1</td>\n",
              "      <td>A1</td>\n",
              "      <td>1E917833-3707-473C-843B-5D63B350CBC4.png</td>\n",
              "    </tr>\n",
              "    <tr>\n",
              "      <th>1</th>\n",
              "      <td>239.236500</td>\n",
              "      <td>226.574106</td>\n",
              "      <td>192.074883</td>\n",
              "      <td>229.881753</td>\n",
              "      <td>212.417756</td>\n",
              "      <td>171.454267</td>\n",
              "      <td>22.014277</td>\n",
              "      <td>50.377622</td>\n",
              "      <td>239.236500</td>\n",
              "      <td>21.245390</td>\n",
              "      <td>64.893522</td>\n",
              "      <td>229.881753</td>\n",
              "      <td>Set3</td>\n",
              "      <td>C1</td>\n",
              "      <td>A1</td>\n",
              "      <td>A3CA5A69-EA09-4AC6-8695-83F9567E6484.png</td>\n",
              "    </tr>\n",
              "    <tr>\n",
              "      <th>2</th>\n",
              "      <td>239.455614</td>\n",
              "      <td>226.906080</td>\n",
              "      <td>191.725427</td>\n",
              "      <td>229.586322</td>\n",
              "      <td>211.631637</td>\n",
              "      <td>169.314151</td>\n",
              "      <td>22.211053</td>\n",
              "      <td>50.957459</td>\n",
              "      <td>239.455614</td>\n",
              "      <td>21.135947</td>\n",
              "      <td>66.991382</td>\n",
              "      <td>229.586322</td>\n",
              "      <td>Set3</td>\n",
              "      <td>C1</td>\n",
              "      <td>A1</td>\n",
              "      <td>80A2301F-B67E-45B2-BC09-8FA4D1A48A1F.png</td>\n",
              "    </tr>\n",
              "    <tr>\n",
              "      <th>3</th>\n",
              "      <td>240.266900</td>\n",
              "      <td>228.472222</td>\n",
              "      <td>195.808858</td>\n",
              "      <td>231.276063</td>\n",
              "      <td>214.568437</td>\n",
              "      <td>174.635530</td>\n",
              "      <td>22.128788</td>\n",
              "      <td>47.320027</td>\n",
              "      <td>240.269134</td>\n",
              "      <td>21.363451</td>\n",
              "      <td>62.501622</td>\n",
              "      <td>231.276063</td>\n",
              "      <td>Set3</td>\n",
              "      <td>C1</td>\n",
              "      <td>A1</td>\n",
              "      <td>78E24865-B50B-4EFD-BF2F-3CFD4D484A5A.png</td>\n",
              "    </tr>\n",
              "    <tr>\n",
              "      <th>4</th>\n",
              "      <td>239.647145</td>\n",
              "      <td>227.612568</td>\n",
              "      <td>193.990579</td>\n",
              "      <td>231.185340</td>\n",
              "      <td>214.659902</td>\n",
              "      <td>174.247521</td>\n",
              "      <td>22.146465</td>\n",
              "      <td>48.670455</td>\n",
              "      <td>239.647145</td>\n",
              "      <td>21.524140</td>\n",
              "      <td>62.850338</td>\n",
              "      <td>231.185340</td>\n",
              "      <td>Set3</td>\n",
              "      <td>C1</td>\n",
              "      <td>A1</td>\n",
              "      <td>4540C001-2AE9-44DB-BA99-C2A8E72A0F28.png</td>\n",
              "    </tr>\n",
              "  </tbody>\n",
              "</table>\n",
              "</div>\n",
              "      <button class=\"colab-df-convert\" onclick=\"convertToInteractive('df-22dd0649-2d06-49c7-a3c9-3280631f612b')\"\n",
              "              title=\"Convert this dataframe to an interactive table.\"\n",
              "              style=\"display:none;\">\n",
              "        \n",
              "  <svg xmlns=\"http://www.w3.org/2000/svg\" height=\"24px\"viewBox=\"0 0 24 24\"\n",
              "       width=\"24px\">\n",
              "    <path d=\"M0 0h24v24H0V0z\" fill=\"none\"/>\n",
              "    <path d=\"M18.56 5.44l.94 2.06.94-2.06 2.06-.94-2.06-.94-.94-2.06-.94 2.06-2.06.94zm-11 1L8.5 8.5l.94-2.06 2.06-.94-2.06-.94L8.5 2.5l-.94 2.06-2.06.94zm10 10l.94 2.06.94-2.06 2.06-.94-2.06-.94-.94-2.06-.94 2.06-2.06.94z\"/><path d=\"M17.41 7.96l-1.37-1.37c-.4-.4-.92-.59-1.43-.59-.52 0-1.04.2-1.43.59L10.3 9.45l-7.72 7.72c-.78.78-.78 2.05 0 2.83L4 21.41c.39.39.9.59 1.41.59.51 0 1.02-.2 1.41-.59l7.78-7.78 2.81-2.81c.8-.78.8-2.07 0-2.86zM5.41 20L4 18.59l7.72-7.72 1.47 1.35L5.41 20z\"/>\n",
              "  </svg>\n",
              "      </button>\n",
              "      \n",
              "  <style>\n",
              "    .colab-df-container {\n",
              "      display:flex;\n",
              "      flex-wrap:wrap;\n",
              "      gap: 12px;\n",
              "    }\n",
              "\n",
              "    .colab-df-convert {\n",
              "      background-color: #E8F0FE;\n",
              "      border: none;\n",
              "      border-radius: 50%;\n",
              "      cursor: pointer;\n",
              "      display: none;\n",
              "      fill: #1967D2;\n",
              "      height: 32px;\n",
              "      padding: 0 0 0 0;\n",
              "      width: 32px;\n",
              "    }\n",
              "\n",
              "    .colab-df-convert:hover {\n",
              "      background-color: #E2EBFA;\n",
              "      box-shadow: 0px 1px 2px rgba(60, 64, 67, 0.3), 0px 1px 3px 1px rgba(60, 64, 67, 0.15);\n",
              "      fill: #174EA6;\n",
              "    }\n",
              "\n",
              "    [theme=dark] .colab-df-convert {\n",
              "      background-color: #3B4455;\n",
              "      fill: #D2E3FC;\n",
              "    }\n",
              "\n",
              "    [theme=dark] .colab-df-convert:hover {\n",
              "      background-color: #434B5C;\n",
              "      box-shadow: 0px 1px 3px 1px rgba(0, 0, 0, 0.15);\n",
              "      filter: drop-shadow(0px 1px 2px rgba(0, 0, 0, 0.3));\n",
              "      fill: #FFFFFF;\n",
              "    }\n",
              "  </style>\n",
              "\n",
              "      <script>\n",
              "        const buttonEl =\n",
              "          document.querySelector('#df-22dd0649-2d06-49c7-a3c9-3280631f612b button.colab-df-convert');\n",
              "        buttonEl.style.display =\n",
              "          google.colab.kernel.accessAllowed ? 'block' : 'none';\n",
              "\n",
              "        async function convertToInteractive(key) {\n",
              "          const element = document.querySelector('#df-22dd0649-2d06-49c7-a3c9-3280631f612b');\n",
              "          const dataTable =\n",
              "            await google.colab.kernel.invokeFunction('convertToInteractive',\n",
              "                                                     [key], {});\n",
              "          if (!dataTable) return;\n",
              "\n",
              "          const docLinkHtml = 'Like what you see? Visit the ' +\n",
              "            '<a target=\"_blank\" href=https://colab.research.google.com/notebooks/data_table.ipynb>data table notebook</a>'\n",
              "            + ' to learn more about interactive tables.';\n",
              "          element.innerHTML = '';\n",
              "          dataTable['output_type'] = 'display_data';\n",
              "          await google.colab.output.renderOutput(dataTable, element);\n",
              "          const docLink = document.createElement('div');\n",
              "          docLink.innerHTML = docLinkHtml;\n",
              "          element.appendChild(docLink);\n",
              "        }\n",
              "      </script>\n",
              "    </div>\n",
              "  </div>\n",
              "  "
            ],
            "text/plain": [
              "        R-ref       G-ref  ...  Shad                                       Img\n",
              "0  237.518454  218.775253  ...    A1  1E917833-3707-473C-843B-5D63B350CBC4.png\n",
              "1  239.236500  226.574106  ...    A1  A3CA5A69-EA09-4AC6-8695-83F9567E6484.png\n",
              "2  239.455614  226.906080  ...    A1  80A2301F-B67E-45B2-BC09-8FA4D1A48A1F.png\n",
              "3  240.266900  228.472222  ...    A1  78E24865-B50B-4EFD-BF2F-3CFD4D484A5A.png\n",
              "4  239.647145  227.612568  ...    A1  4540C001-2AE9-44DB-BA99-C2A8E72A0F28.png\n",
              "\n",
              "[5 rows x 16 columns]"
            ]
          },
          "metadata": {},
          "execution_count": 303
        }
      ]
    },
    {
      "cell_type": "code",
      "source": [
        "table_C1Set4 = pd.read_excel(Set4, sheet_name='C1Set4')\n",
        "table_C1Set4.head()"
      ],
      "metadata": {
        "id": "BPnF7LQluK8T",
        "outputId": "88920715-fa3f-4a5a-8cac-21a2f33e6674",
        "colab": {
          "base_uri": "https://localhost:8080/",
          "height": 0
        }
      },
      "execution_count": 304,
      "outputs": [
        {
          "output_type": "execute_result",
          "data": {
            "text/html": [
              "\n",
              "  <div id=\"df-356cb337-fd42-4f01-94a5-b2bca1cdd6e9\">\n",
              "    <div class=\"colab-df-container\">\n",
              "      <div>\n",
              "<style scoped>\n",
              "    .dataframe tbody tr th:only-of-type {\n",
              "        vertical-align: middle;\n",
              "    }\n",
              "\n",
              "    .dataframe tbody tr th {\n",
              "        vertical-align: top;\n",
              "    }\n",
              "\n",
              "    .dataframe thead th {\n",
              "        text-align: right;\n",
              "    }\n",
              "</style>\n",
              "<table border=\"1\" class=\"dataframe\">\n",
              "  <thead>\n",
              "    <tr style=\"text-align: right;\">\n",
              "      <th></th>\n",
              "      <th>R-ref</th>\n",
              "      <th>G-ref</th>\n",
              "      <th>B-ref</th>\n",
              "      <th>R-Shad</th>\n",
              "      <th>G-Shad</th>\n",
              "      <th>B-Shad</th>\n",
              "      <th>H-ref</th>\n",
              "      <th>S-ref</th>\n",
              "      <th>V-ref</th>\n",
              "      <th>H-Shad</th>\n",
              "      <th>S-Shad</th>\n",
              "      <th>V-Shad</th>\n",
              "      <th>Setting</th>\n",
              "      <th>Ref</th>\n",
              "      <th>Shad</th>\n",
              "      <th>Img</th>\n",
              "    </tr>\n",
              "  </thead>\n",
              "  <tbody>\n",
              "    <tr>\n",
              "      <th>0</th>\n",
              "      <td>241.886752</td>\n",
              "      <td>229.539627</td>\n",
              "      <td>194.758353</td>\n",
              "      <td>232.801594</td>\n",
              "      <td>216.483551</td>\n",
              "      <td>175.844685</td>\n",
              "      <td>22.222611</td>\n",
              "      <td>49.799631</td>\n",
              "      <td>241.886752</td>\n",
              "      <td>21.663979</td>\n",
              "      <td>62.447225</td>\n",
              "      <td>232.801594</td>\n",
              "      <td>Set4</td>\n",
              "      <td>C1</td>\n",
              "      <td>A1</td>\n",
              "      <td>2CF6DEF9-DF65-4D3E-BEC7-C1664402B848.png</td>\n",
              "    </tr>\n",
              "    <tr>\n",
              "      <th>1</th>\n",
              "      <td>242.135781</td>\n",
              "      <td>229.859848</td>\n",
              "      <td>194.487082</td>\n",
              "      <td>232.920026</td>\n",
              "      <td>216.203410</td>\n",
              "      <td>174.735613</td>\n",
              "      <td>22.372960</td>\n",
              "      <td>50.312646</td>\n",
              "      <td>242.135781</td>\n",
              "      <td>21.584191</td>\n",
              "      <td>63.779817</td>\n",
              "      <td>232.920026</td>\n",
              "      <td>Set4</td>\n",
              "      <td>C1</td>\n",
              "      <td>A1</td>\n",
              "      <td>D8408792-B96F-425D-B030-680398046CC9.png</td>\n",
              "    </tr>\n",
              "    <tr>\n",
              "      <th>2</th>\n",
              "      <td>242.884227</td>\n",
              "      <td>231.409771</td>\n",
              "      <td>198.796717</td>\n",
              "      <td>234.321750</td>\n",
              "      <td>218.636271</td>\n",
              "      <td>178.919841</td>\n",
              "      <td>22.467366</td>\n",
              "      <td>46.435800</td>\n",
              "      <td>242.890831</td>\n",
              "      <td>21.754703</td>\n",
              "      <td>60.344546</td>\n",
              "      <td>234.321750</td>\n",
              "      <td>Set4</td>\n",
              "      <td>C1</td>\n",
              "      <td>A1</td>\n",
              "      <td>A142A91A-E63C-40DA-A92E-5F3C75892CCC.png</td>\n",
              "    </tr>\n",
              "    <tr>\n",
              "      <th>3</th>\n",
              "      <td>242.349359</td>\n",
              "      <td>230.585082</td>\n",
              "      <td>196.799922</td>\n",
              "      <td>233.973682</td>\n",
              "      <td>218.365490</td>\n",
              "      <td>178.417014</td>\n",
              "      <td>22.338772</td>\n",
              "      <td>48.023504</td>\n",
              "      <td>242.349359</td>\n",
              "      <td>21.821240</td>\n",
              "      <td>60.580947</td>\n",
              "      <td>233.973682</td>\n",
              "      <td>Set4</td>\n",
              "      <td>C1</td>\n",
              "      <td>A1</td>\n",
              "      <td>B0BB3A91-5BC2-4617-8DCD-521894FD9820.png</td>\n",
              "    </tr>\n",
              "    <tr>\n",
              "      <th>4</th>\n",
              "      <td>239.753497</td>\n",
              "      <td>228.713967</td>\n",
              "      <td>196.514569</td>\n",
              "      <td>230.413493</td>\n",
              "      <td>214.830229</td>\n",
              "      <td>175.105644</td>\n",
              "      <td>22.430458</td>\n",
              "      <td>46.089938</td>\n",
              "      <td>239.753594</td>\n",
              "      <td>21.777129</td>\n",
              "      <td>61.255491</td>\n",
              "      <td>230.413493</td>\n",
              "      <td>Set4</td>\n",
              "      <td>C1</td>\n",
              "      <td>A1</td>\n",
              "      <td>B072BB25-1641-4167-A1A0-0570DB6D6C4B.png</td>\n",
              "    </tr>\n",
              "  </tbody>\n",
              "</table>\n",
              "</div>\n",
              "      <button class=\"colab-df-convert\" onclick=\"convertToInteractive('df-356cb337-fd42-4f01-94a5-b2bca1cdd6e9')\"\n",
              "              title=\"Convert this dataframe to an interactive table.\"\n",
              "              style=\"display:none;\">\n",
              "        \n",
              "  <svg xmlns=\"http://www.w3.org/2000/svg\" height=\"24px\"viewBox=\"0 0 24 24\"\n",
              "       width=\"24px\">\n",
              "    <path d=\"M0 0h24v24H0V0z\" fill=\"none\"/>\n",
              "    <path d=\"M18.56 5.44l.94 2.06.94-2.06 2.06-.94-2.06-.94-.94-2.06-.94 2.06-2.06.94zm-11 1L8.5 8.5l.94-2.06 2.06-.94-2.06-.94L8.5 2.5l-.94 2.06-2.06.94zm10 10l.94 2.06.94-2.06 2.06-.94-2.06-.94-.94-2.06-.94 2.06-2.06.94z\"/><path d=\"M17.41 7.96l-1.37-1.37c-.4-.4-.92-.59-1.43-.59-.52 0-1.04.2-1.43.59L10.3 9.45l-7.72 7.72c-.78.78-.78 2.05 0 2.83L4 21.41c.39.39.9.59 1.41.59.51 0 1.02-.2 1.41-.59l7.78-7.78 2.81-2.81c.8-.78.8-2.07 0-2.86zM5.41 20L4 18.59l7.72-7.72 1.47 1.35L5.41 20z\"/>\n",
              "  </svg>\n",
              "      </button>\n",
              "      \n",
              "  <style>\n",
              "    .colab-df-container {\n",
              "      display:flex;\n",
              "      flex-wrap:wrap;\n",
              "      gap: 12px;\n",
              "    }\n",
              "\n",
              "    .colab-df-convert {\n",
              "      background-color: #E8F0FE;\n",
              "      border: none;\n",
              "      border-radius: 50%;\n",
              "      cursor: pointer;\n",
              "      display: none;\n",
              "      fill: #1967D2;\n",
              "      height: 32px;\n",
              "      padding: 0 0 0 0;\n",
              "      width: 32px;\n",
              "    }\n",
              "\n",
              "    .colab-df-convert:hover {\n",
              "      background-color: #E2EBFA;\n",
              "      box-shadow: 0px 1px 2px rgba(60, 64, 67, 0.3), 0px 1px 3px 1px rgba(60, 64, 67, 0.15);\n",
              "      fill: #174EA6;\n",
              "    }\n",
              "\n",
              "    [theme=dark] .colab-df-convert {\n",
              "      background-color: #3B4455;\n",
              "      fill: #D2E3FC;\n",
              "    }\n",
              "\n",
              "    [theme=dark] .colab-df-convert:hover {\n",
              "      background-color: #434B5C;\n",
              "      box-shadow: 0px 1px 3px 1px rgba(0, 0, 0, 0.15);\n",
              "      filter: drop-shadow(0px 1px 2px rgba(0, 0, 0, 0.3));\n",
              "      fill: #FFFFFF;\n",
              "    }\n",
              "  </style>\n",
              "\n",
              "      <script>\n",
              "        const buttonEl =\n",
              "          document.querySelector('#df-356cb337-fd42-4f01-94a5-b2bca1cdd6e9 button.colab-df-convert');\n",
              "        buttonEl.style.display =\n",
              "          google.colab.kernel.accessAllowed ? 'block' : 'none';\n",
              "\n",
              "        async function convertToInteractive(key) {\n",
              "          const element = document.querySelector('#df-356cb337-fd42-4f01-94a5-b2bca1cdd6e9');\n",
              "          const dataTable =\n",
              "            await google.colab.kernel.invokeFunction('convertToInteractive',\n",
              "                                                     [key], {});\n",
              "          if (!dataTable) return;\n",
              "\n",
              "          const docLinkHtml = 'Like what you see? Visit the ' +\n",
              "            '<a target=\"_blank\" href=https://colab.research.google.com/notebooks/data_table.ipynb>data table notebook</a>'\n",
              "            + ' to learn more about interactive tables.';\n",
              "          element.innerHTML = '';\n",
              "          dataTable['output_type'] = 'display_data';\n",
              "          await google.colab.output.renderOutput(dataTable, element);\n",
              "          const docLink = document.createElement('div');\n",
              "          docLink.innerHTML = docLinkHtml;\n",
              "          element.appendChild(docLink);\n",
              "        }\n",
              "      </script>\n",
              "    </div>\n",
              "  </div>\n",
              "  "
            ],
            "text/plain": [
              "        R-ref       G-ref  ...  Shad                                       Img\n",
              "0  241.886752  229.539627  ...    A1  2CF6DEF9-DF65-4D3E-BEC7-C1664402B848.png\n",
              "1  242.135781  229.859848  ...    A1  D8408792-B96F-425D-B030-680398046CC9.png\n",
              "2  242.884227  231.409771  ...    A1  A142A91A-E63C-40DA-A92E-5F3C75892CCC.png\n",
              "3  242.349359  230.585082  ...    A1  B0BB3A91-5BC2-4617-8DCD-521894FD9820.png\n",
              "4  239.753497  228.713967  ...    A1  B072BB25-1641-4167-A1A0-0570DB6D6C4B.png\n",
              "\n",
              "[5 rows x 16 columns]"
            ]
          },
          "metadata": {},
          "execution_count": 304
        }
      ]
    },
    {
      "cell_type": "markdown",
      "source": [
        "###RGB"
      ],
      "metadata": {
        "id": "5keaf1tduK8T"
      }
    },
    {
      "cell_type": "code",
      "source": [
        "RGB_C1_Set4 = table_C1Set4"
      ],
      "metadata": {
        "id": "LVBCr4rsuK8U"
      },
      "execution_count": 305,
      "outputs": []
    },
    {
      "cell_type": "code",
      "source": [
        "RGB_C1_Set1 = table_C1Set1"
      ],
      "metadata": {
        "id": "SGDR0saNuK8U"
      },
      "execution_count": 306,
      "outputs": []
    },
    {
      "cell_type": "code",
      "source": [
        "RGB_C1_Set2 = table_C1Set2"
      ],
      "metadata": {
        "id": "-AFDkXx3uK8U"
      },
      "execution_count": 307,
      "outputs": []
    },
    {
      "cell_type": "code",
      "source": [
        "RGB_C1_Set3 = table_C1Set3"
      ],
      "metadata": {
        "id": "eTcc6WZCuK8U"
      },
      "execution_count": 308,
      "outputs": []
    },
    {
      "cell_type": "code",
      "source": [
        "RGB_C1_concat = pd.concat([RGB_C1_Set1,RGB_C1_Set2])"
      ],
      "metadata": {
        "id": "6AJcAoJgrLTS"
      },
      "execution_count": 309,
      "outputs": []
    },
    {
      "cell_type": "code",
      "source": [
        "RGB_C1_concat0 = pd.concat([RGB_C1_concat,RGB_C1_Set4])"
      ],
      "metadata": {
        "id": "qR4wYI1ZuK8U"
      },
      "execution_count": 310,
      "outputs": []
    },
    {
      "cell_type": "code",
      "source": [
        "RGB_C1_concat1 = pd.concat([RGB_C1_concat0,RGB_C1_Set3])"
      ],
      "metadata": {
        "id": "8ITW98fLuK8U"
      },
      "execution_count": 311,
      "outputs": []
    },
    {
      "cell_type": "code",
      "source": [
        "RGB_C1_concat2 = RGB_B1_concat1.drop(['H-ref','S-ref','V-ref','H-Shad','S-Shad','V-Shad','Setting','Ref','Shad','Img'], axis=1)"
      ],
      "metadata": {
        "id": "2rTrCnwXuK8U"
      },
      "execution_count": 312,
      "outputs": []
    },
    {
      "cell_type": "code",
      "source": [
        "X_test_C1_RGB = np.array(RGB_D3_CC1)"
      ],
      "metadata": {
        "id": "VEFT7a3ZuK8U"
      },
      "execution_count": 313,
      "outputs": []
    },
    {
      "cell_type": "code",
      "source": [
        "y_C1_RGB =  table_D3CC1.iloc[:,14:15]"
      ],
      "metadata": {
        "id": "1_rvYWFCuK8V"
      },
      "execution_count": 314,
      "outputs": []
    },
    {
      "cell_type": "code",
      "source": [
        "y_test_C1_RGB = np.array(y_C1_RGB)"
      ],
      "metadata": {
        "id": "5iWJSETLuK8V"
      },
      "execution_count": 315,
      "outputs": []
    },
    {
      "cell_type": "code",
      "source": [
        "X_train_C1_RGB = np.array(RGB_C1_concat2)"
      ],
      "metadata": {
        "id": "vdIUmKq1uK8V"
      },
      "execution_count": 316,
      "outputs": []
    },
    {
      "cell_type": "code",
      "source": [
        "y_train_C1RGB = RGB_C1_concat1.iloc[:,14:15]"
      ],
      "metadata": {
        "id": "k1-QsydzuK8V"
      },
      "execution_count": 317,
      "outputs": []
    },
    {
      "cell_type": "code",
      "source": [
        "y_train_C1_RGB = np.array(y_train_C1RGB)"
      ],
      "metadata": {
        "id": "SEOH7fl2uK8V"
      },
      "execution_count": 318,
      "outputs": []
    },
    {
      "cell_type": "code",
      "source": [
        "clf.fit(X_train_C1_RGB, y_train_C1_RGB)"
      ],
      "metadata": {
        "id": "wDmlG34luK8V",
        "outputId": "b98ee71b-d8e0-4614-8b7c-2bae9a887044",
        "colab": {
          "base_uri": "https://localhost:8080/"
        }
      },
      "execution_count": 319,
      "outputs": [
        {
          "output_type": "stream",
          "name": "stderr",
          "text": [
            "/usr/local/lib/python3.7/dist-packages/ipykernel_launcher.py:1: DataConversionWarning: A column-vector y was passed when a 1d array was expected. Please change the shape of y to (n_samples,), for example using ravel().\n",
            "  \"\"\"Entry point for launching an IPython kernel.\n"
          ]
        },
        {
          "output_type": "execute_result",
          "data": {
            "text/plain": [
              "RandomForestClassifier()"
            ]
          },
          "metadata": {},
          "execution_count": 319
        }
      ]
    },
    {
      "cell_type": "code",
      "source": [
        "y_pred_C1_RGB = clf.predict(X_test_C1_RGB)"
      ],
      "metadata": {
        "id": "cul6CJoGuK8V"
      },
      "execution_count": 320,
      "outputs": []
    },
    {
      "cell_type": "code",
      "source": [
        "print(\"Accuracy:\", metrics.accuracy_score(y_test_C1_RGB, y_pred_C1_RGB))"
      ],
      "metadata": {
        "id": "JgIocA5RuK8V",
        "outputId": "14bbca13-0741-46ea-c012-7e74ad0453cc",
        "colab": {
          "base_uri": "https://localhost:8080/"
        }
      },
      "execution_count": 321,
      "outputs": [
        {
          "output_type": "stream",
          "name": "stdout",
          "text": [
            "Accuracy: 0.07\n"
          ]
        }
      ]
    },
    {
      "cell_type": "markdown",
      "source": [
        "###HSV"
      ],
      "metadata": {
        "id": "jqD4u3nkuK8W"
      }
    },
    {
      "cell_type": "code",
      "source": [
        "HSV_C1_concat2 = RGB_C1_concat1.drop(['R-ref','G-ref','B-ref','R-Shad','G-Shad','B-Shad','Setting','Ref','Shad','Img'], axis=1)"
      ],
      "metadata": {
        "id": "Kuhm-IuSuK8W"
      },
      "execution_count": 322,
      "outputs": []
    },
    {
      "cell_type": "code",
      "source": [
        "X_test_C1_HSV = np.array(HSV_D3_CC1)"
      ],
      "metadata": {
        "id": "jaMGZ-BPuK8W"
      },
      "execution_count": 323,
      "outputs": []
    },
    {
      "cell_type": "code",
      "source": [
        "y_C1_HSV =  table_D3CC1.iloc[:,14:15]"
      ],
      "metadata": {
        "id": "O6w6ncjuuK8W"
      },
      "execution_count": 324,
      "outputs": []
    },
    {
      "cell_type": "code",
      "source": [
        "y_test_C1_HSV = np.array(y_C1_RGB)"
      ],
      "metadata": {
        "id": "7aCdQO7NuK8W"
      },
      "execution_count": 325,
      "outputs": []
    },
    {
      "cell_type": "code",
      "source": [
        "X_train_C1_HSV = np.array(HSV_C1_concat2)"
      ],
      "metadata": {
        "id": "a6Wxd-7suK8W"
      },
      "execution_count": 326,
      "outputs": []
    },
    {
      "cell_type": "code",
      "source": [
        "y_train_C1HSV = RGB_C1_concat1.iloc[:,14:15]"
      ],
      "metadata": {
        "id": "BL1mCT4muK8W"
      },
      "execution_count": 327,
      "outputs": []
    },
    {
      "cell_type": "code",
      "source": [
        "y_train_C1_HSV = np.array(y_train_C1HSV)"
      ],
      "metadata": {
        "id": "ze6vigz-uK8W"
      },
      "execution_count": 328,
      "outputs": []
    },
    {
      "cell_type": "code",
      "source": [
        "clf.fit(X_train_C1_HSV, y_train_C1_HSV)"
      ],
      "metadata": {
        "id": "neDKUdhCuK8X",
        "outputId": "25e72267-3c04-4a6c-9fc0-043dfad31c34",
        "colab": {
          "base_uri": "https://localhost:8080/"
        }
      },
      "execution_count": 329,
      "outputs": [
        {
          "output_type": "stream",
          "name": "stderr",
          "text": [
            "/usr/local/lib/python3.7/dist-packages/ipykernel_launcher.py:1: DataConversionWarning: A column-vector y was passed when a 1d array was expected. Please change the shape of y to (n_samples,), for example using ravel().\n",
            "  \"\"\"Entry point for launching an IPython kernel.\n"
          ]
        },
        {
          "output_type": "execute_result",
          "data": {
            "text/plain": [
              "RandomForestClassifier()"
            ]
          },
          "metadata": {},
          "execution_count": 329
        }
      ]
    },
    {
      "cell_type": "code",
      "source": [
        "y_pred_C1_HSV = clf.predict(X_test_C1_HSV)"
      ],
      "metadata": {
        "id": "sXavKcRZuK8X"
      },
      "execution_count": 330,
      "outputs": []
    },
    {
      "cell_type": "code",
      "source": [
        "print(\"Accuracy:\", metrics.accuracy_score(y_test_C1_HSV, y_pred_C1_HSV))"
      ],
      "metadata": {
        "id": "lV79DUGnuK8X",
        "outputId": "290f88a6-d60b-4a3f-a92a-adb61b89212b",
        "colab": {
          "base_uri": "https://localhost:8080/"
        }
      },
      "execution_count": 331,
      "outputs": [
        {
          "output_type": "stream",
          "name": "stdout",
          "text": [
            "Accuracy: 0.0625\n"
          ]
        }
      ]
    },
    {
      "cell_type": "markdown",
      "source": [
        "##C2"
      ],
      "metadata": {
        "id": "YNY_T-YOuK8X"
      }
    },
    {
      "cell_type": "code",
      "source": [
        "table_C2Set1 = pd.read_excel(Set1 , sheet_name='C2Set1')\n",
        "table_C2Set1.head()"
      ],
      "metadata": {
        "id": "WMEieFRYuK8X",
        "outputId": "2015f9e7-b9d7-4f11-8128-714401d04415",
        "colab": {
          "base_uri": "https://localhost:8080/",
          "height": 0
        }
      },
      "execution_count": 332,
      "outputs": [
        {
          "output_type": "execute_result",
          "data": {
            "text/html": [
              "\n",
              "  <div id=\"df-5a3286dd-d4d3-436f-82ef-441ab567a42e\">\n",
              "    <div class=\"colab-df-container\">\n",
              "      <div>\n",
              "<style scoped>\n",
              "    .dataframe tbody tr th:only-of-type {\n",
              "        vertical-align: middle;\n",
              "    }\n",
              "\n",
              "    .dataframe tbody tr th {\n",
              "        vertical-align: top;\n",
              "    }\n",
              "\n",
              "    .dataframe thead th {\n",
              "        text-align: right;\n",
              "    }\n",
              "</style>\n",
              "<table border=\"1\" class=\"dataframe\">\n",
              "  <thead>\n",
              "    <tr style=\"text-align: right;\">\n",
              "      <th></th>\n",
              "      <th>R-ref</th>\n",
              "      <th>G-ref</th>\n",
              "      <th>B-ref</th>\n",
              "      <th>R-Shad</th>\n",
              "      <th>G-Shad</th>\n",
              "      <th>B-Shad</th>\n",
              "      <th>H-ref</th>\n",
              "      <th>S-ref</th>\n",
              "      <th>V-ref</th>\n",
              "      <th>H-Shad</th>\n",
              "      <th>S-Shad</th>\n",
              "      <th>V-Shad</th>\n",
              "      <th>Setting</th>\n",
              "      <th>Ref</th>\n",
              "      <th>Shad</th>\n",
              "      <th>Img</th>\n",
              "    </tr>\n",
              "  </thead>\n",
              "  <tbody>\n",
              "    <tr>\n",
              "      <th>0</th>\n",
              "      <td>243.100913</td>\n",
              "      <td>230.901030</td>\n",
              "      <td>195.992521</td>\n",
              "      <td>234.161802</td>\n",
              "      <td>218.400056</td>\n",
              "      <td>177.928552</td>\n",
              "      <td>21.855250</td>\n",
              "      <td>61.314243</td>\n",
              "      <td>234.161802</td>\n",
              "      <td>21.855250</td>\n",
              "      <td>61.314243</td>\n",
              "      <td>234.161802</td>\n",
              "      <td>Set1</td>\n",
              "      <td>C2</td>\n",
              "      <td>A1</td>\n",
              "      <td>94B8BCF4-0790-415E-94D6-F74A6D812F9C.png</td>\n",
              "    </tr>\n",
              "    <tr>\n",
              "      <th>1</th>\n",
              "      <td>243.442211</td>\n",
              "      <td>231.243784</td>\n",
              "      <td>195.775447</td>\n",
              "      <td>234.603929</td>\n",
              "      <td>218.542211</td>\n",
              "      <td>177.562506</td>\n",
              "      <td>21.797331</td>\n",
              "      <td>62.089612</td>\n",
              "      <td>234.603929</td>\n",
              "      <td>21.797331</td>\n",
              "      <td>62.089612</td>\n",
              "      <td>234.603929</td>\n",
              "      <td>Set1</td>\n",
              "      <td>C2</td>\n",
              "      <td>A1</td>\n",
              "      <td>6C2D0804-8381-4BFF-BF38-C0AC1273E618.png</td>\n",
              "    </tr>\n",
              "    <tr>\n",
              "      <th>2</th>\n",
              "      <td>243.966006</td>\n",
              "      <td>232.617910</td>\n",
              "      <td>199.868687</td>\n",
              "      <td>235.838847</td>\n",
              "      <td>220.603466</td>\n",
              "      <td>181.161523</td>\n",
              "      <td>21.858030</td>\n",
              "      <td>59.202113</td>\n",
              "      <td>235.838847</td>\n",
              "      <td>21.858030</td>\n",
              "      <td>59.202113</td>\n",
              "      <td>235.838847</td>\n",
              "      <td>Set1</td>\n",
              "      <td>C2</td>\n",
              "      <td>A1</td>\n",
              "      <td>8BD8561A-0908-4A45-9B23-E1BB2A03640B.png</td>\n",
              "    </tr>\n",
              "    <tr>\n",
              "      <th>3</th>\n",
              "      <td>243.670552</td>\n",
              "      <td>232.004759</td>\n",
              "      <td>198.212510</td>\n",
              "      <td>235.361042</td>\n",
              "      <td>220.153183</td>\n",
              "      <td>180.510333</td>\n",
              "      <td>21.910759</td>\n",
              "      <td>59.487258</td>\n",
              "      <td>235.361042</td>\n",
              "      <td>21.910759</td>\n",
              "      <td>59.487258</td>\n",
              "      <td>235.361042</td>\n",
              "      <td>Set1</td>\n",
              "      <td>C2</td>\n",
              "      <td>A1</td>\n",
              "      <td>6021A5FE-EFB1-4650-84F4-27408DAFC2BA.png</td>\n",
              "    </tr>\n",
              "    <tr>\n",
              "      <th>4</th>\n",
              "      <td>241.015152</td>\n",
              "      <td>230.078866</td>\n",
              "      <td>197.686480</td>\n",
              "      <td>231.835233</td>\n",
              "      <td>216.726346</td>\n",
              "      <td>177.242054</td>\n",
              "      <td>21.887035</td>\n",
              "      <td>60.107497</td>\n",
              "      <td>231.835233</td>\n",
              "      <td>21.887035</td>\n",
              "      <td>60.107497</td>\n",
              "      <td>231.835233</td>\n",
              "      <td>Set1</td>\n",
              "      <td>C2</td>\n",
              "      <td>A1</td>\n",
              "      <td>1D2C4DD2-FF5D-446F-ADC8-BB6C6E19BF79.png</td>\n",
              "    </tr>\n",
              "  </tbody>\n",
              "</table>\n",
              "</div>\n",
              "      <button class=\"colab-df-convert\" onclick=\"convertToInteractive('df-5a3286dd-d4d3-436f-82ef-441ab567a42e')\"\n",
              "              title=\"Convert this dataframe to an interactive table.\"\n",
              "              style=\"display:none;\">\n",
              "        \n",
              "  <svg xmlns=\"http://www.w3.org/2000/svg\" height=\"24px\"viewBox=\"0 0 24 24\"\n",
              "       width=\"24px\">\n",
              "    <path d=\"M0 0h24v24H0V0z\" fill=\"none\"/>\n",
              "    <path d=\"M18.56 5.44l.94 2.06.94-2.06 2.06-.94-2.06-.94-.94-2.06-.94 2.06-2.06.94zm-11 1L8.5 8.5l.94-2.06 2.06-.94-2.06-.94L8.5 2.5l-.94 2.06-2.06.94zm10 10l.94 2.06.94-2.06 2.06-.94-2.06-.94-.94-2.06-.94 2.06-2.06.94z\"/><path d=\"M17.41 7.96l-1.37-1.37c-.4-.4-.92-.59-1.43-.59-.52 0-1.04.2-1.43.59L10.3 9.45l-7.72 7.72c-.78.78-.78 2.05 0 2.83L4 21.41c.39.39.9.59 1.41.59.51 0 1.02-.2 1.41-.59l7.78-7.78 2.81-2.81c.8-.78.8-2.07 0-2.86zM5.41 20L4 18.59l7.72-7.72 1.47 1.35L5.41 20z\"/>\n",
              "  </svg>\n",
              "      </button>\n",
              "      \n",
              "  <style>\n",
              "    .colab-df-container {\n",
              "      display:flex;\n",
              "      flex-wrap:wrap;\n",
              "      gap: 12px;\n",
              "    }\n",
              "\n",
              "    .colab-df-convert {\n",
              "      background-color: #E8F0FE;\n",
              "      border: none;\n",
              "      border-radius: 50%;\n",
              "      cursor: pointer;\n",
              "      display: none;\n",
              "      fill: #1967D2;\n",
              "      height: 32px;\n",
              "      padding: 0 0 0 0;\n",
              "      width: 32px;\n",
              "    }\n",
              "\n",
              "    .colab-df-convert:hover {\n",
              "      background-color: #E2EBFA;\n",
              "      box-shadow: 0px 1px 2px rgba(60, 64, 67, 0.3), 0px 1px 3px 1px rgba(60, 64, 67, 0.15);\n",
              "      fill: #174EA6;\n",
              "    }\n",
              "\n",
              "    [theme=dark] .colab-df-convert {\n",
              "      background-color: #3B4455;\n",
              "      fill: #D2E3FC;\n",
              "    }\n",
              "\n",
              "    [theme=dark] .colab-df-convert:hover {\n",
              "      background-color: #434B5C;\n",
              "      box-shadow: 0px 1px 3px 1px rgba(0, 0, 0, 0.15);\n",
              "      filter: drop-shadow(0px 1px 2px rgba(0, 0, 0, 0.3));\n",
              "      fill: #FFFFFF;\n",
              "    }\n",
              "  </style>\n",
              "\n",
              "      <script>\n",
              "        const buttonEl =\n",
              "          document.querySelector('#df-5a3286dd-d4d3-436f-82ef-441ab567a42e button.colab-df-convert');\n",
              "        buttonEl.style.display =\n",
              "          google.colab.kernel.accessAllowed ? 'block' : 'none';\n",
              "\n",
              "        async function convertToInteractive(key) {\n",
              "          const element = document.querySelector('#df-5a3286dd-d4d3-436f-82ef-441ab567a42e');\n",
              "          const dataTable =\n",
              "            await google.colab.kernel.invokeFunction('convertToInteractive',\n",
              "                                                     [key], {});\n",
              "          if (!dataTable) return;\n",
              "\n",
              "          const docLinkHtml = 'Like what you see? Visit the ' +\n",
              "            '<a target=\"_blank\" href=https://colab.research.google.com/notebooks/data_table.ipynb>data table notebook</a>'\n",
              "            + ' to learn more about interactive tables.';\n",
              "          element.innerHTML = '';\n",
              "          dataTable['output_type'] = 'display_data';\n",
              "          await google.colab.output.renderOutput(dataTable, element);\n",
              "          const docLink = document.createElement('div');\n",
              "          docLink.innerHTML = docLinkHtml;\n",
              "          element.appendChild(docLink);\n",
              "        }\n",
              "      </script>\n",
              "    </div>\n",
              "  </div>\n",
              "  "
            ],
            "text/plain": [
              "        R-ref       G-ref  ...  Shad                                       Img\n",
              "0  243.100913  230.901030  ...    A1  94B8BCF4-0790-415E-94D6-F74A6D812F9C.png\n",
              "1  243.442211  231.243784  ...    A1  6C2D0804-8381-4BFF-BF38-C0AC1273E618.png\n",
              "2  243.966006  232.617910  ...    A1  8BD8561A-0908-4A45-9B23-E1BB2A03640B.png\n",
              "3  243.670552  232.004759  ...    A1  6021A5FE-EFB1-4650-84F4-27408DAFC2BA.png\n",
              "4  241.015152  230.078866  ...    A1  1D2C4DD2-FF5D-446F-ADC8-BB6C6E19BF79.png\n",
              "\n",
              "[5 rows x 16 columns]"
            ]
          },
          "metadata": {},
          "execution_count": 332
        }
      ]
    },
    {
      "cell_type": "code",
      "source": [
        "table_C2Set2 = pd.read_excel(Set2, sheet_name='C2Set2')\n",
        "table_C2Set2.head()"
      ],
      "metadata": {
        "id": "mDYWS90uuK8X",
        "outputId": "a8747e73-0905-4609-eb78-60a5fba1d4fd",
        "colab": {
          "base_uri": "https://localhost:8080/",
          "height": 0
        }
      },
      "execution_count": 333,
      "outputs": [
        {
          "output_type": "execute_result",
          "data": {
            "text/html": [
              "\n",
              "  <div id=\"df-e6d28729-85ac-4a30-9fab-6fe8cf5f7b57\">\n",
              "    <div class=\"colab-df-container\">\n",
              "      <div>\n",
              "<style scoped>\n",
              "    .dataframe tbody tr th:only-of-type {\n",
              "        vertical-align: middle;\n",
              "    }\n",
              "\n",
              "    .dataframe tbody tr th {\n",
              "        vertical-align: top;\n",
              "    }\n",
              "\n",
              "    .dataframe thead th {\n",
              "        text-align: right;\n",
              "    }\n",
              "</style>\n",
              "<table border=\"1\" class=\"dataframe\">\n",
              "  <thead>\n",
              "    <tr style=\"text-align: right;\">\n",
              "      <th></th>\n",
              "      <th>R-ref</th>\n",
              "      <th>G-ref</th>\n",
              "      <th>B-ref</th>\n",
              "      <th>R-Shad</th>\n",
              "      <th>G-Shad</th>\n",
              "      <th>B-Shad</th>\n",
              "      <th>H-ref</th>\n",
              "      <th>S-ref</th>\n",
              "      <th>V-ref</th>\n",
              "      <th>H-Shad</th>\n",
              "      <th>S-Shad</th>\n",
              "      <th>V-Shad</th>\n",
              "      <th>Setting</th>\n",
              "      <th>Ref</th>\n",
              "      <th>Shad</th>\n",
              "      <th>Img</th>\n",
              "    </tr>\n",
              "  </thead>\n",
              "  <tbody>\n",
              "    <tr>\n",
              "      <th>0</th>\n",
              "      <td>238.821037</td>\n",
              "      <td>225.705543</td>\n",
              "      <td>190.281389</td>\n",
              "      <td>239.471161</td>\n",
              "      <td>226.830738</td>\n",
              "      <td>192.584525</td>\n",
              "      <td>22.002110</td>\n",
              "      <td>51.950004</td>\n",
              "      <td>238.821037</td>\n",
              "      <td>22.136619</td>\n",
              "      <td>50.134841</td>\n",
              "      <td>239.480976</td>\n",
              "      <td>Set2</td>\n",
              "      <td>C2</td>\n",
              "      <td>A1</td>\n",
              "      <td>374ED3C9-7FB3-4644-A77B-ABBC2258721E.png</td>\n",
              "    </tr>\n",
              "    <tr>\n",
              "      <th>1</th>\n",
              "      <td>239.015096</td>\n",
              "      <td>225.933366</td>\n",
              "      <td>189.813814</td>\n",
              "      <td>239.661831</td>\n",
              "      <td>227.036128</td>\n",
              "      <td>192.028376</td>\n",
              "      <td>22.160701</td>\n",
              "      <td>52.631442</td>\n",
              "      <td>239.015096</td>\n",
              "      <td>22.305099</td>\n",
              "      <td>50.899580</td>\n",
              "      <td>239.668587</td>\n",
              "      <td>Set2</td>\n",
              "      <td>C2</td>\n",
              "      <td>A1</td>\n",
              "      <td>64D55779-CEF4-4F38-97BC-1A3DE682F831.png</td>\n",
              "    </tr>\n",
              "    <tr>\n",
              "      <th>2</th>\n",
              "      <td>239.849931</td>\n",
              "      <td>227.537051</td>\n",
              "      <td>193.802045</td>\n",
              "      <td>240.594268</td>\n",
              "      <td>228.924187</td>\n",
              "      <td>196.427779</td>\n",
              "      <td>22.082299</td>\n",
              "      <td>49.090252</td>\n",
              "      <td>239.850986</td>\n",
              "      <td>22.455160</td>\n",
              "      <td>47.039400</td>\n",
              "      <td>240.609558</td>\n",
              "      <td>Set2</td>\n",
              "      <td>C2</td>\n",
              "      <td>A1</td>\n",
              "      <td>F118F5AE-2FE5-4E9C-9041-D0E6CBA214C1.png</td>\n",
              "    </tr>\n",
              "    <tr>\n",
              "      <th>3</th>\n",
              "      <td>239.325785</td>\n",
              "      <td>226.816573</td>\n",
              "      <td>192.238942</td>\n",
              "      <td>239.886139</td>\n",
              "      <td>227.853140</td>\n",
              "      <td>194.250551</td>\n",
              "      <td>22.134648</td>\n",
              "      <td>50.271894</td>\n",
              "      <td>239.325785</td>\n",
              "      <td>22.290520</td>\n",
              "      <td>48.668445</td>\n",
              "      <td>239.892326</td>\n",
              "      <td>Set2</td>\n",
              "      <td>C2</td>\n",
              "      <td>A1</td>\n",
              "      <td>8D1015B6-7F0D-4679-A728-EF724A18B2DB.png</td>\n",
              "    </tr>\n",
              "    <tr>\n",
              "      <th>4</th>\n",
              "      <td>236.398182</td>\n",
              "      <td>225.056083</td>\n",
              "      <td>193.174742</td>\n",
              "      <td>237.114572</td>\n",
              "      <td>226.267051</td>\n",
              "      <td>195.376574</td>\n",
              "      <td>22.216297</td>\n",
              "      <td>46.713984</td>\n",
              "      <td>236.398182</td>\n",
              "      <td>22.447692</td>\n",
              "      <td>45.052699</td>\n",
              "      <td>237.122395</td>\n",
              "      <td>Set2</td>\n",
              "      <td>C2</td>\n",
              "      <td>A1</td>\n",
              "      <td>A98B9E63-26D7-49D1-A84B-0E4BC3823C9A.png</td>\n",
              "    </tr>\n",
              "  </tbody>\n",
              "</table>\n",
              "</div>\n",
              "      <button class=\"colab-df-convert\" onclick=\"convertToInteractive('df-e6d28729-85ac-4a30-9fab-6fe8cf5f7b57')\"\n",
              "              title=\"Convert this dataframe to an interactive table.\"\n",
              "              style=\"display:none;\">\n",
              "        \n",
              "  <svg xmlns=\"http://www.w3.org/2000/svg\" height=\"24px\"viewBox=\"0 0 24 24\"\n",
              "       width=\"24px\">\n",
              "    <path d=\"M0 0h24v24H0V0z\" fill=\"none\"/>\n",
              "    <path d=\"M18.56 5.44l.94 2.06.94-2.06 2.06-.94-2.06-.94-.94-2.06-.94 2.06-2.06.94zm-11 1L8.5 8.5l.94-2.06 2.06-.94-2.06-.94L8.5 2.5l-.94 2.06-2.06.94zm10 10l.94 2.06.94-2.06 2.06-.94-2.06-.94-.94-2.06-.94 2.06-2.06.94z\"/><path d=\"M17.41 7.96l-1.37-1.37c-.4-.4-.92-.59-1.43-.59-.52 0-1.04.2-1.43.59L10.3 9.45l-7.72 7.72c-.78.78-.78 2.05 0 2.83L4 21.41c.39.39.9.59 1.41.59.51 0 1.02-.2 1.41-.59l7.78-7.78 2.81-2.81c.8-.78.8-2.07 0-2.86zM5.41 20L4 18.59l7.72-7.72 1.47 1.35L5.41 20z\"/>\n",
              "  </svg>\n",
              "      </button>\n",
              "      \n",
              "  <style>\n",
              "    .colab-df-container {\n",
              "      display:flex;\n",
              "      flex-wrap:wrap;\n",
              "      gap: 12px;\n",
              "    }\n",
              "\n",
              "    .colab-df-convert {\n",
              "      background-color: #E8F0FE;\n",
              "      border: none;\n",
              "      border-radius: 50%;\n",
              "      cursor: pointer;\n",
              "      display: none;\n",
              "      fill: #1967D2;\n",
              "      height: 32px;\n",
              "      padding: 0 0 0 0;\n",
              "      width: 32px;\n",
              "    }\n",
              "\n",
              "    .colab-df-convert:hover {\n",
              "      background-color: #E2EBFA;\n",
              "      box-shadow: 0px 1px 2px rgba(60, 64, 67, 0.3), 0px 1px 3px 1px rgba(60, 64, 67, 0.15);\n",
              "      fill: #174EA6;\n",
              "    }\n",
              "\n",
              "    [theme=dark] .colab-df-convert {\n",
              "      background-color: #3B4455;\n",
              "      fill: #D2E3FC;\n",
              "    }\n",
              "\n",
              "    [theme=dark] .colab-df-convert:hover {\n",
              "      background-color: #434B5C;\n",
              "      box-shadow: 0px 1px 3px 1px rgba(0, 0, 0, 0.15);\n",
              "      filter: drop-shadow(0px 1px 2px rgba(0, 0, 0, 0.3));\n",
              "      fill: #FFFFFF;\n",
              "    }\n",
              "  </style>\n",
              "\n",
              "      <script>\n",
              "        const buttonEl =\n",
              "          document.querySelector('#df-e6d28729-85ac-4a30-9fab-6fe8cf5f7b57 button.colab-df-convert');\n",
              "        buttonEl.style.display =\n",
              "          google.colab.kernel.accessAllowed ? 'block' : 'none';\n",
              "\n",
              "        async function convertToInteractive(key) {\n",
              "          const element = document.querySelector('#df-e6d28729-85ac-4a30-9fab-6fe8cf5f7b57');\n",
              "          const dataTable =\n",
              "            await google.colab.kernel.invokeFunction('convertToInteractive',\n",
              "                                                     [key], {});\n",
              "          if (!dataTable) return;\n",
              "\n",
              "          const docLinkHtml = 'Like what you see? Visit the ' +\n",
              "            '<a target=\"_blank\" href=https://colab.research.google.com/notebooks/data_table.ipynb>data table notebook</a>'\n",
              "            + ' to learn more about interactive tables.';\n",
              "          element.innerHTML = '';\n",
              "          dataTable['output_type'] = 'display_data';\n",
              "          await google.colab.output.renderOutput(dataTable, element);\n",
              "          const docLink = document.createElement('div');\n",
              "          docLink.innerHTML = docLinkHtml;\n",
              "          element.appendChild(docLink);\n",
              "        }\n",
              "      </script>\n",
              "    </div>\n",
              "  </div>\n",
              "  "
            ],
            "text/plain": [
              "        R-ref       G-ref  ...  Shad                                       Img\n",
              "0  238.821037  225.705543  ...    A1  374ED3C9-7FB3-4644-A77B-ABBC2258721E.png\n",
              "1  239.015096  225.933366  ...    A1  64D55779-CEF4-4F38-97BC-1A3DE682F831.png\n",
              "2  239.849931  227.537051  ...    A1  F118F5AE-2FE5-4E9C-9041-D0E6CBA214C1.png\n",
              "3  239.325785  226.816573  ...    A1  8D1015B6-7F0D-4679-A728-EF724A18B2DB.png\n",
              "4  236.398182  225.056083  ...    A1  A98B9E63-26D7-49D1-A84B-0E4BC3823C9A.png\n",
              "\n",
              "[5 rows x 16 columns]"
            ]
          },
          "metadata": {},
          "execution_count": 333
        }
      ]
    },
    {
      "cell_type": "code",
      "source": [
        "table_C2Set3 = pd.read_excel(Set3, sheet_name='C2Set3 ')\n",
        "table_C2Set3.head()"
      ],
      "metadata": {
        "id": "2Jv11LxMuK8X",
        "outputId": "58850fec-3308-4605-90ef-1ef9df7792af",
        "colab": {
          "base_uri": "https://localhost:8080/",
          "height": 0
        }
      },
      "execution_count": 334,
      "outputs": [
        {
          "output_type": "execute_result",
          "data": {
            "text/html": [
              "\n",
              "  <div id=\"df-b528b3e5-b55b-4a56-b7c5-b07e0bd5de96\">\n",
              "    <div class=\"colab-df-container\">\n",
              "      <div>\n",
              "<style scoped>\n",
              "    .dataframe tbody tr th:only-of-type {\n",
              "        vertical-align: middle;\n",
              "    }\n",
              "\n",
              "    .dataframe tbody tr th {\n",
              "        vertical-align: top;\n",
              "    }\n",
              "\n",
              "    .dataframe thead th {\n",
              "        text-align: right;\n",
              "    }\n",
              "</style>\n",
              "<table border=\"1\" class=\"dataframe\">\n",
              "  <thead>\n",
              "    <tr style=\"text-align: right;\">\n",
              "      <th></th>\n",
              "      <th>R-ref</th>\n",
              "      <th>G-ref</th>\n",
              "      <th>B-ref</th>\n",
              "      <th>R-Shad</th>\n",
              "      <th>G-Shad</th>\n",
              "      <th>B-Shad</th>\n",
              "      <th>H-ref</th>\n",
              "      <th>S-ref</th>\n",
              "      <th>V-ref</th>\n",
              "      <th>H-Shad</th>\n",
              "      <th>S-Shad</th>\n",
              "      <th>V-Shad</th>\n",
              "      <th>Setting</th>\n",
              "      <th>Ref</th>\n",
              "      <th>Shad</th>\n",
              "      <th>Img</th>\n",
              "    </tr>\n",
              "  </thead>\n",
              "  <tbody>\n",
              "    <tr>\n",
              "      <th>0</th>\n",
              "      <td>243.100913</td>\n",
              "      <td>230.901030</td>\n",
              "      <td>195.992521</td>\n",
              "      <td>234.161802</td>\n",
              "      <td>218.400056</td>\n",
              "      <td>177.928552</td>\n",
              "      <td>21.855250</td>\n",
              "      <td>61.314243</td>\n",
              "      <td>234.161802</td>\n",
              "      <td>21.855250</td>\n",
              "      <td>61.314243</td>\n",
              "      <td>234.161802</td>\n",
              "      <td>Set3</td>\n",
              "      <td>C2</td>\n",
              "      <td>A1</td>\n",
              "      <td>DAB2B542-FF26-450C-BCEE-FBBC6F0F0A5A.png</td>\n",
              "    </tr>\n",
              "    <tr>\n",
              "      <th>1</th>\n",
              "      <td>243.442211</td>\n",
              "      <td>231.243784</td>\n",
              "      <td>195.775447</td>\n",
              "      <td>234.603929</td>\n",
              "      <td>218.542211</td>\n",
              "      <td>177.562506</td>\n",
              "      <td>21.797331</td>\n",
              "      <td>62.089612</td>\n",
              "      <td>234.603929</td>\n",
              "      <td>21.797331</td>\n",
              "      <td>62.089612</td>\n",
              "      <td>234.603929</td>\n",
              "      <td>Set3</td>\n",
              "      <td>C2</td>\n",
              "      <td>A1</td>\n",
              "      <td>8D944785-B0B9-442C-9A61-E154610BF547.png</td>\n",
              "    </tr>\n",
              "    <tr>\n",
              "      <th>2</th>\n",
              "      <td>243.966006</td>\n",
              "      <td>232.617910</td>\n",
              "      <td>199.868687</td>\n",
              "      <td>235.838847</td>\n",
              "      <td>220.603466</td>\n",
              "      <td>181.161523</td>\n",
              "      <td>21.858030</td>\n",
              "      <td>59.202113</td>\n",
              "      <td>235.838847</td>\n",
              "      <td>21.858030</td>\n",
              "      <td>59.202113</td>\n",
              "      <td>235.838847</td>\n",
              "      <td>Set3</td>\n",
              "      <td>C2</td>\n",
              "      <td>A1</td>\n",
              "      <td>0F8A345A-32E7-44C0-A010-1E1E53B041D7.png</td>\n",
              "    </tr>\n",
              "    <tr>\n",
              "      <th>3</th>\n",
              "      <td>243.670552</td>\n",
              "      <td>232.004759</td>\n",
              "      <td>198.212510</td>\n",
              "      <td>235.361042</td>\n",
              "      <td>220.153183</td>\n",
              "      <td>180.510333</td>\n",
              "      <td>21.910759</td>\n",
              "      <td>59.487258</td>\n",
              "      <td>235.361042</td>\n",
              "      <td>21.910759</td>\n",
              "      <td>59.487258</td>\n",
              "      <td>235.361042</td>\n",
              "      <td>Set3</td>\n",
              "      <td>C2</td>\n",
              "      <td>A1</td>\n",
              "      <td>B7E55179-C0B2-42BB-8575-1A1AA5F17A1A.png</td>\n",
              "    </tr>\n",
              "    <tr>\n",
              "      <th>4</th>\n",
              "      <td>241.015152</td>\n",
              "      <td>230.078866</td>\n",
              "      <td>197.686480</td>\n",
              "      <td>231.835233</td>\n",
              "      <td>216.726346</td>\n",
              "      <td>177.242054</td>\n",
              "      <td>21.887035</td>\n",
              "      <td>60.107497</td>\n",
              "      <td>231.835233</td>\n",
              "      <td>21.887035</td>\n",
              "      <td>60.107497</td>\n",
              "      <td>231.835233</td>\n",
              "      <td>Set3</td>\n",
              "      <td>C2</td>\n",
              "      <td>A1</td>\n",
              "      <td>5A6D201F-9F7E-44D9-8B97-2AE2BDD7E590.png</td>\n",
              "    </tr>\n",
              "  </tbody>\n",
              "</table>\n",
              "</div>\n",
              "      <button class=\"colab-df-convert\" onclick=\"convertToInteractive('df-b528b3e5-b55b-4a56-b7c5-b07e0bd5de96')\"\n",
              "              title=\"Convert this dataframe to an interactive table.\"\n",
              "              style=\"display:none;\">\n",
              "        \n",
              "  <svg xmlns=\"http://www.w3.org/2000/svg\" height=\"24px\"viewBox=\"0 0 24 24\"\n",
              "       width=\"24px\">\n",
              "    <path d=\"M0 0h24v24H0V0z\" fill=\"none\"/>\n",
              "    <path d=\"M18.56 5.44l.94 2.06.94-2.06 2.06-.94-2.06-.94-.94-2.06-.94 2.06-2.06.94zm-11 1L8.5 8.5l.94-2.06 2.06-.94-2.06-.94L8.5 2.5l-.94 2.06-2.06.94zm10 10l.94 2.06.94-2.06 2.06-.94-2.06-.94-.94-2.06-.94 2.06-2.06.94z\"/><path d=\"M17.41 7.96l-1.37-1.37c-.4-.4-.92-.59-1.43-.59-.52 0-1.04.2-1.43.59L10.3 9.45l-7.72 7.72c-.78.78-.78 2.05 0 2.83L4 21.41c.39.39.9.59 1.41.59.51 0 1.02-.2 1.41-.59l7.78-7.78 2.81-2.81c.8-.78.8-2.07 0-2.86zM5.41 20L4 18.59l7.72-7.72 1.47 1.35L5.41 20z\"/>\n",
              "  </svg>\n",
              "      </button>\n",
              "      \n",
              "  <style>\n",
              "    .colab-df-container {\n",
              "      display:flex;\n",
              "      flex-wrap:wrap;\n",
              "      gap: 12px;\n",
              "    }\n",
              "\n",
              "    .colab-df-convert {\n",
              "      background-color: #E8F0FE;\n",
              "      border: none;\n",
              "      border-radius: 50%;\n",
              "      cursor: pointer;\n",
              "      display: none;\n",
              "      fill: #1967D2;\n",
              "      height: 32px;\n",
              "      padding: 0 0 0 0;\n",
              "      width: 32px;\n",
              "    }\n",
              "\n",
              "    .colab-df-convert:hover {\n",
              "      background-color: #E2EBFA;\n",
              "      box-shadow: 0px 1px 2px rgba(60, 64, 67, 0.3), 0px 1px 3px 1px rgba(60, 64, 67, 0.15);\n",
              "      fill: #174EA6;\n",
              "    }\n",
              "\n",
              "    [theme=dark] .colab-df-convert {\n",
              "      background-color: #3B4455;\n",
              "      fill: #D2E3FC;\n",
              "    }\n",
              "\n",
              "    [theme=dark] .colab-df-convert:hover {\n",
              "      background-color: #434B5C;\n",
              "      box-shadow: 0px 1px 3px 1px rgba(0, 0, 0, 0.15);\n",
              "      filter: drop-shadow(0px 1px 2px rgba(0, 0, 0, 0.3));\n",
              "      fill: #FFFFFF;\n",
              "    }\n",
              "  </style>\n",
              "\n",
              "      <script>\n",
              "        const buttonEl =\n",
              "          document.querySelector('#df-b528b3e5-b55b-4a56-b7c5-b07e0bd5de96 button.colab-df-convert');\n",
              "        buttonEl.style.display =\n",
              "          google.colab.kernel.accessAllowed ? 'block' : 'none';\n",
              "\n",
              "        async function convertToInteractive(key) {\n",
              "          const element = document.querySelector('#df-b528b3e5-b55b-4a56-b7c5-b07e0bd5de96');\n",
              "          const dataTable =\n",
              "            await google.colab.kernel.invokeFunction('convertToInteractive',\n",
              "                                                     [key], {});\n",
              "          if (!dataTable) return;\n",
              "\n",
              "          const docLinkHtml = 'Like what you see? Visit the ' +\n",
              "            '<a target=\"_blank\" href=https://colab.research.google.com/notebooks/data_table.ipynb>data table notebook</a>'\n",
              "            + ' to learn more about interactive tables.';\n",
              "          element.innerHTML = '';\n",
              "          dataTable['output_type'] = 'display_data';\n",
              "          await google.colab.output.renderOutput(dataTable, element);\n",
              "          const docLink = document.createElement('div');\n",
              "          docLink.innerHTML = docLinkHtml;\n",
              "          element.appendChild(docLink);\n",
              "        }\n",
              "      </script>\n",
              "    </div>\n",
              "  </div>\n",
              "  "
            ],
            "text/plain": [
              "        R-ref       G-ref  ...  Shad                                       Img\n",
              "0  243.100913  230.901030  ...    A1  DAB2B542-FF26-450C-BCEE-FBBC6F0F0A5A.png\n",
              "1  243.442211  231.243784  ...    A1  8D944785-B0B9-442C-9A61-E154610BF547.png\n",
              "2  243.966006  232.617910  ...    A1  0F8A345A-32E7-44C0-A010-1E1E53B041D7.png\n",
              "3  243.670552  232.004759  ...    A1  B7E55179-C0B2-42BB-8575-1A1AA5F17A1A.png\n",
              "4  241.015152  230.078866  ...    A1  5A6D201F-9F7E-44D9-8B97-2AE2BDD7E590.png\n",
              "\n",
              "[5 rows x 16 columns]"
            ]
          },
          "metadata": {},
          "execution_count": 334
        }
      ]
    },
    {
      "cell_type": "code",
      "source": [
        "table_C2Set4 = pd.read_excel(Set4, sheet_name='C2Set4')\n",
        "table_C2Set4.head()"
      ],
      "metadata": {
        "id": "J4uXT6ZquK8X",
        "outputId": "02397a1b-acc7-46d7-a188-ff258a38f02e",
        "colab": {
          "base_uri": "https://localhost:8080/",
          "height": 0
        }
      },
      "execution_count": 335,
      "outputs": [
        {
          "output_type": "execute_result",
          "data": {
            "text/html": [
              "\n",
              "  <div id=\"df-6c395a5a-b887-4091-8374-2916cb24457c\">\n",
              "    <div class=\"colab-df-container\">\n",
              "      <div>\n",
              "<style scoped>\n",
              "    .dataframe tbody tr th:only-of-type {\n",
              "        vertical-align: middle;\n",
              "    }\n",
              "\n",
              "    .dataframe tbody tr th {\n",
              "        vertical-align: top;\n",
              "    }\n",
              "\n",
              "    .dataframe thead th {\n",
              "        text-align: right;\n",
              "    }\n",
              "</style>\n",
              "<table border=\"1\" class=\"dataframe\">\n",
              "  <thead>\n",
              "    <tr style=\"text-align: right;\">\n",
              "      <th></th>\n",
              "      <th>R-ref</th>\n",
              "      <th>G-ref</th>\n",
              "      <th>B-ref</th>\n",
              "      <th>R-Shad</th>\n",
              "      <th>G-Shad</th>\n",
              "      <th>B-Shad</th>\n",
              "      <th>H-ref</th>\n",
              "      <th>S-ref</th>\n",
              "      <th>V-ref</th>\n",
              "      <th>H-Shad</th>\n",
              "      <th>S-Shad</th>\n",
              "      <th>V-Shad</th>\n",
              "      <th>Setting</th>\n",
              "      <th>Ref</th>\n",
              "      <th>Shad</th>\n",
              "      <th>Img</th>\n",
              "    </tr>\n",
              "  </thead>\n",
              "  <tbody>\n",
              "    <tr>\n",
              "      <th>0</th>\n",
              "      <td>241.886752</td>\n",
              "      <td>229.539627</td>\n",
              "      <td>194.758353</td>\n",
              "      <td>232.801594</td>\n",
              "      <td>216.483551</td>\n",
              "      <td>175.844685</td>\n",
              "      <td>22.222611</td>\n",
              "      <td>49.799631</td>\n",
              "      <td>241.886752</td>\n",
              "      <td>21.663979</td>\n",
              "      <td>62.447225</td>\n",
              "      <td>232.801594</td>\n",
              "      <td>Set4</td>\n",
              "      <td>C2</td>\n",
              "      <td>A1</td>\n",
              "      <td>97434DCB-317D-460E-B141-4F5F00BD8237.png</td>\n",
              "    </tr>\n",
              "    <tr>\n",
              "      <th>1</th>\n",
              "      <td>242.135781</td>\n",
              "      <td>229.859848</td>\n",
              "      <td>194.487082</td>\n",
              "      <td>232.920026</td>\n",
              "      <td>216.203410</td>\n",
              "      <td>174.735613</td>\n",
              "      <td>22.372960</td>\n",
              "      <td>50.312646</td>\n",
              "      <td>242.135781</td>\n",
              "      <td>21.584191</td>\n",
              "      <td>63.779817</td>\n",
              "      <td>232.920026</td>\n",
              "      <td>Set4</td>\n",
              "      <td>C2</td>\n",
              "      <td>A1</td>\n",
              "      <td>86674BAB-7B95-47B9-B2F4-6A08EA9A553C.png</td>\n",
              "    </tr>\n",
              "    <tr>\n",
              "      <th>2</th>\n",
              "      <td>242.884227</td>\n",
              "      <td>231.409771</td>\n",
              "      <td>198.796717</td>\n",
              "      <td>234.321750</td>\n",
              "      <td>218.636271</td>\n",
              "      <td>178.919841</td>\n",
              "      <td>22.467366</td>\n",
              "      <td>46.435800</td>\n",
              "      <td>242.890831</td>\n",
              "      <td>21.754703</td>\n",
              "      <td>60.344546</td>\n",
              "      <td>234.321750</td>\n",
              "      <td>Set4</td>\n",
              "      <td>C2</td>\n",
              "      <td>A1</td>\n",
              "      <td>36D924E3-369D-4810-8013-7F212B48F6E7.png</td>\n",
              "    </tr>\n",
              "    <tr>\n",
              "      <th>3</th>\n",
              "      <td>242.349359</td>\n",
              "      <td>230.585082</td>\n",
              "      <td>196.799922</td>\n",
              "      <td>233.973682</td>\n",
              "      <td>218.365490</td>\n",
              "      <td>178.417014</td>\n",
              "      <td>22.338772</td>\n",
              "      <td>48.023504</td>\n",
              "      <td>242.349359</td>\n",
              "      <td>21.821240</td>\n",
              "      <td>60.580947</td>\n",
              "      <td>233.973682</td>\n",
              "      <td>Set4</td>\n",
              "      <td>C2</td>\n",
              "      <td>A1</td>\n",
              "      <td>7656ABAF-7260-4953-A918-AB1E537D8E13.png</td>\n",
              "    </tr>\n",
              "    <tr>\n",
              "      <th>4</th>\n",
              "      <td>239.753497</td>\n",
              "      <td>228.713967</td>\n",
              "      <td>196.514569</td>\n",
              "      <td>230.413493</td>\n",
              "      <td>214.830229</td>\n",
              "      <td>175.105644</td>\n",
              "      <td>22.430458</td>\n",
              "      <td>46.089938</td>\n",
              "      <td>239.753594</td>\n",
              "      <td>21.777129</td>\n",
              "      <td>61.255491</td>\n",
              "      <td>230.413493</td>\n",
              "      <td>Set4</td>\n",
              "      <td>C2</td>\n",
              "      <td>A1</td>\n",
              "      <td>19D7369E-892D-44FC-A9F2-7C097487F05A.png</td>\n",
              "    </tr>\n",
              "  </tbody>\n",
              "</table>\n",
              "</div>\n",
              "      <button class=\"colab-df-convert\" onclick=\"convertToInteractive('df-6c395a5a-b887-4091-8374-2916cb24457c')\"\n",
              "              title=\"Convert this dataframe to an interactive table.\"\n",
              "              style=\"display:none;\">\n",
              "        \n",
              "  <svg xmlns=\"http://www.w3.org/2000/svg\" height=\"24px\"viewBox=\"0 0 24 24\"\n",
              "       width=\"24px\">\n",
              "    <path d=\"M0 0h24v24H0V0z\" fill=\"none\"/>\n",
              "    <path d=\"M18.56 5.44l.94 2.06.94-2.06 2.06-.94-2.06-.94-.94-2.06-.94 2.06-2.06.94zm-11 1L8.5 8.5l.94-2.06 2.06-.94-2.06-.94L8.5 2.5l-.94 2.06-2.06.94zm10 10l.94 2.06.94-2.06 2.06-.94-2.06-.94-.94-2.06-.94 2.06-2.06.94z\"/><path d=\"M17.41 7.96l-1.37-1.37c-.4-.4-.92-.59-1.43-.59-.52 0-1.04.2-1.43.59L10.3 9.45l-7.72 7.72c-.78.78-.78 2.05 0 2.83L4 21.41c.39.39.9.59 1.41.59.51 0 1.02-.2 1.41-.59l7.78-7.78 2.81-2.81c.8-.78.8-2.07 0-2.86zM5.41 20L4 18.59l7.72-7.72 1.47 1.35L5.41 20z\"/>\n",
              "  </svg>\n",
              "      </button>\n",
              "      \n",
              "  <style>\n",
              "    .colab-df-container {\n",
              "      display:flex;\n",
              "      flex-wrap:wrap;\n",
              "      gap: 12px;\n",
              "    }\n",
              "\n",
              "    .colab-df-convert {\n",
              "      background-color: #E8F0FE;\n",
              "      border: none;\n",
              "      border-radius: 50%;\n",
              "      cursor: pointer;\n",
              "      display: none;\n",
              "      fill: #1967D2;\n",
              "      height: 32px;\n",
              "      padding: 0 0 0 0;\n",
              "      width: 32px;\n",
              "    }\n",
              "\n",
              "    .colab-df-convert:hover {\n",
              "      background-color: #E2EBFA;\n",
              "      box-shadow: 0px 1px 2px rgba(60, 64, 67, 0.3), 0px 1px 3px 1px rgba(60, 64, 67, 0.15);\n",
              "      fill: #174EA6;\n",
              "    }\n",
              "\n",
              "    [theme=dark] .colab-df-convert {\n",
              "      background-color: #3B4455;\n",
              "      fill: #D2E3FC;\n",
              "    }\n",
              "\n",
              "    [theme=dark] .colab-df-convert:hover {\n",
              "      background-color: #434B5C;\n",
              "      box-shadow: 0px 1px 3px 1px rgba(0, 0, 0, 0.15);\n",
              "      filter: drop-shadow(0px 1px 2px rgba(0, 0, 0, 0.3));\n",
              "      fill: #FFFFFF;\n",
              "    }\n",
              "  </style>\n",
              "\n",
              "      <script>\n",
              "        const buttonEl =\n",
              "          document.querySelector('#df-6c395a5a-b887-4091-8374-2916cb24457c button.colab-df-convert');\n",
              "        buttonEl.style.display =\n",
              "          google.colab.kernel.accessAllowed ? 'block' : 'none';\n",
              "\n",
              "        async function convertToInteractive(key) {\n",
              "          const element = document.querySelector('#df-6c395a5a-b887-4091-8374-2916cb24457c');\n",
              "          const dataTable =\n",
              "            await google.colab.kernel.invokeFunction('convertToInteractive',\n",
              "                                                     [key], {});\n",
              "          if (!dataTable) return;\n",
              "\n",
              "          const docLinkHtml = 'Like what you see? Visit the ' +\n",
              "            '<a target=\"_blank\" href=https://colab.research.google.com/notebooks/data_table.ipynb>data table notebook</a>'\n",
              "            + ' to learn more about interactive tables.';\n",
              "          element.innerHTML = '';\n",
              "          dataTable['output_type'] = 'display_data';\n",
              "          await google.colab.output.renderOutput(dataTable, element);\n",
              "          const docLink = document.createElement('div');\n",
              "          docLink.innerHTML = docLinkHtml;\n",
              "          element.appendChild(docLink);\n",
              "        }\n",
              "      </script>\n",
              "    </div>\n",
              "  </div>\n",
              "  "
            ],
            "text/plain": [
              "        R-ref       G-ref  ...  Shad                                       Img\n",
              "0  241.886752  229.539627  ...    A1  97434DCB-317D-460E-B141-4F5F00BD8237.png\n",
              "1  242.135781  229.859848  ...    A1  86674BAB-7B95-47B9-B2F4-6A08EA9A553C.png\n",
              "2  242.884227  231.409771  ...    A1  36D924E3-369D-4810-8013-7F212B48F6E7.png\n",
              "3  242.349359  230.585082  ...    A1  7656ABAF-7260-4953-A918-AB1E537D8E13.png\n",
              "4  239.753497  228.713967  ...    A1  19D7369E-892D-44FC-A9F2-7C097487F05A.png\n",
              "\n",
              "[5 rows x 16 columns]"
            ]
          },
          "metadata": {},
          "execution_count": 335
        }
      ]
    },
    {
      "cell_type": "markdown",
      "source": [
        "###RGB"
      ],
      "metadata": {
        "id": "14z-y0z0uK8Y"
      }
    },
    {
      "cell_type": "code",
      "source": [
        "RGB_C2_Set1 = table_C2Set1"
      ],
      "metadata": {
        "id": "FvgfuG53uK8Y"
      },
      "execution_count": 336,
      "outputs": []
    },
    {
      "cell_type": "code",
      "source": [
        "RGB_C2_Set2 = table_C2Set2"
      ],
      "metadata": {
        "id": "VwSn2v8PuK8Y"
      },
      "execution_count": 337,
      "outputs": []
    },
    {
      "cell_type": "code",
      "source": [
        "RGB_C2_Set3 = table_C2Set3"
      ],
      "metadata": {
        "id": "AigA2623uK8Y"
      },
      "execution_count": 338,
      "outputs": []
    },
    {
      "cell_type": "code",
      "source": [
        "RGB_C2_Set4 = table_C2Set4"
      ],
      "metadata": {
        "id": "a9XnImqHrfZs"
      },
      "execution_count": 339,
      "outputs": []
    },
    {
      "cell_type": "code",
      "source": [
        "RGB_C2_concat = pd.concat([RGB_C2_Set1,RGB_C2_Set2])"
      ],
      "metadata": {
        "id": "0DDx5tn1riYo"
      },
      "execution_count": 340,
      "outputs": []
    },
    {
      "cell_type": "code",
      "source": [
        "RGB_C2_concat0 = pd.concat([RGB_C2_concat,RGB_C2_Set4])"
      ],
      "metadata": {
        "id": "2s691uyTuK8Y"
      },
      "execution_count": 341,
      "outputs": []
    },
    {
      "cell_type": "code",
      "source": [
        "RGB_C2_concat1 = pd.concat([RGB_C2_concat0,RGB_C2_Set3])"
      ],
      "metadata": {
        "id": "p3YpsAPJuK8Y"
      },
      "execution_count": 342,
      "outputs": []
    },
    {
      "cell_type": "code",
      "source": [
        "RGB_C2_concat2 = RGB_C2_concat1.drop(['H-ref','S-ref','V-ref','H-Shad','S-Shad','V-Shad','Setting','Ref','Shad','Img'], axis=1)"
      ],
      "metadata": {
        "id": "5QW32NZ1uK8Y"
      },
      "execution_count": 343,
      "outputs": []
    },
    {
      "cell_type": "code",
      "source": [
        "X_test_C2_RGB = np.array(RGB_D3_CC1)"
      ],
      "metadata": {
        "id": "y3HWzyi7uK8Y"
      },
      "execution_count": 344,
      "outputs": []
    },
    {
      "cell_type": "code",
      "source": [
        "y_C2_RGB =  table_D3CC1.iloc[:,14:15]"
      ],
      "metadata": {
        "id": "pvwyv_UjuK8Y"
      },
      "execution_count": 345,
      "outputs": []
    },
    {
      "cell_type": "code",
      "source": [
        "y_test_C2_RGB = np.array(y_B2_RGB)"
      ],
      "metadata": {
        "id": "7AqmxULnuK8Y"
      },
      "execution_count": 346,
      "outputs": []
    },
    {
      "cell_type": "code",
      "source": [
        "X_train_C2_RGB = np.array(RGB_C2_concat2)"
      ],
      "metadata": {
        "id": "kbaCmDQouK8Z"
      },
      "execution_count": 347,
      "outputs": []
    },
    {
      "cell_type": "code",
      "source": [
        "y_train_C2RGB = RGB_C2_concat1.iloc[:,14:15]"
      ],
      "metadata": {
        "id": "QFr7Q2mruK8Z"
      },
      "execution_count": 348,
      "outputs": []
    },
    {
      "cell_type": "code",
      "source": [
        "y_train_C2_RGB = np.array(y_train_C2RGB)"
      ],
      "metadata": {
        "id": "QM4liKsyuK8Z"
      },
      "execution_count": 349,
      "outputs": []
    },
    {
      "cell_type": "code",
      "source": [
        "clf.fit(X_train_C2_RGB, y_train_C2_RGB)"
      ],
      "metadata": {
        "id": "SCZ4Kb9yuK8Z",
        "outputId": "2c5734d7-cbc6-4720-f725-eaba0bc78934",
        "colab": {
          "base_uri": "https://localhost:8080/"
        }
      },
      "execution_count": 350,
      "outputs": [
        {
          "output_type": "stream",
          "name": "stderr",
          "text": [
            "/usr/local/lib/python3.7/dist-packages/ipykernel_launcher.py:1: DataConversionWarning: A column-vector y was passed when a 1d array was expected. Please change the shape of y to (n_samples,), for example using ravel().\n",
            "  \"\"\"Entry point for launching an IPython kernel.\n"
          ]
        },
        {
          "output_type": "execute_result",
          "data": {
            "text/plain": [
              "RandomForestClassifier()"
            ]
          },
          "metadata": {},
          "execution_count": 350
        }
      ]
    },
    {
      "cell_type": "code",
      "source": [
        "y_pred_C2_RGB = clf.predict(X_test_C2_RGB)"
      ],
      "metadata": {
        "id": "8LGlyJrBuK8Z"
      },
      "execution_count": 351,
      "outputs": []
    },
    {
      "cell_type": "code",
      "source": [
        "print(\"Accuracy:\", metrics.accuracy_score(y_test_C2_RGB, y_pred_C2_RGB))"
      ],
      "metadata": {
        "id": "O5IintGtuK8Z",
        "outputId": "ef20bd97-83ad-4fb5-f376-92c48eb19537",
        "colab": {
          "base_uri": "https://localhost:8080/"
        }
      },
      "execution_count": 352,
      "outputs": [
        {
          "output_type": "stream",
          "name": "stdout",
          "text": [
            "Accuracy: 0.1125\n"
          ]
        }
      ]
    },
    {
      "cell_type": "markdown",
      "source": [
        "###HSV"
      ],
      "metadata": {
        "id": "m9ZymQUWuK8Z"
      }
    },
    {
      "cell_type": "code",
      "source": [
        "HSV_C2_concat2 = RGB_C2_concat1.drop(['R-ref','G-ref','B-ref','R-Shad','G-Shad','B-Shad','Setting','Ref','Shad','Img'], axis=1)"
      ],
      "metadata": {
        "id": "s-viJk-8uK8Z"
      },
      "execution_count": 353,
      "outputs": []
    },
    {
      "cell_type": "code",
      "source": [
        "X_test_C2_HSV = np.array(HSV_D3_CC1)"
      ],
      "metadata": {
        "id": "3bWxFDmTuK8a"
      },
      "execution_count": 354,
      "outputs": []
    },
    {
      "cell_type": "code",
      "source": [
        "y_C2_HSV =  table_D3CC1.iloc[:,14:15]"
      ],
      "metadata": {
        "id": "lpnovtd2uK8a"
      },
      "execution_count": 355,
      "outputs": []
    },
    {
      "cell_type": "code",
      "source": [
        "y_test_C2_HSV = np.array(y_C2_RGB)"
      ],
      "metadata": {
        "id": "6GQ5gtAHuK8a"
      },
      "execution_count": 356,
      "outputs": []
    },
    {
      "cell_type": "code",
      "source": [
        "X_train_C2_HSV = np.array(HSV_C2_concat2)"
      ],
      "metadata": {
        "id": "PGXplz_NuK8a"
      },
      "execution_count": 357,
      "outputs": []
    },
    {
      "cell_type": "code",
      "source": [
        "y_train_C2HSV = RGB_C2_concat1.iloc[:,14:15]"
      ],
      "metadata": {
        "id": "vOmolRtnuK8a"
      },
      "execution_count": 358,
      "outputs": []
    },
    {
      "cell_type": "code",
      "source": [
        "y_train_C2_HSV = np.array(y_train_C2HSV)"
      ],
      "metadata": {
        "id": "DgpIHz4cuK8a"
      },
      "execution_count": 359,
      "outputs": []
    },
    {
      "cell_type": "code",
      "source": [
        "clf.fit(X_train_C2_HSV, y_train_C2_HSV)"
      ],
      "metadata": {
        "id": "2DKI59WsuK8a",
        "outputId": "74cc994a-4f0a-4651-a4da-747095340887",
        "colab": {
          "base_uri": "https://localhost:8080/"
        }
      },
      "execution_count": 360,
      "outputs": [
        {
          "output_type": "stream",
          "name": "stderr",
          "text": [
            "/usr/local/lib/python3.7/dist-packages/ipykernel_launcher.py:1: DataConversionWarning: A column-vector y was passed when a 1d array was expected. Please change the shape of y to (n_samples,), for example using ravel().\n",
            "  \"\"\"Entry point for launching an IPython kernel.\n"
          ]
        },
        {
          "output_type": "execute_result",
          "data": {
            "text/plain": [
              "RandomForestClassifier()"
            ]
          },
          "metadata": {},
          "execution_count": 360
        }
      ]
    },
    {
      "cell_type": "code",
      "source": [
        "y_pred_C2_HSV = clf.predict(X_test_C2_HSV)"
      ],
      "metadata": {
        "id": "hwrwDjh7uK8a"
      },
      "execution_count": 361,
      "outputs": []
    },
    {
      "cell_type": "code",
      "source": [
        "print(\"Accuracy:\", metrics.accuracy_score(y_test_C2_HSV, y_pred_C2_HSV))"
      ],
      "metadata": {
        "id": "HyFHjL4fuK8a",
        "outputId": "7f2ffcd6-b4dc-47f8-a5d9-26539145018e",
        "colab": {
          "base_uri": "https://localhost:8080/"
        }
      },
      "execution_count": 362,
      "outputs": [
        {
          "output_type": "stream",
          "name": "stdout",
          "text": [
            "Accuracy: 0.0625\n"
          ]
        }
      ]
    },
    {
      "cell_type": "markdown",
      "source": [
        "##C3"
      ],
      "metadata": {
        "id": "rK-ZJLNyuK8b"
      }
    },
    {
      "cell_type": "code",
      "source": [
        "table_C3Set1 = pd.read_excel(Set1 , sheet_name='C3Set1')\n",
        "table_C3Set1.head()"
      ],
      "metadata": {
        "id": "q-_w5TrjuK8b",
        "outputId": "796ce29e-773a-4d39-d4be-16261636be0d",
        "colab": {
          "base_uri": "https://localhost:8080/",
          "height": 0
        }
      },
      "execution_count": 363,
      "outputs": [
        {
          "output_type": "execute_result",
          "data": {
            "text/html": [
              "\n",
              "  <div id=\"df-fa15ac36-8d97-4605-be0e-cf49d6dabad4\">\n",
              "    <div class=\"colab-df-container\">\n",
              "      <div>\n",
              "<style scoped>\n",
              "    .dataframe tbody tr th:only-of-type {\n",
              "        vertical-align: middle;\n",
              "    }\n",
              "\n",
              "    .dataframe tbody tr th {\n",
              "        vertical-align: top;\n",
              "    }\n",
              "\n",
              "    .dataframe thead th {\n",
              "        text-align: right;\n",
              "    }\n",
              "</style>\n",
              "<table border=\"1\" class=\"dataframe\">\n",
              "  <thead>\n",
              "    <tr style=\"text-align: right;\">\n",
              "      <th></th>\n",
              "      <th>R-ref</th>\n",
              "      <th>G-ref</th>\n",
              "      <th>B-ref</th>\n",
              "      <th>R-Shad</th>\n",
              "      <th>G-Shad</th>\n",
              "      <th>B-Shad</th>\n",
              "      <th>H-ref</th>\n",
              "      <th>S-ref</th>\n",
              "      <th>V-ref</th>\n",
              "      <th>H-Shad</th>\n",
              "      <th>S-Shad</th>\n",
              "      <th>V-Shad</th>\n",
              "      <th>Setting</th>\n",
              "      <th>Ref</th>\n",
              "      <th>Shad</th>\n",
              "      <th>Img</th>\n",
              "    </tr>\n",
              "  </thead>\n",
              "  <tbody>\n",
              "    <tr>\n",
              "      <th>0</th>\n",
              "      <td>240.689782</td>\n",
              "      <td>228.253497</td>\n",
              "      <td>192.838772</td>\n",
              "      <td>231.039199</td>\n",
              "      <td>213.655176</td>\n",
              "      <td>171.713465</td>\n",
              "      <td>22.300117</td>\n",
              "      <td>50.826923</td>\n",
              "      <td>240.689782</td>\n",
              "      <td>21.347048</td>\n",
              "      <td>65.540358</td>\n",
              "      <td>231.039199</td>\n",
              "      <td>Set1</td>\n",
              "      <td>C3</td>\n",
              "      <td>A1</td>\n",
              "      <td>8397A717-3D12-4648-BD3F-CE1F787AB8C2.png</td>\n",
              "    </tr>\n",
              "    <tr>\n",
              "      <th>1</th>\n",
              "      <td>241.482032</td>\n",
              "      <td>229.891414</td>\n",
              "      <td>197.313131</td>\n",
              "      <td>232.626448</td>\n",
              "      <td>216.424613</td>\n",
              "      <td>176.563989</td>\n",
              "      <td>22.382382</td>\n",
              "      <td>46.802642</td>\n",
              "      <td>241.488636</td>\n",
              "      <td>21.568529</td>\n",
              "      <td>61.497452</td>\n",
              "      <td>232.626448</td>\n",
              "      <td>Set1</td>\n",
              "      <td>C3</td>\n",
              "      <td>A1</td>\n",
              "      <td>A9FD8AA5-8101-465A-B35F-6E192FDA7776.png</td>\n",
              "    </tr>\n",
              "    <tr>\n",
              "      <th>2</th>\n",
              "      <td>240.742521</td>\n",
              "      <td>228.815559</td>\n",
              "      <td>194.967463</td>\n",
              "      <td>232.497452</td>\n",
              "      <td>216.420628</td>\n",
              "      <td>176.211009</td>\n",
              "      <td>22.265831</td>\n",
              "      <td>48.576632</td>\n",
              "      <td>240.742521</td>\n",
              "      <td>21.680104</td>\n",
              "      <td>61.769345</td>\n",
              "      <td>232.497452</td>\n",
              "      <td>Set1</td>\n",
              "      <td>C3</td>\n",
              "      <td>A1</td>\n",
              "      <td>D8B8E0A9-7FD9-444D-9917-BEC6A0BCA620.png</td>\n",
              "    </tr>\n",
              "    <tr>\n",
              "      <th>3</th>\n",
              "      <td>238.366453</td>\n",
              "      <td>227.380439</td>\n",
              "      <td>195.708819</td>\n",
              "      <td>228.849597</td>\n",
              "      <td>212.813270</td>\n",
              "      <td>173.089241</td>\n",
              "      <td>22.340326</td>\n",
              "      <td>45.727758</td>\n",
              "      <td>238.366453</td>\n",
              "      <td>21.635808</td>\n",
              "      <td>62.176629</td>\n",
              "      <td>228.849597</td>\n",
              "      <td>Set1</td>\n",
              "      <td>C3</td>\n",
              "      <td>A1</td>\n",
              "      <td>B6F793CB-821E-4980-BE99-FEE76D08FC11.png</td>\n",
              "    </tr>\n",
              "    <tr>\n",
              "      <th>4</th>\n",
              "      <td>238.000194</td>\n",
              "      <td>226.535062</td>\n",
              "      <td>193.909771</td>\n",
              "      <td>228.701418</td>\n",
              "      <td>211.773330</td>\n",
              "      <td>171.758966</td>\n",
              "      <td>22.287296</td>\n",
              "      <td>47.344891</td>\n",
              "      <td>238.000194</td>\n",
              "      <td>21.286628</td>\n",
              "      <td>63.564915</td>\n",
              "      <td>228.701418</td>\n",
              "      <td>Set1</td>\n",
              "      <td>C3</td>\n",
              "      <td>A1</td>\n",
              "      <td>DB93C8AE-E996-4EC9-9AD4-DBC68B6E726A.png</td>\n",
              "    </tr>\n",
              "  </tbody>\n",
              "</table>\n",
              "</div>\n",
              "      <button class=\"colab-df-convert\" onclick=\"convertToInteractive('df-fa15ac36-8d97-4605-be0e-cf49d6dabad4')\"\n",
              "              title=\"Convert this dataframe to an interactive table.\"\n",
              "              style=\"display:none;\">\n",
              "        \n",
              "  <svg xmlns=\"http://www.w3.org/2000/svg\" height=\"24px\"viewBox=\"0 0 24 24\"\n",
              "       width=\"24px\">\n",
              "    <path d=\"M0 0h24v24H0V0z\" fill=\"none\"/>\n",
              "    <path d=\"M18.56 5.44l.94 2.06.94-2.06 2.06-.94-2.06-.94-.94-2.06-.94 2.06-2.06.94zm-11 1L8.5 8.5l.94-2.06 2.06-.94-2.06-.94L8.5 2.5l-.94 2.06-2.06.94zm10 10l.94 2.06.94-2.06 2.06-.94-2.06-.94-.94-2.06-.94 2.06-2.06.94z\"/><path d=\"M17.41 7.96l-1.37-1.37c-.4-.4-.92-.59-1.43-.59-.52 0-1.04.2-1.43.59L10.3 9.45l-7.72 7.72c-.78.78-.78 2.05 0 2.83L4 21.41c.39.39.9.59 1.41.59.51 0 1.02-.2 1.41-.59l7.78-7.78 2.81-2.81c.8-.78.8-2.07 0-2.86zM5.41 20L4 18.59l7.72-7.72 1.47 1.35L5.41 20z\"/>\n",
              "  </svg>\n",
              "      </button>\n",
              "      \n",
              "  <style>\n",
              "    .colab-df-container {\n",
              "      display:flex;\n",
              "      flex-wrap:wrap;\n",
              "      gap: 12px;\n",
              "    }\n",
              "\n",
              "    .colab-df-convert {\n",
              "      background-color: #E8F0FE;\n",
              "      border: none;\n",
              "      border-radius: 50%;\n",
              "      cursor: pointer;\n",
              "      display: none;\n",
              "      fill: #1967D2;\n",
              "      height: 32px;\n",
              "      padding: 0 0 0 0;\n",
              "      width: 32px;\n",
              "    }\n",
              "\n",
              "    .colab-df-convert:hover {\n",
              "      background-color: #E2EBFA;\n",
              "      box-shadow: 0px 1px 2px rgba(60, 64, 67, 0.3), 0px 1px 3px 1px rgba(60, 64, 67, 0.15);\n",
              "      fill: #174EA6;\n",
              "    }\n",
              "\n",
              "    [theme=dark] .colab-df-convert {\n",
              "      background-color: #3B4455;\n",
              "      fill: #D2E3FC;\n",
              "    }\n",
              "\n",
              "    [theme=dark] .colab-df-convert:hover {\n",
              "      background-color: #434B5C;\n",
              "      box-shadow: 0px 1px 3px 1px rgba(0, 0, 0, 0.15);\n",
              "      filter: drop-shadow(0px 1px 2px rgba(0, 0, 0, 0.3));\n",
              "      fill: #FFFFFF;\n",
              "    }\n",
              "  </style>\n",
              "\n",
              "      <script>\n",
              "        const buttonEl =\n",
              "          document.querySelector('#df-fa15ac36-8d97-4605-be0e-cf49d6dabad4 button.colab-df-convert');\n",
              "        buttonEl.style.display =\n",
              "          google.colab.kernel.accessAllowed ? 'block' : 'none';\n",
              "\n",
              "        async function convertToInteractive(key) {\n",
              "          const element = document.querySelector('#df-fa15ac36-8d97-4605-be0e-cf49d6dabad4');\n",
              "          const dataTable =\n",
              "            await google.colab.kernel.invokeFunction('convertToInteractive',\n",
              "                                                     [key], {});\n",
              "          if (!dataTable) return;\n",
              "\n",
              "          const docLinkHtml = 'Like what you see? Visit the ' +\n",
              "            '<a target=\"_blank\" href=https://colab.research.google.com/notebooks/data_table.ipynb>data table notebook</a>'\n",
              "            + ' to learn more about interactive tables.';\n",
              "          element.innerHTML = '';\n",
              "          dataTable['output_type'] = 'display_data';\n",
              "          await google.colab.output.renderOutput(dataTable, element);\n",
              "          const docLink = document.createElement('div');\n",
              "          docLink.innerHTML = docLinkHtml;\n",
              "          element.appendChild(docLink);\n",
              "        }\n",
              "      </script>\n",
              "    </div>\n",
              "  </div>\n",
              "  "
            ],
            "text/plain": [
              "        R-ref       G-ref  ...  Shad                                       Img\n",
              "0  240.689782  228.253497  ...    A1  8397A717-3D12-4648-BD3F-CE1F787AB8C2.png\n",
              "1  241.482032  229.891414  ...    A1  A9FD8AA5-8101-465A-B35F-6E192FDA7776.png\n",
              "2  240.742521  228.815559  ...    A1  D8B8E0A9-7FD9-444D-9917-BEC6A0BCA620.png\n",
              "3  238.366453  227.380439  ...    A1  B6F793CB-821E-4980-BE99-FEE76D08FC11.png\n",
              "4  238.000194  226.535062  ...    A1  DB93C8AE-E996-4EC9-9AD4-DBC68B6E726A.png\n",
              "\n",
              "[5 rows x 16 columns]"
            ]
          },
          "metadata": {},
          "execution_count": 363
        }
      ]
    },
    {
      "cell_type": "code",
      "source": [
        "table_C3Set2 = pd.read_excel(Set2, sheet_name='C3Set2')\n",
        "table_C3Set2.head()"
      ],
      "metadata": {
        "id": "byyaFBS-uK8b",
        "outputId": "f397fc47-27d0-48f5-b01c-3eaa8b27c196",
        "colab": {
          "base_uri": "https://localhost:8080/",
          "height": 0
        }
      },
      "execution_count": 364,
      "outputs": [
        {
          "output_type": "execute_result",
          "data": {
            "text/html": [
              "\n",
              "  <div id=\"df-889f4a80-d38f-48ec-ae2c-3f018791a9a6\">\n",
              "    <div class=\"colab-df-container\">\n",
              "      <div>\n",
              "<style scoped>\n",
              "    .dataframe tbody tr th:only-of-type {\n",
              "        vertical-align: middle;\n",
              "    }\n",
              "\n",
              "    .dataframe tbody tr th {\n",
              "        vertical-align: top;\n",
              "    }\n",
              "\n",
              "    .dataframe thead th {\n",
              "        text-align: right;\n",
              "    }\n",
              "</style>\n",
              "<table border=\"1\" class=\"dataframe\">\n",
              "  <thead>\n",
              "    <tr style=\"text-align: right;\">\n",
              "      <th></th>\n",
              "      <th>R-ref</th>\n",
              "      <th>G-ref</th>\n",
              "      <th>B-ref</th>\n",
              "      <th>R-Shad</th>\n",
              "      <th>G-Shad</th>\n",
              "      <th>B-Shad</th>\n",
              "      <th>H-ref</th>\n",
              "      <th>S-ref</th>\n",
              "      <th>V-ref</th>\n",
              "      <th>H-Shad</th>\n",
              "      <th>S-Shad</th>\n",
              "      <th>V-Shad</th>\n",
              "      <th>Setting</th>\n",
              "      <th>Ref</th>\n",
              "      <th>Shad</th>\n",
              "      <th>Img</th>\n",
              "    </tr>\n",
              "  </thead>\n",
              "  <tbody>\n",
              "    <tr>\n",
              "      <th>0</th>\n",
              "      <td>241.886752</td>\n",
              "      <td>229.539627</td>\n",
              "      <td>194.758353</td>\n",
              "      <td>232.801594</td>\n",
              "      <td>216.483551</td>\n",
              "      <td>175.844685</td>\n",
              "      <td>22.222611</td>\n",
              "      <td>49.799631</td>\n",
              "      <td>241.886752</td>\n",
              "      <td>21.663979</td>\n",
              "      <td>62.447225</td>\n",
              "      <td>232.801594</td>\n",
              "      <td>Set2</td>\n",
              "      <td>C3</td>\n",
              "      <td>A1</td>\n",
              "      <td>458C8A30-28C6-4609-91F0-D2469DFEDA5B.png</td>\n",
              "    </tr>\n",
              "    <tr>\n",
              "      <th>1</th>\n",
              "      <td>242.135781</td>\n",
              "      <td>229.859848</td>\n",
              "      <td>194.487082</td>\n",
              "      <td>232.920026</td>\n",
              "      <td>216.203410</td>\n",
              "      <td>174.735613</td>\n",
              "      <td>22.372960</td>\n",
              "      <td>50.312646</td>\n",
              "      <td>242.135781</td>\n",
              "      <td>21.584191</td>\n",
              "      <td>63.779817</td>\n",
              "      <td>232.920026</td>\n",
              "      <td>Set2</td>\n",
              "      <td>C3</td>\n",
              "      <td>A1</td>\n",
              "      <td>07704C9B-608B-41B4-A3A4-C6DF8E2A8EC4.png</td>\n",
              "    </tr>\n",
              "    <tr>\n",
              "      <th>2</th>\n",
              "      <td>242.884227</td>\n",
              "      <td>231.409771</td>\n",
              "      <td>198.796717</td>\n",
              "      <td>234.321750</td>\n",
              "      <td>218.636271</td>\n",
              "      <td>178.919841</td>\n",
              "      <td>22.467366</td>\n",
              "      <td>46.435800</td>\n",
              "      <td>242.890831</td>\n",
              "      <td>21.754703</td>\n",
              "      <td>60.344546</td>\n",
              "      <td>234.321750</td>\n",
              "      <td>Set2</td>\n",
              "      <td>C3</td>\n",
              "      <td>A1</td>\n",
              "      <td>945887F0-416B-4C86-B18E-603E66F21AC1.png</td>\n",
              "    </tr>\n",
              "    <tr>\n",
              "      <th>3</th>\n",
              "      <td>242.349359</td>\n",
              "      <td>230.585082</td>\n",
              "      <td>196.799922</td>\n",
              "      <td>233.973682</td>\n",
              "      <td>218.365490</td>\n",
              "      <td>178.417014</td>\n",
              "      <td>22.338772</td>\n",
              "      <td>48.023504</td>\n",
              "      <td>242.349359</td>\n",
              "      <td>21.821240</td>\n",
              "      <td>60.580947</td>\n",
              "      <td>233.973682</td>\n",
              "      <td>Set2</td>\n",
              "      <td>C3</td>\n",
              "      <td>A1</td>\n",
              "      <td>3B522047-038B-4387-9487-718BC435AF50.png</td>\n",
              "    </tr>\n",
              "    <tr>\n",
              "      <th>4</th>\n",
              "      <td>239.753497</td>\n",
              "      <td>228.713967</td>\n",
              "      <td>196.514569</td>\n",
              "      <td>230.413493</td>\n",
              "      <td>214.830229</td>\n",
              "      <td>175.105644</td>\n",
              "      <td>22.430458</td>\n",
              "      <td>46.089938</td>\n",
              "      <td>239.753594</td>\n",
              "      <td>21.777129</td>\n",
              "      <td>61.255491</td>\n",
              "      <td>230.413493</td>\n",
              "      <td>Set2</td>\n",
              "      <td>C3</td>\n",
              "      <td>A1</td>\n",
              "      <td>EC132633-69E1-4804-B8DA-446EFB6FF262.png</td>\n",
              "    </tr>\n",
              "  </tbody>\n",
              "</table>\n",
              "</div>\n",
              "      <button class=\"colab-df-convert\" onclick=\"convertToInteractive('df-889f4a80-d38f-48ec-ae2c-3f018791a9a6')\"\n",
              "              title=\"Convert this dataframe to an interactive table.\"\n",
              "              style=\"display:none;\">\n",
              "        \n",
              "  <svg xmlns=\"http://www.w3.org/2000/svg\" height=\"24px\"viewBox=\"0 0 24 24\"\n",
              "       width=\"24px\">\n",
              "    <path d=\"M0 0h24v24H0V0z\" fill=\"none\"/>\n",
              "    <path d=\"M18.56 5.44l.94 2.06.94-2.06 2.06-.94-2.06-.94-.94-2.06-.94 2.06-2.06.94zm-11 1L8.5 8.5l.94-2.06 2.06-.94-2.06-.94L8.5 2.5l-.94 2.06-2.06.94zm10 10l.94 2.06.94-2.06 2.06-.94-2.06-.94-.94-2.06-.94 2.06-2.06.94z\"/><path d=\"M17.41 7.96l-1.37-1.37c-.4-.4-.92-.59-1.43-.59-.52 0-1.04.2-1.43.59L10.3 9.45l-7.72 7.72c-.78.78-.78 2.05 0 2.83L4 21.41c.39.39.9.59 1.41.59.51 0 1.02-.2 1.41-.59l7.78-7.78 2.81-2.81c.8-.78.8-2.07 0-2.86zM5.41 20L4 18.59l7.72-7.72 1.47 1.35L5.41 20z\"/>\n",
              "  </svg>\n",
              "      </button>\n",
              "      \n",
              "  <style>\n",
              "    .colab-df-container {\n",
              "      display:flex;\n",
              "      flex-wrap:wrap;\n",
              "      gap: 12px;\n",
              "    }\n",
              "\n",
              "    .colab-df-convert {\n",
              "      background-color: #E8F0FE;\n",
              "      border: none;\n",
              "      border-radius: 50%;\n",
              "      cursor: pointer;\n",
              "      display: none;\n",
              "      fill: #1967D2;\n",
              "      height: 32px;\n",
              "      padding: 0 0 0 0;\n",
              "      width: 32px;\n",
              "    }\n",
              "\n",
              "    .colab-df-convert:hover {\n",
              "      background-color: #E2EBFA;\n",
              "      box-shadow: 0px 1px 2px rgba(60, 64, 67, 0.3), 0px 1px 3px 1px rgba(60, 64, 67, 0.15);\n",
              "      fill: #174EA6;\n",
              "    }\n",
              "\n",
              "    [theme=dark] .colab-df-convert {\n",
              "      background-color: #3B4455;\n",
              "      fill: #D2E3FC;\n",
              "    }\n",
              "\n",
              "    [theme=dark] .colab-df-convert:hover {\n",
              "      background-color: #434B5C;\n",
              "      box-shadow: 0px 1px 3px 1px rgba(0, 0, 0, 0.15);\n",
              "      filter: drop-shadow(0px 1px 2px rgba(0, 0, 0, 0.3));\n",
              "      fill: #FFFFFF;\n",
              "    }\n",
              "  </style>\n",
              "\n",
              "      <script>\n",
              "        const buttonEl =\n",
              "          document.querySelector('#df-889f4a80-d38f-48ec-ae2c-3f018791a9a6 button.colab-df-convert');\n",
              "        buttonEl.style.display =\n",
              "          google.colab.kernel.accessAllowed ? 'block' : 'none';\n",
              "\n",
              "        async function convertToInteractive(key) {\n",
              "          const element = document.querySelector('#df-889f4a80-d38f-48ec-ae2c-3f018791a9a6');\n",
              "          const dataTable =\n",
              "            await google.colab.kernel.invokeFunction('convertToInteractive',\n",
              "                                                     [key], {});\n",
              "          if (!dataTable) return;\n",
              "\n",
              "          const docLinkHtml = 'Like what you see? Visit the ' +\n",
              "            '<a target=\"_blank\" href=https://colab.research.google.com/notebooks/data_table.ipynb>data table notebook</a>'\n",
              "            + ' to learn more about interactive tables.';\n",
              "          element.innerHTML = '';\n",
              "          dataTable['output_type'] = 'display_data';\n",
              "          await google.colab.output.renderOutput(dataTable, element);\n",
              "          const docLink = document.createElement('div');\n",
              "          docLink.innerHTML = docLinkHtml;\n",
              "          element.appendChild(docLink);\n",
              "        }\n",
              "      </script>\n",
              "    </div>\n",
              "  </div>\n",
              "  "
            ],
            "text/plain": [
              "        R-ref       G-ref  ...  Shad                                       Img\n",
              "0  241.886752  229.539627  ...    A1  458C8A30-28C6-4609-91F0-D2469DFEDA5B.png\n",
              "1  242.135781  229.859848  ...    A1  07704C9B-608B-41B4-A3A4-C6DF8E2A8EC4.png\n",
              "2  242.884227  231.409771  ...    A1  945887F0-416B-4C86-B18E-603E66F21AC1.png\n",
              "3  242.349359  230.585082  ...    A1  3B522047-038B-4387-9487-718BC435AF50.png\n",
              "4  239.753497  228.713967  ...    A1  EC132633-69E1-4804-B8DA-446EFB6FF262.png\n",
              "\n",
              "[5 rows x 16 columns]"
            ]
          },
          "metadata": {},
          "execution_count": 364
        }
      ]
    },
    {
      "cell_type": "code",
      "source": [
        "table_C3Set3 = pd.read_excel(Set3, sheet_name='C3Set3 ')\n",
        "table_C3Set3.head()"
      ],
      "metadata": {
        "id": "fPxUFMwhuK8b",
        "outputId": "0759725a-0a5c-492f-b7e1-66b6e0cf1b4c",
        "colab": {
          "base_uri": "https://localhost:8080/",
          "height": 0
        }
      },
      "execution_count": 365,
      "outputs": [
        {
          "output_type": "execute_result",
          "data": {
            "text/html": [
              "\n",
              "  <div id=\"df-662cc70f-cf97-45eb-b8c3-f1ec058caae6\">\n",
              "    <div class=\"colab-df-container\">\n",
              "      <div>\n",
              "<style scoped>\n",
              "    .dataframe tbody tr th:only-of-type {\n",
              "        vertical-align: middle;\n",
              "    }\n",
              "\n",
              "    .dataframe tbody tr th {\n",
              "        vertical-align: top;\n",
              "    }\n",
              "\n",
              "    .dataframe thead th {\n",
              "        text-align: right;\n",
              "    }\n",
              "</style>\n",
              "<table border=\"1\" class=\"dataframe\">\n",
              "  <thead>\n",
              "    <tr style=\"text-align: right;\">\n",
              "      <th></th>\n",
              "      <th>R-ref</th>\n",
              "      <th>G-ref</th>\n",
              "      <th>B-ref</th>\n",
              "      <th>R-Shad</th>\n",
              "      <th>G-Shad</th>\n",
              "      <th>B-Shad</th>\n",
              "      <th>H-ref</th>\n",
              "      <th>S-ref</th>\n",
              "      <th>V-ref</th>\n",
              "      <th>H-Shad</th>\n",
              "      <th>S-Shad</th>\n",
              "      <th>V-Shad</th>\n",
              "      <th>Setting</th>\n",
              "      <th>Ref</th>\n",
              "      <th>Shad</th>\n",
              "      <th>Img</th>\n",
              "    </tr>\n",
              "  </thead>\n",
              "  <tbody>\n",
              "    <tr>\n",
              "      <th>0</th>\n",
              "      <td>240.434246</td>\n",
              "      <td>227.901127</td>\n",
              "      <td>193.160256</td>\n",
              "      <td>231.219442</td>\n",
              "      <td>214.290705</td>\n",
              "      <td>173.437031</td>\n",
              "      <td>22.124806</td>\n",
              "      <td>50.249029</td>\n",
              "      <td>240.434246</td>\n",
              "      <td>21.452692</td>\n",
              "      <td>63.792142</td>\n",
              "      <td>231.219442</td>\n",
              "      <td>Set3</td>\n",
              "      <td>C3</td>\n",
              "      <td>A1</td>\n",
              "      <td>3FC4EFF4-2124-46E0-8229-DA2B35001036.png</td>\n",
              "    </tr>\n",
              "    <tr>\n",
              "      <th>1</th>\n",
              "      <td>240.689782</td>\n",
              "      <td>228.253497</td>\n",
              "      <td>192.838772</td>\n",
              "      <td>231.039199</td>\n",
              "      <td>213.655176</td>\n",
              "      <td>171.713465</td>\n",
              "      <td>22.300117</td>\n",
              "      <td>50.826923</td>\n",
              "      <td>240.689782</td>\n",
              "      <td>21.347048</td>\n",
              "      <td>65.540358</td>\n",
              "      <td>231.039199</td>\n",
              "      <td>Set3</td>\n",
              "      <td>C3</td>\n",
              "      <td>A1</td>\n",
              "      <td>E523862E-01DF-42D9-93CB-972A4CA079DB.png</td>\n",
              "    </tr>\n",
              "    <tr>\n",
              "      <th>2</th>\n",
              "      <td>241.482032</td>\n",
              "      <td>229.891414</td>\n",
              "      <td>197.313131</td>\n",
              "      <td>232.626448</td>\n",
              "      <td>216.424613</td>\n",
              "      <td>176.563989</td>\n",
              "      <td>22.382382</td>\n",
              "      <td>46.802642</td>\n",
              "      <td>241.488636</td>\n",
              "      <td>21.568529</td>\n",
              "      <td>61.497452</td>\n",
              "      <td>232.626448</td>\n",
              "      <td>Set3</td>\n",
              "      <td>C3</td>\n",
              "      <td>A1</td>\n",
              "      <td>C69133CE-D8A7-45E8-AA2C-E958093BB83D.png</td>\n",
              "    </tr>\n",
              "    <tr>\n",
              "      <th>3</th>\n",
              "      <td>240.742521</td>\n",
              "      <td>228.815559</td>\n",
              "      <td>194.967463</td>\n",
              "      <td>232.497452</td>\n",
              "      <td>216.420628</td>\n",
              "      <td>176.211009</td>\n",
              "      <td>22.265831</td>\n",
              "      <td>48.576632</td>\n",
              "      <td>240.742521</td>\n",
              "      <td>21.680104</td>\n",
              "      <td>61.769345</td>\n",
              "      <td>232.497452</td>\n",
              "      <td>Set3</td>\n",
              "      <td>C3</td>\n",
              "      <td>A1</td>\n",
              "      <td>F9412807-4065-46FC-B596-D5BA2113D00B.png</td>\n",
              "    </tr>\n",
              "    <tr>\n",
              "      <th>4</th>\n",
              "      <td>238.366453</td>\n",
              "      <td>227.380439</td>\n",
              "      <td>195.708819</td>\n",
              "      <td>228.849597</td>\n",
              "      <td>212.813270</td>\n",
              "      <td>173.089241</td>\n",
              "      <td>22.340326</td>\n",
              "      <td>45.727758</td>\n",
              "      <td>238.366453</td>\n",
              "      <td>21.635808</td>\n",
              "      <td>62.176629</td>\n",
              "      <td>228.849597</td>\n",
              "      <td>Set3</td>\n",
              "      <td>C3</td>\n",
              "      <td>A1</td>\n",
              "      <td>8A94704C-925E-4B15-8701-ED2E2A7AE8F7.png</td>\n",
              "    </tr>\n",
              "  </tbody>\n",
              "</table>\n",
              "</div>\n",
              "      <button class=\"colab-df-convert\" onclick=\"convertToInteractive('df-662cc70f-cf97-45eb-b8c3-f1ec058caae6')\"\n",
              "              title=\"Convert this dataframe to an interactive table.\"\n",
              "              style=\"display:none;\">\n",
              "        \n",
              "  <svg xmlns=\"http://www.w3.org/2000/svg\" height=\"24px\"viewBox=\"0 0 24 24\"\n",
              "       width=\"24px\">\n",
              "    <path d=\"M0 0h24v24H0V0z\" fill=\"none\"/>\n",
              "    <path d=\"M18.56 5.44l.94 2.06.94-2.06 2.06-.94-2.06-.94-.94-2.06-.94 2.06-2.06.94zm-11 1L8.5 8.5l.94-2.06 2.06-.94-2.06-.94L8.5 2.5l-.94 2.06-2.06.94zm10 10l.94 2.06.94-2.06 2.06-.94-2.06-.94-.94-2.06-.94 2.06-2.06.94z\"/><path d=\"M17.41 7.96l-1.37-1.37c-.4-.4-.92-.59-1.43-.59-.52 0-1.04.2-1.43.59L10.3 9.45l-7.72 7.72c-.78.78-.78 2.05 0 2.83L4 21.41c.39.39.9.59 1.41.59.51 0 1.02-.2 1.41-.59l7.78-7.78 2.81-2.81c.8-.78.8-2.07 0-2.86zM5.41 20L4 18.59l7.72-7.72 1.47 1.35L5.41 20z\"/>\n",
              "  </svg>\n",
              "      </button>\n",
              "      \n",
              "  <style>\n",
              "    .colab-df-container {\n",
              "      display:flex;\n",
              "      flex-wrap:wrap;\n",
              "      gap: 12px;\n",
              "    }\n",
              "\n",
              "    .colab-df-convert {\n",
              "      background-color: #E8F0FE;\n",
              "      border: none;\n",
              "      border-radius: 50%;\n",
              "      cursor: pointer;\n",
              "      display: none;\n",
              "      fill: #1967D2;\n",
              "      height: 32px;\n",
              "      padding: 0 0 0 0;\n",
              "      width: 32px;\n",
              "    }\n",
              "\n",
              "    .colab-df-convert:hover {\n",
              "      background-color: #E2EBFA;\n",
              "      box-shadow: 0px 1px 2px rgba(60, 64, 67, 0.3), 0px 1px 3px 1px rgba(60, 64, 67, 0.15);\n",
              "      fill: #174EA6;\n",
              "    }\n",
              "\n",
              "    [theme=dark] .colab-df-convert {\n",
              "      background-color: #3B4455;\n",
              "      fill: #D2E3FC;\n",
              "    }\n",
              "\n",
              "    [theme=dark] .colab-df-convert:hover {\n",
              "      background-color: #434B5C;\n",
              "      box-shadow: 0px 1px 3px 1px rgba(0, 0, 0, 0.15);\n",
              "      filter: drop-shadow(0px 1px 2px rgba(0, 0, 0, 0.3));\n",
              "      fill: #FFFFFF;\n",
              "    }\n",
              "  </style>\n",
              "\n",
              "      <script>\n",
              "        const buttonEl =\n",
              "          document.querySelector('#df-662cc70f-cf97-45eb-b8c3-f1ec058caae6 button.colab-df-convert');\n",
              "        buttonEl.style.display =\n",
              "          google.colab.kernel.accessAllowed ? 'block' : 'none';\n",
              "\n",
              "        async function convertToInteractive(key) {\n",
              "          const element = document.querySelector('#df-662cc70f-cf97-45eb-b8c3-f1ec058caae6');\n",
              "          const dataTable =\n",
              "            await google.colab.kernel.invokeFunction('convertToInteractive',\n",
              "                                                     [key], {});\n",
              "          if (!dataTable) return;\n",
              "\n",
              "          const docLinkHtml = 'Like what you see? Visit the ' +\n",
              "            '<a target=\"_blank\" href=https://colab.research.google.com/notebooks/data_table.ipynb>data table notebook</a>'\n",
              "            + ' to learn more about interactive tables.';\n",
              "          element.innerHTML = '';\n",
              "          dataTable['output_type'] = 'display_data';\n",
              "          await google.colab.output.renderOutput(dataTable, element);\n",
              "          const docLink = document.createElement('div');\n",
              "          docLink.innerHTML = docLinkHtml;\n",
              "          element.appendChild(docLink);\n",
              "        }\n",
              "      </script>\n",
              "    </div>\n",
              "  </div>\n",
              "  "
            ],
            "text/plain": [
              "        R-ref       G-ref  ...  Shad                                       Img\n",
              "0  240.434246  227.901127  ...    A1  3FC4EFF4-2124-46E0-8229-DA2B35001036.png\n",
              "1  240.689782  228.253497  ...    A1  E523862E-01DF-42D9-93CB-972A4CA079DB.png\n",
              "2  241.482032  229.891414  ...    A1  C69133CE-D8A7-45E8-AA2C-E958093BB83D.png\n",
              "3  240.742521  228.815559  ...    A1  F9412807-4065-46FC-B596-D5BA2113D00B.png\n",
              "4  238.366453  227.380439  ...    A1  8A94704C-925E-4B15-8701-ED2E2A7AE8F7.png\n",
              "\n",
              "[5 rows x 16 columns]"
            ]
          },
          "metadata": {},
          "execution_count": 365
        }
      ]
    },
    {
      "cell_type": "code",
      "source": [
        "table_C3Set4 = pd.read_excel(Set4, sheet_name='C3Set4')\n",
        "table_C3Set4.head()"
      ],
      "metadata": {
        "id": "tRmqZ4pmuK8b",
        "outputId": "b9b41632-0d56-4a25-897c-051bacdcc452",
        "colab": {
          "base_uri": "https://localhost:8080/",
          "height": 0
        }
      },
      "execution_count": 366,
      "outputs": [
        {
          "output_type": "execute_result",
          "data": {
            "text/html": [
              "\n",
              "  <div id=\"df-61504da2-0f33-4759-8c76-ea0e7bd2d284\">\n",
              "    <div class=\"colab-df-container\">\n",
              "      <div>\n",
              "<style scoped>\n",
              "    .dataframe tbody tr th:only-of-type {\n",
              "        vertical-align: middle;\n",
              "    }\n",
              "\n",
              "    .dataframe tbody tr th {\n",
              "        vertical-align: top;\n",
              "    }\n",
              "\n",
              "    .dataframe thead th {\n",
              "        text-align: right;\n",
              "    }\n",
              "</style>\n",
              "<table border=\"1\" class=\"dataframe\">\n",
              "  <thead>\n",
              "    <tr style=\"text-align: right;\">\n",
              "      <th></th>\n",
              "      <th>R-ref</th>\n",
              "      <th>G-ref</th>\n",
              "      <th>B-ref</th>\n",
              "      <th>R-Shad</th>\n",
              "      <th>G-Shad</th>\n",
              "      <th>B-Shad</th>\n",
              "      <th>H-ref</th>\n",
              "      <th>S-ref</th>\n",
              "      <th>V-ref</th>\n",
              "      <th>H-Shad</th>\n",
              "      <th>S-Shad</th>\n",
              "      <th>V-Shad</th>\n",
              "      <th>Setting</th>\n",
              "      <th>Ref</th>\n",
              "      <th>Shad</th>\n",
              "      <th>Img</th>\n",
              "    </tr>\n",
              "  </thead>\n",
              "  <tbody>\n",
              "    <tr>\n",
              "      <th>0</th>\n",
              "      <td>239.236500</td>\n",
              "      <td>226.574106</td>\n",
              "      <td>192.074883</td>\n",
              "      <td>229.881753</td>\n",
              "      <td>212.417756</td>\n",
              "      <td>171.454267</td>\n",
              "      <td>22.014277</td>\n",
              "      <td>50.377622</td>\n",
              "      <td>239.236500</td>\n",
              "      <td>21.245390</td>\n",
              "      <td>64.893522</td>\n",
              "      <td>229.881753</td>\n",
              "      <td>Set4</td>\n",
              "      <td>C3</td>\n",
              "      <td>A1</td>\n",
              "      <td>D4EECEDB-5CA4-46C9-B28C-63893A5BAF78.png</td>\n",
              "    </tr>\n",
              "    <tr>\n",
              "      <th>1</th>\n",
              "      <td>239.455614</td>\n",
              "      <td>226.906080</td>\n",
              "      <td>191.725427</td>\n",
              "      <td>229.586322</td>\n",
              "      <td>211.631637</td>\n",
              "      <td>169.314151</td>\n",
              "      <td>22.211053</td>\n",
              "      <td>50.957459</td>\n",
              "      <td>239.455614</td>\n",
              "      <td>21.135947</td>\n",
              "      <td>66.991382</td>\n",
              "      <td>229.586322</td>\n",
              "      <td>Set4</td>\n",
              "      <td>C3</td>\n",
              "      <td>A1</td>\n",
              "      <td>E89E9E85-D827-4D54-98B4-0E0F3DD6FDD0.png</td>\n",
              "    </tr>\n",
              "    <tr>\n",
              "      <th>2</th>\n",
              "      <td>240.266900</td>\n",
              "      <td>228.472222</td>\n",
              "      <td>195.808858</td>\n",
              "      <td>231.276063</td>\n",
              "      <td>214.568437</td>\n",
              "      <td>174.635530</td>\n",
              "      <td>22.128788</td>\n",
              "      <td>47.320027</td>\n",
              "      <td>240.269134</td>\n",
              "      <td>21.363451</td>\n",
              "      <td>62.501622</td>\n",
              "      <td>231.276063</td>\n",
              "      <td>Set4</td>\n",
              "      <td>C3</td>\n",
              "      <td>A1</td>\n",
              "      <td>D1227CC3-C06E-4905-A0CF-6A7B8EEFC412.png</td>\n",
              "    </tr>\n",
              "    <tr>\n",
              "      <th>3</th>\n",
              "      <td>239.647145</td>\n",
              "      <td>227.612568</td>\n",
              "      <td>193.990579</td>\n",
              "      <td>231.185340</td>\n",
              "      <td>214.659902</td>\n",
              "      <td>174.247521</td>\n",
              "      <td>22.146465</td>\n",
              "      <td>48.670455</td>\n",
              "      <td>239.647145</td>\n",
              "      <td>21.524140</td>\n",
              "      <td>62.850338</td>\n",
              "      <td>231.185340</td>\n",
              "      <td>Set4</td>\n",
              "      <td>C3</td>\n",
              "      <td>A1</td>\n",
              "      <td>45839274-7758-459E-B7AB-079108195369.png</td>\n",
              "    </tr>\n",
              "    <tr>\n",
              "      <th>4</th>\n",
              "      <td>236.769231</td>\n",
              "      <td>226.019619</td>\n",
              "      <td>195.219406</td>\n",
              "      <td>227.309425</td>\n",
              "      <td>211.180521</td>\n",
              "      <td>171.918173</td>\n",
              "      <td>22.296037</td>\n",
              "      <td>44.837510</td>\n",
              "      <td>236.769231</td>\n",
              "      <td>21.509869</td>\n",
              "      <td>62.176721</td>\n",
              "      <td>227.309425</td>\n",
              "      <td>Set4</td>\n",
              "      <td>C3</td>\n",
              "      <td>A1</td>\n",
              "      <td>4B027C83-D177-47FD-BBAE-4F98F0F0B1F0.png</td>\n",
              "    </tr>\n",
              "  </tbody>\n",
              "</table>\n",
              "</div>\n",
              "      <button class=\"colab-df-convert\" onclick=\"convertToInteractive('df-61504da2-0f33-4759-8c76-ea0e7bd2d284')\"\n",
              "              title=\"Convert this dataframe to an interactive table.\"\n",
              "              style=\"display:none;\">\n",
              "        \n",
              "  <svg xmlns=\"http://www.w3.org/2000/svg\" height=\"24px\"viewBox=\"0 0 24 24\"\n",
              "       width=\"24px\">\n",
              "    <path d=\"M0 0h24v24H0V0z\" fill=\"none\"/>\n",
              "    <path d=\"M18.56 5.44l.94 2.06.94-2.06 2.06-.94-2.06-.94-.94-2.06-.94 2.06-2.06.94zm-11 1L8.5 8.5l.94-2.06 2.06-.94-2.06-.94L8.5 2.5l-.94 2.06-2.06.94zm10 10l.94 2.06.94-2.06 2.06-.94-2.06-.94-.94-2.06-.94 2.06-2.06.94z\"/><path d=\"M17.41 7.96l-1.37-1.37c-.4-.4-.92-.59-1.43-.59-.52 0-1.04.2-1.43.59L10.3 9.45l-7.72 7.72c-.78.78-.78 2.05 0 2.83L4 21.41c.39.39.9.59 1.41.59.51 0 1.02-.2 1.41-.59l7.78-7.78 2.81-2.81c.8-.78.8-2.07 0-2.86zM5.41 20L4 18.59l7.72-7.72 1.47 1.35L5.41 20z\"/>\n",
              "  </svg>\n",
              "      </button>\n",
              "      \n",
              "  <style>\n",
              "    .colab-df-container {\n",
              "      display:flex;\n",
              "      flex-wrap:wrap;\n",
              "      gap: 12px;\n",
              "    }\n",
              "\n",
              "    .colab-df-convert {\n",
              "      background-color: #E8F0FE;\n",
              "      border: none;\n",
              "      border-radius: 50%;\n",
              "      cursor: pointer;\n",
              "      display: none;\n",
              "      fill: #1967D2;\n",
              "      height: 32px;\n",
              "      padding: 0 0 0 0;\n",
              "      width: 32px;\n",
              "    }\n",
              "\n",
              "    .colab-df-convert:hover {\n",
              "      background-color: #E2EBFA;\n",
              "      box-shadow: 0px 1px 2px rgba(60, 64, 67, 0.3), 0px 1px 3px 1px rgba(60, 64, 67, 0.15);\n",
              "      fill: #174EA6;\n",
              "    }\n",
              "\n",
              "    [theme=dark] .colab-df-convert {\n",
              "      background-color: #3B4455;\n",
              "      fill: #D2E3FC;\n",
              "    }\n",
              "\n",
              "    [theme=dark] .colab-df-convert:hover {\n",
              "      background-color: #434B5C;\n",
              "      box-shadow: 0px 1px 3px 1px rgba(0, 0, 0, 0.15);\n",
              "      filter: drop-shadow(0px 1px 2px rgba(0, 0, 0, 0.3));\n",
              "      fill: #FFFFFF;\n",
              "    }\n",
              "  </style>\n",
              "\n",
              "      <script>\n",
              "        const buttonEl =\n",
              "          document.querySelector('#df-61504da2-0f33-4759-8c76-ea0e7bd2d284 button.colab-df-convert');\n",
              "        buttonEl.style.display =\n",
              "          google.colab.kernel.accessAllowed ? 'block' : 'none';\n",
              "\n",
              "        async function convertToInteractive(key) {\n",
              "          const element = document.querySelector('#df-61504da2-0f33-4759-8c76-ea0e7bd2d284');\n",
              "          const dataTable =\n",
              "            await google.colab.kernel.invokeFunction('convertToInteractive',\n",
              "                                                     [key], {});\n",
              "          if (!dataTable) return;\n",
              "\n",
              "          const docLinkHtml = 'Like what you see? Visit the ' +\n",
              "            '<a target=\"_blank\" href=https://colab.research.google.com/notebooks/data_table.ipynb>data table notebook</a>'\n",
              "            + ' to learn more about interactive tables.';\n",
              "          element.innerHTML = '';\n",
              "          dataTable['output_type'] = 'display_data';\n",
              "          await google.colab.output.renderOutput(dataTable, element);\n",
              "          const docLink = document.createElement('div');\n",
              "          docLink.innerHTML = docLinkHtml;\n",
              "          element.appendChild(docLink);\n",
              "        }\n",
              "      </script>\n",
              "    </div>\n",
              "  </div>\n",
              "  "
            ],
            "text/plain": [
              "        R-ref       G-ref  ...  Shad                                       Img\n",
              "0  239.236500  226.574106  ...    A1  D4EECEDB-5CA4-46C9-B28C-63893A5BAF78.png\n",
              "1  239.455614  226.906080  ...    A1  E89E9E85-D827-4D54-98B4-0E0F3DD6FDD0.png\n",
              "2  240.266900  228.472222  ...    A1  D1227CC3-C06E-4905-A0CF-6A7B8EEFC412.png\n",
              "3  239.647145  227.612568  ...    A1  45839274-7758-459E-B7AB-079108195369.png\n",
              "4  236.769231  226.019619  ...    A1  4B027C83-D177-47FD-BBAE-4F98F0F0B1F0.png\n",
              "\n",
              "[5 rows x 16 columns]"
            ]
          },
          "metadata": {},
          "execution_count": 366
        }
      ]
    },
    {
      "cell_type": "markdown",
      "source": [
        "###RGB"
      ],
      "metadata": {
        "id": "livhC8UguK8b"
      }
    },
    {
      "cell_type": "code",
      "source": [
        "RGB_C3_Set4 = table_C3Set4"
      ],
      "metadata": {
        "id": "ISqB5DK5uK8b"
      },
      "execution_count": 367,
      "outputs": []
    },
    {
      "cell_type": "code",
      "source": [
        "RGB_C3_Set1 = table_C3Set1"
      ],
      "metadata": {
        "id": "94holi5juK8b"
      },
      "execution_count": 368,
      "outputs": []
    },
    {
      "cell_type": "code",
      "source": [
        "RGB_C3_Set2 = table_C3Set2"
      ],
      "metadata": {
        "id": "rd5aty03uK8b"
      },
      "execution_count": 369,
      "outputs": []
    },
    {
      "cell_type": "code",
      "source": [
        "RGB_C3_Set3 = table_C3Set3"
      ],
      "metadata": {
        "id": "CN8G0fuOuK8b"
      },
      "execution_count": 370,
      "outputs": []
    },
    {
      "cell_type": "code",
      "source": [
        "RGB_C3_concat = pd.concat([RGB_C3_Set1,RGB_C3_Set2])"
      ],
      "metadata": {
        "id": "r7LNSF_mr2jg"
      },
      "execution_count": 371,
      "outputs": []
    },
    {
      "cell_type": "code",
      "source": [
        "RGB_C3_concat0 = pd.concat([RGB_C3_concat,RGB_C3_Set4])"
      ],
      "metadata": {
        "id": "XpiJwgBHuK8c"
      },
      "execution_count": 372,
      "outputs": []
    },
    {
      "cell_type": "code",
      "source": [
        "RGB_C3_concat1 = pd.concat([RGB_C3_concat0,RGB_C3_Set3])"
      ],
      "metadata": {
        "id": "0XRtLNhpuK8c"
      },
      "execution_count": 373,
      "outputs": []
    },
    {
      "cell_type": "code",
      "source": [
        "RGB_C3_concat2 = RGB_C3_concat1.drop(['H-ref','S-ref','V-ref','H-Shad','S-Shad','V-Shad','Setting','Ref','Shad','Img'], axis=1)"
      ],
      "metadata": {
        "id": "APEofv4juK8c"
      },
      "execution_count": 374,
      "outputs": []
    },
    {
      "cell_type": "code",
      "source": [
        "X_test_C3_RGB = np.array(RGB_D3_CC1)"
      ],
      "metadata": {
        "id": "BSMKHBOiuK8c"
      },
      "execution_count": 375,
      "outputs": []
    },
    {
      "cell_type": "code",
      "source": [
        "y_C3_RGB =  table_D3CC1.iloc[:,14:15]"
      ],
      "metadata": {
        "id": "6ewQAsdKuK8c"
      },
      "execution_count": 376,
      "outputs": []
    },
    {
      "cell_type": "code",
      "source": [
        "y_test_C3_RGB = np.array(y_C3_RGB)"
      ],
      "metadata": {
        "id": "MzpREteZuK8c"
      },
      "execution_count": 377,
      "outputs": []
    },
    {
      "cell_type": "code",
      "source": [
        "X_train_C3_RGB = np.array(RGB_C3_concat2)"
      ],
      "metadata": {
        "id": "fGl85QjvuK8c"
      },
      "execution_count": 378,
      "outputs": []
    },
    {
      "cell_type": "code",
      "source": [
        "y_train_C3RGB = RGB_C3_concat1.iloc[:,14:15]"
      ],
      "metadata": {
        "id": "fA9e3KQDuK8c"
      },
      "execution_count": 379,
      "outputs": []
    },
    {
      "cell_type": "code",
      "source": [
        "y_train_C3_RGB = np.array(y_train_C3RGB)"
      ],
      "metadata": {
        "id": "A6g2ijSwuK8c"
      },
      "execution_count": 380,
      "outputs": []
    },
    {
      "cell_type": "code",
      "source": [
        "clf.fit(X_train_C3_RGB, y_train_C3_RGB)"
      ],
      "metadata": {
        "id": "2mTRXAEBuK8c",
        "outputId": "f443612c-aaa7-4ef4-ca96-809ac17b9b6b",
        "colab": {
          "base_uri": "https://localhost:8080/"
        }
      },
      "execution_count": 381,
      "outputs": [
        {
          "output_type": "stream",
          "name": "stderr",
          "text": [
            "/usr/local/lib/python3.7/dist-packages/ipykernel_launcher.py:1: DataConversionWarning: A column-vector y was passed when a 1d array was expected. Please change the shape of y to (n_samples,), for example using ravel().\n",
            "  \"\"\"Entry point for launching an IPython kernel.\n"
          ]
        },
        {
          "output_type": "execute_result",
          "data": {
            "text/plain": [
              "RandomForestClassifier()"
            ]
          },
          "metadata": {},
          "execution_count": 381
        }
      ]
    },
    {
      "cell_type": "code",
      "source": [
        "y_pred_C3_RGB = clf.predict(X_test_C3_RGB)"
      ],
      "metadata": {
        "id": "zhWYBiVsuK8d"
      },
      "execution_count": 382,
      "outputs": []
    },
    {
      "cell_type": "code",
      "source": [
        "print(\"Accuracy:\", metrics.accuracy_score(y_test_C3_RGB, y_pred_C3_RGB))"
      ],
      "metadata": {
        "id": "QXKAW4-FuK8d",
        "outputId": "f92a00e0-8558-481f-c2b9-50205d29cadf",
        "colab": {
          "base_uri": "https://localhost:8080/"
        }
      },
      "execution_count": 383,
      "outputs": [
        {
          "output_type": "stream",
          "name": "stdout",
          "text": [
            "Accuracy: 0.10125\n"
          ]
        }
      ]
    },
    {
      "cell_type": "markdown",
      "source": [
        "###HSV"
      ],
      "metadata": {
        "id": "Tcn_9zpPuK8d"
      }
    },
    {
      "cell_type": "code",
      "source": [
        "HSV_C3_concat2 = RGB_C3_concat1.drop(['R-ref','G-ref','B-ref','R-Shad','G-Shad','B-Shad','Setting','Ref','Shad','Img'], axis=1)"
      ],
      "metadata": {
        "id": "_ffYkSLwuK8d"
      },
      "execution_count": 384,
      "outputs": []
    },
    {
      "cell_type": "code",
      "source": [
        "X_test_C3_HSV = np.array(HSV_D3_CC1)"
      ],
      "metadata": {
        "id": "_V99mUp2uK8d"
      },
      "execution_count": 385,
      "outputs": []
    },
    {
      "cell_type": "code",
      "source": [
        "y_C3_HSV =  table_D3CC1.iloc[:,14:15]"
      ],
      "metadata": {
        "id": "_mqy3vKjuK8d"
      },
      "execution_count": 386,
      "outputs": []
    },
    {
      "cell_type": "code",
      "source": [
        "y_test_C3_HSV = np.array(y_C3_RGB)"
      ],
      "metadata": {
        "id": "nqroCQSCuK8d"
      },
      "execution_count": 387,
      "outputs": []
    },
    {
      "cell_type": "code",
      "source": [
        "X_train_C3_HSV = np.array(HSV_C3_concat2)"
      ],
      "metadata": {
        "id": "eaij-4V_uK8d"
      },
      "execution_count": 388,
      "outputs": []
    },
    {
      "cell_type": "code",
      "source": [
        "y_train_C3HSV = RGB_C3_concat1.iloc[:,14:15]"
      ],
      "metadata": {
        "id": "SNbPbhi0uK8d"
      },
      "execution_count": 389,
      "outputs": []
    },
    {
      "cell_type": "code",
      "source": [
        "y_train_C3_HSV = np.array(y_train_C3HSV)"
      ],
      "metadata": {
        "id": "ymd4fVW3uK8d"
      },
      "execution_count": 390,
      "outputs": []
    },
    {
      "cell_type": "code",
      "source": [
        "clf.fit(X_train_C3_HSV, y_train_C3_HSV)"
      ],
      "metadata": {
        "id": "G2xivXIyuK8e",
        "outputId": "23f509e1-51b8-4286-a491-601caaf82691",
        "colab": {
          "base_uri": "https://localhost:8080/"
        }
      },
      "execution_count": 391,
      "outputs": [
        {
          "output_type": "stream",
          "name": "stderr",
          "text": [
            "/usr/local/lib/python3.7/dist-packages/ipykernel_launcher.py:1: DataConversionWarning: A column-vector y was passed when a 1d array was expected. Please change the shape of y to (n_samples,), for example using ravel().\n",
            "  \"\"\"Entry point for launching an IPython kernel.\n"
          ]
        },
        {
          "output_type": "execute_result",
          "data": {
            "text/plain": [
              "RandomForestClassifier()"
            ]
          },
          "metadata": {},
          "execution_count": 391
        }
      ]
    },
    {
      "cell_type": "code",
      "source": [
        "y_pred_C3_HSV = clf.predict(X_test_C3_HSV)"
      ],
      "metadata": {
        "id": "_c_42BEKuK8e"
      },
      "execution_count": 392,
      "outputs": []
    },
    {
      "cell_type": "code",
      "source": [
        "print(\"Accuracy:\", metrics.accuracy_score(y_test_C3_HSV, y_pred_C3_HSV))"
      ],
      "metadata": {
        "id": "fnMe2K_VuK8e",
        "outputId": "fba459af-b249-47c0-f83e-75f1de13d002",
        "colab": {
          "base_uri": "https://localhost:8080/"
        }
      },
      "execution_count": 393,
      "outputs": [
        {
          "output_type": "stream",
          "name": "stdout",
          "text": [
            "Accuracy: 0.0625\n"
          ]
        }
      ]
    },
    {
      "cell_type": "markdown",
      "source": [
        "##C4"
      ],
      "metadata": {
        "id": "qWONdRUpuK8e"
      }
    },
    {
      "cell_type": "code",
      "source": [
        "table_C4Set1 = pd.read_excel(Set1 , sheet_name='C4Set1')\n",
        "table_C4Set1.head()"
      ],
      "metadata": {
        "id": "BtGs5Fi7uK8e",
        "outputId": "16c48b58-19e2-41d7-e448-ab2b5fd5086d",
        "colab": {
          "base_uri": "https://localhost:8080/",
          "height": 0
        }
      },
      "execution_count": 394,
      "outputs": [
        {
          "output_type": "execute_result",
          "data": {
            "text/html": [
              "\n",
              "  <div id=\"df-dda90104-3f50-4217-8d29-c3d77f75b407\">\n",
              "    <div class=\"colab-df-container\">\n",
              "      <div>\n",
              "<style scoped>\n",
              "    .dataframe tbody tr th:only-of-type {\n",
              "        vertical-align: middle;\n",
              "    }\n",
              "\n",
              "    .dataframe tbody tr th {\n",
              "        vertical-align: top;\n",
              "    }\n",
              "\n",
              "    .dataframe thead th {\n",
              "        text-align: right;\n",
              "    }\n",
              "</style>\n",
              "<table border=\"1\" class=\"dataframe\">\n",
              "  <thead>\n",
              "    <tr style=\"text-align: right;\">\n",
              "      <th></th>\n",
              "      <th>R-ref</th>\n",
              "      <th>G-ref</th>\n",
              "      <th>B-ref</th>\n",
              "      <th>R-Shad</th>\n",
              "      <th>G-Shad</th>\n",
              "      <th>B-Shad</th>\n",
              "      <th>H-ref</th>\n",
              "      <th>S-ref</th>\n",
              "      <th>V-ref</th>\n",
              "      <th>H-Shad</th>\n",
              "      <th>S-Shad</th>\n",
              "      <th>V-Shad</th>\n",
              "      <th>Setting</th>\n",
              "      <th>Ref</th>\n",
              "      <th>Shad</th>\n",
              "      <th>Img</th>\n",
              "    </tr>\n",
              "  </thead>\n",
              "  <tbody>\n",
              "    <tr>\n",
              "      <th>0</th>\n",
              "      <td>240.689782</td>\n",
              "      <td>228.253497</td>\n",
              "      <td>192.838772</td>\n",
              "      <td>231.039199</td>\n",
              "      <td>213.655176</td>\n",
              "      <td>171.713465</td>\n",
              "      <td>22.300117</td>\n",
              "      <td>50.826923</td>\n",
              "      <td>240.689782</td>\n",
              "      <td>21.347048</td>\n",
              "      <td>65.540358</td>\n",
              "      <td>231.039199</td>\n",
              "      <td>Set1</td>\n",
              "      <td>C3</td>\n",
              "      <td>A1</td>\n",
              "      <td>8397A717-3D12-4648-BD3F-CE1F787AB8C2.png</td>\n",
              "    </tr>\n",
              "    <tr>\n",
              "      <th>1</th>\n",
              "      <td>241.482032</td>\n",
              "      <td>229.891414</td>\n",
              "      <td>197.313131</td>\n",
              "      <td>232.626448</td>\n",
              "      <td>216.424613</td>\n",
              "      <td>176.563989</td>\n",
              "      <td>22.382382</td>\n",
              "      <td>46.802642</td>\n",
              "      <td>241.488636</td>\n",
              "      <td>21.568529</td>\n",
              "      <td>61.497452</td>\n",
              "      <td>232.626448</td>\n",
              "      <td>Set1</td>\n",
              "      <td>C3</td>\n",
              "      <td>A1</td>\n",
              "      <td>A9FD8AA5-8101-465A-B35F-6E192FDA7776.png</td>\n",
              "    </tr>\n",
              "    <tr>\n",
              "      <th>2</th>\n",
              "      <td>240.742521</td>\n",
              "      <td>228.815559</td>\n",
              "      <td>194.967463</td>\n",
              "      <td>232.497452</td>\n",
              "      <td>216.420628</td>\n",
              "      <td>176.211009</td>\n",
              "      <td>22.265831</td>\n",
              "      <td>48.576632</td>\n",
              "      <td>240.742521</td>\n",
              "      <td>21.680104</td>\n",
              "      <td>61.769345</td>\n",
              "      <td>232.497452</td>\n",
              "      <td>Set1</td>\n",
              "      <td>C3</td>\n",
              "      <td>A1</td>\n",
              "      <td>D8B8E0A9-7FD9-444D-9917-BEC6A0BCA620.png</td>\n",
              "    </tr>\n",
              "    <tr>\n",
              "      <th>3</th>\n",
              "      <td>238.366453</td>\n",
              "      <td>227.380439</td>\n",
              "      <td>195.708819</td>\n",
              "      <td>228.849597</td>\n",
              "      <td>212.813270</td>\n",
              "      <td>173.089241</td>\n",
              "      <td>22.340326</td>\n",
              "      <td>45.727758</td>\n",
              "      <td>238.366453</td>\n",
              "      <td>21.635808</td>\n",
              "      <td>62.176629</td>\n",
              "      <td>228.849597</td>\n",
              "      <td>Set1</td>\n",
              "      <td>C3</td>\n",
              "      <td>A1</td>\n",
              "      <td>B6F793CB-821E-4980-BE99-FEE76D08FC11.png</td>\n",
              "    </tr>\n",
              "    <tr>\n",
              "      <th>4</th>\n",
              "      <td>238.000194</td>\n",
              "      <td>226.535062</td>\n",
              "      <td>193.909771</td>\n",
              "      <td>228.701418</td>\n",
              "      <td>211.773330</td>\n",
              "      <td>171.758966</td>\n",
              "      <td>22.287296</td>\n",
              "      <td>47.344891</td>\n",
              "      <td>238.000194</td>\n",
              "      <td>21.286628</td>\n",
              "      <td>63.564915</td>\n",
              "      <td>228.701418</td>\n",
              "      <td>Set1</td>\n",
              "      <td>C3</td>\n",
              "      <td>A1</td>\n",
              "      <td>DB93C8AE-E996-4EC9-9AD4-DBC68B6E726A.png</td>\n",
              "    </tr>\n",
              "  </tbody>\n",
              "</table>\n",
              "</div>\n",
              "      <button class=\"colab-df-convert\" onclick=\"convertToInteractive('df-dda90104-3f50-4217-8d29-c3d77f75b407')\"\n",
              "              title=\"Convert this dataframe to an interactive table.\"\n",
              "              style=\"display:none;\">\n",
              "        \n",
              "  <svg xmlns=\"http://www.w3.org/2000/svg\" height=\"24px\"viewBox=\"0 0 24 24\"\n",
              "       width=\"24px\">\n",
              "    <path d=\"M0 0h24v24H0V0z\" fill=\"none\"/>\n",
              "    <path d=\"M18.56 5.44l.94 2.06.94-2.06 2.06-.94-2.06-.94-.94-2.06-.94 2.06-2.06.94zm-11 1L8.5 8.5l.94-2.06 2.06-.94-2.06-.94L8.5 2.5l-.94 2.06-2.06.94zm10 10l.94 2.06.94-2.06 2.06-.94-2.06-.94-.94-2.06-.94 2.06-2.06.94z\"/><path d=\"M17.41 7.96l-1.37-1.37c-.4-.4-.92-.59-1.43-.59-.52 0-1.04.2-1.43.59L10.3 9.45l-7.72 7.72c-.78.78-.78 2.05 0 2.83L4 21.41c.39.39.9.59 1.41.59.51 0 1.02-.2 1.41-.59l7.78-7.78 2.81-2.81c.8-.78.8-2.07 0-2.86zM5.41 20L4 18.59l7.72-7.72 1.47 1.35L5.41 20z\"/>\n",
              "  </svg>\n",
              "      </button>\n",
              "      \n",
              "  <style>\n",
              "    .colab-df-container {\n",
              "      display:flex;\n",
              "      flex-wrap:wrap;\n",
              "      gap: 12px;\n",
              "    }\n",
              "\n",
              "    .colab-df-convert {\n",
              "      background-color: #E8F0FE;\n",
              "      border: none;\n",
              "      border-radius: 50%;\n",
              "      cursor: pointer;\n",
              "      display: none;\n",
              "      fill: #1967D2;\n",
              "      height: 32px;\n",
              "      padding: 0 0 0 0;\n",
              "      width: 32px;\n",
              "    }\n",
              "\n",
              "    .colab-df-convert:hover {\n",
              "      background-color: #E2EBFA;\n",
              "      box-shadow: 0px 1px 2px rgba(60, 64, 67, 0.3), 0px 1px 3px 1px rgba(60, 64, 67, 0.15);\n",
              "      fill: #174EA6;\n",
              "    }\n",
              "\n",
              "    [theme=dark] .colab-df-convert {\n",
              "      background-color: #3B4455;\n",
              "      fill: #D2E3FC;\n",
              "    }\n",
              "\n",
              "    [theme=dark] .colab-df-convert:hover {\n",
              "      background-color: #434B5C;\n",
              "      box-shadow: 0px 1px 3px 1px rgba(0, 0, 0, 0.15);\n",
              "      filter: drop-shadow(0px 1px 2px rgba(0, 0, 0, 0.3));\n",
              "      fill: #FFFFFF;\n",
              "    }\n",
              "  </style>\n",
              "\n",
              "      <script>\n",
              "        const buttonEl =\n",
              "          document.querySelector('#df-dda90104-3f50-4217-8d29-c3d77f75b407 button.colab-df-convert');\n",
              "        buttonEl.style.display =\n",
              "          google.colab.kernel.accessAllowed ? 'block' : 'none';\n",
              "\n",
              "        async function convertToInteractive(key) {\n",
              "          const element = document.querySelector('#df-dda90104-3f50-4217-8d29-c3d77f75b407');\n",
              "          const dataTable =\n",
              "            await google.colab.kernel.invokeFunction('convertToInteractive',\n",
              "                                                     [key], {});\n",
              "          if (!dataTable) return;\n",
              "\n",
              "          const docLinkHtml = 'Like what you see? Visit the ' +\n",
              "            '<a target=\"_blank\" href=https://colab.research.google.com/notebooks/data_table.ipynb>data table notebook</a>'\n",
              "            + ' to learn more about interactive tables.';\n",
              "          element.innerHTML = '';\n",
              "          dataTable['output_type'] = 'display_data';\n",
              "          await google.colab.output.renderOutput(dataTable, element);\n",
              "          const docLink = document.createElement('div');\n",
              "          docLink.innerHTML = docLinkHtml;\n",
              "          element.appendChild(docLink);\n",
              "        }\n",
              "      </script>\n",
              "    </div>\n",
              "  </div>\n",
              "  "
            ],
            "text/plain": [
              "        R-ref       G-ref  ...  Shad                                       Img\n",
              "0  240.689782  228.253497  ...    A1  8397A717-3D12-4648-BD3F-CE1F787AB8C2.png\n",
              "1  241.482032  229.891414  ...    A1  A9FD8AA5-8101-465A-B35F-6E192FDA7776.png\n",
              "2  240.742521  228.815559  ...    A1  D8B8E0A9-7FD9-444D-9917-BEC6A0BCA620.png\n",
              "3  238.366453  227.380439  ...    A1  B6F793CB-821E-4980-BE99-FEE76D08FC11.png\n",
              "4  238.000194  226.535062  ...    A1  DB93C8AE-E996-4EC9-9AD4-DBC68B6E726A.png\n",
              "\n",
              "[5 rows x 16 columns]"
            ]
          },
          "metadata": {},
          "execution_count": 394
        }
      ]
    },
    {
      "cell_type": "code",
      "source": [
        "table_C4Set2 = pd.read_excel(Set2, sheet_name='C4Set2')\n",
        "table_C4Set2.head()"
      ],
      "metadata": {
        "id": "peqjPpZvuK8e",
        "outputId": "1903b542-bcaa-408d-c4a8-48bd71c6f389",
        "colab": {
          "base_uri": "https://localhost:8080/",
          "height": 0
        }
      },
      "execution_count": 395,
      "outputs": [
        {
          "output_type": "execute_result",
          "data": {
            "text/html": [
              "\n",
              "  <div id=\"df-c45f11a5-0035-4948-9afb-8e136e5a75d9\">\n",
              "    <div class=\"colab-df-container\">\n",
              "      <div>\n",
              "<style scoped>\n",
              "    .dataframe tbody tr th:only-of-type {\n",
              "        vertical-align: middle;\n",
              "    }\n",
              "\n",
              "    .dataframe tbody tr th {\n",
              "        vertical-align: top;\n",
              "    }\n",
              "\n",
              "    .dataframe thead th {\n",
              "        text-align: right;\n",
              "    }\n",
              "</style>\n",
              "<table border=\"1\" class=\"dataframe\">\n",
              "  <thead>\n",
              "    <tr style=\"text-align: right;\">\n",
              "      <th></th>\n",
              "      <th>R-ref</th>\n",
              "      <th>G-ref</th>\n",
              "      <th>B-ref</th>\n",
              "      <th>R-Shad</th>\n",
              "      <th>G-Shad</th>\n",
              "      <th>B-Shad</th>\n",
              "      <th>H-ref</th>\n",
              "      <th>S-ref</th>\n",
              "      <th>V-ref</th>\n",
              "      <th>H-Shad</th>\n",
              "      <th>S-Shad</th>\n",
              "      <th>V-Shad</th>\n",
              "      <th>Setting</th>\n",
              "      <th>Ref</th>\n",
              "      <th>Shad</th>\n",
              "      <th>Img</th>\n",
              "    </tr>\n",
              "  </thead>\n",
              "  <tbody>\n",
              "    <tr>\n",
              "      <th>0</th>\n",
              "      <td>240.434246</td>\n",
              "      <td>227.901127</td>\n",
              "      <td>193.160256</td>\n",
              "      <td>231.219442</td>\n",
              "      <td>214.290705</td>\n",
              "      <td>173.437031</td>\n",
              "      <td>22.124806</td>\n",
              "      <td>50.249029</td>\n",
              "      <td>240.434246</td>\n",
              "      <td>21.452692</td>\n",
              "      <td>63.792142</td>\n",
              "      <td>231.219442</td>\n",
              "      <td>Set2</td>\n",
              "      <td>C4</td>\n",
              "      <td>A1</td>\n",
              "      <td>D458FCD6-5D52-48CD-B212-68184F5B135C.png</td>\n",
              "    </tr>\n",
              "    <tr>\n",
              "      <th>1</th>\n",
              "      <td>240.689782</td>\n",
              "      <td>228.253497</td>\n",
              "      <td>192.838772</td>\n",
              "      <td>231.039199</td>\n",
              "      <td>213.655176</td>\n",
              "      <td>171.713465</td>\n",
              "      <td>22.300117</td>\n",
              "      <td>50.826923</td>\n",
              "      <td>240.689782</td>\n",
              "      <td>21.347048</td>\n",
              "      <td>65.540358</td>\n",
              "      <td>231.039199</td>\n",
              "      <td>Set2</td>\n",
              "      <td>C4</td>\n",
              "      <td>A1</td>\n",
              "      <td>0316EB79-14E9-4056-93AC-80D4D57B3DE1.png</td>\n",
              "    </tr>\n",
              "    <tr>\n",
              "      <th>2</th>\n",
              "      <td>241.482032</td>\n",
              "      <td>229.891414</td>\n",
              "      <td>197.313131</td>\n",
              "      <td>232.626448</td>\n",
              "      <td>216.424613</td>\n",
              "      <td>176.563989</td>\n",
              "      <td>22.382382</td>\n",
              "      <td>46.802642</td>\n",
              "      <td>241.488636</td>\n",
              "      <td>21.568529</td>\n",
              "      <td>61.497452</td>\n",
              "      <td>232.626448</td>\n",
              "      <td>Set2</td>\n",
              "      <td>C4</td>\n",
              "      <td>A1</td>\n",
              "      <td>EEF2F908-CA38-4AFA-AB84-8C1A9D2E54CC.png</td>\n",
              "    </tr>\n",
              "    <tr>\n",
              "      <th>3</th>\n",
              "      <td>240.742521</td>\n",
              "      <td>228.815559</td>\n",
              "      <td>194.967463</td>\n",
              "      <td>232.497452</td>\n",
              "      <td>216.420628</td>\n",
              "      <td>176.211009</td>\n",
              "      <td>22.265831</td>\n",
              "      <td>48.576632</td>\n",
              "      <td>240.742521</td>\n",
              "      <td>21.680104</td>\n",
              "      <td>61.769345</td>\n",
              "      <td>232.497452</td>\n",
              "      <td>Set2</td>\n",
              "      <td>C4</td>\n",
              "      <td>A1</td>\n",
              "      <td>1EA15613-AACE-4B44-A2A5-F480B1A912C4.png</td>\n",
              "    </tr>\n",
              "    <tr>\n",
              "      <th>4</th>\n",
              "      <td>238.366453</td>\n",
              "      <td>227.380439</td>\n",
              "      <td>195.708819</td>\n",
              "      <td>228.849597</td>\n",
              "      <td>212.813270</td>\n",
              "      <td>173.089241</td>\n",
              "      <td>22.340326</td>\n",
              "      <td>45.727758</td>\n",
              "      <td>238.366453</td>\n",
              "      <td>21.635808</td>\n",
              "      <td>62.176629</td>\n",
              "      <td>228.849597</td>\n",
              "      <td>Set2</td>\n",
              "      <td>C4</td>\n",
              "      <td>A1</td>\n",
              "      <td>3DA8E4D4-65A1-40BE-8906-DDBB40FA6647.png</td>\n",
              "    </tr>\n",
              "  </tbody>\n",
              "</table>\n",
              "</div>\n",
              "      <button class=\"colab-df-convert\" onclick=\"convertToInteractive('df-c45f11a5-0035-4948-9afb-8e136e5a75d9')\"\n",
              "              title=\"Convert this dataframe to an interactive table.\"\n",
              "              style=\"display:none;\">\n",
              "        \n",
              "  <svg xmlns=\"http://www.w3.org/2000/svg\" height=\"24px\"viewBox=\"0 0 24 24\"\n",
              "       width=\"24px\">\n",
              "    <path d=\"M0 0h24v24H0V0z\" fill=\"none\"/>\n",
              "    <path d=\"M18.56 5.44l.94 2.06.94-2.06 2.06-.94-2.06-.94-.94-2.06-.94 2.06-2.06.94zm-11 1L8.5 8.5l.94-2.06 2.06-.94-2.06-.94L8.5 2.5l-.94 2.06-2.06.94zm10 10l.94 2.06.94-2.06 2.06-.94-2.06-.94-.94-2.06-.94 2.06-2.06.94z\"/><path d=\"M17.41 7.96l-1.37-1.37c-.4-.4-.92-.59-1.43-.59-.52 0-1.04.2-1.43.59L10.3 9.45l-7.72 7.72c-.78.78-.78 2.05 0 2.83L4 21.41c.39.39.9.59 1.41.59.51 0 1.02-.2 1.41-.59l7.78-7.78 2.81-2.81c.8-.78.8-2.07 0-2.86zM5.41 20L4 18.59l7.72-7.72 1.47 1.35L5.41 20z\"/>\n",
              "  </svg>\n",
              "      </button>\n",
              "      \n",
              "  <style>\n",
              "    .colab-df-container {\n",
              "      display:flex;\n",
              "      flex-wrap:wrap;\n",
              "      gap: 12px;\n",
              "    }\n",
              "\n",
              "    .colab-df-convert {\n",
              "      background-color: #E8F0FE;\n",
              "      border: none;\n",
              "      border-radius: 50%;\n",
              "      cursor: pointer;\n",
              "      display: none;\n",
              "      fill: #1967D2;\n",
              "      height: 32px;\n",
              "      padding: 0 0 0 0;\n",
              "      width: 32px;\n",
              "    }\n",
              "\n",
              "    .colab-df-convert:hover {\n",
              "      background-color: #E2EBFA;\n",
              "      box-shadow: 0px 1px 2px rgba(60, 64, 67, 0.3), 0px 1px 3px 1px rgba(60, 64, 67, 0.15);\n",
              "      fill: #174EA6;\n",
              "    }\n",
              "\n",
              "    [theme=dark] .colab-df-convert {\n",
              "      background-color: #3B4455;\n",
              "      fill: #D2E3FC;\n",
              "    }\n",
              "\n",
              "    [theme=dark] .colab-df-convert:hover {\n",
              "      background-color: #434B5C;\n",
              "      box-shadow: 0px 1px 3px 1px rgba(0, 0, 0, 0.15);\n",
              "      filter: drop-shadow(0px 1px 2px rgba(0, 0, 0, 0.3));\n",
              "      fill: #FFFFFF;\n",
              "    }\n",
              "  </style>\n",
              "\n",
              "      <script>\n",
              "        const buttonEl =\n",
              "          document.querySelector('#df-c45f11a5-0035-4948-9afb-8e136e5a75d9 button.colab-df-convert');\n",
              "        buttonEl.style.display =\n",
              "          google.colab.kernel.accessAllowed ? 'block' : 'none';\n",
              "\n",
              "        async function convertToInteractive(key) {\n",
              "          const element = document.querySelector('#df-c45f11a5-0035-4948-9afb-8e136e5a75d9');\n",
              "          const dataTable =\n",
              "            await google.colab.kernel.invokeFunction('convertToInteractive',\n",
              "                                                     [key], {});\n",
              "          if (!dataTable) return;\n",
              "\n",
              "          const docLinkHtml = 'Like what you see? Visit the ' +\n",
              "            '<a target=\"_blank\" href=https://colab.research.google.com/notebooks/data_table.ipynb>data table notebook</a>'\n",
              "            + ' to learn more about interactive tables.';\n",
              "          element.innerHTML = '';\n",
              "          dataTable['output_type'] = 'display_data';\n",
              "          await google.colab.output.renderOutput(dataTable, element);\n",
              "          const docLink = document.createElement('div');\n",
              "          docLink.innerHTML = docLinkHtml;\n",
              "          element.appendChild(docLink);\n",
              "        }\n",
              "      </script>\n",
              "    </div>\n",
              "  </div>\n",
              "  "
            ],
            "text/plain": [
              "        R-ref       G-ref  ...  Shad                                       Img\n",
              "0  240.434246  227.901127  ...    A1  D458FCD6-5D52-48CD-B212-68184F5B135C.png\n",
              "1  240.689782  228.253497  ...    A1  0316EB79-14E9-4056-93AC-80D4D57B3DE1.png\n",
              "2  241.482032  229.891414  ...    A1  EEF2F908-CA38-4AFA-AB84-8C1A9D2E54CC.png\n",
              "3  240.742521  228.815559  ...    A1  1EA15613-AACE-4B44-A2A5-F480B1A912C4.png\n",
              "4  238.366453  227.380439  ...    A1  3DA8E4D4-65A1-40BE-8906-DDBB40FA6647.png\n",
              "\n",
              "[5 rows x 16 columns]"
            ]
          },
          "metadata": {},
          "execution_count": 395
        }
      ]
    },
    {
      "cell_type": "code",
      "source": [
        "table_C4Set3 = pd.read_excel(Set3, sheet_name='C4Set3 ')\n",
        "table_C4Set3.head()"
      ],
      "metadata": {
        "id": "CarUCZ0JuK8e",
        "outputId": "54115f86-ef8c-47d5-ecca-d1924549cb2d",
        "colab": {
          "base_uri": "https://localhost:8080/",
          "height": 0
        }
      },
      "execution_count": 396,
      "outputs": [
        {
          "output_type": "execute_result",
          "data": {
            "text/html": [
              "\n",
              "  <div id=\"df-71b2fef0-a215-451e-b94f-2dde5b39aaee\">\n",
              "    <div class=\"colab-df-container\">\n",
              "      <div>\n",
              "<style scoped>\n",
              "    .dataframe tbody tr th:only-of-type {\n",
              "        vertical-align: middle;\n",
              "    }\n",
              "\n",
              "    .dataframe tbody tr th {\n",
              "        vertical-align: top;\n",
              "    }\n",
              "\n",
              "    .dataframe thead th {\n",
              "        text-align: right;\n",
              "    }\n",
              "</style>\n",
              "<table border=\"1\" class=\"dataframe\">\n",
              "  <thead>\n",
              "    <tr style=\"text-align: right;\">\n",
              "      <th></th>\n",
              "      <th>R-ref</th>\n",
              "      <th>G-ref</th>\n",
              "      <th>B-ref</th>\n",
              "      <th>R-Shad</th>\n",
              "      <th>G-Shad</th>\n",
              "      <th>B-Shad</th>\n",
              "      <th>H-ref</th>\n",
              "      <th>S-ref</th>\n",
              "      <th>V-ref</th>\n",
              "      <th>H-Shad</th>\n",
              "      <th>S-Shad</th>\n",
              "      <th>V-Shad</th>\n",
              "      <th>Setting</th>\n",
              "      <th>Ref</th>\n",
              "      <th>Shad</th>\n",
              "      <th>Img</th>\n",
              "    </tr>\n",
              "  </thead>\n",
              "  <tbody>\n",
              "    <tr>\n",
              "      <th>0</th>\n",
              "      <td>240.927350</td>\n",
              "      <td>222.384810</td>\n",
              "      <td>172.125874</td>\n",
              "      <td>239.436197</td>\n",
              "      <td>224.677509</td>\n",
              "      <td>187.074785</td>\n",
              "      <td>21.706329</td>\n",
              "      <td>55.874154</td>\n",
              "      <td>239.436197</td>\n",
              "      <td>21.706329</td>\n",
              "      <td>55.874154</td>\n",
              "      <td>239.436197</td>\n",
              "      <td>Set3</td>\n",
              "      <td>C4</td>\n",
              "      <td>A1</td>\n",
              "      <td>1BDD234B-AF82-462E-AE9C-B9F424AF15CA.png</td>\n",
              "    </tr>\n",
              "    <tr>\n",
              "      <th>1</th>\n",
              "      <td>241.886752</td>\n",
              "      <td>229.539627</td>\n",
              "      <td>194.758353</td>\n",
              "      <td>232.801594</td>\n",
              "      <td>216.483551</td>\n",
              "      <td>175.844685</td>\n",
              "      <td>22.222611</td>\n",
              "      <td>49.799631</td>\n",
              "      <td>241.886752</td>\n",
              "      <td>21.663979</td>\n",
              "      <td>62.447225</td>\n",
              "      <td>232.801594</td>\n",
              "      <td>Set3</td>\n",
              "      <td>C4</td>\n",
              "      <td>A1</td>\n",
              "      <td>96AC2C34-161B-42E9-ADF7-84C2FB33D103.png</td>\n",
              "    </tr>\n",
              "    <tr>\n",
              "      <th>2</th>\n",
              "      <td>242.135781</td>\n",
              "      <td>229.859848</td>\n",
              "      <td>194.487082</td>\n",
              "      <td>232.920026</td>\n",
              "      <td>216.203410</td>\n",
              "      <td>174.735613</td>\n",
              "      <td>22.372960</td>\n",
              "      <td>50.312646</td>\n",
              "      <td>242.135781</td>\n",
              "      <td>21.584191</td>\n",
              "      <td>63.779817</td>\n",
              "      <td>232.920026</td>\n",
              "      <td>Set3</td>\n",
              "      <td>C4</td>\n",
              "      <td>A1</td>\n",
              "      <td>2B37D6CB-6E6B-4042-96AA-3A2B5FB871AC.png</td>\n",
              "    </tr>\n",
              "    <tr>\n",
              "      <th>3</th>\n",
              "      <td>242.884227</td>\n",
              "      <td>231.409771</td>\n",
              "      <td>198.796717</td>\n",
              "      <td>234.321750</td>\n",
              "      <td>218.636271</td>\n",
              "      <td>178.919841</td>\n",
              "      <td>22.467366</td>\n",
              "      <td>46.435800</td>\n",
              "      <td>242.890831</td>\n",
              "      <td>21.754703</td>\n",
              "      <td>60.344546</td>\n",
              "      <td>234.321750</td>\n",
              "      <td>Set3</td>\n",
              "      <td>C4</td>\n",
              "      <td>A1</td>\n",
              "      <td>130DCFB5-7AE9-49BB-A881-5A08A0ED63F8.png</td>\n",
              "    </tr>\n",
              "    <tr>\n",
              "      <th>4</th>\n",
              "      <td>242.349359</td>\n",
              "      <td>230.585082</td>\n",
              "      <td>196.799922</td>\n",
              "      <td>233.973682</td>\n",
              "      <td>218.365490</td>\n",
              "      <td>178.417014</td>\n",
              "      <td>22.338772</td>\n",
              "      <td>48.023504</td>\n",
              "      <td>242.349359</td>\n",
              "      <td>21.821240</td>\n",
              "      <td>60.580947</td>\n",
              "      <td>233.973682</td>\n",
              "      <td>Set3</td>\n",
              "      <td>C4</td>\n",
              "      <td>A1</td>\n",
              "      <td>B02AE283-B3E2-401F-AEE9-DC33E0828C79.png</td>\n",
              "    </tr>\n",
              "  </tbody>\n",
              "</table>\n",
              "</div>\n",
              "      <button class=\"colab-df-convert\" onclick=\"convertToInteractive('df-71b2fef0-a215-451e-b94f-2dde5b39aaee')\"\n",
              "              title=\"Convert this dataframe to an interactive table.\"\n",
              "              style=\"display:none;\">\n",
              "        \n",
              "  <svg xmlns=\"http://www.w3.org/2000/svg\" height=\"24px\"viewBox=\"0 0 24 24\"\n",
              "       width=\"24px\">\n",
              "    <path d=\"M0 0h24v24H0V0z\" fill=\"none\"/>\n",
              "    <path d=\"M18.56 5.44l.94 2.06.94-2.06 2.06-.94-2.06-.94-.94-2.06-.94 2.06-2.06.94zm-11 1L8.5 8.5l.94-2.06 2.06-.94-2.06-.94L8.5 2.5l-.94 2.06-2.06.94zm10 10l.94 2.06.94-2.06 2.06-.94-2.06-.94-.94-2.06-.94 2.06-2.06.94z\"/><path d=\"M17.41 7.96l-1.37-1.37c-.4-.4-.92-.59-1.43-.59-.52 0-1.04.2-1.43.59L10.3 9.45l-7.72 7.72c-.78.78-.78 2.05 0 2.83L4 21.41c.39.39.9.59 1.41.59.51 0 1.02-.2 1.41-.59l7.78-7.78 2.81-2.81c.8-.78.8-2.07 0-2.86zM5.41 20L4 18.59l7.72-7.72 1.47 1.35L5.41 20z\"/>\n",
              "  </svg>\n",
              "      </button>\n",
              "      \n",
              "  <style>\n",
              "    .colab-df-container {\n",
              "      display:flex;\n",
              "      flex-wrap:wrap;\n",
              "      gap: 12px;\n",
              "    }\n",
              "\n",
              "    .colab-df-convert {\n",
              "      background-color: #E8F0FE;\n",
              "      border: none;\n",
              "      border-radius: 50%;\n",
              "      cursor: pointer;\n",
              "      display: none;\n",
              "      fill: #1967D2;\n",
              "      height: 32px;\n",
              "      padding: 0 0 0 0;\n",
              "      width: 32px;\n",
              "    }\n",
              "\n",
              "    .colab-df-convert:hover {\n",
              "      background-color: #E2EBFA;\n",
              "      box-shadow: 0px 1px 2px rgba(60, 64, 67, 0.3), 0px 1px 3px 1px rgba(60, 64, 67, 0.15);\n",
              "      fill: #174EA6;\n",
              "    }\n",
              "\n",
              "    [theme=dark] .colab-df-convert {\n",
              "      background-color: #3B4455;\n",
              "      fill: #D2E3FC;\n",
              "    }\n",
              "\n",
              "    [theme=dark] .colab-df-convert:hover {\n",
              "      background-color: #434B5C;\n",
              "      box-shadow: 0px 1px 3px 1px rgba(0, 0, 0, 0.15);\n",
              "      filter: drop-shadow(0px 1px 2px rgba(0, 0, 0, 0.3));\n",
              "      fill: #FFFFFF;\n",
              "    }\n",
              "  </style>\n",
              "\n",
              "      <script>\n",
              "        const buttonEl =\n",
              "          document.querySelector('#df-71b2fef0-a215-451e-b94f-2dde5b39aaee button.colab-df-convert');\n",
              "        buttonEl.style.display =\n",
              "          google.colab.kernel.accessAllowed ? 'block' : 'none';\n",
              "\n",
              "        async function convertToInteractive(key) {\n",
              "          const element = document.querySelector('#df-71b2fef0-a215-451e-b94f-2dde5b39aaee');\n",
              "          const dataTable =\n",
              "            await google.colab.kernel.invokeFunction('convertToInteractive',\n",
              "                                                     [key], {});\n",
              "          if (!dataTable) return;\n",
              "\n",
              "          const docLinkHtml = 'Like what you see? Visit the ' +\n",
              "            '<a target=\"_blank\" href=https://colab.research.google.com/notebooks/data_table.ipynb>data table notebook</a>'\n",
              "            + ' to learn more about interactive tables.';\n",
              "          element.innerHTML = '';\n",
              "          dataTable['output_type'] = 'display_data';\n",
              "          await google.colab.output.renderOutput(dataTable, element);\n",
              "          const docLink = document.createElement('div');\n",
              "          docLink.innerHTML = docLinkHtml;\n",
              "          element.appendChild(docLink);\n",
              "        }\n",
              "      </script>\n",
              "    </div>\n",
              "  </div>\n",
              "  "
            ],
            "text/plain": [
              "        R-ref       G-ref  ...  Shad                                       Img\n",
              "0  240.927350  222.384810  ...    A1  1BDD234B-AF82-462E-AE9C-B9F424AF15CA.png\n",
              "1  241.886752  229.539627  ...    A1  96AC2C34-161B-42E9-ADF7-84C2FB33D103.png\n",
              "2  242.135781  229.859848  ...    A1  2B37D6CB-6E6B-4042-96AA-3A2B5FB871AC.png\n",
              "3  242.884227  231.409771  ...    A1  130DCFB5-7AE9-49BB-A881-5A08A0ED63F8.png\n",
              "4  242.349359  230.585082  ...    A1  B02AE283-B3E2-401F-AEE9-DC33E0828C79.png\n",
              "\n",
              "[5 rows x 16 columns]"
            ]
          },
          "metadata": {},
          "execution_count": 396
        }
      ]
    },
    {
      "cell_type": "code",
      "source": [
        "table_C4Set4 = pd.read_excel(Set4, sheet_name='C4Set4')\n",
        "table_C4Set4.head()"
      ],
      "metadata": {
        "id": "L2I1T2X1uK8e",
        "outputId": "84d546b4-afeb-4fe6-a2b1-6d6228cfc215",
        "colab": {
          "base_uri": "https://localhost:8080/",
          "height": 0
        }
      },
      "execution_count": 397,
      "outputs": [
        {
          "output_type": "execute_result",
          "data": {
            "text/html": [
              "\n",
              "  <div id=\"df-5b9609ab-5348-47a6-9cbf-346dafc22dca\">\n",
              "    <div class=\"colab-df-container\">\n",
              "      <div>\n",
              "<style scoped>\n",
              "    .dataframe tbody tr th:only-of-type {\n",
              "        vertical-align: middle;\n",
              "    }\n",
              "\n",
              "    .dataframe tbody tr th {\n",
              "        vertical-align: top;\n",
              "    }\n",
              "\n",
              "    .dataframe thead th {\n",
              "        text-align: right;\n",
              "    }\n",
              "</style>\n",
              "<table border=\"1\" class=\"dataframe\">\n",
              "  <thead>\n",
              "    <tr style=\"text-align: right;\">\n",
              "      <th></th>\n",
              "      <th>R-ref</th>\n",
              "      <th>G-ref</th>\n",
              "      <th>B-ref</th>\n",
              "      <th>R-Shad</th>\n",
              "      <th>G-Shad</th>\n",
              "      <th>B-Shad</th>\n",
              "      <th>H-ref</th>\n",
              "      <th>S-ref</th>\n",
              "      <th>V-ref</th>\n",
              "      <th>H-Shad</th>\n",
              "      <th>S-Shad</th>\n",
              "      <th>V-Shad</th>\n",
              "      <th>Setting</th>\n",
              "      <th>Ref</th>\n",
              "      <th>Shad</th>\n",
              "      <th>Img</th>\n",
              "    </tr>\n",
              "  </thead>\n",
              "  <tbody>\n",
              "    <tr>\n",
              "      <th>0</th>\n",
              "      <td>240.689782</td>\n",
              "      <td>228.253497</td>\n",
              "      <td>192.838772</td>\n",
              "      <td>231.039199</td>\n",
              "      <td>213.655176</td>\n",
              "      <td>171.713465</td>\n",
              "      <td>22.300117</td>\n",
              "      <td>50.826923</td>\n",
              "      <td>240.689782</td>\n",
              "      <td>21.347048</td>\n",
              "      <td>65.540358</td>\n",
              "      <td>231.039199</td>\n",
              "      <td>Set4</td>\n",
              "      <td>C4</td>\n",
              "      <td>A1</td>\n",
              "      <td>E3CE1857-A5E9-4928-8A37-28BF6EAD7BCD.png</td>\n",
              "    </tr>\n",
              "    <tr>\n",
              "      <th>1</th>\n",
              "      <td>241.482032</td>\n",
              "      <td>229.891414</td>\n",
              "      <td>197.313131</td>\n",
              "      <td>232.626448</td>\n",
              "      <td>216.424613</td>\n",
              "      <td>176.563989</td>\n",
              "      <td>22.382382</td>\n",
              "      <td>46.802642</td>\n",
              "      <td>241.488636</td>\n",
              "      <td>21.568529</td>\n",
              "      <td>61.497452</td>\n",
              "      <td>232.626448</td>\n",
              "      <td>Set4</td>\n",
              "      <td>C4</td>\n",
              "      <td>A1</td>\n",
              "      <td>4820BBED-F65E-4F90-A5EA-283E55866371.png</td>\n",
              "    </tr>\n",
              "    <tr>\n",
              "      <th>2</th>\n",
              "      <td>240.742521</td>\n",
              "      <td>228.815559</td>\n",
              "      <td>194.967463</td>\n",
              "      <td>232.497452</td>\n",
              "      <td>216.420628</td>\n",
              "      <td>176.211009</td>\n",
              "      <td>22.265831</td>\n",
              "      <td>48.576632</td>\n",
              "      <td>240.742521</td>\n",
              "      <td>21.680104</td>\n",
              "      <td>61.769345</td>\n",
              "      <td>232.497452</td>\n",
              "      <td>Set4</td>\n",
              "      <td>C4</td>\n",
              "      <td>A1</td>\n",
              "      <td>2FC399A9-267E-4661-B647-4052082C40FD.png</td>\n",
              "    </tr>\n",
              "    <tr>\n",
              "      <th>3</th>\n",
              "      <td>238.366453</td>\n",
              "      <td>227.380439</td>\n",
              "      <td>195.708819</td>\n",
              "      <td>228.849597</td>\n",
              "      <td>212.813270</td>\n",
              "      <td>173.089241</td>\n",
              "      <td>22.340326</td>\n",
              "      <td>45.727758</td>\n",
              "      <td>238.366453</td>\n",
              "      <td>21.635808</td>\n",
              "      <td>62.176629</td>\n",
              "      <td>228.849597</td>\n",
              "      <td>Set4</td>\n",
              "      <td>C4</td>\n",
              "      <td>A1</td>\n",
              "      <td>93A6C829-4545-4D47-BFB4-721B7DB40A5D.png</td>\n",
              "    </tr>\n",
              "    <tr>\n",
              "      <th>4</th>\n",
              "      <td>238.000194</td>\n",
              "      <td>226.535062</td>\n",
              "      <td>193.909771</td>\n",
              "      <td>228.701418</td>\n",
              "      <td>211.773330</td>\n",
              "      <td>171.758966</td>\n",
              "      <td>22.287296</td>\n",
              "      <td>47.344891</td>\n",
              "      <td>238.000194</td>\n",
              "      <td>21.286628</td>\n",
              "      <td>63.564915</td>\n",
              "      <td>228.701418</td>\n",
              "      <td>Set4</td>\n",
              "      <td>C4</td>\n",
              "      <td>A1</td>\n",
              "      <td>A20513B8-796D-41B5-9512-94978DE63964.png</td>\n",
              "    </tr>\n",
              "  </tbody>\n",
              "</table>\n",
              "</div>\n",
              "      <button class=\"colab-df-convert\" onclick=\"convertToInteractive('df-5b9609ab-5348-47a6-9cbf-346dafc22dca')\"\n",
              "              title=\"Convert this dataframe to an interactive table.\"\n",
              "              style=\"display:none;\">\n",
              "        \n",
              "  <svg xmlns=\"http://www.w3.org/2000/svg\" height=\"24px\"viewBox=\"0 0 24 24\"\n",
              "       width=\"24px\">\n",
              "    <path d=\"M0 0h24v24H0V0z\" fill=\"none\"/>\n",
              "    <path d=\"M18.56 5.44l.94 2.06.94-2.06 2.06-.94-2.06-.94-.94-2.06-.94 2.06-2.06.94zm-11 1L8.5 8.5l.94-2.06 2.06-.94-2.06-.94L8.5 2.5l-.94 2.06-2.06.94zm10 10l.94 2.06.94-2.06 2.06-.94-2.06-.94-.94-2.06-.94 2.06-2.06.94z\"/><path d=\"M17.41 7.96l-1.37-1.37c-.4-.4-.92-.59-1.43-.59-.52 0-1.04.2-1.43.59L10.3 9.45l-7.72 7.72c-.78.78-.78 2.05 0 2.83L4 21.41c.39.39.9.59 1.41.59.51 0 1.02-.2 1.41-.59l7.78-7.78 2.81-2.81c.8-.78.8-2.07 0-2.86zM5.41 20L4 18.59l7.72-7.72 1.47 1.35L5.41 20z\"/>\n",
              "  </svg>\n",
              "      </button>\n",
              "      \n",
              "  <style>\n",
              "    .colab-df-container {\n",
              "      display:flex;\n",
              "      flex-wrap:wrap;\n",
              "      gap: 12px;\n",
              "    }\n",
              "\n",
              "    .colab-df-convert {\n",
              "      background-color: #E8F0FE;\n",
              "      border: none;\n",
              "      border-radius: 50%;\n",
              "      cursor: pointer;\n",
              "      display: none;\n",
              "      fill: #1967D2;\n",
              "      height: 32px;\n",
              "      padding: 0 0 0 0;\n",
              "      width: 32px;\n",
              "    }\n",
              "\n",
              "    .colab-df-convert:hover {\n",
              "      background-color: #E2EBFA;\n",
              "      box-shadow: 0px 1px 2px rgba(60, 64, 67, 0.3), 0px 1px 3px 1px rgba(60, 64, 67, 0.15);\n",
              "      fill: #174EA6;\n",
              "    }\n",
              "\n",
              "    [theme=dark] .colab-df-convert {\n",
              "      background-color: #3B4455;\n",
              "      fill: #D2E3FC;\n",
              "    }\n",
              "\n",
              "    [theme=dark] .colab-df-convert:hover {\n",
              "      background-color: #434B5C;\n",
              "      box-shadow: 0px 1px 3px 1px rgba(0, 0, 0, 0.15);\n",
              "      filter: drop-shadow(0px 1px 2px rgba(0, 0, 0, 0.3));\n",
              "      fill: #FFFFFF;\n",
              "    }\n",
              "  </style>\n",
              "\n",
              "      <script>\n",
              "        const buttonEl =\n",
              "          document.querySelector('#df-5b9609ab-5348-47a6-9cbf-346dafc22dca button.colab-df-convert');\n",
              "        buttonEl.style.display =\n",
              "          google.colab.kernel.accessAllowed ? 'block' : 'none';\n",
              "\n",
              "        async function convertToInteractive(key) {\n",
              "          const element = document.querySelector('#df-5b9609ab-5348-47a6-9cbf-346dafc22dca');\n",
              "          const dataTable =\n",
              "            await google.colab.kernel.invokeFunction('convertToInteractive',\n",
              "                                                     [key], {});\n",
              "          if (!dataTable) return;\n",
              "\n",
              "          const docLinkHtml = 'Like what you see? Visit the ' +\n",
              "            '<a target=\"_blank\" href=https://colab.research.google.com/notebooks/data_table.ipynb>data table notebook</a>'\n",
              "            + ' to learn more about interactive tables.';\n",
              "          element.innerHTML = '';\n",
              "          dataTable['output_type'] = 'display_data';\n",
              "          await google.colab.output.renderOutput(dataTable, element);\n",
              "          const docLink = document.createElement('div');\n",
              "          docLink.innerHTML = docLinkHtml;\n",
              "          element.appendChild(docLink);\n",
              "        }\n",
              "      </script>\n",
              "    </div>\n",
              "  </div>\n",
              "  "
            ],
            "text/plain": [
              "        R-ref       G-ref  ...  Shad                                       Img\n",
              "0  240.689782  228.253497  ...    A1  E3CE1857-A5E9-4928-8A37-28BF6EAD7BCD.png\n",
              "1  241.482032  229.891414  ...    A1  4820BBED-F65E-4F90-A5EA-283E55866371.png\n",
              "2  240.742521  228.815559  ...    A1  2FC399A9-267E-4661-B647-4052082C40FD.png\n",
              "3  238.366453  227.380439  ...    A1  93A6C829-4545-4D47-BFB4-721B7DB40A5D.png\n",
              "4  238.000194  226.535062  ...    A1  A20513B8-796D-41B5-9512-94978DE63964.png\n",
              "\n",
              "[5 rows x 16 columns]"
            ]
          },
          "metadata": {},
          "execution_count": 397
        }
      ]
    },
    {
      "cell_type": "markdown",
      "source": [
        "###RGB"
      ],
      "metadata": {
        "id": "itC-PgyduK8f"
      }
    },
    {
      "cell_type": "code",
      "source": [
        "RGB_C4_Set4 = table_C4Set4"
      ],
      "metadata": {
        "id": "2Upie7PbuK8f"
      },
      "execution_count": 398,
      "outputs": []
    },
    {
      "cell_type": "code",
      "source": [
        "RGB_C4_Set1 = table_C4Set1"
      ],
      "metadata": {
        "id": "1MEK29oNuK8f"
      },
      "execution_count": 399,
      "outputs": []
    },
    {
      "cell_type": "code",
      "source": [
        "RGB_C4_Set2 = table_C4Set2"
      ],
      "metadata": {
        "id": "7tPEod6QuK8f"
      },
      "execution_count": 400,
      "outputs": []
    },
    {
      "cell_type": "code",
      "source": [
        "RGB_C4_Set3 = table_C4Set3"
      ],
      "metadata": {
        "id": "CxeN6r4wuK8f"
      },
      "execution_count": 401,
      "outputs": []
    },
    {
      "cell_type": "code",
      "source": [
        "RGB_C4_concat = pd.concat([RGB_C4_Set1,RGB_C4_Set2])"
      ],
      "metadata": {
        "id": "0InCHTdHsF6R"
      },
      "execution_count": 402,
      "outputs": []
    },
    {
      "cell_type": "code",
      "source": [
        "RGB_C4_concat0 = pd.concat([RGB_C4_concat,RGB_C4_Set4])"
      ],
      "metadata": {
        "id": "dptkUlb6uK8f"
      },
      "execution_count": 403,
      "outputs": []
    },
    {
      "cell_type": "code",
      "source": [
        "RGB_C4_concat1 = pd.concat([RGB_C4_concat0,RGB_C4_Set3])"
      ],
      "metadata": {
        "id": "l8zVUpQXuK8f"
      },
      "execution_count": 404,
      "outputs": []
    },
    {
      "cell_type": "code",
      "source": [
        "RGB_C4_concat2 = RGB_C4_concat1.drop(['H-ref','S-ref','V-ref','H-Shad','S-Shad','V-Shad','Setting','Ref','Shad','Img'], axis=1)"
      ],
      "metadata": {
        "id": "a-gC-GfkuK8f"
      },
      "execution_count": 405,
      "outputs": []
    },
    {
      "cell_type": "code",
      "source": [
        "X_test_C4_RGB = np.array(RGB_D3_CC1)"
      ],
      "metadata": {
        "id": "oybcs3qOuK8f"
      },
      "execution_count": 406,
      "outputs": []
    },
    {
      "cell_type": "code",
      "source": [
        "y_C4_RGB =  table_D3CC1.iloc[:,14:15]"
      ],
      "metadata": {
        "id": "B8JwR0-QuK8f"
      },
      "execution_count": 407,
      "outputs": []
    },
    {
      "cell_type": "code",
      "source": [
        "y_test_C4_RGB = np.array(y_C4_RGB)"
      ],
      "metadata": {
        "id": "4Zr9IHe_uK8g"
      },
      "execution_count": 408,
      "outputs": []
    },
    {
      "cell_type": "code",
      "source": [
        "X_train_C4_RGB = np.array(RGB_C4_concat2)"
      ],
      "metadata": {
        "id": "HW4sce4YuK8g"
      },
      "execution_count": 409,
      "outputs": []
    },
    {
      "cell_type": "code",
      "source": [
        "y_train_C4RGB = RGB_C4_concat1.iloc[:,14:15]"
      ],
      "metadata": {
        "id": "8ZtEorViuK8g"
      },
      "execution_count": 410,
      "outputs": []
    },
    {
      "cell_type": "code",
      "source": [
        "y_train_C4_RGB = np.array(y_train_C4RGB)"
      ],
      "metadata": {
        "id": "06EX8wlduK8g"
      },
      "execution_count": 411,
      "outputs": []
    },
    {
      "cell_type": "code",
      "source": [
        "clf.fit(X_train_C4_RGB, y_train_C4_RGB)"
      ],
      "metadata": {
        "id": "xvVKEn4zuK8g",
        "outputId": "489ea98d-f537-485d-effc-b08e00b8726d",
        "colab": {
          "base_uri": "https://localhost:8080/"
        }
      },
      "execution_count": 412,
      "outputs": [
        {
          "output_type": "stream",
          "name": "stderr",
          "text": [
            "/usr/local/lib/python3.7/dist-packages/ipykernel_launcher.py:1: DataConversionWarning: A column-vector y was passed when a 1d array was expected. Please change the shape of y to (n_samples,), for example using ravel().\n",
            "  \"\"\"Entry point for launching an IPython kernel.\n"
          ]
        },
        {
          "output_type": "execute_result",
          "data": {
            "text/plain": [
              "RandomForestClassifier()"
            ]
          },
          "metadata": {},
          "execution_count": 412
        }
      ]
    },
    {
      "cell_type": "code",
      "source": [
        "y_pred_C4_RGB = clf.predict(X_test_C4_RGB)"
      ],
      "metadata": {
        "id": "gYOIwjY3uK8g"
      },
      "execution_count": 413,
      "outputs": []
    },
    {
      "cell_type": "code",
      "source": [
        "print(\"Accuracy:\", metrics.accuracy_score(y_test_C4_RGB, y_pred_C4_RGB))"
      ],
      "metadata": {
        "id": "dpge-QlmuK8g",
        "outputId": "26546e71-1a48-4dac-c3d2-4d209742b9c5",
        "colab": {
          "base_uri": "https://localhost:8080/"
        }
      },
      "execution_count": 414,
      "outputs": [
        {
          "output_type": "stream",
          "name": "stdout",
          "text": [
            "Accuracy: 0.09375\n"
          ]
        }
      ]
    },
    {
      "cell_type": "markdown",
      "source": [
        "###HSV"
      ],
      "metadata": {
        "id": "3auzfsaNuK8g"
      }
    },
    {
      "cell_type": "code",
      "source": [
        "HSV_C4_concat2 = RGB_C4_concat1.drop(['R-ref','G-ref','B-ref','R-Shad','G-Shad','B-Shad','Setting','Ref','Shad','Img'], axis=1)"
      ],
      "metadata": {
        "id": "OJtvWMzquK8g"
      },
      "execution_count": 415,
      "outputs": []
    },
    {
      "cell_type": "code",
      "source": [
        "X_test_C4_HSV = np.array(HSV_D3_CC1)"
      ],
      "metadata": {
        "id": "9wwsXAPRuK8g"
      },
      "execution_count": 416,
      "outputs": []
    },
    {
      "cell_type": "code",
      "source": [
        "y_C4_HSV =  table_D3CC1.iloc[:,14:15]"
      ],
      "metadata": {
        "id": "yMXKV4w-uK8h"
      },
      "execution_count": 417,
      "outputs": []
    },
    {
      "cell_type": "code",
      "source": [
        "y_test_C4_HSV = np.array(y_C4_RGB)"
      ],
      "metadata": {
        "id": "vsS0ChHIuK8h"
      },
      "execution_count": 418,
      "outputs": []
    },
    {
      "cell_type": "code",
      "source": [
        "X_train_C4_HSV = np.array(HSV_C4_concat2)"
      ],
      "metadata": {
        "id": "PL9ejspDuK8h"
      },
      "execution_count": 419,
      "outputs": []
    },
    {
      "cell_type": "code",
      "source": [
        "y_train_C4HSV = RGB_C4_concat1.iloc[:,14:15]"
      ],
      "metadata": {
        "id": "FAf1PmlquK8h"
      },
      "execution_count": 420,
      "outputs": []
    },
    {
      "cell_type": "code",
      "source": [
        "y_train_C4_HSV = np.array(y_train_C4HSV)"
      ],
      "metadata": {
        "id": "W0Kf74pWuK8h"
      },
      "execution_count": 421,
      "outputs": []
    },
    {
      "cell_type": "code",
      "source": [
        "clf.fit(X_train_C4_HSV, y_train_C4_HSV)"
      ],
      "metadata": {
        "id": "7Q7bgyn-uK8h",
        "outputId": "008f552c-93da-4d85-b5d3-1c59fc95ef5d",
        "colab": {
          "base_uri": "https://localhost:8080/"
        }
      },
      "execution_count": 422,
      "outputs": [
        {
          "output_type": "stream",
          "name": "stderr",
          "text": [
            "/usr/local/lib/python3.7/dist-packages/ipykernel_launcher.py:1: DataConversionWarning: A column-vector y was passed when a 1d array was expected. Please change the shape of y to (n_samples,), for example using ravel().\n",
            "  \"\"\"Entry point for launching an IPython kernel.\n"
          ]
        },
        {
          "output_type": "execute_result",
          "data": {
            "text/plain": [
              "RandomForestClassifier()"
            ]
          },
          "metadata": {},
          "execution_count": 422
        }
      ]
    },
    {
      "cell_type": "code",
      "source": [
        "y_pred_C4_HSV = clf.predict(X_test_C4_HSV)"
      ],
      "metadata": {
        "id": "dVZkULXFuK8h"
      },
      "execution_count": 423,
      "outputs": []
    },
    {
      "cell_type": "code",
      "source": [
        "print(\"Accuracy:\", metrics.accuracy_score(y_test_C4_HSV, y_pred_C4_HSV))"
      ],
      "metadata": {
        "id": "fNDv3zRluK8h",
        "outputId": "ec6a107a-e602-48c2-ecfa-6ade9878ab05",
        "colab": {
          "base_uri": "https://localhost:8080/"
        }
      },
      "execution_count": 424,
      "outputs": [
        {
          "output_type": "stream",
          "name": "stdout",
          "text": [
            "Accuracy: 0.0625\n"
          ]
        }
      ]
    },
    {
      "cell_type": "markdown",
      "source": [
        "#DD"
      ],
      "metadata": {
        "id": "kFckM1SuxrfW"
      }
    },
    {
      "cell_type": "markdown",
      "source": [
        "##D2"
      ],
      "metadata": {
        "id": "Dx0Ujmpqx90R"
      }
    },
    {
      "cell_type": "code",
      "source": [
        "table_D2Set1 = pd.read_excel(Set1 , sheet_name='D2Set1')\n",
        "table_D2Set1.head()"
      ],
      "metadata": {
        "id": "py_AYnaOx90R",
        "outputId": "3f0821f7-4bff-4da1-a1ae-7ebb33e20fc6",
        "colab": {
          "base_uri": "https://localhost:8080/",
          "height": 0
        }
      },
      "execution_count": 425,
      "outputs": [
        {
          "output_type": "execute_result",
          "data": {
            "text/html": [
              "\n",
              "  <div id=\"df-13f9f030-68d2-4f75-aee6-e03402cc0759\">\n",
              "    <div class=\"colab-df-container\">\n",
              "      <div>\n",
              "<style scoped>\n",
              "    .dataframe tbody tr th:only-of-type {\n",
              "        vertical-align: middle;\n",
              "    }\n",
              "\n",
              "    .dataframe tbody tr th {\n",
              "        vertical-align: top;\n",
              "    }\n",
              "\n",
              "    .dataframe thead th {\n",
              "        text-align: right;\n",
              "    }\n",
              "</style>\n",
              "<table border=\"1\" class=\"dataframe\">\n",
              "  <thead>\n",
              "    <tr style=\"text-align: right;\">\n",
              "      <th></th>\n",
              "      <th>R-ref</th>\n",
              "      <th>G-ref</th>\n",
              "      <th>B-ref</th>\n",
              "      <th>R-Shad</th>\n",
              "      <th>G-Shad</th>\n",
              "      <th>B-Shad</th>\n",
              "      <th>H-ref</th>\n",
              "      <th>S-ref</th>\n",
              "      <th>V-ref</th>\n",
              "      <th>H-Shad</th>\n",
              "      <th>S-Shad</th>\n",
              "      <th>V-Shad</th>\n",
              "      <th>Setting</th>\n",
              "      <th>Ref</th>\n",
              "      <th>Shad</th>\n",
              "      <th>Img</th>\n",
              "    </tr>\n",
              "  </thead>\n",
              "  <tbody>\n",
              "    <tr>\n",
              "      <th>0</th>\n",
              "      <td>233.315883</td>\n",
              "      <td>219.042529</td>\n",
              "      <td>182.521062</td>\n",
              "      <td>233.667093</td>\n",
              "      <td>219.760757</td>\n",
              "      <td>183.891046</td>\n",
              "      <td>21.621378</td>\n",
              "      <td>55.572843</td>\n",
              "      <td>233.315883</td>\n",
              "      <td>21.686509</td>\n",
              "      <td>54.387028</td>\n",
              "      <td>233.667093</td>\n",
              "      <td>Set1</td>\n",
              "      <td>D2</td>\n",
              "      <td>A1</td>\n",
              "      <td>BD87D607-5718-45C1-A0DB-D75E63316FD0.png</td>\n",
              "    </tr>\n",
              "    <tr>\n",
              "      <th>1</th>\n",
              "      <td>233.194140</td>\n",
              "      <td>219.034007</td>\n",
              "      <td>182.078484</td>\n",
              "      <td>233.563331</td>\n",
              "      <td>219.768224</td>\n",
              "      <td>183.451248</td>\n",
              "      <td>21.768038</td>\n",
              "      <td>55.961773</td>\n",
              "      <td>233.194140</td>\n",
              "      <td>21.826755</td>\n",
              "      <td>54.788991</td>\n",
              "      <td>233.563331</td>\n",
              "      <td>Set1</td>\n",
              "      <td>D2</td>\n",
              "      <td>A1</td>\n",
              "      <td>FC1BDDC8-C8A7-4C8D-90F6-E6B112FC674F.png</td>\n",
              "    </tr>\n",
              "    <tr>\n",
              "      <th>2</th>\n",
              "      <td>228.266131</td>\n",
              "      <td>215.102914</td>\n",
              "      <td>179.983605</td>\n",
              "      <td>228.810113</td>\n",
              "      <td>215.946590</td>\n",
              "      <td>181.582960</td>\n",
              "      <td>21.894408</td>\n",
              "      <td>54.001299</td>\n",
              "      <td>228.266131</td>\n",
              "      <td>21.907972</td>\n",
              "      <td>52.719863</td>\n",
              "      <td>228.810113</td>\n",
              "      <td>Set1</td>\n",
              "      <td>D2</td>\n",
              "      <td>A1</td>\n",
              "      <td>27DD78A7-D5F3-4BAB-BFE1-8D2D8AB88D29.png</td>\n",
              "    </tr>\n",
              "    <tr>\n",
              "      <th>3</th>\n",
              "      <td>233.271975</td>\n",
              "      <td>219.056732</td>\n",
              "      <td>181.960799</td>\n",
              "      <td>233.632672</td>\n",
              "      <td>219.760828</td>\n",
              "      <td>183.255672</td>\n",
              "      <td>21.744014</td>\n",
              "      <td>56.161351</td>\n",
              "      <td>233.271975</td>\n",
              "      <td>21.790698</td>\n",
              "      <td>55.064434</td>\n",
              "      <td>233.632672</td>\n",
              "      <td>Set1</td>\n",
              "      <td>D2</td>\n",
              "      <td>A1</td>\n",
              "      <td>25A38DEA-0A5E-4502-AE98-BDEB123DF4E5.png</td>\n",
              "    </tr>\n",
              "    <tr>\n",
              "      <th>4</th>\n",
              "      <td>234.316776</td>\n",
              "      <td>220.035711</td>\n",
              "      <td>183.531856</td>\n",
              "      <td>234.724131</td>\n",
              "      <td>220.744968</td>\n",
              "      <td>184.855985</td>\n",
              "      <td>21.653843</td>\n",
              "      <td>55.306387</td>\n",
              "      <td>234.316776</td>\n",
              "      <td>21.684873</td>\n",
              "      <td>54.232203</td>\n",
              "      <td>234.724131</td>\n",
              "      <td>Set1</td>\n",
              "      <td>D2</td>\n",
              "      <td>A1</td>\n",
              "      <td>7396F2FB-8C50-4ED7-AA8C-CDAE1624F900.png</td>\n",
              "    </tr>\n",
              "  </tbody>\n",
              "</table>\n",
              "</div>\n",
              "      <button class=\"colab-df-convert\" onclick=\"convertToInteractive('df-13f9f030-68d2-4f75-aee6-e03402cc0759')\"\n",
              "              title=\"Convert this dataframe to an interactive table.\"\n",
              "              style=\"display:none;\">\n",
              "        \n",
              "  <svg xmlns=\"http://www.w3.org/2000/svg\" height=\"24px\"viewBox=\"0 0 24 24\"\n",
              "       width=\"24px\">\n",
              "    <path d=\"M0 0h24v24H0V0z\" fill=\"none\"/>\n",
              "    <path d=\"M18.56 5.44l.94 2.06.94-2.06 2.06-.94-2.06-.94-.94-2.06-.94 2.06-2.06.94zm-11 1L8.5 8.5l.94-2.06 2.06-.94-2.06-.94L8.5 2.5l-.94 2.06-2.06.94zm10 10l.94 2.06.94-2.06 2.06-.94-2.06-.94-.94-2.06-.94 2.06-2.06.94z\"/><path d=\"M17.41 7.96l-1.37-1.37c-.4-.4-.92-.59-1.43-.59-.52 0-1.04.2-1.43.59L10.3 9.45l-7.72 7.72c-.78.78-.78 2.05 0 2.83L4 21.41c.39.39.9.59 1.41.59.51 0 1.02-.2 1.41-.59l7.78-7.78 2.81-2.81c.8-.78.8-2.07 0-2.86zM5.41 20L4 18.59l7.72-7.72 1.47 1.35L5.41 20z\"/>\n",
              "  </svg>\n",
              "      </button>\n",
              "      \n",
              "  <style>\n",
              "    .colab-df-container {\n",
              "      display:flex;\n",
              "      flex-wrap:wrap;\n",
              "      gap: 12px;\n",
              "    }\n",
              "\n",
              "    .colab-df-convert {\n",
              "      background-color: #E8F0FE;\n",
              "      border: none;\n",
              "      border-radius: 50%;\n",
              "      cursor: pointer;\n",
              "      display: none;\n",
              "      fill: #1967D2;\n",
              "      height: 32px;\n",
              "      padding: 0 0 0 0;\n",
              "      width: 32px;\n",
              "    }\n",
              "\n",
              "    .colab-df-convert:hover {\n",
              "      background-color: #E2EBFA;\n",
              "      box-shadow: 0px 1px 2px rgba(60, 64, 67, 0.3), 0px 1px 3px 1px rgba(60, 64, 67, 0.15);\n",
              "      fill: #174EA6;\n",
              "    }\n",
              "\n",
              "    [theme=dark] .colab-df-convert {\n",
              "      background-color: #3B4455;\n",
              "      fill: #D2E3FC;\n",
              "    }\n",
              "\n",
              "    [theme=dark] .colab-df-convert:hover {\n",
              "      background-color: #434B5C;\n",
              "      box-shadow: 0px 1px 3px 1px rgba(0, 0, 0, 0.15);\n",
              "      filter: drop-shadow(0px 1px 2px rgba(0, 0, 0, 0.3));\n",
              "      fill: #FFFFFF;\n",
              "    }\n",
              "  </style>\n",
              "\n",
              "      <script>\n",
              "        const buttonEl =\n",
              "          document.querySelector('#df-13f9f030-68d2-4f75-aee6-e03402cc0759 button.colab-df-convert');\n",
              "        buttonEl.style.display =\n",
              "          google.colab.kernel.accessAllowed ? 'block' : 'none';\n",
              "\n",
              "        async function convertToInteractive(key) {\n",
              "          const element = document.querySelector('#df-13f9f030-68d2-4f75-aee6-e03402cc0759');\n",
              "          const dataTable =\n",
              "            await google.colab.kernel.invokeFunction('convertToInteractive',\n",
              "                                                     [key], {});\n",
              "          if (!dataTable) return;\n",
              "\n",
              "          const docLinkHtml = 'Like what you see? Visit the ' +\n",
              "            '<a target=\"_blank\" href=https://colab.research.google.com/notebooks/data_table.ipynb>data table notebook</a>'\n",
              "            + ' to learn more about interactive tables.';\n",
              "          element.innerHTML = '';\n",
              "          dataTable['output_type'] = 'display_data';\n",
              "          await google.colab.output.renderOutput(dataTable, element);\n",
              "          const docLink = document.createElement('div');\n",
              "          docLink.innerHTML = docLinkHtml;\n",
              "          element.appendChild(docLink);\n",
              "        }\n",
              "      </script>\n",
              "    </div>\n",
              "  </div>\n",
              "  "
            ],
            "text/plain": [
              "        R-ref       G-ref  ...  Shad                                       Img\n",
              "0  233.315883  219.042529  ...    A1  BD87D607-5718-45C1-A0DB-D75E63316FD0.png\n",
              "1  233.194140  219.034007  ...    A1  FC1BDDC8-C8A7-4C8D-90F6-E6B112FC674F.png\n",
              "2  228.266131  215.102914  ...    A1  27DD78A7-D5F3-4BAB-BFE1-8D2D8AB88D29.png\n",
              "3  233.271975  219.056732  ...    A1  25A38DEA-0A5E-4502-AE98-BDEB123DF4E5.png\n",
              "4  234.316776  220.035711  ...    A1  7396F2FB-8C50-4ED7-AA8C-CDAE1624F900.png\n",
              "\n",
              "[5 rows x 16 columns]"
            ]
          },
          "metadata": {},
          "execution_count": 425
        }
      ]
    },
    {
      "cell_type": "code",
      "source": [
        "table_D2Set2 = pd.read_excel(Set2, sheet_name='D2Set2')\n",
        "table_D2Set2.head()"
      ],
      "metadata": {
        "id": "4N-RJ6Otx90R",
        "outputId": "80018c26-e158-4f4c-862d-973d26eda620",
        "colab": {
          "base_uri": "https://localhost:8080/",
          "height": 0
        }
      },
      "execution_count": 426,
      "outputs": [
        {
          "output_type": "execute_result",
          "data": {
            "text/html": [
              "\n",
              "  <div id=\"df-79b2e1a2-5232-40d3-9efb-1509bd09586c\">\n",
              "    <div class=\"colab-df-container\">\n",
              "      <div>\n",
              "<style scoped>\n",
              "    .dataframe tbody tr th:only-of-type {\n",
              "        vertical-align: middle;\n",
              "    }\n",
              "\n",
              "    .dataframe tbody tr th {\n",
              "        vertical-align: top;\n",
              "    }\n",
              "\n",
              "    .dataframe thead th {\n",
              "        text-align: right;\n",
              "    }\n",
              "</style>\n",
              "<table border=\"1\" class=\"dataframe\">\n",
              "  <thead>\n",
              "    <tr style=\"text-align: right;\">\n",
              "      <th></th>\n",
              "      <th>R-ref</th>\n",
              "      <th>G-ref</th>\n",
              "      <th>B-ref</th>\n",
              "      <th>R-Shad</th>\n",
              "      <th>G-Shad</th>\n",
              "      <th>B-Shad</th>\n",
              "      <th>H-ref</th>\n",
              "      <th>S-ref</th>\n",
              "      <th>V-ref</th>\n",
              "      <th>H-Shad</th>\n",
              "      <th>S-Shad</th>\n",
              "      <th>V-Shad</th>\n",
              "      <th>Setting</th>\n",
              "      <th>Ref</th>\n",
              "      <th>Shad</th>\n",
              "      <th>Img</th>\n",
              "    </tr>\n",
              "  </thead>\n",
              "  <tbody>\n",
              "    <tr>\n",
              "      <th>0</th>\n",
              "      <td>232.509907</td>\n",
              "      <td>214.456585</td>\n",
              "      <td>182.046232</td>\n",
              "      <td>229.072375</td>\n",
              "      <td>211.835418</td>\n",
              "      <td>182.047076</td>\n",
              "      <td>19.223873</td>\n",
              "      <td>55.406857</td>\n",
              "      <td>232.509907</td>\n",
              "      <td>18.990548</td>\n",
              "      <td>52.426652</td>\n",
              "      <td>229.072375</td>\n",
              "      <td>Set2</td>\n",
              "      <td>D2</td>\n",
              "      <td>A1</td>\n",
              "      <td>A6D6A816-ECBC-4ED1-B85A-8F26782873EF.png</td>\n",
              "    </tr>\n",
              "    <tr>\n",
              "      <th>1</th>\n",
              "      <td>233.302836</td>\n",
              "      <td>214.512723</td>\n",
              "      <td>183.691822</td>\n",
              "      <td>230.102771</td>\n",
              "      <td>211.781207</td>\n",
              "      <td>183.140395</td>\n",
              "      <td>18.771853</td>\n",
              "      <td>54.299825</td>\n",
              "      <td>233.302836</td>\n",
              "      <td>18.136039</td>\n",
              "      <td>52.079511</td>\n",
              "      <td>230.102771</td>\n",
              "      <td>Set2</td>\n",
              "      <td>D2</td>\n",
              "      <td>A1</td>\n",
              "      <td>52B93F5E-D972-447C-AEDB-70944733A2A8.png</td>\n",
              "    </tr>\n",
              "    <tr>\n",
              "      <th>2</th>\n",
              "      <td>232.516220</td>\n",
              "      <td>214.503399</td>\n",
              "      <td>182.358877</td>\n",
              "      <td>229.353813</td>\n",
              "      <td>211.752294</td>\n",
              "      <td>182.272171</td>\n",
              "      <td>19.236305</td>\n",
              "      <td>55.078671</td>\n",
              "      <td>232.516220</td>\n",
              "      <td>18.763414</td>\n",
              "      <td>52.400612</td>\n",
              "      <td>229.353813</td>\n",
              "      <td>Set2</td>\n",
              "      <td>D2</td>\n",
              "      <td>A1</td>\n",
              "      <td>8370F6EB-C2ED-4089-AC6F-305D3AC1923F.png</td>\n",
              "    </tr>\n",
              "    <tr>\n",
              "      <th>3</th>\n",
              "      <td>232.603244</td>\n",
              "      <td>214.845183</td>\n",
              "      <td>181.822747</td>\n",
              "      <td>228.648596</td>\n",
              "      <td>211.690019</td>\n",
              "      <td>181.842183</td>\n",
              "      <td>19.396562</td>\n",
              "      <td>55.734557</td>\n",
              "      <td>232.603244</td>\n",
              "      <td>19.111389</td>\n",
              "      <td>52.290149</td>\n",
              "      <td>228.648596</td>\n",
              "      <td>Set2</td>\n",
              "      <td>D2</td>\n",
              "      <td>A1</td>\n",
              "      <td>F1432EC0-7542-4437-B03B-DB680757388E.png</td>\n",
              "    </tr>\n",
              "    <tr>\n",
              "      <th>4</th>\n",
              "      <td>232.526030</td>\n",
              "      <td>204.917638</td>\n",
              "      <td>165.874417</td>\n",
              "      <td>228.579557</td>\n",
              "      <td>207.799648</td>\n",
              "      <td>180.637105</td>\n",
              "      <td>17.494658</td>\n",
              "      <td>73.157828</td>\n",
              "      <td>232.526030</td>\n",
              "      <td>17.000000</td>\n",
              "      <td>53.458808</td>\n",
              "      <td>228.579557</td>\n",
              "      <td>Set2</td>\n",
              "      <td>D2</td>\n",
              "      <td>A1</td>\n",
              "      <td>505DFE06-9B70-46E3-A447-DE5E271DD472.png</td>\n",
              "    </tr>\n",
              "  </tbody>\n",
              "</table>\n",
              "</div>\n",
              "      <button class=\"colab-df-convert\" onclick=\"convertToInteractive('df-79b2e1a2-5232-40d3-9efb-1509bd09586c')\"\n",
              "              title=\"Convert this dataframe to an interactive table.\"\n",
              "              style=\"display:none;\">\n",
              "        \n",
              "  <svg xmlns=\"http://www.w3.org/2000/svg\" height=\"24px\"viewBox=\"0 0 24 24\"\n",
              "       width=\"24px\">\n",
              "    <path d=\"M0 0h24v24H0V0z\" fill=\"none\"/>\n",
              "    <path d=\"M18.56 5.44l.94 2.06.94-2.06 2.06-.94-2.06-.94-.94-2.06-.94 2.06-2.06.94zm-11 1L8.5 8.5l.94-2.06 2.06-.94-2.06-.94L8.5 2.5l-.94 2.06-2.06.94zm10 10l.94 2.06.94-2.06 2.06-.94-2.06-.94-.94-2.06-.94 2.06-2.06.94z\"/><path d=\"M17.41 7.96l-1.37-1.37c-.4-.4-.92-.59-1.43-.59-.52 0-1.04.2-1.43.59L10.3 9.45l-7.72 7.72c-.78.78-.78 2.05 0 2.83L4 21.41c.39.39.9.59 1.41.59.51 0 1.02-.2 1.41-.59l7.78-7.78 2.81-2.81c.8-.78.8-2.07 0-2.86zM5.41 20L4 18.59l7.72-7.72 1.47 1.35L5.41 20z\"/>\n",
              "  </svg>\n",
              "      </button>\n",
              "      \n",
              "  <style>\n",
              "    .colab-df-container {\n",
              "      display:flex;\n",
              "      flex-wrap:wrap;\n",
              "      gap: 12px;\n",
              "    }\n",
              "\n",
              "    .colab-df-convert {\n",
              "      background-color: #E8F0FE;\n",
              "      border: none;\n",
              "      border-radius: 50%;\n",
              "      cursor: pointer;\n",
              "      display: none;\n",
              "      fill: #1967D2;\n",
              "      height: 32px;\n",
              "      padding: 0 0 0 0;\n",
              "      width: 32px;\n",
              "    }\n",
              "\n",
              "    .colab-df-convert:hover {\n",
              "      background-color: #E2EBFA;\n",
              "      box-shadow: 0px 1px 2px rgba(60, 64, 67, 0.3), 0px 1px 3px 1px rgba(60, 64, 67, 0.15);\n",
              "      fill: #174EA6;\n",
              "    }\n",
              "\n",
              "    [theme=dark] .colab-df-convert {\n",
              "      background-color: #3B4455;\n",
              "      fill: #D2E3FC;\n",
              "    }\n",
              "\n",
              "    [theme=dark] .colab-df-convert:hover {\n",
              "      background-color: #434B5C;\n",
              "      box-shadow: 0px 1px 3px 1px rgba(0, 0, 0, 0.15);\n",
              "      filter: drop-shadow(0px 1px 2px rgba(0, 0, 0, 0.3));\n",
              "      fill: #FFFFFF;\n",
              "    }\n",
              "  </style>\n",
              "\n",
              "      <script>\n",
              "        const buttonEl =\n",
              "          document.querySelector('#df-79b2e1a2-5232-40d3-9efb-1509bd09586c button.colab-df-convert');\n",
              "        buttonEl.style.display =\n",
              "          google.colab.kernel.accessAllowed ? 'block' : 'none';\n",
              "\n",
              "        async function convertToInteractive(key) {\n",
              "          const element = document.querySelector('#df-79b2e1a2-5232-40d3-9efb-1509bd09586c');\n",
              "          const dataTable =\n",
              "            await google.colab.kernel.invokeFunction('convertToInteractive',\n",
              "                                                     [key], {});\n",
              "          if (!dataTable) return;\n",
              "\n",
              "          const docLinkHtml = 'Like what you see? Visit the ' +\n",
              "            '<a target=\"_blank\" href=https://colab.research.google.com/notebooks/data_table.ipynb>data table notebook</a>'\n",
              "            + ' to learn more about interactive tables.';\n",
              "          element.innerHTML = '';\n",
              "          dataTable['output_type'] = 'display_data';\n",
              "          await google.colab.output.renderOutput(dataTable, element);\n",
              "          const docLink = document.createElement('div');\n",
              "          docLink.innerHTML = docLinkHtml;\n",
              "          element.appendChild(docLink);\n",
              "        }\n",
              "      </script>\n",
              "    </div>\n",
              "  </div>\n",
              "  "
            ],
            "text/plain": [
              "        R-ref       G-ref  ...  Shad                                       Img\n",
              "0  232.509907  214.456585  ...    A1  A6D6A816-ECBC-4ED1-B85A-8F26782873EF.png\n",
              "1  233.302836  214.512723  ...    A1  52B93F5E-D972-447C-AEDB-70944733A2A8.png\n",
              "2  232.516220  214.503399  ...    A1  8370F6EB-C2ED-4089-AC6F-305D3AC1923F.png\n",
              "3  232.603244  214.845183  ...    A1  F1432EC0-7542-4437-B03B-DB680757388E.png\n",
              "4  232.526030  204.917638  ...    A1  505DFE06-9B70-46E3-A447-DE5E271DD472.png\n",
              "\n",
              "[5 rows x 16 columns]"
            ]
          },
          "metadata": {},
          "execution_count": 426
        }
      ]
    },
    {
      "cell_type": "code",
      "source": [
        "table_D2Set3 = pd.read_excel(Set3, sheet_name='D2Set3 ')\n",
        "table_D2Set3.head()"
      ],
      "metadata": {
        "id": "MebzIn7sx90S",
        "outputId": "cf3ddd28-2e2b-4f27-9eca-1bea357a9a0e",
        "colab": {
          "base_uri": "https://localhost:8080/",
          "height": 0
        }
      },
      "execution_count": 427,
      "outputs": [
        {
          "output_type": "execute_result",
          "data": {
            "text/html": [
              "\n",
              "  <div id=\"df-f5080c3f-664e-4d3a-a114-50d31cf46a42\">\n",
              "    <div class=\"colab-df-container\">\n",
              "      <div>\n",
              "<style scoped>\n",
              "    .dataframe tbody tr th:only-of-type {\n",
              "        vertical-align: middle;\n",
              "    }\n",
              "\n",
              "    .dataframe tbody tr th {\n",
              "        vertical-align: top;\n",
              "    }\n",
              "\n",
              "    .dataframe thead th {\n",
              "        text-align: right;\n",
              "    }\n",
              "</style>\n",
              "<table border=\"1\" class=\"dataframe\">\n",
              "  <thead>\n",
              "    <tr style=\"text-align: right;\">\n",
              "      <th></th>\n",
              "      <th>R-ref</th>\n",
              "      <th>G-ref</th>\n",
              "      <th>B-ref</th>\n",
              "      <th>R-Shad</th>\n",
              "      <th>G-Shad</th>\n",
              "      <th>B-Shad</th>\n",
              "      <th>H-ref</th>\n",
              "      <th>S-ref</th>\n",
              "      <th>V-ref</th>\n",
              "      <th>H-Shad</th>\n",
              "      <th>S-Shad</th>\n",
              "      <th>V-Shad</th>\n",
              "      <th>Setting</th>\n",
              "      <th>Ref</th>\n",
              "      <th>Shad</th>\n",
              "      <th>Img</th>\n",
              "    </tr>\n",
              "  </thead>\n",
              "  <tbody>\n",
              "    <tr>\n",
              "      <th>0</th>\n",
              "      <td>236.423757</td>\n",
              "      <td>222.193570</td>\n",
              "      <td>186.134130</td>\n",
              "      <td>228.545547</td>\n",
              "      <td>212.702530</td>\n",
              "      <td>177.626726</td>\n",
              "      <td>21.528652</td>\n",
              "      <td>54.317599</td>\n",
              "      <td>236.423757</td>\n",
              "      <td>20.593458</td>\n",
              "      <td>56.814012</td>\n",
              "      <td>228.545547</td>\n",
              "      <td>Set3</td>\n",
              "      <td>D2</td>\n",
              "      <td>A1</td>\n",
              "      <td>3AADDE41-0882-4926-9B9C-6656A010A4EE.png</td>\n",
              "    </tr>\n",
              "    <tr>\n",
              "      <th>1</th>\n",
              "      <td>236.370435</td>\n",
              "      <td>222.197552</td>\n",
              "      <td>185.564394</td>\n",
              "      <td>228.607729</td>\n",
              "      <td>212.847929</td>\n",
              "      <td>177.181077</td>\n",
              "      <td>21.732906</td>\n",
              "      <td>54.879274</td>\n",
              "      <td>236.370435</td>\n",
              "      <td>20.778519</td>\n",
              "      <td>57.360115</td>\n",
              "      <td>228.607729</td>\n",
              "      <td>Set3</td>\n",
              "      <td>D2</td>\n",
              "      <td>A1</td>\n",
              "      <td>714B814C-2029-4CEC-A3D1-65155C21DB01.png</td>\n",
              "    </tr>\n",
              "    <tr>\n",
              "      <th>2</th>\n",
              "      <td>232.111888</td>\n",
              "      <td>218.542929</td>\n",
              "      <td>182.654332</td>\n",
              "      <td>223.895839</td>\n",
              "      <td>208.618293</td>\n",
              "      <td>174.628023</td>\n",
              "      <td>21.840618</td>\n",
              "      <td>54.407440</td>\n",
              "      <td>232.111888</td>\n",
              "      <td>20.496432</td>\n",
              "      <td>56.116393</td>\n",
              "      <td>223.895839</td>\n",
              "      <td>Set3</td>\n",
              "      <td>D2</td>\n",
              "      <td>A1</td>\n",
              "      <td>FF69DBAD-BCEF-42E0-83C9-26D79EA6F346.png</td>\n",
              "    </tr>\n",
              "    <tr>\n",
              "      <th>3</th>\n",
              "      <td>236.398504</td>\n",
              "      <td>222.261558</td>\n",
              "      <td>185.389472</td>\n",
              "      <td>228.746363</td>\n",
              "      <td>212.720415</td>\n",
              "      <td>177.098045</td>\n",
              "      <td>21.730963</td>\n",
              "      <td>55.114316</td>\n",
              "      <td>236.398504</td>\n",
              "      <td>20.654712</td>\n",
              "      <td>57.561672</td>\n",
              "      <td>228.746363</td>\n",
              "      <td>Set3</td>\n",
              "      <td>D2</td>\n",
              "      <td>A1</td>\n",
              "      <td>D42344C1-B458-48E7-AD35-55850D1E18D6.png</td>\n",
              "    </tr>\n",
              "    <tr>\n",
              "      <th>4</th>\n",
              "      <td>237.294386</td>\n",
              "      <td>223.289336</td>\n",
              "      <td>187.103341</td>\n",
              "      <td>229.954499</td>\n",
              "      <td>214.074507</td>\n",
              "      <td>179.109814</td>\n",
              "      <td>21.706974</td>\n",
              "      <td>54.007090</td>\n",
              "      <td>237.294386</td>\n",
              "      <td>20.553146</td>\n",
              "      <td>56.362432</td>\n",
              "      <td>229.954499</td>\n",
              "      <td>Set3</td>\n",
              "      <td>D2</td>\n",
              "      <td>A1</td>\n",
              "      <td>72143F35-55D4-4615-B8A3-072FC23D36C0.png</td>\n",
              "    </tr>\n",
              "  </tbody>\n",
              "</table>\n",
              "</div>\n",
              "      <button class=\"colab-df-convert\" onclick=\"convertToInteractive('df-f5080c3f-664e-4d3a-a114-50d31cf46a42')\"\n",
              "              title=\"Convert this dataframe to an interactive table.\"\n",
              "              style=\"display:none;\">\n",
              "        \n",
              "  <svg xmlns=\"http://www.w3.org/2000/svg\" height=\"24px\"viewBox=\"0 0 24 24\"\n",
              "       width=\"24px\">\n",
              "    <path d=\"M0 0h24v24H0V0z\" fill=\"none\"/>\n",
              "    <path d=\"M18.56 5.44l.94 2.06.94-2.06 2.06-.94-2.06-.94-.94-2.06-.94 2.06-2.06.94zm-11 1L8.5 8.5l.94-2.06 2.06-.94-2.06-.94L8.5 2.5l-.94 2.06-2.06.94zm10 10l.94 2.06.94-2.06 2.06-.94-2.06-.94-.94-2.06-.94 2.06-2.06.94z\"/><path d=\"M17.41 7.96l-1.37-1.37c-.4-.4-.92-.59-1.43-.59-.52 0-1.04.2-1.43.59L10.3 9.45l-7.72 7.72c-.78.78-.78 2.05 0 2.83L4 21.41c.39.39.9.59 1.41.59.51 0 1.02-.2 1.41-.59l7.78-7.78 2.81-2.81c.8-.78.8-2.07 0-2.86zM5.41 20L4 18.59l7.72-7.72 1.47 1.35L5.41 20z\"/>\n",
              "  </svg>\n",
              "      </button>\n",
              "      \n",
              "  <style>\n",
              "    .colab-df-container {\n",
              "      display:flex;\n",
              "      flex-wrap:wrap;\n",
              "      gap: 12px;\n",
              "    }\n",
              "\n",
              "    .colab-df-convert {\n",
              "      background-color: #E8F0FE;\n",
              "      border: none;\n",
              "      border-radius: 50%;\n",
              "      cursor: pointer;\n",
              "      display: none;\n",
              "      fill: #1967D2;\n",
              "      height: 32px;\n",
              "      padding: 0 0 0 0;\n",
              "      width: 32px;\n",
              "    }\n",
              "\n",
              "    .colab-df-convert:hover {\n",
              "      background-color: #E2EBFA;\n",
              "      box-shadow: 0px 1px 2px rgba(60, 64, 67, 0.3), 0px 1px 3px 1px rgba(60, 64, 67, 0.15);\n",
              "      fill: #174EA6;\n",
              "    }\n",
              "\n",
              "    [theme=dark] .colab-df-convert {\n",
              "      background-color: #3B4455;\n",
              "      fill: #D2E3FC;\n",
              "    }\n",
              "\n",
              "    [theme=dark] .colab-df-convert:hover {\n",
              "      background-color: #434B5C;\n",
              "      box-shadow: 0px 1px 3px 1px rgba(0, 0, 0, 0.15);\n",
              "      filter: drop-shadow(0px 1px 2px rgba(0, 0, 0, 0.3));\n",
              "      fill: #FFFFFF;\n",
              "    }\n",
              "  </style>\n",
              "\n",
              "      <script>\n",
              "        const buttonEl =\n",
              "          document.querySelector('#df-f5080c3f-664e-4d3a-a114-50d31cf46a42 button.colab-df-convert');\n",
              "        buttonEl.style.display =\n",
              "          google.colab.kernel.accessAllowed ? 'block' : 'none';\n",
              "\n",
              "        async function convertToInteractive(key) {\n",
              "          const element = document.querySelector('#df-f5080c3f-664e-4d3a-a114-50d31cf46a42');\n",
              "          const dataTable =\n",
              "            await google.colab.kernel.invokeFunction('convertToInteractive',\n",
              "                                                     [key], {});\n",
              "          if (!dataTable) return;\n",
              "\n",
              "          const docLinkHtml = 'Like what you see? Visit the ' +\n",
              "            '<a target=\"_blank\" href=https://colab.research.google.com/notebooks/data_table.ipynb>data table notebook</a>'\n",
              "            + ' to learn more about interactive tables.';\n",
              "          element.innerHTML = '';\n",
              "          dataTable['output_type'] = 'display_data';\n",
              "          await google.colab.output.renderOutput(dataTable, element);\n",
              "          const docLink = document.createElement('div');\n",
              "          docLink.innerHTML = docLinkHtml;\n",
              "          element.appendChild(docLink);\n",
              "        }\n",
              "      </script>\n",
              "    </div>\n",
              "  </div>\n",
              "  "
            ],
            "text/plain": [
              "        R-ref       G-ref  ...  Shad                                       Img\n",
              "0  236.423757  222.193570  ...    A1  3AADDE41-0882-4926-9B9C-6656A010A4EE.png\n",
              "1  236.370435  222.197552  ...    A1  714B814C-2029-4CEC-A3D1-65155C21DB01.png\n",
              "2  232.111888  218.542929  ...    A1  FF69DBAD-BCEF-42E0-83C9-26D79EA6F346.png\n",
              "3  236.398504  222.261558  ...    A1  D42344C1-B458-48E7-AD35-55850D1E18D6.png\n",
              "4  237.294386  223.289336  ...    A1  72143F35-55D4-4615-B8A3-072FC23D36C0.png\n",
              "\n",
              "[5 rows x 16 columns]"
            ]
          },
          "metadata": {},
          "execution_count": 427
        }
      ]
    },
    {
      "cell_type": "code",
      "source": [
        "table_D2Set4 = pd.read_excel(Set4, sheet_name='D2Set4')\n",
        "table_D2Set4.head()"
      ],
      "metadata": {
        "id": "SIzWd_efx90S",
        "outputId": "beedb470-4081-49a9-a6ba-dd34d6841ddc",
        "colab": {
          "base_uri": "https://localhost:8080/",
          "height": 0
        }
      },
      "execution_count": 428,
      "outputs": [
        {
          "output_type": "execute_result",
          "data": {
            "text/html": [
              "\n",
              "  <div id=\"df-b882c2a8-3083-442a-8640-d86fbec646f8\">\n",
              "    <div class=\"colab-df-container\">\n",
              "      <div>\n",
              "<style scoped>\n",
              "    .dataframe tbody tr th:only-of-type {\n",
              "        vertical-align: middle;\n",
              "    }\n",
              "\n",
              "    .dataframe tbody tr th {\n",
              "        vertical-align: top;\n",
              "    }\n",
              "\n",
              "    .dataframe thead th {\n",
              "        text-align: right;\n",
              "    }\n",
              "</style>\n",
              "<table border=\"1\" class=\"dataframe\">\n",
              "  <thead>\n",
              "    <tr style=\"text-align: right;\">\n",
              "      <th></th>\n",
              "      <th>R-ref</th>\n",
              "      <th>G-ref</th>\n",
              "      <th>B-ref</th>\n",
              "      <th>R-Shad</th>\n",
              "      <th>G-Shad</th>\n",
              "      <th>B-Shad</th>\n",
              "      <th>H-ref</th>\n",
              "      <th>S-ref</th>\n",
              "      <th>V-ref</th>\n",
              "      <th>H-Shad</th>\n",
              "      <th>S-Shad</th>\n",
              "      <th>V-Shad</th>\n",
              "      <th>Setting</th>\n",
              "      <th>Ref</th>\n",
              "      <th>Shad</th>\n",
              "      <th>Img</th>\n",
              "    </tr>\n",
              "  </thead>\n",
              "  <tbody>\n",
              "    <tr>\n",
              "      <th>0</th>\n",
              "      <td>233.315883</td>\n",
              "      <td>219.042529</td>\n",
              "      <td>182.521062</td>\n",
              "      <td>233.667093</td>\n",
              "      <td>219.760757</td>\n",
              "      <td>183.891046</td>\n",
              "      <td>21.621378</td>\n",
              "      <td>55.572843</td>\n",
              "      <td>233.315883</td>\n",
              "      <td>21.686509</td>\n",
              "      <td>54.387028</td>\n",
              "      <td>233.667093</td>\n",
              "      <td>Set4</td>\n",
              "      <td>D2</td>\n",
              "      <td>A1</td>\n",
              "      <td>57BFDCD4-3FCB-482B-8F6D-695AB03BA132.png</td>\n",
              "    </tr>\n",
              "    <tr>\n",
              "      <th>1</th>\n",
              "      <td>233.194140</td>\n",
              "      <td>219.034007</td>\n",
              "      <td>182.078484</td>\n",
              "      <td>233.563331</td>\n",
              "      <td>219.768224</td>\n",
              "      <td>183.451248</td>\n",
              "      <td>21.768038</td>\n",
              "      <td>55.961773</td>\n",
              "      <td>233.194140</td>\n",
              "      <td>21.826755</td>\n",
              "      <td>54.788991</td>\n",
              "      <td>233.563331</td>\n",
              "      <td>Set4</td>\n",
              "      <td>D2</td>\n",
              "      <td>A1</td>\n",
              "      <td>A825D098-CB80-4BA0-A769-BC31330B5A5C.png</td>\n",
              "    </tr>\n",
              "    <tr>\n",
              "      <th>2</th>\n",
              "      <td>228.266131</td>\n",
              "      <td>215.102914</td>\n",
              "      <td>179.983605</td>\n",
              "      <td>228.810113</td>\n",
              "      <td>215.946590</td>\n",
              "      <td>181.582960</td>\n",
              "      <td>21.894408</td>\n",
              "      <td>54.001299</td>\n",
              "      <td>228.266131</td>\n",
              "      <td>21.907972</td>\n",
              "      <td>52.719863</td>\n",
              "      <td>228.810113</td>\n",
              "      <td>Set4</td>\n",
              "      <td>D2</td>\n",
              "      <td>A1</td>\n",
              "      <td>320A36C6-A45F-4855-9C69-70F4995F981B.png</td>\n",
              "    </tr>\n",
              "    <tr>\n",
              "      <th>3</th>\n",
              "      <td>233.271975</td>\n",
              "      <td>219.056732</td>\n",
              "      <td>181.960799</td>\n",
              "      <td>233.632672</td>\n",
              "      <td>219.760828</td>\n",
              "      <td>183.255672</td>\n",
              "      <td>21.744014</td>\n",
              "      <td>56.161351</td>\n",
              "      <td>233.271975</td>\n",
              "      <td>21.790698</td>\n",
              "      <td>55.064434</td>\n",
              "      <td>233.632672</td>\n",
              "      <td>Set4</td>\n",
              "      <td>D2</td>\n",
              "      <td>A1</td>\n",
              "      <td>F5718C08-AC9E-4216-9E16-B19FC8625FC9.png</td>\n",
              "    </tr>\n",
              "    <tr>\n",
              "      <th>4</th>\n",
              "      <td>234.316776</td>\n",
              "      <td>220.035711</td>\n",
              "      <td>183.531856</td>\n",
              "      <td>234.724131</td>\n",
              "      <td>220.744968</td>\n",
              "      <td>184.855985</td>\n",
              "      <td>21.653843</td>\n",
              "      <td>55.306387</td>\n",
              "      <td>234.316776</td>\n",
              "      <td>21.684873</td>\n",
              "      <td>54.232203</td>\n",
              "      <td>234.724131</td>\n",
              "      <td>Set4</td>\n",
              "      <td>D2</td>\n",
              "      <td>A1</td>\n",
              "      <td>55184FAB-0359-4CF4-99A1-A38B75A169D0.png</td>\n",
              "    </tr>\n",
              "  </tbody>\n",
              "</table>\n",
              "</div>\n",
              "      <button class=\"colab-df-convert\" onclick=\"convertToInteractive('df-b882c2a8-3083-442a-8640-d86fbec646f8')\"\n",
              "              title=\"Convert this dataframe to an interactive table.\"\n",
              "              style=\"display:none;\">\n",
              "        \n",
              "  <svg xmlns=\"http://www.w3.org/2000/svg\" height=\"24px\"viewBox=\"0 0 24 24\"\n",
              "       width=\"24px\">\n",
              "    <path d=\"M0 0h24v24H0V0z\" fill=\"none\"/>\n",
              "    <path d=\"M18.56 5.44l.94 2.06.94-2.06 2.06-.94-2.06-.94-.94-2.06-.94 2.06-2.06.94zm-11 1L8.5 8.5l.94-2.06 2.06-.94-2.06-.94L8.5 2.5l-.94 2.06-2.06.94zm10 10l.94 2.06.94-2.06 2.06-.94-2.06-.94-.94-2.06-.94 2.06-2.06.94z\"/><path d=\"M17.41 7.96l-1.37-1.37c-.4-.4-.92-.59-1.43-.59-.52 0-1.04.2-1.43.59L10.3 9.45l-7.72 7.72c-.78.78-.78 2.05 0 2.83L4 21.41c.39.39.9.59 1.41.59.51 0 1.02-.2 1.41-.59l7.78-7.78 2.81-2.81c.8-.78.8-2.07 0-2.86zM5.41 20L4 18.59l7.72-7.72 1.47 1.35L5.41 20z\"/>\n",
              "  </svg>\n",
              "      </button>\n",
              "      \n",
              "  <style>\n",
              "    .colab-df-container {\n",
              "      display:flex;\n",
              "      flex-wrap:wrap;\n",
              "      gap: 12px;\n",
              "    }\n",
              "\n",
              "    .colab-df-convert {\n",
              "      background-color: #E8F0FE;\n",
              "      border: none;\n",
              "      border-radius: 50%;\n",
              "      cursor: pointer;\n",
              "      display: none;\n",
              "      fill: #1967D2;\n",
              "      height: 32px;\n",
              "      padding: 0 0 0 0;\n",
              "      width: 32px;\n",
              "    }\n",
              "\n",
              "    .colab-df-convert:hover {\n",
              "      background-color: #E2EBFA;\n",
              "      box-shadow: 0px 1px 2px rgba(60, 64, 67, 0.3), 0px 1px 3px 1px rgba(60, 64, 67, 0.15);\n",
              "      fill: #174EA6;\n",
              "    }\n",
              "\n",
              "    [theme=dark] .colab-df-convert {\n",
              "      background-color: #3B4455;\n",
              "      fill: #D2E3FC;\n",
              "    }\n",
              "\n",
              "    [theme=dark] .colab-df-convert:hover {\n",
              "      background-color: #434B5C;\n",
              "      box-shadow: 0px 1px 3px 1px rgba(0, 0, 0, 0.15);\n",
              "      filter: drop-shadow(0px 1px 2px rgba(0, 0, 0, 0.3));\n",
              "      fill: #FFFFFF;\n",
              "    }\n",
              "  </style>\n",
              "\n",
              "      <script>\n",
              "        const buttonEl =\n",
              "          document.querySelector('#df-b882c2a8-3083-442a-8640-d86fbec646f8 button.colab-df-convert');\n",
              "        buttonEl.style.display =\n",
              "          google.colab.kernel.accessAllowed ? 'block' : 'none';\n",
              "\n",
              "        async function convertToInteractive(key) {\n",
              "          const element = document.querySelector('#df-b882c2a8-3083-442a-8640-d86fbec646f8');\n",
              "          const dataTable =\n",
              "            await google.colab.kernel.invokeFunction('convertToInteractive',\n",
              "                                                     [key], {});\n",
              "          if (!dataTable) return;\n",
              "\n",
              "          const docLinkHtml = 'Like what you see? Visit the ' +\n",
              "            '<a target=\"_blank\" href=https://colab.research.google.com/notebooks/data_table.ipynb>data table notebook</a>'\n",
              "            + ' to learn more about interactive tables.';\n",
              "          element.innerHTML = '';\n",
              "          dataTable['output_type'] = 'display_data';\n",
              "          await google.colab.output.renderOutput(dataTable, element);\n",
              "          const docLink = document.createElement('div');\n",
              "          docLink.innerHTML = docLinkHtml;\n",
              "          element.appendChild(docLink);\n",
              "        }\n",
              "      </script>\n",
              "    </div>\n",
              "  </div>\n",
              "  "
            ],
            "text/plain": [
              "        R-ref       G-ref  ...  Shad                                       Img\n",
              "0  233.315883  219.042529  ...    A1  57BFDCD4-3FCB-482B-8F6D-695AB03BA132.png\n",
              "1  233.194140  219.034007  ...    A1  A825D098-CB80-4BA0-A769-BC31330B5A5C.png\n",
              "2  228.266131  215.102914  ...    A1  320A36C6-A45F-4855-9C69-70F4995F981B.png\n",
              "3  233.271975  219.056732  ...    A1  F5718C08-AC9E-4216-9E16-B19FC8625FC9.png\n",
              "4  234.316776  220.035711  ...    A1  55184FAB-0359-4CF4-99A1-A38B75A169D0.png\n",
              "\n",
              "[5 rows x 16 columns]"
            ]
          },
          "metadata": {},
          "execution_count": 428
        }
      ]
    },
    {
      "cell_type": "markdown",
      "source": [
        "###RGB"
      ],
      "metadata": {
        "id": "p_euaG1Sx90S"
      }
    },
    {
      "cell_type": "code",
      "source": [
        "RGB_D2_Set4 = table_D2Set4"
      ],
      "metadata": {
        "id": "4S39UT3Rx90S"
      },
      "execution_count": 429,
      "outputs": []
    },
    {
      "cell_type": "code",
      "source": [
        "RGB_D2_Set1 = table_D2Set1"
      ],
      "metadata": {
        "id": "nJh9mta-x90S"
      },
      "execution_count": 430,
      "outputs": []
    },
    {
      "cell_type": "code",
      "source": [
        "RGB_D2_Set2 = table_D2Set2"
      ],
      "metadata": {
        "id": "qjQ864f_x90S"
      },
      "execution_count": 431,
      "outputs": []
    },
    {
      "cell_type": "code",
      "source": [
        "RGB_D2_Set3 = table_D2Set3"
      ],
      "metadata": {
        "id": "dXlsuh1Vx90S"
      },
      "execution_count": 432,
      "outputs": []
    },
    {
      "cell_type": "code",
      "source": [
        "RGB_D2_concat = pd.concat([RGB_D2_Set1,RGB_D2_Set2])"
      ],
      "metadata": {
        "id": "obavW2C1nzxF"
      },
      "execution_count": 433,
      "outputs": []
    },
    {
      "cell_type": "code",
      "source": [
        "RGB_D2_concat0 = pd.concat([RGB_D2_concat,RGB_D2_Set4])"
      ],
      "metadata": {
        "id": "OndxWHAMx90T"
      },
      "execution_count": 434,
      "outputs": []
    },
    {
      "cell_type": "code",
      "source": [
        "RGB_D2_concat1 = pd.concat([RGB_D2_concat0,RGB_D2_Set3])"
      ],
      "metadata": {
        "id": "GbBDp67Gx90T"
      },
      "execution_count": 435,
      "outputs": []
    },
    {
      "cell_type": "code",
      "source": [
        "RGB_D2_concat2 = RGB_D2_concat1.drop(['H-ref','S-ref','V-ref','H-Shad','S-Shad','V-Shad','Setting','Ref','Shad','Img'], axis=1)"
      ],
      "metadata": {
        "id": "MAwcNIm2x90T"
      },
      "execution_count": 436,
      "outputs": []
    },
    {
      "cell_type": "code",
      "source": [
        "X_test_D2_RGB = np.array(RGB_D3_CC1)"
      ],
      "metadata": {
        "id": "sp1VXLkox90T"
      },
      "execution_count": 437,
      "outputs": []
    },
    {
      "cell_type": "code",
      "source": [
        "y_D2_RGB =  table_D3CC1.iloc[:,14:15]"
      ],
      "metadata": {
        "id": "HjrkrzQLx90T"
      },
      "execution_count": 438,
      "outputs": []
    },
    {
      "cell_type": "code",
      "source": [
        "y_test_D2_RGB = np.array(y_D2_RGB)"
      ],
      "metadata": {
        "id": "X_yNCUKWx90T"
      },
      "execution_count": 439,
      "outputs": []
    },
    {
      "cell_type": "code",
      "source": [
        "X_train_D2_RGB = np.array(RGB_D2_concat2)"
      ],
      "metadata": {
        "id": "s4tbeuf1x90T"
      },
      "execution_count": 440,
      "outputs": []
    },
    {
      "cell_type": "code",
      "source": [
        "y_train_D2RGB = RGB_D2_concat1.iloc[:,14:15]"
      ],
      "metadata": {
        "id": "YDH_D_rNx90T"
      },
      "execution_count": 441,
      "outputs": []
    },
    {
      "cell_type": "code",
      "source": [
        "y_train_D2_RGB = np.array(y_train_D2RGB)"
      ],
      "metadata": {
        "id": "s0ZuO4mux90T"
      },
      "execution_count": 442,
      "outputs": []
    },
    {
      "cell_type": "code",
      "source": [
        "clf.fit(X_train_D2_RGB, y_train_D2_RGB)"
      ],
      "metadata": {
        "id": "FgepnkAdx90U",
        "outputId": "913aa5ad-59cc-4851-b44c-e52e3ebc8c71",
        "colab": {
          "base_uri": "https://localhost:8080/"
        }
      },
      "execution_count": 443,
      "outputs": [
        {
          "output_type": "stream",
          "name": "stderr",
          "text": [
            "/usr/local/lib/python3.7/dist-packages/ipykernel_launcher.py:1: DataConversionWarning: A column-vector y was passed when a 1d array was expected. Please change the shape of y to (n_samples,), for example using ravel().\n",
            "  \"\"\"Entry point for launching an IPython kernel.\n"
          ]
        },
        {
          "output_type": "execute_result",
          "data": {
            "text/plain": [
              "RandomForestClassifier()"
            ]
          },
          "metadata": {},
          "execution_count": 443
        }
      ]
    },
    {
      "cell_type": "code",
      "source": [
        "y_pred_D2_RGB = clf.predict(X_test_D2_RGB)"
      ],
      "metadata": {
        "id": "KqZtbI1yx90U"
      },
      "execution_count": 444,
      "outputs": []
    },
    {
      "cell_type": "code",
      "source": [
        "print(\"Accuracy:\", metrics.accuracy_score(y_test_D2_RGB, y_pred_D2_RGB))"
      ],
      "metadata": {
        "id": "wmJTutTAx90U",
        "outputId": "9bd2d564-9718-4b2f-d6e2-43381d6173e7",
        "colab": {
          "base_uri": "https://localhost:8080/"
        }
      },
      "execution_count": 445,
      "outputs": [
        {
          "output_type": "stream",
          "name": "stdout",
          "text": [
            "Accuracy: 0.0975\n"
          ]
        }
      ]
    },
    {
      "cell_type": "markdown",
      "source": [
        "###HSV"
      ],
      "metadata": {
        "id": "iTUrHbyjx90U"
      }
    },
    {
      "cell_type": "code",
      "source": [
        "HSV_D2_concat2 = RGB_D2_concat1.drop(['R-ref','G-ref','B-ref','R-Shad','G-Shad','B-Shad','Setting','Ref','Shad','Img'], axis=1)"
      ],
      "metadata": {
        "id": "3_2SN1GBx90U"
      },
      "execution_count": 446,
      "outputs": []
    },
    {
      "cell_type": "code",
      "source": [
        "X_test_D2_HSV = np.array(HSV_D3_CC1)"
      ],
      "metadata": {
        "id": "RaBXco4Qx90U"
      },
      "execution_count": 447,
      "outputs": []
    },
    {
      "cell_type": "code",
      "source": [
        "y_D2_HSV =  table_D3CC1.iloc[:,14:15]"
      ],
      "metadata": {
        "id": "G9P57h2qx90U"
      },
      "execution_count": 448,
      "outputs": []
    },
    {
      "cell_type": "code",
      "source": [
        "y_test_D2_HSV = np.array(y_D2_RGB)"
      ],
      "metadata": {
        "id": "Tgk7oFlox90V"
      },
      "execution_count": 449,
      "outputs": []
    },
    {
      "cell_type": "code",
      "source": [
        "X_train_D2_HSV = np.array(HSV_D2_concat2)"
      ],
      "metadata": {
        "id": "9YurdEdJx90V"
      },
      "execution_count": 450,
      "outputs": []
    },
    {
      "cell_type": "code",
      "source": [
        "y_train_D2HSV = RGB_D2_concat1.iloc[:,14:15]"
      ],
      "metadata": {
        "id": "s3A59uQsx90V"
      },
      "execution_count": 451,
      "outputs": []
    },
    {
      "cell_type": "code",
      "source": [
        "y_train_D2_HSV = np.array(y_train_D2HSV)"
      ],
      "metadata": {
        "id": "_Q8KC_jBx90V"
      },
      "execution_count": 452,
      "outputs": []
    },
    {
      "cell_type": "code",
      "source": [
        "clf.fit(X_train_D2_HSV, y_train_D2_HSV)"
      ],
      "metadata": {
        "id": "hQrQntI1x90V",
        "outputId": "3e658305-0596-4bca-e1da-0721aa38ade3",
        "colab": {
          "base_uri": "https://localhost:8080/"
        }
      },
      "execution_count": 453,
      "outputs": [
        {
          "output_type": "stream",
          "name": "stderr",
          "text": [
            "/usr/local/lib/python3.7/dist-packages/ipykernel_launcher.py:1: DataConversionWarning: A column-vector y was passed when a 1d array was expected. Please change the shape of y to (n_samples,), for example using ravel().\n",
            "  \"\"\"Entry point for launching an IPython kernel.\n"
          ]
        },
        {
          "output_type": "execute_result",
          "data": {
            "text/plain": [
              "RandomForestClassifier()"
            ]
          },
          "metadata": {},
          "execution_count": 453
        }
      ]
    },
    {
      "cell_type": "code",
      "source": [
        "y_pred_D2_HSV = clf.predict(X_test_D2_HSV)"
      ],
      "metadata": {
        "id": "TsH-vaSMx90V"
      },
      "execution_count": 454,
      "outputs": []
    },
    {
      "cell_type": "code",
      "source": [
        "print(\"Accuracy:\", metrics.accuracy_score(y_test_D2_HSV, y_pred_D2_HSV))"
      ],
      "metadata": {
        "id": "5j4gANcdx90V",
        "outputId": "6943871a-5d69-4593-a442-a1ce820ba62c",
        "colab": {
          "base_uri": "https://localhost:8080/"
        }
      },
      "execution_count": 455,
      "outputs": [
        {
          "output_type": "stream",
          "name": "stdout",
          "text": [
            "Accuracy: 0.07625\n"
          ]
        }
      ]
    },
    {
      "cell_type": "markdown",
      "source": [
        "##D3"
      ],
      "metadata": {
        "id": "ntLV6fwAx90V"
      }
    },
    {
      "cell_type": "code",
      "source": [
        "table_D3Set1 = pd.read_excel(Set1 , sheet_name='D3Set1')\n",
        "table_D3Set1.head()"
      ],
      "metadata": {
        "id": "8iTZ6oX0x90V",
        "outputId": "f6a797f4-8fd5-43ef-bafc-9abb4b110320",
        "colab": {
          "base_uri": "https://localhost:8080/",
          "height": 0
        }
      },
      "execution_count": 456,
      "outputs": [
        {
          "output_type": "execute_result",
          "data": {
            "text/html": [
              "\n",
              "  <div id=\"df-6bd920fe-8c9e-41ca-9727-cc4871a4f721\">\n",
              "    <div class=\"colab-df-container\">\n",
              "      <div>\n",
              "<style scoped>\n",
              "    .dataframe tbody tr th:only-of-type {\n",
              "        vertical-align: middle;\n",
              "    }\n",
              "\n",
              "    .dataframe tbody tr th {\n",
              "        vertical-align: top;\n",
              "    }\n",
              "\n",
              "    .dataframe thead th {\n",
              "        text-align: right;\n",
              "    }\n",
              "</style>\n",
              "<table border=\"1\" class=\"dataframe\">\n",
              "  <thead>\n",
              "    <tr style=\"text-align: right;\">\n",
              "      <th></th>\n",
              "      <th>R-ref</th>\n",
              "      <th>G-ref</th>\n",
              "      <th>B-ref</th>\n",
              "      <th>R-Shad</th>\n",
              "      <th>G-Shad</th>\n",
              "      <th>B-Shad</th>\n",
              "      <th>H-ref</th>\n",
              "      <th>S-ref</th>\n",
              "      <th>V-ref</th>\n",
              "      <th>H-Shad</th>\n",
              "      <th>S-Shad</th>\n",
              "      <th>V-Shad</th>\n",
              "      <th>Setting</th>\n",
              "      <th>Ref</th>\n",
              "      <th>Shad</th>\n",
              "      <th>Img</th>\n",
              "    </tr>\n",
              "  </thead>\n",
              "  <tbody>\n",
              "    <tr>\n",
              "      <th>0</th>\n",
              "      <td>233.315883</td>\n",
              "      <td>219.042529</td>\n",
              "      <td>182.521062</td>\n",
              "      <td>233.667093</td>\n",
              "      <td>219.760757</td>\n",
              "      <td>183.891046</td>\n",
              "      <td>21.621378</td>\n",
              "      <td>55.572843</td>\n",
              "      <td>233.315883</td>\n",
              "      <td>21.686509</td>\n",
              "      <td>54.387028</td>\n",
              "      <td>233.667093</td>\n",
              "      <td>Set1</td>\n",
              "      <td>D3</td>\n",
              "      <td>A1</td>\n",
              "      <td>57601EF7-37D5-4783-A278-238D30F60912.png</td>\n",
              "    </tr>\n",
              "    <tr>\n",
              "      <th>1</th>\n",
              "      <td>233.194140</td>\n",
              "      <td>219.034007</td>\n",
              "      <td>182.078484</td>\n",
              "      <td>233.563331</td>\n",
              "      <td>219.768224</td>\n",
              "      <td>183.451248</td>\n",
              "      <td>21.768038</td>\n",
              "      <td>55.961773</td>\n",
              "      <td>233.194140</td>\n",
              "      <td>21.826755</td>\n",
              "      <td>54.788991</td>\n",
              "      <td>233.563331</td>\n",
              "      <td>Set1</td>\n",
              "      <td>D3</td>\n",
              "      <td>A1</td>\n",
              "      <td>5412037F-4AF3-43A2-A4ED-CADFEC0751E7.png</td>\n",
              "    </tr>\n",
              "    <tr>\n",
              "      <th>2</th>\n",
              "      <td>228.266131</td>\n",
              "      <td>215.102914</td>\n",
              "      <td>179.983605</td>\n",
              "      <td>228.810113</td>\n",
              "      <td>215.946590</td>\n",
              "      <td>181.582960</td>\n",
              "      <td>21.894408</td>\n",
              "      <td>54.001299</td>\n",
              "      <td>228.266131</td>\n",
              "      <td>21.907972</td>\n",
              "      <td>52.719863</td>\n",
              "      <td>228.810113</td>\n",
              "      <td>Set1</td>\n",
              "      <td>D3</td>\n",
              "      <td>A1</td>\n",
              "      <td>456A44EC-FCBD-4487-B70C-F0E01333D15C.png</td>\n",
              "    </tr>\n",
              "    <tr>\n",
              "      <th>3</th>\n",
              "      <td>233.271975</td>\n",
              "      <td>219.056732</td>\n",
              "      <td>181.960799</td>\n",
              "      <td>233.632672</td>\n",
              "      <td>219.760828</td>\n",
              "      <td>183.255672</td>\n",
              "      <td>21.744014</td>\n",
              "      <td>56.161351</td>\n",
              "      <td>233.271975</td>\n",
              "      <td>21.790698</td>\n",
              "      <td>55.064434</td>\n",
              "      <td>233.632672</td>\n",
              "      <td>Set1</td>\n",
              "      <td>D3</td>\n",
              "      <td>A1</td>\n",
              "      <td>834A3691-A011-4D07-8652-E2A2C8F1E3F7.png</td>\n",
              "    </tr>\n",
              "    <tr>\n",
              "      <th>4</th>\n",
              "      <td>234.316776</td>\n",
              "      <td>220.035711</td>\n",
              "      <td>183.531856</td>\n",
              "      <td>234.724131</td>\n",
              "      <td>220.744968</td>\n",
              "      <td>184.855985</td>\n",
              "      <td>21.653843</td>\n",
              "      <td>55.306387</td>\n",
              "      <td>234.316776</td>\n",
              "      <td>21.684873</td>\n",
              "      <td>54.232203</td>\n",
              "      <td>234.724131</td>\n",
              "      <td>Set1</td>\n",
              "      <td>D3</td>\n",
              "      <td>A1</td>\n",
              "      <td>714E83ED-391B-480A-85E8-DC4AB8864683.png</td>\n",
              "    </tr>\n",
              "  </tbody>\n",
              "</table>\n",
              "</div>\n",
              "      <button class=\"colab-df-convert\" onclick=\"convertToInteractive('df-6bd920fe-8c9e-41ca-9727-cc4871a4f721')\"\n",
              "              title=\"Convert this dataframe to an interactive table.\"\n",
              "              style=\"display:none;\">\n",
              "        \n",
              "  <svg xmlns=\"http://www.w3.org/2000/svg\" height=\"24px\"viewBox=\"0 0 24 24\"\n",
              "       width=\"24px\">\n",
              "    <path d=\"M0 0h24v24H0V0z\" fill=\"none\"/>\n",
              "    <path d=\"M18.56 5.44l.94 2.06.94-2.06 2.06-.94-2.06-.94-.94-2.06-.94 2.06-2.06.94zm-11 1L8.5 8.5l.94-2.06 2.06-.94-2.06-.94L8.5 2.5l-.94 2.06-2.06.94zm10 10l.94 2.06.94-2.06 2.06-.94-2.06-.94-.94-2.06-.94 2.06-2.06.94z\"/><path d=\"M17.41 7.96l-1.37-1.37c-.4-.4-.92-.59-1.43-.59-.52 0-1.04.2-1.43.59L10.3 9.45l-7.72 7.72c-.78.78-.78 2.05 0 2.83L4 21.41c.39.39.9.59 1.41.59.51 0 1.02-.2 1.41-.59l7.78-7.78 2.81-2.81c.8-.78.8-2.07 0-2.86zM5.41 20L4 18.59l7.72-7.72 1.47 1.35L5.41 20z\"/>\n",
              "  </svg>\n",
              "      </button>\n",
              "      \n",
              "  <style>\n",
              "    .colab-df-container {\n",
              "      display:flex;\n",
              "      flex-wrap:wrap;\n",
              "      gap: 12px;\n",
              "    }\n",
              "\n",
              "    .colab-df-convert {\n",
              "      background-color: #E8F0FE;\n",
              "      border: none;\n",
              "      border-radius: 50%;\n",
              "      cursor: pointer;\n",
              "      display: none;\n",
              "      fill: #1967D2;\n",
              "      height: 32px;\n",
              "      padding: 0 0 0 0;\n",
              "      width: 32px;\n",
              "    }\n",
              "\n",
              "    .colab-df-convert:hover {\n",
              "      background-color: #E2EBFA;\n",
              "      box-shadow: 0px 1px 2px rgba(60, 64, 67, 0.3), 0px 1px 3px 1px rgba(60, 64, 67, 0.15);\n",
              "      fill: #174EA6;\n",
              "    }\n",
              "\n",
              "    [theme=dark] .colab-df-convert {\n",
              "      background-color: #3B4455;\n",
              "      fill: #D2E3FC;\n",
              "    }\n",
              "\n",
              "    [theme=dark] .colab-df-convert:hover {\n",
              "      background-color: #434B5C;\n",
              "      box-shadow: 0px 1px 3px 1px rgba(0, 0, 0, 0.15);\n",
              "      filter: drop-shadow(0px 1px 2px rgba(0, 0, 0, 0.3));\n",
              "      fill: #FFFFFF;\n",
              "    }\n",
              "  </style>\n",
              "\n",
              "      <script>\n",
              "        const buttonEl =\n",
              "          document.querySelector('#df-6bd920fe-8c9e-41ca-9727-cc4871a4f721 button.colab-df-convert');\n",
              "        buttonEl.style.display =\n",
              "          google.colab.kernel.accessAllowed ? 'block' : 'none';\n",
              "\n",
              "        async function convertToInteractive(key) {\n",
              "          const element = document.querySelector('#df-6bd920fe-8c9e-41ca-9727-cc4871a4f721');\n",
              "          const dataTable =\n",
              "            await google.colab.kernel.invokeFunction('convertToInteractive',\n",
              "                                                     [key], {});\n",
              "          if (!dataTable) return;\n",
              "\n",
              "          const docLinkHtml = 'Like what you see? Visit the ' +\n",
              "            '<a target=\"_blank\" href=https://colab.research.google.com/notebooks/data_table.ipynb>data table notebook</a>'\n",
              "            + ' to learn more about interactive tables.';\n",
              "          element.innerHTML = '';\n",
              "          dataTable['output_type'] = 'display_data';\n",
              "          await google.colab.output.renderOutput(dataTable, element);\n",
              "          const docLink = document.createElement('div');\n",
              "          docLink.innerHTML = docLinkHtml;\n",
              "          element.appendChild(docLink);\n",
              "        }\n",
              "      </script>\n",
              "    </div>\n",
              "  </div>\n",
              "  "
            ],
            "text/plain": [
              "        R-ref       G-ref  ...  Shad                                       Img\n",
              "0  233.315883  219.042529  ...    A1  57601EF7-37D5-4783-A278-238D30F60912.png\n",
              "1  233.194140  219.034007  ...    A1  5412037F-4AF3-43A2-A4ED-CADFEC0751E7.png\n",
              "2  228.266131  215.102914  ...    A1  456A44EC-FCBD-4487-B70C-F0E01333D15C.png\n",
              "3  233.271975  219.056732  ...    A1  834A3691-A011-4D07-8652-E2A2C8F1E3F7.png\n",
              "4  234.316776  220.035711  ...    A1  714E83ED-391B-480A-85E8-DC4AB8864683.png\n",
              "\n",
              "[5 rows x 16 columns]"
            ]
          },
          "metadata": {},
          "execution_count": 456
        }
      ]
    },
    {
      "cell_type": "code",
      "source": [
        "table_D3Set2 = pd.read_excel(Set2, sheet_name='D3Set2')\n",
        "table_D3Set2.head()"
      ],
      "metadata": {
        "id": "cFakwmd6x90W",
        "outputId": "9ac6577e-eda5-4eb3-cb49-9ee32a45d424",
        "colab": {
          "base_uri": "https://localhost:8080/",
          "height": 0
        }
      },
      "execution_count": 457,
      "outputs": [
        {
          "output_type": "execute_result",
          "data": {
            "text/html": [
              "\n",
              "  <div id=\"df-ed8767d6-7ca3-48b6-a6a4-5f8b4902ca1a\">\n",
              "    <div class=\"colab-df-container\">\n",
              "      <div>\n",
              "<style scoped>\n",
              "    .dataframe tbody tr th:only-of-type {\n",
              "        vertical-align: middle;\n",
              "    }\n",
              "\n",
              "    .dataframe tbody tr th {\n",
              "        vertical-align: top;\n",
              "    }\n",
              "\n",
              "    .dataframe thead th {\n",
              "        text-align: right;\n",
              "    }\n",
              "</style>\n",
              "<table border=\"1\" class=\"dataframe\">\n",
              "  <thead>\n",
              "    <tr style=\"text-align: right;\">\n",
              "      <th></th>\n",
              "      <th>R-ref</th>\n",
              "      <th>G-ref</th>\n",
              "      <th>B-ref</th>\n",
              "      <th>R-Shad</th>\n",
              "      <th>G-Shad</th>\n",
              "      <th>B-Shad</th>\n",
              "      <th>H-ref</th>\n",
              "      <th>S-ref</th>\n",
              "      <th>V-ref</th>\n",
              "      <th>H-Shad</th>\n",
              "      <th>S-Shad</th>\n",
              "      <th>V-Shad</th>\n",
              "      <th>Setting</th>\n",
              "      <th>Ref</th>\n",
              "      <th>Shad</th>\n",
              "      <th>Img</th>\n",
              "    </tr>\n",
              "  </thead>\n",
              "  <tbody>\n",
              "    <tr>\n",
              "      <th>0</th>\n",
              "      <td>233.496795</td>\n",
              "      <td>219.459984</td>\n",
              "      <td>183.541861</td>\n",
              "      <td>226.103698</td>\n",
              "      <td>210.819850</td>\n",
              "      <td>176.733852</td>\n",
              "      <td>21.614122</td>\n",
              "      <td>54.612082</td>\n",
              "      <td>233.496795</td>\n",
              "      <td>20.574275</td>\n",
              "      <td>55.678528</td>\n",
              "      <td>226.103698</td>\n",
              "      <td>Set2</td>\n",
              "      <td>D3</td>\n",
              "      <td>A1</td>\n",
              "      <td>BA355DCE-C148-4BBE-8A48-F96D2DDEB36B.png</td>\n",
              "    </tr>\n",
              "    <tr>\n",
              "      <th>1</th>\n",
              "      <td>233.355381</td>\n",
              "      <td>219.439880</td>\n",
              "      <td>183.049242</td>\n",
              "      <td>226.136225</td>\n",
              "      <td>210.611621</td>\n",
              "      <td>176.276619</td>\n",
              "      <td>21.770688</td>\n",
              "      <td>55.038073</td>\n",
              "      <td>233.355381</td>\n",
              "      <td>20.556946</td>\n",
              "      <td>56.211195</td>\n",
              "      <td>226.136225</td>\n",
              "      <td>Set2</td>\n",
              "      <td>D3</td>\n",
              "      <td>A1</td>\n",
              "      <td>40E1D41D-38C4-42B0-B31F-CA1712DB393E.png</td>\n",
              "    </tr>\n",
              "    <tr>\n",
              "      <th>2</th>\n",
              "      <td>228.504662</td>\n",
              "      <td>215.655983</td>\n",
              "      <td>181.190171</td>\n",
              "      <td>220.799092</td>\n",
              "      <td>205.492077</td>\n",
              "      <td>172.120749</td>\n",
              "      <td>21.929779</td>\n",
              "      <td>52.862374</td>\n",
              "      <td>228.504662</td>\n",
              "      <td>20.366416</td>\n",
              "      <td>56.219998</td>\n",
              "      <td>220.799092</td>\n",
              "      <td>Set2</td>\n",
              "      <td>D3</td>\n",
              "      <td>A1</td>\n",
              "      <td>59338A02-6279-42FF-A2CA-E970BAE29C55.png</td>\n",
              "    </tr>\n",
              "    <tr>\n",
              "      <th>3</th>\n",
              "      <td>233.467172</td>\n",
              "      <td>219.479118</td>\n",
              "      <td>182.892580</td>\n",
              "      <td>226.386711</td>\n",
              "      <td>210.920397</td>\n",
              "      <td>176.047818</td>\n",
              "      <td>21.751943</td>\n",
              "      <td>55.308761</td>\n",
              "      <td>233.467172</td>\n",
              "      <td>20.750811</td>\n",
              "      <td>56.671764</td>\n",
              "      <td>226.386711</td>\n",
              "      <td>Set2</td>\n",
              "      <td>D3</td>\n",
              "      <td>A1</td>\n",
              "      <td>847D87DE-CDA4-49D8-8411-34DFEAD6A06F.png</td>\n",
              "    </tr>\n",
              "    <tr>\n",
              "      <th>4</th>\n",
              "      <td>234.509615</td>\n",
              "      <td>220.490385</td>\n",
              "      <td>184.508256</td>\n",
              "      <td>227.663423</td>\n",
              "      <td>212.284033</td>\n",
              "      <td>178.291261</td>\n",
              "      <td>21.661131</td>\n",
              "      <td>54.405206</td>\n",
              "      <td>234.509615</td>\n",
              "      <td>20.525438</td>\n",
              "      <td>55.283848</td>\n",
              "      <td>227.663423</td>\n",
              "      <td>Set2</td>\n",
              "      <td>D3</td>\n",
              "      <td>A1</td>\n",
              "      <td>836F8028-4744-4B50-BFA8-DD71556DC524.png</td>\n",
              "    </tr>\n",
              "  </tbody>\n",
              "</table>\n",
              "</div>\n",
              "      <button class=\"colab-df-convert\" onclick=\"convertToInteractive('df-ed8767d6-7ca3-48b6-a6a4-5f8b4902ca1a')\"\n",
              "              title=\"Convert this dataframe to an interactive table.\"\n",
              "              style=\"display:none;\">\n",
              "        \n",
              "  <svg xmlns=\"http://www.w3.org/2000/svg\" height=\"24px\"viewBox=\"0 0 24 24\"\n",
              "       width=\"24px\">\n",
              "    <path d=\"M0 0h24v24H0V0z\" fill=\"none\"/>\n",
              "    <path d=\"M18.56 5.44l.94 2.06.94-2.06 2.06-.94-2.06-.94-.94-2.06-.94 2.06-2.06.94zm-11 1L8.5 8.5l.94-2.06 2.06-.94-2.06-.94L8.5 2.5l-.94 2.06-2.06.94zm10 10l.94 2.06.94-2.06 2.06-.94-2.06-.94-.94-2.06-.94 2.06-2.06.94z\"/><path d=\"M17.41 7.96l-1.37-1.37c-.4-.4-.92-.59-1.43-.59-.52 0-1.04.2-1.43.59L10.3 9.45l-7.72 7.72c-.78.78-.78 2.05 0 2.83L4 21.41c.39.39.9.59 1.41.59.51 0 1.02-.2 1.41-.59l7.78-7.78 2.81-2.81c.8-.78.8-2.07 0-2.86zM5.41 20L4 18.59l7.72-7.72 1.47 1.35L5.41 20z\"/>\n",
              "  </svg>\n",
              "      </button>\n",
              "      \n",
              "  <style>\n",
              "    .colab-df-container {\n",
              "      display:flex;\n",
              "      flex-wrap:wrap;\n",
              "      gap: 12px;\n",
              "    }\n",
              "\n",
              "    .colab-df-convert {\n",
              "      background-color: #E8F0FE;\n",
              "      border: none;\n",
              "      border-radius: 50%;\n",
              "      cursor: pointer;\n",
              "      display: none;\n",
              "      fill: #1967D2;\n",
              "      height: 32px;\n",
              "      padding: 0 0 0 0;\n",
              "      width: 32px;\n",
              "    }\n",
              "\n",
              "    .colab-df-convert:hover {\n",
              "      background-color: #E2EBFA;\n",
              "      box-shadow: 0px 1px 2px rgba(60, 64, 67, 0.3), 0px 1px 3px 1px rgba(60, 64, 67, 0.15);\n",
              "      fill: #174EA6;\n",
              "    }\n",
              "\n",
              "    [theme=dark] .colab-df-convert {\n",
              "      background-color: #3B4455;\n",
              "      fill: #D2E3FC;\n",
              "    }\n",
              "\n",
              "    [theme=dark] .colab-df-convert:hover {\n",
              "      background-color: #434B5C;\n",
              "      box-shadow: 0px 1px 3px 1px rgba(0, 0, 0, 0.15);\n",
              "      filter: drop-shadow(0px 1px 2px rgba(0, 0, 0, 0.3));\n",
              "      fill: #FFFFFF;\n",
              "    }\n",
              "  </style>\n",
              "\n",
              "      <script>\n",
              "        const buttonEl =\n",
              "          document.querySelector('#df-ed8767d6-7ca3-48b6-a6a4-5f8b4902ca1a button.colab-df-convert');\n",
              "        buttonEl.style.display =\n",
              "          google.colab.kernel.accessAllowed ? 'block' : 'none';\n",
              "\n",
              "        async function convertToInteractive(key) {\n",
              "          const element = document.querySelector('#df-ed8767d6-7ca3-48b6-a6a4-5f8b4902ca1a');\n",
              "          const dataTable =\n",
              "            await google.colab.kernel.invokeFunction('convertToInteractive',\n",
              "                                                     [key], {});\n",
              "          if (!dataTable) return;\n",
              "\n",
              "          const docLinkHtml = 'Like what you see? Visit the ' +\n",
              "            '<a target=\"_blank\" href=https://colab.research.google.com/notebooks/data_table.ipynb>data table notebook</a>'\n",
              "            + ' to learn more about interactive tables.';\n",
              "          element.innerHTML = '';\n",
              "          dataTable['output_type'] = 'display_data';\n",
              "          await google.colab.output.renderOutput(dataTable, element);\n",
              "          const docLink = document.createElement('div');\n",
              "          docLink.innerHTML = docLinkHtml;\n",
              "          element.appendChild(docLink);\n",
              "        }\n",
              "      </script>\n",
              "    </div>\n",
              "  </div>\n",
              "  "
            ],
            "text/plain": [
              "        R-ref       G-ref  ...  Shad                                       Img\n",
              "0  233.496795  219.459984  ...    A1  BA355DCE-C148-4BBE-8A48-F96D2DDEB36B.png\n",
              "1  233.355381  219.439880  ...    A1  40E1D41D-38C4-42B0-B31F-CA1712DB393E.png\n",
              "2  228.504662  215.655983  ...    A1  59338A02-6279-42FF-A2CA-E970BAE29C55.png\n",
              "3  233.467172  219.479118  ...    A1  847D87DE-CDA4-49D8-8411-34DFEAD6A06F.png\n",
              "4  234.509615  220.490385  ...    A1  836F8028-4744-4B50-BFA8-DD71556DC524.png\n",
              "\n",
              "[5 rows x 16 columns]"
            ]
          },
          "metadata": {},
          "execution_count": 457
        }
      ]
    },
    {
      "cell_type": "code",
      "source": [
        "table_D3Set3 = pd.read_excel(Set3, sheet_name='D3Set3 ')\n",
        "table_D3Set3.head()"
      ],
      "metadata": {
        "id": "k_96o6p1x90W",
        "outputId": "69420827-4e98-4a10-e0c6-7ba134cccb94",
        "colab": {
          "base_uri": "https://localhost:8080/",
          "height": 0
        }
      },
      "execution_count": 458,
      "outputs": [
        {
          "output_type": "execute_result",
          "data": {
            "text/html": [
              "\n",
              "  <div id=\"df-2457c47b-09aa-4d5b-9c37-37dde5881874\">\n",
              "    <div class=\"colab-df-container\">\n",
              "      <div>\n",
              "<style scoped>\n",
              "    .dataframe tbody tr th:only-of-type {\n",
              "        vertical-align: middle;\n",
              "    }\n",
              "\n",
              "    .dataframe tbody tr th {\n",
              "        vertical-align: top;\n",
              "    }\n",
              "\n",
              "    .dataframe thead th {\n",
              "        text-align: right;\n",
              "    }\n",
              "</style>\n",
              "<table border=\"1\" class=\"dataframe\">\n",
              "  <thead>\n",
              "    <tr style=\"text-align: right;\">\n",
              "      <th></th>\n",
              "      <th>R-ref</th>\n",
              "      <th>G-ref</th>\n",
              "      <th>B-ref</th>\n",
              "      <th>R-Shad</th>\n",
              "      <th>G-Shad</th>\n",
              "      <th>B-Shad</th>\n",
              "      <th>H-ref</th>\n",
              "      <th>S-ref</th>\n",
              "      <th>V-ref</th>\n",
              "      <th>H-Shad</th>\n",
              "      <th>S-Shad</th>\n",
              "      <th>V-Shad</th>\n",
              "      <th>Setting</th>\n",
              "      <th>Ref</th>\n",
              "      <th>Shad</th>\n",
              "      <th>Img</th>\n",
              "    </tr>\n",
              "  </thead>\n",
              "  <tbody>\n",
              "    <tr>\n",
              "      <th>0</th>\n",
              "      <td>233.315883</td>\n",
              "      <td>219.042529</td>\n",
              "      <td>182.521062</td>\n",
              "      <td>233.667093</td>\n",
              "      <td>219.760757</td>\n",
              "      <td>183.891046</td>\n",
              "      <td>21.621378</td>\n",
              "      <td>55.572843</td>\n",
              "      <td>233.315883</td>\n",
              "      <td>21.686509</td>\n",
              "      <td>54.387028</td>\n",
              "      <td>233.667093</td>\n",
              "      <td>Set3</td>\n",
              "      <td>D3</td>\n",
              "      <td>A1</td>\n",
              "      <td>44F32CB2-4AC3-4AA4-B00C-0873A77C39FB.png</td>\n",
              "    </tr>\n",
              "    <tr>\n",
              "      <th>1</th>\n",
              "      <td>233.194140</td>\n",
              "      <td>219.034007</td>\n",
              "      <td>182.078484</td>\n",
              "      <td>233.563331</td>\n",
              "      <td>219.768224</td>\n",
              "      <td>183.451248</td>\n",
              "      <td>21.768038</td>\n",
              "      <td>55.961773</td>\n",
              "      <td>233.194140</td>\n",
              "      <td>21.826755</td>\n",
              "      <td>54.788991</td>\n",
              "      <td>233.563331</td>\n",
              "      <td>Set3</td>\n",
              "      <td>D3</td>\n",
              "      <td>A1</td>\n",
              "      <td>2CDD72C1-95CD-437D-861D-22AF8E89C9CD.png</td>\n",
              "    </tr>\n",
              "    <tr>\n",
              "      <th>2</th>\n",
              "      <td>228.266131</td>\n",
              "      <td>215.102914</td>\n",
              "      <td>179.983605</td>\n",
              "      <td>228.810113</td>\n",
              "      <td>215.946590</td>\n",
              "      <td>181.582960</td>\n",
              "      <td>21.894408</td>\n",
              "      <td>54.001299</td>\n",
              "      <td>228.266131</td>\n",
              "      <td>21.907972</td>\n",
              "      <td>52.719863</td>\n",
              "      <td>228.810113</td>\n",
              "      <td>Set3</td>\n",
              "      <td>D3</td>\n",
              "      <td>A1</td>\n",
              "      <td>CBFB3E49-B585-4DE7-996B-CB1409AD9FBA.png</td>\n",
              "    </tr>\n",
              "    <tr>\n",
              "      <th>3</th>\n",
              "      <td>233.271975</td>\n",
              "      <td>219.056732</td>\n",
              "      <td>181.960799</td>\n",
              "      <td>233.632672</td>\n",
              "      <td>219.760828</td>\n",
              "      <td>183.255672</td>\n",
              "      <td>21.744014</td>\n",
              "      <td>56.161351</td>\n",
              "      <td>233.271975</td>\n",
              "      <td>21.790698</td>\n",
              "      <td>55.064434</td>\n",
              "      <td>233.632672</td>\n",
              "      <td>Set3</td>\n",
              "      <td>D3</td>\n",
              "      <td>A1</td>\n",
              "      <td>74C493A4-A4F6-472E-A771-763A75C24A4F.png</td>\n",
              "    </tr>\n",
              "    <tr>\n",
              "      <th>4</th>\n",
              "      <td>234.316776</td>\n",
              "      <td>220.035711</td>\n",
              "      <td>183.531856</td>\n",
              "      <td>234.724131</td>\n",
              "      <td>220.744968</td>\n",
              "      <td>184.855985</td>\n",
              "      <td>21.653843</td>\n",
              "      <td>55.306387</td>\n",
              "      <td>234.316776</td>\n",
              "      <td>21.684873</td>\n",
              "      <td>54.232203</td>\n",
              "      <td>234.724131</td>\n",
              "      <td>Set3</td>\n",
              "      <td>D3</td>\n",
              "      <td>A1</td>\n",
              "      <td>962C3361-D41F-42C8-B4E2-D58066BB75ED.png</td>\n",
              "    </tr>\n",
              "  </tbody>\n",
              "</table>\n",
              "</div>\n",
              "      <button class=\"colab-df-convert\" onclick=\"convertToInteractive('df-2457c47b-09aa-4d5b-9c37-37dde5881874')\"\n",
              "              title=\"Convert this dataframe to an interactive table.\"\n",
              "              style=\"display:none;\">\n",
              "        \n",
              "  <svg xmlns=\"http://www.w3.org/2000/svg\" height=\"24px\"viewBox=\"0 0 24 24\"\n",
              "       width=\"24px\">\n",
              "    <path d=\"M0 0h24v24H0V0z\" fill=\"none\"/>\n",
              "    <path d=\"M18.56 5.44l.94 2.06.94-2.06 2.06-.94-2.06-.94-.94-2.06-.94 2.06-2.06.94zm-11 1L8.5 8.5l.94-2.06 2.06-.94-2.06-.94L8.5 2.5l-.94 2.06-2.06.94zm10 10l.94 2.06.94-2.06 2.06-.94-2.06-.94-.94-2.06-.94 2.06-2.06.94z\"/><path d=\"M17.41 7.96l-1.37-1.37c-.4-.4-.92-.59-1.43-.59-.52 0-1.04.2-1.43.59L10.3 9.45l-7.72 7.72c-.78.78-.78 2.05 0 2.83L4 21.41c.39.39.9.59 1.41.59.51 0 1.02-.2 1.41-.59l7.78-7.78 2.81-2.81c.8-.78.8-2.07 0-2.86zM5.41 20L4 18.59l7.72-7.72 1.47 1.35L5.41 20z\"/>\n",
              "  </svg>\n",
              "      </button>\n",
              "      \n",
              "  <style>\n",
              "    .colab-df-container {\n",
              "      display:flex;\n",
              "      flex-wrap:wrap;\n",
              "      gap: 12px;\n",
              "    }\n",
              "\n",
              "    .colab-df-convert {\n",
              "      background-color: #E8F0FE;\n",
              "      border: none;\n",
              "      border-radius: 50%;\n",
              "      cursor: pointer;\n",
              "      display: none;\n",
              "      fill: #1967D2;\n",
              "      height: 32px;\n",
              "      padding: 0 0 0 0;\n",
              "      width: 32px;\n",
              "    }\n",
              "\n",
              "    .colab-df-convert:hover {\n",
              "      background-color: #E2EBFA;\n",
              "      box-shadow: 0px 1px 2px rgba(60, 64, 67, 0.3), 0px 1px 3px 1px rgba(60, 64, 67, 0.15);\n",
              "      fill: #174EA6;\n",
              "    }\n",
              "\n",
              "    [theme=dark] .colab-df-convert {\n",
              "      background-color: #3B4455;\n",
              "      fill: #D2E3FC;\n",
              "    }\n",
              "\n",
              "    [theme=dark] .colab-df-convert:hover {\n",
              "      background-color: #434B5C;\n",
              "      box-shadow: 0px 1px 3px 1px rgba(0, 0, 0, 0.15);\n",
              "      filter: drop-shadow(0px 1px 2px rgba(0, 0, 0, 0.3));\n",
              "      fill: #FFFFFF;\n",
              "    }\n",
              "  </style>\n",
              "\n",
              "      <script>\n",
              "        const buttonEl =\n",
              "          document.querySelector('#df-2457c47b-09aa-4d5b-9c37-37dde5881874 button.colab-df-convert');\n",
              "        buttonEl.style.display =\n",
              "          google.colab.kernel.accessAllowed ? 'block' : 'none';\n",
              "\n",
              "        async function convertToInteractive(key) {\n",
              "          const element = document.querySelector('#df-2457c47b-09aa-4d5b-9c37-37dde5881874');\n",
              "          const dataTable =\n",
              "            await google.colab.kernel.invokeFunction('convertToInteractive',\n",
              "                                                     [key], {});\n",
              "          if (!dataTable) return;\n",
              "\n",
              "          const docLinkHtml = 'Like what you see? Visit the ' +\n",
              "            '<a target=\"_blank\" href=https://colab.research.google.com/notebooks/data_table.ipynb>data table notebook</a>'\n",
              "            + ' to learn more about interactive tables.';\n",
              "          element.innerHTML = '';\n",
              "          dataTable['output_type'] = 'display_data';\n",
              "          await google.colab.output.renderOutput(dataTable, element);\n",
              "          const docLink = document.createElement('div');\n",
              "          docLink.innerHTML = docLinkHtml;\n",
              "          element.appendChild(docLink);\n",
              "        }\n",
              "      </script>\n",
              "    </div>\n",
              "  </div>\n",
              "  "
            ],
            "text/plain": [
              "        R-ref       G-ref  ...  Shad                                       Img\n",
              "0  233.315883  219.042529  ...    A1  44F32CB2-4AC3-4AA4-B00C-0873A77C39FB.png\n",
              "1  233.194140  219.034007  ...    A1  2CDD72C1-95CD-437D-861D-22AF8E89C9CD.png\n",
              "2  228.266131  215.102914  ...    A1  CBFB3E49-B585-4DE7-996B-CB1409AD9FBA.png\n",
              "3  233.271975  219.056732  ...    A1  74C493A4-A4F6-472E-A771-763A75C24A4F.png\n",
              "4  234.316776  220.035711  ...    A1  962C3361-D41F-42C8-B4E2-D58066BB75ED.png\n",
              "\n",
              "[5 rows x 16 columns]"
            ]
          },
          "metadata": {},
          "execution_count": 458
        }
      ]
    },
    {
      "cell_type": "code",
      "source": [
        "table_D3Set4 = pd.read_excel(Set4, sheet_name='D3Set4')\n",
        "table_D3Set4.head()"
      ],
      "metadata": {
        "id": "cuqvRlS1x90W",
        "outputId": "07d7b493-e939-4a3f-b4ee-9b90db9e1da7",
        "colab": {
          "base_uri": "https://localhost:8080/",
          "height": 0
        }
      },
      "execution_count": 459,
      "outputs": [
        {
          "output_type": "execute_result",
          "data": {
            "text/html": [
              "\n",
              "  <div id=\"df-a7512cd2-bb3f-4c68-8b3b-259d10f7da78\">\n",
              "    <div class=\"colab-df-container\">\n",
              "      <div>\n",
              "<style scoped>\n",
              "    .dataframe tbody tr th:only-of-type {\n",
              "        vertical-align: middle;\n",
              "    }\n",
              "\n",
              "    .dataframe tbody tr th {\n",
              "        vertical-align: top;\n",
              "    }\n",
              "\n",
              "    .dataframe thead th {\n",
              "        text-align: right;\n",
              "    }\n",
              "</style>\n",
              "<table border=\"1\" class=\"dataframe\">\n",
              "  <thead>\n",
              "    <tr style=\"text-align: right;\">\n",
              "      <th></th>\n",
              "      <th>R-ref</th>\n",
              "      <th>G-ref</th>\n",
              "      <th>B-ref</th>\n",
              "      <th>R-Shad</th>\n",
              "      <th>G-Shad</th>\n",
              "      <th>B-Shad</th>\n",
              "      <th>H-ref</th>\n",
              "      <th>S-ref</th>\n",
              "      <th>V-ref</th>\n",
              "      <th>H-Shad</th>\n",
              "      <th>S-Shad</th>\n",
              "      <th>V-Shad</th>\n",
              "      <th>Setting</th>\n",
              "      <th>Ref</th>\n",
              "      <th>Shad</th>\n",
              "      <th>Img</th>\n",
              "    </tr>\n",
              "  </thead>\n",
              "  <tbody>\n",
              "    <tr>\n",
              "      <th>0</th>\n",
              "      <td>233.496795</td>\n",
              "      <td>219.459984</td>\n",
              "      <td>183.541861</td>\n",
              "      <td>226.103698</td>\n",
              "      <td>210.819850</td>\n",
              "      <td>176.733852</td>\n",
              "      <td>21.614122</td>\n",
              "      <td>54.612082</td>\n",
              "      <td>233.496795</td>\n",
              "      <td>20.574275</td>\n",
              "      <td>55.678528</td>\n",
              "      <td>226.103698</td>\n",
              "      <td>Set4</td>\n",
              "      <td>D3</td>\n",
              "      <td>A1</td>\n",
              "      <td>55D1922F-F23E-42B3-9163-13EDAA8937B9.png</td>\n",
              "    </tr>\n",
              "    <tr>\n",
              "      <th>1</th>\n",
              "      <td>233.355381</td>\n",
              "      <td>219.439880</td>\n",
              "      <td>183.049242</td>\n",
              "      <td>226.136225</td>\n",
              "      <td>210.611621</td>\n",
              "      <td>176.276619</td>\n",
              "      <td>21.770688</td>\n",
              "      <td>55.038073</td>\n",
              "      <td>233.355381</td>\n",
              "      <td>20.556946</td>\n",
              "      <td>56.211195</td>\n",
              "      <td>226.136225</td>\n",
              "      <td>Set4</td>\n",
              "      <td>D3</td>\n",
              "      <td>A1</td>\n",
              "      <td>039D73E5-8D95-487A-9124-4544316E1B0B.png</td>\n",
              "    </tr>\n",
              "    <tr>\n",
              "      <th>2</th>\n",
              "      <td>228.504662</td>\n",
              "      <td>215.655983</td>\n",
              "      <td>181.190171</td>\n",
              "      <td>220.799092</td>\n",
              "      <td>205.492077</td>\n",
              "      <td>172.120749</td>\n",
              "      <td>21.929779</td>\n",
              "      <td>52.862374</td>\n",
              "      <td>228.504662</td>\n",
              "      <td>20.366416</td>\n",
              "      <td>56.219998</td>\n",
              "      <td>220.799092</td>\n",
              "      <td>Set4</td>\n",
              "      <td>D3</td>\n",
              "      <td>A1</td>\n",
              "      <td>FB040BAB-00C0-4A01-963B-59CF94123044.png</td>\n",
              "    </tr>\n",
              "    <tr>\n",
              "      <th>3</th>\n",
              "      <td>233.467172</td>\n",
              "      <td>219.479118</td>\n",
              "      <td>182.892580</td>\n",
              "      <td>226.386711</td>\n",
              "      <td>210.920397</td>\n",
              "      <td>176.047818</td>\n",
              "      <td>21.751943</td>\n",
              "      <td>55.308761</td>\n",
              "      <td>233.467172</td>\n",
              "      <td>20.750811</td>\n",
              "      <td>56.671764</td>\n",
              "      <td>226.386711</td>\n",
              "      <td>Set4</td>\n",
              "      <td>D3</td>\n",
              "      <td>A1</td>\n",
              "      <td>33D7101E-615D-4D53-BBF4-1FFC799B1FAF.png</td>\n",
              "    </tr>\n",
              "    <tr>\n",
              "      <th>4</th>\n",
              "      <td>234.509615</td>\n",
              "      <td>220.490385</td>\n",
              "      <td>184.508256</td>\n",
              "      <td>227.663423</td>\n",
              "      <td>212.284033</td>\n",
              "      <td>178.291261</td>\n",
              "      <td>21.661131</td>\n",
              "      <td>54.405206</td>\n",
              "      <td>234.509615</td>\n",
              "      <td>20.525438</td>\n",
              "      <td>55.283848</td>\n",
              "      <td>227.663423</td>\n",
              "      <td>Set4</td>\n",
              "      <td>D3</td>\n",
              "      <td>A1</td>\n",
              "      <td>89130C74-286A-4614-9CCF-2423B2AC601B.png</td>\n",
              "    </tr>\n",
              "  </tbody>\n",
              "</table>\n",
              "</div>\n",
              "      <button class=\"colab-df-convert\" onclick=\"convertToInteractive('df-a7512cd2-bb3f-4c68-8b3b-259d10f7da78')\"\n",
              "              title=\"Convert this dataframe to an interactive table.\"\n",
              "              style=\"display:none;\">\n",
              "        \n",
              "  <svg xmlns=\"http://www.w3.org/2000/svg\" height=\"24px\"viewBox=\"0 0 24 24\"\n",
              "       width=\"24px\">\n",
              "    <path d=\"M0 0h24v24H0V0z\" fill=\"none\"/>\n",
              "    <path d=\"M18.56 5.44l.94 2.06.94-2.06 2.06-.94-2.06-.94-.94-2.06-.94 2.06-2.06.94zm-11 1L8.5 8.5l.94-2.06 2.06-.94-2.06-.94L8.5 2.5l-.94 2.06-2.06.94zm10 10l.94 2.06.94-2.06 2.06-.94-2.06-.94-.94-2.06-.94 2.06-2.06.94z\"/><path d=\"M17.41 7.96l-1.37-1.37c-.4-.4-.92-.59-1.43-.59-.52 0-1.04.2-1.43.59L10.3 9.45l-7.72 7.72c-.78.78-.78 2.05 0 2.83L4 21.41c.39.39.9.59 1.41.59.51 0 1.02-.2 1.41-.59l7.78-7.78 2.81-2.81c.8-.78.8-2.07 0-2.86zM5.41 20L4 18.59l7.72-7.72 1.47 1.35L5.41 20z\"/>\n",
              "  </svg>\n",
              "      </button>\n",
              "      \n",
              "  <style>\n",
              "    .colab-df-container {\n",
              "      display:flex;\n",
              "      flex-wrap:wrap;\n",
              "      gap: 12px;\n",
              "    }\n",
              "\n",
              "    .colab-df-convert {\n",
              "      background-color: #E8F0FE;\n",
              "      border: none;\n",
              "      border-radius: 50%;\n",
              "      cursor: pointer;\n",
              "      display: none;\n",
              "      fill: #1967D2;\n",
              "      height: 32px;\n",
              "      padding: 0 0 0 0;\n",
              "      width: 32px;\n",
              "    }\n",
              "\n",
              "    .colab-df-convert:hover {\n",
              "      background-color: #E2EBFA;\n",
              "      box-shadow: 0px 1px 2px rgba(60, 64, 67, 0.3), 0px 1px 3px 1px rgba(60, 64, 67, 0.15);\n",
              "      fill: #174EA6;\n",
              "    }\n",
              "\n",
              "    [theme=dark] .colab-df-convert {\n",
              "      background-color: #3B4455;\n",
              "      fill: #D2E3FC;\n",
              "    }\n",
              "\n",
              "    [theme=dark] .colab-df-convert:hover {\n",
              "      background-color: #434B5C;\n",
              "      box-shadow: 0px 1px 3px 1px rgba(0, 0, 0, 0.15);\n",
              "      filter: drop-shadow(0px 1px 2px rgba(0, 0, 0, 0.3));\n",
              "      fill: #FFFFFF;\n",
              "    }\n",
              "  </style>\n",
              "\n",
              "      <script>\n",
              "        const buttonEl =\n",
              "          document.querySelector('#df-a7512cd2-bb3f-4c68-8b3b-259d10f7da78 button.colab-df-convert');\n",
              "        buttonEl.style.display =\n",
              "          google.colab.kernel.accessAllowed ? 'block' : 'none';\n",
              "\n",
              "        async function convertToInteractive(key) {\n",
              "          const element = document.querySelector('#df-a7512cd2-bb3f-4c68-8b3b-259d10f7da78');\n",
              "          const dataTable =\n",
              "            await google.colab.kernel.invokeFunction('convertToInteractive',\n",
              "                                                     [key], {});\n",
              "          if (!dataTable) return;\n",
              "\n",
              "          const docLinkHtml = 'Like what you see? Visit the ' +\n",
              "            '<a target=\"_blank\" href=https://colab.research.google.com/notebooks/data_table.ipynb>data table notebook</a>'\n",
              "            + ' to learn more about interactive tables.';\n",
              "          element.innerHTML = '';\n",
              "          dataTable['output_type'] = 'display_data';\n",
              "          await google.colab.output.renderOutput(dataTable, element);\n",
              "          const docLink = document.createElement('div');\n",
              "          docLink.innerHTML = docLinkHtml;\n",
              "          element.appendChild(docLink);\n",
              "        }\n",
              "      </script>\n",
              "    </div>\n",
              "  </div>\n",
              "  "
            ],
            "text/plain": [
              "        R-ref       G-ref  ...  Shad                                       Img\n",
              "0  233.496795  219.459984  ...    A1  55D1922F-F23E-42B3-9163-13EDAA8937B9.png\n",
              "1  233.355381  219.439880  ...    A1  039D73E5-8D95-487A-9124-4544316E1B0B.png\n",
              "2  228.504662  215.655983  ...    A1  FB040BAB-00C0-4A01-963B-59CF94123044.png\n",
              "3  233.467172  219.479118  ...    A1  33D7101E-615D-4D53-BBF4-1FFC799B1FAF.png\n",
              "4  234.509615  220.490385  ...    A1  89130C74-286A-4614-9CCF-2423B2AC601B.png\n",
              "\n",
              "[5 rows x 16 columns]"
            ]
          },
          "metadata": {},
          "execution_count": 459
        }
      ]
    },
    {
      "cell_type": "markdown",
      "source": [
        "###RGB"
      ],
      "metadata": {
        "id": "CYvwE4PDx90W"
      }
    },
    {
      "cell_type": "code",
      "source": [
        "RGB_D3_Set4 = table_D3Set4"
      ],
      "metadata": {
        "id": "PlR5iWwRx90W"
      },
      "execution_count": 460,
      "outputs": []
    },
    {
      "cell_type": "code",
      "source": [
        "RGB_D3_Set1 = table_D3Set1"
      ],
      "metadata": {
        "id": "blPo4yEex90W"
      },
      "execution_count": 461,
      "outputs": []
    },
    {
      "cell_type": "code",
      "source": [
        "RGB_D3_Set2 = table_D3Set2"
      ],
      "metadata": {
        "id": "h-p_12Ffx90W"
      },
      "execution_count": 462,
      "outputs": []
    },
    {
      "cell_type": "code",
      "source": [
        "RGB_D3_Set3 = table_D3Set3"
      ],
      "metadata": {
        "id": "_gplnOW-x90X"
      },
      "execution_count": 463,
      "outputs": []
    },
    {
      "cell_type": "code",
      "source": [
        "RGB_D3_concat = pd.concat([RGB_D3_Set1,RGB_D3_Set2])"
      ],
      "metadata": {
        "id": "P2_3rUpYok-H"
      },
      "execution_count": 464,
      "outputs": []
    },
    {
      "cell_type": "code",
      "source": [
        "RGB_D3_concat0 = pd.concat([RGB_D3_concat,RGB_D3_Set4])"
      ],
      "metadata": {
        "id": "qAOZ46Hjx90X"
      },
      "execution_count": 465,
      "outputs": []
    },
    {
      "cell_type": "code",
      "source": [
        "RGB_D3_concat1 = pd.concat([RGB_D3_concat0,RGB_D3_Set3])"
      ],
      "metadata": {
        "id": "lS7r_4VVx90X"
      },
      "execution_count": 466,
      "outputs": []
    },
    {
      "cell_type": "code",
      "source": [
        "RGB_D3_concat2 = RGB_D3_concat1.drop(['H-ref','S-ref','V-ref','H-Shad','S-Shad','V-Shad','Setting','Ref','Shad','Img'], axis=1)"
      ],
      "metadata": {
        "id": "1yMt6NzXx90X"
      },
      "execution_count": 467,
      "outputs": []
    },
    {
      "cell_type": "code",
      "source": [
        "X_test_D3_RGB = np.array(RGB_D3_CC1)"
      ],
      "metadata": {
        "id": "ufA1_Y1xx90X"
      },
      "execution_count": 468,
      "outputs": []
    },
    {
      "cell_type": "code",
      "source": [
        "y_D3_RGB =  table_D3CC1.iloc[:,14:15]"
      ],
      "metadata": {
        "id": "-QW8SDSyx90X"
      },
      "execution_count": 469,
      "outputs": []
    },
    {
      "cell_type": "code",
      "source": [
        "y_test_D3_RGB = np.array(y_D3_RGB)"
      ],
      "metadata": {
        "id": "kL5UDJAUx90X"
      },
      "execution_count": 470,
      "outputs": []
    },
    {
      "cell_type": "code",
      "source": [
        "X_train_D3_RGB = np.array(RGB_D3_concat2)"
      ],
      "metadata": {
        "id": "I-j7R3Tnx90X"
      },
      "execution_count": 471,
      "outputs": []
    },
    {
      "cell_type": "code",
      "source": [
        "y_train_D3RGB = RGB_D3_concat1.iloc[:,14:15]"
      ],
      "metadata": {
        "id": "cuBbjTNYx90X"
      },
      "execution_count": 472,
      "outputs": []
    },
    {
      "cell_type": "code",
      "source": [
        "y_train_D3_RGB = np.array(y_train_D3RGB)"
      ],
      "metadata": {
        "id": "gB3TEG8Ox90Y"
      },
      "execution_count": 473,
      "outputs": []
    },
    {
      "cell_type": "code",
      "source": [
        "clf.fit(X_train_D3_RGB, y_train_D3_RGB)"
      ],
      "metadata": {
        "id": "owe-5XSGx90Y",
        "outputId": "08f34878-1c50-459a-e0aa-4dd5626a5eee",
        "colab": {
          "base_uri": "https://localhost:8080/"
        }
      },
      "execution_count": 474,
      "outputs": [
        {
          "output_type": "stream",
          "name": "stderr",
          "text": [
            "/usr/local/lib/python3.7/dist-packages/ipykernel_launcher.py:1: DataConversionWarning: A column-vector y was passed when a 1d array was expected. Please change the shape of y to (n_samples,), for example using ravel().\n",
            "  \"\"\"Entry point for launching an IPython kernel.\n"
          ]
        },
        {
          "output_type": "execute_result",
          "data": {
            "text/plain": [
              "RandomForestClassifier()"
            ]
          },
          "metadata": {},
          "execution_count": 474
        }
      ]
    },
    {
      "cell_type": "code",
      "source": [
        "y_pred_D3_RGB = clf.predict(X_test_D3_RGB)"
      ],
      "metadata": {
        "id": "_A7t5UNHx90Y"
      },
      "execution_count": 475,
      "outputs": []
    },
    {
      "cell_type": "code",
      "source": [
        "print(\"Accuracy:\", metrics.accuracy_score(y_test_D3_RGB, y_pred_D3_RGB))"
      ],
      "metadata": {
        "id": "j_-xWLsfx90Y",
        "outputId": "0167bb36-5f50-4916-f3dd-3f99f348b590",
        "colab": {
          "base_uri": "https://localhost:8080/"
        }
      },
      "execution_count": 476,
      "outputs": [
        {
          "output_type": "stream",
          "name": "stdout",
          "text": [
            "Accuracy: 0.06875\n"
          ]
        }
      ]
    },
    {
      "cell_type": "markdown",
      "source": [
        "###HSV"
      ],
      "metadata": {
        "id": "_Bqu-0vjx90Y"
      }
    },
    {
      "cell_type": "code",
      "source": [
        "HSV_D3_concat2 = RGB_D3_concat1.drop(['R-ref','G-ref','B-ref','R-Shad','G-Shad','B-Shad','Setting','Ref','Shad','Img'], axis=1)"
      ],
      "metadata": {
        "id": "qtZokQPJx90Y"
      },
      "execution_count": 477,
      "outputs": []
    },
    {
      "cell_type": "code",
      "source": [
        "X_test_D3_HSV = np.array(HSV_D3_CC1)"
      ],
      "metadata": {
        "id": "R3Z14S8Fx90Y"
      },
      "execution_count": 478,
      "outputs": []
    },
    {
      "cell_type": "code",
      "source": [
        "y_D3_HSV =  table_D3CC1.iloc[:,14:15]"
      ],
      "metadata": {
        "id": "kKyPj2eix90Y"
      },
      "execution_count": 479,
      "outputs": []
    },
    {
      "cell_type": "code",
      "source": [
        "y_test_D3_HSV = np.array(y_D3_RGB)"
      ],
      "metadata": {
        "id": "U1QiYDz0x90Y"
      },
      "execution_count": 480,
      "outputs": []
    },
    {
      "cell_type": "code",
      "source": [
        "X_train_D3_HSV = np.array(HSV_D3_concat2)"
      ],
      "metadata": {
        "id": "0e4tbRaOx90Z"
      },
      "execution_count": 481,
      "outputs": []
    },
    {
      "cell_type": "code",
      "source": [
        "y_train_D3HSV = RGB_D3_concat1.iloc[:,14:15]"
      ],
      "metadata": {
        "id": "xT5X846Tx90Z"
      },
      "execution_count": 482,
      "outputs": []
    },
    {
      "cell_type": "code",
      "source": [
        "y_train_D3_HSV = np.array(y_train_D3HSV)"
      ],
      "metadata": {
        "id": "cBdx2NTpx90Z"
      },
      "execution_count": 483,
      "outputs": []
    },
    {
      "cell_type": "code",
      "source": [
        "clf.fit(X_train_D3_HSV, y_train_D3_HSV)"
      ],
      "metadata": {
        "id": "0ltb0Lesx90Z",
        "outputId": "4b95e1b5-053c-45ce-cbb1-1d87cea96afc",
        "colab": {
          "base_uri": "https://localhost:8080/"
        }
      },
      "execution_count": 484,
      "outputs": [
        {
          "output_type": "stream",
          "name": "stderr",
          "text": [
            "/usr/local/lib/python3.7/dist-packages/ipykernel_launcher.py:1: DataConversionWarning: A column-vector y was passed when a 1d array was expected. Please change the shape of y to (n_samples,), for example using ravel().\n",
            "  \"\"\"Entry point for launching an IPython kernel.\n"
          ]
        },
        {
          "output_type": "execute_result",
          "data": {
            "text/plain": [
              "RandomForestClassifier()"
            ]
          },
          "metadata": {},
          "execution_count": 484
        }
      ]
    },
    {
      "cell_type": "code",
      "source": [
        "y_pred_D3_HSV = clf.predict(X_test_D3_HSV)"
      ],
      "metadata": {
        "id": "wC9RHVBHx90Z"
      },
      "execution_count": 485,
      "outputs": []
    },
    {
      "cell_type": "code",
      "source": [
        "print(\"Accuracy:\", metrics.accuracy_score(y_test_D3_HSV, y_pred_D3_HSV))"
      ],
      "metadata": {
        "id": "EtzMQr1Rx90Z",
        "outputId": "b29a2090-32a5-49c5-8b4b-e8bebab27959",
        "colab": {
          "base_uri": "https://localhost:8080/"
        }
      },
      "execution_count": 486,
      "outputs": [
        {
          "output_type": "stream",
          "name": "stdout",
          "text": [
            "Accuracy: 0.06875\n"
          ]
        }
      ]
    },
    {
      "cell_type": "markdown",
      "source": [
        "##D4"
      ],
      "metadata": {
        "id": "WfcEm0A2x90Z"
      }
    },
    {
      "cell_type": "code",
      "source": [
        "table_D4Set1 = pd.read_excel(Set1 , sheet_name='D4Set1')\n",
        "table_D4Set1.head()"
      ],
      "metadata": {
        "id": "mfacKr9gx90Z",
        "outputId": "d70a9cbc-5ef0-4331-d385-576d2308044a",
        "colab": {
          "base_uri": "https://localhost:8080/",
          "height": 0
        }
      },
      "execution_count": 487,
      "outputs": [
        {
          "output_type": "execute_result",
          "data": {
            "text/html": [
              "\n",
              "  <div id=\"df-38a0d068-c211-4c0f-9ff3-308e220f1176\">\n",
              "    <div class=\"colab-df-container\">\n",
              "      <div>\n",
              "<style scoped>\n",
              "    .dataframe tbody tr th:only-of-type {\n",
              "        vertical-align: middle;\n",
              "    }\n",
              "\n",
              "    .dataframe tbody tr th {\n",
              "        vertical-align: top;\n",
              "    }\n",
              "\n",
              "    .dataframe thead th {\n",
              "        text-align: right;\n",
              "    }\n",
              "</style>\n",
              "<table border=\"1\" class=\"dataframe\">\n",
              "  <thead>\n",
              "    <tr style=\"text-align: right;\">\n",
              "      <th></th>\n",
              "      <th>R-ref</th>\n",
              "      <th>G-ref</th>\n",
              "      <th>B-ref</th>\n",
              "      <th>R-Shad</th>\n",
              "      <th>G-Shad</th>\n",
              "      <th>B-Shad</th>\n",
              "      <th>H-ref</th>\n",
              "      <th>S-ref</th>\n",
              "      <th>V-ref</th>\n",
              "      <th>H-Shad</th>\n",
              "      <th>S-Shad</th>\n",
              "      <th>V-Shad</th>\n",
              "      <th>Setting</th>\n",
              "      <th>Ref</th>\n",
              "      <th>Shad</th>\n",
              "      <th>Img</th>\n",
              "    </tr>\n",
              "  </thead>\n",
              "  <tbody>\n",
              "    <tr>\n",
              "      <th>0</th>\n",
              "      <td>238.088190</td>\n",
              "      <td>223.843531</td>\n",
              "      <td>187.885878</td>\n",
              "      <td>229.476972</td>\n",
              "      <td>213.117505</td>\n",
              "      <td>176.950422</td>\n",
              "      <td>20.651005</td>\n",
              "      <td>58.388472</td>\n",
              "      <td>229.476972</td>\n",
              "      <td>20.651005</td>\n",
              "      <td>58.388472</td>\n",
              "      <td>229.476972</td>\n",
              "      <td>Set1</td>\n",
              "      <td>D4</td>\n",
              "      <td>A1</td>\n",
              "      <td>D47BC759-4BF1-40D8-9D68-52766A1B3358.png</td>\n",
              "    </tr>\n",
              "    <tr>\n",
              "      <th>1</th>\n",
              "      <td>238.053030</td>\n",
              "      <td>223.947455</td>\n",
              "      <td>187.320804</td>\n",
              "      <td>229.499305</td>\n",
              "      <td>213.329534</td>\n",
              "      <td>176.495784</td>\n",
              "      <td>20.899361</td>\n",
              "      <td>58.910296</td>\n",
              "      <td>229.499305</td>\n",
              "      <td>20.899361</td>\n",
              "      <td>58.910296</td>\n",
              "      <td>229.499305</td>\n",
              "      <td>Set1</td>\n",
              "      <td>D4</td>\n",
              "      <td>A1</td>\n",
              "      <td>63D0E875-9DA6-4483-BB03-E54DC1E8BC87.png</td>\n",
              "    </tr>\n",
              "    <tr>\n",
              "      <th>2</th>\n",
              "      <td>233.654332</td>\n",
              "      <td>219.933955</td>\n",
              "      <td>183.887335</td>\n",
              "      <td>225.252989</td>\n",
              "      <td>209.770920</td>\n",
              "      <td>175.431193</td>\n",
              "      <td>20.495598</td>\n",
              "      <td>56.406542</td>\n",
              "      <td>225.252989</td>\n",
              "      <td>20.495598</td>\n",
              "      <td>56.406542</td>\n",
              "      <td>225.252989</td>\n",
              "      <td>Set1</td>\n",
              "      <td>D4</td>\n",
              "      <td>A1</td>\n",
              "      <td>779692A7-DE00-4434-843B-AEB78B8B0AF8.png</td>\n",
              "    </tr>\n",
              "    <tr>\n",
              "      <th>3</th>\n",
              "      <td>238.016026</td>\n",
              "      <td>223.854701</td>\n",
              "      <td>186.930070</td>\n",
              "      <td>229.572329</td>\n",
              "      <td>213.106941</td>\n",
              "      <td>176.397739</td>\n",
              "      <td>20.697340</td>\n",
              "      <td>59.068020</td>\n",
              "      <td>229.572329</td>\n",
              "      <td>20.697340</td>\n",
              "      <td>59.068020</td>\n",
              "      <td>229.572329</td>\n",
              "      <td>Set1</td>\n",
              "      <td>D4</td>\n",
              "      <td>A1</td>\n",
              "      <td>18456DEB-40B5-49F7-B753-562994BE1B43.png</td>\n",
              "    </tr>\n",
              "    <tr>\n",
              "      <th>4</th>\n",
              "      <td>238.780109</td>\n",
              "      <td>224.845183</td>\n",
              "      <td>188.688714</td>\n",
              "      <td>230.794922</td>\n",
              "      <td>214.496710</td>\n",
              "      <td>178.591697</td>\n",
              "      <td>20.598462</td>\n",
              "      <td>57.674173</td>\n",
              "      <td>230.794922</td>\n",
              "      <td>20.598462</td>\n",
              "      <td>57.674173</td>\n",
              "      <td>230.794922</td>\n",
              "      <td>Set1</td>\n",
              "      <td>D4</td>\n",
              "      <td>A1</td>\n",
              "      <td>72376331-D805-4BAC-AE50-7A04A6729880.png</td>\n",
              "    </tr>\n",
              "  </tbody>\n",
              "</table>\n",
              "</div>\n",
              "      <button class=\"colab-df-convert\" onclick=\"convertToInteractive('df-38a0d068-c211-4c0f-9ff3-308e220f1176')\"\n",
              "              title=\"Convert this dataframe to an interactive table.\"\n",
              "              style=\"display:none;\">\n",
              "        \n",
              "  <svg xmlns=\"http://www.w3.org/2000/svg\" height=\"24px\"viewBox=\"0 0 24 24\"\n",
              "       width=\"24px\">\n",
              "    <path d=\"M0 0h24v24H0V0z\" fill=\"none\"/>\n",
              "    <path d=\"M18.56 5.44l.94 2.06.94-2.06 2.06-.94-2.06-.94-.94-2.06-.94 2.06-2.06.94zm-11 1L8.5 8.5l.94-2.06 2.06-.94-2.06-.94L8.5 2.5l-.94 2.06-2.06.94zm10 10l.94 2.06.94-2.06 2.06-.94-2.06-.94-.94-2.06-.94 2.06-2.06.94z\"/><path d=\"M17.41 7.96l-1.37-1.37c-.4-.4-.92-.59-1.43-.59-.52 0-1.04.2-1.43.59L10.3 9.45l-7.72 7.72c-.78.78-.78 2.05 0 2.83L4 21.41c.39.39.9.59 1.41.59.51 0 1.02-.2 1.41-.59l7.78-7.78 2.81-2.81c.8-.78.8-2.07 0-2.86zM5.41 20L4 18.59l7.72-7.72 1.47 1.35L5.41 20z\"/>\n",
              "  </svg>\n",
              "      </button>\n",
              "      \n",
              "  <style>\n",
              "    .colab-df-container {\n",
              "      display:flex;\n",
              "      flex-wrap:wrap;\n",
              "      gap: 12px;\n",
              "    }\n",
              "\n",
              "    .colab-df-convert {\n",
              "      background-color: #E8F0FE;\n",
              "      border: none;\n",
              "      border-radius: 50%;\n",
              "      cursor: pointer;\n",
              "      display: none;\n",
              "      fill: #1967D2;\n",
              "      height: 32px;\n",
              "      padding: 0 0 0 0;\n",
              "      width: 32px;\n",
              "    }\n",
              "\n",
              "    .colab-df-convert:hover {\n",
              "      background-color: #E2EBFA;\n",
              "      box-shadow: 0px 1px 2px rgba(60, 64, 67, 0.3), 0px 1px 3px 1px rgba(60, 64, 67, 0.15);\n",
              "      fill: #174EA6;\n",
              "    }\n",
              "\n",
              "    [theme=dark] .colab-df-convert {\n",
              "      background-color: #3B4455;\n",
              "      fill: #D2E3FC;\n",
              "    }\n",
              "\n",
              "    [theme=dark] .colab-df-convert:hover {\n",
              "      background-color: #434B5C;\n",
              "      box-shadow: 0px 1px 3px 1px rgba(0, 0, 0, 0.15);\n",
              "      filter: drop-shadow(0px 1px 2px rgba(0, 0, 0, 0.3));\n",
              "      fill: #FFFFFF;\n",
              "    }\n",
              "  </style>\n",
              "\n",
              "      <script>\n",
              "        const buttonEl =\n",
              "          document.querySelector('#df-38a0d068-c211-4c0f-9ff3-308e220f1176 button.colab-df-convert');\n",
              "        buttonEl.style.display =\n",
              "          google.colab.kernel.accessAllowed ? 'block' : 'none';\n",
              "\n",
              "        async function convertToInteractive(key) {\n",
              "          const element = document.querySelector('#df-38a0d068-c211-4c0f-9ff3-308e220f1176');\n",
              "          const dataTable =\n",
              "            await google.colab.kernel.invokeFunction('convertToInteractive',\n",
              "                                                     [key], {});\n",
              "          if (!dataTable) return;\n",
              "\n",
              "          const docLinkHtml = 'Like what you see? Visit the ' +\n",
              "            '<a target=\"_blank\" href=https://colab.research.google.com/notebooks/data_table.ipynb>data table notebook</a>'\n",
              "            + ' to learn more about interactive tables.';\n",
              "          element.innerHTML = '';\n",
              "          dataTable['output_type'] = 'display_data';\n",
              "          await google.colab.output.renderOutput(dataTable, element);\n",
              "          const docLink = document.createElement('div');\n",
              "          docLink.innerHTML = docLinkHtml;\n",
              "          element.appendChild(docLink);\n",
              "        }\n",
              "      </script>\n",
              "    </div>\n",
              "  </div>\n",
              "  "
            ],
            "text/plain": [
              "        R-ref       G-ref  ...  Shad                                       Img\n",
              "0  238.088190  223.843531  ...    A1  D47BC759-4BF1-40D8-9D68-52766A1B3358.png\n",
              "1  238.053030  223.947455  ...    A1  63D0E875-9DA6-4483-BB03-E54DC1E8BC87.png\n",
              "2  233.654332  219.933955  ...    A1  779692A7-DE00-4434-843B-AEB78B8B0AF8.png\n",
              "3  238.016026  223.854701  ...    A1  18456DEB-40B5-49F7-B753-562994BE1B43.png\n",
              "4  238.780109  224.845183  ...    A1  72376331-D805-4BAC-AE50-7A04A6729880.png\n",
              "\n",
              "[5 rows x 16 columns]"
            ]
          },
          "metadata": {},
          "execution_count": 487
        }
      ]
    },
    {
      "cell_type": "code",
      "source": [
        "table_D4Set2 = pd.read_excel(Set2, sheet_name='D4Set2')\n",
        "table_D4Set2.head()"
      ],
      "metadata": {
        "id": "09mHRiKrx90Z",
        "outputId": "fe0b94a8-2fa3-49a5-a3bd-715ec8902a07",
        "colab": {
          "base_uri": "https://localhost:8080/",
          "height": 0
        }
      },
      "execution_count": 488,
      "outputs": [
        {
          "output_type": "execute_result",
          "data": {
            "text/html": [
              "\n",
              "  <div id=\"df-48634621-6a2b-4dcb-b95c-c1acca5a30c4\">\n",
              "    <div class=\"colab-df-container\">\n",
              "      <div>\n",
              "<style scoped>\n",
              "    .dataframe tbody tr th:only-of-type {\n",
              "        vertical-align: middle;\n",
              "    }\n",
              "\n",
              "    .dataframe tbody tr th {\n",
              "        vertical-align: top;\n",
              "    }\n",
              "\n",
              "    .dataframe thead th {\n",
              "        text-align: right;\n",
              "    }\n",
              "</style>\n",
              "<table border=\"1\" class=\"dataframe\">\n",
              "  <thead>\n",
              "    <tr style=\"text-align: right;\">\n",
              "      <th></th>\n",
              "      <th>R-ref</th>\n",
              "      <th>G-ref</th>\n",
              "      <th>B-ref</th>\n",
              "      <th>R-Shad</th>\n",
              "      <th>G-Shad</th>\n",
              "      <th>B-Shad</th>\n",
              "      <th>H-ref</th>\n",
              "      <th>S-ref</th>\n",
              "      <th>V-ref</th>\n",
              "      <th>H-Shad</th>\n",
              "      <th>S-Shad</th>\n",
              "      <th>V-Shad</th>\n",
              "      <th>Setting</th>\n",
              "      <th>Ref</th>\n",
              "      <th>Shad</th>\n",
              "      <th>Img</th>\n",
              "    </tr>\n",
              "  </thead>\n",
              "  <tbody>\n",
              "    <tr>\n",
              "      <th>0</th>\n",
              "      <td>234.805556</td>\n",
              "      <td>220.733877</td>\n",
              "      <td>184.213578</td>\n",
              "      <td>227.281809</td>\n",
              "      <td>211.712909</td>\n",
              "      <td>176.783709</td>\n",
              "      <td>21.740385</td>\n",
              "      <td>55.012432</td>\n",
              "      <td>234.805556</td>\n",
              "      <td>20.657678</td>\n",
              "      <td>56.643129</td>\n",
              "      <td>227.281809</td>\n",
              "      <td>Set2</td>\n",
              "      <td>D4</td>\n",
              "      <td>A1</td>\n",
              "      <td>797683A5-C868-494F-A26C-B587A80C35FB.png</td>\n",
              "    </tr>\n",
              "    <tr>\n",
              "      <th>1</th>\n",
              "      <td>230.391123</td>\n",
              "      <td>217.092269</td>\n",
              "      <td>181.639860</td>\n",
              "      <td>222.406172</td>\n",
              "      <td>207.109258</td>\n",
              "      <td>173.314707</td>\n",
              "      <td>21.874320</td>\n",
              "      <td>54.037976</td>\n",
              "      <td>230.391123</td>\n",
              "      <td>20.457789</td>\n",
              "      <td>56.285979</td>\n",
              "      <td>222.406172</td>\n",
              "      <td>Set2</td>\n",
              "      <td>D4</td>\n",
              "      <td>A1</td>\n",
              "      <td>768E32A5-C3FF-468D-A2DA-784E5201EAB8.png</td>\n",
              "    </tr>\n",
              "    <tr>\n",
              "      <th>2</th>\n",
              "      <td>234.894037</td>\n",
              "      <td>220.797106</td>\n",
              "      <td>183.971348</td>\n",
              "      <td>227.456862</td>\n",
              "      <td>211.727736</td>\n",
              "      <td>176.572514</td>\n",
              "      <td>21.735431</td>\n",
              "      <td>55.370629</td>\n",
              "      <td>234.894037</td>\n",
              "      <td>20.716894</td>\n",
              "      <td>57.017329</td>\n",
              "      <td>227.456862</td>\n",
              "      <td>Set2</td>\n",
              "      <td>D4</td>\n",
              "      <td>A1</td>\n",
              "      <td>B16EC514-E307-4DF1-B38E-4D502BECAE1E.png</td>\n",
              "    </tr>\n",
              "    <tr>\n",
              "      <th>3</th>\n",
              "      <td>235.779332</td>\n",
              "      <td>221.742521</td>\n",
              "      <td>185.543318</td>\n",
              "      <td>228.642851</td>\n",
              "      <td>213.055973</td>\n",
              "      <td>178.657029</td>\n",
              "      <td>21.687743</td>\n",
              "      <td>54.375389</td>\n",
              "      <td>235.779332</td>\n",
              "      <td>20.527291</td>\n",
              "      <td>55.717450</td>\n",
              "      <td>228.642851</td>\n",
              "      <td>Set2</td>\n",
              "      <td>D4</td>\n",
              "      <td>A1</td>\n",
              "      <td>4B4FB3F9-B796-4241-8FE6-890C04EEBA34.png</td>\n",
              "    </tr>\n",
              "    <tr>\n",
              "      <th>4</th>\n",
              "      <td>235.799048</td>\n",
              "      <td>221.630439</td>\n",
              "      <td>185.561286</td>\n",
              "      <td>228.306366</td>\n",
              "      <td>212.605597</td>\n",
              "      <td>178.631545</td>\n",
              "      <td>21.649281</td>\n",
              "      <td>54.393162</td>\n",
              "      <td>235.799048</td>\n",
              "      <td>20.302196</td>\n",
              "      <td>55.450746</td>\n",
              "      <td>228.306366</td>\n",
              "      <td>Set2</td>\n",
              "      <td>D4</td>\n",
              "      <td>A1</td>\n",
              "      <td>D5FF5062-E4EF-473A-B716-33BA16B096B9.png</td>\n",
              "    </tr>\n",
              "  </tbody>\n",
              "</table>\n",
              "</div>\n",
              "      <button class=\"colab-df-convert\" onclick=\"convertToInteractive('df-48634621-6a2b-4dcb-b95c-c1acca5a30c4')\"\n",
              "              title=\"Convert this dataframe to an interactive table.\"\n",
              "              style=\"display:none;\">\n",
              "        \n",
              "  <svg xmlns=\"http://www.w3.org/2000/svg\" height=\"24px\"viewBox=\"0 0 24 24\"\n",
              "       width=\"24px\">\n",
              "    <path d=\"M0 0h24v24H0V0z\" fill=\"none\"/>\n",
              "    <path d=\"M18.56 5.44l.94 2.06.94-2.06 2.06-.94-2.06-.94-.94-2.06-.94 2.06-2.06.94zm-11 1L8.5 8.5l.94-2.06 2.06-.94-2.06-.94L8.5 2.5l-.94 2.06-2.06.94zm10 10l.94 2.06.94-2.06 2.06-.94-2.06-.94-.94-2.06-.94 2.06-2.06.94z\"/><path d=\"M17.41 7.96l-1.37-1.37c-.4-.4-.92-.59-1.43-.59-.52 0-1.04.2-1.43.59L10.3 9.45l-7.72 7.72c-.78.78-.78 2.05 0 2.83L4 21.41c.39.39.9.59 1.41.59.51 0 1.02-.2 1.41-.59l7.78-7.78 2.81-2.81c.8-.78.8-2.07 0-2.86zM5.41 20L4 18.59l7.72-7.72 1.47 1.35L5.41 20z\"/>\n",
              "  </svg>\n",
              "      </button>\n",
              "      \n",
              "  <style>\n",
              "    .colab-df-container {\n",
              "      display:flex;\n",
              "      flex-wrap:wrap;\n",
              "      gap: 12px;\n",
              "    }\n",
              "\n",
              "    .colab-df-convert {\n",
              "      background-color: #E8F0FE;\n",
              "      border: none;\n",
              "      border-radius: 50%;\n",
              "      cursor: pointer;\n",
              "      display: none;\n",
              "      fill: #1967D2;\n",
              "      height: 32px;\n",
              "      padding: 0 0 0 0;\n",
              "      width: 32px;\n",
              "    }\n",
              "\n",
              "    .colab-df-convert:hover {\n",
              "      background-color: #E2EBFA;\n",
              "      box-shadow: 0px 1px 2px rgba(60, 64, 67, 0.3), 0px 1px 3px 1px rgba(60, 64, 67, 0.15);\n",
              "      fill: #174EA6;\n",
              "    }\n",
              "\n",
              "    [theme=dark] .colab-df-convert {\n",
              "      background-color: #3B4455;\n",
              "      fill: #D2E3FC;\n",
              "    }\n",
              "\n",
              "    [theme=dark] .colab-df-convert:hover {\n",
              "      background-color: #434B5C;\n",
              "      box-shadow: 0px 1px 3px 1px rgba(0, 0, 0, 0.15);\n",
              "      filter: drop-shadow(0px 1px 2px rgba(0, 0, 0, 0.3));\n",
              "      fill: #FFFFFF;\n",
              "    }\n",
              "  </style>\n",
              "\n",
              "      <script>\n",
              "        const buttonEl =\n",
              "          document.querySelector('#df-48634621-6a2b-4dcb-b95c-c1acca5a30c4 button.colab-df-convert');\n",
              "        buttonEl.style.display =\n",
              "          google.colab.kernel.accessAllowed ? 'block' : 'none';\n",
              "\n",
              "        async function convertToInteractive(key) {\n",
              "          const element = document.querySelector('#df-48634621-6a2b-4dcb-b95c-c1acca5a30c4');\n",
              "          const dataTable =\n",
              "            await google.colab.kernel.invokeFunction('convertToInteractive',\n",
              "                                                     [key], {});\n",
              "          if (!dataTable) return;\n",
              "\n",
              "          const docLinkHtml = 'Like what you see? Visit the ' +\n",
              "            '<a target=\"_blank\" href=https://colab.research.google.com/notebooks/data_table.ipynb>data table notebook</a>'\n",
              "            + ' to learn more about interactive tables.';\n",
              "          element.innerHTML = '';\n",
              "          dataTable['output_type'] = 'display_data';\n",
              "          await google.colab.output.renderOutput(dataTable, element);\n",
              "          const docLink = document.createElement('div');\n",
              "          docLink.innerHTML = docLinkHtml;\n",
              "          element.appendChild(docLink);\n",
              "        }\n",
              "      </script>\n",
              "    </div>\n",
              "  </div>\n",
              "  "
            ],
            "text/plain": [
              "        R-ref       G-ref  ...  Shad                                       Img\n",
              "0  234.805556  220.733877  ...    A1  797683A5-C868-494F-A26C-B587A80C35FB.png\n",
              "1  230.391123  217.092269  ...    A1  768E32A5-C3FF-468D-A2DA-784E5201EAB8.png\n",
              "2  234.894037  220.797106  ...    A1  B16EC514-E307-4DF1-B38E-4D502BECAE1E.png\n",
              "3  235.779332  221.742521  ...    A1  4B4FB3F9-B796-4241-8FE6-890C04EEBA34.png\n",
              "4  235.799048  221.630439  ...    A1  D5FF5062-E4EF-473A-B716-33BA16B096B9.png\n",
              "\n",
              "[5 rows x 16 columns]"
            ]
          },
          "metadata": {},
          "execution_count": 488
        }
      ]
    },
    {
      "cell_type": "code",
      "source": [
        "table_D4Set3 = pd.read_excel(Set3, sheet_name='D4Set3 ')\n",
        "table_D4Set3.head()"
      ],
      "metadata": {
        "id": "wGHz_op9x90Z",
        "outputId": "181ec24e-ce76-4cda-fe7d-7dedbc352510",
        "colab": {
          "base_uri": "https://localhost:8080/",
          "height": 0
        }
      },
      "execution_count": 489,
      "outputs": [
        {
          "output_type": "execute_result",
          "data": {
            "text/html": [
              "\n",
              "  <div id=\"df-a7e18187-0da8-4b3b-83ee-5cad568c7697\">\n",
              "    <div class=\"colab-df-container\">\n",
              "      <div>\n",
              "<style scoped>\n",
              "    .dataframe tbody tr th:only-of-type {\n",
              "        vertical-align: middle;\n",
              "    }\n",
              "\n",
              "    .dataframe tbody tr th {\n",
              "        vertical-align: top;\n",
              "    }\n",
              "\n",
              "    .dataframe thead th {\n",
              "        text-align: right;\n",
              "    }\n",
              "</style>\n",
              "<table border=\"1\" class=\"dataframe\">\n",
              "  <thead>\n",
              "    <tr style=\"text-align: right;\">\n",
              "      <th></th>\n",
              "      <th>R-ref</th>\n",
              "      <th>G-ref</th>\n",
              "      <th>B-ref</th>\n",
              "      <th>R-Shad</th>\n",
              "      <th>G-Shad</th>\n",
              "      <th>B-Shad</th>\n",
              "      <th>H-ref</th>\n",
              "      <th>S-ref</th>\n",
              "      <th>V-ref</th>\n",
              "      <th>H-Shad</th>\n",
              "      <th>S-Shad</th>\n",
              "      <th>V-Shad</th>\n",
              "      <th>Setting</th>\n",
              "      <th>Ref</th>\n",
              "      <th>Shad</th>\n",
              "      <th>Img</th>\n",
              "    </tr>\n",
              "  </thead>\n",
              "  <tbody>\n",
              "    <tr>\n",
              "      <th>0</th>\n",
              "      <td>233.496795</td>\n",
              "      <td>219.459984</td>\n",
              "      <td>183.541861</td>\n",
              "      <td>226.103698</td>\n",
              "      <td>210.819850</td>\n",
              "      <td>176.733852</td>\n",
              "      <td>21.614122</td>\n",
              "      <td>54.612082</td>\n",
              "      <td>233.496795</td>\n",
              "      <td>20.574275</td>\n",
              "      <td>55.678528</td>\n",
              "      <td>226.103698</td>\n",
              "      <td>Set3</td>\n",
              "      <td>D4</td>\n",
              "      <td>A1</td>\n",
              "      <td>3A5F6D09-99D2-4DEF-A84E-1C755C8C0F51.png</td>\n",
              "    </tr>\n",
              "    <tr>\n",
              "      <th>1</th>\n",
              "      <td>233.355381</td>\n",
              "      <td>219.439880</td>\n",
              "      <td>183.049242</td>\n",
              "      <td>226.136225</td>\n",
              "      <td>210.611621</td>\n",
              "      <td>176.276619</td>\n",
              "      <td>21.770688</td>\n",
              "      <td>55.038073</td>\n",
              "      <td>233.355381</td>\n",
              "      <td>20.556946</td>\n",
              "      <td>56.211195</td>\n",
              "      <td>226.136225</td>\n",
              "      <td>Set3</td>\n",
              "      <td>D4</td>\n",
              "      <td>A1</td>\n",
              "      <td>6CE1839C-EF38-4BF3-9001-31D2061BB09F.png</td>\n",
              "    </tr>\n",
              "    <tr>\n",
              "      <th>2</th>\n",
              "      <td>228.504662</td>\n",
              "      <td>215.655983</td>\n",
              "      <td>181.190171</td>\n",
              "      <td>220.799092</td>\n",
              "      <td>205.492077</td>\n",
              "      <td>172.120749</td>\n",
              "      <td>21.929779</td>\n",
              "      <td>52.862374</td>\n",
              "      <td>228.504662</td>\n",
              "      <td>20.366416</td>\n",
              "      <td>56.219998</td>\n",
              "      <td>220.799092</td>\n",
              "      <td>Set3</td>\n",
              "      <td>D4</td>\n",
              "      <td>A1</td>\n",
              "      <td>B319E47C-7852-49A4-B164-3542207CFA46.png</td>\n",
              "    </tr>\n",
              "    <tr>\n",
              "      <th>3</th>\n",
              "      <td>233.467172</td>\n",
              "      <td>219.479118</td>\n",
              "      <td>182.892580</td>\n",
              "      <td>226.386711</td>\n",
              "      <td>210.920397</td>\n",
              "      <td>176.047818</td>\n",
              "      <td>21.751943</td>\n",
              "      <td>55.308761</td>\n",
              "      <td>233.467172</td>\n",
              "      <td>20.750811</td>\n",
              "      <td>56.671764</td>\n",
              "      <td>226.386711</td>\n",
              "      <td>Set3</td>\n",
              "      <td>D4</td>\n",
              "      <td>A1</td>\n",
              "      <td>EF20FEEB-0DB3-44BF-9EDC-D5125F2B28F5.png</td>\n",
              "    </tr>\n",
              "    <tr>\n",
              "      <th>4</th>\n",
              "      <td>234.509615</td>\n",
              "      <td>220.490385</td>\n",
              "      <td>184.508256</td>\n",
              "      <td>227.663423</td>\n",
              "      <td>212.284033</td>\n",
              "      <td>178.291261</td>\n",
              "      <td>21.661131</td>\n",
              "      <td>54.405206</td>\n",
              "      <td>234.509615</td>\n",
              "      <td>20.525438</td>\n",
              "      <td>55.283848</td>\n",
              "      <td>227.663423</td>\n",
              "      <td>Set3</td>\n",
              "      <td>D4</td>\n",
              "      <td>A1</td>\n",
              "      <td>1DEB6322-D495-4E37-AFC9-1FD3EE0103A4.png</td>\n",
              "    </tr>\n",
              "  </tbody>\n",
              "</table>\n",
              "</div>\n",
              "      <button class=\"colab-df-convert\" onclick=\"convertToInteractive('df-a7e18187-0da8-4b3b-83ee-5cad568c7697')\"\n",
              "              title=\"Convert this dataframe to an interactive table.\"\n",
              "              style=\"display:none;\">\n",
              "        \n",
              "  <svg xmlns=\"http://www.w3.org/2000/svg\" height=\"24px\"viewBox=\"0 0 24 24\"\n",
              "       width=\"24px\">\n",
              "    <path d=\"M0 0h24v24H0V0z\" fill=\"none\"/>\n",
              "    <path d=\"M18.56 5.44l.94 2.06.94-2.06 2.06-.94-2.06-.94-.94-2.06-.94 2.06-2.06.94zm-11 1L8.5 8.5l.94-2.06 2.06-.94-2.06-.94L8.5 2.5l-.94 2.06-2.06.94zm10 10l.94 2.06.94-2.06 2.06-.94-2.06-.94-.94-2.06-.94 2.06-2.06.94z\"/><path d=\"M17.41 7.96l-1.37-1.37c-.4-.4-.92-.59-1.43-.59-.52 0-1.04.2-1.43.59L10.3 9.45l-7.72 7.72c-.78.78-.78 2.05 0 2.83L4 21.41c.39.39.9.59 1.41.59.51 0 1.02-.2 1.41-.59l7.78-7.78 2.81-2.81c.8-.78.8-2.07 0-2.86zM5.41 20L4 18.59l7.72-7.72 1.47 1.35L5.41 20z\"/>\n",
              "  </svg>\n",
              "      </button>\n",
              "      \n",
              "  <style>\n",
              "    .colab-df-container {\n",
              "      display:flex;\n",
              "      flex-wrap:wrap;\n",
              "      gap: 12px;\n",
              "    }\n",
              "\n",
              "    .colab-df-convert {\n",
              "      background-color: #E8F0FE;\n",
              "      border: none;\n",
              "      border-radius: 50%;\n",
              "      cursor: pointer;\n",
              "      display: none;\n",
              "      fill: #1967D2;\n",
              "      height: 32px;\n",
              "      padding: 0 0 0 0;\n",
              "      width: 32px;\n",
              "    }\n",
              "\n",
              "    .colab-df-convert:hover {\n",
              "      background-color: #E2EBFA;\n",
              "      box-shadow: 0px 1px 2px rgba(60, 64, 67, 0.3), 0px 1px 3px 1px rgba(60, 64, 67, 0.15);\n",
              "      fill: #174EA6;\n",
              "    }\n",
              "\n",
              "    [theme=dark] .colab-df-convert {\n",
              "      background-color: #3B4455;\n",
              "      fill: #D2E3FC;\n",
              "    }\n",
              "\n",
              "    [theme=dark] .colab-df-convert:hover {\n",
              "      background-color: #434B5C;\n",
              "      box-shadow: 0px 1px 3px 1px rgba(0, 0, 0, 0.15);\n",
              "      filter: drop-shadow(0px 1px 2px rgba(0, 0, 0, 0.3));\n",
              "      fill: #FFFFFF;\n",
              "    }\n",
              "  </style>\n",
              "\n",
              "      <script>\n",
              "        const buttonEl =\n",
              "          document.querySelector('#df-a7e18187-0da8-4b3b-83ee-5cad568c7697 button.colab-df-convert');\n",
              "        buttonEl.style.display =\n",
              "          google.colab.kernel.accessAllowed ? 'block' : 'none';\n",
              "\n",
              "        async function convertToInteractive(key) {\n",
              "          const element = document.querySelector('#df-a7e18187-0da8-4b3b-83ee-5cad568c7697');\n",
              "          const dataTable =\n",
              "            await google.colab.kernel.invokeFunction('convertToInteractive',\n",
              "                                                     [key], {});\n",
              "          if (!dataTable) return;\n",
              "\n",
              "          const docLinkHtml = 'Like what you see? Visit the ' +\n",
              "            '<a target=\"_blank\" href=https://colab.research.google.com/notebooks/data_table.ipynb>data table notebook</a>'\n",
              "            + ' to learn more about interactive tables.';\n",
              "          element.innerHTML = '';\n",
              "          dataTable['output_type'] = 'display_data';\n",
              "          await google.colab.output.renderOutput(dataTable, element);\n",
              "          const docLink = document.createElement('div');\n",
              "          docLink.innerHTML = docLinkHtml;\n",
              "          element.appendChild(docLink);\n",
              "        }\n",
              "      </script>\n",
              "    </div>\n",
              "  </div>\n",
              "  "
            ],
            "text/plain": [
              "        R-ref       G-ref  ...  Shad                                       Img\n",
              "0  233.496795  219.459984  ...    A1  3A5F6D09-99D2-4DEF-A84E-1C755C8C0F51.png\n",
              "1  233.355381  219.439880  ...    A1  6CE1839C-EF38-4BF3-9001-31D2061BB09F.png\n",
              "2  228.504662  215.655983  ...    A1  B319E47C-7852-49A4-B164-3542207CFA46.png\n",
              "3  233.467172  219.479118  ...    A1  EF20FEEB-0DB3-44BF-9EDC-D5125F2B28F5.png\n",
              "4  234.509615  220.490385  ...    A1  1DEB6322-D495-4E37-AFC9-1FD3EE0103A4.png\n",
              "\n",
              "[5 rows x 16 columns]"
            ]
          },
          "metadata": {},
          "execution_count": 489
        }
      ]
    },
    {
      "cell_type": "code",
      "source": [
        "table_D4Set4 = pd.read_excel(Set4, sheet_name='D4Set4')\n",
        "table_D4Set4.head()"
      ],
      "metadata": {
        "id": "nlJxBhXPx90a",
        "outputId": "a9e124f6-88a4-4723-de6b-0a0b9829b027",
        "colab": {
          "base_uri": "https://localhost:8080/",
          "height": 0
        }
      },
      "execution_count": 490,
      "outputs": [
        {
          "output_type": "execute_result",
          "data": {
            "text/html": [
              "\n",
              "  <div id=\"df-32afe44d-eaab-4535-a7b4-9128327791d4\">\n",
              "    <div class=\"colab-df-container\">\n",
              "      <div>\n",
              "<style scoped>\n",
              "    .dataframe tbody tr th:only-of-type {\n",
              "        vertical-align: middle;\n",
              "    }\n",
              "\n",
              "    .dataframe tbody tr th {\n",
              "        vertical-align: top;\n",
              "    }\n",
              "\n",
              "    .dataframe thead th {\n",
              "        text-align: right;\n",
              "    }\n",
              "</style>\n",
              "<table border=\"1\" class=\"dataframe\">\n",
              "  <thead>\n",
              "    <tr style=\"text-align: right;\">\n",
              "      <th></th>\n",
              "      <th>R-ref</th>\n",
              "      <th>G-ref</th>\n",
              "      <th>B-ref</th>\n",
              "      <th>R-Shad</th>\n",
              "      <th>G-Shad</th>\n",
              "      <th>B-Shad</th>\n",
              "      <th>H-ref</th>\n",
              "      <th>S-ref</th>\n",
              "      <th>V-ref</th>\n",
              "      <th>H-Shad</th>\n",
              "      <th>S-Shad</th>\n",
              "      <th>V-Shad</th>\n",
              "      <th>Setting</th>\n",
              "      <th>Ref</th>\n",
              "      <th>Shad</th>\n",
              "      <th>Img</th>\n",
              "    </tr>\n",
              "  </thead>\n",
              "  <tbody>\n",
              "    <tr>\n",
              "      <th>0</th>\n",
              "      <td>240.090618</td>\n",
              "      <td>212.450078</td>\n",
              "      <td>156.215812</td>\n",
              "      <td>232.657585</td>\n",
              "      <td>216.792976</td>\n",
              "      <td>183.388472</td>\n",
              "      <td>20.198135</td>\n",
              "      <td>89.199592</td>\n",
              "      <td>240.090618</td>\n",
              "      <td>20.163748</td>\n",
              "      <td>53.978779</td>\n",
              "      <td>232.657585</td>\n",
              "      <td>Set4</td>\n",
              "      <td>D4</td>\n",
              "      <td>A1</td>\n",
              "      <td>C5F56A54-2D34-4B30-986F-F5C15CDF3EC4.png</td>\n",
              "    </tr>\n",
              "    <tr>\n",
              "      <th>1</th>\n",
              "      <td>236.429487</td>\n",
              "      <td>207.597222</td>\n",
              "      <td>150.030109</td>\n",
              "      <td>228.071356</td>\n",
              "      <td>212.864887</td>\n",
              "      <td>180.106941</td>\n",
              "      <td>20.007382</td>\n",
              "      <td>93.293026</td>\n",
              "      <td>236.429487</td>\n",
              "      <td>20.478825</td>\n",
              "      <td>53.659716</td>\n",
              "      <td>228.071356</td>\n",
              "      <td>Set4</td>\n",
              "      <td>D4</td>\n",
              "      <td>A1</td>\n",
              "      <td>E1E6AA11-2B77-40D9-A177-059926CC439D.png</td>\n",
              "    </tr>\n",
              "    <tr>\n",
              "      <th>2</th>\n",
              "      <td>240.356449</td>\n",
              "      <td>212.529138</td>\n",
              "      <td>156.919386</td>\n",
              "      <td>233.046520</td>\n",
              "      <td>217.140209</td>\n",
              "      <td>183.855157</td>\n",
              "      <td>19.998252</td>\n",
              "      <td>88.631799</td>\n",
              "      <td>240.356449</td>\n",
              "      <td>20.116579</td>\n",
              "      <td>53.808915</td>\n",
              "      <td>233.046520</td>\n",
              "      <td>Set4</td>\n",
              "      <td>D4</td>\n",
              "      <td>A1</td>\n",
              "      <td>74A96958-C7AA-4963-AA46-D100224ADF7D.png</td>\n",
              "    </tr>\n",
              "    <tr>\n",
              "      <th>3</th>\n",
              "      <td>239.986791</td>\n",
              "      <td>212.474650</td>\n",
              "      <td>156.580614</td>\n",
              "      <td>232.418312</td>\n",
              "      <td>216.414327</td>\n",
              "      <td>182.585488</td>\n",
              "      <td>20.162199</td>\n",
              "      <td>88.758838</td>\n",
              "      <td>239.986791</td>\n",
              "      <td>20.272727</td>\n",
              "      <td>54.674173</td>\n",
              "      <td>232.418312</td>\n",
              "      <td>Set4</td>\n",
              "      <td>D4</td>\n",
              "      <td>A1</td>\n",
              "      <td>CA71D6C8-B603-4820-8CBF-DE4735A760F9.png</td>\n",
              "    </tr>\n",
              "    <tr>\n",
              "      <th>4</th>\n",
              "      <td>237.050699</td>\n",
              "      <td>208.271465</td>\n",
              "      <td>154.064394</td>\n",
              "      <td>237.512927</td>\n",
              "      <td>219.507553</td>\n",
              "      <td>184.548883</td>\n",
              "      <td>19.610820</td>\n",
              "      <td>89.349553</td>\n",
              "      <td>237.050699</td>\n",
              "      <td>19.673246</td>\n",
              "      <td>56.847651</td>\n",
              "      <td>237.512927</td>\n",
              "      <td>Set4</td>\n",
              "      <td>D4</td>\n",
              "      <td>A1</td>\n",
              "      <td>DC8E94B0-D1C9-4C1B-910E-4CDC0E62706B.png</td>\n",
              "    </tr>\n",
              "  </tbody>\n",
              "</table>\n",
              "</div>\n",
              "      <button class=\"colab-df-convert\" onclick=\"convertToInteractive('df-32afe44d-eaab-4535-a7b4-9128327791d4')\"\n",
              "              title=\"Convert this dataframe to an interactive table.\"\n",
              "              style=\"display:none;\">\n",
              "        \n",
              "  <svg xmlns=\"http://www.w3.org/2000/svg\" height=\"24px\"viewBox=\"0 0 24 24\"\n",
              "       width=\"24px\">\n",
              "    <path d=\"M0 0h24v24H0V0z\" fill=\"none\"/>\n",
              "    <path d=\"M18.56 5.44l.94 2.06.94-2.06 2.06-.94-2.06-.94-.94-2.06-.94 2.06-2.06.94zm-11 1L8.5 8.5l.94-2.06 2.06-.94-2.06-.94L8.5 2.5l-.94 2.06-2.06.94zm10 10l.94 2.06.94-2.06 2.06-.94-2.06-.94-.94-2.06-.94 2.06-2.06.94z\"/><path d=\"M17.41 7.96l-1.37-1.37c-.4-.4-.92-.59-1.43-.59-.52 0-1.04.2-1.43.59L10.3 9.45l-7.72 7.72c-.78.78-.78 2.05 0 2.83L4 21.41c.39.39.9.59 1.41.59.51 0 1.02-.2 1.41-.59l7.78-7.78 2.81-2.81c.8-.78.8-2.07 0-2.86zM5.41 20L4 18.59l7.72-7.72 1.47 1.35L5.41 20z\"/>\n",
              "  </svg>\n",
              "      </button>\n",
              "      \n",
              "  <style>\n",
              "    .colab-df-container {\n",
              "      display:flex;\n",
              "      flex-wrap:wrap;\n",
              "      gap: 12px;\n",
              "    }\n",
              "\n",
              "    .colab-df-convert {\n",
              "      background-color: #E8F0FE;\n",
              "      border: none;\n",
              "      border-radius: 50%;\n",
              "      cursor: pointer;\n",
              "      display: none;\n",
              "      fill: #1967D2;\n",
              "      height: 32px;\n",
              "      padding: 0 0 0 0;\n",
              "      width: 32px;\n",
              "    }\n",
              "\n",
              "    .colab-df-convert:hover {\n",
              "      background-color: #E2EBFA;\n",
              "      box-shadow: 0px 1px 2px rgba(60, 64, 67, 0.3), 0px 1px 3px 1px rgba(60, 64, 67, 0.15);\n",
              "      fill: #174EA6;\n",
              "    }\n",
              "\n",
              "    [theme=dark] .colab-df-convert {\n",
              "      background-color: #3B4455;\n",
              "      fill: #D2E3FC;\n",
              "    }\n",
              "\n",
              "    [theme=dark] .colab-df-convert:hover {\n",
              "      background-color: #434B5C;\n",
              "      box-shadow: 0px 1px 3px 1px rgba(0, 0, 0, 0.15);\n",
              "      filter: drop-shadow(0px 1px 2px rgba(0, 0, 0, 0.3));\n",
              "      fill: #FFFFFF;\n",
              "    }\n",
              "  </style>\n",
              "\n",
              "      <script>\n",
              "        const buttonEl =\n",
              "          document.querySelector('#df-32afe44d-eaab-4535-a7b4-9128327791d4 button.colab-df-convert');\n",
              "        buttonEl.style.display =\n",
              "          google.colab.kernel.accessAllowed ? 'block' : 'none';\n",
              "\n",
              "        async function convertToInteractive(key) {\n",
              "          const element = document.querySelector('#df-32afe44d-eaab-4535-a7b4-9128327791d4');\n",
              "          const dataTable =\n",
              "            await google.colab.kernel.invokeFunction('convertToInteractive',\n",
              "                                                     [key], {});\n",
              "          if (!dataTable) return;\n",
              "\n",
              "          const docLinkHtml = 'Like what you see? Visit the ' +\n",
              "            '<a target=\"_blank\" href=https://colab.research.google.com/notebooks/data_table.ipynb>data table notebook</a>'\n",
              "            + ' to learn more about interactive tables.';\n",
              "          element.innerHTML = '';\n",
              "          dataTable['output_type'] = 'display_data';\n",
              "          await google.colab.output.renderOutput(dataTable, element);\n",
              "          const docLink = document.createElement('div');\n",
              "          docLink.innerHTML = docLinkHtml;\n",
              "          element.appendChild(docLink);\n",
              "        }\n",
              "      </script>\n",
              "    </div>\n",
              "  </div>\n",
              "  "
            ],
            "text/plain": [
              "        R-ref       G-ref  ...  Shad                                       Img\n",
              "0  240.090618  212.450078  ...    A1  C5F56A54-2D34-4B30-986F-F5C15CDF3EC4.png\n",
              "1  236.429487  207.597222  ...    A1  E1E6AA11-2B77-40D9-A177-059926CC439D.png\n",
              "2  240.356449  212.529138  ...    A1  74A96958-C7AA-4963-AA46-D100224ADF7D.png\n",
              "3  239.986791  212.474650  ...    A1  CA71D6C8-B603-4820-8CBF-DE4735A760F9.png\n",
              "4  237.050699  208.271465  ...    A1  DC8E94B0-D1C9-4C1B-910E-4CDC0E62706B.png\n",
              "\n",
              "[5 rows x 16 columns]"
            ]
          },
          "metadata": {},
          "execution_count": 490
        }
      ]
    },
    {
      "cell_type": "markdown",
      "source": [
        "###RGB"
      ],
      "metadata": {
        "id": "OkOW14TRx90a"
      }
    },
    {
      "cell_type": "code",
      "source": [
        "RGB_D4_Set4 = table_D4Set4"
      ],
      "metadata": {
        "id": "UZGgIrXtx90a"
      },
      "execution_count": 491,
      "outputs": []
    },
    {
      "cell_type": "code",
      "source": [
        "RGB_D4_Set1 = table_D4Set1"
      ],
      "metadata": {
        "id": "Db0M9HHEx90a"
      },
      "execution_count": 492,
      "outputs": []
    },
    {
      "cell_type": "code",
      "source": [
        "RGB_D4_Set2 = table_D4Set2"
      ],
      "metadata": {
        "id": "SyVpwoT-x90a"
      },
      "execution_count": 493,
      "outputs": []
    },
    {
      "cell_type": "code",
      "source": [
        "RGB_D4_Set3 = table_D4Set3"
      ],
      "metadata": {
        "id": "A6I95Qk3x90a"
      },
      "execution_count": 494,
      "outputs": []
    },
    {
      "cell_type": "code",
      "source": [
        "RGB_D4_concat = pd.concat([RGB_D4_Set1,RGB_D4_Set2])"
      ],
      "metadata": {
        "id": "hMW9wGibo9iI"
      },
      "execution_count": 495,
      "outputs": []
    },
    {
      "cell_type": "code",
      "source": [
        "RGB_D4_concat0 = pd.concat([RGB_D4_concat,RGB_D4_Set4])"
      ],
      "metadata": {
        "id": "_Zy03uozx90a"
      },
      "execution_count": 496,
      "outputs": []
    },
    {
      "cell_type": "code",
      "source": [
        "RGB_D4_concat1 = pd.concat([RGB_D4_concat0,RGB_D4_Set3])"
      ],
      "metadata": {
        "id": "obxDRqaTx90a"
      },
      "execution_count": 497,
      "outputs": []
    },
    {
      "cell_type": "code",
      "source": [
        "RGB_D4_concat2 = RGB_D4_concat1.drop(['H-ref','S-ref','V-ref','H-Shad','S-Shad','V-Shad','Setting','Ref','Shad','Img'], axis=1)"
      ],
      "metadata": {
        "id": "Qr0VCTbfx90a"
      },
      "execution_count": 498,
      "outputs": []
    },
    {
      "cell_type": "code",
      "source": [
        "X_test_D4_RGB = np.array(RGB_D3_CC1)"
      ],
      "metadata": {
        "id": "qiwNlZdnx90a"
      },
      "execution_count": 499,
      "outputs": []
    },
    {
      "cell_type": "code",
      "source": [
        "y_D4_RGB =  table_D3CC1.iloc[:,14:15]"
      ],
      "metadata": {
        "id": "w_mnKAYqx90b"
      },
      "execution_count": 500,
      "outputs": []
    },
    {
      "cell_type": "code",
      "source": [
        "y_test_D4_RGB = np.array(y_D4_RGB)"
      ],
      "metadata": {
        "id": "UsLaGos7x90b"
      },
      "execution_count": 501,
      "outputs": []
    },
    {
      "cell_type": "code",
      "source": [
        "X_train_D4_RGB = np.array(RGB_D4_concat2)"
      ],
      "metadata": {
        "id": "Oc2f1-qOx90b"
      },
      "execution_count": 502,
      "outputs": []
    },
    {
      "cell_type": "code",
      "source": [
        "y_train_D4RGB = RGB_D4_concat1.iloc[:,14:15]"
      ],
      "metadata": {
        "id": "e8HcPMlLx90b"
      },
      "execution_count": 503,
      "outputs": []
    },
    {
      "cell_type": "code",
      "source": [
        "y_train_D4_RGB = np.array(y_train_D4RGB)"
      ],
      "metadata": {
        "id": "UYIfmfsqx90b"
      },
      "execution_count": 504,
      "outputs": []
    },
    {
      "cell_type": "code",
      "source": [
        "clf.fit(X_train_D4_RGB, y_train_D4_RGB)"
      ],
      "metadata": {
        "id": "RNdH-4qhx90b",
        "outputId": "69d77afd-e24c-4135-a5e0-6d110afd3d27",
        "colab": {
          "base_uri": "https://localhost:8080/"
        }
      },
      "execution_count": 505,
      "outputs": [
        {
          "output_type": "stream",
          "name": "stderr",
          "text": [
            "/usr/local/lib/python3.7/dist-packages/ipykernel_launcher.py:1: DataConversionWarning: A column-vector y was passed when a 1d array was expected. Please change the shape of y to (n_samples,), for example using ravel().\n",
            "  \"\"\"Entry point for launching an IPython kernel.\n"
          ]
        },
        {
          "output_type": "execute_result",
          "data": {
            "text/plain": [
              "RandomForestClassifier()"
            ]
          },
          "metadata": {},
          "execution_count": 505
        }
      ]
    },
    {
      "cell_type": "code",
      "source": [
        "y_pred_D4_RGB = clf.predict(X_test_D4_RGB)"
      ],
      "metadata": {
        "id": "SJT4eRs7x90b"
      },
      "execution_count": 506,
      "outputs": []
    },
    {
      "cell_type": "code",
      "source": [
        "print(\"Accuracy:\", metrics.accuracy_score(y_test_D4_RGB, y_pred_D4_RGB))"
      ],
      "metadata": {
        "id": "oRxmkGWix90b",
        "outputId": "3b43eb4d-abdb-4bab-e874-5ef587d31acd",
        "colab": {
          "base_uri": "https://localhost:8080/"
        }
      },
      "execution_count": 507,
      "outputs": [
        {
          "output_type": "stream",
          "name": "stdout",
          "text": [
            "Accuracy: 0.0725\n"
          ]
        }
      ]
    },
    {
      "cell_type": "markdown",
      "source": [
        "###HSV"
      ],
      "metadata": {
        "id": "0VkgTMm7x90b"
      }
    },
    {
      "cell_type": "code",
      "source": [
        "HSV_D4_concat2 = RGB_D4_concat1.drop(['R-ref','G-ref','B-ref','R-Shad','G-Shad','B-Shad','Setting','Ref','Shad','Img'], axis=1)"
      ],
      "metadata": {
        "id": "KVO7778mx90b"
      },
      "execution_count": 508,
      "outputs": []
    },
    {
      "cell_type": "code",
      "source": [
        "X_test_D4_HSV = np.array(HSV_D3_CC1)"
      ],
      "metadata": {
        "id": "MaqD7Q0Mx90c"
      },
      "execution_count": 509,
      "outputs": []
    },
    {
      "cell_type": "code",
      "source": [
        "y_D4_HSV =  table_D3CC1.iloc[:,14:15]"
      ],
      "metadata": {
        "id": "dlMZ82Gux90c"
      },
      "execution_count": 510,
      "outputs": []
    },
    {
      "cell_type": "code",
      "source": [
        "y_test_D4_HSV = np.array(y_D4_RGB)"
      ],
      "metadata": {
        "id": "eDET1Ylwx90c"
      },
      "execution_count": 511,
      "outputs": []
    },
    {
      "cell_type": "code",
      "source": [
        "X_train_D4_HSV = np.array(HSV_D4_concat2)"
      ],
      "metadata": {
        "id": "0z1Zhgkyx90c"
      },
      "execution_count": 512,
      "outputs": []
    },
    {
      "cell_type": "code",
      "source": [
        "y_train_D4HSV = RGB_D4_concat1.iloc[:,14:15]"
      ],
      "metadata": {
        "id": "DJhfv_Xyx90c"
      },
      "execution_count": 513,
      "outputs": []
    },
    {
      "cell_type": "code",
      "source": [
        "y_train_D4_HSV = np.array(y_train_D4HSV)"
      ],
      "metadata": {
        "id": "cTxbTKbFx90c"
      },
      "execution_count": 514,
      "outputs": []
    },
    {
      "cell_type": "code",
      "source": [
        "clf.fit(X_train_D4_HSV, y_train_D4_HSV)"
      ],
      "metadata": {
        "id": "fzoR8Swyx90c",
        "outputId": "234383a3-07c3-49c3-9878-5046a25189b7",
        "colab": {
          "base_uri": "https://localhost:8080/"
        }
      },
      "execution_count": 515,
      "outputs": [
        {
          "output_type": "stream",
          "name": "stderr",
          "text": [
            "/usr/local/lib/python3.7/dist-packages/ipykernel_launcher.py:1: DataConversionWarning: A column-vector y was passed when a 1d array was expected. Please change the shape of y to (n_samples,), for example using ravel().\n",
            "  \"\"\"Entry point for launching an IPython kernel.\n"
          ]
        },
        {
          "output_type": "execute_result",
          "data": {
            "text/plain": [
              "RandomForestClassifier()"
            ]
          },
          "metadata": {},
          "execution_count": 515
        }
      ]
    },
    {
      "cell_type": "code",
      "source": [
        "y_pred_D4_HSV = clf.predict(X_test_D4_HSV)"
      ],
      "metadata": {
        "id": "3u_OvejMx90c"
      },
      "execution_count": 516,
      "outputs": []
    },
    {
      "cell_type": "code",
      "source": [
        "print(\"Accuracy:\", metrics.accuracy_score(y_test_D4_HSV, y_pred_D4_HSV))"
      ],
      "metadata": {
        "id": "5dgTtQASx90c",
        "outputId": "256b71e7-9895-48f1-f064-6581468b3772",
        "colab": {
          "base_uri": "https://localhost:8080/"
        }
      },
      "execution_count": 517,
      "outputs": [
        {
          "output_type": "stream",
          "name": "stdout",
          "text": [
            "Accuracy: 0.08125\n"
          ]
        }
      ]
    },
    {
      "cell_type": "markdown",
      "source": [
        "#Accuracy"
      ],
      "metadata": {
        "id": "DednIna6z9zF"
      }
    },
    {
      "cell_type": "markdown",
      "source": [
        "##RGB"
      ],
      "metadata": {
        "id": "txfn-5vSEQKK"
      }
    },
    {
      "cell_type": "code",
      "source": [
        "print(\"A1 มี Accuracy เท่ากับ:\", metrics.accuracy_score(y_test_A1_RGB, y_pred_A1_RGB))\n",
        "print(\"A2 มี Accuracy เท่ากับ:\", metrics.accuracy_score(y_test_A2_RGB, y_pred_A2_RGB))\n",
        "print(\"A3 มี Accuracy เท่ากับ:\", metrics.accuracy_score(y_test_A3_RGB, y_pred_A3_RGB))\n",
        "print(\"A3.5 มี Accuracy เท่ากับ:\", metrics.accuracy_score(y_test_A3_5_RGB, y_pred_A3_5_RGB))\n",
        "print(\"A4 มี Accuracy เท่ากับ:\", metrics.accuracy_score(y_test_A4_RGB, y_pred_A4_RGB))\n",
        "print(\"B1 มี Accuracy เท่ากับ:\", metrics.accuracy_score(y_test_B1_RGB, y_pred_B1_RGB))\n",
        "print(\"B2 มี Accuracy เท่ากับ:\", metrics.accuracy_score(y_test_B2_RGB, y_pred_B2_RGB))\n",
        "print(\"B3 มี Accuracy เท่ากับ:\", metrics.accuracy_score(y_test_B3_RGB, y_pred_B3_RGB))\n",
        "print(\"B4 มี Accuracy เท่ากับ:\", metrics.accuracy_score(y_test_B4_RGB, y_pred_B4_RGB))\n",
        "print(\"C1 มี Accuracy เท่ากับ:\", metrics.accuracy_score(y_test_C1_RGB, y_pred_C1_RGB))\n",
        "print(\"C2 มี Accuracy เท่ากับ:\", metrics.accuracy_score(y_test_C2_RGB, y_pred_C2_RGB))\n",
        "print(\"C3 มี Accuracy เท่ากับ:\", metrics.accuracy_score(y_test_C3_RGB, y_pred_C3_RGB))\n",
        "print(\"C4 มี Accuracy เท่ากับ:\", metrics.accuracy_score(y_test_C4_RGB, y_pred_C4_RGB))\n",
        "print(\"D2 มี Accuracy เท่ากับ:\", metrics.accuracy_score(y_test_D2_RGB, y_pred_D2_RGB))\n",
        "print(\"D3 มี Accuracy เท่ากับ:\", metrics.accuracy_score(y_test_D3_RGB, y_pred_D3_RGB))\n",
        "print(\"D4 มี Accuracy เท่ากับ:\", metrics.accuracy_score(y_test_D4_RGB, y_pred_D4_RGB))"
      ],
      "metadata": {
        "id": "gAmWj0Tl_8ra",
        "outputId": "55d48b8f-f535-40c4-e63b-7d9789b07110",
        "colab": {
          "base_uri": "https://localhost:8080/"
        }
      },
      "execution_count": 518,
      "outputs": [
        {
          "output_type": "stream",
          "name": "stdout",
          "text": [
            "A1 มี Accuracy เท่ากับ: 0.0975\n",
            "A2 มี Accuracy เท่ากับ: 0.095\n",
            "A3 มี Accuracy เท่ากับ: 0.1\n",
            "A3.5 มี Accuracy เท่ากับ: 0.12625\n",
            "A4 มี Accuracy เท่ากับ: 0.01\n",
            "B1 มี Accuracy เท่ากับ: 0.09\n",
            "B2 มี Accuracy เท่ากับ: 0.08625\n",
            "B3 มี Accuracy เท่ากับ: 0.0725\n",
            "B4 มี Accuracy เท่ากับ: 0.07125\n",
            "C1 มี Accuracy เท่ากับ: 0.07\n",
            "C2 มี Accuracy เท่ากับ: 0.1125\n",
            "C3 มี Accuracy เท่ากับ: 0.10125\n",
            "C4 มี Accuracy เท่ากับ: 0.09375\n",
            "D2 มี Accuracy เท่ากับ: 0.0975\n",
            "D3 มี Accuracy เท่ากับ: 0.06875\n",
            "D4 มี Accuracy เท่ากับ: 0.0725\n"
          ]
        }
      ]
    },
    {
      "cell_type": "markdown",
      "source": [
        "##HSV"
      ],
      "metadata": {
        "id": "F2CX4hhnEhIA"
      }
    },
    {
      "cell_type": "code",
      "source": [
        "print(\"A1 มี Accuracy เท่ากับ:\", metrics.accuracy_score(y_test_A1_HSV, y_pred_A1_HSV))\n",
        "print(\"A2 มี Accuracy เท่ากับ:\", metrics.accuracy_score(y_test_A2_HSV, y_pred_A2_HSV))\n",
        "print(\"A3 มี Accuracy เท่ากับ:\", metrics.accuracy_score(y_test_A3_HSV, y_pred_A3_HSV))\n",
        "print(\"A3.5 มี Accuracy เท่ากับ:\", metrics.accuracy_score(y_test_A3_5_HSV, y_pred_A3_5_HSV))\n",
        "print(\"A4 มี Accuracy เท่ากับ:\", metrics.accuracy_score(y_test_A4_HSV, y_pred_A4_HSV))\n",
        "print(\"B1 มี Accuracy เท่ากับ:\", metrics.accuracy_score(y_test_B1_HSV, y_pred_B1_HSV))\n",
        "print(\"B2 มี Accuracy เท่ากับ:\", metrics.accuracy_score(y_test_B2_HSV, y_pred_B2_HSV))\n",
        "print(\"B3 มี Accuracy เท่ากับ:\", metrics.accuracy_score(y_test_B3_HSV, y_pred_B3_HSV))\n",
        "print(\"B4 มี Accuracy เท่ากับ:\", metrics.accuracy_score(y_test_B4_HSV, y_pred_B4_HSV))\n",
        "print(\"C1 มี Accuracy เท่ากับ:\", metrics.accuracy_score(y_test_C1_HSV, y_pred_C1_HSV))\n",
        "print(\"C2 มี Accuracy เท่ากับ:\", metrics.accuracy_score(y_test_C2_HSV, y_pred_C2_HSV))\n",
        "print(\"C3 มี Accuracy เท่ากับ:\", metrics.accuracy_score(y_test_C3_HSV, y_pred_C3_HSV))\n",
        "print(\"C4 มี Accuracy เท่ากับ:\", metrics.accuracy_score(y_test_C4_HSV, y_pred_C4_HSV))\n",
        "print(\"D2 มี Accuracy เท่ากับ:\", metrics.accuracy_score(y_test_D2_HSV, y_pred_D2_HSV))\n",
        "print(\"D3 มี Accuracy เท่ากับ:\", metrics.accuracy_score(y_test_D3_HSV, y_pred_D3_HSV))\n",
        "print(\"D4 มี Accuracy เท่ากับ:\", metrics.accuracy_score(y_test_D4_HSV, y_pred_D4_HSV))"
      ],
      "metadata": {
        "id": "NofOkqvcEKnU",
        "outputId": "f8c5f002-a0f5-4242-e429-68986c32f0f0",
        "colab": {
          "base_uri": "https://localhost:8080/"
        }
      },
      "execution_count": 519,
      "outputs": [
        {
          "output_type": "stream",
          "name": "stdout",
          "text": [
            "A1 มี Accuracy เท่ากับ: 0.07125\n",
            "A2 มี Accuracy เท่ากับ: 0.0625\n",
            "A3 มี Accuracy เท่ากับ: 0.07125\n",
            "A3.5 มี Accuracy เท่ากับ: 0.06125\n",
            "A4 มี Accuracy เท่ากับ: 0.08\n",
            "B1 มี Accuracy เท่ากับ: 0.0625\n",
            "B2 มี Accuracy เท่ากับ: 0.0625\n",
            "B3 มี Accuracy เท่ากับ: 0.0625\n",
            "B4 มี Accuracy เท่ากับ: 0.0625\n",
            "C1 มี Accuracy เท่ากับ: 0.0625\n",
            "C2 มี Accuracy เท่ากับ: 0.0625\n",
            "C3 มี Accuracy เท่ากับ: 0.0625\n",
            "C4 มี Accuracy เท่ากับ: 0.0625\n",
            "D2 มี Accuracy เท่ากับ: 0.07625\n",
            "D3 มี Accuracy เท่ากับ: 0.06875\n",
            "D4 มี Accuracy เท่ากับ: 0.08125\n"
          ]
        }
      ]
    }
  ]
}