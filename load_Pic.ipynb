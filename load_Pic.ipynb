{
  "nbformat": 4,
  "nbformat_minor": 0,
  "metadata": {
    "colab": {
      "name": "load_Pic.ipynb",
      "provenance": [],
      "include_colab_link": true
    },
    "kernelspec": {
      "name": "python3",
      "display_name": "Python 3"
    },
    "language_info": {
      "name": "python"
    }
  },
  "cells": [
    {
      "cell_type": "markdown",
      "metadata": {
        "id": "view-in-github",
        "colab_type": "text"
      },
      "source": [
        "<a href=\"https://colab.research.google.com/github/Kggzzz/Project_2021_matchingcolor/blob/main/load_Pic.ipynb\" target=\"_parent\"><img src=\"https://colab.research.google.com/assets/colab-badge.svg\" alt=\"Open In Colab\"/></a>"
      ]
    },
    {
      "cell_type": "code",
      "source": [
        "from google.colab import drive \n",
        "drive.mount('/content/drive')"
      ],
      "metadata": {
        "colab": {
          "base_uri": "https://localhost:8080/"
        },
        "id": "_8KDD0WgQC_c",
        "outputId": "95414094-1302-499b-f6c5-e0be0037c8af"
      },
      "execution_count": 1,
      "outputs": [
        {
          "output_type": "stream",
          "name": "stdout",
          "text": [
            "Mounted at /content/drive\n"
          ]
        }
      ]
    },
    {
      "cell_type": "code",
      "source": [
        "import os\n",
        "import cv2\n",
        "!pip install azure-storage-blob==2.1.0\n",
        "\n",
        "from azure.storage.blob import BlockBlobService\n",
        "import os\n",
        "blob_service_client = BlockBlobService(account_name='dent01', account_key='CuShY0B4TZJ84TjzPpaHxyrHOpO73aGXeCpdVq7x26OjIlQ1HOz+3DVc9pDEj9BdcEL8odFuTRF0mOAE+aCgiw==')"
      ],
      "metadata": {
        "id": "8TiNMFRzf3rV"
      },
      "execution_count": null,
      "outputs": []
    },
    {
      "cell_type": "code",
      "source": [
        "import os"
      ],
      "metadata": {
        "id": "-RXgiw8nQEFY"
      },
      "execution_count": 2,
      "outputs": []
    },
    {
      "cell_type": "code",
      "source": [
        "path = '/content/drive/My Drive/shadeimg/SVM shade'"
      ],
      "metadata": {
        "id": "ehxFczjDQFLC"
      },
      "execution_count": 3,
      "outputs": []
    },
    {
      "cell_type": "code",
      "source": [
        "import cv2"
      ],
      "metadata": {
        "id": "bHjE2WwFVyCa"
      },
      "execution_count": 4,
      "outputs": []
    },
    {
      "cell_type": "code",
      "source": [
        "!pip install azure-storage-blob==2.1.0"
      ],
      "metadata": {
        "id": "AXCy9HlDYC1Y",
        "colab": {
          "base_uri": "https://localhost:8080/"
        },
        "outputId": "6b4ef1b9-28f7-44e0-c9e4-9f93d8c13774"
      },
      "execution_count": 5,
      "outputs": [
        {
          "output_type": "stream",
          "name": "stdout",
          "text": [
            "Collecting azure-storage-blob==2.1.0\n",
            "  Downloading azure_storage_blob-2.1.0-py2.py3-none-any.whl (88 kB)\n",
            "\u001b[?25l\r\u001b[K     |███▊                            | 10 kB 17.9 MB/s eta 0:00:01\r\u001b[K     |███████▍                        | 20 kB 11.0 MB/s eta 0:00:01\r\u001b[K     |███████████▏                    | 30 kB 8.6 MB/s eta 0:00:01\r\u001b[K     |██████████████▉                 | 40 kB 8.2 MB/s eta 0:00:01\r\u001b[K     |██████████████████▋             | 51 kB 4.5 MB/s eta 0:00:01\r\u001b[K     |██████████████████████▎         | 61 kB 5.3 MB/s eta 0:00:01\r\u001b[K     |██████████████████████████      | 71 kB 5.1 MB/s eta 0:00:01\r\u001b[K     |█████████████████████████████▊  | 81 kB 5.6 MB/s eta 0:00:01\r\u001b[K     |████████████████████████████████| 88 kB 3.5 MB/s \n",
            "\u001b[?25hCollecting azure-common>=1.1.5\n",
            "  Downloading azure_common-1.1.28-py2.py3-none-any.whl (14 kB)\n",
            "Collecting azure-storage-common~=2.1\n",
            "  Downloading azure_storage_common-2.1.0-py2.py3-none-any.whl (47 kB)\n",
            "\u001b[K     |████████████████████████████████| 47 kB 5.2 MB/s \n",
            "\u001b[?25hRequirement already satisfied: requests in /usr/local/lib/python3.7/dist-packages (from azure-storage-common~=2.1->azure-storage-blob==2.1.0) (2.23.0)\n",
            "Collecting cryptography\n",
            "  Downloading cryptography-36.0.2-cp36-abi3-manylinux_2_24_x86_64.whl (3.6 MB)\n",
            "\u001b[K     |████████████████████████████████| 3.6 MB 30.7 MB/s \n",
            "\u001b[?25hRequirement already satisfied: python-dateutil in /usr/local/lib/python3.7/dist-packages (from azure-storage-common~=2.1->azure-storage-blob==2.1.0) (2.8.2)\n",
            "Requirement already satisfied: cffi>=1.12 in /usr/local/lib/python3.7/dist-packages (from cryptography->azure-storage-common~=2.1->azure-storage-blob==2.1.0) (1.15.0)\n",
            "Requirement already satisfied: pycparser in /usr/local/lib/python3.7/dist-packages (from cffi>=1.12->cryptography->azure-storage-common~=2.1->azure-storage-blob==2.1.0) (2.21)\n",
            "Requirement already satisfied: six>=1.5 in /usr/local/lib/python3.7/dist-packages (from python-dateutil->azure-storage-common~=2.1->azure-storage-blob==2.1.0) (1.15.0)\n",
            "Requirement already satisfied: urllib3!=1.25.0,!=1.25.1,<1.26,>=1.21.1 in /usr/local/lib/python3.7/dist-packages (from requests->azure-storage-common~=2.1->azure-storage-blob==2.1.0) (1.24.3)\n",
            "Requirement already satisfied: certifi>=2017.4.17 in /usr/local/lib/python3.7/dist-packages (from requests->azure-storage-common~=2.1->azure-storage-blob==2.1.0) (2021.10.8)\n",
            "Requirement already satisfied: chardet<4,>=3.0.2 in /usr/local/lib/python3.7/dist-packages (from requests->azure-storage-common~=2.1->azure-storage-blob==2.1.0) (3.0.4)\n",
            "Requirement already satisfied: idna<3,>=2.5 in /usr/local/lib/python3.7/dist-packages (from requests->azure-storage-common~=2.1->azure-storage-blob==2.1.0) (2.10)\n",
            "Installing collected packages: cryptography, azure-common, azure-storage-common, azure-storage-blob\n",
            "Successfully installed azure-common-1.1.28 azure-storage-blob-2.1.0 azure-storage-common-2.1.0 cryptography-36.0.2\n"
          ]
        }
      ]
    },
    {
      "cell_type": "code",
      "source": [
        "from azure.storage.blob import BlockBlobService\n",
        "import os\n",
        "blob_service_client = BlockBlobService(account_name='dent01', account_key='CuShY0B4TZJ84TjzPpaHxyrHOpO73aGXeCpdVq7x26OjIlQ1HOz+3DVc9pDEj9BdcEL8odFuTRF0mOAE+aCgiw==')"
      ],
      "metadata": {
        "id": "vj7O-7MtX9tj"
      },
      "execution_count": 6,
      "outputs": []
    },
    {
      "cell_type": "code",
      "source": [
        "# imgC2_1 = 'A0C78FC4-E67E-499A-A793-B19A687FA0CC.png' #A1     \n",
        "# imgC2_2 = '0298C403-3277-46FC-AC13-F3A2E53644BE.png' #A2 \n",
        "# imgC2_3 = '559B0A4C-D88E-4C0E-8D39-22305D35F078.png' #A3.5\n",
        "# imgC2_4 = '31BFDE6F-9DE9-4FF8-82CC-10F0409D05DC.png' #A3\n",
        "# imgC2_5 = '9F16CE23-5BD1-48AF-ADF4-9ABFCAE326DE.png' #A4 (ตรง)\n",
        "# imgC2_6 = '04943031-FF8D-42FB-AAAA-C6CB37A13A61.png' #B1 (ตรง)\n",
        "# imgC2_7 = '7EBD2A8B-08BE-4E84-BC2D-4C426990ACE6.png' #B2\n",
        "# imgC2_8 = '4743131D-A6C9-4037-8D9C-F3FFA7C85058.png' #B3 (ตรง)\n",
        "# imgC2_9 = '54B66C15-C256-4D83-B96D-E744F59CD13D.png' #B4\n",
        "# imgC2_10 = 'A58A7A66-88A4-4839-A790-D23236264CA0.png' #C1\n",
        "# imgC2_11 = '93F7E8BF-A342-4B8E-81D9-02BC4725333C.png' #C2\n",
        "# imgC2_12 = 'D60AEF17-A5D6-4911-9A1A-CE6D2F024A97.png' #C3\n",
        "# imgC2_13 = 'E40356DA-FB76-48BB-A2BB-5770D91D2FC3.png' #C4\n",
        "# imgC2_14 = 'CCDF76CC-3509-4CE2-80C7-106D49D99151.png' #D2\n",
        "# imgC2_15 = '7722DAA1-CEEF-4E66-9FFE-278C32680D3A.png' #D3 (ตรง)\n",
        "# imgC2_16 = '5F9D926F-1E6F-4C53-AB78-9513F45CCE11.png' #D4 (ตรง)"
      ],
      "metadata": {
        "id": "Rhsj8bqjV4KP"
      },
      "execution_count": null,
      "outputs": []
    },
    {
      "cell_type": "code",
      "source": [
        "imgC2_1 = 'BA1C5EC5-EEF6-4B19-83F6-9431A864B619.png' #A1     \n",
        "imgC2_2 = '67851985-7ED3-495E-A216-1F8774112A32.png' #A2 (ตรง)\n",
        "imgC2_3 = 'AA6162F7-1480-4C66-B43F-75D35266ABCA.png' #A3 \n",
        "imgC2_4 = 'DCE44282-48F1-40B7-8606-E6F229652C61.png' #A3.5 (ใกล้)\n",
        "imgC2_5 = '111EC5E0-D9CD-4514-AFD8-B1A94F2D2178.png' #A4 (ตรง)\n",
        "imgC2_6 = 'DB11C332-2BC9-4487-BA91-19FE112DEBB5.png' #B1 (ตรง)\n",
        "imgC2_7 = 'B8C7A802-17A2-48BA-979B-02718711E6B5.png' #B2 (ใกล้)\n",
        "imgC2_8 = 'BD5C85FC-0B48-412B-912A-10C67E8FEE77.png' #B3 (ตรง)\n",
        "imgC2_9 = '3117745C-4ED3-4F9B-8428-4D7CF559AB48.png' #B4 (ใกล้ อันดับ2)\n",
        "imgC2_10 = 'B993B086-BA54-41D7-AA03-DD45B7388C54.png' #C1\n",
        "imgC2_11 = 'D426AF12-8EE7-4489-ADC3-313616EC753F.png' #C2 (ตรง)\n",
        "imgC2_12 = '5B8E4D5E-CB09-41C5-96C0-3DA966BEE8A8.png' #C3 (ตรง)\n",
        "imgC2_13 = 'B0F0872E-468E-42F3-9721-2AD0DC90263F.png' #C4 (ตรง)\n",
        "imgC2_14 = 'F545E374-0452-4050-8334-CC3AE2265FFA.png' #D2\n",
        "imgC2_15 = '2F46931D-7DE3-41DD-8BDC-75DB978169E5.png' #D3 (ตรง)\n",
        "imgC2_16 = '6AA15F0D-AE78-4172-8E2A-99AC39BFE3F7.png' #D4 (ตรง)"
      ],
      "metadata": {
        "id": "m3r9QWuaWDon"
      },
      "execution_count": null,
      "outputs": []
    },
    {
      "cell_type": "code",
      "source": [
        "imgC2_1 = '67851985-7ED3-495E-A216-1F8774112A32.png' #A1\n",
        "\n",
        "C2_1_double = imgC2_1\n",
        "full_path_to_file2 = os.path.join(C2_1_double) \n",
        "blob_service_client.get_blob_to_path('shadeimg', full_path_to_file2, full_path_to_file2)\n",
        "imagee = cv2.imread(C2_1_double)"
      ],
      "metadata": {
        "id": "GQdKAUpHf_C2"
      },
      "execution_count": 7,
      "outputs": []
    },
    {
      "cell_type": "code",
      "source": [
        "C2_1_double = imgC2_1\n",
        "full_path_to_file2 = os.path.join(C2_1_double) \n",
        "blob_service_client.get_blob_to_path('shadeimg', full_path_to_file2, full_path_to_file2)\n",
        "imagee = cv2.imread(C2_1_double)"
      ],
      "metadata": {
        "id": "1e7gc-zCrfki"
      },
      "execution_count": null,
      "outputs": []
    },
    {
      "cell_type": "code",
      "source": [
        "C2_2_double = imgC2_2\n",
        "full_path_to_file2 = os.path.join(C2_2_double) \n",
        "blob_service_client.get_blob_to_path('shadeimg', full_path_to_file2, full_path_to_file2)\n",
        "imagee = cv2.imread(C2_2_double)"
      ],
      "metadata": {
        "id": "L1IexxbarlVt"
      },
      "execution_count": null,
      "outputs": []
    },
    {
      "cell_type": "code",
      "source": [
        "C2_3_double = imgC2_3\n",
        "full_path_to_file2 = os.path.join(C2_3_double) \n",
        "blob_service_client.get_blob_to_path('shadeimg', full_path_to_file2, full_path_to_file2)\n",
        "imagee = cv2.imread(C2_3_double)"
      ],
      "metadata": {
        "id": "5lxvcfqKroiX"
      },
      "execution_count": null,
      "outputs": []
    },
    {
      "cell_type": "code",
      "source": [
        "C2_4_double = imgC2_4\n",
        "full_path_to_file2 = os.path.join(C2_4_double) \n",
        "blob_service_client.get_blob_to_path('shadeimg', full_path_to_file2, full_path_to_file2)\n",
        "imagee = cv2.imread(C2_4_double)"
      ],
      "metadata": {
        "id": "M0acCvr5rrFL"
      },
      "execution_count": null,
      "outputs": []
    },
    {
      "cell_type": "code",
      "source": [
        "C2_5_double = imgC2_5\n",
        "full_path_to_file2 = os.path.join(C2_5_double) \n",
        "blob_service_client.get_blob_to_path('shadeimg', full_path_to_file2, full_path_to_file2)\n",
        "imagee = cv2.imread(C2_5_double)"
      ],
      "metadata": {
        "id": "qVTdhduTrue7"
      },
      "execution_count": null,
      "outputs": []
    },
    {
      "cell_type": "code",
      "source": [
        "C2_6_double = imgC2_6\n",
        "full_path_to_file2 = os.path.join(C2_6_double) \n",
        "blob_service_client.get_blob_to_path('shadeimg', full_path_to_file2, full_path_to_file2)\n",
        "imagee = cv2.imread(C2_6_double)"
      ],
      "metadata": {
        "id": "j0e2AUouru8x"
      },
      "execution_count": null,
      "outputs": []
    },
    {
      "cell_type": "code",
      "source": [
        "C2_7_double = imgC2_7\n",
        "full_path_to_file2 = os.path.join(C2_7_double) \n",
        "blob_service_client.get_blob_to_path('shadeimg', full_path_to_file2, full_path_to_file2)\n",
        "imagee = cv2.imread(C2_7_double)"
      ],
      "metadata": {
        "id": "S6EbsZjErvfR"
      },
      "execution_count": null,
      "outputs": []
    },
    {
      "cell_type": "code",
      "source": [
        "C2_8_double = imgC2_8\n",
        "full_path_to_file2 = os.path.join(C2_8_double) \n",
        "blob_service_client.get_blob_to_path('shadeimg', full_path_to_file2, full_path_to_file2)\n",
        "imagee = cv2.imread(C2_8_double)"
      ],
      "metadata": {
        "id": "6QIuimtpr3sn"
      },
      "execution_count": null,
      "outputs": []
    },
    {
      "cell_type": "code",
      "source": [
        "C2_9_double = imgC2_9\n",
        "full_path_to_file2 = os.path.join(C2_9_double) \n",
        "blob_service_client.get_blob_to_path('shadeimg', full_path_to_file2, full_path_to_file2)\n",
        "imagee = cv2.imread(C2_9_double)"
      ],
      "metadata": {
        "id": "GGPXhlLdr5Gy"
      },
      "execution_count": null,
      "outputs": []
    },
    {
      "cell_type": "code",
      "source": [
        "C2_10_double = imgC2_10\n",
        "full_path_to_file2 = os.path.join(C2_10_double) \n",
        "blob_service_client.get_blob_to_path('shadeimg', full_path_to_file2, full_path_to_file2)\n",
        "imagee = cv2.imread(C2_10_double)"
      ],
      "metadata": {
        "id": "RHR2qeLsr9h7"
      },
      "execution_count": null,
      "outputs": []
    },
    {
      "cell_type": "code",
      "source": [
        "C2_11_double = imgC2_11\n",
        "full_path_to_file2 = os.path.join(C2_11_double) \n",
        "blob_service_client.get_blob_to_path('shadeimg', full_path_to_file2, full_path_to_file2)\n",
        "imagee = cv2.imread(C2_11_double)"
      ],
      "metadata": {
        "id": "L0yvvyR-r-KA"
      },
      "execution_count": null,
      "outputs": []
    },
    {
      "cell_type": "code",
      "source": [
        "C2_12_double = imgC2_12\n",
        "full_path_to_file2 = os.path.join(C2_12_double) \n",
        "blob_service_client.get_blob_to_path('shadeimg', full_path_to_file2, full_path_to_file2)\n",
        "imagee = cv2.imread(C2_12_double)"
      ],
      "metadata": {
        "id": "6KXc2BqusDQL"
      },
      "execution_count": null,
      "outputs": []
    },
    {
      "cell_type": "code",
      "source": [
        "C2_13_double = imgC2_13\n",
        "full_path_to_file2 = os.path.join(C2_13_double) \n",
        "blob_service_client.get_blob_to_path('shadeimg', full_path_to_file2, full_path_to_file2)\n",
        "imagee = cv2.imread(C2_13_double)"
      ],
      "metadata": {
        "id": "tot3aaLesD9u"
      },
      "execution_count": null,
      "outputs": []
    },
    {
      "cell_type": "code",
      "source": [
        "C2_14_double = imgC2_14\n",
        "full_path_to_file2 = os.path.join(C2_14_double) \n",
        "blob_service_client.get_blob_to_path('shadeimg', full_path_to_file2, full_path_to_file2)\n",
        "imagee = cv2.imread(C2_14_double)"
      ],
      "metadata": {
        "id": "GiMZp0SNsJkx"
      },
      "execution_count": null,
      "outputs": []
    },
    {
      "cell_type": "code",
      "source": [
        "C2_15_double = imgC2_15\n",
        "full_path_to_file2 = os.path.join(C2_15_double) \n",
        "blob_service_client.get_blob_to_path('shadeimg', full_path_to_file2, full_path_to_file2)\n",
        "imagee = cv2.imread(C2_15_double)"
      ],
      "metadata": {
        "id": "H4xCUFD-sMq-"
      },
      "execution_count": null,
      "outputs": []
    },
    {
      "cell_type": "code",
      "source": [
        "C2_16_double = imgC2_16\n",
        "full_path_to_file2 = os.path.join(C2_16_double) \n",
        "blob_service_client.get_blob_to_path('shadeimg', full_path_to_file2, full_path_to_file2)\n",
        "imagee = cv2.imread(C2_16_double)"
      ],
      "metadata": {
        "id": "sGwROEPKsNBR"
      },
      "execution_count": null,
      "outputs": []
    }
  ]
}