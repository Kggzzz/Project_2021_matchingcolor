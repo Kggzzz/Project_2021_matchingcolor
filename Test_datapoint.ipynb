{
  "nbformat": 4,
  "nbformat_minor": 0,
  "metadata": {
    "colab": {
      "name": "Test_datapoint.ipynb",
      "provenance": [],
      "include_colab_link": true
    },
    "kernelspec": {
      "name": "python3",
      "display_name": "Python 3"
    },
    "language_info": {
      "name": "python"
    }
  },
  "cells": [
    {
      "cell_type": "markdown",
      "metadata": {
        "id": "view-in-github",
        "colab_type": "text"
      },
      "source": [
        "<a href=\"https://colab.research.google.com/github/Kggzzz/Project_2021_matchingcolor/blob/main/Test_datapoint.ipynb\" target=\"_parent\"><img src=\"https://colab.research.google.com/assets/colab-badge.svg\" alt=\"Open In Colab\"/></a>"
      ]
    },
    {
      "cell_type": "code",
      "source": [
        "import pandas as pd\n",
        "import cv2\n",
        "import numpy as np"
      ],
      "metadata": {
        "id": "ZzrNkhwY45v0"
      },
      "execution_count": 1,
      "outputs": []
    },
    {
      "cell_type": "code",
      "source": [
        "!pip install azure-storage-blob==2.1.0"
      ],
      "metadata": {
        "colab": {
          "base_uri": "https://localhost:8080/"
        },
        "id": "8YnSEfox47yC",
        "outputId": "bae4d4d9-0363-4bc3-8e86-9a266119ac96"
      },
      "execution_count": 2,
      "outputs": [
        {
          "output_type": "stream",
          "name": "stdout",
          "text": [
            "Collecting azure-storage-blob==2.1.0\n",
            "  Downloading azure_storage_blob-2.1.0-py2.py3-none-any.whl (88 kB)\n",
            "\u001b[?25l\r\u001b[K     |███▊                            | 10 kB 20.1 MB/s eta 0:00:01\r\u001b[K     |███████▍                        | 20 kB 11.3 MB/s eta 0:00:01\r\u001b[K     |███████████▏                    | 30 kB 9.4 MB/s eta 0:00:01\r\u001b[K     |██████████████▉                 | 40 kB 8.4 MB/s eta 0:00:01\r\u001b[K     |██████████████████▋             | 51 kB 5.2 MB/s eta 0:00:01\r\u001b[K     |██████████████████████▎         | 61 kB 5.7 MB/s eta 0:00:01\r\u001b[K     |██████████████████████████      | 71 kB 5.5 MB/s eta 0:00:01\r\u001b[K     |█████████████████████████████▊  | 81 kB 6.2 MB/s eta 0:00:01\r\u001b[K     |████████████████████████████████| 88 kB 3.5 MB/s \n",
            "\u001b[?25hCollecting azure-common>=1.1.5\n",
            "  Downloading azure_common-1.1.28-py2.py3-none-any.whl (14 kB)\n",
            "Collecting azure-storage-common~=2.1\n",
            "  Downloading azure_storage_common-2.1.0-py2.py3-none-any.whl (47 kB)\n",
            "\u001b[K     |████████████████████████████████| 47 kB 4.2 MB/s \n",
            "\u001b[?25hCollecting cryptography\n",
            "  Downloading cryptography-36.0.1-cp36-abi3-manylinux_2_24_x86_64.whl (3.6 MB)\n",
            "\u001b[K     |████████████████████████████████| 3.6 MB 34.4 MB/s \n",
            "\u001b[?25hRequirement already satisfied: requests in /usr/local/lib/python3.7/dist-packages (from azure-storage-common~=2.1->azure-storage-blob==2.1.0) (2.23.0)\n",
            "Requirement already satisfied: python-dateutil in /usr/local/lib/python3.7/dist-packages (from azure-storage-common~=2.1->azure-storage-blob==2.1.0) (2.8.2)\n",
            "Requirement already satisfied: cffi>=1.12 in /usr/local/lib/python3.7/dist-packages (from cryptography->azure-storage-common~=2.1->azure-storage-blob==2.1.0) (1.15.0)\n",
            "Requirement already satisfied: pycparser in /usr/local/lib/python3.7/dist-packages (from cffi>=1.12->cryptography->azure-storage-common~=2.1->azure-storage-blob==2.1.0) (2.21)\n",
            "Requirement already satisfied: six>=1.5 in /usr/local/lib/python3.7/dist-packages (from python-dateutil->azure-storage-common~=2.1->azure-storage-blob==2.1.0) (1.15.0)\n",
            "Requirement already satisfied: certifi>=2017.4.17 in /usr/local/lib/python3.7/dist-packages (from requests->azure-storage-common~=2.1->azure-storage-blob==2.1.0) (2021.10.8)\n",
            "Requirement already satisfied: urllib3!=1.25.0,!=1.25.1,<1.26,>=1.21.1 in /usr/local/lib/python3.7/dist-packages (from requests->azure-storage-common~=2.1->azure-storage-blob==2.1.0) (1.24.3)\n",
            "Requirement already satisfied: idna<3,>=2.5 in /usr/local/lib/python3.7/dist-packages (from requests->azure-storage-common~=2.1->azure-storage-blob==2.1.0) (2.10)\n",
            "Requirement already satisfied: chardet<4,>=3.0.2 in /usr/local/lib/python3.7/dist-packages (from requests->azure-storage-common~=2.1->azure-storage-blob==2.1.0) (3.0.4)\n",
            "Installing collected packages: cryptography, azure-common, azure-storage-common, azure-storage-blob\n",
            "Successfully installed azure-common-1.1.28 azure-storage-blob-2.1.0 azure-storage-common-2.1.0 cryptography-36.0.1\n"
          ]
        }
      ]
    },
    {
      "cell_type": "code",
      "source": [
        "from azure.storage.blob import BlockBlobService\n",
        "import os\n",
        "blob_service_client = BlockBlobService(account_name='dent01', account_key='CuShY0B4TZJ84TjzPpaHxyrHOpO73aGXeCpdVq7x26OjIlQ1HOz+3DVc9pDEj9BdcEL8odFuTRF0mOAE+aCgiw==')"
      ],
      "metadata": {
        "id": "p0RIz2m442LO"
      },
      "execution_count": 3,
      "outputs": []
    },
    {
      "cell_type": "code",
      "source": [
        "img = '342AE035-E0F5-4DEF-988E-27F570C725B2.png'"
      ],
      "metadata": {
        "id": "U_SB9sl45T0U"
      },
      "execution_count": 4,
      "outputs": []
    },
    {
      "cell_type": "code",
      "execution_count": 8,
      "metadata": {
        "id": "_1d5iMac4akp"
      },
      "outputs": [],
      "source": [
        "list_total = list()\n",
        "S5_double = img\n",
        "full_path_to_file2 = os.path.join(S5_double) \n",
        "blob_service_client.get_blob_to_path('shadeimg', full_path_to_file2, full_path_to_file2)\n",
        "imagee = cv2.imread(S5_double)\n",
        "S5RGB_imgA1A1_1 = cv2.cvtColor(imagee, cv2.COLOR_BGR2RGB)\n",
        "S5meanrefA1_1 = list()\n",
        "for i in range(S5RGB_imgA1A1_1.shape[0]): \n",
        "    for j in range(S5RGB_imgA1A1_1.shape[1]): \n",
        "          if 1769<i<1881 and 2019<j<2131 :\n",
        "            S5RGB_imgA1A1_1[i:j,:]\n",
        "          if 1770<i<1880 and 2015<j<2145 :\n",
        "            S5RGB_imgA1A1_1[i:j,:]\n",
        "# S5meanrefA1_1 = np.array(S5meanrefA1_1)\n",
        "# S5meanA1_2 = np.array(S5meanrefA1_1)\n",
        "# S5rgbrefA1_1 = list()\n",
        "# for i in range(3):\n",
        "#   S5rgbrefA1_1.append(S5meanrefA1_1[:,i].mean())\n",
        "#   S5rgbrefA1_1.append(S5meanA1_2[:,i].mean())\n",
        "# list_total.append(S5rgbrefA1_1)"
      ]
    },
    {
      "cell_type": "code",
      "source": [
        "S5meanrefA1_1 = np.array(S5meanrefA1_1)"
      ],
      "metadata": {
        "id": "rn-I9YzVhaml"
      },
      "execution_count": 10,
      "outputs": []
    },
    {
      "cell_type": "code",
      "source": [
        "S5meanrefA1_1"
      ],
      "metadata": {
        "id": "fz4iwtMmhnUh",
        "outputId": "cf51e3f9-40e6-4ccf-bb39-246b1569e8e8",
        "colab": {
          "base_uri": "https://localhost:8080/"
        }
      },
      "execution_count": 13,
      "outputs": [
        {
          "output_type": "execute_result",
          "data": {
            "text/plain": [
              "array([], dtype=float64)"
            ]
          },
          "metadata": {},
          "execution_count": 13
        }
      ]
    },
    {
      "cell_type": "code",
      "source": [
        "S5meanrefA1_1.mean()"
      ],
      "metadata": {
        "id": "ZmGGrRm-hbHM",
        "outputId": "697b3a02-e54d-4bb9-c13a-bfcd57bb5008",
        "colab": {
          "base_uri": "https://localhost:8080/"
        }
      },
      "execution_count": 11,
      "outputs": [
        {
          "output_type": "stream",
          "name": "stderr",
          "text": [
            "/usr/local/lib/python3.7/dist-packages/ipykernel_launcher.py:1: RuntimeWarning: Mean of empty slice.\n",
            "  \"\"\"Entry point for launching an IPython kernel.\n",
            "/usr/local/lib/python3.7/dist-packages/numpy/core/_methods.py:170: RuntimeWarning: invalid value encountered in double_scalars\n",
            "  ret = ret.dtype.type(ret / rcount)\n"
          ]
        },
        {
          "output_type": "execute_result",
          "data": {
            "text/plain": [
              "nan"
            ]
          },
          "metadata": {},
          "execution_count": 11
        }
      ]
    },
    {
      "cell_type": "code",
      "source": [
        "S5RGB_imgA1A1_1"
      ],
      "metadata": {
        "id": "11qyOji8g7PZ",
        "outputId": "5023276b-5173-4261-c516-2325f792d6c7",
        "colab": {
          "base_uri": "https://localhost:8080/"
        }
      },
      "execution_count": 6,
      "outputs": [
        {
          "output_type": "execute_result",
          "data": {
            "text/plain": [
              "array([[[104, 100, 101],\n",
              "        [101,  97,  98],\n",
              "        [ 93,  89,  90],\n",
              "        ...,\n",
              "        [107, 105, 108],\n",
              "        [108, 106, 109],\n",
              "        [105, 103, 106]],\n",
              "\n",
              "       [[105, 101, 102],\n",
              "        [ 93,  89,  90],\n",
              "        [ 99,  95,  96],\n",
              "        ...,\n",
              "        [112, 110, 113],\n",
              "        [113, 111, 114],\n",
              "        [114, 112, 115]],\n",
              "\n",
              "       [[106, 102, 103],\n",
              "        [ 95,  91,  92],\n",
              "        [ 97,  93,  94],\n",
              "        ...,\n",
              "        [ 98,  96,  99],\n",
              "        [103, 101, 104],\n",
              "        [100,  98, 101]],\n",
              "\n",
              "       ...,\n",
              "\n",
              "       [[ 62,  60,  63],\n",
              "        [ 70,  68,  71],\n",
              "        [ 74,  72,  75],\n",
              "        ...,\n",
              "        [ 28,  24,  23],\n",
              "        [ 39,  35,  34],\n",
              "        [ 39,  35,  34]],\n",
              "\n",
              "       [[ 62,  60,  63],\n",
              "        [ 75,  73,  76],\n",
              "        [ 68,  66,  69],\n",
              "        ...,\n",
              "        [ 28,  24,  23],\n",
              "        [ 25,  21,  20],\n",
              "        [ 25,  21,  20]],\n",
              "\n",
              "       [[ 73,  71,  74],\n",
              "        [ 69,  67,  70],\n",
              "        [ 63,  61,  64],\n",
              "        ...,\n",
              "        [ 37,  33,  32],\n",
              "        [ 19,  15,  14],\n",
              "        [  4,   0,   0]]], dtype=uint8)"
            ]
          },
          "metadata": {},
          "execution_count": 6
        }
      ]
    },
    {
      "cell_type": "code",
      "source": [
        "S5meanrefA1_1.mean()"
      ],
      "metadata": {
        "colab": {
          "base_uri": "https://localhost:8080/",
          "height": 165
        },
        "id": "ihzmWgSLfGkh",
        "outputId": "67314f88-6cad-4725-be7f-1d2fc7527a7c"
      },
      "execution_count": 9,
      "outputs": [
        {
          "output_type": "error",
          "ename": "AttributeError",
          "evalue": "ignored",
          "traceback": [
            "\u001b[0;31m---------------------------------------------------------------------------\u001b[0m",
            "\u001b[0;31mAttributeError\u001b[0m                            Traceback (most recent call last)",
            "\u001b[0;32m<ipython-input-9-33b3d3f9352a>\u001b[0m in \u001b[0;36m<module>\u001b[0;34m()\u001b[0m\n\u001b[0;32m----> 1\u001b[0;31m \u001b[0mS5meanrefA1_1\u001b[0m\u001b[0;34m.\u001b[0m\u001b[0mmean\u001b[0m\u001b[0;34m(\u001b[0m\u001b[0;34m)\u001b[0m\u001b[0;34m\u001b[0m\u001b[0;34m\u001b[0m\u001b[0m\n\u001b[0m",
            "\u001b[0;31mAttributeError\u001b[0m: 'list' object has no attribute 'mean'"
          ]
        }
      ]
    },
    {
      "cell_type": "code",
      "source": [
        "S5meanrefA1_1"
      ],
      "metadata": {
        "colab": {
          "base_uri": "https://localhost:8080/"
        },
        "id": "XWdnC9IWfJ5G",
        "outputId": "6c33a442-058e-40b5-88df-c053770463f8"
      },
      "execution_count": null,
      "outputs": [
        {
          "output_type": "execute_result",
          "data": {
            "text/plain": [
              "array([], dtype=float64)"
            ]
          },
          "metadata": {},
          "execution_count": 54
        }
      ]
    },
    {
      "cell_type": "code",
      "source": [
        "S5meanrefA1_1"
      ],
      "metadata": {
        "colab": {
          "base_uri": "https://localhost:8080/"
        },
        "id": "aVVHrFscfN7S",
        "outputId": "9b49c70b-bb95-42fe-acf4-1a09af4998dc"
      },
      "execution_count": null,
      "outputs": [
        {
          "output_type": "execute_result",
          "data": {
            "text/plain": [
              "array([], dtype=float64)"
            ]
          },
          "metadata": {},
          "execution_count": 56
        }
      ]
    },
    {
      "cell_type": "code",
      "source": [
        "S5RGB_imgA1A1_1"
      ],
      "metadata": {
        "colab": {
          "base_uri": "https://localhost:8080/"
        },
        "id": "q7mAe6WCQv74",
        "outputId": "5215a09c-a291-4584-d552-f73c155fb662"
      },
      "execution_count": null,
      "outputs": [
        {
          "output_type": "execute_result",
          "data": {
            "text/plain": [
              "array([[[104, 100, 101],\n",
              "        [101,  97,  98],\n",
              "        [ 93,  89,  90],\n",
              "        ...,\n",
              "        [107, 105, 108],\n",
              "        [108, 106, 109],\n",
              "        [105, 103, 106]],\n",
              "\n",
              "       [[105, 101, 102],\n",
              "        [ 93,  89,  90],\n",
              "        [ 99,  95,  96],\n",
              "        ...,\n",
              "        [112, 110, 113],\n",
              "        [113, 111, 114],\n",
              "        [114, 112, 115]],\n",
              "\n",
              "       [[106, 102, 103],\n",
              "        [ 95,  91,  92],\n",
              "        [ 97,  93,  94],\n",
              "        ...,\n",
              "        [ 98,  96,  99],\n",
              "        [103, 101, 104],\n",
              "        [100,  98, 101]],\n",
              "\n",
              "       ...,\n",
              "\n",
              "       [[ 62,  60,  63],\n",
              "        [ 70,  68,  71],\n",
              "        [ 74,  72,  75],\n",
              "        ...,\n",
              "        [ 28,  24,  23],\n",
              "        [ 39,  35,  34],\n",
              "        [ 39,  35,  34]],\n",
              "\n",
              "       [[ 62,  60,  63],\n",
              "        [ 75,  73,  76],\n",
              "        [ 68,  66,  69],\n",
              "        ...,\n",
              "        [ 28,  24,  23],\n",
              "        [ 25,  21,  20],\n",
              "        [ 25,  21,  20]],\n",
              "\n",
              "       [[ 73,  71,  74],\n",
              "        [ 69,  67,  70],\n",
              "        [ 63,  61,  64],\n",
              "        ...,\n",
              "        [ 37,  33,  32],\n",
              "        [ 19,  15,  14],\n",
              "        [  4,   0,   0]]], dtype=uint8)"
            ]
          },
          "metadata": {},
          "execution_count": 53
        }
      ]
    }
  ]
}