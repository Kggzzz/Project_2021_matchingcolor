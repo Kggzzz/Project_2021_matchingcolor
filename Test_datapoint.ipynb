{
  "nbformat": 4,
  "nbformat_minor": 0,
  "metadata": {
    "colab": {
      "name": "Test_datapoint.ipynb",
      "provenance": [],
      "include_colab_link": true
    },
    "kernelspec": {
      "name": "python3",
      "display_name": "Python 3"
    },
    "language_info": {
      "name": "python"
    }
  },
  "cells": [
    {
      "cell_type": "markdown",
      "metadata": {
        "id": "view-in-github",
        "colab_type": "text"
      },
      "source": [
        "<a href=\"https://colab.research.google.com/github/Kggzzz/Project_2021_matchingcolor/blob/main/Test_datapoint.ipynb\" target=\"_parent\"><img src=\"https://colab.research.google.com/assets/colab-badge.svg\" alt=\"Open In Colab\"/></a>"
      ]
    },
    {
      "cell_type": "code",
      "source": [
        "import pandas as pd\n",
        "import cv2\n",
        "import numpy as np"
      ],
      "metadata": {
        "id": "ZzrNkhwY45v0"
      },
      "execution_count": 1,
      "outputs": []
    },
    {
      "cell_type": "code",
      "source": [
        "!pip install azure-storage-blob==2.1.0"
      ],
      "metadata": {
        "colab": {
          "base_uri": "https://localhost:8080/"
        },
        "id": "8YnSEfox47yC",
        "outputId": "176eeadc-53f8-4d61-9cf0-3112f4f81e72"
      },
      "execution_count": 2,
      "outputs": [
        {
          "output_type": "stream",
          "name": "stdout",
          "text": [
            "Collecting azure-storage-blob==2.1.0\n",
            "  Downloading azure_storage_blob-2.1.0-py2.py3-none-any.whl (88 kB)\n",
            "\u001b[K     |████████████████████████████████| 88 kB 4.7 MB/s \n",
            "\u001b[?25hCollecting azure-common>=1.1.5\n",
            "  Downloading azure_common-1.1.28-py2.py3-none-any.whl (14 kB)\n",
            "Collecting azure-storage-common~=2.1\n",
            "  Downloading azure_storage_common-2.1.0-py2.py3-none-any.whl (47 kB)\n",
            "\u001b[K     |████████████████████████████████| 47 kB 5.3 MB/s \n",
            "\u001b[?25hRequirement already satisfied: python-dateutil in /usr/local/lib/python3.7/dist-packages (from azure-storage-common~=2.1->azure-storage-blob==2.1.0) (2.8.2)\n",
            "Collecting cryptography\n",
            "  Downloading cryptography-36.0.1-cp36-abi3-manylinux_2_24_x86_64.whl (3.6 MB)\n",
            "\u001b[K     |████████████████████████████████| 3.6 MB 18.8 MB/s \n",
            "\u001b[?25hRequirement already satisfied: requests in /usr/local/lib/python3.7/dist-packages (from azure-storage-common~=2.1->azure-storage-blob==2.1.0) (2.23.0)\n",
            "Requirement already satisfied: cffi>=1.12 in /usr/local/lib/python3.7/dist-packages (from cryptography->azure-storage-common~=2.1->azure-storage-blob==2.1.0) (1.15.0)\n",
            "Requirement already satisfied: pycparser in /usr/local/lib/python3.7/dist-packages (from cffi>=1.12->cryptography->azure-storage-common~=2.1->azure-storage-blob==2.1.0) (2.21)\n",
            "Requirement already satisfied: six>=1.5 in /usr/local/lib/python3.7/dist-packages (from python-dateutil->azure-storage-common~=2.1->azure-storage-blob==2.1.0) (1.15.0)\n",
            "Requirement already satisfied: urllib3!=1.25.0,!=1.25.1,<1.26,>=1.21.1 in /usr/local/lib/python3.7/dist-packages (from requests->azure-storage-common~=2.1->azure-storage-blob==2.1.0) (1.24.3)\n",
            "Requirement already satisfied: certifi>=2017.4.17 in /usr/local/lib/python3.7/dist-packages (from requests->azure-storage-common~=2.1->azure-storage-blob==2.1.0) (2021.10.8)\n",
            "Requirement already satisfied: idna<3,>=2.5 in /usr/local/lib/python3.7/dist-packages (from requests->azure-storage-common~=2.1->azure-storage-blob==2.1.0) (2.10)\n",
            "Requirement already satisfied: chardet<4,>=3.0.2 in /usr/local/lib/python3.7/dist-packages (from requests->azure-storage-common~=2.1->azure-storage-blob==2.1.0) (3.0.4)\n",
            "Installing collected packages: cryptography, azure-common, azure-storage-common, azure-storage-blob\n",
            "Successfully installed azure-common-1.1.28 azure-storage-blob-2.1.0 azure-storage-common-2.1.0 cryptography-36.0.1\n"
          ]
        }
      ]
    },
    {
      "cell_type": "code",
      "source": [
        "from azure.storage.blob import BlockBlobService\n",
        "import os\n",
        "blob_service_client = BlockBlobService(account_name='dent01', account_key='CuShY0B4TZJ84TjzPpaHxyrHOpO73aGXeCpdVq7x26OjIlQ1HOz+3DVc9pDEj9BdcEL8odFuTRF0mOAE+aCgiw==')"
      ],
      "metadata": {
        "id": "p0RIz2m442LO"
      },
      "execution_count": 3,
      "outputs": []
    },
    {
      "cell_type": "code",
      "source": [
        "img = '342AE035-E0F5-4DEF-988E-27F570C725B2.png'"
      ],
      "metadata": {
        "id": "U_SB9sl45T0U"
      },
      "execution_count": 4,
      "outputs": []
    },
    {
      "cell_type": "code",
      "execution_count": 65,
      "metadata": {
        "id": "_1d5iMac4akp"
      },
      "outputs": [],
      "source": [
        "list_total1 = list()\n",
        "list_total2 = list()\n",
        "list_total3 = list()\n",
        "S5_double = img\n",
        "full_path_to_file2 = os.path.join(S5_double) \n",
        "blob_service_client.get_blob_to_path('shadeimg', full_path_to_file2, full_path_to_file2)\n",
        "imagee = cv2.imread(S5_double)\n",
        "S5RGB_imgA1A1_1 = cv2.cvtColor(imagee, cv2.COLOR_BGR2RGB)\n",
        "S5meanrefA1_1 =  S5RGB_imgA1A1_1[1769:1881,2019:2131]\n",
        "S5meanA1_2 = S5RGB_imgA1A1_1[1770:1880,2015:2145]\n",
        "S5meanrefA1_1 = np.array(S5meanrefA1_1[0])\n",
        "S5meanA1_2 = np.array(S5meanA1_2[0])\n",
        "S5rgbrefA1_1 = list()\n",
        "S5rgbA1_2 = list()\n",
        "for i in range(3):\n",
        "  S5rgbrefA1_1.append(S5meanrefA1_1[:,i].mean())\n",
        "  S5rgbA1_2.append(S5meanA1_2[:,i].mean())\n",
        "list_total1.append(S5rgbrefA1_1)\n",
        "list_total2.append(S5rgbA1_2)\n",
        "list_total1[0].extend(list_total2[0])\n",
        "list_total3 = list_total1 "
      ]
    },
    {
      "cell_type": "code",
      "source": [
        "S5rgbrefA1_1"
      ],
      "metadata": {
        "colab": {
          "base_uri": "https://localhost:8080/"
        },
        "id": "r4xql7_vxRj9",
        "outputId": "1b026ff2-0612-4927-a144-70be771f05a9"
      },
      "execution_count": 61,
      "outputs": [
        {
          "output_type": "execute_result",
          "data": {
            "text/plain": [
              "[231.90178571428572, 215.35714285714286, 184.02678571428572]"
            ]
          },
          "metadata": {},
          "execution_count": 61
        }
      ]
    },
    {
      "cell_type": "code",
      "source": [
        "list_total3"
      ],
      "metadata": {
        "id": "3q2xefCE1eBu",
        "outputId": "50b5e012-8eaa-46ba-cd8d-a10afaef58a7",
        "colab": {
          "base_uri": "https://localhost:8080/"
        }
      },
      "execution_count": 66,
      "outputs": [
        {
          "output_type": "execute_result",
          "data": {
            "text/plain": [
              "[[231.90178571428572,\n",
              "  215.35714285714286,\n",
              "  184.02678571428572,\n",
              "  231.0,\n",
              "  214.5076923076923,\n",
              "  182.98461538461538]]"
            ]
          },
          "metadata": {},
          "execution_count": 66
        }
      ]
    },
    {
      "cell_type": "code",
      "source": [
        "list_total"
      ],
      "metadata": {
        "colab": {
          "base_uri": "https://localhost:8080/"
        },
        "id": "heoLvOwew3th",
        "outputId": "f0a1b9a3-d8c5-48e1-b37c-6c5e69a4cc4a"
      },
      "execution_count": 63,
      "outputs": [
        {
          "output_type": "execute_result",
          "data": {
            "text/plain": [
              "[([231.90178571428572, 215.35714285714286, 184.02678571428572],\n",
              "  [231.0, 214.5076923076923, 182.98461538461538])]"
            ]
          },
          "metadata": {},
          "execution_count": 63
        }
      ]
    },
    {
      "cell_type": "code",
      "source": [
        "S5meanrefA1_1.shape"
      ],
      "metadata": {
        "colab": {
          "base_uri": "https://localhost:8080/"
        },
        "id": "H6YrGEuLepC_",
        "outputId": "7d7add79-8ef0-458f-de0a-7f4db96b2158"
      },
      "execution_count": 54,
      "outputs": [
        {
          "output_type": "execute_result",
          "data": {
            "text/plain": [
              "(112, 3)"
            ]
          },
          "metadata": {},
          "execution_count": 54
        }
      ]
    },
    {
      "cell_type": "code",
      "source": [
        "G1[0]"
      ],
      "metadata": {
        "id": "gNbVE42L2XCo",
        "outputId": "ba246e9a-2813-49f3-e976-12f04f141519",
        "colab": {
          "base_uri": "https://localhost:8080/"
        }
      },
      "execution_count": 10,
      "outputs": [
        {
          "output_type": "execute_result",
          "data": {
            "text/plain": [
              "array([[225, 206, 176],\n",
              "       [226, 207, 177],\n",
              "       [225, 206, 176],\n",
              "       ...,\n",
              "       [ 57,  55,  58],\n",
              "       [ 62,  60,  63],\n",
              "       [ 63,  61,  64]], dtype=uint8)"
            ]
          },
          "metadata": {},
          "execution_count": 10
        }
      ]
    },
    {
      "cell_type": "code",
      "source": [
        "# list_total = list()\n",
        "# S5_double = img\n",
        "# full_path_to_file2 = os.path.join(S5_double) \n",
        "# blob_service_client.get_blob_to_path('shadeimg', full_path_to_file2, full_path_to_file2)\n",
        "# imagee = cv2.imread(S5_double)\n",
        "# S5RGB_imgA1A1_1 = cv2.cvtColor(imagee, cv2.COLOR_BGR2RGB)\n",
        "# S5meanrefA1_1 = list()\n",
        "# for i in range(S5RGB_imgA1A1_1.shape[0]): \n",
        "#     for j in range(S5RGB_imgA1A1_1.shape[1]): \n",
        "#           if 1769<i<1881 and 2019<j<2131 :\n",
        "#              new_img = S5RGB_imgA1A1_1[i][j]\n",
        "#           if 1770<i<1880 and 2015<j<2145 :\n",
        "#              new_img = S5RGB_imgA1A1_1[i][j]\n",
        "# S5meanrefA1_1 = np.array(S5meanrefA1_1)\n",
        "# S5meanA1_2 = np.array(S5meanrefA1_1)\n",
        "# S5rgbrefA1_1 = list()\n",
        "# for i in range(3):\n",
        "#   S5rgbrefA1_1.append(S5meanrefA1_1[:,i].mean())\n",
        "#   S5rgbrefA1_1.append(S5meanA1_2[:,i].mean())\n",
        "# list_total.append(S5rgbrefA1_1)"
      ],
      "metadata": {
        "id": "qCeII4KG3QnZ"
      },
      "execution_count": null,
      "outputs": []
    },
    {
      "cell_type": "code",
      "source": [
        "new_img"
      ],
      "metadata": {
        "id": "2ZSD-Bdh3lXw",
        "outputId": "709f302a-0a43-4aba-b1d1-ab9c5293265e",
        "colab": {
          "base_uri": "https://localhost:8080/"
        }
      },
      "execution_count": null,
      "outputs": [
        {
          "output_type": "execute_result",
          "data": {
            "text/plain": [
              "array([225, 206, 176], dtype=uint8)"
            ]
          },
          "metadata": {},
          "execution_count": 63
        }
      ]
    },
    {
      "cell_type": "code",
      "source": [
        "S5RGB_imgA1A1_1.shape"
      ],
      "metadata": {
        "id": "e6DHph6x0hWu",
        "outputId": "3e05c291-c052-4026-e8c7-67c66ec976af",
        "colab": {
          "base_uri": "https://localhost:8080/"
        }
      },
      "execution_count": null,
      "outputs": [
        {
          "output_type": "execute_result",
          "data": {
            "text/plain": [
              "(3024, 4032, 3)"
            ]
          },
          "metadata": {},
          "execution_count": 58
        }
      ]
    },
    {
      "cell_type": "code",
      "source": [
        "# list_total = list()\n",
        "# S5_double = img\n",
        "# full_path_to_file2 = os.path.join(S5_double) \n",
        "# blob_service_client.get_blob_to_path('shadeimg', full_path_to_file2, full_path_to_file2)\n",
        "# imagee = cv2.imread(S5_double)\n",
        "# S5RGB_imgA1A1_1 = cv2.cvtColor(imagee, cv2.COLOR_BGR2RGB)\n",
        "# S5meanrefA1_1 = list()\n",
        "# for i in range(S5RGB_imgA1A1_1.shape[0]): \n",
        "#   for j in range(S5RGB_imgA1A1_1.shape[1]): \n",
        "#       if 1769<i<1881 and 2019<j<2131 :\n",
        "#           S5meanrefA1_1.append(S5RGB_imgA1A1_1[i][j]) \n",
        "#       if 1770<i<1880 and 2015<j<2145 :\n",
        "#           S5meanrefA1_1.append(S5RGB_imgA1A1_1[i][j])\n",
        "# S5meanrefA1_1 = np.array(S5meanrefA1_1)\n",
        "# S5meanA1_2 = np.array(S5meanrefA1_1)\n",
        "# S5rgbrefA1_1 = list()\n",
        "# for i in range(3):\n",
        "#   S5rgbrefA1_1.append(S5meanrefA1_1[:,i].mean())\n",
        "#   S5rgbrefA1_1.append(S5meanA1_2[:,i].mean())\n",
        "# list_total.append(S5rgbrefA1_1)"
      ],
      "metadata": {
        "id": "_QDx_6nVtmX5"
      },
      "execution_count": 55,
      "outputs": []
    },
    {
      "cell_type": "code",
      "source": [
        "S5meanrefA1_1.shape"
      ],
      "metadata": {
        "id": "ypOzRvY_ur7P",
        "outputId": "d0a750c2-4975-468b-b12d-901cef8f2c32",
        "colab": {
          "base_uri": "https://localhost:8080/"
        }
      },
      "execution_count": 56,
      "outputs": [
        {
          "output_type": "execute_result",
          "data": {
            "text/plain": [
              "(26382, 3)"
            ]
          },
          "metadata": {},
          "execution_count": 56
        }
      ]
    },
    {
      "cell_type": "code",
      "source": [
        "S5meanrefA1_1"
      ],
      "metadata": {
        "colab": {
          "base_uri": "https://localhost:8080/"
        },
        "id": "cyAy37Uxv0kH",
        "outputId": "602fec71-ac49-42cb-9814-4468d8137c59"
      },
      "execution_count": 57,
      "outputs": [
        {
          "output_type": "execute_result",
          "data": {
            "text/plain": [
              "array([[230, 214, 181],\n",
              "       [231, 215, 182],\n",
              "       [233, 217, 184],\n",
              "       ...,\n",
              "       [222, 203, 173],\n",
              "       [222, 203, 173],\n",
              "       [225, 206, 176]], dtype=uint8)"
            ]
          },
          "metadata": {},
          "execution_count": 57
        }
      ]
    }
  ]
}