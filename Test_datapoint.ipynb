{
  "nbformat": 4,
  "nbformat_minor": 0,
  "metadata": {
    "colab": {
      "name": "Test_datapoint.ipynb",
      "provenance": [],
      "include_colab_link": true
    },
    "kernelspec": {
      "name": "python3",
      "display_name": "Python 3"
    },
    "language_info": {
      "name": "python"
    }
  },
  "cells": [
    {
      "cell_type": "markdown",
      "metadata": {
        "id": "view-in-github",
        "colab_type": "text"
      },
      "source": [
        "<a href=\"https://colab.research.google.com/github/Kggzzz/Project_2021_matchingcolor/blob/main/Test_datapoint.ipynb\" target=\"_parent\"><img src=\"https://colab.research.google.com/assets/colab-badge.svg\" alt=\"Open In Colab\"/></a>"
      ]
    },
    {
      "cell_type": "code",
      "source": [
        "import pandas as pd\n",
        "import cv2\n",
        "import numpy as np"
      ],
      "metadata": {
        "id": "ZzrNkhwY45v0"
      },
      "execution_count": 1,
      "outputs": []
    },
    {
      "cell_type": "code",
      "source": [
        "!pip install azure-storage-blob==2.1.0"
      ],
      "metadata": {
        "colab": {
          "base_uri": "https://localhost:8080/"
        },
        "id": "8YnSEfox47yC",
        "outputId": "758a2ff0-fc36-43ef-e13f-6dcf975a5346"
      },
      "execution_count": 2,
      "outputs": [
        {
          "output_type": "stream",
          "name": "stdout",
          "text": [
            "Collecting azure-storage-blob==2.1.0\n",
            "  Downloading azure_storage_blob-2.1.0-py2.py3-none-any.whl (88 kB)\n",
            "\u001b[?25l\r\u001b[K     |███▊                            | 10 kB 19.1 MB/s eta 0:00:01\r\u001b[K     |███████▍                        | 20 kB 25.3 MB/s eta 0:00:01\r\u001b[K     |███████████▏                    | 30 kB 15.4 MB/s eta 0:00:01\r\u001b[K     |██████████████▉                 | 40 kB 6.3 MB/s eta 0:00:01\r\u001b[K     |██████████████████▋             | 51 kB 6.0 MB/s eta 0:00:01\r\u001b[K     |██████████████████████▎         | 61 kB 7.0 MB/s eta 0:00:01\r\u001b[K     |██████████████████████████      | 71 kB 7.6 MB/s eta 0:00:01\r\u001b[K     |█████████████████████████████▊  | 81 kB 7.1 MB/s eta 0:00:01\r\u001b[K     |████████████████████████████████| 88 kB 3.8 MB/s \n",
            "\u001b[?25hCollecting azure-storage-common~=2.1\n",
            "  Downloading azure_storage_common-2.1.0-py2.py3-none-any.whl (47 kB)\n",
            "\u001b[K     |████████████████████████████████| 47 kB 4.8 MB/s \n",
            "\u001b[?25hCollecting azure-common>=1.1.5\n",
            "  Downloading azure_common-1.1.28-py2.py3-none-any.whl (14 kB)\n",
            "Requirement already satisfied: python-dateutil in /usr/local/lib/python3.7/dist-packages (from azure-storage-common~=2.1->azure-storage-blob==2.1.0) (2.8.2)\n",
            "Collecting cryptography\n",
            "  Downloading cryptography-36.0.1-cp36-abi3-manylinux_2_24_x86_64.whl (3.6 MB)\n",
            "\u001b[K     |████████████████████████████████| 3.6 MB 64.8 MB/s \n",
            "\u001b[?25hRequirement already satisfied: requests in /usr/local/lib/python3.7/dist-packages (from azure-storage-common~=2.1->azure-storage-blob==2.1.0) (2.23.0)\n",
            "Requirement already satisfied: cffi>=1.12 in /usr/local/lib/python3.7/dist-packages (from cryptography->azure-storage-common~=2.1->azure-storage-blob==2.1.0) (1.15.0)\n",
            "Requirement already satisfied: pycparser in /usr/local/lib/python3.7/dist-packages (from cffi>=1.12->cryptography->azure-storage-common~=2.1->azure-storage-blob==2.1.0) (2.21)\n",
            "Requirement already satisfied: six>=1.5 in /usr/local/lib/python3.7/dist-packages (from python-dateutil->azure-storage-common~=2.1->azure-storage-blob==2.1.0) (1.15.0)\n",
            "Requirement already satisfied: certifi>=2017.4.17 in /usr/local/lib/python3.7/dist-packages (from requests->azure-storage-common~=2.1->azure-storage-blob==2.1.0) (2021.10.8)\n",
            "Requirement already satisfied: chardet<4,>=3.0.2 in /usr/local/lib/python3.7/dist-packages (from requests->azure-storage-common~=2.1->azure-storage-blob==2.1.0) (3.0.4)\n",
            "Requirement already satisfied: idna<3,>=2.5 in /usr/local/lib/python3.7/dist-packages (from requests->azure-storage-common~=2.1->azure-storage-blob==2.1.0) (2.10)\n",
            "Requirement already satisfied: urllib3!=1.25.0,!=1.25.1,<1.26,>=1.21.1 in /usr/local/lib/python3.7/dist-packages (from requests->azure-storage-common~=2.1->azure-storage-blob==2.1.0) (1.24.3)\n",
            "Installing collected packages: cryptography, azure-common, azure-storage-common, azure-storage-blob\n",
            "Successfully installed azure-common-1.1.28 azure-storage-blob-2.1.0 azure-storage-common-2.1.0 cryptography-36.0.1\n"
          ]
        }
      ]
    },
    {
      "cell_type": "code",
      "source": [
        "from azure.storage.blob import BlockBlobService\n",
        "import os\n",
        "blob_service_client = BlockBlobService(account_name='dent01', account_key='CuShY0B4TZJ84TjzPpaHxyrHOpO73aGXeCpdVq7x26OjIlQ1HOz+3DVc9pDEj9BdcEL8odFuTRF0mOAE+aCgiw==')"
      ],
      "metadata": {
        "id": "p0RIz2m442LO"
      },
      "execution_count": 3,
      "outputs": []
    },
    {
      "cell_type": "code",
      "source": [
        "img = '342AE035-E0F5-4DEF-988E-27F570C725B2.png'"
      ],
      "metadata": {
        "id": "U_SB9sl45T0U"
      },
      "execution_count": 82,
      "outputs": []
    },
    {
      "cell_type": "code",
      "execution_count": null,
      "metadata": {
        "id": "_1d5iMac4akp"
      },
      "outputs": [],
      "source": [
        "list_total1 = list()\n",
        "list_total2 = list()\n",
        "list_total3 = list()\n",
        "S5_double = img\n",
        "full_path_to_file2 = os.path.join(S5_double) \n",
        "blob_service_client.get_blob_to_path('shadeimg', full_path_to_file2, full_path_to_file2)\n",
        "imagee = cv2.imread(S5_double)\n",
        "S5RGB_imgA1A1_1 = cv2.cvtColor(imagee, cv2.COLOR_BGR2RGB)\n",
        "S5meanrefA1_1 =  S5RGB_imgA1A1_1[1769:1881,2019:2131] #ลองดูพิกัดใหม่\n",
        "S5meanA1_2 = S5RGB_imgA1A1_1[1770:1880,2015:2145]\n",
        "S5meanrefA1_1 = np.array(S5meanrefA1_1[0])\n",
        "S5meanA1_2 = np.array(S5meanA1_2[0])\n",
        "S5rgbrefA1_1 = list()\n",
        "S5rgbA1_2 = list()\n",
        "for i in range(3):\n",
        "  S5rgbrefA1_1.append(S5meanrefA1_1[:,i].mean())\n",
        "  S5rgbA1_2.append(S5meanA1_2[:,i].mean())\n",
        "list_total1.append(S5rgbrefA1_1)\n",
        "list_total2.append(S5rgbA1_2)\n",
        "list_total1[0].extend(list_total2[0])\n",
        "list_total3 = list_total1 "
      ]
    },
    {
      "cell_type": "code",
      "source": [
        "list_total3"
      ],
      "metadata": {
        "id": "d0lbPIMEIkbL",
        "outputId": "339f0d16-9a86-4177-d5ad-14328ebadeab",
        "colab": {
          "base_uri": "https://localhost:8080/"
        }
      },
      "execution_count": null,
      "outputs": [
        {
          "output_type": "execute_result",
          "data": {
            "text/plain": [
              "[[231.90178571428572,\n",
              "  215.35714285714286,\n",
              "  184.02678571428572,\n",
              "  231.0,\n",
              "  214.5076923076923,\n",
              "  182.98461538461538]]"
            ]
          },
          "metadata": {},
          "execution_count": 86
        }
      ]
    },
    {
      "cell_type": "code",
      "source": [
        "S5rgbrefA1_1"
      ],
      "metadata": {
        "colab": {
          "base_uri": "https://localhost:8080/"
        },
        "id": "r4xql7_vxRj9",
        "outputId": "1b026ff2-0612-4927-a144-70be771f05a9"
      },
      "execution_count": null,
      "outputs": [
        {
          "output_type": "execute_result",
          "data": {
            "text/plain": [
              "[231.90178571428572, 215.35714285714286, 184.02678571428572]"
            ]
          },
          "metadata": {},
          "execution_count": 61
        }
      ]
    },
    {
      "cell_type": "code",
      "source": [
        "list_total3"
      ],
      "metadata": {
        "id": "3q2xefCE1eBu",
        "outputId": "50b5e012-8eaa-46ba-cd8d-a10afaef58a7",
        "colab": {
          "base_uri": "https://localhost:8080/"
        }
      },
      "execution_count": null,
      "outputs": [
        {
          "output_type": "execute_result",
          "data": {
            "text/plain": [
              "[[231.90178571428572,\n",
              "  215.35714285714286,\n",
              "  184.02678571428572,\n",
              "  231.0,\n",
              "  214.5076923076923,\n",
              "  182.98461538461538]]"
            ]
          },
          "metadata": {},
          "execution_count": 66
        }
      ]
    },
    {
      "cell_type": "code",
      "source": [
        "list_total"
      ],
      "metadata": {
        "colab": {
          "base_uri": "https://localhost:8080/"
        },
        "id": "heoLvOwew3th",
        "outputId": "f0a1b9a3-d8c5-48e1-b37c-6c5e69a4cc4a"
      },
      "execution_count": null,
      "outputs": [
        {
          "output_type": "execute_result",
          "data": {
            "text/plain": [
              "[([231.90178571428572, 215.35714285714286, 184.02678571428572],\n",
              "  [231.0, 214.5076923076923, 182.98461538461538])]"
            ]
          },
          "metadata": {},
          "execution_count": 63
        }
      ]
    },
    {
      "cell_type": "code",
      "source": [
        "S5meanrefA1_1.shape"
      ],
      "metadata": {
        "colab": {
          "base_uri": "https://localhost:8080/"
        },
        "id": "H6YrGEuLepC_",
        "outputId": "7d7add79-8ef0-458f-de0a-7f4db96b2158"
      },
      "execution_count": null,
      "outputs": [
        {
          "output_type": "execute_result",
          "data": {
            "text/plain": [
              "(112, 3)"
            ]
          },
          "metadata": {},
          "execution_count": 54
        }
      ]
    },
    {
      "cell_type": "code",
      "source": [
        "G1[0]"
      ],
      "metadata": {
        "id": "gNbVE42L2XCo",
        "outputId": "ba246e9a-2813-49f3-e976-12f04f141519",
        "colab": {
          "base_uri": "https://localhost:8080/"
        }
      },
      "execution_count": null,
      "outputs": [
        {
          "output_type": "execute_result",
          "data": {
            "text/plain": [
              "array([[225, 206, 176],\n",
              "       [226, 207, 177],\n",
              "       [225, 206, 176],\n",
              "       ...,\n",
              "       [ 57,  55,  58],\n",
              "       [ 62,  60,  63],\n",
              "       [ 63,  61,  64]], dtype=uint8)"
            ]
          },
          "metadata": {},
          "execution_count": 10
        }
      ]
    },
    {
      "cell_type": "code",
      "source": [
        "# list_total = list()\n",
        "# S5_double = img\n",
        "# full_path_to_file2 = os.path.join(S5_double) \n",
        "# blob_service_client.get_blob_to_path('shadeimg', full_path_to_file2, full_path_to_file2)\n",
        "# imagee = cv2.imread(S5_double)\n",
        "# S5RGB_imgA1A1_1 = cv2.cvtColor(imagee, cv2.COLOR_BGR2RGB)\n",
        "# S5meanrefA1_1 = list()\n",
        "# for i in range(S5RGB_imgA1A1_1.shape[0]): \n",
        "#     for j in range(S5RGB_imgA1A1_1.shape[1]): \n",
        "#           if 1769<i<1881 and 2019<j<2131 :\n",
        "#              new_img = S5RGB_imgA1A1_1[i][j]\n",
        "#           if 1770<i<1880 and 2015<j<2145 :\n",
        "#              new_img = S5RGB_imgA1A1_1[i][j]\n",
        "# S5meanrefA1_1 = np.array(S5meanrefA1_1)\n",
        "# S5meanA1_2 = np.array(S5meanrefA1_1)\n",
        "# S5rgbrefA1_1 = list()\n",
        "# for i in range(3):\n",
        "#   S5rgbrefA1_1.append(S5meanrefA1_1[:,i].mean())\n",
        "#   S5rgbrefA1_1.append(S5meanA1_2[:,i].mean())\n",
        "# list_total.append(S5rgbrefA1_1)"
      ],
      "metadata": {
        "id": "qCeII4KG3QnZ"
      },
      "execution_count": null,
      "outputs": []
    },
    {
      "cell_type": "code",
      "source": [
        "new_img"
      ],
      "metadata": {
        "id": "2ZSD-Bdh3lXw",
        "outputId": "709f302a-0a43-4aba-b1d1-ab9c5293265e",
        "colab": {
          "base_uri": "https://localhost:8080/"
        }
      },
      "execution_count": null,
      "outputs": [
        {
          "output_type": "execute_result",
          "data": {
            "text/plain": [
              "array([225, 206, 176], dtype=uint8)"
            ]
          },
          "metadata": {},
          "execution_count": 63
        }
      ]
    },
    {
      "cell_type": "code",
      "source": [
        "S5RGB_imgA1A1_1.shape"
      ],
      "metadata": {
        "id": "e6DHph6x0hWu",
        "outputId": "3e05c291-c052-4026-e8c7-67c66ec976af",
        "colab": {
          "base_uri": "https://localhost:8080/"
        }
      },
      "execution_count": null,
      "outputs": [
        {
          "output_type": "execute_result",
          "data": {
            "text/plain": [
              "(3024, 4032, 3)"
            ]
          },
          "metadata": {},
          "execution_count": 58
        }
      ]
    },
    {
      "cell_type": "code",
      "source": [
        "# list_total = list()\n",
        "# S5_double = img\n",
        "# full_path_to_file2 = os.path.join(S5_double) \n",
        "# blob_service_client.get_blob_to_path('shadeimg', full_path_to_file2, full_path_to_file2)\n",
        "# imagee = cv2.imread(S5_double)\n",
        "# S5RGB_imgA1A1_1 = cv2.cvtColor(imagee, cv2.COLOR_BGR2RGB)\n",
        "# S5meanrefA1_1 = list()\n",
        "# for i in range(S5RGB_imgA1A1_1.shape[0]): \n",
        "#   for j in range(S5RGB_imgA1A1_1.shape[1]): \n",
        "#       if 1769<i<1881 and 2019<j<2131 :\n",
        "#           S5meanrefA1_1.append(S5RGB_imgA1A1_1[i][j]) \n",
        "#       if 1770<i<1880 and 2015<j<2145 :\n",
        "#           S5meanrefA1_1.append(S5RGB_imgA1A1_1[i][j])\n",
        "# S5meanrefA1_1 = np.array(S5meanrefA1_1)\n",
        "# S5meanA1_2 = np.array(S5meanrefA1_1)\n",
        "# S5rgbrefA1_1 = list()\n",
        "# for i in range(3):\n",
        "#   S5rgbrefA1_1.append(S5meanrefA1_1[:,i].mean())\n",
        "#   S5rgbrefA1_1.append(S5meanA1_2[:,i].mean())\n",
        "# list_total.append(S5rgbrefA1_1)"
      ],
      "metadata": {
        "id": "_QDx_6nVtmX5"
      },
      "execution_count": null,
      "outputs": []
    },
    {
      "cell_type": "code",
      "source": [
        "S5meanrefA1_1"
      ],
      "metadata": {
        "colab": {
          "base_uri": "https://localhost:8080/"
        },
        "id": "cyAy37Uxv0kH",
        "outputId": "08a42b6a-9332-48f6-e7c7-6c6d4dd6d0ba"
      },
      "execution_count": null,
      "outputs": [
        {
          "output_type": "execute_result",
          "data": {
            "text/plain": [
              "array([[230, 214, 181],\n",
              "       [231, 215, 182],\n",
              "       [233, 217, 184],\n",
              "       ...,\n",
              "       [222, 203, 173],\n",
              "       [222, 203, 173],\n",
              "       [225, 206, 176]], dtype=uint8)"
            ]
          },
          "metadata": {},
          "execution_count": 77
        }
      ]
    },
    {
      "cell_type": "code",
      "source": [
        "S5meanrefA1_1.shape"
      ],
      "metadata": {
        "id": "ypOzRvY_ur7P",
        "outputId": "d0a750c2-4975-468b-b12d-901cef8f2c32",
        "colab": {
          "base_uri": "https://localhost:8080/"
        }
      },
      "execution_count": null,
      "outputs": [
        {
          "output_type": "execute_result",
          "data": {
            "text/plain": [
              "(26382, 3)"
            ]
          },
          "metadata": {},
          "execution_count": 56
        }
      ]
    },
    {
      "cell_type": "code",
      "source": [
        "list_total12 = list()\n",
        "list_total22 = list()\n",
        "S5_double2 = img\n",
        "image2  = cv2.imread(S5_double2) #RGB\n",
        "S1RGB_imgA1A1_12= cv2.cvtColor(image2, cv2.COLOR_BGR2RGB)\n",
        "S1meanrefA1_12 = list()\n",
        "for i in range(S1RGB_imgA1A1_12.shape[0]): \n",
        "  for j in range(S1RGB_imgA1A1_12.shape[1]): \n",
        "        if 1769<i<1881 and 2019<j<2131 :\n",
        "          S1meanrefA1_12.append(S1RGB_imgA1A1_12[i][j]) \n",
        "S1meanrefA1_12 = np.array(S1meanrefA1_12)\n",
        "S1rgbrefA1_12 = list()\n",
        "for i in range(3):\n",
        "   S1rgbrefA1_12.append(S1meanrefA1_12[:,i].mean())\n",
        "list_total12.append(S1rgbrefA1_12)\n",
        "\n",
        "S1meanA1_22 = list()\n",
        "for i in range(S1RGB_imgA1A1_12.shape[0]): \n",
        "  for j in range(S1RGB_imgA1A1_12.shape[1]): \n",
        "      if 1770<i<1880 and 2015<j<2145 :\n",
        "        S1meanA1_22.append(S1RGB_imgA1A1_12[i][j])  \n",
        "S1meanA1_22 = np.array(S1meanA1_22)\n",
        "# S1rgbA1_2 = list()\n",
        "# for i in range(3):\n",
        "#   S1rgbA1_2.append(S1meanA1_2[:,i].mean())\n",
        "# list_total2.append(S1rgbA1_2)\n",
        "# list_total1[0].extend(list_total2[0])\n",
        "# list_total3 = list_total1"
      ],
      "metadata": {
        "id": "DnF5o0dEHVWp"
      },
      "execution_count": null,
      "outputs": []
    },
    {
      "cell_type": "code",
      "source": [
        "list_total3 "
      ],
      "metadata": {
        "id": "n_N9l9-mIXJ3",
        "outputId": "314fe042-7f08-45fa-951f-4c1bec875079",
        "colab": {
          "base_uri": "https://localhost:8080/"
        }
      },
      "execution_count": null,
      "outputs": [
        {
          "output_type": "execute_result",
          "data": {
            "text/plain": [
              "[[227.33065497930363,\n",
              "  209.00048697345994,\n",
              "  176.54403051700348,\n",
              "  227.05412132849727,\n",
              "  208.74084346774768,\n",
              "  176.32529692056042]]"
            ]
          },
          "metadata": {},
          "execution_count": 83
        }
      ]
    },
    {
      "cell_type": "code",
      "source": [
        "S1meanrefA1_12"
      ],
      "metadata": {
        "id": "ZQTL6_leH1sF",
        "outputId": "de0d7f26-5561-4e4a-88ab-a1ba0cfa34d1",
        "colab": {
          "base_uri": "https://localhost:8080/"
        }
      },
      "execution_count": null,
      "outputs": [
        {
          "output_type": "execute_result",
          "data": {
            "text/plain": [
              "array([[230, 214, 181],\n",
              "       [231, 215, 182],\n",
              "       [233, 217, 184],\n",
              "       ...,\n",
              "       [222, 203, 173],\n",
              "       [222, 203, 173],\n",
              "       [225, 206, 176]], dtype=uint8)"
            ]
          },
          "metadata": {},
          "execution_count": 24
        }
      ]
    },
    {
      "cell_type": "code",
      "source": [
        "S1meanrefA1_12.shape"
      ],
      "metadata": {
        "colab": {
          "base_uri": "https://localhost:8080/"
        },
        "id": "C-tMDWWMmhIL",
        "outputId": "df32ba3f-fe79-4238-ecd9-870e867c9e89"
      },
      "execution_count": null,
      "outputs": [
        {
          "output_type": "execute_result",
          "data": {
            "text/plain": [
              "(12321, 3)"
            ]
          },
          "metadata": {},
          "execution_count": 22
        }
      ]
    },
    {
      "cell_type": "code",
      "source": [
        "# list_total1 = list()\n",
        "# for img in A1_set11['Img']:\n",
        "#   S1_double = img\n",
        "#   full_path_to_file2 = os.path.join(S1_double) \n",
        "#   blob_service_client.get_blob_to_path('shadeimg', full_path_to_file2, full_path_to_file2)\n",
        "#   imgS1_A1A1_1  = cv2.imread(S1_double) #RGB\n",
        "#   S1RGB_imgA1A1_1= cv2.cvtColor(imgS1_A1A1_1, cv2.COLOR_BGR2RGB)\n",
        "#   S1meanrefA1_1 = list()\n",
        "#   S1meanrefA1_2 = list()\n",
        "#   for i in range(S1RGB_imgA1A1_1.shape[0]): \n",
        "#      for j in range(S1RGB_imgA1A1_1.shape[1]): \n",
        "#                 if 1769<i<1881 and 2019<j<2131 :\n",
        "#                   S1meanrefA1_1.append(S1RGB_imgA1A1_1[i][j]) \n",
        "#                 if 1770<i<1880 and 2015<j<2145 :\n",
        "#                   S1meanrefA1_2.append(S1RGB_imgA1A1_1[i][j])\n",
        "#   S1meanrefA1_1 = np.array(S1meanrefA1_1)\n",
        "#   S1meanrefA1_2 = np.array(S1meanrefA1_2)\n",
        "#   S1rgbrefA1_1 = list()\n",
        "#   S1rgbrefA1_2 = list()\n",
        "#   for i in range(3):\n",
        "#     S1rgbrefA1_1.append(S1meanrefA1_1[:,i].mean())\n",
        "#     S1rgbrefA1_2.append(S1meanrefA1_2[:,i].mean())\n",
        "#   list_total1.append((S1rgbrefA1_1,S1rgbrefA1_2))"
      ],
      "metadata": {
        "id": "7Mc4QuaXJFF4"
      },
      "execution_count": null,
      "outputs": []
    },
    {
      "cell_type": "code",
      "source": [
        "S5_double = img\n",
        "full_path_to_file2 = os.path.join(S5_double) \n",
        "blob_service_client.get_blob_to_path('shadeimg', full_path_to_file2, full_path_to_file2)\n",
        "imagee = cv2.imread(S5_double)\n",
        "S5RGB_imgA1A1_1 = cv2.cvtColor(imagee, cv2.COLOR_BGR2RGB)\n",
        "\n",
        "S5meanrefA1_1 =  S5RGB_imgA1A1_1[1769:1881,2019:2131]\n",
        "S5meanA1_2 = S5RGB_imgA1A1_1[1770:1880,2015:2145]\n",
        "S5refA1_1 = np.array(S5meanrefA1_1[0])\n",
        "S5refA1_2 = np.array(S5meanA1_2[0])\n",
        "Rref = S5refA1_1[:,0].mean()\n",
        "Gref = S5refA1_1[:,1].mean()\n",
        "Bref = S5refA1_1[:,2].mean()\n",
        "R = S5refA1_2[:,0].mean()\n",
        "G = S5refA1_2[:,1].mean()\n",
        "B = S5refA1_2[:,2].mean()\n",
        "\n",
        "list_total = list()\n",
        "list_total.append(Rref)\n",
        "list_total.append(Gref)\n",
        "list_total.append(Bref)\n",
        "list_total.append(R)\n",
        "list_total.append(G)\n",
        "list_total.append(B)"
      ],
      "metadata": {
        "id": "ifpqsa9QnQZG"
      },
      "execution_count": 92,
      "outputs": []
    },
    {
      "cell_type": "code",
      "source": [
        "print(\"Rref:\", Rref)\n",
        "print(\"Gref:\", Gref)\n",
        "print(\"Bref:\", Bref)\n",
        "print(\"R:\", R)\n",
        "print(\"G:\", G)\n",
        "print(\"B:\", B)"
      ],
      "metadata": {
        "id": "oDd6BBniGhJl",
        "outputId": "475169f1-c491-4017-e404-7ae71932001f",
        "colab": {
          "base_uri": "https://localhost:8080/"
        }
      },
      "execution_count": 93,
      "outputs": [
        {
          "output_type": "stream",
          "name": "stdout",
          "text": [
            "Rref: 231.90178571428572\n",
            "Gref: 215.35714285714286\n",
            "Bref: 184.02678571428572\n",
            "R: 231.0\n",
            "G: 214.5076923076923\n",
            "B: 182.98461538461538\n"
          ]
        }
      ]
    },
    {
      "cell_type": "code",
      "source": [
        "S5refA1_1.shape"
      ],
      "metadata": {
        "colab": {
          "base_uri": "https://localhost:8080/"
        },
        "id": "hC5wWFk2mq8u",
        "outputId": "c7d72fe5-5525-4a96-d98b-86cfc7015449"
      },
      "execution_count": 84,
      "outputs": [
        {
          "output_type": "execute_result",
          "data": {
            "text/plain": [
              "(112, 3)"
            ]
          },
          "metadata": {},
          "execution_count": 84
        }
      ]
    },
    {
      "cell_type": "code",
      "source": [
        "S5meanrefA1_1.shape"
      ],
      "metadata": {
        "id": "DvRzuzfWF_zo",
        "outputId": "1764ecbd-8782-4c59-afe5-5c2539d2a246",
        "colab": {
          "base_uri": "https://localhost:8080/"
        }
      },
      "execution_count": 86,
      "outputs": [
        {
          "output_type": "execute_result",
          "data": {
            "text/plain": [
              "(112, 112, 3)"
            ]
          },
          "metadata": {},
          "execution_count": 86
        }
      ]
    },
    {
      "cell_type": "code",
      "source": [
        "# list_total"
      ],
      "metadata": {
        "id": "iZvtHKb1ne_q",
        "outputId": "640401fe-86b7-484c-edcd-97fc95d8dfe5",
        "colab": {
          "base_uri": "https://localhost:8080/"
        }
      },
      "execution_count": null,
      "outputs": [
        {
          "output_type": "execute_result",
          "data": {
            "text/plain": [
              "[231.90178571428572,\n",
              " 215.35714285714286,\n",
              " 184.02678571428572,\n",
              " 231.0,\n",
              " 214.5076923076923,\n",
              " 182.98461538461538]"
            ]
          },
          "metadata": {},
          "execution_count": 12
        }
      ]
    },
    {
      "cell_type": "code",
      "source": [
        "# list_total2 = list()\n",
        "# list_total2.append(list_total)"
      ],
      "metadata": {
        "id": "cPjDKCmipAd5"
      },
      "execution_count": null,
      "outputs": []
    },
    {
      "cell_type": "code",
      "source": [
        "# list_total2"
      ],
      "metadata": {
        "id": "lnJlMQL2pJbE",
        "outputId": "9f97a275-1098-4c91-e7d4-cf6c1367f965",
        "colab": {
          "base_uri": "https://localhost:8080/"
        }
      },
      "execution_count": null,
      "outputs": [
        {
          "output_type": "execute_result",
          "data": {
            "text/plain": [
              "[[231.90178571428572,\n",
              "  215.35714285714286,\n",
              "  184.02678571428572,\n",
              "  231.0,\n",
              "  214.5076923076923,\n",
              "  182.98461538461538]]"
            ]
          },
          "metadata": {},
          "execution_count": 14
        }
      ]
    },
    {
      "cell_type": "markdown",
      "source": [
        "#ตาราง"
      ],
      "metadata": {
        "id": "JSGb8bgm0iOP"
      }
    },
    {
      "cell_type": "code",
      "source": [
        "from google.colab import drive \n",
        "drive.mount('/content/drive')"
      ],
      "metadata": {
        "id": "XIbdjlFY0kBj",
        "colab": {
          "base_uri": "https://localhost:8080/"
        },
        "outputId": "337e3ad3-ee20-442d-ffcc-e81d56be4dd4"
      },
      "execution_count": 4,
      "outputs": [
        {
          "output_type": "stream",
          "name": "stdout",
          "text": [
            "Mounted at /content/drive\n"
          ]
        }
      ]
    },
    {
      "cell_type": "code",
      "source": [
        "path = '/content/drive/My Drive/shadeimg/SVM shade'"
      ],
      "metadata": {
        "id": "S4SzkHEB0lGz"
      },
      "execution_count": 5,
      "outputs": []
    },
    {
      "cell_type": "code",
      "source": [
        "import os"
      ],
      "metadata": {
        "id": "6q6RJb8L0l9Y"
      },
      "execution_count": 6,
      "outputs": []
    },
    {
      "cell_type": "code",
      "source": [
        "os.listdir(path)"
      ],
      "metadata": {
        "id": "wOwinKld0m4l",
        "colab": {
          "base_uri": "https://localhost:8080/"
        },
        "outputId": "f0e5006d-ea65-43f6-bffd-cbf10b459ef2"
      },
      "execution_count": 7,
      "outputs": [
        {
          "output_type": "execute_result",
          "data": {
            "text/plain": [
              "['DD.xlsx',\n",
              " 'CC.xlsx',\n",
              " 'BB.xlsx',\n",
              " 'Shade_AA.xlsx',\n",
              " 'Shade_CC.xlsx',\n",
              " 'Shade_DD.xlsx',\n",
              " 'Shade_BB.xlsx',\n",
              " 'AA.xlsx',\n",
              " 'AA_2.xlsx',\n",
              " 'Shad_A.xlsx',\n",
              " 'Shad_B.xlsx',\n",
              " 'Shad_C.xlsx',\n",
              " 'Shad_D.xlsx',\n",
              " 'Setting4.xlsx',\n",
              " 'Color-checkerAA.xlsx',\n",
              " 'Color-checkerBB.xlsx',\n",
              " 'Color-checkerCC.xlsx',\n",
              " 'Setting2.xlsx',\n",
              " 'D3set51.csv',\n",
              " 'Setting1.xlsx',\n",
              " 'CheckerDD.xlsx',\n",
              " 'Setting3.xlsx',\n",
              " 'Setting6.xlsx',\n",
              " 'Setting5.xlsx',\n",
              " 'checkerShad_A .xlsx',\n",
              " 'checkerShad_B.xlsx',\n",
              " 'checkerShad_C.xlsx',\n",
              " 'D3Set5-61.xlsx',\n",
              " 'checkerShad_D.xlsx',\n",
              " 'Color-checkerDD.xlsx']"
            ]
          },
          "metadata": {},
          "execution_count": 7
        }
      ]
    },
    {
      "cell_type": "code",
      "source": [
        "AA = os.path.join(path,'Color-checkerDD.xlsx')"
      ],
      "metadata": {
        "id": "mQ_BLbZ90ete"
      },
      "execution_count": 55,
      "outputs": []
    },
    {
      "cell_type": "code",
      "source": [
        "A1_set1= pd.read_excel(AA, sheet_name='D3_1')\n",
        "A1_set1"
      ],
      "metadata": {
        "id": "3dWnvrjH0dak",
        "colab": {
          "base_uri": "https://localhost:8080/",
          "height": 423
        },
        "outputId": "1fdcf8fe-86b0-4f81-91c3-c548fdcc9da7"
      },
      "execution_count": 56,
      "outputs": [
        {
          "output_type": "execute_result",
          "data": {
            "text/html": [
              "\n",
              "  <div id=\"df-4567ee63-7daa-4108-9d49-349bb9f0f85f\">\n",
              "    <div class=\"colab-df-container\">\n",
              "      <div>\n",
              "<style scoped>\n",
              "    .dataframe tbody tr th:only-of-type {\n",
              "        vertical-align: middle;\n",
              "    }\n",
              "\n",
              "    .dataframe tbody tr th {\n",
              "        vertical-align: top;\n",
              "    }\n",
              "\n",
              "    .dataframe thead th {\n",
              "        text-align: right;\n",
              "    }\n",
              "</style>\n",
              "<table border=\"1\" class=\"dataframe\">\n",
              "  <thead>\n",
              "    <tr style=\"text-align: right;\">\n",
              "      <th></th>\n",
              "      <th>ชื่อไฟล์ข้อมูล</th>\n",
              "      <th>รหัสเฉดไกด์</th>\n",
              "      <th>Unnamed: 2</th>\n",
              "      <th>ชนิดกล้องถ่ายรูป</th>\n",
              "      <th>แสงที่ใช้</th>\n",
              "      <th>ฉากหลัง</th>\n",
              "      <th>หมายเหตุ</th>\n",
              "    </tr>\n",
              "  </thead>\n",
              "  <tbody>\n",
              "    <tr>\n",
              "      <th>0</th>\n",
              "      <td>NaN</td>\n",
              "      <td>ฝั่งซ้าย</td>\n",
              "      <td>ฝั่งขวา</td>\n",
              "      <td>NaN</td>\n",
              "      <td>NaN</td>\n",
              "      <td>NaN</td>\n",
              "      <td>NaN</td>\n",
              "    </tr>\n",
              "    <tr>\n",
              "      <th>1</th>\n",
              "      <td>6914F243-996E-49C6-B061-4B5873910254.png</td>\n",
              "      <td>ตารางสี</td>\n",
              "      <td>NaN</td>\n",
              "      <td>Iphone 11</td>\n",
              "      <td>ไฟ 4 ดวงในห้อง และไฟกลม</td>\n",
              "      <td>สีดำ</td>\n",
              "      <td>Duration 1/100 ISO 630</td>\n",
              "    </tr>\n",
              "    <tr>\n",
              "      <th>2</th>\n",
              "      <td>0F4CC07F-2FB9-430D-8A7D-256916A5E5AC.png</td>\n",
              "      <td>ตารางเทา</td>\n",
              "      <td>NaN</td>\n",
              "      <td>Iphone 11</td>\n",
              "      <td>ไฟ 4 ดวงในห้อง และไฟกลม</td>\n",
              "      <td>สีดำ</td>\n",
              "      <td>Duration 1/100 ISO 630</td>\n",
              "    </tr>\n",
              "    <tr>\n",
              "      <th>3</th>\n",
              "      <td>D31A6339-9324-4718-8F1D-F9C86FF1CAC1.png</td>\n",
              "      <td>D3</td>\n",
              "      <td>A1</td>\n",
              "      <td>Iphone 11</td>\n",
              "      <td>ไฟ 4 ดวงในห้อง และไฟกลม</td>\n",
              "      <td>สีดำ</td>\n",
              "      <td>Duration 1/100 ISO 630</td>\n",
              "    </tr>\n",
              "    <tr>\n",
              "      <th>4</th>\n",
              "      <td>3AD826D5-B618-4F47-BB57-2052C33EFAAE.png</td>\n",
              "      <td>D3</td>\n",
              "      <td>A1</td>\n",
              "      <td>Iphone 11</td>\n",
              "      <td>ไฟ 4 ดวงในห้อง และไฟกลม</td>\n",
              "      <td>สีดำ</td>\n",
              "      <td>Duration 1/100 ISO 630</td>\n",
              "    </tr>\n",
              "    <tr>\n",
              "      <th>...</th>\n",
              "      <td>...</td>\n",
              "      <td>...</td>\n",
              "      <td>...</td>\n",
              "      <td>...</td>\n",
              "      <td>...</td>\n",
              "      <td>...</td>\n",
              "      <td>...</td>\n",
              "    </tr>\n",
              "    <tr>\n",
              "      <th>160</th>\n",
              "      <td>4BA3C8CF-5469-4252-A5C9-D702506A49EB.png</td>\n",
              "      <td>D3</td>\n",
              "      <td>D4</td>\n",
              "      <td>Iphone 11</td>\n",
              "      <td>ไฟ 4 ดวงในห้อง และไฟกลม</td>\n",
              "      <td>สีดำ</td>\n",
              "      <td>Duration 1/100 ISO 630</td>\n",
              "    </tr>\n",
              "    <tr>\n",
              "      <th>161</th>\n",
              "      <td>FAAE3E0E-8887-4F38-B98A-BB9B3AC9DDE9.png</td>\n",
              "      <td>D3</td>\n",
              "      <td>D4</td>\n",
              "      <td>Iphone 11</td>\n",
              "      <td>ไฟ 4 ดวงในห้อง และไฟกลม</td>\n",
              "      <td>สีดำ</td>\n",
              "      <td>Duration 1/100 ISO 630</td>\n",
              "    </tr>\n",
              "    <tr>\n",
              "      <th>162</th>\n",
              "      <td>8D59BE41-F7B8-48AA-80D2-89C33B5C1139.png</td>\n",
              "      <td>D3</td>\n",
              "      <td>D4</td>\n",
              "      <td>Iphone 11</td>\n",
              "      <td>ไฟ 4 ดวงในห้อง และไฟกลม</td>\n",
              "      <td>สีดำ</td>\n",
              "      <td>Duration 1/100 ISO 630</td>\n",
              "    </tr>\n",
              "    <tr>\n",
              "      <th>163</th>\n",
              "      <td>1CFB9D44-9FE7-404B-AC34-F96C5CF881C8.png</td>\n",
              "      <td>ตารางสี</td>\n",
              "      <td>NaN</td>\n",
              "      <td>Iphone 11</td>\n",
              "      <td>ไฟ 4 ดวงในห้อง และไฟกลม</td>\n",
              "      <td>สีดำ</td>\n",
              "      <td>Duration 1/100 ISO 630</td>\n",
              "    </tr>\n",
              "    <tr>\n",
              "      <th>164</th>\n",
              "      <td>95F3176B-A2FF-4A86-A11C-65F69D4900DE.png</td>\n",
              "      <td>ตารางเทา</td>\n",
              "      <td>NaN</td>\n",
              "      <td>Iphone 11</td>\n",
              "      <td>ไฟ 4 ดวงในห้อง และไฟกลม</td>\n",
              "      <td>สีดำ</td>\n",
              "      <td>Duration 1/100 ISO 630</td>\n",
              "    </tr>\n",
              "  </tbody>\n",
              "</table>\n",
              "<p>165 rows × 7 columns</p>\n",
              "</div>\n",
              "      <button class=\"colab-df-convert\" onclick=\"convertToInteractive('df-4567ee63-7daa-4108-9d49-349bb9f0f85f')\"\n",
              "              title=\"Convert this dataframe to an interactive table.\"\n",
              "              style=\"display:none;\">\n",
              "        \n",
              "  <svg xmlns=\"http://www.w3.org/2000/svg\" height=\"24px\"viewBox=\"0 0 24 24\"\n",
              "       width=\"24px\">\n",
              "    <path d=\"M0 0h24v24H0V0z\" fill=\"none\"/>\n",
              "    <path d=\"M18.56 5.44l.94 2.06.94-2.06 2.06-.94-2.06-.94-.94-2.06-.94 2.06-2.06.94zm-11 1L8.5 8.5l.94-2.06 2.06-.94-2.06-.94L8.5 2.5l-.94 2.06-2.06.94zm10 10l.94 2.06.94-2.06 2.06-.94-2.06-.94-.94-2.06-.94 2.06-2.06.94z\"/><path d=\"M17.41 7.96l-1.37-1.37c-.4-.4-.92-.59-1.43-.59-.52 0-1.04.2-1.43.59L10.3 9.45l-7.72 7.72c-.78.78-.78 2.05 0 2.83L4 21.41c.39.39.9.59 1.41.59.51 0 1.02-.2 1.41-.59l7.78-7.78 2.81-2.81c.8-.78.8-2.07 0-2.86zM5.41 20L4 18.59l7.72-7.72 1.47 1.35L5.41 20z\"/>\n",
              "  </svg>\n",
              "      </button>\n",
              "      \n",
              "  <style>\n",
              "    .colab-df-container {\n",
              "      display:flex;\n",
              "      flex-wrap:wrap;\n",
              "      gap: 12px;\n",
              "    }\n",
              "\n",
              "    .colab-df-convert {\n",
              "      background-color: #E8F0FE;\n",
              "      border: none;\n",
              "      border-radius: 50%;\n",
              "      cursor: pointer;\n",
              "      display: none;\n",
              "      fill: #1967D2;\n",
              "      height: 32px;\n",
              "      padding: 0 0 0 0;\n",
              "      width: 32px;\n",
              "    }\n",
              "\n",
              "    .colab-df-convert:hover {\n",
              "      background-color: #E2EBFA;\n",
              "      box-shadow: 0px 1px 2px rgba(60, 64, 67, 0.3), 0px 1px 3px 1px rgba(60, 64, 67, 0.15);\n",
              "      fill: #174EA6;\n",
              "    }\n",
              "\n",
              "    [theme=dark] .colab-df-convert {\n",
              "      background-color: #3B4455;\n",
              "      fill: #D2E3FC;\n",
              "    }\n",
              "\n",
              "    [theme=dark] .colab-df-convert:hover {\n",
              "      background-color: #434B5C;\n",
              "      box-shadow: 0px 1px 3px 1px rgba(0, 0, 0, 0.15);\n",
              "      filter: drop-shadow(0px 1px 2px rgba(0, 0, 0, 0.3));\n",
              "      fill: #FFFFFF;\n",
              "    }\n",
              "  </style>\n",
              "\n",
              "      <script>\n",
              "        const buttonEl =\n",
              "          document.querySelector('#df-4567ee63-7daa-4108-9d49-349bb9f0f85f button.colab-df-convert');\n",
              "        buttonEl.style.display =\n",
              "          google.colab.kernel.accessAllowed ? 'block' : 'none';\n",
              "\n",
              "        async function convertToInteractive(key) {\n",
              "          const element = document.querySelector('#df-4567ee63-7daa-4108-9d49-349bb9f0f85f');\n",
              "          const dataTable =\n",
              "            await google.colab.kernel.invokeFunction('convertToInteractive',\n",
              "                                                     [key], {});\n",
              "          if (!dataTable) return;\n",
              "\n",
              "          const docLinkHtml = 'Like what you see? Visit the ' +\n",
              "            '<a target=\"_blank\" href=https://colab.research.google.com/notebooks/data_table.ipynb>data table notebook</a>'\n",
              "            + ' to learn more about interactive tables.';\n",
              "          element.innerHTML = '';\n",
              "          dataTable['output_type'] = 'display_data';\n",
              "          await google.colab.output.renderOutput(dataTable, element);\n",
              "          const docLink = document.createElement('div');\n",
              "          docLink.innerHTML = docLinkHtml;\n",
              "          element.appendChild(docLink);\n",
              "        }\n",
              "      </script>\n",
              "    </div>\n",
              "  </div>\n",
              "  "
            ],
            "text/plain": [
              "                               ชื่อไฟล์ข้อมูล  ...                หมายเหตุ\n",
              "0                                         NaN  ...                     NaN\n",
              "1    6914F243-996E-49C6-B061-4B5873910254.png  ...  Duration 1/100 ISO 630\n",
              "2    0F4CC07F-2FB9-430D-8A7D-256916A5E5AC.png  ...  Duration 1/100 ISO 630\n",
              "3    D31A6339-9324-4718-8F1D-F9C86FF1CAC1.png  ...  Duration 1/100 ISO 630\n",
              "4    3AD826D5-B618-4F47-BB57-2052C33EFAAE.png  ...  Duration 1/100 ISO 630\n",
              "..                                        ...  ...                     ...\n",
              "160  4BA3C8CF-5469-4252-A5C9-D702506A49EB.png  ...  Duration 1/100 ISO 630\n",
              "161  FAAE3E0E-8887-4F38-B98A-BB9B3AC9DDE9.png  ...  Duration 1/100 ISO 630\n",
              "162  8D59BE41-F7B8-48AA-80D2-89C33B5C1139.png  ...  Duration 1/100 ISO 630\n",
              "163  1CFB9D44-9FE7-404B-AC34-F96C5CF881C8.png  ...  Duration 1/100 ISO 630\n",
              "164  95F3176B-A2FF-4A86-A11C-65F69D4900DE.png  ...  Duration 1/100 ISO 630\n",
              "\n",
              "[165 rows x 7 columns]"
            ]
          },
          "metadata": {},
          "execution_count": 56
        }
      ]
    },
    {
      "cell_type": "code",
      "source": [
        "A1_set1.rename(columns={\"รหัสเฉดไกด์\": \"Ref\"},inplace=True)"
      ],
      "metadata": {
        "id": "RsqL8-Cz0cc6"
      },
      "execution_count": 57,
      "outputs": []
    },
    {
      "cell_type": "code",
      "source": [
        "A1_set1.rename(columns={\"Unnamed: 2\":\"Shad\"},inplace=True)"
      ],
      "metadata": {
        "id": "T9EfmQH70bVA"
      },
      "execution_count": 58,
      "outputs": []
    },
    {
      "cell_type": "code",
      "source": [
        "A1_set1.rename(columns={\"ชื่อไฟล์ข้อมูล\":\"Img\"},inplace=True)"
      ],
      "metadata": {
        "id": "Egu26jqg0aOk"
      },
      "execution_count": 59,
      "outputs": []
    },
    {
      "cell_type": "code",
      "source": [
        "A1_set1 = A1_set1.iloc[3:162,:]"
      ],
      "metadata": {
        "id": "7-Z3tSV80Y29"
      },
      "execution_count": 60,
      "outputs": []
    },
    {
      "cell_type": "code",
      "source": [
        "table1= A1_set1[['Ref', 'Shad','Img']]\n",
        "table1"
      ],
      "metadata": {
        "id": "k5PPUbUz0XLF",
        "colab": {
          "base_uri": "https://localhost:8080/",
          "height": 423
        },
        "outputId": "8c3d3ef2-055c-412c-d534-90e53d986ad5"
      },
      "execution_count": 61,
      "outputs": [
        {
          "output_type": "execute_result",
          "data": {
            "text/html": [
              "\n",
              "  <div id=\"df-975abbbe-6a7b-477d-bc83-9865971330f4\">\n",
              "    <div class=\"colab-df-container\">\n",
              "      <div>\n",
              "<style scoped>\n",
              "    .dataframe tbody tr th:only-of-type {\n",
              "        vertical-align: middle;\n",
              "    }\n",
              "\n",
              "    .dataframe tbody tr th {\n",
              "        vertical-align: top;\n",
              "    }\n",
              "\n",
              "    .dataframe thead th {\n",
              "        text-align: right;\n",
              "    }\n",
              "</style>\n",
              "<table border=\"1\" class=\"dataframe\">\n",
              "  <thead>\n",
              "    <tr style=\"text-align: right;\">\n",
              "      <th></th>\n",
              "      <th>Ref</th>\n",
              "      <th>Shad</th>\n",
              "      <th>Img</th>\n",
              "    </tr>\n",
              "  </thead>\n",
              "  <tbody>\n",
              "    <tr>\n",
              "      <th>3</th>\n",
              "      <td>D3</td>\n",
              "      <td>A1</td>\n",
              "      <td>D31A6339-9324-4718-8F1D-F9C86FF1CAC1.png</td>\n",
              "    </tr>\n",
              "    <tr>\n",
              "      <th>4</th>\n",
              "      <td>D3</td>\n",
              "      <td>A1</td>\n",
              "      <td>3AD826D5-B618-4F47-BB57-2052C33EFAAE.png</td>\n",
              "    </tr>\n",
              "    <tr>\n",
              "      <th>5</th>\n",
              "      <td>D3</td>\n",
              "      <td>A1</td>\n",
              "      <td>14BDB65A-A5B9-48B4-9F79-1C078570A88D.png</td>\n",
              "    </tr>\n",
              "    <tr>\n",
              "      <th>6</th>\n",
              "      <td>D3</td>\n",
              "      <td>A1</td>\n",
              "      <td>9131592F-9798-4457-ACD3-8109CCA36224.png</td>\n",
              "    </tr>\n",
              "    <tr>\n",
              "      <th>7</th>\n",
              "      <td>D3</td>\n",
              "      <td>A1</td>\n",
              "      <td>653769F4-F724-4660-A3EE-76C3101A90E5.png</td>\n",
              "    </tr>\n",
              "    <tr>\n",
              "      <th>...</th>\n",
              "      <td>...</td>\n",
              "      <td>...</td>\n",
              "      <td>...</td>\n",
              "    </tr>\n",
              "    <tr>\n",
              "      <th>157</th>\n",
              "      <td>D3</td>\n",
              "      <td>D4</td>\n",
              "      <td>6FDBB895-E3C9-419F-9B20-3FBB5B0A3A2B.png</td>\n",
              "    </tr>\n",
              "    <tr>\n",
              "      <th>158</th>\n",
              "      <td>D3</td>\n",
              "      <td>D4</td>\n",
              "      <td>2F892491-DF86-4A29-9407-01669B26879A.png</td>\n",
              "    </tr>\n",
              "    <tr>\n",
              "      <th>159</th>\n",
              "      <td>D3</td>\n",
              "      <td>D4</td>\n",
              "      <td>B9632EBA-E90D-4574-8ED0-6E880ECBAD76.png</td>\n",
              "    </tr>\n",
              "    <tr>\n",
              "      <th>160</th>\n",
              "      <td>D3</td>\n",
              "      <td>D4</td>\n",
              "      <td>4BA3C8CF-5469-4252-A5C9-D702506A49EB.png</td>\n",
              "    </tr>\n",
              "    <tr>\n",
              "      <th>161</th>\n",
              "      <td>D3</td>\n",
              "      <td>D4</td>\n",
              "      <td>FAAE3E0E-8887-4F38-B98A-BB9B3AC9DDE9.png</td>\n",
              "    </tr>\n",
              "  </tbody>\n",
              "</table>\n",
              "<p>159 rows × 3 columns</p>\n",
              "</div>\n",
              "      <button class=\"colab-df-convert\" onclick=\"convertToInteractive('df-975abbbe-6a7b-477d-bc83-9865971330f4')\"\n",
              "              title=\"Convert this dataframe to an interactive table.\"\n",
              "              style=\"display:none;\">\n",
              "        \n",
              "  <svg xmlns=\"http://www.w3.org/2000/svg\" height=\"24px\"viewBox=\"0 0 24 24\"\n",
              "       width=\"24px\">\n",
              "    <path d=\"M0 0h24v24H0V0z\" fill=\"none\"/>\n",
              "    <path d=\"M18.56 5.44l.94 2.06.94-2.06 2.06-.94-2.06-.94-.94-2.06-.94 2.06-2.06.94zm-11 1L8.5 8.5l.94-2.06 2.06-.94-2.06-.94L8.5 2.5l-.94 2.06-2.06.94zm10 10l.94 2.06.94-2.06 2.06-.94-2.06-.94-.94-2.06-.94 2.06-2.06.94z\"/><path d=\"M17.41 7.96l-1.37-1.37c-.4-.4-.92-.59-1.43-.59-.52 0-1.04.2-1.43.59L10.3 9.45l-7.72 7.72c-.78.78-.78 2.05 0 2.83L4 21.41c.39.39.9.59 1.41.59.51 0 1.02-.2 1.41-.59l7.78-7.78 2.81-2.81c.8-.78.8-2.07 0-2.86zM5.41 20L4 18.59l7.72-7.72 1.47 1.35L5.41 20z\"/>\n",
              "  </svg>\n",
              "      </button>\n",
              "      \n",
              "  <style>\n",
              "    .colab-df-container {\n",
              "      display:flex;\n",
              "      flex-wrap:wrap;\n",
              "      gap: 12px;\n",
              "    }\n",
              "\n",
              "    .colab-df-convert {\n",
              "      background-color: #E8F0FE;\n",
              "      border: none;\n",
              "      border-radius: 50%;\n",
              "      cursor: pointer;\n",
              "      display: none;\n",
              "      fill: #1967D2;\n",
              "      height: 32px;\n",
              "      padding: 0 0 0 0;\n",
              "      width: 32px;\n",
              "    }\n",
              "\n",
              "    .colab-df-convert:hover {\n",
              "      background-color: #E2EBFA;\n",
              "      box-shadow: 0px 1px 2px rgba(60, 64, 67, 0.3), 0px 1px 3px 1px rgba(60, 64, 67, 0.15);\n",
              "      fill: #174EA6;\n",
              "    }\n",
              "\n",
              "    [theme=dark] .colab-df-convert {\n",
              "      background-color: #3B4455;\n",
              "      fill: #D2E3FC;\n",
              "    }\n",
              "\n",
              "    [theme=dark] .colab-df-convert:hover {\n",
              "      background-color: #434B5C;\n",
              "      box-shadow: 0px 1px 3px 1px rgba(0, 0, 0, 0.15);\n",
              "      filter: drop-shadow(0px 1px 2px rgba(0, 0, 0, 0.3));\n",
              "      fill: #FFFFFF;\n",
              "    }\n",
              "  </style>\n",
              "\n",
              "      <script>\n",
              "        const buttonEl =\n",
              "          document.querySelector('#df-975abbbe-6a7b-477d-bc83-9865971330f4 button.colab-df-convert');\n",
              "        buttonEl.style.display =\n",
              "          google.colab.kernel.accessAllowed ? 'block' : 'none';\n",
              "\n",
              "        async function convertToInteractive(key) {\n",
              "          const element = document.querySelector('#df-975abbbe-6a7b-477d-bc83-9865971330f4');\n",
              "          const dataTable =\n",
              "            await google.colab.kernel.invokeFunction('convertToInteractive',\n",
              "                                                     [key], {});\n",
              "          if (!dataTable) return;\n",
              "\n",
              "          const docLinkHtml = 'Like what you see? Visit the ' +\n",
              "            '<a target=\"_blank\" href=https://colab.research.google.com/notebooks/data_table.ipynb>data table notebook</a>'\n",
              "            + ' to learn more about interactive tables.';\n",
              "          element.innerHTML = '';\n",
              "          dataTable['output_type'] = 'display_data';\n",
              "          await google.colab.output.renderOutput(dataTable, element);\n",
              "          const docLink = document.createElement('div');\n",
              "          docLink.innerHTML = docLinkHtml;\n",
              "          element.appendChild(docLink);\n",
              "        }\n",
              "      </script>\n",
              "    </div>\n",
              "  </div>\n",
              "  "
            ],
            "text/plain": [
              "    Ref Shad                                       Img\n",
              "3    D3   A1  D31A6339-9324-4718-8F1D-F9C86FF1CAC1.png\n",
              "4    D3   A1  3AD826D5-B618-4F47-BB57-2052C33EFAAE.png\n",
              "5    D3   A1  14BDB65A-A5B9-48B4-9F79-1C078570A88D.png\n",
              "6    D3   A1  9131592F-9798-4457-ACD3-8109CCA36224.png\n",
              "7    D3   A1  653769F4-F724-4660-A3EE-76C3101A90E5.png\n",
              "..   ..  ...                                       ...\n",
              "157  D3   D4  6FDBB895-E3C9-419F-9B20-3FBB5B0A3A2B.png\n",
              "158  D3   D4  2F892491-DF86-4A29-9407-01669B26879A.png\n",
              "159  D3   D4  B9632EBA-E90D-4574-8ED0-6E880ECBAD76.png\n",
              "160  D3   D4  4BA3C8CF-5469-4252-A5C9-D702506A49EB.png\n",
              "161  D3   D4  FAAE3E0E-8887-4F38-B98A-BB9B3AC9DDE9.png\n",
              "\n",
              "[159 rows x 3 columns]"
            ]
          },
          "metadata": {},
          "execution_count": 61
        }
      ]
    },
    {
      "cell_type": "code",
      "source": [
        "A1_set11 = A1_set1\n",
        "A1_set11"
      ],
      "metadata": {
        "colab": {
          "base_uri": "https://localhost:8080/",
          "height": 423
        },
        "id": "HUI34iHW4D7u",
        "outputId": "3c491004-b398-42ad-c26b-3c4d81a5d3df"
      },
      "execution_count": 64,
      "outputs": [
        {
          "output_type": "execute_result",
          "data": {
            "text/html": [
              "\n",
              "  <div id=\"df-708598d7-c8c1-4441-bbbf-568cf815b54f\">\n",
              "    <div class=\"colab-df-container\">\n",
              "      <div>\n",
              "<style scoped>\n",
              "    .dataframe tbody tr th:only-of-type {\n",
              "        vertical-align: middle;\n",
              "    }\n",
              "\n",
              "    .dataframe tbody tr th {\n",
              "        vertical-align: top;\n",
              "    }\n",
              "\n",
              "    .dataframe thead th {\n",
              "        text-align: right;\n",
              "    }\n",
              "</style>\n",
              "<table border=\"1\" class=\"dataframe\">\n",
              "  <thead>\n",
              "    <tr style=\"text-align: right;\">\n",
              "      <th></th>\n",
              "      <th>Img</th>\n",
              "      <th>Ref</th>\n",
              "      <th>Shad</th>\n",
              "      <th>ชนิดกล้องถ่ายรูป</th>\n",
              "      <th>แสงที่ใช้</th>\n",
              "      <th>ฉากหลัง</th>\n",
              "      <th>หมายเหตุ</th>\n",
              "    </tr>\n",
              "  </thead>\n",
              "  <tbody>\n",
              "    <tr>\n",
              "      <th>3</th>\n",
              "      <td>D31A6339-9324-4718-8F1D-F9C86FF1CAC1.png</td>\n",
              "      <td>D3</td>\n",
              "      <td>A1</td>\n",
              "      <td>Iphone 11</td>\n",
              "      <td>ไฟ 4 ดวงในห้อง และไฟกลม</td>\n",
              "      <td>สีดำ</td>\n",
              "      <td>Duration 1/100 ISO 630</td>\n",
              "    </tr>\n",
              "    <tr>\n",
              "      <th>4</th>\n",
              "      <td>3AD826D5-B618-4F47-BB57-2052C33EFAAE.png</td>\n",
              "      <td>D3</td>\n",
              "      <td>A1</td>\n",
              "      <td>Iphone 11</td>\n",
              "      <td>ไฟ 4 ดวงในห้อง และไฟกลม</td>\n",
              "      <td>สีดำ</td>\n",
              "      <td>Duration 1/100 ISO 630</td>\n",
              "    </tr>\n",
              "    <tr>\n",
              "      <th>5</th>\n",
              "      <td>14BDB65A-A5B9-48B4-9F79-1C078570A88D.png</td>\n",
              "      <td>D3</td>\n",
              "      <td>A1</td>\n",
              "      <td>Iphone 11</td>\n",
              "      <td>ไฟ 4 ดวงในห้อง และไฟกลม</td>\n",
              "      <td>สีดำ</td>\n",
              "      <td>Duration 1/100 ISO 630</td>\n",
              "    </tr>\n",
              "    <tr>\n",
              "      <th>6</th>\n",
              "      <td>9131592F-9798-4457-ACD3-8109CCA36224.png</td>\n",
              "      <td>D3</td>\n",
              "      <td>A1</td>\n",
              "      <td>Iphone 11</td>\n",
              "      <td>ไฟ 4 ดวงในห้อง และไฟกลม</td>\n",
              "      <td>สีดำ</td>\n",
              "      <td>Duration 1/100 ISO 630</td>\n",
              "    </tr>\n",
              "    <tr>\n",
              "      <th>7</th>\n",
              "      <td>653769F4-F724-4660-A3EE-76C3101A90E5.png</td>\n",
              "      <td>D3</td>\n",
              "      <td>A1</td>\n",
              "      <td>Iphone 11</td>\n",
              "      <td>ไฟ 4 ดวงในห้อง และไฟกลม</td>\n",
              "      <td>สีดำ</td>\n",
              "      <td>Duration 1/100 ISO 630</td>\n",
              "    </tr>\n",
              "    <tr>\n",
              "      <th>...</th>\n",
              "      <td>...</td>\n",
              "      <td>...</td>\n",
              "      <td>...</td>\n",
              "      <td>...</td>\n",
              "      <td>...</td>\n",
              "      <td>...</td>\n",
              "      <td>...</td>\n",
              "    </tr>\n",
              "    <tr>\n",
              "      <th>157</th>\n",
              "      <td>6FDBB895-E3C9-419F-9B20-3FBB5B0A3A2B.png</td>\n",
              "      <td>D3</td>\n",
              "      <td>D4</td>\n",
              "      <td>Iphone 11</td>\n",
              "      <td>ไฟ 4 ดวงในห้อง และไฟกลม</td>\n",
              "      <td>สีดำ</td>\n",
              "      <td>Duration 1/100 ISO 630</td>\n",
              "    </tr>\n",
              "    <tr>\n",
              "      <th>158</th>\n",
              "      <td>2F892491-DF86-4A29-9407-01669B26879A.png</td>\n",
              "      <td>D3</td>\n",
              "      <td>D4</td>\n",
              "      <td>Iphone 11</td>\n",
              "      <td>ไฟ 4 ดวงในห้อง และไฟกลม</td>\n",
              "      <td>สีดำ</td>\n",
              "      <td>Duration 1/100 ISO 630</td>\n",
              "    </tr>\n",
              "    <tr>\n",
              "      <th>159</th>\n",
              "      <td>B9632EBA-E90D-4574-8ED0-6E880ECBAD76.png</td>\n",
              "      <td>D3</td>\n",
              "      <td>D4</td>\n",
              "      <td>Iphone 11</td>\n",
              "      <td>ไฟ 4 ดวงในห้อง และไฟกลม</td>\n",
              "      <td>สีดำ</td>\n",
              "      <td>Duration 1/100 ISO 630</td>\n",
              "    </tr>\n",
              "    <tr>\n",
              "      <th>160</th>\n",
              "      <td>4BA3C8CF-5469-4252-A5C9-D702506A49EB.png</td>\n",
              "      <td>D3</td>\n",
              "      <td>D4</td>\n",
              "      <td>Iphone 11</td>\n",
              "      <td>ไฟ 4 ดวงในห้อง และไฟกลม</td>\n",
              "      <td>สีดำ</td>\n",
              "      <td>Duration 1/100 ISO 630</td>\n",
              "    </tr>\n",
              "    <tr>\n",
              "      <th>161</th>\n",
              "      <td>FAAE3E0E-8887-4F38-B98A-BB9B3AC9DDE9.png</td>\n",
              "      <td>D3</td>\n",
              "      <td>D4</td>\n",
              "      <td>Iphone 11</td>\n",
              "      <td>ไฟ 4 ดวงในห้อง และไฟกลม</td>\n",
              "      <td>สีดำ</td>\n",
              "      <td>Duration 1/100 ISO 630</td>\n",
              "    </tr>\n",
              "  </tbody>\n",
              "</table>\n",
              "<p>159 rows × 7 columns</p>\n",
              "</div>\n",
              "      <button class=\"colab-df-convert\" onclick=\"convertToInteractive('df-708598d7-c8c1-4441-bbbf-568cf815b54f')\"\n",
              "              title=\"Convert this dataframe to an interactive table.\"\n",
              "              style=\"display:none;\">\n",
              "        \n",
              "  <svg xmlns=\"http://www.w3.org/2000/svg\" height=\"24px\"viewBox=\"0 0 24 24\"\n",
              "       width=\"24px\">\n",
              "    <path d=\"M0 0h24v24H0V0z\" fill=\"none\"/>\n",
              "    <path d=\"M18.56 5.44l.94 2.06.94-2.06 2.06-.94-2.06-.94-.94-2.06-.94 2.06-2.06.94zm-11 1L8.5 8.5l.94-2.06 2.06-.94-2.06-.94L8.5 2.5l-.94 2.06-2.06.94zm10 10l.94 2.06.94-2.06 2.06-.94-2.06-.94-.94-2.06-.94 2.06-2.06.94z\"/><path d=\"M17.41 7.96l-1.37-1.37c-.4-.4-.92-.59-1.43-.59-.52 0-1.04.2-1.43.59L10.3 9.45l-7.72 7.72c-.78.78-.78 2.05 0 2.83L4 21.41c.39.39.9.59 1.41.59.51 0 1.02-.2 1.41-.59l7.78-7.78 2.81-2.81c.8-.78.8-2.07 0-2.86zM5.41 20L4 18.59l7.72-7.72 1.47 1.35L5.41 20z\"/>\n",
              "  </svg>\n",
              "      </button>\n",
              "      \n",
              "  <style>\n",
              "    .colab-df-container {\n",
              "      display:flex;\n",
              "      flex-wrap:wrap;\n",
              "      gap: 12px;\n",
              "    }\n",
              "\n",
              "    .colab-df-convert {\n",
              "      background-color: #E8F0FE;\n",
              "      border: none;\n",
              "      border-radius: 50%;\n",
              "      cursor: pointer;\n",
              "      display: none;\n",
              "      fill: #1967D2;\n",
              "      height: 32px;\n",
              "      padding: 0 0 0 0;\n",
              "      width: 32px;\n",
              "    }\n",
              "\n",
              "    .colab-df-convert:hover {\n",
              "      background-color: #E2EBFA;\n",
              "      box-shadow: 0px 1px 2px rgba(60, 64, 67, 0.3), 0px 1px 3px 1px rgba(60, 64, 67, 0.15);\n",
              "      fill: #174EA6;\n",
              "    }\n",
              "\n",
              "    [theme=dark] .colab-df-convert {\n",
              "      background-color: #3B4455;\n",
              "      fill: #D2E3FC;\n",
              "    }\n",
              "\n",
              "    [theme=dark] .colab-df-convert:hover {\n",
              "      background-color: #434B5C;\n",
              "      box-shadow: 0px 1px 3px 1px rgba(0, 0, 0, 0.15);\n",
              "      filter: drop-shadow(0px 1px 2px rgba(0, 0, 0, 0.3));\n",
              "      fill: #FFFFFF;\n",
              "    }\n",
              "  </style>\n",
              "\n",
              "      <script>\n",
              "        const buttonEl =\n",
              "          document.querySelector('#df-708598d7-c8c1-4441-bbbf-568cf815b54f button.colab-df-convert');\n",
              "        buttonEl.style.display =\n",
              "          google.colab.kernel.accessAllowed ? 'block' : 'none';\n",
              "\n",
              "        async function convertToInteractive(key) {\n",
              "          const element = document.querySelector('#df-708598d7-c8c1-4441-bbbf-568cf815b54f');\n",
              "          const dataTable =\n",
              "            await google.colab.kernel.invokeFunction('convertToInteractive',\n",
              "                                                     [key], {});\n",
              "          if (!dataTable) return;\n",
              "\n",
              "          const docLinkHtml = 'Like what you see? Visit the ' +\n",
              "            '<a target=\"_blank\" href=https://colab.research.google.com/notebooks/data_table.ipynb>data table notebook</a>'\n",
              "            + ' to learn more about interactive tables.';\n",
              "          element.innerHTML = '';\n",
              "          dataTable['output_type'] = 'display_data';\n",
              "          await google.colab.output.renderOutput(dataTable, element);\n",
              "          const docLink = document.createElement('div');\n",
              "          docLink.innerHTML = docLinkHtml;\n",
              "          element.appendChild(docLink);\n",
              "        }\n",
              "      </script>\n",
              "    </div>\n",
              "  </div>\n",
              "  "
            ],
            "text/plain": [
              "                                          Img  ...                หมายเหตุ\n",
              "3    D31A6339-9324-4718-8F1D-F9C86FF1CAC1.png  ...  Duration 1/100 ISO 630\n",
              "4    3AD826D5-B618-4F47-BB57-2052C33EFAAE.png  ...  Duration 1/100 ISO 630\n",
              "5    14BDB65A-A5B9-48B4-9F79-1C078570A88D.png  ...  Duration 1/100 ISO 630\n",
              "6    9131592F-9798-4457-ACD3-8109CCA36224.png  ...  Duration 1/100 ISO 630\n",
              "7    653769F4-F724-4660-A3EE-76C3101A90E5.png  ...  Duration 1/100 ISO 630\n",
              "..                                        ...  ...                     ...\n",
              "157  6FDBB895-E3C9-419F-9B20-3FBB5B0A3A2B.png  ...  Duration 1/100 ISO 630\n",
              "158  2F892491-DF86-4A29-9407-01669B26879A.png  ...  Duration 1/100 ISO 630\n",
              "159  B9632EBA-E90D-4574-8ED0-6E880ECBAD76.png  ...  Duration 1/100 ISO 630\n",
              "160  4BA3C8CF-5469-4252-A5C9-D702506A49EB.png  ...  Duration 1/100 ISO 630\n",
              "161  FAAE3E0E-8887-4F38-B98A-BB9B3AC9DDE9.png  ...  Duration 1/100 ISO 630\n",
              "\n",
              "[159 rows x 7 columns]"
            ]
          },
          "metadata": {},
          "execution_count": 64
        }
      ]
    },
    {
      "cell_type": "code",
      "source": [
        "import pandas as pd"
      ],
      "metadata": {
        "id": "MqSCMZ-k5h60"
      },
      "execution_count": 70,
      "outputs": []
    },
    {
      "cell_type": "code",
      "source": [
        "for img in A1_set11['Img']:\n",
        "    S5_double = img\n",
        "    full_path_to_file2 = os.path.join(S5_double) \n",
        "    blob_service_client.get_blob_to_path('shadeimg', full_path_to_file2, full_path_to_file2)\n",
        "    imagee = cv2.imread(S5_double)\n",
        "    S5RGB_imgA1A1_1 = cv2.cvtColor(imagee, cv2.COLOR_BGR2RGB)\n",
        "\n",
        "    S5meanrefA1_1 =  S5RGB_imgA1A1_1[1769:1881,2019:2131]\n",
        "    S5meanA1_2 = S5RGB_imgA1A1_1[1770:1880,2015:2145]\n",
        "    S5refA1_1 = np.array(S5meanrefA1_1[0])\n",
        "    S5refA1_2 = np.array(S5meanA1_2[0])\n",
        "    Rref = S5refA1_1[:,0].mean()\n",
        "    Gref = S5refA1_1[:,1].mean()\n",
        "    Bref = S5refA1_1[:,2].mean()\n",
        "    R = S5refA1_2[:,0].mean()\n",
        "    G = S5refA1_2[:,1].mean()\n",
        "    B = S5refA1_2[:,2].mean()\n",
        "    \n",
        "    list_total = list()\n",
        "    list_total.append(Rref)\n",
        "    list_total.append(Gref)\n",
        "    list_total.append(Bref)\n",
        "    list_total.append(R)\n",
        "    list_total.append(G)\n",
        "    list_total.append(B)\n",
        "    list_total2 = list()\n",
        "    list_total2.append(list_total) "
      ],
      "metadata": {
        "id": "juexcowT0EA1"
      },
      "execution_count": 79,
      "outputs": []
    },
    {
      "cell_type": "code",
      "source": [
        "list_total2"
      ],
      "metadata": {
        "colab": {
          "base_uri": "https://localhost:8080/"
        },
        "id": "L_ybJuoR3JJV",
        "outputId": "50f9638e-9cd1-4780-922b-5ed2fe4d8642"
      },
      "execution_count": 80,
      "outputs": [
        {
          "output_type": "execute_result",
          "data": {
            "text/plain": [
              "[[224.55357142857142,\n",
              "  202.25892857142858,\n",
              "  151.08035714285714,\n",
              "  224.93846153846152,\n",
              "  202.53076923076924,\n",
              "  151.5]]"
            ]
          },
          "metadata": {},
          "execution_count": 80
        }
      ]
    },
    {
      "cell_type": "code",
      "source": [
        "cols=['R-ref', 'G-ref' , 'B-ref', 'R-Shad', 'G-Shad', 'B-Shad']\n",
        "S1=pd.DataFrame(list_total2,columns=cols)\n",
        "S1['Setting']='Set1'\n",
        "S1"
      ],
      "metadata": {
        "id": "3tmhnSI90Pyt",
        "colab": {
          "base_uri": "https://localhost:8080/",
          "height": 81
        },
        "outputId": "a55452c1-b3ac-4a10-88d2-ac39720c8e28"
      },
      "execution_count": 81,
      "outputs": [
        {
          "output_type": "execute_result",
          "data": {
            "text/html": [
              "\n",
              "  <div id=\"df-12399efa-9623-4191-816f-b1771f7ffb64\">\n",
              "    <div class=\"colab-df-container\">\n",
              "      <div>\n",
              "<style scoped>\n",
              "    .dataframe tbody tr th:only-of-type {\n",
              "        vertical-align: middle;\n",
              "    }\n",
              "\n",
              "    .dataframe tbody tr th {\n",
              "        vertical-align: top;\n",
              "    }\n",
              "\n",
              "    .dataframe thead th {\n",
              "        text-align: right;\n",
              "    }\n",
              "</style>\n",
              "<table border=\"1\" class=\"dataframe\">\n",
              "  <thead>\n",
              "    <tr style=\"text-align: right;\">\n",
              "      <th></th>\n",
              "      <th>R-ref</th>\n",
              "      <th>G-ref</th>\n",
              "      <th>B-ref</th>\n",
              "      <th>R-Shad</th>\n",
              "      <th>G-Shad</th>\n",
              "      <th>B-Shad</th>\n",
              "      <th>Setting</th>\n",
              "    </tr>\n",
              "  </thead>\n",
              "  <tbody>\n",
              "    <tr>\n",
              "      <th>0</th>\n",
              "      <td>224.553571</td>\n",
              "      <td>202.258929</td>\n",
              "      <td>151.080357</td>\n",
              "      <td>224.938462</td>\n",
              "      <td>202.530769</td>\n",
              "      <td>151.5</td>\n",
              "      <td>Set1</td>\n",
              "    </tr>\n",
              "  </tbody>\n",
              "</table>\n",
              "</div>\n",
              "      <button class=\"colab-df-convert\" onclick=\"convertToInteractive('df-12399efa-9623-4191-816f-b1771f7ffb64')\"\n",
              "              title=\"Convert this dataframe to an interactive table.\"\n",
              "              style=\"display:none;\">\n",
              "        \n",
              "  <svg xmlns=\"http://www.w3.org/2000/svg\" height=\"24px\"viewBox=\"0 0 24 24\"\n",
              "       width=\"24px\">\n",
              "    <path d=\"M0 0h24v24H0V0z\" fill=\"none\"/>\n",
              "    <path d=\"M18.56 5.44l.94 2.06.94-2.06 2.06-.94-2.06-.94-.94-2.06-.94 2.06-2.06.94zm-11 1L8.5 8.5l.94-2.06 2.06-.94-2.06-.94L8.5 2.5l-.94 2.06-2.06.94zm10 10l.94 2.06.94-2.06 2.06-.94-2.06-.94-.94-2.06-.94 2.06-2.06.94z\"/><path d=\"M17.41 7.96l-1.37-1.37c-.4-.4-.92-.59-1.43-.59-.52 0-1.04.2-1.43.59L10.3 9.45l-7.72 7.72c-.78.78-.78 2.05 0 2.83L4 21.41c.39.39.9.59 1.41.59.51 0 1.02-.2 1.41-.59l7.78-7.78 2.81-2.81c.8-.78.8-2.07 0-2.86zM5.41 20L4 18.59l7.72-7.72 1.47 1.35L5.41 20z\"/>\n",
              "  </svg>\n",
              "      </button>\n",
              "      \n",
              "  <style>\n",
              "    .colab-df-container {\n",
              "      display:flex;\n",
              "      flex-wrap:wrap;\n",
              "      gap: 12px;\n",
              "    }\n",
              "\n",
              "    .colab-df-convert {\n",
              "      background-color: #E8F0FE;\n",
              "      border: none;\n",
              "      border-radius: 50%;\n",
              "      cursor: pointer;\n",
              "      display: none;\n",
              "      fill: #1967D2;\n",
              "      height: 32px;\n",
              "      padding: 0 0 0 0;\n",
              "      width: 32px;\n",
              "    }\n",
              "\n",
              "    .colab-df-convert:hover {\n",
              "      background-color: #E2EBFA;\n",
              "      box-shadow: 0px 1px 2px rgba(60, 64, 67, 0.3), 0px 1px 3px 1px rgba(60, 64, 67, 0.15);\n",
              "      fill: #174EA6;\n",
              "    }\n",
              "\n",
              "    [theme=dark] .colab-df-convert {\n",
              "      background-color: #3B4455;\n",
              "      fill: #D2E3FC;\n",
              "    }\n",
              "\n",
              "    [theme=dark] .colab-df-convert:hover {\n",
              "      background-color: #434B5C;\n",
              "      box-shadow: 0px 1px 3px 1px rgba(0, 0, 0, 0.15);\n",
              "      filter: drop-shadow(0px 1px 2px rgba(0, 0, 0, 0.3));\n",
              "      fill: #FFFFFF;\n",
              "    }\n",
              "  </style>\n",
              "\n",
              "      <script>\n",
              "        const buttonEl =\n",
              "          document.querySelector('#df-12399efa-9623-4191-816f-b1771f7ffb64 button.colab-df-convert');\n",
              "        buttonEl.style.display =\n",
              "          google.colab.kernel.accessAllowed ? 'block' : 'none';\n",
              "\n",
              "        async function convertToInteractive(key) {\n",
              "          const element = document.querySelector('#df-12399efa-9623-4191-816f-b1771f7ffb64');\n",
              "          const dataTable =\n",
              "            await google.colab.kernel.invokeFunction('convertToInteractive',\n",
              "                                                     [key], {});\n",
              "          if (!dataTable) return;\n",
              "\n",
              "          const docLinkHtml = 'Like what you see? Visit the ' +\n",
              "            '<a target=\"_blank\" href=https://colab.research.google.com/notebooks/data_table.ipynb>data table notebook</a>'\n",
              "            + ' to learn more about interactive tables.';\n",
              "          element.innerHTML = '';\n",
              "          dataTable['output_type'] = 'display_data';\n",
              "          await google.colab.output.renderOutput(dataTable, element);\n",
              "          const docLink = document.createElement('div');\n",
              "          docLink.innerHTML = docLinkHtml;\n",
              "          element.appendChild(docLink);\n",
              "        }\n",
              "      </script>\n",
              "    </div>\n",
              "  </div>\n",
              "  "
            ],
            "text/plain": [
              "        R-ref       G-ref       B-ref      R-Shad      G-Shad  B-Shad Setting\n",
              "0  224.553571  202.258929  151.080357  224.938462  202.530769   151.5    Set1"
            ]
          },
          "metadata": {},
          "execution_count": 81
        }
      ]
    },
    {
      "cell_type": "code",
      "source": [
        "pd.concat([S1,table1], axis=1)"
      ],
      "metadata": {
        "id": "Zme8KwjP0vXc"
      },
      "execution_count": null,
      "outputs": []
    }
  ]
}