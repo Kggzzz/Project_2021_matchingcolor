{
  "nbformat": 4,
  "nbformat_minor": 0,
  "metadata": {
    "colab": {
      "name": "Test_datapoint.ipynb",
      "provenance": [],
      "authorship_tag": "ABX9TyNbD7L2ljn/Ak10dn2kLC1w",
      "include_colab_link": true
    },
    "kernelspec": {
      "name": "python3",
      "display_name": "Python 3"
    },
    "language_info": {
      "name": "python"
    }
  },
  "cells": [
    {
      "cell_type": "markdown",
      "metadata": {
        "id": "view-in-github",
        "colab_type": "text"
      },
      "source": [
        "<a href=\"https://colab.research.google.com/github/Kggzzz/Project_2021_matchingcolor/blob/main/Test_datapoint.ipynb\" target=\"_parent\"><img src=\"https://colab.research.google.com/assets/colab-badge.svg\" alt=\"Open In Colab\"/></a>"
      ]
    },
    {
      "cell_type": "code",
      "source": [
        "import pandas as pd\n",
        "import cv2\n",
        "import numpy as np"
      ],
      "metadata": {
        "id": "ZzrNkhwY45v0"
      },
      "execution_count": 11,
      "outputs": []
    },
    {
      "cell_type": "code",
      "source": [
        "!pip install azure-storage-blob==2.1.0"
      ],
      "metadata": {
        "colab": {
          "base_uri": "https://localhost:8080/"
        },
        "id": "8YnSEfox47yC",
        "outputId": "4136cd6e-f342-4bda-e84b-b977a2c171d4"
      },
      "execution_count": 2,
      "outputs": [
        {
          "output_type": "stream",
          "name": "stdout",
          "text": [
            "Collecting azure-storage-blob==2.1.0\n",
            "  Downloading azure_storage_blob-2.1.0-py2.py3-none-any.whl (88 kB)\n",
            "\u001b[?25l\r\u001b[K     |███▊                            | 10 kB 20.0 MB/s eta 0:00:01\r\u001b[K     |███████▍                        | 20 kB 23.9 MB/s eta 0:00:01\r\u001b[K     |███████████▏                    | 30 kB 29.8 MB/s eta 0:00:01\r\u001b[K     |██████████████▉                 | 40 kB 34.5 MB/s eta 0:00:01\r\u001b[K     |██████████████████▋             | 51 kB 37.2 MB/s eta 0:00:01\r\u001b[K     |██████████████████████▎         | 61 kB 39.8 MB/s eta 0:00:01\r\u001b[K     |██████████████████████████      | 71 kB 33.0 MB/s eta 0:00:01\r\u001b[K     |█████████████████████████████▊  | 81 kB 32.6 MB/s eta 0:00:01\r\u001b[K     |████████████████████████████████| 88 kB 5.4 MB/s \n",
            "\u001b[?25hCollecting azure-storage-common~=2.1\n",
            "  Downloading azure_storage_common-2.1.0-py2.py3-none-any.whl (47 kB)\n",
            "\u001b[?25l\r\u001b[K     |██████▉                         | 10 kB 28.6 MB/s eta 0:00:01\r\u001b[K     |█████████████▊                  | 20 kB 35.7 MB/s eta 0:00:01\r\u001b[K     |████████████████████▋           | 30 kB 40.8 MB/s eta 0:00:01\r\u001b[K     |███████████████████████████▍    | 40 kB 42.3 MB/s eta 0:00:01\r\u001b[K     |████████████████████████████████| 47 kB 4.0 MB/s \n",
            "\u001b[?25hCollecting azure-common>=1.1.5\n",
            "  Downloading azure_common-1.1.28-py2.py3-none-any.whl (14 kB)\n",
            "Collecting cryptography\n",
            "  Downloading cryptography-36.0.1-cp36-abi3-manylinux_2_24_x86_64.whl (3.6 MB)\n",
            "\u001b[K     |████████████████████████████████| 3.6 MB 47.3 MB/s \n",
            "\u001b[?25hRequirement already satisfied: requests in /usr/local/lib/python3.7/dist-packages (from azure-storage-common~=2.1->azure-storage-blob==2.1.0) (2.23.0)\n",
            "Requirement already satisfied: python-dateutil in /usr/local/lib/python3.7/dist-packages (from azure-storage-common~=2.1->azure-storage-blob==2.1.0) (2.8.2)\n",
            "Requirement already satisfied: cffi>=1.12 in /usr/local/lib/python3.7/dist-packages (from cryptography->azure-storage-common~=2.1->azure-storage-blob==2.1.0) (1.15.0)\n",
            "Requirement already satisfied: pycparser in /usr/local/lib/python3.7/dist-packages (from cffi>=1.12->cryptography->azure-storage-common~=2.1->azure-storage-blob==2.1.0) (2.21)\n",
            "Requirement already satisfied: six>=1.5 in /usr/local/lib/python3.7/dist-packages (from python-dateutil->azure-storage-common~=2.1->azure-storage-blob==2.1.0) (1.15.0)\n",
            "Requirement already satisfied: urllib3!=1.25.0,!=1.25.1,<1.26,>=1.21.1 in /usr/local/lib/python3.7/dist-packages (from requests->azure-storage-common~=2.1->azure-storage-blob==2.1.0) (1.24.3)\n",
            "Requirement already satisfied: idna<3,>=2.5 in /usr/local/lib/python3.7/dist-packages (from requests->azure-storage-common~=2.1->azure-storage-blob==2.1.0) (2.10)\n",
            "Requirement already satisfied: chardet<4,>=3.0.2 in /usr/local/lib/python3.7/dist-packages (from requests->azure-storage-common~=2.1->azure-storage-blob==2.1.0) (3.0.4)\n",
            "Requirement already satisfied: certifi>=2017.4.17 in /usr/local/lib/python3.7/dist-packages (from requests->azure-storage-common~=2.1->azure-storage-blob==2.1.0) (2021.10.8)\n",
            "Installing collected packages: cryptography, azure-common, azure-storage-common, azure-storage-blob\n",
            "Successfully installed azure-common-1.1.28 azure-storage-blob-2.1.0 azure-storage-common-2.1.0 cryptography-36.0.1\n"
          ]
        }
      ]
    },
    {
      "cell_type": "code",
      "source": [
        "from azure.storage.blob import BlockBlobService\n",
        "import os\n",
        "blob_service_client = BlockBlobService(account_name='dent01', account_key='CuShY0B4TZJ84TjzPpaHxyrHOpO73aGXeCpdVq7x26OjIlQ1HOz+3DVc9pDEj9BdcEL8odFuTRF0mOAE+aCgiw==')"
      ],
      "metadata": {
        "id": "p0RIz2m442LO"
      },
      "execution_count": 3,
      "outputs": []
    },
    {
      "cell_type": "code",
      "source": [
        "img = '342AE035-E0F5-4DEF-988E-27F570C725B2.png'"
      ],
      "metadata": {
        "id": "U_SB9sl45T0U"
      },
      "execution_count": 7,
      "outputs": []
    },
    {
      "cell_type": "code",
      "execution_count": 45,
      "metadata": {
        "colab": {
          "base_uri": "https://localhost:8080/",
          "height": 234
        },
        "id": "_1d5iMac4akp",
        "outputId": "952c9e4c-ef31-44f4-c5f9-720017fab9ae"
      },
      "outputs": [
        {
          "output_type": "error",
          "ename": "IndexError",
          "evalue": "ignored",
          "traceback": [
            "\u001b[0;31m---------------------------------------------------------------------------\u001b[0m",
            "\u001b[0;31mIndexError\u001b[0m                                Traceback (most recent call last)",
            "\u001b[0;32m<ipython-input-45-6a1592cc662c>\u001b[0m in \u001b[0;36m<module>\u001b[0;34m()\u001b[0m\n\u001b[1;32m     16\u001b[0m \u001b[0mS5rgbrefA1_1\u001b[0m \u001b[0;34m=\u001b[0m \u001b[0mlist\u001b[0m\u001b[0;34m(\u001b[0m\u001b[0;34m)\u001b[0m\u001b[0;34m\u001b[0m\u001b[0;34m\u001b[0m\u001b[0m\n\u001b[1;32m     17\u001b[0m \u001b[0;32mfor\u001b[0m \u001b[0mi\u001b[0m \u001b[0;32min\u001b[0m \u001b[0mrange\u001b[0m\u001b[0;34m(\u001b[0m\u001b[0;36m3\u001b[0m\u001b[0;34m)\u001b[0m\u001b[0;34m:\u001b[0m\u001b[0;34m\u001b[0m\u001b[0;34m\u001b[0m\u001b[0m\n\u001b[0;32m---> 18\u001b[0;31m   \u001b[0mS5rgbrefA1_1\u001b[0m\u001b[0;34m.\u001b[0m\u001b[0mappend\u001b[0m\u001b[0;34m(\u001b[0m\u001b[0mS5meanrefA1_1\u001b[0m\u001b[0;34m[\u001b[0m\u001b[0;34m:\u001b[0m\u001b[0;34m,\u001b[0m\u001b[0mi\u001b[0m\u001b[0;34m]\u001b[0m\u001b[0;34m.\u001b[0m\u001b[0mmean\u001b[0m\u001b[0;34m(\u001b[0m\u001b[0;34m)\u001b[0m\u001b[0;34m)\u001b[0m\u001b[0;34m\u001b[0m\u001b[0;34m\u001b[0m\u001b[0m\n\u001b[0m\u001b[1;32m     19\u001b[0m   \u001b[0mS5rgbrefA1_1\u001b[0m\u001b[0;34m.\u001b[0m\u001b[0mappend\u001b[0m\u001b[0;34m(\u001b[0m\u001b[0mS5meanA1_2\u001b[0m\u001b[0;34m[\u001b[0m\u001b[0;34m:\u001b[0m\u001b[0;34m,\u001b[0m\u001b[0mi\u001b[0m\u001b[0;34m]\u001b[0m\u001b[0;34m.\u001b[0m\u001b[0mmean\u001b[0m\u001b[0;34m(\u001b[0m\u001b[0;34m)\u001b[0m\u001b[0;34m)\u001b[0m\u001b[0;34m\u001b[0m\u001b[0;34m\u001b[0m\u001b[0m\n\u001b[1;32m     20\u001b[0m \u001b[0mlist_total\u001b[0m\u001b[0;34m.\u001b[0m\u001b[0mappend\u001b[0m\u001b[0;34m(\u001b[0m\u001b[0mS5rgbrefA1_1\u001b[0m\u001b[0;34m)\u001b[0m\u001b[0;34m\u001b[0m\u001b[0;34m\u001b[0m\u001b[0m\n",
            "\u001b[0;31mIndexError\u001b[0m: too many indices for array: array is 1-dimensional, but 2 were indexed"
          ]
        }
      ],
      "source": [
        "list_total = list()\n",
        "S5_double = img\n",
        "full_path_to_file2 = os.path.join(S5_double) \n",
        "blob_service_client.get_blob_to_path('shadeimg', full_path_to_file2, full_path_to_file2)\n",
        "imagee = cv2.imread(S5_double)\n",
        "S5RGB_imgA1A1_1= cv2.cvtColor(imagee, cv2.COLOR_BGR2RGB)\n",
        "S5meanrefA1_1 = list()\n",
        "for i in range(S5RGB_imgA1A1_1.shape[0]): \n",
        "    for j in range(S5RGB_imgA1A1_1.shape[1]): \n",
        "          if 1769<i<1881 and 2019<j<2131 :\n",
        "            S5RGB_imgA1A1_1[i,j,:]\n",
        "          if 1770<i<1880 and 2015<j<2145 :\n",
        "            S5RGB_imgA1A1_1[i,j,:]\n",
        "S5meanrefA1_1 = np.array(S5meanrefA1_1)\n",
        "S5meanA1_2 = np.array(S5meanrefA1_1)\n",
        "S5rgbrefA1_1 = list()\n",
        "for i in range(3):\n",
        "  S5rgbrefA1_1.append(S5meanrefA1_1[:,i].mean())\n",
        "  S5rgbrefA1_1.append(S5meanA1_2[:,i].mean())\n",
        "list_total.append(S5rgbrefA1_1)"
      ]
    },
    {
      "cell_type": "code",
      "source": [
        "S5RGB_imgA1A1_1"
      ],
      "metadata": {
        "colab": {
          "base_uri": "https://localhost:8080/"
        },
        "id": "q7mAe6WCQv74",
        "outputId": "4221867a-4975-44e0-a235-1c4b570feb91"
      },
      "execution_count": 43,
      "outputs": [
        {
          "output_type": "execute_result",
          "data": {
            "text/plain": [
              "array([[[104, 100, 101],\n",
              "        [101,  97,  98],\n",
              "        [ 93,  89,  90],\n",
              "        ...,\n",
              "        [107, 105, 108],\n",
              "        [108, 106, 109],\n",
              "        [105, 103, 106]],\n",
              "\n",
              "       [[105, 101, 102],\n",
              "        [ 93,  89,  90],\n",
              "        [ 99,  95,  96],\n",
              "        ...,\n",
              "        [112, 110, 113],\n",
              "        [113, 111, 114],\n",
              "        [114, 112, 115]],\n",
              "\n",
              "       [[106, 102, 103],\n",
              "        [ 95,  91,  92],\n",
              "        [ 97,  93,  94],\n",
              "        ...,\n",
              "        [ 98,  96,  99],\n",
              "        [103, 101, 104],\n",
              "        [100,  98, 101]],\n",
              "\n",
              "       ...,\n",
              "\n",
              "       [[ 62,  60,  63],\n",
              "        [ 70,  68,  71],\n",
              "        [ 74,  72,  75],\n",
              "        ...,\n",
              "        [ 28,  24,  23],\n",
              "        [ 39,  35,  34],\n",
              "        [ 39,  35,  34]],\n",
              "\n",
              "       [[ 62,  60,  63],\n",
              "        [ 75,  73,  76],\n",
              "        [ 68,  66,  69],\n",
              "        ...,\n",
              "        [ 28,  24,  23],\n",
              "        [ 25,  21,  20],\n",
              "        [ 25,  21,  20]],\n",
              "\n",
              "       [[ 73,  71,  74],\n",
              "        [ 69,  67,  70],\n",
              "        [ 63,  61,  64],\n",
              "        ...,\n",
              "        [ 37,  33,  32],\n",
              "        [ 19,  15,  14],\n",
              "        [  4,   0,   0]]], dtype=uint8)"
            ]
          },
          "metadata": {},
          "execution_count": 43
        }
      ]
    },
    {
      "cell_type": "code",
      "source": [
        "# list_total1 = list()\n",
        "# for img in D3_Set5['Img']:\n",
        "#   S1_double = img\n",
        "#   full_path_to_file2 = os.path.join(S1_double) \n",
        "#   blob_service_client.get_blob_to_path('shadeimg', full_path_to_file2, full_path_to_file2)\n",
        "#   imgS1_A1A1_1  = cv2.imread(S1_double) #RGB\n",
        "#   S1RGB_imgA1A1_1= cv2.cvtColor(imgS1_A1A1_1, cv2.COLOR_BGR2RGB)\n",
        "#   S1meanrefA1_1 = list()\n",
        "#   for i in range(S1RGB_imgA1A1_1.shape[0]): \n",
        "#      for j in range(S1RGB_imgA1A1_1.shape[1]): \n",
        "#                 if 1769<i<1881 and 2019<j<2131 :\n",
        "#                   S1meanrefA1_1.append(S1RGB_imgA1A1_1[i][j]) \n",
        "#   S1meanrefA1_1 = np.array(S1meanrefA1_1)\n",
        "#   S1rgbrefA1_1 = list()\n",
        "#   for i in range(3):\n",
        "#     S1rgbrefA1_1.append(S1meanrefA1_1[:,i].mean())\n",
        "#   list_total1.append(S1rgbrefA1_1)"
      ],
      "metadata": {
        "id": "cIMwEOuh5aRZ"
      },
      "execution_count": null,
      "outputs": []
    },
    {
      "cell_type": "code",
      "source": [
        "image = '342AE035-E0F5-4DEF-988E-27F570C725B2.png'"
      ],
      "metadata": {
        "id": "Wxvxaw5P7VqC"
      },
      "execution_count": 4,
      "outputs": []
    },
    {
      "cell_type": "code",
      "source": [
        "list_total = list()\n",
        "S5_double = image\n",
        "image = cv2.imread(inmessage)\n",
        "S5RGB_imgA1A1_1= cv2.cvtColor(image, cv2.COLOR_BGR2RGB)\n",
        "S5meanrefA1_1 = list()\n",
        "for i in range(S5RGB_imgA1A1_1.shape[0]): \n",
        "    for j in range(S5RGB_imgA1A1_1.shape[1]): \n",
        "          if 1769<i<1881 and 2019<j<2131 :\n",
        "              S5meanrefA1_1.append(S5RGB_imgA1A1_1[i][j]) \n",
        "#           if 1770<i<1880 and 2015<j<2145 :\n",
        "#              S5meanrefA1_1.append(S5RGB_imgA1A1_1[i][j])\n",
        "# S5meanrefA1_1 = np.array(S5meanrefA1_1)\n",
        "# S5meanA1_2 = np.array(S5meanrefA1_1)\n",
        "# S5rgbrefA1_1 = list()\n",
        "# for i in range(3):\n",
        "#     S5rgbrefA1_1.append(S5meanrefA1_1[:,i].mean())\n",
        "#     S5rgbrefA1_1.append(S5meanA1_2[:,i].mean())\n",
        "# list_total.append(S5rgbrefA1_1)"
      ],
      "metadata": {
        "colab": {
          "base_uri": "https://localhost:8080/",
          "height": 234
        },
        "id": "ecHz-bVZ5kMO",
        "outputId": "ee63c158-9038-4682-c089-e0fa4e11d51b"
      },
      "execution_count": 6,
      "outputs": [
        {
          "output_type": "error",
          "ename": "NameError",
          "evalue": "ignored",
          "traceback": [
            "\u001b[0;31m---------------------------------------------------------------------------\u001b[0m",
            "\u001b[0;31mNameError\u001b[0m                                 Traceback (most recent call last)",
            "\u001b[0;32m<ipython-input-6-59973c68bdea>\u001b[0m in \u001b[0;36m<module>\u001b[0;34m()\u001b[0m\n\u001b[1;32m      1\u001b[0m \u001b[0mlist_total\u001b[0m \u001b[0;34m=\u001b[0m \u001b[0mlist\u001b[0m\u001b[0;34m(\u001b[0m\u001b[0;34m)\u001b[0m\u001b[0;34m\u001b[0m\u001b[0;34m\u001b[0m\u001b[0m\n\u001b[1;32m      2\u001b[0m \u001b[0mS5_double\u001b[0m \u001b[0;34m=\u001b[0m \u001b[0mimage\u001b[0m\u001b[0;34m\u001b[0m\u001b[0;34m\u001b[0m\u001b[0m\n\u001b[0;32m----> 3\u001b[0;31m \u001b[0mimage\u001b[0m \u001b[0;34m=\u001b[0m \u001b[0mcv2\u001b[0m\u001b[0;34m.\u001b[0m\u001b[0mimread\u001b[0m\u001b[0;34m(\u001b[0m\u001b[0mS5_double\u001b[0m\u001b[0;34m)\u001b[0m\u001b[0;34m\u001b[0m\u001b[0;34m\u001b[0m\u001b[0m\n\u001b[0m\u001b[1;32m      4\u001b[0m \u001b[0mS5RGB_imgA1A1_1\u001b[0m\u001b[0;34m=\u001b[0m \u001b[0mcv2\u001b[0m\u001b[0;34m.\u001b[0m\u001b[0mcvtColor\u001b[0m\u001b[0;34m(\u001b[0m\u001b[0mimage\u001b[0m\u001b[0;34m,\u001b[0m \u001b[0mcv2\u001b[0m\u001b[0;34m.\u001b[0m\u001b[0mCOLOR_BGR2RGB\u001b[0m\u001b[0;34m)\u001b[0m\u001b[0;34m\u001b[0m\u001b[0;34m\u001b[0m\u001b[0m\n\u001b[1;32m      5\u001b[0m \u001b[0mS5meanrefA1_1\u001b[0m \u001b[0;34m=\u001b[0m \u001b[0mlist\u001b[0m\u001b[0;34m(\u001b[0m\u001b[0;34m)\u001b[0m\u001b[0;34m\u001b[0m\u001b[0;34m\u001b[0m\u001b[0m\n",
            "\u001b[0;31mNameError\u001b[0m: name 'cv2' is not defined"
          ]
        }
      ]
    }
  ]
}