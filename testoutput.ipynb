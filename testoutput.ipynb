{
  "nbformat": 4,
  "nbformat_minor": 0,
  "metadata": {
    "colab": {
      "name": "testoutput.ipynb",
      "provenance": [],
      "include_colab_link": true
    },
    "kernelspec": {
      "name": "python3",
      "display_name": "Python 3"
    },
    "language_info": {
      "name": "python"
    }
  },
  "cells": [
    {
      "cell_type": "markdown",
      "metadata": {
        "id": "view-in-github",
        "colab_type": "text"
      },
      "source": [
        "<a href=\"https://colab.research.google.com/github/Kggzzz/Project_2021_matchingcolor/blob/main/testoutput.ipynb\" target=\"_parent\"><img src=\"https://colab.research.google.com/assets/colab-badge.svg\" alt=\"Open In Colab\"/></a>"
      ]
    },
    {
      "cell_type": "markdown",
      "source": [
        "#Model "
      ],
      "metadata": {
        "id": "ssvGIa4Py9rG"
      }
    },
    {
      "cell_type": "code",
      "source": [
        "import numpy as np"
      ],
      "metadata": {
        "id": "8ISBGlPBzzvw"
      },
      "execution_count": 1,
      "outputs": []
    },
    {
      "cell_type": "code",
      "source": [
        "from sklearn import metrics"
      ],
      "metadata": {
        "id": "FTwRPXBBzw1v"
      },
      "execution_count": 2,
      "outputs": []
    },
    {
      "cell_type": "code",
      "source": [
        "from sklearn import datasets"
      ],
      "metadata": {
        "id": "KR8lVsZXpX9X"
      },
      "execution_count": 3,
      "outputs": []
    },
    {
      "cell_type": "code",
      "source": [
        "from sklearn.ensemble import RandomForestClassifier"
      ],
      "metadata": {
        "id": "cfRBaPLCI0vn"
      },
      "execution_count": 4,
      "outputs": []
    },
    {
      "cell_type": "code",
      "source": [
        "import xgboost as xgb"
      ],
      "metadata": {
        "id": "h50-WlNzOp3W"
      },
      "execution_count": 5,
      "outputs": []
    },
    {
      "cell_type": "code",
      "source": [
        "from sklearn import svm"
      ],
      "metadata": {
        "id": "wM9lCq5ZOqOc"
      },
      "execution_count": 6,
      "outputs": []
    },
    {
      "cell_type": "code",
      "source": [
        "import pandas as pd"
      ],
      "metadata": {
        "id": "uJm_2vBUP9p2"
      },
      "execution_count": 7,
      "outputs": []
    },
    {
      "cell_type": "code",
      "source": [
        "from google.colab import drive \n",
        "drive.mount('/content/drive')"
      ],
      "metadata": {
        "colab": {
          "base_uri": "https://localhost:8080/"
        },
        "id": "_8KDD0WgQC_c",
        "outputId": "4a99fa39-1a93-475b-eac2-6444d4338f22"
      },
      "execution_count": 8,
      "outputs": [
        {
          "output_type": "stream",
          "name": "stdout",
          "text": [
            "Mounted at /content/drive\n"
          ]
        }
      ]
    },
    {
      "cell_type": "code",
      "source": [
        "import os"
      ],
      "metadata": {
        "id": "-RXgiw8nQEFY"
      },
      "execution_count": 9,
      "outputs": []
    },
    {
      "cell_type": "code",
      "source": [
        "path = '/content/drive/My Drive/shadeimg/SVM shade'"
      ],
      "metadata": {
        "id": "ehxFczjDQFLC"
      },
      "execution_count": 10,
      "outputs": []
    },
    {
      "cell_type": "code",
      "source": [
        "os.listdir(path)"
      ],
      "metadata": {
        "id": "B7dvVcB-QGcE",
        "colab": {
          "base_uri": "https://localhost:8080/"
        },
        "outputId": "d0b8ac28-3c14-41d7-a576-47ab8dd3b840"
      },
      "execution_count": 11,
      "outputs": [
        {
          "output_type": "execute_result",
          "data": {
            "text/plain": [
              "['DD.xlsx',\n",
              " 'CC.xlsx',\n",
              " 'BB.xlsx',\n",
              " 'Shade_AA.xlsx',\n",
              " 'Shade_CC.xlsx',\n",
              " 'Shade_DD.xlsx',\n",
              " 'Shade_BB.xlsx',\n",
              " 'AA.xlsx',\n",
              " 'AA_2.xlsx',\n",
              " 'Shad_A.xlsx',\n",
              " 'Shad_B.xlsx',\n",
              " 'Shad_C.xlsx',\n",
              " 'Shad_D.xlsx',\n",
              " 'Setting4.xlsx',\n",
              " 'Color-checkerAA.xlsx',\n",
              " 'Color-checkerBB.xlsx',\n",
              " 'Color-checkerCC.xlsx',\n",
              " 'Setting2.xlsx',\n",
              " 'D3set51.csv',\n",
              " 'Setting1.xlsx',\n",
              " 'CheckerDD.xlsx',\n",
              " 'Setting3.xlsx',\n",
              " 'Setting6.xlsx',\n",
              " 'Setting5.xlsx',\n",
              " 'checkerShad_A .xlsx',\n",
              " 'checkerShad_B.xlsx',\n",
              " 'checkerShad_C.xlsx',\n",
              " 'D3Set5-61.xlsx',\n",
              " 'checkerShad_D.xlsx',\n",
              " 'Color-checkerDD.xlsx',\n",
              " 'Datapoint_1.xlsx',\n",
              " 'Datapoint_2.xlsx',\n",
              " 'Datapoint_3.xlsx',\n",
              " 'Datapoint_4.xlsx',\n",
              " 'Datapoint_6.xlsx',\n",
              " 'Datapoint_5.xlsx']"
            ]
          },
          "metadata": {},
          "execution_count": 11
        }
      ]
    },
    {
      "cell_type": "code",
      "source": [
        "Set1 = os.path.join(path,'Datapoint_1.xlsx')\n",
        "print(Set1)"
      ],
      "metadata": {
        "id": "CMbG8rSdQIaw",
        "colab": {
          "base_uri": "https://localhost:8080/"
        },
        "outputId": "7ef2db60-9d7b-4e84-c20f-aa7ccdc5a4a0"
      },
      "execution_count": 12,
      "outputs": [
        {
          "output_type": "stream",
          "name": "stdout",
          "text": [
            "/content/drive/My Drive/shadeimg/SVM shade/Datapoint_1.xlsx\n"
          ]
        }
      ]
    },
    {
      "cell_type": "code",
      "source": [
        "Set2 = os.path.join(path,'Datapoint_2.xlsx')\n",
        "print(Set2)"
      ],
      "metadata": {
        "id": "SwX5IxeQQJk-",
        "colab": {
          "base_uri": "https://localhost:8080/"
        },
        "outputId": "40344d5c-8ad0-4051-c248-7256d9b12c81"
      },
      "execution_count": 13,
      "outputs": [
        {
          "output_type": "stream",
          "name": "stdout",
          "text": [
            "/content/drive/My Drive/shadeimg/SVM shade/Datapoint_2.xlsx\n"
          ]
        }
      ]
    },
    {
      "cell_type": "code",
      "source": [
        "Set3 = os.path.join(path,'Datapoint_3.xlsx')\n",
        "print(Set3)"
      ],
      "metadata": {
        "id": "m2BCIcaIQLQK",
        "colab": {
          "base_uri": "https://localhost:8080/"
        },
        "outputId": "0c318e85-a9de-4907-9f50-f5951dfd282a"
      },
      "execution_count": 14,
      "outputs": [
        {
          "output_type": "stream",
          "name": "stdout",
          "text": [
            "/content/drive/My Drive/shadeimg/SVM shade/Datapoint_3.xlsx\n"
          ]
        }
      ]
    },
    {
      "cell_type": "code",
      "source": [
        "Set4 = os.path.join(path,'Datapoint_4.xlsx')\n",
        "print(Set4)"
      ],
      "metadata": {
        "id": "JjNMYk0fQMha",
        "colab": {
          "base_uri": "https://localhost:8080/"
        },
        "outputId": "b30c9cf5-a1ad-434e-d4dc-bc0f4dc63dbf"
      },
      "execution_count": 15,
      "outputs": [
        {
          "output_type": "stream",
          "name": "stdout",
          "text": [
            "/content/drive/My Drive/shadeimg/SVM shade/Datapoint_4.xlsx\n"
          ]
        }
      ]
    },
    {
      "cell_type": "code",
      "source": [
        "Set5 = os.path.join(path,'Datapoint_5.xlsx')\n",
        "print(Set5)"
      ],
      "metadata": {
        "id": "YpXzpzEBQ0oT",
        "colab": {
          "base_uri": "https://localhost:8080/"
        },
        "outputId": "d5e29b12-3d88-421b-8cf8-482bc3c1a8af"
      },
      "execution_count": 16,
      "outputs": [
        {
          "output_type": "stream",
          "name": "stdout",
          "text": [
            "/content/drive/My Drive/shadeimg/SVM shade/Datapoint_5.xlsx\n"
          ]
        }
      ]
    },
    {
      "cell_type": "code",
      "source": [
        "Set6 = os.path.join(path,'Datapoint_6.xlsx')\n",
        "print(Set6)"
      ],
      "metadata": {
        "id": "wd2Y2s-SQ3YD",
        "colab": {
          "base_uri": "https://localhost:8080/"
        },
        "outputId": "33dd75fd-ee84-4a15-c5d9-cf5843b429cd"
      },
      "execution_count": 17,
      "outputs": [
        {
          "output_type": "stream",
          "name": "stdout",
          "text": [
            "/content/drive/My Drive/shadeimg/SVM shade/Datapoint_6.xlsx\n"
          ]
        }
      ]
    },
    {
      "cell_type": "markdown",
      "source": [
        "#A2 RGB"
      ],
      "metadata": {
        "id": "Rg3ods3bRmn5"
      }
    },
    {
      "cell_type": "code",
      "source": [
        "Model1 = RandomForestClassifier()"
      ],
      "metadata": {
        "id": "aZ3mSk1-QhhK"
      },
      "execution_count": 18,
      "outputs": []
    },
    {
      "cell_type": "code",
      "source": [
        "Model2 = RandomForestClassifier()"
      ],
      "metadata": {
        "id": "BBIzw95YQnKy"
      },
      "execution_count": 19,
      "outputs": []
    },
    {
      "cell_type": "code",
      "source": [
        "Model9 = xgb.XGBClassifier()"
      ],
      "metadata": {
        "id": "YNV_k4uoO3Ly"
      },
      "execution_count": 20,
      "outputs": []
    },
    {
      "cell_type": "code",
      "source": [
        "Model10 = xgb.XGBClassifier()"
      ],
      "metadata": {
        "id": "1e29u81fO7kc"
      },
      "execution_count": 21,
      "outputs": []
    },
    {
      "cell_type": "code",
      "source": [
        "table_A2Set1 = pd.read_excel(Set1, sheet_name='A2_1')"
      ],
      "metadata": {
        "id": "G9jMjDPuRHKd"
      },
      "execution_count": 22,
      "outputs": []
    },
    {
      "cell_type": "code",
      "source": [
        "table_A2Set2 = pd.read_excel(Set2, sheet_name='A2_2')"
      ],
      "metadata": {
        "id": "-rapVqQhRPZl"
      },
      "execution_count": 23,
      "outputs": []
    },
    {
      "cell_type": "code",
      "source": [
        "table_A2Set3 = pd.read_excel(Set3, sheet_name='A2_3')"
      ],
      "metadata": {
        "id": "UWHXk5yCRQBO"
      },
      "execution_count": 24,
      "outputs": []
    },
    {
      "cell_type": "code",
      "source": [
        "table_A2Set4 = pd.read_excel(Set4, sheet_name='A2_4')"
      ],
      "metadata": {
        "id": "rhCLQnVORQVD"
      },
      "execution_count": 25,
      "outputs": []
    },
    {
      "cell_type": "code",
      "source": [
        "table_A2Set5 = pd.read_excel(Set5, sheet_name='A2_5')"
      ],
      "metadata": {
        "id": "PBbAmi5fRRLn"
      },
      "execution_count": 26,
      "outputs": []
    },
    {
      "cell_type": "code",
      "source": [
        "table_A2Set6 = pd.read_excel(Set6, sheet_name='A2_6')"
      ],
      "metadata": {
        "id": "wXAI17t7RRak"
      },
      "execution_count": 27,
      "outputs": []
    },
    {
      "cell_type": "code",
      "source": [
        "RGB_A2_Set1 = table_A2Set1"
      ],
      "metadata": {
        "id": "JwQs8ralfsgo"
      },
      "execution_count": 28,
      "outputs": []
    },
    {
      "cell_type": "code",
      "source": [
        "RGB_A2_Set2 = table_A2Set2"
      ],
      "metadata": {
        "id": "RdIInq3Ifsgo"
      },
      "execution_count": 29,
      "outputs": []
    },
    {
      "cell_type": "code",
      "source": [
        "RGB_A2_Set3 = table_A2Set3"
      ],
      "metadata": {
        "id": "gug7sAQwfsgo"
      },
      "execution_count": 30,
      "outputs": []
    },
    {
      "cell_type": "code",
      "source": [
        "RGB_A2_Set4 = table_A2Set4"
      ],
      "metadata": {
        "id": "-OHkZAoUR3ou"
      },
      "execution_count": 31,
      "outputs": []
    },
    {
      "cell_type": "code",
      "source": [
        "RGB_A2_concat = pd.concat([RGB_A2_Set1,RGB_A2_Set2,RGB_A2_Set3,RGB_A2_Set4])"
      ],
      "metadata": {
        "id": "jvqEy8NKQp-L"
      },
      "execution_count": 32,
      "outputs": []
    },
    {
      "cell_type": "code",
      "source": [
        "RGB_A2_concat0 = RGB_A2_concat.drop(['H-ref','S-ref','V-ref','H-Shad','S-Shad','V-Shad','Setting','Ref','Shad','Img'], axis=1)"
      ],
      "metadata": {
        "id": "zrlegFEESHMa"
      },
      "execution_count": 33,
      "outputs": []
    },
    {
      "cell_type": "markdown",
      "source": [
        "##Set5 RF"
      ],
      "metadata": {
        "id": "2h8p7YFuSPO2"
      }
    },
    {
      "cell_type": "code",
      "source": [
        "RGB_A2_Set5 = table_A2Set5.drop(['H-ref','S-ref','V-ref','H-Shad','S-Shad','V-Shad','Setting','Ref','Shad','Img'], axis=1)"
      ],
      "metadata": {
        "id": "Mq-6u2SXSRV2"
      },
      "execution_count": 34,
      "outputs": []
    },
    {
      "cell_type": "code",
      "source": [
        "X_test_A2_RGB_S5 = np.array(RGB_A2_Set5)"
      ],
      "metadata": {
        "id": "94pqdE4bSXQo"
      },
      "execution_count": 35,
      "outputs": []
    },
    {
      "cell_type": "code",
      "source": [
        "y_A2_RGB_S5 =  table_A2Set5.iloc[:,14:15]"
      ],
      "metadata": {
        "id": "p8t6atQ0ScVf"
      },
      "execution_count": 36,
      "outputs": []
    },
    {
      "cell_type": "code",
      "source": [
        "y_test_A2_RGB_S5 = np.array(y_A2_RGB_S5)"
      ],
      "metadata": {
        "id": "SOaQgnXQSet6"
      },
      "execution_count": 37,
      "outputs": []
    },
    {
      "cell_type": "code",
      "source": [
        "X_train_A2_RGB_S5 = np.array(RGB_A2_concat0)"
      ],
      "metadata": {
        "id": "mE4sy67gSjPn"
      },
      "execution_count": 38,
      "outputs": []
    },
    {
      "cell_type": "code",
      "source": [
        "y_train_A2RGB_S5 = RGB_A2_concat.iloc[:,14:15]"
      ],
      "metadata": {
        "id": "esva0QPtSoF3"
      },
      "execution_count": 39,
      "outputs": []
    },
    {
      "cell_type": "code",
      "source": [
        "y_train_A2_RGB_S5 = np.array(y_train_A2RGB_S5)"
      ],
      "metadata": {
        "id": "h7ggXgFMSo3S"
      },
      "execution_count": 40,
      "outputs": []
    },
    {
      "cell_type": "code",
      "source": [
        "Model1.fit(X_train_A2_RGB_S5, y_train_A2_RGB_S5)"
      ],
      "metadata": {
        "id": "-9HRs9SySq_b",
        "colab": {
          "base_uri": "https://localhost:8080/"
        },
        "outputId": "6bff6d42-bc10-4f50-91d5-d4985a52167b"
      },
      "execution_count": 41,
      "outputs": [
        {
          "output_type": "stream",
          "name": "stderr",
          "text": [
            "/usr/local/lib/python3.7/dist-packages/ipykernel_launcher.py:1: DataConversionWarning: A column-vector y was passed when a 1d array was expected. Please change the shape of y to (n_samples,), for example using ravel().\n",
            "  \"\"\"Entry point for launching an IPython kernel.\n"
          ]
        },
        {
          "output_type": "execute_result",
          "data": {
            "text/plain": [
              "RandomForestClassifier()"
            ]
          },
          "metadata": {},
          "execution_count": 41
        }
      ]
    },
    {
      "cell_type": "code",
      "source": [
        "y_pred_A2_RGB_S5 = Model1.predict(X_test_A2_RGB_S5)"
      ],
      "metadata": {
        "id": "aoVedGmdSujn"
      },
      "execution_count": 42,
      "outputs": []
    },
    {
      "cell_type": "code",
      "source": [
        "print(\"Accuracy:\", metrics.accuracy_score(y_test_A2_RGB_S5, y_pred_A2_RGB_S5))"
      ],
      "metadata": {
        "id": "tffKgHe5SxJ8",
        "colab": {
          "base_uri": "https://localhost:8080/"
        },
        "outputId": "abb71620-9fcd-4617-dee1-43764f62a4cc"
      },
      "execution_count": 43,
      "outputs": [
        {
          "output_type": "stream",
          "name": "stdout",
          "text": [
            "Accuracy: 0.38\n"
          ]
        }
      ]
    },
    {
      "cell_type": "markdown",
      "source": [
        "##Set5 XGB"
      ],
      "metadata": {
        "id": "KS6KfLygPyAh"
      }
    },
    {
      "cell_type": "code",
      "source": [
        "RGB_A2_Set5_xgb = table_A2Set5.drop(['H-ref','S-ref','V-ref','H-Shad','S-Shad','V-Shad','Setting','Ref','Shad','Img'], axis=1)"
      ],
      "metadata": {
        "id": "693Z7WSrP24f"
      },
      "execution_count": 44,
      "outputs": []
    },
    {
      "cell_type": "code",
      "source": [
        "X_test_A2_RGB_S5_xgb  = np.array(RGB_A2_Set5_xgb )"
      ],
      "metadata": {
        "id": "7n574IVFP24l"
      },
      "execution_count": 45,
      "outputs": []
    },
    {
      "cell_type": "code",
      "source": [
        "y_A2_RGB_S5_xgb  =  table_A2Set5.iloc[:,14:15]"
      ],
      "metadata": {
        "id": "mpP9MUW1P24l"
      },
      "execution_count": 46,
      "outputs": []
    },
    {
      "cell_type": "code",
      "source": [
        "y_test_A2_RGB_S5_xgb  = np.array(y_A2_RGB_S5_xgb )"
      ],
      "metadata": {
        "id": "VuILQulTP24m"
      },
      "execution_count": 47,
      "outputs": []
    },
    {
      "cell_type": "code",
      "source": [
        "X_train_A2_RGB_S5_xgb  = np.array(RGB_A2_concat0)"
      ],
      "metadata": {
        "id": "vokXsYkdP24m"
      },
      "execution_count": 48,
      "outputs": []
    },
    {
      "cell_type": "code",
      "source": [
        "y_train_A2RGB_S5_xgb  = RGB_A2_concat.iloc[:,14:15]"
      ],
      "metadata": {
        "id": "WQmqaSywP24m"
      },
      "execution_count": 49,
      "outputs": []
    },
    {
      "cell_type": "code",
      "source": [
        "y_train_A2_RGB_S5_xgb  = np.array(y_train_A2RGB_S5_xgb )"
      ],
      "metadata": {
        "id": "iHpWXj6bP24m"
      },
      "execution_count": 50,
      "outputs": []
    },
    {
      "cell_type": "code",
      "source": [
        "Model9.fit(X_train_A2_RGB_S5_xgb , y_train_A2_RGB_S5_xgb )"
      ],
      "metadata": {
        "id": "pfUsxSB6P24m",
        "colab": {
          "base_uri": "https://localhost:8080/"
        },
        "outputId": "c232c6a9-739f-41d5-e347-5911fb74e9ef"
      },
      "execution_count": 53,
      "outputs": [
        {
          "output_type": "stream",
          "name": "stderr",
          "text": [
            "/usr/local/lib/python3.7/dist-packages/sklearn/preprocessing/_label.py:98: DataConversionWarning: A column-vector y was passed when a 1d array was expected. Please change the shape of y to (n_samples, ), for example using ravel().\n",
            "  y = column_or_1d(y, warn=True)\n",
            "/usr/local/lib/python3.7/dist-packages/sklearn/preprocessing/_label.py:133: DataConversionWarning: A column-vector y was passed when a 1d array was expected. Please change the shape of y to (n_samples, ), for example using ravel().\n",
            "  y = column_or_1d(y, warn=True)\n"
          ]
        },
        {
          "output_type": "execute_result",
          "data": {
            "text/plain": [
              "XGBClassifier(objective='multi:softprob')"
            ]
          },
          "metadata": {},
          "execution_count": 53
        }
      ]
    },
    {
      "cell_type": "code",
      "source": [
        "y_pred_A2_RGB_S5_xgb  = Model9.predict(X_test_A2_RGB_S5_xgb )"
      ],
      "metadata": {
        "id": "9m6h7ClkP24m"
      },
      "execution_count": 54,
      "outputs": []
    },
    {
      "cell_type": "code",
      "source": [
        "print(\"Accuracy:\", metrics.accuracy_score(y_test_A2_RGB_S5_xgb , y_pred_A2_RGB_S5_xgb ))"
      ],
      "metadata": {
        "id": "jwjVHBxVP24m",
        "colab": {
          "base_uri": "https://localhost:8080/"
        },
        "outputId": "5c96e3a3-04d4-4434-ff3d-8b1658dbda8d"
      },
      "execution_count": 55,
      "outputs": [
        {
          "output_type": "stream",
          "name": "stdout",
          "text": [
            "Accuracy: 0.29\n"
          ]
        }
      ]
    },
    {
      "cell_type": "markdown",
      "source": [
        "##Set6 RF "
      ],
      "metadata": {
        "id": "q_TurosdSx_0"
      }
    },
    {
      "cell_type": "code",
      "source": [
        "RGB_A2_Set6 = table_A2Set6.drop(['H-ref','S-ref','V-ref','H-Shad','S-Shad','V-Shad','Setting','Ref','Shad','Img'], axis=1)"
      ],
      "metadata": {
        "id": "sFoQZFLxS1SU"
      },
      "execution_count": 56,
      "outputs": []
    },
    {
      "cell_type": "code",
      "source": [
        "X_test_A2_RGB_S6 = np.array(RGB_A2_Set6)"
      ],
      "metadata": {
        "id": "yYj2qn6DS1SU"
      },
      "execution_count": 57,
      "outputs": []
    },
    {
      "cell_type": "code",
      "source": [
        "y_A2_RGB_S6 =  table_A2Set6.iloc[:,14:15]"
      ],
      "metadata": {
        "id": "81X1NgiRS1SU"
      },
      "execution_count": 58,
      "outputs": []
    },
    {
      "cell_type": "code",
      "source": [
        "y_test_A2_RGB_S6 = np.array(y_A2_RGB_S6)"
      ],
      "metadata": {
        "id": "6FTY-MWwS1SU"
      },
      "execution_count": 59,
      "outputs": []
    },
    {
      "cell_type": "code",
      "source": [
        "X_train_A2_RGB_S6= np.array(RGB_A2_concat0)"
      ],
      "metadata": {
        "id": "XUFZe3PhS1SV"
      },
      "execution_count": 60,
      "outputs": []
    },
    {
      "cell_type": "code",
      "source": [
        "y_train_A2RGB_S6 = RGB_A2_concat.iloc[:,14:15]"
      ],
      "metadata": {
        "id": "-EasCn8MS1SV"
      },
      "execution_count": 61,
      "outputs": []
    },
    {
      "cell_type": "code",
      "source": [
        "y_train_A2_RGB_S6 = np.array(y_train_A2RGB_S6)"
      ],
      "metadata": {
        "id": "HBUafKaPS1SV"
      },
      "execution_count": 62,
      "outputs": []
    },
    {
      "cell_type": "code",
      "source": [
        "Model2.fit(X_train_A2_RGB_S6, y_train_A2_RGB_S6)"
      ],
      "metadata": {
        "id": "jb4Wod08S1SV",
        "colab": {
          "base_uri": "https://localhost:8080/"
        },
        "outputId": "2a5a39aa-d2ab-4796-ec48-b5dd3a22e572"
      },
      "execution_count": 63,
      "outputs": [
        {
          "output_type": "stream",
          "name": "stderr",
          "text": [
            "/usr/local/lib/python3.7/dist-packages/ipykernel_launcher.py:1: DataConversionWarning: A column-vector y was passed when a 1d array was expected. Please change the shape of y to (n_samples,), for example using ravel().\n",
            "  \"\"\"Entry point for launching an IPython kernel.\n"
          ]
        },
        {
          "output_type": "execute_result",
          "data": {
            "text/plain": [
              "RandomForestClassifier()"
            ]
          },
          "metadata": {},
          "execution_count": 63
        }
      ]
    },
    {
      "cell_type": "code",
      "source": [
        "y_pred_A2_RGB_S6 = Model2.predict(X_test_A2_RGB_S6)"
      ],
      "metadata": {
        "id": "n54mJshDS1SV"
      },
      "execution_count": 64,
      "outputs": []
    },
    {
      "cell_type": "code",
      "source": [
        "print(\"Accuracy:\", metrics.accuracy_score(y_test_A2_RGB_S6, y_pred_A2_RGB_S6))"
      ],
      "metadata": {
        "id": "mR43MRqbS1SV",
        "colab": {
          "base_uri": "https://localhost:8080/"
        },
        "outputId": "9326aab3-7ede-4974-8dd5-7e0cf6674008"
      },
      "execution_count": 65,
      "outputs": [
        {
          "output_type": "stream",
          "name": "stdout",
          "text": [
            "Accuracy: 0.3175\n"
          ]
        }
      ]
    },
    {
      "cell_type": "markdown",
      "source": [
        "##Set6 XGB"
      ],
      "metadata": {
        "id": "AsKWy_WCQLez"
      }
    },
    {
      "cell_type": "code",
      "source": [
        "RGB_A2_Set6_xgb = table_A2Set6.drop(['H-ref','S-ref','V-ref','H-Shad','S-Shad','V-Shad','Setting','Ref','Shad','Img'], axis=1)"
      ],
      "metadata": {
        "id": "x8z4pN_pQQZA"
      },
      "execution_count": 66,
      "outputs": []
    },
    {
      "cell_type": "code",
      "source": [
        "X_test_A2_RGB_S6_xgb = np.array(RGB_A2_Set6_xgb)"
      ],
      "metadata": {
        "id": "wwDAyLLvQQZB"
      },
      "execution_count": 67,
      "outputs": []
    },
    {
      "cell_type": "code",
      "source": [
        "y_A2_RGB_S6_xgb =  table_A2Set6.iloc[:,14:15]"
      ],
      "metadata": {
        "id": "fUnaeh4bQQZB"
      },
      "execution_count": 68,
      "outputs": []
    },
    {
      "cell_type": "code",
      "source": [
        "y_test_A2_RGB_S6_xgb = np.array(y_A2_RGB_S6_xgb)"
      ],
      "metadata": {
        "id": "rChMGUrPQQZB"
      },
      "execution_count": 69,
      "outputs": []
    },
    {
      "cell_type": "code",
      "source": [
        "X_train_A2_RGB_S6_xgb = np.array(RGB_A2_concat0)"
      ],
      "metadata": {
        "id": "v6Vx_sbiQQZB"
      },
      "execution_count": 70,
      "outputs": []
    },
    {
      "cell_type": "code",
      "source": [
        "y_train_A2RGB_S6_xgb = RGB_A2_concat.iloc[:,14:15]"
      ],
      "metadata": {
        "id": "Qa_Jveq7QQZB"
      },
      "execution_count": 71,
      "outputs": []
    },
    {
      "cell_type": "code",
      "source": [
        "y_train_A2_RGB_S6_xgb = np.array(y_train_A2RGB_S6_xgb)"
      ],
      "metadata": {
        "id": "W-bbJoDRQQZB"
      },
      "execution_count": 72,
      "outputs": []
    },
    {
      "cell_type": "code",
      "source": [
        "Model10.fit(X_train_A2_RGB_S6_xgb, y_train_A2_RGB_S6_xgb)"
      ],
      "metadata": {
        "id": "i1US93znQQZB",
        "colab": {
          "base_uri": "https://localhost:8080/"
        },
        "outputId": "837d5d99-2fe6-4b0e-fb30-4d50aa47044e"
      },
      "execution_count": 73,
      "outputs": [
        {
          "output_type": "stream",
          "name": "stderr",
          "text": [
            "/usr/local/lib/python3.7/dist-packages/sklearn/preprocessing/_label.py:98: DataConversionWarning: A column-vector y was passed when a 1d array was expected. Please change the shape of y to (n_samples, ), for example using ravel().\n",
            "  y = column_or_1d(y, warn=True)\n",
            "/usr/local/lib/python3.7/dist-packages/sklearn/preprocessing/_label.py:133: DataConversionWarning: A column-vector y was passed when a 1d array was expected. Please change the shape of y to (n_samples, ), for example using ravel().\n",
            "  y = column_or_1d(y, warn=True)\n"
          ]
        },
        {
          "output_type": "execute_result",
          "data": {
            "text/plain": [
              "XGBClassifier(objective='multi:softprob')"
            ]
          },
          "metadata": {},
          "execution_count": 73
        }
      ]
    },
    {
      "cell_type": "code",
      "source": [
        "y_pred_A2_RGB_S6_xgb = Model10.predict(X_test_A2_RGB_S6_xgb)"
      ],
      "metadata": {
        "id": "h2CATgiWQQZB"
      },
      "execution_count": 74,
      "outputs": []
    },
    {
      "cell_type": "code",
      "source": [
        "print(\"Accuracy:\", metrics.accuracy_score(y_test_A2_RGB_S6_xgb, y_pred_A2_RGB_S6_xgb))"
      ],
      "metadata": {
        "id": "sdSktLnAQQZB",
        "colab": {
          "base_uri": "https://localhost:8080/"
        },
        "outputId": "d13b0b14-5b8e-43d7-b364-8e3548432f0e"
      },
      "execution_count": 75,
      "outputs": [
        {
          "output_type": "stream",
          "name": "stdout",
          "text": [
            "Accuracy: 0.32875\n"
          ]
        }
      ]
    },
    {
      "cell_type": "markdown",
      "source": [
        "#A4 HSV"
      ],
      "metadata": {
        "id": "bBVoUgUzRtuc"
      }
    },
    {
      "cell_type": "code",
      "source": [
        "Model3 = RandomForestClassifier()"
      ],
      "metadata": {
        "id": "5nGy-58ZUrak"
      },
      "execution_count": 76,
      "outputs": []
    },
    {
      "cell_type": "code",
      "source": [
        "Model4 = RandomForestClassifier()"
      ],
      "metadata": {
        "id": "M38Jiw1-UruB"
      },
      "execution_count": 77,
      "outputs": []
    },
    {
      "cell_type": "code",
      "source": [
        "Model11 = xgb.XGBClassifier()"
      ],
      "metadata": {
        "id": "dKDhW06qO731"
      },
      "execution_count": 78,
      "outputs": []
    },
    {
      "cell_type": "code",
      "source": [
        "Model12 = xgb.XGBClassifier()"
      ],
      "metadata": {
        "id": "G0NtQEkoO8Ih"
      },
      "execution_count": 79,
      "outputs": []
    },
    {
      "cell_type": "code",
      "source": [
        "table_A4Set1 = pd.read_excel(Set1, sheet_name='A4_1')"
      ],
      "metadata": {
        "id": "-FrXtgXlRySJ"
      },
      "execution_count": 80,
      "outputs": []
    },
    {
      "cell_type": "code",
      "source": [
        "table_A4Set2 = pd.read_excel(Set2, sheet_name='A4_2')"
      ],
      "metadata": {
        "id": "GIT2W9fBRySJ"
      },
      "execution_count": 81,
      "outputs": []
    },
    {
      "cell_type": "code",
      "source": [
        "table_A4Set3 = pd.read_excel(Set3, sheet_name='A4_3')"
      ],
      "metadata": {
        "id": "eKzzOVnyRySK"
      },
      "execution_count": 82,
      "outputs": []
    },
    {
      "cell_type": "code",
      "source": [
        "table_A4Set4 = pd.read_excel(Set4, sheet_name='A4_4')"
      ],
      "metadata": {
        "id": "FE5b7R-gRySK"
      },
      "execution_count": 83,
      "outputs": []
    },
    {
      "cell_type": "code",
      "source": [
        "table_A4Set5 = pd.read_excel(Set5, sheet_name='A4_5')"
      ],
      "metadata": {
        "id": "TgvJ_w7uRySK"
      },
      "execution_count": 84,
      "outputs": []
    },
    {
      "cell_type": "code",
      "source": [
        "table_A4Set6 = pd.read_excel(Set6, sheet_name='A4_6')"
      ],
      "metadata": {
        "id": "QEgulFpfRySK"
      },
      "execution_count": 85,
      "outputs": []
    },
    {
      "cell_type": "code",
      "source": [
        "HSV_A4_Set1 = table_A4Set1"
      ],
      "metadata": {
        "id": "QSZJq1FITGSx"
      },
      "execution_count": 86,
      "outputs": []
    },
    {
      "cell_type": "code",
      "source": [
        "HSV_A4_Set2 = table_A4Set2"
      ],
      "metadata": {
        "id": "6v0FO1rMTGSx"
      },
      "execution_count": 87,
      "outputs": []
    },
    {
      "cell_type": "code",
      "source": [
        "HSV_A4_Set3 = table_A4Set3"
      ],
      "metadata": {
        "id": "XeY8NacyTGSx"
      },
      "execution_count": 88,
      "outputs": []
    },
    {
      "cell_type": "code",
      "source": [
        "HSV_A4_Set4 = table_A4Set4"
      ],
      "metadata": {
        "id": "hbsBSfoKTGSx"
      },
      "execution_count": 89,
      "outputs": []
    },
    {
      "cell_type": "code",
      "source": [
        "HSV_A4_concat = pd.concat([HSV_A4_Set1,HSV_A4_Set2,HSV_A4_Set3,HSV_A4_Set4])"
      ],
      "metadata": {
        "id": "sXPr6_cDTGSy"
      },
      "execution_count": 90,
      "outputs": []
    },
    {
      "cell_type": "code",
      "source": [
        "HSV_A4_concat0 = HSV_A4_concat.drop(['R-ref','G-ref','B-ref','R-Shad','G-Shad','B-Shad','Setting','Ref','Shad','Img'], axis=1)"
      ],
      "metadata": {
        "id": "obdpVEe2TGSy"
      },
      "execution_count": 91,
      "outputs": []
    },
    {
      "cell_type": "markdown",
      "source": [
        "##Set5 RF"
      ],
      "metadata": {
        "id": "mHaiZDLkT0lB"
      }
    },
    {
      "cell_type": "code",
      "source": [
        "HSV_A4_Set5 = table_A4Set5.drop(['R-ref','G-ref','B-ref','R-Shad','G-Shad','B-Shad','Setting','Ref','Shad','Img'], axis=1)"
      ],
      "metadata": {
        "id": "LD3-yWaYUT2z"
      },
      "execution_count": 92,
      "outputs": []
    },
    {
      "cell_type": "code",
      "source": [
        "X_test_A4_HSV_S5 = np.array(HSV_A4_Set5)"
      ],
      "metadata": {
        "id": "X6XUDufLUT2z"
      },
      "execution_count": 93,
      "outputs": []
    },
    {
      "cell_type": "code",
      "source": [
        "y_A4_HSV_S5 =  table_A4Set5.iloc[:,14:15]"
      ],
      "metadata": {
        "id": "A1SN_DIaUT20"
      },
      "execution_count": 94,
      "outputs": []
    },
    {
      "cell_type": "code",
      "source": [
        "y_test_A4_HSV_S5 = np.array(y_A4_HSV_S5)"
      ],
      "metadata": {
        "id": "lyPp6LHeUT20"
      },
      "execution_count": 95,
      "outputs": []
    },
    {
      "cell_type": "code",
      "source": [
        "X_train_A4_HSV_S5 = np.array(HSV_A4_concat0)"
      ],
      "metadata": {
        "id": "m9u70LYOUT20"
      },
      "execution_count": 96,
      "outputs": []
    },
    {
      "cell_type": "code",
      "source": [
        "y_train_A4HSV_S5 = HSV_A4_concat.iloc[:,14:15]"
      ],
      "metadata": {
        "id": "BV8m5UNQUT20"
      },
      "execution_count": 97,
      "outputs": []
    },
    {
      "cell_type": "code",
      "source": [
        "y_train_A4_HSV_S5 = np.array(y_train_A4HSV_S5)"
      ],
      "metadata": {
        "id": "G4IW3HrnUT20"
      },
      "execution_count": 98,
      "outputs": []
    },
    {
      "cell_type": "code",
      "source": [
        "Model3.fit(X_train_A4_HSV_S5, y_train_A4_HSV_S5)"
      ],
      "metadata": {
        "id": "N2sMHN7oUT20",
        "colab": {
          "base_uri": "https://localhost:8080/"
        },
        "outputId": "4bb00f5b-b3ab-474e-bcda-3e0e98fd56cc"
      },
      "execution_count": 99,
      "outputs": [
        {
          "output_type": "stream",
          "name": "stderr",
          "text": [
            "/usr/local/lib/python3.7/dist-packages/ipykernel_launcher.py:1: DataConversionWarning: A column-vector y was passed when a 1d array was expected. Please change the shape of y to (n_samples,), for example using ravel().\n",
            "  \"\"\"Entry point for launching an IPython kernel.\n"
          ]
        },
        {
          "output_type": "execute_result",
          "data": {
            "text/plain": [
              "RandomForestClassifier()"
            ]
          },
          "metadata": {},
          "execution_count": 99
        }
      ]
    },
    {
      "cell_type": "code",
      "source": [
        "y_pred_A4_HSV_S5 = Model3.predict(X_test_A4_HSV_S5)"
      ],
      "metadata": {
        "id": "ZPRP2U63UT20"
      },
      "execution_count": 100,
      "outputs": []
    },
    {
      "cell_type": "code",
      "source": [
        "print(\"Accuracy:\", metrics.accuracy_score(y_test_A4_HSV_S5, y_pred_A4_HSV_S5))"
      ],
      "metadata": {
        "id": "fRrtQhP3UT20",
        "colab": {
          "base_uri": "https://localhost:8080/"
        },
        "outputId": "e39a7e5f-8657-4958-e210-0c8f8051a0f3"
      },
      "execution_count": 101,
      "outputs": [
        {
          "output_type": "stream",
          "name": "stdout",
          "text": [
            "Accuracy: 0.69125\n"
          ]
        }
      ]
    },
    {
      "cell_type": "markdown",
      "source": [
        "##Set5 XGB"
      ],
      "metadata": {
        "id": "JqVkLPlIQvDn"
      }
    },
    {
      "cell_type": "code",
      "source": [
        "HSV_A4_Set5_xgb = table_A4Set5.drop(['R-ref','G-ref','B-ref','R-Shad','G-Shad','B-Shad','Setting','Ref','Shad','Img'], axis=1)"
      ],
      "metadata": {
        "id": "6dl_0EB9Q0Oa"
      },
      "execution_count": 102,
      "outputs": []
    },
    {
      "cell_type": "code",
      "source": [
        "X_test_A4_HSV_S5_xgb = np.array(HSV_A4_Set5_xgb)"
      ],
      "metadata": {
        "id": "wMOJsHL8Q0Oa"
      },
      "execution_count": 103,
      "outputs": []
    },
    {
      "cell_type": "code",
      "source": [
        "y_A4_HSV_S5_xgb =  table_A4Set5.iloc[:,14:15]"
      ],
      "metadata": {
        "id": "asdrH7F8Q0Oa"
      },
      "execution_count": 104,
      "outputs": []
    },
    {
      "cell_type": "code",
      "source": [
        "y_test_A4_HSV_S5_xgb = np.array(y_A4_HSV_S5_xgb)"
      ],
      "metadata": {
        "id": "OfYeEPeCQ0Oa"
      },
      "execution_count": 105,
      "outputs": []
    },
    {
      "cell_type": "code",
      "source": [
        "X_train_A4_HSV_S5_xgb = np.array(HSV_A4_concat0)"
      ],
      "metadata": {
        "id": "faNe70EYQ0Oa"
      },
      "execution_count": 106,
      "outputs": []
    },
    {
      "cell_type": "code",
      "source": [
        "y_train_A4HSV_S5_xgb = HSV_A4_concat.iloc[:,14:15]"
      ],
      "metadata": {
        "id": "oo-AgNr3Q0Oa"
      },
      "execution_count": 107,
      "outputs": []
    },
    {
      "cell_type": "code",
      "source": [
        "y_train_A4_HSV_S5_xgb = np.array(y_train_A4HSV_S5_xgb)"
      ],
      "metadata": {
        "id": "rJMLOuBMQ0Oa"
      },
      "execution_count": 108,
      "outputs": []
    },
    {
      "cell_type": "code",
      "source": [
        "Model11.fit(X_train_A4_HSV_S5_xgb, y_train_A4_HSV_S5_xgb)"
      ],
      "metadata": {
        "id": "CbeY2qjOQ0Ob",
        "colab": {
          "base_uri": "https://localhost:8080/"
        },
        "outputId": "1aad1b44-1dc9-422e-de5b-88def779284f"
      },
      "execution_count": 109,
      "outputs": [
        {
          "output_type": "stream",
          "name": "stderr",
          "text": [
            "/usr/local/lib/python3.7/dist-packages/sklearn/preprocessing/_label.py:98: DataConversionWarning: A column-vector y was passed when a 1d array was expected. Please change the shape of y to (n_samples, ), for example using ravel().\n",
            "  y = column_or_1d(y, warn=True)\n",
            "/usr/local/lib/python3.7/dist-packages/sklearn/preprocessing/_label.py:133: DataConversionWarning: A column-vector y was passed when a 1d array was expected. Please change the shape of y to (n_samples, ), for example using ravel().\n",
            "  y = column_or_1d(y, warn=True)\n"
          ]
        },
        {
          "output_type": "execute_result",
          "data": {
            "text/plain": [
              "XGBClassifier(objective='multi:softprob')"
            ]
          },
          "metadata": {},
          "execution_count": 109
        }
      ]
    },
    {
      "cell_type": "code",
      "source": [
        "y_pred_A4_HSV_S5_xgb = Model11.predict(X_test_A4_HSV_S5_xgb)"
      ],
      "metadata": {
        "id": "A8AlucbUQ0Ob"
      },
      "execution_count": 110,
      "outputs": []
    },
    {
      "cell_type": "code",
      "source": [
        "print(\"Accuracy:\", metrics.accuracy_score(y_test_A4_HSV_S5_xgb, y_pred_A4_HSV_S5_xgb))"
      ],
      "metadata": {
        "id": "lMUDYkQMQ0Ob",
        "colab": {
          "base_uri": "https://localhost:8080/"
        },
        "outputId": "116f1554-2571-498c-a570-40825555971f"
      },
      "execution_count": 111,
      "outputs": [
        {
          "output_type": "stream",
          "name": "stdout",
          "text": [
            "Accuracy: 0.6475\n"
          ]
        }
      ]
    },
    {
      "cell_type": "markdown",
      "source": [
        "##Set6 RF"
      ],
      "metadata": {
        "id": "CHwuzuNdT2hS"
      }
    },
    {
      "cell_type": "code",
      "source": [
        "HSV_A4_Set6 = table_A4Set6.drop(['R-ref','G-ref','B-ref','R-Shad','G-Shad','B-Shad','Setting','Ref','Shad','Img'], axis=1)"
      ],
      "metadata": {
        "id": "f44xCEeyUv7L"
      },
      "execution_count": 112,
      "outputs": []
    },
    {
      "cell_type": "code",
      "source": [
        "X_test_A4_HSV_S6 = np.array(HSV_A4_Set6)"
      ],
      "metadata": {
        "id": "s-xo_UkXUv7M"
      },
      "execution_count": 113,
      "outputs": []
    },
    {
      "cell_type": "code",
      "source": [
        "y_A4_HSV_S6=  table_A4Set6.iloc[:,14:15]"
      ],
      "metadata": {
        "id": "c0hFdQGyUv7M"
      },
      "execution_count": 114,
      "outputs": []
    },
    {
      "cell_type": "code",
      "source": [
        "y_test_A4_HSV_S6 = np.array(y_A4_HSV_S6)"
      ],
      "metadata": {
        "id": "J5Nzt4epUv7M"
      },
      "execution_count": 115,
      "outputs": []
    },
    {
      "cell_type": "code",
      "source": [
        "X_train_A4_HSV_S6 = np.array(HSV_A4_concat0)"
      ],
      "metadata": {
        "id": "NLnoXcvyUv7M"
      },
      "execution_count": 116,
      "outputs": []
    },
    {
      "cell_type": "code",
      "source": [
        "y_train_A4HSV_S6 = HSV_A4_concat.iloc[:,14:15]"
      ],
      "metadata": {
        "id": "RIztqv_MUv7M"
      },
      "execution_count": 117,
      "outputs": []
    },
    {
      "cell_type": "code",
      "source": [
        "y_train_A4_HSV_S6 = np.array(y_train_A4HSV_S6)"
      ],
      "metadata": {
        "id": "xXjTlmuFUv7M"
      },
      "execution_count": 118,
      "outputs": []
    },
    {
      "cell_type": "code",
      "source": [
        "Model4.fit(X_train_A4_HSV_S6, y_train_A4_HSV_S6)"
      ],
      "metadata": {
        "id": "f9e_toWRUv7M",
        "colab": {
          "base_uri": "https://localhost:8080/"
        },
        "outputId": "19a89cef-7a9f-480c-e2e1-6a03402996f5"
      },
      "execution_count": 119,
      "outputs": [
        {
          "output_type": "stream",
          "name": "stderr",
          "text": [
            "/usr/local/lib/python3.7/dist-packages/ipykernel_launcher.py:1: DataConversionWarning: A column-vector y was passed when a 1d array was expected. Please change the shape of y to (n_samples,), for example using ravel().\n",
            "  \"\"\"Entry point for launching an IPython kernel.\n"
          ]
        },
        {
          "output_type": "execute_result",
          "data": {
            "text/plain": [
              "RandomForestClassifier()"
            ]
          },
          "metadata": {},
          "execution_count": 119
        }
      ]
    },
    {
      "cell_type": "code",
      "source": [
        "y_pred_A4_HSV_S6 = Model4.predict(X_test_A4_HSV_S6)"
      ],
      "metadata": {
        "id": "N7a_yHqOUv7M"
      },
      "execution_count": 120,
      "outputs": []
    },
    {
      "cell_type": "code",
      "source": [
        "print(\"Accuracy:\", metrics.accuracy_score(y_test_A4_HSV_S6, y_pred_A4_HSV_S6))"
      ],
      "metadata": {
        "id": "4xvtXn3PUv7M",
        "colab": {
          "base_uri": "https://localhost:8080/"
        },
        "outputId": "8ccf9330-b018-4770-cbe8-1f63cc91c1b5"
      },
      "execution_count": 121,
      "outputs": [
        {
          "output_type": "stream",
          "name": "stdout",
          "text": [
            "Accuracy: 0.33625\n"
          ]
        }
      ]
    },
    {
      "cell_type": "markdown",
      "source": [
        "##Set6 XGB"
      ],
      "metadata": {
        "id": "6Sd5SOR8RAO-"
      }
    },
    {
      "cell_type": "code",
      "source": [
        "HSV_A4_Set6_xgb = table_A4Set6.drop(['R-ref','G-ref','B-ref','R-Shad','G-Shad','B-Shad','Setting','Ref','Shad','Img'], axis=1)"
      ],
      "metadata": {
        "id": "RTl2OSLuRFVk"
      },
      "execution_count": 122,
      "outputs": []
    },
    {
      "cell_type": "code",
      "source": [
        "X_test_A4_HSV_S6_xgb = np.array(HSV_A4_Set6_xgb)"
      ],
      "metadata": {
        "id": "hDaxSwD5RFVk"
      },
      "execution_count": 123,
      "outputs": []
    },
    {
      "cell_type": "code",
      "source": [
        "y_A4_HSV_S6_xgb =  table_A4Set6.iloc[:,14:15]"
      ],
      "metadata": {
        "id": "edEh3JbYRFVk"
      },
      "execution_count": 124,
      "outputs": []
    },
    {
      "cell_type": "code",
      "source": [
        "y_test_A4_HSV_S6_xgb = np.array(y_A4_HSV_S6_xgb)"
      ],
      "metadata": {
        "id": "d0Zn8mtzRFVk"
      },
      "execution_count": 125,
      "outputs": []
    },
    {
      "cell_type": "code",
      "source": [
        "X_train_A4_HSV_S6_xgb = np.array(HSV_A4_concat0)"
      ],
      "metadata": {
        "id": "9xeIPltbRFVk"
      },
      "execution_count": 126,
      "outputs": []
    },
    {
      "cell_type": "code",
      "source": [
        "y_train_A4HSV_S6_xgb = HSV_A4_concat.iloc[:,14:15]"
      ],
      "metadata": {
        "id": "vkfofej5RFVk"
      },
      "execution_count": 127,
      "outputs": []
    },
    {
      "cell_type": "code",
      "source": [
        "y_train_A4_HSV_S6_xgb = np.array(y_train_A4HSV_S6_xgb)"
      ],
      "metadata": {
        "id": "X4DoWGjXRFVk"
      },
      "execution_count": 128,
      "outputs": []
    },
    {
      "cell_type": "code",
      "source": [
        "Model12.fit(X_train_A4_HSV_S6_xgb, y_train_A4_HSV_S6_xgb)"
      ],
      "metadata": {
        "id": "2wy6XerhRFVk",
        "colab": {
          "base_uri": "https://localhost:8080/"
        },
        "outputId": "4f9b6f6a-fed1-42ec-f348-647edcb46fc9"
      },
      "execution_count": 129,
      "outputs": [
        {
          "output_type": "stream",
          "name": "stderr",
          "text": [
            "/usr/local/lib/python3.7/dist-packages/sklearn/preprocessing/_label.py:98: DataConversionWarning: A column-vector y was passed when a 1d array was expected. Please change the shape of y to (n_samples, ), for example using ravel().\n",
            "  y = column_or_1d(y, warn=True)\n",
            "/usr/local/lib/python3.7/dist-packages/sklearn/preprocessing/_label.py:133: DataConversionWarning: A column-vector y was passed when a 1d array was expected. Please change the shape of y to (n_samples, ), for example using ravel().\n",
            "  y = column_or_1d(y, warn=True)\n"
          ]
        },
        {
          "output_type": "execute_result",
          "data": {
            "text/plain": [
              "XGBClassifier(objective='multi:softprob')"
            ]
          },
          "metadata": {},
          "execution_count": 129
        }
      ]
    },
    {
      "cell_type": "code",
      "source": [
        "y_pred_A4_HSV_S6_xgb = Model12.predict(X_test_A4_HSV_S6_xgb)"
      ],
      "metadata": {
        "id": "NMHTjFMSRFVl"
      },
      "execution_count": 130,
      "outputs": []
    },
    {
      "cell_type": "code",
      "source": [
        "print(\"Accuracy:\", metrics.accuracy_score(y_test_A4_HSV_S6_xgb, y_pred_A4_HSV_S6_xgb))"
      ],
      "metadata": {
        "id": "RG7ZsYdfRFVl",
        "colab": {
          "base_uri": "https://localhost:8080/"
        },
        "outputId": "63961346-d264-4f09-8606-8a0a9f4266ed"
      },
      "execution_count": 131,
      "outputs": [
        {
          "output_type": "stream",
          "name": "stdout",
          "text": [
            "Accuracy: 0.34\n"
          ]
        }
      ]
    },
    {
      "cell_type": "markdown",
      "source": [
        "#D4 "
      ],
      "metadata": {
        "id": "I48A_8Y2K8jk"
      }
    },
    {
      "cell_type": "code",
      "source": [
        "Model5 = svm.SVC(kernel='poly')"
      ],
      "metadata": {
        "id": "TLNEP4cUOxTT"
      },
      "execution_count": 132,
      "outputs": []
    },
    {
      "cell_type": "code",
      "source": [
        "Model6 = svm.SVC(kernel='poly')"
      ],
      "metadata": {
        "id": "F2yl90pGO0dJ"
      },
      "execution_count": 133,
      "outputs": []
    },
    {
      "cell_type": "code",
      "source": [
        "Model7 = svm.SVC(kernel='poly')"
      ],
      "metadata": {
        "id": "5wq2uzJ3O02M"
      },
      "execution_count": 134,
      "outputs": []
    },
    {
      "cell_type": "code",
      "source": [
        "Model8 = svm.SVC(kernel='poly')"
      ],
      "metadata": {
        "id": "sZse12nFO1H-"
      },
      "execution_count": 135,
      "outputs": []
    },
    {
      "cell_type": "code",
      "source": [
        "table_D4Set1 = pd.read_excel(Set1, sheet_name='D4_1')"
      ],
      "metadata": {
        "id": "5lssFROfK-l1"
      },
      "execution_count": 136,
      "outputs": []
    },
    {
      "cell_type": "code",
      "source": [
        "table_D4Set2 = pd.read_excel(Set2, sheet_name='D4_2')"
      ],
      "metadata": {
        "id": "G_K1iVC1K-l1"
      },
      "execution_count": 137,
      "outputs": []
    },
    {
      "cell_type": "code",
      "source": [
        "table_D4Set3 = pd.read_excel(Set3, sheet_name='D4_3')"
      ],
      "metadata": {
        "id": "1pHS_BBqK-l1"
      },
      "execution_count": 138,
      "outputs": []
    },
    {
      "cell_type": "code",
      "source": [
        "table_D4Set4 = pd.read_excel(Set4, sheet_name='D4_4')"
      ],
      "metadata": {
        "id": "AXJF194TK-l1"
      },
      "execution_count": 139,
      "outputs": []
    },
    {
      "cell_type": "code",
      "source": [
        "table_D4Set5 = pd.read_excel(Set5, sheet_name='D4_5')"
      ],
      "metadata": {
        "id": "ndKnqxARK-l1"
      },
      "execution_count": 140,
      "outputs": []
    },
    {
      "cell_type": "code",
      "source": [
        "table_D4Set6 = pd.read_excel(Set6, sheet_name='D4_6')"
      ],
      "metadata": {
        "id": "K6KedRPxK-l2"
      },
      "execution_count": 141,
      "outputs": []
    },
    {
      "cell_type": "code",
      "source": [
        "RGB_D4_Set1 = table_A2Set1"
      ],
      "metadata": {
        "id": "eC4Myxa3K-l2"
      },
      "execution_count": 142,
      "outputs": []
    },
    {
      "cell_type": "code",
      "source": [
        "RGB_D4_Set2 = table_A2Set2"
      ],
      "metadata": {
        "id": "BL1Kp-h2K-l2"
      },
      "execution_count": 143,
      "outputs": []
    },
    {
      "cell_type": "code",
      "source": [
        "RGB_D4_Set3 = table_A2Set3"
      ],
      "metadata": {
        "id": "oUfKl7WQK-l2"
      },
      "execution_count": 144,
      "outputs": []
    },
    {
      "cell_type": "code",
      "source": [
        "RGB_D4_Set4 = table_A2Set4"
      ],
      "metadata": {
        "id": "TzKS_rvrK-l2"
      },
      "execution_count": 145,
      "outputs": []
    },
    {
      "cell_type": "code",
      "source": [
        "RGB_D4_concat = pd.concat([RGB_D4_Set1,RGB_D4_Set2,RGB_D4_Set3,RGB_D4_Set4])"
      ],
      "metadata": {
        "id": "iR6qKXqJK-l2"
      },
      "execution_count": 146,
      "outputs": []
    },
    {
      "cell_type": "code",
      "source": [
        "HSV_D4_concat = pd.concat([RGB_D4_Set1,RGB_D4_Set2,RGB_D4_Set3,RGB_D4_Set4])"
      ],
      "metadata": {
        "id": "rt3tKhnoNVxd"
      },
      "execution_count": 147,
      "outputs": []
    },
    {
      "cell_type": "code",
      "source": [
        "RGB_D4_concat0 = RGB_D4_concat.drop(['H-ref','S-ref','V-ref','H-Shad','S-Shad','V-Shad','Setting','Ref','Shad','Img'], axis=1)"
      ],
      "metadata": {
        "id": "zo2SE7VeK-l2"
      },
      "execution_count": 148,
      "outputs": []
    },
    {
      "cell_type": "code",
      "source": [
        "HSV_D4_concat0 = HSV_D4_concat.drop(['R-ref','G-ref','B-ref','R-Shad','G-Shad','B-Shad','Setting','Ref','Shad','Img'], axis=1)"
      ],
      "metadata": {
        "id": "32dnYw09MdYs"
      },
      "execution_count": 151,
      "outputs": []
    },
    {
      "cell_type": "markdown",
      "source": [
        "##Set5 RGB"
      ],
      "metadata": {
        "id": "yT2SHvdZLthV"
      }
    },
    {
      "cell_type": "code",
      "source": [
        "RGB_D4_Set5 = table_D4Set5.drop(['H-ref','S-ref','V-ref','H-Shad','S-Shad','V-Shad','Setting','Ref','Shad','Img'], axis=1)"
      ],
      "metadata": {
        "id": "6xSujy9OL0z1"
      },
      "execution_count": 152,
      "outputs": []
    },
    {
      "cell_type": "code",
      "source": [
        "X_test_D4_RGB_S5 = np.array(RGB_D4_Set5)"
      ],
      "metadata": {
        "id": "RfdK8ILOL0z1"
      },
      "execution_count": 153,
      "outputs": []
    },
    {
      "cell_type": "code",
      "source": [
        "y_D4_RGB_S5 =  table_D4Set5.iloc[:,14:15]"
      ],
      "metadata": {
        "id": "C9eh4Ia2L0z1"
      },
      "execution_count": 154,
      "outputs": []
    },
    {
      "cell_type": "code",
      "source": [
        "y_test_D4_RGB_S5 = np.array(y_D4_RGB_S5)"
      ],
      "metadata": {
        "id": "otb14sCPL0z1"
      },
      "execution_count": 155,
      "outputs": []
    },
    {
      "cell_type": "code",
      "source": [
        "X_train_D4_RGB_S5 = np.array(RGB_D4_concat0)"
      ],
      "metadata": {
        "id": "EROAb4g_L0z2"
      },
      "execution_count": 156,
      "outputs": []
    },
    {
      "cell_type": "code",
      "source": [
        "y_train_D4RGB_S5 = RGB_D4_concat.iloc[:,14:15]"
      ],
      "metadata": {
        "id": "ky41hYJsL0z2"
      },
      "execution_count": 157,
      "outputs": []
    },
    {
      "cell_type": "code",
      "source": [
        "y_train_D4_RGB_S5 = np.array(y_train_D4RGB_S5)"
      ],
      "metadata": {
        "id": "Nc5KxmRQL0z2"
      },
      "execution_count": 158,
      "outputs": []
    },
    {
      "cell_type": "code",
      "source": [
        "Model5.fit(X_train_D4_RGB_S5, y_train_D4_RGB_S5)"
      ],
      "metadata": {
        "id": "MNJEb5eiL0z2",
        "colab": {
          "base_uri": "https://localhost:8080/"
        },
        "outputId": "ede13174-22d4-4658-b7f5-dd74fda86e37"
      },
      "execution_count": 159,
      "outputs": [
        {
          "output_type": "stream",
          "name": "stderr",
          "text": [
            "/usr/local/lib/python3.7/dist-packages/sklearn/utils/validation.py:993: DataConversionWarning: A column-vector y was passed when a 1d array was expected. Please change the shape of y to (n_samples, ), for example using ravel().\n",
            "  y = column_or_1d(y, warn=True)\n"
          ]
        },
        {
          "output_type": "execute_result",
          "data": {
            "text/plain": [
              "SVC(kernel='poly')"
            ]
          },
          "metadata": {},
          "execution_count": 159
        }
      ]
    },
    {
      "cell_type": "code",
      "source": [
        "y_pred_D4_RGB_S5 = Model1.predict(X_test_D4_RGB_S5)"
      ],
      "metadata": {
        "id": "ZiuN_nrLL0z2"
      },
      "execution_count": 160,
      "outputs": []
    },
    {
      "cell_type": "code",
      "source": [
        "print(\"Accuracy:\", metrics.accuracy_score(y_test_D4_RGB_S5, y_pred_D4_RGB_S5))"
      ],
      "metadata": {
        "id": "xzDQaJYeL0z2",
        "colab": {
          "base_uri": "https://localhost:8080/"
        },
        "outputId": "e1c2fedf-c35f-4316-8f5d-d9dc964740cd"
      },
      "execution_count": 161,
      "outputs": [
        {
          "output_type": "stream",
          "name": "stdout",
          "text": [
            "Accuracy: 0.23625\n"
          ]
        }
      ]
    },
    {
      "cell_type": "markdown",
      "source": [
        "##Set6 RGB"
      ],
      "metadata": {
        "id": "eA9Vn4D1MAxP"
      }
    },
    {
      "cell_type": "code",
      "source": [
        "RGB_D4_Set6 = table_D4Set6.drop(['H-ref','S-ref','V-ref','H-Shad','S-Shad','V-Shad','Setting','Ref','Shad','Img'], axis=1)"
      ],
      "metadata": {
        "id": "iUlyUFJlMDVo"
      },
      "execution_count": 162,
      "outputs": []
    },
    {
      "cell_type": "code",
      "source": [
        "X_test_D4_RGB_S6 = np.array(RGB_D4_Set6)"
      ],
      "metadata": {
        "id": "eQgV-CkXMDVo"
      },
      "execution_count": 163,
      "outputs": []
    },
    {
      "cell_type": "code",
      "source": [
        "y_D4_RGB_S6 =  table_D4Set6.iloc[:,14:15]"
      ],
      "metadata": {
        "id": "CF9pU0FtMDVp"
      },
      "execution_count": 164,
      "outputs": []
    },
    {
      "cell_type": "code",
      "source": [
        "y_test_D4_RGB_S6 = np.array(y_D4_RGB_S6)"
      ],
      "metadata": {
        "id": "1kqtdbElMDVp"
      },
      "execution_count": 165,
      "outputs": []
    },
    {
      "cell_type": "code",
      "source": [
        "X_train_D4_RGB_S6 = np.array(RGB_D4_concat0)"
      ],
      "metadata": {
        "id": "qNFU7vqOMDVp"
      },
      "execution_count": 166,
      "outputs": []
    },
    {
      "cell_type": "code",
      "source": [
        "y_train_D4RGB_S6 = RGB_D4_concat.iloc[:,14:15]"
      ],
      "metadata": {
        "id": "WNvAuTV-MDVp"
      },
      "execution_count": 167,
      "outputs": []
    },
    {
      "cell_type": "code",
      "source": [
        "y_train_D4_RGB_S6 = np.array(y_train_D4RGB_S6)"
      ],
      "metadata": {
        "id": "FKriw0KuMDVp"
      },
      "execution_count": 168,
      "outputs": []
    },
    {
      "cell_type": "code",
      "source": [
        "Model6.fit(X_train_D4_RGB_S6, y_train_D4_RGB_S6)"
      ],
      "metadata": {
        "id": "yBVp22CtMDVq",
        "colab": {
          "base_uri": "https://localhost:8080/"
        },
        "outputId": "881996cd-b70f-40f1-af7c-2c71caa9f41b"
      },
      "execution_count": 169,
      "outputs": [
        {
          "output_type": "stream",
          "name": "stderr",
          "text": [
            "/usr/local/lib/python3.7/dist-packages/sklearn/utils/validation.py:993: DataConversionWarning: A column-vector y was passed when a 1d array was expected. Please change the shape of y to (n_samples, ), for example using ravel().\n",
            "  y = column_or_1d(y, warn=True)\n"
          ]
        },
        {
          "output_type": "execute_result",
          "data": {
            "text/plain": [
              "SVC(kernel='poly')"
            ]
          },
          "metadata": {},
          "execution_count": 169
        }
      ]
    },
    {
      "cell_type": "code",
      "source": [
        "y_pred_D4_RGB_S6 = Model1.predict(X_test_D4_RGB_S6)"
      ],
      "metadata": {
        "id": "3-gRSn9lMDVq"
      },
      "execution_count": 170,
      "outputs": []
    },
    {
      "cell_type": "code",
      "source": [
        "print(\"Accuracy:\", metrics.accuracy_score(y_test_D4_RGB_S6, y_pred_D4_RGB_S6))"
      ],
      "metadata": {
        "id": "jNI8OUqcMDVr",
        "colab": {
          "base_uri": "https://localhost:8080/"
        },
        "outputId": "f0117d47-c728-401a-eb2e-d3780d27f7e6"
      },
      "execution_count": 171,
      "outputs": [
        {
          "output_type": "stream",
          "name": "stdout",
          "text": [
            "Accuracy: 0.385\n"
          ]
        }
      ]
    },
    {
      "cell_type": "markdown",
      "source": [
        "##Set5 HSV"
      ],
      "metadata": {
        "id": "fBREyJFFMopk"
      }
    },
    {
      "cell_type": "code",
      "source": [
        "HSV_D4_Set5 = table_D4Set5.drop(['R-ref','G-ref','B-ref','R-Shad','G-Shad','B-Shad','Setting','Ref','Shad','Img'], axis=1)"
      ],
      "metadata": {
        "id": "jDL9_0LANBer"
      },
      "execution_count": 172,
      "outputs": []
    },
    {
      "cell_type": "code",
      "source": [
        "X_test_D4_HSV_S5 = np.array(HSV_D4_Set5)"
      ],
      "metadata": {
        "id": "_-ICFmTjNBer"
      },
      "execution_count": 173,
      "outputs": []
    },
    {
      "cell_type": "code",
      "source": [
        "y_D4_HSV_S5 =  table_D4Set5.iloc[:,14:15]"
      ],
      "metadata": {
        "id": "QtVxc8cVNBer"
      },
      "execution_count": 174,
      "outputs": []
    },
    {
      "cell_type": "code",
      "source": [
        "y_test_D4_HSV_S5 = np.array(y_D4_HSV_S5)"
      ],
      "metadata": {
        "id": "u7jOyAxzNBer"
      },
      "execution_count": 175,
      "outputs": []
    },
    {
      "cell_type": "code",
      "source": [
        "X_train_D4_HSV_S5 = np.array(HSV_D4_concat0)"
      ],
      "metadata": {
        "id": "g_h3n4jvNBer"
      },
      "execution_count": 176,
      "outputs": []
    },
    {
      "cell_type": "code",
      "source": [
        "y_train_D4HSV_S5 = HSV_D4_concat.iloc[:,14:15]"
      ],
      "metadata": {
        "id": "FHItY4m2NBer"
      },
      "execution_count": 177,
      "outputs": []
    },
    {
      "cell_type": "code",
      "source": [
        "y_train_D4_HSV_S5 = np.array(y_train_D4HSV_S5)"
      ],
      "metadata": {
        "id": "VxokSJ0FNBes"
      },
      "execution_count": 178,
      "outputs": []
    },
    {
      "cell_type": "code",
      "source": [
        "Model7.fit(X_train_D4_HSV_S5, y_train_D4_HSV_S5)"
      ],
      "metadata": {
        "id": "Rc9OBa8bNBes",
        "colab": {
          "base_uri": "https://localhost:8080/"
        },
        "outputId": "8a523800-0657-4b83-c8cc-c08d950fe562"
      },
      "execution_count": 179,
      "outputs": [
        {
          "output_type": "stream",
          "name": "stderr",
          "text": [
            "/usr/local/lib/python3.7/dist-packages/sklearn/utils/validation.py:993: DataConversionWarning: A column-vector y was passed when a 1d array was expected. Please change the shape of y to (n_samples, ), for example using ravel().\n",
            "  y = column_or_1d(y, warn=True)\n"
          ]
        },
        {
          "output_type": "execute_result",
          "data": {
            "text/plain": [
              "SVC(kernel='poly')"
            ]
          },
          "metadata": {},
          "execution_count": 179
        }
      ]
    },
    {
      "cell_type": "code",
      "source": [
        "y_pred_D4_HSV_S5 = Model4.predict(X_test_D4_HSV_S5)"
      ],
      "metadata": {
        "id": "s3H1pwwjNBes"
      },
      "execution_count": 180,
      "outputs": []
    },
    {
      "cell_type": "code",
      "source": [
        "print(\"Accuracy:\", metrics.accuracy_score(y_test_D4_HSV_S5, y_pred_D4_HSV_S5))"
      ],
      "metadata": {
        "id": "OdThM8xyNBes",
        "colab": {
          "base_uri": "https://localhost:8080/"
        },
        "outputId": "1847ac52-be9c-4f95-d136-2bada355d135"
      },
      "execution_count": 181,
      "outputs": [
        {
          "output_type": "stream",
          "name": "stdout",
          "text": [
            "Accuracy: 0.4925\n"
          ]
        }
      ]
    },
    {
      "cell_type": "markdown",
      "source": [
        "##Set6 HSV"
      ],
      "metadata": {
        "id": "ef-JEQZ-MrFC"
      }
    },
    {
      "cell_type": "code",
      "source": [
        "HSV_D4_Set6 = table_D4Set6.drop(['R-ref','G-ref','B-ref','R-Shad','G-Shad','B-Shad','Setting','Ref','Shad','Img'], axis=1)"
      ],
      "metadata": {
        "id": "NpH81ZrDMv5Y"
      },
      "execution_count": 182,
      "outputs": []
    },
    {
      "cell_type": "code",
      "source": [
        "X_test_D4_HSV_S6 = np.array(HSV_D4_Set6)"
      ],
      "metadata": {
        "id": "fGFeitK2Mv5Y"
      },
      "execution_count": 183,
      "outputs": []
    },
    {
      "cell_type": "code",
      "source": [
        "y_D4_HSV_S6=  table_D4Set6.iloc[:,14:15]"
      ],
      "metadata": {
        "id": "W77Qo3i8Mv5Y"
      },
      "execution_count": 184,
      "outputs": []
    },
    {
      "cell_type": "code",
      "source": [
        "y_test_D4_HSV_S6 = np.array(y_D4_HSV_S6)"
      ],
      "metadata": {
        "id": "Ww5HP5svMv5Y"
      },
      "execution_count": 185,
      "outputs": []
    },
    {
      "cell_type": "code",
      "source": [
        "X_train_D4_HSV_S6 = np.array(HSV_D4_concat0)"
      ],
      "metadata": {
        "id": "efazPlE0Mv5Z"
      },
      "execution_count": 186,
      "outputs": []
    },
    {
      "cell_type": "code",
      "source": [
        "y_train_D4HSV_S6 = HSV_D4_concat.iloc[:,14:15]"
      ],
      "metadata": {
        "id": "n_IILlFPMv5Z"
      },
      "execution_count": 187,
      "outputs": []
    },
    {
      "cell_type": "code",
      "source": [
        "y_train_D4_HSV_S6 = np.array(y_train_D4HSV_S6)"
      ],
      "metadata": {
        "id": "q6psX9yVMv5Z"
      },
      "execution_count": 188,
      "outputs": []
    },
    {
      "cell_type": "code",
      "source": [
        "Model8.fit(X_train_D4_HSV_S6, y_train_D4_HSV_S6)"
      ],
      "metadata": {
        "id": "Z_1mU9M_Mv5Z",
        "colab": {
          "base_uri": "https://localhost:8080/"
        },
        "outputId": "1aeaecf2-b0ca-4165-81ea-0d0844fa2ec3"
      },
      "execution_count": 189,
      "outputs": [
        {
          "output_type": "stream",
          "name": "stderr",
          "text": [
            "/usr/local/lib/python3.7/dist-packages/sklearn/utils/validation.py:993: DataConversionWarning: A column-vector y was passed when a 1d array was expected. Please change the shape of y to (n_samples, ), for example using ravel().\n",
            "  y = column_or_1d(y, warn=True)\n"
          ]
        },
        {
          "output_type": "execute_result",
          "data": {
            "text/plain": [
              "SVC(kernel='poly')"
            ]
          },
          "metadata": {},
          "execution_count": 189
        }
      ]
    },
    {
      "cell_type": "code",
      "source": [
        "y_pred_D4_HSV_S6 = Model4.predict(X_test_D4_HSV_S6)"
      ],
      "metadata": {
        "id": "_pdudeoqMv5Z"
      },
      "execution_count": 190,
      "outputs": []
    },
    {
      "cell_type": "code",
      "source": [
        "print(\"Accuracy:\", metrics.accuracy_score(y_test_D4_HSV_S6, y_pred_D4_HSV_S6))"
      ],
      "metadata": {
        "id": "9hjOlpAQMv5a",
        "colab": {
          "base_uri": "https://localhost:8080/"
        },
        "outputId": "425df6a9-b2b1-4011-bacb-c1cbb20f6048"
      },
      "execution_count": 191,
      "outputs": [
        {
          "output_type": "stream",
          "name": "stdout",
          "text": [
            "Accuracy: 0.24125\n"
          ]
        }
      ]
    },
    {
      "cell_type": "markdown",
      "source": [
        "#Accuracy"
      ],
      "metadata": {
        "id": "SXXTPWTJMGbr"
      }
    },
    {
      "cell_type": "markdown",
      "source": [
        "###RF model\n",
        "\n",
        "RGB A2\n",
        "HSV A4"
      ],
      "metadata": {
        "id": "PhbeOkzBN550"
      }
    },
    {
      "cell_type": "code",
      "source": [
        "print(\"RF Set5 A2 ได้ Accuracy:\", metrics.accuracy_score(y_test_A2_RGB_S5, y_pred_A2_RGB_S5))\n",
        "print(\"RF Set6 A2 ได้ Accuracy:\", metrics.accuracy_score(y_test_A2_RGB_S6, y_pred_A2_RGB_S6))\n",
        "print(\"RF Set5 A4 ได้ Accuracy:\", metrics.accuracy_score(y_test_A4_HSV_S5, y_pred_A4_HSV_S5))\n",
        "print(\"RF Set6 A4 ได้ Accuracy:\", metrics.accuracy_score(y_test_A4_HSV_S6, y_pred_A4_HSV_S6))"
      ],
      "metadata": {
        "id": "2fVafcUyMh5q",
        "colab": {
          "base_uri": "https://localhost:8080/"
        },
        "outputId": "2cdf8d07-d808-4c1d-ed50-2b46a877c364"
      },
      "execution_count": 192,
      "outputs": [
        {
          "output_type": "stream",
          "name": "stdout",
          "text": [
            "RF Set5 A2 ได้ Accuracy: 0.38\n",
            "RF Set6 A2 ได้ Accuracy: 0.3175\n",
            "RF Set5 A4 ได้ Accuracy: 0.69125\n",
            "RF Set6 A4 ได้ Accuracy: 0.33625\n"
          ]
        }
      ]
    },
    {
      "cell_type": "markdown",
      "source": [
        "##XGB model\n",
        "\n",
        "RGB A2\n",
        "HSV A4"
      ],
      "metadata": {
        "id": "3nFRAjMCRRJa"
      }
    },
    {
      "cell_type": "code",
      "source": [
        "print(\"XGB Set5 A2 ได้ Accuracy:\",metrics.accuracy_score(y_test_A2_RGB_S5_xgb, y_pred_A2_RGB_S5_xgb))\n",
        "print(\"XGB Set6 A2 ได้ Accuracy:\",metrics.accuracy_score(y_test_A2_RGB_S6_xgb, y_pred_A2_RGB_S6_xgb))\n",
        "print(\"XGB Set5 A4 ได้ Accuracy:\",metrics.accuracy_score(y_test_A4_HSV_S5_xgb, y_pred_A4_HSV_S5_xgb))\n",
        "print(\"XGB Set6 A4 ได้ Accuracy:\",metrics.accuracy_score(y_test_A4_HSV_S6_xgb, y_pred_A4_HSV_S6_xgb))"
      ],
      "metadata": {
        "id": "tvUMg4K3RT8I",
        "colab": {
          "base_uri": "https://localhost:8080/"
        },
        "outputId": "0b31e36d-c646-4e9e-9999-1da035e35df2"
      },
      "execution_count": 193,
      "outputs": [
        {
          "output_type": "stream",
          "name": "stdout",
          "text": [
            "XGB Set5 A2 ได้ Accuracy: 0.29\n",
            "XGB Set6 A2 ได้ Accuracy: 0.32875\n",
            "XGB Set5 A4 ได้ Accuracy: 0.6475\n",
            "XGB Set6 A4 ได้ Accuracy: 0.34\n"
          ]
        }
      ]
    },
    {
      "cell_type": "markdown",
      "source": [
        "###SVM model\n",
        "\n",
        "RGB D4\n",
        "HSV D4"
      ],
      "metadata": {
        "id": "weOI0hjQN-FG"
      }
    },
    {
      "cell_type": "code",
      "source": [
        "print(\"SVM_RGB Set5 D4 ได้ Accuracy:\", metrics.accuracy_score(y_test_D4_RGB_S5, y_pred_D4_RGB_S5))\n",
        "print(\"SVM_RGB Set6 D4 ได้ Accuracy:\", metrics.accuracy_score(y_test_D4_RGB_S6, y_pred_D4_RGB_S6))\n",
        "print(\"SVM_HSV Set5 D4 ได้ Accuracy:\", metrics.accuracy_score(y_test_D4_HSV_S5, y_pred_D4_HSV_S5))\n",
        "print(\"SVM_HSV Set6 D4 ได้ Accuracy:\", metrics.accuracy_score(y_test_D4_HSV_S6, y_pred_D4_HSV_S6))"
      ],
      "metadata": {
        "id": "Jqhnc-VRNfp7",
        "colab": {
          "base_uri": "https://localhost:8080/"
        },
        "outputId": "a405b89c-6f25-4683-ade0-92391ce046fa"
      },
      "execution_count": 194,
      "outputs": [
        {
          "output_type": "stream",
          "name": "stdout",
          "text": [
            "SVM_RGB Set5 D4 ได้ Accuracy: 0.23625\n",
            "SVM_RGB Set6 D4 ได้ Accuracy: 0.385\n",
            "SVM_HSV Set5 D4 ได้ Accuracy: 0.4925\n",
            "SVM_HSV Set6 D4 ได้ Accuracy: 0.24125\n"
          ]
        }
      ]
    },
    {
      "cell_type": "markdown",
      "source": [
        "#Save Model"
      ],
      "metadata": {
        "id": "w6yxbuxmV-Eu"
      }
    },
    {
      "cell_type": "markdown",
      "source": [
        "##RF model"
      ],
      "metadata": {
        "id": "EsNnLI7QRq5O"
      }
    },
    {
      "cell_type": "code",
      "source": [
        "import cv2"
      ],
      "metadata": {
        "id": "Dzj7gmYrYBSO"
      },
      "execution_count": 195,
      "outputs": []
    },
    {
      "cell_type": "code",
      "source": [
        "import pickle\n",
        "with open('Model_A2_rgb1.pkl', 'wb') as pickle_file :\n",
        "       pickle.dump(Model1, pickle_file )"
      ],
      "metadata": {
        "id": "0vE7kDs8WAAm"
      },
      "execution_count": 196,
      "outputs": []
    },
    {
      "cell_type": "code",
      "source": [
        "import pickle\n",
        "with open('Model_A4_hsv1.pkl', 'wb') as pickle_file :\n",
        "       pickle.dump(Model3, pickle_file )"
      ],
      "metadata": {
        "id": "du4JLmAMWTnG"
      },
      "execution_count": 197,
      "outputs": []
    },
    {
      "cell_type": "markdown",
      "source": [
        "##XGB model"
      ],
      "metadata": {
        "id": "_x8aA83gUF1O"
      }
    },
    {
      "cell_type": "code",
      "source": [
        "import pickle\n",
        "with open('ModelA2_xgb_rgb1.pkl', 'wb') as pickle_file :\n",
        "       pickle.dump(Model9, pickle_file )"
      ],
      "metadata": {
        "id": "TiKM38_nUINo"
      },
      "execution_count": 198,
      "outputs": []
    },
    {
      "cell_type": "code",
      "source": [
        "import pickle\n",
        "with open('ModelA4_xgb_hsv1.pkl', 'wb') as pickle_file :\n",
        "       pickle.dump(Model11, pickle_file )"
      ],
      "metadata": {
        "id": "odF3edytUIoN"
      },
      "execution_count": 199,
      "outputs": []
    },
    {
      "cell_type": "markdown",
      "source": [
        "##SVM model"
      ],
      "metadata": {
        "id": "tn1jtWwsUWPw"
      }
    },
    {
      "cell_type": "code",
      "source": [
        "import pickle\n",
        "with open('ModelD4_SVM_rgb1.pkl', 'wb') as pickle_file :\n",
        "       pickle.dump(Model6, pickle_file )"
      ],
      "metadata": {
        "id": "rx_RTOrFUaoL"
      },
      "execution_count": 200,
      "outputs": []
    },
    {
      "cell_type": "code",
      "source": [
        "import pickle\n",
        "with open('ModelD4_SVM_hsv1.pkl', 'wb') as pickle_file :\n",
        "       pickle.dump(Model8, pickle_file )"
      ],
      "metadata": {
        "id": "gsL6soGnUgGk"
      },
      "execution_count": 201,
      "outputs": []
    },
    {
      "cell_type": "markdown",
      "source": [
        "#load pic"
      ],
      "metadata": {
        "id": "FKGhI6hvRuQz"
      }
    },
    {
      "cell_type": "code",
      "source": [
        "!pip install azure-storage-blob==2.1.0"
      ],
      "metadata": {
        "id": "AXCy9HlDYC1Y",
        "colab": {
          "base_uri": "https://localhost:8080/"
        },
        "outputId": "9714c4c1-f1fe-4a4c-99c4-b55686a539eb"
      },
      "execution_count": 202,
      "outputs": [
        {
          "output_type": "stream",
          "name": "stdout",
          "text": [
            "Collecting azure-storage-blob==2.1.0\n",
            "  Downloading azure_storage_blob-2.1.0-py2.py3-none-any.whl (88 kB)\n",
            "\u001b[?25l\r\u001b[K     |███▊                            | 10 kB 22.2 MB/s eta 0:00:01\r\u001b[K     |███████▍                        | 20 kB 29.1 MB/s eta 0:00:01\r\u001b[K     |███████████▏                    | 30 kB 33.9 MB/s eta 0:00:01\r\u001b[K     |██████████████▉                 | 40 kB 14.8 MB/s eta 0:00:01\r\u001b[K     |██████████████████▋             | 51 kB 11.7 MB/s eta 0:00:01\r\u001b[K     |██████████████████████▎         | 61 kB 13.5 MB/s eta 0:00:01\r\u001b[K     |██████████████████████████      | 71 kB 12.9 MB/s eta 0:00:01\r\u001b[K     |█████████████████████████████▊  | 81 kB 14.1 MB/s eta 0:00:01\r\u001b[K     |████████████████████████████████| 88 kB 5.7 MB/s \n",
            "\u001b[?25hCollecting azure-storage-common~=2.1\n",
            "  Downloading azure_storage_common-2.1.0-py2.py3-none-any.whl (47 kB)\n",
            "\u001b[?25l\r\u001b[K     |██████▉                         | 10 kB 27.6 MB/s eta 0:00:01\r\u001b[K     |█████████████▊                  | 20 kB 36.1 MB/s eta 0:00:01\r\u001b[K     |████████████████████▋           | 30 kB 45.7 MB/s eta 0:00:01\r\u001b[K     |███████████████████████████▍    | 40 kB 52.1 MB/s eta 0:00:01\r\u001b[K     |████████████████████████████████| 47 kB 4.8 MB/s \n",
            "\u001b[?25hCollecting azure-common>=1.1.5\n",
            "  Downloading azure_common-1.1.28-py2.py3-none-any.whl (14 kB)\n",
            "Requirement already satisfied: requests in /usr/local/lib/python3.7/dist-packages (from azure-storage-common~=2.1->azure-storage-blob==2.1.0) (2.23.0)\n",
            "Collecting cryptography\n",
            "  Downloading cryptography-36.0.1-cp36-abi3-manylinux_2_24_x86_64.whl (3.6 MB)\n",
            "\u001b[K     |████████████████████████████████| 3.6 MB 50.3 MB/s \n",
            "\u001b[?25hRequirement already satisfied: python-dateutil in /usr/local/lib/python3.7/dist-packages (from azure-storage-common~=2.1->azure-storage-blob==2.1.0) (2.8.2)\n",
            "Requirement already satisfied: cffi>=1.12 in /usr/local/lib/python3.7/dist-packages (from cryptography->azure-storage-common~=2.1->azure-storage-blob==2.1.0) (1.15.0)\n",
            "Requirement already satisfied: pycparser in /usr/local/lib/python3.7/dist-packages (from cffi>=1.12->cryptography->azure-storage-common~=2.1->azure-storage-blob==2.1.0) (2.21)\n",
            "Requirement already satisfied: six>=1.5 in /usr/local/lib/python3.7/dist-packages (from python-dateutil->azure-storage-common~=2.1->azure-storage-blob==2.1.0) (1.15.0)\n",
            "Requirement already satisfied: certifi>=2017.4.17 in /usr/local/lib/python3.7/dist-packages (from requests->azure-storage-common~=2.1->azure-storage-blob==2.1.0) (2021.10.8)\n",
            "Requirement already satisfied: idna<3,>=2.5 in /usr/local/lib/python3.7/dist-packages (from requests->azure-storage-common~=2.1->azure-storage-blob==2.1.0) (2.10)\n",
            "Requirement already satisfied: chardet<4,>=3.0.2 in /usr/local/lib/python3.7/dist-packages (from requests->azure-storage-common~=2.1->azure-storage-blob==2.1.0) (3.0.4)\n",
            "Requirement already satisfied: urllib3!=1.25.0,!=1.25.1,<1.26,>=1.21.1 in /usr/local/lib/python3.7/dist-packages (from requests->azure-storage-common~=2.1->azure-storage-blob==2.1.0) (1.24.3)\n",
            "Installing collected packages: cryptography, azure-common, azure-storage-common, azure-storage-blob\n",
            "Successfully installed azure-common-1.1.28 azure-storage-blob-2.1.0 azure-storage-common-2.1.0 cryptography-36.0.1\n"
          ]
        }
      ]
    },
    {
      "cell_type": "code",
      "source": [
        "from azure.storage.blob import BlockBlobService\n",
        "import os\n",
        "blob_service_client = BlockBlobService(account_name='dent01', account_key='CuShY0B4TZJ84TjzPpaHxyrHOpO73aGXeCpdVq7x26OjIlQ1HOz+3DVc9pDEj9BdcEL8odFuTRF0mOAE+aCgiw==')"
      ],
      "metadata": {
        "id": "vj7O-7MtX9tj"
      },
      "execution_count": 203,
      "outputs": []
    },
    {
      "cell_type": "code",
      "source": [
        "imgA2_1 = 'E9896AEB-AC43-43BA-8395-1A8640C68F11.png' #A1 --ไม่ถูก\n",
        "imgA2_2 = '9D32D7FF-0A67-4AA4-8424-06D37D892DC2.png' #A4\n",
        "imgA2_3 = '0F32B754-C0C2-43F6-9B65-EEE0851F4CEB.png' #B1\n",
        "imgA2_4 = 'BA3C7923-CD9F-4809-8EEC-24B30F025D13.png' #B3\n",
        "imgA2_5 = '17E72DB3-AA02-4622-B461-89DCBCD642A5.png' #C2 --ไม่ถูก\n",
        "imgA2_6 = 'A2723199-FA79-4ABD-8C67-EBC58083FEA9.png' #B2\n",
        "imgA2_7 = 'D79DF66A-7CAC-4461-9E6E-CA221FB7A057.png' #C4\n",
        "imgA2_8 = 'E669F6F4-C912-47F4-B0C1-A46433E02B07.png' #D3\n",
        "imgA2_9 = '402E5CB5-10DD-4C36-B760-CFD2237DD396.png' #D4\n",
        "imgA2_10 = '599ACC1F-875A-4988-9332-68FAB7D132B5.png' #A3"
      ],
      "metadata": {
        "id": "7z85-fMbX3Jy"
      },
      "execution_count": 204,
      "outputs": []
    },
    {
      "cell_type": "code",
      "source": [
        "imgA4_1 = 'A2F40499-0CDC-4ACC-89BB-63762A71A7CA.png' #\n",
        "imgA4_2 = '289920D2-E811-4F85-869F-E9238CCBEFD5.png' #\n",
        "imgA4_3 = '2D555778-9B7B-44AB-BFA1-590F15D5A7FA.png' #\n",
        "imgA4_4 = 'EB5B2198-7C61-4692-BAB8-8DA69697C5A3.png' #\n",
        "imgA4_5 = '9E01A657-3CD7-42A1-ACF9-A3E39556E504.png' #\n",
        "imgA4_6 = '2B45231E-E270-4418-8D4E-10324F2156D6.png' #\n",
        "imgA4_7 = '0640BC96-6C7A-4379-ABCC-B1D74786F95F.png' #\n",
        "imgA4_8 = '5162C60F-E139-444F-BDDF-53AC0B23DAEE.png' #\n",
        "imgA4_9 = '1330C715-722A-4786-884B-944CECB1C1B2.png'\n",
        "imgA4_10 = '53EB262D-4941-4FCD-B8CD-FA52FC2C5409.png' #"
      ],
      "metadata": {
        "id": "1FpoHnsqZQlK"
      },
      "execution_count": 228,
      "outputs": []
    },
    {
      "cell_type": "code",
      "source": [
        "imgD4_1 = '420AA6D7-3482-4BE8-A2DC-011CE3E711BB.png' #\n",
        "imgD4_2 = '7F2D956E-81DE-4A31-BE5D-D57D22B259A9.png' #\n",
        "imgD4_3 = '4B7A0F91-C22A-4A83-BA65-FCBB5F67EBE9.png' #\n",
        "imgD4_4 = '3EBC1598-57C4-497B-B235-C7C0C8DBCA1F.png' #\n",
        "imgD4_5 = '9AA9377B-863F-40D5-A369-928B740E9398.png' #\n",
        "imgD4_6 = '78C2C21B-A360-48B0-83F0-972E70A0A086.png' #\n",
        "imgD4_7 = '135BA0F5-79C2-4120-9CA5-63431312CC00.png' #\n",
        "imgD4_8 = '6D589D75-9718-427C-80A0-60628F26CA9A.png' #\n",
        "imgD4_9 = 'A8FFB318-61ED-4540-9CB8-9A5DF87E16AD.png' # \n",
        "imgD4_10 = '2C9BFCC9-B319-4EE6-BFDD-C66E652C1039.png' #"
      ],
      "metadata": {
        "id": "drNnVFbPT3FB"
      },
      "execution_count": 206,
      "outputs": []
    },
    {
      "cell_type": "code",
      "source": [
        "A4_1_double = imgA4_1\n",
        "full_path_to_file2 = os.path.join(A4_1_double) \n",
        "blob_service_client.get_blob_to_path('shadeimg', full_path_to_file2, full_path_to_file2)\n",
        "imagee = cv2.imread(A4_1_double)"
      ],
      "metadata": {
        "id": "qrVMQ5l3X1GF"
      },
      "execution_count": 207,
      "outputs": []
    },
    {
      "cell_type": "code",
      "source": [
        "A4_2_double = imgA4_2\n",
        "full_path_to_file2 = os.path.join(A4_2_double) \n",
        "blob_service_client.get_blob_to_path('shadeimg', full_path_to_file2, full_path_to_file2)\n",
        "imagee = cv2.imread(A4_2_double)"
      ],
      "metadata": {
        "id": "ndxhP1IWVRRk"
      },
      "execution_count": 208,
      "outputs": []
    },
    {
      "cell_type": "code",
      "source": [
        "A4_3_double = imgA4_3\n",
        "full_path_to_file2 = os.path.join(A4_3_double) \n",
        "blob_service_client.get_blob_to_path('shadeimg', full_path_to_file2, full_path_to_file2)\n",
        "imagee = cv2.imread(A4_3_double)"
      ],
      "metadata": {
        "id": "VcWFg9CcVRwM"
      },
      "execution_count": 209,
      "outputs": []
    },
    {
      "cell_type": "code",
      "source": [
        "A4_4_double = imgA4_4\n",
        "full_path_to_file2 = os.path.join(A4_4_double) \n",
        "blob_service_client.get_blob_to_path('shadeimg', full_path_to_file2, full_path_to_file2)\n",
        "imagee = cv2.imread(A4_4_double)"
      ],
      "metadata": {
        "id": "nDe4zpD-VSDH"
      },
      "execution_count": 210,
      "outputs": []
    },
    {
      "cell_type": "code",
      "source": [
        "A4_5_double = imgA4_5\n",
        "full_path_to_file2 = os.path.join(A4_5_double) \n",
        "blob_service_client.get_blob_to_path('shadeimg', full_path_to_file2, full_path_to_file2)\n",
        "imagee = cv2.imread(A4_5_double)"
      ],
      "metadata": {
        "id": "yn-RlSCxVSTq"
      },
      "execution_count": 211,
      "outputs": []
    },
    {
      "cell_type": "code",
      "source": [
        "A4_6_double = imgA4_6\n",
        "full_path_to_file2 = os.path.join(A4_6_double) \n",
        "blob_service_client.get_blob_to_path('shadeimg', full_path_to_file2, full_path_to_file2)\n",
        "imagee = cv2.imread(A4_6_double)"
      ],
      "metadata": {
        "id": "40MkWGkLVa9w"
      },
      "execution_count": 212,
      "outputs": []
    },
    {
      "cell_type": "code",
      "source": [
        "A4_7_double = imgA4_7\n",
        "full_path_to_file2 = os.path.join(A4_7_double) \n",
        "blob_service_client.get_blob_to_path('shadeimg', full_path_to_file2, full_path_to_file2)\n",
        "imagee = cv2.imread(A4_7_double)"
      ],
      "metadata": {
        "id": "Hf4_JGOEVbM-"
      },
      "execution_count": 213,
      "outputs": []
    },
    {
      "cell_type": "code",
      "source": [
        "A4_8_double = imgA4_8\n",
        "full_path_to_file2 = os.path.join(A4_8_double) \n",
        "blob_service_client.get_blob_to_path('shadeimg', full_path_to_file2, full_path_to_file2)\n",
        "imagee = cv2.imread(A4_8_double)"
      ],
      "metadata": {
        "id": "9U4W0RLeVbdU"
      },
      "execution_count": 214,
      "outputs": []
    },
    {
      "cell_type": "code",
      "source": [
        "A4_9_double = imgA4_9\n",
        "full_path_to_file2 = os.path.join(A4_9_double) \n",
        "blob_service_client.get_blob_to_path('shadeimg', full_path_to_file2, full_path_to_file2)\n",
        "imagee = cv2.imread(A4_9_double)"
      ],
      "metadata": {
        "id": "dwK9j5cnVbsB"
      },
      "execution_count": 231,
      "outputs": []
    },
    {
      "cell_type": "code",
      "source": [
        "A4_10_double = imgA4_10\n",
        "full_path_to_file2 = os.path.join(A4_10_double) \n",
        "blob_service_client.get_blob_to_path('shadeimg', full_path_to_file2, full_path_to_file2)\n",
        "imagee = cv2.imread(A4_10_double)"
      ],
      "metadata": {
        "id": "5aXb-VGTVcKU"
      },
      "execution_count": 216,
      "outputs": []
    },
    {
      "cell_type": "code",
      "source": [
        "D4_1_double = imgD4_1\n",
        "full_path_to_file2 = os.path.join(D4_1_double) \n",
        "blob_service_client.get_blob_to_path('shadeimg', full_path_to_file2, full_path_to_file2)\n",
        "imagee = cv2.imread(D4_1_double)"
      ],
      "metadata": {
        "id": "s4UjYpRoVmbw"
      },
      "execution_count": 217,
      "outputs": []
    },
    {
      "cell_type": "code",
      "source": [
        "D4_2_double = imgD4_2\n",
        "full_path_to_file2 = os.path.join(D4_2_double) \n",
        "blob_service_client.get_blob_to_path('shadeimg', full_path_to_file2, full_path_to_file2)\n",
        "imagee = cv2.imread(D4_2_double)"
      ],
      "metadata": {
        "id": "l5AFELgiVvpP"
      },
      "execution_count": 218,
      "outputs": []
    },
    {
      "cell_type": "code",
      "source": [
        "D4_3_double = imgD4_3\n",
        "full_path_to_file2 = os.path.join(D4_3_double) \n",
        "blob_service_client.get_blob_to_path('shadeimg', full_path_to_file2, full_path_to_file2)\n",
        "imagee = cv2.imread(D4_3_double)"
      ],
      "metadata": {
        "id": "acUGWMwwVv66"
      },
      "execution_count": 219,
      "outputs": []
    },
    {
      "cell_type": "code",
      "source": [
        "D4_4_double = imgD4_4\n",
        "full_path_to_file2 = os.path.join(D4_4_double) \n",
        "blob_service_client.get_blob_to_path('shadeimg', full_path_to_file2, full_path_to_file2)\n",
        "imagee = cv2.imread(D4_4_double)"
      ],
      "metadata": {
        "id": "a8aeb19jVwV7"
      },
      "execution_count": 220,
      "outputs": []
    },
    {
      "cell_type": "code",
      "source": [
        "D4_5_double = imgD4_5\n",
        "full_path_to_file2 = os.path.join(D4_5_double) \n",
        "blob_service_client.get_blob_to_path('shadeimg', full_path_to_file2, full_path_to_file2)\n",
        "imagee = cv2.imread(D4_5_double)"
      ],
      "metadata": {
        "id": "T479s5LLVws8"
      },
      "execution_count": 221,
      "outputs": []
    },
    {
      "cell_type": "code",
      "source": [
        "D4_6_double = imgD4_6\n",
        "full_path_to_file2 = os.path.join(D4_6_double) \n",
        "blob_service_client.get_blob_to_path('shadeimg', full_path_to_file2, full_path_to_file2)\n",
        "imagee = cv2.imread(D4_6_double)"
      ],
      "metadata": {
        "id": "ve98K-0eVw7p"
      },
      "execution_count": 222,
      "outputs": []
    },
    {
      "cell_type": "code",
      "source": [
        "D4_7_double = imgD4_7\n",
        "full_path_to_file2 = os.path.join(D4_7_double) \n",
        "blob_service_client.get_blob_to_path('shadeimg', full_path_to_file2, full_path_to_file2)\n",
        "imagee = cv2.imread(D4_7_double)"
      ],
      "metadata": {
        "id": "hOtwBflIVxI3"
      },
      "execution_count": 223,
      "outputs": []
    },
    {
      "cell_type": "code",
      "source": [
        "D4_8_double = imgD4_8\n",
        "full_path_to_file2 = os.path.join(D4_8_double) \n",
        "blob_service_client.get_blob_to_path('shadeimg', full_path_to_file2, full_path_to_file2)\n",
        "imagee = cv2.imread(D4_8_double)"
      ],
      "metadata": {
        "id": "kACcewebVxhq"
      },
      "execution_count": 224,
      "outputs": []
    },
    {
      "cell_type": "code",
      "source": [
        "D4_9_double = imgD4_9\n",
        "full_path_to_file2 = os.path.join(D4_9_double) \n",
        "blob_service_client.get_blob_to_path('shadeimg', full_path_to_file2, full_path_to_file2)\n",
        "imagee = cv2.imread(D4_9_double)"
      ],
      "metadata": {
        "id": "zRi-fNoOWDEH"
      },
      "execution_count": 225,
      "outputs": []
    },
    {
      "cell_type": "code",
      "source": [
        "D4_10_double = imgD4_10\n",
        "full_path_to_file2 = os.path.join(D4_10_double) \n",
        "blob_service_client.get_blob_to_path('shadeimg', full_path_to_file2, full_path_to_file2)\n",
        "imagee = cv2.imread(D4_10_double)"
      ],
      "metadata": {
        "id": "pZAnWeloWDTg"
      },
      "execution_count": 226,
      "outputs": []
    }
  ]
}