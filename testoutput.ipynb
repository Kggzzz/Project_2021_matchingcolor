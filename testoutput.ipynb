{
  "nbformat": 4,
  "nbformat_minor": 0,
  "metadata": {
    "colab": {
      "name": "testoutput.ipynb",
      "provenance": [],
      "include_colab_link": true
    },
    "kernelspec": {
      "name": "python3",
      "display_name": "Python 3"
    },
    "language_info": {
      "name": "python"
    }
  },
  "cells": [
    {
      "cell_type": "markdown",
      "metadata": {
        "id": "view-in-github",
        "colab_type": "text"
      },
      "source": [
        "<a href=\"https://colab.research.google.com/github/Kggzzz/Project_2021_matchingcolor/blob/main/testoutput.ipynb\" target=\"_parent\"><img src=\"https://colab.research.google.com/assets/colab-badge.svg\" alt=\"Open In Colab\"/></a>"
      ]
    },
    {
      "cell_type": "markdown",
      "source": [
        "#Model "
      ],
      "metadata": {
        "id": "ssvGIa4Py9rG"
      }
    },
    {
      "cell_type": "code",
      "source": [
        "import numpy as np"
      ],
      "metadata": {
        "id": "8ISBGlPBzzvw"
      },
      "execution_count": 164,
      "outputs": []
    },
    {
      "cell_type": "code",
      "source": [
        "from sklearn import metrics"
      ],
      "metadata": {
        "id": "FTwRPXBBzw1v"
      },
      "execution_count": 165,
      "outputs": []
    },
    {
      "cell_type": "code",
      "source": [
        "from sklearn import datasets"
      ],
      "metadata": {
        "id": "KR8lVsZXpX9X"
      },
      "execution_count": 166,
      "outputs": []
    },
    {
      "cell_type": "code",
      "source": [
        "from sklearn.ensemble import RandomForestClassifier"
      ],
      "metadata": {
        "id": "cfRBaPLCI0vn"
      },
      "execution_count": 167,
      "outputs": []
    },
    {
      "cell_type": "code",
      "source": [
        "Model1 = RandomForestClassifier()"
      ],
      "metadata": {
        "id": "aZ3mSk1-QhhK"
      },
      "execution_count": 168,
      "outputs": []
    },
    {
      "cell_type": "code",
      "source": [
        "Model2 = RandomForestClassifier()"
      ],
      "metadata": {
        "id": "BBIzw95YQnKy"
      },
      "execution_count": 169,
      "outputs": []
    },
    {
      "cell_type": "code",
      "source": [
        "Model3 = RandomForestClassifier()"
      ],
      "metadata": {
        "id": "5nGy-58ZUrak"
      },
      "execution_count": 170,
      "outputs": []
    },
    {
      "cell_type": "code",
      "source": [
        "Model4 = RandomForestClassifier()"
      ],
      "metadata": {
        "id": "M38Jiw1-UruB"
      },
      "execution_count": 171,
      "outputs": []
    },
    {
      "cell_type": "code",
      "source": [
        "import pandas as pd"
      ],
      "metadata": {
        "id": "uJm_2vBUP9p2"
      },
      "execution_count": 172,
      "outputs": []
    },
    {
      "cell_type": "code",
      "source": [
        "from google.colab import drive \n",
        "drive.mount('/content/drive')"
      ],
      "metadata": {
        "colab": {
          "base_uri": "https://localhost:8080/"
        },
        "id": "_8KDD0WgQC_c",
        "outputId": "07b64426-73e2-444b-c530-937883da30b6"
      },
      "execution_count": 173,
      "outputs": [
        {
          "output_type": "stream",
          "name": "stdout",
          "text": [
            "Drive already mounted at /content/drive; to attempt to forcibly remount, call drive.mount(\"/content/drive\", force_remount=True).\n"
          ]
        }
      ]
    },
    {
      "cell_type": "code",
      "source": [
        "import os"
      ],
      "metadata": {
        "id": "-RXgiw8nQEFY"
      },
      "execution_count": 174,
      "outputs": []
    },
    {
      "cell_type": "code",
      "source": [
        "path = '/content/drive/My Drive/shadeimg/SVM shade'"
      ],
      "metadata": {
        "id": "ehxFczjDQFLC"
      },
      "execution_count": 175,
      "outputs": []
    },
    {
      "cell_type": "code",
      "source": [
        "os.listdir(path)"
      ],
      "metadata": {
        "colab": {
          "base_uri": "https://localhost:8080/"
        },
        "id": "B7dvVcB-QGcE",
        "outputId": "71682c49-3bf1-48f5-f3fc-13c5e6f068a3"
      },
      "execution_count": 176,
      "outputs": [
        {
          "output_type": "execute_result",
          "data": {
            "text/plain": [
              "['DD.xlsx',\n",
              " 'CC.xlsx',\n",
              " 'BB.xlsx',\n",
              " 'Shade_AA.xlsx',\n",
              " 'Shade_CC.xlsx',\n",
              " 'Shade_DD.xlsx',\n",
              " 'Shade_BB.xlsx',\n",
              " 'AA.xlsx',\n",
              " 'AA_2.xlsx',\n",
              " 'Shad_A.xlsx',\n",
              " 'Shad_B.xlsx',\n",
              " 'Shad_C.xlsx',\n",
              " 'Shad_D.xlsx',\n",
              " 'Setting4.xlsx',\n",
              " 'Color-checkerAA.xlsx',\n",
              " 'Color-checkerBB.xlsx',\n",
              " 'Color-checkerCC.xlsx',\n",
              " 'Setting2.xlsx',\n",
              " 'D3set51.csv',\n",
              " 'Setting1.xlsx',\n",
              " 'CheckerDD.xlsx',\n",
              " 'Setting3.xlsx',\n",
              " 'Setting6.xlsx',\n",
              " 'Setting5.xlsx',\n",
              " 'checkerShad_A .xlsx',\n",
              " 'checkerShad_B.xlsx',\n",
              " 'checkerShad_C.xlsx',\n",
              " 'D3Set5-61.xlsx',\n",
              " 'checkerShad_D.xlsx',\n",
              " 'Color-checkerDD.xlsx',\n",
              " 'Datapoint_1.xlsx',\n",
              " 'Datapoint_2.xlsx',\n",
              " 'Datapoint_3.xlsx',\n",
              " 'Datapoint_4.xlsx',\n",
              " 'Datapoint_6.xlsx',\n",
              " 'Datapoint_5.xlsx']"
            ]
          },
          "metadata": {},
          "execution_count": 176
        }
      ]
    },
    {
      "cell_type": "code",
      "source": [
        "Set1 = os.path.join(path,'Datapoint_1.xlsx')\n",
        "print(Set1)"
      ],
      "metadata": {
        "colab": {
          "base_uri": "https://localhost:8080/"
        },
        "id": "CMbG8rSdQIaw",
        "outputId": "881df18a-8396-418b-af72-d67003edb649"
      },
      "execution_count": 177,
      "outputs": [
        {
          "output_type": "stream",
          "name": "stdout",
          "text": [
            "/content/drive/My Drive/shadeimg/SVM shade/Datapoint_1.xlsx\n"
          ]
        }
      ]
    },
    {
      "cell_type": "code",
      "source": [
        "Set2 = os.path.join(path,'Datapoint_2.xlsx')\n",
        "print(Set2)"
      ],
      "metadata": {
        "colab": {
          "base_uri": "https://localhost:8080/"
        },
        "id": "SwX5IxeQQJk-",
        "outputId": "c99c710b-d655-49b7-a21d-4696e2446e65"
      },
      "execution_count": 178,
      "outputs": [
        {
          "output_type": "stream",
          "name": "stdout",
          "text": [
            "/content/drive/My Drive/shadeimg/SVM shade/Datapoint_2.xlsx\n"
          ]
        }
      ]
    },
    {
      "cell_type": "code",
      "source": [
        "Set3 = os.path.join(path,'Datapoint_3.xlsx')\n",
        "print(Set3)"
      ],
      "metadata": {
        "colab": {
          "base_uri": "https://localhost:8080/"
        },
        "id": "m2BCIcaIQLQK",
        "outputId": "edf2b553-6ef5-44ad-8d0e-b00ec7d29d7e"
      },
      "execution_count": 179,
      "outputs": [
        {
          "output_type": "stream",
          "name": "stdout",
          "text": [
            "/content/drive/My Drive/shadeimg/SVM shade/Datapoint_3.xlsx\n"
          ]
        }
      ]
    },
    {
      "cell_type": "code",
      "source": [
        "Set4 = os.path.join(path,'Datapoint_4.xlsx')\n",
        "print(Set4)"
      ],
      "metadata": {
        "colab": {
          "base_uri": "https://localhost:8080/"
        },
        "id": "JjNMYk0fQMha",
        "outputId": "71eb2540-2ec3-430e-f5c0-dbbbb865d98a"
      },
      "execution_count": 180,
      "outputs": [
        {
          "output_type": "stream",
          "name": "stdout",
          "text": [
            "/content/drive/My Drive/shadeimg/SVM shade/Datapoint_4.xlsx\n"
          ]
        }
      ]
    },
    {
      "cell_type": "code",
      "source": [
        "Set5 = os.path.join(path,'Datapoint_5.xlsx')\n",
        "print(Set5)"
      ],
      "metadata": {
        "colab": {
          "base_uri": "https://localhost:8080/"
        },
        "id": "YpXzpzEBQ0oT",
        "outputId": "f51e3759-f041-4d95-98a8-dc261a6331c5"
      },
      "execution_count": 181,
      "outputs": [
        {
          "output_type": "stream",
          "name": "stdout",
          "text": [
            "/content/drive/My Drive/shadeimg/SVM shade/Datapoint_5.xlsx\n"
          ]
        }
      ]
    },
    {
      "cell_type": "code",
      "source": [
        "Set6 = os.path.join(path,'Datapoint_6.xlsx')\n",
        "print(Set6)"
      ],
      "metadata": {
        "colab": {
          "base_uri": "https://localhost:8080/"
        },
        "id": "wd2Y2s-SQ3YD",
        "outputId": "d7accd64-b143-4ffd-ffc6-50bbb2d85728"
      },
      "execution_count": 182,
      "outputs": [
        {
          "output_type": "stream",
          "name": "stdout",
          "text": [
            "/content/drive/My Drive/shadeimg/SVM shade/Datapoint_6.xlsx\n"
          ]
        }
      ]
    },
    {
      "cell_type": "markdown",
      "source": [
        "#A2 RGB"
      ],
      "metadata": {
        "id": "Rg3ods3bRmn5"
      }
    },
    {
      "cell_type": "code",
      "source": [
        "table_A2Set1 = pd.read_excel(Set1, sheet_name='A2_1')"
      ],
      "metadata": {
        "id": "G9jMjDPuRHKd"
      },
      "execution_count": 183,
      "outputs": []
    },
    {
      "cell_type": "code",
      "source": [
        "table_A2Set2 = pd.read_excel(Set2, sheet_name='A2_2')"
      ],
      "metadata": {
        "id": "-rapVqQhRPZl"
      },
      "execution_count": 184,
      "outputs": []
    },
    {
      "cell_type": "code",
      "source": [
        "table_A2Set3 = pd.read_excel(Set3, sheet_name='A2_3')"
      ],
      "metadata": {
        "id": "UWHXk5yCRQBO"
      },
      "execution_count": 185,
      "outputs": []
    },
    {
      "cell_type": "code",
      "source": [
        "table_A2Set4 = pd.read_excel(Set4, sheet_name='A2_4')"
      ],
      "metadata": {
        "id": "rhCLQnVORQVD"
      },
      "execution_count": 186,
      "outputs": []
    },
    {
      "cell_type": "code",
      "source": [
        "table_A2Set5 = pd.read_excel(Set5, sheet_name='A2_5')"
      ],
      "metadata": {
        "id": "PBbAmi5fRRLn"
      },
      "execution_count": 187,
      "outputs": []
    },
    {
      "cell_type": "code",
      "source": [
        "table_A2Set6 = pd.read_excel(Set6, sheet_name='A2_6')"
      ],
      "metadata": {
        "id": "wXAI17t7RRak"
      },
      "execution_count": 188,
      "outputs": []
    },
    {
      "cell_type": "code",
      "source": [
        "RGB_A2_Set1 = table_A2Set1"
      ],
      "metadata": {
        "id": "JwQs8ralfsgo"
      },
      "execution_count": 189,
      "outputs": []
    },
    {
      "cell_type": "code",
      "source": [
        "RGB_A2_Set2 = table_A2Set2"
      ],
      "metadata": {
        "id": "RdIInq3Ifsgo"
      },
      "execution_count": 190,
      "outputs": []
    },
    {
      "cell_type": "code",
      "source": [
        "RGB_A2_Set3 = table_A2Set3"
      ],
      "metadata": {
        "id": "gug7sAQwfsgo"
      },
      "execution_count": 191,
      "outputs": []
    },
    {
      "cell_type": "code",
      "source": [
        "RGB_A2_Set4 = table_A2Set4"
      ],
      "metadata": {
        "id": "-OHkZAoUR3ou"
      },
      "execution_count": 192,
      "outputs": []
    },
    {
      "cell_type": "code",
      "source": [
        "RGB_A2_concat = pd.concat([RGB_A2_Set1,RGB_A2_Set2,RGB_A2_Set3,RGB_A2_Set4])"
      ],
      "metadata": {
        "id": "jvqEy8NKQp-L"
      },
      "execution_count": 193,
      "outputs": []
    },
    {
      "cell_type": "code",
      "source": [
        "RGB_A2_concat0 = RGB_A2_concat.drop(['H-ref','S-ref','V-ref','H-Shad','S-Shad','V-Shad','Setting','Ref','Shad','Img'], axis=1)"
      ],
      "metadata": {
        "id": "zrlegFEESHMa"
      },
      "execution_count": 194,
      "outputs": []
    },
    {
      "cell_type": "markdown",
      "source": [
        "##Set5"
      ],
      "metadata": {
        "id": "2h8p7YFuSPO2"
      }
    },
    {
      "cell_type": "code",
      "source": [
        "RGB_A2_Set5 = table_A2Set5.drop(['H-ref','S-ref','V-ref','H-Shad','S-Shad','V-Shad','Setting','Ref','Shad','Img'], axis=1)"
      ],
      "metadata": {
        "id": "Mq-6u2SXSRV2"
      },
      "execution_count": 257,
      "outputs": []
    },
    {
      "cell_type": "code",
      "source": [
        "X_test_A2_RGB_S5 = np.array(RGB_A2_Set5)"
      ],
      "metadata": {
        "id": "94pqdE4bSXQo"
      },
      "execution_count": 258,
      "outputs": []
    },
    {
      "cell_type": "code",
      "source": [
        "y_A2_RGB_S5 =  table_A2Set5.iloc[:,14:15]"
      ],
      "metadata": {
        "id": "p8t6atQ0ScVf"
      },
      "execution_count": 270,
      "outputs": []
    },
    {
      "cell_type": "code",
      "source": [
        "y_test_A2_RGB_S5 = np.array(y_A2_RGB_S5)"
      ],
      "metadata": {
        "id": "SOaQgnXQSet6"
      },
      "execution_count": 271,
      "outputs": []
    },
    {
      "cell_type": "code",
      "source": [
        "X_train_A2_RGB_S5 = np.array(RGB_A2_concat0)"
      ],
      "metadata": {
        "id": "mE4sy67gSjPn"
      },
      "execution_count": 261,
      "outputs": []
    },
    {
      "cell_type": "code",
      "source": [
        "y_train_A2RGB_S5 = RGB_A2_concat.iloc[:,14:15]"
      ],
      "metadata": {
        "id": "esva0QPtSoF3"
      },
      "execution_count": 262,
      "outputs": []
    },
    {
      "cell_type": "code",
      "source": [
        "y_train_A2_RGB_S5 = np.array(y_train_A2RGB_S5)"
      ],
      "metadata": {
        "id": "h7ggXgFMSo3S"
      },
      "execution_count": 263,
      "outputs": []
    },
    {
      "cell_type": "code",
      "source": [
        "Model1.fit(X_train_A2_RGB_S5, y_train_A2_RGB_S5)"
      ],
      "metadata": {
        "colab": {
          "base_uri": "https://localhost:8080/"
        },
        "id": "-9HRs9SySq_b",
        "outputId": "0a1934f0-6bfb-4028-cdd4-81667b0f1e79"
      },
      "execution_count": 264,
      "outputs": [
        {
          "output_type": "stream",
          "name": "stderr",
          "text": [
            "/usr/local/lib/python3.7/dist-packages/ipykernel_launcher.py:1: DataConversionWarning: A column-vector y was passed when a 1d array was expected. Please change the shape of y to (n_samples,), for example using ravel().\n",
            "  \"\"\"Entry point for launching an IPython kernel.\n"
          ]
        },
        {
          "output_type": "execute_result",
          "data": {
            "text/plain": [
              "RandomForestClassifier()"
            ]
          },
          "metadata": {},
          "execution_count": 264
        }
      ]
    },
    {
      "cell_type": "code",
      "source": [
        "y_pred_A2_RGB = Model1.predict(X_test_A2_RGB_S5)"
      ],
      "metadata": {
        "id": "aoVedGmdSujn"
      },
      "execution_count": 273,
      "outputs": []
    },
    {
      "cell_type": "code",
      "source": [
        "print(\"Accuracy:\", metrics.accuracy_score(y_test_A2_RGB_S5, y_pred_A2_RGB_S5))"
      ],
      "metadata": {
        "colab": {
          "base_uri": "https://localhost:8080/"
        },
        "id": "tffKgHe5SxJ8",
        "outputId": "68b4d455-ec4c-42cc-ce63-11223e195161"
      },
      "execution_count": 274,
      "outputs": [
        {
          "output_type": "stream",
          "name": "stdout",
          "text": [
            "Accuracy: 0.3625\n"
          ]
        }
      ]
    },
    {
      "cell_type": "markdown",
      "source": [
        "##Set6"
      ],
      "metadata": {
        "id": "q_TurosdSx_0"
      }
    },
    {
      "cell_type": "code",
      "source": [
        "RGB_A2_Set6 = table_A2Set6.drop(['H-ref','S-ref','V-ref','H-Shad','S-Shad','V-Shad','Setting','Ref','Shad','Img'], axis=1)"
      ],
      "metadata": {
        "id": "sFoQZFLxS1SU"
      },
      "execution_count": 275,
      "outputs": []
    },
    {
      "cell_type": "code",
      "source": [
        "X_test_A2_RGB_S6 = np.array(RGB_A2_Set6)"
      ],
      "metadata": {
        "id": "yYj2qn6DS1SU"
      },
      "execution_count": 276,
      "outputs": []
    },
    {
      "cell_type": "code",
      "source": [
        "y_A2_RGB_S6 =  table_A2Set6.iloc[:,14:15]"
      ],
      "metadata": {
        "id": "81X1NgiRS1SU"
      },
      "execution_count": 277,
      "outputs": []
    },
    {
      "cell_type": "code",
      "source": [
        "y_test_A2_RGB_S6 = np.array(y_A2_RGB_S6)"
      ],
      "metadata": {
        "id": "6FTY-MWwS1SU"
      },
      "execution_count": 278,
      "outputs": []
    },
    {
      "cell_type": "code",
      "source": [
        "X_train_A2_RGB_S6= np.array(RGB_A2_concat0)"
      ],
      "metadata": {
        "id": "XUFZe3PhS1SV"
      },
      "execution_count": 279,
      "outputs": []
    },
    {
      "cell_type": "code",
      "source": [
        "y_train_A2RGB_S6 = RGB_A2_concat.iloc[:,14:15]"
      ],
      "metadata": {
        "id": "-EasCn8MS1SV"
      },
      "execution_count": 280,
      "outputs": []
    },
    {
      "cell_type": "code",
      "source": [
        "y_train_A2_RGB_S6 = np.array(y_train_A2RGB_S6)"
      ],
      "metadata": {
        "id": "HBUafKaPS1SV"
      },
      "execution_count": 281,
      "outputs": []
    },
    {
      "cell_type": "code",
      "source": [
        "Model2.fit(X_train_A2_RGB_S6, y_train_A2_RGB_S6)"
      ],
      "metadata": {
        "colab": {
          "base_uri": "https://localhost:8080/"
        },
        "id": "jb4Wod08S1SV",
        "outputId": "116c9a7b-8ec9-477b-e4c9-077c3aa50ec6"
      },
      "execution_count": 282,
      "outputs": [
        {
          "output_type": "stream",
          "name": "stderr",
          "text": [
            "/usr/local/lib/python3.7/dist-packages/ipykernel_launcher.py:1: DataConversionWarning: A column-vector y was passed when a 1d array was expected. Please change the shape of y to (n_samples,), for example using ravel().\n",
            "  \"\"\"Entry point for launching an IPython kernel.\n"
          ]
        },
        {
          "output_type": "execute_result",
          "data": {
            "text/plain": [
              "RandomForestClassifier()"
            ]
          },
          "metadata": {},
          "execution_count": 282
        }
      ]
    },
    {
      "cell_type": "code",
      "source": [
        "y_pred_A2_RGB_S6 = Model2.predict(X_test_A2_RGB_S6)"
      ],
      "metadata": {
        "id": "n54mJshDS1SV"
      },
      "execution_count": 283,
      "outputs": []
    },
    {
      "cell_type": "code",
      "source": [
        "print(\"Accuracy:\", metrics.accuracy_score(y_test_A2_RGB_S6, y_pred_A2_RGB_S6))"
      ],
      "metadata": {
        "colab": {
          "base_uri": "https://localhost:8080/"
        },
        "id": "mR43MRqbS1SV",
        "outputId": "a4638d7c-034c-4bd9-fc3e-1acf9f7ae98f"
      },
      "execution_count": 284,
      "outputs": [
        {
          "output_type": "stream",
          "name": "stdout",
          "text": [
            "Accuracy: 0.32\n"
          ]
        }
      ]
    },
    {
      "cell_type": "markdown",
      "source": [
        "#A4 HSV"
      ],
      "metadata": {
        "id": "bBVoUgUzRtuc"
      }
    },
    {
      "cell_type": "code",
      "source": [
        "table_A4Set1 = pd.read_excel(Set1, sheet_name='A4_1')"
      ],
      "metadata": {
        "id": "-FrXtgXlRySJ"
      },
      "execution_count": 215,
      "outputs": []
    },
    {
      "cell_type": "code",
      "source": [
        "table_A4Set2 = pd.read_excel(Set2, sheet_name='A4_2')"
      ],
      "metadata": {
        "id": "GIT2W9fBRySJ"
      },
      "execution_count": 216,
      "outputs": []
    },
    {
      "cell_type": "code",
      "source": [
        "table_A4Set3 = pd.read_excel(Set3, sheet_name='A4_3')"
      ],
      "metadata": {
        "id": "eKzzOVnyRySK"
      },
      "execution_count": 217,
      "outputs": []
    },
    {
      "cell_type": "code",
      "source": [
        "table_A4Set4 = pd.read_excel(Set4, sheet_name='A4_4')"
      ],
      "metadata": {
        "id": "FE5b7R-gRySK"
      },
      "execution_count": 218,
      "outputs": []
    },
    {
      "cell_type": "code",
      "source": [
        "table_A4Set5 = pd.read_excel(Set5, sheet_name='A4_5')"
      ],
      "metadata": {
        "id": "TgvJ_w7uRySK"
      },
      "execution_count": 219,
      "outputs": []
    },
    {
      "cell_type": "code",
      "source": [
        "table_A4Set6 = pd.read_excel(Set6, sheet_name='A4_6')"
      ],
      "metadata": {
        "id": "QEgulFpfRySK"
      },
      "execution_count": 220,
      "outputs": []
    },
    {
      "cell_type": "code",
      "source": [
        "HSV_A4_Set1 = table_A4Set1"
      ],
      "metadata": {
        "id": "QSZJq1FITGSx"
      },
      "execution_count": 221,
      "outputs": []
    },
    {
      "cell_type": "code",
      "source": [
        "HSV_A4_Set2 = table_A4Set2"
      ],
      "metadata": {
        "id": "6v0FO1rMTGSx"
      },
      "execution_count": 222,
      "outputs": []
    },
    {
      "cell_type": "code",
      "source": [
        "HSV_A4_Set3 = table_A4Set3"
      ],
      "metadata": {
        "id": "XeY8NacyTGSx"
      },
      "execution_count": 223,
      "outputs": []
    },
    {
      "cell_type": "code",
      "source": [
        "HSV_A4_Set4 = table_A4Set4"
      ],
      "metadata": {
        "id": "hbsBSfoKTGSx"
      },
      "execution_count": 224,
      "outputs": []
    },
    {
      "cell_type": "code",
      "source": [
        "HSV_A4_concat = pd.concat([HSV_A4_Set1,HSV_A4_Set2,HSV_A4_Set3,HSV_A4_Set4])"
      ],
      "metadata": {
        "id": "sXPr6_cDTGSy"
      },
      "execution_count": 225,
      "outputs": []
    },
    {
      "cell_type": "code",
      "source": [
        "HSV_A4_concat0 = HSV_A4_concat.drop(['R-ref','G-ref','B-ref','R-Shad','G-Shad','B-Shad','Setting','Ref','Shad','Img'], axis=1)"
      ],
      "metadata": {
        "id": "obdpVEe2TGSy"
      },
      "execution_count": 226,
      "outputs": []
    },
    {
      "cell_type": "markdown",
      "source": [
        "##Set5"
      ],
      "metadata": {
        "id": "mHaiZDLkT0lB"
      }
    },
    {
      "cell_type": "code",
      "source": [
        "HSV_A4_Set5 = table_A4Set5.drop(['R-ref','G-ref','B-ref','R-Shad','G-Shad','B-Shad','Setting','Ref','Shad','Img'], axis=1)"
      ],
      "metadata": {
        "id": "LD3-yWaYUT2z"
      },
      "execution_count": 285,
      "outputs": []
    },
    {
      "cell_type": "code",
      "source": [
        "X_test_A4_HSV_S5 = np.array(HSV_A4_Set5)"
      ],
      "metadata": {
        "id": "X6XUDufLUT2z"
      },
      "execution_count": 286,
      "outputs": []
    },
    {
      "cell_type": "code",
      "source": [
        "y_A4_HSV_S5 =  table_A4Set5.iloc[:,14:15]"
      ],
      "metadata": {
        "id": "A1SN_DIaUT20"
      },
      "execution_count": 287,
      "outputs": []
    },
    {
      "cell_type": "code",
      "source": [
        "y_test_A4_HSV_S5 = np.array(y_A4_HSV_S5)"
      ],
      "metadata": {
        "id": "lyPp6LHeUT20"
      },
      "execution_count": 288,
      "outputs": []
    },
    {
      "cell_type": "code",
      "source": [
        "X_train_A4_HSV_S5 = np.array(HSV_A4_concat0)"
      ],
      "metadata": {
        "id": "m9u70LYOUT20"
      },
      "execution_count": 289,
      "outputs": []
    },
    {
      "cell_type": "code",
      "source": [
        "y_train_A4HSV_S5 = HSV_A4_concat.iloc[:,14:15]"
      ],
      "metadata": {
        "id": "BV8m5UNQUT20"
      },
      "execution_count": 290,
      "outputs": []
    },
    {
      "cell_type": "code",
      "source": [
        "y_train_A4_HSV_S5 = np.array(y_train_A4HSV_S5)"
      ],
      "metadata": {
        "id": "G4IW3HrnUT20"
      },
      "execution_count": 291,
      "outputs": []
    },
    {
      "cell_type": "code",
      "source": [
        "Model3.fit(X_train_A4_HSV_S5, y_train_A4_HSV_S5)"
      ],
      "metadata": {
        "colab": {
          "base_uri": "https://localhost:8080/"
        },
        "id": "N2sMHN7oUT20",
        "outputId": "1970a4d5-8c07-419d-f7f1-c96412ab08bd"
      },
      "execution_count": 292,
      "outputs": [
        {
          "output_type": "stream",
          "name": "stderr",
          "text": [
            "/usr/local/lib/python3.7/dist-packages/ipykernel_launcher.py:1: DataConversionWarning: A column-vector y was passed when a 1d array was expected. Please change the shape of y to (n_samples,), for example using ravel().\n",
            "  \"\"\"Entry point for launching an IPython kernel.\n"
          ]
        },
        {
          "output_type": "execute_result",
          "data": {
            "text/plain": [
              "RandomForestClassifier()"
            ]
          },
          "metadata": {},
          "execution_count": 292
        }
      ]
    },
    {
      "cell_type": "code",
      "source": [
        "y_pred_A4_HSV_S5 = Model3.predict(X_test_A4_HSV_S5)"
      ],
      "metadata": {
        "id": "ZPRP2U63UT20"
      },
      "execution_count": 296,
      "outputs": []
    },
    {
      "cell_type": "code",
      "source": [
        "print(\"Accuracy:\", metrics.accuracy_score(y_test_A4_HSV_S5, y_pred_A4_HSV_S5))"
      ],
      "metadata": {
        "colab": {
          "base_uri": "https://localhost:8080/"
        },
        "id": "fRrtQhP3UT20",
        "outputId": "8e0a9ee6-6215-44ff-b7e8-c6b59bdb4ea4"
      },
      "execution_count": 297,
      "outputs": [
        {
          "output_type": "stream",
          "name": "stdout",
          "text": [
            "Accuracy: 0.70125\n"
          ]
        }
      ]
    },
    {
      "cell_type": "markdown",
      "source": [
        "##Set6"
      ],
      "metadata": {
        "id": "CHwuzuNdT2hS"
      }
    },
    {
      "cell_type": "code",
      "source": [
        "HSV_A4_Set6 = table_A4Set6.drop(['R-ref','G-ref','B-ref','R-Shad','G-Shad','B-Shad','Setting','Ref','Shad','Img'], axis=1)"
      ],
      "metadata": {
        "id": "f44xCEeyUv7L"
      },
      "execution_count": 298,
      "outputs": []
    },
    {
      "cell_type": "code",
      "source": [
        "X_test_A4_HSV_S6 = np.array(HSV_A4_Set6)"
      ],
      "metadata": {
        "id": "s-xo_UkXUv7M"
      },
      "execution_count": 301,
      "outputs": []
    },
    {
      "cell_type": "code",
      "source": [
        "y_A4_HSV_S6=  table_A4Set6.iloc[:,14:15]"
      ],
      "metadata": {
        "id": "c0hFdQGyUv7M"
      },
      "execution_count": 302,
      "outputs": []
    },
    {
      "cell_type": "code",
      "source": [
        "y_test_A4_HSV_S6 = np.array(y_A4_HSV_S6)"
      ],
      "metadata": {
        "id": "J5Nzt4epUv7M"
      },
      "execution_count": 240,
      "outputs": []
    },
    {
      "cell_type": "code",
      "source": [
        "X_train_A4_HSV_S6 = np.array(HSV_A4_concat0)"
      ],
      "metadata": {
        "id": "NLnoXcvyUv7M"
      },
      "execution_count": 241,
      "outputs": []
    },
    {
      "cell_type": "code",
      "source": [
        "y_train_A4HSV_S6 = HSV_A4_concat.iloc[:,14:15]"
      ],
      "metadata": {
        "id": "RIztqv_MUv7M"
      },
      "execution_count": 242,
      "outputs": []
    },
    {
      "cell_type": "code",
      "source": [
        "y_train_A4_HSV_S6 = np.array(y_train_A4HSV_S6)"
      ],
      "metadata": {
        "id": "xXjTlmuFUv7M"
      },
      "execution_count": 243,
      "outputs": []
    },
    {
      "cell_type": "code",
      "source": [
        "Model4.fit(X_train_A4_HSV_S6, y_train_A4_HSV_S6)"
      ],
      "metadata": {
        "colab": {
          "base_uri": "https://localhost:8080/"
        },
        "id": "f9e_toWRUv7M",
        "outputId": "8fc6fa06-9024-4f98-d5b7-b723cd9d7738"
      },
      "execution_count": 244,
      "outputs": [
        {
          "output_type": "stream",
          "name": "stderr",
          "text": [
            "/usr/local/lib/python3.7/dist-packages/ipykernel_launcher.py:1: DataConversionWarning: A column-vector y was passed when a 1d array was expected. Please change the shape of y to (n_samples,), for example using ravel().\n",
            "  \"\"\"Entry point for launching an IPython kernel.\n"
          ]
        },
        {
          "output_type": "execute_result",
          "data": {
            "text/plain": [
              "RandomForestClassifier()"
            ]
          },
          "metadata": {},
          "execution_count": 244
        }
      ]
    },
    {
      "cell_type": "code",
      "source": [
        "y_pred_A4_HSV_S6 = Model4.predict(X_test_A4_HSV_S6)"
      ],
      "metadata": {
        "id": "N7a_yHqOUv7M"
      },
      "execution_count": 303,
      "outputs": []
    },
    {
      "cell_type": "code",
      "source": [
        "print(\"Accuracy:\", metrics.accuracy_score(y_test_A4_HSV_S6, y_pred_A4_HSV_S6))"
      ],
      "metadata": {
        "colab": {
          "base_uri": "https://localhost:8080/"
        },
        "id": "4xvtXn3PUv7M",
        "outputId": "67626e5a-495f-4ca3-ac5e-b537cbb58c99"
      },
      "execution_count": 304,
      "outputs": [
        {
          "output_type": "stream",
          "name": "stdout",
          "text": [
            "Accuracy: 0.38625\n"
          ]
        }
      ]
    },
    {
      "cell_type": "markdown",
      "source": [
        "#Accuracy"
      ],
      "metadata": {
        "id": "SXXTPWTJMGbr"
      }
    },
    {
      "cell_type": "code",
      "source": [
        "print(\"Set5 A2 ได้ Accuracy:\", metrics.accuracy_score(y_test_A2_RGB_S5, y_pred_A2_RGB_S5))\n",
        "print(\"Set6 A2 ได้ Accuracy:\", metrics.accuracy_score(y_test_A2_RGB_S6, y_pred_A2_RGB_S6))"
      ],
      "metadata": {
        "id": "2fVafcUyMh5q",
        "outputId": "78c7a215-7e32-4bb4-f6a1-446d061764af",
        "colab": {
          "base_uri": "https://localhost:8080/"
        }
      },
      "execution_count": 307,
      "outputs": [
        {
          "output_type": "stream",
          "name": "stdout",
          "text": [
            "Set5 A2 ได้ Accuracy: 0.32\n",
            "Set6 A2 ได้ Accuracy: 0.32\n"
          ]
        }
      ]
    },
    {
      "cell_type": "code",
      "source": [
        "print(\"Set5 A4 ได้ Accuracy:\", metrics.accuracy_score(y_test_A4_HSV_S5, y_pred_A4_HSV_S5))\n",
        "print(\"Set6 A4 ได้ Accuracy:\", metrics.accuracy_score(y_test_A4_HSV_S6, y_pred_A4_HSV_S6))"
      ],
      "metadata": {
        "id": "UWSIS9RZMIND",
        "outputId": "d2f1c240-174b-4b41-d960-caccf21237a2",
        "colab": {
          "base_uri": "https://localhost:8080/"
        }
      },
      "execution_count": 308,
      "outputs": [
        {
          "output_type": "stream",
          "name": "stdout",
          "text": [
            "Set5 A4 ได้ Accuracy: 0.38625\n",
            "Set6 A4 ได้ Accuracy: 0.38625\n"
          ]
        }
      ]
    },
    {
      "cell_type": "markdown",
      "source": [
        "#Save Model"
      ],
      "metadata": {
        "id": "w6yxbuxmV-Eu"
      }
    },
    {
      "cell_type": "code",
      "source": [
        "import cv2"
      ],
      "metadata": {
        "id": "Dzj7gmYrYBSO"
      },
      "execution_count": 249,
      "outputs": []
    },
    {
      "cell_type": "code",
      "source": [
        "import pickle\n",
        "with open('Model_A2_rgb1.pkl', 'wb') as pickle_file :\n",
        "       pickle.dump(Model1, pickle_file )"
      ],
      "metadata": {
        "id": "0vE7kDs8WAAm"
      },
      "execution_count": 250,
      "outputs": []
    },
    {
      "cell_type": "code",
      "source": [
        "import pickle\n",
        "with open('Model_A4_hsv1.pkl', 'wb') as pickle_file :\n",
        "       pickle.dump(Model3, pickle_file )"
      ],
      "metadata": {
        "id": "du4JLmAMWTnG"
      },
      "execution_count": 251,
      "outputs": []
    },
    {
      "cell_type": "code",
      "source": [
        "!pip install azure-storage-blob==2.1.0"
      ],
      "metadata": {
        "id": "AXCy9HlDYC1Y",
        "outputId": "5ec458ab-57a6-4514-8182-2445267045eb",
        "colab": {
          "base_uri": "https://localhost:8080/"
        }
      },
      "execution_count": 252,
      "outputs": [
        {
          "output_type": "stream",
          "name": "stdout",
          "text": [
            "Requirement already satisfied: azure-storage-blob==2.1.0 in /usr/local/lib/python3.7/dist-packages (2.1.0)\n",
            "Requirement already satisfied: azure-common>=1.1.5 in /usr/local/lib/python3.7/dist-packages (from azure-storage-blob==2.1.0) (1.1.28)\n",
            "Requirement already satisfied: azure-storage-common~=2.1 in /usr/local/lib/python3.7/dist-packages (from azure-storage-blob==2.1.0) (2.1.0)\n",
            "Requirement already satisfied: python-dateutil in /usr/local/lib/python3.7/dist-packages (from azure-storage-common~=2.1->azure-storage-blob==2.1.0) (2.8.2)\n",
            "Requirement already satisfied: cryptography in /usr/local/lib/python3.7/dist-packages (from azure-storage-common~=2.1->azure-storage-blob==2.1.0) (36.0.1)\n",
            "Requirement already satisfied: requests in /usr/local/lib/python3.7/dist-packages (from azure-storage-common~=2.1->azure-storage-blob==2.1.0) (2.23.0)\n",
            "Requirement already satisfied: cffi>=1.12 in /usr/local/lib/python3.7/dist-packages (from cryptography->azure-storage-common~=2.1->azure-storage-blob==2.1.0) (1.15.0)\n",
            "Requirement already satisfied: pycparser in /usr/local/lib/python3.7/dist-packages (from cffi>=1.12->cryptography->azure-storage-common~=2.1->azure-storage-blob==2.1.0) (2.21)\n",
            "Requirement already satisfied: six>=1.5 in /usr/local/lib/python3.7/dist-packages (from python-dateutil->azure-storage-common~=2.1->azure-storage-blob==2.1.0) (1.15.0)\n",
            "Requirement already satisfied: certifi>=2017.4.17 in /usr/local/lib/python3.7/dist-packages (from requests->azure-storage-common~=2.1->azure-storage-blob==2.1.0) (2021.10.8)\n",
            "Requirement already satisfied: urllib3!=1.25.0,!=1.25.1,<1.26,>=1.21.1 in /usr/local/lib/python3.7/dist-packages (from requests->azure-storage-common~=2.1->azure-storage-blob==2.1.0) (1.24.3)\n",
            "Requirement already satisfied: idna<3,>=2.5 in /usr/local/lib/python3.7/dist-packages (from requests->azure-storage-common~=2.1->azure-storage-blob==2.1.0) (2.10)\n",
            "Requirement already satisfied: chardet<4,>=3.0.2 in /usr/local/lib/python3.7/dist-packages (from requests->azure-storage-common~=2.1->azure-storage-blob==2.1.0) (3.0.4)\n"
          ]
        }
      ]
    },
    {
      "cell_type": "code",
      "source": [
        "from azure.storage.blob import BlockBlobService\n",
        "import os\n",
        "blob_service_client = BlockBlobService(account_name='dent01', account_key='CuShY0B4TZJ84TjzPpaHxyrHOpO73aGXeCpdVq7x26OjIlQ1HOz+3DVc9pDEj9BdcEL8odFuTRF0mOAE+aCgiw==')"
      ],
      "metadata": {
        "id": "vj7O-7MtX9tj"
      },
      "execution_count": 253,
      "outputs": []
    },
    {
      "cell_type": "code",
      "source": [
        "imgA2_1 = 'E9896AEB-AC43-43BA-8395-1A8640C68F11.png' #A1 --ไม่ถูก\n",
        "imgA2_2 = '9D32D7FF-0A67-4AA4-8424-06D37D892DC2.png' #A4\n",
        "imgA2_3 = '0F32B754-C0C2-43F6-9B65-EEE0851F4CEB.png' #B1\n",
        "imgA2_4 = 'BA3C7923-CD9F-4809-8EEC-24B30F025D13.png' #B3\n",
        "imgA2_5 = '17E72DB3-AA02-4622-B461-89DCBCD642A5.png' #C2 --ไม่ถูก\n",
        "imgA2_6 = 'A2723199-FA79-4ABD-8C67-EBC58083FEA9.png' #B2\n",
        "imgA2_7 = 'D79DF66A-7CAC-4461-9E6E-CA221FB7A057.png' #C4\n",
        "imgA2_8 = 'E669F6F4-C912-47F4-B0C1-A46433E02B07.png' #D3\n",
        "imgA2_9 = '402E5CB5-10DD-4C36-B760-CFD2237DD396.png' #D4\n",
        "imgA2_10 = '599ACC1F-875A-4988-9332-68FAB7D132B5.png' #A3"
      ],
      "metadata": {
        "id": "7z85-fMbX3Jy"
      },
      "execution_count": 254,
      "outputs": []
    },
    {
      "cell_type": "code",
      "source": [
        "imgA4_1 = 'A2F40499-0CDC-4ACC-89BB-63762A71A7CA.png'\n",
        "imgA4_2 = '289920D2-E811-4F85-869F-E9238CCBEFD5.png'\n",
        "imgA4_3 = '2D555778-9B7B-44AB-BFA1-590F15D5A7FA.png'\n",
        "imgA4_4 = 'EB5B2198-7C61-4692-BAB8-8DA69697C5A3.png'\n",
        "imgA4_5 = '9E01A657-3CD7-42A1-ACF9-A3E39556E504.png'\n",
        "imgA4_6 = '2B45231E-E270-4418-8D4E-10324F2156D6.png'\n",
        "imgA4_7 = '0640BC96-6C7A-4379-ABCC-B1D74786F95F.png'\n",
        "imgA4_8 = '5162C60F-E139-444F-BDDF-53AC0B23DAEE.png'\n",
        "imgA4_9 = '1330C715-722A-4786-884B-944CECB1C1B2.png'\n",
        "imgA4_10 = '53EB262D-4941-4FCD-B8CD-FA52FC2C5409.png'"
      ],
      "metadata": {
        "id": "1FpoHnsqZQlK"
      },
      "execution_count": 255,
      "outputs": []
    },
    {
      "cell_type": "code",
      "source": [
        "S5_double = imgA2_10\n",
        "full_path_to_file2 = os.path.join(S5_double) \n",
        "blob_service_client.get_blob_to_path('shadeimg', full_path_to_file2, full_path_to_file2)\n",
        "imagee = cv2.imread(S5_double)"
      ],
      "metadata": {
        "id": "qrVMQ5l3X1GF"
      },
      "execution_count": 256,
      "outputs": []
    }
  ]
}