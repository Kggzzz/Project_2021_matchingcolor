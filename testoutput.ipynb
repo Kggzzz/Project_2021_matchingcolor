{
  "nbformat": 4,
  "nbformat_minor": 0,
  "metadata": {
    "colab": {
      "name": "testoutput.ipynb",
      "provenance": [],
      "include_colab_link": true
    },
    "kernelspec": {
      "name": "python3",
      "display_name": "Python 3"
    },
    "language_info": {
      "name": "python"
    }
  },
  "cells": [
    {
      "cell_type": "markdown",
      "metadata": {
        "id": "view-in-github",
        "colab_type": "text"
      },
      "source": [
        "<a href=\"https://colab.research.google.com/github/Kggzzz/Project_2021_matchingcolor/blob/main/testoutput.ipynb\" target=\"_parent\"><img src=\"https://colab.research.google.com/assets/colab-badge.svg\" alt=\"Open In Colab\"/></a>"
      ]
    },
    {
      "cell_type": "markdown",
      "source": [
        "#Model "
      ],
      "metadata": {
        "id": "ssvGIa4Py9rG"
      }
    },
    {
      "cell_type": "code",
      "source": [
        "import numpy as np"
      ],
      "metadata": {
        "id": "8ISBGlPBzzvw"
      },
      "execution_count": 1,
      "outputs": []
    },
    {
      "cell_type": "code",
      "source": [
        "from sklearn import metrics"
      ],
      "metadata": {
        "id": "FTwRPXBBzw1v"
      },
      "execution_count": 2,
      "outputs": []
    },
    {
      "cell_type": "code",
      "source": [
        "from sklearn import datasets"
      ],
      "metadata": {
        "id": "KR8lVsZXpX9X"
      },
      "execution_count": 3,
      "outputs": []
    },
    {
      "cell_type": "code",
      "source": [
        "from sklearn.ensemble import RandomForestClassifier"
      ],
      "metadata": {
        "id": "cfRBaPLCI0vn"
      },
      "execution_count": 4,
      "outputs": []
    },
    {
      "cell_type": "code",
      "source": [
        "import xgboost as xgb"
      ],
      "metadata": {
        "id": "h50-WlNzOp3W"
      },
      "execution_count": 5,
      "outputs": []
    },
    {
      "cell_type": "code",
      "source": [
        "from sklearn import svm"
      ],
      "metadata": {
        "id": "wM9lCq5ZOqOc"
      },
      "execution_count": 6,
      "outputs": []
    },
    {
      "cell_type": "code",
      "source": [
        "import pandas as pd"
      ],
      "metadata": {
        "id": "uJm_2vBUP9p2"
      },
      "execution_count": 7,
      "outputs": []
    },
    {
      "cell_type": "code",
      "source": [
        "from google.colab import drive \n",
        "drive.mount('/content/drive')"
      ],
      "metadata": {
        "colab": {
          "base_uri": "https://localhost:8080/"
        },
        "id": "_8KDD0WgQC_c",
        "outputId": "1f407c4a-2669-4ffd-affc-bd2e1c3e83dd"
      },
      "execution_count": 8,
      "outputs": [
        {
          "output_type": "stream",
          "name": "stdout",
          "text": [
            "Mounted at /content/drive\n"
          ]
        }
      ]
    },
    {
      "cell_type": "code",
      "source": [
        "import os"
      ],
      "metadata": {
        "id": "-RXgiw8nQEFY"
      },
      "execution_count": 9,
      "outputs": []
    },
    {
      "cell_type": "code",
      "source": [
        "path = '/content/drive/My Drive/shadeimg/SVM shade'"
      ],
      "metadata": {
        "id": "ehxFczjDQFLC"
      },
      "execution_count": 10,
      "outputs": []
    },
    {
      "cell_type": "code",
      "source": [
        "os.listdir(path)"
      ],
      "metadata": {
        "id": "B7dvVcB-QGcE",
        "colab": {
          "base_uri": "https://localhost:8080/"
        },
        "outputId": "4cf77b8c-b6bc-4370-c096-a2399aa4cb55"
      },
      "execution_count": 11,
      "outputs": [
        {
          "output_type": "execute_result",
          "data": {
            "text/plain": [
              "['DD.xlsx',\n",
              " 'CC.xlsx',\n",
              " 'BB.xlsx',\n",
              " 'Shade_AA.xlsx',\n",
              " 'Shade_CC.xlsx',\n",
              " 'Shade_DD.xlsx',\n",
              " 'Shade_BB.xlsx',\n",
              " 'AA.xlsx',\n",
              " 'AA_2.xlsx',\n",
              " 'Shad_A.xlsx',\n",
              " 'Shad_B.xlsx',\n",
              " 'Shad_C.xlsx',\n",
              " 'Shad_D.xlsx',\n",
              " 'Setting4.xlsx',\n",
              " 'Color-checkerAA.xlsx',\n",
              " 'Color-checkerBB.xlsx',\n",
              " 'Color-checkerCC.xlsx',\n",
              " 'Setting2.xlsx',\n",
              " 'D3set51.csv',\n",
              " 'Setting1.xlsx',\n",
              " 'CheckerDD.xlsx',\n",
              " 'Setting3.xlsx',\n",
              " 'Setting6.xlsx',\n",
              " 'Setting5.xlsx',\n",
              " 'checkerShad_A .xlsx',\n",
              " 'checkerShad_B.xlsx',\n",
              " 'checkerShad_C.xlsx',\n",
              " 'D3Set5-61.xlsx',\n",
              " 'checkerShad_D.xlsx',\n",
              " 'Color-checkerDD.xlsx',\n",
              " 'Datapoint_1.xlsx',\n",
              " 'Datapoint_2.xlsx',\n",
              " 'Datapoint_3.xlsx',\n",
              " 'Datapoint_4.xlsx',\n",
              " 'Datapoint_6.xlsx',\n",
              " 'Datapoint_5.xlsx']"
            ]
          },
          "metadata": {},
          "execution_count": 11
        }
      ]
    },
    {
      "cell_type": "code",
      "source": [
        "Set1 = os.path.join(path,'Datapoint_1.xlsx')\n",
        "print(Set1)"
      ],
      "metadata": {
        "id": "CMbG8rSdQIaw",
        "colab": {
          "base_uri": "https://localhost:8080/"
        },
        "outputId": "5cd52481-dd63-4c63-b697-8b3d30ea7704"
      },
      "execution_count": 12,
      "outputs": [
        {
          "output_type": "stream",
          "name": "stdout",
          "text": [
            "/content/drive/My Drive/shadeimg/SVM shade/Datapoint_1.xlsx\n"
          ]
        }
      ]
    },
    {
      "cell_type": "code",
      "source": [
        "Set2 = os.path.join(path,'Datapoint_2.xlsx')\n",
        "print(Set2)"
      ],
      "metadata": {
        "id": "SwX5IxeQQJk-",
        "colab": {
          "base_uri": "https://localhost:8080/"
        },
        "outputId": "9cc889fb-3e54-46f0-ea55-ed2924242641"
      },
      "execution_count": 13,
      "outputs": [
        {
          "output_type": "stream",
          "name": "stdout",
          "text": [
            "/content/drive/My Drive/shadeimg/SVM shade/Datapoint_2.xlsx\n"
          ]
        }
      ]
    },
    {
      "cell_type": "code",
      "source": [
        "Set3 = os.path.join(path,'Datapoint_3.xlsx')\n",
        "print(Set3)"
      ],
      "metadata": {
        "id": "m2BCIcaIQLQK",
        "colab": {
          "base_uri": "https://localhost:8080/"
        },
        "outputId": "a0d7ce46-79cf-4ec3-ba42-e69b54d496a5"
      },
      "execution_count": 14,
      "outputs": [
        {
          "output_type": "stream",
          "name": "stdout",
          "text": [
            "/content/drive/My Drive/shadeimg/SVM shade/Datapoint_3.xlsx\n"
          ]
        }
      ]
    },
    {
      "cell_type": "code",
      "source": [
        "Set4 = os.path.join(path,'Datapoint_4.xlsx')\n",
        "print(Set4)"
      ],
      "metadata": {
        "id": "JjNMYk0fQMha",
        "colab": {
          "base_uri": "https://localhost:8080/"
        },
        "outputId": "2da304d7-d98d-44e3-da23-fe68535f395e"
      },
      "execution_count": 15,
      "outputs": [
        {
          "output_type": "stream",
          "name": "stdout",
          "text": [
            "/content/drive/My Drive/shadeimg/SVM shade/Datapoint_4.xlsx\n"
          ]
        }
      ]
    },
    {
      "cell_type": "code",
      "source": [
        "Set5 = os.path.join(path,'Datapoint_5.xlsx')\n",
        "print(Set5)"
      ],
      "metadata": {
        "id": "YpXzpzEBQ0oT",
        "colab": {
          "base_uri": "https://localhost:8080/"
        },
        "outputId": "f6906a2b-174b-4b16-c554-f9aab38fc9b5"
      },
      "execution_count": 16,
      "outputs": [
        {
          "output_type": "stream",
          "name": "stdout",
          "text": [
            "/content/drive/My Drive/shadeimg/SVM shade/Datapoint_5.xlsx\n"
          ]
        }
      ]
    },
    {
      "cell_type": "code",
      "source": [
        "Set6 = os.path.join(path,'Datapoint_6.xlsx')\n",
        "print(Set6)"
      ],
      "metadata": {
        "id": "wd2Y2s-SQ3YD",
        "colab": {
          "base_uri": "https://localhost:8080/"
        },
        "outputId": "a3f58be6-fc6a-43e0-8323-de9f07c3b1fa"
      },
      "execution_count": 17,
      "outputs": [
        {
          "output_type": "stream",
          "name": "stdout",
          "text": [
            "/content/drive/My Drive/shadeimg/SVM shade/Datapoint_6.xlsx\n"
          ]
        }
      ]
    },
    {
      "cell_type": "markdown",
      "source": [
        "#A2 RGB"
      ],
      "metadata": {
        "id": "Rg3ods3bRmn5"
      }
    },
    {
      "cell_type": "code",
      "source": [
        "Model1 = RandomForestClassifier()"
      ],
      "metadata": {
        "id": "aZ3mSk1-QhhK"
      },
      "execution_count": null,
      "outputs": []
    },
    {
      "cell_type": "code",
      "source": [
        "Model2 = RandomForestClassifier()"
      ],
      "metadata": {
        "id": "BBIzw95YQnKy"
      },
      "execution_count": null,
      "outputs": []
    },
    {
      "cell_type": "code",
      "source": [
        "Model9 = xgb.XGBClassifier()"
      ],
      "metadata": {
        "id": "YNV_k4uoO3Ly"
      },
      "execution_count": null,
      "outputs": []
    },
    {
      "cell_type": "code",
      "source": [
        "Model10 = xgb.XGBClassifier()"
      ],
      "metadata": {
        "id": "1e29u81fO7kc"
      },
      "execution_count": null,
      "outputs": []
    },
    {
      "cell_type": "code",
      "source": [
        "table_A2Set1 = pd.read_excel(Set1, sheet_name='A2_1')"
      ],
      "metadata": {
        "id": "G9jMjDPuRHKd"
      },
      "execution_count": null,
      "outputs": []
    },
    {
      "cell_type": "code",
      "source": [
        "table_A2Set2 = pd.read_excel(Set2, sheet_name='A2_2')"
      ],
      "metadata": {
        "id": "-rapVqQhRPZl"
      },
      "execution_count": null,
      "outputs": []
    },
    {
      "cell_type": "code",
      "source": [
        "table_A2Set3 = pd.read_excel(Set3, sheet_name='A2_3')"
      ],
      "metadata": {
        "id": "UWHXk5yCRQBO"
      },
      "execution_count": null,
      "outputs": []
    },
    {
      "cell_type": "code",
      "source": [
        "table_A2Set4 = pd.read_excel(Set4, sheet_name='A2_4')"
      ],
      "metadata": {
        "id": "rhCLQnVORQVD"
      },
      "execution_count": null,
      "outputs": []
    },
    {
      "cell_type": "code",
      "source": [
        "table_A2Set5 = pd.read_excel(Set5, sheet_name='A2_5')"
      ],
      "metadata": {
        "id": "PBbAmi5fRRLn"
      },
      "execution_count": null,
      "outputs": []
    },
    {
      "cell_type": "code",
      "source": [
        "table_A2Set6 = pd.read_excel(Set6, sheet_name='A2_6')"
      ],
      "metadata": {
        "id": "wXAI17t7RRak"
      },
      "execution_count": null,
      "outputs": []
    },
    {
      "cell_type": "code",
      "source": [
        "RGB_A2_Set1 = table_A2Set1"
      ],
      "metadata": {
        "id": "JwQs8ralfsgo"
      },
      "execution_count": null,
      "outputs": []
    },
    {
      "cell_type": "code",
      "source": [
        "RGB_A2_Set2 = table_A2Set2"
      ],
      "metadata": {
        "id": "RdIInq3Ifsgo"
      },
      "execution_count": null,
      "outputs": []
    },
    {
      "cell_type": "code",
      "source": [
        "RGB_A2_Set3 = table_A2Set3"
      ],
      "metadata": {
        "id": "gug7sAQwfsgo"
      },
      "execution_count": null,
      "outputs": []
    },
    {
      "cell_type": "code",
      "source": [
        "RGB_A2_Set4 = table_A2Set4"
      ],
      "metadata": {
        "id": "-OHkZAoUR3ou"
      },
      "execution_count": null,
      "outputs": []
    },
    {
      "cell_type": "code",
      "source": [
        "RGB_A2_concat = pd.concat([RGB_A2_Set1,RGB_A2_Set2,RGB_A2_Set3,RGB_A2_Set4])"
      ],
      "metadata": {
        "id": "jvqEy8NKQp-L"
      },
      "execution_count": null,
      "outputs": []
    },
    {
      "cell_type": "code",
      "source": [
        "RGB_A2_concat0 = RGB_A2_concat.drop(['H-ref','S-ref','V-ref','H-Shad','S-Shad','V-Shad','Setting','Ref','Shad','Img'], axis=1)"
      ],
      "metadata": {
        "id": "zrlegFEESHMa"
      },
      "execution_count": null,
      "outputs": []
    },
    {
      "cell_type": "markdown",
      "source": [
        "##Set5 RF"
      ],
      "metadata": {
        "id": "2h8p7YFuSPO2"
      }
    },
    {
      "cell_type": "code",
      "source": [
        "RGB_A2_Set5 = table_A2Set5.drop(['H-ref','S-ref','V-ref','H-Shad','S-Shad','V-Shad','Setting','Ref','Shad','Img'], axis=1)"
      ],
      "metadata": {
        "id": "Mq-6u2SXSRV2"
      },
      "execution_count": null,
      "outputs": []
    },
    {
      "cell_type": "code",
      "source": [
        "X_test_A2_RGB_S5 = np.array(RGB_A2_Set5)"
      ],
      "metadata": {
        "id": "94pqdE4bSXQo"
      },
      "execution_count": null,
      "outputs": []
    },
    {
      "cell_type": "code",
      "source": [
        "y_A2_RGB_S5 =  table_A2Set5.iloc[:,14:15]"
      ],
      "metadata": {
        "id": "p8t6atQ0ScVf"
      },
      "execution_count": null,
      "outputs": []
    },
    {
      "cell_type": "code",
      "source": [
        "y_test_A2_RGB_S5 = np.array(y_A2_RGB_S5)"
      ],
      "metadata": {
        "id": "SOaQgnXQSet6"
      },
      "execution_count": null,
      "outputs": []
    },
    {
      "cell_type": "code",
      "source": [
        "X_train_A2_RGB_S5 = np.array(RGB_A2_concat0)"
      ],
      "metadata": {
        "id": "mE4sy67gSjPn"
      },
      "execution_count": null,
      "outputs": []
    },
    {
      "cell_type": "code",
      "source": [
        "y_train_A2RGB_S5 = RGB_A2_concat.iloc[:,14:15]"
      ],
      "metadata": {
        "id": "esva0QPtSoF3"
      },
      "execution_count": null,
      "outputs": []
    },
    {
      "cell_type": "code",
      "source": [
        "y_train_A2_RGB_S5 = np.array(y_train_A2RGB_S5)"
      ],
      "metadata": {
        "id": "h7ggXgFMSo3S"
      },
      "execution_count": null,
      "outputs": []
    },
    {
      "cell_type": "code",
      "source": [
        "Model1.fit(X_train_A2_RGB_S5, y_train_A2_RGB_S5)"
      ],
      "metadata": {
        "id": "-9HRs9SySq_b",
        "colab": {
          "base_uri": "https://localhost:8080/"
        },
        "outputId": "11c7af80-8d4a-4718-8db2-1f9bfeb5b28d"
      },
      "execution_count": null,
      "outputs": [
        {
          "output_type": "stream",
          "name": "stderr",
          "text": [
            "/usr/local/lib/python3.7/dist-packages/ipykernel_launcher.py:1: DataConversionWarning: A column-vector y was passed when a 1d array was expected. Please change the shape of y to (n_samples,), for example using ravel().\n",
            "  \"\"\"Entry point for launching an IPython kernel.\n"
          ]
        },
        {
          "output_type": "execute_result",
          "data": {
            "text/plain": [
              "RandomForestClassifier()"
            ]
          },
          "metadata": {},
          "execution_count": 41
        }
      ]
    },
    {
      "cell_type": "code",
      "source": [
        "y_pred_A2_RGB_S5 = Model1.predict(X_test_A2_RGB_S5)"
      ],
      "metadata": {
        "id": "aoVedGmdSujn"
      },
      "execution_count": null,
      "outputs": []
    },
    {
      "cell_type": "code",
      "source": [
        "print(\"Accuracy:\", metrics.accuracy_score(y_test_A2_RGB_S5, y_pred_A2_RGB_S5))"
      ],
      "metadata": {
        "id": "tffKgHe5SxJ8",
        "colab": {
          "base_uri": "https://localhost:8080/"
        },
        "outputId": "a8e5e52f-8b88-4962-aec5-9d18a16331b2"
      },
      "execution_count": null,
      "outputs": [
        {
          "output_type": "stream",
          "name": "stdout",
          "text": [
            "Accuracy: 0.375\n"
          ]
        }
      ]
    },
    {
      "cell_type": "markdown",
      "source": [
        "##Set5 XGB"
      ],
      "metadata": {
        "id": "KS6KfLygPyAh"
      }
    },
    {
      "cell_type": "code",
      "source": [
        "RGB_A2_Set5_xgb = table_A2Set5.drop(['H-ref','S-ref','V-ref','H-Shad','S-Shad','V-Shad','Setting','Ref','Shad','Img'], axis=1)"
      ],
      "metadata": {
        "id": "693Z7WSrP24f"
      },
      "execution_count": null,
      "outputs": []
    },
    {
      "cell_type": "code",
      "source": [
        "X_test_A2_RGB_S5_xgb  = np.array(RGB_A2_Set5_xgb )"
      ],
      "metadata": {
        "id": "7n574IVFP24l"
      },
      "execution_count": null,
      "outputs": []
    },
    {
      "cell_type": "code",
      "source": [
        "y_A2_RGB_S5_xgb  =  table_A2Set5.iloc[:,14:15]"
      ],
      "metadata": {
        "id": "mpP9MUW1P24l"
      },
      "execution_count": null,
      "outputs": []
    },
    {
      "cell_type": "code",
      "source": [
        "y_test_A2_RGB_S5_xgb  = np.array(y_A2_RGB_S5_xgb )"
      ],
      "metadata": {
        "id": "VuILQulTP24m"
      },
      "execution_count": null,
      "outputs": []
    },
    {
      "cell_type": "code",
      "source": [
        "X_train_A2_RGB_S5_xgb  = np.array(RGB_A2_concat0)"
      ],
      "metadata": {
        "id": "vokXsYkdP24m"
      },
      "execution_count": null,
      "outputs": []
    },
    {
      "cell_type": "code",
      "source": [
        "y_train_A2RGB_S5_xgb  = RGB_A2_concat.iloc[:,14:15]"
      ],
      "metadata": {
        "id": "WQmqaSywP24m"
      },
      "execution_count": null,
      "outputs": []
    },
    {
      "cell_type": "code",
      "source": [
        "y_train_A2_RGB_S5_xgb  = np.array(y_train_A2RGB_S5_xgb )"
      ],
      "metadata": {
        "id": "iHpWXj6bP24m"
      },
      "execution_count": null,
      "outputs": []
    },
    {
      "cell_type": "code",
      "source": [
        "Model9.fit(X_train_A2_RGB_S5_xgb , y_train_A2_RGB_S5_xgb )"
      ],
      "metadata": {
        "id": "pfUsxSB6P24m",
        "colab": {
          "base_uri": "https://localhost:8080/"
        },
        "outputId": "1085911c-df94-4629-9be9-1ab62e70cde4"
      },
      "execution_count": null,
      "outputs": [
        {
          "output_type": "stream",
          "name": "stderr",
          "text": [
            "/usr/local/lib/python3.7/dist-packages/sklearn/preprocessing/_label.py:98: DataConversionWarning: A column-vector y was passed when a 1d array was expected. Please change the shape of y to (n_samples, ), for example using ravel().\n",
            "  y = column_or_1d(y, warn=True)\n",
            "/usr/local/lib/python3.7/dist-packages/sklearn/preprocessing/_label.py:133: DataConversionWarning: A column-vector y was passed when a 1d array was expected. Please change the shape of y to (n_samples, ), for example using ravel().\n",
            "  y = column_or_1d(y, warn=True)\n"
          ]
        },
        {
          "output_type": "execute_result",
          "data": {
            "text/plain": [
              "XGBClassifier(objective='multi:softprob')"
            ]
          },
          "metadata": {},
          "execution_count": 51
        }
      ]
    },
    {
      "cell_type": "code",
      "source": [
        "y_pred_A2_RGB_S5_xgb  = Model9.predict(X_test_A2_RGB_S5_xgb )"
      ],
      "metadata": {
        "id": "9m6h7ClkP24m"
      },
      "execution_count": null,
      "outputs": []
    },
    {
      "cell_type": "code",
      "source": [
        "print(\"Accuracy:\", metrics.accuracy_score(y_test_A2_RGB_S5_xgb , y_pred_A2_RGB_S5_xgb ))"
      ],
      "metadata": {
        "id": "jwjVHBxVP24m",
        "colab": {
          "base_uri": "https://localhost:8080/"
        },
        "outputId": "c758a420-562b-4035-9ade-a667f014b92f"
      },
      "execution_count": null,
      "outputs": [
        {
          "output_type": "stream",
          "name": "stdout",
          "text": [
            "Accuracy: 0.29\n"
          ]
        }
      ]
    },
    {
      "cell_type": "markdown",
      "source": [
        "##Set6 RF "
      ],
      "metadata": {
        "id": "q_TurosdSx_0"
      }
    },
    {
      "cell_type": "code",
      "source": [
        "RGB_A2_Set6 = table_A2Set6.drop(['H-ref','S-ref','V-ref','H-Shad','S-Shad','V-Shad','Setting','Ref','Shad','Img'], axis=1)"
      ],
      "metadata": {
        "id": "sFoQZFLxS1SU"
      },
      "execution_count": null,
      "outputs": []
    },
    {
      "cell_type": "code",
      "source": [
        "X_test_A2_RGB_S6 = np.array(RGB_A2_Set6)"
      ],
      "metadata": {
        "id": "yYj2qn6DS1SU"
      },
      "execution_count": null,
      "outputs": []
    },
    {
      "cell_type": "code",
      "source": [
        "y_A2_RGB_S6 =  table_A2Set6.iloc[:,14:15]"
      ],
      "metadata": {
        "id": "81X1NgiRS1SU"
      },
      "execution_count": null,
      "outputs": []
    },
    {
      "cell_type": "code",
      "source": [
        "y_test_A2_RGB_S6 = np.array(y_A2_RGB_S6)"
      ],
      "metadata": {
        "id": "6FTY-MWwS1SU"
      },
      "execution_count": null,
      "outputs": []
    },
    {
      "cell_type": "code",
      "source": [
        "X_train_A2_RGB_S6= np.array(RGB_A2_concat0)"
      ],
      "metadata": {
        "id": "XUFZe3PhS1SV"
      },
      "execution_count": null,
      "outputs": []
    },
    {
      "cell_type": "code",
      "source": [
        "y_train_A2RGB_S6 = RGB_A2_concat.iloc[:,14:15]"
      ],
      "metadata": {
        "id": "-EasCn8MS1SV"
      },
      "execution_count": null,
      "outputs": []
    },
    {
      "cell_type": "code",
      "source": [
        "y_train_A2_RGB_S6 = np.array(y_train_A2RGB_S6)"
      ],
      "metadata": {
        "id": "HBUafKaPS1SV"
      },
      "execution_count": null,
      "outputs": []
    },
    {
      "cell_type": "code",
      "source": [
        "Model2.fit(X_train_A2_RGB_S6, y_train_A2_RGB_S6)"
      ],
      "metadata": {
        "id": "jb4Wod08S1SV",
        "colab": {
          "base_uri": "https://localhost:8080/"
        },
        "outputId": "dde0a03e-2be4-4539-81a4-c2693b6452c4"
      },
      "execution_count": null,
      "outputs": [
        {
          "output_type": "stream",
          "name": "stderr",
          "text": [
            "/usr/local/lib/python3.7/dist-packages/ipykernel_launcher.py:1: DataConversionWarning: A column-vector y was passed when a 1d array was expected. Please change the shape of y to (n_samples,), for example using ravel().\n",
            "  \"\"\"Entry point for launching an IPython kernel.\n"
          ]
        },
        {
          "output_type": "execute_result",
          "data": {
            "text/plain": [
              "RandomForestClassifier()"
            ]
          },
          "metadata": {},
          "execution_count": 61
        }
      ]
    },
    {
      "cell_type": "code",
      "source": [
        "y_pred_A2_RGB_S6 = Model2.predict(X_test_A2_RGB_S6)"
      ],
      "metadata": {
        "id": "n54mJshDS1SV"
      },
      "execution_count": null,
      "outputs": []
    },
    {
      "cell_type": "code",
      "source": [
        "print(\"Accuracy:\", metrics.accuracy_score(y_test_A2_RGB_S6, y_pred_A2_RGB_S6))"
      ],
      "metadata": {
        "id": "mR43MRqbS1SV",
        "colab": {
          "base_uri": "https://localhost:8080/"
        },
        "outputId": "17b03ec1-24f0-4a4b-b262-f32b3ee8f9eb"
      },
      "execution_count": null,
      "outputs": [
        {
          "output_type": "stream",
          "name": "stdout",
          "text": [
            "Accuracy: 0.34625\n"
          ]
        }
      ]
    },
    {
      "cell_type": "markdown",
      "source": [
        "##Set6 XGB"
      ],
      "metadata": {
        "id": "AsKWy_WCQLez"
      }
    },
    {
      "cell_type": "code",
      "source": [
        "RGB_A2_Set6_xgb = table_A2Set6.drop(['H-ref','S-ref','V-ref','H-Shad','S-Shad','V-Shad','Setting','Ref','Shad','Img'], axis=1)"
      ],
      "metadata": {
        "id": "x8z4pN_pQQZA"
      },
      "execution_count": null,
      "outputs": []
    },
    {
      "cell_type": "code",
      "source": [
        "X_test_A2_RGB_S6_xgb = np.array(RGB_A2_Set6_xgb)"
      ],
      "metadata": {
        "id": "wwDAyLLvQQZB"
      },
      "execution_count": null,
      "outputs": []
    },
    {
      "cell_type": "code",
      "source": [
        "y_A2_RGB_S6_xgb =  table_A2Set6.iloc[:,14:15]"
      ],
      "metadata": {
        "id": "fUnaeh4bQQZB"
      },
      "execution_count": null,
      "outputs": []
    },
    {
      "cell_type": "code",
      "source": [
        "y_test_A2_RGB_S6_xgb = np.array(y_A2_RGB_S6_xgb)"
      ],
      "metadata": {
        "id": "rChMGUrPQQZB"
      },
      "execution_count": null,
      "outputs": []
    },
    {
      "cell_type": "code",
      "source": [
        "X_train_A2_RGB_S6_xgb = np.array(RGB_A2_concat0)"
      ],
      "metadata": {
        "id": "v6Vx_sbiQQZB"
      },
      "execution_count": null,
      "outputs": []
    },
    {
      "cell_type": "code",
      "source": [
        "y_train_A2RGB_S6_xgb = RGB_A2_concat.iloc[:,14:15]"
      ],
      "metadata": {
        "id": "Qa_Jveq7QQZB"
      },
      "execution_count": null,
      "outputs": []
    },
    {
      "cell_type": "code",
      "source": [
        "y_train_A2_RGB_S6_xgb = np.array(y_train_A2RGB_S6_xgb)"
      ],
      "metadata": {
        "id": "W-bbJoDRQQZB"
      },
      "execution_count": null,
      "outputs": []
    },
    {
      "cell_type": "code",
      "source": [
        "Model10.fit(X_train_A2_RGB_S6_xgb, y_train_A2_RGB_S6_xgb)"
      ],
      "metadata": {
        "id": "i1US93znQQZB",
        "colab": {
          "base_uri": "https://localhost:8080/"
        },
        "outputId": "08fca588-c7d0-4076-b46f-55b7a7aef8df"
      },
      "execution_count": null,
      "outputs": [
        {
          "output_type": "stream",
          "name": "stderr",
          "text": [
            "/usr/local/lib/python3.7/dist-packages/sklearn/preprocessing/_label.py:98: DataConversionWarning: A column-vector y was passed when a 1d array was expected. Please change the shape of y to (n_samples, ), for example using ravel().\n",
            "  y = column_or_1d(y, warn=True)\n",
            "/usr/local/lib/python3.7/dist-packages/sklearn/preprocessing/_label.py:133: DataConversionWarning: A column-vector y was passed when a 1d array was expected. Please change the shape of y to (n_samples, ), for example using ravel().\n",
            "  y = column_or_1d(y, warn=True)\n"
          ]
        },
        {
          "output_type": "execute_result",
          "data": {
            "text/plain": [
              "XGBClassifier(objective='multi:softprob')"
            ]
          },
          "metadata": {},
          "execution_count": 71
        }
      ]
    },
    {
      "cell_type": "code",
      "source": [
        "y_pred_A2_RGB_S6_xgb = Model10.predict(X_test_A2_RGB_S6_xgb)"
      ],
      "metadata": {
        "id": "h2CATgiWQQZB"
      },
      "execution_count": null,
      "outputs": []
    },
    {
      "cell_type": "code",
      "source": [
        "print(\"Accuracy:\", metrics.accuracy_score(y_test_A2_RGB_S6_xgb, y_pred_A2_RGB_S6_xgb))"
      ],
      "metadata": {
        "id": "sdSktLnAQQZB",
        "colab": {
          "base_uri": "https://localhost:8080/"
        },
        "outputId": "daac499f-863a-4810-c71e-c198850c83af"
      },
      "execution_count": null,
      "outputs": [
        {
          "output_type": "stream",
          "name": "stdout",
          "text": [
            "Accuracy: 0.32875\n"
          ]
        }
      ]
    },
    {
      "cell_type": "markdown",
      "source": [
        "#A4 HSV"
      ],
      "metadata": {
        "id": "bBVoUgUzRtuc"
      }
    },
    {
      "cell_type": "code",
      "source": [
        "Model3 = RandomForestClassifier()"
      ],
      "metadata": {
        "id": "5nGy-58ZUrak"
      },
      "execution_count": null,
      "outputs": []
    },
    {
      "cell_type": "code",
      "source": [
        "Model4 = RandomForestClassifier()"
      ],
      "metadata": {
        "id": "M38Jiw1-UruB"
      },
      "execution_count": null,
      "outputs": []
    },
    {
      "cell_type": "code",
      "source": [
        "Model11 = xgb.XGBClassifier()"
      ],
      "metadata": {
        "id": "dKDhW06qO731"
      },
      "execution_count": null,
      "outputs": []
    },
    {
      "cell_type": "code",
      "source": [
        "Model12 = xgb.XGBClassifier()"
      ],
      "metadata": {
        "id": "G0NtQEkoO8Ih"
      },
      "execution_count": null,
      "outputs": []
    },
    {
      "cell_type": "code",
      "source": [
        "table_A4Set1 = pd.read_excel(Set1, sheet_name='A4_1')"
      ],
      "metadata": {
        "id": "-FrXtgXlRySJ"
      },
      "execution_count": null,
      "outputs": []
    },
    {
      "cell_type": "code",
      "source": [
        "table_A4Set2 = pd.read_excel(Set2, sheet_name='A4_2')"
      ],
      "metadata": {
        "id": "GIT2W9fBRySJ"
      },
      "execution_count": null,
      "outputs": []
    },
    {
      "cell_type": "code",
      "source": [
        "table_A4Set3 = pd.read_excel(Set3, sheet_name='A4_3')"
      ],
      "metadata": {
        "id": "eKzzOVnyRySK"
      },
      "execution_count": null,
      "outputs": []
    },
    {
      "cell_type": "code",
      "source": [
        "table_A4Set4 = pd.read_excel(Set4, sheet_name='A4_4')"
      ],
      "metadata": {
        "id": "FE5b7R-gRySK"
      },
      "execution_count": null,
      "outputs": []
    },
    {
      "cell_type": "code",
      "source": [
        "table_A4Set5 = pd.read_excel(Set5, sheet_name='A4_5')"
      ],
      "metadata": {
        "id": "TgvJ_w7uRySK"
      },
      "execution_count": null,
      "outputs": []
    },
    {
      "cell_type": "code",
      "source": [
        "table_A4Set6 = pd.read_excel(Set6, sheet_name='A4_6')"
      ],
      "metadata": {
        "id": "QEgulFpfRySK"
      },
      "execution_count": null,
      "outputs": []
    },
    {
      "cell_type": "code",
      "source": [
        "HSV_A4_Set1 = table_A4Set1"
      ],
      "metadata": {
        "id": "QSZJq1FITGSx"
      },
      "execution_count": null,
      "outputs": []
    },
    {
      "cell_type": "code",
      "source": [
        "HSV_A4_Set2 = table_A4Set2"
      ],
      "metadata": {
        "id": "6v0FO1rMTGSx"
      },
      "execution_count": null,
      "outputs": []
    },
    {
      "cell_type": "code",
      "source": [
        "HSV_A4_Set3 = table_A4Set3"
      ],
      "metadata": {
        "id": "XeY8NacyTGSx"
      },
      "execution_count": null,
      "outputs": []
    },
    {
      "cell_type": "code",
      "source": [
        "HSV_A4_Set4 = table_A4Set4"
      ],
      "metadata": {
        "id": "hbsBSfoKTGSx"
      },
      "execution_count": null,
      "outputs": []
    },
    {
      "cell_type": "code",
      "source": [
        "HSV_A4_concat = pd.concat([HSV_A4_Set1,HSV_A4_Set2,HSV_A4_Set3,HSV_A4_Set4])"
      ],
      "metadata": {
        "id": "sXPr6_cDTGSy"
      },
      "execution_count": null,
      "outputs": []
    },
    {
      "cell_type": "code",
      "source": [
        "HSV_A4_concat0 = HSV_A4_concat.drop(['R-ref','G-ref','B-ref','R-Shad','G-Shad','B-Shad','Setting','Ref','Shad','Img'], axis=1)"
      ],
      "metadata": {
        "id": "obdpVEe2TGSy"
      },
      "execution_count": null,
      "outputs": []
    },
    {
      "cell_type": "markdown",
      "source": [
        "##Set5 RF"
      ],
      "metadata": {
        "id": "mHaiZDLkT0lB"
      }
    },
    {
      "cell_type": "code",
      "source": [
        "HSV_A4_Set5 = table_A4Set5.drop(['R-ref','G-ref','B-ref','R-Shad','G-Shad','B-Shad','Setting','Ref','Shad','Img'], axis=1)"
      ],
      "metadata": {
        "id": "LD3-yWaYUT2z"
      },
      "execution_count": null,
      "outputs": []
    },
    {
      "cell_type": "code",
      "source": [
        "X_test_A4_HSV_S5 = np.array(HSV_A4_Set5)"
      ],
      "metadata": {
        "id": "X6XUDufLUT2z"
      },
      "execution_count": null,
      "outputs": []
    },
    {
      "cell_type": "code",
      "source": [
        "y_A4_HSV_S5 =  table_A4Set5.iloc[:,14:15]"
      ],
      "metadata": {
        "id": "A1SN_DIaUT20"
      },
      "execution_count": null,
      "outputs": []
    },
    {
      "cell_type": "code",
      "source": [
        "y_test_A4_HSV_S5 = np.array(y_A4_HSV_S5)"
      ],
      "metadata": {
        "id": "lyPp6LHeUT20"
      },
      "execution_count": null,
      "outputs": []
    },
    {
      "cell_type": "code",
      "source": [
        "X_train_A4_HSV_S5 = np.array(HSV_A4_concat0)"
      ],
      "metadata": {
        "id": "m9u70LYOUT20"
      },
      "execution_count": null,
      "outputs": []
    },
    {
      "cell_type": "code",
      "source": [
        "y_train_A4HSV_S5 = HSV_A4_concat.iloc[:,14:15]"
      ],
      "metadata": {
        "id": "BV8m5UNQUT20"
      },
      "execution_count": null,
      "outputs": []
    },
    {
      "cell_type": "code",
      "source": [
        "y_train_A4_HSV_S5 = np.array(y_train_A4HSV_S5)"
      ],
      "metadata": {
        "id": "G4IW3HrnUT20"
      },
      "execution_count": null,
      "outputs": []
    },
    {
      "cell_type": "code",
      "source": [
        "Model3.fit(X_train_A4_HSV_S5, y_train_A4_HSV_S5)"
      ],
      "metadata": {
        "id": "N2sMHN7oUT20",
        "colab": {
          "base_uri": "https://localhost:8080/"
        },
        "outputId": "42a008f0-c53c-4863-de87-0c255b8aefec"
      },
      "execution_count": null,
      "outputs": [
        {
          "output_type": "stream",
          "name": "stderr",
          "text": [
            "/usr/local/lib/python3.7/dist-packages/ipykernel_launcher.py:1: DataConversionWarning: A column-vector y was passed when a 1d array was expected. Please change the shape of y to (n_samples,), for example using ravel().\n",
            "  \"\"\"Entry point for launching an IPython kernel.\n"
          ]
        },
        {
          "output_type": "execute_result",
          "data": {
            "text/plain": [
              "RandomForestClassifier()"
            ]
          },
          "metadata": {},
          "execution_count": 97
        }
      ]
    },
    {
      "cell_type": "code",
      "source": [
        "y_pred_A4_HSV_S5 = Model3.predict(X_test_A4_HSV_S5)"
      ],
      "metadata": {
        "id": "ZPRP2U63UT20"
      },
      "execution_count": null,
      "outputs": []
    },
    {
      "cell_type": "code",
      "source": [
        "print(\"Accuracy:\", metrics.accuracy_score(y_test_A4_HSV_S5, y_pred_A4_HSV_S5))"
      ],
      "metadata": {
        "id": "fRrtQhP3UT20",
        "colab": {
          "base_uri": "https://localhost:8080/"
        },
        "outputId": "ef54b7ae-6a7f-4d8f-cb93-e36f9e0087a4"
      },
      "execution_count": null,
      "outputs": [
        {
          "output_type": "stream",
          "name": "stdout",
          "text": [
            "Accuracy: 0.69375\n"
          ]
        }
      ]
    },
    {
      "cell_type": "markdown",
      "source": [
        "##Set5 XGB"
      ],
      "metadata": {
        "id": "JqVkLPlIQvDn"
      }
    },
    {
      "cell_type": "code",
      "source": [
        "HSV_A4_Set5_xgb = table_A4Set5.drop(['R-ref','G-ref','B-ref','R-Shad','G-Shad','B-Shad','Setting','Ref','Shad','Img'], axis=1)"
      ],
      "metadata": {
        "id": "6dl_0EB9Q0Oa"
      },
      "execution_count": null,
      "outputs": []
    },
    {
      "cell_type": "code",
      "source": [
        "X_test_A4_HSV_S5_xgb = np.array(HSV_A4_Set5_xgb)"
      ],
      "metadata": {
        "id": "wMOJsHL8Q0Oa"
      },
      "execution_count": null,
      "outputs": []
    },
    {
      "cell_type": "code",
      "source": [
        "y_A4_HSV_S5_xgb =  table_A4Set5.iloc[:,14:15]"
      ],
      "metadata": {
        "id": "asdrH7F8Q0Oa"
      },
      "execution_count": null,
      "outputs": []
    },
    {
      "cell_type": "code",
      "source": [
        "y_test_A4_HSV_S5_xgb = np.array(y_A4_HSV_S5_xgb)"
      ],
      "metadata": {
        "id": "OfYeEPeCQ0Oa"
      },
      "execution_count": null,
      "outputs": []
    },
    {
      "cell_type": "code",
      "source": [
        "X_train_A4_HSV_S5_xgb = np.array(HSV_A4_concat0)"
      ],
      "metadata": {
        "id": "faNe70EYQ0Oa"
      },
      "execution_count": null,
      "outputs": []
    },
    {
      "cell_type": "code",
      "source": [
        "y_train_A4HSV_S5_xgb = HSV_A4_concat.iloc[:,14:15]"
      ],
      "metadata": {
        "id": "oo-AgNr3Q0Oa"
      },
      "execution_count": null,
      "outputs": []
    },
    {
      "cell_type": "code",
      "source": [
        "y_train_A4_HSV_S5_xgb = np.array(y_train_A4HSV_S5_xgb)"
      ],
      "metadata": {
        "id": "rJMLOuBMQ0Oa"
      },
      "execution_count": null,
      "outputs": []
    },
    {
      "cell_type": "code",
      "source": [
        "Model11.fit(X_train_A4_HSV_S5_xgb, y_train_A4_HSV_S5_xgb)"
      ],
      "metadata": {
        "id": "CbeY2qjOQ0Ob",
        "colab": {
          "base_uri": "https://localhost:8080/"
        },
        "outputId": "316a2bd1-ddd1-474d-9391-14f8a6730cde"
      },
      "execution_count": null,
      "outputs": [
        {
          "output_type": "stream",
          "name": "stderr",
          "text": [
            "/usr/local/lib/python3.7/dist-packages/sklearn/preprocessing/_label.py:98: DataConversionWarning: A column-vector y was passed when a 1d array was expected. Please change the shape of y to (n_samples, ), for example using ravel().\n",
            "  y = column_or_1d(y, warn=True)\n",
            "/usr/local/lib/python3.7/dist-packages/sklearn/preprocessing/_label.py:133: DataConversionWarning: A column-vector y was passed when a 1d array was expected. Please change the shape of y to (n_samples, ), for example using ravel().\n",
            "  y = column_or_1d(y, warn=True)\n"
          ]
        },
        {
          "output_type": "execute_result",
          "data": {
            "text/plain": [
              "XGBClassifier(objective='multi:softprob')"
            ]
          },
          "metadata": {},
          "execution_count": 107
        }
      ]
    },
    {
      "cell_type": "code",
      "source": [
        "y_pred_A4_HSV_S5_xgb = Model11.predict(X_test_A4_HSV_S5_xgb)"
      ],
      "metadata": {
        "id": "A8AlucbUQ0Ob"
      },
      "execution_count": null,
      "outputs": []
    },
    {
      "cell_type": "code",
      "source": [
        "print(\"Accuracy:\", metrics.accuracy_score(y_test_A4_HSV_S5_xgb, y_pred_A4_HSV_S5_xgb))"
      ],
      "metadata": {
        "id": "lMUDYkQMQ0Ob",
        "colab": {
          "base_uri": "https://localhost:8080/"
        },
        "outputId": "28c83789-4ae7-416a-fa38-a0561482c78a"
      },
      "execution_count": null,
      "outputs": [
        {
          "output_type": "stream",
          "name": "stdout",
          "text": [
            "Accuracy: 0.6475\n"
          ]
        }
      ]
    },
    {
      "cell_type": "markdown",
      "source": [
        "##Set6 RF"
      ],
      "metadata": {
        "id": "CHwuzuNdT2hS"
      }
    },
    {
      "cell_type": "code",
      "source": [
        "HSV_A4_Set6 = table_A4Set6.drop(['R-ref','G-ref','B-ref','R-Shad','G-Shad','B-Shad','Setting','Ref','Shad','Img'], axis=1)"
      ],
      "metadata": {
        "id": "f44xCEeyUv7L"
      },
      "execution_count": null,
      "outputs": []
    },
    {
      "cell_type": "code",
      "source": [
        "X_test_A4_HSV_S6 = np.array(HSV_A4_Set6)"
      ],
      "metadata": {
        "id": "s-xo_UkXUv7M"
      },
      "execution_count": null,
      "outputs": []
    },
    {
      "cell_type": "code",
      "source": [
        "y_A4_HSV_S6=  table_A4Set6.iloc[:,14:15]"
      ],
      "metadata": {
        "id": "c0hFdQGyUv7M"
      },
      "execution_count": null,
      "outputs": []
    },
    {
      "cell_type": "code",
      "source": [
        "y_test_A4_HSV_S6 = np.array(y_A4_HSV_S6)"
      ],
      "metadata": {
        "id": "J5Nzt4epUv7M"
      },
      "execution_count": null,
      "outputs": []
    },
    {
      "cell_type": "code",
      "source": [
        "X_train_A4_HSV_S6 = np.array(HSV_A4_concat0)"
      ],
      "metadata": {
        "id": "NLnoXcvyUv7M"
      },
      "execution_count": null,
      "outputs": []
    },
    {
      "cell_type": "code",
      "source": [
        "y_train_A4HSV_S6 = HSV_A4_concat.iloc[:,14:15]"
      ],
      "metadata": {
        "id": "RIztqv_MUv7M"
      },
      "execution_count": null,
      "outputs": []
    },
    {
      "cell_type": "code",
      "source": [
        "y_train_A4_HSV_S6 = np.array(y_train_A4HSV_S6)"
      ],
      "metadata": {
        "id": "xXjTlmuFUv7M"
      },
      "execution_count": null,
      "outputs": []
    },
    {
      "cell_type": "code",
      "source": [
        "Model4.fit(X_train_A4_HSV_S6, y_train_A4_HSV_S6)"
      ],
      "metadata": {
        "id": "f9e_toWRUv7M",
        "colab": {
          "base_uri": "https://localhost:8080/"
        },
        "outputId": "6e535209-ddb2-42bc-c62b-a1421ddc7035"
      },
      "execution_count": null,
      "outputs": [
        {
          "output_type": "stream",
          "name": "stderr",
          "text": [
            "/usr/local/lib/python3.7/dist-packages/ipykernel_launcher.py:1: DataConversionWarning: A column-vector y was passed when a 1d array was expected. Please change the shape of y to (n_samples,), for example using ravel().\n",
            "  \"\"\"Entry point for launching an IPython kernel.\n"
          ]
        },
        {
          "output_type": "execute_result",
          "data": {
            "text/plain": [
              "RandomForestClassifier()"
            ]
          },
          "metadata": {},
          "execution_count": 117
        }
      ]
    },
    {
      "cell_type": "code",
      "source": [
        "y_pred_A4_HSV_S6 = Model4.predict(X_test_A4_HSV_S6)"
      ],
      "metadata": {
        "id": "N7a_yHqOUv7M"
      },
      "execution_count": null,
      "outputs": []
    },
    {
      "cell_type": "code",
      "source": [
        "print(\"Accuracy:\", metrics.accuracy_score(y_test_A4_HSV_S6, y_pred_A4_HSV_S6))"
      ],
      "metadata": {
        "id": "4xvtXn3PUv7M",
        "colab": {
          "base_uri": "https://localhost:8080/"
        },
        "outputId": "bec46c77-885d-4ee0-9866-27c19dbba738"
      },
      "execution_count": null,
      "outputs": [
        {
          "output_type": "stream",
          "name": "stdout",
          "text": [
            "Accuracy: 0.3725\n"
          ]
        }
      ]
    },
    {
      "cell_type": "markdown",
      "source": [
        "##Set6 XGB"
      ],
      "metadata": {
        "id": "6Sd5SOR8RAO-"
      }
    },
    {
      "cell_type": "code",
      "source": [
        "HSV_A4_Set6_xgb = table_A4Set6.drop(['R-ref','G-ref','B-ref','R-Shad','G-Shad','B-Shad','Setting','Ref','Shad','Img'], axis=1)"
      ],
      "metadata": {
        "id": "RTl2OSLuRFVk"
      },
      "execution_count": null,
      "outputs": []
    },
    {
      "cell_type": "code",
      "source": [
        "X_test_A4_HSV_S6_xgb = np.array(HSV_A4_Set6_xgb)"
      ],
      "metadata": {
        "id": "hDaxSwD5RFVk"
      },
      "execution_count": null,
      "outputs": []
    },
    {
      "cell_type": "code",
      "source": [
        "y_A4_HSV_S6_xgb =  table_A4Set6.iloc[:,14:15]"
      ],
      "metadata": {
        "id": "edEh3JbYRFVk"
      },
      "execution_count": null,
      "outputs": []
    },
    {
      "cell_type": "code",
      "source": [
        "y_test_A4_HSV_S6_xgb = np.array(y_A4_HSV_S6_xgb)"
      ],
      "metadata": {
        "id": "d0Zn8mtzRFVk"
      },
      "execution_count": null,
      "outputs": []
    },
    {
      "cell_type": "code",
      "source": [
        "X_train_A4_HSV_S6_xgb = np.array(HSV_A4_concat0)"
      ],
      "metadata": {
        "id": "9xeIPltbRFVk"
      },
      "execution_count": null,
      "outputs": []
    },
    {
      "cell_type": "code",
      "source": [
        "y_train_A4HSV_S6_xgb = HSV_A4_concat.iloc[:,14:15]"
      ],
      "metadata": {
        "id": "vkfofej5RFVk"
      },
      "execution_count": null,
      "outputs": []
    },
    {
      "cell_type": "code",
      "source": [
        "y_train_A4_HSV_S6_xgb = np.array(y_train_A4HSV_S6_xgb)"
      ],
      "metadata": {
        "id": "X4DoWGjXRFVk"
      },
      "execution_count": null,
      "outputs": []
    },
    {
      "cell_type": "code",
      "source": [
        "Model12.fit(X_train_A4_HSV_S6_xgb, y_train_A4_HSV_S6_xgb)"
      ],
      "metadata": {
        "id": "2wy6XerhRFVk",
        "colab": {
          "base_uri": "https://localhost:8080/"
        },
        "outputId": "3ba24c95-7917-4ef7-fbc6-c7dfb7688a5f"
      },
      "execution_count": null,
      "outputs": [
        {
          "output_type": "stream",
          "name": "stderr",
          "text": [
            "/usr/local/lib/python3.7/dist-packages/sklearn/preprocessing/_label.py:98: DataConversionWarning: A column-vector y was passed when a 1d array was expected. Please change the shape of y to (n_samples, ), for example using ravel().\n",
            "  y = column_or_1d(y, warn=True)\n",
            "/usr/local/lib/python3.7/dist-packages/sklearn/preprocessing/_label.py:133: DataConversionWarning: A column-vector y was passed when a 1d array was expected. Please change the shape of y to (n_samples, ), for example using ravel().\n",
            "  y = column_or_1d(y, warn=True)\n"
          ]
        },
        {
          "output_type": "execute_result",
          "data": {
            "text/plain": [
              "XGBClassifier(objective='multi:softprob')"
            ]
          },
          "metadata": {},
          "execution_count": 127
        }
      ]
    },
    {
      "cell_type": "code",
      "source": [
        "y_pred_A4_HSV_S6_xgb = Model12.predict(X_test_A4_HSV_S6_xgb)"
      ],
      "metadata": {
        "id": "NMHTjFMSRFVl"
      },
      "execution_count": null,
      "outputs": []
    },
    {
      "cell_type": "code",
      "source": [
        "print(\"Accuracy:\", metrics.accuracy_score(y_test_A4_HSV_S6_xgb, y_pred_A4_HSV_S6_xgb))"
      ],
      "metadata": {
        "id": "RG7ZsYdfRFVl",
        "colab": {
          "base_uri": "https://localhost:8080/"
        },
        "outputId": "eb823360-fcdc-4b6e-a1d7-88311d47f12c"
      },
      "execution_count": null,
      "outputs": [
        {
          "output_type": "stream",
          "name": "stdout",
          "text": [
            "Accuracy: 0.34\n"
          ]
        }
      ]
    },
    {
      "cell_type": "markdown",
      "source": [
        "#D4 "
      ],
      "metadata": {
        "id": "I48A_8Y2K8jk"
      }
    },
    {
      "cell_type": "code",
      "source": [
        "Model5 = svm.SVC(kernel='poly')"
      ],
      "metadata": {
        "id": "TLNEP4cUOxTT"
      },
      "execution_count": null,
      "outputs": []
    },
    {
      "cell_type": "code",
      "source": [
        "Model6 = svm.SVC(kernel='poly')"
      ],
      "metadata": {
        "id": "F2yl90pGO0dJ"
      },
      "execution_count": null,
      "outputs": []
    },
    {
      "cell_type": "code",
      "source": [
        "Model7 = svm.SVC(kernel='poly')"
      ],
      "metadata": {
        "id": "5wq2uzJ3O02M"
      },
      "execution_count": null,
      "outputs": []
    },
    {
      "cell_type": "code",
      "source": [
        "Model8 = svm.SVC(kernel='poly')"
      ],
      "metadata": {
        "id": "sZse12nFO1H-"
      },
      "execution_count": null,
      "outputs": []
    },
    {
      "cell_type": "code",
      "source": [
        "table_D4Set1 = pd.read_excel(Set1, sheet_name='D4_1')"
      ],
      "metadata": {
        "id": "5lssFROfK-l1"
      },
      "execution_count": null,
      "outputs": []
    },
    {
      "cell_type": "code",
      "source": [
        "table_D4Set2 = pd.read_excel(Set2, sheet_name='D4_2')"
      ],
      "metadata": {
        "id": "G_K1iVC1K-l1"
      },
      "execution_count": null,
      "outputs": []
    },
    {
      "cell_type": "code",
      "source": [
        "table_D4Set3 = pd.read_excel(Set3, sheet_name='D4_3')"
      ],
      "metadata": {
        "id": "1pHS_BBqK-l1"
      },
      "execution_count": null,
      "outputs": []
    },
    {
      "cell_type": "code",
      "source": [
        "table_D4Set4 = pd.read_excel(Set4, sheet_name='D4_4')"
      ],
      "metadata": {
        "id": "AXJF194TK-l1"
      },
      "execution_count": null,
      "outputs": []
    },
    {
      "cell_type": "code",
      "source": [
        "table_D4Set5 = pd.read_excel(Set5, sheet_name='D4_5')"
      ],
      "metadata": {
        "id": "ndKnqxARK-l1"
      },
      "execution_count": null,
      "outputs": []
    },
    {
      "cell_type": "code",
      "source": [
        "table_D4Set6 = pd.read_excel(Set6, sheet_name='D4_6')"
      ],
      "metadata": {
        "id": "K6KedRPxK-l2"
      },
      "execution_count": null,
      "outputs": []
    },
    {
      "cell_type": "code",
      "source": [
        "RGB_D4_Set1 = table_A2Set1"
      ],
      "metadata": {
        "id": "eC4Myxa3K-l2"
      },
      "execution_count": null,
      "outputs": []
    },
    {
      "cell_type": "code",
      "source": [
        "RGB_D4_Set2 = table_A2Set2"
      ],
      "metadata": {
        "id": "BL1Kp-h2K-l2"
      },
      "execution_count": null,
      "outputs": []
    },
    {
      "cell_type": "code",
      "source": [
        "RGB_D4_Set3 = table_A2Set3"
      ],
      "metadata": {
        "id": "oUfKl7WQK-l2"
      },
      "execution_count": null,
      "outputs": []
    },
    {
      "cell_type": "code",
      "source": [
        "RGB_D4_Set4 = table_A2Set4"
      ],
      "metadata": {
        "id": "TzKS_rvrK-l2"
      },
      "execution_count": null,
      "outputs": []
    },
    {
      "cell_type": "code",
      "source": [
        "RGB_D4_concat = pd.concat([RGB_D4_Set1,RGB_D4_Set2,RGB_D4_Set3,RGB_D4_Set4])"
      ],
      "metadata": {
        "id": "iR6qKXqJK-l2"
      },
      "execution_count": null,
      "outputs": []
    },
    {
      "cell_type": "code",
      "source": [
        "HSV_D4_concat = pd.concat([RGB_D4_Set1,RGB_D4_Set2,RGB_D4_Set3,RGB_D4_Set4])"
      ],
      "metadata": {
        "id": "rt3tKhnoNVxd"
      },
      "execution_count": null,
      "outputs": []
    },
    {
      "cell_type": "code",
      "source": [
        "RGB_D4_concat0 = RGB_D4_concat.drop(['H-ref','S-ref','V-ref','H-Shad','S-Shad','V-Shad','Setting','Ref','Shad','Img'], axis=1)"
      ],
      "metadata": {
        "id": "zo2SE7VeK-l2"
      },
      "execution_count": null,
      "outputs": []
    },
    {
      "cell_type": "code",
      "source": [
        "HSV_D4_concat0 = HSV_D4_concat.drop(['R-ref','G-ref','B-ref','R-Shad','G-Shad','B-Shad','Setting','Ref','Shad','Img'], axis=1)"
      ],
      "metadata": {
        "id": "32dnYw09MdYs"
      },
      "execution_count": null,
      "outputs": []
    },
    {
      "cell_type": "markdown",
      "source": [
        "##Set5 RGB"
      ],
      "metadata": {
        "id": "yT2SHvdZLthV"
      }
    },
    {
      "cell_type": "code",
      "source": [
        "RGB_D4_Set5 = table_D4Set5.drop(['H-ref','S-ref','V-ref','H-Shad','S-Shad','V-Shad','Setting','Ref','Shad','Img'], axis=1)"
      ],
      "metadata": {
        "id": "6xSujy9OL0z1"
      },
      "execution_count": null,
      "outputs": []
    },
    {
      "cell_type": "code",
      "source": [
        "X_test_D4_RGB_S5 = np.array(RGB_D4_Set5)"
      ],
      "metadata": {
        "id": "RfdK8ILOL0z1"
      },
      "execution_count": null,
      "outputs": []
    },
    {
      "cell_type": "code",
      "source": [
        "y_D4_RGB_S5 =  table_D4Set5.iloc[:,14:15]"
      ],
      "metadata": {
        "id": "C9eh4Ia2L0z1"
      },
      "execution_count": null,
      "outputs": []
    },
    {
      "cell_type": "code",
      "source": [
        "y_test_D4_RGB_S5 = np.array(y_D4_RGB_S5)"
      ],
      "metadata": {
        "id": "otb14sCPL0z1"
      },
      "execution_count": null,
      "outputs": []
    },
    {
      "cell_type": "code",
      "source": [
        "X_train_D4_RGB_S5 = np.array(RGB_D4_concat0)"
      ],
      "metadata": {
        "id": "EROAb4g_L0z2"
      },
      "execution_count": null,
      "outputs": []
    },
    {
      "cell_type": "code",
      "source": [
        "y_train_D4RGB_S5 = RGB_D4_concat.iloc[:,14:15]"
      ],
      "metadata": {
        "id": "ky41hYJsL0z2"
      },
      "execution_count": null,
      "outputs": []
    },
    {
      "cell_type": "code",
      "source": [
        "y_train_D4_RGB_S5 = np.array(y_train_D4RGB_S5)"
      ],
      "metadata": {
        "id": "Nc5KxmRQL0z2"
      },
      "execution_count": null,
      "outputs": []
    },
    {
      "cell_type": "code",
      "source": [
        "Model5.fit(X_train_D4_RGB_S5, y_train_D4_RGB_S5)"
      ],
      "metadata": {
        "id": "MNJEb5eiL0z2",
        "colab": {
          "base_uri": "https://localhost:8080/"
        },
        "outputId": "0f13bc90-77f8-40c4-cfa1-dcba35edd4cd"
      },
      "execution_count": null,
      "outputs": [
        {
          "output_type": "stream",
          "name": "stderr",
          "text": [
            "/usr/local/lib/python3.7/dist-packages/sklearn/utils/validation.py:993: DataConversionWarning: A column-vector y was passed when a 1d array was expected. Please change the shape of y to (n_samples, ), for example using ravel().\n",
            "  y = column_or_1d(y, warn=True)\n"
          ]
        },
        {
          "output_type": "execute_result",
          "data": {
            "text/plain": [
              "SVC(kernel='poly')"
            ]
          },
          "metadata": {},
          "execution_count": 155
        }
      ]
    },
    {
      "cell_type": "code",
      "source": [
        "y_pred_D4_RGB_S5 = Model1.predict(X_test_D4_RGB_S5)"
      ],
      "metadata": {
        "id": "ZiuN_nrLL0z2"
      },
      "execution_count": null,
      "outputs": []
    },
    {
      "cell_type": "code",
      "source": [
        "print(\"Accuracy:\", metrics.accuracy_score(y_test_D4_RGB_S5, y_pred_D4_RGB_S5))"
      ],
      "metadata": {
        "id": "xzDQaJYeL0z2",
        "colab": {
          "base_uri": "https://localhost:8080/"
        },
        "outputId": "77424170-71ac-4d83-a7a0-63d5303265da"
      },
      "execution_count": null,
      "outputs": [
        {
          "output_type": "stream",
          "name": "stdout",
          "text": [
            "Accuracy: 0.22875\n"
          ]
        }
      ]
    },
    {
      "cell_type": "markdown",
      "source": [
        "##Set6 RGB"
      ],
      "metadata": {
        "id": "eA9Vn4D1MAxP"
      }
    },
    {
      "cell_type": "code",
      "source": [
        "RGB_D4_Set6 = table_D4Set6.drop(['H-ref','S-ref','V-ref','H-Shad','S-Shad','V-Shad','Setting','Ref','Shad','Img'], axis=1)"
      ],
      "metadata": {
        "id": "iUlyUFJlMDVo"
      },
      "execution_count": null,
      "outputs": []
    },
    {
      "cell_type": "code",
      "source": [
        "X_test_D4_RGB_S6 = np.array(RGB_D4_Set6)"
      ],
      "metadata": {
        "id": "eQgV-CkXMDVo"
      },
      "execution_count": null,
      "outputs": []
    },
    {
      "cell_type": "code",
      "source": [
        "y_D4_RGB_S6 =  table_D4Set6.iloc[:,14:15]"
      ],
      "metadata": {
        "id": "CF9pU0FtMDVp"
      },
      "execution_count": null,
      "outputs": []
    },
    {
      "cell_type": "code",
      "source": [
        "y_test_D4_RGB_S6 = np.array(y_D4_RGB_S6)"
      ],
      "metadata": {
        "id": "1kqtdbElMDVp"
      },
      "execution_count": null,
      "outputs": []
    },
    {
      "cell_type": "code",
      "source": [
        "X_train_D4_RGB_S6 = np.array(RGB_D4_concat0)"
      ],
      "metadata": {
        "id": "qNFU7vqOMDVp"
      },
      "execution_count": null,
      "outputs": []
    },
    {
      "cell_type": "code",
      "source": [
        "y_train_D4RGB_S6 = RGB_D4_concat.iloc[:,14:15]"
      ],
      "metadata": {
        "id": "WNvAuTV-MDVp"
      },
      "execution_count": null,
      "outputs": []
    },
    {
      "cell_type": "code",
      "source": [
        "y_train_D4_RGB_S6 = np.array(y_train_D4RGB_S6)"
      ],
      "metadata": {
        "id": "FKriw0KuMDVp"
      },
      "execution_count": null,
      "outputs": []
    },
    {
      "cell_type": "code",
      "source": [
        "Model6.fit(X_train_D4_RGB_S6, y_train_D4_RGB_S6)"
      ],
      "metadata": {
        "id": "yBVp22CtMDVq",
        "colab": {
          "base_uri": "https://localhost:8080/"
        },
        "outputId": "d996e8c7-cc0a-4ba3-a030-9e56eae3270c"
      },
      "execution_count": null,
      "outputs": [
        {
          "output_type": "stream",
          "name": "stderr",
          "text": [
            "/usr/local/lib/python3.7/dist-packages/sklearn/utils/validation.py:993: DataConversionWarning: A column-vector y was passed when a 1d array was expected. Please change the shape of y to (n_samples, ), for example using ravel().\n",
            "  y = column_or_1d(y, warn=True)\n"
          ]
        },
        {
          "output_type": "execute_result",
          "data": {
            "text/plain": [
              "SVC(kernel='poly')"
            ]
          },
          "metadata": {},
          "execution_count": 165
        }
      ]
    },
    {
      "cell_type": "code",
      "source": [
        "y_pred_D4_RGB_S6 = Model1.predict(X_test_D4_RGB_S6)"
      ],
      "metadata": {
        "id": "3-gRSn9lMDVq"
      },
      "execution_count": null,
      "outputs": []
    },
    {
      "cell_type": "code",
      "source": [
        "print(\"Accuracy:\", metrics.accuracy_score(y_test_D4_RGB_S6, y_pred_D4_RGB_S6))"
      ],
      "metadata": {
        "id": "jNI8OUqcMDVr",
        "colab": {
          "base_uri": "https://localhost:8080/"
        },
        "outputId": "af4f5506-5bbf-4c35-c9a8-eddb9f37d31f"
      },
      "execution_count": null,
      "outputs": [
        {
          "output_type": "stream",
          "name": "stdout",
          "text": [
            "Accuracy: 0.4\n"
          ]
        }
      ]
    },
    {
      "cell_type": "markdown",
      "source": [
        "##Set5 HSV"
      ],
      "metadata": {
        "id": "fBREyJFFMopk"
      }
    },
    {
      "cell_type": "code",
      "source": [
        "HSV_D4_Set5 = table_D4Set5.drop(['R-ref','G-ref','B-ref','R-Shad','G-Shad','B-Shad','Setting','Ref','Shad','Img'], axis=1)"
      ],
      "metadata": {
        "id": "jDL9_0LANBer"
      },
      "execution_count": null,
      "outputs": []
    },
    {
      "cell_type": "code",
      "source": [
        "X_test_D4_HSV_S5 = np.array(HSV_D4_Set5)"
      ],
      "metadata": {
        "id": "_-ICFmTjNBer"
      },
      "execution_count": null,
      "outputs": []
    },
    {
      "cell_type": "code",
      "source": [
        "y_D4_HSV_S5 =  table_D4Set5.iloc[:,14:15]"
      ],
      "metadata": {
        "id": "QtVxc8cVNBer"
      },
      "execution_count": null,
      "outputs": []
    },
    {
      "cell_type": "code",
      "source": [
        "y_test_D4_HSV_S5 = np.array(y_D4_HSV_S5)"
      ],
      "metadata": {
        "id": "u7jOyAxzNBer"
      },
      "execution_count": null,
      "outputs": []
    },
    {
      "cell_type": "code",
      "source": [
        "X_train_D4_HSV_S5 = np.array(HSV_D4_concat0)"
      ],
      "metadata": {
        "id": "g_h3n4jvNBer"
      },
      "execution_count": null,
      "outputs": []
    },
    {
      "cell_type": "code",
      "source": [
        "y_train_D4HSV_S5 = HSV_D4_concat.iloc[:,14:15]"
      ],
      "metadata": {
        "id": "FHItY4m2NBer"
      },
      "execution_count": null,
      "outputs": []
    },
    {
      "cell_type": "code",
      "source": [
        "y_train_D4_HSV_S5 = np.array(y_train_D4HSV_S5)"
      ],
      "metadata": {
        "id": "VxokSJ0FNBes"
      },
      "execution_count": null,
      "outputs": []
    },
    {
      "cell_type": "code",
      "source": [
        "Model7.fit(X_train_D4_HSV_S5, y_train_D4_HSV_S5)"
      ],
      "metadata": {
        "id": "Rc9OBa8bNBes",
        "colab": {
          "base_uri": "https://localhost:8080/"
        },
        "outputId": "d8bf4e49-170a-4a67-e2ea-bd9ffb9a59f5"
      },
      "execution_count": null,
      "outputs": [
        {
          "output_type": "stream",
          "name": "stderr",
          "text": [
            "/usr/local/lib/python3.7/dist-packages/sklearn/utils/validation.py:993: DataConversionWarning: A column-vector y was passed when a 1d array was expected. Please change the shape of y to (n_samples, ), for example using ravel().\n",
            "  y = column_or_1d(y, warn=True)\n"
          ]
        },
        {
          "output_type": "execute_result",
          "data": {
            "text/plain": [
              "SVC(kernel='poly')"
            ]
          },
          "metadata": {},
          "execution_count": 175
        }
      ]
    },
    {
      "cell_type": "code",
      "source": [
        "y_pred_D4_HSV_S5 = Model4.predict(X_test_D4_HSV_S5)"
      ],
      "metadata": {
        "id": "s3H1pwwjNBes"
      },
      "execution_count": null,
      "outputs": []
    },
    {
      "cell_type": "code",
      "source": [
        "print(\"Accuracy:\", metrics.accuracy_score(y_test_D4_HSV_S5, y_pred_D4_HSV_S5))"
      ],
      "metadata": {
        "id": "OdThM8xyNBes",
        "colab": {
          "base_uri": "https://localhost:8080/"
        },
        "outputId": "288eecd4-3947-41c6-e9dd-792930717e42"
      },
      "execution_count": null,
      "outputs": [
        {
          "output_type": "stream",
          "name": "stdout",
          "text": [
            "Accuracy: 0.51125\n"
          ]
        }
      ]
    },
    {
      "cell_type": "markdown",
      "source": [
        "##Set6 HSV"
      ],
      "metadata": {
        "id": "ef-JEQZ-MrFC"
      }
    },
    {
      "cell_type": "code",
      "source": [
        "HSV_D4_Set6 = table_D4Set6.drop(['R-ref','G-ref','B-ref','R-Shad','G-Shad','B-Shad','Setting','Ref','Shad','Img'], axis=1)"
      ],
      "metadata": {
        "id": "NpH81ZrDMv5Y"
      },
      "execution_count": null,
      "outputs": []
    },
    {
      "cell_type": "code",
      "source": [
        "X_test_D4_HSV_S6 = np.array(HSV_D4_Set6)"
      ],
      "metadata": {
        "id": "fGFeitK2Mv5Y"
      },
      "execution_count": null,
      "outputs": []
    },
    {
      "cell_type": "code",
      "source": [
        "y_D4_HSV_S6=  table_D4Set6.iloc[:,14:15]"
      ],
      "metadata": {
        "id": "W77Qo3i8Mv5Y"
      },
      "execution_count": null,
      "outputs": []
    },
    {
      "cell_type": "code",
      "source": [
        "y_test_D4_HSV_S6 = np.array(y_D4_HSV_S6)"
      ],
      "metadata": {
        "id": "Ww5HP5svMv5Y"
      },
      "execution_count": null,
      "outputs": []
    },
    {
      "cell_type": "code",
      "source": [
        "X_train_D4_HSV_S6 = np.array(HSV_D4_concat0)"
      ],
      "metadata": {
        "id": "efazPlE0Mv5Z"
      },
      "execution_count": null,
      "outputs": []
    },
    {
      "cell_type": "code",
      "source": [
        "y_train_D4HSV_S6 = HSV_D4_concat.iloc[:,14:15]"
      ],
      "metadata": {
        "id": "n_IILlFPMv5Z"
      },
      "execution_count": null,
      "outputs": []
    },
    {
      "cell_type": "code",
      "source": [
        "y_train_D4_HSV_S6 = np.array(y_train_D4HSV_S6)"
      ],
      "metadata": {
        "id": "q6psX9yVMv5Z"
      },
      "execution_count": null,
      "outputs": []
    },
    {
      "cell_type": "code",
      "source": [
        "Model8.fit(X_train_D4_HSV_S6, y_train_D4_HSV_S6)"
      ],
      "metadata": {
        "id": "Z_1mU9M_Mv5Z",
        "colab": {
          "base_uri": "https://localhost:8080/"
        },
        "outputId": "e061a946-36ae-434c-adaf-73973ed0514d"
      },
      "execution_count": null,
      "outputs": [
        {
          "output_type": "stream",
          "name": "stderr",
          "text": [
            "/usr/local/lib/python3.7/dist-packages/sklearn/utils/validation.py:993: DataConversionWarning: A column-vector y was passed when a 1d array was expected. Please change the shape of y to (n_samples, ), for example using ravel().\n",
            "  y = column_or_1d(y, warn=True)\n"
          ]
        },
        {
          "output_type": "execute_result",
          "data": {
            "text/plain": [
              "SVC(kernel='poly')"
            ]
          },
          "metadata": {},
          "execution_count": 185
        }
      ]
    },
    {
      "cell_type": "code",
      "source": [
        "y_pred_D4_HSV_S6 = Model4.predict(X_test_D4_HSV_S6)"
      ],
      "metadata": {
        "id": "_pdudeoqMv5Z"
      },
      "execution_count": null,
      "outputs": []
    },
    {
      "cell_type": "code",
      "source": [
        "print(\"Accuracy:\", metrics.accuracy_score(y_test_D4_HSV_S6, y_pred_D4_HSV_S6))"
      ],
      "metadata": {
        "id": "9hjOlpAQMv5a",
        "colab": {
          "base_uri": "https://localhost:8080/"
        },
        "outputId": "ab393fe1-7508-41a3-d7e2-352dc03f8e2a"
      },
      "execution_count": null,
      "outputs": [
        {
          "output_type": "stream",
          "name": "stdout",
          "text": [
            "Accuracy: 0.2425\n"
          ]
        }
      ]
    },
    {
      "cell_type": "markdown",
      "source": [
        "#New model A2 C1 "
      ],
      "metadata": {
        "id": "bBAXm3vixSoS"
      }
    },
    {
      "cell_type": "markdown",
      "source": [
        "##A2 RGB"
      ],
      "metadata": {
        "id": "7Q8EkydhyPQ-"
      }
    },
    {
      "cell_type": "code",
      "source": [
        "new_model1 = RandomForestClassifier()"
      ],
      "metadata": {
        "id": "Routp_-QyRtg"
      },
      "execution_count": 18,
      "outputs": []
    },
    {
      "cell_type": "code",
      "source": [
        "table_A2Set1 = pd.read_excel(Set1, sheet_name='A2_1')"
      ],
      "metadata": {
        "id": "TzvffzlTyasm"
      },
      "execution_count": 19,
      "outputs": []
    },
    {
      "cell_type": "code",
      "source": [
        "table_A2Set2 = pd.read_excel(Set2, sheet_name='A2_2')"
      ],
      "metadata": {
        "id": "R7RrYw7xyasm"
      },
      "execution_count": 20,
      "outputs": []
    },
    {
      "cell_type": "code",
      "source": [
        "table_A2Set3 = pd.read_excel(Set3, sheet_name='A2_3')"
      ],
      "metadata": {
        "id": "YIcYQAGTyasn"
      },
      "execution_count": 21,
      "outputs": []
    },
    {
      "cell_type": "code",
      "source": [
        "table_A2Set4 = pd.read_excel(Set4, sheet_name='A2_4')"
      ],
      "metadata": {
        "id": "ciA6utv1yasn"
      },
      "execution_count": 22,
      "outputs": []
    },
    {
      "cell_type": "code",
      "source": [
        "table_A2Set5 = pd.read_excel(Set5, sheet_name='A2_5')"
      ],
      "metadata": {
        "id": "5eLE1Qd6yasn"
      },
      "execution_count": 23,
      "outputs": []
    },
    {
      "cell_type": "code",
      "source": [
        "table_A2Set6 = pd.read_excel(Set6, sheet_name='A2_6')"
      ],
      "metadata": {
        "id": "dp2PsB7xyasn"
      },
      "execution_count": 24,
      "outputs": []
    },
    {
      "cell_type": "code",
      "source": [
        "RGB_A2_Set1 = table_A2Set1"
      ],
      "metadata": {
        "id": "cfAUYiwNyasn"
      },
      "execution_count": 25,
      "outputs": []
    },
    {
      "cell_type": "code",
      "source": [
        "RGB_A2_Set2 = table_A2Set2"
      ],
      "metadata": {
        "id": "ixxLBGT_yasn"
      },
      "execution_count": 26,
      "outputs": []
    },
    {
      "cell_type": "code",
      "source": [
        "RGB_A2_Set3 = table_A2Set3"
      ],
      "metadata": {
        "id": "pllJlM8gyasn"
      },
      "execution_count": 27,
      "outputs": []
    },
    {
      "cell_type": "code",
      "source": [
        "RGB_A2_Set4 = table_A2Set4"
      ],
      "metadata": {
        "id": "qOB34lNvyasn"
      },
      "execution_count": 28,
      "outputs": []
    },
    {
      "cell_type": "code",
      "source": [
        "RGB_A2_Set6 = table_A2Set6"
      ],
      "metadata": {
        "id": "abYOLjMwyziQ"
      },
      "execution_count": 29,
      "outputs": []
    },
    {
      "cell_type": "code",
      "source": [
        "RGB_A2_concat = pd.concat([RGB_A2_Set1,RGB_A2_Set2,RGB_A2_Set3,RGB_A2_Set4,RGB_A2_Set6])"
      ],
      "metadata": {
        "id": "zJgq0oldyasn"
      },
      "execution_count": 30,
      "outputs": []
    },
    {
      "cell_type": "code",
      "source": [
        "RGB_A2_concat0 = RGB_A2_concat.drop(['H-ref','S-ref','V-ref','H-Shad','S-Shad','V-Shad','Setting','Ref','Shad','Img'], axis=1)"
      ],
      "metadata": {
        "id": "k6rgbb4-yasn"
      },
      "execution_count": 31,
      "outputs": []
    },
    {
      "cell_type": "code",
      "source": [
        "RGB_A2_s5 = table_A2Set5.drop(['H-ref','S-ref','V-ref','H-Shad','S-Shad','V-Shad','Setting','Ref','Shad','Img'], axis=1)"
      ],
      "metadata": {
        "id": "xTD3aX1kyoHE"
      },
      "execution_count": 32,
      "outputs": []
    },
    {
      "cell_type": "code",
      "source": [
        "X_test_A2_RGB_s5 = np.array(RGB_A2_s5)"
      ],
      "metadata": {
        "id": "yNqsgDIByoHE"
      },
      "execution_count": 34,
      "outputs": []
    },
    {
      "cell_type": "code",
      "source": [
        "y_A2_RGB_s5 =  table_A2Set5.iloc[:,14:15]"
      ],
      "metadata": {
        "id": "i5xt7vcMyoHE"
      },
      "execution_count": 41,
      "outputs": []
    },
    {
      "cell_type": "code",
      "source": [
        "y_test_A2_RGB_s5 = np.array(y_A2_RGB_s5)"
      ],
      "metadata": {
        "id": "9Rfk0NXNyoHF"
      },
      "execution_count": 42,
      "outputs": []
    },
    {
      "cell_type": "code",
      "source": [
        "X_train_A2_RGB_s5 = np.array(RGB_A2_concat0)"
      ],
      "metadata": {
        "id": "yx9h0XfSyoHF"
      },
      "execution_count": 44,
      "outputs": []
    },
    {
      "cell_type": "code",
      "source": [
        "y_train_A2RGB_s5 = RGB_A2_concat.iloc[:,14:15]"
      ],
      "metadata": {
        "id": "2X6UKjcCyoHF"
      },
      "execution_count": 46,
      "outputs": []
    },
    {
      "cell_type": "code",
      "source": [
        "y_train_A2_RGB_s5 = np.array(y_train_A2RGB_s5)"
      ],
      "metadata": {
        "id": "fmFfnJPLyoHF"
      },
      "execution_count": 47,
      "outputs": []
    },
    {
      "cell_type": "code",
      "source": [
        "new_model1.fit(X_train_A2_RGB_s5, y_train_A2_RGB_s5)"
      ],
      "metadata": {
        "colab": {
          "base_uri": "https://localhost:8080/"
        },
        "outputId": "1da33073-4120-4a11-d301-9367416cf706",
        "id": "-VT-Qzc1yoHF"
      },
      "execution_count": 48,
      "outputs": [
        {
          "output_type": "stream",
          "name": "stderr",
          "text": [
            "/usr/local/lib/python3.7/dist-packages/ipykernel_launcher.py:1: DataConversionWarning: A column-vector y was passed when a 1d array was expected. Please change the shape of y to (n_samples,), for example using ravel().\n",
            "  \"\"\"Entry point for launching an IPython kernel.\n"
          ]
        },
        {
          "output_type": "execute_result",
          "data": {
            "text/plain": [
              "RandomForestClassifier()"
            ]
          },
          "metadata": {},
          "execution_count": 48
        }
      ]
    },
    {
      "cell_type": "code",
      "source": [
        "y_pred_A2_RGB_s5 = new_model1.predict(X_test_A2_RGB_s5)"
      ],
      "metadata": {
        "id": "dzerY89EyoHF"
      },
      "execution_count": 51,
      "outputs": []
    },
    {
      "cell_type": "code",
      "source": [
        "print(\"Accuracy:\", metrics.accuracy_score(y_test_A2_RGB_s5, y_pred_A2_RGB_s5))"
      ],
      "metadata": {
        "colab": {
          "base_uri": "https://localhost:8080/"
        },
        "outputId": "fd2954f6-5b3c-432c-e124-551a94a4a1f7",
        "id": "X7zhZO_EyoHF"
      },
      "execution_count": 52,
      "outputs": [
        {
          "output_type": "stream",
          "name": "stdout",
          "text": [
            "Accuracy: 0.3875\n"
          ]
        }
      ]
    },
    {
      "cell_type": "markdown",
      "source": [
        "##C1 HSV"
      ],
      "metadata": {
        "id": "-PpSSlRYyQlb"
      }
    },
    {
      "cell_type": "code",
      "source": [
        "new_model2 = RandomForestClassifier()"
      ],
      "metadata": {
        "id": "GNaFp-CgzTWT"
      },
      "execution_count": 53,
      "outputs": []
    },
    {
      "cell_type": "code",
      "source": [
        "table_C1Set1 = pd.read_excel(Set1, sheet_name='C1_1')"
      ],
      "metadata": {
        "id": "v2lwH9kzzTWT"
      },
      "execution_count": 54,
      "outputs": []
    },
    {
      "cell_type": "code",
      "source": [
        "table_C1Set2 = pd.read_excel(Set2, sheet_name='C1_2')"
      ],
      "metadata": {
        "id": "rVAk3VKtzTWU"
      },
      "execution_count": 55,
      "outputs": []
    },
    {
      "cell_type": "code",
      "source": [
        "table_C1Set3 = pd.read_excel(Set3, sheet_name='C1_3')"
      ],
      "metadata": {
        "id": "Xl9gPXjSzTWU"
      },
      "execution_count": 56,
      "outputs": []
    },
    {
      "cell_type": "code",
      "source": [
        "table_C1Set4 = pd.read_excel(Set4, sheet_name='C1_4')"
      ],
      "metadata": {
        "id": "YOhQZIxPzTWU"
      },
      "execution_count": 57,
      "outputs": []
    },
    {
      "cell_type": "code",
      "source": [
        "table_C1Set5 = pd.read_excel(Set5, sheet_name='C1_5')"
      ],
      "metadata": {
        "id": "dGaQ-zcFzTWU"
      },
      "execution_count": 58,
      "outputs": []
    },
    {
      "cell_type": "code",
      "source": [
        "table_C1Set6 = pd.read_excel(Set6, sheet_name='C1_6')"
      ],
      "metadata": {
        "id": "elzpqoWNzTWU"
      },
      "execution_count": 59,
      "outputs": []
    },
    {
      "cell_type": "code",
      "source": [
        "HSV_C1_Set1 = table_C1Set1"
      ],
      "metadata": {
        "id": "sfroeD4RzTWU"
      },
      "execution_count": 60,
      "outputs": []
    },
    {
      "cell_type": "code",
      "source": [
        "HSV_C1_Set2 = table_C1Set2"
      ],
      "metadata": {
        "id": "CId1XOq9zTWU"
      },
      "execution_count": 61,
      "outputs": []
    },
    {
      "cell_type": "code",
      "source": [
        "HSV_C1_Set3 = table_C1Set3"
      ],
      "metadata": {
        "id": "L0M75uVWzTWU"
      },
      "execution_count": 62,
      "outputs": []
    },
    {
      "cell_type": "code",
      "source": [
        "HSV_C1_Set4 = table_C1Set4"
      ],
      "metadata": {
        "id": "JVA1nO_CzTWU"
      },
      "execution_count": 63,
      "outputs": []
    },
    {
      "cell_type": "code",
      "source": [
        "HSV_C1_Set6 = table_C1Set6"
      ],
      "metadata": {
        "id": "AXiZ8EmOzTWV"
      },
      "execution_count": 64,
      "outputs": []
    },
    {
      "cell_type": "code",
      "source": [
        "HSV_C1_concat = pd.concat([HSV_C1_Set1,HSV_C1_Set2,HSV_C1_Set3,HSV_C1_Set4,HSV_C1_Set6])"
      ],
      "metadata": {
        "id": "QzdTSvJ4zTWV"
      },
      "execution_count": 65,
      "outputs": []
    },
    {
      "cell_type": "code",
      "source": [
        "HSV_C1_concat0 = HSV_C1_concat.drop(['R-ref','G-ref','B-ref','R-Shad','G-Shad','B-Shad','Setting','Ref','Shad','Img'], axis=1)"
      ],
      "metadata": {
        "id": "Bsh1tKwZzTWV"
      },
      "execution_count": 66,
      "outputs": []
    },
    {
      "cell_type": "code",
      "source": [
        "HSV_C1_s5 = table_C1Set5.drop(['R-ref','G-ref','B-ref','R-Shad','G-Shad','B-Shad','Setting','Ref','Shad','Img'], axis=1)"
      ],
      "metadata": {
        "id": "q-V_5pafzTWV"
      },
      "execution_count": 67,
      "outputs": []
    },
    {
      "cell_type": "code",
      "source": [
        "X_test_C1_HSV_s5 = np.array(HSV_C1_s5)"
      ],
      "metadata": {
        "id": "BPQpHe4gzTWV"
      },
      "execution_count": 69,
      "outputs": []
    },
    {
      "cell_type": "code",
      "source": [
        "y_C1_HSV_s5 =  table_C1Set5.iloc[:,14:15]"
      ],
      "metadata": {
        "id": "W1eswd1bzTWV"
      },
      "execution_count": 70,
      "outputs": []
    },
    {
      "cell_type": "code",
      "source": [
        "y_test_C1_HSV_s5 = np.array(y_C1_HSV_s5)"
      ],
      "metadata": {
        "id": "RhmnHsF9zTWV"
      },
      "execution_count": 71,
      "outputs": []
    },
    {
      "cell_type": "code",
      "source": [
        "X_train_C1_HSV_s5 = np.array(HSV_C1_concat0)"
      ],
      "metadata": {
        "id": "PD3de1lIzTWV"
      },
      "execution_count": 72,
      "outputs": []
    },
    {
      "cell_type": "code",
      "source": [
        "y_train_C1HSV_s5 = HSV_C1_concat.iloc[:,14:15]"
      ],
      "metadata": {
        "id": "QGQGHbyyzTWW"
      },
      "execution_count": 76,
      "outputs": []
    },
    {
      "cell_type": "code",
      "source": [
        "y_train_C1_HSV_s5 = np.array(y_train_C1HSV_s5)"
      ],
      "metadata": {
        "id": "TP-B43H0zTWW"
      },
      "execution_count": 77,
      "outputs": []
    },
    {
      "cell_type": "code",
      "source": [
        "new_model2.fit(X_train_C1_HSV_s5, y_train_C1_HSV_s5)"
      ],
      "metadata": {
        "colab": {
          "base_uri": "https://localhost:8080/"
        },
        "outputId": "7efb4026-beba-440f-a60b-880258c11120",
        "id": "YTpGjCpmzTWW"
      },
      "execution_count": 78,
      "outputs": [
        {
          "output_type": "stream",
          "name": "stderr",
          "text": [
            "/usr/local/lib/python3.7/dist-packages/ipykernel_launcher.py:1: DataConversionWarning: A column-vector y was passed when a 1d array was expected. Please change the shape of y to (n_samples,), for example using ravel().\n",
            "  \"\"\"Entry point for launching an IPython kernel.\n"
          ]
        },
        {
          "output_type": "execute_result",
          "data": {
            "text/plain": [
              "RandomForestClassifier()"
            ]
          },
          "metadata": {},
          "execution_count": 78
        }
      ]
    },
    {
      "cell_type": "code",
      "source": [
        "y_pred_C1_HSV_s5 = new_model2.predict(X_test_C1_HSV_s5)"
      ],
      "metadata": {
        "id": "fWHb72VzzTWW"
      },
      "execution_count": 79,
      "outputs": []
    },
    {
      "cell_type": "code",
      "source": [
        "print(\"Accuracy:\", metrics.accuracy_score(y_test_C1_HSV_s5, y_pred_C1_HSV_s5))"
      ],
      "metadata": {
        "colab": {
          "base_uri": "https://localhost:8080/"
        },
        "outputId": "efbce98f-b500-4041-fce1-dfd17fdb1bf9",
        "id": "RPcz6n4szTWW"
      },
      "execution_count": 80,
      "outputs": [
        {
          "output_type": "stream",
          "name": "stdout",
          "text": [
            "Accuracy: 0.375\n"
          ]
        }
      ]
    },
    {
      "cell_type": "markdown",
      "source": [
        "#Accuracy"
      ],
      "metadata": {
        "id": "SXXTPWTJMGbr"
      }
    },
    {
      "cell_type": "markdown",
      "source": [
        "###RF model\n",
        "\n",
        "RGB A2\n",
        "HSV A4"
      ],
      "metadata": {
        "id": "PhbeOkzBN550"
      }
    },
    {
      "cell_type": "markdown",
      "source": [
        "![image.png](data:image/png;base64,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)"
      ],
      "metadata": {
        "id": "rFVnleOoHF_Z"
      }
    },
    {
      "cell_type": "markdown",
      "source": [
        "![image.png](data:image/png;base64,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)"
      ],
      "metadata": {
        "id": "Gq6nRKYsHGk0"
      }
    },
    {
      "cell_type": "code",
      "source": [
        "print(\"RF Set5 A2 ได้ Accuracy:\", metrics.accuracy_score(y_test_A2_RGB_S5, y_pred_A2_RGB_S5))\n",
        "print(\"RF Set6 A2 ได้ Accuracy:\", metrics.accuracy_score(y_test_A2_RGB_S6, y_pred_A2_RGB_S6))\n",
        "print(\"RF Set5 A4 ได้ Accuracy:\", metrics.accuracy_score(y_test_A4_HSV_S5, y_pred_A4_HSV_S5))\n",
        "print(\"RF Set6 A4 ได้ Accuracy:\", metrics.accuracy_score(y_test_A4_HSV_S6, y_pred_A4_HSV_S6))"
      ],
      "metadata": {
        "id": "2fVafcUyMh5q",
        "colab": {
          "base_uri": "https://localhost:8080/"
        },
        "outputId": "c7805a6c-8d25-4373-f27b-58bfe9b11619"
      },
      "execution_count": null,
      "outputs": [
        {
          "output_type": "stream",
          "name": "stdout",
          "text": [
            "RF Set5 A2 ได้ Accuracy: 0.375\n",
            "RF Set6 A2 ได้ Accuracy: 0.34625\n",
            "RF Set5 A4 ได้ Accuracy: 0.69375\n",
            "RF Set6 A4 ได้ Accuracy: 0.3725\n"
          ]
        }
      ]
    },
    {
      "cell_type": "markdown",
      "source": [
        "###RGB A2 HSV C1"
      ],
      "metadata": {
        "id": "76Scz_Ndz8RX"
      }
    },
    {
      "cell_type": "markdown",
      "source": [
        "![image.png](data:image/png;base64,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)"
      ],
      "metadata": {
        "id": "303Xnddk0hOy"
      }
    },
    {
      "cell_type": "markdown",
      "source": [
        "![image.png](data:image/png;base64,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)"
      ],
      "metadata": {
        "id": "kIRyx0qk0kPz"
      }
    },
    {
      "cell_type": "code",
      "source": [
        "print(\"RF Set5 A2 ได้ Accuracy:\", metrics.accuracy_score(y_test_A2_RGB_s5, y_pred_A2_RGB_s5))\n",
        "print(\"RF Set5 C1 ได้ Accuracy:\", metrics.accuracy_score(y_test_C1_HSV_s5, y_pred_C1_HSV_s5))"
      ],
      "metadata": {
        "id": "-JWk1z4qz-pj",
        "outputId": "e08a4749-3def-407b-bc66-3d1411420447",
        "colab": {
          "base_uri": "https://localhost:8080/"
        }
      },
      "execution_count": 81,
      "outputs": [
        {
          "output_type": "stream",
          "name": "stdout",
          "text": [
            "RF Set5 A2 ได้ Accuracy: 0.3875\n",
            "RF Set5 C1 ได้ Accuracy: 0.375\n"
          ]
        }
      ]
    },
    {
      "cell_type": "markdown",
      "source": [
        "###XGB model\n",
        "\n",
        "RGB A2\n",
        "HSV A4"
      ],
      "metadata": {
        "id": "3nFRAjMCRRJa"
      }
    },
    {
      "cell_type": "markdown",
      "source": [
        "![image.png](data:image/png;base64,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)"
      ],
      "metadata": {
        "id": "KyyYVjGBv-UM"
      }
    },
    {
      "cell_type": "markdown",
      "source": [
        "![image.png](data:image/png;base64,iVBORw0KGgoAAAANSUhEUgAAAmkAAAGOCAYAAADM2JR1AAAAAXNSR0IArs4c6QAAAARnQU1BAACxjwv8YQUAAAAJcEhZcwAAEnQAABJ0Ad5mH3gAALU2SURBVHhe7f1vbBzXmeALP9rvEyRfdhZJbmjt7SaysuZ6bEFruPuCG2dNvSGVAFYgkFgYs9Qaut3QBDCp+66CtSxjNLAsL8LFqGkgKzRheMW7MC5IL9YCEjWz5k6cJZZtzBiSkh1ZCtj9jsT8GWz2S4zM9/B9nqpT1VXVp6qeU/+6mnp+QLFZ1afOOfX8OfXU+VN96OHDh/uAfOELX6APi//1v/4X/MN/+A/VXrn467dPw/e2p+C7/+kV+KfqmJ9fwwf/ehHe+8p34T+9ok8xasosX2P++m04/b1ttTNg6rv/CUoq/kQcHJ39Nbx9+nswpLGp8voLh4Ogn19/8K9h8b1Has/DmOsmyFjqKqSdI8atrTswvrJTh5V/dwq+pI6NO2F60QZpv/nNb+AP//AP1Z6QNSLf8UN0Vm5EP+OD6Gq0iPzLSZhe/gEFZ94Ajfj973+v/hPyQOQ7fojOyo3oZ3wQXY0WkX85CdPLP1CfPvb3rc41ISdEvuOH6KzciH7GB9HVaBH5l5MwvUiQNgJEvuOH6KzciH7GB9HVaBH5l5MwvRx68OABfmd/SZ+04TFrXxAEQRAEQRgNhz777LOh8G1rawt2/sE7ak8QhOf+9/8PfPz/+y9qTygbop/xQXQ1WkT+5eXat3+k/hugHe4UBEEQBEEQRosEaYIgCIIgCCVEgjRBEARBEIQSkmmQ9syzP7LGVGl7+cvqYJ587l/Bv1HlXZv+V/BFdVgYLYXbgZAa0Vm5Ef2MD6IrIUsyXThAxvkn6jca/uavvwHv/sr+PzcoSHthHqx39P79Oixv/Qf4O+uLMeVz/xxm/8m/gP/jS1+2r8niV/Cbv/8l/I8H/xF++qu/Nby+fwyz0/8epv+A/v8VbP3Xs9D5nfXFMF/+M7j2T5+z/v3Nz/8U/u39v7X+T0LhdlAAoZNtC9fZP4Znjvwz+OMv1eGP/mBwB/jN338M/+Ov/jxcvzGMu85Ko5/PoX6+/Cdw4kvPwR9aaWws/WB5HSwvCQfJp8rjS36+eOQduPBVx6c+hv/4n/8c7qg9E8quq/FaOODVIRJ3n4+xoaT+VxQU2AeR4c6ygEHSv3nhAkz7jIvA/T94Dqb/6b+Hb+T0VPZFNOyXVYAmGDAKnWEA8CdfnfcFaIRV3gvy5O5jBPp55p/8e9SPP0AjnPL+zZF/rI4IPkbY/lngA/+/dAM0oTR87p/B/+H1pT+owx9/Tv0f4IsMGxpH/5MgrRTYQZJjWL/5+TIs/+dvwHna/usybP06n0cxenKkyP0CGvYfqWMCl9HozOZX+IT+p3ZZ//lPYevv1WHkj/6JDPvblEc///HX6jDyh1/9E3hG/S84jFJXBJbvjMgIpeKLX64H9PJl+D++rAm0MEC74LWhXxdtQ/lhMNxJwyx/AifoKVEdsboRf70DHz74D3Dnd8Fu3j+Fn37Om54arqvwrqe78YtH/gz+5Zf+N4xyvU8wdtfkh3/1HzFPf9ckRcr/0lUE5vfrX8I/pGEF2g12g+q6Pf8ez3ngr0MpwOtyhhrDutkpoPrG784Ous5jrw8bnm+HBV92Gf/T170/INvhzng7iLat/wb/6NlBd7dv+MArt5yHu4eGCEaksztY7svw54M8CUZd4hh3nZVFP/DsnwE8wLK8w2qiHx+l8SW155XtgGR6Isquq/EZ7gwMdToMXStvSJRs6F/C1VT3trxJMdxpC8HqxldHbNBBvjSv7X78o38aTP9l65h3OOYf/QF+Hxi2sfLE43/ygj8tCdgbKVv5OQFaEGuumqbbE8uiOpS7y/M5OPHsP4cvBmT6d/e9DVQ210d52k/73/A97WdJvB3E2dbfwk89T0F/9KV/rv5Dm/jc/6b+oyen/5b5zYRPcTqDXwUCtBw4eDorTj93/ioQoJGssJ1y+fV/T3Tj93Lw9OOlQF8iMNCxA6pfwdZfr8NvrIPZcbB1lTPeoc5ffwx/o/4dGvIMDIn+zQN9sEo2VOYALQxWkPbFIxcHUWrKbkSvkVlPFd6u7cDQgDt0g07pnS9ATyd2+Tqn8nZd02TRQV0dJf/hVy/CbKARGCm/+u8DA0T+8EsX4MIL9uqgfzP9ZzDr697lXt9fwru+oTBP2oRPiFni2AHHtv7uVzsDPX/uK2o47x/DH2MjbfMr+B++J9MCKJHOvI01/P0v4H+qf7NmrHQ2av1QLweWde3b+ISvggCrrfurv7S+zoOx9amR6QrzUj1Rv/n51cSLbpIw9u1fAXiHOv/m13+OwarawQDWN+SJMnHSUQ/oT81CktJjPiftc/8n/DEKyDKU3/0ldP7K84TjgYbMHIP7jz/XS+0OnXv/Lz1R79/CnQfDgZdvXPrv1+FHUQb55f/T7eL2OR7W9UduPb4M/6hMQRpgg/LXHw9dN+FMeHRfMTJm18exA5cw2/rdf4P/4TS2zlOU9+np73fgpwU2sDYl0VngASaLJ+qDobOy+dSX8caMssrALw+eT41GV888q4ZD8Z7y/+TUw3Jw27+88QahduB159cfq320iy/9M1tOjwGsIM0XySunuWA9Jb4DL4d0Lf+v3w2WS9/53S/Vf4j7JGDzxS//K3j52XfwiQk3ytN9Shrwj/5gcBOC3/0i8ibk7VX4w6+ic1v1tDfv/Kt/+Dl9vUfGr/4c/u1//VN0ZGys3Kc/D38wD/8SZT1u1xdnBzzb8nb5209R3sB9ZF39I9fZP4bZZz3+ktHN5sDobJT6wbLpxkzbsnNzJlm98GepFw4cSJ8qWlfeYc6/yn7encOBbv/yxBuEOlMEvD2uwSHPAwyvJ+13/wEdaB3+Zsh58OkQHSXZHK9/Di9Po2P903l8wvwyPjEF5heE8Ju/f6j+O4CgQ9+5j43VlmrcA3Mk6OnhH6n/DwxM2/I2ZiSHP3YD9xF39Y9MZ/ZcFneohCY6b+V3s/ExTjorgU/93f3/1zOc9xz88SCWyIdx9akCdfWMO0/wy9ara6xAz9dB8Bz8CR3L+yXp497+5YRv9OxLF1Qg7l0I4hny/N0vPHZSgH8VDH+4E43pXct5/hSdZ9m37P8P/+Cw+o/PF4/8C/gjt7sWbzD4FGV1C6PBeh2T+J9/7zxFxJf1d96nlV8vW86u20o1gRCf6l52DM7D3/3qP8CH3gn9aIy+p7Fxub44OLbl6/KfV/N8kFF19Y9UZ4EAjfyn6HmGZdfZSPSDD5406V3tjZRx8ilp/8av/csV71BnOBSsWr7mlQ3in/c+wHqPWqIOpdHCXDiAF+euuPlbdJ6/hJ96xofT8pvf/Xd0Prtb+Iuf+4p90IMv8PrSv3An/VPaod43b5copiXn9zaa1otbp9/B4+pASaAVP9em/wye8XbTY13/2HFGxOpFTHx9niePEsG3Lf8qJ4dRdvWPRmfBAI2WmxcboI2LzkaiH5r0bpWp9lFf7twni/wnNo+jTxWtqzt/NRzY+TsI6MEHj+XcOz3O7V9u+ObbYfsWpiN3yPNvofPAIzP0wX/z7L8a+CDa1DPP2m+HGEdY70mzXn/hGe/3Q6tm7J/b8L8fJuZ9LtYy6uH5Zz6ctENDOxrctAgjb1/9Ro1XPiHQy/n+rbMyzOD69Lqze17C3pM2YKBbE0zsAJi2ZTF03cnql4TodzvpyUNnoH2nUwDqYTBcRTjuOiuHfv47/HHou7lsfLI14CD5VFl8aejBxpdvSBoGZddV2d+T5tUZLbzw94r6YwHv93pd+xnOr1zQsG4Q5sKB/9daDuwfhqSX7S3DclKH/t1/gP+H5hx4uilp2Eb/rhqMlLf+1F2SbIMGqk2LYN5hk1B/Qy88/Pky/ChBQ5kbv/pzoPkXf4N1C14P/ebf1l+jYXlvugbX93f3r2K6QL6Bc0aJkW0FurVH2tUvOiu3zkain7+EH2GZWtnQkPR/TRagmTJ2PiW+ND66yp24V4v4exTdIU/Eeu+nenXJsDzRL8mOxmkYXJHpD6wLwkFlfN7S/Xgi+hkfRFejReRfXnQ9aRKkCdEwhhYG5D9UMirGqmF7DHUm+hkfRFejRYK08pJ4uFMQBEEQBEEoFulJEwQG8vRZbkQ/44PoarSI/MuLdrjzwYMH+4i1Q5+04TH4fdXz2gtBEARBEA4EEqSVk6VjbfXfgNCetGdfeErtCYLw8d4P4bmJb6o9oWyIfsYH0dVoIfnPPXVe7QllYW9vDyYmJtTeAJmTJgiCIAiCUEIkSBMEQRAEQSghEqQJgiAIgiCUEAnSBEEQBEEQSkiCIG0P3j0xCV/5Am4n1uCROhrK1uuYdh7efaj2hcebh9vwqmM/lg29zrcNk3Mx7bvn5+GUkxa3V7fUd4Rll568fNvr8JFKljlprt8hzqe4ZWQpT833pzC/j6Kujds2jKoNSaorjSysc7f2VIIAcbL1EiaLh2v+8oY2zzkGunq0tRaQwTzWLeQ6HEhuVvoc/SgJRemTiLHZWLma6NMqS5eGthx00N+EZv0QHDqktnoTVvrquyjwvJVmHerOebjV8dzNqHM3m5iuHp9/VDrrO099fRuWr5Ilqh9B8gjmpehvrvhkxcovgHmQ9vAn8INP1P+fdODHUUZOxr28rnaExx5qeJ45C+859kN8sg6Xn2HcgE3OxUaL0l6+cRduq0OlIM31O8T5FLeMTOWJD27N4e9vY34LYdfGbRtG1YYk1pVeFta5c9PDwZeJrWYiCwNdYd2m5t4MyOAuvIfXcep6WICCgRDJTe2VhqL0ScTpKZFcS0J/BerVWVjtqn2iuwpL1bhAqg8rC7OwhCf6TsVzZ8POpaDpyqraiYCbLpIE9bPAAI3kofa89DE4rM4u+WQVn98wxkHaox910FifhstX53HvLvzgRzqjUk9S1Ph4DVF4rPno7Tethu7Y1Xdg+7e78Avctq8+jUfuwuW3t600YbDPpcZ4bt2y0ZeubrlpaXtrWqXxcAzTON8PtjfgefV9lqS5fq5PccvIXJ5P4vcbnu/vvAOXj9MXwTaC2zaMtg1JpaugLH67BWvWuQDvdZLYKkMWhxfgA8/5g21L6cEDS1cYnFiBhp3WyW97Yx6O4dHbF9/R9NDgOScwEDr+Glw+ow6VhEL0ybJZplxN9Kkooi3bXF6ygphaqwM99V7VXquGR7qwtBzsRwpwtAaNTs89b7/XAetUPHfjljdqUT1TGPwseSOmIbjpbGqtnvsu2MHWhhn1Pb9+DhjY1TFAq7Wg1VCHXDZheZZCtxq0ME+7rB50uLLyYBik7cGPP7gLcHwWvn5uGl7CI7c/+En8kKcgYAP24Q36nIdXzk3BE9YxgCfOfc9udG5sRXTL8891GuOXNtbhrXMTbtrRk+b6uXDLyFqeE/DyNfx+2vP94Sl4uf2afePZLXnvwBBpdKWRBR57/tx3rPbSSyG2uoUBGAUMZ74DLx+mA1xd7UGPzsO2volpHZ6YfgNe0QZgFKBNY1nzsPbhAlhFlYZi9MnDVK4BhvRZJJtw0+oyasClxRmoWMcAKotrdjCzehNThFGBxfYOtGcq7nlQmYHFtRaGMRi23O/Zx0aGaf0oQKticNiAzs4iTKqjLps3rd61WmsNFjFPmwrMLO5AhwK6SFn5MQvS1FDnsVNfQ4OdghNkVNohzyl4S0Xy9tOK8Njz8CH8nD7PTAee7Cbg8JP0uUtJ9LDP3YOHn+IHPsk3Nb1mIyXN9VswfIpbBrsuKeXZ79u9F5PeFzRy24YRtiFs+XDZg4/O0xDg03D5lSn3GF+2SWUx6LUZlBvCkK6c9v1NaPvmXql6+2RD16cCtDv59EKnohB9Ehw9mcg1iIE+86C/C/fos/HioPfJogKTR+nzHuwaDONZ9O7bPXNHqva+xQy0VW+W3UsXBjddCrT168NmUwVoPU9PHJPqEaorX1ZGQZoz1Pmtb9iO/Pxs1JCnIPA4PJn8Juw715kviQ3vj8/PeybPzsOp69vaHt/bF6cH6TiTonMgzfVz4ZaRVp5ePurYNxSnvTgIGOlqy5nQPQ1vw2uwfWd90PuRUrYsDHpddLp6/po9tEZzpaher15fs3vL6FquDYIECtAWbmDgQAFaubrQYslMnwZw5TpEjD5H2ZbZgYc5m1bXXA3mTrr9V7nRXaq6E/gP1evQZMzg19WPArTZ1Rq0KEALq3b1iN0Dt7Tgn3+GD0MY9yFd4HYeGgRpnqFOx0CmZchTyIq70DN9CnMJnHvjTWui74C72ICdhanzMXNPRjp5N831c+GWkV6ej/CGtnDDHsorflgmb8x1dRtlONXUrIZPaquxOL0u87AWdeNHInX1JAYxx+fhJQoqLmJdMUg49uQg0aPr8ypAG2c9Z6hPLjFyHYavT4uRtGX8wIOgifU0bavR2YHF/GM0P90urM5WoR4xg19Xv/5KXQVoMXWuLMIla55aF5aqKjC05s9RgGf1zYGvcy4CfpDmG+p0iBryFAQTnoZqYkf1n3vsDD3l2sMO1nbnHXv+yI3vD1ZyTb8x+N7atmDbWgxDT6S6SdF5k+b6uXDLSCBPD3TTn5pbtyYy6xZrjD9MObo2piaaf4I39kDwZSpbLo+uf9e+8V89Gzn8GK4rNcfs01nY/vANeOvDdfc6bt/AIFK9funhLgWYd+HyM05PoL1R0AewDgu0nzrgzJvs9BkPT65BIvVZmraMH3jYKx9Xrcn8bdPxQlNm2mrivrP1oKdm+neXlrVzw8Lq17tPAVYg8MLNWiMAqzBL+007x5k2LRRoWD1qDrUGLTIw63VkB2n2UCcp3dOl6jqjDHkKybEb+mRoz53EBwnvQ+nhKWhac0Sinpgn4IlzZ+2JxAWT5vq5cMtIK0/qWXFu+h+cOzjDnA7JdEUTzUMmqSey1Ti2oX2R6kkT5cN1EKkr7UM5Xce6Pd/KmlOlDo8xmeszjkRy5elzQPFtmR288KDeKCcA2im8C42oQGXxglq5OUx29aOFAm3Y8QSIO+2TAPdIVkdhkpk1M0hTQ50RyJCnEMnhw/BV+hxq1NSEWZikJHq456p0pbTFNNfPxVBO2cqTJlPjTf8iDZuNeYDGlY8RalWfg5FszXh0/fvWe8rCe9EYulILCeJW5j5/zduDM9jWrJWK87BG+5zhuTwpQp9cmHL1Eq/PgqhMYmiBDK1M7MOutaIgLvCgCfcYAC3REOKoArQo4us30/b2yA02a8UmNKBD+1Fdg5vL9utChhZfhMML0tSERf17WJRDypCnEIkaGod1eNszMdrpxveuaqInfOqlHcyn4J47WDl13ptuaw3OqyfRE9aQzp71BnGaWDu4QeKNS1OX7Ehz/VwM5ZSlPPEf6lWnuUn0uoLxJoWuHtKb5Ont/V7dOasBEWPZmhLX68LUlZpvDDfO+iagD+pXxPB8VhShTybGcmXos7C2bAZetIKRVbiysokhjU1/ZWEo8KDeKBoGHMz5sl9ZQcOCNJ+LXnVRDFguBl60SGDQMY3B2FCd868fDaHWrXHRGrQucEM0gEOfffbZvvrfZWtrC5594Sm1R6t3aFgzYnIorXrxdZvTS/2UEQc4qMMgAgN6eecz9ruh/PhtyxqGwYbJZyvMc3m2p+aFUCM2hN7OP977ITw38U21l5A018/1Ka6cMpVneBobb57ctoGbziYT/XhJqqvQ8wjqWfK+oiJ7WehtxwtfV05eOsLzt7HvGcHrtclcVxxKpE8TucbrM1lbNvfUebVniPWLA/YLbf34J9NbQ4YYBQ2GDOnFs/o389t4zw9P6x+C5KRz3mdmH/fDK9MmerHAZpPmpVFPmueVHFpZ0QtzKQhUux729vZgYmJYx4yeNPUiQO+qziCyylPgQG/RponR3rkSx+e1DckQ7HOn4C1Md/kMzetRHLff7j1o5Cbg6xdew7w8aRCaxL3GqUtS0lw/F24ZmcrzAJJUV3jetY0w2woGLFnL1nTuUjRP0DwpehO+TwZjqvtC9MmDL1eOPgtuyyqLsNPrgG/ue60RGcCMlgqcvNTC+vonoNEE/k7BdXbKNF0owepJE4THnZE8/QtsRD/jg+hqtKTqSRNyI0VPmiAIgiAIglA0EqQJgiAIgiCUEAnSBEEQBEEQSsihBw8e7NN7PgjnnR94DH5f/aV1TBAEQRCEg8Ozn/+2+k8oO6ELB06fPq32hKwJmyAolJeNn12TybYlRvQzPoiuRovIv5zIwgFBEARBEIQxQoI0QRAEQRCEEiJBmiAIgiAIQgmRIE0QBEEQBKGEJAjS6LewDlk/nnqovuL50VIP/U3rR03rlEZt9XoTNrWJhQMB6rzp2IVlG01wf1s3DpNzNbbV3FTfEVzb22y63w9vmF4lE0JIo28HSwd1/XlcPR5E0sjW5FyNjMWXciCNPr1QPjqZjrv8s5BPWFtCv5/pk0dw85yjsXerLl6DN8kvK73Q6s7g9v7779NrOfT0Wvs1AFoRilttv9VTx116+62a831w06V//Hj06JH674DgswlDfZuc22lo0zY66nsT28O89Oloa+y7WSrWf/oX6j8hlb4deh2lK9055m3IgdGP+NLBIgtfsejsN9xzAzIdZ/nn3ZaE5u9szjlR9u7xC3Z+iKFewuIC4560/q0N6NIvwrfQZPC/jVuakPco/dJ7D7Cu9rvXeh1AASAh6YWxZnPZ/qX/Wqvj6rxnKbwLS8vRzwvsc+kJZnYVj6JttTy2hZvvB2sNba+GeTn5DLY2GP4G7mNFGn3j2XZvQHUWliiTMB7TNkR86WCRzlcc+rBSn4XVWgus224I4yj/3NsS+kF4nzycrads2UPQ3jFNRyVavanqYpKfIrVezHrSVLRZa+F/KrK3/mfgRKCDR7XHloPVk+Y84QWfDJwnk+EnhgH8czsN2vc+6Rugsz31lIMOpA5EIz1pDmn0TXh7BGgzeWIOb0MOhn7Elw4WaX2F8Ke1dRc4b2zlP8K2xOnlinUCVUZcOl1+hnrJpietfws2MGKtzZ2ECsaBL2LtobsBrAfb3n07Yj5StfeFg0F/F+7RZ+PFwJNBBSaP0uc92A2zD/a5fdilhPgkeSHJY6HYXnak0bfFDLTV06T9xGzAQdej+NLBIrWv9GGzWYWlbgM6vQPYIzmytqQPK1dW8bMGrUgnIPnPwiojHS+/ZBgFac5Q59zJirU/Y0dprOGHzZv2RTjnCgef6hHDm7AH37nq4QDQcW81657Jl3Wor2yii0QTZXvdpeogv3odmrK6JTFp9M3hcW5DxJcOFhx9UoA2u4o3fgrQGCZ/kOSfa1uyuWwPjzYuwaJOru6E/ypcgRb0ejv6dA4x+aXVi0GQ1odbdjcauP458yLYnWm3Ip27jxc9i77d6MRcrHAA6cL9nvrXmMC5q0uwtEre4NBFB5iFqm9Jmh8j2+t2YXW2ijcrubkkJ42+w5E2hBBfOliE67O/UlcBWkJ7PxDyz6MtcXq9GtDxTcDU00U/qS6EvMXCwiy/JHrhB2m+oU6H+CFPcuwqejZNnuNcg3DQqEHykRH/ubUGPdV4Jl/2OtZDAqxe0S7ZjrS9mfYgH2vrQU/Nyu0uLZd/2XppSaNvPdKGOIgvHSzC9dm7TwF0F5aqqgdGbRQko5JglvadgPrAyj+HtmRlwer1qrUuhA8fu/JUCwe6GKiFPLxE5peRXthBmj3USZl7uu5co9EPedLTgOPYO9KF9thhNzTJ0J57BB8QvGZUmYEL1lyE4Scuc9urQGXxQugKHSGeNPoOQ9oQG/Glg0UevjJg/OWfj3w2Ydkel4RLTDueWVyz5bh6UxNUmeeXRC/MIE0NdUbgH/KkCXfo2EvUNS4B2oGmMknTWzRGrCYo47eTYernnqvSxQ2r24jt5UoafRvxGOpRfOlgkUKfM21vD8xg61gdMQ3o0P64dysX1pbY9FeuAPUpRfaiDdGDsHgxWX4JYL2CI2Ypqb0sOPhSOIPlsI8ZB+1lts6S/lqrg9q36bVq1jFs3dWRwTGvHXHP1abrOC8WdJZqc20P0zVq+3jjcfOiYx1NuQ7yCo4BafTtxf5epyvzNuSg6Ed86WCRla842Pl5X00x3vLPSj7291G2Gva6D0Wvtd+o4Xc9bwYoR1W/YTnG5JdAL2FxAStIsysaIQBfEBd8d0lw4ze8B5WDFqSRgdsNfLSutY7GPDfKrgb5cW3PuQHpNr19SpDmIY2+M9XjgAOjH/Glg0UqXxlGG6SNs/xzb0tsYuUbWg/ahgOxeH2Z6yXFe9I2wV517VnVGYS5ylM4oNBbmGniMVq5S63BW5nEPncG2vTGc2/Cmv2GaPNhmAqcvNTCMr2FUrEt6CRdTfU4kUbfQjTiSweL3H1lzOVfSFvCmDuG9VjrhMmxHRjO5MxFy04vh6jnTP3vsrW1BadPn1Z7Qtbs7e3BxMSE2hPGgY2fXYO5p86rPaFsiH7GB9HVaBH5l5OwuMDgPWmCIAiCIAhCUUiQJgiCIAiCUEIkSBMEQRAEQSghhx48eEALCKwd+qQNj8Hvq7+0jgmCIAiCcHB49vPfVv8JZSd04cCzLzyl9gRB+Hjvh/DcxDfVnlA2RD/jg+hqtJD8ZeFA+ZCFA4IgCIIgCGOEBGmCIAiCIAglRII0QRAEQRCEEiJBmiAIgiAIQglJEKTtwbsnJuErX8DtxBo8Ukd9PNyGd8/PwylK42wnXod3t/ZUAuHAgTp/1bELR98P1Xdctl7Hc+f152ls6hSW8VEwLTedVdYgjX/D9CpZ6SmL3JFHW2uBuszDq16ff7jmbxOGNk8dDop+ykBSG0nhc2Pd3mcor0g5aNK/uuV8V2Jf6W9Cs34IDh1SW70JK5zfg8TzVpp1qDvn4VbHczejzt1sYrq6Pv+s80P6myuBa6tD05thf8VX3vDmydsqS5eGNqynShaHeZD28Cfwg0/U/5904MdDxotBXPMsXL5xF26rIxafrMPluemBEQoHB2pQnjkL7zl2QZC+nwm58eugBmt5Xe0E0dvUbSxjwVcGN90BoTRyR/BGMTX3ZqAud+E99PlT1+XhbGQktpF0Pje27X3G8gqVA/oLlTOUvuxQkFKdhVX66UqH7iosVcMDH5s+rCzMwhKe6DsVz50NO5eCsCv0w+E6ss4PwaCqOrsUuLYurM5WoR59cbliHKQ9+lEHjeppuHx1Hvfuwg9+pGmAn3waXtrYgu3f7sIvrG0L1q4+bX31Xmfb+hQODh+9/abV0By7+o6r821L33fh8ttx+sanVnriowbL2zAGCdrUnXfg8nH6ImCD3HSKY1e3lI16tzfgefV9mSmP3PEGZQV6dlpHjtsb83AMj96++I79NH94AT5w8vFtWyrPYcZZP2UglY0k9bkxbu8zlVeYHCgQnFu37qMvoX0P0u/CW9MqTUl9ZXN5yQqKaq0O9NR7VXst+hHxLiwtx/QNHbV/xN85b59+5N/6/fEubNzyBkGb0KTeJgwGrd8xDyPT/DDoswI4O0/nnbG9TgOPYI5Ly3bPF/0gvFOeb+upsoeptQb5Dbbgj7aHYxik7cGPP7gLcHwWvn5uGl7CI7c/+ElgyHMCXr62jsY2AU+oI3Ts+XPfsdILB41t+PAGfc7DK+emXJ0/ce57dmNyYyuD7naNTR2egpfbr9lBwK5zw+CmOwiUSe570KNAD9uFJqZ1eGL6DXjljNqJYgtv/nT+me/Ay4ftQ0IWpLGRFD6Hx8azvc9YXiFycALBlzYw/TlvegYj9ZVNuGl1RDXg0uIMVKxjFLes2QHK6s2IIbwKLLZ3oD1Tcc+DygwsrrXsIOh+zz7GJuv8enDfij7n4ALm6VCZacOlhtqJYnPZDgAbl2BxcHommAVpaqjz2KmvoWFNwQlqgLVDnkH24KPzZ+E96oF7ZUodEw4EDx/Cz+nzzHTgiW0CDj9Jn7uUJIIpeEs99dlPrAb0+/ZT7+TwCwB9cNONE6WSu9MWvAlt3/ybPXj4KX4M1dHLoBdO2oaMSW0jGli+NKbtfeby0slB+cTx1/CBxj7CZ8S+0t+Fe/TZeDHQC1SByaP0eQ92TUcFe/ftnrkjVXvfYgbaqsfJ7qUzIHF+M/AiBWPdJVj2TWrrwy5d9NA1exn0wrUucPvH+BgFac5Q57e+YTvo87MRQ56EO6FxGt6G12D7zro8KT9GHJ40vPkb8lHHbrAcewwjKt3ti9ODSbbBie5jyijk/vw1exiG5qDRpOZXr6/Buyem4TL5/bWIG0pMz8BB1E8ZSGojkT53gNt7I3lFycGZ041B34/Pz6t0tM3Dqevb+oV4DiX2leoRw2BKsWl1zdVg7mQ23U9p8ptp20OWNAeNFgA0V1ZgpV6FJWhBrx0RfMX0onWXKD+1YCC4EIGBQZDmGep0DGQ6bMhzmNs33oSpZshqUOEAcxd6pk9XDB5hQ7hwwx4yiLoRcNNZHKiJ7iOQ+5N4Izs+Dy9RsHbxTeuGcuzJKKE7PQPzsBYVyDnIQoSMMbMRE186mO29uU+FygGP06KBAXcxyDoLU+fD5r2Ng690wWSUsb/ZhFmMqRqdnUyGCDPJ7yhGabUGNChYW1qygq/a0Un1pQ6nF60BnahAziHBQgR+kOYb6nSIGfKcfkNNXlQTKD9Bgw01QuFg8jRUs3lIcqGbxdTcujVR1p1oqyEynWubzrYF29ZiGHoiVRPdx5oi5Y43EOo1+3QWtj98A976cN31+ds38MYT8qqeR9e/awdyV88OD4ceeP2UAb6NsHzuwLf3THkx5HDsDPWweez7zjv23LUb39euIh0PX6mBb5QxAgqoqhhR0aR6TmwTR/r8MNiiXrN7c9DbaUN7ZwdoMUCnVYPu6ixU6yuYYpj+yoIdyLUuDA+HzrTVIgFn60GvZU9wcxciMGAHafZQJynd06WKGz1Z0VNA6JCnBU2gzHJCszAOPNz1Pilmw6Pr8+7N4oNz4cOc3HQDJuCJc2dtGx1zCpe79gGOfH7dnu9mzVVTh122oX2R6kmTtB8v/ZQBExtJ4ksHrb1P5lMRcphEX/H2Rh6egib5ira3rvy+0rNm3fPor9TdgGongy60TPLr34INCrbmTg4WIuB/M4s79jw2a66aOuyyCcv2OCdcYpVbgcrihdBVoGEwgzQ11BlB/JCnWgEmHCwOH4av0udQY6wmyMIkJckAmoSLN4uLNNwSdbPgphtzyiR3NZncZPXso+vfh/fwU9szIGRDahtJ40tj2N7n4lMBOagyOFOEHErjK5VJsNYHDK3iVJPr8dvJyFilD5tNDKiWaEgyiwAtw/zUggOTVaH9lStgzYDT9aJlCC9IUxMW6UnK361qb2veIc+H9NZxeiu1t8F2VrkgkSu9hPFDDXnDOrztmfjqdM979U1P5NT7aj5Pwh5Oo17by3fsZe56DNLhzYcm1g4aSrRRTZ3LS4nkruamwo2zvsnK9AsE560egOAwUVzPwEHQTxlIYyNM3R+o9j6FvNhycKYIvQnnvWW4vjIPKHYPZfIVtQISQ5MrK5vu8J8z5OddAUm9WzRRfjD3yh5OpDljrZ796ox0ZJzfzItgX9qsb2I//QLBgnVxwaHcuF40rB8GkJSXJzfY1MgqDlaQFreKLrjK8+fWW6m9w6K2s5OhsSY9CmPF86+odyfRxFel8yl1c45fKq5equqecxcuP2Pve28Y9tPo4Dv/5rwNnJsO+dSeWOvU17JRdp3LQXnk7gzVOKs77e/pFwis1zVc/Z5vojmrZ+AA6KcMJLcRvi8dpPY+jU9x5fD8NXv+ma8M11f8PlE2X5m5oN5DtjQLVbVisaqCmOjXT6j3kEEXlqpqpaNv8/5KgHr5LG523oNzBkFf1vnNwAU1Dmmv7lTpZ52X9675FiOwetHu2YsEHDkdOoRBJUtWfhhBmnrBn3dVZxDvKs/DC3Bt4zV46bjdaDvQRMm1O/Km8AMJvR2bJr5650Acn7eewGNXVI6ECfj6hTAbLWudNZRI7k/Q/DP6hQFfXew3sPuHyTjzaw6IfspA3jZy0Nr7pPIyksMUvIVlXD7jSTsuvkJv3O91rNWPLrWG1ZuVevRyxFRo/hn9woDv2uxfIPAPpXLmolXg5KUWysk/Aa3WaEHHUFaHPvvss331v8vW1hY8+8JTak8QhI/3fgjPTXxT7QllQ/QzPoiuRgvJf+6p82pPKAt7e3swMTEcjLNXdwqCIAiCIAjFIUGaIAiCIAhCCZEgTRAEQRAEoYQcevDgwT69DZdw3oyLx+D31V9axwRBEARBODg8+/lvq/+EshO6cOD06dNqT8iasAmCQnnZ+Nk1mWxbYkQ/44PoarSI/MuJLBwQBEEQBEEYIyRIEwRBEARBKCESpAmCIAiCIJQQCdIEQRAEQRBKSIIgjX7YVP0WVX3F8+OhHvqb1o+L1t3frKK0TVjx/HBpKJvNwTlDWzPw6/tCaUCdNx27oI30zVC3D0v33t9ci4DK09mExvbqWJch0xM705O3HkU/8aTRAfNc+uFofzr7x6Bd+iv+9nto8+hXfCmaAvRpofGt5jgIP418HOLuHZwyNPKz0o3aL2h1Z3B7//336bUcenqt/RoArQjFrbbf6qnjLr39Vs35fnhrdFSyMDoN7Xn21tiPO30cePTokfrvgOCzCe+ms48Qeh1lN5xzOvsNtwyvTUTZXiBfQztb/+lfqP8OMLnrUfQTSxodcM+NkG3NSRial7N58hRfCqcIfRKoA11a3f22VPJPIx+HuHsHqwxm3JKjX4TFBcY9af1bG9ClX3Fv4W0S/9u4pQldj9o/Sop1Ve9e60EHJUCs3uTFj9hYuO9tG2zt8F+cF0bG5vISWgLprOPqvGfpuwtLy3H6xiccerKozoL1m7WxUE/uLKzWWmCZYJCg7fU6YJue3lbFzgYUokfRTyRpdMA7F/3nyip+2npwZGr9sDQe7S4t20/49EPa6jv/1lP6GkZ8aZj89YlQ787sKh5FnaIOXN/CrV1y4RfR5rDL4MQto/ALs540FW3WWvif6s2w/ueg0sd1panoEy9MHTh4HKyeNKdXK/hk4DyZDD8x+PH2itEW9QTlzxPvK4z8Eefpx2t7hnZ28J/+i9RjANGPIo0OuOeqdJp2m+VPTu+A+BKDIvTp6I0xSqUoj/zTyIdwznc2XZuTURnMuCWNX2TTk9a/BRsYktbmTkIF48AXsfbQ3QBdZ5qfPmw2Z2GVeuAuPM7PVQeQ/i7co8/Gi4EngwpMHqXPe7AbaR8z0FZPF/bTTRhkQ1V8YmpAp2f4dN67bz9JHana+8IwhelRg+jHJo0O2Oc67fYSLPsmAvZhlzIYOt/LoBdO2nEGhehT6a3WgrFTSRFtTqoyuHFLvn5hFKQ5Q51zJyvW/ozt7fohT8KdOFeFK9CCXm8HFu1TY+kuVQeT7IKTWoWxoHrE8GYdAQVos6voBBSgMW3IYfOm7UCO3XoRO4snSz3qEP3Ek0YHwXNn2vbQzOosyRZlurICK3V8AKI2Omp8bHPZHlZqXNK246IrPpnpU3WcAAYct5r1gfxRr/WVTQwfxpO82xwitAzTuCVnvzAI0vpwy+5GA7ctnXkR7M60W7HG0F1dgupCyGrQOLpdq0GpGy/5EEZPF+731L8J6a/UVYDGD/Id+uhwsxgDNDqMc8XOIkivRx2iHxPS6CBw7lG8QdUa0MCP1aUl6yZTOzqpvtTh9BY0oMOZ6CS+xCBDfeL9dWmVIgWHLgYHs1Adi+WdYeTT5viJLiM+bsnfL/hBmm+o0yFmyHOmrSbJqQl4XbzgOKNxz3G2HvTUDHF3UqswRtQg7ShW7z41Pl1YqjpPifZGN3dsnWCW9jV2RQFAFRPVWr3hCbRiZ4ak12MQ0Y8paXTgnIs3Feo1uzcHvZ02tHd2LNlS+9xdxZt6yGuV+isLdiDXuhAYNkJEVwnJQp82tQb1+Hh00OtYHSiwesX8dRalIfs2ZxhNGQZxSxF+wQ7S7KFOytzTdefeKCOGPC0qMLO4Zq9+WL1p6LQVqCxeCF05IZQXO7gaDdT75gQAO6zuN7GzMPLQo+jHjDQ68J2rfdim9nkHbyD2DWl4Ud0mLNvjOXBJdJUJmenT4Qjq06uaygxcsBRQRG9U9uTR5gSJLyMubinGL5hBmhrqjCB+yLMHBchdKJrKJE2H0BixmtCK305y7DeCmbb3aWSwdayHkgZ0aN/tiqHJnhgALOE3HW4AIBShRxvRTyhpdMA9Vy3S6BrcufsrV4CexbW9BUI4RehTpeNMOSodaeTDJXUZ4XFLYX7BegVHzFJSewmwWv7aa+03ao39Ts+btucuE/YuUcUnt0C+vf1Wo7aPjTf+54DnqnTec8eZg/YyW0e3tVbH1Zuj22h9+7G/57+6wS7Xu4TaWVYdl4e5nT0Orw3IX4+inzjS6IB37uC1BSRfh17HeUlnUDdhrzBwEF+KIn99hqRz9TmstzLJP418vNjf69sVVhkGcYtN9n4RFhewgjS7ohENqzeIi3wjr/+ChgXvNOK6La5hHx8OWpAWrnO/zvSONrhpBLcwh3Sw7dJrU+F52ZtTH3M7eyxuLLnrUfQTSxodGJ6r24I+p9e1F/GlSArQp2kbWir5597mIJwyQtPQNhyI5eEXKd6Ttgn2CnnPqs4g3lWelUVY67SgUcNL9kATG+Pfb1WBk5fCzjVf2ScUBL2FmSaqetVWayRajVkMYmdaSqPHx1g/aXTAPLdC88/wCccnXtzBp/7A8DNnzo34UiQF6BNvwNDGdC1vQq0+S0gRbQ6nDEzDj1uK9YtD1HOm/nfZ2tqC06dPqz0ha/b29mBiYkLtCePAxs+uwdxT59WeUDZEP+OD6Gq0iPzLSVhcYPCeNEEQBEEQBKEoJEgTBEEQBEEoIRKkCYIgCIIglJBDDx48oAUE1g590obH4PfVX1rHBEEQBEE4OMw99X+r/4Qysbf3SP03IHThwLMvPKX2BEH4eO+H8NzEN9WeUDZEP+OD6Gq0kPwlSCsrQ+GYDHcKgiAIgiCUEQnSBEEQBEEQSogEaYIgCIIgCCVEgjRBEARBEIQSkiBI24N3T0zCV76A24k1GF6LoOHhNrxK6b/wOnykDgljAunO0bel89fh3YfqOy5br+O586HnPdpa85VxCsv4SJM2mO4rJ+bh1a099S3ycA1OOd9pN08drDrp0tB2AO00bz1i/u+en/fJf0iPop9sSapTja6sc72+5EWT/tUt9R0huoqmKD05UHlW+pxk3wdo1gEOHVIb/r+Cx2LBNCtNgLpzHm51PHczeO6mJ2/Nhl9beXnz0W3eOvXxpGCdm1ZGIag6aK8ry+tgYB6kPfwJ/OAT9f8nHfhxrLGhwTxzFt5Te8IYQTdV0p2jb+KTdbj8THjANQQ1NMvrameYR9jAT8296SvjNpaxECxDkw4+uQvvzU3DqesxjdbjTu56xAe35lm4fOMu3FZHCK0ehWxIrFO9rqxz0Zd8wReBfkflDKUXeBSlJ5ec77cUHFUBVumnKx3w/yU8FheorSxgulUruUsXd2YZ56YCo6Hq7HCdV/FYfUXte6Eg7Ir6X0PR12EcpD36UQeN5mm4fHUe9+7CD34UdYOkXjc0mOOvweUz6pAwNnz09ptWA3Hs6juw/dtd+AVu21efxiN34fLb21aacNTTHDXw3gbKxza05+jGj/a0sWXl/4vfbsHaUBloR1aA8DS85KbDumzMwzE8evviO/YT4+EF+EB959+24PJxSjDMsauD/AbbG/C8+v4gkL8ekSdt3Tj5/+LOO0rmnjZC9JMZqXQa1JXrcwDvdTznUoCB/knt/Uuoh0H6XXhrWqXxILoaphA9ueR/v91ctoOTWgugt0/vVsVP/J9Ywu8iOQrQ6AzO2+8BtNTvj2/csj+9UBlWusBm/dh5BWBH8x1tTp4OTsBFZTtpevg/Jesu+Xu0mtTLhcGW9fvpYWR5HQwMg7Q9+PEHdwGOz8LXz03DS3jk9gc/CRnyJIOZxoZ9HtY+XIDD6qgwLmzDhzfocx5eOTcFT1jHAJ449z37hnpjK31X+taW9cR37Or34OVp54dlJ+D5c+uwRo2MW8Ye9ChAQLtruumwLtNvwCucxmgLAwY6/8x34OXHzhAL0CPq7OVr63jjnnDzh8NT8HL7NTuI3o3p6Xys9ZOENDrV6Mryue9Y7bkXJ8B4aQPTn/OmF3gUoyebYu63N1ftz0uLVpxkUcH/rSAFv4sawltsA7QxMnHOo38W11SwdN8+lBqsgBVgNTBvVdB9K6oEuOCJiir4/yVMk4RCrsODWZCmhjqPnfoaGs4UnKAbpHbIcw8+Oq8M5o489Y4lDx/Cz+nzzHRAfxNw+En63KUkEUzBW74nRzMOT9I5ThmOrb0Jbd98jD14+Cl+DNXRy6AX7vIrU/ahx4lR6rHft3sRJgeB9TCPuX6SkFqnQai9piEyrw6Ubx1/DR+M7COCIYXoiSjoftsHuEefGNwEe4Emj9qfu6bDfT3VM3fE3k2L02vWumB/Ei9SMIaFLAciyF26mMC1tFUvl9M7yCbj6/BiFKQ5Q53f+obd6D4/qx/yJINZuIGGRAYjT8YHDjuAyoBKRQ1Xftc/P+Mh3iB26Z+70FNO//w1e0iM5qDRBPNXr6/ZT47wGmxfi7i5x/TS3L5I+TmTcgMLEQ44mekxhI86dvDltBdaRD+ZYqRTd8L/NLxNfnRnfaADZ+4xBhM/Pj8/0AH63qnr29rRE9EVn8z0hJThfltNGJxs3rQ/507an15oKNKdaB830Z/Q9KIRM227p4/moFFezRUM5jA/zB56+F0WZHodAQyCNM9Qp2MI08NDno+uzyuD8RuScNAYBFCJObyghivvwuVnnJsAbs9Qo4O2hjf4qsfZaI4GHJ+HlyhYu/imdXM/9mSUkTm9NPiEGRXIOTyWCxEy0KMGWhCycMMeKgtvB0Q/+WCu09s33oSppma1Ph6nyesD7mIwdhamzsfMpxJdMUivp7Ldb+/31D8MaMXl7Ko9v8sbVGnB4Ct0or/C6UXr6AIv6unDQK1BwRoGTRTM1VTvX1qyvo4g/CDNN9TpMDzk+XCXHDpw08WNGmyAdVig/TgHF8aAQACVEOohW7tqLwBwOHaGJr56nzTVfItPZ2H7wzfgrQ/X3Um0t2/gDSPkVTCPrn/XDuSunh0eAph+Q03GHUzK3bYWw1CPgFqI8FiQjR692Ct2162J5LoJ5g6in7xg6tSVsZqQ/gkGAIG2mXxx+45HD3fesedE3fj+oPdbdJWQ9Hoq2/32SFX9EwMFNrTikibV0/wuH7gfnGTvDD8GJ/o79DHosQIvTBfMzuo1u4d57GBZuFF+HUzXxcCqit+leUbN+jp0sIM0e6iTnM7Tpe0aQ9wqT+EgYTcMWUGTYd/wrfr74NrXAD6lMibhMD0dah8Q7AUG1jwpa66aOuyyDe2LlAdN2o2aE+UwAU+cO2tP6H1MyFaPNvRk7wRoH0TKXfSTB8l0Sr4UMpl9En3O20NzeAqa1tzEqF4g0VUcmetpxPQMJsxTQOUENjuL6mAM7uKEEJZp7BKhBQ0+0EY3KHib80z0R2YwnRUw4XfBuWpc8rgOHcwgTQ11RuAMeT5/bXCz9W7Waj0a1qB9ztCGMFowOvoqfQ41BmpCsRNA5YE7T0lNuFUT0GNXCXp4dP37auWoppfmcaIwPdLkZQzQLtIQZ1yAJvpJRS46VSuoHVQZ4av3hVgK0FOh91uMcqwRQs0qTmsSPjIZ0zO42cTABgMqGhrkBjZxULCEVdL2ojkT+rNedZnHdYTBC9LUTVP/HhxlEKwX2wrjgxrKhnV42zNR2Bmi8q5Yot4T6lXNYv4JDZXRu5loKMBdwaTmPsKNs77JyPQLBOet3pjgsEFcL82e9SZvymtwA8IgQ3Nt408RerSHo6lXnebG0GsDohH9pCOFTh/Sr3bQL0F4deysGkTccwcrqs97y3B9bh5Q5YjoKpwi9FQs1kpJ5AoGRk5HqjPU6F0pScdoorx37hUNO9LcrRYGTkNDgx7obf40ud7bUbupKcMhtBeNwMRWlbFc74R9GqZcUOdxh2gd8rqOMFhBWtwqrbBVnsJ48/wr6j1XNFEYGxBqRKZUUBT/ugTnp0mccwbzJnxBAL0wU6Wz0jovz/RNOHeGWJzVnU5a50WR3/NNmmX10nxqT2x2rotWTi2wr228yF+PztP98NwYe/O/XV30k540Ov259UsQ3mkrdoBt9bx4el2ev2bPP/OV4fqcR3eiq1CK0FORzFwA9yWwVbVikXqUCO9rL3RY7ytD6NcJ3NWOns19W/89e3K9kz9tsyFlRPaiKS7QsCbirO6kjYYpqTp0nneyv/UyW/pelefU1Rts5nEdUTCCNPVCPu+qziCaVZ7CAYDeEE8Thb1zS47P57qSiCYqr1m9MeqA4gmaf0a/MOCri/1Gbv/QGmeu0wR8/cJreF124OfglF2GVVKZMgI9hiP6yYSkOsXzrm2EyTb4jq0peIt+OcK7iGfI50RXkRSipwLBgGanB9YqSRf8n3qVYlc2Mjl5KZA/UmsAdDRlRPaiKWgemPULA4E65z1UaXIdURz67LPP9tX/LltbW/DsC0+pPUEQPt77ITw38U21J5QN0c/4ILoaLST/uaf+b7UnlIuhcIy/ulMQBEEQBEEoDgnSBEEQBEEQSogEaYIgCIIgCCXk0M2bN/cRcLZ/3bV/U+Hf/sk3rE9BEARBEA4OMietnOztDS+9PLS3t+ebqfa1t/8v6/Nv/91/sT6F7EGZw8RE2Mo2oYxs/OwaNmzn1Z5QNkQ/44PoarSI/MtJWFwgw52CIAiCIAglRII0QRAEQRCEEiJBmiAIgiAIQgmRIE0QBEEQBKGEsIO0zeYhOHRIt9WhubLp+xFRH5tNK437e1ZCMvqb0Kx75F5vmsuUq4uodFiPlWYd6l4boLpsahInqTOdY6Vvguf3cM3K9RKWH9LfXAnUD205Lr+0JJGJA/Nc9nXF5ddf8ct7aIuwpTC5W7YVzMfZPGnx/ET6zpICdGWhuVbvj0H7CPNNE11pyqtj/fQmksBH6Nqt9MM+d6AowD6C8tfqietTWTGC6x6yuyRtE5Yd6Wea77l+oU2nyc+63jj/CUKrO73b4f/vCWsL0mlYv1cQvjU6KqWHXme/VaPva/utnjom7D969Ej9x6TX2q/pZG4iV64uItP11Hf6zWcCierc2W+46Rq452BQro+w/JBOw5eHd6tpKrj+079Q/6UgjR6553Kvi5NfaBpnC6t3MrkP0prrOxP9eClCVwTKQ5dWa9NRvsnWVZRsA/ka+ohNhO4VmetqFBRgH71Q+fP1pNNBKvkX4Rccu2PbuyLWz/h+wdOLeRsWFhcYBmnDiuh1HGF5jcHrqPrzHmdMgzQnQK61Oqh6m16rZstW25p74eqCkw4Nr1FDA+u59aBjHU1dzOusjLrWwjLoXK898csdEJOf5UB2ng7kfMO2bJPFjSWNHnnn8q8rnU0NytHaSKjcEdXAhd/kCczDUN9Z3/jz1xXi3mjwWlEe4RJJ054GdaWRrRv8efUyOI/rI+45YbpXHIQgLX/7cHSOenPlH+IDLJ8akEb++V93ErvzErR3OsTxM65fcPWiyU+bbkBuQZpVGeWYg6/SNCoHH7MgzZFl0DgdY4wzWq4u0uhMnesanmmd/cdtW4u7LiJYrkNcfuo8n83ahJWd/sZiKhMv3HO515WmLoi6KZjLHTG8ofhR9R4qN+sbfxG6cuQT1RPs4OTpbAa+GaqrAM6NzE2nymT7CEP3ivEP0gqwjwg/GZKtoU8ll38B1+2kM2ibfWjsne9nGoJ+YaIXLer6NJUJiwtSLxzoby7DUherdmkRKuoYwAy01S8YYKSsjgmJ6O/CPfpsvIhS9VKByaP0eQ92I4e4ubpIqrM+bDZnYRVq0LqgamhUZzq/ijbUgE6vHUgfhaZcC05+M/Aiegp0l2DZNz+gD7tU8aF6Z0AaPbLPZV5XKpvqw8qVVfxMIvc0hOk7BwrRldJJrQXxl5PcN/W60tC7D9iMQ+1I1d7HMvk+krfuS0Yh9hFO9QjZQHy6zCnkutO0zTp7N/EzDUN+EU68XpK1YYZBWheWqp5JcLhVZ+9hUNiDdhIBCKmwjWJEuJNVq3AFWtDr7cDiIEoPJVhnatxnV9FoqXFnnB9XLje/mXYP6H63OlvFvGjxywqs1PFGQ3kWbMxp9Bg8N+11xdZFPZThU1kiuTt0l6h+qh2Jmoye0M7yIjNd9W/BBskRb1C3mvWBLFBn9aiFWCaE6ErH5k375jZ3cpCQa0vGPnyAycw+qkdQG+QnC/4J8P0+xQ1IF+73rCMubJ/KgcyuG0nchunsPaWfDflFAr2kbcMyeAVH1xJmPXQ5kpAvGqMomO7qElQXVgxuLHad+yt11bgnu/EGyzXO7yi6W60BDWoQlpYsB68dnVRfFk0aPQbOTX1dYXVxnlQb0PE0lmn1CF3VhsQsETO3s7zIUFd4TUurdBdx6OINYBaqqdtTva509PEmMotJGx2N/mJsKbXuDyQZ2EdlES5RjxLu+zpGqhQQk73UILJzh+lT2ZKhXxi3YTH2nsDPtH6RUi9J2jDDII2c0e52d7dexxJkd3XWv5xVKIgYZ82LmbaygR506LGni8bHNgC7zr37ZNTDvbPkGOhVMEv7wTwjyuXnhw5NT2b35qC304b2zo6bH9lxtT6KQCCNHp1zs7oufV36Kwt2Y9m64BtyMNKjqz9n60GvZbV6qMrl4dcFpLKzvMhCVza1Bj1Ze+RB7Sl9sXqF/1oDDWG6CkI3oioqqtYKjobwbCmRDx94srEP6lHqoG+g1buQvbTohuvF1KdyI4vrTtaGxdm7qZ+F+4WBXhxStmHpe9IqM9C2Q0u4V/gg+eON3UCOmgrMLK5Z3dOwejO2Qciuzmbl+lBd4LW5k5iLA+W3Y8/5seZDqMMFkEYmvnMzuK7wumzCMrWC2LRdyrTLpIIPpxdsPUaSQt8ZkpmuHI6grrzixPb0gnWRaXoleLqiXjDnRrQTTFcyHxkXsrUPkncbdtzgax922ifxRkvpjsJkqGq5PpUdmV13Irtj2LuBn0X6hUVyvSRpwzIY7hRypTJJw+kapaoJkZFGURQ98Pkos84z7YGRe7eOFfM3oEP7kUM1/nLZ+anJoN3kd0Fz0uiRey73uhLUpb9yBahzRPekml6PXAJ2lhdF6Eql627cwm+yJUpXNjSBGW9ES6idTsiNiGlLxem+RBRhH2G4866iJtDnRBHXnaBtjrR3Iz9j+EUYbL0kaMPSvoJj8J40/RJXjH615z3O5PWeNOeYbnkwwdVFaLpea79Ra+x3et4vem79vHXh1lmHfa5nKbNBuTqG8nOWQeNG77FxGNjy8LVn8doArkx0euSdy78ubl1swpbPRzMs9x7v3UEJ9J31ax3y11VIOu17JwfY+UT5cJyunFcexLUD5j7iZVj3A8b/FRx8HaexjyCDd4V5Zc/0KQ9p5J//dZvaXXzbpC13yM+4fjGMVi8J2rCM3pMWvtV8hQ4EPZTOVAIHENMgjRRuG0Fw8xuUzjH4umCkC60HbQEnYdZZh21rnvxMytUwlB/iNg6aTWejmdxY0ujR8FzdliQ/Qm9X8QzL3WkIdZun3AT6zvzGX4CuMvVNRbyuwvOyt0Ed2bakQedzDgchSCvEPrTpKCBT31swfcpDKvkXcN0mdhdv7wTHf/h+ob+OgF5Cr5U2vV/kFqTVMFocvHnXgd+oPI4YB2lED2XqdUaSe0CUeoPl6oKXjp5AGjW/E9UaLXxiUAm8MOqsQxtUmZQbIOyGYT0B+epnP5HqyOzGkliPCFOe7Oti5efYhb5hiSKNHk31ncuNvwBdUTrqCRmk0+nK0cHwpvfhKF2F52VvgRumgY94OfBBGpG3fQRu9GH2X7ivFOAXPLtzbJnRNsX6mZNX2BYepGWll7C44BAFZniyy9fe/r+sz7/9d//F+hSyB2UOExMTak8YBzZ+dg3mnjqv9oSyIfoZH0RXo0XkX07C4gJZOCAIgiAIglBCJEgTBEEQBEEoIRKkCYIgCIIglJBDN2/epLlp7vtt/nW3bX3xb//kG9anIAiCIAgHh2c//231n1B2Dn322We+hQPE1tYWPPvCU2pPEISP934Iz018U+0JZUP0Mz6IrkYLyV8WDpQPWTggCIIgCIIwRkiQJgiCIAiCUEIkSBMEQRAEQSghEqQJgiAIgiCUEHaQ9tH5SfjKF3TbPLx6fRseqXQWD7fh3fPzcMqT7tSJ1+Gjh+p7wRyU6asnPHJHeb5rKs+t1y19hZ33aGstUAbqdmtPfavQ6NaqSzAdwsrPqpMnjW9Dm1HJLJgyCJartT2D68iUvPWouS7u9Yf5KEueCEvfXmLs0QfJzco3YBNJyFsHRJIyIq4xa5tm6UqT31C5D9f85Q1tTP0eZIqwNwcTn0pKfxOa9UNw6JDa6k1Y6avvuGw28dy6/jzMf6VZh7qTv1PGpiZxkrrQOVb6JmyqQ1rC0mnqV8dyddWz0KRvRhbsJ4OetLvw3sWzMHV+W+3vwbvNs3D5xl24rY4Qtz9Zh4VnxGETQQ3hM2fhvU/UPoHyvGwiT2pwl9fVjgZ07qm5NwNloG7npuHUdafx1uvWqgume3VL7ROs/AxgyuCRptxh2zO4jizJXY9c3+P7KE+eiKm+4+zRB97kSG5qLxVF+FKiMsKvMXObZumKbyNCBEXYm4ORTyWkvwL16iysdtU+0V2FpWpIwKWDgpYrq2onSB9WFmZhCQvwFmGVMVv1BzeJ6oKBF52j9sIJS6evXxfLndWVi8Eo1XHoegwwDNKehst3duEXvx1s2xuvwTH66sbW4OnvyafhpY0t2HbS3XkHLh+nL+7CD36U4Ab9mPPR229aDeWxq++4Mt2++jQeuQuX33aC4zDU0zk2FJe9DYUPbJAt57b1NtDtvKXb2xffCdftb7dgzaoLwHsdT6DOzU9x7Oog3WB7A55X3/NksA3tObvcy265Tv0CsmJdR7bkr0eE63usdFx5muibeR0umPcJvMkdfw0un1GHUlCEDszLiLrGrG06ha/rbOTwAnzgfO/btlTax5tCfN7Yp5KzubxkBRu1Vgd66t2qvVYNj3RhaTmue0j1TFHQEhWxHK1Bo9Nz89/f70HHKgNg9eagDPO6YIBVx8Cr1oJWQx3SEpMuWL9eB+zqdWHjlidKoyBydhWPYvqW93r2oT2j0jBI3ZP2xPTX4FvkjMcrcNg6MgEvX1uHt6Yn4AlrHzk8BS+37WDu9q4EaWZsw4c36HMeXjk35cr0iXPfsxtBb3CcmD3okXMfn4Um6s3hiek34BXfTUOjWzz2/LnvwEtqz4abHxemDLa2rJ6IY1e/By+75VL91mGNynVlxb2OLClCj1zfY6ZjyzNrfTtQ8DKNN555WPtwQbUvaShCB6ZlxFxj5jadwtdN2vEtDOionDPfgZfTK25MKcLeimQTblpdSw24tDgDFesYQGVxzQ5SVm/6hwUTUYHF9g4GMRU3fzo2s3gJS/ViWhcKvKoYHDags7MIk+roMHHpNPWrzMDiWgtDMQzT7vfsY4gTRDY6mH7Rez1mpA7SHilnfOnCgqdx0NDv208Uk4OGQWDw8CH8nD7PTLu9SjYTcPhJ+tylJBFMwVu+JzgdU3CCGuhP3oS2b17KHjz8FD+GyvayBx+dp2EafNJ/ZUodS5OfhtQywPvLJF17VDrddWRIIXoMget7Bj7ql6eJvrnXQfpQwcudQY9qKorQgVEZ6a4xmU2n9E2WjQx663LxpXGhCHuzSNE2mNDfhXv02XgR/B1BFZg8Sp/3YDdyyHMG2qonye7x4tKHzSYNPdagdUGVbFQXOl8FXr12IL0XbjoNvft2r96Rqr2Pee1SBWstcKqcFMMg7S5cfmZyMAESt6m5XatL/K1plSSEjzq2037rGxKkZYXdSGfD89fs4Qmal0ITT1+9vmY/4cNrsH1N09Bu0QRVsoFpeJvS3Fn3PTGb5nf7IqVTdhU34dyDTwaVihqy+a5/vsdDvAHt0j93oRdsRGKuowiy1KMOru8NpTOQp7H9xEDBy8INvMlT8FKAPvLWAREsg3WNOdh0Gl2xbEl60WIpwt6KpHrEJOhiYi0uoIn2VbgCLej1dmCR0R0VrAsFXrOrGOBR4BVxPjedjk2rW68GcyfVif1bsEFRGwaMt5p1d8EALZaor2xiCMcnm4UDNOHUXTgwDE18XbgBGMwVfwM8+Gga6aQ8iQ3H8Xl4iRrwi29aDe2xJ+MVdvvGmzDVXPOv8CUS5me+wEDJ4PCCGrIJPEw8QzfDu3j8aahGOF/odRRChnr0wPU9bTpTeSbVd4BH1+cxfwpeim4v8tGBH7sM9jXmZdMJdMWzJacXbR7WEgTnjxdF2FuRdMEz2pcp3dUlqC6sGAQ3dl36K3UVeEUHeNx0OvoYTM5ijEbDmkPnYr1p0cCALnSXZqFqsLwz9cIBmkxKjn77xlntqjh7ZdI60MTwuN42IQnRjTQPNS/m01nY/vANeOvDddStPemY9Dp1QtPIT7+hbEBNTv4EbwbeFb7c/Nx8nG0Ltq/OW1/pFhjoGciAegnW8HzqfXA4doYmZGMddUReR5FkoUc/XN+LSseTZwL7ieDhLgUfw732FCAArMMC7eeio+x1MIxdhsk1ZmvTyXTFtqXr37UDvqtnjYdvHz+KsLciqYE72pcFM2010V4tHOhioMYObuy69O5TgNSFparTk2VvFFRhBAWztI95ctMFoQCtiolqrZ52MUCtQT2AgwUDtMjAmlu3eoW9GjZ9T9rhKXjrgn1T/Xnf3/NBT4uOY39wToY5s8Zu6DPg4U/gB9SwnvpaYNLxuj3HwZq/og4PQekCE2FT5vfEubN2fgyGZUDlvOFbcfbBta8BfErpJuFwaA+A5joKIjM9euD6Xnw6hjxT6bsc5KGDIMnLyNCmE+iK345vQ/si1Ykmykt7H0UR9lYkdpCTF7RwgL84Id+6DKDeNydA2wnrfjtykmYsDKjMwAXrQvi9jhkMd+qgCavo2Bepa1wCtFRgC/xV+hwKHNRE38hGmomaDJx85a1aMeaQOr8AaWXgzpGJmRQdvI4sKUKPFlzfS+GjQXlmrO/nrw2CEe9mrWakYTTaTzKUVoQOmGWkvsakNm2kKzMbeXT9+2olqvSiWRRhb0VSmaQpVppASU2Sx28nc+sZ7IEv9mLWZabt6cXybB2rO6sBHdpvz7DT2dACAwzQlmiIMyRAU/Xrbtwymn+mI3WQRm+uPoVPWcRXK+TEdnc6ddvTfAtawi2kQa3GgnV42/PLDs6wgreRpideGjIxflns9LS9TN8ash6cS7o9bz0Zq275h/SWcnrjuDd/ZwUZ4tSFmx/ZCt4EKM1giAXzG7o2vgyC0DCNbZ9PD1aaca8jUwrQI9v3kvuoVp5sfY+aInSQ3Fa5pLJpE980shHpRRumCHsrkhl40R6rgyueye/9lQX7vWeelZbUy0TDhXX2G24V/RVoWm/v957nrO5E3DL4dckW+xUdNAxK89foVRx6VP26S7Dgrd/mCizYFYQXmRU89Nlnn+2r/122trbg2ReeUns29LNQ9nwJPcfOvAMfWE9+9GI91TBoYUyWFfxYb622X4roxy9La1gCG0r/sES4PrzpnHN1uOlC60HQ0//gNQKs/NSNwGqwhgjYCVMG+nT0Uk660ahdg+tw+Hjvh/DcxDfVXkJy1yPX9wx8lCNPhKdvgmePOuw2KKV+ctcBwixDh/YaOToILZNI4psGNoLo5aUnE18aF4qwN0OfIvnPPXVe7RliveXffv+XH/+ke2soEIMR/1AgvcxW9xZ/PNtJF5o/QT1anldjMOuiY7NJ880C+WkYThd+DTbeshnX62Fvbw8mJoZ9J3VP2rHj89absO0ATcgFequ3WqDhQnKPafBNeILmpNBbx31l2G8cd50c63Ft4zWsx9P2voImMQff88TKDybg6xfC8gtcW0IZOHn5JjsbXEemFKDHvNHKE+HpuwQUoYOcy0hr09nrSnrRQjkAPu+jsgg7NPnd+5aLWiPRqkgtmP9ap4X5+1+jQRPwh95dlnddUjMDbfo1Am8F8bpCh0hDYPekCcLjzGP19D+GiH7GB9HVaEnVkybkRm49aYIgCIIgCEL2SJAmCIIgCIJQQiRIEwRBEARBKCGHHjx4sE/vAyGcd4PgMfh99ZfWMUEQBEEQDg7Pfv7b6j+h7IQuHDh9+rTaE7ImbIKgUF42fnZNJtuWGNHP+CC6Gi0i/3IiCwcEQRAEQRDGCAnSBEEQBEEQSogEaYIgCIIgCCVEgjRBEARBEIQSwg7S6Des6AdTh7c6ND0/IGrR34SVZh3q3nT1JqxsGv7YqjAAZdqsB+RpKs7NpqWv2PM46TQ6bm463634dT+0qby56RxMZRBzHfRjt9786tYP+6ov8yKNHpnnBq/rUB19NOzCovSoYMnJkvUgjX/D9CqZS1y5pvmZkEYHDlxfIqg8Xb2zlJmhL7Ft31RWJnIpmqL0HqWnIFH5afLJxPfSkrccOddteu8guHqJS6f53pKBxoEyucfQ6s7g9v7779NrOXx0GkCrQMO3Rkel7O23aprv1eYme4x59OiR+o9Jr7Vf08gSoLbf6qk0cfQ6Si8x53DSdRra+gxMIKy+zqby5qYjTGUQcx09vIbhvMLTr//0L9R/KUijR+65odcF+7VgIXF6RNhyiigXoLHvc3tGuUb5IWz9pNGBA9eXLDr7DbeMYTkM18PZDGVm4EtsnWbscw6Z+JIpRemdY9sOkflF3UcD6fPyFR25y5F53Qb2bsHVS2w6fnxjeo8JiwsMg7ThzHsdR1iOMeBFNGpY2R7+59Db77RqdgW11vp4YRqkOQFyrdVxZdpjy9N7k6BNbyDsdK5zoI4xgTarUBwDD6uDw3A6vgw41+Gkwe/QTm2ibTSLG0saPfLOHciN/M+BGgu/jyIsPRrISTVIQ4FgEK79cPNTcPVTjC85KH3UWtgmUnp9kJaZzLQEfYmv02x9bsAogrRC9M7WEyc/1FvwPuoGNwGbyclXdOQvR4Pr1hK0dzrE1AsrnaZ++N+w//D9zCG3IM2qtGqIQi/eQlU6VpEHH7MgzVF28InIMcbhJyU/HMcgeOkcJ02kRtWYxNrAUDoTGTCuI6JRs69vWKbpbyxp9Mg9V6XT+GLwulh6NJET80bBth9mfg48/aTRAcGwLRd/nlq7ylpmOlQZri+xdWoiKxO5jCJIK0bvfD2ZycuHE0h4C8nFV3QUI0ctuuvWEbR3hKuXVH7mXJtzMtvPBoTFBakXDvQ3l2Gpi0VeWoSKOjZMHzabs7AKNWhdmFHHBBb9XbhHn40XwS+5Ckwepc97sBs5xj0DbfVLEvjEo47p4KTrwy5VptYCczX2YeXKKn7G2YAmnZEMuNerp3qEzomTaQLS6JF97gy8iC0FdJdg2T+Bw9abe34aPdokk1P6clNRmC9Re1fFdrEBnV47UJYpRficjU+nBfpc7hSidxM9pZBX7z7g7RZqR6r2fpEU5j8aWNets3euXtL5mUl8Y9p2GgZpXViqeibL4VadvYfBYw/aurq5ExqrcAVa0OvtwGJ4JCcYYiu7QPq3YIM8BR3yVrPusYM61IOLR4KoYB6j+Wgb4KZTJJJB9Qi6E8UyC/7Jpf0+tQVIF+73rCOFkEaPwXNn2j2g9m91tmrppbmyAit1DBjI/xwn5eoxgZy6S1Suyi+4YCGB/UTmlyFZ+hIFaLOr2GBTgMaw4axl5qLzpQxsv/B2J0cyu5Y0ejJg86YdhMydHDasonxFR942EXXdLjp75+olif6i4psM7zEZvIKja90Q6qHLV2y6q0tQXVjJzFgFh2IDCgvU5dIqWbRDF41xFqqhNuA84TSgo43mHbjpghjKoLIIl6jHCc/zPXRU6eZK11WD4h9U0+gxcO5RbB5qDWjgx+oS6govqXZ0Un3pIU6PaeXUVW1DcJmVsf0owvLLjPS+1F+pqwAt4QNpZjIL8aXMbH8E7U5uZHgtSW2bQR+DgllUaaPDsK3cfUVHPjbBu+6YewdXLwn1NxTfZHiPMQzSqPGxuyvdrdexbgbd1Vn/MlVipq3S9aBDj/ddvJAMjFXwUnxAUWvQU0PABuiL1SvDy56R/sqCHSi0LgS6yf1w0w1jLgPqceq0GnjmALquFhnzSEijR+dcbKio1+zeHPR22tDe2XF9j/yzWvc/JHH0yJaT6+vO1oMenkd0l5Z9rwFg2Y9BftmR3pd696kBHh5xoJsMXiDM0r7TBmYtMw9RvpSN7Rff7uRHdtdiqicuFKhU0YhqLc2o1Uh8RUf2NhF53R7i7h1cvRjpLya+yeoek74nrTIDbTtkhHuhg6wVmFlcs4ZhYPVmgUZzsLFvCCPgyEmoeJ9o0AYuWMrVPUltwjJ5D5r6pcjHP246P8llQDbZhh3HGXHbaZ9EI6b8jsIkvwqpSaNH37mqy742h/pRh+zr3LHngFhz1dRhgqXHpHKq4MPkBdvngxjZj0NEfhkwMl/ykZXM4nwpne2XQ1bZkPm1JLLtaKh31glUdlhtY76+oiMPm+BfN+PewdVLwrZJH99kc4/JYLiTSw8OkG8XR2WShsk1wa2a6FhkQKHq0t245euRiaK/cgWoEyG+Fy0iXVEycOc0BCfGZkCaa+CeqybXduPuBgn06COpnNKWm5YC7GimPWiQvVvHeo5tQIf2TYbyE8iM63M+gjotQFaFUcS15GLbNCEdA5UlVEuHG6DlSGE2YXbdnHtHrF5S648Z3yRpO9O+gmPwnjS1dLXX2m/UGvudnjdhz13eilJXxx5f8npPmnNMt+yXsL+PX/YclU5bl6F35TmELdkOEp+OKwMv3OslBu8S06fP4rUBafTIO3ewxJ3e4+Mw0M/g2sz0OEAvpx773Yi8cvn5OXD1k0YHXuzvebZF2OV65Zq1zBy4PjcgzPa5svLCkUvxr+AoRu9merIJz895rUWcjeXnKzrylyP3uh0S3js0emGlSxHfxN1jMnpPWvhWcyrnvhBOt4UL8nHCNEgLl6lf2XrHGNy4g1u+6cLqMwwrHVMG7Ppp86PGTn0fIJMbSxo9Gp6r2/zyzVJOTsOq25LoxyQ/G7Z+0ujAwPaD2O2nt/3LWmY2yX1JY/tMWZnKZRRBWjF6zzJdeBp7c+qdo6/oyF2O3Ou2Ydl7lnoJvX7aAvEN188UuQVpNYwqB2/UtaHos1Gzheema7Qw+lQJHnOMgzSihwbkdUaSe0CexTQwCL0BGp/e3DSoa2/PjY2TX1xgzk2HMGTAvo6AA8XZZ2Y3lsR6RFjXT8nwic2XTqcfhKNHppyMfJ5RrmkbYqSfxDpg2paG4SAte5mxfcnE9lk2ZyaXkQRpRBF6N9LT8DbILzyNvQ2ClVx9RUeucuRf9yAt794RrxeEkY4tb8N7TFhccIiCMszAx9bWFpw+fVrtCVmzt7cHExMTak8YBzZ+dg3mnjqv9oSyIfoZH0RXo0XkX07C4oICFw4IgiAIgiAIXCRIEwRBEARBKCESpAmCIAiCIJSQQw8ePKC5adYOfdKGx+D31V9axwRBEARBODg8+/lvq/+EshO6cODZF55Se4IgfLz3Q3hu4ptqTygbop/xQXQ1Wkj+snCgfMjCAUEQBEEQhDFCgjRBEARBEIQSIkGaIAiCIAhCCZEgTRAEQRAEoYSwg7SPzk/CV76g2+bh1evb8Eil0/JwG1610r4OH6lDgiEkwxMeuZ94Hd59qL7jsvW6pS/tedZ3nvx9m19vj7bWfHU5hXX5SJcnt84m14Zp3z0/D6ectLi9uqW+IzTfh9bPIUouWZNGj8xzufoJpvvKCfTlrT31rYYoOWnkbtUvLL84PTpw05mQVAeaumhly0n3cM0vq6Etyk9jbJUjsyQyoHOs9Hgt6pADu00YB5LIJkhaPZnYh0HbnQn9TWjWD8GhQ2qrN2Glr77jstnEc+vR52E5K8061J1ycGtuqu8Izfd1rMumJs/+5oqvztp0Vp0GafwbplfJLJgyCJZ7qF7HazATVgY9aXfhvYtnYer8ttoPggb/zFl4T+0JCSCHJRl+ovaJT9bh8jMxjYAXahCW19VOch5hgzA196avLrexLgvBunDrbHJtWDalvXzjLtxWh/zswbvN4e+19XPISC4s0uiReS5bP5p08An68tw0nLquCawi5aSXu1U/zG8oQIjVo4KbzoTEOuDaVgIb5MKxVY7MEskgvB1n29w4kMZHHbLSUxnpr0C9OgurXbVPdFdhqRoTcHmh4OrKqtoJAQMmKmcJC/IWNaAPKwvD33exLrOBuvQxr+rskq/OunRsuDLQlIsFw+psFeoGBRsGaU/D5Tu78IvfDrbtjdfgGH11Y0sTsWODdQIN/vhrcPmMOiQY89Hbb1qOfOzqO7DtyP3q03jkLlx+Oyw4dlBPv9QgeBueEI5d3fLp197egOetb7ehPUeND9rBhpNuC9Y0deHWmX1t1Hhi2bex7Jewjk5a2t6aVmmIJ/F7rJv7/Z134PJx+uIu/OBH3uDDTC5ZkEaPvHO5+kG/tG4itqzsdJjfxrzly7cvvuPxZaacgnJ3ywV4r5NAj9x0hqTyJa5tcdIdXoAPnO9925ZK64WpA6bMzGUQ1Y7z24RxIJV9ZKknI/uwiW67s2FzeckKimqtDvTUe1V7rRoe6cLSsq+vScMmNKk3iYIvb+AShIKg2VXMsQaNVs8th7b2jEpDHMXvO57vex2wqoJnbtxygqBNWMa8sMbQwrR2Pj3oRNS5hmU65Q22NjhF82SAQaQViNp1dPLpdRp4BFMuLft75iJI3ZP2xPTX4FtkNMcrcNg+pCDHnkZjnYe1DxcC3wl8tuHDG/Q5D6+cm4InrGMo93Pfs51VGxznxNaW9SR97Or34OVp530uE/D8uXVYo8bbrQu3zvxrcxrPlzbW4a1zE25aPxPw8jX8Huvmfn94Cl5u2w8St3dDht4KIY0emeey9bMHPbqJHJ+FppsO85t+A15J9DClkbtV7nfgJbXnwNMjP50ZaXTAta2UNriFAR3p5sx34GXDRpMnM1MZxLTjbJsbB9LYB59Utp3CPtKzCTetDrAGXFqcgYp1DKCyuGYHR6s32YFHFE4Q1OjsQHux4pbjpwKLbfx+xvN9ZQYW11p2EHS/Zx/bvAlWqNRag0VMa1OBmcUdwHgpQZ25MujBfSuSm4MLbrlUxTZconINSB2kPVJG89KFBY+x7cFH55Vj38k2kn/sePgQfk6fZ6YDcpyAw0/S5y4liWAK3lJPVfYTYT4cnqS8VV24dWZf2x48/BQ/8Em+maQXpd+3GsVjk94XBRYjFxf2tWpIc67Cpx+89hN0A/3kTWj75owpOfvKSSonagNoeOxpuPzKlHuMp8eU+g4jAzkOobUtDax0gx7OgcwIjg6YMjOSQbp23G9zY0Bq+8hQT1rC7KMg+rtwjz4bL7q9SjYVmDxKn/dgN3IUbwbavp4nHX3YpUJqLQxu7CNG9O7bvVxHqvZ+BNUjVIe4Ogdgy2AGXqRgrLsEy745aOr6hs4PxzBIuwuXn5n0TUycmtvFJ4KtQTctQo69cAMNiRxbutByw24Es+X2xemBfoMTySsVNRz2Xf/8jIfY8OzSP3ehF2Pw3Dr70j38CfyAnh6xofzx+XmP/c3DqbhFK8hHHbth+9Y3Ym6kIyKNHn3nGujn+Wv2sAnNQSM5vnp9ze4xgddg+1qKG8CWM4l5Gt6mvO6sD574uXpMqe8kJNUB17ZY6dL0kmQgs6AMWO14Bm3COJDGR32k0VOMfUS23TljBzwZ0L8FGxRlYcBzq1kfTLg/VIf6yiaGONFsWt1cNZg7qXqvqkfU8OKCf74YPjRhPId0wel0c+guVRNN9A/KYKbds3rXaA4a1b+5sgIr9SosQQt6vnHbaLJZOECTjdXCgUfX55VjexpnIUdybASDE8kPL6jhsECw/gw15nfx+NNQHfTsRsCtcyDdjTetibYD7mLDFLVoxZ7UvHDDHlootz2m0aM611Q/T+KN5/g8vETB2kWULd4Ajj2ZnZBuo76mmmvDNx6uHhPoOx1mOuDaFi+d00syD2tpguTUMrNlwG7HM2sTxoE0PhrAWE+G9hG1CCg3hgOexKwuWYsCBnQxeJqFqm95px9aIEDTz2iYdNGxucqiGl7swlLVCfhwq1YxrdXnBpGdbsYT/QMyOIpRWq0BDQrWlvCasMja0Un1JY/UCwdoUiw18rdvnLVWcT3cJcMb7nGjRgpgHRZoP7dG9nEko0Zw+g2/Xn+7BdtX562vvBPJqQdmDY/T07PDsTM0odjkSZNbZ386Kmfba39ke/TFje9rV17Zq87WrQm1aSabF0MaPQ7O5elHzTP6dBa2P3wD3vpw3dI3TfYmP546oQmsuLh2pCaPf4KBWsDfuXo01Xd6+Drg2hY73fXv2kHy1bPGw4pe0svMloFJO55NmzAOpPFRP6Z6irQPZtudPzEBjwG1Rgt6PWfSPm69Dlix1uoV7YpMewXnqjXpP9hJRT1anZY9Yd+B8m9R5ORlpj0oz9p60MPzCP5Ef0cGfbvX7N4c9Hba0N7ZsfKjBQvdVQw26yuxvYIO6XvSDk/BWxdsg/h5v8ioXbAb0ryYgCfOnbUnzPqgScFv+FYefXDtawCfUl0m4XBMRwy3ztp0k1+DJ7z5o+01rbkfw0+41BPg3Bw/OFfOYU6HNHocPpehHzXkcuwUytM6h7Ane1tzaay5aupwYii/kAnXXD0a6DstJjrg2hbfBrehfZHKpwnrKW01hcyS22G6NmEcSOOjWoz0ZGofYW13fvSsWfIZcuQkjaQPqMzABWse23BvXX+l7gZoO24XmhdaKNCGHU8AttM+CXDPHledDA28K1BZvKBWjMbjk4Eatq3N4XWoQ3Y9duz5eNZcNXU4hgyGO/08f23gqN7NWulDXbW0n6Y7/3EDW7iv0qdm1ZU1AbUMjaA7V0JNuOXW2TDd7Q9+wujhocnOeHO8SMNLJQrQuNeqI825RFA/ahJ7/qtd1SpSB64euelMSStHtm2Z2eCj699XKyRT9KIZyjZOBqnb8aDNjQOp7YMBV08eMrGPLKhM0lQxzwpGBzUZPjLgYaLK6G7cYvQ09WGziQHaEg1xhgVoIWwu268BMZjAb8GVgVrA4K4yTUHqII3eNE3vfCG+WinJDfFAoVbiwTq87ZlY6nR/extBenKnIQnzeQh71puvaaLpoOHAG42mjCA0nGPr/2nPiiNunQ3TffImnPemQ9s7r54wT1hDSfYwHg3J0Fwaeg1CeUijR/65QbT6mZ5WQys0RWFgKwN5Gg7rPKS3zdMb5r12R4GKevmpsR656UxJowOubZnaYFa9aIayTWBLXPRtwjiQxj64mNp2nH0kb7vNUSsWYRWueCbx91cWhgIe6t2iuV8mL221GayKXPCWsbkCC3Yh8KJViD2cSHPQWj37VRxcaGiU3sNGQ5Mtdwkp5ocBHy0SGNQYg8Cha2PKYOZFNTw761t4MLgO/tDwoc8++2xf/e+ytbUFz77wlNqzoZ+Fsucj6Dl25h34IOLJyj6fnsDklRzG0MsPn7HfrePHP7HXGl5Bh/YPr9ALFtXNMsAgnX1jsZx6CH8Z+rrQyzvphqR2CWad2elY1xGexsabJye/AR/v/RCem/im2ktIGj2mkuewfpwydBjbT2jdiKDPc+Wek34S64BrW9x09p7eZ4NkLDOuLWnQtuNMm3PIxJfyIrF9EBnrCYm3D4O2W0Hyn3vqvNozxHrbvv0eMz8Y8GCw5HRmWUOQGIz4hyDpZbaz1nvLgpinC09j46mPts70klkK7tSuCvqs+GkI/7WZykCHbmh2b28PJiaGdZy6J+3Y8XnrTdNRAZqQEnr7NE0s9c4xILnHNKh8JuDrF17D/GlOxACa3LoWU4aTZqgx5taZfW1T8Bam801GxvqWakgzjjR6THhumH6eoPln9AsDvvwSyhPrdm0jzH6CD2VcPeak7zQ6yJwM56JZMGWWswxC24RxoBD74No2xz6St92JqCzCDk3i98/C9wcxqZmBNv16gLeQmv3mfqMhzRBo0UAH6+tfYFCBk5daeF3+CWhOWl+xTBlUaP4Z/cKAL535dbB70gThcabUT/+C6GeMEF2NllQ9aUJu5NaTJgiCIAiCIGSPBGmCIAiCIAglRII0QRAEQRCEEnLowYMH+/RyN8J50Rseg99Xf2kdEwRBEATh4PDs57+t/hPKTujCgdOnT6s9IWvCJggK5WXjZ9dksm2JEf2MD6Kr0SLyLyeycEAQBEEQBGGMkCBNEARBEAShhEiQJgiCIAiCUEIkSBMEQRAEQSgh5kFafxOadfvHU52tjvtNz4+N+thsYpo6GP/OquDHkvtA5ofqTb5MOedaevKk8W1N+xf/6TfLtN87W4ieTWyA6mrlpcp0wOP0A7je8ut4HZ7frnWhH7H1X6/9w7laNPk2fQWPiLz17cC4fpY8NflY5TLSafXIzS8JJvIJI8qmOb6kCMqWKwttulGV66BJXwpfcshb7wSnDI2chmzbpK010HsmpJEj89xY+8z7XhSTjnuP4aaLhFZ3Brf333+fXssxRK9Vo5Wg4Vujo1Iqep39Vo2+q+23euqYsP/o0SP1H5Nea7+mkzdHrtxzOw1NGmdr7FuaDc3L2TT1MbKBzn7DzUuVadFTeeg2/nXUghXAtLrrCZoxsf7Tv1D/FUAR+iY418+SZ5R+vPlx9cjNbwBbP2lk6xBn0xxfQnqh6biyCJQ/qnIJzLOUvuRQhN5ZZTBtOzQvZ/PkydS7Qyr5p5Ej81yWfZrIx4F7L0rh3757DDedIiwu4AdpboG1/Uarg6bmodfb77TQSV0L895s7XMihfKYYRqkdRqOYgdydwNmXSvogX2u0q/OeOJxGh6vnk1tQOVRa+23rDoHgrQG2l2n517DwJG8dR7Ug9I6kNPbDu3J03VysmdPviEUeWMpRN+s6+fKU6Mf/K8zVK6BHln5DeDqJ41s2TbN8iUnL8zDlW0amSGjKrfEvuRQhN55ZZjbth88X/mkWwfDtjuN/PNvm7j2GYZGPly/ZaUb5E86dNC2iax0A1IGaU6B+iejYbhCeTwxC9IcWQaV6uhkWNkDDM41dHQf6ly/A5nYgL8+tjNHXZfCuTkEHRwDvWBRwTydBoNnz0XeWIrRN+/6+fLUo86PE/KQHsMIz4+nnzSyJZzznS3Epjm+FJGGJVudzEZUbnl9yaEIvWdURpwQdW0tR+8ekss/zTUyz01rnzr5uGU7W9i9iJNOpYltE7npBoTFBbw5af1bsNHFz0YH2jP2oWhmoK1+vQAjZXVMSER/F+7RZ+NFlKqXCkwepc97sBs2xJ3mXDZ9WLmyip81aF3wlsK1gT5sNquw1G1Ap9cO1DOG3n0gs6wdqdr7ePaL6BnQXYJl/wQG2CVBuHJQ+7UW+KpcBgrRN/f6ufLUQXqdhdUhu9AwpEcdBvmFkdofimnXqkco75i6sGRmRrJyS+xLDkXoPVUZXNsOa2sLopC2KZx4+0x7L+Kk47aJadpOP7wgLYcGQUiPbbTJCDu3u1Q1m+S4uYwBFn42LsFixT5kAgVos6voVBSgGZ6/edN2yLmTgxNn2j0g/1qdpevA+q+swEodg0BoQc95wnAeOrBxuNX0LoKpQz1sAUwJyEzfBtfPkqcXdxJzFa5Qmt5OrF3o9OiSIL8kpJFtGJG+VD2CV0xpFvyTk/t9am6RLtzvWUe0RMms0HLH1Jcc8tB7kNAyTG07pq01brszJLO2KY19prwXceG2icZtZwhGqzuPTuZ45UJCohvVaGLO7XYtA6uHLoVxnlwa0DEwOof+Sl0FaOY33j42cLNYdKOjOfcoekatAQ1ykKUly3FrRyfVlx5W8btV8mqHLjYOs1At1ZK0IBnqm3v9XHkG6GL+1YWVyBt1pB4DcPJLRxrZxhD0pcoiXKInbSxzqeoENrhV6aGFdFKDsGdiE5kVVu5Y+pJDjnp3iS4j3rYN29rYtjsPMmibEttnunuRMdw2MWHb6cUoSLsX1x8pjIDwRjUez7kzbaubd7D1oNeyvAUb22XtMu7+yoJtdK0L7K5bL7375HQBZ8SNbgRo0jBL+5pGnm4WVUxUa/UCw+/oqPSkcm8OejttaO/sWNfRwceZ7ireMOr+RrDWoKdXzzX3OujiyOqV+CXaIyMjfSPx128mTwvXjux0aDyhN+pwPXowyC89aWTrgelL9KTdweN4VS6kkxa16CFEymxU5SLj6UsOGek9Ek0ZJr4S1dYy9Z4/2bRNiewz5b2ID7dNTNB2hsAL0pwuyPwfNwQD7CAnGfHnVvCh5oLVXatnE5bJK7ApvmTaDZYC6n1zbhY7wXLV0Ett7iTW3qECM4s79hwDa36AOkwcwXTeLCozcMG64CKerM3JXN9x128qTx+Ubs22n9WbQzeKSD1qic4vLWlkG0+YL9E1tWHHc4PdaZ/Ep2Gqy1EIDlwkkVlh5Y6ZLznkq3cbTlsbbdumbW1c25092bZNZvZZ6L2I2yamajv98IK0ykmYswxoFsai9/ogUZmk6R4a51UTELVGq0hzbgz9lStAHV5pnlxm2gMn9G4d6yGwAR3adx/baXIt3iyW8JtOyM1CzZ2MfZhQculu3GI/zRRGEfrmXj9XnqH0YLjtZugxFF1+BuToD5nhzqvxTixOIzMmScstsy85FKH31GWE23YWbW0mpLnGtPLR2qdNofLhtomp204PvFdwIM7SVqB34Qzec0L0ht6TNgCjxpClrI8veb0nzTmGT7zqCPfcnuG7e8KWU+sxtYHhJcrOMu24PAZLqOlaHHqdwXucnPO1cnHTDV9Xka8NyF/f3OtnyrPX2m/U8BxsBwag/agyfHbG0SM7vwFc/aSRrRf7e911mPrSgME7lLz5cm1/VOVybWlA8a/gKELvzDKMbTuurTXXexr5p5Ej99wgevt0yOdeFJ6Oe4/h34scUr4nzaaDxmAJNGxzBT2oYHALM/7HCdMgDS1GKTa4+RWtcwzeuU6DrNuGjUlbzhDJbcB2Zq/Thedlb4M6uk6v2fzlmtWv0BtL7vomeNfPkmdombQl0CM7vwFs/aSRLUtmBr6krQvdcNX3FlzbH1W5BM+WHEYRpOWvd4RTRmga2oZtW18fL2ZtN5FK/mnkyDxXny5onzbx8iG49slL55Sp25Kkc8gkSCN6PbyQmr/wGj4Z0NuBB8WaOe3jhnGQRlhy98iSZB4QZajBcs7FCH9Ir40WPvGpBC6ObuOeXJLbQJogjbCevHzXaz9pDkFvUPc+eISlQwq/seSsbwvm9XPkybMfvh759mhjpJ/Esg2vvzcdu+6Bm1G0v4VtCWSWcbkWZfYlh5z1bsEpI+O2Nldf0ZFYjgjjXJ59Ejz58PXHTUeXwbvHsO9FSFhccIiCMjzZx9bWFpw+fVrtCVmzt7cHExMTak8YBzZ+dg3mnjqv9oSyIfoZH0RXo0XkX07C4gKjV3AIgiAIgiAIxSBBmiAIgiAIQgmRIE0QBEEQBKGEHHrw4AHNTbN26JM2PAa/r/7SOiYIgiAIwsHh2c9/W/0nlJ3QhQPPvvCU2hME4eO9H8JzE99Ue0LZEP2MD6Kr0ULyl4UD5UMWDgiCIAiCIIwREqQJgiAIgiCUEAnSBEEQBEEQSogEaYIgCIIgCCXEPEh7uA2vnpiHr3xh0t1O4f6r17fhkUpCad49Pw+nfGleh48equ8Fcyy5D+T5FZTnu1x5cs7V6MxKt7WnEoRAeVvpUb/qEDxc8+cztM37yn+0tRaoH9pTsFxTm9Kkf3VLfRdk63X83l+n3ODoIo64+pqWEZMfSz8OcXLXfJ/YzpKSVAeauofZYKzMDH3EIk62lh69eXi3CLmFyVZTnlZXBnIZKXSdOevduIwo3+OWm1TvSelvQrN+CA4dUlu9CSt99R2XzSaeW9efZ33nyd+3NWFTJXPB+qw061D3pGt6E2m+t+q8OVx4f3MlcG11zMuTrr/iz2do01xTXP1iMArSHl3H4OyZs/DeJ3fVEZvbuP/exbMwdX4b9/bg3eZZuHzjLty2v7a4/ck6LDxT0I3woEENuiV3tU+gPC9z5Mk6V68zK93cdHhwA9ggUd5qLxHYwEzNvRmoH9oTlnvqunMzMLQpzJOueeh6dFBDuLyudnImjR4d4uprWkZcfiz9KGLlPkI7c0isAwMbNJEZFxObNiJMtlxdGfrmqChC75n6XknlSkFKdRZWu2qf6K7CUjUk4NJBQcuVVbWTEgzoqD5LWCFvlQb0YWVB8z3VebbqD5Ywr+rsUuDaurCK6erGUagitn7x8IM0anguUnD2NLx09R3Y/u0u/MLZ7mzB2tV5OGanBHgS02xsDdLceQcuH6cv7sIPfpSwkXqM+ejtNy1HPeaR+/bVp/HIXbj8NgXG4bDPDerst6RTSgfwXkdXBjYiJ7BBOv4aXD6jDjkcXoAP3Hy825ayAwfMw2qk7LKddNsbti3dvvjO4CmQa1PUUM6t4zWTnXqvZxfemlZpLPDmRE+adOPzNqo5kkaP3Pryy+DkZ6AfrtyztLMEpNIBywaZMmP7CMK2aZtjmMafJ21vwPPq+wExsuXqiuubIyR/vWfte4ihXPl6T87m8pIVbNRaHeip96r2WjU80oWl5bjuoU1oUk8SBS2MiKXW6rnvbh1sbZhR31sB4+wqllyDBqZ16kNb202EHMXvO97ve9Cx6gywetOpMwZzVuBop3Xy6XUaeASvbmnZ7sGrLMKOm49364HKcgC3fjEwgzSn4QE0mnV469wUPGHtKQ5PwPPn3oAPrk3hzgS8fA3TTE8M0hyegpfbr9mN1G45nHZ82IYPb9DnPLzikfsT575nO+yNrYjubO65Gp3hsefPfQdeUnt+qHGfxgZmHtY+XIDD6mgsW9jIUKN05jvwsnXSHvRo//gsNLFshyem34BXfDcNvk05DaVtp97rGTVp9Mgl6zK4+uHKvSA7CyWNfLg2yJeZliEfycum42TL1RXfN0dHEXrP2vfKKNdNuGl1gDXg0uIMVKxjFLes2QHK6s3hocgccQLGRmcH2osVtz5+KrDYxu9nvN9XYGbxEl6Flx7ct6LPObiAaR0qM2245E+oZ3PZDjwblwCrog5x6hcPL0h7+BP4gdVwvINGYx8ypt+3nzImh1/WJkTw8CH8nD7PTAeeiCbg8JP0uUtJ9KQ5Fxvxj87jUzY+vV9+hYJvBzquGvc7Jk9pTqDvzW8KTtCN65M3oe2b57IHDz/Fj6F6BxiyKXXe8dfwBmkfCWcK3lJPm/bTbs6k0gXBqK9RGZzr5+rHRO5BsrazCFLrQMOQDaaxaZ2PpJFtGMl9WK8rDWVq74vQu1EZKdqeUcq1vwv36LPx4qA3y6ICk0fp8x7sRo4KzkBb9STZvW9p6MMuVabWwqDKPsKnD5vNWViFGrTck2fgRQrGukuw7JurpsoZumYvg164QX5p6ueHF6RlYBgfdezG51vfKIHTHhAOTyYPLkLP3XImoU7D2/AabN9Zd5/oCWrcF25gI02Nu0nXhqaHgHj+mj28Q/N1aALtq9fX7Cd8KtvqmQ1nyKachwlsFH983ru4ZR5OeRe2lIw0euSStAyWfpLIPS87S0hS+ejatcQ2rfORBLK9fZHKVek0izyMZRujKx3j0t5nqfcwsvTvqHLj9J4n1SNpg65hukvVwYT8oQn8t2CDuqkwOLzVrA/SHapDfWUTQyQN7oKEKlyBFvR6O26vFzHTtocsaQ4a5dNcWYGVehWWKG3U+KSmFy1R/UIwWjjw1Uoyh3uETr5ww+6uj3NuwZS70DPRuI/oc2/feBOmmmvujYAWjtiNu6kenR4CfHLX3aSexEbs+Dy8RDe2i29aN6pjT0YXEGlTWG+acDvgLjZgzsKWspJGj1wSlsHVT0K5Z2dnaTGTT6QNGtt0jI8ktenAgoW0sg3qSsf4tfcZ6j2U9P5tVG7ahSqJ6ML9nvo3a8Im8K8uWZPyB3QxuJuFaszyyS6eV11YGQ6WjmKUVmtAg4K1Jcwbs64dnVRf6nB60RrQ0QVyCevnxShI+3nfXOFkWFNz69akxsRDpUIET0M16WC37tzpN6xueHeS8CfYKKsbwcNduknchcvPqKc1tVHDAbAOC7SvuWk8uv5d+yZ19WxgKEDNi/l0FrY/fAPe+nDdLff2DbwBndDfDOJs6tgZetq3hxOs7c479jyaG98vz2qzIdLokYtpGWb6MZJ7DnaWHr58wm0woU2H+ogNS7auTJ1tC7avzltfOQsWEsk2QldBxrO9z0LvcaTz78hyGXovhhocqap/0zDTdifY21sPei17Ypg7gV9Ra1CPmCdtr2PPNVu9Mrza1M1XLRzoYqDmBksYbFGv2b056O20ob2z46brrmJQVdcEdEh/ZcEO5FoXtMOhRvULgRekVSqJJivSU5tjWB+cK3e39zhiN7jJiD+XJglnMal9G9rWqmCaUBuwATWUc+zU1waTY61y1+25Gta8HnVYwbKpSczP+6R5eAqalF8GT7N5kEaPXBKVYaqfRHLPys7SYSKfSBtMYNORPuKQULZPnDtryzYTonU1ju19ZnqPIK1/m5ebtd7j6Vmz7vOiApXFC8OrJ4kjJyk8GVCZgQtWwqhePVo4EFjsoIYna3OYH+1bULode/6cNVdNHXbZhGV7nBMuecdNvSSqnx9ekHb4a/AtyzHPRrzLyAtNMEXDukhds+PjsKXk8GH4Kn0ONYpqQjFMUhI9ac61UCvVFM9f8z6tDbY1a9XaPKzRfmCo5tH171vvYNL2EKi5jrzgn2FT6npvf/CTyOGYkZBaFwyyLoOrn9RyT29nLFLLh2GDRjZtE+kjqWXrJ71s/bqyKXl7X4TeU5eho2RyrUzSFKtBYOOiJsnjt5MpeguNUHXpbtzS9nDFo1ZzOvTuY9iE+RmM1/ZXroC1XEDXi5a6fgOYw50T8PIFu/v0vTmaCOufsProIRrT9dfhlNUFbnf3U/c5zXugJcRCGtRqMViHtz1yd4ZHvKuJ6ImLhi4G8xCY5z6kt6PTm6y9NxZqIGglFxK5Ii2KmB6C6Wk1ZEPB/6Bselv7efVOPnuIgGtTg5V1573X6+Y3D5jNiEijRy78Mliw9cOUe252xiWNDpg2yJaZQ1wvGtemsX54Q6cynTSWbJPqnq2rcWjvC9B71r7HLjdjvUeiVkBiaHLFM/ndGfLzroDsr9iT5c1fAtu33s5PiwQGZ/Zhc6iMwWrMBW9dNldgQfVuvUgJ+/QLAk3YxIenAc7qTsTJb+ZFNQw561ugMMgvOJQb14vGrB+DQ5999tm++t9la2sLnn3hKbU3gKL6Bd/k1QBn3sGnMIBXv6AcWcsoJgSPOfQyy2fsdyX58cvS6hbHhtvXLc45NzQNQU/X0cv0PzpPc1qG02nrE8BJo2NwHr38kWtT4Wn99eCms/l474fw3MQ31V5C0uiRW19mGdz8ePohGPnlZGcEWz+JdRB+fTaD8/kyC9N1EI6u7Ju6dWMeIqj7YYZky9YVXy4OmfiSKQXoPVvf45ZrrneS/9xT59WeIdYvDtjv//JTg5ZntSQFaVUMRuiFtDtuEEMvs1XBUYBBOjU3bLgAxF8GK7/Q+hIN6HhejuvUWYf/OsKuLwjnegfs7e3BxMRwG2C0cOD5a+uwTRNWj9NciAHHjs/D5Y2t2FcmCAmht5Nbclf7BMlc44BDcM7FNNc2XhvW65nXUryjijHPBnmC5urQ29h99bPftB1+04piCt7C6718xnMtqfLLkDR65JJxGXz9MOSei50ZUoAO+DLj+QjPpifg6xfCZJvg2sqgqywZQ9/jkbHe46A37tPkd+/8sFojEDyloQInL7Uwf28BVEQLOkNlzEAb69LyVgbPo18McAMgrO9aJyw/z68XIBWaf0a/MOC7tkB+Foy5aBaM+jEw6kkThMeVkTz9C2xEP+OD6Gq0pOpJE3Ijk540QRAEQRAEoRgkSBMEQRAEQSghEqQJgiAIgiCUkEMPHjzYpzfhEs5bcfEY/L76S+uYIAiCIAgHh2c//231n1B2QhcOnD59Wu0JWRM2QVAoLxs/uyaTbUuM6Gd8EF2NFpF/OZGFA4IgCIIgCGOEBGmCIAiCIAglRII0QRAEQRCEEiJBmiAIgiAIQgkxD9L6m9Cs2z+e6mx13G96fkSU0tCPpNY9aQ7Vm7Di+eFSwRBL7gF5mopzs4nn1uPPi0vHqYuVhyeNb2vCpkrGTofQj9N6y61bP5yrvvRiKiuuXLIgjR5NzsW0QR9s+oU59H2oPB2ysh+HmHRBfR+idiaLNiSNDhyi6m5958nft/lt2iULWYxTuaOgAN8zttko+XN9tGj55+0/hGkZcfl5obw5sglLp9GLVb+gYjTpYttYHbS6M7i9//779FqOIXqtGq0EDd8aHUq136ppvlObleQx59GjR+o/Jr3Wfk0jS4Dafqun0sTR6yi9xJwTl45bl05Dk8bZGvuuGTDT9ULTBco1lRVTLus//Qv1XwrS6NHkXJSVLu3A96J8NJ2cMksXYRc1zQls/RThS1zbd8hKFmNSbia+ZEoRvseVl0Ok/A18tEj5F+E/pmXE5eejs99w89P4hEtYOm58Y97GhsUF/CDNNYTafqPVwSp46PX2Oy28MThBWgPTdHqeNPS9CvAkSjMO0joNW7k1j9zdgDlWnl5joy3MkHnp2HVR9qJtnLyw0jl1wzqhXdnobYovK65cbLK4saTRI/tct4EjP/X6oBeNj7oNXVAX2doPL53TwNl1dKBA3b625DeeQnyJa/tZy6L05dqMIkjL3/dMbJYpf66PFij/IvyHXwbTH12UjmotlC2lH25HbKLSafSC/w3fiwz0p0gZpKlKY+axeghFCTR5BgcGsyDNMcSgQTk6CTM0B64hc9IZ1IXbcHDSRaSxHdop10RWXLnYpL+xmNQtCP9cp4FL5GZOgJeoIcwynUqDjWTwK7++B/D0w5ejHuY1sm+aGcui9OXaFB+kOdebRO/ccw3k5ebpbGG+okHno4XJP40cCc51m5RhIkf/+WHtCD9dEFWXuIZX28bahMUFvDlp/Vuw0cXPRgfaM/YhM/qw2ZyFVahB60KiDB5f+rtwjz4bL4JfchWYPEqf92A3cox7BtrqlyTwaUQd08FIl7ou2VM9QnVV5RrVjyuXjEgjO/a5fdilhLUWJHKz3n0gN68dqdr7FhnajwUn3Qy8iC0edJdg2TeBQ13fkByYFOZLXEYlixHqYBQU4nsm8kphR1ofLYgi/MeoDK4cKf6owlK3AZ1eO5CvF266IAbxTQL98YK0pIbhTmiswhVoQa+3A4sV9Z2QGjtAKQdhdekuVd1Jk1GTaCPTVY+g+VOaBf/E0H6fTBPpwv2edSSUMskqSJq6+c51HqawMbvV9C7uqUPdu7AnhM2bq/i3BnMnR++kM+0eULu7Okt2gfawsgIrdWxAqR1J9qQYSR72wbX9OExlMe7lFklmvocUYbNRPjpK+efhP0GSlkGB1+wqBlAUeEU0bdx0LgnimyRtrNHqzqOT/IyDdFeXoLqwEnujEEyJD1CKI6Yu3a7VgNXjluAE01UW4RI9pWL+S1XVCNFWJaeyHh+A9/xQJlkFSVO3wLnoa0uWXBy62IDPQtW3vNNPHxucWWw/Gp0SPUgdxUa51oAG3fiW8JrwkmpHJ9WXeZCjfXBtP4ykshjXcgslQ9/L0WaNfHQk8s/Rf1zMyuiv1FXgFS0zbrowOPFN0jbWKEi7F92XOcxM2+qK3N/vQYceMbp4IRE3CiEJ3AClCDx1cXXvbD3otaxIC81gebCkmZmOnlI7eBytyKXWaEGLWkM2ZZJVkDR1859Lcun1PDLtdcCS6OoV7RJ1ajyq2HrUWr2E0xmypm/3QNybg95OG9o7O5ZdUBvSXcVgs57Xw15G9sG1fRYGsjgQ5Y6CLHwvX5uN9NHSyD8j/4nErIzefXpYDTzc40bBEjaIMEv7GJNw0/lw5W7rGYUdGt+kaWN5QZoz3JQ4TK7AzOKa1RUMqzfHwGnHA9uwykF8XSpQWbxg20AkYenIhtqw42mMdton8cmByj0KcZ28ZZJVkDR105575CRUvPKozMAFS6DDT6H0BOk0Hjtl6UJTw7a1ObwOdcjW/w7efPA6rHk/6nBG5GsfXNvXkEoWY1huwWTmeznarLmPFi//fP3HpogykkF6Do9v0raxvCCtchLmrArMQvKOsB6UVsZlpjJJU4w0ylcTUhkBSmaUqS7E5rI1nOBOMi1b/bykqRv3XJWuu3ELv4mDJrti47FE3e8lCtAINQc2+UNhCGW2jzDykkUcoyo3D4rwvVzkVTIfLcJ/Mi5jpj14qPduHaujsQEd2m/PsNOFo4tvMtIf7xUciFrmi88KQ+9J63nfk9Zr7Tdqjf0OHhuA31tLWRlLVB8D8npPmnMMI3Z1xI/9ffxy76h0vLr0kr9LRptumMH7h/z15MrKC0cuWbw2II0euedq03Wcd6c5S8mdZebxtuCFIycifbrB0nqyDYfBdQyfw9VPGh14Ca97MptOL4vxKbf4V3Ck0zvvXHObJcLlz/XRYuWfv//wy/ASlZ8Ou4z4V2sMpWPHN1z9DUj5njSbDhqDVZGwjSrovAdEu8UL5XHANEgLl6nfAPSOMWg8gluidKy6OAaq25KkQ7TlUuOkvndgyoovF5tMbixp9JjpdYWnsTdvnhnbDzOd2yhrNn9+Nmz9pNEBq+4GNp2pLMahXJtRBGmp9G54rm7z5ceSf3gae3PKLlj+ufsPkmlbpydNkKavG23e/Lj6G5DuPWmKmfYO9GgScg2r6aFWa0Cr07OXGVcWYa3TGk7TaBm+e0RwQZnuWHJX+wTJfBSvNGHVpQInL4XZQJJ0wzhphnqgyySrIGnqxj53BtqYDp+u1T6C8sUn7XINacZQobk82EL6TCOL68jdPpLbdBg8WRyccnOhAN/LzWYjKVj+ufsPUkQZScG6FR3fHKKeM/W/y9bWFpw+fVrtCVmzt7cHExMTak8YBzZ+dg3mnjqv9oSyIfoZH0RXo0XkX07C4gKjnjRBEARBEAShGCRIEwRBEARBKCESpAmCIAiCIJSQQw8ePKAFBNYOfdKGx+D31V9axwRBEARBODg8+/lvq/+EshO6cODZF55Se4IgfLz3Q3hu4ptqTygbop/xQXQ1Wkj+snCgfMjCAUEQBEEQhDFCgjRBEARBEIQSIkGaIAiCIAhCCZEgTRAEQRAEoYSYB2kPt+HVE/PwlS9Mutsp3H/1+jY8UkmGoHOstK/DR+qQYIgl94HMv3LidXj3ofouDua5j7bWAulQr1t76lsPcfk9XINTznfabT687mG2svV6IA/v5kmL5797ft5fPtVPdx1ewsrNGqYutJicq5HDq1vqO0VQ36cwv4+C+XHl7hBXbgo9auuXJ2l05WBdb4S9E1nJLAjVX5dGU57WR5LogHO9ZSdPvZu0jVz5J7WPpPQ3oVk/BIcOqa3ehJW++o7LZhPPrevPw/xXmnWoO/njVscyNoNpuekIkzpr8m1uqu8c4vLrr/jOH95Crl2DUZD26DoGZ8+chfc+uauO2NzG/fcunoWp89vqiBc0eDpH7QkJIMe25K72iU/W4fIzjMaQey46+tTcm4F0qNe5aTh13dN4p6lLLGltZQ/ebZ6Fyzfuwm11xILqh9cRDFIGFGSjReiRQF1S2iE5eHik0fdtzG8hjR4Z5fLQ6zF1/UzIws7pJru8rnZCyExmQcJsmusjCXTAud6yU5TeYymBD+ig4KM6C6tdtU90V2Gpyg86rCDoyqraCdKHlYVZWMICfEVgGbO+MrjpEJM6Y/BIaYP5+shCBgbwgzRq1C9ScPY0vHT1Hdj+7S78wtnubMHa1Xk4Zqf0gIZ2Ag3++Gtw+Yw6JBjz0dtvWo56zCP37atP45G7cPltXWA8gHcu6slqVFC3G1uuXrc3bJ3evviO+zTGyu/wAnygvvNvW3D5uJ1kGJ6tHLs6qN9gewOeV9/Dk/Y1DOyTbJPqB/BeRyer4mw0fz0idJOZW8e05KdeOezCW9MqDd7A25iG9H3Z1bcjJ31dYuXOKneAsR7vvKNs5y784EcxvaIZkEZXVoBEvRgUfHlv9kGylplLjE1zfYStA+b1jgG5692kbTT0Ab59JGdzeckKXmqtDvTUe1V7Lfqx8S4sLQe7m4JsQpN6kSgICo2AkKP2j9I7+e/3OmAVgWVs3PJEQcx07DpT8DW7ikcx35YnX9zanl9OZ+VHPxLvOX+w9VQd+TCDNOcmDmg06/DWuSl4wtpTHJ6A58+9AR9cm1IHCGooptFY52HtwwU4rI4KpmzDhzfocx5e8cj9iXPfsx32xlZEdzb33D3oUaNyfBaa04P3tDwx/Qa84mvk09QF2cJGhso58x142WcQWdnKBLx8De0Tr2Fgn2Sb34GX1J6fIm20CD0ObjK2n3rl4GFry+phOXb1e/Cyq2+S0zqskb7j9KiBVS4bjR4PT8HL7dfsh4bdvIO0lHbOJFuZOcTZNNdHRq2DUVCM3rUMtY1llP8m3LQ6wBpwaXEGKtYxikfW7MBj9SamSEsFFts7GBRV3PyhMgOLay0MnTAMut+zj7HT8evsBF+NDua76MnXR0oZbC7bAWrjEmARLHhB2sOfwA8sA3oHjcY+FM0efHReNRR3so3kHzsePoSf0+eZ6YAcJ+Dwk/S5S0n0sM+dghN0c/7kTWj75qXswcNP8cM5P01d6Oaheusuv+IP5vO1Fcr/LAYlRZcbII3s2OcqfR1/DYNt2jfn8CT1GkTpUUf6cln0+3Yvx+TwCx8zJY2uLKbgLdWTYffC6MhDZkltOsxHNGh1wLneMaAQvesIaxs1FOUDOvq7cI8+Gy+Cp2MJqcDkUfq8B7uRw30z0FY9SnbPkwG9+3bv1ZGqvR9GMB27zn3YpYS1FlzwJ/STSgZ9Ncxbg1ZkIX54QZqhYVBDsXADDY4ainy7Jx5r7BtqMoLnPn/N7m6nOWg0efXV62v2Ezm8Btu+HlI9sXUJ6UUztZXbF6l+alJs2MIGYsuZTDsNb9M13FlPVW6eZKZH52EKbyg/Pu9d3DMPp7wLeyoVNYz9Xf/clocYOOzSP3ehF2hoIuXOLdcDW48ePurYN7JvfWMENyhFGl35yEFmxjYd4yM6yqCDUZCZ3nWEjjAMEyX/JD6VFdUjhkGXIZtW91UN5k5Gdz9x0xG+OvdvwQZFdxho3WrWfRP86yubGF7FEyuDBL1ohNHCga9W4h2TFhfYDUW8wwtZMHxD5RM490lsiI7Pw0sUrF1802o4jj1posSwujhPiviE7wn4UtuKbmGDhts33oSp5pp74yunjWaoR7xemnA84C424J6FPYcX1DD2Xbj8jGrUaXuGbvL2vNNqVCMSJve4csNg6JEWOizcsIcGR6+zNLoKkJHM0tp00Ed0lEsHoyBDvbvo20YdRvJnto3Z0gV3lDFD+ptNmMXYi4Yho4Ibbjo/gTqvLlmLBgZ0obs0C9Wh5Z1hhMnA6UVrQMc7wY2BUZD28368wh/uUoMTaPxxI+MCWIcF2o9rgAQDYm6okTjnqnksn87C9odvwFsfroMzmfj2DbxhnIhuvAfo6/Lo+nftgO/qWd8wgpGtTL9hDSMMti3YvjpvfeVd2ODipleToj/Bm5DKq5w2moUebY6doV4Rj6zuvGPPN7rxfbfnjHpOg4t96LzLZwI9BgZy55RrrEfEXom6bk2M5k23yJs0uvKTlcwS2XSEjwQpnw5GQXZ6dwhrG4NEyj+BT+VDDeJGI02hwKuKkVet1fNN3g/CTTeMv861Rgt6Pc9E/14Hwypk9Qpz5aZeBv2VBasXrda6EBgmjYcXpDnDIwdysuj4YjfMyfCdq4Zejp36WmAy8To6u914t0NfX2ETXpdtaFurgmkybpZDJBPwxLmz9oTeSOg6Cpj4m4LM9OgwiXr0PmkfnoKmNUfG2xNAcnnDt9Lsg2tfA/iU8puEw6FP6hFyZ5UbJFqP1EPk3Jw+yNR+kpFGV1pykJk50T5SNh2Mgsz1bsFrG83ln7V9xNO77+19yob+St0NvHYiusa46YJo63zkJIU7AyozcMGaPxffSxgug01Ytsc54ZLJOKeCF6Qd/hp8y3LgsxD+rimb5695I/rBZq0aQ2Nco33GHCdBgXfLr9LnUOOpJh5H3VC556o5h7FBeIK6PLr+fbWScPhJsThbUatXFSOx0QSyc+Geq9Ld/uAnzJ7PAO7cmODE6RjSlquFJrPjzekiDe8UHBxw5Z2GjGWW3qb9PmIzQh2MgiL07iGqbbQpmfwrkzRlS7OCUU26x28nM+lp7MNmEwOvJRq6jAq8GOm4dVbpuhu38JsIEsigv3IFrJlyCXrRCOZw5wS8fMHuPn1vbn7o1wUePURjuv46nCp8iOhxQK28hHV42yN3p5vce0OlJy4a4hjMQ2CeOz2thlgoCB8EavRG+vPq3Xh2Nz+/LjZZ9aLtWW/eproN7I5sLlDuQ3qDPr2R2xtsUkNHK9cQ0+AjUwrQo5PukzfhvDedq8d5OBEyVEXDKfTOLtL1YIUZU+7scrn52cPvNFRHc6zoNQTFkkZXXLKWGRO2j4xaB6OgCL07xLWNXPlnbB+RzMCL9tgfXPFMpneG8rwrHql3iybe143f7tqHlXrVmlvW6tmv2NDDTcets0rXXYIFb7rNFVhQvWAvWgn5MrBJ14tGHPrss8/21f8uW1tb8OwLT6m9ARTV2xOLQzjzTujT2kfnaX4EPdGZLA0XLOill8/Y71Ty458obHWLo+P7usUNz9WRJD9CWx8Gw7ZiN1hWozOEp9zQuhHxthdlox/v/RCem/im2ktIAXqkxv/VL6gbboD4/OjlmXRDULtcuVtwyuXmF56XTbDsjPTjJY2uuDrIVGZ6hmya7SMmOuBer03musqSQvTOaRu58je3D5L/3FPn1Z4h1tv27feJ+alZwZITh1hDkBic+Icg6WW2s1avUpBBuvA0Nk453HT4L7POvPoh7PzC5KBnb28PJiaGbcFo4cDz19Zhmya2Hqc5EwOOHZ+33lzOeVWDkAB6S7Uld7VPkMxjGmgL5rlP0Pwz+oUBXzr7jde+RoRdlyznok3A1y+8Nmx3Z16DNW+5WLdrG2HpogO0QihAj9Qb8Bam8y0A0OkxgCNL/6RkptwtOOWa5Ddi0uiKzQhkVnYfGTWF6H0EbWNW0Jv0aTK9920TtcZQcFIq2HWegTb9aoE3Yc3+VQNfgMXOL30vGmHUkyYIjyulfvoXRD9jhOhqtKTqSRNyI5OeNEEQBEEQBKEYJEgTBEEQBEEoIRKkCYIgCIIglJBDDx482Kc36xLOW3bxGPy++kvrmCAIgiAIB4dnP/9t9Z9QdkIXDpw+fVrtCVkTNkFQKC8bP7smk21LjOhnfBBdjRaRfzmRhQOCIAiCIAhjhARpgiAIgiAIJUSCNEEQBEEQhBIiQZogCIIgCEIJYQdpm81D1g+m+rZ6HerNFdjU/YZqfxNWmvi9J3293tSnFeJBeTbrXtk3gf3btXHn0m+ROd9pt7qdnpvOwbTOm83hPDzQj93686tDM8ygNPbX3FTfEZrvrfrlbaBp9OgQJaek10X1stKjj6pDQ8ToxyJO7l6i8rO+G+Th3yLqyCGpDjTXFtqmMcvI1KaDUB2sdMl1Gqxf2PUaXcfjRlJ78zIqX9GR9/UECbNjjT+wYoyw/LhyzDpdHLS6M7i9//779FoOH50G0CrQ0K3W6qmURG+/VdOnA6jt+5I+hjx69Ej9x6TX2q8llSXn3NA0zqbSctMRpnXudZTNhHzfaQTyGWx+20Mwra7sRkd9H2mf3nQD1n/6F+q/FKTRo0OknMyvy6az33DTNXBPQ5x+iFi5e0ihb10d2fpJrAODNo1bRqY2HSS9Tnuh9UtxHUgmvjQu5O7zSF6+oqOI6/ERZsdJY4wIv+DKMet0irC4wDBI82fc6/XweM0t2HcTxOONTg//U7iK0Tvu44RpkOYEyLVWx5Vnr6XkHt5KW6Q519Ijy5mG0/HL9TqNP48Bg/zJphzoJmI3GB67dBsRTIsZ6autsU/8rxMhlyxuLOl0wZST4XVZ55Bsay08l/INNh6cchGW3AlmfqqB47YVXP0k14FGtiFtGq+MrG3aSxY6ddLgd279dLZkcB2KxylIy9/nkZx8RUch1+MSZcd8fxwQ4xdcOWadTpFLkOaiKkMXH1kdp7GJVebBxixIcww7KHuncQzRiUWacxFHr3H6GkpnUi7HcVUajX0F7dJpRJKZmCpHc3L6G0tKXbjnO1tcA+cl7Lr8Zet9nFcuX+7M6zBs4Hj6SasDDUNtGrcMlS5zm85IpxHy9+fJvw6HxydIS2tvDD0RufiKjoKux4JjxxpCYwxGflw5Zp1OERYXZLNwYKYNeNEA3Q24FTUe3LsPXfyoHana+0I8/V24R5+NF2HGOuBQgcmj9HkPdsNknuZc6MPKlVX8rEHrgv9sP5p0RuXOQFv90gU+kaljQWbgRcu+lmDZN+GgD7tUkFuO2q+1ILLKWvqw2ZyF1djrTUgqXRAcOekIuy46XoWlbgM6vXagTl445ZrIPel1ZEBqHWgItmnsMvKw6Sx1Gk71CJ1jeh2PISPz+Zwo7Hq4dqxBG2OkyK8EZLa603bcLtzv2fs6Nm/aN/O5kxX7gJAKW+bJiD13cxmNGj8bl2AxSl3cdIqkdZ5p94D8enW2CjThtLmyAit1dDxoQa+t3K5/CzaoLthg3GrWPZM061Bf2URX1eBO7qzCFcqrt8O6jixJo8dQYq6LGq3ZVQzcqNFKe71J5M6ku0T6VvnlOBk9qQ5M2rRgGVnbdKY6rR7BqyL5L/gnd/f7dB9EBm096zoEH3n4fFG+oiPL60ljxzp/NM2PK8es04WRWZBWsUNpuBcSSvfxpjGL8mt0ir8JHmyiA+Nows51esfwySOykeWmC5KwzkexIag1oEE3hKUlKzisHZ1UX3pYxe9W6c7m0EVHmYVq5FI4TIXnVRdWUgUVyUmjx2iC19VfqatGK2NfTCh3Nt2uFQjUjZeScTHTQbI2LVBGRjaduU4ri3CJesiwnKWqusHQVqUbHtWjBr7OCu51CB7y8/n8fUVH+utJY8c6f0ztF1w5Zp3OQ2ZBWt/q20ZfnRyWBAmvitKrtXogD1ZZE2gsjdCf219ZsBvZ1oXIrmFuumFM64zBID2Z35uD3k4b2js7sL/fgw4+vndX8UZV9wdWtQb1HNnd6tbW62AYiaxeGV7yPdNW6ez88M6XXVBhRBo9aoi4rt59uskGbr64UQOHQoJZ2k8gAyO5x+HW39l60GtZueGlLPOXrxvB10HyNs0pI1ubzkOn1EPWQZmj9bhQPVoUibmYXYfgJSOfH4mv6Eh/PUntOMwfjfLjyjHrdDFkFqTZwhhWEkWyjvB2MnnEExxsmScj/NxNWKbIC28BlyL1xU3nJ1Gd1ZBPbe4kDEqqwMziDhq9HYAsey3+CKbzVqkyAxcoXeSTHuW3Zg3bwOpNtgNlQRo9xlPgdSWSO5cKVBYv2NeRAyY6SNqm+cooxKbTQvVpw47nRrPTPglwj67jKFjP46bXIVjk7fN5+oqOfK8nmvxiDK4cs07nJ5sgTXUzoqfCYCiYJuuh8Jao+1ECtMRUJmk6iuYGqybmOo2ljgTn9leu4PMFqjKmdywyXZo661CTQbtxdyNVbnfjVsKn9x7k1tZkLRMj/Nc10/Y+3Q02a/EPBt0d2jfpHkot94JIrQNGm8YtI2ObzlynYbhzUNXkce51PI6M1OdzoIDrMbPjeH8szC/yJM0rOCLfk2Ytd41aYvv4ktd70pxj+EShjvDPtQlbYh0kPp1ZuTb29zqbGSzd9r+LafD+KOccbbluOlXfXmu/UcP/0X4HkC3b5+rql8VrA9Lo0UuonBJclxc7XbhOw/XDlHuA8Pyw/cjpPXbJdcBv03hlZGzTIaTRaZDBu8+86fnX4fD4vIKDawuDY8Y+T3aZk6/oyP969AzbcboYQ5sfS45ZpxuQ0XvSwjasjE9SA8fVb8kEe1AwDdLQolWDFy1HrWMwzyXiHMuBlY5dbritePN3ytRt/now8gutG236G1omN5Y0eszpurwMN1wETz/ZpnMaYN2mbzvY+kmsg/B625vnfMMydFsy2Q6TSqfa66Abj/pewb8Om8cpSDO1BXO95+grOnK/Hj3Ddmzgjxq0QRpLjlmnG5DPe9JqNWsiaae3A20ZzsyPyiLs0ERh9A6XWoO3YoV9bsZz0dLUWUOF5rigZ6HJDcAdfFIJdHPPQBvLxacYtY8E02Hd1jotrJs3M6oe2XLbcBGEARnLZIhRXZcFQ+5sKnDyUth1pJRV3jogmGVkatMF4Lb1AUPiX8djSO72lqOv6CjCf0YCV45Zp4vnEPWcqf9dtra24PTp02pPyJq9vT2YmJhQe8I4sPGzazD31Hm1J5QN0c/4ILoaLSL/chIWF2S2ulMQBEEQBEHIDgnSBEEQBEEQSogEaYIgCIIgCCXk0IMHD2gBgbVDn7ThMfh99ZfWMUEQBEEQDg7Pfv7b6j+h7IQuHHj2hafUniAIH+/9EJ6b+KbaE8qG6Gd8EF2NFpK/LBwoH7JwQBAEQRAEYYyQIE0QBEEQBKGESJAmCIIgCIJQQiRIEwRBEARBKCHsIO2j85PwlS8EthPzcOr8Gnz0UCXy8nAb3j2P3/vSvw7vbu2pBIIRKM9XTwRkqZN7FFuv47nz+vM0+jqFZQzplpsOebS15qszNx3Z1atRdmJ4HUN293DN//3QFpJ3FqTRY9y5aa6L8rbSoI7UIQtL1sF8nM2TliN3HWHlavILsx9j4uTIIcoGvcSkY9k+Vwdeiiw3T12VmSLtiAjzlST2kYb+JjTrh+DQIbXVm7DSV99x2WziufX486LSWd956uHbmrCpklF9V5p1qHu+r2OdN4N5cvND+psrARnUoRnM0CC/KNL1pH1yF27feBMWnkGnvO518D14t3kWLt/A79URi0/W4fLcNDYGal/gQTffZ87Ce5+ofYJk+QzTuQlqSJfX1U4Qvb5uYxkLvjK46egm8DpMzb3pq7MuHTUwwXRkV++hnfhtSpHgOkpjd2n0mIUNhIKNP+Wt9sxJKvewcvl2ZkzuvuQhLp2p7XMptNwcdVVmirQji7Q+mhH9FahXZ2GVfr7ZobsKS1VGwOVAQdOVVbUTATddJH1YWZiFJaywr8pY51mTOnvB4Ks6uxSQQRdWZ6tQT5RhNIZB2jys/XYXfqG27TtbsHbmaeub2xcDjfGTT8NLG1uw7abHtFfttO91tq1PgcdHb79pNYDHrr7jynPbkuVduPx2nCzV0xc6+GVvgxIkqK8778Dl4/TFXfjBjzwNNyvdNrTnqPF5Gi5jWr/+vXXGBt5qpOw87XR4bRvzcAyP3r74jucpMOF16Ozu8AJ84H7v3bbUteRDGj2yzk10XaiDE9j4H38NLp9RhzQcuzrQz2B7A55X35v7e0y5XHs0pBBfYqUzsX2bWB2MqtycdFVmirEjh4x8NAM2l5esYKfW6kBPvVe116IfEe/C0nJc39AmNKkXCYO8JW+AMwQ3nU2t1XPf8TrY2jCjvoej9o/9O/Xd73XAqjLWeePWcFAVnR8GfVbgaOfpfN/rNPAI5ri0PNRDFlu/GFL1pD1xeAKev7YOv0AHJ95bXoNH1n8T8DIef2t6Ap6w9glMe+478JLaE7hsw4c36HMeXjk35crziXPfsxvCG1sZdGdr9HV4Cl5uv2Y33LtOQ8tMt7VlPfEdu/o9eBnT2pD+1zGox3/dOu9Bjxqp47PQdNPhtU2/Aa9ENEbhpLS7Lby5UH3OfAdePmwfyo40ekxpA6HXRY3/NH6HD18fLkDySzaVe1y5XHs0pQhf4pK17XMpwOcy0VWZKdKOsvLRLNiEm1bHVgMuLc5AxToGUFlcs4Oe1ZvsIbziqMBiewfaMxW3vlCZgcW1lh1U3e/Zx9j04L4Vpc7BBczToTLThksNtZMx2SwcQAe3br6fdODHoV29e/DReequfRouvzKljgmxPHwIP6fPM9OBJ6IJOPwkfe5Skgim4C31VGU/6RnQ79tPi5PDL9jzwU2HHJ6kOjh1noITlt28CW3ffJg9ePgpfviuOel1cO1u0MOQi32m0WMqGwi7LpKLavzvZPu0bRMm9xTlGtiZllRyJLg2yElnYvtcRlWuhrS6KjOF2VHePmpIfxfu0WfjxUAvUAUmj9LnPdiNHO2bgbbqSbJ738LgpktB777dI3ikau+zmYEXKRjrLsGybw5aH3ZJOEOySU82QRpi33zvQi+oJHdS4zS8Da/B9p31HHopHk9smefHRx375v6tb0Q3tEPpKhU1dPJd//yMh3gj2KV/Bnby/DV7KI7mw9AE2levr9lPjmQr11IES6Z2l2svWjRp9Bh7bsh1UeO/cAMDKGr8GddL0xncychRCzti5G5arheuPSYhb1/SYWr7bB3EUES5eeqqzGRpR7n5aA5Uj+QUTDHoLlUHE/J1E/g1bFpdgjWYOznoDXOIy2+m3bN6DmkOGi1qaK6swEq9CkvQgl57OERLUj8vmQVpT1Qmrc+f98MNgxYZTDWdIVEhGzSBcQbQxP+FGwAvbUQHN9p0hxfU0MlduPyMajRoe4Yanbt4/Gmoen3jSWzYjs/DS3TjuPimFVQce9LwDh5BvN05vU34xJomMExFGj2Gnau/rkfX51Xjn/CBiTnJPCj3NOVy7TEd+fhSJEltP+0CgxzLLUZXZSa9HRXlo9nSBePRw6xhTODvbzZhFmO0RmcHFodjND9h+R3FKK3WgAYFa0tL1ty52lE7BookwQKDzIK0R32riwS+Wgk8OU2/YXXruhOJP8GG+3zcxEqBTyDgyQB7Zea6NRH1rWl1UENUOnpaX7tqT0Z2OHaGJr56nzTVfItPZ2H7wzfgrQ/XXTu5feMsTJ1IEdAb2N2j69+1b1JXz45wSCGNHvXnhl3Xw10KlAMBNG50YwVYhwXad2TlytHZtmAb9UroJplHyd2oXA9ce0xP9r4UjoHtm+ogknzLLU5XZSa9HeXqo7lRA+PRwzTMtD0T8WnrQa9lTwzTTeAnKECrYoRGk/mHOr1Y+fXtXrN7c9DbaUN7Z8dK12nVoLs6C9X6CqZQJKifjsyCNNuoooyTJhKPYoLuwcWWebbQE5zTyH5wLnyoIj4d6fsN32rDD659DeBTqvMkHKanw4c/gR9QEHHqa4EJ5+v2XA1r3ow6nJg4u9uG9kWqE00CHs3QTBo9hp+b13VNwBPnztryjCQbf+faY1ry8KVIUtk+Vwcaciy3KF2VmcLtSEsK+0hIz5pNP2oqUFm8oFZuDtNfqbsB2k5sFxqhya9/Czao12zu5GAhAv43s7hjz5+z5qqpw0NE1y+MbII01b1NK4a+Htk1q1YWCXwwmvkqfQ7d6NREXyfgSQ1NUsVG9iINU0Q1stx0Gtz5UWrCrZpcnP8KsHC7e3T9+2olas69aGn0mODcqOt6/pr3qXuwWYt/aGiU9jMZ9vXL3azcFHYWRhodZE1hth8gl3Jz0FWZKcCOivNRAyqTYK0PGFrFqSbN47eThfVEm9CHzSYGaEs0xMkN0EJQCw7MV4UmJ1WQ9uih7Zxfwacn4qULC/bT2UN6mzW9cdrbEFBaWu2FZLWC6LFArcaCdXj7+rZnfo89lOWVJT3JUpd4ohdSnqD5YmDNgaDl9Hq46YahYZBTlp08PVjtNz1tv6LhxlnfJFd6G/p5qxfIcNjA2O6K7EVLo0f+uTZZXRfqG/2bdOMOgZE8g+Vm7u/J7SyaInyJCdv2mTrgknm5eemqzJTIjrK2j0jUykZYhSsrm+6wXn9lwX6fmWdlI/Va0UT5PF7uatO3fkWAJuEPSsBgbKgu9vAkzUFr9exXcehh5jfzItgimPUtAKBfIFiwEjpDvtz6xXPos88+21f/u2xtbcGzLzyl9mzoZ6Gs3jItT8NLV78Hbzk3BOttzPbL/oahp4ASLCceJ0Ll6Z9Yag03YEPrH26gFyeqm2WAQbrwNDZOOdx0+K+2zvTSS2rI1S7i1FmH8XUY2p1eXno+3vshPDfxTbWXkDR6ZJ5LmFyXF9vHvXKyb8BWYz9EnK4d4v19uFwDO1Ow9ZNGByxfInjpeLbP1IHFKMrNUVdlphA7Giaxj3og+c89dV7tGWL94oD9Qls/NSsIcjqprKFFjEb8Q4v0ktpZDPGGMU+n5oYNVwTx1iU8LxsnLTe/wbXpMK/fgL29PZiYGNZ9uuHO409bk8HX0BDcAI04vADXNl6Dl/B7L3ba6AZb0EBvkr/zjrUSy+X4vNYBy4prJ4HJxE/QXBh627nv2uw3mEc1VlqM7G4Ec9HS6JF9bpbXNQFfvxAmT0+54+TvJfIlnu0zdWDAqMo9UJTGjgrWU2URdnoda1WjS62hDTrypQInL7WwHv4JXrVGCzqJ6sLPr0Lzz+gXBnwysH+BYBBoZlc/dk+aIDzOHIin/wOM6Gd8EF2NllQ9aUJu5NOTJgiCIAiCIOSCBGmCIAiCIAglRII0QRAEQRCEEnLowYMH+/Q2XMJ5My4eg99Xf2kdEwRBEATh4PDs57+t/hPKTujCgdOnT6s9IWvCJggK5WXjZ9dksm2JEf2MD6Kr0SLyLyeycEAQBEEQBGGMkCBNEARBEAShhEiQJgiCIAiCUEIkSBMEQRAEQSgh7CBts3nI+sFU31avQ725Ap7fGQ2nT7+hRec1A7+gL7Ag+dW9sm+C8W/Xbjbx3HroefQjsf4y7B+IDSUqP6wv/cBs3cnLqXNYfpr0TZ2hcNM5xNmdaX5pofok1SPzXJYeLd150vg2j6xGlc4hD/0k1YGmLnU8V2fSQR1o02nyC/MRlk459aPfXvR8P7yF+HOUrzvkoatRkLd9cPRuoidTn0pLUvl4ibEnlv8grHRZtzlZ6pkDre4Mbu+//z69lsNHpwG0CjR0q7V6KqWOzn7DTdvAvcebR48eqf+Y9Fr7NY+sB1ttP1LsXnqd/VYt4pxOI5D3YNPqNjK/nvpOvzWCBoBl664vcTqXGLszyG/9p3+h/ktBGj1yz+XqMSKdT1ajSkdg2sz1k1gHUTbtP7cXeo3edAY+EiGzgU6Z9Qu9fmfTyCGu7SDy0NUoyN0+mHo30ZOJTyGp5J9YPh5i7InnP/x02bY5GevZQ1hcYBik+S+o1+vh8VpkwW5la639liaPxxHTIM0JkGutDkrTptdSctcL3YM3UKFN5xiOQdVQh4MvyQlsg/XqjJkf2gXl5cltv6Ors+v0mB4zGsrKgZvOJcbuDPPL4saSRo+8cw30qBqu6IcrZFTpctJPch1obNq92Xivx/EP9AtXBzrb5/oIV6fc+oUxKGeQlOPryAh8KS/ytw+u3sPQ6InrU4o08s//XsT1H246JNM2Jz895xKkuSgh0A3Rf2GOQdnnRebxGGEWpDnGGJSbX7bhGDjGkP50OuPkF4Y612OgjtPH+Tc3nU283Znll8WNJY0eueca6JHbcI0oXT76SaODEJyG3aloxPXp7HCYoI8Y6FRHsH5hqHr70znycja9rxfvS3lRgH2EEtR7CDo9cX1PkVz+aeXDsCeu/5j4GVM+pnbsIwM9h8UF2SwcmGkDXiBAdwNuucOtfdhsVmGp24BOrw0z6qhgSH8X7tFn48WADCsweZQ+78Fu5BD3DLTVL0ngE486FmQGXrT0twTLvvHyPuxS4b6yOfnpIHuYhVWoQeuCk5vKv9YC95AWbjqCY3cm+WVEGj2yzzXRY5nJST+pfUlD7z508aN2pGrvR1A9Qv4SVYbOR1LqlFW/PqxcWcVPb7kEx9dH4Et5MTL70OldR5ieCqKQe1E48f5jw03nJ6UdZ6pnP5mt7rQF04X7PXufbpSzq1gZulFW7GNCttgyz4aZdg/Ib1Znq0ATOpsrK7BSx2AHWtBrp2gQ3EmbVbhCefV2YNGxh/4t2CDLRge/1awPJldi+fWVTTRpBTcdwrI7g/yKII0eg+ea6rG7ROnU9UcsFCk03Qj0k1QHmzftm+bcSWVs1SO4R9e34J8U3e9TO44M2kiXKB9B0vjmUP10bC7jQw1+Ni75ymVRMl/Ki8zsw0uM3oeI0RPX9/Igs3sR138S+FmebU6meg6SyXAn4elStMeoh7syY/N4TDAa7ozoRrXlzO+eDdOLTc8aQ4daY79RU+PmpE/MPKyTODo/hbILd/MO2zjXFrY5F8ZMx7Y7brkeUg/RpNGj0blMPQb14tl8wwKjSJeXftLoQIMzcTl4jjNsot/Ch3jcTTdtxNA3ibD6+eENVYX6+ih8KS8Ksg+XWL17idBTMB/P5vM9RWL5ZyifUHtCuP7D9jOOfBLYsUNWes53uBPpW32FGIhOVjCSpZC0C0tVJxq1t1kKNmEVZml/LNdml5EaMEZaYujbT+b35qC304b2zg6g6UEHW4Xu6ixU6yvJn4hn2lb3tpMfPs5ANaD7WoOeLuxucGvrdYBGeGD1iu8pKS6dqd1xyy2GNHp0zjXQo6sXZ+tBr2VdPapoebAsfVTpkOL1w9dBH5+Oq2hY2MhDsDOLer46eE1o7S50LRhoqb0AkT6SzDej6uelv7Jg9c7UWheih01jKJcv5UU29uESqXc/kXoy8Kl8yeJexPcftp/l2OZkrWcdmQVp9g0yGyUJPGyZZ4Dq6q3NnYRBL2wFZhZ30Jhto1pO7emU35o1bAOrN/0NxxEs19v9W5mBC1bCQJc1Nx2XrPNLSBo9+s5NpccKVBYv2PqJpMB0BerHRAf9lbrbMO9oxy1I5m3YcW8K+7DTPglwj8o4CvgcG4LGRxLoNL5+DpuwbI+fwSWj8RcNJfGlvMjWPoJEtI0Wpnri+l52ZHYvsuD6T3I/y6LNyV7PerIJ0jCaxLpSSwI0JDvTHgjNu3WskLQBHdqPmUshKCqTNEyuUaqa6BhpjEzUpMdu7q1pD3y+rK6tu3FL2xvgwkzHtjtuuVmSRo/ccwvTY87kpZ80OrCgib/YMC+hNXW4DbPCnU8Ut3gj4CNGOjWrX3/lCljNditFL9oofCkvRmkfQb17yERPWZBaPing+g/bzwIY2XE+eg4lzZw03nvSBujyeBwxewXHYOw97t00zjGM7NURP/b3unkAg6XR9F4Xh17HGafXzx0Iza/X2m/UUM9oHwPIVuwyvHXWXptb7sBWuOl06OzONL8s5tFoy2TqkXcuV4/2HCdK40mlf0fXSNLlp5/kOnDmBOl9IYrBO80857J9xECnRvVz8o32HQdbHvq889LVKMjdPgzaRps4PfF9yiGN/JPLx0+UPQXR+o8Gfbqs25y89BweF2T0iwMoBIa07TzCjO3xwTRII4XbhhLc/Iaid4xBIx/cvOlcR9NsxvmF1pe2oP559eOnG0Zvd2b5ZXJjSaNHw3N12yA/p6HRbYEGbiTpiJz0k1gH4fWxN8/52jLoRqG+Jwx8hKdTg/ohWhsbgquDEfhSXuRtHwZ6J+L1ZOJTNqnkn1g+BNNOOP5DsNJl3ebko2cinyCtVtuvNVoYLapEMUiQZmMcpBE9NA6vsWGU7jcwsosUjoFYTyK+MuwnED+8/OgJxLsSzfo+zFbojc34tOOm1ZaLcNMFCLU7g/wyu7Ek1iPCOJfg6JGrn1Gls8hLP4l0EG739uZp8AMNdNj1mcgiXqcG9XPTxrXF4XnqbLNwX8qLnO2Dr3eenox8Ckkt/0TyIZj2xPSfPPyMri3ajvPQs01YXHCIgjI82cfW1hacPn1a7QlZs7e3BxMTE2pPGAc2fnYN5p46r/aEsiH6GR9EV6NF5F9OwuKCzFZ3CoIgCIIgCNkhQZogCIIgCEIJkSBNEARBEAShhBx68OABzU2zduiTNjwGv6/+0jomCIIgCMLB4dnPf1v9J5QdWTgwAmThwPghOis3op/xQXQ1WkT+5USvF4D/P6xroAXY2WJIAAAAAElFTkSuQmCC)"
      ],
      "metadata": {
        "id": "HucJ0EFxvugL"
      }
    },
    {
      "cell_type": "code",
      "source": [
        "print(\"XGB Set5 A2 ได้ Accuracy:\",metrics.accuracy_score(y_test_A2_RGB_S5_xgb, y_pred_A2_RGB_S5_xgb))\n",
        "print(\"XGB Set6 A2 ได้ Accuracy:\",metrics.accuracy_score(y_test_A2_RGB_S6_xgb, y_pred_A2_RGB_S6_xgb))\n",
        "print(\"XGB Set5 A4 ได้ Accuracy:\",metrics.accuracy_score(y_test_A4_HSV_S5_xgb, y_pred_A4_HSV_S5_xgb))\n",
        "print(\"XGB Set6 A4 ได้ Accuracy:\",metrics.accuracy_score(y_test_A4_HSV_S6_xgb, y_pred_A4_HSV_S6_xgb))"
      ],
      "metadata": {
        "id": "tvUMg4K3RT8I",
        "colab": {
          "base_uri": "https://localhost:8080/"
        },
        "outputId": "e3871f67-2a51-4689-e8e0-c4d2b21cf8f8"
      },
      "execution_count": null,
      "outputs": [
        {
          "output_type": "stream",
          "name": "stdout",
          "text": [
            "XGB Set5 A2 ได้ Accuracy: 0.29\n",
            "XGB Set6 A2 ได้ Accuracy: 0.32875\n",
            "XGB Set5 A4 ได้ Accuracy: 0.6475\n",
            "XGB Set6 A4 ได้ Accuracy: 0.34\n"
          ]
        }
      ]
    },
    {
      "cell_type": "markdown",
      "source": [
        "###SVM model\n",
        "\n",
        "RGB D4\n",
        "HSV D4"
      ],
      "metadata": {
        "id": "weOI0hjQN-FG"
      }
    },
    {
      "cell_type": "markdown",
      "source": [
        "![image.png](data:image/png;base64,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)"
      ],
      "metadata": {
        "id": "Eo72TfWlvysU"
      }
    },
    {
      "cell_type": "markdown",
      "source": [
        "![image.png](data:image/png;base64,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)"
      ],
      "metadata": {
        "id": "sIczPuC0v2bQ"
      }
    },
    {
      "cell_type": "code",
      "source": [
        "print(\"SVM_RGB Set5 D4 ได้ Accuracy:\", metrics.accuracy_score(y_test_D4_RGB_S5, y_pred_D4_RGB_S5))\n",
        "print(\"SVM_RGB Set6 D4 ได้ Accuracy:\", metrics.accuracy_score(y_test_D4_RGB_S6, y_pred_D4_RGB_S6))\n",
        "print(\"SVM_HSV Set5 D4 ได้ Accuracy:\", metrics.accuracy_score(y_test_D4_HSV_S5, y_pred_D4_HSV_S5))\n",
        "print(\"SVM_HSV Set6 D4 ได้ Accuracy:\", metrics.accuracy_score(y_test_D4_HSV_S6, y_pred_D4_HSV_S6))"
      ],
      "metadata": {
        "id": "Jqhnc-VRNfp7",
        "colab": {
          "base_uri": "https://localhost:8080/"
        },
        "outputId": "b5410339-a4ee-42c8-f9f1-ffa577658bba"
      },
      "execution_count": null,
      "outputs": [
        {
          "output_type": "stream",
          "name": "stdout",
          "text": [
            "SVM_RGB Set5 D4 ได้ Accuracy: 0.22875\n",
            "SVM_RGB Set6 D4 ได้ Accuracy: 0.4\n",
            "SVM_HSV Set5 D4 ได้ Accuracy: 0.51125\n",
            "SVM_HSV Set6 D4 ได้ Accuracy: 0.2425\n"
          ]
        }
      ]
    },
    {
      "cell_type": "markdown",
      "source": [
        "#Save Model"
      ],
      "metadata": {
        "id": "w6yxbuxmV-Eu"
      }
    },
    {
      "cell_type": "markdown",
      "source": [
        "##RF model"
      ],
      "metadata": {
        "id": "EsNnLI7QRq5O"
      }
    },
    {
      "cell_type": "code",
      "source": [
        "import cv2"
      ],
      "metadata": {
        "id": "Dzj7gmYrYBSO"
      },
      "execution_count": null,
      "outputs": []
    },
    {
      "cell_type": "code",
      "source": [
        "import pickle\n",
        "with open('Model_A2_rgb1.pkl', 'wb') as pickle_file :\n",
        "       pickle.dump(Model1, pickle_file )"
      ],
      "metadata": {
        "id": "0vE7kDs8WAAm"
      },
      "execution_count": null,
      "outputs": []
    },
    {
      "cell_type": "code",
      "source": [
        "import pickle\n",
        "with open('Model_A4_hsv1.pkl', 'wb') as pickle_file :\n",
        "       pickle.dump(Model3, pickle_file )"
      ],
      "metadata": {
        "id": "du4JLmAMWTnG"
      },
      "execution_count": null,
      "outputs": []
    },
    {
      "cell_type": "markdown",
      "source": [
        "##XGB model"
      ],
      "metadata": {
        "id": "_x8aA83gUF1O"
      }
    },
    {
      "cell_type": "code",
      "source": [
        "import pickle\n",
        "with open('ModelA2_xgb_rgb1.pkl', 'wb') as pickle_file :\n",
        "       pickle.dump(Model9, pickle_file )"
      ],
      "metadata": {
        "id": "TiKM38_nUINo"
      },
      "execution_count": null,
      "outputs": []
    },
    {
      "cell_type": "code",
      "source": [
        "import pickle\n",
        "with open('ModelA4_xgb_hsv1.pkl', 'wb') as pickle_file :\n",
        "       pickle.dump(Model11, pickle_file )"
      ],
      "metadata": {
        "id": "odF3edytUIoN"
      },
      "execution_count": null,
      "outputs": []
    },
    {
      "cell_type": "markdown",
      "source": [
        "##SVM model"
      ],
      "metadata": {
        "id": "tn1jtWwsUWPw"
      }
    },
    {
      "cell_type": "code",
      "source": [
        "import pickle\n",
        "with open('ModelD4_SVM_rgb1.pkl', 'wb') as pickle_file :\n",
        "       pickle.dump(Model6, pickle_file )"
      ],
      "metadata": {
        "id": "rx_RTOrFUaoL"
      },
      "execution_count": null,
      "outputs": []
    },
    {
      "cell_type": "code",
      "source": [
        "import pickle\n",
        "with open('ModelD4_SVM_hsv1.pkl', 'wb') as pickle_file :\n",
        "       pickle.dump(Model8, pickle_file )"
      ],
      "metadata": {
        "id": "gsL6soGnUgGk"
      },
      "execution_count": null,
      "outputs": []
    },
    {
      "cell_type": "markdown",
      "source": [
        "#load pic"
      ],
      "metadata": {
        "id": "FKGhI6hvRuQz"
      }
    },
    {
      "cell_type": "code",
      "source": [
        "!pip install azure-storage-blob==2.1.0"
      ],
      "metadata": {
        "id": "AXCy9HlDYC1Y",
        "colab": {
          "base_uri": "https://localhost:8080/"
        },
        "outputId": "07967b15-6b99-414d-e05d-ca1d006ba3a3"
      },
      "execution_count": null,
      "outputs": [
        {
          "output_type": "stream",
          "name": "stdout",
          "text": [
            "Collecting azure-storage-blob==2.1.0\n",
            "  Downloading azure_storage_blob-2.1.0-py2.py3-none-any.whl (88 kB)\n",
            "\u001b[?25l\r\u001b[K     |███▊                            | 10 kB 17.4 MB/s eta 0:00:01\r\u001b[K     |███████▍                        | 20 kB 23.8 MB/s eta 0:00:01\r\u001b[K     |███████████▏                    | 30 kB 13.0 MB/s eta 0:00:01\r\u001b[K     |██████████████▉                 | 40 kB 12.7 MB/s eta 0:00:01\r\u001b[K     |██████████████████▋             | 51 kB 6.9 MB/s eta 0:00:01\r\u001b[K     |██████████████████████▎         | 61 kB 8.2 MB/s eta 0:00:01\r\u001b[K     |██████████████████████████      | 71 kB 8.4 MB/s eta 0:00:01\r\u001b[K     |█████████████████████████████▊  | 81 kB 9.2 MB/s eta 0:00:01\r\u001b[K     |████████████████████████████████| 88 kB 4.3 MB/s \n",
            "\u001b[?25hCollecting azure-common>=1.1.5\n",
            "  Downloading azure_common-1.1.28-py2.py3-none-any.whl (14 kB)\n",
            "Collecting azure-storage-common~=2.1\n",
            "  Downloading azure_storage_common-2.1.0-py2.py3-none-any.whl (47 kB)\n",
            "\u001b[K     |████████████████████████████████| 47 kB 4.5 MB/s \n",
            "\u001b[?25hRequirement already satisfied: python-dateutil in /usr/local/lib/python3.7/dist-packages (from azure-storage-common~=2.1->azure-storage-blob==2.1.0) (2.8.2)\n",
            "Collecting cryptography\n",
            "  Downloading cryptography-36.0.1-cp36-abi3-manylinux_2_24_x86_64.whl (3.6 MB)\n",
            "\u001b[K     |████████████████████████████████| 3.6 MB 59.3 MB/s \n",
            "\u001b[?25hRequirement already satisfied: requests in /usr/local/lib/python3.7/dist-packages (from azure-storage-common~=2.1->azure-storage-blob==2.1.0) (2.23.0)\n",
            "Requirement already satisfied: cffi>=1.12 in /usr/local/lib/python3.7/dist-packages (from cryptography->azure-storage-common~=2.1->azure-storage-blob==2.1.0) (1.15.0)\n",
            "Requirement already satisfied: pycparser in /usr/local/lib/python3.7/dist-packages (from cffi>=1.12->cryptography->azure-storage-common~=2.1->azure-storage-blob==2.1.0) (2.21)\n",
            "Requirement already satisfied: six>=1.5 in /usr/local/lib/python3.7/dist-packages (from python-dateutil->azure-storage-common~=2.1->azure-storage-blob==2.1.0) (1.15.0)\n",
            "Requirement already satisfied: chardet<4,>=3.0.2 in /usr/local/lib/python3.7/dist-packages (from requests->azure-storage-common~=2.1->azure-storage-blob==2.1.0) (3.0.4)\n",
            "Requirement already satisfied: idna<3,>=2.5 in /usr/local/lib/python3.7/dist-packages (from requests->azure-storage-common~=2.1->azure-storage-blob==2.1.0) (2.10)\n",
            "Requirement already satisfied: certifi>=2017.4.17 in /usr/local/lib/python3.7/dist-packages (from requests->azure-storage-common~=2.1->azure-storage-blob==2.1.0) (2021.10.8)\n",
            "Requirement already satisfied: urllib3!=1.25.0,!=1.25.1,<1.26,>=1.21.1 in /usr/local/lib/python3.7/dist-packages (from requests->azure-storage-common~=2.1->azure-storage-blob==2.1.0) (1.24.3)\n",
            "Installing collected packages: cryptography, azure-common, azure-storage-common, azure-storage-blob\n",
            "Successfully installed azure-common-1.1.28 azure-storage-blob-2.1.0 azure-storage-common-2.1.0 cryptography-36.0.1\n"
          ]
        }
      ]
    },
    {
      "cell_type": "code",
      "source": [
        "from azure.storage.blob import BlockBlobService\n",
        "import os\n",
        "blob_service_client = BlockBlobService(account_name='dent01', account_key='CuShY0B4TZJ84TjzPpaHxyrHOpO73aGXeCpdVq7x26OjIlQ1HOz+3DVc9pDEj9BdcEL8odFuTRF0mOAE+aCgiw==')"
      ],
      "metadata": {
        "id": "vj7O-7MtX9tj"
      },
      "execution_count": null,
      "outputs": []
    },
    {
      "cell_type": "code",
      "source": [
        "imgA2_1 = 'E9896AEB-AC43-43BA-8395-1A8640C68F11.png' #A1 --ไม่ถูก\n",
        "imgA2_2 = '9D32D7FF-0A67-4AA4-8424-06D37D892DC2.png' #A4\n",
        "imgA2_3 = '0F32B754-C0C2-43F6-9B65-EEE0851F4CEB.png' #B1\n",
        "imgA2_4 = 'BA3C7923-CD9F-4809-8EEC-24B30F025D13.png' #B3\n",
        "imgA2_5 = '17E72DB3-AA02-4622-B461-89DCBCD642A5.png' #C2 --ไม่ถูก\n",
        "imgA2_6 = 'A2723199-FA79-4ABD-8C67-EBC58083FEA9.png' #B2\n",
        "imgA2_7 = 'D79DF66A-7CAC-4461-9E6E-CA221FB7A057.png' #C4\n",
        "imgA2_8 = 'E669F6F4-C912-47F4-B0C1-A46433E02B07.png' #D3\n",
        "imgA2_9 = '402E5CB5-10DD-4C36-B760-CFD2237DD396.png' #D4\n",
        "imgA2_10 = '599ACC1F-875A-4988-9332-68FAB7D132B5.png' #A3"
      ],
      "metadata": {
        "id": "7z85-fMbX3Jy"
      },
      "execution_count": null,
      "outputs": []
    },
    {
      "cell_type": "code",
      "source": [
        "imgA4_1 = 'A2F40499-0CDC-4ACC-89BB-63762A71A7CA.png' #A1     --ไม่ถูก  B1\n",
        "imgA4_2 = '289920D2-E811-4F85-869F-E9238CCBEFD5.png' #A3.5   --ไม่ถูก  B3\n",
        "imgA4_3 = '2D555778-9B7B-44AB-BFA1-590F15D5A7FA.png' #B3\n",
        "imgA4_4 = 'EB5B2198-7C61-4692-BAB8-8DA69697C5A3.png' #C4\n",
        "imgA4_5 = '9E01A657-3CD7-42A1-ACF9-A3E39556E504.png' #C2\n",
        "imgA4_6 = '2B45231E-E270-4418-8D4E-10324F2156D6.png' #A4\n",
        "imgA4_7 = '0640BC96-6C7A-4379-ABCC-B1D74786F95F.png' #B1\n",
        "imgA4_8 = '5162C60F-E139-444F-BDDF-53AC0B23DAEE.png' #C1\n",
        "imgA4_9 = '1330C715-722A-4786-884B-944CECB1C1B2.png' #D2\n",
        "imgA4_10 = '53EB262D-4941-4FCD-B8CD-FA52FC2C5409.png' #D4"
      ],
      "metadata": {
        "id": "1FpoHnsqZQlK"
      },
      "execution_count": null,
      "outputs": []
    },
    {
      "cell_type": "code",
      "source": [
        "imgD4_1 = '420AA6D7-3482-4BE8-A2DC-011CE3E711BB.png' #A1                   hsv ไม่ถูก ได้  B1\n",
        "imgD4_2 = '7F2D956E-81DE-4A31-BE5D-D57D22B259A9.png' #A4 ไม่ถูก ได้ A3 rgb    hsv ไม่ถูก ได้  B3\n",
        "imgD4_3 = '4B7A0F91-C22A-4A83-BA65-FCBB5F67EBE9.png' #C2 ไม่ถูก ได้ A1 rgb    hsv ไม่ถูก ได้  B2\n",
        "imgD4_4 = '3EBC1598-57C4-497B-B235-C7C0C8DBCA1F.png' #B3 ไม่ถูก ได้ A3 rgb    hsv ไม่ถูก ได้  A3\n",
        "imgD4_5 = '9AA9377B-863F-40D5-A369-928B740E9398.png' #D4 ไม่ถูก ได้ A2 rgb    hsv ไม่ถูก ได้  A2\n",
        "imgD4_6 = '78C2C21B-A360-48B0-83F0-972E70A0A086.png' #A2 ไม่ถูก ได้ A1 rgb    hsv ไม่ถูก ได้  A1\n",
        "imgD4_7 = '135BA0F5-79C2-4120-9CA5-63431312CC00.png' #B2 ไม่ถูก ได้ A1 rgb    hsv ไม่ถูก ได้  C1\n",
        "imgD4_8 = '6D589D75-9718-427C-80A0-60628F26CA9A.png' #C1 ไม่ถูก ได้ A1 rgb    hsv ไม่ถูก ได้  B1\n",
        "imgD4_9 = 'A8FFB318-61ED-4540-9CB8-9A5DF87E16AD.png' #C4 ไม่ถูก ได้ D4 rgb    hsv ไม่ถูก ได้  C4\n",
        "imgD4_10 = '2C9BFCC9-B319-4EE6-BFDD-C66E652C1039.png' #D4 ไม่ถูก ได้ A3 rgb   hsv ไม่ถูก ได้  A3"
      ],
      "metadata": {
        "id": "drNnVFbPT3FB"
      },
      "execution_count": null,
      "outputs": []
    },
    {
      "cell_type": "code",
      "source": [
        "imgD4_11 = '4B2395EF-56AC-4C40-B0A2-F55EC158D414.png' #B1                   \n",
        "imgD4_12 = 'DBC3538F-5100-470A-AD8D-FB40AA7A4EA2.png' #B2 ไม่ถูก ได้ A1 rgb    hsv ไม่ถูก ได้  C1"
      ],
      "metadata": {
        "id": "OfZvjPeSsszU"
      },
      "execution_count": null,
      "outputs": []
    },
    {
      "cell_type": "code",
      "source": [
        "D4_12_double = imgD4_12\n",
        "full_path_to_file2 = os.path.join(D4_12_double) \n",
        "blob_service_client.get_blob_to_path('shadeimg', full_path_to_file2, full_path_to_file2)\n",
        "imagee = cv2.imread(D4_12_double)"
      ],
      "metadata": {
        "id": "FUa_yALXteKw"
      },
      "execution_count": null,
      "outputs": []
    },
    {
      "cell_type": "code",
      "source": [
        "D4_11_double = imgD4_11\n",
        "full_path_to_file2 = os.path.join(D4_11_double) \n",
        "blob_service_client.get_blob_to_path('shadeimg', full_path_to_file2, full_path_to_file2)\n",
        "imagee = cv2.imread(D4_11_double)"
      ],
      "metadata": {
        "id": "jeAacZDLs9UW"
      },
      "execution_count": null,
      "outputs": []
    },
    {
      "cell_type": "code",
      "source": [
        "A4_1_double = imgA4_1\n",
        "full_path_to_file2 = os.path.join(A4_1_double) \n",
        "blob_service_client.get_blob_to_path('shadeimg', full_path_to_file2, full_path_to_file2)\n",
        "imagee = cv2.imread(A4_1_double)"
      ],
      "metadata": {
        "id": "qrVMQ5l3X1GF"
      },
      "execution_count": null,
      "outputs": []
    },
    {
      "cell_type": "code",
      "source": [
        "A4_2_double = imgA4_2\n",
        "full_path_to_file2 = os.path.join(A4_2_double) \n",
        "blob_service_client.get_blob_to_path('shadeimg', full_path_to_file2, full_path_to_file2)\n",
        "imagee = cv2.imread(A4_2_double)"
      ],
      "metadata": {
        "id": "ndxhP1IWVRRk"
      },
      "execution_count": null,
      "outputs": []
    },
    {
      "cell_type": "code",
      "source": [
        "A4_3_double = imgA4_3\n",
        "full_path_to_file2 = os.path.join(A4_3_double) \n",
        "blob_service_client.get_blob_to_path('shadeimg', full_path_to_file2, full_path_to_file2)\n",
        "imagee = cv2.imread(A4_3_double)"
      ],
      "metadata": {
        "id": "VcWFg9CcVRwM"
      },
      "execution_count": null,
      "outputs": []
    },
    {
      "cell_type": "code",
      "source": [
        "A4_4_double = imgA4_4\n",
        "full_path_to_file2 = os.path.join(A4_4_double) \n",
        "blob_service_client.get_blob_to_path('shadeimg', full_path_to_file2, full_path_to_file2)\n",
        "imagee = cv2.imread(A4_4_double)"
      ],
      "metadata": {
        "id": "nDe4zpD-VSDH"
      },
      "execution_count": null,
      "outputs": []
    },
    {
      "cell_type": "code",
      "source": [
        "A4_5_double = imgA4_5\n",
        "full_path_to_file2 = os.path.join(A4_5_double) \n",
        "blob_service_client.get_blob_to_path('shadeimg', full_path_to_file2, full_path_to_file2)\n",
        "imagee = cv2.imread(A4_5_double)"
      ],
      "metadata": {
        "id": "yn-RlSCxVSTq"
      },
      "execution_count": null,
      "outputs": []
    },
    {
      "cell_type": "code",
      "source": [
        "A4_6_double = imgA4_6\n",
        "full_path_to_file2 = os.path.join(A4_6_double) \n",
        "blob_service_client.get_blob_to_path('shadeimg', full_path_to_file2, full_path_to_file2)\n",
        "imagee = cv2.imread(A4_6_double)"
      ],
      "metadata": {
        "id": "40MkWGkLVa9w"
      },
      "execution_count": null,
      "outputs": []
    },
    {
      "cell_type": "code",
      "source": [
        "A4_7_double = imgA4_7\n",
        "full_path_to_file2 = os.path.join(A4_7_double) \n",
        "blob_service_client.get_blob_to_path('shadeimg', full_path_to_file2, full_path_to_file2)\n",
        "imagee = cv2.imread(A4_7_double)"
      ],
      "metadata": {
        "id": "Hf4_JGOEVbM-"
      },
      "execution_count": null,
      "outputs": []
    },
    {
      "cell_type": "code",
      "source": [
        "A4_8_double = imgA4_8\n",
        "full_path_to_file2 = os.path.join(A4_8_double) \n",
        "blob_service_client.get_blob_to_path('shadeimg', full_path_to_file2, full_path_to_file2)\n",
        "imagee = cv2.imread(A4_8_double)"
      ],
      "metadata": {
        "id": "9U4W0RLeVbdU"
      },
      "execution_count": null,
      "outputs": []
    },
    {
      "cell_type": "code",
      "source": [
        "A4_9_double = imgA4_9\n",
        "full_path_to_file2 = os.path.join(A4_9_double) \n",
        "blob_service_client.get_blob_to_path('shadeimg', full_path_to_file2, full_path_to_file2)\n",
        "imagee = cv2.imread(A4_9_double)"
      ],
      "metadata": {
        "id": "dwK9j5cnVbsB"
      },
      "execution_count": null,
      "outputs": []
    },
    {
      "cell_type": "code",
      "source": [
        "A4_10_double = imgA4_10\n",
        "full_path_to_file2 = os.path.join(A4_10_double) \n",
        "blob_service_client.get_blob_to_path('shadeimg', full_path_to_file2, full_path_to_file2)\n",
        "imagee = cv2.imread(A4_10_double)"
      ],
      "metadata": {
        "id": "5aXb-VGTVcKU"
      },
      "execution_count": null,
      "outputs": []
    },
    {
      "cell_type": "code",
      "source": [
        "D4_1_double = imgD4_1\n",
        "full_path_to_file2 = os.path.join(D4_1_double) \n",
        "blob_service_client.get_blob_to_path('shadeimg', full_path_to_file2, full_path_to_file2)\n",
        "imagee = cv2.imread(D4_1_double)"
      ],
      "metadata": {
        "id": "s4UjYpRoVmbw"
      },
      "execution_count": null,
      "outputs": []
    },
    {
      "cell_type": "code",
      "source": [
        "D4_2_double = imgD4_2\n",
        "full_path_to_file2 = os.path.join(D4_2_double) \n",
        "blob_service_client.get_blob_to_path('shadeimg', full_path_to_file2, full_path_to_file2)\n",
        "imagee = cv2.imread(D4_2_double)"
      ],
      "metadata": {
        "id": "l5AFELgiVvpP"
      },
      "execution_count": null,
      "outputs": []
    },
    {
      "cell_type": "code",
      "source": [
        "D4_3_double = imgD4_3\n",
        "full_path_to_file2 = os.path.join(D4_3_double) \n",
        "blob_service_client.get_blob_to_path('shadeimg', full_path_to_file2, full_path_to_file2)\n",
        "imagee = cv2.imread(D4_3_double)"
      ],
      "metadata": {
        "id": "acUGWMwwVv66"
      },
      "execution_count": null,
      "outputs": []
    },
    {
      "cell_type": "code",
      "source": [
        "D4_4_double = imgD4_4\n",
        "full_path_to_file2 = os.path.join(D4_4_double) \n",
        "blob_service_client.get_blob_to_path('shadeimg', full_path_to_file2, full_path_to_file2)\n",
        "imagee = cv2.imread(D4_4_double)"
      ],
      "metadata": {
        "id": "a8aeb19jVwV7"
      },
      "execution_count": null,
      "outputs": []
    },
    {
      "cell_type": "code",
      "source": [
        "D4_5_double = imgD4_5\n",
        "full_path_to_file2 = os.path.join(D4_5_double) \n",
        "blob_service_client.get_blob_to_path('shadeimg', full_path_to_file2, full_path_to_file2)\n",
        "imagee = cv2.imread(D4_5_double)"
      ],
      "metadata": {
        "id": "T479s5LLVws8"
      },
      "execution_count": null,
      "outputs": []
    },
    {
      "cell_type": "code",
      "source": [
        "D4_6_double = imgD4_6\n",
        "full_path_to_file2 = os.path.join(D4_6_double) \n",
        "blob_service_client.get_blob_to_path('shadeimg', full_path_to_file2, full_path_to_file2)\n",
        "imagee = cv2.imread(D4_6_double)"
      ],
      "metadata": {
        "id": "ve98K-0eVw7p"
      },
      "execution_count": null,
      "outputs": []
    },
    {
      "cell_type": "code",
      "source": [
        "D4_7_double = imgD4_7\n",
        "full_path_to_file2 = os.path.join(D4_7_double) \n",
        "blob_service_client.get_blob_to_path('shadeimg', full_path_to_file2, full_path_to_file2)\n",
        "imagee = cv2.imread(D4_7_double)"
      ],
      "metadata": {
        "id": "hOtwBflIVxI3"
      },
      "execution_count": null,
      "outputs": []
    },
    {
      "cell_type": "code",
      "source": [
        "D4_8_double = imgD4_8\n",
        "full_path_to_file2 = os.path.join(D4_8_double) \n",
        "blob_service_client.get_blob_to_path('shadeimg', full_path_to_file2, full_path_to_file2)\n",
        "imagee = cv2.imread(D4_8_double)"
      ],
      "metadata": {
        "id": "kACcewebVxhq"
      },
      "execution_count": null,
      "outputs": []
    },
    {
      "cell_type": "code",
      "source": [
        "D4_9_double = imgD4_9\n",
        "full_path_to_file2 = os.path.join(D4_9_double) \n",
        "blob_service_client.get_blob_to_path('shadeimg', full_path_to_file2, full_path_to_file2)\n",
        "imagee = cv2.imread(D4_9_double)"
      ],
      "metadata": {
        "id": "zRi-fNoOWDEH"
      },
      "execution_count": null,
      "outputs": []
    },
    {
      "cell_type": "code",
      "source": [
        "D4_10_double = imgD4_10\n",
        "full_path_to_file2 = os.path.join(D4_10_double) \n",
        "blob_service_client.get_blob_to_path('shadeimg', full_path_to_file2, full_path_to_file2)\n",
        "imagee = cv2.imread(D4_10_double)"
      ],
      "metadata": {
        "id": "pZAnWeloWDTg"
      },
      "execution_count": null,
      "outputs": []
    }
  ]
}