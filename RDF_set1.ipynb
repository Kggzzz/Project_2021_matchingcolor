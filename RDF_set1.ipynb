{
  "nbformat": 4,
  "nbformat_minor": 0,
  "metadata": {
    "colab": {
      "name": "RDF_set1.ipynb",
      "provenance": [],
      "authorship_tag": "ABX9TyMH4WBWy+K1i47hNH2GxyKl",
      "include_colab_link": true
    },
    "kernelspec": {
      "name": "python3",
      "display_name": "Python 3"
    },
    "language_info": {
      "name": "python"
    }
  },
  "cells": [
    {
      "cell_type": "markdown",
      "metadata": {
        "id": "view-in-github",
        "colab_type": "text"
      },
      "source": [
        "<a href=\"https://colab.research.google.com/github/Kggzzz/Project_2021_matchingcolor/blob/main/RDF_set1.ipynb\" target=\"_parent\"><img src=\"https://colab.research.google.com/assets/colab-badge.svg\" alt=\"Open In Colab\"/></a>"
      ]
    },
    {
      "cell_type": "code",
      "execution_count": 1,
      "metadata": {
        "id": "HKNXe3aNxjrS"
      },
      "outputs": [],
      "source": [
        "import pandas as pd"
      ]
    },
    {
      "cell_type": "code",
      "source": [
        "from google.colab import drive \n",
        "drive.mount('/content/drive')"
      ],
      "metadata": {
        "colab": {
          "base_uri": "https://localhost:8080/"
        },
        "id": "vlUA764exm_B",
        "outputId": "7e9bd2f5-3f99-4793-d69d-4fb64266936b"
      },
      "execution_count": 2,
      "outputs": [
        {
          "output_type": "stream",
          "name": "stdout",
          "text": [
            "Mounted at /content/drive\n"
          ]
        }
      ]
    },
    {
      "cell_type": "code",
      "source": [
        "import os"
      ],
      "metadata": {
        "id": "0NR2cd8WxtI0"
      },
      "execution_count": 3,
      "outputs": []
    },
    {
      "cell_type": "code",
      "source": [
        "path = '/content/drive/My Drive/shadeimg/SVM shade'"
      ],
      "metadata": {
        "id": "CCvM6YiWxv4J"
      },
      "execution_count": 4,
      "outputs": []
    },
    {
      "cell_type": "code",
      "source": [
        "os.listdir(path)"
      ],
      "metadata": {
        "colab": {
          "base_uri": "https://localhost:8080/"
        },
        "id": "gEamzWg2xxw0",
        "outputId": "5cf2ad5e-2a02-4850-9a74-8788bb37e3c7"
      },
      "execution_count": 5,
      "outputs": [
        {
          "output_type": "execute_result",
          "data": {
            "text/plain": [
              "['DD.xlsx',\n",
              " 'CC.xlsx',\n",
              " 'BB.xlsx',\n",
              " 'Shade_AA.xlsx',\n",
              " 'Shade_CC.xlsx',\n",
              " 'Shade_DD.xlsx',\n",
              " 'Shade_BB.xlsx',\n",
              " 'AA.xlsx',\n",
              " 'AA_2.xlsx',\n",
              " 'Color-checkerAA.xlsx',\n",
              " 'Color-checkerCC.xlsx',\n",
              " 'Color-checkerDD.xlsx',\n",
              " 'Color-checkerBB.xlsx',\n",
              " 'Shad_A.xlsx',\n",
              " 'Shad_B.xlsx',\n",
              " 'Shad_C.xlsx',\n",
              " 'Shad_D.xlsx',\n",
              " 'Setting1.xlsx',\n",
              " 'Setting2.xlsx',\n",
              " 'Setting3.xlsx',\n",
              " 'Setting4.xlsx']"
            ]
          },
          "metadata": {},
          "execution_count": 5
        }
      ]
    },
    {
      "cell_type": "code",
      "source": [
        "Set1 = os.path.join(path,'Setting1.xlsx')\n",
        "print(Set1)"
      ],
      "metadata": {
        "colab": {
          "base_uri": "https://localhost:8080/"
        },
        "id": "YnNg2TofxzSg",
        "outputId": "00cbcf5f-feea-4718-d0da-44f9730e95fd"
      },
      "execution_count": 24,
      "outputs": [
        {
          "output_type": "stream",
          "name": "stdout",
          "text": [
            "/content/drive/My Drive/shadeimg/SVM shade/Setting1.xlsx\n"
          ]
        }
      ]
    },
    {
      "cell_type": "code",
      "source": [
        "Set2 = os.path.join(path,'Setting2.xlsx')\n",
        "print(Set2)"
      ],
      "metadata": {
        "id": "9NmuTsKXj8iA",
        "outputId": "c859d0b5-8c2c-47f8-a65a-84b903060231",
        "colab": {
          "base_uri": "https://localhost:8080/"
        }
      },
      "execution_count": 11,
      "outputs": [
        {
          "output_type": "stream",
          "name": "stdout",
          "text": [
            "/content/drive/My Drive/shadeimg/SVM shade/Setting2.xlsx\n"
          ]
        }
      ]
    },
    {
      "cell_type": "code",
      "source": [
        "Set3 = os.path.join(path,'Setting3.xlsx')\n",
        "print(Set3)"
      ],
      "metadata": {
        "id": "Flpjty_gj80T",
        "outputId": "c3fbeaae-3f70-43e5-892a-0c7c9fbff3ad",
        "colab": {
          "base_uri": "https://localhost:8080/"
        }
      },
      "execution_count": 12,
      "outputs": [
        {
          "output_type": "stream",
          "name": "stdout",
          "text": [
            "/content/drive/My Drive/shadeimg/SVM shade/Setting3.xlsx\n"
          ]
        }
      ]
    },
    {
      "cell_type": "code",
      "source": [
        "Set4 = os.path.join(path,'Setting4.xlsx')\n",
        "print(Set4)"
      ],
      "metadata": {
        "colab": {
          "base_uri": "https://localhost:8080/"
        },
        "id": "D5_QGRNuj9Hu",
        "outputId": "7a66cd57-168a-47d8-f5ed-345ea69e7d27"
      },
      "execution_count": 13,
      "outputs": [
        {
          "output_type": "stream",
          "name": "stdout",
          "text": [
            "/content/drive/My Drive/shadeimg/SVM shade/Setting4.xlsx\n"
          ]
        }
      ]
    },
    {
      "cell_type": "code",
      "source": [
        "import numpy as np"
      ],
      "metadata": {
        "id": "8ISBGlPBzzvw"
      },
      "execution_count": 14,
      "outputs": []
    },
    {
      "cell_type": "code",
      "source": [
        "from sklearn import metrics"
      ],
      "metadata": {
        "id": "FTwRPXBBzw1v"
      },
      "execution_count": 15,
      "outputs": []
    },
    {
      "cell_type": "code",
      "source": [
        "from sklearn import datasets"
      ],
      "metadata": {
        "id": "KR8lVsZXpX9X"
      },
      "execution_count": 16,
      "outputs": []
    },
    {
      "cell_type": "code",
      "source": [
        "from sklearn.ensemble import RandomForestClassifier"
      ],
      "metadata": {
        "id": "cfRBaPLCI0vn"
      },
      "execution_count": 17,
      "outputs": []
    },
    {
      "cell_type": "code",
      "source": [
        "clf=RandomForestClassifier()"
      ],
      "metadata": {
        "id": "i-IpOEIhnwdR"
      },
      "execution_count": 95,
      "outputs": []
    },
    {
      "cell_type": "markdown",
      "source": [
        "#AA"
      ],
      "metadata": {
        "id": "poM422dmJDh0"
      }
    },
    {
      "cell_type": "markdown",
      "source": [
        "##A1"
      ],
      "metadata": {
        "id": "Cb9iZlIWmt1B"
      }
    },
    {
      "cell_type": "code",
      "source": [
        "table_A1Set1 = pd.read_excel(Set1 , sheet_name='A1Set1 ')\n",
        "table_A1Set1.head()"
      ],
      "metadata": {
        "id": "4Kf9aT59JKhr",
        "colab": {
          "base_uri": "https://localhost:8080/",
          "height": 0
        },
        "outputId": "f542d075-2bb9-4c07-a3e9-89b1dea0c7ce"
      },
      "execution_count": 628,
      "outputs": [
        {
          "output_type": "execute_result",
          "data": {
            "text/html": [
              "\n",
              "  <div id=\"df-d093d7ac-190e-44c8-bd45-caae9fd4d3e5\">\n",
              "    <div class=\"colab-df-container\">\n",
              "      <div>\n",
              "<style scoped>\n",
              "    .dataframe tbody tr th:only-of-type {\n",
              "        vertical-align: middle;\n",
              "    }\n",
              "\n",
              "    .dataframe tbody tr th {\n",
              "        vertical-align: top;\n",
              "    }\n",
              "\n",
              "    .dataframe thead th {\n",
              "        text-align: right;\n",
              "    }\n",
              "</style>\n",
              "<table border=\"1\" class=\"dataframe\">\n",
              "  <thead>\n",
              "    <tr style=\"text-align: right;\">\n",
              "      <th></th>\n",
              "      <th>R-ref</th>\n",
              "      <th>G-ref</th>\n",
              "      <th>B-ref</th>\n",
              "      <th>R-Shad</th>\n",
              "      <th>G-Shad</th>\n",
              "      <th>B-Shad</th>\n",
              "      <th>H-ref</th>\n",
              "      <th>S-ref</th>\n",
              "      <th>V-ref</th>\n",
              "      <th>H-Shad</th>\n",
              "      <th>S-Shad</th>\n",
              "      <th>V-Shad</th>\n",
              "      <th>Setting</th>\n",
              "      <th>Ref</th>\n",
              "      <th>Shad</th>\n",
              "      <th>Img</th>\n",
              "    </tr>\n",
              "  </thead>\n",
              "  <tbody>\n",
              "    <tr>\n",
              "      <th>0</th>\n",
              "      <td>239.261911</td>\n",
              "      <td>226.772178</td>\n",
              "      <td>193.540054</td>\n",
              "      <td>239.680321</td>\n",
              "      <td>227.425574</td>\n",
              "      <td>194.950928</td>\n",
              "      <td>21.848389</td>\n",
              "      <td>48.820144</td>\n",
              "      <td>239.261911</td>\n",
              "      <td>21.788351</td>\n",
              "      <td>47.702439</td>\n",
              "      <td>239.680321</td>\n",
              "      <td>Set1</td>\n",
              "      <td>A1</td>\n",
              "      <td>A1</td>\n",
              "      <td>1665B5AE-934F-4116-AE19-3369544A125F.png</td>\n",
              "    </tr>\n",
              "    <tr>\n",
              "      <th>1</th>\n",
              "      <td>238.432676</td>\n",
              "      <td>226.124909</td>\n",
              "      <td>192.415551</td>\n",
              "      <td>238.840410</td>\n",
              "      <td>226.726477</td>\n",
              "      <td>193.791053</td>\n",
              "      <td>22.034413</td>\n",
              "      <td>49.293320</td>\n",
              "      <td>238.432676</td>\n",
              "      <td>21.958893</td>\n",
              "      <td>48.209231</td>\n",
              "      <td>238.840410</td>\n",
              "      <td>Set1</td>\n",
              "      <td>A1</td>\n",
              "      <td>A1</td>\n",
              "      <td>47C127AF-8872-4A1E-9F72-082F72252B3F.png</td>\n",
              "    </tr>\n",
              "    <tr>\n",
              "      <th>2</th>\n",
              "      <td>238.783134</td>\n",
              "      <td>226.525201</td>\n",
              "      <td>193.025485</td>\n",
              "      <td>239.209800</td>\n",
              "      <td>227.131072</td>\n",
              "      <td>194.443994</td>\n",
              "      <td>21.989205</td>\n",
              "      <td>48.946108</td>\n",
              "      <td>238.783134</td>\n",
              "      <td>21.892611</td>\n",
              "      <td>47.829457</td>\n",
              "      <td>239.209800</td>\n",
              "      <td>Set1</td>\n",
              "      <td>A1</td>\n",
              "      <td>A1</td>\n",
              "      <td>15991304-7501-4377-BE6E-1B9AF5258FC1.png</td>\n",
              "    </tr>\n",
              "    <tr>\n",
              "      <th>3</th>\n",
              "      <td>238.943430</td>\n",
              "      <td>226.796039</td>\n",
              "      <td>192.905771</td>\n",
              "      <td>239.369177</td>\n",
              "      <td>227.383188</td>\n",
              "      <td>194.241875</td>\n",
              "      <td>22.138219</td>\n",
              "      <td>49.229040</td>\n",
              "      <td>238.943430</td>\n",
              "      <td>22.057108</td>\n",
              "      <td>48.200412</td>\n",
              "      <td>239.369177</td>\n",
              "      <td>Set1</td>\n",
              "      <td>A1</td>\n",
              "      <td>A1</td>\n",
              "      <td>5CE2CB9A-C765-4240-B3D3-E352B1581A1B.png</td>\n",
              "    </tr>\n",
              "    <tr>\n",
              "      <th>4</th>\n",
              "      <td>238.848145</td>\n",
              "      <td>226.354679</td>\n",
              "      <td>192.963720</td>\n",
              "      <td>239.291942</td>\n",
              "      <td>226.985207</td>\n",
              "      <td>194.387952</td>\n",
              "      <td>21.893109</td>\n",
              "      <td>49.072234</td>\n",
              "      <td>238.848145</td>\n",
              "      <td>21.792831</td>\n",
              "      <td>47.962023</td>\n",
              "      <td>239.291942</td>\n",
              "      <td>Set1</td>\n",
              "      <td>A1</td>\n",
              "      <td>A1</td>\n",
              "      <td>26A32C19-6890-4999-A7F2-D8399A56E3B5.png</td>\n",
              "    </tr>\n",
              "  </tbody>\n",
              "</table>\n",
              "</div>\n",
              "      <button class=\"colab-df-convert\" onclick=\"convertToInteractive('df-d093d7ac-190e-44c8-bd45-caae9fd4d3e5')\"\n",
              "              title=\"Convert this dataframe to an interactive table.\"\n",
              "              style=\"display:none;\">\n",
              "        \n",
              "  <svg xmlns=\"http://www.w3.org/2000/svg\" height=\"24px\"viewBox=\"0 0 24 24\"\n",
              "       width=\"24px\">\n",
              "    <path d=\"M0 0h24v24H0V0z\" fill=\"none\"/>\n",
              "    <path d=\"M18.56 5.44l.94 2.06.94-2.06 2.06-.94-2.06-.94-.94-2.06-.94 2.06-2.06.94zm-11 1L8.5 8.5l.94-2.06 2.06-.94-2.06-.94L8.5 2.5l-.94 2.06-2.06.94zm10 10l.94 2.06.94-2.06 2.06-.94-2.06-.94-.94-2.06-.94 2.06-2.06.94z\"/><path d=\"M17.41 7.96l-1.37-1.37c-.4-.4-.92-.59-1.43-.59-.52 0-1.04.2-1.43.59L10.3 9.45l-7.72 7.72c-.78.78-.78 2.05 0 2.83L4 21.41c.39.39.9.59 1.41.59.51 0 1.02-.2 1.41-.59l7.78-7.78 2.81-2.81c.8-.78.8-2.07 0-2.86zM5.41 20L4 18.59l7.72-7.72 1.47 1.35L5.41 20z\"/>\n",
              "  </svg>\n",
              "      </button>\n",
              "      \n",
              "  <style>\n",
              "    .colab-df-container {\n",
              "      display:flex;\n",
              "      flex-wrap:wrap;\n",
              "      gap: 12px;\n",
              "    }\n",
              "\n",
              "    .colab-df-convert {\n",
              "      background-color: #E8F0FE;\n",
              "      border: none;\n",
              "      border-radius: 50%;\n",
              "      cursor: pointer;\n",
              "      display: none;\n",
              "      fill: #1967D2;\n",
              "      height: 32px;\n",
              "      padding: 0 0 0 0;\n",
              "      width: 32px;\n",
              "    }\n",
              "\n",
              "    .colab-df-convert:hover {\n",
              "      background-color: #E2EBFA;\n",
              "      box-shadow: 0px 1px 2px rgba(60, 64, 67, 0.3), 0px 1px 3px 1px rgba(60, 64, 67, 0.15);\n",
              "      fill: #174EA6;\n",
              "    }\n",
              "\n",
              "    [theme=dark] .colab-df-convert {\n",
              "      background-color: #3B4455;\n",
              "      fill: #D2E3FC;\n",
              "    }\n",
              "\n",
              "    [theme=dark] .colab-df-convert:hover {\n",
              "      background-color: #434B5C;\n",
              "      box-shadow: 0px 1px 3px 1px rgba(0, 0, 0, 0.15);\n",
              "      filter: drop-shadow(0px 1px 2px rgba(0, 0, 0, 0.3));\n",
              "      fill: #FFFFFF;\n",
              "    }\n",
              "  </style>\n",
              "\n",
              "      <script>\n",
              "        const buttonEl =\n",
              "          document.querySelector('#df-d093d7ac-190e-44c8-bd45-caae9fd4d3e5 button.colab-df-convert');\n",
              "        buttonEl.style.display =\n",
              "          google.colab.kernel.accessAllowed ? 'block' : 'none';\n",
              "\n",
              "        async function convertToInteractive(key) {\n",
              "          const element = document.querySelector('#df-d093d7ac-190e-44c8-bd45-caae9fd4d3e5');\n",
              "          const dataTable =\n",
              "            await google.colab.kernel.invokeFunction('convertToInteractive',\n",
              "                                                     [key], {});\n",
              "          if (!dataTable) return;\n",
              "\n",
              "          const docLinkHtml = 'Like what you see? Visit the ' +\n",
              "            '<a target=\"_blank\" href=https://colab.research.google.com/notebooks/data_table.ipynb>data table notebook</a>'\n",
              "            + ' to learn more about interactive tables.';\n",
              "          element.innerHTML = '';\n",
              "          dataTable['output_type'] = 'display_data';\n",
              "          await google.colab.output.renderOutput(dataTable, element);\n",
              "          const docLink = document.createElement('div');\n",
              "          docLink.innerHTML = docLinkHtml;\n",
              "          element.appendChild(docLink);\n",
              "        }\n",
              "      </script>\n",
              "    </div>\n",
              "  </div>\n",
              "  "
            ],
            "text/plain": [
              "        R-ref       G-ref  ...  Shad                                       Img\n",
              "0  239.261911  226.772178  ...    A1  1665B5AE-934F-4116-AE19-3369544A125F.png\n",
              "1  238.432676  226.124909  ...    A1  47C127AF-8872-4A1E-9F72-082F72252B3F.png\n",
              "2  238.783134  226.525201  ...    A1  15991304-7501-4377-BE6E-1B9AF5258FC1.png\n",
              "3  238.943430  226.796039  ...    A1  5CE2CB9A-C765-4240-B3D3-E352B1581A1B.png\n",
              "4  238.848145  226.354679  ...    A1  26A32C19-6890-4999-A7F2-D8399A56E3B5.png\n",
              "\n",
              "[5 rows x 16 columns]"
            ]
          },
          "metadata": {},
          "execution_count": 628
        }
      ]
    },
    {
      "cell_type": "code",
      "source": [
        "table_A1Set2 = pd.read_excel(Set2, sheet_name='A1Set2 ')\n",
        "table_A1Set2.head()"
      ],
      "metadata": {
        "colab": {
          "base_uri": "https://localhost:8080/",
          "height": 0
        },
        "id": "0TfhE7XnOv5u",
        "outputId": "150ea1ed-ea5e-4e6f-9ec1-559881a24f70"
      },
      "execution_count": 629,
      "outputs": [
        {
          "output_type": "execute_result",
          "data": {
            "text/html": [
              "\n",
              "  <div id=\"df-ac64c126-713e-45f6-ab33-f6b0c0fba1ed\">\n",
              "    <div class=\"colab-df-container\">\n",
              "      <div>\n",
              "<style scoped>\n",
              "    .dataframe tbody tr th:only-of-type {\n",
              "        vertical-align: middle;\n",
              "    }\n",
              "\n",
              "    .dataframe tbody tr th {\n",
              "        vertical-align: top;\n",
              "    }\n",
              "\n",
              "    .dataframe thead th {\n",
              "        text-align: right;\n",
              "    }\n",
              "</style>\n",
              "<table border=\"1\" class=\"dataframe\">\n",
              "  <thead>\n",
              "    <tr style=\"text-align: right;\">\n",
              "      <th></th>\n",
              "      <th>R-ref</th>\n",
              "      <th>G-ref</th>\n",
              "      <th>B-ref</th>\n",
              "      <th>R-Shad</th>\n",
              "      <th>G-Shad</th>\n",
              "      <th>B-Shad</th>\n",
              "      <th>H-ref</th>\n",
              "      <th>S-ref</th>\n",
              "      <th>V-ref</th>\n",
              "      <th>H-Shad</th>\n",
              "      <th>S-Shad</th>\n",
              "      <th>V-Shad</th>\n",
              "      <th>Setting</th>\n",
              "      <th>Ref</th>\n",
              "      <th>Shad</th>\n",
              "      <th>Img</th>\n",
              "    </tr>\n",
              "  </thead>\n",
              "  <tbody>\n",
              "    <tr>\n",
              "      <th>0</th>\n",
              "      <td>239.261911</td>\n",
              "      <td>226.772178</td>\n",
              "      <td>193.540054</td>\n",
              "      <td>239.680321</td>\n",
              "      <td>227.425574</td>\n",
              "      <td>194.950928</td>\n",
              "      <td>21.848389</td>\n",
              "      <td>48.820144</td>\n",
              "      <td>239.261911</td>\n",
              "      <td>21.788351</td>\n",
              "      <td>47.702439</td>\n",
              "      <td>239.680321</td>\n",
              "      <td>Set1</td>\n",
              "      <td>A1</td>\n",
              "      <td>A1</td>\n",
              "      <td>1665B5AE-934F-4116-AE19-3369544A125F.png</td>\n",
              "    </tr>\n",
              "    <tr>\n",
              "      <th>1</th>\n",
              "      <td>238.432676</td>\n",
              "      <td>226.124909</td>\n",
              "      <td>192.415551</td>\n",
              "      <td>238.840410</td>\n",
              "      <td>226.726477</td>\n",
              "      <td>193.791053</td>\n",
              "      <td>22.034413</td>\n",
              "      <td>49.293320</td>\n",
              "      <td>238.432676</td>\n",
              "      <td>21.958893</td>\n",
              "      <td>48.209231</td>\n",
              "      <td>238.840410</td>\n",
              "      <td>Set1</td>\n",
              "      <td>A1</td>\n",
              "      <td>A1</td>\n",
              "      <td>47C127AF-8872-4A1E-9F72-082F72252B3F.png</td>\n",
              "    </tr>\n",
              "    <tr>\n",
              "      <th>2</th>\n",
              "      <td>238.783134</td>\n",
              "      <td>226.525201</td>\n",
              "      <td>193.025485</td>\n",
              "      <td>239.209800</td>\n",
              "      <td>227.131072</td>\n",
              "      <td>194.443994</td>\n",
              "      <td>21.989205</td>\n",
              "      <td>48.946108</td>\n",
              "      <td>238.783134</td>\n",
              "      <td>21.892611</td>\n",
              "      <td>47.829457</td>\n",
              "      <td>239.209800</td>\n",
              "      <td>Set1</td>\n",
              "      <td>A1</td>\n",
              "      <td>A1</td>\n",
              "      <td>15991304-7501-4377-BE6E-1B9AF5258FC1.png</td>\n",
              "    </tr>\n",
              "    <tr>\n",
              "      <th>3</th>\n",
              "      <td>238.943430</td>\n",
              "      <td>226.796039</td>\n",
              "      <td>192.905771</td>\n",
              "      <td>239.369177</td>\n",
              "      <td>227.383188</td>\n",
              "      <td>194.241875</td>\n",
              "      <td>22.138219</td>\n",
              "      <td>49.229040</td>\n",
              "      <td>238.943430</td>\n",
              "      <td>22.057108</td>\n",
              "      <td>48.200412</td>\n",
              "      <td>239.369177</td>\n",
              "      <td>Set1</td>\n",
              "      <td>A1</td>\n",
              "      <td>A1</td>\n",
              "      <td>5CE2CB9A-C765-4240-B3D3-E352B1581A1B.png</td>\n",
              "    </tr>\n",
              "    <tr>\n",
              "      <th>4</th>\n",
              "      <td>238.848145</td>\n",
              "      <td>226.354679</td>\n",
              "      <td>192.963720</td>\n",
              "      <td>239.291942</td>\n",
              "      <td>226.985207</td>\n",
              "      <td>194.387952</td>\n",
              "      <td>21.893109</td>\n",
              "      <td>49.072234</td>\n",
              "      <td>238.848145</td>\n",
              "      <td>21.792831</td>\n",
              "      <td>47.962023</td>\n",
              "      <td>239.291942</td>\n",
              "      <td>Set1</td>\n",
              "      <td>A1</td>\n",
              "      <td>A1</td>\n",
              "      <td>26A32C19-6890-4999-A7F2-D8399A56E3B5.png</td>\n",
              "    </tr>\n",
              "  </tbody>\n",
              "</table>\n",
              "</div>\n",
              "      <button class=\"colab-df-convert\" onclick=\"convertToInteractive('df-ac64c126-713e-45f6-ab33-f6b0c0fba1ed')\"\n",
              "              title=\"Convert this dataframe to an interactive table.\"\n",
              "              style=\"display:none;\">\n",
              "        \n",
              "  <svg xmlns=\"http://www.w3.org/2000/svg\" height=\"24px\"viewBox=\"0 0 24 24\"\n",
              "       width=\"24px\">\n",
              "    <path d=\"M0 0h24v24H0V0z\" fill=\"none\"/>\n",
              "    <path d=\"M18.56 5.44l.94 2.06.94-2.06 2.06-.94-2.06-.94-.94-2.06-.94 2.06-2.06.94zm-11 1L8.5 8.5l.94-2.06 2.06-.94-2.06-.94L8.5 2.5l-.94 2.06-2.06.94zm10 10l.94 2.06.94-2.06 2.06-.94-2.06-.94-.94-2.06-.94 2.06-2.06.94z\"/><path d=\"M17.41 7.96l-1.37-1.37c-.4-.4-.92-.59-1.43-.59-.52 0-1.04.2-1.43.59L10.3 9.45l-7.72 7.72c-.78.78-.78 2.05 0 2.83L4 21.41c.39.39.9.59 1.41.59.51 0 1.02-.2 1.41-.59l7.78-7.78 2.81-2.81c.8-.78.8-2.07 0-2.86zM5.41 20L4 18.59l7.72-7.72 1.47 1.35L5.41 20z\"/>\n",
              "  </svg>\n",
              "      </button>\n",
              "      \n",
              "  <style>\n",
              "    .colab-df-container {\n",
              "      display:flex;\n",
              "      flex-wrap:wrap;\n",
              "      gap: 12px;\n",
              "    }\n",
              "\n",
              "    .colab-df-convert {\n",
              "      background-color: #E8F0FE;\n",
              "      border: none;\n",
              "      border-radius: 50%;\n",
              "      cursor: pointer;\n",
              "      display: none;\n",
              "      fill: #1967D2;\n",
              "      height: 32px;\n",
              "      padding: 0 0 0 0;\n",
              "      width: 32px;\n",
              "    }\n",
              "\n",
              "    .colab-df-convert:hover {\n",
              "      background-color: #E2EBFA;\n",
              "      box-shadow: 0px 1px 2px rgba(60, 64, 67, 0.3), 0px 1px 3px 1px rgba(60, 64, 67, 0.15);\n",
              "      fill: #174EA6;\n",
              "    }\n",
              "\n",
              "    [theme=dark] .colab-df-convert {\n",
              "      background-color: #3B4455;\n",
              "      fill: #D2E3FC;\n",
              "    }\n",
              "\n",
              "    [theme=dark] .colab-df-convert:hover {\n",
              "      background-color: #434B5C;\n",
              "      box-shadow: 0px 1px 3px 1px rgba(0, 0, 0, 0.15);\n",
              "      filter: drop-shadow(0px 1px 2px rgba(0, 0, 0, 0.3));\n",
              "      fill: #FFFFFF;\n",
              "    }\n",
              "  </style>\n",
              "\n",
              "      <script>\n",
              "        const buttonEl =\n",
              "          document.querySelector('#df-ac64c126-713e-45f6-ab33-f6b0c0fba1ed button.colab-df-convert');\n",
              "        buttonEl.style.display =\n",
              "          google.colab.kernel.accessAllowed ? 'block' : 'none';\n",
              "\n",
              "        async function convertToInteractive(key) {\n",
              "          const element = document.querySelector('#df-ac64c126-713e-45f6-ab33-f6b0c0fba1ed');\n",
              "          const dataTable =\n",
              "            await google.colab.kernel.invokeFunction('convertToInteractive',\n",
              "                                                     [key], {});\n",
              "          if (!dataTable) return;\n",
              "\n",
              "          const docLinkHtml = 'Like what you see? Visit the ' +\n",
              "            '<a target=\"_blank\" href=https://colab.research.google.com/notebooks/data_table.ipynb>data table notebook</a>'\n",
              "            + ' to learn more about interactive tables.';\n",
              "          element.innerHTML = '';\n",
              "          dataTable['output_type'] = 'display_data';\n",
              "          await google.colab.output.renderOutput(dataTable, element);\n",
              "          const docLink = document.createElement('div');\n",
              "          docLink.innerHTML = docLinkHtml;\n",
              "          element.appendChild(docLink);\n",
              "        }\n",
              "      </script>\n",
              "    </div>\n",
              "  </div>\n",
              "  "
            ],
            "text/plain": [
              "        R-ref       G-ref  ...  Shad                                       Img\n",
              "0  239.261911  226.772178  ...    A1  1665B5AE-934F-4116-AE19-3369544A125F.png\n",
              "1  238.432676  226.124909  ...    A1  47C127AF-8872-4A1E-9F72-082F72252B3F.png\n",
              "2  238.783134  226.525201  ...    A1  15991304-7501-4377-BE6E-1B9AF5258FC1.png\n",
              "3  238.943430  226.796039  ...    A1  5CE2CB9A-C765-4240-B3D3-E352B1581A1B.png\n",
              "4  238.848145  226.354679  ...    A1  26A32C19-6890-4999-A7F2-D8399A56E3B5.png\n",
              "\n",
              "[5 rows x 16 columns]"
            ]
          },
          "metadata": {},
          "execution_count": 629
        }
      ]
    },
    {
      "cell_type": "code",
      "source": [
        "table_A1Set3 = pd.read_excel(Set3, sheet_name='A1Set3 ')\n",
        "table_A1Set3.head()"
      ],
      "metadata": {
        "colab": {
          "base_uri": "https://localhost:8080/",
          "height": 0
        },
        "id": "iiyvO6Q0OzrT",
        "outputId": "b91c412d-f62d-4fd0-f70c-5761a312cb92"
      },
      "execution_count": 630,
      "outputs": [
        {
          "output_type": "execute_result",
          "data": {
            "text/html": [
              "\n",
              "  <div id=\"df-ff3bb608-e964-4f31-a940-d878acf58695\">\n",
              "    <div class=\"colab-df-container\">\n",
              "      <div>\n",
              "<style scoped>\n",
              "    .dataframe tbody tr th:only-of-type {\n",
              "        vertical-align: middle;\n",
              "    }\n",
              "\n",
              "    .dataframe tbody tr th {\n",
              "        vertical-align: top;\n",
              "    }\n",
              "\n",
              "    .dataframe thead th {\n",
              "        text-align: right;\n",
              "    }\n",
              "</style>\n",
              "<table border=\"1\" class=\"dataframe\">\n",
              "  <thead>\n",
              "    <tr style=\"text-align: right;\">\n",
              "      <th></th>\n",
              "      <th>R-ref</th>\n",
              "      <th>G-ref</th>\n",
              "      <th>B-ref</th>\n",
              "      <th>R-Shad</th>\n",
              "      <th>G-Shad</th>\n",
              "      <th>B-Shad</th>\n",
              "      <th>H-ref</th>\n",
              "      <th>S-ref</th>\n",
              "      <th>V-ref</th>\n",
              "      <th>H-Shad</th>\n",
              "      <th>S-Shad</th>\n",
              "      <th>V-Shad</th>\n",
              "      <th>Setting</th>\n",
              "      <th>Ref</th>\n",
              "      <th>Shad</th>\n",
              "      <th>Img</th>\n",
              "    </tr>\n",
              "  </thead>\n",
              "  <tbody>\n",
              "    <tr>\n",
              "      <th>0</th>\n",
              "      <td>242.097708</td>\n",
              "      <td>230.045066</td>\n",
              "      <td>197.752525</td>\n",
              "      <td>237.360393</td>\n",
              "      <td>224.253915</td>\n",
              "      <td>190.496432</td>\n",
              "      <td>21.867618</td>\n",
              "      <td>46.779526</td>\n",
              "      <td>242.097708</td>\n",
              "      <td>21.487073</td>\n",
              "      <td>50.394959</td>\n",
              "      <td>237.360393</td>\n",
              "      <td>Set3</td>\n",
              "      <td>A1</td>\n",
              "      <td>A1</td>\n",
              "      <td>6CF2D4E8-1C13-4476-96FB-D618BCB119B7.png</td>\n",
              "    </tr>\n",
              "    <tr>\n",
              "      <th>1</th>\n",
              "      <td>241.384713</td>\n",
              "      <td>229.412879</td>\n",
              "      <td>196.570027</td>\n",
              "      <td>236.735798</td>\n",
              "      <td>223.657956</td>\n",
              "      <td>190.002873</td>\n",
              "      <td>22.034674</td>\n",
              "      <td>47.431527</td>\n",
              "      <td>241.384713</td>\n",
              "      <td>21.471967</td>\n",
              "      <td>50.415439</td>\n",
              "      <td>236.735798</td>\n",
              "      <td>Set3</td>\n",
              "      <td>A1</td>\n",
              "      <td>A1</td>\n",
              "      <td>787BE769-CA68-44C2-8899-D23018025CD8.png</td>\n",
              "    </tr>\n",
              "    <tr>\n",
              "      <th>2</th>\n",
              "      <td>241.642094</td>\n",
              "      <td>229.601301</td>\n",
              "      <td>197.312646</td>\n",
              "      <td>236.987304</td>\n",
              "      <td>224.070336</td>\n",
              "      <td>190.256417</td>\n",
              "      <td>21.848776</td>\n",
              "      <td>46.843046</td>\n",
              "      <td>241.642094</td>\n",
              "      <td>21.583449</td>\n",
              "      <td>50.356408</td>\n",
              "      <td>236.987304</td>\n",
              "      <td>Set3</td>\n",
              "      <td>A1</td>\n",
              "      <td>A1</td>\n",
              "      <td>E6125B9A-16C0-48C4-8EDD-9B488919BCCF.png</td>\n",
              "    </tr>\n",
              "    <tr>\n",
              "      <th>3</th>\n",
              "      <td>241.836053</td>\n",
              "      <td>229.881216</td>\n",
              "      <td>196.987665</td>\n",
              "      <td>236.912890</td>\n",
              "      <td>224.278936</td>\n",
              "      <td>189.873784</td>\n",
              "      <td>22.060703</td>\n",
              "      <td>47.367618</td>\n",
              "      <td>241.836053</td>\n",
              "      <td>21.928737</td>\n",
              "      <td>50.654249</td>\n",
              "      <td>236.912890</td>\n",
              "      <td>Set3</td>\n",
              "      <td>A1</td>\n",
              "      <td>A1</td>\n",
              "      <td>116812E7-7A6A-414F-876F-107C8BEF7D33.png</td>\n",
              "    </tr>\n",
              "    <tr>\n",
              "      <th>4</th>\n",
              "      <td>241.718434</td>\n",
              "      <td>229.483100</td>\n",
              "      <td>197.120144</td>\n",
              "      <td>236.738393</td>\n",
              "      <td>223.628209</td>\n",
              "      <td>190.118895</td>\n",
              "      <td>21.825369</td>\n",
              "      <td>47.105089</td>\n",
              "      <td>241.718434</td>\n",
              "      <td>21.482254</td>\n",
              "      <td>50.271986</td>\n",
              "      <td>236.738393</td>\n",
              "      <td>Set3</td>\n",
              "      <td>A1</td>\n",
              "      <td>A1</td>\n",
              "      <td>EF1A70C0-9B72-43EF-9272-24C3A1D0BFA8.png</td>\n",
              "    </tr>\n",
              "  </tbody>\n",
              "</table>\n",
              "</div>\n",
              "      <button class=\"colab-df-convert\" onclick=\"convertToInteractive('df-ff3bb608-e964-4f31-a940-d878acf58695')\"\n",
              "              title=\"Convert this dataframe to an interactive table.\"\n",
              "              style=\"display:none;\">\n",
              "        \n",
              "  <svg xmlns=\"http://www.w3.org/2000/svg\" height=\"24px\"viewBox=\"0 0 24 24\"\n",
              "       width=\"24px\">\n",
              "    <path d=\"M0 0h24v24H0V0z\" fill=\"none\"/>\n",
              "    <path d=\"M18.56 5.44l.94 2.06.94-2.06 2.06-.94-2.06-.94-.94-2.06-.94 2.06-2.06.94zm-11 1L8.5 8.5l.94-2.06 2.06-.94-2.06-.94L8.5 2.5l-.94 2.06-2.06.94zm10 10l.94 2.06.94-2.06 2.06-.94-2.06-.94-.94-2.06-.94 2.06-2.06.94z\"/><path d=\"M17.41 7.96l-1.37-1.37c-.4-.4-.92-.59-1.43-.59-.52 0-1.04.2-1.43.59L10.3 9.45l-7.72 7.72c-.78.78-.78 2.05 0 2.83L4 21.41c.39.39.9.59 1.41.59.51 0 1.02-.2 1.41-.59l7.78-7.78 2.81-2.81c.8-.78.8-2.07 0-2.86zM5.41 20L4 18.59l7.72-7.72 1.47 1.35L5.41 20z\"/>\n",
              "  </svg>\n",
              "      </button>\n",
              "      \n",
              "  <style>\n",
              "    .colab-df-container {\n",
              "      display:flex;\n",
              "      flex-wrap:wrap;\n",
              "      gap: 12px;\n",
              "    }\n",
              "\n",
              "    .colab-df-convert {\n",
              "      background-color: #E8F0FE;\n",
              "      border: none;\n",
              "      border-radius: 50%;\n",
              "      cursor: pointer;\n",
              "      display: none;\n",
              "      fill: #1967D2;\n",
              "      height: 32px;\n",
              "      padding: 0 0 0 0;\n",
              "      width: 32px;\n",
              "    }\n",
              "\n",
              "    .colab-df-convert:hover {\n",
              "      background-color: #E2EBFA;\n",
              "      box-shadow: 0px 1px 2px rgba(60, 64, 67, 0.3), 0px 1px 3px 1px rgba(60, 64, 67, 0.15);\n",
              "      fill: #174EA6;\n",
              "    }\n",
              "\n",
              "    [theme=dark] .colab-df-convert {\n",
              "      background-color: #3B4455;\n",
              "      fill: #D2E3FC;\n",
              "    }\n",
              "\n",
              "    [theme=dark] .colab-df-convert:hover {\n",
              "      background-color: #434B5C;\n",
              "      box-shadow: 0px 1px 3px 1px rgba(0, 0, 0, 0.15);\n",
              "      filter: drop-shadow(0px 1px 2px rgba(0, 0, 0, 0.3));\n",
              "      fill: #FFFFFF;\n",
              "    }\n",
              "  </style>\n",
              "\n",
              "      <script>\n",
              "        const buttonEl =\n",
              "          document.querySelector('#df-ff3bb608-e964-4f31-a940-d878acf58695 button.colab-df-convert');\n",
              "        buttonEl.style.display =\n",
              "          google.colab.kernel.accessAllowed ? 'block' : 'none';\n",
              "\n",
              "        async function convertToInteractive(key) {\n",
              "          const element = document.querySelector('#df-ff3bb608-e964-4f31-a940-d878acf58695');\n",
              "          const dataTable =\n",
              "            await google.colab.kernel.invokeFunction('convertToInteractive',\n",
              "                                                     [key], {});\n",
              "          if (!dataTable) return;\n",
              "\n",
              "          const docLinkHtml = 'Like what you see? Visit the ' +\n",
              "            '<a target=\"_blank\" href=https://colab.research.google.com/notebooks/data_table.ipynb>data table notebook</a>'\n",
              "            + ' to learn more about interactive tables.';\n",
              "          element.innerHTML = '';\n",
              "          dataTable['output_type'] = 'display_data';\n",
              "          await google.colab.output.renderOutput(dataTable, element);\n",
              "          const docLink = document.createElement('div');\n",
              "          docLink.innerHTML = docLinkHtml;\n",
              "          element.appendChild(docLink);\n",
              "        }\n",
              "      </script>\n",
              "    </div>\n",
              "  </div>\n",
              "  "
            ],
            "text/plain": [
              "        R-ref       G-ref  ...  Shad                                       Img\n",
              "0  242.097708  230.045066  ...    A1  6CF2D4E8-1C13-4476-96FB-D618BCB119B7.png\n",
              "1  241.384713  229.412879  ...    A1  787BE769-CA68-44C2-8899-D23018025CD8.png\n",
              "2  241.642094  229.601301  ...    A1  E6125B9A-16C0-48C4-8EDD-9B488919BCCF.png\n",
              "3  241.836053  229.881216  ...    A1  116812E7-7A6A-414F-876F-107C8BEF7D33.png\n",
              "4  241.718434  229.483100  ...    A1  EF1A70C0-9B72-43EF-9272-24C3A1D0BFA8.png\n",
              "\n",
              "[5 rows x 16 columns]"
            ]
          },
          "metadata": {},
          "execution_count": 630
        }
      ]
    },
    {
      "cell_type": "code",
      "source": [
        "table_A1Set4 = pd.read_excel(Set4, sheet_name='A1Set4 ')\n",
        "table_A1Set4.head()"
      ],
      "metadata": {
        "colab": {
          "base_uri": "https://localhost:8080/",
          "height": 0
        },
        "id": "s-S1lyySO0aw",
        "outputId": "c98d79b2-11d5-4483-f4cc-50f9a365f662"
      },
      "execution_count": 631,
      "outputs": [
        {
          "output_type": "execute_result",
          "data": {
            "text/html": [
              "\n",
              "  <div id=\"df-345ead79-8225-4406-adc2-d31cb4cdfc86\">\n",
              "    <div class=\"colab-df-container\">\n",
              "      <div>\n",
              "<style scoped>\n",
              "    .dataframe tbody tr th:only-of-type {\n",
              "        vertical-align: middle;\n",
              "    }\n",
              "\n",
              "    .dataframe tbody tr th {\n",
              "        vertical-align: top;\n",
              "    }\n",
              "\n",
              "    .dataframe thead th {\n",
              "        text-align: right;\n",
              "    }\n",
              "</style>\n",
              "<table border=\"1\" class=\"dataframe\">\n",
              "  <thead>\n",
              "    <tr style=\"text-align: right;\">\n",
              "      <th></th>\n",
              "      <th>R-ref</th>\n",
              "      <th>G-ref</th>\n",
              "      <th>B-ref</th>\n",
              "      <th>R-Shad</th>\n",
              "      <th>G-Shad</th>\n",
              "      <th>B-Shad</th>\n",
              "      <th>H-ref</th>\n",
              "      <th>S-ref</th>\n",
              "      <th>V-ref</th>\n",
              "      <th>H-Shad</th>\n",
              "      <th>S-Shad</th>\n",
              "      <th>V-Shad</th>\n",
              "      <th>Setting</th>\n",
              "      <th>Ref</th>\n",
              "      <th>Shad</th>\n",
              "      <th>Img</th>\n",
              "    </tr>\n",
              "  </thead>\n",
              "  <tbody>\n",
              "    <tr>\n",
              "      <th>0</th>\n",
              "      <td>231.203768</td>\n",
              "      <td>214.152486</td>\n",
              "      <td>170.072455</td>\n",
              "      <td>228.758132</td>\n",
              "      <td>211.784079</td>\n",
              "      <td>168.495320</td>\n",
              "      <td>22.000000</td>\n",
              "      <td>67.438034</td>\n",
              "      <td>231.203768</td>\n",
              "      <td>22.000000</td>\n",
              "      <td>67.199889</td>\n",
              "      <td>228.758132</td>\n",
              "      <td>Set4</td>\n",
              "      <td>A1</td>\n",
              "      <td>A1</td>\n",
              "      <td>C3752024-70F6-407B-B596-E214E55D43EB.png</td>\n",
              "    </tr>\n",
              "    <tr>\n",
              "      <th>1</th>\n",
              "      <td>226.316628</td>\n",
              "      <td>208.979118</td>\n",
              "      <td>164.679681</td>\n",
              "      <td>224.092021</td>\n",
              "      <td>206.864053</td>\n",
              "      <td>164.404504</td>\n",
              "      <td>21.849068</td>\n",
              "      <td>69.458819</td>\n",
              "      <td>226.316628</td>\n",
              "      <td>21.675841</td>\n",
              "      <td>67.943008</td>\n",
              "      <td>224.092021</td>\n",
              "      <td>Set4</td>\n",
              "      <td>A1</td>\n",
              "      <td>A1</td>\n",
              "      <td>3251DE85-8D7F-4AED-B90C-7B20C3559811.png</td>\n",
              "    </tr>\n",
              "    <tr>\n",
              "      <th>2</th>\n",
              "      <td>231.688520</td>\n",
              "      <td>213.571581</td>\n",
              "      <td>169.254565</td>\n",
              "      <td>229.496896</td>\n",
              "      <td>212.441294</td>\n",
              "      <td>168.527940</td>\n",
              "      <td>21.598485</td>\n",
              "      <td>68.691919</td>\n",
              "      <td>231.688520</td>\n",
              "      <td>21.972199</td>\n",
              "      <td>67.759614</td>\n",
              "      <td>229.496896</td>\n",
              "      <td>Set4</td>\n",
              "      <td>A1</td>\n",
              "      <td>A1</td>\n",
              "      <td>CA4551E2-6E87-4618-9646-2F81E76E705B.png</td>\n",
              "    </tr>\n",
              "    <tr>\n",
              "      <th>3</th>\n",
              "      <td>232.097902</td>\n",
              "      <td>213.545843</td>\n",
              "      <td>169.568959</td>\n",
              "      <td>229.993698</td>\n",
              "      <td>211.219535</td>\n",
              "      <td>168.097025</td>\n",
              "      <td>21.372378</td>\n",
              "      <td>68.709207</td>\n",
              "      <td>232.097902</td>\n",
              "      <td>21.121583</td>\n",
              "      <td>68.644055</td>\n",
              "      <td>229.993698</td>\n",
              "      <td>Set4</td>\n",
              "      <td>A1</td>\n",
              "      <td>A1</td>\n",
              "      <td>56C5CD77-8D8E-4098-84F3-E1EAE1DB9B01.png</td>\n",
              "    </tr>\n",
              "    <tr>\n",
              "      <th>4</th>\n",
              "      <td>231.566045</td>\n",
              "      <td>212.888889</td>\n",
              "      <td>169.670940</td>\n",
              "      <td>229.052914</td>\n",
              "      <td>211.865351</td>\n",
              "      <td>168.813085</td>\n",
              "      <td>21.175796</td>\n",
              "      <td>68.169483</td>\n",
              "      <td>231.566045</td>\n",
              "      <td>21.906218</td>\n",
              "      <td>67.109814</td>\n",
              "      <td>229.052914</td>\n",
              "      <td>Set4</td>\n",
              "      <td>A1</td>\n",
              "      <td>A1</td>\n",
              "      <td>FBB7194F-AE4D-4A46-81F5-FCEB5994D3C5.png</td>\n",
              "    </tr>\n",
              "  </tbody>\n",
              "</table>\n",
              "</div>\n",
              "      <button class=\"colab-df-convert\" onclick=\"convertToInteractive('df-345ead79-8225-4406-adc2-d31cb4cdfc86')\"\n",
              "              title=\"Convert this dataframe to an interactive table.\"\n",
              "              style=\"display:none;\">\n",
              "        \n",
              "  <svg xmlns=\"http://www.w3.org/2000/svg\" height=\"24px\"viewBox=\"0 0 24 24\"\n",
              "       width=\"24px\">\n",
              "    <path d=\"M0 0h24v24H0V0z\" fill=\"none\"/>\n",
              "    <path d=\"M18.56 5.44l.94 2.06.94-2.06 2.06-.94-2.06-.94-.94-2.06-.94 2.06-2.06.94zm-11 1L8.5 8.5l.94-2.06 2.06-.94-2.06-.94L8.5 2.5l-.94 2.06-2.06.94zm10 10l.94 2.06.94-2.06 2.06-.94-2.06-.94-.94-2.06-.94 2.06-2.06.94z\"/><path d=\"M17.41 7.96l-1.37-1.37c-.4-.4-.92-.59-1.43-.59-.52 0-1.04.2-1.43.59L10.3 9.45l-7.72 7.72c-.78.78-.78 2.05 0 2.83L4 21.41c.39.39.9.59 1.41.59.51 0 1.02-.2 1.41-.59l7.78-7.78 2.81-2.81c.8-.78.8-2.07 0-2.86zM5.41 20L4 18.59l7.72-7.72 1.47 1.35L5.41 20z\"/>\n",
              "  </svg>\n",
              "      </button>\n",
              "      \n",
              "  <style>\n",
              "    .colab-df-container {\n",
              "      display:flex;\n",
              "      flex-wrap:wrap;\n",
              "      gap: 12px;\n",
              "    }\n",
              "\n",
              "    .colab-df-convert {\n",
              "      background-color: #E8F0FE;\n",
              "      border: none;\n",
              "      border-radius: 50%;\n",
              "      cursor: pointer;\n",
              "      display: none;\n",
              "      fill: #1967D2;\n",
              "      height: 32px;\n",
              "      padding: 0 0 0 0;\n",
              "      width: 32px;\n",
              "    }\n",
              "\n",
              "    .colab-df-convert:hover {\n",
              "      background-color: #E2EBFA;\n",
              "      box-shadow: 0px 1px 2px rgba(60, 64, 67, 0.3), 0px 1px 3px 1px rgba(60, 64, 67, 0.15);\n",
              "      fill: #174EA6;\n",
              "    }\n",
              "\n",
              "    [theme=dark] .colab-df-convert {\n",
              "      background-color: #3B4455;\n",
              "      fill: #D2E3FC;\n",
              "    }\n",
              "\n",
              "    [theme=dark] .colab-df-convert:hover {\n",
              "      background-color: #434B5C;\n",
              "      box-shadow: 0px 1px 3px 1px rgba(0, 0, 0, 0.15);\n",
              "      filter: drop-shadow(0px 1px 2px rgba(0, 0, 0, 0.3));\n",
              "      fill: #FFFFFF;\n",
              "    }\n",
              "  </style>\n",
              "\n",
              "      <script>\n",
              "        const buttonEl =\n",
              "          document.querySelector('#df-345ead79-8225-4406-adc2-d31cb4cdfc86 button.colab-df-convert');\n",
              "        buttonEl.style.display =\n",
              "          google.colab.kernel.accessAllowed ? 'block' : 'none';\n",
              "\n",
              "        async function convertToInteractive(key) {\n",
              "          const element = document.querySelector('#df-345ead79-8225-4406-adc2-d31cb4cdfc86');\n",
              "          const dataTable =\n",
              "            await google.colab.kernel.invokeFunction('convertToInteractive',\n",
              "                                                     [key], {});\n",
              "          if (!dataTable) return;\n",
              "\n",
              "          const docLinkHtml = 'Like what you see? Visit the ' +\n",
              "            '<a target=\"_blank\" href=https://colab.research.google.com/notebooks/data_table.ipynb>data table notebook</a>'\n",
              "            + ' to learn more about interactive tables.';\n",
              "          element.innerHTML = '';\n",
              "          dataTable['output_type'] = 'display_data';\n",
              "          await google.colab.output.renderOutput(dataTable, element);\n",
              "          const docLink = document.createElement('div');\n",
              "          docLink.innerHTML = docLinkHtml;\n",
              "          element.appendChild(docLink);\n",
              "        }\n",
              "      </script>\n",
              "    </div>\n",
              "  </div>\n",
              "  "
            ],
            "text/plain": [
              "        R-ref       G-ref  ...  Shad                                       Img\n",
              "0  231.203768  214.152486  ...    A1  C3752024-70F6-407B-B596-E214E55D43EB.png\n",
              "1  226.316628  208.979118  ...    A1  3251DE85-8D7F-4AED-B90C-7B20C3559811.png\n",
              "2  231.688520  213.571581  ...    A1  CA4551E2-6E87-4618-9646-2F81E76E705B.png\n",
              "3  232.097902  213.545843  ...    A1  56C5CD77-8D8E-4098-84F3-E1EAE1DB9B01.png\n",
              "4  231.566045  212.888889  ...    A1  FBB7194F-AE4D-4A46-81F5-FCEB5994D3C5.png\n",
              "\n",
              "[5 rows x 16 columns]"
            ]
          },
          "metadata": {},
          "execution_count": 631
        }
      ]
    },
    {
      "cell_type": "markdown",
      "source": [
        "###RGB"
      ],
      "metadata": {
        "id": "LxojQbqFpTUM"
      }
    },
    {
      "cell_type": "code",
      "source": [
        "print(table_A1Set1.columns)"
      ],
      "metadata": {
        "colab": {
          "base_uri": "https://localhost:8080/"
        },
        "id": "95UXhEeRVQri",
        "outputId": "97a4a5ff-7660-4693-9f05-e22e61a3c171"
      },
      "execution_count": 632,
      "outputs": [
        {
          "output_type": "stream",
          "name": "stdout",
          "text": [
            "Index(['R-ref', 'G-ref', 'B-ref', 'R-Shad', 'G-Shad', 'B-Shad', 'H-ref',\n",
            "       'S-ref', 'V-ref', 'H-Shad', 'S-Shad', 'V-Shad', 'Setting', 'Ref',\n",
            "       'Shad', 'Img'],\n",
            "      dtype='object')\n"
          ]
        }
      ]
    },
    {
      "cell_type": "code",
      "source": [
        "RGB_A1_Set1 = table_A1Set1.drop(['H-ref','S-ref','V-ref','H-Shad','S-Shad','V-Shad','Setting','Ref','Shad','Img'], axis=1)"
      ],
      "metadata": {
        "id": "h0FecxGxmtCy"
      },
      "execution_count": 633,
      "outputs": []
    },
    {
      "cell_type": "code",
      "source": [
        "RGB_A1_Set2 = table_A1Set2"
      ],
      "metadata": {
        "id": "D9h9n4jkdL1r"
      },
      "execution_count": 634,
      "outputs": []
    },
    {
      "cell_type": "code",
      "source": [
        "RGB_A1_Set3 = table_A1Set3"
      ],
      "metadata": {
        "id": "Y2qWZWDIdRRI"
      },
      "execution_count": 635,
      "outputs": []
    },
    {
      "cell_type": "code",
      "source": [
        "RGB_A1_Set4 = table_A1Set4"
      ],
      "metadata": {
        "id": "a6ElSw7hdSPA"
      },
      "execution_count": 636,
      "outputs": []
    },
    {
      "cell_type": "code",
      "source": [
        "RGB_A1_concat0 = pd.concat([RGB_A1_Set2,RGB_A1_Set3])"
      ],
      "metadata": {
        "id": "ZK-usnpxTLLA"
      },
      "execution_count": 637,
      "outputs": []
    },
    {
      "cell_type": "code",
      "source": [
        "RGB_A1_concat1 = pd.concat([RGB_A1_concat0,RGB_A1_Set4])"
      ],
      "metadata": {
        "id": "b3sI_ty5Tjy8"
      },
      "execution_count": 638,
      "outputs": []
    },
    {
      "cell_type": "code",
      "source": [
        "RGB_A1_concat2 = RGB_A1_concat1.drop(['H-ref','S-ref','V-ref','H-Shad','S-Shad','V-Shad','Setting','Ref','Shad','Img'], axis=1)"
      ],
      "metadata": {
        "id": "95ONqxerdBWi"
      },
      "execution_count": 639,
      "outputs": []
    },
    {
      "cell_type": "code",
      "source": [
        "X_test_A1_RGB = np.array(RGB_A1_Set1)"
      ],
      "metadata": {
        "id": "F-rsrKMgmzB0"
      },
      "execution_count": 640,
      "outputs": []
    },
    {
      "cell_type": "code",
      "source": [
        "y_A1_RGB =  table_Set1.iloc[:,14:15]"
      ],
      "metadata": {
        "id": "rKF5S9Avm12o"
      },
      "execution_count": 641,
      "outputs": []
    },
    {
      "cell_type": "code",
      "source": [
        "y_test_A1_RGB = np.array(y_A1_RGB)"
      ],
      "metadata": {
        "id": "Npm36S98m3rP"
      },
      "execution_count": 642,
      "outputs": []
    },
    {
      "cell_type": "code",
      "source": [
        "X_train_A1_RGB = np.array(RGB_A1_concat2)"
      ],
      "metadata": {
        "id": "YEMNVxBuRY91"
      },
      "execution_count": 643,
      "outputs": []
    },
    {
      "cell_type": "code",
      "source": [
        "y_train_A1RGB = RGB_A1_concat1.iloc[:,14:15]"
      ],
      "metadata": {
        "id": "26eEjR0NST9_"
      },
      "execution_count": 644,
      "outputs": []
    },
    {
      "cell_type": "code",
      "source": [
        "y_train_A1_RGB = np.array(y_train_A1RGB)"
      ],
      "metadata": {
        "id": "tfS8S3YoWhP0"
      },
      "execution_count": 645,
      "outputs": []
    },
    {
      "cell_type": "code",
      "source": [
        "X_train_A1_RGB.shape"
      ],
      "metadata": {
        "colab": {
          "base_uri": "https://localhost:8080/"
        },
        "id": "yyMDPdekbSFm",
        "outputId": "69250a0c-5533-4b36-cbfd-4414075c9491"
      },
      "execution_count": 646,
      "outputs": [
        {
          "output_type": "execute_result",
          "data": {
            "text/plain": [
              "(2400, 6)"
            ]
          },
          "metadata": {},
          "execution_count": 646
        }
      ]
    },
    {
      "cell_type": "code",
      "source": [
        "y_train_A1_RGB.shape"
      ],
      "metadata": {
        "colab": {
          "base_uri": "https://localhost:8080/"
        },
        "id": "W5AYoIAObUwV",
        "outputId": "5121695c-5122-4ae2-d428-a8955e7c97b8"
      },
      "execution_count": 647,
      "outputs": [
        {
          "output_type": "execute_result",
          "data": {
            "text/plain": [
              "(2400, 1)"
            ]
          },
          "metadata": {},
          "execution_count": 647
        }
      ]
    },
    {
      "cell_type": "code",
      "source": [
        "clf.fit(X_train_A1_RGB, y_train_A1_RGB)"
      ],
      "metadata": {
        "colab": {
          "base_uri": "https://localhost:8080/"
        },
        "id": "T-I2pW10ngfz",
        "outputId": "f6e07a50-eb18-4edc-c3cd-a74708df095e"
      },
      "execution_count": 648,
      "outputs": [
        {
          "output_type": "stream",
          "name": "stderr",
          "text": [
            "/usr/local/lib/python3.7/dist-packages/ipykernel_launcher.py:1: DataConversionWarning: A column-vector y was passed when a 1d array was expected. Please change the shape of y to (n_samples,), for example using ravel().\n",
            "  \"\"\"Entry point for launching an IPython kernel.\n"
          ]
        },
        {
          "output_type": "execute_result",
          "data": {
            "text/plain": [
              "RandomForestClassifier()"
            ]
          },
          "metadata": {},
          "execution_count": 648
        }
      ]
    },
    {
      "cell_type": "code",
      "source": [
        "y_pred_A1_RGB = clf.predict(X_test_A1_RGB)"
      ],
      "metadata": {
        "id": "LvFH-syKnnsz"
      },
      "execution_count": 649,
      "outputs": []
    },
    {
      "cell_type": "code",
      "source": [
        "print(\"Accuracy:\", metrics.accuracy_score(y_test_A1_RGB, y_pred_A1_RGB))"
      ],
      "metadata": {
        "colab": {
          "base_uri": "https://localhost:8080/"
        },
        "id": "J-QZQZRNnqMX",
        "outputId": "6d3aec7d-7524-4717-a6d1-df5ffcec4ad1"
      },
      "execution_count": 650,
      "outputs": [
        {
          "output_type": "stream",
          "name": "stdout",
          "text": [
            "Accuracy: 1.0\n"
          ]
        }
      ]
    },
    {
      "cell_type": "markdown",
      "source": [
        "###HSV"
      ],
      "metadata": {
        "id": "6wkSA8JTpWNG"
      }
    },
    {
      "cell_type": "code",
      "source": [
        "print(table_Set1.columns)"
      ],
      "metadata": {
        "colab": {
          "base_uri": "https://localhost:8080/"
        },
        "id": "1TO7-xnmegBE",
        "outputId": "0c10cd4b-d771-437c-f654-3ef31628f553"
      },
      "execution_count": 651,
      "outputs": [
        {
          "output_type": "stream",
          "name": "stdout",
          "text": [
            "Index(['R-ref', 'G-ref', 'B-ref', 'R-Shad', 'G-Shad', 'B-Shad', 'H-ref',\n",
            "       'S-ref', 'V-ref', 'H-Shad', 'S-Shad', 'V-Shad', 'Setting', 'Ref',\n",
            "       'Shad', 'Img'],\n",
            "      dtype='object')\n"
          ]
        }
      ]
    },
    {
      "cell_type": "code",
      "source": [
        "HSV_A1_Set1 = table_A1Set1.drop(['R-ref','G-ref','B-ref','R-Shad','G-Shad','B-Shad','Setting','Ref','Shad','Img'], axis=1)"
      ],
      "metadata": {
        "id": "GwLqFk3BpYGn"
      },
      "execution_count": 652,
      "outputs": []
    },
    {
      "cell_type": "code",
      "source": [
        "HSV_A1_concat2 = RGB_A1_concat1.drop(['R-ref','G-ref','B-ref','R-Shad','G-Shad','B-Shad','Setting','Ref','Shad','Img'], axis=1)"
      ],
      "metadata": {
        "id": "zXSdWKdcfBug"
      },
      "execution_count": 653,
      "outputs": []
    },
    {
      "cell_type": "code",
      "source": [
        "X_test_A1_HSV = np.array(HSV_A1_Set1)"
      ],
      "metadata": {
        "id": "DezEsJCOfBug"
      },
      "execution_count": 654,
      "outputs": []
    },
    {
      "cell_type": "code",
      "source": [
        "y_A1_HSV =  table_Set1.iloc[:,14:15]"
      ],
      "metadata": {
        "id": "a1R8xdYMfBuh"
      },
      "execution_count": 655,
      "outputs": []
    },
    {
      "cell_type": "code",
      "source": [
        "y_test_A1_HSV = np.array(y_A1_RGB)"
      ],
      "metadata": {
        "id": "138f1Z13fBuh"
      },
      "execution_count": 656,
      "outputs": []
    },
    {
      "cell_type": "code",
      "source": [
        "X_train_A1_HSV = np.array(HSV_A1_concat2)"
      ],
      "metadata": {
        "id": "K7ExFh6MfBuh"
      },
      "execution_count": 657,
      "outputs": []
    },
    {
      "cell_type": "code",
      "source": [
        "y_train_A1HSV = RGB_A1_concat1.iloc[:,14:15]"
      ],
      "metadata": {
        "id": "ZgMS56ESfBuh"
      },
      "execution_count": 658,
      "outputs": []
    },
    {
      "cell_type": "code",
      "source": [
        "y_train_A1_HSV = np.array(y_train_A1HSV)"
      ],
      "metadata": {
        "id": "8sl2Ia6qfBuh"
      },
      "execution_count": 659,
      "outputs": []
    },
    {
      "cell_type": "code",
      "source": [
        "X_train_A1_HSV.shape"
      ],
      "metadata": {
        "colab": {
          "base_uri": "https://localhost:8080/"
        },
        "outputId": "8853052d-563e-4118-eba6-af8e90be6823",
        "id": "A5wFqehSfBuh"
      },
      "execution_count": 660,
      "outputs": [
        {
          "output_type": "execute_result",
          "data": {
            "text/plain": [
              "(2400, 6)"
            ]
          },
          "metadata": {},
          "execution_count": 660
        }
      ]
    },
    {
      "cell_type": "code",
      "source": [
        "y_train_A1_HSV.shape"
      ],
      "metadata": {
        "colab": {
          "base_uri": "https://localhost:8080/"
        },
        "outputId": "4a34c4dc-7755-466b-9d11-4ae4517b0ef5",
        "id": "UAsp6JjAfBuh"
      },
      "execution_count": 661,
      "outputs": [
        {
          "output_type": "execute_result",
          "data": {
            "text/plain": [
              "(2400, 1)"
            ]
          },
          "metadata": {},
          "execution_count": 661
        }
      ]
    },
    {
      "cell_type": "code",
      "source": [
        "clf.fit(X_train_A1_HSV, y_train_A1_HSV)"
      ],
      "metadata": {
        "colab": {
          "base_uri": "https://localhost:8080/"
        },
        "outputId": "db314c23-45ab-42bf-c1c5-4a7c0e9d48ea",
        "id": "FUI3dQ0pfBui"
      },
      "execution_count": 662,
      "outputs": [
        {
          "output_type": "stream",
          "name": "stderr",
          "text": [
            "/usr/local/lib/python3.7/dist-packages/ipykernel_launcher.py:1: DataConversionWarning: A column-vector y was passed when a 1d array was expected. Please change the shape of y to (n_samples,), for example using ravel().\n",
            "  \"\"\"Entry point for launching an IPython kernel.\n"
          ]
        },
        {
          "output_type": "execute_result",
          "data": {
            "text/plain": [
              "RandomForestClassifier()"
            ]
          },
          "metadata": {},
          "execution_count": 662
        }
      ]
    },
    {
      "cell_type": "code",
      "source": [
        "y_pred_A1_HSV = clf.predict(X_test_A1_HSV)"
      ],
      "metadata": {
        "id": "t7dNTf5WfBui"
      },
      "execution_count": 663,
      "outputs": []
    },
    {
      "cell_type": "code",
      "source": [
        "print(\"Accuracy:\", metrics.accuracy_score(y_test_A1_HSV, y_pred_A1_HSV))"
      ],
      "metadata": {
        "colab": {
          "base_uri": "https://localhost:8080/"
        },
        "outputId": "4c736664-7f18-406a-9cac-ee88302ee0b8",
        "id": "bsklFwLqfBui"
      },
      "execution_count": 664,
      "outputs": [
        {
          "output_type": "stream",
          "name": "stdout",
          "text": [
            "Accuracy: 1.0\n"
          ]
        }
      ]
    },
    {
      "cell_type": "markdown",
      "source": [
        "##A2"
      ],
      "metadata": {
        "id": "YiCpdmgVfsgl"
      }
    },
    {
      "cell_type": "code",
      "source": [
        "table_A2Set1 = pd.read_excel(Set1 , sheet_name='A2Set1')\n",
        "table_A2Set1.head()"
      ],
      "metadata": {
        "colab": {
          "base_uri": "https://localhost:8080/",
          "height": 0
        },
        "outputId": "e215b362-0957-45d7-b125-90b76a55efe3",
        "id": "cQqaNLeMfsgm"
      },
      "execution_count": 665,
      "outputs": [
        {
          "output_type": "execute_result",
          "data": {
            "text/html": [
              "\n",
              "  <div id=\"df-fcbbffeb-fb61-4670-916d-0492a91b0580\">\n",
              "    <div class=\"colab-df-container\">\n",
              "      <div>\n",
              "<style scoped>\n",
              "    .dataframe tbody tr th:only-of-type {\n",
              "        vertical-align: middle;\n",
              "    }\n",
              "\n",
              "    .dataframe tbody tr th {\n",
              "        vertical-align: top;\n",
              "    }\n",
              "\n",
              "    .dataframe thead th {\n",
              "        text-align: right;\n",
              "    }\n",
              "</style>\n",
              "<table border=\"1\" class=\"dataframe\">\n",
              "  <thead>\n",
              "    <tr style=\"text-align: right;\">\n",
              "      <th></th>\n",
              "      <th>R-ref</th>\n",
              "      <th>G-ref</th>\n",
              "      <th>B-ref</th>\n",
              "      <th>R-Shad</th>\n",
              "      <th>G-Shad</th>\n",
              "      <th>B-Shad</th>\n",
              "      <th>H-ref</th>\n",
              "      <th>S-ref</th>\n",
              "      <th>V-ref</th>\n",
              "      <th>H-Shad</th>\n",
              "      <th>S-Shad</th>\n",
              "      <th>V-Shad</th>\n",
              "      <th>Setting</th>\n",
              "      <th>Ref</th>\n",
              "      <th>Shad</th>\n",
              "      <th>Img</th>\n",
              "    </tr>\n",
              "  </thead>\n",
              "  <tbody>\n",
              "    <tr>\n",
              "      <th>0</th>\n",
              "      <td>240.776127</td>\n",
              "      <td>228.569056</td>\n",
              "      <td>196.092172</td>\n",
              "      <td>235.796034</td>\n",
              "      <td>222.578816</td>\n",
              "      <td>188.819387</td>\n",
              "      <td>21.822941</td>\n",
              "      <td>47.398116</td>\n",
              "      <td>240.776127</td>\n",
              "      <td>21.450931</td>\n",
              "      <td>50.859976</td>\n",
              "      <td>235.796034</td>\n",
              "      <td>Set1</td>\n",
              "      <td>A2</td>\n",
              "      <td>A1</td>\n",
              "      <td>77308B8C-A458-48C0-A0EF-DD05DD0AEA75.png</td>\n",
              "    </tr>\n",
              "    <tr>\n",
              "      <th>1</th>\n",
              "      <td>240.009518</td>\n",
              "      <td>227.942113</td>\n",
              "      <td>194.954643</td>\n",
              "      <td>235.117969</td>\n",
              "      <td>222.016403</td>\n",
              "      <td>188.172644</td>\n",
              "      <td>22.010004</td>\n",
              "      <td>47.944639</td>\n",
              "      <td>240.009518</td>\n",
              "      <td>21.528589</td>\n",
              "      <td>50.992216</td>\n",
              "      <td>235.117969</td>\n",
              "      <td>Set1</td>\n",
              "      <td>A2</td>\n",
              "      <td>A1</td>\n",
              "      <td>DD37E60E-8484-48E3-8FB4-7E94B71553F4.png</td>\n",
              "    </tr>\n",
              "    <tr>\n",
              "      <th>2</th>\n",
              "      <td>240.346445</td>\n",
              "      <td>228.310120</td>\n",
              "      <td>195.661131</td>\n",
              "      <td>235.338338</td>\n",
              "      <td>222.423594</td>\n",
              "      <td>188.336669</td>\n",
              "      <td>21.910645</td>\n",
              "      <td>47.472125</td>\n",
              "      <td>240.346445</td>\n",
              "      <td>21.669539</td>\n",
              "      <td>51.015105</td>\n",
              "      <td>235.338338</td>\n",
              "      <td>Set1</td>\n",
              "      <td>A2</td>\n",
              "      <td>A1</td>\n",
              "      <td>0ED6DB80-7C02-41B3-88E9-CB382B96B37C.png</td>\n",
              "    </tr>\n",
              "    <tr>\n",
              "      <th>3</th>\n",
              "      <td>240.529040</td>\n",
              "      <td>228.597708</td>\n",
              "      <td>195.432692</td>\n",
              "      <td>235.186544</td>\n",
              "      <td>222.619683</td>\n",
              "      <td>188.066908</td>\n",
              "      <td>22.094600</td>\n",
              "      <td>47.893454</td>\n",
              "      <td>240.529040</td>\n",
              "      <td>21.995367</td>\n",
              "      <td>51.136503</td>\n",
              "      <td>235.186544</td>\n",
              "      <td>Set1</td>\n",
              "      <td>A2</td>\n",
              "      <td>A1</td>\n",
              "      <td>8B551D28-1E87-49BD-9E20-8B3F5F08FE8E.png</td>\n",
              "    </tr>\n",
              "    <tr>\n",
              "      <th>4</th>\n",
              "      <td>240.453768</td>\n",
              "      <td>228.207459</td>\n",
              "      <td>195.588287</td>\n",
              "      <td>234.982485</td>\n",
              "      <td>221.887499</td>\n",
              "      <td>188.143268</td>\n",
              "      <td>21.861985</td>\n",
              "      <td>47.644522</td>\n",
              "      <td>240.453768</td>\n",
              "      <td>21.579279</td>\n",
              "      <td>50.881290</td>\n",
              "      <td>234.982485</td>\n",
              "      <td>Set1</td>\n",
              "      <td>A2</td>\n",
              "      <td>A1</td>\n",
              "      <td>C12D1E9C-5BFA-4DD7-9D3F-194378F9673D.png</td>\n",
              "    </tr>\n",
              "  </tbody>\n",
              "</table>\n",
              "</div>\n",
              "      <button class=\"colab-df-convert\" onclick=\"convertToInteractive('df-fcbbffeb-fb61-4670-916d-0492a91b0580')\"\n",
              "              title=\"Convert this dataframe to an interactive table.\"\n",
              "              style=\"display:none;\">\n",
              "        \n",
              "  <svg xmlns=\"http://www.w3.org/2000/svg\" height=\"24px\"viewBox=\"0 0 24 24\"\n",
              "       width=\"24px\">\n",
              "    <path d=\"M0 0h24v24H0V0z\" fill=\"none\"/>\n",
              "    <path d=\"M18.56 5.44l.94 2.06.94-2.06 2.06-.94-2.06-.94-.94-2.06-.94 2.06-2.06.94zm-11 1L8.5 8.5l.94-2.06 2.06-.94-2.06-.94L8.5 2.5l-.94 2.06-2.06.94zm10 10l.94 2.06.94-2.06 2.06-.94-2.06-.94-.94-2.06-.94 2.06-2.06.94z\"/><path d=\"M17.41 7.96l-1.37-1.37c-.4-.4-.92-.59-1.43-.59-.52 0-1.04.2-1.43.59L10.3 9.45l-7.72 7.72c-.78.78-.78 2.05 0 2.83L4 21.41c.39.39.9.59 1.41.59.51 0 1.02-.2 1.41-.59l7.78-7.78 2.81-2.81c.8-.78.8-2.07 0-2.86zM5.41 20L4 18.59l7.72-7.72 1.47 1.35L5.41 20z\"/>\n",
              "  </svg>\n",
              "      </button>\n",
              "      \n",
              "  <style>\n",
              "    .colab-df-container {\n",
              "      display:flex;\n",
              "      flex-wrap:wrap;\n",
              "      gap: 12px;\n",
              "    }\n",
              "\n",
              "    .colab-df-convert {\n",
              "      background-color: #E8F0FE;\n",
              "      border: none;\n",
              "      border-radius: 50%;\n",
              "      cursor: pointer;\n",
              "      display: none;\n",
              "      fill: #1967D2;\n",
              "      height: 32px;\n",
              "      padding: 0 0 0 0;\n",
              "      width: 32px;\n",
              "    }\n",
              "\n",
              "    .colab-df-convert:hover {\n",
              "      background-color: #E2EBFA;\n",
              "      box-shadow: 0px 1px 2px rgba(60, 64, 67, 0.3), 0px 1px 3px 1px rgba(60, 64, 67, 0.15);\n",
              "      fill: #174EA6;\n",
              "    }\n",
              "\n",
              "    [theme=dark] .colab-df-convert {\n",
              "      background-color: #3B4455;\n",
              "      fill: #D2E3FC;\n",
              "    }\n",
              "\n",
              "    [theme=dark] .colab-df-convert:hover {\n",
              "      background-color: #434B5C;\n",
              "      box-shadow: 0px 1px 3px 1px rgba(0, 0, 0, 0.15);\n",
              "      filter: drop-shadow(0px 1px 2px rgba(0, 0, 0, 0.3));\n",
              "      fill: #FFFFFF;\n",
              "    }\n",
              "  </style>\n",
              "\n",
              "      <script>\n",
              "        const buttonEl =\n",
              "          document.querySelector('#df-fcbbffeb-fb61-4670-916d-0492a91b0580 button.colab-df-convert');\n",
              "        buttonEl.style.display =\n",
              "          google.colab.kernel.accessAllowed ? 'block' : 'none';\n",
              "\n",
              "        async function convertToInteractive(key) {\n",
              "          const element = document.querySelector('#df-fcbbffeb-fb61-4670-916d-0492a91b0580');\n",
              "          const dataTable =\n",
              "            await google.colab.kernel.invokeFunction('convertToInteractive',\n",
              "                                                     [key], {});\n",
              "          if (!dataTable) return;\n",
              "\n",
              "          const docLinkHtml = 'Like what you see? Visit the ' +\n",
              "            '<a target=\"_blank\" href=https://colab.research.google.com/notebooks/data_table.ipynb>data table notebook</a>'\n",
              "            + ' to learn more about interactive tables.';\n",
              "          element.innerHTML = '';\n",
              "          dataTable['output_type'] = 'display_data';\n",
              "          await google.colab.output.renderOutput(dataTable, element);\n",
              "          const docLink = document.createElement('div');\n",
              "          docLink.innerHTML = docLinkHtml;\n",
              "          element.appendChild(docLink);\n",
              "        }\n",
              "      </script>\n",
              "    </div>\n",
              "  </div>\n",
              "  "
            ],
            "text/plain": [
              "        R-ref       G-ref  ...  Shad                                       Img\n",
              "0  240.776127  228.569056  ...    A1  77308B8C-A458-48C0-A0EF-DD05DD0AEA75.png\n",
              "1  240.009518  227.942113  ...    A1  DD37E60E-8484-48E3-8FB4-7E94B71553F4.png\n",
              "2  240.346445  228.310120  ...    A1  0ED6DB80-7C02-41B3-88E9-CB382B96B37C.png\n",
              "3  240.529040  228.597708  ...    A1  8B551D28-1E87-49BD-9E20-8B3F5F08FE8E.png\n",
              "4  240.453768  228.207459  ...    A1  C12D1E9C-5BFA-4DD7-9D3F-194378F9673D.png\n",
              "\n",
              "[5 rows x 16 columns]"
            ]
          },
          "metadata": {},
          "execution_count": 665
        }
      ]
    },
    {
      "cell_type": "code",
      "source": [
        "table_A2Set2 = pd.read_excel(Set2, sheet_name='A2Set2')\n",
        "table_A2Set2.head()"
      ],
      "metadata": {
        "colab": {
          "base_uri": "https://localhost:8080/",
          "height": 0
        },
        "outputId": "0e1b574f-85d8-40ae-e736-f7d605033c95",
        "id": "TY1IFciafsgm"
      },
      "execution_count": 666,
      "outputs": [
        {
          "output_type": "execute_result",
          "data": {
            "text/html": [
              "\n",
              "  <div id=\"df-2a6cf467-3234-4117-b311-1f64abe29759\">\n",
              "    <div class=\"colab-df-container\">\n",
              "      <div>\n",
              "<style scoped>\n",
              "    .dataframe tbody tr th:only-of-type {\n",
              "        vertical-align: middle;\n",
              "    }\n",
              "\n",
              "    .dataframe tbody tr th {\n",
              "        vertical-align: top;\n",
              "    }\n",
              "\n",
              "    .dataframe thead th {\n",
              "        text-align: right;\n",
              "    }\n",
              "</style>\n",
              "<table border=\"1\" class=\"dataframe\">\n",
              "  <thead>\n",
              "    <tr style=\"text-align: right;\">\n",
              "      <th></th>\n",
              "      <th>R-ref</th>\n",
              "      <th>G-ref</th>\n",
              "      <th>B-ref</th>\n",
              "      <th>R-Shad</th>\n",
              "      <th>G-Shad</th>\n",
              "      <th>B-Shad</th>\n",
              "      <th>H-ref</th>\n",
              "      <th>S-ref</th>\n",
              "      <th>V-ref</th>\n",
              "      <th>H-Shad</th>\n",
              "      <th>S-Shad</th>\n",
              "      <th>V-Shad</th>\n",
              "      <th>Setting</th>\n",
              "      <th>Ref</th>\n",
              "      <th>Shad</th>\n",
              "      <th>Img</th>\n",
              "    </tr>\n",
              "  </thead>\n",
              "  <tbody>\n",
              "    <tr>\n",
              "      <th>0</th>\n",
              "      <td>242.097708</td>\n",
              "      <td>230.045066</td>\n",
              "      <td>197.752525</td>\n",
              "      <td>237.360393</td>\n",
              "      <td>224.253915</td>\n",
              "      <td>190.496432</td>\n",
              "      <td>21.867618</td>\n",
              "      <td>46.779526</td>\n",
              "      <td>242.097708</td>\n",
              "      <td>21.487073</td>\n",
              "      <td>50.394959</td>\n",
              "      <td>237.360393</td>\n",
              "      <td>Set2</td>\n",
              "      <td>A2</td>\n",
              "      <td>A1</td>\n",
              "      <td>498C8AAA-DF5D-452F-A34B-1BE1778A67FB.png</td>\n",
              "    </tr>\n",
              "    <tr>\n",
              "      <th>1</th>\n",
              "      <td>241.384713</td>\n",
              "      <td>229.412879</td>\n",
              "      <td>196.570027</td>\n",
              "      <td>236.735798</td>\n",
              "      <td>223.657956</td>\n",
              "      <td>190.002873</td>\n",
              "      <td>22.034674</td>\n",
              "      <td>47.431527</td>\n",
              "      <td>241.384713</td>\n",
              "      <td>21.471967</td>\n",
              "      <td>50.415439</td>\n",
              "      <td>236.735798</td>\n",
              "      <td>Set2</td>\n",
              "      <td>A2</td>\n",
              "      <td>A1</td>\n",
              "      <td>B6610BED-38BC-4978-B8A1-991530002FFD.png</td>\n",
              "    </tr>\n",
              "    <tr>\n",
              "      <th>2</th>\n",
              "      <td>241.642094</td>\n",
              "      <td>229.601301</td>\n",
              "      <td>197.312646</td>\n",
              "      <td>236.987304</td>\n",
              "      <td>224.070336</td>\n",
              "      <td>190.256417</td>\n",
              "      <td>21.848776</td>\n",
              "      <td>46.843046</td>\n",
              "      <td>241.642094</td>\n",
              "      <td>21.583449</td>\n",
              "      <td>50.356408</td>\n",
              "      <td>236.987304</td>\n",
              "      <td>Set2</td>\n",
              "      <td>A2</td>\n",
              "      <td>A1</td>\n",
              "      <td>FB80505B-1B14-48B6-9D07-03D0B6E36E03.png</td>\n",
              "    </tr>\n",
              "    <tr>\n",
              "      <th>3</th>\n",
              "      <td>241.836053</td>\n",
              "      <td>229.881216</td>\n",
              "      <td>196.987665</td>\n",
              "      <td>236.912890</td>\n",
              "      <td>224.278936</td>\n",
              "      <td>189.873784</td>\n",
              "      <td>22.060703</td>\n",
              "      <td>47.367618</td>\n",
              "      <td>241.836053</td>\n",
              "      <td>21.928737</td>\n",
              "      <td>50.654249</td>\n",
              "      <td>236.912890</td>\n",
              "      <td>Set2</td>\n",
              "      <td>A2</td>\n",
              "      <td>A1</td>\n",
              "      <td>7B8A2CF0-D4CF-40A3-B74E-B1AA9E33011E.png</td>\n",
              "    </tr>\n",
              "    <tr>\n",
              "      <th>4</th>\n",
              "      <td>241.718434</td>\n",
              "      <td>229.483100</td>\n",
              "      <td>197.120144</td>\n",
              "      <td>236.738393</td>\n",
              "      <td>223.628209</td>\n",
              "      <td>190.118895</td>\n",
              "      <td>21.825369</td>\n",
              "      <td>47.105089</td>\n",
              "      <td>241.718434</td>\n",
              "      <td>21.482254</td>\n",
              "      <td>50.271986</td>\n",
              "      <td>236.738393</td>\n",
              "      <td>Set2</td>\n",
              "      <td>A2</td>\n",
              "      <td>A1</td>\n",
              "      <td>E2D4FFA2-090A-4B46-B8C8-57E88EBAD5D2.png</td>\n",
              "    </tr>\n",
              "  </tbody>\n",
              "</table>\n",
              "</div>\n",
              "      <button class=\"colab-df-convert\" onclick=\"convertToInteractive('df-2a6cf467-3234-4117-b311-1f64abe29759')\"\n",
              "              title=\"Convert this dataframe to an interactive table.\"\n",
              "              style=\"display:none;\">\n",
              "        \n",
              "  <svg xmlns=\"http://www.w3.org/2000/svg\" height=\"24px\"viewBox=\"0 0 24 24\"\n",
              "       width=\"24px\">\n",
              "    <path d=\"M0 0h24v24H0V0z\" fill=\"none\"/>\n",
              "    <path d=\"M18.56 5.44l.94 2.06.94-2.06 2.06-.94-2.06-.94-.94-2.06-.94 2.06-2.06.94zm-11 1L8.5 8.5l.94-2.06 2.06-.94-2.06-.94L8.5 2.5l-.94 2.06-2.06.94zm10 10l.94 2.06.94-2.06 2.06-.94-2.06-.94-.94-2.06-.94 2.06-2.06.94z\"/><path d=\"M17.41 7.96l-1.37-1.37c-.4-.4-.92-.59-1.43-.59-.52 0-1.04.2-1.43.59L10.3 9.45l-7.72 7.72c-.78.78-.78 2.05 0 2.83L4 21.41c.39.39.9.59 1.41.59.51 0 1.02-.2 1.41-.59l7.78-7.78 2.81-2.81c.8-.78.8-2.07 0-2.86zM5.41 20L4 18.59l7.72-7.72 1.47 1.35L5.41 20z\"/>\n",
              "  </svg>\n",
              "      </button>\n",
              "      \n",
              "  <style>\n",
              "    .colab-df-container {\n",
              "      display:flex;\n",
              "      flex-wrap:wrap;\n",
              "      gap: 12px;\n",
              "    }\n",
              "\n",
              "    .colab-df-convert {\n",
              "      background-color: #E8F0FE;\n",
              "      border: none;\n",
              "      border-radius: 50%;\n",
              "      cursor: pointer;\n",
              "      display: none;\n",
              "      fill: #1967D2;\n",
              "      height: 32px;\n",
              "      padding: 0 0 0 0;\n",
              "      width: 32px;\n",
              "    }\n",
              "\n",
              "    .colab-df-convert:hover {\n",
              "      background-color: #E2EBFA;\n",
              "      box-shadow: 0px 1px 2px rgba(60, 64, 67, 0.3), 0px 1px 3px 1px rgba(60, 64, 67, 0.15);\n",
              "      fill: #174EA6;\n",
              "    }\n",
              "\n",
              "    [theme=dark] .colab-df-convert {\n",
              "      background-color: #3B4455;\n",
              "      fill: #D2E3FC;\n",
              "    }\n",
              "\n",
              "    [theme=dark] .colab-df-convert:hover {\n",
              "      background-color: #434B5C;\n",
              "      box-shadow: 0px 1px 3px 1px rgba(0, 0, 0, 0.15);\n",
              "      filter: drop-shadow(0px 1px 2px rgba(0, 0, 0, 0.3));\n",
              "      fill: #FFFFFF;\n",
              "    }\n",
              "  </style>\n",
              "\n",
              "      <script>\n",
              "        const buttonEl =\n",
              "          document.querySelector('#df-2a6cf467-3234-4117-b311-1f64abe29759 button.colab-df-convert');\n",
              "        buttonEl.style.display =\n",
              "          google.colab.kernel.accessAllowed ? 'block' : 'none';\n",
              "\n",
              "        async function convertToInteractive(key) {\n",
              "          const element = document.querySelector('#df-2a6cf467-3234-4117-b311-1f64abe29759');\n",
              "          const dataTable =\n",
              "            await google.colab.kernel.invokeFunction('convertToInteractive',\n",
              "                                                     [key], {});\n",
              "          if (!dataTable) return;\n",
              "\n",
              "          const docLinkHtml = 'Like what you see? Visit the ' +\n",
              "            '<a target=\"_blank\" href=https://colab.research.google.com/notebooks/data_table.ipynb>data table notebook</a>'\n",
              "            + ' to learn more about interactive tables.';\n",
              "          element.innerHTML = '';\n",
              "          dataTable['output_type'] = 'display_data';\n",
              "          await google.colab.output.renderOutput(dataTable, element);\n",
              "          const docLink = document.createElement('div');\n",
              "          docLink.innerHTML = docLinkHtml;\n",
              "          element.appendChild(docLink);\n",
              "        }\n",
              "      </script>\n",
              "    </div>\n",
              "  </div>\n",
              "  "
            ],
            "text/plain": [
              "        R-ref       G-ref  ...  Shad                                       Img\n",
              "0  242.097708  230.045066  ...    A1  498C8AAA-DF5D-452F-A34B-1BE1778A67FB.png\n",
              "1  241.384713  229.412879  ...    A1  B6610BED-38BC-4978-B8A1-991530002FFD.png\n",
              "2  241.642094  229.601301  ...    A1  FB80505B-1B14-48B6-9D07-03D0B6E36E03.png\n",
              "3  241.836053  229.881216  ...    A1  7B8A2CF0-D4CF-40A3-B74E-B1AA9E33011E.png\n",
              "4  241.718434  229.483100  ...    A1  E2D4FFA2-090A-4B46-B8C8-57E88EBAD5D2.png\n",
              "\n",
              "[5 rows x 16 columns]"
            ]
          },
          "metadata": {},
          "execution_count": 666
        }
      ]
    },
    {
      "cell_type": "code",
      "source": [
        "table_A2Set3 = pd.read_excel(Set3, sheet_name='A2Set3 ')\n",
        "table_A2Set3.head()"
      ],
      "metadata": {
        "colab": {
          "base_uri": "https://localhost:8080/",
          "height": 0
        },
        "outputId": "bd6cfbed-b6b4-404e-d387-3a3d47116638",
        "id": "qgCNCkMxfsgm"
      },
      "execution_count": 667,
      "outputs": [
        {
          "output_type": "execute_result",
          "data": {
            "text/html": [
              "\n",
              "  <div id=\"df-0b8dfc71-fd9c-4e14-a971-4811dfadf35f\">\n",
              "    <div class=\"colab-df-container\">\n",
              "      <div>\n",
              "<style scoped>\n",
              "    .dataframe tbody tr th:only-of-type {\n",
              "        vertical-align: middle;\n",
              "    }\n",
              "\n",
              "    .dataframe tbody tr th {\n",
              "        vertical-align: top;\n",
              "    }\n",
              "\n",
              "    .dataframe thead th {\n",
              "        text-align: right;\n",
              "    }\n",
              "</style>\n",
              "<table border=\"1\" class=\"dataframe\">\n",
              "  <thead>\n",
              "    <tr style=\"text-align: right;\">\n",
              "      <th></th>\n",
              "      <th>R-ref</th>\n",
              "      <th>G-ref</th>\n",
              "      <th>B-ref</th>\n",
              "      <th>R-Shad</th>\n",
              "      <th>G-Shad</th>\n",
              "      <th>B-Shad</th>\n",
              "      <th>H-ref</th>\n",
              "      <th>S-ref</th>\n",
              "      <th>V-ref</th>\n",
              "      <th>H-Shad</th>\n",
              "      <th>S-Shad</th>\n",
              "      <th>V-Shad</th>\n",
              "      <th>Setting</th>\n",
              "      <th>Ref</th>\n",
              "      <th>Shad</th>\n",
              "      <th>Img</th>\n",
              "    </tr>\n",
              "  </thead>\n",
              "  <tbody>\n",
              "    <tr>\n",
              "      <th>0</th>\n",
              "      <td>239.261911</td>\n",
              "      <td>226.772178</td>\n",
              "      <td>193.540054</td>\n",
              "      <td>239.680321</td>\n",
              "      <td>227.425574</td>\n",
              "      <td>194.950928</td>\n",
              "      <td>21.848389</td>\n",
              "      <td>48.820144</td>\n",
              "      <td>239.261911</td>\n",
              "      <td>21.788351</td>\n",
              "      <td>47.702439</td>\n",
              "      <td>239.680321</td>\n",
              "      <td>Set3</td>\n",
              "      <td>A2</td>\n",
              "      <td>A1</td>\n",
              "      <td>3055D600-52FE-426B-8FB7-F22AD0D97955.png</td>\n",
              "    </tr>\n",
              "    <tr>\n",
              "      <th>1</th>\n",
              "      <td>238.432676</td>\n",
              "      <td>226.124909</td>\n",
              "      <td>192.415551</td>\n",
              "      <td>238.840410</td>\n",
              "      <td>226.726477</td>\n",
              "      <td>193.791053</td>\n",
              "      <td>22.034413</td>\n",
              "      <td>49.293320</td>\n",
              "      <td>238.432676</td>\n",
              "      <td>21.958893</td>\n",
              "      <td>48.209231</td>\n",
              "      <td>238.840410</td>\n",
              "      <td>Set3</td>\n",
              "      <td>A2</td>\n",
              "      <td>A1</td>\n",
              "      <td>94BB667C-3B1E-4BA5-AE10-E00383CAD122.png</td>\n",
              "    </tr>\n",
              "    <tr>\n",
              "      <th>2</th>\n",
              "      <td>238.783134</td>\n",
              "      <td>226.525201</td>\n",
              "      <td>193.025485</td>\n",
              "      <td>239.209800</td>\n",
              "      <td>227.131072</td>\n",
              "      <td>194.443994</td>\n",
              "      <td>21.989205</td>\n",
              "      <td>48.946108</td>\n",
              "      <td>238.783134</td>\n",
              "      <td>21.892611</td>\n",
              "      <td>47.829457</td>\n",
              "      <td>239.209800</td>\n",
              "      <td>Set3</td>\n",
              "      <td>A2</td>\n",
              "      <td>A1</td>\n",
              "      <td>61347A1C-5E5B-48EE-BB2D-AA9068046272.png</td>\n",
              "    </tr>\n",
              "    <tr>\n",
              "      <th>3</th>\n",
              "      <td>238.943430</td>\n",
              "      <td>226.796039</td>\n",
              "      <td>192.905771</td>\n",
              "      <td>239.369177</td>\n",
              "      <td>227.383188</td>\n",
              "      <td>194.241875</td>\n",
              "      <td>22.138219</td>\n",
              "      <td>49.229040</td>\n",
              "      <td>238.943430</td>\n",
              "      <td>22.057108</td>\n",
              "      <td>48.200412</td>\n",
              "      <td>239.369177</td>\n",
              "      <td>Set3</td>\n",
              "      <td>A2</td>\n",
              "      <td>A1</td>\n",
              "      <td>65C3FBE9-9D9F-4123-BB24-B798E9A2DF43.png</td>\n",
              "    </tr>\n",
              "    <tr>\n",
              "      <th>4</th>\n",
              "      <td>238.848145</td>\n",
              "      <td>226.354679</td>\n",
              "      <td>192.963720</td>\n",
              "      <td>239.291942</td>\n",
              "      <td>226.985207</td>\n",
              "      <td>194.387952</td>\n",
              "      <td>21.893109</td>\n",
              "      <td>49.072234</td>\n",
              "      <td>238.848145</td>\n",
              "      <td>21.792831</td>\n",
              "      <td>47.962023</td>\n",
              "      <td>239.291942</td>\n",
              "      <td>Set3</td>\n",
              "      <td>A2</td>\n",
              "      <td>A1</td>\n",
              "      <td>86927B90-BCE2-4CA1-8556-398BF4B5A60E.png</td>\n",
              "    </tr>\n",
              "  </tbody>\n",
              "</table>\n",
              "</div>\n",
              "      <button class=\"colab-df-convert\" onclick=\"convertToInteractive('df-0b8dfc71-fd9c-4e14-a971-4811dfadf35f')\"\n",
              "              title=\"Convert this dataframe to an interactive table.\"\n",
              "              style=\"display:none;\">\n",
              "        \n",
              "  <svg xmlns=\"http://www.w3.org/2000/svg\" height=\"24px\"viewBox=\"0 0 24 24\"\n",
              "       width=\"24px\">\n",
              "    <path d=\"M0 0h24v24H0V0z\" fill=\"none\"/>\n",
              "    <path d=\"M18.56 5.44l.94 2.06.94-2.06 2.06-.94-2.06-.94-.94-2.06-.94 2.06-2.06.94zm-11 1L8.5 8.5l.94-2.06 2.06-.94-2.06-.94L8.5 2.5l-.94 2.06-2.06.94zm10 10l.94 2.06.94-2.06 2.06-.94-2.06-.94-.94-2.06-.94 2.06-2.06.94z\"/><path d=\"M17.41 7.96l-1.37-1.37c-.4-.4-.92-.59-1.43-.59-.52 0-1.04.2-1.43.59L10.3 9.45l-7.72 7.72c-.78.78-.78 2.05 0 2.83L4 21.41c.39.39.9.59 1.41.59.51 0 1.02-.2 1.41-.59l7.78-7.78 2.81-2.81c.8-.78.8-2.07 0-2.86zM5.41 20L4 18.59l7.72-7.72 1.47 1.35L5.41 20z\"/>\n",
              "  </svg>\n",
              "      </button>\n",
              "      \n",
              "  <style>\n",
              "    .colab-df-container {\n",
              "      display:flex;\n",
              "      flex-wrap:wrap;\n",
              "      gap: 12px;\n",
              "    }\n",
              "\n",
              "    .colab-df-convert {\n",
              "      background-color: #E8F0FE;\n",
              "      border: none;\n",
              "      border-radius: 50%;\n",
              "      cursor: pointer;\n",
              "      display: none;\n",
              "      fill: #1967D2;\n",
              "      height: 32px;\n",
              "      padding: 0 0 0 0;\n",
              "      width: 32px;\n",
              "    }\n",
              "\n",
              "    .colab-df-convert:hover {\n",
              "      background-color: #E2EBFA;\n",
              "      box-shadow: 0px 1px 2px rgba(60, 64, 67, 0.3), 0px 1px 3px 1px rgba(60, 64, 67, 0.15);\n",
              "      fill: #174EA6;\n",
              "    }\n",
              "\n",
              "    [theme=dark] .colab-df-convert {\n",
              "      background-color: #3B4455;\n",
              "      fill: #D2E3FC;\n",
              "    }\n",
              "\n",
              "    [theme=dark] .colab-df-convert:hover {\n",
              "      background-color: #434B5C;\n",
              "      box-shadow: 0px 1px 3px 1px rgba(0, 0, 0, 0.15);\n",
              "      filter: drop-shadow(0px 1px 2px rgba(0, 0, 0, 0.3));\n",
              "      fill: #FFFFFF;\n",
              "    }\n",
              "  </style>\n",
              "\n",
              "      <script>\n",
              "        const buttonEl =\n",
              "          document.querySelector('#df-0b8dfc71-fd9c-4e14-a971-4811dfadf35f button.colab-df-convert');\n",
              "        buttonEl.style.display =\n",
              "          google.colab.kernel.accessAllowed ? 'block' : 'none';\n",
              "\n",
              "        async function convertToInteractive(key) {\n",
              "          const element = document.querySelector('#df-0b8dfc71-fd9c-4e14-a971-4811dfadf35f');\n",
              "          const dataTable =\n",
              "            await google.colab.kernel.invokeFunction('convertToInteractive',\n",
              "                                                     [key], {});\n",
              "          if (!dataTable) return;\n",
              "\n",
              "          const docLinkHtml = 'Like what you see? Visit the ' +\n",
              "            '<a target=\"_blank\" href=https://colab.research.google.com/notebooks/data_table.ipynb>data table notebook</a>'\n",
              "            + ' to learn more about interactive tables.';\n",
              "          element.innerHTML = '';\n",
              "          dataTable['output_type'] = 'display_data';\n",
              "          await google.colab.output.renderOutput(dataTable, element);\n",
              "          const docLink = document.createElement('div');\n",
              "          docLink.innerHTML = docLinkHtml;\n",
              "          element.appendChild(docLink);\n",
              "        }\n",
              "      </script>\n",
              "    </div>\n",
              "  </div>\n",
              "  "
            ],
            "text/plain": [
              "        R-ref       G-ref  ...  Shad                                       Img\n",
              "0  239.261911  226.772178  ...    A1  3055D600-52FE-426B-8FB7-F22AD0D97955.png\n",
              "1  238.432676  226.124909  ...    A1  94BB667C-3B1E-4BA5-AE10-E00383CAD122.png\n",
              "2  238.783134  226.525201  ...    A1  61347A1C-5E5B-48EE-BB2D-AA9068046272.png\n",
              "3  238.943430  226.796039  ...    A1  65C3FBE9-9D9F-4123-BB24-B798E9A2DF43.png\n",
              "4  238.848145  226.354679  ...    A1  86927B90-BCE2-4CA1-8556-398BF4B5A60E.png\n",
              "\n",
              "[5 rows x 16 columns]"
            ]
          },
          "metadata": {},
          "execution_count": 667
        }
      ]
    },
    {
      "cell_type": "code",
      "source": [
        "table_A2Set4 = pd.read_excel(Set4, sheet_name='A2Set4')\n",
        "table_A2Set4.head()"
      ],
      "metadata": {
        "colab": {
          "base_uri": "https://localhost:8080/",
          "height": 0
        },
        "outputId": "3ea8112b-c943-4b08-c356-33148fe9a143",
        "id": "jNNx5Buafsgn"
      },
      "execution_count": 668,
      "outputs": [
        {
          "output_type": "execute_result",
          "data": {
            "text/html": [
              "\n",
              "  <div id=\"df-fc42f485-4c04-48c2-99c5-a11cdfe2276b\">\n",
              "    <div class=\"colab-df-container\">\n",
              "      <div>\n",
              "<style scoped>\n",
              "    .dataframe tbody tr th:only-of-type {\n",
              "        vertical-align: middle;\n",
              "    }\n",
              "\n",
              "    .dataframe tbody tr th {\n",
              "        vertical-align: top;\n",
              "    }\n",
              "\n",
              "    .dataframe thead th {\n",
              "        text-align: right;\n",
              "    }\n",
              "</style>\n",
              "<table border=\"1\" class=\"dataframe\">\n",
              "  <thead>\n",
              "    <tr style=\"text-align: right;\">\n",
              "      <th></th>\n",
              "      <th>R-ref</th>\n",
              "      <th>G-ref</th>\n",
              "      <th>B-ref</th>\n",
              "      <th>R-Shad</th>\n",
              "      <th>G-Shad</th>\n",
              "      <th>B-Shad</th>\n",
              "      <th>H-ref</th>\n",
              "      <th>S-ref</th>\n",
              "      <th>V-ref</th>\n",
              "      <th>H-Shad</th>\n",
              "      <th>S-Shad</th>\n",
              "      <th>V-Shad</th>\n",
              "      <th>Set4</th>\n",
              "      <th>Ref</th>\n",
              "      <th>Shad</th>\n",
              "      <th>Img</th>\n",
              "    </tr>\n",
              "  </thead>\n",
              "  <tbody>\n",
              "    <tr>\n",
              "      <th>0</th>\n",
              "      <td>231.203768</td>\n",
              "      <td>214.152486</td>\n",
              "      <td>170.072455</td>\n",
              "      <td>228.758132</td>\n",
              "      <td>211.784079</td>\n",
              "      <td>168.495320</td>\n",
              "      <td>22.000000</td>\n",
              "      <td>67.438034</td>\n",
              "      <td>231.203768</td>\n",
              "      <td>22.000000</td>\n",
              "      <td>67.199889</td>\n",
              "      <td>228.758132</td>\n",
              "      <td>Set4</td>\n",
              "      <td>A2</td>\n",
              "      <td>A1</td>\n",
              "      <td>FE70379B-BE7C-4C2F-8F6B-BEC1809BF9B3.png</td>\n",
              "    </tr>\n",
              "    <tr>\n",
              "      <th>1</th>\n",
              "      <td>226.316628</td>\n",
              "      <td>208.979118</td>\n",
              "      <td>164.679681</td>\n",
              "      <td>224.092021</td>\n",
              "      <td>206.864053</td>\n",
              "      <td>164.404504</td>\n",
              "      <td>21.849068</td>\n",
              "      <td>69.458819</td>\n",
              "      <td>226.316628</td>\n",
              "      <td>21.675841</td>\n",
              "      <td>67.943008</td>\n",
              "      <td>224.092021</td>\n",
              "      <td>Set4</td>\n",
              "      <td>A2</td>\n",
              "      <td>A1</td>\n",
              "      <td>BA3AFF8D-AAA7-4A26-A99D-58E7730257A4.png</td>\n",
              "    </tr>\n",
              "    <tr>\n",
              "      <th>2</th>\n",
              "      <td>231.688520</td>\n",
              "      <td>213.571581</td>\n",
              "      <td>169.254565</td>\n",
              "      <td>229.496896</td>\n",
              "      <td>212.441294</td>\n",
              "      <td>168.527940</td>\n",
              "      <td>21.598485</td>\n",
              "      <td>68.691919</td>\n",
              "      <td>231.688520</td>\n",
              "      <td>21.972199</td>\n",
              "      <td>67.759614</td>\n",
              "      <td>229.496896</td>\n",
              "      <td>Set4</td>\n",
              "      <td>A2</td>\n",
              "      <td>A1</td>\n",
              "      <td>0F941597-744A-4ADE-973D-21AB168D1129.png</td>\n",
              "    </tr>\n",
              "    <tr>\n",
              "      <th>3</th>\n",
              "      <td>232.097902</td>\n",
              "      <td>213.545843</td>\n",
              "      <td>169.568959</td>\n",
              "      <td>229.993698</td>\n",
              "      <td>211.219535</td>\n",
              "      <td>168.097025</td>\n",
              "      <td>21.372378</td>\n",
              "      <td>68.709207</td>\n",
              "      <td>232.097902</td>\n",
              "      <td>21.121583</td>\n",
              "      <td>68.644055</td>\n",
              "      <td>229.993698</td>\n",
              "      <td>Set4</td>\n",
              "      <td>A2</td>\n",
              "      <td>A1</td>\n",
              "      <td>A63282AB-FC26-4DE4-8787-9276F2B800C0.png</td>\n",
              "    </tr>\n",
              "    <tr>\n",
              "      <th>4</th>\n",
              "      <td>231.566045</td>\n",
              "      <td>212.888889</td>\n",
              "      <td>169.670940</td>\n",
              "      <td>229.052914</td>\n",
              "      <td>211.865351</td>\n",
              "      <td>168.813085</td>\n",
              "      <td>21.175796</td>\n",
              "      <td>68.169483</td>\n",
              "      <td>231.566045</td>\n",
              "      <td>21.906218</td>\n",
              "      <td>67.109814</td>\n",
              "      <td>229.052914</td>\n",
              "      <td>Set4</td>\n",
              "      <td>A2</td>\n",
              "      <td>A1</td>\n",
              "      <td>D5F0E3B1-E9A0-4496-8806-ABEB0B70C533.png</td>\n",
              "    </tr>\n",
              "  </tbody>\n",
              "</table>\n",
              "</div>\n",
              "      <button class=\"colab-df-convert\" onclick=\"convertToInteractive('df-fc42f485-4c04-48c2-99c5-a11cdfe2276b')\"\n",
              "              title=\"Convert this dataframe to an interactive table.\"\n",
              "              style=\"display:none;\">\n",
              "        \n",
              "  <svg xmlns=\"http://www.w3.org/2000/svg\" height=\"24px\"viewBox=\"0 0 24 24\"\n",
              "       width=\"24px\">\n",
              "    <path d=\"M0 0h24v24H0V0z\" fill=\"none\"/>\n",
              "    <path d=\"M18.56 5.44l.94 2.06.94-2.06 2.06-.94-2.06-.94-.94-2.06-.94 2.06-2.06.94zm-11 1L8.5 8.5l.94-2.06 2.06-.94-2.06-.94L8.5 2.5l-.94 2.06-2.06.94zm10 10l.94 2.06.94-2.06 2.06-.94-2.06-.94-.94-2.06-.94 2.06-2.06.94z\"/><path d=\"M17.41 7.96l-1.37-1.37c-.4-.4-.92-.59-1.43-.59-.52 0-1.04.2-1.43.59L10.3 9.45l-7.72 7.72c-.78.78-.78 2.05 0 2.83L4 21.41c.39.39.9.59 1.41.59.51 0 1.02-.2 1.41-.59l7.78-7.78 2.81-2.81c.8-.78.8-2.07 0-2.86zM5.41 20L4 18.59l7.72-7.72 1.47 1.35L5.41 20z\"/>\n",
              "  </svg>\n",
              "      </button>\n",
              "      \n",
              "  <style>\n",
              "    .colab-df-container {\n",
              "      display:flex;\n",
              "      flex-wrap:wrap;\n",
              "      gap: 12px;\n",
              "    }\n",
              "\n",
              "    .colab-df-convert {\n",
              "      background-color: #E8F0FE;\n",
              "      border: none;\n",
              "      border-radius: 50%;\n",
              "      cursor: pointer;\n",
              "      display: none;\n",
              "      fill: #1967D2;\n",
              "      height: 32px;\n",
              "      padding: 0 0 0 0;\n",
              "      width: 32px;\n",
              "    }\n",
              "\n",
              "    .colab-df-convert:hover {\n",
              "      background-color: #E2EBFA;\n",
              "      box-shadow: 0px 1px 2px rgba(60, 64, 67, 0.3), 0px 1px 3px 1px rgba(60, 64, 67, 0.15);\n",
              "      fill: #174EA6;\n",
              "    }\n",
              "\n",
              "    [theme=dark] .colab-df-convert {\n",
              "      background-color: #3B4455;\n",
              "      fill: #D2E3FC;\n",
              "    }\n",
              "\n",
              "    [theme=dark] .colab-df-convert:hover {\n",
              "      background-color: #434B5C;\n",
              "      box-shadow: 0px 1px 3px 1px rgba(0, 0, 0, 0.15);\n",
              "      filter: drop-shadow(0px 1px 2px rgba(0, 0, 0, 0.3));\n",
              "      fill: #FFFFFF;\n",
              "    }\n",
              "  </style>\n",
              "\n",
              "      <script>\n",
              "        const buttonEl =\n",
              "          document.querySelector('#df-fc42f485-4c04-48c2-99c5-a11cdfe2276b button.colab-df-convert');\n",
              "        buttonEl.style.display =\n",
              "          google.colab.kernel.accessAllowed ? 'block' : 'none';\n",
              "\n",
              "        async function convertToInteractive(key) {\n",
              "          const element = document.querySelector('#df-fc42f485-4c04-48c2-99c5-a11cdfe2276b');\n",
              "          const dataTable =\n",
              "            await google.colab.kernel.invokeFunction('convertToInteractive',\n",
              "                                                     [key], {});\n",
              "          if (!dataTable) return;\n",
              "\n",
              "          const docLinkHtml = 'Like what you see? Visit the ' +\n",
              "            '<a target=\"_blank\" href=https://colab.research.google.com/notebooks/data_table.ipynb>data table notebook</a>'\n",
              "            + ' to learn more about interactive tables.';\n",
              "          element.innerHTML = '';\n",
              "          dataTable['output_type'] = 'display_data';\n",
              "          await google.colab.output.renderOutput(dataTable, element);\n",
              "          const docLink = document.createElement('div');\n",
              "          docLink.innerHTML = docLinkHtml;\n",
              "          element.appendChild(docLink);\n",
              "        }\n",
              "      </script>\n",
              "    </div>\n",
              "  </div>\n",
              "  "
            ],
            "text/plain": [
              "        R-ref       G-ref  ...  Shad                                       Img\n",
              "0  231.203768  214.152486  ...    A1  FE70379B-BE7C-4C2F-8F6B-BEC1809BF9B3.png\n",
              "1  226.316628  208.979118  ...    A1  BA3AFF8D-AAA7-4A26-A99D-58E7730257A4.png\n",
              "2  231.688520  213.571581  ...    A1  0F941597-744A-4ADE-973D-21AB168D1129.png\n",
              "3  232.097902  213.545843  ...    A1  A63282AB-FC26-4DE4-8787-9276F2B800C0.png\n",
              "4  231.566045  212.888889  ...    A1  D5F0E3B1-E9A0-4496-8806-ABEB0B70C533.png\n",
              "\n",
              "[5 rows x 16 columns]"
            ]
          },
          "metadata": {},
          "execution_count": 668
        }
      ]
    },
    {
      "cell_type": "markdown",
      "source": [
        "###RGB"
      ],
      "metadata": {
        "id": "oRvHAVySfsgn"
      }
    },
    {
      "cell_type": "code",
      "source": [
        "print(table_A2Set1.columns)"
      ],
      "metadata": {
        "colab": {
          "base_uri": "https://localhost:8080/"
        },
        "id": "dqBPJBrFhbbL",
        "outputId": "9d86277f-f906-468e-e08d-994500361479"
      },
      "execution_count": 669,
      "outputs": [
        {
          "output_type": "stream",
          "name": "stdout",
          "text": [
            "Index(['R-ref', 'G-ref', 'B-ref', 'R-Shad', 'G-Shad', 'B-Shad', 'H-ref',\n",
            "       'S-ref', 'V-ref', 'H-Shad', 'S-Shad', 'V-Shad', 'Setting', 'Ref',\n",
            "       'Shad', 'Img'],\n",
            "      dtype='object')\n"
          ]
        }
      ]
    },
    {
      "cell_type": "code",
      "source": [
        "RGB_A2_Set1 = table_A2Set1.drop(['H-ref','S-ref','V-ref','H-Shad','S-Shad','V-Shad','Setting','Ref','Shad','Img'], axis=1)"
      ],
      "metadata": {
        "id": "0joCSr_Rfsgn"
      },
      "execution_count": 670,
      "outputs": []
    },
    {
      "cell_type": "code",
      "source": [
        "RGB_A2_Set2 = table_A2Set2"
      ],
      "metadata": {
        "id": "RdIInq3Ifsgo"
      },
      "execution_count": 671,
      "outputs": []
    },
    {
      "cell_type": "code",
      "source": [
        "RGB_A2_Set3 = table_A2Set3"
      ],
      "metadata": {
        "id": "gug7sAQwfsgo"
      },
      "execution_count": 672,
      "outputs": []
    },
    {
      "cell_type": "code",
      "source": [
        "RGB_A2_Set4 = table_A2Set4"
      ],
      "metadata": {
        "id": "JwQs8ralfsgo"
      },
      "execution_count": 673,
      "outputs": []
    },
    {
      "cell_type": "code",
      "source": [
        "RGB_A2_concat0 = pd.concat([RGB_A2_Set2,RGB_A2_Set3])"
      ],
      "metadata": {
        "id": "s4A2Dg3ifsgo"
      },
      "execution_count": 674,
      "outputs": []
    },
    {
      "cell_type": "code",
      "source": [
        "RGB_A2_concat1 = pd.concat([RGB_A2_concat0,RGB_A2_Set4])"
      ],
      "metadata": {
        "id": "zI_39vCDfsgo"
      },
      "execution_count": 675,
      "outputs": []
    },
    {
      "cell_type": "code",
      "source": [
        "print(RGB_A2_concat1.columns)"
      ],
      "metadata": {
        "colab": {
          "base_uri": "https://localhost:8080/"
        },
        "id": "Dq5i3f95lyfb",
        "outputId": "3a9ea381-0aef-47d4-b99e-798ae44dfba1"
      },
      "execution_count": 676,
      "outputs": [
        {
          "output_type": "stream",
          "name": "stdout",
          "text": [
            "Index(['R-ref', 'G-ref', 'B-ref', 'R-Shad', 'G-Shad', 'B-Shad', 'H-ref',\n",
            "       'S-ref', 'V-ref', 'H-Shad', 'S-Shad', 'V-Shad', 'Setting', 'Ref',\n",
            "       'Shad', 'Img', 'Set4'],\n",
            "      dtype='object')\n"
          ]
        }
      ]
    },
    {
      "cell_type": "code",
      "source": [
        "RGB_A2_concat2 = RGB_A2_concat1.drop(['H-ref','S-ref','V-ref','H-Shad','S-Shad','V-Shad','Setting','Ref','Shad','Img','Set4'], axis=1)"
      ],
      "metadata": {
        "id": "efAFS1B-fsgo"
      },
      "execution_count": 677,
      "outputs": []
    },
    {
      "cell_type": "code",
      "source": [
        "X_test_A2_RGB = np.array(RGB_A2_Set1)"
      ],
      "metadata": {
        "id": "5L9ie-Cufsgp"
      },
      "execution_count": 678,
      "outputs": []
    },
    {
      "cell_type": "code",
      "source": [
        "y_A2_RGB =  table_A2Set1.iloc[:,14:15]"
      ],
      "metadata": {
        "id": "V1oBKY80fsgp"
      },
      "execution_count": 679,
      "outputs": []
    },
    {
      "cell_type": "code",
      "source": [
        "y_test_A2_RGB = np.array(y_A2_RGB)"
      ],
      "metadata": {
        "id": "b7DmzU6ffsgp"
      },
      "execution_count": 680,
      "outputs": []
    },
    {
      "cell_type": "code",
      "source": [
        "X_train_A2_RGB = np.array(RGB_A2_concat2)"
      ],
      "metadata": {
        "id": "uOykvjBWfsgp"
      },
      "execution_count": 681,
      "outputs": []
    },
    {
      "cell_type": "code",
      "source": [
        "y_train_A2RGB = RGB_A2_concat1.iloc[:,14:15]"
      ],
      "metadata": {
        "id": "u56pkV_xfsgp"
      },
      "execution_count": 682,
      "outputs": []
    },
    {
      "cell_type": "code",
      "source": [
        "y_train_A2_RGB = np.array(y_train_A2RGB)"
      ],
      "metadata": {
        "id": "DdWkKadofsgp"
      },
      "execution_count": 683,
      "outputs": []
    },
    {
      "cell_type": "code",
      "source": [
        "X_train_A2_RGB.shape"
      ],
      "metadata": {
        "colab": {
          "base_uri": "https://localhost:8080/"
        },
        "outputId": "943a4f52-f8fc-4ae1-a376-da3f81c89699",
        "id": "FEoMVy-1fsgp"
      },
      "execution_count": 684,
      "outputs": [
        {
          "output_type": "execute_result",
          "data": {
            "text/plain": [
              "(2400, 6)"
            ]
          },
          "metadata": {},
          "execution_count": 684
        }
      ]
    },
    {
      "cell_type": "code",
      "source": [
        "y_train_A2_RGB.shape"
      ],
      "metadata": {
        "colab": {
          "base_uri": "https://localhost:8080/"
        },
        "outputId": "8376b72a-fe02-46d7-88a6-33255cfa4824",
        "id": "-vJpIzQNfsgp"
      },
      "execution_count": 685,
      "outputs": [
        {
          "output_type": "execute_result",
          "data": {
            "text/plain": [
              "(2400, 1)"
            ]
          },
          "metadata": {},
          "execution_count": 685
        }
      ]
    },
    {
      "cell_type": "code",
      "source": [
        "clf.fit(X_train_A2_RGB, y_train_A2_RGB)"
      ],
      "metadata": {
        "colab": {
          "base_uri": "https://localhost:8080/"
        },
        "outputId": "06751b2e-3cbf-45c1-c80e-6e9589f00965",
        "id": "nJlXfRCvfsgq"
      },
      "execution_count": 686,
      "outputs": [
        {
          "output_type": "stream",
          "name": "stderr",
          "text": [
            "/usr/local/lib/python3.7/dist-packages/ipykernel_launcher.py:1: DataConversionWarning: A column-vector y was passed when a 1d array was expected. Please change the shape of y to (n_samples,), for example using ravel().\n",
            "  \"\"\"Entry point for launching an IPython kernel.\n"
          ]
        },
        {
          "output_type": "execute_result",
          "data": {
            "text/plain": [
              "RandomForestClassifier()"
            ]
          },
          "metadata": {},
          "execution_count": 686
        }
      ]
    },
    {
      "cell_type": "code",
      "source": [
        "y_pred_A2_RGB = clf.predict(X_test_A2_RGB)"
      ],
      "metadata": {
        "id": "Mr4rCcPifsgq"
      },
      "execution_count": 687,
      "outputs": []
    },
    {
      "cell_type": "code",
      "source": [
        "print(\"Accuracy:\", metrics.accuracy_score(y_test_A2_RGB, y_pred_A2_RGB))"
      ],
      "metadata": {
        "colab": {
          "base_uri": "https://localhost:8080/"
        },
        "outputId": "64a3c522-fff0-4c82-cafe-cf9426aa541e",
        "id": "BkA5kF5Vfsgq"
      },
      "execution_count": 688,
      "outputs": [
        {
          "output_type": "stream",
          "name": "stdout",
          "text": [
            "Accuracy: 0.95625\n"
          ]
        }
      ]
    },
    {
      "cell_type": "markdown",
      "source": [
        "###HSV"
      ],
      "metadata": {
        "id": "RZb3Xue3fsgq"
      }
    },
    {
      "cell_type": "code",
      "source": [
        "print(table_A2Set1.columns)"
      ],
      "metadata": {
        "colab": {
          "base_uri": "https://localhost:8080/"
        },
        "outputId": "13997e27-522f-40b7-d2a6-21c794cfca19",
        "id": "WaO4k2K8fsgq"
      },
      "execution_count": 689,
      "outputs": [
        {
          "output_type": "stream",
          "name": "stdout",
          "text": [
            "Index(['R-ref', 'G-ref', 'B-ref', 'R-Shad', 'G-Shad', 'B-Shad', 'H-ref',\n",
            "       'S-ref', 'V-ref', 'H-Shad', 'S-Shad', 'V-Shad', 'Setting', 'Ref',\n",
            "       'Shad', 'Img'],\n",
            "      dtype='object')\n"
          ]
        }
      ]
    },
    {
      "cell_type": "code",
      "source": [
        "HSV_A2_Set1 = table_A2Set1.drop(['R-ref','G-ref','B-ref','R-Shad','G-Shad','B-Shad','Setting','Ref','Shad','Img'], axis=1)"
      ],
      "metadata": {
        "id": "UBWdPn2ffsgq"
      },
      "execution_count": 690,
      "outputs": []
    },
    {
      "cell_type": "code",
      "source": [
        "HSV_A2_concat2 = RGB_A2_concat1.drop(['H-ref','S-ref','V-ref','H-Shad','S-Shad','V-Shad','Setting','Ref','Shad','Img','Set4'], axis=1)"
      ],
      "metadata": {
        "id": "TOLzHUcIfsgr"
      },
      "execution_count": 691,
      "outputs": []
    },
    {
      "cell_type": "code",
      "source": [
        "X_test_A2_HSV = np.array(HSV_A2_Set1)"
      ],
      "metadata": {
        "id": "jbg9-iKkfsgr"
      },
      "execution_count": 692,
      "outputs": []
    },
    {
      "cell_type": "code",
      "source": [
        "y_A2_HSV =  table_A2Set1.iloc[:,14:15]"
      ],
      "metadata": {
        "id": "XQBJSPXpfsgr"
      },
      "execution_count": 693,
      "outputs": []
    },
    {
      "cell_type": "code",
      "source": [
        "y_test_A2_HSV = np.array(y_A2_RGB)"
      ],
      "metadata": {
        "id": "G0mJHUDtfsgr"
      },
      "execution_count": 694,
      "outputs": []
    },
    {
      "cell_type": "code",
      "source": [
        "X_train_A2_HSV = np.array(HSV_A2_concat2)"
      ],
      "metadata": {
        "id": "MYuphJxqfsgr"
      },
      "execution_count": 695,
      "outputs": []
    },
    {
      "cell_type": "code",
      "source": [
        "y_train_A2HSV = RGB_A2_concat1.iloc[:,14:15]"
      ],
      "metadata": {
        "id": "xldroU3hfsgr"
      },
      "execution_count": 696,
      "outputs": []
    },
    {
      "cell_type": "code",
      "source": [
        "y_train_A2_HSV = np.array(y_train_A2HSV)"
      ],
      "metadata": {
        "id": "Gjz_GGx3fsgr"
      },
      "execution_count": 697,
      "outputs": []
    },
    {
      "cell_type": "code",
      "source": [
        "X_train_A2_HSV.shape"
      ],
      "metadata": {
        "colab": {
          "base_uri": "https://localhost:8080/"
        },
        "outputId": "d156c494-38ae-488c-82eb-7a91008d8738",
        "id": "0I_d-fjqfsgr"
      },
      "execution_count": 698,
      "outputs": [
        {
          "output_type": "execute_result",
          "data": {
            "text/plain": [
              "(2400, 6)"
            ]
          },
          "metadata": {},
          "execution_count": 698
        }
      ]
    },
    {
      "cell_type": "code",
      "source": [
        "y_train_A2_HSV.shape"
      ],
      "metadata": {
        "colab": {
          "base_uri": "https://localhost:8080/"
        },
        "outputId": "46e6c46c-be84-4bac-c82e-f7d3ec96d0b9",
        "id": "mFSuqlfyfsgr"
      },
      "execution_count": 699,
      "outputs": [
        {
          "output_type": "execute_result",
          "data": {
            "text/plain": [
              "(2400, 1)"
            ]
          },
          "metadata": {},
          "execution_count": 699
        }
      ]
    },
    {
      "cell_type": "code",
      "source": [
        "clf.fit(X_train_A2_HSV, y_train_A2_HSV)"
      ],
      "metadata": {
        "colab": {
          "base_uri": "https://localhost:8080/"
        },
        "outputId": "d1fe48b0-0625-4009-e255-c37fdc98ffde",
        "id": "_Hd02RyCfsgs"
      },
      "execution_count": 700,
      "outputs": [
        {
          "output_type": "stream",
          "name": "stderr",
          "text": [
            "/usr/local/lib/python3.7/dist-packages/ipykernel_launcher.py:1: DataConversionWarning: A column-vector y was passed when a 1d array was expected. Please change the shape of y to (n_samples,), for example using ravel().\n",
            "  \"\"\"Entry point for launching an IPython kernel.\n"
          ]
        },
        {
          "output_type": "execute_result",
          "data": {
            "text/plain": [
              "RandomForestClassifier()"
            ]
          },
          "metadata": {},
          "execution_count": 700
        }
      ]
    },
    {
      "cell_type": "code",
      "source": [
        "y_pred_A2_HSV = clf.predict(X_test_A2_HSV)"
      ],
      "metadata": {
        "id": "mTrqWErPfsgs"
      },
      "execution_count": 701,
      "outputs": []
    },
    {
      "cell_type": "code",
      "source": [
        "print(\"Accuracy:\", metrics.accuracy_score(y_test_A2_HSV, y_pred_A2_HSV))"
      ],
      "metadata": {
        "colab": {
          "base_uri": "https://localhost:8080/"
        },
        "outputId": "f2a4b014-8aa6-4fa8-8ad3-7bc520a970af",
        "id": "w9a9emMufsgs"
      },
      "execution_count": 702,
      "outputs": [
        {
          "output_type": "stream",
          "name": "stdout",
          "text": [
            "Accuracy: 0.0625\n"
          ]
        }
      ]
    },
    {
      "cell_type": "markdown",
      "source": [
        "##A3"
      ],
      "metadata": {
        "id": "PHQLHF5yh0le"
      }
    },
    {
      "cell_type": "code",
      "source": [
        "table_A3Set1 = pd.read_excel(Set1 , sheet_name='A3Set1 ')\n",
        "table_A3Set1.head()"
      ],
      "metadata": {
        "colab": {
          "base_uri": "https://localhost:8080/",
          "height": 337
        },
        "outputId": "2e86c2c6-48e2-4c18-cf6e-8867b1b1d06e",
        "id": "3XA21fdZh0le"
      },
      "execution_count": 703,
      "outputs": [
        {
          "output_type": "execute_result",
          "data": {
            "text/html": [
              "\n",
              "  <div id=\"df-f6a3a635-3c6f-40f6-8ec3-c0fb545b1c4c\">\n",
              "    <div class=\"colab-df-container\">\n",
              "      <div>\n",
              "<style scoped>\n",
              "    .dataframe tbody tr th:only-of-type {\n",
              "        vertical-align: middle;\n",
              "    }\n",
              "\n",
              "    .dataframe tbody tr th {\n",
              "        vertical-align: top;\n",
              "    }\n",
              "\n",
              "    .dataframe thead th {\n",
              "        text-align: right;\n",
              "    }\n",
              "</style>\n",
              "<table border=\"1\" class=\"dataframe\">\n",
              "  <thead>\n",
              "    <tr style=\"text-align: right;\">\n",
              "      <th></th>\n",
              "      <th>R-ref</th>\n",
              "      <th>G-ref</th>\n",
              "      <th>B-ref</th>\n",
              "      <th>R-Shad</th>\n",
              "      <th>G-Shad</th>\n",
              "      <th>B-Shad</th>\n",
              "      <th>H-ref</th>\n",
              "      <th>S-ref</th>\n",
              "      <th>V-ref</th>\n",
              "      <th>H-Shad</th>\n",
              "      <th>S-Shad</th>\n",
              "      <th>V-Shad</th>\n",
              "      <th>Setting</th>\n",
              "      <th>Ref</th>\n",
              "      <th>Shad</th>\n",
              "      <th>Img</th>\n",
              "    </tr>\n",
              "  </thead>\n",
              "  <tbody>\n",
              "    <tr>\n",
              "      <th>0</th>\n",
              "      <td>242.097708</td>\n",
              "      <td>230.045066</td>\n",
              "      <td>197.752525</td>\n",
              "      <td>237.360393</td>\n",
              "      <td>224.253915</td>\n",
              "      <td>190.496432</td>\n",
              "      <td>21.867618</td>\n",
              "      <td>46.779526</td>\n",
              "      <td>242.097708</td>\n",
              "      <td>21.487073</td>\n",
              "      <td>50.394959</td>\n",
              "      <td>237.360393</td>\n",
              "      <td>Set1</td>\n",
              "      <td>A3</td>\n",
              "      <td>A1</td>\n",
              "      <td>BAD1342F-482E-488F-8241-A393B4779E26.png</td>\n",
              "    </tr>\n",
              "    <tr>\n",
              "      <th>1</th>\n",
              "      <td>241.384713</td>\n",
              "      <td>229.412879</td>\n",
              "      <td>196.570027</td>\n",
              "      <td>236.735798</td>\n",
              "      <td>223.657956</td>\n",
              "      <td>190.002873</td>\n",
              "      <td>22.034674</td>\n",
              "      <td>47.431527</td>\n",
              "      <td>241.384713</td>\n",
              "      <td>21.471967</td>\n",
              "      <td>50.415439</td>\n",
              "      <td>236.735798</td>\n",
              "      <td>Set1</td>\n",
              "      <td>A3</td>\n",
              "      <td>A1</td>\n",
              "      <td>0E4BF624-DA48-45D7-8CEF-1F893F3E36A9.png</td>\n",
              "    </tr>\n",
              "    <tr>\n",
              "      <th>2</th>\n",
              "      <td>241.642094</td>\n",
              "      <td>229.601301</td>\n",
              "      <td>197.312646</td>\n",
              "      <td>236.987304</td>\n",
              "      <td>224.070336</td>\n",
              "      <td>190.256417</td>\n",
              "      <td>21.848776</td>\n",
              "      <td>46.843046</td>\n",
              "      <td>241.642094</td>\n",
              "      <td>21.583449</td>\n",
              "      <td>50.356408</td>\n",
              "      <td>236.987304</td>\n",
              "      <td>Set1</td>\n",
              "      <td>A3</td>\n",
              "      <td>A1</td>\n",
              "      <td>A5A67F7B-D2B1-4729-8A0B-9BE2F2DF55C6.png</td>\n",
              "    </tr>\n",
              "    <tr>\n",
              "      <th>3</th>\n",
              "      <td>241.836053</td>\n",
              "      <td>229.881216</td>\n",
              "      <td>196.987665</td>\n",
              "      <td>236.912890</td>\n",
              "      <td>224.278936</td>\n",
              "      <td>189.873784</td>\n",
              "      <td>22.060703</td>\n",
              "      <td>47.367618</td>\n",
              "      <td>241.836053</td>\n",
              "      <td>21.928737</td>\n",
              "      <td>50.654249</td>\n",
              "      <td>236.912890</td>\n",
              "      <td>Set1</td>\n",
              "      <td>A3</td>\n",
              "      <td>A1</td>\n",
              "      <td>35D1BEA8-E650-4D83-9D61-17AD65EABD39.png</td>\n",
              "    </tr>\n",
              "    <tr>\n",
              "      <th>4</th>\n",
              "      <td>241.718434</td>\n",
              "      <td>229.483100</td>\n",
              "      <td>197.120144</td>\n",
              "      <td>236.738393</td>\n",
              "      <td>223.628209</td>\n",
              "      <td>190.118895</td>\n",
              "      <td>21.825369</td>\n",
              "      <td>47.105089</td>\n",
              "      <td>241.718434</td>\n",
              "      <td>21.482254</td>\n",
              "      <td>50.271986</td>\n",
              "      <td>236.738393</td>\n",
              "      <td>Set1</td>\n",
              "      <td>A3</td>\n",
              "      <td>A1</td>\n",
              "      <td>18FE9FE4-F848-465E-B7FE-7792C8A083CB.png</td>\n",
              "    </tr>\n",
              "  </tbody>\n",
              "</table>\n",
              "</div>\n",
              "      <button class=\"colab-df-convert\" onclick=\"convertToInteractive('df-f6a3a635-3c6f-40f6-8ec3-c0fb545b1c4c')\"\n",
              "              title=\"Convert this dataframe to an interactive table.\"\n",
              "              style=\"display:none;\">\n",
              "        \n",
              "  <svg xmlns=\"http://www.w3.org/2000/svg\" height=\"24px\"viewBox=\"0 0 24 24\"\n",
              "       width=\"24px\">\n",
              "    <path d=\"M0 0h24v24H0V0z\" fill=\"none\"/>\n",
              "    <path d=\"M18.56 5.44l.94 2.06.94-2.06 2.06-.94-2.06-.94-.94-2.06-.94 2.06-2.06.94zm-11 1L8.5 8.5l.94-2.06 2.06-.94-2.06-.94L8.5 2.5l-.94 2.06-2.06.94zm10 10l.94 2.06.94-2.06 2.06-.94-2.06-.94-.94-2.06-.94 2.06-2.06.94z\"/><path d=\"M17.41 7.96l-1.37-1.37c-.4-.4-.92-.59-1.43-.59-.52 0-1.04.2-1.43.59L10.3 9.45l-7.72 7.72c-.78.78-.78 2.05 0 2.83L4 21.41c.39.39.9.59 1.41.59.51 0 1.02-.2 1.41-.59l7.78-7.78 2.81-2.81c.8-.78.8-2.07 0-2.86zM5.41 20L4 18.59l7.72-7.72 1.47 1.35L5.41 20z\"/>\n",
              "  </svg>\n",
              "      </button>\n",
              "      \n",
              "  <style>\n",
              "    .colab-df-container {\n",
              "      display:flex;\n",
              "      flex-wrap:wrap;\n",
              "      gap: 12px;\n",
              "    }\n",
              "\n",
              "    .colab-df-convert {\n",
              "      background-color: #E8F0FE;\n",
              "      border: none;\n",
              "      border-radius: 50%;\n",
              "      cursor: pointer;\n",
              "      display: none;\n",
              "      fill: #1967D2;\n",
              "      height: 32px;\n",
              "      padding: 0 0 0 0;\n",
              "      width: 32px;\n",
              "    }\n",
              "\n",
              "    .colab-df-convert:hover {\n",
              "      background-color: #E2EBFA;\n",
              "      box-shadow: 0px 1px 2px rgba(60, 64, 67, 0.3), 0px 1px 3px 1px rgba(60, 64, 67, 0.15);\n",
              "      fill: #174EA6;\n",
              "    }\n",
              "\n",
              "    [theme=dark] .colab-df-convert {\n",
              "      background-color: #3B4455;\n",
              "      fill: #D2E3FC;\n",
              "    }\n",
              "\n",
              "    [theme=dark] .colab-df-convert:hover {\n",
              "      background-color: #434B5C;\n",
              "      box-shadow: 0px 1px 3px 1px rgba(0, 0, 0, 0.15);\n",
              "      filter: drop-shadow(0px 1px 2px rgba(0, 0, 0, 0.3));\n",
              "      fill: #FFFFFF;\n",
              "    }\n",
              "  </style>\n",
              "\n",
              "      <script>\n",
              "        const buttonEl =\n",
              "          document.querySelector('#df-f6a3a635-3c6f-40f6-8ec3-c0fb545b1c4c button.colab-df-convert');\n",
              "        buttonEl.style.display =\n",
              "          google.colab.kernel.accessAllowed ? 'block' : 'none';\n",
              "\n",
              "        async function convertToInteractive(key) {\n",
              "          const element = document.querySelector('#df-f6a3a635-3c6f-40f6-8ec3-c0fb545b1c4c');\n",
              "          const dataTable =\n",
              "            await google.colab.kernel.invokeFunction('convertToInteractive',\n",
              "                                                     [key], {});\n",
              "          if (!dataTable) return;\n",
              "\n",
              "          const docLinkHtml = 'Like what you see? Visit the ' +\n",
              "            '<a target=\"_blank\" href=https://colab.research.google.com/notebooks/data_table.ipynb>data table notebook</a>'\n",
              "            + ' to learn more about interactive tables.';\n",
              "          element.innerHTML = '';\n",
              "          dataTable['output_type'] = 'display_data';\n",
              "          await google.colab.output.renderOutput(dataTable, element);\n",
              "          const docLink = document.createElement('div');\n",
              "          docLink.innerHTML = docLinkHtml;\n",
              "          element.appendChild(docLink);\n",
              "        }\n",
              "      </script>\n",
              "    </div>\n",
              "  </div>\n",
              "  "
            ],
            "text/plain": [
              "        R-ref       G-ref  ...  Shad                                       Img\n",
              "0  242.097708  230.045066  ...    A1  BAD1342F-482E-488F-8241-A393B4779E26.png\n",
              "1  241.384713  229.412879  ...    A1  0E4BF624-DA48-45D7-8CEF-1F893F3E36A9.png\n",
              "2  241.642094  229.601301  ...    A1  A5A67F7B-D2B1-4729-8A0B-9BE2F2DF55C6.png\n",
              "3  241.836053  229.881216  ...    A1  35D1BEA8-E650-4D83-9D61-17AD65EABD39.png\n",
              "4  241.718434  229.483100  ...    A1  18FE9FE4-F848-465E-B7FE-7792C8A083CB.png\n",
              "\n",
              "[5 rows x 16 columns]"
            ]
          },
          "metadata": {},
          "execution_count": 703
        }
      ]
    },
    {
      "cell_type": "code",
      "source": [
        "table_A3Set2 = pd.read_excel(Set2, sheet_name='A3Set2 ')\n",
        "table_A3Set2.head()"
      ],
      "metadata": {
        "colab": {
          "base_uri": "https://localhost:8080/",
          "height": 337
        },
        "outputId": "aaf94d89-3a49-4fbe-d369-4337ffa14a49",
        "id": "E5iCzyKxh0lf"
      },
      "execution_count": 704,
      "outputs": [
        {
          "output_type": "execute_result",
          "data": {
            "text/html": [
              "\n",
              "  <div id=\"df-c213db84-7f46-46f7-b0b5-51bc809a4732\">\n",
              "    <div class=\"colab-df-container\">\n",
              "      <div>\n",
              "<style scoped>\n",
              "    .dataframe tbody tr th:only-of-type {\n",
              "        vertical-align: middle;\n",
              "    }\n",
              "\n",
              "    .dataframe tbody tr th {\n",
              "        vertical-align: top;\n",
              "    }\n",
              "\n",
              "    .dataframe thead th {\n",
              "        text-align: right;\n",
              "    }\n",
              "</style>\n",
              "<table border=\"1\" class=\"dataframe\">\n",
              "  <thead>\n",
              "    <tr style=\"text-align: right;\">\n",
              "      <th></th>\n",
              "      <th>R-ref</th>\n",
              "      <th>G-ref</th>\n",
              "      <th>B-ref</th>\n",
              "      <th>R-Shad</th>\n",
              "      <th>G-Shad</th>\n",
              "      <th>B-Shad</th>\n",
              "      <th>H-ref</th>\n",
              "      <th>S-ref</th>\n",
              "      <th>V-ref</th>\n",
              "      <th>H-Shad</th>\n",
              "      <th>S-Shad</th>\n",
              "      <th>V-Shad</th>\n",
              "      <th>Setting</th>\n",
              "      <th>Ref</th>\n",
              "      <th>Shad</th>\n",
              "      <th>Img</th>\n",
              "    </tr>\n",
              "  </thead>\n",
              "  <tbody>\n",
              "    <tr>\n",
              "      <th>0</th>\n",
              "      <td>234.103730</td>\n",
              "      <td>217.411713</td>\n",
              "      <td>174.726399</td>\n",
              "      <td>231.440460</td>\n",
              "      <td>215.125382</td>\n",
              "      <td>172.431285</td>\n",
              "      <td>21.989899</td>\n",
              "      <td>64.771853</td>\n",
              "      <td>234.104798</td>\n",
              "      <td>22.003707</td>\n",
              "      <td>65.072004</td>\n",
              "      <td>231.440460</td>\n",
              "      <td>Set2</td>\n",
              "      <td>A3</td>\n",
              "      <td>A1</td>\n",
              "      <td>DF15ABDE-6706-4DBF-B915-3A5A55675BE9.png</td>\n",
              "    </tr>\n",
              "    <tr>\n",
              "      <th>1</th>\n",
              "      <td>231.010587</td>\n",
              "      <td>213.546620</td>\n",
              "      <td>168.885198</td>\n",
              "      <td>228.600130</td>\n",
              "      <td>211.602724</td>\n",
              "      <td>168.084886</td>\n",
              "      <td>21.813714</td>\n",
              "      <td>68.579545</td>\n",
              "      <td>231.010587</td>\n",
              "      <td>21.992216</td>\n",
              "      <td>67.520248</td>\n",
              "      <td>228.600130</td>\n",
              "      <td>Set2</td>\n",
              "      <td>A3</td>\n",
              "      <td>A1</td>\n",
              "      <td>03CE5312-9117-494B-A20A-C13DED940437.png</td>\n",
              "    </tr>\n",
              "    <tr>\n",
              "      <th>2</th>\n",
              "      <td>234.168706</td>\n",
              "      <td>216.933664</td>\n",
              "      <td>173.458625</td>\n",
              "      <td>232.836067</td>\n",
              "      <td>215.902233</td>\n",
              "      <td>172.368733</td>\n",
              "      <td>21.868687</td>\n",
              "      <td>66.170455</td>\n",
              "      <td>234.172494</td>\n",
              "      <td>21.993235</td>\n",
              "      <td>66.237976</td>\n",
              "      <td>232.836530</td>\n",
              "      <td>Set2</td>\n",
              "      <td>A3</td>\n",
              "      <td>A1</td>\n",
              "      <td>9B833AEA-985E-456A-9772-D946B2ED95FF.png</td>\n",
              "    </tr>\n",
              "    <tr>\n",
              "      <th>3</th>\n",
              "      <td>234.541472</td>\n",
              "      <td>216.721251</td>\n",
              "      <td>173.680847</td>\n",
              "      <td>233.326939</td>\n",
              "      <td>215.266889</td>\n",
              "      <td>172.293115</td>\n",
              "      <td>21.552545</td>\n",
              "      <td>66.236305</td>\n",
              "      <td>234.543415</td>\n",
              "      <td>21.434251</td>\n",
              "      <td>66.747845</td>\n",
              "      <td>233.327032</td>\n",
              "      <td>Set2</td>\n",
              "      <td>A3</td>\n",
              "      <td>A1</td>\n",
              "      <td>D252705C-04AF-4E1A-8A27-F9EC7B5B9877.png</td>\n",
              "    </tr>\n",
              "    <tr>\n",
              "      <th>4</th>\n",
              "      <td>234.573524</td>\n",
              "      <td>216.957168</td>\n",
              "      <td>174.561383</td>\n",
              "      <td>232.678065</td>\n",
              "      <td>215.740895</td>\n",
              "      <td>173.239644</td>\n",
              "      <td>21.469697</td>\n",
              "      <td>65.323524</td>\n",
              "      <td>234.573524</td>\n",
              "      <td>21.896580</td>\n",
              "      <td>65.207766</td>\n",
              "      <td>232.678065</td>\n",
              "      <td>Set2</td>\n",
              "      <td>A3</td>\n",
              "      <td>A1</td>\n",
              "      <td>F93D031B-458C-4AC3-88ED-14FB49A9A804.png</td>\n",
              "    </tr>\n",
              "  </tbody>\n",
              "</table>\n",
              "</div>\n",
              "      <button class=\"colab-df-convert\" onclick=\"convertToInteractive('df-c213db84-7f46-46f7-b0b5-51bc809a4732')\"\n",
              "              title=\"Convert this dataframe to an interactive table.\"\n",
              "              style=\"display:none;\">\n",
              "        \n",
              "  <svg xmlns=\"http://www.w3.org/2000/svg\" height=\"24px\"viewBox=\"0 0 24 24\"\n",
              "       width=\"24px\">\n",
              "    <path d=\"M0 0h24v24H0V0z\" fill=\"none\"/>\n",
              "    <path d=\"M18.56 5.44l.94 2.06.94-2.06 2.06-.94-2.06-.94-.94-2.06-.94 2.06-2.06.94zm-11 1L8.5 8.5l.94-2.06 2.06-.94-2.06-.94L8.5 2.5l-.94 2.06-2.06.94zm10 10l.94 2.06.94-2.06 2.06-.94-2.06-.94-.94-2.06-.94 2.06-2.06.94z\"/><path d=\"M17.41 7.96l-1.37-1.37c-.4-.4-.92-.59-1.43-.59-.52 0-1.04.2-1.43.59L10.3 9.45l-7.72 7.72c-.78.78-.78 2.05 0 2.83L4 21.41c.39.39.9.59 1.41.59.51 0 1.02-.2 1.41-.59l7.78-7.78 2.81-2.81c.8-.78.8-2.07 0-2.86zM5.41 20L4 18.59l7.72-7.72 1.47 1.35L5.41 20z\"/>\n",
              "  </svg>\n",
              "      </button>\n",
              "      \n",
              "  <style>\n",
              "    .colab-df-container {\n",
              "      display:flex;\n",
              "      flex-wrap:wrap;\n",
              "      gap: 12px;\n",
              "    }\n",
              "\n",
              "    .colab-df-convert {\n",
              "      background-color: #E8F0FE;\n",
              "      border: none;\n",
              "      border-radius: 50%;\n",
              "      cursor: pointer;\n",
              "      display: none;\n",
              "      fill: #1967D2;\n",
              "      height: 32px;\n",
              "      padding: 0 0 0 0;\n",
              "      width: 32px;\n",
              "    }\n",
              "\n",
              "    .colab-df-convert:hover {\n",
              "      background-color: #E2EBFA;\n",
              "      box-shadow: 0px 1px 2px rgba(60, 64, 67, 0.3), 0px 1px 3px 1px rgba(60, 64, 67, 0.15);\n",
              "      fill: #174EA6;\n",
              "    }\n",
              "\n",
              "    [theme=dark] .colab-df-convert {\n",
              "      background-color: #3B4455;\n",
              "      fill: #D2E3FC;\n",
              "    }\n",
              "\n",
              "    [theme=dark] .colab-df-convert:hover {\n",
              "      background-color: #434B5C;\n",
              "      box-shadow: 0px 1px 3px 1px rgba(0, 0, 0, 0.15);\n",
              "      filter: drop-shadow(0px 1px 2px rgba(0, 0, 0, 0.3));\n",
              "      fill: #FFFFFF;\n",
              "    }\n",
              "  </style>\n",
              "\n",
              "      <script>\n",
              "        const buttonEl =\n",
              "          document.querySelector('#df-c213db84-7f46-46f7-b0b5-51bc809a4732 button.colab-df-convert');\n",
              "        buttonEl.style.display =\n",
              "          google.colab.kernel.accessAllowed ? 'block' : 'none';\n",
              "\n",
              "        async function convertToInteractive(key) {\n",
              "          const element = document.querySelector('#df-c213db84-7f46-46f7-b0b5-51bc809a4732');\n",
              "          const dataTable =\n",
              "            await google.colab.kernel.invokeFunction('convertToInteractive',\n",
              "                                                     [key], {});\n",
              "          if (!dataTable) return;\n",
              "\n",
              "          const docLinkHtml = 'Like what you see? Visit the ' +\n",
              "            '<a target=\"_blank\" href=https://colab.research.google.com/notebooks/data_table.ipynb>data table notebook</a>'\n",
              "            + ' to learn more about interactive tables.';\n",
              "          element.innerHTML = '';\n",
              "          dataTable['output_type'] = 'display_data';\n",
              "          await google.colab.output.renderOutput(dataTable, element);\n",
              "          const docLink = document.createElement('div');\n",
              "          docLink.innerHTML = docLinkHtml;\n",
              "          element.appendChild(docLink);\n",
              "        }\n",
              "      </script>\n",
              "    </div>\n",
              "  </div>\n",
              "  "
            ],
            "text/plain": [
              "        R-ref       G-ref  ...  Shad                                       Img\n",
              "0  234.103730  217.411713  ...    A1  DF15ABDE-6706-4DBF-B915-3A5A55675BE9.png\n",
              "1  231.010587  213.546620  ...    A1  03CE5312-9117-494B-A20A-C13DED940437.png\n",
              "2  234.168706  216.933664  ...    A1  9B833AEA-985E-456A-9772-D946B2ED95FF.png\n",
              "3  234.541472  216.721251  ...    A1  D252705C-04AF-4E1A-8A27-F9EC7B5B9877.png\n",
              "4  234.573524  216.957168  ...    A1  F93D031B-458C-4AC3-88ED-14FB49A9A804.png\n",
              "\n",
              "[5 rows x 16 columns]"
            ]
          },
          "metadata": {},
          "execution_count": 704
        }
      ]
    },
    {
      "cell_type": "code",
      "source": [
        "table_A3Set3 = pd.read_excel(Set3, sheet_name='A3Set3 ')\n",
        "table_A3Set3.head()"
      ],
      "metadata": {
        "colab": {
          "base_uri": "https://localhost:8080/",
          "height": 337
        },
        "outputId": "10173c79-1971-46a9-95f5-e8fdc794f69d",
        "id": "agdBpgZ-h0lf"
      },
      "execution_count": 705,
      "outputs": [
        {
          "output_type": "execute_result",
          "data": {
            "text/html": [
              "\n",
              "  <div id=\"df-d164acd2-f039-4ece-ac7e-137a498d1eca\">\n",
              "    <div class=\"colab-df-container\">\n",
              "      <div>\n",
              "<style scoped>\n",
              "    .dataframe tbody tr th:only-of-type {\n",
              "        vertical-align: middle;\n",
              "    }\n",
              "\n",
              "    .dataframe tbody tr th {\n",
              "        vertical-align: top;\n",
              "    }\n",
              "\n",
              "    .dataframe thead th {\n",
              "        text-align: right;\n",
              "    }\n",
              "</style>\n",
              "<table border=\"1\" class=\"dataframe\">\n",
              "  <thead>\n",
              "    <tr style=\"text-align: right;\">\n",
              "      <th></th>\n",
              "      <th>R-ref</th>\n",
              "      <th>G-ref</th>\n",
              "      <th>B-ref</th>\n",
              "      <th>R-Shad</th>\n",
              "      <th>G-Shad</th>\n",
              "      <th>B-Shad</th>\n",
              "      <th>H-ref</th>\n",
              "      <th>S-ref</th>\n",
              "      <th>V-ref</th>\n",
              "      <th>H-Shad</th>\n",
              "      <th>S-Shad</th>\n",
              "      <th>V-Shad</th>\n",
              "      <th>Setting</th>\n",
              "      <th>Ref</th>\n",
              "      <th>Shad</th>\n",
              "      <th>Img</th>\n",
              "    </tr>\n",
              "  </thead>\n",
              "  <tbody>\n",
              "    <tr>\n",
              "      <th>0</th>\n",
              "      <td>243.562937</td>\n",
              "      <td>231.555264</td>\n",
              "      <td>199.463967</td>\n",
              "      <td>238.943657</td>\n",
              "      <td>225.964044</td>\n",
              "      <td>192.240386</td>\n",
              "      <td>21.546474</td>\n",
              "      <td>49.878232</td>\n",
              "      <td>238.943657</td>\n",
              "      <td>21.546474</td>\n",
              "      <td>49.878232</td>\n",
              "      <td>238.943657</td>\n",
              "      <td>Set3</td>\n",
              "      <td>A3</td>\n",
              "      <td>A1</td>\n",
              "      <td>66373A06-43CB-4E73-84DA-6B504F4F1C45.png</td>\n",
              "    </tr>\n",
              "    <tr>\n",
              "      <th>1</th>\n",
              "      <td>242.855769</td>\n",
              "      <td>230.894619</td>\n",
              "      <td>198.359460</td>\n",
              "      <td>238.431285</td>\n",
              "      <td>225.416829</td>\n",
              "      <td>191.849504</td>\n",
              "      <td>21.482995</td>\n",
              "      <td>49.884533</td>\n",
              "      <td>238.431285</td>\n",
              "      <td>21.482995</td>\n",
              "      <td>49.884533</td>\n",
              "      <td>238.431285</td>\n",
              "      <td>Set3</td>\n",
              "      <td>A3</td>\n",
              "      <td>A1</td>\n",
              "      <td>F87BFB23-54A6-48EC-95AB-B690B56F7934.png</td>\n",
              "    </tr>\n",
              "    <tr>\n",
              "      <th>2</th>\n",
              "      <td>243.108197</td>\n",
              "      <td>231.144231</td>\n",
              "      <td>199.196775</td>\n",
              "      <td>238.676768</td>\n",
              "      <td>225.718006</td>\n",
              "      <td>192.151700</td>\n",
              "      <td>21.513391</td>\n",
              "      <td>49.759244</td>\n",
              "      <td>238.676768</td>\n",
              "      <td>21.513391</td>\n",
              "      <td>49.759244</td>\n",
              "      <td>238.676768</td>\n",
              "      <td>Set3</td>\n",
              "      <td>A3</td>\n",
              "      <td>A1</td>\n",
              "      <td>67DEF170-ED6C-468A-AC90-9DF1ED4C4091.png</td>\n",
              "    </tr>\n",
              "    <tr>\n",
              "      <th>3</th>\n",
              "      <td>243.268454</td>\n",
              "      <td>231.407828</td>\n",
              "      <td>198.849165</td>\n",
              "      <td>238.443332</td>\n",
              "      <td>225.841442</td>\n",
              "      <td>191.568807</td>\n",
              "      <td>21.917339</td>\n",
              "      <td>50.123251</td>\n",
              "      <td>238.443332</td>\n",
              "      <td>21.917339</td>\n",
              "      <td>50.123251</td>\n",
              "      <td>238.443332</td>\n",
              "      <td>Set3</td>\n",
              "      <td>A3</td>\n",
              "      <td>A1</td>\n",
              "      <td>861A0A06-2BEB-4C2D-9ECD-F753ACF6F036.png</td>\n",
              "    </tr>\n",
              "    <tr>\n",
              "      <th>4</th>\n",
              "      <td>243.186869</td>\n",
              "      <td>231.041278</td>\n",
              "      <td>198.913753</td>\n",
              "      <td>238.348161</td>\n",
              "      <td>225.244741</td>\n",
              "      <td>191.956723</td>\n",
              "      <td>21.428598</td>\n",
              "      <td>49.685386</td>\n",
              "      <td>238.348161</td>\n",
              "      <td>21.428598</td>\n",
              "      <td>49.685386</td>\n",
              "      <td>238.348161</td>\n",
              "      <td>Set3</td>\n",
              "      <td>A3</td>\n",
              "      <td>A1</td>\n",
              "      <td>BC54DA9B-E07D-4E21-8DB1-CC714427C684.png</td>\n",
              "    </tr>\n",
              "  </tbody>\n",
              "</table>\n",
              "</div>\n",
              "      <button class=\"colab-df-convert\" onclick=\"convertToInteractive('df-d164acd2-f039-4ece-ac7e-137a498d1eca')\"\n",
              "              title=\"Convert this dataframe to an interactive table.\"\n",
              "              style=\"display:none;\">\n",
              "        \n",
              "  <svg xmlns=\"http://www.w3.org/2000/svg\" height=\"24px\"viewBox=\"0 0 24 24\"\n",
              "       width=\"24px\">\n",
              "    <path d=\"M0 0h24v24H0V0z\" fill=\"none\"/>\n",
              "    <path d=\"M18.56 5.44l.94 2.06.94-2.06 2.06-.94-2.06-.94-.94-2.06-.94 2.06-2.06.94zm-11 1L8.5 8.5l.94-2.06 2.06-.94-2.06-.94L8.5 2.5l-.94 2.06-2.06.94zm10 10l.94 2.06.94-2.06 2.06-.94-2.06-.94-.94-2.06-.94 2.06-2.06.94z\"/><path d=\"M17.41 7.96l-1.37-1.37c-.4-.4-.92-.59-1.43-.59-.52 0-1.04.2-1.43.59L10.3 9.45l-7.72 7.72c-.78.78-.78 2.05 0 2.83L4 21.41c.39.39.9.59 1.41.59.51 0 1.02-.2 1.41-.59l7.78-7.78 2.81-2.81c.8-.78.8-2.07 0-2.86zM5.41 20L4 18.59l7.72-7.72 1.47 1.35L5.41 20z\"/>\n",
              "  </svg>\n",
              "      </button>\n",
              "      \n",
              "  <style>\n",
              "    .colab-df-container {\n",
              "      display:flex;\n",
              "      flex-wrap:wrap;\n",
              "      gap: 12px;\n",
              "    }\n",
              "\n",
              "    .colab-df-convert {\n",
              "      background-color: #E8F0FE;\n",
              "      border: none;\n",
              "      border-radius: 50%;\n",
              "      cursor: pointer;\n",
              "      display: none;\n",
              "      fill: #1967D2;\n",
              "      height: 32px;\n",
              "      padding: 0 0 0 0;\n",
              "      width: 32px;\n",
              "    }\n",
              "\n",
              "    .colab-df-convert:hover {\n",
              "      background-color: #E2EBFA;\n",
              "      box-shadow: 0px 1px 2px rgba(60, 64, 67, 0.3), 0px 1px 3px 1px rgba(60, 64, 67, 0.15);\n",
              "      fill: #174EA6;\n",
              "    }\n",
              "\n",
              "    [theme=dark] .colab-df-convert {\n",
              "      background-color: #3B4455;\n",
              "      fill: #D2E3FC;\n",
              "    }\n",
              "\n",
              "    [theme=dark] .colab-df-convert:hover {\n",
              "      background-color: #434B5C;\n",
              "      box-shadow: 0px 1px 3px 1px rgba(0, 0, 0, 0.15);\n",
              "      filter: drop-shadow(0px 1px 2px rgba(0, 0, 0, 0.3));\n",
              "      fill: #FFFFFF;\n",
              "    }\n",
              "  </style>\n",
              "\n",
              "      <script>\n",
              "        const buttonEl =\n",
              "          document.querySelector('#df-d164acd2-f039-4ece-ac7e-137a498d1eca button.colab-df-convert');\n",
              "        buttonEl.style.display =\n",
              "          google.colab.kernel.accessAllowed ? 'block' : 'none';\n",
              "\n",
              "        async function convertToInteractive(key) {\n",
              "          const element = document.querySelector('#df-d164acd2-f039-4ece-ac7e-137a498d1eca');\n",
              "          const dataTable =\n",
              "            await google.colab.kernel.invokeFunction('convertToInteractive',\n",
              "                                                     [key], {});\n",
              "          if (!dataTable) return;\n",
              "\n",
              "          const docLinkHtml = 'Like what you see? Visit the ' +\n",
              "            '<a target=\"_blank\" href=https://colab.research.google.com/notebooks/data_table.ipynb>data table notebook</a>'\n",
              "            + ' to learn more about interactive tables.';\n",
              "          element.innerHTML = '';\n",
              "          dataTable['output_type'] = 'display_data';\n",
              "          await google.colab.output.renderOutput(dataTable, element);\n",
              "          const docLink = document.createElement('div');\n",
              "          docLink.innerHTML = docLinkHtml;\n",
              "          element.appendChild(docLink);\n",
              "        }\n",
              "      </script>\n",
              "    </div>\n",
              "  </div>\n",
              "  "
            ],
            "text/plain": [
              "        R-ref       G-ref  ...  Shad                                       Img\n",
              "0  243.562937  231.555264  ...    A1  66373A06-43CB-4E73-84DA-6B504F4F1C45.png\n",
              "1  242.855769  230.894619  ...    A1  F87BFB23-54A6-48EC-95AB-B690B56F7934.png\n",
              "2  243.108197  231.144231  ...    A1  67DEF170-ED6C-468A-AC90-9DF1ED4C4091.png\n",
              "3  243.268454  231.407828  ...    A1  861A0A06-2BEB-4C2D-9ECD-F753ACF6F036.png\n",
              "4  243.186869  231.041278  ...    A1  BC54DA9B-E07D-4E21-8DB1-CC714427C684.png\n",
              "\n",
              "[5 rows x 16 columns]"
            ]
          },
          "metadata": {},
          "execution_count": 705
        }
      ]
    },
    {
      "cell_type": "code",
      "source": [
        "table_A3Set4 = pd.read_excel(Set4, sheet_name='A3Set4')\n",
        "table_A3Set4.head()"
      ],
      "metadata": {
        "colab": {
          "base_uri": "https://localhost:8080/",
          "height": 337
        },
        "outputId": "5a559985-de70-484f-f96d-153395971b10",
        "id": "xIyAZBAZh0lf"
      },
      "execution_count": 706,
      "outputs": [
        {
          "output_type": "execute_result",
          "data": {
            "text/html": [
              "\n",
              "  <div id=\"df-35075d35-7eeb-4e2a-8c79-375e5d133102\">\n",
              "    <div class=\"colab-df-container\">\n",
              "      <div>\n",
              "<style scoped>\n",
              "    .dataframe tbody tr th:only-of-type {\n",
              "        vertical-align: middle;\n",
              "    }\n",
              "\n",
              "    .dataframe tbody tr th {\n",
              "        vertical-align: top;\n",
              "    }\n",
              "\n",
              "    .dataframe thead th {\n",
              "        text-align: right;\n",
              "    }\n",
              "</style>\n",
              "<table border=\"1\" class=\"dataframe\">\n",
              "  <thead>\n",
              "    <tr style=\"text-align: right;\">\n",
              "      <th></th>\n",
              "      <th>R-ref</th>\n",
              "      <th>G-ref</th>\n",
              "      <th>B-ref</th>\n",
              "      <th>R-Shad</th>\n",
              "      <th>G-Shad</th>\n",
              "      <th>B-Shad</th>\n",
              "      <th>H-ref</th>\n",
              "      <th>S-ref</th>\n",
              "      <th>V-ref</th>\n",
              "      <th>H-Shad</th>\n",
              "      <th>S-Shad</th>\n",
              "      <th>V-Shad</th>\n",
              "      <th>Set4</th>\n",
              "      <th>Ref</th>\n",
              "      <th>Shad</th>\n",
              "      <th>Img</th>\n",
              "    </tr>\n",
              "  </thead>\n",
              "  <tbody>\n",
              "    <tr>\n",
              "      <th>0</th>\n",
              "      <td>228.077603</td>\n",
              "      <td>204.519328</td>\n",
              "      <td>144.416764</td>\n",
              "      <td>235.611528</td>\n",
              "      <td>218.485497</td>\n",
              "      <td>174.603744</td>\n",
              "      <td>21.423368</td>\n",
              "      <td>93.584887</td>\n",
              "      <td>228.077603</td>\n",
              "      <td>21.936985</td>\n",
              "      <td>66.010564</td>\n",
              "      <td>235.611528</td>\n",
              "      <td>Set4</td>\n",
              "      <td>A3</td>\n",
              "      <td>A1</td>\n",
              "      <td>DC980AD2-81DD-4EAE-80D5-0CDDA83B06E7.png</td>\n",
              "    </tr>\n",
              "    <tr>\n",
              "      <th>1</th>\n",
              "      <td>231.544599</td>\n",
              "      <td>214.478370</td>\n",
              "      <td>170.378622</td>\n",
              "      <td>231.217125</td>\n",
              "      <td>214.152265</td>\n",
              "      <td>170.137330</td>\n",
              "      <td>22.000000</td>\n",
              "      <td>67.372778</td>\n",
              "      <td>231.544599</td>\n",
              "      <td>21.998009</td>\n",
              "      <td>67.377996</td>\n",
              "      <td>231.217125</td>\n",
              "      <td>Set4</td>\n",
              "      <td>A3</td>\n",
              "      <td>A1</td>\n",
              "      <td>5D10BAC5-8F2F-4EAC-86CE-FBA2AB6F50DD.png</td>\n",
              "    </tr>\n",
              "    <tr>\n",
              "      <th>2</th>\n",
              "      <td>226.812191</td>\n",
              "      <td>209.496226</td>\n",
              "      <td>165.074669</td>\n",
              "      <td>226.556859</td>\n",
              "      <td>209.166702</td>\n",
              "      <td>164.849442</td>\n",
              "      <td>21.868193</td>\n",
              "      <td>69.416930</td>\n",
              "      <td>226.812191</td>\n",
              "      <td>21.831591</td>\n",
              "      <td>69.466325</td>\n",
              "      <td>226.556859</td>\n",
              "      <td>Set4</td>\n",
              "      <td>A3</td>\n",
              "      <td>A1</td>\n",
              "      <td>E974AE96-AD14-4660-857A-2B63C16E8EB1.png</td>\n",
              "    </tr>\n",
              "    <tr>\n",
              "      <th>3</th>\n",
              "      <td>232.169223</td>\n",
              "      <td>214.141790</td>\n",
              "      <td>169.744664</td>\n",
              "      <td>231.777114</td>\n",
              "      <td>213.747244</td>\n",
              "      <td>169.416827</td>\n",
              "      <td>21.652707</td>\n",
              "      <td>68.546060</td>\n",
              "      <td>232.169223</td>\n",
              "      <td>21.642060</td>\n",
              "      <td>68.596188</td>\n",
              "      <td>231.777114</td>\n",
              "      <td>Set4</td>\n",
              "      <td>A3</td>\n",
              "      <td>A1</td>\n",
              "      <td>16DB511D-570A-4F94-808B-93F9C47B4CE9.png</td>\n",
              "    </tr>\n",
              "    <tr>\n",
              "      <th>4</th>\n",
              "      <td>232.451830</td>\n",
              "      <td>213.986852</td>\n",
              "      <td>169.900333</td>\n",
              "      <td>232.075172</td>\n",
              "      <td>213.621933</td>\n",
              "      <td>169.580684</td>\n",
              "      <td>21.427157</td>\n",
              "      <td>68.629738</td>\n",
              "      <td>232.451830</td>\n",
              "      <td>21.422658</td>\n",
              "      <td>68.680037</td>\n",
              "      <td>232.075172</td>\n",
              "      <td>Set4</td>\n",
              "      <td>A3</td>\n",
              "      <td>A1</td>\n",
              "      <td>1035897E-D1B4-4245-BE07-6C461520AF33.png</td>\n",
              "    </tr>\n",
              "  </tbody>\n",
              "</table>\n",
              "</div>\n",
              "      <button class=\"colab-df-convert\" onclick=\"convertToInteractive('df-35075d35-7eeb-4e2a-8c79-375e5d133102')\"\n",
              "              title=\"Convert this dataframe to an interactive table.\"\n",
              "              style=\"display:none;\">\n",
              "        \n",
              "  <svg xmlns=\"http://www.w3.org/2000/svg\" height=\"24px\"viewBox=\"0 0 24 24\"\n",
              "       width=\"24px\">\n",
              "    <path d=\"M0 0h24v24H0V0z\" fill=\"none\"/>\n",
              "    <path d=\"M18.56 5.44l.94 2.06.94-2.06 2.06-.94-2.06-.94-.94-2.06-.94 2.06-2.06.94zm-11 1L8.5 8.5l.94-2.06 2.06-.94-2.06-.94L8.5 2.5l-.94 2.06-2.06.94zm10 10l.94 2.06.94-2.06 2.06-.94-2.06-.94-.94-2.06-.94 2.06-2.06.94z\"/><path d=\"M17.41 7.96l-1.37-1.37c-.4-.4-.92-.59-1.43-.59-.52 0-1.04.2-1.43.59L10.3 9.45l-7.72 7.72c-.78.78-.78 2.05 0 2.83L4 21.41c.39.39.9.59 1.41.59.51 0 1.02-.2 1.41-.59l7.78-7.78 2.81-2.81c.8-.78.8-2.07 0-2.86zM5.41 20L4 18.59l7.72-7.72 1.47 1.35L5.41 20z\"/>\n",
              "  </svg>\n",
              "      </button>\n",
              "      \n",
              "  <style>\n",
              "    .colab-df-container {\n",
              "      display:flex;\n",
              "      flex-wrap:wrap;\n",
              "      gap: 12px;\n",
              "    }\n",
              "\n",
              "    .colab-df-convert {\n",
              "      background-color: #E8F0FE;\n",
              "      border: none;\n",
              "      border-radius: 50%;\n",
              "      cursor: pointer;\n",
              "      display: none;\n",
              "      fill: #1967D2;\n",
              "      height: 32px;\n",
              "      padding: 0 0 0 0;\n",
              "      width: 32px;\n",
              "    }\n",
              "\n",
              "    .colab-df-convert:hover {\n",
              "      background-color: #E2EBFA;\n",
              "      box-shadow: 0px 1px 2px rgba(60, 64, 67, 0.3), 0px 1px 3px 1px rgba(60, 64, 67, 0.15);\n",
              "      fill: #174EA6;\n",
              "    }\n",
              "\n",
              "    [theme=dark] .colab-df-convert {\n",
              "      background-color: #3B4455;\n",
              "      fill: #D2E3FC;\n",
              "    }\n",
              "\n",
              "    [theme=dark] .colab-df-convert:hover {\n",
              "      background-color: #434B5C;\n",
              "      box-shadow: 0px 1px 3px 1px rgba(0, 0, 0, 0.15);\n",
              "      filter: drop-shadow(0px 1px 2px rgba(0, 0, 0, 0.3));\n",
              "      fill: #FFFFFF;\n",
              "    }\n",
              "  </style>\n",
              "\n",
              "      <script>\n",
              "        const buttonEl =\n",
              "          document.querySelector('#df-35075d35-7eeb-4e2a-8c79-375e5d133102 button.colab-df-convert');\n",
              "        buttonEl.style.display =\n",
              "          google.colab.kernel.accessAllowed ? 'block' : 'none';\n",
              "\n",
              "        async function convertToInteractive(key) {\n",
              "          const element = document.querySelector('#df-35075d35-7eeb-4e2a-8c79-375e5d133102');\n",
              "          const dataTable =\n",
              "            await google.colab.kernel.invokeFunction('convertToInteractive',\n",
              "                                                     [key], {});\n",
              "          if (!dataTable) return;\n",
              "\n",
              "          const docLinkHtml = 'Like what you see? Visit the ' +\n",
              "            '<a target=\"_blank\" href=https://colab.research.google.com/notebooks/data_table.ipynb>data table notebook</a>'\n",
              "            + ' to learn more about interactive tables.';\n",
              "          element.innerHTML = '';\n",
              "          dataTable['output_type'] = 'display_data';\n",
              "          await google.colab.output.renderOutput(dataTable, element);\n",
              "          const docLink = document.createElement('div');\n",
              "          docLink.innerHTML = docLinkHtml;\n",
              "          element.appendChild(docLink);\n",
              "        }\n",
              "      </script>\n",
              "    </div>\n",
              "  </div>\n",
              "  "
            ],
            "text/plain": [
              "        R-ref       G-ref  ...  Shad                                       Img\n",
              "0  228.077603  204.519328  ...    A1  DC980AD2-81DD-4EAE-80D5-0CDDA83B06E7.png\n",
              "1  231.544599  214.478370  ...    A1  5D10BAC5-8F2F-4EAC-86CE-FBA2AB6F50DD.png\n",
              "2  226.812191  209.496226  ...    A1  E974AE96-AD14-4660-857A-2B63C16E8EB1.png\n",
              "3  232.169223  214.141790  ...    A1  16DB511D-570A-4F94-808B-93F9C47B4CE9.png\n",
              "4  232.451830  213.986852  ...    A1  1035897E-D1B4-4245-BE07-6C461520AF33.png\n",
              "\n",
              "[5 rows x 16 columns]"
            ]
          },
          "metadata": {},
          "execution_count": 706
        }
      ]
    },
    {
      "cell_type": "markdown",
      "source": [
        "###RGB"
      ],
      "metadata": {
        "id": "HoVTXFtnh0lf"
      }
    },
    {
      "cell_type": "code",
      "source": [
        "RGB_A3_Set1 = table_A3Set1.drop(['H-ref','S-ref','V-ref','H-Shad','S-Shad','V-Shad','Setting','Ref','Shad','Img'], axis=1)"
      ],
      "metadata": {
        "id": "Vk9mUgzNh0lf"
      },
      "execution_count": 707,
      "outputs": []
    },
    {
      "cell_type": "code",
      "source": [
        "RGB_A3_Set2 = table_A3Set2"
      ],
      "metadata": {
        "id": "LDbpm3y5h0lf"
      },
      "execution_count": 708,
      "outputs": []
    },
    {
      "cell_type": "code",
      "source": [
        "RGB_A3_Set3 = table_A3Set3"
      ],
      "metadata": {
        "id": "NMWz_zI0h0lf"
      },
      "execution_count": 709,
      "outputs": []
    },
    {
      "cell_type": "code",
      "source": [
        "RGB_A3_Set4 = table_A3Set4"
      ],
      "metadata": {
        "id": "cfWy2gTYh0lg"
      },
      "execution_count": 710,
      "outputs": []
    },
    {
      "cell_type": "code",
      "source": [
        "RGB_A3_concat0 = pd.concat([RGB_A3_Set2,RGB_A3_Set3])"
      ],
      "metadata": {
        "id": "JFtU4ULCh0lg"
      },
      "execution_count": 711,
      "outputs": []
    },
    {
      "cell_type": "code",
      "source": [
        "RGB_A3_concat1 = pd.concat([RGB_A3_concat0,RGB_A3_Set4])"
      ],
      "metadata": {
        "id": "jLZT-LMch0lg"
      },
      "execution_count": 712,
      "outputs": []
    },
    {
      "cell_type": "code",
      "source": [
        "RGB_A3_concat2 = RGB_A3_concat1.drop(['H-ref','S-ref','V-ref','H-Shad','S-Shad','V-Shad','Setting','Ref','Shad','Img','Set4'], axis=1)"
      ],
      "metadata": {
        "id": "giMn7WiRh0lg"
      },
      "execution_count": 725,
      "outputs": []
    },
    {
      "cell_type": "code",
      "source": [
        "X_test_A3_RGB = np.array(RGB_A3_Set1)"
      ],
      "metadata": {
        "id": "t2Oh3U-6h0lg"
      },
      "execution_count": 726,
      "outputs": []
    },
    {
      "cell_type": "code",
      "source": [
        "y_A3_RGB =  table_A3Set1.iloc[:,14:15]"
      ],
      "metadata": {
        "id": "c5mW71sgh0lg"
      },
      "execution_count": 727,
      "outputs": []
    },
    {
      "cell_type": "code",
      "source": [
        "y_test_A3_RGB = np.array(y_A3_RGB)"
      ],
      "metadata": {
        "id": "vFW4TBk2h0lg"
      },
      "execution_count": 728,
      "outputs": []
    },
    {
      "cell_type": "code",
      "source": [
        "X_train_A3_RGB = np.array(RGB_A3_concat2)"
      ],
      "metadata": {
        "id": "FrKDluEmh0lg"
      },
      "execution_count": 729,
      "outputs": []
    },
    {
      "cell_type": "code",
      "source": [
        "y_train_A3RGB = RGB_A3_concat1.iloc[:,14:15]"
      ],
      "metadata": {
        "id": "qhAriA-9h0lg"
      },
      "execution_count": 730,
      "outputs": []
    },
    {
      "cell_type": "code",
      "source": [
        "y_train_A3_RGB = np.array(y_train_A3RGB)"
      ],
      "metadata": {
        "id": "mFmZVCgZh0lg"
      },
      "execution_count": 731,
      "outputs": []
    },
    {
      "cell_type": "code",
      "source": [
        "X_train_A3_RGB.shape"
      ],
      "metadata": {
        "colab": {
          "base_uri": "https://localhost:8080/"
        },
        "outputId": "bcbb824b-26b2-4358-8ebe-dd3cbaaa3952",
        "id": "mTQm1-92h0lh"
      },
      "execution_count": 732,
      "outputs": [
        {
          "output_type": "execute_result",
          "data": {
            "text/plain": [
              "(2400, 6)"
            ]
          },
          "metadata": {},
          "execution_count": 732
        }
      ]
    },
    {
      "cell_type": "code",
      "source": [
        "y_train_A3_RGB.shape"
      ],
      "metadata": {
        "colab": {
          "base_uri": "https://localhost:8080/"
        },
        "outputId": "08512728-e467-486e-c2b3-7fac2423de4a",
        "id": "ltH7rwHah0lh"
      },
      "execution_count": 733,
      "outputs": [
        {
          "output_type": "execute_result",
          "data": {
            "text/plain": [
              "(2400, 1)"
            ]
          },
          "metadata": {},
          "execution_count": 733
        }
      ]
    },
    {
      "cell_type": "code",
      "source": [
        "clf.fit(X_train_A3_RGB, y_train_A3_RGB)"
      ],
      "metadata": {
        "colab": {
          "base_uri": "https://localhost:8080/"
        },
        "outputId": "b0d3b9d7-916f-41da-de99-c49c8ff9d422",
        "id": "tj0T259Ih0lh"
      },
      "execution_count": 734,
      "outputs": [
        {
          "output_type": "stream",
          "name": "stderr",
          "text": [
            "/usr/local/lib/python3.7/dist-packages/ipykernel_launcher.py:1: DataConversionWarning: A column-vector y was passed when a 1d array was expected. Please change the shape of y to (n_samples,), for example using ravel().\n",
            "  \"\"\"Entry point for launching an IPython kernel.\n"
          ]
        },
        {
          "output_type": "execute_result",
          "data": {
            "text/plain": [
              "RandomForestClassifier()"
            ]
          },
          "metadata": {},
          "execution_count": 734
        }
      ]
    },
    {
      "cell_type": "code",
      "source": [
        "y_pred_A3_RGB = clf.predict(X_test_A3_RGB)"
      ],
      "metadata": {
        "id": "nFB2J2xSh0lh"
      },
      "execution_count": 735,
      "outputs": []
    },
    {
      "cell_type": "code",
      "source": [
        "print(\"Accuracy:\", metrics.accuracy_score(y_test_A3_RGB, y_pred_A3_RGB))"
      ],
      "metadata": {
        "colab": {
          "base_uri": "https://localhost:8080/"
        },
        "outputId": "d1861a6a-5f39-4398-cf9f-115655a5b960",
        "id": "o6T3HmYeh0lh"
      },
      "execution_count": 736,
      "outputs": [
        {
          "output_type": "stream",
          "name": "stdout",
          "text": [
            "Accuracy: 0.98125\n"
          ]
        }
      ]
    },
    {
      "cell_type": "markdown",
      "source": [
        "###HSV"
      ],
      "metadata": {
        "id": "7fRDUIm4h0lh"
      }
    },
    {
      "cell_type": "code",
      "source": [
        "print(table_A3Set1.columns)"
      ],
      "metadata": {
        "colab": {
          "base_uri": "https://localhost:8080/"
        },
        "outputId": "6e7d7d3e-ab05-4f92-8f8a-5d2ad6c9debf",
        "id": "WZwkf0Nzh0lh"
      },
      "execution_count": 737,
      "outputs": [
        {
          "output_type": "stream",
          "name": "stdout",
          "text": [
            "Index(['R-ref', 'G-ref', 'B-ref', 'R-Shad', 'G-Shad', 'B-Shad', 'H-ref',\n",
            "       'S-ref', 'V-ref', 'H-Shad', 'S-Shad', 'V-Shad', 'Setting', 'Ref',\n",
            "       'Shad', 'Img'],\n",
            "      dtype='object')\n"
          ]
        }
      ]
    },
    {
      "cell_type": "code",
      "source": [
        "HSV_A3_Set1 = table_A3Set1.drop(['R-ref','G-ref','B-ref','R-Shad','G-Shad','B-Shad','Setting','Ref','Shad','Img'], axis=1)"
      ],
      "metadata": {
        "id": "9kVGkRzvh0lh"
      },
      "execution_count": 738,
      "outputs": []
    },
    {
      "cell_type": "code",
      "source": [
        "HSV_A3_concat2 = RGB_A3_concat1.drop(['R-ref','G-ref','B-ref','R-Shad','G-Shad','B-Shad','Setting','Ref','Shad','Img','Set4'], axis=1)"
      ],
      "metadata": {
        "id": "3dB7gOBuh0li"
      },
      "execution_count": 739,
      "outputs": []
    },
    {
      "cell_type": "code",
      "source": [
        "X_test_A3_HSV = np.array(HSV_A3_Set1)"
      ],
      "metadata": {
        "id": "fyV1KV7eh0li"
      },
      "execution_count": 740,
      "outputs": []
    },
    {
      "cell_type": "code",
      "source": [
        "y_A3_HSV =  table_A3Set1.iloc[:,14:15]"
      ],
      "metadata": {
        "id": "3s_tC7uuh0li"
      },
      "execution_count": 741,
      "outputs": []
    },
    {
      "cell_type": "code",
      "source": [
        "y_test_A3_HSV = np.array(y_A3_RGB)"
      ],
      "metadata": {
        "id": "ee6hCQxLh0li"
      },
      "execution_count": 742,
      "outputs": []
    },
    {
      "cell_type": "code",
      "source": [
        "X_train_A3_HSV = np.array(HSV_A3_concat2)"
      ],
      "metadata": {
        "id": "I4eE7wQBh0li"
      },
      "execution_count": 743,
      "outputs": []
    },
    {
      "cell_type": "code",
      "source": [
        "y_train_A3HSV = RGB_A3_concat1.iloc[:,14:15]"
      ],
      "metadata": {
        "id": "C4FhoMswh0li"
      },
      "execution_count": 744,
      "outputs": []
    },
    {
      "cell_type": "code",
      "source": [
        "y_train_A3_HSV = np.array(y_train_A3HSV)"
      ],
      "metadata": {
        "id": "YLC-DmyLh0li"
      },
      "execution_count": 745,
      "outputs": []
    },
    {
      "cell_type": "code",
      "source": [
        "X_train_A3_HSV.shape"
      ],
      "metadata": {
        "colab": {
          "base_uri": "https://localhost:8080/"
        },
        "outputId": "d05babb3-b4bd-4d97-e61e-f377d6a69ae9",
        "id": "mUcrx7Elh0li"
      },
      "execution_count": 746,
      "outputs": [
        {
          "output_type": "execute_result",
          "data": {
            "text/plain": [
              "(2400, 6)"
            ]
          },
          "metadata": {},
          "execution_count": 746
        }
      ]
    },
    {
      "cell_type": "code",
      "source": [
        "y_train_A3_HSV.shape"
      ],
      "metadata": {
        "colab": {
          "base_uri": "https://localhost:8080/"
        },
        "outputId": "aa632025-493a-47b8-cf9a-311d65449e2e",
        "id": "0CA6_Fvih0li"
      },
      "execution_count": 747,
      "outputs": [
        {
          "output_type": "execute_result",
          "data": {
            "text/plain": [
              "(2400, 1)"
            ]
          },
          "metadata": {},
          "execution_count": 747
        }
      ]
    },
    {
      "cell_type": "code",
      "source": [
        "clf.fit(X_train_A3_HSV, y_train_A3_HSV)"
      ],
      "metadata": {
        "colab": {
          "base_uri": "https://localhost:8080/"
        },
        "outputId": "856195f4-26fc-49ae-8ded-43578b88856f",
        "id": "ofA6k6FYh0li"
      },
      "execution_count": 748,
      "outputs": [
        {
          "output_type": "stream",
          "name": "stderr",
          "text": [
            "/usr/local/lib/python3.7/dist-packages/ipykernel_launcher.py:1: DataConversionWarning: A column-vector y was passed when a 1d array was expected. Please change the shape of y to (n_samples,), for example using ravel().\n",
            "  \"\"\"Entry point for launching an IPython kernel.\n"
          ]
        },
        {
          "output_type": "execute_result",
          "data": {
            "text/plain": [
              "RandomForestClassifier()"
            ]
          },
          "metadata": {},
          "execution_count": 748
        }
      ]
    },
    {
      "cell_type": "code",
      "source": [
        "y_pred_A3_HSV = clf.predict(X_test_A3_HSV)"
      ],
      "metadata": {
        "id": "qKQL86MOh0lj"
      },
      "execution_count": 749,
      "outputs": []
    },
    {
      "cell_type": "code",
      "source": [
        "print(\"Accuracy:\", metrics.accuracy_score(y_test_A3_HSV, y_pred_A3_HSV))"
      ],
      "metadata": {
        "colab": {
          "base_uri": "https://localhost:8080/"
        },
        "outputId": "5f0ef659-c2f4-4d3f-d801-51092e4eef90",
        "id": "2lCd48LPh0lj"
      },
      "execution_count": 750,
      "outputs": [
        {
          "output_type": "stream",
          "name": "stdout",
          "text": [
            "Accuracy: 0.98125\n"
          ]
        }
      ]
    },
    {
      "cell_type": "markdown",
      "source": [
        "##A3.5"
      ],
      "metadata": {
        "id": "480etiaejoWu"
      }
    },
    {
      "cell_type": "code",
      "source": [
        "table_A3_5Set1 = pd.read_excel(Set1 , sheet_name='A3.5Set1 ')\n",
        "table_A3_5Set1.head()"
      ],
      "metadata": {
        "colab": {
          "base_uri": "https://localhost:8080/",
          "height": 337
        },
        "outputId": "0e1b1a1c-39c0-41a5-d056-6b7bdf4d0a4f",
        "id": "mXi7Gb9pjoWu"
      },
      "execution_count": 751,
      "outputs": [
        {
          "output_type": "execute_result",
          "data": {
            "text/html": [
              "\n",
              "  <div id=\"df-8fcd283f-4fe2-48a9-bfcb-44a51755cb1c\">\n",
              "    <div class=\"colab-df-container\">\n",
              "      <div>\n",
              "<style scoped>\n",
              "    .dataframe tbody tr th:only-of-type {\n",
              "        vertical-align: middle;\n",
              "    }\n",
              "\n",
              "    .dataframe tbody tr th {\n",
              "        vertical-align: top;\n",
              "    }\n",
              "\n",
              "    .dataframe thead th {\n",
              "        text-align: right;\n",
              "    }\n",
              "</style>\n",
              "<table border=\"1\" class=\"dataframe\">\n",
              "  <thead>\n",
              "    <tr style=\"text-align: right;\">\n",
              "      <th></th>\n",
              "      <th>R-ref</th>\n",
              "      <th>G-ref</th>\n",
              "      <th>B-ref</th>\n",
              "      <th>R-Shad</th>\n",
              "      <th>G-Shad</th>\n",
              "      <th>B-Shad</th>\n",
              "      <th>H-ref</th>\n",
              "      <th>S-ref</th>\n",
              "      <th>V-ref</th>\n",
              "      <th>H-Shad</th>\n",
              "      <th>S-Shad</th>\n",
              "      <th>V-Shad</th>\n",
              "      <th>Setting</th>\n",
              "      <th>Ref</th>\n",
              "      <th>Shad</th>\n",
              "      <th>Img</th>\n",
              "    </tr>\n",
              "  </thead>\n",
              "  <tbody>\n",
              "    <tr>\n",
              "      <th>0</th>\n",
              "      <td>235.604172</td>\n",
              "      <td>216.610178</td>\n",
              "      <td>164.848389</td>\n",
              "      <td>235.976958</td>\n",
              "      <td>217.403599</td>\n",
              "      <td>166.420454</td>\n",
              "      <td>22.115332</td>\n",
              "      <td>76.688256</td>\n",
              "      <td>235.604172</td>\n",
              "      <td>22.152194</td>\n",
              "      <td>75.288457</td>\n",
              "      <td>235.976958</td>\n",
              "      <td>Set1</td>\n",
              "      <td>A3.5</td>\n",
              "      <td>A1</td>\n",
              "      <td>2DD07CB7-0413-41D5-BE23-51CA3C9164F5.png</td>\n",
              "    </tr>\n",
              "    <tr>\n",
              "      <th>1</th>\n",
              "      <td>243.562937</td>\n",
              "      <td>231.555264</td>\n",
              "      <td>199.463967</td>\n",
              "      <td>238.943657</td>\n",
              "      <td>225.964044</td>\n",
              "      <td>192.240386</td>\n",
              "      <td>21.546474</td>\n",
              "      <td>49.878232</td>\n",
              "      <td>238.943657</td>\n",
              "      <td>21.546474</td>\n",
              "      <td>49.878232</td>\n",
              "      <td>238.943657</td>\n",
              "      <td>Set1</td>\n",
              "      <td>A3.5</td>\n",
              "      <td>A1</td>\n",
              "      <td>F28F074F-5B54-424C-8E70-EC56E06FC3E0.png</td>\n",
              "    </tr>\n",
              "    <tr>\n",
              "      <th>2</th>\n",
              "      <td>242.855769</td>\n",
              "      <td>230.894619</td>\n",
              "      <td>198.359460</td>\n",
              "      <td>238.431285</td>\n",
              "      <td>225.416829</td>\n",
              "      <td>191.849504</td>\n",
              "      <td>21.482995</td>\n",
              "      <td>49.884533</td>\n",
              "      <td>238.431285</td>\n",
              "      <td>21.482995</td>\n",
              "      <td>49.884533</td>\n",
              "      <td>238.431285</td>\n",
              "      <td>Set1</td>\n",
              "      <td>A3.5</td>\n",
              "      <td>A1</td>\n",
              "      <td>6ABA4B94-D8B3-48BA-B1FA-6B5A081F40D1.png</td>\n",
              "    </tr>\n",
              "    <tr>\n",
              "      <th>3</th>\n",
              "      <td>243.108197</td>\n",
              "      <td>231.144231</td>\n",
              "      <td>199.196775</td>\n",
              "      <td>238.676768</td>\n",
              "      <td>225.718006</td>\n",
              "      <td>192.151700</td>\n",
              "      <td>21.513391</td>\n",
              "      <td>49.759244</td>\n",
              "      <td>238.676768</td>\n",
              "      <td>21.513391</td>\n",
              "      <td>49.759244</td>\n",
              "      <td>238.676768</td>\n",
              "      <td>Set1</td>\n",
              "      <td>A3.5</td>\n",
              "      <td>A1</td>\n",
              "      <td>6B5870DF-9D32-4295-9D0E-F1DDA4ABD18F.png</td>\n",
              "    </tr>\n",
              "    <tr>\n",
              "      <th>4</th>\n",
              "      <td>243.268454</td>\n",
              "      <td>231.407828</td>\n",
              "      <td>198.849165</td>\n",
              "      <td>238.443332</td>\n",
              "      <td>225.841442</td>\n",
              "      <td>191.568807</td>\n",
              "      <td>21.917339</td>\n",
              "      <td>50.123251</td>\n",
              "      <td>238.443332</td>\n",
              "      <td>21.917339</td>\n",
              "      <td>50.123251</td>\n",
              "      <td>238.443332</td>\n",
              "      <td>Set1</td>\n",
              "      <td>A3.5</td>\n",
              "      <td>A1</td>\n",
              "      <td>9EBCADA0-A39C-4692-B684-A967FE6F59B5.png</td>\n",
              "    </tr>\n",
              "  </tbody>\n",
              "</table>\n",
              "</div>\n",
              "      <button class=\"colab-df-convert\" onclick=\"convertToInteractive('df-8fcd283f-4fe2-48a9-bfcb-44a51755cb1c')\"\n",
              "              title=\"Convert this dataframe to an interactive table.\"\n",
              "              style=\"display:none;\">\n",
              "        \n",
              "  <svg xmlns=\"http://www.w3.org/2000/svg\" height=\"24px\"viewBox=\"0 0 24 24\"\n",
              "       width=\"24px\">\n",
              "    <path d=\"M0 0h24v24H0V0z\" fill=\"none\"/>\n",
              "    <path d=\"M18.56 5.44l.94 2.06.94-2.06 2.06-.94-2.06-.94-.94-2.06-.94 2.06-2.06.94zm-11 1L8.5 8.5l.94-2.06 2.06-.94-2.06-.94L8.5 2.5l-.94 2.06-2.06.94zm10 10l.94 2.06.94-2.06 2.06-.94-2.06-.94-.94-2.06-.94 2.06-2.06.94z\"/><path d=\"M17.41 7.96l-1.37-1.37c-.4-.4-.92-.59-1.43-.59-.52 0-1.04.2-1.43.59L10.3 9.45l-7.72 7.72c-.78.78-.78 2.05 0 2.83L4 21.41c.39.39.9.59 1.41.59.51 0 1.02-.2 1.41-.59l7.78-7.78 2.81-2.81c.8-.78.8-2.07 0-2.86zM5.41 20L4 18.59l7.72-7.72 1.47 1.35L5.41 20z\"/>\n",
              "  </svg>\n",
              "      </button>\n",
              "      \n",
              "  <style>\n",
              "    .colab-df-container {\n",
              "      display:flex;\n",
              "      flex-wrap:wrap;\n",
              "      gap: 12px;\n",
              "    }\n",
              "\n",
              "    .colab-df-convert {\n",
              "      background-color: #E8F0FE;\n",
              "      border: none;\n",
              "      border-radius: 50%;\n",
              "      cursor: pointer;\n",
              "      display: none;\n",
              "      fill: #1967D2;\n",
              "      height: 32px;\n",
              "      padding: 0 0 0 0;\n",
              "      width: 32px;\n",
              "    }\n",
              "\n",
              "    .colab-df-convert:hover {\n",
              "      background-color: #E2EBFA;\n",
              "      box-shadow: 0px 1px 2px rgba(60, 64, 67, 0.3), 0px 1px 3px 1px rgba(60, 64, 67, 0.15);\n",
              "      fill: #174EA6;\n",
              "    }\n",
              "\n",
              "    [theme=dark] .colab-df-convert {\n",
              "      background-color: #3B4455;\n",
              "      fill: #D2E3FC;\n",
              "    }\n",
              "\n",
              "    [theme=dark] .colab-df-convert:hover {\n",
              "      background-color: #434B5C;\n",
              "      box-shadow: 0px 1px 3px 1px rgba(0, 0, 0, 0.15);\n",
              "      filter: drop-shadow(0px 1px 2px rgba(0, 0, 0, 0.3));\n",
              "      fill: #FFFFFF;\n",
              "    }\n",
              "  </style>\n",
              "\n",
              "      <script>\n",
              "        const buttonEl =\n",
              "          document.querySelector('#df-8fcd283f-4fe2-48a9-bfcb-44a51755cb1c button.colab-df-convert');\n",
              "        buttonEl.style.display =\n",
              "          google.colab.kernel.accessAllowed ? 'block' : 'none';\n",
              "\n",
              "        async function convertToInteractive(key) {\n",
              "          const element = document.querySelector('#df-8fcd283f-4fe2-48a9-bfcb-44a51755cb1c');\n",
              "          const dataTable =\n",
              "            await google.colab.kernel.invokeFunction('convertToInteractive',\n",
              "                                                     [key], {});\n",
              "          if (!dataTable) return;\n",
              "\n",
              "          const docLinkHtml = 'Like what you see? Visit the ' +\n",
              "            '<a target=\"_blank\" href=https://colab.research.google.com/notebooks/data_table.ipynb>data table notebook</a>'\n",
              "            + ' to learn more about interactive tables.';\n",
              "          element.innerHTML = '';\n",
              "          dataTable['output_type'] = 'display_data';\n",
              "          await google.colab.output.renderOutput(dataTable, element);\n",
              "          const docLink = document.createElement('div');\n",
              "          docLink.innerHTML = docLinkHtml;\n",
              "          element.appendChild(docLink);\n",
              "        }\n",
              "      </script>\n",
              "    </div>\n",
              "  </div>\n",
              "  "
            ],
            "text/plain": [
              "        R-ref       G-ref  ...  Shad                                       Img\n",
              "0  235.604172  216.610178  ...    A1  2DD07CB7-0413-41D5-BE23-51CA3C9164F5.png\n",
              "1  243.562937  231.555264  ...    A1  F28F074F-5B54-424C-8E70-EC56E06FC3E0.png\n",
              "2  242.855769  230.894619  ...    A1  6ABA4B94-D8B3-48BA-B1FA-6B5A081F40D1.png\n",
              "3  243.108197  231.144231  ...    A1  6B5870DF-9D32-4295-9D0E-F1DDA4ABD18F.png\n",
              "4  243.268454  231.407828  ...    A1  9EBCADA0-A39C-4692-B684-A967FE6F59B5.png\n",
              "\n",
              "[5 rows x 16 columns]"
            ]
          },
          "metadata": {},
          "execution_count": 751
        }
      ]
    },
    {
      "cell_type": "code",
      "source": [
        "table_A3_5Set2 = pd.read_excel(Set2, sheet_name='A3.5Set2 ')\n",
        "table_A3_5Set2.head()"
      ],
      "metadata": {
        "colab": {
          "base_uri": "https://localhost:8080/",
          "height": 337
        },
        "outputId": "d4b20ec4-5031-4cdc-cf9b-b8bbc56cdd01",
        "id": "VRLDuDVJjoWu"
      },
      "execution_count": 752,
      "outputs": [
        {
          "output_type": "execute_result",
          "data": {
            "text/html": [
              "\n",
              "  <div id=\"df-6f72d496-8e67-480d-bdae-875389f96e51\">\n",
              "    <div class=\"colab-df-container\">\n",
              "      <div>\n",
              "<style scoped>\n",
              "    .dataframe tbody tr th:only-of-type {\n",
              "        vertical-align: middle;\n",
              "    }\n",
              "\n",
              "    .dataframe tbody tr th {\n",
              "        vertical-align: top;\n",
              "    }\n",
              "\n",
              "    .dataframe thead th {\n",
              "        text-align: right;\n",
              "    }\n",
              "</style>\n",
              "<table border=\"1\" class=\"dataframe\">\n",
              "  <thead>\n",
              "    <tr style=\"text-align: right;\">\n",
              "      <th></th>\n",
              "      <th>R-ref</th>\n",
              "      <th>G-ref</th>\n",
              "      <th>B-ref</th>\n",
              "      <th>R-Shad</th>\n",
              "      <th>G-Shad</th>\n",
              "      <th>B-Shad</th>\n",
              "      <th>H-ref</th>\n",
              "      <th>S-ref</th>\n",
              "      <th>V-ref</th>\n",
              "      <th>H-Shad</th>\n",
              "      <th>S-Shad</th>\n",
              "      <th>V-Shad</th>\n",
              "      <th>Setting</th>\n",
              "      <th>Ref</th>\n",
              "      <th>Shad</th>\n",
              "      <th>Img</th>\n",
              "    </tr>\n",
              "  </thead>\n",
              "  <tbody>\n",
              "    <tr>\n",
              "      <th>0</th>\n",
              "      <td>237.548368</td>\n",
              "      <td>219.008547</td>\n",
              "      <td>168.220474</td>\n",
              "      <td>238.538319</td>\n",
              "      <td>224.430451</td>\n",
              "      <td>191.026596</td>\n",
              "      <td>22.140443</td>\n",
              "      <td>74.503399</td>\n",
              "      <td>237.548368</td>\n",
              "      <td>21.031600</td>\n",
              "      <td>50.821518</td>\n",
              "      <td>238.538319</td>\n",
              "      <td>Set2</td>\n",
              "      <td>A3.5</td>\n",
              "      <td>A1</td>\n",
              "      <td>59331E47-9409-4752-859C-BD69B64F2FC6.png</td>\n",
              "    </tr>\n",
              "    <tr>\n",
              "      <th>1</th>\n",
              "      <td>239.642580</td>\n",
              "      <td>227.445610</td>\n",
              "      <td>194.934926</td>\n",
              "      <td>234.158836</td>\n",
              "      <td>220.850246</td>\n",
              "      <td>186.944676</td>\n",
              "      <td>21.829643</td>\n",
              "      <td>47.655109</td>\n",
              "      <td>239.642580</td>\n",
              "      <td>21.499583</td>\n",
              "      <td>51.475396</td>\n",
              "      <td>234.158836</td>\n",
              "      <td>Set2</td>\n",
              "      <td>A3.5</td>\n",
              "      <td>A1</td>\n",
              "      <td>271B26B6-1BC4-4A50-9198-127569C8BF3D.png</td>\n",
              "    </tr>\n",
              "    <tr>\n",
              "      <th>2</th>\n",
              "      <td>238.823135</td>\n",
              "      <td>226.798660</td>\n",
              "      <td>193.746601</td>\n",
              "      <td>233.357705</td>\n",
              "      <td>220.292651</td>\n",
              "      <td>186.297655</td>\n",
              "      <td>22.030497</td>\n",
              "      <td>48.196873</td>\n",
              "      <td>238.823135</td>\n",
              "      <td>21.590307</td>\n",
              "      <td>51.477620</td>\n",
              "      <td>233.357705</td>\n",
              "      <td>Set2</td>\n",
              "      <td>A3.5</td>\n",
              "      <td>A1</td>\n",
              "      <td>101CF038-4C3A-400E-9C2C-6CC2F63DEEEF.png</td>\n",
              "    </tr>\n",
              "    <tr>\n",
              "      <th>3</th>\n",
              "      <td>239.165016</td>\n",
              "      <td>227.221057</td>\n",
              "      <td>194.371406</td>\n",
              "      <td>233.603003</td>\n",
              "      <td>220.727365</td>\n",
              "      <td>186.331758</td>\n",
              "      <td>21.986597</td>\n",
              "      <td>47.819347</td>\n",
              "      <td>239.165016</td>\n",
              "      <td>21.767306</td>\n",
              "      <td>51.688351</td>\n",
              "      <td>233.603003</td>\n",
              "      <td>Set2</td>\n",
              "      <td>A3.5</td>\n",
              "      <td>A1</td>\n",
              "      <td>4CA308BF-F5D3-47CB-A3C0-4D0D3CBD97AA.png</td>\n",
              "    </tr>\n",
              "    <tr>\n",
              "      <th>4</th>\n",
              "      <td>239.322261</td>\n",
              "      <td>227.482032</td>\n",
              "      <td>194.230575</td>\n",
              "      <td>233.431193</td>\n",
              "      <td>220.957001</td>\n",
              "      <td>186.217403</td>\n",
              "      <td>22.143551</td>\n",
              "      <td>48.131410</td>\n",
              "      <td>239.322261</td>\n",
              "      <td>22.081735</td>\n",
              "      <td>51.639978</td>\n",
              "      <td>233.431193</td>\n",
              "      <td>Set2</td>\n",
              "      <td>A3.5</td>\n",
              "      <td>A1</td>\n",
              "      <td>C05E2226-6B18-40E3-966D-02DE782F3404.png</td>\n",
              "    </tr>\n",
              "  </tbody>\n",
              "</table>\n",
              "</div>\n",
              "      <button class=\"colab-df-convert\" onclick=\"convertToInteractive('df-6f72d496-8e67-480d-bdae-875389f96e51')\"\n",
              "              title=\"Convert this dataframe to an interactive table.\"\n",
              "              style=\"display:none;\">\n",
              "        \n",
              "  <svg xmlns=\"http://www.w3.org/2000/svg\" height=\"24px\"viewBox=\"0 0 24 24\"\n",
              "       width=\"24px\">\n",
              "    <path d=\"M0 0h24v24H0V0z\" fill=\"none\"/>\n",
              "    <path d=\"M18.56 5.44l.94 2.06.94-2.06 2.06-.94-2.06-.94-.94-2.06-.94 2.06-2.06.94zm-11 1L8.5 8.5l.94-2.06 2.06-.94-2.06-.94L8.5 2.5l-.94 2.06-2.06.94zm10 10l.94 2.06.94-2.06 2.06-.94-2.06-.94-.94-2.06-.94 2.06-2.06.94z\"/><path d=\"M17.41 7.96l-1.37-1.37c-.4-.4-.92-.59-1.43-.59-.52 0-1.04.2-1.43.59L10.3 9.45l-7.72 7.72c-.78.78-.78 2.05 0 2.83L4 21.41c.39.39.9.59 1.41.59.51 0 1.02-.2 1.41-.59l7.78-7.78 2.81-2.81c.8-.78.8-2.07 0-2.86zM5.41 20L4 18.59l7.72-7.72 1.47 1.35L5.41 20z\"/>\n",
              "  </svg>\n",
              "      </button>\n",
              "      \n",
              "  <style>\n",
              "    .colab-df-container {\n",
              "      display:flex;\n",
              "      flex-wrap:wrap;\n",
              "      gap: 12px;\n",
              "    }\n",
              "\n",
              "    .colab-df-convert {\n",
              "      background-color: #E8F0FE;\n",
              "      border: none;\n",
              "      border-radius: 50%;\n",
              "      cursor: pointer;\n",
              "      display: none;\n",
              "      fill: #1967D2;\n",
              "      height: 32px;\n",
              "      padding: 0 0 0 0;\n",
              "      width: 32px;\n",
              "    }\n",
              "\n",
              "    .colab-df-convert:hover {\n",
              "      background-color: #E2EBFA;\n",
              "      box-shadow: 0px 1px 2px rgba(60, 64, 67, 0.3), 0px 1px 3px 1px rgba(60, 64, 67, 0.15);\n",
              "      fill: #174EA6;\n",
              "    }\n",
              "\n",
              "    [theme=dark] .colab-df-convert {\n",
              "      background-color: #3B4455;\n",
              "      fill: #D2E3FC;\n",
              "    }\n",
              "\n",
              "    [theme=dark] .colab-df-convert:hover {\n",
              "      background-color: #434B5C;\n",
              "      box-shadow: 0px 1px 3px 1px rgba(0, 0, 0, 0.15);\n",
              "      filter: drop-shadow(0px 1px 2px rgba(0, 0, 0, 0.3));\n",
              "      fill: #FFFFFF;\n",
              "    }\n",
              "  </style>\n",
              "\n",
              "      <script>\n",
              "        const buttonEl =\n",
              "          document.querySelector('#df-6f72d496-8e67-480d-bdae-875389f96e51 button.colab-df-convert');\n",
              "        buttonEl.style.display =\n",
              "          google.colab.kernel.accessAllowed ? 'block' : 'none';\n",
              "\n",
              "        async function convertToInteractive(key) {\n",
              "          const element = document.querySelector('#df-6f72d496-8e67-480d-bdae-875389f96e51');\n",
              "          const dataTable =\n",
              "            await google.colab.kernel.invokeFunction('convertToInteractive',\n",
              "                                                     [key], {});\n",
              "          if (!dataTable) return;\n",
              "\n",
              "          const docLinkHtml = 'Like what you see? Visit the ' +\n",
              "            '<a target=\"_blank\" href=https://colab.research.google.com/notebooks/data_table.ipynb>data table notebook</a>'\n",
              "            + ' to learn more about interactive tables.';\n",
              "          element.innerHTML = '';\n",
              "          dataTable['output_type'] = 'display_data';\n",
              "          await google.colab.output.renderOutput(dataTable, element);\n",
              "          const docLink = document.createElement('div');\n",
              "          docLink.innerHTML = docLinkHtml;\n",
              "          element.appendChild(docLink);\n",
              "        }\n",
              "      </script>\n",
              "    </div>\n",
              "  </div>\n",
              "  "
            ],
            "text/plain": [
              "        R-ref       G-ref  ...  Shad                                       Img\n",
              "0  237.548368  219.008547  ...    A1  59331E47-9409-4752-859C-BD69B64F2FC6.png\n",
              "1  239.642580  227.445610  ...    A1  271B26B6-1BC4-4A50-9198-127569C8BF3D.png\n",
              "2  238.823135  226.798660  ...    A1  101CF038-4C3A-400E-9C2C-6CC2F63DEEEF.png\n",
              "3  239.165016  227.221057  ...    A1  4CA308BF-F5D3-47CB-A3C0-4D0D3CBD97AA.png\n",
              "4  239.322261  227.482032  ...    A1  C05E2226-6B18-40E3-966D-02DE782F3404.png\n",
              "\n",
              "[5 rows x 16 columns]"
            ]
          },
          "metadata": {},
          "execution_count": 752
        }
      ]
    },
    {
      "cell_type": "code",
      "source": [
        "table_A3_5Set3 = pd.read_excel(Set3, sheet_name='A3.5Set3  ')\n",
        "table_A3_5Set3.head()"
      ],
      "metadata": {
        "colab": {
          "base_uri": "https://localhost:8080/",
          "height": 337
        },
        "outputId": "2f68b9f9-cd11-4f27-943a-25ef96e656df",
        "id": "TkVKUMmpjoWu"
      },
      "execution_count": 753,
      "outputs": [
        {
          "output_type": "execute_result",
          "data": {
            "text/html": [
              "\n",
              "  <div id=\"df-a2a47bbd-0750-47e7-95b9-a6dca2a24677\">\n",
              "    <div class=\"colab-df-container\">\n",
              "      <div>\n",
              "<style scoped>\n",
              "    .dataframe tbody tr th:only-of-type {\n",
              "        vertical-align: middle;\n",
              "    }\n",
              "\n",
              "    .dataframe tbody tr th {\n",
              "        vertical-align: top;\n",
              "    }\n",
              "\n",
              "    .dataframe thead th {\n",
              "        text-align: right;\n",
              "    }\n",
              "</style>\n",
              "<table border=\"1\" class=\"dataframe\">\n",
              "  <thead>\n",
              "    <tr style=\"text-align: right;\">\n",
              "      <th></th>\n",
              "      <th>R-ref</th>\n",
              "      <th>G-ref</th>\n",
              "      <th>B-ref</th>\n",
              "      <th>R-Shad</th>\n",
              "      <th>G-Shad</th>\n",
              "      <th>B-Shad</th>\n",
              "      <th>H-ref</th>\n",
              "      <th>S-ref</th>\n",
              "      <th>V-ref</th>\n",
              "      <th>H-Shad</th>\n",
              "      <th>S-Shad</th>\n",
              "      <th>V-Shad</th>\n",
              "      <th>Setting</th>\n",
              "      <th>Ref</th>\n",
              "      <th>Shad</th>\n",
              "      <th>Img</th>\n",
              "    </tr>\n",
              "  </thead>\n",
              "  <tbody>\n",
              "    <tr>\n",
              "      <th>0</th>\n",
              "      <td>232.491259</td>\n",
              "      <td>215.427253</td>\n",
              "      <td>171.519328</td>\n",
              "      <td>230.019553</td>\n",
              "      <td>213.264665</td>\n",
              "      <td>170.068390</td>\n",
              "      <td>21.993007</td>\n",
              "      <td>66.885975</td>\n",
              "      <td>232.491259</td>\n",
              "      <td>21.990826</td>\n",
              "      <td>66.480122</td>\n",
              "      <td>230.019553</td>\n",
              "      <td>Set3</td>\n",
              "      <td>A3.5</td>\n",
              "      <td>A1</td>\n",
              "      <td>DD92C3DE-FED4-405C-A9BE-F6CB3CC67D3C.png</td>\n",
              "    </tr>\n",
              "    <tr>\n",
              "      <th>1</th>\n",
              "      <td>229.007673</td>\n",
              "      <td>211.568959</td>\n",
              "      <td>167.013792</td>\n",
              "      <td>226.595404</td>\n",
              "      <td>209.552683</td>\n",
              "      <td>166.097303</td>\n",
              "      <td>21.824009</td>\n",
              "      <td>69.038073</td>\n",
              "      <td>229.007673</td>\n",
              "      <td>21.959503</td>\n",
              "      <td>68.103976</td>\n",
              "      <td>226.595404</td>\n",
              "      <td>Set3</td>\n",
              "      <td>A3.5</td>\n",
              "      <td>A1</td>\n",
              "      <td>475DD7D4-D0A4-4875-8A88-515EC0BE2FEA.png</td>\n",
              "    </tr>\n",
              "    <tr>\n",
              "      <th>2</th>\n",
              "      <td>232.717852</td>\n",
              "      <td>214.911616</td>\n",
              "      <td>170.554390</td>\n",
              "      <td>231.051710</td>\n",
              "      <td>213.996108</td>\n",
              "      <td>170.108238</td>\n",
              "      <td>21.732032</td>\n",
              "      <td>68.092269</td>\n",
              "      <td>232.717852</td>\n",
              "      <td>21.972199</td>\n",
              "      <td>67.258085</td>\n",
              "      <td>231.051710</td>\n",
              "      <td>Set3</td>\n",
              "      <td>A3.5</td>\n",
              "      <td>A1</td>\n",
              "      <td>6A134D80-DECF-4205-B3F2-0FC7F87D6F47.png</td>\n",
              "    </tr>\n",
              "    <tr>\n",
              "      <th>3</th>\n",
              "      <td>233.155497</td>\n",
              "      <td>214.801573</td>\n",
              "      <td>170.941239</td>\n",
              "      <td>231.553146</td>\n",
              "      <td>213.022055</td>\n",
              "      <td>169.864887</td>\n",
              "      <td>21.428613</td>\n",
              "      <td>68.041278</td>\n",
              "      <td>233.155497</td>\n",
              "      <td>21.240386</td>\n",
              "      <td>67.943379</td>\n",
              "      <td>231.553146</td>\n",
              "      <td>Set3</td>\n",
              "      <td>A3.5</td>\n",
              "      <td>A1</td>\n",
              "      <td>3AF27BD7-16A3-47B3-A9D2-6F28AB0A73D4.png</td>\n",
              "    </tr>\n",
              "    <tr>\n",
              "      <th>4</th>\n",
              "      <td>233.052253</td>\n",
              "      <td>214.682595</td>\n",
              "      <td>171.406954</td>\n",
              "      <td>230.845056</td>\n",
              "      <td>213.666759</td>\n",
              "      <td>170.622185</td>\n",
              "      <td>21.316336</td>\n",
              "      <td>67.456099</td>\n",
              "      <td>233.052253</td>\n",
              "      <td>21.903438</td>\n",
              "      <td>66.561116</td>\n",
              "      <td>230.845056</td>\n",
              "      <td>Set3</td>\n",
              "      <td>A3.5</td>\n",
              "      <td>A1</td>\n",
              "      <td>F1DEE804-F5D7-48D6-A2AF-FB7B10C7C006.png</td>\n",
              "    </tr>\n",
              "  </tbody>\n",
              "</table>\n",
              "</div>\n",
              "      <button class=\"colab-df-convert\" onclick=\"convertToInteractive('df-a2a47bbd-0750-47e7-95b9-a6dca2a24677')\"\n",
              "              title=\"Convert this dataframe to an interactive table.\"\n",
              "              style=\"display:none;\">\n",
              "        \n",
              "  <svg xmlns=\"http://www.w3.org/2000/svg\" height=\"24px\"viewBox=\"0 0 24 24\"\n",
              "       width=\"24px\">\n",
              "    <path d=\"M0 0h24v24H0V0z\" fill=\"none\"/>\n",
              "    <path d=\"M18.56 5.44l.94 2.06.94-2.06 2.06-.94-2.06-.94-.94-2.06-.94 2.06-2.06.94zm-11 1L8.5 8.5l.94-2.06 2.06-.94-2.06-.94L8.5 2.5l-.94 2.06-2.06.94zm10 10l.94 2.06.94-2.06 2.06-.94-2.06-.94-.94-2.06-.94 2.06-2.06.94z\"/><path d=\"M17.41 7.96l-1.37-1.37c-.4-.4-.92-.59-1.43-.59-.52 0-1.04.2-1.43.59L10.3 9.45l-7.72 7.72c-.78.78-.78 2.05 0 2.83L4 21.41c.39.39.9.59 1.41.59.51 0 1.02-.2 1.41-.59l7.78-7.78 2.81-2.81c.8-.78.8-2.07 0-2.86zM5.41 20L4 18.59l7.72-7.72 1.47 1.35L5.41 20z\"/>\n",
              "  </svg>\n",
              "      </button>\n",
              "      \n",
              "  <style>\n",
              "    .colab-df-container {\n",
              "      display:flex;\n",
              "      flex-wrap:wrap;\n",
              "      gap: 12px;\n",
              "    }\n",
              "\n",
              "    .colab-df-convert {\n",
              "      background-color: #E8F0FE;\n",
              "      border: none;\n",
              "      border-radius: 50%;\n",
              "      cursor: pointer;\n",
              "      display: none;\n",
              "      fill: #1967D2;\n",
              "      height: 32px;\n",
              "      padding: 0 0 0 0;\n",
              "      width: 32px;\n",
              "    }\n",
              "\n",
              "    .colab-df-convert:hover {\n",
              "      background-color: #E2EBFA;\n",
              "      box-shadow: 0px 1px 2px rgba(60, 64, 67, 0.3), 0px 1px 3px 1px rgba(60, 64, 67, 0.15);\n",
              "      fill: #174EA6;\n",
              "    }\n",
              "\n",
              "    [theme=dark] .colab-df-convert {\n",
              "      background-color: #3B4455;\n",
              "      fill: #D2E3FC;\n",
              "    }\n",
              "\n",
              "    [theme=dark] .colab-df-convert:hover {\n",
              "      background-color: #434B5C;\n",
              "      box-shadow: 0px 1px 3px 1px rgba(0, 0, 0, 0.15);\n",
              "      filter: drop-shadow(0px 1px 2px rgba(0, 0, 0, 0.3));\n",
              "      fill: #FFFFFF;\n",
              "    }\n",
              "  </style>\n",
              "\n",
              "      <script>\n",
              "        const buttonEl =\n",
              "          document.querySelector('#df-a2a47bbd-0750-47e7-95b9-a6dca2a24677 button.colab-df-convert');\n",
              "        buttonEl.style.display =\n",
              "          google.colab.kernel.accessAllowed ? 'block' : 'none';\n",
              "\n",
              "        async function convertToInteractive(key) {\n",
              "          const element = document.querySelector('#df-a2a47bbd-0750-47e7-95b9-a6dca2a24677');\n",
              "          const dataTable =\n",
              "            await google.colab.kernel.invokeFunction('convertToInteractive',\n",
              "                                                     [key], {});\n",
              "          if (!dataTable) return;\n",
              "\n",
              "          const docLinkHtml = 'Like what you see? Visit the ' +\n",
              "            '<a target=\"_blank\" href=https://colab.research.google.com/notebooks/data_table.ipynb>data table notebook</a>'\n",
              "            + ' to learn more about interactive tables.';\n",
              "          element.innerHTML = '';\n",
              "          dataTable['output_type'] = 'display_data';\n",
              "          await google.colab.output.renderOutput(dataTable, element);\n",
              "          const docLink = document.createElement('div');\n",
              "          docLink.innerHTML = docLinkHtml;\n",
              "          element.appendChild(docLink);\n",
              "        }\n",
              "      </script>\n",
              "    </div>\n",
              "  </div>\n",
              "  "
            ],
            "text/plain": [
              "        R-ref       G-ref  ...  Shad                                       Img\n",
              "0  232.491259  215.427253  ...    A1  DD92C3DE-FED4-405C-A9BE-F6CB3CC67D3C.png\n",
              "1  229.007673  211.568959  ...    A1  475DD7D4-D0A4-4875-8A88-515EC0BE2FEA.png\n",
              "2  232.717852  214.911616  ...    A1  6A134D80-DECF-4205-B3F2-0FC7F87D6F47.png\n",
              "3  233.155497  214.801573  ...    A1  3AF27BD7-16A3-47B3-A9D2-6F28AB0A73D4.png\n",
              "4  233.052253  214.682595  ...    A1  F1DEE804-F5D7-48D6-A2AF-FB7B10C7C006.png\n",
              "\n",
              "[5 rows x 16 columns]"
            ]
          },
          "metadata": {},
          "execution_count": 753
        }
      ]
    },
    {
      "cell_type": "code",
      "source": [
        "table_A3_5Set4 = pd.read_excel(Set4, sheet_name='A3.5Set4')\n",
        "table_A3_5Set4.head()"
      ],
      "metadata": {
        "colab": {
          "base_uri": "https://localhost:8080/",
          "height": 337
        },
        "outputId": "dfce6598-cd5d-4835-89e8-8caf540602a8",
        "id": "9_p2g-cPjoWv"
      },
      "execution_count": 754,
      "outputs": [
        {
          "output_type": "execute_result",
          "data": {
            "text/html": [
              "\n",
              "  <div id=\"df-44615b38-0d04-44e9-bea9-2f8a59b42f85\">\n",
              "    <div class=\"colab-df-container\">\n",
              "      <div>\n",
              "<style scoped>\n",
              "    .dataframe tbody tr th:only-of-type {\n",
              "        vertical-align: middle;\n",
              "    }\n",
              "\n",
              "    .dataframe tbody tr th {\n",
              "        vertical-align: top;\n",
              "    }\n",
              "\n",
              "    .dataframe thead th {\n",
              "        text-align: right;\n",
              "    }\n",
              "</style>\n",
              "<table border=\"1\" class=\"dataframe\">\n",
              "  <thead>\n",
              "    <tr style=\"text-align: right;\">\n",
              "      <th></th>\n",
              "      <th>R-ref</th>\n",
              "      <th>G-ref</th>\n",
              "      <th>B-ref</th>\n",
              "      <th>R-Shad</th>\n",
              "      <th>G-Shad</th>\n",
              "      <th>B-Shad</th>\n",
              "      <th>H-ref</th>\n",
              "      <th>S-ref</th>\n",
              "      <th>V-ref</th>\n",
              "      <th>H-Shad</th>\n",
              "      <th>S-Shad</th>\n",
              "      <th>V-Shad</th>\n",
              "      <th>Set4</th>\n",
              "      <th>Ref</th>\n",
              "      <th>Shad</th>\n",
              "      <th>Img</th>\n",
              "    </tr>\n",
              "  </thead>\n",
              "  <tbody>\n",
              "    <tr>\n",
              "      <th>0</th>\n",
              "      <td>228.276520</td>\n",
              "      <td>204.980440</td>\n",
              "      <td>144.768769</td>\n",
              "      <td>228.051632</td>\n",
              "      <td>204.716663</td>\n",
              "      <td>144.671574</td>\n",
              "      <td>21.541839</td>\n",
              "      <td>93.335849</td>\n",
              "      <td>228.276520</td>\n",
              "      <td>21.527985</td>\n",
              "      <td>93.286751</td>\n",
              "      <td>228.051632</td>\n",
              "      <td>Set4</td>\n",
              "      <td>A3.5</td>\n",
              "      <td>A1</td>\n",
              "      <td>EA18B729-21CA-4CBD-9CD9-87A230B62A73.png</td>\n",
              "    </tr>\n",
              "    <tr>\n",
              "      <th>1</th>\n",
              "      <td>235.425991</td>\n",
              "      <td>219.263695</td>\n",
              "      <td>177.827214</td>\n",
              "      <td>232.931795</td>\n",
              "      <td>217.058567</td>\n",
              "      <td>174.902604</td>\n",
              "      <td>22.025484</td>\n",
              "      <td>63.614864</td>\n",
              "      <td>232.931795</td>\n",
              "      <td>22.025484</td>\n",
              "      <td>63.614864</td>\n",
              "      <td>232.931795</td>\n",
              "      <td>Set4</td>\n",
              "      <td>A3.5</td>\n",
              "      <td>A1</td>\n",
              "      <td>6F63F3BD-AD91-4D05-A01E-F262738EC089.png</td>\n",
              "    </tr>\n",
              "    <tr>\n",
              "      <th>2</th>\n",
              "      <td>232.456488</td>\n",
              "      <td>215.038753</td>\n",
              "      <td>170.408508</td>\n",
              "      <td>230.343712</td>\n",
              "      <td>213.313502</td>\n",
              "      <td>169.960430</td>\n",
              "      <td>21.939765</td>\n",
              "      <td>66.862015</td>\n",
              "      <td>230.343712</td>\n",
              "      <td>21.939765</td>\n",
              "      <td>66.862015</td>\n",
              "      <td>230.343712</td>\n",
              "      <td>Set4</td>\n",
              "      <td>A3.5</td>\n",
              "      <td>A1</td>\n",
              "      <td>C25C23A8-8D33-471D-9F99-1D7F0A5A2256.png</td>\n",
              "    </tr>\n",
              "    <tr>\n",
              "      <th>3</th>\n",
              "      <td>235.684538</td>\n",
              "      <td>218.972611</td>\n",
              "      <td>176.287296</td>\n",
              "      <td>234.455472</td>\n",
              "      <td>217.714206</td>\n",
              "      <td>174.414883</td>\n",
              "      <td>22.017793</td>\n",
              "      <td>65.316931</td>\n",
              "      <td>234.455936</td>\n",
              "      <td>22.017793</td>\n",
              "      <td>65.316931</td>\n",
              "      <td>234.455936</td>\n",
              "      <td>Set4</td>\n",
              "      <td>A3.5</td>\n",
              "      <td>A1</td>\n",
              "      <td>C7840948-E4E4-4326-9CA7-7249FD51E66F.png</td>\n",
              "    </tr>\n",
              "    <tr>\n",
              "      <th>4</th>\n",
              "      <td>235.963481</td>\n",
              "      <td>218.680458</td>\n",
              "      <td>176.613928</td>\n",
              "      <td>234.775183</td>\n",
              "      <td>217.157631</td>\n",
              "      <td>174.290242</td>\n",
              "      <td>21.605505</td>\n",
              "      <td>65.759336</td>\n",
              "      <td>234.775276</td>\n",
              "      <td>21.605505</td>\n",
              "      <td>65.759336</td>\n",
              "      <td>234.775276</td>\n",
              "      <td>Set4</td>\n",
              "      <td>A3.5</td>\n",
              "      <td>A1</td>\n",
              "      <td>6D2686E5-1F1E-46F5-8307-2588684AE288.png</td>\n",
              "    </tr>\n",
              "  </tbody>\n",
              "</table>\n",
              "</div>\n",
              "      <button class=\"colab-df-convert\" onclick=\"convertToInteractive('df-44615b38-0d04-44e9-bea9-2f8a59b42f85')\"\n",
              "              title=\"Convert this dataframe to an interactive table.\"\n",
              "              style=\"display:none;\">\n",
              "        \n",
              "  <svg xmlns=\"http://www.w3.org/2000/svg\" height=\"24px\"viewBox=\"0 0 24 24\"\n",
              "       width=\"24px\">\n",
              "    <path d=\"M0 0h24v24H0V0z\" fill=\"none\"/>\n",
              "    <path d=\"M18.56 5.44l.94 2.06.94-2.06 2.06-.94-2.06-.94-.94-2.06-.94 2.06-2.06.94zm-11 1L8.5 8.5l.94-2.06 2.06-.94-2.06-.94L8.5 2.5l-.94 2.06-2.06.94zm10 10l.94 2.06.94-2.06 2.06-.94-2.06-.94-.94-2.06-.94 2.06-2.06.94z\"/><path d=\"M17.41 7.96l-1.37-1.37c-.4-.4-.92-.59-1.43-.59-.52 0-1.04.2-1.43.59L10.3 9.45l-7.72 7.72c-.78.78-.78 2.05 0 2.83L4 21.41c.39.39.9.59 1.41.59.51 0 1.02-.2 1.41-.59l7.78-7.78 2.81-2.81c.8-.78.8-2.07 0-2.86zM5.41 20L4 18.59l7.72-7.72 1.47 1.35L5.41 20z\"/>\n",
              "  </svg>\n",
              "      </button>\n",
              "      \n",
              "  <style>\n",
              "    .colab-df-container {\n",
              "      display:flex;\n",
              "      flex-wrap:wrap;\n",
              "      gap: 12px;\n",
              "    }\n",
              "\n",
              "    .colab-df-convert {\n",
              "      background-color: #E8F0FE;\n",
              "      border: none;\n",
              "      border-radius: 50%;\n",
              "      cursor: pointer;\n",
              "      display: none;\n",
              "      fill: #1967D2;\n",
              "      height: 32px;\n",
              "      padding: 0 0 0 0;\n",
              "      width: 32px;\n",
              "    }\n",
              "\n",
              "    .colab-df-convert:hover {\n",
              "      background-color: #E2EBFA;\n",
              "      box-shadow: 0px 1px 2px rgba(60, 64, 67, 0.3), 0px 1px 3px 1px rgba(60, 64, 67, 0.15);\n",
              "      fill: #174EA6;\n",
              "    }\n",
              "\n",
              "    [theme=dark] .colab-df-convert {\n",
              "      background-color: #3B4455;\n",
              "      fill: #D2E3FC;\n",
              "    }\n",
              "\n",
              "    [theme=dark] .colab-df-convert:hover {\n",
              "      background-color: #434B5C;\n",
              "      box-shadow: 0px 1px 3px 1px rgba(0, 0, 0, 0.15);\n",
              "      filter: drop-shadow(0px 1px 2px rgba(0, 0, 0, 0.3));\n",
              "      fill: #FFFFFF;\n",
              "    }\n",
              "  </style>\n",
              "\n",
              "      <script>\n",
              "        const buttonEl =\n",
              "          document.querySelector('#df-44615b38-0d04-44e9-bea9-2f8a59b42f85 button.colab-df-convert');\n",
              "        buttonEl.style.display =\n",
              "          google.colab.kernel.accessAllowed ? 'block' : 'none';\n",
              "\n",
              "        async function convertToInteractive(key) {\n",
              "          const element = document.querySelector('#df-44615b38-0d04-44e9-bea9-2f8a59b42f85');\n",
              "          const dataTable =\n",
              "            await google.colab.kernel.invokeFunction('convertToInteractive',\n",
              "                                                     [key], {});\n",
              "          if (!dataTable) return;\n",
              "\n",
              "          const docLinkHtml = 'Like what you see? Visit the ' +\n",
              "            '<a target=\"_blank\" href=https://colab.research.google.com/notebooks/data_table.ipynb>data table notebook</a>'\n",
              "            + ' to learn more about interactive tables.';\n",
              "          element.innerHTML = '';\n",
              "          dataTable['output_type'] = 'display_data';\n",
              "          await google.colab.output.renderOutput(dataTable, element);\n",
              "          const docLink = document.createElement('div');\n",
              "          docLink.innerHTML = docLinkHtml;\n",
              "          element.appendChild(docLink);\n",
              "        }\n",
              "      </script>\n",
              "    </div>\n",
              "  </div>\n",
              "  "
            ],
            "text/plain": [
              "        R-ref       G-ref  ...  Shad                                       Img\n",
              "0  228.276520  204.980440  ...    A1  EA18B729-21CA-4CBD-9CD9-87A230B62A73.png\n",
              "1  235.425991  219.263695  ...    A1  6F63F3BD-AD91-4D05-A01E-F262738EC089.png\n",
              "2  232.456488  215.038753  ...    A1  C25C23A8-8D33-471D-9F99-1D7F0A5A2256.png\n",
              "3  235.684538  218.972611  ...    A1  C7840948-E4E4-4326-9CA7-7249FD51E66F.png\n",
              "4  235.963481  218.680458  ...    A1  6D2686E5-1F1E-46F5-8307-2588684AE288.png\n",
              "\n",
              "[5 rows x 16 columns]"
            ]
          },
          "metadata": {},
          "execution_count": 754
        }
      ]
    },
    {
      "cell_type": "markdown",
      "source": [
        "###RGB"
      ],
      "metadata": {
        "id": "szqdEZaHjoWv"
      }
    },
    {
      "cell_type": "code",
      "source": [
        "RGB_A3_5_Set1 = table_A3_5Set1.drop(['H-ref','S-ref','V-ref','H-Shad','S-Shad','V-Shad','Setting','Ref','Shad','Img'], axis=1)"
      ],
      "metadata": {
        "id": "k3kvC36YjoWv"
      },
      "execution_count": 755,
      "outputs": []
    },
    {
      "cell_type": "code",
      "source": [
        "RGB_A3_5_Set2 = table_A3_5Set2"
      ],
      "metadata": {
        "id": "gFpr3qLfjoWv"
      },
      "execution_count": 756,
      "outputs": []
    },
    {
      "cell_type": "code",
      "source": [
        "RGB_A3_5_Set3 = table_A3_5Set3"
      ],
      "metadata": {
        "id": "fiDM7F5XjoWv"
      },
      "execution_count": 757,
      "outputs": []
    },
    {
      "cell_type": "code",
      "source": [
        "RGB_A3_5_Set4 = table_A3_5Set4"
      ],
      "metadata": {
        "id": "LGWSiKq2joWv"
      },
      "execution_count": 758,
      "outputs": []
    },
    {
      "cell_type": "code",
      "source": [
        "RGB_A3_5_concat0 = pd.concat([RGB_A3_5_Set2,RGB_A3_5_Set3])"
      ],
      "metadata": {
        "id": "mv4DzxV_joWv"
      },
      "execution_count": 759,
      "outputs": []
    },
    {
      "cell_type": "code",
      "source": [
        "RGB_A3_5_concat1 = pd.concat([RGB_A3_5_concat0,RGB_A3_5_Set4])"
      ],
      "metadata": {
        "id": "wXMoDBs2joWv"
      },
      "execution_count": 760,
      "outputs": []
    },
    {
      "cell_type": "code",
      "source": [
        "RGB_A3_5_concat2 = RGB_A3_5_concat1.drop(['H-ref','S-ref','V-ref','H-Shad','S-Shad','V-Shad','Setting','Ref','Shad','Img','Set4'], axis=1)"
      ],
      "metadata": {
        "id": "OIKxmY3pjoWv"
      },
      "execution_count": 771,
      "outputs": []
    },
    {
      "cell_type": "code",
      "source": [
        "X_test_A3_5_RGB = np.array(RGB_A3_5_Set1)"
      ],
      "metadata": {
        "id": "cYD4qo1XjoWw"
      },
      "execution_count": 772,
      "outputs": []
    },
    {
      "cell_type": "code",
      "source": [
        "y_A3_5_RGB =  table_A3_5Set1.iloc[:,14:15]"
      ],
      "metadata": {
        "id": "vJxHOjUkjoWw"
      },
      "execution_count": 773,
      "outputs": []
    },
    {
      "cell_type": "code",
      "source": [
        "y_test_A3_5_RGB = np.array(y_A3_5_RGB)"
      ],
      "metadata": {
        "id": "cobCJjzljoWw"
      },
      "execution_count": 774,
      "outputs": []
    },
    {
      "cell_type": "code",
      "source": [
        "X_train_A3_5_RGB = np.array(RGB_A3_5_concat2)"
      ],
      "metadata": {
        "id": "dfMok11LjoWw"
      },
      "execution_count": 775,
      "outputs": []
    },
    {
      "cell_type": "code",
      "source": [
        "y_train_A3_5RGB = RGB_A3_5_concat1.iloc[:,14:15]"
      ],
      "metadata": {
        "id": "MjjBCpJ4joWw"
      },
      "execution_count": 776,
      "outputs": []
    },
    {
      "cell_type": "code",
      "source": [
        "y_train_A3_5_RGB = np.array(y_train_A3_5RGB)"
      ],
      "metadata": {
        "id": "CmWagAKLjoWw"
      },
      "execution_count": 777,
      "outputs": []
    },
    {
      "cell_type": "code",
      "source": [
        "X_train_A3_5_RGB.shape"
      ],
      "metadata": {
        "colab": {
          "base_uri": "https://localhost:8080/"
        },
        "outputId": "5b8063ed-bc56-4863-c975-0218d9e8cdd1",
        "id": "mpW3NqH3joWw"
      },
      "execution_count": 778,
      "outputs": [
        {
          "output_type": "execute_result",
          "data": {
            "text/plain": [
              "(2400, 6)"
            ]
          },
          "metadata": {},
          "execution_count": 778
        }
      ]
    },
    {
      "cell_type": "code",
      "source": [
        "y_train_A3_5_RGB.shape"
      ],
      "metadata": {
        "colab": {
          "base_uri": "https://localhost:8080/"
        },
        "outputId": "1f6a3a2f-07ed-4fdd-e481-de0dd497edd6",
        "id": "ku4N5jvLjoWw"
      },
      "execution_count": 779,
      "outputs": [
        {
          "output_type": "execute_result",
          "data": {
            "text/plain": [
              "(2400, 1)"
            ]
          },
          "metadata": {},
          "execution_count": 779
        }
      ]
    },
    {
      "cell_type": "code",
      "source": [
        "clf.fit(X_train_A3_5_RGB, y_train_A3_5_RGB)"
      ],
      "metadata": {
        "colab": {
          "base_uri": "https://localhost:8080/"
        },
        "outputId": "e53a4c4c-e9ba-4dd5-dccd-283238f3aa74",
        "id": "9LZJjOA2joWw"
      },
      "execution_count": 780,
      "outputs": [
        {
          "output_type": "stream",
          "name": "stderr",
          "text": [
            "/usr/local/lib/python3.7/dist-packages/ipykernel_launcher.py:1: DataConversionWarning: A column-vector y was passed when a 1d array was expected. Please change the shape of y to (n_samples,), for example using ravel().\n",
            "  \"\"\"Entry point for launching an IPython kernel.\n"
          ]
        },
        {
          "output_type": "execute_result",
          "data": {
            "text/plain": [
              "RandomForestClassifier()"
            ]
          },
          "metadata": {},
          "execution_count": 780
        }
      ]
    },
    {
      "cell_type": "code",
      "source": [
        "y_pred_A3_5_RGB = clf.predict(X_test_A3_5_RGB)"
      ],
      "metadata": {
        "id": "XArHxf8ujoWw"
      },
      "execution_count": 781,
      "outputs": []
    },
    {
      "cell_type": "code",
      "source": [
        "print(\"Accuracy:\", metrics.accuracy_score(y_test_A3_5_RGB, y_pred_A3_5_RGB))"
      ],
      "metadata": {
        "colab": {
          "base_uri": "https://localhost:8080/"
        },
        "outputId": "50840302-71f0-4595-a5ef-2efdc51f62e7",
        "id": "R2MXW1HujoWw"
      },
      "execution_count": 782,
      "outputs": [
        {
          "output_type": "stream",
          "name": "stdout",
          "text": [
            "Accuracy: 0.85\n"
          ]
        }
      ]
    },
    {
      "cell_type": "markdown",
      "source": [
        "###HSV"
      ],
      "metadata": {
        "id": "_IExAm4gjoWx"
      }
    },
    {
      "cell_type": "code",
      "source": [
        "HSV_A3_5_Set1 = table_A3_5Set1.drop(['R-ref','G-ref','B-ref','R-Shad','G-Shad','B-Shad','Setting','Ref','Shad','Img'], axis=1)"
      ],
      "metadata": {
        "id": "lhj5PV07joWx"
      },
      "execution_count": 783,
      "outputs": []
    },
    {
      "cell_type": "code",
      "source": [
        "HSV_A3_5_concat2 = RGB_A3_5_concat1.drop(['R-ref','G-ref','B-ref','R-Shad','G-Shad','B-Shad','Setting','Ref','Shad','Img','Set4'], axis=1)"
      ],
      "metadata": {
        "id": "8oHPZ7YajoWx"
      },
      "execution_count": 784,
      "outputs": []
    },
    {
      "cell_type": "code",
      "source": [
        "X_test_A3_5_HSV = np.array(HSV_A3_5_Set1)"
      ],
      "metadata": {
        "id": "cZ2L64gojoWx"
      },
      "execution_count": 785,
      "outputs": []
    },
    {
      "cell_type": "code",
      "source": [
        "y_A3_5_HSV =  table_A3_5Set1.iloc[:,14:15]"
      ],
      "metadata": {
        "id": "fKuRKeGXjoWx"
      },
      "execution_count": 786,
      "outputs": []
    },
    {
      "cell_type": "code",
      "source": [
        "y_test_A3_5_HSV = np.array(y_A3_5_RGB)"
      ],
      "metadata": {
        "id": "FA7kZYn2joWx"
      },
      "execution_count": 787,
      "outputs": []
    },
    {
      "cell_type": "code",
      "source": [
        "X_train_A3_5_HSV = np.array(HSV_A3_5_concat2)"
      ],
      "metadata": {
        "id": "Lpr6XTwwjoWx"
      },
      "execution_count": 788,
      "outputs": []
    },
    {
      "cell_type": "code",
      "source": [
        "y_train_A3_5HSV = RGB_A3_5_concat1.iloc[:,14:15]"
      ],
      "metadata": {
        "id": "fU-86S2TjoWx"
      },
      "execution_count": 789,
      "outputs": []
    },
    {
      "cell_type": "code",
      "source": [
        "y_train_A3_5_HSV = np.array(y_train_A3_5HSV)"
      ],
      "metadata": {
        "id": "dLsM5Ta9joWx"
      },
      "execution_count": 790,
      "outputs": []
    },
    {
      "cell_type": "code",
      "source": [
        "clf.fit(X_train_A3_5_HSV, y_train_A3_5_HSV)"
      ],
      "metadata": {
        "colab": {
          "base_uri": "https://localhost:8080/"
        },
        "outputId": "36c5b369-c822-4d55-8a49-80d52f8afffd",
        "id": "YyIuDeUHjoWy"
      },
      "execution_count": 791,
      "outputs": [
        {
          "output_type": "stream",
          "name": "stderr",
          "text": [
            "/usr/local/lib/python3.7/dist-packages/ipykernel_launcher.py:1: DataConversionWarning: A column-vector y was passed when a 1d array was expected. Please change the shape of y to (n_samples,), for example using ravel().\n",
            "  \"\"\"Entry point for launching an IPython kernel.\n"
          ]
        },
        {
          "output_type": "execute_result",
          "data": {
            "text/plain": [
              "RandomForestClassifier()"
            ]
          },
          "metadata": {},
          "execution_count": 791
        }
      ]
    },
    {
      "cell_type": "code",
      "source": [
        "y_pred_A3_5_HSV = clf.predict(X_test_A3_5_HSV)"
      ],
      "metadata": {
        "id": "3vwQoGB9joWy"
      },
      "execution_count": 792,
      "outputs": []
    },
    {
      "cell_type": "code",
      "source": [
        "print(\"Accuracy:\", metrics.accuracy_score(y_test_A3_5_HSV, y_pred_A3_5_HSV))"
      ],
      "metadata": {
        "colab": {
          "base_uri": "https://localhost:8080/"
        },
        "outputId": "7a64d3eb-21eb-485f-936b-847ba425f239",
        "id": "ztP1KhpfjoWy"
      },
      "execution_count": 793,
      "outputs": [
        {
          "output_type": "stream",
          "name": "stdout",
          "text": [
            "Accuracy: 0.7625\n"
          ]
        }
      ]
    },
    {
      "cell_type": "markdown",
      "source": [
        "##A4"
      ],
      "metadata": {
        "id": "QtddIFhZmT6y"
      }
    },
    {
      "cell_type": "code",
      "source": [
        "table_A4Set1 = pd.read_excel(Set1 , sheet_name='A4Set1 ')\n",
        "table_A4Set1.head()"
      ],
      "metadata": {
        "colab": {
          "base_uri": "https://localhost:8080/",
          "height": 337
        },
        "outputId": "f385e95e-25dd-4322-f738-4f9a8061ee8d",
        "id": "UTdvgDYRmT6y"
      },
      "execution_count": 794,
      "outputs": [
        {
          "output_type": "execute_result",
          "data": {
            "text/html": [
              "\n",
              "  <div id=\"df-e32011a4-cf47-4906-915f-a09187889942\">\n",
              "    <div class=\"colab-df-container\">\n",
              "      <div>\n",
              "<style scoped>\n",
              "    .dataframe tbody tr th:only-of-type {\n",
              "        vertical-align: middle;\n",
              "    }\n",
              "\n",
              "    .dataframe tbody tr th {\n",
              "        vertical-align: top;\n",
              "    }\n",
              "\n",
              "    .dataframe thead th {\n",
              "        text-align: right;\n",
              "    }\n",
              "</style>\n",
              "<table border=\"1\" class=\"dataframe\">\n",
              "  <thead>\n",
              "    <tr style=\"text-align: right;\">\n",
              "      <th></th>\n",
              "      <th>R-ref</th>\n",
              "      <th>G-ref</th>\n",
              "      <th>B-ref</th>\n",
              "      <th>R-Shad</th>\n",
              "      <th>G-Shad</th>\n",
              "      <th>B-Shad</th>\n",
              "      <th>H-ref</th>\n",
              "      <th>S-ref</th>\n",
              "      <th>V-ref</th>\n",
              "      <th>H-Shad</th>\n",
              "      <th>S-Shad</th>\n",
              "      <th>V-Shad</th>\n",
              "      <th>Setting</th>\n",
              "      <th>Ref</th>\n",
              "      <th>Shad</th>\n",
              "      <th>Img</th>\n",
              "    </tr>\n",
              "  </thead>\n",
              "  <tbody>\n",
              "    <tr>\n",
              "      <th>0</th>\n",
              "      <td>232.491259</td>\n",
              "      <td>215.427253</td>\n",
              "      <td>171.519328</td>\n",
              "      <td>230.019553</td>\n",
              "      <td>213.264665</td>\n",
              "      <td>170.068390</td>\n",
              "      <td>21.993007</td>\n",
              "      <td>66.885975</td>\n",
              "      <td>232.491259</td>\n",
              "      <td>21.990826</td>\n",
              "      <td>66.480122</td>\n",
              "      <td>230.019553</td>\n",
              "      <td>Set1</td>\n",
              "      <td>A4</td>\n",
              "      <td>A1</td>\n",
              "      <td>C6D0A6B4-EAD1-4C5F-9E6B-CE5E0923BCF0.png</td>\n",
              "    </tr>\n",
              "    <tr>\n",
              "      <th>1</th>\n",
              "      <td>229.007673</td>\n",
              "      <td>211.568959</td>\n",
              "      <td>167.013792</td>\n",
              "      <td>226.595404</td>\n",
              "      <td>209.552683</td>\n",
              "      <td>166.097303</td>\n",
              "      <td>21.824009</td>\n",
              "      <td>69.038073</td>\n",
              "      <td>229.007673</td>\n",
              "      <td>21.959503</td>\n",
              "      <td>68.103976</td>\n",
              "      <td>226.595404</td>\n",
              "      <td>Set1</td>\n",
              "      <td>A4</td>\n",
              "      <td>A1</td>\n",
              "      <td>A3B3B5C2-1901-4D2C-8309-010408F66705.png</td>\n",
              "    </tr>\n",
              "    <tr>\n",
              "      <th>2</th>\n",
              "      <td>232.717852</td>\n",
              "      <td>214.911616</td>\n",
              "      <td>170.554390</td>\n",
              "      <td>231.051710</td>\n",
              "      <td>213.996108</td>\n",
              "      <td>170.108238</td>\n",
              "      <td>21.732032</td>\n",
              "      <td>68.092269</td>\n",
              "      <td>232.717852</td>\n",
              "      <td>21.972199</td>\n",
              "      <td>67.258085</td>\n",
              "      <td>231.051710</td>\n",
              "      <td>Set1</td>\n",
              "      <td>A4</td>\n",
              "      <td>A1</td>\n",
              "      <td>4C428E15-84C8-4D96-BD24-DC9969741560.png</td>\n",
              "    </tr>\n",
              "    <tr>\n",
              "      <th>3</th>\n",
              "      <td>233.155497</td>\n",
              "      <td>214.801573</td>\n",
              "      <td>170.941239</td>\n",
              "      <td>231.553146</td>\n",
              "      <td>213.022055</td>\n",
              "      <td>169.864887</td>\n",
              "      <td>21.428613</td>\n",
              "      <td>68.041278</td>\n",
              "      <td>233.155497</td>\n",
              "      <td>21.240386</td>\n",
              "      <td>67.943379</td>\n",
              "      <td>231.553146</td>\n",
              "      <td>Set1</td>\n",
              "      <td>A4</td>\n",
              "      <td>A1</td>\n",
              "      <td>91F5B0B5-A4E2-4073-A924-AC7A2ECB236F.png</td>\n",
              "    </tr>\n",
              "    <tr>\n",
              "      <th>4</th>\n",
              "      <td>233.052253</td>\n",
              "      <td>214.682595</td>\n",
              "      <td>171.406954</td>\n",
              "      <td>230.845056</td>\n",
              "      <td>213.666759</td>\n",
              "      <td>170.622185</td>\n",
              "      <td>21.316336</td>\n",
              "      <td>67.456099</td>\n",
              "      <td>233.052253</td>\n",
              "      <td>21.903438</td>\n",
              "      <td>66.561116</td>\n",
              "      <td>230.845056</td>\n",
              "      <td>Set1</td>\n",
              "      <td>A4</td>\n",
              "      <td>A1</td>\n",
              "      <td>606F71D4-DD41-4252-B152-C019C53AE874.png</td>\n",
              "    </tr>\n",
              "  </tbody>\n",
              "</table>\n",
              "</div>\n",
              "      <button class=\"colab-df-convert\" onclick=\"convertToInteractive('df-e32011a4-cf47-4906-915f-a09187889942')\"\n",
              "              title=\"Convert this dataframe to an interactive table.\"\n",
              "              style=\"display:none;\">\n",
              "        \n",
              "  <svg xmlns=\"http://www.w3.org/2000/svg\" height=\"24px\"viewBox=\"0 0 24 24\"\n",
              "       width=\"24px\">\n",
              "    <path d=\"M0 0h24v24H0V0z\" fill=\"none\"/>\n",
              "    <path d=\"M18.56 5.44l.94 2.06.94-2.06 2.06-.94-2.06-.94-.94-2.06-.94 2.06-2.06.94zm-11 1L8.5 8.5l.94-2.06 2.06-.94-2.06-.94L8.5 2.5l-.94 2.06-2.06.94zm10 10l.94 2.06.94-2.06 2.06-.94-2.06-.94-.94-2.06-.94 2.06-2.06.94z\"/><path d=\"M17.41 7.96l-1.37-1.37c-.4-.4-.92-.59-1.43-.59-.52 0-1.04.2-1.43.59L10.3 9.45l-7.72 7.72c-.78.78-.78 2.05 0 2.83L4 21.41c.39.39.9.59 1.41.59.51 0 1.02-.2 1.41-.59l7.78-7.78 2.81-2.81c.8-.78.8-2.07 0-2.86zM5.41 20L4 18.59l7.72-7.72 1.47 1.35L5.41 20z\"/>\n",
              "  </svg>\n",
              "      </button>\n",
              "      \n",
              "  <style>\n",
              "    .colab-df-container {\n",
              "      display:flex;\n",
              "      flex-wrap:wrap;\n",
              "      gap: 12px;\n",
              "    }\n",
              "\n",
              "    .colab-df-convert {\n",
              "      background-color: #E8F0FE;\n",
              "      border: none;\n",
              "      border-radius: 50%;\n",
              "      cursor: pointer;\n",
              "      display: none;\n",
              "      fill: #1967D2;\n",
              "      height: 32px;\n",
              "      padding: 0 0 0 0;\n",
              "      width: 32px;\n",
              "    }\n",
              "\n",
              "    .colab-df-convert:hover {\n",
              "      background-color: #E2EBFA;\n",
              "      box-shadow: 0px 1px 2px rgba(60, 64, 67, 0.3), 0px 1px 3px 1px rgba(60, 64, 67, 0.15);\n",
              "      fill: #174EA6;\n",
              "    }\n",
              "\n",
              "    [theme=dark] .colab-df-convert {\n",
              "      background-color: #3B4455;\n",
              "      fill: #D2E3FC;\n",
              "    }\n",
              "\n",
              "    [theme=dark] .colab-df-convert:hover {\n",
              "      background-color: #434B5C;\n",
              "      box-shadow: 0px 1px 3px 1px rgba(0, 0, 0, 0.15);\n",
              "      filter: drop-shadow(0px 1px 2px rgba(0, 0, 0, 0.3));\n",
              "      fill: #FFFFFF;\n",
              "    }\n",
              "  </style>\n",
              "\n",
              "      <script>\n",
              "        const buttonEl =\n",
              "          document.querySelector('#df-e32011a4-cf47-4906-915f-a09187889942 button.colab-df-convert');\n",
              "        buttonEl.style.display =\n",
              "          google.colab.kernel.accessAllowed ? 'block' : 'none';\n",
              "\n",
              "        async function convertToInteractive(key) {\n",
              "          const element = document.querySelector('#df-e32011a4-cf47-4906-915f-a09187889942');\n",
              "          const dataTable =\n",
              "            await google.colab.kernel.invokeFunction('convertToInteractive',\n",
              "                                                     [key], {});\n",
              "          if (!dataTable) return;\n",
              "\n",
              "          const docLinkHtml = 'Like what you see? Visit the ' +\n",
              "            '<a target=\"_blank\" href=https://colab.research.google.com/notebooks/data_table.ipynb>data table notebook</a>'\n",
              "            + ' to learn more about interactive tables.';\n",
              "          element.innerHTML = '';\n",
              "          dataTable['output_type'] = 'display_data';\n",
              "          await google.colab.output.renderOutput(dataTable, element);\n",
              "          const docLink = document.createElement('div');\n",
              "          docLink.innerHTML = docLinkHtml;\n",
              "          element.appendChild(docLink);\n",
              "        }\n",
              "      </script>\n",
              "    </div>\n",
              "  </div>\n",
              "  "
            ],
            "text/plain": [
              "        R-ref       G-ref  ...  Shad                                       Img\n",
              "0  232.491259  215.427253  ...    A1  C6D0A6B4-EAD1-4C5F-9E6B-CE5E0923BCF0.png\n",
              "1  229.007673  211.568959  ...    A1  A3B3B5C2-1901-4D2C-8309-010408F66705.png\n",
              "2  232.717852  214.911616  ...    A1  4C428E15-84C8-4D96-BD24-DC9969741560.png\n",
              "3  233.155497  214.801573  ...    A1  91F5B0B5-A4E2-4073-A924-AC7A2ECB236F.png\n",
              "4  233.052253  214.682595  ...    A1  606F71D4-DD41-4252-B152-C019C53AE874.png\n",
              "\n",
              "[5 rows x 16 columns]"
            ]
          },
          "metadata": {},
          "execution_count": 794
        }
      ]
    },
    {
      "cell_type": "code",
      "source": [
        "table_A4Set2 = pd.read_excel(Set2, sheet_name='A4Set2 ')\n",
        "table_A4Set2.head()"
      ],
      "metadata": {
        "colab": {
          "base_uri": "https://localhost:8080/",
          "height": 337
        },
        "outputId": "156fb637-e764-4297-b3c2-5c363d8c7eda",
        "id": "N53xh7ZomT6y"
      },
      "execution_count": 795,
      "outputs": [
        {
          "output_type": "execute_result",
          "data": {
            "text/html": [
              "\n",
              "  <div id=\"df-38f19574-bac2-4dab-9ab5-760f09ae2391\">\n",
              "    <div class=\"colab-df-container\">\n",
              "      <div>\n",
              "<style scoped>\n",
              "    .dataframe tbody tr th:only-of-type {\n",
              "        vertical-align: middle;\n",
              "    }\n",
              "\n",
              "    .dataframe tbody tr th {\n",
              "        vertical-align: top;\n",
              "    }\n",
              "\n",
              "    .dataframe thead th {\n",
              "        text-align: right;\n",
              "    }\n",
              "</style>\n",
              "<table border=\"1\" class=\"dataframe\">\n",
              "  <thead>\n",
              "    <tr style=\"text-align: right;\">\n",
              "      <th></th>\n",
              "      <th>R-ref</th>\n",
              "      <th>G-ref</th>\n",
              "      <th>B-ref</th>\n",
              "      <th>R-Shad</th>\n",
              "      <th>G-Shad</th>\n",
              "      <th>B-Shad</th>\n",
              "      <th>H-ref</th>\n",
              "      <th>S-ref</th>\n",
              "      <th>V-ref</th>\n",
              "      <th>H-Shad</th>\n",
              "      <th>S-Shad</th>\n",
              "      <th>V-Shad</th>\n",
              "      <th>Setting</th>\n",
              "      <th>Ref</th>\n",
              "      <th>Shad</th>\n",
              "      <th>Img</th>\n",
              "    </tr>\n",
              "  </thead>\n",
              "  <tbody>\n",
              "    <tr>\n",
              "      <th>0</th>\n",
              "      <td>230.051476</td>\n",
              "      <td>207.380148</td>\n",
              "      <td>147.098873</td>\n",
              "      <td>238.036605</td>\n",
              "      <td>220.879993</td>\n",
              "      <td>177.372069</td>\n",
              "      <td>21.817502</td>\n",
              "      <td>92.056041</td>\n",
              "      <td>230.051671</td>\n",
              "      <td>21.887870</td>\n",
              "      <td>64.992216</td>\n",
              "      <td>238.036605</td>\n",
              "      <td>Set2</td>\n",
              "      <td>A4</td>\n",
              "      <td>A1</td>\n",
              "      <td>E5CB5D38-826C-40B3-A02B-ADDE7D87BED2.png</td>\n",
              "    </tr>\n",
              "    <tr>\n",
              "      <th>1</th>\n",
              "      <td>227.640929</td>\n",
              "      <td>204.685800</td>\n",
              "      <td>145.241939</td>\n",
              "      <td>236.059401</td>\n",
              "      <td>219.155500</td>\n",
              "      <td>175.303772</td>\n",
              "      <td>21.618881</td>\n",
              "      <td>92.380828</td>\n",
              "      <td>227.640929</td>\n",
              "      <td>21.967936</td>\n",
              "      <td>65.625243</td>\n",
              "      <td>236.059401</td>\n",
              "      <td>Set2</td>\n",
              "      <td>A4</td>\n",
              "      <td>A1</td>\n",
              "      <td>9EBB65E8-F0D7-49DE-827B-2CE7EA7683A4.png</td>\n",
              "    </tr>\n",
              "    <tr>\n",
              "      <th>2</th>\n",
              "      <td>227.260198</td>\n",
              "      <td>205.114608</td>\n",
              "      <td>144.443570</td>\n",
              "      <td>236.278380</td>\n",
              "      <td>218.675378</td>\n",
              "      <td>174.917802</td>\n",
              "      <td>22.044483</td>\n",
              "      <td>93.000291</td>\n",
              "      <td>227.260198</td>\n",
              "      <td>21.702530</td>\n",
              "      <td>66.248355</td>\n",
              "      <td>236.278658</td>\n",
              "      <td>Set2</td>\n",
              "      <td>A4</td>\n",
              "      <td>A1</td>\n",
              "      <td>29B58A5F-59B3-4324-9F06-7C1267ED3E4F.png</td>\n",
              "    </tr>\n",
              "    <tr>\n",
              "      <th>3</th>\n",
              "      <td>227.652098</td>\n",
              "      <td>206.428419</td>\n",
              "      <td>145.085373</td>\n",
              "      <td>236.430822</td>\n",
              "      <td>219.815494</td>\n",
              "      <td>175.940321</td>\n",
              "      <td>22.556527</td>\n",
              "      <td>92.554099</td>\n",
              "      <td>227.652098</td>\n",
              "      <td>22.055231</td>\n",
              "      <td>65.213419</td>\n",
              "      <td>236.430822</td>\n",
              "      <td>Set2</td>\n",
              "      <td>A4</td>\n",
              "      <td>A1</td>\n",
              "      <td>7747C1F9-E3F2-4D88-974B-850F771E6B3B.png</td>\n",
              "    </tr>\n",
              "    <tr>\n",
              "      <th>4</th>\n",
              "      <td>229.170357</td>\n",
              "      <td>206.154526</td>\n",
              "      <td>145.839549</td>\n",
              "      <td>237.162914</td>\n",
              "      <td>220.166342</td>\n",
              "      <td>176.483366</td>\n",
              "      <td>21.633353</td>\n",
              "      <td>92.788267</td>\n",
              "      <td>229.170357</td>\n",
              "      <td>21.964137</td>\n",
              "      <td>65.242795</td>\n",
              "      <td>237.162914</td>\n",
              "      <td>Set2</td>\n",
              "      <td>A4</td>\n",
              "      <td>A1</td>\n",
              "      <td>31FD7994-9AAE-4CA3-8909-E63E70D1D59B.png</td>\n",
              "    </tr>\n",
              "  </tbody>\n",
              "</table>\n",
              "</div>\n",
              "      <button class=\"colab-df-convert\" onclick=\"convertToInteractive('df-38f19574-bac2-4dab-9ab5-760f09ae2391')\"\n",
              "              title=\"Convert this dataframe to an interactive table.\"\n",
              "              style=\"display:none;\">\n",
              "        \n",
              "  <svg xmlns=\"http://www.w3.org/2000/svg\" height=\"24px\"viewBox=\"0 0 24 24\"\n",
              "       width=\"24px\">\n",
              "    <path d=\"M0 0h24v24H0V0z\" fill=\"none\"/>\n",
              "    <path d=\"M18.56 5.44l.94 2.06.94-2.06 2.06-.94-2.06-.94-.94-2.06-.94 2.06-2.06.94zm-11 1L8.5 8.5l.94-2.06 2.06-.94-2.06-.94L8.5 2.5l-.94 2.06-2.06.94zm10 10l.94 2.06.94-2.06 2.06-.94-2.06-.94-.94-2.06-.94 2.06-2.06.94z\"/><path d=\"M17.41 7.96l-1.37-1.37c-.4-.4-.92-.59-1.43-.59-.52 0-1.04.2-1.43.59L10.3 9.45l-7.72 7.72c-.78.78-.78 2.05 0 2.83L4 21.41c.39.39.9.59 1.41.59.51 0 1.02-.2 1.41-.59l7.78-7.78 2.81-2.81c.8-.78.8-2.07 0-2.86zM5.41 20L4 18.59l7.72-7.72 1.47 1.35L5.41 20z\"/>\n",
              "  </svg>\n",
              "      </button>\n",
              "      \n",
              "  <style>\n",
              "    .colab-df-container {\n",
              "      display:flex;\n",
              "      flex-wrap:wrap;\n",
              "      gap: 12px;\n",
              "    }\n",
              "\n",
              "    .colab-df-convert {\n",
              "      background-color: #E8F0FE;\n",
              "      border: none;\n",
              "      border-radius: 50%;\n",
              "      cursor: pointer;\n",
              "      display: none;\n",
              "      fill: #1967D2;\n",
              "      height: 32px;\n",
              "      padding: 0 0 0 0;\n",
              "      width: 32px;\n",
              "    }\n",
              "\n",
              "    .colab-df-convert:hover {\n",
              "      background-color: #E2EBFA;\n",
              "      box-shadow: 0px 1px 2px rgba(60, 64, 67, 0.3), 0px 1px 3px 1px rgba(60, 64, 67, 0.15);\n",
              "      fill: #174EA6;\n",
              "    }\n",
              "\n",
              "    [theme=dark] .colab-df-convert {\n",
              "      background-color: #3B4455;\n",
              "      fill: #D2E3FC;\n",
              "    }\n",
              "\n",
              "    [theme=dark] .colab-df-convert:hover {\n",
              "      background-color: #434B5C;\n",
              "      box-shadow: 0px 1px 3px 1px rgba(0, 0, 0, 0.15);\n",
              "      filter: drop-shadow(0px 1px 2px rgba(0, 0, 0, 0.3));\n",
              "      fill: #FFFFFF;\n",
              "    }\n",
              "  </style>\n",
              "\n",
              "      <script>\n",
              "        const buttonEl =\n",
              "          document.querySelector('#df-38f19574-bac2-4dab-9ab5-760f09ae2391 button.colab-df-convert');\n",
              "        buttonEl.style.display =\n",
              "          google.colab.kernel.accessAllowed ? 'block' : 'none';\n",
              "\n",
              "        async function convertToInteractive(key) {\n",
              "          const element = document.querySelector('#df-38f19574-bac2-4dab-9ab5-760f09ae2391');\n",
              "          const dataTable =\n",
              "            await google.colab.kernel.invokeFunction('convertToInteractive',\n",
              "                                                     [key], {});\n",
              "          if (!dataTable) return;\n",
              "\n",
              "          const docLinkHtml = 'Like what you see? Visit the ' +\n",
              "            '<a target=\"_blank\" href=https://colab.research.google.com/notebooks/data_table.ipynb>data table notebook</a>'\n",
              "            + ' to learn more about interactive tables.';\n",
              "          element.innerHTML = '';\n",
              "          dataTable['output_type'] = 'display_data';\n",
              "          await google.colab.output.renderOutput(dataTable, element);\n",
              "          const docLink = document.createElement('div');\n",
              "          docLink.innerHTML = docLinkHtml;\n",
              "          element.appendChild(docLink);\n",
              "        }\n",
              "      </script>\n",
              "    </div>\n",
              "  </div>\n",
              "  "
            ],
            "text/plain": [
              "        R-ref       G-ref  ...  Shad                                       Img\n",
              "0  230.051476  207.380148  ...    A1  E5CB5D38-826C-40B3-A02B-ADDE7D87BED2.png\n",
              "1  227.640929  204.685800  ...    A1  9EBB65E8-F0D7-49DE-827B-2CE7EA7683A4.png\n",
              "2  227.260198  205.114608  ...    A1  29B58A5F-59B3-4324-9F06-7C1267ED3E4F.png\n",
              "3  227.652098  206.428419  ...    A1  7747C1F9-E3F2-4D88-974B-850F771E6B3B.png\n",
              "4  229.170357  206.154526  ...    A1  31FD7994-9AAE-4CA3-8909-E63E70D1D59B.png\n",
              "\n",
              "[5 rows x 16 columns]"
            ]
          },
          "metadata": {},
          "execution_count": 795
        }
      ]
    },
    {
      "cell_type": "code",
      "source": [
        "table_A4Set3 = pd.read_excel(Set3, sheet_name='A4Set3 ')\n",
        "table_A4Set3.head()"
      ],
      "metadata": {
        "colab": {
          "base_uri": "https://localhost:8080/",
          "height": 337
        },
        "outputId": "b0b4ac16-bd6c-4c8f-d484-c33af9403f8b",
        "id": "qf-GU9camT6z"
      },
      "execution_count": 796,
      "outputs": [
        {
          "output_type": "execute_result",
          "data": {
            "text/html": [
              "\n",
              "  <div id=\"df-4b22ec92-f86e-4c53-9455-e50e50f8daee\">\n",
              "    <div class=\"colab-df-container\">\n",
              "      <div>\n",
              "<style scoped>\n",
              "    .dataframe tbody tr th:only-of-type {\n",
              "        vertical-align: middle;\n",
              "    }\n",
              "\n",
              "    .dataframe tbody tr th {\n",
              "        vertical-align: top;\n",
              "    }\n",
              "\n",
              "    .dataframe thead th {\n",
              "        text-align: right;\n",
              "    }\n",
              "</style>\n",
              "<table border=\"1\" class=\"dataframe\">\n",
              "  <thead>\n",
              "    <tr style=\"text-align: right;\">\n",
              "      <th></th>\n",
              "      <th>R-ref</th>\n",
              "      <th>G-ref</th>\n",
              "      <th>B-ref</th>\n",
              "      <th>R-Shad</th>\n",
              "      <th>G-Shad</th>\n",
              "      <th>B-Shad</th>\n",
              "      <th>H-ref</th>\n",
              "      <th>S-ref</th>\n",
              "      <th>V-ref</th>\n",
              "      <th>H-Shad</th>\n",
              "      <th>S-Shad</th>\n",
              "      <th>V-Shad</th>\n",
              "      <th>Setting</th>\n",
              "      <th>Ref</th>\n",
              "      <th>Shad</th>\n",
              "      <th>Img</th>\n",
              "    </tr>\n",
              "  </thead>\n",
              "  <tbody>\n",
              "    <tr>\n",
              "      <th>0</th>\n",
              "      <td>226.000406</td>\n",
              "      <td>203.723886</td>\n",
              "      <td>143.303871</td>\n",
              "      <td>225.820923</td>\n",
              "      <td>203.576844</td>\n",
              "      <td>143.258516</td>\n",
              "      <td>22.008116</td>\n",
              "      <td>93.349160</td>\n",
              "      <td>226.000406</td>\n",
              "      <td>22.015291</td>\n",
              "      <td>93.267193</td>\n",
              "      <td>225.820923</td>\n",
              "      <td>Set3</td>\n",
              "      <td>A4</td>\n",
              "      <td>A1</td>\n",
              "      <td>F712701E-BE7E-4095-A77E-B995819EFFFD.png</td>\n",
              "    </tr>\n",
              "    <tr>\n",
              "      <th>1</th>\n",
              "      <td>226.466845</td>\n",
              "      <td>205.043665</td>\n",
              "      <td>143.904716</td>\n",
              "      <td>226.374511</td>\n",
              "      <td>204.893393</td>\n",
              "      <td>143.898158</td>\n",
              "      <td>22.463842</td>\n",
              "      <td>93.011769</td>\n",
              "      <td>226.466845</td>\n",
              "      <td>22.419102</td>\n",
              "      <td>92.950075</td>\n",
              "      <td>226.374511</td>\n",
              "      <td>Set3</td>\n",
              "      <td>A4</td>\n",
              "      <td>A1</td>\n",
              "      <td>CECCAFE3-FE35-40E3-A23C-E30AC0ED7305.png</td>\n",
              "    </tr>\n",
              "    <tr>\n",
              "      <th>2</th>\n",
              "      <td>228.276520</td>\n",
              "      <td>204.980440</td>\n",
              "      <td>144.768769</td>\n",
              "      <td>228.051632</td>\n",
              "      <td>204.716663</td>\n",
              "      <td>144.671574</td>\n",
              "      <td>21.541839</td>\n",
              "      <td>93.335849</td>\n",
              "      <td>228.276520</td>\n",
              "      <td>21.527985</td>\n",
              "      <td>93.286751</td>\n",
              "      <td>228.051632</td>\n",
              "      <td>Set3</td>\n",
              "      <td>A4</td>\n",
              "      <td>A1</td>\n",
              "      <td>030A48A3-45A8-46B5-BA6E-40DBF7924561.png</td>\n",
              "    </tr>\n",
              "    <tr>\n",
              "      <th>3</th>\n",
              "      <td>235.425991</td>\n",
              "      <td>219.263695</td>\n",
              "      <td>177.827214</td>\n",
              "      <td>232.931795</td>\n",
              "      <td>217.058567</td>\n",
              "      <td>174.902604</td>\n",
              "      <td>22.025484</td>\n",
              "      <td>63.614864</td>\n",
              "      <td>232.931795</td>\n",
              "      <td>22.025484</td>\n",
              "      <td>63.614864</td>\n",
              "      <td>232.931795</td>\n",
              "      <td>Set3</td>\n",
              "      <td>A4</td>\n",
              "      <td>A1</td>\n",
              "      <td>56F3B9ED-032B-4568-94F8-A20F8E7C590B.png</td>\n",
              "    </tr>\n",
              "    <tr>\n",
              "      <th>4</th>\n",
              "      <td>232.456488</td>\n",
              "      <td>215.038753</td>\n",
              "      <td>170.408508</td>\n",
              "      <td>230.343712</td>\n",
              "      <td>213.313502</td>\n",
              "      <td>169.960430</td>\n",
              "      <td>21.939765</td>\n",
              "      <td>66.862015</td>\n",
              "      <td>230.343712</td>\n",
              "      <td>21.939765</td>\n",
              "      <td>66.862015</td>\n",
              "      <td>230.343712</td>\n",
              "      <td>Set3</td>\n",
              "      <td>A4</td>\n",
              "      <td>A1</td>\n",
              "      <td>B39AAD6D-AA02-4E9A-9387-6545DE9848CE.png</td>\n",
              "    </tr>\n",
              "  </tbody>\n",
              "</table>\n",
              "</div>\n",
              "      <button class=\"colab-df-convert\" onclick=\"convertToInteractive('df-4b22ec92-f86e-4c53-9455-e50e50f8daee')\"\n",
              "              title=\"Convert this dataframe to an interactive table.\"\n",
              "              style=\"display:none;\">\n",
              "        \n",
              "  <svg xmlns=\"http://www.w3.org/2000/svg\" height=\"24px\"viewBox=\"0 0 24 24\"\n",
              "       width=\"24px\">\n",
              "    <path d=\"M0 0h24v24H0V0z\" fill=\"none\"/>\n",
              "    <path d=\"M18.56 5.44l.94 2.06.94-2.06 2.06-.94-2.06-.94-.94-2.06-.94 2.06-2.06.94zm-11 1L8.5 8.5l.94-2.06 2.06-.94-2.06-.94L8.5 2.5l-.94 2.06-2.06.94zm10 10l.94 2.06.94-2.06 2.06-.94-2.06-.94-.94-2.06-.94 2.06-2.06.94z\"/><path d=\"M17.41 7.96l-1.37-1.37c-.4-.4-.92-.59-1.43-.59-.52 0-1.04.2-1.43.59L10.3 9.45l-7.72 7.72c-.78.78-.78 2.05 0 2.83L4 21.41c.39.39.9.59 1.41.59.51 0 1.02-.2 1.41-.59l7.78-7.78 2.81-2.81c.8-.78.8-2.07 0-2.86zM5.41 20L4 18.59l7.72-7.72 1.47 1.35L5.41 20z\"/>\n",
              "  </svg>\n",
              "      </button>\n",
              "      \n",
              "  <style>\n",
              "    .colab-df-container {\n",
              "      display:flex;\n",
              "      flex-wrap:wrap;\n",
              "      gap: 12px;\n",
              "    }\n",
              "\n",
              "    .colab-df-convert {\n",
              "      background-color: #E8F0FE;\n",
              "      border: none;\n",
              "      border-radius: 50%;\n",
              "      cursor: pointer;\n",
              "      display: none;\n",
              "      fill: #1967D2;\n",
              "      height: 32px;\n",
              "      padding: 0 0 0 0;\n",
              "      width: 32px;\n",
              "    }\n",
              "\n",
              "    .colab-df-convert:hover {\n",
              "      background-color: #E2EBFA;\n",
              "      box-shadow: 0px 1px 2px rgba(60, 64, 67, 0.3), 0px 1px 3px 1px rgba(60, 64, 67, 0.15);\n",
              "      fill: #174EA6;\n",
              "    }\n",
              "\n",
              "    [theme=dark] .colab-df-convert {\n",
              "      background-color: #3B4455;\n",
              "      fill: #D2E3FC;\n",
              "    }\n",
              "\n",
              "    [theme=dark] .colab-df-convert:hover {\n",
              "      background-color: #434B5C;\n",
              "      box-shadow: 0px 1px 3px 1px rgba(0, 0, 0, 0.15);\n",
              "      filter: drop-shadow(0px 1px 2px rgba(0, 0, 0, 0.3));\n",
              "      fill: #FFFFFF;\n",
              "    }\n",
              "  </style>\n",
              "\n",
              "      <script>\n",
              "        const buttonEl =\n",
              "          document.querySelector('#df-4b22ec92-f86e-4c53-9455-e50e50f8daee button.colab-df-convert');\n",
              "        buttonEl.style.display =\n",
              "          google.colab.kernel.accessAllowed ? 'block' : 'none';\n",
              "\n",
              "        async function convertToInteractive(key) {\n",
              "          const element = document.querySelector('#df-4b22ec92-f86e-4c53-9455-e50e50f8daee');\n",
              "          const dataTable =\n",
              "            await google.colab.kernel.invokeFunction('convertToInteractive',\n",
              "                                                     [key], {});\n",
              "          if (!dataTable) return;\n",
              "\n",
              "          const docLinkHtml = 'Like what you see? Visit the ' +\n",
              "            '<a target=\"_blank\" href=https://colab.research.google.com/notebooks/data_table.ipynb>data table notebook</a>'\n",
              "            + ' to learn more about interactive tables.';\n",
              "          element.innerHTML = '';\n",
              "          dataTable['output_type'] = 'display_data';\n",
              "          await google.colab.output.renderOutput(dataTable, element);\n",
              "          const docLink = document.createElement('div');\n",
              "          docLink.innerHTML = docLinkHtml;\n",
              "          element.appendChild(docLink);\n",
              "        }\n",
              "      </script>\n",
              "    </div>\n",
              "  </div>\n",
              "  "
            ],
            "text/plain": [
              "        R-ref       G-ref  ...  Shad                                       Img\n",
              "0  226.000406  203.723886  ...    A1  F712701E-BE7E-4095-A77E-B995819EFFFD.png\n",
              "1  226.466845  205.043665  ...    A1  CECCAFE3-FE35-40E3-A23C-E30AC0ED7305.png\n",
              "2  228.276520  204.980440  ...    A1  030A48A3-45A8-46B5-BA6E-40DBF7924561.png\n",
              "3  235.425991  219.263695  ...    A1  56F3B9ED-032B-4568-94F8-A20F8E7C590B.png\n",
              "4  232.456488  215.038753  ...    A1  B39AAD6D-AA02-4E9A-9387-6545DE9848CE.png\n",
              "\n",
              "[5 rows x 16 columns]"
            ]
          },
          "metadata": {},
          "execution_count": 796
        }
      ]
    },
    {
      "cell_type": "code",
      "source": [
        "table_A4Set4 = pd.read_excel(Set4, sheet_name='A4Set4')\n",
        "table_A4Set4.head()"
      ],
      "metadata": {
        "colab": {
          "base_uri": "https://localhost:8080/",
          "height": 337
        },
        "outputId": "0df75170-48d1-4e7e-a818-394bc2e81379",
        "id": "rVnu0c2qmT6z"
      },
      "execution_count": 797,
      "outputs": [
        {
          "output_type": "execute_result",
          "data": {
            "text/html": [
              "\n",
              "  <div id=\"df-f7bc3402-7fef-47eb-8d03-98a5f5d771bb\">\n",
              "    <div class=\"colab-df-container\">\n",
              "      <div>\n",
              "<style scoped>\n",
              "    .dataframe tbody tr th:only-of-type {\n",
              "        vertical-align: middle;\n",
              "    }\n",
              "\n",
              "    .dataframe tbody tr th {\n",
              "        vertical-align: top;\n",
              "    }\n",
              "\n",
              "    .dataframe thead th {\n",
              "        text-align: right;\n",
              "    }\n",
              "</style>\n",
              "<table border=\"1\" class=\"dataframe\">\n",
              "  <thead>\n",
              "    <tr style=\"text-align: right;\">\n",
              "      <th></th>\n",
              "      <th>R-ref</th>\n",
              "      <th>G-ref</th>\n",
              "      <th>B-ref</th>\n",
              "      <th>R-Shad</th>\n",
              "      <th>G-Shad</th>\n",
              "      <th>B-Shad</th>\n",
              "      <th>H-ref</th>\n",
              "      <th>S-ref</th>\n",
              "      <th>V-ref</th>\n",
              "      <th>H-Shad</th>\n",
              "      <th>S-Shad</th>\n",
              "      <th>V-Shad</th>\n",
              "      <th>Set4</th>\n",
              "      <th>Ref</th>\n",
              "      <th>Shad</th>\n",
              "      <th>Img</th>\n",
              "    </tr>\n",
              "  </thead>\n",
              "  <tbody>\n",
              "    <tr>\n",
              "      <th>0</th>\n",
              "      <td>226.825466</td>\n",
              "      <td>208.749223</td>\n",
              "      <td>161.988054</td>\n",
              "      <td>232.323325</td>\n",
              "      <td>213.395051</td>\n",
              "      <td>170.344083</td>\n",
              "      <td>21.923757</td>\n",
              "      <td>72.929584</td>\n",
              "      <td>226.825466</td>\n",
              "      <td>21.051617</td>\n",
              "      <td>68.033361</td>\n",
              "      <td>232.323325</td>\n",
              "      <td>Set4</td>\n",
              "      <td>A4</td>\n",
              "      <td>A1</td>\n",
              "      <td>E3173A1F-D34A-4D28-928B-E1C32CF79872.png</td>\n",
              "    </tr>\n",
              "    <tr>\n",
              "      <th>1</th>\n",
              "      <td>229.180847</td>\n",
              "      <td>211.616647</td>\n",
              "      <td>166.279817</td>\n",
              "      <td>233.790474</td>\n",
              "      <td>216.370123</td>\n",
              "      <td>173.496525</td>\n",
              "      <td>21.985237</td>\n",
              "      <td>70.087801</td>\n",
              "      <td>229.180847</td>\n",
              "      <td>21.733018</td>\n",
              "      <td>65.776758</td>\n",
              "      <td>233.790659</td>\n",
              "      <td>Set4</td>\n",
              "      <td>A4</td>\n",
              "      <td>A1</td>\n",
              "      <td>013F1BC6-5EF5-4A49-8F01-69FB54E775C3.png</td>\n",
              "    </tr>\n",
              "    <tr>\n",
              "      <th>2</th>\n",
              "      <td>230.488636</td>\n",
              "      <td>212.745241</td>\n",
              "      <td>166.180458</td>\n",
              "      <td>234.697711</td>\n",
              "      <td>217.193958</td>\n",
              "      <td>172.815124</td>\n",
              "      <td>21.994172</td>\n",
              "      <td>71.185606</td>\n",
              "      <td>230.488636</td>\n",
              "      <td>21.823093</td>\n",
              "      <td>67.233713</td>\n",
              "      <td>234.697711</td>\n",
              "      <td>Set4</td>\n",
              "      <td>A4</td>\n",
              "      <td>A1</td>\n",
              "      <td>0F4BD91E-9F4C-408D-BD77-1A2D48FD0758.png</td>\n",
              "    </tr>\n",
              "    <tr>\n",
              "      <th>3</th>\n",
              "      <td>224.159091</td>\n",
              "      <td>206.104895</td>\n",
              "      <td>159.543318</td>\n",
              "      <td>230.902141</td>\n",
              "      <td>211.956445</td>\n",
              "      <td>168.941062</td>\n",
              "      <td>21.945804</td>\n",
              "      <td>73.547300</td>\n",
              "      <td>224.159091</td>\n",
              "      <td>21.033639</td>\n",
              "      <td>68.442128</td>\n",
              "      <td>230.902141</td>\n",
              "      <td>Set4</td>\n",
              "      <td>A4</td>\n",
              "      <td>A1</td>\n",
              "      <td>C3FDAEEA-FA70-4C39-AF06-F3A68D515336.png</td>\n",
              "    </tr>\n",
              "    <tr>\n",
              "      <th>4</th>\n",
              "      <td>225.504759</td>\n",
              "      <td>207.478341</td>\n",
              "      <td>161.543609</td>\n",
              "      <td>230.740803</td>\n",
              "      <td>212.300714</td>\n",
              "      <td>169.826985</td>\n",
              "      <td>21.973582</td>\n",
              "      <td>72.460179</td>\n",
              "      <td>225.504759</td>\n",
              "      <td>21.272079</td>\n",
              "      <td>67.326568</td>\n",
              "      <td>230.740803</td>\n",
              "      <td>Set4</td>\n",
              "      <td>A4</td>\n",
              "      <td>A1</td>\n",
              "      <td>9C8F8D57-3A59-4F0F-8F7E-9F81D3456B62.png</td>\n",
              "    </tr>\n",
              "  </tbody>\n",
              "</table>\n",
              "</div>\n",
              "      <button class=\"colab-df-convert\" onclick=\"convertToInteractive('df-f7bc3402-7fef-47eb-8d03-98a5f5d771bb')\"\n",
              "              title=\"Convert this dataframe to an interactive table.\"\n",
              "              style=\"display:none;\">\n",
              "        \n",
              "  <svg xmlns=\"http://www.w3.org/2000/svg\" height=\"24px\"viewBox=\"0 0 24 24\"\n",
              "       width=\"24px\">\n",
              "    <path d=\"M0 0h24v24H0V0z\" fill=\"none\"/>\n",
              "    <path d=\"M18.56 5.44l.94 2.06.94-2.06 2.06-.94-2.06-.94-.94-2.06-.94 2.06-2.06.94zm-11 1L8.5 8.5l.94-2.06 2.06-.94-2.06-.94L8.5 2.5l-.94 2.06-2.06.94zm10 10l.94 2.06.94-2.06 2.06-.94-2.06-.94-.94-2.06-.94 2.06-2.06.94z\"/><path d=\"M17.41 7.96l-1.37-1.37c-.4-.4-.92-.59-1.43-.59-.52 0-1.04.2-1.43.59L10.3 9.45l-7.72 7.72c-.78.78-.78 2.05 0 2.83L4 21.41c.39.39.9.59 1.41.59.51 0 1.02-.2 1.41-.59l7.78-7.78 2.81-2.81c.8-.78.8-2.07 0-2.86zM5.41 20L4 18.59l7.72-7.72 1.47 1.35L5.41 20z\"/>\n",
              "  </svg>\n",
              "      </button>\n",
              "      \n",
              "  <style>\n",
              "    .colab-df-container {\n",
              "      display:flex;\n",
              "      flex-wrap:wrap;\n",
              "      gap: 12px;\n",
              "    }\n",
              "\n",
              "    .colab-df-convert {\n",
              "      background-color: #E8F0FE;\n",
              "      border: none;\n",
              "      border-radius: 50%;\n",
              "      cursor: pointer;\n",
              "      display: none;\n",
              "      fill: #1967D2;\n",
              "      height: 32px;\n",
              "      padding: 0 0 0 0;\n",
              "      width: 32px;\n",
              "    }\n",
              "\n",
              "    .colab-df-convert:hover {\n",
              "      background-color: #E2EBFA;\n",
              "      box-shadow: 0px 1px 2px rgba(60, 64, 67, 0.3), 0px 1px 3px 1px rgba(60, 64, 67, 0.15);\n",
              "      fill: #174EA6;\n",
              "    }\n",
              "\n",
              "    [theme=dark] .colab-df-convert {\n",
              "      background-color: #3B4455;\n",
              "      fill: #D2E3FC;\n",
              "    }\n",
              "\n",
              "    [theme=dark] .colab-df-convert:hover {\n",
              "      background-color: #434B5C;\n",
              "      box-shadow: 0px 1px 3px 1px rgba(0, 0, 0, 0.15);\n",
              "      filter: drop-shadow(0px 1px 2px rgba(0, 0, 0, 0.3));\n",
              "      fill: #FFFFFF;\n",
              "    }\n",
              "  </style>\n",
              "\n",
              "      <script>\n",
              "        const buttonEl =\n",
              "          document.querySelector('#df-f7bc3402-7fef-47eb-8d03-98a5f5d771bb button.colab-df-convert');\n",
              "        buttonEl.style.display =\n",
              "          google.colab.kernel.accessAllowed ? 'block' : 'none';\n",
              "\n",
              "        async function convertToInteractive(key) {\n",
              "          const element = document.querySelector('#df-f7bc3402-7fef-47eb-8d03-98a5f5d771bb');\n",
              "          const dataTable =\n",
              "            await google.colab.kernel.invokeFunction('convertToInteractive',\n",
              "                                                     [key], {});\n",
              "          if (!dataTable) return;\n",
              "\n",
              "          const docLinkHtml = 'Like what you see? Visit the ' +\n",
              "            '<a target=\"_blank\" href=https://colab.research.google.com/notebooks/data_table.ipynb>data table notebook</a>'\n",
              "            + ' to learn more about interactive tables.';\n",
              "          element.innerHTML = '';\n",
              "          dataTable['output_type'] = 'display_data';\n",
              "          await google.colab.output.renderOutput(dataTable, element);\n",
              "          const docLink = document.createElement('div');\n",
              "          docLink.innerHTML = docLinkHtml;\n",
              "          element.appendChild(docLink);\n",
              "        }\n",
              "      </script>\n",
              "    </div>\n",
              "  </div>\n",
              "  "
            ],
            "text/plain": [
              "        R-ref       G-ref  ...  Shad                                       Img\n",
              "0  226.825466  208.749223  ...    A1  E3173A1F-D34A-4D28-928B-E1C32CF79872.png\n",
              "1  229.180847  211.616647  ...    A1  013F1BC6-5EF5-4A49-8F01-69FB54E775C3.png\n",
              "2  230.488636  212.745241  ...    A1  0F4BD91E-9F4C-408D-BD77-1A2D48FD0758.png\n",
              "3  224.159091  206.104895  ...    A1  C3FDAEEA-FA70-4C39-AF06-F3A68D515336.png\n",
              "4  225.504759  207.478341  ...    A1  9C8F8D57-3A59-4F0F-8F7E-9F81D3456B62.png\n",
              "\n",
              "[5 rows x 16 columns]"
            ]
          },
          "metadata": {},
          "execution_count": 797
        }
      ]
    },
    {
      "cell_type": "markdown",
      "source": [
        "###RGB"
      ],
      "metadata": {
        "id": "xkr8_V_nmT6z"
      }
    },
    {
      "cell_type": "code",
      "source": [
        "print(RGB_A4_concat1.columns)"
      ],
      "metadata": {
        "colab": {
          "base_uri": "https://localhost:8080/"
        },
        "id": "1Sr3Ieyqnq97",
        "outputId": "ce5cbf1a-fa29-46c2-beeb-8334de7536db"
      },
      "execution_count": 798,
      "outputs": [
        {
          "output_type": "stream",
          "name": "stdout",
          "text": [
            "Index(['R-ref', 'G-ref', 'B-ref', 'R-Shad', 'G-Shad', 'B-Shad', 'H-ref',\n",
            "       'S-ref', 'V-ref', 'H-Shad', 'S-Shad', 'V-Shad', 'Setting', 'Ref',\n",
            "       'Shad', 'Img', 'Set4'],\n",
            "      dtype='object')\n"
          ]
        }
      ]
    },
    {
      "cell_type": "code",
      "source": [
        "RGB_A4_Set1 = table_A4Set1.drop(['H-ref','S-ref','V-ref','H-Shad','S-Shad','V-Shad','Setting','Ref','Shad','Img'], axis=1)"
      ],
      "metadata": {
        "id": "72idAyO1mT6z"
      },
      "execution_count": 799,
      "outputs": []
    },
    {
      "cell_type": "code",
      "source": [
        "RGB_A4_Set2 = table_A4Set2"
      ],
      "metadata": {
        "id": "Gl4tUns2mT6z"
      },
      "execution_count": 800,
      "outputs": []
    },
    {
      "cell_type": "code",
      "source": [
        "RGB_A4_Set3 = table_A4Set3"
      ],
      "metadata": {
        "id": "qP4jsJZMmT6z"
      },
      "execution_count": 801,
      "outputs": []
    },
    {
      "cell_type": "code",
      "source": [
        "RGB_A4_Set4 = table_A4Set4"
      ],
      "metadata": {
        "id": "yZeEMAppmT6z"
      },
      "execution_count": 802,
      "outputs": []
    },
    {
      "cell_type": "code",
      "source": [
        "RGB_A4_concat0 = pd.concat([RGB_A4_Set2,RGB_A4_Set3])"
      ],
      "metadata": {
        "id": "b2xqjcjgmT6z"
      },
      "execution_count": 803,
      "outputs": []
    },
    {
      "cell_type": "code",
      "source": [
        "RGB_A4_concat1 = pd.concat([RGB_A4_concat0,RGB_A4_Set4])"
      ],
      "metadata": {
        "id": "w0kOUiqUmT60"
      },
      "execution_count": 804,
      "outputs": []
    },
    {
      "cell_type": "code",
      "source": [
        "RGB_A4_concat2 = RGB_A4_concat1.drop(['H-ref','S-ref','V-ref','H-Shad','S-Shad','V-Shad','Setting','Ref','Shad','Img','Set4'], axis=1)"
      ],
      "metadata": {
        "id": "27nGfKormT60"
      },
      "execution_count": 805,
      "outputs": []
    },
    {
      "cell_type": "code",
      "source": [
        "X_test_A4_RGB = np.array(RGB_A4_Set1)"
      ],
      "metadata": {
        "id": "Qc4YS3uHmT60"
      },
      "execution_count": 806,
      "outputs": []
    },
    {
      "cell_type": "code",
      "source": [
        "y_A4_RGB =  table_A4Set1.iloc[:,14:15]"
      ],
      "metadata": {
        "id": "tqo97GyZmT60"
      },
      "execution_count": 807,
      "outputs": []
    },
    {
      "cell_type": "code",
      "source": [
        "y_test_A4_RGB = np.array(y_A4_RGB)"
      ],
      "metadata": {
        "id": "gOFEqZsnmT60"
      },
      "execution_count": 808,
      "outputs": []
    },
    {
      "cell_type": "code",
      "source": [
        "X_train_A4_RGB = np.array(RGB_A4_concat2)"
      ],
      "metadata": {
        "id": "evdsCaIqmT60"
      },
      "execution_count": 809,
      "outputs": []
    },
    {
      "cell_type": "code",
      "source": [
        "y_train_A4_RGB = RGB_A4_concat1.iloc[:,14:15]"
      ],
      "metadata": {
        "id": "UDKVjmV3mT60"
      },
      "execution_count": 810,
      "outputs": []
    },
    {
      "cell_type": "code",
      "source": [
        "y_train_A4_RGB = np.array(y_train_A4_RGB)"
      ],
      "metadata": {
        "id": "HWKuVJsEmT60"
      },
      "execution_count": 811,
      "outputs": []
    },
    {
      "cell_type": "code",
      "source": [
        "X_train_A4_RGB.shape"
      ],
      "metadata": {
        "colab": {
          "base_uri": "https://localhost:8080/"
        },
        "outputId": "886f0a7e-ef79-4701-a106-4ab9e848f98a",
        "id": "UzlKfSeZmT60"
      },
      "execution_count": 812,
      "outputs": [
        {
          "output_type": "execute_result",
          "data": {
            "text/plain": [
              "(2400, 6)"
            ]
          },
          "metadata": {},
          "execution_count": 812
        }
      ]
    },
    {
      "cell_type": "code",
      "source": [
        "y_train_A4_RGB.shape"
      ],
      "metadata": {
        "colab": {
          "base_uri": "https://localhost:8080/"
        },
        "outputId": "9ee996af-f090-4a68-e490-3785e184bf11",
        "id": "m5fdq5oimT61"
      },
      "execution_count": 813,
      "outputs": [
        {
          "output_type": "execute_result",
          "data": {
            "text/plain": [
              "(2400, 1)"
            ]
          },
          "metadata": {},
          "execution_count": 813
        }
      ]
    },
    {
      "cell_type": "code",
      "source": [
        "clf.fit(X_train_A4_RGB, y_train_A4_RGB)"
      ],
      "metadata": {
        "colab": {
          "base_uri": "https://localhost:8080/"
        },
        "outputId": "ccab439c-b18b-4392-d948-5d6fd7378766",
        "id": "mKLrfno7mT61"
      },
      "execution_count": 814,
      "outputs": [
        {
          "output_type": "stream",
          "name": "stderr",
          "text": [
            "/usr/local/lib/python3.7/dist-packages/ipykernel_launcher.py:1: DataConversionWarning: A column-vector y was passed when a 1d array was expected. Please change the shape of y to (n_samples,), for example using ravel().\n",
            "  \"\"\"Entry point for launching an IPython kernel.\n"
          ]
        },
        {
          "output_type": "execute_result",
          "data": {
            "text/plain": [
              "RandomForestClassifier()"
            ]
          },
          "metadata": {},
          "execution_count": 814
        }
      ]
    },
    {
      "cell_type": "code",
      "source": [
        "y_pred_A4_RGB = clf.predict(X_test_A4_RGB)"
      ],
      "metadata": {
        "id": "Vq3eKt90mT61"
      },
      "execution_count": 815,
      "outputs": []
    },
    {
      "cell_type": "code",
      "source": [
        "print(\"Accuracy:\", metrics.accuracy_score(y_test_A4_RGB, y_pred_A4_RGB))"
      ],
      "metadata": {
        "colab": {
          "base_uri": "https://localhost:8080/"
        },
        "outputId": "2e49255d-b69f-40e6-e0f3-949745e58ff6",
        "id": "7v0zBiIVmT61"
      },
      "execution_count": 816,
      "outputs": [
        {
          "output_type": "stream",
          "name": "stdout",
          "text": [
            "Accuracy: 0.71375\n"
          ]
        }
      ]
    },
    {
      "cell_type": "markdown",
      "source": [
        "###HSV"
      ],
      "metadata": {
        "id": "SFfZqFEqmT61"
      }
    },
    {
      "cell_type": "code",
      "source": [
        "HSV_A4_Set1 = table_A4Set1.drop(['R-ref','G-ref','B-ref','R-Shad','G-Shad','B-Shad','Setting','Ref','Shad','Img'], axis=1)"
      ],
      "metadata": {
        "id": "sicvN6smmT61"
      },
      "execution_count": 1229,
      "outputs": []
    },
    {
      "cell_type": "code",
      "source": [
        "HSV_A4_concat2 = RGB_A4_concat1.drop(['R-ref','G-ref','B-ref','R-Shad','G-Shad','B-Shad','Setting','Ref','Shad','Img','Set4'], axis=1)"
      ],
      "metadata": {
        "id": "iQDhby-dmT61"
      },
      "execution_count": 1230,
      "outputs": []
    },
    {
      "cell_type": "code",
      "source": [
        "X_test_A4_HSV = np.array(HSV_A4_Set1)"
      ],
      "metadata": {
        "id": "gGPuTgHamT62"
      },
      "execution_count": 1231,
      "outputs": []
    },
    {
      "cell_type": "code",
      "source": [
        "y_A4_HSV =  table_A4Set1.iloc[:,14:15]"
      ],
      "metadata": {
        "id": "B9OqUKypmT62"
      },
      "execution_count": 1232,
      "outputs": []
    },
    {
      "cell_type": "code",
      "source": [
        "y_test_A4_HSV = np.array(y_A4_RGB)"
      ],
      "metadata": {
        "id": "z5Jh7WrlmT62"
      },
      "execution_count": 1233,
      "outputs": []
    },
    {
      "cell_type": "code",
      "source": [
        "X_train_A4_HSV = np.array(HSV_A4_concat2)"
      ],
      "metadata": {
        "id": "ZxnVmXUKmT62"
      },
      "execution_count": 1234,
      "outputs": []
    },
    {
      "cell_type": "code",
      "source": [
        "y_train_A4HSV = RGB_A4_concat1.iloc[:,14:15]"
      ],
      "metadata": {
        "id": "V6lZEw3jmT62"
      },
      "execution_count": 1235,
      "outputs": []
    },
    {
      "cell_type": "code",
      "source": [
        "y_train_A4_HSV = np.array(y_train_A4HSV)"
      ],
      "metadata": {
        "id": "xSFHaFsFmT62"
      },
      "execution_count": 1236,
      "outputs": []
    },
    {
      "cell_type": "code",
      "source": [
        "clf.fit(X_train_A4_HSV, y_train_A4_HSV)"
      ],
      "metadata": {
        "colab": {
          "base_uri": "https://localhost:8080/"
        },
        "outputId": "fb8f778c-0bc6-4c00-be19-735fac585f63",
        "id": "hW7GM7GRmT62"
      },
      "execution_count": 1237,
      "outputs": [
        {
          "output_type": "stream",
          "name": "stderr",
          "text": [
            "/usr/local/lib/python3.7/dist-packages/ipykernel_launcher.py:1: DataConversionWarning: A column-vector y was passed when a 1d array was expected. Please change the shape of y to (n_samples,), for example using ravel().\n",
            "  \"\"\"Entry point for launching an IPython kernel.\n"
          ]
        },
        {
          "output_type": "execute_result",
          "data": {
            "text/plain": [
              "RandomForestClassifier()"
            ]
          },
          "metadata": {},
          "execution_count": 1237
        }
      ]
    },
    {
      "cell_type": "code",
      "source": [
        "y_pred_A4_HSV = clf.predict(X_test_A4_HSV)"
      ],
      "metadata": {
        "id": "HlQR18cxmT62"
      },
      "execution_count": 1238,
      "outputs": []
    },
    {
      "cell_type": "code",
      "source": [
        "print(\"Accuracy:\", metrics.accuracy_score(y_test_A4_HSV, y_pred_A4_HSV))"
      ],
      "metadata": {
        "colab": {
          "base_uri": "https://localhost:8080/"
        },
        "outputId": "1bdbecca-002d-4c9c-fc14-59af3fd80d19",
        "id": "_ABaescjmT62"
      },
      "execution_count": 1239,
      "outputs": [
        {
          "output_type": "stream",
          "name": "stdout",
          "text": [
            "Accuracy: 0.68875\n"
          ]
        }
      ]
    },
    {
      "cell_type": "markdown",
      "source": [
        "#BB"
      ],
      "metadata": {
        "id": "_QZmNKGToJfj"
      }
    },
    {
      "cell_type": "markdown",
      "source": [
        "##B1"
      ],
      "metadata": {
        "id": "se58n_Qroh-i"
      }
    },
    {
      "cell_type": "code",
      "source": [
        "table_B1Set1 = pd.read_excel(Set1 , sheet_name='B1Set1 ')\n",
        "table_B1Set1.head()"
      ],
      "metadata": {
        "colab": {
          "base_uri": "https://localhost:8080/",
          "height": 0
        },
        "outputId": "ebe9fb22-12b8-4134-8cb8-8c4d5b0c7808",
        "id": "ySX9ISTZoh-o"
      },
      "execution_count": 828,
      "outputs": [
        {
          "output_type": "execute_result",
          "data": {
            "text/html": [
              "\n",
              "  <div id=\"df-367869aa-29b2-460e-9c68-b904be5a0a2e\">\n",
              "    <div class=\"colab-df-container\">\n",
              "      <div>\n",
              "<style scoped>\n",
              "    .dataframe tbody tr th:only-of-type {\n",
              "        vertical-align: middle;\n",
              "    }\n",
              "\n",
              "    .dataframe tbody tr th {\n",
              "        vertical-align: top;\n",
              "    }\n",
              "\n",
              "    .dataframe thead th {\n",
              "        text-align: right;\n",
              "    }\n",
              "</style>\n",
              "<table border=\"1\" class=\"dataframe\">\n",
              "  <thead>\n",
              "    <tr style=\"text-align: right;\">\n",
              "      <th></th>\n",
              "      <th>R-ref</th>\n",
              "      <th>G-ref</th>\n",
              "      <th>B-ref</th>\n",
              "      <th>R-Shad</th>\n",
              "      <th>G-Shad</th>\n",
              "      <th>B-Shad</th>\n",
              "      <th>H-ref</th>\n",
              "      <th>S-ref</th>\n",
              "      <th>V-ref</th>\n",
              "      <th>H-Shad</th>\n",
              "      <th>S-Shad</th>\n",
              "      <th>V-Shad</th>\n",
              "      <th>Setting</th>\n",
              "      <th>Ref</th>\n",
              "      <th>Shad</th>\n",
              "      <th>Img</th>\n",
              "    </tr>\n",
              "  </thead>\n",
              "  <tbody>\n",
              "    <tr>\n",
              "      <th>0</th>\n",
              "      <td>239.313326</td>\n",
              "      <td>216.689200</td>\n",
              "      <td>159.936189</td>\n",
              "      <td>238.952924</td>\n",
              "      <td>224.485497</td>\n",
              "      <td>187.712816</td>\n",
              "      <td>21.514180</td>\n",
              "      <td>84.670746</td>\n",
              "      <td>239.313326</td>\n",
              "      <td>21.714206</td>\n",
              "      <td>53.877212</td>\n",
              "      <td>240.478176</td>\n",
              "      <td>Set1</td>\n",
              "      <td>B1</td>\n",
              "      <td>A1</td>\n",
              "      <td>1CE4FFAC-5C8A-4C04-8A57-7BB28F25302D.png</td>\n",
              "    </tr>\n",
              "    <tr>\n",
              "      <th>1</th>\n",
              "      <td>236.874709</td>\n",
              "      <td>224.246018</td>\n",
              "      <td>189.226204</td>\n",
              "      <td>230.156056</td>\n",
              "      <td>219.555185</td>\n",
              "      <td>186.043740</td>\n",
              "      <td>22.082653</td>\n",
              "      <td>51.388403</td>\n",
              "      <td>236.874709</td>\n",
              "      <td>22.706700</td>\n",
              "      <td>48.897415</td>\n",
              "      <td>230.156056</td>\n",
              "      <td>Set1</td>\n",
              "      <td>B1</td>\n",
              "      <td>A1</td>\n",
              "      <td>67F8EDAB-A9C7-4B91-B07B-BFADEE915B61.png</td>\n",
              "    </tr>\n",
              "    <tr>\n",
              "      <th>2</th>\n",
              "      <td>233.620047</td>\n",
              "      <td>221.292735</td>\n",
              "      <td>185.655789</td>\n",
              "      <td>226.263831</td>\n",
              "      <td>214.966732</td>\n",
              "      <td>180.068854</td>\n",
              "      <td>22.295552</td>\n",
              "      <td>52.415695</td>\n",
              "      <td>233.620047</td>\n",
              "      <td>22.698360</td>\n",
              "      <td>52.072004</td>\n",
              "      <td>226.263831</td>\n",
              "      <td>Set1</td>\n",
              "      <td>B1</td>\n",
              "      <td>A1</td>\n",
              "      <td>935ACCF9-A4D6-4CB3-A437-6333758D46CD.png</td>\n",
              "    </tr>\n",
              "    <tr>\n",
              "      <th>3</th>\n",
              "      <td>237.811480</td>\n",
              "      <td>225.270882</td>\n",
              "      <td>190.323718</td>\n",
              "      <td>231.649152</td>\n",
              "      <td>220.802891</td>\n",
              "      <td>187.113799</td>\n",
              "      <td>22.090909</td>\n",
              "      <td>51.023116</td>\n",
              "      <td>237.811480</td>\n",
              "      <td>22.639236</td>\n",
              "      <td>49.034844</td>\n",
              "      <td>231.649152</td>\n",
              "      <td>Set1</td>\n",
              "      <td>B1</td>\n",
              "      <td>A1</td>\n",
              "      <td>C7A49040-51EF-4045-9394-5E8F4A17B8A2.png</td>\n",
              "    </tr>\n",
              "    <tr>\n",
              "      <th>4</th>\n",
              "      <td>236.552836</td>\n",
              "      <td>224.011752</td>\n",
              "      <td>188.282051</td>\n",
              "      <td>231.108331</td>\n",
              "      <td>219.994996</td>\n",
              "      <td>185.944213</td>\n",
              "      <td>22.189103</td>\n",
              "      <td>52.109751</td>\n",
              "      <td>236.552836</td>\n",
              "      <td>22.645538</td>\n",
              "      <td>49.851543</td>\n",
              "      <td>231.108331</td>\n",
              "      <td>Set1</td>\n",
              "      <td>B1</td>\n",
              "      <td>A1</td>\n",
              "      <td>EFCB2FF8-FACF-4778-946B-4DFEC0F8EB5D.png</td>\n",
              "    </tr>\n",
              "  </tbody>\n",
              "</table>\n",
              "</div>\n",
              "      <button class=\"colab-df-convert\" onclick=\"convertToInteractive('df-367869aa-29b2-460e-9c68-b904be5a0a2e')\"\n",
              "              title=\"Convert this dataframe to an interactive table.\"\n",
              "              style=\"display:none;\">\n",
              "        \n",
              "  <svg xmlns=\"http://www.w3.org/2000/svg\" height=\"24px\"viewBox=\"0 0 24 24\"\n",
              "       width=\"24px\">\n",
              "    <path d=\"M0 0h24v24H0V0z\" fill=\"none\"/>\n",
              "    <path d=\"M18.56 5.44l.94 2.06.94-2.06 2.06-.94-2.06-.94-.94-2.06-.94 2.06-2.06.94zm-11 1L8.5 8.5l.94-2.06 2.06-.94-2.06-.94L8.5 2.5l-.94 2.06-2.06.94zm10 10l.94 2.06.94-2.06 2.06-.94-2.06-.94-.94-2.06-.94 2.06-2.06.94z\"/><path d=\"M17.41 7.96l-1.37-1.37c-.4-.4-.92-.59-1.43-.59-.52 0-1.04.2-1.43.59L10.3 9.45l-7.72 7.72c-.78.78-.78 2.05 0 2.83L4 21.41c.39.39.9.59 1.41.59.51 0 1.02-.2 1.41-.59l7.78-7.78 2.81-2.81c.8-.78.8-2.07 0-2.86zM5.41 20L4 18.59l7.72-7.72 1.47 1.35L5.41 20z\"/>\n",
              "  </svg>\n",
              "      </button>\n",
              "      \n",
              "  <style>\n",
              "    .colab-df-container {\n",
              "      display:flex;\n",
              "      flex-wrap:wrap;\n",
              "      gap: 12px;\n",
              "    }\n",
              "\n",
              "    .colab-df-convert {\n",
              "      background-color: #E8F0FE;\n",
              "      border: none;\n",
              "      border-radius: 50%;\n",
              "      cursor: pointer;\n",
              "      display: none;\n",
              "      fill: #1967D2;\n",
              "      height: 32px;\n",
              "      padding: 0 0 0 0;\n",
              "      width: 32px;\n",
              "    }\n",
              "\n",
              "    .colab-df-convert:hover {\n",
              "      background-color: #E2EBFA;\n",
              "      box-shadow: 0px 1px 2px rgba(60, 64, 67, 0.3), 0px 1px 3px 1px rgba(60, 64, 67, 0.15);\n",
              "      fill: #174EA6;\n",
              "    }\n",
              "\n",
              "    [theme=dark] .colab-df-convert {\n",
              "      background-color: #3B4455;\n",
              "      fill: #D2E3FC;\n",
              "    }\n",
              "\n",
              "    [theme=dark] .colab-df-convert:hover {\n",
              "      background-color: #434B5C;\n",
              "      box-shadow: 0px 1px 3px 1px rgba(0, 0, 0, 0.15);\n",
              "      filter: drop-shadow(0px 1px 2px rgba(0, 0, 0, 0.3));\n",
              "      fill: #FFFFFF;\n",
              "    }\n",
              "  </style>\n",
              "\n",
              "      <script>\n",
              "        const buttonEl =\n",
              "          document.querySelector('#df-367869aa-29b2-460e-9c68-b904be5a0a2e button.colab-df-convert');\n",
              "        buttonEl.style.display =\n",
              "          google.colab.kernel.accessAllowed ? 'block' : 'none';\n",
              "\n",
              "        async function convertToInteractive(key) {\n",
              "          const element = document.querySelector('#df-367869aa-29b2-460e-9c68-b904be5a0a2e');\n",
              "          const dataTable =\n",
              "            await google.colab.kernel.invokeFunction('convertToInteractive',\n",
              "                                                     [key], {});\n",
              "          if (!dataTable) return;\n",
              "\n",
              "          const docLinkHtml = 'Like what you see? Visit the ' +\n",
              "            '<a target=\"_blank\" href=https://colab.research.google.com/notebooks/data_table.ipynb>data table notebook</a>'\n",
              "            + ' to learn more about interactive tables.';\n",
              "          element.innerHTML = '';\n",
              "          dataTable['output_type'] = 'display_data';\n",
              "          await google.colab.output.renderOutput(dataTable, element);\n",
              "          const docLink = document.createElement('div');\n",
              "          docLink.innerHTML = docLinkHtml;\n",
              "          element.appendChild(docLink);\n",
              "        }\n",
              "      </script>\n",
              "    </div>\n",
              "  </div>\n",
              "  "
            ],
            "text/plain": [
              "        R-ref       G-ref  ...  Shad                                       Img\n",
              "0  239.313326  216.689200  ...    A1  1CE4FFAC-5C8A-4C04-8A57-7BB28F25302D.png\n",
              "1  236.874709  224.246018  ...    A1  67F8EDAB-A9C7-4B91-B07B-BFADEE915B61.png\n",
              "2  233.620047  221.292735  ...    A1  935ACCF9-A4D6-4CB3-A437-6333758D46CD.png\n",
              "3  237.811480  225.270882  ...    A1  C7A49040-51EF-4045-9394-5E8F4A17B8A2.png\n",
              "4  236.552836  224.011752  ...    A1  EFCB2FF8-FACF-4778-946B-4DFEC0F8EB5D.png\n",
              "\n",
              "[5 rows x 16 columns]"
            ]
          },
          "metadata": {},
          "execution_count": 828
        }
      ]
    },
    {
      "cell_type": "code",
      "source": [
        "table_B1Set2 = pd.read_excel(Set2, sheet_name='B1Set2')\n",
        "table_B1Set2.head()"
      ],
      "metadata": {
        "colab": {
          "base_uri": "https://localhost:8080/",
          "height": 0
        },
        "outputId": "eeccad8e-2ab2-4ac3-f7b2-62698bb0e62f",
        "id": "Zpk8QEaYoh-o"
      },
      "execution_count": 829,
      "outputs": [
        {
          "output_type": "execute_result",
          "data": {
            "text/html": [
              "\n",
              "  <div id=\"df-9800be42-3095-4223-9888-2f7e9ccac091\">\n",
              "    <div class=\"colab-df-container\">\n",
              "      <div>\n",
              "<style scoped>\n",
              "    .dataframe tbody tr th:only-of-type {\n",
              "        vertical-align: middle;\n",
              "    }\n",
              "\n",
              "    .dataframe tbody tr th {\n",
              "        vertical-align: top;\n",
              "    }\n",
              "\n",
              "    .dataframe thead th {\n",
              "        text-align: right;\n",
              "    }\n",
              "</style>\n",
              "<table border=\"1\" class=\"dataframe\">\n",
              "  <thead>\n",
              "    <tr style=\"text-align: right;\">\n",
              "      <th></th>\n",
              "      <th>R-ref</th>\n",
              "      <th>G-ref</th>\n",
              "      <th>B-ref</th>\n",
              "      <th>R-Shad</th>\n",
              "      <th>G-Shad</th>\n",
              "      <th>B-Shad</th>\n",
              "      <th>H-ref</th>\n",
              "      <th>S-ref</th>\n",
              "      <th>V-ref</th>\n",
              "      <th>H-Shad</th>\n",
              "      <th>S-Shad</th>\n",
              "      <th>V-Shad</th>\n",
              "      <th>Setting</th>\n",
              "      <th>Ref</th>\n",
              "      <th>Shad</th>\n",
              "      <th>Img</th>\n",
              "    </tr>\n",
              "  </thead>\n",
              "  <tbody>\n",
              "    <tr>\n",
              "      <th>0</th>\n",
              "      <td>234.815031</td>\n",
              "      <td>217.558477</td>\n",
              "      <td>176.138625</td>\n",
              "      <td>234.785079</td>\n",
              "      <td>217.582035</td>\n",
              "      <td>176.231207</td>\n",
              "      <td>21.535184</td>\n",
              "      <td>63.733382</td>\n",
              "      <td>234.815031</td>\n",
              "      <td>21.532964</td>\n",
              "      <td>63.610696</td>\n",
              "      <td>234.785079</td>\n",
              "      <td>Set2</td>\n",
              "      <td>B1</td>\n",
              "      <td>A1</td>\n",
              "      <td>AEF34645-B125-4481-B378-9F740119E34B.png</td>\n",
              "    </tr>\n",
              "    <tr>\n",
              "      <th>1</th>\n",
              "      <td>232.727620</td>\n",
              "      <td>216.042529</td>\n",
              "      <td>174.417742</td>\n",
              "      <td>232.590499</td>\n",
              "      <td>215.900220</td>\n",
              "      <td>174.397482</td>\n",
              "      <td>21.670968</td>\n",
              "      <td>63.910153</td>\n",
              "      <td>232.727620</td>\n",
              "      <td>21.642557</td>\n",
              "      <td>63.816300</td>\n",
              "      <td>232.590499</td>\n",
              "      <td>Set2</td>\n",
              "      <td>B1</td>\n",
              "      <td>A1</td>\n",
              "      <td>7B786FDA-1147-419F-870D-48EE311B41A7.png</td>\n",
              "    </tr>\n",
              "    <tr>\n",
              "      <th>2</th>\n",
              "      <td>226.770067</td>\n",
              "      <td>210.563347</td>\n",
              "      <td>170.603522</td>\n",
              "      <td>226.835005</td>\n",
              "      <td>210.685229</td>\n",
              "      <td>170.845246</td>\n",
              "      <td>21.581284</td>\n",
              "      <td>63.122393</td>\n",
              "      <td>226.770067</td>\n",
              "      <td>21.579262</td>\n",
              "      <td>62.906479</td>\n",
              "      <td>226.835005</td>\n",
              "      <td>Set2</td>\n",
              "      <td>B1</td>\n",
              "      <td>A1</td>\n",
              "      <td>14C23018-F05B-47AF-ADC6-277F5B8227F2.png</td>\n",
              "    </tr>\n",
              "    <tr>\n",
              "      <th>3</th>\n",
              "      <td>225.828017</td>\n",
              "      <td>205.090171</td>\n",
              "      <td>161.716581</td>\n",
              "      <td>225.956973</td>\n",
              "      <td>205.274020</td>\n",
              "      <td>162.008179</td>\n",
              "      <td>20.171252</td>\n",
              "      <td>72.425047</td>\n",
              "      <td>225.828017</td>\n",
              "      <td>20.198635</td>\n",
              "      <td>72.194652</td>\n",
              "      <td>225.956973</td>\n",
              "      <td>Set2</td>\n",
              "      <td>B1</td>\n",
              "      <td>A1</td>\n",
              "      <td>03F30AE6-EE62-4EB0-9349-3BAA28F5E850.png</td>\n",
              "    </tr>\n",
              "    <tr>\n",
              "      <th>4</th>\n",
              "      <td>224.204123</td>\n",
              "      <td>203.246003</td>\n",
              "      <td>160.220274</td>\n",
              "      <td>224.318825</td>\n",
              "      <td>203.394851</td>\n",
              "      <td>160.420667</td>\n",
              "      <td>20.013879</td>\n",
              "      <td>72.803993</td>\n",
              "      <td>224.204123</td>\n",
              "      <td>20.018633</td>\n",
              "      <td>72.672001</td>\n",
              "      <td>224.318825</td>\n",
              "      <td>Set2</td>\n",
              "      <td>B1</td>\n",
              "      <td>A1</td>\n",
              "      <td>E58BEC6B-47E4-4F24-A845-6C7065F6286F.png</td>\n",
              "    </tr>\n",
              "  </tbody>\n",
              "</table>\n",
              "</div>\n",
              "      <button class=\"colab-df-convert\" onclick=\"convertToInteractive('df-9800be42-3095-4223-9888-2f7e9ccac091')\"\n",
              "              title=\"Convert this dataframe to an interactive table.\"\n",
              "              style=\"display:none;\">\n",
              "        \n",
              "  <svg xmlns=\"http://www.w3.org/2000/svg\" height=\"24px\"viewBox=\"0 0 24 24\"\n",
              "       width=\"24px\">\n",
              "    <path d=\"M0 0h24v24H0V0z\" fill=\"none\"/>\n",
              "    <path d=\"M18.56 5.44l.94 2.06.94-2.06 2.06-.94-2.06-.94-.94-2.06-.94 2.06-2.06.94zm-11 1L8.5 8.5l.94-2.06 2.06-.94-2.06-.94L8.5 2.5l-.94 2.06-2.06.94zm10 10l.94 2.06.94-2.06 2.06-.94-2.06-.94-.94-2.06-.94 2.06-2.06.94z\"/><path d=\"M17.41 7.96l-1.37-1.37c-.4-.4-.92-.59-1.43-.59-.52 0-1.04.2-1.43.59L10.3 9.45l-7.72 7.72c-.78.78-.78 2.05 0 2.83L4 21.41c.39.39.9.59 1.41.59.51 0 1.02-.2 1.41-.59l7.78-7.78 2.81-2.81c.8-.78.8-2.07 0-2.86zM5.41 20L4 18.59l7.72-7.72 1.47 1.35L5.41 20z\"/>\n",
              "  </svg>\n",
              "      </button>\n",
              "      \n",
              "  <style>\n",
              "    .colab-df-container {\n",
              "      display:flex;\n",
              "      flex-wrap:wrap;\n",
              "      gap: 12px;\n",
              "    }\n",
              "\n",
              "    .colab-df-convert {\n",
              "      background-color: #E8F0FE;\n",
              "      border: none;\n",
              "      border-radius: 50%;\n",
              "      cursor: pointer;\n",
              "      display: none;\n",
              "      fill: #1967D2;\n",
              "      height: 32px;\n",
              "      padding: 0 0 0 0;\n",
              "      width: 32px;\n",
              "    }\n",
              "\n",
              "    .colab-df-convert:hover {\n",
              "      background-color: #E2EBFA;\n",
              "      box-shadow: 0px 1px 2px rgba(60, 64, 67, 0.3), 0px 1px 3px 1px rgba(60, 64, 67, 0.15);\n",
              "      fill: #174EA6;\n",
              "    }\n",
              "\n",
              "    [theme=dark] .colab-df-convert {\n",
              "      background-color: #3B4455;\n",
              "      fill: #D2E3FC;\n",
              "    }\n",
              "\n",
              "    [theme=dark] .colab-df-convert:hover {\n",
              "      background-color: #434B5C;\n",
              "      box-shadow: 0px 1px 3px 1px rgba(0, 0, 0, 0.15);\n",
              "      filter: drop-shadow(0px 1px 2px rgba(0, 0, 0, 0.3));\n",
              "      fill: #FFFFFF;\n",
              "    }\n",
              "  </style>\n",
              "\n",
              "      <script>\n",
              "        const buttonEl =\n",
              "          document.querySelector('#df-9800be42-3095-4223-9888-2f7e9ccac091 button.colab-df-convert');\n",
              "        buttonEl.style.display =\n",
              "          google.colab.kernel.accessAllowed ? 'block' : 'none';\n",
              "\n",
              "        async function convertToInteractive(key) {\n",
              "          const element = document.querySelector('#df-9800be42-3095-4223-9888-2f7e9ccac091');\n",
              "          const dataTable =\n",
              "            await google.colab.kernel.invokeFunction('convertToInteractive',\n",
              "                                                     [key], {});\n",
              "          if (!dataTable) return;\n",
              "\n",
              "          const docLinkHtml = 'Like what you see? Visit the ' +\n",
              "            '<a target=\"_blank\" href=https://colab.research.google.com/notebooks/data_table.ipynb>data table notebook</a>'\n",
              "            + ' to learn more about interactive tables.';\n",
              "          element.innerHTML = '';\n",
              "          dataTable['output_type'] = 'display_data';\n",
              "          await google.colab.output.renderOutput(dataTable, element);\n",
              "          const docLink = document.createElement('div');\n",
              "          docLink.innerHTML = docLinkHtml;\n",
              "          element.appendChild(docLink);\n",
              "        }\n",
              "      </script>\n",
              "    </div>\n",
              "  </div>\n",
              "  "
            ],
            "text/plain": [
              "        R-ref       G-ref  ...  Shad                                       Img\n",
              "0  234.815031  217.558477  ...    A1  AEF34645-B125-4481-B378-9F740119E34B.png\n",
              "1  232.727620  216.042529  ...    A1  7B786FDA-1147-419F-870D-48EE311B41A7.png\n",
              "2  226.770067  210.563347  ...    A1  14C23018-F05B-47AF-ADC6-277F5B8227F2.png\n",
              "3  225.828017  205.090171  ...    A1  03F30AE6-EE62-4EB0-9349-3BAA28F5E850.png\n",
              "4  224.204123  203.246003  ...    A1  E58BEC6B-47E4-4F24-A845-6C7065F6286F.png\n",
              "\n",
              "[5 rows x 16 columns]"
            ]
          },
          "metadata": {},
          "execution_count": 829
        }
      ]
    },
    {
      "cell_type": "code",
      "source": [
        "table_B1Set3 = pd.read_excel(Set3, sheet_name='B1Set3 ')\n",
        "table_B1Set3.head()"
      ],
      "metadata": {
        "colab": {
          "base_uri": "https://localhost:8080/",
          "height": 0
        },
        "outputId": "ed54c28c-e472-4446-cd1a-8fc040e5c989",
        "id": "cIaaLB30oh-o"
      },
      "execution_count": 830,
      "outputs": [
        {
          "output_type": "execute_result",
          "data": {
            "text/html": [
              "\n",
              "  <div id=\"df-d8b14b1a-90ab-4a48-a64c-81f7efe67205\">\n",
              "    <div class=\"colab-df-container\">\n",
              "      <div>\n",
              "<style scoped>\n",
              "    .dataframe tbody tr th:only-of-type {\n",
              "        vertical-align: middle;\n",
              "    }\n",
              "\n",
              "    .dataframe tbody tr th {\n",
              "        vertical-align: top;\n",
              "    }\n",
              "\n",
              "    .dataframe thead th {\n",
              "        text-align: right;\n",
              "    }\n",
              "</style>\n",
              "<table border=\"1\" class=\"dataframe\">\n",
              "  <thead>\n",
              "    <tr style=\"text-align: right;\">\n",
              "      <th></th>\n",
              "      <th>R-ref</th>\n",
              "      <th>G-ref</th>\n",
              "      <th>B-ref</th>\n",
              "      <th>R-Shad</th>\n",
              "      <th>G-Shad</th>\n",
              "      <th>B-Shad</th>\n",
              "      <th>H-ref</th>\n",
              "      <th>S-ref</th>\n",
              "      <th>V-ref</th>\n",
              "      <th>H-Shad</th>\n",
              "      <th>S-Shad</th>\n",
              "      <th>V-Shad</th>\n",
              "      <th>Setting</th>\n",
              "      <th>Ref</th>\n",
              "      <th>Shad</th>\n",
              "      <th>Img</th>\n",
              "    </tr>\n",
              "  </thead>\n",
              "  <tbody>\n",
              "    <tr>\n",
              "      <th>0</th>\n",
              "      <td>236.874709</td>\n",
              "      <td>224.246018</td>\n",
              "      <td>189.226204</td>\n",
              "      <td>230.156056</td>\n",
              "      <td>219.555185</td>\n",
              "      <td>186.043740</td>\n",
              "      <td>22.082653</td>\n",
              "      <td>51.388403</td>\n",
              "      <td>236.874709</td>\n",
              "      <td>22.723659</td>\n",
              "      <td>48.229636</td>\n",
              "      <td>231.396997</td>\n",
              "      <td>Set3</td>\n",
              "      <td>B1</td>\n",
              "      <td>A1</td>\n",
              "      <td>36131F69-AE53-43F0-9393-320FE9F7F062.png</td>\n",
              "    </tr>\n",
              "    <tr>\n",
              "      <th>1</th>\n",
              "      <td>233.620047</td>\n",
              "      <td>221.292735</td>\n",
              "      <td>185.655789</td>\n",
              "      <td>226.263831</td>\n",
              "      <td>214.966732</td>\n",
              "      <td>180.068854</td>\n",
              "      <td>22.295552</td>\n",
              "      <td>52.415695</td>\n",
              "      <td>233.620047</td>\n",
              "      <td>22.702715</td>\n",
              "      <td>52.081549</td>\n",
              "      <td>227.834121</td>\n",
              "      <td>Set3</td>\n",
              "      <td>B1</td>\n",
              "      <td>A1</td>\n",
              "      <td>3E662E98-64FE-4DAE-9C23-6B9B46AFF938.png</td>\n",
              "    </tr>\n",
              "    <tr>\n",
              "      <th>2</th>\n",
              "      <td>237.811480</td>\n",
              "      <td>225.270882</td>\n",
              "      <td>190.323718</td>\n",
              "      <td>231.649152</td>\n",
              "      <td>220.802891</td>\n",
              "      <td>187.113799</td>\n",
              "      <td>22.090909</td>\n",
              "      <td>51.023116</td>\n",
              "      <td>237.811480</td>\n",
              "      <td>22.720971</td>\n",
              "      <td>48.397554</td>\n",
              "      <td>232.762117</td>\n",
              "      <td>Set3</td>\n",
              "      <td>B1</td>\n",
              "      <td>A1</td>\n",
              "      <td>13BDAEBC-84BE-4B57-BD10-B3BEBEC55479.png</td>\n",
              "    </tr>\n",
              "    <tr>\n",
              "      <th>3</th>\n",
              "      <td>236.552836</td>\n",
              "      <td>224.011752</td>\n",
              "      <td>188.282051</td>\n",
              "      <td>231.108331</td>\n",
              "      <td>219.994996</td>\n",
              "      <td>185.944213</td>\n",
              "      <td>22.189103</td>\n",
              "      <td>52.109751</td>\n",
              "      <td>236.552836</td>\n",
              "      <td>22.714948</td>\n",
              "      <td>49.161616</td>\n",
              "      <td>232.234362</td>\n",
              "      <td>Set3</td>\n",
              "      <td>B1</td>\n",
              "      <td>A1</td>\n",
              "      <td>73D24887-262D-44DF-BC51-1E2A687A29A0.png</td>\n",
              "    </tr>\n",
              "    <tr>\n",
              "      <th>4</th>\n",
              "      <td>233.531080</td>\n",
              "      <td>221.732129</td>\n",
              "      <td>188.679779</td>\n",
              "      <td>226.969882</td>\n",
              "      <td>216.026782</td>\n",
              "      <td>182.714577</td>\n",
              "      <td>22.118395</td>\n",
              "      <td>49.023601</td>\n",
              "      <td>233.531080</td>\n",
              "      <td>22.632564</td>\n",
              "      <td>49.847002</td>\n",
              "      <td>228.466963</td>\n",
              "      <td>Set3</td>\n",
              "      <td>B1</td>\n",
              "      <td>A1</td>\n",
              "      <td>59AB53AF-BFB4-4E7C-8C9A-5235F7B20C49.png</td>\n",
              "    </tr>\n",
              "  </tbody>\n",
              "</table>\n",
              "</div>\n",
              "      <button class=\"colab-df-convert\" onclick=\"convertToInteractive('df-d8b14b1a-90ab-4a48-a64c-81f7efe67205')\"\n",
              "              title=\"Convert this dataframe to an interactive table.\"\n",
              "              style=\"display:none;\">\n",
              "        \n",
              "  <svg xmlns=\"http://www.w3.org/2000/svg\" height=\"24px\"viewBox=\"0 0 24 24\"\n",
              "       width=\"24px\">\n",
              "    <path d=\"M0 0h24v24H0V0z\" fill=\"none\"/>\n",
              "    <path d=\"M18.56 5.44l.94 2.06.94-2.06 2.06-.94-2.06-.94-.94-2.06-.94 2.06-2.06.94zm-11 1L8.5 8.5l.94-2.06 2.06-.94-2.06-.94L8.5 2.5l-.94 2.06-2.06.94zm10 10l.94 2.06.94-2.06 2.06-.94-2.06-.94-.94-2.06-.94 2.06-2.06.94z\"/><path d=\"M17.41 7.96l-1.37-1.37c-.4-.4-.92-.59-1.43-.59-.52 0-1.04.2-1.43.59L10.3 9.45l-7.72 7.72c-.78.78-.78 2.05 0 2.83L4 21.41c.39.39.9.59 1.41.59.51 0 1.02-.2 1.41-.59l7.78-7.78 2.81-2.81c.8-.78.8-2.07 0-2.86zM5.41 20L4 18.59l7.72-7.72 1.47 1.35L5.41 20z\"/>\n",
              "  </svg>\n",
              "      </button>\n",
              "      \n",
              "  <style>\n",
              "    .colab-df-container {\n",
              "      display:flex;\n",
              "      flex-wrap:wrap;\n",
              "      gap: 12px;\n",
              "    }\n",
              "\n",
              "    .colab-df-convert {\n",
              "      background-color: #E8F0FE;\n",
              "      border: none;\n",
              "      border-radius: 50%;\n",
              "      cursor: pointer;\n",
              "      display: none;\n",
              "      fill: #1967D2;\n",
              "      height: 32px;\n",
              "      padding: 0 0 0 0;\n",
              "      width: 32px;\n",
              "    }\n",
              "\n",
              "    .colab-df-convert:hover {\n",
              "      background-color: #E2EBFA;\n",
              "      box-shadow: 0px 1px 2px rgba(60, 64, 67, 0.3), 0px 1px 3px 1px rgba(60, 64, 67, 0.15);\n",
              "      fill: #174EA6;\n",
              "    }\n",
              "\n",
              "    [theme=dark] .colab-df-convert {\n",
              "      background-color: #3B4455;\n",
              "      fill: #D2E3FC;\n",
              "    }\n",
              "\n",
              "    [theme=dark] .colab-df-convert:hover {\n",
              "      background-color: #434B5C;\n",
              "      box-shadow: 0px 1px 3px 1px rgba(0, 0, 0, 0.15);\n",
              "      filter: drop-shadow(0px 1px 2px rgba(0, 0, 0, 0.3));\n",
              "      fill: #FFFFFF;\n",
              "    }\n",
              "  </style>\n",
              "\n",
              "      <script>\n",
              "        const buttonEl =\n",
              "          document.querySelector('#df-d8b14b1a-90ab-4a48-a64c-81f7efe67205 button.colab-df-convert');\n",
              "        buttonEl.style.display =\n",
              "          google.colab.kernel.accessAllowed ? 'block' : 'none';\n",
              "\n",
              "        async function convertToInteractive(key) {\n",
              "          const element = document.querySelector('#df-d8b14b1a-90ab-4a48-a64c-81f7efe67205');\n",
              "          const dataTable =\n",
              "            await google.colab.kernel.invokeFunction('convertToInteractive',\n",
              "                                                     [key], {});\n",
              "          if (!dataTable) return;\n",
              "\n",
              "          const docLinkHtml = 'Like what you see? Visit the ' +\n",
              "            '<a target=\"_blank\" href=https://colab.research.google.com/notebooks/data_table.ipynb>data table notebook</a>'\n",
              "            + ' to learn more about interactive tables.';\n",
              "          element.innerHTML = '';\n",
              "          dataTable['output_type'] = 'display_data';\n",
              "          await google.colab.output.renderOutput(dataTable, element);\n",
              "          const docLink = document.createElement('div');\n",
              "          docLink.innerHTML = docLinkHtml;\n",
              "          element.appendChild(docLink);\n",
              "        }\n",
              "      </script>\n",
              "    </div>\n",
              "  </div>\n",
              "  "
            ],
            "text/plain": [
              "        R-ref       G-ref  ...  Shad                                       Img\n",
              "0  236.874709  224.246018  ...    A1  36131F69-AE53-43F0-9393-320FE9F7F062.png\n",
              "1  233.620047  221.292735  ...    A1  3E662E98-64FE-4DAE-9C23-6B9B46AFF938.png\n",
              "2  237.811480  225.270882  ...    A1  13BDAEBC-84BE-4B57-BD10-B3BEBEC55479.png\n",
              "3  236.552836  224.011752  ...    A1  73D24887-262D-44DF-BC51-1E2A687A29A0.png\n",
              "4  233.531080  221.732129  ...    A1  59AB53AF-BFB4-4E7C-8C9A-5235F7B20C49.png\n",
              "\n",
              "[5 rows x 16 columns]"
            ]
          },
          "metadata": {},
          "execution_count": 830
        }
      ]
    },
    {
      "cell_type": "code",
      "source": [
        "table_B1Set4 = pd.read_excel(Set4, sheet_name='B1Set4')\n",
        "table_B1Set4.head()"
      ],
      "metadata": {
        "colab": {
          "base_uri": "https://localhost:8080/",
          "height": 0
        },
        "outputId": "e4be38ce-2440-49f4-b2ff-48050cb34a5f",
        "id": "HbW0qS6eoh-o"
      },
      "execution_count": 831,
      "outputs": [
        {
          "output_type": "execute_result",
          "data": {
            "text/html": [
              "\n",
              "  <div id=\"df-6dcb6861-ccab-42cc-a105-53669ab414c5\">\n",
              "    <div class=\"colab-df-container\">\n",
              "      <div>\n",
              "<style scoped>\n",
              "    .dataframe tbody tr th:only-of-type {\n",
              "        vertical-align: middle;\n",
              "    }\n",
              "\n",
              "    .dataframe tbody tr th {\n",
              "        vertical-align: top;\n",
              "    }\n",
              "\n",
              "    .dataframe thead th {\n",
              "        text-align: right;\n",
              "    }\n",
              "</style>\n",
              "<table border=\"1\" class=\"dataframe\">\n",
              "  <thead>\n",
              "    <tr style=\"text-align: right;\">\n",
              "      <th></th>\n",
              "      <th>R-ref</th>\n",
              "      <th>G-ref</th>\n",
              "      <th>B-ref</th>\n",
              "      <th>R-Shad</th>\n",
              "      <th>G-Shad</th>\n",
              "      <th>B-Shad</th>\n",
              "      <th>H-ref</th>\n",
              "      <th>S-ref</th>\n",
              "      <th>V-ref</th>\n",
              "      <th>H-Shad</th>\n",
              "      <th>S-Shad</th>\n",
              "      <th>V-Shad</th>\n",
              "      <th>Setting</th>\n",
              "      <th>Ref</th>\n",
              "      <th>Shad</th>\n",
              "      <th>Img</th>\n",
              "    </tr>\n",
              "  </thead>\n",
              "  <tbody>\n",
              "    <tr>\n",
              "      <th>0</th>\n",
              "      <td>238.081682</td>\n",
              "      <td>221.755051</td>\n",
              "      <td>181.142385</td>\n",
              "      <td>235.877861</td>\n",
              "      <td>223.403206</td>\n",
              "      <td>188.274488</td>\n",
              "      <td>21.704351</td>\n",
              "      <td>61.046814</td>\n",
              "      <td>238.081682</td>\n",
              "      <td>22.198221</td>\n",
              "      <td>51.493281</td>\n",
              "      <td>235.877861</td>\n",
              "      <td>Set4</td>\n",
              "      <td>B1</td>\n",
              "      <td>A1</td>\n",
              "      <td>FE8C5C61-E1C3-43CD-89CA-1CC9F2F64918.png</td>\n",
              "    </tr>\n",
              "    <tr>\n",
              "      <th>1</th>\n",
              "      <td>235.952117</td>\n",
              "      <td>219.916764</td>\n",
              "      <td>179.500291</td>\n",
              "      <td>234.624780</td>\n",
              "      <td>222.123251</td>\n",
              "      <td>187.442591</td>\n",
              "      <td>21.683955</td>\n",
              "      <td>61.045940</td>\n",
              "      <td>235.952117</td>\n",
              "      <td>22.059587</td>\n",
              "      <td>51.317765</td>\n",
              "      <td>234.624780</td>\n",
              "      <td>Set4</td>\n",
              "      <td>B1</td>\n",
              "      <td>A1</td>\n",
              "      <td>D3A831B0-6702-4ED8-BCD2-DF3E93AE96AA.png</td>\n",
              "    </tr>\n",
              "    <tr>\n",
              "      <th>2</th>\n",
              "      <td>232.103632</td>\n",
              "      <td>215.131022</td>\n",
              "      <td>174.147533</td>\n",
              "      <td>230.502548</td>\n",
              "      <td>216.921416</td>\n",
              "      <td>181.024928</td>\n",
              "      <td>21.521950</td>\n",
              "      <td>63.663559</td>\n",
              "      <td>232.103632</td>\n",
              "      <td>21.845149</td>\n",
              "      <td>54.783060</td>\n",
              "      <td>230.502548</td>\n",
              "      <td>Set4</td>\n",
              "      <td>B1</td>\n",
              "      <td>A1</td>\n",
              "      <td>8A8341B2-51DF-4C76-9E21-423D884578F9.png</td>\n",
              "    </tr>\n",
              "    <tr>\n",
              "      <th>3</th>\n",
              "      <td>229.841492</td>\n",
              "      <td>209.444444</td>\n",
              "      <td>165.517483</td>\n",
              "      <td>228.251135</td>\n",
              "      <td>210.763414</td>\n",
              "      <td>169.306274</td>\n",
              "      <td>20.311189</td>\n",
              "      <td>71.366647</td>\n",
              "      <td>229.841492</td>\n",
              "      <td>21.484292</td>\n",
              "      <td>65.896673</td>\n",
              "      <td>228.251135</td>\n",
              "      <td>Set4</td>\n",
              "      <td>B1</td>\n",
              "      <td>A1</td>\n",
              "      <td>73445C43-E3BF-421B-9A97-1F1182DFFF9A.png</td>\n",
              "    </tr>\n",
              "    <tr>\n",
              "      <th>4</th>\n",
              "      <td>228.368395</td>\n",
              "      <td>207.523019</td>\n",
              "      <td>163.672980</td>\n",
              "      <td>227.025021</td>\n",
              "      <td>209.357891</td>\n",
              "      <td>169.048559</td>\n",
              "      <td>20.087024</td>\n",
              "      <td>72.279138</td>\n",
              "      <td>228.368395</td>\n",
              "      <td>21.155407</td>\n",
              "      <td>65.139561</td>\n",
              "      <td>227.025021</td>\n",
              "      <td>Set4</td>\n",
              "      <td>B1</td>\n",
              "      <td>A1</td>\n",
              "      <td>56FEB49F-EF2D-4F39-A5BC-CCD039F7C855.png</td>\n",
              "    </tr>\n",
              "  </tbody>\n",
              "</table>\n",
              "</div>\n",
              "      <button class=\"colab-df-convert\" onclick=\"convertToInteractive('df-6dcb6861-ccab-42cc-a105-53669ab414c5')\"\n",
              "              title=\"Convert this dataframe to an interactive table.\"\n",
              "              style=\"display:none;\">\n",
              "        \n",
              "  <svg xmlns=\"http://www.w3.org/2000/svg\" height=\"24px\"viewBox=\"0 0 24 24\"\n",
              "       width=\"24px\">\n",
              "    <path d=\"M0 0h24v24H0V0z\" fill=\"none\"/>\n",
              "    <path d=\"M18.56 5.44l.94 2.06.94-2.06 2.06-.94-2.06-.94-.94-2.06-.94 2.06-2.06.94zm-11 1L8.5 8.5l.94-2.06 2.06-.94-2.06-.94L8.5 2.5l-.94 2.06-2.06.94zm10 10l.94 2.06.94-2.06 2.06-.94-2.06-.94-.94-2.06-.94 2.06-2.06.94z\"/><path d=\"M17.41 7.96l-1.37-1.37c-.4-.4-.92-.59-1.43-.59-.52 0-1.04.2-1.43.59L10.3 9.45l-7.72 7.72c-.78.78-.78 2.05 0 2.83L4 21.41c.39.39.9.59 1.41.59.51 0 1.02-.2 1.41-.59l7.78-7.78 2.81-2.81c.8-.78.8-2.07 0-2.86zM5.41 20L4 18.59l7.72-7.72 1.47 1.35L5.41 20z\"/>\n",
              "  </svg>\n",
              "      </button>\n",
              "      \n",
              "  <style>\n",
              "    .colab-df-container {\n",
              "      display:flex;\n",
              "      flex-wrap:wrap;\n",
              "      gap: 12px;\n",
              "    }\n",
              "\n",
              "    .colab-df-convert {\n",
              "      background-color: #E8F0FE;\n",
              "      border: none;\n",
              "      border-radius: 50%;\n",
              "      cursor: pointer;\n",
              "      display: none;\n",
              "      fill: #1967D2;\n",
              "      height: 32px;\n",
              "      padding: 0 0 0 0;\n",
              "      width: 32px;\n",
              "    }\n",
              "\n",
              "    .colab-df-convert:hover {\n",
              "      background-color: #E2EBFA;\n",
              "      box-shadow: 0px 1px 2px rgba(60, 64, 67, 0.3), 0px 1px 3px 1px rgba(60, 64, 67, 0.15);\n",
              "      fill: #174EA6;\n",
              "    }\n",
              "\n",
              "    [theme=dark] .colab-df-convert {\n",
              "      background-color: #3B4455;\n",
              "      fill: #D2E3FC;\n",
              "    }\n",
              "\n",
              "    [theme=dark] .colab-df-convert:hover {\n",
              "      background-color: #434B5C;\n",
              "      box-shadow: 0px 1px 3px 1px rgba(0, 0, 0, 0.15);\n",
              "      filter: drop-shadow(0px 1px 2px rgba(0, 0, 0, 0.3));\n",
              "      fill: #FFFFFF;\n",
              "    }\n",
              "  </style>\n",
              "\n",
              "      <script>\n",
              "        const buttonEl =\n",
              "          document.querySelector('#df-6dcb6861-ccab-42cc-a105-53669ab414c5 button.colab-df-convert');\n",
              "        buttonEl.style.display =\n",
              "          google.colab.kernel.accessAllowed ? 'block' : 'none';\n",
              "\n",
              "        async function convertToInteractive(key) {\n",
              "          const element = document.querySelector('#df-6dcb6861-ccab-42cc-a105-53669ab414c5');\n",
              "          const dataTable =\n",
              "            await google.colab.kernel.invokeFunction('convertToInteractive',\n",
              "                                                     [key], {});\n",
              "          if (!dataTable) return;\n",
              "\n",
              "          const docLinkHtml = 'Like what you see? Visit the ' +\n",
              "            '<a target=\"_blank\" href=https://colab.research.google.com/notebooks/data_table.ipynb>data table notebook</a>'\n",
              "            + ' to learn more about interactive tables.';\n",
              "          element.innerHTML = '';\n",
              "          dataTable['output_type'] = 'display_data';\n",
              "          await google.colab.output.renderOutput(dataTable, element);\n",
              "          const docLink = document.createElement('div');\n",
              "          docLink.innerHTML = docLinkHtml;\n",
              "          element.appendChild(docLink);\n",
              "        }\n",
              "      </script>\n",
              "    </div>\n",
              "  </div>\n",
              "  "
            ],
            "text/plain": [
              "        R-ref       G-ref  ...  Shad                                       Img\n",
              "0  238.081682  221.755051  ...    A1  FE8C5C61-E1C3-43CD-89CA-1CC9F2F64918.png\n",
              "1  235.952117  219.916764  ...    A1  D3A831B0-6702-4ED8-BCD2-DF3E93AE96AA.png\n",
              "2  232.103632  215.131022  ...    A1  8A8341B2-51DF-4C76-9E21-423D884578F9.png\n",
              "3  229.841492  209.444444  ...    A1  73445C43-E3BF-421B-9A97-1F1182DFFF9A.png\n",
              "4  228.368395  207.523019  ...    A1  56FEB49F-EF2D-4F39-A5BC-CCD039F7C855.png\n",
              "\n",
              "[5 rows x 16 columns]"
            ]
          },
          "metadata": {},
          "execution_count": 831
        }
      ]
    },
    {
      "cell_type": "markdown",
      "source": [
        "###RGB"
      ],
      "metadata": {
        "id": "O_FJgLnHoh-p"
      }
    },
    {
      "cell_type": "code",
      "source": [
        "RGB_B1_Set1 = table_B1Set1.drop(['H-ref','S-ref','V-ref','H-Shad','S-Shad','V-Shad','Setting','Ref','Shad','Img'], axis=1)"
      ],
      "metadata": {
        "id": "U6oEjDfooh-p"
      },
      "execution_count": 832,
      "outputs": []
    },
    {
      "cell_type": "code",
      "source": [
        "RGB_B1_Set2 = table_B1Set2"
      ],
      "metadata": {
        "id": "Bb4epOesoh-p"
      },
      "execution_count": 833,
      "outputs": []
    },
    {
      "cell_type": "code",
      "source": [
        "RGB_B1_Set3 = table_B1Set3"
      ],
      "metadata": {
        "id": "qy8kp3Nboh-p"
      },
      "execution_count": 834,
      "outputs": []
    },
    {
      "cell_type": "code",
      "source": [
        "RGB_B1_Set4 = table_B1Set4"
      ],
      "metadata": {
        "id": "XlcTxMVgoh-p"
      },
      "execution_count": 835,
      "outputs": []
    },
    {
      "cell_type": "code",
      "source": [
        "RGB_B1_concat0 = pd.concat([RGB_B1_Set2,RGB_B1_Set3])"
      ],
      "metadata": {
        "id": "KWbr2Cl0oh-p"
      },
      "execution_count": 836,
      "outputs": []
    },
    {
      "cell_type": "code",
      "source": [
        "RGB_B1_concat1 = pd.concat([RGB_B1_concat0,RGB_B1_Set4])"
      ],
      "metadata": {
        "id": "2TWJYS5toh-p"
      },
      "execution_count": 837,
      "outputs": []
    },
    {
      "cell_type": "code",
      "source": [
        "print(RGB_B1_concat1.columns)"
      ],
      "metadata": {
        "colab": {
          "base_uri": "https://localhost:8080/"
        },
        "outputId": "baaf8cdd-1d8b-4ded-edf6-b8c2ab99a1b9",
        "id": "NvdWJ-ZRoh-p"
      },
      "execution_count": 838,
      "outputs": [
        {
          "output_type": "stream",
          "name": "stdout",
          "text": [
            "Index(['R-ref', 'G-ref', 'B-ref', 'R-Shad', 'G-Shad', 'B-Shad', 'H-ref',\n",
            "       'S-ref', 'V-ref', 'H-Shad', 'S-Shad', 'V-Shad', 'Setting', 'Ref',\n",
            "       'Shad', 'Img'],\n",
            "      dtype='object')\n"
          ]
        }
      ]
    },
    {
      "cell_type": "code",
      "source": [
        "RGB_B1_concat2 = RGB_B1_concat1.drop(['H-ref','S-ref','V-ref','H-Shad','S-Shad','V-Shad','Setting','Ref','Shad','Img'], axis=1)"
      ],
      "metadata": {
        "id": "rFdgV2Gzoh-p"
      },
      "execution_count": 839,
      "outputs": []
    },
    {
      "cell_type": "code",
      "source": [
        "X_test_B1_RGB = np.array(RGB_B1_Set1)"
      ],
      "metadata": {
        "id": "w7GJ9Tckoh-p"
      },
      "execution_count": 840,
      "outputs": []
    },
    {
      "cell_type": "code",
      "source": [
        "y_B1_RGB =  table_B1Set1.iloc[:,14:15]"
      ],
      "metadata": {
        "id": "R1znsRQWoh-p"
      },
      "execution_count": 841,
      "outputs": []
    },
    {
      "cell_type": "code",
      "source": [
        "y_test_B1_RGB = np.array(y_B1_RGB)"
      ],
      "metadata": {
        "id": "jsKRNbKyoh-p"
      },
      "execution_count": 842,
      "outputs": []
    },
    {
      "cell_type": "code",
      "source": [
        "X_train_B1_RGB = np.array(RGB_B1_concat2)"
      ],
      "metadata": {
        "id": "Ts-lXxcnoh-q"
      },
      "execution_count": 843,
      "outputs": []
    },
    {
      "cell_type": "code",
      "source": [
        "y_train_B1RGB = RGB_B1_concat1.iloc[:,14:15]"
      ],
      "metadata": {
        "id": "W4aZ3hAdoh-q"
      },
      "execution_count": 844,
      "outputs": []
    },
    {
      "cell_type": "code",
      "source": [
        "y_train_B1_RGB = np.array(y_train_B1RGB)"
      ],
      "metadata": {
        "id": "ynpJaH-Voh-q"
      },
      "execution_count": 845,
      "outputs": []
    },
    {
      "cell_type": "code",
      "source": [
        "X_train_B1_RGB.shape"
      ],
      "metadata": {
        "colab": {
          "base_uri": "https://localhost:8080/"
        },
        "outputId": "68df5316-7f45-47b5-c2cf-b245b476182d",
        "id": "kMa2H2Cpoh-q"
      },
      "execution_count": 846,
      "outputs": [
        {
          "output_type": "execute_result",
          "data": {
            "text/plain": [
              "(2415, 6)"
            ]
          },
          "metadata": {},
          "execution_count": 846
        }
      ]
    },
    {
      "cell_type": "code",
      "source": [
        "y_train_B1_RGB.shape"
      ],
      "metadata": {
        "colab": {
          "base_uri": "https://localhost:8080/"
        },
        "outputId": "a6dca669-a342-42f4-bd3b-e26e7af2a68c",
        "id": "iGD7TWWXoh-q"
      },
      "execution_count": 847,
      "outputs": [
        {
          "output_type": "execute_result",
          "data": {
            "text/plain": [
              "(2415, 1)"
            ]
          },
          "metadata": {},
          "execution_count": 847
        }
      ]
    },
    {
      "cell_type": "code",
      "source": [
        "clf.fit(X_train_B1_RGB, y_train_B1_RGB)"
      ],
      "metadata": {
        "colab": {
          "base_uri": "https://localhost:8080/"
        },
        "outputId": "4732a429-af1e-451a-c4a0-ba51e3c555b2",
        "id": "ID-UOUcfoh-q"
      },
      "execution_count": 848,
      "outputs": [
        {
          "output_type": "stream",
          "name": "stderr",
          "text": [
            "/usr/local/lib/python3.7/dist-packages/ipykernel_launcher.py:1: DataConversionWarning: A column-vector y was passed when a 1d array was expected. Please change the shape of y to (n_samples,), for example using ravel().\n",
            "  \"\"\"Entry point for launching an IPython kernel.\n"
          ]
        },
        {
          "output_type": "execute_result",
          "data": {
            "text/plain": [
              "RandomForestClassifier()"
            ]
          },
          "metadata": {},
          "execution_count": 848
        }
      ]
    },
    {
      "cell_type": "code",
      "source": [
        "y_pred_B1_RGB = clf.predict(X_test_B1_RGB)"
      ],
      "metadata": {
        "id": "NaLy2DdCoh-q"
      },
      "execution_count": 849,
      "outputs": []
    },
    {
      "cell_type": "code",
      "source": [
        "print(\"Accuracy:\", metrics.accuracy_score(y_test_B1_RGB, y_pred_B1_RGB))"
      ],
      "metadata": {
        "colab": {
          "base_uri": "https://localhost:8080/"
        },
        "outputId": "39c61c10-9226-451c-dc06-33a0fe49a4a4",
        "id": "7ODrXbt8oh-q"
      },
      "execution_count": 850,
      "outputs": [
        {
          "output_type": "stream",
          "name": "stdout",
          "text": [
            "Accuracy: 0.9788819875776398\n"
          ]
        }
      ]
    },
    {
      "cell_type": "markdown",
      "source": [
        "###HSV"
      ],
      "metadata": {
        "id": "LqH-Neruoh-q"
      }
    },
    {
      "cell_type": "code",
      "source": [
        "HSV_B1_Set1 = table_B1Set1.drop(['R-ref','G-ref','B-ref','R-Shad','G-Shad','B-Shad','Setting','Ref','Shad','Img'], axis=1)"
      ],
      "metadata": {
        "id": "qRp-RtNMoh-q"
      },
      "execution_count": 851,
      "outputs": []
    },
    {
      "cell_type": "code",
      "source": [
        "HSV_B1_concat2 = RGB_B1_concat1.drop(['R-ref','G-ref','B-ref','R-Shad','G-Shad','B-Shad','Setting','Ref','Shad','Img'], axis=1)"
      ],
      "metadata": {
        "id": "k9OpSll3oh-r"
      },
      "execution_count": 852,
      "outputs": []
    },
    {
      "cell_type": "code",
      "source": [
        "X_test_B1_HSV = np.array(HSV_B1_Set1)"
      ],
      "metadata": {
        "id": "-CETjUEBoh-r"
      },
      "execution_count": 853,
      "outputs": []
    },
    {
      "cell_type": "code",
      "source": [
        "y_B1_HSV =  table_B1Set1.iloc[:,14:15]"
      ],
      "metadata": {
        "id": "PjRR4vyioh-r"
      },
      "execution_count": 854,
      "outputs": []
    },
    {
      "cell_type": "code",
      "source": [
        "y_test_B1_HSV = np.array(y_B1_RGB)"
      ],
      "metadata": {
        "id": "y5RnrM4Ioh-r"
      },
      "execution_count": 855,
      "outputs": []
    },
    {
      "cell_type": "code",
      "source": [
        "X_train_B1_HSV = np.array(HSV_B1_concat2)"
      ],
      "metadata": {
        "id": "wjcX6HYGoh-r"
      },
      "execution_count": 856,
      "outputs": []
    },
    {
      "cell_type": "code",
      "source": [
        "y_train_B1HSV = RGB_B1_concat1.iloc[:,14:15]"
      ],
      "metadata": {
        "id": "dXhgnBj5oh-r"
      },
      "execution_count": 857,
      "outputs": []
    },
    {
      "cell_type": "code",
      "source": [
        "y_train_B1_HSV = np.array(y_train_B1HSV)"
      ],
      "metadata": {
        "id": "HmO2ONBmoh-r"
      },
      "execution_count": 858,
      "outputs": []
    },
    {
      "cell_type": "code",
      "source": [
        "X_train_B1_HSV.shape"
      ],
      "metadata": {
        "colab": {
          "base_uri": "https://localhost:8080/"
        },
        "outputId": "76af7014-0c34-4a89-8d6f-224d7a373d05",
        "id": "N59y3zTOoh-r"
      },
      "execution_count": 859,
      "outputs": [
        {
          "output_type": "execute_result",
          "data": {
            "text/plain": [
              "(2415, 6)"
            ]
          },
          "metadata": {},
          "execution_count": 859
        }
      ]
    },
    {
      "cell_type": "code",
      "source": [
        "y_train_B1_HSV.shape"
      ],
      "metadata": {
        "colab": {
          "base_uri": "https://localhost:8080/"
        },
        "outputId": "c0e87a03-5352-490e-ce48-76017e4aa42e",
        "id": "Gm-y9V0noh-r"
      },
      "execution_count": 860,
      "outputs": [
        {
          "output_type": "execute_result",
          "data": {
            "text/plain": [
              "(2415, 1)"
            ]
          },
          "metadata": {},
          "execution_count": 860
        }
      ]
    },
    {
      "cell_type": "code",
      "source": [
        "clf.fit(X_train_B1_HSV, y_train_B1_HSV)"
      ],
      "metadata": {
        "colab": {
          "base_uri": "https://localhost:8080/"
        },
        "outputId": "1f9e7544-abe1-4f5c-8955-31dd53633a94",
        "id": "DnC3rvT9oh-r"
      },
      "execution_count": 861,
      "outputs": [
        {
          "output_type": "stream",
          "name": "stderr",
          "text": [
            "/usr/local/lib/python3.7/dist-packages/ipykernel_launcher.py:1: DataConversionWarning: A column-vector y was passed when a 1d array was expected. Please change the shape of y to (n_samples,), for example using ravel().\n",
            "  \"\"\"Entry point for launching an IPython kernel.\n"
          ]
        },
        {
          "output_type": "execute_result",
          "data": {
            "text/plain": [
              "RandomForestClassifier()"
            ]
          },
          "metadata": {},
          "execution_count": 861
        }
      ]
    },
    {
      "cell_type": "code",
      "source": [
        "y_pred_B1_HSV = clf.predict(X_test_B1_HSV)"
      ],
      "metadata": {
        "id": "Cg1T4HSdoh-r"
      },
      "execution_count": 862,
      "outputs": []
    },
    {
      "cell_type": "code",
      "source": [
        "print(\"Accuracy:\", metrics.accuracy_score(y_test_B1_HSV, y_pred_B1_HSV))"
      ],
      "metadata": {
        "colab": {
          "base_uri": "https://localhost:8080/"
        },
        "outputId": "6e2b9e3e-a230-48b9-81db-e9187ea83825",
        "id": "yMBJje_xoh-r"
      },
      "execution_count": 863,
      "outputs": [
        {
          "output_type": "stream",
          "name": "stdout",
          "text": [
            "Accuracy: 0.9788819875776398\n"
          ]
        }
      ]
    },
    {
      "cell_type": "markdown",
      "source": [
        "##B2"
      ],
      "metadata": {
        "id": "9NN_QqeCp0es"
      }
    },
    {
      "cell_type": "code",
      "source": [
        "table_B2Set1 = pd.read_excel(Set1 , sheet_name='B2Set1 ')\n",
        "table_B2Set1.head()"
      ],
      "metadata": {
        "colab": {
          "base_uri": "https://localhost:8080/",
          "height": 0
        },
        "outputId": "822bb6e3-2d90-4e79-f3a1-4729a23ac1c0",
        "id": "doMqM22lp0es"
      },
      "execution_count": 864,
      "outputs": [
        {
          "output_type": "execute_result",
          "data": {
            "text/html": [
              "\n",
              "  <div id=\"df-8c367800-f746-43b2-83ab-c247652ce391\">\n",
              "    <div class=\"colab-df-container\">\n",
              "      <div>\n",
              "<style scoped>\n",
              "    .dataframe tbody tr th:only-of-type {\n",
              "        vertical-align: middle;\n",
              "    }\n",
              "\n",
              "    .dataframe tbody tr th {\n",
              "        vertical-align: top;\n",
              "    }\n",
              "\n",
              "    .dataframe thead th {\n",
              "        text-align: right;\n",
              "    }\n",
              "</style>\n",
              "<table border=\"1\" class=\"dataframe\">\n",
              "  <thead>\n",
              "    <tr style=\"text-align: right;\">\n",
              "      <th></th>\n",
              "      <th>R-ref</th>\n",
              "      <th>G-ref</th>\n",
              "      <th>B-ref</th>\n",
              "      <th>R-Shad</th>\n",
              "      <th>G-Shad</th>\n",
              "      <th>B-Shad</th>\n",
              "      <th>H-ref</th>\n",
              "      <th>S-ref</th>\n",
              "      <th>V-ref</th>\n",
              "      <th>H-Shad</th>\n",
              "      <th>S-Shad</th>\n",
              "      <th>V-Shad</th>\n",
              "      <th>Setting</th>\n",
              "      <th>Ref</th>\n",
              "      <th>Shad</th>\n",
              "      <th>Img</th>\n",
              "    </tr>\n",
              "  </thead>\n",
              "  <tbody>\n",
              "    <tr>\n",
              "      <th>0</th>\n",
              "      <td>236.874709</td>\n",
              "      <td>224.246018</td>\n",
              "      <td>189.226204</td>\n",
              "      <td>230.156056</td>\n",
              "      <td>219.555185</td>\n",
              "      <td>186.043740</td>\n",
              "      <td>22.082653</td>\n",
              "      <td>51.388403</td>\n",
              "      <td>236.874709</td>\n",
              "      <td>22.631823</td>\n",
              "      <td>46.133908</td>\n",
              "      <td>234.095172</td>\n",
              "      <td>Set1</td>\n",
              "      <td>B2</td>\n",
              "      <td>A1</td>\n",
              "      <td>8844784E-18F2-4180-BD56-22527F5B506A.png</td>\n",
              "    </tr>\n",
              "    <tr>\n",
              "      <th>1</th>\n",
              "      <td>233.620047</td>\n",
              "      <td>221.292735</td>\n",
              "      <td>185.655789</td>\n",
              "      <td>226.263831</td>\n",
              "      <td>214.966732</td>\n",
              "      <td>180.068854</td>\n",
              "      <td>22.295552</td>\n",
              "      <td>52.415695</td>\n",
              "      <td>233.620047</td>\n",
              "      <td>22.735242</td>\n",
              "      <td>51.034659</td>\n",
              "      <td>230.566213</td>\n",
              "      <td>Set1</td>\n",
              "      <td>B2</td>\n",
              "      <td>A1</td>\n",
              "      <td>9B82482F-3CCB-4D36-88DF-53EE592260BA.png</td>\n",
              "    </tr>\n",
              "    <tr>\n",
              "      <th>2</th>\n",
              "      <td>237.811480</td>\n",
              "      <td>225.270882</td>\n",
              "      <td>190.323718</td>\n",
              "      <td>231.649152</td>\n",
              "      <td>220.802891</td>\n",
              "      <td>187.113799</td>\n",
              "      <td>22.090909</td>\n",
              "      <td>51.023116</td>\n",
              "      <td>237.811480</td>\n",
              "      <td>22.742934</td>\n",
              "      <td>46.486331</td>\n",
              "      <td>235.363266</td>\n",
              "      <td>Set1</td>\n",
              "      <td>B2</td>\n",
              "      <td>A1</td>\n",
              "      <td>EBE10373-8135-4270-894B-9887BE25C44D.png</td>\n",
              "    </tr>\n",
              "    <tr>\n",
              "      <th>3</th>\n",
              "      <td>236.552836</td>\n",
              "      <td>224.011752</td>\n",
              "      <td>188.282051</td>\n",
              "      <td>231.108331</td>\n",
              "      <td>219.994996</td>\n",
              "      <td>185.944213</td>\n",
              "      <td>22.189103</td>\n",
              "      <td>52.109751</td>\n",
              "      <td>236.552836</td>\n",
              "      <td>22.749884</td>\n",
              "      <td>47.167362</td>\n",
              "      <td>234.583727</td>\n",
              "      <td>Set1</td>\n",
              "      <td>B2</td>\n",
              "      <td>A1</td>\n",
              "      <td>E371B8FC-E57F-49E3-8AF4-9DF8FDBFA8F3.png</td>\n",
              "    </tr>\n",
              "    <tr>\n",
              "      <th>4</th>\n",
              "      <td>233.531080</td>\n",
              "      <td>221.732129</td>\n",
              "      <td>188.679779</td>\n",
              "      <td>226.969882</td>\n",
              "      <td>216.026782</td>\n",
              "      <td>182.714577</td>\n",
              "      <td>22.118395</td>\n",
              "      <td>49.023601</td>\n",
              "      <td>233.531080</td>\n",
              "      <td>22.805579</td>\n",
              "      <td>48.684089</td>\n",
              "      <td>230.967844</td>\n",
              "      <td>Set1</td>\n",
              "      <td>B2</td>\n",
              "      <td>A1</td>\n",
              "      <td>238A6F42-0DF6-424E-9279-99FE08A655A8.png</td>\n",
              "    </tr>\n",
              "  </tbody>\n",
              "</table>\n",
              "</div>\n",
              "      <button class=\"colab-df-convert\" onclick=\"convertToInteractive('df-8c367800-f746-43b2-83ab-c247652ce391')\"\n",
              "              title=\"Convert this dataframe to an interactive table.\"\n",
              "              style=\"display:none;\">\n",
              "        \n",
              "  <svg xmlns=\"http://www.w3.org/2000/svg\" height=\"24px\"viewBox=\"0 0 24 24\"\n",
              "       width=\"24px\">\n",
              "    <path d=\"M0 0h24v24H0V0z\" fill=\"none\"/>\n",
              "    <path d=\"M18.56 5.44l.94 2.06.94-2.06 2.06-.94-2.06-.94-.94-2.06-.94 2.06-2.06.94zm-11 1L8.5 8.5l.94-2.06 2.06-.94-2.06-.94L8.5 2.5l-.94 2.06-2.06.94zm10 10l.94 2.06.94-2.06 2.06-.94-2.06-.94-.94-2.06-.94 2.06-2.06.94z\"/><path d=\"M17.41 7.96l-1.37-1.37c-.4-.4-.92-.59-1.43-.59-.52 0-1.04.2-1.43.59L10.3 9.45l-7.72 7.72c-.78.78-.78 2.05 0 2.83L4 21.41c.39.39.9.59 1.41.59.51 0 1.02-.2 1.41-.59l7.78-7.78 2.81-2.81c.8-.78.8-2.07 0-2.86zM5.41 20L4 18.59l7.72-7.72 1.47 1.35L5.41 20z\"/>\n",
              "  </svg>\n",
              "      </button>\n",
              "      \n",
              "  <style>\n",
              "    .colab-df-container {\n",
              "      display:flex;\n",
              "      flex-wrap:wrap;\n",
              "      gap: 12px;\n",
              "    }\n",
              "\n",
              "    .colab-df-convert {\n",
              "      background-color: #E8F0FE;\n",
              "      border: none;\n",
              "      border-radius: 50%;\n",
              "      cursor: pointer;\n",
              "      display: none;\n",
              "      fill: #1967D2;\n",
              "      height: 32px;\n",
              "      padding: 0 0 0 0;\n",
              "      width: 32px;\n",
              "    }\n",
              "\n",
              "    .colab-df-convert:hover {\n",
              "      background-color: #E2EBFA;\n",
              "      box-shadow: 0px 1px 2px rgba(60, 64, 67, 0.3), 0px 1px 3px 1px rgba(60, 64, 67, 0.15);\n",
              "      fill: #174EA6;\n",
              "    }\n",
              "\n",
              "    [theme=dark] .colab-df-convert {\n",
              "      background-color: #3B4455;\n",
              "      fill: #D2E3FC;\n",
              "    }\n",
              "\n",
              "    [theme=dark] .colab-df-convert:hover {\n",
              "      background-color: #434B5C;\n",
              "      box-shadow: 0px 1px 3px 1px rgba(0, 0, 0, 0.15);\n",
              "      filter: drop-shadow(0px 1px 2px rgba(0, 0, 0, 0.3));\n",
              "      fill: #FFFFFF;\n",
              "    }\n",
              "  </style>\n",
              "\n",
              "      <script>\n",
              "        const buttonEl =\n",
              "          document.querySelector('#df-8c367800-f746-43b2-83ab-c247652ce391 button.colab-df-convert');\n",
              "        buttonEl.style.display =\n",
              "          google.colab.kernel.accessAllowed ? 'block' : 'none';\n",
              "\n",
              "        async function convertToInteractive(key) {\n",
              "          const element = document.querySelector('#df-8c367800-f746-43b2-83ab-c247652ce391');\n",
              "          const dataTable =\n",
              "            await google.colab.kernel.invokeFunction('convertToInteractive',\n",
              "                                                     [key], {});\n",
              "          if (!dataTable) return;\n",
              "\n",
              "          const docLinkHtml = 'Like what you see? Visit the ' +\n",
              "            '<a target=\"_blank\" href=https://colab.research.google.com/notebooks/data_table.ipynb>data table notebook</a>'\n",
              "            + ' to learn more about interactive tables.';\n",
              "          element.innerHTML = '';\n",
              "          dataTable['output_type'] = 'display_data';\n",
              "          await google.colab.output.renderOutput(dataTable, element);\n",
              "          const docLink = document.createElement('div');\n",
              "          docLink.innerHTML = docLinkHtml;\n",
              "          element.appendChild(docLink);\n",
              "        }\n",
              "      </script>\n",
              "    </div>\n",
              "  </div>\n",
              "  "
            ],
            "text/plain": [
              "        R-ref       G-ref  ...  Shad                                       Img\n",
              "0  236.874709  224.246018  ...    A1  8844784E-18F2-4180-BD56-22527F5B506A.png\n",
              "1  233.620047  221.292735  ...    A1  9B82482F-3CCB-4D36-88DF-53EE592260BA.png\n",
              "2  237.811480  225.270882  ...    A1  EBE10373-8135-4270-894B-9887BE25C44D.png\n",
              "3  236.552836  224.011752  ...    A1  E371B8FC-E57F-49E3-8AF4-9DF8FDBFA8F3.png\n",
              "4  233.531080  221.732129  ...    A1  238A6F42-0DF6-424E-9279-99FE08A655A8.png\n",
              "\n",
              "[5 rows x 16 columns]"
            ]
          },
          "metadata": {},
          "execution_count": 864
        }
      ]
    },
    {
      "cell_type": "code",
      "source": [
        "table_B2Set2 = pd.read_excel(Set2, sheet_name='B2Set2 ')\n",
        "table_B2Set2.head()"
      ],
      "metadata": {
        "colab": {
          "base_uri": "https://localhost:8080/",
          "height": 0
        },
        "outputId": "9804961a-110a-493f-db17-a74394ac7f7b",
        "id": "AQDou87Bp0et"
      },
      "execution_count": 865,
      "outputs": [
        {
          "output_type": "execute_result",
          "data": {
            "text/html": [
              "\n",
              "  <div id=\"df-a9017fdb-39cd-43be-ae7e-3cebbf66bbf8\">\n",
              "    <div class=\"colab-df-container\">\n",
              "      <div>\n",
              "<style scoped>\n",
              "    .dataframe tbody tr th:only-of-type {\n",
              "        vertical-align: middle;\n",
              "    }\n",
              "\n",
              "    .dataframe tbody tr th {\n",
              "        vertical-align: top;\n",
              "    }\n",
              "\n",
              "    .dataframe thead th {\n",
              "        text-align: right;\n",
              "    }\n",
              "</style>\n",
              "<table border=\"1\" class=\"dataframe\">\n",
              "  <thead>\n",
              "    <tr style=\"text-align: right;\">\n",
              "      <th></th>\n",
              "      <th>R-ref</th>\n",
              "      <th>G-ref</th>\n",
              "      <th>B-ref</th>\n",
              "      <th>R-Shad</th>\n",
              "      <th>G-Shad</th>\n",
              "      <th>B-Shad</th>\n",
              "      <th>H-ref</th>\n",
              "      <th>S-ref</th>\n",
              "      <th>V-ref</th>\n",
              "      <th>H-Shad</th>\n",
              "      <th>S-Shad</th>\n",
              "      <th>V-Shad</th>\n",
              "      <th>Setting</th>\n",
              "      <th>Ref</th>\n",
              "      <th>Shad</th>\n",
              "      <th>Img</th>\n",
              "    </tr>\n",
              "  </thead>\n",
              "  <tbody>\n",
              "    <tr>\n",
              "      <th>0</th>\n",
              "      <td>236.874709</td>\n",
              "      <td>224.246018</td>\n",
              "      <td>189.226204</td>\n",
              "      <td>230.156056</td>\n",
              "      <td>219.555185</td>\n",
              "      <td>186.043740</td>\n",
              "      <td>22.082653</td>\n",
              "      <td>51.388403</td>\n",
              "      <td>236.874709</td>\n",
              "      <td>22.723659</td>\n",
              "      <td>48.229636</td>\n",
              "      <td>231.396997</td>\n",
              "      <td>Set2</td>\n",
              "      <td>B2</td>\n",
              "      <td>A1</td>\n",
              "      <td>B1DA559A-D9F1-4AF3-8AF2-1244D61DE126.png</td>\n",
              "    </tr>\n",
              "    <tr>\n",
              "      <th>1</th>\n",
              "      <td>233.620047</td>\n",
              "      <td>221.292735</td>\n",
              "      <td>185.655789</td>\n",
              "      <td>226.263831</td>\n",
              "      <td>214.966732</td>\n",
              "      <td>180.068854</td>\n",
              "      <td>22.295552</td>\n",
              "      <td>52.415695</td>\n",
              "      <td>233.620047</td>\n",
              "      <td>22.702715</td>\n",
              "      <td>52.081549</td>\n",
              "      <td>227.834121</td>\n",
              "      <td>Set2</td>\n",
              "      <td>B2</td>\n",
              "      <td>A1</td>\n",
              "      <td>A92BD83A-0BC5-475A-806D-12AED89C8F25.png</td>\n",
              "    </tr>\n",
              "    <tr>\n",
              "      <th>2</th>\n",
              "      <td>237.811480</td>\n",
              "      <td>225.270882</td>\n",
              "      <td>190.323718</td>\n",
              "      <td>231.649152</td>\n",
              "      <td>220.802891</td>\n",
              "      <td>187.113799</td>\n",
              "      <td>22.090909</td>\n",
              "      <td>51.023116</td>\n",
              "      <td>237.811480</td>\n",
              "      <td>22.720971</td>\n",
              "      <td>48.397554</td>\n",
              "      <td>232.762117</td>\n",
              "      <td>Set2</td>\n",
              "      <td>B2</td>\n",
              "      <td>A1</td>\n",
              "      <td>3A2804B8-CBAC-40D4-9EC0-8EF3D3C52A9D.png</td>\n",
              "    </tr>\n",
              "    <tr>\n",
              "      <th>3</th>\n",
              "      <td>236.552836</td>\n",
              "      <td>224.011752</td>\n",
              "      <td>188.282051</td>\n",
              "      <td>231.108331</td>\n",
              "      <td>219.994996</td>\n",
              "      <td>185.944213</td>\n",
              "      <td>22.189103</td>\n",
              "      <td>52.109751</td>\n",
              "      <td>236.552836</td>\n",
              "      <td>22.714948</td>\n",
              "      <td>49.161616</td>\n",
              "      <td>232.234362</td>\n",
              "      <td>Set2</td>\n",
              "      <td>B2</td>\n",
              "      <td>A1</td>\n",
              "      <td>CFB4F284-CE02-4550-B81A-53E093EE4FBA.png</td>\n",
              "    </tr>\n",
              "    <tr>\n",
              "      <th>4</th>\n",
              "      <td>233.531080</td>\n",
              "      <td>221.732129</td>\n",
              "      <td>188.679779</td>\n",
              "      <td>226.969882</td>\n",
              "      <td>216.026782</td>\n",
              "      <td>182.714577</td>\n",
              "      <td>22.118395</td>\n",
              "      <td>49.023601</td>\n",
              "      <td>233.531080</td>\n",
              "      <td>22.632564</td>\n",
              "      <td>49.847002</td>\n",
              "      <td>228.466963</td>\n",
              "      <td>Set2</td>\n",
              "      <td>B2</td>\n",
              "      <td>A1</td>\n",
              "      <td>1A61C771-989D-4734-8138-2EC30D0E65DC.png</td>\n",
              "    </tr>\n",
              "  </tbody>\n",
              "</table>\n",
              "</div>\n",
              "      <button class=\"colab-df-convert\" onclick=\"convertToInteractive('df-a9017fdb-39cd-43be-ae7e-3cebbf66bbf8')\"\n",
              "              title=\"Convert this dataframe to an interactive table.\"\n",
              "              style=\"display:none;\">\n",
              "        \n",
              "  <svg xmlns=\"http://www.w3.org/2000/svg\" height=\"24px\"viewBox=\"0 0 24 24\"\n",
              "       width=\"24px\">\n",
              "    <path d=\"M0 0h24v24H0V0z\" fill=\"none\"/>\n",
              "    <path d=\"M18.56 5.44l.94 2.06.94-2.06 2.06-.94-2.06-.94-.94-2.06-.94 2.06-2.06.94zm-11 1L8.5 8.5l.94-2.06 2.06-.94-2.06-.94L8.5 2.5l-.94 2.06-2.06.94zm10 10l.94 2.06.94-2.06 2.06-.94-2.06-.94-.94-2.06-.94 2.06-2.06.94z\"/><path d=\"M17.41 7.96l-1.37-1.37c-.4-.4-.92-.59-1.43-.59-.52 0-1.04.2-1.43.59L10.3 9.45l-7.72 7.72c-.78.78-.78 2.05 0 2.83L4 21.41c.39.39.9.59 1.41.59.51 0 1.02-.2 1.41-.59l7.78-7.78 2.81-2.81c.8-.78.8-2.07 0-2.86zM5.41 20L4 18.59l7.72-7.72 1.47 1.35L5.41 20z\"/>\n",
              "  </svg>\n",
              "      </button>\n",
              "      \n",
              "  <style>\n",
              "    .colab-df-container {\n",
              "      display:flex;\n",
              "      flex-wrap:wrap;\n",
              "      gap: 12px;\n",
              "    }\n",
              "\n",
              "    .colab-df-convert {\n",
              "      background-color: #E8F0FE;\n",
              "      border: none;\n",
              "      border-radius: 50%;\n",
              "      cursor: pointer;\n",
              "      display: none;\n",
              "      fill: #1967D2;\n",
              "      height: 32px;\n",
              "      padding: 0 0 0 0;\n",
              "      width: 32px;\n",
              "    }\n",
              "\n",
              "    .colab-df-convert:hover {\n",
              "      background-color: #E2EBFA;\n",
              "      box-shadow: 0px 1px 2px rgba(60, 64, 67, 0.3), 0px 1px 3px 1px rgba(60, 64, 67, 0.15);\n",
              "      fill: #174EA6;\n",
              "    }\n",
              "\n",
              "    [theme=dark] .colab-df-convert {\n",
              "      background-color: #3B4455;\n",
              "      fill: #D2E3FC;\n",
              "    }\n",
              "\n",
              "    [theme=dark] .colab-df-convert:hover {\n",
              "      background-color: #434B5C;\n",
              "      box-shadow: 0px 1px 3px 1px rgba(0, 0, 0, 0.15);\n",
              "      filter: drop-shadow(0px 1px 2px rgba(0, 0, 0, 0.3));\n",
              "      fill: #FFFFFF;\n",
              "    }\n",
              "  </style>\n",
              "\n",
              "      <script>\n",
              "        const buttonEl =\n",
              "          document.querySelector('#df-a9017fdb-39cd-43be-ae7e-3cebbf66bbf8 button.colab-df-convert');\n",
              "        buttonEl.style.display =\n",
              "          google.colab.kernel.accessAllowed ? 'block' : 'none';\n",
              "\n",
              "        async function convertToInteractive(key) {\n",
              "          const element = document.querySelector('#df-a9017fdb-39cd-43be-ae7e-3cebbf66bbf8');\n",
              "          const dataTable =\n",
              "            await google.colab.kernel.invokeFunction('convertToInteractive',\n",
              "                                                     [key], {});\n",
              "          if (!dataTable) return;\n",
              "\n",
              "          const docLinkHtml = 'Like what you see? Visit the ' +\n",
              "            '<a target=\"_blank\" href=https://colab.research.google.com/notebooks/data_table.ipynb>data table notebook</a>'\n",
              "            + ' to learn more about interactive tables.';\n",
              "          element.innerHTML = '';\n",
              "          dataTable['output_type'] = 'display_data';\n",
              "          await google.colab.output.renderOutput(dataTable, element);\n",
              "          const docLink = document.createElement('div');\n",
              "          docLink.innerHTML = docLinkHtml;\n",
              "          element.appendChild(docLink);\n",
              "        }\n",
              "      </script>\n",
              "    </div>\n",
              "  </div>\n",
              "  "
            ],
            "text/plain": [
              "        R-ref       G-ref  ...  Shad                                       Img\n",
              "0  236.874709  224.246018  ...    A1  B1DA559A-D9F1-4AF3-8AF2-1244D61DE126.png\n",
              "1  233.620047  221.292735  ...    A1  A92BD83A-0BC5-475A-806D-12AED89C8F25.png\n",
              "2  237.811480  225.270882  ...    A1  3A2804B8-CBAC-40D4-9EC0-8EF3D3C52A9D.png\n",
              "3  236.552836  224.011752  ...    A1  CFB4F284-CE02-4550-B81A-53E093EE4FBA.png\n",
              "4  233.531080  221.732129  ...    A1  1A61C771-989D-4734-8138-2EC30D0E65DC.png\n",
              "\n",
              "[5 rows x 16 columns]"
            ]
          },
          "metadata": {},
          "execution_count": 865
        }
      ]
    },
    {
      "cell_type": "code",
      "source": [
        "table_B2Set3 = pd.read_excel(Set3, sheet_name='B2Set3  ')\n",
        "table_B2Set3.head()"
      ],
      "metadata": {
        "colab": {
          "base_uri": "https://localhost:8080/",
          "height": 0
        },
        "outputId": "be2a9186-46a0-44f2-ec34-4ef2a7f4e881",
        "id": "JMQjlJBOp0et"
      },
      "execution_count": 866,
      "outputs": [
        {
          "output_type": "execute_result",
          "data": {
            "text/html": [
              "\n",
              "  <div id=\"df-2e46a49b-e3a7-450b-acb3-a8f957f5b22c\">\n",
              "    <div class=\"colab-df-container\">\n",
              "      <div>\n",
              "<style scoped>\n",
              "    .dataframe tbody tr th:only-of-type {\n",
              "        vertical-align: middle;\n",
              "    }\n",
              "\n",
              "    .dataframe tbody tr th {\n",
              "        vertical-align: top;\n",
              "    }\n",
              "\n",
              "    .dataframe thead th {\n",
              "        text-align: right;\n",
              "    }\n",
              "</style>\n",
              "<table border=\"1\" class=\"dataframe\">\n",
              "  <thead>\n",
              "    <tr style=\"text-align: right;\">\n",
              "      <th></th>\n",
              "      <th>R-ref</th>\n",
              "      <th>G-ref</th>\n",
              "      <th>B-ref</th>\n",
              "      <th>R-Shad</th>\n",
              "      <th>G-Shad</th>\n",
              "      <th>B-Shad</th>\n",
              "      <th>H-ref</th>\n",
              "      <th>S-ref</th>\n",
              "      <th>V-ref</th>\n",
              "      <th>H-Shad</th>\n",
              "      <th>S-Shad</th>\n",
              "      <th>V-Shad</th>\n",
              "      <th>Setting</th>\n",
              "      <th>Ref</th>\n",
              "      <th>Shad</th>\n",
              "      <th>Img</th>\n",
              "    </tr>\n",
              "  </thead>\n",
              "  <tbody>\n",
              "    <tr>\n",
              "      <th>0</th>\n",
              "      <td>236.874709</td>\n",
              "      <td>224.246018</td>\n",
              "      <td>189.226204</td>\n",
              "      <td>230.156056</td>\n",
              "      <td>219.555185</td>\n",
              "      <td>186.043740</td>\n",
              "      <td>22.082653</td>\n",
              "      <td>51.388403</td>\n",
              "      <td>236.874709</td>\n",
              "      <td>22.043738</td>\n",
              "      <td>51.351611</td>\n",
              "      <td>236.877178</td>\n",
              "      <td>Set3</td>\n",
              "      <td>B2</td>\n",
              "      <td>A1</td>\n",
              "      <td>250FC647-07B6-4795-B3EF-E2E97F609E10.png</td>\n",
              "    </tr>\n",
              "    <tr>\n",
              "      <th>1</th>\n",
              "      <td>233.620047</td>\n",
              "      <td>221.292735</td>\n",
              "      <td>185.655789</td>\n",
              "      <td>226.263831</td>\n",
              "      <td>214.966732</td>\n",
              "      <td>180.068854</td>\n",
              "      <td>22.295552</td>\n",
              "      <td>52.415695</td>\n",
              "      <td>233.620047</td>\n",
              "      <td>22.205675</td>\n",
              "      <td>52.463907</td>\n",
              "      <td>233.870279</td>\n",
              "      <td>Set3</td>\n",
              "      <td>B2</td>\n",
              "      <td>A1</td>\n",
              "      <td>829D716F-ABCB-494F-942F-92D985E969FC.png</td>\n",
              "    </tr>\n",
              "    <tr>\n",
              "      <th>2</th>\n",
              "      <td>237.811480</td>\n",
              "      <td>225.270882</td>\n",
              "      <td>190.323718</td>\n",
              "      <td>231.649152</td>\n",
              "      <td>220.802891</td>\n",
              "      <td>187.113799</td>\n",
              "      <td>22.090909</td>\n",
              "      <td>51.023116</td>\n",
              "      <td>237.811480</td>\n",
              "      <td>22.124102</td>\n",
              "      <td>50.998151</td>\n",
              "      <td>237.948368</td>\n",
              "      <td>Set3</td>\n",
              "      <td>B2</td>\n",
              "      <td>A1</td>\n",
              "      <td>31E84E1C-8996-478A-8C5B-DEB651BD8B7B.png</td>\n",
              "    </tr>\n",
              "    <tr>\n",
              "      <th>3</th>\n",
              "      <td>236.552836</td>\n",
              "      <td>224.011752</td>\n",
              "      <td>188.282051</td>\n",
              "      <td>231.108331</td>\n",
              "      <td>219.994996</td>\n",
              "      <td>185.944213</td>\n",
              "      <td>22.189103</td>\n",
              "      <td>52.109751</td>\n",
              "      <td>236.552836</td>\n",
              "      <td>22.157172</td>\n",
              "      <td>52.162151</td>\n",
              "      <td>236.561553</td>\n",
              "      <td>Set3</td>\n",
              "      <td>B2</td>\n",
              "      <td>A1</td>\n",
              "      <td>1096FB39-AC69-47B0-A58C-D5EAF4178133.png</td>\n",
              "    </tr>\n",
              "    <tr>\n",
              "      <th>4</th>\n",
              "      <td>233.531080</td>\n",
              "      <td>221.732129</td>\n",
              "      <td>188.679779</td>\n",
              "      <td>226.969882</td>\n",
              "      <td>216.026782</td>\n",
              "      <td>182.714577</td>\n",
              "      <td>22.118395</td>\n",
              "      <td>49.023601</td>\n",
              "      <td>233.531080</td>\n",
              "      <td>22.067847</td>\n",
              "      <td>49.073181</td>\n",
              "      <td>233.713676</td>\n",
              "      <td>Set3</td>\n",
              "      <td>B2</td>\n",
              "      <td>A1</td>\n",
              "      <td>561D36AA-0D94-45A1-88BE-C705DA5140C7.png</td>\n",
              "    </tr>\n",
              "  </tbody>\n",
              "</table>\n",
              "</div>\n",
              "      <button class=\"colab-df-convert\" onclick=\"convertToInteractive('df-2e46a49b-e3a7-450b-acb3-a8f957f5b22c')\"\n",
              "              title=\"Convert this dataframe to an interactive table.\"\n",
              "              style=\"display:none;\">\n",
              "        \n",
              "  <svg xmlns=\"http://www.w3.org/2000/svg\" height=\"24px\"viewBox=\"0 0 24 24\"\n",
              "       width=\"24px\">\n",
              "    <path d=\"M0 0h24v24H0V0z\" fill=\"none\"/>\n",
              "    <path d=\"M18.56 5.44l.94 2.06.94-2.06 2.06-.94-2.06-.94-.94-2.06-.94 2.06-2.06.94zm-11 1L8.5 8.5l.94-2.06 2.06-.94-2.06-.94L8.5 2.5l-.94 2.06-2.06.94zm10 10l.94 2.06.94-2.06 2.06-.94-2.06-.94-.94-2.06-.94 2.06-2.06.94z\"/><path d=\"M17.41 7.96l-1.37-1.37c-.4-.4-.92-.59-1.43-.59-.52 0-1.04.2-1.43.59L10.3 9.45l-7.72 7.72c-.78.78-.78 2.05 0 2.83L4 21.41c.39.39.9.59 1.41.59.51 0 1.02-.2 1.41-.59l7.78-7.78 2.81-2.81c.8-.78.8-2.07 0-2.86zM5.41 20L4 18.59l7.72-7.72 1.47 1.35L5.41 20z\"/>\n",
              "  </svg>\n",
              "      </button>\n",
              "      \n",
              "  <style>\n",
              "    .colab-df-container {\n",
              "      display:flex;\n",
              "      flex-wrap:wrap;\n",
              "      gap: 12px;\n",
              "    }\n",
              "\n",
              "    .colab-df-convert {\n",
              "      background-color: #E8F0FE;\n",
              "      border: none;\n",
              "      border-radius: 50%;\n",
              "      cursor: pointer;\n",
              "      display: none;\n",
              "      fill: #1967D2;\n",
              "      height: 32px;\n",
              "      padding: 0 0 0 0;\n",
              "      width: 32px;\n",
              "    }\n",
              "\n",
              "    .colab-df-convert:hover {\n",
              "      background-color: #E2EBFA;\n",
              "      box-shadow: 0px 1px 2px rgba(60, 64, 67, 0.3), 0px 1px 3px 1px rgba(60, 64, 67, 0.15);\n",
              "      fill: #174EA6;\n",
              "    }\n",
              "\n",
              "    [theme=dark] .colab-df-convert {\n",
              "      background-color: #3B4455;\n",
              "      fill: #D2E3FC;\n",
              "    }\n",
              "\n",
              "    [theme=dark] .colab-df-convert:hover {\n",
              "      background-color: #434B5C;\n",
              "      box-shadow: 0px 1px 3px 1px rgba(0, 0, 0, 0.15);\n",
              "      filter: drop-shadow(0px 1px 2px rgba(0, 0, 0, 0.3));\n",
              "      fill: #FFFFFF;\n",
              "    }\n",
              "  </style>\n",
              "\n",
              "      <script>\n",
              "        const buttonEl =\n",
              "          document.querySelector('#df-2e46a49b-e3a7-450b-acb3-a8f957f5b22c button.colab-df-convert');\n",
              "        buttonEl.style.display =\n",
              "          google.colab.kernel.accessAllowed ? 'block' : 'none';\n",
              "\n",
              "        async function convertToInteractive(key) {\n",
              "          const element = document.querySelector('#df-2e46a49b-e3a7-450b-acb3-a8f957f5b22c');\n",
              "          const dataTable =\n",
              "            await google.colab.kernel.invokeFunction('convertToInteractive',\n",
              "                                                     [key], {});\n",
              "          if (!dataTable) return;\n",
              "\n",
              "          const docLinkHtml = 'Like what you see? Visit the ' +\n",
              "            '<a target=\"_blank\" href=https://colab.research.google.com/notebooks/data_table.ipynb>data table notebook</a>'\n",
              "            + ' to learn more about interactive tables.';\n",
              "          element.innerHTML = '';\n",
              "          dataTable['output_type'] = 'display_data';\n",
              "          await google.colab.output.renderOutput(dataTable, element);\n",
              "          const docLink = document.createElement('div');\n",
              "          docLink.innerHTML = docLinkHtml;\n",
              "          element.appendChild(docLink);\n",
              "        }\n",
              "      </script>\n",
              "    </div>\n",
              "  </div>\n",
              "  "
            ],
            "text/plain": [
              "        R-ref       G-ref  ...  Shad                                       Img\n",
              "0  236.874709  224.246018  ...    A1  250FC647-07B6-4795-B3EF-E2E97F609E10.png\n",
              "1  233.620047  221.292735  ...    A1  829D716F-ABCB-494F-942F-92D985E969FC.png\n",
              "2  237.811480  225.270882  ...    A1  31E84E1C-8996-478A-8C5B-DEB651BD8B7B.png\n",
              "3  236.552836  224.011752  ...    A1  1096FB39-AC69-47B0-A58C-D5EAF4178133.png\n",
              "4  233.531080  221.732129  ...    A1  561D36AA-0D94-45A1-88BE-C705DA5140C7.png\n",
              "\n",
              "[5 rows x 16 columns]"
            ]
          },
          "metadata": {},
          "execution_count": 866
        }
      ]
    },
    {
      "cell_type": "code",
      "source": [
        "table_B2Set4 = pd.read_excel(Set4, sheet_name='B2Set4')\n",
        "table_B2Set4.head()"
      ],
      "metadata": {
        "colab": {
          "base_uri": "https://localhost:8080/",
          "height": 0
        },
        "outputId": "0ca431b4-f1c1-449e-effa-98879da4c4a6",
        "id": "4-9tbmKWp0et"
      },
      "execution_count": 867,
      "outputs": [
        {
          "output_type": "execute_result",
          "data": {
            "text/html": [
              "\n",
              "  <div id=\"df-ac426848-034e-4473-8e08-785d3dcc480b\">\n",
              "    <div class=\"colab-df-container\">\n",
              "      <div>\n",
              "<style scoped>\n",
              "    .dataframe tbody tr th:only-of-type {\n",
              "        vertical-align: middle;\n",
              "    }\n",
              "\n",
              "    .dataframe tbody tr th {\n",
              "        vertical-align: top;\n",
              "    }\n",
              "\n",
              "    .dataframe thead th {\n",
              "        text-align: right;\n",
              "    }\n",
              "</style>\n",
              "<table border=\"1\" class=\"dataframe\">\n",
              "  <thead>\n",
              "    <tr style=\"text-align: right;\">\n",
              "      <th></th>\n",
              "      <th>R-ref</th>\n",
              "      <th>G-ref</th>\n",
              "      <th>B-ref</th>\n",
              "      <th>R-Shad</th>\n",
              "      <th>G-Shad</th>\n",
              "      <th>B-Shad</th>\n",
              "      <th>H-ref</th>\n",
              "      <th>S-ref</th>\n",
              "      <th>V-ref</th>\n",
              "      <th>H-Shad</th>\n",
              "      <th>S-Shad</th>\n",
              "      <th>V-Shad</th>\n",
              "      <th>Setting</th>\n",
              "      <th>Ref</th>\n",
              "      <th>Shad</th>\n",
              "      <th>Img</th>\n",
              "    </tr>\n",
              "  </thead>\n",
              "  <tbody>\n",
              "    <tr>\n",
              "      <th>0</th>\n",
              "      <td>234.592366</td>\n",
              "      <td>217.212024</td>\n",
              "      <td>175.886849</td>\n",
              "      <td>232.226022</td>\n",
              "      <td>218.809656</td>\n",
              "      <td>182.976925</td>\n",
              "      <td>21.482517</td>\n",
              "      <td>63.817113</td>\n",
              "      <td>234.592366</td>\n",
              "      <td>21.863219</td>\n",
              "      <td>54.122509</td>\n",
              "      <td>232.226022</td>\n",
              "      <td>Set4</td>\n",
              "      <td>B2</td>\n",
              "      <td>A1</td>\n",
              "      <td>5B0F9488-7F08-4BCE-A32E-55154984960A.png</td>\n",
              "    </tr>\n",
              "    <tr>\n",
              "      <th>1</th>\n",
              "      <td>232.555458</td>\n",
              "      <td>215.691822</td>\n",
              "      <td>174.076049</td>\n",
              "      <td>230.797887</td>\n",
              "      <td>217.391530</td>\n",
              "      <td>182.127606</td>\n",
              "      <td>21.618881</td>\n",
              "      <td>64.125389</td>\n",
              "      <td>232.555458</td>\n",
              "      <td>21.750070</td>\n",
              "      <td>53.808637</td>\n",
              "      <td>230.797887</td>\n",
              "      <td>Set4</td>\n",
              "      <td>B2</td>\n",
              "      <td>A1</td>\n",
              "      <td>0E6453D8-FF6B-407E-97CD-CD738C98FDF2.png</td>\n",
              "    </tr>\n",
              "    <tr>\n",
              "      <th>2</th>\n",
              "      <td>226.305750</td>\n",
              "      <td>210.198524</td>\n",
              "      <td>170.470960</td>\n",
              "      <td>225.185525</td>\n",
              "      <td>211.633584</td>\n",
              "      <td>175.871004</td>\n",
              "      <td>21.575855</td>\n",
              "      <td>62.879079</td>\n",
              "      <td>226.305750</td>\n",
              "      <td>21.810583</td>\n",
              "      <td>55.883236</td>\n",
              "      <td>225.185525</td>\n",
              "      <td>Set4</td>\n",
              "      <td>B2</td>\n",
              "      <td>A1</td>\n",
              "      <td>080A292F-0B63-4933-A09A-199874BA4870.png</td>\n",
              "    </tr>\n",
              "    <tr>\n",
              "      <th>3</th>\n",
              "      <td>225.616841</td>\n",
              "      <td>204.899087</td>\n",
              "      <td>161.657246</td>\n",
              "      <td>223.299787</td>\n",
              "      <td>205.777129</td>\n",
              "      <td>164.705403</td>\n",
              "      <td>20.190754</td>\n",
              "      <td>72.329157</td>\n",
              "      <td>225.616841</td>\n",
              "      <td>21.345380</td>\n",
              "      <td>66.961542</td>\n",
              "      <td>223.299787</td>\n",
              "      <td>Set4</td>\n",
              "      <td>B2</td>\n",
              "      <td>A1</td>\n",
              "      <td>3638FEC4-42D0-4824-AD26-F7E587220698.png</td>\n",
              "    </tr>\n",
              "    <tr>\n",
              "      <th>4</th>\n",
              "      <td>224.022339</td>\n",
              "      <td>203.058372</td>\n",
              "      <td>160.139277</td>\n",
              "      <td>222.210175</td>\n",
              "      <td>204.329256</td>\n",
              "      <td>164.973774</td>\n",
              "      <td>20.025253</td>\n",
              "      <td>72.760684</td>\n",
              "      <td>224.022339</td>\n",
              "      <td>20.790937</td>\n",
              "      <td>65.722269</td>\n",
              "      <td>222.210175</td>\n",
              "      <td>Set4</td>\n",
              "      <td>B2</td>\n",
              "      <td>A1</td>\n",
              "      <td>8D6E4CD1-034D-487B-80CB-3AE03EE1D093.png</td>\n",
              "    </tr>\n",
              "  </tbody>\n",
              "</table>\n",
              "</div>\n",
              "      <button class=\"colab-df-convert\" onclick=\"convertToInteractive('df-ac426848-034e-4473-8e08-785d3dcc480b')\"\n",
              "              title=\"Convert this dataframe to an interactive table.\"\n",
              "              style=\"display:none;\">\n",
              "        \n",
              "  <svg xmlns=\"http://www.w3.org/2000/svg\" height=\"24px\"viewBox=\"0 0 24 24\"\n",
              "       width=\"24px\">\n",
              "    <path d=\"M0 0h24v24H0V0z\" fill=\"none\"/>\n",
              "    <path d=\"M18.56 5.44l.94 2.06.94-2.06 2.06-.94-2.06-.94-.94-2.06-.94 2.06-2.06.94zm-11 1L8.5 8.5l.94-2.06 2.06-.94-2.06-.94L8.5 2.5l-.94 2.06-2.06.94zm10 10l.94 2.06.94-2.06 2.06-.94-2.06-.94-.94-2.06-.94 2.06-2.06.94z\"/><path d=\"M17.41 7.96l-1.37-1.37c-.4-.4-.92-.59-1.43-.59-.52 0-1.04.2-1.43.59L10.3 9.45l-7.72 7.72c-.78.78-.78 2.05 0 2.83L4 21.41c.39.39.9.59 1.41.59.51 0 1.02-.2 1.41-.59l7.78-7.78 2.81-2.81c.8-.78.8-2.07 0-2.86zM5.41 20L4 18.59l7.72-7.72 1.47 1.35L5.41 20z\"/>\n",
              "  </svg>\n",
              "      </button>\n",
              "      \n",
              "  <style>\n",
              "    .colab-df-container {\n",
              "      display:flex;\n",
              "      flex-wrap:wrap;\n",
              "      gap: 12px;\n",
              "    }\n",
              "\n",
              "    .colab-df-convert {\n",
              "      background-color: #E8F0FE;\n",
              "      border: none;\n",
              "      border-radius: 50%;\n",
              "      cursor: pointer;\n",
              "      display: none;\n",
              "      fill: #1967D2;\n",
              "      height: 32px;\n",
              "      padding: 0 0 0 0;\n",
              "      width: 32px;\n",
              "    }\n",
              "\n",
              "    .colab-df-convert:hover {\n",
              "      background-color: #E2EBFA;\n",
              "      box-shadow: 0px 1px 2px rgba(60, 64, 67, 0.3), 0px 1px 3px 1px rgba(60, 64, 67, 0.15);\n",
              "      fill: #174EA6;\n",
              "    }\n",
              "\n",
              "    [theme=dark] .colab-df-convert {\n",
              "      background-color: #3B4455;\n",
              "      fill: #D2E3FC;\n",
              "    }\n",
              "\n",
              "    [theme=dark] .colab-df-convert:hover {\n",
              "      background-color: #434B5C;\n",
              "      box-shadow: 0px 1px 3px 1px rgba(0, 0, 0, 0.15);\n",
              "      filter: drop-shadow(0px 1px 2px rgba(0, 0, 0, 0.3));\n",
              "      fill: #FFFFFF;\n",
              "    }\n",
              "  </style>\n",
              "\n",
              "      <script>\n",
              "        const buttonEl =\n",
              "          document.querySelector('#df-ac426848-034e-4473-8e08-785d3dcc480b button.colab-df-convert');\n",
              "        buttonEl.style.display =\n",
              "          google.colab.kernel.accessAllowed ? 'block' : 'none';\n",
              "\n",
              "        async function convertToInteractive(key) {\n",
              "          const element = document.querySelector('#df-ac426848-034e-4473-8e08-785d3dcc480b');\n",
              "          const dataTable =\n",
              "            await google.colab.kernel.invokeFunction('convertToInteractive',\n",
              "                                                     [key], {});\n",
              "          if (!dataTable) return;\n",
              "\n",
              "          const docLinkHtml = 'Like what you see? Visit the ' +\n",
              "            '<a target=\"_blank\" href=https://colab.research.google.com/notebooks/data_table.ipynb>data table notebook</a>'\n",
              "            + ' to learn more about interactive tables.';\n",
              "          element.innerHTML = '';\n",
              "          dataTable['output_type'] = 'display_data';\n",
              "          await google.colab.output.renderOutput(dataTable, element);\n",
              "          const docLink = document.createElement('div');\n",
              "          docLink.innerHTML = docLinkHtml;\n",
              "          element.appendChild(docLink);\n",
              "        }\n",
              "      </script>\n",
              "    </div>\n",
              "  </div>\n",
              "  "
            ],
            "text/plain": [
              "        R-ref       G-ref  ...  Shad                                       Img\n",
              "0  234.592366  217.212024  ...    A1  5B0F9488-7F08-4BCE-A32E-55154984960A.png\n",
              "1  232.555458  215.691822  ...    A1  0E6453D8-FF6B-407E-97CD-CD738C98FDF2.png\n",
              "2  226.305750  210.198524  ...    A1  080A292F-0B63-4933-A09A-199874BA4870.png\n",
              "3  225.616841  204.899087  ...    A1  3638FEC4-42D0-4824-AD26-F7E587220698.png\n",
              "4  224.022339  203.058372  ...    A1  8D6E4CD1-034D-487B-80CB-3AE03EE1D093.png\n",
              "\n",
              "[5 rows x 16 columns]"
            ]
          },
          "metadata": {},
          "execution_count": 867
        }
      ]
    },
    {
      "cell_type": "markdown",
      "source": [
        "###RGB"
      ],
      "metadata": {
        "id": "fISYhQjlp0et"
      }
    },
    {
      "cell_type": "code",
      "source": [
        "RGB_B2_Set1 = table_B2Set1.drop(['H-ref','S-ref','V-ref','H-Shad','S-Shad','V-Shad','Setting','Ref','Shad','Img'], axis=1)"
      ],
      "metadata": {
        "id": "iEZFoIqKp0et"
      },
      "execution_count": 868,
      "outputs": []
    },
    {
      "cell_type": "code",
      "source": [
        "RGB_B2_Set2 = table_B2Set2"
      ],
      "metadata": {
        "id": "OgUJ9Hj2p0et"
      },
      "execution_count": 869,
      "outputs": []
    },
    {
      "cell_type": "code",
      "source": [
        "RGB_B2_Set3 = table_B2Set3"
      ],
      "metadata": {
        "id": "w1xCq6LHp0et"
      },
      "execution_count": 870,
      "outputs": []
    },
    {
      "cell_type": "code",
      "source": [
        "RGB_B2_Set4 = table_B2Set4"
      ],
      "metadata": {
        "id": "qpA1UW7dp0eu"
      },
      "execution_count": 871,
      "outputs": []
    },
    {
      "cell_type": "code",
      "source": [
        "RGB_B2_concat0 = pd.concat([RGB_B2_Set2,RGB_B2_Set3])"
      ],
      "metadata": {
        "id": "oNGucrNap0eu"
      },
      "execution_count": 872,
      "outputs": []
    },
    {
      "cell_type": "code",
      "source": [
        "RGB_B2_concat1 = pd.concat([RGB_B2_concat0,RGB_B2_Set4])"
      ],
      "metadata": {
        "id": "Q7J_i4Vfp0eu"
      },
      "execution_count": 873,
      "outputs": []
    },
    {
      "cell_type": "code",
      "source": [
        "print(RGB_B2_concat1.columns)"
      ],
      "metadata": {
        "colab": {
          "base_uri": "https://localhost:8080/"
        },
        "outputId": "5f76d404-8960-446a-90df-fd60f484561e",
        "id": "kw-c5ukmp0eu"
      },
      "execution_count": 874,
      "outputs": [
        {
          "output_type": "stream",
          "name": "stdout",
          "text": [
            "Index(['R-ref', 'G-ref', 'B-ref', 'R-Shad', 'G-Shad', 'B-Shad', 'H-ref',\n",
            "       'S-ref', 'V-ref', 'H-Shad', 'S-Shad', 'V-Shad', 'Setting', 'Ref',\n",
            "       'Shad', 'Img'],\n",
            "      dtype='object')\n"
          ]
        }
      ]
    },
    {
      "cell_type": "code",
      "source": [
        "RGB_B2_concat2 = RGB_B2_concat1.drop(['H-ref','S-ref','V-ref','H-Shad','S-Shad','V-Shad','Setting','Ref','Shad','Img'], axis=1)"
      ],
      "metadata": {
        "id": "OGZ1uxtip0eu"
      },
      "execution_count": 875,
      "outputs": []
    },
    {
      "cell_type": "code",
      "source": [
        "X_test_B2_RGB = np.array(RGB_B2_Set1)"
      ],
      "metadata": {
        "id": "rcc7ihUcp0eu"
      },
      "execution_count": 876,
      "outputs": []
    },
    {
      "cell_type": "code",
      "source": [
        "y_B2_RGB =  table_B2Set1.iloc[:,14:15]"
      ],
      "metadata": {
        "id": "xtXVZfgQp0eu"
      },
      "execution_count": 877,
      "outputs": []
    },
    {
      "cell_type": "code",
      "source": [
        "y_test_B2_RGB = np.array(y_B2_RGB)"
      ],
      "metadata": {
        "id": "iDYlulqBp0eu"
      },
      "execution_count": 878,
      "outputs": []
    },
    {
      "cell_type": "code",
      "source": [
        "X_train_B2_RGB = np.array(RGB_B2_concat2)"
      ],
      "metadata": {
        "id": "Uf4RlAP5p0eu"
      },
      "execution_count": 879,
      "outputs": []
    },
    {
      "cell_type": "code",
      "source": [
        "y_train_B2RGB = RGB_B2_concat1.iloc[:,14:15]"
      ],
      "metadata": {
        "id": "-7OL72MSp0ev"
      },
      "execution_count": 880,
      "outputs": []
    },
    {
      "cell_type": "code",
      "source": [
        "y_train_B2_RGB = np.array(y_train_B2RGB)"
      ],
      "metadata": {
        "id": "UOscGSpMp0ev"
      },
      "execution_count": 881,
      "outputs": []
    },
    {
      "cell_type": "code",
      "source": [
        "X_train_B2_RGB.shape"
      ],
      "metadata": {
        "colab": {
          "base_uri": "https://localhost:8080/"
        },
        "outputId": "ce2ce6a8-890f-4cb0-e2ac-8a6e9ff59a18",
        "id": "2HbH70xwp0ev"
      },
      "execution_count": 882,
      "outputs": [
        {
          "output_type": "execute_result",
          "data": {
            "text/plain": [
              "(2415, 6)"
            ]
          },
          "metadata": {},
          "execution_count": 882
        }
      ]
    },
    {
      "cell_type": "code",
      "source": [
        "y_train_B2_RGB.shape"
      ],
      "metadata": {
        "colab": {
          "base_uri": "https://localhost:8080/"
        },
        "outputId": "88f42184-7e44-4185-ecc6-c52e235868fd",
        "id": "V14d_b57p0ev"
      },
      "execution_count": 883,
      "outputs": [
        {
          "output_type": "execute_result",
          "data": {
            "text/plain": [
              "(2415, 1)"
            ]
          },
          "metadata": {},
          "execution_count": 883
        }
      ]
    },
    {
      "cell_type": "code",
      "source": [
        "clf.fit(X_train_B2_RGB, y_train_B2_RGB)"
      ],
      "metadata": {
        "colab": {
          "base_uri": "https://localhost:8080/"
        },
        "outputId": "b9bf71a3-2735-4e29-901a-817a3a24e3ad",
        "id": "a-aOJ6sop0ev"
      },
      "execution_count": 884,
      "outputs": [
        {
          "output_type": "stream",
          "name": "stderr",
          "text": [
            "/usr/local/lib/python3.7/dist-packages/ipykernel_launcher.py:1: DataConversionWarning: A column-vector y was passed when a 1d array was expected. Please change the shape of y to (n_samples,), for example using ravel().\n",
            "  \"\"\"Entry point for launching an IPython kernel.\n"
          ]
        },
        {
          "output_type": "execute_result",
          "data": {
            "text/plain": [
              "RandomForestClassifier()"
            ]
          },
          "metadata": {},
          "execution_count": 884
        }
      ]
    },
    {
      "cell_type": "code",
      "source": [
        "y_pred_B2_RGB = clf.predict(X_test_B2_RGB)"
      ],
      "metadata": {
        "id": "bp7PF8XDp0ev"
      },
      "execution_count": 885,
      "outputs": []
    },
    {
      "cell_type": "code",
      "source": [
        "print(\"Accuracy:\", metrics.accuracy_score(y_test_B2_RGB, y_pred_B2_RGB))"
      ],
      "metadata": {
        "colab": {
          "base_uri": "https://localhost:8080/"
        },
        "outputId": "c1a6c8ee-57dc-4e2c-b4db-81e489a28503",
        "id": "pzqdbkN1p0ev"
      },
      "execution_count": 886,
      "outputs": [
        {
          "output_type": "stream",
          "name": "stdout",
          "text": [
            "Accuracy: 1.0\n"
          ]
        }
      ]
    },
    {
      "cell_type": "markdown",
      "source": [
        "###HSV"
      ],
      "metadata": {
        "id": "lMLcdIT5p0ev"
      }
    },
    {
      "cell_type": "code",
      "source": [
        "HSV_B2_Set1 = table_B2Set1.drop(['R-ref','G-ref','B-ref','R-Shad','G-Shad','B-Shad','Setting','Ref','Shad','Img'], axis=1)"
      ],
      "metadata": {
        "id": "2gsI1AQ0p0ev"
      },
      "execution_count": 887,
      "outputs": []
    },
    {
      "cell_type": "code",
      "source": [
        "HSV_B2_concat2 = RGB_B2_concat1.drop(['R-ref','G-ref','B-ref','R-Shad','G-Shad','B-Shad','Setting','Ref','Shad','Img'], axis=1)"
      ],
      "metadata": {
        "id": "pKW0df3rp0ew"
      },
      "execution_count": 888,
      "outputs": []
    },
    {
      "cell_type": "code",
      "source": [
        "X_test_B2_HSV = np.array(HSV_B2_Set1)"
      ],
      "metadata": {
        "id": "QDJKTswfp0ew"
      },
      "execution_count": 889,
      "outputs": []
    },
    {
      "cell_type": "code",
      "source": [
        "y_B2_HSV =  table_B2Set1.iloc[:,14:15]"
      ],
      "metadata": {
        "id": "-YAtMSidp0ew"
      },
      "execution_count": 890,
      "outputs": []
    },
    {
      "cell_type": "code",
      "source": [
        "y_test_B2_HSV = np.array(y_B2_RGB)"
      ],
      "metadata": {
        "id": "MSf7X-qPp0ew"
      },
      "execution_count": 891,
      "outputs": []
    },
    {
      "cell_type": "code",
      "source": [
        "X_train_B2_HSV = np.array(HSV_B2_concat2)"
      ],
      "metadata": {
        "id": "QD_HUbRxp0ew"
      },
      "execution_count": 892,
      "outputs": []
    },
    {
      "cell_type": "code",
      "source": [
        "y_train_B2HSV = RGB_B2_concat1.iloc[:,14:15]"
      ],
      "metadata": {
        "id": "2AHHkeYqp0ew"
      },
      "execution_count": 893,
      "outputs": []
    },
    {
      "cell_type": "code",
      "source": [
        "y_train_B2_HSV = np.array(y_train_B2HSV)"
      ],
      "metadata": {
        "id": "pWE1iXOjp0ew"
      },
      "execution_count": 894,
      "outputs": []
    },
    {
      "cell_type": "code",
      "source": [
        "X_train_B2_HSV.shape"
      ],
      "metadata": {
        "colab": {
          "base_uri": "https://localhost:8080/"
        },
        "outputId": "15522771-9a0b-44e9-f139-ce124b6397b8",
        "id": "PCBc1eILp0ew"
      },
      "execution_count": 895,
      "outputs": [
        {
          "output_type": "execute_result",
          "data": {
            "text/plain": [
              "(2415, 6)"
            ]
          },
          "metadata": {},
          "execution_count": 895
        }
      ]
    },
    {
      "cell_type": "code",
      "source": [
        "y_train_B2_HSV.shape"
      ],
      "metadata": {
        "colab": {
          "base_uri": "https://localhost:8080/"
        },
        "outputId": "c28e8dea-3d52-4006-e6db-a572c07ddb64",
        "id": "COl5P2DZp0ew"
      },
      "execution_count": 896,
      "outputs": [
        {
          "output_type": "execute_result",
          "data": {
            "text/plain": [
              "(2415, 1)"
            ]
          },
          "metadata": {},
          "execution_count": 896
        }
      ]
    },
    {
      "cell_type": "code",
      "source": [
        "clf.fit(X_train_B2_HSV, y_train_B2_HSV)"
      ],
      "metadata": {
        "colab": {
          "base_uri": "https://localhost:8080/"
        },
        "outputId": "0ac284d7-9319-4963-fc03-a4b14f25cb21",
        "id": "y21hMmlHp0ew"
      },
      "execution_count": 897,
      "outputs": [
        {
          "output_type": "stream",
          "name": "stderr",
          "text": [
            "/usr/local/lib/python3.7/dist-packages/ipykernel_launcher.py:1: DataConversionWarning: A column-vector y was passed when a 1d array was expected. Please change the shape of y to (n_samples,), for example using ravel().\n",
            "  \"\"\"Entry point for launching an IPython kernel.\n"
          ]
        },
        {
          "output_type": "execute_result",
          "data": {
            "text/plain": [
              "RandomForestClassifier()"
            ]
          },
          "metadata": {},
          "execution_count": 897
        }
      ]
    },
    {
      "cell_type": "code",
      "source": [
        "y_pred_B2_HSV = clf.predict(X_test_B2_HSV)"
      ],
      "metadata": {
        "id": "avnCdEk0p0ex"
      },
      "execution_count": 898,
      "outputs": []
    },
    {
      "cell_type": "code",
      "source": [
        "print(\"Accuracy:\", metrics.accuracy_score(y_test_B2_HSV, y_pred_B2_HSV))"
      ],
      "metadata": {
        "colab": {
          "base_uri": "https://localhost:8080/"
        },
        "outputId": "1ffba3c7-8eaf-49fd-d13f-3e1174148308",
        "id": "U6LBXCvgp0ex"
      },
      "execution_count": 899,
      "outputs": [
        {
          "output_type": "stream",
          "name": "stdout",
          "text": [
            "Accuracy: 1.0\n"
          ]
        }
      ]
    },
    {
      "cell_type": "markdown",
      "source": [
        "##B3"
      ],
      "metadata": {
        "id": "fFNlFx5qsHOQ"
      }
    },
    {
      "cell_type": "code",
      "source": [
        "table_B3Set1 = pd.read_excel(Set1 , sheet_name='B3Set1 ')\n",
        "table_B3Set1.head()"
      ],
      "metadata": {
        "colab": {
          "base_uri": "https://localhost:8080/",
          "height": 0
        },
        "outputId": "f2f46e10-55d3-4b2a-b866-de93cb5d3bba",
        "id": "R3t_fo44sHOR"
      },
      "execution_count": 900,
      "outputs": [
        {
          "output_type": "execute_result",
          "data": {
            "text/html": [
              "\n",
              "  <div id=\"df-29561617-3695-4bdf-9b77-0d704c383071\">\n",
              "    <div class=\"colab-df-container\">\n",
              "      <div>\n",
              "<style scoped>\n",
              "    .dataframe tbody tr th:only-of-type {\n",
              "        vertical-align: middle;\n",
              "    }\n",
              "\n",
              "    .dataframe tbody tr th {\n",
              "        vertical-align: top;\n",
              "    }\n",
              "\n",
              "    .dataframe thead th {\n",
              "        text-align: right;\n",
              "    }\n",
              "</style>\n",
              "<table border=\"1\" class=\"dataframe\">\n",
              "  <thead>\n",
              "    <tr style=\"text-align: right;\">\n",
              "      <th></th>\n",
              "      <th>R-ref</th>\n",
              "      <th>G-ref</th>\n",
              "      <th>B-ref</th>\n",
              "      <th>R-Shad</th>\n",
              "      <th>G-Shad</th>\n",
              "      <th>B-Shad</th>\n",
              "      <th>H-ref</th>\n",
              "      <th>S-ref</th>\n",
              "      <th>V-ref</th>\n",
              "      <th>H-Shad</th>\n",
              "      <th>S-Shad</th>\n",
              "      <th>V-Shad</th>\n",
              "      <th>Setting</th>\n",
              "      <th>Ref</th>\n",
              "      <th>Shad</th>\n",
              "      <th>Img</th>\n",
              "    </tr>\n",
              "  </thead>\n",
              "  <tbody>\n",
              "    <tr>\n",
              "      <th>0</th>\n",
              "      <td>236.874709</td>\n",
              "      <td>224.246018</td>\n",
              "      <td>189.226204</td>\n",
              "      <td>230.156056</td>\n",
              "      <td>219.555185</td>\n",
              "      <td>186.043740</td>\n",
              "      <td>22.082653</td>\n",
              "      <td>51.388403</td>\n",
              "      <td>236.874709</td>\n",
              "      <td>22.702345</td>\n",
              "      <td>47.224076</td>\n",
              "      <td>232.799926</td>\n",
              "      <td>Set1</td>\n",
              "      <td>B3</td>\n",
              "      <td>A1</td>\n",
              "      <td>768ECDBF-055D-4AF1-9FB6-59F1D54C18F2.png</td>\n",
              "    </tr>\n",
              "    <tr>\n",
              "      <th>1</th>\n",
              "      <td>233.620047</td>\n",
              "      <td>221.292735</td>\n",
              "      <td>185.655789</td>\n",
              "      <td>226.263831</td>\n",
              "      <td>214.966732</td>\n",
              "      <td>180.068854</td>\n",
              "      <td>22.295552</td>\n",
              "      <td>52.415695</td>\n",
              "      <td>233.620047</td>\n",
              "      <td>22.704383</td>\n",
              "      <td>51.548698</td>\n",
              "      <td>229.251877</td>\n",
              "      <td>Set1</td>\n",
              "      <td>B3</td>\n",
              "      <td>A1</td>\n",
              "      <td>A2B09945-ABB4-4B6C-8880-C0859637306B.png</td>\n",
              "    </tr>\n",
              "    <tr>\n",
              "      <th>2</th>\n",
              "      <td>237.811480</td>\n",
              "      <td>225.270882</td>\n",
              "      <td>190.323718</td>\n",
              "      <td>231.649152</td>\n",
              "      <td>220.802891</td>\n",
              "      <td>187.113799</td>\n",
              "      <td>22.090909</td>\n",
              "      <td>51.023116</td>\n",
              "      <td>237.811480</td>\n",
              "      <td>22.767028</td>\n",
              "      <td>47.479474</td>\n",
              "      <td>234.022889</td>\n",
              "      <td>Set1</td>\n",
              "      <td>B3</td>\n",
              "      <td>A1</td>\n",
              "      <td>5C57C433-024F-4E4A-B661-2A33A270EE9D.png</td>\n",
              "    </tr>\n",
              "    <tr>\n",
              "      <th>3</th>\n",
              "      <td>236.552836</td>\n",
              "      <td>224.011752</td>\n",
              "      <td>188.282051</td>\n",
              "      <td>231.108331</td>\n",
              "      <td>219.994996</td>\n",
              "      <td>185.944213</td>\n",
              "      <td>22.189103</td>\n",
              "      <td>52.109751</td>\n",
              "      <td>236.552836</td>\n",
              "      <td>22.746826</td>\n",
              "      <td>48.227597</td>\n",
              "      <td>233.444166</td>\n",
              "      <td>Set1</td>\n",
              "      <td>B3</td>\n",
              "      <td>A1</td>\n",
              "      <td>6D8E199E-9FF6-46BF-A7CA-D491A179F0EB.png</td>\n",
              "    </tr>\n",
              "    <tr>\n",
              "      <th>4</th>\n",
              "      <td>233.531080</td>\n",
              "      <td>221.732129</td>\n",
              "      <td>188.679779</td>\n",
              "      <td>226.969882</td>\n",
              "      <td>216.026782</td>\n",
              "      <td>182.714577</td>\n",
              "      <td>22.118395</td>\n",
              "      <td>49.023601</td>\n",
              "      <td>233.531080</td>\n",
              "      <td>22.723659</td>\n",
              "      <td>49.397090</td>\n",
              "      <td>229.778241</td>\n",
              "      <td>Set1</td>\n",
              "      <td>B3</td>\n",
              "      <td>A1</td>\n",
              "      <td>09286B35-9904-4EE4-8AF2-92443DF8DA7D.png</td>\n",
              "    </tr>\n",
              "  </tbody>\n",
              "</table>\n",
              "</div>\n",
              "      <button class=\"colab-df-convert\" onclick=\"convertToInteractive('df-29561617-3695-4bdf-9b77-0d704c383071')\"\n",
              "              title=\"Convert this dataframe to an interactive table.\"\n",
              "              style=\"display:none;\">\n",
              "        \n",
              "  <svg xmlns=\"http://www.w3.org/2000/svg\" height=\"24px\"viewBox=\"0 0 24 24\"\n",
              "       width=\"24px\">\n",
              "    <path d=\"M0 0h24v24H0V0z\" fill=\"none\"/>\n",
              "    <path d=\"M18.56 5.44l.94 2.06.94-2.06 2.06-.94-2.06-.94-.94-2.06-.94 2.06-2.06.94zm-11 1L8.5 8.5l.94-2.06 2.06-.94-2.06-.94L8.5 2.5l-.94 2.06-2.06.94zm10 10l.94 2.06.94-2.06 2.06-.94-2.06-.94-.94-2.06-.94 2.06-2.06.94z\"/><path d=\"M17.41 7.96l-1.37-1.37c-.4-.4-.92-.59-1.43-.59-.52 0-1.04.2-1.43.59L10.3 9.45l-7.72 7.72c-.78.78-.78 2.05 0 2.83L4 21.41c.39.39.9.59 1.41.59.51 0 1.02-.2 1.41-.59l7.78-7.78 2.81-2.81c.8-.78.8-2.07 0-2.86zM5.41 20L4 18.59l7.72-7.72 1.47 1.35L5.41 20z\"/>\n",
              "  </svg>\n",
              "      </button>\n",
              "      \n",
              "  <style>\n",
              "    .colab-df-container {\n",
              "      display:flex;\n",
              "      flex-wrap:wrap;\n",
              "      gap: 12px;\n",
              "    }\n",
              "\n",
              "    .colab-df-convert {\n",
              "      background-color: #E8F0FE;\n",
              "      border: none;\n",
              "      border-radius: 50%;\n",
              "      cursor: pointer;\n",
              "      display: none;\n",
              "      fill: #1967D2;\n",
              "      height: 32px;\n",
              "      padding: 0 0 0 0;\n",
              "      width: 32px;\n",
              "    }\n",
              "\n",
              "    .colab-df-convert:hover {\n",
              "      background-color: #E2EBFA;\n",
              "      box-shadow: 0px 1px 2px rgba(60, 64, 67, 0.3), 0px 1px 3px 1px rgba(60, 64, 67, 0.15);\n",
              "      fill: #174EA6;\n",
              "    }\n",
              "\n",
              "    [theme=dark] .colab-df-convert {\n",
              "      background-color: #3B4455;\n",
              "      fill: #D2E3FC;\n",
              "    }\n",
              "\n",
              "    [theme=dark] .colab-df-convert:hover {\n",
              "      background-color: #434B5C;\n",
              "      box-shadow: 0px 1px 3px 1px rgba(0, 0, 0, 0.15);\n",
              "      filter: drop-shadow(0px 1px 2px rgba(0, 0, 0, 0.3));\n",
              "      fill: #FFFFFF;\n",
              "    }\n",
              "  </style>\n",
              "\n",
              "      <script>\n",
              "        const buttonEl =\n",
              "          document.querySelector('#df-29561617-3695-4bdf-9b77-0d704c383071 button.colab-df-convert');\n",
              "        buttonEl.style.display =\n",
              "          google.colab.kernel.accessAllowed ? 'block' : 'none';\n",
              "\n",
              "        async function convertToInteractive(key) {\n",
              "          const element = document.querySelector('#df-29561617-3695-4bdf-9b77-0d704c383071');\n",
              "          const dataTable =\n",
              "            await google.colab.kernel.invokeFunction('convertToInteractive',\n",
              "                                                     [key], {});\n",
              "          if (!dataTable) return;\n",
              "\n",
              "          const docLinkHtml = 'Like what you see? Visit the ' +\n",
              "            '<a target=\"_blank\" href=https://colab.research.google.com/notebooks/data_table.ipynb>data table notebook</a>'\n",
              "            + ' to learn more about interactive tables.';\n",
              "          element.innerHTML = '';\n",
              "          dataTable['output_type'] = 'display_data';\n",
              "          await google.colab.output.renderOutput(dataTable, element);\n",
              "          const docLink = document.createElement('div');\n",
              "          docLink.innerHTML = docLinkHtml;\n",
              "          element.appendChild(docLink);\n",
              "        }\n",
              "      </script>\n",
              "    </div>\n",
              "  </div>\n",
              "  "
            ],
            "text/plain": [
              "        R-ref       G-ref  ...  Shad                                       Img\n",
              "0  236.874709  224.246018  ...    A1  768ECDBF-055D-4AF1-9FB6-59F1D54C18F2.png\n",
              "1  233.620047  221.292735  ...    A1  A2B09945-ABB4-4B6C-8880-C0859637306B.png\n",
              "2  237.811480  225.270882  ...    A1  5C57C433-024F-4E4A-B661-2A33A270EE9D.png\n",
              "3  236.552836  224.011752  ...    A1  6D8E199E-9FF6-46BF-A7CA-D491A179F0EB.png\n",
              "4  233.531080  221.732129  ...    A1  09286B35-9904-4EE4-8AF2-92443DF8DA7D.png\n",
              "\n",
              "[5 rows x 16 columns]"
            ]
          },
          "metadata": {},
          "execution_count": 900
        }
      ]
    },
    {
      "cell_type": "code",
      "source": [
        "table_B3Set2 = pd.read_excel(Set2, sheet_name='B3Set2')\n",
        "table_B3Set2.head()"
      ],
      "metadata": {
        "colab": {
          "base_uri": "https://localhost:8080/",
          "height": 0
        },
        "outputId": "deb96cd1-ae60-4cca-93b0-304b7491c39c",
        "id": "Vzq7-CbHsHOR"
      },
      "execution_count": 901,
      "outputs": [
        {
          "output_type": "execute_result",
          "data": {
            "text/html": [
              "\n",
              "  <div id=\"df-3fa94173-af8d-432c-b7c1-d8250617e47d\">\n",
              "    <div class=\"colab-df-container\">\n",
              "      <div>\n",
              "<style scoped>\n",
              "    .dataframe tbody tr th:only-of-type {\n",
              "        vertical-align: middle;\n",
              "    }\n",
              "\n",
              "    .dataframe tbody tr th {\n",
              "        vertical-align: top;\n",
              "    }\n",
              "\n",
              "    .dataframe thead th {\n",
              "        text-align: right;\n",
              "    }\n",
              "</style>\n",
              "<table border=\"1\" class=\"dataframe\">\n",
              "  <thead>\n",
              "    <tr style=\"text-align: right;\">\n",
              "      <th></th>\n",
              "      <th>R-ref</th>\n",
              "      <th>G-ref</th>\n",
              "      <th>B-ref</th>\n",
              "      <th>R-Shad</th>\n",
              "      <th>G-Shad</th>\n",
              "      <th>B-Shad</th>\n",
              "      <th>H-ref</th>\n",
              "      <th>S-ref</th>\n",
              "      <th>V-ref</th>\n",
              "      <th>H-Shad</th>\n",
              "      <th>S-Shad</th>\n",
              "      <th>V-Shad</th>\n",
              "      <th>Setting</th>\n",
              "      <th>Ref</th>\n",
              "      <th>Shad</th>\n",
              "      <th>Img</th>\n",
              "    </tr>\n",
              "  </thead>\n",
              "  <tbody>\n",
              "    <tr>\n",
              "      <th>0</th>\n",
              "      <td>239.881605</td>\n",
              "      <td>224.382867</td>\n",
              "      <td>184.782343</td>\n",
              "      <td>237.870726</td>\n",
              "      <td>226.047169</td>\n",
              "      <td>191.662311</td>\n",
              "      <td>22.350848</td>\n",
              "      <td>49.578816</td>\n",
              "      <td>237.870911</td>\n",
              "      <td>22.350848</td>\n",
              "      <td>49.578816</td>\n",
              "      <td>237.870911</td>\n",
              "      <td>Set2</td>\n",
              "      <td>B3</td>\n",
              "      <td>A1</td>\n",
              "      <td>8E815009-4D5A-4F6E-B73E-3F02EEDF518E.png</td>\n",
              "    </tr>\n",
              "    <tr>\n",
              "      <th>1</th>\n",
              "      <td>238.117716</td>\n",
              "      <td>222.694736</td>\n",
              "      <td>183.378011</td>\n",
              "      <td>236.545455</td>\n",
              "      <td>224.692707</td>\n",
              "      <td>190.628209</td>\n",
              "      <td>22.235103</td>\n",
              "      <td>49.552312</td>\n",
              "      <td>236.545640</td>\n",
              "      <td>22.235103</td>\n",
              "      <td>49.552312</td>\n",
              "      <td>236.545640</td>\n",
              "      <td>Set2</td>\n",
              "      <td>B3</td>\n",
              "      <td>A1</td>\n",
              "      <td>71FB6161-2220-4F52-9DB9-988BEA1E6318.png</td>\n",
              "    </tr>\n",
              "    <tr>\n",
              "      <th>2</th>\n",
              "      <td>233.842075</td>\n",
              "      <td>216.756216</td>\n",
              "      <td>175.541764</td>\n",
              "      <td>232.444908</td>\n",
              "      <td>218.966268</td>\n",
              "      <td>183.376703</td>\n",
              "      <td>21.850802</td>\n",
              "      <td>53.875452</td>\n",
              "      <td>232.444908</td>\n",
              "      <td>21.850802</td>\n",
              "      <td>53.875452</td>\n",
              "      <td>232.444908</td>\n",
              "      <td>Set2</td>\n",
              "      <td>B3</td>\n",
              "      <td>A1</td>\n",
              "      <td>CE22D8CA-7FD1-4E9E-9A9A-6C3591E3B041.png</td>\n",
              "    </tr>\n",
              "    <tr>\n",
              "      <th>3</th>\n",
              "      <td>231.565365</td>\n",
              "      <td>211.148407</td>\n",
              "      <td>167.135198</td>\n",
              "      <td>230.084515</td>\n",
              "      <td>212.845890</td>\n",
              "      <td>171.679362</td>\n",
              "      <td>21.521731</td>\n",
              "      <td>64.779631</td>\n",
              "      <td>230.084515</td>\n",
              "      <td>21.521731</td>\n",
              "      <td>64.779631</td>\n",
              "      <td>230.084515</td>\n",
              "      <td>Set2</td>\n",
              "      <td>B3</td>\n",
              "      <td>A1</td>\n",
              "      <td>9311AA58-DD49-4827-BE81-DE9122D40F36.png</td>\n",
              "    </tr>\n",
              "    <tr>\n",
              "      <th>4</th>\n",
              "      <td>230.061772</td>\n",
              "      <td>209.351593</td>\n",
              "      <td>165.364413</td>\n",
              "      <td>228.915392</td>\n",
              "      <td>211.588917</td>\n",
              "      <td>171.301270</td>\n",
              "      <td>21.296358</td>\n",
              "      <td>64.190529</td>\n",
              "      <td>228.915392</td>\n",
              "      <td>21.296358</td>\n",
              "      <td>64.190529</td>\n",
              "      <td>228.915392</td>\n",
              "      <td>Set2</td>\n",
              "      <td>B3</td>\n",
              "      <td>A1</td>\n",
              "      <td>706F5A48-1CDB-468B-A380-D9DBE49855CB.png</td>\n",
              "    </tr>\n",
              "  </tbody>\n",
              "</table>\n",
              "</div>\n",
              "      <button class=\"colab-df-convert\" onclick=\"convertToInteractive('df-3fa94173-af8d-432c-b7c1-d8250617e47d')\"\n",
              "              title=\"Convert this dataframe to an interactive table.\"\n",
              "              style=\"display:none;\">\n",
              "        \n",
              "  <svg xmlns=\"http://www.w3.org/2000/svg\" height=\"24px\"viewBox=\"0 0 24 24\"\n",
              "       width=\"24px\">\n",
              "    <path d=\"M0 0h24v24H0V0z\" fill=\"none\"/>\n",
              "    <path d=\"M18.56 5.44l.94 2.06.94-2.06 2.06-.94-2.06-.94-.94-2.06-.94 2.06-2.06.94zm-11 1L8.5 8.5l.94-2.06 2.06-.94-2.06-.94L8.5 2.5l-.94 2.06-2.06.94zm10 10l.94 2.06.94-2.06 2.06-.94-2.06-.94-.94-2.06-.94 2.06-2.06.94z\"/><path d=\"M17.41 7.96l-1.37-1.37c-.4-.4-.92-.59-1.43-.59-.52 0-1.04.2-1.43.59L10.3 9.45l-7.72 7.72c-.78.78-.78 2.05 0 2.83L4 21.41c.39.39.9.59 1.41.59.51 0 1.02-.2 1.41-.59l7.78-7.78 2.81-2.81c.8-.78.8-2.07 0-2.86zM5.41 20L4 18.59l7.72-7.72 1.47 1.35L5.41 20z\"/>\n",
              "  </svg>\n",
              "      </button>\n",
              "      \n",
              "  <style>\n",
              "    .colab-df-container {\n",
              "      display:flex;\n",
              "      flex-wrap:wrap;\n",
              "      gap: 12px;\n",
              "    }\n",
              "\n",
              "    .colab-df-convert {\n",
              "      background-color: #E8F0FE;\n",
              "      border: none;\n",
              "      border-radius: 50%;\n",
              "      cursor: pointer;\n",
              "      display: none;\n",
              "      fill: #1967D2;\n",
              "      height: 32px;\n",
              "      padding: 0 0 0 0;\n",
              "      width: 32px;\n",
              "    }\n",
              "\n",
              "    .colab-df-convert:hover {\n",
              "      background-color: #E2EBFA;\n",
              "      box-shadow: 0px 1px 2px rgba(60, 64, 67, 0.3), 0px 1px 3px 1px rgba(60, 64, 67, 0.15);\n",
              "      fill: #174EA6;\n",
              "    }\n",
              "\n",
              "    [theme=dark] .colab-df-convert {\n",
              "      background-color: #3B4455;\n",
              "      fill: #D2E3FC;\n",
              "    }\n",
              "\n",
              "    [theme=dark] .colab-df-convert:hover {\n",
              "      background-color: #434B5C;\n",
              "      box-shadow: 0px 1px 3px 1px rgba(0, 0, 0, 0.15);\n",
              "      filter: drop-shadow(0px 1px 2px rgba(0, 0, 0, 0.3));\n",
              "      fill: #FFFFFF;\n",
              "    }\n",
              "  </style>\n",
              "\n",
              "      <script>\n",
              "        const buttonEl =\n",
              "          document.querySelector('#df-3fa94173-af8d-432c-b7c1-d8250617e47d button.colab-df-convert');\n",
              "        buttonEl.style.display =\n",
              "          google.colab.kernel.accessAllowed ? 'block' : 'none';\n",
              "\n",
              "        async function convertToInteractive(key) {\n",
              "          const element = document.querySelector('#df-3fa94173-af8d-432c-b7c1-d8250617e47d');\n",
              "          const dataTable =\n",
              "            await google.colab.kernel.invokeFunction('convertToInteractive',\n",
              "                                                     [key], {});\n",
              "          if (!dataTable) return;\n",
              "\n",
              "          const docLinkHtml = 'Like what you see? Visit the ' +\n",
              "            '<a target=\"_blank\" href=https://colab.research.google.com/notebooks/data_table.ipynb>data table notebook</a>'\n",
              "            + ' to learn more about interactive tables.';\n",
              "          element.innerHTML = '';\n",
              "          dataTable['output_type'] = 'display_data';\n",
              "          await google.colab.output.renderOutput(dataTable, element);\n",
              "          const docLink = document.createElement('div');\n",
              "          docLink.innerHTML = docLinkHtml;\n",
              "          element.appendChild(docLink);\n",
              "        }\n",
              "      </script>\n",
              "    </div>\n",
              "  </div>\n",
              "  "
            ],
            "text/plain": [
              "        R-ref       G-ref  ...  Shad                                       Img\n",
              "0  239.881605  224.382867  ...    A1  8E815009-4D5A-4F6E-B73E-3F02EEDF518E.png\n",
              "1  238.117716  222.694736  ...    A1  71FB6161-2220-4F52-9DB9-988BEA1E6318.png\n",
              "2  233.842075  216.756216  ...    A1  CE22D8CA-7FD1-4E9E-9A9A-6C3591E3B041.png\n",
              "3  231.565365  211.148407  ...    A1  9311AA58-DD49-4827-BE81-DE9122D40F36.png\n",
              "4  230.061772  209.351593  ...    A1  706F5A48-1CDB-468B-A380-D9DBE49855CB.png\n",
              "\n",
              "[5 rows x 16 columns]"
            ]
          },
          "metadata": {},
          "execution_count": 901
        }
      ]
    },
    {
      "cell_type": "code",
      "source": [
        "table_B3Set3 = pd.read_excel(Set3, sheet_name='B3Set3 ')\n",
        "table_B3Set3.head()"
      ],
      "metadata": {
        "colab": {
          "base_uri": "https://localhost:8080/",
          "height": 0
        },
        "outputId": "4a2206c5-395b-4558-f94e-dccfd3354c72",
        "id": "jUvh9gV0sHOR"
      },
      "execution_count": 902,
      "outputs": [
        {
          "output_type": "execute_result",
          "data": {
            "text/html": [
              "\n",
              "  <div id=\"df-b203b16e-1fd6-4fdd-a7e1-27d4080a45cb\">\n",
              "    <div class=\"colab-df-container\">\n",
              "      <div>\n",
              "<style scoped>\n",
              "    .dataframe tbody tr th:only-of-type {\n",
              "        vertical-align: middle;\n",
              "    }\n",
              "\n",
              "    .dataframe tbody tr th {\n",
              "        vertical-align: top;\n",
              "    }\n",
              "\n",
              "    .dataframe thead th {\n",
              "        text-align: right;\n",
              "    }\n",
              "</style>\n",
              "<table border=\"1\" class=\"dataframe\">\n",
              "  <thead>\n",
              "    <tr style=\"text-align: right;\">\n",
              "      <th></th>\n",
              "      <th>R-ref</th>\n",
              "      <th>G-ref</th>\n",
              "      <th>B-ref</th>\n",
              "      <th>R-Shad</th>\n",
              "      <th>G-Shad</th>\n",
              "      <th>B-Shad</th>\n",
              "      <th>H-ref</th>\n",
              "      <th>S-ref</th>\n",
              "      <th>V-ref</th>\n",
              "      <th>H-Shad</th>\n",
              "      <th>S-Shad</th>\n",
              "      <th>V-Shad</th>\n",
              "      <th>Setting</th>\n",
              "      <th>Ref</th>\n",
              "      <th>Shad</th>\n",
              "      <th>Img</th>\n",
              "    </tr>\n",
              "  </thead>\n",
              "  <tbody>\n",
              "    <tr>\n",
              "      <th>0</th>\n",
              "      <td>239.730963</td>\n",
              "      <td>217.195319</td>\n",
              "      <td>159.489316</td>\n",
              "      <td>238.907886</td>\n",
              "      <td>224.672134</td>\n",
              "      <td>187.271986</td>\n",
              "      <td>21.541861</td>\n",
              "      <td>85.462121</td>\n",
              "      <td>239.730963</td>\n",
              "      <td>21.959411</td>\n",
              "      <td>53.125568</td>\n",
              "      <td>241.811788</td>\n",
              "      <td>Set3</td>\n",
              "      <td>B3</td>\n",
              "      <td>A1</td>\n",
              "      <td>D30CE1BD-7348-4D4B-8B2A-9CF508F40709.png</td>\n",
              "    </tr>\n",
              "    <tr>\n",
              "      <th>1</th>\n",
              "      <td>239.266414</td>\n",
              "      <td>216.745435</td>\n",
              "      <td>159.436772</td>\n",
              "      <td>238.759985</td>\n",
              "      <td>224.603373</td>\n",
              "      <td>187.611528</td>\n",
              "      <td>21.558372</td>\n",
              "      <td>85.166570</td>\n",
              "      <td>239.266414</td>\n",
              "      <td>21.871467</td>\n",
              "      <td>52.937911</td>\n",
              "      <td>241.746548</td>\n",
              "      <td>Set3</td>\n",
              "      <td>B3</td>\n",
              "      <td>A1</td>\n",
              "      <td>A3174F21-0003-438F-AB9B-C9E9E4403930.png</td>\n",
              "    </tr>\n",
              "    <tr>\n",
              "      <th>2</th>\n",
              "      <td>239.713869</td>\n",
              "      <td>217.283508</td>\n",
              "      <td>160.377137</td>\n",
              "      <td>238.615698</td>\n",
              "      <td>224.651839</td>\n",
              "      <td>187.685664</td>\n",
              "      <td>21.545843</td>\n",
              "      <td>84.513403</td>\n",
              "      <td>239.713869</td>\n",
              "      <td>21.955426</td>\n",
              "      <td>52.692614</td>\n",
              "      <td>241.606246</td>\n",
              "      <td>Set3</td>\n",
              "      <td>B3</td>\n",
              "      <td>A1</td>\n",
              "      <td>F6329A93-CE40-40BD-82AD-EE38250C7659.png</td>\n",
              "    </tr>\n",
              "    <tr>\n",
              "      <th>3</th>\n",
              "      <td>239.313326</td>\n",
              "      <td>216.689200</td>\n",
              "      <td>159.936189</td>\n",
              "      <td>238.952924</td>\n",
              "      <td>224.485497</td>\n",
              "      <td>187.712816</td>\n",
              "      <td>21.514180</td>\n",
              "      <td>84.670746</td>\n",
              "      <td>239.313326</td>\n",
              "      <td>21.837642</td>\n",
              "      <td>52.838569</td>\n",
              "      <td>241.901492</td>\n",
              "      <td>Set3</td>\n",
              "      <td>B3</td>\n",
              "      <td>A1</td>\n",
              "      <td>0EA3962C-C625-411B-83E6-FE457309A3FA.png</td>\n",
              "    </tr>\n",
              "    <tr>\n",
              "      <th>4</th>\n",
              "      <td>236.874709</td>\n",
              "      <td>224.246018</td>\n",
              "      <td>189.226204</td>\n",
              "      <td>230.156056</td>\n",
              "      <td>219.555185</td>\n",
              "      <td>186.043740</td>\n",
              "      <td>22.082653</td>\n",
              "      <td>51.388403</td>\n",
              "      <td>236.874709</td>\n",
              "      <td>22.723659</td>\n",
              "      <td>48.229636</td>\n",
              "      <td>231.396997</td>\n",
              "      <td>Set3</td>\n",
              "      <td>B3</td>\n",
              "      <td>A1</td>\n",
              "      <td>EC8C9E12-CC68-4397-BBD7-6F464DD8A7F6.png</td>\n",
              "    </tr>\n",
              "  </tbody>\n",
              "</table>\n",
              "</div>\n",
              "      <button class=\"colab-df-convert\" onclick=\"convertToInteractive('df-b203b16e-1fd6-4fdd-a7e1-27d4080a45cb')\"\n",
              "              title=\"Convert this dataframe to an interactive table.\"\n",
              "              style=\"display:none;\">\n",
              "        \n",
              "  <svg xmlns=\"http://www.w3.org/2000/svg\" height=\"24px\"viewBox=\"0 0 24 24\"\n",
              "       width=\"24px\">\n",
              "    <path d=\"M0 0h24v24H0V0z\" fill=\"none\"/>\n",
              "    <path d=\"M18.56 5.44l.94 2.06.94-2.06 2.06-.94-2.06-.94-.94-2.06-.94 2.06-2.06.94zm-11 1L8.5 8.5l.94-2.06 2.06-.94-2.06-.94L8.5 2.5l-.94 2.06-2.06.94zm10 10l.94 2.06.94-2.06 2.06-.94-2.06-.94-.94-2.06-.94 2.06-2.06.94z\"/><path d=\"M17.41 7.96l-1.37-1.37c-.4-.4-.92-.59-1.43-.59-.52 0-1.04.2-1.43.59L10.3 9.45l-7.72 7.72c-.78.78-.78 2.05 0 2.83L4 21.41c.39.39.9.59 1.41.59.51 0 1.02-.2 1.41-.59l7.78-7.78 2.81-2.81c.8-.78.8-2.07 0-2.86zM5.41 20L4 18.59l7.72-7.72 1.47 1.35L5.41 20z\"/>\n",
              "  </svg>\n",
              "      </button>\n",
              "      \n",
              "  <style>\n",
              "    .colab-df-container {\n",
              "      display:flex;\n",
              "      flex-wrap:wrap;\n",
              "      gap: 12px;\n",
              "    }\n",
              "\n",
              "    .colab-df-convert {\n",
              "      background-color: #E8F0FE;\n",
              "      border: none;\n",
              "      border-radius: 50%;\n",
              "      cursor: pointer;\n",
              "      display: none;\n",
              "      fill: #1967D2;\n",
              "      height: 32px;\n",
              "      padding: 0 0 0 0;\n",
              "      width: 32px;\n",
              "    }\n",
              "\n",
              "    .colab-df-convert:hover {\n",
              "      background-color: #E2EBFA;\n",
              "      box-shadow: 0px 1px 2px rgba(60, 64, 67, 0.3), 0px 1px 3px 1px rgba(60, 64, 67, 0.15);\n",
              "      fill: #174EA6;\n",
              "    }\n",
              "\n",
              "    [theme=dark] .colab-df-convert {\n",
              "      background-color: #3B4455;\n",
              "      fill: #D2E3FC;\n",
              "    }\n",
              "\n",
              "    [theme=dark] .colab-df-convert:hover {\n",
              "      background-color: #434B5C;\n",
              "      box-shadow: 0px 1px 3px 1px rgba(0, 0, 0, 0.15);\n",
              "      filter: drop-shadow(0px 1px 2px rgba(0, 0, 0, 0.3));\n",
              "      fill: #FFFFFF;\n",
              "    }\n",
              "  </style>\n",
              "\n",
              "      <script>\n",
              "        const buttonEl =\n",
              "          document.querySelector('#df-b203b16e-1fd6-4fdd-a7e1-27d4080a45cb button.colab-df-convert');\n",
              "        buttonEl.style.display =\n",
              "          google.colab.kernel.accessAllowed ? 'block' : 'none';\n",
              "\n",
              "        async function convertToInteractive(key) {\n",
              "          const element = document.querySelector('#df-b203b16e-1fd6-4fdd-a7e1-27d4080a45cb');\n",
              "          const dataTable =\n",
              "            await google.colab.kernel.invokeFunction('convertToInteractive',\n",
              "                                                     [key], {});\n",
              "          if (!dataTable) return;\n",
              "\n",
              "          const docLinkHtml = 'Like what you see? Visit the ' +\n",
              "            '<a target=\"_blank\" href=https://colab.research.google.com/notebooks/data_table.ipynb>data table notebook</a>'\n",
              "            + ' to learn more about interactive tables.';\n",
              "          element.innerHTML = '';\n",
              "          dataTable['output_type'] = 'display_data';\n",
              "          await google.colab.output.renderOutput(dataTable, element);\n",
              "          const docLink = document.createElement('div');\n",
              "          docLink.innerHTML = docLinkHtml;\n",
              "          element.appendChild(docLink);\n",
              "        }\n",
              "      </script>\n",
              "    </div>\n",
              "  </div>\n",
              "  "
            ],
            "text/plain": [
              "        R-ref       G-ref  ...  Shad                                       Img\n",
              "0  239.730963  217.195319  ...    A1  D30CE1BD-7348-4D4B-8B2A-9CF508F40709.png\n",
              "1  239.266414  216.745435  ...    A1  A3174F21-0003-438F-AB9B-C9E9E4403930.png\n",
              "2  239.713869  217.283508  ...    A1  F6329A93-CE40-40BD-82AD-EE38250C7659.png\n",
              "3  239.313326  216.689200  ...    A1  0EA3962C-C625-411B-83E6-FE457309A3FA.png\n",
              "4  236.874709  224.246018  ...    A1  EC8C9E12-CC68-4397-BBD7-6F464DD8A7F6.png\n",
              "\n",
              "[5 rows x 16 columns]"
            ]
          },
          "metadata": {},
          "execution_count": 902
        }
      ]
    },
    {
      "cell_type": "code",
      "source": [
        "table_B3Set4 = pd.read_excel(Set4, sheet_name='B3Set4')\n",
        "table_B3Set4.head()"
      ],
      "metadata": {
        "colab": {
          "base_uri": "https://localhost:8080/",
          "height": 0
        },
        "outputId": "fb458e32-8078-4c7e-9fe8-7bb286a5c74b",
        "id": "6VAhat_7sHOS"
      },
      "execution_count": 903,
      "outputs": [
        {
          "output_type": "execute_result",
          "data": {
            "text/html": [
              "\n",
              "  <div id=\"df-6a64bf11-531d-471c-95f3-513c5771e683\">\n",
              "    <div class=\"colab-df-container\">\n",
              "      <div>\n",
              "<style scoped>\n",
              "    .dataframe tbody tr th:only-of-type {\n",
              "        vertical-align: middle;\n",
              "    }\n",
              "\n",
              "    .dataframe tbody tr th {\n",
              "        vertical-align: top;\n",
              "    }\n",
              "\n",
              "    .dataframe thead th {\n",
              "        text-align: right;\n",
              "    }\n",
              "</style>\n",
              "<table border=\"1\" class=\"dataframe\">\n",
              "  <thead>\n",
              "    <tr style=\"text-align: right;\">\n",
              "      <th></th>\n",
              "      <th>R-ref</th>\n",
              "      <th>G-ref</th>\n",
              "      <th>B-ref</th>\n",
              "      <th>R-Shad</th>\n",
              "      <th>G-Shad</th>\n",
              "      <th>B-Shad</th>\n",
              "      <th>H-ref</th>\n",
              "      <th>S-ref</th>\n",
              "      <th>V-ref</th>\n",
              "      <th>H-Shad</th>\n",
              "      <th>S-Shad</th>\n",
              "      <th>V-Shad</th>\n",
              "      <th>Setting</th>\n",
              "      <th>Ref</th>\n",
              "      <th>Shad</th>\n",
              "      <th>Img</th>\n",
              "    </tr>\n",
              "  </thead>\n",
              "  <tbody>\n",
              "    <tr>\n",
              "      <th>0</th>\n",
              "      <td>238.081682</td>\n",
              "      <td>221.755051</td>\n",
              "      <td>181.142385</td>\n",
              "      <td>235.877861</td>\n",
              "      <td>223.403206</td>\n",
              "      <td>188.274488</td>\n",
              "      <td>21.704351</td>\n",
              "      <td>61.046814</td>\n",
              "      <td>238.081682</td>\n",
              "      <td>22.198221</td>\n",
              "      <td>51.493281</td>\n",
              "      <td>235.877861</td>\n",
              "      <td>Set4</td>\n",
              "      <td>B3</td>\n",
              "      <td>A1</td>\n",
              "      <td>5C22556A-CB1C-49A8-B0F9-3013F60CF097.png</td>\n",
              "    </tr>\n",
              "    <tr>\n",
              "      <th>1</th>\n",
              "      <td>235.952117</td>\n",
              "      <td>219.916764</td>\n",
              "      <td>179.500291</td>\n",
              "      <td>234.624780</td>\n",
              "      <td>222.123251</td>\n",
              "      <td>187.442591</td>\n",
              "      <td>21.683955</td>\n",
              "      <td>61.045940</td>\n",
              "      <td>235.952117</td>\n",
              "      <td>22.059587</td>\n",
              "      <td>51.317765</td>\n",
              "      <td>234.624780</td>\n",
              "      <td>Set4</td>\n",
              "      <td>B3</td>\n",
              "      <td>A1</td>\n",
              "      <td>AEB14259-1749-43ED-901D-F78CF34D6098.png</td>\n",
              "    </tr>\n",
              "    <tr>\n",
              "      <th>2</th>\n",
              "      <td>232.103632</td>\n",
              "      <td>215.131022</td>\n",
              "      <td>174.147533</td>\n",
              "      <td>230.502548</td>\n",
              "      <td>216.921416</td>\n",
              "      <td>181.024928</td>\n",
              "      <td>21.521950</td>\n",
              "      <td>63.663559</td>\n",
              "      <td>232.103632</td>\n",
              "      <td>21.845149</td>\n",
              "      <td>54.783060</td>\n",
              "      <td>230.502548</td>\n",
              "      <td>Set4</td>\n",
              "      <td>B3</td>\n",
              "      <td>A1</td>\n",
              "      <td>0D6EAE6C-73F2-4F11-86DF-9A77825BE847.png</td>\n",
              "    </tr>\n",
              "    <tr>\n",
              "      <th>3</th>\n",
              "      <td>229.841492</td>\n",
              "      <td>209.444444</td>\n",
              "      <td>165.517483</td>\n",
              "      <td>228.251135</td>\n",
              "      <td>210.763414</td>\n",
              "      <td>169.306274</td>\n",
              "      <td>20.311189</td>\n",
              "      <td>71.366647</td>\n",
              "      <td>229.841492</td>\n",
              "      <td>21.484292</td>\n",
              "      <td>65.896673</td>\n",
              "      <td>228.251135</td>\n",
              "      <td>Set4</td>\n",
              "      <td>B3</td>\n",
              "      <td>A1</td>\n",
              "      <td>214213DB-44A4-43C8-8270-BDECBDE6838F.png</td>\n",
              "    </tr>\n",
              "    <tr>\n",
              "      <th>4</th>\n",
              "      <td>228.368395</td>\n",
              "      <td>207.523019</td>\n",
              "      <td>163.672980</td>\n",
              "      <td>227.025021</td>\n",
              "      <td>209.357891</td>\n",
              "      <td>169.048559</td>\n",
              "      <td>20.087024</td>\n",
              "      <td>72.279138</td>\n",
              "      <td>228.368395</td>\n",
              "      <td>21.155407</td>\n",
              "      <td>65.139561</td>\n",
              "      <td>227.025021</td>\n",
              "      <td>Set4</td>\n",
              "      <td>B3</td>\n",
              "      <td>A1</td>\n",
              "      <td>28A87DF6-4327-4573-AB9A-73CB7077ED8E.png</td>\n",
              "    </tr>\n",
              "  </tbody>\n",
              "</table>\n",
              "</div>\n",
              "      <button class=\"colab-df-convert\" onclick=\"convertToInteractive('df-6a64bf11-531d-471c-95f3-513c5771e683')\"\n",
              "              title=\"Convert this dataframe to an interactive table.\"\n",
              "              style=\"display:none;\">\n",
              "        \n",
              "  <svg xmlns=\"http://www.w3.org/2000/svg\" height=\"24px\"viewBox=\"0 0 24 24\"\n",
              "       width=\"24px\">\n",
              "    <path d=\"M0 0h24v24H0V0z\" fill=\"none\"/>\n",
              "    <path d=\"M18.56 5.44l.94 2.06.94-2.06 2.06-.94-2.06-.94-.94-2.06-.94 2.06-2.06.94zm-11 1L8.5 8.5l.94-2.06 2.06-.94-2.06-.94L8.5 2.5l-.94 2.06-2.06.94zm10 10l.94 2.06.94-2.06 2.06-.94-2.06-.94-.94-2.06-.94 2.06-2.06.94z\"/><path d=\"M17.41 7.96l-1.37-1.37c-.4-.4-.92-.59-1.43-.59-.52 0-1.04.2-1.43.59L10.3 9.45l-7.72 7.72c-.78.78-.78 2.05 0 2.83L4 21.41c.39.39.9.59 1.41.59.51 0 1.02-.2 1.41-.59l7.78-7.78 2.81-2.81c.8-.78.8-2.07 0-2.86zM5.41 20L4 18.59l7.72-7.72 1.47 1.35L5.41 20z\"/>\n",
              "  </svg>\n",
              "      </button>\n",
              "      \n",
              "  <style>\n",
              "    .colab-df-container {\n",
              "      display:flex;\n",
              "      flex-wrap:wrap;\n",
              "      gap: 12px;\n",
              "    }\n",
              "\n",
              "    .colab-df-convert {\n",
              "      background-color: #E8F0FE;\n",
              "      border: none;\n",
              "      border-radius: 50%;\n",
              "      cursor: pointer;\n",
              "      display: none;\n",
              "      fill: #1967D2;\n",
              "      height: 32px;\n",
              "      padding: 0 0 0 0;\n",
              "      width: 32px;\n",
              "    }\n",
              "\n",
              "    .colab-df-convert:hover {\n",
              "      background-color: #E2EBFA;\n",
              "      box-shadow: 0px 1px 2px rgba(60, 64, 67, 0.3), 0px 1px 3px 1px rgba(60, 64, 67, 0.15);\n",
              "      fill: #174EA6;\n",
              "    }\n",
              "\n",
              "    [theme=dark] .colab-df-convert {\n",
              "      background-color: #3B4455;\n",
              "      fill: #D2E3FC;\n",
              "    }\n",
              "\n",
              "    [theme=dark] .colab-df-convert:hover {\n",
              "      background-color: #434B5C;\n",
              "      box-shadow: 0px 1px 3px 1px rgba(0, 0, 0, 0.15);\n",
              "      filter: drop-shadow(0px 1px 2px rgba(0, 0, 0, 0.3));\n",
              "      fill: #FFFFFF;\n",
              "    }\n",
              "  </style>\n",
              "\n",
              "      <script>\n",
              "        const buttonEl =\n",
              "          document.querySelector('#df-6a64bf11-531d-471c-95f3-513c5771e683 button.colab-df-convert');\n",
              "        buttonEl.style.display =\n",
              "          google.colab.kernel.accessAllowed ? 'block' : 'none';\n",
              "\n",
              "        async function convertToInteractive(key) {\n",
              "          const element = document.querySelector('#df-6a64bf11-531d-471c-95f3-513c5771e683');\n",
              "          const dataTable =\n",
              "            await google.colab.kernel.invokeFunction('convertToInteractive',\n",
              "                                                     [key], {});\n",
              "          if (!dataTable) return;\n",
              "\n",
              "          const docLinkHtml = 'Like what you see? Visit the ' +\n",
              "            '<a target=\"_blank\" href=https://colab.research.google.com/notebooks/data_table.ipynb>data table notebook</a>'\n",
              "            + ' to learn more about interactive tables.';\n",
              "          element.innerHTML = '';\n",
              "          dataTable['output_type'] = 'display_data';\n",
              "          await google.colab.output.renderOutput(dataTable, element);\n",
              "          const docLink = document.createElement('div');\n",
              "          docLink.innerHTML = docLinkHtml;\n",
              "          element.appendChild(docLink);\n",
              "        }\n",
              "      </script>\n",
              "    </div>\n",
              "  </div>\n",
              "  "
            ],
            "text/plain": [
              "        R-ref       G-ref  ...  Shad                                       Img\n",
              "0  238.081682  221.755051  ...    A1  5C22556A-CB1C-49A8-B0F9-3013F60CF097.png\n",
              "1  235.952117  219.916764  ...    A1  AEB14259-1749-43ED-901D-F78CF34D6098.png\n",
              "2  232.103632  215.131022  ...    A1  0D6EAE6C-73F2-4F11-86DF-9A77825BE847.png\n",
              "3  229.841492  209.444444  ...    A1  214213DB-44A4-43C8-8270-BDECBDE6838F.png\n",
              "4  228.368395  207.523019  ...    A1  28A87DF6-4327-4573-AB9A-73CB7077ED8E.png\n",
              "\n",
              "[5 rows x 16 columns]"
            ]
          },
          "metadata": {},
          "execution_count": 903
        }
      ]
    },
    {
      "cell_type": "markdown",
      "source": [
        "###RGB"
      ],
      "metadata": {
        "id": "4njF_sDtsHOS"
      }
    },
    {
      "cell_type": "code",
      "source": [
        "RGB_B3_Set1 = table_B3Set1.drop(['H-ref','S-ref','V-ref','H-Shad','S-Shad','V-Shad','Setting','Ref','Shad','Img'], axis=1)"
      ],
      "metadata": {
        "id": "yqLZe8yvsHOS"
      },
      "execution_count": 904,
      "outputs": []
    },
    {
      "cell_type": "code",
      "source": [
        "RGB_B3_Set2 = table_B3Set2"
      ],
      "metadata": {
        "id": "QO9PuOA4sHOS"
      },
      "execution_count": 905,
      "outputs": []
    },
    {
      "cell_type": "code",
      "source": [
        "RGB_B3_Set3 = table_B3Set3"
      ],
      "metadata": {
        "id": "gzmOvHbXsHOS"
      },
      "execution_count": 906,
      "outputs": []
    },
    {
      "cell_type": "code",
      "source": [
        "RGB_B3_Set4 = table_B3Set4"
      ],
      "metadata": {
        "id": "NtEoW8ersHOS"
      },
      "execution_count": 907,
      "outputs": []
    },
    {
      "cell_type": "code",
      "source": [
        "RGB_B3_concat0 = pd.concat([RGB_B3_Set2,RGB_B3_Set3])"
      ],
      "metadata": {
        "id": "oJIOMQPxsHOS"
      },
      "execution_count": 908,
      "outputs": []
    },
    {
      "cell_type": "code",
      "source": [
        "RGB_B3_concat1 = pd.concat([RGB_B3_concat0,RGB_B3_Set4])"
      ],
      "metadata": {
        "id": "UhP38-hgsHOS"
      },
      "execution_count": 909,
      "outputs": []
    },
    {
      "cell_type": "code",
      "source": [
        "print(RGB_B3_concat1.columns)"
      ],
      "metadata": {
        "colab": {
          "base_uri": "https://localhost:8080/"
        },
        "outputId": "86b49bc5-bb2d-4225-bade-d4ee846aba82",
        "id": "3EuLTceasHOT"
      },
      "execution_count": 910,
      "outputs": [
        {
          "output_type": "stream",
          "name": "stdout",
          "text": [
            "Index(['R-ref', 'G-ref', 'B-ref', 'R-Shad', 'G-Shad', 'B-Shad', 'H-ref',\n",
            "       'S-ref', 'V-ref', 'H-Shad', 'S-Shad', 'V-Shad', 'Setting', 'Ref',\n",
            "       'Shad', 'Img'],\n",
            "      dtype='object')\n"
          ]
        }
      ]
    },
    {
      "cell_type": "code",
      "source": [
        "RGB_B3_concat2 = RGB_B3_concat1.drop(['H-ref','S-ref','V-ref','H-Shad','S-Shad','V-Shad','Setting','Ref','Shad','Img'], axis=1)"
      ],
      "metadata": {
        "id": "Jb7qyHcKsHOT"
      },
      "execution_count": 911,
      "outputs": []
    },
    {
      "cell_type": "code",
      "source": [
        "X_test_B3_RGB = np.array(RGB_B3_Set1)"
      ],
      "metadata": {
        "id": "YDNP71CEsHOT"
      },
      "execution_count": 912,
      "outputs": []
    },
    {
      "cell_type": "code",
      "source": [
        "y_B3_RGB =  table_B3Set1.iloc[:,14:15]"
      ],
      "metadata": {
        "id": "zXlAvcTbsHOT"
      },
      "execution_count": 913,
      "outputs": []
    },
    {
      "cell_type": "code",
      "source": [
        "y_test_B3_RGB = np.array(y_B3_RGB)"
      ],
      "metadata": {
        "id": "Cp8YOfTIsHOT"
      },
      "execution_count": 914,
      "outputs": []
    },
    {
      "cell_type": "code",
      "source": [
        "X_train_B3_RGB = np.array(RGB_B3_concat2)"
      ],
      "metadata": {
        "id": "oiWh59IVsHOT"
      },
      "execution_count": 915,
      "outputs": []
    },
    {
      "cell_type": "code",
      "source": [
        "y_train_B3RGB = RGB_B3_concat1.iloc[:,14:15]"
      ],
      "metadata": {
        "id": "59dXexhHsHOT"
      },
      "execution_count": 916,
      "outputs": []
    },
    {
      "cell_type": "code",
      "source": [
        "y_train_B3_RGB = np.array(y_train_B3RGB)"
      ],
      "metadata": {
        "id": "QuBse9EysHOT"
      },
      "execution_count": 917,
      "outputs": []
    },
    {
      "cell_type": "code",
      "source": [
        "clf.fit(X_train_B3_RGB, y_train_B3_RGB)"
      ],
      "metadata": {
        "colab": {
          "base_uri": "https://localhost:8080/"
        },
        "outputId": "91ae4fd2-385f-4943-d6ae-984d8ee510d5",
        "id": "dTDGBxEYsHOU"
      },
      "execution_count": 918,
      "outputs": [
        {
          "output_type": "stream",
          "name": "stderr",
          "text": [
            "/usr/local/lib/python3.7/dist-packages/ipykernel_launcher.py:1: DataConversionWarning: A column-vector y was passed when a 1d array was expected. Please change the shape of y to (n_samples,), for example using ravel().\n",
            "  \"\"\"Entry point for launching an IPython kernel.\n"
          ]
        },
        {
          "output_type": "execute_result",
          "data": {
            "text/plain": [
              "RandomForestClassifier()"
            ]
          },
          "metadata": {},
          "execution_count": 918
        }
      ]
    },
    {
      "cell_type": "code",
      "source": [
        "y_pred_B3_RGB = clf.predict(X_test_B3_RGB)"
      ],
      "metadata": {
        "id": "zOyhYKUasHOU"
      },
      "execution_count": 919,
      "outputs": []
    },
    {
      "cell_type": "code",
      "source": [
        "print(\"Accuracy:\", metrics.accuracy_score(y_test_B3_RGB, y_pred_B3_RGB))"
      ],
      "metadata": {
        "colab": {
          "base_uri": "https://localhost:8080/"
        },
        "outputId": "e35ecb32-195e-4bc0-df06-3eaac9e856aa",
        "id": "pUWkHRcxsHOU"
      },
      "execution_count": 920,
      "outputs": [
        {
          "output_type": "stream",
          "name": "stdout",
          "text": [
            "Accuracy: 0.9006211180124224\n"
          ]
        }
      ]
    },
    {
      "cell_type": "markdown",
      "source": [
        "###HSV"
      ],
      "metadata": {
        "id": "a2v2Cu1qsHOU"
      }
    },
    {
      "cell_type": "code",
      "source": [
        "HSV_B3_Set1 = table_B3Set1.drop(['R-ref','G-ref','B-ref','R-Shad','G-Shad','B-Shad','Setting','Ref','Shad','Img'], axis=1)"
      ],
      "metadata": {
        "id": "1T1WMuuWsHOU"
      },
      "execution_count": 921,
      "outputs": []
    },
    {
      "cell_type": "code",
      "source": [
        "HSV_B3_concat2 = RGB_B3_concat1.drop(['R-ref','G-ref','B-ref','R-Shad','G-Shad','B-Shad','Setting','Ref','Shad','Img'], axis=1)"
      ],
      "metadata": {
        "id": "aAZsaClWsHOU"
      },
      "execution_count": 922,
      "outputs": []
    },
    {
      "cell_type": "code",
      "source": [
        "X_test_B3_HSV = np.array(HSV_B3_Set1)"
      ],
      "metadata": {
        "id": "WAFnYBGhsHOU"
      },
      "execution_count": 923,
      "outputs": []
    },
    {
      "cell_type": "code",
      "source": [
        "y_B3_HSV =  table_B3Set1.iloc[:,14:15]"
      ],
      "metadata": {
        "id": "5okDH6bvsHOV"
      },
      "execution_count": 924,
      "outputs": []
    },
    {
      "cell_type": "code",
      "source": [
        "y_test_B3_HSV = np.array(y_B3_RGB)"
      ],
      "metadata": {
        "id": "ktvtDkJSsHOV"
      },
      "execution_count": 925,
      "outputs": []
    },
    {
      "cell_type": "code",
      "source": [
        "X_train_B3_HSV = np.array(HSV_B3_concat2)"
      ],
      "metadata": {
        "id": "F-dVwJiQsHOV"
      },
      "execution_count": 926,
      "outputs": []
    },
    {
      "cell_type": "code",
      "source": [
        "y_train_B3HSV = RGB_B3_concat1.iloc[:,14:15]"
      ],
      "metadata": {
        "id": "FDpg1LPbsHOV"
      },
      "execution_count": 927,
      "outputs": []
    },
    {
      "cell_type": "code",
      "source": [
        "y_train_B3_HSV = np.array(y_train_B3HSV)"
      ],
      "metadata": {
        "id": "OmmzdN7OsHOV"
      },
      "execution_count": 928,
      "outputs": []
    },
    {
      "cell_type": "code",
      "source": [
        "X_train_B3_HSV.shape"
      ],
      "metadata": {
        "colab": {
          "base_uri": "https://localhost:8080/"
        },
        "outputId": "376631a7-9e58-4dd4-8a06-2ff7b3c5c767",
        "id": "IH0kHmrvsHOV"
      },
      "execution_count": 929,
      "outputs": [
        {
          "output_type": "execute_result",
          "data": {
            "text/plain": [
              "(2415, 6)"
            ]
          },
          "metadata": {},
          "execution_count": 929
        }
      ]
    },
    {
      "cell_type": "code",
      "source": [
        "y_train_B3_HSV.shape"
      ],
      "metadata": {
        "colab": {
          "base_uri": "https://localhost:8080/"
        },
        "outputId": "fc9cad63-b796-4d99-f0ef-d15c22f419ce",
        "id": "uRHWW9trsHOV"
      },
      "execution_count": 930,
      "outputs": [
        {
          "output_type": "execute_result",
          "data": {
            "text/plain": [
              "(2415, 1)"
            ]
          },
          "metadata": {},
          "execution_count": 930
        }
      ]
    },
    {
      "cell_type": "code",
      "source": [
        "clf.fit(X_train_B3_HSV, y_train_B3_HSV)"
      ],
      "metadata": {
        "colab": {
          "base_uri": "https://localhost:8080/"
        },
        "outputId": "bebd2d55-9786-4db1-c343-7378c42778a2",
        "id": "m2vhHsuwsHOV"
      },
      "execution_count": 931,
      "outputs": [
        {
          "output_type": "stream",
          "name": "stderr",
          "text": [
            "/usr/local/lib/python3.7/dist-packages/ipykernel_launcher.py:1: DataConversionWarning: A column-vector y was passed when a 1d array was expected. Please change the shape of y to (n_samples,), for example using ravel().\n",
            "  \"\"\"Entry point for launching an IPython kernel.\n"
          ]
        },
        {
          "output_type": "execute_result",
          "data": {
            "text/plain": [
              "RandomForestClassifier()"
            ]
          },
          "metadata": {},
          "execution_count": 931
        }
      ]
    },
    {
      "cell_type": "code",
      "source": [
        "y_pred_B3_HSV = clf.predict(X_test_B3_HSV)"
      ],
      "metadata": {
        "id": "Ky-ZY420sHOV"
      },
      "execution_count": 932,
      "outputs": []
    },
    {
      "cell_type": "code",
      "source": [
        "print(\"Accuracy:\", metrics.accuracy_score(y_test_B3_HSV, y_pred_B3_HSV))"
      ],
      "metadata": {
        "colab": {
          "base_uri": "https://localhost:8080/"
        },
        "outputId": "d09fa24d-ab40-41ba-918d-d9f0d2f6d122",
        "id": "V_h7tdPBsHOV"
      },
      "execution_count": 933,
      "outputs": [
        {
          "output_type": "stream",
          "name": "stdout",
          "text": [
            "Accuracy: 0.8795031055900621\n"
          ]
        }
      ]
    },
    {
      "cell_type": "markdown",
      "source": [
        "##B4"
      ],
      "metadata": {
        "id": "Cqdvh1d4tDKz"
      }
    },
    {
      "cell_type": "code",
      "source": [
        "table_B4Set1 = pd.read_excel(Set1 , sheet_name='B4Set1 ')\n",
        "table_B4Set1.head()"
      ],
      "metadata": {
        "colab": {
          "base_uri": "https://localhost:8080/",
          "height": 0
        },
        "outputId": "57c75cd9-8427-448d-b1c4-8e0774b3176e",
        "id": "MMB7W5dmtDK0"
      },
      "execution_count": 934,
      "outputs": [
        {
          "output_type": "execute_result",
          "data": {
            "text/html": [
              "\n",
              "  <div id=\"df-575f6d71-1a65-4af0-be30-2e9109fddbcc\">\n",
              "    <div class=\"colab-df-container\">\n",
              "      <div>\n",
              "<style scoped>\n",
              "    .dataframe tbody tr th:only-of-type {\n",
              "        vertical-align: middle;\n",
              "    }\n",
              "\n",
              "    .dataframe tbody tr th {\n",
              "        vertical-align: top;\n",
              "    }\n",
              "\n",
              "    .dataframe thead th {\n",
              "        text-align: right;\n",
              "    }\n",
              "</style>\n",
              "<table border=\"1\" class=\"dataframe\">\n",
              "  <thead>\n",
              "    <tr style=\"text-align: right;\">\n",
              "      <th></th>\n",
              "      <th>R-ref</th>\n",
              "      <th>G-ref</th>\n",
              "      <th>B-ref</th>\n",
              "      <th>R-Shad</th>\n",
              "      <th>G-Shad</th>\n",
              "      <th>B-Shad</th>\n",
              "      <th>H-ref</th>\n",
              "      <th>S-ref</th>\n",
              "      <th>V-ref</th>\n",
              "      <th>H-Shad</th>\n",
              "      <th>S-Shad</th>\n",
              "      <th>V-Shad</th>\n",
              "      <th>Setting</th>\n",
              "      <th>Ref</th>\n",
              "      <th>Shad</th>\n",
              "      <th>Img</th>\n",
              "    </tr>\n",
              "  </thead>\n",
              "  <tbody>\n",
              "    <tr>\n",
              "      <th>0</th>\n",
              "      <td>239.266414</td>\n",
              "      <td>216.745435</td>\n",
              "      <td>159.436772</td>\n",
              "      <td>238.759985</td>\n",
              "      <td>224.603373</td>\n",
              "      <td>187.611528</td>\n",
              "      <td>21.558372</td>\n",
              "      <td>85.166570</td>\n",
              "      <td>239.266414</td>\n",
              "      <td>21.903067</td>\n",
              "      <td>52.209990</td>\n",
              "      <td>243.005375</td>\n",
              "      <td>Set1</td>\n",
              "      <td>B4</td>\n",
              "      <td>A1</td>\n",
              "      <td>34B2D0A4-AE20-440B-976D-34704AC67DBF.png</td>\n",
              "    </tr>\n",
              "    <tr>\n",
              "      <th>1</th>\n",
              "      <td>239.713869</td>\n",
              "      <td>217.283508</td>\n",
              "      <td>160.377137</td>\n",
              "      <td>238.615698</td>\n",
              "      <td>224.651839</td>\n",
              "      <td>187.685664</td>\n",
              "      <td>21.545843</td>\n",
              "      <td>84.513403</td>\n",
              "      <td>239.713869</td>\n",
              "      <td>21.977759</td>\n",
              "      <td>52.034566</td>\n",
              "      <td>242.949958</td>\n",
              "      <td>Set1</td>\n",
              "      <td>B4</td>\n",
              "      <td>A1</td>\n",
              "      <td>749D68C6-4CBE-4281-936D-2E903F24C84B.png</td>\n",
              "    </tr>\n",
              "    <tr>\n",
              "      <th>2</th>\n",
              "      <td>239.313326</td>\n",
              "      <td>216.689200</td>\n",
              "      <td>159.936189</td>\n",
              "      <td>238.952924</td>\n",
              "      <td>224.485497</td>\n",
              "      <td>187.712816</td>\n",
              "      <td>21.514180</td>\n",
              "      <td>84.670746</td>\n",
              "      <td>239.313326</td>\n",
              "      <td>21.899824</td>\n",
              "      <td>52.143082</td>\n",
              "      <td>243.209248</td>\n",
              "      <td>Set1</td>\n",
              "      <td>B4</td>\n",
              "      <td>A1</td>\n",
              "      <td>FF438080-DFCE-4992-80C7-BC7FD4258D18.png</td>\n",
              "    </tr>\n",
              "    <tr>\n",
              "      <th>3</th>\n",
              "      <td>236.874709</td>\n",
              "      <td>224.246018</td>\n",
              "      <td>189.226204</td>\n",
              "      <td>230.156056</td>\n",
              "      <td>219.555185</td>\n",
              "      <td>186.043740</td>\n",
              "      <td>22.082653</td>\n",
              "      <td>51.388403</td>\n",
              "      <td>236.874709</td>\n",
              "      <td>22.702345</td>\n",
              "      <td>47.224076</td>\n",
              "      <td>232.799926</td>\n",
              "      <td>Set1</td>\n",
              "      <td>B4</td>\n",
              "      <td>A1</td>\n",
              "      <td>94EA0AEE-7090-4878-B886-C6D839442A90.png</td>\n",
              "    </tr>\n",
              "    <tr>\n",
              "      <th>4</th>\n",
              "      <td>233.620047</td>\n",
              "      <td>221.292735</td>\n",
              "      <td>185.655789</td>\n",
              "      <td>226.263831</td>\n",
              "      <td>214.966732</td>\n",
              "      <td>180.068854</td>\n",
              "      <td>22.295552</td>\n",
              "      <td>52.415695</td>\n",
              "      <td>233.620047</td>\n",
              "      <td>22.704383</td>\n",
              "      <td>51.548698</td>\n",
              "      <td>229.251877</td>\n",
              "      <td>Set1</td>\n",
              "      <td>B4</td>\n",
              "      <td>A1</td>\n",
              "      <td>1F086831-AF5B-4D7E-8E33-15C8CE2CF0B7.png</td>\n",
              "    </tr>\n",
              "  </tbody>\n",
              "</table>\n",
              "</div>\n",
              "      <button class=\"colab-df-convert\" onclick=\"convertToInteractive('df-575f6d71-1a65-4af0-be30-2e9109fddbcc')\"\n",
              "              title=\"Convert this dataframe to an interactive table.\"\n",
              "              style=\"display:none;\">\n",
              "        \n",
              "  <svg xmlns=\"http://www.w3.org/2000/svg\" height=\"24px\"viewBox=\"0 0 24 24\"\n",
              "       width=\"24px\">\n",
              "    <path d=\"M0 0h24v24H0V0z\" fill=\"none\"/>\n",
              "    <path d=\"M18.56 5.44l.94 2.06.94-2.06 2.06-.94-2.06-.94-.94-2.06-.94 2.06-2.06.94zm-11 1L8.5 8.5l.94-2.06 2.06-.94-2.06-.94L8.5 2.5l-.94 2.06-2.06.94zm10 10l.94 2.06.94-2.06 2.06-.94-2.06-.94-.94-2.06-.94 2.06-2.06.94z\"/><path d=\"M17.41 7.96l-1.37-1.37c-.4-.4-.92-.59-1.43-.59-.52 0-1.04.2-1.43.59L10.3 9.45l-7.72 7.72c-.78.78-.78 2.05 0 2.83L4 21.41c.39.39.9.59 1.41.59.51 0 1.02-.2 1.41-.59l7.78-7.78 2.81-2.81c.8-.78.8-2.07 0-2.86zM5.41 20L4 18.59l7.72-7.72 1.47 1.35L5.41 20z\"/>\n",
              "  </svg>\n",
              "      </button>\n",
              "      \n",
              "  <style>\n",
              "    .colab-df-container {\n",
              "      display:flex;\n",
              "      flex-wrap:wrap;\n",
              "      gap: 12px;\n",
              "    }\n",
              "\n",
              "    .colab-df-convert {\n",
              "      background-color: #E8F0FE;\n",
              "      border: none;\n",
              "      border-radius: 50%;\n",
              "      cursor: pointer;\n",
              "      display: none;\n",
              "      fill: #1967D2;\n",
              "      height: 32px;\n",
              "      padding: 0 0 0 0;\n",
              "      width: 32px;\n",
              "    }\n",
              "\n",
              "    .colab-df-convert:hover {\n",
              "      background-color: #E2EBFA;\n",
              "      box-shadow: 0px 1px 2px rgba(60, 64, 67, 0.3), 0px 1px 3px 1px rgba(60, 64, 67, 0.15);\n",
              "      fill: #174EA6;\n",
              "    }\n",
              "\n",
              "    [theme=dark] .colab-df-convert {\n",
              "      background-color: #3B4455;\n",
              "      fill: #D2E3FC;\n",
              "    }\n",
              "\n",
              "    [theme=dark] .colab-df-convert:hover {\n",
              "      background-color: #434B5C;\n",
              "      box-shadow: 0px 1px 3px 1px rgba(0, 0, 0, 0.15);\n",
              "      filter: drop-shadow(0px 1px 2px rgba(0, 0, 0, 0.3));\n",
              "      fill: #FFFFFF;\n",
              "    }\n",
              "  </style>\n",
              "\n",
              "      <script>\n",
              "        const buttonEl =\n",
              "          document.querySelector('#df-575f6d71-1a65-4af0-be30-2e9109fddbcc button.colab-df-convert');\n",
              "        buttonEl.style.display =\n",
              "          google.colab.kernel.accessAllowed ? 'block' : 'none';\n",
              "\n",
              "        async function convertToInteractive(key) {\n",
              "          const element = document.querySelector('#df-575f6d71-1a65-4af0-be30-2e9109fddbcc');\n",
              "          const dataTable =\n",
              "            await google.colab.kernel.invokeFunction('convertToInteractive',\n",
              "                                                     [key], {});\n",
              "          if (!dataTable) return;\n",
              "\n",
              "          const docLinkHtml = 'Like what you see? Visit the ' +\n",
              "            '<a target=\"_blank\" href=https://colab.research.google.com/notebooks/data_table.ipynb>data table notebook</a>'\n",
              "            + ' to learn more about interactive tables.';\n",
              "          element.innerHTML = '';\n",
              "          dataTable['output_type'] = 'display_data';\n",
              "          await google.colab.output.renderOutput(dataTable, element);\n",
              "          const docLink = document.createElement('div');\n",
              "          docLink.innerHTML = docLinkHtml;\n",
              "          element.appendChild(docLink);\n",
              "        }\n",
              "      </script>\n",
              "    </div>\n",
              "  </div>\n",
              "  "
            ],
            "text/plain": [
              "        R-ref       G-ref  ...  Shad                                       Img\n",
              "0  239.266414  216.745435  ...    A1  34B2D0A4-AE20-440B-976D-34704AC67DBF.png\n",
              "1  239.713869  217.283508  ...    A1  749D68C6-4CBE-4281-936D-2E903F24C84B.png\n",
              "2  239.313326  216.689200  ...    A1  FF438080-DFCE-4992-80C7-BC7FD4258D18.png\n",
              "3  236.874709  224.246018  ...    A1  94EA0AEE-7090-4878-B886-C6D839442A90.png\n",
              "4  233.620047  221.292735  ...    A1  1F086831-AF5B-4D7E-8E33-15C8CE2CF0B7.png\n",
              "\n",
              "[5 rows x 16 columns]"
            ]
          },
          "metadata": {},
          "execution_count": 934
        }
      ]
    },
    {
      "cell_type": "code",
      "source": [
        "table_B4Set2 = pd.read_excel(Set2, sheet_name='B4Set2 ')\n",
        "table_B4Set2.head()"
      ],
      "metadata": {
        "colab": {
          "base_uri": "https://localhost:8080/",
          "height": 0
        },
        "outputId": "5e41d781-9df5-433a-f440-fb76500dbd94",
        "id": "36yod91StDK0"
      },
      "execution_count": 935,
      "outputs": [
        {
          "output_type": "execute_result",
          "data": {
            "text/html": [
              "\n",
              "  <div id=\"df-6f41d0d6-116d-4b78-8dd9-6223e4f530b7\">\n",
              "    <div class=\"colab-df-container\">\n",
              "      <div>\n",
              "<style scoped>\n",
              "    .dataframe tbody tr th:only-of-type {\n",
              "        vertical-align: middle;\n",
              "    }\n",
              "\n",
              "    .dataframe tbody tr th {\n",
              "        vertical-align: top;\n",
              "    }\n",
              "\n",
              "    .dataframe thead th {\n",
              "        text-align: right;\n",
              "    }\n",
              "</style>\n",
              "<table border=\"1\" class=\"dataframe\">\n",
              "  <thead>\n",
              "    <tr style=\"text-align: right;\">\n",
              "      <th></th>\n",
              "      <th>R-ref</th>\n",
              "      <th>G-ref</th>\n",
              "      <th>B-ref</th>\n",
              "      <th>R-Shad</th>\n",
              "      <th>G-Shad</th>\n",
              "      <th>B-Shad</th>\n",
              "      <th>H-ref</th>\n",
              "      <th>S-ref</th>\n",
              "      <th>V-ref</th>\n",
              "      <th>H-Shad</th>\n",
              "      <th>S-Shad</th>\n",
              "      <th>V-Shad</th>\n",
              "      <th>Setting</th>\n",
              "      <th>Ref</th>\n",
              "      <th>Shad</th>\n",
              "      <th>Img</th>\n",
              "    </tr>\n",
              "  </thead>\n",
              "  <tbody>\n",
              "    <tr>\n",
              "      <th>0</th>\n",
              "      <td>238.081682</td>\n",
              "      <td>221.755051</td>\n",
              "      <td>181.142385</td>\n",
              "      <td>235.877861</td>\n",
              "      <td>223.403206</td>\n",
              "      <td>188.274488</td>\n",
              "      <td>21.704351</td>\n",
              "      <td>61.046814</td>\n",
              "      <td>238.081682</td>\n",
              "      <td>22.198221</td>\n",
              "      <td>51.493281</td>\n",
              "      <td>235.877861</td>\n",
              "      <td>Set2</td>\n",
              "      <td>B4</td>\n",
              "      <td>A1</td>\n",
              "      <td>CEFE92E4-E005-4DDF-BB31-F3105F314593.png</td>\n",
              "    </tr>\n",
              "    <tr>\n",
              "      <th>1</th>\n",
              "      <td>235.952117</td>\n",
              "      <td>219.916764</td>\n",
              "      <td>179.500291</td>\n",
              "      <td>234.624780</td>\n",
              "      <td>222.123251</td>\n",
              "      <td>187.442591</td>\n",
              "      <td>21.683955</td>\n",
              "      <td>61.045940</td>\n",
              "      <td>235.952117</td>\n",
              "      <td>22.059587</td>\n",
              "      <td>51.317765</td>\n",
              "      <td>234.624780</td>\n",
              "      <td>Set2</td>\n",
              "      <td>B4</td>\n",
              "      <td>A1</td>\n",
              "      <td>6CDF7A1D-59D6-42B3-8E72-D6D4A8079980.png</td>\n",
              "    </tr>\n",
              "    <tr>\n",
              "      <th>2</th>\n",
              "      <td>232.103632</td>\n",
              "      <td>215.131022</td>\n",
              "      <td>174.147533</td>\n",
              "      <td>230.502548</td>\n",
              "      <td>216.921416</td>\n",
              "      <td>181.024928</td>\n",
              "      <td>21.521950</td>\n",
              "      <td>63.663559</td>\n",
              "      <td>232.103632</td>\n",
              "      <td>21.845149</td>\n",
              "      <td>54.783060</td>\n",
              "      <td>230.502548</td>\n",
              "      <td>Set2</td>\n",
              "      <td>B4</td>\n",
              "      <td>A1</td>\n",
              "      <td>0FA330C4-7EAC-4F6B-9169-ADD778255E24.png</td>\n",
              "    </tr>\n",
              "    <tr>\n",
              "      <th>3</th>\n",
              "      <td>229.841492</td>\n",
              "      <td>209.444444</td>\n",
              "      <td>165.517483</td>\n",
              "      <td>228.251135</td>\n",
              "      <td>210.763414</td>\n",
              "      <td>169.306274</td>\n",
              "      <td>20.311189</td>\n",
              "      <td>71.366647</td>\n",
              "      <td>229.841492</td>\n",
              "      <td>21.484292</td>\n",
              "      <td>65.896673</td>\n",
              "      <td>228.251135</td>\n",
              "      <td>Set2</td>\n",
              "      <td>B4</td>\n",
              "      <td>A1</td>\n",
              "      <td>FD0E58A7-5CD5-42AB-984D-17E1C2695D0F.png</td>\n",
              "    </tr>\n",
              "    <tr>\n",
              "      <th>4</th>\n",
              "      <td>228.368395</td>\n",
              "      <td>207.523019</td>\n",
              "      <td>163.672980</td>\n",
              "      <td>227.025021</td>\n",
              "      <td>209.357891</td>\n",
              "      <td>169.048559</td>\n",
              "      <td>20.087024</td>\n",
              "      <td>72.279138</td>\n",
              "      <td>228.368395</td>\n",
              "      <td>21.155407</td>\n",
              "      <td>65.139561</td>\n",
              "      <td>227.025021</td>\n",
              "      <td>Set2</td>\n",
              "      <td>B4</td>\n",
              "      <td>A1</td>\n",
              "      <td>E331F1F9-905A-4866-8928-26AEF36EAFF7.png</td>\n",
              "    </tr>\n",
              "  </tbody>\n",
              "</table>\n",
              "</div>\n",
              "      <button class=\"colab-df-convert\" onclick=\"convertToInteractive('df-6f41d0d6-116d-4b78-8dd9-6223e4f530b7')\"\n",
              "              title=\"Convert this dataframe to an interactive table.\"\n",
              "              style=\"display:none;\">\n",
              "        \n",
              "  <svg xmlns=\"http://www.w3.org/2000/svg\" height=\"24px\"viewBox=\"0 0 24 24\"\n",
              "       width=\"24px\">\n",
              "    <path d=\"M0 0h24v24H0V0z\" fill=\"none\"/>\n",
              "    <path d=\"M18.56 5.44l.94 2.06.94-2.06 2.06-.94-2.06-.94-.94-2.06-.94 2.06-2.06.94zm-11 1L8.5 8.5l.94-2.06 2.06-.94-2.06-.94L8.5 2.5l-.94 2.06-2.06.94zm10 10l.94 2.06.94-2.06 2.06-.94-2.06-.94-.94-2.06-.94 2.06-2.06.94z\"/><path d=\"M17.41 7.96l-1.37-1.37c-.4-.4-.92-.59-1.43-.59-.52 0-1.04.2-1.43.59L10.3 9.45l-7.72 7.72c-.78.78-.78 2.05 0 2.83L4 21.41c.39.39.9.59 1.41.59.51 0 1.02-.2 1.41-.59l7.78-7.78 2.81-2.81c.8-.78.8-2.07 0-2.86zM5.41 20L4 18.59l7.72-7.72 1.47 1.35L5.41 20z\"/>\n",
              "  </svg>\n",
              "      </button>\n",
              "      \n",
              "  <style>\n",
              "    .colab-df-container {\n",
              "      display:flex;\n",
              "      flex-wrap:wrap;\n",
              "      gap: 12px;\n",
              "    }\n",
              "\n",
              "    .colab-df-convert {\n",
              "      background-color: #E8F0FE;\n",
              "      border: none;\n",
              "      border-radius: 50%;\n",
              "      cursor: pointer;\n",
              "      display: none;\n",
              "      fill: #1967D2;\n",
              "      height: 32px;\n",
              "      padding: 0 0 0 0;\n",
              "      width: 32px;\n",
              "    }\n",
              "\n",
              "    .colab-df-convert:hover {\n",
              "      background-color: #E2EBFA;\n",
              "      box-shadow: 0px 1px 2px rgba(60, 64, 67, 0.3), 0px 1px 3px 1px rgba(60, 64, 67, 0.15);\n",
              "      fill: #174EA6;\n",
              "    }\n",
              "\n",
              "    [theme=dark] .colab-df-convert {\n",
              "      background-color: #3B4455;\n",
              "      fill: #D2E3FC;\n",
              "    }\n",
              "\n",
              "    [theme=dark] .colab-df-convert:hover {\n",
              "      background-color: #434B5C;\n",
              "      box-shadow: 0px 1px 3px 1px rgba(0, 0, 0, 0.15);\n",
              "      filter: drop-shadow(0px 1px 2px rgba(0, 0, 0, 0.3));\n",
              "      fill: #FFFFFF;\n",
              "    }\n",
              "  </style>\n",
              "\n",
              "      <script>\n",
              "        const buttonEl =\n",
              "          document.querySelector('#df-6f41d0d6-116d-4b78-8dd9-6223e4f530b7 button.colab-df-convert');\n",
              "        buttonEl.style.display =\n",
              "          google.colab.kernel.accessAllowed ? 'block' : 'none';\n",
              "\n",
              "        async function convertToInteractive(key) {\n",
              "          const element = document.querySelector('#df-6f41d0d6-116d-4b78-8dd9-6223e4f530b7');\n",
              "          const dataTable =\n",
              "            await google.colab.kernel.invokeFunction('convertToInteractive',\n",
              "                                                     [key], {});\n",
              "          if (!dataTable) return;\n",
              "\n",
              "          const docLinkHtml = 'Like what you see? Visit the ' +\n",
              "            '<a target=\"_blank\" href=https://colab.research.google.com/notebooks/data_table.ipynb>data table notebook</a>'\n",
              "            + ' to learn more about interactive tables.';\n",
              "          element.innerHTML = '';\n",
              "          dataTable['output_type'] = 'display_data';\n",
              "          await google.colab.output.renderOutput(dataTable, element);\n",
              "          const docLink = document.createElement('div');\n",
              "          docLink.innerHTML = docLinkHtml;\n",
              "          element.appendChild(docLink);\n",
              "        }\n",
              "      </script>\n",
              "    </div>\n",
              "  </div>\n",
              "  "
            ],
            "text/plain": [
              "        R-ref       G-ref  ...  Shad                                       Img\n",
              "0  238.081682  221.755051  ...    A1  CEFE92E4-E005-4DDF-BB31-F3105F314593.png\n",
              "1  235.952117  219.916764  ...    A1  6CDF7A1D-59D6-42B3-8E72-D6D4A8079980.png\n",
              "2  232.103632  215.131022  ...    A1  0FA330C4-7EAC-4F6B-9169-ADD778255E24.png\n",
              "3  229.841492  209.444444  ...    A1  FD0E58A7-5CD5-42AB-984D-17E1C2695D0F.png\n",
              "4  228.368395  207.523019  ...    A1  E331F1F9-905A-4866-8928-26AEF36EAFF7.png\n",
              "\n",
              "[5 rows x 16 columns]"
            ]
          },
          "metadata": {},
          "execution_count": 935
        }
      ]
    },
    {
      "cell_type": "code",
      "source": [
        "table_B4Set3 = pd.read_excel(Set3, sheet_name='B4Set3 ')\n",
        "table_B4Set3.head()"
      ],
      "metadata": {
        "colab": {
          "base_uri": "https://localhost:8080/",
          "height": 0
        },
        "outputId": "cd12f8c1-c986-404f-f164-64419882e2c0",
        "id": "hVlYI5xOtDK0"
      },
      "execution_count": 936,
      "outputs": [
        {
          "output_type": "execute_result",
          "data": {
            "text/html": [
              "\n",
              "  <div id=\"df-cf11d6c5-0ffe-4032-bd47-e309d831d802\">\n",
              "    <div class=\"colab-df-container\">\n",
              "      <div>\n",
              "<style scoped>\n",
              "    .dataframe tbody tr th:only-of-type {\n",
              "        vertical-align: middle;\n",
              "    }\n",
              "\n",
              "    .dataframe tbody tr th {\n",
              "        vertical-align: top;\n",
              "    }\n",
              "\n",
              "    .dataframe thead th {\n",
              "        text-align: right;\n",
              "    }\n",
              "</style>\n",
              "<table border=\"1\" class=\"dataframe\">\n",
              "  <thead>\n",
              "    <tr style=\"text-align: right;\">\n",
              "      <th></th>\n",
              "      <th>R-ref</th>\n",
              "      <th>G-ref</th>\n",
              "      <th>B-ref</th>\n",
              "      <th>R-Shad</th>\n",
              "      <th>G-Shad</th>\n",
              "      <th>B-Shad</th>\n",
              "      <th>H-ref</th>\n",
              "      <th>S-ref</th>\n",
              "      <th>V-ref</th>\n",
              "      <th>H-Shad</th>\n",
              "      <th>S-Shad</th>\n",
              "      <th>V-Shad</th>\n",
              "      <th>Setting</th>\n",
              "      <th>Ref</th>\n",
              "      <th>Shad</th>\n",
              "      <th>Img</th>\n",
              "    </tr>\n",
              "  </thead>\n",
              "  <tbody>\n",
              "    <tr>\n",
              "      <th>0</th>\n",
              "      <td>239.313326</td>\n",
              "      <td>216.689200</td>\n",
              "      <td>159.936189</td>\n",
              "      <td>238.952924</td>\n",
              "      <td>224.485497</td>\n",
              "      <td>187.712816</td>\n",
              "      <td>21.514180</td>\n",
              "      <td>84.670746</td>\n",
              "      <td>239.313326</td>\n",
              "      <td>21.714206</td>\n",
              "      <td>53.877212</td>\n",
              "      <td>240.478176</td>\n",
              "      <td>Set3</td>\n",
              "      <td>B4</td>\n",
              "      <td>A1</td>\n",
              "      <td>15CF7C81-C401-4F9B-A9D6-BFF17DD5A41E.png</td>\n",
              "    </tr>\n",
              "    <tr>\n",
              "      <th>1</th>\n",
              "      <td>236.874709</td>\n",
              "      <td>224.246018</td>\n",
              "      <td>189.226204</td>\n",
              "      <td>230.156056</td>\n",
              "      <td>219.555185</td>\n",
              "      <td>186.043740</td>\n",
              "      <td>22.082653</td>\n",
              "      <td>51.388403</td>\n",
              "      <td>236.874709</td>\n",
              "      <td>22.706700</td>\n",
              "      <td>48.897415</td>\n",
              "      <td>230.156056</td>\n",
              "      <td>Set3</td>\n",
              "      <td>B4</td>\n",
              "      <td>A1</td>\n",
              "      <td>BB30E369-CADD-4E81-BE42-6B37C089DFDF.png</td>\n",
              "    </tr>\n",
              "    <tr>\n",
              "      <th>2</th>\n",
              "      <td>233.620047</td>\n",
              "      <td>221.292735</td>\n",
              "      <td>185.655789</td>\n",
              "      <td>226.263831</td>\n",
              "      <td>214.966732</td>\n",
              "      <td>180.068854</td>\n",
              "      <td>22.295552</td>\n",
              "      <td>52.415695</td>\n",
              "      <td>233.620047</td>\n",
              "      <td>22.698360</td>\n",
              "      <td>52.072004</td>\n",
              "      <td>226.263831</td>\n",
              "      <td>Set3</td>\n",
              "      <td>B4</td>\n",
              "      <td>A1</td>\n",
              "      <td>41EAF1E9-C9E9-4D7E-968E-75700ECAA674.png</td>\n",
              "    </tr>\n",
              "    <tr>\n",
              "      <th>3</th>\n",
              "      <td>237.811480</td>\n",
              "      <td>225.270882</td>\n",
              "      <td>190.323718</td>\n",
              "      <td>231.649152</td>\n",
              "      <td>220.802891</td>\n",
              "      <td>187.113799</td>\n",
              "      <td>22.090909</td>\n",
              "      <td>51.023116</td>\n",
              "      <td>237.811480</td>\n",
              "      <td>22.639236</td>\n",
              "      <td>49.034844</td>\n",
              "      <td>231.649152</td>\n",
              "      <td>Set3</td>\n",
              "      <td>B4</td>\n",
              "      <td>A1</td>\n",
              "      <td>C637E1DF-0ECB-4622-A3DD-67CDD073DACD.png</td>\n",
              "    </tr>\n",
              "    <tr>\n",
              "      <th>4</th>\n",
              "      <td>236.552836</td>\n",
              "      <td>224.011752</td>\n",
              "      <td>188.282051</td>\n",
              "      <td>231.108331</td>\n",
              "      <td>219.994996</td>\n",
              "      <td>185.944213</td>\n",
              "      <td>22.189103</td>\n",
              "      <td>52.109751</td>\n",
              "      <td>236.552836</td>\n",
              "      <td>22.645538</td>\n",
              "      <td>49.851543</td>\n",
              "      <td>231.108331</td>\n",
              "      <td>Set3</td>\n",
              "      <td>B4</td>\n",
              "      <td>A1</td>\n",
              "      <td>CD93A518-E887-42EC-8254-4B50FE6F9E71.png</td>\n",
              "    </tr>\n",
              "  </tbody>\n",
              "</table>\n",
              "</div>\n",
              "      <button class=\"colab-df-convert\" onclick=\"convertToInteractive('df-cf11d6c5-0ffe-4032-bd47-e309d831d802')\"\n",
              "              title=\"Convert this dataframe to an interactive table.\"\n",
              "              style=\"display:none;\">\n",
              "        \n",
              "  <svg xmlns=\"http://www.w3.org/2000/svg\" height=\"24px\"viewBox=\"0 0 24 24\"\n",
              "       width=\"24px\">\n",
              "    <path d=\"M0 0h24v24H0V0z\" fill=\"none\"/>\n",
              "    <path d=\"M18.56 5.44l.94 2.06.94-2.06 2.06-.94-2.06-.94-.94-2.06-.94 2.06-2.06.94zm-11 1L8.5 8.5l.94-2.06 2.06-.94-2.06-.94L8.5 2.5l-.94 2.06-2.06.94zm10 10l.94 2.06.94-2.06 2.06-.94-2.06-.94-.94-2.06-.94 2.06-2.06.94z\"/><path d=\"M17.41 7.96l-1.37-1.37c-.4-.4-.92-.59-1.43-.59-.52 0-1.04.2-1.43.59L10.3 9.45l-7.72 7.72c-.78.78-.78 2.05 0 2.83L4 21.41c.39.39.9.59 1.41.59.51 0 1.02-.2 1.41-.59l7.78-7.78 2.81-2.81c.8-.78.8-2.07 0-2.86zM5.41 20L4 18.59l7.72-7.72 1.47 1.35L5.41 20z\"/>\n",
              "  </svg>\n",
              "      </button>\n",
              "      \n",
              "  <style>\n",
              "    .colab-df-container {\n",
              "      display:flex;\n",
              "      flex-wrap:wrap;\n",
              "      gap: 12px;\n",
              "    }\n",
              "\n",
              "    .colab-df-convert {\n",
              "      background-color: #E8F0FE;\n",
              "      border: none;\n",
              "      border-radius: 50%;\n",
              "      cursor: pointer;\n",
              "      display: none;\n",
              "      fill: #1967D2;\n",
              "      height: 32px;\n",
              "      padding: 0 0 0 0;\n",
              "      width: 32px;\n",
              "    }\n",
              "\n",
              "    .colab-df-convert:hover {\n",
              "      background-color: #E2EBFA;\n",
              "      box-shadow: 0px 1px 2px rgba(60, 64, 67, 0.3), 0px 1px 3px 1px rgba(60, 64, 67, 0.15);\n",
              "      fill: #174EA6;\n",
              "    }\n",
              "\n",
              "    [theme=dark] .colab-df-convert {\n",
              "      background-color: #3B4455;\n",
              "      fill: #D2E3FC;\n",
              "    }\n",
              "\n",
              "    [theme=dark] .colab-df-convert:hover {\n",
              "      background-color: #434B5C;\n",
              "      box-shadow: 0px 1px 3px 1px rgba(0, 0, 0, 0.15);\n",
              "      filter: drop-shadow(0px 1px 2px rgba(0, 0, 0, 0.3));\n",
              "      fill: #FFFFFF;\n",
              "    }\n",
              "  </style>\n",
              "\n",
              "      <script>\n",
              "        const buttonEl =\n",
              "          document.querySelector('#df-cf11d6c5-0ffe-4032-bd47-e309d831d802 button.colab-df-convert');\n",
              "        buttonEl.style.display =\n",
              "          google.colab.kernel.accessAllowed ? 'block' : 'none';\n",
              "\n",
              "        async function convertToInteractive(key) {\n",
              "          const element = document.querySelector('#df-cf11d6c5-0ffe-4032-bd47-e309d831d802');\n",
              "          const dataTable =\n",
              "            await google.colab.kernel.invokeFunction('convertToInteractive',\n",
              "                                                     [key], {});\n",
              "          if (!dataTable) return;\n",
              "\n",
              "          const docLinkHtml = 'Like what you see? Visit the ' +\n",
              "            '<a target=\"_blank\" href=https://colab.research.google.com/notebooks/data_table.ipynb>data table notebook</a>'\n",
              "            + ' to learn more about interactive tables.';\n",
              "          element.innerHTML = '';\n",
              "          dataTable['output_type'] = 'display_data';\n",
              "          await google.colab.output.renderOutput(dataTable, element);\n",
              "          const docLink = document.createElement('div');\n",
              "          docLink.innerHTML = docLinkHtml;\n",
              "          element.appendChild(docLink);\n",
              "        }\n",
              "      </script>\n",
              "    </div>\n",
              "  </div>\n",
              "  "
            ],
            "text/plain": [
              "        R-ref       G-ref  ...  Shad                                       Img\n",
              "0  239.313326  216.689200  ...    A1  15CF7C81-C401-4F9B-A9D6-BFF17DD5A41E.png\n",
              "1  236.874709  224.246018  ...    A1  BB30E369-CADD-4E81-BE42-6B37C089DFDF.png\n",
              "2  233.620047  221.292735  ...    A1  41EAF1E9-C9E9-4D7E-968E-75700ECAA674.png\n",
              "3  237.811480  225.270882  ...    A1  C637E1DF-0ECB-4622-A3DD-67CDD073DACD.png\n",
              "4  236.552836  224.011752  ...    A1  CD93A518-E887-42EC-8254-4B50FE6F9E71.png\n",
              "\n",
              "[5 rows x 16 columns]"
            ]
          },
          "metadata": {},
          "execution_count": 936
        }
      ]
    },
    {
      "cell_type": "code",
      "source": [
        "table_B4Set4 = pd.read_excel(Set4, sheet_name='B4Set4')\n",
        "table_B4Set4.head()"
      ],
      "metadata": {
        "colab": {
          "base_uri": "https://localhost:8080/",
          "height": 0
        },
        "outputId": "f364200f-1cf3-4755-bb5b-a217435cbc5d",
        "id": "YqNbQ4zntDK0"
      },
      "execution_count": 937,
      "outputs": [
        {
          "output_type": "execute_result",
          "data": {
            "text/html": [
              "\n",
              "  <div id=\"df-9eb33ada-6c90-430e-9d51-77423031a14c\">\n",
              "    <div class=\"colab-df-container\">\n",
              "      <div>\n",
              "<style scoped>\n",
              "    .dataframe tbody tr th:only-of-type {\n",
              "        vertical-align: middle;\n",
              "    }\n",
              "\n",
              "    .dataframe tbody tr th {\n",
              "        vertical-align: top;\n",
              "    }\n",
              "\n",
              "    .dataframe thead th {\n",
              "        text-align: right;\n",
              "    }\n",
              "</style>\n",
              "<table border=\"1\" class=\"dataframe\">\n",
              "  <thead>\n",
              "    <tr style=\"text-align: right;\">\n",
              "      <th></th>\n",
              "      <th>R-ref</th>\n",
              "      <th>G-ref</th>\n",
              "      <th>B-ref</th>\n",
              "      <th>R-Shad</th>\n",
              "      <th>G-Shad</th>\n",
              "      <th>B-Shad</th>\n",
              "      <th>H-ref</th>\n",
              "      <th>S-ref</th>\n",
              "      <th>V-ref</th>\n",
              "      <th>H-Shad</th>\n",
              "      <th>S-Shad</th>\n",
              "      <th>V-Shad</th>\n",
              "      <th>Setting</th>\n",
              "      <th>Ref</th>\n",
              "      <th>Shad</th>\n",
              "      <th>Img</th>\n",
              "    </tr>\n",
              "  </thead>\n",
              "  <tbody>\n",
              "    <tr>\n",
              "      <th>0</th>\n",
              "      <td>236.372863</td>\n",
              "      <td>219.322844</td>\n",
              "      <td>177.911131</td>\n",
              "      <td>234.147067</td>\n",
              "      <td>220.985729</td>\n",
              "      <td>185.437680</td>\n",
              "      <td>21.590618</td>\n",
              "      <td>63.091783</td>\n",
              "      <td>236.372863</td>\n",
              "      <td>21.989992</td>\n",
              "      <td>53.083032</td>\n",
              "      <td>234.147067</td>\n",
              "      <td>Set4</td>\n",
              "      <td>B4</td>\n",
              "      <td>A1</td>\n",
              "      <td>E6FD1E47-41F1-4FC7-8EDA-377E52421795.png</td>\n",
              "    </tr>\n",
              "    <tr>\n",
              "      <th>1</th>\n",
              "      <td>233.941239</td>\n",
              "      <td>217.435800</td>\n",
              "      <td>176.092754</td>\n",
              "      <td>232.728292</td>\n",
              "      <td>219.556019</td>\n",
              "      <td>184.555278</td>\n",
              "      <td>21.679099</td>\n",
              "      <td>63.068182</td>\n",
              "      <td>233.941239</td>\n",
              "      <td>21.852099</td>\n",
              "      <td>52.817996</td>\n",
              "      <td>232.728292</td>\n",
              "      <td>Set4</td>\n",
              "      <td>B4</td>\n",
              "      <td>A1</td>\n",
              "      <td>51A8D5DF-0265-4137-A97C-204933D83A2B.png</td>\n",
              "    </tr>\n",
              "    <tr>\n",
              "      <th>2</th>\n",
              "      <td>229.438908</td>\n",
              "      <td>212.935606</td>\n",
              "      <td>172.304681</td>\n",
              "      <td>228.053470</td>\n",
              "      <td>214.411732</td>\n",
              "      <td>178.521731</td>\n",
              "      <td>21.622766</td>\n",
              "      <td>63.472416</td>\n",
              "      <td>229.438908</td>\n",
              "      <td>21.778241</td>\n",
              "      <td>55.435363</td>\n",
              "      <td>228.053470</td>\n",
              "      <td>Set4</td>\n",
              "      <td>B4</td>\n",
              "      <td>A1</td>\n",
              "      <td>4EEEE682-6A3A-4EA2-B0E8-F661EFF8F851.png</td>\n",
              "    </tr>\n",
              "    <tr>\n",
              "      <th>3</th>\n",
              "      <td>227.790890</td>\n",
              "      <td>207.271659</td>\n",
              "      <td>163.585179</td>\n",
              "      <td>225.770642</td>\n",
              "      <td>208.319526</td>\n",
              "      <td>166.695672</td>\n",
              "      <td>20.269231</td>\n",
              "      <td>71.893162</td>\n",
              "      <td>227.790890</td>\n",
              "      <td>21.529237</td>\n",
              "      <td>66.783060</td>\n",
              "      <td>225.770642</td>\n",
              "      <td>Set4</td>\n",
              "      <td>B4</td>\n",
              "      <td>A1</td>\n",
              "      <td>98C975EE-4F1C-4322-BE68-D0362677051C.png</td>\n",
              "    </tr>\n",
              "    <tr>\n",
              "      <th>4</th>\n",
              "      <td>226.350816</td>\n",
              "      <td>205.394134</td>\n",
              "      <td>161.782051</td>\n",
              "      <td>224.728477</td>\n",
              "      <td>206.874896</td>\n",
              "      <td>166.727365</td>\n",
              "      <td>20.044872</td>\n",
              "      <td>72.792735</td>\n",
              "      <td>226.350816</td>\n",
              "      <td>21.021685</td>\n",
              "      <td>65.858771</td>\n",
              "      <td>224.728477</td>\n",
              "      <td>Set4</td>\n",
              "      <td>B4</td>\n",
              "      <td>A1</td>\n",
              "      <td>154F666F-3A72-4532-BC86-922DEC7A5986.png</td>\n",
              "    </tr>\n",
              "  </tbody>\n",
              "</table>\n",
              "</div>\n",
              "      <button class=\"colab-df-convert\" onclick=\"convertToInteractive('df-9eb33ada-6c90-430e-9d51-77423031a14c')\"\n",
              "              title=\"Convert this dataframe to an interactive table.\"\n",
              "              style=\"display:none;\">\n",
              "        \n",
              "  <svg xmlns=\"http://www.w3.org/2000/svg\" height=\"24px\"viewBox=\"0 0 24 24\"\n",
              "       width=\"24px\">\n",
              "    <path d=\"M0 0h24v24H0V0z\" fill=\"none\"/>\n",
              "    <path d=\"M18.56 5.44l.94 2.06.94-2.06 2.06-.94-2.06-.94-.94-2.06-.94 2.06-2.06.94zm-11 1L8.5 8.5l.94-2.06 2.06-.94-2.06-.94L8.5 2.5l-.94 2.06-2.06.94zm10 10l.94 2.06.94-2.06 2.06-.94-2.06-.94-.94-2.06-.94 2.06-2.06.94z\"/><path d=\"M17.41 7.96l-1.37-1.37c-.4-.4-.92-.59-1.43-.59-.52 0-1.04.2-1.43.59L10.3 9.45l-7.72 7.72c-.78.78-.78 2.05 0 2.83L4 21.41c.39.39.9.59 1.41.59.51 0 1.02-.2 1.41-.59l7.78-7.78 2.81-2.81c.8-.78.8-2.07 0-2.86zM5.41 20L4 18.59l7.72-7.72 1.47 1.35L5.41 20z\"/>\n",
              "  </svg>\n",
              "      </button>\n",
              "      \n",
              "  <style>\n",
              "    .colab-df-container {\n",
              "      display:flex;\n",
              "      flex-wrap:wrap;\n",
              "      gap: 12px;\n",
              "    }\n",
              "\n",
              "    .colab-df-convert {\n",
              "      background-color: #E8F0FE;\n",
              "      border: none;\n",
              "      border-radius: 50%;\n",
              "      cursor: pointer;\n",
              "      display: none;\n",
              "      fill: #1967D2;\n",
              "      height: 32px;\n",
              "      padding: 0 0 0 0;\n",
              "      width: 32px;\n",
              "    }\n",
              "\n",
              "    .colab-df-convert:hover {\n",
              "      background-color: #E2EBFA;\n",
              "      box-shadow: 0px 1px 2px rgba(60, 64, 67, 0.3), 0px 1px 3px 1px rgba(60, 64, 67, 0.15);\n",
              "      fill: #174EA6;\n",
              "    }\n",
              "\n",
              "    [theme=dark] .colab-df-convert {\n",
              "      background-color: #3B4455;\n",
              "      fill: #D2E3FC;\n",
              "    }\n",
              "\n",
              "    [theme=dark] .colab-df-convert:hover {\n",
              "      background-color: #434B5C;\n",
              "      box-shadow: 0px 1px 3px 1px rgba(0, 0, 0, 0.15);\n",
              "      filter: drop-shadow(0px 1px 2px rgba(0, 0, 0, 0.3));\n",
              "      fill: #FFFFFF;\n",
              "    }\n",
              "  </style>\n",
              "\n",
              "      <script>\n",
              "        const buttonEl =\n",
              "          document.querySelector('#df-9eb33ada-6c90-430e-9d51-77423031a14c button.colab-df-convert');\n",
              "        buttonEl.style.display =\n",
              "          google.colab.kernel.accessAllowed ? 'block' : 'none';\n",
              "\n",
              "        async function convertToInteractive(key) {\n",
              "          const element = document.querySelector('#df-9eb33ada-6c90-430e-9d51-77423031a14c');\n",
              "          const dataTable =\n",
              "            await google.colab.kernel.invokeFunction('convertToInteractive',\n",
              "                                                     [key], {});\n",
              "          if (!dataTable) return;\n",
              "\n",
              "          const docLinkHtml = 'Like what you see? Visit the ' +\n",
              "            '<a target=\"_blank\" href=https://colab.research.google.com/notebooks/data_table.ipynb>data table notebook</a>'\n",
              "            + ' to learn more about interactive tables.';\n",
              "          element.innerHTML = '';\n",
              "          dataTable['output_type'] = 'display_data';\n",
              "          await google.colab.output.renderOutput(dataTable, element);\n",
              "          const docLink = document.createElement('div');\n",
              "          docLink.innerHTML = docLinkHtml;\n",
              "          element.appendChild(docLink);\n",
              "        }\n",
              "      </script>\n",
              "    </div>\n",
              "  </div>\n",
              "  "
            ],
            "text/plain": [
              "        R-ref       G-ref  ...  Shad                                       Img\n",
              "0  236.372863  219.322844  ...    A1  E6FD1E47-41F1-4FC7-8EDA-377E52421795.png\n",
              "1  233.941239  217.435800  ...    A1  51A8D5DF-0265-4137-A97C-204933D83A2B.png\n",
              "2  229.438908  212.935606  ...    A1  4EEEE682-6A3A-4EA2-B0E8-F661EFF8F851.png\n",
              "3  227.790890  207.271659  ...    A1  98C975EE-4F1C-4322-BE68-D0362677051C.png\n",
              "4  226.350816  205.394134  ...    A1  154F666F-3A72-4532-BC86-922DEC7A5986.png\n",
              "\n",
              "[5 rows x 16 columns]"
            ]
          },
          "metadata": {},
          "execution_count": 937
        }
      ]
    },
    {
      "cell_type": "markdown",
      "source": [
        "###RGB"
      ],
      "metadata": {
        "id": "yhLLze51tDK0"
      }
    },
    {
      "cell_type": "code",
      "source": [
        "RGB_B4_Set1 = table_B4Set1.drop(['H-ref','S-ref','V-ref','H-Shad','S-Shad','V-Shad','Setting','Ref','Shad','Img'], axis=1)"
      ],
      "metadata": {
        "id": "vRObWfxTtDK0"
      },
      "execution_count": 938,
      "outputs": []
    },
    {
      "cell_type": "code",
      "source": [
        "RGB_B4_Set2 = table_B4Set2"
      ],
      "metadata": {
        "id": "qa5YSX8WtDK1"
      },
      "execution_count": 939,
      "outputs": []
    },
    {
      "cell_type": "code",
      "source": [
        "RGB_B4_Set3 = table_B4Set3"
      ],
      "metadata": {
        "id": "Vz1GzOGctDK1"
      },
      "execution_count": 940,
      "outputs": []
    },
    {
      "cell_type": "code",
      "source": [
        "RGB_B4_Set4 = table_B4Set4"
      ],
      "metadata": {
        "id": "fQbfCpNhtDK1"
      },
      "execution_count": 941,
      "outputs": []
    },
    {
      "cell_type": "code",
      "source": [
        "RGB_B4_concat0 = pd.concat([RGB_B4_Set2,RGB_B4_Set3])"
      ],
      "metadata": {
        "id": "SfY27ryCtDK1"
      },
      "execution_count": 942,
      "outputs": []
    },
    {
      "cell_type": "code",
      "source": [
        "RGB_B4_concat1 = pd.concat([RGB_B4_concat0,RGB_B4_Set4])"
      ],
      "metadata": {
        "id": "qZIK7VPWtDK1"
      },
      "execution_count": 943,
      "outputs": []
    },
    {
      "cell_type": "code",
      "source": [
        "print(RGB_B4_concat1.columns)"
      ],
      "metadata": {
        "colab": {
          "base_uri": "https://localhost:8080/"
        },
        "outputId": "fc5cd14d-4a59-4a27-97de-272df0e56e44",
        "id": "qMqziMOwtDK1"
      },
      "execution_count": 944,
      "outputs": [
        {
          "output_type": "stream",
          "name": "stdout",
          "text": [
            "Index(['R-ref', 'G-ref', 'B-ref', 'R-Shad', 'G-Shad', 'B-Shad', 'H-ref',\n",
            "       'S-ref', 'V-ref', 'H-Shad', 'S-Shad', 'V-Shad', 'Setting', 'Ref',\n",
            "       'Shad', 'Img'],\n",
            "      dtype='object')\n"
          ]
        }
      ]
    },
    {
      "cell_type": "code",
      "source": [
        "RGB_B4_concat2 = RGB_B4_concat1.drop(['H-ref','S-ref','V-ref','H-Shad','S-Shad','V-Shad','Setting','Ref','Shad','Img'], axis=1)"
      ],
      "metadata": {
        "id": "jxqKeWgKtDK1"
      },
      "execution_count": 945,
      "outputs": []
    },
    {
      "cell_type": "code",
      "source": [
        "X_test_B4_RGB = np.array(RGB_B4_Set1)"
      ],
      "metadata": {
        "id": "580vZZA_tDK2"
      },
      "execution_count": 946,
      "outputs": []
    },
    {
      "cell_type": "code",
      "source": [
        "y_B4_RGB =  table_B4Set1.iloc[:,14:15]"
      ],
      "metadata": {
        "id": "_Hdc8Yi_tDK2"
      },
      "execution_count": 947,
      "outputs": []
    },
    {
      "cell_type": "code",
      "source": [
        "y_test_B4_RGB = np.array(y_B4_RGB)"
      ],
      "metadata": {
        "id": "wD0UYgdPtDK2"
      },
      "execution_count": 948,
      "outputs": []
    },
    {
      "cell_type": "code",
      "source": [
        "X_train_B4_RGB = np.array(RGB_B4_concat2)"
      ],
      "metadata": {
        "id": "ozTac6WstDK2"
      },
      "execution_count": 949,
      "outputs": []
    },
    {
      "cell_type": "code",
      "source": [
        "y_train_B4RGB = RGB_B4_concat1.iloc[:,14:15]"
      ],
      "metadata": {
        "id": "HobHEx5ctDK2"
      },
      "execution_count": 950,
      "outputs": []
    },
    {
      "cell_type": "code",
      "source": [
        "y_train_B4_RGB = np.array(y_train_B4RGB)"
      ],
      "metadata": {
        "id": "XZ0quwGvtDK2"
      },
      "execution_count": 951,
      "outputs": []
    },
    {
      "cell_type": "code",
      "source": [
        "clf.fit(X_train_B4_RGB, y_train_B4_RGB)"
      ],
      "metadata": {
        "colab": {
          "base_uri": "https://localhost:8080/"
        },
        "outputId": "c568137e-d347-41fa-9f61-7d4c3a02340b",
        "id": "T_x28SvCtDK2"
      },
      "execution_count": 952,
      "outputs": [
        {
          "output_type": "stream",
          "name": "stderr",
          "text": [
            "/usr/local/lib/python3.7/dist-packages/ipykernel_launcher.py:1: DataConversionWarning: A column-vector y was passed when a 1d array was expected. Please change the shape of y to (n_samples,), for example using ravel().\n",
            "  \"\"\"Entry point for launching an IPython kernel.\n"
          ]
        },
        {
          "output_type": "execute_result",
          "data": {
            "text/plain": [
              "RandomForestClassifier()"
            ]
          },
          "metadata": {},
          "execution_count": 952
        }
      ]
    },
    {
      "cell_type": "code",
      "source": [
        "y_pred_B4_RGB = clf.predict(X_test_B4_RGB)"
      ],
      "metadata": {
        "id": "hzIH7DSLtDK2"
      },
      "execution_count": 953,
      "outputs": []
    },
    {
      "cell_type": "code",
      "source": [
        "print(\"Accuracy:\", metrics.accuracy_score(y_test_B4_RGB, y_pred_B4_RGB))"
      ],
      "metadata": {
        "colab": {
          "base_uri": "https://localhost:8080/"
        },
        "outputId": "3e429c6f-b802-4041-8f56-edb7677e0509",
        "id": "GEEbdpHWtDK2"
      },
      "execution_count": 954,
      "outputs": [
        {
          "output_type": "stream",
          "name": "stdout",
          "text": [
            "Accuracy: 1.0\n"
          ]
        }
      ]
    },
    {
      "cell_type": "markdown",
      "source": [
        "###HSV"
      ],
      "metadata": {
        "id": "0uU72QTItDK3"
      }
    },
    {
      "cell_type": "code",
      "source": [
        "HSV_B4_Set1 = table_B4Set1.drop(['R-ref','G-ref','B-ref','R-Shad','G-Shad','B-Shad','Setting','Ref','Shad','Img'], axis=1)"
      ],
      "metadata": {
        "id": "UmeCk7BEtDK3"
      },
      "execution_count": 955,
      "outputs": []
    },
    {
      "cell_type": "code",
      "source": [
        "HSV_B4_concat2 = RGB_B4_concat1.drop(['R-ref','G-ref','B-ref','R-Shad','G-Shad','B-Shad','Setting','Ref','Shad','Img'], axis=1)"
      ],
      "metadata": {
        "id": "ZxnIQOSvtDK3"
      },
      "execution_count": 956,
      "outputs": []
    },
    {
      "cell_type": "code",
      "source": [
        "X_test_B4_HSV = np.array(HSV_B4_Set1)"
      ],
      "metadata": {
        "id": "aSLDyIKBtDK3"
      },
      "execution_count": 957,
      "outputs": []
    },
    {
      "cell_type": "code",
      "source": [
        "y_B4_HSV =  table_B4Set1.iloc[:,14:15]"
      ],
      "metadata": {
        "id": "FTlJFVSLtDK3"
      },
      "execution_count": 958,
      "outputs": []
    },
    {
      "cell_type": "code",
      "source": [
        "y_test_B4_HSV = np.array(y_B4_RGB)"
      ],
      "metadata": {
        "id": "ZEV2tUCttDK3"
      },
      "execution_count": 959,
      "outputs": []
    },
    {
      "cell_type": "code",
      "source": [
        "X_train_B4_HSV = np.array(HSV_B4_concat2)"
      ],
      "metadata": {
        "id": "9JqQWNVCtDK3"
      },
      "execution_count": 960,
      "outputs": []
    },
    {
      "cell_type": "code",
      "source": [
        "y_train_B4HSV = RGB_B4_concat1.iloc[:,14:15]"
      ],
      "metadata": {
        "id": "bpU-fvwMtDK3"
      },
      "execution_count": 961,
      "outputs": []
    },
    {
      "cell_type": "code",
      "source": [
        "y_train_B4_HSV = np.array(y_train_B4HSV)"
      ],
      "metadata": {
        "id": "F_wqNTDBtDK4"
      },
      "execution_count": 962,
      "outputs": []
    },
    {
      "cell_type": "code",
      "source": [
        "X_train_B4_HSV.shape"
      ],
      "metadata": {
        "colab": {
          "base_uri": "https://localhost:8080/"
        },
        "outputId": "d63f3d05-9fa8-4175-a6a5-cb718fb547d8",
        "id": "oviiGwzutDK4"
      },
      "execution_count": 963,
      "outputs": [
        {
          "output_type": "execute_result",
          "data": {
            "text/plain": [
              "(2415, 6)"
            ]
          },
          "metadata": {},
          "execution_count": 963
        }
      ]
    },
    {
      "cell_type": "code",
      "source": [
        "y_train_B4_HSV.shape"
      ],
      "metadata": {
        "colab": {
          "base_uri": "https://localhost:8080/"
        },
        "outputId": "204c6ef1-10d4-445e-e067-06083c2cb90f",
        "id": "xrbExkoOtDK4"
      },
      "execution_count": 964,
      "outputs": [
        {
          "output_type": "execute_result",
          "data": {
            "text/plain": [
              "(2415, 1)"
            ]
          },
          "metadata": {},
          "execution_count": 964
        }
      ]
    },
    {
      "cell_type": "code",
      "source": [
        "clf.fit(X_train_B4_HSV, y_train_B4_HSV)"
      ],
      "metadata": {
        "colab": {
          "base_uri": "https://localhost:8080/"
        },
        "outputId": "19231375-0371-4e8b-eb2d-b9550a3e35e8",
        "id": "T6Pk-fwVtDK4"
      },
      "execution_count": 965,
      "outputs": [
        {
          "output_type": "stream",
          "name": "stderr",
          "text": [
            "/usr/local/lib/python3.7/dist-packages/ipykernel_launcher.py:1: DataConversionWarning: A column-vector y was passed when a 1d array was expected. Please change the shape of y to (n_samples,), for example using ravel().\n",
            "  \"\"\"Entry point for launching an IPython kernel.\n"
          ]
        },
        {
          "output_type": "execute_result",
          "data": {
            "text/plain": [
              "RandomForestClassifier()"
            ]
          },
          "metadata": {},
          "execution_count": 965
        }
      ]
    },
    {
      "cell_type": "code",
      "source": [
        "y_pred_B4_HSV = clf.predict(X_test_B4_HSV)"
      ],
      "metadata": {
        "id": "J1JaTO8ztDK4"
      },
      "execution_count": 966,
      "outputs": []
    },
    {
      "cell_type": "code",
      "source": [
        "print(\"Accuracy:\", metrics.accuracy_score(y_test_B4_HSV, y_pred_B4_HSV))"
      ],
      "metadata": {
        "colab": {
          "base_uri": "https://localhost:8080/"
        },
        "outputId": "8fbf3957-460e-4d2c-a2dc-187ef8a86137",
        "id": "ciaeVTHrtDK4"
      },
      "execution_count": 967,
      "outputs": [
        {
          "output_type": "stream",
          "name": "stdout",
          "text": [
            "Accuracy: 0.9465838509316771\n"
          ]
        }
      ]
    },
    {
      "cell_type": "markdown",
      "source": [
        "#CC"
      ],
      "metadata": {
        "id": "YmEFu_3tt92a"
      }
    },
    {
      "cell_type": "markdown",
      "source": [
        "##C1"
      ],
      "metadata": {
        "id": "VmnxrOB3uK8S"
      }
    },
    {
      "cell_type": "code",
      "source": [
        "table_C1Set1 = pd.read_excel(Set1 , sheet_name='C1Set1 ')\n",
        "table_C1Set1.head()"
      ],
      "metadata": {
        "colab": {
          "base_uri": "https://localhost:8080/",
          "height": 337
        },
        "outputId": "1ff4801c-fb08-4327-fa10-e827c3f711ec",
        "id": "DwwAi7JBuK8T"
      },
      "execution_count": 968,
      "outputs": [
        {
          "output_type": "execute_result",
          "data": {
            "text/html": [
              "\n",
              "  <div id=\"df-0e04a8ff-dba3-4e3d-8d3e-112c2f7704f0\">\n",
              "    <div class=\"colab-df-container\">\n",
              "      <div>\n",
              "<style scoped>\n",
              "    .dataframe tbody tr th:only-of-type {\n",
              "        vertical-align: middle;\n",
              "    }\n",
              "\n",
              "    .dataframe tbody tr th {\n",
              "        vertical-align: top;\n",
              "    }\n",
              "\n",
              "    .dataframe thead th {\n",
              "        text-align: right;\n",
              "    }\n",
              "</style>\n",
              "<table border=\"1\" class=\"dataframe\">\n",
              "  <thead>\n",
              "    <tr style=\"text-align: right;\">\n",
              "      <th></th>\n",
              "      <th>R-ref</th>\n",
              "      <th>G-ref</th>\n",
              "      <th>B-ref</th>\n",
              "      <th>R-Shad</th>\n",
              "      <th>G-Shad</th>\n",
              "      <th>B-Shad</th>\n",
              "      <th>H-ref</th>\n",
              "      <th>S-ref</th>\n",
              "      <th>V-ref</th>\n",
              "      <th>H-Shad</th>\n",
              "      <th>S-Shad</th>\n",
              "      <th>V-Shad</th>\n",
              "      <th>Setting</th>\n",
              "      <th>Ref</th>\n",
              "      <th>Shad</th>\n",
              "      <th>Img</th>\n",
              "    </tr>\n",
              "  </thead>\n",
              "  <tbody>\n",
              "    <tr>\n",
              "      <th>0</th>\n",
              "      <td>238.821037</td>\n",
              "      <td>225.705543</td>\n",
              "      <td>190.281389</td>\n",
              "      <td>239.471161</td>\n",
              "      <td>226.830738</td>\n",
              "      <td>192.584525</td>\n",
              "      <td>22.002110</td>\n",
              "      <td>51.950004</td>\n",
              "      <td>238.821037</td>\n",
              "      <td>22.136619</td>\n",
              "      <td>50.134841</td>\n",
              "      <td>239.480976</td>\n",
              "      <td>Set1</td>\n",
              "      <td>C1</td>\n",
              "      <td>A1</td>\n",
              "      <td>998EA81C-77D0-4357-9197-D7AEAAAE4F91.png</td>\n",
              "    </tr>\n",
              "    <tr>\n",
              "      <th>1</th>\n",
              "      <td>239.015096</td>\n",
              "      <td>225.933366</td>\n",
              "      <td>189.813814</td>\n",
              "      <td>239.661831</td>\n",
              "      <td>227.036128</td>\n",
              "      <td>192.028376</td>\n",
              "      <td>22.160701</td>\n",
              "      <td>52.631442</td>\n",
              "      <td>239.015096</td>\n",
              "      <td>22.305099</td>\n",
              "      <td>50.899580</td>\n",
              "      <td>239.668587</td>\n",
              "      <td>Set1</td>\n",
              "      <td>C1</td>\n",
              "      <td>A1</td>\n",
              "      <td>C69EF426-D68B-4503-AFC0-A62E37CCB172.png</td>\n",
              "    </tr>\n",
              "    <tr>\n",
              "      <th>2</th>\n",
              "      <td>239.849931</td>\n",
              "      <td>227.537051</td>\n",
              "      <td>193.802045</td>\n",
              "      <td>240.594268</td>\n",
              "      <td>228.924187</td>\n",
              "      <td>196.427779</td>\n",
              "      <td>22.082299</td>\n",
              "      <td>49.090252</td>\n",
              "      <td>239.850986</td>\n",
              "      <td>22.455160</td>\n",
              "      <td>47.039400</td>\n",
              "      <td>240.609558</td>\n",
              "      <td>Set1</td>\n",
              "      <td>C1</td>\n",
              "      <td>A1</td>\n",
              "      <td>95C4078C-AD0D-4394-BCF6-9C2E1E7C2219.png</td>\n",
              "    </tr>\n",
              "    <tr>\n",
              "      <th>3</th>\n",
              "      <td>239.325785</td>\n",
              "      <td>226.816573</td>\n",
              "      <td>192.238942</td>\n",
              "      <td>239.886139</td>\n",
              "      <td>227.853140</td>\n",
              "      <td>194.250551</td>\n",
              "      <td>22.134648</td>\n",
              "      <td>50.271894</td>\n",
              "      <td>239.325785</td>\n",
              "      <td>22.290520</td>\n",
              "      <td>48.668445</td>\n",
              "      <td>239.892326</td>\n",
              "      <td>Set1</td>\n",
              "      <td>C1</td>\n",
              "      <td>A1</td>\n",
              "      <td>770F3E42-0415-48C8-AE28-664827DCDAAE.png</td>\n",
              "    </tr>\n",
              "    <tr>\n",
              "      <th>4</th>\n",
              "      <td>236.398182</td>\n",
              "      <td>225.056083</td>\n",
              "      <td>193.174742</td>\n",
              "      <td>237.114572</td>\n",
              "      <td>226.267051</td>\n",
              "      <td>195.376574</td>\n",
              "      <td>22.216297</td>\n",
              "      <td>46.713984</td>\n",
              "      <td>236.398182</td>\n",
              "      <td>22.447692</td>\n",
              "      <td>45.052699</td>\n",
              "      <td>237.122395</td>\n",
              "      <td>Set1</td>\n",
              "      <td>C1</td>\n",
              "      <td>A1</td>\n",
              "      <td>AFD98982-91EB-4E2A-BEA8-8FDCCC8F33E1.png</td>\n",
              "    </tr>\n",
              "  </tbody>\n",
              "</table>\n",
              "</div>\n",
              "      <button class=\"colab-df-convert\" onclick=\"convertToInteractive('df-0e04a8ff-dba3-4e3d-8d3e-112c2f7704f0')\"\n",
              "              title=\"Convert this dataframe to an interactive table.\"\n",
              "              style=\"display:none;\">\n",
              "        \n",
              "  <svg xmlns=\"http://www.w3.org/2000/svg\" height=\"24px\"viewBox=\"0 0 24 24\"\n",
              "       width=\"24px\">\n",
              "    <path d=\"M0 0h24v24H0V0z\" fill=\"none\"/>\n",
              "    <path d=\"M18.56 5.44l.94 2.06.94-2.06 2.06-.94-2.06-.94-.94-2.06-.94 2.06-2.06.94zm-11 1L8.5 8.5l.94-2.06 2.06-.94-2.06-.94L8.5 2.5l-.94 2.06-2.06.94zm10 10l.94 2.06.94-2.06 2.06-.94-2.06-.94-.94-2.06-.94 2.06-2.06.94z\"/><path d=\"M17.41 7.96l-1.37-1.37c-.4-.4-.92-.59-1.43-.59-.52 0-1.04.2-1.43.59L10.3 9.45l-7.72 7.72c-.78.78-.78 2.05 0 2.83L4 21.41c.39.39.9.59 1.41.59.51 0 1.02-.2 1.41-.59l7.78-7.78 2.81-2.81c.8-.78.8-2.07 0-2.86zM5.41 20L4 18.59l7.72-7.72 1.47 1.35L5.41 20z\"/>\n",
              "  </svg>\n",
              "      </button>\n",
              "      \n",
              "  <style>\n",
              "    .colab-df-container {\n",
              "      display:flex;\n",
              "      flex-wrap:wrap;\n",
              "      gap: 12px;\n",
              "    }\n",
              "\n",
              "    .colab-df-convert {\n",
              "      background-color: #E8F0FE;\n",
              "      border: none;\n",
              "      border-radius: 50%;\n",
              "      cursor: pointer;\n",
              "      display: none;\n",
              "      fill: #1967D2;\n",
              "      height: 32px;\n",
              "      padding: 0 0 0 0;\n",
              "      width: 32px;\n",
              "    }\n",
              "\n",
              "    .colab-df-convert:hover {\n",
              "      background-color: #E2EBFA;\n",
              "      box-shadow: 0px 1px 2px rgba(60, 64, 67, 0.3), 0px 1px 3px 1px rgba(60, 64, 67, 0.15);\n",
              "      fill: #174EA6;\n",
              "    }\n",
              "\n",
              "    [theme=dark] .colab-df-convert {\n",
              "      background-color: #3B4455;\n",
              "      fill: #D2E3FC;\n",
              "    }\n",
              "\n",
              "    [theme=dark] .colab-df-convert:hover {\n",
              "      background-color: #434B5C;\n",
              "      box-shadow: 0px 1px 3px 1px rgba(0, 0, 0, 0.15);\n",
              "      filter: drop-shadow(0px 1px 2px rgba(0, 0, 0, 0.3));\n",
              "      fill: #FFFFFF;\n",
              "    }\n",
              "  </style>\n",
              "\n",
              "      <script>\n",
              "        const buttonEl =\n",
              "          document.querySelector('#df-0e04a8ff-dba3-4e3d-8d3e-112c2f7704f0 button.colab-df-convert');\n",
              "        buttonEl.style.display =\n",
              "          google.colab.kernel.accessAllowed ? 'block' : 'none';\n",
              "\n",
              "        async function convertToInteractive(key) {\n",
              "          const element = document.querySelector('#df-0e04a8ff-dba3-4e3d-8d3e-112c2f7704f0');\n",
              "          const dataTable =\n",
              "            await google.colab.kernel.invokeFunction('convertToInteractive',\n",
              "                                                     [key], {});\n",
              "          if (!dataTable) return;\n",
              "\n",
              "          const docLinkHtml = 'Like what you see? Visit the ' +\n",
              "            '<a target=\"_blank\" href=https://colab.research.google.com/notebooks/data_table.ipynb>data table notebook</a>'\n",
              "            + ' to learn more about interactive tables.';\n",
              "          element.innerHTML = '';\n",
              "          dataTable['output_type'] = 'display_data';\n",
              "          await google.colab.output.renderOutput(dataTable, element);\n",
              "          const docLink = document.createElement('div');\n",
              "          docLink.innerHTML = docLinkHtml;\n",
              "          element.appendChild(docLink);\n",
              "        }\n",
              "      </script>\n",
              "    </div>\n",
              "  </div>\n",
              "  "
            ],
            "text/plain": [
              "        R-ref       G-ref  ...  Shad                                       Img\n",
              "0  238.821037  225.705543  ...    A1  998EA81C-77D0-4357-9197-D7AEAAAE4F91.png\n",
              "1  239.015096  225.933366  ...    A1  C69EF426-D68B-4503-AFC0-A62E37CCB172.png\n",
              "2  239.849931  227.537051  ...    A1  95C4078C-AD0D-4394-BCF6-9C2E1E7C2219.png\n",
              "3  239.325785  226.816573  ...    A1  770F3E42-0415-48C8-AE28-664827DCDAAE.png\n",
              "4  236.398182  225.056083  ...    A1  AFD98982-91EB-4E2A-BEA8-8FDCCC8F33E1.png\n",
              "\n",
              "[5 rows x 16 columns]"
            ]
          },
          "metadata": {},
          "execution_count": 968
        }
      ]
    },
    {
      "cell_type": "code",
      "source": [
        "table_C1Set2 = pd.read_excel(Set2, sheet_name='C1Set2')\n",
        "table_C1Set2.head()"
      ],
      "metadata": {
        "colab": {
          "base_uri": "https://localhost:8080/",
          "height": 337
        },
        "outputId": "d15160d3-d8e6-4588-c79a-43dab4df6678",
        "id": "9fs_Q3NUuK8T"
      },
      "execution_count": 969,
      "outputs": [
        {
          "output_type": "execute_result",
          "data": {
            "text/html": [
              "\n",
              "  <div id=\"df-3a351360-ae43-40f7-a6c0-6b2cdcbc7687\">\n",
              "    <div class=\"colab-df-container\">\n",
              "      <div>\n",
              "<style scoped>\n",
              "    .dataframe tbody tr th:only-of-type {\n",
              "        vertical-align: middle;\n",
              "    }\n",
              "\n",
              "    .dataframe tbody tr th {\n",
              "        vertical-align: top;\n",
              "    }\n",
              "\n",
              "    .dataframe thead th {\n",
              "        text-align: right;\n",
              "    }\n",
              "</style>\n",
              "<table border=\"1\" class=\"dataframe\">\n",
              "  <thead>\n",
              "    <tr style=\"text-align: right;\">\n",
              "      <th></th>\n",
              "      <th>R-ref</th>\n",
              "      <th>G-ref</th>\n",
              "      <th>B-ref</th>\n",
              "      <th>R-Shad</th>\n",
              "      <th>G-Shad</th>\n",
              "      <th>B-Shad</th>\n",
              "      <th>H-ref</th>\n",
              "      <th>S-ref</th>\n",
              "      <th>V-ref</th>\n",
              "      <th>H-Shad</th>\n",
              "      <th>S-Shad</th>\n",
              "      <th>V-Shad</th>\n",
              "      <th>Setting</th>\n",
              "      <th>Ref</th>\n",
              "      <th>Shad</th>\n",
              "      <th>Img</th>\n",
              "    </tr>\n",
              "  </thead>\n",
              "  <tbody>\n",
              "    <tr>\n",
              "      <th>0</th>\n",
              "      <td>237.518454</td>\n",
              "      <td>218.775253</td>\n",
              "      <td>168.165016</td>\n",
              "      <td>236.046891</td>\n",
              "      <td>220.360671</td>\n",
              "      <td>182.475489</td>\n",
              "      <td>21.988151</td>\n",
              "      <td>74.531371</td>\n",
              "      <td>237.518454</td>\n",
              "      <td>21.336021</td>\n",
              "      <td>57.959040</td>\n",
              "      <td>236.046891</td>\n",
              "      <td>Set2</td>\n",
              "      <td>C1</td>\n",
              "      <td>A1</td>\n",
              "      <td>B89A222A-3234-4967-A308-F5A62CCCD364.png</td>\n",
              "    </tr>\n",
              "    <tr>\n",
              "      <th>1</th>\n",
              "      <td>239.236500</td>\n",
              "      <td>226.574106</td>\n",
              "      <td>192.074883</td>\n",
              "      <td>229.881753</td>\n",
              "      <td>212.417756</td>\n",
              "      <td>171.454267</td>\n",
              "      <td>22.014277</td>\n",
              "      <td>50.377622</td>\n",
              "      <td>239.236500</td>\n",
              "      <td>21.245390</td>\n",
              "      <td>64.893522</td>\n",
              "      <td>229.881753</td>\n",
              "      <td>Set2</td>\n",
              "      <td>C1</td>\n",
              "      <td>A1</td>\n",
              "      <td>41955A6C-4962-4CEC-B8F3-08A956E916B4.png</td>\n",
              "    </tr>\n",
              "    <tr>\n",
              "      <th>2</th>\n",
              "      <td>239.455614</td>\n",
              "      <td>226.906080</td>\n",
              "      <td>191.725427</td>\n",
              "      <td>229.586322</td>\n",
              "      <td>211.631637</td>\n",
              "      <td>169.314151</td>\n",
              "      <td>22.211053</td>\n",
              "      <td>50.957459</td>\n",
              "      <td>239.455614</td>\n",
              "      <td>21.135947</td>\n",
              "      <td>66.991382</td>\n",
              "      <td>229.586322</td>\n",
              "      <td>Set2</td>\n",
              "      <td>C1</td>\n",
              "      <td>A1</td>\n",
              "      <td>F65D6CFE-5C0F-4985-AC65-FF4C1D51EC64.png</td>\n",
              "    </tr>\n",
              "    <tr>\n",
              "      <th>3</th>\n",
              "      <td>240.266900</td>\n",
              "      <td>228.472222</td>\n",
              "      <td>195.808858</td>\n",
              "      <td>231.276063</td>\n",
              "      <td>214.568437</td>\n",
              "      <td>174.635530</td>\n",
              "      <td>22.128788</td>\n",
              "      <td>47.320027</td>\n",
              "      <td>240.269134</td>\n",
              "      <td>21.363451</td>\n",
              "      <td>62.501622</td>\n",
              "      <td>231.276063</td>\n",
              "      <td>Set2</td>\n",
              "      <td>C1</td>\n",
              "      <td>A1</td>\n",
              "      <td>03A1BF92-0BE6-4C5B-8E26-255D6E691A45.png</td>\n",
              "    </tr>\n",
              "    <tr>\n",
              "      <th>4</th>\n",
              "      <td>239.647145</td>\n",
              "      <td>227.612568</td>\n",
              "      <td>193.990579</td>\n",
              "      <td>231.185340</td>\n",
              "      <td>214.659902</td>\n",
              "      <td>174.247521</td>\n",
              "      <td>22.146465</td>\n",
              "      <td>48.670455</td>\n",
              "      <td>239.647145</td>\n",
              "      <td>21.524140</td>\n",
              "      <td>62.850338</td>\n",
              "      <td>231.185340</td>\n",
              "      <td>Set2</td>\n",
              "      <td>C1</td>\n",
              "      <td>A1</td>\n",
              "      <td>9690DDF5-C1FC-48E2-8B04-80FECD22D7AD.png</td>\n",
              "    </tr>\n",
              "  </tbody>\n",
              "</table>\n",
              "</div>\n",
              "      <button class=\"colab-df-convert\" onclick=\"convertToInteractive('df-3a351360-ae43-40f7-a6c0-6b2cdcbc7687')\"\n",
              "              title=\"Convert this dataframe to an interactive table.\"\n",
              "              style=\"display:none;\">\n",
              "        \n",
              "  <svg xmlns=\"http://www.w3.org/2000/svg\" height=\"24px\"viewBox=\"0 0 24 24\"\n",
              "       width=\"24px\">\n",
              "    <path d=\"M0 0h24v24H0V0z\" fill=\"none\"/>\n",
              "    <path d=\"M18.56 5.44l.94 2.06.94-2.06 2.06-.94-2.06-.94-.94-2.06-.94 2.06-2.06.94zm-11 1L8.5 8.5l.94-2.06 2.06-.94-2.06-.94L8.5 2.5l-.94 2.06-2.06.94zm10 10l.94 2.06.94-2.06 2.06-.94-2.06-.94-.94-2.06-.94 2.06-2.06.94z\"/><path d=\"M17.41 7.96l-1.37-1.37c-.4-.4-.92-.59-1.43-.59-.52 0-1.04.2-1.43.59L10.3 9.45l-7.72 7.72c-.78.78-.78 2.05 0 2.83L4 21.41c.39.39.9.59 1.41.59.51 0 1.02-.2 1.41-.59l7.78-7.78 2.81-2.81c.8-.78.8-2.07 0-2.86zM5.41 20L4 18.59l7.72-7.72 1.47 1.35L5.41 20z\"/>\n",
              "  </svg>\n",
              "      </button>\n",
              "      \n",
              "  <style>\n",
              "    .colab-df-container {\n",
              "      display:flex;\n",
              "      flex-wrap:wrap;\n",
              "      gap: 12px;\n",
              "    }\n",
              "\n",
              "    .colab-df-convert {\n",
              "      background-color: #E8F0FE;\n",
              "      border: none;\n",
              "      border-radius: 50%;\n",
              "      cursor: pointer;\n",
              "      display: none;\n",
              "      fill: #1967D2;\n",
              "      height: 32px;\n",
              "      padding: 0 0 0 0;\n",
              "      width: 32px;\n",
              "    }\n",
              "\n",
              "    .colab-df-convert:hover {\n",
              "      background-color: #E2EBFA;\n",
              "      box-shadow: 0px 1px 2px rgba(60, 64, 67, 0.3), 0px 1px 3px 1px rgba(60, 64, 67, 0.15);\n",
              "      fill: #174EA6;\n",
              "    }\n",
              "\n",
              "    [theme=dark] .colab-df-convert {\n",
              "      background-color: #3B4455;\n",
              "      fill: #D2E3FC;\n",
              "    }\n",
              "\n",
              "    [theme=dark] .colab-df-convert:hover {\n",
              "      background-color: #434B5C;\n",
              "      box-shadow: 0px 1px 3px 1px rgba(0, 0, 0, 0.15);\n",
              "      filter: drop-shadow(0px 1px 2px rgba(0, 0, 0, 0.3));\n",
              "      fill: #FFFFFF;\n",
              "    }\n",
              "  </style>\n",
              "\n",
              "      <script>\n",
              "        const buttonEl =\n",
              "          document.querySelector('#df-3a351360-ae43-40f7-a6c0-6b2cdcbc7687 button.colab-df-convert');\n",
              "        buttonEl.style.display =\n",
              "          google.colab.kernel.accessAllowed ? 'block' : 'none';\n",
              "\n",
              "        async function convertToInteractive(key) {\n",
              "          const element = document.querySelector('#df-3a351360-ae43-40f7-a6c0-6b2cdcbc7687');\n",
              "          const dataTable =\n",
              "            await google.colab.kernel.invokeFunction('convertToInteractive',\n",
              "                                                     [key], {});\n",
              "          if (!dataTable) return;\n",
              "\n",
              "          const docLinkHtml = 'Like what you see? Visit the ' +\n",
              "            '<a target=\"_blank\" href=https://colab.research.google.com/notebooks/data_table.ipynb>data table notebook</a>'\n",
              "            + ' to learn more about interactive tables.';\n",
              "          element.innerHTML = '';\n",
              "          dataTable['output_type'] = 'display_data';\n",
              "          await google.colab.output.renderOutput(dataTable, element);\n",
              "          const docLink = document.createElement('div');\n",
              "          docLink.innerHTML = docLinkHtml;\n",
              "          element.appendChild(docLink);\n",
              "        }\n",
              "      </script>\n",
              "    </div>\n",
              "  </div>\n",
              "  "
            ],
            "text/plain": [
              "        R-ref       G-ref  ...  Shad                                       Img\n",
              "0  237.518454  218.775253  ...    A1  B89A222A-3234-4967-A308-F5A62CCCD364.png\n",
              "1  239.236500  226.574106  ...    A1  41955A6C-4962-4CEC-B8F3-08A956E916B4.png\n",
              "2  239.455614  226.906080  ...    A1  F65D6CFE-5C0F-4985-AC65-FF4C1D51EC64.png\n",
              "3  240.266900  228.472222  ...    A1  03A1BF92-0BE6-4C5B-8E26-255D6E691A45.png\n",
              "4  239.647145  227.612568  ...    A1  9690DDF5-C1FC-48E2-8B04-80FECD22D7AD.png\n",
              "\n",
              "[5 rows x 16 columns]"
            ]
          },
          "metadata": {},
          "execution_count": 969
        }
      ]
    },
    {
      "cell_type": "code",
      "source": [
        "table_C1Set3 = pd.read_excel(Set3, sheet_name='C1Set3 ')\n",
        "table_C1Set3.head()"
      ],
      "metadata": {
        "colab": {
          "base_uri": "https://localhost:8080/",
          "height": 337
        },
        "outputId": "a6ba3b6f-8f80-41e8-ae57-dbb5a8af6fa9",
        "id": "b1AARJT9uK8T"
      },
      "execution_count": 970,
      "outputs": [
        {
          "output_type": "execute_result",
          "data": {
            "text/html": [
              "\n",
              "  <div id=\"df-43bbee40-36e6-4c9a-a844-33a41da98368\">\n",
              "    <div class=\"colab-df-container\">\n",
              "      <div>\n",
              "<style scoped>\n",
              "    .dataframe tbody tr th:only-of-type {\n",
              "        vertical-align: middle;\n",
              "    }\n",
              "\n",
              "    .dataframe tbody tr th {\n",
              "        vertical-align: top;\n",
              "    }\n",
              "\n",
              "    .dataframe thead th {\n",
              "        text-align: right;\n",
              "    }\n",
              "</style>\n",
              "<table border=\"1\" class=\"dataframe\">\n",
              "  <thead>\n",
              "    <tr style=\"text-align: right;\">\n",
              "      <th></th>\n",
              "      <th>R-ref</th>\n",
              "      <th>G-ref</th>\n",
              "      <th>B-ref</th>\n",
              "      <th>R-Shad</th>\n",
              "      <th>G-Shad</th>\n",
              "      <th>B-Shad</th>\n",
              "      <th>H-ref</th>\n",
              "      <th>S-ref</th>\n",
              "      <th>V-ref</th>\n",
              "      <th>H-Shad</th>\n",
              "      <th>S-Shad</th>\n",
              "      <th>V-Shad</th>\n",
              "      <th>Setting</th>\n",
              "      <th>Ref</th>\n",
              "      <th>Shad</th>\n",
              "      <th>Img</th>\n",
              "    </tr>\n",
              "  </thead>\n",
              "  <tbody>\n",
              "    <tr>\n",
              "      <th>0</th>\n",
              "      <td>237.518454</td>\n",
              "      <td>218.775253</td>\n",
              "      <td>168.165016</td>\n",
              "      <td>236.046891</td>\n",
              "      <td>220.360671</td>\n",
              "      <td>182.475489</td>\n",
              "      <td>21.988151</td>\n",
              "      <td>74.531371</td>\n",
              "      <td>237.518454</td>\n",
              "      <td>21.336021</td>\n",
              "      <td>57.959040</td>\n",
              "      <td>236.046891</td>\n",
              "      <td>Set3</td>\n",
              "      <td>C1</td>\n",
              "      <td>A1</td>\n",
              "      <td>1E917833-3707-473C-843B-5D63B350CBC4.png</td>\n",
              "    </tr>\n",
              "    <tr>\n",
              "      <th>1</th>\n",
              "      <td>239.236500</td>\n",
              "      <td>226.574106</td>\n",
              "      <td>192.074883</td>\n",
              "      <td>229.881753</td>\n",
              "      <td>212.417756</td>\n",
              "      <td>171.454267</td>\n",
              "      <td>22.014277</td>\n",
              "      <td>50.377622</td>\n",
              "      <td>239.236500</td>\n",
              "      <td>21.245390</td>\n",
              "      <td>64.893522</td>\n",
              "      <td>229.881753</td>\n",
              "      <td>Set3</td>\n",
              "      <td>C1</td>\n",
              "      <td>A1</td>\n",
              "      <td>A3CA5A69-EA09-4AC6-8695-83F9567E6484.png</td>\n",
              "    </tr>\n",
              "    <tr>\n",
              "      <th>2</th>\n",
              "      <td>239.455614</td>\n",
              "      <td>226.906080</td>\n",
              "      <td>191.725427</td>\n",
              "      <td>229.586322</td>\n",
              "      <td>211.631637</td>\n",
              "      <td>169.314151</td>\n",
              "      <td>22.211053</td>\n",
              "      <td>50.957459</td>\n",
              "      <td>239.455614</td>\n",
              "      <td>21.135947</td>\n",
              "      <td>66.991382</td>\n",
              "      <td>229.586322</td>\n",
              "      <td>Set3</td>\n",
              "      <td>C1</td>\n",
              "      <td>A1</td>\n",
              "      <td>80A2301F-B67E-45B2-BC09-8FA4D1A48A1F.png</td>\n",
              "    </tr>\n",
              "    <tr>\n",
              "      <th>3</th>\n",
              "      <td>240.266900</td>\n",
              "      <td>228.472222</td>\n",
              "      <td>195.808858</td>\n",
              "      <td>231.276063</td>\n",
              "      <td>214.568437</td>\n",
              "      <td>174.635530</td>\n",
              "      <td>22.128788</td>\n",
              "      <td>47.320027</td>\n",
              "      <td>240.269134</td>\n",
              "      <td>21.363451</td>\n",
              "      <td>62.501622</td>\n",
              "      <td>231.276063</td>\n",
              "      <td>Set3</td>\n",
              "      <td>C1</td>\n",
              "      <td>A1</td>\n",
              "      <td>78E24865-B50B-4EFD-BF2F-3CFD4D484A5A.png</td>\n",
              "    </tr>\n",
              "    <tr>\n",
              "      <th>4</th>\n",
              "      <td>239.647145</td>\n",
              "      <td>227.612568</td>\n",
              "      <td>193.990579</td>\n",
              "      <td>231.185340</td>\n",
              "      <td>214.659902</td>\n",
              "      <td>174.247521</td>\n",
              "      <td>22.146465</td>\n",
              "      <td>48.670455</td>\n",
              "      <td>239.647145</td>\n",
              "      <td>21.524140</td>\n",
              "      <td>62.850338</td>\n",
              "      <td>231.185340</td>\n",
              "      <td>Set3</td>\n",
              "      <td>C1</td>\n",
              "      <td>A1</td>\n",
              "      <td>4540C001-2AE9-44DB-BA99-C2A8E72A0F28.png</td>\n",
              "    </tr>\n",
              "  </tbody>\n",
              "</table>\n",
              "</div>\n",
              "      <button class=\"colab-df-convert\" onclick=\"convertToInteractive('df-43bbee40-36e6-4c9a-a844-33a41da98368')\"\n",
              "              title=\"Convert this dataframe to an interactive table.\"\n",
              "              style=\"display:none;\">\n",
              "        \n",
              "  <svg xmlns=\"http://www.w3.org/2000/svg\" height=\"24px\"viewBox=\"0 0 24 24\"\n",
              "       width=\"24px\">\n",
              "    <path d=\"M0 0h24v24H0V0z\" fill=\"none\"/>\n",
              "    <path d=\"M18.56 5.44l.94 2.06.94-2.06 2.06-.94-2.06-.94-.94-2.06-.94 2.06-2.06.94zm-11 1L8.5 8.5l.94-2.06 2.06-.94-2.06-.94L8.5 2.5l-.94 2.06-2.06.94zm10 10l.94 2.06.94-2.06 2.06-.94-2.06-.94-.94-2.06-.94 2.06-2.06.94z\"/><path d=\"M17.41 7.96l-1.37-1.37c-.4-.4-.92-.59-1.43-.59-.52 0-1.04.2-1.43.59L10.3 9.45l-7.72 7.72c-.78.78-.78 2.05 0 2.83L4 21.41c.39.39.9.59 1.41.59.51 0 1.02-.2 1.41-.59l7.78-7.78 2.81-2.81c.8-.78.8-2.07 0-2.86zM5.41 20L4 18.59l7.72-7.72 1.47 1.35L5.41 20z\"/>\n",
              "  </svg>\n",
              "      </button>\n",
              "      \n",
              "  <style>\n",
              "    .colab-df-container {\n",
              "      display:flex;\n",
              "      flex-wrap:wrap;\n",
              "      gap: 12px;\n",
              "    }\n",
              "\n",
              "    .colab-df-convert {\n",
              "      background-color: #E8F0FE;\n",
              "      border: none;\n",
              "      border-radius: 50%;\n",
              "      cursor: pointer;\n",
              "      display: none;\n",
              "      fill: #1967D2;\n",
              "      height: 32px;\n",
              "      padding: 0 0 0 0;\n",
              "      width: 32px;\n",
              "    }\n",
              "\n",
              "    .colab-df-convert:hover {\n",
              "      background-color: #E2EBFA;\n",
              "      box-shadow: 0px 1px 2px rgba(60, 64, 67, 0.3), 0px 1px 3px 1px rgba(60, 64, 67, 0.15);\n",
              "      fill: #174EA6;\n",
              "    }\n",
              "\n",
              "    [theme=dark] .colab-df-convert {\n",
              "      background-color: #3B4455;\n",
              "      fill: #D2E3FC;\n",
              "    }\n",
              "\n",
              "    [theme=dark] .colab-df-convert:hover {\n",
              "      background-color: #434B5C;\n",
              "      box-shadow: 0px 1px 3px 1px rgba(0, 0, 0, 0.15);\n",
              "      filter: drop-shadow(0px 1px 2px rgba(0, 0, 0, 0.3));\n",
              "      fill: #FFFFFF;\n",
              "    }\n",
              "  </style>\n",
              "\n",
              "      <script>\n",
              "        const buttonEl =\n",
              "          document.querySelector('#df-43bbee40-36e6-4c9a-a844-33a41da98368 button.colab-df-convert');\n",
              "        buttonEl.style.display =\n",
              "          google.colab.kernel.accessAllowed ? 'block' : 'none';\n",
              "\n",
              "        async function convertToInteractive(key) {\n",
              "          const element = document.querySelector('#df-43bbee40-36e6-4c9a-a844-33a41da98368');\n",
              "          const dataTable =\n",
              "            await google.colab.kernel.invokeFunction('convertToInteractive',\n",
              "                                                     [key], {});\n",
              "          if (!dataTable) return;\n",
              "\n",
              "          const docLinkHtml = 'Like what you see? Visit the ' +\n",
              "            '<a target=\"_blank\" href=https://colab.research.google.com/notebooks/data_table.ipynb>data table notebook</a>'\n",
              "            + ' to learn more about interactive tables.';\n",
              "          element.innerHTML = '';\n",
              "          dataTable['output_type'] = 'display_data';\n",
              "          await google.colab.output.renderOutput(dataTable, element);\n",
              "          const docLink = document.createElement('div');\n",
              "          docLink.innerHTML = docLinkHtml;\n",
              "          element.appendChild(docLink);\n",
              "        }\n",
              "      </script>\n",
              "    </div>\n",
              "  </div>\n",
              "  "
            ],
            "text/plain": [
              "        R-ref       G-ref  ...  Shad                                       Img\n",
              "0  237.518454  218.775253  ...    A1  1E917833-3707-473C-843B-5D63B350CBC4.png\n",
              "1  239.236500  226.574106  ...    A1  A3CA5A69-EA09-4AC6-8695-83F9567E6484.png\n",
              "2  239.455614  226.906080  ...    A1  80A2301F-B67E-45B2-BC09-8FA4D1A48A1F.png\n",
              "3  240.266900  228.472222  ...    A1  78E24865-B50B-4EFD-BF2F-3CFD4D484A5A.png\n",
              "4  239.647145  227.612568  ...    A1  4540C001-2AE9-44DB-BA99-C2A8E72A0F28.png\n",
              "\n",
              "[5 rows x 16 columns]"
            ]
          },
          "metadata": {},
          "execution_count": 970
        }
      ]
    },
    {
      "cell_type": "code",
      "source": [
        "table_C1Set4 = pd.read_excel(Set4, sheet_name='C1Set4')\n",
        "table_C1Set4.head()"
      ],
      "metadata": {
        "colab": {
          "base_uri": "https://localhost:8080/",
          "height": 337
        },
        "outputId": "638557f8-2c60-4e19-d67f-59c70975bb88",
        "id": "BPnF7LQluK8T"
      },
      "execution_count": 971,
      "outputs": [
        {
          "output_type": "execute_result",
          "data": {
            "text/html": [
              "\n",
              "  <div id=\"df-344a282b-5178-4a41-b18f-146b388852a0\">\n",
              "    <div class=\"colab-df-container\">\n",
              "      <div>\n",
              "<style scoped>\n",
              "    .dataframe tbody tr th:only-of-type {\n",
              "        vertical-align: middle;\n",
              "    }\n",
              "\n",
              "    .dataframe tbody tr th {\n",
              "        vertical-align: top;\n",
              "    }\n",
              "\n",
              "    .dataframe thead th {\n",
              "        text-align: right;\n",
              "    }\n",
              "</style>\n",
              "<table border=\"1\" class=\"dataframe\">\n",
              "  <thead>\n",
              "    <tr style=\"text-align: right;\">\n",
              "      <th></th>\n",
              "      <th>R-ref</th>\n",
              "      <th>G-ref</th>\n",
              "      <th>B-ref</th>\n",
              "      <th>R-Shad</th>\n",
              "      <th>G-Shad</th>\n",
              "      <th>B-Shad</th>\n",
              "      <th>H-ref</th>\n",
              "      <th>S-ref</th>\n",
              "      <th>V-ref</th>\n",
              "      <th>H-Shad</th>\n",
              "      <th>S-Shad</th>\n",
              "      <th>V-Shad</th>\n",
              "      <th>Setting</th>\n",
              "      <th>Ref</th>\n",
              "      <th>Shad</th>\n",
              "      <th>Img</th>\n",
              "    </tr>\n",
              "  </thead>\n",
              "  <tbody>\n",
              "    <tr>\n",
              "      <th>0</th>\n",
              "      <td>241.886752</td>\n",
              "      <td>229.539627</td>\n",
              "      <td>194.758353</td>\n",
              "      <td>232.801594</td>\n",
              "      <td>216.483551</td>\n",
              "      <td>175.844685</td>\n",
              "      <td>22.222611</td>\n",
              "      <td>49.799631</td>\n",
              "      <td>241.886752</td>\n",
              "      <td>21.663979</td>\n",
              "      <td>62.447225</td>\n",
              "      <td>232.801594</td>\n",
              "      <td>Set4</td>\n",
              "      <td>C1</td>\n",
              "      <td>A1</td>\n",
              "      <td>2CF6DEF9-DF65-4D3E-BEC7-C1664402B848.png</td>\n",
              "    </tr>\n",
              "    <tr>\n",
              "      <th>1</th>\n",
              "      <td>242.135781</td>\n",
              "      <td>229.859848</td>\n",
              "      <td>194.487082</td>\n",
              "      <td>232.920026</td>\n",
              "      <td>216.203410</td>\n",
              "      <td>174.735613</td>\n",
              "      <td>22.372960</td>\n",
              "      <td>50.312646</td>\n",
              "      <td>242.135781</td>\n",
              "      <td>21.584191</td>\n",
              "      <td>63.779817</td>\n",
              "      <td>232.920026</td>\n",
              "      <td>Set4</td>\n",
              "      <td>C1</td>\n",
              "      <td>A1</td>\n",
              "      <td>D8408792-B96F-425D-B030-680398046CC9.png</td>\n",
              "    </tr>\n",
              "    <tr>\n",
              "      <th>2</th>\n",
              "      <td>242.884227</td>\n",
              "      <td>231.409771</td>\n",
              "      <td>198.796717</td>\n",
              "      <td>234.321750</td>\n",
              "      <td>218.636271</td>\n",
              "      <td>178.919841</td>\n",
              "      <td>22.467366</td>\n",
              "      <td>46.435800</td>\n",
              "      <td>242.890831</td>\n",
              "      <td>21.754703</td>\n",
              "      <td>60.344546</td>\n",
              "      <td>234.321750</td>\n",
              "      <td>Set4</td>\n",
              "      <td>C1</td>\n",
              "      <td>A1</td>\n",
              "      <td>A142A91A-E63C-40DA-A92E-5F3C75892CCC.png</td>\n",
              "    </tr>\n",
              "    <tr>\n",
              "      <th>3</th>\n",
              "      <td>242.349359</td>\n",
              "      <td>230.585082</td>\n",
              "      <td>196.799922</td>\n",
              "      <td>233.973682</td>\n",
              "      <td>218.365490</td>\n",
              "      <td>178.417014</td>\n",
              "      <td>22.338772</td>\n",
              "      <td>48.023504</td>\n",
              "      <td>242.349359</td>\n",
              "      <td>21.821240</td>\n",
              "      <td>60.580947</td>\n",
              "      <td>233.973682</td>\n",
              "      <td>Set4</td>\n",
              "      <td>C1</td>\n",
              "      <td>A1</td>\n",
              "      <td>B0BB3A91-5BC2-4617-8DCD-521894FD9820.png</td>\n",
              "    </tr>\n",
              "    <tr>\n",
              "      <th>4</th>\n",
              "      <td>239.753497</td>\n",
              "      <td>228.713967</td>\n",
              "      <td>196.514569</td>\n",
              "      <td>230.413493</td>\n",
              "      <td>214.830229</td>\n",
              "      <td>175.105644</td>\n",
              "      <td>22.430458</td>\n",
              "      <td>46.089938</td>\n",
              "      <td>239.753594</td>\n",
              "      <td>21.777129</td>\n",
              "      <td>61.255491</td>\n",
              "      <td>230.413493</td>\n",
              "      <td>Set4</td>\n",
              "      <td>C1</td>\n",
              "      <td>A1</td>\n",
              "      <td>B072BB25-1641-4167-A1A0-0570DB6D6C4B.png</td>\n",
              "    </tr>\n",
              "  </tbody>\n",
              "</table>\n",
              "</div>\n",
              "      <button class=\"colab-df-convert\" onclick=\"convertToInteractive('df-344a282b-5178-4a41-b18f-146b388852a0')\"\n",
              "              title=\"Convert this dataframe to an interactive table.\"\n",
              "              style=\"display:none;\">\n",
              "        \n",
              "  <svg xmlns=\"http://www.w3.org/2000/svg\" height=\"24px\"viewBox=\"0 0 24 24\"\n",
              "       width=\"24px\">\n",
              "    <path d=\"M0 0h24v24H0V0z\" fill=\"none\"/>\n",
              "    <path d=\"M18.56 5.44l.94 2.06.94-2.06 2.06-.94-2.06-.94-.94-2.06-.94 2.06-2.06.94zm-11 1L8.5 8.5l.94-2.06 2.06-.94-2.06-.94L8.5 2.5l-.94 2.06-2.06.94zm10 10l.94 2.06.94-2.06 2.06-.94-2.06-.94-.94-2.06-.94 2.06-2.06.94z\"/><path d=\"M17.41 7.96l-1.37-1.37c-.4-.4-.92-.59-1.43-.59-.52 0-1.04.2-1.43.59L10.3 9.45l-7.72 7.72c-.78.78-.78 2.05 0 2.83L4 21.41c.39.39.9.59 1.41.59.51 0 1.02-.2 1.41-.59l7.78-7.78 2.81-2.81c.8-.78.8-2.07 0-2.86zM5.41 20L4 18.59l7.72-7.72 1.47 1.35L5.41 20z\"/>\n",
              "  </svg>\n",
              "      </button>\n",
              "      \n",
              "  <style>\n",
              "    .colab-df-container {\n",
              "      display:flex;\n",
              "      flex-wrap:wrap;\n",
              "      gap: 12px;\n",
              "    }\n",
              "\n",
              "    .colab-df-convert {\n",
              "      background-color: #E8F0FE;\n",
              "      border: none;\n",
              "      border-radius: 50%;\n",
              "      cursor: pointer;\n",
              "      display: none;\n",
              "      fill: #1967D2;\n",
              "      height: 32px;\n",
              "      padding: 0 0 0 0;\n",
              "      width: 32px;\n",
              "    }\n",
              "\n",
              "    .colab-df-convert:hover {\n",
              "      background-color: #E2EBFA;\n",
              "      box-shadow: 0px 1px 2px rgba(60, 64, 67, 0.3), 0px 1px 3px 1px rgba(60, 64, 67, 0.15);\n",
              "      fill: #174EA6;\n",
              "    }\n",
              "\n",
              "    [theme=dark] .colab-df-convert {\n",
              "      background-color: #3B4455;\n",
              "      fill: #D2E3FC;\n",
              "    }\n",
              "\n",
              "    [theme=dark] .colab-df-convert:hover {\n",
              "      background-color: #434B5C;\n",
              "      box-shadow: 0px 1px 3px 1px rgba(0, 0, 0, 0.15);\n",
              "      filter: drop-shadow(0px 1px 2px rgba(0, 0, 0, 0.3));\n",
              "      fill: #FFFFFF;\n",
              "    }\n",
              "  </style>\n",
              "\n",
              "      <script>\n",
              "        const buttonEl =\n",
              "          document.querySelector('#df-344a282b-5178-4a41-b18f-146b388852a0 button.colab-df-convert');\n",
              "        buttonEl.style.display =\n",
              "          google.colab.kernel.accessAllowed ? 'block' : 'none';\n",
              "\n",
              "        async function convertToInteractive(key) {\n",
              "          const element = document.querySelector('#df-344a282b-5178-4a41-b18f-146b388852a0');\n",
              "          const dataTable =\n",
              "            await google.colab.kernel.invokeFunction('convertToInteractive',\n",
              "                                                     [key], {});\n",
              "          if (!dataTable) return;\n",
              "\n",
              "          const docLinkHtml = 'Like what you see? Visit the ' +\n",
              "            '<a target=\"_blank\" href=https://colab.research.google.com/notebooks/data_table.ipynb>data table notebook</a>'\n",
              "            + ' to learn more about interactive tables.';\n",
              "          element.innerHTML = '';\n",
              "          dataTable['output_type'] = 'display_data';\n",
              "          await google.colab.output.renderOutput(dataTable, element);\n",
              "          const docLink = document.createElement('div');\n",
              "          docLink.innerHTML = docLinkHtml;\n",
              "          element.appendChild(docLink);\n",
              "        }\n",
              "      </script>\n",
              "    </div>\n",
              "  </div>\n",
              "  "
            ],
            "text/plain": [
              "        R-ref       G-ref  ...  Shad                                       Img\n",
              "0  241.886752  229.539627  ...    A1  2CF6DEF9-DF65-4D3E-BEC7-C1664402B848.png\n",
              "1  242.135781  229.859848  ...    A1  D8408792-B96F-425D-B030-680398046CC9.png\n",
              "2  242.884227  231.409771  ...    A1  A142A91A-E63C-40DA-A92E-5F3C75892CCC.png\n",
              "3  242.349359  230.585082  ...    A1  B0BB3A91-5BC2-4617-8DCD-521894FD9820.png\n",
              "4  239.753497  228.713967  ...    A1  B072BB25-1641-4167-A1A0-0570DB6D6C4B.png\n",
              "\n",
              "[5 rows x 16 columns]"
            ]
          },
          "metadata": {},
          "execution_count": 971
        }
      ]
    },
    {
      "cell_type": "markdown",
      "source": [
        "###RGB"
      ],
      "metadata": {
        "id": "5keaf1tduK8T"
      }
    },
    {
      "cell_type": "code",
      "source": [
        "RGB_C1_Set1 = table_C1Set1.drop(['H-ref','S-ref','V-ref','H-Shad','S-Shad','V-Shad','Setting','Ref','Shad','Img'], axis=1)"
      ],
      "metadata": {
        "id": "LVBCr4rsuK8U"
      },
      "execution_count": 972,
      "outputs": []
    },
    {
      "cell_type": "code",
      "source": [
        "RGB_C1_Set2 = table_C1Set2"
      ],
      "metadata": {
        "id": "SGDR0saNuK8U"
      },
      "execution_count": 973,
      "outputs": []
    },
    {
      "cell_type": "code",
      "source": [
        "RGB_C1_Set3 = table_C1Set3"
      ],
      "metadata": {
        "id": "-AFDkXx3uK8U"
      },
      "execution_count": 974,
      "outputs": []
    },
    {
      "cell_type": "code",
      "source": [
        "RGB_C1_Set4 = table_C1Set4"
      ],
      "metadata": {
        "id": "eTcc6WZCuK8U"
      },
      "execution_count": 975,
      "outputs": []
    },
    {
      "cell_type": "code",
      "source": [
        "RGB_C1_concat0 = pd.concat([RGB_C1_Set2,RGB_C1_Set3])"
      ],
      "metadata": {
        "id": "qR4wYI1ZuK8U"
      },
      "execution_count": 976,
      "outputs": []
    },
    {
      "cell_type": "code",
      "source": [
        "RGB_C1_concat1 = pd.concat([RGB_C1_concat0,RGB_C1_Set4])"
      ],
      "metadata": {
        "id": "8ITW98fLuK8U"
      },
      "execution_count": 977,
      "outputs": []
    },
    {
      "cell_type": "code",
      "source": [
        "RGB_C1_concat2 = RGB_B1_concat1.drop(['H-ref','S-ref','V-ref','H-Shad','S-Shad','V-Shad','Setting','Ref','Shad','Img'], axis=1)"
      ],
      "metadata": {
        "id": "2rTrCnwXuK8U"
      },
      "execution_count": 978,
      "outputs": []
    },
    {
      "cell_type": "code",
      "source": [
        "X_test_C1_RGB = np.array(RGB_C1_Set1)"
      ],
      "metadata": {
        "id": "VEFT7a3ZuK8U"
      },
      "execution_count": 979,
      "outputs": []
    },
    {
      "cell_type": "code",
      "source": [
        "y_C1_RGB =  table_C1Set1.iloc[:,14:15]"
      ],
      "metadata": {
        "id": "1_rvYWFCuK8V"
      },
      "execution_count": 980,
      "outputs": []
    },
    {
      "cell_type": "code",
      "source": [
        "y_test_C1_RGB = np.array(y_C1_RGB)"
      ],
      "metadata": {
        "id": "5iWJSETLuK8V"
      },
      "execution_count": 981,
      "outputs": []
    },
    {
      "cell_type": "code",
      "source": [
        "X_train_C1_RGB = np.array(RGB_C1_concat2)"
      ],
      "metadata": {
        "id": "vdIUmKq1uK8V"
      },
      "execution_count": 982,
      "outputs": []
    },
    {
      "cell_type": "code",
      "source": [
        "y_train_C1RGB = RGB_C1_concat1.iloc[:,14:15]"
      ],
      "metadata": {
        "id": "k1-QsydzuK8V"
      },
      "execution_count": 983,
      "outputs": []
    },
    {
      "cell_type": "code",
      "source": [
        "y_train_C1_RGB = np.array(y_train_C1RGB)"
      ],
      "metadata": {
        "id": "SEOH7fl2uK8V"
      },
      "execution_count": 984,
      "outputs": []
    },
    {
      "cell_type": "code",
      "source": [
        "X_train_C1_RGB.shape"
      ],
      "metadata": {
        "colab": {
          "base_uri": "https://localhost:8080/"
        },
        "outputId": "5539de73-ad05-4e5d-e21c-0785e83c1227",
        "id": "hdJfo_lXuK8V"
      },
      "execution_count": 985,
      "outputs": [
        {
          "output_type": "execute_result",
          "data": {
            "text/plain": [
              "(2415, 6)"
            ]
          },
          "metadata": {},
          "execution_count": 985
        }
      ]
    },
    {
      "cell_type": "code",
      "source": [
        "y_train_C1_RGB.shape"
      ],
      "metadata": {
        "colab": {
          "base_uri": "https://localhost:8080/"
        },
        "outputId": "94377815-f59a-4558-ab7f-1da8950e1b4e",
        "id": "R8daDBsjuK8V"
      },
      "execution_count": 986,
      "outputs": [
        {
          "output_type": "execute_result",
          "data": {
            "text/plain": [
              "(2415, 1)"
            ]
          },
          "metadata": {},
          "execution_count": 986
        }
      ]
    },
    {
      "cell_type": "code",
      "source": [
        "clf.fit(X_train_C1_RGB, y_train_C1_RGB)"
      ],
      "metadata": {
        "colab": {
          "base_uri": "https://localhost:8080/"
        },
        "outputId": "2d9c007e-93a9-49f1-e774-cfc10826263a",
        "id": "wDmlG34luK8V"
      },
      "execution_count": 987,
      "outputs": [
        {
          "output_type": "stream",
          "name": "stderr",
          "text": [
            "/usr/local/lib/python3.7/dist-packages/ipykernel_launcher.py:1: DataConversionWarning: A column-vector y was passed when a 1d array was expected. Please change the shape of y to (n_samples,), for example using ravel().\n",
            "  \"\"\"Entry point for launching an IPython kernel.\n"
          ]
        },
        {
          "output_type": "execute_result",
          "data": {
            "text/plain": [
              "RandomForestClassifier()"
            ]
          },
          "metadata": {},
          "execution_count": 987
        }
      ]
    },
    {
      "cell_type": "code",
      "source": [
        "y_pred_C1_RGB = clf.predict(X_test_C1_RGB)"
      ],
      "metadata": {
        "id": "cul6CJoGuK8V"
      },
      "execution_count": 988,
      "outputs": []
    },
    {
      "cell_type": "code",
      "source": [
        "print(\"Accuracy:\", metrics.accuracy_score(y_test_C1_RGB, y_pred_C1_RGB))"
      ],
      "metadata": {
        "colab": {
          "base_uri": "https://localhost:8080/"
        },
        "outputId": "c3c77e22-f5a6-40f9-c2bd-f28b0877db64",
        "id": "JgIocA5RuK8V"
      },
      "execution_count": 989,
      "outputs": [
        {
          "output_type": "stream",
          "name": "stdout",
          "text": [
            "Accuracy: 0.115527950310559\n"
          ]
        }
      ]
    },
    {
      "cell_type": "markdown",
      "source": [
        "###HSV"
      ],
      "metadata": {
        "id": "jqD4u3nkuK8W"
      }
    },
    {
      "cell_type": "code",
      "source": [
        "HSV_C1_Set1 = table_C1Set1.drop(['R-ref','G-ref','B-ref','R-Shad','G-Shad','B-Shad','Setting','Ref','Shad','Img'], axis=1)"
      ],
      "metadata": {
        "id": "PPcgRIdPuK8W"
      },
      "execution_count": 990,
      "outputs": []
    },
    {
      "cell_type": "code",
      "source": [
        "HSV_C1_concat2 = RGB_C1_concat1.drop(['R-ref','G-ref','B-ref','R-Shad','G-Shad','B-Shad','Setting','Ref','Shad','Img'], axis=1)"
      ],
      "metadata": {
        "id": "Kuhm-IuSuK8W"
      },
      "execution_count": 991,
      "outputs": []
    },
    {
      "cell_type": "code",
      "source": [
        "X_test_C1_HSV = np.array(HSV_C1_Set1)"
      ],
      "metadata": {
        "id": "jaMGZ-BPuK8W"
      },
      "execution_count": 992,
      "outputs": []
    },
    {
      "cell_type": "code",
      "source": [
        "y_C1_HSV =  table_C1Set1.iloc[:,14:15]"
      ],
      "metadata": {
        "id": "O6w6ncjuuK8W"
      },
      "execution_count": 993,
      "outputs": []
    },
    {
      "cell_type": "code",
      "source": [
        "y_test_C1_HSV = np.array(y_C1_RGB)"
      ],
      "metadata": {
        "id": "7aCdQO7NuK8W"
      },
      "execution_count": 994,
      "outputs": []
    },
    {
      "cell_type": "code",
      "source": [
        "X_train_C1_HSV = np.array(HSV_C1_concat2)"
      ],
      "metadata": {
        "id": "a6Wxd-7suK8W"
      },
      "execution_count": 995,
      "outputs": []
    },
    {
      "cell_type": "code",
      "source": [
        "y_train_C1HSV = RGB_C1_concat1.iloc[:,14:15]"
      ],
      "metadata": {
        "id": "BL1mCT4muK8W"
      },
      "execution_count": 996,
      "outputs": []
    },
    {
      "cell_type": "code",
      "source": [
        "y_train_C1_HSV = np.array(y_train_C1HSV)"
      ],
      "metadata": {
        "id": "ze6vigz-uK8W"
      },
      "execution_count": 997,
      "outputs": []
    },
    {
      "cell_type": "code",
      "source": [
        "clf.fit(X_train_C1_HSV, y_train_C1_HSV)"
      ],
      "metadata": {
        "colab": {
          "base_uri": "https://localhost:8080/"
        },
        "outputId": "7859d334-559d-482c-846c-ec7a56e7e3da",
        "id": "neDKUdhCuK8X"
      },
      "execution_count": 998,
      "outputs": [
        {
          "output_type": "stream",
          "name": "stderr",
          "text": [
            "/usr/local/lib/python3.7/dist-packages/ipykernel_launcher.py:1: DataConversionWarning: A column-vector y was passed when a 1d array was expected. Please change the shape of y to (n_samples,), for example using ravel().\n",
            "  \"\"\"Entry point for launching an IPython kernel.\n"
          ]
        },
        {
          "output_type": "execute_result",
          "data": {
            "text/plain": [
              "RandomForestClassifier()"
            ]
          },
          "metadata": {},
          "execution_count": 998
        }
      ]
    },
    {
      "cell_type": "code",
      "source": [
        "y_pred_C1_HSV = clf.predict(X_test_C1_HSV)"
      ],
      "metadata": {
        "id": "sXavKcRZuK8X"
      },
      "execution_count": 999,
      "outputs": []
    },
    {
      "cell_type": "code",
      "source": [
        "print(\"Accuracy:\", metrics.accuracy_score(y_test_C1_HSV, y_pred_C1_HSV))"
      ],
      "metadata": {
        "colab": {
          "base_uri": "https://localhost:8080/"
        },
        "outputId": "ad6aba8e-7564-407d-8f5c-3542e72dfe08",
        "id": "lV79DUGnuK8X"
      },
      "execution_count": 1000,
      "outputs": [
        {
          "output_type": "stream",
          "name": "stdout",
          "text": [
            "Accuracy: 0.9204968944099379\n"
          ]
        }
      ]
    },
    {
      "cell_type": "markdown",
      "source": [
        "##C2"
      ],
      "metadata": {
        "id": "YNY_T-YOuK8X"
      }
    },
    {
      "cell_type": "code",
      "source": [
        "table_C2Set1 = pd.read_excel(Set1 , sheet_name='C2Set1')\n",
        "table_C2Set1.head()"
      ],
      "metadata": {
        "colab": {
          "base_uri": "https://localhost:8080/",
          "height": 337
        },
        "outputId": "34ccd30e-98bc-4937-9206-0a692871a1d4",
        "id": "WMEieFRYuK8X"
      },
      "execution_count": 1001,
      "outputs": [
        {
          "output_type": "execute_result",
          "data": {
            "text/html": [
              "\n",
              "  <div id=\"df-7f9455a1-7b02-4749-a114-2660c94a1a15\">\n",
              "    <div class=\"colab-df-container\">\n",
              "      <div>\n",
              "<style scoped>\n",
              "    .dataframe tbody tr th:only-of-type {\n",
              "        vertical-align: middle;\n",
              "    }\n",
              "\n",
              "    .dataframe tbody tr th {\n",
              "        vertical-align: top;\n",
              "    }\n",
              "\n",
              "    .dataframe thead th {\n",
              "        text-align: right;\n",
              "    }\n",
              "</style>\n",
              "<table border=\"1\" class=\"dataframe\">\n",
              "  <thead>\n",
              "    <tr style=\"text-align: right;\">\n",
              "      <th></th>\n",
              "      <th>R-ref</th>\n",
              "      <th>G-ref</th>\n",
              "      <th>B-ref</th>\n",
              "      <th>R-Shad</th>\n",
              "      <th>G-Shad</th>\n",
              "      <th>B-Shad</th>\n",
              "      <th>H-ref</th>\n",
              "      <th>S-ref</th>\n",
              "      <th>V-ref</th>\n",
              "      <th>H-Shad</th>\n",
              "      <th>S-Shad</th>\n",
              "      <th>V-Shad</th>\n",
              "      <th>Setting</th>\n",
              "      <th>Ref</th>\n",
              "      <th>Shad</th>\n",
              "      <th>Img</th>\n",
              "    </tr>\n",
              "  </thead>\n",
              "  <tbody>\n",
              "    <tr>\n",
              "      <th>0</th>\n",
              "      <td>243.100913</td>\n",
              "      <td>230.901030</td>\n",
              "      <td>195.992521</td>\n",
              "      <td>234.161802</td>\n",
              "      <td>218.400056</td>\n",
              "      <td>177.928552</td>\n",
              "      <td>21.855250</td>\n",
              "      <td>61.314243</td>\n",
              "      <td>234.161802</td>\n",
              "      <td>21.855250</td>\n",
              "      <td>61.314243</td>\n",
              "      <td>234.161802</td>\n",
              "      <td>Set1</td>\n",
              "      <td>C2</td>\n",
              "      <td>A1</td>\n",
              "      <td>94B8BCF4-0790-415E-94D6-F74A6D812F9C.png</td>\n",
              "    </tr>\n",
              "    <tr>\n",
              "      <th>1</th>\n",
              "      <td>243.442211</td>\n",
              "      <td>231.243784</td>\n",
              "      <td>195.775447</td>\n",
              "      <td>234.603929</td>\n",
              "      <td>218.542211</td>\n",
              "      <td>177.562506</td>\n",
              "      <td>21.797331</td>\n",
              "      <td>62.089612</td>\n",
              "      <td>234.603929</td>\n",
              "      <td>21.797331</td>\n",
              "      <td>62.089612</td>\n",
              "      <td>234.603929</td>\n",
              "      <td>Set1</td>\n",
              "      <td>C2</td>\n",
              "      <td>A1</td>\n",
              "      <td>6C2D0804-8381-4BFF-BF38-C0AC1273E618.png</td>\n",
              "    </tr>\n",
              "    <tr>\n",
              "      <th>2</th>\n",
              "      <td>243.966006</td>\n",
              "      <td>232.617910</td>\n",
              "      <td>199.868687</td>\n",
              "      <td>235.838847</td>\n",
              "      <td>220.603466</td>\n",
              "      <td>181.161523</td>\n",
              "      <td>21.858030</td>\n",
              "      <td>59.202113</td>\n",
              "      <td>235.838847</td>\n",
              "      <td>21.858030</td>\n",
              "      <td>59.202113</td>\n",
              "      <td>235.838847</td>\n",
              "      <td>Set1</td>\n",
              "      <td>C2</td>\n",
              "      <td>A1</td>\n",
              "      <td>8BD8561A-0908-4A45-9B23-E1BB2A03640B.png</td>\n",
              "    </tr>\n",
              "    <tr>\n",
              "      <th>3</th>\n",
              "      <td>243.670552</td>\n",
              "      <td>232.004759</td>\n",
              "      <td>198.212510</td>\n",
              "      <td>235.361042</td>\n",
              "      <td>220.153183</td>\n",
              "      <td>180.510333</td>\n",
              "      <td>21.910759</td>\n",
              "      <td>59.487258</td>\n",
              "      <td>235.361042</td>\n",
              "      <td>21.910759</td>\n",
              "      <td>59.487258</td>\n",
              "      <td>235.361042</td>\n",
              "      <td>Set1</td>\n",
              "      <td>C2</td>\n",
              "      <td>A1</td>\n",
              "      <td>6021A5FE-EFB1-4650-84F4-27408DAFC2BA.png</td>\n",
              "    </tr>\n",
              "    <tr>\n",
              "      <th>4</th>\n",
              "      <td>241.015152</td>\n",
              "      <td>230.078866</td>\n",
              "      <td>197.686480</td>\n",
              "      <td>231.835233</td>\n",
              "      <td>216.726346</td>\n",
              "      <td>177.242054</td>\n",
              "      <td>21.887035</td>\n",
              "      <td>60.107497</td>\n",
              "      <td>231.835233</td>\n",
              "      <td>21.887035</td>\n",
              "      <td>60.107497</td>\n",
              "      <td>231.835233</td>\n",
              "      <td>Set1</td>\n",
              "      <td>C2</td>\n",
              "      <td>A1</td>\n",
              "      <td>1D2C4DD2-FF5D-446F-ADC8-BB6C6E19BF79.png</td>\n",
              "    </tr>\n",
              "  </tbody>\n",
              "</table>\n",
              "</div>\n",
              "      <button class=\"colab-df-convert\" onclick=\"convertToInteractive('df-7f9455a1-7b02-4749-a114-2660c94a1a15')\"\n",
              "              title=\"Convert this dataframe to an interactive table.\"\n",
              "              style=\"display:none;\">\n",
              "        \n",
              "  <svg xmlns=\"http://www.w3.org/2000/svg\" height=\"24px\"viewBox=\"0 0 24 24\"\n",
              "       width=\"24px\">\n",
              "    <path d=\"M0 0h24v24H0V0z\" fill=\"none\"/>\n",
              "    <path d=\"M18.56 5.44l.94 2.06.94-2.06 2.06-.94-2.06-.94-.94-2.06-.94 2.06-2.06.94zm-11 1L8.5 8.5l.94-2.06 2.06-.94-2.06-.94L8.5 2.5l-.94 2.06-2.06.94zm10 10l.94 2.06.94-2.06 2.06-.94-2.06-.94-.94-2.06-.94 2.06-2.06.94z\"/><path d=\"M17.41 7.96l-1.37-1.37c-.4-.4-.92-.59-1.43-.59-.52 0-1.04.2-1.43.59L10.3 9.45l-7.72 7.72c-.78.78-.78 2.05 0 2.83L4 21.41c.39.39.9.59 1.41.59.51 0 1.02-.2 1.41-.59l7.78-7.78 2.81-2.81c.8-.78.8-2.07 0-2.86zM5.41 20L4 18.59l7.72-7.72 1.47 1.35L5.41 20z\"/>\n",
              "  </svg>\n",
              "      </button>\n",
              "      \n",
              "  <style>\n",
              "    .colab-df-container {\n",
              "      display:flex;\n",
              "      flex-wrap:wrap;\n",
              "      gap: 12px;\n",
              "    }\n",
              "\n",
              "    .colab-df-convert {\n",
              "      background-color: #E8F0FE;\n",
              "      border: none;\n",
              "      border-radius: 50%;\n",
              "      cursor: pointer;\n",
              "      display: none;\n",
              "      fill: #1967D2;\n",
              "      height: 32px;\n",
              "      padding: 0 0 0 0;\n",
              "      width: 32px;\n",
              "    }\n",
              "\n",
              "    .colab-df-convert:hover {\n",
              "      background-color: #E2EBFA;\n",
              "      box-shadow: 0px 1px 2px rgba(60, 64, 67, 0.3), 0px 1px 3px 1px rgba(60, 64, 67, 0.15);\n",
              "      fill: #174EA6;\n",
              "    }\n",
              "\n",
              "    [theme=dark] .colab-df-convert {\n",
              "      background-color: #3B4455;\n",
              "      fill: #D2E3FC;\n",
              "    }\n",
              "\n",
              "    [theme=dark] .colab-df-convert:hover {\n",
              "      background-color: #434B5C;\n",
              "      box-shadow: 0px 1px 3px 1px rgba(0, 0, 0, 0.15);\n",
              "      filter: drop-shadow(0px 1px 2px rgba(0, 0, 0, 0.3));\n",
              "      fill: #FFFFFF;\n",
              "    }\n",
              "  </style>\n",
              "\n",
              "      <script>\n",
              "        const buttonEl =\n",
              "          document.querySelector('#df-7f9455a1-7b02-4749-a114-2660c94a1a15 button.colab-df-convert');\n",
              "        buttonEl.style.display =\n",
              "          google.colab.kernel.accessAllowed ? 'block' : 'none';\n",
              "\n",
              "        async function convertToInteractive(key) {\n",
              "          const element = document.querySelector('#df-7f9455a1-7b02-4749-a114-2660c94a1a15');\n",
              "          const dataTable =\n",
              "            await google.colab.kernel.invokeFunction('convertToInteractive',\n",
              "                                                     [key], {});\n",
              "          if (!dataTable) return;\n",
              "\n",
              "          const docLinkHtml = 'Like what you see? Visit the ' +\n",
              "            '<a target=\"_blank\" href=https://colab.research.google.com/notebooks/data_table.ipynb>data table notebook</a>'\n",
              "            + ' to learn more about interactive tables.';\n",
              "          element.innerHTML = '';\n",
              "          dataTable['output_type'] = 'display_data';\n",
              "          await google.colab.output.renderOutput(dataTable, element);\n",
              "          const docLink = document.createElement('div');\n",
              "          docLink.innerHTML = docLinkHtml;\n",
              "          element.appendChild(docLink);\n",
              "        }\n",
              "      </script>\n",
              "    </div>\n",
              "  </div>\n",
              "  "
            ],
            "text/plain": [
              "        R-ref       G-ref  ...  Shad                                       Img\n",
              "0  243.100913  230.901030  ...    A1  94B8BCF4-0790-415E-94D6-F74A6D812F9C.png\n",
              "1  243.442211  231.243784  ...    A1  6C2D0804-8381-4BFF-BF38-C0AC1273E618.png\n",
              "2  243.966006  232.617910  ...    A1  8BD8561A-0908-4A45-9B23-E1BB2A03640B.png\n",
              "3  243.670552  232.004759  ...    A1  6021A5FE-EFB1-4650-84F4-27408DAFC2BA.png\n",
              "4  241.015152  230.078866  ...    A1  1D2C4DD2-FF5D-446F-ADC8-BB6C6E19BF79.png\n",
              "\n",
              "[5 rows x 16 columns]"
            ]
          },
          "metadata": {},
          "execution_count": 1001
        }
      ]
    },
    {
      "cell_type": "code",
      "source": [
        "table_C2Set2 = pd.read_excel(Set2, sheet_name='C2Set2')\n",
        "table_C2Set2.head()"
      ],
      "metadata": {
        "colab": {
          "base_uri": "https://localhost:8080/",
          "height": 337
        },
        "outputId": "7ae002f2-67f9-48a1-a461-37456e606d63",
        "id": "mDYWS90uuK8X"
      },
      "execution_count": 1002,
      "outputs": [
        {
          "output_type": "execute_result",
          "data": {
            "text/html": [
              "\n",
              "  <div id=\"df-856e68d0-43ba-46be-a660-8a3e2ae2d373\">\n",
              "    <div class=\"colab-df-container\">\n",
              "      <div>\n",
              "<style scoped>\n",
              "    .dataframe tbody tr th:only-of-type {\n",
              "        vertical-align: middle;\n",
              "    }\n",
              "\n",
              "    .dataframe tbody tr th {\n",
              "        vertical-align: top;\n",
              "    }\n",
              "\n",
              "    .dataframe thead th {\n",
              "        text-align: right;\n",
              "    }\n",
              "</style>\n",
              "<table border=\"1\" class=\"dataframe\">\n",
              "  <thead>\n",
              "    <tr style=\"text-align: right;\">\n",
              "      <th></th>\n",
              "      <th>R-ref</th>\n",
              "      <th>G-ref</th>\n",
              "      <th>B-ref</th>\n",
              "      <th>R-Shad</th>\n",
              "      <th>G-Shad</th>\n",
              "      <th>B-Shad</th>\n",
              "      <th>H-ref</th>\n",
              "      <th>S-ref</th>\n",
              "      <th>V-ref</th>\n",
              "      <th>H-Shad</th>\n",
              "      <th>S-Shad</th>\n",
              "      <th>V-Shad</th>\n",
              "      <th>Setting</th>\n",
              "      <th>Ref</th>\n",
              "      <th>Shad</th>\n",
              "      <th>Img</th>\n",
              "    </tr>\n",
              "  </thead>\n",
              "  <tbody>\n",
              "    <tr>\n",
              "      <th>0</th>\n",
              "      <td>238.821037</td>\n",
              "      <td>225.705543</td>\n",
              "      <td>190.281389</td>\n",
              "      <td>239.471161</td>\n",
              "      <td>226.830738</td>\n",
              "      <td>192.584525</td>\n",
              "      <td>22.002110</td>\n",
              "      <td>51.950004</td>\n",
              "      <td>238.821037</td>\n",
              "      <td>22.136619</td>\n",
              "      <td>50.134841</td>\n",
              "      <td>239.480976</td>\n",
              "      <td>Set2</td>\n",
              "      <td>C2</td>\n",
              "      <td>A1</td>\n",
              "      <td>374ED3C9-7FB3-4644-A77B-ABBC2258721E.png</td>\n",
              "    </tr>\n",
              "    <tr>\n",
              "      <th>1</th>\n",
              "      <td>239.015096</td>\n",
              "      <td>225.933366</td>\n",
              "      <td>189.813814</td>\n",
              "      <td>239.661831</td>\n",
              "      <td>227.036128</td>\n",
              "      <td>192.028376</td>\n",
              "      <td>22.160701</td>\n",
              "      <td>52.631442</td>\n",
              "      <td>239.015096</td>\n",
              "      <td>22.305099</td>\n",
              "      <td>50.899580</td>\n",
              "      <td>239.668587</td>\n",
              "      <td>Set2</td>\n",
              "      <td>C2</td>\n",
              "      <td>A1</td>\n",
              "      <td>64D55779-CEF4-4F38-97BC-1A3DE682F831.png</td>\n",
              "    </tr>\n",
              "    <tr>\n",
              "      <th>2</th>\n",
              "      <td>239.849931</td>\n",
              "      <td>227.537051</td>\n",
              "      <td>193.802045</td>\n",
              "      <td>240.594268</td>\n",
              "      <td>228.924187</td>\n",
              "      <td>196.427779</td>\n",
              "      <td>22.082299</td>\n",
              "      <td>49.090252</td>\n",
              "      <td>239.850986</td>\n",
              "      <td>22.455160</td>\n",
              "      <td>47.039400</td>\n",
              "      <td>240.609558</td>\n",
              "      <td>Set2</td>\n",
              "      <td>C2</td>\n",
              "      <td>A1</td>\n",
              "      <td>F118F5AE-2FE5-4E9C-9041-D0E6CBA214C1.png</td>\n",
              "    </tr>\n",
              "    <tr>\n",
              "      <th>3</th>\n",
              "      <td>239.325785</td>\n",
              "      <td>226.816573</td>\n",
              "      <td>192.238942</td>\n",
              "      <td>239.886139</td>\n",
              "      <td>227.853140</td>\n",
              "      <td>194.250551</td>\n",
              "      <td>22.134648</td>\n",
              "      <td>50.271894</td>\n",
              "      <td>239.325785</td>\n",
              "      <td>22.290520</td>\n",
              "      <td>48.668445</td>\n",
              "      <td>239.892326</td>\n",
              "      <td>Set2</td>\n",
              "      <td>C2</td>\n",
              "      <td>A1</td>\n",
              "      <td>8D1015B6-7F0D-4679-A728-EF724A18B2DB.png</td>\n",
              "    </tr>\n",
              "    <tr>\n",
              "      <th>4</th>\n",
              "      <td>236.398182</td>\n",
              "      <td>225.056083</td>\n",
              "      <td>193.174742</td>\n",
              "      <td>237.114572</td>\n",
              "      <td>226.267051</td>\n",
              "      <td>195.376574</td>\n",
              "      <td>22.216297</td>\n",
              "      <td>46.713984</td>\n",
              "      <td>236.398182</td>\n",
              "      <td>22.447692</td>\n",
              "      <td>45.052699</td>\n",
              "      <td>237.122395</td>\n",
              "      <td>Set2</td>\n",
              "      <td>C2</td>\n",
              "      <td>A1</td>\n",
              "      <td>A98B9E63-26D7-49D1-A84B-0E4BC3823C9A.png</td>\n",
              "    </tr>\n",
              "  </tbody>\n",
              "</table>\n",
              "</div>\n",
              "      <button class=\"colab-df-convert\" onclick=\"convertToInteractive('df-856e68d0-43ba-46be-a660-8a3e2ae2d373')\"\n",
              "              title=\"Convert this dataframe to an interactive table.\"\n",
              "              style=\"display:none;\">\n",
              "        \n",
              "  <svg xmlns=\"http://www.w3.org/2000/svg\" height=\"24px\"viewBox=\"0 0 24 24\"\n",
              "       width=\"24px\">\n",
              "    <path d=\"M0 0h24v24H0V0z\" fill=\"none\"/>\n",
              "    <path d=\"M18.56 5.44l.94 2.06.94-2.06 2.06-.94-2.06-.94-.94-2.06-.94 2.06-2.06.94zm-11 1L8.5 8.5l.94-2.06 2.06-.94-2.06-.94L8.5 2.5l-.94 2.06-2.06.94zm10 10l.94 2.06.94-2.06 2.06-.94-2.06-.94-.94-2.06-.94 2.06-2.06.94z\"/><path d=\"M17.41 7.96l-1.37-1.37c-.4-.4-.92-.59-1.43-.59-.52 0-1.04.2-1.43.59L10.3 9.45l-7.72 7.72c-.78.78-.78 2.05 0 2.83L4 21.41c.39.39.9.59 1.41.59.51 0 1.02-.2 1.41-.59l7.78-7.78 2.81-2.81c.8-.78.8-2.07 0-2.86zM5.41 20L4 18.59l7.72-7.72 1.47 1.35L5.41 20z\"/>\n",
              "  </svg>\n",
              "      </button>\n",
              "      \n",
              "  <style>\n",
              "    .colab-df-container {\n",
              "      display:flex;\n",
              "      flex-wrap:wrap;\n",
              "      gap: 12px;\n",
              "    }\n",
              "\n",
              "    .colab-df-convert {\n",
              "      background-color: #E8F0FE;\n",
              "      border: none;\n",
              "      border-radius: 50%;\n",
              "      cursor: pointer;\n",
              "      display: none;\n",
              "      fill: #1967D2;\n",
              "      height: 32px;\n",
              "      padding: 0 0 0 0;\n",
              "      width: 32px;\n",
              "    }\n",
              "\n",
              "    .colab-df-convert:hover {\n",
              "      background-color: #E2EBFA;\n",
              "      box-shadow: 0px 1px 2px rgba(60, 64, 67, 0.3), 0px 1px 3px 1px rgba(60, 64, 67, 0.15);\n",
              "      fill: #174EA6;\n",
              "    }\n",
              "\n",
              "    [theme=dark] .colab-df-convert {\n",
              "      background-color: #3B4455;\n",
              "      fill: #D2E3FC;\n",
              "    }\n",
              "\n",
              "    [theme=dark] .colab-df-convert:hover {\n",
              "      background-color: #434B5C;\n",
              "      box-shadow: 0px 1px 3px 1px rgba(0, 0, 0, 0.15);\n",
              "      filter: drop-shadow(0px 1px 2px rgba(0, 0, 0, 0.3));\n",
              "      fill: #FFFFFF;\n",
              "    }\n",
              "  </style>\n",
              "\n",
              "      <script>\n",
              "        const buttonEl =\n",
              "          document.querySelector('#df-856e68d0-43ba-46be-a660-8a3e2ae2d373 button.colab-df-convert');\n",
              "        buttonEl.style.display =\n",
              "          google.colab.kernel.accessAllowed ? 'block' : 'none';\n",
              "\n",
              "        async function convertToInteractive(key) {\n",
              "          const element = document.querySelector('#df-856e68d0-43ba-46be-a660-8a3e2ae2d373');\n",
              "          const dataTable =\n",
              "            await google.colab.kernel.invokeFunction('convertToInteractive',\n",
              "                                                     [key], {});\n",
              "          if (!dataTable) return;\n",
              "\n",
              "          const docLinkHtml = 'Like what you see? Visit the ' +\n",
              "            '<a target=\"_blank\" href=https://colab.research.google.com/notebooks/data_table.ipynb>data table notebook</a>'\n",
              "            + ' to learn more about interactive tables.';\n",
              "          element.innerHTML = '';\n",
              "          dataTable['output_type'] = 'display_data';\n",
              "          await google.colab.output.renderOutput(dataTable, element);\n",
              "          const docLink = document.createElement('div');\n",
              "          docLink.innerHTML = docLinkHtml;\n",
              "          element.appendChild(docLink);\n",
              "        }\n",
              "      </script>\n",
              "    </div>\n",
              "  </div>\n",
              "  "
            ],
            "text/plain": [
              "        R-ref       G-ref  ...  Shad                                       Img\n",
              "0  238.821037  225.705543  ...    A1  374ED3C9-7FB3-4644-A77B-ABBC2258721E.png\n",
              "1  239.015096  225.933366  ...    A1  64D55779-CEF4-4F38-97BC-1A3DE682F831.png\n",
              "2  239.849931  227.537051  ...    A1  F118F5AE-2FE5-4E9C-9041-D0E6CBA214C1.png\n",
              "3  239.325785  226.816573  ...    A1  8D1015B6-7F0D-4679-A728-EF724A18B2DB.png\n",
              "4  236.398182  225.056083  ...    A1  A98B9E63-26D7-49D1-A84B-0E4BC3823C9A.png\n",
              "\n",
              "[5 rows x 16 columns]"
            ]
          },
          "metadata": {},
          "execution_count": 1002
        }
      ]
    },
    {
      "cell_type": "code",
      "source": [
        "table_C2Set3 = pd.read_excel(Set3, sheet_name='C2Set3 ')\n",
        "table_C2Set3.head()"
      ],
      "metadata": {
        "colab": {
          "base_uri": "https://localhost:8080/",
          "height": 337
        },
        "outputId": "fccd92b2-88d0-4215-fb1b-57b784c708e2",
        "id": "2Jv11LxMuK8X"
      },
      "execution_count": 1003,
      "outputs": [
        {
          "output_type": "execute_result",
          "data": {
            "text/html": [
              "\n",
              "  <div id=\"df-e7b92403-3595-4364-92f7-ccfe759f0936\">\n",
              "    <div class=\"colab-df-container\">\n",
              "      <div>\n",
              "<style scoped>\n",
              "    .dataframe tbody tr th:only-of-type {\n",
              "        vertical-align: middle;\n",
              "    }\n",
              "\n",
              "    .dataframe tbody tr th {\n",
              "        vertical-align: top;\n",
              "    }\n",
              "\n",
              "    .dataframe thead th {\n",
              "        text-align: right;\n",
              "    }\n",
              "</style>\n",
              "<table border=\"1\" class=\"dataframe\">\n",
              "  <thead>\n",
              "    <tr style=\"text-align: right;\">\n",
              "      <th></th>\n",
              "      <th>R-ref</th>\n",
              "      <th>G-ref</th>\n",
              "      <th>B-ref</th>\n",
              "      <th>R-Shad</th>\n",
              "      <th>G-Shad</th>\n",
              "      <th>B-Shad</th>\n",
              "      <th>H-ref</th>\n",
              "      <th>S-ref</th>\n",
              "      <th>V-ref</th>\n",
              "      <th>H-Shad</th>\n",
              "      <th>S-Shad</th>\n",
              "      <th>V-Shad</th>\n",
              "      <th>Setting</th>\n",
              "      <th>Ref</th>\n",
              "      <th>Shad</th>\n",
              "      <th>Img</th>\n",
              "    </tr>\n",
              "  </thead>\n",
              "  <tbody>\n",
              "    <tr>\n",
              "      <th>0</th>\n",
              "      <td>243.100913</td>\n",
              "      <td>230.901030</td>\n",
              "      <td>195.992521</td>\n",
              "      <td>234.161802</td>\n",
              "      <td>218.400056</td>\n",
              "      <td>177.928552</td>\n",
              "      <td>21.855250</td>\n",
              "      <td>61.314243</td>\n",
              "      <td>234.161802</td>\n",
              "      <td>21.855250</td>\n",
              "      <td>61.314243</td>\n",
              "      <td>234.161802</td>\n",
              "      <td>Set3</td>\n",
              "      <td>C2</td>\n",
              "      <td>A1</td>\n",
              "      <td>DAB2B542-FF26-450C-BCEE-FBBC6F0F0A5A.png</td>\n",
              "    </tr>\n",
              "    <tr>\n",
              "      <th>1</th>\n",
              "      <td>243.442211</td>\n",
              "      <td>231.243784</td>\n",
              "      <td>195.775447</td>\n",
              "      <td>234.603929</td>\n",
              "      <td>218.542211</td>\n",
              "      <td>177.562506</td>\n",
              "      <td>21.797331</td>\n",
              "      <td>62.089612</td>\n",
              "      <td>234.603929</td>\n",
              "      <td>21.797331</td>\n",
              "      <td>62.089612</td>\n",
              "      <td>234.603929</td>\n",
              "      <td>Set3</td>\n",
              "      <td>C2</td>\n",
              "      <td>A1</td>\n",
              "      <td>8D944785-B0B9-442C-9A61-E154610BF547.png</td>\n",
              "    </tr>\n",
              "    <tr>\n",
              "      <th>2</th>\n",
              "      <td>243.966006</td>\n",
              "      <td>232.617910</td>\n",
              "      <td>199.868687</td>\n",
              "      <td>235.838847</td>\n",
              "      <td>220.603466</td>\n",
              "      <td>181.161523</td>\n",
              "      <td>21.858030</td>\n",
              "      <td>59.202113</td>\n",
              "      <td>235.838847</td>\n",
              "      <td>21.858030</td>\n",
              "      <td>59.202113</td>\n",
              "      <td>235.838847</td>\n",
              "      <td>Set3</td>\n",
              "      <td>C2</td>\n",
              "      <td>A1</td>\n",
              "      <td>0F8A345A-32E7-44C0-A010-1E1E53B041D7.png</td>\n",
              "    </tr>\n",
              "    <tr>\n",
              "      <th>3</th>\n",
              "      <td>243.670552</td>\n",
              "      <td>232.004759</td>\n",
              "      <td>198.212510</td>\n",
              "      <td>235.361042</td>\n",
              "      <td>220.153183</td>\n",
              "      <td>180.510333</td>\n",
              "      <td>21.910759</td>\n",
              "      <td>59.487258</td>\n",
              "      <td>235.361042</td>\n",
              "      <td>21.910759</td>\n",
              "      <td>59.487258</td>\n",
              "      <td>235.361042</td>\n",
              "      <td>Set3</td>\n",
              "      <td>C2</td>\n",
              "      <td>A1</td>\n",
              "      <td>B7E55179-C0B2-42BB-8575-1A1AA5F17A1A.png</td>\n",
              "    </tr>\n",
              "    <tr>\n",
              "      <th>4</th>\n",
              "      <td>241.015152</td>\n",
              "      <td>230.078866</td>\n",
              "      <td>197.686480</td>\n",
              "      <td>231.835233</td>\n",
              "      <td>216.726346</td>\n",
              "      <td>177.242054</td>\n",
              "      <td>21.887035</td>\n",
              "      <td>60.107497</td>\n",
              "      <td>231.835233</td>\n",
              "      <td>21.887035</td>\n",
              "      <td>60.107497</td>\n",
              "      <td>231.835233</td>\n",
              "      <td>Set3</td>\n",
              "      <td>C2</td>\n",
              "      <td>A1</td>\n",
              "      <td>5A6D201F-9F7E-44D9-8B97-2AE2BDD7E590.png</td>\n",
              "    </tr>\n",
              "  </tbody>\n",
              "</table>\n",
              "</div>\n",
              "      <button class=\"colab-df-convert\" onclick=\"convertToInteractive('df-e7b92403-3595-4364-92f7-ccfe759f0936')\"\n",
              "              title=\"Convert this dataframe to an interactive table.\"\n",
              "              style=\"display:none;\">\n",
              "        \n",
              "  <svg xmlns=\"http://www.w3.org/2000/svg\" height=\"24px\"viewBox=\"0 0 24 24\"\n",
              "       width=\"24px\">\n",
              "    <path d=\"M0 0h24v24H0V0z\" fill=\"none\"/>\n",
              "    <path d=\"M18.56 5.44l.94 2.06.94-2.06 2.06-.94-2.06-.94-.94-2.06-.94 2.06-2.06.94zm-11 1L8.5 8.5l.94-2.06 2.06-.94-2.06-.94L8.5 2.5l-.94 2.06-2.06.94zm10 10l.94 2.06.94-2.06 2.06-.94-2.06-.94-.94-2.06-.94 2.06-2.06.94z\"/><path d=\"M17.41 7.96l-1.37-1.37c-.4-.4-.92-.59-1.43-.59-.52 0-1.04.2-1.43.59L10.3 9.45l-7.72 7.72c-.78.78-.78 2.05 0 2.83L4 21.41c.39.39.9.59 1.41.59.51 0 1.02-.2 1.41-.59l7.78-7.78 2.81-2.81c.8-.78.8-2.07 0-2.86zM5.41 20L4 18.59l7.72-7.72 1.47 1.35L5.41 20z\"/>\n",
              "  </svg>\n",
              "      </button>\n",
              "      \n",
              "  <style>\n",
              "    .colab-df-container {\n",
              "      display:flex;\n",
              "      flex-wrap:wrap;\n",
              "      gap: 12px;\n",
              "    }\n",
              "\n",
              "    .colab-df-convert {\n",
              "      background-color: #E8F0FE;\n",
              "      border: none;\n",
              "      border-radius: 50%;\n",
              "      cursor: pointer;\n",
              "      display: none;\n",
              "      fill: #1967D2;\n",
              "      height: 32px;\n",
              "      padding: 0 0 0 0;\n",
              "      width: 32px;\n",
              "    }\n",
              "\n",
              "    .colab-df-convert:hover {\n",
              "      background-color: #E2EBFA;\n",
              "      box-shadow: 0px 1px 2px rgba(60, 64, 67, 0.3), 0px 1px 3px 1px rgba(60, 64, 67, 0.15);\n",
              "      fill: #174EA6;\n",
              "    }\n",
              "\n",
              "    [theme=dark] .colab-df-convert {\n",
              "      background-color: #3B4455;\n",
              "      fill: #D2E3FC;\n",
              "    }\n",
              "\n",
              "    [theme=dark] .colab-df-convert:hover {\n",
              "      background-color: #434B5C;\n",
              "      box-shadow: 0px 1px 3px 1px rgba(0, 0, 0, 0.15);\n",
              "      filter: drop-shadow(0px 1px 2px rgba(0, 0, 0, 0.3));\n",
              "      fill: #FFFFFF;\n",
              "    }\n",
              "  </style>\n",
              "\n",
              "      <script>\n",
              "        const buttonEl =\n",
              "          document.querySelector('#df-e7b92403-3595-4364-92f7-ccfe759f0936 button.colab-df-convert');\n",
              "        buttonEl.style.display =\n",
              "          google.colab.kernel.accessAllowed ? 'block' : 'none';\n",
              "\n",
              "        async function convertToInteractive(key) {\n",
              "          const element = document.querySelector('#df-e7b92403-3595-4364-92f7-ccfe759f0936');\n",
              "          const dataTable =\n",
              "            await google.colab.kernel.invokeFunction('convertToInteractive',\n",
              "                                                     [key], {});\n",
              "          if (!dataTable) return;\n",
              "\n",
              "          const docLinkHtml = 'Like what you see? Visit the ' +\n",
              "            '<a target=\"_blank\" href=https://colab.research.google.com/notebooks/data_table.ipynb>data table notebook</a>'\n",
              "            + ' to learn more about interactive tables.';\n",
              "          element.innerHTML = '';\n",
              "          dataTable['output_type'] = 'display_data';\n",
              "          await google.colab.output.renderOutput(dataTable, element);\n",
              "          const docLink = document.createElement('div');\n",
              "          docLink.innerHTML = docLinkHtml;\n",
              "          element.appendChild(docLink);\n",
              "        }\n",
              "      </script>\n",
              "    </div>\n",
              "  </div>\n",
              "  "
            ],
            "text/plain": [
              "        R-ref       G-ref  ...  Shad                                       Img\n",
              "0  243.100913  230.901030  ...    A1  DAB2B542-FF26-450C-BCEE-FBBC6F0F0A5A.png\n",
              "1  243.442211  231.243784  ...    A1  8D944785-B0B9-442C-9A61-E154610BF547.png\n",
              "2  243.966006  232.617910  ...    A1  0F8A345A-32E7-44C0-A010-1E1E53B041D7.png\n",
              "3  243.670552  232.004759  ...    A1  B7E55179-C0B2-42BB-8575-1A1AA5F17A1A.png\n",
              "4  241.015152  230.078866  ...    A1  5A6D201F-9F7E-44D9-8B97-2AE2BDD7E590.png\n",
              "\n",
              "[5 rows x 16 columns]"
            ]
          },
          "metadata": {},
          "execution_count": 1003
        }
      ]
    },
    {
      "cell_type": "code",
      "source": [
        "table_C2Set4 = pd.read_excel(Set4, sheet_name='C2Set4')\n",
        "table_C2Set4.head()"
      ],
      "metadata": {
        "colab": {
          "base_uri": "https://localhost:8080/",
          "height": 337
        },
        "outputId": "4eba3b2b-8fcc-4448-b50e-c00114440f87",
        "id": "J4uXT6ZquK8X"
      },
      "execution_count": 1004,
      "outputs": [
        {
          "output_type": "execute_result",
          "data": {
            "text/html": [
              "\n",
              "  <div id=\"df-e7a13401-0703-48a0-b6ba-7febdeab0fb0\">\n",
              "    <div class=\"colab-df-container\">\n",
              "      <div>\n",
              "<style scoped>\n",
              "    .dataframe tbody tr th:only-of-type {\n",
              "        vertical-align: middle;\n",
              "    }\n",
              "\n",
              "    .dataframe tbody tr th {\n",
              "        vertical-align: top;\n",
              "    }\n",
              "\n",
              "    .dataframe thead th {\n",
              "        text-align: right;\n",
              "    }\n",
              "</style>\n",
              "<table border=\"1\" class=\"dataframe\">\n",
              "  <thead>\n",
              "    <tr style=\"text-align: right;\">\n",
              "      <th></th>\n",
              "      <th>R-ref</th>\n",
              "      <th>G-ref</th>\n",
              "      <th>B-ref</th>\n",
              "      <th>R-Shad</th>\n",
              "      <th>G-Shad</th>\n",
              "      <th>B-Shad</th>\n",
              "      <th>H-ref</th>\n",
              "      <th>S-ref</th>\n",
              "      <th>V-ref</th>\n",
              "      <th>H-Shad</th>\n",
              "      <th>S-Shad</th>\n",
              "      <th>V-Shad</th>\n",
              "      <th>Setting</th>\n",
              "      <th>Ref</th>\n",
              "      <th>Shad</th>\n",
              "      <th>Img</th>\n",
              "    </tr>\n",
              "  </thead>\n",
              "  <tbody>\n",
              "    <tr>\n",
              "      <th>0</th>\n",
              "      <td>241.886752</td>\n",
              "      <td>229.539627</td>\n",
              "      <td>194.758353</td>\n",
              "      <td>232.801594</td>\n",
              "      <td>216.483551</td>\n",
              "      <td>175.844685</td>\n",
              "      <td>22.222611</td>\n",
              "      <td>49.799631</td>\n",
              "      <td>241.886752</td>\n",
              "      <td>21.663979</td>\n",
              "      <td>62.447225</td>\n",
              "      <td>232.801594</td>\n",
              "      <td>Set4</td>\n",
              "      <td>C2</td>\n",
              "      <td>A1</td>\n",
              "      <td>97434DCB-317D-460E-B141-4F5F00BD8237.png</td>\n",
              "    </tr>\n",
              "    <tr>\n",
              "      <th>1</th>\n",
              "      <td>242.135781</td>\n",
              "      <td>229.859848</td>\n",
              "      <td>194.487082</td>\n",
              "      <td>232.920026</td>\n",
              "      <td>216.203410</td>\n",
              "      <td>174.735613</td>\n",
              "      <td>22.372960</td>\n",
              "      <td>50.312646</td>\n",
              "      <td>242.135781</td>\n",
              "      <td>21.584191</td>\n",
              "      <td>63.779817</td>\n",
              "      <td>232.920026</td>\n",
              "      <td>Set4</td>\n",
              "      <td>C2</td>\n",
              "      <td>A1</td>\n",
              "      <td>86674BAB-7B95-47B9-B2F4-6A08EA9A553C.png</td>\n",
              "    </tr>\n",
              "    <tr>\n",
              "      <th>2</th>\n",
              "      <td>242.884227</td>\n",
              "      <td>231.409771</td>\n",
              "      <td>198.796717</td>\n",
              "      <td>234.321750</td>\n",
              "      <td>218.636271</td>\n",
              "      <td>178.919841</td>\n",
              "      <td>22.467366</td>\n",
              "      <td>46.435800</td>\n",
              "      <td>242.890831</td>\n",
              "      <td>21.754703</td>\n",
              "      <td>60.344546</td>\n",
              "      <td>234.321750</td>\n",
              "      <td>Set4</td>\n",
              "      <td>C2</td>\n",
              "      <td>A1</td>\n",
              "      <td>36D924E3-369D-4810-8013-7F212B48F6E7.png</td>\n",
              "    </tr>\n",
              "    <tr>\n",
              "      <th>3</th>\n",
              "      <td>242.349359</td>\n",
              "      <td>230.585082</td>\n",
              "      <td>196.799922</td>\n",
              "      <td>233.973682</td>\n",
              "      <td>218.365490</td>\n",
              "      <td>178.417014</td>\n",
              "      <td>22.338772</td>\n",
              "      <td>48.023504</td>\n",
              "      <td>242.349359</td>\n",
              "      <td>21.821240</td>\n",
              "      <td>60.580947</td>\n",
              "      <td>233.973682</td>\n",
              "      <td>Set4</td>\n",
              "      <td>C2</td>\n",
              "      <td>A1</td>\n",
              "      <td>7656ABAF-7260-4953-A918-AB1E537D8E13.png</td>\n",
              "    </tr>\n",
              "    <tr>\n",
              "      <th>4</th>\n",
              "      <td>239.753497</td>\n",
              "      <td>228.713967</td>\n",
              "      <td>196.514569</td>\n",
              "      <td>230.413493</td>\n",
              "      <td>214.830229</td>\n",
              "      <td>175.105644</td>\n",
              "      <td>22.430458</td>\n",
              "      <td>46.089938</td>\n",
              "      <td>239.753594</td>\n",
              "      <td>21.777129</td>\n",
              "      <td>61.255491</td>\n",
              "      <td>230.413493</td>\n",
              "      <td>Set4</td>\n",
              "      <td>C2</td>\n",
              "      <td>A1</td>\n",
              "      <td>19D7369E-892D-44FC-A9F2-7C097487F05A.png</td>\n",
              "    </tr>\n",
              "  </tbody>\n",
              "</table>\n",
              "</div>\n",
              "      <button class=\"colab-df-convert\" onclick=\"convertToInteractive('df-e7a13401-0703-48a0-b6ba-7febdeab0fb0')\"\n",
              "              title=\"Convert this dataframe to an interactive table.\"\n",
              "              style=\"display:none;\">\n",
              "        \n",
              "  <svg xmlns=\"http://www.w3.org/2000/svg\" height=\"24px\"viewBox=\"0 0 24 24\"\n",
              "       width=\"24px\">\n",
              "    <path d=\"M0 0h24v24H0V0z\" fill=\"none\"/>\n",
              "    <path d=\"M18.56 5.44l.94 2.06.94-2.06 2.06-.94-2.06-.94-.94-2.06-.94 2.06-2.06.94zm-11 1L8.5 8.5l.94-2.06 2.06-.94-2.06-.94L8.5 2.5l-.94 2.06-2.06.94zm10 10l.94 2.06.94-2.06 2.06-.94-2.06-.94-.94-2.06-.94 2.06-2.06.94z\"/><path d=\"M17.41 7.96l-1.37-1.37c-.4-.4-.92-.59-1.43-.59-.52 0-1.04.2-1.43.59L10.3 9.45l-7.72 7.72c-.78.78-.78 2.05 0 2.83L4 21.41c.39.39.9.59 1.41.59.51 0 1.02-.2 1.41-.59l7.78-7.78 2.81-2.81c.8-.78.8-2.07 0-2.86zM5.41 20L4 18.59l7.72-7.72 1.47 1.35L5.41 20z\"/>\n",
              "  </svg>\n",
              "      </button>\n",
              "      \n",
              "  <style>\n",
              "    .colab-df-container {\n",
              "      display:flex;\n",
              "      flex-wrap:wrap;\n",
              "      gap: 12px;\n",
              "    }\n",
              "\n",
              "    .colab-df-convert {\n",
              "      background-color: #E8F0FE;\n",
              "      border: none;\n",
              "      border-radius: 50%;\n",
              "      cursor: pointer;\n",
              "      display: none;\n",
              "      fill: #1967D2;\n",
              "      height: 32px;\n",
              "      padding: 0 0 0 0;\n",
              "      width: 32px;\n",
              "    }\n",
              "\n",
              "    .colab-df-convert:hover {\n",
              "      background-color: #E2EBFA;\n",
              "      box-shadow: 0px 1px 2px rgba(60, 64, 67, 0.3), 0px 1px 3px 1px rgba(60, 64, 67, 0.15);\n",
              "      fill: #174EA6;\n",
              "    }\n",
              "\n",
              "    [theme=dark] .colab-df-convert {\n",
              "      background-color: #3B4455;\n",
              "      fill: #D2E3FC;\n",
              "    }\n",
              "\n",
              "    [theme=dark] .colab-df-convert:hover {\n",
              "      background-color: #434B5C;\n",
              "      box-shadow: 0px 1px 3px 1px rgba(0, 0, 0, 0.15);\n",
              "      filter: drop-shadow(0px 1px 2px rgba(0, 0, 0, 0.3));\n",
              "      fill: #FFFFFF;\n",
              "    }\n",
              "  </style>\n",
              "\n",
              "      <script>\n",
              "        const buttonEl =\n",
              "          document.querySelector('#df-e7a13401-0703-48a0-b6ba-7febdeab0fb0 button.colab-df-convert');\n",
              "        buttonEl.style.display =\n",
              "          google.colab.kernel.accessAllowed ? 'block' : 'none';\n",
              "\n",
              "        async function convertToInteractive(key) {\n",
              "          const element = document.querySelector('#df-e7a13401-0703-48a0-b6ba-7febdeab0fb0');\n",
              "          const dataTable =\n",
              "            await google.colab.kernel.invokeFunction('convertToInteractive',\n",
              "                                                     [key], {});\n",
              "          if (!dataTable) return;\n",
              "\n",
              "          const docLinkHtml = 'Like what you see? Visit the ' +\n",
              "            '<a target=\"_blank\" href=https://colab.research.google.com/notebooks/data_table.ipynb>data table notebook</a>'\n",
              "            + ' to learn more about interactive tables.';\n",
              "          element.innerHTML = '';\n",
              "          dataTable['output_type'] = 'display_data';\n",
              "          await google.colab.output.renderOutput(dataTable, element);\n",
              "          const docLink = document.createElement('div');\n",
              "          docLink.innerHTML = docLinkHtml;\n",
              "          element.appendChild(docLink);\n",
              "        }\n",
              "      </script>\n",
              "    </div>\n",
              "  </div>\n",
              "  "
            ],
            "text/plain": [
              "        R-ref       G-ref  ...  Shad                                       Img\n",
              "0  241.886752  229.539627  ...    A1  97434DCB-317D-460E-B141-4F5F00BD8237.png\n",
              "1  242.135781  229.859848  ...    A1  86674BAB-7B95-47B9-B2F4-6A08EA9A553C.png\n",
              "2  242.884227  231.409771  ...    A1  36D924E3-369D-4810-8013-7F212B48F6E7.png\n",
              "3  242.349359  230.585082  ...    A1  7656ABAF-7260-4953-A918-AB1E537D8E13.png\n",
              "4  239.753497  228.713967  ...    A1  19D7369E-892D-44FC-A9F2-7C097487F05A.png\n",
              "\n",
              "[5 rows x 16 columns]"
            ]
          },
          "metadata": {},
          "execution_count": 1004
        }
      ]
    },
    {
      "cell_type": "markdown",
      "source": [
        "###RGB"
      ],
      "metadata": {
        "id": "14z-y0z0uK8Y"
      }
    },
    {
      "cell_type": "code",
      "source": [
        "RGB_C2_Set1 = table_C2Set1.drop(['H-ref','S-ref','V-ref','H-Shad','S-Shad','V-Shad','Setting','Ref','Shad','Img'], axis=1)"
      ],
      "metadata": {
        "id": "N74ITrYGuK8Y"
      },
      "execution_count": 1005,
      "outputs": []
    },
    {
      "cell_type": "code",
      "source": [
        "RGB_C2_Set2 = table_C2Set2"
      ],
      "metadata": {
        "id": "FvgfuG53uK8Y"
      },
      "execution_count": 1006,
      "outputs": []
    },
    {
      "cell_type": "code",
      "source": [
        "RGB_C2_Set3 = table_C2Set3"
      ],
      "metadata": {
        "id": "VwSn2v8PuK8Y"
      },
      "execution_count": 1007,
      "outputs": []
    },
    {
      "cell_type": "code",
      "source": [
        "RGB_C2_Set4 = table_C2Set4"
      ],
      "metadata": {
        "id": "AigA2623uK8Y"
      },
      "execution_count": 1008,
      "outputs": []
    },
    {
      "cell_type": "code",
      "source": [
        "RGB_C2_concat0 = pd.concat([RGB_C2_Set2,RGB_C2_Set3])"
      ],
      "metadata": {
        "id": "2s691uyTuK8Y"
      },
      "execution_count": 1009,
      "outputs": []
    },
    {
      "cell_type": "code",
      "source": [
        "RGB_C2_concat1 = pd.concat([RGB_C2_concat0,RGB_C2_Set4])"
      ],
      "metadata": {
        "id": "p3YpsAPJuK8Y"
      },
      "execution_count": 1010,
      "outputs": []
    },
    {
      "cell_type": "code",
      "source": [
        "RGB_C2_concat2 = RGB_C2_concat1.drop(['H-ref','S-ref','V-ref','H-Shad','S-Shad','V-Shad','Setting','Ref','Shad','Img'], axis=1)"
      ],
      "metadata": {
        "id": "5QW32NZ1uK8Y"
      },
      "execution_count": 1022,
      "outputs": []
    },
    {
      "cell_type": "code",
      "source": [
        "X_test_C2_RGB = np.array(RGB_C2_Set1)"
      ],
      "metadata": {
        "id": "y3HWzyi7uK8Y"
      },
      "execution_count": 1012,
      "outputs": []
    },
    {
      "cell_type": "code",
      "source": [
        "y_C2_RGB =  table_C2Set1.iloc[:,14:15]"
      ],
      "metadata": {
        "id": "pvwyv_UjuK8Y"
      },
      "execution_count": 1013,
      "outputs": []
    },
    {
      "cell_type": "code",
      "source": [
        "y_test_C2_RGB = np.array(y_B2_RGB)"
      ],
      "metadata": {
        "id": "7AqmxULnuK8Y"
      },
      "execution_count": 1014,
      "outputs": []
    },
    {
      "cell_type": "code",
      "source": [
        "X_train_C2_RGB = np.array(RGB_C2_concat2)"
      ],
      "metadata": {
        "id": "kbaCmDQouK8Z"
      },
      "execution_count": 1025,
      "outputs": []
    },
    {
      "cell_type": "code",
      "source": [
        "y_train_C2RGB = RGB_C2_concat1.iloc[:,14:15]"
      ],
      "metadata": {
        "id": "QFr7Q2mruK8Z"
      },
      "execution_count": 1016,
      "outputs": []
    },
    {
      "cell_type": "code",
      "source": [
        "y_train_C2_RGB = np.array(y_train_C2RGB)"
      ],
      "metadata": {
        "id": "QM4liKsyuK8Z"
      },
      "execution_count": 1017,
      "outputs": []
    },
    {
      "cell_type": "code",
      "source": [
        "y_train_C2_RGB.shape"
      ],
      "metadata": {
        "colab": {
          "base_uri": "https://localhost:8080/"
        },
        "id": "FRZMjhbZ1BTc",
        "outputId": "c9bccbfa-03c9-4743-fdaf-de3b56a57bb4"
      },
      "execution_count": 1020,
      "outputs": [
        {
          "output_type": "execute_result",
          "data": {
            "text/plain": [
              "(2415, 1)"
            ]
          },
          "metadata": {},
          "execution_count": 1020
        }
      ]
    },
    {
      "cell_type": "code",
      "source": [
        "clf.fit(X_train_C2_RGB, y_train_C2_RGB)"
      ],
      "metadata": {
        "colab": {
          "base_uri": "https://localhost:8080/"
        },
        "outputId": "eeb959d9-bd09-4663-83c0-bc9c9b367cf7",
        "id": "SCZ4Kb9yuK8Z"
      },
      "execution_count": 1027,
      "outputs": [
        {
          "output_type": "stream",
          "name": "stderr",
          "text": [
            "/usr/local/lib/python3.7/dist-packages/ipykernel_launcher.py:1: DataConversionWarning: A column-vector y was passed when a 1d array was expected. Please change the shape of y to (n_samples,), for example using ravel().\n",
            "  \"\"\"Entry point for launching an IPython kernel.\n"
          ]
        },
        {
          "output_type": "execute_result",
          "data": {
            "text/plain": [
              "RandomForestClassifier()"
            ]
          },
          "metadata": {},
          "execution_count": 1027
        }
      ]
    },
    {
      "cell_type": "code",
      "source": [
        "y_pred_C2_RGB = clf.predict(X_test_C2_RGB)"
      ],
      "metadata": {
        "id": "8LGlyJrBuK8Z"
      },
      "execution_count": 1028,
      "outputs": []
    },
    {
      "cell_type": "code",
      "source": [
        "print(\"Accuracy:\", metrics.accuracy_score(y_test_C2_RGB, y_pred_C2_RGB))"
      ],
      "metadata": {
        "colab": {
          "base_uri": "https://localhost:8080/"
        },
        "outputId": "67c5fe67-cb4f-475e-ee26-236604b12e60",
        "id": "O5IintGtuK8Z"
      },
      "execution_count": 1029,
      "outputs": [
        {
          "output_type": "stream",
          "name": "stdout",
          "text": [
            "Accuracy: 0.9975155279503105\n"
          ]
        }
      ]
    },
    {
      "cell_type": "markdown",
      "source": [
        "###HSV"
      ],
      "metadata": {
        "id": "m9ZymQUWuK8Z"
      }
    },
    {
      "cell_type": "code",
      "source": [
        "HSV_C2_Set1 = table_C2Set1.drop(['R-ref','G-ref','B-ref','R-Shad','G-Shad','B-Shad','Setting','Ref','Shad','Img'], axis=1)"
      ],
      "metadata": {
        "id": "q5xlUfKquK8Z"
      },
      "execution_count": 1030,
      "outputs": []
    },
    {
      "cell_type": "code",
      "source": [
        "HSV_C2_concat2 = RGB_C2_concat1.drop(['R-ref','G-ref','B-ref','R-Shad','G-Shad','B-Shad','Setting','Ref','Shad','Img'], axis=1)"
      ],
      "metadata": {
        "id": "s-viJk-8uK8Z"
      },
      "execution_count": 1031,
      "outputs": []
    },
    {
      "cell_type": "code",
      "source": [
        "X_test_C2_HSV = np.array(HSV_C2_Set1)"
      ],
      "metadata": {
        "id": "3bWxFDmTuK8a"
      },
      "execution_count": 1032,
      "outputs": []
    },
    {
      "cell_type": "code",
      "source": [
        "y_C2_HSV =  table_C2Set1.iloc[:,14:15]"
      ],
      "metadata": {
        "id": "lpnovtd2uK8a"
      },
      "execution_count": 1033,
      "outputs": []
    },
    {
      "cell_type": "code",
      "source": [
        "y_test_C2_HSV = np.array(y_C2_RGB)"
      ],
      "metadata": {
        "id": "6GQ5gtAHuK8a"
      },
      "execution_count": 1034,
      "outputs": []
    },
    {
      "cell_type": "code",
      "source": [
        "X_train_C2_HSV = np.array(HSV_C2_concat2)"
      ],
      "metadata": {
        "id": "PGXplz_NuK8a"
      },
      "execution_count": 1035,
      "outputs": []
    },
    {
      "cell_type": "code",
      "source": [
        "y_train_C2HSV = RGB_C2_concat1.iloc[:,14:15]"
      ],
      "metadata": {
        "id": "vOmolRtnuK8a"
      },
      "execution_count": 1036,
      "outputs": []
    },
    {
      "cell_type": "code",
      "source": [
        "y_train_C2_HSV = np.array(y_train_C2HSV)"
      ],
      "metadata": {
        "id": "DgpIHz4cuK8a"
      },
      "execution_count": 1037,
      "outputs": []
    },
    {
      "cell_type": "code",
      "source": [
        "clf.fit(X_train_C2_HSV, y_train_C2_HSV)"
      ],
      "metadata": {
        "colab": {
          "base_uri": "https://localhost:8080/"
        },
        "outputId": "970af2e5-78b6-4295-b6d7-e188d569c74b",
        "id": "2DKI59WsuK8a"
      },
      "execution_count": 1038,
      "outputs": [
        {
          "output_type": "stream",
          "name": "stderr",
          "text": [
            "/usr/local/lib/python3.7/dist-packages/ipykernel_launcher.py:1: DataConversionWarning: A column-vector y was passed when a 1d array was expected. Please change the shape of y to (n_samples,), for example using ravel().\n",
            "  \"\"\"Entry point for launching an IPython kernel.\n"
          ]
        },
        {
          "output_type": "execute_result",
          "data": {
            "text/plain": [
              "RandomForestClassifier()"
            ]
          },
          "metadata": {},
          "execution_count": 1038
        }
      ]
    },
    {
      "cell_type": "code",
      "source": [
        "y_pred_C2_HSV = clf.predict(X_test_C2_HSV)"
      ],
      "metadata": {
        "id": "hwrwDjh7uK8a"
      },
      "execution_count": 1039,
      "outputs": []
    },
    {
      "cell_type": "code",
      "source": [
        "print(\"Accuracy:\", metrics.accuracy_score(y_test_C2_HSV, y_pred_C2_HSV))"
      ],
      "metadata": {
        "colab": {
          "base_uri": "https://localhost:8080/"
        },
        "outputId": "6c072a6e-3084-4ed4-fb58-82c159004b7f",
        "id": "HyFHjL4fuK8a"
      },
      "execution_count": 1040,
      "outputs": [
        {
          "output_type": "stream",
          "name": "stdout",
          "text": [
            "Accuracy: 0.9962732919254659\n"
          ]
        }
      ]
    },
    {
      "cell_type": "markdown",
      "source": [
        "##C3"
      ],
      "metadata": {
        "id": "rK-ZJLNyuK8b"
      }
    },
    {
      "cell_type": "code",
      "source": [
        "table_C3Set1 = pd.read_excel(Set1 , sheet_name='C3Set1')\n",
        "table_C3Set1.head()"
      ],
      "metadata": {
        "colab": {
          "base_uri": "https://localhost:8080/",
          "height": 0
        },
        "outputId": "b7782dc9-ba91-4306-e1d0-172022abd137",
        "id": "q-_w5TrjuK8b"
      },
      "execution_count": 1041,
      "outputs": [
        {
          "output_type": "execute_result",
          "data": {
            "text/html": [
              "\n",
              "  <div id=\"df-7ddf59e9-838e-4a07-8d47-7699b14d88fe\">\n",
              "    <div class=\"colab-df-container\">\n",
              "      <div>\n",
              "<style scoped>\n",
              "    .dataframe tbody tr th:only-of-type {\n",
              "        vertical-align: middle;\n",
              "    }\n",
              "\n",
              "    .dataframe tbody tr th {\n",
              "        vertical-align: top;\n",
              "    }\n",
              "\n",
              "    .dataframe thead th {\n",
              "        text-align: right;\n",
              "    }\n",
              "</style>\n",
              "<table border=\"1\" class=\"dataframe\">\n",
              "  <thead>\n",
              "    <tr style=\"text-align: right;\">\n",
              "      <th></th>\n",
              "      <th>R-ref</th>\n",
              "      <th>G-ref</th>\n",
              "      <th>B-ref</th>\n",
              "      <th>R-Shad</th>\n",
              "      <th>G-Shad</th>\n",
              "      <th>B-Shad</th>\n",
              "      <th>H-ref</th>\n",
              "      <th>S-ref</th>\n",
              "      <th>V-ref</th>\n",
              "      <th>H-Shad</th>\n",
              "      <th>S-Shad</th>\n",
              "      <th>V-Shad</th>\n",
              "      <th>Setting</th>\n",
              "      <th>Ref</th>\n",
              "      <th>Shad</th>\n",
              "      <th>Img</th>\n",
              "    </tr>\n",
              "  </thead>\n",
              "  <tbody>\n",
              "    <tr>\n",
              "      <th>0</th>\n",
              "      <td>240.689782</td>\n",
              "      <td>228.253497</td>\n",
              "      <td>192.838772</td>\n",
              "      <td>231.039199</td>\n",
              "      <td>213.655176</td>\n",
              "      <td>171.713465</td>\n",
              "      <td>22.300117</td>\n",
              "      <td>50.826923</td>\n",
              "      <td>240.689782</td>\n",
              "      <td>21.347048</td>\n",
              "      <td>65.540358</td>\n",
              "      <td>231.039199</td>\n",
              "      <td>Set1</td>\n",
              "      <td>C3</td>\n",
              "      <td>A1</td>\n",
              "      <td>8397A717-3D12-4648-BD3F-CE1F787AB8C2.png</td>\n",
              "    </tr>\n",
              "    <tr>\n",
              "      <th>1</th>\n",
              "      <td>241.482032</td>\n",
              "      <td>229.891414</td>\n",
              "      <td>197.313131</td>\n",
              "      <td>232.626448</td>\n",
              "      <td>216.424613</td>\n",
              "      <td>176.563989</td>\n",
              "      <td>22.382382</td>\n",
              "      <td>46.802642</td>\n",
              "      <td>241.488636</td>\n",
              "      <td>21.568529</td>\n",
              "      <td>61.497452</td>\n",
              "      <td>232.626448</td>\n",
              "      <td>Set1</td>\n",
              "      <td>C3</td>\n",
              "      <td>A1</td>\n",
              "      <td>A9FD8AA5-8101-465A-B35F-6E192FDA7776.png</td>\n",
              "    </tr>\n",
              "    <tr>\n",
              "      <th>2</th>\n",
              "      <td>240.742521</td>\n",
              "      <td>228.815559</td>\n",
              "      <td>194.967463</td>\n",
              "      <td>232.497452</td>\n",
              "      <td>216.420628</td>\n",
              "      <td>176.211009</td>\n",
              "      <td>22.265831</td>\n",
              "      <td>48.576632</td>\n",
              "      <td>240.742521</td>\n",
              "      <td>21.680104</td>\n",
              "      <td>61.769345</td>\n",
              "      <td>232.497452</td>\n",
              "      <td>Set1</td>\n",
              "      <td>C3</td>\n",
              "      <td>A1</td>\n",
              "      <td>D8B8E0A9-7FD9-444D-9917-BEC6A0BCA620.png</td>\n",
              "    </tr>\n",
              "    <tr>\n",
              "      <th>3</th>\n",
              "      <td>238.366453</td>\n",
              "      <td>227.380439</td>\n",
              "      <td>195.708819</td>\n",
              "      <td>228.849597</td>\n",
              "      <td>212.813270</td>\n",
              "      <td>173.089241</td>\n",
              "      <td>22.340326</td>\n",
              "      <td>45.727758</td>\n",
              "      <td>238.366453</td>\n",
              "      <td>21.635808</td>\n",
              "      <td>62.176629</td>\n",
              "      <td>228.849597</td>\n",
              "      <td>Set1</td>\n",
              "      <td>C3</td>\n",
              "      <td>A1</td>\n",
              "      <td>B6F793CB-821E-4980-BE99-FEE76D08FC11.png</td>\n",
              "    </tr>\n",
              "    <tr>\n",
              "      <th>4</th>\n",
              "      <td>238.000194</td>\n",
              "      <td>226.535062</td>\n",
              "      <td>193.909771</td>\n",
              "      <td>228.701418</td>\n",
              "      <td>211.773330</td>\n",
              "      <td>171.758966</td>\n",
              "      <td>22.287296</td>\n",
              "      <td>47.344891</td>\n",
              "      <td>238.000194</td>\n",
              "      <td>21.286628</td>\n",
              "      <td>63.564915</td>\n",
              "      <td>228.701418</td>\n",
              "      <td>Set1</td>\n",
              "      <td>C3</td>\n",
              "      <td>A1</td>\n",
              "      <td>DB93C8AE-E996-4EC9-9AD4-DBC68B6E726A.png</td>\n",
              "    </tr>\n",
              "  </tbody>\n",
              "</table>\n",
              "</div>\n",
              "      <button class=\"colab-df-convert\" onclick=\"convertToInteractive('df-7ddf59e9-838e-4a07-8d47-7699b14d88fe')\"\n",
              "              title=\"Convert this dataframe to an interactive table.\"\n",
              "              style=\"display:none;\">\n",
              "        \n",
              "  <svg xmlns=\"http://www.w3.org/2000/svg\" height=\"24px\"viewBox=\"0 0 24 24\"\n",
              "       width=\"24px\">\n",
              "    <path d=\"M0 0h24v24H0V0z\" fill=\"none\"/>\n",
              "    <path d=\"M18.56 5.44l.94 2.06.94-2.06 2.06-.94-2.06-.94-.94-2.06-.94 2.06-2.06.94zm-11 1L8.5 8.5l.94-2.06 2.06-.94-2.06-.94L8.5 2.5l-.94 2.06-2.06.94zm10 10l.94 2.06.94-2.06 2.06-.94-2.06-.94-.94-2.06-.94 2.06-2.06.94z\"/><path d=\"M17.41 7.96l-1.37-1.37c-.4-.4-.92-.59-1.43-.59-.52 0-1.04.2-1.43.59L10.3 9.45l-7.72 7.72c-.78.78-.78 2.05 0 2.83L4 21.41c.39.39.9.59 1.41.59.51 0 1.02-.2 1.41-.59l7.78-7.78 2.81-2.81c.8-.78.8-2.07 0-2.86zM5.41 20L4 18.59l7.72-7.72 1.47 1.35L5.41 20z\"/>\n",
              "  </svg>\n",
              "      </button>\n",
              "      \n",
              "  <style>\n",
              "    .colab-df-container {\n",
              "      display:flex;\n",
              "      flex-wrap:wrap;\n",
              "      gap: 12px;\n",
              "    }\n",
              "\n",
              "    .colab-df-convert {\n",
              "      background-color: #E8F0FE;\n",
              "      border: none;\n",
              "      border-radius: 50%;\n",
              "      cursor: pointer;\n",
              "      display: none;\n",
              "      fill: #1967D2;\n",
              "      height: 32px;\n",
              "      padding: 0 0 0 0;\n",
              "      width: 32px;\n",
              "    }\n",
              "\n",
              "    .colab-df-convert:hover {\n",
              "      background-color: #E2EBFA;\n",
              "      box-shadow: 0px 1px 2px rgba(60, 64, 67, 0.3), 0px 1px 3px 1px rgba(60, 64, 67, 0.15);\n",
              "      fill: #174EA6;\n",
              "    }\n",
              "\n",
              "    [theme=dark] .colab-df-convert {\n",
              "      background-color: #3B4455;\n",
              "      fill: #D2E3FC;\n",
              "    }\n",
              "\n",
              "    [theme=dark] .colab-df-convert:hover {\n",
              "      background-color: #434B5C;\n",
              "      box-shadow: 0px 1px 3px 1px rgba(0, 0, 0, 0.15);\n",
              "      filter: drop-shadow(0px 1px 2px rgba(0, 0, 0, 0.3));\n",
              "      fill: #FFFFFF;\n",
              "    }\n",
              "  </style>\n",
              "\n",
              "      <script>\n",
              "        const buttonEl =\n",
              "          document.querySelector('#df-7ddf59e9-838e-4a07-8d47-7699b14d88fe button.colab-df-convert');\n",
              "        buttonEl.style.display =\n",
              "          google.colab.kernel.accessAllowed ? 'block' : 'none';\n",
              "\n",
              "        async function convertToInteractive(key) {\n",
              "          const element = document.querySelector('#df-7ddf59e9-838e-4a07-8d47-7699b14d88fe');\n",
              "          const dataTable =\n",
              "            await google.colab.kernel.invokeFunction('convertToInteractive',\n",
              "                                                     [key], {});\n",
              "          if (!dataTable) return;\n",
              "\n",
              "          const docLinkHtml = 'Like what you see? Visit the ' +\n",
              "            '<a target=\"_blank\" href=https://colab.research.google.com/notebooks/data_table.ipynb>data table notebook</a>'\n",
              "            + ' to learn more about interactive tables.';\n",
              "          element.innerHTML = '';\n",
              "          dataTable['output_type'] = 'display_data';\n",
              "          await google.colab.output.renderOutput(dataTable, element);\n",
              "          const docLink = document.createElement('div');\n",
              "          docLink.innerHTML = docLinkHtml;\n",
              "          element.appendChild(docLink);\n",
              "        }\n",
              "      </script>\n",
              "    </div>\n",
              "  </div>\n",
              "  "
            ],
            "text/plain": [
              "        R-ref       G-ref  ...  Shad                                       Img\n",
              "0  240.689782  228.253497  ...    A1  8397A717-3D12-4648-BD3F-CE1F787AB8C2.png\n",
              "1  241.482032  229.891414  ...    A1  A9FD8AA5-8101-465A-B35F-6E192FDA7776.png\n",
              "2  240.742521  228.815559  ...    A1  D8B8E0A9-7FD9-444D-9917-BEC6A0BCA620.png\n",
              "3  238.366453  227.380439  ...    A1  B6F793CB-821E-4980-BE99-FEE76D08FC11.png\n",
              "4  238.000194  226.535062  ...    A1  DB93C8AE-E996-4EC9-9AD4-DBC68B6E726A.png\n",
              "\n",
              "[5 rows x 16 columns]"
            ]
          },
          "metadata": {},
          "execution_count": 1041
        }
      ]
    },
    {
      "cell_type": "code",
      "source": [
        "table_C3Set2 = pd.read_excel(Set2, sheet_name='C3Set2')\n",
        "table_C3Set2.head()"
      ],
      "metadata": {
        "colab": {
          "base_uri": "https://localhost:8080/",
          "height": 0
        },
        "outputId": "472829c5-4783-4fcf-d6e1-546f5eaf8f09",
        "id": "byyaFBS-uK8b"
      },
      "execution_count": 1042,
      "outputs": [
        {
          "output_type": "execute_result",
          "data": {
            "text/html": [
              "\n",
              "  <div id=\"df-1732975e-95e0-40d1-a699-a240cedaa372\">\n",
              "    <div class=\"colab-df-container\">\n",
              "      <div>\n",
              "<style scoped>\n",
              "    .dataframe tbody tr th:only-of-type {\n",
              "        vertical-align: middle;\n",
              "    }\n",
              "\n",
              "    .dataframe tbody tr th {\n",
              "        vertical-align: top;\n",
              "    }\n",
              "\n",
              "    .dataframe thead th {\n",
              "        text-align: right;\n",
              "    }\n",
              "</style>\n",
              "<table border=\"1\" class=\"dataframe\">\n",
              "  <thead>\n",
              "    <tr style=\"text-align: right;\">\n",
              "      <th></th>\n",
              "      <th>R-ref</th>\n",
              "      <th>G-ref</th>\n",
              "      <th>B-ref</th>\n",
              "      <th>R-Shad</th>\n",
              "      <th>G-Shad</th>\n",
              "      <th>B-Shad</th>\n",
              "      <th>H-ref</th>\n",
              "      <th>S-ref</th>\n",
              "      <th>V-ref</th>\n",
              "      <th>H-Shad</th>\n",
              "      <th>S-Shad</th>\n",
              "      <th>V-Shad</th>\n",
              "      <th>Setting</th>\n",
              "      <th>Ref</th>\n",
              "      <th>Shad</th>\n",
              "      <th>Img</th>\n",
              "    </tr>\n",
              "  </thead>\n",
              "  <tbody>\n",
              "    <tr>\n",
              "      <th>0</th>\n",
              "      <td>241.886752</td>\n",
              "      <td>229.539627</td>\n",
              "      <td>194.758353</td>\n",
              "      <td>232.801594</td>\n",
              "      <td>216.483551</td>\n",
              "      <td>175.844685</td>\n",
              "      <td>22.222611</td>\n",
              "      <td>49.799631</td>\n",
              "      <td>241.886752</td>\n",
              "      <td>21.663979</td>\n",
              "      <td>62.447225</td>\n",
              "      <td>232.801594</td>\n",
              "      <td>Set2</td>\n",
              "      <td>C3</td>\n",
              "      <td>A1</td>\n",
              "      <td>458C8A30-28C6-4609-91F0-D2469DFEDA5B.png</td>\n",
              "    </tr>\n",
              "    <tr>\n",
              "      <th>1</th>\n",
              "      <td>242.135781</td>\n",
              "      <td>229.859848</td>\n",
              "      <td>194.487082</td>\n",
              "      <td>232.920026</td>\n",
              "      <td>216.203410</td>\n",
              "      <td>174.735613</td>\n",
              "      <td>22.372960</td>\n",
              "      <td>50.312646</td>\n",
              "      <td>242.135781</td>\n",
              "      <td>21.584191</td>\n",
              "      <td>63.779817</td>\n",
              "      <td>232.920026</td>\n",
              "      <td>Set2</td>\n",
              "      <td>C3</td>\n",
              "      <td>A1</td>\n",
              "      <td>07704C9B-608B-41B4-A3A4-C6DF8E2A8EC4.png</td>\n",
              "    </tr>\n",
              "    <tr>\n",
              "      <th>2</th>\n",
              "      <td>242.884227</td>\n",
              "      <td>231.409771</td>\n",
              "      <td>198.796717</td>\n",
              "      <td>234.321750</td>\n",
              "      <td>218.636271</td>\n",
              "      <td>178.919841</td>\n",
              "      <td>22.467366</td>\n",
              "      <td>46.435800</td>\n",
              "      <td>242.890831</td>\n",
              "      <td>21.754703</td>\n",
              "      <td>60.344546</td>\n",
              "      <td>234.321750</td>\n",
              "      <td>Set2</td>\n",
              "      <td>C3</td>\n",
              "      <td>A1</td>\n",
              "      <td>945887F0-416B-4C86-B18E-603E66F21AC1.png</td>\n",
              "    </tr>\n",
              "    <tr>\n",
              "      <th>3</th>\n",
              "      <td>242.349359</td>\n",
              "      <td>230.585082</td>\n",
              "      <td>196.799922</td>\n",
              "      <td>233.973682</td>\n",
              "      <td>218.365490</td>\n",
              "      <td>178.417014</td>\n",
              "      <td>22.338772</td>\n",
              "      <td>48.023504</td>\n",
              "      <td>242.349359</td>\n",
              "      <td>21.821240</td>\n",
              "      <td>60.580947</td>\n",
              "      <td>233.973682</td>\n",
              "      <td>Set2</td>\n",
              "      <td>C3</td>\n",
              "      <td>A1</td>\n",
              "      <td>3B522047-038B-4387-9487-718BC435AF50.png</td>\n",
              "    </tr>\n",
              "    <tr>\n",
              "      <th>4</th>\n",
              "      <td>239.753497</td>\n",
              "      <td>228.713967</td>\n",
              "      <td>196.514569</td>\n",
              "      <td>230.413493</td>\n",
              "      <td>214.830229</td>\n",
              "      <td>175.105644</td>\n",
              "      <td>22.430458</td>\n",
              "      <td>46.089938</td>\n",
              "      <td>239.753594</td>\n",
              "      <td>21.777129</td>\n",
              "      <td>61.255491</td>\n",
              "      <td>230.413493</td>\n",
              "      <td>Set2</td>\n",
              "      <td>C3</td>\n",
              "      <td>A1</td>\n",
              "      <td>EC132633-69E1-4804-B8DA-446EFB6FF262.png</td>\n",
              "    </tr>\n",
              "  </tbody>\n",
              "</table>\n",
              "</div>\n",
              "      <button class=\"colab-df-convert\" onclick=\"convertToInteractive('df-1732975e-95e0-40d1-a699-a240cedaa372')\"\n",
              "              title=\"Convert this dataframe to an interactive table.\"\n",
              "              style=\"display:none;\">\n",
              "        \n",
              "  <svg xmlns=\"http://www.w3.org/2000/svg\" height=\"24px\"viewBox=\"0 0 24 24\"\n",
              "       width=\"24px\">\n",
              "    <path d=\"M0 0h24v24H0V0z\" fill=\"none\"/>\n",
              "    <path d=\"M18.56 5.44l.94 2.06.94-2.06 2.06-.94-2.06-.94-.94-2.06-.94 2.06-2.06.94zm-11 1L8.5 8.5l.94-2.06 2.06-.94-2.06-.94L8.5 2.5l-.94 2.06-2.06.94zm10 10l.94 2.06.94-2.06 2.06-.94-2.06-.94-.94-2.06-.94 2.06-2.06.94z\"/><path d=\"M17.41 7.96l-1.37-1.37c-.4-.4-.92-.59-1.43-.59-.52 0-1.04.2-1.43.59L10.3 9.45l-7.72 7.72c-.78.78-.78 2.05 0 2.83L4 21.41c.39.39.9.59 1.41.59.51 0 1.02-.2 1.41-.59l7.78-7.78 2.81-2.81c.8-.78.8-2.07 0-2.86zM5.41 20L4 18.59l7.72-7.72 1.47 1.35L5.41 20z\"/>\n",
              "  </svg>\n",
              "      </button>\n",
              "      \n",
              "  <style>\n",
              "    .colab-df-container {\n",
              "      display:flex;\n",
              "      flex-wrap:wrap;\n",
              "      gap: 12px;\n",
              "    }\n",
              "\n",
              "    .colab-df-convert {\n",
              "      background-color: #E8F0FE;\n",
              "      border: none;\n",
              "      border-radius: 50%;\n",
              "      cursor: pointer;\n",
              "      display: none;\n",
              "      fill: #1967D2;\n",
              "      height: 32px;\n",
              "      padding: 0 0 0 0;\n",
              "      width: 32px;\n",
              "    }\n",
              "\n",
              "    .colab-df-convert:hover {\n",
              "      background-color: #E2EBFA;\n",
              "      box-shadow: 0px 1px 2px rgba(60, 64, 67, 0.3), 0px 1px 3px 1px rgba(60, 64, 67, 0.15);\n",
              "      fill: #174EA6;\n",
              "    }\n",
              "\n",
              "    [theme=dark] .colab-df-convert {\n",
              "      background-color: #3B4455;\n",
              "      fill: #D2E3FC;\n",
              "    }\n",
              "\n",
              "    [theme=dark] .colab-df-convert:hover {\n",
              "      background-color: #434B5C;\n",
              "      box-shadow: 0px 1px 3px 1px rgba(0, 0, 0, 0.15);\n",
              "      filter: drop-shadow(0px 1px 2px rgba(0, 0, 0, 0.3));\n",
              "      fill: #FFFFFF;\n",
              "    }\n",
              "  </style>\n",
              "\n",
              "      <script>\n",
              "        const buttonEl =\n",
              "          document.querySelector('#df-1732975e-95e0-40d1-a699-a240cedaa372 button.colab-df-convert');\n",
              "        buttonEl.style.display =\n",
              "          google.colab.kernel.accessAllowed ? 'block' : 'none';\n",
              "\n",
              "        async function convertToInteractive(key) {\n",
              "          const element = document.querySelector('#df-1732975e-95e0-40d1-a699-a240cedaa372');\n",
              "          const dataTable =\n",
              "            await google.colab.kernel.invokeFunction('convertToInteractive',\n",
              "                                                     [key], {});\n",
              "          if (!dataTable) return;\n",
              "\n",
              "          const docLinkHtml = 'Like what you see? Visit the ' +\n",
              "            '<a target=\"_blank\" href=https://colab.research.google.com/notebooks/data_table.ipynb>data table notebook</a>'\n",
              "            + ' to learn more about interactive tables.';\n",
              "          element.innerHTML = '';\n",
              "          dataTable['output_type'] = 'display_data';\n",
              "          await google.colab.output.renderOutput(dataTable, element);\n",
              "          const docLink = document.createElement('div');\n",
              "          docLink.innerHTML = docLinkHtml;\n",
              "          element.appendChild(docLink);\n",
              "        }\n",
              "      </script>\n",
              "    </div>\n",
              "  </div>\n",
              "  "
            ],
            "text/plain": [
              "        R-ref       G-ref  ...  Shad                                       Img\n",
              "0  241.886752  229.539627  ...    A1  458C8A30-28C6-4609-91F0-D2469DFEDA5B.png\n",
              "1  242.135781  229.859848  ...    A1  07704C9B-608B-41B4-A3A4-C6DF8E2A8EC4.png\n",
              "2  242.884227  231.409771  ...    A1  945887F0-416B-4C86-B18E-603E66F21AC1.png\n",
              "3  242.349359  230.585082  ...    A1  3B522047-038B-4387-9487-718BC435AF50.png\n",
              "4  239.753497  228.713967  ...    A1  EC132633-69E1-4804-B8DA-446EFB6FF262.png\n",
              "\n",
              "[5 rows x 16 columns]"
            ]
          },
          "metadata": {},
          "execution_count": 1042
        }
      ]
    },
    {
      "cell_type": "code",
      "source": [
        "table_C3Set3 = pd.read_excel(Set3, sheet_name='C3Set3 ')\n",
        "table_C3Set3.head()"
      ],
      "metadata": {
        "colab": {
          "base_uri": "https://localhost:8080/",
          "height": 0
        },
        "outputId": "36d2d31b-7e7a-4573-d97b-ccffe1a0eda5",
        "id": "fPxUFMwhuK8b"
      },
      "execution_count": 1043,
      "outputs": [
        {
          "output_type": "execute_result",
          "data": {
            "text/html": [
              "\n",
              "  <div id=\"df-119f1fc5-1bb2-4c54-b955-2a1a3e9e469d\">\n",
              "    <div class=\"colab-df-container\">\n",
              "      <div>\n",
              "<style scoped>\n",
              "    .dataframe tbody tr th:only-of-type {\n",
              "        vertical-align: middle;\n",
              "    }\n",
              "\n",
              "    .dataframe tbody tr th {\n",
              "        vertical-align: top;\n",
              "    }\n",
              "\n",
              "    .dataframe thead th {\n",
              "        text-align: right;\n",
              "    }\n",
              "</style>\n",
              "<table border=\"1\" class=\"dataframe\">\n",
              "  <thead>\n",
              "    <tr style=\"text-align: right;\">\n",
              "      <th></th>\n",
              "      <th>R-ref</th>\n",
              "      <th>G-ref</th>\n",
              "      <th>B-ref</th>\n",
              "      <th>R-Shad</th>\n",
              "      <th>G-Shad</th>\n",
              "      <th>B-Shad</th>\n",
              "      <th>H-ref</th>\n",
              "      <th>S-ref</th>\n",
              "      <th>V-ref</th>\n",
              "      <th>H-Shad</th>\n",
              "      <th>S-Shad</th>\n",
              "      <th>V-Shad</th>\n",
              "      <th>Setting</th>\n",
              "      <th>Ref</th>\n",
              "      <th>Shad</th>\n",
              "      <th>Img</th>\n",
              "    </tr>\n",
              "  </thead>\n",
              "  <tbody>\n",
              "    <tr>\n",
              "      <th>0</th>\n",
              "      <td>240.434246</td>\n",
              "      <td>227.901127</td>\n",
              "      <td>193.160256</td>\n",
              "      <td>231.219442</td>\n",
              "      <td>214.290705</td>\n",
              "      <td>173.437031</td>\n",
              "      <td>22.124806</td>\n",
              "      <td>50.249029</td>\n",
              "      <td>240.434246</td>\n",
              "      <td>21.452692</td>\n",
              "      <td>63.792142</td>\n",
              "      <td>231.219442</td>\n",
              "      <td>Set3</td>\n",
              "      <td>C3</td>\n",
              "      <td>A1</td>\n",
              "      <td>3FC4EFF4-2124-46E0-8229-DA2B35001036.png</td>\n",
              "    </tr>\n",
              "    <tr>\n",
              "      <th>1</th>\n",
              "      <td>240.689782</td>\n",
              "      <td>228.253497</td>\n",
              "      <td>192.838772</td>\n",
              "      <td>231.039199</td>\n",
              "      <td>213.655176</td>\n",
              "      <td>171.713465</td>\n",
              "      <td>22.300117</td>\n",
              "      <td>50.826923</td>\n",
              "      <td>240.689782</td>\n",
              "      <td>21.347048</td>\n",
              "      <td>65.540358</td>\n",
              "      <td>231.039199</td>\n",
              "      <td>Set3</td>\n",
              "      <td>C3</td>\n",
              "      <td>A1</td>\n",
              "      <td>E523862E-01DF-42D9-93CB-972A4CA079DB.png</td>\n",
              "    </tr>\n",
              "    <tr>\n",
              "      <th>2</th>\n",
              "      <td>241.482032</td>\n",
              "      <td>229.891414</td>\n",
              "      <td>197.313131</td>\n",
              "      <td>232.626448</td>\n",
              "      <td>216.424613</td>\n",
              "      <td>176.563989</td>\n",
              "      <td>22.382382</td>\n",
              "      <td>46.802642</td>\n",
              "      <td>241.488636</td>\n",
              "      <td>21.568529</td>\n",
              "      <td>61.497452</td>\n",
              "      <td>232.626448</td>\n",
              "      <td>Set3</td>\n",
              "      <td>C3</td>\n",
              "      <td>A1</td>\n",
              "      <td>C69133CE-D8A7-45E8-AA2C-E958093BB83D.png</td>\n",
              "    </tr>\n",
              "    <tr>\n",
              "      <th>3</th>\n",
              "      <td>240.742521</td>\n",
              "      <td>228.815559</td>\n",
              "      <td>194.967463</td>\n",
              "      <td>232.497452</td>\n",
              "      <td>216.420628</td>\n",
              "      <td>176.211009</td>\n",
              "      <td>22.265831</td>\n",
              "      <td>48.576632</td>\n",
              "      <td>240.742521</td>\n",
              "      <td>21.680104</td>\n",
              "      <td>61.769345</td>\n",
              "      <td>232.497452</td>\n",
              "      <td>Set3</td>\n",
              "      <td>C3</td>\n",
              "      <td>A1</td>\n",
              "      <td>F9412807-4065-46FC-B596-D5BA2113D00B.png</td>\n",
              "    </tr>\n",
              "    <tr>\n",
              "      <th>4</th>\n",
              "      <td>238.366453</td>\n",
              "      <td>227.380439</td>\n",
              "      <td>195.708819</td>\n",
              "      <td>228.849597</td>\n",
              "      <td>212.813270</td>\n",
              "      <td>173.089241</td>\n",
              "      <td>22.340326</td>\n",
              "      <td>45.727758</td>\n",
              "      <td>238.366453</td>\n",
              "      <td>21.635808</td>\n",
              "      <td>62.176629</td>\n",
              "      <td>228.849597</td>\n",
              "      <td>Set3</td>\n",
              "      <td>C3</td>\n",
              "      <td>A1</td>\n",
              "      <td>8A94704C-925E-4B15-8701-ED2E2A7AE8F7.png</td>\n",
              "    </tr>\n",
              "  </tbody>\n",
              "</table>\n",
              "</div>\n",
              "      <button class=\"colab-df-convert\" onclick=\"convertToInteractive('df-119f1fc5-1bb2-4c54-b955-2a1a3e9e469d')\"\n",
              "              title=\"Convert this dataframe to an interactive table.\"\n",
              "              style=\"display:none;\">\n",
              "        \n",
              "  <svg xmlns=\"http://www.w3.org/2000/svg\" height=\"24px\"viewBox=\"0 0 24 24\"\n",
              "       width=\"24px\">\n",
              "    <path d=\"M0 0h24v24H0V0z\" fill=\"none\"/>\n",
              "    <path d=\"M18.56 5.44l.94 2.06.94-2.06 2.06-.94-2.06-.94-.94-2.06-.94 2.06-2.06.94zm-11 1L8.5 8.5l.94-2.06 2.06-.94-2.06-.94L8.5 2.5l-.94 2.06-2.06.94zm10 10l.94 2.06.94-2.06 2.06-.94-2.06-.94-.94-2.06-.94 2.06-2.06.94z\"/><path d=\"M17.41 7.96l-1.37-1.37c-.4-.4-.92-.59-1.43-.59-.52 0-1.04.2-1.43.59L10.3 9.45l-7.72 7.72c-.78.78-.78 2.05 0 2.83L4 21.41c.39.39.9.59 1.41.59.51 0 1.02-.2 1.41-.59l7.78-7.78 2.81-2.81c.8-.78.8-2.07 0-2.86zM5.41 20L4 18.59l7.72-7.72 1.47 1.35L5.41 20z\"/>\n",
              "  </svg>\n",
              "      </button>\n",
              "      \n",
              "  <style>\n",
              "    .colab-df-container {\n",
              "      display:flex;\n",
              "      flex-wrap:wrap;\n",
              "      gap: 12px;\n",
              "    }\n",
              "\n",
              "    .colab-df-convert {\n",
              "      background-color: #E8F0FE;\n",
              "      border: none;\n",
              "      border-radius: 50%;\n",
              "      cursor: pointer;\n",
              "      display: none;\n",
              "      fill: #1967D2;\n",
              "      height: 32px;\n",
              "      padding: 0 0 0 0;\n",
              "      width: 32px;\n",
              "    }\n",
              "\n",
              "    .colab-df-convert:hover {\n",
              "      background-color: #E2EBFA;\n",
              "      box-shadow: 0px 1px 2px rgba(60, 64, 67, 0.3), 0px 1px 3px 1px rgba(60, 64, 67, 0.15);\n",
              "      fill: #174EA6;\n",
              "    }\n",
              "\n",
              "    [theme=dark] .colab-df-convert {\n",
              "      background-color: #3B4455;\n",
              "      fill: #D2E3FC;\n",
              "    }\n",
              "\n",
              "    [theme=dark] .colab-df-convert:hover {\n",
              "      background-color: #434B5C;\n",
              "      box-shadow: 0px 1px 3px 1px rgba(0, 0, 0, 0.15);\n",
              "      filter: drop-shadow(0px 1px 2px rgba(0, 0, 0, 0.3));\n",
              "      fill: #FFFFFF;\n",
              "    }\n",
              "  </style>\n",
              "\n",
              "      <script>\n",
              "        const buttonEl =\n",
              "          document.querySelector('#df-119f1fc5-1bb2-4c54-b955-2a1a3e9e469d button.colab-df-convert');\n",
              "        buttonEl.style.display =\n",
              "          google.colab.kernel.accessAllowed ? 'block' : 'none';\n",
              "\n",
              "        async function convertToInteractive(key) {\n",
              "          const element = document.querySelector('#df-119f1fc5-1bb2-4c54-b955-2a1a3e9e469d');\n",
              "          const dataTable =\n",
              "            await google.colab.kernel.invokeFunction('convertToInteractive',\n",
              "                                                     [key], {});\n",
              "          if (!dataTable) return;\n",
              "\n",
              "          const docLinkHtml = 'Like what you see? Visit the ' +\n",
              "            '<a target=\"_blank\" href=https://colab.research.google.com/notebooks/data_table.ipynb>data table notebook</a>'\n",
              "            + ' to learn more about interactive tables.';\n",
              "          element.innerHTML = '';\n",
              "          dataTable['output_type'] = 'display_data';\n",
              "          await google.colab.output.renderOutput(dataTable, element);\n",
              "          const docLink = document.createElement('div');\n",
              "          docLink.innerHTML = docLinkHtml;\n",
              "          element.appendChild(docLink);\n",
              "        }\n",
              "      </script>\n",
              "    </div>\n",
              "  </div>\n",
              "  "
            ],
            "text/plain": [
              "        R-ref       G-ref  ...  Shad                                       Img\n",
              "0  240.434246  227.901127  ...    A1  3FC4EFF4-2124-46E0-8229-DA2B35001036.png\n",
              "1  240.689782  228.253497  ...    A1  E523862E-01DF-42D9-93CB-972A4CA079DB.png\n",
              "2  241.482032  229.891414  ...    A1  C69133CE-D8A7-45E8-AA2C-E958093BB83D.png\n",
              "3  240.742521  228.815559  ...    A1  F9412807-4065-46FC-B596-D5BA2113D00B.png\n",
              "4  238.366453  227.380439  ...    A1  8A94704C-925E-4B15-8701-ED2E2A7AE8F7.png\n",
              "\n",
              "[5 rows x 16 columns]"
            ]
          },
          "metadata": {},
          "execution_count": 1043
        }
      ]
    },
    {
      "cell_type": "code",
      "source": [
        "table_C3Set4 = pd.read_excel(Set4, sheet_name='C3Set4')\n",
        "table_C3Set4.head()"
      ],
      "metadata": {
        "colab": {
          "base_uri": "https://localhost:8080/",
          "height": 0
        },
        "outputId": "0ec2a7fb-11e6-4037-e2f7-36507147cb98",
        "id": "tRmqZ4pmuK8b"
      },
      "execution_count": 1044,
      "outputs": [
        {
          "output_type": "execute_result",
          "data": {
            "text/html": [
              "\n",
              "  <div id=\"df-783d6ef1-3f16-4309-ada4-1fc0ce79c6cc\">\n",
              "    <div class=\"colab-df-container\">\n",
              "      <div>\n",
              "<style scoped>\n",
              "    .dataframe tbody tr th:only-of-type {\n",
              "        vertical-align: middle;\n",
              "    }\n",
              "\n",
              "    .dataframe tbody tr th {\n",
              "        vertical-align: top;\n",
              "    }\n",
              "\n",
              "    .dataframe thead th {\n",
              "        text-align: right;\n",
              "    }\n",
              "</style>\n",
              "<table border=\"1\" class=\"dataframe\">\n",
              "  <thead>\n",
              "    <tr style=\"text-align: right;\">\n",
              "      <th></th>\n",
              "      <th>R-ref</th>\n",
              "      <th>G-ref</th>\n",
              "      <th>B-ref</th>\n",
              "      <th>R-Shad</th>\n",
              "      <th>G-Shad</th>\n",
              "      <th>B-Shad</th>\n",
              "      <th>H-ref</th>\n",
              "      <th>S-ref</th>\n",
              "      <th>V-ref</th>\n",
              "      <th>H-Shad</th>\n",
              "      <th>S-Shad</th>\n",
              "      <th>V-Shad</th>\n",
              "      <th>Setting</th>\n",
              "      <th>Ref</th>\n",
              "      <th>Shad</th>\n",
              "      <th>Img</th>\n",
              "    </tr>\n",
              "  </thead>\n",
              "  <tbody>\n",
              "    <tr>\n",
              "      <th>0</th>\n",
              "      <td>239.236500</td>\n",
              "      <td>226.574106</td>\n",
              "      <td>192.074883</td>\n",
              "      <td>229.881753</td>\n",
              "      <td>212.417756</td>\n",
              "      <td>171.454267</td>\n",
              "      <td>22.014277</td>\n",
              "      <td>50.377622</td>\n",
              "      <td>239.236500</td>\n",
              "      <td>21.245390</td>\n",
              "      <td>64.893522</td>\n",
              "      <td>229.881753</td>\n",
              "      <td>Set4</td>\n",
              "      <td>C3</td>\n",
              "      <td>A1</td>\n",
              "      <td>D4EECEDB-5CA4-46C9-B28C-63893A5BAF78.png</td>\n",
              "    </tr>\n",
              "    <tr>\n",
              "      <th>1</th>\n",
              "      <td>239.455614</td>\n",
              "      <td>226.906080</td>\n",
              "      <td>191.725427</td>\n",
              "      <td>229.586322</td>\n",
              "      <td>211.631637</td>\n",
              "      <td>169.314151</td>\n",
              "      <td>22.211053</td>\n",
              "      <td>50.957459</td>\n",
              "      <td>239.455614</td>\n",
              "      <td>21.135947</td>\n",
              "      <td>66.991382</td>\n",
              "      <td>229.586322</td>\n",
              "      <td>Set4</td>\n",
              "      <td>C3</td>\n",
              "      <td>A1</td>\n",
              "      <td>E89E9E85-D827-4D54-98B4-0E0F3DD6FDD0.png</td>\n",
              "    </tr>\n",
              "    <tr>\n",
              "      <th>2</th>\n",
              "      <td>240.266900</td>\n",
              "      <td>228.472222</td>\n",
              "      <td>195.808858</td>\n",
              "      <td>231.276063</td>\n",
              "      <td>214.568437</td>\n",
              "      <td>174.635530</td>\n",
              "      <td>22.128788</td>\n",
              "      <td>47.320027</td>\n",
              "      <td>240.269134</td>\n",
              "      <td>21.363451</td>\n",
              "      <td>62.501622</td>\n",
              "      <td>231.276063</td>\n",
              "      <td>Set4</td>\n",
              "      <td>C3</td>\n",
              "      <td>A1</td>\n",
              "      <td>D1227CC3-C06E-4905-A0CF-6A7B8EEFC412.png</td>\n",
              "    </tr>\n",
              "    <tr>\n",
              "      <th>3</th>\n",
              "      <td>239.647145</td>\n",
              "      <td>227.612568</td>\n",
              "      <td>193.990579</td>\n",
              "      <td>231.185340</td>\n",
              "      <td>214.659902</td>\n",
              "      <td>174.247521</td>\n",
              "      <td>22.146465</td>\n",
              "      <td>48.670455</td>\n",
              "      <td>239.647145</td>\n",
              "      <td>21.524140</td>\n",
              "      <td>62.850338</td>\n",
              "      <td>231.185340</td>\n",
              "      <td>Set4</td>\n",
              "      <td>C3</td>\n",
              "      <td>A1</td>\n",
              "      <td>45839274-7758-459E-B7AB-079108195369.png</td>\n",
              "    </tr>\n",
              "    <tr>\n",
              "      <th>4</th>\n",
              "      <td>236.769231</td>\n",
              "      <td>226.019619</td>\n",
              "      <td>195.219406</td>\n",
              "      <td>227.309425</td>\n",
              "      <td>211.180521</td>\n",
              "      <td>171.918173</td>\n",
              "      <td>22.296037</td>\n",
              "      <td>44.837510</td>\n",
              "      <td>236.769231</td>\n",
              "      <td>21.509869</td>\n",
              "      <td>62.176721</td>\n",
              "      <td>227.309425</td>\n",
              "      <td>Set4</td>\n",
              "      <td>C3</td>\n",
              "      <td>A1</td>\n",
              "      <td>4B027C83-D177-47FD-BBAE-4F98F0F0B1F0.png</td>\n",
              "    </tr>\n",
              "  </tbody>\n",
              "</table>\n",
              "</div>\n",
              "      <button class=\"colab-df-convert\" onclick=\"convertToInteractive('df-783d6ef1-3f16-4309-ada4-1fc0ce79c6cc')\"\n",
              "              title=\"Convert this dataframe to an interactive table.\"\n",
              "              style=\"display:none;\">\n",
              "        \n",
              "  <svg xmlns=\"http://www.w3.org/2000/svg\" height=\"24px\"viewBox=\"0 0 24 24\"\n",
              "       width=\"24px\">\n",
              "    <path d=\"M0 0h24v24H0V0z\" fill=\"none\"/>\n",
              "    <path d=\"M18.56 5.44l.94 2.06.94-2.06 2.06-.94-2.06-.94-.94-2.06-.94 2.06-2.06.94zm-11 1L8.5 8.5l.94-2.06 2.06-.94-2.06-.94L8.5 2.5l-.94 2.06-2.06.94zm10 10l.94 2.06.94-2.06 2.06-.94-2.06-.94-.94-2.06-.94 2.06-2.06.94z\"/><path d=\"M17.41 7.96l-1.37-1.37c-.4-.4-.92-.59-1.43-.59-.52 0-1.04.2-1.43.59L10.3 9.45l-7.72 7.72c-.78.78-.78 2.05 0 2.83L4 21.41c.39.39.9.59 1.41.59.51 0 1.02-.2 1.41-.59l7.78-7.78 2.81-2.81c.8-.78.8-2.07 0-2.86zM5.41 20L4 18.59l7.72-7.72 1.47 1.35L5.41 20z\"/>\n",
              "  </svg>\n",
              "      </button>\n",
              "      \n",
              "  <style>\n",
              "    .colab-df-container {\n",
              "      display:flex;\n",
              "      flex-wrap:wrap;\n",
              "      gap: 12px;\n",
              "    }\n",
              "\n",
              "    .colab-df-convert {\n",
              "      background-color: #E8F0FE;\n",
              "      border: none;\n",
              "      border-radius: 50%;\n",
              "      cursor: pointer;\n",
              "      display: none;\n",
              "      fill: #1967D2;\n",
              "      height: 32px;\n",
              "      padding: 0 0 0 0;\n",
              "      width: 32px;\n",
              "    }\n",
              "\n",
              "    .colab-df-convert:hover {\n",
              "      background-color: #E2EBFA;\n",
              "      box-shadow: 0px 1px 2px rgba(60, 64, 67, 0.3), 0px 1px 3px 1px rgba(60, 64, 67, 0.15);\n",
              "      fill: #174EA6;\n",
              "    }\n",
              "\n",
              "    [theme=dark] .colab-df-convert {\n",
              "      background-color: #3B4455;\n",
              "      fill: #D2E3FC;\n",
              "    }\n",
              "\n",
              "    [theme=dark] .colab-df-convert:hover {\n",
              "      background-color: #434B5C;\n",
              "      box-shadow: 0px 1px 3px 1px rgba(0, 0, 0, 0.15);\n",
              "      filter: drop-shadow(0px 1px 2px rgba(0, 0, 0, 0.3));\n",
              "      fill: #FFFFFF;\n",
              "    }\n",
              "  </style>\n",
              "\n",
              "      <script>\n",
              "        const buttonEl =\n",
              "          document.querySelector('#df-783d6ef1-3f16-4309-ada4-1fc0ce79c6cc button.colab-df-convert');\n",
              "        buttonEl.style.display =\n",
              "          google.colab.kernel.accessAllowed ? 'block' : 'none';\n",
              "\n",
              "        async function convertToInteractive(key) {\n",
              "          const element = document.querySelector('#df-783d6ef1-3f16-4309-ada4-1fc0ce79c6cc');\n",
              "          const dataTable =\n",
              "            await google.colab.kernel.invokeFunction('convertToInteractive',\n",
              "                                                     [key], {});\n",
              "          if (!dataTable) return;\n",
              "\n",
              "          const docLinkHtml = 'Like what you see? Visit the ' +\n",
              "            '<a target=\"_blank\" href=https://colab.research.google.com/notebooks/data_table.ipynb>data table notebook</a>'\n",
              "            + ' to learn more about interactive tables.';\n",
              "          element.innerHTML = '';\n",
              "          dataTable['output_type'] = 'display_data';\n",
              "          await google.colab.output.renderOutput(dataTable, element);\n",
              "          const docLink = document.createElement('div');\n",
              "          docLink.innerHTML = docLinkHtml;\n",
              "          element.appendChild(docLink);\n",
              "        }\n",
              "      </script>\n",
              "    </div>\n",
              "  </div>\n",
              "  "
            ],
            "text/plain": [
              "        R-ref       G-ref  ...  Shad                                       Img\n",
              "0  239.236500  226.574106  ...    A1  D4EECEDB-5CA4-46C9-B28C-63893A5BAF78.png\n",
              "1  239.455614  226.906080  ...    A1  E89E9E85-D827-4D54-98B4-0E0F3DD6FDD0.png\n",
              "2  240.266900  228.472222  ...    A1  D1227CC3-C06E-4905-A0CF-6A7B8EEFC412.png\n",
              "3  239.647145  227.612568  ...    A1  45839274-7758-459E-B7AB-079108195369.png\n",
              "4  236.769231  226.019619  ...    A1  4B027C83-D177-47FD-BBAE-4F98F0F0B1F0.png\n",
              "\n",
              "[5 rows x 16 columns]"
            ]
          },
          "metadata": {},
          "execution_count": 1044
        }
      ]
    },
    {
      "cell_type": "markdown",
      "source": [
        "###RGB"
      ],
      "metadata": {
        "id": "livhC8UguK8b"
      }
    },
    {
      "cell_type": "code",
      "source": [
        "RGB_C3_Set1 = table_C3Set1.drop(['H-ref','S-ref','V-ref','H-Shad','S-Shad','V-Shad','Setting','Ref','Shad','Img'], axis=1)"
      ],
      "metadata": {
        "id": "ISqB5DK5uK8b"
      },
      "execution_count": 1045,
      "outputs": []
    },
    {
      "cell_type": "code",
      "source": [
        "RGB_C3_Set2 = table_C3Set2"
      ],
      "metadata": {
        "id": "94holi5juK8b"
      },
      "execution_count": 1046,
      "outputs": []
    },
    {
      "cell_type": "code",
      "source": [
        "RGB_C3_Set3 = table_C3Set3"
      ],
      "metadata": {
        "id": "rd5aty03uK8b"
      },
      "execution_count": 1047,
      "outputs": []
    },
    {
      "cell_type": "code",
      "source": [
        "RGB_C3_Set4 = table_C3Set4"
      ],
      "metadata": {
        "id": "CN8G0fuOuK8b"
      },
      "execution_count": 1048,
      "outputs": []
    },
    {
      "cell_type": "code",
      "source": [
        "RGB_C3_concat0 = pd.concat([RGB_C3_Set2,RGB_C3_Set3])"
      ],
      "metadata": {
        "id": "XpiJwgBHuK8c"
      },
      "execution_count": 1049,
      "outputs": []
    },
    {
      "cell_type": "code",
      "source": [
        "RGB_C3_concat1 = pd.concat([RGB_C3_concat0,RGB_C3_Set4])"
      ],
      "metadata": {
        "id": "0XRtLNhpuK8c"
      },
      "execution_count": 1050,
      "outputs": []
    },
    {
      "cell_type": "code",
      "source": [
        "print(RGB_C3_concat1.columns)"
      ],
      "metadata": {
        "colab": {
          "base_uri": "https://localhost:8080/"
        },
        "outputId": "09b0c190-54a0-4da6-952b-7b86161107fe",
        "id": "HaQVUtoUuK8c"
      },
      "execution_count": 1051,
      "outputs": [
        {
          "output_type": "stream",
          "name": "stdout",
          "text": [
            "Index(['R-ref', 'G-ref', 'B-ref', 'R-Shad', 'G-Shad', 'B-Shad', 'H-ref',\n",
            "       'S-ref', 'V-ref', 'H-Shad', 'S-Shad', 'V-Shad', 'Setting', 'Ref',\n",
            "       'Shad', 'Img'],\n",
            "      dtype='object')\n"
          ]
        }
      ]
    },
    {
      "cell_type": "code",
      "source": [
        "RGB_C3_concat2 = RGB_C3_concat1.drop(['H-ref','S-ref','V-ref','H-Shad','S-Shad','V-Shad','Setting','Ref','Shad','Img'], axis=1)"
      ],
      "metadata": {
        "id": "APEofv4juK8c"
      },
      "execution_count": 1052,
      "outputs": []
    },
    {
      "cell_type": "code",
      "source": [
        "X_test_C3_RGB = np.array(RGB_C3_Set1)"
      ],
      "metadata": {
        "id": "BSMKHBOiuK8c"
      },
      "execution_count": 1053,
      "outputs": []
    },
    {
      "cell_type": "code",
      "source": [
        "y_C3_RGB =  table_C3Set1.iloc[:,14:15]"
      ],
      "metadata": {
        "id": "6ewQAsdKuK8c"
      },
      "execution_count": 1054,
      "outputs": []
    },
    {
      "cell_type": "code",
      "source": [
        "y_test_C3_RGB = np.array(y_C3_RGB)"
      ],
      "metadata": {
        "id": "MzpREteZuK8c"
      },
      "execution_count": 1055,
      "outputs": []
    },
    {
      "cell_type": "code",
      "source": [
        "X_train_C3_RGB = np.array(RGB_C3_concat2)"
      ],
      "metadata": {
        "id": "fGl85QjvuK8c"
      },
      "execution_count": 1056,
      "outputs": []
    },
    {
      "cell_type": "code",
      "source": [
        "y_train_C3RGB = RGB_C3_concat1.iloc[:,14:15]"
      ],
      "metadata": {
        "id": "fA9e3KQDuK8c"
      },
      "execution_count": 1057,
      "outputs": []
    },
    {
      "cell_type": "code",
      "source": [
        "y_train_C3_RGB = np.array(y_train_C3RGB)"
      ],
      "metadata": {
        "id": "A6g2ijSwuK8c"
      },
      "execution_count": 1058,
      "outputs": []
    },
    {
      "cell_type": "code",
      "source": [
        "clf.fit(X_train_C3_RGB, y_train_C3_RGB)"
      ],
      "metadata": {
        "colab": {
          "base_uri": "https://localhost:8080/"
        },
        "outputId": "556136b8-6369-4d2e-b9b6-040f140663de",
        "id": "2mTRXAEBuK8c"
      },
      "execution_count": 1059,
      "outputs": [
        {
          "output_type": "stream",
          "name": "stderr",
          "text": [
            "/usr/local/lib/python3.7/dist-packages/ipykernel_launcher.py:1: DataConversionWarning: A column-vector y was passed when a 1d array was expected. Please change the shape of y to (n_samples,), for example using ravel().\n",
            "  \"\"\"Entry point for launching an IPython kernel.\n"
          ]
        },
        {
          "output_type": "execute_result",
          "data": {
            "text/plain": [
              "RandomForestClassifier()"
            ]
          },
          "metadata": {},
          "execution_count": 1059
        }
      ]
    },
    {
      "cell_type": "code",
      "source": [
        "y_pred_C3_RGB = clf.predict(X_test_C3_RGB)"
      ],
      "metadata": {
        "id": "zhWYBiVsuK8d"
      },
      "execution_count": 1060,
      "outputs": []
    },
    {
      "cell_type": "code",
      "source": [
        "print(\"Accuracy:\", metrics.accuracy_score(y_test_C3_RGB, y_pred_C3_RGB))"
      ],
      "metadata": {
        "colab": {
          "base_uri": "https://localhost:8080/"
        },
        "outputId": "ff0ffa1b-d096-4f46-843f-e312f87ebaa3",
        "id": "QXKAW4-FuK8d"
      },
      "execution_count": 1061,
      "outputs": [
        {
          "output_type": "stream",
          "name": "stdout",
          "text": [
            "Accuracy: 0.901863354037267\n"
          ]
        }
      ]
    },
    {
      "cell_type": "markdown",
      "source": [
        "###HSV"
      ],
      "metadata": {
        "id": "Tcn_9zpPuK8d"
      }
    },
    {
      "cell_type": "code",
      "source": [
        "HSV_C3_Set1 = table_C3Set1.drop(['R-ref','G-ref','B-ref','R-Shad','G-Shad','B-Shad','Setting','Ref','Shad','Img'], axis=1)"
      ],
      "metadata": {
        "id": "8YGWOpmUuK8d"
      },
      "execution_count": 1062,
      "outputs": []
    },
    {
      "cell_type": "code",
      "source": [
        "HSV_C3_concat2 = RGB_C3_concat1.drop(['R-ref','G-ref','B-ref','R-Shad','G-Shad','B-Shad','Setting','Ref','Shad','Img'], axis=1)"
      ],
      "metadata": {
        "id": "_ffYkSLwuK8d"
      },
      "execution_count": 1063,
      "outputs": []
    },
    {
      "cell_type": "code",
      "source": [
        "X_test_C3_HSV = np.array(HSV_C3_Set1)"
      ],
      "metadata": {
        "id": "_V99mUp2uK8d"
      },
      "execution_count": 1064,
      "outputs": []
    },
    {
      "cell_type": "code",
      "source": [
        "y_C3_HSV =  table_C3Set1.iloc[:,14:15]"
      ],
      "metadata": {
        "id": "_mqy3vKjuK8d"
      },
      "execution_count": 1065,
      "outputs": []
    },
    {
      "cell_type": "code",
      "source": [
        "y_test_C3_HSV = np.array(y_C3_RGB)"
      ],
      "metadata": {
        "id": "nqroCQSCuK8d"
      },
      "execution_count": 1066,
      "outputs": []
    },
    {
      "cell_type": "code",
      "source": [
        "X_train_C3_HSV = np.array(HSV_C3_concat2)"
      ],
      "metadata": {
        "id": "eaij-4V_uK8d"
      },
      "execution_count": 1067,
      "outputs": []
    },
    {
      "cell_type": "code",
      "source": [
        "y_train_C3HSV = RGB_C3_concat1.iloc[:,14:15]"
      ],
      "metadata": {
        "id": "SNbPbhi0uK8d"
      },
      "execution_count": 1068,
      "outputs": []
    },
    {
      "cell_type": "code",
      "source": [
        "y_train_C3_HSV = np.array(y_train_C3HSV)"
      ],
      "metadata": {
        "id": "ymd4fVW3uK8d"
      },
      "execution_count": 1069,
      "outputs": []
    },
    {
      "cell_type": "code",
      "source": [
        "clf.fit(X_train_C3_HSV, y_train_C3_HSV)"
      ],
      "metadata": {
        "colab": {
          "base_uri": "https://localhost:8080/"
        },
        "outputId": "81ed4f6a-fb39-45c6-ac71-0c02ec1ded17",
        "id": "G2xivXIyuK8e"
      },
      "execution_count": 1070,
      "outputs": [
        {
          "output_type": "stream",
          "name": "stderr",
          "text": [
            "/usr/local/lib/python3.7/dist-packages/ipykernel_launcher.py:1: DataConversionWarning: A column-vector y was passed when a 1d array was expected. Please change the shape of y to (n_samples,), for example using ravel().\n",
            "  \"\"\"Entry point for launching an IPython kernel.\n"
          ]
        },
        {
          "output_type": "execute_result",
          "data": {
            "text/plain": [
              "RandomForestClassifier()"
            ]
          },
          "metadata": {},
          "execution_count": 1070
        }
      ]
    },
    {
      "cell_type": "code",
      "source": [
        "y_pred_C3_HSV = clf.predict(X_test_C3_HSV)"
      ],
      "metadata": {
        "id": "_c_42BEKuK8e"
      },
      "execution_count": 1071,
      "outputs": []
    },
    {
      "cell_type": "code",
      "source": [
        "print(\"Accuracy:\", metrics.accuracy_score(y_test_C3_HSV, y_pred_C3_HSV))"
      ],
      "metadata": {
        "colab": {
          "base_uri": "https://localhost:8080/"
        },
        "outputId": "26b5c55a-fdaa-4976-b151-06f898ea8071",
        "id": "fnMe2K_VuK8e"
      },
      "execution_count": 1072,
      "outputs": [
        {
          "output_type": "stream",
          "name": "stdout",
          "text": [
            "Accuracy: 0.901863354037267\n"
          ]
        }
      ]
    },
    {
      "cell_type": "markdown",
      "source": [
        "##C4"
      ],
      "metadata": {
        "id": "qWONdRUpuK8e"
      }
    },
    {
      "cell_type": "code",
      "source": [
        "table_C4Set1 = pd.read_excel(Set1 , sheet_name='C4Set1')\n",
        "table_C4Set1.head()"
      ],
      "metadata": {
        "colab": {
          "base_uri": "https://localhost:8080/",
          "height": 0
        },
        "outputId": "c7beac01-7ec0-41ef-c276-d0ad185a0f36",
        "id": "BtGs5Fi7uK8e"
      },
      "execution_count": 1073,
      "outputs": [
        {
          "output_type": "execute_result",
          "data": {
            "text/html": [
              "\n",
              "  <div id=\"df-8be75818-a208-46b9-b34e-10c95a5ea7b1\">\n",
              "    <div class=\"colab-df-container\">\n",
              "      <div>\n",
              "<style scoped>\n",
              "    .dataframe tbody tr th:only-of-type {\n",
              "        vertical-align: middle;\n",
              "    }\n",
              "\n",
              "    .dataframe tbody tr th {\n",
              "        vertical-align: top;\n",
              "    }\n",
              "\n",
              "    .dataframe thead th {\n",
              "        text-align: right;\n",
              "    }\n",
              "</style>\n",
              "<table border=\"1\" class=\"dataframe\">\n",
              "  <thead>\n",
              "    <tr style=\"text-align: right;\">\n",
              "      <th></th>\n",
              "      <th>R-ref</th>\n",
              "      <th>G-ref</th>\n",
              "      <th>B-ref</th>\n",
              "      <th>R-Shad</th>\n",
              "      <th>G-Shad</th>\n",
              "      <th>B-Shad</th>\n",
              "      <th>H-ref</th>\n",
              "      <th>S-ref</th>\n",
              "      <th>V-ref</th>\n",
              "      <th>H-Shad</th>\n",
              "      <th>S-Shad</th>\n",
              "      <th>V-Shad</th>\n",
              "      <th>Setting</th>\n",
              "      <th>Ref</th>\n",
              "      <th>Shad</th>\n",
              "      <th>Img</th>\n",
              "    </tr>\n",
              "  </thead>\n",
              "  <tbody>\n",
              "    <tr>\n",
              "      <th>0</th>\n",
              "      <td>240.689782</td>\n",
              "      <td>228.253497</td>\n",
              "      <td>192.838772</td>\n",
              "      <td>231.039199</td>\n",
              "      <td>213.655176</td>\n",
              "      <td>171.713465</td>\n",
              "      <td>22.300117</td>\n",
              "      <td>50.826923</td>\n",
              "      <td>240.689782</td>\n",
              "      <td>21.347048</td>\n",
              "      <td>65.540358</td>\n",
              "      <td>231.039199</td>\n",
              "      <td>Set1</td>\n",
              "      <td>C3</td>\n",
              "      <td>A1</td>\n",
              "      <td>8397A717-3D12-4648-BD3F-CE1F787AB8C2.png</td>\n",
              "    </tr>\n",
              "    <tr>\n",
              "      <th>1</th>\n",
              "      <td>241.482032</td>\n",
              "      <td>229.891414</td>\n",
              "      <td>197.313131</td>\n",
              "      <td>232.626448</td>\n",
              "      <td>216.424613</td>\n",
              "      <td>176.563989</td>\n",
              "      <td>22.382382</td>\n",
              "      <td>46.802642</td>\n",
              "      <td>241.488636</td>\n",
              "      <td>21.568529</td>\n",
              "      <td>61.497452</td>\n",
              "      <td>232.626448</td>\n",
              "      <td>Set1</td>\n",
              "      <td>C3</td>\n",
              "      <td>A1</td>\n",
              "      <td>A9FD8AA5-8101-465A-B35F-6E192FDA7776.png</td>\n",
              "    </tr>\n",
              "    <tr>\n",
              "      <th>2</th>\n",
              "      <td>240.742521</td>\n",
              "      <td>228.815559</td>\n",
              "      <td>194.967463</td>\n",
              "      <td>232.497452</td>\n",
              "      <td>216.420628</td>\n",
              "      <td>176.211009</td>\n",
              "      <td>22.265831</td>\n",
              "      <td>48.576632</td>\n",
              "      <td>240.742521</td>\n",
              "      <td>21.680104</td>\n",
              "      <td>61.769345</td>\n",
              "      <td>232.497452</td>\n",
              "      <td>Set1</td>\n",
              "      <td>C3</td>\n",
              "      <td>A1</td>\n",
              "      <td>D8B8E0A9-7FD9-444D-9917-BEC6A0BCA620.png</td>\n",
              "    </tr>\n",
              "    <tr>\n",
              "      <th>3</th>\n",
              "      <td>238.366453</td>\n",
              "      <td>227.380439</td>\n",
              "      <td>195.708819</td>\n",
              "      <td>228.849597</td>\n",
              "      <td>212.813270</td>\n",
              "      <td>173.089241</td>\n",
              "      <td>22.340326</td>\n",
              "      <td>45.727758</td>\n",
              "      <td>238.366453</td>\n",
              "      <td>21.635808</td>\n",
              "      <td>62.176629</td>\n",
              "      <td>228.849597</td>\n",
              "      <td>Set1</td>\n",
              "      <td>C3</td>\n",
              "      <td>A1</td>\n",
              "      <td>B6F793CB-821E-4980-BE99-FEE76D08FC11.png</td>\n",
              "    </tr>\n",
              "    <tr>\n",
              "      <th>4</th>\n",
              "      <td>238.000194</td>\n",
              "      <td>226.535062</td>\n",
              "      <td>193.909771</td>\n",
              "      <td>228.701418</td>\n",
              "      <td>211.773330</td>\n",
              "      <td>171.758966</td>\n",
              "      <td>22.287296</td>\n",
              "      <td>47.344891</td>\n",
              "      <td>238.000194</td>\n",
              "      <td>21.286628</td>\n",
              "      <td>63.564915</td>\n",
              "      <td>228.701418</td>\n",
              "      <td>Set1</td>\n",
              "      <td>C3</td>\n",
              "      <td>A1</td>\n",
              "      <td>DB93C8AE-E996-4EC9-9AD4-DBC68B6E726A.png</td>\n",
              "    </tr>\n",
              "  </tbody>\n",
              "</table>\n",
              "</div>\n",
              "      <button class=\"colab-df-convert\" onclick=\"convertToInteractive('df-8be75818-a208-46b9-b34e-10c95a5ea7b1')\"\n",
              "              title=\"Convert this dataframe to an interactive table.\"\n",
              "              style=\"display:none;\">\n",
              "        \n",
              "  <svg xmlns=\"http://www.w3.org/2000/svg\" height=\"24px\"viewBox=\"0 0 24 24\"\n",
              "       width=\"24px\">\n",
              "    <path d=\"M0 0h24v24H0V0z\" fill=\"none\"/>\n",
              "    <path d=\"M18.56 5.44l.94 2.06.94-2.06 2.06-.94-2.06-.94-.94-2.06-.94 2.06-2.06.94zm-11 1L8.5 8.5l.94-2.06 2.06-.94-2.06-.94L8.5 2.5l-.94 2.06-2.06.94zm10 10l.94 2.06.94-2.06 2.06-.94-2.06-.94-.94-2.06-.94 2.06-2.06.94z\"/><path d=\"M17.41 7.96l-1.37-1.37c-.4-.4-.92-.59-1.43-.59-.52 0-1.04.2-1.43.59L10.3 9.45l-7.72 7.72c-.78.78-.78 2.05 0 2.83L4 21.41c.39.39.9.59 1.41.59.51 0 1.02-.2 1.41-.59l7.78-7.78 2.81-2.81c.8-.78.8-2.07 0-2.86zM5.41 20L4 18.59l7.72-7.72 1.47 1.35L5.41 20z\"/>\n",
              "  </svg>\n",
              "      </button>\n",
              "      \n",
              "  <style>\n",
              "    .colab-df-container {\n",
              "      display:flex;\n",
              "      flex-wrap:wrap;\n",
              "      gap: 12px;\n",
              "    }\n",
              "\n",
              "    .colab-df-convert {\n",
              "      background-color: #E8F0FE;\n",
              "      border: none;\n",
              "      border-radius: 50%;\n",
              "      cursor: pointer;\n",
              "      display: none;\n",
              "      fill: #1967D2;\n",
              "      height: 32px;\n",
              "      padding: 0 0 0 0;\n",
              "      width: 32px;\n",
              "    }\n",
              "\n",
              "    .colab-df-convert:hover {\n",
              "      background-color: #E2EBFA;\n",
              "      box-shadow: 0px 1px 2px rgba(60, 64, 67, 0.3), 0px 1px 3px 1px rgba(60, 64, 67, 0.15);\n",
              "      fill: #174EA6;\n",
              "    }\n",
              "\n",
              "    [theme=dark] .colab-df-convert {\n",
              "      background-color: #3B4455;\n",
              "      fill: #D2E3FC;\n",
              "    }\n",
              "\n",
              "    [theme=dark] .colab-df-convert:hover {\n",
              "      background-color: #434B5C;\n",
              "      box-shadow: 0px 1px 3px 1px rgba(0, 0, 0, 0.15);\n",
              "      filter: drop-shadow(0px 1px 2px rgba(0, 0, 0, 0.3));\n",
              "      fill: #FFFFFF;\n",
              "    }\n",
              "  </style>\n",
              "\n",
              "      <script>\n",
              "        const buttonEl =\n",
              "          document.querySelector('#df-8be75818-a208-46b9-b34e-10c95a5ea7b1 button.colab-df-convert');\n",
              "        buttonEl.style.display =\n",
              "          google.colab.kernel.accessAllowed ? 'block' : 'none';\n",
              "\n",
              "        async function convertToInteractive(key) {\n",
              "          const element = document.querySelector('#df-8be75818-a208-46b9-b34e-10c95a5ea7b1');\n",
              "          const dataTable =\n",
              "            await google.colab.kernel.invokeFunction('convertToInteractive',\n",
              "                                                     [key], {});\n",
              "          if (!dataTable) return;\n",
              "\n",
              "          const docLinkHtml = 'Like what you see? Visit the ' +\n",
              "            '<a target=\"_blank\" href=https://colab.research.google.com/notebooks/data_table.ipynb>data table notebook</a>'\n",
              "            + ' to learn more about interactive tables.';\n",
              "          element.innerHTML = '';\n",
              "          dataTable['output_type'] = 'display_data';\n",
              "          await google.colab.output.renderOutput(dataTable, element);\n",
              "          const docLink = document.createElement('div');\n",
              "          docLink.innerHTML = docLinkHtml;\n",
              "          element.appendChild(docLink);\n",
              "        }\n",
              "      </script>\n",
              "    </div>\n",
              "  </div>\n",
              "  "
            ],
            "text/plain": [
              "        R-ref       G-ref  ...  Shad                                       Img\n",
              "0  240.689782  228.253497  ...    A1  8397A717-3D12-4648-BD3F-CE1F787AB8C2.png\n",
              "1  241.482032  229.891414  ...    A1  A9FD8AA5-8101-465A-B35F-6E192FDA7776.png\n",
              "2  240.742521  228.815559  ...    A1  D8B8E0A9-7FD9-444D-9917-BEC6A0BCA620.png\n",
              "3  238.366453  227.380439  ...    A1  B6F793CB-821E-4980-BE99-FEE76D08FC11.png\n",
              "4  238.000194  226.535062  ...    A1  DB93C8AE-E996-4EC9-9AD4-DBC68B6E726A.png\n",
              "\n",
              "[5 rows x 16 columns]"
            ]
          },
          "metadata": {},
          "execution_count": 1073
        }
      ]
    },
    {
      "cell_type": "code",
      "source": [
        "table_C4Set2 = pd.read_excel(Set2, sheet_name='C4Set2')\n",
        "table_C4Set2.head()"
      ],
      "metadata": {
        "colab": {
          "base_uri": "https://localhost:8080/",
          "height": 0
        },
        "outputId": "2aeff82f-b4ee-4367-aaa8-ac6fabed6695",
        "id": "peqjPpZvuK8e"
      },
      "execution_count": 1074,
      "outputs": [
        {
          "output_type": "execute_result",
          "data": {
            "text/html": [
              "\n",
              "  <div id=\"df-66bce3f1-28ec-4122-8769-3bda58324d4b\">\n",
              "    <div class=\"colab-df-container\">\n",
              "      <div>\n",
              "<style scoped>\n",
              "    .dataframe tbody tr th:only-of-type {\n",
              "        vertical-align: middle;\n",
              "    }\n",
              "\n",
              "    .dataframe tbody tr th {\n",
              "        vertical-align: top;\n",
              "    }\n",
              "\n",
              "    .dataframe thead th {\n",
              "        text-align: right;\n",
              "    }\n",
              "</style>\n",
              "<table border=\"1\" class=\"dataframe\">\n",
              "  <thead>\n",
              "    <tr style=\"text-align: right;\">\n",
              "      <th></th>\n",
              "      <th>R-ref</th>\n",
              "      <th>G-ref</th>\n",
              "      <th>B-ref</th>\n",
              "      <th>R-Shad</th>\n",
              "      <th>G-Shad</th>\n",
              "      <th>B-Shad</th>\n",
              "      <th>H-ref</th>\n",
              "      <th>S-ref</th>\n",
              "      <th>V-ref</th>\n",
              "      <th>H-Shad</th>\n",
              "      <th>S-Shad</th>\n",
              "      <th>V-Shad</th>\n",
              "      <th>Setting</th>\n",
              "      <th>Ref</th>\n",
              "      <th>Shad</th>\n",
              "      <th>Img</th>\n",
              "    </tr>\n",
              "  </thead>\n",
              "  <tbody>\n",
              "    <tr>\n",
              "      <th>0</th>\n",
              "      <td>240.434246</td>\n",
              "      <td>227.901127</td>\n",
              "      <td>193.160256</td>\n",
              "      <td>231.219442</td>\n",
              "      <td>214.290705</td>\n",
              "      <td>173.437031</td>\n",
              "      <td>22.124806</td>\n",
              "      <td>50.249029</td>\n",
              "      <td>240.434246</td>\n",
              "      <td>21.452692</td>\n",
              "      <td>63.792142</td>\n",
              "      <td>231.219442</td>\n",
              "      <td>Set2</td>\n",
              "      <td>C4</td>\n",
              "      <td>A1</td>\n",
              "      <td>D458FCD6-5D52-48CD-B212-68184F5B135C.png</td>\n",
              "    </tr>\n",
              "    <tr>\n",
              "      <th>1</th>\n",
              "      <td>240.689782</td>\n",
              "      <td>228.253497</td>\n",
              "      <td>192.838772</td>\n",
              "      <td>231.039199</td>\n",
              "      <td>213.655176</td>\n",
              "      <td>171.713465</td>\n",
              "      <td>22.300117</td>\n",
              "      <td>50.826923</td>\n",
              "      <td>240.689782</td>\n",
              "      <td>21.347048</td>\n",
              "      <td>65.540358</td>\n",
              "      <td>231.039199</td>\n",
              "      <td>Set2</td>\n",
              "      <td>C4</td>\n",
              "      <td>A1</td>\n",
              "      <td>0316EB79-14E9-4056-93AC-80D4D57B3DE1.png</td>\n",
              "    </tr>\n",
              "    <tr>\n",
              "      <th>2</th>\n",
              "      <td>241.482032</td>\n",
              "      <td>229.891414</td>\n",
              "      <td>197.313131</td>\n",
              "      <td>232.626448</td>\n",
              "      <td>216.424613</td>\n",
              "      <td>176.563989</td>\n",
              "      <td>22.382382</td>\n",
              "      <td>46.802642</td>\n",
              "      <td>241.488636</td>\n",
              "      <td>21.568529</td>\n",
              "      <td>61.497452</td>\n",
              "      <td>232.626448</td>\n",
              "      <td>Set2</td>\n",
              "      <td>C4</td>\n",
              "      <td>A1</td>\n",
              "      <td>EEF2F908-CA38-4AFA-AB84-8C1A9D2E54CC.png</td>\n",
              "    </tr>\n",
              "    <tr>\n",
              "      <th>3</th>\n",
              "      <td>240.742521</td>\n",
              "      <td>228.815559</td>\n",
              "      <td>194.967463</td>\n",
              "      <td>232.497452</td>\n",
              "      <td>216.420628</td>\n",
              "      <td>176.211009</td>\n",
              "      <td>22.265831</td>\n",
              "      <td>48.576632</td>\n",
              "      <td>240.742521</td>\n",
              "      <td>21.680104</td>\n",
              "      <td>61.769345</td>\n",
              "      <td>232.497452</td>\n",
              "      <td>Set2</td>\n",
              "      <td>C4</td>\n",
              "      <td>A1</td>\n",
              "      <td>1EA15613-AACE-4B44-A2A5-F480B1A912C4.png</td>\n",
              "    </tr>\n",
              "    <tr>\n",
              "      <th>4</th>\n",
              "      <td>238.366453</td>\n",
              "      <td>227.380439</td>\n",
              "      <td>195.708819</td>\n",
              "      <td>228.849597</td>\n",
              "      <td>212.813270</td>\n",
              "      <td>173.089241</td>\n",
              "      <td>22.340326</td>\n",
              "      <td>45.727758</td>\n",
              "      <td>238.366453</td>\n",
              "      <td>21.635808</td>\n",
              "      <td>62.176629</td>\n",
              "      <td>228.849597</td>\n",
              "      <td>Set2</td>\n",
              "      <td>C4</td>\n",
              "      <td>A1</td>\n",
              "      <td>3DA8E4D4-65A1-40BE-8906-DDBB40FA6647.png</td>\n",
              "    </tr>\n",
              "  </tbody>\n",
              "</table>\n",
              "</div>\n",
              "      <button class=\"colab-df-convert\" onclick=\"convertToInteractive('df-66bce3f1-28ec-4122-8769-3bda58324d4b')\"\n",
              "              title=\"Convert this dataframe to an interactive table.\"\n",
              "              style=\"display:none;\">\n",
              "        \n",
              "  <svg xmlns=\"http://www.w3.org/2000/svg\" height=\"24px\"viewBox=\"0 0 24 24\"\n",
              "       width=\"24px\">\n",
              "    <path d=\"M0 0h24v24H0V0z\" fill=\"none\"/>\n",
              "    <path d=\"M18.56 5.44l.94 2.06.94-2.06 2.06-.94-2.06-.94-.94-2.06-.94 2.06-2.06.94zm-11 1L8.5 8.5l.94-2.06 2.06-.94-2.06-.94L8.5 2.5l-.94 2.06-2.06.94zm10 10l.94 2.06.94-2.06 2.06-.94-2.06-.94-.94-2.06-.94 2.06-2.06.94z\"/><path d=\"M17.41 7.96l-1.37-1.37c-.4-.4-.92-.59-1.43-.59-.52 0-1.04.2-1.43.59L10.3 9.45l-7.72 7.72c-.78.78-.78 2.05 0 2.83L4 21.41c.39.39.9.59 1.41.59.51 0 1.02-.2 1.41-.59l7.78-7.78 2.81-2.81c.8-.78.8-2.07 0-2.86zM5.41 20L4 18.59l7.72-7.72 1.47 1.35L5.41 20z\"/>\n",
              "  </svg>\n",
              "      </button>\n",
              "      \n",
              "  <style>\n",
              "    .colab-df-container {\n",
              "      display:flex;\n",
              "      flex-wrap:wrap;\n",
              "      gap: 12px;\n",
              "    }\n",
              "\n",
              "    .colab-df-convert {\n",
              "      background-color: #E8F0FE;\n",
              "      border: none;\n",
              "      border-radius: 50%;\n",
              "      cursor: pointer;\n",
              "      display: none;\n",
              "      fill: #1967D2;\n",
              "      height: 32px;\n",
              "      padding: 0 0 0 0;\n",
              "      width: 32px;\n",
              "    }\n",
              "\n",
              "    .colab-df-convert:hover {\n",
              "      background-color: #E2EBFA;\n",
              "      box-shadow: 0px 1px 2px rgba(60, 64, 67, 0.3), 0px 1px 3px 1px rgba(60, 64, 67, 0.15);\n",
              "      fill: #174EA6;\n",
              "    }\n",
              "\n",
              "    [theme=dark] .colab-df-convert {\n",
              "      background-color: #3B4455;\n",
              "      fill: #D2E3FC;\n",
              "    }\n",
              "\n",
              "    [theme=dark] .colab-df-convert:hover {\n",
              "      background-color: #434B5C;\n",
              "      box-shadow: 0px 1px 3px 1px rgba(0, 0, 0, 0.15);\n",
              "      filter: drop-shadow(0px 1px 2px rgba(0, 0, 0, 0.3));\n",
              "      fill: #FFFFFF;\n",
              "    }\n",
              "  </style>\n",
              "\n",
              "      <script>\n",
              "        const buttonEl =\n",
              "          document.querySelector('#df-66bce3f1-28ec-4122-8769-3bda58324d4b button.colab-df-convert');\n",
              "        buttonEl.style.display =\n",
              "          google.colab.kernel.accessAllowed ? 'block' : 'none';\n",
              "\n",
              "        async function convertToInteractive(key) {\n",
              "          const element = document.querySelector('#df-66bce3f1-28ec-4122-8769-3bda58324d4b');\n",
              "          const dataTable =\n",
              "            await google.colab.kernel.invokeFunction('convertToInteractive',\n",
              "                                                     [key], {});\n",
              "          if (!dataTable) return;\n",
              "\n",
              "          const docLinkHtml = 'Like what you see? Visit the ' +\n",
              "            '<a target=\"_blank\" href=https://colab.research.google.com/notebooks/data_table.ipynb>data table notebook</a>'\n",
              "            + ' to learn more about interactive tables.';\n",
              "          element.innerHTML = '';\n",
              "          dataTable['output_type'] = 'display_data';\n",
              "          await google.colab.output.renderOutput(dataTable, element);\n",
              "          const docLink = document.createElement('div');\n",
              "          docLink.innerHTML = docLinkHtml;\n",
              "          element.appendChild(docLink);\n",
              "        }\n",
              "      </script>\n",
              "    </div>\n",
              "  </div>\n",
              "  "
            ],
            "text/plain": [
              "        R-ref       G-ref  ...  Shad                                       Img\n",
              "0  240.434246  227.901127  ...    A1  D458FCD6-5D52-48CD-B212-68184F5B135C.png\n",
              "1  240.689782  228.253497  ...    A1  0316EB79-14E9-4056-93AC-80D4D57B3DE1.png\n",
              "2  241.482032  229.891414  ...    A1  EEF2F908-CA38-4AFA-AB84-8C1A9D2E54CC.png\n",
              "3  240.742521  228.815559  ...    A1  1EA15613-AACE-4B44-A2A5-F480B1A912C4.png\n",
              "4  238.366453  227.380439  ...    A1  3DA8E4D4-65A1-40BE-8906-DDBB40FA6647.png\n",
              "\n",
              "[5 rows x 16 columns]"
            ]
          },
          "metadata": {},
          "execution_count": 1074
        }
      ]
    },
    {
      "cell_type": "code",
      "source": [
        "table_C4Set3 = pd.read_excel(Set3, sheet_name='C4Set3 ')\n",
        "table_C4Set3.head()"
      ],
      "metadata": {
        "colab": {
          "base_uri": "https://localhost:8080/",
          "height": 0
        },
        "outputId": "3ba3d38b-c0ce-4563-b06a-8eec76d1daf5",
        "id": "CarUCZ0JuK8e"
      },
      "execution_count": 1075,
      "outputs": [
        {
          "output_type": "execute_result",
          "data": {
            "text/html": [
              "\n",
              "  <div id=\"df-f70190f5-f198-4e29-81d7-a67b0bca75a7\">\n",
              "    <div class=\"colab-df-container\">\n",
              "      <div>\n",
              "<style scoped>\n",
              "    .dataframe tbody tr th:only-of-type {\n",
              "        vertical-align: middle;\n",
              "    }\n",
              "\n",
              "    .dataframe tbody tr th {\n",
              "        vertical-align: top;\n",
              "    }\n",
              "\n",
              "    .dataframe thead th {\n",
              "        text-align: right;\n",
              "    }\n",
              "</style>\n",
              "<table border=\"1\" class=\"dataframe\">\n",
              "  <thead>\n",
              "    <tr style=\"text-align: right;\">\n",
              "      <th></th>\n",
              "      <th>R-ref</th>\n",
              "      <th>G-ref</th>\n",
              "      <th>B-ref</th>\n",
              "      <th>R-Shad</th>\n",
              "      <th>G-Shad</th>\n",
              "      <th>B-Shad</th>\n",
              "      <th>H-ref</th>\n",
              "      <th>S-ref</th>\n",
              "      <th>V-ref</th>\n",
              "      <th>H-Shad</th>\n",
              "      <th>S-Shad</th>\n",
              "      <th>V-Shad</th>\n",
              "      <th>Setting</th>\n",
              "      <th>Ref</th>\n",
              "      <th>Shad</th>\n",
              "      <th>Img</th>\n",
              "    </tr>\n",
              "  </thead>\n",
              "  <tbody>\n",
              "    <tr>\n",
              "      <th>0</th>\n",
              "      <td>240.927350</td>\n",
              "      <td>222.384810</td>\n",
              "      <td>172.125874</td>\n",
              "      <td>239.436197</td>\n",
              "      <td>224.677509</td>\n",
              "      <td>187.074785</td>\n",
              "      <td>21.706329</td>\n",
              "      <td>55.874154</td>\n",
              "      <td>239.436197</td>\n",
              "      <td>21.706329</td>\n",
              "      <td>55.874154</td>\n",
              "      <td>239.436197</td>\n",
              "      <td>Set3</td>\n",
              "      <td>C4</td>\n",
              "      <td>A1</td>\n",
              "      <td>1BDD234B-AF82-462E-AE9C-B9F424AF15CA.png</td>\n",
              "    </tr>\n",
              "    <tr>\n",
              "      <th>1</th>\n",
              "      <td>241.886752</td>\n",
              "      <td>229.539627</td>\n",
              "      <td>194.758353</td>\n",
              "      <td>232.801594</td>\n",
              "      <td>216.483551</td>\n",
              "      <td>175.844685</td>\n",
              "      <td>22.222611</td>\n",
              "      <td>49.799631</td>\n",
              "      <td>241.886752</td>\n",
              "      <td>21.663979</td>\n",
              "      <td>62.447225</td>\n",
              "      <td>232.801594</td>\n",
              "      <td>Set3</td>\n",
              "      <td>C4</td>\n",
              "      <td>A1</td>\n",
              "      <td>96AC2C34-161B-42E9-ADF7-84C2FB33D103.png</td>\n",
              "    </tr>\n",
              "    <tr>\n",
              "      <th>2</th>\n",
              "      <td>242.135781</td>\n",
              "      <td>229.859848</td>\n",
              "      <td>194.487082</td>\n",
              "      <td>232.920026</td>\n",
              "      <td>216.203410</td>\n",
              "      <td>174.735613</td>\n",
              "      <td>22.372960</td>\n",
              "      <td>50.312646</td>\n",
              "      <td>242.135781</td>\n",
              "      <td>21.584191</td>\n",
              "      <td>63.779817</td>\n",
              "      <td>232.920026</td>\n",
              "      <td>Set3</td>\n",
              "      <td>C4</td>\n",
              "      <td>A1</td>\n",
              "      <td>2B37D6CB-6E6B-4042-96AA-3A2B5FB871AC.png</td>\n",
              "    </tr>\n",
              "    <tr>\n",
              "      <th>3</th>\n",
              "      <td>242.884227</td>\n",
              "      <td>231.409771</td>\n",
              "      <td>198.796717</td>\n",
              "      <td>234.321750</td>\n",
              "      <td>218.636271</td>\n",
              "      <td>178.919841</td>\n",
              "      <td>22.467366</td>\n",
              "      <td>46.435800</td>\n",
              "      <td>242.890831</td>\n",
              "      <td>21.754703</td>\n",
              "      <td>60.344546</td>\n",
              "      <td>234.321750</td>\n",
              "      <td>Set3</td>\n",
              "      <td>C4</td>\n",
              "      <td>A1</td>\n",
              "      <td>130DCFB5-7AE9-49BB-A881-5A08A0ED63F8.png</td>\n",
              "    </tr>\n",
              "    <tr>\n",
              "      <th>4</th>\n",
              "      <td>242.349359</td>\n",
              "      <td>230.585082</td>\n",
              "      <td>196.799922</td>\n",
              "      <td>233.973682</td>\n",
              "      <td>218.365490</td>\n",
              "      <td>178.417014</td>\n",
              "      <td>22.338772</td>\n",
              "      <td>48.023504</td>\n",
              "      <td>242.349359</td>\n",
              "      <td>21.821240</td>\n",
              "      <td>60.580947</td>\n",
              "      <td>233.973682</td>\n",
              "      <td>Set3</td>\n",
              "      <td>C4</td>\n",
              "      <td>A1</td>\n",
              "      <td>B02AE283-B3E2-401F-AEE9-DC33E0828C79.png</td>\n",
              "    </tr>\n",
              "  </tbody>\n",
              "</table>\n",
              "</div>\n",
              "      <button class=\"colab-df-convert\" onclick=\"convertToInteractive('df-f70190f5-f198-4e29-81d7-a67b0bca75a7')\"\n",
              "              title=\"Convert this dataframe to an interactive table.\"\n",
              "              style=\"display:none;\">\n",
              "        \n",
              "  <svg xmlns=\"http://www.w3.org/2000/svg\" height=\"24px\"viewBox=\"0 0 24 24\"\n",
              "       width=\"24px\">\n",
              "    <path d=\"M0 0h24v24H0V0z\" fill=\"none\"/>\n",
              "    <path d=\"M18.56 5.44l.94 2.06.94-2.06 2.06-.94-2.06-.94-.94-2.06-.94 2.06-2.06.94zm-11 1L8.5 8.5l.94-2.06 2.06-.94-2.06-.94L8.5 2.5l-.94 2.06-2.06.94zm10 10l.94 2.06.94-2.06 2.06-.94-2.06-.94-.94-2.06-.94 2.06-2.06.94z\"/><path d=\"M17.41 7.96l-1.37-1.37c-.4-.4-.92-.59-1.43-.59-.52 0-1.04.2-1.43.59L10.3 9.45l-7.72 7.72c-.78.78-.78 2.05 0 2.83L4 21.41c.39.39.9.59 1.41.59.51 0 1.02-.2 1.41-.59l7.78-7.78 2.81-2.81c.8-.78.8-2.07 0-2.86zM5.41 20L4 18.59l7.72-7.72 1.47 1.35L5.41 20z\"/>\n",
              "  </svg>\n",
              "      </button>\n",
              "      \n",
              "  <style>\n",
              "    .colab-df-container {\n",
              "      display:flex;\n",
              "      flex-wrap:wrap;\n",
              "      gap: 12px;\n",
              "    }\n",
              "\n",
              "    .colab-df-convert {\n",
              "      background-color: #E8F0FE;\n",
              "      border: none;\n",
              "      border-radius: 50%;\n",
              "      cursor: pointer;\n",
              "      display: none;\n",
              "      fill: #1967D2;\n",
              "      height: 32px;\n",
              "      padding: 0 0 0 0;\n",
              "      width: 32px;\n",
              "    }\n",
              "\n",
              "    .colab-df-convert:hover {\n",
              "      background-color: #E2EBFA;\n",
              "      box-shadow: 0px 1px 2px rgba(60, 64, 67, 0.3), 0px 1px 3px 1px rgba(60, 64, 67, 0.15);\n",
              "      fill: #174EA6;\n",
              "    }\n",
              "\n",
              "    [theme=dark] .colab-df-convert {\n",
              "      background-color: #3B4455;\n",
              "      fill: #D2E3FC;\n",
              "    }\n",
              "\n",
              "    [theme=dark] .colab-df-convert:hover {\n",
              "      background-color: #434B5C;\n",
              "      box-shadow: 0px 1px 3px 1px rgba(0, 0, 0, 0.15);\n",
              "      filter: drop-shadow(0px 1px 2px rgba(0, 0, 0, 0.3));\n",
              "      fill: #FFFFFF;\n",
              "    }\n",
              "  </style>\n",
              "\n",
              "      <script>\n",
              "        const buttonEl =\n",
              "          document.querySelector('#df-f70190f5-f198-4e29-81d7-a67b0bca75a7 button.colab-df-convert');\n",
              "        buttonEl.style.display =\n",
              "          google.colab.kernel.accessAllowed ? 'block' : 'none';\n",
              "\n",
              "        async function convertToInteractive(key) {\n",
              "          const element = document.querySelector('#df-f70190f5-f198-4e29-81d7-a67b0bca75a7');\n",
              "          const dataTable =\n",
              "            await google.colab.kernel.invokeFunction('convertToInteractive',\n",
              "                                                     [key], {});\n",
              "          if (!dataTable) return;\n",
              "\n",
              "          const docLinkHtml = 'Like what you see? Visit the ' +\n",
              "            '<a target=\"_blank\" href=https://colab.research.google.com/notebooks/data_table.ipynb>data table notebook</a>'\n",
              "            + ' to learn more about interactive tables.';\n",
              "          element.innerHTML = '';\n",
              "          dataTable['output_type'] = 'display_data';\n",
              "          await google.colab.output.renderOutput(dataTable, element);\n",
              "          const docLink = document.createElement('div');\n",
              "          docLink.innerHTML = docLinkHtml;\n",
              "          element.appendChild(docLink);\n",
              "        }\n",
              "      </script>\n",
              "    </div>\n",
              "  </div>\n",
              "  "
            ],
            "text/plain": [
              "        R-ref       G-ref  ...  Shad                                       Img\n",
              "0  240.927350  222.384810  ...    A1  1BDD234B-AF82-462E-AE9C-B9F424AF15CA.png\n",
              "1  241.886752  229.539627  ...    A1  96AC2C34-161B-42E9-ADF7-84C2FB33D103.png\n",
              "2  242.135781  229.859848  ...    A1  2B37D6CB-6E6B-4042-96AA-3A2B5FB871AC.png\n",
              "3  242.884227  231.409771  ...    A1  130DCFB5-7AE9-49BB-A881-5A08A0ED63F8.png\n",
              "4  242.349359  230.585082  ...    A1  B02AE283-B3E2-401F-AEE9-DC33E0828C79.png\n",
              "\n",
              "[5 rows x 16 columns]"
            ]
          },
          "metadata": {},
          "execution_count": 1075
        }
      ]
    },
    {
      "cell_type": "code",
      "source": [
        "table_C4Set4 = pd.read_excel(Set4, sheet_name='C4Set4')\n",
        "table_C4Set4.head()"
      ],
      "metadata": {
        "colab": {
          "base_uri": "https://localhost:8080/",
          "height": 0
        },
        "outputId": "2747cbb1-aa3e-42fa-eec2-3304fd604ad7",
        "id": "L2I1T2X1uK8e"
      },
      "execution_count": 1076,
      "outputs": [
        {
          "output_type": "execute_result",
          "data": {
            "text/html": [
              "\n",
              "  <div id=\"df-8fa76334-2f12-44cb-94dd-e1065525c1a8\">\n",
              "    <div class=\"colab-df-container\">\n",
              "      <div>\n",
              "<style scoped>\n",
              "    .dataframe tbody tr th:only-of-type {\n",
              "        vertical-align: middle;\n",
              "    }\n",
              "\n",
              "    .dataframe tbody tr th {\n",
              "        vertical-align: top;\n",
              "    }\n",
              "\n",
              "    .dataframe thead th {\n",
              "        text-align: right;\n",
              "    }\n",
              "</style>\n",
              "<table border=\"1\" class=\"dataframe\">\n",
              "  <thead>\n",
              "    <tr style=\"text-align: right;\">\n",
              "      <th></th>\n",
              "      <th>R-ref</th>\n",
              "      <th>G-ref</th>\n",
              "      <th>B-ref</th>\n",
              "      <th>R-Shad</th>\n",
              "      <th>G-Shad</th>\n",
              "      <th>B-Shad</th>\n",
              "      <th>H-ref</th>\n",
              "      <th>S-ref</th>\n",
              "      <th>V-ref</th>\n",
              "      <th>H-Shad</th>\n",
              "      <th>S-Shad</th>\n",
              "      <th>V-Shad</th>\n",
              "      <th>Setting</th>\n",
              "      <th>Ref</th>\n",
              "      <th>Shad</th>\n",
              "      <th>Img</th>\n",
              "    </tr>\n",
              "  </thead>\n",
              "  <tbody>\n",
              "    <tr>\n",
              "      <th>0</th>\n",
              "      <td>240.689782</td>\n",
              "      <td>228.253497</td>\n",
              "      <td>192.838772</td>\n",
              "      <td>231.039199</td>\n",
              "      <td>213.655176</td>\n",
              "      <td>171.713465</td>\n",
              "      <td>22.300117</td>\n",
              "      <td>50.826923</td>\n",
              "      <td>240.689782</td>\n",
              "      <td>21.347048</td>\n",
              "      <td>65.540358</td>\n",
              "      <td>231.039199</td>\n",
              "      <td>Set4</td>\n",
              "      <td>C4</td>\n",
              "      <td>A1</td>\n",
              "      <td>E3CE1857-A5E9-4928-8A37-28BF6EAD7BCD.png</td>\n",
              "    </tr>\n",
              "    <tr>\n",
              "      <th>1</th>\n",
              "      <td>241.482032</td>\n",
              "      <td>229.891414</td>\n",
              "      <td>197.313131</td>\n",
              "      <td>232.626448</td>\n",
              "      <td>216.424613</td>\n",
              "      <td>176.563989</td>\n",
              "      <td>22.382382</td>\n",
              "      <td>46.802642</td>\n",
              "      <td>241.488636</td>\n",
              "      <td>21.568529</td>\n",
              "      <td>61.497452</td>\n",
              "      <td>232.626448</td>\n",
              "      <td>Set4</td>\n",
              "      <td>C4</td>\n",
              "      <td>A1</td>\n",
              "      <td>4820BBED-F65E-4F90-A5EA-283E55866371.png</td>\n",
              "    </tr>\n",
              "    <tr>\n",
              "      <th>2</th>\n",
              "      <td>240.742521</td>\n",
              "      <td>228.815559</td>\n",
              "      <td>194.967463</td>\n",
              "      <td>232.497452</td>\n",
              "      <td>216.420628</td>\n",
              "      <td>176.211009</td>\n",
              "      <td>22.265831</td>\n",
              "      <td>48.576632</td>\n",
              "      <td>240.742521</td>\n",
              "      <td>21.680104</td>\n",
              "      <td>61.769345</td>\n",
              "      <td>232.497452</td>\n",
              "      <td>Set4</td>\n",
              "      <td>C4</td>\n",
              "      <td>A1</td>\n",
              "      <td>2FC399A9-267E-4661-B647-4052082C40FD.png</td>\n",
              "    </tr>\n",
              "    <tr>\n",
              "      <th>3</th>\n",
              "      <td>238.366453</td>\n",
              "      <td>227.380439</td>\n",
              "      <td>195.708819</td>\n",
              "      <td>228.849597</td>\n",
              "      <td>212.813270</td>\n",
              "      <td>173.089241</td>\n",
              "      <td>22.340326</td>\n",
              "      <td>45.727758</td>\n",
              "      <td>238.366453</td>\n",
              "      <td>21.635808</td>\n",
              "      <td>62.176629</td>\n",
              "      <td>228.849597</td>\n",
              "      <td>Set4</td>\n",
              "      <td>C4</td>\n",
              "      <td>A1</td>\n",
              "      <td>93A6C829-4545-4D47-BFB4-721B7DB40A5D.png</td>\n",
              "    </tr>\n",
              "    <tr>\n",
              "      <th>4</th>\n",
              "      <td>238.000194</td>\n",
              "      <td>226.535062</td>\n",
              "      <td>193.909771</td>\n",
              "      <td>228.701418</td>\n",
              "      <td>211.773330</td>\n",
              "      <td>171.758966</td>\n",
              "      <td>22.287296</td>\n",
              "      <td>47.344891</td>\n",
              "      <td>238.000194</td>\n",
              "      <td>21.286628</td>\n",
              "      <td>63.564915</td>\n",
              "      <td>228.701418</td>\n",
              "      <td>Set4</td>\n",
              "      <td>C4</td>\n",
              "      <td>A1</td>\n",
              "      <td>A20513B8-796D-41B5-9512-94978DE63964.png</td>\n",
              "    </tr>\n",
              "  </tbody>\n",
              "</table>\n",
              "</div>\n",
              "      <button class=\"colab-df-convert\" onclick=\"convertToInteractive('df-8fa76334-2f12-44cb-94dd-e1065525c1a8')\"\n",
              "              title=\"Convert this dataframe to an interactive table.\"\n",
              "              style=\"display:none;\">\n",
              "        \n",
              "  <svg xmlns=\"http://www.w3.org/2000/svg\" height=\"24px\"viewBox=\"0 0 24 24\"\n",
              "       width=\"24px\">\n",
              "    <path d=\"M0 0h24v24H0V0z\" fill=\"none\"/>\n",
              "    <path d=\"M18.56 5.44l.94 2.06.94-2.06 2.06-.94-2.06-.94-.94-2.06-.94 2.06-2.06.94zm-11 1L8.5 8.5l.94-2.06 2.06-.94-2.06-.94L8.5 2.5l-.94 2.06-2.06.94zm10 10l.94 2.06.94-2.06 2.06-.94-2.06-.94-.94-2.06-.94 2.06-2.06.94z\"/><path d=\"M17.41 7.96l-1.37-1.37c-.4-.4-.92-.59-1.43-.59-.52 0-1.04.2-1.43.59L10.3 9.45l-7.72 7.72c-.78.78-.78 2.05 0 2.83L4 21.41c.39.39.9.59 1.41.59.51 0 1.02-.2 1.41-.59l7.78-7.78 2.81-2.81c.8-.78.8-2.07 0-2.86zM5.41 20L4 18.59l7.72-7.72 1.47 1.35L5.41 20z\"/>\n",
              "  </svg>\n",
              "      </button>\n",
              "      \n",
              "  <style>\n",
              "    .colab-df-container {\n",
              "      display:flex;\n",
              "      flex-wrap:wrap;\n",
              "      gap: 12px;\n",
              "    }\n",
              "\n",
              "    .colab-df-convert {\n",
              "      background-color: #E8F0FE;\n",
              "      border: none;\n",
              "      border-radius: 50%;\n",
              "      cursor: pointer;\n",
              "      display: none;\n",
              "      fill: #1967D2;\n",
              "      height: 32px;\n",
              "      padding: 0 0 0 0;\n",
              "      width: 32px;\n",
              "    }\n",
              "\n",
              "    .colab-df-convert:hover {\n",
              "      background-color: #E2EBFA;\n",
              "      box-shadow: 0px 1px 2px rgba(60, 64, 67, 0.3), 0px 1px 3px 1px rgba(60, 64, 67, 0.15);\n",
              "      fill: #174EA6;\n",
              "    }\n",
              "\n",
              "    [theme=dark] .colab-df-convert {\n",
              "      background-color: #3B4455;\n",
              "      fill: #D2E3FC;\n",
              "    }\n",
              "\n",
              "    [theme=dark] .colab-df-convert:hover {\n",
              "      background-color: #434B5C;\n",
              "      box-shadow: 0px 1px 3px 1px rgba(0, 0, 0, 0.15);\n",
              "      filter: drop-shadow(0px 1px 2px rgba(0, 0, 0, 0.3));\n",
              "      fill: #FFFFFF;\n",
              "    }\n",
              "  </style>\n",
              "\n",
              "      <script>\n",
              "        const buttonEl =\n",
              "          document.querySelector('#df-8fa76334-2f12-44cb-94dd-e1065525c1a8 button.colab-df-convert');\n",
              "        buttonEl.style.display =\n",
              "          google.colab.kernel.accessAllowed ? 'block' : 'none';\n",
              "\n",
              "        async function convertToInteractive(key) {\n",
              "          const element = document.querySelector('#df-8fa76334-2f12-44cb-94dd-e1065525c1a8');\n",
              "          const dataTable =\n",
              "            await google.colab.kernel.invokeFunction('convertToInteractive',\n",
              "                                                     [key], {});\n",
              "          if (!dataTable) return;\n",
              "\n",
              "          const docLinkHtml = 'Like what you see? Visit the ' +\n",
              "            '<a target=\"_blank\" href=https://colab.research.google.com/notebooks/data_table.ipynb>data table notebook</a>'\n",
              "            + ' to learn more about interactive tables.';\n",
              "          element.innerHTML = '';\n",
              "          dataTable['output_type'] = 'display_data';\n",
              "          await google.colab.output.renderOutput(dataTable, element);\n",
              "          const docLink = document.createElement('div');\n",
              "          docLink.innerHTML = docLinkHtml;\n",
              "          element.appendChild(docLink);\n",
              "        }\n",
              "      </script>\n",
              "    </div>\n",
              "  </div>\n",
              "  "
            ],
            "text/plain": [
              "        R-ref       G-ref  ...  Shad                                       Img\n",
              "0  240.689782  228.253497  ...    A1  E3CE1857-A5E9-4928-8A37-28BF6EAD7BCD.png\n",
              "1  241.482032  229.891414  ...    A1  4820BBED-F65E-4F90-A5EA-283E55866371.png\n",
              "2  240.742521  228.815559  ...    A1  2FC399A9-267E-4661-B647-4052082C40FD.png\n",
              "3  238.366453  227.380439  ...    A1  93A6C829-4545-4D47-BFB4-721B7DB40A5D.png\n",
              "4  238.000194  226.535062  ...    A1  A20513B8-796D-41B5-9512-94978DE63964.png\n",
              "\n",
              "[5 rows x 16 columns]"
            ]
          },
          "metadata": {},
          "execution_count": 1076
        }
      ]
    },
    {
      "cell_type": "markdown",
      "source": [
        "###RGB"
      ],
      "metadata": {
        "id": "itC-PgyduK8f"
      }
    },
    {
      "cell_type": "code",
      "source": [
        "RGB_C4_Set1 = table_C4Set1.drop(['H-ref','S-ref','V-ref','H-Shad','S-Shad','V-Shad','Setting','Ref','Shad','Img'], axis=1)"
      ],
      "metadata": {
        "id": "2Upie7PbuK8f"
      },
      "execution_count": 1077,
      "outputs": []
    },
    {
      "cell_type": "code",
      "source": [
        "RGB_C4_Set2 = table_C4Set2"
      ],
      "metadata": {
        "id": "1MEK29oNuK8f"
      },
      "execution_count": 1078,
      "outputs": []
    },
    {
      "cell_type": "code",
      "source": [
        "RGB_C4_Set3 = table_C4Set3"
      ],
      "metadata": {
        "id": "7tPEod6QuK8f"
      },
      "execution_count": 1079,
      "outputs": []
    },
    {
      "cell_type": "code",
      "source": [
        "RGB_C4_Set4 = table_C4Set4"
      ],
      "metadata": {
        "id": "CxeN6r4wuK8f"
      },
      "execution_count": 1080,
      "outputs": []
    },
    {
      "cell_type": "code",
      "source": [
        "RGB_C4_concat0 = pd.concat([RGB_C4_Set2,RGB_C4_Set3])"
      ],
      "metadata": {
        "id": "dptkUlb6uK8f"
      },
      "execution_count": 1081,
      "outputs": []
    },
    {
      "cell_type": "code",
      "source": [
        "RGB_C4_concat1 = pd.concat([RGB_C4_concat0,RGB_C4_Set4])"
      ],
      "metadata": {
        "id": "l8zVUpQXuK8f"
      },
      "execution_count": 1082,
      "outputs": []
    },
    {
      "cell_type": "code",
      "source": [
        "print(RGB_C4_concat1.columns)"
      ],
      "metadata": {
        "colab": {
          "base_uri": "https://localhost:8080/"
        },
        "outputId": "6c4544b7-dcf1-4ff0-a832-12e993540b64",
        "id": "KrL0dMJ0uK8f"
      },
      "execution_count": 1083,
      "outputs": [
        {
          "output_type": "stream",
          "name": "stdout",
          "text": [
            "Index(['R-ref', 'G-ref', 'B-ref', 'R-Shad', 'G-Shad', 'B-Shad', 'H-ref',\n",
            "       'S-ref', 'V-ref', 'H-Shad', 'S-Shad', 'V-Shad', 'Setting', 'Ref',\n",
            "       'Shad', 'Img'],\n",
            "      dtype='object')\n"
          ]
        }
      ]
    },
    {
      "cell_type": "code",
      "source": [
        "RGB_C4_concat2 = RGB_C4_concat1.drop(['H-ref','S-ref','V-ref','H-Shad','S-Shad','V-Shad','Setting','Ref','Shad','Img'], axis=1)"
      ],
      "metadata": {
        "id": "a-gC-GfkuK8f"
      },
      "execution_count": 1084,
      "outputs": []
    },
    {
      "cell_type": "code",
      "source": [
        "X_test_C4_RGB = np.array(RGB_C4_Set1)"
      ],
      "metadata": {
        "id": "oybcs3qOuK8f"
      },
      "execution_count": 1085,
      "outputs": []
    },
    {
      "cell_type": "code",
      "source": [
        "y_C4_RGB =  table_C4Set1.iloc[:,14:15]"
      ],
      "metadata": {
        "id": "B8JwR0-QuK8f"
      },
      "execution_count": 1086,
      "outputs": []
    },
    {
      "cell_type": "code",
      "source": [
        "y_test_C4_RGB = np.array(y_C4_RGB)"
      ],
      "metadata": {
        "id": "4Zr9IHe_uK8g"
      },
      "execution_count": 1087,
      "outputs": []
    },
    {
      "cell_type": "code",
      "source": [
        "X_train_C4_RGB = np.array(RGB_C4_concat2)"
      ],
      "metadata": {
        "id": "HW4sce4YuK8g"
      },
      "execution_count": 1088,
      "outputs": []
    },
    {
      "cell_type": "code",
      "source": [
        "y_train_C4RGB = RGB_C4_concat1.iloc[:,14:15]"
      ],
      "metadata": {
        "id": "8ZtEorViuK8g"
      },
      "execution_count": 1089,
      "outputs": []
    },
    {
      "cell_type": "code",
      "source": [
        "y_train_C4_RGB = np.array(y_train_C4RGB)"
      ],
      "metadata": {
        "id": "06EX8wlduK8g"
      },
      "execution_count": 1090,
      "outputs": []
    },
    {
      "cell_type": "code",
      "source": [
        "clf.fit(X_train_C4_RGB, y_train_C4_RGB)"
      ],
      "metadata": {
        "colab": {
          "base_uri": "https://localhost:8080/"
        },
        "outputId": "8a95465f-3934-499e-e3a8-0374b5dae804",
        "id": "xvVKEn4zuK8g"
      },
      "execution_count": 1091,
      "outputs": [
        {
          "output_type": "stream",
          "name": "stderr",
          "text": [
            "/usr/local/lib/python3.7/dist-packages/ipykernel_launcher.py:1: DataConversionWarning: A column-vector y was passed when a 1d array was expected. Please change the shape of y to (n_samples,), for example using ravel().\n",
            "  \"\"\"Entry point for launching an IPython kernel.\n"
          ]
        },
        {
          "output_type": "execute_result",
          "data": {
            "text/plain": [
              "RandomForestClassifier()"
            ]
          },
          "metadata": {},
          "execution_count": 1091
        }
      ]
    },
    {
      "cell_type": "code",
      "source": [
        "y_pred_C4_RGB = clf.predict(X_test_C4_RGB)"
      ],
      "metadata": {
        "id": "gYOIwjY3uK8g"
      },
      "execution_count": 1092,
      "outputs": []
    },
    {
      "cell_type": "code",
      "source": [
        "print(\"Accuracy:\", metrics.accuracy_score(y_test_C4_RGB, y_pred_C4_RGB))"
      ],
      "metadata": {
        "colab": {
          "base_uri": "https://localhost:8080/"
        },
        "outputId": "f1b4ae2c-2e44-44bb-80e4-1951f5bb91a1",
        "id": "dpge-QlmuK8g"
      },
      "execution_count": 1093,
      "outputs": [
        {
          "output_type": "stream",
          "name": "stdout",
          "text": [
            "Accuracy: 0.8745341614906832\n"
          ]
        }
      ]
    },
    {
      "cell_type": "markdown",
      "source": [
        "###HSV"
      ],
      "metadata": {
        "id": "3auzfsaNuK8g"
      }
    },
    {
      "cell_type": "code",
      "source": [
        "HSV_C4_Set1 = table_C4Set1.drop(['R-ref','G-ref','B-ref','R-Shad','G-Shad','B-Shad','Setting','Ref','Shad','Img'], axis=1)"
      ],
      "metadata": {
        "id": "79x7fX5RuK8g"
      },
      "execution_count": 1094,
      "outputs": []
    },
    {
      "cell_type": "code",
      "source": [
        "HSV_C4_concat2 = RGB_C4_concat1.drop(['R-ref','G-ref','B-ref','R-Shad','G-Shad','B-Shad','Setting','Ref','Shad','Img'], axis=1)"
      ],
      "metadata": {
        "id": "OJtvWMzquK8g"
      },
      "execution_count": 1095,
      "outputs": []
    },
    {
      "cell_type": "code",
      "source": [
        "X_test_C4_HSV = np.array(HSV_C4_Set1)"
      ],
      "metadata": {
        "id": "9wwsXAPRuK8g"
      },
      "execution_count": 1096,
      "outputs": []
    },
    {
      "cell_type": "code",
      "source": [
        "y_C4_HSV =  table_C4Set1.iloc[:,14:15]"
      ],
      "metadata": {
        "id": "yMXKV4w-uK8h"
      },
      "execution_count": 1097,
      "outputs": []
    },
    {
      "cell_type": "code",
      "source": [
        "y_test_C4_HSV = np.array(y_C4_RGB)"
      ],
      "metadata": {
        "id": "vsS0ChHIuK8h"
      },
      "execution_count": 1098,
      "outputs": []
    },
    {
      "cell_type": "code",
      "source": [
        "X_train_C4_HSV = np.array(HSV_C4_concat2)"
      ],
      "metadata": {
        "id": "PL9ejspDuK8h"
      },
      "execution_count": 1099,
      "outputs": []
    },
    {
      "cell_type": "code",
      "source": [
        "y_train_C4HSV = RGB_C4_concat1.iloc[:,14:15]"
      ],
      "metadata": {
        "id": "FAf1PmlquK8h"
      },
      "execution_count": 1100,
      "outputs": []
    },
    {
      "cell_type": "code",
      "source": [
        "y_train_C4_HSV = np.array(y_train_C4HSV)"
      ],
      "metadata": {
        "id": "W0Kf74pWuK8h"
      },
      "execution_count": 1101,
      "outputs": []
    },
    {
      "cell_type": "code",
      "source": [
        "clf.fit(X_train_C4_HSV, y_train_C4_HSV)"
      ],
      "metadata": {
        "colab": {
          "base_uri": "https://localhost:8080/"
        },
        "outputId": "07ba4d5a-cb35-4118-b399-d34f4f71f7da",
        "id": "7Q7bgyn-uK8h"
      },
      "execution_count": 1102,
      "outputs": [
        {
          "output_type": "stream",
          "name": "stderr",
          "text": [
            "/usr/local/lib/python3.7/dist-packages/ipykernel_launcher.py:1: DataConversionWarning: A column-vector y was passed when a 1d array was expected. Please change the shape of y to (n_samples,), for example using ravel().\n",
            "  \"\"\"Entry point for launching an IPython kernel.\n"
          ]
        },
        {
          "output_type": "execute_result",
          "data": {
            "text/plain": [
              "RandomForestClassifier()"
            ]
          },
          "metadata": {},
          "execution_count": 1102
        }
      ]
    },
    {
      "cell_type": "code",
      "source": [
        "y_pred_C4_HSV = clf.predict(X_test_C4_HSV)"
      ],
      "metadata": {
        "id": "dVZkULXFuK8h"
      },
      "execution_count": 1103,
      "outputs": []
    },
    {
      "cell_type": "code",
      "source": [
        "print(\"Accuracy:\", metrics.accuracy_score(y_test_C4_HSV, y_pred_C4_HSV))"
      ],
      "metadata": {
        "colab": {
          "base_uri": "https://localhost:8080/"
        },
        "outputId": "916df94b-f207-4ca3-d83d-a61838bf6643",
        "id": "fNDv3zRluK8h"
      },
      "execution_count": 1104,
      "outputs": [
        {
          "output_type": "stream",
          "name": "stdout",
          "text": [
            "Accuracy: 0.8745341614906832\n"
          ]
        }
      ]
    },
    {
      "cell_type": "markdown",
      "source": [
        "#DD"
      ],
      "metadata": {
        "id": "kFckM1SuxrfW"
      }
    },
    {
      "cell_type": "markdown",
      "source": [
        "##D2"
      ],
      "metadata": {
        "id": "Dx0Ujmpqx90R"
      }
    },
    {
      "cell_type": "code",
      "source": [
        "table_D2Set1 = pd.read_excel(Set1 , sheet_name='D2Set1')\n",
        "table_D2Set1.head()"
      ],
      "metadata": {
        "colab": {
          "base_uri": "https://localhost:8080/",
          "height": 337
        },
        "outputId": "f4060a5f-6397-452e-8e9c-624872d18096",
        "id": "py_AYnaOx90R"
      },
      "execution_count": 1105,
      "outputs": [
        {
          "output_type": "execute_result",
          "data": {
            "text/html": [
              "\n",
              "  <div id=\"df-62da13be-f6ed-4d0b-951d-950faa4794c7\">\n",
              "    <div class=\"colab-df-container\">\n",
              "      <div>\n",
              "<style scoped>\n",
              "    .dataframe tbody tr th:only-of-type {\n",
              "        vertical-align: middle;\n",
              "    }\n",
              "\n",
              "    .dataframe tbody tr th {\n",
              "        vertical-align: top;\n",
              "    }\n",
              "\n",
              "    .dataframe thead th {\n",
              "        text-align: right;\n",
              "    }\n",
              "</style>\n",
              "<table border=\"1\" class=\"dataframe\">\n",
              "  <thead>\n",
              "    <tr style=\"text-align: right;\">\n",
              "      <th></th>\n",
              "      <th>R-ref</th>\n",
              "      <th>G-ref</th>\n",
              "      <th>B-ref</th>\n",
              "      <th>R-Shad</th>\n",
              "      <th>G-Shad</th>\n",
              "      <th>B-Shad</th>\n",
              "      <th>H-ref</th>\n",
              "      <th>S-ref</th>\n",
              "      <th>V-ref</th>\n",
              "      <th>H-Shad</th>\n",
              "      <th>S-Shad</th>\n",
              "      <th>V-Shad</th>\n",
              "      <th>Setting</th>\n",
              "      <th>Ref</th>\n",
              "      <th>Shad</th>\n",
              "      <th>Img</th>\n",
              "    </tr>\n",
              "  </thead>\n",
              "  <tbody>\n",
              "    <tr>\n",
              "      <th>0</th>\n",
              "      <td>233.315883</td>\n",
              "      <td>219.042529</td>\n",
              "      <td>182.521062</td>\n",
              "      <td>233.667093</td>\n",
              "      <td>219.760757</td>\n",
              "      <td>183.891046</td>\n",
              "      <td>21.621378</td>\n",
              "      <td>55.572843</td>\n",
              "      <td>233.315883</td>\n",
              "      <td>21.686509</td>\n",
              "      <td>54.387028</td>\n",
              "      <td>233.667093</td>\n",
              "      <td>Set1</td>\n",
              "      <td>D2</td>\n",
              "      <td>A1</td>\n",
              "      <td>BD87D607-5718-45C1-A0DB-D75E63316FD0.png</td>\n",
              "    </tr>\n",
              "    <tr>\n",
              "      <th>1</th>\n",
              "      <td>233.194140</td>\n",
              "      <td>219.034007</td>\n",
              "      <td>182.078484</td>\n",
              "      <td>233.563331</td>\n",
              "      <td>219.768224</td>\n",
              "      <td>183.451248</td>\n",
              "      <td>21.768038</td>\n",
              "      <td>55.961773</td>\n",
              "      <td>233.194140</td>\n",
              "      <td>21.826755</td>\n",
              "      <td>54.788991</td>\n",
              "      <td>233.563331</td>\n",
              "      <td>Set1</td>\n",
              "      <td>D2</td>\n",
              "      <td>A1</td>\n",
              "      <td>FC1BDDC8-C8A7-4C8D-90F6-E6B112FC674F.png</td>\n",
              "    </tr>\n",
              "    <tr>\n",
              "      <th>2</th>\n",
              "      <td>228.266131</td>\n",
              "      <td>215.102914</td>\n",
              "      <td>179.983605</td>\n",
              "      <td>228.810113</td>\n",
              "      <td>215.946590</td>\n",
              "      <td>181.582960</td>\n",
              "      <td>21.894408</td>\n",
              "      <td>54.001299</td>\n",
              "      <td>228.266131</td>\n",
              "      <td>21.907972</td>\n",
              "      <td>52.719863</td>\n",
              "      <td>228.810113</td>\n",
              "      <td>Set1</td>\n",
              "      <td>D2</td>\n",
              "      <td>A1</td>\n",
              "      <td>27DD78A7-D5F3-4BAB-BFE1-8D2D8AB88D29.png</td>\n",
              "    </tr>\n",
              "    <tr>\n",
              "      <th>3</th>\n",
              "      <td>233.271975</td>\n",
              "      <td>219.056732</td>\n",
              "      <td>181.960799</td>\n",
              "      <td>233.632672</td>\n",
              "      <td>219.760828</td>\n",
              "      <td>183.255672</td>\n",
              "      <td>21.744014</td>\n",
              "      <td>56.161351</td>\n",
              "      <td>233.271975</td>\n",
              "      <td>21.790698</td>\n",
              "      <td>55.064434</td>\n",
              "      <td>233.632672</td>\n",
              "      <td>Set1</td>\n",
              "      <td>D2</td>\n",
              "      <td>A1</td>\n",
              "      <td>25A38DEA-0A5E-4502-AE98-BDEB123DF4E5.png</td>\n",
              "    </tr>\n",
              "    <tr>\n",
              "      <th>4</th>\n",
              "      <td>234.316776</td>\n",
              "      <td>220.035711</td>\n",
              "      <td>183.531856</td>\n",
              "      <td>234.724131</td>\n",
              "      <td>220.744968</td>\n",
              "      <td>184.855985</td>\n",
              "      <td>21.653843</td>\n",
              "      <td>55.306387</td>\n",
              "      <td>234.316776</td>\n",
              "      <td>21.684873</td>\n",
              "      <td>54.232203</td>\n",
              "      <td>234.724131</td>\n",
              "      <td>Set1</td>\n",
              "      <td>D2</td>\n",
              "      <td>A1</td>\n",
              "      <td>7396F2FB-8C50-4ED7-AA8C-CDAE1624F900.png</td>\n",
              "    </tr>\n",
              "  </tbody>\n",
              "</table>\n",
              "</div>\n",
              "      <button class=\"colab-df-convert\" onclick=\"convertToInteractive('df-62da13be-f6ed-4d0b-951d-950faa4794c7')\"\n",
              "              title=\"Convert this dataframe to an interactive table.\"\n",
              "              style=\"display:none;\">\n",
              "        \n",
              "  <svg xmlns=\"http://www.w3.org/2000/svg\" height=\"24px\"viewBox=\"0 0 24 24\"\n",
              "       width=\"24px\">\n",
              "    <path d=\"M0 0h24v24H0V0z\" fill=\"none\"/>\n",
              "    <path d=\"M18.56 5.44l.94 2.06.94-2.06 2.06-.94-2.06-.94-.94-2.06-.94 2.06-2.06.94zm-11 1L8.5 8.5l.94-2.06 2.06-.94-2.06-.94L8.5 2.5l-.94 2.06-2.06.94zm10 10l.94 2.06.94-2.06 2.06-.94-2.06-.94-.94-2.06-.94 2.06-2.06.94z\"/><path d=\"M17.41 7.96l-1.37-1.37c-.4-.4-.92-.59-1.43-.59-.52 0-1.04.2-1.43.59L10.3 9.45l-7.72 7.72c-.78.78-.78 2.05 0 2.83L4 21.41c.39.39.9.59 1.41.59.51 0 1.02-.2 1.41-.59l7.78-7.78 2.81-2.81c.8-.78.8-2.07 0-2.86zM5.41 20L4 18.59l7.72-7.72 1.47 1.35L5.41 20z\"/>\n",
              "  </svg>\n",
              "      </button>\n",
              "      \n",
              "  <style>\n",
              "    .colab-df-container {\n",
              "      display:flex;\n",
              "      flex-wrap:wrap;\n",
              "      gap: 12px;\n",
              "    }\n",
              "\n",
              "    .colab-df-convert {\n",
              "      background-color: #E8F0FE;\n",
              "      border: none;\n",
              "      border-radius: 50%;\n",
              "      cursor: pointer;\n",
              "      display: none;\n",
              "      fill: #1967D2;\n",
              "      height: 32px;\n",
              "      padding: 0 0 0 0;\n",
              "      width: 32px;\n",
              "    }\n",
              "\n",
              "    .colab-df-convert:hover {\n",
              "      background-color: #E2EBFA;\n",
              "      box-shadow: 0px 1px 2px rgba(60, 64, 67, 0.3), 0px 1px 3px 1px rgba(60, 64, 67, 0.15);\n",
              "      fill: #174EA6;\n",
              "    }\n",
              "\n",
              "    [theme=dark] .colab-df-convert {\n",
              "      background-color: #3B4455;\n",
              "      fill: #D2E3FC;\n",
              "    }\n",
              "\n",
              "    [theme=dark] .colab-df-convert:hover {\n",
              "      background-color: #434B5C;\n",
              "      box-shadow: 0px 1px 3px 1px rgba(0, 0, 0, 0.15);\n",
              "      filter: drop-shadow(0px 1px 2px rgba(0, 0, 0, 0.3));\n",
              "      fill: #FFFFFF;\n",
              "    }\n",
              "  </style>\n",
              "\n",
              "      <script>\n",
              "        const buttonEl =\n",
              "          document.querySelector('#df-62da13be-f6ed-4d0b-951d-950faa4794c7 button.colab-df-convert');\n",
              "        buttonEl.style.display =\n",
              "          google.colab.kernel.accessAllowed ? 'block' : 'none';\n",
              "\n",
              "        async function convertToInteractive(key) {\n",
              "          const element = document.querySelector('#df-62da13be-f6ed-4d0b-951d-950faa4794c7');\n",
              "          const dataTable =\n",
              "            await google.colab.kernel.invokeFunction('convertToInteractive',\n",
              "                                                     [key], {});\n",
              "          if (!dataTable) return;\n",
              "\n",
              "          const docLinkHtml = 'Like what you see? Visit the ' +\n",
              "            '<a target=\"_blank\" href=https://colab.research.google.com/notebooks/data_table.ipynb>data table notebook</a>'\n",
              "            + ' to learn more about interactive tables.';\n",
              "          element.innerHTML = '';\n",
              "          dataTable['output_type'] = 'display_data';\n",
              "          await google.colab.output.renderOutput(dataTable, element);\n",
              "          const docLink = document.createElement('div');\n",
              "          docLink.innerHTML = docLinkHtml;\n",
              "          element.appendChild(docLink);\n",
              "        }\n",
              "      </script>\n",
              "    </div>\n",
              "  </div>\n",
              "  "
            ],
            "text/plain": [
              "        R-ref       G-ref  ...  Shad                                       Img\n",
              "0  233.315883  219.042529  ...    A1  BD87D607-5718-45C1-A0DB-D75E63316FD0.png\n",
              "1  233.194140  219.034007  ...    A1  FC1BDDC8-C8A7-4C8D-90F6-E6B112FC674F.png\n",
              "2  228.266131  215.102914  ...    A1  27DD78A7-D5F3-4BAB-BFE1-8D2D8AB88D29.png\n",
              "3  233.271975  219.056732  ...    A1  25A38DEA-0A5E-4502-AE98-BDEB123DF4E5.png\n",
              "4  234.316776  220.035711  ...    A1  7396F2FB-8C50-4ED7-AA8C-CDAE1624F900.png\n",
              "\n",
              "[5 rows x 16 columns]"
            ]
          },
          "metadata": {},
          "execution_count": 1105
        }
      ]
    },
    {
      "cell_type": "code",
      "source": [
        "table_D2Set2 = pd.read_excel(Set2, sheet_name='D2Set2')\n",
        "table_D2Set2.head()"
      ],
      "metadata": {
        "colab": {
          "base_uri": "https://localhost:8080/",
          "height": 337
        },
        "outputId": "63735998-4dc1-4e24-a70a-914e39f0c5e5",
        "id": "4N-RJ6Otx90R"
      },
      "execution_count": 1106,
      "outputs": [
        {
          "output_type": "execute_result",
          "data": {
            "text/html": [
              "\n",
              "  <div id=\"df-8a72575e-35d7-4892-815a-8c894a0624d1\">\n",
              "    <div class=\"colab-df-container\">\n",
              "      <div>\n",
              "<style scoped>\n",
              "    .dataframe tbody tr th:only-of-type {\n",
              "        vertical-align: middle;\n",
              "    }\n",
              "\n",
              "    .dataframe tbody tr th {\n",
              "        vertical-align: top;\n",
              "    }\n",
              "\n",
              "    .dataframe thead th {\n",
              "        text-align: right;\n",
              "    }\n",
              "</style>\n",
              "<table border=\"1\" class=\"dataframe\">\n",
              "  <thead>\n",
              "    <tr style=\"text-align: right;\">\n",
              "      <th></th>\n",
              "      <th>R-ref</th>\n",
              "      <th>G-ref</th>\n",
              "      <th>B-ref</th>\n",
              "      <th>R-Shad</th>\n",
              "      <th>G-Shad</th>\n",
              "      <th>B-Shad</th>\n",
              "      <th>H-ref</th>\n",
              "      <th>S-ref</th>\n",
              "      <th>V-ref</th>\n",
              "      <th>H-Shad</th>\n",
              "      <th>S-Shad</th>\n",
              "      <th>V-Shad</th>\n",
              "      <th>Setting</th>\n",
              "      <th>Ref</th>\n",
              "      <th>Shad</th>\n",
              "      <th>Img</th>\n",
              "    </tr>\n",
              "  </thead>\n",
              "  <tbody>\n",
              "    <tr>\n",
              "      <th>0</th>\n",
              "      <td>232.509907</td>\n",
              "      <td>214.456585</td>\n",
              "      <td>182.046232</td>\n",
              "      <td>229.072375</td>\n",
              "      <td>211.835418</td>\n",
              "      <td>182.047076</td>\n",
              "      <td>19.223873</td>\n",
              "      <td>55.406857</td>\n",
              "      <td>232.509907</td>\n",
              "      <td>18.990548</td>\n",
              "      <td>52.426652</td>\n",
              "      <td>229.072375</td>\n",
              "      <td>Set2</td>\n",
              "      <td>D2</td>\n",
              "      <td>A1</td>\n",
              "      <td>A6D6A816-ECBC-4ED1-B85A-8F26782873EF.png</td>\n",
              "    </tr>\n",
              "    <tr>\n",
              "      <th>1</th>\n",
              "      <td>233.302836</td>\n",
              "      <td>214.512723</td>\n",
              "      <td>183.691822</td>\n",
              "      <td>230.102771</td>\n",
              "      <td>211.781207</td>\n",
              "      <td>183.140395</td>\n",
              "      <td>18.771853</td>\n",
              "      <td>54.299825</td>\n",
              "      <td>233.302836</td>\n",
              "      <td>18.136039</td>\n",
              "      <td>52.079511</td>\n",
              "      <td>230.102771</td>\n",
              "      <td>Set2</td>\n",
              "      <td>D2</td>\n",
              "      <td>A1</td>\n",
              "      <td>52B93F5E-D972-447C-AEDB-70944733A2A8.png</td>\n",
              "    </tr>\n",
              "    <tr>\n",
              "      <th>2</th>\n",
              "      <td>232.516220</td>\n",
              "      <td>214.503399</td>\n",
              "      <td>182.358877</td>\n",
              "      <td>229.353813</td>\n",
              "      <td>211.752294</td>\n",
              "      <td>182.272171</td>\n",
              "      <td>19.236305</td>\n",
              "      <td>55.078671</td>\n",
              "      <td>232.516220</td>\n",
              "      <td>18.763414</td>\n",
              "      <td>52.400612</td>\n",
              "      <td>229.353813</td>\n",
              "      <td>Set2</td>\n",
              "      <td>D2</td>\n",
              "      <td>A1</td>\n",
              "      <td>8370F6EB-C2ED-4089-AC6F-305D3AC1923F.png</td>\n",
              "    </tr>\n",
              "    <tr>\n",
              "      <th>3</th>\n",
              "      <td>232.603244</td>\n",
              "      <td>214.845183</td>\n",
              "      <td>181.822747</td>\n",
              "      <td>228.648596</td>\n",
              "      <td>211.690019</td>\n",
              "      <td>181.842183</td>\n",
              "      <td>19.396562</td>\n",
              "      <td>55.734557</td>\n",
              "      <td>232.603244</td>\n",
              "      <td>19.111389</td>\n",
              "      <td>52.290149</td>\n",
              "      <td>228.648596</td>\n",
              "      <td>Set2</td>\n",
              "      <td>D2</td>\n",
              "      <td>A1</td>\n",
              "      <td>F1432EC0-7542-4437-B03B-DB680757388E.png</td>\n",
              "    </tr>\n",
              "    <tr>\n",
              "      <th>4</th>\n",
              "      <td>232.526030</td>\n",
              "      <td>204.917638</td>\n",
              "      <td>165.874417</td>\n",
              "      <td>228.579557</td>\n",
              "      <td>207.799648</td>\n",
              "      <td>180.637105</td>\n",
              "      <td>17.494658</td>\n",
              "      <td>73.157828</td>\n",
              "      <td>232.526030</td>\n",
              "      <td>17.000000</td>\n",
              "      <td>53.458808</td>\n",
              "      <td>228.579557</td>\n",
              "      <td>Set2</td>\n",
              "      <td>D2</td>\n",
              "      <td>A1</td>\n",
              "      <td>505DFE06-9B70-46E3-A447-DE5E271DD472.png</td>\n",
              "    </tr>\n",
              "  </tbody>\n",
              "</table>\n",
              "</div>\n",
              "      <button class=\"colab-df-convert\" onclick=\"convertToInteractive('df-8a72575e-35d7-4892-815a-8c894a0624d1')\"\n",
              "              title=\"Convert this dataframe to an interactive table.\"\n",
              "              style=\"display:none;\">\n",
              "        \n",
              "  <svg xmlns=\"http://www.w3.org/2000/svg\" height=\"24px\"viewBox=\"0 0 24 24\"\n",
              "       width=\"24px\">\n",
              "    <path d=\"M0 0h24v24H0V0z\" fill=\"none\"/>\n",
              "    <path d=\"M18.56 5.44l.94 2.06.94-2.06 2.06-.94-2.06-.94-.94-2.06-.94 2.06-2.06.94zm-11 1L8.5 8.5l.94-2.06 2.06-.94-2.06-.94L8.5 2.5l-.94 2.06-2.06.94zm10 10l.94 2.06.94-2.06 2.06-.94-2.06-.94-.94-2.06-.94 2.06-2.06.94z\"/><path d=\"M17.41 7.96l-1.37-1.37c-.4-.4-.92-.59-1.43-.59-.52 0-1.04.2-1.43.59L10.3 9.45l-7.72 7.72c-.78.78-.78 2.05 0 2.83L4 21.41c.39.39.9.59 1.41.59.51 0 1.02-.2 1.41-.59l7.78-7.78 2.81-2.81c.8-.78.8-2.07 0-2.86zM5.41 20L4 18.59l7.72-7.72 1.47 1.35L5.41 20z\"/>\n",
              "  </svg>\n",
              "      </button>\n",
              "      \n",
              "  <style>\n",
              "    .colab-df-container {\n",
              "      display:flex;\n",
              "      flex-wrap:wrap;\n",
              "      gap: 12px;\n",
              "    }\n",
              "\n",
              "    .colab-df-convert {\n",
              "      background-color: #E8F0FE;\n",
              "      border: none;\n",
              "      border-radius: 50%;\n",
              "      cursor: pointer;\n",
              "      display: none;\n",
              "      fill: #1967D2;\n",
              "      height: 32px;\n",
              "      padding: 0 0 0 0;\n",
              "      width: 32px;\n",
              "    }\n",
              "\n",
              "    .colab-df-convert:hover {\n",
              "      background-color: #E2EBFA;\n",
              "      box-shadow: 0px 1px 2px rgba(60, 64, 67, 0.3), 0px 1px 3px 1px rgba(60, 64, 67, 0.15);\n",
              "      fill: #174EA6;\n",
              "    }\n",
              "\n",
              "    [theme=dark] .colab-df-convert {\n",
              "      background-color: #3B4455;\n",
              "      fill: #D2E3FC;\n",
              "    }\n",
              "\n",
              "    [theme=dark] .colab-df-convert:hover {\n",
              "      background-color: #434B5C;\n",
              "      box-shadow: 0px 1px 3px 1px rgba(0, 0, 0, 0.15);\n",
              "      filter: drop-shadow(0px 1px 2px rgba(0, 0, 0, 0.3));\n",
              "      fill: #FFFFFF;\n",
              "    }\n",
              "  </style>\n",
              "\n",
              "      <script>\n",
              "        const buttonEl =\n",
              "          document.querySelector('#df-8a72575e-35d7-4892-815a-8c894a0624d1 button.colab-df-convert');\n",
              "        buttonEl.style.display =\n",
              "          google.colab.kernel.accessAllowed ? 'block' : 'none';\n",
              "\n",
              "        async function convertToInteractive(key) {\n",
              "          const element = document.querySelector('#df-8a72575e-35d7-4892-815a-8c894a0624d1');\n",
              "          const dataTable =\n",
              "            await google.colab.kernel.invokeFunction('convertToInteractive',\n",
              "                                                     [key], {});\n",
              "          if (!dataTable) return;\n",
              "\n",
              "          const docLinkHtml = 'Like what you see? Visit the ' +\n",
              "            '<a target=\"_blank\" href=https://colab.research.google.com/notebooks/data_table.ipynb>data table notebook</a>'\n",
              "            + ' to learn more about interactive tables.';\n",
              "          element.innerHTML = '';\n",
              "          dataTable['output_type'] = 'display_data';\n",
              "          await google.colab.output.renderOutput(dataTable, element);\n",
              "          const docLink = document.createElement('div');\n",
              "          docLink.innerHTML = docLinkHtml;\n",
              "          element.appendChild(docLink);\n",
              "        }\n",
              "      </script>\n",
              "    </div>\n",
              "  </div>\n",
              "  "
            ],
            "text/plain": [
              "        R-ref       G-ref  ...  Shad                                       Img\n",
              "0  232.509907  214.456585  ...    A1  A6D6A816-ECBC-4ED1-B85A-8F26782873EF.png\n",
              "1  233.302836  214.512723  ...    A1  52B93F5E-D972-447C-AEDB-70944733A2A8.png\n",
              "2  232.516220  214.503399  ...    A1  8370F6EB-C2ED-4089-AC6F-305D3AC1923F.png\n",
              "3  232.603244  214.845183  ...    A1  F1432EC0-7542-4437-B03B-DB680757388E.png\n",
              "4  232.526030  204.917638  ...    A1  505DFE06-9B70-46E3-A447-DE5E271DD472.png\n",
              "\n",
              "[5 rows x 16 columns]"
            ]
          },
          "metadata": {},
          "execution_count": 1106
        }
      ]
    },
    {
      "cell_type": "code",
      "source": [
        "table_D2Set3 = pd.read_excel(Set3, sheet_name='D2Set3 ')\n",
        "table_D2Set3.head()"
      ],
      "metadata": {
        "colab": {
          "base_uri": "https://localhost:8080/",
          "height": 337
        },
        "outputId": "ea552fc4-09a9-4376-d6d8-5a90ed52e281",
        "id": "MebzIn7sx90S"
      },
      "execution_count": 1107,
      "outputs": [
        {
          "output_type": "execute_result",
          "data": {
            "text/html": [
              "\n",
              "  <div id=\"df-7e642109-f3d4-42bf-bc01-da3128246b73\">\n",
              "    <div class=\"colab-df-container\">\n",
              "      <div>\n",
              "<style scoped>\n",
              "    .dataframe tbody tr th:only-of-type {\n",
              "        vertical-align: middle;\n",
              "    }\n",
              "\n",
              "    .dataframe tbody tr th {\n",
              "        vertical-align: top;\n",
              "    }\n",
              "\n",
              "    .dataframe thead th {\n",
              "        text-align: right;\n",
              "    }\n",
              "</style>\n",
              "<table border=\"1\" class=\"dataframe\">\n",
              "  <thead>\n",
              "    <tr style=\"text-align: right;\">\n",
              "      <th></th>\n",
              "      <th>R-ref</th>\n",
              "      <th>G-ref</th>\n",
              "      <th>B-ref</th>\n",
              "      <th>R-Shad</th>\n",
              "      <th>G-Shad</th>\n",
              "      <th>B-Shad</th>\n",
              "      <th>H-ref</th>\n",
              "      <th>S-ref</th>\n",
              "      <th>V-ref</th>\n",
              "      <th>H-Shad</th>\n",
              "      <th>S-Shad</th>\n",
              "      <th>V-Shad</th>\n",
              "      <th>Setting</th>\n",
              "      <th>Ref</th>\n",
              "      <th>Shad</th>\n",
              "      <th>Img</th>\n",
              "    </tr>\n",
              "  </thead>\n",
              "  <tbody>\n",
              "    <tr>\n",
              "      <th>0</th>\n",
              "      <td>236.423757</td>\n",
              "      <td>222.193570</td>\n",
              "      <td>186.134130</td>\n",
              "      <td>228.545547</td>\n",
              "      <td>212.702530</td>\n",
              "      <td>177.626726</td>\n",
              "      <td>21.528652</td>\n",
              "      <td>54.317599</td>\n",
              "      <td>236.423757</td>\n",
              "      <td>20.593458</td>\n",
              "      <td>56.814012</td>\n",
              "      <td>228.545547</td>\n",
              "      <td>Set3</td>\n",
              "      <td>D2</td>\n",
              "      <td>A1</td>\n",
              "      <td>3AADDE41-0882-4926-9B9C-6656A010A4EE.png</td>\n",
              "    </tr>\n",
              "    <tr>\n",
              "      <th>1</th>\n",
              "      <td>236.370435</td>\n",
              "      <td>222.197552</td>\n",
              "      <td>185.564394</td>\n",
              "      <td>228.607729</td>\n",
              "      <td>212.847929</td>\n",
              "      <td>177.181077</td>\n",
              "      <td>21.732906</td>\n",
              "      <td>54.879274</td>\n",
              "      <td>236.370435</td>\n",
              "      <td>20.778519</td>\n",
              "      <td>57.360115</td>\n",
              "      <td>228.607729</td>\n",
              "      <td>Set3</td>\n",
              "      <td>D2</td>\n",
              "      <td>A1</td>\n",
              "      <td>714B814C-2029-4CEC-A3D1-65155C21DB01.png</td>\n",
              "    </tr>\n",
              "    <tr>\n",
              "      <th>2</th>\n",
              "      <td>232.111888</td>\n",
              "      <td>218.542929</td>\n",
              "      <td>182.654332</td>\n",
              "      <td>223.895839</td>\n",
              "      <td>208.618293</td>\n",
              "      <td>174.628023</td>\n",
              "      <td>21.840618</td>\n",
              "      <td>54.407440</td>\n",
              "      <td>232.111888</td>\n",
              "      <td>20.496432</td>\n",
              "      <td>56.116393</td>\n",
              "      <td>223.895839</td>\n",
              "      <td>Set3</td>\n",
              "      <td>D2</td>\n",
              "      <td>A1</td>\n",
              "      <td>FF69DBAD-BCEF-42E0-83C9-26D79EA6F346.png</td>\n",
              "    </tr>\n",
              "    <tr>\n",
              "      <th>3</th>\n",
              "      <td>236.398504</td>\n",
              "      <td>222.261558</td>\n",
              "      <td>185.389472</td>\n",
              "      <td>228.746363</td>\n",
              "      <td>212.720415</td>\n",
              "      <td>177.098045</td>\n",
              "      <td>21.730963</td>\n",
              "      <td>55.114316</td>\n",
              "      <td>236.398504</td>\n",
              "      <td>20.654712</td>\n",
              "      <td>57.561672</td>\n",
              "      <td>228.746363</td>\n",
              "      <td>Set3</td>\n",
              "      <td>D2</td>\n",
              "      <td>A1</td>\n",
              "      <td>D42344C1-B458-48E7-AD35-55850D1E18D6.png</td>\n",
              "    </tr>\n",
              "    <tr>\n",
              "      <th>4</th>\n",
              "      <td>237.294386</td>\n",
              "      <td>223.289336</td>\n",
              "      <td>187.103341</td>\n",
              "      <td>229.954499</td>\n",
              "      <td>214.074507</td>\n",
              "      <td>179.109814</td>\n",
              "      <td>21.706974</td>\n",
              "      <td>54.007090</td>\n",
              "      <td>237.294386</td>\n",
              "      <td>20.553146</td>\n",
              "      <td>56.362432</td>\n",
              "      <td>229.954499</td>\n",
              "      <td>Set3</td>\n",
              "      <td>D2</td>\n",
              "      <td>A1</td>\n",
              "      <td>72143F35-55D4-4615-B8A3-072FC23D36C0.png</td>\n",
              "    </tr>\n",
              "  </tbody>\n",
              "</table>\n",
              "</div>\n",
              "      <button class=\"colab-df-convert\" onclick=\"convertToInteractive('df-7e642109-f3d4-42bf-bc01-da3128246b73')\"\n",
              "              title=\"Convert this dataframe to an interactive table.\"\n",
              "              style=\"display:none;\">\n",
              "        \n",
              "  <svg xmlns=\"http://www.w3.org/2000/svg\" height=\"24px\"viewBox=\"0 0 24 24\"\n",
              "       width=\"24px\">\n",
              "    <path d=\"M0 0h24v24H0V0z\" fill=\"none\"/>\n",
              "    <path d=\"M18.56 5.44l.94 2.06.94-2.06 2.06-.94-2.06-.94-.94-2.06-.94 2.06-2.06.94zm-11 1L8.5 8.5l.94-2.06 2.06-.94-2.06-.94L8.5 2.5l-.94 2.06-2.06.94zm10 10l.94 2.06.94-2.06 2.06-.94-2.06-.94-.94-2.06-.94 2.06-2.06.94z\"/><path d=\"M17.41 7.96l-1.37-1.37c-.4-.4-.92-.59-1.43-.59-.52 0-1.04.2-1.43.59L10.3 9.45l-7.72 7.72c-.78.78-.78 2.05 0 2.83L4 21.41c.39.39.9.59 1.41.59.51 0 1.02-.2 1.41-.59l7.78-7.78 2.81-2.81c.8-.78.8-2.07 0-2.86zM5.41 20L4 18.59l7.72-7.72 1.47 1.35L5.41 20z\"/>\n",
              "  </svg>\n",
              "      </button>\n",
              "      \n",
              "  <style>\n",
              "    .colab-df-container {\n",
              "      display:flex;\n",
              "      flex-wrap:wrap;\n",
              "      gap: 12px;\n",
              "    }\n",
              "\n",
              "    .colab-df-convert {\n",
              "      background-color: #E8F0FE;\n",
              "      border: none;\n",
              "      border-radius: 50%;\n",
              "      cursor: pointer;\n",
              "      display: none;\n",
              "      fill: #1967D2;\n",
              "      height: 32px;\n",
              "      padding: 0 0 0 0;\n",
              "      width: 32px;\n",
              "    }\n",
              "\n",
              "    .colab-df-convert:hover {\n",
              "      background-color: #E2EBFA;\n",
              "      box-shadow: 0px 1px 2px rgba(60, 64, 67, 0.3), 0px 1px 3px 1px rgba(60, 64, 67, 0.15);\n",
              "      fill: #174EA6;\n",
              "    }\n",
              "\n",
              "    [theme=dark] .colab-df-convert {\n",
              "      background-color: #3B4455;\n",
              "      fill: #D2E3FC;\n",
              "    }\n",
              "\n",
              "    [theme=dark] .colab-df-convert:hover {\n",
              "      background-color: #434B5C;\n",
              "      box-shadow: 0px 1px 3px 1px rgba(0, 0, 0, 0.15);\n",
              "      filter: drop-shadow(0px 1px 2px rgba(0, 0, 0, 0.3));\n",
              "      fill: #FFFFFF;\n",
              "    }\n",
              "  </style>\n",
              "\n",
              "      <script>\n",
              "        const buttonEl =\n",
              "          document.querySelector('#df-7e642109-f3d4-42bf-bc01-da3128246b73 button.colab-df-convert');\n",
              "        buttonEl.style.display =\n",
              "          google.colab.kernel.accessAllowed ? 'block' : 'none';\n",
              "\n",
              "        async function convertToInteractive(key) {\n",
              "          const element = document.querySelector('#df-7e642109-f3d4-42bf-bc01-da3128246b73');\n",
              "          const dataTable =\n",
              "            await google.colab.kernel.invokeFunction('convertToInteractive',\n",
              "                                                     [key], {});\n",
              "          if (!dataTable) return;\n",
              "\n",
              "          const docLinkHtml = 'Like what you see? Visit the ' +\n",
              "            '<a target=\"_blank\" href=https://colab.research.google.com/notebooks/data_table.ipynb>data table notebook</a>'\n",
              "            + ' to learn more about interactive tables.';\n",
              "          element.innerHTML = '';\n",
              "          dataTable['output_type'] = 'display_data';\n",
              "          await google.colab.output.renderOutput(dataTable, element);\n",
              "          const docLink = document.createElement('div');\n",
              "          docLink.innerHTML = docLinkHtml;\n",
              "          element.appendChild(docLink);\n",
              "        }\n",
              "      </script>\n",
              "    </div>\n",
              "  </div>\n",
              "  "
            ],
            "text/plain": [
              "        R-ref       G-ref  ...  Shad                                       Img\n",
              "0  236.423757  222.193570  ...    A1  3AADDE41-0882-4926-9B9C-6656A010A4EE.png\n",
              "1  236.370435  222.197552  ...    A1  714B814C-2029-4CEC-A3D1-65155C21DB01.png\n",
              "2  232.111888  218.542929  ...    A1  FF69DBAD-BCEF-42E0-83C9-26D79EA6F346.png\n",
              "3  236.398504  222.261558  ...    A1  D42344C1-B458-48E7-AD35-55850D1E18D6.png\n",
              "4  237.294386  223.289336  ...    A1  72143F35-55D4-4615-B8A3-072FC23D36C0.png\n",
              "\n",
              "[5 rows x 16 columns]"
            ]
          },
          "metadata": {},
          "execution_count": 1107
        }
      ]
    },
    {
      "cell_type": "code",
      "source": [
        "table_D2Set4 = pd.read_excel(Set4, sheet_name='D2Set4')\n",
        "table_D2Set4.head()"
      ],
      "metadata": {
        "colab": {
          "base_uri": "https://localhost:8080/",
          "height": 337
        },
        "outputId": "c3017183-6e45-4114-b84d-69be9bed536d",
        "id": "SIzWd_efx90S"
      },
      "execution_count": 1108,
      "outputs": [
        {
          "output_type": "execute_result",
          "data": {
            "text/html": [
              "\n",
              "  <div id=\"df-d02e18a5-ef57-423d-afa8-7190b38c5e75\">\n",
              "    <div class=\"colab-df-container\">\n",
              "      <div>\n",
              "<style scoped>\n",
              "    .dataframe tbody tr th:only-of-type {\n",
              "        vertical-align: middle;\n",
              "    }\n",
              "\n",
              "    .dataframe tbody tr th {\n",
              "        vertical-align: top;\n",
              "    }\n",
              "\n",
              "    .dataframe thead th {\n",
              "        text-align: right;\n",
              "    }\n",
              "</style>\n",
              "<table border=\"1\" class=\"dataframe\">\n",
              "  <thead>\n",
              "    <tr style=\"text-align: right;\">\n",
              "      <th></th>\n",
              "      <th>R-ref</th>\n",
              "      <th>G-ref</th>\n",
              "      <th>B-ref</th>\n",
              "      <th>R-Shad</th>\n",
              "      <th>G-Shad</th>\n",
              "      <th>B-Shad</th>\n",
              "      <th>H-ref</th>\n",
              "      <th>S-ref</th>\n",
              "      <th>V-ref</th>\n",
              "      <th>H-Shad</th>\n",
              "      <th>S-Shad</th>\n",
              "      <th>V-Shad</th>\n",
              "      <th>Setting</th>\n",
              "      <th>Ref</th>\n",
              "      <th>Shad</th>\n",
              "      <th>Img</th>\n",
              "    </tr>\n",
              "  </thead>\n",
              "  <tbody>\n",
              "    <tr>\n",
              "      <th>0</th>\n",
              "      <td>233.315883</td>\n",
              "      <td>219.042529</td>\n",
              "      <td>182.521062</td>\n",
              "      <td>233.667093</td>\n",
              "      <td>219.760757</td>\n",
              "      <td>183.891046</td>\n",
              "      <td>21.621378</td>\n",
              "      <td>55.572843</td>\n",
              "      <td>233.315883</td>\n",
              "      <td>21.686509</td>\n",
              "      <td>54.387028</td>\n",
              "      <td>233.667093</td>\n",
              "      <td>Set4</td>\n",
              "      <td>D2</td>\n",
              "      <td>A1</td>\n",
              "      <td>57BFDCD4-3FCB-482B-8F6D-695AB03BA132.png</td>\n",
              "    </tr>\n",
              "    <tr>\n",
              "      <th>1</th>\n",
              "      <td>233.194140</td>\n",
              "      <td>219.034007</td>\n",
              "      <td>182.078484</td>\n",
              "      <td>233.563331</td>\n",
              "      <td>219.768224</td>\n",
              "      <td>183.451248</td>\n",
              "      <td>21.768038</td>\n",
              "      <td>55.961773</td>\n",
              "      <td>233.194140</td>\n",
              "      <td>21.826755</td>\n",
              "      <td>54.788991</td>\n",
              "      <td>233.563331</td>\n",
              "      <td>Set4</td>\n",
              "      <td>D2</td>\n",
              "      <td>A1</td>\n",
              "      <td>A825D098-CB80-4BA0-A769-BC31330B5A5C.png</td>\n",
              "    </tr>\n",
              "    <tr>\n",
              "      <th>2</th>\n",
              "      <td>228.266131</td>\n",
              "      <td>215.102914</td>\n",
              "      <td>179.983605</td>\n",
              "      <td>228.810113</td>\n",
              "      <td>215.946590</td>\n",
              "      <td>181.582960</td>\n",
              "      <td>21.894408</td>\n",
              "      <td>54.001299</td>\n",
              "      <td>228.266131</td>\n",
              "      <td>21.907972</td>\n",
              "      <td>52.719863</td>\n",
              "      <td>228.810113</td>\n",
              "      <td>Set4</td>\n",
              "      <td>D2</td>\n",
              "      <td>A1</td>\n",
              "      <td>320A36C6-A45F-4855-9C69-70F4995F981B.png</td>\n",
              "    </tr>\n",
              "    <tr>\n",
              "      <th>3</th>\n",
              "      <td>233.271975</td>\n",
              "      <td>219.056732</td>\n",
              "      <td>181.960799</td>\n",
              "      <td>233.632672</td>\n",
              "      <td>219.760828</td>\n",
              "      <td>183.255672</td>\n",
              "      <td>21.744014</td>\n",
              "      <td>56.161351</td>\n",
              "      <td>233.271975</td>\n",
              "      <td>21.790698</td>\n",
              "      <td>55.064434</td>\n",
              "      <td>233.632672</td>\n",
              "      <td>Set4</td>\n",
              "      <td>D2</td>\n",
              "      <td>A1</td>\n",
              "      <td>F5718C08-AC9E-4216-9E16-B19FC8625FC9.png</td>\n",
              "    </tr>\n",
              "    <tr>\n",
              "      <th>4</th>\n",
              "      <td>234.316776</td>\n",
              "      <td>220.035711</td>\n",
              "      <td>183.531856</td>\n",
              "      <td>234.724131</td>\n",
              "      <td>220.744968</td>\n",
              "      <td>184.855985</td>\n",
              "      <td>21.653843</td>\n",
              "      <td>55.306387</td>\n",
              "      <td>234.316776</td>\n",
              "      <td>21.684873</td>\n",
              "      <td>54.232203</td>\n",
              "      <td>234.724131</td>\n",
              "      <td>Set4</td>\n",
              "      <td>D2</td>\n",
              "      <td>A1</td>\n",
              "      <td>55184FAB-0359-4CF4-99A1-A38B75A169D0.png</td>\n",
              "    </tr>\n",
              "  </tbody>\n",
              "</table>\n",
              "</div>\n",
              "      <button class=\"colab-df-convert\" onclick=\"convertToInteractive('df-d02e18a5-ef57-423d-afa8-7190b38c5e75')\"\n",
              "              title=\"Convert this dataframe to an interactive table.\"\n",
              "              style=\"display:none;\">\n",
              "        \n",
              "  <svg xmlns=\"http://www.w3.org/2000/svg\" height=\"24px\"viewBox=\"0 0 24 24\"\n",
              "       width=\"24px\">\n",
              "    <path d=\"M0 0h24v24H0V0z\" fill=\"none\"/>\n",
              "    <path d=\"M18.56 5.44l.94 2.06.94-2.06 2.06-.94-2.06-.94-.94-2.06-.94 2.06-2.06.94zm-11 1L8.5 8.5l.94-2.06 2.06-.94-2.06-.94L8.5 2.5l-.94 2.06-2.06.94zm10 10l.94 2.06.94-2.06 2.06-.94-2.06-.94-.94-2.06-.94 2.06-2.06.94z\"/><path d=\"M17.41 7.96l-1.37-1.37c-.4-.4-.92-.59-1.43-.59-.52 0-1.04.2-1.43.59L10.3 9.45l-7.72 7.72c-.78.78-.78 2.05 0 2.83L4 21.41c.39.39.9.59 1.41.59.51 0 1.02-.2 1.41-.59l7.78-7.78 2.81-2.81c.8-.78.8-2.07 0-2.86zM5.41 20L4 18.59l7.72-7.72 1.47 1.35L5.41 20z\"/>\n",
              "  </svg>\n",
              "      </button>\n",
              "      \n",
              "  <style>\n",
              "    .colab-df-container {\n",
              "      display:flex;\n",
              "      flex-wrap:wrap;\n",
              "      gap: 12px;\n",
              "    }\n",
              "\n",
              "    .colab-df-convert {\n",
              "      background-color: #E8F0FE;\n",
              "      border: none;\n",
              "      border-radius: 50%;\n",
              "      cursor: pointer;\n",
              "      display: none;\n",
              "      fill: #1967D2;\n",
              "      height: 32px;\n",
              "      padding: 0 0 0 0;\n",
              "      width: 32px;\n",
              "    }\n",
              "\n",
              "    .colab-df-convert:hover {\n",
              "      background-color: #E2EBFA;\n",
              "      box-shadow: 0px 1px 2px rgba(60, 64, 67, 0.3), 0px 1px 3px 1px rgba(60, 64, 67, 0.15);\n",
              "      fill: #174EA6;\n",
              "    }\n",
              "\n",
              "    [theme=dark] .colab-df-convert {\n",
              "      background-color: #3B4455;\n",
              "      fill: #D2E3FC;\n",
              "    }\n",
              "\n",
              "    [theme=dark] .colab-df-convert:hover {\n",
              "      background-color: #434B5C;\n",
              "      box-shadow: 0px 1px 3px 1px rgba(0, 0, 0, 0.15);\n",
              "      filter: drop-shadow(0px 1px 2px rgba(0, 0, 0, 0.3));\n",
              "      fill: #FFFFFF;\n",
              "    }\n",
              "  </style>\n",
              "\n",
              "      <script>\n",
              "        const buttonEl =\n",
              "          document.querySelector('#df-d02e18a5-ef57-423d-afa8-7190b38c5e75 button.colab-df-convert');\n",
              "        buttonEl.style.display =\n",
              "          google.colab.kernel.accessAllowed ? 'block' : 'none';\n",
              "\n",
              "        async function convertToInteractive(key) {\n",
              "          const element = document.querySelector('#df-d02e18a5-ef57-423d-afa8-7190b38c5e75');\n",
              "          const dataTable =\n",
              "            await google.colab.kernel.invokeFunction('convertToInteractive',\n",
              "                                                     [key], {});\n",
              "          if (!dataTable) return;\n",
              "\n",
              "          const docLinkHtml = 'Like what you see? Visit the ' +\n",
              "            '<a target=\"_blank\" href=https://colab.research.google.com/notebooks/data_table.ipynb>data table notebook</a>'\n",
              "            + ' to learn more about interactive tables.';\n",
              "          element.innerHTML = '';\n",
              "          dataTable['output_type'] = 'display_data';\n",
              "          await google.colab.output.renderOutput(dataTable, element);\n",
              "          const docLink = document.createElement('div');\n",
              "          docLink.innerHTML = docLinkHtml;\n",
              "          element.appendChild(docLink);\n",
              "        }\n",
              "      </script>\n",
              "    </div>\n",
              "  </div>\n",
              "  "
            ],
            "text/plain": [
              "        R-ref       G-ref  ...  Shad                                       Img\n",
              "0  233.315883  219.042529  ...    A1  57BFDCD4-3FCB-482B-8F6D-695AB03BA132.png\n",
              "1  233.194140  219.034007  ...    A1  A825D098-CB80-4BA0-A769-BC31330B5A5C.png\n",
              "2  228.266131  215.102914  ...    A1  320A36C6-A45F-4855-9C69-70F4995F981B.png\n",
              "3  233.271975  219.056732  ...    A1  F5718C08-AC9E-4216-9E16-B19FC8625FC9.png\n",
              "4  234.316776  220.035711  ...    A1  55184FAB-0359-4CF4-99A1-A38B75A169D0.png\n",
              "\n",
              "[5 rows x 16 columns]"
            ]
          },
          "metadata": {},
          "execution_count": 1108
        }
      ]
    },
    {
      "cell_type": "markdown",
      "source": [
        "###RGB"
      ],
      "metadata": {
        "id": "p_euaG1Sx90S"
      }
    },
    {
      "cell_type": "code",
      "source": [
        "RGB_D2_Set1 = table_D2Set1.drop(['H-ref','S-ref','V-ref','H-Shad','S-Shad','V-Shad','Setting','Ref','Shad','Img'], axis=1)"
      ],
      "metadata": {
        "id": "4S39UT3Rx90S"
      },
      "execution_count": 1109,
      "outputs": []
    },
    {
      "cell_type": "code",
      "source": [
        "RGB_D2_Set2 = table_D2Set2"
      ],
      "metadata": {
        "id": "nJh9mta-x90S"
      },
      "execution_count": 1110,
      "outputs": []
    },
    {
      "cell_type": "code",
      "source": [
        "RGB_D2_Set3 = table_D2Set3"
      ],
      "metadata": {
        "id": "qjQ864f_x90S"
      },
      "execution_count": 1111,
      "outputs": []
    },
    {
      "cell_type": "code",
      "source": [
        "RGB_D2_Set4 = table_D2Set4"
      ],
      "metadata": {
        "id": "dXlsuh1Vx90S"
      },
      "execution_count": 1112,
      "outputs": []
    },
    {
      "cell_type": "code",
      "source": [
        "RGB_D2_concat0 = pd.concat([RGB_D2_Set2,RGB_D2_Set3])"
      ],
      "metadata": {
        "id": "OndxWHAMx90T"
      },
      "execution_count": 1113,
      "outputs": []
    },
    {
      "cell_type": "code",
      "source": [
        "RGB_D2_concat1 = pd.concat([RGB_D2_concat0,RGB_D2_Set4])"
      ],
      "metadata": {
        "id": "GbBDp67Gx90T"
      },
      "execution_count": 1114,
      "outputs": []
    },
    {
      "cell_type": "code",
      "source": [
        "RGB_D2_concat2 = RGB_D2_concat1.drop(['H-ref','S-ref','V-ref','H-Shad','S-Shad','V-Shad','Setting','Ref','Shad','Img'], axis=1)"
      ],
      "metadata": {
        "id": "MAwcNIm2x90T"
      },
      "execution_count": 1115,
      "outputs": []
    },
    {
      "cell_type": "code",
      "source": [
        "X_test_D2_RGB = np.array(RGB_D2_Set1)"
      ],
      "metadata": {
        "id": "sp1VXLkox90T"
      },
      "execution_count": 1116,
      "outputs": []
    },
    {
      "cell_type": "code",
      "source": [
        "y_D2_RGB =  table_D2Set1.iloc[:,14:15]"
      ],
      "metadata": {
        "id": "HjrkrzQLx90T"
      },
      "execution_count": 1117,
      "outputs": []
    },
    {
      "cell_type": "code",
      "source": [
        "y_test_D2_RGB = np.array(y_D2_RGB)"
      ],
      "metadata": {
        "id": "X_yNCUKWx90T"
      },
      "execution_count": 1118,
      "outputs": []
    },
    {
      "cell_type": "code",
      "source": [
        "X_train_D2_RGB = np.array(RGB_D2_concat2)"
      ],
      "metadata": {
        "id": "s4tbeuf1x90T"
      },
      "execution_count": 1119,
      "outputs": []
    },
    {
      "cell_type": "code",
      "source": [
        "y_train_D2RGB = RGB_D2_concat1.iloc[:,14:15]"
      ],
      "metadata": {
        "id": "YDH_D_rNx90T"
      },
      "execution_count": 1120,
      "outputs": []
    },
    {
      "cell_type": "code",
      "source": [
        "y_train_D2_RGB = np.array(y_train_D2RGB)"
      ],
      "metadata": {
        "id": "s0ZuO4mux90T"
      },
      "execution_count": 1121,
      "outputs": []
    },
    {
      "cell_type": "code",
      "source": [
        "clf.fit(X_train_D2_RGB, y_train_D2_RGB)"
      ],
      "metadata": {
        "colab": {
          "base_uri": "https://localhost:8080/"
        },
        "outputId": "599955a7-eadd-4a94-ef4d-b6a83527f584",
        "id": "FgepnkAdx90U"
      },
      "execution_count": 1122,
      "outputs": [
        {
          "output_type": "stream",
          "name": "stderr",
          "text": [
            "/usr/local/lib/python3.7/dist-packages/ipykernel_launcher.py:1: DataConversionWarning: A column-vector y was passed when a 1d array was expected. Please change the shape of y to (n_samples,), for example using ravel().\n",
            "  \"\"\"Entry point for launching an IPython kernel.\n"
          ]
        },
        {
          "output_type": "execute_result",
          "data": {
            "text/plain": [
              "RandomForestClassifier()"
            ]
          },
          "metadata": {},
          "execution_count": 1122
        }
      ]
    },
    {
      "cell_type": "code",
      "source": [
        "y_pred_D2_RGB = clf.predict(X_test_D2_RGB)"
      ],
      "metadata": {
        "id": "KqZtbI1yx90U"
      },
      "execution_count": 1123,
      "outputs": []
    },
    {
      "cell_type": "code",
      "source": [
        "print(\"Accuracy:\", metrics.accuracy_score(y_test_D2_RGB, y_pred_D2_RGB))"
      ],
      "metadata": {
        "colab": {
          "base_uri": "https://localhost:8080/"
        },
        "outputId": "c4076e66-fee6-4cbf-ddb2-176d70840206",
        "id": "wmJTutTAx90U"
      },
      "execution_count": 1124,
      "outputs": [
        {
          "output_type": "stream",
          "name": "stdout",
          "text": [
            "Accuracy: 1.0\n"
          ]
        }
      ]
    },
    {
      "cell_type": "markdown",
      "source": [
        "###HSV"
      ],
      "metadata": {
        "id": "iTUrHbyjx90U"
      }
    },
    {
      "cell_type": "code",
      "source": [
        "HSV_D2_Set1 = table_D2Set1.drop(['R-ref','G-ref','B-ref','R-Shad','G-Shad','B-Shad','Setting','Ref','Shad','Img'], axis=1)"
      ],
      "metadata": {
        "id": "3JeaZWnkx90U"
      },
      "execution_count": 1125,
      "outputs": []
    },
    {
      "cell_type": "code",
      "source": [
        "HSV_D2_concat2 = RGB_D2_concat1.drop(['R-ref','G-ref','B-ref','R-Shad','G-Shad','B-Shad','Setting','Ref','Shad','Img'], axis=1)"
      ],
      "metadata": {
        "id": "3_2SN1GBx90U"
      },
      "execution_count": 1126,
      "outputs": []
    },
    {
      "cell_type": "code",
      "source": [
        "X_test_D2_HSV = np.array(HSV_D2_Set1)"
      ],
      "metadata": {
        "id": "RaBXco4Qx90U"
      },
      "execution_count": 1127,
      "outputs": []
    },
    {
      "cell_type": "code",
      "source": [
        "y_D2_HSV =  table_D2Set1.iloc[:,14:15]"
      ],
      "metadata": {
        "id": "G9P57h2qx90U"
      },
      "execution_count": 1128,
      "outputs": []
    },
    {
      "cell_type": "code",
      "source": [
        "y_test_D2_HSV = np.array(y_D2_RGB)"
      ],
      "metadata": {
        "id": "Tgk7oFlox90V"
      },
      "execution_count": 1129,
      "outputs": []
    },
    {
      "cell_type": "code",
      "source": [
        "X_train_D2_HSV = np.array(HSV_D2_concat2)"
      ],
      "metadata": {
        "id": "9YurdEdJx90V"
      },
      "execution_count": 1130,
      "outputs": []
    },
    {
      "cell_type": "code",
      "source": [
        "y_train_D2HSV = RGB_D2_concat1.iloc[:,14:15]"
      ],
      "metadata": {
        "id": "s3A59uQsx90V"
      },
      "execution_count": 1131,
      "outputs": []
    },
    {
      "cell_type": "code",
      "source": [
        "y_train_D2_HSV = np.array(y_train_D2HSV)"
      ],
      "metadata": {
        "id": "_Q8KC_jBx90V"
      },
      "execution_count": 1132,
      "outputs": []
    },
    {
      "cell_type": "code",
      "source": [
        "clf.fit(X_train_D2_HSV, y_train_D2_HSV)"
      ],
      "metadata": {
        "colab": {
          "base_uri": "https://localhost:8080/"
        },
        "outputId": "c02a8522-4c5c-4e7b-8d05-4c381ec7dec7",
        "id": "hQrQntI1x90V"
      },
      "execution_count": 1133,
      "outputs": [
        {
          "output_type": "stream",
          "name": "stderr",
          "text": [
            "/usr/local/lib/python3.7/dist-packages/ipykernel_launcher.py:1: DataConversionWarning: A column-vector y was passed when a 1d array was expected. Please change the shape of y to (n_samples,), for example using ravel().\n",
            "  \"\"\"Entry point for launching an IPython kernel.\n"
          ]
        },
        {
          "output_type": "execute_result",
          "data": {
            "text/plain": [
              "RandomForestClassifier()"
            ]
          },
          "metadata": {},
          "execution_count": 1133
        }
      ]
    },
    {
      "cell_type": "code",
      "source": [
        "y_pred_D2_HSV = clf.predict(X_test_D2_HSV)"
      ],
      "metadata": {
        "id": "TsH-vaSMx90V"
      },
      "execution_count": 1134,
      "outputs": []
    },
    {
      "cell_type": "code",
      "source": [
        "print(\"Accuracy:\", metrics.accuracy_score(y_test_D2_HSV, y_pred_D2_HSV))"
      ],
      "metadata": {
        "colab": {
          "base_uri": "https://localhost:8080/"
        },
        "outputId": "15c512bd-99e9-41ce-f658-c47e948c2b2b",
        "id": "5j4gANcdx90V"
      },
      "execution_count": 1135,
      "outputs": [
        {
          "output_type": "stream",
          "name": "stdout",
          "text": [
            "Accuracy: 1.0\n"
          ]
        }
      ]
    },
    {
      "cell_type": "markdown",
      "source": [
        "##D3"
      ],
      "metadata": {
        "id": "ntLV6fwAx90V"
      }
    },
    {
      "cell_type": "code",
      "source": [
        "table_D3Set1 = pd.read_excel(Set1 , sheet_name='D3Set1')\n",
        "table_D3Set1.head()"
      ],
      "metadata": {
        "colab": {
          "base_uri": "https://localhost:8080/",
          "height": 337
        },
        "outputId": "9698e042-7f79-45e9-e203-d21d3dac1d02",
        "id": "8iTZ6oX0x90V"
      },
      "execution_count": 1136,
      "outputs": [
        {
          "output_type": "execute_result",
          "data": {
            "text/html": [
              "\n",
              "  <div id=\"df-5dd205f4-5c22-4094-98df-00c321b41e3a\">\n",
              "    <div class=\"colab-df-container\">\n",
              "      <div>\n",
              "<style scoped>\n",
              "    .dataframe tbody tr th:only-of-type {\n",
              "        vertical-align: middle;\n",
              "    }\n",
              "\n",
              "    .dataframe tbody tr th {\n",
              "        vertical-align: top;\n",
              "    }\n",
              "\n",
              "    .dataframe thead th {\n",
              "        text-align: right;\n",
              "    }\n",
              "</style>\n",
              "<table border=\"1\" class=\"dataframe\">\n",
              "  <thead>\n",
              "    <tr style=\"text-align: right;\">\n",
              "      <th></th>\n",
              "      <th>R-ref</th>\n",
              "      <th>G-ref</th>\n",
              "      <th>B-ref</th>\n",
              "      <th>R-Shad</th>\n",
              "      <th>G-Shad</th>\n",
              "      <th>B-Shad</th>\n",
              "      <th>H-ref</th>\n",
              "      <th>S-ref</th>\n",
              "      <th>V-ref</th>\n",
              "      <th>H-Shad</th>\n",
              "      <th>S-Shad</th>\n",
              "      <th>V-Shad</th>\n",
              "      <th>Setting</th>\n",
              "      <th>Ref</th>\n",
              "      <th>Shad</th>\n",
              "      <th>Img</th>\n",
              "    </tr>\n",
              "  </thead>\n",
              "  <tbody>\n",
              "    <tr>\n",
              "      <th>0</th>\n",
              "      <td>233.315883</td>\n",
              "      <td>219.042529</td>\n",
              "      <td>182.521062</td>\n",
              "      <td>233.667093</td>\n",
              "      <td>219.760757</td>\n",
              "      <td>183.891046</td>\n",
              "      <td>21.621378</td>\n",
              "      <td>55.572843</td>\n",
              "      <td>233.315883</td>\n",
              "      <td>21.686509</td>\n",
              "      <td>54.387028</td>\n",
              "      <td>233.667093</td>\n",
              "      <td>Set1</td>\n",
              "      <td>D3</td>\n",
              "      <td>A1</td>\n",
              "      <td>57601EF7-37D5-4783-A278-238D30F60912.png</td>\n",
              "    </tr>\n",
              "    <tr>\n",
              "      <th>1</th>\n",
              "      <td>233.194140</td>\n",
              "      <td>219.034007</td>\n",
              "      <td>182.078484</td>\n",
              "      <td>233.563331</td>\n",
              "      <td>219.768224</td>\n",
              "      <td>183.451248</td>\n",
              "      <td>21.768038</td>\n",
              "      <td>55.961773</td>\n",
              "      <td>233.194140</td>\n",
              "      <td>21.826755</td>\n",
              "      <td>54.788991</td>\n",
              "      <td>233.563331</td>\n",
              "      <td>Set1</td>\n",
              "      <td>D3</td>\n",
              "      <td>A1</td>\n",
              "      <td>5412037F-4AF3-43A2-A4ED-CADFEC0751E7.png</td>\n",
              "    </tr>\n",
              "    <tr>\n",
              "      <th>2</th>\n",
              "      <td>228.266131</td>\n",
              "      <td>215.102914</td>\n",
              "      <td>179.983605</td>\n",
              "      <td>228.810113</td>\n",
              "      <td>215.946590</td>\n",
              "      <td>181.582960</td>\n",
              "      <td>21.894408</td>\n",
              "      <td>54.001299</td>\n",
              "      <td>228.266131</td>\n",
              "      <td>21.907972</td>\n",
              "      <td>52.719863</td>\n",
              "      <td>228.810113</td>\n",
              "      <td>Set1</td>\n",
              "      <td>D3</td>\n",
              "      <td>A1</td>\n",
              "      <td>456A44EC-FCBD-4487-B70C-F0E01333D15C.png</td>\n",
              "    </tr>\n",
              "    <tr>\n",
              "      <th>3</th>\n",
              "      <td>233.271975</td>\n",
              "      <td>219.056732</td>\n",
              "      <td>181.960799</td>\n",
              "      <td>233.632672</td>\n",
              "      <td>219.760828</td>\n",
              "      <td>183.255672</td>\n",
              "      <td>21.744014</td>\n",
              "      <td>56.161351</td>\n",
              "      <td>233.271975</td>\n",
              "      <td>21.790698</td>\n",
              "      <td>55.064434</td>\n",
              "      <td>233.632672</td>\n",
              "      <td>Set1</td>\n",
              "      <td>D3</td>\n",
              "      <td>A1</td>\n",
              "      <td>834A3691-A011-4D07-8652-E2A2C8F1E3F7.png</td>\n",
              "    </tr>\n",
              "    <tr>\n",
              "      <th>4</th>\n",
              "      <td>234.316776</td>\n",
              "      <td>220.035711</td>\n",
              "      <td>183.531856</td>\n",
              "      <td>234.724131</td>\n",
              "      <td>220.744968</td>\n",
              "      <td>184.855985</td>\n",
              "      <td>21.653843</td>\n",
              "      <td>55.306387</td>\n",
              "      <td>234.316776</td>\n",
              "      <td>21.684873</td>\n",
              "      <td>54.232203</td>\n",
              "      <td>234.724131</td>\n",
              "      <td>Set1</td>\n",
              "      <td>D3</td>\n",
              "      <td>A1</td>\n",
              "      <td>714E83ED-391B-480A-85E8-DC4AB8864683.png</td>\n",
              "    </tr>\n",
              "  </tbody>\n",
              "</table>\n",
              "</div>\n",
              "      <button class=\"colab-df-convert\" onclick=\"convertToInteractive('df-5dd205f4-5c22-4094-98df-00c321b41e3a')\"\n",
              "              title=\"Convert this dataframe to an interactive table.\"\n",
              "              style=\"display:none;\">\n",
              "        \n",
              "  <svg xmlns=\"http://www.w3.org/2000/svg\" height=\"24px\"viewBox=\"0 0 24 24\"\n",
              "       width=\"24px\">\n",
              "    <path d=\"M0 0h24v24H0V0z\" fill=\"none\"/>\n",
              "    <path d=\"M18.56 5.44l.94 2.06.94-2.06 2.06-.94-2.06-.94-.94-2.06-.94 2.06-2.06.94zm-11 1L8.5 8.5l.94-2.06 2.06-.94-2.06-.94L8.5 2.5l-.94 2.06-2.06.94zm10 10l.94 2.06.94-2.06 2.06-.94-2.06-.94-.94-2.06-.94 2.06-2.06.94z\"/><path d=\"M17.41 7.96l-1.37-1.37c-.4-.4-.92-.59-1.43-.59-.52 0-1.04.2-1.43.59L10.3 9.45l-7.72 7.72c-.78.78-.78 2.05 0 2.83L4 21.41c.39.39.9.59 1.41.59.51 0 1.02-.2 1.41-.59l7.78-7.78 2.81-2.81c.8-.78.8-2.07 0-2.86zM5.41 20L4 18.59l7.72-7.72 1.47 1.35L5.41 20z\"/>\n",
              "  </svg>\n",
              "      </button>\n",
              "      \n",
              "  <style>\n",
              "    .colab-df-container {\n",
              "      display:flex;\n",
              "      flex-wrap:wrap;\n",
              "      gap: 12px;\n",
              "    }\n",
              "\n",
              "    .colab-df-convert {\n",
              "      background-color: #E8F0FE;\n",
              "      border: none;\n",
              "      border-radius: 50%;\n",
              "      cursor: pointer;\n",
              "      display: none;\n",
              "      fill: #1967D2;\n",
              "      height: 32px;\n",
              "      padding: 0 0 0 0;\n",
              "      width: 32px;\n",
              "    }\n",
              "\n",
              "    .colab-df-convert:hover {\n",
              "      background-color: #E2EBFA;\n",
              "      box-shadow: 0px 1px 2px rgba(60, 64, 67, 0.3), 0px 1px 3px 1px rgba(60, 64, 67, 0.15);\n",
              "      fill: #174EA6;\n",
              "    }\n",
              "\n",
              "    [theme=dark] .colab-df-convert {\n",
              "      background-color: #3B4455;\n",
              "      fill: #D2E3FC;\n",
              "    }\n",
              "\n",
              "    [theme=dark] .colab-df-convert:hover {\n",
              "      background-color: #434B5C;\n",
              "      box-shadow: 0px 1px 3px 1px rgba(0, 0, 0, 0.15);\n",
              "      filter: drop-shadow(0px 1px 2px rgba(0, 0, 0, 0.3));\n",
              "      fill: #FFFFFF;\n",
              "    }\n",
              "  </style>\n",
              "\n",
              "      <script>\n",
              "        const buttonEl =\n",
              "          document.querySelector('#df-5dd205f4-5c22-4094-98df-00c321b41e3a button.colab-df-convert');\n",
              "        buttonEl.style.display =\n",
              "          google.colab.kernel.accessAllowed ? 'block' : 'none';\n",
              "\n",
              "        async function convertToInteractive(key) {\n",
              "          const element = document.querySelector('#df-5dd205f4-5c22-4094-98df-00c321b41e3a');\n",
              "          const dataTable =\n",
              "            await google.colab.kernel.invokeFunction('convertToInteractive',\n",
              "                                                     [key], {});\n",
              "          if (!dataTable) return;\n",
              "\n",
              "          const docLinkHtml = 'Like what you see? Visit the ' +\n",
              "            '<a target=\"_blank\" href=https://colab.research.google.com/notebooks/data_table.ipynb>data table notebook</a>'\n",
              "            + ' to learn more about interactive tables.';\n",
              "          element.innerHTML = '';\n",
              "          dataTable['output_type'] = 'display_data';\n",
              "          await google.colab.output.renderOutput(dataTable, element);\n",
              "          const docLink = document.createElement('div');\n",
              "          docLink.innerHTML = docLinkHtml;\n",
              "          element.appendChild(docLink);\n",
              "        }\n",
              "      </script>\n",
              "    </div>\n",
              "  </div>\n",
              "  "
            ],
            "text/plain": [
              "        R-ref       G-ref  ...  Shad                                       Img\n",
              "0  233.315883  219.042529  ...    A1  57601EF7-37D5-4783-A278-238D30F60912.png\n",
              "1  233.194140  219.034007  ...    A1  5412037F-4AF3-43A2-A4ED-CADFEC0751E7.png\n",
              "2  228.266131  215.102914  ...    A1  456A44EC-FCBD-4487-B70C-F0E01333D15C.png\n",
              "3  233.271975  219.056732  ...    A1  834A3691-A011-4D07-8652-E2A2C8F1E3F7.png\n",
              "4  234.316776  220.035711  ...    A1  714E83ED-391B-480A-85E8-DC4AB8864683.png\n",
              "\n",
              "[5 rows x 16 columns]"
            ]
          },
          "metadata": {},
          "execution_count": 1136
        }
      ]
    },
    {
      "cell_type": "code",
      "source": [
        "table_D3Set2 = pd.read_excel(Set2, sheet_name='D3Set2')\n",
        "table_D3Set2.head()"
      ],
      "metadata": {
        "colab": {
          "base_uri": "https://localhost:8080/",
          "height": 337
        },
        "outputId": "3910b939-2a92-4759-d886-9d6a63d7f7f2",
        "id": "cFakwmd6x90W"
      },
      "execution_count": 1137,
      "outputs": [
        {
          "output_type": "execute_result",
          "data": {
            "text/html": [
              "\n",
              "  <div id=\"df-8872575b-f34b-4270-b358-5bcccebca784\">\n",
              "    <div class=\"colab-df-container\">\n",
              "      <div>\n",
              "<style scoped>\n",
              "    .dataframe tbody tr th:only-of-type {\n",
              "        vertical-align: middle;\n",
              "    }\n",
              "\n",
              "    .dataframe tbody tr th {\n",
              "        vertical-align: top;\n",
              "    }\n",
              "\n",
              "    .dataframe thead th {\n",
              "        text-align: right;\n",
              "    }\n",
              "</style>\n",
              "<table border=\"1\" class=\"dataframe\">\n",
              "  <thead>\n",
              "    <tr style=\"text-align: right;\">\n",
              "      <th></th>\n",
              "      <th>R-ref</th>\n",
              "      <th>G-ref</th>\n",
              "      <th>B-ref</th>\n",
              "      <th>R-Shad</th>\n",
              "      <th>G-Shad</th>\n",
              "      <th>B-Shad</th>\n",
              "      <th>H-ref</th>\n",
              "      <th>S-ref</th>\n",
              "      <th>V-ref</th>\n",
              "      <th>H-Shad</th>\n",
              "      <th>S-Shad</th>\n",
              "      <th>V-Shad</th>\n",
              "      <th>Setting</th>\n",
              "      <th>Ref</th>\n",
              "      <th>Shad</th>\n",
              "      <th>Img</th>\n",
              "    </tr>\n",
              "  </thead>\n",
              "  <tbody>\n",
              "    <tr>\n",
              "      <th>0</th>\n",
              "      <td>233.496795</td>\n",
              "      <td>219.459984</td>\n",
              "      <td>183.541861</td>\n",
              "      <td>226.103698</td>\n",
              "      <td>210.819850</td>\n",
              "      <td>176.733852</td>\n",
              "      <td>21.614122</td>\n",
              "      <td>54.612082</td>\n",
              "      <td>233.496795</td>\n",
              "      <td>20.574275</td>\n",
              "      <td>55.678528</td>\n",
              "      <td>226.103698</td>\n",
              "      <td>Set2</td>\n",
              "      <td>D3</td>\n",
              "      <td>A1</td>\n",
              "      <td>BA355DCE-C148-4BBE-8A48-F96D2DDEB36B.png</td>\n",
              "    </tr>\n",
              "    <tr>\n",
              "      <th>1</th>\n",
              "      <td>233.355381</td>\n",
              "      <td>219.439880</td>\n",
              "      <td>183.049242</td>\n",
              "      <td>226.136225</td>\n",
              "      <td>210.611621</td>\n",
              "      <td>176.276619</td>\n",
              "      <td>21.770688</td>\n",
              "      <td>55.038073</td>\n",
              "      <td>233.355381</td>\n",
              "      <td>20.556946</td>\n",
              "      <td>56.211195</td>\n",
              "      <td>226.136225</td>\n",
              "      <td>Set2</td>\n",
              "      <td>D3</td>\n",
              "      <td>A1</td>\n",
              "      <td>40E1D41D-38C4-42B0-B31F-CA1712DB393E.png</td>\n",
              "    </tr>\n",
              "    <tr>\n",
              "      <th>2</th>\n",
              "      <td>228.504662</td>\n",
              "      <td>215.655983</td>\n",
              "      <td>181.190171</td>\n",
              "      <td>220.799092</td>\n",
              "      <td>205.492077</td>\n",
              "      <td>172.120749</td>\n",
              "      <td>21.929779</td>\n",
              "      <td>52.862374</td>\n",
              "      <td>228.504662</td>\n",
              "      <td>20.366416</td>\n",
              "      <td>56.219998</td>\n",
              "      <td>220.799092</td>\n",
              "      <td>Set2</td>\n",
              "      <td>D3</td>\n",
              "      <td>A1</td>\n",
              "      <td>59338A02-6279-42FF-A2CA-E970BAE29C55.png</td>\n",
              "    </tr>\n",
              "    <tr>\n",
              "      <th>3</th>\n",
              "      <td>233.467172</td>\n",
              "      <td>219.479118</td>\n",
              "      <td>182.892580</td>\n",
              "      <td>226.386711</td>\n",
              "      <td>210.920397</td>\n",
              "      <td>176.047818</td>\n",
              "      <td>21.751943</td>\n",
              "      <td>55.308761</td>\n",
              "      <td>233.467172</td>\n",
              "      <td>20.750811</td>\n",
              "      <td>56.671764</td>\n",
              "      <td>226.386711</td>\n",
              "      <td>Set2</td>\n",
              "      <td>D3</td>\n",
              "      <td>A1</td>\n",
              "      <td>847D87DE-CDA4-49D8-8411-34DFEAD6A06F.png</td>\n",
              "    </tr>\n",
              "    <tr>\n",
              "      <th>4</th>\n",
              "      <td>234.509615</td>\n",
              "      <td>220.490385</td>\n",
              "      <td>184.508256</td>\n",
              "      <td>227.663423</td>\n",
              "      <td>212.284033</td>\n",
              "      <td>178.291261</td>\n",
              "      <td>21.661131</td>\n",
              "      <td>54.405206</td>\n",
              "      <td>234.509615</td>\n",
              "      <td>20.525438</td>\n",
              "      <td>55.283848</td>\n",
              "      <td>227.663423</td>\n",
              "      <td>Set2</td>\n",
              "      <td>D3</td>\n",
              "      <td>A1</td>\n",
              "      <td>836F8028-4744-4B50-BFA8-DD71556DC524.png</td>\n",
              "    </tr>\n",
              "  </tbody>\n",
              "</table>\n",
              "</div>\n",
              "      <button class=\"colab-df-convert\" onclick=\"convertToInteractive('df-8872575b-f34b-4270-b358-5bcccebca784')\"\n",
              "              title=\"Convert this dataframe to an interactive table.\"\n",
              "              style=\"display:none;\">\n",
              "        \n",
              "  <svg xmlns=\"http://www.w3.org/2000/svg\" height=\"24px\"viewBox=\"0 0 24 24\"\n",
              "       width=\"24px\">\n",
              "    <path d=\"M0 0h24v24H0V0z\" fill=\"none\"/>\n",
              "    <path d=\"M18.56 5.44l.94 2.06.94-2.06 2.06-.94-2.06-.94-.94-2.06-.94 2.06-2.06.94zm-11 1L8.5 8.5l.94-2.06 2.06-.94-2.06-.94L8.5 2.5l-.94 2.06-2.06.94zm10 10l.94 2.06.94-2.06 2.06-.94-2.06-.94-.94-2.06-.94 2.06-2.06.94z\"/><path d=\"M17.41 7.96l-1.37-1.37c-.4-.4-.92-.59-1.43-.59-.52 0-1.04.2-1.43.59L10.3 9.45l-7.72 7.72c-.78.78-.78 2.05 0 2.83L4 21.41c.39.39.9.59 1.41.59.51 0 1.02-.2 1.41-.59l7.78-7.78 2.81-2.81c.8-.78.8-2.07 0-2.86zM5.41 20L4 18.59l7.72-7.72 1.47 1.35L5.41 20z\"/>\n",
              "  </svg>\n",
              "      </button>\n",
              "      \n",
              "  <style>\n",
              "    .colab-df-container {\n",
              "      display:flex;\n",
              "      flex-wrap:wrap;\n",
              "      gap: 12px;\n",
              "    }\n",
              "\n",
              "    .colab-df-convert {\n",
              "      background-color: #E8F0FE;\n",
              "      border: none;\n",
              "      border-radius: 50%;\n",
              "      cursor: pointer;\n",
              "      display: none;\n",
              "      fill: #1967D2;\n",
              "      height: 32px;\n",
              "      padding: 0 0 0 0;\n",
              "      width: 32px;\n",
              "    }\n",
              "\n",
              "    .colab-df-convert:hover {\n",
              "      background-color: #E2EBFA;\n",
              "      box-shadow: 0px 1px 2px rgba(60, 64, 67, 0.3), 0px 1px 3px 1px rgba(60, 64, 67, 0.15);\n",
              "      fill: #174EA6;\n",
              "    }\n",
              "\n",
              "    [theme=dark] .colab-df-convert {\n",
              "      background-color: #3B4455;\n",
              "      fill: #D2E3FC;\n",
              "    }\n",
              "\n",
              "    [theme=dark] .colab-df-convert:hover {\n",
              "      background-color: #434B5C;\n",
              "      box-shadow: 0px 1px 3px 1px rgba(0, 0, 0, 0.15);\n",
              "      filter: drop-shadow(0px 1px 2px rgba(0, 0, 0, 0.3));\n",
              "      fill: #FFFFFF;\n",
              "    }\n",
              "  </style>\n",
              "\n",
              "      <script>\n",
              "        const buttonEl =\n",
              "          document.querySelector('#df-8872575b-f34b-4270-b358-5bcccebca784 button.colab-df-convert');\n",
              "        buttonEl.style.display =\n",
              "          google.colab.kernel.accessAllowed ? 'block' : 'none';\n",
              "\n",
              "        async function convertToInteractive(key) {\n",
              "          const element = document.querySelector('#df-8872575b-f34b-4270-b358-5bcccebca784');\n",
              "          const dataTable =\n",
              "            await google.colab.kernel.invokeFunction('convertToInteractive',\n",
              "                                                     [key], {});\n",
              "          if (!dataTable) return;\n",
              "\n",
              "          const docLinkHtml = 'Like what you see? Visit the ' +\n",
              "            '<a target=\"_blank\" href=https://colab.research.google.com/notebooks/data_table.ipynb>data table notebook</a>'\n",
              "            + ' to learn more about interactive tables.';\n",
              "          element.innerHTML = '';\n",
              "          dataTable['output_type'] = 'display_data';\n",
              "          await google.colab.output.renderOutput(dataTable, element);\n",
              "          const docLink = document.createElement('div');\n",
              "          docLink.innerHTML = docLinkHtml;\n",
              "          element.appendChild(docLink);\n",
              "        }\n",
              "      </script>\n",
              "    </div>\n",
              "  </div>\n",
              "  "
            ],
            "text/plain": [
              "        R-ref       G-ref  ...  Shad                                       Img\n",
              "0  233.496795  219.459984  ...    A1  BA355DCE-C148-4BBE-8A48-F96D2DDEB36B.png\n",
              "1  233.355381  219.439880  ...    A1  40E1D41D-38C4-42B0-B31F-CA1712DB393E.png\n",
              "2  228.504662  215.655983  ...    A1  59338A02-6279-42FF-A2CA-E970BAE29C55.png\n",
              "3  233.467172  219.479118  ...    A1  847D87DE-CDA4-49D8-8411-34DFEAD6A06F.png\n",
              "4  234.509615  220.490385  ...    A1  836F8028-4744-4B50-BFA8-DD71556DC524.png\n",
              "\n",
              "[5 rows x 16 columns]"
            ]
          },
          "metadata": {},
          "execution_count": 1137
        }
      ]
    },
    {
      "cell_type": "code",
      "source": [
        "table_D3Set3 = pd.read_excel(Set3, sheet_name='D3Set3 ')\n",
        "table_D3Set3.head()"
      ],
      "metadata": {
        "colab": {
          "base_uri": "https://localhost:8080/",
          "height": 337
        },
        "outputId": "e6b123e0-d907-448d-bd68-dc1cd4e9d2ee",
        "id": "k_96o6p1x90W"
      },
      "execution_count": 1138,
      "outputs": [
        {
          "output_type": "execute_result",
          "data": {
            "text/html": [
              "\n",
              "  <div id=\"df-26d403eb-5619-4461-b518-4623798b565b\">\n",
              "    <div class=\"colab-df-container\">\n",
              "      <div>\n",
              "<style scoped>\n",
              "    .dataframe tbody tr th:only-of-type {\n",
              "        vertical-align: middle;\n",
              "    }\n",
              "\n",
              "    .dataframe tbody tr th {\n",
              "        vertical-align: top;\n",
              "    }\n",
              "\n",
              "    .dataframe thead th {\n",
              "        text-align: right;\n",
              "    }\n",
              "</style>\n",
              "<table border=\"1\" class=\"dataframe\">\n",
              "  <thead>\n",
              "    <tr style=\"text-align: right;\">\n",
              "      <th></th>\n",
              "      <th>R-ref</th>\n",
              "      <th>G-ref</th>\n",
              "      <th>B-ref</th>\n",
              "      <th>R-Shad</th>\n",
              "      <th>G-Shad</th>\n",
              "      <th>B-Shad</th>\n",
              "      <th>H-ref</th>\n",
              "      <th>S-ref</th>\n",
              "      <th>V-ref</th>\n",
              "      <th>H-Shad</th>\n",
              "      <th>S-Shad</th>\n",
              "      <th>V-Shad</th>\n",
              "      <th>Setting</th>\n",
              "      <th>Ref</th>\n",
              "      <th>Shad</th>\n",
              "      <th>Img</th>\n",
              "    </tr>\n",
              "  </thead>\n",
              "  <tbody>\n",
              "    <tr>\n",
              "      <th>0</th>\n",
              "      <td>233.315883</td>\n",
              "      <td>219.042529</td>\n",
              "      <td>182.521062</td>\n",
              "      <td>233.667093</td>\n",
              "      <td>219.760757</td>\n",
              "      <td>183.891046</td>\n",
              "      <td>21.621378</td>\n",
              "      <td>55.572843</td>\n",
              "      <td>233.315883</td>\n",
              "      <td>21.686509</td>\n",
              "      <td>54.387028</td>\n",
              "      <td>233.667093</td>\n",
              "      <td>Set3</td>\n",
              "      <td>D3</td>\n",
              "      <td>A1</td>\n",
              "      <td>44F32CB2-4AC3-4AA4-B00C-0873A77C39FB.png</td>\n",
              "    </tr>\n",
              "    <tr>\n",
              "      <th>1</th>\n",
              "      <td>233.194140</td>\n",
              "      <td>219.034007</td>\n",
              "      <td>182.078484</td>\n",
              "      <td>233.563331</td>\n",
              "      <td>219.768224</td>\n",
              "      <td>183.451248</td>\n",
              "      <td>21.768038</td>\n",
              "      <td>55.961773</td>\n",
              "      <td>233.194140</td>\n",
              "      <td>21.826755</td>\n",
              "      <td>54.788991</td>\n",
              "      <td>233.563331</td>\n",
              "      <td>Set3</td>\n",
              "      <td>D3</td>\n",
              "      <td>A1</td>\n",
              "      <td>2CDD72C1-95CD-437D-861D-22AF8E89C9CD.png</td>\n",
              "    </tr>\n",
              "    <tr>\n",
              "      <th>2</th>\n",
              "      <td>228.266131</td>\n",
              "      <td>215.102914</td>\n",
              "      <td>179.983605</td>\n",
              "      <td>228.810113</td>\n",
              "      <td>215.946590</td>\n",
              "      <td>181.582960</td>\n",
              "      <td>21.894408</td>\n",
              "      <td>54.001299</td>\n",
              "      <td>228.266131</td>\n",
              "      <td>21.907972</td>\n",
              "      <td>52.719863</td>\n",
              "      <td>228.810113</td>\n",
              "      <td>Set3</td>\n",
              "      <td>D3</td>\n",
              "      <td>A1</td>\n",
              "      <td>CBFB3E49-B585-4DE7-996B-CB1409AD9FBA.png</td>\n",
              "    </tr>\n",
              "    <tr>\n",
              "      <th>3</th>\n",
              "      <td>233.271975</td>\n",
              "      <td>219.056732</td>\n",
              "      <td>181.960799</td>\n",
              "      <td>233.632672</td>\n",
              "      <td>219.760828</td>\n",
              "      <td>183.255672</td>\n",
              "      <td>21.744014</td>\n",
              "      <td>56.161351</td>\n",
              "      <td>233.271975</td>\n",
              "      <td>21.790698</td>\n",
              "      <td>55.064434</td>\n",
              "      <td>233.632672</td>\n",
              "      <td>Set3</td>\n",
              "      <td>D3</td>\n",
              "      <td>A1</td>\n",
              "      <td>74C493A4-A4F6-472E-A771-763A75C24A4F.png</td>\n",
              "    </tr>\n",
              "    <tr>\n",
              "      <th>4</th>\n",
              "      <td>234.316776</td>\n",
              "      <td>220.035711</td>\n",
              "      <td>183.531856</td>\n",
              "      <td>234.724131</td>\n",
              "      <td>220.744968</td>\n",
              "      <td>184.855985</td>\n",
              "      <td>21.653843</td>\n",
              "      <td>55.306387</td>\n",
              "      <td>234.316776</td>\n",
              "      <td>21.684873</td>\n",
              "      <td>54.232203</td>\n",
              "      <td>234.724131</td>\n",
              "      <td>Set3</td>\n",
              "      <td>D3</td>\n",
              "      <td>A1</td>\n",
              "      <td>962C3361-D41F-42C8-B4E2-D58066BB75ED.png</td>\n",
              "    </tr>\n",
              "  </tbody>\n",
              "</table>\n",
              "</div>\n",
              "      <button class=\"colab-df-convert\" onclick=\"convertToInteractive('df-26d403eb-5619-4461-b518-4623798b565b')\"\n",
              "              title=\"Convert this dataframe to an interactive table.\"\n",
              "              style=\"display:none;\">\n",
              "        \n",
              "  <svg xmlns=\"http://www.w3.org/2000/svg\" height=\"24px\"viewBox=\"0 0 24 24\"\n",
              "       width=\"24px\">\n",
              "    <path d=\"M0 0h24v24H0V0z\" fill=\"none\"/>\n",
              "    <path d=\"M18.56 5.44l.94 2.06.94-2.06 2.06-.94-2.06-.94-.94-2.06-.94 2.06-2.06.94zm-11 1L8.5 8.5l.94-2.06 2.06-.94-2.06-.94L8.5 2.5l-.94 2.06-2.06.94zm10 10l.94 2.06.94-2.06 2.06-.94-2.06-.94-.94-2.06-.94 2.06-2.06.94z\"/><path d=\"M17.41 7.96l-1.37-1.37c-.4-.4-.92-.59-1.43-.59-.52 0-1.04.2-1.43.59L10.3 9.45l-7.72 7.72c-.78.78-.78 2.05 0 2.83L4 21.41c.39.39.9.59 1.41.59.51 0 1.02-.2 1.41-.59l7.78-7.78 2.81-2.81c.8-.78.8-2.07 0-2.86zM5.41 20L4 18.59l7.72-7.72 1.47 1.35L5.41 20z\"/>\n",
              "  </svg>\n",
              "      </button>\n",
              "      \n",
              "  <style>\n",
              "    .colab-df-container {\n",
              "      display:flex;\n",
              "      flex-wrap:wrap;\n",
              "      gap: 12px;\n",
              "    }\n",
              "\n",
              "    .colab-df-convert {\n",
              "      background-color: #E8F0FE;\n",
              "      border: none;\n",
              "      border-radius: 50%;\n",
              "      cursor: pointer;\n",
              "      display: none;\n",
              "      fill: #1967D2;\n",
              "      height: 32px;\n",
              "      padding: 0 0 0 0;\n",
              "      width: 32px;\n",
              "    }\n",
              "\n",
              "    .colab-df-convert:hover {\n",
              "      background-color: #E2EBFA;\n",
              "      box-shadow: 0px 1px 2px rgba(60, 64, 67, 0.3), 0px 1px 3px 1px rgba(60, 64, 67, 0.15);\n",
              "      fill: #174EA6;\n",
              "    }\n",
              "\n",
              "    [theme=dark] .colab-df-convert {\n",
              "      background-color: #3B4455;\n",
              "      fill: #D2E3FC;\n",
              "    }\n",
              "\n",
              "    [theme=dark] .colab-df-convert:hover {\n",
              "      background-color: #434B5C;\n",
              "      box-shadow: 0px 1px 3px 1px rgba(0, 0, 0, 0.15);\n",
              "      filter: drop-shadow(0px 1px 2px rgba(0, 0, 0, 0.3));\n",
              "      fill: #FFFFFF;\n",
              "    }\n",
              "  </style>\n",
              "\n",
              "      <script>\n",
              "        const buttonEl =\n",
              "          document.querySelector('#df-26d403eb-5619-4461-b518-4623798b565b button.colab-df-convert');\n",
              "        buttonEl.style.display =\n",
              "          google.colab.kernel.accessAllowed ? 'block' : 'none';\n",
              "\n",
              "        async function convertToInteractive(key) {\n",
              "          const element = document.querySelector('#df-26d403eb-5619-4461-b518-4623798b565b');\n",
              "          const dataTable =\n",
              "            await google.colab.kernel.invokeFunction('convertToInteractive',\n",
              "                                                     [key], {});\n",
              "          if (!dataTable) return;\n",
              "\n",
              "          const docLinkHtml = 'Like what you see? Visit the ' +\n",
              "            '<a target=\"_blank\" href=https://colab.research.google.com/notebooks/data_table.ipynb>data table notebook</a>'\n",
              "            + ' to learn more about interactive tables.';\n",
              "          element.innerHTML = '';\n",
              "          dataTable['output_type'] = 'display_data';\n",
              "          await google.colab.output.renderOutput(dataTable, element);\n",
              "          const docLink = document.createElement('div');\n",
              "          docLink.innerHTML = docLinkHtml;\n",
              "          element.appendChild(docLink);\n",
              "        }\n",
              "      </script>\n",
              "    </div>\n",
              "  </div>\n",
              "  "
            ],
            "text/plain": [
              "        R-ref       G-ref  ...  Shad                                       Img\n",
              "0  233.315883  219.042529  ...    A1  44F32CB2-4AC3-4AA4-B00C-0873A77C39FB.png\n",
              "1  233.194140  219.034007  ...    A1  2CDD72C1-95CD-437D-861D-22AF8E89C9CD.png\n",
              "2  228.266131  215.102914  ...    A1  CBFB3E49-B585-4DE7-996B-CB1409AD9FBA.png\n",
              "3  233.271975  219.056732  ...    A1  74C493A4-A4F6-472E-A771-763A75C24A4F.png\n",
              "4  234.316776  220.035711  ...    A1  962C3361-D41F-42C8-B4E2-D58066BB75ED.png\n",
              "\n",
              "[5 rows x 16 columns]"
            ]
          },
          "metadata": {},
          "execution_count": 1138
        }
      ]
    },
    {
      "cell_type": "code",
      "source": [
        "table_D3Set4 = pd.read_excel(Set4, sheet_name='D3Set4')\n",
        "table_D3Set4.head()"
      ],
      "metadata": {
        "colab": {
          "base_uri": "https://localhost:8080/",
          "height": 337
        },
        "outputId": "55579a50-d0e7-4e65-afe4-ccc90de1c6ea",
        "id": "cuqvRlS1x90W"
      },
      "execution_count": 1139,
      "outputs": [
        {
          "output_type": "execute_result",
          "data": {
            "text/html": [
              "\n",
              "  <div id=\"df-79c591be-e93c-435d-a571-bfd1522a6a62\">\n",
              "    <div class=\"colab-df-container\">\n",
              "      <div>\n",
              "<style scoped>\n",
              "    .dataframe tbody tr th:only-of-type {\n",
              "        vertical-align: middle;\n",
              "    }\n",
              "\n",
              "    .dataframe tbody tr th {\n",
              "        vertical-align: top;\n",
              "    }\n",
              "\n",
              "    .dataframe thead th {\n",
              "        text-align: right;\n",
              "    }\n",
              "</style>\n",
              "<table border=\"1\" class=\"dataframe\">\n",
              "  <thead>\n",
              "    <tr style=\"text-align: right;\">\n",
              "      <th></th>\n",
              "      <th>R-ref</th>\n",
              "      <th>G-ref</th>\n",
              "      <th>B-ref</th>\n",
              "      <th>R-Shad</th>\n",
              "      <th>G-Shad</th>\n",
              "      <th>B-Shad</th>\n",
              "      <th>H-ref</th>\n",
              "      <th>S-ref</th>\n",
              "      <th>V-ref</th>\n",
              "      <th>H-Shad</th>\n",
              "      <th>S-Shad</th>\n",
              "      <th>V-Shad</th>\n",
              "      <th>Setting</th>\n",
              "      <th>Ref</th>\n",
              "      <th>Shad</th>\n",
              "      <th>Img</th>\n",
              "    </tr>\n",
              "  </thead>\n",
              "  <tbody>\n",
              "    <tr>\n",
              "      <th>0</th>\n",
              "      <td>233.496795</td>\n",
              "      <td>219.459984</td>\n",
              "      <td>183.541861</td>\n",
              "      <td>226.103698</td>\n",
              "      <td>210.819850</td>\n",
              "      <td>176.733852</td>\n",
              "      <td>21.614122</td>\n",
              "      <td>54.612082</td>\n",
              "      <td>233.496795</td>\n",
              "      <td>20.574275</td>\n",
              "      <td>55.678528</td>\n",
              "      <td>226.103698</td>\n",
              "      <td>Set4</td>\n",
              "      <td>D3</td>\n",
              "      <td>A1</td>\n",
              "      <td>55D1922F-F23E-42B3-9163-13EDAA8937B9.png</td>\n",
              "    </tr>\n",
              "    <tr>\n",
              "      <th>1</th>\n",
              "      <td>233.355381</td>\n",
              "      <td>219.439880</td>\n",
              "      <td>183.049242</td>\n",
              "      <td>226.136225</td>\n",
              "      <td>210.611621</td>\n",
              "      <td>176.276619</td>\n",
              "      <td>21.770688</td>\n",
              "      <td>55.038073</td>\n",
              "      <td>233.355381</td>\n",
              "      <td>20.556946</td>\n",
              "      <td>56.211195</td>\n",
              "      <td>226.136225</td>\n",
              "      <td>Set4</td>\n",
              "      <td>D3</td>\n",
              "      <td>A1</td>\n",
              "      <td>039D73E5-8D95-487A-9124-4544316E1B0B.png</td>\n",
              "    </tr>\n",
              "    <tr>\n",
              "      <th>2</th>\n",
              "      <td>228.504662</td>\n",
              "      <td>215.655983</td>\n",
              "      <td>181.190171</td>\n",
              "      <td>220.799092</td>\n",
              "      <td>205.492077</td>\n",
              "      <td>172.120749</td>\n",
              "      <td>21.929779</td>\n",
              "      <td>52.862374</td>\n",
              "      <td>228.504662</td>\n",
              "      <td>20.366416</td>\n",
              "      <td>56.219998</td>\n",
              "      <td>220.799092</td>\n",
              "      <td>Set4</td>\n",
              "      <td>D3</td>\n",
              "      <td>A1</td>\n",
              "      <td>FB040BAB-00C0-4A01-963B-59CF94123044.png</td>\n",
              "    </tr>\n",
              "    <tr>\n",
              "      <th>3</th>\n",
              "      <td>233.467172</td>\n",
              "      <td>219.479118</td>\n",
              "      <td>182.892580</td>\n",
              "      <td>226.386711</td>\n",
              "      <td>210.920397</td>\n",
              "      <td>176.047818</td>\n",
              "      <td>21.751943</td>\n",
              "      <td>55.308761</td>\n",
              "      <td>233.467172</td>\n",
              "      <td>20.750811</td>\n",
              "      <td>56.671764</td>\n",
              "      <td>226.386711</td>\n",
              "      <td>Set4</td>\n",
              "      <td>D3</td>\n",
              "      <td>A1</td>\n",
              "      <td>33D7101E-615D-4D53-BBF4-1FFC799B1FAF.png</td>\n",
              "    </tr>\n",
              "    <tr>\n",
              "      <th>4</th>\n",
              "      <td>234.509615</td>\n",
              "      <td>220.490385</td>\n",
              "      <td>184.508256</td>\n",
              "      <td>227.663423</td>\n",
              "      <td>212.284033</td>\n",
              "      <td>178.291261</td>\n",
              "      <td>21.661131</td>\n",
              "      <td>54.405206</td>\n",
              "      <td>234.509615</td>\n",
              "      <td>20.525438</td>\n",
              "      <td>55.283848</td>\n",
              "      <td>227.663423</td>\n",
              "      <td>Set4</td>\n",
              "      <td>D3</td>\n",
              "      <td>A1</td>\n",
              "      <td>89130C74-286A-4614-9CCF-2423B2AC601B.png</td>\n",
              "    </tr>\n",
              "  </tbody>\n",
              "</table>\n",
              "</div>\n",
              "      <button class=\"colab-df-convert\" onclick=\"convertToInteractive('df-79c591be-e93c-435d-a571-bfd1522a6a62')\"\n",
              "              title=\"Convert this dataframe to an interactive table.\"\n",
              "              style=\"display:none;\">\n",
              "        \n",
              "  <svg xmlns=\"http://www.w3.org/2000/svg\" height=\"24px\"viewBox=\"0 0 24 24\"\n",
              "       width=\"24px\">\n",
              "    <path d=\"M0 0h24v24H0V0z\" fill=\"none\"/>\n",
              "    <path d=\"M18.56 5.44l.94 2.06.94-2.06 2.06-.94-2.06-.94-.94-2.06-.94 2.06-2.06.94zm-11 1L8.5 8.5l.94-2.06 2.06-.94-2.06-.94L8.5 2.5l-.94 2.06-2.06.94zm10 10l.94 2.06.94-2.06 2.06-.94-2.06-.94-.94-2.06-.94 2.06-2.06.94z\"/><path d=\"M17.41 7.96l-1.37-1.37c-.4-.4-.92-.59-1.43-.59-.52 0-1.04.2-1.43.59L10.3 9.45l-7.72 7.72c-.78.78-.78 2.05 0 2.83L4 21.41c.39.39.9.59 1.41.59.51 0 1.02-.2 1.41-.59l7.78-7.78 2.81-2.81c.8-.78.8-2.07 0-2.86zM5.41 20L4 18.59l7.72-7.72 1.47 1.35L5.41 20z\"/>\n",
              "  </svg>\n",
              "      </button>\n",
              "      \n",
              "  <style>\n",
              "    .colab-df-container {\n",
              "      display:flex;\n",
              "      flex-wrap:wrap;\n",
              "      gap: 12px;\n",
              "    }\n",
              "\n",
              "    .colab-df-convert {\n",
              "      background-color: #E8F0FE;\n",
              "      border: none;\n",
              "      border-radius: 50%;\n",
              "      cursor: pointer;\n",
              "      display: none;\n",
              "      fill: #1967D2;\n",
              "      height: 32px;\n",
              "      padding: 0 0 0 0;\n",
              "      width: 32px;\n",
              "    }\n",
              "\n",
              "    .colab-df-convert:hover {\n",
              "      background-color: #E2EBFA;\n",
              "      box-shadow: 0px 1px 2px rgba(60, 64, 67, 0.3), 0px 1px 3px 1px rgba(60, 64, 67, 0.15);\n",
              "      fill: #174EA6;\n",
              "    }\n",
              "\n",
              "    [theme=dark] .colab-df-convert {\n",
              "      background-color: #3B4455;\n",
              "      fill: #D2E3FC;\n",
              "    }\n",
              "\n",
              "    [theme=dark] .colab-df-convert:hover {\n",
              "      background-color: #434B5C;\n",
              "      box-shadow: 0px 1px 3px 1px rgba(0, 0, 0, 0.15);\n",
              "      filter: drop-shadow(0px 1px 2px rgba(0, 0, 0, 0.3));\n",
              "      fill: #FFFFFF;\n",
              "    }\n",
              "  </style>\n",
              "\n",
              "      <script>\n",
              "        const buttonEl =\n",
              "          document.querySelector('#df-79c591be-e93c-435d-a571-bfd1522a6a62 button.colab-df-convert');\n",
              "        buttonEl.style.display =\n",
              "          google.colab.kernel.accessAllowed ? 'block' : 'none';\n",
              "\n",
              "        async function convertToInteractive(key) {\n",
              "          const element = document.querySelector('#df-79c591be-e93c-435d-a571-bfd1522a6a62');\n",
              "          const dataTable =\n",
              "            await google.colab.kernel.invokeFunction('convertToInteractive',\n",
              "                                                     [key], {});\n",
              "          if (!dataTable) return;\n",
              "\n",
              "          const docLinkHtml = 'Like what you see? Visit the ' +\n",
              "            '<a target=\"_blank\" href=https://colab.research.google.com/notebooks/data_table.ipynb>data table notebook</a>'\n",
              "            + ' to learn more about interactive tables.';\n",
              "          element.innerHTML = '';\n",
              "          dataTable['output_type'] = 'display_data';\n",
              "          await google.colab.output.renderOutput(dataTable, element);\n",
              "          const docLink = document.createElement('div');\n",
              "          docLink.innerHTML = docLinkHtml;\n",
              "          element.appendChild(docLink);\n",
              "        }\n",
              "      </script>\n",
              "    </div>\n",
              "  </div>\n",
              "  "
            ],
            "text/plain": [
              "        R-ref       G-ref  ...  Shad                                       Img\n",
              "0  233.496795  219.459984  ...    A1  55D1922F-F23E-42B3-9163-13EDAA8937B9.png\n",
              "1  233.355381  219.439880  ...    A1  039D73E5-8D95-487A-9124-4544316E1B0B.png\n",
              "2  228.504662  215.655983  ...    A1  FB040BAB-00C0-4A01-963B-59CF94123044.png\n",
              "3  233.467172  219.479118  ...    A1  33D7101E-615D-4D53-BBF4-1FFC799B1FAF.png\n",
              "4  234.509615  220.490385  ...    A1  89130C74-286A-4614-9CCF-2423B2AC601B.png\n",
              "\n",
              "[5 rows x 16 columns]"
            ]
          },
          "metadata": {},
          "execution_count": 1139
        }
      ]
    },
    {
      "cell_type": "markdown",
      "source": [
        "###RGB"
      ],
      "metadata": {
        "id": "CYvwE4PDx90W"
      }
    },
    {
      "cell_type": "code",
      "source": [
        "RGB_D3_Set1 = table_D3Set1.drop(['H-ref','S-ref','V-ref','H-Shad','S-Shad','V-Shad','Setting','Ref','Shad','Img'], axis=1)"
      ],
      "metadata": {
        "id": "PlR5iWwRx90W"
      },
      "execution_count": 1140,
      "outputs": []
    },
    {
      "cell_type": "code",
      "source": [
        "RGB_D3_Set2 = table_D3Set2"
      ],
      "metadata": {
        "id": "blPo4yEex90W"
      },
      "execution_count": 1141,
      "outputs": []
    },
    {
      "cell_type": "code",
      "source": [
        "RGB_D3_Set3 = table_D3Set3"
      ],
      "metadata": {
        "id": "h-p_12Ffx90W"
      },
      "execution_count": 1142,
      "outputs": []
    },
    {
      "cell_type": "code",
      "source": [
        "RGB_D3_Set4 = table_D3Set4"
      ],
      "metadata": {
        "id": "_gplnOW-x90X"
      },
      "execution_count": 1143,
      "outputs": []
    },
    {
      "cell_type": "code",
      "source": [
        "RGB_D3_concat0 = pd.concat([RGB_D3_Set2,RGB_D3_Set3])"
      ],
      "metadata": {
        "id": "qAOZ46Hjx90X"
      },
      "execution_count": 1144,
      "outputs": []
    },
    {
      "cell_type": "code",
      "source": [
        "RGB_D3_concat1 = pd.concat([RGB_D3_concat0,RGB_D3_Set4])"
      ],
      "metadata": {
        "id": "lS7r_4VVx90X"
      },
      "execution_count": 1145,
      "outputs": []
    },
    {
      "cell_type": "code",
      "source": [
        "RGB_D3_concat2 = RGB_D3_concat1.drop(['H-ref','S-ref','V-ref','H-Shad','S-Shad','V-Shad','Setting','Ref','Shad','Img'], axis=1)"
      ],
      "metadata": {
        "id": "1yMt6NzXx90X"
      },
      "execution_count": 1146,
      "outputs": []
    },
    {
      "cell_type": "code",
      "source": [
        "X_test_D3_RGB = np.array(RGB_D3_Set1)"
      ],
      "metadata": {
        "id": "ufA1_Y1xx90X"
      },
      "execution_count": 1147,
      "outputs": []
    },
    {
      "cell_type": "code",
      "source": [
        "y_D3_RGB =  table_D3Set1.iloc[:,14:15]"
      ],
      "metadata": {
        "id": "-QW8SDSyx90X"
      },
      "execution_count": 1148,
      "outputs": []
    },
    {
      "cell_type": "code",
      "source": [
        "y_test_D3_RGB = np.array(y_D3_RGB)"
      ],
      "metadata": {
        "id": "kL5UDJAUx90X"
      },
      "execution_count": 1149,
      "outputs": []
    },
    {
      "cell_type": "code",
      "source": [
        "X_train_D3_RGB = np.array(RGB_D3_concat2)"
      ],
      "metadata": {
        "id": "I-j7R3Tnx90X"
      },
      "execution_count": 1150,
      "outputs": []
    },
    {
      "cell_type": "code",
      "source": [
        "y_train_D3RGB = RGB_D3_concat1.iloc[:,14:15]"
      ],
      "metadata": {
        "id": "cuBbjTNYx90X"
      },
      "execution_count": 1151,
      "outputs": []
    },
    {
      "cell_type": "code",
      "source": [
        "y_train_D3_RGB = np.array(y_train_D3RGB)"
      ],
      "metadata": {
        "id": "gB3TEG8Ox90Y"
      },
      "execution_count": 1152,
      "outputs": []
    },
    {
      "cell_type": "code",
      "source": [
        "clf.fit(X_train_D3_RGB, y_train_D3_RGB)"
      ],
      "metadata": {
        "colab": {
          "base_uri": "https://localhost:8080/"
        },
        "outputId": "aa0f9b1c-9524-4d38-ded0-037591994289",
        "id": "owe-5XSGx90Y"
      },
      "execution_count": 1153,
      "outputs": [
        {
          "output_type": "stream",
          "name": "stderr",
          "text": [
            "/usr/local/lib/python3.7/dist-packages/ipykernel_launcher.py:1: DataConversionWarning: A column-vector y was passed when a 1d array was expected. Please change the shape of y to (n_samples,), for example using ravel().\n",
            "  \"\"\"Entry point for launching an IPython kernel.\n"
          ]
        },
        {
          "output_type": "execute_result",
          "data": {
            "text/plain": [
              "RandomForestClassifier()"
            ]
          },
          "metadata": {},
          "execution_count": 1153
        }
      ]
    },
    {
      "cell_type": "code",
      "source": [
        "y_pred_D3_RGB = clf.predict(X_test_D3_RGB)"
      ],
      "metadata": {
        "id": "_A7t5UNHx90Y"
      },
      "execution_count": 1154,
      "outputs": []
    },
    {
      "cell_type": "code",
      "source": [
        "print(\"Accuracy:\", metrics.accuracy_score(y_test_D3_RGB, y_pred_D3_RGB))"
      ],
      "metadata": {
        "colab": {
          "base_uri": "https://localhost:8080/"
        },
        "outputId": "6d1c5ba0-697e-48f3-947a-1fce2c97bf9e",
        "id": "j_-xWLsfx90Y"
      },
      "execution_count": 1155,
      "outputs": [
        {
          "output_type": "stream",
          "name": "stdout",
          "text": [
            "Accuracy: 1.0\n"
          ]
        }
      ]
    },
    {
      "cell_type": "markdown",
      "source": [
        "###HSV"
      ],
      "metadata": {
        "id": "_Bqu-0vjx90Y"
      }
    },
    {
      "cell_type": "code",
      "source": [
        "HSV_D3_Set1 = table_D3Set1.drop(['R-ref','G-ref','B-ref','R-Shad','G-Shad','B-Shad','Setting','Ref','Shad','Img'], axis=1)"
      ],
      "metadata": {
        "id": "Ivz7-0R-x90Y"
      },
      "execution_count": 1156,
      "outputs": []
    },
    {
      "cell_type": "code",
      "source": [
        "HSV_D3_concat2 = RGB_D3_concat1.drop(['R-ref','G-ref','B-ref','R-Shad','G-Shad','B-Shad','Setting','Ref','Shad','Img'], axis=1)"
      ],
      "metadata": {
        "id": "qtZokQPJx90Y"
      },
      "execution_count": 1157,
      "outputs": []
    },
    {
      "cell_type": "code",
      "source": [
        "X_test_D3_HSV = np.array(HSV_D3_Set1)"
      ],
      "metadata": {
        "id": "R3Z14S8Fx90Y"
      },
      "execution_count": 1158,
      "outputs": []
    },
    {
      "cell_type": "code",
      "source": [
        "y_D3_HSV =  table_D3Set1.iloc[:,14:15]"
      ],
      "metadata": {
        "id": "kKyPj2eix90Y"
      },
      "execution_count": 1159,
      "outputs": []
    },
    {
      "cell_type": "code",
      "source": [
        "y_test_D3_HSV = np.array(y_D3_RGB)"
      ],
      "metadata": {
        "id": "U1QiYDz0x90Y"
      },
      "execution_count": 1160,
      "outputs": []
    },
    {
      "cell_type": "code",
      "source": [
        "X_train_D3_HSV = np.array(HSV_D3_concat2)"
      ],
      "metadata": {
        "id": "0e4tbRaOx90Z"
      },
      "execution_count": 1161,
      "outputs": []
    },
    {
      "cell_type": "code",
      "source": [
        "y_train_D3HSV = RGB_D3_concat1.iloc[:,14:15]"
      ],
      "metadata": {
        "id": "xT5X846Tx90Z"
      },
      "execution_count": 1162,
      "outputs": []
    },
    {
      "cell_type": "code",
      "source": [
        "y_train_D3_HSV = np.array(y_train_D3HSV)"
      ],
      "metadata": {
        "id": "cBdx2NTpx90Z"
      },
      "execution_count": 1163,
      "outputs": []
    },
    {
      "cell_type": "code",
      "source": [
        "clf.fit(X_train_D3_HSV, y_train_D3_HSV)"
      ],
      "metadata": {
        "colab": {
          "base_uri": "https://localhost:8080/"
        },
        "outputId": "9060eff9-4b1a-4169-b9cd-cacfca0ba55c",
        "id": "0ltb0Lesx90Z"
      },
      "execution_count": 1164,
      "outputs": [
        {
          "output_type": "stream",
          "name": "stderr",
          "text": [
            "/usr/local/lib/python3.7/dist-packages/ipykernel_launcher.py:1: DataConversionWarning: A column-vector y was passed when a 1d array was expected. Please change the shape of y to (n_samples,), for example using ravel().\n",
            "  \"\"\"Entry point for launching an IPython kernel.\n"
          ]
        },
        {
          "output_type": "execute_result",
          "data": {
            "text/plain": [
              "RandomForestClassifier()"
            ]
          },
          "metadata": {},
          "execution_count": 1164
        }
      ]
    },
    {
      "cell_type": "code",
      "source": [
        "y_pred_D3_HSV = clf.predict(X_test_D3_HSV)"
      ],
      "metadata": {
        "id": "wC9RHVBHx90Z"
      },
      "execution_count": 1165,
      "outputs": []
    },
    {
      "cell_type": "code",
      "source": [
        "print(\"Accuracy:\", metrics.accuracy_score(y_test_D3_HSV, y_pred_D3_HSV))"
      ],
      "metadata": {
        "colab": {
          "base_uri": "https://localhost:8080/"
        },
        "outputId": "3da8bed5-507f-418a-c032-6e76d5ca6890",
        "id": "EtzMQr1Rx90Z"
      },
      "execution_count": 1166,
      "outputs": [
        {
          "output_type": "stream",
          "name": "stdout",
          "text": [
            "Accuracy: 1.0\n"
          ]
        }
      ]
    },
    {
      "cell_type": "markdown",
      "source": [
        "##D4"
      ],
      "metadata": {
        "id": "WfcEm0A2x90Z"
      }
    },
    {
      "cell_type": "code",
      "source": [
        "table_D4Set1 = pd.read_excel(Set1 , sheet_name='D4Set1')\n",
        "table_D4Set1.head()"
      ],
      "metadata": {
        "colab": {
          "base_uri": "https://localhost:8080/",
          "height": 337
        },
        "outputId": "ae6ba839-a8d3-43ce-cae5-1a1d38dc8d01",
        "id": "mfacKr9gx90Z"
      },
      "execution_count": 1167,
      "outputs": [
        {
          "output_type": "execute_result",
          "data": {
            "text/html": [
              "\n",
              "  <div id=\"df-d78eeee6-b444-49db-9d3f-3ada15abccea\">\n",
              "    <div class=\"colab-df-container\">\n",
              "      <div>\n",
              "<style scoped>\n",
              "    .dataframe tbody tr th:only-of-type {\n",
              "        vertical-align: middle;\n",
              "    }\n",
              "\n",
              "    .dataframe tbody tr th {\n",
              "        vertical-align: top;\n",
              "    }\n",
              "\n",
              "    .dataframe thead th {\n",
              "        text-align: right;\n",
              "    }\n",
              "</style>\n",
              "<table border=\"1\" class=\"dataframe\">\n",
              "  <thead>\n",
              "    <tr style=\"text-align: right;\">\n",
              "      <th></th>\n",
              "      <th>R-ref</th>\n",
              "      <th>G-ref</th>\n",
              "      <th>B-ref</th>\n",
              "      <th>R-Shad</th>\n",
              "      <th>G-Shad</th>\n",
              "      <th>B-Shad</th>\n",
              "      <th>H-ref</th>\n",
              "      <th>S-ref</th>\n",
              "      <th>V-ref</th>\n",
              "      <th>H-Shad</th>\n",
              "      <th>S-Shad</th>\n",
              "      <th>V-Shad</th>\n",
              "      <th>Setting</th>\n",
              "      <th>Ref</th>\n",
              "      <th>Shad</th>\n",
              "      <th>Img</th>\n",
              "    </tr>\n",
              "  </thead>\n",
              "  <tbody>\n",
              "    <tr>\n",
              "      <th>0</th>\n",
              "      <td>238.088190</td>\n",
              "      <td>223.843531</td>\n",
              "      <td>187.885878</td>\n",
              "      <td>229.476972</td>\n",
              "      <td>213.117505</td>\n",
              "      <td>176.950422</td>\n",
              "      <td>20.651005</td>\n",
              "      <td>58.388472</td>\n",
              "      <td>229.476972</td>\n",
              "      <td>20.651005</td>\n",
              "      <td>58.388472</td>\n",
              "      <td>229.476972</td>\n",
              "      <td>Set1</td>\n",
              "      <td>D4</td>\n",
              "      <td>A1</td>\n",
              "      <td>D47BC759-4BF1-40D8-9D68-52766A1B3358.png</td>\n",
              "    </tr>\n",
              "    <tr>\n",
              "      <th>1</th>\n",
              "      <td>238.053030</td>\n",
              "      <td>223.947455</td>\n",
              "      <td>187.320804</td>\n",
              "      <td>229.499305</td>\n",
              "      <td>213.329534</td>\n",
              "      <td>176.495784</td>\n",
              "      <td>20.899361</td>\n",
              "      <td>58.910296</td>\n",
              "      <td>229.499305</td>\n",
              "      <td>20.899361</td>\n",
              "      <td>58.910296</td>\n",
              "      <td>229.499305</td>\n",
              "      <td>Set1</td>\n",
              "      <td>D4</td>\n",
              "      <td>A1</td>\n",
              "      <td>63D0E875-9DA6-4483-BB03-E54DC1E8BC87.png</td>\n",
              "    </tr>\n",
              "    <tr>\n",
              "      <th>2</th>\n",
              "      <td>233.654332</td>\n",
              "      <td>219.933955</td>\n",
              "      <td>183.887335</td>\n",
              "      <td>225.252989</td>\n",
              "      <td>209.770920</td>\n",
              "      <td>175.431193</td>\n",
              "      <td>20.495598</td>\n",
              "      <td>56.406542</td>\n",
              "      <td>225.252989</td>\n",
              "      <td>20.495598</td>\n",
              "      <td>56.406542</td>\n",
              "      <td>225.252989</td>\n",
              "      <td>Set1</td>\n",
              "      <td>D4</td>\n",
              "      <td>A1</td>\n",
              "      <td>779692A7-DE00-4434-843B-AEB78B8B0AF8.png</td>\n",
              "    </tr>\n",
              "    <tr>\n",
              "      <th>3</th>\n",
              "      <td>238.016026</td>\n",
              "      <td>223.854701</td>\n",
              "      <td>186.930070</td>\n",
              "      <td>229.572329</td>\n",
              "      <td>213.106941</td>\n",
              "      <td>176.397739</td>\n",
              "      <td>20.697340</td>\n",
              "      <td>59.068020</td>\n",
              "      <td>229.572329</td>\n",
              "      <td>20.697340</td>\n",
              "      <td>59.068020</td>\n",
              "      <td>229.572329</td>\n",
              "      <td>Set1</td>\n",
              "      <td>D4</td>\n",
              "      <td>A1</td>\n",
              "      <td>18456DEB-40B5-49F7-B753-562994BE1B43.png</td>\n",
              "    </tr>\n",
              "    <tr>\n",
              "      <th>4</th>\n",
              "      <td>238.780109</td>\n",
              "      <td>224.845183</td>\n",
              "      <td>188.688714</td>\n",
              "      <td>230.794922</td>\n",
              "      <td>214.496710</td>\n",
              "      <td>178.591697</td>\n",
              "      <td>20.598462</td>\n",
              "      <td>57.674173</td>\n",
              "      <td>230.794922</td>\n",
              "      <td>20.598462</td>\n",
              "      <td>57.674173</td>\n",
              "      <td>230.794922</td>\n",
              "      <td>Set1</td>\n",
              "      <td>D4</td>\n",
              "      <td>A1</td>\n",
              "      <td>72376331-D805-4BAC-AE50-7A04A6729880.png</td>\n",
              "    </tr>\n",
              "  </tbody>\n",
              "</table>\n",
              "</div>\n",
              "      <button class=\"colab-df-convert\" onclick=\"convertToInteractive('df-d78eeee6-b444-49db-9d3f-3ada15abccea')\"\n",
              "              title=\"Convert this dataframe to an interactive table.\"\n",
              "              style=\"display:none;\">\n",
              "        \n",
              "  <svg xmlns=\"http://www.w3.org/2000/svg\" height=\"24px\"viewBox=\"0 0 24 24\"\n",
              "       width=\"24px\">\n",
              "    <path d=\"M0 0h24v24H0V0z\" fill=\"none\"/>\n",
              "    <path d=\"M18.56 5.44l.94 2.06.94-2.06 2.06-.94-2.06-.94-.94-2.06-.94 2.06-2.06.94zm-11 1L8.5 8.5l.94-2.06 2.06-.94-2.06-.94L8.5 2.5l-.94 2.06-2.06.94zm10 10l.94 2.06.94-2.06 2.06-.94-2.06-.94-.94-2.06-.94 2.06-2.06.94z\"/><path d=\"M17.41 7.96l-1.37-1.37c-.4-.4-.92-.59-1.43-.59-.52 0-1.04.2-1.43.59L10.3 9.45l-7.72 7.72c-.78.78-.78 2.05 0 2.83L4 21.41c.39.39.9.59 1.41.59.51 0 1.02-.2 1.41-.59l7.78-7.78 2.81-2.81c.8-.78.8-2.07 0-2.86zM5.41 20L4 18.59l7.72-7.72 1.47 1.35L5.41 20z\"/>\n",
              "  </svg>\n",
              "      </button>\n",
              "      \n",
              "  <style>\n",
              "    .colab-df-container {\n",
              "      display:flex;\n",
              "      flex-wrap:wrap;\n",
              "      gap: 12px;\n",
              "    }\n",
              "\n",
              "    .colab-df-convert {\n",
              "      background-color: #E8F0FE;\n",
              "      border: none;\n",
              "      border-radius: 50%;\n",
              "      cursor: pointer;\n",
              "      display: none;\n",
              "      fill: #1967D2;\n",
              "      height: 32px;\n",
              "      padding: 0 0 0 0;\n",
              "      width: 32px;\n",
              "    }\n",
              "\n",
              "    .colab-df-convert:hover {\n",
              "      background-color: #E2EBFA;\n",
              "      box-shadow: 0px 1px 2px rgba(60, 64, 67, 0.3), 0px 1px 3px 1px rgba(60, 64, 67, 0.15);\n",
              "      fill: #174EA6;\n",
              "    }\n",
              "\n",
              "    [theme=dark] .colab-df-convert {\n",
              "      background-color: #3B4455;\n",
              "      fill: #D2E3FC;\n",
              "    }\n",
              "\n",
              "    [theme=dark] .colab-df-convert:hover {\n",
              "      background-color: #434B5C;\n",
              "      box-shadow: 0px 1px 3px 1px rgba(0, 0, 0, 0.15);\n",
              "      filter: drop-shadow(0px 1px 2px rgba(0, 0, 0, 0.3));\n",
              "      fill: #FFFFFF;\n",
              "    }\n",
              "  </style>\n",
              "\n",
              "      <script>\n",
              "        const buttonEl =\n",
              "          document.querySelector('#df-d78eeee6-b444-49db-9d3f-3ada15abccea button.colab-df-convert');\n",
              "        buttonEl.style.display =\n",
              "          google.colab.kernel.accessAllowed ? 'block' : 'none';\n",
              "\n",
              "        async function convertToInteractive(key) {\n",
              "          const element = document.querySelector('#df-d78eeee6-b444-49db-9d3f-3ada15abccea');\n",
              "          const dataTable =\n",
              "            await google.colab.kernel.invokeFunction('convertToInteractive',\n",
              "                                                     [key], {});\n",
              "          if (!dataTable) return;\n",
              "\n",
              "          const docLinkHtml = 'Like what you see? Visit the ' +\n",
              "            '<a target=\"_blank\" href=https://colab.research.google.com/notebooks/data_table.ipynb>data table notebook</a>'\n",
              "            + ' to learn more about interactive tables.';\n",
              "          element.innerHTML = '';\n",
              "          dataTable['output_type'] = 'display_data';\n",
              "          await google.colab.output.renderOutput(dataTable, element);\n",
              "          const docLink = document.createElement('div');\n",
              "          docLink.innerHTML = docLinkHtml;\n",
              "          element.appendChild(docLink);\n",
              "        }\n",
              "      </script>\n",
              "    </div>\n",
              "  </div>\n",
              "  "
            ],
            "text/plain": [
              "        R-ref       G-ref  ...  Shad                                       Img\n",
              "0  238.088190  223.843531  ...    A1  D47BC759-4BF1-40D8-9D68-52766A1B3358.png\n",
              "1  238.053030  223.947455  ...    A1  63D0E875-9DA6-4483-BB03-E54DC1E8BC87.png\n",
              "2  233.654332  219.933955  ...    A1  779692A7-DE00-4434-843B-AEB78B8B0AF8.png\n",
              "3  238.016026  223.854701  ...    A1  18456DEB-40B5-49F7-B753-562994BE1B43.png\n",
              "4  238.780109  224.845183  ...    A1  72376331-D805-4BAC-AE50-7A04A6729880.png\n",
              "\n",
              "[5 rows x 16 columns]"
            ]
          },
          "metadata": {},
          "execution_count": 1167
        }
      ]
    },
    {
      "cell_type": "code",
      "source": [
        "table_D4Set2 = pd.read_excel(Set2, sheet_name='D4Set2')\n",
        "table_D4Set2.head()"
      ],
      "metadata": {
        "colab": {
          "base_uri": "https://localhost:8080/",
          "height": 337
        },
        "outputId": "386b068b-37ff-4b7a-e449-0c00eda339a5",
        "id": "09mHRiKrx90Z"
      },
      "execution_count": 1168,
      "outputs": [
        {
          "output_type": "execute_result",
          "data": {
            "text/html": [
              "\n",
              "  <div id=\"df-c117bb46-cd40-4aba-8e01-500b50067588\">\n",
              "    <div class=\"colab-df-container\">\n",
              "      <div>\n",
              "<style scoped>\n",
              "    .dataframe tbody tr th:only-of-type {\n",
              "        vertical-align: middle;\n",
              "    }\n",
              "\n",
              "    .dataframe tbody tr th {\n",
              "        vertical-align: top;\n",
              "    }\n",
              "\n",
              "    .dataframe thead th {\n",
              "        text-align: right;\n",
              "    }\n",
              "</style>\n",
              "<table border=\"1\" class=\"dataframe\">\n",
              "  <thead>\n",
              "    <tr style=\"text-align: right;\">\n",
              "      <th></th>\n",
              "      <th>R-ref</th>\n",
              "      <th>G-ref</th>\n",
              "      <th>B-ref</th>\n",
              "      <th>R-Shad</th>\n",
              "      <th>G-Shad</th>\n",
              "      <th>B-Shad</th>\n",
              "      <th>H-ref</th>\n",
              "      <th>S-ref</th>\n",
              "      <th>V-ref</th>\n",
              "      <th>H-Shad</th>\n",
              "      <th>S-Shad</th>\n",
              "      <th>V-Shad</th>\n",
              "      <th>Setting</th>\n",
              "      <th>Ref</th>\n",
              "      <th>Shad</th>\n",
              "      <th>Img</th>\n",
              "    </tr>\n",
              "  </thead>\n",
              "  <tbody>\n",
              "    <tr>\n",
              "      <th>0</th>\n",
              "      <td>234.805556</td>\n",
              "      <td>220.733877</td>\n",
              "      <td>184.213578</td>\n",
              "      <td>227.281809</td>\n",
              "      <td>211.712909</td>\n",
              "      <td>176.783709</td>\n",
              "      <td>21.740385</td>\n",
              "      <td>55.012432</td>\n",
              "      <td>234.805556</td>\n",
              "      <td>20.657678</td>\n",
              "      <td>56.643129</td>\n",
              "      <td>227.281809</td>\n",
              "      <td>Set2</td>\n",
              "      <td>D4</td>\n",
              "      <td>A1</td>\n",
              "      <td>797683A5-C868-494F-A26C-B587A80C35FB.png</td>\n",
              "    </tr>\n",
              "    <tr>\n",
              "      <th>1</th>\n",
              "      <td>230.391123</td>\n",
              "      <td>217.092269</td>\n",
              "      <td>181.639860</td>\n",
              "      <td>222.406172</td>\n",
              "      <td>207.109258</td>\n",
              "      <td>173.314707</td>\n",
              "      <td>21.874320</td>\n",
              "      <td>54.037976</td>\n",
              "      <td>230.391123</td>\n",
              "      <td>20.457789</td>\n",
              "      <td>56.285979</td>\n",
              "      <td>222.406172</td>\n",
              "      <td>Set2</td>\n",
              "      <td>D4</td>\n",
              "      <td>A1</td>\n",
              "      <td>768E32A5-C3FF-468D-A2DA-784E5201EAB8.png</td>\n",
              "    </tr>\n",
              "    <tr>\n",
              "      <th>2</th>\n",
              "      <td>234.894037</td>\n",
              "      <td>220.797106</td>\n",
              "      <td>183.971348</td>\n",
              "      <td>227.456862</td>\n",
              "      <td>211.727736</td>\n",
              "      <td>176.572514</td>\n",
              "      <td>21.735431</td>\n",
              "      <td>55.370629</td>\n",
              "      <td>234.894037</td>\n",
              "      <td>20.716894</td>\n",
              "      <td>57.017329</td>\n",
              "      <td>227.456862</td>\n",
              "      <td>Set2</td>\n",
              "      <td>D4</td>\n",
              "      <td>A1</td>\n",
              "      <td>B16EC514-E307-4DF1-B38E-4D502BECAE1E.png</td>\n",
              "    </tr>\n",
              "    <tr>\n",
              "      <th>3</th>\n",
              "      <td>235.779332</td>\n",
              "      <td>221.742521</td>\n",
              "      <td>185.543318</td>\n",
              "      <td>228.642851</td>\n",
              "      <td>213.055973</td>\n",
              "      <td>178.657029</td>\n",
              "      <td>21.687743</td>\n",
              "      <td>54.375389</td>\n",
              "      <td>235.779332</td>\n",
              "      <td>20.527291</td>\n",
              "      <td>55.717450</td>\n",
              "      <td>228.642851</td>\n",
              "      <td>Set2</td>\n",
              "      <td>D4</td>\n",
              "      <td>A1</td>\n",
              "      <td>4B4FB3F9-B796-4241-8FE6-890C04EEBA34.png</td>\n",
              "    </tr>\n",
              "    <tr>\n",
              "      <th>4</th>\n",
              "      <td>235.799048</td>\n",
              "      <td>221.630439</td>\n",
              "      <td>185.561286</td>\n",
              "      <td>228.306366</td>\n",
              "      <td>212.605597</td>\n",
              "      <td>178.631545</td>\n",
              "      <td>21.649281</td>\n",
              "      <td>54.393162</td>\n",
              "      <td>235.799048</td>\n",
              "      <td>20.302196</td>\n",
              "      <td>55.450746</td>\n",
              "      <td>228.306366</td>\n",
              "      <td>Set2</td>\n",
              "      <td>D4</td>\n",
              "      <td>A1</td>\n",
              "      <td>D5FF5062-E4EF-473A-B716-33BA16B096B9.png</td>\n",
              "    </tr>\n",
              "  </tbody>\n",
              "</table>\n",
              "</div>\n",
              "      <button class=\"colab-df-convert\" onclick=\"convertToInteractive('df-c117bb46-cd40-4aba-8e01-500b50067588')\"\n",
              "              title=\"Convert this dataframe to an interactive table.\"\n",
              "              style=\"display:none;\">\n",
              "        \n",
              "  <svg xmlns=\"http://www.w3.org/2000/svg\" height=\"24px\"viewBox=\"0 0 24 24\"\n",
              "       width=\"24px\">\n",
              "    <path d=\"M0 0h24v24H0V0z\" fill=\"none\"/>\n",
              "    <path d=\"M18.56 5.44l.94 2.06.94-2.06 2.06-.94-2.06-.94-.94-2.06-.94 2.06-2.06.94zm-11 1L8.5 8.5l.94-2.06 2.06-.94-2.06-.94L8.5 2.5l-.94 2.06-2.06.94zm10 10l.94 2.06.94-2.06 2.06-.94-2.06-.94-.94-2.06-.94 2.06-2.06.94z\"/><path d=\"M17.41 7.96l-1.37-1.37c-.4-.4-.92-.59-1.43-.59-.52 0-1.04.2-1.43.59L10.3 9.45l-7.72 7.72c-.78.78-.78 2.05 0 2.83L4 21.41c.39.39.9.59 1.41.59.51 0 1.02-.2 1.41-.59l7.78-7.78 2.81-2.81c.8-.78.8-2.07 0-2.86zM5.41 20L4 18.59l7.72-7.72 1.47 1.35L5.41 20z\"/>\n",
              "  </svg>\n",
              "      </button>\n",
              "      \n",
              "  <style>\n",
              "    .colab-df-container {\n",
              "      display:flex;\n",
              "      flex-wrap:wrap;\n",
              "      gap: 12px;\n",
              "    }\n",
              "\n",
              "    .colab-df-convert {\n",
              "      background-color: #E8F0FE;\n",
              "      border: none;\n",
              "      border-radius: 50%;\n",
              "      cursor: pointer;\n",
              "      display: none;\n",
              "      fill: #1967D2;\n",
              "      height: 32px;\n",
              "      padding: 0 0 0 0;\n",
              "      width: 32px;\n",
              "    }\n",
              "\n",
              "    .colab-df-convert:hover {\n",
              "      background-color: #E2EBFA;\n",
              "      box-shadow: 0px 1px 2px rgba(60, 64, 67, 0.3), 0px 1px 3px 1px rgba(60, 64, 67, 0.15);\n",
              "      fill: #174EA6;\n",
              "    }\n",
              "\n",
              "    [theme=dark] .colab-df-convert {\n",
              "      background-color: #3B4455;\n",
              "      fill: #D2E3FC;\n",
              "    }\n",
              "\n",
              "    [theme=dark] .colab-df-convert:hover {\n",
              "      background-color: #434B5C;\n",
              "      box-shadow: 0px 1px 3px 1px rgba(0, 0, 0, 0.15);\n",
              "      filter: drop-shadow(0px 1px 2px rgba(0, 0, 0, 0.3));\n",
              "      fill: #FFFFFF;\n",
              "    }\n",
              "  </style>\n",
              "\n",
              "      <script>\n",
              "        const buttonEl =\n",
              "          document.querySelector('#df-c117bb46-cd40-4aba-8e01-500b50067588 button.colab-df-convert');\n",
              "        buttonEl.style.display =\n",
              "          google.colab.kernel.accessAllowed ? 'block' : 'none';\n",
              "\n",
              "        async function convertToInteractive(key) {\n",
              "          const element = document.querySelector('#df-c117bb46-cd40-4aba-8e01-500b50067588');\n",
              "          const dataTable =\n",
              "            await google.colab.kernel.invokeFunction('convertToInteractive',\n",
              "                                                     [key], {});\n",
              "          if (!dataTable) return;\n",
              "\n",
              "          const docLinkHtml = 'Like what you see? Visit the ' +\n",
              "            '<a target=\"_blank\" href=https://colab.research.google.com/notebooks/data_table.ipynb>data table notebook</a>'\n",
              "            + ' to learn more about interactive tables.';\n",
              "          element.innerHTML = '';\n",
              "          dataTable['output_type'] = 'display_data';\n",
              "          await google.colab.output.renderOutput(dataTable, element);\n",
              "          const docLink = document.createElement('div');\n",
              "          docLink.innerHTML = docLinkHtml;\n",
              "          element.appendChild(docLink);\n",
              "        }\n",
              "      </script>\n",
              "    </div>\n",
              "  </div>\n",
              "  "
            ],
            "text/plain": [
              "        R-ref       G-ref  ...  Shad                                       Img\n",
              "0  234.805556  220.733877  ...    A1  797683A5-C868-494F-A26C-B587A80C35FB.png\n",
              "1  230.391123  217.092269  ...    A1  768E32A5-C3FF-468D-A2DA-784E5201EAB8.png\n",
              "2  234.894037  220.797106  ...    A1  B16EC514-E307-4DF1-B38E-4D502BECAE1E.png\n",
              "3  235.779332  221.742521  ...    A1  4B4FB3F9-B796-4241-8FE6-890C04EEBA34.png\n",
              "4  235.799048  221.630439  ...    A1  D5FF5062-E4EF-473A-B716-33BA16B096B9.png\n",
              "\n",
              "[5 rows x 16 columns]"
            ]
          },
          "metadata": {},
          "execution_count": 1168
        }
      ]
    },
    {
      "cell_type": "code",
      "source": [
        "table_D4Set3 = pd.read_excel(Set3, sheet_name='D4Set3 ')\n",
        "table_D4Set3.head()"
      ],
      "metadata": {
        "colab": {
          "base_uri": "https://localhost:8080/",
          "height": 337
        },
        "outputId": "4298fe1c-5bb8-49c4-c65d-036c9ad63995",
        "id": "wGHz_op9x90Z"
      },
      "execution_count": 1169,
      "outputs": [
        {
          "output_type": "execute_result",
          "data": {
            "text/html": [
              "\n",
              "  <div id=\"df-45e18079-180f-4365-a14a-9dd7b58c9616\">\n",
              "    <div class=\"colab-df-container\">\n",
              "      <div>\n",
              "<style scoped>\n",
              "    .dataframe tbody tr th:only-of-type {\n",
              "        vertical-align: middle;\n",
              "    }\n",
              "\n",
              "    .dataframe tbody tr th {\n",
              "        vertical-align: top;\n",
              "    }\n",
              "\n",
              "    .dataframe thead th {\n",
              "        text-align: right;\n",
              "    }\n",
              "</style>\n",
              "<table border=\"1\" class=\"dataframe\">\n",
              "  <thead>\n",
              "    <tr style=\"text-align: right;\">\n",
              "      <th></th>\n",
              "      <th>R-ref</th>\n",
              "      <th>G-ref</th>\n",
              "      <th>B-ref</th>\n",
              "      <th>R-Shad</th>\n",
              "      <th>G-Shad</th>\n",
              "      <th>B-Shad</th>\n",
              "      <th>H-ref</th>\n",
              "      <th>S-ref</th>\n",
              "      <th>V-ref</th>\n",
              "      <th>H-Shad</th>\n",
              "      <th>S-Shad</th>\n",
              "      <th>V-Shad</th>\n",
              "      <th>Setting</th>\n",
              "      <th>Ref</th>\n",
              "      <th>Shad</th>\n",
              "      <th>Img</th>\n",
              "    </tr>\n",
              "  </thead>\n",
              "  <tbody>\n",
              "    <tr>\n",
              "      <th>0</th>\n",
              "      <td>233.496795</td>\n",
              "      <td>219.459984</td>\n",
              "      <td>183.541861</td>\n",
              "      <td>226.103698</td>\n",
              "      <td>210.819850</td>\n",
              "      <td>176.733852</td>\n",
              "      <td>21.614122</td>\n",
              "      <td>54.612082</td>\n",
              "      <td>233.496795</td>\n",
              "      <td>20.574275</td>\n",
              "      <td>55.678528</td>\n",
              "      <td>226.103698</td>\n",
              "      <td>Set3</td>\n",
              "      <td>D4</td>\n",
              "      <td>A1</td>\n",
              "      <td>3A5F6D09-99D2-4DEF-A84E-1C755C8C0F51.png</td>\n",
              "    </tr>\n",
              "    <tr>\n",
              "      <th>1</th>\n",
              "      <td>233.355381</td>\n",
              "      <td>219.439880</td>\n",
              "      <td>183.049242</td>\n",
              "      <td>226.136225</td>\n",
              "      <td>210.611621</td>\n",
              "      <td>176.276619</td>\n",
              "      <td>21.770688</td>\n",
              "      <td>55.038073</td>\n",
              "      <td>233.355381</td>\n",
              "      <td>20.556946</td>\n",
              "      <td>56.211195</td>\n",
              "      <td>226.136225</td>\n",
              "      <td>Set3</td>\n",
              "      <td>D4</td>\n",
              "      <td>A1</td>\n",
              "      <td>6CE1839C-EF38-4BF3-9001-31D2061BB09F.png</td>\n",
              "    </tr>\n",
              "    <tr>\n",
              "      <th>2</th>\n",
              "      <td>228.504662</td>\n",
              "      <td>215.655983</td>\n",
              "      <td>181.190171</td>\n",
              "      <td>220.799092</td>\n",
              "      <td>205.492077</td>\n",
              "      <td>172.120749</td>\n",
              "      <td>21.929779</td>\n",
              "      <td>52.862374</td>\n",
              "      <td>228.504662</td>\n",
              "      <td>20.366416</td>\n",
              "      <td>56.219998</td>\n",
              "      <td>220.799092</td>\n",
              "      <td>Set3</td>\n",
              "      <td>D4</td>\n",
              "      <td>A1</td>\n",
              "      <td>B319E47C-7852-49A4-B164-3542207CFA46.png</td>\n",
              "    </tr>\n",
              "    <tr>\n",
              "      <th>3</th>\n",
              "      <td>233.467172</td>\n",
              "      <td>219.479118</td>\n",
              "      <td>182.892580</td>\n",
              "      <td>226.386711</td>\n",
              "      <td>210.920397</td>\n",
              "      <td>176.047818</td>\n",
              "      <td>21.751943</td>\n",
              "      <td>55.308761</td>\n",
              "      <td>233.467172</td>\n",
              "      <td>20.750811</td>\n",
              "      <td>56.671764</td>\n",
              "      <td>226.386711</td>\n",
              "      <td>Set3</td>\n",
              "      <td>D4</td>\n",
              "      <td>A1</td>\n",
              "      <td>EF20FEEB-0DB3-44BF-9EDC-D5125F2B28F5.png</td>\n",
              "    </tr>\n",
              "    <tr>\n",
              "      <th>4</th>\n",
              "      <td>234.509615</td>\n",
              "      <td>220.490385</td>\n",
              "      <td>184.508256</td>\n",
              "      <td>227.663423</td>\n",
              "      <td>212.284033</td>\n",
              "      <td>178.291261</td>\n",
              "      <td>21.661131</td>\n",
              "      <td>54.405206</td>\n",
              "      <td>234.509615</td>\n",
              "      <td>20.525438</td>\n",
              "      <td>55.283848</td>\n",
              "      <td>227.663423</td>\n",
              "      <td>Set3</td>\n",
              "      <td>D4</td>\n",
              "      <td>A1</td>\n",
              "      <td>1DEB6322-D495-4E37-AFC9-1FD3EE0103A4.png</td>\n",
              "    </tr>\n",
              "  </tbody>\n",
              "</table>\n",
              "</div>\n",
              "      <button class=\"colab-df-convert\" onclick=\"convertToInteractive('df-45e18079-180f-4365-a14a-9dd7b58c9616')\"\n",
              "              title=\"Convert this dataframe to an interactive table.\"\n",
              "              style=\"display:none;\">\n",
              "        \n",
              "  <svg xmlns=\"http://www.w3.org/2000/svg\" height=\"24px\"viewBox=\"0 0 24 24\"\n",
              "       width=\"24px\">\n",
              "    <path d=\"M0 0h24v24H0V0z\" fill=\"none\"/>\n",
              "    <path d=\"M18.56 5.44l.94 2.06.94-2.06 2.06-.94-2.06-.94-.94-2.06-.94 2.06-2.06.94zm-11 1L8.5 8.5l.94-2.06 2.06-.94-2.06-.94L8.5 2.5l-.94 2.06-2.06.94zm10 10l.94 2.06.94-2.06 2.06-.94-2.06-.94-.94-2.06-.94 2.06-2.06.94z\"/><path d=\"M17.41 7.96l-1.37-1.37c-.4-.4-.92-.59-1.43-.59-.52 0-1.04.2-1.43.59L10.3 9.45l-7.72 7.72c-.78.78-.78 2.05 0 2.83L4 21.41c.39.39.9.59 1.41.59.51 0 1.02-.2 1.41-.59l7.78-7.78 2.81-2.81c.8-.78.8-2.07 0-2.86zM5.41 20L4 18.59l7.72-7.72 1.47 1.35L5.41 20z\"/>\n",
              "  </svg>\n",
              "      </button>\n",
              "      \n",
              "  <style>\n",
              "    .colab-df-container {\n",
              "      display:flex;\n",
              "      flex-wrap:wrap;\n",
              "      gap: 12px;\n",
              "    }\n",
              "\n",
              "    .colab-df-convert {\n",
              "      background-color: #E8F0FE;\n",
              "      border: none;\n",
              "      border-radius: 50%;\n",
              "      cursor: pointer;\n",
              "      display: none;\n",
              "      fill: #1967D2;\n",
              "      height: 32px;\n",
              "      padding: 0 0 0 0;\n",
              "      width: 32px;\n",
              "    }\n",
              "\n",
              "    .colab-df-convert:hover {\n",
              "      background-color: #E2EBFA;\n",
              "      box-shadow: 0px 1px 2px rgba(60, 64, 67, 0.3), 0px 1px 3px 1px rgba(60, 64, 67, 0.15);\n",
              "      fill: #174EA6;\n",
              "    }\n",
              "\n",
              "    [theme=dark] .colab-df-convert {\n",
              "      background-color: #3B4455;\n",
              "      fill: #D2E3FC;\n",
              "    }\n",
              "\n",
              "    [theme=dark] .colab-df-convert:hover {\n",
              "      background-color: #434B5C;\n",
              "      box-shadow: 0px 1px 3px 1px rgba(0, 0, 0, 0.15);\n",
              "      filter: drop-shadow(0px 1px 2px rgba(0, 0, 0, 0.3));\n",
              "      fill: #FFFFFF;\n",
              "    }\n",
              "  </style>\n",
              "\n",
              "      <script>\n",
              "        const buttonEl =\n",
              "          document.querySelector('#df-45e18079-180f-4365-a14a-9dd7b58c9616 button.colab-df-convert');\n",
              "        buttonEl.style.display =\n",
              "          google.colab.kernel.accessAllowed ? 'block' : 'none';\n",
              "\n",
              "        async function convertToInteractive(key) {\n",
              "          const element = document.querySelector('#df-45e18079-180f-4365-a14a-9dd7b58c9616');\n",
              "          const dataTable =\n",
              "            await google.colab.kernel.invokeFunction('convertToInteractive',\n",
              "                                                     [key], {});\n",
              "          if (!dataTable) return;\n",
              "\n",
              "          const docLinkHtml = 'Like what you see? Visit the ' +\n",
              "            '<a target=\"_blank\" href=https://colab.research.google.com/notebooks/data_table.ipynb>data table notebook</a>'\n",
              "            + ' to learn more about interactive tables.';\n",
              "          element.innerHTML = '';\n",
              "          dataTable['output_type'] = 'display_data';\n",
              "          await google.colab.output.renderOutput(dataTable, element);\n",
              "          const docLink = document.createElement('div');\n",
              "          docLink.innerHTML = docLinkHtml;\n",
              "          element.appendChild(docLink);\n",
              "        }\n",
              "      </script>\n",
              "    </div>\n",
              "  </div>\n",
              "  "
            ],
            "text/plain": [
              "        R-ref       G-ref  ...  Shad                                       Img\n",
              "0  233.496795  219.459984  ...    A1  3A5F6D09-99D2-4DEF-A84E-1C755C8C0F51.png\n",
              "1  233.355381  219.439880  ...    A1  6CE1839C-EF38-4BF3-9001-31D2061BB09F.png\n",
              "2  228.504662  215.655983  ...    A1  B319E47C-7852-49A4-B164-3542207CFA46.png\n",
              "3  233.467172  219.479118  ...    A1  EF20FEEB-0DB3-44BF-9EDC-D5125F2B28F5.png\n",
              "4  234.509615  220.490385  ...    A1  1DEB6322-D495-4E37-AFC9-1FD3EE0103A4.png\n",
              "\n",
              "[5 rows x 16 columns]"
            ]
          },
          "metadata": {},
          "execution_count": 1169
        }
      ]
    },
    {
      "cell_type": "code",
      "source": [
        "table_D4Set4 = pd.read_excel(Set4, sheet_name='D4Set4')\n",
        "table_D4Set4.head()"
      ],
      "metadata": {
        "colab": {
          "base_uri": "https://localhost:8080/",
          "height": 337
        },
        "outputId": "18a04480-c047-4726-b612-357dc10f4459",
        "id": "nlJxBhXPx90a"
      },
      "execution_count": 1170,
      "outputs": [
        {
          "output_type": "execute_result",
          "data": {
            "text/html": [
              "\n",
              "  <div id=\"df-68566ee3-9278-442a-b874-28d9914c5b8d\">\n",
              "    <div class=\"colab-df-container\">\n",
              "      <div>\n",
              "<style scoped>\n",
              "    .dataframe tbody tr th:only-of-type {\n",
              "        vertical-align: middle;\n",
              "    }\n",
              "\n",
              "    .dataframe tbody tr th {\n",
              "        vertical-align: top;\n",
              "    }\n",
              "\n",
              "    .dataframe thead th {\n",
              "        text-align: right;\n",
              "    }\n",
              "</style>\n",
              "<table border=\"1\" class=\"dataframe\">\n",
              "  <thead>\n",
              "    <tr style=\"text-align: right;\">\n",
              "      <th></th>\n",
              "      <th>R-ref</th>\n",
              "      <th>G-ref</th>\n",
              "      <th>B-ref</th>\n",
              "      <th>R-Shad</th>\n",
              "      <th>G-Shad</th>\n",
              "      <th>B-Shad</th>\n",
              "      <th>H-ref</th>\n",
              "      <th>S-ref</th>\n",
              "      <th>V-ref</th>\n",
              "      <th>H-Shad</th>\n",
              "      <th>S-Shad</th>\n",
              "      <th>V-Shad</th>\n",
              "      <th>Setting</th>\n",
              "      <th>Ref</th>\n",
              "      <th>Shad</th>\n",
              "      <th>Img</th>\n",
              "    </tr>\n",
              "  </thead>\n",
              "  <tbody>\n",
              "    <tr>\n",
              "      <th>0</th>\n",
              "      <td>240.090618</td>\n",
              "      <td>212.450078</td>\n",
              "      <td>156.215812</td>\n",
              "      <td>232.657585</td>\n",
              "      <td>216.792976</td>\n",
              "      <td>183.388472</td>\n",
              "      <td>20.198135</td>\n",
              "      <td>89.199592</td>\n",
              "      <td>240.090618</td>\n",
              "      <td>20.163748</td>\n",
              "      <td>53.978779</td>\n",
              "      <td>232.657585</td>\n",
              "      <td>Set4</td>\n",
              "      <td>D4</td>\n",
              "      <td>A1</td>\n",
              "      <td>C5F56A54-2D34-4B30-986F-F5C15CDF3EC4.png</td>\n",
              "    </tr>\n",
              "    <tr>\n",
              "      <th>1</th>\n",
              "      <td>236.429487</td>\n",
              "      <td>207.597222</td>\n",
              "      <td>150.030109</td>\n",
              "      <td>228.071356</td>\n",
              "      <td>212.864887</td>\n",
              "      <td>180.106941</td>\n",
              "      <td>20.007382</td>\n",
              "      <td>93.293026</td>\n",
              "      <td>236.429487</td>\n",
              "      <td>20.478825</td>\n",
              "      <td>53.659716</td>\n",
              "      <td>228.071356</td>\n",
              "      <td>Set4</td>\n",
              "      <td>D4</td>\n",
              "      <td>A1</td>\n",
              "      <td>E1E6AA11-2B77-40D9-A177-059926CC439D.png</td>\n",
              "    </tr>\n",
              "    <tr>\n",
              "      <th>2</th>\n",
              "      <td>240.356449</td>\n",
              "      <td>212.529138</td>\n",
              "      <td>156.919386</td>\n",
              "      <td>233.046520</td>\n",
              "      <td>217.140209</td>\n",
              "      <td>183.855157</td>\n",
              "      <td>19.998252</td>\n",
              "      <td>88.631799</td>\n",
              "      <td>240.356449</td>\n",
              "      <td>20.116579</td>\n",
              "      <td>53.808915</td>\n",
              "      <td>233.046520</td>\n",
              "      <td>Set4</td>\n",
              "      <td>D4</td>\n",
              "      <td>A1</td>\n",
              "      <td>74A96958-C7AA-4963-AA46-D100224ADF7D.png</td>\n",
              "    </tr>\n",
              "    <tr>\n",
              "      <th>3</th>\n",
              "      <td>239.986791</td>\n",
              "      <td>212.474650</td>\n",
              "      <td>156.580614</td>\n",
              "      <td>232.418312</td>\n",
              "      <td>216.414327</td>\n",
              "      <td>182.585488</td>\n",
              "      <td>20.162199</td>\n",
              "      <td>88.758838</td>\n",
              "      <td>239.986791</td>\n",
              "      <td>20.272727</td>\n",
              "      <td>54.674173</td>\n",
              "      <td>232.418312</td>\n",
              "      <td>Set4</td>\n",
              "      <td>D4</td>\n",
              "      <td>A1</td>\n",
              "      <td>CA71D6C8-B603-4820-8CBF-DE4735A760F9.png</td>\n",
              "    </tr>\n",
              "    <tr>\n",
              "      <th>4</th>\n",
              "      <td>237.050699</td>\n",
              "      <td>208.271465</td>\n",
              "      <td>154.064394</td>\n",
              "      <td>237.512927</td>\n",
              "      <td>219.507553</td>\n",
              "      <td>184.548883</td>\n",
              "      <td>19.610820</td>\n",
              "      <td>89.349553</td>\n",
              "      <td>237.050699</td>\n",
              "      <td>19.673246</td>\n",
              "      <td>56.847651</td>\n",
              "      <td>237.512927</td>\n",
              "      <td>Set4</td>\n",
              "      <td>D4</td>\n",
              "      <td>A1</td>\n",
              "      <td>DC8E94B0-D1C9-4C1B-910E-4CDC0E62706B.png</td>\n",
              "    </tr>\n",
              "  </tbody>\n",
              "</table>\n",
              "</div>\n",
              "      <button class=\"colab-df-convert\" onclick=\"convertToInteractive('df-68566ee3-9278-442a-b874-28d9914c5b8d')\"\n",
              "              title=\"Convert this dataframe to an interactive table.\"\n",
              "              style=\"display:none;\">\n",
              "        \n",
              "  <svg xmlns=\"http://www.w3.org/2000/svg\" height=\"24px\"viewBox=\"0 0 24 24\"\n",
              "       width=\"24px\">\n",
              "    <path d=\"M0 0h24v24H0V0z\" fill=\"none\"/>\n",
              "    <path d=\"M18.56 5.44l.94 2.06.94-2.06 2.06-.94-2.06-.94-.94-2.06-.94 2.06-2.06.94zm-11 1L8.5 8.5l.94-2.06 2.06-.94-2.06-.94L8.5 2.5l-.94 2.06-2.06.94zm10 10l.94 2.06.94-2.06 2.06-.94-2.06-.94-.94-2.06-.94 2.06-2.06.94z\"/><path d=\"M17.41 7.96l-1.37-1.37c-.4-.4-.92-.59-1.43-.59-.52 0-1.04.2-1.43.59L10.3 9.45l-7.72 7.72c-.78.78-.78 2.05 0 2.83L4 21.41c.39.39.9.59 1.41.59.51 0 1.02-.2 1.41-.59l7.78-7.78 2.81-2.81c.8-.78.8-2.07 0-2.86zM5.41 20L4 18.59l7.72-7.72 1.47 1.35L5.41 20z\"/>\n",
              "  </svg>\n",
              "      </button>\n",
              "      \n",
              "  <style>\n",
              "    .colab-df-container {\n",
              "      display:flex;\n",
              "      flex-wrap:wrap;\n",
              "      gap: 12px;\n",
              "    }\n",
              "\n",
              "    .colab-df-convert {\n",
              "      background-color: #E8F0FE;\n",
              "      border: none;\n",
              "      border-radius: 50%;\n",
              "      cursor: pointer;\n",
              "      display: none;\n",
              "      fill: #1967D2;\n",
              "      height: 32px;\n",
              "      padding: 0 0 0 0;\n",
              "      width: 32px;\n",
              "    }\n",
              "\n",
              "    .colab-df-convert:hover {\n",
              "      background-color: #E2EBFA;\n",
              "      box-shadow: 0px 1px 2px rgba(60, 64, 67, 0.3), 0px 1px 3px 1px rgba(60, 64, 67, 0.15);\n",
              "      fill: #174EA6;\n",
              "    }\n",
              "\n",
              "    [theme=dark] .colab-df-convert {\n",
              "      background-color: #3B4455;\n",
              "      fill: #D2E3FC;\n",
              "    }\n",
              "\n",
              "    [theme=dark] .colab-df-convert:hover {\n",
              "      background-color: #434B5C;\n",
              "      box-shadow: 0px 1px 3px 1px rgba(0, 0, 0, 0.15);\n",
              "      filter: drop-shadow(0px 1px 2px rgba(0, 0, 0, 0.3));\n",
              "      fill: #FFFFFF;\n",
              "    }\n",
              "  </style>\n",
              "\n",
              "      <script>\n",
              "        const buttonEl =\n",
              "          document.querySelector('#df-68566ee3-9278-442a-b874-28d9914c5b8d button.colab-df-convert');\n",
              "        buttonEl.style.display =\n",
              "          google.colab.kernel.accessAllowed ? 'block' : 'none';\n",
              "\n",
              "        async function convertToInteractive(key) {\n",
              "          const element = document.querySelector('#df-68566ee3-9278-442a-b874-28d9914c5b8d');\n",
              "          const dataTable =\n",
              "            await google.colab.kernel.invokeFunction('convertToInteractive',\n",
              "                                                     [key], {});\n",
              "          if (!dataTable) return;\n",
              "\n",
              "          const docLinkHtml = 'Like what you see? Visit the ' +\n",
              "            '<a target=\"_blank\" href=https://colab.research.google.com/notebooks/data_table.ipynb>data table notebook</a>'\n",
              "            + ' to learn more about interactive tables.';\n",
              "          element.innerHTML = '';\n",
              "          dataTable['output_type'] = 'display_data';\n",
              "          await google.colab.output.renderOutput(dataTable, element);\n",
              "          const docLink = document.createElement('div');\n",
              "          docLink.innerHTML = docLinkHtml;\n",
              "          element.appendChild(docLink);\n",
              "        }\n",
              "      </script>\n",
              "    </div>\n",
              "  </div>\n",
              "  "
            ],
            "text/plain": [
              "        R-ref       G-ref  ...  Shad                                       Img\n",
              "0  240.090618  212.450078  ...    A1  C5F56A54-2D34-4B30-986F-F5C15CDF3EC4.png\n",
              "1  236.429487  207.597222  ...    A1  E1E6AA11-2B77-40D9-A177-059926CC439D.png\n",
              "2  240.356449  212.529138  ...    A1  74A96958-C7AA-4963-AA46-D100224ADF7D.png\n",
              "3  239.986791  212.474650  ...    A1  CA71D6C8-B603-4820-8CBF-DE4735A760F9.png\n",
              "4  237.050699  208.271465  ...    A1  DC8E94B0-D1C9-4C1B-910E-4CDC0E62706B.png\n",
              "\n",
              "[5 rows x 16 columns]"
            ]
          },
          "metadata": {},
          "execution_count": 1170
        }
      ]
    },
    {
      "cell_type": "markdown",
      "source": [
        "###RGB"
      ],
      "metadata": {
        "id": "OkOW14TRx90a"
      }
    },
    {
      "cell_type": "code",
      "source": [
        "RGB_D4_Set1 = table_D4Set1.drop(['H-ref','S-ref','V-ref','H-Shad','S-Shad','V-Shad','Setting','Ref','Shad','Img'], axis=1)"
      ],
      "metadata": {
        "id": "UZGgIrXtx90a"
      },
      "execution_count": 1200,
      "outputs": []
    },
    {
      "cell_type": "code",
      "source": [
        "RGB_D4_Set2 = table_D4Set2"
      ],
      "metadata": {
        "id": "Db0M9HHEx90a"
      },
      "execution_count": 1201,
      "outputs": []
    },
    {
      "cell_type": "code",
      "source": [
        "RGB_D4_Set3 = table_D4Set3"
      ],
      "metadata": {
        "id": "SyVpwoT-x90a"
      },
      "execution_count": 1202,
      "outputs": []
    },
    {
      "cell_type": "code",
      "source": [
        "RGB_D4_Set4 = table_D4Set4"
      ],
      "metadata": {
        "id": "A6I95Qk3x90a"
      },
      "execution_count": 1203,
      "outputs": []
    },
    {
      "cell_type": "code",
      "source": [
        "RGB_D4_concat0 = pd.concat([RGB_D4_Set2,RGB_D4_Set3])"
      ],
      "metadata": {
        "id": "_Zy03uozx90a"
      },
      "execution_count": 1204,
      "outputs": []
    },
    {
      "cell_type": "code",
      "source": [
        "RGB_D4_concat1 = pd.concat([RGB_D4_concat0,RGB_D4_Set4])"
      ],
      "metadata": {
        "id": "obxDRqaTx90a"
      },
      "execution_count": 1205,
      "outputs": []
    },
    {
      "cell_type": "code",
      "source": [
        "RGB_D4_concat2 = RGB_D4_concat1.drop(['H-ref','S-ref','V-ref','H-Shad','S-Shad','V-Shad','Setting','Ref','Shad','Img'], axis=1)"
      ],
      "metadata": {
        "id": "Qr0VCTbfx90a"
      },
      "execution_count": 1206,
      "outputs": []
    },
    {
      "cell_type": "code",
      "source": [
        "X_test_D4_RGB = np.array(RGB_D4_Set1)"
      ],
      "metadata": {
        "id": "qiwNlZdnx90a"
      },
      "execution_count": 1207,
      "outputs": []
    },
    {
      "cell_type": "code",
      "source": [
        "y_D4_RGB =  table_D4Set1.iloc[:,14:15]"
      ],
      "metadata": {
        "id": "w_mnKAYqx90b"
      },
      "execution_count": 1208,
      "outputs": []
    },
    {
      "cell_type": "code",
      "source": [
        "y_test_D4_RGB = np.array(y_D4_RGB)"
      ],
      "metadata": {
        "id": "UsLaGos7x90b"
      },
      "execution_count": 1209,
      "outputs": []
    },
    {
      "cell_type": "code",
      "source": [
        "X_train_D4_RGB = np.array(RGB_D4_concat2)"
      ],
      "metadata": {
        "id": "Oc2f1-qOx90b"
      },
      "execution_count": 1210,
      "outputs": []
    },
    {
      "cell_type": "code",
      "source": [
        "y_train_D4RGB = RGB_D4_concat1.iloc[:,14:15]"
      ],
      "metadata": {
        "id": "e8HcPMlLx90b"
      },
      "execution_count": 1211,
      "outputs": []
    },
    {
      "cell_type": "code",
      "source": [
        "y_train_D4_RGB = np.array(y_train_D4RGB)"
      ],
      "metadata": {
        "id": "UYIfmfsqx90b"
      },
      "execution_count": 1212,
      "outputs": []
    },
    {
      "cell_type": "code",
      "source": [
        "clf.fit(X_train_D4_RGB, y_train_D4_RGB)"
      ],
      "metadata": {
        "colab": {
          "base_uri": "https://localhost:8080/"
        },
        "outputId": "d24a39aa-5bcb-461a-9216-b9ae7b29bf10",
        "id": "RNdH-4qhx90b"
      },
      "execution_count": 1213,
      "outputs": [
        {
          "output_type": "stream",
          "name": "stderr",
          "text": [
            "/usr/local/lib/python3.7/dist-packages/ipykernel_launcher.py:1: DataConversionWarning: A column-vector y was passed when a 1d array was expected. Please change the shape of y to (n_samples,), for example using ravel().\n",
            "  \"\"\"Entry point for launching an IPython kernel.\n"
          ]
        },
        {
          "output_type": "execute_result",
          "data": {
            "text/plain": [
              "RandomForestClassifier()"
            ]
          },
          "metadata": {},
          "execution_count": 1213
        }
      ]
    },
    {
      "cell_type": "code",
      "source": [
        "y_pred_D4_RGB = clf.predict(X_test_D4_RGB)"
      ],
      "metadata": {
        "id": "SJT4eRs7x90b"
      },
      "execution_count": 1214,
      "outputs": []
    },
    {
      "cell_type": "code",
      "source": [
        "print(\"Accuracy:\", metrics.accuracy_score(y_test_D4_RGB, y_pred_D4_RGB))"
      ],
      "metadata": {
        "colab": {
          "base_uri": "https://localhost:8080/"
        },
        "outputId": "67baaf6f-9ff5-412a-c775-da7e4390651f",
        "id": "oRxmkGWix90b"
      },
      "execution_count": 1215,
      "outputs": [
        {
          "output_type": "stream",
          "name": "stdout",
          "text": [
            "Accuracy: 0.9813664596273292\n"
          ]
        }
      ]
    },
    {
      "cell_type": "markdown",
      "source": [
        "###HSV"
      ],
      "metadata": {
        "id": "0VkgTMm7x90b"
      }
    },
    {
      "cell_type": "code",
      "source": [
        "HSV_D4_Set1 = table_D4Set1.drop(['R-ref','G-ref','B-ref','R-Shad','G-Shad','B-Shad','Setting','Ref','Shad','Img'], axis=1)"
      ],
      "metadata": {
        "id": "tKD0r_mJx90b"
      },
      "execution_count": 1216,
      "outputs": []
    },
    {
      "cell_type": "code",
      "source": [
        "HSV_D4_concat2 = RGB_D4_concat1.drop(['R-ref','G-ref','B-ref','R-Shad','G-Shad','B-Shad','Setting','Ref','Shad','Img'], axis=1)"
      ],
      "metadata": {
        "id": "KVO7778mx90b"
      },
      "execution_count": 1217,
      "outputs": []
    },
    {
      "cell_type": "code",
      "source": [
        "X_test_D4_HSV = np.array(HSV_D4_Set1)"
      ],
      "metadata": {
        "id": "MaqD7Q0Mx90c"
      },
      "execution_count": 1218,
      "outputs": []
    },
    {
      "cell_type": "code",
      "source": [
        "y_D4_HSV =  table_D4Set1.iloc[:,14:15]"
      ],
      "metadata": {
        "id": "dlMZ82Gux90c"
      },
      "execution_count": 1219,
      "outputs": []
    },
    {
      "cell_type": "code",
      "source": [
        "y_test_D4_HSV = np.array(y_D4_RGB)"
      ],
      "metadata": {
        "id": "eDET1Ylwx90c"
      },
      "execution_count": 1220,
      "outputs": []
    },
    {
      "cell_type": "code",
      "source": [
        "X_train_D4_HSV = np.array(HSV_D4_concat2)"
      ],
      "metadata": {
        "id": "0z1Zhgkyx90c"
      },
      "execution_count": 1221,
      "outputs": []
    },
    {
      "cell_type": "code",
      "source": [
        "y_train_D4HSV = RGB_D4_concat1.iloc[:,14:15]"
      ],
      "metadata": {
        "id": "DJhfv_Xyx90c"
      },
      "execution_count": 1222,
      "outputs": []
    },
    {
      "cell_type": "code",
      "source": [
        "y_train_D4_HSV = np.array(y_train_D4HSV)"
      ],
      "metadata": {
        "id": "cTxbTKbFx90c"
      },
      "execution_count": 1223,
      "outputs": []
    },
    {
      "cell_type": "code",
      "source": [
        "clf.fit(X_train_D4_HSV, y_train_D4_HSV)"
      ],
      "metadata": {
        "colab": {
          "base_uri": "https://localhost:8080/"
        },
        "outputId": "a4effe68-7ee5-45d3-b14b-52abc1482495",
        "id": "fzoR8Swyx90c"
      },
      "execution_count": 1224,
      "outputs": [
        {
          "output_type": "stream",
          "name": "stderr",
          "text": [
            "/usr/local/lib/python3.7/dist-packages/ipykernel_launcher.py:1: DataConversionWarning: A column-vector y was passed when a 1d array was expected. Please change the shape of y to (n_samples,), for example using ravel().\n",
            "  \"\"\"Entry point for launching an IPython kernel.\n"
          ]
        },
        {
          "output_type": "execute_result",
          "data": {
            "text/plain": [
              "RandomForestClassifier()"
            ]
          },
          "metadata": {},
          "execution_count": 1224
        }
      ]
    },
    {
      "cell_type": "code",
      "source": [
        "y_pred_D4_HSV = clf.predict(X_test_D4_HSV)"
      ],
      "metadata": {
        "id": "3u_OvejMx90c"
      },
      "execution_count": 1225,
      "outputs": []
    },
    {
      "cell_type": "code",
      "source": [
        "print(\"Accuracy:\", metrics.accuracy_score(y_test_D4_HSV, y_pred_D4_HSV))"
      ],
      "metadata": {
        "colab": {
          "base_uri": "https://localhost:8080/"
        },
        "outputId": "72f6b20a-2500-4b54-fad2-22b56cf26f64",
        "id": "5dgTtQASx90c"
      },
      "execution_count": 1226,
      "outputs": [
        {
          "output_type": "stream",
          "name": "stdout",
          "text": [
            "Accuracy: 0.9813664596273292\n"
          ]
        }
      ]
    },
    {
      "cell_type": "markdown",
      "source": [
        "#Accuracy"
      ],
      "metadata": {
        "id": "DednIna6z9zF"
      }
    },
    {
      "cell_type": "markdown",
      "source": [
        "##RGB"
      ],
      "metadata": {
        "id": "txfn-5vSEQKK"
      }
    },
    {
      "cell_type": "code",
      "source": [
        "print(\"A1 มี Accuracy เท่ากับ:\", metrics.accuracy_score(y_test_A1_RGB, y_pred_A1_RGB))\n",
        "print(\"A2 มี Accuracy เท่ากับ:\", metrics.accuracy_score(y_test_A2_RGB, y_pred_A2_RGB))\n",
        "print(\"A3 มี Accuracy เท่ากับ:\", metrics.accuracy_score(y_test_A3_RGB, y_pred_A3_RGB))\n",
        "print(\"A3.5 มี Accuracy เท่ากับ:\", metrics.accuracy_score(y_test_A3_5_RGB, y_pred_A3_5_RGB))\n",
        "print(\"A4 มี Accuracy เท่ากับ:\", metrics.accuracy_score(y_test_A4_RGB, y_pred_A4_RGB))\n",
        "print(\"B1 มี Accuracy เท่ากับ:\", metrics.accuracy_score(y_test_B1_RGB, y_pred_B1_RGB))\n",
        "print(\"B2 มี Accuracy เท่ากับ:\", metrics.accuracy_score(y_test_B2_RGB, y_pred_B2_RGB))\n",
        "print(\"B3 มี Accuracy เท่ากับ:\", metrics.accuracy_score(y_test_B3_RGB, y_pred_B3_RGB))\n",
        "print(\"B4 มี Accuracy เท่ากับ:\", metrics.accuracy_score(y_test_B4_RGB, y_pred_B4_RGB))\n",
        "print(\"C1 มี Accuracy เท่ากับ:\", metrics.accuracy_score(y_test_C1_RGB, y_pred_C1_RGB))\n",
        "print(\"C2 มี Accuracy เท่ากับ:\", metrics.accuracy_score(y_test_C2_RGB, y_pred_C2_RGB))\n",
        "print(\"C3 มี Accuracy เท่ากับ:\", metrics.accuracy_score(y_test_C3_RGB, y_pred_C3_RGB))\n",
        "print(\"C4 มี Accuracy เท่ากับ:\", metrics.accuracy_score(y_test_C4_RGB, y_pred_C4_RGB))\n",
        "print(\"D2 มี Accuracy เท่ากับ:\", metrics.accuracy_score(y_test_D2_RGB, y_pred_D2_RGB))\n",
        "print(\"D3 มี Accuracy เท่ากับ:\", metrics.accuracy_score(y_test_D3_RGB, y_pred_D3_RGB))\n",
        "print(\"D4 มี Accuracy เท่ากับ:\", metrics.accuracy_score(y_test_D4_RGB, y_pred_D4_RGB))"
      ],
      "metadata": {
        "id": "gAmWj0Tl_8ra",
        "outputId": "cf810566-86fd-4b94-b6b5-6aef6a653c61",
        "colab": {
          "base_uri": "https://localhost:8080/"
        }
      },
      "execution_count": 1227,
      "outputs": [
        {
          "output_type": "stream",
          "name": "stdout",
          "text": [
            "A1 มี Accuracy เท่ากับ: 1.0\n",
            "A2 มี Accuracy เท่ากับ: 0.95625\n",
            "A3 มี Accuracy เท่ากับ: 0.98125\n",
            "A3.5 มี Accuracy เท่ากับ: 0.85\n",
            "A4 มี Accuracy เท่ากับ: 0.71375\n",
            "B1 มี Accuracy เท่ากับ: 0.9788819875776398\n",
            "B2 มี Accuracy เท่ากับ: 1.0\n",
            "B3 มี Accuracy เท่ากับ: 0.9006211180124224\n",
            "B4 มี Accuracy เท่ากับ: 1.0\n",
            "C1 มี Accuracy เท่ากับ: 0.115527950310559\n",
            "C2 มี Accuracy เท่ากับ: 0.9975155279503105\n",
            "C3 มี Accuracy เท่ากับ: 0.901863354037267\n",
            "C4 มี Accuracy เท่ากับ: 0.8732919254658386\n",
            "D2 มี Accuracy เท่ากับ: 1.0\n",
            "D3 มี Accuracy เท่ากับ: 1.0\n",
            "D4 มี Accuracy เท่ากับ: 0.9813664596273292\n"
          ]
        }
      ]
    },
    {
      "cell_type": "markdown",
      "source": [
        "##HSV"
      ],
      "metadata": {
        "id": "F2CX4hhnEhIA"
      }
    },
    {
      "cell_type": "code",
      "source": [
        "print(\"A1 มี Accuracy เท่ากับ:\", metrics.accuracy_score(y_test_A1_HSV, y_pred_A1_HSV))\n",
        "print(\"A2 มี Accuracy เท่ากับ:\", metrics.accuracy_score(y_test_A2_HSV, y_pred_A2_HSV))\n",
        "print(\"A3 มี Accuracy เท่ากับ:\", metrics.accuracy_score(y_test_A3_HSV, y_pred_A3_HSV))\n",
        "print(\"A3.5 มี Accuracy เท่ากับ:\", metrics.accuracy_score(y_test_A3_5_HSV, y_pred_A3_5_HSV))\n",
        "print(\"A4 มี Accuracy เท่ากับ:\", metrics.accuracy_score(y_test_A4_HSV, y_pred_A4_HSV))\n",
        "print(\"B1 มี Accuracy เท่ากับ:\", metrics.accuracy_score(y_test_B1_HSV, y_pred_B1_HSV))\n",
        "print(\"B2 มี Accuracy เท่ากับ:\", metrics.accuracy_score(y_test_B2_HSV, y_pred_B2_HSV))\n",
        "print(\"B3 มี Accuracy เท่ากับ:\", metrics.accuracy_score(y_test_B3_HSV, y_pred_B3_HSV))\n",
        "print(\"B4 มี Accuracy เท่ากับ:\", metrics.accuracy_score(y_test_B4_HSV, y_pred_B4_HSV))\n",
        "print(\"C1 มี Accuracy เท่ากับ:\", metrics.accuracy_score(y_test_C1_HSV, y_pred_C1_HSV))\n",
        "print(\"C2 มี Accuracy เท่ากับ:\", metrics.accuracy_score(y_test_C2_HSV, y_pred_C2_HSV))\n",
        "print(\"C3 มี Accuracy เท่ากับ:\", metrics.accuracy_score(y_test_C3_HSV, y_pred_C3_HSV))\n",
        "print(\"C4 มี Accuracy เท่ากับ:\", metrics.accuracy_score(y_test_C4_HSV, y_pred_C4_HSV))\n",
        "print(\"D2 มี Accuracy เท่ากับ:\", metrics.accuracy_score(y_test_D2_HSV, y_pred_D2_HSV))\n",
        "print(\"D3 มี Accuracy เท่ากับ:\", metrics.accuracy_score(y_test_D3_HSV, y_pred_D3_HSV))\n",
        "print(\"D4 มี Accuracy เท่ากับ:\", metrics.accuracy_score(y_test_D4_HSV, y_pred_D4_HSV))"
      ],
      "metadata": {
        "id": "NofOkqvcEKnU",
        "outputId": "9f637786-f26b-482b-b17b-995af7a87b56",
        "colab": {
          "base_uri": "https://localhost:8080/"
        }
      },
      "execution_count": 1240,
      "outputs": [
        {
          "output_type": "stream",
          "name": "stdout",
          "text": [
            "A1 มี Accuracy เท่ากับ: 1.0\n",
            "A2 มี Accuracy เท่ากับ: 0.0625\n",
            "A3 มี Accuracy เท่ากับ: 0.98125\n",
            "A3.5 มี Accuracy เท่ากับ: 0.77125\n",
            "A4 มี Accuracy เท่ากับ: 0.68875\n",
            "B1 มี Accuracy เท่ากับ: 0.9788819875776398\n",
            "B2 มี Accuracy เท่ากับ: 1.0\n",
            "B3 มี Accuracy เท่ากับ: 0.8795031055900621\n",
            "B4 มี Accuracy เท่ากับ: 0.9465838509316771\n",
            "C1 มี Accuracy เท่ากับ: 0.9204968944099379\n",
            "C2 มี Accuracy เท่ากับ: 0.9962732919254659\n",
            "C3 มี Accuracy เท่ากับ: 0.901863354037267\n",
            "C4 มี Accuracy เท่ากับ: 0.8732919254658386\n",
            "D2 มี Accuracy เท่ากับ: 1.0\n",
            "D3 มี Accuracy เท่ากับ: 1.0\n",
            "D4 มี Accuracy เท่ากับ: 0.9813664596273292\n"
          ]
        }
      ]
    }
  ]
}